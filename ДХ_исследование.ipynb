{
  "metadata": {
    "language_info": {
      "name": ""
    },
    "kernelspec": {
      "name": "python",
      "display_name": "Python (Pyodide)",
      "language": "python"
    },
    "colab": {
      "provenance": []
    }
  },
  "nbformat_minor": 0,
  "nbformat": 4,
  "cells": [
    {
      "cell_type": "markdown",
      "source": [
        "# Описание проекта и задач\n"
      ],
      "metadata": {
        "id": "T78vYMbzu3Zz"
      }
    },
    {
      "cell_type": "markdown",
      "source": [
        "Есть два файла, src_survey и src_OnOff.\n",
        "В таблице src_survey результат опроса респондентов - участников исследования, целью которого является проверка работы оборудования и регистрации респондентов на пиплметре (измерительное устройство для фиксации телесмотрения).\n",
        "В рамках каждой процедуры в одном домохозяйстве (ДХ) проверяется, кто из респондентов находится в комнате с включенным телевизором. В ДХ может быть несколько приборов (телевизоров), могут проживать несколько респондентов. В опросе содержится информация по каждому телевизору и каждому респонденту. Далее, результат опроса сравнивается с данными регистрации респондента на пиплметре во время опроса, результат сравнения фиксируется в таблице (см. описание полей).\n",
        "\n",
        "*Описание полей:*\n",
        "\n",
        "\n",
        "●\tстатус телевизора по утверждению респондента: tv state.\n",
        "\n",
        "●\tразмер ДХ: Кол-во человек в семье 4+.\n",
        "\n",
        "●\tналичие фактической регистрации на пиплметре: see.\n",
        "\n",
        "●\tналичие респондента в комнате с телевизором согласно опросу: display.\n",
        "\n",
        "●\tидентификатор ДХ: passport (PassportNumber в таблице src_OnOff).\n",
        "\n",
        "●\tфактический статус телевизора: DeviceState (ON включен, OFF выключен).\n",
        "\n",
        "●\tидентификатор респондента: button.\n",
        "\n",
        "●\tидентификатор телевизора: unit (UnitNumber в таблице src_OnOff)."
      ],
      "metadata": {
        "id": "PyKSIJZuu-zG"
      }
    },
    {
      "cell_type": "code",
      "source": [
        "import pandas as pd\n",
        "from datetime import datetime\n",
        "#survey = pd.read_excel('src_survey.xlsx')\n",
        "#onoff = pd.read_excel('src_OnOff.xlsx')"
      ],
      "metadata": {
        "id": "YpCBXKWmvVqw"
      },
      "execution_count": null,
      "outputs": []
    },
    {
      "cell_type": "code",
      "source": [
        "survey = pd.read_csv('src_survey.csv', sep=\",\")\n",
        "onoff = pd.read_csv('src_OnOff.csv', sep=\",\")"
      ],
      "metadata": {
        "id": "T9APdY1O4I-3"
      },
      "execution_count": 163,
      "outputs": []
    },
    {
      "cell_type": "code",
      "source": [
        "survey.info()\n",
        "onoff.info()\n",
        "merged.info()"
      ],
      "metadata": {
        "colab": {
          "base_uri": "https://localhost:8080/"
        },
        "id": "XBQNYT9V52tq",
        "outputId": "ded7c669-1b0b-422e-c887-98c4f2f8efa9"
      },
      "execution_count": 190,
      "outputs": [
        {
          "output_type": "stream",
          "name": "stdout",
          "text": [
            "<class 'pandas.core.frame.DataFrame'>\n",
            "RangeIndex: 207 entries, 0 to 206\n",
            "Data columns (total 11 columns):\n",
            " #   Column                     Non-Null Count  Dtype         \n",
            "---  ------                     --------------  -----         \n",
            " 0   code                       207 non-null    int64         \n",
            " 1   passport                   207 non-null    int64         \n",
            " 2   button                     207 non-null    object        \n",
            " 3   tv state                   207 non-null    object        \n",
            " 4   unit                       207 non-null    int64         \n",
            " 5   day                        207 non-null    datetime64[ns]\n",
            " 6   cs_start                   207 non-null    object        \n",
            " 7   cs_finish                  207 non-null    object        \n",
            " 8   see                        207 non-null    object        \n",
            " 9   display                    207 non-null    object        \n",
            " 10  Кол-во человек в семье 4+  207 non-null    int64         \n",
            "dtypes: datetime64[ns](1), int64(4), object(6)\n",
            "memory usage: 17.9+ KB\n",
            "<class 'pandas.core.frame.DataFrame'>\n",
            "RangeIndex: 642134 entries, 0 to 642133\n",
            "Data columns (total 5 columns):\n",
            " #   Column          Non-Null Count   Dtype \n",
            "---  ------          --------------   ----- \n",
            " 0   PassportNumber  642134 non-null  int64 \n",
            " 1   UnitNumber      642134 non-null  int64 \n",
            " 2   DeviceState     642134 non-null  object\n",
            " 3   Begin           642134 non-null  object\n",
            " 4   End             642134 non-null  object\n",
            "dtypes: int64(2), object(3)\n",
            "memory usage: 24.5+ MB\n",
            "<class 'pandas.core.frame.DataFrame'>\n",
            "Int64Index: 9266 entries, 0 to 9265\n",
            "Data columns (total 16 columns):\n",
            " #   Column                     Non-Null Count  Dtype \n",
            "---  ------                     --------------  ----- \n",
            " 0   code                       9266 non-null   int64 \n",
            " 1   passport                   9266 non-null   int64 \n",
            " 2   button                     9266 non-null   object\n",
            " 3   tv state                   9266 non-null   object\n",
            " 4   unit                       9266 non-null   int64 \n",
            " 5   day                        9266 non-null   object\n",
            " 6   cs_start                   9266 non-null   object\n",
            " 7   cs_finish                  9266 non-null   object\n",
            " 8   see                        9266 non-null   object\n",
            " 9   display                    9266 non-null   object\n",
            " 10  Кол-во человек в семье 4+  9266 non-null   int64 \n",
            " 11  PassportNumber             9266 non-null   int64 \n",
            " 12  UnitNumber                 9266 non-null   int64 \n",
            " 13  DeviceState                9266 non-null   object\n",
            " 14  Begin                      9266 non-null   object\n",
            " 15  End                        9266 non-null   object\n",
            "dtypes: int64(6), object(10)\n",
            "memory usage: 1.2+ MB\n"
          ]
        }
      ]
    },
    {
      "cell_type": "code",
      "source": [
        "survey['day'] = pd.to_datetime(survey['day'])"
      ],
      "metadata": {
        "id": "8Cc0LVOVTgTN"
      },
      "execution_count": 186,
      "outputs": []
    },
    {
      "cell_type": "code",
      "source": [
        "survey.head(7)"
      ],
      "metadata": {
        "colab": {
          "base_uri": "https://localhost:8080/",
          "height": 269
        },
        "id": "FyQlkikntcwl",
        "outputId": "01fc3009-627b-412b-b869-d5edf08b8d0a"
      },
      "execution_count": 193,
      "outputs": [
        {
          "output_type": "execute_result",
          "data": {
            "text/plain": [
              "     code  passport button  tv state  unit        day  cs_start cs_finish  \\\n",
              "0  258104   1204558      А  выключен     0 2022-07-02  16:25:18  16:26:09   \n",
              "1  258106   1205697      Б   включён     0 2022-07-02  16:50:18  16:53:17   \n",
              "2  258106   1205697      А   включён     0 2022-07-02  16:50:18  16:53:17   \n",
              "3  258106   1205697      В   включён     0 2022-07-02  16:50:18  16:53:17   \n",
              "4  258109   1206994      А  выключен     1 2022-02-08  03:05:31  03:06:58   \n",
              "5  258109   1206994      А  выключен     0 2022-02-08  03:05:31  03:06:58   \n",
              "6  258110   1208135      А  выключен     2 2022-09-02  14:31:41  14:33:41   \n",
              "\n",
              "               see        display  Кол-во человек в семье 4+  \n",
              "0  нет регистрации  нет в комнате                          1  \n",
              "1  нет регистрации      в комнате                          3  \n",
              "2  нет регистрации  нет в комнате                          3  \n",
              "3  нет регистрации      в комнате                          3  \n",
              "4  нет регистрации  нет в комнате                          1  \n",
              "5  нет регистрации  нет в комнате                          1  \n",
              "6  нет регистрации  нет в комнате                          2  "
            ],
            "text/html": [
              "\n",
              "  <div id=\"df-e830c8cb-82ee-4fb2-af0d-60aad286a5ac\" class=\"colab-df-container\">\n",
              "    <div>\n",
              "<style scoped>\n",
              "    .dataframe tbody tr th:only-of-type {\n",
              "        vertical-align: middle;\n",
              "    }\n",
              "\n",
              "    .dataframe tbody tr th {\n",
              "        vertical-align: top;\n",
              "    }\n",
              "\n",
              "    .dataframe thead th {\n",
              "        text-align: right;\n",
              "    }\n",
              "</style>\n",
              "<table border=\"1\" class=\"dataframe\">\n",
              "  <thead>\n",
              "    <tr style=\"text-align: right;\">\n",
              "      <th></th>\n",
              "      <th>code</th>\n",
              "      <th>passport</th>\n",
              "      <th>button</th>\n",
              "      <th>tv state</th>\n",
              "      <th>unit</th>\n",
              "      <th>day</th>\n",
              "      <th>cs_start</th>\n",
              "      <th>cs_finish</th>\n",
              "      <th>see</th>\n",
              "      <th>display</th>\n",
              "      <th>Кол-во человек в семье 4+</th>\n",
              "    </tr>\n",
              "  </thead>\n",
              "  <tbody>\n",
              "    <tr>\n",
              "      <th>0</th>\n",
              "      <td>258104</td>\n",
              "      <td>1204558</td>\n",
              "      <td>А</td>\n",
              "      <td>выключен</td>\n",
              "      <td>0</td>\n",
              "      <td>2022-07-02</td>\n",
              "      <td>16:25:18</td>\n",
              "      <td>16:26:09</td>\n",
              "      <td>нет регистрации</td>\n",
              "      <td>нет в комнате</td>\n",
              "      <td>1</td>\n",
              "    </tr>\n",
              "    <tr>\n",
              "      <th>1</th>\n",
              "      <td>258106</td>\n",
              "      <td>1205697</td>\n",
              "      <td>Б</td>\n",
              "      <td>включён</td>\n",
              "      <td>0</td>\n",
              "      <td>2022-07-02</td>\n",
              "      <td>16:50:18</td>\n",
              "      <td>16:53:17</td>\n",
              "      <td>нет регистрации</td>\n",
              "      <td>в комнате</td>\n",
              "      <td>3</td>\n",
              "    </tr>\n",
              "    <tr>\n",
              "      <th>2</th>\n",
              "      <td>258106</td>\n",
              "      <td>1205697</td>\n",
              "      <td>А</td>\n",
              "      <td>включён</td>\n",
              "      <td>0</td>\n",
              "      <td>2022-07-02</td>\n",
              "      <td>16:50:18</td>\n",
              "      <td>16:53:17</td>\n",
              "      <td>нет регистрации</td>\n",
              "      <td>нет в комнате</td>\n",
              "      <td>3</td>\n",
              "    </tr>\n",
              "    <tr>\n",
              "      <th>3</th>\n",
              "      <td>258106</td>\n",
              "      <td>1205697</td>\n",
              "      <td>В</td>\n",
              "      <td>включён</td>\n",
              "      <td>0</td>\n",
              "      <td>2022-07-02</td>\n",
              "      <td>16:50:18</td>\n",
              "      <td>16:53:17</td>\n",
              "      <td>нет регистрации</td>\n",
              "      <td>в комнате</td>\n",
              "      <td>3</td>\n",
              "    </tr>\n",
              "    <tr>\n",
              "      <th>4</th>\n",
              "      <td>258109</td>\n",
              "      <td>1206994</td>\n",
              "      <td>А</td>\n",
              "      <td>выключен</td>\n",
              "      <td>1</td>\n",
              "      <td>2022-02-08</td>\n",
              "      <td>03:05:31</td>\n",
              "      <td>03:06:58</td>\n",
              "      <td>нет регистрации</td>\n",
              "      <td>нет в комнате</td>\n",
              "      <td>1</td>\n",
              "    </tr>\n",
              "    <tr>\n",
              "      <th>5</th>\n",
              "      <td>258109</td>\n",
              "      <td>1206994</td>\n",
              "      <td>А</td>\n",
              "      <td>выключен</td>\n",
              "      <td>0</td>\n",
              "      <td>2022-02-08</td>\n",
              "      <td>03:05:31</td>\n",
              "      <td>03:06:58</td>\n",
              "      <td>нет регистрации</td>\n",
              "      <td>нет в комнате</td>\n",
              "      <td>1</td>\n",
              "    </tr>\n",
              "    <tr>\n",
              "      <th>6</th>\n",
              "      <td>258110</td>\n",
              "      <td>1208135</td>\n",
              "      <td>А</td>\n",
              "      <td>выключен</td>\n",
              "      <td>2</td>\n",
              "      <td>2022-09-02</td>\n",
              "      <td>14:31:41</td>\n",
              "      <td>14:33:41</td>\n",
              "      <td>нет регистрации</td>\n",
              "      <td>нет в комнате</td>\n",
              "      <td>2</td>\n",
              "    </tr>\n",
              "  </tbody>\n",
              "</table>\n",
              "</div>\n",
              "    <div class=\"colab-df-buttons\">\n",
              "\n",
              "  <div class=\"colab-df-container\">\n",
              "    <button class=\"colab-df-convert\" onclick=\"convertToInteractive('df-e830c8cb-82ee-4fb2-af0d-60aad286a5ac')\"\n",
              "            title=\"Convert this dataframe to an interactive table.\"\n",
              "            style=\"display:none;\">\n",
              "\n",
              "  <svg xmlns=\"http://www.w3.org/2000/svg\" height=\"24px\" viewBox=\"0 -960 960 960\">\n",
              "    <path d=\"M120-120v-720h720v720H120Zm60-500h600v-160H180v160Zm220 220h160v-160H400v160Zm0 220h160v-160H400v160ZM180-400h160v-160H180v160Zm440 0h160v-160H620v160ZM180-180h160v-160H180v160Zm440 0h160v-160H620v160Z\"/>\n",
              "  </svg>\n",
              "    </button>\n",
              "\n",
              "  <style>\n",
              "    .colab-df-container {\n",
              "      display:flex;\n",
              "      gap: 12px;\n",
              "    }\n",
              "\n",
              "    .colab-df-convert {\n",
              "      background-color: #E8F0FE;\n",
              "      border: none;\n",
              "      border-radius: 50%;\n",
              "      cursor: pointer;\n",
              "      display: none;\n",
              "      fill: #1967D2;\n",
              "      height: 32px;\n",
              "      padding: 0 0 0 0;\n",
              "      width: 32px;\n",
              "    }\n",
              "\n",
              "    .colab-df-convert:hover {\n",
              "      background-color: #E2EBFA;\n",
              "      box-shadow: 0px 1px 2px rgba(60, 64, 67, 0.3), 0px 1px 3px 1px rgba(60, 64, 67, 0.15);\n",
              "      fill: #174EA6;\n",
              "    }\n",
              "\n",
              "    .colab-df-buttons div {\n",
              "      margin-bottom: 4px;\n",
              "    }\n",
              "\n",
              "    [theme=dark] .colab-df-convert {\n",
              "      background-color: #3B4455;\n",
              "      fill: #D2E3FC;\n",
              "    }\n",
              "\n",
              "    [theme=dark] .colab-df-convert:hover {\n",
              "      background-color: #434B5C;\n",
              "      box-shadow: 0px 1px 3px 1px rgba(0, 0, 0, 0.15);\n",
              "      filter: drop-shadow(0px 1px 2px rgba(0, 0, 0, 0.3));\n",
              "      fill: #FFFFFF;\n",
              "    }\n",
              "  </style>\n",
              "\n",
              "    <script>\n",
              "      const buttonEl =\n",
              "        document.querySelector('#df-e830c8cb-82ee-4fb2-af0d-60aad286a5ac button.colab-df-convert');\n",
              "      buttonEl.style.display =\n",
              "        google.colab.kernel.accessAllowed ? 'block' : 'none';\n",
              "\n",
              "      async function convertToInteractive(key) {\n",
              "        const element = document.querySelector('#df-e830c8cb-82ee-4fb2-af0d-60aad286a5ac');\n",
              "        const dataTable =\n",
              "          await google.colab.kernel.invokeFunction('convertToInteractive',\n",
              "                                                    [key], {});\n",
              "        if (!dataTable) return;\n",
              "\n",
              "        const docLinkHtml = 'Like what you see? Visit the ' +\n",
              "          '<a target=\"_blank\" href=https://colab.research.google.com/notebooks/data_table.ipynb>data table notebook</a>'\n",
              "          + ' to learn more about interactive tables.';\n",
              "        element.innerHTML = '';\n",
              "        dataTable['output_type'] = 'display_data';\n",
              "        await google.colab.output.renderOutput(dataTable, element);\n",
              "        const docLink = document.createElement('div');\n",
              "        docLink.innerHTML = docLinkHtml;\n",
              "        element.appendChild(docLink);\n",
              "      }\n",
              "    </script>\n",
              "  </div>\n",
              "\n",
              "\n",
              "<div id=\"df-96a7ea17-1298-4fd0-af12-9e962a47bc9f\">\n",
              "  <button class=\"colab-df-quickchart\" onclick=\"quickchart('df-96a7ea17-1298-4fd0-af12-9e962a47bc9f')\"\n",
              "            title=\"Suggest charts.\"\n",
              "            style=\"display:none;\">\n",
              "\n",
              "<svg xmlns=\"http://www.w3.org/2000/svg\" height=\"24px\"viewBox=\"0 0 24 24\"\n",
              "     width=\"24px\">\n",
              "    <g>\n",
              "        <path d=\"M19 3H5c-1.1 0-2 .9-2 2v14c0 1.1.9 2 2 2h14c1.1 0 2-.9 2-2V5c0-1.1-.9-2-2-2zM9 17H7v-7h2v7zm4 0h-2V7h2v10zm4 0h-2v-4h2v4z\"/>\n",
              "    </g>\n",
              "</svg>\n",
              "  </button>\n",
              "\n",
              "<style>\n",
              "  .colab-df-quickchart {\n",
              "      --bg-color: #E8F0FE;\n",
              "      --fill-color: #1967D2;\n",
              "      --hover-bg-color: #E2EBFA;\n",
              "      --hover-fill-color: #174EA6;\n",
              "      --disabled-fill-color: #AAA;\n",
              "      --disabled-bg-color: #DDD;\n",
              "  }\n",
              "\n",
              "  [theme=dark] .colab-df-quickchart {\n",
              "      --bg-color: #3B4455;\n",
              "      --fill-color: #D2E3FC;\n",
              "      --hover-bg-color: #434B5C;\n",
              "      --hover-fill-color: #FFFFFF;\n",
              "      --disabled-bg-color: #3B4455;\n",
              "      --disabled-fill-color: #666;\n",
              "  }\n",
              "\n",
              "  .colab-df-quickchart {\n",
              "    background-color: var(--bg-color);\n",
              "    border: none;\n",
              "    border-radius: 50%;\n",
              "    cursor: pointer;\n",
              "    display: none;\n",
              "    fill: var(--fill-color);\n",
              "    height: 32px;\n",
              "    padding: 0;\n",
              "    width: 32px;\n",
              "  }\n",
              "\n",
              "  .colab-df-quickchart:hover {\n",
              "    background-color: var(--hover-bg-color);\n",
              "    box-shadow: 0 1px 2px rgba(60, 64, 67, 0.3), 0 1px 3px 1px rgba(60, 64, 67, 0.15);\n",
              "    fill: var(--button-hover-fill-color);\n",
              "  }\n",
              "\n",
              "  .colab-df-quickchart-complete:disabled,\n",
              "  .colab-df-quickchart-complete:disabled:hover {\n",
              "    background-color: var(--disabled-bg-color);\n",
              "    fill: var(--disabled-fill-color);\n",
              "    box-shadow: none;\n",
              "  }\n",
              "\n",
              "  .colab-df-spinner {\n",
              "    border: 2px solid var(--fill-color);\n",
              "    border-color: transparent;\n",
              "    border-bottom-color: var(--fill-color);\n",
              "    animation:\n",
              "      spin 1s steps(1) infinite;\n",
              "  }\n",
              "\n",
              "  @keyframes spin {\n",
              "    0% {\n",
              "      border-color: transparent;\n",
              "      border-bottom-color: var(--fill-color);\n",
              "      border-left-color: var(--fill-color);\n",
              "    }\n",
              "    20% {\n",
              "      border-color: transparent;\n",
              "      border-left-color: var(--fill-color);\n",
              "      border-top-color: var(--fill-color);\n",
              "    }\n",
              "    30% {\n",
              "      border-color: transparent;\n",
              "      border-left-color: var(--fill-color);\n",
              "      border-top-color: var(--fill-color);\n",
              "      border-right-color: var(--fill-color);\n",
              "    }\n",
              "    40% {\n",
              "      border-color: transparent;\n",
              "      border-right-color: var(--fill-color);\n",
              "      border-top-color: var(--fill-color);\n",
              "    }\n",
              "    60% {\n",
              "      border-color: transparent;\n",
              "      border-right-color: var(--fill-color);\n",
              "    }\n",
              "    80% {\n",
              "      border-color: transparent;\n",
              "      border-right-color: var(--fill-color);\n",
              "      border-bottom-color: var(--fill-color);\n",
              "    }\n",
              "    90% {\n",
              "      border-color: transparent;\n",
              "      border-bottom-color: var(--fill-color);\n",
              "    }\n",
              "  }\n",
              "</style>\n",
              "\n",
              "  <script>\n",
              "    async function quickchart(key) {\n",
              "      const quickchartButtonEl =\n",
              "        document.querySelector('#' + key + ' button');\n",
              "      quickchartButtonEl.disabled = true;  // To prevent multiple clicks.\n",
              "      quickchartButtonEl.classList.add('colab-df-spinner');\n",
              "      try {\n",
              "        const charts = await google.colab.kernel.invokeFunction(\n",
              "            'suggestCharts', [key], {});\n",
              "      } catch (error) {\n",
              "        console.error('Error during call to suggestCharts:', error);\n",
              "      }\n",
              "      quickchartButtonEl.classList.remove('colab-df-spinner');\n",
              "      quickchartButtonEl.classList.add('colab-df-quickchart-complete');\n",
              "    }\n",
              "    (() => {\n",
              "      let quickchartButtonEl =\n",
              "        document.querySelector('#df-96a7ea17-1298-4fd0-af12-9e962a47bc9f button');\n",
              "      quickchartButtonEl.style.display =\n",
              "        google.colab.kernel.accessAllowed ? 'block' : 'none';\n",
              "    })();\n",
              "  </script>\n",
              "</div>\n",
              "    </div>\n",
              "  </div>\n"
            ]
          },
          "metadata": {},
          "execution_count": 193
        }
      ]
    },
    {
      "cell_type": "code",
      "source": [
        "print(onoff.DeviceState.unique())"
      ],
      "metadata": {
        "colab": {
          "base_uri": "https://localhost:8080/"
        },
        "id": "erYLx71j_Ca2",
        "outputId": "80ceb1eb-0d13-4b2d-8e51-14ba84671849"
      },
      "execution_count": 194,
      "outputs": [
        {
          "output_type": "stream",
          "name": "stdout",
          "text": [
            "['OFF' 'ON' 'D' 'U']\n"
          ]
        }
      ]
    },
    {
      "cell_type": "code",
      "source": [
        "values = ['D','U']\n",
        "#удаляем строчки с непонятными значениями 'D' ,'U'\n",
        "onoff_new = onoff[onoff.DeviceState.isin (values) == False ]\n",
        "print(onoff_new.DeviceState.unique())"
      ],
      "metadata": {
        "colab": {
          "base_uri": "https://localhost:8080/"
        },
        "id": "2ZQiCujTD4Xc",
        "outputId": "3de2b43a-b5f5-472c-ba8c-fffada64e203"
      },
      "execution_count": 195,
      "outputs": [
        {
          "output_type": "stream",
          "name": "stdout",
          "text": [
            "['OFF' 'ON']\n"
          ]
        }
      ]
    },
    {
      "cell_type": "code",
      "source": [
        "#Объединяем два набора данных по общему ключу (passport, unit)\n",
        "merged = pd.merge(survey, onoff_new, left_on=['passport', 'unit'], right_on=['PassportNumber', 'UnitNumber'])\n",
        "#print(merged)\n",
        "merged.to_csv('merged.csv', index=False)"
      ],
      "metadata": {
        "id": "_FQDA_LiFAf-"
      },
      "execution_count": 196,
      "outputs": []
    },
    {
      "cell_type": "code",
      "source": [
        "#Вычисляем количество ситуаций, когда прибор фактически выключен, а респондент утверждает, что включен\n",
        "situation1 = merged[(merged['DeviceState'] == 'OFF') & (merged['tv state'] == 'включён')].shape[0]\n",
        "#print(situation1)\n",
        "\n",
        "#Вычисляем количество ситуаций, когда прибор фактически включен, а респондент утверждает, что выключен\n",
        "situation2 = merged[(merged['DeviceState'] == 'ON') & (merged['tv state'] == 'выключен')].shape[0]\n",
        "#print(situation2)\n",
        "\n",
        "#Вычисляем общее количество ситуаций\n",
        "total = merged.shape[0]\n",
        "print(\"Общее количество ситуаций: \", total)"
      ],
      "metadata": {
        "colab": {
          "base_uri": "https://localhost:8080/"
        },
        "id": "ENi6V-z64ecn",
        "outputId": "e6109732-b764-4f2c-c303-f162a46665b8"
      },
      "execution_count": 198,
      "outputs": [
        {
          "output_type": "stream",
          "name": "stdout",
          "text": [
            "Общее количество ситуаций:  9266\n"
          ]
        }
      ]
    },
    {
      "cell_type": "code",
      "source": [
        "#Вычисляем проценты для каждой ситуации\n",
        "percentage1 = round(situation1 / total * 100, 2)\n",
        "percentage2 = round(situation2 / total * 100, 2)"
      ],
      "metadata": {
        "id": "oRyzXqr54kx3"
      },
      "execution_count": 200,
      "outputs": []
    },
    {
      "cell_type": "code",
      "source": [
        "#Выводим результаты анализа\n",
        "print(f'Количество ситуаций, когда прибор фактически выключен, а респондент утверждает, что включен: {situation1} ({percentage1}%)')\n",
        "print(f'Количество ситуаций, когда прибор фактически включен, а респондент утверждает, что выключен: {situation2} ({percentage2}%)')"
      ],
      "metadata": {
        "colab": {
          "base_uri": "https://localhost:8080/"
        },
        "id": "Hoe--zlB40Qx",
        "outputId": "20f29bbb-f450-4a66-df65-b0126aca1e4e"
      },
      "execution_count": 201,
      "outputs": [
        {
          "output_type": "stream",
          "name": "stdout",
          "text": [
            "Количество ситуаций, когда прибор фактически выключен, а респондент утверждает, что включен: 1420 (15.32%)\n",
            "Количество ситуаций, когда прибор фактически включен, а респондент утверждает, что выключен: 2834 (30.58%)\n"
          ]
        }
      ]
    },
    {
      "cell_type": "code",
      "source": [
        "#Выделяем ДХ с размером более 1 человека\n",
        "households = merged[merged['Кол-во человек в семье 4+'] > 1]\n",
        "#print(households)"
      ],
      "metadata": {
        "id": "lAZasDZl49N7"
      },
      "execution_count": 202,
      "outputs": []
    },
    {
      "cell_type": "code",
      "source": [
        "#Выделяем ситуации 3.Выделить ДХ с размером более 1 человека, среди них ситуации, телевизор фактически включен, респондент по данным опроса находится в комнате с включенным телевизором,\n",
        "# регистрации нет, а у других респондентов в этом ДХ регистрация на этом телевизоре есть. Необходимо сгруппировать результат в зависимости от размера ДХ.\n",
        "situation3 = households[(households['DeviceState'] == 'ON') & (households['display'] == 'в комнате') & (households['see'] == 'нет регистрации')]\n",
        "#print(situation3)"
      ],
      "metadata": {
        "id": "qpFZKdfQ5ChO"
      },
      "execution_count": 203,
      "outputs": []
    },
    {
      "cell_type": "code",
      "source": [
        "#Группируем результат по размеру ДХ\n",
        "grouped = situation3.groupby('Кол-во человек в семье 4+').size()\n",
        "#Выводим результаты анализа\n",
        "print('Количество ситуаций по размеру ДХ:')\n",
        "print(grouped)"
      ],
      "metadata": {
        "colab": {
          "base_uri": "https://localhost:8080/"
        },
        "id": "pqBpeOgY5G1F",
        "outputId": "7d6476dd-6606-4d44-af71-811fe2b3d0c0"
      },
      "execution_count": 204,
      "outputs": [
        {
          "output_type": "stream",
          "name": "stdout",
          "text": [
            "Количество ситуаций по размеру ДХ:\n",
            "Кол-во человек в семье 4+\n",
            "2    63\n",
            "3    34\n",
            "4    18\n",
            "dtype: int64\n"
          ]
        }
      ]
    },
    {
      "cell_type": "markdown",
      "source": [
        "Выводы:\n",
        "\n",
        "•  Есть  несоответствие между утверждениями респондентов и фактическим состоянием приборов. Это может быть связано с ошибками в опросе, неправильным пониманием вопросов или введением в заблуждение исследователей.\n",
        "\n",
        "•  Есть ситуации, когда респондент находится в комнате с включенным телевизором, но не зарегистрирован на пиплметре, в то время как другие респонденты из того же ДХ зарегистрированы. Это может быть связано с техническими проблемами пиплметра, неправильным использованием кнопки или нежеланием респондента участвовать в исследовании.\n",
        "\n",
        "•  Больше всего таких ситуаций происходит в ДХ с двумя членами. Это может быть объяснено тем, что в таких ДХ меньше контроля за поведением респондентов или больше вероятность того, что они будут находиться в одной комнате с одним телевизором.\n",
        "\n",
        "*   **Количество** ситуаций, когда прибор фактически выключен, а респондент\n",
        "утверждает, что включен: 1420 (15.32%).\n",
        "*   *Количество* ситуаций, когда прибор фактически включен, а респондент утверждает, что выключен: 2834 (30.58%)\n",
        "*   *Количество* ситуаций по размеру ДХ:\n",
        "Кол-во человек в семье 4+: 2 чел: 63 ситуации, 3 чел.: 34 ситуации, 4: 18 ситуации.\n"
      ],
      "metadata": {
        "id": "Ex21fZq-Oc6A"
      }
    }
  ]
}
