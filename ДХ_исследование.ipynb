{
  "metadata": {
    "language_info": {
      "name": ""
    },
    "kernelspec": {
      "name": "python",
      "display_name": "Python (Pyodide)",
      "language": "python"
    }
  },
  "nbformat_minor": 4,
  "nbformat": 4,
  "cells": [
    {
      "cell_type": "code",
      "source": "import pandas as pd\nsurvey = pd.read_excel('src_survey.xlsx')\nonoff = pd.read_excel('src_OnOff.xlsx')",
      "metadata": {
        "trusted": true
      },
      "execution_count": null,
      "outputs": []
    },
    {
      "cell_type": "code",
      "source": "#Объединяем два DataFrame по общему ключу (passport, unit)#\nmerged = pd.merge(survey, onoff, left_on=['passport', 'unit'], right_on=['PassportNumber', 'UnitNumber'])\nprint(merged)",
      "metadata": {
        "trusted": true
      },
      "execution_count": null,
      "outputs": []
    },
    {
      "cell_type": "code",
      "source": "pd.to_numeric(merged['see'], errors='ignore')",
      "metadata": {
        "trusted": true
      },
      "execution_count": null,
      "outputs": []
    },
    {
      "cell_type": "code",
      "source": "#Вычисляем количество ситуаций, когда прибор фактически выключен, а респондент утверждает, что включен\nsituation1 = merged[(merged['DeviceState'] == 'OFF') & (merged['tv state'] == 'включён')].shape[0]\nprint(situation1)",
      "metadata": {
        "trusted": true
      },
      "execution_count": null,
      "outputs": []
    },
    {
      "cell_type": "code",
      "source": "#Вычисляем количество ситуаций, когда прибор фактически включен, а респондент утверждает, что выключен\nsituation2 = merged[(merged['DeviceState'] == 'ON') & (merged['tv state'] == 'выключен')].shape[0]\nprint(situation2)",
      "metadata": {
        "trusted": true
      },
      "execution_count": null,
      "outputs": []
    },
    {
      "cell_type": "code",
      "source": "#Вычисляем общее количество ситуаций\ntotal = merged.shape[0]\nprint(total)",
      "metadata": {
        "trusted": true
      },
      "execution_count": null,
      "outputs": []
    },
    {
      "cell_type": "code",
      "source": "#Вычисляем проценты для каждой ситуации\npercentage1 = round(situation1 / total * 100, 2)\npercentage2 = round(situation2 / total * 100, 2)",
      "metadata": {
        "trusted": true
      },
      "execution_count": null,
      "outputs": []
    },
    {
      "cell_type": "code",
      "source": "#Выводим результаты анализа\nprint(f'Количество ситуаций, когда прибор фактически выключен, а респондент утверждает, что включен: {situation1} ({percentage1}%)')\nprint(f'Количество ситуаций, когда прибор фактически включен, а респондент утверждает, что выключен: {situation2} ({percentage2}%)')",
      "metadata": {
        "trusted": true
      },
      "execution_count": null,
      "outputs": []
    },
    {
      "cell_type": "code",
      "source": "#Выделяем ДХ с размером более 1 человека\nhouseholds = merged[merged['Кол-во человек в семье 4+'] > 1]\nprint(households)",
      "metadata": {
        "trusted": true
      },
      "execution_count": null,
      "outputs": []
    },
    {
      "cell_type": "code",
      "source": "#Выделяем ситуации 3.Выделить ДХ с размером более 1 человека, среди них ситуации, телевизор фактически включен, респондент по данным опроса находится в комнате с включенным телевизором,\n# регистрации нет, а у других респондентов в этом ДХ регистрация на этом телевизоре есть. Необходимо сгруппировать результат в зависимости от размера ДХ.\nsituation3 = households[(households['DeviceState'] == 'ON') & (households['display'] == 'в комнате') & (households['see'] == 'нет регистрации')]\nprint(situation3)",
      "metadata": {
        "trusted": true
      },
      "execution_count": null,
      "outputs": []
    },
    {
      "cell_type": "code",
      "source": "#Группируем результат по размеру ДХ\ngrouped = situation3.groupby('Кол-во человек в семье 4+').size()\n#Выводим результаты анализа\nprint(f'Количество ситуаций по размеру ДХ:')\nprint(grouped)",
      "metadata": {
        "trusted": true
      },
      "execution_count": null,
      "outputs": []
    },
    {
      "cell_type": "markdown",
      "source": "Выводы:\n\n•  Из результатов видно, что есть некоторое несоответствие между утверждениями респондентов и фактическим состоянием приборов. Это может быть связано с ошибками в опросе, неправильным пониманием вопросов или введением в заблуждение исследователей.\n\n•  Есть ситуации, когда респондент находится в комнате с включенным телевизором, но не зарегистрирован на пиплметре, в то время как другие респонденты из того же ДХ зарегистрированы. Это может быть связано с техническими проблемами пиплметра, неправильным использованием кнопки или нежеланием респондента участвовать в исследовании.\n\n•  Больше всего таких ситуаций происходит в ДХ с двумя членами. Это может быть объяснено тем, что в таких ДХ меньше контроля за поведением респондентов или больше вероятность того, что они будут находиться в одной комнате с одним телевизором.\n",
      "metadata": {}
    }
  ]
}