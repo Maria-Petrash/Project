{
 "cells": [
  {
   "cell_type": "markdown",
   "metadata": {
    "cellId": "26p7lqteqsjro0m3el3sf",
    "deletable": false,
    "editable": false,
    "id": "E0vqbgi9ay0H"
   },
   "source": [
    "# Яндекс Музыка"
   ]
  },
  {
   "cell_type": "markdown",
   "metadata": {
    "cellId": "3sf7djprwlsvj64yjtxqke",
    "deletable": false,
    "editable": false,
    "id": "VUC88oWjTJw2"
   },
   "source": [
    "Сравнение Москвы и Петербурга окружено мифами. Например:\n",
    " * Москва — мегаполис, подчинённый жёсткому ритму рабочей недели;\n",
    " * Петербург — культурная столица, со своими вкусами.\n",
    "\n",
    "На данных Яндекс Музыки вы сравните поведение пользователей двух столиц.\n",
    "\n",
    "**Цель исследования** — проверьте три гипотезы:\n",
    "1. Активность пользователей зависит от дня недели. Причём в Москве и Петербурге это проявляется по-разному.\n",
    "2. В понедельник утром в Москве преобладают одни жанры, а в Петербурге — другие. Так же и вечером пятницы преобладают разные жанры — в зависимости от города. \n",
    "3. Москва и Петербург предпочитают разные жанры музыки. В Москве чаще слушают поп-музыку, в Петербурге — русский рэп.\n",
    "\n",
    "**Ход исследования**\n",
    "\n",
    "Данные о поведении пользователей вы получите из файла `yandex_music_project.csv`. О качестве данных ничего не известно. Поэтому перед проверкой гипотез понадобится обзор данных. \n",
    "\n",
    "Вы проверите данные на ошибки и оцените их влияние на исследование. Затем, на этапе предобработки вы поищете возможность исправить самые критичные ошибки данных.\n",
    " \n",
    "Таким образом, исследование пройдёт в три этапа:\n",
    " 1. Обзор данных.\n",
    " 2. Предобработка данных.\n",
    " 3. Проверка гипотез.\n",
    "\n"
   ]
  },
  {
   "cell_type": "markdown",
   "metadata": {
    "cellId": "e4w9sii07v6n2dk0do3wxc",
    "deletable": false,
    "editable": false,
    "id": "Ml1hmfXC_Zcs"
   },
   "source": [
    "## Обзор данных\n",
    "\n",
    "Составьте первое представление о данных Яндекс Музыки.\n",
    "\n",
    "\n"
   ]
  },
  {
   "cell_type": "markdown",
   "metadata": {
    "cellId": "y3e2cnq7alppn40gf6g",
    "deletable": false,
    "editable": false,
    "id": "57eAOGIz_Zcs",
    "tags": [
     "start_task"
    ]
   },
   "source": [
    "**Задание 1**\n",
    "\n",
    "Основной инструмент аналитика — `pandas`. Импортируйте эту библиотеку."
   ]
  },
  {
   "cell_type": "code",
   "execution_count": 1,
   "metadata": {
    "cellId": "aedcn02fi5cl0mx2q64t6",
    "deletable": false,
    "id": "AXN7PHPN_Zcs"
   },
   "outputs": [],
   "source": [
    "import pandas as pd # импорт библиотеки pandas"
   ]
  },
  {
   "cell_type": "markdown",
   "metadata": {
    "cellId": "gd22bjiynfkzhe1czkthid",
    "deletable": false,
    "editable": false,
    "id": "SG23P8tt_Zcs",
    "tags": [
     "start_task"
    ]
   },
   "source": [
    "**Задание 2**\n",
    "\n",
    "Прочитайте файл `yandex_music_project.csv` из папки `/datasets` и сохраните его в переменной `df`:"
   ]
  },
  {
   "cell_type": "code",
   "execution_count": 2,
   "metadata": {
    "cellId": "dh7xffqghegj7v5cp6dq3",
    "deletable": false,
    "id": "fFVu7vqh_Zct"
   },
   "outputs": [],
   "source": [
    "df = pd.read_csv('/datasets/yandex_music_project.csv')# чтение файла с данными и сохранение в df"
   ]
  },
  {
   "cell_type": "markdown",
   "metadata": {
    "cellId": "sqjb8dc72qq5km4czrjx",
    "deletable": false,
    "editable": false,
    "id": "rDoOMd3uTqnZ",
    "tags": [
     "start_task"
    ]
   },
   "source": [
    "**Задание 3**\n",
    "\n",
    "\n",
    "Выведите на экран первые десять строк таблицы:"
   ]
  },
  {
   "cell_type": "code",
   "execution_count": 3,
   "metadata": {
    "cellId": "itxjc8439zjnnhgcshc1zq",
    "deletable": false,
    "id": "oWTVX3gW_Zct"
   },
   "outputs": [],
   "source": [
    "print(df.head(10))# получение первых 10 строк таблицы df"
   ]
  },
  {
   "cell_type": "markdown",
   "metadata": {
    "cellId": "rirtmkpnzpnkv2bnhcj9e",
    "deletable": false,
    "editable": false,
    "id": "EO73Kwic_Zct",
    "tags": [
     "start_task"
    ]
   },
   "source": [
    "**Задание 4**\n",
    "\n",
    "\n",
    "Одной командой получить общую информацию о таблице c помощью метода `info()`:"
   ]
  },
  {
   "cell_type": "code",
   "execution_count": null,
   "metadata": {
    "cellId": "073g8mti6tpt02j30jcskpfz",
    "deletable": false,
    "id": "DSf2kIb-_Zct"
   },
   "outputs": [],
   "source": [
    "df.info()# получение общей информации о данных в таблице df"
   ]
  },
  {
   "cell_type": "markdown",
   "metadata": {
    "cellId": "5nihpp686ltwsqb2488ewc",
    "deletable": false,
    "editable": false,
    "id": "TaQ2Iwbr_Zct"
   },
   "source": [
    "Итак, в таблице семь столбцов. Тип данных во всех столбцах — `object`.\n",
    "\n",
    "Согласно документации к данным:\n",
    "* `userID` — идентификатор пользователя;\n",
    "* `Track` — название трека;  \n",
    "* `artist` — имя исполнителя;\n",
    "* `genre` — название жанра;\n",
    "* `City` — город пользователя;\n",
    "* `time` — время начала прослушивания;\n",
    "* `Day` — день недели.\n",
    "\n",
    "Количество значений в столбцах различается. Значит, в данных есть пропущенные значения."
   ]
  },
  {
   "cell_type": "markdown",
   "metadata": {
    "cellId": "bvpjb7wnczzdcijkm2lq",
    "deletable": false,
    "editable": false,
    "id": "rAfziTBDmf2h",
    "tags": [
     "start_task"
    ]
   },
   "source": [
    "**Задание 5**\n",
    "\n",
    "**Вопрос со свободной формой ответа**\n",
    "\n",
    "В названиях колонок видны нарушения стиля:\n",
    "* Строчные буквы сочетаются с прописными.\n",
    "* Встречаются пробелы.\n",
    "\n",
    "Какое третье нарушение?"
   ]
  },
  {
   "cell_type": "code",
   "execution_count": null,
   "metadata": {
    "cellId": "5jeekpxa4wnv34l9fi93k",
    "id": "jD8EXEIvmf2h"
   },
   "outputs": [],
   "source": [
    "# Недостает символа: нижний слеш / «_» ( user_id). Напишите ваш ответ здесь комментарием. Не удаляйте символ #. Не меняйте тип этой ячейки на Markdown."
   ]
  },
  {
   "cell_type": "markdown",
   "metadata": {
    "cellId": "57yapki3rh5jihscfkk24l",
    "deletable": false,
    "editable": false,
    "id": "MCB6-dXG_Zct"
   },
   "source": [
    "**Выводы**\n",
    "\n",
    "В каждой строке таблицы — данные о прослушанном треке. Часть колонок описывает саму композицию: название, исполнителя и жанр. Остальные данные рассказывают о пользователе: из какого он города, когда он слушал музыку. \n",
    "\n",
    "Предварительно можно утверждать, что данных достаточно для проверки гипотез. Но встречаются пропуски в данных, а в названиях колонок — расхождения с хорошим стилем.\n",
    "\n",
    "Чтобы двигаться дальше, нужно устранить проблемы в данных."
   ]
  },
  {
   "cell_type": "markdown",
   "metadata": {
    "cellId": "yfhsob8nwy9ywrfjs69ca",
    "deletable": false,
    "editable": false,
    "id": "SjYF6Ub9_Zct"
   },
   "source": [
    "## Предобработка данных\n",
    "Исправьте стиль в заголовках столбцов, исключите пропуски. Затем проверьте данные на дубликаты."
   ]
  },
  {
   "cell_type": "markdown",
   "metadata": {
    "cellId": "v87b8sszhsprerc200do",
    "deletable": false,
    "editable": false,
    "id": "dIaKXr29_Zct",
    "tags": [
     "start_task"
    ]
   },
   "source": [
    "### Стиль заголовков\n",
    "\n",
    "**Задание 6**\n",
    "\n",
    "Выведите на экран названия столбцов:"
   ]
  },
  {
   "cell_type": "code",
   "execution_count": null,
   "metadata": {
    "cellId": "i7t0sis2f5cc0b4e9lbbve",
    "deletable": false,
    "id": "oKOTdF_Q_Zct"
   },
   "outputs": [],
   "source": [
    "print(df.columns)# перечень названий столбцов таблицы df"
   ]
  },
  {
   "cell_type": "markdown",
   "metadata": {
    "cellId": "wl1spxshvsm69whxzi3c",
    "deletable": false,
    "editable": false,
    "id": "zj5534cv_Zct",
    "tags": [
     "start_task"
    ]
   },
   "source": [
    "**Задание 7**\n",
    "\n",
    "\n",
    "Приведите названия в соответствие с хорошим стилем:\n",
    "* несколько слов в названии запишите в «змеином_регистре»,\n",
    "* все символы сделайте строчными,\n",
    "* устраните пробелы.\n",
    "\n",
    "Для этого переименуйте колонки так:\n",
    "* `'  userID'` → `'user_id'`;\n",
    "* `'Track'` → `'track'`;\n",
    "* `'  City  '` → `'city'`;\n",
    "* `'Day'` → `'day'`."
   ]
  },
  {
   "cell_type": "code",
   "execution_count": 123,
   "metadata": {
    "cellId": "bti204sctrljj5vp75f2l",
    "deletable": false,
    "id": "ISlFqs5y_Zct"
   },
   "outputs": [],
   "source": [
    "df=df.rename(columns={'  userID': 'user_id', \n",
    "'Track': 'track',\n",
    "'  City  ': 'city',\n",
    "'Day': 'day'})\n",
    "\n",
    "# переименование столбцов"
   ]
  },
  {
   "cell_type": "markdown",
   "metadata": {
    "cellId": "e5j2q5x6urbaxgbnqz4g1h",
    "deletable": false,
    "editable": false,
    "id": "1dqbh00J_Zct",
    "tags": [
     "start_task"
    ]
   },
   "source": [
    "**Задание 8**\n",
    "\n",
    "\n",
    "Проверьте результат. Для этого ещё раз выведите на экран названия столбцов:"
   ]
  },
  {
   "cell_type": "code",
   "execution_count": 124,
   "metadata": {
    "cellId": "vaegvxgxysllq88hy8pz9",
    "deletable": false,
    "id": "d4NOAmTW_Zct"
   },
   "outputs": [],
   "source": [
    "print(df.columns)# проверка результатов - перечень названий столбцов"
   ]
  },
  {
   "cell_type": "markdown",
   "metadata": {
    "cellId": "jns2c9v0m3um87x1carf",
    "deletable": false,
    "editable": false,
    "id": "5ISfbcfY_Zct",
    "tags": [
     "start_task"
    ]
   },
   "source": [
    "### Пропуски значений\n",
    "\n",
    "**Задание 9**\n",
    "\n",
    "Сначала посчитайте, сколько в таблице пропущенных значений. Для этого достаточно двух методов `pandas`:"
   ]
  },
  {
   "cell_type": "code",
   "execution_count": null,
   "metadata": {
    "cellId": "8n3u8n9rngw8grr282bbdf",
    "deletable": false,
    "id": "RskX29qr_Zct"
   },
   "outputs": [],
   "source": [
    "df.isna().sum()# подсчёт пропусков"
   ]
  },
  {
   "cell_type": "markdown",
   "metadata": {
    "cellId": "uo250884o3elk3ozan3svf",
    "deletable": false,
    "editable": false,
    "id": "qubhgnlO_Zct"
   },
   "source": [
    "Не все пропущенные значения влияют на исследование. Так в `track` и `artist` пропуски не важны для вашей работы. Достаточно заменить их явными обозначениями.\n",
    "\n",
    "Но пропуски в `genre` могут помешать сравнению музыкальных вкусов в Москве и Санкт-Петербурге. На практике было бы правильно установить причину пропусков и восстановить данные. Такой возможности нет в учебном проекте. Придётся:\n",
    "* заполнить и эти пропуски явными обозначениями;\n",
    "* оценить, насколько они повредят расчётам. "
   ]
  },
  {
   "cell_type": "markdown",
   "metadata": {
    "cellId": "ewshaijhztptbv7m9wlgdq",
    "deletable": false,
    "editable": false,
    "id": "fSv2laPA_Zct",
    "tags": [
     "start_task"
    ]
   },
   "source": [
    "**Задание 10**\n",
    "\n",
    "Замените пропущенные значения в столбцах `track`, `artist` и `genre` на строку `'unknown'`. Для этого создайте список `columns_to_replace`, переберите его элементы циклом `for` и для каждого столбца выполните замену пропущенных значений:"
   ]
  },
  {
   "cell_type": "code",
   "execution_count": null,
   "metadata": {
    "cellId": "dgflhlkc7zip8uljere93",
    "deletable": false,
    "id": "KplB5qWs_Zct"
   },
   "outputs": [],
   "source": [
    "columns_to_replace = ['track', 'artist', 'genre']\n",
    "for column in columns_to_replace:\n",
    "    df[column] = df[column].fillna('unknown')\n",
    "\n",
    "# перебор названий столбцов в цикле и замена пропущенных значений на 'unknown'"
   ]
  },
  {
   "cell_type": "markdown",
   "metadata": {
    "cellId": "x2c85prqv3qulkwb8xrdhm",
    "deletable": false,
    "editable": false,
    "id": "Ilsm-MZo_Zct",
    "tags": [
     "start_task"
    ]
   },
   "source": [
    "**Задание 11**\n",
    "\n",
    "Убедитесь, что в таблице не осталось пропусков. Для этого ещё раз посчитайте пропущенные значения."
   ]
  },
  {
   "cell_type": "code",
   "execution_count": null,
   "metadata": {
    "cellId": "cvwes0q84q85mr7wnwc88j",
    "deletable": false,
    "id": "Tq4nYRX4_Zct"
   },
   "outputs": [],
   "source": [
    "df.isna().sum()# подсчёт пропусков"
   ]
  },
  {
   "cell_type": "markdown",
   "metadata": {
    "cellId": "l3nkl6i4denaypdcav8gl9",
    "deletable": false,
    "editable": false,
    "id": "BWKRtBJ3_Zct",
    "tags": [
     "start_task"
    ]
   },
   "source": [
    "### Дубликаты\n",
    "\n",
    "**Задание 12**\n",
    "\n",
    "Посчитайте явные дубликаты в таблице одной командой:"
   ]
  },
  {
   "cell_type": "code",
   "execution_count": null,
   "metadata": {
    "cellId": "jgiofjzhmb803xdhuzgbxe4",
    "deletable": false,
    "id": "36eES_S0_Zct"
   },
   "outputs": [],
   "source": [
    "df.duplicated().sum()# подсчёт явных дубликатов"
   ]
  },
  {
   "cell_type": "markdown",
   "metadata": {
    "cellId": "wwk3kvx10p7ms2ttfthjr",
    "deletable": false,
    "editable": false,
    "id": "Ot25h6XR_Zct",
    "tags": [
     "start_task"
    ]
   },
   "source": [
    "**Задание 13**\n",
    "\n",
    "Вызовите специальный метод `pandas`, чтобы удалить явные дубликаты:"
   ]
  },
  {
   "cell_type": "code",
   "execution_count": null,
   "metadata": {
    "cellId": "9fjcfm7yr246pozfk5ztj",
    "deletable": false,
    "id": "exFHq6tt_Zct"
   },
   "outputs": [],
   "source": [
    "df.drop_duplicates(inplace=True)# удаление явных дубликатов"
   ]
  },
  {
   "cell_type": "markdown",
   "metadata": {
    "cellId": "dvno7l97x1wi3jkkv9qie",
    "deletable": false,
    "editable": false,
    "id": "Im2YwBEG_Zct",
    "tags": [
     "start_task"
    ]
   },
   "source": [
    "**Задание 14**\n",
    "\n",
    "Ещё раз посчитайте явные дубликаты в таблице — убедитесь, что полностью от них избавились:"
   ]
  },
  {
   "cell_type": "code",
   "execution_count": 125,
   "metadata": {
    "cellId": "ckid6ym76oncb5nopuyr5r",
    "deletable": false,
    "id": "-8PuNWQ0_Zct"
   },
   "outputs": [],
   "source": [
    "df.duplicated().sum()# проверка на отсутствие дубликатов"
   ]
  },
  {
   "cell_type": "markdown",
   "metadata": {
    "cellId": "wywpbdyx5tlbyjqbqyi77n",
    "deletable": false,
    "editable": false,
    "id": "QlFBsxAr_Zct"
   },
   "source": [
    "Теперь избавьтесь от неявных дубликатов в колонке `genre`. Например, название одного и того же жанра может быть записано немного по-разному. Такие ошибки тоже повлияют на результат исследования."
   ]
  },
  {
   "cell_type": "markdown",
   "metadata": {
    "cellId": "9odc7wr6p5xvf9r1w5ph",
    "deletable": false,
    "editable": false,
    "id": "eSjWwsOh_Zct",
    "tags": [
     "start_task"
    ]
   },
   "source": [
    "**Задание 15**\n",
    "\n",
    "Выведите на экран список уникальных названий жанров, отсортированный в алфавитном порядке. Для этого:\n",
    "1. извлеките нужный столбец датафрейма; \n",
    "2. примените к нему метод сортировки;\n",
    "3. для отсортированного столбца вызовите метод, который вернёт уникальные значения из столбца."
   ]
  },
  {
   "cell_type": "code",
   "execution_count": 43,
   "metadata": {
    "cellId": "gr6ib1eobwjzkwwvghl05",
    "deletable": false,
    "id": "JIUcqzZN_Zct"
   },
   "outputs": [],
   "source": [
    "series_genre = df['genre']\n",
    "series_genre=series_genre.sort_values(ascending=True)\n",
    "series_genre=series_genre.unique()\n",
    "print(series_genre)"
   ]
  },
  {
   "cell_type": "markdown",
   "metadata": {
    "cellId": "t4jx5jzzous6tva71kezlm",
    "deletable": false,
    "editable": false,
    "id": "qej-Qmuo_Zct",
    "tags": [
     "start_task"
    ]
   },
   "source": [
    "**Задание 16**\n",
    "\n",
    "Просмотрите список и найдите неявные дубликаты названия `hiphop`. Это могут быть названия с ошибками или альтернативные названия того же жанра.\n",
    "\n",
    "Вы увидите следующие неявные дубликаты:\n",
    "* *hip*,\n",
    "* *hop*,\n",
    "* *hip-hop*.\n",
    "\n",
    "Чтобы очистить от них таблицу используйте метод `replace()` с двумя аргументами: списком строк-дубликатов (включащий *hip*, *hop* и *hip-hop*) и строкой с правильным значением. Вам нужно исправить колонку `genre` в таблице `df`: заменить каждое значение из списка дубликатов на верное. Вместо `hip`, `hop` и `hip-hop` в таблице должно быть значение `hiphop`:"
   ]
  },
  {
   "cell_type": "code",
   "execution_count": 127,
   "metadata": {
    "cellId": "ifo402xe288qbtinu4d0qm",
    "deletable": false,
    "id": "ErNDkmns_Zct"
   },
   "outputs": [],
   "source": [
    "duplicates = ['hip','hop','hip-hop'] # список неправильных имён\n",
    "hiphop_new_name = 'hiphop' # правильное имя\n",
    "\n",
    "df['genre'] = df['genre'].replace(duplicates, hiphop_new_name)\n",
    "#print(df['genre'])"
   ]
  },
  {
   "cell_type": "markdown",
   "metadata": {
    "cellId": "joad2c5k7kqh81le7hz7vh",
    "deletable": false,
    "editable": false,
    "id": "zQKF16_RG15m",
    "tags": [
     "start_task"
    ]
   },
   "source": [
    "**Задание 17**\n",
    "\n",
    "Проверьте, что заменили неправильные названия:\n",
    "\n",
    "*   hip,\n",
    "*   hop,\n",
    "*   hip-hop.\n",
    "\n",
    "Выведите отсортированный список уникальных значений столбца `genre`:"
   ]
  },
  {
   "cell_type": "code",
   "execution_count": 128,
   "metadata": {
    "cellId": "nc4y49sobm9xicyeqjor7d",
    "deletable": false,
    "id": "wvixALnFG15m"
   },
   "outputs": [],
   "source": [
    "series_genre = df['genre']\n",
    "series_genre=series_genre.sort_values(ascending=True)\n",
    "series_genre=series_genre.unique()\n",
    "print(series_genre)"
   ]
  },
  {
   "cell_type": "markdown",
   "metadata": {
    "cellId": "74ny9pd2hylu3b6b97bax",
    "deletable": false,
    "editable": false,
    "id": "jz6a9-7HQUDd"
   },
   "source": [
    "**Выводы**\n",
    "\n",
    "Предобработка обнаружила три проблемы в данных:\n",
    "\n",
    "- нарушения в стиле заголовков,\n",
    "- пропущенные значения,\n",
    "- дубликаты — явные и неявные.\n",
    "\n",
    "Вы исправили заголовки, чтобы упростить работу с таблицей. Без дубликатов исследование станет более точным.\n",
    "\n",
    "Пропущенные значения вы заменили на `'unknown'`. Ещё предстоит увидеть, не повредят ли исследованию пропуски в колонке `genre`.\n",
    "\n",
    "Теперь можно перейти к проверке гипотез. "
   ]
  },
  {
   "cell_type": "markdown",
   "metadata": {
    "cellId": "ck1uiw17w38iph61q384qa",
    "deletable": false,
    "editable": false,
    "id": "WttZHXH0SqKk"
   },
   "source": [
    "## Проверка гипотез"
   ]
  },
  {
   "cell_type": "markdown",
   "metadata": {
    "cellId": "0m811wjnsv3dfs2j173846",
    "deletable": false,
    "editable": false,
    "id": "Im936VVi_Zcu"
   },
   "source": [
    "### Сравнение поведения пользователей двух столиц"
   ]
  },
  {
   "cell_type": "markdown",
   "metadata": {
    "cellId": "inewzzu563rybnff7vm15",
    "deletable": false,
    "editable": false,
    "id": "nwt_MuaL_Zcu"
   },
   "source": [
    "Первая гипотеза утверждает, что пользователи по-разному слушают музыку в Москве и Санкт-Петербурге. Проверьте это предположение по данным о трёх днях недели — понедельнике, среде и пятнице. Для этого:\n",
    "\n",
    "* Разделите пользователей Москвы и Санкт-Петербурга.\n",
    "* Сравните, сколько треков послушала каждая группа пользователей в понедельник, среду и пятницу.\n"
   ]
  },
  {
   "cell_type": "markdown",
   "metadata": {
    "cellId": "tbs9lgvg5jcq1kpsxsyfnd",
    "deletable": false,
    "editable": false,
    "id": "8Dw_YMmT_Zcu",
    "tags": [
     "start_task"
    ]
   },
   "source": [
    "**Задание 18**\n",
    "\n",
    "Для тренировки сначала выполните каждый из расчётов по отдельности. \n",
    "\n",
    "Оцените активность пользователей в каждом городе. Сгруппируйте данные по городу и посчитайте прослушивания в каждой группе.\n",
    "\n"
   ]
  },
  {
   "cell_type": "code",
   "execution_count": 174,
   "metadata": {
    "cellId": "mx0kb2pin8o3kd51bpfswo",
    "deletable": false,
    "id": "0_Qs96oh_Zcu"
   },
   "outputs": [],
   "source": [
    "print(df.groupby('city')['genre'].count())\n",
    "\n",
    "\n"
   ]
  },
  {
   "cell_type": "markdown",
   "metadata": {
    "cellId": "q29oao4p0zlneukf68hmag",
    "deletable": false,
    "editable": false,
    "id": "dzli3w8o_Zcu",
    "tags": [
     "start_task"
    ]
   },
   "source": [
    "В Москве прослушиваний больше, чем в Петербурге. Из этого не следует, что московские пользователи чаще слушают музыку. Просто самих пользователей в Москве больше.\n",
    "\n",
    "**Задание 19**\n",
    "\n",
    "Теперь сгруппируйте данные по дню недели и посчитайте прослушивания в понедельник, среду и пятницу. Учтите, что в данных есть информация о прослушиваниях только за эти дни.\n"
   ]
  },
  {
   "cell_type": "code",
   "execution_count": 179,
   "metadata": {
    "cellId": "kcznqu65ehachq92ge3xu4",
    "deletable": false,
    "id": "uZMKjiJz_Zcu"
   },
   "outputs": [],
   "source": [
    "#display(df)\n",
    "print(df.groupby('day')['genre'].count())# Подсчёт прослушиваний в каждый из трёх дней\n",
    "\n",
    "\n",
    "\n"
   ]
  },
  {
   "cell_type": "markdown",
   "metadata": {
    "cellId": "in2ssk28c8roqbrpm7hl9",
    "deletable": false,
    "editable": false,
    "id": "cC2tNrlL_Zcu"
   },
   "source": [
    "В среднем пользователи из двух городов менее активны по средам. Но картина может измениться, если рассмотреть каждый город в отдельности."
   ]
  },
  {
   "cell_type": "markdown",
   "metadata": {
    "cellId": "miu6su32jwzz4xuymt87",
    "deletable": false,
    "editable": false,
    "id": "POzs8bGa_Zcu",
    "tags": [
     "start_task"
    ]
   },
   "source": [
    "**Задание 20**\n",
    "\n",
    "\n",
    "Вы видели, как работает группировка по городу и по дням недели. Теперь напишите функцию, которая объединит два эти расчёта.\n",
    "\n",
    "Создайте функцию `number_tracks()`, которая посчитает прослушивания для заданного дня и города. Ей понадобятся два параметра:\n",
    "* день недели,\n",
    "* название города.\n",
    "\n",
    "В функции сохраните в переменную строки исходной таблицы, у которых значение:\n",
    "  * в колонке `day` равно параметру `day`,\n",
    "  * в колонке `city` равно параметру `city`.\n",
    "\n",
    "Для этого примените последовательную фильтрацию с логической индексацией (или сложные логические выражения в одну строку, если вы уже знакомы с ними).\n",
    "\n",
    "Затем посчитайте значения в столбце `user_id` получившейся таблицы. Результат сохраните в новую переменную. Верните эту переменную из функции."
   ]
  },
  {
   "cell_type": "code",
   "execution_count": 216,
   "metadata": {
    "cellId": "1tihmlv3q4ohcg3h8fjrg",
    "deletable": false,
    "id": "Nz3GdQB1_Zcu"
   },
   "outputs": [],
   "source": [
    "# <создание функции number_tracks()>\n",
    "\n",
    "def number_tracks(day,city): # Объявляется функция с двумя параметрами: day, city.\n",
    "      track_list=df[(df['day']==day)&(df['city']==city)]\n",
    "# В переменной track_list сохраняются те строки таблицы df, для которых \n",
    "# значение в столбце 'day' равно параметру day и одновременно значение\n",
    "# в столбце 'city' равно параметру city (используйте последовательную фильтрацию\n",
    "# с помощью логической индексации или сложные логические выражения в одну строку, если вы уже знакомы с ними).\n",
    "      track_list_count = track_list['user_id'].count() \n",
    "# В переменной track_list_count сохраняется число значений столбца 'user_id',\n",
    "# рассчитанное методом count() для таблицы track_list.\n",
    "      return track_list_count # Функция возвращает число - значение track_list_count.\n",
    "\n",
    "\n",
    "# Функция для подсчёта прослушиваний для конкретного города и дня.\n",
    "# С помощью последовательной фильтрации с логической индексацией она \n",
    "# сначала получит из исходной таблицы строки с нужным днём,\n",
    "# затем из результата отфильтрует строки с нужным городом,\n",
    "# методом count() посчитает количество значений в колонке user_id. \n",
    "# Это количество функция вернёт в качестве результата"
   ]
  },
  {
   "cell_type": "markdown",
   "metadata": {
    "cellId": "8g12v9eqc9fcu84gxkijm6",
    "deletable": false,
    "editable": false,
    "id": "ytf7xFrFJQ2r",
    "tags": [
     "start_task"
    ]
   },
   "source": [
    "**Задание 21**\n",
    "\n",
    "Вызовите `number_tracks()` шесть раз, меняя значение параметров — так, чтобы получить данные для каждого города в каждый из трёх дней."
   ]
  },
  {
   "cell_type": "code",
   "execution_count": null,
   "metadata": {
    "cellId": "3h52tlmbc8pocn0lffdmlh",
    "deletable": false,
    "id": "rJcRATNQ_Zcu"
   },
   "outputs": [],
   "source": [
    "number_tracks('Monday','Moscow')# количество прослушиваний в Москве по понедельникам"
   ]
  },
  {
   "cell_type": "code",
   "execution_count": null,
   "metadata": {
    "cellId": "29szi8bg8ngqkljw047ewp",
    "deletable": false,
    "id": "hq_ncZ5T_Zcu"
   },
   "outputs": [],
   "source": [
    "number_tracks ('Monday','Saint-Petersburg') # количество прослушиваний в Санкт-Петербурге по понедельникам"
   ]
  },
  {
   "cell_type": "code",
   "execution_count": null,
   "metadata": {
    "cellId": "aprr2g3wpch5zwop60vm0d",
    "deletable": false,
    "id": "_NTy2VPU_Zcu"
   },
   "outputs": [],
   "source": [
    "number_tracks('Wednesday','Moscow' )# количество прослушиваний в Москве по средам"
   ]
  },
  {
   "cell_type": "code",
   "execution_count": null,
   "metadata": {
    "cellId": "9ci8qlu9bhjjxogtxx0iln",
    "deletable": false,
    "id": "j2y3TAwo_Zcu"
   },
   "outputs": [],
   "source": [
    "number_tracks('Wednesday','Saint-Petersburg')# количество прослушиваний в Санкт-Петербурге по средам"
   ]
  },
  {
   "cell_type": "code",
   "execution_count": null,
   "metadata": {
    "cellId": "g18ai2ugp7n9340wbyb1e",
    "deletable": false,
    "id": "vYDw5u_K_Zcu"
   },
   "outputs": [],
   "source": [
    "number_tracks('Friday','Moscow')# количество прослушиваний в Москве по пятницам"
   ]
  },
  {
   "cell_type": "code",
   "execution_count": null,
   "metadata": {
    "cellId": "vz42ku21ohhs4adrofn5yc",
    "deletable": false,
    "id": "8_yzFtW3_Zcu"
   },
   "outputs": [],
   "source": [
    "number_tracks('Friday','Saint-Petersburg')# количество прослушиваний в Санкт-Петербурге по пятницам"
   ]
  },
  {
   "cell_type": "markdown",
   "metadata": {
    "cellId": "yskzaunywbgdu0ofl4jfs7",
    "deletable": false,
    "editable": false,
    "id": "7QXffbO-_Zcu",
    "tags": [
     "start_task"
    ]
   },
   "source": [
    "**Задание 22**\n",
    "\n",
    "Создайте c помощью конструктора `pd.DataFrame` таблицу, где\n",
    "* названия колонок — `['city', 'monday', 'wednesday', 'friday']`;\n",
    "* данные — результаты, которые вы получили с помощью `number_tracks`."
   ]
  },
  {
   "cell_type": "code",
   "execution_count": 217,
   "metadata": {
    "cellId": "z8a8rw5jpt59m2b6prrrr",
    "deletable": false,
    "id": "APAcLpOr_Zcu"
   },
   "outputs": [],
   "source": [
    "info = pd.DataFrame(data=[['Москва','monday', 'wednesday', 'friday'], ['Санкт-Петербург','monday', 'wednesday', 'friday']], columns=['city', 'monday', 'wednesday', 'friday'])\n",
    "df.info() # Таблица с результатами"
   ]
  },
  {
   "cell_type": "markdown",
   "metadata": {
    "cellId": "aotmmei8fvhlunfuxssj7",
    "deletable": false,
    "editable": false,
    "id": "-EgPIHYu_Zcu"
   },
   "source": [
    "**Выводы**\n",
    "\n",
    "Данные показывают разницу поведения пользователей:\n",
    "\n",
    "- В Москве пик прослушиваний приходится на понедельник и пятницу, а в среду заметен спад.\n",
    "- В Петербурге, наоборот, больше слушают музыку по средам. Активность в понедельник и пятницу здесь почти в равной мере уступает среде.\n",
    "\n",
    "Значит, данные говорят в пользу первой гипотезы."
   ]
  },
  {
   "cell_type": "markdown",
   "metadata": {
    "cellId": "cjj4xebmchegbboqkfoi4",
    "deletable": false,
    "editable": false,
    "id": "atZAxtq4_Zcu"
   },
   "source": [
    "### Музыка в начале и в конце недели"
   ]
  },
  {
   "cell_type": "markdown",
   "metadata": {
    "cellId": "386sv9v4z5x7reio0pbxu",
    "deletable": false,
    "editable": false,
    "id": "eXrQqXFH_Zcu"
   },
   "source": [
    "Согласно второй гипотезе, утром в понедельник в Москве преобладают одни жанры, а в Петербурге — другие. Так же и вечером пятницы преобладают разные жанры — в зависимости от города."
   ]
  },
  {
   "cell_type": "markdown",
   "metadata": {
    "cellId": "eaam0gdwwff4b0zo1ba26x",
    "deletable": false,
    "editable": false,
    "id": "S8UcW6Hw_Zcu",
    "tags": [
     "start_task"
    ]
   },
   "source": [
    "**Задание 23**\n",
    "\n",
    "Сохраните таблицы с данными в две переменные:\n",
    "* по Москве — в `moscow_general`;\n",
    "* по Санкт-Петербургу — в `spb_general`."
   ]
  },
  {
   "cell_type": "code",
   "execution_count": null,
   "metadata": {
    "cellId": "utq91q1mtn8fe6q7akkyku",
    "deletable": false,
    "id": "qeaFfM_P_Zcu"
   },
   "outputs": [],
   "source": [
    "moscow_general = df[df['city'] == 'Moscow']\n",
    "# получение таблицы moscow_general из тех строк таблицы df, \n",
    "# для которых значение в столбце 'city' равно 'Moscow'\n"
   ]
  },
  {
   "cell_type": "code",
   "execution_count": null,
   "metadata": {
    "cellId": "ysz05n11vcmn84x96461u",
    "deletable": false,
    "id": "ORaVRKto_Zcu"
   },
   "outputs": [],
   "source": [
    "spb_general = df[df['city'] == 'Saint-Petersburg'] \n",
    "# получение таблицы spb_general из тех строк таблицы df,\n",
    "# для которых значение в столбце 'city' равно 'Saint-Petersburg'\n"
   ]
  },
  {
   "cell_type": "markdown",
   "metadata": {
    "cellId": "vkoegbo4nupzasyaqs6j",
    "deletable": false,
    "id": "MEJV-CX2_Zcu",
    "tags": [
     "start_task"
    ]
   },
   "source": [
    "**Задание 24**\n",
    "\n",
    "Создайте функцию `genre_weekday()` с четырьмя параметрами:\n",
    "* таблица (датафрейм) с данными,\n",
    "* день недели,\n",
    "* начальная временная метка в формате 'hh:mm', \n",
    "* последняя временная метка в формате 'hh:mm'.\n",
    "\n",
    "Функция должна вернуть информацию о топ-10 жанров тех треков, которые прослушивали в указанный день, в промежутке между двумя отметками времени."
   ]
  },
  {
   "cell_type": "code",
   "execution_count": 239,
   "metadata": {
    "cellId": "lupdau61gccm5syen123v",
    "deletable": false,
    "id": "laJT9BYl_Zcu"
   },
   "outputs": [],
   "source": [
    "# Объявление функции genre_weekday() с параметрами table, day, time1, time2,\n",
    "# которая возвращает информацию о самых популярных жанрах в указанный день в\n",
    "# заданное время:\n",
    "# 1) в переменную genre_df сохраняются те строки переданного датафрейма table, для\n",
    "#    которых одновременно:\n",
    "#    - значение в столбце day равно значению аргумента day\n",
    "#    - значение в столбце time больше значения аргумента time1\n",
    "#    - значение в столбце time меньше значения аргумента time2\n",
    "#    Используйте последовательную фильтрацию с помощью логической индексации.\n",
    "# 2) сгруппировать датафрейм genre_df по столбцу genre, взять один из его\n",
    "#    столбцов и посчитать методом count() количество записей для каждого из\n",
    "#    присутствующих жанров, получившийся Series записать в переменную\n",
    "#    genre_df_count\n",
    "# 3) отсортировать genre_df_count по убыванию встречаемости и сохранить\n",
    "#    в переменную genre_df_sorted\n",
    "# 4) вернуть Series из 10 первых значений genre_df_sorted, это будут топ-10\n",
    "#    популярных жанров (в указанный день, в заданное время)\n",
    "\n",
    "def genre_weekday(table, day, time1, time2):\n",
    "# 1) в переменную genre_df сохраняются те строки переданного датафрейма table, для\n",
    "#    которых одновременно:\n",
    "#    - значение в столбце day равно значению аргумента day\n",
    "#    - значение в столбце time больше значения аргумента time1\n",
    "#    - значение в столбце time меньше значения аргумента time2\n",
    "    genre_df= table[(table['day'] == day) & \n",
    "                    (table['time'] > time1) &\n",
    "                    (table['time'] < time2)]\n",
    "    \n",
    "# сгруппируем отфильтрованный датафрейм по столбцу с названиями жанров,\n",
    "# возьмём столбец genre и\n",
    "# посчитаем кол-во строк для каждого жанра методом count()\n",
    "    genre_df_grouped = genre_df.groupby('genre')['genre'].count()\n",
    "    \n",
    "# отсортируем результат по убыванию (чтобы в начале Series оказались самые популярные жанры)\n",
    "    genre_df_sorted = genre_df_grouped.sort_values(ascending=False)\n",
    "\n",
    "# вернём Series с 10 самыми популярными жанрами в указанный отрезок времени заданного дня\n",
    "    return genre_df_sorted[:10]\n",
    "\n",
    "# def genre_weekday(df, day, time1, time2):\n",
    "#     # последовательная фильтрация\n",
    "#     # оставляем в genre_df только те строки df, у которых день равен day\n",
    "#     genre_df = # ваш код здесь\n",
    "#     # оставляем в genre_df только те строки genre_df, у которых время меньше time2\n",
    "#     genre_df = # ваш код здесь\n",
    "#     # оставляем в genre_df только те строки genre_df, у которых время больше time1\n",
    "#     genre_df = # ваш код здесь\n",
    "#     # сгруппируем отфильтрованный датафрейм по столбцу с названиями жанров, возьмём столбец genre и посчитаем кол-во строк для каждого жанра методом count()\n",
    "#     genre_df_grouped = # ваш код здесь\n",
    "#     # отсортируем результат по убыванию (чтобы в начале Series оказались самые популярные жанры)\n",
    "#     genre_df_sorted = # ваш код здесь\n",
    "#     # вернём Series с 10 самыми популярными жанрами в указанный отрезок времени заданного дня\n",
    "#     return genre_df_sorted[:10]"
   ]
  },
  {
   "cell_type": "markdown",
   "metadata": {
    "cellId": "wlggwl0yvibeuj0wjreeaa",
    "deletable": false,
    "editable": false,
    "id": "la2s2_PF_Zcu",
    "tags": [
     "start_task"
    ]
   },
   "source": [
    "**Задание 25**\n",
    "\n",
    "\n",
    "Cравните результаты функции `genre_weekday()` для Москвы и Санкт-Петербурга в понедельник утром (с 7:00 до 11:00) и в пятницу вечером (с 17:00 до 23:00):"
   ]
  },
  {
   "cell_type": "code",
   "execution_count": null,
   "metadata": {
    "cellId": "f4mggz89ivwal7la82yk1l",
    "deletable": false,
    "id": "yz7itPUQ_Zcu"
   },
   "outputs": [],
   "source": [
    "genre_weekday(moscow_general, 'Monday', '07:00', '11:00')\n",
    "# вызов функции для утра понедельника в Москве (вместо df — таблица moscow_general)\n",
    "# объекты, хранящие время, являются строками и сравниваются как строки\n",
    "# пример вызова: genre_weekday(moscow_general, 'Monday', '07:00', '11:00')"
   ]
  },
  {
   "cell_type": "code",
   "execution_count": null,
   "metadata": {
    "cellId": "o8fjrnqg3yhczu9swdsokn",
    "deletable": false,
    "id": "kwUcHPdy_Zcu"
   },
   "outputs": [],
   "source": [
    "genre_weekday(spb_general, 'Monday', '07:00', '11:00')# вызов функции для утра понедельника в Петербурге (вместо df — таблица spb_general)"
   ]
  },
  {
   "cell_type": "code",
   "execution_count": null,
   "metadata": {
    "cellId": "37h8dn29biub4wim6dqke",
    "deletable": false,
    "id": "EzXVRE1o_Zcu"
   },
   "outputs": [],
   "source": [
    "genre_weekday(moscow_general, 'Friday', '17:00', '23:00')# вызов функции для вечера пятницы в Москве"
   ]
  },
  {
   "cell_type": "code",
   "execution_count": null,
   "metadata": {
    "cellId": "v5yr417rzfsvg98pmq97fc",
    "deletable": false,
    "id": "JZaEKu5v_Zcu"
   },
   "outputs": [],
   "source": [
    "genre_weekday(spb_general, 'Friday', '17:00', '23:00')# вызов функции для вечера пятницы в Петербурге"
   ]
  },
  {
   "cell_type": "markdown",
   "metadata": {
    "cellId": "l8exvsvgybjw344edc25j",
    "deletable": false,
    "editable": false,
    "id": "wrCe4MNX_Zcu"
   },
   "source": [
    "**Выводы**\n",
    "\n",
    "Если сравнить топ-10 жанров в понедельник утром, можно сделать такие выводы:\n",
    "\n",
    "1. В Москве и Петербурге слушают похожую музыку. Единственное отличие — в московский рейтинг вошёл жанр “world”, а в петербургский — джаз и классика.\n",
    "\n",
    "2. В Москве пропущенных значений оказалось так много, что значение `'unknown'` заняло десятое место среди самых популярных жанров. Значит, пропущенные значения занимают существенную долю в данных и угрожают достоверности исследования.\n",
    "\n",
    "Вечер пятницы не меняет эту картину. Некоторые жанры поднимаются немного выше, другие спускаются, но в целом топ-10 остаётся тем же самым.\n",
    "\n",
    "Таким образом, вторая гипотеза подтвердилась лишь частично:\n",
    "* Пользователи слушают похожую музыку в начале недели и в конце.\n",
    "* Разница между Москвой и Петербургом не слишком выражена. В Москве чаще слушают русскую популярную музыку, в Петербурге — джаз.\n",
    "\n",
    "Однако пропуски в данных ставят под сомнение этот результат. В Москве их так много, что рейтинг топ-10 мог бы выглядеть иначе, если бы не утерянные  данные о жанрах."
   ]
  },
  {
   "cell_type": "markdown",
   "metadata": {
    "cellId": "glqw5b7hcm4b9oj5bge38r",
    "deletable": false,
    "editable": false,
    "id": "JolODAqr_Zcu"
   },
   "source": [
    "### Жанровые предпочтения в Москве и Петербурге\n",
    "\n",
    "Гипотеза: Петербург — столица рэпа, музыку этого жанра там слушают чаще, чем в Москве.  А Москва — город контрастов, в котором, тем не менее, преобладает поп-музыка."
   ]
  },
  {
   "cell_type": "markdown",
   "metadata": {
    "cellId": "hhaj4ilrkweiqejwrpaqq",
    "deletable": false,
    "editable": false,
    "id": "DlegSvaT_Zcu",
    "tags": [
     "start_task"
    ]
   },
   "source": [
    "**Задание 26**\n",
    "\n",
    "Сгруппируйте таблицу `moscow_general` по жанру и посчитайте прослушивания треков каждого жанра методом `count()`. Затем отсортируйте результат в порядке убывания и сохраните его в таблице `moscow_genres`."
   ]
  },
  {
   "cell_type": "code",
   "execution_count": 247,
   "metadata": {
    "cellId": "13wu5vowyldjbjw3amrjl",
    "deletable": false,
    "id": "r19lIPke_Zcu"
   },
   "outputs": [],
   "source": [
    "\n",
    "moscow_tab = moscow_general.groupby('genre')['genre'].count()\n",
    "\n",
    "moscow_genres = moscow_tab.sort_values(ascending=False)\n",
    "\n",
    "# одной строкой: группировка таблицы moscow_general по столбцу 'genre', \n",
    "# подсчёт числа значений 'genre' в этой группировке методом count(), \n",
    "\n",
    "\n",
    "# сортировка получившегося Series в порядке убывания и сохранение в moscow_genres"
   ]
  },
  {
   "cell_type": "markdown",
   "metadata": {
    "cellId": "wsdtojnm4fz7d226bxp4q",
    "deletable": false,
    "editable": false,
    "id": "6kMuomxTiIr8",
    "tags": [
     "start_task"
    ]
   },
   "source": [
    "**Задание 27**\n",
    "\n",
    "Выведите на экран первые десять строк `moscow_genres`:"
   ]
  },
  {
   "cell_type": "code",
   "execution_count": null,
   "metadata": {
    "cellId": "qwcpsxyowk8nybanlhaouc",
    "deletable": false,
    "id": "WhCSooF8_Zcv"
   },
   "outputs": [],
   "source": [
    "print(moscow_genres.head(10))\n",
    "# просмотр первых 10 строк moscow_genres"
   ]
  },
  {
   "cell_type": "markdown",
   "metadata": {
    "cellId": "w0nxvj922tq16cvkeheb7v",
    "deletable": false,
    "editable": false,
    "id": "cnPG2vnN_Zcv",
    "tags": [
     "start_task"
    ]
   },
   "source": [
    "**Задание 28**\n",
    "\n",
    "\n",
    "Теперь повторите то же и для Петербурга.\n",
    "\n",
    "Сгруппируйте таблицу `spb_general` по жанру. Посчитайте прослушивания треков каждого жанра. Результат отсортируйте в порядке убывания и сохраните в таблице `spb_genres`:\n"
   ]
  },
  {
   "cell_type": "code",
   "execution_count": 248,
   "metadata": {
    "cellId": "u4wcviumxf64soqj04p4o",
    "deletable": false,
    "id": "gluLIpE7_Zcv"
   },
   "outputs": [],
   "source": [
    "spb_tab = spb_general.groupby('genre')['genre'].count()\n",
    "spb_genres = spb_tab.sort_values(ascending=False)"
   ]
  },
  {
   "cell_type": "markdown",
   "metadata": {
    "cellId": "t1scp3vux89stnnozf3vi",
    "deletable": false,
    "editable": false,
    "id": "5Doha_ODgyQ8",
    "tags": [
     "start_task"
    ]
   },
   "source": [
    "**Задание 29**\n",
    "\n",
    "Выведите на экран первые десять строк `spb_genres`:"
   ]
  },
  {
   "cell_type": "code",
   "execution_count": null,
   "metadata": {
    "cellId": "dk368i0lkqkko9rgqw4pve",
    "deletable": false,
    "id": "uaGJHjVU_Zcv"
   },
   "outputs": [],
   "source": [
    "print(spb_genres.head(10))"
   ]
  },
  {
   "cell_type": "markdown",
   "metadata": {
    "cellId": "sz1wb2t5ol7jyz136h13x",
    "deletable": false,
    "editable": false,
    "id": "RY51YJYu_Zcv"
   },
   "source": [
    "**Выводы**"
   ]
  },
  {
   "cell_type": "markdown",
   "metadata": {
    "cellId": "ywr0twte6rfcd4r6kyzmp4",
    "deletable": false,
    "editable": false,
    "id": "nVhnJEm__Zcv"
   },
   "source": [
    "Гипотеза частично подтвердилась:\n",
    "* Поп-музыка — самый популярный жанр в Москве, как и предполагала гипотеза. Более того, в топ-10 жанров встречается близкий жанр — русская популярная музыка.\n",
    "* Вопреки ожиданиям, рэп одинаково популярен в Москве и Петербурге. \n"
   ]
  },
  {
   "cell_type": "markdown",
   "metadata": {
    "cellId": "b1mv0dl1sndxsygn5etcre",
    "deletable": false,
    "editable": false,
    "id": "ykKQ0N65_Zcv"
   },
   "source": [
    "## Итоги исследования"
   ]
  },
  {
   "cell_type": "markdown",
   "metadata": {
    "cellId": "sq8uh4sk5ppj5iiq13ths",
    "deletable": false,
    "editable": false,
    "id": "tjUwbHb3_Zcv"
   },
   "source": [
    "Вы проверили три гипотезы и установили:\n",
    "\n",
    "1. День недели по-разному влияет на активность пользователей в Москве и Петербурге. \n",
    "\n",
    "Первая гипотеза полностью подтвердилась.\n",
    "\n",
    "2. Музыкальные предпочтения не сильно меняются в течение недели — будь то Москва или Петербург. Небольшие различия заметны в начале недели, по понедельникам:\n",
    "* в Москве слушают музыку жанра “world”,\n",
    "* в Петербурге — джаз и классику.\n",
    "\n",
    "Таким образом, вторая гипотеза подтвердилась лишь отчасти. Этот результат мог оказаться иным, если бы не пропуски в данных.\n",
    "\n",
    "3. Во вкусах пользователей Москвы и Петербурга больше общего чем различий. Вопреки ожиданиям, предпочтения жанров в Петербурге напоминают московские.\n",
    "\n",
    "Третья гипотеза не подтвердилась. Если различия в предпочтениях и существуют, на основной массе пользователей они незаметны.\n",
    "\n",
    "**На практике исследования содержат проверки статистических гипотез.**\n",
    "Из данных одного сервиса не всегда можно сделать вывод о всех жителях города.\n",
    "Проверки статистических гипотез покажут, насколько они достоверны, исходя из имеющихся данных. \n",
    "С методами проверок гипотез вы ещё познакомитесь в следующих темах."
   ]
  }
 ],
 "metadata": {
  "ExecuteTimeLog": [
   {
    "duration": 45,
    "start_time": "2022-06-11T14:54:10.791Z"
   },
   {
    "duration": 7,
    "start_time": "2022-06-11T14:54:30.756Z"
   },
   {
    "duration": 7,
    "start_time": "2022-06-11T14:55:14.087Z"
   },
   {
    "duration": 7,
    "start_time": "2022-06-11T14:55:30.906Z"
   },
   {
    "duration": 4,
    "start_time": "2022-06-11T14:56:23.985Z"
   },
   {
    "duration": 3,
    "start_time": "2022-06-11T14:56:39.469Z"
   },
   {
    "duration": 7,
    "start_time": "2022-06-11T14:56:45.494Z"
   },
   {
    "duration": 6,
    "start_time": "2022-06-11T14:57:09.814Z"
   },
   {
    "duration": 7,
    "start_time": "2022-06-11T14:58:44.197Z"
   },
   {
    "duration": 6,
    "start_time": "2022-06-11T14:59:26.325Z"
   },
   {
    "duration": 582,
    "start_time": "2022-06-11T15:02:11.853Z"
   },
   {
    "duration": 190,
    "start_time": "2022-06-11T15:02:42.120Z"
   },
   {
    "duration": 162,
    "start_time": "2022-06-11T15:03:06.443Z"
   },
   {
    "duration": 166,
    "start_time": "2022-06-11T15:03:36.396Z"
   },
   {
    "duration": 172,
    "start_time": "2022-06-11T15:03:45.243Z"
   },
   {
    "duration": 176,
    "start_time": "2022-06-11T15:03:54.371Z"
   },
   {
    "duration": 186,
    "start_time": "2022-06-11T15:04:42.317Z"
   },
   {
    "duration": 179,
    "start_time": "2022-06-11T15:06:02.098Z"
   },
   {
    "duration": 168,
    "start_time": "2022-06-11T15:06:32.695Z"
   },
   {
    "duration": 178,
    "start_time": "2022-06-11T15:06:44.001Z"
   },
   {
    "duration": 168,
    "start_time": "2022-06-11T15:09:53.521Z"
   },
   {
    "duration": 174,
    "start_time": "2022-06-11T15:10:22.603Z"
   },
   {
    "duration": 174,
    "start_time": "2022-06-11T15:12:06.456Z"
   },
   {
    "duration": 198,
    "start_time": "2022-06-11T15:13:27.741Z"
   },
   {
    "duration": 204,
    "start_time": "2022-06-11T15:15:00.201Z"
   },
   {
    "duration": 203,
    "start_time": "2022-06-11T15:15:53.673Z"
   },
   {
    "duration": 208,
    "start_time": "2022-06-11T15:16:23.036Z"
   },
   {
    "duration": 171,
    "start_time": "2022-06-11T15:16:44.715Z"
   },
   {
    "duration": 209,
    "start_time": "2022-06-11T15:18:57.522Z"
   },
   {
    "duration": 203,
    "start_time": "2022-06-11T15:19:06.567Z"
   },
   {
    "duration": 218,
    "start_time": "2022-06-11T15:19:24.967Z"
   },
   {
    "duration": 251,
    "start_time": "2022-06-11T15:19:49.951Z"
   },
   {
    "duration": 201,
    "start_time": "2022-06-11T15:20:14.243Z"
   },
   {
    "duration": 205,
    "start_time": "2022-06-11T15:20:30.351Z"
   },
   {
    "duration": 193,
    "start_time": "2022-06-11T15:24:04.601Z"
   },
   {
    "duration": 196,
    "start_time": "2022-06-11T15:24:56.696Z"
   },
   {
    "duration": 247,
    "start_time": "2022-06-11T15:26:11.592Z"
   },
   {
    "duration": 43,
    "start_time": "2022-06-11T15:26:43.744Z"
   },
   {
    "duration": 40,
    "start_time": "2022-06-11T15:27:25.872Z"
   },
   {
    "duration": 44,
    "start_time": "2022-06-11T15:27:29.062Z"
   },
   {
    "duration": 39,
    "start_time": "2022-06-11T15:27:33.896Z"
   },
   {
    "duration": 39,
    "start_time": "2022-06-11T15:27:58.442Z"
   },
   {
    "duration": 42,
    "start_time": "2022-06-11T15:28:48.876Z"
   },
   {
    "duration": 351,
    "start_time": "2022-06-11T16:04:12.316Z"
   },
   {
    "duration": 448,
    "start_time": "2022-06-11T16:04:31.942Z"
   },
   {
    "duration": 1394,
    "start_time": "2022-06-11T16:05:01.508Z"
   },
   {
    "duration": 422,
    "start_time": "2022-06-11T16:05:57.697Z"
   },
   {
    "duration": 186,
    "start_time": "2022-06-11T16:06:11.547Z"
   },
   {
    "duration": 166,
    "start_time": "2022-06-11T16:06:18.104Z"
   },
   {
    "duration": 169,
    "start_time": "2022-06-11T16:06:22.941Z"
   },
   {
    "duration": 176,
    "start_time": "2022-06-11T16:06:55.921Z"
   },
   {
    "duration": 168,
    "start_time": "2022-06-11T16:08:11.459Z"
   },
   {
    "duration": 173,
    "start_time": "2022-06-11T16:49:13.543Z"
   },
   {
    "duration": 165,
    "start_time": "2022-06-11T16:52:35.030Z"
   },
   {
    "duration": 156,
    "start_time": "2022-06-11T16:54:11.772Z"
   },
   {
    "duration": 196,
    "start_time": "2022-06-11T17:01:14.460Z"
   },
   {
    "duration": 169,
    "start_time": "2022-06-11T17:01:50.065Z"
   },
   {
    "duration": 160,
    "start_time": "2022-06-11T17:02:03.592Z"
   },
   {
    "duration": 199,
    "start_time": "2022-06-11T17:02:17.811Z"
   },
   {
    "duration": 170,
    "start_time": "2022-06-11T17:02:28.211Z"
   },
   {
    "duration": 167,
    "start_time": "2022-06-11T17:02:41.035Z"
   },
   {
    "duration": 240,
    "start_time": "2022-06-11T17:03:14.035Z"
   },
   {
    "duration": 158,
    "start_time": "2022-06-11T17:04:47.405Z"
   },
   {
    "duration": 159,
    "start_time": "2022-06-11T17:04:59.266Z"
   },
   {
    "duration": 159,
    "start_time": "2022-06-11T17:05:19.791Z"
   },
   {
    "duration": 161,
    "start_time": "2022-06-11T17:09:23.869Z"
   },
   {
    "duration": 161,
    "start_time": "2022-06-11T17:09:31.368Z"
   },
   {
    "duration": 163,
    "start_time": "2022-06-11T17:09:37.280Z"
   },
   {
    "duration": 173,
    "start_time": "2022-06-11T17:12:09.824Z"
   },
   {
    "duration": 170,
    "start_time": "2022-06-11T17:12:16.239Z"
   },
   {
    "duration": 162,
    "start_time": "2022-06-11T17:12:25.305Z"
   },
   {
    "duration": 172,
    "start_time": "2022-06-11T17:12:37.739Z"
   },
   {
    "duration": 172,
    "start_time": "2022-06-11T17:12:46.387Z"
   },
   {
    "duration": 226,
    "start_time": "2022-06-11T17:12:51.444Z"
   },
   {
    "duration": 157,
    "start_time": "2022-06-11T17:13:06.485Z"
   },
   {
    "duration": 150,
    "start_time": "2022-06-11T17:28:58.229Z"
   },
   {
    "duration": 172,
    "start_time": "2022-06-11T17:29:08.942Z"
   },
   {
    "duration": 159,
    "start_time": "2022-06-11T17:30:05.770Z"
   },
   {
    "duration": 8,
    "start_time": "2022-06-11T17:30:50.143Z"
   },
   {
    "duration": 8,
    "start_time": "2022-06-11T17:31:06.356Z"
   },
   {
    "duration": 8,
    "start_time": "2022-06-11T17:31:48.185Z"
   },
   {
    "duration": 8,
    "start_time": "2022-06-11T17:31:56.165Z"
   },
   {
    "duration": 15,
    "start_time": "2022-06-11T17:32:10.530Z"
   },
   {
    "duration": 11,
    "start_time": "2022-06-11T17:32:23.116Z"
   },
   {
    "duration": 10,
    "start_time": "2022-06-11T17:32:35.105Z"
   },
   {
    "duration": 17,
    "start_time": "2022-06-11T17:32:39.264Z"
   },
   {
    "duration": 9,
    "start_time": "2022-06-11T17:32:45.755Z"
   },
   {
    "duration": 8,
    "start_time": "2022-06-11T17:32:51.611Z"
   },
   {
    "duration": 4,
    "start_time": "2022-06-11T17:32:57.059Z"
   },
   {
    "duration": 3,
    "start_time": "2022-06-11T17:33:22.623Z"
   },
   {
    "duration": 4,
    "start_time": "2022-06-11T17:33:45.952Z"
   },
   {
    "duration": 3,
    "start_time": "2022-06-11T17:33:51.771Z"
   },
   {
    "duration": 5,
    "start_time": "2022-06-11T17:33:59.286Z"
   },
   {
    "duration": 3,
    "start_time": "2022-06-11T17:35:32.243Z"
   },
   {
    "duration": 3,
    "start_time": "2022-06-11T17:35:39.599Z"
   },
   {
    "duration": 4,
    "start_time": "2022-06-11T17:35:41.729Z"
   },
   {
    "duration": 4,
    "start_time": "2022-06-11T17:35:44.996Z"
   },
   {
    "duration": 104,
    "start_time": "2022-06-11T17:35:54.653Z"
   },
   {
    "duration": 11,
    "start_time": "2022-06-11T17:36:09.572Z"
   },
   {
    "duration": 11,
    "start_time": "2022-06-11T17:36:17.695Z"
   },
   {
    "duration": 78,
    "start_time": "2022-06-11T17:36:25.592Z"
   },
   {
    "duration": 12,
    "start_time": "2022-06-11T17:36:57.538Z"
   },
   {
    "duration": 10,
    "start_time": "2022-06-11T17:37:10.563Z"
   },
   {
    "duration": 75,
    "start_time": "2022-06-11T17:37:27.102Z"
   },
   {
    "duration": 112,
    "start_time": "2022-06-11T17:37:36.358Z"
   },
   {
    "duration": 45,
    "start_time": "2022-06-11T17:37:43.726Z"
   },
   {
    "duration": 10,
    "start_time": "2022-06-11T17:37:53.454Z"
   },
   {
    "duration": 12,
    "start_time": "2022-06-11T17:44:13.976Z"
   },
   {
    "duration": 17,
    "start_time": "2022-06-11T17:44:55.016Z"
   },
   {
    "duration": 12,
    "start_time": "2022-06-11T17:45:41.369Z"
   },
   {
    "duration": 8,
    "start_time": "2022-06-11T17:45:50.250Z"
   },
   {
    "duration": 30,
    "start_time": "2022-06-11T17:45:55.651Z"
   },
   {
    "duration": 10,
    "start_time": "2022-06-11T17:46:27.931Z"
   },
   {
    "duration": 66,
    "start_time": "2022-06-11T17:46:37.569Z"
   },
   {
    "duration": 3,
    "start_time": "2022-06-11T17:47:45.651Z"
   },
   {
    "duration": 8,
    "start_time": "2022-06-11T17:47:52.331Z"
   },
   {
    "duration": 9,
    "start_time": "2022-06-11T17:47:59.709Z"
   },
   {
    "duration": 4,
    "start_time": "2022-06-11T17:48:03.145Z"
   },
   {
    "duration": 59,
    "start_time": "2022-06-11T17:48:18.510Z"
   },
   {
    "duration": 11,
    "start_time": "2022-06-11T17:48:30.303Z"
   },
   {
    "duration": 11,
    "start_time": "2022-06-11T17:48:34.021Z"
   },
   {
    "duration": 42,
    "start_time": "2022-06-11T17:48:37.314Z"
   },
   {
    "duration": 67,
    "start_time": "2022-06-11T17:48:49.632Z"
   },
   {
    "duration": 6,
    "start_time": "2022-06-11T17:49:00.238Z"
   },
   {
    "duration": 3,
    "start_time": "2022-06-11T17:49:14.787Z"
   },
   {
    "duration": 3,
    "start_time": "2022-06-11T17:49:25.594Z"
   },
   {
    "duration": 3,
    "start_time": "2022-06-11T17:49:28.674Z"
   },
   {
    "duration": 51,
    "start_time": "2022-06-11T17:49:48.250Z"
   },
   {
    "duration": 39,
    "start_time": "2022-06-11T17:50:11.649Z"
   },
   {
    "duration": 35,
    "start_time": "2022-06-11T17:50:19.278Z"
   },
   {
    "duration": 33,
    "start_time": "2022-06-11T17:50:32.017Z"
   },
   {
    "duration": 41,
    "start_time": "2022-06-11T17:51:06.143Z"
   },
   {
    "duration": 37,
    "start_time": "2022-06-11T17:51:40.990Z"
   },
   {
    "duration": 3,
    "start_time": "2022-06-11T17:52:46.366Z"
   },
   {
    "duration": 4,
    "start_time": "2022-06-11T17:54:05.570Z"
   },
   {
    "duration": 44,
    "start_time": "2022-06-11T17:54:11.171Z"
   },
   {
    "duration": 42,
    "start_time": "2022-06-11T17:54:16.048Z"
   },
   {
    "duration": 5,
    "start_time": "2022-06-11T17:54:24.785Z"
   },
   {
    "duration": 44,
    "start_time": "2022-06-11T17:54:28.265Z"
   },
   {
    "duration": 54,
    "start_time": "2022-06-11T17:58:20.827Z"
   },
   {
    "duration": 43,
    "start_time": "2022-06-11T17:58:29.365Z"
   },
   {
    "duration": 37,
    "start_time": "2022-06-11T17:58:44.633Z"
   },
   {
    "duration": 43,
    "start_time": "2022-06-11T18:00:39.925Z"
   },
   {
    "duration": 8,
    "start_time": "2022-06-11T18:01:29.143Z"
   },
   {
    "duration": 11,
    "start_time": "2022-06-11T18:02:45.620Z"
   },
   {
    "duration": 20,
    "start_time": "2022-06-11T18:03:01.660Z"
   },
   {
    "duration": 10,
    "start_time": "2022-06-11T18:11:01.727Z"
   },
   {
    "duration": 24,
    "start_time": "2022-06-11T18:13:46.372Z"
   },
   {
    "duration": 17,
    "start_time": "2022-06-11T18:14:10.757Z"
   },
   {
    "duration": 18,
    "start_time": "2022-06-11T18:14:48.008Z"
   },
   {
    "duration": 16,
    "start_time": "2022-06-11T18:15:41.671Z"
   },
   {
    "duration": 12,
    "start_time": "2022-06-11T18:17:45.322Z"
   },
   {
    "duration": 26,
    "start_time": "2022-06-11T18:19:58.013Z"
   },
   {
    "duration": 10,
    "start_time": "2022-06-11T18:20:15.601Z"
   },
   {
    "duration": 11,
    "start_time": "2022-06-11T18:21:53.779Z"
   },
   {
    "duration": 11,
    "start_time": "2022-06-11T18:26:19.401Z"
   },
   {
    "duration": 10,
    "start_time": "2022-06-11T18:26:53.349Z"
   },
   {
    "duration": 9,
    "start_time": "2022-06-11T18:27:15.828Z"
   },
   {
    "duration": 37,
    "start_time": "2022-06-11T18:28:23.439Z"
   },
   {
    "duration": 40,
    "start_time": "2022-06-11T18:28:43.251Z"
   },
   {
    "duration": 52,
    "start_time": "2022-06-11T18:28:54.494Z"
   },
   {
    "duration": 42,
    "start_time": "2022-06-11T18:29:07.016Z"
   },
   {
    "duration": 46,
    "start_time": "2022-06-11T18:29:17.030Z"
   },
   {
    "duration": 24,
    "start_time": "2022-06-11T18:29:44.543Z"
   },
   {
    "duration": 9,
    "start_time": "2022-06-11T18:29:50.970Z"
   },
   {
    "duration": 54,
    "start_time": "2022-06-11T18:30:41.901Z"
   },
   {
    "duration": 39,
    "start_time": "2022-06-11T18:30:46.898Z"
   },
   {
    "duration": 15,
    "start_time": "2022-06-11T18:31:19.641Z"
   },
   {
    "duration": 59,
    "start_time": "2022-06-11T18:31:24.804Z"
   },
   {
    "duration": 17,
    "start_time": "2022-06-11T18:31:49.157Z"
   },
   {
    "duration": 13,
    "start_time": "2022-06-11T18:32:25.949Z"
   },
   {
    "duration": 10,
    "start_time": "2022-06-11T18:32:47.269Z"
   },
   {
    "duration": 11,
    "start_time": "2022-06-11T18:32:53.995Z"
   },
   {
    "duration": 20,
    "start_time": "2022-06-11T19:19:09.319Z"
   },
   {
    "duration": 22,
    "start_time": "2022-06-11T19:19:18.567Z"
   },
   {
    "duration": 5,
    "start_time": "2022-06-11T19:19:24.954Z"
   },
   {
    "duration": 4,
    "start_time": "2022-06-11T19:19:43.111Z"
   },
   {
    "duration": 4,
    "start_time": "2022-06-11T19:19:47.809Z"
   },
   {
    "duration": 4,
    "start_time": "2022-06-11T19:19:51.024Z"
   },
   {
    "duration": 4,
    "start_time": "2022-06-11T19:22:37.227Z"
   },
   {
    "duration": 4,
    "start_time": "2022-06-11T19:25:33.187Z"
   },
   {
    "duration": 41,
    "start_time": "2022-06-11T19:32:32.633Z"
   },
   {
    "duration": 36,
    "start_time": "2022-06-11T20:16:26.315Z"
   },
   {
    "duration": 5,
    "start_time": "2022-06-11T20:18:11.208Z"
   },
   {
    "duration": 5,
    "start_time": "2022-06-11T20:25:11.008Z"
   },
   {
    "duration": 4,
    "start_time": "2022-06-12T07:14:00.305Z"
   },
   {
    "duration": 8,
    "start_time": "2022-06-12T08:07:50.569Z"
   },
   {
    "duration": 11,
    "start_time": "2022-06-12T08:09:15.307Z"
   },
   {
    "duration": 40,
    "start_time": "2022-06-12T08:10:09.451Z"
   },
   {
    "duration": 35,
    "start_time": "2022-06-12T08:11:24.121Z"
   },
   {
    "duration": 35,
    "start_time": "2022-06-12T08:11:47.369Z"
   },
   {
    "duration": 34,
    "start_time": "2022-06-12T08:12:18.993Z"
   },
   {
    "duration": 14,
    "start_time": "2022-06-12T08:17:43.707Z"
   },
   {
    "duration": 8,
    "start_time": "2022-06-12T08:21:38.676Z"
   },
   {
    "duration": 8,
    "start_time": "2022-06-12T08:31:03.722Z"
   },
   {
    "duration": 460,
    "start_time": "2022-06-13T08:40:46.958Z"
   },
   {
    "duration": 250,
    "start_time": "2022-06-13T08:40:49.779Z"
   },
   {
    "duration": 8,
    "start_time": "2022-06-13T08:40:53.601Z"
   }
  ],
  "colab": {
   "collapsed_sections": [
    "E0vqbgi9ay0H",
    "VUC88oWjTJw2"
   ],
   "name": "automatization_template_upd4.ipynb",
   "provenance": []
  },
  "language_info": {
   "codemirror_mode": {
    "name": "ipython",
    "version": 3
   },
   "file_extension": ".py",
   "mimetype": "text/x-python",
   "name": "python",
   "nbconvert_exporter": "python",
   "pygments_lexer": "ipython3",
   "version": "3.7.7"
  },
  "notebookId": "1978aae5-560c-45fa-8648-fe10f7f530b5",
  "notebookPath": "YANDEX/01.ipynb",
  "toc": {
   "base_numbering": 1,
   "nav_menu": {
    "height": "215px",
    "width": "403px"
   },
   "number_sections": true,
   "sideBar": true,
   "skip_h1_title": true,
   "title_cell": "Table of Contents",
   "title_sidebar": "Contents",
   "toc_cell": false,
   "toc_position": {
    "height": "calc(100% - 180px)",
    "left": "10px",
    "top": "150px",
    "width": "285.825px"
   },
   "toc_section_display": true,
   "toc_window_display": false
  }
 },
 "nbformat": 4,
 "nbformat_minor": 4
}
