{
 "cells": [
  {
   "cell_type": "markdown",
   "metadata": {
    "cellId": "r2ydrwvvrvojkz98d8d29n",
    "execution_id": "ca1ab874-c7a7-4a20-8555-13ccde90ac4c"
   },
   "source": [
    "# Проект для «Викишоп»"
   ]
  },
  {
   "cell_type": "markdown",
   "metadata": {
    "cellId": "c7rj1etxykcnsh5ckb5bh",
    "execution_id": "558e04d9-908c-4118-bc05-6d3ecd72d29e"
   },
   "source": [
    "Интернет-магазин «Викишоп» запускает новый сервис. Теперь пользователи могут редактировать и дополнять описания товаров, как в вики-сообществах. То есть клиенты предлагают свои правки и комментируют изменения других. Магазину нужен инструмент, который будет искать токсичные комментарии и отправлять их на модерацию. \n",
    "\n",
    "Обучите модель классифицировать комментарии на позитивные и негативные. В вашем распоряжении набор данных с разметкой о токсичности правок.\n",
    "\n",
    "Постройте модель со значением метрики качества *F1* не меньше 0.75. \n",
    "\n",
    "**Инструкция по выполнению проекта**\n",
    "\n",
    "1. Загрузите и подготовьте данные.\n",
    "2. Обучите разные модели. \n",
    "3. Сделайте выводы.\n",
    "\n",
    "Для выполнения проекта применять *BERT* необязательно, но вы можете попробовать.\n",
    "\n",
    "**Описание данных**\n",
    "\n",
    "Данные находятся в файле `toxic_comments.csv`. Столбец *text* в нём содержит текст комментария, а *toxic* — целевой признак."
   ]
  },
  {
   "cell_type": "markdown",
   "metadata": {
    "cellId": "mfo6wu94xpe9aui5trew6",
    "execution_id": "adf9299e-2026-42f8-9e7c-b7ed41a2b841"
   },
   "source": [
    "## Подготовка"
   ]
  },
  {
   "cell_type": "code",
   "execution_count": 45,
   "metadata": {
    "cellId": "teiaj4kx009aeetucyhwqm"
   },
   "outputs": [],
   "source": [
    "#%pip install pymystem3"
   ]
  },
  {
   "cell_type": "code",
   "execution_count": 46,
   "metadata": {
    "cellId": "s5bstrkv8ihuq6xeyxnuei"
   },
   "outputs": [
    {
     "name": "stdout",
     "output_type": "stream",
     "text": [
      "Defaulting to user installation because normal site-packages is not writeable\n",
      "Requirement already satisfied: wordcloud in /home/jupyter/.local/lib/python3.8/site-packages (1.8.2.2)\n",
      "Requirement already satisfied: matplotlib in /kernel/lib/python3.8/site-packages (from wordcloud) (3.6.3)\n",
      "Requirement already satisfied: numpy>=1.6.1 in /usr/local/lib/python3.8/dist-packages (from wordcloud) (1.19.2)\n",
      "Requirement already satisfied: pillow in /kernel/lib/python3.8/site-packages (from wordcloud) (9.4.0)\n",
      "Requirement already satisfied: pyparsing>=2.2.1 in /kernel/lib/python3.8/site-packages (from matplotlib->wordcloud) (2.4.7)\n",
      "Requirement already satisfied: contourpy>=1.0.1 in /kernel/lib/python3.8/site-packages (from matplotlib->wordcloud) (1.0.7)\n",
      "Requirement already satisfied: python-dateutil>=2.7 in /kernel/lib/python3.8/site-packages (from matplotlib->wordcloud) (2.8.2)\n",
      "Requirement already satisfied: fonttools>=4.22.0 in /kernel/lib/python3.8/site-packages (from matplotlib->wordcloud) (4.38.0)\n",
      "Requirement already satisfied: kiwisolver>=1.0.1 in /kernel/lib/python3.8/site-packages (from matplotlib->wordcloud) (1.4.4)\n",
      "Requirement already satisfied: packaging>=20.0 in /kernel/lib/python3.8/site-packages (from matplotlib->wordcloud) (20.9)\n",
      "Requirement already satisfied: cycler>=0.10 in /kernel/lib/python3.8/site-packages (from matplotlib->wordcloud) (0.11.0)\n",
      "Requirement already satisfied: six>=1.5 in /kernel/lib/python3.8/site-packages (from python-dateutil>=2.7->matplotlib->wordcloud) (1.16.0)\n"
     ]
    }
   ],
   "source": [
    "#загрузим потренциально необходимые документы\n",
    "\n",
    "import pandas as pd\n",
    "\n",
    "from sklearn.feature_extraction.text import TfidfVectorizer\n",
    "import matplotlib.pyplot as plt \n",
    "import numpy as np \n",
    "\n",
    "import nltk\n",
    "from nltk.corpus import stopwords as nltk_stopwords\n",
    "from nltk import ngrams\n",
    "from nltk.corpus import stopwords as nltk_stopwords\n",
    "from nltk.corpus import wordnet\n",
    "from nltk.stem import WordNetLemmatizer\n",
    "from nltk.tokenize import word_tokenize\n",
    "# nltk.download('all')\n",
    "\n",
    "from sklearn.feature_extraction.text import CountVectorizer\n",
    "from sklearn.tree import DecisionTreeClassifier\n",
    "from sklearn.linear_model import LogisticRegression, SGDClassifier\n",
    "from sklearn.ensemble import RandomForestClassifier\n",
    "from sklearn.model_selection import RandomizedSearchCV\n",
    "\n",
    "from tqdm.notebook import tqdm\n",
    "from tqdm import notebook\n",
    "\n",
    "from pymystem3 import Mystem\n",
    "m = Mystem()\n",
    "\n",
    "from sklearn.preprocessing import StandardScaler\n",
    "from sklearn.pipeline import Pipeline\n",
    "from sklearn.model_selection import train_test_split, cross_val_score, GridSearchCV\n",
    "from sklearn.metrics import classification_report, confusion_matrix, accuracy_score, f1_score\n",
    "from sklearn.metrics import make_scorer\n",
    "from sklearn.utils import shuffle\n",
    "\n",
    "%matplotlib inline\n",
    "from nltk.probability import FreqDist\n",
    "%pip install wordcloud \n",
    "from wordcloud import WordCloud\n",
    "\n",
    "import re\n",
    "import time\n",
    "import warnings\n",
    "warnings.filterwarnings('ignore')\n",
    "RS = [12345]"
   ]
  },
  {
   "cell_type": "code",
   "execution_count": 47,
   "metadata": {
    "cellId": "i1ygkq0g218u5vjob63sa"
   },
   "outputs": [],
   "source": [
    "#загрузим данные\n",
    "try:\n",
    "    df = pd.read_csv('/datasets/toxic_comments.csv')\n",
    "except:\n",
    "    df = pd.read_csv('./toxic_comments.csv')"
   ]
  },
  {
   "cell_type": "code",
   "execution_count": 48,
   "metadata": {
    "cellId": "wqk274symnqd45xvw3ruu"
   },
   "outputs": [
    {
     "data": {
      "text/html": [
       "<div>\n",
       "<style scoped>\n",
       "    .dataframe tbody tr th:only-of-type {\n",
       "        vertical-align: middle;\n",
       "    }\n",
       "\n",
       "    .dataframe tbody tr th {\n",
       "        vertical-align: top;\n",
       "    }\n",
       "\n",
       "    .dataframe thead th {\n",
       "        text-align: right;\n",
       "    }\n",
       "</style>\n",
       "<table border=\"1\" class=\"dataframe\">\n",
       "  <thead>\n",
       "    <tr style=\"text-align: right;\">\n",
       "      <th></th>\n",
       "      <th>Unnamed: 0</th>\n",
       "      <th>text</th>\n",
       "      <th>toxic</th>\n",
       "    </tr>\n",
       "  </thead>\n",
       "  <tbody>\n",
       "    <tr>\n",
       "      <th>0</th>\n",
       "      <td>0</td>\n",
       "      <td>Explanation\\nWhy the edits made under my usern...</td>\n",
       "      <td>0</td>\n",
       "    </tr>\n",
       "    <tr>\n",
       "      <th>1</th>\n",
       "      <td>1</td>\n",
       "      <td>D'aww! He matches this background colour I'm s...</td>\n",
       "      <td>0</td>\n",
       "    </tr>\n",
       "    <tr>\n",
       "      <th>2</th>\n",
       "      <td>2</td>\n",
       "      <td>Hey man, I'm really not trying to edit war. It...</td>\n",
       "      <td>0</td>\n",
       "    </tr>\n",
       "    <tr>\n",
       "      <th>3</th>\n",
       "      <td>3</td>\n",
       "      <td>\"\\nMore\\nI can't make any real suggestions on ...</td>\n",
       "      <td>0</td>\n",
       "    </tr>\n",
       "    <tr>\n",
       "      <th>4</th>\n",
       "      <td>4</td>\n",
       "      <td>You, sir, are my hero. Any chance you remember...</td>\n",
       "      <td>0</td>\n",
       "    </tr>\n",
       "  </tbody>\n",
       "</table>\n",
       "</div>"
      ],
      "text/plain": [
       "   Unnamed: 0                                               text  toxic\n",
       "0           0  Explanation\\nWhy the edits made under my usern...      0\n",
       "1           1  D'aww! He matches this background colour I'm s...      0\n",
       "2           2  Hey man, I'm really not trying to edit war. It...      0\n",
       "3           3  \"\\nMore\\nI can't make any real suggestions on ...      0\n",
       "4           4  You, sir, are my hero. Any chance you remember...      0"
      ]
     },
     "metadata": {},
     "output_type": "display_data"
    }
   ],
   "source": [
    "display(df.head())"
   ]
  },
  {
   "cell_type": "code",
   "execution_count": 49,
   "metadata": {
    "cellId": "agcwxmoc0nu7o918a4kykk"
   },
   "outputs": [
    {
     "data": {
      "text/plain": [
       "Unnamed: 0     int64\n",
       "text          object\n",
       "toxic          int64\n",
       "dtype: object"
      ]
     },
     "metadata": {},
     "output_type": "display_data"
    }
   ],
   "source": [
    "df.dtypes"
   ]
  },
  {
   "cell_type": "code",
   "execution_count": 50,
   "metadata": {
    "cellId": "po2as80ww4lkk9myod8ae"
   },
   "outputs": [
    {
     "data": {
      "text/plain": [
       "0         False\n",
       "1         False\n",
       "2         False\n",
       "3         False\n",
       "4         False\n",
       "          ...  \n",
       "159287    False\n",
       "159288    False\n",
       "159289    False\n",
       "159290    False\n",
       "159291    False\n",
       "Length: 159292, dtype: bool"
      ]
     },
     "metadata": {},
     "output_type": "display_data"
    }
   ],
   "source": [
    "#посмотрим на дубликаты\n",
    "display(df.duplicated())"
   ]
  },
  {
   "cell_type": "code",
   "execution_count": 51,
   "metadata": {
    "cellId": "22escnepkgy72hw96lgsv"
   },
   "outputs": [
    {
     "data": {
      "text/plain": [
       "Unnamed: 0    0\n",
       "text          0\n",
       "toxic         0\n",
       "dtype: int64"
      ]
     },
     "metadata": {},
     "output_type": "display_data"
    }
   ],
   "source": [
    "# посмотрим на пропуски\n",
    "display(df.isna().sum())"
   ]
  },
  {
   "cell_type": "code",
   "execution_count": 52,
   "metadata": {
    "cellId": "laqx2265h7047l27jh6tmm"
   },
   "outputs": [
    {
     "data": {
      "text/plain": [
       "(159292, 3)"
      ]
     },
     "metadata": {},
     "output_type": "display_data"
    }
   ],
   "source": [
    "df.shape"
   ]
  },
  {
   "cell_type": "code",
   "execution_count": 53,
   "metadata": {
    "cellId": "msdflrn8a8qtx1bxb5j5m"
   },
   "outputs": [
    {
     "name": "stdout",
     "output_type": "stream",
     "text": [
      "<class 'pandas.core.frame.DataFrame'>\n",
      "RangeIndex: 159292 entries, 0 to 159291\n",
      "Data columns (total 3 columns):\n",
      "Unnamed: 0    159292 non-null int64\n",
      "text          159292 non-null object\n",
      "toxic         159292 non-null int64\n",
      "dtypes: int64(2), object(1)\n",
      "memory usage: 3.6+ MB\n"
     ]
    },
    {
     "data": {
      "text/plain": [
       "None"
      ]
     },
     "metadata": {},
     "output_type": "display_data"
    }
   ],
   "source": [
    "display(df.info())"
   ]
  },
  {
   "cell_type": "code",
   "execution_count": 54,
   "metadata": {
    "cellId": "c8iye0kyl6haozbgtkodi"
   },
   "outputs": [],
   "source": [
    "# убираем малоинформативный столбец Unnamed:\n",
    "df= df.drop(['Unnamed: 0'], axis=1)"
   ]
  },
  {
   "cell_type": "code",
   "execution_count": 55,
   "metadata": {
    "cellId": "jy74hna9z7ay493igogvd"
   },
   "outputs": [
    {
     "data": {
      "text/html": [
       "<div>\n",
       "<style scoped>\n",
       "    .dataframe tbody tr th:only-of-type {\n",
       "        vertical-align: middle;\n",
       "    }\n",
       "\n",
       "    .dataframe tbody tr th {\n",
       "        vertical-align: top;\n",
       "    }\n",
       "\n",
       "    .dataframe thead th {\n",
       "        text-align: right;\n",
       "    }\n",
       "</style>\n",
       "<table border=\"1\" class=\"dataframe\">\n",
       "  <thead>\n",
       "    <tr style=\"text-align: right;\">\n",
       "      <th></th>\n",
       "      <th>text</th>\n",
       "      <th>toxic</th>\n",
       "    </tr>\n",
       "  </thead>\n",
       "  <tbody>\n",
       "    <tr>\n",
       "      <th>0</th>\n",
       "      <td>Explanation\\nWhy the edits made under my usern...</td>\n",
       "      <td>0</td>\n",
       "    </tr>\n",
       "    <tr>\n",
       "      <th>1</th>\n",
       "      <td>D'aww! He matches this background colour I'm s...</td>\n",
       "      <td>0</td>\n",
       "    </tr>\n",
       "    <tr>\n",
       "      <th>2</th>\n",
       "      <td>Hey man, I'm really not trying to edit war. It...</td>\n",
       "      <td>0</td>\n",
       "    </tr>\n",
       "    <tr>\n",
       "      <th>3</th>\n",
       "      <td>\"\\nMore\\nI can't make any real suggestions on ...</td>\n",
       "      <td>0</td>\n",
       "    </tr>\n",
       "    <tr>\n",
       "      <th>4</th>\n",
       "      <td>You, sir, are my hero. Any chance you remember...</td>\n",
       "      <td>0</td>\n",
       "    </tr>\n",
       "  </tbody>\n",
       "</table>\n",
       "</div>"
      ],
      "text/plain": [
       "                                                text  toxic\n",
       "0  Explanation\\nWhy the edits made under my usern...      0\n",
       "1  D'aww! He matches this background colour I'm s...      0\n",
       "2  Hey man, I'm really not trying to edit war. It...      0\n",
       "3  \"\\nMore\\nI can't make any real suggestions on ...      0\n",
       "4  You, sir, are my hero. Any chance you remember...      0"
      ]
     },
     "metadata": {},
     "output_type": "display_data"
    }
   ],
   "source": [
    "display(df.head())"
   ]
  },
  {
   "cell_type": "code",
   "execution_count": 56,
   "metadata": {
    "cellId": "6o7s7fq1i3sxfxtkkffph"
   },
   "outputs": [
    {
     "data": {
      "image/png": "[encoded data removed]",
      "text/plain": [
       "<Figure size 432x288 with 1 Axes>"
      ]
     },
     "metadata": {},
     "output_type": "display_data"
    }
   ],
   "source": [
    "# построим диаграмму по целевому признаку toxic\n",
    "\n",
    "plt.style.use(\"bmh\")\n",
    "\n",
    "size = df['toxic'].value_counts()\n",
    "colors = ['pink', 'lightblue']\n",
    "labels = \"Отзыв не токсичный\", \"Отзыв токсичный\"\n",
    "explode = [0.06, 0.07] \n",
    "donut = plt.Circle((0,0), 0.5, color = 'white')\n",
    "\n",
    "plt.pie(size, colors = colors, labels = labels, shadow = True, explode = explode, autopct = '%.2f%%')\n",
    "\n",
    "plt.title('Статистика по токсичным выражениям', fontsize = 15)\n",
    "p = plt.gcf()\n",
    "\n",
    "p.gca().add_artist(donut)\n",
    "plt.legend()\n",
    "plt.show()"
   ]
  },
  {
   "cell_type": "code",
   "execution_count": 57,
   "metadata": {
    "cellId": "mx98pr1anhpnx9r1edrtmd"
   },
   "outputs": [
    {
     "name": "stdout",
     "output_type": "stream",
     "text": [
      "\n"
     ]
    },
    {
     "data": {
      "application/vnd.jupyter.widget-view+json": {
       "model_id": "979d264363d24a8db982c9cd1b2c74a6",
       "version_major": 2,
       "version_minor": 0
      },
      "text/plain": [
       "HBox(children=(HTML(value=''), FloatProgress(value=0.0, max=159292.0), HTML(value='')))"
      ]
     },
     "metadata": {},
     "output_type": "display_data"
    }
   ],
   "source": [
    "# лемматизация, очистка текстов от лишних знаков\n",
    "\n",
    "def preprocess_text(text):\n",
    "    tokenized = nltk.word_tokenize(text)\n",
    "    joined = ' '.join(tokenized)\n",
    "    text_only = re.sub(r'[^a-zA-Z]', ' ', joined)\n",
    "    new_result = ' '.join(text_only.split())\n",
    "    return new_result\n",
    "\n",
    "\n",
    "notebook.tqdm.pandas() \n",
    "\n",
    "df['text_clear'] = df['text'].progress_apply(preprocess_text)\n"
   ]
  },
  {
   "cell_type": "code",
   "execution_count": 58,
   "metadata": {
    "cellId": "o7t45k7m91pta9m48tgfd"
   },
   "outputs": [
    {
     "data": {
      "text/html": [
       "<div>\n",
       "<style scoped>\n",
       "    .dataframe tbody tr th:only-of-type {\n",
       "        vertical-align: middle;\n",
       "    }\n",
       "\n",
       "    .dataframe tbody tr th {\n",
       "        vertical-align: top;\n",
       "    }\n",
       "\n",
       "    .dataframe thead th {\n",
       "        text-align: right;\n",
       "    }\n",
       "</style>\n",
       "<table border=\"1\" class=\"dataframe\">\n",
       "  <thead>\n",
       "    <tr style=\"text-align: right;\">\n",
       "      <th></th>\n",
       "      <th>text</th>\n",
       "      <th>toxic</th>\n",
       "      <th>text_clear</th>\n",
       "    </tr>\n",
       "  </thead>\n",
       "  <tbody>\n",
       "    <tr>\n",
       "      <th>0</th>\n",
       "      <td>Explanation\\nWhy the edits made under my usern...</td>\n",
       "      <td>0</td>\n",
       "      <td>Explanation Why the edits made under my userna...</td>\n",
       "    </tr>\n",
       "    <tr>\n",
       "      <th>1</th>\n",
       "      <td>D'aww! He matches this background colour I'm s...</td>\n",
       "      <td>0</td>\n",
       "      <td>D aww He matches this background colour I m se...</td>\n",
       "    </tr>\n",
       "    <tr>\n",
       "      <th>2</th>\n",
       "      <td>Hey man, I'm really not trying to edit war. It...</td>\n",
       "      <td>0</td>\n",
       "      <td>Hey man I m really not trying to edit war It s...</td>\n",
       "    </tr>\n",
       "    <tr>\n",
       "      <th>3</th>\n",
       "      <td>\"\\nMore\\nI can't make any real suggestions on ...</td>\n",
       "      <td>0</td>\n",
       "      <td>More I ca n t make any real suggestions on imp...</td>\n",
       "    </tr>\n",
       "    <tr>\n",
       "      <th>4</th>\n",
       "      <td>You, sir, are my hero. Any chance you remember...</td>\n",
       "      <td>0</td>\n",
       "      <td>You sir are my hero Any chance you remember wh...</td>\n",
       "    </tr>\n",
       "  </tbody>\n",
       "</table>\n",
       "</div>"
      ],
      "text/plain": [
       "                                                text  toxic  \\\n",
       "0  Explanation\\nWhy the edits made under my usern...      0   \n",
       "1  D'aww! He matches this background colour I'm s...      0   \n",
       "2  Hey man, I'm really not trying to edit war. It...      0   \n",
       "3  \"\\nMore\\nI can't make any real suggestions on ...      0   \n",
       "4  You, sir, are my hero. Any chance you remember...      0   \n",
       "\n",
       "                                          text_clear  \n",
       "0  Explanation Why the edits made under my userna...  \n",
       "1  D aww He matches this background colour I m se...  \n",
       "2  Hey man I m really not trying to edit war It s...  \n",
       "3  More I ca n t make any real suggestions on imp...  \n",
       "4  You sir are my hero Any chance you remember wh...  "
      ]
     },
     "metadata": {},
     "output_type": "display_data"
    }
   ],
   "source": [
    "df.head()"
   ]
  },
  {
   "cell_type": "code",
   "execution_count": 59,
   "metadata": {
    "cellId": "ueqqec8u5whmtqm0z0cr0k"
   },
   "outputs": [
    {
     "data": {
      "text/plain": [
       "(-0.5, 399.5, 199.5, -0.5)"
      ]
     },
     "metadata": {},
     "output_type": "display_data"
    },
    {
     "data": {
      "image/png": "[encoded data removed]",
      "text/plain": [
       "<Figure size 864x1080 with 1 Axes>"
      ]
     },
     "metadata": {
      "needs_background": "light"
     },
     "output_type": "display_data"
    }
   ],
   "source": [
    "#визуализируем облако слов с наибольшей частотой использования в тексте: чем чаще встречается слово, тем большим размером шрифта оно написано \n",
    "text = ' '.join(df['text'])\n",
    "cloud = WordCloud(contour_width=12,background_color='#272d3b', colormap='Set3', max_words=50).generate(text)\n",
    "plt.figure(figsize=(12,15))\n",
    "plt.imshow(cloud)\n",
    "plt.axis('off')"
   ]
  },
  {
   "cell_type": "code",
   "execution_count": 60,
   "metadata": {
    "cellId": "lykfgpxj56usex98ic84"
   },
   "outputs": [
    {
     "data": {
      "text/plain": [
       "(-0.5, 399.5, 199.5, -0.5)"
      ]
     },
     "metadata": {},
     "output_type": "display_data"
    },
    {
     "data": {
      "image/png": "[encoded data removed]",
      "text/plain": [
       "<Figure size 864x1080 with 1 Axes>"
      ]
     },
     "metadata": {
      "needs_background": "light"
     },
     "output_type": "display_data"
    }
   ],
   "source": [
    "text = ' '.join(df['text_clear'])\n",
    "cloud = WordCloud(contour_width=12,background_color='#272d3b', colormap='Set3', max_words=50).generate(text)\n",
    "plt.figure(figsize=(12,15))\n",
    "plt.imshow(cloud)\n",
    "plt.axis('off')"
   ]
  },
  {
   "cell_type": "code",
   "execution_count": 61,
   "metadata": {
    "cellId": "oivz39qzfwh03yvmas1zw"
   },
   "outputs": [],
   "source": [
    "#разделим на выборки\n",
    "X_train_clear, X_test_clear = train_test_split(df['text_clear'], test_size=.25, random_state=12345)\n",
    "y_train, y_test = train_test_split(df['toxic'], test_size=.25, random_state=12345)"
   ]
  },
  {
   "cell_type": "code",
   "execution_count": 62,
   "metadata": {
    "cellId": "4wtalhp4cwtshaubw8uo4"
   },
   "outputs": [
    {
     "data": {
      "text/plain": [
       "((119469,), (39823,), (119469,), (39823,))"
      ]
     },
     "metadata": {},
     "output_type": "display_data"
    }
   ],
   "source": [
    "X_train_clear.shape, X_test_clear.shape,y_train.shape, y_test.shape"
   ]
  },
  {
   "cell_type": "code",
   "execution_count": 63,
   "metadata": {
    "cellId": "c3csmnlj10nga7a7q2hbd5"
   },
   "outputs": [],
   "source": [
    "#убираем стоп-слова\n",
    "stopwords = set(nltk_stopwords.words('english'))\n",
    "count_tf_idf = TfidfVectorizer(analyzer='word',stop_words= 'english')"
   ]
  },
  {
   "cell_type": "code",
   "execution_count": 64,
   "metadata": {
    "cellId": "gfaosdit9674begzt5a1ms"
   },
   "outputs": [
    {
     "data": {
      "text/plain": [
       "((119469, 141843), (39823, 141843))"
      ]
     },
     "metadata": {},
     "output_type": "display_data"
    }
   ],
   "source": [
    "X_train = count_tf_idf.fit_transform(X_train_clear)\n",
    "X_test = count_tf_idf.transform(X_test_clear)\n",
    "X_train.shape, X_test.shape"
   ]
  },
  {
   "cell_type": "markdown",
   "metadata": {
    "cellId": "iwjfw7lc15umcu4famwdh",
    "execution_id": "20d74a50-81c0-4636-b51f-88ab966fde81"
   },
   "source": [
    "Данные проекта:\n",
    " - предварительно обработаны;\n",
    " - поделены на две выборки: обучающую и тестовую."
   ]
  },
  {
   "cell_type": "markdown",
   "metadata": {
    "cellId": "c0o7hkiuf5xt000y8lbzf",
    "execution_id": "f6c261e1-9d1b-4e75-9c04-be5bd25c1c43"
   },
   "source": [
    "## Обучение"
   ]
  },
  {
   "cell_type": "code",
   "execution_count": 65,
   "metadata": {
    "cellId": "qzt5c4z4nigic7lzh7g0zl"
   },
   "outputs": [],
   "source": [
    "score = make_scorer(f1_score)"
   ]
  },
  {
   "cell_type": "code",
   "execution_count": 66,
   "metadata": {
    "cellId": "mem4u6bt37ycbnbnjxqaa"
   },
   "outputs": [],
   "source": [
    "n_splits = 3"
   ]
  },
  {
   "cell_type": "markdown",
   "metadata": {
    "cellId": "kph1ygv806dir9jirfegv",
    "execution_id": "ffb6bf9a-a986-4edb-b5e1-b4c9f34374bf"
   },
   "source": [
    "***RandomForestClassifier***"
   ]
  },
  {
   "cell_type": "code",
   "execution_count": 67,
   "metadata": {
    "cellId": "5lr1sshipqa2sinvy58g8"
   },
   "outputs": [],
   "source": [
    "#для информации: class sklearn.ensemble.RandomForestClassifier(n_estimators=100, *, criterion='gini', max_depth=None, \n",
    "#min_samples_split=2, #min_samples_leaf=1, min_weight_fraction_leaf=0.0, max_features='sqrt', max_leaf_nodes=None, min_impurity_decrease=0.0, \n",
    "#bootstrap=True, #oob_score=False, n_jobs=None, random_state=None, verbose=0, warm_start=False, class_weight=None, ccp_alpha=0.0, max_samples=None)"
   ]
  },
  {
   "cell_type": "code",
   "execution_count": 68,
   "metadata": {
    "cellId": "1slpogxczx10myg8s440s"
   },
   "outputs": [
    {
     "name": "stdout",
     "output_type": "stream",
     "text": [
      "лучший результат F1: 0.4015131824333926\n",
      "**************************************************\n",
      "CPU times: user 5min 28s, sys: 1.26 s, total: 5min 29s\n",
      "Wall time: 5min 26s\n"
     ]
    },
    {
     "data": {
      "text/plain": [
       "{'random_state': 12345,\n",
       " 'n_estimators': 150,\n",
       " 'max_depth': 15,\n",
       " 'class_weight': 'balanced'}"
      ]
     },
     "metadata": {},
     "output_type": "display_data"
    }
   ],
   "source": [
    "%%time\n",
    "\n",
    "params = {\"max_depth\": [5, 10, 15], \n",
    "          \"n_estimators\": [30, 90, 150], \n",
    "          \"random_state\": RS, \n",
    "          \"class_weight\": ['balanced']\n",
    "         }\n",
    "model_rfc = RandomForestClassifier()\n",
    "\n",
    "model_rfc_rs = RandomizedSearchCV(model_rfc, cv=n_splits, scoring=score, param_distributions=params)\n",
    "model_rfc_rs.fit(X_train, y_train)\n",
    "\n",
    "print('лучший результат F1:', model_rfc_rs.best_score_)\n",
    "print('*'*50)\n",
    "model_rfc_rs.best_params_"
   ]
  },
  {
   "cell_type": "markdown",
   "metadata": {
    "cellId": "d4t9on9m77kxwe3scu6nt",
    "execution_id": "6fb839ae-75ed-461a-a61c-c790082f0820"
   },
   "source": [
    "***LogisticRegression***"
   ]
  },
  {
   "cell_type": "code",
   "execution_count": 69,
   "metadata": {
    "cellId": "eg5teqaacl73tmha75vvud"
   },
   "outputs": [],
   "source": [
    "#для информации: class sklearn.linear_model.LogisticRegression(penalty='l2', *, dual=False, tol=0.0001, C=1.0, fit_intercept=True,\n",
    "#intercept_scaling=1, class_weight=None, random_state=None, solver='lbfgs', max_iter=100, multi_class='auto', verbose=0, warm_start=False,\n",
    "# n_jobs=None, l1_ratio=None)"
   ]
  },
  {
   "cell_type": "code",
   "execution_count": 70,
   "metadata": {
    "cellId": "zaxqdbktw8j7q0hbaia22p"
   },
   "outputs": [
    {
     "name": "stdout",
     "output_type": "stream",
     "text": [
      "Fitting 3 folds for each of 3 candidates, totalling 9 fits\n",
      "лучший результат F1: 0.753862785528237\n",
      "**************************************************\n",
      "CPU times: user 27.8 s, sys: 3 s, total: 30.8 s\n",
      "Wall time: 26.9 s\n"
     ]
    },
    {
     "data": {
      "text/plain": [
       "{'random_state': 12345, 'max_iter': 150, 'class_weight': 'balanced', 'C': 1.5}"
      ]
     },
     "metadata": {},
     "output_type": "display_data"
    }
   ],
   "source": [
    "%%time\n",
    "\n",
    "params_lr = {\"class_weight\": ['balanced'], \n",
    "             \"random_state\": [12345],\n",
    "             \"max_iter\": [100, 150, 200],\n",
    "             \"C\": [0.5, 1.0, 1.5]\n",
    "            }\n",
    "model_lr = LogisticRegression()\n",
    "model_lr_rs = RandomizedSearchCV(\n",
    "    model_lr, cv=n_splits, scoring=score, \n",
    "    param_distributions=params_lr, n_iter=n_splits, verbose=True\n",
    ")\n",
    "model_lr_rs.fit(X_train, y_train)\n",
    "\n",
    "print('лучший результат F1:', model_lr_rs.best_score_)\n",
    "print('*'*50)\n",
    "model_lr_rs.best_params_"
   ]
  },
  {
   "cell_type": "code",
   "execution_count": 71,
   "metadata": {
    "cellId": "8i2ojpvwukz7yn2bjmpe"
   },
   "outputs": [
    {
     "data": {
      "text/html": [
       "<div>\n",
       "<style scoped>\n",
       "    .dataframe tbody tr th:only-of-type {\n",
       "        vertical-align: middle;\n",
       "    }\n",
       "\n",
       "    .dataframe tbody tr th {\n",
       "        vertical-align: top;\n",
       "    }\n",
       "\n",
       "    .dataframe thead th {\n",
       "        text-align: right;\n",
       "    }\n",
       "</style>\n",
       "<table border=\"1\" class=\"dataframe\">\n",
       "  <thead>\n",
       "    <tr style=\"text-align: right;\">\n",
       "      <th></th>\n",
       "      <th>F1</th>\n",
       "    </tr>\n",
       "  </thead>\n",
       "  <tbody>\n",
       "    <tr>\n",
       "      <th>RandomForestClassifier</th>\n",
       "      <td>0.401513</td>\n",
       "    </tr>\n",
       "    <tr>\n",
       "      <th>LogisticRegression</th>\n",
       "      <td>0.753863</td>\n",
       "    </tr>\n",
       "  </tbody>\n",
       "</table>\n",
       "</div>"
      ],
      "text/plain": [
       "                              F1\n",
       "RandomForestClassifier  0.401513\n",
       "LogisticRegression      0.753863"
      ]
     },
     "metadata": {},
     "output_type": "display_data"
    }
   ],
   "source": [
    "table = pd.DataFrame(index=['F1'], columns=['RandomForestClassifier','LogisticRegression'])\n",
    "table['RandomForestClassifier'] = model_rfc_rs.best_score_\n",
    "table['LogisticRegression'] = model_lr_rs.best_score_\n",
    "table.T"
   ]
  },
  {
   "cell_type": "code",
   "execution_count": 72,
   "metadata": {
    "cellId": "lr4nn0vuqzngw92smfwra"
   },
   "outputs": [
    {
     "data": {
      "text/plain": [
       "0.7615894039735099"
      ]
     },
     "metadata": {},
     "output_type": "display_data"
    }
   ],
   "source": [
    "# проверка лучшей модели LogisticRegression на тестовой выборке\n",
    "\n",
    "predict = model_lr_rs.predict(X_test)\n",
    "f1_score(y_test, predict)"
   ]
  },
  {
   "cell_type": "markdown",
   "metadata": {
    "cellId": "uqwx9efr5ikn3wnrp2ep2",
    "execution_id": "ad9f0eb6-7d55-4e0c-9362-353b60bed986"
   },
   "source": [
    "## Выводы"
   ]
  },
  {
   "cell_type": "markdown",
   "metadata": {
    "cellId": "wdd650aimbkpyxikmksmok",
    "execution_id": "ce34b73b-9d66-4f87-9444-0a2a9e4a5621"
   },
   "source": [
    "- данные загружены, предобработаны, поделены на две выборки: обучающую и тестовую;\n",
    "- при обучении были подобраны параметры и обучены модели;\n",
    "- Модель LogisticRegression показала лучшие результаты согласно требованиям, в том числе на тестовой выборке."
   ]
  }
 ],
 "metadata": {
  "ExecuteTimeLog": [
   {
    "duration": 59,
    "start_time": "2023-01-18T09:49:59.388Z"
   },
   {
    "duration": 1554,
    "start_time": "2023-01-18T09:50:06.104Z"
   },
   {
    "duration": 130,
    "start_time": "2023-01-18T09:50:08.081Z"
   },
   {
    "duration": 42,
    "start_time": "2023-01-18T09:50:20.467Z"
   },
   {
    "duration": 2736,
    "start_time": "2023-01-18T09:51:16.306Z"
   },
   {
    "duration": 12,
    "start_time": "2023-01-18T09:51:54.130Z"
   },
   {
    "duration": 15,
    "start_time": "2023-01-18T09:52:54.834Z"
   },
   {
    "duration": 28,
    "start_time": "2023-01-18T09:53:11.369Z"
   },
   {
    "duration": 22,
    "start_time": "2023-01-18T09:53:30.774Z"
   },
   {
    "duration": 41,
    "start_time": "2023-01-18T09:53:51.670Z"
   },
   {
    "duration": 62,
    "start_time": "2023-01-18T09:54:45.690Z"
   },
   {
    "duration": 5,
    "start_time": "2023-01-18T09:54:50.786Z"
   },
   {
    "duration": 568,
    "start_time": "2023-01-18T09:56:37.824Z"
   },
   {
    "duration": 41,
    "start_time": "2023-01-18T10:04:54.330Z"
   },
   {
    "duration": 256,
    "start_time": "2023-01-18T10:05:01.879Z"
   },
   {
    "duration": 1531,
    "start_time": "2023-01-18T10:05:07.205Z"
   },
   {
    "duration": 941,
    "start_time": "2023-01-18T10:05:08.740Z"
   },
   {
    "duration": 14,
    "start_time": "2023-01-18T10:05:09.683Z"
   },
   {
    "duration": 16,
    "start_time": "2023-01-18T10:05:09.699Z"
   },
   {
    "duration": 41,
    "start_time": "2023-01-18T10:05:09.718Z"
   },
   {
    "duration": 48,
    "start_time": "2023-01-18T10:05:09.763Z"
   },
   {
    "duration": 1100,
    "start_time": "2023-01-18T10:05:09.812Z"
   },
   {
    "duration": 5,
    "start_time": "2023-01-18T10:06:08.509Z"
   },
   {
    "duration": 2166,
    "start_time": "2023-01-18T10:38:52.327Z"
   },
   {
    "duration": 51,
    "start_time": "2023-01-18T10:41:03.130Z"
   },
   {
    "duration": 7,
    "start_time": "2023-01-18T10:41:13.594Z"
   },
   {
    "duration": 6,
    "start_time": "2023-01-18T10:48:23.221Z"
   },
   {
    "duration": 8,
    "start_time": "2023-01-18T10:49:05.444Z"
   },
   {
    "duration": 6,
    "start_time": "2023-01-18T10:49:26.732Z"
   },
   {
    "duration": 1423,
    "start_time": "2023-01-18T10:49:31.351Z"
   },
   {
    "duration": 2513,
    "start_time": "2023-01-18T10:49:32.776Z"
   },
   {
    "duration": 15,
    "start_time": "2023-01-18T10:49:35.291Z"
   },
   {
    "duration": 17,
    "start_time": "2023-01-18T10:49:35.307Z"
   },
   {
    "duration": 39,
    "start_time": "2023-01-18T10:49:35.326Z"
   },
   {
    "duration": 54,
    "start_time": "2023-01-18T10:49:35.366Z"
   },
   {
    "duration": 134,
    "start_time": "2023-01-18T10:49:35.421Z"
   },
   {
    "duration": 0,
    "start_time": "2023-01-18T10:49:35.557Z"
   },
   {
    "duration": 0,
    "start_time": "2023-01-18T10:49:35.558Z"
   },
   {
    "duration": 1364,
    "start_time": "2023-01-18T10:49:52.516Z"
   },
   {
    "duration": 887,
    "start_time": "2023-01-18T10:49:53.882Z"
   },
   {
    "duration": 14,
    "start_time": "2023-01-18T10:49:54.771Z"
   },
   {
    "duration": 25,
    "start_time": "2023-01-18T10:49:54.787Z"
   },
   {
    "duration": 32,
    "start_time": "2023-01-18T10:49:54.813Z"
   },
   {
    "duration": 33,
    "start_time": "2023-01-18T10:49:54.847Z"
   },
   {
    "duration": 2031,
    "start_time": "2023-01-18T10:49:54.882Z"
   },
   {
    "duration": 947,
    "start_time": "2023-01-18T10:49:56.915Z"
   },
   {
    "duration": 140,
    "start_time": "2023-01-18T10:52:09.071Z"
   },
   {
    "duration": 4,
    "start_time": "2023-01-18T10:52:47.727Z"
   },
   {
    "duration": 14,
    "start_time": "2023-01-18T10:52:49.471Z"
   },
   {
    "duration": 1340,
    "start_time": "2023-01-18T10:52:55.813Z"
   },
   {
    "duration": 882,
    "start_time": "2023-01-18T10:52:57.155Z"
   },
   {
    "duration": 15,
    "start_time": "2023-01-18T10:52:58.039Z"
   },
   {
    "duration": 23,
    "start_time": "2023-01-18T10:52:58.057Z"
   },
   {
    "duration": 52,
    "start_time": "2023-01-18T10:52:58.082Z"
   },
   {
    "duration": 39,
    "start_time": "2023-01-18T10:52:58.136Z"
   },
   {
    "duration": 1973,
    "start_time": "2023-01-18T10:52:58.177Z"
   },
   {
    "duration": 786,
    "start_time": "2023-01-18T10:53:00.152Z"
   },
   {
    "duration": 4,
    "start_time": "2023-01-18T10:53:00.940Z"
   },
   {
    "duration": 167,
    "start_time": "2023-01-18T10:53:00.947Z"
   },
   {
    "duration": 14,
    "start_time": "2023-01-18T10:55:57.997Z"
   },
   {
    "duration": 6,
    "start_time": "2023-01-18T10:56:04.263Z"
   },
   {
    "duration": 3,
    "start_time": "2023-01-18T10:57:16.094Z"
   },
   {
    "duration": 21,
    "start_time": "2023-01-18T10:57:17.668Z"
   },
   {
    "duration": 1350,
    "start_time": "2023-01-18T10:57:39.712Z"
   },
   {
    "duration": 871,
    "start_time": "2023-01-18T10:57:41.064Z"
   },
   {
    "duration": 13,
    "start_time": "2023-01-18T10:57:41.938Z"
   },
   {
    "duration": 15,
    "start_time": "2023-01-18T10:57:41.954Z"
   },
   {
    "duration": 22,
    "start_time": "2023-01-18T10:57:41.970Z"
   },
   {
    "duration": 48,
    "start_time": "2023-01-18T10:57:41.994Z"
   },
   {
    "duration": 2102,
    "start_time": "2023-01-18T10:57:42.045Z"
   },
   {
    "duration": 851,
    "start_time": "2023-01-18T10:57:44.149Z"
   },
   {
    "duration": 4,
    "start_time": "2023-01-18T10:57:45.002Z"
   },
   {
    "duration": 162,
    "start_time": "2023-01-18T10:57:45.009Z"
   },
   {
    "duration": 3,
    "start_time": "2023-01-18T10:58:09.865Z"
   },
   {
    "duration": 1389,
    "start_time": "2023-01-18T10:58:15.730Z"
   },
   {
    "duration": 911,
    "start_time": "2023-01-18T10:58:17.121Z"
   },
   {
    "duration": 14,
    "start_time": "2023-01-18T10:58:18.037Z"
   },
   {
    "duration": 31,
    "start_time": "2023-01-18T10:58:18.052Z"
   },
   {
    "duration": 53,
    "start_time": "2023-01-18T10:58:18.085Z"
   },
   {
    "duration": 52,
    "start_time": "2023-01-18T10:58:18.140Z"
   },
   {
    "duration": 2074,
    "start_time": "2023-01-18T10:58:18.195Z"
   },
   {
    "duration": 841,
    "start_time": "2023-01-18T10:58:20.272Z"
   },
   {
    "duration": 4,
    "start_time": "2023-01-18T10:58:21.115Z"
   },
   {
    "duration": 174,
    "start_time": "2023-01-18T10:58:21.120Z"
   },
   {
    "duration": 3,
    "start_time": "2023-01-18T10:58:54.600Z"
   },
   {
    "duration": 1377,
    "start_time": "2023-01-18T10:59:00.765Z"
   },
   {
    "duration": 970,
    "start_time": "2023-01-18T10:59:02.144Z"
   },
   {
    "duration": 14,
    "start_time": "2023-01-18T10:59:03.116Z"
   },
   {
    "duration": 7,
    "start_time": "2023-01-18T10:59:03.138Z"
   },
   {
    "duration": 29,
    "start_time": "2023-01-18T10:59:03.147Z"
   },
   {
    "duration": 53,
    "start_time": "2023-01-18T10:59:03.178Z"
   },
   {
    "duration": 2043,
    "start_time": "2023-01-18T10:59:03.233Z"
   },
   {
    "duration": 853,
    "start_time": "2023-01-18T10:59:05.278Z"
   },
   {
    "duration": 4,
    "start_time": "2023-01-18T10:59:06.137Z"
   },
   {
    "duration": 22,
    "start_time": "2023-01-18T10:59:06.143Z"
   },
   {
    "duration": 1262,
    "start_time": "2023-01-18T11:07:48.970Z"
   },
   {
    "duration": 1318,
    "start_time": "2023-01-18T11:08:04.546Z"
   },
   {
    "duration": 889,
    "start_time": "2023-01-18T11:08:05.866Z"
   },
   {
    "duration": 15,
    "start_time": "2023-01-18T11:08:06.757Z"
   },
   {
    "duration": 5,
    "start_time": "2023-01-18T11:08:06.774Z"
   },
   {
    "duration": 23,
    "start_time": "2023-01-18T11:08:06.781Z"
   },
   {
    "duration": 53,
    "start_time": "2023-01-18T11:08:06.806Z"
   },
   {
    "duration": 2066,
    "start_time": "2023-01-18T11:08:06.861Z"
   },
   {
    "duration": 837,
    "start_time": "2023-01-18T11:08:08.929Z"
   },
   {
    "duration": 4,
    "start_time": "2023-01-18T11:08:09.769Z"
   },
   {
    "duration": 11,
    "start_time": "2023-01-18T11:08:09.775Z"
   },
   {
    "duration": 1098,
    "start_time": "2023-01-18T11:08:09.788Z"
   },
   {
    "duration": 17,
    "start_time": "2023-01-18T11:08:33.480Z"
   },
   {
    "duration": 772,
    "start_time": "2023-01-18T11:08:47.221Z"
   },
   {
    "duration": 53,
    "start_time": "2023-01-18T11:15:04.560Z"
   },
   {
    "duration": 1494,
    "start_time": "2023-01-18T11:15:10.953Z"
   },
   {
    "duration": 2473,
    "start_time": "2023-01-18T11:15:12.451Z"
   },
   {
    "duration": 14,
    "start_time": "2023-01-18T11:15:14.926Z"
   },
   {
    "duration": 5,
    "start_time": "2023-01-18T11:15:14.942Z"
   },
   {
    "duration": 25,
    "start_time": "2023-01-18T11:15:14.949Z"
   },
   {
    "duration": 32,
    "start_time": "2023-01-18T11:15:14.975Z"
   },
   {
    "duration": 2016,
    "start_time": "2023-01-18T11:15:15.009Z"
   },
   {
    "duration": 1049,
    "start_time": "2023-01-18T11:15:17.027Z"
   },
   {
    "duration": 4,
    "start_time": "2023-01-18T11:15:18.078Z"
   },
   {
    "duration": 28,
    "start_time": "2023-01-18T11:15:18.084Z"
   },
   {
    "duration": 48,
    "start_time": "2023-01-18T11:16:40.260Z"
   },
   {
    "duration": 1421,
    "start_time": "2023-01-18T11:16:47.309Z"
   },
   {
    "duration": 2503,
    "start_time": "2023-01-18T11:16:48.732Z"
   },
   {
    "duration": 13,
    "start_time": "2023-01-18T11:16:51.237Z"
   },
   {
    "duration": 9,
    "start_time": "2023-01-18T11:16:51.252Z"
   },
   {
    "duration": 32,
    "start_time": "2023-01-18T11:16:51.263Z"
   },
   {
    "duration": 4,
    "start_time": "2023-01-18T11:16:51.297Z"
   },
   {
    "duration": 81,
    "start_time": "2023-01-18T11:16:51.302Z"
   },
   {
    "duration": 2042,
    "start_time": "2023-01-18T11:16:51.384Z"
   },
   {
    "duration": 999,
    "start_time": "2023-01-18T11:16:53.428Z"
   },
   {
    "duration": 3,
    "start_time": "2023-01-18T11:16:54.430Z"
   },
   {
    "duration": 10,
    "start_time": "2023-01-18T11:16:54.435Z"
   },
   {
    "duration": 49,
    "start_time": "2023-01-18T11:17:27.420Z"
   },
   {
    "duration": 6,
    "start_time": "2023-01-18T11:17:38.265Z"
   },
   {
    "duration": 1413,
    "start_time": "2023-01-18T11:17:44.592Z"
   },
   {
    "duration": 2574,
    "start_time": "2023-01-18T11:17:46.007Z"
   },
   {
    "duration": 16,
    "start_time": "2023-01-18T11:17:48.583Z"
   },
   {
    "duration": 16,
    "start_time": "2023-01-18T11:17:48.601Z"
   },
   {
    "duration": 33,
    "start_time": "2023-01-18T11:17:48.619Z"
   },
   {
    "duration": 4,
    "start_time": "2023-01-18T11:17:48.654Z"
   },
   {
    "duration": 45,
    "start_time": "2023-01-18T11:17:48.659Z"
   },
   {
    "duration": 42,
    "start_time": "2023-01-18T11:17:48.706Z"
   },
   {
    "duration": 879,
    "start_time": "2023-01-18T11:17:48.750Z"
   },
   {
    "duration": 4,
    "start_time": "2023-01-18T11:17:49.633Z"
   },
   {
    "duration": 13,
    "start_time": "2023-01-18T11:17:49.639Z"
   },
   {
    "duration": 25964,
    "start_time": "2023-01-18T11:17:49.654Z"
   },
   {
    "duration": 8,
    "start_time": "2023-01-18T11:20:50.197Z"
   },
   {
    "duration": 3,
    "start_time": "2023-01-19T12:33:47.375Z"
   },
   {
    "duration": 430,
    "start_time": "2023-01-19T12:34:12.678Z"
   },
   {
    "duration": 3,
    "start_time": "2023-01-19T12:34:25.376Z"
   },
   {
    "duration": 1886,
    "start_time": "2023-01-19T13:01:43.065Z"
   },
   {
    "duration": 1446,
    "start_time": "2023-01-19T13:01:44.953Z"
   },
   {
    "duration": 16,
    "start_time": "2023-01-19T13:01:46.401Z"
   },
   {
    "duration": 5,
    "start_time": "2023-01-19T13:01:46.419Z"
   },
   {
    "duration": 23,
    "start_time": "2023-01-19T13:01:46.437Z"
   },
   {
    "duration": 6,
    "start_time": "2023-01-19T13:01:46.461Z"
   },
   {
    "duration": 45,
    "start_time": "2023-01-19T13:01:46.469Z"
   },
   {
    "duration": 27,
    "start_time": "2023-01-19T13:01:46.516Z"
   },
   {
    "duration": 6,
    "start_time": "2023-01-19T13:01:46.545Z"
   },
   {
    "duration": 475,
    "start_time": "2023-01-19T13:01:46.553Z"
   },
   {
    "duration": 19,
    "start_time": "2023-01-19T13:12:00.787Z"
   },
   {
    "duration": 16,
    "start_time": "2023-01-19T13:27:36.667Z"
   },
   {
    "duration": 15,
    "start_time": "2023-01-19T13:27:46.684Z"
   },
   {
    "duration": 12,
    "start_time": "2023-01-19T13:27:52.585Z"
   },
   {
    "duration": 4,
    "start_time": "2023-01-19T13:28:34.036Z"
   },
   {
    "duration": 69,
    "start_time": "2023-01-19T13:28:39.616Z"
   },
   {
    "duration": 89,
    "start_time": "2023-01-19T13:28:42.836Z"
   },
   {
    "duration": 4,
    "start_time": "2023-01-19T13:49:55.564Z"
   },
   {
    "duration": 11,
    "start_time": "2023-01-19T13:52:48.243Z"
   },
   {
    "duration": 1426,
    "start_time": "2023-01-19T13:52:53.535Z"
   },
   {
    "duration": 963,
    "start_time": "2023-01-19T13:52:54.964Z"
   },
   {
    "duration": 22,
    "start_time": "2023-01-19T13:52:55.929Z"
   },
   {
    "duration": 13,
    "start_time": "2023-01-19T13:52:55.953Z"
   },
   {
    "duration": 35,
    "start_time": "2023-01-19T13:52:55.968Z"
   },
   {
    "duration": 4,
    "start_time": "2023-01-19T13:52:56.005Z"
   },
   {
    "duration": 49,
    "start_time": "2023-01-19T13:52:56.011Z"
   },
   {
    "duration": 10,
    "start_time": "2023-01-19T13:52:56.062Z"
   },
   {
    "duration": 11,
    "start_time": "2023-01-19T13:52:56.074Z"
   },
   {
    "duration": 126,
    "start_time": "2023-01-19T13:52:56.087Z"
   },
   {
    "duration": 0,
    "start_time": "2023-01-19T13:52:56.215Z"
   },
   {
    "duration": 0,
    "start_time": "2023-01-19T13:52:56.217Z"
   },
   {
    "duration": 0,
    "start_time": "2023-01-19T13:52:56.218Z"
   },
   {
    "duration": 1429,
    "start_time": "2023-01-19T13:53:24.407Z"
   },
   {
    "duration": 954,
    "start_time": "2023-01-19T13:53:25.838Z"
   },
   {
    "duration": 16,
    "start_time": "2023-01-19T13:53:26.794Z"
   },
   {
    "duration": 11,
    "start_time": "2023-01-19T13:53:26.812Z"
   },
   {
    "duration": 52,
    "start_time": "2023-01-19T13:53:26.825Z"
   },
   {
    "duration": 5,
    "start_time": "2023-01-19T13:53:26.880Z"
   },
   {
    "duration": 52,
    "start_time": "2023-01-19T13:53:26.887Z"
   },
   {
    "duration": 9,
    "start_time": "2023-01-19T13:53:26.941Z"
   },
   {
    "duration": 7,
    "start_time": "2023-01-19T13:53:26.952Z"
   },
   {
    "duration": 176,
    "start_time": "2023-01-19T13:53:26.962Z"
   },
   {
    "duration": 0,
    "start_time": "2023-01-19T13:53:27.139Z"
   },
   {
    "duration": 0,
    "start_time": "2023-01-19T13:53:27.141Z"
   },
   {
    "duration": 0,
    "start_time": "2023-01-19T13:53:27.142Z"
   },
   {
    "duration": 10,
    "start_time": "2023-01-19T13:53:36.242Z"
   },
   {
    "duration": 9,
    "start_time": "2023-01-19T13:54:18.742Z"
   },
   {
    "duration": 2226,
    "start_time": "2023-01-19T13:54:20.056Z"
   },
   {
    "duration": 52,
    "start_time": "2023-01-19T13:58:08.561Z"
   },
   {
    "duration": 1351,
    "start_time": "2023-01-19T13:58:13.864Z"
   },
   {
    "duration": 988,
    "start_time": "2023-01-19T13:58:15.218Z"
   },
   {
    "duration": 14,
    "start_time": "2023-01-19T13:58:16.208Z"
   },
   {
    "duration": 21,
    "start_time": "2023-01-19T13:58:16.224Z"
   },
   {
    "duration": 33,
    "start_time": "2023-01-19T13:58:16.248Z"
   },
   {
    "duration": 4,
    "start_time": "2023-01-19T13:58:16.283Z"
   },
   {
    "duration": 54,
    "start_time": "2023-01-19T13:58:16.288Z"
   },
   {
    "duration": 10,
    "start_time": "2023-01-19T13:58:16.344Z"
   },
   {
    "duration": 17,
    "start_time": "2023-01-19T13:58:16.355Z"
   },
   {
    "duration": 136,
    "start_time": "2023-01-19T13:58:16.374Z"
   },
   {
    "duration": 0,
    "start_time": "2023-01-19T13:58:16.512Z"
   },
   {
    "duration": 0,
    "start_time": "2023-01-19T13:58:16.513Z"
   },
   {
    "duration": 0,
    "start_time": "2023-01-19T13:58:16.514Z"
   },
   {
    "duration": 0,
    "start_time": "2023-01-19T13:58:16.516Z"
   },
   {
    "duration": 1,
    "start_time": "2023-01-19T13:58:16.516Z"
   },
   {
    "duration": 2076,
    "start_time": "2023-01-19T13:58:34.789Z"
   },
   {
    "duration": 1321,
    "start_time": "2023-01-19T13:58:40.167Z"
   },
   {
    "duration": 958,
    "start_time": "2023-01-19T13:58:41.490Z"
   },
   {
    "duration": 20,
    "start_time": "2023-01-19T13:58:42.450Z"
   },
   {
    "duration": 19,
    "start_time": "2023-01-19T13:58:42.472Z"
   },
   {
    "duration": 47,
    "start_time": "2023-01-19T13:58:42.495Z"
   },
   {
    "duration": 6,
    "start_time": "2023-01-19T13:58:42.544Z"
   },
   {
    "duration": 53,
    "start_time": "2023-01-19T13:58:42.552Z"
   },
   {
    "duration": 17,
    "start_time": "2023-01-19T13:58:42.608Z"
   },
   {
    "duration": 15,
    "start_time": "2023-01-19T13:58:42.628Z"
   },
   {
    "duration": 2089,
    "start_time": "2023-01-19T13:58:42.645Z"
   },
   {
    "duration": 137,
    "start_time": "2023-01-19T13:58:44.736Z"
   },
   {
    "duration": 0,
    "start_time": "2023-01-19T13:58:44.875Z"
   },
   {
    "duration": 0,
    "start_time": "2023-01-19T13:58:44.877Z"
   },
   {
    "duration": 0,
    "start_time": "2023-01-19T13:58:44.878Z"
   },
   {
    "duration": 11,
    "start_time": "2023-01-19T13:59:57.565Z"
   },
   {
    "duration": 13,
    "start_time": "2023-01-19T14:00:25.095Z"
   },
   {
    "duration": 1381,
    "start_time": "2023-01-19T14:00:40.104Z"
   },
   {
    "duration": 939,
    "start_time": "2023-01-19T14:00:41.487Z"
   },
   {
    "duration": 24,
    "start_time": "2023-01-19T14:00:42.429Z"
   },
   {
    "duration": 22,
    "start_time": "2023-01-19T14:00:42.455Z"
   },
   {
    "duration": 46,
    "start_time": "2023-01-19T14:00:42.480Z"
   },
   {
    "duration": 5,
    "start_time": "2023-01-19T14:00:42.528Z"
   },
   {
    "duration": 57,
    "start_time": "2023-01-19T14:00:42.535Z"
   },
   {
    "duration": 25,
    "start_time": "2023-01-19T14:00:42.594Z"
   },
   {
    "duration": 27,
    "start_time": "2023-01-19T14:00:42.621Z"
   },
   {
    "duration": 2095,
    "start_time": "2023-01-19T14:00:42.650Z"
   },
   {
    "duration": 155,
    "start_time": "2023-01-19T14:00:44.747Z"
   },
   {
    "duration": 0,
    "start_time": "2023-01-19T14:00:44.903Z"
   },
   {
    "duration": 0,
    "start_time": "2023-01-19T14:00:44.905Z"
   },
   {
    "duration": 0,
    "start_time": "2023-01-19T14:00:44.906Z"
   },
   {
    "duration": 10,
    "start_time": "2023-01-19T14:09:26.244Z"
   },
   {
    "duration": 10,
    "start_time": "2023-01-19T14:09:45.336Z"
   },
   {
    "duration": 1365,
    "start_time": "2023-01-19T14:09:50.727Z"
   },
   {
    "duration": 927,
    "start_time": "2023-01-19T14:09:52.094Z"
   },
   {
    "duration": 19,
    "start_time": "2023-01-19T14:09:53.023Z"
   },
   {
    "duration": 6,
    "start_time": "2023-01-19T14:09:53.043Z"
   },
   {
    "duration": 126,
    "start_time": "2023-01-19T14:09:53.051Z"
   },
   {
    "duration": 0,
    "start_time": "2023-01-19T14:09:53.180Z"
   },
   {
    "duration": 0,
    "start_time": "2023-01-19T14:09:53.181Z"
   },
   {
    "duration": 0,
    "start_time": "2023-01-19T14:09:53.183Z"
   },
   {
    "duration": 0,
    "start_time": "2023-01-19T14:09:53.184Z"
   },
   {
    "duration": 0,
    "start_time": "2023-01-19T14:09:53.186Z"
   },
   {
    "duration": 0,
    "start_time": "2023-01-19T14:09:53.188Z"
   },
   {
    "duration": 0,
    "start_time": "2023-01-19T14:09:53.189Z"
   },
   {
    "duration": 0,
    "start_time": "2023-01-19T14:09:53.191Z"
   },
   {
    "duration": 0,
    "start_time": "2023-01-19T14:09:53.192Z"
   },
   {
    "duration": 12,
    "start_time": "2023-01-19T14:10:08.434Z"
   },
   {
    "duration": 23,
    "start_time": "2023-01-19T14:10:11.544Z"
   },
   {
    "duration": 268,
    "start_time": "2023-01-19T14:11:00.012Z"
   },
   {
    "duration": 5,
    "start_time": "2023-01-19T14:16:39.443Z"
   },
   {
    "duration": 1414,
    "start_time": "2023-01-19T14:17:12.277Z"
   },
   {
    "duration": 983,
    "start_time": "2023-01-19T14:17:13.693Z"
   },
   {
    "duration": 15,
    "start_time": "2023-01-19T14:17:14.678Z"
   },
   {
    "duration": 12,
    "start_time": "2023-01-19T14:17:14.696Z"
   },
   {
    "duration": 304,
    "start_time": "2023-01-19T14:17:14.709Z"
   },
   {
    "duration": 35,
    "start_time": "2023-01-19T14:17:15.015Z"
   },
   {
    "duration": 4,
    "start_time": "2023-01-19T14:17:15.052Z"
   },
   {
    "duration": 61,
    "start_time": "2023-01-19T14:17:15.058Z"
   },
   {
    "duration": 8,
    "start_time": "2023-01-19T14:17:15.121Z"
   },
   {
    "duration": 8,
    "start_time": "2023-01-19T14:17:15.132Z"
   },
   {
    "duration": 8544,
    "start_time": "2023-01-19T14:17:15.142Z"
   },
   {
    "duration": 2122,
    "start_time": "2023-01-19T14:17:23.688Z"
   },
   {
    "duration": 41,
    "start_time": "2023-01-19T14:17:25.812Z"
   },
   {
    "duration": 32,
    "start_time": "2023-01-19T14:17:25.855Z"
   },
   {
    "duration": 88,
    "start_time": "2023-01-19T14:17:25.889Z"
   },
   {
    "duration": 64,
    "start_time": "2023-01-19T15:58:51.881Z"
   },
   {
    "duration": 1459,
    "start_time": "2023-01-19T15:58:58.746Z"
   },
   {
    "duration": 3561,
    "start_time": "2023-01-19T15:59:00.208Z"
   },
   {
    "duration": 15,
    "start_time": "2023-01-19T15:59:03.771Z"
   },
   {
    "duration": 5,
    "start_time": "2023-01-19T15:59:03.789Z"
   },
   {
    "duration": 300,
    "start_time": "2023-01-19T15:59:03.796Z"
   },
   {
    "duration": 23,
    "start_time": "2023-01-19T15:59:04.098Z"
   },
   {
    "duration": 19,
    "start_time": "2023-01-19T15:59:04.123Z"
   },
   {
    "duration": 54,
    "start_time": "2023-01-19T15:59:04.144Z"
   },
   {
    "duration": 8,
    "start_time": "2023-01-19T15:59:04.201Z"
   },
   {
    "duration": 12,
    "start_time": "2023-01-19T15:59:04.212Z"
   },
   {
    "duration": 8917,
    "start_time": "2023-01-19T15:59:04.226Z"
   },
   {
    "duration": 2212,
    "start_time": "2023-01-19T15:59:13.146Z"
   },
   {
    "duration": 19,
    "start_time": "2023-01-19T15:59:15.359Z"
   },
   {
    "duration": 18,
    "start_time": "2023-01-19T15:59:15.380Z"
   },
   {
    "duration": 87,
    "start_time": "2023-01-19T15:59:15.400Z"
   },
   {
    "duration": 7,
    "start_time": "2023-01-19T16:00:20.154Z"
   },
   {
    "duration": 9,
    "start_time": "2023-01-19T16:00:23.889Z"
   },
   {
    "duration": 7,
    "start_time": "2023-01-19T16:00:54.536Z"
   },
   {
    "duration": 118,
    "start_time": "2023-01-19T16:02:41.339Z"
   },
   {
    "duration": 3,
    "start_time": "2023-01-19T16:03:03.259Z"
   },
   {
    "duration": 7,
    "start_time": "2023-01-19T19:23:23.646Z"
   },
   {
    "duration": 2,
    "start_time": "2023-01-19T19:23:47.513Z"
   },
   {
    "duration": 4,
    "start_time": "2023-01-19T19:23:48.273Z"
   },
   {
    "duration": 17,
    "start_time": "2023-01-19T19:24:02.442Z"
   },
   {
    "duration": 67,
    "start_time": "2023-01-19T19:25:39.305Z"
   },
   {
    "duration": 67,
    "start_time": "2023-01-19T19:25:57.031Z"
   },
   {
    "duration": 95,
    "start_time": "2023-01-19T19:26:03.711Z"
   },
   {
    "duration": 76,
    "start_time": "2023-01-19T19:26:09.389Z"
   },
   {
    "duration": 76,
    "start_time": "2023-01-19T19:26:21.537Z"
   },
   {
    "duration": 161,
    "start_time": "2023-01-19T19:32:56.945Z"
   },
   {
    "duration": 5,
    "start_time": "2023-01-19T19:33:59.136Z"
   },
   {
    "duration": 2,
    "start_time": "2023-01-19T19:34:00.520Z"
   },
   {
    "duration": 79,
    "start_time": "2023-01-19T19:36:23.019Z"
   },
   {
    "duration": 77,
    "start_time": "2023-01-19T19:36:39.008Z"
   },
   {
    "duration": 76,
    "start_time": "2023-01-19T19:37:15.564Z"
   },
   {
    "duration": 112,
    "start_time": "2023-01-19T19:39:38.064Z"
   },
   {
    "duration": 9,
    "start_time": "2023-01-19T19:43:23.636Z"
   },
   {
    "duration": 236,
    "start_time": "2023-01-19T19:43:30.068Z"
   },
   {
    "duration": 518,
    "start_time": "2023-01-19T19:44:12.678Z"
   },
   {
    "duration": 12,
    "start_time": "2023-01-19T19:45:01.799Z"
   },
   {
    "duration": 1731,
    "start_time": "2023-01-19T19:45:08.474Z"
   },
   {
    "duration": 0,
    "start_time": "2023-01-19T19:45:10.207Z"
   },
   {
    "duration": 0,
    "start_time": "2023-01-19T19:45:10.209Z"
   },
   {
    "duration": 0,
    "start_time": "2023-01-19T19:45:10.209Z"
   },
   {
    "duration": 0,
    "start_time": "2023-01-19T19:45:10.210Z"
   },
   {
    "duration": 0,
    "start_time": "2023-01-19T19:45:10.211Z"
   },
   {
    "duration": 0,
    "start_time": "2023-01-19T19:45:10.212Z"
   },
   {
    "duration": 0,
    "start_time": "2023-01-19T19:45:10.213Z"
   },
   {
    "duration": 0,
    "start_time": "2023-01-19T19:45:10.214Z"
   },
   {
    "duration": 0,
    "start_time": "2023-01-19T19:45:10.215Z"
   },
   {
    "duration": 0,
    "start_time": "2023-01-19T19:45:10.216Z"
   },
   {
    "duration": 0,
    "start_time": "2023-01-19T19:45:10.217Z"
   },
   {
    "duration": 0,
    "start_time": "2023-01-19T19:45:10.217Z"
   },
   {
    "duration": 0,
    "start_time": "2023-01-19T19:45:10.218Z"
   },
   {
    "duration": 0,
    "start_time": "2023-01-19T19:45:10.219Z"
   },
   {
    "duration": 0,
    "start_time": "2023-01-19T19:45:10.220Z"
   },
   {
    "duration": 10,
    "start_time": "2023-01-19T19:46:35.243Z"
   },
   {
    "duration": 5,
    "start_time": "2023-01-19T19:46:46.392Z"
   },
   {
    "duration": 10,
    "start_time": "2023-01-19T19:47:07.937Z"
   },
   {
    "duration": 12,
    "start_time": "2023-01-19T19:48:47.777Z"
   },
   {
    "duration": 9,
    "start_time": "2023-01-19T19:48:59.742Z"
   },
   {
    "duration": 10,
    "start_time": "2023-01-19T19:49:01.968Z"
   },
   {
    "duration": 10,
    "start_time": "2023-01-19T19:49:08.622Z"
   },
   {
    "duration": 4,
    "start_time": "2023-01-19T19:49:23.873Z"
   },
   {
    "duration": 1608,
    "start_time": "2023-01-19T19:49:28.142Z"
   },
   {
    "duration": 908,
    "start_time": "2023-01-19T19:49:29.752Z"
   },
   {
    "duration": 11,
    "start_time": "2023-01-19T19:49:30.662Z"
   },
   {
    "duration": 15,
    "start_time": "2023-01-19T19:49:30.675Z"
   },
   {
    "duration": 318,
    "start_time": "2023-01-19T19:49:30.692Z"
   },
   {
    "duration": 34,
    "start_time": "2023-01-19T19:49:31.011Z"
   },
   {
    "duration": 14,
    "start_time": "2023-01-19T19:49:31.046Z"
   },
   {
    "duration": 80,
    "start_time": "2023-01-19T19:49:31.062Z"
   },
   {
    "duration": 30,
    "start_time": "2023-01-19T19:49:31.144Z"
   },
   {
    "duration": 235,
    "start_time": "2023-01-19T19:49:31.175Z"
   },
   {
    "duration": 158,
    "start_time": "2023-01-19T19:49:31.412Z"
   },
   {
    "duration": 0,
    "start_time": "2023-01-19T19:49:31.572Z"
   },
   {
    "duration": 0,
    "start_time": "2023-01-19T19:49:31.573Z"
   },
   {
    "duration": 0,
    "start_time": "2023-01-19T19:49:31.574Z"
   },
   {
    "duration": 0,
    "start_time": "2023-01-19T19:49:31.575Z"
   },
   {
    "duration": 0,
    "start_time": "2023-01-19T19:49:31.576Z"
   },
   {
    "duration": 0,
    "start_time": "2023-01-19T19:49:31.577Z"
   },
   {
    "duration": 10,
    "start_time": "2023-01-19T19:50:04.789Z"
   },
   {
    "duration": 9,
    "start_time": "2023-01-19T19:51:06.752Z"
   },
   {
    "duration": 1587,
    "start_time": "2023-01-19T19:51:15.109Z"
   },
   {
    "duration": 914,
    "start_time": "2023-01-19T19:51:16.698Z"
   },
   {
    "duration": 11,
    "start_time": "2023-01-19T19:51:17.614Z"
   },
   {
    "duration": 20,
    "start_time": "2023-01-19T19:51:17.626Z"
   },
   {
    "duration": 304,
    "start_time": "2023-01-19T19:51:17.649Z"
   },
   {
    "duration": 26,
    "start_time": "2023-01-19T19:51:17.954Z"
   },
   {
    "duration": 6,
    "start_time": "2023-01-19T19:51:17.982Z"
   },
   {
    "duration": 60,
    "start_time": "2023-01-19T19:51:17.989Z"
   },
   {
    "duration": 45,
    "start_time": "2023-01-19T19:51:18.052Z"
   },
   {
    "duration": 258,
    "start_time": "2023-01-19T19:51:18.098Z"
   },
   {
    "duration": 26198,
    "start_time": "2023-01-19T19:51:18.358Z"
   },
   {
    "duration": 0,
    "start_time": "2023-01-19T19:51:44.929Z"
   },
   {
    "duration": 0,
    "start_time": "2023-01-19T19:51:44.930Z"
   },
   {
    "duration": 0,
    "start_time": "2023-01-19T19:51:44.941Z"
   },
   {
    "duration": 0,
    "start_time": "2023-01-19T19:51:44.942Z"
   },
   {
    "duration": 0,
    "start_time": "2023-01-19T19:51:44.944Z"
   },
   {
    "duration": 0,
    "start_time": "2023-01-19T19:51:44.945Z"
   },
   {
    "duration": 0,
    "start_time": "2023-01-19T19:51:44.947Z"
   },
   {
    "duration": 5,
    "start_time": "2023-01-19T19:52:45.805Z"
   },
   {
    "duration": 7,
    "start_time": "2023-01-19T19:52:57.480Z"
   },
   {
    "duration": 16,
    "start_time": "2023-01-19T19:53:44.404Z"
   },
   {
    "duration": 10,
    "start_time": "2023-01-19T19:54:51.163Z"
   },
   {
    "duration": 50,
    "start_time": "2023-01-19T19:55:38.459Z"
   },
   {
    "duration": 843,
    "start_time": "2023-01-19T19:55:44.428Z"
   },
   {
    "duration": 680,
    "start_time": "2023-01-19T19:56:47.161Z"
   },
   {
    "duration": 7,
    "start_time": "2023-01-19T19:57:20.125Z"
   },
   {
    "duration": 726,
    "start_time": "2023-01-19T19:57:33.833Z"
   },
   {
    "duration": 14,
    "start_time": "2023-01-19T19:57:42.865Z"
   },
   {
    "duration": 10,
    "start_time": "2023-01-19T19:57:43.846Z"
   },
   {
    "duration": 2429,
    "start_time": "2023-01-19T19:57:49.964Z"
   },
   {
    "duration": 994,
    "start_time": "2023-01-19T19:57:52.395Z"
   },
   {
    "duration": 23,
    "start_time": "2023-01-19T19:57:53.391Z"
   },
   {
    "duration": 5,
    "start_time": "2023-01-19T19:57:53.417Z"
   },
   {
    "duration": 324,
    "start_time": "2023-01-19T19:57:53.424Z"
   },
   {
    "duration": 30,
    "start_time": "2023-01-19T19:57:53.751Z"
   },
   {
    "duration": 4,
    "start_time": "2023-01-19T19:57:53.783Z"
   },
   {
    "duration": 72,
    "start_time": "2023-01-19T19:57:53.789Z"
   },
   {
    "duration": 6,
    "start_time": "2023-01-19T19:57:53.863Z"
   },
   {
    "duration": 258,
    "start_time": "2023-01-19T19:57:53.871Z"
   },
   {
    "duration": 8,
    "start_time": "2023-01-19T19:57:54.143Z"
   },
   {
    "duration": 30062,
    "start_time": "2023-01-19T19:57:54.153Z"
   },
   {
    "duration": 355,
    "start_time": "2023-01-19T19:58:24.218Z"
   },
   {
    "duration": 131,
    "start_time": "2023-01-19T19:58:24.575Z"
   },
   {
    "duration": 0,
    "start_time": "2023-01-19T19:58:24.708Z"
   },
   {
    "duration": 0,
    "start_time": "2023-01-19T19:58:24.709Z"
   },
   {
    "duration": 0,
    "start_time": "2023-01-19T19:58:24.710Z"
   },
   {
    "duration": 0,
    "start_time": "2023-01-19T19:58:24.712Z"
   },
   {
    "duration": 0,
    "start_time": "2023-01-19T19:58:24.713Z"
   },
   {
    "duration": 0,
    "start_time": "2023-01-19T19:58:24.714Z"
   },
   {
    "duration": 69,
    "start_time": "2023-01-19T19:59:05.365Z"
   },
   {
    "duration": 3264,
    "start_time": "2023-01-19T19:59:14.369Z"
   },
   {
    "duration": 19,
    "start_time": "2023-01-19T19:59:36.122Z"
   },
   {
    "duration": 2594,
    "start_time": "2023-01-19T19:59:57.405Z"
   },
   {
    "duration": 892,
    "start_time": "2023-01-19T20:00:10.100Z"
   },
   {
    "duration": 4259,
    "start_time": "2023-01-19T20:00:17.913Z"
   },
   {
    "duration": 987,
    "start_time": "2023-01-19T20:00:22.175Z"
   },
   {
    "duration": 13,
    "start_time": "2023-01-19T20:00:23.166Z"
   },
   {
    "duration": 5,
    "start_time": "2023-01-19T20:00:23.181Z"
   },
   {
    "duration": 328,
    "start_time": "2023-01-19T20:00:23.189Z"
   },
   {
    "duration": 43,
    "start_time": "2023-01-19T20:00:23.518Z"
   },
   {
    "duration": 4,
    "start_time": "2023-01-19T20:00:23.563Z"
   },
   {
    "duration": 44,
    "start_time": "2023-01-19T20:00:23.569Z"
   },
   {
    "duration": 11,
    "start_time": "2023-01-19T20:00:23.615Z"
   },
   {
    "duration": 245,
    "start_time": "2023-01-19T20:00:23.640Z"
   },
   {
    "duration": 12,
    "start_time": "2023-01-19T20:00:23.887Z"
   },
   {
    "duration": 4441,
    "start_time": "2023-01-19T20:00:48.233Z"
   },
   {
    "duration": 1034,
    "start_time": "2023-01-19T20:00:52.677Z"
   },
   {
    "duration": 13,
    "start_time": "2023-01-19T20:00:53.713Z"
   },
   {
    "duration": 29,
    "start_time": "2023-01-19T20:00:53.728Z"
   },
   {
    "duration": 329,
    "start_time": "2023-01-19T20:00:53.760Z"
   },
   {
    "duration": 24,
    "start_time": "2023-01-19T20:00:54.091Z"
   },
   {
    "duration": 15,
    "start_time": "2023-01-19T20:00:54.117Z"
   },
   {
    "duration": 65,
    "start_time": "2023-01-19T20:00:54.143Z"
   },
   {
    "duration": 18,
    "start_time": "2023-01-19T20:00:54.210Z"
   },
   {
    "duration": 246,
    "start_time": "2023-01-19T20:00:54.231Z"
   },
   {
    "duration": 18,
    "start_time": "2023-01-19T20:00:54.479Z"
   },
   {
    "duration": 28229,
    "start_time": "2023-01-19T20:00:54.498Z"
   },
   {
    "duration": 356,
    "start_time": "2023-01-19T20:01:22.728Z"
   },
   {
    "duration": 163,
    "start_time": "2023-01-19T20:01:23.085Z"
   },
   {
    "duration": 0,
    "start_time": "2023-01-19T20:01:23.250Z"
   },
   {
    "duration": 0,
    "start_time": "2023-01-19T20:01:23.252Z"
   },
   {
    "duration": 0,
    "start_time": "2023-01-19T20:01:23.254Z"
   },
   {
    "duration": 0,
    "start_time": "2023-01-19T20:01:23.255Z"
   },
   {
    "duration": 0,
    "start_time": "2023-01-19T20:01:23.256Z"
   },
   {
    "duration": 0,
    "start_time": "2023-01-19T20:01:23.258Z"
   },
   {
    "duration": 2496,
    "start_time": "2023-01-19T20:01:35.106Z"
   },
   {
    "duration": 30008,
    "start_time": "2023-01-19T20:01:47.232Z"
   },
   {
    "duration": 1243,
    "start_time": "2023-01-19T20:02:18.531Z"
   },
   {
    "duration": 447,
    "start_time": "2023-01-19T20:02:27.111Z"
   },
   {
    "duration": 29225,
    "start_time": "2023-01-19T20:04:08.564Z"
   },
   {
    "duration": 28554,
    "start_time": "2023-01-19T20:07:29.050Z"
   },
   {
    "duration": 4,
    "start_time": "2023-01-19T20:09:33.797Z"
   },
   {
    "duration": 4,
    "start_time": "2023-01-19T20:10:34.608Z"
   },
   {
    "duration": 28420,
    "start_time": "2023-01-19T20:11:19.988Z"
   },
   {
    "duration": 4,
    "start_time": "2023-01-19T20:19:20.542Z"
   },
   {
    "duration": 4,
    "start_time": "2023-01-19T20:20:10.885Z"
   },
   {
    "duration": 16,
    "start_time": "2023-01-19T20:24:11.833Z"
   },
   {
    "duration": 10,
    "start_time": "2023-01-19T20:24:26.178Z"
   },
   {
    "duration": 11,
    "start_time": "2023-01-19T20:24:49.250Z"
   },
   {
    "duration": 10,
    "start_time": "2023-01-19T20:27:17.599Z"
   },
   {
    "duration": 73,
    "start_time": "2023-01-19T20:34:23.721Z"
   },
   {
    "duration": 89,
    "start_time": "2023-01-19T20:34:34.508Z"
   },
   {
    "duration": 10,
    "start_time": "2023-01-19T20:35:11.332Z"
   },
   {
    "duration": 147,
    "start_time": "2023-01-19T20:35:12.344Z"
   },
   {
    "duration": 11,
    "start_time": "2023-01-19T20:35:23.103Z"
   },
   {
    "duration": 11,
    "start_time": "2023-01-19T20:35:37.008Z"
   },
   {
    "duration": 638,
    "start_time": "2023-01-19T20:35:39.316Z"
   },
   {
    "duration": 10,
    "start_time": "2023-01-19T20:36:01.790Z"
   },
   {
    "duration": 12,
    "start_time": "2023-01-19T20:36:10.284Z"
   },
   {
    "duration": 72,
    "start_time": "2023-01-19T20:36:20.093Z"
   },
   {
    "duration": 4,
    "start_time": "2023-01-19T20:39:08.391Z"
   },
   {
    "duration": 4,
    "start_time": "2023-01-19T20:39:20.803Z"
   },
   {
    "duration": 3926,
    "start_time": "2023-01-19T20:39:27.988Z"
   },
   {
    "duration": 892,
    "start_time": "2023-01-19T20:39:31.917Z"
   },
   {
    "duration": 13,
    "start_time": "2023-01-19T20:39:32.811Z"
   },
   {
    "duration": 15,
    "start_time": "2023-01-19T20:39:32.826Z"
   },
   {
    "duration": 274,
    "start_time": "2023-01-19T20:39:32.844Z"
   },
   {
    "duration": 37,
    "start_time": "2023-01-19T20:39:33.119Z"
   },
   {
    "duration": 30,
    "start_time": "2023-01-19T20:39:33.158Z"
   },
   {
    "duration": 41,
    "start_time": "2023-01-19T20:39:33.190Z"
   },
   {
    "duration": 125,
    "start_time": "2023-01-19T20:39:33.233Z"
   },
   {
    "duration": 0,
    "start_time": "2023-01-19T20:39:33.360Z"
   },
   {
    "duration": 0,
    "start_time": "2023-01-19T20:39:33.361Z"
   },
   {
    "duration": 0,
    "start_time": "2023-01-19T20:39:33.362Z"
   },
   {
    "duration": 0,
    "start_time": "2023-01-19T20:39:33.363Z"
   },
   {
    "duration": 0,
    "start_time": "2023-01-19T20:39:33.364Z"
   },
   {
    "duration": 0,
    "start_time": "2023-01-19T20:39:33.365Z"
   },
   {
    "duration": 0,
    "start_time": "2023-01-19T20:39:33.366Z"
   },
   {
    "duration": 0,
    "start_time": "2023-01-19T20:39:33.368Z"
   },
   {
    "duration": 0,
    "start_time": "2023-01-19T20:39:33.369Z"
   },
   {
    "duration": 0,
    "start_time": "2023-01-19T20:39:33.371Z"
   },
   {
    "duration": 0,
    "start_time": "2023-01-19T20:39:33.372Z"
   },
   {
    "duration": 0,
    "start_time": "2023-01-19T20:39:33.373Z"
   },
   {
    "duration": 9,
    "start_time": "2023-01-19T20:39:39.676Z"
   },
   {
    "duration": 4,
    "start_time": "2023-01-19T20:39:48.330Z"
   },
   {
    "duration": 4,
    "start_time": "2023-01-19T20:40:02.557Z"
   },
   {
    "duration": 5,
    "start_time": "2023-01-19T20:40:07.240Z"
   },
   {
    "duration": 3773,
    "start_time": "2023-01-19T20:40:41.535Z"
   },
   {
    "duration": 901,
    "start_time": "2023-01-19T20:40:45.311Z"
   },
   {
    "duration": 15,
    "start_time": "2023-01-19T20:40:46.213Z"
   },
   {
    "duration": 6,
    "start_time": "2023-01-19T20:40:46.240Z"
   },
   {
    "duration": 303,
    "start_time": "2023-01-19T20:40:46.249Z"
   },
   {
    "duration": 29,
    "start_time": "2023-01-19T20:40:46.554Z"
   },
   {
    "duration": 4,
    "start_time": "2023-01-19T20:40:46.585Z"
   },
   {
    "duration": 64,
    "start_time": "2023-01-19T20:40:46.592Z"
   },
   {
    "duration": 222,
    "start_time": "2023-01-19T20:40:46.658Z"
   },
   {
    "duration": 14,
    "start_time": "2023-01-19T20:40:46.882Z"
   },
   {
    "duration": 25214,
    "start_time": "2023-01-19T20:40:46.897Z"
   },
   {
    "duration": 543,
    "start_time": "2023-01-19T20:41:12.113Z"
   },
   {
    "duration": 28556,
    "start_time": "2023-01-19T20:41:12.657Z"
   },
   {
    "duration": 5,
    "start_time": "2023-01-19T20:41:41.216Z"
   },
   {
    "duration": 18,
    "start_time": "2023-01-19T20:41:41.223Z"
   },
   {
    "duration": 37,
    "start_time": "2023-01-19T20:41:41.243Z"
   },
   {
    "duration": 27,
    "start_time": "2023-01-19T20:41:41.282Z"
   },
   {
    "duration": 43,
    "start_time": "2023-01-19T20:41:41.311Z"
   },
   {
    "duration": 66,
    "start_time": "2023-01-19T20:41:41.356Z"
   },
   {
    "duration": 3,
    "start_time": "2023-01-19T20:41:41.424Z"
   },
   {
    "duration": 1232,
    "start_time": "2023-01-19T20:41:57.733Z"
   },
   {
    "duration": 170,
    "start_time": "2023-01-19T20:42:06.790Z"
   },
   {
    "duration": 136,
    "start_time": "2023-01-19T20:43:06.493Z"
   },
   {
    "duration": 53,
    "start_time": "2023-01-19T20:43:41.444Z"
   },
   {
    "duration": 3809,
    "start_time": "2023-01-19T20:43:59.553Z"
   },
   {
    "duration": 924,
    "start_time": "2023-01-19T20:44:03.364Z"
   },
   {
    "duration": 12,
    "start_time": "2023-01-19T20:44:04.290Z"
   },
   {
    "duration": 8,
    "start_time": "2023-01-19T20:44:04.304Z"
   },
   {
    "duration": 289,
    "start_time": "2023-01-19T20:44:04.313Z"
   },
   {
    "duration": 36,
    "start_time": "2023-01-19T20:44:04.604Z"
   },
   {
    "duration": 4,
    "start_time": "2023-01-19T20:44:04.642Z"
   },
   {
    "duration": 39,
    "start_time": "2023-01-19T20:44:04.648Z"
   },
   {
    "duration": 239,
    "start_time": "2023-01-19T20:44:04.689Z"
   },
   {
    "duration": 7,
    "start_time": "2023-01-19T20:44:04.941Z"
   },
   {
    "duration": 26171,
    "start_time": "2023-01-19T20:44:04.950Z"
   },
   {
    "duration": 276,
    "start_time": "2023-01-19T20:44:31.123Z"
   },
   {
    "duration": 28981,
    "start_time": "2023-01-19T20:44:31.400Z"
   },
   {
    "duration": 4,
    "start_time": "2023-01-19T20:45:00.383Z"
   },
   {
    "duration": 267,
    "start_time": "2023-01-19T20:45:00.388Z"
   },
   {
    "duration": 0,
    "start_time": "2023-01-19T20:45:00.656Z"
   },
   {
    "duration": 0,
    "start_time": "2023-01-19T20:45:00.658Z"
   },
   {
    "duration": 0,
    "start_time": "2023-01-19T20:45:00.659Z"
   },
   {
    "duration": 0,
    "start_time": "2023-01-19T20:45:00.661Z"
   },
   {
    "duration": 0,
    "start_time": "2023-01-19T20:45:00.662Z"
   },
   {
    "duration": 0,
    "start_time": "2023-01-19T20:45:00.663Z"
   },
   {
    "duration": 88,
    "start_time": "2023-01-19T20:46:04.342Z"
   },
   {
    "duration": 13,
    "start_time": "2023-01-19T20:46:38.825Z"
   },
   {
    "duration": 3874,
    "start_time": "2023-01-19T20:46:46.812Z"
   },
   {
    "duration": 902,
    "start_time": "2023-01-19T20:46:50.688Z"
   },
   {
    "duration": 12,
    "start_time": "2023-01-19T20:46:51.592Z"
   },
   {
    "duration": 4,
    "start_time": "2023-01-19T20:46:51.606Z"
   },
   {
    "duration": 299,
    "start_time": "2023-01-19T20:46:51.612Z"
   },
   {
    "duration": 36,
    "start_time": "2023-01-19T20:46:51.913Z"
   },
   {
    "duration": 5,
    "start_time": "2023-01-19T20:46:51.951Z"
   },
   {
    "duration": 44,
    "start_time": "2023-01-19T20:46:51.958Z"
   },
   {
    "duration": 237,
    "start_time": "2023-01-19T20:46:52.004Z"
   },
   {
    "duration": 13,
    "start_time": "2023-01-19T20:46:52.244Z"
   },
   {
    "duration": 25054,
    "start_time": "2023-01-19T20:46:52.259Z"
   },
   {
    "duration": 284,
    "start_time": "2023-01-19T20:47:17.315Z"
   },
   {
    "duration": 28913,
    "start_time": "2023-01-19T20:47:17.600Z"
   },
   {
    "duration": 152,
    "start_time": "2023-01-19T20:47:46.514Z"
   },
   {
    "duration": 0,
    "start_time": "2023-01-19T20:47:46.668Z"
   },
   {
    "duration": 0,
    "start_time": "2023-01-19T20:47:46.669Z"
   },
   {
    "duration": 0,
    "start_time": "2023-01-19T20:47:46.670Z"
   },
   {
    "duration": 0,
    "start_time": "2023-01-19T20:47:46.671Z"
   },
   {
    "duration": 0,
    "start_time": "2023-01-19T20:47:46.673Z"
   },
   {
    "duration": 0,
    "start_time": "2023-01-19T20:47:46.674Z"
   },
   {
    "duration": 11,
    "start_time": "2023-01-19T20:51:46.858Z"
   },
   {
    "duration": 3733,
    "start_time": "2023-01-19T20:51:53.091Z"
   },
   {
    "duration": 886,
    "start_time": "2023-01-19T20:51:56.827Z"
   },
   {
    "duration": 12,
    "start_time": "2023-01-19T20:51:57.714Z"
   },
   {
    "duration": 15,
    "start_time": "2023-01-19T20:51:57.728Z"
   },
   {
    "duration": 276,
    "start_time": "2023-01-19T20:51:57.745Z"
   },
   {
    "duration": 33,
    "start_time": "2023-01-19T20:51:58.023Z"
   },
   {
    "duration": 4,
    "start_time": "2023-01-19T20:51:58.058Z"
   },
   {
    "duration": 39,
    "start_time": "2023-01-19T20:51:58.064Z"
   },
   {
    "duration": 249,
    "start_time": "2023-01-19T20:51:58.104Z"
   },
   {
    "duration": 8,
    "start_time": "2023-01-19T20:51:58.354Z"
   },
   {
    "duration": 25881,
    "start_time": "2023-01-19T20:51:58.364Z"
   },
   {
    "duration": 269,
    "start_time": "2023-01-19T20:52:24.247Z"
   },
   {
    "duration": 28870,
    "start_time": "2023-01-19T20:52:24.518Z"
   },
   {
    "duration": 149,
    "start_time": "2023-01-19T20:52:53.392Z"
   },
   {
    "duration": 0,
    "start_time": "2023-01-19T20:52:53.543Z"
   },
   {
    "duration": 0,
    "start_time": "2023-01-19T20:52:53.545Z"
   },
   {
    "duration": 0,
    "start_time": "2023-01-19T20:52:53.546Z"
   },
   {
    "duration": 0,
    "start_time": "2023-01-19T20:52:53.548Z"
   },
   {
    "duration": 0,
    "start_time": "2023-01-19T20:52:53.549Z"
   },
   {
    "duration": 0,
    "start_time": "2023-01-19T20:52:53.551Z"
   },
   {
    "duration": 9,
    "start_time": "2023-01-19T20:52:55.719Z"
   },
   {
    "duration": 10,
    "start_time": "2023-01-19T20:53:17.439Z"
   },
   {
    "duration": 10,
    "start_time": "2023-01-19T20:53:28.817Z"
   },
   {
    "duration": 11,
    "start_time": "2023-01-19T20:55:32.745Z"
   },
   {
    "duration": 5,
    "start_time": "2023-01-19T20:55:34.182Z"
   },
   {
    "duration": 75,
    "start_time": "2023-01-19T20:56:00.982Z"
   },
   {
    "duration": 3829,
    "start_time": "2023-01-19T20:56:13.257Z"
   },
   {
    "duration": 942,
    "start_time": "2023-01-19T20:56:17.089Z"
   },
   {
    "duration": 20,
    "start_time": "2023-01-19T20:56:18.033Z"
   },
   {
    "duration": 12,
    "start_time": "2023-01-19T20:56:18.055Z"
   },
   {
    "duration": 304,
    "start_time": "2023-01-19T20:56:18.070Z"
   },
   {
    "duration": 25,
    "start_time": "2023-01-19T20:56:18.376Z"
   },
   {
    "duration": 3,
    "start_time": "2023-01-19T20:56:18.403Z"
   },
   {
    "duration": 52,
    "start_time": "2023-01-19T20:56:18.408Z"
   },
   {
    "duration": 230,
    "start_time": "2023-01-19T20:56:18.462Z"
   },
   {
    "duration": 6,
    "start_time": "2023-01-19T20:56:18.693Z"
   },
   {
    "duration": 29363,
    "start_time": "2023-01-19T20:56:18.701Z"
   },
   {
    "duration": 1130,
    "start_time": "2023-01-19T20:56:48.067Z"
   },
   {
    "duration": 4,
    "start_time": "2023-01-19T20:56:49.199Z"
   },
   {
    "duration": 138,
    "start_time": "2023-01-19T20:56:49.206Z"
   },
   {
    "duration": 0,
    "start_time": "2023-01-19T20:56:49.346Z"
   },
   {
    "duration": 0,
    "start_time": "2023-01-19T20:56:49.348Z"
   },
   {
    "duration": 0,
    "start_time": "2023-01-19T20:56:49.349Z"
   },
   {
    "duration": 0,
    "start_time": "2023-01-19T20:56:49.351Z"
   },
   {
    "duration": 912,
    "start_time": "2023-01-19T20:59:35.431Z"
   },
   {
    "duration": 921,
    "start_time": "2023-01-19T20:59:52.221Z"
   },
   {
    "duration": 3869,
    "start_time": "2023-01-19T21:06:51.913Z"
   },
   {
    "duration": 3627,
    "start_time": "2023-01-19T21:06:55.785Z"
   },
   {
    "duration": 15,
    "start_time": "2023-01-19T21:06:59.414Z"
   },
   {
    "duration": 8,
    "start_time": "2023-01-19T21:06:59.431Z"
   },
   {
    "duration": 319,
    "start_time": "2023-01-19T21:06:59.441Z"
   },
   {
    "duration": 28,
    "start_time": "2023-01-19T21:06:59.762Z"
   },
   {
    "duration": 5,
    "start_time": "2023-01-19T21:06:59.792Z"
   },
   {
    "duration": 66,
    "start_time": "2023-01-19T21:06:59.798Z"
   },
   {
    "duration": 235,
    "start_time": "2023-01-19T21:06:59.867Z"
   },
   {
    "duration": 33,
    "start_time": "2023-01-19T21:07:00.105Z"
   },
   {
    "duration": 28793,
    "start_time": "2023-01-19T21:07:00.140Z"
   },
   {
    "duration": 1159,
    "start_time": "2023-01-19T21:07:28.935Z"
   },
   {
    "duration": 53,
    "start_time": "2023-01-19T21:11:07.076Z"
   },
   {
    "duration": 3965,
    "start_time": "2023-01-19T21:11:17.295Z"
   },
   {
    "duration": 3606,
    "start_time": "2023-01-19T21:11:21.262Z"
   },
   {
    "duration": 13,
    "start_time": "2023-01-19T21:11:24.870Z"
   },
   {
    "duration": 32,
    "start_time": "2023-01-19T21:11:24.885Z"
   },
   {
    "duration": 341,
    "start_time": "2023-01-19T21:11:24.918Z"
   },
   {
    "duration": 26,
    "start_time": "2023-01-19T21:11:25.260Z"
   },
   {
    "duration": 3,
    "start_time": "2023-01-19T21:11:25.288Z"
   },
   {
    "duration": 60,
    "start_time": "2023-01-19T21:11:25.292Z"
   },
   {
    "duration": 232,
    "start_time": "2023-01-19T21:11:25.353Z"
   },
   {
    "duration": 38,
    "start_time": "2023-01-19T21:11:25.588Z"
   },
   {
    "duration": 29019,
    "start_time": "2023-01-19T21:11:25.629Z"
   },
   {
    "duration": 1134,
    "start_time": "2023-01-19T21:11:54.651Z"
   },
   {
    "duration": 225,
    "start_time": "2023-01-19T21:11:55.787Z"
   },
   {
    "duration": 5,
    "start_time": "2023-01-19T21:11:56.014Z"
   },
   {
    "duration": 37,
    "start_time": "2023-01-19T21:11:56.020Z"
   },
   {
    "duration": 27,
    "start_time": "2023-01-19T21:11:56.059Z"
   },
   {
    "duration": 70,
    "start_time": "2023-01-19T21:11:56.088Z"
   },
   {
    "duration": 3,
    "start_time": "2023-01-19T21:11:56.160Z"
   },
   {
    "duration": 203,
    "start_time": "2023-01-19T21:14:38.302Z"
   },
   {
    "duration": 215,
    "start_time": "2023-01-19T21:14:44.411Z"
   },
   {
    "duration": 228,
    "start_time": "2023-01-19T21:17:17.742Z"
   },
   {
    "duration": 225,
    "start_time": "2023-01-19T21:18:03.604Z"
   },
   {
    "duration": 212,
    "start_time": "2023-01-19T21:18:21.369Z"
   },
   {
    "duration": 232,
    "start_time": "2023-01-19T21:18:26.449Z"
   },
   {
    "duration": 220,
    "start_time": "2023-01-19T21:19:04.768Z"
   },
   {
    "duration": 247,
    "start_time": "2023-01-19T21:19:12.560Z"
   },
   {
    "duration": 226,
    "start_time": "2023-01-19T21:19:25.568Z"
   },
   {
    "duration": 316,
    "start_time": "2023-01-19T21:19:33.433Z"
   },
   {
    "duration": 225,
    "start_time": "2023-01-19T21:19:53.240Z"
   },
   {
    "duration": 272,
    "start_time": "2023-01-19T21:21:05.932Z"
   },
   {
    "duration": 256,
    "start_time": "2023-01-19T21:22:00.645Z"
   },
   {
    "duration": 222,
    "start_time": "2023-01-19T21:22:45.056Z"
   },
   {
    "duration": 4,
    "start_time": "2023-01-19T21:25:20.827Z"
   },
   {
    "duration": 4,
    "start_time": "2023-01-19T21:27:10.463Z"
   },
   {
    "duration": 218,
    "start_time": "2023-01-19T21:28:36.383Z"
   },
   {
    "duration": 446,
    "start_time": "2023-01-19T21:29:06.082Z"
   },
   {
    "duration": 3,
    "start_time": "2023-01-19T21:32:07.681Z"
   },
   {
    "duration": 32,
    "start_time": "2023-01-19T21:34:17.400Z"
   },
   {
    "duration": 3,
    "start_time": "2023-01-19T21:37:56.266Z"
   },
   {
    "duration": 134,
    "start_time": "2023-01-19T21:39:07.289Z"
   },
   {
    "duration": 2089,
    "start_time": "2023-01-19T21:39:13.770Z"
   },
   {
    "duration": 316,
    "start_time": "2023-01-19T21:40:07.431Z"
   },
   {
    "duration": 54,
    "start_time": "2023-01-19T21:45:35.881Z"
   },
   {
    "duration": 4094,
    "start_time": "2023-01-19T21:45:46.403Z"
   },
   {
    "duration": 3472,
    "start_time": "2023-01-19T21:45:50.501Z"
   },
   {
    "duration": 13,
    "start_time": "2023-01-19T21:45:53.974Z"
   },
   {
    "duration": 5,
    "start_time": "2023-01-19T21:45:53.989Z"
   },
   {
    "duration": 293,
    "start_time": "2023-01-19T21:45:53.996Z"
   },
   {
    "duration": 4,
    "start_time": "2023-01-19T21:45:54.290Z"
   },
   {
    "duration": 47,
    "start_time": "2023-01-19T21:45:54.295Z"
   },
   {
    "duration": 238,
    "start_time": "2023-01-19T21:45:54.344Z"
   },
   {
    "duration": 2080,
    "start_time": "2023-01-19T21:45:54.584Z"
   },
   {
    "duration": 3827,
    "start_time": "2023-01-19T21:46:08.354Z"
   },
   {
    "duration": 3462,
    "start_time": "2023-01-19T21:46:12.184Z"
   },
   {
    "duration": 12,
    "start_time": "2023-01-19T21:46:15.648Z"
   },
   {
    "duration": 17,
    "start_time": "2023-01-19T21:46:15.662Z"
   },
   {
    "duration": 294,
    "start_time": "2023-01-19T21:46:15.682Z"
   },
   {
    "duration": 4,
    "start_time": "2023-01-19T21:46:15.978Z"
   },
   {
    "duration": 59,
    "start_time": "2023-01-19T21:46:15.983Z"
   },
   {
    "duration": 249,
    "start_time": "2023-01-19T21:46:16.044Z"
   },
   {
    "duration": 2140,
    "start_time": "2023-01-19T21:46:16.295Z"
   },
   {
    "duration": 3895,
    "start_time": "2023-01-19T21:47:00.053Z"
   },
   {
    "duration": 3546,
    "start_time": "2023-01-19T21:47:03.950Z"
   },
   {
    "duration": 12,
    "start_time": "2023-01-19T21:47:07.498Z"
   },
   {
    "duration": 8,
    "start_time": "2023-01-19T21:47:07.511Z"
   },
   {
    "duration": 282,
    "start_time": "2023-01-19T21:47:07.521Z"
   },
   {
    "duration": 4,
    "start_time": "2023-01-19T21:47:07.805Z"
   },
   {
    "duration": 53,
    "start_time": "2023-01-19T21:47:07.810Z"
   },
   {
    "duration": 243,
    "start_time": "2023-01-19T21:47:07.865Z"
   },
   {
    "duration": 2148,
    "start_time": "2023-01-19T21:47:08.110Z"
   },
   {
    "duration": 3856,
    "start_time": "2023-01-19T21:50:02.195Z"
   },
   {
    "duration": 3458,
    "start_time": "2023-01-19T21:50:06.053Z"
   },
   {
    "duration": 13,
    "start_time": "2023-01-19T21:50:09.513Z"
   },
   {
    "duration": 11,
    "start_time": "2023-01-19T21:50:09.528Z"
   },
   {
    "duration": 315,
    "start_time": "2023-01-19T21:50:09.541Z"
   },
   {
    "duration": 3,
    "start_time": "2023-01-19T21:50:09.858Z"
   },
   {
    "duration": 84,
    "start_time": "2023-01-19T21:50:09.863Z"
   },
   {
    "duration": 239,
    "start_time": "2023-01-19T21:50:09.949Z"
   },
   {
    "duration": 2087,
    "start_time": "2023-01-19T21:50:10.190Z"
   },
   {
    "duration": 51,
    "start_time": "2023-01-19T21:57:26.316Z"
   },
   {
    "duration": 3875,
    "start_time": "2023-01-19T21:57:44.450Z"
   },
   {
    "duration": 3572,
    "start_time": "2023-01-19T21:57:48.328Z"
   },
   {
    "duration": 12,
    "start_time": "2023-01-19T21:57:51.902Z"
   },
   {
    "duration": 14,
    "start_time": "2023-01-19T21:57:51.916Z"
   },
   {
    "duration": 284,
    "start_time": "2023-01-19T21:57:51.933Z"
   },
   {
    "duration": 5,
    "start_time": "2023-01-19T21:57:52.219Z"
   },
   {
    "duration": 68,
    "start_time": "2023-01-19T21:57:52.226Z"
   },
   {
    "duration": 231,
    "start_time": "2023-01-19T21:57:52.296Z"
   },
   {
    "duration": 2104,
    "start_time": "2023-01-19T21:57:52.529Z"
   },
   {
    "duration": 55,
    "start_time": "2023-01-19T22:11:42.779Z"
   },
   {
    "duration": 9,
    "start_time": "2023-01-19T22:11:49.914Z"
   },
   {
    "duration": 3901,
    "start_time": "2023-01-19T22:11:59.597Z"
   },
   {
    "duration": 3588,
    "start_time": "2023-01-19T22:12:03.500Z"
   },
   {
    "duration": 12,
    "start_time": "2023-01-19T22:12:07.090Z"
   },
   {
    "duration": 8,
    "start_time": "2023-01-19T22:12:07.104Z"
   },
   {
    "duration": 303,
    "start_time": "2023-01-19T22:12:07.114Z"
   },
   {
    "duration": 4,
    "start_time": "2023-01-19T22:12:07.419Z"
   },
   {
    "duration": 51,
    "start_time": "2023-01-19T22:12:07.425Z"
   },
   {
    "duration": 254,
    "start_time": "2023-01-19T22:12:07.478Z"
   },
   {
    "duration": 2185,
    "start_time": "2023-01-19T22:12:07.739Z"
   },
   {
    "duration": 4051,
    "start_time": "2023-01-19T22:15:59.012Z"
   },
   {
    "duration": 3435,
    "start_time": "2023-01-19T22:16:03.065Z"
   },
   {
    "duration": 12,
    "start_time": "2023-01-19T22:16:06.503Z"
   },
   {
    "duration": 8,
    "start_time": "2023-01-19T22:16:06.516Z"
   },
   {
    "duration": 288,
    "start_time": "2023-01-19T22:16:06.527Z"
   },
   {
    "duration": 4,
    "start_time": "2023-01-19T22:16:06.816Z"
   },
   {
    "duration": 45,
    "start_time": "2023-01-19T22:16:06.822Z"
   },
   {
    "duration": 233,
    "start_time": "2023-01-19T22:16:06.869Z"
   },
   {
    "duration": 2116,
    "start_time": "2023-01-19T22:16:07.104Z"
   },
   {
    "duration": 49,
    "start_time": "2023-01-19T22:22:14.527Z"
   },
   {
    "duration": 6,
    "start_time": "2023-01-19T22:22:35.408Z"
   },
   {
    "duration": 4142,
    "start_time": "2023-01-19T22:22:42.264Z"
   },
   {
    "duration": 3567,
    "start_time": "2023-01-19T22:22:46.409Z"
   },
   {
    "duration": 12,
    "start_time": "2023-01-19T22:22:49.978Z"
   },
   {
    "duration": 5,
    "start_time": "2023-01-19T22:22:49.992Z"
   },
   {
    "duration": 278,
    "start_time": "2023-01-19T22:22:49.998Z"
   },
   {
    "duration": 4,
    "start_time": "2023-01-19T22:22:50.278Z"
   },
   {
    "duration": 41,
    "start_time": "2023-01-19T22:22:50.284Z"
   },
   {
    "duration": 245,
    "start_time": "2023-01-19T22:22:50.327Z"
   },
   {
    "duration": 2057,
    "start_time": "2023-01-19T22:22:50.574Z"
   },
   {
    "duration": 4082,
    "start_time": "2023-01-19T22:23:04.616Z"
   },
   {
    "duration": 3556,
    "start_time": "2023-01-19T22:23:08.700Z"
   },
   {
    "duration": 12,
    "start_time": "2023-01-19T22:23:12.257Z"
   },
   {
    "duration": 5,
    "start_time": "2023-01-19T22:23:12.271Z"
   },
   {
    "duration": 280,
    "start_time": "2023-01-19T22:23:12.277Z"
   },
   {
    "duration": 3,
    "start_time": "2023-01-19T22:23:12.559Z"
   },
   {
    "duration": 37,
    "start_time": "2023-01-19T22:23:12.564Z"
   },
   {
    "duration": 257,
    "start_time": "2023-01-19T22:23:12.602Z"
   },
   {
    "duration": 2118,
    "start_time": "2023-01-19T22:23:12.861Z"
   },
   {
    "duration": 55,
    "start_time": "2023-01-19T22:25:42.491Z"
   },
   {
    "duration": 9,
    "start_time": "2023-01-19T22:26:59.671Z"
   },
   {
    "duration": 7,
    "start_time": "2023-01-19T22:27:01.417Z"
   },
   {
    "duration": 3926,
    "start_time": "2023-01-19T22:31:03.382Z"
   },
   {
    "duration": 105,
    "start_time": "2023-01-19T22:36:19.695Z"
   },
   {
    "duration": 3952,
    "start_time": "2023-01-19T22:39:40.618Z"
   },
   {
    "duration": 3497,
    "start_time": "2023-01-19T22:39:44.573Z"
   },
   {
    "duration": 13,
    "start_time": "2023-01-19T22:39:48.072Z"
   },
   {
    "duration": 16,
    "start_time": "2023-01-19T22:39:48.086Z"
   },
   {
    "duration": 297,
    "start_time": "2023-01-19T22:39:48.104Z"
   },
   {
    "duration": 5,
    "start_time": "2023-01-19T22:39:48.403Z"
   },
   {
    "duration": 50,
    "start_time": "2023-01-19T22:39:48.409Z"
   },
   {
    "duration": 13,
    "start_time": "2023-01-19T22:39:48.461Z"
   },
   {
    "duration": 254,
    "start_time": "2023-01-19T22:39:48.476Z"
   },
   {
    "duration": 2214,
    "start_time": "2023-01-19T22:39:48.732Z"
   },
   {
    "duration": 5645,
    "start_time": "2023-01-20T08:11:53.126Z"
   },
   {
    "duration": 3847,
    "start_time": "2023-01-20T08:11:58.774Z"
   },
   {
    "duration": 13,
    "start_time": "2023-01-20T08:12:02.623Z"
   },
   {
    "duration": 44,
    "start_time": "2023-01-20T08:12:02.638Z"
   },
   {
    "duration": 336,
    "start_time": "2023-01-20T08:12:02.685Z"
   },
   {
    "duration": 4,
    "start_time": "2023-01-20T08:12:03.024Z"
   },
   {
    "duration": 67,
    "start_time": "2023-01-20T08:12:03.039Z"
   },
   {
    "duration": 20,
    "start_time": "2023-01-20T08:12:03.109Z"
   },
   {
    "duration": 264,
    "start_time": "2023-01-20T08:12:03.132Z"
   },
   {
    "duration": 2347,
    "start_time": "2023-01-20T08:12:03.399Z"
   },
   {
    "duration": 5223,
    "start_time": "2023-01-20T08:15:17.446Z"
   },
   {
    "duration": 3846,
    "start_time": "2023-01-20T08:15:22.672Z"
   },
   {
    "duration": 17,
    "start_time": "2023-01-20T08:15:26.520Z"
   },
   {
    "duration": 18,
    "start_time": "2023-01-20T08:15:26.540Z"
   },
   {
    "duration": 393,
    "start_time": "2023-01-20T08:15:26.561Z"
   },
   {
    "duration": 5,
    "start_time": "2023-01-20T08:15:26.956Z"
   },
   {
    "duration": 53,
    "start_time": "2023-01-20T08:15:26.967Z"
   },
   {
    "duration": 33,
    "start_time": "2023-01-20T08:15:27.022Z"
   },
   {
    "duration": 285,
    "start_time": "2023-01-20T08:15:27.058Z"
   },
   {
    "duration": 2279,
    "start_time": "2023-01-20T08:15:27.345Z"
   },
   {
    "duration": 5567,
    "start_time": "2023-01-20T08:17:22.646Z"
   },
   {
    "duration": 3823,
    "start_time": "2023-01-20T08:17:28.217Z"
   },
   {
    "duration": 15,
    "start_time": "2023-01-20T08:17:32.042Z"
   },
   {
    "duration": 6,
    "start_time": "2023-01-20T08:17:32.060Z"
   },
   {
    "duration": 346,
    "start_time": "2023-01-20T08:17:32.068Z"
   },
   {
    "duration": 4,
    "start_time": "2023-01-20T08:17:32.416Z"
   },
   {
    "duration": 56,
    "start_time": "2023-01-20T08:17:32.422Z"
   },
   {
    "duration": 17,
    "start_time": "2023-01-20T08:17:32.480Z"
   },
   {
    "duration": 283,
    "start_time": "2023-01-20T08:17:32.499Z"
   },
   {
    "duration": 2136,
    "start_time": "2023-01-20T08:17:32.789Z"
   },
   {
    "duration": 7500,
    "start_time": "2023-01-20T08:18:26.958Z"
   },
   {
    "duration": 3955,
    "start_time": "2023-01-20T08:18:34.461Z"
   },
   {
    "duration": 20,
    "start_time": "2023-01-20T08:18:38.419Z"
   },
   {
    "duration": 32,
    "start_time": "2023-01-20T08:18:38.442Z"
   },
   {
    "duration": 463,
    "start_time": "2023-01-20T08:18:38.478Z"
   },
   {
    "duration": 5,
    "start_time": "2023-01-20T08:18:38.942Z"
   },
   {
    "duration": 84,
    "start_time": "2023-01-20T08:18:38.949Z"
   },
   {
    "duration": 39,
    "start_time": "2023-01-20T08:18:39.035Z"
   },
   {
    "duration": 309,
    "start_time": "2023-01-20T08:18:39.076Z"
   },
   {
    "duration": 2813,
    "start_time": "2023-01-20T08:18:39.387Z"
   },
   {
    "duration": 7225,
    "start_time": "2023-01-20T08:21:57.615Z"
   },
   {
    "duration": 3913,
    "start_time": "2023-01-20T08:22:04.844Z"
   },
   {
    "duration": 19,
    "start_time": "2023-01-20T08:22:08.759Z"
   },
   {
    "duration": 21,
    "start_time": "2023-01-20T08:22:08.781Z"
   },
   {
    "duration": 450,
    "start_time": "2023-01-20T08:22:08.806Z"
   },
   {
    "duration": 5,
    "start_time": "2023-01-20T08:22:09.259Z"
   },
   {
    "duration": 85,
    "start_time": "2023-01-20T08:22:09.267Z"
   },
   {
    "duration": 21,
    "start_time": "2023-01-20T08:22:09.355Z"
   },
   {
    "duration": 280,
    "start_time": "2023-01-20T08:22:09.378Z"
   },
   {
    "duration": 7358,
    "start_time": "2023-01-20T08:22:09.661Z"
   }
  ],
  "language_info": {
   "codemirror_mode": {
    "name": "ipython",
    "version": 3
   },
   "file_extension": ".py",
   "mimetype": "text/x-python",
   "name": "python",
   "nbconvert_exporter": "python",
   "pygments_lexer": "ipython3",
   "version": "3.7.7"
  },
  "notebookId": "2998b424-4e49-4e3f-9f62-b45db4021840",
  "notebookPath": "YANDEX/Викишоп.ipynb",
  "toc": {
   "base_numbering": 1,
   "nav_menu": {},
   "number_sections": true,
   "sideBar": true,
   "skip_h1_title": true,
   "title_cell": "Содержание",
   "title_sidebar": "Contents",
   "toc_cell": true,
   "toc_position": {
    "height": "calc(100% - 180px)",
    "left": "10px",
    "top": "150px",
    "width": "302.391px"
   },
   "toc_section_display": true,
   "toc_window_display": false
  }
 },
 "nbformat": 4,
 "nbformat_minor": 4
}
