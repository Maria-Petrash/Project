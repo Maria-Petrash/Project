{
  "nbformat" : 4,
  "nbformat_minor" : 4,
  "metadata" : {
    "notebookPath" : "YANDEX/Отток клиентов.ipynb",
    "language_info" : {
      "codemirror_mode" : {
        "name" : "ipython",
        "version" : 3
      },
      "file_extension" : ".py",
      "mimetype" : "text/x-python",
      "name" : "python",
      "nbconvert_exporter" : "python",
      "pygments_lexer" : "ipython3",
      "version" : "3.7.7"
    },
    "notebookId" : "80f28757-101d-48b0-98bb-14d84072c2d0",
    "ExecuteTimeLog" : [ {
      "duration" : 46,
      "start_time" : "2022-10-23T14:45:43.695Z"
    }, {
      "duration" : 442,
      "start_time" : "2022-10-23T14:45:57.233Z"
    }, {
      "duration" : 42,
      "start_time" : "2022-10-23T14:48:00.382Z"
    }, {
      "duration" : 12,
      "start_time" : "2022-10-23T14:48:26.895Z"
    }, {
      "duration" : 7,
      "start_time" : "2022-10-23T14:48:47.252Z"
    }, {
      "duration" : 4,
      "start_time" : "2022-10-23T14:49:08.024Z"
    }, {
      "duration" : 16,
      "start_time" : "2022-10-23T14:49:28.824Z"
    }, {
      "duration" : 44,
      "start_time" : "2022-10-25T12:51:25.286Z"
    }, {
      "duration" : 5,
      "start_time" : "2022-10-25T13:09:15.692Z"
    }, {
      "duration" : 5,
      "start_time" : "2022-10-25T13:09:26.118Z"
    }, {
      "duration" : 1221,
      "start_time" : "2022-10-25T13:09:33.887Z"
    }, {
      "duration" : 17,
      "start_time" : "2022-10-25T13:09:35.110Z"
    }, {
      "duration" : 12,
      "start_time" : "2022-10-25T13:09:35.128Z"
    }, {
      "duration" : 12,
      "start_time" : "2022-10-25T13:09:35.142Z"
    }, {
      "duration" : 3,
      "start_time" : "2022-10-25T13:09:35.156Z"
    }, {
      "duration" : 5,
      "start_time" : "2022-10-25T13:09:35.161Z"
    }, {
      "duration" : 45,
      "start_time" : "2022-10-25T13:09:35.168Z"
    }, {
      "duration" : 103,
      "start_time" : "2022-10-25T13:09:35.215Z"
    }, {
      "duration" : 44,
      "start_time" : "2022-10-25T13:10:18.198Z"
    }, {
      "duration" : 5,
      "start_time" : "2022-10-25T13:11:35.764Z"
    }, {
      "duration" : 8,
      "start_time" : "2022-10-25T13:12:42.300Z"
    }, {
      "duration" : 6,
      "start_time" : "2022-10-25T13:12:46.393Z"
    }, {
      "duration" : 38,
      "start_time" : "2022-10-25T13:13:09.692Z"
    }, {
      "duration" : 1017,
      "start_time" : "2022-10-25T13:13:19.957Z"
    }, {
      "duration" : 17,
      "start_time" : "2022-10-25T13:13:20.975Z"
    }, {
      "duration" : 13,
      "start_time" : "2022-10-25T13:13:20.994Z"
    }, {
      "duration" : 41,
      "start_time" : "2022-10-25T13:13:21.009Z"
    }, {
      "duration" : 6,
      "start_time" : "2022-10-25T13:13:21.051Z"
    }, {
      "duration" : 114,
      "start_time" : "2022-10-25T13:13:21.058Z"
    }, {
      "duration" : 0,
      "start_time" : "2022-10-25T13:13:21.175Z"
    }, {
      "duration" : 0,
      "start_time" : "2022-10-25T13:13:21.176Z"
    }, {
      "duration" : 0,
      "start_time" : "2022-10-25T13:13:21.177Z"
    }, {
      "duration" : 0,
      "start_time" : "2022-10-25T13:13:21.179Z"
    }, {
      "duration" : 0,
      "start_time" : "2022-10-25T13:13:21.181Z"
    }, {
      "duration" : 4,
      "start_time" : "2022-10-25T13:13:35.576Z"
    }, {
      "duration" : 1096,
      "start_time" : "2022-10-25T13:13:40.393Z"
    }, {
      "duration" : 17,
      "start_time" : "2022-10-25T13:13:41.491Z"
    }, {
      "duration" : 13,
      "start_time" : "2022-10-25T13:13:41.509Z"
    }, {
      "duration" : 44,
      "start_time" : "2022-10-25T13:13:41.524Z"
    }, {
      "duration" : 5,
      "start_time" : "2022-10-25T13:13:41.570Z"
    }, {
      "duration" : 28,
      "start_time" : "2022-10-25T13:13:41.577Z"
    }, {
      "duration" : 10,
      "start_time" : "2022-10-25T13:13:41.607Z"
    }, {
      "duration" : 4,
      "start_time" : "2022-10-25T13:13:41.619Z"
    }, {
      "duration" : 12,
      "start_time" : "2022-10-25T13:13:41.625Z"
    }, {
      "duration" : 19,
      "start_time" : "2022-10-25T13:13:41.639Z"
    }, {
      "duration" : 115,
      "start_time" : "2022-10-25T13:13:41.660Z"
    }, {
      "duration" : 4,
      "start_time" : "2022-10-25T13:13:49.338Z"
    }, {
      "duration" : 1127,
      "start_time" : "2022-10-25T13:13:53.686Z"
    }, {
      "duration" : 17,
      "start_time" : "2022-10-25T13:13:54.815Z"
    }, {
      "duration" : 12,
      "start_time" : "2022-10-25T13:13:54.834Z"
    }, {
      "duration" : 57,
      "start_time" : "2022-10-25T13:13:54.848Z"
    }, {
      "duration" : 4,
      "start_time" : "2022-10-25T13:13:54.908Z"
    }, {
      "duration" : 7,
      "start_time" : "2022-10-25T13:13:54.914Z"
    }, {
      "duration" : 10,
      "start_time" : "2022-10-25T13:13:54.922Z"
    }, {
      "duration" : 7,
      "start_time" : "2022-10-25T13:13:54.934Z"
    }, {
      "duration" : 9,
      "start_time" : "2022-10-25T13:13:54.942Z"
    }, {
      "duration" : 15,
      "start_time" : "2022-10-25T13:13:54.952Z"
    }, {
      "duration" : 119,
      "start_time" : "2022-10-25T13:13:54.969Z"
    }, {
      "duration" : 16,
      "start_time" : "2022-10-25T13:14:42.240Z"
    }, {
      "duration" : 469,
      "start_time" : "2022-10-25T13:15:03.495Z"
    }, {
      "duration" : 1366,
      "start_time" : "2022-10-25T13:15:12.140Z"
    }, {
      "duration" : 16,
      "start_time" : "2022-10-25T13:15:13.508Z"
    }, {
      "duration" : 17,
      "start_time" : "2022-10-25T13:15:13.526Z"
    }, {
      "duration" : 46,
      "start_time" : "2022-10-25T13:15:13.544Z"
    }, {
      "duration" : 4,
      "start_time" : "2022-10-25T13:15:13.591Z"
    }, {
      "duration" : 13,
      "start_time" : "2022-10-25T13:15:13.596Z"
    }, {
      "duration" : 31,
      "start_time" : "2022-10-25T13:15:13.610Z"
    }, {
      "duration" : 14,
      "start_time" : "2022-10-25T13:15:13.642Z"
    }, {
      "duration" : 26,
      "start_time" : "2022-10-25T13:15:13.657Z"
    }, {
      "duration" : 13,
      "start_time" : "2022-10-25T13:15:13.685Z"
    }, {
      "duration" : 152,
      "start_time" : "2022-10-25T13:15:33.905Z"
    }, {
      "duration" : 1,
      "start_time" : "2022-10-25T13:15:34.058Z"
    }, {
      "duration" : 1438,
      "start_time" : "2022-10-25T13:15:55.781Z"
    }, {
      "duration" : 17,
      "start_time" : "2022-10-25T13:15:57.221Z"
    }, {
      "duration" : 12,
      "start_time" : "2022-10-25T13:15:57.239Z"
    }, {
      "duration" : 54,
      "start_time" : "2022-10-25T13:15:57.252Z"
    }, {
      "duration" : 4,
      "start_time" : "2022-10-25T13:15:57.308Z"
    }, {
      "duration" : 10,
      "start_time" : "2022-10-25T13:15:57.313Z"
    }, {
      "duration" : 13,
      "start_time" : "2022-10-25T13:15:57.324Z"
    }, {
      "duration" : 22,
      "start_time" : "2022-10-25T13:15:57.339Z"
    }, {
      "duration" : 15,
      "start_time" : "2022-10-25T13:15:57.363Z"
    }, {
      "duration" : 22,
      "start_time" : "2022-10-25T13:15:57.381Z"
    }, {
      "duration" : 20167,
      "start_time" : "2022-10-25T13:15:57.405Z"
    }, {
      "duration" : 165,
      "start_time" : "2022-10-25T13:16:17.575Z"
    }, {
      "duration" : 618,
      "start_time" : "2022-10-25T13:16:35.675Z"
    }, {
      "duration" : 4,
      "start_time" : "2022-10-25T13:17:15.067Z"
    }, {
      "duration" : 1401,
      "start_time" : "2022-10-25T13:17:21.285Z"
    }, {
      "duration" : 16,
      "start_time" : "2022-10-25T13:17:22.688Z"
    }, {
      "duration" : 17,
      "start_time" : "2022-10-25T13:17:22.706Z"
    }, {
      "duration" : 47,
      "start_time" : "2022-10-25T13:17:22.725Z"
    }, {
      "duration" : 5,
      "start_time" : "2022-10-25T13:17:22.773Z"
    }, {
      "duration" : 7,
      "start_time" : "2022-10-25T13:17:22.779Z"
    }, {
      "duration" : 19,
      "start_time" : "2022-10-25T13:17:22.788Z"
    }, {
      "duration" : 4,
      "start_time" : "2022-10-25T13:17:22.808Z"
    }, {
      "duration" : 6,
      "start_time" : "2022-10-25T13:17:22.813Z"
    }, {
      "duration" : 14,
      "start_time" : "2022-10-25T13:17:22.820Z"
    }, {
      "duration" : 21116,
      "start_time" : "2022-10-25T13:17:22.835Z"
    }, {
      "duration" : 575,
      "start_time" : "2022-10-25T13:17:43.953Z"
    }, {
      "duration" : 4,
      "start_time" : "2022-10-25T13:17:44.529Z"
    }, {
      "duration" : 117,
      "start_time" : "2022-10-25T13:17:44.534Z"
    }, {
      "duration" : 11,
      "start_time" : "2022-10-25T13:18:05.443Z"
    }, {
      "duration" : 3,
      "start_time" : "2022-10-25T13:22:50.745Z"
    }, {
      "duration" : 5,
      "start_time" : "2022-10-25T13:22:52.233Z"
    }, {
      "duration" : 12,
      "start_time" : "2022-10-25T13:24:54.304Z"
    }, {
      "duration" : 8,
      "start_time" : "2022-10-25T13:24:59.657Z"
    }, {
      "duration" : 4,
      "start_time" : "2022-10-25T13:25:17.236Z"
    }, {
      "duration" : 2,
      "start_time" : "2022-10-25T13:25:55.973Z"
    }, {
      "duration" : 1408,
      "start_time" : "2022-10-25T13:26:01.700Z"
    }, {
      "duration" : 20,
      "start_time" : "2022-10-25T13:26:03.109Z"
    }, {
      "duration" : 12,
      "start_time" : "2022-10-25T13:26:03.131Z"
    }, {
      "duration" : 42,
      "start_time" : "2022-10-25T13:26:03.145Z"
    }, {
      "duration" : 3,
      "start_time" : "2022-10-25T13:26:03.204Z"
    }, {
      "duration" : 8,
      "start_time" : "2022-10-25T13:26:03.208Z"
    }, {
      "duration" : 6,
      "start_time" : "2022-10-25T13:26:03.217Z"
    }, {
      "duration" : 13,
      "start_time" : "2022-10-25T13:26:03.224Z"
    }, {
      "duration" : 4,
      "start_time" : "2022-10-25T13:26:03.239Z"
    }, {
      "duration" : 6,
      "start_time" : "2022-10-25T13:26:03.244Z"
    }, {
      "duration" : 19,
      "start_time" : "2022-10-25T13:26:03.252Z"
    }, {
      "duration" : 1324,
      "start_time" : "2022-10-25T13:26:20.562Z"
    }, {
      "duration" : 17,
      "start_time" : "2022-10-25T13:26:21.888Z"
    }, {
      "duration" : 13,
      "start_time" : "2022-10-25T13:26:21.907Z"
    }, {
      "duration" : 44,
      "start_time" : "2022-10-25T13:26:21.921Z"
    }, {
      "duration" : 4,
      "start_time" : "2022-10-25T13:26:21.966Z"
    }, {
      "duration" : 12,
      "start_time" : "2022-10-25T13:26:21.972Z"
    }, {
      "duration" : 21,
      "start_time" : "2022-10-25T13:26:21.985Z"
    }, {
      "duration" : 6,
      "start_time" : "2022-10-25T13:26:22.008Z"
    }, {
      "duration" : 6,
      "start_time" : "2022-10-25T13:26:22.015Z"
    }, {
      "duration" : 8,
      "start_time" : "2022-10-25T13:26:22.023Z"
    }, {
      "duration" : 16,
      "start_time" : "2022-10-25T13:26:22.032Z"
    }, {
      "duration" : 20370,
      "start_time" : "2022-10-25T13:26:22.049Z"
    }, {
      "duration" : 377,
      "start_time" : "2022-10-25T13:26:42.421Z"
    }, {
      "duration" : 3,
      "start_time" : "2022-10-25T13:26:42.805Z"
    }, {
      "duration" : 15,
      "start_time" : "2022-10-25T13:26:42.810Z"
    }, {
      "duration" : 119,
      "start_time" : "2022-10-25T13:26:42.827Z"
    }, {
      "duration" : 10,
      "start_time" : "2022-10-25T13:30:46.294Z"
    }, {
      "duration" : 6,
      "start_time" : "2022-10-25T13:31:31.113Z"
    }, {
      "duration" : 13,
      "start_time" : "2022-10-25T13:33:25.422Z"
    }, {
      "duration" : 17,
      "start_time" : "2022-10-25T13:34:44.403Z"
    }, {
      "duration" : 1562,
      "start_time" : "2022-10-25T13:35:24.340Z"
    }, {
      "duration" : 17,
      "start_time" : "2022-10-25T13:35:25.904Z"
    }, {
      "duration" : 14,
      "start_time" : "2022-10-25T13:35:25.923Z"
    }, {
      "duration" : 45,
      "start_time" : "2022-10-25T13:35:25.939Z"
    }, {
      "duration" : 22,
      "start_time" : "2022-10-25T13:35:25.986Z"
    }, {
      "duration" : 7,
      "start_time" : "2022-10-25T13:35:26.010Z"
    }, {
      "duration" : 6,
      "start_time" : "2022-10-25T13:35:26.018Z"
    }, {
      "duration" : 8,
      "start_time" : "2022-10-25T13:35:26.026Z"
    }, {
      "duration" : 5,
      "start_time" : "2022-10-25T13:35:26.036Z"
    }, {
      "duration" : 7,
      "start_time" : "2022-10-25T13:35:26.043Z"
    }, {
      "duration" : 16,
      "start_time" : "2022-10-25T13:35:26.051Z"
    }, {
      "duration" : 1386,
      "start_time" : "2022-10-25T13:35:49.105Z"
    }, {
      "duration" : 17,
      "start_time" : "2022-10-25T13:35:50.493Z"
    }, {
      "duration" : 12,
      "start_time" : "2022-10-25T13:35:50.511Z"
    }, {
      "duration" : 43,
      "start_time" : "2022-10-25T13:35:50.525Z"
    }, {
      "duration" : 4,
      "start_time" : "2022-10-25T13:35:50.569Z"
    }, {
      "duration" : 9,
      "start_time" : "2022-10-25T13:35:50.574Z"
    }, {
      "duration" : 21,
      "start_time" : "2022-10-25T13:35:50.584Z"
    }, {
      "duration" : 10,
      "start_time" : "2022-10-25T13:35:50.607Z"
    }, {
      "duration" : 4,
      "start_time" : "2022-10-25T13:35:50.618Z"
    }, {
      "duration" : 5,
      "start_time" : "2022-10-25T13:35:50.624Z"
    }, {
      "duration" : 16,
      "start_time" : "2022-10-25T13:35:50.630Z"
    }, {
      "duration" : 20623,
      "start_time" : "2022-10-25T13:35:50.648Z"
    }, {
      "duration" : 449,
      "start_time" : "2022-10-25T13:36:11.273Z"
    }, {
      "duration" : 5,
      "start_time" : "2022-10-25T13:36:11.723Z"
    }, {
      "duration" : 20,
      "start_time" : "2022-10-25T13:36:11.729Z"
    }, {
      "duration" : 12,
      "start_time" : "2022-10-25T13:36:11.751Z"
    }, {
      "duration" : 5,
      "start_time" : "2022-10-25T13:36:11.764Z"
    }, {
      "duration" : 116,
      "start_time" : "2022-10-25T13:36:11.771Z"
    }, {
      "duration" : 0,
      "start_time" : "2022-10-25T13:36:11.889Z"
    }, {
      "duration" : 351,
      "start_time" : "2022-10-25T13:37:29.198Z"
    }, {
      "duration" : 38,
      "start_time" : "2022-10-25T13:37:55.654Z"
    }, {
      "duration" : 1361,
      "start_time" : "2022-10-25T13:38:02.482Z"
    }, {
      "duration" : 368,
      "start_time" : "2022-10-25T13:38:03.844Z"
    }, {
      "duration" : 0,
      "start_time" : "2022-10-25T13:38:04.214Z"
    }, {
      "duration" : 0,
      "start_time" : "2022-10-25T13:38:04.215Z"
    }, {
      "duration" : 0,
      "start_time" : "2022-10-25T13:38:04.216Z"
    }, {
      "duration" : 0,
      "start_time" : "2022-10-25T13:38:04.217Z"
    }, {
      "duration" : 0,
      "start_time" : "2022-10-25T13:38:04.218Z"
    }, {
      "duration" : 0,
      "start_time" : "2022-10-25T13:38:04.219Z"
    }, {
      "duration" : 0,
      "start_time" : "2022-10-25T13:38:04.220Z"
    }, {
      "duration" : 0,
      "start_time" : "2022-10-25T13:38:04.221Z"
    }, {
      "duration" : 0,
      "start_time" : "2022-10-25T13:38:04.222Z"
    }, {
      "duration" : 0,
      "start_time" : "2022-10-25T13:38:04.223Z"
    }, {
      "duration" : 0,
      "start_time" : "2022-10-25T13:38:04.224Z"
    }, {
      "duration" : 0,
      "start_time" : "2022-10-25T13:38:04.225Z"
    }, {
      "duration" : 0,
      "start_time" : "2022-10-25T13:38:04.226Z"
    }, {
      "duration" : 0,
      "start_time" : "2022-10-25T13:38:04.227Z"
    }, {
      "duration" : 0,
      "start_time" : "2022-10-25T13:38:04.229Z"
    }, {
      "duration" : 0,
      "start_time" : "2022-10-25T13:38:04.230Z"
    }, {
      "duration" : 0,
      "start_time" : "2022-10-25T13:38:04.231Z"
    }, {
      "duration" : 0,
      "start_time" : "2022-10-25T13:38:04.232Z"
    }, {
      "duration" : 298,
      "start_time" : "2022-10-25T13:41:27.756Z"
    }, {
      "duration" : 61,
      "start_time" : "2022-10-25T13:47:02.600Z"
    }, {
      "duration" : 52,
      "start_time" : "2022-10-25T13:47:07.508Z"
    }, {
      "duration" : 1460,
      "start_time" : "2022-10-25T13:47:12.986Z"
    }, {
      "duration" : 0,
      "start_time" : "2022-10-25T13:47:14.448Z"
    }, {
      "duration" : 0,
      "start_time" : "2022-10-25T13:47:14.448Z"
    }, {
      "duration" : 0,
      "start_time" : "2022-10-25T13:47:14.449Z"
    }, {
      "duration" : 0,
      "start_time" : "2022-10-25T13:47:14.451Z"
    }, {
      "duration" : 0,
      "start_time" : "2022-10-25T13:47:14.452Z"
    }, {
      "duration" : 0,
      "start_time" : "2022-10-25T13:47:14.453Z"
    }, {
      "duration" : 0,
      "start_time" : "2022-10-25T13:47:14.454Z"
    }, {
      "duration" : 0,
      "start_time" : "2022-10-25T13:47:14.455Z"
    }, {
      "duration" : 0,
      "start_time" : "2022-10-25T13:47:14.456Z"
    }, {
      "duration" : 0,
      "start_time" : "2022-10-25T13:47:14.457Z"
    }, {
      "duration" : 0,
      "start_time" : "2022-10-25T13:47:14.459Z"
    }, {
      "duration" : 0,
      "start_time" : "2022-10-25T13:47:14.459Z"
    }, {
      "duration" : 0,
      "start_time" : "2022-10-25T13:47:14.460Z"
    }, {
      "duration" : 0,
      "start_time" : "2022-10-25T13:47:14.461Z"
    }, {
      "duration" : 1,
      "start_time" : "2022-10-25T13:47:14.462Z"
    }, {
      "duration" : 0,
      "start_time" : "2022-10-25T13:47:14.464Z"
    }, {
      "duration" : 0,
      "start_time" : "2022-10-25T13:47:14.465Z"
    }, {
      "duration" : 0,
      "start_time" : "2022-10-25T13:47:14.466Z"
    }, {
      "duration" : 49,
      "start_time" : "2022-10-25T13:47:25.447Z"
    }, {
      "duration" : 50,
      "start_time" : "2022-10-25T13:48:24.499Z"
    }, {
      "duration" : 1387,
      "start_time" : "2022-10-25T13:48:36.907Z"
    }, {
      "duration" : 138,
      "start_time" : "2022-10-25T13:48:38.296Z"
    }, {
      "duration" : 0,
      "start_time" : "2022-10-25T13:48:38.436Z"
    }, {
      "duration" : 0,
      "start_time" : "2022-10-25T13:48:38.437Z"
    }, {
      "duration" : 0,
      "start_time" : "2022-10-25T13:48:38.438Z"
    }, {
      "duration" : 0,
      "start_time" : "2022-10-25T13:48:38.440Z"
    }, {
      "duration" : 0,
      "start_time" : "2022-10-25T13:48:38.441Z"
    }, {
      "duration" : 0,
      "start_time" : "2022-10-25T13:48:38.441Z"
    }, {
      "duration" : 0,
      "start_time" : "2022-10-25T13:48:38.443Z"
    }, {
      "duration" : 0,
      "start_time" : "2022-10-25T13:48:38.444Z"
    }, {
      "duration" : 0,
      "start_time" : "2022-10-25T13:48:38.445Z"
    }, {
      "duration" : 0,
      "start_time" : "2022-10-25T13:48:38.446Z"
    }, {
      "duration" : 0,
      "start_time" : "2022-10-25T13:48:38.447Z"
    }, {
      "duration" : 0,
      "start_time" : "2022-10-25T13:48:38.448Z"
    }, {
      "duration" : 0,
      "start_time" : "2022-10-25T13:48:38.449Z"
    }, {
      "duration" : 0,
      "start_time" : "2022-10-25T13:48:38.450Z"
    }, {
      "duration" : 0,
      "start_time" : "2022-10-25T13:48:38.451Z"
    }, {
      "duration" : 0,
      "start_time" : "2022-10-25T13:48:38.452Z"
    }, {
      "duration" : 0,
      "start_time" : "2022-10-25T13:48:38.452Z"
    }, {
      "duration" : 0,
      "start_time" : "2022-10-25T13:48:38.453Z"
    }, {
      "duration" : 14,
      "start_time" : "2022-10-25T13:49:03.734Z"
    }, {
      "duration" : 15,
      "start_time" : "2022-10-25T13:49:17.634Z"
    }, {
      "duration" : 14,
      "start_time" : "2022-10-25T13:50:00.106Z"
    }, {
      "duration" : 10,
      "start_time" : "2022-10-25T13:50:53.470Z"
    }, {
      "duration" : 14,
      "start_time" : "2022-10-25T13:55:19.050Z"
    }, {
      "duration" : 4,
      "start_time" : "2022-10-25T13:56:45.547Z"
    }, {
      "duration" : 1287,
      "start_time" : "2022-10-25T13:56:51.937Z"
    }, {
      "duration" : 40,
      "start_time" : "2022-10-25T13:56:53.226Z"
    }, {
      "duration" : 102,
      "start_time" : "2022-10-25T13:56:53.268Z"
    }, {
      "duration" : 0,
      "start_time" : "2022-10-25T13:56:53.371Z"
    }, {
      "duration" : 0,
      "start_time" : "2022-10-25T13:56:53.372Z"
    }, {
      "duration" : 0,
      "start_time" : "2022-10-25T13:56:53.373Z"
    }, {
      "duration" : 0,
      "start_time" : "2022-10-25T13:56:53.374Z"
    }, {
      "duration" : 0,
      "start_time" : "2022-10-25T13:56:53.375Z"
    }, {
      "duration" : 0,
      "start_time" : "2022-10-25T13:56:53.376Z"
    }, {
      "duration" : 0,
      "start_time" : "2022-10-25T13:56:53.378Z"
    }, {
      "duration" : 0,
      "start_time" : "2022-10-25T13:56:53.379Z"
    }, {
      "duration" : 0,
      "start_time" : "2022-10-25T13:56:53.380Z"
    }, {
      "duration" : 0,
      "start_time" : "2022-10-25T13:56:53.381Z"
    }, {
      "duration" : 0,
      "start_time" : "2022-10-25T13:56:53.382Z"
    }, {
      "duration" : 0,
      "start_time" : "2022-10-25T13:56:53.383Z"
    }, {
      "duration" : 0,
      "start_time" : "2022-10-25T13:56:53.384Z"
    }, {
      "duration" : 0,
      "start_time" : "2022-10-25T13:56:53.385Z"
    }, {
      "duration" : 0,
      "start_time" : "2022-10-25T13:56:53.386Z"
    }, {
      "duration" : 0,
      "start_time" : "2022-10-25T13:56:53.405Z"
    }, {
      "duration" : 0,
      "start_time" : "2022-10-25T13:56:53.406Z"
    }, {
      "duration" : 15,
      "start_time" : "2022-10-25T13:57:53.336Z"
    }, {
      "duration" : 5,
      "start_time" : "2022-10-25T13:58:08.368Z"
    }, {
      "duration" : 1340,
      "start_time" : "2022-10-25T13:58:13.399Z"
    }, {
      "duration" : 40,
      "start_time" : "2022-10-25T13:58:14.741Z"
    }, {
      "duration" : 104,
      "start_time" : "2022-10-25T13:58:14.782Z"
    }, {
      "duration" : 0,
      "start_time" : "2022-10-25T13:58:14.888Z"
    }, {
      "duration" : 0,
      "start_time" : "2022-10-25T13:58:14.889Z"
    }, {
      "duration" : 0,
      "start_time" : "2022-10-25T13:58:14.890Z"
    }, {
      "duration" : 0,
      "start_time" : "2022-10-25T13:58:14.891Z"
    }, {
      "duration" : 0,
      "start_time" : "2022-10-25T13:58:14.891Z"
    }, {
      "duration" : 0,
      "start_time" : "2022-10-25T13:58:14.892Z"
    }, {
      "duration" : 0,
      "start_time" : "2022-10-25T13:58:14.893Z"
    }, {
      "duration" : 0,
      "start_time" : "2022-10-25T13:58:14.894Z"
    }, {
      "duration" : 0,
      "start_time" : "2022-10-25T13:58:14.895Z"
    }, {
      "duration" : 0,
      "start_time" : "2022-10-25T13:58:14.905Z"
    }, {
      "duration" : 0,
      "start_time" : "2022-10-25T13:58:14.906Z"
    }, {
      "duration" : 0,
      "start_time" : "2022-10-25T13:58:14.907Z"
    }, {
      "duration" : 0,
      "start_time" : "2022-10-25T13:58:14.907Z"
    }, {
      "duration" : 0,
      "start_time" : "2022-10-25T13:58:14.908Z"
    }, {
      "duration" : 0,
      "start_time" : "2022-10-25T13:58:14.909Z"
    }, {
      "duration" : 0,
      "start_time" : "2022-10-25T13:58:14.910Z"
    }, {
      "duration" : 0,
      "start_time" : "2022-10-25T13:58:14.911Z"
    }, {
      "duration" : 18,
      "start_time" : "2022-10-25T13:58:55.817Z"
    }, {
      "duration" : 4,
      "start_time" : "2022-10-25T13:59:08.143Z"
    }, {
      "duration" : 39,
      "start_time" : "2022-10-25T14:48:49.770Z"
    }, {
      "duration" : 13,
      "start_time" : "2022-10-25T14:48:55.569Z"
    }, {
      "duration" : 1270,
      "start_time" : "2022-10-25T14:49:02.866Z"
    }, {
      "duration" : 41,
      "start_time" : "2022-10-25T14:49:04.138Z"
    }, {
      "duration" : 12,
      "start_time" : "2022-10-25T14:49:04.181Z"
    }, {
      "duration" : 40,
      "start_time" : "2022-10-25T14:49:04.195Z"
    }, {
      "duration" : 3,
      "start_time" : "2022-10-25T14:49:04.238Z"
    }, {
      "duration" : 8,
      "start_time" : "2022-10-25T14:49:04.243Z"
    }, {
      "duration" : 8,
      "start_time" : "2022-10-25T14:49:04.253Z"
    }, {
      "duration" : 11,
      "start_time" : "2022-10-25T14:49:04.262Z"
    }, {
      "duration" : 5,
      "start_time" : "2022-10-25T14:49:04.274Z"
    }, {
      "duration" : 26,
      "start_time" : "2022-10-25T14:49:04.280Z"
    }, {
      "duration" : 14,
      "start_time" : "2022-10-25T14:49:04.307Z"
    }, {
      "duration" : 20448,
      "start_time" : "2022-10-25T14:49:04.323Z"
    }, {
      "duration" : 414,
      "start_time" : "2022-10-25T14:49:24.773Z"
    }, {
      "duration" : 4,
      "start_time" : "2022-10-25T14:49:25.189Z"
    }, {
      "duration" : 22,
      "start_time" : "2022-10-25T14:49:25.194Z"
    }, {
      "duration" : 11,
      "start_time" : "2022-10-25T14:49:25.217Z"
    }, {
      "duration" : 5,
      "start_time" : "2022-10-25T14:49:25.229Z"
    }, {
      "duration" : 127,
      "start_time" : "2022-10-25T14:49:25.235Z"
    }, {
      "duration" : 0,
      "start_time" : "2022-10-25T14:49:25.363Z"
    }, {
      "duration" : 0,
      "start_time" : "2022-10-25T14:49:25.365Z"
    }, {
      "duration" : 1352,
      "start_time" : "2022-10-25T14:49:32.994Z"
    }, {
      "duration" : 41,
      "start_time" : "2022-10-25T14:49:34.347Z"
    }, {
      "duration" : 12,
      "start_time" : "2022-10-25T14:49:34.390Z"
    }, {
      "duration" : 41,
      "start_time" : "2022-10-25T14:49:34.404Z"
    }, {
      "duration" : 3,
      "start_time" : "2022-10-25T14:49:34.446Z"
    }, {
      "duration" : 7,
      "start_time" : "2022-10-25T14:49:34.451Z"
    }, {
      "duration" : 5,
      "start_time" : "2022-10-25T14:49:34.459Z"
    }, {
      "duration" : 8,
      "start_time" : "2022-10-25T14:49:34.465Z"
    }, {
      "duration" : 3,
      "start_time" : "2022-10-25T14:49:34.475Z"
    }, {
      "duration" : 4,
      "start_time" : "2022-10-25T14:49:34.505Z"
    }, {
      "duration" : 16,
      "start_time" : "2022-10-25T14:49:34.510Z"
    }, {
      "duration" : 20776,
      "start_time" : "2022-10-25T14:49:34.527Z"
    }, {
      "duration" : 400,
      "start_time" : "2022-10-25T14:49:55.305Z"
    }, {
      "duration" : 4,
      "start_time" : "2022-10-25T14:49:55.707Z"
    }, {
      "duration" : 16,
      "start_time" : "2022-10-25T14:49:55.712Z"
    }, {
      "duration" : 10,
      "start_time" : "2022-10-25T14:49:55.730Z"
    }, {
      "duration" : 6,
      "start_time" : "2022-10-25T14:49:55.741Z"
    }, {
      "duration" : 124,
      "start_time" : "2022-10-25T14:49:55.748Z"
    }, {
      "duration" : 0,
      "start_time" : "2022-10-25T14:49:55.874Z"
    }, {
      "duration" : 37,
      "start_time" : "2022-10-25T14:50:49.636Z"
    }, {
      "duration" : 1401,
      "start_time" : "2022-10-25T14:50:55.980Z"
    }, {
      "duration" : 39,
      "start_time" : "2022-10-25T14:50:57.383Z"
    }, {
      "duration" : 118,
      "start_time" : "2022-10-25T14:50:57.425Z"
    }, {
      "duration" : 0,
      "start_time" : "2022-10-25T14:50:57.546Z"
    }, {
      "duration" : 0,
      "start_time" : "2022-10-25T14:50:57.547Z"
    }, {
      "duration" : 0,
      "start_time" : "2022-10-25T14:50:57.548Z"
    }, {
      "duration" : 0,
      "start_time" : "2022-10-25T14:50:57.549Z"
    }, {
      "duration" : 0,
      "start_time" : "2022-10-25T14:50:57.550Z"
    }, {
      "duration" : 0,
      "start_time" : "2022-10-25T14:50:57.551Z"
    }, {
      "duration" : 0,
      "start_time" : "2022-10-25T14:50:57.552Z"
    }, {
      "duration" : 0,
      "start_time" : "2022-10-25T14:50:57.554Z"
    }, {
      "duration" : 0,
      "start_time" : "2022-10-25T14:50:57.555Z"
    }, {
      "duration" : 0,
      "start_time" : "2022-10-25T14:50:57.557Z"
    }, {
      "duration" : 0,
      "start_time" : "2022-10-25T14:50:57.558Z"
    }, {
      "duration" : 0,
      "start_time" : "2022-10-25T14:50:57.559Z"
    }, {
      "duration" : 0,
      "start_time" : "2022-10-25T14:50:57.560Z"
    }, {
      "duration" : 0,
      "start_time" : "2022-10-25T14:50:57.562Z"
    }, {
      "duration" : 0,
      "start_time" : "2022-10-25T14:50:57.563Z"
    }, {
      "duration" : 0,
      "start_time" : "2022-10-25T14:50:57.564Z"
    }, {
      "duration" : 36,
      "start_time" : "2022-10-25T14:57:56.147Z"
    }, {
      "duration" : 1293,
      "start_time" : "2022-10-25T14:58:02.155Z"
    }, {
      "duration" : 37,
      "start_time" : "2022-10-25T14:58:03.450Z"
    }, {
      "duration" : 97,
      "start_time" : "2022-10-25T14:58:03.488Z"
    }, {
      "duration" : 0,
      "start_time" : "2022-10-25T14:58:03.587Z"
    }, {
      "duration" : 1,
      "start_time" : "2022-10-25T14:58:03.588Z"
    }, {
      "duration" : 0,
      "start_time" : "2022-10-25T14:58:03.590Z"
    }, {
      "duration" : 0,
      "start_time" : "2022-10-25T14:58:03.591Z"
    }, {
      "duration" : 0,
      "start_time" : "2022-10-25T14:58:03.592Z"
    }, {
      "duration" : 0,
      "start_time" : "2022-10-25T14:58:03.593Z"
    }, {
      "duration" : 0,
      "start_time" : "2022-10-25T14:58:03.594Z"
    }, {
      "duration" : 0,
      "start_time" : "2022-10-25T14:58:03.605Z"
    }, {
      "duration" : 0,
      "start_time" : "2022-10-25T14:58:03.606Z"
    }, {
      "duration" : 0,
      "start_time" : "2022-10-25T14:58:03.607Z"
    }, {
      "duration" : 0,
      "start_time" : "2022-10-25T14:58:03.608Z"
    }, {
      "duration" : 0,
      "start_time" : "2022-10-25T14:58:03.608Z"
    }, {
      "duration" : 0,
      "start_time" : "2022-10-25T14:58:03.609Z"
    }, {
      "duration" : 0,
      "start_time" : "2022-10-25T14:58:03.611Z"
    }, {
      "duration" : 0,
      "start_time" : "2022-10-25T14:58:03.612Z"
    }, {
      "duration" : 0,
      "start_time" : "2022-10-25T14:58:03.613Z"
    }, {
      "duration" : 36,
      "start_time" : "2022-10-25T14:58:53.651Z"
    }, {
      "duration" : 8,
      "start_time" : "2022-10-25T14:58:55.874Z"
    }, {
      "duration" : 37,
      "start_time" : "2022-10-25T14:59:03.336Z"
    }, {
      "duration" : 1321,
      "start_time" : "2022-10-25T14:59:09.018Z"
    }, {
      "duration" : 43,
      "start_time" : "2022-10-25T14:59:10.341Z"
    }, {
      "duration" : 103,
      "start_time" : "2022-10-25T14:59:10.385Z"
    }, {
      "duration" : 0,
      "start_time" : "2022-10-25T14:59:10.490Z"
    }, {
      "duration" : 0,
      "start_time" : "2022-10-25T14:59:10.492Z"
    }, {
      "duration" : 0,
      "start_time" : "2022-10-25T14:59:10.493Z"
    }, {
      "duration" : 0,
      "start_time" : "2022-10-25T14:59:10.505Z"
    }, {
      "duration" : 0,
      "start_time" : "2022-10-25T14:59:10.506Z"
    }, {
      "duration" : 0,
      "start_time" : "2022-10-25T14:59:10.507Z"
    }, {
      "duration" : 0,
      "start_time" : "2022-10-25T14:59:10.508Z"
    }, {
      "duration" : 0,
      "start_time" : "2022-10-25T14:59:10.509Z"
    }, {
      "duration" : 0,
      "start_time" : "2022-10-25T14:59:10.510Z"
    }, {
      "duration" : 0,
      "start_time" : "2022-10-25T14:59:10.511Z"
    }, {
      "duration" : 0,
      "start_time" : "2022-10-25T14:59:10.512Z"
    }, {
      "duration" : 0,
      "start_time" : "2022-10-25T14:59:10.513Z"
    }, {
      "duration" : 1,
      "start_time" : "2022-10-25T14:59:10.513Z"
    }, {
      "duration" : 0,
      "start_time" : "2022-10-25T14:59:10.514Z"
    }, {
      "duration" : 0,
      "start_time" : "2022-10-25T14:59:10.515Z"
    }, {
      "duration" : 0,
      "start_time" : "2022-10-25T14:59:10.516Z"
    }, {
      "duration" : 42,
      "start_time" : "2022-10-25T14:59:33.701Z"
    }, {
      "duration" : 14,
      "start_time" : "2022-10-25T14:59:38.021Z"
    }, {
      "duration" : 4,
      "start_time" : "2022-10-25T17:37:13.847Z"
    }, {
      "duration" : 1327,
      "start_time" : "2022-10-26T09:47:48.592Z"
    }, {
      "duration" : 40,
      "start_time" : "2022-10-26T09:47:49.921Z"
    }, {
      "duration" : 12,
      "start_time" : "2022-10-26T09:47:49.962Z"
    }, {
      "duration" : 42,
      "start_time" : "2022-10-26T09:47:49.975Z"
    }, {
      "duration" : 3,
      "start_time" : "2022-10-26T09:47:50.018Z"
    }, {
      "duration" : 19,
      "start_time" : "2022-10-26T09:47:50.023Z"
    }, {
      "duration" : 6,
      "start_time" : "2022-10-26T09:47:50.044Z"
    }, {
      "duration" : 8,
      "start_time" : "2022-10-26T09:47:50.051Z"
    }, {
      "duration" : 3,
      "start_time" : "2022-10-26T09:47:50.061Z"
    }, {
      "duration" : 5,
      "start_time" : "2022-10-26T09:47:50.066Z"
    }, {
      "duration" : 15,
      "start_time" : "2022-10-26T09:47:50.072Z"
    }, {
      "duration" : 1347,
      "start_time" : "2022-10-26T09:48:09.089Z"
    }, {
      "duration" : 39,
      "start_time" : "2022-10-26T09:48:10.438Z"
    }, {
      "duration" : 12,
      "start_time" : "2022-10-26T09:48:10.478Z"
    }, {
      "duration" : 46,
      "start_time" : "2022-10-26T09:48:10.492Z"
    }, {
      "duration" : 3,
      "start_time" : "2022-10-26T09:48:10.540Z"
    }, {
      "duration" : 8,
      "start_time" : "2022-10-26T09:48:10.544Z"
    }, {
      "duration" : 10,
      "start_time" : "2022-10-26T09:48:10.553Z"
    }, {
      "duration" : 10,
      "start_time" : "2022-10-26T09:48:10.565Z"
    }, {
      "duration" : 4,
      "start_time" : "2022-10-26T09:48:10.576Z"
    }, {
      "duration" : 7,
      "start_time" : "2022-10-26T09:48:10.581Z"
    }, {
      "duration" : 25,
      "start_time" : "2022-10-26T09:48:10.589Z"
    }, {
      "duration" : 19863,
      "start_time" : "2022-10-26T09:48:10.616Z"
    }, {
      "duration" : 416,
      "start_time" : "2022-10-26T09:48:30.481Z"
    }, {
      "duration" : 10,
      "start_time" : "2022-10-26T09:48:30.898Z"
    }, {
      "duration" : 17,
      "start_time" : "2022-10-26T09:48:30.910Z"
    }, {
      "duration" : 14,
      "start_time" : "2022-10-26T09:48:30.928Z"
    }, {
      "duration" : 4,
      "start_time" : "2022-10-26T09:48:30.944Z"
    }, {
      "duration" : 115,
      "start_time" : "2022-10-26T09:48:30.949Z"
    }, {
      "duration" : 0,
      "start_time" : "2022-10-26T09:48:31.065Z"
    }, {
      "duration" : 5,
      "start_time" : "2022-10-26T09:50:13.344Z"
    }, {
      "duration" : 4,
      "start_time" : "2022-10-26T09:50:17.636Z"
    }, {
      "duration" : 5,
      "start_time" : "2022-10-26T09:50:32.159Z"
    }, {
      "duration" : 1351,
      "start_time" : "2022-10-26T09:50:39.755Z"
    }, {
      "duration" : 43,
      "start_time" : "2022-10-26T09:50:41.108Z"
    }, {
      "duration" : 13,
      "start_time" : "2022-10-26T09:50:41.152Z"
    }, {
      "duration" : 54,
      "start_time" : "2022-10-26T09:50:41.167Z"
    }, {
      "duration" : 3,
      "start_time" : "2022-10-26T09:50:41.223Z"
    }, {
      "duration" : 6,
      "start_time" : "2022-10-26T09:50:41.228Z"
    }, {
      "duration" : 7,
      "start_time" : "2022-10-26T09:50:41.235Z"
    }, {
      "duration" : 6,
      "start_time" : "2022-10-26T09:50:41.244Z"
    }, {
      "duration" : 8,
      "start_time" : "2022-10-26T09:50:41.252Z"
    }, {
      "duration" : 4,
      "start_time" : "2022-10-26T09:50:41.262Z"
    }, {
      "duration" : 7,
      "start_time" : "2022-10-26T09:50:41.267Z"
    }, {
      "duration" : 31,
      "start_time" : "2022-10-26T09:50:41.275Z"
    }, {
      "duration" : 19728,
      "start_time" : "2022-10-26T09:50:41.307Z"
    }, {
      "duration" : 580,
      "start_time" : "2022-10-26T09:51:01.037Z"
    }, {
      "duration" : 4,
      "start_time" : "2022-10-26T09:51:01.619Z"
    }, {
      "duration" : 15,
      "start_time" : "2022-10-26T09:51:01.624Z"
    }, {
      "duration" : 15,
      "start_time" : "2022-10-26T09:51:01.641Z"
    }, {
      "duration" : 18,
      "start_time" : "2022-10-26T09:51:01.658Z"
    }, {
      "duration" : 112,
      "start_time" : "2022-10-26T09:51:01.677Z"
    }, {
      "duration" : 0,
      "start_time" : "2022-10-26T09:51:01.790Z"
    }, {
      "duration" : 62,
      "start_time" : "2022-10-26T09:52:02.387Z"
    }, {
      "duration" : 68,
      "start_time" : "2022-10-26T09:54:17.695Z"
    }, {
      "duration" : 35,
      "start_time" : "2022-10-26T09:54:28.243Z"
    }, {
      "duration" : 21,
      "start_time" : "2022-10-26T09:55:38.237Z"
    }, {
      "duration" : 1355,
      "start_time" : "2022-10-26T09:55:43.590Z"
    }, {
      "duration" : 41,
      "start_time" : "2022-10-26T09:55:44.946Z"
    }, {
      "duration" : 12,
      "start_time" : "2022-10-26T09:55:44.989Z"
    }, {
      "duration" : 51,
      "start_time" : "2022-10-26T09:55:45.003Z"
    }, {
      "duration" : 4,
      "start_time" : "2022-10-26T09:55:45.055Z"
    }, {
      "duration" : 11,
      "start_time" : "2022-10-26T09:55:45.061Z"
    }, {
      "duration" : 9,
      "start_time" : "2022-10-26T09:55:45.073Z"
    }, {
      "duration" : 23,
      "start_time" : "2022-10-26T09:55:45.084Z"
    }, {
      "duration" : 10,
      "start_time" : "2022-10-26T09:55:45.108Z"
    }, {
      "duration" : 4,
      "start_time" : "2022-10-26T09:55:45.121Z"
    }, {
      "duration" : 7,
      "start_time" : "2022-10-26T09:55:45.126Z"
    }, {
      "duration" : 17,
      "start_time" : "2022-10-26T09:55:45.135Z"
    }, {
      "duration" : 1373,
      "start_time" : "2022-10-26T09:56:02.975Z"
    }, {
      "duration" : 42,
      "start_time" : "2022-10-26T09:56:04.350Z"
    }, {
      "duration" : 13,
      "start_time" : "2022-10-26T09:56:04.393Z"
    }, {
      "duration" : 49,
      "start_time" : "2022-10-26T09:56:04.408Z"
    }, {
      "duration" : 4,
      "start_time" : "2022-10-26T09:56:04.459Z"
    }, {
      "duration" : 7,
      "start_time" : "2022-10-26T09:56:04.464Z"
    }, {
      "duration" : 6,
      "start_time" : "2022-10-26T09:56:04.473Z"
    }, {
      "duration" : 26,
      "start_time" : "2022-10-26T09:56:04.480Z"
    }, {
      "duration" : 7,
      "start_time" : "2022-10-26T09:56:04.508Z"
    }, {
      "duration" : 3,
      "start_time" : "2022-10-26T09:56:04.518Z"
    }, {
      "duration" : 5,
      "start_time" : "2022-10-26T09:56:04.522Z"
    }, {
      "duration" : 14,
      "start_time" : "2022-10-26T09:56:04.529Z"
    }, {
      "duration" : 20588,
      "start_time" : "2022-10-26T09:56:04.544Z"
    }, {
      "duration" : 637,
      "start_time" : "2022-10-26T09:56:25.134Z"
    }, {
      "duration" : 4,
      "start_time" : "2022-10-26T09:56:25.773Z"
    }, {
      "duration" : 14,
      "start_time" : "2022-10-26T09:56:25.778Z"
    }, {
      "duration" : 9,
      "start_time" : "2022-10-26T09:56:25.805Z"
    }, {
      "duration" : 4,
      "start_time" : "2022-10-26T09:56:25.816Z"
    }, {
      "duration" : 54,
      "start_time" : "2022-10-26T09:56:25.821Z"
    }, {
      "duration" : 35,
      "start_time" : "2022-10-26T09:56:40.707Z"
    }, {
      "duration" : 9,
      "start_time" : "2022-10-26T09:59:39.536Z"
    }, {
      "duration" : 11,
      "start_time" : "2022-10-26T10:01:06.232Z"
    }, {
      "duration" : 3,
      "start_time" : "2022-10-26T10:01:51.107Z"
    }, {
      "duration" : 108,
      "start_time" : "2022-10-26T10:02:05.403Z"
    }, {
      "duration" : 1330,
      "start_time" : "2022-10-26T10:02:36.455Z"
    }, {
      "duration" : 43,
      "start_time" : "2022-10-26T10:02:37.787Z"
    }, {
      "duration" : 13,
      "start_time" : "2022-10-26T10:02:37.832Z"
    }, {
      "duration" : 51,
      "start_time" : "2022-10-26T10:02:37.847Z"
    }, {
      "duration" : 7,
      "start_time" : "2022-10-26T10:02:37.900Z"
    }, {
      "duration" : 6,
      "start_time" : "2022-10-26T10:02:37.909Z"
    }, {
      "duration" : 11,
      "start_time" : "2022-10-26T10:02:37.917Z"
    }, {
      "duration" : 21,
      "start_time" : "2022-10-26T10:02:37.930Z"
    }, {
      "duration" : 5,
      "start_time" : "2022-10-26T10:02:37.952Z"
    }, {
      "duration" : 16,
      "start_time" : "2022-10-26T10:02:37.959Z"
    }, {
      "duration" : 111,
      "start_time" : "2022-10-26T10:02:37.976Z"
    }, {
      "duration" : 2,
      "start_time" : "2022-10-26T10:02:38.089Z"
    }, {
      "duration" : 20,
      "start_time" : "2022-10-26T10:02:38.093Z"
    }, {
      "duration" : 13679,
      "start_time" : "2022-10-26T10:02:38.116Z"
    }, {
      "duration" : 3,
      "start_time" : "2022-10-26T10:03:21.347Z"
    }, {
      "duration" : 1410,
      "start_time" : "2022-10-26T10:03:26.167Z"
    }, {
      "duration" : 40,
      "start_time" : "2022-10-26T10:03:27.579Z"
    }, {
      "duration" : 11,
      "start_time" : "2022-10-26T10:03:27.621Z"
    }, {
      "duration" : 52,
      "start_time" : "2022-10-26T10:03:27.634Z"
    }, {
      "duration" : 17,
      "start_time" : "2022-10-26T10:03:27.688Z"
    }, {
      "duration" : 4,
      "start_time" : "2022-10-26T10:03:27.707Z"
    }, {
      "duration" : 6,
      "start_time" : "2022-10-26T10:03:27.713Z"
    }, {
      "duration" : 9,
      "start_time" : "2022-10-26T10:03:27.720Z"
    }, {
      "duration" : 4,
      "start_time" : "2022-10-26T10:03:27.730Z"
    }, {
      "duration" : 12,
      "start_time" : "2022-10-26T10:03:27.736Z"
    }, {
      "duration" : 110,
      "start_time" : "2022-10-26T10:03:27.749Z"
    }, {
      "duration" : 4,
      "start_time" : "2022-10-26T10:03:27.861Z"
    }, {
      "duration" : 13,
      "start_time" : "2022-10-26T10:03:27.867Z"
    }, {
      "duration" : 13498,
      "start_time" : "2022-10-26T10:03:27.881Z"
    }, {
      "duration" : 1338,
      "start_time" : "2022-10-26T10:04:21.700Z"
    }, {
      "duration" : 41,
      "start_time" : "2022-10-26T10:04:23.040Z"
    }, {
      "duration" : 13,
      "start_time" : "2022-10-26T10:04:23.083Z"
    }, {
      "duration" : 49,
      "start_time" : "2022-10-26T10:04:23.098Z"
    }, {
      "duration" : 3,
      "start_time" : "2022-10-26T10:04:23.149Z"
    }, {
      "duration" : 7,
      "start_time" : "2022-10-26T10:04:23.153Z"
    }, {
      "duration" : 7,
      "start_time" : "2022-10-26T10:04:23.161Z"
    }, {
      "duration" : 9,
      "start_time" : "2022-10-26T10:04:23.169Z"
    }, {
      "duration" : 5,
      "start_time" : "2022-10-26T10:04:23.204Z"
    }, {
      "duration" : 12,
      "start_time" : "2022-10-26T10:04:23.210Z"
    }, {
      "duration" : 62,
      "start_time" : "2022-10-26T10:04:23.223Z"
    }, {
      "duration" : 20,
      "start_time" : "2022-10-26T10:04:23.286Z"
    }, {
      "duration" : 7,
      "start_time" : "2022-10-26T10:04:23.307Z"
    }, {
      "duration" : 13220,
      "start_time" : "2022-10-26T10:04:23.315Z"
    }, {
      "duration" : 3264,
      "start_time" : "2022-10-26T10:08:11.889Z"
    }, {
      "duration" : 1377,
      "start_time" : "2022-10-26T10:08:17.179Z"
    }, {
      "duration" : 40,
      "start_time" : "2022-10-26T10:08:18.557Z"
    }, {
      "duration" : 12,
      "start_time" : "2022-10-26T10:08:18.599Z"
    }, {
      "duration" : 52,
      "start_time" : "2022-10-26T10:08:18.613Z"
    }, {
      "duration" : 3,
      "start_time" : "2022-10-26T10:08:18.667Z"
    }, {
      "duration" : 7,
      "start_time" : "2022-10-26T10:08:18.672Z"
    }, {
      "duration" : 6,
      "start_time" : "2022-10-26T10:08:18.681Z"
    }, {
      "duration" : 23,
      "start_time" : "2022-10-26T10:08:18.688Z"
    }, {
      "duration" : 4,
      "start_time" : "2022-10-26T10:08:18.712Z"
    }, {
      "duration" : 14,
      "start_time" : "2022-10-26T10:08:18.718Z"
    }, {
      "duration" : 80,
      "start_time" : "2022-10-26T10:08:18.733Z"
    }, {
      "duration" : 3,
      "start_time" : "2022-10-26T10:08:18.815Z"
    }, {
      "duration" : 6,
      "start_time" : "2022-10-26T10:08:18.820Z"
    }, {
      "duration" : 3487,
      "start_time" : "2022-10-26T10:08:18.827Z"
    }, {
      "duration" : 3341,
      "start_time" : "2022-10-26T10:10:24.598Z"
    }, {
      "duration" : 1361,
      "start_time" : "2022-10-26T10:12:38.197Z"
    }, {
      "duration" : 39,
      "start_time" : "2022-10-26T10:12:39.560Z"
    }, {
      "duration" : 11,
      "start_time" : "2022-10-26T10:12:39.600Z"
    }, {
      "duration" : 73,
      "start_time" : "2022-10-26T10:12:39.613Z"
    }, {
      "duration" : 5,
      "start_time" : "2022-10-26T10:12:39.687Z"
    }, {
      "duration" : 26,
      "start_time" : "2022-10-26T10:12:39.693Z"
    }, {
      "duration" : 25,
      "start_time" : "2022-10-26T10:12:39.720Z"
    }, {
      "duration" : 35,
      "start_time" : "2022-10-26T10:12:39.747Z"
    }, {
      "duration" : 30,
      "start_time" : "2022-10-26T10:12:39.783Z"
    }, {
      "duration" : 37,
      "start_time" : "2022-10-26T10:12:39.815Z"
    }, {
      "duration" : 81,
      "start_time" : "2022-10-26T10:12:39.853Z"
    }, {
      "duration" : 3,
      "start_time" : "2022-10-26T10:12:39.935Z"
    }, {
      "duration" : 15,
      "start_time" : "2022-10-26T10:12:39.939Z"
    }, {
      "duration" : 13631,
      "start_time" : "2022-10-26T10:12:39.956Z"
    }, {
      "duration" : 1333,
      "start_time" : "2022-10-26T10:13:12.099Z"
    }, {
      "duration" : 41,
      "start_time" : "2022-10-26T10:13:13.434Z"
    }, {
      "duration" : 13,
      "start_time" : "2022-10-26T10:13:13.477Z"
    }, {
      "duration" : 48,
      "start_time" : "2022-10-26T10:13:13.493Z"
    }, {
      "duration" : 4,
      "start_time" : "2022-10-26T10:13:13.543Z"
    }, {
      "duration" : 10,
      "start_time" : "2022-10-26T10:13:13.549Z"
    }, {
      "duration" : 16,
      "start_time" : "2022-10-26T10:13:13.560Z"
    }, {
      "duration" : 12,
      "start_time" : "2022-10-26T10:13:13.578Z"
    }, {
      "duration" : 14,
      "start_time" : "2022-10-26T10:13:13.591Z"
    }, {
      "duration" : 12,
      "start_time" : "2022-10-26T10:13:13.607Z"
    }, {
      "duration" : 70,
      "start_time" : "2022-10-26T10:13:13.620Z"
    }, {
      "duration" : 14,
      "start_time" : "2022-10-26T10:13:13.692Z"
    }, {
      "duration" : 9,
      "start_time" : "2022-10-26T10:13:13.707Z"
    }, {
      "duration" : 13306,
      "start_time" : "2022-10-26T10:13:13.717Z"
    }, {
      "duration" : 7,
      "start_time" : "2022-10-26T10:16:18.292Z"
    }, {
      "duration" : 103,
      "start_time" : "2022-10-26T10:17:15.052Z"
    }, {
      "duration" : 1370,
      "start_time" : "2022-10-26T10:17:39.007Z"
    }, {
      "duration" : 42,
      "start_time" : "2022-10-26T10:17:40.379Z"
    }, {
      "duration" : 14,
      "start_time" : "2022-10-26T10:17:40.423Z"
    }, {
      "duration" : 69,
      "start_time" : "2022-10-26T10:17:40.440Z"
    }, {
      "duration" : 4,
      "start_time" : "2022-10-26T10:17:40.511Z"
    }, {
      "duration" : 6,
      "start_time" : "2022-10-26T10:17:40.516Z"
    }, {
      "duration" : 10,
      "start_time" : "2022-10-26T10:17:40.523Z"
    }, {
      "duration" : 8,
      "start_time" : "2022-10-26T10:17:40.535Z"
    }, {
      "duration" : 5,
      "start_time" : "2022-10-26T10:17:40.544Z"
    }, {
      "duration" : 12,
      "start_time" : "2022-10-26T10:17:40.551Z"
    }, {
      "duration" : 97,
      "start_time" : "2022-10-26T10:17:40.565Z"
    }, {
      "duration" : 3,
      "start_time" : "2022-10-26T10:17:40.664Z"
    }, {
      "duration" : 19,
      "start_time" : "2022-10-26T10:17:40.668Z"
    }, {
      "duration" : 13498,
      "start_time" : "2022-10-26T10:17:40.689Z"
    }, {
      "duration" : 8,
      "start_time" : "2022-10-26T10:17:54.189Z"
    }, {
      "duration" : 36,
      "start_time" : "2022-10-26T10:17:54.198Z"
    }, {
      "duration" : 1377,
      "start_time" : "2022-10-26T10:17:56.107Z"
    }, {
      "duration" : 42,
      "start_time" : "2022-10-26T10:17:57.486Z"
    }, {
      "duration" : 12,
      "start_time" : "2022-10-26T10:17:57.529Z"
    }, {
      "duration" : 46,
      "start_time" : "2022-10-26T10:17:57.543Z"
    }, {
      "duration" : 4,
      "start_time" : "2022-10-26T10:17:57.591Z"
    }, {
      "duration" : 4,
      "start_time" : "2022-10-26T10:17:57.605Z"
    }, {
      "duration" : 5,
      "start_time" : "2022-10-26T10:17:57.611Z"
    }, {
      "duration" : 9,
      "start_time" : "2022-10-26T10:17:57.618Z"
    }, {
      "duration" : 3,
      "start_time" : "2022-10-26T10:17:57.628Z"
    }, {
      "duration" : 12,
      "start_time" : "2022-10-26T10:17:57.633Z"
    }, {
      "duration" : 85,
      "start_time" : "2022-10-26T10:17:57.647Z"
    }, {
      "duration" : 3,
      "start_time" : "2022-10-26T10:17:57.733Z"
    }, {
      "duration" : 6,
      "start_time" : "2022-10-26T10:17:57.737Z"
    }, {
      "duration" : 13719,
      "start_time" : "2022-10-26T10:17:57.744Z"
    }, {
      "duration" : 8,
      "start_time" : "2022-10-26T10:18:11.465Z"
    }, {
      "duration" : 45,
      "start_time" : "2022-10-26T10:18:11.474Z"
    }, {
      "duration" : 192,
      "start_time" : "2022-10-26T10:21:38.785Z"
    }, {
      "duration" : 4,
      "start_time" : "2022-10-26T10:22:10.366Z"
    }, {
      "duration" : 1426,
      "start_time" : "2022-10-26T10:22:16.205Z"
    }, {
      "duration" : 40,
      "start_time" : "2022-10-26T10:22:17.632Z"
    }, {
      "duration" : 16,
      "start_time" : "2022-10-26T10:22:17.674Z"
    }, {
      "duration" : 55,
      "start_time" : "2022-10-26T10:22:17.692Z"
    }, {
      "duration" : 4,
      "start_time" : "2022-10-26T10:22:17.748Z"
    }, {
      "duration" : 7,
      "start_time" : "2022-10-26T10:22:17.754Z"
    }, {
      "duration" : 5,
      "start_time" : "2022-10-26T10:22:17.763Z"
    }, {
      "duration" : 8,
      "start_time" : "2022-10-26T10:22:17.770Z"
    }, {
      "duration" : 31,
      "start_time" : "2022-10-26T10:22:17.780Z"
    }, {
      "duration" : 17,
      "start_time" : "2022-10-26T10:22:17.813Z"
    }, {
      "duration" : 88,
      "start_time" : "2022-10-26T10:22:17.832Z"
    }, {
      "duration" : 4,
      "start_time" : "2022-10-26T10:22:17.922Z"
    }, {
      "duration" : 8,
      "start_time" : "2022-10-26T10:22:17.929Z"
    }, {
      "duration" : 13617,
      "start_time" : "2022-10-26T10:22:17.939Z"
    }, {
      "duration" : 8,
      "start_time" : "2022-10-26T10:22:31.557Z"
    }, {
      "duration" : 54,
      "start_time" : "2022-10-26T10:22:31.567Z"
    }, {
      "duration" : 4,
      "start_time" : "2022-10-26T10:22:31.622Z"
    }, {
      "duration" : 13,
      "start_time" : "2022-10-26T10:22:31.627Z"
    }, {
      "duration" : 193,
      "start_time" : "2022-10-26T10:22:34.187Z"
    }, {
      "duration" : 135,
      "start_time" : "2022-10-26T10:23:01.783Z"
    }, {
      "duration" : 4,
      "start_time" : "2022-10-26T10:23:42.571Z"
    }, {
      "duration" : 135,
      "start_time" : "2022-10-26T10:25:41.502Z"
    }, {
      "duration" : 1419,
      "start_time" : "2022-10-26T10:27:01.072Z"
    }, {
      "duration" : 47,
      "start_time" : "2022-10-26T10:27:02.493Z"
    }, {
      "duration" : 13,
      "start_time" : "2022-10-26T10:27:02.542Z"
    }, {
      "duration" : 55,
      "start_time" : "2022-10-26T10:27:02.557Z"
    }, {
      "duration" : 6,
      "start_time" : "2022-10-26T10:27:02.615Z"
    }, {
      "duration" : 6,
      "start_time" : "2022-10-26T10:27:02.623Z"
    }, {
      "duration" : 6,
      "start_time" : "2022-10-26T10:27:02.631Z"
    }, {
      "duration" : 7,
      "start_time" : "2022-10-26T10:27:02.638Z"
    }, {
      "duration" : 8,
      "start_time" : "2022-10-26T10:27:02.646Z"
    }, {
      "duration" : 17,
      "start_time" : "2022-10-26T10:27:02.655Z"
    }, {
      "duration" : 83,
      "start_time" : "2022-10-26T10:27:02.674Z"
    }, {
      "duration" : 4,
      "start_time" : "2022-10-26T10:27:02.759Z"
    }, {
      "duration" : 6,
      "start_time" : "2022-10-26T10:27:02.764Z"
    }, {
      "duration" : 14871,
      "start_time" : "2022-10-26T10:27:02.772Z"
    }, {
      "duration" : 8,
      "start_time" : "2022-10-26T10:27:17.645Z"
    }, {
      "duration" : 35,
      "start_time" : "2022-10-26T10:27:17.654Z"
    }, {
      "duration" : 14,
      "start_time" : "2022-10-26T10:27:17.708Z"
    }, {
      "duration" : 13,
      "start_time" : "2022-10-26T10:27:17.724Z"
    }, {
      "duration" : 173,
      "start_time" : "2022-10-26T10:27:17.739Z"
    }, {
      "duration" : 172,
      "start_time" : "2022-10-26T10:27:17.914Z"
    }, {
      "duration" : 5,
      "start_time" : "2022-10-26T10:27:18.087Z"
    }, {
      "duration" : 27,
      "start_time" : "2022-10-26T10:27:18.093Z"
    }, {
      "duration" : 7,
      "start_time" : "2022-10-26T10:27:18.121Z"
    }, {
      "duration" : 4,
      "start_time" : "2022-10-26T10:27:33.243Z"
    }, {
      "duration" : 5,
      "start_time" : "2022-10-26T10:28:01.458Z"
    }, {
      "duration" : 103,
      "start_time" : "2022-10-26T10:28:23.652Z"
    }, {
      "duration" : 3,
      "start_time" : "2022-10-26T10:29:01.502Z"
    }, {
      "duration" : 100,
      "start_time" : "2022-10-26T10:29:24.846Z"
    }, {
      "duration" : 5,
      "start_time" : "2022-10-26T10:30:12.717Z"
    }, {
      "duration" : 1403,
      "start_time" : "2022-10-26T10:30:25.094Z"
    }, {
      "duration" : 46,
      "start_time" : "2022-10-26T10:30:26.500Z"
    }, {
      "duration" : 13,
      "start_time" : "2022-10-26T10:30:26.547Z"
    }, {
      "duration" : 54,
      "start_time" : "2022-10-26T10:30:26.562Z"
    }, {
      "duration" : 6,
      "start_time" : "2022-10-26T10:30:26.617Z"
    }, {
      "duration" : 7,
      "start_time" : "2022-10-26T10:30:26.625Z"
    }, {
      "duration" : 6,
      "start_time" : "2022-10-26T10:30:26.633Z"
    }, {
      "duration" : 8,
      "start_time" : "2022-10-26T10:30:26.641Z"
    }, {
      "duration" : 4,
      "start_time" : "2022-10-26T10:30:26.650Z"
    }, {
      "duration" : 16,
      "start_time" : "2022-10-26T10:30:26.657Z"
    }, {
      "duration" : 92,
      "start_time" : "2022-10-26T10:30:26.674Z"
    }, {
      "duration" : 4,
      "start_time" : "2022-10-26T10:30:26.768Z"
    }, {
      "duration" : 10,
      "start_time" : "2022-10-26T10:30:26.773Z"
    }, {
      "duration" : 15083,
      "start_time" : "2022-10-26T10:30:26.785Z"
    }, {
      "duration" : 8,
      "start_time" : "2022-10-26T10:30:41.870Z"
    }, {
      "duration" : 74,
      "start_time" : "2022-10-26T10:30:41.880Z"
    }, {
      "duration" : 5,
      "start_time" : "2022-10-26T10:30:41.956Z"
    }, {
      "duration" : 18,
      "start_time" : "2022-10-26T10:30:41.962Z"
    }, {
      "duration" : 193,
      "start_time" : "2022-10-26T10:30:41.982Z"
    }, {
      "duration" : 179,
      "start_time" : "2022-10-26T10:30:42.177Z"
    }, {
      "duration" : 5,
      "start_time" : "2022-10-26T10:30:42.358Z"
    }, {
      "duration" : 13,
      "start_time" : "2022-10-26T10:30:42.364Z"
    }, {
      "duration" : 7,
      "start_time" : "2022-10-26T10:30:42.379Z"
    }, {
      "duration" : 24,
      "start_time" : "2022-10-26T10:30:42.388Z"
    }, {
      "duration" : 25,
      "start_time" : "2022-10-26T10:30:42.416Z"
    }, {
      "duration" : 8,
      "start_time" : "2022-10-26T10:30:42.443Z"
    }, {
      "duration" : 103,
      "start_time" : "2022-10-26T10:30:42.453Z"
    }, {
      "duration" : 3,
      "start_time" : "2022-10-26T10:30:42.560Z"
    }, {
      "duration" : 58,
      "start_time" : "2022-10-26T10:30:42.565Z"
    }, {
      "duration" : 1411,
      "start_time" : "2022-10-26T10:30:44.417Z"
    }, {
      "duration" : 40,
      "start_time" : "2022-10-26T10:30:45.830Z"
    }, {
      "duration" : 13,
      "start_time" : "2022-10-26T10:30:45.871Z"
    }, {
      "duration" : 53,
      "start_time" : "2022-10-26T10:30:45.885Z"
    }, {
      "duration" : 4,
      "start_time" : "2022-10-26T10:30:45.939Z"
    }, {
      "duration" : 8,
      "start_time" : "2022-10-26T10:30:45.944Z"
    }, {
      "duration" : 7,
      "start_time" : "2022-10-26T10:30:45.953Z"
    }, {
      "duration" : 8,
      "start_time" : "2022-10-26T10:30:45.961Z"
    }, {
      "duration" : 3,
      "start_time" : "2022-10-26T10:30:45.971Z"
    }, {
      "duration" : 37,
      "start_time" : "2022-10-26T10:30:45.977Z"
    }, {
      "duration" : 65,
      "start_time" : "2022-10-26T10:30:46.016Z"
    }, {
      "duration" : 3,
      "start_time" : "2022-10-26T10:30:46.082Z"
    }, {
      "duration" : 24,
      "start_time" : "2022-10-26T10:30:46.086Z"
    }, {
      "duration" : 1375,
      "start_time" : "2022-10-26T10:31:03.690Z"
    }, {
      "duration" : 46,
      "start_time" : "2022-10-26T10:31:05.068Z"
    }, {
      "duration" : 13,
      "start_time" : "2022-10-26T10:31:05.121Z"
    }, {
      "duration" : 51,
      "start_time" : "2022-10-26T10:31:05.136Z"
    }, {
      "duration" : 28,
      "start_time" : "2022-10-26T10:31:05.189Z"
    }, {
      "duration" : 6,
      "start_time" : "2022-10-26T10:31:05.219Z"
    }, {
      "duration" : 7,
      "start_time" : "2022-10-26T10:31:05.226Z"
    }, {
      "duration" : 10,
      "start_time" : "2022-10-26T10:31:05.235Z"
    }, {
      "duration" : 4,
      "start_time" : "2022-10-26T10:31:05.246Z"
    }, {
      "duration" : 13,
      "start_time" : "2022-10-26T10:31:05.252Z"
    }, {
      "duration" : 85,
      "start_time" : "2022-10-26T10:31:05.267Z"
    }, {
      "duration" : 3,
      "start_time" : "2022-10-26T10:31:05.354Z"
    }, {
      "duration" : 9,
      "start_time" : "2022-10-26T10:31:05.358Z"
    }, {
      "duration" : 14682,
      "start_time" : "2022-10-26T10:31:05.369Z"
    }, {
      "duration" : 8,
      "start_time" : "2022-10-26T10:31:20.054Z"
    }, {
      "duration" : 35,
      "start_time" : "2022-10-26T10:31:20.063Z"
    }, {
      "duration" : 4,
      "start_time" : "2022-10-26T10:31:20.099Z"
    }, {
      "duration" : 27,
      "start_time" : "2022-10-26T10:31:20.105Z"
    }, {
      "duration" : 191,
      "start_time" : "2022-10-26T10:31:20.133Z"
    }, {
      "duration" : 146,
      "start_time" : "2022-10-26T10:31:20.325Z"
    }, {
      "duration" : 4,
      "start_time" : "2022-10-26T10:31:20.473Z"
    }, {
      "duration" : 9,
      "start_time" : "2022-10-26T10:31:20.478Z"
    }, {
      "duration" : 24,
      "start_time" : "2022-10-26T10:31:20.489Z"
    }, {
      "duration" : 4,
      "start_time" : "2022-10-26T10:31:20.519Z"
    }, {
      "duration" : 5,
      "start_time" : "2022-10-26T10:31:20.525Z"
    }, {
      "duration" : 6,
      "start_time" : "2022-10-26T10:31:20.531Z"
    }, {
      "duration" : 98,
      "start_time" : "2022-10-26T10:31:20.539Z"
    }, {
      "duration" : 3,
      "start_time" : "2022-10-26T10:31:20.640Z"
    }, {
      "duration" : 29,
      "start_time" : "2022-10-26T10:31:20.644Z"
    }, {
      "duration" : 3,
      "start_time" : "2022-10-26T10:31:44.119Z"
    }, {
      "duration" : 175,
      "start_time" : "2022-10-26T10:33:48.849Z"
    }, {
      "duration" : 4,
      "start_time" : "2022-10-26T10:34:24.360Z"
    }, {
      "duration" : 1344,
      "start_time" : "2022-10-26T10:34:38.407Z"
    }, {
      "duration" : 41,
      "start_time" : "2022-10-26T10:34:39.753Z"
    }, {
      "duration" : 13,
      "start_time" : "2022-10-26T10:34:39.796Z"
    }, {
      "duration" : 50,
      "start_time" : "2022-10-26T10:34:39.812Z"
    }, {
      "duration" : 4,
      "start_time" : "2022-10-26T10:34:39.864Z"
    }, {
      "duration" : 6,
      "start_time" : "2022-10-26T10:34:39.869Z"
    }, {
      "duration" : 8,
      "start_time" : "2022-10-26T10:34:39.877Z"
    }, {
      "duration" : 9,
      "start_time" : "2022-10-26T10:34:39.906Z"
    }, {
      "duration" : 5,
      "start_time" : "2022-10-26T10:34:39.917Z"
    }, {
      "duration" : 20,
      "start_time" : "2022-10-26T10:34:39.925Z"
    }, {
      "duration" : 82,
      "start_time" : "2022-10-26T10:34:39.947Z"
    }, {
      "duration" : 2,
      "start_time" : "2022-10-26T10:34:40.031Z"
    }, {
      "duration" : 11,
      "start_time" : "2022-10-26T10:34:40.035Z"
    }, {
      "duration" : 14208,
      "start_time" : "2022-10-26T10:34:40.047Z"
    }, {
      "duration" : 10,
      "start_time" : "2022-10-26T10:34:54.257Z"
    }, {
      "duration" : 43,
      "start_time" : "2022-10-26T10:34:54.268Z"
    }, {
      "duration" : 4,
      "start_time" : "2022-10-26T10:34:54.313Z"
    }, {
      "duration" : 11,
      "start_time" : "2022-10-26T10:34:54.318Z"
    }, {
      "duration" : 199,
      "start_time" : "2022-10-26T10:34:54.330Z"
    }, {
      "duration" : 144,
      "start_time" : "2022-10-26T10:34:54.530Z"
    }, {
      "duration" : 3,
      "start_time" : "2022-10-26T10:34:54.676Z"
    }, {
      "duration" : 11,
      "start_time" : "2022-10-26T10:34:54.681Z"
    }, {
      "duration" : 14,
      "start_time" : "2022-10-26T10:34:54.693Z"
    }, {
      "duration" : 6,
      "start_time" : "2022-10-26T10:34:54.708Z"
    }, {
      "duration" : 5,
      "start_time" : "2022-10-26T10:34:54.716Z"
    }, {
      "duration" : 5,
      "start_time" : "2022-10-26T10:34:54.722Z"
    }, {
      "duration" : 107,
      "start_time" : "2022-10-26T10:34:54.729Z"
    }, {
      "duration" : 3,
      "start_time" : "2022-10-26T10:34:54.840Z"
    }, {
      "duration" : 29,
      "start_time" : "2022-10-26T10:34:54.845Z"
    }, {
      "duration" : 3,
      "start_time" : "2022-10-26T10:34:54.876Z"
    }, {
      "duration" : 193,
      "start_time" : "2022-10-26T10:34:54.880Z"
    }, {
      "duration" : 4,
      "start_time" : "2022-10-26T10:36:17.138Z"
    }, {
      "duration" : 1321,
      "start_time" : "2022-10-26T10:36:23.139Z"
    }, {
      "duration" : 41,
      "start_time" : "2022-10-26T10:36:24.462Z"
    }, {
      "duration" : 16,
      "start_time" : "2022-10-26T10:36:24.504Z"
    }, {
      "duration" : 83,
      "start_time" : "2022-10-26T10:36:24.523Z"
    }, {
      "duration" : 4,
      "start_time" : "2022-10-26T10:36:24.608Z"
    }, {
      "duration" : 8,
      "start_time" : "2022-10-26T10:36:24.614Z"
    }, {
      "duration" : 9,
      "start_time" : "2022-10-26T10:36:24.624Z"
    }, {
      "duration" : 11,
      "start_time" : "2022-10-26T10:36:24.635Z"
    }, {
      "duration" : 9,
      "start_time" : "2022-10-26T10:36:24.648Z"
    }, {
      "duration" : 16,
      "start_time" : "2022-10-26T10:36:24.660Z"
    }, {
      "duration" : 122,
      "start_time" : "2022-10-26T10:36:24.678Z"
    }, {
      "duration" : 3,
      "start_time" : "2022-10-26T10:36:24.805Z"
    }, {
      "duration" : 11,
      "start_time" : "2022-10-26T10:36:24.810Z"
    }, {
      "duration" : 1411,
      "start_time" : "2022-10-26T10:36:36.910Z"
    }, {
      "duration" : 41,
      "start_time" : "2022-10-26T10:36:38.323Z"
    }, {
      "duration" : 11,
      "start_time" : "2022-10-26T10:36:38.366Z"
    }, {
      "duration" : 50,
      "start_time" : "2022-10-26T10:36:38.379Z"
    }, {
      "duration" : 4,
      "start_time" : "2022-10-26T10:36:38.431Z"
    }, {
      "duration" : 6,
      "start_time" : "2022-10-26T10:36:38.436Z"
    }, {
      "duration" : 5,
      "start_time" : "2022-10-26T10:36:38.444Z"
    }, {
      "duration" : 11,
      "start_time" : "2022-10-26T10:36:38.451Z"
    }, {
      "duration" : 4,
      "start_time" : "2022-10-26T10:36:38.463Z"
    }, {
      "duration" : 18,
      "start_time" : "2022-10-26T10:36:38.470Z"
    }, {
      "duration" : 66,
      "start_time" : "2022-10-26T10:36:38.505Z"
    }, {
      "duration" : 3,
      "start_time" : "2022-10-26T10:36:38.573Z"
    }, {
      "duration" : 8,
      "start_time" : "2022-10-26T10:36:38.578Z"
    }, {
      "duration" : 1283,
      "start_time" : "2022-10-26T10:36:50.675Z"
    }, {
      "duration" : 41,
      "start_time" : "2022-10-26T10:36:51.959Z"
    }, {
      "duration" : 12,
      "start_time" : "2022-10-26T10:36:52.001Z"
    }, {
      "duration" : 48,
      "start_time" : "2022-10-26T10:36:52.015Z"
    }, {
      "duration" : 4,
      "start_time" : "2022-10-26T10:36:52.064Z"
    }, {
      "duration" : 7,
      "start_time" : "2022-10-26T10:36:52.069Z"
    }, {
      "duration" : 29,
      "start_time" : "2022-10-26T10:36:52.077Z"
    }, {
      "duration" : 9,
      "start_time" : "2022-10-26T10:36:52.107Z"
    }, {
      "duration" : 10,
      "start_time" : "2022-10-26T10:36:52.118Z"
    }, {
      "duration" : 18,
      "start_time" : "2022-10-26T10:36:52.131Z"
    }, {
      "duration" : 79,
      "start_time" : "2022-10-26T10:36:52.151Z"
    }, {
      "duration" : 3,
      "start_time" : "2022-10-26T10:36:52.232Z"
    }, {
      "duration" : 12,
      "start_time" : "2022-10-26T10:36:52.236Z"
    }, {
      "duration" : 13762,
      "start_time" : "2022-10-26T10:36:52.249Z"
    }, {
      "duration" : 8,
      "start_time" : "2022-10-26T10:37:06.014Z"
    }, {
      "duration" : 36,
      "start_time" : "2022-10-26T10:37:06.024Z"
    }, {
      "duration" : 46,
      "start_time" : "2022-10-26T10:37:06.061Z"
    }, {
      "duration" : 29,
      "start_time" : "2022-10-26T10:37:06.109Z"
    }, {
      "duration" : 226,
      "start_time" : "2022-10-26T10:37:06.140Z"
    }, {
      "duration" : 150,
      "start_time" : "2022-10-26T10:37:06.368Z"
    }, {
      "duration" : 5,
      "start_time" : "2022-10-26T10:37:06.519Z"
    }, {
      "duration" : 14,
      "start_time" : "2022-10-26T10:37:06.525Z"
    }, {
      "duration" : 13,
      "start_time" : "2022-10-26T10:37:06.541Z"
    }, {
      "duration" : 8,
      "start_time" : "2022-10-26T10:37:06.555Z"
    }, {
      "duration" : 7,
      "start_time" : "2022-10-26T10:37:06.564Z"
    }, {
      "duration" : 9,
      "start_time" : "2022-10-26T10:37:06.572Z"
    }, {
      "duration" : 93,
      "start_time" : "2022-10-26T10:37:06.582Z"
    }, {
      "duration" : 3,
      "start_time" : "2022-10-26T10:37:06.678Z"
    }, {
      "duration" : 44,
      "start_time" : "2022-10-26T10:37:06.683Z"
    }, {
      "duration" : 3,
      "start_time" : "2022-10-26T10:37:06.729Z"
    }, {
      "duration" : 23273,
      "start_time" : "2022-10-26T10:37:06.734Z"
    }, {
      "duration" : 277,
      "start_time" : "2022-10-26T10:37:30.009Z"
    }, {
      "duration" : 5,
      "start_time" : "2022-10-26T10:38:00.464Z"
    }, {
      "duration" : 83,
      "start_time" : "2022-10-26T10:38:24.343Z"
    }, {
      "duration" : 8,
      "start_time" : "2022-10-26T10:39:54.499Z"
    }, {
      "duration" : 1635,
      "start_time" : "2022-10-26T10:40:06.623Z"
    }, {
      "duration" : 41,
      "start_time" : "2022-10-26T10:40:08.261Z"
    }, {
      "duration" : 14,
      "start_time" : "2022-10-26T10:40:08.304Z"
    }, {
      "duration" : 73,
      "start_time" : "2022-10-26T10:40:08.320Z"
    }, {
      "duration" : 4,
      "start_time" : "2022-10-26T10:40:08.406Z"
    }, {
      "duration" : 6,
      "start_time" : "2022-10-26T10:40:08.411Z"
    }, {
      "duration" : 7,
      "start_time" : "2022-10-26T10:40:08.418Z"
    }, {
      "duration" : 8,
      "start_time" : "2022-10-26T10:40:08.426Z"
    }, {
      "duration" : 4,
      "start_time" : "2022-10-26T10:40:08.435Z"
    }, {
      "duration" : 14,
      "start_time" : "2022-10-26T10:40:08.441Z"
    }, {
      "duration" : 86,
      "start_time" : "2022-10-26T10:40:08.456Z"
    }, {
      "duration" : 2,
      "start_time" : "2022-10-26T10:40:08.544Z"
    }, {
      "duration" : 9,
      "start_time" : "2022-10-26T10:40:08.547Z"
    }, {
      "duration" : 13631,
      "start_time" : "2022-10-26T10:40:08.557Z"
    }, {
      "duration" : 11,
      "start_time" : "2022-10-26T10:40:22.189Z"
    }, {
      "duration" : 77,
      "start_time" : "2022-10-26T10:40:22.202Z"
    }, {
      "duration" : 5,
      "start_time" : "2022-10-26T10:40:22.281Z"
    }, {
      "duration" : 28,
      "start_time" : "2022-10-26T10:40:22.288Z"
    }, {
      "duration" : 178,
      "start_time" : "2022-10-26T10:40:22.317Z"
    }, {
      "duration" : 142,
      "start_time" : "2022-10-26T10:40:22.497Z"
    }, {
      "duration" : 4,
      "start_time" : "2022-10-26T10:40:22.641Z"
    }, {
      "duration" : 29,
      "start_time" : "2022-10-26T10:40:22.646Z"
    }, {
      "duration" : 20,
      "start_time" : "2022-10-26T10:40:22.677Z"
    }, {
      "duration" : 14,
      "start_time" : "2022-10-26T10:40:22.699Z"
    }, {
      "duration" : 8,
      "start_time" : "2022-10-26T10:40:22.715Z"
    }, {
      "duration" : 20,
      "start_time" : "2022-10-26T10:40:22.725Z"
    }, {
      "duration" : 116,
      "start_time" : "2022-10-26T10:40:22.747Z"
    }, {
      "duration" : 3,
      "start_time" : "2022-10-26T10:40:22.866Z"
    }, {
      "duration" : 40,
      "start_time" : "2022-10-26T10:40:22.870Z"
    }, {
      "duration" : 3,
      "start_time" : "2022-10-26T10:40:22.911Z"
    }, {
      "duration" : 22892,
      "start_time" : "2022-10-26T10:40:22.916Z"
    }, {
      "duration" : 373,
      "start_time" : "2022-10-26T10:40:45.810Z"
    }, {
      "duration" : 0,
      "start_time" : "2022-10-26T10:40:46.185Z"
    }, {
      "duration" : 0,
      "start_time" : "2022-10-26T10:40:46.186Z"
    }, {
      "duration" : 131,
      "start_time" : "2022-10-26T10:41:15.942Z"
    }, {
      "duration" : 4,
      "start_time" : "2022-10-26T10:41:39.532Z"
    }, {
      "duration" : 1322,
      "start_time" : "2022-10-26T10:42:23.327Z"
    }, {
      "duration" : 40,
      "start_time" : "2022-10-26T10:42:24.651Z"
    }, {
      "duration" : 14,
      "start_time" : "2022-10-26T10:42:24.692Z"
    }, {
      "duration" : 65,
      "start_time" : "2022-10-26T10:42:24.707Z"
    }, {
      "duration" : 4,
      "start_time" : "2022-10-26T10:42:24.775Z"
    }, {
      "duration" : 20,
      "start_time" : "2022-10-26T10:42:24.780Z"
    }, {
      "duration" : 24,
      "start_time" : "2022-10-26T10:42:24.802Z"
    }, {
      "duration" : 23,
      "start_time" : "2022-10-26T10:42:24.827Z"
    }, {
      "duration" : 4,
      "start_time" : "2022-10-26T10:42:24.852Z"
    }, {
      "duration" : 19,
      "start_time" : "2022-10-26T10:42:24.857Z"
    }, {
      "duration" : 71,
      "start_time" : "2022-10-26T10:42:24.878Z"
    }, {
      "duration" : 3,
      "start_time" : "2022-10-26T10:42:24.951Z"
    }, {
      "duration" : 10,
      "start_time" : "2022-10-26T10:42:24.955Z"
    }, {
      "duration" : 13868,
      "start_time" : "2022-10-26T10:42:24.968Z"
    }, {
      "duration" : 8,
      "start_time" : "2022-10-26T10:42:38.838Z"
    }, {
      "duration" : 58,
      "start_time" : "2022-10-26T10:42:38.847Z"
    }, {
      "duration" : 5,
      "start_time" : "2022-10-26T10:42:38.907Z"
    }, {
      "duration" : 15,
      "start_time" : "2022-10-26T10:42:38.914Z"
    }, {
      "duration" : 191,
      "start_time" : "2022-10-26T10:42:38.930Z"
    }, {
      "duration" : 147,
      "start_time" : "2022-10-26T10:42:39.122Z"
    }, {
      "duration" : 4,
      "start_time" : "2022-10-26T10:42:39.271Z"
    }, {
      "duration" : 11,
      "start_time" : "2022-10-26T10:42:39.277Z"
    }, {
      "duration" : 17,
      "start_time" : "2022-10-26T10:42:39.290Z"
    }, {
      "duration" : 3,
      "start_time" : "2022-10-26T10:42:39.309Z"
    }, {
      "duration" : 8,
      "start_time" : "2022-10-26T10:42:39.314Z"
    }, {
      "duration" : 7,
      "start_time" : "2022-10-26T10:42:39.323Z"
    }, {
      "duration" : 110,
      "start_time" : "2022-10-26T10:42:39.331Z"
    }, {
      "duration" : 3,
      "start_time" : "2022-10-26T10:42:39.443Z"
    }, {
      "duration" : 27,
      "start_time" : "2022-10-26T10:42:39.448Z"
    }, {
      "duration" : 3,
      "start_time" : "2022-10-26T10:42:39.477Z"
    }, {
      "duration" : 20532,
      "start_time" : "2022-10-26T10:42:39.482Z"
    }, {
      "duration" : 394,
      "start_time" : "2022-10-26T10:43:00.016Z"
    }, {
      "duration" : 0,
      "start_time" : "2022-10-26T10:43:00.412Z"
    }, {
      "duration" : 0,
      "start_time" : "2022-10-26T10:43:00.413Z"
    }, {
      "duration" : 0,
      "start_time" : "2022-10-26T10:43:00.414Z"
    }, {
      "duration" : 109,
      "start_time" : "2022-10-26T10:43:37.966Z"
    }, {
      "duration" : 94,
      "start_time" : "2022-10-26T10:44:28.017Z"
    }, {
      "duration" : 92,
      "start_time" : "2022-10-26T10:46:44.313Z"
    }, {
      "duration" : 94,
      "start_time" : "2022-10-26T10:48:10.824Z"
    }, {
      "duration" : 1389,
      "start_time" : "2022-10-26T10:48:29.604Z"
    }, {
      "duration" : 41,
      "start_time" : "2022-10-26T10:48:30.995Z"
    }, {
      "duration" : 13,
      "start_time" : "2022-10-26T10:48:31.038Z"
    }, {
      "duration" : 56,
      "start_time" : "2022-10-26T10:48:31.053Z"
    }, {
      "duration" : 4,
      "start_time" : "2022-10-26T10:48:31.111Z"
    }, {
      "duration" : 19,
      "start_time" : "2022-10-26T10:48:31.116Z"
    }, {
      "duration" : 8,
      "start_time" : "2022-10-26T10:48:31.137Z"
    }, {
      "duration" : 11,
      "start_time" : "2022-10-26T10:48:31.147Z"
    }, {
      "duration" : 10,
      "start_time" : "2022-10-26T10:48:31.160Z"
    }, {
      "duration" : 21,
      "start_time" : "2022-10-26T10:48:31.172Z"
    }, {
      "duration" : 67,
      "start_time" : "2022-10-26T10:48:31.194Z"
    }, {
      "duration" : 3,
      "start_time" : "2022-10-26T10:48:31.262Z"
    }, {
      "duration" : 17,
      "start_time" : "2022-10-26T10:48:31.266Z"
    }, {
      "duration" : 14171,
      "start_time" : "2022-10-26T10:48:31.284Z"
    }, {
      "duration" : 8,
      "start_time" : "2022-10-26T10:48:45.457Z"
    }, {
      "duration" : 44,
      "start_time" : "2022-10-26T10:48:45.467Z"
    }, {
      "duration" : 4,
      "start_time" : "2022-10-26T10:48:45.513Z"
    }, {
      "duration" : 15,
      "start_time" : "2022-10-26T10:48:45.519Z"
    }, {
      "duration" : 176,
      "start_time" : "2022-10-26T10:48:45.536Z"
    }, {
      "duration" : 135,
      "start_time" : "2022-10-26T10:48:45.713Z"
    }, {
      "duration" : 5,
      "start_time" : "2022-10-26T10:48:45.850Z"
    }, {
      "duration" : 10,
      "start_time" : "2022-10-26T10:48:45.856Z"
    }, {
      "duration" : 6,
      "start_time" : "2022-10-26T10:48:45.868Z"
    }, {
      "duration" : 3,
      "start_time" : "2022-10-26T10:48:45.875Z"
    }, {
      "duration" : 27,
      "start_time" : "2022-10-26T10:48:45.879Z"
    }, {
      "duration" : 4,
      "start_time" : "2022-10-26T10:48:45.908Z"
    }, {
      "duration" : 98,
      "start_time" : "2022-10-26T10:48:45.913Z"
    }, {
      "duration" : 3,
      "start_time" : "2022-10-26T10:48:46.014Z"
    }, {
      "duration" : 30,
      "start_time" : "2022-10-26T10:48:46.018Z"
    }, {
      "duration" : 3,
      "start_time" : "2022-10-26T10:48:46.049Z"
    }, {
      "duration" : 22655,
      "start_time" : "2022-10-26T10:48:46.054Z"
    }, {
      "duration" : 372,
      "start_time" : "2022-10-26T10:49:08.711Z"
    }, {
      "duration" : 0,
      "start_time" : "2022-10-26T10:49:09.085Z"
    }, {
      "duration" : 0,
      "start_time" : "2022-10-26T10:49:09.086Z"
    }, {
      "duration" : 0,
      "start_time" : "2022-10-26T10:49:09.087Z"
    }, {
      "duration" : 14,
      "start_time" : "2022-10-26T10:49:27.990Z"
    }, {
      "duration" : 10,
      "start_time" : "2022-10-26T10:50:40.723Z"
    }, {
      "duration" : 1331,
      "start_time" : "2022-10-26T10:51:03.309Z"
    }, {
      "duration" : 50,
      "start_time" : "2022-10-26T10:51:04.642Z"
    }, {
      "duration" : 13,
      "start_time" : "2022-10-26T10:51:04.694Z"
    }, {
      "duration" : 50,
      "start_time" : "2022-10-26T10:51:04.709Z"
    }, {
      "duration" : 4,
      "start_time" : "2022-10-26T10:51:04.761Z"
    }, {
      "duration" : 5,
      "start_time" : "2022-10-26T10:51:04.767Z"
    }, {
      "duration" : 7,
      "start_time" : "2022-10-26T10:51:04.774Z"
    }, {
      "duration" : 8,
      "start_time" : "2022-10-26T10:51:04.782Z"
    }, {
      "duration" : 3,
      "start_time" : "2022-10-26T10:51:04.806Z"
    }, {
      "duration" : 14,
      "start_time" : "2022-10-26T10:51:04.812Z"
    }, {
      "duration" : 85,
      "start_time" : "2022-10-26T10:51:04.828Z"
    }, {
      "duration" : 3,
      "start_time" : "2022-10-26T10:51:04.914Z"
    }, {
      "duration" : 8,
      "start_time" : "2022-10-26T10:51:04.918Z"
    }, {
      "duration" : 13988,
      "start_time" : "2022-10-26T10:51:04.927Z"
    }, {
      "duration" : 9,
      "start_time" : "2022-10-26T10:51:18.918Z"
    }, {
      "duration" : 35,
      "start_time" : "2022-10-26T10:51:18.929Z"
    }, {
      "duration" : 42,
      "start_time" : "2022-10-26T10:51:18.965Z"
    }, {
      "duration" : 13,
      "start_time" : "2022-10-26T10:51:19.009Z"
    }, {
      "duration" : 184,
      "start_time" : "2022-10-26T10:51:19.023Z"
    }, {
      "duration" : 133,
      "start_time" : "2022-10-26T10:51:19.209Z"
    }, {
      "duration" : 4,
      "start_time" : "2022-10-26T10:51:19.344Z"
    }, {
      "duration" : 10,
      "start_time" : "2022-10-26T10:51:19.349Z"
    }, {
      "duration" : 7,
      "start_time" : "2022-10-26T10:51:19.360Z"
    }, {
      "duration" : 4,
      "start_time" : "2022-10-26T10:51:19.368Z"
    }, {
      "duration" : 6,
      "start_time" : "2022-10-26T10:51:19.373Z"
    }, {
      "duration" : 4,
      "start_time" : "2022-10-26T10:51:19.406Z"
    }, {
      "duration" : 107,
      "start_time" : "2022-10-26T10:51:19.412Z"
    }, {
      "duration" : 2,
      "start_time" : "2022-10-26T10:51:19.522Z"
    }, {
      "duration" : 26,
      "start_time" : "2022-10-26T10:51:19.526Z"
    }, {
      "duration" : 3,
      "start_time" : "2022-10-26T10:51:19.554Z"
    }, {
      "duration" : 21348,
      "start_time" : "2022-10-26T10:51:19.559Z"
    }, {
      "duration" : 397,
      "start_time" : "2022-10-26T10:51:40.910Z"
    }, {
      "duration" : 0,
      "start_time" : "2022-10-26T10:51:41.309Z"
    }, {
      "duration" : 0,
      "start_time" : "2022-10-26T10:51:41.311Z"
    }, {
      "duration" : 0,
      "start_time" : "2022-10-26T10:51:41.313Z"
    }, {
      "duration" : 0,
      "start_time" : "2022-10-26T10:51:41.314Z"
    }, {
      "duration" : 9,
      "start_time" : "2022-10-26T10:51:59.583Z"
    }, {
      "duration" : 5,
      "start_time" : "2022-10-26T10:52:27.033Z"
    }, {
      "duration" : 37,
      "start_time" : "2022-10-26T10:53:42.917Z"
    }, {
      "duration" : 1351,
      "start_time" : "2022-10-26T10:53:52.954Z"
    }, {
      "duration" : 41,
      "start_time" : "2022-10-26T10:53:54.307Z"
    }, {
      "duration" : 13,
      "start_time" : "2022-10-26T10:53:54.349Z"
    }, {
      "duration" : 48,
      "start_time" : "2022-10-26T10:53:54.364Z"
    }, {
      "duration" : 4,
      "start_time" : "2022-10-26T10:53:54.414Z"
    }, {
      "duration" : 5,
      "start_time" : "2022-10-26T10:53:54.420Z"
    }, {
      "duration" : 6,
      "start_time" : "2022-10-26T10:53:54.427Z"
    }, {
      "duration" : 11,
      "start_time" : "2022-10-26T10:53:54.434Z"
    }, {
      "duration" : 4,
      "start_time" : "2022-10-26T10:53:54.446Z"
    }, {
      "duration" : 13,
      "start_time" : "2022-10-26T10:53:54.451Z"
    }, {
      "duration" : 99,
      "start_time" : "2022-10-26T10:53:54.466Z"
    }, {
      "duration" : 3,
      "start_time" : "2022-10-26T10:53:54.566Z"
    }, {
      "duration" : 6,
      "start_time" : "2022-10-26T10:53:54.571Z"
    }, {
      "duration" : 14075,
      "start_time" : "2022-10-26T10:53:54.580Z"
    }, {
      "duration" : 11,
      "start_time" : "2022-10-26T10:54:08.658Z"
    }, {
      "duration" : 63,
      "start_time" : "2022-10-26T10:54:08.671Z"
    }, {
      "duration" : 3,
      "start_time" : "2022-10-26T10:54:08.736Z"
    }, {
      "duration" : 13,
      "start_time" : "2022-10-26T10:54:08.741Z"
    }, {
      "duration" : 200,
      "start_time" : "2022-10-26T10:54:08.756Z"
    }, {
      "duration" : 142,
      "start_time" : "2022-10-26T10:54:08.957Z"
    }, {
      "duration" : 5,
      "start_time" : "2022-10-26T10:54:09.104Z"
    }, {
      "duration" : 15,
      "start_time" : "2022-10-26T10:54:09.111Z"
    }, {
      "duration" : 10,
      "start_time" : "2022-10-26T10:54:09.127Z"
    }, {
      "duration" : 4,
      "start_time" : "2022-10-26T10:54:09.138Z"
    }, {
      "duration" : 6,
      "start_time" : "2022-10-26T10:54:09.144Z"
    }, {
      "duration" : 6,
      "start_time" : "2022-10-26T10:54:09.152Z"
    }, {
      "duration" : 135,
      "start_time" : "2022-10-26T10:54:09.160Z"
    }, {
      "duration" : 9,
      "start_time" : "2022-10-26T10:54:09.296Z"
    }, {
      "duration" : 28,
      "start_time" : "2022-10-26T10:54:09.307Z"
    }, {
      "duration" : 4,
      "start_time" : "2022-10-26T10:54:09.337Z"
    }, {
      "duration" : 23671,
      "start_time" : "2022-10-26T10:54:09.343Z"
    }, {
      "duration" : 387,
      "start_time" : "2022-10-26T10:54:33.019Z"
    }, {
      "duration" : 0,
      "start_time" : "2022-10-26T10:54:33.408Z"
    }, {
      "duration" : 0,
      "start_time" : "2022-10-26T10:54:33.409Z"
    }, {
      "duration" : 0,
      "start_time" : "2022-10-26T10:54:33.410Z"
    }, {
      "duration" : 0,
      "start_time" : "2022-10-26T10:54:33.411Z"
    }, {
      "duration" : 0,
      "start_time" : "2022-10-26T10:54:33.412Z"
    }, {
      "duration" : 0,
      "start_time" : "2022-10-26T10:54:33.413Z"
    }, {
      "duration" : 1366,
      "start_time" : "2022-10-26T10:55:53.118Z"
    }, {
      "duration" : 41,
      "start_time" : "2022-10-26T10:55:54.486Z"
    }, {
      "duration" : 14,
      "start_time" : "2022-10-26T10:55:54.528Z"
    }, {
      "duration" : 48,
      "start_time" : "2022-10-26T10:55:54.545Z"
    }, {
      "duration" : 12,
      "start_time" : "2022-10-26T10:55:54.595Z"
    }, {
      "duration" : 7,
      "start_time" : "2022-10-26T10:55:54.609Z"
    }, {
      "duration" : 6,
      "start_time" : "2022-10-26T10:55:54.617Z"
    }, {
      "duration" : 9,
      "start_time" : "2022-10-26T10:55:54.625Z"
    }, {
      "duration" : 4,
      "start_time" : "2022-10-26T10:55:54.636Z"
    }, {
      "duration" : 14,
      "start_time" : "2022-10-26T10:55:54.642Z"
    }, {
      "duration" : 96,
      "start_time" : "2022-10-26T10:55:54.657Z"
    }, {
      "duration" : 3,
      "start_time" : "2022-10-26T10:55:54.754Z"
    }, {
      "duration" : 10,
      "start_time" : "2022-10-26T10:55:54.759Z"
    }, {
      "duration" : 13617,
      "start_time" : "2022-10-26T10:55:54.771Z"
    }, {
      "duration" : 8,
      "start_time" : "2022-10-26T10:56:08.389Z"
    }, {
      "duration" : 50,
      "start_time" : "2022-10-26T10:56:08.399Z"
    }, {
      "duration" : 6,
      "start_time" : "2022-10-26T10:56:08.451Z"
    }, {
      "duration" : 15,
      "start_time" : "2022-10-26T10:56:08.459Z"
    }, {
      "duration" : 194,
      "start_time" : "2022-10-26T10:56:08.476Z"
    }, {
      "duration" : 144,
      "start_time" : "2022-10-26T10:56:08.672Z"
    }, {
      "duration" : 4,
      "start_time" : "2022-10-26T10:56:08.818Z"
    }, {
      "duration" : 21,
      "start_time" : "2022-10-26T10:56:08.823Z"
    }, {
      "duration" : 22,
      "start_time" : "2022-10-26T10:56:08.846Z"
    }, {
      "duration" : 13,
      "start_time" : "2022-10-26T10:56:08.869Z"
    }, {
      "duration" : 19,
      "start_time" : "2022-10-26T10:56:08.883Z"
    }, {
      "duration" : 16,
      "start_time" : "2022-10-26T10:56:08.903Z"
    }, {
      "duration" : 105,
      "start_time" : "2022-10-26T10:56:08.921Z"
    }, {
      "duration" : 3,
      "start_time" : "2022-10-26T10:56:09.029Z"
    }, {
      "duration" : 38,
      "start_time" : "2022-10-26T10:56:09.036Z"
    }, {
      "duration" : 9,
      "start_time" : "2022-10-26T10:56:09.076Z"
    }, {
      "duration" : 20424,
      "start_time" : "2022-10-26T10:56:09.087Z"
    }, {
      "duration" : 283,
      "start_time" : "2022-10-26T10:56:29.513Z"
    }, {
      "duration" : 0,
      "start_time" : "2022-10-26T10:56:29.805Z"
    }, {
      "duration" : 0,
      "start_time" : "2022-10-26T10:56:29.806Z"
    }, {
      "duration" : 0,
      "start_time" : "2022-10-26T10:56:29.807Z"
    }, {
      "duration" : 0,
      "start_time" : "2022-10-26T10:56:29.808Z"
    }, {
      "duration" : 0,
      "start_time" : "2022-10-26T10:56:29.809Z"
    }, {
      "duration" : 0,
      "start_time" : "2022-10-26T10:56:29.810Z"
    }, {
      "duration" : 88,
      "start_time" : "2022-10-26T10:56:32.003Z"
    }, {
      "duration" : 39,
      "start_time" : "2022-10-26T10:57:00.000Z"
    }, {
      "duration" : 4,
      "start_time" : "2022-10-26T10:57:27.809Z"
    }, {
      "duration" : 1546,
      "start_time" : "2022-10-26T10:57:37.069Z"
    }, {
      "duration" : 41,
      "start_time" : "2022-10-26T10:57:38.617Z"
    }, {
      "duration" : 13,
      "start_time" : "2022-10-26T10:57:38.659Z"
    }, {
      "duration" : 48,
      "start_time" : "2022-10-26T10:57:38.673Z"
    }, {
      "duration" : 3,
      "start_time" : "2022-10-26T10:57:38.723Z"
    }, {
      "duration" : 8,
      "start_time" : "2022-10-26T10:57:38.728Z"
    }, {
      "duration" : 11,
      "start_time" : "2022-10-26T10:57:38.737Z"
    }, {
      "duration" : 11,
      "start_time" : "2022-10-26T10:57:38.749Z"
    }, {
      "duration" : 6,
      "start_time" : "2022-10-26T10:57:38.761Z"
    }, {
      "duration" : 16,
      "start_time" : "2022-10-26T10:57:38.769Z"
    }, {
      "duration" : 71,
      "start_time" : "2022-10-26T10:57:38.805Z"
    }, {
      "duration" : 3,
      "start_time" : "2022-10-26T10:57:38.877Z"
    }, {
      "duration" : 7,
      "start_time" : "2022-10-26T10:57:38.882Z"
    }, {
      "duration" : 13695,
      "start_time" : "2022-10-26T10:57:38.908Z"
    }, {
      "duration" : 7,
      "start_time" : "2022-10-26T10:57:52.606Z"
    }, {
      "duration" : 41,
      "start_time" : "2022-10-26T10:57:52.614Z"
    }, {
      "duration" : 5,
      "start_time" : "2022-10-26T10:57:52.656Z"
    }, {
      "duration" : 44,
      "start_time" : "2022-10-26T10:57:52.663Z"
    }, {
      "duration" : 186,
      "start_time" : "2022-10-26T10:57:52.709Z"
    }, {
      "duration" : 138,
      "start_time" : "2022-10-26T10:57:52.897Z"
    }, {
      "duration" : 4,
      "start_time" : "2022-10-26T10:57:53.036Z"
    }, {
      "duration" : 10,
      "start_time" : "2022-10-26T10:57:53.042Z"
    }, {
      "duration" : 6,
      "start_time" : "2022-10-26T10:57:53.054Z"
    }, {
      "duration" : 3,
      "start_time" : "2022-10-26T10:57:53.062Z"
    }, {
      "duration" : 7,
      "start_time" : "2022-10-26T10:57:53.067Z"
    }, {
      "duration" : 7,
      "start_time" : "2022-10-26T10:57:53.075Z"
    }, {
      "duration" : 103,
      "start_time" : "2022-10-26T10:57:53.106Z"
    }, {
      "duration" : 4,
      "start_time" : "2022-10-26T10:57:53.211Z"
    }, {
      "duration" : 40,
      "start_time" : "2022-10-26T10:57:53.216Z"
    }, {
      "duration" : 3,
      "start_time" : "2022-10-26T10:57:53.258Z"
    }, {
      "duration" : 23344,
      "start_time" : "2022-10-26T10:57:53.263Z"
    }, {
      "duration" : 98,
      "start_time" : "2022-10-26T10:58:16.609Z"
    }, {
      "duration" : 285,
      "start_time" : "2022-10-26T10:58:16.709Z"
    }, {
      "duration" : 10,
      "start_time" : "2022-10-26T10:58:16.996Z"
    }, {
      "duration" : 0,
      "start_time" : "2022-10-26T10:58:17.007Z"
    }, {
      "duration" : 0,
      "start_time" : "2022-10-26T10:58:17.008Z"
    }, {
      "duration" : 0,
      "start_time" : "2022-10-26T10:58:17.010Z"
    }, {
      "duration" : 0,
      "start_time" : "2022-10-26T10:58:17.012Z"
    }, {
      "duration" : 0,
      "start_time" : "2022-10-26T10:58:17.012Z"
    }, {
      "duration" : 0,
      "start_time" : "2022-10-26T10:58:17.014Z"
    }, {
      "duration" : 1373,
      "start_time" : "2022-10-26T11:01:22.342Z"
    }, {
      "duration" : 40,
      "start_time" : "2022-10-26T11:01:23.717Z"
    }, {
      "duration" : 13,
      "start_time" : "2022-10-26T11:01:23.758Z"
    }, {
      "duration" : 56,
      "start_time" : "2022-10-26T11:01:23.773Z"
    }, {
      "duration" : 3,
      "start_time" : "2022-10-26T11:01:23.831Z"
    }, {
      "duration" : 7,
      "start_time" : "2022-10-26T11:01:23.836Z"
    }, {
      "duration" : 9,
      "start_time" : "2022-10-26T11:01:23.844Z"
    }, {
      "duration" : 9,
      "start_time" : "2022-10-26T11:01:23.854Z"
    }, {
      "duration" : 16,
      "start_time" : "2022-10-26T11:01:23.865Z"
    }, {
      "duration" : 18,
      "start_time" : "2022-10-26T11:01:23.883Z"
    }, {
      "duration" : 73,
      "start_time" : "2022-10-26T11:01:23.902Z"
    }, {
      "duration" : 3,
      "start_time" : "2022-10-26T11:01:23.976Z"
    }, {
      "duration" : 11,
      "start_time" : "2022-10-26T11:01:23.980Z"
    }, {
      "duration" : 14987,
      "start_time" : "2022-10-26T11:01:23.993Z"
    }, {
      "duration" : 8,
      "start_time" : "2022-10-26T11:01:38.982Z"
    }, {
      "duration" : 49,
      "start_time" : "2022-10-26T11:01:38.991Z"
    }, {
      "duration" : 6,
      "start_time" : "2022-10-26T11:01:39.042Z"
    }, {
      "duration" : 30,
      "start_time" : "2022-10-26T11:01:39.050Z"
    }, {
      "duration" : 239,
      "start_time" : "2022-10-26T11:01:39.082Z"
    }, {
      "duration" : 156,
      "start_time" : "2022-10-26T11:01:39.323Z"
    }, {
      "duration" : 4,
      "start_time" : "2022-10-26T11:01:39.481Z"
    }, {
      "duration" : 10,
      "start_time" : "2022-10-26T11:01:39.487Z"
    }, {
      "duration" : 9,
      "start_time" : "2022-10-26T11:01:39.516Z"
    }, {
      "duration" : 9,
      "start_time" : "2022-10-26T11:01:39.527Z"
    }, {
      "duration" : 8,
      "start_time" : "2022-10-26T11:01:39.537Z"
    }, {
      "duration" : 6,
      "start_time" : "2022-10-26T11:01:39.547Z"
    }, {
      "duration" : 106,
      "start_time" : "2022-10-26T11:01:39.555Z"
    }, {
      "duration" : 3,
      "start_time" : "2022-10-26T11:01:39.664Z"
    }, {
      "duration" : 41,
      "start_time" : "2022-10-26T11:01:39.669Z"
    }, {
      "duration" : 3,
      "start_time" : "2022-10-26T11:01:39.711Z"
    }, {
      "duration" : 23798,
      "start_time" : "2022-10-26T11:01:39.716Z"
    }, {
      "duration" : 100,
      "start_time" : "2022-10-26T11:02:03.520Z"
    }, {
      "duration" : 304,
      "start_time" : "2022-10-26T11:02:03.626Z"
    }, {
      "duration" : 9,
      "start_time" : "2022-10-26T11:02:03.932Z"
    }, {
      "duration" : 0,
      "start_time" : "2022-10-26T11:02:03.943Z"
    }, {
      "duration" : 0,
      "start_time" : "2022-10-26T11:02:03.944Z"
    }, {
      "duration" : 0,
      "start_time" : "2022-10-26T11:02:03.945Z"
    }, {
      "duration" : 0,
      "start_time" : "2022-10-26T11:02:03.946Z"
    }, {
      "duration" : 0,
      "start_time" : "2022-10-26T11:02:03.947Z"
    }, {
      "duration" : 0,
      "start_time" : "2022-10-26T11:02:03.948Z"
    }, {
      "duration" : 0,
      "start_time" : "2022-10-26T11:02:03.949Z"
    }, {
      "duration" : 0,
      "start_time" : "2022-10-26T11:02:03.950Z"
    }, {
      "duration" : 137,
      "start_time" : "2022-10-26T11:02:25.830Z"
    }, {
      "duration" : 4,
      "start_time" : "2022-10-26T11:05:28.195Z"
    }, {
      "duration" : 37,
      "start_time" : "2022-10-26T11:16:34.232Z"
    }, {
      "duration" : 15,
      "start_time" : "2022-10-26T12:05:15.417Z"
    }, {
      "duration" : 9,
      "start_time" : "2022-10-26T12:05:36.668Z"
    }, {
      "duration" : 1628,
      "start_time" : "2022-10-26T12:05:45.826Z"
    }, {
      "duration" : 62,
      "start_time" : "2022-10-26T12:05:47.457Z"
    }, {
      "duration" : 26,
      "start_time" : "2022-10-26T12:05:47.527Z"
    }, {
      "duration" : 99,
      "start_time" : "2022-10-26T12:05:47.555Z"
    }, {
      "duration" : 4,
      "start_time" : "2022-10-26T12:05:47.657Z"
    }, {
      "duration" : 36,
      "start_time" : "2022-10-26T12:05:47.663Z"
    }, {
      "duration" : 33,
      "start_time" : "2022-10-26T12:05:47.701Z"
    }, {
      "duration" : 20,
      "start_time" : "2022-10-26T12:05:47.736Z"
    }, {
      "duration" : 4,
      "start_time" : "2022-10-26T12:05:47.758Z"
    }, {
      "duration" : 21,
      "start_time" : "2022-10-26T12:05:47.764Z"
    }, {
      "duration" : 90,
      "start_time" : "2022-10-26T12:05:47.786Z"
    }, {
      "duration" : 3,
      "start_time" : "2022-10-26T12:05:47.878Z"
    }, {
      "duration" : 14,
      "start_time" : "2022-10-26T12:05:47.884Z"
    }, {
      "duration" : 16169,
      "start_time" : "2022-10-26T12:05:47.902Z"
    }, {
      "duration" : 13,
      "start_time" : "2022-10-26T12:06:04.073Z"
    }, {
      "duration" : 144,
      "start_time" : "2022-10-26T12:06:04.087Z"
    }, {
      "duration" : 0,
      "start_time" : "2022-10-26T12:06:04.233Z"
    }, {
      "duration" : 0,
      "start_time" : "2022-10-26T12:06:04.234Z"
    }, {
      "duration" : 0,
      "start_time" : "2022-10-26T12:06:04.236Z"
    }, {
      "duration" : 0,
      "start_time" : "2022-10-26T12:06:04.237Z"
    }, {
      "duration" : 0,
      "start_time" : "2022-10-26T12:06:04.239Z"
    }, {
      "duration" : 0,
      "start_time" : "2022-10-26T12:06:04.240Z"
    }, {
      "duration" : 0,
      "start_time" : "2022-10-26T12:06:04.241Z"
    }, {
      "duration" : 0,
      "start_time" : "2022-10-26T12:06:04.242Z"
    }, {
      "duration" : 0,
      "start_time" : "2022-10-26T12:06:04.244Z"
    }, {
      "duration" : 0,
      "start_time" : "2022-10-26T12:06:04.245Z"
    }, {
      "duration" : 0,
      "start_time" : "2022-10-26T12:06:04.246Z"
    }, {
      "duration" : 0,
      "start_time" : "2022-10-26T12:06:04.247Z"
    }, {
      "duration" : 0,
      "start_time" : "2022-10-26T12:06:04.248Z"
    }, {
      "duration" : 0,
      "start_time" : "2022-10-26T12:06:04.249Z"
    }, {
      "duration" : 0,
      "start_time" : "2022-10-26T12:06:04.250Z"
    }, {
      "duration" : 0,
      "start_time" : "2022-10-26T12:06:04.252Z"
    }, {
      "duration" : 0,
      "start_time" : "2022-10-26T12:06:04.253Z"
    }, {
      "duration" : 0,
      "start_time" : "2022-10-26T12:06:04.254Z"
    }, {
      "duration" : 0,
      "start_time" : "2022-10-26T12:06:04.255Z"
    }, {
      "duration" : 0,
      "start_time" : "2022-10-26T12:06:04.256Z"
    }, {
      "duration" : 0,
      "start_time" : "2022-10-26T12:06:04.257Z"
    }, {
      "duration" : 0,
      "start_time" : "2022-10-26T12:06:04.259Z"
    }, {
      "duration" : 0,
      "start_time" : "2022-10-26T12:06:04.261Z"
    }, {
      "duration" : 0,
      "start_time" : "2022-10-26T12:06:04.262Z"
    }, {
      "duration" : 0,
      "start_time" : "2022-10-26T12:06:04.263Z"
    }, {
      "duration" : 0,
      "start_time" : "2022-10-26T12:06:04.264Z"
    }, {
      "duration" : 0,
      "start_time" : "2022-10-26T12:06:04.265Z"
    }, {
      "duration" : 0,
      "start_time" : "2022-10-26T12:06:04.266Z"
    }, {
      "duration" : 13,
      "start_time" : "2022-10-26T12:06:39.123Z"
    }, {
      "duration" : 7,
      "start_time" : "2022-10-26T12:06:42.188Z"
    }, {
      "duration" : 26,
      "start_time" : "2022-10-26T12:08:20.952Z"
    }, {
      "duration" : 4,
      "start_time" : "2022-10-26T12:08:52.872Z"
    }, {
      "duration" : 9,
      "start_time" : "2022-10-26T12:15:25.966Z"
    }, {
      "duration" : 5,
      "start_time" : "2022-10-26T12:15:49.317Z"
    }, {
      "duration" : 4,
      "start_time" : "2022-10-26T12:15:52.372Z"
    }, {
      "duration" : 14,
      "start_time" : "2022-10-26T12:16:06.228Z"
    }, {
      "duration" : 9,
      "start_time" : "2022-10-26T12:16:38.177Z"
    }, {
      "duration" : 9,
      "start_time" : "2022-10-26T12:17:27.118Z"
    }, {
      "duration" : 4,
      "start_time" : "2022-10-26T12:17:51.820Z"
    }, {
      "duration" : 6,
      "start_time" : "2022-10-26T12:20:36.280Z"
    }, {
      "duration" : 4,
      "start_time" : "2022-10-26T12:20:58.787Z"
    }, {
      "duration" : 10,
      "start_time" : "2022-10-26T12:24:04.118Z"
    }, {
      "duration" : 2,
      "start_time" : "2022-10-26T12:27:11.565Z"
    }, {
      "duration" : 8,
      "start_time" : "2022-10-26T12:27:30.177Z"
    }, {
      "duration" : 22,
      "start_time" : "2022-10-26T12:28:49.636Z"
    }, {
      "duration" : 4,
      "start_time" : "2022-10-26T12:29:15.641Z"
    }, {
      "duration" : 26,
      "start_time" : "2022-10-26T12:30:02.796Z"
    }, {
      "duration" : 24,
      "start_time" : "2022-10-26T12:30:32.760Z"
    }, {
      "duration" : 4,
      "start_time" : "2022-10-26T12:39:16.859Z"
    }, {
      "duration" : 721,
      "start_time" : "2022-10-26T12:39:37.807Z"
    }, {
      "duration" : 5,
      "start_time" : "2022-10-26T12:40:09.947Z"
    }, {
      "duration" : 5,
      "start_time" : "2022-10-26T12:40:22.744Z"
    }, {
      "duration" : 4,
      "start_time" : "2022-10-26T12:41:48.908Z"
    }, {
      "duration" : 4,
      "start_time" : "2022-10-26T12:42:57.797Z"
    }, {
      "duration" : 654,
      "start_time" : "2022-10-26T12:43:14.877Z"
    }, {
      "duration" : 5,
      "start_time" : "2022-10-26T12:45:03.963Z"
    }, {
      "duration" : 9,
      "start_time" : "2022-10-26T12:45:14.904Z"
    }, {
      "duration" : 1361,
      "start_time" : "2022-10-26T12:46:28.587Z"
    }, {
      "duration" : 41,
      "start_time" : "2022-10-26T12:46:29.950Z"
    }, {
      "duration" : 12,
      "start_time" : "2022-10-26T12:46:29.995Z"
    }, {
      "duration" : 59,
      "start_time" : "2022-10-26T12:46:30.008Z"
    }, {
      "duration" : 4,
      "start_time" : "2022-10-26T12:46:30.068Z"
    }, {
      "duration" : 8,
      "start_time" : "2022-10-26T12:46:30.073Z"
    }, {
      "duration" : 11,
      "start_time" : "2022-10-26T12:46:30.082Z"
    }, {
      "duration" : 11,
      "start_time" : "2022-10-26T12:46:30.095Z"
    }, {
      "duration" : 6,
      "start_time" : "2022-10-26T12:46:30.109Z"
    }, {
      "duration" : 13,
      "start_time" : "2022-10-26T12:46:30.117Z"
    }, {
      "duration" : 78,
      "start_time" : "2022-10-26T12:46:30.131Z"
    }, {
      "duration" : 2,
      "start_time" : "2022-10-26T12:46:30.211Z"
    }, {
      "duration" : 10,
      "start_time" : "2022-10-26T12:46:30.215Z"
    }, {
      "duration" : 14021,
      "start_time" : "2022-10-26T12:46:30.226Z"
    }, {
      "duration" : 14,
      "start_time" : "2022-10-26T12:46:44.250Z"
    }, {
      "duration" : 11,
      "start_time" : "2022-10-26T12:46:44.265Z"
    }, {
      "duration" : 39,
      "start_time" : "2022-10-26T12:46:44.278Z"
    }, {
      "duration" : 3,
      "start_time" : "2022-10-26T12:46:44.319Z"
    }, {
      "duration" : 8,
      "start_time" : "2022-10-26T12:46:44.323Z"
    }, {
      "duration" : 11,
      "start_time" : "2022-10-26T12:46:44.332Z"
    }, {
      "duration" : 7,
      "start_time" : "2022-10-26T12:46:44.344Z"
    }, {
      "duration" : 133,
      "start_time" : "2022-10-26T12:46:44.352Z"
    }, {
      "duration" : 0,
      "start_time" : "2022-10-26T12:46:44.487Z"
    }, {
      "duration" : 0,
      "start_time" : "2022-10-26T12:46:44.488Z"
    }, {
      "duration" : 0,
      "start_time" : "2022-10-26T12:46:44.489Z"
    }, {
      "duration" : 0,
      "start_time" : "2022-10-26T12:46:44.490Z"
    }, {
      "duration" : 0,
      "start_time" : "2022-10-26T12:46:44.505Z"
    }, {
      "duration" : 0,
      "start_time" : "2022-10-26T12:46:44.506Z"
    }, {
      "duration" : 0,
      "start_time" : "2022-10-26T12:46:44.508Z"
    }, {
      "duration" : 0,
      "start_time" : "2022-10-26T12:46:44.509Z"
    }, {
      "duration" : 0,
      "start_time" : "2022-10-26T12:46:44.510Z"
    }, {
      "duration" : 0,
      "start_time" : "2022-10-26T12:46:44.512Z"
    }, {
      "duration" : 0,
      "start_time" : "2022-10-26T12:46:44.512Z"
    }, {
      "duration" : 0,
      "start_time" : "2022-10-26T12:46:44.514Z"
    }, {
      "duration" : 0,
      "start_time" : "2022-10-26T12:46:44.514Z"
    }, {
      "duration" : 0,
      "start_time" : "2022-10-26T12:46:44.516Z"
    }, {
      "duration" : 0,
      "start_time" : "2022-10-26T12:46:44.516Z"
    }, {
      "duration" : 0,
      "start_time" : "2022-10-26T12:46:44.517Z"
    }, {
      "duration" : 0,
      "start_time" : "2022-10-26T12:46:44.518Z"
    }, {
      "duration" : 1353,
      "start_time" : "2022-10-26T12:48:04.744Z"
    }, {
      "duration" : 42,
      "start_time" : "2022-10-26T12:48:06.099Z"
    }, {
      "duration" : 13,
      "start_time" : "2022-10-26T12:48:06.142Z"
    }, {
      "duration" : 53,
      "start_time" : "2022-10-26T12:48:06.156Z"
    }, {
      "duration" : 4,
      "start_time" : "2022-10-26T12:48:06.211Z"
    }, {
      "duration" : 8,
      "start_time" : "2022-10-26T12:48:06.216Z"
    }, {
      "duration" : 11,
      "start_time" : "2022-10-26T12:48:06.225Z"
    }, {
      "duration" : 10,
      "start_time" : "2022-10-26T12:48:06.238Z"
    }, {
      "duration" : 4,
      "start_time" : "2022-10-26T12:48:06.250Z"
    }, {
      "duration" : 19,
      "start_time" : "2022-10-26T12:48:06.256Z"
    }, {
      "duration" : 87,
      "start_time" : "2022-10-26T12:48:06.277Z"
    }, {
      "duration" : 3,
      "start_time" : "2022-10-26T12:48:06.366Z"
    }, {
      "duration" : 8,
      "start_time" : "2022-10-26T12:48:06.370Z"
    }, {
      "duration" : 13932,
      "start_time" : "2022-10-26T12:48:06.380Z"
    }, {
      "duration" : 14,
      "start_time" : "2022-10-26T12:48:20.313Z"
    }, {
      "duration" : 7,
      "start_time" : "2022-10-26T12:48:20.329Z"
    }, {
      "duration" : 19,
      "start_time" : "2022-10-26T12:48:20.337Z"
    }, {
      "duration" : 3,
      "start_time" : "2022-10-26T12:48:20.357Z"
    }, {
      "duration" : 48,
      "start_time" : "2022-10-26T12:48:20.362Z"
    }, {
      "duration" : 11,
      "start_time" : "2022-10-26T12:48:20.411Z"
    }, {
      "duration" : 8,
      "start_time" : "2022-10-26T12:48:20.424Z"
    }, {
      "duration" : 117,
      "start_time" : "2022-10-26T12:48:20.433Z"
    }, {
      "duration" : 0,
      "start_time" : "2022-10-26T12:48:20.552Z"
    }, {
      "duration" : 0,
      "start_time" : "2022-10-26T12:48:20.553Z"
    }, {
      "duration" : 0,
      "start_time" : "2022-10-26T12:48:20.553Z"
    }, {
      "duration" : 0,
      "start_time" : "2022-10-26T12:48:20.555Z"
    }, {
      "duration" : 0,
      "start_time" : "2022-10-26T12:48:20.556Z"
    }, {
      "duration" : 0,
      "start_time" : "2022-10-26T12:48:20.557Z"
    }, {
      "duration" : 0,
      "start_time" : "2022-10-26T12:48:20.558Z"
    }, {
      "duration" : 0,
      "start_time" : "2022-10-26T12:48:20.559Z"
    }, {
      "duration" : 0,
      "start_time" : "2022-10-26T12:48:20.560Z"
    }, {
      "duration" : 0,
      "start_time" : "2022-10-26T12:48:20.561Z"
    }, {
      "duration" : 0,
      "start_time" : "2022-10-26T12:48:20.562Z"
    }, {
      "duration" : 0,
      "start_time" : "2022-10-26T12:48:20.563Z"
    }, {
      "duration" : 0,
      "start_time" : "2022-10-26T12:48:20.564Z"
    }, {
      "duration" : 0,
      "start_time" : "2022-10-26T12:48:20.565Z"
    }, {
      "duration" : 0,
      "start_time" : "2022-10-26T12:48:20.566Z"
    }, {
      "duration" : 0,
      "start_time" : "2022-10-26T12:48:20.568Z"
    }, {
      "duration" : 0,
      "start_time" : "2022-10-26T12:48:20.569Z"
    }, {
      "duration" : 1449,
      "start_time" : "2022-10-26T12:50:17.271Z"
    }, {
      "duration" : 41,
      "start_time" : "2022-10-26T12:50:18.722Z"
    }, {
      "duration" : 14,
      "start_time" : "2022-10-26T12:50:18.764Z"
    }, {
      "duration" : 52,
      "start_time" : "2022-10-26T12:50:18.780Z"
    }, {
      "duration" : 4,
      "start_time" : "2022-10-26T12:50:18.835Z"
    }, {
      "duration" : 6,
      "start_time" : "2022-10-26T12:50:18.841Z"
    }, {
      "duration" : 7,
      "start_time" : "2022-10-26T12:50:18.849Z"
    }, {
      "duration" : 8,
      "start_time" : "2022-10-26T12:50:18.858Z"
    }, {
      "duration" : 5,
      "start_time" : "2022-10-26T12:50:18.868Z"
    }, {
      "duration" : 42,
      "start_time" : "2022-10-26T12:50:18.875Z"
    }, {
      "duration" : 96,
      "start_time" : "2022-10-26T12:50:18.919Z"
    }, {
      "duration" : 3,
      "start_time" : "2022-10-26T12:50:19.016Z"
    }, {
      "duration" : 9,
      "start_time" : "2022-10-26T12:50:19.020Z"
    }, {
      "duration" : 14218,
      "start_time" : "2022-10-26T12:50:19.030Z"
    }, {
      "duration" : 12,
      "start_time" : "2022-10-26T12:50:33.250Z"
    }, {
      "duration" : 8,
      "start_time" : "2022-10-26T12:50:33.263Z"
    }, {
      "duration" : 38,
      "start_time" : "2022-10-26T12:50:33.272Z"
    }, {
      "duration" : 3,
      "start_time" : "2022-10-26T12:50:33.312Z"
    }, {
      "duration" : 6,
      "start_time" : "2022-10-26T12:50:33.317Z"
    }, {
      "duration" : 11,
      "start_time" : "2022-10-26T12:50:33.325Z"
    }, {
      "duration" : 7,
      "start_time" : "2022-10-26T12:50:33.338Z"
    }, {
      "duration" : 132,
      "start_time" : "2022-10-26T12:50:33.346Z"
    }, {
      "duration" : 0,
      "start_time" : "2022-10-26T12:50:33.480Z"
    }, {
      "duration" : 0,
      "start_time" : "2022-10-26T12:50:33.481Z"
    }, {
      "duration" : 0,
      "start_time" : "2022-10-26T12:50:33.483Z"
    }, {
      "duration" : 0,
      "start_time" : "2022-10-26T12:50:33.484Z"
    }, {
      "duration" : 0,
      "start_time" : "2022-10-26T12:50:33.485Z"
    }, {
      "duration" : 0,
      "start_time" : "2022-10-26T12:50:33.486Z"
    }, {
      "duration" : 0,
      "start_time" : "2022-10-26T12:50:33.505Z"
    }, {
      "duration" : 0,
      "start_time" : "2022-10-26T12:50:33.506Z"
    }, {
      "duration" : 0,
      "start_time" : "2022-10-26T12:50:33.508Z"
    }, {
      "duration" : 0,
      "start_time" : "2022-10-26T12:50:33.509Z"
    }, {
      "duration" : 0,
      "start_time" : "2022-10-26T12:50:33.510Z"
    }, {
      "duration" : 0,
      "start_time" : "2022-10-26T12:50:33.511Z"
    }, {
      "duration" : 0,
      "start_time" : "2022-10-26T12:50:33.512Z"
    }, {
      "duration" : 0,
      "start_time" : "2022-10-26T12:50:33.515Z"
    }, {
      "duration" : 0,
      "start_time" : "2022-10-26T12:50:33.516Z"
    }, {
      "duration" : 0,
      "start_time" : "2022-10-26T12:50:33.517Z"
    }, {
      "duration" : 0,
      "start_time" : "2022-10-26T12:50:33.518Z"
    }, {
      "duration" : 11,
      "start_time" : "2022-10-26T12:51:30.743Z"
    }, {
      "duration" : 1393,
      "start_time" : "2022-10-26T12:51:51.668Z"
    }, {
      "duration" : 41,
      "start_time" : "2022-10-26T12:51:53.063Z"
    }, {
      "duration" : 12,
      "start_time" : "2022-10-26T12:51:53.109Z"
    }, {
      "duration" : 49,
      "start_time" : "2022-10-26T12:51:53.122Z"
    }, {
      "duration" : 5,
      "start_time" : "2022-10-26T12:51:53.173Z"
    }, {
      "duration" : 27,
      "start_time" : "2022-10-26T12:51:53.179Z"
    }, {
      "duration" : 4,
      "start_time" : "2022-10-26T12:51:53.208Z"
    }, {
      "duration" : 11,
      "start_time" : "2022-10-26T12:51:53.214Z"
    }, {
      "duration" : 4,
      "start_time" : "2022-10-26T12:51:53.228Z"
    }, {
      "duration" : 12,
      "start_time" : "2022-10-26T12:51:53.233Z"
    }, {
      "duration" : 89,
      "start_time" : "2022-10-26T12:51:53.246Z"
    }, {
      "duration" : 2,
      "start_time" : "2022-10-26T12:51:53.336Z"
    }, {
      "duration" : 10,
      "start_time" : "2022-10-26T12:51:53.340Z"
    }, {
      "duration" : 13824,
      "start_time" : "2022-10-26T12:51:53.351Z"
    }, {
      "duration" : 20,
      "start_time" : "2022-10-26T12:52:07.189Z"
    }, {
      "duration" : 8,
      "start_time" : "2022-10-26T12:52:07.211Z"
    }, {
      "duration" : 26,
      "start_time" : "2022-10-26T12:52:07.221Z"
    }, {
      "duration" : 5,
      "start_time" : "2022-10-26T12:52:07.249Z"
    }, {
      "duration" : 13,
      "start_time" : "2022-10-26T12:52:07.256Z"
    }, {
      "duration" : 58,
      "start_time" : "2022-10-26T12:52:07.271Z"
    }, {
      "duration" : 30,
      "start_time" : "2022-10-26T12:52:07.331Z"
    }, {
      "duration" : 140,
      "start_time" : "2022-10-26T12:52:07.363Z"
    }, {
      "duration" : 0,
      "start_time" : "2022-10-26T12:52:07.505Z"
    }, {
      "duration" : 0,
      "start_time" : "2022-10-26T12:52:07.506Z"
    }, {
      "duration" : 0,
      "start_time" : "2022-10-26T12:52:07.507Z"
    }, {
      "duration" : 0,
      "start_time" : "2022-10-26T12:52:07.509Z"
    }, {
      "duration" : 0,
      "start_time" : "2022-10-26T12:52:07.510Z"
    }, {
      "duration" : 0,
      "start_time" : "2022-10-26T12:52:07.511Z"
    }, {
      "duration" : 0,
      "start_time" : "2022-10-26T12:52:07.512Z"
    }, {
      "duration" : 0,
      "start_time" : "2022-10-26T12:52:07.513Z"
    }, {
      "duration" : 0,
      "start_time" : "2022-10-26T12:52:07.514Z"
    }, {
      "duration" : 0,
      "start_time" : "2022-10-26T12:52:07.515Z"
    }, {
      "duration" : 0,
      "start_time" : "2022-10-26T12:52:07.516Z"
    }, {
      "duration" : 0,
      "start_time" : "2022-10-26T12:52:07.517Z"
    }, {
      "duration" : 0,
      "start_time" : "2022-10-26T12:52:07.518Z"
    }, {
      "duration" : 0,
      "start_time" : "2022-10-26T12:52:07.520Z"
    }, {
      "duration" : 0,
      "start_time" : "2022-10-26T12:52:07.520Z"
    }, {
      "duration" : 0,
      "start_time" : "2022-10-26T12:52:07.521Z"
    }, {
      "duration" : 0,
      "start_time" : "2022-10-26T12:52:07.522Z"
    }, {
      "duration" : 0,
      "start_time" : "2022-10-26T12:52:07.523Z"
    }, {
      "duration" : 10,
      "start_time" : "2022-10-26T12:52:37.536Z"
    }, {
      "duration" : 4,
      "start_time" : "2022-10-26T12:53:32.782Z"
    }, {
      "duration" : 1390,
      "start_time" : "2022-10-26T12:53:43.377Z"
    }, {
      "duration" : 42,
      "start_time" : "2022-10-26T12:53:44.769Z"
    }, {
      "duration" : 13,
      "start_time" : "2022-10-26T12:53:44.815Z"
    }, {
      "duration" : 70,
      "start_time" : "2022-10-26T12:53:44.829Z"
    }, {
      "duration" : 6,
      "start_time" : "2022-10-26T12:53:44.900Z"
    }, {
      "duration" : 23,
      "start_time" : "2022-10-26T12:53:44.907Z"
    }, {
      "duration" : 15,
      "start_time" : "2022-10-26T12:53:44.932Z"
    }, {
      "duration" : 26,
      "start_time" : "2022-10-26T12:53:44.948Z"
    }, {
      "duration" : 14,
      "start_time" : "2022-10-26T12:53:44.976Z"
    }, {
      "duration" : 26,
      "start_time" : "2022-10-26T12:53:44.992Z"
    }, {
      "duration" : 75,
      "start_time" : "2022-10-26T12:53:45.020Z"
    }, {
      "duration" : 3,
      "start_time" : "2022-10-26T12:53:45.096Z"
    }, {
      "duration" : 19,
      "start_time" : "2022-10-26T12:53:45.101Z"
    }, {
      "duration" : 13909,
      "start_time" : "2022-10-26T12:53:45.122Z"
    }, {
      "duration" : 16,
      "start_time" : "2022-10-26T12:53:59.033Z"
    }, {
      "duration" : 7,
      "start_time" : "2022-10-26T12:53:59.050Z"
    }, {
      "duration" : 23,
      "start_time" : "2022-10-26T12:53:59.059Z"
    }, {
      "duration" : 4,
      "start_time" : "2022-10-26T12:53:59.106Z"
    }, {
      "duration" : 9,
      "start_time" : "2022-10-26T12:53:59.112Z"
    }, {
      "duration" : 12,
      "start_time" : "2022-10-26T12:53:59.123Z"
    }, {
      "duration" : 6,
      "start_time" : "2022-10-26T12:53:59.136Z"
    }, {
      "duration" : 11,
      "start_time" : "2022-10-26T12:53:59.144Z"
    }, {
      "duration" : 6,
      "start_time" : "2022-10-26T12:53:59.157Z"
    }, {
      "duration" : 11,
      "start_time" : "2022-10-26T12:53:59.165Z"
    }, {
      "duration" : 9,
      "start_time" : "2022-10-26T12:53:59.177Z"
    }, {
      "duration" : 29,
      "start_time" : "2022-10-26T12:53:59.187Z"
    }, {
      "duration" : 4,
      "start_time" : "2022-10-26T12:53:59.219Z"
    }, {
      "duration" : 111,
      "start_time" : "2022-10-26T12:53:59.225Z"
    }, {
      "duration" : 0,
      "start_time" : "2022-10-26T12:53:59.337Z"
    }, {
      "duration" : 0,
      "start_time" : "2022-10-26T12:53:59.338Z"
    }, {
      "duration" : 0,
      "start_time" : "2022-10-26T12:53:59.339Z"
    }, {
      "duration" : 0,
      "start_time" : "2022-10-26T12:53:59.341Z"
    }, {
      "duration" : 1,
      "start_time" : "2022-10-26T12:53:59.341Z"
    }, {
      "duration" : 0,
      "start_time" : "2022-10-26T12:53:59.342Z"
    }, {
      "duration" : 0,
      "start_time" : "2022-10-26T12:53:59.343Z"
    }, {
      "duration" : 0,
      "start_time" : "2022-10-26T12:53:59.345Z"
    }, {
      "duration" : 0,
      "start_time" : "2022-10-26T12:53:59.346Z"
    }, {
      "duration" : 0,
      "start_time" : "2022-10-26T12:53:59.347Z"
    }, {
      "duration" : 0,
      "start_time" : "2022-10-26T12:53:59.348Z"
    }, {
      "duration" : 0,
      "start_time" : "2022-10-26T12:53:59.349Z"
    }, {
      "duration" : 4,
      "start_time" : "2022-10-26T12:54:38.460Z"
    }, {
      "duration" : 10,
      "start_time" : "2022-10-26T12:54:49.906Z"
    }, {
      "duration" : 10,
      "start_time" : "2022-10-26T12:56:07.589Z"
    }, {
      "duration" : 1374,
      "start_time" : "2022-10-26T12:56:14.384Z"
    }, {
      "duration" : 42,
      "start_time" : "2022-10-26T12:56:15.760Z"
    }, {
      "duration" : 12,
      "start_time" : "2022-10-26T12:56:15.803Z"
    }, {
      "duration" : 61,
      "start_time" : "2022-10-26T12:56:15.817Z"
    }, {
      "duration" : 5,
      "start_time" : "2022-10-26T12:56:15.879Z"
    }, {
      "duration" : 21,
      "start_time" : "2022-10-26T12:56:15.885Z"
    }, {
      "duration" : 5,
      "start_time" : "2022-10-26T12:56:15.908Z"
    }, {
      "duration" : 11,
      "start_time" : "2022-10-26T12:56:15.914Z"
    }, {
      "duration" : 6,
      "start_time" : "2022-10-26T12:56:15.926Z"
    }, {
      "duration" : 13,
      "start_time" : "2022-10-26T12:56:15.936Z"
    }, {
      "duration" : 96,
      "start_time" : "2022-10-26T12:56:15.950Z"
    }, {
      "duration" : 2,
      "start_time" : "2022-10-26T12:56:16.048Z"
    }, {
      "duration" : 8,
      "start_time" : "2022-10-26T12:56:16.052Z"
    }, {
      "duration" : 14146,
      "start_time" : "2022-10-26T12:56:16.062Z"
    }, {
      "duration" : 13,
      "start_time" : "2022-10-26T12:56:30.209Z"
    }, {
      "duration" : 10,
      "start_time" : "2022-10-26T12:56:30.224Z"
    }, {
      "duration" : 71,
      "start_time" : "2022-10-26T12:56:30.235Z"
    }, {
      "duration" : 4,
      "start_time" : "2022-10-26T12:56:30.308Z"
    }, {
      "duration" : 16,
      "start_time" : "2022-10-26T12:56:30.314Z"
    }, {
      "duration" : 23,
      "start_time" : "2022-10-26T12:56:30.331Z"
    }, {
      "duration" : 11,
      "start_time" : "2022-10-26T12:56:30.356Z"
    }, {
      "duration" : 25,
      "start_time" : "2022-10-26T12:56:30.369Z"
    }, {
      "duration" : 17,
      "start_time" : "2022-10-26T12:56:30.396Z"
    }, {
      "duration" : 16,
      "start_time" : "2022-10-26T12:56:30.415Z"
    }, {
      "duration" : 16,
      "start_time" : "2022-10-26T12:56:30.432Z"
    }, {
      "duration" : 22,
      "start_time" : "2022-10-26T12:56:30.449Z"
    }, {
      "duration" : 15,
      "start_time" : "2022-10-26T12:56:30.472Z"
    }, {
      "duration" : 108,
      "start_time" : "2022-10-26T12:56:30.491Z"
    }, {
      "duration" : 0,
      "start_time" : "2022-10-26T12:56:30.600Z"
    }, {
      "duration" : 0,
      "start_time" : "2022-10-26T12:56:30.601Z"
    }, {
      "duration" : 0,
      "start_time" : "2022-10-26T12:56:30.602Z"
    }, {
      "duration" : 0,
      "start_time" : "2022-10-26T12:56:30.603Z"
    }, {
      "duration" : 0,
      "start_time" : "2022-10-26T12:56:30.603Z"
    }, {
      "duration" : 0,
      "start_time" : "2022-10-26T12:56:30.604Z"
    }, {
      "duration" : 0,
      "start_time" : "2022-10-26T12:56:30.605Z"
    }, {
      "duration" : 0,
      "start_time" : "2022-10-26T12:56:30.606Z"
    }, {
      "duration" : 0,
      "start_time" : "2022-10-26T12:56:30.607Z"
    }, {
      "duration" : 0,
      "start_time" : "2022-10-26T12:56:30.608Z"
    }, {
      "duration" : 0,
      "start_time" : "2022-10-26T12:56:30.609Z"
    }, {
      "duration" : 0,
      "start_time" : "2022-10-26T12:56:30.609Z"
    }, {
      "duration" : 0,
      "start_time" : "2022-10-26T12:56:30.610Z"
    }, {
      "duration" : 0,
      "start_time" : "2022-10-26T12:56:30.611Z"
    }, {
      "duration" : 628,
      "start_time" : "2022-10-26T12:57:08.240Z"
    }, {
      "duration" : 9,
      "start_time" : "2022-10-26T12:58:20.825Z"
    }, {
      "duration" : 1296,
      "start_time" : "2022-10-26T12:58:48.145Z"
    }, {
      "duration" : 41,
      "start_time" : "2022-10-26T12:58:49.443Z"
    }, {
      "duration" : 13,
      "start_time" : "2022-10-26T12:58:49.485Z"
    }, {
      "duration" : 50,
      "start_time" : "2022-10-26T12:58:49.500Z"
    }, {
      "duration" : 4,
      "start_time" : "2022-10-26T12:58:49.552Z"
    }, {
      "duration" : 9,
      "start_time" : "2022-10-26T12:58:49.558Z"
    }, {
      "duration" : 6,
      "start_time" : "2022-10-26T12:58:49.568Z"
    }, {
      "duration" : 9,
      "start_time" : "2022-10-26T12:58:49.575Z"
    }, {
      "duration" : 23,
      "start_time" : "2022-10-26T12:58:49.585Z"
    }, {
      "duration" : 14,
      "start_time" : "2022-10-26T12:58:49.610Z"
    }, {
      "duration" : 82,
      "start_time" : "2022-10-26T12:58:49.625Z"
    }, {
      "duration" : 2,
      "start_time" : "2022-10-26T12:58:49.709Z"
    }, {
      "duration" : 10,
      "start_time" : "2022-10-26T12:58:49.713Z"
    }, {
      "duration" : 13877,
      "start_time" : "2022-10-26T12:58:49.727Z"
    }, {
      "duration" : 13,
      "start_time" : "2022-10-26T12:59:03.605Z"
    }, {
      "duration" : 6,
      "start_time" : "2022-10-26T12:59:03.620Z"
    }, {
      "duration" : 21,
      "start_time" : "2022-10-26T12:59:03.627Z"
    }, {
      "duration" : 4,
      "start_time" : "2022-10-26T12:59:03.649Z"
    }, {
      "duration" : 6,
      "start_time" : "2022-10-26T12:59:03.704Z"
    }, {
      "duration" : 11,
      "start_time" : "2022-10-26T12:59:03.712Z"
    }, {
      "duration" : 5,
      "start_time" : "2022-10-26T12:59:03.725Z"
    }, {
      "duration" : 10,
      "start_time" : "2022-10-26T12:59:03.731Z"
    }, {
      "duration" : 3,
      "start_time" : "2022-10-26T12:59:03.743Z"
    }, {
      "duration" : 6,
      "start_time" : "2022-10-26T12:59:03.748Z"
    }, {
      "duration" : 7,
      "start_time" : "2022-10-26T12:59:03.755Z"
    }, {
      "duration" : 11,
      "start_time" : "2022-10-26T12:59:03.763Z"
    }, {
      "duration" : 31,
      "start_time" : "2022-10-26T12:59:03.775Z"
    }, {
      "duration" : 110,
      "start_time" : "2022-10-26T12:59:03.808Z"
    }, {
      "duration" : 0,
      "start_time" : "2022-10-26T12:59:03.920Z"
    }, {
      "duration" : 0,
      "start_time" : "2022-10-26T12:59:03.922Z"
    }, {
      "duration" : 0,
      "start_time" : "2022-10-26T12:59:03.923Z"
    }, {
      "duration" : 0,
      "start_time" : "2022-10-26T12:59:03.925Z"
    }, {
      "duration" : 0,
      "start_time" : "2022-10-26T12:59:03.926Z"
    }, {
      "duration" : 1,
      "start_time" : "2022-10-26T12:59:03.927Z"
    }, {
      "duration" : 0,
      "start_time" : "2022-10-26T12:59:03.929Z"
    }, {
      "duration" : 0,
      "start_time" : "2022-10-26T12:59:03.930Z"
    }, {
      "duration" : 0,
      "start_time" : "2022-10-26T12:59:03.932Z"
    }, {
      "duration" : 0,
      "start_time" : "2022-10-26T12:59:03.933Z"
    }, {
      "duration" : 0,
      "start_time" : "2022-10-26T12:59:03.935Z"
    }, {
      "duration" : 0,
      "start_time" : "2022-10-26T12:59:03.936Z"
    }, {
      "duration" : 0,
      "start_time" : "2022-10-26T12:59:03.938Z"
    }, {
      "duration" : 0,
      "start_time" : "2022-10-26T12:59:03.939Z"
    }, {
      "duration" : 0,
      "start_time" : "2022-10-26T12:59:03.941Z"
    }, {
      "duration" : 0,
      "start_time" : "2022-10-26T12:59:03.942Z"
    }, {
      "duration" : 30,
      "start_time" : "2022-10-26T12:59:25.107Z"
    }, {
      "duration" : 17,
      "start_time" : "2022-10-26T12:59:56.735Z"
    }, {
      "duration" : 112,
      "start_time" : "2022-10-26T13:00:22.760Z"
    }, {
      "duration" : 11,
      "start_time" : "2022-10-26T13:00:36.416Z"
    }, {
      "duration" : 111,
      "start_time" : "2022-10-26T13:00:55.439Z"
    }, {
      "duration" : 412,
      "start_time" : "2022-10-26T13:01:11.817Z"
    }, {
      "duration" : 5,
      "start_time" : "2022-10-26T13:08:21.998Z"
    }, {
      "duration" : 4,
      "start_time" : "2022-10-26T13:09:21.171Z"
    }, {
      "duration" : 1315,
      "start_time" : "2022-10-26T13:09:32.539Z"
    }, {
      "duration" : 45,
      "start_time" : "2022-10-26T13:09:33.856Z"
    }, {
      "duration" : 13,
      "start_time" : "2022-10-26T13:09:33.906Z"
    }, {
      "duration" : 57,
      "start_time" : "2022-10-26T13:09:33.921Z"
    }, {
      "duration" : 5,
      "start_time" : "2022-10-26T13:09:33.979Z"
    }, {
      "duration" : 23,
      "start_time" : "2022-10-26T13:09:33.985Z"
    }, {
      "duration" : 6,
      "start_time" : "2022-10-26T13:09:34.009Z"
    }, {
      "duration" : 8,
      "start_time" : "2022-10-26T13:09:34.017Z"
    }, {
      "duration" : 4,
      "start_time" : "2022-10-26T13:09:34.028Z"
    }, {
      "duration" : 14,
      "start_time" : "2022-10-26T13:09:34.033Z"
    }, {
      "duration" : 89,
      "start_time" : "2022-10-26T13:09:34.048Z"
    }, {
      "duration" : 3,
      "start_time" : "2022-10-26T13:09:34.139Z"
    }, {
      "duration" : 23,
      "start_time" : "2022-10-26T13:09:34.144Z"
    }, {
      "duration" : 14435,
      "start_time" : "2022-10-26T13:09:34.169Z"
    }, {
      "duration" : 13,
      "start_time" : "2022-10-26T13:09:48.606Z"
    }, {
      "duration" : 8,
      "start_time" : "2022-10-26T13:09:48.621Z"
    }, {
      "duration" : 18,
      "start_time" : "2022-10-26T13:09:48.631Z"
    }, {
      "duration" : 4,
      "start_time" : "2022-10-26T13:09:48.651Z"
    }, {
      "duration" : 6,
      "start_time" : "2022-10-26T13:09:48.705Z"
    }, {
      "duration" : 13,
      "start_time" : "2022-10-26T13:09:48.712Z"
    }, {
      "duration" : 6,
      "start_time" : "2022-10-26T13:09:48.727Z"
    }, {
      "duration" : 10,
      "start_time" : "2022-10-26T13:09:48.735Z"
    }, {
      "duration" : 3,
      "start_time" : "2022-10-26T13:09:48.747Z"
    }, {
      "duration" : 8,
      "start_time" : "2022-10-26T13:09:48.752Z"
    }, {
      "duration" : 3,
      "start_time" : "2022-10-26T13:09:48.762Z"
    }, {
      "duration" : 41,
      "start_time" : "2022-10-26T13:09:48.767Z"
    }, {
      "duration" : 4,
      "start_time" : "2022-10-26T13:09:48.812Z"
    }, {
      "duration" : 11,
      "start_time" : "2022-10-26T13:09:48.818Z"
    }, {
      "duration" : 25,
      "start_time" : "2022-10-26T13:09:48.830Z"
    }, {
      "duration" : 20,
      "start_time" : "2022-10-26T13:09:48.856Z"
    }, {
      "duration" : 48,
      "start_time" : "2022-10-26T13:09:48.877Z"
    }, {
      "duration" : 4,
      "start_time" : "2022-10-26T13:09:48.927Z"
    }, {
      "duration" : 697,
      "start_time" : "2022-10-26T13:09:48.933Z"
    }, {
      "duration" : 77,
      "start_time" : "2022-10-26T13:09:49.631Z"
    }, {
      "duration" : 96,
      "start_time" : "2022-10-26T13:09:49.710Z"
    }, {
      "duration" : 9,
      "start_time" : "2022-10-26T13:09:49.808Z"
    }, {
      "duration" : 720,
      "start_time" : "2022-10-26T13:09:49.818Z"
    }, {
      "duration" : 5,
      "start_time" : "2022-10-26T13:09:50.607Z"
    }, {
      "duration" : 94,
      "start_time" : "2022-10-26T13:09:50.614Z"
    }, {
      "duration" : 46,
      "start_time" : "2022-10-26T13:09:50.710Z"
    }, {
      "duration" : 4,
      "start_time" : "2022-10-26T13:09:50.757Z"
    }, {
      "duration" : 12,
      "start_time" : "2022-10-26T13:09:50.763Z"
    }, {
      "duration" : 656,
      "start_time" : "2022-10-26T13:09:50.777Z"
    }, {
      "duration" : 10,
      "start_time" : "2022-10-26T13:09:51.435Z"
    }, {
      "duration" : 61,
      "start_time" : "2022-10-26T13:09:51.446Z"
    }, {
      "duration" : 99,
      "start_time" : "2022-10-26T13:09:51.509Z"
    }, {
      "duration" : 214,
      "start_time" : "2022-10-26T13:09:51.610Z"
    }, {
      "duration" : 10,
      "start_time" : "2022-10-26T13:09:51.826Z"
    }, {
      "duration" : 279,
      "start_time" : "2022-10-26T13:09:51.838Z"
    }, {
      "duration" : 274,
      "start_time" : "2022-10-26T13:09:52.118Z"
    }, {
      "duration" : 4,
      "start_time" : "2022-10-26T13:15:47.087Z"
    }, {
      "duration" : 84,
      "start_time" : "2022-10-26T13:16:01.823Z"
    }, {
      "duration" : 7,
      "start_time" : "2022-10-26T13:16:51.094Z"
    }, {
      "duration" : 1499,
      "start_time" : "2022-10-26T13:16:56.793Z"
    }, {
      "duration" : 42,
      "start_time" : "2022-10-26T13:16:58.294Z"
    }, {
      "duration" : 18,
      "start_time" : "2022-10-26T13:16:58.339Z"
    }, {
      "duration" : 80,
      "start_time" : "2022-10-26T13:16:58.359Z"
    }, {
      "duration" : 5,
      "start_time" : "2022-10-26T13:16:58.441Z"
    }, {
      "duration" : 10,
      "start_time" : "2022-10-26T13:16:58.448Z"
    }, {
      "duration" : 9,
      "start_time" : "2022-10-26T13:16:58.460Z"
    }, {
      "duration" : 10,
      "start_time" : "2022-10-26T13:16:58.470Z"
    }, {
      "duration" : 27,
      "start_time" : "2022-10-26T13:16:58.482Z"
    }, {
      "duration" : 17,
      "start_time" : "2022-10-26T13:16:58.512Z"
    }, {
      "duration" : 112,
      "start_time" : "2022-10-26T13:16:58.531Z"
    }, {
      "duration" : 3,
      "start_time" : "2022-10-26T13:16:58.646Z"
    }, {
      "duration" : 10,
      "start_time" : "2022-10-26T13:16:58.651Z"
    }, {
      "duration" : 1350,
      "start_time" : "2022-10-26T13:17:19.804Z"
    }, {
      "duration" : 41,
      "start_time" : "2022-10-26T13:17:21.156Z"
    }, {
      "duration" : 13,
      "start_time" : "2022-10-26T13:17:21.199Z"
    }, {
      "duration" : 55,
      "start_time" : "2022-10-26T13:17:21.214Z"
    }, {
      "duration" : 3,
      "start_time" : "2022-10-26T13:17:21.271Z"
    }, {
      "duration" : 7,
      "start_time" : "2022-10-26T13:17:21.275Z"
    }, {
      "duration" : 22,
      "start_time" : "2022-10-26T13:17:21.284Z"
    }, {
      "duration" : 30,
      "start_time" : "2022-10-26T13:17:21.308Z"
    }, {
      "duration" : 19,
      "start_time" : "2022-10-26T13:17:21.340Z"
    }, {
      "duration" : 27,
      "start_time" : "2022-10-26T13:17:21.361Z"
    }, {
      "duration" : 65,
      "start_time" : "2022-10-26T13:17:21.389Z"
    }, {
      "duration" : 3,
      "start_time" : "2022-10-26T13:17:21.455Z"
    }, {
      "duration" : 19,
      "start_time" : "2022-10-26T13:17:21.459Z"
    }, {
      "duration" : 13724,
      "start_time" : "2022-10-26T13:17:21.479Z"
    }, {
      "duration" : 12,
      "start_time" : "2022-10-26T13:17:35.206Z"
    }, {
      "duration" : 9,
      "start_time" : "2022-10-26T13:17:35.220Z"
    }, {
      "duration" : 19,
      "start_time" : "2022-10-26T13:17:35.231Z"
    }, {
      "duration" : 4,
      "start_time" : "2022-10-26T13:17:35.252Z"
    }, {
      "duration" : 51,
      "start_time" : "2022-10-26T13:17:35.258Z"
    }, {
      "duration" : 13,
      "start_time" : "2022-10-26T13:17:35.310Z"
    }, {
      "duration" : 6,
      "start_time" : "2022-10-26T13:17:35.325Z"
    }, {
      "duration" : 10,
      "start_time" : "2022-10-26T13:17:35.332Z"
    }, {
      "duration" : 4,
      "start_time" : "2022-10-26T13:17:35.344Z"
    }, {
      "duration" : 7,
      "start_time" : "2022-10-26T13:17:35.349Z"
    }, {
      "duration" : 6,
      "start_time" : "2022-10-26T13:17:35.357Z"
    }, {
      "duration" : 43,
      "start_time" : "2022-10-26T13:17:35.365Z"
    }, {
      "duration" : 6,
      "start_time" : "2022-10-26T13:17:35.410Z"
    }, {
      "duration" : 9,
      "start_time" : "2022-10-26T13:17:35.419Z"
    }, {
      "duration" : 20,
      "start_time" : "2022-10-26T13:17:35.429Z"
    }, {
      "duration" : 16,
      "start_time" : "2022-10-26T13:17:35.451Z"
    }, {
      "duration" : 44,
      "start_time" : "2022-10-26T13:17:35.468Z"
    }, {
      "duration" : 4,
      "start_time" : "2022-10-26T13:17:35.513Z"
    }, {
      "duration" : 689,
      "start_time" : "2022-10-26T13:17:35.519Z"
    }, {
      "duration" : 96,
      "start_time" : "2022-10-26T13:17:36.210Z"
    }, {
      "duration" : 99,
      "start_time" : "2022-10-26T13:17:36.307Z"
    }, {
      "duration" : 4,
      "start_time" : "2022-10-26T13:17:36.408Z"
    }, {
      "duration" : 722,
      "start_time" : "2022-10-26T13:17:36.414Z"
    }, {
      "duration" : 73,
      "start_time" : "2022-10-26T13:17:37.137Z"
    }, {
      "duration" : 101,
      "start_time" : "2022-10-26T13:17:37.212Z"
    }, {
      "duration" : 44,
      "start_time" : "2022-10-26T13:17:37.314Z"
    }, {
      "duration" : 4,
      "start_time" : "2022-10-26T13:17:37.360Z"
    }, {
      "duration" : 51,
      "start_time" : "2022-10-26T13:17:37.366Z"
    }, {
      "duration" : 794,
      "start_time" : "2022-10-26T13:17:37.419Z"
    }, {
      "duration" : 10,
      "start_time" : "2022-10-26T13:17:38.215Z"
    }, {
      "duration" : 80,
      "start_time" : "2022-10-26T13:17:38.227Z"
    }, {
      "duration" : 97,
      "start_time" : "2022-10-26T13:17:38.309Z"
    }, {
      "duration" : 200,
      "start_time" : "2022-10-26T13:17:38.408Z"
    }, {
      "duration" : 10,
      "start_time" : "2022-10-26T13:17:38.609Z"
    }, {
      "duration" : 271,
      "start_time" : "2022-10-26T13:17:38.621Z"
    }, {
      "duration" : 294,
      "start_time" : "2022-10-26T13:17:38.894Z"
    }, {
      "duration" : 19,
      "start_time" : "2022-10-26T13:17:39.190Z"
    }, {
      "duration" : 6,
      "start_time" : "2022-10-26T13:17:39.211Z"
    }, {
      "duration" : 89,
      "start_time" : "2022-10-26T13:17:39.218Z"
    }, {
      "duration" : 5,
      "start_time" : "2022-10-26T13:17:39.309Z"
    }, {
      "duration" : 17,
      "start_time" : "2022-10-26T13:17:39.316Z"
    }, {
      "duration" : 9,
      "start_time" : "2022-10-26T13:17:41.319Z"
    }, {
      "duration" : 13,
      "start_time" : "2022-10-26T13:17:57.744Z"
    }, {
      "duration" : 79,
      "start_time" : "2022-10-26T13:18:12.061Z"
    }, {
      "duration" : 705,
      "start_time" : "2022-10-26T13:18:43.141Z"
    }, {
      "duration" : 969,
      "start_time" : "2022-10-26T13:24:25.436Z"
    }, {
      "duration" : 43,
      "start_time" : "2022-10-26T13:25:15.548Z"
    }, {
      "duration" : 877,
      "start_time" : "2022-10-26T13:25:30.015Z"
    }, {
      "duration" : 31,
      "start_time" : "2022-10-26T13:25:45.959Z"
    }, {
      "duration" : 7,
      "start_time" : "2022-10-26T13:28:23.126Z"
    }, {
      "duration" : 8,
      "start_time" : "2022-10-26T13:28:51.822Z"
    }, {
      "duration" : 38651,
      "start_time" : "2022-10-26T13:29:08.049Z"
    }, {
      "duration" : 13,
      "start_time" : "2022-10-26T13:29:46.706Z"
    }, {
      "duration" : 569,
      "start_time" : "2022-10-26T13:30:35.817Z"
    }, {
      "duration" : 41,
      "start_time" : "2022-10-26T13:49:34.171Z"
    }, {
      "duration" : 6,
      "start_time" : "2022-10-26T13:50:51.347Z"
    }, {
      "duration" : 9,
      "start_time" : "2022-10-26T13:51:06.567Z"
    }, {
      "duration" : 80,
      "start_time" : "2022-10-26T13:51:27.263Z"
    }, {
      "duration" : 40,
      "start_time" : "2022-10-26T13:54:44.123Z"
    }, {
      "duration" : 295,
      "start_time" : "2022-10-26T13:54:57.347Z"
    }, {
      "duration" : 7,
      "start_time" : "2022-10-26T13:55:43.998Z"
    }, {
      "duration" : 5,
      "start_time" : "2022-10-26T20:29:11.847Z"
    }, {
      "duration" : 1359,
      "start_time" : "2022-10-26T20:29:19.310Z"
    }, {
      "duration" : 40,
      "start_time" : "2022-10-26T20:29:20.671Z"
    }, {
      "duration" : 13,
      "start_time" : "2022-10-26T20:29:20.713Z"
    }, {
      "duration" : 57,
      "start_time" : "2022-10-26T20:29:20.728Z"
    }, {
      "duration" : 21,
      "start_time" : "2022-10-26T20:29:20.786Z"
    }, {
      "duration" : 9,
      "start_time" : "2022-10-26T20:29:20.808Z"
    }, {
      "duration" : 6,
      "start_time" : "2022-10-26T20:29:20.819Z"
    }, {
      "duration" : 9,
      "start_time" : "2022-10-26T20:29:20.826Z"
    }, {
      "duration" : 3,
      "start_time" : "2022-10-26T20:29:20.837Z"
    }, {
      "duration" : 13,
      "start_time" : "2022-10-26T20:29:20.842Z"
    }, {
      "duration" : 82,
      "start_time" : "2022-10-26T20:29:20.856Z"
    }, {
      "duration" : 2,
      "start_time" : "2022-10-26T20:29:20.940Z"
    }, {
      "duration" : 9,
      "start_time" : "2022-10-26T20:29:20.943Z"
    }, {
      "duration" : 13406,
      "start_time" : "2022-10-26T20:29:20.953Z"
    }, {
      "duration" : 12,
      "start_time" : "2022-10-26T20:29:34.361Z"
    }, {
      "duration" : 7,
      "start_time" : "2022-10-26T20:29:34.374Z"
    }, {
      "duration" : 24,
      "start_time" : "2022-10-26T20:29:34.382Z"
    }, {
      "duration" : 3,
      "start_time" : "2022-10-26T20:29:34.407Z"
    }, {
      "duration" : 15,
      "start_time" : "2022-10-26T20:29:34.411Z"
    }, {
      "duration" : 10,
      "start_time" : "2022-10-26T20:29:34.428Z"
    }, {
      "duration" : 6,
      "start_time" : "2022-10-26T20:29:34.439Z"
    }, {
      "duration" : 9,
      "start_time" : "2022-10-26T20:29:34.446Z"
    }, {
      "duration" : 4,
      "start_time" : "2022-10-26T20:29:34.456Z"
    }, {
      "duration" : 9,
      "start_time" : "2022-10-26T20:29:34.461Z"
    }, {
      "duration" : 3,
      "start_time" : "2022-10-26T20:29:34.472Z"
    }, {
      "duration" : 11,
      "start_time" : "2022-10-26T20:29:34.476Z"
    }, {
      "duration" : 3,
      "start_time" : "2022-10-26T20:29:34.505Z"
    }, {
      "duration" : 9,
      "start_time" : "2022-10-26T20:29:34.511Z"
    }, {
      "duration" : 21,
      "start_time" : "2022-10-26T20:29:34.521Z"
    }, {
      "duration" : 15,
      "start_time" : "2022-10-26T20:29:34.543Z"
    }, {
      "duration" : 14,
      "start_time" : "2022-10-26T20:29:34.560Z"
    }, {
      "duration" : 4,
      "start_time" : "2022-10-26T20:29:34.575Z"
    }, {
      "duration" : 652,
      "start_time" : "2022-10-26T20:29:34.604Z"
    }, {
      "duration" : 53,
      "start_time" : "2022-10-26T20:29:35.257Z"
    }, {
      "duration" : 103,
      "start_time" : "2022-10-26T20:29:35.312Z"
    }, {
      "duration" : 6,
      "start_time" : "2022-10-26T20:29:35.417Z"
    }, {
      "duration" : 683,
      "start_time" : "2022-10-26T20:29:35.424Z"
    }, {
      "duration" : 95,
      "start_time" : "2022-10-26T20:29:36.112Z"
    }, {
      "duration" : 9,
      "start_time" : "2022-10-26T20:29:36.208Z"
    }, {
      "duration" : 36,
      "start_time" : "2022-10-26T20:29:36.218Z"
    }, {
      "duration" : 3,
      "start_time" : "2022-10-26T20:29:36.255Z"
    }, {
      "duration" : 13,
      "start_time" : "2022-10-26T20:29:36.259Z"
    }, {
      "duration" : 629,
      "start_time" : "2022-10-26T20:29:36.305Z"
    }, {
      "duration" : 10,
      "start_time" : "2022-10-26T20:29:36.935Z"
    }, {
      "duration" : 67,
      "start_time" : "2022-10-26T20:29:36.946Z"
    }, {
      "duration" : 99,
      "start_time" : "2022-10-26T20:29:37.015Z"
    }, {
      "duration" : 357,
      "start_time" : "2022-10-26T20:29:37.116Z"
    }, {
      "duration" : 31,
      "start_time" : "2022-10-26T20:29:37.475Z"
    }, {
      "duration" : 292,
      "start_time" : "2022-10-26T20:29:37.508Z"
    }, {
      "duration" : 405,
      "start_time" : "2022-10-26T20:29:37.805Z"
    }, {
      "duration" : 5,
      "start_time" : "2022-10-26T20:29:38.212Z"
    }, {
      "duration" : 17,
      "start_time" : "2022-10-26T20:29:38.219Z"
    }, {
      "duration" : 87,
      "start_time" : "2022-10-26T20:29:38.237Z"
    }, {
      "duration" : 7,
      "start_time" : "2022-10-26T20:29:38.326Z"
    }, {
      "duration" : 23,
      "start_time" : "2022-10-26T20:29:38.334Z"
    }, {
      "duration" : 7,
      "start_time" : "2022-10-26T20:29:38.359Z"
    }, {
      "duration" : 13,
      "start_time" : "2022-10-26T20:29:38.406Z"
    }, {
      "duration" : 145,
      "start_time" : "2022-10-26T20:29:38.420Z"
    }, {
      "duration" : 749,
      "start_time" : "2022-10-26T20:29:38.566Z"
    }, {
      "duration" : 1146,
      "start_time" : "2022-10-26T20:29:39.316Z"
    }, {
      "duration" : 175,
      "start_time" : "2022-10-26T20:29:40.464Z"
    }, {
      "duration" : 883,
      "start_time" : "2022-10-26T20:29:40.641Z"
    }, {
      "duration" : 84,
      "start_time" : "2022-10-26T20:29:41.525Z"
    }, {
      "duration" : 94,
      "start_time" : "2022-10-26T20:29:41.611Z"
    }, {
      "duration" : 9,
      "start_time" : "2022-10-26T20:29:41.708Z"
    }, {
      "duration" : 36291,
      "start_time" : "2022-10-26T20:29:41.719Z"
    }, {
      "duration" : 14,
      "start_time" : "2022-10-26T20:30:18.012Z"
    }, {
      "duration" : 548,
      "start_time" : "2022-10-26T20:30:18.028Z"
    }, {
      "duration" : 46,
      "start_time" : "2022-10-26T20:30:18.578Z"
    }, {
      "duration" : 6,
      "start_time" : "2022-10-26T20:30:18.625Z"
    }, {
      "duration" : 13,
      "start_time" : "2022-10-26T20:30:18.633Z"
    }, {
      "duration" : 58,
      "start_time" : "2022-10-26T20:30:18.647Z"
    }, {
      "duration" : 276,
      "start_time" : "2022-10-26T20:30:18.707Z"
    }, {
      "duration" : 5,
      "start_time" : "2022-10-26T20:30:18.984Z"
    }, {
      "duration" : 6,
      "start_time" : "2022-10-26T20:46:55.963Z"
    }, {
      "duration" : 9,
      "start_time" : "2022-10-26T20:47:48.037Z"
    }, {
      "duration" : 1289,
      "start_time" : "2022-10-26T20:55:43.464Z"
    }, {
      "duration" : 40,
      "start_time" : "2022-10-26T20:55:44.755Z"
    }, {
      "duration" : 11,
      "start_time" : "2022-10-26T20:55:44.797Z"
    }, {
      "duration" : 49,
      "start_time" : "2022-10-26T20:55:44.810Z"
    }, {
      "duration" : 4,
      "start_time" : "2022-10-26T20:55:44.860Z"
    }, {
      "duration" : 7,
      "start_time" : "2022-10-26T20:55:44.865Z"
    }, {
      "duration" : 6,
      "start_time" : "2022-10-26T20:55:44.873Z"
    }, {
      "duration" : 25,
      "start_time" : "2022-10-26T20:55:44.881Z"
    }, {
      "duration" : 4,
      "start_time" : "2022-10-26T20:55:44.908Z"
    }, {
      "duration" : 13,
      "start_time" : "2022-10-26T20:55:44.914Z"
    }, {
      "duration" : 81,
      "start_time" : "2022-10-26T20:55:44.929Z"
    }, {
      "duration" : 3,
      "start_time" : "2022-10-26T20:55:45.012Z"
    }, {
      "duration" : 20,
      "start_time" : "2022-10-26T20:55:45.016Z"
    }, {
      "duration" : 13546,
      "start_time" : "2022-10-26T20:55:45.038Z"
    }, {
      "duration" : 14,
      "start_time" : "2022-10-26T20:55:58.585Z"
    }, {
      "duration" : 9,
      "start_time" : "2022-10-26T20:55:58.606Z"
    }, {
      "duration" : 20,
      "start_time" : "2022-10-26T20:55:58.616Z"
    }, {
      "duration" : 3,
      "start_time" : "2022-10-26T20:55:58.638Z"
    }, {
      "duration" : 7,
      "start_time" : "2022-10-26T20:55:58.643Z"
    }, {
      "duration" : 14,
      "start_time" : "2022-10-26T20:55:58.651Z"
    }, {
      "duration" : 40,
      "start_time" : "2022-10-26T20:55:58.666Z"
    }, {
      "duration" : 8,
      "start_time" : "2022-10-26T20:55:58.707Z"
    }, {
      "duration" : 4,
      "start_time" : "2022-10-26T20:55:58.716Z"
    }, {
      "duration" : 9,
      "start_time" : "2022-10-26T20:55:58.721Z"
    }, {
      "duration" : 4,
      "start_time" : "2022-10-26T20:55:58.731Z"
    }, {
      "duration" : 11,
      "start_time" : "2022-10-26T20:55:58.738Z"
    }, {
      "duration" : 4,
      "start_time" : "2022-10-26T20:55:58.750Z"
    }, {
      "duration" : 12,
      "start_time" : "2022-10-26T20:55:58.756Z"
    }, {
      "duration" : 43,
      "start_time" : "2022-10-26T20:55:58.769Z"
    }, {
      "duration" : 17,
      "start_time" : "2022-10-26T20:55:58.814Z"
    }, {
      "duration" : 16,
      "start_time" : "2022-10-26T20:55:58.832Z"
    }, {
      "duration" : 4,
      "start_time" : "2022-10-26T20:55:58.850Z"
    }, {
      "duration" : 691,
      "start_time" : "2022-10-26T20:55:58.855Z"
    }, {
      "duration" : 63,
      "start_time" : "2022-10-26T20:55:59.548Z"
    }, {
      "duration" : 97,
      "start_time" : "2022-10-26T20:55:59.612Z"
    }, {
      "duration" : 5,
      "start_time" : "2022-10-26T20:55:59.711Z"
    }, {
      "duration" : 693,
      "start_time" : "2022-10-26T20:55:59.718Z"
    }, {
      "duration" : 93,
      "start_time" : "2022-10-26T20:56:00.413Z"
    }, {
      "duration" : 99,
      "start_time" : "2022-10-26T20:56:00.507Z"
    }, {
      "duration" : 50,
      "start_time" : "2022-10-26T20:56:00.608Z"
    }, {
      "duration" : 4,
      "start_time" : "2022-10-26T20:56:00.659Z"
    }, {
      "duration" : 33,
      "start_time" : "2022-10-26T20:56:00.664Z"
    }, {
      "duration" : 626,
      "start_time" : "2022-10-26T20:56:00.699Z"
    }, {
      "duration" : 10,
      "start_time" : "2022-10-26T20:56:01.327Z"
    }, {
      "duration" : 68,
      "start_time" : "2022-10-26T20:56:01.338Z"
    }, {
      "duration" : 97,
      "start_time" : "2022-10-26T20:56:01.410Z"
    }, {
      "duration" : 213,
      "start_time" : "2022-10-26T20:56:01.508Z"
    }, {
      "duration" : 9,
      "start_time" : "2022-10-26T20:56:01.722Z"
    }, {
      "duration" : 282,
      "start_time" : "2022-10-26T20:56:01.733Z"
    }, {
      "duration" : 299,
      "start_time" : "2022-10-26T20:56:02.017Z"
    }, {
      "duration" : 6,
      "start_time" : "2022-10-26T20:56:02.318Z"
    }, {
      "duration" : 5,
      "start_time" : "2022-10-26T20:56:02.326Z"
    }, {
      "duration" : 92,
      "start_time" : "2022-10-26T20:56:02.333Z"
    }, {
      "duration" : 5,
      "start_time" : "2022-10-26T20:56:02.427Z"
    }, {
      "duration" : 28,
      "start_time" : "2022-10-26T20:56:02.434Z"
    }, {
      "duration" : 8,
      "start_time" : "2022-10-26T20:56:02.463Z"
    }, {
      "duration" : 12,
      "start_time" : "2022-10-26T20:56:02.472Z"
    }, {
      "duration" : 85,
      "start_time" : "2022-10-26T20:56:02.485Z"
    }, {
      "duration" : 735,
      "start_time" : "2022-10-26T20:56:02.571Z"
    }, {
      "duration" : 1027,
      "start_time" : "2022-10-26T20:56:03.308Z"
    }, {
      "duration" : 130,
      "start_time" : "2022-10-26T20:56:04.406Z"
    }, {
      "duration" : 878,
      "start_time" : "2022-10-26T20:56:04.538Z"
    }, {
      "duration" : 91,
      "start_time" : "2022-10-26T20:56:05.417Z"
    }, {
      "duration" : 96,
      "start_time" : "2022-10-26T20:56:05.510Z"
    }, {
      "duration" : 9,
      "start_time" : "2022-10-26T20:56:05.607Z"
    }, {
      "duration" : 36168,
      "start_time" : "2022-10-26T20:56:05.617Z"
    }, {
      "duration" : 23,
      "start_time" : "2022-10-26T20:56:41.787Z"
    }, {
      "duration" : 550,
      "start_time" : "2022-10-26T20:56:41.812Z"
    }, {
      "duration" : 49,
      "start_time" : "2022-10-26T20:56:42.364Z"
    }, {
      "duration" : 6,
      "start_time" : "2022-10-26T20:56:42.417Z"
    }, {
      "duration" : 16,
      "start_time" : "2022-10-26T20:56:42.424Z"
    }, {
      "duration" : 56,
      "start_time" : "2022-10-26T20:56:42.441Z"
    }, {
      "duration" : 291,
      "start_time" : "2022-10-26T20:56:42.499Z"
    }, {
      "duration" : 17,
      "start_time" : "2022-10-26T20:56:42.791Z"
    }, {
      "duration" : 1299,
      "start_time" : "2022-10-26T20:59:21.140Z"
    }, {
      "duration" : 42,
      "start_time" : "2022-10-26T20:59:22.441Z"
    }, {
      "duration" : 12,
      "start_time" : "2022-10-26T20:59:22.484Z"
    }, {
      "duration" : 56,
      "start_time" : "2022-10-26T20:59:22.498Z"
    }, {
      "duration" : 4,
      "start_time" : "2022-10-26T20:59:22.556Z"
    }, {
      "duration" : 19,
      "start_time" : "2022-10-26T20:59:22.562Z"
    }, {
      "duration" : 29,
      "start_time" : "2022-10-26T20:59:22.582Z"
    }, {
      "duration" : 8,
      "start_time" : "2022-10-26T20:59:22.613Z"
    }, {
      "duration" : 19,
      "start_time" : "2022-10-26T20:59:22.622Z"
    }, {
      "duration" : 21,
      "start_time" : "2022-10-26T20:59:22.644Z"
    }, {
      "duration" : 74,
      "start_time" : "2022-10-26T20:59:22.667Z"
    }, {
      "duration" : 3,
      "start_time" : "2022-10-26T20:59:22.742Z"
    }, {
      "duration" : 7,
      "start_time" : "2022-10-26T20:59:22.747Z"
    }, {
      "duration" : 13619,
      "start_time" : "2022-10-26T20:59:22.756Z"
    }, {
      "duration" : 12,
      "start_time" : "2022-10-26T20:59:36.377Z"
    }, {
      "duration" : 15,
      "start_time" : "2022-10-26T20:59:36.391Z"
    }, {
      "duration" : 18,
      "start_time" : "2022-10-26T20:59:36.408Z"
    }, {
      "duration" : 3,
      "start_time" : "2022-10-26T20:59:36.428Z"
    }, {
      "duration" : 5,
      "start_time" : "2022-10-26T20:59:36.433Z"
    }, {
      "duration" : 11,
      "start_time" : "2022-10-26T20:59:36.439Z"
    }, {
      "duration" : 5,
      "start_time" : "2022-10-26T20:59:36.451Z"
    }, {
      "duration" : 47,
      "start_time" : "2022-10-26T20:59:36.458Z"
    }, {
      "duration" : 4,
      "start_time" : "2022-10-26T20:59:36.507Z"
    }, {
      "duration" : 7,
      "start_time" : "2022-10-26T20:59:36.512Z"
    }, {
      "duration" : 4,
      "start_time" : "2022-10-26T20:59:36.521Z"
    }, {
      "duration" : 10,
      "start_time" : "2022-10-26T20:59:36.526Z"
    }, {
      "duration" : 6,
      "start_time" : "2022-10-26T20:59:36.538Z"
    }, {
      "duration" : 8,
      "start_time" : "2022-10-26T20:59:36.547Z"
    }, {
      "duration" : 19,
      "start_time" : "2022-10-26T20:59:36.556Z"
    }, {
      "duration" : 45,
      "start_time" : "2022-10-26T20:59:36.576Z"
    }, {
      "duration" : 14,
      "start_time" : "2022-10-26T20:59:36.623Z"
    }, {
      "duration" : 4,
      "start_time" : "2022-10-26T20:59:36.638Z"
    }, {
      "duration" : 706,
      "start_time" : "2022-10-26T20:59:36.643Z"
    }, {
      "duration" : 60,
      "start_time" : "2022-10-26T20:59:37.351Z"
    }, {
      "duration" : 102,
      "start_time" : "2022-10-26T20:59:37.413Z"
    }, {
      "duration" : 7,
      "start_time" : "2022-10-26T20:59:37.516Z"
    }, {
      "duration" : 782,
      "start_time" : "2022-10-26T20:59:37.524Z"
    }, {
      "duration" : 5,
      "start_time" : "2022-10-26T20:59:38.406Z"
    }, {
      "duration" : 7,
      "start_time" : "2022-10-26T20:59:38.412Z"
    }, {
      "duration" : 87,
      "start_time" : "2022-10-26T20:59:38.420Z"
    }, {
      "duration" : 3,
      "start_time" : "2022-10-26T20:59:38.509Z"
    }, {
      "duration" : 12,
      "start_time" : "2022-10-26T20:59:38.514Z"
    }, {
      "duration" : 819,
      "start_time" : "2022-10-26T20:59:38.528Z"
    }, {
      "duration" : 9,
      "start_time" : "2022-10-26T20:59:39.349Z"
    }, {
      "duration" : 50,
      "start_time" : "2022-10-26T20:59:39.359Z"
    }, {
      "duration" : 97,
      "start_time" : "2022-10-26T20:59:39.412Z"
    }, {
      "duration" : 199,
      "start_time" : "2022-10-26T20:59:39.513Z"
    }, {
      "duration" : 8,
      "start_time" : "2022-10-26T20:59:39.713Z"
    }, {
      "duration" : 266,
      "start_time" : "2022-10-26T20:59:39.723Z"
    }, {
      "duration" : 331,
      "start_time" : "2022-10-26T20:59:39.991Z"
    }, {
      "duration" : 7,
      "start_time" : "2022-10-26T20:59:40.324Z"
    }, {
      "duration" : 5,
      "start_time" : "2022-10-26T20:59:40.332Z"
    }, {
      "duration" : 101,
      "start_time" : "2022-10-26T20:59:40.339Z"
    }, {
      "duration" : 5,
      "start_time" : "2022-10-26T20:59:40.442Z"
    }, {
      "duration" : 20,
      "start_time" : "2022-10-26T20:59:40.448Z"
    }, {
      "duration" : 7,
      "start_time" : "2022-10-26T20:59:40.469Z"
    }, {
      "duration" : 32,
      "start_time" : "2022-10-26T20:59:40.477Z"
    }, {
      "duration" : 74,
      "start_time" : "2022-10-26T20:59:40.511Z"
    }, {
      "duration" : 724,
      "start_time" : "2022-10-26T20:59:40.586Z"
    }, {
      "duration" : 1096,
      "start_time" : "2022-10-26T20:59:41.312Z"
    }, {
      "duration" : 216,
      "start_time" : "2022-10-26T20:59:42.410Z"
    }, {
      "duration" : 859,
      "start_time" : "2022-10-26T20:59:42.628Z"
    }, {
      "duration" : 36,
      "start_time" : "2022-10-26T20:59:43.489Z"
    }, {
      "duration" : 97,
      "start_time" : "2022-10-26T20:59:43.608Z"
    }, {
      "duration" : 9,
      "start_time" : "2022-10-26T20:59:43.707Z"
    }, {
      "duration" : 36319,
      "start_time" : "2022-10-26T20:59:43.717Z"
    }, {
      "duration" : 14,
      "start_time" : "2022-10-26T21:00:20.037Z"
    }, {
      "duration" : 562,
      "start_time" : "2022-10-26T21:00:20.052Z"
    }, {
      "duration" : 41,
      "start_time" : "2022-10-26T21:00:20.615Z"
    }, {
      "duration" : 6,
      "start_time" : "2022-10-26T21:00:20.658Z"
    }, {
      "duration" : 27,
      "start_time" : "2022-10-26T21:00:20.665Z"
    }, {
      "duration" : 61,
      "start_time" : "2022-10-26T21:00:20.693Z"
    }, {
      "duration" : 234,
      "start_time" : "2022-10-26T21:00:20.755Z"
    }, {
      "duration" : 16,
      "start_time" : "2022-10-26T21:00:20.991Z"
    }, {
      "duration" : 5,
      "start_time" : "2022-10-26T21:01:41.007Z"
    }, {
      "duration" : 7,
      "start_time" : "2022-10-26T21:01:52.773Z"
    }, {
      "duration" : 1407,
      "start_time" : "2022-10-26T21:01:59.082Z"
    }, {
      "duration" : 43,
      "start_time" : "2022-10-26T21:02:00.491Z"
    }, {
      "duration" : 13,
      "start_time" : "2022-10-26T21:02:00.535Z"
    }, {
      "duration" : 54,
      "start_time" : "2022-10-26T21:02:00.550Z"
    }, {
      "duration" : 4,
      "start_time" : "2022-10-26T21:02:00.606Z"
    }, {
      "duration" : 14,
      "start_time" : "2022-10-26T21:02:00.611Z"
    }, {
      "duration" : 15,
      "start_time" : "2022-10-26T21:02:00.627Z"
    }, {
      "duration" : 19,
      "start_time" : "2022-10-26T21:02:00.643Z"
    }, {
      "duration" : 28,
      "start_time" : "2022-10-26T21:02:00.663Z"
    }, {
      "duration" : 16,
      "start_time" : "2022-10-26T21:02:00.693Z"
    }, {
      "duration" : 65,
      "start_time" : "2022-10-26T21:02:00.710Z"
    }, {
      "duration" : 3,
      "start_time" : "2022-10-26T21:02:00.776Z"
    }, {
      "duration" : 21,
      "start_time" : "2022-10-26T21:02:00.780Z"
    }, {
      "duration" : 13484,
      "start_time" : "2022-10-26T21:02:00.803Z"
    }, {
      "duration" : 17,
      "start_time" : "2022-10-26T21:02:14.289Z"
    }, {
      "duration" : 6,
      "start_time" : "2022-10-26T21:02:14.308Z"
    }, {
      "duration" : 22,
      "start_time" : "2022-10-26T21:02:14.315Z"
    }, {
      "duration" : 4,
      "start_time" : "2022-10-26T21:02:14.338Z"
    }, {
      "duration" : 10,
      "start_time" : "2022-10-26T21:02:14.344Z"
    }, {
      "duration" : 12,
      "start_time" : "2022-10-26T21:02:14.355Z"
    }, {
      "duration" : 37,
      "start_time" : "2022-10-26T21:02:14.369Z"
    }, {
      "duration" : 8,
      "start_time" : "2022-10-26T21:02:14.407Z"
    }, {
      "duration" : 7,
      "start_time" : "2022-10-26T21:02:14.417Z"
    }, {
      "duration" : 7,
      "start_time" : "2022-10-26T21:02:14.426Z"
    }, {
      "duration" : 4,
      "start_time" : "2022-10-26T21:02:14.434Z"
    }, {
      "duration" : 13,
      "start_time" : "2022-10-26T21:02:14.439Z"
    }, {
      "duration" : 4,
      "start_time" : "2022-10-26T21:02:14.454Z"
    }, {
      "duration" : 8,
      "start_time" : "2022-10-26T21:02:14.462Z"
    }, {
      "duration" : 50,
      "start_time" : "2022-10-26T21:02:14.472Z"
    }, {
      "duration" : 16,
      "start_time" : "2022-10-26T21:02:14.524Z"
    }, {
      "duration" : 15,
      "start_time" : "2022-10-26T21:02:14.542Z"
    }, {
      "duration" : 4,
      "start_time" : "2022-10-26T21:02:14.559Z"
    }, {
      "duration" : 687,
      "start_time" : "2022-10-26T21:02:14.565Z"
    }, {
      "duration" : 59,
      "start_time" : "2022-10-26T21:02:15.253Z"
    }, {
      "duration" : 101,
      "start_time" : "2022-10-26T21:02:15.314Z"
    }, {
      "duration" : 8,
      "start_time" : "2022-10-26T21:02:15.416Z"
    }, {
      "duration" : 685,
      "start_time" : "2022-10-26T21:02:15.425Z"
    }, {
      "duration" : 95,
      "start_time" : "2022-10-26T21:02:16.112Z"
    }, {
      "duration" : 14,
      "start_time" : "2022-10-26T21:02:16.208Z"
    }, {
      "duration" : 34,
      "start_time" : "2022-10-26T21:02:16.224Z"
    }, {
      "duration" : 3,
      "start_time" : "2022-10-26T21:02:16.260Z"
    }, {
      "duration" : 12,
      "start_time" : "2022-10-26T21:02:16.264Z"
    }, {
      "duration" : 623,
      "start_time" : "2022-10-26T21:02:16.277Z"
    }, {
      "duration" : 10,
      "start_time" : "2022-10-26T21:02:16.905Z"
    }, {
      "duration" : 19,
      "start_time" : "2022-10-26T21:02:16.916Z"
    }, {
      "duration" : 78,
      "start_time" : "2022-10-26T21:02:16.936Z"
    }, {
      "duration" : 230,
      "start_time" : "2022-10-26T21:02:17.106Z"
    }, {
      "duration" : 11,
      "start_time" : "2022-10-26T21:02:17.339Z"
    }, {
      "duration" : 208,
      "start_time" : "2022-10-26T21:02:17.406Z"
    }, {
      "duration" : 292,
      "start_time" : "2022-10-26T21:02:17.615Z"
    }, {
      "duration" : 6,
      "start_time" : "2022-10-26T21:02:17.909Z"
    }, {
      "duration" : 8,
      "start_time" : "2022-10-26T21:02:17.917Z"
    }, {
      "duration" : 96,
      "start_time" : "2022-10-26T21:02:17.926Z"
    }, {
      "duration" : 6,
      "start_time" : "2022-10-26T21:02:18.024Z"
    }, {
      "duration" : 19,
      "start_time" : "2022-10-26T21:02:18.032Z"
    }, {
      "duration" : 5,
      "start_time" : "2022-10-26T21:02:18.053Z"
    }, {
      "duration" : 10,
      "start_time" : "2022-10-26T21:02:18.060Z"
    }, {
      "duration" : 94,
      "start_time" : "2022-10-26T21:02:18.071Z"
    }, {
      "duration" : 659,
      "start_time" : "2022-10-26T21:02:18.166Z"
    }, {
      "duration" : 1079,
      "start_time" : "2022-10-26T21:02:18.827Z"
    }, {
      "duration" : 203,
      "start_time" : "2022-10-26T21:02:19.908Z"
    }, {
      "duration" : 862,
      "start_time" : "2022-10-26T21:02:20.113Z"
    }, {
      "duration" : 32,
      "start_time" : "2022-10-26T21:02:20.976Z"
    }, {
      "duration" : 96,
      "start_time" : "2022-10-26T21:02:21.010Z"
    }, {
      "duration" : 98,
      "start_time" : "2022-10-26T21:02:21.108Z"
    }, {
      "duration" : 35743,
      "start_time" : "2022-10-26T21:02:21.207Z"
    }, {
      "duration" : 13,
      "start_time" : "2022-10-26T21:02:56.951Z"
    }, {
      "duration" : 571,
      "start_time" : "2022-10-26T21:02:56.966Z"
    }, {
      "duration" : 41,
      "start_time" : "2022-10-26T21:02:57.538Z"
    }, {
      "duration" : 6,
      "start_time" : "2022-10-26T21:02:57.580Z"
    }, {
      "duration" : 23,
      "start_time" : "2022-10-26T21:02:57.587Z"
    }, {
      "duration" : 39,
      "start_time" : "2022-10-26T21:02:57.611Z"
    }, {
      "duration" : 263,
      "start_time" : "2022-10-26T21:02:57.651Z"
    }, {
      "duration" : 8,
      "start_time" : "2022-10-26T21:02:57.915Z"
    } ],
    "toc" : {
      "base_numbering" : 1,
      "nav_menu" : { },
      "number_sections" : true,
      "sideBar" : true,
      "skip_h1_title" : true,
      "title_cell" : "Содержание",
      "title_sidebar" : "Contents",
      "toc_cell" : true,
      "toc_position" : {
        "height" : "calc(100% - 180px)",
        "left" : "10px",
        "top" : "150px",
        "width" : "165px"
      },
      "toc_section_display" : true,
      "toc_window_display" : true
    },
    "kernelspec" : {
      "name" : "python3",
      "description" : "IPython kernel implementation for DataSphere",
      "spec" : {
        "language" : "python",
        "display_name" : "DataSphere Kernel",
        "codemirror_mode" : "python",
        "argv" : [ "/bin/true" ],
        "env" : { },
        "help_links" : [ ],
        "metadata" : {
          "app" : "YANDEX_DATASPHERE"
        }
      },
      "resources" : { },
      "display_name" : "DataSphere Kernel"
    }
  },
  "cells" : [ {
    "cell_type" : "markdown",
    "source" : [ "<div class=\"alert alert-block alert-info\">\n", "<b>Комментарий ревьюера:</b>\n", "\n", "Спасибо за качественную работу)\n", "</div>" ],
    "metadata" : {
      "cellId" : "lwdmnfyye3qi5a8sdd496"
    }
  }, {
    "cell_type" : "markdown",
    "source" : [ "Привет, Мария!)\n", "<br> Меня зовут Дуолан 👋 Буду проверять твой проект. Давай вместе доведем его до идеала 😉\n", "<br> Дальнейшее общение будет происходить на «ты», если это не вызывает никаких проблем.\n", "<br> Желательно реагировать на каждый мой комментарий («исправил», «не понятно как исправить ошибку», ...)\n", "<br> Пожалуйста, не удаляй мои комментарии, они будут необходимы для повторного ревью.\n", "\n", "Комментарии будут в <font color='green'>зеленой</font>, <font color='blue'>синей</font> или <font color='red'>красной</font> рамках:\n", "\n", "<div class=\"alert alert-block alert-success\">\n", "<b>✔️ Успех:</b> Если все сделано отлично\n", "</div>\n", "\n", "<div class=\"alert alert-block alert-warning\">\n", "<b>⚠️ Совет:</b> Если можно немного улучшить\n", "</div>\n", "\n", "<div class=\"alert alert-block alert-danger\">\n", "<b>❌ Замечание:</b> Если требуются исправления\n", "</div>\n", "\n", "Работа не может быть принята с красными комментариями.\n", "\n", "-------------------\n", "\n", "Будет очень хорошо, если ты будешь помечать свои действия следующим образом:\n", "\n", "<div class=\"alert alert-block alert-info\">\n", "<b>Комментарий студента:</b> ...\n", "</div>\n", "\n", "<div class=\"alert alert-block alert-info\">\n", "<b>Изменения:</b> Были внесены следующие изменения ...\n", "</div>" ],
    "metadata" : {
      "cellId" : "7zheg6lp09tx10t3c9wv7q"
    }
  }, {
    "cell_type" : "markdown",
    "source" : [ "<h1>Содержание<span class=\"tocSkip\"></span></h1>\n", "<div class=\"toc\"><ul class=\"toc-item\"><li><span><a href=\"#Подготовка-данных\" data-toc-modified-id=\"Подготовка-данных-1\"><span class=\"toc-item-num\">1&nbsp;&nbsp;</span>Подготовка данных</a></span></li><li><span><a href=\"#Исследование-задачи\" data-toc-modified-id=\"Исследование-задачи-2\"><span class=\"toc-item-num\">2&nbsp;&nbsp;</span>Исследование задачи</a></span></li><li><span><a href=\"#Борьба-с-дисбалансом\" data-toc-modified-id=\"Борьба-с-дисбалансом-3\"><span class=\"toc-item-num\">3&nbsp;&nbsp;</span>Борьба с дисбалансом</a></span></li><li><span><a href=\"#Тестирование-модели\" data-toc-modified-id=\"Тестирование-модели-4\"><span class=\"toc-item-num\">4&nbsp;&nbsp;</span>Тестирование модели</a></span></li></ul></div>" ],
    "metadata" : {
      "cellId" : "gd5qpypw657luotvbj9pj",
      "toc" : true
    }
  }, {
    "cell_type" : "markdown",
    "source" : [ "# Отток клиентов" ],
    "metadata" : {
      "cellId" : "qq45qyi4goa154njrj1pg"
    }
  }, {
    "cell_type" : "markdown",
    "source" : [ "- Описание запроса от клиента\n", "\n", "Из «Бета-Банка» стали уходить клиенты. Каждый месяц. Немного, но заметно. Банковские маркетологи посчитали: сохранять текущих клиентов дешевле, чем привлекать новых.\n", "\n", "- Цели и задачи проекта\n", "\n", "Нужно спрогнозировать, уйдёт клиент из банка в ближайшее время или нет. Нам редоставлены исторические данные о поведении клиентов и расторжении договоров с банком. \n", "\n", "- Описание данных: \n", "\n", "Данные находятся в файле /datasets/Churn.csv\n", "\n", "Признаки:\n", "- RowNumber — индекс строки в данных\n", "- CustomerId — уникальный идентификатор клиента\n", "- Surname — фамилия\n", "- CreditScore — кредитный рейтинг\n", "- Geography — страна проживания\n", "- Gender — пол\n", "- Age — возраст\n", "- Tenure — сколько лет человек является клиентом банка\n", "- Balance — баланс на счёте\n", "- NumOfProducts — количество продуктов банка, используемых клиентом\n", "- HasCrCard — наличие кредитной карты\n", "- IsActiveMember — активность клиента\n", "- EstimatedSalary — предполагаемая зарплата\n", "\n", "Целевой признак:\n", "- Exited — факт ухода клиента — категориальный признак, поэтому задача будет достигаться методами классификации.\n", "\n", "- План работы\n", "Загрузка и подготовка данных. \n", "Исследование баланса классов, обучение модели без учёта дисбаланса. \n", "Улучшение качества модели с учетом дисбаланса классов. Обучение разных моделей с целью выбрать лучшую.\n", "Финальное тестирование.\n", "\n", "Необходимо: построить модель с предельно большим значением *F1*-меры, довести метрику до 0.59, проверить *F1*-меру на тестовой выборке. Дополнительно измерить *AUC-ROC*, сравнить её значение с *F1*-мерой." ],
    "metadata" : {
      "cellId" : "dh8zmsuhqywmwxvdv8n4p"
    }
  }, {
    "cell_type" : "markdown",
    "source" : [ "<div class=\"alert alert-block alert-warning\">\n", "<b>⚠️ Совет:</b> \n", "\n", "Важно чтобы в проектах было подробное описание: когда потенциальные работодатели будут смотреть твой проект в портфолио, им нужно будет понимать задачу, чтобы можно было оценить её решение. Вот что можно добавить:\n", "    \n", "* Описание целей и задачи проекта\n", "* Описание данных\n", "* План работы\n", "\n", "И рекомендую писать введение от первого лица множественного числа. Так работа выглядит более самостоятельной)\n", "</div>" ],
    "metadata" : {
      "cellId" : "b50vxf0npb670fa5btgfvn"
    }
  }, {
    "cell_type" : "markdown",
    "source" : [ "## Подготовка данных" ],
    "metadata" : {
      "cellId" : "dqxy3h575b72aicgg56tq2"
    }
  }, {
    "cell_type" : "code",
    "source" : [ "#загрузим потенциально необходимые библиотеки, метрики и т.д.:\n", "\n", "import pandas as pd\n", "import seaborn as sns\n", "import matplotlib.pyplot as plt\n", "from sklearn.model_selection import train_test_split\n", "from sklearn.preprocessing import StandardScaler\n", "\n", "#F-1 мера\n", "from sklearn.metrics import f1_score\n", "\n", "#AUC-ROC\n", "from sklearn.metrics import roc_auc_score\n", "\n", "#метрика accuracy\n", "from sklearn.metrics import accuracy_score\n", "\n", "#матрица ошибок\n", "from sklearn.metrics import confusion_matrix\n", "\n", "#полнота\n", "from sklearn.metrics import recall_score\n", "\n", "#точность\n", "from sklearn.metrics import precision_score\n", "\n", "#ROC-кривая\n", "from sklearn.metrics import roc_curve\n", "\n", "# смешение массивов \n", "from sklearn.utils import shuffle\n", "\n", "\n", "#импорт библиотек моделей:\n", "\n", "#Деревое решений\n", "from sklearn.tree import DecisionTreeClassifier\n", "\n", "#Случайный лес \n", "from sklearn.ensemble import RandomForestClassifier\n", "\n", "#Логистическая регрессия\n", "from sklearn.linear_model import LogisticRegression\n" ],
    "metadata" : {
      "cellId" : "qdl0zpjmi9ejseos00t25"
    },
    "outputs" : [ ],
    "execution_count" : 1
  }, {
    "cell_type" : "markdown",
    "source" : [ "<div class=\"alert alert-block alert-success\">\n", "<b>✔️ Успех:</b>\n", "\n", "Импорт выглядит отлично 👍\n", "</div>" ],
    "metadata" : {
      "cellId" : "k0mzx8d9tef1nf1255w6j1"
    }
  }, {
    "cell_type" : "markdown",
    "source" : [ "Загрузим и проанализируем имеющиеся данные." ],
    "metadata" : {
      "cellId" : "31hz65nrth5dxqxeis30n"
    }
  }, {
    "cell_type" : "code",
    "source" : [ "try:\n", "    data = pd.read_csv('/datasets/geo_data_0.csv')\n", "    data = pd.read_csv('/datasets/geo_data_0.csv')\n", "    data = pd.read_csv('/datasets/geo_data_0.csv')\n", "except:\n", "    print(\"Есть ошибки\")\n", "else:\n", "    print(\"Все загрузилось!\")\n", "    \n", "    \n", "    " ],
    "metadata" : {
      "cellId" : "x3uwqqjs651wkylkicldv"
    },
    "outputs" : [ ],
    "execution_count" : 2
  }, {
    "cell_type" : "code",
    "source" : [ ],
    "metadata" : {
      "cellId" : "80uczh6kuwn0wjvmeekgz9f"
    },
    "outputs" : [ ],
    "execution_count" : 3
  }, {
    "cell_type" : "code",
    "source" : [ "data.describe(include=\"all\")" ],
    "metadata" : {
      "cellId" : "j5q0qawkbir9qv384uyq5"
    },
    "outputs" : [ ],
    "execution_count" : 4
  }, {
    "cell_type" : "markdown",
    "source" : [ "Заполним недостающие значения нулевыми, проверим количество уникальных значений и дубликатов." ],
    "metadata" : {
      "cellId" : "blazplxdltvhzrd4q4s2mg"
    }
  }, {
    "cell_type" : "code",
    "source" : [ "data['Tenure']=data['Tenure'].fillna(0).astype('int')" ],
    "metadata" : {
      "cellId" : "rece5k15gydru1ptdgel38"
    },
    "outputs" : [ ],
    "execution_count" : 5
  }, {
    "cell_type" : "code",
    "source" : [ "data['Tenure'].unique()" ],
    "metadata" : {
      "cellId" : "urcfesopyp1rfb4j9tzia"
    },
    "outputs" : [ ],
    "execution_count" : 6
  }, {
    "cell_type" : "markdown",
    "source" : [ "<div class=\"alert alert-block alert-success\">\n", "<b>✔️ Успех:</b>\n", "    \n", "Согласен с таким заполнением 👍\n", "</div>" ],
    "metadata" : {
      "cellId" : "kf98c1ytct03o2s3wzdggn"
    }
  }, {
    "cell_type" : "code",
    "source" : [ "data['Geography'].unique()" ],
    "metadata" : {
      "cellId" : "ag9ydw1otp0l8fp7rsviep"
    },
    "outputs" : [ ],
    "execution_count" : 7
  }, {
    "cell_type" : "code",
    "source" : [ "data.isnull().sum()" ],
    "metadata" : {
      "cellId" : "03ft36uk35l93sa3tunzd9b"
    },
    "outputs" : [ ],
    "execution_count" : 8
  }, {
    "cell_type" : "code",
    "source" : [ "data.shape" ],
    "metadata" : {
      "cellId" : "tcs736wa6yqca2tdkih1l"
    },
    "outputs" : [ ],
    "execution_count" : 9
  }, {
    "cell_type" : "markdown",
    "source" : [ "В таблице 14 столбцов и 10000 строк." ],
    "metadata" : {
      "cellId" : "nzo503q413oid0c4q4q82t"
    }
  }, {
    "cell_type" : "code",
    "source" : [ "data.duplicated().sum()" ],
    "metadata" : {
      "cellId" : "6678ef0rl2mk4q76nvpjx"
    },
    "outputs" : [ ],
    "execution_count" : 10
  }, {
    "cell_type" : "markdown",
    "source" : [ "Дупликатов в данных не обнаружено." ],
    "metadata" : {
      "cellId" : "9z5u69u6vk977hsb02s8rw"
    }
  }, {
    "cell_type" : "markdown",
    "source" : [ "Построим матрицу корреляций" ],
    "metadata" : {
      "cellId" : "1yu58lqesrzsteme8f1e8a"
    }
  }, {
    "cell_type" : "code",
    "source" : [ "data\\\n", "    .corr()\\\n", "    .style\\\n", "    .background_gradient(cmap=\"Spectral\" )" ],
    "metadata" : {
      "cellId" : "aro7s6ekwbriw3o1300ic"
    },
    "outputs" : [ ],
    "execution_count" : 11
  }, {
    "cell_type" : "markdown",
    "source" : [ "Построим графики зависимостей значений в таблице для наглядного представления о распределнии данных" ],
    "metadata" : {
      "cellId" : "x188t4vk6kypcodz444yf"
    }
  }, {
    "cell_type" : "code",
    "source" : [ "pd.set_option('chained_assignment',None) " ],
    "metadata" : {
      "cellId" : "m8dz1v67ee5w2nn889amp"
    },
    "outputs" : [ ],
    "execution_count" : 12
  }, {
    "cell_type" : "code",
    "source" : [ "table_graph = data.drop(['RowNumber','CustomerId','HasCrCard','IsActiveMember','NumOfProducts'], axis=1)" ],
    "metadata" : {
      "cellId" : "s30uxharw4gznz0u295ay"
    },
    "outputs" : [ ],
    "execution_count" : 13
  }, {
    "cell_type" : "code",
    "source" : [ "print('Графики зависимости параметров в данных')\n", "sns.pairplot(table_graph, hue='Exited', height= 4, diag_kind='hist')\n", "plt.show()" ],
    "metadata" : {
      "cellId" : "jy6txwyuq5hwivm82awqd"
    },
    "outputs" : [ ],
    "execution_count" : 14
  }, {
    "cell_type" : "markdown",
    "source" : [ "<div class=\"alert alert-block alert-success\">\n", "<b>✔️ Успех:</b>\n", "\n", "Ты хорошо владеешь методами первичного анализа данных 👍\n", "</div>" ],
    "metadata" : {
      "cellId" : "f73tq4q9gk6ixz69xumc8"
    }
  }, {
    "cell_type" : "markdown",
    "source" : [ "Сохраним новый датафрейм \"data_bank\" (данные для машинного обучения). Удалим столбцы (идентификаторы). " ],
    "metadata" : {
      "cellId" : "ajyqbxqbrztslv9zs0oa6q"
    }
  }, {
    "cell_type" : "code",
    "source" : [ "for_drop = ['RowNumber','CustomerId', 'Surname']\n", "data_bank = data.drop(for_drop, axis=1)\n", "data_bank.head()" ],
    "metadata" : {
      "cellId" : "m0tjplstqsf0genaxpr3k"
    },
    "outputs" : [ ],
    "execution_count" : 15
  }, {
    "cell_type" : "code",
    "source" : [ "data_bank.shape" ],
    "metadata" : {
      "cellId" : "tzvzxjbyuwqo6n1nlfurdd"
    },
    "outputs" : [ ],
    "execution_count" : 16
  }, {
    "cell_type" : "markdown",
    "source" : [ "<div class=\"alert alert-block alert-success\">\n", "<b>✔️ Успех:</b>\n", "\n", "Удалить неинформативные признаки - хорошее решение 👍\n", "</div>" ],
    "metadata" : {
      "cellId" : "do4te25punhwug9und5l6a"
    }
  }, {
    "cell_type" : "markdown",
    "source" : [ "Подготовим данные методом \"OHE\" и используем модели: Деревое решений, Случайный лес, Логистическую регрессию." ],
    "metadata" : {
      "cellId" : "dh3fugs8x37dfj4knzql18"
    }
  }, {
    "cell_type" : "code",
    "source" : [ "data_bank = pd.get_dummies(data_bank, drop_first=True)\n", "data_bank.head()" ],
    "metadata" : {
      "cellId" : "msmugzcc6dpt3n80ghiuc"
    },
    "outputs" : [ ],
    "execution_count" : 17
  }, {
    "cell_type" : "code",
    "source" : [ "data_bank.shape" ],
    "metadata" : {
      "cellId" : "ia7hia9cdqtvdkmmdayl"
    },
    "outputs" : [ ],
    "execution_count" : 18
  }, {
    "cell_type" : "markdown",
    "source" : [ "В новом датафрейме мы получили 12 столбцов. \"Geography\" содержал - три класса, \"Gender_Male\"-  два класса — в результате мы получили только 2 и 1 столбцов соответственно,это позволит избежать дамиловушки." ],
    "metadata" : {
      "cellId" : "mlv71lqp5o3p01hxpdl6q"
    }
  }, {
    "cell_type" : "markdown",
    "source" : [ "<div class=\"alert alert-block alert-success\">\n", "<b>✔️ Успех:</b>\n", "\n", "В данном случае это наиболее подходящий способ закодировать категориальные колонки 👍\n", "</div>" ],
    "metadata" : {
      "cellId" : "gbrkprh2c4vn064x5oohic"
    }
  }, {
    "cell_type" : "markdown",
    "source" : [ "Формирование выборок: обучающая, валидационная, тестовая.В нашем случае нет отдельной тестовой выборки, существющие данные мы делим на три выборки:Обучающая( 60%) для бучения модели, Валидационная (20%) для выбора лучшего алгоритма и оптимальных параметров, Тестовая (20%) для финального теста лучшей модели." ],
    "metadata" : {
      "cellId" : "cm09jo9l158pg14lxbyh3"
    }
  }, {
    "cell_type" : "markdown",
    "source" : [ "Разделим на признаки и целевой признак" ],
    "metadata" : {
      "cellId" : "t8ojgvlvqxdq9gcnjq9foj"
    }
  }, {
    "cell_type" : "code",
    "source" : [ "features = data_bank.drop('Exited', axis=1)\n", "target = data_bank['Exited']" ],
    "metadata" : {
      "cellId" : "96pdn3ubppgp6j5yl5lzt"
    },
    "outputs" : [ ],
    "execution_count" : 19
  }, {
    "cell_type" : "code",
    "source" : [ "features.head()" ],
    "metadata" : {
      "cellId" : "u0t52wea3osho7le0jbzq"
    },
    "outputs" : [ ],
    "execution_count" : 20
  }, {
    "cell_type" : "code",
    "source" : [ "target.head()" ],
    "metadata" : {
      "cellId" : "nz5khzrvexbmha0arnacr"
    },
    "outputs" : [ ],
    "execution_count" : 21
  }, {
    "cell_type" : "markdown",
    "source" : [ "Разделение выборки произведем в два этапа:\n", "1. Выделим Валидационную 60%.\n", "2. Разделим оставшиеся 40% на две равные части (Валидационная и Тестовая)." ],
    "metadata" : {
      "cellId" : "alou9mq1nk75cfehmal72"
    }
  }, {
    "cell_type" : "code",
    "source" : [ "#Выделим Валидационную выборку (60%)\n", "features_train, features_validtest, target_train, target_validtest = train_test_split(features,\n", "                                                    target,\n", "                                                    train_size=0.6,\n", "                                                    random_state=12345, \n", "                                                    stratify=target)" ],
    "metadata" : {
      "cellId" : "vf7y9nakpmfqu80f4iyf9"
    },
    "outputs" : [ ],
    "execution_count" : 22
  }, {
    "cell_type" : "code",
    "source" : [ "print('Признаки Обучающей выборки:',features_train.shape,  \n", "      'Целевой признак Обучающей выборки:', target_train.shape, \n", "      'Валидационная и Тестовая', features_validtest.shape, target_validtest.shape)" ],
    "metadata" : {
      "cellId" : "jonr91svnkb3lu7mhacpwg"
    },
    "outputs" : [ ],
    "execution_count" : 23
  }, {
    "cell_type" : "code",
    "source" : [ "#Разделим оставшиеся 40% на две равные части (Валидационная и Тестовая)\n", "features_valid, features_test, target_valid, target_test = train_test_split(features_validtest,\n", "                                                    target_validtest,\n", "                                                    train_size=0.5,\n", "                                                    random_state=12345, \n", "                                                    stratify=target_validtest)" ],
    "metadata" : {
      "cellId" : "uui1wpitm1r4ov97tni0ph"
    },
    "outputs" : [ ],
    "execution_count" : 24
  }, {
    "cell_type" : "code",
    "source" : [ "print(features_valid.shape, target_valid.shape, features_test.shape, target_test.shape)" ],
    "metadata" : {
      "cellId" : "ke55me25nqk1dibvyd0q8"
    },
    "outputs" : [ ],
    "execution_count" : 25
  }, {
    "cell_type" : "markdown",
    "source" : [ "Выборки:\n", "\n", "- Обучающая:\n", "features_train\n", "target_train\n", "\n", "- Валидационная:\n", "features_valid\n", "target_valid\n", "\n", "- Тестовая:\n", "features_test\n", "target_test" ],
    "metadata" : {
      "cellId" : "phhj1sels2tvr5xkf1s5m"
    }
  }, {
    "cell_type" : "markdown",
    "source" : [ "<div class=\"alert alert-block alert-success\">\n", "<b>✔️ Успех:</b> \n", "\n", "Данные поделены верно, пропорции выбраны адекватные 👍\n", "</div>" ],
    "metadata" : {
      "cellId" : "7n9c14otu3ccpzy6htkvoi"
    }
  }, {
    "cell_type" : "code",
    "source" : [ "# маштабирование признаков:\n", "features_train.head()" ],
    "metadata" : {
      "cellId" : "dl3vyb25zt7lptwjs66gsp"
    },
    "outputs" : [ ],
    "execution_count" : 26
  }, {
    "cell_type" : "code",
    "source" : [ "#зафиксируем численные признаки\n", "numeric = ['CreditScore', 'Age', 'Tenure', 'Balance', 'NumOfProducts', 'EstimatedSalary']" ],
    "metadata" : {
      "cellId" : "wyj7lpbbfrbqlsw7h3skff"
    },
    "outputs" : [ ],
    "execution_count" : 27
  }, {
    "cell_type" : "code",
    "source" : [ "#создадим объект этой структуры и настроим его на Обучающих данных:\n", "scaler = StandardScaler()\n", "scaler.fit(features_train[numeric])" ],
    "metadata" : {
      "cellId" : "j9mf9fhumshra010dj73n"
    },
    "outputs" : [ ],
    "execution_count" : 28
  }, {
    "cell_type" : "code",
    "source" : [ "#масштабируем численные признаки Обучающей выборки \n", "features_train[numeric] = scaler.transform(features_train[numeric])\n", "features_train.head()" ],
    "metadata" : {
      "cellId" : "90k8ffdlzk4jmypxs0lh9"
    },
    "outputs" : [ ],
    "execution_count" : 29
  }, {
    "cell_type" : "code",
    "source" : [ "#масштабируем численные признаки Валидационной выборки \n", "features_valid[numeric] = scaler.transform(features_valid[numeric])\n", "features_valid.head()" ],
    "metadata" : {
      "cellId" : "hioupxunq2kj8gby0gzsdb"
    },
    "outputs" : [ ],
    "execution_count" : 30
  }, {
    "cell_type" : "code",
    "source" : [ "#масштабируем численные признаки Тестовой выборки \n", "features_test[numeric] = scaler.transform(features_test[numeric])\n", "features_test.head()" ],
    "metadata" : {
      "cellId" : "buclxlxb0q617pp7w5wgi"
    },
    "outputs" : [ ],
    "execution_count" : 31
  }, {
    "cell_type" : "markdown",
    "source" : [ "Получили масштабированные признаки для трех выборок. " ],
    "metadata" : {
      "cellId" : "fgm38dtx1z58f4amz4at8"
    }
  }, {
    "cell_type" : "markdown",
    "source" : [ "<div class=\"alert alert-block alert-success\">\n", "<b>✔️ Успех:</b>\n", "\n", "Отлично, признаки масштабированы 👍 Не забыли, что fit нужно делать только на train выборке.\n", "</div>" ],
    "metadata" : {
      "cellId" : "hic7tq8ofpaim1fe0kgea"
    }
  }, {
    "cell_type" : "markdown",
    "source" : [ "## Исследование задачи" ],
    "metadata" : {
      "cellId" : "kkk7s6x0lctc6af3z80imh"
    }
  }, {
    "cell_type" : "markdown",
    "source" : [ "Задача: \n", "- Нужно спрогнозировать, уйдёт клиент из банка в ближайшее время или нет. \n", "Вам предоставлены исторические данные о поведении клиентов и расторжении договоров с банком.\n", "Постройте модель с предельно большим значением F1-меры. \n", "- Чтобы сдать проект успешно, нужно довести метрику до 0.59. Проверьте F1-меру на тестовой выборке самостоятельно.Дополнительно измеряйте AUC-ROC, сравнивайте её значение с F1-мерой.\n", "- Для исследовательского обучения используем три модели.\n" ],
    "metadata" : {
      "cellId" : "kxqctbc16xicaufitv70b"
    }
  }, {
    "cell_type" : "markdown",
    "source" : [ "Обучение и точность моделей" ],
    "metadata" : {
      "cellId" : "7hn0rmw4fyietmred6unir"
    }
  }, {
    "cell_type" : "code",
    "source" : [ "def all_models_accuracy(features_train, target_train, features_valid, target_valid):\n", "    model_DTC = DecisionTreeClassifier(random_state=123)\n", "    DTC_score = model_DTC.fit(features_train, target_train).score(features_valid, target_valid)\n", "   \n", "    model_RFC = RandomForestClassifier(random_state=12345, n_estimators = 100)\n", "    RFC_score = model_RFC.fit(features_train, target_train).score(features_valid, target_valid)\n", "    \n", "    model_LgR = LogisticRegression(solver = 'liblinear')\n", "    LgR_score = model_LgR.fit(features_train, target_train).score(features_valid, target_valid)\n", "    print(\"Точность:\" \"Дерево решений\", DTC_score, \"Случайный лес \", RFC_score, \"Логистческая регрессия\", LgR_score)" ],
    "metadata" : {
      "cellId" : "d4bttf1sio5mpps71vgvt"
    },
    "outputs" : [ ],
    "execution_count" : 32
  }, {
    "cell_type" : "code",
    "source" : [ "all_models_accuracy(features_train, target_train, features_valid, target_valid)" ],
    "metadata" : {
      "cellId" : "hg9m212dm7rxwo2pydlz49"
    },
    "outputs" : [ ],
    "execution_count" : 33
  }, {
    "cell_type" : "markdown",
    "source" : [ "Проверка баланса классов выборки" ],
    "metadata" : {
      "cellId" : "a94dpkj4phjg9bncbiacpn"
    }
  }, {
    "cell_type" : "code",
    "source" : [ "target_train.value_counts(normalize = 1)" ],
    "metadata" : {
      "cellId" : "tg0o8q1ozhmogc280eeq58"
    },
    "outputs" : [ ],
    "execution_count" : 34
  }, {
    "cell_type" : "code",
    "source" : [ "target_valid.value_counts(normalize = 1)" ],
    "metadata" : {
      "cellId" : "h6jtyict5l59h9v5z942yd"
    },
    "outputs" : [ ],
    "execution_count" : 35
  }, {
    "cell_type" : "markdown",
    "source" : [ "У обучающией и валидационной выборок дисбаланс класов. Ответы 0 ≈80% , 1 ≈ 20%. По всей вероятности, результаты предсказаний моделей будут сильно склоняться к одному варианту ответов." ],
    "metadata" : {
      "cellId" : "lpotjmjli6sb3u2ic2kb"
    }
  }, {
    "cell_type" : "markdown",
    "source" : [ "<div class=\"alert alert-block alert-success\">\n", "<b>✔️ Успех:</b>\n", "\n", "Виден явный дисбаланс классов в пользу отрицательного класса. Если мы будем всех людей прогнозировать, что они не уйдут из банка, то в 80% случаев мы будем правы.\n", "</div>" ],
    "metadata" : {
      "cellId" : "lkag30ay13oa6btowf2vg"
    }
  }, {
    "cell_type" : "markdown",
    "source" : [ "Проверка адекватности: какое соотношение ответов выдает каждая из моделей." ],
    "metadata" : {
      "cellId" : "6k1a7wqhir0gsf7yihjgi"
    }
  }, {
    "cell_type" : "code",
    "source" : [ "def all_models_share(features_train, target_train, features_valid, target_valid):\n", "    model_DTC = DecisionTreeClassifier(random_state=123)\n", "    model_DTC.fit(features_train, target_train)\n", "    DTC_share = pd.Series(model_DTC.predict(features_valid)).value_counts(normalize = 1)\n", "    \n", "    model_RFC = RandomForestClassifier(random_state=12345, n_estimators = 100)\n", "    model_RFC.fit(features_train, target_train)\n", "    RFC_share = pd.Series(model_RFC.predict(features_valid)).value_counts(normalize = 1)\n", "    \n", "    model_LgR = LogisticRegression(solver = 'liblinear')\n", "    model_LgR.fit(features_train, target_train)\n", "    LgR_share = pd.Series(model_LgR.predict(features_valid)).value_counts(normalize = 1)\n", "    print(\"Доли ответов:\" \"Дерево решений\", DTC_share, \"Случайный лес \", RFC_share, \"Логистческая регрессия\", LgR_share , end='')" ],
    "metadata" : {
      "cellId" : "t380byl15rg1x37qmys9p1"
    },
    "outputs" : [ ],
    "execution_count" : 36
  }, {
    "cell_type" : "code",
    "source" : [ "all_models_share(features_train, target_train, features_valid, target_valid)" ],
    "metadata" : {
      "cellId" : "g436vcusrx7jkuiopvhtv"
    },
    "outputs" : [ ],
    "execution_count" : 37
  }, {
    "cell_type" : "markdown",
    "source" : [ "Самую высокую точность показала Логистичесая регрессия.\n", "Сравним качество предсказаний с Константной моделью. \n", "За константу примем 0, так как это значение встречается 80% случаев." ],
    "metadata" : {
      "cellId" : "mtbhm7psct95l41p71u8d"
    }
  }, {
    "cell_type" : "code",
    "source" : [ "#создаем Константную модель\n", "target_predict_constant = pd.Series([0]*len(target_valid))\n", "target_predict_constant.shape" ],
    "metadata" : {
      "cellId" : "j101d3nsjws6vsfldyb0an"
    },
    "outputs" : [ ],
    "execution_count" : 38
  }, {
    "cell_type" : "code",
    "source" : [ "accuracy_score_constant = accuracy_score(target_valid, target_predict_constant)\n", "accuracy_score_constant" ],
    "metadata" : {
      "cellId" : "lefn03x8r4k57r1r2xdclh"
    },
    "outputs" : [ ],
    "execution_count" : 39
  }, {
    "cell_type" : "markdown",
    "source" : [ "Точность Константной модели: 0.796" ],
    "metadata" : {
      "cellId" : "ars8tokg4kmmogvt9cldu9"
    }
  }, {
    "cell_type" : "code",
    "source" : [ "#матрица ошибок для Дерева решений\n", "model_DTC = DecisionTreeClassifier(random_state=123)\n", "model_DTC.fit(features_train, target_train)\n", "DTC_prediction = model_DTC.predict(features_valid)\n", "confusion_matrix(target_valid, DTC_prediction)" ],
    "metadata" : {
      "cellId" : "7xg1esfbrubaozk43sypit"
    },
    "outputs" : [ ],
    "execution_count" : 40
  }, {
    "cell_type" : "markdown",
    "source" : [ "Дерево решений склонно выдавать позитивные предсказания, \n", "очень высокое количество ложных позитивных предсказания (FP).\n", "Изучим полноту, точность и F1-меру." ],
    "metadata" : {
      "cellId" : "l3cic3gce1ew6i8gwoxap"
    }
  }, {
    "cell_type" : "code",
    "source" : [ "def rec_prec_f1(target_valid, prediction):\n", "    print(\"Полнота\" , recall_score(target_valid, prediction))\n", "    print(\"Точность\", precision_score(target_valid, prediction))\n", "    print(\"F1-мера\", f1_score(target_valid, prediction))\n", "    print(\"AUC-ROC\", roc_auc_score(target_valid, prediction))" ],
    "metadata" : {
      "cellId" : "3plhkdrvrgnx0izx57eu4i"
    },
    "outputs" : [ ],
    "execution_count" : 41
  }, {
    "cell_type" : "code",
    "source" : [ "#полнота, точность и F1-мера для Дерева решений\n", "rec_prec_f1(target_valid, DTC_prediction)" ],
    "metadata" : {
      "cellId" : "w7cko57elriwyc9yw6o5r"
    },
    "outputs" : [ ],
    "execution_count" : 42
  }, {
    "cell_type" : "markdown",
    "source" : [ "Низкое значние F1- меры свидетельствует о низком качестве модели." ],
    "metadata" : {
      "cellId" : "syheishqctgrk7nmhxqgg"
    }
  }, {
    "cell_type" : "code",
    "source" : [ "#матрица ошибок для Случайного леса\n", "model_RFC = RandomForestClassifier(random_state=12345, n_estimators = 100)\n", "model_RFC.fit(features_train, target_train)\n", "RFC_prediction = model_RFC.predict(features_valid)\n", "confusion_matrix(target_valid, RFC_prediction)" ],
    "metadata" : {
      "cellId" : "zp07duonj1shn4idgu4xwq"
    },
    "outputs" : [ ],
    "execution_count" : 43
  }, {
    "cell_type" : "markdown",
    "source" : [ "Случайный лес имеет почти равную пропорцию позитивных и негативных предсказаний, \n", "выдает заметно больше качественных предсказаний, но есть ложнопозитивные предсказания (FP)." ],
    "metadata" : {
      "cellId" : "hw92bk2s4aj7p6u7ubtf6"
    }
  }, {
    "cell_type" : "code",
    "source" : [ "#полнота, точность и F1-мера для Случайного леса:\n", "rec_prec_f1(target_valid, RFC_prediction)" ],
    "metadata" : {
      "cellId" : "st2yfpsqujawlpb9azdbl"
    },
    "outputs" : [ ],
    "execution_count" : 44
  }, {
    "cell_type" : "markdown",
    "source" : [ "Низкое значние F1- меры свидетельствует о низком качестве модели, проблема в точности." ],
    "metadata" : {
      "cellId" : "w2eosjdt2yht0igydnuu8h"
    }
  }, {
    "cell_type" : "code",
    "source" : [ "#матрица ошибок для Логистической регрессии:\n", "model_LgR = LogisticRegression(solver = 'liblinear')\n", "model_LgR.fit(features_train, target_train)\n", "LgR_prediction = model_LgR.predict(features_valid)\n", "confusion_matrix(target_valid, LgR_prediction)" ],
    "metadata" : {
      "cellId" : "06g1ge34gwaqdokcj6i7j3"
    },
    "outputs" : [ ],
    "execution_count" : 45
  }, {
    "cell_type" : "code",
    "source" : [ "#Для Логистической регрессии расчитаем метрику AUC-ROC\n", "LgR_probabilities_one_valid = model_LgR.predict_proba(features_valid)[:, 1]\n", "auc_roc_LgR = roc_auc_score(target_valid, LgR_probabilities_one_valid)\n", "auc_roc_LgR" ],
    "metadata" : {
      "cellId" : "oeswbxne8vrab1dglyei9u"
    },
    "outputs" : [ ],
    "execution_count" : 46
  }, {
    "cell_type" : "code",
    "source" : [ "fpr, tpr, thresholds = roc_curve(target_valid, LgR_probabilities_one_valid) \n", "plt.figure()\n", "plt.plot(fpr, tpr)\n", "plt.plot([0, 1], [0, 1], linestyle='--')\n", "plt.xlim([0.0, 1.0])\n", "plt.ylim([0.0, 1.0])\n", "plt.xlabel('False Positive Rate')\n", "plt.ylabel('True Positive Rate')\n", "plt.title('ROC-кривая')\n", "plt.show()" ],
    "metadata" : {
      "cellId" : "gj7kjrx3en6qas9g5lf1c"
    },
    "outputs" : [ ],
    "execution_count" : 47
  }, {
    "cell_type" : "code",
    "source" : [ "LgR_probabilities_one_valid = model_LgR.predict_proba(features_valid)[:, 1]\n", "auc_roc_LgR = roc_auc_score(target_valid, LgR_probabilities_one_valid)\n", "auc_roc_LgR" ],
    "metadata" : {
      "cellId" : "sgqaoj8ms4lah6rzrqhs57"
    },
    "outputs" : [ ],
    "execution_count" : 48
  }, {
    "cell_type" : "code",
    "source" : [ "fpr, tpr, thresholds = roc_curve(target_valid, LgR_probabilities_one_valid) \n", "\n", "plt.figure()\n", "plt.plot(fpr, tpr)\n", "plt.plot([0, 1], [0, 1], linestyle='--')\n", "plt.xlim([0.0, 1.0])\n", "plt.ylim([0.0, 1.0])\n", "plt.xlabel('False Positive Rate')\n", "plt.ylabel('True Positive Rate')\n", "plt.title('ROC-кривая')\n", "plt.show()" ],
    "metadata" : {
      "cellId" : "3tfp7ry2mewtl84z2i2srq"
    },
    "outputs" : [ ],
    "execution_count" : 49
  }, {
    "cell_type" : "code",
    "source" : [ "#обучим Логистическую регресию \n", "model_LgR = LogisticRegression(solver = 'liblinear', class_weight='balanced')\n", "model_LgR.fit(features_train, target_train)\n", "LgR_probabilities_one_valid_class_weight = model_LgR.predict_proba(features_valid)[:, 1]\n", "print(\"Score\", model_LgR.score(features_valid, target_valid))\n", "print(\"AUC-ROC\", roc_auc_score(target_valid, LgR_probabilities_one_valid_class_weight))\n", "\n", "fpr, tpr, thresholds = roc_curve(target_valid, LgR_probabilities_one_valid_class_weight) \n", "plt.figure()\n", "plt.plot(fpr, tpr)\n", "plt.plot([0, 1], [0, 1], linestyle='--')\n", "plt.xlim([0.0, 1.0])\n", "plt.ylim([0.0, 1.0])\n", "plt.xlabel('False Positive Rate')\n", "plt.ylabel('True Positive Rate')\n", "plt.title('ROC-кривая')\n", "plt.show()" ],
    "metadata" : {
      "cellId" : "v42a1lf7h819nrcia774li"
    },
    "outputs" : [ ],
    "execution_count" : 50
  }, {
    "cell_type" : "markdown",
    "source" : [ "Точность предсказаний не улучшилась.Логистическая регрессия выдает негативные предсказания, высокая точность  объясняется высокой долей негативных ответов в валидационной выборке." ],
    "metadata" : {
      "cellId" : "b8wfz6kcvb792brlttign"
    }
  }, {
    "cell_type" : "markdown",
    "source" : [ "<div class=\"alert alert-block alert-success\">\n", "<b>✔️ Успех:</b>\n", "\n", "Модели обучены корректно 👍\n", "</div>" ],
    "metadata" : {
      "cellId" : "sbea8ikxjjibiylj2lu90u"
    }
  }, {
    "cell_type" : "markdown",
    "source" : [ "## Борьба с дисбалансом" ],
    "metadata" : {
      "cellId" : "q3fem4cf3zewqr2m64bw3p"
    }
  }, {
    "cell_type" : "markdown",
    "source" : [ "Увеличим количество положительных ответов для достижения баланса.\n", "- Разделим на отрицательные и положительные объекты обучающую выборку;\n", "- Скопируем положительные объекты;\n", "- Создадим новую обучающую выборку;\n", "- Перемешаем данные;\n", "- Обучим новые модели." ],
    "metadata" : {
      "cellId" : "ss9mv5cx55yq4kpl6lx8k"
    }
  }, {
    "cell_type" : "code",
    "source" : [ "#ознакомимся с пероначальным распределением классов\n", "target_train.value_counts(normalize = 1)" ],
    "metadata" : {
      "cellId" : "wwyt28ygkg23ikzxrjlxf"
    },
    "outputs" : [ ],
    "execution_count" : 51
  }, {
    "cell_type" : "code",
    "source" : [ "target_train.shape" ],
    "metadata" : {
      "cellId" : "9x52yxit529o6307byhvcl"
    },
    "outputs" : [ ],
    "execution_count" : 52
  }, {
    "cell_type" : "code",
    "source" : [ "target_train.plot(kind ='hist', bins=2, figsize=(1,1))" ],
    "metadata" : {
      "cellId" : "8hjfkv2gti4stf9i4kryif"
    },
    "outputs" : [ ],
    "execution_count" : 53
  }, {
    "cell_type" : "code",
    "source" : [ "#создадим функцию для увеличения представленного класса в выборке \n", "def upsample(features, target, repeat, upsampled_сlass):\n", "    features_zeros = features[target == 0]\n", "    features_ones = features[target == 1]\n", "    target_zeros = target[target == 0]\n", "    target_ones = target[target == 1]\n", "    \n", "    if upsampled_сlass == 0:\n", "        features_upsampled = pd.concat([features_zeros]* repeat + [features_ones] )\n", "        target_upsampled = pd.concat([target_zeros]* repeat + [target_ones] )\n", "        features_upsampled, target_upsampled = shuffle(\n", "        features_upsampled, target_upsampled, random_state=12345)\n", "        \n", "    elif upsampled_сlass == 1:\n", "        features_upsampled = pd.concat([features_zeros] + [features_ones] * repeat)\n", "        target_upsampled = pd.concat([target_zeros] + [target_ones] * repeat)\n", "        features_upsampled, target_upsampled = shuffle(\n", "        features_upsampled, target_upsampled, random_state=12345)\n", "    else:\n", "        features_upsampled = 0\n", "        target_upsampled = 0  \n", "        \n", "    return features_upsampled, target_upsampled\n", "    \"Функция принимаем значение признаков (features[]), целевого признака (target[]), repeat(int / float), \"\n", "    \" класс который будет увеличен (upsampled_сlass (0 or 1))\"" ],
    "metadata" : {
      "cellId" : "6jgjjupr8hsrztu01gf3op"
    },
    "outputs" : [ ],
    "execution_count" : 54
  }, {
    "cell_type" : "code",
    "source" : [ "#протестируем функцию \n", "features_train_upsampled, target_train_upsampled = upsample(features_train, target_train, 4, 0)\n", "print(target_train_upsampled.value_counts(normalize = 1))\n", "print(target_train_upsampled.shape)" ],
    "metadata" : {
      "cellId" : "b3tgctuszzda2l6kewk2sg"
    },
    "outputs" : [ ],
    "execution_count" : 55
  }, {
    "cell_type" : "code",
    "source" : [ "#протестируем функцию (верное значение)\n", "features_train_upsampled, target_train_upsampled = upsample(features_train, target_train, 4, 3)\n", "features_train_upsampled" ],
    "metadata" : {
      "cellId" : "efo83vxlo465i29x3kihjy"
    },
    "outputs" : [ ],
    "execution_count" : 56
  }, {
    "cell_type" : "code",
    "source" : [ "#применим функцию upsample, увеличим количество положительных ответов\n", "features_train_upsampled, target_train_upsampled = upsample(features_train, target_train, 4, 1)\n", "print(target_train_upsampled.value_counts(normalize = 1))\n", "print(target_train_upsampled.shape)" ],
    "metadata" : {
      "cellId" : "ebu28lyltt7qa1uxn26tr"
    },
    "outputs" : [ ],
    "execution_count" : 57
  }, {
    "cell_type" : "code",
    "source" : [ "target_train_upsampled.plot(kind ='hist', bins=2, figsize=(1,1))" ],
    "metadata" : {
      "cellId" : "h2n42mh1e1rln1cpirmq3"
    },
    "outputs" : [ ],
    "execution_count" : 58
  }, {
    "cell_type" : "markdown",
    "source" : [ "<div class=\"alert alert-block alert-success\">\n", "<b>✔️ Успех:</b>\n", "\n", "Увеличение выборки выполнено верно - классы сбалансированы 👍 \n", "</div>" ],
    "metadata" : {
      "cellId" : "6u2k1uthg7dq8fdb7eaboe"
    }
  }, {
    "cell_type" : "markdown",
    "source" : [ "Обучение моделей на сбаланированной выборке" ],
    "metadata" : {
      "cellId" : "t8klfg8b3g59c1rtmr1l"
    }
  }, {
    "cell_type" : "code",
    "source" : [ "#точность моделей на выборке с дисбалансом\n", "all_models_accuracy(features_train, target_train, features_valid, target_valid)" ],
    "metadata" : {
      "cellId" : "260drphf2ypsu01tb5e24"
    },
    "outputs" : [ ],
    "execution_count" : 59
  }, {
    "cell_type" : "code",
    "source" : [ "#точность моделей на сбалансированной выборке\n", "all_models_accuracy(features_train_upsampled, target_train_upsampled, features_valid, target_valid)" ],
    "metadata" : {
      "cellId" : "jz2yd1nao2g813tafi3srk"
    },
    "outputs" : [ ],
    "execution_count" : 60
  }, {
    "cell_type" : "markdown",
    "source" : [ "Точность моделей изменились незначительно,  проверим  качество ответов." ],
    "metadata" : {
      "cellId" : "7do4n1z7fusc31t705s1xo"
    }
  }, {
    "cell_type" : "markdown",
    "source" : [ "Качество предсказаний" ],
    "metadata" : {
      "cellId" : "45qcd3tq88yn59sswcv9z"
    }
  }, {
    "cell_type" : "code",
    "source" : [ "#решающее дерево\n", "model_DTC_upsampled = DecisionTreeClassifier(random_state=123)\n", "model_DTC_upsampled.fit(features_train_upsampled, target_train_upsampled)\n", "DTC_prediction_upsampled = model_DTC_upsampled.predict(features_valid)\n", "rec_prec_f1(target_valid, DTC_prediction_upsampled)" ],
    "metadata" : {
      "cellId" : "y9ndbgjwnfir6zpc5fj3mr"
    },
    "outputs" : [ ],
    "execution_count" : 61
  }, {
    "cell_type" : "code",
    "source" : [ "#случайный лес\n", "model_RFC_upsampled = RandomForestClassifier(random_state=12345, n_estimators = 100)\n", "model_RFC_upsampled.fit(features_train_upsampled, target_train_upsampled)\n", "RFC_prediction_upsampled = model_RFC_upsampled.predict(features_valid)\n", "rec_prec_f1(target_valid, RFC_prediction_upsampled)" ],
    "metadata" : {
      "cellId" : "0yc187jdekygq0xjbp5y6"
    },
    "outputs" : [ ],
    "execution_count" : 62
  }, {
    "cell_type" : "code",
    "source" : [ "#логистическая регрессия\n", "model_LgR_upsampled = LogisticRegression(solver = 'liblinear')\n", "model_LgR_upsampled.fit(features_train_upsampled, target_train_upsampled)\n", "LgR_prediction_upsampled = model_LgR_upsampled.predict(features_valid)\n", "rec_prec_f1(target_valid, LgR_prediction_upsampled)" ],
    "metadata" : {
      "cellId" : "f5m55v2xxp7hz4jllrq7zb"
    },
    "outputs" : [ ],
    "execution_count" : 63
  }, {
    "cell_type" : "markdown",
    "source" : [ "Показатели всех моделей улучшились, лучшие результаты показывает алгоритм Случайный лес.На валидационной выборке RandomForestClassifier показывает резульаты F1 меры = 0.60. Попробуем улучшить модель путем изменения параметров." ],
    "metadata" : {
      "cellId" : "x7nq44j47irkxb54fal3oc"
    }
  }, {
    "cell_type" : "code",
    "source" : [ "from itertools import product\n", "import tqdm" ],
    "metadata" : {
      "cellId" : "9gzyp063d7h9urx23rasg"
    },
    "outputs" : [ ],
    "execution_count" : 64
  }, {
    "cell_type" : "code",
    "source" : [ "def RandomForestQuality(features_train, target_train, features_valid, target_valid):\n", "    \n", "    #параметры для перебора\n", "    bootstrap = [True, False]\n", "    class_weight = ['balanced', 'balanced_subsample', None]\n", "    max_features = ['auto', 'sqrt', 'log2'] \n", "    max_depth = [] #диапазон изменения параметра мксимальной глубины каждого дерева\n", "    for i in range(1, 20):\n", "        max_depth.append(i)\n", "\n", "    #метод itertools.product для перебора нескольких параметров\n", "    myproduct = product(bootstrap, class_weight, max_features, max_depth)\n", "    \n", "    #строки, котоыре будут наполняться циклом при переборе параметров\n", "    bootstrap_table = []\n", "    class_weight_table = []\n", "    features_table = []\n", "    depth_table = []\n", "    f1_table = []\n", "    recall_table = []\n", "    precision_table = []\n", "    score_train_table = []\n", "    score_valid_table = []\n", "    \n", "    #цикл перебора всех параметров: bootstrap, class_weight, max_features, max_depth\n", "    for p in tqdm.tqdm(myproduct,):\n", "        #Обучение модели\n", "        model_forest = RandomForestClassifier(\n", "            bootstrap=p[0] , class_weight= p[1], max_features = p[2], max_depth = p[3], \n", "            n_estimators = 10, random_state=12345)\n", "        model_forest.fit(features_train, target_train)\n", "        prediction = model_forest.predict(features_valid) #предсказание целевого признака\n", "        \n", "        #расчет параметров\n", "        f1 = f1_score(target_valid, prediction)\n", "        recall = recall_score(target_valid, prediction)\n", "        precision = precision_score(target_valid, prediction)\n", "        score_train = model_forest.score(features_train, target_train)\n", "        score_valid = model_forest.score(features_valid, target_valid)\n", "        \n", "        #внесение значиний параметров в строки\n", "        bootstrap_table.append(p[0])\n", "        class_weight_table.append(p[1])\n", "        features_table.append(p[2])\n", "        depth_table.append(p[3])\n", "\n", "        #внесение значений метрик в строки\n", "        f1_table.append(f1)\n", "        recall_table.append(recall)\n", "        precision_table.append(precision)\n", "        score_train_table.append(score_train)\n", "        score_valid_table.append(score_valid)\n", "               \n", "    \n", "    #объединение строк в датафрем\n", "    quality_table = pd.DataFrame(data = (\n", "        bootstrap_table, class_weight_table, features_table, depth_table, \n", "        f1_table, recall_table, precision_table, score_train_table, score_valid_table)).T\n", "    quality_table.columns = (\n", "        'bootstrap', 'class_weight', 'max_features', 'max_depth', 'f1', 'recall', 'precision', 'score_train', 'score_valid')\n", "    return quality_table\n", "\n", "    \"4 параметра: features_train, target_train — признаки и целевой признак обучающей выборки\"\n", "    \"features_valid, target_valid — признаки и целевой признак обучающей выборки\"" ],
    "metadata" : {
      "cellId" : "mffdrpp66rnc8m1v4skg8"
    },
    "outputs" : [ ],
    "execution_count" : 65
  }, {
    "cell_type" : "code",
    "source" : [ "%%time\n", "quality_table = RandomForestQuality(features_train_upsampled, target_train_upsampled, features_valid, target_valid)" ],
    "metadata" : {
      "cellId" : "wa09b9umghkphgxvu8x2s"
    },
    "outputs" : [ ],
    "execution_count" : 66
  }, {
    "cell_type" : "code",
    "source" : [ "quality_table.query('score_valid>=score_train').sort_values('f1', ascending = False).head()" ],
    "metadata" : {
      "cellId" : "b30ra88znnm1xmkd8pizlo"
    },
    "outputs" : [ ],
    "execution_count" : 67
  }, {
    "cell_type" : "markdown",
    "source" : [ "Лучшие параметры модели:\n", "model = RandomForestClassifier(bootstrap = True, class_weight = 'balanced', max_depth= 7, n_estimators = 10, random_state=12345).Параметр \"max_features\" не влияет на параметры модели, оставляем параметр без изменений (default= \"auto\")." ],
    "metadata" : {
      "cellId" : "zagg0adgsjc6mh6rajlc67"
    }
  }, {
    "cell_type" : "markdown",
    "source" : [ "<div class=\"alert alert-block alert-success\">\n", "<b>✔️ Успех:</b>\n", "\n", "Модель обучена верно 👍\n", "</div>" ],
    "metadata" : {
      "cellId" : "8njm6bjcwhgedeoefa5rea"
    }
  }, {
    "cell_type" : "markdown",
    "source" : [ "Обучим Финальную модель" ],
    "metadata" : {
      "cellId" : "cfxl5qha3i51rmimy05gi"
    }
  }, {
    "cell_type" : "code",
    "source" : [ "model_RFC_final = RandomForestClassifier(\n", "    bootstrap = True, class_weight = 'balanced', max_depth= 7,  n_estimators = 100, random_state=12345)\n", "model_RFC_final.fit(features_train_upsampled, target_train_upsampled)" ],
    "metadata" : {
      "cellId" : "rtfydx2nxbte7x2mzbbi"
    },
    "outputs" : [ ],
    "execution_count" : 68
  }, {
    "cell_type" : "code",
    "source" : [ "model_RFC_final_prediction = model_RFC_final.predict(features_valid)\n", "rec_prec_f1(target_valid, model_RFC_final_prediction)" ],
    "metadata" : {
      "cellId" : "6ummxkubtgb3g90ya6un"
    },
    "outputs" : [ ],
    "execution_count" : 69
  }, {
    "cell_type" : "markdown",
    "source" : [ "Проверим Финальную модель на адекватность" ],
    "metadata" : {
      "cellId" : "8q2sy3458umwvm1n0qcb2j"
    }
  }, {
    "cell_type" : "code",
    "source" : [ "#создадим Константную модель\n", "target_predict_constant = pd.Series([0]*len(target_valid))\n", "target_predict_constant.value_counts()" ],
    "metadata" : {
      "cellId" : "79hl7c02abm313lfq3ni9i"
    },
    "outputs" : [ ],
    "execution_count" : 70
  }, {
    "cell_type" : "code",
    "source" : [ "# сравним показатель точности (accuracy_score) Константной модели и Финальной\n", "print('accuracy_score константой модели:', accuracy_score(target_valid, target_predict_constant))\n", "print('accuracy_score финальной модели:', accuracy_score(target_valid, model_RFC_final_prediction))\n", "\n", "# сравним AUC-ROC — единственный параметр подающийся сравнению, Константная модель содержит только негативные ответы\n", "print('AUC-ROC Константой модели:', roc_auc_score(target_valid, target_predict_constant))\n", "print('AUC-ROC Финальной модели:', roc_auc_score(target_valid, model_RFC_final_prediction))" ],
    "metadata" : {
      "cellId" : "ok6w5k70nmaetvzriysvsi"
    },
    "outputs" : [ ],
    "execution_count" : 71
  }, {
    "cell_type" : "markdown",
    "source" : [ "Финальная модель показывает результаты лучше, чем Константная модель." ],
    "metadata" : {
      "cellId" : "s4gsr1r8vz97p1r3748ykb"
    }
  }, {
    "cell_type" : "markdown",
    "source" : [ "<div class=\"alert alert-block alert-success\">\n", "<b>✔️ Успех:</b>\n", "\n", "По модельной части замечаний нет!) Все этапы выполнены отлично 👍\n", "</div>" ],
    "metadata" : {
      "cellId" : "y5v5j5h8713f1f0sn1u4i"
    }
  }, {
    "cell_type" : "markdown",
    "source" : [ "## Тестирование модели" ],
    "metadata" : {
      "cellId" : "ex5qvr4y83ej8ni2dkt5ue"
    }
  }, {
    "cell_type" : "code",
    "source" : [ "model_RFC_final\n", "model_RFC_final_prediction = model_RFC_final.predict(features_test)\n", "rec_prec_f1(target_test, model_RFC_final_prediction)" ],
    "metadata" : {
      "cellId" : "fmya6zt2hpkz3vuonj44"
    },
    "outputs" : [ ],
    "execution_count" : 72
  }, {
    "cell_type" : "code",
    "source" : [ "final_model_probabilities_one = model_LgR.predict_proba(features_test)[:, 1]\n", "fpr, tpr, thresholds = roc_curve(target_test, final_model_probabilities_one) \n", "plt.figure()\n", "plt.plot(fpr, tpr)\n", "plt.plot([0, 1], [0, 1], linestyle='--')\n", "plt.xlim([0.0, 1.0])\n", "plt.ylim([0.0, 1.0])\n", "plt.xlabel('False Positive Rate')\n", "plt.ylabel('True Positive Rate')\n", "plt.title('ROC-кривая')\n", "plt.show()" ],
    "metadata" : {
      "cellId" : "fnd2eesdlujaw9kj1t2wdi"
    },
    "outputs" : [ ],
    "execution_count" : 73
  }, {
    "cell_type" : "markdown",
    "source" : [ "- Финальная модель достигла заданой метрики (F1 > 0.60).\n", "- Модель характеризуется высоким показателем полноты (0.719), поэтому она с высокой вероятностью предскажит уход клиента из банка.\n", "- Показатель точности = 0.519 (min = 0, max = 1) — модель верно предсказывает половину ухода клиентов и покрывает большое количество клиентов." ],
    "metadata" : {
      "cellId" : "y04xbk7zi9dp37qgshjisa"
    }
  }, {
    "cell_type" : "markdown",
    "source" : [ "Выводы\n", "\n", "Перед нами стояла задача создать модели предсказывающие поведение клиентов (уйдёт клиент из банка в ближайшее время или нет) на основе данных о поведении клиентов. Факт ухода клиента (Exited ) — категориальный признак, поэтому задача решалась методами классификации.\n", "Мы загрузили и подготовили данные, удалили лишнюю информацию. На этапе подготовки данных для обучения моделей была проведена работа по изучению качества данных и баланса распределения классов. Так же были применены различные способы для более качественного обучения наших моделей.\n", "Мы исследовали баланс классов, обучили модели без учёта дисбаланса. В первоначальных данных наблюдался значительный дисбаланс, из-за чего обученная на этих данных модель не проходила проверку на адекватность. Модели были с большими ошибками и низким качеством взвешенной величины (F1) — модели, показывали низкие результаты точности и полноты.\n", "Мы улучшили качество модели с учетом дисбаланса классов. Обучили разные модели с целью выбрать лучшую.\n", "Методом \"Upsampling\" мы устранили дисбаланс классов в обучающей выборки, увеличили количество значений позитивного класса, достигли баланса в обучеющей выборке. \n", "Все модели на новых данных показали результат выше, чем на несбалансированной выборке. Лучшие показатели были у модели Случайного леса. Улучшение этой модели происходило через цикл выбора параметров, которые показывали наиболее высокое значение F1- меры и не приводили модель к переобучению. Финальные параметры выбранной модели RandomForestClassifier(bootstrap = True, class_weight = 'balanced', max_depth= 7, n_estimators = 100, random_state=12345), по качетву предсказания вышла модель RandomForestClassifier c интересующим нас показателем F1 не менее 0.59 и показывает адекватные результаты.\n", "\n", "Таким образом, мы построили модель с предельно большим значением F1-меры и проверили её на адекватность в сравнении с Константной моделью. Модель характеризуется высоким показателем полноты, поэтому она с высокой вероятностью предскажет уход клиента из банка и будет способствовать оптимизации коммерческих показателей, связанных с обслуживанием клиентов.\n", "\n", "Важно, что модель покрывает большое количество клиентов, в данном случае это важнее, чем точность. Для улучшения модели необходимо использовать данные,характеризующие отношения клиента с банком в динамике.\n", "Несмотря на то, что показатель точности не высокий, модель верно предсказывает только половину ухода клиентов, полученная модель поможет банку лучше определять клиентов, которые могут уйти в ближайшее время, остановить скрытый отток клиентов, снизить «стоимость потерянных клиентов»,улучшить качество предлагаемых услуг, т.к. отток клиентов в банке  — это чёткий индикатор наличия недовольных клиентов.\n" ],
    "metadata" : {
      "cellId" : "22zgv9lymwfjkgpbw91po8"
    }
  }, {
    "cell_type" : "markdown",
    "source" : [ "<div class=\"alert alert-block alert-success\">\n", "<b>✔️ Успех:</b>\n", "\n", "Отличный результат 👍 \n", "</div>" ],
    "metadata" : {
      "cellId" : "sr1g0galpkalv2nn5n6s4c"
    }
  }, {
    "cell_type" : "markdown",
    "source" : [ "<div class=\"alert alert-block alert-danger\">\n", "<b>❌ Замечание:</b>\n", "\n", "Осталось написать только финальный вывод)\n", " \n", "Что можно добавить:\n", "1. Краткий обзор выполненной работы\n", "2. Конечный результат\n", "3. Рекомендации для бизнеса (опционально)\n", "</div>" ],
    "metadata" : {
      "cellId" : "iwv57brypw6zgu0fufyht"
    }
  }, {
    "cell_type" : "markdown",
    "source" : [ "<div class=\"alert alert-block alert-success\">\n", "<b>V2 ✔️ Успешно исправлено</b>\n", "</div>" ],
    "metadata" : {
      "cellId" : "mmlexn7oeijm8fxfw5iwhn"
    }
  }, {
    "cell_type" : "markdown",
    "source" : [ "# <font color='orange'>Общее впечатление</font>\n", "* Этот проект выполнен очень хорошо\n", "* Видно, что приложено много усилий\n", "* Молодец, что структурируешь ноутбук, приятно проверять такие работы\n", "* У тебя чистый и лаконичный код\n", "* Мне было интересно читать твои промежуточные выводы\n", "* Твой уровень подачи материала находится на высоком уровне\n", "* Исправь, пожалуйста, мои замечания. Затем отправляй на повторную проверку\n", "* Жду новую версию проекта 👋" ],
    "metadata" : {
      "cellId" : "eidcfmugobvuz50uz3hm7l"
    }
  }, {
    "cell_type" : "markdown",
    "source" : [ "# <font color='orange'>2. Общее впечатление</font>\n", "* Спасибо за быстрое внесение правок\n", "* Теперь проект выглядит лучше )\n", "* Критических замечаний нет\n", "* Молодец, отличная работа!\n", "* Надеюсь, ревью было полезным\n", "* Удачи в дальнейшем обучении 👋" ],
    "metadata" : {
      "cellId" : "rqgdd9e3e7crbbcb6uemq"
    }
  }, {
    "cell_type" : "markdown",
    "source" : [ "# <font color='orange'>Рекомендации 🔥</font>\n", "* Анализ данных на python и pandas https://www.youtube.com/watch?v=dd3RcafdOQk&t=82s\n", "* Курс \"Введение в машинное обучение\" https://stepik.org/course/4852\n", "* Разумные способы кодирования категориальных данных для машинного обучения https://machinelearningmastery.ru/smarter-ways-to-encode-categorical-data-for-machine-learning-part-1-of-3-6dca2f71b159/\n", "* Статья про \"непонятную\" метрику ROC-AUC https://dyakonov.org/2017/07/28/auc-roc-площадь-под-кривой-ошибок/\n", "* Хочешь подтянуть математику для DS?) https://academy.stepik.org/math-for-data-science\n", "* Результаты обучения моделей можно визуализировать 😎 https://www.datatechnotes.com/2019/08/elasticnet-regression-example-in-python.html\n", "* В нашем деле нужно быть всегда в курсе всех новинок, новостей и тд, вот тут публикуют новости в области DS: https://www.infoq.com/data-analysis/news/\n", "* Всем аналитикам данных рекомендую книгу Даниела Канемана \"Думай медленно, решай быстро\"" ],
    "metadata" : {
      "cellId" : "op49kxnbp3idbi98k6i6"
    }
  } ]
}