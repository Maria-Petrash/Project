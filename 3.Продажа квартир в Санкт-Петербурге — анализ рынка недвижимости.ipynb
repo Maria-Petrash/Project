{
 "cells": [
  {
   "cell_type": "markdown",
   "metadata": {
    "cellId": "4jw31y4h9nhfgrcpex75c8"
   },
   "source": [
    "# Продажа квартир в Санкт-Петербурге — анализ рынка недвижимости\n",
    "\n",
    "В вашем распоряжении данные сервиса Яндекс.Недвижимость — архив объявлений о продаже квартир в Санкт-Петербурге и соседних населённых пунктов за несколько лет. Нужно научиться определять рыночную стоимость объектов недвижимости. Ваша задача — установить параметры. Это позволит построить автоматизированную систему: она отследит аномалии и мошенническую деятельность. \n",
    "\n",
    "По каждой квартире на продажу доступны два вида данных. Первые вписаны пользователем, вторые — получены автоматически на основе картографических данных. Например, расстояние до центра, аэропорта, ближайшего парка и водоёма. "
   ]
  },
  {
   "cell_type": "markdown",
   "metadata": {
    "cellId": "zeybcf3rxn95829p432ez7"
   },
   "source": [
    "# 1. Общая информация о файле с данными"
   ]
  },
  {
   "cell_type": "markdown",
   "metadata": {
    "cellId": "zkzmvy290g8hiu0mwrol3p",
    "execution_id": "4bb6baea-41f0-414a-ab4c-3123131fd1e8"
   },
   "source": [
    "- Загрузите данные из файла в датафрейм.\n",
    "- Изучите общую информацию о полученном датафрейме.\n",
    "- Постройте общую гистограмму для всех столбцов таблицы.\n"
   ]
  },
  {
   "cell_type": "code",
   "execution_count": 1,
   "metadata": {
    "cellId": "zri932mu51j5ind3mafozp"
   },
   "outputs": [],
   "source": [
    "import pandas as pd\n",
    "import matplotlib.pyplot as plt\n",
    "import numpy as np\n",
    "import seaborn as sns\n",
    "\n",
    "data = pd.read_csv('/datasets/real_estate_data.csv',sep='\\t')\n",
    "\n",
    "#выведем на экран первые строки:\n",
    "display(data.head())\n",
    "\n",
    "#выясним сколько значений в каждом столбце и формат данных:\n",
    "data.info() \n",
    "   \n",
    "#построим общую гистограмму для всех столбцов таблицы\n",
    "data.hist(figsize=(15, 20));\n"
   ]
  },
  {
   "cell_type": "markdown",
   "metadata": {
    "cellId": "edfe362l5k5gcjy5bovk74"
   },
   "source": [
    "Файл содержит данные по 23699 объектам недвижимости, каждый  объект описывается 22 признаками (17 количественных, 4 категориальных и 1 временной). У некоторых признаков есть пропущенные значения, которые необходимо обработать."
   ]
  },
  {
   "cell_type": "markdown",
   "metadata": {
    "cellId": "44044w7kxdkkccfap7yx6n"
   },
   "source": [
    "# 2. Предобработка данных"
   ]
  },
  {
   "cell_type": "markdown",
   "metadata": {
    "cellId": "anvtot0pxvj9cjv2ekrf"
   },
   "source": [
    "1.\tНайдите и изучите пропущенные значения в столбцах:\n",
    "- Определите, в каких столбцах есть пропуски.\n",
    "- Заполните пропущенные значения там, где это возможно. Например, если продавец не указал число балконов, то, скорее всего, в его квартире их нет. Такие пропуски правильно заменить на 0. Если логичную замену предложить невозможно, то оставьте эти значения пустыми. Пропуски — тоже важный сигнал, который нужно учитывать.\n",
    "- В ячейке с типом markdown укажите причины, которые могли привести к пропускам в данных.\n",
    "2.\tРассмотрите типы данных в каждом столбце:\n",
    "- Найдите столбцы, в которых нужно изменить тип данных.\n",
    "- Преобразуйте тип данных в выбранных столбцах.\n",
    "- В ячейке с типом markdown поясните, почему нужно изменить тип данных.\n",
    "3.\tИзучите уникальные значения в столбце с названиями и устраните неявные дубликаты. Например, «поселок Рябово» и «поселок городского типа Рябово», «поселок Тельмана» и «посёлок Тельмана» — это обозначения одних и тех же населённых пунктов. Вы можете заменить названия в существующем столбце или создать новый с названиями без дубликатов.\n",
    "4.\tНайдите и устраните редкие и выбивающиеся значения. Например, в столбце ceiling_height может быть указана высота потолков 25 м и 32 м. Логично предположить, что на самом деле это вещественные значения: 2.5 м и 3.2 м. Попробуйте обработать аномалии в этом и других столбцах.\n",
    "- Если природа аномалии понятна и данные действительно искажены, то восстановите корректное значение.\n",
    "- В противном случае удалите редкие и выбивающиеся значения.\n",
    "- В ячейке с типом markdown опишите, какие особенности в данных вы обнаружили.\n",
    "\n"
   ]
  },
  {
   "cell_type": "code",
   "execution_count": 2,
   "metadata": {
    "cellId": "ois4pu82csrtb4oaeyooe"
   },
   "outputs": [],
   "source": [
    "#определим, в каких столбцах и в каком количестве есть пропуски:\n",
    "data.isnull().sum()"
   ]
  },
  {
   "cell_type": "markdown",
   "metadata": {
    "cellId": "4mwhmhzchdt1g4r6u9qmmr"
   },
   "source": [
    "На основании полученных данных, можно сделать следующие выводы:\n",
    "\n",
    "3. first_day_exposition - object - должен быть тип datetime\n",
    "5. ceiling_height - есть нулевые значения\n",
    "6. floors_total - должен быть тип int, т.к. количество этажей должно быть целым значением + есть нулевые значения\n",
    "9. is_apartment - должен быть тип bool + есть нулевые значения\n",
    "7. living_area - есть нулевые значения\n",
    "12. kitchen_area - есть нулевые значения\n",
    "13. balcony - есть нулевые значения\n",
    "14. locality_name - есть нулевые значения\n",
    "15. airports_nearest - есть нулевые значения\n",
    "16. cityCenters_nearest - есть нулевые значения\n",
    "17. parks_around3000 - тип должен быть int + есть нулевые значения\n",
    "18. parks_nearest - есть нулевые значения\n",
    "19. ponds_around3000 - тип должен быть int + есть нулевые значения\n",
    "20. ponds_nearest - есть нулевые значения\n",
    "21. days_exposition - тип должен быть int + есть нулевые значения"
   ]
  },
  {
   "cell_type": "code",
   "execution_count": 3,
   "metadata": {
    "cellId": "eqk0zbknfm2sphwa4o02v"
   },
   "outputs": [],
   "source": [
    "# check\n",
    "# пропущенные значения бары\n",
    "\n",
    "def pass_value_barh(df):\n",
    "    try:\n",
    "        (\n",
    "            (df.isna().mean()*100)\n",
    "            .to_frame()\n",
    "            .rename(columns = {0:'space'})\n",
    "            .query('space > 0')\n",
    "            .sort_values(by = 'space', ascending = True)\n",
    "            .plot(kind= 'barh', figsize=(19,6), rot = -5, legend = False, fontsize = 16)\n",
    "            .set_title('Пример' + \"\\n\", fontsize = 22, color = 'SteelBlue')    \n",
    "        );    \n",
    "    except:\n",
    "        print('пропусков не осталось :) ')"
   ]
  },
  {
   "cell_type": "code",
   "execution_count": 4,
   "metadata": {
    "cellId": "u6z2lhd8jssr7ijsdyln6p"
   },
   "outputs": [],
   "source": [
    "pass_value_barh(data)"
   ]
  },
  {
   "cell_type": "code",
   "execution_count": 5,
   "metadata": {
    "cellId": "c4el0few7pa6yerie2vzbl",
    "scrolled": true
   },
   "outputs": [],
   "source": [
    "#заменим пропуски там, где замена не приведет к искажению статистических свойств выборки и к ухудшению результатов:\n",
    "\n",
    "#переведем столбец с датой в формат даты без времени, т.к. время отсутствует\n",
    "data['first_day_exposition'] = pd.to_datetime(data['first_day_exposition'], format = '%Y-%m-%d')\n",
    "\n",
    "#заменим пропуски в balcony на 0 и изменим тип данных на int\n",
    "data['balcony'].value_counts()\n",
    "data['balcony'] = data['balcony'].fillna(0)\n",
    "data['balcony'] = data['balcony'].astype('int')\n",
    "\n",
    "#заменим пропуски в floors_total на 0 и изменим тип данных на int\n",
    "data['floors_total']=data['floors_total'].fillna(0)\n",
    "data['floors_total']=data['floors_total'].astype('int')\n",
    "\n",
    "\n",
    "# в параметре ceiling_height: есть большие значения, медиана от среднего отличается не сильно \n",
    "\n",
    "\n",
    "data['ceiling_height'].sort_values().plot(y = 'ceiling_height', kind = 'hist', bins = 30, range=(2,5))\n",
    "data['ceiling_height'].value_counts()\n",
    "data['ceiling_height'].describe()\n",
    "data[data['ceiling_height'] > 4].sort_values('ceiling_height').tail(20)\n",
    "\n",
    "# в столбце is_apartment все пропущенные значения можно заменить на False:\n",
    "data['is_apartment'] = data['is_apartment'].fillna(False)\n",
    "\n",
    "#изменим цену на тип int для удобства обработки этих данных:\n",
    "data['last_price'] = data['last_price'].astype('int')\n",
    "\n",
    "#остальные данные с пропущенными значениями оставим как есть\n",
    "data['total_images'].value_counts()\n",
    "data['ceiling_height'].value_counts()\n",
    "data['floor'].value_counts()\n",
    "data['is_apartment'].value_counts()\n",
    "data['total_area'].value_counts()\n",
    "data['rooms'].value_counts()\n",
    "data['airports_nearest'].value_counts()\n",
    "data['cityCenters_nearest'].value_counts()\n",
    "data['parks_around3000'].value_counts()\n",
    "data['parks_nearest'].value_counts()\n",
    "data['ponds_around3000'].value_counts()\n",
    "data['living_area'].value_counts()\n",
    "data['locality_name'].value_counts()\n"
   ]
  },
  {
   "cell_type": "code",
   "execution_count": 6,
   "metadata": {
    "cellId": "09jziupgffolsnfpnqqtorn",
    "scrolled": true
   },
   "outputs": [],
   "source": [
    "# выведем на экран все уникальные значения 'locality_name'\n",
    "print(data['locality_name'].unique())\n",
    "\n",
    "#устраним неявные дубликаты в названиях населённых пунктов:\n",
    "data['locality_name'] = data['locality_name'].str.replace('поселок городского типа','городской поселок')\n",
    "data['locality_name'] = data['locality_name'].str.replace('посёлок','поселок')\n",
    "data['locality_name'] = data['locality_name'].str.replace('садоводческое некоммерческое товарищество','садовое товарищество ')"
   ]
  },
  {
   "cell_type": "code",
   "execution_count": 7,
   "metadata": {
    "cellId": "2ollkm7e2hofnwa09fcgao"
   },
   "outputs": [],
   "source": [
    "# check\n",
    "data['locality_name'].unique()"
   ]
  },
  {
   "cell_type": "code",
   "execution_count": 8,
   "metadata": {
    "cellId": "5ghkbsixa2ptst86wcma8b"
   },
   "outputs": [],
   "source": [
    "# check\n",
    "data.info()"
   ]
  },
  {
   "cell_type": "code",
   "execution_count": 9,
   "metadata": {
    "cellId": "dr0fk5a3tkiwwbak0pge"
   },
   "outputs": [],
   "source": [
    "# выведем на экран все наименования столбцов\n",
    "print(data.columns)"
   ]
  },
  {
   "cell_type": "code",
   "execution_count": 10,
   "metadata": {
    "cellId": "jzrw4bj20eflszifn3w94",
    "scrolled": true
   },
   "outputs": [],
   "source": [
    "# функция для подсчёта границ с учетом 1.5 размаха\n",
    "\n",
    "def quartile_range(data, column):\n",
    "    q1 = data[column].quantile(0.25)\n",
    "    q3 = data[column].quantile(0.75)\n",
    "    iqr = q3 - q1\n",
    "    dfq = data.loc[(data[column] < q3 + 1.5*iqr) & (data[column] > q1 - 1.5*iqr), column]\n",
    "    return dfq\n",
    "\n",
    "# столбцы с выбросами\n",
    "\n",
    "list_blowout= ['last_price', 'total_area', 'kitchen_area', 'living_area', 'days_exposition', \n",
    "              'ceiling_height', 'rooms','floors_total']\n",
    "for col in list_blowout:\n",
    "    #data[col] = quartile_range(data, col)\n",
    "    \n",
    "    \n",
    "# возвращаем в целочисленный тип число комнат\n",
    "\n",
    "   data['rooms'] = data['rooms'].fillna(0).astype(int)\n"
   ]
  },
  {
   "cell_type": "code",
   "execution_count": 11,
   "metadata": {
    "cellId": "5kl9fkg00e5l2konyw7gno"
   },
   "outputs": [],
   "source": [
    "data.describe()"
   ]
  },
  {
   "cell_type": "code",
   "execution_count": 12,
   "metadata": {
    "cellId": "vysmw94oupu9fzeburgj"
   },
   "outputs": [],
   "source": [
    "# check\n",
    "\n",
    "# Показатели о кол-ве объявлений в датасете, минимальных и максимальных значениях \n",
    "# в выбранных параметрах о продаже квартир\n",
    "# сырые данные\n",
    "\n",
    "(\n",
    "    data[['rooms', 'total_area', 'ceiling_height', 'days_exposition', 'last_price', 'living_area',  'kitchen_area', 'floor',\n",
    "       'floors_total']]\n",
    "    .apply (['count', 'min', 'max'])   \n",
    "    .style.format(\"{:,.2f}\")\n",
    ")"
   ]
  },
  {
   "cell_type": "code",
   "execution_count": 13,
   "metadata": {
    "cellId": "6ccpia9ohgd5p93qi0bo2h"
   },
   "outputs": [],
   "source": [
    "# check\n",
    "\n",
    "# Значения параметров объектов недвижимости на разных квантилях\n",
    "\n",
    "(\n",
    "    data[['rooms', 'total_area', 'ceiling_height', 'days_exposition', 'last_price', 'living_area',  \n",
    "        'kitchen_area', 'floor',   'floors_total']]\n",
    "    .quantile([0.01, .5, .90, .976])  \n",
    "    .style.format(\"{:,.2f}\")\n",
    ")\n"
   ]
  },
  {
   "cell_type": "markdown",
   "metadata": {
    "cellId": "kvuiideucoqufssu9bkttd"
   },
   "source": [
    "Boxplot обобщает данные выборки с использованием 25-го, 50-го и 75-го процентилей.\n",
    "Можно  получить представление (квартили, медиану и выбросы) в наборе данных взглянув на его диаграмму."
   ]
  },
  {
   "cell_type": "code",
   "execution_count": 14,
   "metadata": {
    "cellId": "3vvlqca80htvuy8r9bwsy"
   },
   "outputs": [],
   "source": [
    "# Box Plot\n",
    "data.boxplot(['living_area'])"
   ]
  },
  {
   "cell_type": "code",
   "execution_count": 15,
   "metadata": {
    "cellId": "gr7hu5fv517f7rovupbu5d"
   },
   "outputs": [],
   "source": [
    "data.boxplot(['kitchen_area'])"
   ]
  },
  {
   "cell_type": "code",
   "execution_count": 16,
   "metadata": {
    "cellId": "gbb467toc76yrj96v9n7n"
   },
   "outputs": [],
   "source": [
    "data.boxplot(['rooms'])"
   ]
  },
  {
   "cell_type": "code",
   "execution_count": 17,
   "metadata": {
    "cellId": "a3fxlwbhiz84s5x67mg1ct"
   },
   "outputs": [],
   "source": [
    "data.boxplot(['last_price'])"
   ]
  },
  {
   "cell_type": "code",
   "execution_count": 18,
   "metadata": {
    "cellId": "jh968besclggcllqurm1s8"
   },
   "outputs": [],
   "source": [
    "# check\n",
    "data.info()"
   ]
  },
  {
   "cell_type": "code",
   "execution_count": 19,
   "metadata": {
    "cellId": "8cijmj645ajzcd5e5q5i3j"
   },
   "outputs": [],
   "source": [
    "#Вявляем и исключаем аномальные значения:\n",
    "\n",
    "data = data.query ('living_area.isna() | living_area >= 12', engine='python')\n",
    "print ('после I удаления', data.shape[0])\n",
    "\n",
    "data = data.query ('kitchen_area.isna() | kitchen_area >= 5',engine='python')\n",
    "print ('после II удаления', data.shape[0])\n",
    "\n",
    "\n",
    "data = data.query ('rooms.isna() | rooms >= 1',engine='python')\n",
    "print ('после III удаления', data.shape[0])\n",
    "\n",
    "\n",
    "data = data.query ('last_price.isna() | last_price >= 1000000',engine='python')\n",
    "print ('после IV удаления', data.shape[0])\n",
    "\n",
    "\n",
    "data = data.query ('days_exposition.isna() | days_exposition >= 10',engine='python')\n",
    "print ('после V удаления', data.shape[0])\n",
    "\n",
    "\n",
    "data = data.query ('ceiling_height.isna() | ceiling_height >= 2.5',engine='python')\n",
    "print ('после VI удаления', data.shape[0])\n",
    "\n",
    "\n",
    "data = data.query('floors_total.isna() | floors_total <= 33',engine='python')\n",
    "print ('после VII удаления', data.shape[0])\n",
    "\n"
   ]
  },
  {
   "cell_type": "code",
   "execution_count": 20,
   "metadata": {
    "cellId": "43cf5md8n844rbjul20qkl"
   },
   "outputs": [],
   "source": [
    "(\n",
    "    data[['rooms', 'total_area', 'ceiling_height', 'days_exposition', 'last_price', 'living_area',  'kitchen_area', 'floor',\n",
    "       'floors_total']]\n",
    "    .apply (['count', 'min', 'max'])   \n",
    "    .style.format(\"{:,.2f}\")\n",
    ")"
   ]
  },
  {
   "cell_type": "markdown",
   "metadata": {
    "cellId": "j7hp92ygxrygcvugxaqm"
   },
   "source": [
    "# 3. Добавлены новые столбцы с параметрами\n"
   ]
  },
  {
   "cell_type": "markdown",
   "metadata": {
    "cellId": "1eerrz56cj6nn45rkvvws"
   },
   "source": [
    "-цена одного квадратного метра.\n",
    "\n",
    "-день недели публикации объявления (0 — понедельник, 1 — вторник и так далее).\n",
    "\n",
    "-месяц публикации объявления.\n",
    "\n",
    "-год публикации объявления.\n",
    "\n",
    "-тип этажа квартиры (значения — «первый», «последний», «другой»).\n",
    "\n",
    "-расстояние до центра города в километрах (переведите из м в км и округлите до целых значений).\n"
   ]
  },
  {
   "cell_type": "code",
   "execution_count": 21,
   "metadata": {
    "cellId": "bzr7wg1jkjjhxw2ti110v"
   },
   "outputs": [],
   "source": [
    "#посчитаем цену одного квадратного метра и добавим соответствующий столбец\n",
    "data['price_per_square_meter'] = data['last_price']/data['total_area']"
   ]
  },
  {
   "cell_type": "code",
   "execution_count": 22,
   "metadata": {
    "cellId": "6f5v3pq3wabwq3mepw5sbg"
   },
   "outputs": [],
   "source": [
    "#создадим столбец дня недели\n",
    "data['weekday_exposition'] = data['first_day_exposition'].dt.weekday\n",
    "\n",
    "#создадим столбец месяца публикации\n",
    "data['month_exposition'] = data['first_day_exposition'].dt.month\n",
    "\n",
    "#создадим столбец года публикации\n",
    "data['year_exposition'] = data['first_day_exposition'].dt.year"
   ]
  },
  {
   "cell_type": "code",
   "execution_count": 23,
   "metadata": {
    "cellId": "mvvkrk68hke4d87w3e9jt2"
   },
   "outputs": [],
   "source": [
    "# напишем функцию категоризации по этажам:\n",
    "\n",
    "def floor_category(row):\n",
    "    floors_total = row['floors_total']\n",
    "    floor = row['floor']\n",
    "    if floor == 1:\n",
    "        return 'первый'\n",
    "    elif floor == floors_total:\n",
    "        return 'последний'\n",
    "    elif 1 < floor < floors_total:\n",
    "        return 'другой'\n",
    "    \n",
    "#категоризуем этажи с помощью функции  \n",
    "\n",
    "data['floor_category'] = data.apply(floor_category, axis = 1)"
   ]
  },
  {
   "cell_type": "code",
   "execution_count": 24,
   "metadata": {
    "cellId": "bb5dq7847z08grmwjjja3x"
   },
   "outputs": [],
   "source": [
    "\n",
    "# посчитаем и добавим в таблицу: расстояние в км до центра города\n",
    "data['centers_km'] = data['cityCenters_nearest']/1000\n",
    "data['centers_km'] = data['centers_km'].fillna(value=0).astype(int)"
   ]
  },
  {
   "cell_type": "code",
   "execution_count": 25,
   "metadata": {
    "cellId": "q0oplungor7r880d8jtri8"
   },
   "outputs": [],
   "source": [
    "# выведем на экран все имеющиеся наименования столбцов\n",
    "print(data.columns)"
   ]
  },
  {
   "cell_type": "markdown",
   "metadata": {
    "cellId": "13n8uacdauxjq3pp99w4si"
   },
   "source": [
    "# 4. Исследовательский анализ данных:\n"
   ]
  },
  {
   "cell_type": "markdown",
   "metadata": {
    "cellId": "awbm835ay5vt7n6ffzusbg"
   },
   "source": [
    "1.\tИзучите следующие параметры объектов:\n",
    "- общая площадь;\n",
    "- жилая площадь;\n",
    "- площадь кухни;\n",
    "- цена объекта;\n",
    "- количество комнат;\n",
    "- высота потолков;\n",
    "- этаж квартиры;\n",
    "- тип этажа квартиры («первый», «последний», «другой»);\n",
    "- общее количество этажей в доме;\n",
    "- расстояние до центра города в метрах;\n",
    "- расстояние до ближайшего аэропорта;\n",
    "- расстояние до ближайшего парка;\n",
    "- день и месяц публикации объявления.\n",
    "Постройте отдельные гистограммы для каждого из этих параметров. Опишите все ваши наблюдения по параметрам в ячейке с типом markdown.\n",
    "2.\tИзучите, как быстро продавались квартиры (столбец days_exposition). Этот параметр показывает, сколько дней было размещено каждое объявление.\n",
    "- Постройте гистограмму.\n",
    "- Посчитайте среднее и медиану.\n",
    "- В ячейке типа markdown опишите, сколько времени обычно занимает продажа. Какие продажи можно считать быстрыми, а какие — необычно долгими?\n",
    "3.\tКакие факторы больше всего влияют на общую (полную) стоимость объекта?\n",
    "Изучите, зависит ли цена от:\n",
    "- общей площади;\n",
    "- жилой площади;\n",
    "- площади кухни;\n",
    "- количества комнат;\n",
    "- этажа, на котором расположена квартира (первый, последний, другой);\n",
    "- даты размещения (день недели, месяц, год).\n",
    "Постройте графики, которые покажут зависимость цены от указанных выше параметров. Для подготовки данных перед визуализацией вы можете использовать сводные таблицы.\n",
    "4.\tПосчитайте среднюю цену одного квадратного метра в 10 населённых пунктах с наибольшим числом объявлений. Выделите населённые пункты с самой высокой и низкой стоимостью квадратного метра. Эти данные можно найти по имени в столбце locality_name.\n",
    "5.\tРанее вы посчитали расстояние до центра в километрах. Теперь выделите квартиры в Санкт-Петербурге с помощью столбца locality_name и вычислите среднюю цену каждого километра. Опишите, как стоимость объектов зависит от расстояния до центра города.\n"
   ]
  },
  {
   "cell_type": "code",
   "execution_count": 26,
   "metadata": {
    "cellId": "u62klv4gaqoh6zeqio0xj"
   },
   "outputs": [],
   "source": [
    "#изучим общую площадь\n",
    "data.plot(y ='total_area', kind = 'hist', bins = 100, grid=True, figsize = (7,3), range = (10,120))\n",
    "plt.xlabel('total_area')\n",
    "plt.ylabel('quantity')\n",
    "plt.suptitle('Общая площадь')\n",
    "data['total_area'].describe()"
   ]
  },
  {
   "cell_type": "markdown",
   "metadata": {
    "cellId": "4bzihmtredgiujui0qdzmp"
   },
   "source": [
    "Распределение данных  по гистограмме нормальное, но есть выбросы.Самые распространенные квартиры в объявлениях площадью от 54 кв.м."
   ]
  },
  {
   "cell_type": "code",
   "execution_count": 27,
   "metadata": {
    "cellId": "b0x05h9jxw84qbzyoxf1t6"
   },
   "outputs": [],
   "source": [
    "#изучим жилую площадь\n",
    "data.plot(y = 'living_area', kind = 'hist', bins = 100, grid=True, figsize = (7,3), range = (2,80))\n",
    "plt.xlabel('living_area')\n",
    "plt.ylabel('quantity')\n",
    "plt.suptitle ('Жилая площадь')\n",
    "data['living_area'].describe()"
   ]
  },
  {
   "cell_type": "markdown",
   "metadata": {
    "cellId": "pf8t7kn9i7o4cawkxomtl4"
   },
   "source": [
    "Распределение данных по гистограмме нормальное, но есть выбросы.\n",
    "Самые распространенные квартиры в объявлениях с жилой площадью от 31 кв.м."
   ]
  },
  {
   "cell_type": "code",
   "execution_count": 28,
   "metadata": {
    "cellId": "jhf23wmc5gcjqrd5nr14wb"
   },
   "outputs": [],
   "source": [
    "#изучим площадь кухни\n",
    "\n",
    "data.plot(y = 'kitchen_area', kind = 'hist', bins = 40, grid=True, range = (1,20), figsize = (8,3))\n",
    "plt.xlabel('kitchen_area')\n",
    "plt.ylabel('quantity')\n",
    "plt.suptitle ('Цена')\n",
    "data['kitchen_area'].describe()"
   ]
  },
  {
   "cell_type": "markdown",
   "metadata": {
    "cellId": "fr5lx568vffsq7u6l8e7o"
   },
   "source": [
    "Самые распространенные квартиры в объявлениях с площадью кухни от 9 кв.м."
   ]
  },
  {
   "cell_type": "code",
   "execution_count": 29,
   "metadata": {
    "cellId": "87nqn0iw8sd7ed3ed55x78"
   },
   "outputs": [],
   "source": [
    "#работаем со стоимостью\n",
    "data.plot(y = 'last_price', kind = 'hist', bins = 100, grid=True, range = (1,12000000), figsize = (8,3))\n",
    "plt.xlabel('last_price')\n",
    "plt.ylabel('quantity')\n",
    "plt.suptitle ('Цена')\n",
    "data['last_price'].describe()"
   ]
  },
  {
   "cell_type": "markdown",
   "metadata": {
    "cellId": "3jkop4mlgxrfa4zlqrj9bp"
   },
   "source": [
    "Распределение данных  по гистограмме нормальное, но есть выбросы.\n",
    "Самые распространенные квартиры в объявлениях с ценой от 4,8 млн. рублей"
   ]
  },
  {
   "cell_type": "code",
   "execution_count": 30,
   "metadata": {
    "cellId": "fryklw7jj7d1emztnv0z"
   },
   "outputs": [],
   "source": [
    "#изучим количество комнат\n",
    "data.plot(y = 'rooms', kind = 'hist', bins = 30, grid=True, range = (0,5),figsize = (7,3))\n",
    "plt.xlabel('rooms')\n",
    "plt.ylabel('quantity')\n",
    "plt.suptitle ('Количество комнат')\n",
    "data['rooms'].describe()"
   ]
  },
  {
   "cell_type": "markdown",
   "metadata": {
    "cellId": "v6r95k3u55my8z4kcu5u3h"
   },
   "source": [
    "Распределение данных показывает, что самые распространенные квартиры 2 и 1 комнатные. Максимальное количество комнат- 5."
   ]
  },
  {
   "cell_type": "code",
   "execution_count": 31,
   "metadata": {
    "cellId": "4dvqm9t1g9kydr0vhnj8b"
   },
   "outputs": [],
   "source": [
    "#изучим высоту потолков\n",
    "data.plot(y = 'ceiling_height', kind = 'hist', bins = 40, range = (2,4), grid=True, figsize = (7,3))\n",
    "plt.xlabel('ceiling_height')\n",
    "plt.ylabel('quantity')\n",
    "plt.suptitle ('Высота потолков')\n",
    "data['ceiling_height'].describe()"
   ]
  },
  {
   "cell_type": "markdown",
   "metadata": {
    "cellId": "tq8vuqv8gtkjssq7ond4o"
   },
   "source": [
    "Распределение данных  по гистограмме нормальное.\n",
    "Самые распространенные квартиры в объявлениях с высотой потолков от 2 метров,максимальное значение 3,21."
   ]
  },
  {
   "cell_type": "code",
   "execution_count": 32,
   "metadata": {
    "cellId": "hbs28piorefam7xtv7z2xp"
   },
   "outputs": [],
   "source": [
    "# изучим этаж квартиры\n",
    "data.plot(y = 'floor', kind = 'hist', bins = 35, grid=True, range =(1,35),figsize = (7,3))\n",
    "plt.xlabel('floor')\n",
    "plt.ylabel('quantity')\n",
    "plt.suptitle ('Этаж квартиры')\n",
    "data['floor'].describe()"
   ]
  },
  {
   "cell_type": "markdown",
   "metadata": {
    "cellId": "hne6mtdsb1u9tooa65e6qh"
   },
   "source": [
    "Распределение данных  по гистограмме нормальное.\n",
    "Самые распространенные квартиры в объявлениях этажностью 4/5 ,максимальное значение 33."
   ]
  },
  {
   "cell_type": "code",
   "execution_count": 33,
   "metadata": {
    "cellId": "lqqc9npek1ldg0s0beragj"
   },
   "outputs": [],
   "source": [
    "# изучим тип этажа объекта («первый», «последний», «другой»)\n",
    "data.floor_category.value_counts().plot.bar()\n",
    "plt.xlabel('floor_category')\n",
    "plt.ylabel('quantity')\n",
    "plt.suptitle ('Тип этажа')\n",
    "data['floor_category'].describe()"
   ]
  },
  {
   "cell_type": "markdown",
   "metadata": {
    "cellId": "zu7se4vayj5e0f3itxfu7"
   },
   "source": [
    "Распределение данных  по гистограмме нормальное.\n",
    "Самые распространенные квартиры в объявлениях  в категории \"другие\", не 1 и не 2-ой этажи."
   ]
  },
  {
   "cell_type": "code",
   "execution_count": 34,
   "metadata": {
    "cellId": "r74w91fr2gxbt9lwug59a"
   },
   "outputs": [],
   "source": [
    "#общее количество этажей в доме\n",
    "data.plot(y = 'floors_total', kind = 'hist', bins = 40, grid=True,range = (1,60),figsize = (7,3))\n",
    "plt.xlabel('floors_total')\n",
    "plt.ylabel('quantity')\n",
    "plt.suptitle ('Количество этажей в доме')\n",
    "data['floors_total'].describe()"
   ]
  },
  {
   "cell_type": "markdown",
   "metadata": {
    "cellId": "jjfjk10e0dnk43beot6zae"
   },
   "source": [
    "Распределение данных  по гистограмме нормальное.\n",
    "Самые распространенные квартиры в объявлениях расположены на  10 эт."
   ]
  },
  {
   "cell_type": "code",
   "execution_count": 35,
   "metadata": {
    "cellId": "k1t8lojbsnrd70n15tdcg"
   },
   "outputs": [],
   "source": [
    "#расстояние до центра города в метрах\n",
    "data.plot(y ='cityCenters_nearest', kind = 'hist', bins = 40, range = (100,66000), grid=True, figsize = (7,3))\n",
    "plt.xlabel('cityCenters_nearest')\n",
    "plt.ylabel('quantity')\n",
    "plt.suptitle ('Расстояние до центра города(метров)')\n",
    "data['cityCenters_nearest'].describe()"
   ]
  },
  {
   "cell_type": "markdown",
   "metadata": {
    "cellId": "atgloqjr22c5yurczqsr"
   },
   "source": [
    "Распределение данных  по гистограмме нормальное.\n",
    "Самые распространенные квартиры с расстоянием до центра города от 14000 (от 14 км.)."
   ]
  },
  {
   "cell_type": "code",
   "execution_count": 36,
   "metadata": {
    "cellId": "ygaykopr8srorklg805il8"
   },
   "outputs": [],
   "source": [
    "#расстояние до ближайшего аэропорта\n",
    "data.plot(y = 'airports_nearest', kind = 'hist', bins = 40, range = (0,85000), grid=True, figsize = (7,3))\n",
    "plt.xlabel('airports_nearest')\n",
    "plt.ylabel('quantity')\n",
    "plt.suptitle('Расстояние до ближайшего аэропорта')\n",
    "data['airports_nearest'].describe()"
   ]
  },
  {
   "cell_type": "markdown",
   "metadata": {
    "cellId": "zyumgs733bww0t1rk72ll"
   },
   "source": [
    "Распределение данных  по гистограмме нормальное.\n",
    "Самые распространенные квартиры с расстоянием до аэропорта от 28 тыс. м."
   ]
  },
  {
   "cell_type": "code",
   "execution_count": 37,
   "metadata": {
    "cellId": "5y74qvo51k60gdrwb1m4lvp"
   },
   "outputs": [],
   "source": [
    "#расстояние до ближайшего парка\n",
    "data.plot(y = 'parks_nearest', kind = 'hist', bins = 40, range = (1,4000), grid=True, figsize = (7,3))\n",
    "plt.xlabel('parks_nearest')\n",
    "plt.ylabel('quantity')\n",
    "plt.suptitle('Расстояние до ближайшего парка')\n",
    "data['parks_nearest'].describe()"
   ]
  },
  {
   "cell_type": "markdown",
   "metadata": {
    "cellId": "epx0uh9l3zmmnm7621q1ll"
   },
   "source": [
    "Распределение данных  по гистограмме нормальное.\n",
    "Самые распространенные квартиры с расстоянием до парка от 490 метров."
   ]
  },
  {
   "cell_type": "code",
   "execution_count": 38,
   "metadata": {
    "cellId": "u08dkxhakm066xheaeyrcf"
   },
   "outputs": [],
   "source": [
    "#день публикации объявления\n",
    "\n",
    "data.plot(y ='weekday_exposition' , kind = 'hist', bins = 40, grid=True, range = (0,6), figsize = (7,3))\n",
    "plt.xlabel('weekday_exposition')\n",
    "plt.ylabel('quantity')\n",
    "plt.suptitle('День публикации объявления')\n",
    "\n",
    "data['weekday_exposition'].describe()"
   ]
  },
  {
   "cell_type": "markdown",
   "metadata": {
    "cellId": "ywh324tcq0jq9rh3o3fmlq"
   },
   "source": [
    "Распределение данных  по гистограмме нормальное.\n",
    "Больше всего объявлений размещены в чт/вт, меньше всего сб/вс."
   ]
  },
  {
   "cell_type": "code",
   "execution_count": 39,
   "metadata": {
    "cellId": "9t8ijhpw3er6p17admn34"
   },
   "outputs": [],
   "source": [
    "#месяц публикации объявления\n",
    "data.plot(y = 'month_exposition', kind = 'hist', bins = 60, grid=True, range = (1,12), figsize = (7,3))\n",
    "plt.xlabel('month_exposition')\n",
    "plt.ylabel('quantity')\n",
    "plt.suptitle('Месяц публикации объявления')\n",
    "data['month_exposition'].describe()"
   ]
  },
  {
   "cell_type": "markdown",
   "metadata": {
    "cellId": "bbxjbx4t1vs00yh3kk8v6zpf"
   },
   "source": [
    "Распределение данных  по гистограмме нормальное.\n",
    "Больше всего объявлений размещены в феврале/марте, меньше всего в мае и январе, что обусловлено спросом и календарем выходных дней."
   ]
  },
  {
   "cell_type": "markdown",
   "metadata": {
    "cellId": "x3qtcqtxnuh4bibwk0fib"
   },
   "source": [
    "Средняя квартира, выставленная на продажу, имеет следующие характеристики: это 2-комнатная квартира с общей площадью от 54 кв. м с потолками от 2 м, проданная по цене от 9 млн рублей."
   ]
  },
  {
   "cell_type": "code",
   "execution_count": 40,
   "metadata": {
    "cellId": "37g4dzaoplnwkopac0yb5"
   },
   "outputs": [],
   "source": [
    "# Время продажи квартиры (столбец days_exposition)\n",
    "data.plot(y = 'days_exposition', kind = 'hist', bins = 60, grid=True, range = (0,450), figsize = (7,3))\n",
    "\n",
    "data['days_exposition'].describe()\n",
    "\n",
    "# медиана = 128\n",
    "# среднее = 121"
   ]
  },
  {
   "cell_type": "code",
   "execution_count": 41,
   "metadata": {
    "cellId": "qt4zfkogbt8yfnzqs5s9x"
   },
   "outputs": [],
   "source": [
    "data.describe()"
   ]
  },
  {
   "cell_type": "markdown",
   "metadata": {
    "cellId": "nci5f3hfy6mfzj28ow0i"
   },
   "source": [
    "Чаще всего объект продают за 121 день.За 41 день- это быстро, за 183 дня- долго."
   ]
  },
  {
   "cell_type": "code",
   "execution_count": 42,
   "metadata": {
    "cellId": "t3myv6eieffucc4vjt080e"
   },
   "outputs": [],
   "source": [
    "pd.pivot_table(data,\n",
    "               index=['total_area','living_area','kitchen_area','rooms',\n",
    "                      'floor_category','weekday_exposition','month_exposition', 'year_exposition'],\n",
    "               values=['last_price'])"
   ]
  },
  {
   "cell_type": "markdown",
   "metadata": {
    "cellId": "becugqw9638jjoq1yppjt"
   },
   "source": [
    "#построим таблицу корреляции для \"общей картины\""
   ]
  },
  {
   "cell_type": "code",
   "execution_count": 43,
   "metadata": {
    "cellId": "i5hxf68psvo3uiae3fpe2x"
   },
   "outputs": [],
   "source": [
    "data.corr()"
   ]
  },
  {
   "cell_type": "code",
   "execution_count": 44,
   "metadata": {
    "cellId": "rok5dg238hd81d7yfogif8"
   },
   "outputs": [],
   "source": [
    "#определим какие факторы больше всего влияют на общую (полную) стоимость объекта (last_price)?\n",
    "#построим графики, которые покажут зависимость цены от указанных ниже параметров.\n",
    "#зависимость цены от площади\n",
    "\n",
    "(\n",
    "    data.pivot_table(index='total_area', values='last_price')\n",
    "    .plot(grid=True, style='o', figsize=(7, 5))\n",
    ")\n",
    "plt.show()\n"
   ]
  },
  {
   "cell_type": "code",
   "execution_count": 45,
   "metadata": {
    "cellId": "kvxn7fmyd7iqdwrxf2bmn"
   },
   "outputs": [],
   "source": [
    "print('Корреляция цены и площади объекта:')\n",
    "\n",
    "print(data['total_area'].corr(data['last_price']))\n"
   ]
  },
  {
   "cell_type": "markdown",
   "metadata": {
    "cellId": "azz8mmmnrlisqjo09g7rwt"
   },
   "source": [
    "Чем больше площадь объекта, тем выше стоимость. "
   ]
  },
  {
   "cell_type": "code",
   "execution_count": 46,
   "metadata": {
    "cellId": "hz5gcvwvvqmup1gr2m28l"
   },
   "outputs": [],
   "source": [
    "# зависимость цены от жилой площади объекта(living_area)\n",
    "(\n",
    "    data.pivot_table(index='living_area', values='last_price')\n",
    "    .plot(grid=True, style='o', figsize=(7, 5))\n",
    ")\n",
    "plt.show()\n",
    "\n",
    "print('Корреляция цены и жилой площади объекта:')\n",
    "\n",
    "print(data['living_area'].corr(data['last_price']))"
   ]
  },
  {
   "cell_type": "markdown",
   "metadata": {
    "cellId": "ttia2cyhdg0uu5ol1mpb3k"
   },
   "source": [
    "Чем больше жилая площадь, тем выше стоимость. Корреляция этих параметров высокая."
   ]
  },
  {
   "cell_type": "code",
   "execution_count": 47,
   "metadata": {
    "cellId": "old8nxouktzr9vih1n5f"
   },
   "outputs": [],
   "source": [
    "#зависимость цены от жилой площади кухни объекта(kitchen_area)\n",
    "\n",
    "(\n",
    "    data.pivot_table(index='kitchen_area', values='last_price')\n",
    "    .plot(grid=True, style='o', figsize=(7, 5))\n",
    ")\n",
    "plt.show()\n",
    "print('Корреляция цены и площади кухни:')\n",
    "\n",
    "print(data['kitchen_area'].corr(data['last_price']))"
   ]
  },
  {
   "cell_type": "markdown",
   "metadata": {
    "cellId": "rizldft84taqahqluq29i"
   },
   "source": [
    "Чем больше площадь кухни, тем выше стоимость объекта. "
   ]
  },
  {
   "cell_type": "code",
   "execution_count": 48,
   "metadata": {
    "cellId": "00ziydf0qp2dmp9wq8mtabc8"
   },
   "outputs": [],
   "source": [
    "# зависимость цены  от количества комнат объекта(kitchen_area)\n",
    "\n",
    "(\n",
    "    data.pivot_table(index='rooms', values='last_price')\n",
    "    .plot(grid=True, style='o-', figsize=(7, 5))\n",
    ")\n",
    "plt.show()\n",
    "\n",
    "print('Корреляция цены и количества комнат объекта:')\n",
    "print(data['rooms'].corr(data['last_price']))\n"
   ]
  },
  {
   "cell_type": "markdown",
   "metadata": {
    "cellId": "f9kq3rlpyvm4vl9gpaagz6"
   },
   "source": [
    "Число комнат влияет на цену (больше комнат - выше цена)."
   ]
  },
  {
   "cell_type": "code",
   "execution_count": 49,
   "metadata": {
    "cellId": "yd1vzakvfpefyerynzn88h"
   },
   "outputs": [],
   "source": [
    "# зависимость цены от типа этажа, на котором расположена квартира (floor_category).\n",
    "# корреляция определяется только между числовыми переменными.\n",
    "# можно при необходимости закодировать категорию как число и использовать корреляционную функцию Пирсона df для возврата корреляции.\n",
    "(\n",
    "    data.pivot_table(index='floor_category', values='last_price', aggfunc='median')\n",
    "    .plot(grid=True, style='o-', figsize=(5, 5))\n",
    ")\n",
    "plt.show()"
   ]
  },
  {
   "cell_type": "markdown",
   "metadata": {
    "cellId": "34ixli1iq8yeifgnez05wf"
   },
   "source": [
    "Первый этаж непосредственно влияет на стоимость объекта - в среднем квартиры на 1-м этаже значительно дешевле, немного дороже последний этаж. Наибольшая стоимость у объектов, расположенных не на 1-м и не на последнем этаже."
   ]
  },
  {
   "cell_type": "code",
   "execution_count": 50,
   "metadata": {
    "cellId": "9jnlyyryz8mvmjcdvsjy6h"
   },
   "outputs": [],
   "source": [
    "#зависимость цены от дня экспозиции\n",
    "(\n",
    "    data.pivot_table(index='weekday_exposition', values='last_price')\n",
    "    .plot(grid=True, style='o-', figsize=(7, 5))\n",
    ")\n",
    "plt.show()"
   ]
  },
  {
   "cell_type": "code",
   "execution_count": 51,
   "metadata": {
    "cellId": "a71bowz3afr48gksqpky2o"
   },
   "outputs": [],
   "source": [
    "print('Корреляция цены и дня экспозиции:')\n",
    "\n",
    "print(data['weekday_exposition'].corr(data['last_price']))"
   ]
  },
  {
   "cell_type": "markdown",
   "metadata": {
    "cellId": "0235pwo2ttii24godr8u1ta"
   },
   "source": [
    "Зависимость цены от дней экспозиции: самая высокая цена у объектов с днем экспозиции- вторник, у\n",
    "размещенных в понедельник и пятницу примерно одинаковая цена.Наименьшая цена приходится на выходные дни, а именно суббота.\n",
    "    "
   ]
  },
  {
   "cell_type": "code",
   "execution_count": 52,
   "metadata": {
    "cellId": "ls66d23cwigl63ekt2z74e"
   },
   "outputs": [],
   "source": [
    "#зависимость цены от месяца экспозиции объекта\n",
    "(\n",
    "    data.pivot_table(index='month_exposition', values='last_price')\n",
    "    .plot(grid=True, style='o-', figsize=(7, 5))\n",
    ")\n",
    "plt.show()"
   ]
  },
  {
   "cell_type": "code",
   "execution_count": 53,
   "metadata": {
    "cellId": "v6xq6xkuvqrpmkkjvjkyq"
   },
   "outputs": [],
   "source": [
    "print('Корреляция цены и месяца экспозиции:')\n",
    "\n",
    "print(data['month_exposition'].corr(data['last_price']))"
   ]
  },
  {
   "cell_type": "markdown",
   "metadata": {
    "cellId": "9hv3z9sutbtgk60zhe16iq"
   },
   "source": [
    "Судя по графику(за  12 месяцев) есть данные зависимости цены от месяца размещения объявления.\n",
    "В апреле и сентябре зависимость увеличивается. Это можно объяснить и сезонным спросом, который\n",
    "растет в сентябре с началом делового сезона, когда переезжают в Петербург работать или учиться.\n",
    "В январе,марте,октябре происходит снижение зависимости."
   ]
  },
  {
   "cell_type": "code",
   "execution_count": 54,
   "metadata": {
    "cellId": "k27478xq26gpgu3ck0mbh"
   },
   "outputs": [],
   "source": [
    "#зависимость цены от года экспозиции\n",
    "(\n",
    "    data.pivot_table(index='year_exposition', values='last_price')\n",
    "    .plot(grid=True, style='o-', figsize=(7, 5))\n",
    ")\n",
    "plt.show()"
   ]
  },
  {
   "cell_type": "code",
   "execution_count": 55,
   "metadata": {
    "cellId": "j56royolzy7l9xk9mqgxkm"
   },
   "outputs": [],
   "source": [
    "print('Корреляция цены и года экспозиции:')\n",
    "print(data['month_exposition'].corr(data['last_price']))"
   ]
  },
  {
   "cell_type": "markdown",
   "metadata": {
    "cellId": "lgs2i068hlfafxlytl5uno"
   },
   "source": [
    "Общие выводы по зависимости от дня, месяца и года.\n",
    "День недели: дороже всего квартиры, опубликованные во вторник, дешевле всего - в субботу. Месяц: дороже всего объекты, продающиеся с апреле, сентябре, дешевле всего в июне. Год: квартиры очень сильно подешевели в 2016-2018 годах, что, вызвано некоторым кризисом на рынке недвижимости. С 2018 года цены снова стали повышаться в связи с выходом из кризиса."
   ]
  },
  {
   "cell_type": "code",
   "execution_count": 56,
   "metadata": {
    "cellId": "ylghf8vczr03i66li0xf2u"
   },
   "outputs": [],
   "source": [
    "#сравниваем среднюю стоимость квадратного метра в топ-10 городов по числу объявлений\n",
    "\n",
    "city_ten = data['locality_name'].value_counts().head(10)\n",
    "city_price_per_square_meter = data.query('locality_name in (@city_ten.index)').pivot_table(values='price_per_square_meter',\n",
    "                                                                                           index='locality_name')\n",
    "city_price_per_square_meter = city_price_per_square_meter.astype(int)\n",
    "city_price_per_square_meter.sort_values('price_per_square_meter', ascending=False)"
   ]
  },
  {
   "cell_type": "markdown",
   "metadata": {
    "cellId": "c7zbpuwepdjmtish1qruze"
   },
   "source": [
    "Дороже всего квадратный метр в Санкт-Петербурге - 105684\n",
    "Дешевле всего квадратный метр в Выборге - 58225"
   ]
  },
  {
   "cell_type": "code",
   "execution_count": 57,
   "metadata": {
    "cellId": "fmdk5w107f7fr86a2ojlrk"
   },
   "outputs": [],
   "source": [
    "#выбираем Санкт-Петербург, смотрим на график, где указана средняя стоимость для каждого км\n",
    "(\n",
    "    data.query('locality_name == \"Санкт-Петербург\"')\n",
    "    .pivot_table(index='centers_km', values='last_price')\n",
    "    .plot(grid=True, style='o-', xlim=(0,15), figsize=(10, 5))\n",
    ")\n",
    "plt.show()"
   ]
  },
  {
   "cell_type": "markdown",
   "metadata": {
    "cellId": "m7dxl7efphg1gfeqgshmb"
   },
   "source": [
    "Центральная зона - от 8 км и меньше. Дальше 8 км средняя цена на объекты снижается."
   ]
  },
  {
   "cell_type": "markdown",
   "metadata": {
    "cellId": "8jjochm4mw5w5o3ecdv6k"
   },
   "source": [
    "# 5. Общий вывод\n",
    "\n",
    "Мы обработали массив данных, в том числе пропущенные значения (заменили пропуски там, где замена не привела к ухудшению результатов) изменили типы данных на необходимые, устраненили неявные дубликаты в названиях населённых пунктов, устранили редкие и выбивающиеся значения во всех столбцах, посчитали и добавили в таблицу слудующие данные: цена одного квадратного метра, день,  месяц, год публикации объявления,тип этажа квартиры,расстояние в км до центра города. Заменили пропуски там, где замена не привела к ухудшению результатов.\n",
    "\n",
    "Изучили и построили гистограммы для следующих параметров: общая площадь; жилая площадь;площадь кухни;цена объекта;количество комнат;высота потолков;этаж квартиры;тип этажа квартиры («первый», «последний», «другой»);общее количество этажей в доме;расстояние до центра города в метрах;расстояние до ближайшего аэропорта;расстояние до ближайшего парка;день и месяц публикации объявления.\n",
    "\n",
    "Выявили что чаще всего объект продают за 85 дней. За 41 день- это быстро, за 183 дня- долго. \n",
    "Есть квартиры, проданные всего за несколько дней после публикации.\n",
    "Также есть варианты, которые продавались несколько месяцев(долго).\n",
    "\n",
    "Выявили факторы,влияющие на стоимость и построили графики корреляции.\n",
    "На стоимость прежде всего влияет площадь квартиры. Первый этаж значительно дешевле остальных вариантов. \n",
    "Также стоимость квартиры на последнем этаже ниже, чем на остальных, кроме первого.\n",
    "  \n",
    "Стоимость квадратного метра в топ-10 населённых пунктов\n",
    "Дороже всего квадратный метр в Санкт-Петербурге - 105684\n",
    "Дешевле всего квадратный метр в Выборге - 58225.\n",
    "\n",
    "\n",
    "Опрелили зависимость стоимости объектов в Санкт-Петербурге  от расстояния до центра города\n",
    "Центральная зона - от 8 км и меньше. Дальше 8 км цена на объекты в Санкт-Петербурге снижается."
   ]
  },
  {
   "cell_type": "code",
   "execution_count": 58,
   "metadata": {
    "cellId": "lvbh5txxprbik72uu3693e"
   },
   "outputs": [],
   "source": [
    "# check\n",
    "import seaborn as sns"
   ]
  },
  {
   "cell_type": "code",
   "execution_count": 59,
   "metadata": {
    "cellId": "18x6h59hrn4iikw5zaylw9"
   },
   "outputs": [],
   "source": [
    "# check\n",
    "sns.pairplot(data[['last_price', 'total_area', 'rooms', 'cityCenters_nearest']])\n",
    "plt.gcf().set_size_inches(12,12);\n"
   ]
  },
  {
   "cell_type": "code",
   "execution_count": 60,
   "metadata": {
    "cellId": "1ivuks9agnyeec1z1hfvq"
   },
   "outputs": [],
   "source": [
    "# check\n",
    "data[data['rooms'] == 3].query('total_area < 201 and last_price < 25_000_000').plot(kind='scatter',\n",
    "        y='last_price' , x='total_area', alpha=0.5, subplots=True, figsize=(15,8), c = 'b', s = 4)\n",
    "plt.title('Диаграмма рассеяния — Общая площадь — цена трешки')\n",
    "\n",
    "\n",
    "data[data['rooms'] == 3].query('total_area < 201 and last_price < 25_000_000').plot(kind='scatter', \n",
    "        y='last_price' , x='living_area', alpha=0.5, figsize=(15,8), c = 'r', s = 4)\n",
    "plt.title('Диаграмма рассеяния — Жилая площадь — цена трешки');"
   ]
  },
  {
   "cell_type": "code",
   "execution_count": 61,
   "metadata": {
    "cellId": "9oth7clahdeu8atc76brcq"
   },
   "outputs": [],
   "source": [
    "# check\n",
    "df_check = pd.read_csv('/datasets/real_estate_data.csv', sep='\\t') \n",
    "df_check.info()\n",
    "df_isna = df_check.query('airports_nearest.isna() | airports_nearest < 60000')\n",
    "df_isna.info()"
   ]
  },
  {
   "cell_type": "code",
   "execution_count": 62,
   "metadata": {
    "cellId": "003agoe80i0dg2qtg89ollu5"
   },
   "outputs": [],
   "source": [
    "# check\n",
    "df_check = pd.read_csv('/datasets/real_estate_data.csv', sep='\\t') \n",
    "df_check.info()\n",
    "df_isna = df_check[(df_check ['airports_nearest'] < 60000) | (df_check ['airports_nearest'].isna()) ]\n",
    "\n",
    "df_isna.info()"
   ]
  }
 ],
 "metadata": {
  "ExecuteTimeLog": [
   {
    "duration": 7,
    "start_time": "2022-08-27T07:51:09.920Z"
   },
   {
    "duration": 524,
    "start_time": "2022-08-27T07:51:32.017Z"
   },
   {
    "duration": 996,
    "start_time": "2022-08-27T07:52:10.862Z"
   },
   {
    "duration": 159,
    "start_time": "2022-08-27T07:54:16.273Z"
   },
   {
    "duration": 93,
    "start_time": "2022-08-27T07:54:38.045Z"
   },
   {
    "duration": 3,
    "start_time": "2022-08-27T07:54:51.100Z"
   },
   {
    "duration": 1357,
    "start_time": "2022-08-27T07:55:06.301Z"
   },
   {
    "duration": 0,
    "start_time": "2022-08-27T07:55:07.659Z"
   },
   {
    "duration": 93,
    "start_time": "2022-08-27T07:55:39.866Z"
   },
   {
    "duration": 13,
    "start_time": "2022-08-27T07:55:55.421Z"
   },
   {
    "duration": 94,
    "start_time": "2022-08-27T08:05:55.533Z"
   },
   {
    "duration": 92,
    "start_time": "2022-08-27T08:06:05.560Z"
   },
   {
    "duration": 13,
    "start_time": "2022-08-27T08:06:05.654Z"
   },
   {
    "duration": 94,
    "start_time": "2022-08-27T08:12:45.952Z"
   },
   {
    "duration": 109,
    "start_time": "2022-08-27T08:12:56.504Z"
   },
   {
    "duration": 96,
    "start_time": "2022-08-27T08:13:55.407Z"
   },
   {
    "duration": 93,
    "start_time": "2022-08-27T08:14:07.534Z"
   },
   {
    "duration": 1423,
    "start_time": "2022-08-27T08:14:22.785Z"
   },
   {
    "duration": 156,
    "start_time": "2022-08-27T08:16:26.338Z"
   },
   {
    "duration": 94,
    "start_time": "2022-08-27T08:16:47.569Z"
   },
   {
    "duration": 140,
    "start_time": "2022-08-27T08:17:20.078Z"
   },
   {
    "duration": 110,
    "start_time": "2022-08-27T08:17:47.093Z"
   },
   {
    "duration": 120,
    "start_time": "2022-08-27T08:18:46.581Z"
   },
   {
    "duration": 2117,
    "start_time": "2022-08-27T08:21:52.136Z"
   },
   {
    "duration": 216,
    "start_time": "2022-08-27T08:23:37.514Z"
   },
   {
    "duration": 8,
    "start_time": "2022-08-27T08:23:54.193Z"
   },
   {
    "duration": 4,
    "start_time": "2022-08-27T08:24:02.353Z"
   },
   {
    "duration": 114,
    "start_time": "2022-08-27T08:24:24.560Z"
   },
   {
    "duration": 0,
    "start_time": "2022-08-27T08:24:24.676Z"
   },
   {
    "duration": 1306,
    "start_time": "2022-08-27T08:24:52.973Z"
   },
   {
    "duration": 2132,
    "start_time": "2022-08-27T08:24:54.281Z"
   },
   {
    "duration": 3,
    "start_time": "2022-08-27T08:42:30.168Z"
   },
   {
    "duration": 3491,
    "start_time": "2022-08-27T08:46:21.182Z"
   },
   {
    "duration": 2231,
    "start_time": "2022-08-27T08:49:29.327Z"
   },
   {
    "duration": 3614,
    "start_time": "2022-08-27T09:10:19.987Z"
   },
   {
    "duration": 11,
    "start_time": "2022-08-27T09:10:52.029Z"
   },
   {
    "duration": 32,
    "start_time": "2022-08-27T09:11:52.406Z"
   },
   {
    "duration": 114,
    "start_time": "2022-08-27T09:12:16.234Z"
   },
   {
    "duration": 9,
    "start_time": "2022-08-27T09:12:24.741Z"
   },
   {
    "duration": 67,
    "start_time": "2022-08-27T09:15:01.601Z"
   },
   {
    "duration": 9,
    "start_time": "2022-08-27T09:17:14.467Z"
   },
   {
    "duration": 5,
    "start_time": "2022-08-27T09:17:29.067Z"
   },
   {
    "duration": 3399,
    "start_time": "2022-08-27T09:17:40.182Z"
   },
   {
    "duration": 10,
    "start_time": "2022-08-27T09:17:43.584Z"
   },
   {
    "duration": 3,
    "start_time": "2022-08-27T09:17:43.596Z"
   },
   {
    "duration": 3,
    "start_time": "2022-08-27T09:18:11.127Z"
   },
   {
    "duration": 12,
    "start_time": "2022-08-27T09:18:58.162Z"
   },
   {
    "duration": 59,
    "start_time": "2022-08-29T16:39:37.941Z"
   },
   {
    "duration": 3849,
    "start_time": "2022-08-29T16:39:45.160Z"
   },
   {
    "duration": 14,
    "start_time": "2022-08-29T16:39:49.013Z"
   },
   {
    "duration": 40,
    "start_time": "2022-08-29T16:39:49.030Z"
   },
   {
    "duration": 8,
    "start_time": "2022-08-29T17:29:35.700Z"
   },
   {
    "duration": 3451,
    "start_time": "2022-08-29T17:29:53.802Z"
   },
   {
    "duration": 11,
    "start_time": "2022-08-29T17:29:57.255Z"
   },
   {
    "duration": 16,
    "start_time": "2022-08-29T17:29:57.267Z"
   },
   {
    "duration": 5,
    "start_time": "2022-08-29T17:30:55.745Z"
   },
   {
    "duration": 6,
    "start_time": "2022-08-29T17:31:09.233Z"
   },
   {
    "duration": 3513,
    "start_time": "2022-08-29T17:31:20.516Z"
   },
   {
    "duration": 13,
    "start_time": "2022-08-29T17:31:24.032Z"
   },
   {
    "duration": 11,
    "start_time": "2022-08-29T17:31:24.046Z"
   },
   {
    "duration": 10,
    "start_time": "2022-08-29T17:35:55.893Z"
   },
   {
    "duration": 3373,
    "start_time": "2022-08-29T17:36:11.836Z"
   },
   {
    "duration": 11,
    "start_time": "2022-08-29T17:36:15.212Z"
   },
   {
    "duration": 9,
    "start_time": "2022-08-29T17:37:49.931Z"
   },
   {
    "duration": 3554,
    "start_time": "2022-08-29T17:38:04.179Z"
   },
   {
    "duration": 13,
    "start_time": "2022-08-29T17:38:07.736Z"
   },
   {
    "duration": 3349,
    "start_time": "2022-08-29T17:39:25.364Z"
   },
   {
    "duration": 12,
    "start_time": "2022-08-29T17:39:28.715Z"
   },
   {
    "duration": 3380,
    "start_time": "2022-08-29T17:40:01.257Z"
   },
   {
    "duration": 10,
    "start_time": "2022-08-29T17:40:04.640Z"
   },
   {
    "duration": 2147,
    "start_time": "2022-08-29T17:40:28.523Z"
   },
   {
    "duration": 2315,
    "start_time": "2022-08-29T17:41:29.795Z"
   },
   {
    "duration": 12,
    "start_time": "2022-08-29T17:42:09.907Z"
   },
   {
    "duration": 3487,
    "start_time": "2022-08-29T17:42:58.918Z"
   },
   {
    "duration": 12,
    "start_time": "2022-08-29T17:43:02.408Z"
   },
   {
    "duration": 7,
    "start_time": "2022-08-29T17:43:02.425Z"
   },
   {
    "duration": 16,
    "start_time": "2022-08-29T17:43:58.899Z"
   },
   {
    "duration": 5,
    "start_time": "2022-08-29T17:44:11.790Z"
   },
   {
    "duration": 4,
    "start_time": "2022-08-29T17:45:20.370Z"
   },
   {
    "duration": 6,
    "start_time": "2022-08-29T17:47:17.857Z"
   },
   {
    "duration": 31,
    "start_time": "2022-08-29T17:52:28.790Z"
   },
   {
    "duration": 2122,
    "start_time": "2022-08-30T09:10:44.328Z"
   },
   {
    "duration": 989,
    "start_time": "2022-08-30T09:13:53.139Z"
   },
   {
    "duration": 2272,
    "start_time": "2022-08-30T09:14:08.616Z"
   },
   {
    "duration": 2145,
    "start_time": "2022-08-30T09:18:22.777Z"
   },
   {
    "duration": 11,
    "start_time": "2022-08-30T09:19:37.973Z"
   },
   {
    "duration": 2325,
    "start_time": "2022-08-30T09:20:58.008Z"
   },
   {
    "duration": 4,
    "start_time": "2022-08-30T09:22:53.591Z"
   },
   {
    "duration": 6,
    "start_time": "2022-08-30T09:29:53.032Z"
   },
   {
    "duration": 47,
    "start_time": "2022-08-30T09:41:33.059Z"
   },
   {
    "duration": 52,
    "start_time": "2022-08-30T09:43:05.742Z"
   },
   {
    "duration": 57,
    "start_time": "2022-08-30T09:43:27.593Z"
   },
   {
    "duration": 0,
    "start_time": "2022-08-30T09:43:27.652Z"
   },
   {
    "duration": 0,
    "start_time": "2022-08-30T09:43:27.653Z"
   },
   {
    "duration": 3022,
    "start_time": "2022-08-30T09:43:57.491Z"
   },
   {
    "duration": 84,
    "start_time": "2022-08-30T09:45:30.786Z"
   },
   {
    "duration": 81,
    "start_time": "2022-08-30T09:46:47.484Z"
   },
   {
    "duration": 9,
    "start_time": "2022-08-30T09:49:42.822Z"
   },
   {
    "duration": 5,
    "start_time": "2022-08-30T09:49:57.965Z"
   },
   {
    "duration": 9,
    "start_time": "2022-08-30T09:54:28.823Z"
   },
   {
    "duration": 8,
    "start_time": "2022-08-30T09:57:35.442Z"
   },
   {
    "duration": 2811,
    "start_time": "2022-08-30T09:57:52.446Z"
   },
   {
    "duration": 79,
    "start_time": "2022-08-30T09:57:55.260Z"
   },
   {
    "duration": 9,
    "start_time": "2022-08-30T09:57:55.341Z"
   },
   {
    "duration": 12,
    "start_time": "2022-08-30T09:57:55.352Z"
   },
   {
    "duration": 29,
    "start_time": "2022-08-30T09:57:55.366Z"
   },
   {
    "duration": 2544,
    "start_time": "2022-08-30T10:06:05.954Z"
   },
   {
    "duration": 2867,
    "start_time": "2022-08-30T10:06:32.534Z"
   },
   {
    "duration": 86,
    "start_time": "2022-08-30T10:06:35.403Z"
   },
   {
    "duration": 21,
    "start_time": "2022-08-30T10:06:35.490Z"
   },
   {
    "duration": 4,
    "start_time": "2022-08-30T10:06:35.514Z"
   },
   {
    "duration": 13,
    "start_time": "2022-08-30T10:06:35.519Z"
   },
   {
    "duration": 2277,
    "start_time": "2022-08-30T10:06:55.533Z"
   },
   {
    "duration": 10,
    "start_time": "2022-08-30T10:09:45.769Z"
   },
   {
    "duration": 4,
    "start_time": "2022-08-30T10:51:22.891Z"
   },
   {
    "duration": 19,
    "start_time": "2022-08-30T10:51:45.751Z"
   },
   {
    "duration": 17,
    "start_time": "2022-08-30T10:52:29.469Z"
   },
   {
    "duration": 191,
    "start_time": "2022-08-30T11:05:20.562Z"
   },
   {
    "duration": 177,
    "start_time": "2022-08-30T11:07:35.636Z"
   },
   {
    "duration": 2979,
    "start_time": "2022-08-30T11:08:35.046Z"
   },
   {
    "duration": 12,
    "start_time": "2022-08-30T11:08:38.028Z"
   },
   {
    "duration": 86,
    "start_time": "2022-08-30T11:08:38.042Z"
   },
   {
    "duration": 208,
    "start_time": "2022-08-30T11:08:38.131Z"
   },
   {
    "duration": 198,
    "start_time": "2022-08-30T11:12:32.363Z"
   },
   {
    "duration": 210,
    "start_time": "2022-08-30T11:29:52.537Z"
   },
   {
    "duration": 47,
    "start_time": "2022-08-30T11:36:24.553Z"
   },
   {
    "duration": 5,
    "start_time": "2022-08-30T11:36:30.249Z"
   },
   {
    "duration": 6,
    "start_time": "2022-08-30T11:37:20.033Z"
   },
   {
    "duration": 91,
    "start_time": "2022-08-30T11:38:28.865Z"
   },
   {
    "duration": 9,
    "start_time": "2022-08-30T11:38:42.272Z"
   },
   {
    "duration": 5,
    "start_time": "2022-08-30T11:48:25.097Z"
   },
   {
    "duration": 7,
    "start_time": "2022-08-30T11:52:48.895Z"
   },
   {
    "duration": 8,
    "start_time": "2022-08-30T11:53:02.470Z"
   },
   {
    "duration": 7,
    "start_time": "2022-08-30T11:53:28.475Z"
   },
   {
    "duration": 10,
    "start_time": "2022-08-30T11:54:47.737Z"
   },
   {
    "duration": 2979,
    "start_time": "2022-08-30T11:54:53.730Z"
   },
   {
    "duration": 10,
    "start_time": "2022-08-30T11:54:56.712Z"
   },
   {
    "duration": 96,
    "start_time": "2022-08-30T11:54:56.723Z"
   },
   {
    "duration": 223,
    "start_time": "2022-08-30T11:54:56.822Z"
   },
   {
    "duration": 5,
    "start_time": "2022-08-30T11:54:57.047Z"
   },
   {
    "duration": 17,
    "start_time": "2022-08-30T11:54:57.054Z"
   },
   {
    "duration": 7,
    "start_time": "2022-08-30T11:56:43.234Z"
   },
   {
    "duration": 2919,
    "start_time": "2022-08-30T11:56:59.306Z"
   },
   {
    "duration": 9,
    "start_time": "2022-08-30T11:57:02.227Z"
   },
   {
    "duration": 101,
    "start_time": "2022-08-30T11:57:02.238Z"
   },
   {
    "duration": 226,
    "start_time": "2022-08-30T11:57:02.341Z"
   },
   {
    "duration": 5,
    "start_time": "2022-08-30T11:57:02.569Z"
   },
   {
    "duration": 29,
    "start_time": "2022-08-30T11:57:02.576Z"
   },
   {
    "duration": 8,
    "start_time": "2022-08-30T11:59:08.895Z"
   },
   {
    "duration": 6,
    "start_time": "2022-08-30T12:00:27.055Z"
   },
   {
    "duration": 75,
    "start_time": "2022-08-30T12:01:12.731Z"
   },
   {
    "duration": 212,
    "start_time": "2022-08-30T12:01:19.473Z"
   },
   {
    "duration": 11,
    "start_time": "2022-08-30T12:01:28.115Z"
   },
   {
    "duration": 61,
    "start_time": "2022-08-30T12:01:39.325Z"
   },
   {
    "duration": 5,
    "start_time": "2022-08-30T12:01:45.462Z"
   },
   {
    "duration": 4,
    "start_time": "2022-08-30T12:02:13.378Z"
   },
   {
    "duration": 2946,
    "start_time": "2022-08-30T12:07:02.059Z"
   },
   {
    "duration": 13,
    "start_time": "2022-08-30T12:07:05.008Z"
   },
   {
    "duration": 108,
    "start_time": "2022-08-30T12:07:05.024Z"
   },
   {
    "duration": 236,
    "start_time": "2022-08-30T12:07:05.134Z"
   },
   {
    "duration": 901,
    "start_time": "2022-08-30T12:07:05.373Z"
   },
   {
    "duration": 3001,
    "start_time": "2022-08-30T12:07:28.932Z"
   },
   {
    "duration": 10,
    "start_time": "2022-08-30T12:07:31.936Z"
   },
   {
    "duration": 104,
    "start_time": "2022-08-30T12:07:31.948Z"
   },
   {
    "duration": 221,
    "start_time": "2022-08-30T12:07:32.054Z"
   },
   {
    "duration": 5,
    "start_time": "2022-08-30T12:07:32.277Z"
   },
   {
    "duration": 177,
    "start_time": "2022-08-30T12:12:48.184Z"
   },
   {
    "duration": 21,
    "start_time": "2022-08-30T12:13:12.231Z"
   },
   {
    "duration": 5,
    "start_time": "2022-08-30T12:13:51.558Z"
   },
   {
    "duration": 9,
    "start_time": "2022-08-30T13:20:29.005Z"
   },
   {
    "duration": 84,
    "start_time": "2022-08-30T13:21:22.039Z"
   },
   {
    "duration": 93,
    "start_time": "2022-08-30T13:21:32.888Z"
   },
   {
    "duration": 6,
    "start_time": "2022-08-30T13:21:37.406Z"
   },
   {
    "duration": 85,
    "start_time": "2022-08-30T13:37:22.542Z"
   },
   {
    "duration": 16,
    "start_time": "2022-08-30T13:38:50.581Z"
   },
   {
    "duration": 154,
    "start_time": "2022-08-30T13:47:31.757Z"
   },
   {
    "duration": 72,
    "start_time": "2022-08-30T13:48:25.661Z"
   },
   {
    "duration": 11,
    "start_time": "2022-08-30T13:48:41.680Z"
   },
   {
    "duration": 2367,
    "start_time": "2022-08-30T13:55:02.723Z"
   },
   {
    "duration": 2556,
    "start_time": "2022-08-30T13:55:28.673Z"
   },
   {
    "duration": 2979,
    "start_time": "2022-08-30T13:55:42.186Z"
   },
   {
    "duration": 10,
    "start_time": "2022-08-30T13:55:45.167Z"
   },
   {
    "duration": 82,
    "start_time": "2022-08-30T13:55:45.179Z"
   },
   {
    "duration": 240,
    "start_time": "2022-08-30T13:55:45.263Z"
   },
   {
    "duration": 5,
    "start_time": "2022-08-30T13:55:45.504Z"
   },
   {
    "duration": 85,
    "start_time": "2022-08-30T13:56:03.441Z"
   },
   {
    "duration": 5,
    "start_time": "2022-08-30T13:56:10.152Z"
   },
   {
    "duration": 2339,
    "start_time": "2022-08-30T13:56:46.279Z"
   },
   {
    "duration": 82,
    "start_time": "2022-08-30T13:57:45.006Z"
   },
   {
    "duration": 5,
    "start_time": "2022-08-30T13:58:11.443Z"
   },
   {
    "duration": 8,
    "start_time": "2022-08-30T14:01:08.806Z"
   },
   {
    "duration": 44,
    "start_time": "2022-08-30T14:03:41.014Z"
   },
   {
    "duration": 7,
    "start_time": "2022-08-30T14:03:47.830Z"
   },
   {
    "duration": 9,
    "start_time": "2022-08-30T14:29:57.725Z"
   },
   {
    "duration": 7,
    "start_time": "2022-08-30T14:34:47.641Z"
   },
   {
    "duration": 2982,
    "start_time": "2022-08-30T14:34:59.539Z"
   },
   {
    "duration": 10,
    "start_time": "2022-08-30T14:35:02.524Z"
   },
   {
    "duration": 100,
    "start_time": "2022-08-30T14:35:02.535Z"
   },
   {
    "duration": 212,
    "start_time": "2022-08-30T14:35:02.637Z"
   },
   {
    "duration": 8,
    "start_time": "2022-08-30T14:35:02.851Z"
   },
   {
    "duration": 8,
    "start_time": "2022-08-30T14:35:02.861Z"
   },
   {
    "duration": 11,
    "start_time": "2022-08-30T14:35:56.505Z"
   },
   {
    "duration": 3237,
    "start_time": "2022-08-30T14:36:06.689Z"
   },
   {
    "duration": 11,
    "start_time": "2022-08-30T14:36:09.929Z"
   },
   {
    "duration": 91,
    "start_time": "2022-08-30T14:36:09.942Z"
   },
   {
    "duration": 235,
    "start_time": "2022-08-30T14:36:10.036Z"
   },
   {
    "duration": 9,
    "start_time": "2022-08-30T14:36:10.274Z"
   },
   {
    "duration": 40,
    "start_time": "2022-08-30T14:36:10.286Z"
   },
   {
    "duration": 9,
    "start_time": "2022-08-30T14:37:00.466Z"
   },
   {
    "duration": 9,
    "start_time": "2022-08-30T14:37:37.281Z"
   },
   {
    "duration": 2996,
    "start_time": "2022-08-30T14:37:47.233Z"
   },
   {
    "duration": 11,
    "start_time": "2022-08-30T14:37:50.232Z"
   },
   {
    "duration": 81,
    "start_time": "2022-08-30T14:37:50.245Z"
   },
   {
    "duration": 226,
    "start_time": "2022-08-30T14:37:50.328Z"
   },
   {
    "duration": 7,
    "start_time": "2022-08-30T14:37:50.556Z"
   },
   {
    "duration": 11,
    "start_time": "2022-08-30T14:37:50.565Z"
   },
   {
    "duration": 7,
    "start_time": "2022-08-30T14:38:10.135Z"
   },
   {
    "duration": 2840,
    "start_time": "2022-08-30T14:38:22.697Z"
   },
   {
    "duration": 15,
    "start_time": "2022-08-30T14:38:25.540Z"
   },
   {
    "duration": 92,
    "start_time": "2022-08-30T14:38:25.558Z"
   },
   {
    "duration": 205,
    "start_time": "2022-08-30T14:38:25.653Z"
   },
   {
    "duration": 7,
    "start_time": "2022-08-30T14:38:25.860Z"
   },
   {
    "duration": 10,
    "start_time": "2022-08-30T14:38:25.869Z"
   },
   {
    "duration": 8,
    "start_time": "2022-08-30T14:38:25.881Z"
   },
   {
    "duration": 3079,
    "start_time": "2022-08-30T14:42:48.006Z"
   },
   {
    "duration": 9,
    "start_time": "2022-08-30T14:42:51.088Z"
   },
   {
    "duration": 118,
    "start_time": "2022-08-30T14:42:51.099Z"
   },
   {
    "duration": 238,
    "start_time": "2022-08-30T14:42:51.219Z"
   },
   {
    "duration": 7,
    "start_time": "2022-08-30T14:42:51.458Z"
   },
   {
    "duration": 225,
    "start_time": "2022-08-30T14:44:00.593Z"
   },
   {
    "duration": 84,
    "start_time": "2022-08-30T14:45:36.071Z"
   },
   {
    "duration": 12,
    "start_time": "2022-08-30T14:46:26.583Z"
   },
   {
    "duration": 7,
    "start_time": "2022-08-30T14:46:42.331Z"
   },
   {
    "duration": 2845,
    "start_time": "2022-08-30T14:46:51.768Z"
   },
   {
    "duration": 9,
    "start_time": "2022-08-30T14:46:54.615Z"
   },
   {
    "duration": 88,
    "start_time": "2022-08-30T14:46:54.628Z"
   },
   {
    "duration": 220,
    "start_time": "2022-08-30T14:46:54.718Z"
   },
   {
    "duration": 7,
    "start_time": "2022-08-30T14:46:54.940Z"
   },
   {
    "duration": 7,
    "start_time": "2022-08-30T14:47:03.754Z"
   },
   {
    "duration": 2880,
    "start_time": "2022-08-30T14:47:10.545Z"
   },
   {
    "duration": 11,
    "start_time": "2022-08-30T14:47:13.427Z"
   },
   {
    "duration": 80,
    "start_time": "2022-08-30T14:47:13.440Z"
   },
   {
    "duration": 240,
    "start_time": "2022-08-30T14:47:13.522Z"
   },
   {
    "duration": 8,
    "start_time": "2022-08-30T14:47:13.763Z"
   },
   {
    "duration": 7,
    "start_time": "2022-08-30T14:48:12.784Z"
   },
   {
    "duration": 8,
    "start_time": "2022-08-30T14:48:45.112Z"
   },
   {
    "duration": 2,
    "start_time": "2022-08-30T14:49:39.707Z"
   },
   {
    "duration": 5,
    "start_time": "2022-08-30T14:49:50.127Z"
   },
   {
    "duration": 3,
    "start_time": "2022-08-30T14:50:22.619Z"
   },
   {
    "duration": 45,
    "start_time": "2022-08-30T14:50:28.152Z"
   },
   {
    "duration": 60,
    "start_time": "2022-08-30T14:50:38.566Z"
   },
   {
    "duration": 6,
    "start_time": "2022-08-30T14:51:00.892Z"
   },
   {
    "duration": 7,
    "start_time": "2022-08-30T14:51:30.131Z"
   },
   {
    "duration": 81,
    "start_time": "2022-08-30T15:27:05.934Z"
   },
   {
    "duration": 12,
    "start_time": "2022-08-30T15:28:31.316Z"
   },
   {
    "duration": 11,
    "start_time": "2022-08-30T15:29:51.511Z"
   },
   {
    "duration": 3031,
    "start_time": "2022-08-30T15:30:17.630Z"
   },
   {
    "duration": 10,
    "start_time": "2022-08-30T15:30:20.663Z"
   },
   {
    "duration": 96,
    "start_time": "2022-08-30T15:30:20.675Z"
   },
   {
    "duration": 231,
    "start_time": "2022-08-30T15:30:20.773Z"
   },
   {
    "duration": 75,
    "start_time": "2022-08-30T15:30:21.006Z"
   },
   {
    "duration": 59,
    "start_time": "2022-08-30T15:32:29.106Z"
   },
   {
    "duration": 59,
    "start_time": "2022-08-30T15:33:03.017Z"
   },
   {
    "duration": 13,
    "start_time": "2022-08-30T15:33:47.961Z"
   },
   {
    "duration": 12,
    "start_time": "2022-08-30T15:34:39.144Z"
   },
   {
    "duration": 10,
    "start_time": "2022-08-30T15:35:09.412Z"
   },
   {
    "duration": 9,
    "start_time": "2022-08-30T15:36:37.628Z"
   },
   {
    "duration": 10,
    "start_time": "2022-08-30T15:36:43.832Z"
   },
   {
    "duration": 9,
    "start_time": "2022-08-30T15:38:11.344Z"
   },
   {
    "duration": 12,
    "start_time": "2022-08-30T15:39:10.776Z"
   },
   {
    "duration": 9,
    "start_time": "2022-08-30T15:40:21.705Z"
   },
   {
    "duration": 12,
    "start_time": "2022-08-30T15:40:28.327Z"
   },
   {
    "duration": 15,
    "start_time": "2022-08-30T15:41:24.455Z"
   },
   {
    "duration": 12,
    "start_time": "2022-08-30T15:42:07.292Z"
   },
   {
    "duration": 15,
    "start_time": "2022-08-30T15:42:18.355Z"
   },
   {
    "duration": 12,
    "start_time": "2022-08-30T15:44:54.131Z"
   },
   {
    "duration": 12,
    "start_time": "2022-08-30T15:48:25.342Z"
   },
   {
    "duration": 14,
    "start_time": "2022-08-30T15:48:29.270Z"
   },
   {
    "duration": 13,
    "start_time": "2022-08-30T15:48:42.396Z"
   },
   {
    "duration": 11,
    "start_time": "2022-08-30T15:49:09.113Z"
   },
   {
    "duration": 19,
    "start_time": "2022-08-30T15:53:26.651Z"
   },
   {
    "duration": 8,
    "start_time": "2022-08-30T15:53:41.169Z"
   },
   {
    "duration": 9,
    "start_time": "2022-08-30T15:53:47.348Z"
   },
   {
    "duration": 14,
    "start_time": "2022-08-30T15:54:08.269Z"
   },
   {
    "duration": 11,
    "start_time": "2022-08-30T15:54:24.510Z"
   },
   {
    "duration": 12,
    "start_time": "2022-08-30T15:55:45.822Z"
   },
   {
    "duration": 13,
    "start_time": "2022-08-30T15:57:30.071Z"
   },
   {
    "duration": 15,
    "start_time": "2022-08-30T16:02:58.832Z"
   },
   {
    "duration": 14,
    "start_time": "2022-08-30T16:04:05.685Z"
   },
   {
    "duration": 23,
    "start_time": "2022-08-30T16:06:59.228Z"
   },
   {
    "duration": 16,
    "start_time": "2022-08-30T16:07:16.004Z"
   },
   {
    "duration": 15,
    "start_time": "2022-08-30T16:07:25.514Z"
   },
   {
    "duration": 15,
    "start_time": "2022-08-30T16:09:31.703Z"
   },
   {
    "duration": 15,
    "start_time": "2022-08-30T16:09:49.489Z"
   },
   {
    "duration": 22,
    "start_time": "2022-08-30T16:18:14.609Z"
   },
   {
    "duration": 15,
    "start_time": "2022-08-30T16:21:11.412Z"
   },
   {
    "duration": 22,
    "start_time": "2022-08-30T16:22:05.237Z"
   },
   {
    "duration": 16,
    "start_time": "2022-08-30T16:22:41.573Z"
   },
   {
    "duration": 14,
    "start_time": "2022-08-30T16:24:11.067Z"
   },
   {
    "duration": 23,
    "start_time": "2022-08-30T16:24:30.336Z"
   },
   {
    "duration": 30,
    "start_time": "2022-08-30T16:50:17.662Z"
   },
   {
    "duration": 10,
    "start_time": "2022-08-30T16:53:00.995Z"
   },
   {
    "duration": 32,
    "start_time": "2022-08-30T16:53:10.144Z"
   },
   {
    "duration": 34,
    "start_time": "2022-08-30T16:54:14.821Z"
   },
   {
    "duration": 59,
    "start_time": "2022-08-30T17:01:31.874Z"
   },
   {
    "duration": 55,
    "start_time": "2022-08-30T17:02:26.256Z"
   },
   {
    "duration": 61,
    "start_time": "2022-08-30T17:04:11.738Z"
   },
   {
    "duration": 55,
    "start_time": "2022-08-30T17:04:31.981Z"
   },
   {
    "duration": 54,
    "start_time": "2022-08-30T17:05:04.130Z"
   },
   {
    "duration": 2950,
    "start_time": "2022-08-30T17:06:13.707Z"
   },
   {
    "duration": 10,
    "start_time": "2022-08-30T17:06:16.660Z"
   },
   {
    "duration": 92,
    "start_time": "2022-08-30T17:06:16.671Z"
   },
   {
    "duration": 218,
    "start_time": "2022-08-30T17:06:16.765Z"
   },
   {
    "duration": 64,
    "start_time": "2022-08-30T17:06:16.984Z"
   },
   {
    "duration": 69,
    "start_time": "2022-08-30T17:07:17.182Z"
   },
   {
    "duration": 80,
    "start_time": "2022-08-30T17:15:37.568Z"
   },
   {
    "duration": 107,
    "start_time": "2022-08-30T17:19:14.146Z"
   },
   {
    "duration": 82,
    "start_time": "2022-08-30T17:19:58.401Z"
   },
   {
    "duration": 35,
    "start_time": "2022-08-30T17:20:01.734Z"
   },
   {
    "duration": 106,
    "start_time": "2022-08-30T17:20:34.814Z"
   },
   {
    "duration": 2400,
    "start_time": "2022-08-30T17:22:49.506Z"
   },
   {
    "duration": 106,
    "start_time": "2022-08-30T17:25:45.192Z"
   },
   {
    "duration": 106,
    "start_time": "2022-08-30T17:26:15.827Z"
   },
   {
    "duration": 2812,
    "start_time": "2022-08-30T17:26:21.005Z"
   },
   {
    "duration": 9,
    "start_time": "2022-08-30T17:26:23.819Z"
   },
   {
    "duration": 208,
    "start_time": "2022-08-30T17:26:23.830Z"
   },
   {
    "duration": 55,
    "start_time": "2022-08-30T17:26:24.039Z"
   },
   {
    "duration": 72,
    "start_time": "2022-08-30T17:26:24.104Z"
   },
   {
    "duration": 120,
    "start_time": "2022-08-30T17:26:24.177Z"
   },
   {
    "duration": 596,
    "start_time": "2022-08-30T17:47:49.499Z"
   },
   {
    "duration": 2830,
    "start_time": "2022-08-30T17:51:03.067Z"
   },
   {
    "duration": 13,
    "start_time": "2022-08-30T17:51:05.900Z"
   },
   {
    "duration": 220,
    "start_time": "2022-08-30T17:51:05.916Z"
   },
   {
    "duration": 69,
    "start_time": "2022-08-30T17:51:06.138Z"
   },
   {
    "duration": 80,
    "start_time": "2022-08-30T17:51:06.209Z"
   },
   {
    "duration": 3122,
    "start_time": "2022-08-30T17:51:22.267Z"
   },
   {
    "duration": 11,
    "start_time": "2022-08-30T17:51:25.392Z"
   },
   {
    "duration": 225,
    "start_time": "2022-08-30T17:51:25.405Z"
   },
   {
    "duration": 57,
    "start_time": "2022-08-30T17:51:25.632Z"
   },
   {
    "duration": 91,
    "start_time": "2022-08-30T17:51:25.690Z"
   },
   {
    "duration": 680,
    "start_time": "2022-08-30T17:51:25.783Z"
   },
   {
    "duration": 144,
    "start_time": "2022-08-30T17:51:26.465Z"
   },
   {
    "duration": 3111,
    "start_time": "2022-08-30T17:52:36.902Z"
   },
   {
    "duration": 12,
    "start_time": "2022-08-30T17:52:40.016Z"
   },
   {
    "duration": 262,
    "start_time": "2022-08-30T17:52:40.030Z"
   },
   {
    "duration": 67,
    "start_time": "2022-08-30T17:52:40.295Z"
   },
   {
    "duration": 118,
    "start_time": "2022-08-30T17:52:40.366Z"
   },
   {
    "duration": 656,
    "start_time": "2022-08-30T17:52:40.486Z"
   },
   {
    "duration": 2986,
    "start_time": "2022-08-30T17:53:07.007Z"
   },
   {
    "duration": 10,
    "start_time": "2022-08-30T17:53:09.996Z"
   },
   {
    "duration": 232,
    "start_time": "2022-08-30T17:53:10.008Z"
   },
   {
    "duration": 73,
    "start_time": "2022-08-30T17:53:10.243Z"
   },
   {
    "duration": 95,
    "start_time": "2022-08-30T17:53:10.318Z"
   },
   {
    "duration": 634,
    "start_time": "2022-08-30T17:53:10.416Z"
   },
   {
    "duration": 2922,
    "start_time": "2022-08-30T17:55:33.179Z"
   },
   {
    "duration": 18,
    "start_time": "2022-08-30T17:55:36.104Z"
   },
   {
    "duration": 239,
    "start_time": "2022-08-30T17:55:36.124Z"
   },
   {
    "duration": 77,
    "start_time": "2022-08-30T17:55:36.365Z"
   },
   {
    "duration": 96,
    "start_time": "2022-08-30T17:55:36.444Z"
   },
   {
    "duration": 652,
    "start_time": "2022-08-30T17:55:36.542Z"
   },
   {
    "duration": 130,
    "start_time": "2022-08-30T17:55:37.196Z"
   },
   {
    "duration": 128,
    "start_time": "2022-08-30T17:55:37.328Z"
   },
   {
    "duration": 155,
    "start_time": "2022-08-30T17:56:49.919Z"
   },
   {
    "duration": 3082,
    "start_time": "2022-08-30T17:57:04.837Z"
   },
   {
    "duration": 14,
    "start_time": "2022-08-30T17:57:07.923Z"
   },
   {
    "duration": 229,
    "start_time": "2022-08-30T17:57:07.939Z"
   },
   {
    "duration": 73,
    "start_time": "2022-08-30T17:57:08.170Z"
   },
   {
    "duration": 94,
    "start_time": "2022-08-30T17:57:08.245Z"
   },
   {
    "duration": 680,
    "start_time": "2022-08-30T17:57:08.340Z"
   },
   {
    "duration": 233,
    "start_time": "2022-08-30T17:57:09.022Z"
   },
   {
    "duration": 168,
    "start_time": "2022-08-30T17:57:09.258Z"
   },
   {
    "duration": 338,
    "start_time": "2022-08-30T17:57:18.151Z"
   },
   {
    "duration": 449,
    "start_time": "2022-08-30T18:02:11.168Z"
   },
   {
    "duration": 360,
    "start_time": "2022-08-30T18:02:26.014Z"
   },
   {
    "duration": 66,
    "start_time": "2022-08-30T18:03:33.264Z"
   },
   {
    "duration": 3071,
    "start_time": "2022-08-30T18:03:39.375Z"
   },
   {
    "duration": 14,
    "start_time": "2022-08-30T18:03:42.448Z"
   },
   {
    "duration": 3090,
    "start_time": "2022-08-30T18:04:07.167Z"
   },
   {
    "duration": 14,
    "start_time": "2022-08-30T18:04:10.261Z"
   },
   {
    "duration": 287,
    "start_time": "2022-08-30T18:04:10.277Z"
   },
   {
    "duration": 73,
    "start_time": "2022-08-30T18:04:10.566Z"
   },
   {
    "duration": 88,
    "start_time": "2022-08-30T18:04:10.641Z"
   },
   {
    "duration": 686,
    "start_time": "2022-08-30T18:04:10.731Z"
   },
   {
    "duration": 460,
    "start_time": "2022-08-30T18:04:11.421Z"
   },
   {
    "duration": 168,
    "start_time": "2022-08-30T18:04:11.883Z"
   },
   {
    "duration": 0,
    "start_time": "2022-08-30T18:04:12.053Z"
   },
   {
    "duration": 85,
    "start_time": "2022-08-30T18:04:25.122Z"
   },
   {
    "duration": 3182,
    "start_time": "2022-08-30T18:05:57.219Z"
   },
   {
    "duration": 16,
    "start_time": "2022-08-30T18:06:00.403Z"
   },
   {
    "duration": 253,
    "start_time": "2022-08-30T18:06:00.421Z"
   },
   {
    "duration": 70,
    "start_time": "2022-08-30T18:06:00.676Z"
   },
   {
    "duration": 98,
    "start_time": "2022-08-30T18:06:00.749Z"
   },
   {
    "duration": 689,
    "start_time": "2022-08-30T18:06:00.849Z"
   },
   {
    "duration": 523,
    "start_time": "2022-08-30T18:06:01.541Z"
   },
   {
    "duration": 37731,
    "start_time": "2022-08-30T18:06:02.065Z"
   },
   {
    "duration": 133,
    "start_time": "2022-08-30T18:06:39.798Z"
   },
   {
    "duration": 1589,
    "start_time": "2022-08-30T18:06:39.934Z"
   },
   {
    "duration": 3166,
    "start_time": "2022-08-30T18:06:47.831Z"
   },
   {
    "duration": 22,
    "start_time": "2022-08-30T18:06:51.000Z"
   },
   {
    "duration": 249,
    "start_time": "2022-08-30T18:06:51.023Z"
   },
   {
    "duration": 80,
    "start_time": "2022-08-30T18:06:51.274Z"
   },
   {
    "duration": 87,
    "start_time": "2022-08-30T18:06:51.357Z"
   },
   {
    "duration": 676,
    "start_time": "2022-08-30T18:06:51.446Z"
   },
   {
    "duration": 586,
    "start_time": "2022-08-30T18:06:52.124Z"
   },
   {
    "duration": 145,
    "start_time": "2022-08-30T18:06:52.715Z"
   },
   {
    "duration": 462,
    "start_time": "2022-08-30T18:10:05.325Z"
   },
   {
    "duration": 339,
    "start_time": "2022-08-30T18:10:19.081Z"
   },
   {
    "duration": 3170,
    "start_time": "2022-08-30T18:10:27.048Z"
   },
   {
    "duration": 10,
    "start_time": "2022-08-30T18:10:30.221Z"
   },
   {
    "duration": 235,
    "start_time": "2022-08-30T18:10:30.233Z"
   },
   {
    "duration": 70,
    "start_time": "2022-08-30T18:10:30.470Z"
   },
   {
    "duration": 96,
    "start_time": "2022-08-30T18:10:30.542Z"
   },
   {
    "duration": 376,
    "start_time": "2022-08-30T18:10:30.640Z"
   },
   {
    "duration": 0,
    "start_time": "2022-08-30T18:10:31.018Z"
   },
   {
    "duration": 0,
    "start_time": "2022-08-30T18:10:31.018Z"
   },
   {
    "duration": 745,
    "start_time": "2022-08-30T18:10:49.650Z"
   },
   {
    "duration": 488,
    "start_time": "2022-08-30T18:14:25.920Z"
   },
   {
    "duration": 974,
    "start_time": "2022-08-30T18:16:37.320Z"
   },
   {
    "duration": 11,
    "start_time": "2022-08-30T18:23:20.409Z"
   },
   {
    "duration": 4,
    "start_time": "2022-08-30T18:24:00.770Z"
   },
   {
    "duration": 185,
    "start_time": "2022-08-30T18:24:45.545Z"
   },
   {
    "duration": 179,
    "start_time": "2022-08-30T18:24:53.217Z"
   },
   {
    "duration": 3190,
    "start_time": "2022-08-30T18:25:23.947Z"
   },
   {
    "duration": 16,
    "start_time": "2022-08-30T18:25:27.140Z"
   },
   {
    "duration": 306,
    "start_time": "2022-08-30T18:25:27.161Z"
   },
   {
    "duration": 75,
    "start_time": "2022-08-30T18:25:27.470Z"
   },
   {
    "duration": 95,
    "start_time": "2022-08-30T18:25:27.547Z"
   },
   {
    "duration": 5,
    "start_time": "2022-08-30T18:25:27.643Z"
   },
   {
    "duration": 686,
    "start_time": "2022-08-30T18:25:27.649Z"
   },
   {
    "duration": 382,
    "start_time": "2022-08-30T18:25:28.337Z"
   },
   {
    "duration": 0,
    "start_time": "2022-08-30T18:25:28.721Z"
   },
   {
    "duration": 278,
    "start_time": "2022-08-30T18:25:58.685Z"
   },
   {
    "duration": 944,
    "start_time": "2022-08-30T18:26:23.827Z"
   },
   {
    "duration": 1712,
    "start_time": "2022-08-30T18:31:55.125Z"
   },
   {
    "duration": 2974,
    "start_time": "2022-08-30T18:32:56.203Z"
   },
   {
    "duration": 10,
    "start_time": "2022-08-30T18:32:59.179Z"
   },
   {
    "duration": 211,
    "start_time": "2022-08-30T18:32:59.191Z"
   },
   {
    "duration": 56,
    "start_time": "2022-08-30T18:32:59.405Z"
   },
   {
    "duration": 94,
    "start_time": "2022-08-30T18:32:59.463Z"
   },
   {
    "duration": 4,
    "start_time": "2022-08-30T18:32:59.558Z"
   },
   {
    "duration": 620,
    "start_time": "2022-08-30T18:32:59.564Z"
   },
   {
    "duration": 1777,
    "start_time": "2022-08-30T18:33:00.186Z"
   },
   {
    "duration": 0,
    "start_time": "2022-08-30T18:33:01.965Z"
   },
   {
    "duration": 1829,
    "start_time": "2022-08-30T18:34:21.639Z"
   },
   {
    "duration": 1546,
    "start_time": "2022-08-30T18:35:20.508Z"
   },
   {
    "duration": 117,
    "start_time": "2022-08-30T18:35:30.041Z"
   },
   {
    "duration": 2962,
    "start_time": "2022-08-30T18:41:16.951Z"
   },
   {
    "duration": 9,
    "start_time": "2022-08-30T18:41:19.915Z"
   },
   {
    "duration": 214,
    "start_time": "2022-08-30T18:41:19.926Z"
   },
   {
    "duration": 67,
    "start_time": "2022-08-30T18:41:20.142Z"
   },
   {
    "duration": 78,
    "start_time": "2022-08-30T18:41:20.211Z"
   },
   {
    "duration": 15,
    "start_time": "2022-08-30T18:41:20.290Z"
   },
   {
    "duration": 637,
    "start_time": "2022-08-30T18:41:20.307Z"
   },
   {
    "duration": 1559,
    "start_time": "2022-08-30T18:41:20.946Z"
   },
   {
    "duration": 58,
    "start_time": "2022-08-30T18:41:22.507Z"
   },
   {
    "duration": 130,
    "start_time": "2022-08-30T18:41:22.568Z"
   },
   {
    "duration": 2910,
    "start_time": "2022-08-30T18:42:55.303Z"
   },
   {
    "duration": 9,
    "start_time": "2022-08-30T18:42:58.216Z"
   },
   {
    "duration": 219,
    "start_time": "2022-08-30T18:42:58.226Z"
   },
   {
    "duration": 63,
    "start_time": "2022-08-30T18:42:58.447Z"
   },
   {
    "duration": 91,
    "start_time": "2022-08-30T18:42:58.512Z"
   },
   {
    "duration": 4,
    "start_time": "2022-08-30T18:42:58.605Z"
   },
   {
    "duration": 703,
    "start_time": "2022-08-30T18:42:58.611Z"
   },
   {
    "duration": 1619,
    "start_time": "2022-08-30T18:42:59.316Z"
   },
   {
    "duration": 69,
    "start_time": "2022-08-30T18:43:00.937Z"
   },
   {
    "duration": 77,
    "start_time": "2022-08-30T18:43:01.010Z"
   },
   {
    "duration": 0,
    "start_time": "2022-08-30T18:43:01.089Z"
   },
   {
    "duration": 2971,
    "start_time": "2022-08-30T18:44:41.686Z"
   },
   {
    "duration": 11,
    "start_time": "2022-08-30T18:44:44.659Z"
   },
   {
    "duration": 239,
    "start_time": "2022-08-30T18:44:44.672Z"
   },
   {
    "duration": 60,
    "start_time": "2022-08-30T18:44:44.913Z"
   },
   {
    "duration": 93,
    "start_time": "2022-08-30T18:44:44.975Z"
   },
   {
    "duration": 3,
    "start_time": "2022-08-30T18:44:45.070Z"
   },
   {
    "duration": 642,
    "start_time": "2022-08-30T18:44:45.075Z"
   },
   {
    "duration": 1540,
    "start_time": "2022-08-30T18:44:45.719Z"
   },
   {
    "duration": 62,
    "start_time": "2022-08-30T18:44:47.260Z"
   },
   {
    "duration": 1131,
    "start_time": "2022-08-30T18:44:47.324Z"
   },
   {
    "duration": 116,
    "start_time": "2022-08-30T18:44:48.457Z"
   },
   {
    "duration": 91,
    "start_time": "2022-08-30T18:47:13.055Z"
   },
   {
    "duration": 48,
    "start_time": "2022-08-30T18:47:39.315Z"
   },
   {
    "duration": 2970,
    "start_time": "2022-08-30T18:50:04.264Z"
   },
   {
    "duration": 46,
    "start_time": "2022-08-30T18:51:20.484Z"
   },
   {
    "duration": 3238,
    "start_time": "2022-08-30T18:51:37.303Z"
   },
   {
    "duration": 2964,
    "start_time": "2022-08-30T18:51:56.979Z"
   },
   {
    "duration": 3108,
    "start_time": "2022-08-30T18:52:17.417Z"
   },
   {
    "duration": 626,
    "start_time": "2022-08-30T18:52:40.224Z"
   },
   {
    "duration": 2866,
    "start_time": "2022-08-30T19:04:51.271Z"
   },
   {
    "duration": 10,
    "start_time": "2022-08-30T19:04:54.139Z"
   },
   {
    "duration": 227,
    "start_time": "2022-08-30T19:04:54.151Z"
   },
   {
    "duration": 66,
    "start_time": "2022-08-30T19:04:54.380Z"
   },
   {
    "duration": 4,
    "start_time": "2022-08-30T19:04:54.448Z"
   },
   {
    "duration": 77,
    "start_time": "2022-08-30T19:04:54.454Z"
   },
   {
    "duration": 114,
    "start_time": "2022-08-30T19:04:54.533Z"
   },
   {
    "duration": 4,
    "start_time": "2022-08-30T19:04:54.649Z"
   },
   {
    "duration": 4,
    "start_time": "2022-08-30T19:05:35.314Z"
   },
   {
    "duration": 88,
    "start_time": "2022-08-30T19:14:35.062Z"
   },
   {
    "duration": 2974,
    "start_time": "2022-08-30T19:15:14.019Z"
   },
   {
    "duration": 9,
    "start_time": "2022-08-30T19:15:16.996Z"
   },
   {
    "duration": 279,
    "start_time": "2022-08-30T19:15:17.007Z"
   },
   {
    "duration": 73,
    "start_time": "2022-08-30T19:15:17.288Z"
   },
   {
    "duration": 4,
    "start_time": "2022-08-30T19:15:17.364Z"
   },
   {
    "duration": 89,
    "start_time": "2022-08-30T19:15:17.370Z"
   },
   {
    "duration": 133,
    "start_time": "2022-08-30T19:15:17.461Z"
   },
   {
    "duration": 86,
    "start_time": "2022-08-30T19:15:17.596Z"
   },
   {
    "duration": 8,
    "start_time": "2022-08-30T19:17:48.618Z"
   },
   {
    "duration": 2932,
    "start_time": "2022-08-30T19:17:55.053Z"
   },
   {
    "duration": 10,
    "start_time": "2022-08-30T19:17:57.987Z"
   },
   {
    "duration": 216,
    "start_time": "2022-08-30T19:17:57.998Z"
   },
   {
    "duration": 56,
    "start_time": "2022-08-30T19:17:58.217Z"
   },
   {
    "duration": 4,
    "start_time": "2022-08-30T19:17:58.274Z"
   },
   {
    "duration": 60,
    "start_time": "2022-08-30T19:17:58.302Z"
   },
   {
    "duration": 130,
    "start_time": "2022-08-30T19:17:58.364Z"
   },
   {
    "duration": 89,
    "start_time": "2022-08-30T19:17:58.496Z"
   },
   {
    "duration": 0,
    "start_time": "2022-08-30T19:17:58.586Z"
   },
   {
    "duration": 0,
    "start_time": "2022-08-30T19:17:58.587Z"
   },
   {
    "duration": 13,
    "start_time": "2022-08-30T19:18:57.020Z"
   },
   {
    "duration": 428,
    "start_time": "2022-08-30T19:18:59.352Z"
   },
   {
    "duration": 4,
    "start_time": "2022-08-30T19:19:13.570Z"
   },
   {
    "duration": 9,
    "start_time": "2022-08-30T19:19:20.444Z"
   },
   {
    "duration": 9,
    "start_time": "2022-08-30T19:26:39.529Z"
   },
   {
    "duration": 9,
    "start_time": "2022-08-30T19:30:07.973Z"
   },
   {
    "duration": 9,
    "start_time": "2022-08-30T19:35:06.813Z"
   },
   {
    "duration": 4,
    "start_time": "2022-08-30T19:35:40.332Z"
   },
   {
    "duration": 16,
    "start_time": "2022-08-30T19:35:46.899Z"
   },
   {
    "duration": 22,
    "start_time": "2022-08-30T19:38:34.199Z"
   },
   {
    "duration": 4,
    "start_time": "2022-08-30T19:42:14.031Z"
   },
   {
    "duration": 20,
    "start_time": "2022-08-30T20:15:40.012Z"
   },
   {
    "duration": 14,
    "start_time": "2022-08-30T20:16:18.650Z"
   },
   {
    "duration": 1961,
    "start_time": "2022-08-30T20:19:30.937Z"
   },
   {
    "duration": 1502,
    "start_time": "2022-08-30T20:23:26.065Z"
   },
   {
    "duration": 458,
    "start_time": "2022-08-30T20:23:48.632Z"
   },
   {
    "duration": 2885,
    "start_time": "2022-08-30T20:23:55.596Z"
   },
   {
    "duration": 10,
    "start_time": "2022-08-30T20:23:58.483Z"
   },
   {
    "duration": 219,
    "start_time": "2022-08-30T20:23:58.495Z"
   },
   {
    "duration": 56,
    "start_time": "2022-08-30T20:23:58.716Z"
   },
   {
    "duration": 4,
    "start_time": "2022-08-30T20:23:58.774Z"
   },
   {
    "duration": 77,
    "start_time": "2022-08-30T20:23:58.779Z"
   },
   {
    "duration": 151,
    "start_time": "2022-08-30T20:23:58.858Z"
   },
   {
    "duration": 5,
    "start_time": "2022-08-30T20:23:59.011Z"
   },
   {
    "duration": 328,
    "start_time": "2022-08-30T20:23:59.018Z"
   },
   {
    "duration": 4,
    "start_time": "2022-08-30T20:23:59.348Z"
   },
   {
    "duration": 21,
    "start_time": "2022-08-30T20:23:59.354Z"
   },
   {
    "duration": 1476,
    "start_time": "2022-08-30T20:23:59.377Z"
   },
   {
    "duration": 525,
    "start_time": "2022-08-30T20:24:00.854Z"
   },
   {
    "duration": 0,
    "start_time": "2022-08-30T20:24:01.382Z"
   },
   {
    "duration": 421,
    "start_time": "2022-08-30T20:24:22.580Z"
   },
   {
    "duration": 402,
    "start_time": "2022-08-30T20:25:00.342Z"
   },
   {
    "duration": 208,
    "start_time": "2022-08-30T20:25:50.322Z"
   },
   {
    "duration": 2879,
    "start_time": "2022-08-30T20:26:02.514Z"
   },
   {
    "duration": 10,
    "start_time": "2022-08-30T20:26:05.396Z"
   },
   {
    "duration": 215,
    "start_time": "2022-08-30T20:26:05.407Z"
   },
   {
    "duration": 56,
    "start_time": "2022-08-30T20:26:05.624Z"
   },
   {
    "duration": 4,
    "start_time": "2022-08-30T20:26:05.682Z"
   },
   {
    "duration": 62,
    "start_time": "2022-08-30T20:26:05.703Z"
   },
   {
    "duration": 120,
    "start_time": "2022-08-30T20:26:05.766Z"
   },
   {
    "duration": 4,
    "start_time": "2022-08-30T20:26:05.887Z"
   },
   {
    "duration": 306,
    "start_time": "2022-08-30T20:26:05.903Z"
   },
   {
    "duration": 3,
    "start_time": "2022-08-30T20:26:06.212Z"
   },
   {
    "duration": 18,
    "start_time": "2022-08-30T20:26:06.217Z"
   },
   {
    "duration": 1471,
    "start_time": "2022-08-30T20:26:06.237Z"
   },
   {
    "duration": 201,
    "start_time": "2022-08-30T20:26:07.710Z"
   },
   {
    "duration": 217,
    "start_time": "2022-08-30T20:26:07.913Z"
   },
   {
    "duration": 90,
    "start_time": "2022-08-30T20:26:08.132Z"
   },
   {
    "duration": 0,
    "start_time": "2022-08-30T20:26:08.223Z"
   },
   {
    "duration": 0,
    "start_time": "2022-08-30T20:26:08.225Z"
   },
   {
    "duration": 0,
    "start_time": "2022-08-30T20:26:08.226Z"
   },
   {
    "duration": 15,
    "start_time": "2022-08-30T20:26:36.329Z"
   },
   {
    "duration": 16,
    "start_time": "2022-08-30T20:27:30.137Z"
   },
   {
    "duration": 241,
    "start_time": "2022-08-30T20:27:36.723Z"
   },
   {
    "duration": 265,
    "start_time": "2022-08-30T20:27:40.963Z"
   },
   {
    "duration": 878,
    "start_time": "2022-08-30T20:27:54.759Z"
   },
   {
    "duration": 17,
    "start_time": "2022-08-30T20:28:30.980Z"
   },
   {
    "duration": 18,
    "start_time": "2022-08-30T20:38:25.557Z"
   },
   {
    "duration": 16,
    "start_time": "2022-08-30T20:38:32.875Z"
   },
   {
    "duration": 2840,
    "start_time": "2022-08-30T20:38:38.209Z"
   },
   {
    "duration": 10,
    "start_time": "2022-08-30T20:38:41.051Z"
   },
   {
    "duration": 217,
    "start_time": "2022-08-30T20:38:41.062Z"
   },
   {
    "duration": 79,
    "start_time": "2022-08-30T20:38:41.281Z"
   },
   {
    "duration": 5,
    "start_time": "2022-08-30T20:38:41.362Z"
   },
   {
    "duration": 83,
    "start_time": "2022-08-30T20:38:41.369Z"
   },
   {
    "duration": 118,
    "start_time": "2022-08-30T20:38:41.453Z"
   },
   {
    "duration": 4,
    "start_time": "2022-08-30T20:38:41.573Z"
   },
   {
    "duration": 326,
    "start_time": "2022-08-30T20:38:41.579Z"
   },
   {
    "duration": 5,
    "start_time": "2022-08-30T20:38:41.907Z"
   },
   {
    "duration": 22,
    "start_time": "2022-08-30T20:38:41.914Z"
   },
   {
    "duration": 1448,
    "start_time": "2022-08-30T20:38:41.938Z"
   },
   {
    "duration": 197,
    "start_time": "2022-08-30T20:38:43.388Z"
   },
   {
    "duration": 216,
    "start_time": "2022-08-30T20:38:43.587Z"
   },
   {
    "duration": 78,
    "start_time": "2022-08-30T20:38:43.804Z"
   },
   {
    "duration": 0,
    "start_time": "2022-08-30T20:38:43.883Z"
   },
   {
    "duration": 0,
    "start_time": "2022-08-30T20:38:43.885Z"
   },
   {
    "duration": 0,
    "start_time": "2022-08-30T20:38:43.886Z"
   },
   {
    "duration": 117,
    "start_time": "2022-08-30T20:42:12.848Z"
   },
   {
    "duration": 2894,
    "start_time": "2022-08-30T20:43:00.411Z"
   },
   {
    "duration": 10,
    "start_time": "2022-08-30T20:43:03.307Z"
   },
   {
    "duration": 223,
    "start_time": "2022-08-30T20:43:03.318Z"
   },
   {
    "duration": 70,
    "start_time": "2022-08-30T20:43:03.543Z"
   },
   {
    "duration": 4,
    "start_time": "2022-08-30T20:43:03.615Z"
   },
   {
    "duration": 70,
    "start_time": "2022-08-30T20:43:03.620Z"
   },
   {
    "duration": 128,
    "start_time": "2022-08-30T20:43:03.704Z"
   },
   {
    "duration": 4,
    "start_time": "2022-08-30T20:43:03.834Z"
   },
   {
    "duration": 306,
    "start_time": "2022-08-30T20:43:03.840Z"
   },
   {
    "duration": 3,
    "start_time": "2022-08-30T20:43:04.149Z"
   },
   {
    "duration": 20,
    "start_time": "2022-08-30T20:43:04.154Z"
   },
   {
    "duration": 1453,
    "start_time": "2022-08-30T20:43:04.176Z"
   },
   {
    "duration": 203,
    "start_time": "2022-08-30T20:43:05.631Z"
   },
   {
    "duration": 233,
    "start_time": "2022-08-30T20:43:05.836Z"
   },
   {
    "duration": 133,
    "start_time": "2022-08-30T20:43:06.071Z"
   },
   {
    "duration": 256,
    "start_time": "2022-08-30T20:43:06.206Z"
   },
   {
    "duration": 367,
    "start_time": "2022-08-30T20:43:06.463Z"
   },
   {
    "duration": 757,
    "start_time": "2022-08-30T20:43:06.832Z"
   },
   {
    "duration": 759,
    "start_time": "2022-08-30T20:54:42.365Z"
   },
   {
    "duration": 758,
    "start_time": "2022-08-30T20:55:01.524Z"
   },
   {
    "duration": 562,
    "start_time": "2022-08-30T20:56:01.518Z"
   },
   {
    "duration": 327,
    "start_time": "2022-08-30T20:56:07.394Z"
   },
   {
    "duration": 955,
    "start_time": "2022-08-30T20:59:37.305Z"
   },
   {
    "duration": 590,
    "start_time": "2022-08-30T20:59:47.581Z"
   },
   {
    "duration": 4,
    "start_time": "2022-08-30T21:00:10.821Z"
   },
   {
    "duration": 925,
    "start_time": "2022-08-30T21:05:10.551Z"
   },
   {
    "duration": 928,
    "start_time": "2022-08-30T21:05:52.326Z"
   },
   {
    "duration": 1127,
    "start_time": "2022-08-30T21:06:24.378Z"
   },
   {
    "duration": 988,
    "start_time": "2022-08-30T21:06:59.661Z"
   },
   {
    "duration": 963,
    "start_time": "2022-08-30T21:08:40.681Z"
   },
   {
    "duration": 488,
    "start_time": "2022-08-30T21:14:47.846Z"
   },
   {
    "duration": 357,
    "start_time": "2022-08-30T21:15:17.382Z"
   },
   {
    "duration": 291,
    "start_time": "2022-08-30T21:24:37.442Z"
   },
   {
    "duration": 78,
    "start_time": "2022-08-30T21:24:48.633Z"
   },
   {
    "duration": 318,
    "start_time": "2022-08-30T21:24:55.958Z"
   },
   {
    "duration": 328,
    "start_time": "2022-08-30T21:25:31.011Z"
   },
   {
    "duration": 536,
    "start_time": "2022-08-30T21:25:43.974Z"
   },
   {
    "duration": 324,
    "start_time": "2022-08-30T21:26:59.734Z"
   },
   {
    "duration": 266,
    "start_time": "2022-08-30T21:27:30.889Z"
   },
   {
    "duration": 254,
    "start_time": "2022-08-30T21:27:41.706Z"
   },
   {
    "duration": 625,
    "start_time": "2022-08-30T21:27:53.937Z"
   },
   {
    "duration": 312,
    "start_time": "2022-08-30T21:28:36.950Z"
   },
   {
    "duration": 376,
    "start_time": "2022-08-30T21:28:48.897Z"
   },
   {
    "duration": 305,
    "start_time": "2022-08-30T21:29:46.814Z"
   },
   {
    "duration": 305,
    "start_time": "2022-08-30T21:29:52.770Z"
   },
   {
    "duration": 9,
    "start_time": "2022-08-30T21:32:25.704Z"
   },
   {
    "duration": 9,
    "start_time": "2022-08-30T21:32:54.341Z"
   },
   {
    "duration": 14,
    "start_time": "2022-08-30T21:33:08.128Z"
   },
   {
    "duration": 12,
    "start_time": "2022-08-30T21:33:13.295Z"
   },
   {
    "duration": 182,
    "start_time": "2022-08-30T21:33:50.121Z"
   },
   {
    "duration": 299,
    "start_time": "2022-08-30T21:35:09.073Z"
   },
   {
    "duration": 179,
    "start_time": "2022-08-30T21:35:34.003Z"
   },
   {
    "duration": 184,
    "start_time": "2022-08-30T21:37:26.942Z"
   },
   {
    "duration": 182,
    "start_time": "2022-08-30T21:37:54.258Z"
   },
   {
    "duration": 344,
    "start_time": "2022-08-30T21:38:49.185Z"
   },
   {
    "duration": 333,
    "start_time": "2022-08-30T21:39:19.938Z"
   },
   {
    "duration": 310,
    "start_time": "2022-08-30T21:39:32.182Z"
   },
   {
    "duration": 420,
    "start_time": "2022-08-30T21:40:27.737Z"
   },
   {
    "duration": 294,
    "start_time": "2022-08-30T21:42:41.153Z"
   },
   {
    "duration": 306,
    "start_time": "2022-08-30T21:44:47.567Z"
   },
   {
    "duration": 296,
    "start_time": "2022-08-30T21:45:02.985Z"
   },
   {
    "duration": 301,
    "start_time": "2022-08-30T21:45:14.256Z"
   },
   {
    "duration": 188,
    "start_time": "2022-08-30T21:45:40.282Z"
   },
   {
    "duration": 199,
    "start_time": "2022-08-30T21:45:46.507Z"
   },
   {
    "duration": 242,
    "start_time": "2022-08-30T21:45:54.619Z"
   },
   {
    "duration": 243,
    "start_time": "2022-08-30T21:46:03.948Z"
   },
   {
    "duration": 250,
    "start_time": "2022-08-30T21:46:24.803Z"
   },
   {
    "duration": 216,
    "start_time": "2022-08-30T21:46:45.767Z"
   },
   {
    "duration": 247,
    "start_time": "2022-08-30T21:46:55.458Z"
   },
   {
    "duration": 253,
    "start_time": "2022-08-30T21:47:04.422Z"
   },
   {
    "duration": 246,
    "start_time": "2022-08-30T21:48:15.863Z"
   },
   {
    "duration": 353,
    "start_time": "2022-08-30T21:48:27.051Z"
   },
   {
    "duration": 206,
    "start_time": "2022-08-30T21:48:57.178Z"
   },
   {
    "duration": 210,
    "start_time": "2022-08-30T21:49:28.613Z"
   },
   {
    "duration": 5,
    "start_time": "2022-08-30T21:50:41.060Z"
   },
   {
    "duration": 3,
    "start_time": "2022-08-30T21:50:51.465Z"
   },
   {
    "duration": 2848,
    "start_time": "2022-08-30T21:51:00.701Z"
   },
   {
    "duration": 10,
    "start_time": "2022-08-30T21:51:03.551Z"
   },
   {
    "duration": 216,
    "start_time": "2022-08-30T21:51:03.563Z"
   },
   {
    "duration": 66,
    "start_time": "2022-08-30T21:51:03.782Z"
   },
   {
    "duration": 4,
    "start_time": "2022-08-30T21:51:03.849Z"
   },
   {
    "duration": 95,
    "start_time": "2022-08-30T21:51:03.854Z"
   },
   {
    "duration": 111,
    "start_time": "2022-08-30T21:51:03.950Z"
   },
   {
    "duration": 5,
    "start_time": "2022-08-30T21:51:04.063Z"
   },
   {
    "duration": 312,
    "start_time": "2022-08-30T21:51:04.070Z"
   },
   {
    "duration": 4,
    "start_time": "2022-08-30T21:51:04.385Z"
   },
   {
    "duration": 15,
    "start_time": "2022-08-30T21:51:04.390Z"
   },
   {
    "duration": 11,
    "start_time": "2022-08-30T21:51:04.407Z"
   },
   {
    "duration": 289,
    "start_time": "2022-08-30T21:51:04.420Z"
   },
   {
    "duration": 398,
    "start_time": "2022-08-30T21:51:04.711Z"
   },
   {
    "duration": 232,
    "start_time": "2022-08-30T21:51:05.111Z"
   },
   {
    "duration": 303,
    "start_time": "2022-08-30T21:51:05.344Z"
   },
   {
    "duration": 189,
    "start_time": "2022-08-30T21:51:05.649Z"
   },
   {
    "duration": 200,
    "start_time": "2022-08-30T21:51:05.840Z"
   },
   {
    "duration": 220,
    "start_time": "2022-08-30T21:51:06.041Z"
   },
   {
    "duration": 131,
    "start_time": "2022-08-30T21:51:06.263Z"
   },
   {
    "duration": 224,
    "start_time": "2022-08-30T21:51:06.402Z"
   },
   {
    "duration": 235,
    "start_time": "2022-08-30T21:51:06.628Z"
   },
   {
    "duration": 541,
    "start_time": "2022-08-30T21:51:06.865Z"
   },
   {
    "duration": 330,
    "start_time": "2022-08-30T21:51:07.408Z"
   },
   {
    "duration": 207,
    "start_time": "2022-08-30T21:52:14.374Z"
   },
   {
    "duration": 265,
    "start_time": "2022-08-30T21:52:54.469Z"
   },
   {
    "duration": 268,
    "start_time": "2022-08-30T21:53:14.032Z"
   },
   {
    "duration": 216,
    "start_time": "2022-08-30T21:53:50.432Z"
   },
   {
    "duration": 2847,
    "start_time": "2022-08-30T21:53:56.494Z"
   },
   {
    "duration": 10,
    "start_time": "2022-08-30T21:53:59.343Z"
   },
   {
    "duration": 207,
    "start_time": "2022-08-30T21:53:59.355Z"
   },
   {
    "duration": 66,
    "start_time": "2022-08-30T21:53:59.564Z"
   },
   {
    "duration": 3,
    "start_time": "2022-08-30T21:53:59.632Z"
   },
   {
    "duration": 73,
    "start_time": "2022-08-30T21:53:59.637Z"
   },
   {
    "duration": 117,
    "start_time": "2022-08-30T21:53:59.712Z"
   },
   {
    "duration": 4,
    "start_time": "2022-08-30T21:53:59.831Z"
   },
   {
    "duration": 304,
    "start_time": "2022-08-30T21:53:59.836Z"
   },
   {
    "duration": 4,
    "start_time": "2022-08-30T21:54:00.143Z"
   },
   {
    "duration": 10,
    "start_time": "2022-08-30T21:54:00.148Z"
   },
   {
    "duration": 7,
    "start_time": "2022-08-30T21:54:00.160Z"
   },
   {
    "duration": 310,
    "start_time": "2022-08-30T21:54:00.169Z"
   },
   {
    "duration": 414,
    "start_time": "2022-08-30T21:54:00.481Z"
   },
   {
    "duration": 226,
    "start_time": "2022-08-30T21:54:00.903Z"
   },
   {
    "duration": 326,
    "start_time": "2022-08-30T21:54:01.130Z"
   },
   {
    "duration": 191,
    "start_time": "2022-08-30T21:54:01.458Z"
   },
   {
    "duration": 201,
    "start_time": "2022-08-30T21:54:01.651Z"
   },
   {
    "duration": 249,
    "start_time": "2022-08-30T21:54:01.854Z"
   },
   {
    "duration": 139,
    "start_time": "2022-08-30T21:54:02.105Z"
   },
   {
    "duration": 237,
    "start_time": "2022-08-30T21:54:02.247Z"
   },
   {
    "duration": 213,
    "start_time": "2022-08-30T21:54:02.486Z"
   },
   {
    "duration": 333,
    "start_time": "2022-08-30T21:54:02.700Z"
   },
   {
    "duration": 160,
    "start_time": "2022-08-30T21:54:03.035Z"
   },
   {
    "duration": 331,
    "start_time": "2022-08-30T21:54:03.203Z"
   },
   {
    "duration": 199,
    "start_time": "2022-08-30T21:55:09.564Z"
   },
   {
    "duration": 168,
    "start_time": "2022-08-30T21:56:35.508Z"
   },
   {
    "duration": 2788,
    "start_time": "2022-08-30T21:56:54.401Z"
   },
   {
    "duration": 10,
    "start_time": "2022-08-30T21:56:57.191Z"
   },
   {
    "duration": 212,
    "start_time": "2022-08-30T21:56:57.203Z"
   },
   {
    "duration": 61,
    "start_time": "2022-08-30T21:56:57.417Z"
   },
   {
    "duration": 3,
    "start_time": "2022-08-30T21:56:57.481Z"
   },
   {
    "duration": 84,
    "start_time": "2022-08-30T21:56:57.486Z"
   },
   {
    "duration": 124,
    "start_time": "2022-08-30T21:56:57.572Z"
   },
   {
    "duration": 7,
    "start_time": "2022-08-30T21:56:57.697Z"
   },
   {
    "duration": 307,
    "start_time": "2022-08-30T21:56:57.706Z"
   },
   {
    "duration": 4,
    "start_time": "2022-08-30T21:56:58.015Z"
   },
   {
    "duration": 12,
    "start_time": "2022-08-30T21:56:58.020Z"
   },
   {
    "duration": 6,
    "start_time": "2022-08-30T21:56:58.033Z"
   },
   {
    "duration": 388,
    "start_time": "2022-08-30T21:56:58.041Z"
   },
   {
    "duration": 341,
    "start_time": "2022-08-30T21:56:58.431Z"
   },
   {
    "duration": 271,
    "start_time": "2022-08-30T21:56:58.773Z"
   },
   {
    "duration": 326,
    "start_time": "2022-08-30T21:56:59.045Z"
   },
   {
    "duration": 197,
    "start_time": "2022-08-30T21:56:59.373Z"
   },
   {
    "duration": 208,
    "start_time": "2022-08-30T21:56:59.572Z"
   },
   {
    "duration": 228,
    "start_time": "2022-08-30T21:56:59.782Z"
   },
   {
    "duration": 130,
    "start_time": "2022-08-30T21:57:00.012Z"
   },
   {
    "duration": 241,
    "start_time": "2022-08-30T21:57:00.144Z"
   },
   {
    "duration": 348,
    "start_time": "2022-08-30T21:57:00.387Z"
   },
   {
    "duration": 213,
    "start_time": "2022-08-30T21:57:00.737Z"
   },
   {
    "duration": 254,
    "start_time": "2022-08-30T21:57:00.951Z"
   },
   {
    "duration": 352,
    "start_time": "2022-08-30T21:57:01.207Z"
   },
   {
    "duration": 231,
    "start_time": "2022-08-30T21:57:36.156Z"
   },
   {
    "duration": 235,
    "start_time": "2022-08-30T21:58:08.330Z"
   },
   {
    "duration": 234,
    "start_time": "2022-08-30T21:58:23.823Z"
   },
   {
    "duration": 2737,
    "start_time": "2022-08-30T21:58:29.348Z"
   },
   {
    "duration": 10,
    "start_time": "2022-08-30T21:58:32.087Z"
   },
   {
    "duration": 235,
    "start_time": "2022-08-30T21:58:32.099Z"
   },
   {
    "duration": 74,
    "start_time": "2022-08-30T21:58:32.336Z"
   },
   {
    "duration": 4,
    "start_time": "2022-08-30T21:58:32.413Z"
   },
   {
    "duration": 82,
    "start_time": "2022-08-30T21:58:32.419Z"
   },
   {
    "duration": 114,
    "start_time": "2022-08-30T21:58:32.504Z"
   },
   {
    "duration": 5,
    "start_time": "2022-08-30T21:58:32.622Z"
   },
   {
    "duration": 354,
    "start_time": "2022-08-30T21:58:32.629Z"
   },
   {
    "duration": 5,
    "start_time": "2022-08-30T21:58:32.984Z"
   },
   {
    "duration": 17,
    "start_time": "2022-08-30T21:58:33.002Z"
   },
   {
    "duration": 22,
    "start_time": "2022-08-30T21:58:33.020Z"
   },
   {
    "duration": 398,
    "start_time": "2022-08-30T21:58:33.044Z"
   },
   {
    "duration": 336,
    "start_time": "2022-08-30T21:58:33.445Z"
   },
   {
    "duration": 243,
    "start_time": "2022-08-30T21:58:33.782Z"
   },
   {
    "duration": 306,
    "start_time": "2022-08-30T21:58:34.027Z"
   },
   {
    "duration": 208,
    "start_time": "2022-08-30T21:58:34.335Z"
   },
   {
    "duration": 200,
    "start_time": "2022-08-30T21:58:34.545Z"
   },
   {
    "duration": 235,
    "start_time": "2022-08-30T21:58:34.747Z"
   },
   {
    "duration": 133,
    "start_time": "2022-08-30T21:58:34.985Z"
   },
   {
    "duration": 227,
    "start_time": "2022-08-30T21:58:35.120Z"
   },
   {
    "duration": 325,
    "start_time": "2022-08-30T21:58:35.349Z"
   },
   {
    "duration": 210,
    "start_time": "2022-08-30T21:58:35.675Z"
   },
   {
    "duration": 231,
    "start_time": "2022-08-30T21:58:35.887Z"
   },
   {
    "duration": 310,
    "start_time": "2022-08-30T21:58:36.120Z"
   },
   {
    "duration": 234,
    "start_time": "2022-08-30T21:59:08.991Z"
   },
   {
    "duration": 228,
    "start_time": "2022-08-30T21:59:22.790Z"
   },
   {
    "duration": 155,
    "start_time": "2022-08-30T22:00:07.334Z"
   },
   {
    "duration": 210,
    "start_time": "2022-08-30T22:00:28.647Z"
   },
   {
    "duration": 2755,
    "start_time": "2022-08-30T22:00:43.250Z"
   },
   {
    "duration": 10,
    "start_time": "2022-08-30T22:00:46.007Z"
   },
   {
    "duration": 215,
    "start_time": "2022-08-30T22:00:46.018Z"
   },
   {
    "duration": 53,
    "start_time": "2022-08-30T22:00:46.235Z"
   },
   {
    "duration": 14,
    "start_time": "2022-08-30T22:00:46.290Z"
   },
   {
    "duration": 76,
    "start_time": "2022-08-30T22:00:46.305Z"
   },
   {
    "duration": 108,
    "start_time": "2022-08-30T22:00:46.383Z"
   },
   {
    "duration": 10,
    "start_time": "2022-08-30T22:00:46.493Z"
   },
   {
    "duration": 316,
    "start_time": "2022-08-30T22:00:46.505Z"
   },
   {
    "duration": 4,
    "start_time": "2022-08-30T22:00:46.825Z"
   },
   {
    "duration": 42,
    "start_time": "2022-08-30T22:00:46.831Z"
   },
   {
    "duration": 7,
    "start_time": "2022-08-30T22:00:46.875Z"
   },
   {
    "duration": 299,
    "start_time": "2022-08-30T22:00:46.884Z"
   },
   {
    "duration": 420,
    "start_time": "2022-08-30T22:00:47.185Z"
   },
   {
    "duration": 228,
    "start_time": "2022-08-30T22:00:47.606Z"
   },
   {
    "duration": 321,
    "start_time": "2022-08-30T22:00:47.835Z"
   },
   {
    "duration": 189,
    "start_time": "2022-08-30T22:00:48.157Z"
   },
   {
    "duration": 246,
    "start_time": "2022-08-30T22:00:48.348Z"
   },
   {
    "duration": 209,
    "start_time": "2022-08-30T22:00:48.596Z"
   },
   {
    "duration": 145,
    "start_time": "2022-08-30T22:00:48.806Z"
   },
   {
    "duration": 239,
    "start_time": "2022-08-30T22:00:48.954Z"
   },
   {
    "duration": 211,
    "start_time": "2022-08-30T22:00:49.194Z"
   },
   {
    "duration": 313,
    "start_time": "2022-08-30T22:00:49.407Z"
   },
   {
    "duration": 235,
    "start_time": "2022-08-30T22:00:49.722Z"
   },
   {
    "duration": 236,
    "start_time": "2022-08-30T22:00:49.959Z"
   },
   {
    "duration": 178,
    "start_time": "2022-08-30T22:00:50.197Z"
   },
   {
    "duration": 184,
    "start_time": "2022-08-30T22:02:17.042Z"
   },
   {
    "duration": 2763,
    "start_time": "2022-08-30T22:02:23.770Z"
   },
   {
    "duration": 10,
    "start_time": "2022-08-30T22:02:26.535Z"
   },
   {
    "duration": 206,
    "start_time": "2022-08-30T22:02:26.547Z"
   },
   {
    "duration": 66,
    "start_time": "2022-08-30T22:02:26.754Z"
   },
   {
    "duration": 3,
    "start_time": "2022-08-30T22:02:26.823Z"
   },
   {
    "duration": 63,
    "start_time": "2022-08-30T22:02:26.828Z"
   },
   {
    "duration": 118,
    "start_time": "2022-08-30T22:02:26.893Z"
   },
   {
    "duration": 3,
    "start_time": "2022-08-30T22:02:27.013Z"
   },
   {
    "duration": 317,
    "start_time": "2022-08-30T22:02:27.018Z"
   },
   {
    "duration": 4,
    "start_time": "2022-08-30T22:02:27.337Z"
   },
   {
    "duration": 6,
    "start_time": "2022-08-30T22:02:27.343Z"
   },
   {
    "duration": 5,
    "start_time": "2022-08-30T22:02:27.350Z"
   },
   {
    "duration": 389,
    "start_time": "2022-08-30T22:02:27.357Z"
   },
   {
    "duration": 326,
    "start_time": "2022-08-30T22:02:27.748Z"
   },
   {
    "duration": 228,
    "start_time": "2022-08-30T22:02:28.075Z"
   },
   {
    "duration": 316,
    "start_time": "2022-08-30T22:02:28.306Z"
   },
   {
    "duration": 182,
    "start_time": "2022-08-30T22:02:28.624Z"
   },
   {
    "duration": 269,
    "start_time": "2022-08-30T22:02:28.808Z"
   },
   {
    "duration": 211,
    "start_time": "2022-08-30T22:02:29.079Z"
   },
   {
    "duration": 132,
    "start_time": "2022-08-30T22:02:29.292Z"
   },
   {
    "duration": 214,
    "start_time": "2022-08-30T22:02:29.426Z"
   },
   {
    "duration": 311,
    "start_time": "2022-08-30T22:02:29.642Z"
   },
   {
    "duration": 215,
    "start_time": "2022-08-30T22:02:29.955Z"
   },
   {
    "duration": 241,
    "start_time": "2022-08-30T22:02:30.172Z"
   },
   {
    "duration": 234,
    "start_time": "2022-08-30T22:02:30.415Z"
   },
   {
    "duration": 196,
    "start_time": "2022-08-30T22:02:30.651Z"
   },
   {
    "duration": 214,
    "start_time": "2022-08-30T22:03:14.141Z"
   },
   {
    "duration": 2820,
    "start_time": "2022-08-30T22:03:21.121Z"
   },
   {
    "duration": 10,
    "start_time": "2022-08-30T22:03:23.943Z"
   },
   {
    "duration": 213,
    "start_time": "2022-08-30T22:03:23.954Z"
   },
   {
    "duration": 64,
    "start_time": "2022-08-30T22:03:24.169Z"
   },
   {
    "duration": 3,
    "start_time": "2022-08-30T22:03:24.235Z"
   },
   {
    "duration": 82,
    "start_time": "2022-08-30T22:03:24.240Z"
   },
   {
    "duration": 121,
    "start_time": "2022-08-30T22:03:24.323Z"
   },
   {
    "duration": 4,
    "start_time": "2022-08-30T22:03:24.446Z"
   },
   {
    "duration": 323,
    "start_time": "2022-08-30T22:03:24.452Z"
   },
   {
    "duration": 3,
    "start_time": "2022-08-30T22:03:24.778Z"
   },
   {
    "duration": 7,
    "start_time": "2022-08-30T22:03:24.783Z"
   },
   {
    "duration": 14,
    "start_time": "2022-08-30T22:03:24.791Z"
   },
   {
    "duration": 311,
    "start_time": "2022-08-30T22:03:24.806Z"
   },
   {
    "duration": 407,
    "start_time": "2022-08-30T22:03:25.119Z"
   },
   {
    "duration": 229,
    "start_time": "2022-08-30T22:03:25.528Z"
   },
   {
    "duration": 312,
    "start_time": "2022-08-30T22:03:25.759Z"
   },
   {
    "duration": 191,
    "start_time": "2022-08-30T22:03:26.073Z"
   },
   {
    "duration": 248,
    "start_time": "2022-08-30T22:03:26.265Z"
   },
   {
    "duration": 221,
    "start_time": "2022-08-30T22:03:26.515Z"
   },
   {
    "duration": 150,
    "start_time": "2022-08-30T22:03:26.738Z"
   },
   {
    "duration": 230,
    "start_time": "2022-08-30T22:03:26.890Z"
   },
   {
    "duration": 219,
    "start_time": "2022-08-30T22:03:27.122Z"
   },
   {
    "duration": 335,
    "start_time": "2022-08-30T22:03:27.343Z"
   },
   {
    "duration": 243,
    "start_time": "2022-08-30T22:03:27.680Z"
   },
   {
    "duration": 229,
    "start_time": "2022-08-30T22:03:27.925Z"
   },
   {
    "duration": 188,
    "start_time": "2022-08-30T22:03:28.155Z"
   },
   {
    "duration": 2886,
    "start_time": "2022-08-30T22:04:18.767Z"
   },
   {
    "duration": 10,
    "start_time": "2022-08-30T22:04:21.655Z"
   },
   {
    "duration": 202,
    "start_time": "2022-08-30T22:04:21.667Z"
   },
   {
    "duration": 61,
    "start_time": "2022-08-30T22:04:21.872Z"
   },
   {
    "duration": 4,
    "start_time": "2022-08-30T22:04:21.936Z"
   },
   {
    "duration": 79,
    "start_time": "2022-08-30T22:04:21.942Z"
   },
   {
    "duration": 116,
    "start_time": "2022-08-30T22:04:22.023Z"
   },
   {
    "duration": 4,
    "start_time": "2022-08-30T22:04:22.141Z"
   },
   {
    "duration": 317,
    "start_time": "2022-08-30T22:04:22.147Z"
   },
   {
    "duration": 4,
    "start_time": "2022-08-30T22:04:22.466Z"
   },
   {
    "duration": 8,
    "start_time": "2022-08-30T22:04:22.472Z"
   },
   {
    "duration": 6,
    "start_time": "2022-08-30T22:04:22.482Z"
   },
   {
    "duration": 378,
    "start_time": "2022-08-30T22:04:22.503Z"
   },
   {
    "duration": 337,
    "start_time": "2022-08-30T22:04:22.884Z"
   },
   {
    "duration": 227,
    "start_time": "2022-08-30T22:04:23.223Z"
   },
   {
    "duration": 312,
    "start_time": "2022-08-30T22:04:23.452Z"
   },
   {
    "duration": 184,
    "start_time": "2022-08-30T22:04:23.766Z"
   },
   {
    "duration": 238,
    "start_time": "2022-08-30T22:04:23.952Z"
   },
   {
    "duration": 232,
    "start_time": "2022-08-30T22:04:24.192Z"
   },
   {
    "duration": 129,
    "start_time": "2022-08-30T22:04:24.426Z"
   },
   {
    "duration": 54,
    "start_time": "2022-08-30T22:04:24.557Z"
   },
   {
    "duration": 0,
    "start_time": "2022-08-30T22:04:24.613Z"
   },
   {
    "duration": 0,
    "start_time": "2022-08-30T22:04:24.615Z"
   },
   {
    "duration": 0,
    "start_time": "2022-08-30T22:04:24.616Z"
   },
   {
    "duration": 0,
    "start_time": "2022-08-30T22:04:24.618Z"
   },
   {
    "duration": 0,
    "start_time": "2022-08-30T22:04:24.620Z"
   },
   {
    "duration": 219,
    "start_time": "2022-08-30T22:04:32.716Z"
   },
   {
    "duration": 2856,
    "start_time": "2022-08-30T22:04:49.089Z"
   },
   {
    "duration": 10,
    "start_time": "2022-08-30T22:04:51.948Z"
   },
   {
    "duration": 220,
    "start_time": "2022-08-30T22:04:51.961Z"
   },
   {
    "duration": 63,
    "start_time": "2022-08-30T22:04:52.184Z"
   },
   {
    "duration": 4,
    "start_time": "2022-08-30T22:04:52.250Z"
   },
   {
    "duration": 83,
    "start_time": "2022-08-30T22:04:52.256Z"
   },
   {
    "duration": 128,
    "start_time": "2022-08-30T22:04:52.341Z"
   },
   {
    "duration": 4,
    "start_time": "2022-08-30T22:04:52.471Z"
   },
   {
    "duration": 328,
    "start_time": "2022-08-30T22:04:52.476Z"
   },
   {
    "duration": 4,
    "start_time": "2022-08-30T22:04:52.807Z"
   },
   {
    "duration": 11,
    "start_time": "2022-08-30T22:04:52.813Z"
   },
   {
    "duration": 6,
    "start_time": "2022-08-30T22:04:52.826Z"
   },
   {
    "duration": 317,
    "start_time": "2022-08-30T22:04:52.834Z"
   },
   {
    "duration": 410,
    "start_time": "2022-08-30T22:04:53.153Z"
   },
   {
    "duration": 244,
    "start_time": "2022-08-30T22:04:53.565Z"
   },
   {
    "duration": 313,
    "start_time": "2022-08-30T22:04:53.811Z"
   },
   {
    "duration": 190,
    "start_time": "2022-08-30T22:04:54.126Z"
   },
   {
    "duration": 245,
    "start_time": "2022-08-30T22:04:54.318Z"
   },
   {
    "duration": 234,
    "start_time": "2022-08-30T22:04:54.565Z"
   },
   {
    "duration": 132,
    "start_time": "2022-08-30T22:04:54.802Z"
   },
   {
    "duration": 236,
    "start_time": "2022-08-30T22:04:54.936Z"
   },
   {
    "duration": 244,
    "start_time": "2022-08-30T22:04:55.173Z"
   },
   {
    "duration": 337,
    "start_time": "2022-08-30T22:04:55.419Z"
   },
   {
    "duration": 238,
    "start_time": "2022-08-30T22:04:55.758Z"
   },
   {
    "duration": 220,
    "start_time": "2022-08-30T22:04:55.998Z"
   },
   {
    "duration": 186,
    "start_time": "2022-08-30T22:04:56.220Z"
   },
   {
    "duration": 2777,
    "start_time": "2022-08-30T22:05:52.844Z"
   },
   {
    "duration": 9,
    "start_time": "2022-08-30T22:05:55.623Z"
   },
   {
    "duration": 199,
    "start_time": "2022-08-30T22:05:55.634Z"
   },
   {
    "duration": 53,
    "start_time": "2022-08-30T22:05:55.835Z"
   },
   {
    "duration": 13,
    "start_time": "2022-08-30T22:05:55.890Z"
   },
   {
    "duration": 63,
    "start_time": "2022-08-30T22:05:55.904Z"
   },
   {
    "duration": 122,
    "start_time": "2022-08-30T22:05:55.969Z"
   },
   {
    "duration": 11,
    "start_time": "2022-08-30T22:05:56.093Z"
   },
   {
    "duration": 308,
    "start_time": "2022-08-30T22:05:56.106Z"
   },
   {
    "duration": 5,
    "start_time": "2022-08-30T22:05:56.417Z"
   },
   {
    "duration": 19,
    "start_time": "2022-08-30T22:05:56.424Z"
   },
   {
    "duration": 5,
    "start_time": "2022-08-30T22:05:56.445Z"
   },
   {
    "duration": 282,
    "start_time": "2022-08-30T22:05:56.452Z"
   },
   {
    "duration": 394,
    "start_time": "2022-08-30T22:05:56.736Z"
   },
   {
    "duration": 223,
    "start_time": "2022-08-30T22:05:57.132Z"
   },
   {
    "duration": 316,
    "start_time": "2022-08-30T22:05:57.357Z"
   },
   {
    "duration": 179,
    "start_time": "2022-08-30T22:05:57.674Z"
   },
   {
    "duration": 225,
    "start_time": "2022-08-30T22:05:57.854Z"
   },
   {
    "duration": 217,
    "start_time": "2022-08-30T22:05:58.081Z"
   },
   {
    "duration": 126,
    "start_time": "2022-08-30T22:05:58.302Z"
   },
   {
    "duration": 218,
    "start_time": "2022-08-30T22:05:58.430Z"
   },
   {
    "duration": 208,
    "start_time": "2022-08-30T22:05:58.650Z"
   },
   {
    "duration": 331,
    "start_time": "2022-08-30T22:05:58.862Z"
   },
   {
    "duration": 233,
    "start_time": "2022-08-30T22:05:59.195Z"
   },
   {
    "duration": 207,
    "start_time": "2022-08-30T22:05:59.430Z"
   },
   {
    "duration": 214,
    "start_time": "2022-08-30T22:05:59.639Z"
   },
   {
    "duration": 220,
    "start_time": "2022-08-30T22:06:50.383Z"
   },
   {
    "duration": 2960,
    "start_time": "2022-08-30T22:07:03.889Z"
   },
   {
    "duration": 9,
    "start_time": "2022-08-30T22:07:06.851Z"
   },
   {
    "duration": 214,
    "start_time": "2022-08-30T22:07:06.865Z"
   },
   {
    "duration": 57,
    "start_time": "2022-08-30T22:07:07.082Z"
   },
   {
    "duration": 3,
    "start_time": "2022-08-30T22:07:07.141Z"
   },
   {
    "duration": 91,
    "start_time": "2022-08-30T22:07:07.146Z"
   },
   {
    "duration": 121,
    "start_time": "2022-08-30T22:07:07.239Z"
   },
   {
    "duration": 4,
    "start_time": "2022-08-30T22:07:07.362Z"
   },
   {
    "duration": 324,
    "start_time": "2022-08-30T22:07:07.368Z"
   },
   {
    "duration": 4,
    "start_time": "2022-08-30T22:07:07.694Z"
   },
   {
    "duration": 29,
    "start_time": "2022-08-30T22:07:07.699Z"
   },
   {
    "duration": 12,
    "start_time": "2022-08-30T22:07:07.729Z"
   },
   {
    "duration": 406,
    "start_time": "2022-08-30T22:07:07.743Z"
   },
   {
    "duration": 338,
    "start_time": "2022-08-30T22:07:08.151Z"
   },
   {
    "duration": 252,
    "start_time": "2022-08-30T22:07:08.491Z"
   },
   {
    "duration": 347,
    "start_time": "2022-08-30T22:07:08.744Z"
   },
   {
    "duration": 196,
    "start_time": "2022-08-30T22:07:09.093Z"
   },
   {
    "duration": 234,
    "start_time": "2022-08-30T22:07:09.291Z"
   },
   {
    "duration": 219,
    "start_time": "2022-08-30T22:07:09.527Z"
   },
   {
    "duration": 129,
    "start_time": "2022-08-30T22:07:09.748Z"
   },
   {
    "duration": 234,
    "start_time": "2022-08-30T22:07:09.879Z"
   },
   {
    "duration": 350,
    "start_time": "2022-08-30T22:07:10.115Z"
   },
   {
    "duration": 212,
    "start_time": "2022-08-30T22:07:10.467Z"
   },
   {
    "duration": 234,
    "start_time": "2022-08-30T22:07:10.681Z"
   },
   {
    "duration": 210,
    "start_time": "2022-08-30T22:07:10.917Z"
   },
   {
    "duration": 234,
    "start_time": "2022-08-30T22:07:11.129Z"
   },
   {
    "duration": 215,
    "start_time": "2022-08-30T22:08:07.772Z"
   },
   {
    "duration": 2880,
    "start_time": "2022-08-30T22:08:16.961Z"
   },
   {
    "duration": 9,
    "start_time": "2022-08-30T22:08:19.843Z"
   },
   {
    "duration": 221,
    "start_time": "2022-08-30T22:08:19.854Z"
   },
   {
    "duration": 65,
    "start_time": "2022-08-30T22:08:20.077Z"
   },
   {
    "duration": 4,
    "start_time": "2022-08-30T22:08:20.144Z"
   },
   {
    "duration": 72,
    "start_time": "2022-08-30T22:08:20.149Z"
   },
   {
    "duration": 122,
    "start_time": "2022-08-30T22:08:20.223Z"
   },
   {
    "duration": 5,
    "start_time": "2022-08-30T22:08:20.347Z"
   },
   {
    "duration": 331,
    "start_time": "2022-08-30T22:08:20.355Z"
   },
   {
    "duration": 5,
    "start_time": "2022-08-30T22:08:20.688Z"
   },
   {
    "duration": 5,
    "start_time": "2022-08-30T22:08:20.703Z"
   },
   {
    "duration": 9,
    "start_time": "2022-08-30T22:08:20.710Z"
   },
   {
    "duration": 370,
    "start_time": "2022-08-30T22:08:20.721Z"
   },
   {
    "duration": 333,
    "start_time": "2022-08-30T22:08:21.095Z"
   },
   {
    "duration": 238,
    "start_time": "2022-08-30T22:08:21.431Z"
   },
   {
    "duration": 320,
    "start_time": "2022-08-30T22:08:21.671Z"
   },
   {
    "duration": 205,
    "start_time": "2022-08-30T22:08:21.992Z"
   },
   {
    "duration": 237,
    "start_time": "2022-08-30T22:08:22.202Z"
   },
   {
    "duration": 225,
    "start_time": "2022-08-30T22:08:22.441Z"
   },
   {
    "duration": 126,
    "start_time": "2022-08-30T22:08:22.668Z"
   },
   {
    "duration": 226,
    "start_time": "2022-08-30T22:08:22.802Z"
   },
   {
    "duration": 325,
    "start_time": "2022-08-30T22:08:23.029Z"
   },
   {
    "duration": 217,
    "start_time": "2022-08-30T22:08:23.356Z"
   },
   {
    "duration": 236,
    "start_time": "2022-08-30T22:08:23.575Z"
   },
   {
    "duration": 218,
    "start_time": "2022-08-30T22:08:23.813Z"
   },
   {
    "duration": 223,
    "start_time": "2022-08-30T22:08:24.033Z"
   },
   {
    "duration": 239,
    "start_time": "2022-08-30T22:08:53.875Z"
   },
   {
    "duration": 2822,
    "start_time": "2022-08-30T22:09:07.183Z"
   },
   {
    "duration": 10,
    "start_time": "2022-08-30T22:09:10.007Z"
   },
   {
    "duration": 213,
    "start_time": "2022-08-30T22:09:10.018Z"
   },
   {
    "duration": 70,
    "start_time": "2022-08-30T22:09:10.233Z"
   },
   {
    "duration": 4,
    "start_time": "2022-08-30T22:09:10.305Z"
   },
   {
    "duration": 64,
    "start_time": "2022-08-30T22:09:10.311Z"
   },
   {
    "duration": 126,
    "start_time": "2022-08-30T22:09:10.377Z"
   },
   {
    "duration": 4,
    "start_time": "2022-08-30T22:09:10.505Z"
   },
   {
    "duration": 304,
    "start_time": "2022-08-30T22:09:10.511Z"
   },
   {
    "duration": 4,
    "start_time": "2022-08-30T22:09:10.818Z"
   },
   {
    "duration": 8,
    "start_time": "2022-08-30T22:09:10.824Z"
   },
   {
    "duration": 8,
    "start_time": "2022-08-30T22:09:10.833Z"
   },
   {
    "duration": 300,
    "start_time": "2022-08-30T22:09:10.842Z"
   },
   {
    "duration": 403,
    "start_time": "2022-08-30T22:09:11.144Z"
   },
   {
    "duration": 226,
    "start_time": "2022-08-30T22:09:11.549Z"
   },
   {
    "duration": 300,
    "start_time": "2022-08-30T22:09:11.776Z"
   },
   {
    "duration": 185,
    "start_time": "2022-08-30T22:09:12.078Z"
   },
   {
    "duration": 242,
    "start_time": "2022-08-30T22:09:12.265Z"
   },
   {
    "duration": 213,
    "start_time": "2022-08-30T22:09:12.509Z"
   },
   {
    "duration": 123,
    "start_time": "2022-08-30T22:09:12.724Z"
   },
   {
    "duration": 225,
    "start_time": "2022-08-30T22:09:12.848Z"
   },
   {
    "duration": 215,
    "start_time": "2022-08-30T22:09:13.076Z"
   },
   {
    "duration": 308,
    "start_time": "2022-08-30T22:09:13.293Z"
   },
   {
    "duration": 230,
    "start_time": "2022-08-30T22:09:13.602Z"
   },
   {
    "duration": 210,
    "start_time": "2022-08-30T22:09:13.834Z"
   },
   {
    "duration": 251,
    "start_time": "2022-08-30T22:09:14.046Z"
   },
   {
    "duration": 262,
    "start_time": "2022-08-30T22:13:58.857Z"
   },
   {
    "duration": 2751,
    "start_time": "2022-08-30T22:14:22.178Z"
   },
   {
    "duration": 9,
    "start_time": "2022-08-30T22:14:24.932Z"
   },
   {
    "duration": 225,
    "start_time": "2022-08-30T22:14:24.942Z"
   },
   {
    "duration": 63,
    "start_time": "2022-08-30T22:14:25.169Z"
   },
   {
    "duration": 4,
    "start_time": "2022-08-30T22:14:25.235Z"
   },
   {
    "duration": 73,
    "start_time": "2022-08-30T22:14:25.240Z"
   },
   {
    "duration": 108,
    "start_time": "2022-08-30T22:14:25.315Z"
   },
   {
    "duration": 4,
    "start_time": "2022-08-30T22:14:25.425Z"
   },
   {
    "duration": 310,
    "start_time": "2022-08-30T22:14:25.431Z"
   },
   {
    "duration": 4,
    "start_time": "2022-08-30T22:14:25.743Z"
   },
   {
    "duration": 7,
    "start_time": "2022-08-30T22:14:25.749Z"
   },
   {
    "duration": 5,
    "start_time": "2022-08-30T22:14:25.757Z"
   },
   {
    "duration": 293,
    "start_time": "2022-08-30T22:14:25.763Z"
   },
   {
    "duration": 393,
    "start_time": "2022-08-30T22:14:26.059Z"
   },
   {
    "duration": 228,
    "start_time": "2022-08-30T22:14:26.453Z"
   },
   {
    "duration": 299,
    "start_time": "2022-08-30T22:14:26.683Z"
   },
   {
    "duration": 180,
    "start_time": "2022-08-30T22:14:26.984Z"
   },
   {
    "duration": 236,
    "start_time": "2022-08-30T22:14:27.166Z"
   },
   {
    "duration": 225,
    "start_time": "2022-08-30T22:14:27.403Z"
   },
   {
    "duration": 130,
    "start_time": "2022-08-30T22:14:27.630Z"
   },
   {
    "duration": 228,
    "start_time": "2022-08-30T22:14:27.762Z"
   },
   {
    "duration": 204,
    "start_time": "2022-08-30T22:14:27.992Z"
   },
   {
    "duration": 324,
    "start_time": "2022-08-30T22:14:28.197Z"
   },
   {
    "duration": 229,
    "start_time": "2022-08-30T22:14:28.522Z"
   },
   {
    "duration": 241,
    "start_time": "2022-08-30T22:14:28.753Z"
   },
   {
    "duration": 245,
    "start_time": "2022-08-30T22:14:29.003Z"
   },
   {
    "duration": 236,
    "start_time": "2022-08-30T22:14:29.250Z"
   },
   {
    "duration": 48,
    "start_time": "2022-08-31T09:43:30.386Z"
   },
   {
    "duration": 2865,
    "start_time": "2022-08-31T09:44:36.856Z"
   },
   {
    "duration": 9,
    "start_time": "2022-08-31T09:44:39.723Z"
   },
   {
    "duration": 211,
    "start_time": "2022-08-31T09:44:39.734Z"
   },
   {
    "duration": 67,
    "start_time": "2022-08-31T09:44:39.947Z"
   },
   {
    "duration": 3,
    "start_time": "2022-08-31T09:44:40.016Z"
   },
   {
    "duration": 66,
    "start_time": "2022-08-31T09:44:40.021Z"
   },
   {
    "duration": 126,
    "start_time": "2022-08-31T09:44:40.088Z"
   },
   {
    "duration": 4,
    "start_time": "2022-08-31T09:44:40.216Z"
   },
   {
    "duration": 327,
    "start_time": "2022-08-31T09:44:40.221Z"
   },
   {
    "duration": 4,
    "start_time": "2022-08-31T09:44:40.551Z"
   },
   {
    "duration": 9,
    "start_time": "2022-08-31T09:44:40.556Z"
   },
   {
    "duration": 7,
    "start_time": "2022-08-31T09:44:40.566Z"
   },
   {
    "duration": 299,
    "start_time": "2022-08-31T09:44:40.574Z"
   },
   {
    "duration": 404,
    "start_time": "2022-08-31T09:44:40.875Z"
   },
   {
    "duration": 235,
    "start_time": "2022-08-31T09:44:41.281Z"
   },
   {
    "duration": 314,
    "start_time": "2022-08-31T09:44:41.518Z"
   },
   {
    "duration": 188,
    "start_time": "2022-08-31T09:44:41.834Z"
   },
   {
    "duration": 241,
    "start_time": "2022-08-31T09:44:42.024Z"
   },
   {
    "duration": 227,
    "start_time": "2022-08-31T09:44:42.268Z"
   },
   {
    "duration": 134,
    "start_time": "2022-08-31T09:44:42.497Z"
   },
   {
    "duration": 225,
    "start_time": "2022-08-31T09:44:42.633Z"
   },
   {
    "duration": 211,
    "start_time": "2022-08-31T09:44:42.860Z"
   },
   {
    "duration": 324,
    "start_time": "2022-08-31T09:44:43.072Z"
   },
   {
    "duration": 232,
    "start_time": "2022-08-31T09:44:43.397Z"
   },
   {
    "duration": 217,
    "start_time": "2022-08-31T09:44:43.631Z"
   },
   {
    "duration": 259,
    "start_time": "2022-08-31T09:44:43.850Z"
   },
   {
    "duration": 230,
    "start_time": "2022-08-31T09:44:44.111Z"
   },
   {
    "duration": 45,
    "start_time": "2022-08-31T09:44:44.344Z"
   },
   {
    "duration": 61,
    "start_time": "2022-08-31T09:54:24.344Z"
   },
   {
    "duration": 229,
    "start_time": "2022-08-31T09:54:38.169Z"
   },
   {
    "duration": 2943,
    "start_time": "2022-08-31T09:54:48.414Z"
   },
   {
    "duration": 9,
    "start_time": "2022-08-31T09:54:51.359Z"
   },
   {
    "duration": 211,
    "start_time": "2022-08-31T09:54:51.370Z"
   },
   {
    "duration": 62,
    "start_time": "2022-08-31T09:54:51.583Z"
   },
   {
    "duration": 3,
    "start_time": "2022-08-31T09:54:51.647Z"
   },
   {
    "duration": 78,
    "start_time": "2022-08-31T09:54:51.652Z"
   },
   {
    "duration": 117,
    "start_time": "2022-08-31T09:54:51.732Z"
   },
   {
    "duration": 4,
    "start_time": "2022-08-31T09:54:51.851Z"
   },
   {
    "duration": 318,
    "start_time": "2022-08-31T09:54:51.857Z"
   },
   {
    "duration": 4,
    "start_time": "2022-08-31T09:54:52.177Z"
   },
   {
    "duration": 8,
    "start_time": "2022-08-31T09:54:52.183Z"
   },
   {
    "duration": 10,
    "start_time": "2022-08-31T09:54:52.193Z"
   },
   {
    "duration": 315,
    "start_time": "2022-08-31T09:54:52.205Z"
   },
   {
    "duration": 396,
    "start_time": "2022-08-31T09:54:52.522Z"
   },
   {
    "duration": 232,
    "start_time": "2022-08-31T09:54:52.920Z"
   },
   {
    "duration": 310,
    "start_time": "2022-08-31T09:54:53.154Z"
   },
   {
    "duration": 185,
    "start_time": "2022-08-31T09:54:53.466Z"
   },
   {
    "duration": 241,
    "start_time": "2022-08-31T09:54:53.653Z"
   },
   {
    "duration": 224,
    "start_time": "2022-08-31T09:54:53.896Z"
   },
   {
    "duration": 143,
    "start_time": "2022-08-31T09:54:54.122Z"
   },
   {
    "duration": 237,
    "start_time": "2022-08-31T09:54:54.267Z"
   },
   {
    "duration": 218,
    "start_time": "2022-08-31T09:54:54.506Z"
   },
   {
    "duration": 333,
    "start_time": "2022-08-31T09:54:54.726Z"
   },
   {
    "duration": 254,
    "start_time": "2022-08-31T09:54:55.061Z"
   },
   {
    "duration": 220,
    "start_time": "2022-08-31T09:54:55.317Z"
   },
   {
    "duration": 248,
    "start_time": "2022-08-31T09:54:55.539Z"
   },
   {
    "duration": 253,
    "start_time": "2022-08-31T09:54:55.789Z"
   },
   {
    "duration": 44,
    "start_time": "2022-08-31T09:54:56.045Z"
   },
   {
    "duration": 241,
    "start_time": "2022-08-31T09:54:56.091Z"
   },
   {
    "duration": 171,
    "start_time": "2022-08-31T09:56:21.219Z"
   },
   {
    "duration": 183,
    "start_time": "2022-08-31T09:57:07.913Z"
   },
   {
    "duration": 157,
    "start_time": "2022-08-31T09:59:25.765Z"
   },
   {
    "duration": 259,
    "start_time": "2022-08-31T10:00:25.952Z"
   },
   {
    "duration": 178,
    "start_time": "2022-08-31T10:00:55.298Z"
   },
   {
    "duration": 181,
    "start_time": "2022-08-31T10:02:02.778Z"
   },
   {
    "duration": 2902,
    "start_time": "2022-08-31T10:03:14.763Z"
   },
   {
    "duration": 10,
    "start_time": "2022-08-31T10:03:17.667Z"
   },
   {
    "duration": 242,
    "start_time": "2022-08-31T10:03:17.678Z"
   },
   {
    "duration": 59,
    "start_time": "2022-08-31T10:03:17.923Z"
   },
   {
    "duration": 20,
    "start_time": "2022-08-31T10:03:17.983Z"
   },
   {
    "duration": 90,
    "start_time": "2022-08-31T10:03:18.005Z"
   },
   {
    "duration": 113,
    "start_time": "2022-08-31T10:03:18.097Z"
   },
   {
    "duration": 5,
    "start_time": "2022-08-31T10:03:18.212Z"
   },
   {
    "duration": 342,
    "start_time": "2022-08-31T10:03:18.219Z"
   },
   {
    "duration": 5,
    "start_time": "2022-08-31T10:03:18.564Z"
   },
   {
    "duration": 38,
    "start_time": "2022-08-31T10:03:18.571Z"
   },
   {
    "duration": 26,
    "start_time": "2022-08-31T10:03:18.611Z"
   },
   {
    "duration": 431,
    "start_time": "2022-08-31T10:03:18.639Z"
   },
   {
    "duration": 435,
    "start_time": "2022-08-31T10:03:19.073Z"
   },
   {
    "duration": 236,
    "start_time": "2022-08-31T10:03:19.510Z"
   },
   {
    "duration": 318,
    "start_time": "2022-08-31T10:03:19.747Z"
   },
   {
    "duration": 199,
    "start_time": "2022-08-31T10:03:20.067Z"
   },
   {
    "duration": 258,
    "start_time": "2022-08-31T10:03:20.268Z"
   },
   {
    "duration": 236,
    "start_time": "2022-08-31T10:03:20.528Z"
   },
   {
    "duration": 138,
    "start_time": "2022-08-31T10:03:20.767Z"
   },
   {
    "duration": 238,
    "start_time": "2022-08-31T10:03:20.907Z"
   },
   {
    "duration": 248,
    "start_time": "2022-08-31T10:03:21.147Z"
   },
   {
    "duration": 347,
    "start_time": "2022-08-31T10:03:21.397Z"
   },
   {
    "duration": 238,
    "start_time": "2022-08-31T10:03:21.745Z"
   },
   {
    "duration": 230,
    "start_time": "2022-08-31T10:03:21.985Z"
   },
   {
    "duration": 287,
    "start_time": "2022-08-31T10:03:22.217Z"
   },
   {
    "duration": 246,
    "start_time": "2022-08-31T10:03:22.506Z"
   },
   {
    "duration": 54,
    "start_time": "2022-08-31T10:03:22.755Z"
   },
   {
    "duration": 180,
    "start_time": "2022-08-31T10:03:22.812Z"
   },
   {
    "duration": 195,
    "start_time": "2022-08-31T10:03:22.994Z"
   },
   {
    "duration": 198,
    "start_time": "2022-08-31T10:03:23.191Z"
   },
   {
    "duration": 169,
    "start_time": "2022-08-31T10:03:23.391Z"
   },
   {
    "duration": 353,
    "start_time": "2022-08-31T10:04:21.620Z"
   },
   {
    "duration": 158,
    "start_time": "2022-08-31T10:04:27.576Z"
   },
   {
    "duration": 3567,
    "start_time": "2022-08-31T10:04:34.862Z"
   },
   {
    "duration": 11,
    "start_time": "2022-08-31T10:04:38.432Z"
   },
   {
    "duration": 270,
    "start_time": "2022-08-31T10:04:38.445Z"
   },
   {
    "duration": 63,
    "start_time": "2022-08-31T10:04:38.718Z"
   },
   {
    "duration": 4,
    "start_time": "2022-08-31T10:04:38.783Z"
   },
   {
    "duration": 92,
    "start_time": "2022-08-31T10:04:38.788Z"
   },
   {
    "duration": 160,
    "start_time": "2022-08-31T10:04:38.882Z"
   },
   {
    "duration": 5,
    "start_time": "2022-08-31T10:04:39.044Z"
   },
   {
    "duration": 412,
    "start_time": "2022-08-31T10:04:39.052Z"
   },
   {
    "duration": 4,
    "start_time": "2022-08-31T10:04:39.467Z"
   },
   {
    "duration": 10,
    "start_time": "2022-08-31T10:04:39.473Z"
   },
   {
    "duration": 7,
    "start_time": "2022-08-31T10:04:39.484Z"
   },
   {
    "duration": 375,
    "start_time": "2022-08-31T10:04:39.503Z"
   },
   {
    "duration": 494,
    "start_time": "2022-08-31T10:04:39.879Z"
   },
   {
    "duration": 297,
    "start_time": "2022-08-31T10:04:40.375Z"
   },
   {
    "duration": 381,
    "start_time": "2022-08-31T10:04:40.674Z"
   },
   {
    "duration": 238,
    "start_time": "2022-08-31T10:04:41.057Z"
   },
   {
    "duration": 279,
    "start_time": "2022-08-31T10:04:41.310Z"
   },
   {
    "duration": 278,
    "start_time": "2022-08-31T10:04:41.592Z"
   },
   {
    "duration": 158,
    "start_time": "2022-08-31T10:04:41.872Z"
   },
   {
    "duration": 252,
    "start_time": "2022-08-31T10:04:42.032Z"
   },
   {
    "duration": 269,
    "start_time": "2022-08-31T10:04:42.286Z"
   },
   {
    "duration": 370,
    "start_time": "2022-08-31T10:04:42.556Z"
   },
   {
    "duration": 300,
    "start_time": "2022-08-31T10:04:42.929Z"
   },
   {
    "duration": 229,
    "start_time": "2022-08-31T10:04:43.231Z"
   },
   {
    "duration": 280,
    "start_time": "2022-08-31T10:04:43.462Z"
   },
   {
    "duration": 241,
    "start_time": "2022-08-31T10:04:43.743Z"
   },
   {
    "duration": 67,
    "start_time": "2022-08-31T10:04:43.987Z"
   },
   {
    "duration": 196,
    "start_time": "2022-08-31T10:04:44.056Z"
   },
   {
    "duration": 218,
    "start_time": "2022-08-31T10:04:44.254Z"
   },
   {
    "duration": 230,
    "start_time": "2022-08-31T10:04:44.474Z"
   },
   {
    "duration": 0,
    "start_time": "2022-08-31T10:04:44.707Z"
   },
   {
    "duration": 2994,
    "start_time": "2022-08-31T10:05:10.975Z"
   },
   {
    "duration": 9,
    "start_time": "2022-08-31T10:05:13.972Z"
   },
   {
    "duration": 203,
    "start_time": "2022-08-31T10:05:13.982Z"
   },
   {
    "duration": 63,
    "start_time": "2022-08-31T10:05:14.187Z"
   },
   {
    "duration": 3,
    "start_time": "2022-08-31T10:05:14.252Z"
   },
   {
    "duration": 81,
    "start_time": "2022-08-31T10:05:14.257Z"
   },
   {
    "duration": 122,
    "start_time": "2022-08-31T10:05:14.340Z"
   },
   {
    "duration": 4,
    "start_time": "2022-08-31T10:05:14.464Z"
   },
   {
    "duration": 314,
    "start_time": "2022-08-31T10:05:14.469Z"
   },
   {
    "duration": 4,
    "start_time": "2022-08-31T10:05:14.785Z"
   },
   {
    "duration": 14,
    "start_time": "2022-08-31T10:05:14.791Z"
   },
   {
    "duration": 10,
    "start_time": "2022-08-31T10:05:14.807Z"
   },
   {
    "duration": 305,
    "start_time": "2022-08-31T10:05:14.819Z"
   },
   {
    "duration": 431,
    "start_time": "2022-08-31T10:05:15.126Z"
   },
   {
    "duration": 241,
    "start_time": "2022-08-31T10:05:15.559Z"
   },
   {
    "duration": 311,
    "start_time": "2022-08-31T10:05:15.801Z"
   },
   {
    "duration": 216,
    "start_time": "2022-08-31T10:05:16.114Z"
   },
   {
    "duration": 289,
    "start_time": "2022-08-31T10:05:16.332Z"
   },
   {
    "duration": 232,
    "start_time": "2022-08-31T10:05:16.623Z"
   },
   {
    "duration": 146,
    "start_time": "2022-08-31T10:05:16.857Z"
   },
   {
    "duration": 239,
    "start_time": "2022-08-31T10:05:17.005Z"
   },
   {
    "duration": 238,
    "start_time": "2022-08-31T10:05:17.246Z"
   },
   {
    "duration": 329,
    "start_time": "2022-08-31T10:05:17.486Z"
   },
   {
    "duration": 236,
    "start_time": "2022-08-31T10:05:17.816Z"
   },
   {
    "duration": 230,
    "start_time": "2022-08-31T10:05:18.054Z"
   },
   {
    "duration": 268,
    "start_time": "2022-08-31T10:05:18.285Z"
   },
   {
    "duration": 275,
    "start_time": "2022-08-31T10:05:18.555Z"
   },
   {
    "duration": 70,
    "start_time": "2022-08-31T10:05:18.835Z"
   },
   {
    "duration": 221,
    "start_time": "2022-08-31T10:05:18.907Z"
   },
   {
    "duration": 208,
    "start_time": "2022-08-31T10:05:19.130Z"
   },
   {
    "duration": 187,
    "start_time": "2022-08-31T10:05:19.341Z"
   },
   {
    "duration": 157,
    "start_time": "2022-08-31T10:05:19.530Z"
   },
   {
    "duration": 97,
    "start_time": "2022-08-31T10:08:47.550Z"
   },
   {
    "duration": 15,
    "start_time": "2022-08-31T10:09:03.758Z"
   },
   {
    "duration": 302,
    "start_time": "2022-08-31T10:27:52.014Z"
   },
   {
    "duration": 181,
    "start_time": "2022-08-31T11:09:37.441Z"
   },
   {
    "duration": 197,
    "start_time": "2022-08-31T11:09:45.160Z"
   },
   {
    "duration": 203,
    "start_time": "2022-08-31T11:10:52.746Z"
   },
   {
    "duration": 171,
    "start_time": "2022-08-31T11:11:09.591Z"
   },
   {
    "duration": 169,
    "start_time": "2022-08-31T11:19:41.777Z"
   },
   {
    "duration": 174,
    "start_time": "2022-08-31T11:20:35.595Z"
   },
   {
    "duration": 2811,
    "start_time": "2022-08-31T11:43:53.466Z"
   },
   {
    "duration": 12,
    "start_time": "2022-08-31T11:43:56.281Z"
   },
   {
    "duration": 218,
    "start_time": "2022-08-31T11:43:56.296Z"
   },
   {
    "duration": 56,
    "start_time": "2022-08-31T11:43:56.516Z"
   },
   {
    "duration": 3,
    "start_time": "2022-08-31T11:43:56.575Z"
   },
   {
    "duration": 71,
    "start_time": "2022-08-31T11:43:56.602Z"
   },
   {
    "duration": 124,
    "start_time": "2022-08-31T11:43:56.675Z"
   },
   {
    "duration": 3,
    "start_time": "2022-08-31T11:43:56.801Z"
   },
   {
    "duration": 330,
    "start_time": "2022-08-31T11:43:56.806Z"
   },
   {
    "duration": 4,
    "start_time": "2022-08-31T11:43:57.138Z"
   },
   {
    "duration": 8,
    "start_time": "2022-08-31T11:43:57.144Z"
   },
   {
    "duration": 5,
    "start_time": "2022-08-31T11:43:57.153Z"
   },
   {
    "duration": 395,
    "start_time": "2022-08-31T11:43:57.160Z"
   },
   {
    "duration": 317,
    "start_time": "2022-08-31T11:43:57.558Z"
   },
   {
    "duration": 239,
    "start_time": "2022-08-31T11:43:57.876Z"
   },
   {
    "duration": 319,
    "start_time": "2022-08-31T11:43:58.117Z"
   },
   {
    "duration": 199,
    "start_time": "2022-08-31T11:43:58.438Z"
   },
   {
    "duration": 247,
    "start_time": "2022-08-31T11:43:58.639Z"
   },
   {
    "duration": 282,
    "start_time": "2022-08-31T11:43:58.888Z"
   },
   {
    "duration": 132,
    "start_time": "2022-08-31T11:43:59.171Z"
   },
   {
    "duration": 222,
    "start_time": "2022-08-31T11:43:59.305Z"
   },
   {
    "duration": 313,
    "start_time": "2022-08-31T11:43:59.529Z"
   },
   {
    "duration": 215,
    "start_time": "2022-08-31T11:43:59.844Z"
   },
   {
    "duration": 241,
    "start_time": "2022-08-31T11:44:00.061Z"
   },
   {
    "duration": 231,
    "start_time": "2022-08-31T11:44:00.304Z"
   },
   {
    "duration": 254,
    "start_time": "2022-08-31T11:44:00.537Z"
   },
   {
    "duration": 241,
    "start_time": "2022-08-31T11:44:00.793Z"
   },
   {
    "duration": 43,
    "start_time": "2022-08-31T11:44:01.036Z"
   },
   {
    "duration": 200,
    "start_time": "2022-08-31T11:44:01.081Z"
   },
   {
    "duration": 205,
    "start_time": "2022-08-31T11:44:01.283Z"
   },
   {
    "duration": 53,
    "start_time": "2022-08-31T11:44:01.490Z"
   },
   {
    "duration": 0,
    "start_time": "2022-08-31T11:44:01.545Z"
   },
   {
    "duration": 0,
    "start_time": "2022-08-31T11:44:01.546Z"
   },
   {
    "duration": 0,
    "start_time": "2022-08-31T11:44:01.547Z"
   },
   {
    "duration": 0,
    "start_time": "2022-08-31T11:44:01.548Z"
   },
   {
    "duration": 0,
    "start_time": "2022-08-31T11:44:01.549Z"
   },
   {
    "duration": 0,
    "start_time": "2022-08-31T11:44:01.550Z"
   },
   {
    "duration": 0,
    "start_time": "2022-08-31T11:44:01.551Z"
   },
   {
    "duration": 0,
    "start_time": "2022-08-31T11:44:01.552Z"
   },
   {
    "duration": 0,
    "start_time": "2022-08-31T11:44:01.553Z"
   },
   {
    "duration": 0,
    "start_time": "2022-08-31T11:44:01.554Z"
   },
   {
    "duration": 184,
    "start_time": "2022-08-31T11:44:50.534Z"
   },
   {
    "duration": 264,
    "start_time": "2022-08-31T11:49:22.576Z"
   },
   {
    "duration": 163,
    "start_time": "2022-08-31T11:49:55.723Z"
   },
   {
    "duration": 159,
    "start_time": "2022-08-31T11:50:10.716Z"
   },
   {
    "duration": 188,
    "start_time": "2022-08-31T11:50:52.763Z"
   },
   {
    "duration": 156,
    "start_time": "2022-08-31T11:51:27.727Z"
   },
   {
    "duration": 160,
    "start_time": "2022-08-31T12:29:41.777Z"
   },
   {
    "duration": 171,
    "start_time": "2022-08-31T12:31:44.077Z"
   },
   {
    "duration": 2888,
    "start_time": "2022-08-31T12:35:59.637Z"
   },
   {
    "duration": 9,
    "start_time": "2022-08-31T12:36:02.528Z"
   },
   {
    "duration": 213,
    "start_time": "2022-08-31T12:36:02.538Z"
   },
   {
    "duration": 71,
    "start_time": "2022-08-31T12:36:02.754Z"
   },
   {
    "duration": 3,
    "start_time": "2022-08-31T12:36:02.827Z"
   },
   {
    "duration": 74,
    "start_time": "2022-08-31T12:36:02.832Z"
   },
   {
    "duration": 113,
    "start_time": "2022-08-31T12:36:02.907Z"
   },
   {
    "duration": 3,
    "start_time": "2022-08-31T12:36:03.022Z"
   },
   {
    "duration": 326,
    "start_time": "2022-08-31T12:36:03.027Z"
   },
   {
    "duration": 4,
    "start_time": "2022-08-31T12:36:03.355Z"
   },
   {
    "duration": 10,
    "start_time": "2022-08-31T12:36:03.361Z"
   },
   {
    "duration": 7,
    "start_time": "2022-08-31T12:36:03.373Z"
   },
   {
    "duration": 324,
    "start_time": "2022-08-31T12:36:03.382Z"
   },
   {
    "duration": 417,
    "start_time": "2022-08-31T12:36:03.708Z"
   },
   {
    "duration": 237,
    "start_time": "2022-08-31T12:36:04.127Z"
   },
   {
    "duration": 327,
    "start_time": "2022-08-31T12:36:04.366Z"
   },
   {
    "duration": 214,
    "start_time": "2022-08-31T12:36:04.695Z"
   },
   {
    "duration": 262,
    "start_time": "2022-08-31T12:36:04.911Z"
   },
   {
    "duration": 227,
    "start_time": "2022-08-31T12:36:05.176Z"
   },
   {
    "duration": 129,
    "start_time": "2022-08-31T12:36:05.404Z"
   },
   {
    "duration": 237,
    "start_time": "2022-08-31T12:36:05.534Z"
   },
   {
    "duration": 206,
    "start_time": "2022-08-31T12:36:05.773Z"
   },
   {
    "duration": 326,
    "start_time": "2022-08-31T12:36:05.981Z"
   },
   {
    "duration": 235,
    "start_time": "2022-08-31T12:36:06.308Z"
   },
   {
    "duration": 221,
    "start_time": "2022-08-31T12:36:06.545Z"
   },
   {
    "duration": 257,
    "start_time": "2022-08-31T12:36:06.768Z"
   },
   {
    "duration": 232,
    "start_time": "2022-08-31T12:36:07.027Z"
   },
   {
    "duration": 54,
    "start_time": "2022-08-31T12:36:07.262Z"
   },
   {
    "duration": 175,
    "start_time": "2022-08-31T12:36:07.318Z"
   },
   {
    "duration": 187,
    "start_time": "2022-08-31T12:36:07.500Z"
   },
   {
    "duration": 183,
    "start_time": "2022-08-31T12:36:07.688Z"
   },
   {
    "duration": 167,
    "start_time": "2022-08-31T12:36:07.873Z"
   },
   {
    "duration": 281,
    "start_time": "2022-08-31T12:36:08.041Z"
   },
   {
    "duration": 193,
    "start_time": "2022-08-31T12:36:08.323Z"
   },
   {
    "duration": 168,
    "start_time": "2022-08-31T12:36:08.518Z"
   },
   {
    "duration": 184,
    "start_time": "2022-08-31T12:36:08.688Z"
   },
   {
    "duration": 3,
    "start_time": "2022-08-31T12:36:08.874Z"
   },
   {
    "duration": 202,
    "start_time": "2022-08-31T12:36:18.922Z"
   },
   {
    "duration": 2984,
    "start_time": "2022-08-31T12:38:18.933Z"
   },
   {
    "duration": 11,
    "start_time": "2022-08-31T12:38:21.921Z"
   },
   {
    "duration": 226,
    "start_time": "2022-08-31T12:38:21.935Z"
   },
   {
    "duration": 91,
    "start_time": "2022-08-31T12:38:22.164Z"
   },
   {
    "duration": 3,
    "start_time": "2022-08-31T12:38:22.257Z"
   },
   {
    "duration": 78,
    "start_time": "2022-08-31T12:38:22.262Z"
   },
   {
    "duration": 122,
    "start_time": "2022-08-31T12:38:22.343Z"
   },
   {
    "duration": 5,
    "start_time": "2022-08-31T12:38:22.467Z"
   },
   {
    "duration": 321,
    "start_time": "2022-08-31T12:38:22.474Z"
   },
   {
    "duration": 7,
    "start_time": "2022-08-31T12:38:22.798Z"
   },
   {
    "duration": 8,
    "start_time": "2022-08-31T12:38:22.807Z"
   },
   {
    "duration": 7,
    "start_time": "2022-08-31T12:38:22.817Z"
   },
   {
    "duration": 324,
    "start_time": "2022-08-31T12:38:22.826Z"
   },
   {
    "duration": 419,
    "start_time": "2022-08-31T12:38:23.152Z"
   },
   {
    "duration": 249,
    "start_time": "2022-08-31T12:38:23.573Z"
   },
   {
    "duration": 330,
    "start_time": "2022-08-31T12:38:23.823Z"
   },
   {
    "duration": 231,
    "start_time": "2022-08-31T12:38:24.154Z"
   },
   {
    "duration": 261,
    "start_time": "2022-08-31T12:38:24.387Z"
   },
   {
    "duration": 259,
    "start_time": "2022-08-31T12:38:24.650Z"
   },
   {
    "duration": 133,
    "start_time": "2022-08-31T12:38:24.911Z"
   },
   {
    "duration": 237,
    "start_time": "2022-08-31T12:38:25.045Z"
   },
   {
    "duration": 220,
    "start_time": "2022-08-31T12:38:25.284Z"
   },
   {
    "duration": 339,
    "start_time": "2022-08-31T12:38:25.506Z"
   },
   {
    "duration": 239,
    "start_time": "2022-08-31T12:38:25.847Z"
   },
   {
    "duration": 227,
    "start_time": "2022-08-31T12:38:26.088Z"
   },
   {
    "duration": 268,
    "start_time": "2022-08-31T12:38:26.318Z"
   },
   {
    "duration": 244,
    "start_time": "2022-08-31T12:38:26.588Z"
   },
   {
    "duration": 48,
    "start_time": "2022-08-31T12:38:26.836Z"
   },
   {
    "duration": 224,
    "start_time": "2022-08-31T12:38:26.886Z"
   },
   {
    "duration": 191,
    "start_time": "2022-08-31T12:38:27.112Z"
   },
   {
    "duration": 186,
    "start_time": "2022-08-31T12:38:27.304Z"
   },
   {
    "duration": 166,
    "start_time": "2022-08-31T12:38:27.492Z"
   },
   {
    "duration": 381,
    "start_time": "2022-08-31T12:38:27.659Z"
   },
   {
    "duration": 189,
    "start_time": "2022-08-31T12:38:28.042Z"
   },
   {
    "duration": 193,
    "start_time": "2022-08-31T12:38:28.233Z"
   },
   {
    "duration": 189,
    "start_time": "2022-08-31T12:38:28.429Z"
   },
   {
    "duration": 2,
    "start_time": "2022-08-31T12:38:28.620Z"
   },
   {
    "duration": 98,
    "start_time": "2022-08-31T12:53:29.568Z"
   },
   {
    "duration": 2856,
    "start_time": "2022-08-31T12:53:44.337Z"
   },
   {
    "duration": 10,
    "start_time": "2022-08-31T12:53:47.196Z"
   },
   {
    "duration": 242,
    "start_time": "2022-08-31T12:53:47.208Z"
   },
   {
    "duration": 76,
    "start_time": "2022-08-31T12:53:47.454Z"
   },
   {
    "duration": 5,
    "start_time": "2022-08-31T12:53:47.532Z"
   },
   {
    "duration": 139,
    "start_time": "2022-08-31T12:53:47.539Z"
   },
   {
    "duration": 98,
    "start_time": "2022-08-31T12:53:47.681Z"
   },
   {
    "duration": 0,
    "start_time": "2022-08-31T12:53:47.782Z"
   },
   {
    "duration": 0,
    "start_time": "2022-08-31T12:53:47.783Z"
   },
   {
    "duration": 0,
    "start_time": "2022-08-31T12:53:47.785Z"
   },
   {
    "duration": 0,
    "start_time": "2022-08-31T12:53:47.786Z"
   },
   {
    "duration": 0,
    "start_time": "2022-08-31T12:53:47.802Z"
   },
   {
    "duration": 0,
    "start_time": "2022-08-31T12:53:47.804Z"
   },
   {
    "duration": 0,
    "start_time": "2022-08-31T12:53:47.805Z"
   },
   {
    "duration": 0,
    "start_time": "2022-08-31T12:53:47.806Z"
   },
   {
    "duration": 0,
    "start_time": "2022-08-31T12:53:47.808Z"
   },
   {
    "duration": 0,
    "start_time": "2022-08-31T12:53:47.809Z"
   },
   {
    "duration": 0,
    "start_time": "2022-08-31T12:53:47.810Z"
   },
   {
    "duration": 0,
    "start_time": "2022-08-31T12:53:47.812Z"
   },
   {
    "duration": 0,
    "start_time": "2022-08-31T12:53:47.813Z"
   },
   {
    "duration": 0,
    "start_time": "2022-08-31T12:53:47.815Z"
   },
   {
    "duration": 0,
    "start_time": "2022-08-31T12:53:47.816Z"
   },
   {
    "duration": 0,
    "start_time": "2022-08-31T12:53:47.818Z"
   },
   {
    "duration": 0,
    "start_time": "2022-08-31T12:53:47.819Z"
   },
   {
    "duration": 0,
    "start_time": "2022-08-31T12:53:47.821Z"
   },
   {
    "duration": 0,
    "start_time": "2022-08-31T12:53:47.822Z"
   },
   {
    "duration": 0,
    "start_time": "2022-08-31T12:53:47.823Z"
   },
   {
    "duration": 0,
    "start_time": "2022-08-31T12:53:47.824Z"
   },
   {
    "duration": 0,
    "start_time": "2022-08-31T12:53:47.825Z"
   },
   {
    "duration": 0,
    "start_time": "2022-08-31T12:53:47.827Z"
   },
   {
    "duration": 0,
    "start_time": "2022-08-31T12:53:47.828Z"
   },
   {
    "duration": 0,
    "start_time": "2022-08-31T12:53:47.830Z"
   },
   {
    "duration": 0,
    "start_time": "2022-08-31T12:53:47.831Z"
   },
   {
    "duration": 0,
    "start_time": "2022-08-31T12:53:47.833Z"
   },
   {
    "duration": 0,
    "start_time": "2022-08-31T12:53:47.834Z"
   },
   {
    "duration": 0,
    "start_time": "2022-08-31T12:53:47.836Z"
   },
   {
    "duration": 1,
    "start_time": "2022-08-31T12:53:47.837Z"
   },
   {
    "duration": 4,
    "start_time": "2022-08-31T12:54:04.687Z"
   },
   {
    "duration": 125,
    "start_time": "2022-08-31T12:58:02.054Z"
   },
   {
    "duration": 60,
    "start_time": "2022-08-31T12:58:34.678Z"
   },
   {
    "duration": 33,
    "start_time": "2022-08-31T12:58:51.618Z"
   },
   {
    "duration": 31,
    "start_time": "2022-08-31T12:59:19.043Z"
   },
   {
    "duration": 6,
    "start_time": "2022-08-31T13:01:11.108Z"
   },
   {
    "duration": 2959,
    "start_time": "2022-08-31T13:01:17.606Z"
   },
   {
    "duration": 11,
    "start_time": "2022-08-31T13:01:20.568Z"
   },
   {
    "duration": 223,
    "start_time": "2022-08-31T13:01:20.580Z"
   },
   {
    "duration": 57,
    "start_time": "2022-08-31T13:01:20.805Z"
   },
   {
    "duration": 4,
    "start_time": "2022-08-31T13:01:20.864Z"
   },
   {
    "duration": 138,
    "start_time": "2022-08-31T13:01:20.871Z"
   },
   {
    "duration": 4,
    "start_time": "2022-08-31T13:01:21.011Z"
   },
   {
    "duration": 335,
    "start_time": "2022-08-31T13:01:21.017Z"
   },
   {
    "duration": 4,
    "start_time": "2022-08-31T13:01:21.354Z"
   },
   {
    "duration": 9,
    "start_time": "2022-08-31T13:01:21.361Z"
   },
   {
    "duration": 7,
    "start_time": "2022-08-31T13:01:21.373Z"
   },
   {
    "duration": 326,
    "start_time": "2022-08-31T13:01:21.381Z"
   },
   {
    "duration": 444,
    "start_time": "2022-08-31T13:01:21.709Z"
   },
   {
    "duration": 255,
    "start_time": "2022-08-31T13:01:22.154Z"
   },
   {
    "duration": 352,
    "start_time": "2022-08-31T13:01:22.411Z"
   },
   {
    "duration": 199,
    "start_time": "2022-08-31T13:01:22.765Z"
   },
   {
    "duration": 259,
    "start_time": "2022-08-31T13:01:22.966Z"
   },
   {
    "duration": 236,
    "start_time": "2022-08-31T13:01:23.227Z"
   },
   {
    "duration": 140,
    "start_time": "2022-08-31T13:01:23.465Z"
   },
   {
    "duration": 234,
    "start_time": "2022-08-31T13:01:23.606Z"
   },
   {
    "duration": 216,
    "start_time": "2022-08-31T13:01:23.842Z"
   },
   {
    "duration": 334,
    "start_time": "2022-08-31T13:01:24.060Z"
   },
   {
    "duration": 262,
    "start_time": "2022-08-31T13:01:24.396Z"
   },
   {
    "duration": 234,
    "start_time": "2022-08-31T13:01:24.660Z"
   },
   {
    "duration": 268,
    "start_time": "2022-08-31T13:01:24.896Z"
   },
   {
    "duration": 234,
    "start_time": "2022-08-31T13:01:25.166Z"
   },
   {
    "duration": 47,
    "start_time": "2022-08-31T13:01:25.403Z"
   },
   {
    "duration": 189,
    "start_time": "2022-08-31T13:01:25.453Z"
   },
   {
    "duration": 193,
    "start_time": "2022-08-31T13:01:25.644Z"
   },
   {
    "duration": 185,
    "start_time": "2022-08-31T13:01:25.839Z"
   },
   {
    "duration": 169,
    "start_time": "2022-08-31T13:01:26.026Z"
   },
   {
    "duration": 273,
    "start_time": "2022-08-31T13:01:26.203Z"
   },
   {
    "duration": 185,
    "start_time": "2022-08-31T13:01:26.478Z"
   },
   {
    "duration": 176,
    "start_time": "2022-08-31T13:01:26.664Z"
   },
   {
    "duration": 207,
    "start_time": "2022-08-31T13:01:26.842Z"
   },
   {
    "duration": 6,
    "start_time": "2022-08-31T13:01:27.051Z"
   },
   {
    "duration": 115,
    "start_time": "2022-08-31T13:01:27.059Z"
   },
   {
    "duration": 21,
    "start_time": "2022-08-31T13:02:33.199Z"
   },
   {
    "duration": 23,
    "start_time": "2022-08-31T13:02:48.017Z"
   },
   {
    "duration": 33,
    "start_time": "2022-08-31T13:03:40.567Z"
   },
   {
    "duration": 3017,
    "start_time": "2022-08-31T13:03:47.893Z"
   },
   {
    "duration": 10,
    "start_time": "2022-08-31T13:03:50.913Z"
   },
   {
    "duration": 268,
    "start_time": "2022-08-31T13:03:50.929Z"
   },
   {
    "duration": 79,
    "start_time": "2022-08-31T13:03:51.203Z"
   },
   {
    "duration": 18,
    "start_time": "2022-08-31T13:03:51.285Z"
   },
   {
    "duration": 131,
    "start_time": "2022-08-31T13:03:51.306Z"
   },
   {
    "duration": 4,
    "start_time": "2022-08-31T13:03:51.439Z"
   },
   {
    "duration": 333,
    "start_time": "2022-08-31T13:03:51.445Z"
   },
   {
    "duration": 5,
    "start_time": "2022-08-31T13:03:51.781Z"
   },
   {
    "duration": 23,
    "start_time": "2022-08-31T13:03:51.788Z"
   },
   {
    "duration": 18,
    "start_time": "2022-08-31T13:03:51.813Z"
   },
   {
    "duration": 440,
    "start_time": "2022-08-31T13:03:51.833Z"
   },
   {
    "duration": 360,
    "start_time": "2022-08-31T13:03:52.274Z"
   },
   {
    "duration": 248,
    "start_time": "2022-08-31T13:03:52.636Z"
   },
   {
    "duration": 318,
    "start_time": "2022-08-31T13:03:52.885Z"
   },
   {
    "duration": 212,
    "start_time": "2022-08-31T13:03:53.205Z"
   },
   {
    "duration": 250,
    "start_time": "2022-08-31T13:03:53.419Z"
   },
   {
    "duration": 254,
    "start_time": "2022-08-31T13:03:53.671Z"
   },
   {
    "duration": 144,
    "start_time": "2022-08-31T13:03:53.927Z"
   },
   {
    "duration": 241,
    "start_time": "2022-08-31T13:03:54.073Z"
   },
   {
    "duration": 338,
    "start_time": "2022-08-31T13:03:54.316Z"
   },
   {
    "duration": 223,
    "start_time": "2022-08-31T13:03:54.656Z"
   },
   {
    "duration": 247,
    "start_time": "2022-08-31T13:03:54.881Z"
   },
   {
    "duration": 236,
    "start_time": "2022-08-31T13:03:55.129Z"
   },
   {
    "duration": 278,
    "start_time": "2022-08-31T13:03:55.367Z"
   },
   {
    "duration": 246,
    "start_time": "2022-08-31T13:03:55.647Z"
   },
   {
    "duration": 49,
    "start_time": "2022-08-31T13:03:55.896Z"
   },
   {
    "duration": 184,
    "start_time": "2022-08-31T13:03:55.947Z"
   },
   {
    "duration": 192,
    "start_time": "2022-08-31T13:03:56.133Z"
   },
   {
    "duration": 200,
    "start_time": "2022-08-31T13:03:56.326Z"
   },
   {
    "duration": 276,
    "start_time": "2022-08-31T13:03:56.528Z"
   },
   {
    "duration": 173,
    "start_time": "2022-08-31T13:03:56.806Z"
   },
   {
    "duration": 183,
    "start_time": "2022-08-31T13:03:56.981Z"
   },
   {
    "duration": 174,
    "start_time": "2022-08-31T13:03:57.166Z"
   },
   {
    "duration": 183,
    "start_time": "2022-08-31T13:03:57.342Z"
   },
   {
    "duration": 8,
    "start_time": "2022-08-31T13:03:57.527Z"
   },
   {
    "duration": 115,
    "start_time": "2022-08-31T13:03:57.537Z"
   },
   {
    "duration": 24,
    "start_time": "2022-08-31T13:05:03.708Z"
   },
   {
    "duration": 6,
    "start_time": "2022-08-31T13:06:30.149Z"
   },
   {
    "duration": 2922,
    "start_time": "2022-08-31T13:09:01.811Z"
   },
   {
    "duration": 9,
    "start_time": "2022-08-31T13:09:04.736Z"
   },
   {
    "duration": 209,
    "start_time": "2022-08-31T13:09:04.747Z"
   },
   {
    "duration": 71,
    "start_time": "2022-08-31T13:09:04.958Z"
   },
   {
    "duration": 4,
    "start_time": "2022-08-31T13:09:05.031Z"
   },
   {
    "duration": 125,
    "start_time": "2022-08-31T13:09:05.037Z"
   },
   {
    "duration": 4,
    "start_time": "2022-08-31T13:09:05.164Z"
   },
   {
    "duration": 320,
    "start_time": "2022-08-31T13:09:05.169Z"
   },
   {
    "duration": 4,
    "start_time": "2022-08-31T13:09:05.491Z"
   },
   {
    "duration": 5,
    "start_time": "2022-08-31T13:09:05.502Z"
   },
   {
    "duration": 11,
    "start_time": "2022-08-31T13:09:05.508Z"
   },
   {
    "duration": 311,
    "start_time": "2022-08-31T13:09:05.521Z"
   },
   {
    "duration": 398,
    "start_time": "2022-08-31T13:09:05.833Z"
   },
   {
    "duration": 240,
    "start_time": "2022-08-31T13:09:06.233Z"
   },
   {
    "duration": 308,
    "start_time": "2022-08-31T13:09:06.476Z"
   },
   {
    "duration": 188,
    "start_time": "2022-08-31T13:09:06.786Z"
   },
   {
    "duration": 243,
    "start_time": "2022-08-31T13:09:06.976Z"
   },
   {
    "duration": 222,
    "start_time": "2022-08-31T13:09:07.221Z"
   },
   {
    "duration": 135,
    "start_time": "2022-08-31T13:09:07.445Z"
   },
   {
    "duration": 236,
    "start_time": "2022-08-31T13:09:07.582Z"
   },
   {
    "duration": 232,
    "start_time": "2022-08-31T13:09:07.820Z"
   },
   {
    "duration": 325,
    "start_time": "2022-08-31T13:09:08.054Z"
   },
   {
    "duration": 243,
    "start_time": "2022-08-31T13:09:08.381Z"
   },
   {
    "duration": 221,
    "start_time": "2022-08-31T13:09:08.625Z"
   },
   {
    "duration": 326,
    "start_time": "2022-08-31T13:09:08.850Z"
   },
   {
    "duration": 238,
    "start_time": "2022-08-31T13:09:09.177Z"
   },
   {
    "duration": 46,
    "start_time": "2022-08-31T13:09:09.417Z"
   },
   {
    "duration": 173,
    "start_time": "2022-08-31T13:09:09.466Z"
   },
   {
    "duration": 187,
    "start_time": "2022-08-31T13:09:09.641Z"
   },
   {
    "duration": 181,
    "start_time": "2022-08-31T13:09:09.830Z"
   },
   {
    "duration": 160,
    "start_time": "2022-08-31T13:09:10.013Z"
   },
   {
    "duration": 294,
    "start_time": "2022-08-31T13:09:10.175Z"
   },
   {
    "duration": 178,
    "start_time": "2022-08-31T13:09:10.471Z"
   },
   {
    "duration": 172,
    "start_time": "2022-08-31T13:09:10.651Z"
   },
   {
    "duration": 166,
    "start_time": "2022-08-31T13:09:10.825Z"
   },
   {
    "duration": 98,
    "start_time": "2022-08-31T13:09:10.993Z"
   },
   {
    "duration": 16,
    "start_time": "2022-08-31T13:11:38.489Z"
   },
   {
    "duration": 3031,
    "start_time": "2022-08-31T13:11:47.006Z"
   },
   {
    "duration": 10,
    "start_time": "2022-08-31T13:11:50.040Z"
   },
   {
    "duration": 222,
    "start_time": "2022-08-31T13:11:50.053Z"
   },
   {
    "duration": 67,
    "start_time": "2022-08-31T13:11:50.276Z"
   },
   {
    "duration": 4,
    "start_time": "2022-08-31T13:11:50.346Z"
   },
   {
    "duration": 141,
    "start_time": "2022-08-31T13:11:50.352Z"
   },
   {
    "duration": 9,
    "start_time": "2022-08-31T13:11:50.495Z"
   },
   {
    "duration": 333,
    "start_time": "2022-08-31T13:11:50.506Z"
   },
   {
    "duration": 5,
    "start_time": "2022-08-31T13:11:50.841Z"
   },
   {
    "duration": 9,
    "start_time": "2022-08-31T13:11:50.849Z"
   },
   {
    "duration": 7,
    "start_time": "2022-08-31T13:11:50.860Z"
   },
   {
    "duration": 398,
    "start_time": "2022-08-31T13:11:50.869Z"
   },
   {
    "duration": 355,
    "start_time": "2022-08-31T13:11:51.269Z"
   },
   {
    "duration": 241,
    "start_time": "2022-08-31T13:11:51.628Z"
   },
   {
    "duration": 320,
    "start_time": "2022-08-31T13:11:51.871Z"
   },
   {
    "duration": 190,
    "start_time": "2022-08-31T13:11:52.192Z"
   },
   {
    "duration": 249,
    "start_time": "2022-08-31T13:11:52.384Z"
   },
   {
    "duration": 228,
    "start_time": "2022-08-31T13:11:52.635Z"
   },
   {
    "duration": 143,
    "start_time": "2022-08-31T13:11:52.864Z"
   },
   {
    "duration": 242,
    "start_time": "2022-08-31T13:11:53.008Z"
   },
   {
    "duration": 342,
    "start_time": "2022-08-31T13:11:53.251Z"
   },
   {
    "duration": 234,
    "start_time": "2022-08-31T13:11:53.595Z"
   },
   {
    "duration": 242,
    "start_time": "2022-08-31T13:11:53.832Z"
   },
   {
    "duration": 219,
    "start_time": "2022-08-31T13:11:54.076Z"
   },
   {
    "duration": 301,
    "start_time": "2022-08-31T13:11:54.297Z"
   },
   {
    "duration": 251,
    "start_time": "2022-08-31T13:11:54.599Z"
   },
   {
    "duration": 58,
    "start_time": "2022-08-31T13:11:54.852Z"
   },
   {
    "duration": 175,
    "start_time": "2022-08-31T13:11:54.912Z"
   },
   {
    "duration": 198,
    "start_time": "2022-08-31T13:11:55.089Z"
   },
   {
    "duration": 187,
    "start_time": "2022-08-31T13:11:55.288Z"
   },
   {
    "duration": 267,
    "start_time": "2022-08-31T13:11:55.477Z"
   },
   {
    "duration": 176,
    "start_time": "2022-08-31T13:11:55.746Z"
   },
   {
    "duration": 183,
    "start_time": "2022-08-31T13:11:55.924Z"
   },
   {
    "duration": 173,
    "start_time": "2022-08-31T13:11:56.109Z"
   },
   {
    "duration": 188,
    "start_time": "2022-08-31T13:11:56.284Z"
   },
   {
    "duration": 98,
    "start_time": "2022-08-31T13:11:56.473Z"
   },
   {
    "duration": 2906,
    "start_time": "2022-08-31T13:41:57.739Z"
   },
   {
    "duration": 11,
    "start_time": "2022-08-31T13:42:00.648Z"
   },
   {
    "duration": 228,
    "start_time": "2022-08-31T13:42:00.661Z"
   },
   {
    "duration": 61,
    "start_time": "2022-08-31T13:42:00.892Z"
   },
   {
    "duration": 3,
    "start_time": "2022-08-31T13:42:00.955Z"
   },
   {
    "duration": 132,
    "start_time": "2022-08-31T13:42:00.960Z"
   },
   {
    "duration": 4,
    "start_time": "2022-08-31T13:42:01.094Z"
   },
   {
    "duration": 336,
    "start_time": "2022-08-31T13:42:01.099Z"
   },
   {
    "duration": 4,
    "start_time": "2022-08-31T13:42:01.437Z"
   },
   {
    "duration": 13,
    "start_time": "2022-08-31T13:42:01.444Z"
   },
   {
    "duration": 12,
    "start_time": "2022-08-31T13:42:01.459Z"
   },
   {
    "duration": 336,
    "start_time": "2022-08-31T13:42:01.473Z"
   },
   {
    "duration": 425,
    "start_time": "2022-08-31T13:42:01.811Z"
   },
   {
    "duration": 246,
    "start_time": "2022-08-31T13:42:02.238Z"
   },
   {
    "duration": 341,
    "start_time": "2022-08-31T13:42:02.486Z"
   },
   {
    "duration": 204,
    "start_time": "2022-08-31T13:42:02.829Z"
   },
   {
    "duration": 256,
    "start_time": "2022-08-31T13:42:03.034Z"
   },
   {
    "duration": 247,
    "start_time": "2022-08-31T13:42:03.292Z"
   },
   {
    "duration": 139,
    "start_time": "2022-08-31T13:42:03.541Z"
   },
   {
    "duration": 253,
    "start_time": "2022-08-31T13:42:03.682Z"
   },
   {
    "duration": 237,
    "start_time": "2022-08-31T13:42:03.937Z"
   },
   {
    "duration": 351,
    "start_time": "2022-08-31T13:42:04.176Z"
   },
   {
    "duration": 250,
    "start_time": "2022-08-31T13:42:04.529Z"
   },
   {
    "duration": 230,
    "start_time": "2022-08-31T13:42:04.781Z"
   },
   {
    "duration": 269,
    "start_time": "2022-08-31T13:42:05.013Z"
   },
   {
    "duration": 253,
    "start_time": "2022-08-31T13:42:05.283Z"
   },
   {
    "duration": 49,
    "start_time": "2022-08-31T13:42:05.538Z"
   },
   {
    "duration": 177,
    "start_time": "2022-08-31T13:42:05.602Z"
   },
   {
    "duration": 204,
    "start_time": "2022-08-31T13:42:05.781Z"
   },
   {
    "duration": 196,
    "start_time": "2022-08-31T13:42:05.987Z"
   },
   {
    "duration": 176,
    "start_time": "2022-08-31T13:42:06.185Z"
   },
   {
    "duration": 284,
    "start_time": "2022-08-31T13:42:06.363Z"
   },
   {
    "duration": 186,
    "start_time": "2022-08-31T13:42:06.649Z"
   },
   {
    "duration": 171,
    "start_time": "2022-08-31T13:42:06.837Z"
   },
   {
    "duration": 180,
    "start_time": "2022-08-31T13:42:07.010Z"
   },
   {
    "duration": 90,
    "start_time": "2022-08-31T13:42:07.192Z"
   },
   {
    "duration": 2910,
    "start_time": "2022-08-31T13:43:05.107Z"
   },
   {
    "duration": 10,
    "start_time": "2022-08-31T13:43:08.019Z"
   },
   {
    "duration": 222,
    "start_time": "2022-08-31T13:43:08.030Z"
   },
   {
    "duration": 67,
    "start_time": "2022-08-31T13:43:08.254Z"
   },
   {
    "duration": 3,
    "start_time": "2022-08-31T13:43:08.323Z"
   },
   {
    "duration": 120,
    "start_time": "2022-08-31T13:43:08.328Z"
   },
   {
    "duration": 91,
    "start_time": "2022-08-31T13:43:08.450Z"
   },
   {
    "duration": 0,
    "start_time": "2022-08-31T13:43:08.543Z"
   },
   {
    "duration": 0,
    "start_time": "2022-08-31T13:43:08.545Z"
   },
   {
    "duration": 0,
    "start_time": "2022-08-31T13:43:08.546Z"
   },
   {
    "duration": 0,
    "start_time": "2022-08-31T13:43:08.547Z"
   },
   {
    "duration": 0,
    "start_time": "2022-08-31T13:43:08.547Z"
   },
   {
    "duration": 0,
    "start_time": "2022-08-31T13:43:08.549Z"
   },
   {
    "duration": 0,
    "start_time": "2022-08-31T13:43:08.550Z"
   },
   {
    "duration": 0,
    "start_time": "2022-08-31T13:43:08.552Z"
   },
   {
    "duration": 0,
    "start_time": "2022-08-31T13:43:08.553Z"
   },
   {
    "duration": 0,
    "start_time": "2022-08-31T13:43:08.553Z"
   },
   {
    "duration": 0,
    "start_time": "2022-08-31T13:43:08.554Z"
   },
   {
    "duration": 0,
    "start_time": "2022-08-31T13:43:08.556Z"
   },
   {
    "duration": 0,
    "start_time": "2022-08-31T13:43:08.557Z"
   },
   {
    "duration": 0,
    "start_time": "2022-08-31T13:43:08.558Z"
   },
   {
    "duration": 0,
    "start_time": "2022-08-31T13:43:08.559Z"
   },
   {
    "duration": 0,
    "start_time": "2022-08-31T13:43:08.561Z"
   },
   {
    "duration": 0,
    "start_time": "2022-08-31T13:43:08.562Z"
   },
   {
    "duration": 0,
    "start_time": "2022-08-31T13:43:08.563Z"
   },
   {
    "duration": 0,
    "start_time": "2022-08-31T13:43:08.563Z"
   },
   {
    "duration": 0,
    "start_time": "2022-08-31T13:43:08.602Z"
   },
   {
    "duration": 0,
    "start_time": "2022-08-31T13:43:08.603Z"
   },
   {
    "duration": 0,
    "start_time": "2022-08-31T13:43:08.604Z"
   },
   {
    "duration": 0,
    "start_time": "2022-08-31T13:43:08.605Z"
   },
   {
    "duration": 0,
    "start_time": "2022-08-31T13:43:08.606Z"
   },
   {
    "duration": 0,
    "start_time": "2022-08-31T13:43:08.607Z"
   },
   {
    "duration": 0,
    "start_time": "2022-08-31T13:43:08.608Z"
   },
   {
    "duration": 0,
    "start_time": "2022-08-31T13:43:08.609Z"
   },
   {
    "duration": 0,
    "start_time": "2022-08-31T13:43:08.610Z"
   },
   {
    "duration": 0,
    "start_time": "2022-08-31T13:43:08.611Z"
   },
   {
    "duration": 2782,
    "start_time": "2022-08-31T13:43:21.159Z"
   },
   {
    "duration": 9,
    "start_time": "2022-08-31T13:43:23.944Z"
   },
   {
    "duration": 211,
    "start_time": "2022-08-31T13:43:23.955Z"
   },
   {
    "duration": 61,
    "start_time": "2022-08-31T13:43:24.168Z"
   },
   {
    "duration": 4,
    "start_time": "2022-08-31T13:43:24.231Z"
   },
   {
    "duration": 123,
    "start_time": "2022-08-31T13:43:24.237Z"
   },
   {
    "duration": 96,
    "start_time": "2022-08-31T13:43:24.362Z"
   },
   {
    "duration": 0,
    "start_time": "2022-08-31T13:43:24.460Z"
   },
   {
    "duration": 0,
    "start_time": "2022-08-31T13:43:24.461Z"
   },
   {
    "duration": 0,
    "start_time": "2022-08-31T13:43:24.462Z"
   },
   {
    "duration": 0,
    "start_time": "2022-08-31T13:43:24.463Z"
   },
   {
    "duration": 0,
    "start_time": "2022-08-31T13:43:24.464Z"
   },
   {
    "duration": 0,
    "start_time": "2022-08-31T13:43:24.466Z"
   },
   {
    "duration": 0,
    "start_time": "2022-08-31T13:43:24.467Z"
   },
   {
    "duration": 0,
    "start_time": "2022-08-31T13:43:24.468Z"
   },
   {
    "duration": 0,
    "start_time": "2022-08-31T13:43:24.469Z"
   },
   {
    "duration": 0,
    "start_time": "2022-08-31T13:43:24.470Z"
   },
   {
    "duration": 0,
    "start_time": "2022-08-31T13:43:24.471Z"
   },
   {
    "duration": 0,
    "start_time": "2022-08-31T13:43:24.473Z"
   },
   {
    "duration": 0,
    "start_time": "2022-08-31T13:43:24.474Z"
   },
   {
    "duration": 0,
    "start_time": "2022-08-31T13:43:24.503Z"
   },
   {
    "duration": 0,
    "start_time": "2022-08-31T13:43:24.504Z"
   },
   {
    "duration": 0,
    "start_time": "2022-08-31T13:43:24.505Z"
   },
   {
    "duration": 0,
    "start_time": "2022-08-31T13:43:24.506Z"
   },
   {
    "duration": 0,
    "start_time": "2022-08-31T13:43:24.508Z"
   },
   {
    "duration": 0,
    "start_time": "2022-08-31T13:43:24.509Z"
   },
   {
    "duration": 0,
    "start_time": "2022-08-31T13:43:24.510Z"
   },
   {
    "duration": 0,
    "start_time": "2022-08-31T13:43:24.511Z"
   },
   {
    "duration": 0,
    "start_time": "2022-08-31T13:43:24.512Z"
   },
   {
    "duration": 0,
    "start_time": "2022-08-31T13:43:24.513Z"
   },
   {
    "duration": 0,
    "start_time": "2022-08-31T13:43:24.514Z"
   },
   {
    "duration": 0,
    "start_time": "2022-08-31T13:43:24.515Z"
   },
   {
    "duration": 0,
    "start_time": "2022-08-31T13:43:24.516Z"
   },
   {
    "duration": 0,
    "start_time": "2022-08-31T13:43:24.517Z"
   },
   {
    "duration": 0,
    "start_time": "2022-08-31T13:43:24.518Z"
   },
   {
    "duration": 0,
    "start_time": "2022-08-31T13:43:24.519Z"
   },
   {
    "duration": 2851,
    "start_time": "2022-08-31T13:43:58.322Z"
   },
   {
    "duration": 10,
    "start_time": "2022-08-31T13:44:01.175Z"
   },
   {
    "duration": 245,
    "start_time": "2022-08-31T13:44:01.187Z"
   },
   {
    "duration": 70,
    "start_time": "2022-08-31T13:44:01.434Z"
   },
   {
    "duration": 3,
    "start_time": "2022-08-31T13:44:01.507Z"
   },
   {
    "duration": 130,
    "start_time": "2022-08-31T13:44:01.511Z"
   },
   {
    "duration": 90,
    "start_time": "2022-08-31T13:44:01.643Z"
   },
   {
    "duration": 0,
    "start_time": "2022-08-31T13:44:01.735Z"
   },
   {
    "duration": 1,
    "start_time": "2022-08-31T13:44:01.736Z"
   },
   {
    "duration": 1,
    "start_time": "2022-08-31T13:44:01.737Z"
   },
   {
    "duration": 0,
    "start_time": "2022-08-31T13:44:01.739Z"
   },
   {
    "duration": 0,
    "start_time": "2022-08-31T13:44:01.739Z"
   },
   {
    "duration": 0,
    "start_time": "2022-08-31T13:44:01.740Z"
   },
   {
    "duration": 0,
    "start_time": "2022-08-31T13:44:01.742Z"
   },
   {
    "duration": 0,
    "start_time": "2022-08-31T13:44:01.744Z"
   },
   {
    "duration": 0,
    "start_time": "2022-08-31T13:44:01.745Z"
   },
   {
    "duration": 0,
    "start_time": "2022-08-31T13:44:01.745Z"
   },
   {
    "duration": 0,
    "start_time": "2022-08-31T13:44:01.747Z"
   },
   {
    "duration": 0,
    "start_time": "2022-08-31T13:44:01.747Z"
   },
   {
    "duration": 0,
    "start_time": "2022-08-31T13:44:01.748Z"
   },
   {
    "duration": 0,
    "start_time": "2022-08-31T13:44:01.749Z"
   },
   {
    "duration": 0,
    "start_time": "2022-08-31T13:44:01.750Z"
   },
   {
    "duration": 0,
    "start_time": "2022-08-31T13:44:01.751Z"
   },
   {
    "duration": 0,
    "start_time": "2022-08-31T13:44:01.752Z"
   },
   {
    "duration": 0,
    "start_time": "2022-08-31T13:44:01.753Z"
   },
   {
    "duration": 0,
    "start_time": "2022-08-31T13:44:01.754Z"
   },
   {
    "duration": 0,
    "start_time": "2022-08-31T13:44:01.755Z"
   },
   {
    "duration": 0,
    "start_time": "2022-08-31T13:44:01.756Z"
   },
   {
    "duration": 1,
    "start_time": "2022-08-31T13:44:01.757Z"
   },
   {
    "duration": 0,
    "start_time": "2022-08-31T13:44:01.759Z"
   },
   {
    "duration": 0,
    "start_time": "2022-08-31T13:44:01.760Z"
   },
   {
    "duration": 0,
    "start_time": "2022-08-31T13:44:01.760Z"
   },
   {
    "duration": 0,
    "start_time": "2022-08-31T13:44:01.761Z"
   },
   {
    "duration": 0,
    "start_time": "2022-08-31T13:44:01.803Z"
   },
   {
    "duration": 0,
    "start_time": "2022-08-31T13:44:01.804Z"
   },
   {
    "duration": 0,
    "start_time": "2022-08-31T13:44:01.805Z"
   },
   {
    "duration": 2865,
    "start_time": "2022-08-31T13:44:13.896Z"
   },
   {
    "duration": 10,
    "start_time": "2022-08-31T13:44:16.763Z"
   },
   {
    "duration": 210,
    "start_time": "2022-08-31T13:44:16.775Z"
   },
   {
    "duration": 62,
    "start_time": "2022-08-31T13:44:16.986Z"
   },
   {
    "duration": 3,
    "start_time": "2022-08-31T13:44:17.051Z"
   },
   {
    "duration": 127,
    "start_time": "2022-08-31T13:44:17.056Z"
   },
   {
    "duration": 91,
    "start_time": "2022-08-31T13:44:17.185Z"
   },
   {
    "duration": 0,
    "start_time": "2022-08-31T13:44:17.278Z"
   },
   {
    "duration": 0,
    "start_time": "2022-08-31T13:44:17.279Z"
   },
   {
    "duration": 0,
    "start_time": "2022-08-31T13:44:17.281Z"
   },
   {
    "duration": 0,
    "start_time": "2022-08-31T13:44:17.282Z"
   },
   {
    "duration": 0,
    "start_time": "2022-08-31T13:44:17.283Z"
   },
   {
    "duration": 0,
    "start_time": "2022-08-31T13:44:17.284Z"
   },
   {
    "duration": 0,
    "start_time": "2022-08-31T13:44:17.285Z"
   },
   {
    "duration": 0,
    "start_time": "2022-08-31T13:44:17.303Z"
   },
   {
    "duration": 0,
    "start_time": "2022-08-31T13:44:17.304Z"
   },
   {
    "duration": 0,
    "start_time": "2022-08-31T13:44:17.305Z"
   },
   {
    "duration": 0,
    "start_time": "2022-08-31T13:44:17.306Z"
   },
   {
    "duration": 0,
    "start_time": "2022-08-31T13:44:17.308Z"
   },
   {
    "duration": 0,
    "start_time": "2022-08-31T13:44:17.309Z"
   },
   {
    "duration": 0,
    "start_time": "2022-08-31T13:44:17.310Z"
   },
   {
    "duration": 0,
    "start_time": "2022-08-31T13:44:17.311Z"
   },
   {
    "duration": 0,
    "start_time": "2022-08-31T13:44:17.312Z"
   },
   {
    "duration": 0,
    "start_time": "2022-08-31T13:44:17.313Z"
   },
   {
    "duration": 0,
    "start_time": "2022-08-31T13:44:17.314Z"
   },
   {
    "duration": 0,
    "start_time": "2022-08-31T13:44:17.315Z"
   },
   {
    "duration": 0,
    "start_time": "2022-08-31T13:44:17.316Z"
   },
   {
    "duration": 0,
    "start_time": "2022-08-31T13:44:17.317Z"
   },
   {
    "duration": 0,
    "start_time": "2022-08-31T13:44:17.318Z"
   },
   {
    "duration": 0,
    "start_time": "2022-08-31T13:44:17.319Z"
   },
   {
    "duration": 0,
    "start_time": "2022-08-31T13:44:17.320Z"
   },
   {
    "duration": 0,
    "start_time": "2022-08-31T13:44:17.321Z"
   },
   {
    "duration": 0,
    "start_time": "2022-08-31T13:44:17.322Z"
   },
   {
    "duration": 0,
    "start_time": "2022-08-31T13:44:17.323Z"
   },
   {
    "duration": 0,
    "start_time": "2022-08-31T13:44:17.324Z"
   },
   {
    "duration": 0,
    "start_time": "2022-08-31T13:44:17.325Z"
   },
   {
    "duration": 2890,
    "start_time": "2022-08-31T13:44:39.479Z"
   },
   {
    "duration": 10,
    "start_time": "2022-08-31T13:44:42.371Z"
   },
   {
    "duration": 222,
    "start_time": "2022-08-31T13:44:42.383Z"
   },
   {
    "duration": 57,
    "start_time": "2022-08-31T13:44:42.607Z"
   },
   {
    "duration": 4,
    "start_time": "2022-08-31T13:44:42.665Z"
   },
   {
    "duration": 132,
    "start_time": "2022-08-31T13:44:42.670Z"
   },
   {
    "duration": 80,
    "start_time": "2022-08-31T13:44:42.804Z"
   },
   {
    "duration": 0,
    "start_time": "2022-08-31T13:44:42.886Z"
   },
   {
    "duration": 0,
    "start_time": "2022-08-31T13:44:42.888Z"
   },
   {
    "duration": 0,
    "start_time": "2022-08-31T13:44:42.902Z"
   },
   {
    "duration": 0,
    "start_time": "2022-08-31T13:44:42.904Z"
   },
   {
    "duration": 0,
    "start_time": "2022-08-31T13:44:42.905Z"
   },
   {
    "duration": 0,
    "start_time": "2022-08-31T13:44:42.906Z"
   },
   {
    "duration": 0,
    "start_time": "2022-08-31T13:44:42.908Z"
   },
   {
    "duration": 0,
    "start_time": "2022-08-31T13:44:42.910Z"
   },
   {
    "duration": 0,
    "start_time": "2022-08-31T13:44:42.911Z"
   },
   {
    "duration": 0,
    "start_time": "2022-08-31T13:44:42.913Z"
   },
   {
    "duration": 0,
    "start_time": "2022-08-31T13:44:42.914Z"
   },
   {
    "duration": 0,
    "start_time": "2022-08-31T13:44:42.916Z"
   },
   {
    "duration": 0,
    "start_time": "2022-08-31T13:44:42.917Z"
   },
   {
    "duration": 0,
    "start_time": "2022-08-31T13:44:42.918Z"
   },
   {
    "duration": 0,
    "start_time": "2022-08-31T13:44:42.919Z"
   },
   {
    "duration": 0,
    "start_time": "2022-08-31T13:44:42.919Z"
   },
   {
    "duration": 0,
    "start_time": "2022-08-31T13:44:42.920Z"
   },
   {
    "duration": 0,
    "start_time": "2022-08-31T13:44:42.921Z"
   },
   {
    "duration": 0,
    "start_time": "2022-08-31T13:44:42.922Z"
   },
   {
    "duration": 0,
    "start_time": "2022-08-31T13:44:42.923Z"
   },
   {
    "duration": 1,
    "start_time": "2022-08-31T13:44:42.924Z"
   },
   {
    "duration": 0,
    "start_time": "2022-08-31T13:44:42.926Z"
   },
   {
    "duration": 0,
    "start_time": "2022-08-31T13:44:42.927Z"
   },
   {
    "duration": 0,
    "start_time": "2022-08-31T13:44:42.928Z"
   },
   {
    "duration": 0,
    "start_time": "2022-08-31T13:44:42.929Z"
   },
   {
    "duration": 0,
    "start_time": "2022-08-31T13:44:42.930Z"
   },
   {
    "duration": 0,
    "start_time": "2022-08-31T13:44:42.931Z"
   },
   {
    "duration": 0,
    "start_time": "2022-08-31T13:44:42.932Z"
   },
   {
    "duration": 0,
    "start_time": "2022-08-31T13:44:42.933Z"
   },
   {
    "duration": 32,
    "start_time": "2022-08-31T13:45:51.879Z"
   },
   {
    "duration": 3016,
    "start_time": "2022-08-31T13:46:10.109Z"
   },
   {
    "duration": 10,
    "start_time": "2022-08-31T13:46:13.128Z"
   },
   {
    "duration": 206,
    "start_time": "2022-08-31T13:46:13.141Z"
   },
   {
    "duration": 70,
    "start_time": "2022-08-31T13:46:13.349Z"
   },
   {
    "duration": 4,
    "start_time": "2022-08-31T13:46:13.422Z"
   },
   {
    "duration": 123,
    "start_time": "2022-08-31T13:46:13.428Z"
   },
   {
    "duration": 89,
    "start_time": "2022-08-31T13:46:13.553Z"
   },
   {
    "duration": 0,
    "start_time": "2022-08-31T13:46:13.644Z"
   },
   {
    "duration": 0,
    "start_time": "2022-08-31T13:46:13.645Z"
   },
   {
    "duration": 0,
    "start_time": "2022-08-31T13:46:13.646Z"
   },
   {
    "duration": 0,
    "start_time": "2022-08-31T13:46:13.648Z"
   },
   {
    "duration": 0,
    "start_time": "2022-08-31T13:46:13.649Z"
   },
   {
    "duration": 0,
    "start_time": "2022-08-31T13:46:13.650Z"
   },
   {
    "duration": 0,
    "start_time": "2022-08-31T13:46:13.652Z"
   },
   {
    "duration": 0,
    "start_time": "2022-08-31T13:46:13.653Z"
   },
   {
    "duration": 0,
    "start_time": "2022-08-31T13:46:13.654Z"
   },
   {
    "duration": 0,
    "start_time": "2022-08-31T13:46:13.655Z"
   },
   {
    "duration": 0,
    "start_time": "2022-08-31T13:46:13.656Z"
   },
   {
    "duration": 0,
    "start_time": "2022-08-31T13:46:13.658Z"
   },
   {
    "duration": 0,
    "start_time": "2022-08-31T13:46:13.659Z"
   },
   {
    "duration": 0,
    "start_time": "2022-08-31T13:46:13.660Z"
   },
   {
    "duration": 0,
    "start_time": "2022-08-31T13:46:13.662Z"
   },
   {
    "duration": 0,
    "start_time": "2022-08-31T13:46:13.663Z"
   },
   {
    "duration": 0,
    "start_time": "2022-08-31T13:46:13.665Z"
   },
   {
    "duration": 1,
    "start_time": "2022-08-31T13:46:13.703Z"
   },
   {
    "duration": 0,
    "start_time": "2022-08-31T13:46:13.705Z"
   },
   {
    "duration": 0,
    "start_time": "2022-08-31T13:46:13.706Z"
   },
   {
    "duration": 0,
    "start_time": "2022-08-31T13:46:13.708Z"
   },
   {
    "duration": 0,
    "start_time": "2022-08-31T13:46:13.709Z"
   },
   {
    "duration": 0,
    "start_time": "2022-08-31T13:46:13.711Z"
   },
   {
    "duration": 0,
    "start_time": "2022-08-31T13:46:13.712Z"
   },
   {
    "duration": 0,
    "start_time": "2022-08-31T13:46:13.713Z"
   },
   {
    "duration": 0,
    "start_time": "2022-08-31T13:46:13.715Z"
   },
   {
    "duration": 0,
    "start_time": "2022-08-31T13:46:13.716Z"
   },
   {
    "duration": 0,
    "start_time": "2022-08-31T13:46:13.717Z"
   },
   {
    "duration": 0,
    "start_time": "2022-08-31T13:46:13.719Z"
   },
   {
    "duration": 31,
    "start_time": "2022-08-31T13:47:04.799Z"
   },
   {
    "duration": 2900,
    "start_time": "2022-08-31T13:47:10.873Z"
   },
   {
    "duration": 10,
    "start_time": "2022-08-31T13:47:13.776Z"
   },
   {
    "duration": 237,
    "start_time": "2022-08-31T13:47:13.787Z"
   },
   {
    "duration": 56,
    "start_time": "2022-08-31T13:47:14.027Z"
   },
   {
    "duration": 18,
    "start_time": "2022-08-31T13:47:14.086Z"
   },
   {
    "duration": 133,
    "start_time": "2022-08-31T13:47:14.106Z"
   },
   {
    "duration": 104,
    "start_time": "2022-08-31T13:47:14.241Z"
   },
   {
    "duration": 0,
    "start_time": "2022-08-31T13:47:14.347Z"
   },
   {
    "duration": 0,
    "start_time": "2022-08-31T13:47:14.348Z"
   },
   {
    "duration": 0,
    "start_time": "2022-08-31T13:47:14.349Z"
   },
   {
    "duration": 0,
    "start_time": "2022-08-31T13:47:14.351Z"
   },
   {
    "duration": 0,
    "start_time": "2022-08-31T13:47:14.353Z"
   },
   {
    "duration": 0,
    "start_time": "2022-08-31T13:47:14.354Z"
   },
   {
    "duration": 0,
    "start_time": "2022-08-31T13:47:14.357Z"
   },
   {
    "duration": 0,
    "start_time": "2022-08-31T13:47:14.358Z"
   },
   {
    "duration": 0,
    "start_time": "2022-08-31T13:47:14.359Z"
   },
   {
    "duration": 0,
    "start_time": "2022-08-31T13:47:14.360Z"
   },
   {
    "duration": 0,
    "start_time": "2022-08-31T13:47:14.361Z"
   },
   {
    "duration": 0,
    "start_time": "2022-08-31T13:47:14.363Z"
   },
   {
    "duration": 0,
    "start_time": "2022-08-31T13:47:14.364Z"
   },
   {
    "duration": 0,
    "start_time": "2022-08-31T13:47:14.367Z"
   },
   {
    "duration": 0,
    "start_time": "2022-08-31T13:47:14.402Z"
   },
   {
    "duration": 0,
    "start_time": "2022-08-31T13:47:14.404Z"
   },
   {
    "duration": 0,
    "start_time": "2022-08-31T13:47:14.406Z"
   },
   {
    "duration": 0,
    "start_time": "2022-08-31T13:47:14.407Z"
   },
   {
    "duration": 0,
    "start_time": "2022-08-31T13:47:14.409Z"
   },
   {
    "duration": 0,
    "start_time": "2022-08-31T13:47:14.412Z"
   },
   {
    "duration": 0,
    "start_time": "2022-08-31T13:47:14.414Z"
   },
   {
    "duration": 0,
    "start_time": "2022-08-31T13:47:14.415Z"
   },
   {
    "duration": 0,
    "start_time": "2022-08-31T13:47:14.416Z"
   },
   {
    "duration": 0,
    "start_time": "2022-08-31T13:47:14.417Z"
   },
   {
    "duration": 0,
    "start_time": "2022-08-31T13:47:14.418Z"
   },
   {
    "duration": 0,
    "start_time": "2022-08-31T13:47:14.419Z"
   },
   {
    "duration": 0,
    "start_time": "2022-08-31T13:47:14.422Z"
   },
   {
    "duration": 0,
    "start_time": "2022-08-31T13:47:14.423Z"
   },
   {
    "duration": 0,
    "start_time": "2022-08-31T13:47:14.424Z"
   },
   {
    "duration": 33,
    "start_time": "2022-08-31T13:48:59.873Z"
   },
   {
    "duration": 2934,
    "start_time": "2022-08-31T13:49:06.251Z"
   },
   {
    "duration": 10,
    "start_time": "2022-08-31T13:49:09.187Z"
   },
   {
    "duration": 214,
    "start_time": "2022-08-31T13:49:09.199Z"
   },
   {
    "duration": 55,
    "start_time": "2022-08-31T13:49:09.416Z"
   },
   {
    "duration": 3,
    "start_time": "2022-08-31T13:49:09.473Z"
   },
   {
    "duration": 132,
    "start_time": "2022-08-31T13:49:09.478Z"
   },
   {
    "duration": 81,
    "start_time": "2022-08-31T13:49:09.612Z"
   },
   {
    "duration": 0,
    "start_time": "2022-08-31T13:49:09.703Z"
   },
   {
    "duration": 0,
    "start_time": "2022-08-31T13:49:09.704Z"
   },
   {
    "duration": 0,
    "start_time": "2022-08-31T13:49:09.705Z"
   },
   {
    "duration": 0,
    "start_time": "2022-08-31T13:49:09.706Z"
   },
   {
    "duration": 0,
    "start_time": "2022-08-31T13:49:09.707Z"
   },
   {
    "duration": 0,
    "start_time": "2022-08-31T13:49:09.709Z"
   },
   {
    "duration": 0,
    "start_time": "2022-08-31T13:49:09.710Z"
   },
   {
    "duration": 0,
    "start_time": "2022-08-31T13:49:09.711Z"
   },
   {
    "duration": 0,
    "start_time": "2022-08-31T13:49:09.712Z"
   },
   {
    "duration": 0,
    "start_time": "2022-08-31T13:49:09.713Z"
   },
   {
    "duration": 0,
    "start_time": "2022-08-31T13:49:09.714Z"
   },
   {
    "duration": 0,
    "start_time": "2022-08-31T13:49:09.715Z"
   },
   {
    "duration": 0,
    "start_time": "2022-08-31T13:49:09.716Z"
   },
   {
    "duration": 0,
    "start_time": "2022-08-31T13:49:09.717Z"
   },
   {
    "duration": 0,
    "start_time": "2022-08-31T13:49:09.718Z"
   },
   {
    "duration": 0,
    "start_time": "2022-08-31T13:49:09.719Z"
   },
   {
    "duration": 0,
    "start_time": "2022-08-31T13:49:09.720Z"
   },
   {
    "duration": 0,
    "start_time": "2022-08-31T13:49:09.721Z"
   },
   {
    "duration": 1,
    "start_time": "2022-08-31T13:49:09.722Z"
   },
   {
    "duration": 0,
    "start_time": "2022-08-31T13:49:09.724Z"
   },
   {
    "duration": 0,
    "start_time": "2022-08-31T13:49:09.725Z"
   },
   {
    "duration": 0,
    "start_time": "2022-08-31T13:49:09.726Z"
   },
   {
    "duration": 0,
    "start_time": "2022-08-31T13:49:09.727Z"
   },
   {
    "duration": 0,
    "start_time": "2022-08-31T13:49:09.728Z"
   },
   {
    "duration": 0,
    "start_time": "2022-08-31T13:49:09.729Z"
   },
   {
    "duration": 0,
    "start_time": "2022-08-31T13:49:09.731Z"
   },
   {
    "duration": 0,
    "start_time": "2022-08-31T13:49:09.732Z"
   },
   {
    "duration": 0,
    "start_time": "2022-08-31T13:49:09.733Z"
   },
   {
    "duration": 0,
    "start_time": "2022-08-31T13:49:09.734Z"
   },
   {
    "duration": 13,
    "start_time": "2022-08-31T13:49:36.788Z"
   },
   {
    "duration": 4,
    "start_time": "2022-08-31T13:49:44.063Z"
   },
   {
    "duration": 2857,
    "start_time": "2022-08-31T13:49:49.460Z"
   },
   {
    "duration": 12,
    "start_time": "2022-08-31T13:49:52.319Z"
   },
   {
    "duration": 239,
    "start_time": "2022-08-31T13:49:52.333Z"
   },
   {
    "duration": 65,
    "start_time": "2022-08-31T13:49:52.575Z"
   },
   {
    "duration": 4,
    "start_time": "2022-08-31T13:49:52.642Z"
   },
   {
    "duration": 122,
    "start_time": "2022-08-31T13:49:52.647Z"
   },
   {
    "duration": 4,
    "start_time": "2022-08-31T13:49:52.771Z"
   },
   {
    "duration": 321,
    "start_time": "2022-08-31T13:49:52.776Z"
   },
   {
    "duration": 4,
    "start_time": "2022-08-31T13:49:53.099Z"
   },
   {
    "duration": 14,
    "start_time": "2022-08-31T13:49:53.106Z"
   },
   {
    "duration": 14,
    "start_time": "2022-08-31T13:49:53.121Z"
   },
   {
    "duration": 302,
    "start_time": "2022-08-31T13:49:53.136Z"
   },
   {
    "duration": 422,
    "start_time": "2022-08-31T13:49:53.440Z"
   },
   {
    "duration": 232,
    "start_time": "2022-08-31T13:49:53.864Z"
   },
   {
    "duration": 307,
    "start_time": "2022-08-31T13:49:54.102Z"
   },
   {
    "duration": 194,
    "start_time": "2022-08-31T13:49:54.411Z"
   },
   {
    "duration": 241,
    "start_time": "2022-08-31T13:49:54.607Z"
   },
   {
    "duration": 230,
    "start_time": "2022-08-31T13:49:54.850Z"
   },
   {
    "duration": 127,
    "start_time": "2022-08-31T13:49:55.082Z"
   },
   {
    "duration": 233,
    "start_time": "2022-08-31T13:49:55.211Z"
   },
   {
    "duration": 214,
    "start_time": "2022-08-31T13:49:55.445Z"
   },
   {
    "duration": 344,
    "start_time": "2022-08-31T13:49:55.661Z"
   },
   {
    "duration": 272,
    "start_time": "2022-08-31T13:49:56.007Z"
   },
   {
    "duration": 243,
    "start_time": "2022-08-31T13:49:56.280Z"
   },
   {
    "duration": 279,
    "start_time": "2022-08-31T13:49:56.525Z"
   },
   {
    "duration": 239,
    "start_time": "2022-08-31T13:49:56.806Z"
   },
   {
    "duration": 57,
    "start_time": "2022-08-31T13:49:57.046Z"
   },
   {
    "duration": 178,
    "start_time": "2022-08-31T13:49:57.107Z"
   },
   {
    "duration": 196,
    "start_time": "2022-08-31T13:49:57.287Z"
   },
   {
    "duration": 196,
    "start_time": "2022-08-31T13:49:57.485Z"
   },
   {
    "duration": 180,
    "start_time": "2022-08-31T13:49:57.683Z"
   },
   {
    "duration": 283,
    "start_time": "2022-08-31T13:49:57.865Z"
   },
   {
    "duration": 185,
    "start_time": "2022-08-31T13:49:58.150Z"
   },
   {
    "duration": 180,
    "start_time": "2022-08-31T13:49:58.338Z"
   },
   {
    "duration": 184,
    "start_time": "2022-08-31T13:49:58.520Z"
   },
   {
    "duration": 100,
    "start_time": "2022-08-31T13:49:58.705Z"
   },
   {
    "duration": 2914,
    "start_time": "2022-08-31T13:51:46.301Z"
   },
   {
    "duration": 11,
    "start_time": "2022-08-31T13:51:49.218Z"
   },
   {
    "duration": 215,
    "start_time": "2022-08-31T13:51:49.231Z"
   },
   {
    "duration": 69,
    "start_time": "2022-08-31T13:51:49.449Z"
   },
   {
    "duration": 3,
    "start_time": "2022-08-31T13:51:49.521Z"
   },
   {
    "duration": 126,
    "start_time": "2022-08-31T13:51:49.526Z"
   },
   {
    "duration": 4,
    "start_time": "2022-08-31T13:51:49.654Z"
   },
   {
    "duration": 306,
    "start_time": "2022-08-31T13:51:49.660Z"
   },
   {
    "duration": 4,
    "start_time": "2022-08-31T13:51:49.968Z"
   },
   {
    "duration": 12,
    "start_time": "2022-08-31T13:51:49.973Z"
   },
   {
    "duration": 9,
    "start_time": "2022-08-31T13:51:49.986Z"
   },
   {
    "duration": 399,
    "start_time": "2022-08-31T13:51:49.997Z"
   },
   {
    "duration": 351,
    "start_time": "2022-08-31T13:51:50.402Z"
   },
   {
    "duration": 247,
    "start_time": "2022-08-31T13:51:50.756Z"
   },
   {
    "duration": 346,
    "start_time": "2022-08-31T13:51:51.005Z"
   },
   {
    "duration": 209,
    "start_time": "2022-08-31T13:51:51.353Z"
   },
   {
    "duration": 273,
    "start_time": "2022-08-31T13:51:51.564Z"
   },
   {
    "duration": 225,
    "start_time": "2022-08-31T13:51:51.839Z"
   },
   {
    "duration": 146,
    "start_time": "2022-08-31T13:51:52.066Z"
   },
   {
    "duration": 240,
    "start_time": "2022-08-31T13:51:52.214Z"
   },
   {
    "duration": 333,
    "start_time": "2022-08-31T13:51:52.456Z"
   },
   {
    "duration": 220,
    "start_time": "2022-08-31T13:51:52.790Z"
   },
   {
    "duration": 249,
    "start_time": "2022-08-31T13:51:53.012Z"
   },
   {
    "duration": 227,
    "start_time": "2022-08-31T13:51:53.263Z"
   },
   {
    "duration": 257,
    "start_time": "2022-08-31T13:51:53.492Z"
   },
   {
    "duration": 273,
    "start_time": "2022-08-31T13:51:53.751Z"
   },
   {
    "duration": 46,
    "start_time": "2022-08-31T13:51:54.026Z"
   },
   {
    "duration": 178,
    "start_time": "2022-08-31T13:51:54.074Z"
   },
   {
    "duration": 193,
    "start_time": "2022-08-31T13:51:54.254Z"
   },
   {
    "duration": 185,
    "start_time": "2022-08-31T13:51:54.449Z"
   },
   {
    "duration": 279,
    "start_time": "2022-08-31T13:51:54.636Z"
   },
   {
    "duration": 176,
    "start_time": "2022-08-31T13:51:54.917Z"
   },
   {
    "duration": 177,
    "start_time": "2022-08-31T13:51:55.095Z"
   },
   {
    "duration": 170,
    "start_time": "2022-08-31T13:51:55.273Z"
   },
   {
    "duration": 172,
    "start_time": "2022-08-31T13:51:55.445Z"
   },
   {
    "duration": 102,
    "start_time": "2022-08-31T13:51:55.619Z"
   },
   {
    "duration": 2955,
    "start_time": "2022-08-31T13:52:50.670Z"
   },
   {
    "duration": 10,
    "start_time": "2022-08-31T13:52:53.628Z"
   },
   {
    "duration": 208,
    "start_time": "2022-08-31T13:52:53.643Z"
   },
   {
    "duration": 62,
    "start_time": "2022-08-31T13:52:53.853Z"
   },
   {
    "duration": 3,
    "start_time": "2022-08-31T13:52:53.917Z"
   },
   {
    "duration": 124,
    "start_time": "2022-08-31T13:52:53.921Z"
   },
   {
    "duration": 4,
    "start_time": "2022-08-31T13:52:54.047Z"
   },
   {
    "duration": 326,
    "start_time": "2022-08-31T13:52:54.053Z"
   },
   {
    "duration": 4,
    "start_time": "2022-08-31T13:52:54.382Z"
   },
   {
    "duration": 30,
    "start_time": "2022-08-31T13:52:54.388Z"
   },
   {
    "duration": 25,
    "start_time": "2022-08-31T13:52:54.420Z"
   },
   {
    "duration": 388,
    "start_time": "2022-08-31T13:52:54.447Z"
   },
   {
    "duration": 338,
    "start_time": "2022-08-31T13:52:54.837Z"
   },
   {
    "duration": 233,
    "start_time": "2022-08-31T13:52:55.177Z"
   },
   {
    "duration": 325,
    "start_time": "2022-08-31T13:52:55.412Z"
   },
   {
    "duration": 187,
    "start_time": "2022-08-31T13:52:55.738Z"
   },
   {
    "duration": 239,
    "start_time": "2022-08-31T13:52:55.927Z"
   },
   {
    "duration": 235,
    "start_time": "2022-08-31T13:52:56.168Z"
   },
   {
    "duration": 131,
    "start_time": "2022-08-31T13:52:56.405Z"
   },
   {
    "duration": 237,
    "start_time": "2022-08-31T13:52:56.538Z"
   },
   {
    "duration": 333,
    "start_time": "2022-08-31T13:52:56.777Z"
   },
   {
    "duration": 229,
    "start_time": "2022-08-31T13:52:57.112Z"
   },
   {
    "duration": 262,
    "start_time": "2022-08-31T13:52:57.344Z"
   },
   {
    "duration": 227,
    "start_time": "2022-08-31T13:52:57.608Z"
   },
   {
    "duration": 258,
    "start_time": "2022-08-31T13:52:57.838Z"
   },
   {
    "duration": 243,
    "start_time": "2022-08-31T13:52:58.098Z"
   },
   {
    "duration": 47,
    "start_time": "2022-08-31T13:52:58.344Z"
   },
   {
    "duration": 178,
    "start_time": "2022-08-31T13:52:58.402Z"
   },
   {
    "duration": 190,
    "start_time": "2022-08-31T13:52:58.582Z"
   },
   {
    "duration": 211,
    "start_time": "2022-08-31T13:52:58.774Z"
   },
   {
    "duration": 291,
    "start_time": "2022-08-31T13:52:58.987Z"
   },
   {
    "duration": 166,
    "start_time": "2022-08-31T13:52:59.280Z"
   },
   {
    "duration": 174,
    "start_time": "2022-08-31T13:52:59.447Z"
   },
   {
    "duration": 168,
    "start_time": "2022-08-31T13:52:59.623Z"
   },
   {
    "duration": 167,
    "start_time": "2022-08-31T13:52:59.793Z"
   },
   {
    "duration": 101,
    "start_time": "2022-08-31T13:52:59.961Z"
   },
   {
    "duration": 32,
    "start_time": "2022-08-31T14:26:06.797Z"
   },
   {
    "duration": 12,
    "start_time": "2022-08-31T14:58:16.285Z"
   },
   {
    "duration": 9,
    "start_time": "2022-08-31T15:00:07.703Z"
   },
   {
    "duration": 11,
    "start_time": "2022-08-31T15:00:18.869Z"
   },
   {
    "duration": 46,
    "start_time": "2022-08-31T15:02:09.968Z"
   },
   {
    "duration": 3134,
    "start_time": "2022-08-31T15:02:16.640Z"
   },
   {
    "duration": 12,
    "start_time": "2022-08-31T15:02:19.776Z"
   },
   {
    "duration": 240,
    "start_time": "2022-08-31T15:02:19.794Z"
   },
   {
    "duration": 70,
    "start_time": "2022-08-31T15:02:20.035Z"
   },
   {
    "duration": 4,
    "start_time": "2022-08-31T15:02:20.106Z"
   },
   {
    "duration": 123,
    "start_time": "2022-08-31T15:02:20.112Z"
   },
   {
    "duration": 6,
    "start_time": "2022-08-31T15:02:20.238Z"
   },
   {
    "duration": 342,
    "start_time": "2022-08-31T15:02:20.247Z"
   },
   {
    "duration": 11,
    "start_time": "2022-08-31T15:02:20.592Z"
   },
   {
    "duration": 5,
    "start_time": "2022-08-31T15:02:20.605Z"
   },
   {
    "duration": 12,
    "start_time": "2022-08-31T15:02:20.612Z"
   },
   {
    "duration": 410,
    "start_time": "2022-08-31T15:02:20.626Z"
   },
   {
    "duration": 368,
    "start_time": "2022-08-31T15:02:21.038Z"
   },
   {
    "duration": 252,
    "start_time": "2022-08-31T15:02:21.408Z"
   },
   {
    "duration": 334,
    "start_time": "2022-08-31T15:02:21.662Z"
   },
   {
    "duration": 203,
    "start_time": "2022-08-31T15:02:21.998Z"
   },
   {
    "duration": 277,
    "start_time": "2022-08-31T15:02:22.203Z"
   },
   {
    "duration": 224,
    "start_time": "2022-08-31T15:02:22.485Z"
   },
   {
    "duration": 149,
    "start_time": "2022-08-31T15:02:22.712Z"
   },
   {
    "duration": 239,
    "start_time": "2022-08-31T15:02:22.863Z"
   },
   {
    "duration": 338,
    "start_time": "2022-08-31T15:02:23.104Z"
   },
   {
    "duration": 229,
    "start_time": "2022-08-31T15:02:23.443Z"
   },
   {
    "duration": 262,
    "start_time": "2022-08-31T15:02:23.674Z"
   },
   {
    "duration": 227,
    "start_time": "2022-08-31T15:02:23.937Z"
   },
   {
    "duration": 261,
    "start_time": "2022-08-31T15:02:24.166Z"
   },
   {
    "duration": 251,
    "start_time": "2022-08-31T15:02:24.429Z"
   },
   {
    "duration": 55,
    "start_time": "2022-08-31T15:02:24.684Z"
   },
   {
    "duration": 193,
    "start_time": "2022-08-31T15:02:24.741Z"
   },
   {
    "duration": 211,
    "start_time": "2022-08-31T15:02:24.936Z"
   },
   {
    "duration": 204,
    "start_time": "2022-08-31T15:02:25.149Z"
   },
   {
    "duration": 312,
    "start_time": "2022-08-31T15:02:25.355Z"
   },
   {
    "duration": 170,
    "start_time": "2022-08-31T15:02:25.669Z"
   },
   {
    "duration": 201,
    "start_time": "2022-08-31T15:02:25.842Z"
   },
   {
    "duration": 212,
    "start_time": "2022-08-31T15:02:26.045Z"
   },
   {
    "duration": 173,
    "start_time": "2022-08-31T15:02:26.259Z"
   },
   {
    "duration": 28,
    "start_time": "2022-08-31T15:02:26.435Z"
   },
   {
    "duration": 128,
    "start_time": "2022-08-31T15:02:26.465Z"
   },
   {
    "duration": 35,
    "start_time": "2022-08-31T15:03:21.783Z"
   },
   {
    "duration": 2917,
    "start_time": "2022-08-31T15:03:30.872Z"
   },
   {
    "duration": 11,
    "start_time": "2022-08-31T15:03:33.791Z"
   },
   {
    "duration": 249,
    "start_time": "2022-08-31T15:03:33.804Z"
   },
   {
    "duration": 82,
    "start_time": "2022-08-31T15:03:34.056Z"
   },
   {
    "duration": 5,
    "start_time": "2022-08-31T15:03:34.140Z"
   },
   {
    "duration": 145,
    "start_time": "2022-08-31T15:03:34.147Z"
   },
   {
    "duration": 11,
    "start_time": "2022-08-31T15:03:34.294Z"
   },
   {
    "duration": 427,
    "start_time": "2022-08-31T15:03:34.308Z"
   },
   {
    "duration": 5,
    "start_time": "2022-08-31T15:03:34.738Z"
   },
   {
    "duration": 24,
    "start_time": "2022-08-31T15:03:34.747Z"
   },
   {
    "duration": 16,
    "start_time": "2022-08-31T15:03:34.774Z"
   },
   {
    "duration": 326,
    "start_time": "2022-08-31T15:03:34.792Z"
   },
   {
    "duration": 407,
    "start_time": "2022-08-31T15:03:35.120Z"
   },
   {
    "duration": 269,
    "start_time": "2022-08-31T15:03:35.529Z"
   },
   {
    "duration": 358,
    "start_time": "2022-08-31T15:03:35.802Z"
   },
   {
    "duration": 211,
    "start_time": "2022-08-31T15:03:36.163Z"
   },
   {
    "duration": 269,
    "start_time": "2022-08-31T15:03:36.376Z"
   },
   {
    "duration": 264,
    "start_time": "2022-08-31T15:03:36.648Z"
   },
   {
    "duration": 137,
    "start_time": "2022-08-31T15:03:36.915Z"
   },
   {
    "duration": 245,
    "start_time": "2022-08-31T15:03:37.054Z"
   },
   {
    "duration": 245,
    "start_time": "2022-08-31T15:03:37.303Z"
   },
   {
    "duration": 339,
    "start_time": "2022-08-31T15:03:37.551Z"
   },
   {
    "duration": 247,
    "start_time": "2022-08-31T15:03:37.891Z"
   },
   {
    "duration": 254,
    "start_time": "2022-08-31T15:03:38.141Z"
   },
   {
    "duration": 269,
    "start_time": "2022-08-31T15:03:38.398Z"
   },
   {
    "duration": 270,
    "start_time": "2022-08-31T15:03:38.669Z"
   },
   {
    "duration": 68,
    "start_time": "2022-08-31T15:03:38.942Z"
   },
   {
    "duration": 230,
    "start_time": "2022-08-31T15:03:39.016Z"
   },
   {
    "duration": 191,
    "start_time": "2022-08-31T15:03:39.248Z"
   },
   {
    "duration": 186,
    "start_time": "2022-08-31T15:03:39.441Z"
   },
   {
    "duration": 178,
    "start_time": "2022-08-31T15:03:39.629Z"
   },
   {
    "duration": 289,
    "start_time": "2022-08-31T15:03:39.809Z"
   },
   {
    "duration": 204,
    "start_time": "2022-08-31T15:03:40.100Z"
   },
   {
    "duration": 208,
    "start_time": "2022-08-31T15:03:40.306Z"
   },
   {
    "duration": 177,
    "start_time": "2022-08-31T15:03:40.517Z"
   },
   {
    "duration": 31,
    "start_time": "2022-08-31T15:03:40.695Z"
   },
   {
    "duration": 122,
    "start_time": "2022-08-31T15:03:40.728Z"
   },
   {
    "duration": 205,
    "start_time": "2022-08-31T15:06:18.562Z"
   },
   {
    "duration": 210,
    "start_time": "2022-08-31T15:06:45.655Z"
   },
   {
    "duration": 195,
    "start_time": "2022-08-31T15:08:19.809Z"
   },
   {
    "duration": 190,
    "start_time": "2022-08-31T15:09:21.778Z"
   },
   {
    "duration": 2908,
    "start_time": "2022-08-31T15:09:31.218Z"
   },
   {
    "duration": 14,
    "start_time": "2022-08-31T15:09:34.129Z"
   },
   {
    "duration": 260,
    "start_time": "2022-08-31T15:09:34.145Z"
   },
   {
    "duration": 99,
    "start_time": "2022-08-31T15:09:34.408Z"
   },
   {
    "duration": 4,
    "start_time": "2022-08-31T15:09:34.509Z"
   },
   {
    "duration": 141,
    "start_time": "2022-08-31T15:09:34.514Z"
   },
   {
    "duration": 4,
    "start_time": "2022-08-31T15:09:34.657Z"
   },
   {
    "duration": 327,
    "start_time": "2022-08-31T15:09:34.663Z"
   },
   {
    "duration": 12,
    "start_time": "2022-08-31T15:09:34.992Z"
   },
   {
    "duration": 5,
    "start_time": "2022-08-31T15:09:35.007Z"
   },
   {
    "duration": 14,
    "start_time": "2022-08-31T15:09:35.014Z"
   },
   {
    "duration": 325,
    "start_time": "2022-08-31T15:09:35.030Z"
   },
   {
    "duration": 438,
    "start_time": "2022-08-31T15:09:35.357Z"
   },
   {
    "duration": 276,
    "start_time": "2022-08-31T15:09:35.803Z"
   },
   {
    "duration": 343,
    "start_time": "2022-08-31T15:09:36.081Z"
   },
   {
    "duration": 221,
    "start_time": "2022-08-31T15:09:36.426Z"
   },
   {
    "duration": 257,
    "start_time": "2022-08-31T15:09:36.649Z"
   },
   {
    "duration": 257,
    "start_time": "2022-08-31T15:09:36.909Z"
   },
   {
    "duration": 158,
    "start_time": "2022-08-31T15:09:37.169Z"
   },
   {
    "duration": 257,
    "start_time": "2022-08-31T15:09:37.328Z"
   },
   {
    "duration": 238,
    "start_time": "2022-08-31T15:09:37.586Z"
   },
   {
    "duration": 341,
    "start_time": "2022-08-31T15:09:37.826Z"
   },
   {
    "duration": 251,
    "start_time": "2022-08-31T15:09:38.169Z"
   },
   {
    "duration": 244,
    "start_time": "2022-08-31T15:09:38.422Z"
   },
   {
    "duration": 295,
    "start_time": "2022-08-31T15:09:38.667Z"
   },
   {
    "duration": 313,
    "start_time": "2022-08-31T15:09:38.965Z"
   },
   {
    "duration": 58,
    "start_time": "2022-08-31T15:09:39.280Z"
   },
   {
    "duration": 177,
    "start_time": "2022-08-31T15:09:39.342Z"
   },
   {
    "duration": 195,
    "start_time": "2022-08-31T15:09:39.521Z"
   },
   {
    "duration": 194,
    "start_time": "2022-08-31T15:09:39.718Z"
   },
   {
    "duration": 167,
    "start_time": "2022-08-31T15:09:39.914Z"
   },
   {
    "duration": 316,
    "start_time": "2022-08-31T15:09:40.083Z"
   },
   {
    "duration": 225,
    "start_time": "2022-08-31T15:09:40.404Z"
   },
   {
    "duration": 198,
    "start_time": "2022-08-31T15:09:40.631Z"
   },
   {
    "duration": 181,
    "start_time": "2022-08-31T15:09:40.831Z"
   },
   {
    "duration": 26,
    "start_time": "2022-08-31T15:09:41.014Z"
   },
   {
    "duration": 5,
    "start_time": "2022-08-31T15:09:41.042Z"
   },
   {
    "duration": 339,
    "start_time": "2022-08-31T15:09:41.050Z"
   },
   {
    "duration": 208,
    "start_time": "2022-08-31T15:11:26.437Z"
   },
   {
    "duration": 226,
    "start_time": "2022-08-31T15:13:00.743Z"
   },
   {
    "duration": 5,
    "start_time": "2022-08-31T15:15:03.657Z"
   },
   {
    "duration": 5,
    "start_time": "2022-08-31T15:16:01.842Z"
   },
   {
    "duration": 3392,
    "start_time": "2022-08-31T15:16:09.753Z"
   },
   {
    "duration": 10,
    "start_time": "2022-08-31T15:16:13.147Z"
   },
   {
    "duration": 232,
    "start_time": "2022-08-31T15:16:13.159Z"
   },
   {
    "duration": 63,
    "start_time": "2022-08-31T15:16:13.394Z"
   },
   {
    "duration": 3,
    "start_time": "2022-08-31T15:16:13.460Z"
   },
   {
    "duration": 131,
    "start_time": "2022-08-31T15:16:13.465Z"
   },
   {
    "duration": 4,
    "start_time": "2022-08-31T15:16:13.602Z"
   },
   {
    "duration": 336,
    "start_time": "2022-08-31T15:16:13.608Z"
   },
   {
    "duration": 5,
    "start_time": "2022-08-31T15:16:13.945Z"
   },
   {
    "duration": 17,
    "start_time": "2022-08-31T15:16:13.953Z"
   },
   {
    "duration": 334,
    "start_time": "2022-08-31T15:16:13.975Z"
   },
   {
    "duration": 442,
    "start_time": "2022-08-31T15:16:14.312Z"
   },
   {
    "duration": 260,
    "start_time": "2022-08-31T15:16:14.756Z"
   },
   {
    "duration": 395,
    "start_time": "2022-08-31T15:16:15.018Z"
   },
   {
    "duration": 197,
    "start_time": "2022-08-31T15:16:15.414Z"
   },
   {
    "duration": 292,
    "start_time": "2022-08-31T15:16:15.614Z"
   },
   {
    "duration": 395,
    "start_time": "2022-08-31T15:16:15.908Z"
   },
   {
    "duration": 157,
    "start_time": "2022-08-31T15:16:16.306Z"
   },
   {
    "duration": 260,
    "start_time": "2022-08-31T15:16:16.465Z"
   },
   {
    "duration": 1306,
    "start_time": "2022-08-31T15:16:16.728Z"
   },
   {
    "duration": 0,
    "start_time": "2022-08-31T15:16:18.036Z"
   },
   {
    "duration": 0,
    "start_time": "2022-08-31T15:16:18.039Z"
   },
   {
    "duration": 0,
    "start_time": "2022-08-31T15:16:18.040Z"
   },
   {
    "duration": 0,
    "start_time": "2022-08-31T15:16:18.042Z"
   },
   {
    "duration": 0,
    "start_time": "2022-08-31T15:16:18.044Z"
   },
   {
    "duration": 0,
    "start_time": "2022-08-31T15:16:18.045Z"
   },
   {
    "duration": 0,
    "start_time": "2022-08-31T15:16:18.047Z"
   },
   {
    "duration": 0,
    "start_time": "2022-08-31T15:16:18.048Z"
   },
   {
    "duration": 0,
    "start_time": "2022-08-31T15:16:18.049Z"
   },
   {
    "duration": 0,
    "start_time": "2022-08-31T15:16:18.052Z"
   },
   {
    "duration": 0,
    "start_time": "2022-08-31T15:16:18.053Z"
   },
   {
    "duration": 0,
    "start_time": "2022-08-31T15:16:18.055Z"
   },
   {
    "duration": 0,
    "start_time": "2022-08-31T15:16:18.064Z"
   },
   {
    "duration": 0,
    "start_time": "2022-08-31T15:16:18.065Z"
   },
   {
    "duration": 0,
    "start_time": "2022-08-31T15:16:18.066Z"
   },
   {
    "duration": 0,
    "start_time": "2022-08-31T15:16:18.066Z"
   },
   {
    "duration": 0,
    "start_time": "2022-08-31T15:16:18.068Z"
   },
   {
    "duration": 766,
    "start_time": "2022-08-31T15:16:38.047Z"
   },
   {
    "duration": 220,
    "start_time": "2022-08-31T15:18:36.126Z"
   },
   {
    "duration": 325,
    "start_time": "2022-08-31T15:18:47.814Z"
   },
   {
    "duration": 226,
    "start_time": "2022-08-31T15:21:00.419Z"
   },
   {
    "duration": 2941,
    "start_time": "2022-08-31T15:21:11.872Z"
   },
   {
    "duration": 9,
    "start_time": "2022-08-31T15:21:14.816Z"
   },
   {
    "duration": 228,
    "start_time": "2022-08-31T15:21:14.827Z"
   },
   {
    "duration": 98,
    "start_time": "2022-08-31T15:21:15.056Z"
   },
   {
    "duration": 4,
    "start_time": "2022-08-31T15:21:15.156Z"
   },
   {
    "duration": 132,
    "start_time": "2022-08-31T15:21:15.162Z"
   },
   {
    "duration": 10,
    "start_time": "2022-08-31T15:21:15.295Z"
   },
   {
    "duration": 340,
    "start_time": "2022-08-31T15:21:15.307Z"
   },
   {
    "duration": 6,
    "start_time": "2022-08-31T15:21:15.649Z"
   },
   {
    "duration": 13,
    "start_time": "2022-08-31T15:21:15.657Z"
   },
   {
    "duration": 387,
    "start_time": "2022-08-31T15:21:15.671Z"
   },
   {
    "duration": 337,
    "start_time": "2022-08-31T15:21:16.060Z"
   },
   {
    "duration": 244,
    "start_time": "2022-08-31T15:21:16.402Z"
   },
   {
    "duration": 369,
    "start_time": "2022-08-31T15:21:16.650Z"
   },
   {
    "duration": 204,
    "start_time": "2022-08-31T15:21:17.021Z"
   },
   {
    "duration": 256,
    "start_time": "2022-08-31T15:21:17.227Z"
   },
   {
    "duration": 302,
    "start_time": "2022-08-31T15:21:17.485Z"
   },
   {
    "duration": 135,
    "start_time": "2022-08-31T15:21:17.789Z"
   },
   {
    "duration": 238,
    "start_time": "2022-08-31T15:21:17.925Z"
   },
   {
    "duration": 355,
    "start_time": "2022-08-31T15:21:18.165Z"
   },
   {
    "duration": 243,
    "start_time": "2022-08-31T15:21:18.522Z"
   },
   {
    "duration": 319,
    "start_time": "2022-08-31T15:21:18.768Z"
   },
   {
    "duration": 293,
    "start_time": "2022-08-31T15:21:19.090Z"
   },
   {
    "duration": 270,
    "start_time": "2022-08-31T15:21:19.385Z"
   },
   {
    "duration": 260,
    "start_time": "2022-08-31T15:21:19.656Z"
   },
   {
    "duration": 47,
    "start_time": "2022-08-31T15:21:19.918Z"
   },
   {
    "duration": 195,
    "start_time": "2022-08-31T15:21:19.966Z"
   },
   {
    "duration": 197,
    "start_time": "2022-08-31T15:21:20.162Z"
   },
   {
    "duration": 197,
    "start_time": "2022-08-31T15:21:20.361Z"
   },
   {
    "duration": 280,
    "start_time": "2022-08-31T15:21:20.560Z"
   },
   {
    "duration": 172,
    "start_time": "2022-08-31T15:21:20.842Z"
   },
   {
    "duration": 192,
    "start_time": "2022-08-31T15:21:21.017Z"
   },
   {
    "duration": 192,
    "start_time": "2022-08-31T15:21:21.211Z"
   },
   {
    "duration": 168,
    "start_time": "2022-08-31T15:21:21.405Z"
   },
   {
    "duration": 35,
    "start_time": "2022-08-31T15:21:21.575Z"
   },
   {
    "duration": 3,
    "start_time": "2022-08-31T15:21:21.612Z"
   },
   {
    "duration": 121,
    "start_time": "2022-08-31T15:21:21.616Z"
   },
   {
    "duration": 4,
    "start_time": "2022-08-31T15:24:22.169Z"
   },
   {
    "duration": 96,
    "start_time": "2022-08-31T15:25:35.931Z"
   },
   {
    "duration": 95,
    "start_time": "2022-08-31T15:30:08.543Z"
   },
   {
    "duration": 80,
    "start_time": "2022-08-31T15:33:15.310Z"
   },
   {
    "duration": 8,
    "start_time": "2022-08-31T15:33:25.233Z"
   },
   {
    "duration": 3098,
    "start_time": "2022-08-31T15:33:31.363Z"
   },
   {
    "duration": 11,
    "start_time": "2022-08-31T15:33:34.463Z"
   },
   {
    "duration": 229,
    "start_time": "2022-08-31T15:33:34.476Z"
   },
   {
    "duration": 58,
    "start_time": "2022-08-31T15:33:34.708Z"
   },
   {
    "duration": 3,
    "start_time": "2022-08-31T15:33:34.768Z"
   },
   {
    "duration": 139,
    "start_time": "2022-08-31T15:33:34.773Z"
   },
   {
    "duration": 4,
    "start_time": "2022-08-31T15:33:34.914Z"
   },
   {
    "duration": 319,
    "start_time": "2022-08-31T15:33:34.920Z"
   },
   {
    "duration": 4,
    "start_time": "2022-08-31T15:33:35.241Z"
   },
   {
    "duration": 12,
    "start_time": "2022-08-31T15:33:35.248Z"
   },
   {
    "duration": 315,
    "start_time": "2022-08-31T15:33:35.262Z"
   },
   {
    "duration": 415,
    "start_time": "2022-08-31T15:33:35.579Z"
   },
   {
    "duration": 248,
    "start_time": "2022-08-31T15:33:35.996Z"
   },
   {
    "duration": 320,
    "start_time": "2022-08-31T15:33:36.246Z"
   },
   {
    "duration": 189,
    "start_time": "2022-08-31T15:33:36.568Z"
   },
   {
    "duration": 252,
    "start_time": "2022-08-31T15:33:36.759Z"
   },
   {
    "duration": 231,
    "start_time": "2022-08-31T15:33:37.012Z"
   },
   {
    "duration": 139,
    "start_time": "2022-08-31T15:33:37.245Z"
   },
   {
    "duration": 240,
    "start_time": "2022-08-31T15:33:37.385Z"
   },
   {
    "duration": 224,
    "start_time": "2022-08-31T15:33:37.627Z"
   },
   {
    "duration": 347,
    "start_time": "2022-08-31T15:33:37.853Z"
   },
   {
    "duration": 242,
    "start_time": "2022-08-31T15:33:38.203Z"
   },
   {
    "duration": 226,
    "start_time": "2022-08-31T15:33:38.447Z"
   },
   {
    "duration": 287,
    "start_time": "2022-08-31T15:33:38.674Z"
   },
   {
    "duration": 289,
    "start_time": "2022-08-31T15:33:38.963Z"
   },
   {
    "duration": 53,
    "start_time": "2022-08-31T15:33:39.254Z"
   },
   {
    "duration": 175,
    "start_time": "2022-08-31T15:33:39.308Z"
   },
   {
    "duration": 192,
    "start_time": "2022-08-31T15:33:39.486Z"
   },
   {
    "duration": 181,
    "start_time": "2022-08-31T15:33:39.680Z"
   },
   {
    "duration": 162,
    "start_time": "2022-08-31T15:33:39.863Z"
   },
   {
    "duration": 292,
    "start_time": "2022-08-31T15:33:40.027Z"
   },
   {
    "duration": 201,
    "start_time": "2022-08-31T15:33:40.321Z"
   },
   {
    "duration": 178,
    "start_time": "2022-08-31T15:33:40.525Z"
   },
   {
    "duration": 168,
    "start_time": "2022-08-31T15:33:40.704Z"
   },
   {
    "duration": 35,
    "start_time": "2022-08-31T15:33:40.874Z"
   },
   {
    "duration": 69,
    "start_time": "2022-08-31T15:33:40.911Z"
   },
   {
    "duration": 0,
    "start_time": "2022-08-31T15:33:40.982Z"
   },
   {
    "duration": 3,
    "start_time": "2022-08-31T15:34:37.150Z"
   },
   {
    "duration": 95,
    "start_time": "2022-08-31T15:35:32.890Z"
   },
   {
    "duration": 12,
    "start_time": "2022-08-31T15:40:48.252Z"
   },
   {
    "duration": 4,
    "start_time": "2022-08-31T15:42:40.473Z"
   },
   {
    "duration": 3,
    "start_time": "2022-08-31T15:43:36.678Z"
   },
   {
    "duration": 2925,
    "start_time": "2022-08-31T15:44:21.229Z"
   },
   {
    "duration": 10,
    "start_time": "2022-08-31T15:44:24.156Z"
   },
   {
    "duration": 217,
    "start_time": "2022-08-31T15:44:24.171Z"
   },
   {
    "duration": 73,
    "start_time": "2022-08-31T15:44:24.390Z"
   },
   {
    "duration": 4,
    "start_time": "2022-08-31T15:44:24.465Z"
   },
   {
    "duration": 123,
    "start_time": "2022-08-31T15:44:24.470Z"
   },
   {
    "duration": 12,
    "start_time": "2022-08-31T15:44:24.594Z"
   },
   {
    "duration": 314,
    "start_time": "2022-08-31T15:44:24.608Z"
   },
   {
    "duration": 4,
    "start_time": "2022-08-31T15:44:24.925Z"
   },
   {
    "duration": 7,
    "start_time": "2022-08-31T15:44:24.931Z"
   },
   {
    "duration": 381,
    "start_time": "2022-08-31T15:44:24.940Z"
   },
   {
    "duration": 331,
    "start_time": "2022-08-31T15:44:25.323Z"
   },
   {
    "duration": 234,
    "start_time": "2022-08-31T15:44:25.656Z"
   },
   {
    "duration": 318,
    "start_time": "2022-08-31T15:44:25.892Z"
   },
   {
    "duration": 188,
    "start_time": "2022-08-31T15:44:26.212Z"
   },
   {
    "duration": 253,
    "start_time": "2022-08-31T15:44:26.402Z"
   },
   {
    "duration": 236,
    "start_time": "2022-08-31T15:44:26.657Z"
   },
   {
    "duration": 136,
    "start_time": "2022-08-31T15:44:26.895Z"
   },
   {
    "duration": 235,
    "start_time": "2022-08-31T15:44:27.032Z"
   },
   {
    "duration": 343,
    "start_time": "2022-08-31T15:44:27.270Z"
   },
   {
    "duration": 236,
    "start_time": "2022-08-31T15:44:27.615Z"
   },
   {
    "duration": 243,
    "start_time": "2022-08-31T15:44:27.853Z"
   },
   {
    "duration": 227,
    "start_time": "2022-08-31T15:44:28.103Z"
   },
   {
    "duration": 265,
    "start_time": "2022-08-31T15:44:28.332Z"
   },
   {
    "duration": 239,
    "start_time": "2022-08-31T15:44:28.602Z"
   },
   {
    "duration": 68,
    "start_time": "2022-08-31T15:44:28.842Z"
   },
   {
    "duration": 213,
    "start_time": "2022-08-31T15:44:28.915Z"
   },
   {
    "duration": 205,
    "start_time": "2022-08-31T15:44:29.130Z"
   },
   {
    "duration": 189,
    "start_time": "2022-08-31T15:44:29.336Z"
   },
   {
    "duration": 276,
    "start_time": "2022-08-31T15:44:29.527Z"
   },
   {
    "duration": 170,
    "start_time": "2022-08-31T15:44:29.805Z"
   },
   {
    "duration": 188,
    "start_time": "2022-08-31T15:44:29.977Z"
   },
   {
    "duration": 185,
    "start_time": "2022-08-31T15:44:30.167Z"
   },
   {
    "duration": 183,
    "start_time": "2022-08-31T15:44:30.354Z"
   },
   {
    "duration": 27,
    "start_time": "2022-08-31T15:44:30.540Z"
   },
   {
    "duration": 19,
    "start_time": "2022-08-31T15:44:30.569Z"
   },
   {
    "duration": 39,
    "start_time": "2022-08-31T15:44:30.590Z"
   },
   {
    "duration": 146,
    "start_time": "2022-08-31T15:44:30.631Z"
   },
   {
    "duration": 20,
    "start_time": "2022-08-31T15:45:32.752Z"
   },
   {
    "duration": 3110,
    "start_time": "2022-08-31T15:46:05.671Z"
   },
   {
    "duration": 11,
    "start_time": "2022-08-31T15:46:08.784Z"
   },
   {
    "duration": 276,
    "start_time": "2022-08-31T15:46:08.796Z"
   },
   {
    "duration": 72,
    "start_time": "2022-08-31T15:46:09.075Z"
   },
   {
    "duration": 3,
    "start_time": "2022-08-31T15:46:09.150Z"
   },
   {
    "duration": 134,
    "start_time": "2022-08-31T15:46:09.155Z"
   },
   {
    "duration": 4,
    "start_time": "2022-08-31T15:46:09.291Z"
   },
   {
    "duration": 324,
    "start_time": "2022-08-31T15:46:09.303Z"
   },
   {
    "duration": 4,
    "start_time": "2022-08-31T15:46:09.629Z"
   },
   {
    "duration": 13,
    "start_time": "2022-08-31T15:46:09.637Z"
   },
   {
    "duration": 309,
    "start_time": "2022-08-31T15:46:09.652Z"
   },
   {
    "duration": 445,
    "start_time": "2022-08-31T15:46:09.963Z"
   },
   {
    "duration": 255,
    "start_time": "2022-08-31T15:46:10.410Z"
   },
   {
    "duration": 318,
    "start_time": "2022-08-31T15:46:10.667Z"
   },
   {
    "duration": 206,
    "start_time": "2022-08-31T15:46:10.986Z"
   },
   {
    "duration": 259,
    "start_time": "2022-08-31T15:46:11.194Z"
   },
   {
    "duration": 231,
    "start_time": "2022-08-31T15:46:11.454Z"
   },
   {
    "duration": 136,
    "start_time": "2022-08-31T15:46:11.687Z"
   },
   {
    "duration": 237,
    "start_time": "2022-08-31T15:46:11.825Z"
   },
   {
    "duration": 233,
    "start_time": "2022-08-31T15:46:12.064Z"
   },
   {
    "duration": 340,
    "start_time": "2022-08-31T15:46:12.299Z"
   },
   {
    "duration": 247,
    "start_time": "2022-08-31T15:46:12.640Z"
   },
   {
    "duration": 222,
    "start_time": "2022-08-31T15:46:12.889Z"
   },
   {
    "duration": 259,
    "start_time": "2022-08-31T15:46:13.114Z"
   },
   {
    "duration": 235,
    "start_time": "2022-08-31T15:46:13.375Z"
   },
   {
    "duration": 49,
    "start_time": "2022-08-31T15:46:13.612Z"
   },
   {
    "duration": 184,
    "start_time": "2022-08-31T15:46:13.663Z"
   },
   {
    "duration": 189,
    "start_time": "2022-08-31T15:46:13.850Z"
   },
   {
    "duration": 199,
    "start_time": "2022-08-31T15:46:14.041Z"
   },
   {
    "duration": 167,
    "start_time": "2022-08-31T15:46:14.242Z"
   },
   {
    "duration": 287,
    "start_time": "2022-08-31T15:46:14.411Z"
   },
   {
    "duration": 196,
    "start_time": "2022-08-31T15:46:14.702Z"
   },
   {
    "duration": 186,
    "start_time": "2022-08-31T15:46:14.903Z"
   },
   {
    "duration": 192,
    "start_time": "2022-08-31T15:46:15.091Z"
   },
   {
    "duration": 40,
    "start_time": "2022-08-31T15:46:15.285Z"
   },
   {
    "duration": 8,
    "start_time": "2022-08-31T15:46:15.326Z"
   },
   {
    "duration": 102,
    "start_time": "2022-08-31T15:46:15.336Z"
   },
   {
    "duration": 22,
    "start_time": "2022-08-31T15:47:20.768Z"
   },
   {
    "duration": 2955,
    "start_time": "2022-08-31T15:47:25.995Z"
   },
   {
    "duration": 18,
    "start_time": "2022-08-31T15:47:28.953Z"
   },
   {
    "duration": 321,
    "start_time": "2022-08-31T15:47:28.974Z"
   },
   {
    "duration": 63,
    "start_time": "2022-08-31T15:47:29.300Z"
   },
   {
    "duration": 5,
    "start_time": "2022-08-31T15:47:29.366Z"
   },
   {
    "duration": 141,
    "start_time": "2022-08-31T15:47:29.374Z"
   },
   {
    "duration": 5,
    "start_time": "2022-08-31T15:47:29.517Z"
   },
   {
    "duration": 351,
    "start_time": "2022-08-31T15:47:29.524Z"
   },
   {
    "duration": 6,
    "start_time": "2022-08-31T15:47:29.877Z"
   },
   {
    "duration": 18,
    "start_time": "2022-08-31T15:47:29.886Z"
   },
   {
    "duration": 328,
    "start_time": "2022-08-31T15:47:29.905Z"
   },
   {
    "duration": 424,
    "start_time": "2022-08-31T15:47:30.235Z"
   },
   {
    "duration": 256,
    "start_time": "2022-08-31T15:47:30.660Z"
   },
   {
    "duration": 338,
    "start_time": "2022-08-31T15:47:30.918Z"
   },
   {
    "duration": 210,
    "start_time": "2022-08-31T15:47:31.259Z"
   },
   {
    "duration": 267,
    "start_time": "2022-08-31T15:47:31.472Z"
   },
   {
    "duration": 244,
    "start_time": "2022-08-31T15:47:31.740Z"
   },
   {
    "duration": 133,
    "start_time": "2022-08-31T15:47:31.986Z"
   },
   {
    "duration": 235,
    "start_time": "2022-08-31T15:47:32.120Z"
   },
   {
    "duration": 224,
    "start_time": "2022-08-31T15:47:32.356Z"
   },
   {
    "duration": 342,
    "start_time": "2022-08-31T15:47:32.583Z"
   },
   {
    "duration": 234,
    "start_time": "2022-08-31T15:47:32.927Z"
   },
   {
    "duration": 220,
    "start_time": "2022-08-31T15:47:33.162Z"
   },
   {
    "duration": 247,
    "start_time": "2022-08-31T15:47:33.384Z"
   },
   {
    "duration": 255,
    "start_time": "2022-08-31T15:47:33.632Z"
   },
   {
    "duration": 56,
    "start_time": "2022-08-31T15:47:33.889Z"
   },
   {
    "duration": 187,
    "start_time": "2022-08-31T15:47:33.946Z"
   },
   {
    "duration": 190,
    "start_time": "2022-08-31T15:47:34.136Z"
   },
   {
    "duration": 201,
    "start_time": "2022-08-31T15:47:34.327Z"
   },
   {
    "duration": 164,
    "start_time": "2022-08-31T15:47:34.530Z"
   },
   {
    "duration": 281,
    "start_time": "2022-08-31T15:47:34.703Z"
   },
   {
    "duration": 186,
    "start_time": "2022-08-31T15:47:34.986Z"
   },
   {
    "duration": 184,
    "start_time": "2022-08-31T15:47:35.174Z"
   },
   {
    "duration": 195,
    "start_time": "2022-08-31T15:47:35.360Z"
   },
   {
    "duration": 44,
    "start_time": "2022-08-31T15:47:35.558Z"
   },
   {
    "duration": 8,
    "start_time": "2022-08-31T15:47:35.608Z"
   },
   {
    "duration": 99,
    "start_time": "2022-08-31T15:47:35.619Z"
   },
   {
    "duration": 21,
    "start_time": "2022-08-31T15:47:49.904Z"
   },
   {
    "duration": 2909,
    "start_time": "2022-08-31T15:47:54.512Z"
   },
   {
    "duration": 10,
    "start_time": "2022-08-31T15:47:57.424Z"
   },
   {
    "duration": 253,
    "start_time": "2022-08-31T15:47:57.437Z"
   },
   {
    "duration": 63,
    "start_time": "2022-08-31T15:47:57.692Z"
   },
   {
    "duration": 4,
    "start_time": "2022-08-31T15:47:57.757Z"
   },
   {
    "duration": 142,
    "start_time": "2022-08-31T15:47:57.762Z"
   },
   {
    "duration": 4,
    "start_time": "2022-08-31T15:47:57.905Z"
   },
   {
    "duration": 332,
    "start_time": "2022-08-31T15:47:57.911Z"
   },
   {
    "duration": 5,
    "start_time": "2022-08-31T15:47:58.245Z"
   },
   {
    "duration": 6,
    "start_time": "2022-08-31T15:47:58.252Z"
   },
   {
    "duration": 394,
    "start_time": "2022-08-31T15:47:58.260Z"
   },
   {
    "duration": 398,
    "start_time": "2022-08-31T15:47:58.656Z"
   },
   {
    "duration": 255,
    "start_time": "2022-08-31T15:47:59.056Z"
   },
   {
    "duration": 320,
    "start_time": "2022-08-31T15:47:59.314Z"
   },
   {
    "duration": 193,
    "start_time": "2022-08-31T15:47:59.636Z"
   },
   {
    "duration": 246,
    "start_time": "2022-08-31T15:47:59.831Z"
   },
   {
    "duration": 233,
    "start_time": "2022-08-31T15:48:00.080Z"
   },
   {
    "duration": 154,
    "start_time": "2022-08-31T15:48:00.315Z"
   },
   {
    "duration": 241,
    "start_time": "2022-08-31T15:48:00.472Z"
   },
   {
    "duration": 352,
    "start_time": "2022-08-31T15:48:00.714Z"
   },
   {
    "duration": 274,
    "start_time": "2022-08-31T15:48:01.068Z"
   },
   {
    "duration": 264,
    "start_time": "2022-08-31T15:48:01.344Z"
   },
   {
    "duration": 236,
    "start_time": "2022-08-31T15:48:01.609Z"
   },
   {
    "duration": 279,
    "start_time": "2022-08-31T15:48:01.847Z"
   },
   {
    "duration": 266,
    "start_time": "2022-08-31T15:48:02.128Z"
   },
   {
    "duration": 58,
    "start_time": "2022-08-31T15:48:02.396Z"
   },
   {
    "duration": 210,
    "start_time": "2022-08-31T15:48:02.456Z"
   },
   {
    "duration": 203,
    "start_time": "2022-08-31T15:48:02.668Z"
   },
   {
    "duration": 183,
    "start_time": "2022-08-31T15:48:02.873Z"
   },
   {
    "duration": 270,
    "start_time": "2022-08-31T15:48:03.057Z"
   },
   {
    "duration": 176,
    "start_time": "2022-08-31T15:48:03.329Z"
   },
   {
    "duration": 186,
    "start_time": "2022-08-31T15:48:03.507Z"
   },
   {
    "duration": 180,
    "start_time": "2022-08-31T15:48:03.694Z"
   },
   {
    "duration": 174,
    "start_time": "2022-08-31T15:48:03.876Z"
   },
   {
    "duration": 25,
    "start_time": "2022-08-31T15:48:04.052Z"
   },
   {
    "duration": 102,
    "start_time": "2022-08-31T15:48:04.079Z"
   },
   {
    "duration": 22,
    "start_time": "2022-08-31T15:48:53.516Z"
   },
   {
    "duration": 2837,
    "start_time": "2022-08-31T15:50:41.901Z"
   },
   {
    "duration": 9,
    "start_time": "2022-08-31T15:50:44.741Z"
   },
   {
    "duration": 219,
    "start_time": "2022-08-31T15:50:44.751Z"
   },
   {
    "duration": 65,
    "start_time": "2022-08-31T15:50:44.972Z"
   },
   {
    "duration": 4,
    "start_time": "2022-08-31T15:50:45.039Z"
   },
   {
    "duration": 130,
    "start_time": "2022-08-31T15:50:45.045Z"
   },
   {
    "duration": 4,
    "start_time": "2022-08-31T15:50:45.177Z"
   },
   {
    "duration": 320,
    "start_time": "2022-08-31T15:50:45.183Z"
   },
   {
    "duration": 5,
    "start_time": "2022-08-31T15:50:45.504Z"
   },
   {
    "duration": 5,
    "start_time": "2022-08-31T15:50:45.511Z"
   },
   {
    "duration": 312,
    "start_time": "2022-08-31T15:50:45.517Z"
   },
   {
    "duration": 427,
    "start_time": "2022-08-31T15:50:45.831Z"
   },
   {
    "duration": 247,
    "start_time": "2022-08-31T15:50:46.260Z"
   },
   {
    "duration": 345,
    "start_time": "2022-08-31T15:50:46.509Z"
   },
   {
    "duration": 195,
    "start_time": "2022-08-31T15:50:46.856Z"
   },
   {
    "duration": 250,
    "start_time": "2022-08-31T15:50:47.053Z"
   },
   {
    "duration": 236,
    "start_time": "2022-08-31T15:50:47.305Z"
   },
   {
    "duration": 132,
    "start_time": "2022-08-31T15:50:47.544Z"
   },
   {
    "duration": 228,
    "start_time": "2022-08-31T15:50:47.678Z"
   },
   {
    "duration": 224,
    "start_time": "2022-08-31T15:50:47.908Z"
   },
   {
    "duration": 336,
    "start_time": "2022-08-31T15:50:48.134Z"
   },
   {
    "duration": 237,
    "start_time": "2022-08-31T15:50:48.472Z"
   },
   {
    "duration": 243,
    "start_time": "2022-08-31T15:50:48.711Z"
   },
   {
    "duration": 291,
    "start_time": "2022-08-31T15:50:48.958Z"
   },
   {
    "duration": 238,
    "start_time": "2022-08-31T15:50:49.250Z"
   },
   {
    "duration": 48,
    "start_time": "2022-08-31T15:50:49.489Z"
   },
   {
    "duration": 176,
    "start_time": "2022-08-31T15:50:49.539Z"
   },
   {
    "duration": 199,
    "start_time": "2022-08-31T15:50:49.719Z"
   },
   {
    "duration": 186,
    "start_time": "2022-08-31T15:50:49.920Z"
   },
   {
    "duration": 161,
    "start_time": "2022-08-31T15:50:50.108Z"
   },
   {
    "duration": 276,
    "start_time": "2022-08-31T15:50:50.271Z"
   },
   {
    "duration": 184,
    "start_time": "2022-08-31T15:50:50.549Z"
   },
   {
    "duration": 175,
    "start_time": "2022-08-31T15:50:50.735Z"
   },
   {
    "duration": 192,
    "start_time": "2022-08-31T15:50:50.911Z"
   },
   {
    "duration": 28,
    "start_time": "2022-08-31T15:50:51.105Z"
   },
   {
    "duration": 106,
    "start_time": "2022-08-31T15:50:51.136Z"
   },
   {
    "duration": 233,
    "start_time": "2022-08-31T15:51:07.684Z"
   },
   {
    "duration": 866,
    "start_time": "2022-08-31T15:52:38.642Z"
   },
   {
    "duration": 8,
    "start_time": "2022-08-31T15:53:54.141Z"
   },
   {
    "duration": 2944,
    "start_time": "2022-08-31T15:54:01.302Z"
   },
   {
    "duration": 17,
    "start_time": "2022-08-31T15:54:04.250Z"
   },
   {
    "duration": 237,
    "start_time": "2022-08-31T15:54:04.270Z"
   },
   {
    "duration": 58,
    "start_time": "2022-08-31T15:54:04.510Z"
   },
   {
    "duration": 5,
    "start_time": "2022-08-31T15:54:04.569Z"
   },
   {
    "duration": 143,
    "start_time": "2022-08-31T15:54:04.575Z"
   },
   {
    "duration": 4,
    "start_time": "2022-08-31T15:54:04.720Z"
   },
   {
    "duration": 342,
    "start_time": "2022-08-31T15:54:04.726Z"
   },
   {
    "duration": 6,
    "start_time": "2022-08-31T15:54:05.070Z"
   },
   {
    "duration": 9,
    "start_time": "2022-08-31T15:54:05.079Z"
   },
   {
    "duration": 316,
    "start_time": "2022-08-31T15:54:05.090Z"
   },
   {
    "duration": 408,
    "start_time": "2022-08-31T15:54:05.408Z"
   },
   {
    "duration": 233,
    "start_time": "2022-08-31T15:54:05.818Z"
   },
   {
    "duration": 324,
    "start_time": "2022-08-31T15:54:06.053Z"
   },
   {
    "duration": 203,
    "start_time": "2022-08-31T15:54:06.379Z"
   },
   {
    "duration": 262,
    "start_time": "2022-08-31T15:54:06.584Z"
   },
   {
    "duration": 226,
    "start_time": "2022-08-31T15:54:06.848Z"
   },
   {
    "duration": 136,
    "start_time": "2022-08-31T15:54:07.076Z"
   },
   {
    "duration": 247,
    "start_time": "2022-08-31T15:54:07.214Z"
   },
   {
    "duration": 237,
    "start_time": "2022-08-31T15:54:07.463Z"
   },
   {
    "duration": 326,
    "start_time": "2022-08-31T15:54:07.701Z"
   },
   {
    "duration": 238,
    "start_time": "2022-08-31T15:54:08.029Z"
   },
   {
    "duration": 222,
    "start_time": "2022-08-31T15:54:08.269Z"
   },
   {
    "duration": 258,
    "start_time": "2022-08-31T15:54:08.493Z"
   },
   {
    "duration": 296,
    "start_time": "2022-08-31T15:54:08.753Z"
   },
   {
    "duration": 66,
    "start_time": "2022-08-31T15:54:09.051Z"
   },
   {
    "duration": 204,
    "start_time": "2022-08-31T15:54:09.119Z"
   },
   {
    "duration": 194,
    "start_time": "2022-08-31T15:54:09.328Z"
   },
   {
    "duration": 187,
    "start_time": "2022-08-31T15:54:09.524Z"
   },
   {
    "duration": 167,
    "start_time": "2022-08-31T15:54:09.713Z"
   },
   {
    "duration": 282,
    "start_time": "2022-08-31T15:54:09.882Z"
   },
   {
    "duration": 199,
    "start_time": "2022-08-31T15:54:10.166Z"
   },
   {
    "duration": 218,
    "start_time": "2022-08-31T15:54:10.367Z"
   },
   {
    "duration": 175,
    "start_time": "2022-08-31T15:54:10.588Z"
   },
   {
    "duration": 42,
    "start_time": "2022-08-31T15:54:10.765Z"
   },
   {
    "duration": 179,
    "start_time": "2022-08-31T15:54:10.809Z"
   },
   {
    "duration": 340,
    "start_time": "2022-08-31T16:26:15.901Z"
   },
   {
    "duration": 182,
    "start_time": "2022-08-31T16:26:32.983Z"
   },
   {
    "duration": 2894,
    "start_time": "2022-08-31T16:26:38.191Z"
   },
   {
    "duration": 10,
    "start_time": "2022-08-31T16:26:41.087Z"
   },
   {
    "duration": 231,
    "start_time": "2022-08-31T16:26:41.099Z"
   },
   {
    "duration": 74,
    "start_time": "2022-08-31T16:26:41.332Z"
   },
   {
    "duration": 4,
    "start_time": "2022-08-31T16:26:41.408Z"
   },
   {
    "duration": 124,
    "start_time": "2022-08-31T16:26:41.413Z"
   },
   {
    "duration": 4,
    "start_time": "2022-08-31T16:26:41.539Z"
   },
   {
    "duration": 319,
    "start_time": "2022-08-31T16:26:41.544Z"
   },
   {
    "duration": 6,
    "start_time": "2022-08-31T16:26:41.864Z"
   },
   {
    "duration": 10,
    "start_time": "2022-08-31T16:26:41.873Z"
   },
   {
    "duration": 304,
    "start_time": "2022-08-31T16:26:41.885Z"
   },
   {
    "duration": 435,
    "start_time": "2022-08-31T16:26:42.191Z"
   },
   {
    "duration": 242,
    "start_time": "2022-08-31T16:26:42.629Z"
   },
   {
    "duration": 313,
    "start_time": "2022-08-31T16:26:42.873Z"
   },
   {
    "duration": 197,
    "start_time": "2022-08-31T16:26:43.187Z"
   },
   {
    "duration": 240,
    "start_time": "2022-08-31T16:26:43.386Z"
   },
   {
    "duration": 244,
    "start_time": "2022-08-31T16:26:43.628Z"
   },
   {
    "duration": 131,
    "start_time": "2022-08-31T16:26:43.874Z"
   },
   {
    "duration": 236,
    "start_time": "2022-08-31T16:26:44.006Z"
   },
   {
    "duration": 247,
    "start_time": "2022-08-31T16:26:44.244Z"
   },
   {
    "duration": 323,
    "start_time": "2022-08-31T16:26:44.493Z"
   },
   {
    "duration": 239,
    "start_time": "2022-08-31T16:26:44.817Z"
   },
   {
    "duration": 218,
    "start_time": "2022-08-31T16:26:45.058Z"
   },
   {
    "duration": 280,
    "start_time": "2022-08-31T16:26:45.278Z"
   },
   {
    "duration": 238,
    "start_time": "2022-08-31T16:26:45.560Z"
   },
   {
    "duration": 45,
    "start_time": "2022-08-31T16:26:45.800Z"
   },
   {
    "duration": 190,
    "start_time": "2022-08-31T16:26:45.847Z"
   },
   {
    "duration": 193,
    "start_time": "2022-08-31T16:26:46.041Z"
   },
   {
    "duration": 192,
    "start_time": "2022-08-31T16:26:46.236Z"
   },
   {
    "duration": 165,
    "start_time": "2022-08-31T16:26:46.430Z"
   },
   {
    "duration": 316,
    "start_time": "2022-08-31T16:26:46.597Z"
   },
   {
    "duration": 184,
    "start_time": "2022-08-31T16:26:46.915Z"
   },
   {
    "duration": 171,
    "start_time": "2022-08-31T16:26:47.104Z"
   },
   {
    "duration": 179,
    "start_time": "2022-08-31T16:26:47.277Z"
   },
   {
    "duration": 27,
    "start_time": "2022-08-31T16:26:47.458Z"
   },
   {
    "duration": 232,
    "start_time": "2022-08-31T16:26:47.487Z"
   },
   {
    "duration": 3037,
    "start_time": "2022-08-31T16:31:26.788Z"
   },
   {
    "duration": 11,
    "start_time": "2022-08-31T16:31:29.828Z"
   },
   {
    "duration": 278,
    "start_time": "2022-08-31T16:31:29.841Z"
   },
   {
    "duration": 58,
    "start_time": "2022-08-31T16:31:30.121Z"
   },
   {
    "duration": 5,
    "start_time": "2022-08-31T16:31:30.181Z"
   },
   {
    "duration": 131,
    "start_time": "2022-08-31T16:31:30.203Z"
   },
   {
    "duration": 5,
    "start_time": "2022-08-31T16:31:30.336Z"
   },
   {
    "duration": 349,
    "start_time": "2022-08-31T16:31:30.344Z"
   },
   {
    "duration": 11,
    "start_time": "2022-08-31T16:31:30.695Z"
   },
   {
    "duration": 48,
    "start_time": "2022-08-31T16:31:30.708Z"
   },
   {
    "duration": 417,
    "start_time": "2022-08-31T16:31:30.758Z"
   },
   {
    "duration": 369,
    "start_time": "2022-08-31T16:31:31.177Z"
   },
   {
    "duration": 244,
    "start_time": "2022-08-31T16:31:31.547Z"
   },
   {
    "duration": 322,
    "start_time": "2022-08-31T16:31:31.794Z"
   },
   {
    "duration": 198,
    "start_time": "2022-08-31T16:31:32.118Z"
   },
   {
    "duration": 263,
    "start_time": "2022-08-31T16:31:32.318Z"
   },
   {
    "duration": 233,
    "start_time": "2022-08-31T16:31:32.583Z"
   },
   {
    "duration": 137,
    "start_time": "2022-08-31T16:31:32.818Z"
   },
   {
    "duration": 236,
    "start_time": "2022-08-31T16:31:32.957Z"
   },
   {
    "duration": 340,
    "start_time": "2022-08-31T16:31:33.195Z"
   },
   {
    "duration": 226,
    "start_time": "2022-08-31T16:31:33.537Z"
   },
   {
    "duration": 246,
    "start_time": "2022-08-31T16:31:33.765Z"
   },
   {
    "duration": 226,
    "start_time": "2022-08-31T16:31:34.013Z"
   },
   {
    "duration": 269,
    "start_time": "2022-08-31T16:31:34.241Z"
   },
   {
    "duration": 251,
    "start_time": "2022-08-31T16:31:34.512Z"
   },
   {
    "duration": 56,
    "start_time": "2022-08-31T16:31:34.765Z"
   },
   {
    "duration": 174,
    "start_time": "2022-08-31T16:31:34.822Z"
   },
   {
    "duration": 205,
    "start_time": "2022-08-31T16:31:35.003Z"
   },
   {
    "duration": 203,
    "start_time": "2022-08-31T16:31:35.210Z"
   },
   {
    "duration": 291,
    "start_time": "2022-08-31T16:31:35.414Z"
   },
   {
    "duration": 172,
    "start_time": "2022-08-31T16:31:35.706Z"
   },
   {
    "duration": 191,
    "start_time": "2022-08-31T16:31:35.880Z"
   },
   {
    "duration": 181,
    "start_time": "2022-08-31T16:31:36.073Z"
   },
   {
    "duration": 187,
    "start_time": "2022-08-31T16:31:36.256Z"
   },
   {
    "duration": 43,
    "start_time": "2022-08-31T16:31:36.445Z"
   },
   {
    "duration": 192,
    "start_time": "2022-08-31T16:31:36.505Z"
   },
   {
    "duration": 5543,
    "start_time": "2022-08-31T21:39:02.600Z"
   },
   {
    "duration": 10,
    "start_time": "2022-08-31T21:39:08.199Z"
   },
   {
    "duration": 6,
    "start_time": "2022-08-31T21:39:08.211Z"
   },
   {
    "duration": 492,
    "start_time": "2022-08-31T21:39:08.218Z"
   },
   {
    "duration": 488,
    "start_time": "2022-08-31T21:39:08.712Z"
   },
   {
    "duration": 112,
    "start_time": "2022-08-31T21:39:09.202Z"
   },
   {
    "duration": 4,
    "start_time": "2022-08-31T21:39:09.316Z"
   },
   {
    "duration": 279,
    "start_time": "2022-08-31T21:39:09.322Z"
   },
   {
    "duration": 5,
    "start_time": "2022-08-31T21:39:09.603Z"
   },
   {
    "duration": 696,
    "start_time": "2022-08-31T21:39:09.610Z"
   },
   {
    "duration": 7,
    "start_time": "2022-08-31T21:39:10.308Z"
   },
   {
    "duration": 22,
    "start_time": "2022-08-31T21:39:10.316Z"
   },
   {
    "duration": 796,
    "start_time": "2022-08-31T21:39:10.340Z"
   },
   {
    "duration": 690,
    "start_time": "2022-08-31T21:39:11.140Z"
   },
   {
    "duration": 478,
    "start_time": "2022-08-31T21:39:11.832Z"
   },
   {
    "duration": 601,
    "start_time": "2022-08-31T21:39:12.312Z"
   },
   {
    "duration": 325,
    "start_time": "2022-08-31T21:39:12.915Z"
   },
   {
    "duration": 484,
    "start_time": "2022-08-31T21:39:13.242Z"
   },
   {
    "duration": 409,
    "start_time": "2022-08-31T21:39:13.727Z"
   },
   {
    "duration": 211,
    "start_time": "2022-08-31T21:39:14.200Z"
   },
   {
    "duration": 487,
    "start_time": "2022-08-31T21:39:14.413Z"
   },
   {
    "duration": 725,
    "start_time": "2022-08-31T21:39:14.902Z"
   },
   {
    "duration": 412,
    "start_time": "2022-08-31T21:39:15.629Z"
   },
   {
    "duration": 418,
    "start_time": "2022-08-31T21:39:16.043Z"
   },
   {
    "duration": 203,
    "start_time": "2022-08-31T21:39:16.463Z"
   },
   {
    "duration": 217,
    "start_time": "2022-08-31T21:39:16.667Z"
   },
   {
    "duration": 214,
    "start_time": "2022-08-31T21:39:16.886Z"
   },
   {
    "duration": 39,
    "start_time": "2022-08-31T21:39:17.101Z"
   },
   {
    "duration": 158,
    "start_time": "2022-08-31T21:39:17.142Z"
   },
   {
    "duration": 163,
    "start_time": "2022-08-31T21:39:17.302Z"
   },
   {
    "duration": 171,
    "start_time": "2022-08-31T21:39:17.467Z"
   },
   {
    "duration": 264,
    "start_time": "2022-08-31T21:39:17.640Z"
   },
   {
    "duration": 145,
    "start_time": "2022-08-31T21:39:17.906Z"
   },
   {
    "duration": 160,
    "start_time": "2022-08-31T21:39:18.053Z"
   },
   {
    "duration": 156,
    "start_time": "2022-08-31T21:39:18.215Z"
   },
   {
    "duration": 150,
    "start_time": "2022-08-31T21:39:18.373Z"
   },
   {
    "duration": 22,
    "start_time": "2022-08-31T21:39:18.525Z"
   },
   {
    "duration": 158,
    "start_time": "2022-08-31T21:39:18.549Z"
   },
   {
    "duration": 50,
    "start_time": "2022-08-31T22:07:25.197Z"
   },
   {
    "duration": 7,
    "start_time": "2022-08-31T22:07:33.677Z"
   },
   {
    "duration": 2555,
    "start_time": "2022-08-31T22:08:48.639Z"
   },
   {
    "duration": 11,
    "start_time": "2022-08-31T22:08:51.197Z"
   },
   {
    "duration": 107,
    "start_time": "2022-08-31T22:08:51.210Z"
   },
   {
    "duration": 261,
    "start_time": "2022-08-31T22:08:51.318Z"
   },
   {
    "duration": 198,
    "start_time": "2022-08-31T22:08:51.582Z"
   },
   {
    "duration": 66,
    "start_time": "2022-08-31T22:08:51.782Z"
   },
   {
    "duration": 7,
    "start_time": "2022-08-31T22:08:51.850Z"
   },
   {
    "duration": 7,
    "start_time": "2022-08-31T22:08:51.859Z"
   },
   {
    "duration": 115,
    "start_time": "2022-08-31T22:08:51.867Z"
   },
   {
    "duration": 58,
    "start_time": "2022-08-31T22:08:51.984Z"
   },
   {
    "duration": 8,
    "start_time": "2022-08-31T22:08:52.043Z"
   },
   {
    "duration": 25,
    "start_time": "2022-08-31T22:08:52.052Z"
   },
   {
    "duration": 5,
    "start_time": "2022-08-31T22:08:52.080Z"
   },
   {
    "duration": 275,
    "start_time": "2022-08-31T22:08:52.088Z"
   },
   {
    "duration": 3,
    "start_time": "2022-08-31T22:08:52.365Z"
   },
   {
    "duration": 12,
    "start_time": "2022-08-31T22:08:52.369Z"
   },
   {
    "duration": 342,
    "start_time": "2022-08-31T22:08:52.382Z"
   },
   {
    "duration": 303,
    "start_time": "2022-08-31T22:08:52.725Z"
   },
   {
    "duration": 207,
    "start_time": "2022-08-31T22:08:53.030Z"
   },
   {
    "duration": 274,
    "start_time": "2022-08-31T22:08:53.239Z"
   },
   {
    "duration": 161,
    "start_time": "2022-08-31T22:08:53.514Z"
   },
   {
    "duration": 217,
    "start_time": "2022-08-31T22:08:53.677Z"
   },
   {
    "duration": 221,
    "start_time": "2022-08-31T22:08:53.896Z"
   },
   {
    "duration": 121,
    "start_time": "2022-08-31T22:08:54.119Z"
   },
   {
    "duration": 310,
    "start_time": "2022-08-31T22:08:54.241Z"
   },
   {
    "duration": 200,
    "start_time": "2022-08-31T22:08:54.553Z"
   },
   {
    "duration": 200,
    "start_time": "2022-08-31T22:08:54.754Z"
   },
   {
    "duration": 215,
    "start_time": "2022-08-31T22:08:54.956Z"
   },
   {
    "duration": 194,
    "start_time": "2022-08-31T22:08:55.173Z"
   },
   {
    "duration": 238,
    "start_time": "2022-08-31T22:08:55.370Z"
   },
   {
    "duration": 214,
    "start_time": "2022-08-31T22:08:55.610Z"
   },
   {
    "duration": 41,
    "start_time": "2022-08-31T22:08:55.826Z"
   },
   {
    "duration": 165,
    "start_time": "2022-08-31T22:08:55.869Z"
   },
   {
    "duration": 173,
    "start_time": "2022-08-31T22:08:56.036Z"
   },
   {
    "duration": 296,
    "start_time": "2022-08-31T22:08:56.211Z"
   },
   {
    "duration": 148,
    "start_time": "2022-08-31T22:08:56.509Z"
   },
   {
    "duration": 158,
    "start_time": "2022-08-31T22:08:56.659Z"
   },
   {
    "duration": 165,
    "start_time": "2022-08-31T22:08:56.819Z"
   },
   {
    "duration": 161,
    "start_time": "2022-08-31T22:08:56.986Z"
   },
   {
    "duration": 154,
    "start_time": "2022-08-31T22:08:57.149Z"
   },
   {
    "duration": 21,
    "start_time": "2022-08-31T22:08:57.307Z"
   },
   {
    "duration": 159,
    "start_time": "2022-08-31T22:08:57.330Z"
   },
   {
    "duration": 301,
    "start_time": "2022-08-31T22:32:14.512Z"
   },
   {
    "duration": 369,
    "start_time": "2022-08-31T22:32:19.679Z"
   },
   {
    "duration": 3,
    "start_time": "2022-08-31T22:39:47.321Z"
   },
   {
    "duration": 225,
    "start_time": "2022-08-31T22:42:18.198Z"
   },
   {
    "duration": 15,
    "start_time": "2022-08-31T22:42:43.600Z"
   },
   {
    "duration": 2436,
    "start_time": "2022-08-31T22:46:57.299Z"
   },
   {
    "duration": 8,
    "start_time": "2022-08-31T22:46:59.737Z"
   },
   {
    "duration": 5,
    "start_time": "2022-08-31T22:46:59.747Z"
   },
   {
    "duration": 232,
    "start_time": "2022-08-31T22:46:59.754Z"
   },
   {
    "duration": 207,
    "start_time": "2022-08-31T22:46:59.988Z"
   },
   {
    "duration": 52,
    "start_time": "2022-08-31T22:47:00.200Z"
   },
   {
    "duration": 8,
    "start_time": "2022-08-31T22:47:00.254Z"
   },
   {
    "duration": 36,
    "start_time": "2022-08-31T22:47:00.263Z"
   },
   {
    "duration": 8,
    "start_time": "2022-08-31T22:47:00.300Z"
   },
   {
    "duration": 124,
    "start_time": "2022-08-31T22:47:00.311Z"
   },
   {
    "duration": 52,
    "start_time": "2022-08-31T22:47:00.436Z"
   },
   {
    "duration": 22,
    "start_time": "2022-08-31T22:47:00.490Z"
   },
   {
    "duration": 19,
    "start_time": "2022-08-31T22:47:00.513Z"
   },
   {
    "duration": 315,
    "start_time": "2022-08-31T22:47:00.534Z"
   },
   {
    "duration": 4,
    "start_time": "2022-08-31T22:47:00.851Z"
   },
   {
    "duration": 24,
    "start_time": "2022-08-31T22:47:00.856Z"
   },
   {
    "duration": 361,
    "start_time": "2022-08-31T22:47:00.882Z"
   },
   {
    "duration": 339,
    "start_time": "2022-08-31T22:47:01.245Z"
   },
   {
    "duration": 215,
    "start_time": "2022-08-31T22:47:01.586Z"
   },
   {
    "duration": 272,
    "start_time": "2022-08-31T22:47:01.802Z"
   },
   {
    "duration": 175,
    "start_time": "2022-08-31T22:47:02.075Z"
   },
   {
    "duration": 216,
    "start_time": "2022-08-31T22:47:02.252Z"
   },
   {
    "duration": 195,
    "start_time": "2022-08-31T22:47:02.470Z"
   },
   {
    "duration": 111,
    "start_time": "2022-08-31T22:47:02.667Z"
   },
   {
    "duration": 345,
    "start_time": "2022-08-31T22:47:02.779Z"
   },
   {
    "duration": 201,
    "start_time": "2022-08-31T22:47:03.127Z"
   },
   {
    "duration": 192,
    "start_time": "2022-08-31T22:47:03.330Z"
   },
   {
    "duration": 212,
    "start_time": "2022-08-31T22:47:03.527Z"
   },
   {
    "duration": 211,
    "start_time": "2022-08-31T22:47:03.741Z"
   },
   {
    "duration": 226,
    "start_time": "2022-08-31T22:47:03.954Z"
   },
   {
    "duration": 207,
    "start_time": "2022-08-31T22:47:04.182Z"
   },
   {
    "duration": 46,
    "start_time": "2022-08-31T22:47:04.391Z"
   },
   {
    "duration": 151,
    "start_time": "2022-08-31T22:47:04.438Z"
   },
   {
    "duration": 168,
    "start_time": "2022-08-31T22:47:04.591Z"
   },
   {
    "duration": 281,
    "start_time": "2022-08-31T22:47:04.760Z"
   },
   {
    "duration": 141,
    "start_time": "2022-08-31T22:47:05.042Z"
   },
   {
    "duration": 151,
    "start_time": "2022-08-31T22:47:05.185Z"
   },
   {
    "duration": 166,
    "start_time": "2022-08-31T22:47:05.338Z"
   },
   {
    "duration": 153,
    "start_time": "2022-08-31T22:47:05.506Z"
   },
   {
    "duration": 156,
    "start_time": "2022-08-31T22:47:05.661Z"
   },
   {
    "duration": 21,
    "start_time": "2022-08-31T22:47:05.819Z"
   },
   {
    "duration": 161,
    "start_time": "2022-08-31T22:47:05.841Z"
   },
   {
    "duration": 45,
    "start_time": "2022-09-01T10:21:39.893Z"
   },
   {
    "duration": 6,
    "start_time": "2022-09-01T10:22:19.639Z"
   },
   {
    "duration": 7,
    "start_time": "2022-09-01T10:23:31.418Z"
   },
   {
    "duration": 8,
    "start_time": "2022-09-01T10:24:55.461Z"
   },
   {
    "duration": 2950,
    "start_time": "2022-09-01T10:25:16.939Z"
   },
   {
    "duration": 12,
    "start_time": "2022-09-01T10:25:19.891Z"
   },
   {
    "duration": 4,
    "start_time": "2022-09-01T10:25:19.905Z"
   },
   {
    "duration": 251,
    "start_time": "2022-09-01T10:25:19.911Z"
   },
   {
    "duration": 213,
    "start_time": "2022-09-01T10:25:20.168Z"
   },
   {
    "duration": 46,
    "start_time": "2022-09-01T10:25:20.382Z"
   },
   {
    "duration": 7,
    "start_time": "2022-09-01T10:25:20.430Z"
   },
   {
    "duration": 36,
    "start_time": "2022-09-01T10:25:20.438Z"
   },
   {
    "duration": 3,
    "start_time": "2022-09-01T10:25:20.476Z"
   },
   {
    "duration": 123,
    "start_time": "2022-09-01T10:25:20.482Z"
   },
   {
    "duration": 64,
    "start_time": "2022-09-01T10:25:20.606Z"
   },
   {
    "duration": 16,
    "start_time": "2022-09-01T10:25:20.672Z"
   },
   {
    "duration": 4,
    "start_time": "2022-09-01T10:25:20.689Z"
   },
   {
    "duration": 338,
    "start_time": "2022-09-01T10:25:20.695Z"
   },
   {
    "duration": 4,
    "start_time": "2022-09-01T10:25:21.035Z"
   },
   {
    "duration": 8,
    "start_time": "2022-09-01T10:25:21.041Z"
   },
   {
    "duration": 416,
    "start_time": "2022-09-01T10:25:21.051Z"
   },
   {
    "duration": 361,
    "start_time": "2022-09-01T10:25:21.469Z"
   },
   {
    "duration": 236,
    "start_time": "2022-09-01T10:25:21.832Z"
   },
   {
    "duration": 324,
    "start_time": "2022-09-01T10:25:22.069Z"
   },
   {
    "duration": 190,
    "start_time": "2022-09-01T10:25:22.395Z"
   },
   {
    "duration": 256,
    "start_time": "2022-09-01T10:25:22.588Z"
   },
   {
    "duration": 242,
    "start_time": "2022-09-01T10:25:22.846Z"
   },
   {
    "duration": 131,
    "start_time": "2022-09-01T10:25:23.090Z"
   },
   {
    "duration": 372,
    "start_time": "2022-09-01T10:25:23.223Z"
   },
   {
    "duration": 228,
    "start_time": "2022-09-01T10:25:23.597Z"
   },
   {
    "duration": 243,
    "start_time": "2022-09-01T10:25:23.827Z"
   },
   {
    "duration": 261,
    "start_time": "2022-09-01T10:25:24.074Z"
   },
   {
    "duration": 228,
    "start_time": "2022-09-01T10:25:24.337Z"
   },
   {
    "duration": 269,
    "start_time": "2022-09-01T10:25:24.566Z"
   },
   {
    "duration": 242,
    "start_time": "2022-09-01T10:25:24.837Z"
   },
   {
    "duration": 47,
    "start_time": "2022-09-01T10:25:25.080Z"
   },
   {
    "duration": 188,
    "start_time": "2022-09-01T10:25:25.129Z"
   },
   {
    "duration": 194,
    "start_time": "2022-09-01T10:25:25.318Z"
   },
   {
    "duration": 294,
    "start_time": "2022-09-01T10:25:25.514Z"
   },
   {
    "duration": 152,
    "start_time": "2022-09-01T10:25:25.809Z"
   },
   {
    "duration": 155,
    "start_time": "2022-09-01T10:25:25.968Z"
   },
   {
    "duration": 180,
    "start_time": "2022-09-01T10:25:26.125Z"
   },
   {
    "duration": 170,
    "start_time": "2022-09-01T10:25:26.307Z"
   },
   {
    "duration": 230,
    "start_time": "2022-09-01T10:25:26.480Z"
   },
   {
    "duration": 34,
    "start_time": "2022-09-01T10:25:26.712Z"
   },
   {
    "duration": 212,
    "start_time": "2022-09-01T10:25:26.748Z"
   },
   {
    "duration": 200,
    "start_time": "2022-09-01T14:46:05.433Z"
   },
   {
    "duration": 183,
    "start_time": "2022-09-01T14:46:19.571Z"
   },
   {
    "duration": 181,
    "start_time": "2022-09-01T14:46:49.011Z"
   },
   {
    "duration": 2461,
    "start_time": "2022-09-01T14:48:50.228Z"
   },
   {
    "duration": 2515,
    "start_time": "2022-09-01T14:49:10.295Z"
   },
   {
    "duration": 2500,
    "start_time": "2022-09-01T14:50:13.240Z"
   },
   {
    "duration": 225,
    "start_time": "2022-09-01T14:51:13.867Z"
   },
   {
    "duration": 224,
    "start_time": "2022-09-01T14:52:04.322Z"
   },
   {
    "duration": 2932,
    "start_time": "2022-09-01T14:58:51.590Z"
   },
   {
    "duration": 2457,
    "start_time": "2022-09-01T14:59:15.649Z"
   },
   {
    "duration": 2530,
    "start_time": "2022-09-01T14:59:31.111Z"
   },
   {
    "duration": 106,
    "start_time": "2022-09-01T15:00:42.387Z"
   },
   {
    "duration": 253,
    "start_time": "2022-09-01T15:01:12.191Z"
   },
   {
    "duration": 3167,
    "start_time": "2022-09-01T15:03:12.062Z"
   },
   {
    "duration": 10,
    "start_time": "2022-09-01T15:03:15.231Z"
   },
   {
    "duration": 5,
    "start_time": "2022-09-01T15:03:15.242Z"
   },
   {
    "duration": 269,
    "start_time": "2022-09-01T15:03:15.249Z"
   },
   {
    "duration": 236,
    "start_time": "2022-09-01T15:03:15.520Z"
   },
   {
    "duration": 56,
    "start_time": "2022-09-01T15:03:15.758Z"
   },
   {
    "duration": 7,
    "start_time": "2022-09-01T15:03:15.815Z"
   },
   {
    "duration": 18,
    "start_time": "2022-09-01T15:03:15.823Z"
   },
   {
    "duration": 4,
    "start_time": "2022-09-01T15:03:15.843Z"
   },
   {
    "duration": 139,
    "start_time": "2022-09-01T15:03:15.869Z"
   },
   {
    "duration": 70,
    "start_time": "2022-09-01T15:03:16.009Z"
   },
   {
    "duration": 18,
    "start_time": "2022-09-01T15:03:16.081Z"
   },
   {
    "duration": 4,
    "start_time": "2022-09-01T15:03:16.101Z"
   },
   {
    "duration": 345,
    "start_time": "2022-09-01T15:03:16.107Z"
   },
   {
    "duration": 3,
    "start_time": "2022-09-01T15:03:16.455Z"
   },
   {
    "duration": 19,
    "start_time": "2022-09-01T15:03:16.474Z"
   },
   {
    "duration": 511,
    "start_time": "2022-09-01T15:03:16.496Z"
   },
   {
    "duration": 373,
    "start_time": "2022-09-01T15:03:17.009Z"
   },
   {
    "duration": 274,
    "start_time": "2022-09-01T15:03:17.384Z"
   },
   {
    "duration": 339,
    "start_time": "2022-09-01T15:03:17.660Z"
   },
   {
    "duration": 251,
    "start_time": "2022-09-01T15:03:18.001Z"
   },
   {
    "duration": 281,
    "start_time": "2022-09-01T15:03:18.254Z"
   },
   {
    "duration": 252,
    "start_time": "2022-09-01T15:03:18.537Z"
   },
   {
    "duration": 160,
    "start_time": "2022-09-01T15:03:18.791Z"
   },
   {
    "duration": 367,
    "start_time": "2022-09-01T15:03:18.954Z"
   },
   {
    "duration": 262,
    "start_time": "2022-09-01T15:03:19.323Z"
   },
   {
    "duration": 234,
    "start_time": "2022-09-01T15:03:19.587Z"
   },
   {
    "duration": 287,
    "start_time": "2022-09-01T15:03:19.824Z"
   },
   {
    "duration": 254,
    "start_time": "2022-09-01T15:03:20.113Z"
   },
   {
    "duration": 255,
    "start_time": "2022-09-01T15:03:20.381Z"
   },
   {
    "duration": 264,
    "start_time": "2022-09-01T15:03:20.638Z"
   },
   {
    "duration": 42,
    "start_time": "2022-09-01T15:03:20.903Z"
   },
   {
    "duration": 190,
    "start_time": "2022-09-01T15:03:20.947Z"
   },
   {
    "duration": 209,
    "start_time": "2022-09-01T15:03:21.139Z"
   },
   {
    "duration": 336,
    "start_time": "2022-09-01T15:03:21.350Z"
   },
   {
    "duration": 162,
    "start_time": "2022-09-01T15:03:21.689Z"
   },
   {
    "duration": 197,
    "start_time": "2022-09-01T15:03:21.853Z"
   },
   {
    "duration": 190,
    "start_time": "2022-09-01T15:03:22.052Z"
   },
   {
    "duration": 182,
    "start_time": "2022-09-01T15:03:22.244Z"
   },
   {
    "duration": 190,
    "start_time": "2022-09-01T15:03:22.427Z"
   },
   {
    "duration": 27,
    "start_time": "2022-09-01T15:03:22.618Z"
   },
   {
    "duration": 203,
    "start_time": "2022-09-01T15:03:22.647Z"
   },
   {
    "duration": 278,
    "start_time": "2022-09-01T15:04:23.657Z"
   },
   {
    "duration": 263,
    "start_time": "2022-09-01T15:04:56.358Z"
   },
   {
    "duration": 3398,
    "start_time": "2022-09-01T15:05:06.411Z"
   },
   {
    "duration": 11,
    "start_time": "2022-09-01T15:05:09.811Z"
   },
   {
    "duration": 4,
    "start_time": "2022-09-01T15:05:09.824Z"
   },
   {
    "duration": 286,
    "start_time": "2022-09-01T15:05:09.830Z"
   },
   {
    "duration": 266,
    "start_time": "2022-09-01T15:05:10.118Z"
   },
   {
    "duration": 62,
    "start_time": "2022-09-01T15:05:10.386Z"
   },
   {
    "duration": 27,
    "start_time": "2022-09-01T15:05:10.450Z"
   },
   {
    "duration": 21,
    "start_time": "2022-09-01T15:05:10.479Z"
   },
   {
    "duration": 4,
    "start_time": "2022-09-01T15:05:10.502Z"
   },
   {
    "duration": 141,
    "start_time": "2022-09-01T15:05:10.510Z"
   },
   {
    "duration": 75,
    "start_time": "2022-09-01T15:05:10.653Z"
   },
   {
    "duration": 17,
    "start_time": "2022-09-01T15:05:10.730Z"
   },
   {
    "duration": 26,
    "start_time": "2022-09-01T15:05:10.749Z"
   },
   {
    "duration": 350,
    "start_time": "2022-09-01T15:05:10.781Z"
   },
   {
    "duration": 5,
    "start_time": "2022-09-01T15:05:11.133Z"
   },
   {
    "duration": 15,
    "start_time": "2022-09-01T15:05:11.140Z"
   },
   {
    "duration": 544,
    "start_time": "2022-09-01T15:05:11.157Z"
   },
   {
    "duration": 386,
    "start_time": "2022-09-01T15:05:11.703Z"
   },
   {
    "duration": 269,
    "start_time": "2022-09-01T15:05:12.091Z"
   },
   {
    "duration": 379,
    "start_time": "2022-09-01T15:05:12.362Z"
   },
   {
    "duration": 220,
    "start_time": "2022-09-01T15:05:12.743Z"
   },
   {
    "duration": 270,
    "start_time": "2022-09-01T15:05:12.981Z"
   },
   {
    "duration": 259,
    "start_time": "2022-09-01T15:05:13.253Z"
   },
   {
    "duration": 168,
    "start_time": "2022-09-01T15:05:13.515Z"
   },
   {
    "duration": 413,
    "start_time": "2022-09-01T15:05:13.685Z"
   },
   {
    "duration": 286,
    "start_time": "2022-09-01T15:05:14.101Z"
   },
   {
    "duration": 241,
    "start_time": "2022-09-01T15:05:14.389Z"
   },
   {
    "duration": 284,
    "start_time": "2022-09-01T15:05:14.634Z"
   },
   {
    "duration": 269,
    "start_time": "2022-09-01T15:05:14.919Z"
   },
   {
    "duration": 304,
    "start_time": "2022-09-01T15:05:15.191Z"
   },
   {
    "duration": 302,
    "start_time": "2022-09-01T15:05:15.497Z"
   },
   {
    "duration": 50,
    "start_time": "2022-09-01T15:05:15.801Z"
   },
   {
    "duration": 202,
    "start_time": "2022-09-01T15:05:15.853Z"
   },
   {
    "duration": 229,
    "start_time": "2022-09-01T15:05:16.058Z"
   },
   {
    "duration": 323,
    "start_time": "2022-09-01T15:05:16.289Z"
   },
   {
    "duration": 250,
    "start_time": "2022-09-01T15:05:16.614Z"
   },
   {
    "duration": 236,
    "start_time": "2022-09-01T15:05:16.866Z"
   },
   {
    "duration": 215,
    "start_time": "2022-09-01T15:05:17.104Z"
   },
   {
    "duration": 202,
    "start_time": "2022-09-01T15:05:17.321Z"
   },
   {
    "duration": 210,
    "start_time": "2022-09-01T15:05:17.528Z"
   },
   {
    "duration": 47,
    "start_time": "2022-09-01T15:05:17.740Z"
   },
   {
    "duration": 195,
    "start_time": "2022-09-01T15:05:17.789Z"
   },
   {
    "duration": 14,
    "start_time": "2022-09-01T15:08:24.357Z"
   },
   {
    "duration": 379,
    "start_time": "2022-09-01T15:16:01.752Z"
   },
   {
    "duration": 303,
    "start_time": "2022-09-01T15:16:13.560Z"
   },
   {
    "duration": 361,
    "start_time": "2022-09-01T15:16:20.415Z"
   },
   {
    "duration": 328,
    "start_time": "2022-09-01T15:16:32.013Z"
   },
   {
    "duration": 428,
    "start_time": "2022-09-01T15:21:18.182Z"
   },
   {
    "duration": 313,
    "start_time": "2022-09-01T15:26:53.042Z"
   },
   {
    "duration": 307,
    "start_time": "2022-09-01T15:31:50.993Z"
   },
   {
    "duration": 420,
    "start_time": "2022-09-01T15:32:08.238Z"
   },
   {
    "duration": 2982,
    "start_time": "2022-09-01T15:32:15.115Z"
   },
   {
    "duration": 9,
    "start_time": "2022-09-01T15:32:18.100Z"
   },
   {
    "duration": 5,
    "start_time": "2022-09-01T15:32:18.110Z"
   },
   {
    "duration": 234,
    "start_time": "2022-09-01T15:32:18.117Z"
   },
   {
    "duration": 217,
    "start_time": "2022-09-01T15:32:18.353Z"
   },
   {
    "duration": 42,
    "start_time": "2022-09-01T15:32:18.578Z"
   },
   {
    "duration": 6,
    "start_time": "2022-09-01T15:32:18.622Z"
   },
   {
    "duration": 18,
    "start_time": "2022-09-01T15:32:18.629Z"
   },
   {
    "duration": 3,
    "start_time": "2022-09-01T15:32:18.648Z"
   },
   {
    "duration": 107,
    "start_time": "2022-09-01T15:32:18.678Z"
   },
   {
    "duration": 49,
    "start_time": "2022-09-01T15:32:18.787Z"
   },
   {
    "duration": 43,
    "start_time": "2022-09-01T15:32:18.838Z"
   },
   {
    "duration": 4,
    "start_time": "2022-09-01T15:32:18.883Z"
   },
   {
    "duration": 305,
    "start_time": "2022-09-01T15:32:18.888Z"
   },
   {
    "duration": 3,
    "start_time": "2022-09-01T15:32:19.195Z"
   },
   {
    "duration": 7,
    "start_time": "2022-09-01T15:32:19.200Z"
   },
   {
    "duration": 398,
    "start_time": "2022-09-01T15:32:19.209Z"
   },
   {
    "duration": 395,
    "start_time": "2022-09-01T15:32:19.608Z"
   },
   {
    "duration": 0,
    "start_time": "2022-09-01T15:32:20.005Z"
   },
   {
    "duration": 0,
    "start_time": "2022-09-01T15:32:20.006Z"
   },
   {
    "duration": 0,
    "start_time": "2022-09-01T15:32:20.007Z"
   },
   {
    "duration": 0,
    "start_time": "2022-09-01T15:32:20.008Z"
   },
   {
    "duration": 0,
    "start_time": "2022-09-01T15:32:20.009Z"
   },
   {
    "duration": 0,
    "start_time": "2022-09-01T15:32:20.010Z"
   },
   {
    "duration": 1,
    "start_time": "2022-09-01T15:32:20.010Z"
   },
   {
    "duration": 0,
    "start_time": "2022-09-01T15:32:20.012Z"
   },
   {
    "duration": 0,
    "start_time": "2022-09-01T15:32:20.012Z"
   },
   {
    "duration": 0,
    "start_time": "2022-09-01T15:32:20.013Z"
   },
   {
    "duration": 0,
    "start_time": "2022-09-01T15:32:20.014Z"
   },
   {
    "duration": 0,
    "start_time": "2022-09-01T15:32:20.015Z"
   },
   {
    "duration": 0,
    "start_time": "2022-09-01T15:32:20.016Z"
   },
   {
    "duration": 0,
    "start_time": "2022-09-01T15:32:20.018Z"
   },
   {
    "duration": 0,
    "start_time": "2022-09-01T15:32:20.019Z"
   },
   {
    "duration": 0,
    "start_time": "2022-09-01T15:32:20.020Z"
   },
   {
    "duration": 0,
    "start_time": "2022-09-01T15:32:20.021Z"
   },
   {
    "duration": 0,
    "start_time": "2022-09-01T15:32:20.022Z"
   },
   {
    "duration": 0,
    "start_time": "2022-09-01T15:32:20.023Z"
   },
   {
    "duration": 0,
    "start_time": "2022-09-01T15:32:20.024Z"
   },
   {
    "duration": 0,
    "start_time": "2022-09-01T15:32:20.025Z"
   },
   {
    "duration": 0,
    "start_time": "2022-09-01T15:32:20.026Z"
   },
   {
    "duration": 0,
    "start_time": "2022-09-01T15:32:20.027Z"
   },
   {
    "duration": 0,
    "start_time": "2022-09-01T15:32:20.068Z"
   },
   {
    "duration": 331,
    "start_time": "2022-09-01T15:33:54.905Z"
   },
   {
    "duration": 316,
    "start_time": "2022-09-01T15:34:10.933Z"
   },
   {
    "duration": 2904,
    "start_time": "2022-09-01T15:34:16.737Z"
   },
   {
    "duration": 10,
    "start_time": "2022-09-01T15:34:19.643Z"
   },
   {
    "duration": 4,
    "start_time": "2022-09-01T15:34:19.654Z"
   },
   {
    "duration": 258,
    "start_time": "2022-09-01T15:34:19.660Z"
   },
   {
    "duration": 220,
    "start_time": "2022-09-01T15:34:19.919Z"
   },
   {
    "duration": 58,
    "start_time": "2022-09-01T15:34:20.140Z"
   },
   {
    "duration": 6,
    "start_time": "2022-09-01T15:34:20.200Z"
   },
   {
    "duration": 16,
    "start_time": "2022-09-01T15:34:20.208Z"
   },
   {
    "duration": 4,
    "start_time": "2022-09-01T15:34:20.226Z"
   },
   {
    "duration": 151,
    "start_time": "2022-09-01T15:34:20.232Z"
   },
   {
    "duration": 54,
    "start_time": "2022-09-01T15:34:20.385Z"
   },
   {
    "duration": 41,
    "start_time": "2022-09-01T15:34:20.441Z"
   },
   {
    "duration": 4,
    "start_time": "2022-09-01T15:34:20.485Z"
   },
   {
    "duration": 328,
    "start_time": "2022-09-01T15:34:20.490Z"
   },
   {
    "duration": 3,
    "start_time": "2022-09-01T15:34:20.820Z"
   },
   {
    "duration": 9,
    "start_time": "2022-09-01T15:34:20.825Z"
   },
   {
    "duration": 424,
    "start_time": "2022-09-01T15:34:20.836Z"
   },
   {
    "duration": 426,
    "start_time": "2022-09-01T15:34:21.262Z"
   },
   {
    "duration": 0,
    "start_time": "2022-09-01T15:34:21.690Z"
   },
   {
    "duration": 0,
    "start_time": "2022-09-01T15:34:21.691Z"
   },
   {
    "duration": 0,
    "start_time": "2022-09-01T15:34:21.692Z"
   },
   {
    "duration": 0,
    "start_time": "2022-09-01T15:34:21.693Z"
   },
   {
    "duration": 0,
    "start_time": "2022-09-01T15:34:21.694Z"
   },
   {
    "duration": 0,
    "start_time": "2022-09-01T15:34:21.695Z"
   },
   {
    "duration": 0,
    "start_time": "2022-09-01T15:34:21.696Z"
   },
   {
    "duration": 0,
    "start_time": "2022-09-01T15:34:21.697Z"
   },
   {
    "duration": 0,
    "start_time": "2022-09-01T15:34:21.698Z"
   },
   {
    "duration": 0,
    "start_time": "2022-09-01T15:34:21.699Z"
   },
   {
    "duration": 0,
    "start_time": "2022-09-01T15:34:21.699Z"
   },
   {
    "duration": 0,
    "start_time": "2022-09-01T15:34:21.700Z"
   },
   {
    "duration": 0,
    "start_time": "2022-09-01T15:34:21.701Z"
   },
   {
    "duration": 0,
    "start_time": "2022-09-01T15:34:21.702Z"
   },
   {
    "duration": 0,
    "start_time": "2022-09-01T15:34:21.703Z"
   },
   {
    "duration": 0,
    "start_time": "2022-09-01T15:34:21.704Z"
   },
   {
    "duration": 0,
    "start_time": "2022-09-01T15:34:21.705Z"
   },
   {
    "duration": 0,
    "start_time": "2022-09-01T15:34:21.706Z"
   },
   {
    "duration": 0,
    "start_time": "2022-09-01T15:34:21.707Z"
   },
   {
    "duration": 0,
    "start_time": "2022-09-01T15:34:21.708Z"
   },
   {
    "duration": 0,
    "start_time": "2022-09-01T15:34:21.709Z"
   },
   {
    "duration": 0,
    "start_time": "2022-09-01T15:34:21.710Z"
   },
   {
    "duration": 0,
    "start_time": "2022-09-01T15:34:21.711Z"
   },
   {
    "duration": 0,
    "start_time": "2022-09-01T15:34:21.712Z"
   },
   {
    "duration": 335,
    "start_time": "2022-09-01T15:35:04.498Z"
   },
   {
    "duration": 303,
    "start_time": "2022-09-01T15:37:52.385Z"
   },
   {
    "duration": 328,
    "start_time": "2022-09-01T15:38:08.202Z"
   },
   {
    "duration": 18,
    "start_time": "2022-09-01T15:51:24.975Z"
   },
   {
    "duration": 391,
    "start_time": "2022-09-01T15:51:30.881Z"
   },
   {
    "duration": 307,
    "start_time": "2022-09-01T15:53:07.629Z"
   },
   {
    "duration": 169,
    "start_time": "2022-09-01T15:53:54.500Z"
   },
   {
    "duration": 213,
    "start_time": "2022-09-01T15:54:47.924Z"
   },
   {
    "duration": 209,
    "start_time": "2022-09-01T15:54:56.979Z"
   },
   {
    "duration": 224,
    "start_time": "2022-09-01T15:55:05.305Z"
   },
   {
    "duration": 217,
    "start_time": "2022-09-01T15:55:33.103Z"
   },
   {
    "duration": 283,
    "start_time": "2022-09-01T15:56:52.505Z"
   },
   {
    "duration": 422,
    "start_time": "2022-09-01T16:31:21.596Z"
   },
   {
    "duration": 233,
    "start_time": "2022-09-01T16:32:04.916Z"
   },
   {
    "duration": 89,
    "start_time": "2022-09-01T16:33:05.263Z"
   },
   {
    "duration": 291,
    "start_time": "2022-09-01T16:33:13.198Z"
   },
   {
    "duration": 317,
    "start_time": "2022-09-01T16:33:39.524Z"
   },
   {
    "duration": 296,
    "start_time": "2022-09-01T16:34:47.714Z"
   },
   {
    "duration": 279,
    "start_time": "2022-09-01T16:35:03.136Z"
   },
   {
    "duration": 405,
    "start_time": "2022-09-01T16:35:13.230Z"
   },
   {
    "duration": 287,
    "start_time": "2022-09-01T16:35:45.228Z"
   },
   {
    "duration": 274,
    "start_time": "2022-09-01T16:37:22.683Z"
   },
   {
    "duration": 2786,
    "start_time": "2022-09-01T16:37:34.544Z"
   },
   {
    "duration": 10,
    "start_time": "2022-09-01T16:37:37.332Z"
   },
   {
    "duration": 4,
    "start_time": "2022-09-01T16:37:37.346Z"
   },
   {
    "duration": 230,
    "start_time": "2022-09-01T16:37:37.352Z"
   },
   {
    "duration": 221,
    "start_time": "2022-09-01T16:37:37.584Z"
   },
   {
    "duration": 43,
    "start_time": "2022-09-01T16:37:37.807Z"
   },
   {
    "duration": 8,
    "start_time": "2022-09-01T16:37:37.867Z"
   },
   {
    "duration": 15,
    "start_time": "2022-09-01T16:37:37.877Z"
   },
   {
    "duration": 3,
    "start_time": "2022-09-01T16:37:37.894Z"
   },
   {
    "duration": 126,
    "start_time": "2022-09-01T16:37:37.899Z"
   },
   {
    "duration": 61,
    "start_time": "2022-09-01T16:37:38.028Z"
   },
   {
    "duration": 16,
    "start_time": "2022-09-01T16:37:38.091Z"
   },
   {
    "duration": 3,
    "start_time": "2022-09-01T16:37:38.109Z"
   },
   {
    "duration": 309,
    "start_time": "2022-09-01T16:37:38.114Z"
   },
   {
    "duration": 3,
    "start_time": "2022-09-01T16:37:38.425Z"
   },
   {
    "duration": 8,
    "start_time": "2022-09-01T16:37:38.429Z"
   },
   {
    "duration": 375,
    "start_time": "2022-09-01T16:37:38.439Z"
   },
   {
    "duration": 328,
    "start_time": "2022-09-01T16:37:38.816Z"
   },
   {
    "duration": 226,
    "start_time": "2022-09-01T16:37:39.146Z"
   },
   {
    "duration": 318,
    "start_time": "2022-09-01T16:37:39.374Z"
   },
   {
    "duration": 187,
    "start_time": "2022-09-01T16:37:39.694Z"
   },
   {
    "duration": 236,
    "start_time": "2022-09-01T16:37:39.882Z"
   },
   {
    "duration": 221,
    "start_time": "2022-09-01T16:37:40.120Z"
   },
   {
    "duration": 132,
    "start_time": "2022-09-01T16:37:40.343Z"
   },
   {
    "duration": 302,
    "start_time": "2022-09-01T16:37:40.478Z"
   },
   {
    "duration": 208,
    "start_time": "2022-09-01T16:37:40.782Z"
   },
   {
    "duration": 209,
    "start_time": "2022-09-01T16:37:40.995Z"
   },
   {
    "duration": 221,
    "start_time": "2022-09-01T16:37:41.207Z"
   },
   {
    "duration": 222,
    "start_time": "2022-09-01T16:37:41.430Z"
   },
   {
    "duration": 251,
    "start_time": "2022-09-01T16:37:41.653Z"
   },
   {
    "duration": 242,
    "start_time": "2022-09-01T16:37:41.906Z"
   },
   {
    "duration": 48,
    "start_time": "2022-09-01T16:37:42.150Z"
   },
   {
    "duration": 145,
    "start_time": "2022-09-01T16:37:42.199Z"
   },
   {
    "duration": 172,
    "start_time": "2022-09-01T16:37:42.345Z"
   },
   {
    "duration": 255,
    "start_time": "2022-09-01T16:37:42.518Z"
   },
   {
    "duration": 154,
    "start_time": "2022-09-01T16:37:42.775Z"
   },
   {
    "duration": 167,
    "start_time": "2022-09-01T16:37:42.930Z"
   },
   {
    "duration": 169,
    "start_time": "2022-09-01T16:37:43.099Z"
   },
   {
    "duration": 161,
    "start_time": "2022-09-01T16:37:43.270Z"
   },
   {
    "duration": 167,
    "start_time": "2022-09-01T16:37:43.433Z"
   },
   {
    "duration": 25,
    "start_time": "2022-09-01T16:37:43.602Z"
   },
   {
    "duration": 189,
    "start_time": "2022-09-01T16:37:43.629Z"
   },
   {
    "duration": 2729,
    "start_time": "2022-09-01T16:38:19.672Z"
   },
   {
    "duration": 9,
    "start_time": "2022-09-01T16:38:22.403Z"
   },
   {
    "duration": 11,
    "start_time": "2022-09-01T16:38:22.413Z"
   },
   {
    "duration": 248,
    "start_time": "2022-09-01T16:38:22.426Z"
   },
   {
    "duration": 214,
    "start_time": "2022-09-01T16:38:22.676Z"
   },
   {
    "duration": 45,
    "start_time": "2022-09-01T16:38:22.891Z"
   },
   {
    "duration": 7,
    "start_time": "2022-09-01T16:38:22.938Z"
   },
   {
    "duration": 34,
    "start_time": "2022-09-01T16:38:22.947Z"
   },
   {
    "duration": 3,
    "start_time": "2022-09-01T16:38:22.983Z"
   },
   {
    "duration": 134,
    "start_time": "2022-09-01T16:38:22.989Z"
   },
   {
    "duration": 58,
    "start_time": "2022-09-01T16:38:23.125Z"
   },
   {
    "duration": 14,
    "start_time": "2022-09-01T16:38:23.185Z"
   },
   {
    "duration": 4,
    "start_time": "2022-09-01T16:38:23.201Z"
   },
   {
    "duration": 307,
    "start_time": "2022-09-01T16:38:23.206Z"
   },
   {
    "duration": 4,
    "start_time": "2022-09-01T16:38:23.515Z"
   },
   {
    "duration": 10,
    "start_time": "2022-09-01T16:38:23.520Z"
   },
   {
    "duration": 385,
    "start_time": "2022-09-01T16:38:23.532Z"
   },
   {
    "duration": 308,
    "start_time": "2022-09-01T16:38:23.919Z"
   },
   {
    "duration": 215,
    "start_time": "2022-09-01T16:38:24.229Z"
   },
   {
    "duration": 286,
    "start_time": "2022-09-01T16:38:24.445Z"
   },
   {
    "duration": 190,
    "start_time": "2022-09-01T16:38:24.733Z"
   },
   {
    "duration": 228,
    "start_time": "2022-09-01T16:38:24.925Z"
   },
   {
    "duration": 203,
    "start_time": "2022-09-01T16:38:25.154Z"
   },
   {
    "duration": 121,
    "start_time": "2022-09-01T16:38:25.358Z"
   },
   {
    "duration": 298,
    "start_time": "2022-09-01T16:38:25.481Z"
   },
   {
    "duration": 213,
    "start_time": "2022-09-01T16:38:25.780Z"
   },
   {
    "duration": 204,
    "start_time": "2022-09-01T16:38:25.995Z"
   },
   {
    "duration": 222,
    "start_time": "2022-09-01T16:38:26.203Z"
   },
   {
    "duration": 260,
    "start_time": "2022-09-01T16:38:26.427Z"
   },
   {
    "duration": 278,
    "start_time": "2022-09-01T16:38:26.689Z"
   },
   {
    "duration": 226,
    "start_time": "2022-09-01T16:38:26.969Z"
   },
   {
    "duration": 39,
    "start_time": "2022-09-01T16:38:27.197Z"
   },
   {
    "duration": 154,
    "start_time": "2022-09-01T16:38:27.237Z"
   },
   {
    "duration": 185,
    "start_time": "2022-09-01T16:38:27.393Z"
   },
   {
    "duration": 253,
    "start_time": "2022-09-01T16:38:27.580Z"
   },
   {
    "duration": 150,
    "start_time": "2022-09-01T16:38:27.835Z"
   },
   {
    "duration": 162,
    "start_time": "2022-09-01T16:38:27.987Z"
   },
   {
    "duration": 164,
    "start_time": "2022-09-01T16:38:28.150Z"
   },
   {
    "duration": 156,
    "start_time": "2022-09-01T16:38:28.316Z"
   },
   {
    "duration": 160,
    "start_time": "2022-09-01T16:38:28.474Z"
   },
   {
    "duration": 36,
    "start_time": "2022-09-01T16:38:28.636Z"
   },
   {
    "duration": 170,
    "start_time": "2022-09-01T16:38:28.674Z"
   },
   {
    "duration": 290,
    "start_time": "2022-09-01T16:39:09.238Z"
   },
   {
    "duration": 348,
    "start_time": "2022-09-01T16:40:31.912Z"
   },
   {
    "duration": 393,
    "start_time": "2022-09-01T16:41:28.140Z"
   },
   {
    "duration": 221,
    "start_time": "2022-09-01T16:42:07.917Z"
   },
   {
    "duration": 281,
    "start_time": "2022-09-01T16:42:46.822Z"
   },
   {
    "duration": 215,
    "start_time": "2022-09-01T16:44:15.634Z"
   },
   {
    "duration": 213,
    "start_time": "2022-09-01T16:44:52.395Z"
   },
   {
    "duration": 135,
    "start_time": "2022-09-01T16:45:12.649Z"
   },
   {
    "duration": 120,
    "start_time": "2022-09-01T16:45:46.315Z"
   },
   {
    "duration": 217,
    "start_time": "2022-09-01T16:46:29.433Z"
   },
   {
    "duration": 217,
    "start_time": "2022-09-01T16:47:29.736Z"
   },
   {
    "duration": 326,
    "start_time": "2022-09-01T16:48:10.198Z"
   },
   {
    "duration": 81,
    "start_time": "2022-09-01T16:48:22.448Z"
   },
   {
    "duration": 214,
    "start_time": "2022-09-01T16:48:54.895Z"
   },
   {
    "duration": 231,
    "start_time": "2022-09-01T16:49:42.931Z"
   },
   {
    "duration": 204,
    "start_time": "2022-09-01T16:50:25.021Z"
   },
   {
    "duration": 244,
    "start_time": "2022-09-01T16:51:07.011Z"
   },
   {
    "duration": 9,
    "start_time": "2022-09-01T16:57:09.080Z"
   },
   {
    "duration": 9,
    "start_time": "2022-09-01T16:57:24.767Z"
   },
   {
    "duration": 3,
    "start_time": "2022-09-01T17:04:51.786Z"
   },
   {
    "duration": 4,
    "start_time": "2022-09-01T17:04:59.317Z"
   },
   {
    "duration": 2788,
    "start_time": "2022-09-01T17:05:09.933Z"
   },
   {
    "duration": 10,
    "start_time": "2022-09-01T17:05:12.723Z"
   },
   {
    "duration": 9,
    "start_time": "2022-09-01T17:05:12.735Z"
   },
   {
    "duration": 232,
    "start_time": "2022-09-01T17:05:12.746Z"
   },
   {
    "duration": 220,
    "start_time": "2022-09-01T17:05:12.980Z"
   },
   {
    "duration": 43,
    "start_time": "2022-09-01T17:05:13.202Z"
   },
   {
    "duration": 20,
    "start_time": "2022-09-01T17:05:13.247Z"
   },
   {
    "duration": 14,
    "start_time": "2022-09-01T17:05:13.269Z"
   },
   {
    "duration": 4,
    "start_time": "2022-09-01T17:05:13.284Z"
   },
   {
    "duration": 135,
    "start_time": "2022-09-01T17:05:13.290Z"
   },
   {
    "duration": 71,
    "start_time": "2022-09-01T17:05:13.426Z"
   },
   {
    "duration": 18,
    "start_time": "2022-09-01T17:05:13.500Z"
   },
   {
    "duration": 4,
    "start_time": "2022-09-01T17:05:13.520Z"
   },
   {
    "duration": 0,
    "start_time": "2022-09-01T17:05:13.526Z"
   },
   {
    "duration": 0,
    "start_time": "2022-09-01T17:05:13.527Z"
   },
   {
    "duration": 0,
    "start_time": "2022-09-01T17:05:13.528Z"
   },
   {
    "duration": 0,
    "start_time": "2022-09-01T17:05:13.530Z"
   },
   {
    "duration": 0,
    "start_time": "2022-09-01T17:05:13.531Z"
   },
   {
    "duration": 0,
    "start_time": "2022-09-01T17:05:13.532Z"
   },
   {
    "duration": 0,
    "start_time": "2022-09-01T17:05:13.533Z"
   },
   {
    "duration": 0,
    "start_time": "2022-09-01T17:05:13.534Z"
   },
   {
    "duration": 0,
    "start_time": "2022-09-01T17:05:13.567Z"
   },
   {
    "duration": 0,
    "start_time": "2022-09-01T17:05:13.569Z"
   },
   {
    "duration": 0,
    "start_time": "2022-09-01T17:05:13.570Z"
   },
   {
    "duration": 0,
    "start_time": "2022-09-01T17:05:13.571Z"
   },
   {
    "duration": 0,
    "start_time": "2022-09-01T17:05:13.572Z"
   },
   {
    "duration": 0,
    "start_time": "2022-09-01T17:05:13.573Z"
   },
   {
    "duration": 0,
    "start_time": "2022-09-01T17:05:13.574Z"
   },
   {
    "duration": 0,
    "start_time": "2022-09-01T17:05:13.575Z"
   },
   {
    "duration": 0,
    "start_time": "2022-09-01T17:05:13.576Z"
   },
   {
    "duration": 0,
    "start_time": "2022-09-01T17:05:13.577Z"
   },
   {
    "duration": 0,
    "start_time": "2022-09-01T17:05:13.579Z"
   },
   {
    "duration": 0,
    "start_time": "2022-09-01T17:05:13.580Z"
   },
   {
    "duration": 0,
    "start_time": "2022-09-01T17:05:13.581Z"
   },
   {
    "duration": 0,
    "start_time": "2022-09-01T17:05:13.583Z"
   },
   {
    "duration": 0,
    "start_time": "2022-09-01T17:05:13.584Z"
   },
   {
    "duration": 0,
    "start_time": "2022-09-01T17:05:13.585Z"
   },
   {
    "duration": 0,
    "start_time": "2022-09-01T17:05:13.586Z"
   },
   {
    "duration": 0,
    "start_time": "2022-09-01T17:05:13.588Z"
   },
   {
    "duration": 0,
    "start_time": "2022-09-01T17:05:13.589Z"
   },
   {
    "duration": 0,
    "start_time": "2022-09-01T17:05:13.590Z"
   },
   {
    "duration": 0,
    "start_time": "2022-09-01T17:05:13.591Z"
   },
   {
    "duration": 0,
    "start_time": "2022-09-01T17:05:13.592Z"
   },
   {
    "duration": 146,
    "start_time": "2022-09-01T17:05:53.549Z"
   },
   {
    "duration": 5,
    "start_time": "2022-09-01T17:06:00.404Z"
   },
   {
    "duration": 2722,
    "start_time": "2022-09-01T17:07:36.071Z"
   },
   {
    "duration": 9,
    "start_time": "2022-09-01T17:07:38.795Z"
   },
   {
    "duration": 4,
    "start_time": "2022-09-01T17:07:38.806Z"
   },
   {
    "duration": 226,
    "start_time": "2022-09-01T17:07:38.812Z"
   },
   {
    "duration": 198,
    "start_time": "2022-09-01T17:07:39.040Z"
   },
   {
    "duration": 47,
    "start_time": "2022-09-01T17:07:39.240Z"
   },
   {
    "duration": 6,
    "start_time": "2022-09-01T17:07:39.289Z"
   },
   {
    "duration": 14,
    "start_time": "2022-09-01T17:07:39.297Z"
   },
   {
    "duration": 3,
    "start_time": "2022-09-01T17:07:39.312Z"
   },
   {
    "duration": 125,
    "start_time": "2022-09-01T17:07:39.318Z"
   },
   {
    "duration": 63,
    "start_time": "2022-09-01T17:07:39.445Z"
   },
   {
    "duration": 15,
    "start_time": "2022-09-01T17:07:39.510Z"
   },
   {
    "duration": 3,
    "start_time": "2022-09-01T17:07:39.527Z"
   },
   {
    "duration": 326,
    "start_time": "2022-09-01T17:07:39.532Z"
   },
   {
    "duration": 8,
    "start_time": "2022-09-01T17:07:39.860Z"
   },
   {
    "duration": 392,
    "start_time": "2022-09-01T17:07:39.869Z"
   },
   {
    "duration": 307,
    "start_time": "2022-09-01T17:07:40.263Z"
   },
   {
    "duration": 222,
    "start_time": "2022-09-01T17:07:40.572Z"
   },
   {
    "duration": 292,
    "start_time": "2022-09-01T17:07:40.796Z"
   },
   {
    "duration": 185,
    "start_time": "2022-09-01T17:07:41.090Z"
   },
   {
    "duration": 232,
    "start_time": "2022-09-01T17:07:41.277Z"
   },
   {
    "duration": 230,
    "start_time": "2022-09-01T17:07:41.510Z"
   },
   {
    "duration": 136,
    "start_time": "2022-09-01T17:07:41.742Z"
   },
   {
    "duration": 284,
    "start_time": "2022-09-01T17:07:41.880Z"
   },
   {
    "duration": 209,
    "start_time": "2022-09-01T17:07:42.167Z"
   },
   {
    "duration": 210,
    "start_time": "2022-09-01T17:07:42.377Z"
   },
   {
    "duration": 221,
    "start_time": "2022-09-01T17:07:42.589Z"
   },
   {
    "duration": 216,
    "start_time": "2022-09-01T17:07:42.813Z"
   },
   {
    "duration": 250,
    "start_time": "2022-09-01T17:07:43.031Z"
   },
   {
    "duration": 244,
    "start_time": "2022-09-01T17:07:43.282Z"
   },
   {
    "duration": 48,
    "start_time": "2022-09-01T17:07:43.527Z"
   },
   {
    "duration": 150,
    "start_time": "2022-09-01T17:07:43.577Z"
   },
   {
    "duration": 174,
    "start_time": "2022-09-01T17:07:43.729Z"
   },
   {
    "duration": 253,
    "start_time": "2022-09-01T17:07:43.905Z"
   },
   {
    "duration": 144,
    "start_time": "2022-09-01T17:07:44.159Z"
   },
   {
    "duration": 159,
    "start_time": "2022-09-01T17:07:44.305Z"
   },
   {
    "duration": 164,
    "start_time": "2022-09-01T17:07:44.468Z"
   },
   {
    "duration": 159,
    "start_time": "2022-09-01T17:07:44.633Z"
   },
   {
    "duration": 165,
    "start_time": "2022-09-01T17:07:44.794Z"
   },
   {
    "duration": 23,
    "start_time": "2022-09-01T17:07:44.967Z"
   },
   {
    "duration": 176,
    "start_time": "2022-09-01T17:07:44.992Z"
   },
   {
    "duration": 285,
    "start_time": "2022-09-01T17:13:16.971Z"
   },
   {
    "duration": 239,
    "start_time": "2022-09-01T17:14:40.586Z"
   },
   {
    "duration": 3714,
    "start_time": "2022-09-02T05:01:20.569Z"
   },
   {
    "duration": 117,
    "start_time": "2022-09-02T05:01:24.286Z"
   },
   {
    "duration": 0,
    "start_time": "2022-09-02T05:01:24.405Z"
   },
   {
    "duration": 0,
    "start_time": "2022-09-02T05:01:24.406Z"
   },
   {
    "duration": 0,
    "start_time": "2022-09-02T05:01:24.408Z"
   },
   {
    "duration": 0,
    "start_time": "2022-09-02T05:01:24.410Z"
   },
   {
    "duration": 0,
    "start_time": "2022-09-02T05:01:24.411Z"
   },
   {
    "duration": 0,
    "start_time": "2022-09-02T05:01:24.412Z"
   },
   {
    "duration": 0,
    "start_time": "2022-09-02T05:01:24.413Z"
   },
   {
    "duration": 0,
    "start_time": "2022-09-02T05:01:24.415Z"
   },
   {
    "duration": 0,
    "start_time": "2022-09-02T05:01:24.416Z"
   },
   {
    "duration": 0,
    "start_time": "2022-09-02T05:01:24.417Z"
   },
   {
    "duration": 0,
    "start_time": "2022-09-02T05:01:24.418Z"
   },
   {
    "duration": 0,
    "start_time": "2022-09-02T05:01:24.419Z"
   },
   {
    "duration": 0,
    "start_time": "2022-09-02T05:01:24.421Z"
   },
   {
    "duration": 0,
    "start_time": "2022-09-02T05:01:24.422Z"
   },
   {
    "duration": 0,
    "start_time": "2022-09-02T05:01:24.423Z"
   },
   {
    "duration": 0,
    "start_time": "2022-09-02T05:01:24.424Z"
   },
   {
    "duration": 0,
    "start_time": "2022-09-02T05:01:24.425Z"
   },
   {
    "duration": 0,
    "start_time": "2022-09-02T05:01:24.426Z"
   },
   {
    "duration": 0,
    "start_time": "2022-09-02T05:01:24.427Z"
   },
   {
    "duration": 0,
    "start_time": "2022-09-02T05:01:24.428Z"
   },
   {
    "duration": 0,
    "start_time": "2022-09-02T05:01:24.430Z"
   },
   {
    "duration": 0,
    "start_time": "2022-09-02T05:01:24.431Z"
   },
   {
    "duration": 0,
    "start_time": "2022-09-02T05:01:24.432Z"
   },
   {
    "duration": 0,
    "start_time": "2022-09-02T05:01:24.434Z"
   },
   {
    "duration": 0,
    "start_time": "2022-09-02T05:01:24.434Z"
   },
   {
    "duration": 0,
    "start_time": "2022-09-02T05:01:24.436Z"
   },
   {
    "duration": 0,
    "start_time": "2022-09-02T05:01:24.492Z"
   },
   {
    "duration": 0,
    "start_time": "2022-09-02T05:01:24.493Z"
   },
   {
    "duration": 0,
    "start_time": "2022-09-02T05:01:24.495Z"
   },
   {
    "duration": 0,
    "start_time": "2022-09-02T05:01:24.496Z"
   },
   {
    "duration": 0,
    "start_time": "2022-09-02T05:01:24.497Z"
   },
   {
    "duration": 0,
    "start_time": "2022-09-02T05:01:24.499Z"
   },
   {
    "duration": 0,
    "start_time": "2022-09-02T05:01:24.500Z"
   },
   {
    "duration": 0,
    "start_time": "2022-09-02T05:01:24.501Z"
   },
   {
    "duration": 0,
    "start_time": "2022-09-02T05:01:24.502Z"
   },
   {
    "duration": 0,
    "start_time": "2022-09-02T05:01:24.504Z"
   },
   {
    "duration": 0,
    "start_time": "2022-09-02T05:01:24.505Z"
   },
   {
    "duration": 0,
    "start_time": "2022-09-02T05:01:24.506Z"
   },
   {
    "duration": 0,
    "start_time": "2022-09-02T05:01:24.508Z"
   },
   {
    "duration": 0,
    "start_time": "2022-09-02T05:01:24.509Z"
   },
   {
    "duration": 32,
    "start_time": "2022-09-02T05:01:42.166Z"
   },
   {
    "duration": 132,
    "start_time": "2022-09-02T05:03:10.098Z"
   },
   {
    "duration": 10,
    "start_time": "2022-09-02T05:03:25.932Z"
   },
   {
    "duration": 3469,
    "start_time": "2022-09-02T05:04:03.810Z"
   },
   {
    "duration": 11,
    "start_time": "2022-09-02T05:04:07.282Z"
   },
   {
    "duration": 7,
    "start_time": "2022-09-02T05:04:07.295Z"
   },
   {
    "duration": 283,
    "start_time": "2022-09-02T05:04:07.305Z"
   },
   {
    "duration": 222,
    "start_time": "2022-09-02T05:04:07.590Z"
   },
   {
    "duration": 48,
    "start_time": "2022-09-02T05:04:07.814Z"
   },
   {
    "duration": 28,
    "start_time": "2022-09-02T05:04:07.864Z"
   },
   {
    "duration": 23,
    "start_time": "2022-09-02T05:04:07.894Z"
   },
   {
    "duration": 4,
    "start_time": "2022-09-02T05:04:07.919Z"
   },
   {
    "duration": 134,
    "start_time": "2022-09-02T05:04:07.926Z"
   },
   {
    "duration": 61,
    "start_time": "2022-09-02T05:04:08.061Z"
   },
   {
    "duration": 17,
    "start_time": "2022-09-02T05:04:08.123Z"
   },
   {
    "duration": 5,
    "start_time": "2022-09-02T05:04:08.142Z"
   },
   {
    "duration": 327,
    "start_time": "2022-09-02T05:04:08.148Z"
   },
   {
    "duration": 4,
    "start_time": "2022-09-02T05:04:08.477Z"
   },
   {
    "duration": 332,
    "start_time": "2022-09-02T05:04:08.482Z"
   },
   {
    "duration": 345,
    "start_time": "2022-09-02T05:04:08.815Z"
   },
   {
    "duration": 370,
    "start_time": "2022-09-02T05:04:09.162Z"
   },
   {
    "duration": 324,
    "start_time": "2022-09-02T05:04:09.534Z"
   },
   {
    "duration": 207,
    "start_time": "2022-09-02T05:04:09.859Z"
   },
   {
    "duration": 248,
    "start_time": "2022-09-02T05:04:10.068Z"
   },
   {
    "duration": 286,
    "start_time": "2022-09-02T05:04:10.319Z"
   },
   {
    "duration": 149,
    "start_time": "2022-09-02T05:04:10.608Z"
   },
   {
    "duration": 231,
    "start_time": "2022-09-02T05:04:10.759Z"
   },
   {
    "duration": 218,
    "start_time": "2022-09-02T05:04:10.992Z"
   },
   {
    "duration": 216,
    "start_time": "2022-09-02T05:04:11.212Z"
   },
   {
    "duration": 241,
    "start_time": "2022-09-02T05:04:11.430Z"
   },
   {
    "duration": 442,
    "start_time": "2022-09-02T05:04:11.674Z"
   },
   {
    "duration": 254,
    "start_time": "2022-09-02T05:04:12.118Z"
   },
   {
    "duration": 272,
    "start_time": "2022-09-02T05:04:12.373Z"
   },
   {
    "duration": 107,
    "start_time": "2022-09-02T05:04:12.648Z"
   },
   {
    "duration": 51,
    "start_time": "2022-09-02T05:04:12.757Z"
   },
   {
    "duration": 160,
    "start_time": "2022-09-02T05:04:12.810Z"
   },
   {
    "duration": 184,
    "start_time": "2022-09-02T05:04:12.971Z"
   },
   {
    "duration": 179,
    "start_time": "2022-09-02T05:04:13.157Z"
   },
   {
    "duration": 158,
    "start_time": "2022-09-02T05:04:13.338Z"
   },
   {
    "duration": 621,
    "start_time": "2022-09-02T05:04:13.498Z"
   },
   {
    "duration": 0,
    "start_time": "2022-09-02T05:04:14.121Z"
   },
   {
    "duration": 0,
    "start_time": "2022-09-02T05:04:14.122Z"
   },
   {
    "duration": 0,
    "start_time": "2022-09-02T05:04:14.123Z"
   },
   {
    "duration": 0,
    "start_time": "2022-09-02T05:04:14.124Z"
   },
   {
    "duration": 0,
    "start_time": "2022-09-02T05:04:14.125Z"
   },
   {
    "duration": 11,
    "start_time": "2022-09-02T08:10:45.016Z"
   },
   {
    "duration": 252,
    "start_time": "2022-09-02T08:11:06.050Z"
   },
   {
    "duration": 10,
    "start_time": "2022-09-02T08:11:24.267Z"
   },
   {
    "duration": 255,
    "start_time": "2022-09-02T08:11:43.051Z"
   },
   {
    "duration": 260,
    "start_time": "2022-09-02T08:12:00.810Z"
   },
   {
    "duration": 281,
    "start_time": "2022-09-02T08:12:33.526Z"
   },
   {
    "duration": 3562,
    "start_time": "2022-09-02T08:12:56.122Z"
   },
   {
    "duration": 12,
    "start_time": "2022-09-02T08:12:59.686Z"
   },
   {
    "duration": 5,
    "start_time": "2022-09-02T08:12:59.700Z"
   },
   {
    "duration": 269,
    "start_time": "2022-09-02T08:12:59.707Z"
   },
   {
    "duration": 237,
    "start_time": "2022-09-02T08:12:59.978Z"
   },
   {
    "duration": 47,
    "start_time": "2022-09-02T08:13:00.217Z"
   },
   {
    "duration": 7,
    "start_time": "2022-09-02T08:13:00.266Z"
   },
   {
    "duration": 16,
    "start_time": "2022-09-02T08:13:00.292Z"
   },
   {
    "duration": 8,
    "start_time": "2022-09-02T08:13:00.310Z"
   },
   {
    "duration": 137,
    "start_time": "2022-09-02T08:13:00.322Z"
   },
   {
    "duration": 64,
    "start_time": "2022-09-02T08:13:00.461Z"
   },
   {
    "duration": 16,
    "start_time": "2022-09-02T08:13:00.527Z"
   },
   {
    "duration": 19,
    "start_time": "2022-09-02T08:13:00.545Z"
   },
   {
    "duration": 339,
    "start_time": "2022-09-02T08:13:00.566Z"
   },
   {
    "duration": 4,
    "start_time": "2022-09-02T08:13:00.907Z"
   },
   {
    "duration": 333,
    "start_time": "2022-09-02T08:13:00.912Z"
   },
   {
    "duration": 339,
    "start_time": "2022-09-02T08:13:01.246Z"
   },
   {
    "duration": 420,
    "start_time": "2022-09-02T08:13:01.591Z"
   },
   {
    "duration": 342,
    "start_time": "2022-09-02T08:13:02.013Z"
   },
   {
    "duration": 188,
    "start_time": "2022-09-02T08:13:02.357Z"
   },
   {
    "duration": 240,
    "start_time": "2022-09-02T08:13:02.547Z"
   },
   {
    "duration": 219,
    "start_time": "2022-09-02T08:13:02.789Z"
   },
   {
    "duration": 149,
    "start_time": "2022-09-02T08:13:03.011Z"
   },
   {
    "duration": 248,
    "start_time": "2022-09-02T08:13:03.162Z"
   },
   {
    "duration": 216,
    "start_time": "2022-09-02T08:13:03.412Z"
   },
   {
    "duration": 226,
    "start_time": "2022-09-02T08:13:03.630Z"
   },
   {
    "duration": 10,
    "start_time": "2022-09-02T08:13:03.858Z"
   },
   {
    "duration": 259,
    "start_time": "2022-09-02T08:13:03.872Z"
   },
   {
    "duration": 322,
    "start_time": "2022-09-02T08:13:04.132Z"
   },
   {
    "duration": 254,
    "start_time": "2022-09-02T08:13:04.455Z"
   },
   {
    "duration": 242,
    "start_time": "2022-09-02T08:13:04.710Z"
   },
   {
    "duration": 105,
    "start_time": "2022-09-02T08:13:04.953Z"
   },
   {
    "duration": 57,
    "start_time": "2022-09-02T08:13:05.059Z"
   },
   {
    "duration": 190,
    "start_time": "2022-09-02T08:13:05.117Z"
   },
   {
    "duration": 199,
    "start_time": "2022-09-02T08:13:05.308Z"
   },
   {
    "duration": 186,
    "start_time": "2022-09-02T08:13:05.509Z"
   },
   {
    "duration": 180,
    "start_time": "2022-09-02T08:13:05.696Z"
   },
   {
    "duration": 686,
    "start_time": "2022-09-02T08:13:05.878Z"
   },
   {
    "duration": 0,
    "start_time": "2022-09-02T08:13:06.566Z"
   },
   {
    "duration": 0,
    "start_time": "2022-09-02T08:13:06.568Z"
   },
   {
    "duration": 0,
    "start_time": "2022-09-02T08:13:06.570Z"
   },
   {
    "duration": 0,
    "start_time": "2022-09-02T08:13:06.571Z"
   },
   {
    "duration": 0,
    "start_time": "2022-09-02T08:13:06.573Z"
   },
   {
    "duration": 161,
    "start_time": "2022-09-02T08:13:35.996Z"
   },
   {
    "duration": 4,
    "start_time": "2022-09-02T08:13:46.099Z"
   },
   {
    "duration": 93,
    "start_time": "2022-09-02T08:14:06.816Z"
   },
   {
    "duration": 4,
    "start_time": "2022-09-02T08:14:18.904Z"
   },
   {
    "duration": 157,
    "start_time": "2022-09-02T08:14:39.837Z"
   },
   {
    "duration": 162,
    "start_time": "2022-09-02T08:14:59.006Z"
   },
   {
    "duration": 3,
    "start_time": "2022-09-02T08:15:31.630Z"
   },
   {
    "duration": 5,
    "start_time": "2022-09-02T08:15:33.921Z"
   },
   {
    "duration": 5,
    "start_time": "2022-09-02T08:16:20.735Z"
   },
   {
    "duration": 152,
    "start_time": "2022-09-02T08:17:07.543Z"
   },
   {
    "duration": 6,
    "start_time": "2022-09-02T08:17:12.824Z"
   },
   {
    "duration": 6,
    "start_time": "2022-09-02T08:18:05.120Z"
   },
   {
    "duration": 161,
    "start_time": "2022-09-02T08:19:24.184Z"
   },
   {
    "duration": 385,
    "start_time": "2022-09-02T08:19:31.487Z"
   },
   {
    "duration": 323,
    "start_time": "2022-09-02T08:39:21.920Z"
   },
   {
    "duration": 126,
    "start_time": "2022-09-02T08:39:39.732Z"
   },
   {
    "duration": 179,
    "start_time": "2022-09-02T08:39:56.852Z"
   },
   {
    "duration": 166,
    "start_time": "2022-09-02T08:40:23.232Z"
   },
   {
    "duration": 13,
    "start_time": "2022-09-02T08:40:27.993Z"
   },
   {
    "duration": 3544,
    "start_time": "2022-09-02T08:40:41.339Z"
   },
   {
    "duration": 10,
    "start_time": "2022-09-02T08:40:44.886Z"
   },
   {
    "duration": 9,
    "start_time": "2022-09-02T08:40:44.898Z"
   },
   {
    "duration": 278,
    "start_time": "2022-09-02T08:40:44.909Z"
   },
   {
    "duration": 225,
    "start_time": "2022-09-02T08:40:45.192Z"
   },
   {
    "duration": 46,
    "start_time": "2022-09-02T08:40:45.419Z"
   },
   {
    "duration": 25,
    "start_time": "2022-09-02T08:40:45.467Z"
   },
   {
    "duration": 16,
    "start_time": "2022-09-02T08:40:45.494Z"
   },
   {
    "duration": 4,
    "start_time": "2022-09-02T08:40:45.512Z"
   },
   {
    "duration": 133,
    "start_time": "2022-09-02T08:40:45.520Z"
   },
   {
    "duration": 64,
    "start_time": "2022-09-02T08:40:45.655Z"
   },
   {
    "duration": 16,
    "start_time": "2022-09-02T08:40:45.721Z"
   },
   {
    "duration": 8,
    "start_time": "2022-09-02T08:40:45.738Z"
   },
   {
    "duration": 319,
    "start_time": "2022-09-02T08:40:45.749Z"
   },
   {
    "duration": 5,
    "start_time": "2022-09-02T08:40:46.070Z"
   },
   {
    "duration": 314,
    "start_time": "2022-09-02T08:40:46.077Z"
   },
   {
    "duration": 342,
    "start_time": "2022-09-02T08:40:46.393Z"
   },
   {
    "duration": 373,
    "start_time": "2022-09-02T08:40:46.738Z"
   },
   {
    "duration": 320,
    "start_time": "2022-09-02T08:40:47.113Z"
   },
   {
    "duration": 201,
    "start_time": "2022-09-02T08:40:47.435Z"
   },
   {
    "duration": 246,
    "start_time": "2022-09-02T08:40:47.639Z"
   },
   {
    "duration": 234,
    "start_time": "2022-09-02T08:40:47.887Z"
   },
   {
    "duration": 149,
    "start_time": "2022-09-02T08:40:48.123Z"
   },
   {
    "duration": 233,
    "start_time": "2022-09-02T08:40:48.274Z"
   },
   {
    "duration": 240,
    "start_time": "2022-09-02T08:40:48.509Z"
   },
   {
    "duration": 223,
    "start_time": "2022-09-02T08:40:48.751Z"
   },
   {
    "duration": 17,
    "start_time": "2022-09-02T08:40:48.976Z"
   },
   {
    "duration": 250,
    "start_time": "2022-09-02T08:40:48.996Z"
   },
   {
    "duration": 357,
    "start_time": "2022-09-02T08:40:49.248Z"
   },
   {
    "duration": 268,
    "start_time": "2022-09-02T08:40:49.607Z"
   },
   {
    "duration": 267,
    "start_time": "2022-09-02T08:40:49.877Z"
   },
   {
    "duration": 105,
    "start_time": "2022-09-02T08:40:50.146Z"
   },
   {
    "duration": 50,
    "start_time": "2022-09-02T08:40:50.253Z"
   },
   {
    "duration": 189,
    "start_time": "2022-09-02T08:40:50.305Z"
   },
   {
    "duration": 183,
    "start_time": "2022-09-02T08:40:50.495Z"
   },
   {
    "duration": 22,
    "start_time": "2022-09-02T08:40:50.680Z"
   },
   {
    "duration": 177,
    "start_time": "2022-09-02T08:40:50.704Z"
   },
   {
    "duration": 151,
    "start_time": "2022-09-02T08:40:50.883Z"
   },
   {
    "duration": 168,
    "start_time": "2022-09-02T08:40:51.035Z"
   },
   {
    "duration": 176,
    "start_time": "2022-09-02T08:40:51.204Z"
   },
   {
    "duration": 13,
    "start_time": "2022-09-02T08:40:51.382Z"
   },
   {
    "duration": 164,
    "start_time": "2022-09-02T08:40:51.396Z"
   },
   {
    "duration": 6,
    "start_time": "2022-09-02T08:40:51.562Z"
   },
   {
    "duration": 169,
    "start_time": "2022-09-02T08:40:51.570Z"
   },
   {
    "duration": 5,
    "start_time": "2022-09-02T08:40:51.741Z"
   },
   {
    "duration": 29,
    "start_time": "2022-09-02T08:40:51.748Z"
   },
   {
    "duration": 212,
    "start_time": "2022-09-02T08:40:51.792Z"
   },
   {
    "duration": 12,
    "start_time": "2022-09-02T08:41:23.598Z"
   },
   {
    "duration": 3487,
    "start_time": "2022-09-02T08:41:32.776Z"
   },
   {
    "duration": 10,
    "start_time": "2022-09-02T08:41:36.265Z"
   },
   {
    "duration": 8,
    "start_time": "2022-09-02T08:41:36.277Z"
   },
   {
    "duration": 250,
    "start_time": "2022-09-02T08:41:36.287Z"
   },
   {
    "duration": 225,
    "start_time": "2022-09-02T08:41:36.539Z"
   },
   {
    "duration": 62,
    "start_time": "2022-09-02T08:41:36.766Z"
   },
   {
    "duration": 9,
    "start_time": "2022-09-02T08:41:36.830Z"
   },
   {
    "duration": 28,
    "start_time": "2022-09-02T08:41:36.841Z"
   },
   {
    "duration": 21,
    "start_time": "2022-09-02T08:41:36.870Z"
   },
   {
    "duration": 121,
    "start_time": "2022-09-02T08:41:36.895Z"
   },
   {
    "duration": 56,
    "start_time": "2022-09-02T08:41:37.018Z"
   },
   {
    "duration": 29,
    "start_time": "2022-09-02T08:41:37.075Z"
   },
   {
    "duration": 4,
    "start_time": "2022-09-02T08:41:37.106Z"
   },
   {
    "duration": 326,
    "start_time": "2022-09-02T08:41:37.112Z"
   },
   {
    "duration": 3,
    "start_time": "2022-09-02T08:41:37.440Z"
   },
   {
    "duration": 323,
    "start_time": "2022-09-02T08:41:37.445Z"
   },
   {
    "duration": 355,
    "start_time": "2022-09-02T08:41:37.770Z"
   },
   {
    "duration": 370,
    "start_time": "2022-09-02T08:41:38.127Z"
   },
   {
    "duration": 321,
    "start_time": "2022-09-02T08:41:38.499Z"
   },
   {
    "duration": 202,
    "start_time": "2022-09-02T08:41:38.821Z"
   },
   {
    "duration": 239,
    "start_time": "2022-09-02T08:41:39.024Z"
   },
   {
    "duration": 256,
    "start_time": "2022-09-02T08:41:39.265Z"
   },
   {
    "duration": 139,
    "start_time": "2022-09-02T08:41:39.523Z"
   },
   {
    "duration": 234,
    "start_time": "2022-09-02T08:41:39.664Z"
   },
   {
    "duration": 233,
    "start_time": "2022-09-02T08:41:39.900Z"
   },
   {
    "duration": 251,
    "start_time": "2022-09-02T08:41:40.135Z"
   },
   {
    "duration": 11,
    "start_time": "2022-09-02T08:41:40.392Z"
   },
   {
    "duration": 263,
    "start_time": "2022-09-02T08:41:40.407Z"
   },
   {
    "duration": 326,
    "start_time": "2022-09-02T08:41:40.672Z"
   },
   {
    "duration": 253,
    "start_time": "2022-09-02T08:41:41.000Z"
   },
   {
    "duration": 241,
    "start_time": "2022-09-02T08:41:41.254Z"
   },
   {
    "duration": 99,
    "start_time": "2022-09-02T08:41:41.497Z"
   },
   {
    "duration": 41,
    "start_time": "2022-09-02T08:41:41.598Z"
   },
   {
    "duration": 176,
    "start_time": "2022-09-02T08:41:41.641Z"
   },
   {
    "duration": 233,
    "start_time": "2022-09-02T08:41:41.820Z"
   },
   {
    "duration": 14,
    "start_time": "2022-09-02T08:41:42.056Z"
   },
   {
    "duration": 185,
    "start_time": "2022-09-02T08:41:42.074Z"
   },
   {
    "duration": 153,
    "start_time": "2022-09-02T08:41:42.260Z"
   },
   {
    "duration": 171,
    "start_time": "2022-09-02T08:41:42.415Z"
   },
   {
    "duration": 169,
    "start_time": "2022-09-02T08:41:42.590Z"
   },
   {
    "duration": 5,
    "start_time": "2022-09-02T08:41:42.761Z"
   },
   {
    "duration": 170,
    "start_time": "2022-09-02T08:41:42.768Z"
   },
   {
    "duration": 5,
    "start_time": "2022-09-02T08:41:42.940Z"
   },
   {
    "duration": 170,
    "start_time": "2022-09-02T08:41:42.947Z"
   },
   {
    "duration": 6,
    "start_time": "2022-09-02T08:41:43.118Z"
   },
   {
    "duration": 29,
    "start_time": "2022-09-02T08:41:43.125Z"
   },
   {
    "duration": 188,
    "start_time": "2022-09-02T08:41:43.156Z"
   },
   {
    "duration": 205,
    "start_time": "2022-09-02T08:42:41.873Z"
   },
   {
    "duration": 12,
    "start_time": "2022-09-02T08:42:45.904Z"
   },
   {
    "duration": 371,
    "start_time": "2022-09-02T08:45:24.191Z"
   },
   {
    "duration": 246,
    "start_time": "2022-09-02T08:45:32.995Z"
   },
   {
    "duration": 309,
    "start_time": "2022-09-02T08:45:51.877Z"
   },
   {
    "duration": 10,
    "start_time": "2022-09-02T08:45:55.275Z"
   },
   {
    "duration": 10,
    "start_time": "2022-09-02T08:46:19.022Z"
   },
   {
    "duration": 10,
    "start_time": "2022-09-02T08:46:48.462Z"
   },
   {
    "duration": 10,
    "start_time": "2022-09-02T08:47:11.062Z"
   },
   {
    "duration": 11,
    "start_time": "2022-09-02T08:47:27.295Z"
   },
   {
    "duration": 11,
    "start_time": "2022-09-02T08:47:46.002Z"
   },
   {
    "duration": 9,
    "start_time": "2022-09-02T08:48:03.574Z"
   },
   {
    "duration": 10,
    "start_time": "2022-09-02T08:48:18.646Z"
   },
   {
    "duration": 9,
    "start_time": "2022-09-02T08:48:33.681Z"
   },
   {
    "duration": 10,
    "start_time": "2022-09-02T08:48:49.363Z"
   },
   {
    "duration": 10,
    "start_time": "2022-09-02T08:49:07.968Z"
   },
   {
    "duration": 10,
    "start_time": "2022-09-02T08:50:33.120Z"
   },
   {
    "duration": 209,
    "start_time": "2022-09-02T08:50:50.667Z"
   },
   {
    "duration": 224,
    "start_time": "2022-09-02T08:51:43.492Z"
   },
   {
    "duration": 245,
    "start_time": "2022-09-02T08:51:48.260Z"
   },
   {
    "duration": 274,
    "start_time": "2022-09-02T08:52:21.715Z"
   },
   {
    "duration": 225,
    "start_time": "2022-09-02T08:52:38.566Z"
   },
   {
    "duration": 255,
    "start_time": "2022-09-02T08:53:09.772Z"
   },
   {
    "duration": 432,
    "start_time": "2022-09-02T08:53:47.948Z"
   },
   {
    "duration": 328,
    "start_time": "2022-09-02T08:54:03.608Z"
   },
   {
    "duration": 10,
    "start_time": "2022-09-02T08:54:20.447Z"
   },
   {
    "duration": 312,
    "start_time": "2022-09-02T08:54:36.939Z"
   },
   {
    "duration": 136,
    "start_time": "2022-09-02T08:55:20.259Z"
   },
   {
    "duration": 140,
    "start_time": "2022-09-02T08:55:31.536Z"
   },
   {
    "duration": 245,
    "start_time": "2022-09-02T08:56:28.383Z"
   },
   {
    "duration": 248,
    "start_time": "2022-09-02T08:56:39.203Z"
   },
   {
    "duration": 271,
    "start_time": "2022-09-02T08:56:58.831Z"
   },
   {
    "duration": 332,
    "start_time": "2022-09-02T08:58:01.406Z"
   },
   {
    "duration": 194,
    "start_time": "2022-09-02T08:58:12.002Z"
   },
   {
    "duration": 3538,
    "start_time": "2022-09-02T08:58:21.273Z"
   },
   {
    "duration": 10,
    "start_time": "2022-09-02T08:58:24.814Z"
   },
   {
    "duration": 5,
    "start_time": "2022-09-02T08:58:24.825Z"
   },
   {
    "duration": 258,
    "start_time": "2022-09-02T08:58:24.832Z"
   },
   {
    "duration": 219,
    "start_time": "2022-09-02T08:58:25.092Z"
   },
   {
    "duration": 47,
    "start_time": "2022-09-02T08:58:25.312Z"
   },
   {
    "duration": 8,
    "start_time": "2022-09-02T08:58:25.361Z"
   },
   {
    "duration": 16,
    "start_time": "2022-09-02T08:58:25.392Z"
   },
   {
    "duration": 3,
    "start_time": "2022-09-02T08:58:25.410Z"
   },
   {
    "duration": 135,
    "start_time": "2022-09-02T08:58:25.416Z"
   },
   {
    "duration": 68,
    "start_time": "2022-09-02T08:58:25.553Z"
   },
   {
    "duration": 16,
    "start_time": "2022-09-02T08:58:25.623Z"
   },
   {
    "duration": 4,
    "start_time": "2022-09-02T08:58:25.641Z"
   },
   {
    "duration": 326,
    "start_time": "2022-09-02T08:58:25.647Z"
   },
   {
    "duration": 4,
    "start_time": "2022-09-02T08:58:25.975Z"
   },
   {
    "duration": 324,
    "start_time": "2022-09-02T08:58:25.981Z"
   },
   {
    "duration": 343,
    "start_time": "2022-09-02T08:58:26.306Z"
   },
   {
    "duration": 10,
    "start_time": "2022-09-02T08:58:26.650Z"
   },
   {
    "duration": 458,
    "start_time": "2022-09-02T08:58:26.661Z"
   },
   {
    "duration": 201,
    "start_time": "2022-09-02T08:58:27.122Z"
   },
   {
    "duration": 259,
    "start_time": "2022-09-02T08:58:27.324Z"
   },
   {
    "duration": 230,
    "start_time": "2022-09-02T08:58:27.585Z"
   },
   {
    "duration": 152,
    "start_time": "2022-09-02T08:58:27.816Z"
   },
   {
    "duration": 242,
    "start_time": "2022-09-02T08:58:27.970Z"
   },
   {
    "duration": 222,
    "start_time": "2022-09-02T08:58:28.214Z"
   },
   {
    "duration": 231,
    "start_time": "2022-09-02T08:58:28.438Z"
   },
   {
    "duration": 246,
    "start_time": "2022-09-02T08:58:28.671Z"
   },
   {
    "duration": 233,
    "start_time": "2022-09-02T08:58:28.921Z"
   },
   {
    "duration": 369,
    "start_time": "2022-09-02T08:58:29.156Z"
   },
   {
    "duration": 255,
    "start_time": "2022-09-02T08:58:29.527Z"
   },
   {
    "duration": 94,
    "start_time": "2022-09-02T08:58:29.784Z"
   },
   {
    "duration": 54,
    "start_time": "2022-09-02T08:58:29.879Z"
   },
   {
    "duration": 182,
    "start_time": "2022-09-02T08:58:29.935Z"
   },
   {
    "duration": 190,
    "start_time": "2022-09-02T08:58:30.118Z"
   },
   {
    "duration": 13,
    "start_time": "2022-09-02T08:58:30.310Z"
   },
   {
    "duration": 190,
    "start_time": "2022-09-02T08:58:30.324Z"
   },
   {
    "duration": 164,
    "start_time": "2022-09-02T08:58:30.515Z"
   },
   {
    "duration": 171,
    "start_time": "2022-09-02T08:58:30.681Z"
   },
   {
    "duration": 173,
    "start_time": "2022-09-02T08:58:30.853Z"
   },
   {
    "duration": 6,
    "start_time": "2022-09-02T08:58:31.028Z"
   },
   {
    "duration": 182,
    "start_time": "2022-09-02T08:58:31.035Z"
   },
   {
    "duration": 5,
    "start_time": "2022-09-02T08:58:31.220Z"
   },
   {
    "duration": 262,
    "start_time": "2022-09-02T08:58:31.227Z"
   },
   {
    "duration": 6,
    "start_time": "2022-09-02T08:58:31.491Z"
   },
   {
    "duration": 34,
    "start_time": "2022-09-02T08:58:31.499Z"
   },
   {
    "duration": 184,
    "start_time": "2022-09-02T08:58:31.536Z"
   },
   {
    "duration": 150,
    "start_time": "2022-09-02T08:59:15.410Z"
   },
   {
    "duration": 3514,
    "start_time": "2022-09-02T08:59:23.165Z"
   },
   {
    "duration": 10,
    "start_time": "2022-09-02T08:59:26.681Z"
   },
   {
    "duration": 19,
    "start_time": "2022-09-02T08:59:26.692Z"
   },
   {
    "duration": 259,
    "start_time": "2022-09-02T08:59:26.713Z"
   },
   {
    "duration": 219,
    "start_time": "2022-09-02T08:59:26.974Z"
   },
   {
    "duration": 44,
    "start_time": "2022-09-02T08:59:27.195Z"
   },
   {
    "duration": 7,
    "start_time": "2022-09-02T08:59:27.241Z"
   },
   {
    "duration": 21,
    "start_time": "2022-09-02T08:59:27.249Z"
   },
   {
    "duration": 21,
    "start_time": "2022-09-02T08:59:27.272Z"
   },
   {
    "duration": 114,
    "start_time": "2022-09-02T08:59:27.295Z"
   },
   {
    "duration": 54,
    "start_time": "2022-09-02T08:59:27.411Z"
   },
   {
    "duration": 34,
    "start_time": "2022-09-02T08:59:27.466Z"
   },
   {
    "duration": 4,
    "start_time": "2022-09-02T08:59:27.502Z"
   },
   {
    "duration": 315,
    "start_time": "2022-09-02T08:59:27.508Z"
   },
   {
    "duration": 3,
    "start_time": "2022-09-02T08:59:27.825Z"
   },
   {
    "duration": 329,
    "start_time": "2022-09-02T08:59:27.829Z"
   },
   {
    "duration": 327,
    "start_time": "2022-09-02T08:59:28.159Z"
   },
   {
    "duration": 12,
    "start_time": "2022-09-02T08:59:28.488Z"
   },
   {
    "duration": 442,
    "start_time": "2022-09-02T08:59:28.501Z"
   },
   {
    "duration": 208,
    "start_time": "2022-09-02T08:59:28.944Z"
   },
   {
    "duration": 260,
    "start_time": "2022-09-02T08:59:29.153Z"
   },
   {
    "duration": 249,
    "start_time": "2022-09-02T08:59:29.415Z"
   },
   {
    "duration": 152,
    "start_time": "2022-09-02T08:59:29.665Z"
   },
   {
    "duration": 258,
    "start_time": "2022-09-02T08:59:29.819Z"
   },
   {
    "duration": 244,
    "start_time": "2022-09-02T08:59:30.079Z"
   },
   {
    "duration": 238,
    "start_time": "2022-09-02T08:59:30.325Z"
   },
   {
    "duration": 274,
    "start_time": "2022-09-02T08:59:30.565Z"
   },
   {
    "duration": 232,
    "start_time": "2022-09-02T08:59:30.843Z"
   },
   {
    "duration": 393,
    "start_time": "2022-09-02T08:59:31.077Z"
   },
   {
    "duration": 266,
    "start_time": "2022-09-02T08:59:31.472Z"
   },
   {
    "duration": 119,
    "start_time": "2022-09-02T08:59:31.740Z"
   },
   {
    "duration": 63,
    "start_time": "2022-09-02T08:59:31.861Z"
   },
   {
    "duration": 216,
    "start_time": "2022-09-02T08:59:31.926Z"
   },
   {
    "duration": 179,
    "start_time": "2022-09-02T08:59:32.143Z"
   },
   {
    "duration": 12,
    "start_time": "2022-09-02T08:59:32.323Z"
   },
   {
    "duration": 186,
    "start_time": "2022-09-02T08:59:32.337Z"
   },
   {
    "duration": 161,
    "start_time": "2022-09-02T08:59:32.525Z"
   },
   {
    "duration": 181,
    "start_time": "2022-09-02T08:59:32.692Z"
   },
   {
    "duration": 173,
    "start_time": "2022-09-02T08:59:32.876Z"
   },
   {
    "duration": 6,
    "start_time": "2022-09-02T08:59:33.051Z"
   },
   {
    "duration": 171,
    "start_time": "2022-09-02T08:59:33.059Z"
   },
   {
    "duration": 6,
    "start_time": "2022-09-02T08:59:33.232Z"
   },
   {
    "duration": 259,
    "start_time": "2022-09-02T08:59:33.240Z"
   },
   {
    "duration": 6,
    "start_time": "2022-09-02T08:59:33.501Z"
   },
   {
    "duration": 27,
    "start_time": "2022-09-02T08:59:33.509Z"
   },
   {
    "duration": 180,
    "start_time": "2022-09-02T08:59:33.539Z"
   },
   {
    "duration": 206,
    "start_time": "2022-09-02T09:00:26.377Z"
   },
   {
    "duration": 3490,
    "start_time": "2022-09-02T09:00:36.041Z"
   },
   {
    "duration": 10,
    "start_time": "2022-09-02T09:00:39.534Z"
   },
   {
    "duration": 16,
    "start_time": "2022-09-02T09:00:39.545Z"
   },
   {
    "duration": 247,
    "start_time": "2022-09-02T09:00:39.563Z"
   },
   {
    "duration": 221,
    "start_time": "2022-09-02T09:00:39.812Z"
   },
   {
    "duration": 58,
    "start_time": "2022-09-02T09:00:40.035Z"
   },
   {
    "duration": 7,
    "start_time": "2022-09-02T09:00:40.095Z"
   },
   {
    "duration": 21,
    "start_time": "2022-09-02T09:00:40.104Z"
   },
   {
    "duration": 4,
    "start_time": "2022-09-02T09:00:40.127Z"
   },
   {
    "duration": 123,
    "start_time": "2022-09-02T09:00:40.133Z"
   },
   {
    "duration": 71,
    "start_time": "2022-09-02T09:00:40.258Z"
   },
   {
    "duration": 19,
    "start_time": "2022-09-02T09:00:40.331Z"
   },
   {
    "duration": 5,
    "start_time": "2022-09-02T09:00:40.352Z"
   },
   {
    "duration": 348,
    "start_time": "2022-09-02T09:00:40.359Z"
   },
   {
    "duration": 3,
    "start_time": "2022-09-02T09:00:40.709Z"
   },
   {
    "duration": 308,
    "start_time": "2022-09-02T09:00:40.714Z"
   },
   {
    "duration": 326,
    "start_time": "2022-09-02T09:00:41.023Z"
   },
   {
    "duration": 10,
    "start_time": "2022-09-02T09:00:41.351Z"
   },
   {
    "duration": 490,
    "start_time": "2022-09-02T09:00:41.363Z"
   },
   {
    "duration": 265,
    "start_time": "2022-09-02T09:00:41.855Z"
   },
   {
    "duration": 255,
    "start_time": "2022-09-02T09:00:42.122Z"
   },
   {
    "duration": 243,
    "start_time": "2022-09-02T09:00:42.379Z"
   },
   {
    "duration": 156,
    "start_time": "2022-09-02T09:00:42.624Z"
   },
   {
    "duration": 242,
    "start_time": "2022-09-02T09:00:42.781Z"
   },
   {
    "duration": 228,
    "start_time": "2022-09-02T09:00:43.025Z"
   },
   {
    "duration": 244,
    "start_time": "2022-09-02T09:00:43.255Z"
   },
   {
    "duration": 260,
    "start_time": "2022-09-02T09:00:43.501Z"
   },
   {
    "duration": 234,
    "start_time": "2022-09-02T09:00:43.766Z"
   },
   {
    "duration": 358,
    "start_time": "2022-09-02T09:00:44.002Z"
   },
   {
    "duration": 248,
    "start_time": "2022-09-02T09:00:44.362Z"
   },
   {
    "duration": 108,
    "start_time": "2022-09-02T09:00:44.611Z"
   },
   {
    "duration": 44,
    "start_time": "2022-09-02T09:00:44.721Z"
   },
   {
    "duration": 175,
    "start_time": "2022-09-02T09:00:44.767Z"
   },
   {
    "duration": 189,
    "start_time": "2022-09-02T09:00:44.943Z"
   },
   {
    "duration": 174,
    "start_time": "2022-09-02T09:00:45.134Z"
   },
   {
    "duration": 153,
    "start_time": "2022-09-02T09:00:45.310Z"
   },
   {
    "duration": 181,
    "start_time": "2022-09-02T09:00:45.464Z"
   },
   {
    "duration": 171,
    "start_time": "2022-09-02T09:00:45.647Z"
   },
   {
    "duration": 6,
    "start_time": "2022-09-02T09:00:45.820Z"
   },
   {
    "duration": 164,
    "start_time": "2022-09-02T09:00:45.828Z"
   },
   {
    "duration": 5,
    "start_time": "2022-09-02T09:00:45.994Z"
   },
   {
    "duration": 252,
    "start_time": "2022-09-02T09:00:46.002Z"
   },
   {
    "duration": 6,
    "start_time": "2022-09-02T09:00:46.256Z"
   },
   {
    "duration": 42,
    "start_time": "2022-09-02T09:00:46.264Z"
   },
   {
    "duration": 164,
    "start_time": "2022-09-02T09:00:46.308Z"
   },
   {
    "duration": 4,
    "start_time": "2022-09-02T09:22:21.283Z"
   },
   {
    "duration": 73,
    "start_time": "2022-09-02T09:22:27.546Z"
   },
   {
    "duration": 41,
    "start_time": "2022-09-02T09:23:18.321Z"
   },
   {
    "duration": 3524,
    "start_time": "2022-09-02T09:24:58.111Z"
   },
   {
    "duration": 10,
    "start_time": "2022-09-02T09:25:01.638Z"
   },
   {
    "duration": 21,
    "start_time": "2022-09-02T09:25:01.650Z"
   },
   {
    "duration": 294,
    "start_time": "2022-09-02T09:25:01.673Z"
   },
   {
    "duration": 250,
    "start_time": "2022-09-02T09:25:01.970Z"
   },
   {
    "duration": 45,
    "start_time": "2022-09-02T09:25:02.222Z"
   },
   {
    "duration": 24,
    "start_time": "2022-09-02T09:25:02.269Z"
   },
   {
    "duration": 15,
    "start_time": "2022-09-02T09:25:02.294Z"
   },
   {
    "duration": 4,
    "start_time": "2022-09-02T09:25:02.311Z"
   },
   {
    "duration": 135,
    "start_time": "2022-09-02T09:25:02.317Z"
   },
   {
    "duration": 65,
    "start_time": "2022-09-02T09:25:02.453Z"
   },
   {
    "duration": 16,
    "start_time": "2022-09-02T09:25:02.520Z"
   },
   {
    "duration": 4,
    "start_time": "2022-09-02T09:25:02.537Z"
   },
   {
    "duration": 327,
    "start_time": "2022-09-02T09:25:02.543Z"
   },
   {
    "duration": 4,
    "start_time": "2022-09-02T09:25:02.872Z"
   },
   {
    "duration": 309,
    "start_time": "2022-09-02T09:25:02.878Z"
   },
   {
    "duration": 331,
    "start_time": "2022-09-02T09:25:03.191Z"
   },
   {
    "duration": 437,
    "start_time": "2022-09-02T09:25:03.524Z"
   },
   {
    "duration": 214,
    "start_time": "2022-09-02T09:25:03.963Z"
   },
   {
    "duration": 242,
    "start_time": "2022-09-02T09:25:04.179Z"
   },
   {
    "duration": 238,
    "start_time": "2022-09-02T09:25:04.423Z"
   },
   {
    "duration": 152,
    "start_time": "2022-09-02T09:25:04.663Z"
   },
   {
    "duration": 239,
    "start_time": "2022-09-02T09:25:04.817Z"
   },
   {
    "duration": 246,
    "start_time": "2022-09-02T09:25:05.058Z"
   },
   {
    "duration": 231,
    "start_time": "2022-09-02T09:25:05.306Z"
   },
   {
    "duration": 255,
    "start_time": "2022-09-02T09:25:05.539Z"
   },
   {
    "duration": 236,
    "start_time": "2022-09-02T09:25:05.796Z"
   },
   {
    "duration": 372,
    "start_time": "2022-09-02T09:25:06.035Z"
   },
   {
    "duration": 248,
    "start_time": "2022-09-02T09:25:06.409Z"
   },
   {
    "duration": 104,
    "start_time": "2022-09-02T09:25:06.659Z"
   },
   {
    "duration": 50,
    "start_time": "2022-09-02T09:25:06.765Z"
   },
   {
    "duration": 86,
    "start_time": "2022-09-02T09:25:06.817Z"
   },
   {
    "duration": 168,
    "start_time": "2022-09-02T09:25:06.906Z"
   },
   {
    "duration": 199,
    "start_time": "2022-09-02T09:25:07.076Z"
   },
   {
    "duration": 185,
    "start_time": "2022-09-02T09:25:07.276Z"
   },
   {
    "duration": 155,
    "start_time": "2022-09-02T09:25:07.462Z"
   },
   {
    "duration": 176,
    "start_time": "2022-09-02T09:25:07.619Z"
   },
   {
    "duration": 204,
    "start_time": "2022-09-02T09:25:07.798Z"
   },
   {
    "duration": 7,
    "start_time": "2022-09-02T09:25:08.004Z"
   },
   {
    "duration": 179,
    "start_time": "2022-09-02T09:25:08.013Z"
   },
   {
    "duration": 5,
    "start_time": "2022-09-02T09:25:08.194Z"
   },
   {
    "duration": 250,
    "start_time": "2022-09-02T09:25:08.200Z"
   },
   {
    "duration": 5,
    "start_time": "2022-09-02T09:25:08.451Z"
   },
   {
    "duration": 41,
    "start_time": "2022-09-02T09:25:08.458Z"
   },
   {
    "duration": 172,
    "start_time": "2022-09-02T09:25:08.500Z"
   },
   {
    "duration": 169,
    "start_time": "2022-09-02T09:27:34.812Z"
   },
   {
    "duration": 153,
    "start_time": "2022-09-02T09:27:57.507Z"
   },
   {
    "duration": 12,
    "start_time": "2022-09-02T09:28:05.473Z"
   },
   {
    "duration": 3387,
    "start_time": "2022-09-02T09:28:32.333Z"
   },
   {
    "duration": 10,
    "start_time": "2022-09-02T09:28:35.722Z"
   },
   {
    "duration": 8,
    "start_time": "2022-09-02T09:28:35.734Z"
   },
   {
    "duration": 234,
    "start_time": "2022-09-02T09:28:35.745Z"
   },
   {
    "duration": 214,
    "start_time": "2022-09-02T09:28:35.982Z"
   },
   {
    "duration": 46,
    "start_time": "2022-09-02T09:28:36.197Z"
   },
   {
    "duration": 6,
    "start_time": "2022-09-02T09:28:36.245Z"
   },
   {
    "duration": 39,
    "start_time": "2022-09-02T09:28:36.253Z"
   },
   {
    "duration": 4,
    "start_time": "2022-09-02T09:28:36.294Z"
   },
   {
    "duration": 117,
    "start_time": "2022-09-02T09:28:36.300Z"
   },
   {
    "duration": 53,
    "start_time": "2022-09-02T09:28:36.419Z"
   },
   {
    "duration": 32,
    "start_time": "2022-09-02T09:28:36.475Z"
   },
   {
    "duration": 5,
    "start_time": "2022-09-02T09:28:36.509Z"
   },
   {
    "duration": 333,
    "start_time": "2022-09-02T09:28:36.516Z"
   },
   {
    "duration": 4,
    "start_time": "2022-09-02T09:28:36.851Z"
   },
   {
    "duration": 333,
    "start_time": "2022-09-02T09:28:36.858Z"
   },
   {
    "duration": 368,
    "start_time": "2022-09-02T09:28:37.193Z"
   },
   {
    "duration": 476,
    "start_time": "2022-09-02T09:28:37.563Z"
   },
   {
    "duration": 207,
    "start_time": "2022-09-02T09:28:38.041Z"
   },
   {
    "duration": 255,
    "start_time": "2022-09-02T09:28:38.250Z"
   },
   {
    "duration": 240,
    "start_time": "2022-09-02T09:28:38.507Z"
   },
   {
    "duration": 156,
    "start_time": "2022-09-02T09:28:38.749Z"
   },
   {
    "duration": 247,
    "start_time": "2022-09-02T09:28:38.906Z"
   },
   {
    "duration": 241,
    "start_time": "2022-09-02T09:28:39.155Z"
   },
   {
    "duration": 228,
    "start_time": "2022-09-02T09:28:39.399Z"
   },
   {
    "duration": 255,
    "start_time": "2022-09-02T09:28:39.629Z"
   },
   {
    "duration": 235,
    "start_time": "2022-09-02T09:28:39.886Z"
   },
   {
    "duration": 411,
    "start_time": "2022-09-02T09:28:40.125Z"
   },
   {
    "duration": 253,
    "start_time": "2022-09-02T09:28:40.538Z"
   },
   {
    "duration": 105,
    "start_time": "2022-09-02T09:28:40.793Z"
   },
   {
    "duration": 44,
    "start_time": "2022-09-02T09:28:40.900Z"
   },
   {
    "duration": 84,
    "start_time": "2022-09-02T09:28:40.946Z"
   },
   {
    "duration": 157,
    "start_time": "2022-09-02T09:28:41.032Z"
   },
   {
    "duration": 12,
    "start_time": "2022-09-02T09:28:41.192Z"
   },
   {
    "duration": 194,
    "start_time": "2022-09-02T09:28:41.206Z"
   },
   {
    "duration": 183,
    "start_time": "2022-09-02T09:28:41.402Z"
   },
   {
    "duration": 149,
    "start_time": "2022-09-02T09:28:41.591Z"
   },
   {
    "duration": 220,
    "start_time": "2022-09-02T09:28:41.742Z"
   },
   {
    "duration": 224,
    "start_time": "2022-09-02T09:28:41.965Z"
   },
   {
    "duration": 6,
    "start_time": "2022-09-02T09:28:42.191Z"
   },
   {
    "duration": 172,
    "start_time": "2022-09-02T09:28:42.199Z"
   },
   {
    "duration": 6,
    "start_time": "2022-09-02T09:28:42.372Z"
   },
   {
    "duration": 252,
    "start_time": "2022-09-02T09:28:42.380Z"
   },
   {
    "duration": 5,
    "start_time": "2022-09-02T09:28:42.633Z"
   },
   {
    "duration": 24,
    "start_time": "2022-09-02T09:28:42.640Z"
   },
   {
    "duration": 175,
    "start_time": "2022-09-02T09:28:42.665Z"
   },
   {
    "duration": 114,
    "start_time": "2022-09-02T09:30:14.396Z"
   },
   {
    "duration": 123,
    "start_time": "2022-09-02T09:30:25.764Z"
   },
   {
    "duration": 115,
    "start_time": "2022-09-02T09:30:41.908Z"
   },
   {
    "duration": 78,
    "start_time": "2022-09-02T09:30:54.687Z"
   },
   {
    "duration": 130,
    "start_time": "2022-09-02T09:31:04.463Z"
   },
   {
    "duration": 25,
    "start_time": "2022-09-02T09:31:19.160Z"
   },
   {
    "duration": 11,
    "start_time": "2022-09-02T09:34:32.566Z"
   },
   {
    "duration": 3349,
    "start_time": "2022-09-02T09:34:44.247Z"
   },
   {
    "duration": 11,
    "start_time": "2022-09-02T09:34:47.598Z"
   },
   {
    "duration": 113,
    "start_time": "2022-09-02T09:34:47.611Z"
   },
   {
    "duration": 0,
    "start_time": "2022-09-02T09:34:47.728Z"
   },
   {
    "duration": 0,
    "start_time": "2022-09-02T09:34:47.729Z"
   },
   {
    "duration": 0,
    "start_time": "2022-09-02T09:34:47.731Z"
   },
   {
    "duration": 0,
    "start_time": "2022-09-02T09:34:47.732Z"
   },
   {
    "duration": 0,
    "start_time": "2022-09-02T09:34:47.733Z"
   },
   {
    "duration": 0,
    "start_time": "2022-09-02T09:34:47.734Z"
   },
   {
    "duration": 0,
    "start_time": "2022-09-02T09:34:47.735Z"
   },
   {
    "duration": 0,
    "start_time": "2022-09-02T09:34:47.736Z"
   },
   {
    "duration": 0,
    "start_time": "2022-09-02T09:34:47.738Z"
   },
   {
    "duration": 0,
    "start_time": "2022-09-02T09:34:47.739Z"
   },
   {
    "duration": 0,
    "start_time": "2022-09-02T09:34:47.740Z"
   },
   {
    "duration": 0,
    "start_time": "2022-09-02T09:34:47.740Z"
   },
   {
    "duration": 0,
    "start_time": "2022-09-02T09:34:47.741Z"
   },
   {
    "duration": 0,
    "start_time": "2022-09-02T09:34:47.743Z"
   },
   {
    "duration": 0,
    "start_time": "2022-09-02T09:34:47.743Z"
   },
   {
    "duration": 0,
    "start_time": "2022-09-02T09:34:47.744Z"
   },
   {
    "duration": 0,
    "start_time": "2022-09-02T09:34:47.745Z"
   },
   {
    "duration": 0,
    "start_time": "2022-09-02T09:34:47.746Z"
   },
   {
    "duration": 0,
    "start_time": "2022-09-02T09:34:47.748Z"
   },
   {
    "duration": 0,
    "start_time": "2022-09-02T09:34:47.748Z"
   },
   {
    "duration": 0,
    "start_time": "2022-09-02T09:34:47.750Z"
   },
   {
    "duration": 0,
    "start_time": "2022-09-02T09:34:47.792Z"
   },
   {
    "duration": 0,
    "start_time": "2022-09-02T09:34:47.793Z"
   },
   {
    "duration": 0,
    "start_time": "2022-09-02T09:34:47.794Z"
   },
   {
    "duration": 0,
    "start_time": "2022-09-02T09:34:47.796Z"
   },
   {
    "duration": 0,
    "start_time": "2022-09-02T09:34:47.797Z"
   },
   {
    "duration": 0,
    "start_time": "2022-09-02T09:34:47.798Z"
   },
   {
    "duration": 0,
    "start_time": "2022-09-02T09:34:47.799Z"
   },
   {
    "duration": 0,
    "start_time": "2022-09-02T09:34:47.800Z"
   },
   {
    "duration": 0,
    "start_time": "2022-09-02T09:34:47.802Z"
   },
   {
    "duration": 0,
    "start_time": "2022-09-02T09:34:47.803Z"
   },
   {
    "duration": 0,
    "start_time": "2022-09-02T09:34:47.804Z"
   },
   {
    "duration": 0,
    "start_time": "2022-09-02T09:34:47.805Z"
   },
   {
    "duration": 0,
    "start_time": "2022-09-02T09:34:47.806Z"
   },
   {
    "duration": 0,
    "start_time": "2022-09-02T09:34:47.807Z"
   },
   {
    "duration": 0,
    "start_time": "2022-09-02T09:34:47.808Z"
   },
   {
    "duration": 0,
    "start_time": "2022-09-02T09:34:47.809Z"
   },
   {
    "duration": 0,
    "start_time": "2022-09-02T09:34:47.810Z"
   },
   {
    "duration": 0,
    "start_time": "2022-09-02T09:34:47.811Z"
   },
   {
    "duration": 0,
    "start_time": "2022-09-02T09:34:47.813Z"
   },
   {
    "duration": 0,
    "start_time": "2022-09-02T09:34:47.814Z"
   },
   {
    "duration": 0,
    "start_time": "2022-09-02T09:34:47.815Z"
   },
   {
    "duration": 0,
    "start_time": "2022-09-02T09:34:47.817Z"
   },
   {
    "duration": 0,
    "start_time": "2022-09-02T09:34:47.818Z"
   },
   {
    "duration": 8,
    "start_time": "2022-09-02T09:35:19.106Z"
   },
   {
    "duration": 9,
    "start_time": "2022-09-02T09:35:28.957Z"
   },
   {
    "duration": 5,
    "start_time": "2022-09-02T09:42:14.091Z"
   },
   {
    "duration": 4,
    "start_time": "2022-09-02T09:46:48.851Z"
   },
   {
    "duration": 333,
    "start_time": "2022-09-02T09:53:18.519Z"
   },
   {
    "duration": 3,
    "start_time": "2022-09-02T09:55:03.087Z"
   },
   {
    "duration": 3511,
    "start_time": "2022-09-02T09:55:12.648Z"
   },
   {
    "duration": 11,
    "start_time": "2022-09-02T09:55:16.162Z"
   },
   {
    "duration": 4,
    "start_time": "2022-09-02T09:55:16.175Z"
   },
   {
    "duration": 8,
    "start_time": "2022-09-02T09:55:16.181Z"
   },
   {
    "duration": 249,
    "start_time": "2022-09-02T09:55:16.190Z"
   },
   {
    "duration": 222,
    "start_time": "2022-09-02T09:55:16.441Z"
   },
   {
    "duration": 65,
    "start_time": "2022-09-02T09:55:16.665Z"
   },
   {
    "duration": 7,
    "start_time": "2022-09-02T09:55:16.731Z"
   },
   {
    "duration": 25,
    "start_time": "2022-09-02T09:55:16.740Z"
   },
   {
    "duration": 4,
    "start_time": "2022-09-02T09:55:16.769Z"
   },
   {
    "duration": 153,
    "start_time": "2022-09-02T09:55:16.774Z"
   },
   {
    "duration": 64,
    "start_time": "2022-09-02T09:55:16.929Z"
   },
   {
    "duration": 17,
    "start_time": "2022-09-02T09:55:16.994Z"
   },
   {
    "duration": 4,
    "start_time": "2022-09-02T09:55:17.012Z"
   },
   {
    "duration": 343,
    "start_time": "2022-09-02T09:55:17.018Z"
   },
   {
    "duration": 4,
    "start_time": "2022-09-02T09:55:17.363Z"
   },
   {
    "duration": 339,
    "start_time": "2022-09-02T09:55:17.368Z"
   },
   {
    "duration": 373,
    "start_time": "2022-09-02T09:55:17.709Z"
   },
   {
    "duration": 465,
    "start_time": "2022-09-02T09:55:18.083Z"
   },
   {
    "duration": 224,
    "start_time": "2022-09-02T09:55:18.549Z"
   },
   {
    "duration": 258,
    "start_time": "2022-09-02T09:55:18.775Z"
   },
   {
    "duration": 232,
    "start_time": "2022-09-02T09:55:19.035Z"
   },
   {
    "duration": 162,
    "start_time": "2022-09-02T09:55:19.269Z"
   },
   {
    "duration": 260,
    "start_time": "2022-09-02T09:55:19.434Z"
   },
   {
    "duration": 252,
    "start_time": "2022-09-02T09:55:19.696Z"
   },
   {
    "duration": 245,
    "start_time": "2022-09-02T09:55:19.949Z"
   },
   {
    "duration": 253,
    "start_time": "2022-09-02T09:55:20.196Z"
   },
   {
    "duration": 245,
    "start_time": "2022-09-02T09:55:20.452Z"
   },
   {
    "duration": 381,
    "start_time": "2022-09-02T09:55:20.699Z"
   },
   {
    "duration": 253,
    "start_time": "2022-09-02T09:55:21.082Z"
   },
   {
    "duration": 102,
    "start_time": "2022-09-02T09:55:21.337Z"
   },
   {
    "duration": 43,
    "start_time": "2022-09-02T09:55:21.440Z"
   },
   {
    "duration": 74,
    "start_time": "2022-09-02T09:55:21.492Z"
   },
   {
    "duration": 169,
    "start_time": "2022-09-02T09:55:21.568Z"
   },
   {
    "duration": 12,
    "start_time": "2022-09-02T09:55:21.739Z"
   },
   {
    "duration": 256,
    "start_time": "2022-09-02T09:55:21.753Z"
   },
   {
    "duration": 223,
    "start_time": "2022-09-02T09:55:22.011Z"
   },
   {
    "duration": 186,
    "start_time": "2022-09-02T09:55:22.236Z"
   },
   {
    "duration": 171,
    "start_time": "2022-09-02T09:55:22.423Z"
   },
   {
    "duration": 174,
    "start_time": "2022-09-02T09:55:22.595Z"
   },
   {
    "duration": 5,
    "start_time": "2022-09-02T09:55:22.771Z"
   },
   {
    "duration": 172,
    "start_time": "2022-09-02T09:55:22.777Z"
   },
   {
    "duration": 6,
    "start_time": "2022-09-02T09:55:22.952Z"
   },
   {
    "duration": 246,
    "start_time": "2022-09-02T09:55:22.960Z"
   },
   {
    "duration": 5,
    "start_time": "2022-09-02T09:55:23.207Z"
   },
   {
    "duration": 25,
    "start_time": "2022-09-02T09:55:23.213Z"
   },
   {
    "duration": 187,
    "start_time": "2022-09-02T09:55:23.240Z"
   },
   {
    "duration": 24,
    "start_time": "2022-09-02T09:56:14.795Z"
   },
   {
    "duration": 1464,
    "start_time": "2022-09-02T09:57:50.364Z"
   },
   {
    "duration": 1282,
    "start_time": "2022-09-02T09:58:20.743Z"
   },
   {
    "duration": 1474,
    "start_time": "2022-09-02T10:00:44.802Z"
   },
   {
    "duration": 22,
    "start_time": "2022-09-02T10:00:53.622Z"
   },
   {
    "duration": 332,
    "start_time": "2022-09-02T10:27:08.603Z"
   },
   {
    "duration": 242,
    "start_time": "2022-09-02T10:28:41.134Z"
   },
   {
    "duration": 3515,
    "start_time": "2022-09-03T06:25:14.370Z"
   },
   {
    "duration": 10,
    "start_time": "2022-09-03T06:25:17.888Z"
   },
   {
    "duration": 6,
    "start_time": "2022-09-03T06:25:17.900Z"
   },
   {
    "duration": 241,
    "start_time": "2022-09-03T06:25:17.907Z"
   },
   {
    "duration": 230,
    "start_time": "2022-09-03T06:25:18.151Z"
   },
   {
    "duration": 41,
    "start_time": "2022-09-03T06:25:18.382Z"
   },
   {
    "duration": 7,
    "start_time": "2022-09-03T06:25:18.425Z"
   },
   {
    "duration": 34,
    "start_time": "2022-09-03T06:25:18.433Z"
   },
   {
    "duration": 5,
    "start_time": "2022-09-03T06:25:18.469Z"
   },
   {
    "duration": 147,
    "start_time": "2022-09-03T06:25:18.476Z"
   },
   {
    "duration": 61,
    "start_time": "2022-09-03T06:25:18.625Z"
   },
   {
    "duration": 15,
    "start_time": "2022-09-03T06:25:18.687Z"
   },
   {
    "duration": 5,
    "start_time": "2022-09-03T06:25:18.704Z"
   },
   {
    "duration": 307,
    "start_time": "2022-09-03T06:25:18.712Z"
   },
   {
    "duration": 4,
    "start_time": "2022-09-03T06:25:19.021Z"
   },
   {
    "duration": 302,
    "start_time": "2022-09-03T06:25:19.026Z"
   },
   {
    "duration": 333,
    "start_time": "2022-09-03T06:25:19.330Z"
   },
   {
    "duration": 420,
    "start_time": "2022-09-03T06:25:19.664Z"
   },
   {
    "duration": 198,
    "start_time": "2022-09-03T06:25:20.086Z"
   },
   {
    "duration": 233,
    "start_time": "2022-09-03T06:25:20.285Z"
   },
   {
    "duration": 242,
    "start_time": "2022-09-03T06:25:20.520Z"
   },
   {
    "duration": 140,
    "start_time": "2022-09-03T06:25:20.764Z"
   },
   {
    "duration": 221,
    "start_time": "2022-09-03T06:25:20.905Z"
   },
   {
    "duration": 223,
    "start_time": "2022-09-03T06:25:21.128Z"
   },
   {
    "duration": 217,
    "start_time": "2022-09-03T06:25:21.358Z"
   },
   {
    "duration": 222,
    "start_time": "2022-09-03T06:25:21.578Z"
   },
   {
    "duration": 261,
    "start_time": "2022-09-03T06:25:21.801Z"
   },
   {
    "duration": 337,
    "start_time": "2022-09-03T06:25:22.064Z"
   },
   {
    "duration": 91,
    "start_time": "2022-09-03T06:25:22.402Z"
   },
   {
    "duration": 41,
    "start_time": "2022-09-03T06:25:22.495Z"
   },
   {
    "duration": 80,
    "start_time": "2022-09-03T06:25:22.538Z"
   },
   {
    "duration": 146,
    "start_time": "2022-09-03T06:25:22.619Z"
   },
   {
    "duration": 10,
    "start_time": "2022-09-03T06:25:22.767Z"
   },
   {
    "duration": 184,
    "start_time": "2022-09-03T06:25:22.779Z"
   },
   {
    "duration": 179,
    "start_time": "2022-09-03T06:25:22.965Z"
   },
   {
    "duration": 154,
    "start_time": "2022-09-03T06:25:23.146Z"
   },
   {
    "duration": 151,
    "start_time": "2022-09-03T06:25:23.302Z"
   },
   {
    "duration": 150,
    "start_time": "2022-09-03T06:25:23.454Z"
   },
   {
    "duration": 5,
    "start_time": "2022-09-03T06:25:23.605Z"
   },
   {
    "duration": 152,
    "start_time": "2022-09-03T06:25:23.611Z"
   },
   {
    "duration": 5,
    "start_time": "2022-09-03T06:25:23.767Z"
   },
   {
    "duration": 169,
    "start_time": "2022-09-03T06:25:23.774Z"
   },
   {
    "duration": 4,
    "start_time": "2022-09-03T06:25:23.945Z"
   },
   {
    "duration": 39,
    "start_time": "2022-09-03T06:25:23.958Z"
   },
   {
    "duration": 160,
    "start_time": "2022-09-03T06:25:23.999Z"
   },
   {
    "duration": 48,
    "start_time": "2022-09-03T08:38:07.472Z"
   },
   {
    "duration": 6,
    "start_time": "2022-09-03T08:38:30.094Z"
   },
   {
    "duration": 3684,
    "start_time": "2022-09-03T08:38:42.029Z"
   },
   {
    "duration": 10,
    "start_time": "2022-09-03T08:38:45.716Z"
   },
   {
    "duration": 8,
    "start_time": "2022-09-03T08:38:45.727Z"
   },
   {
    "duration": 226,
    "start_time": "2022-09-03T08:38:45.738Z"
   },
   {
    "duration": 209,
    "start_time": "2022-09-03T08:38:45.966Z"
   },
   {
    "duration": 44,
    "start_time": "2022-09-03T08:38:46.177Z"
   },
   {
    "duration": 7,
    "start_time": "2022-09-03T08:38:46.222Z"
   },
   {
    "duration": 37,
    "start_time": "2022-09-03T08:38:46.230Z"
   },
   {
    "duration": 3,
    "start_time": "2022-09-03T08:38:46.269Z"
   },
   {
    "duration": 113,
    "start_time": "2022-09-03T08:38:46.274Z"
   },
   {
    "duration": 51,
    "start_time": "2022-09-03T08:38:46.389Z"
   },
   {
    "duration": 28,
    "start_time": "2022-09-03T08:38:46.442Z"
   },
   {
    "duration": 3,
    "start_time": "2022-09-03T08:38:46.472Z"
   },
   {
    "duration": 289,
    "start_time": "2022-09-03T08:38:46.476Z"
   },
   {
    "duration": 4,
    "start_time": "2022-09-03T08:38:46.766Z"
   },
   {
    "duration": 275,
    "start_time": "2022-09-03T08:38:46.772Z"
   },
   {
    "duration": 318,
    "start_time": "2022-09-03T08:38:47.048Z"
   },
   {
    "duration": 404,
    "start_time": "2022-09-03T08:38:47.368Z"
   },
   {
    "duration": 278,
    "start_time": "2022-09-03T08:38:47.774Z"
   },
   {
    "duration": 186,
    "start_time": "2022-09-03T08:38:48.058Z"
   },
   {
    "duration": 219,
    "start_time": "2022-09-03T08:38:48.245Z"
   },
   {
    "duration": 208,
    "start_time": "2022-09-03T08:38:48.465Z"
   },
   {
    "duration": 133,
    "start_time": "2022-09-03T08:38:48.675Z"
   },
   {
    "duration": 217,
    "start_time": "2022-09-03T08:38:48.810Z"
   },
   {
    "duration": 216,
    "start_time": "2022-09-03T08:38:49.029Z"
   },
   {
    "duration": 217,
    "start_time": "2022-09-03T08:38:49.246Z"
   },
   {
    "duration": 322,
    "start_time": "2022-09-03T08:38:49.464Z"
   },
   {
    "duration": 237,
    "start_time": "2022-09-03T08:38:49.789Z"
   },
   {
    "duration": 223,
    "start_time": "2022-09-03T08:38:50.027Z"
   },
   {
    "duration": 91,
    "start_time": "2022-09-03T08:38:50.252Z"
   },
   {
    "duration": 48,
    "start_time": "2022-09-03T08:38:50.345Z"
   },
   {
    "duration": 84,
    "start_time": "2022-09-03T08:38:50.395Z"
   },
   {
    "duration": 158,
    "start_time": "2022-09-03T08:38:50.482Z"
   },
   {
    "duration": 17,
    "start_time": "2022-09-03T08:38:50.642Z"
   },
   {
    "duration": 172,
    "start_time": "2022-09-03T08:38:50.660Z"
   },
   {
    "duration": 154,
    "start_time": "2022-09-03T08:38:50.834Z"
   },
   {
    "duration": 140,
    "start_time": "2022-09-03T08:38:50.990Z"
   },
   {
    "duration": 159,
    "start_time": "2022-09-03T08:38:51.132Z"
   },
   {
    "duration": 154,
    "start_time": "2022-09-03T08:38:51.293Z"
   },
   {
    "duration": 10,
    "start_time": "2022-09-03T08:38:51.449Z"
   },
   {
    "duration": 229,
    "start_time": "2022-09-03T08:38:51.461Z"
   },
   {
    "duration": 5,
    "start_time": "2022-09-03T08:38:51.692Z"
   },
   {
    "duration": 160,
    "start_time": "2022-09-03T08:38:51.699Z"
   },
   {
    "duration": 5,
    "start_time": "2022-09-03T08:38:51.861Z"
   },
   {
    "duration": 22,
    "start_time": "2022-09-03T08:38:51.867Z"
   },
   {
    "duration": 167,
    "start_time": "2022-09-03T08:38:51.890Z"
   },
   {
    "duration": 258,
    "start_time": "2022-09-03T08:42:06.747Z"
   },
   {
    "duration": 879,
    "start_time": "2022-09-03T08:45:28.542Z"
   },
   {
    "duration": 731,
    "start_time": "2022-09-03T08:46:01.213Z"
   },
   {
    "duration": 3390,
    "start_time": "2022-09-03T08:46:07.735Z"
   },
   {
    "duration": 10,
    "start_time": "2022-09-03T08:46:11.128Z"
   },
   {
    "duration": 5,
    "start_time": "2022-09-03T08:46:11.140Z"
   },
   {
    "duration": 246,
    "start_time": "2022-09-03T08:46:11.148Z"
   },
   {
    "duration": 214,
    "start_time": "2022-09-03T08:46:11.396Z"
   },
   {
    "duration": 48,
    "start_time": "2022-09-03T08:46:11.612Z"
   },
   {
    "duration": 7,
    "start_time": "2022-09-03T08:46:11.662Z"
   },
   {
    "duration": 16,
    "start_time": "2022-09-03T08:46:11.671Z"
   },
   {
    "duration": 4,
    "start_time": "2022-09-03T08:46:11.688Z"
   },
   {
    "duration": 119,
    "start_time": "2022-09-03T08:46:11.695Z"
   },
   {
    "duration": 60,
    "start_time": "2022-09-03T08:46:11.816Z"
   },
   {
    "duration": 16,
    "start_time": "2022-09-03T08:46:11.878Z"
   },
   {
    "duration": 5,
    "start_time": "2022-09-03T08:46:11.895Z"
   },
   {
    "duration": 297,
    "start_time": "2022-09-03T08:46:11.902Z"
   },
   {
    "duration": 4,
    "start_time": "2022-09-03T08:46:12.200Z"
   },
   {
    "duration": 299,
    "start_time": "2022-09-03T08:46:12.206Z"
   },
   {
    "duration": 311,
    "start_time": "2022-09-03T08:46:12.507Z"
   },
   {
    "duration": 39,
    "start_time": "2022-09-03T08:46:12.821Z"
   },
   {
    "duration": 0,
    "start_time": "2022-09-03T08:46:12.862Z"
   },
   {
    "duration": 0,
    "start_time": "2022-09-03T08:46:12.863Z"
   },
   {
    "duration": 0,
    "start_time": "2022-09-03T08:46:12.865Z"
   },
   {
    "duration": 0,
    "start_time": "2022-09-03T08:46:12.866Z"
   },
   {
    "duration": 0,
    "start_time": "2022-09-03T08:46:12.867Z"
   },
   {
    "duration": 0,
    "start_time": "2022-09-03T08:46:12.868Z"
   },
   {
    "duration": 0,
    "start_time": "2022-09-03T08:46:12.870Z"
   },
   {
    "duration": 0,
    "start_time": "2022-09-03T08:46:12.871Z"
   },
   {
    "duration": 0,
    "start_time": "2022-09-03T08:46:12.872Z"
   },
   {
    "duration": 0,
    "start_time": "2022-09-03T08:46:12.874Z"
   },
   {
    "duration": 0,
    "start_time": "2022-09-03T08:46:12.875Z"
   },
   {
    "duration": 0,
    "start_time": "2022-09-03T08:46:12.876Z"
   },
   {
    "duration": 0,
    "start_time": "2022-09-03T08:46:12.877Z"
   },
   {
    "duration": 0,
    "start_time": "2022-09-03T08:46:12.879Z"
   },
   {
    "duration": 0,
    "start_time": "2022-09-03T08:46:12.880Z"
   },
   {
    "duration": 0,
    "start_time": "2022-09-03T08:46:13.032Z"
   },
   {
    "duration": 0,
    "start_time": "2022-09-03T08:46:13.033Z"
   },
   {
    "duration": 0,
    "start_time": "2022-09-03T08:46:13.035Z"
   },
   {
    "duration": 0,
    "start_time": "2022-09-03T08:46:13.037Z"
   },
   {
    "duration": 0,
    "start_time": "2022-09-03T08:46:13.038Z"
   },
   {
    "duration": 0,
    "start_time": "2022-09-03T08:46:13.058Z"
   },
   {
    "duration": 0,
    "start_time": "2022-09-03T08:46:13.059Z"
   },
   {
    "duration": 0,
    "start_time": "2022-09-03T08:46:13.061Z"
   },
   {
    "duration": 0,
    "start_time": "2022-09-03T08:46:13.062Z"
   },
   {
    "duration": 0,
    "start_time": "2022-09-03T08:46:13.063Z"
   },
   {
    "duration": 0,
    "start_time": "2022-09-03T08:46:13.065Z"
   },
   {
    "duration": 0,
    "start_time": "2022-09-03T08:46:13.066Z"
   },
   {
    "duration": 0,
    "start_time": "2022-09-03T08:46:13.068Z"
   },
   {
    "duration": 0,
    "start_time": "2022-09-03T08:46:13.069Z"
   },
   {
    "duration": 0,
    "start_time": "2022-09-03T08:46:13.071Z"
   },
   {
    "duration": 960,
    "start_time": "2022-09-03T08:46:32.828Z"
   },
   {
    "duration": 3157,
    "start_time": "2022-09-03T08:46:40.404Z"
   },
   {
    "duration": 10,
    "start_time": "2022-09-03T08:46:43.564Z"
   },
   {
    "duration": 5,
    "start_time": "2022-09-03T08:46:43.575Z"
   },
   {
    "duration": 237,
    "start_time": "2022-09-03T08:46:43.582Z"
   },
   {
    "duration": 197,
    "start_time": "2022-09-03T08:46:43.821Z"
   },
   {
    "duration": 43,
    "start_time": "2022-09-03T08:46:44.020Z"
   },
   {
    "duration": 6,
    "start_time": "2022-09-03T08:46:44.065Z"
   },
   {
    "duration": 18,
    "start_time": "2022-09-03T08:46:44.073Z"
   },
   {
    "duration": 4,
    "start_time": "2022-09-03T08:46:44.092Z"
   },
   {
    "duration": 126,
    "start_time": "2022-09-03T08:46:44.099Z"
   },
   {
    "duration": 61,
    "start_time": "2022-09-03T08:46:44.227Z"
   },
   {
    "duration": 14,
    "start_time": "2022-09-03T08:46:44.289Z"
   },
   {
    "duration": 10,
    "start_time": "2022-09-03T08:46:44.305Z"
   },
   {
    "duration": 287,
    "start_time": "2022-09-03T08:46:44.316Z"
   },
   {
    "duration": 4,
    "start_time": "2022-09-03T08:46:44.605Z"
   },
   {
    "duration": 284,
    "start_time": "2022-09-03T08:46:44.610Z"
   },
   {
    "duration": 311,
    "start_time": "2022-09-03T08:46:44.895Z"
   },
   {
    "duration": 58,
    "start_time": "2022-09-03T08:46:45.208Z"
   },
   {
    "duration": 0,
    "start_time": "2022-09-03T08:46:45.268Z"
   },
   {
    "duration": 0,
    "start_time": "2022-09-03T08:46:45.269Z"
   },
   {
    "duration": 0,
    "start_time": "2022-09-03T08:46:45.270Z"
   },
   {
    "duration": 0,
    "start_time": "2022-09-03T08:46:45.272Z"
   },
   {
    "duration": 0,
    "start_time": "2022-09-03T08:46:45.274Z"
   },
   {
    "duration": 0,
    "start_time": "2022-09-03T08:46:45.275Z"
   },
   {
    "duration": 0,
    "start_time": "2022-09-03T08:46:45.277Z"
   },
   {
    "duration": 0,
    "start_time": "2022-09-03T08:46:45.279Z"
   },
   {
    "duration": 0,
    "start_time": "2022-09-03T08:46:45.280Z"
   },
   {
    "duration": 0,
    "start_time": "2022-09-03T08:46:45.282Z"
   },
   {
    "duration": 0,
    "start_time": "2022-09-03T08:46:45.283Z"
   },
   {
    "duration": 0,
    "start_time": "2022-09-03T08:46:45.285Z"
   },
   {
    "duration": 0,
    "start_time": "2022-09-03T08:46:45.287Z"
   },
   {
    "duration": 0,
    "start_time": "2022-09-03T08:46:45.288Z"
   },
   {
    "duration": 0,
    "start_time": "2022-09-03T08:46:45.290Z"
   },
   {
    "duration": 0,
    "start_time": "2022-09-03T08:46:45.290Z"
   },
   {
    "duration": 0,
    "start_time": "2022-09-03T08:46:45.292Z"
   },
   {
    "duration": 0,
    "start_time": "2022-09-03T08:46:45.293Z"
   },
   {
    "duration": 0,
    "start_time": "2022-09-03T08:46:45.525Z"
   },
   {
    "duration": 0,
    "start_time": "2022-09-03T08:46:45.528Z"
   },
   {
    "duration": 0,
    "start_time": "2022-09-03T08:46:45.530Z"
   },
   {
    "duration": 0,
    "start_time": "2022-09-03T08:46:45.531Z"
   },
   {
    "duration": 0,
    "start_time": "2022-09-03T08:46:45.532Z"
   },
   {
    "duration": 0,
    "start_time": "2022-09-03T08:46:45.534Z"
   },
   {
    "duration": 0,
    "start_time": "2022-09-03T08:46:45.536Z"
   },
   {
    "duration": 0,
    "start_time": "2022-09-03T08:46:45.537Z"
   },
   {
    "duration": 0,
    "start_time": "2022-09-03T08:46:45.539Z"
   },
   {
    "duration": 0,
    "start_time": "2022-09-03T08:46:45.561Z"
   },
   {
    "duration": 0,
    "start_time": "2022-09-03T08:46:45.563Z"
   },
   {
    "duration": 0,
    "start_time": "2022-09-03T08:46:45.564Z"
   },
   {
    "duration": 957,
    "start_time": "2022-09-03T08:47:56.875Z"
   },
   {
    "duration": 196,
    "start_time": "2022-09-03T08:48:11.417Z"
   },
   {
    "duration": 200,
    "start_time": "2022-09-03T08:48:53.286Z"
   },
   {
    "duration": 269,
    "start_time": "2022-09-03T08:51:45.572Z"
   },
   {
    "duration": 210,
    "start_time": "2022-09-03T08:53:09.085Z"
   },
   {
    "duration": 3203,
    "start_time": "2022-09-03T08:53:18.406Z"
   },
   {
    "duration": 10,
    "start_time": "2022-09-03T08:53:21.612Z"
   },
   {
    "duration": 4,
    "start_time": "2022-09-03T08:53:21.624Z"
   },
   {
    "duration": 220,
    "start_time": "2022-09-03T08:53:21.631Z"
   },
   {
    "duration": 193,
    "start_time": "2022-09-03T08:53:21.858Z"
   },
   {
    "duration": 40,
    "start_time": "2022-09-03T08:53:22.056Z"
   },
   {
    "duration": 6,
    "start_time": "2022-09-03T08:53:22.098Z"
   },
   {
    "duration": 21,
    "start_time": "2022-09-03T08:53:22.106Z"
   },
   {
    "duration": 3,
    "start_time": "2022-09-03T08:53:22.129Z"
   },
   {
    "duration": 126,
    "start_time": "2022-09-03T08:53:22.135Z"
   },
   {
    "duration": 51,
    "start_time": "2022-09-03T08:53:22.263Z"
   },
   {
    "duration": 14,
    "start_time": "2022-09-03T08:53:22.316Z"
   },
   {
    "duration": 4,
    "start_time": "2022-09-03T08:53:22.332Z"
   },
   {
    "duration": 296,
    "start_time": "2022-09-03T08:53:22.358Z"
   },
   {
    "duration": 4,
    "start_time": "2022-09-03T08:53:22.657Z"
   },
   {
    "duration": 293,
    "start_time": "2022-09-03T08:53:22.663Z"
   },
   {
    "duration": 323,
    "start_time": "2022-09-03T08:53:22.958Z"
   },
   {
    "duration": 339,
    "start_time": "2022-09-03T08:53:23.283Z"
   },
   {
    "duration": 306,
    "start_time": "2022-09-03T08:53:23.625Z"
   },
   {
    "duration": 199,
    "start_time": "2022-09-03T08:53:23.933Z"
   },
   {
    "duration": 234,
    "start_time": "2022-09-03T08:53:24.133Z"
   },
   {
    "duration": 223,
    "start_time": "2022-09-03T08:53:24.368Z"
   },
   {
    "duration": 143,
    "start_time": "2022-09-03T08:53:24.593Z"
   },
   {
    "duration": 237,
    "start_time": "2022-09-03T08:53:24.737Z"
   },
   {
    "duration": 271,
    "start_time": "2022-09-03T08:53:24.976Z"
   },
   {
    "duration": 284,
    "start_time": "2022-09-03T08:53:25.250Z"
   },
   {
    "duration": 317,
    "start_time": "2022-09-03T08:53:25.536Z"
   },
   {
    "duration": 345,
    "start_time": "2022-09-03T08:53:25.858Z"
   },
   {
    "duration": 259,
    "start_time": "2022-09-03T08:53:26.205Z"
   },
   {
    "duration": 246,
    "start_time": "2022-09-03T08:53:26.466Z"
   },
   {
    "duration": 103,
    "start_time": "2022-09-03T08:53:26.714Z"
   },
   {
    "duration": 50,
    "start_time": "2022-09-03T08:53:26.819Z"
   },
   {
    "duration": 74,
    "start_time": "2022-09-03T08:53:26.870Z"
   },
   {
    "duration": 166,
    "start_time": "2022-09-03T08:53:26.945Z"
   },
   {
    "duration": 12,
    "start_time": "2022-09-03T08:53:27.114Z"
   },
   {
    "duration": 188,
    "start_time": "2022-09-03T08:53:27.127Z"
   },
   {
    "duration": 166,
    "start_time": "2022-09-03T08:53:27.317Z"
   },
   {
    "duration": 148,
    "start_time": "2022-09-03T08:53:27.485Z"
   },
   {
    "duration": 157,
    "start_time": "2022-09-03T08:53:27.635Z"
   },
   {
    "duration": 167,
    "start_time": "2022-09-03T08:53:27.794Z"
   },
   {
    "duration": 4,
    "start_time": "2022-09-03T08:53:27.963Z"
   },
   {
    "duration": 234,
    "start_time": "2022-09-03T08:53:27.969Z"
   },
   {
    "duration": 6,
    "start_time": "2022-09-03T08:53:28.205Z"
   },
   {
    "duration": 157,
    "start_time": "2022-09-03T08:53:28.212Z"
   },
   {
    "duration": 5,
    "start_time": "2022-09-03T08:53:28.371Z"
   },
   {
    "duration": 28,
    "start_time": "2022-09-03T08:53:28.378Z"
   },
   {
    "duration": 175,
    "start_time": "2022-09-03T08:53:28.407Z"
   },
   {
    "duration": 3008,
    "start_time": "2022-09-03T22:51:55.483Z"
   },
   {
    "duration": 16,
    "start_time": "2022-09-03T22:51:58.495Z"
   },
   {
    "duration": 4,
    "start_time": "2022-09-03T22:51:58.513Z"
   },
   {
    "duration": 217,
    "start_time": "2022-09-03T22:51:58.519Z"
   },
   {
    "duration": 175,
    "start_time": "2022-09-03T22:51:58.738Z"
   },
   {
    "duration": 39,
    "start_time": "2022-09-03T22:51:58.914Z"
   },
   {
    "duration": 6,
    "start_time": "2022-09-03T22:51:58.954Z"
   },
   {
    "duration": 15,
    "start_time": "2022-09-03T22:51:58.961Z"
   },
   {
    "duration": 3,
    "start_time": "2022-09-03T22:51:58.978Z"
   },
   {
    "duration": 115,
    "start_time": "2022-09-03T22:51:58.983Z"
   },
   {
    "duration": 56,
    "start_time": "2022-09-03T22:51:59.100Z"
   },
   {
    "duration": 14,
    "start_time": "2022-09-03T22:51:59.158Z"
   },
   {
    "duration": 4,
    "start_time": "2022-09-03T22:51:59.173Z"
   },
   {
    "duration": 295,
    "start_time": "2022-09-03T22:51:59.178Z"
   },
   {
    "duration": 3,
    "start_time": "2022-09-03T22:51:59.474Z"
   },
   {
    "duration": 261,
    "start_time": "2022-09-03T22:51:59.479Z"
   },
   {
    "duration": 281,
    "start_time": "2022-09-03T22:51:59.741Z"
   },
   {
    "duration": 330,
    "start_time": "2022-09-03T22:52:00.023Z"
   },
   {
    "duration": 270,
    "start_time": "2022-09-03T22:52:00.354Z"
   },
   {
    "duration": 166,
    "start_time": "2022-09-03T22:52:00.625Z"
   },
   {
    "duration": 206,
    "start_time": "2022-09-03T22:52:00.792Z"
   },
   {
    "duration": 195,
    "start_time": "2022-09-03T22:52:01.000Z"
   },
   {
    "duration": 124,
    "start_time": "2022-09-03T22:52:01.197Z"
   },
   {
    "duration": 203,
    "start_time": "2022-09-03T22:52:01.323Z"
   },
   {
    "duration": 219,
    "start_time": "2022-09-03T22:52:01.528Z"
   },
   {
    "duration": 204,
    "start_time": "2022-09-03T22:52:01.749Z"
   },
   {
    "duration": 223,
    "start_time": "2022-09-03T22:52:01.956Z"
   },
   {
    "duration": 319,
    "start_time": "2022-09-03T22:52:02.181Z"
   },
   {
    "duration": 223,
    "start_time": "2022-09-03T22:52:02.501Z"
   },
   {
    "duration": 212,
    "start_time": "2022-09-03T22:52:02.726Z"
   },
   {
    "duration": 88,
    "start_time": "2022-09-03T22:52:02.940Z"
   },
   {
    "duration": 35,
    "start_time": "2022-09-03T22:52:03.030Z"
   },
   {
    "duration": 78,
    "start_time": "2022-09-03T22:52:03.067Z"
   },
   {
    "duration": 135,
    "start_time": "2022-09-03T22:52:03.147Z"
   },
   {
    "duration": 11,
    "start_time": "2022-09-03T22:52:03.283Z"
   },
   {
    "duration": 165,
    "start_time": "2022-09-03T22:52:03.295Z"
   },
   {
    "duration": 149,
    "start_time": "2022-09-03T22:52:03.462Z"
   },
   {
    "duration": 144,
    "start_time": "2022-09-03T22:52:03.612Z"
   },
   {
    "duration": 153,
    "start_time": "2022-09-03T22:52:03.758Z"
   },
   {
    "duration": 151,
    "start_time": "2022-09-03T22:52:03.913Z"
   },
   {
    "duration": 5,
    "start_time": "2022-09-03T22:52:04.065Z"
   },
   {
    "duration": 228,
    "start_time": "2022-09-03T22:52:04.071Z"
   },
   {
    "duration": 11,
    "start_time": "2022-09-03T22:52:04.301Z"
   },
   {
    "duration": 156,
    "start_time": "2022-09-03T22:52:04.313Z"
   },
   {
    "duration": 5,
    "start_time": "2022-09-03T22:52:04.470Z"
   },
   {
    "duration": 39,
    "start_time": "2022-09-03T22:52:04.477Z"
   },
   {
    "duration": 167,
    "start_time": "2022-09-03T22:52:04.517Z"
   },
   {
    "duration": 11,
    "start_time": "2022-09-03T22:52:38.953Z"
   },
   {
    "duration": 14,
    "start_time": "2022-09-03T22:52:55.803Z"
   },
   {
    "duration": 3,
    "start_time": "2022-09-03T23:00:57.214Z"
   },
   {
    "duration": 98,
    "start_time": "2022-09-03T23:00:58.193Z"
   },
   {
    "duration": 12,
    "start_time": "2022-09-03T23:01:14.798Z"
   },
   {
    "duration": 3148,
    "start_time": "2022-09-03T23:01:25.916Z"
   },
   {
    "duration": 365,
    "start_time": "2022-09-03T23:02:18.492Z"
   },
   {
    "duration": 3119,
    "start_time": "2022-09-03T23:03:58.831Z"
   },
   {
    "duration": 9,
    "start_time": "2022-09-03T23:04:01.953Z"
   },
   {
    "duration": 8,
    "start_time": "2022-09-03T23:04:01.964Z"
   },
   {
    "duration": 238,
    "start_time": "2022-09-03T23:04:01.974Z"
   },
   {
    "duration": 216,
    "start_time": "2022-09-03T23:04:02.213Z"
   },
   {
    "duration": 41,
    "start_time": "2022-09-03T23:04:02.430Z"
   },
   {
    "duration": 6,
    "start_time": "2022-09-03T23:04:02.472Z"
   },
   {
    "duration": 31,
    "start_time": "2022-09-03T23:04:02.480Z"
   },
   {
    "duration": 4,
    "start_time": "2022-09-03T23:04:02.512Z"
   },
   {
    "duration": 109,
    "start_time": "2022-09-03T23:04:02.519Z"
   },
   {
    "duration": 52,
    "start_time": "2022-09-03T23:04:02.630Z"
   },
   {
    "duration": 36,
    "start_time": "2022-09-03T23:04:02.684Z"
   },
   {
    "duration": 4,
    "start_time": "2022-09-03T23:04:02.722Z"
   },
   {
    "duration": 287,
    "start_time": "2022-09-03T23:04:02.727Z"
   },
   {
    "duration": 3,
    "start_time": "2022-09-03T23:04:03.016Z"
   },
   {
    "duration": 276,
    "start_time": "2022-09-03T23:04:03.021Z"
   },
   {
    "duration": 286,
    "start_time": "2022-09-03T23:04:03.299Z"
   },
   {
    "duration": 347,
    "start_time": "2022-09-03T23:04:03.587Z"
   },
   {
    "duration": 269,
    "start_time": "2022-09-03T23:04:03.936Z"
   },
   {
    "duration": 191,
    "start_time": "2022-09-03T23:04:04.209Z"
   },
   {
    "duration": 221,
    "start_time": "2022-09-03T23:04:04.409Z"
   },
   {
    "duration": 204,
    "start_time": "2022-09-03T23:04:04.632Z"
   },
   {
    "duration": 138,
    "start_time": "2022-09-03T23:04:04.837Z"
   },
   {
    "duration": 211,
    "start_time": "2022-09-03T23:04:04.977Z"
   },
   {
    "duration": 211,
    "start_time": "2022-09-03T23:04:05.190Z"
   },
   {
    "duration": 196,
    "start_time": "2022-09-03T23:04:05.402Z"
   },
   {
    "duration": 235,
    "start_time": "2022-09-03T23:04:05.600Z"
   },
   {
    "duration": 337,
    "start_time": "2022-09-03T23:04:05.838Z"
   },
   {
    "duration": 229,
    "start_time": "2022-09-03T23:04:06.177Z"
   },
   {
    "duration": 215,
    "start_time": "2022-09-03T23:04:06.409Z"
   },
   {
    "duration": 95,
    "start_time": "2022-09-03T23:04:06.626Z"
   },
   {
    "duration": 38,
    "start_time": "2022-09-03T23:04:06.723Z"
   },
   {
    "duration": 87,
    "start_time": "2022-09-03T23:04:06.763Z"
   },
   {
    "duration": 152,
    "start_time": "2022-09-03T23:04:06.852Z"
   },
   {
    "duration": 13,
    "start_time": "2022-09-03T23:04:07.006Z"
   },
   {
    "duration": 203,
    "start_time": "2022-09-03T23:04:07.021Z"
   },
   {
    "duration": 168,
    "start_time": "2022-09-03T23:04:07.226Z"
   },
   {
    "duration": 143,
    "start_time": "2022-09-03T23:04:07.395Z"
   },
   {
    "duration": 164,
    "start_time": "2022-09-03T23:04:07.540Z"
   },
   {
    "duration": 164,
    "start_time": "2022-09-03T23:04:07.705Z"
   },
   {
    "duration": 5,
    "start_time": "2022-09-03T23:04:07.871Z"
   },
   {
    "duration": 244,
    "start_time": "2022-09-03T23:04:07.878Z"
   },
   {
    "duration": 5,
    "start_time": "2022-09-03T23:04:08.123Z"
   },
   {
    "duration": 159,
    "start_time": "2022-09-03T23:04:08.130Z"
   },
   {
    "duration": 5,
    "start_time": "2022-09-03T23:04:08.291Z"
   },
   {
    "duration": 33,
    "start_time": "2022-09-03T23:04:08.297Z"
   },
   {
    "duration": 170,
    "start_time": "2022-09-03T23:04:08.331Z"
   },
   {
    "duration": 3,
    "start_time": "2022-09-03T23:04:08.508Z"
   },
   {
    "duration": 3076,
    "start_time": "2022-09-03T23:04:08.512Z"
   },
   {
    "duration": 387,
    "start_time": "2022-09-03T23:04:11.590Z"
   },
   {
    "duration": 116,
    "start_time": "2022-09-03T23:04:11.978Z"
   },
   {
    "duration": 99,
    "start_time": "2022-09-03T23:04:12.096Z"
   },
   {
    "duration": 48,
    "start_time": "2022-09-04T05:48:29.535Z"
   },
   {
    "duration": 3424,
    "start_time": "2022-09-04T05:48:49.034Z"
   },
   {
    "duration": 10,
    "start_time": "2022-09-04T05:48:52.460Z"
   },
   {
    "duration": 4,
    "start_time": "2022-09-04T05:48:52.471Z"
   },
   {
    "duration": 223,
    "start_time": "2022-09-04T05:48:52.477Z"
   },
   {
    "duration": 187,
    "start_time": "2022-09-04T05:48:52.701Z"
   },
   {
    "duration": 38,
    "start_time": "2022-09-04T05:48:52.890Z"
   },
   {
    "duration": 6,
    "start_time": "2022-09-04T05:48:52.930Z"
   },
   {
    "duration": 16,
    "start_time": "2022-09-04T05:48:52.937Z"
   },
   {
    "duration": 3,
    "start_time": "2022-09-04T05:48:52.954Z"
   },
   {
    "duration": 117,
    "start_time": "2022-09-04T05:48:52.959Z"
   },
   {
    "duration": 57,
    "start_time": "2022-09-04T05:48:53.078Z"
   },
   {
    "duration": 14,
    "start_time": "2022-09-04T05:48:53.137Z"
   },
   {
    "duration": 5,
    "start_time": "2022-09-04T05:48:53.152Z"
   },
   {
    "duration": 301,
    "start_time": "2022-09-04T05:48:53.159Z"
   },
   {
    "duration": 4,
    "start_time": "2022-09-04T05:48:53.461Z"
   },
   {
    "duration": 276,
    "start_time": "2022-09-04T05:48:53.466Z"
   },
   {
    "duration": 304,
    "start_time": "2022-09-04T05:48:53.744Z"
   },
   {
    "duration": 323,
    "start_time": "2022-09-04T05:48:54.049Z"
   },
   {
    "duration": 294,
    "start_time": "2022-09-04T05:48:54.374Z"
   },
   {
    "duration": 181,
    "start_time": "2022-09-04T05:48:54.670Z"
   },
   {
    "duration": 222,
    "start_time": "2022-09-04T05:48:54.852Z"
   },
   {
    "duration": 203,
    "start_time": "2022-09-04T05:48:55.075Z"
   },
   {
    "duration": 137,
    "start_time": "2022-09-04T05:48:55.279Z"
   },
   {
    "duration": 212,
    "start_time": "2022-09-04T05:48:55.417Z"
   },
   {
    "duration": 206,
    "start_time": "2022-09-04T05:48:55.631Z"
   },
   {
    "duration": 210,
    "start_time": "2022-09-04T05:48:55.839Z"
   },
   {
    "duration": 225,
    "start_time": "2022-09-04T05:48:56.050Z"
   },
   {
    "duration": 433,
    "start_time": "2022-09-04T05:48:56.278Z"
   },
   {
    "duration": 236,
    "start_time": "2022-09-04T05:48:56.712Z"
   },
   {
    "duration": 227,
    "start_time": "2022-09-04T05:48:56.950Z"
   },
   {
    "duration": 87,
    "start_time": "2022-09-04T05:48:57.178Z"
   },
   {
    "duration": 49,
    "start_time": "2022-09-04T05:48:57.267Z"
   },
   {
    "duration": 74,
    "start_time": "2022-09-04T05:48:57.317Z"
   },
   {
    "duration": 152,
    "start_time": "2022-09-04T05:48:57.393Z"
   },
   {
    "duration": 5,
    "start_time": "2022-09-04T05:48:57.548Z"
   },
   {
    "duration": 193,
    "start_time": "2022-09-04T05:48:57.555Z"
   },
   {
    "duration": 152,
    "start_time": "2022-09-04T05:48:57.750Z"
   },
   {
    "duration": 134,
    "start_time": "2022-09-04T05:48:57.903Z"
   },
   {
    "duration": 156,
    "start_time": "2022-09-04T05:48:58.039Z"
   },
   {
    "duration": 157,
    "start_time": "2022-09-04T05:48:58.197Z"
   },
   {
    "duration": 4,
    "start_time": "2022-09-04T05:48:58.356Z"
   },
   {
    "duration": 226,
    "start_time": "2022-09-04T05:48:58.362Z"
   },
   {
    "duration": 5,
    "start_time": "2022-09-04T05:48:58.591Z"
   },
   {
    "duration": 147,
    "start_time": "2022-09-04T05:48:58.598Z"
   },
   {
    "duration": 4,
    "start_time": "2022-09-04T05:48:58.746Z"
   },
   {
    "duration": 23,
    "start_time": "2022-09-04T05:48:58.752Z"
   },
   {
    "duration": 160,
    "start_time": "2022-09-04T05:48:58.786Z"
   },
   {
    "duration": 2,
    "start_time": "2022-09-04T05:48:58.948Z"
   },
   {
    "duration": 3204,
    "start_time": "2022-09-04T05:48:58.951Z"
   },
   {
    "duration": 418,
    "start_time": "2022-09-04T05:49:02.157Z"
   },
   {
    "duration": 113,
    "start_time": "2022-09-04T05:49:02.586Z"
   },
   {
    "duration": 91,
    "start_time": "2022-09-04T05:49:02.701Z"
   },
   {
    "duration": 165,
    "start_time": "2022-09-04T05:50:08.394Z"
   },
   {
    "duration": 4,
    "start_time": "2022-09-04T07:55:47.928Z"
   },
   {
    "duration": 2992,
    "start_time": "2022-09-04T07:55:56.533Z"
   },
   {
    "duration": 8,
    "start_time": "2022-09-04T07:55:59.527Z"
   },
   {
    "duration": 8,
    "start_time": "2022-09-04T07:55:59.537Z"
   },
   {
    "duration": 230,
    "start_time": "2022-09-04T07:55:59.547Z"
   },
   {
    "duration": 198,
    "start_time": "2022-09-04T07:55:59.779Z"
   },
   {
    "duration": 57,
    "start_time": "2022-09-04T07:55:59.979Z"
   },
   {
    "duration": 7,
    "start_time": "2022-09-04T07:56:00.038Z"
   },
   {
    "duration": 23,
    "start_time": "2022-09-04T07:56:00.047Z"
   },
   {
    "duration": 16,
    "start_time": "2022-09-04T07:56:00.072Z"
   },
   {
    "duration": 104,
    "start_time": "2022-09-04T07:56:00.090Z"
   },
   {
    "duration": 51,
    "start_time": "2022-09-04T07:56:00.196Z"
   },
   {
    "duration": 13,
    "start_time": "2022-09-04T07:56:00.249Z"
   },
   {
    "duration": 24,
    "start_time": "2022-09-04T07:56:00.263Z"
   },
   {
    "duration": 14,
    "start_time": "2022-09-04T07:56:00.289Z"
   },
   {
    "duration": 280,
    "start_time": "2022-09-04T07:56:00.305Z"
   },
   {
    "duration": 3,
    "start_time": "2022-09-04T07:56:00.587Z"
   },
   {
    "duration": 285,
    "start_time": "2022-09-04T07:56:00.591Z"
   },
   {
    "duration": 313,
    "start_time": "2022-09-04T07:56:00.878Z"
   },
   {
    "duration": 369,
    "start_time": "2022-09-04T07:56:01.193Z"
   },
   {
    "duration": 297,
    "start_time": "2022-09-04T07:56:01.564Z"
   },
   {
    "duration": 173,
    "start_time": "2022-09-04T07:56:01.863Z"
   },
   {
    "duration": 216,
    "start_time": "2022-09-04T07:56:02.037Z"
   },
   {
    "duration": 213,
    "start_time": "2022-09-04T07:56:02.255Z"
   },
   {
    "duration": 143,
    "start_time": "2022-09-04T07:56:02.470Z"
   },
   {
    "duration": 215,
    "start_time": "2022-09-04T07:56:02.615Z"
   },
   {
    "duration": 213,
    "start_time": "2022-09-04T07:56:02.832Z"
   },
   {
    "duration": 223,
    "start_time": "2022-09-04T07:56:03.047Z"
   },
   {
    "duration": 248,
    "start_time": "2022-09-04T07:56:03.273Z"
   },
   {
    "duration": 328,
    "start_time": "2022-09-04T07:56:03.523Z"
   },
   {
    "duration": 247,
    "start_time": "2022-09-04T07:56:03.853Z"
   },
   {
    "duration": 231,
    "start_time": "2022-09-04T07:56:04.102Z"
   },
   {
    "duration": 98,
    "start_time": "2022-09-04T07:56:04.334Z"
   },
   {
    "duration": 40,
    "start_time": "2022-09-04T07:56:04.433Z"
   },
   {
    "duration": 84,
    "start_time": "2022-09-04T07:56:04.475Z"
   },
   {
    "duration": 157,
    "start_time": "2022-09-04T07:56:04.561Z"
   },
   {
    "duration": 5,
    "start_time": "2022-09-04T07:56:04.720Z"
   },
   {
    "duration": 172,
    "start_time": "2022-09-04T07:56:04.726Z"
   },
   {
    "duration": 159,
    "start_time": "2022-09-04T07:56:04.900Z"
   },
   {
    "duration": 148,
    "start_time": "2022-09-04T07:56:05.061Z"
   },
   {
    "duration": 156,
    "start_time": "2022-09-04T07:56:05.211Z"
   },
   {
    "duration": 157,
    "start_time": "2022-09-04T07:56:05.368Z"
   },
   {
    "duration": 6,
    "start_time": "2022-09-04T07:56:05.527Z"
   },
   {
    "duration": 256,
    "start_time": "2022-09-04T07:56:05.535Z"
   },
   {
    "duration": 6,
    "start_time": "2022-09-04T07:56:05.793Z"
   },
   {
    "duration": 162,
    "start_time": "2022-09-04T07:56:05.801Z"
   },
   {
    "duration": 6,
    "start_time": "2022-09-04T07:56:05.965Z"
   },
   {
    "duration": 36,
    "start_time": "2022-09-04T07:56:05.972Z"
   },
   {
    "duration": 188,
    "start_time": "2022-09-04T07:56:06.009Z"
   },
   {
    "duration": 2,
    "start_time": "2022-09-04T07:56:06.199Z"
   },
   {
    "duration": 3267,
    "start_time": "2022-09-04T07:56:06.203Z"
   },
   {
    "duration": 410,
    "start_time": "2022-09-04T07:56:09.471Z"
   },
   {
    "duration": 114,
    "start_time": "2022-09-04T07:56:09.882Z"
   },
   {
    "duration": 96,
    "start_time": "2022-09-04T07:56:09.998Z"
   },
   {
    "duration": 4,
    "start_time": "2022-09-04T07:57:08.209Z"
   },
   {
    "duration": 3130,
    "start_time": "2022-09-04T07:57:16.832Z"
   },
   {
    "duration": 10,
    "start_time": "2022-09-04T07:57:19.964Z"
   },
   {
    "duration": 4,
    "start_time": "2022-09-04T07:57:19.977Z"
   },
   {
    "duration": 243,
    "start_time": "2022-09-04T07:57:19.982Z"
   },
   {
    "duration": 202,
    "start_time": "2022-09-04T07:57:20.226Z"
   },
   {
    "duration": 41,
    "start_time": "2022-09-04T07:57:20.430Z"
   },
   {
    "duration": 16,
    "start_time": "2022-09-04T07:57:20.473Z"
   },
   {
    "duration": 15,
    "start_time": "2022-09-04T07:57:20.491Z"
   },
   {
    "duration": 3,
    "start_time": "2022-09-04T07:57:20.509Z"
   },
   {
    "duration": 127,
    "start_time": "2022-09-04T07:57:20.514Z"
   },
   {
    "duration": 54,
    "start_time": "2022-09-04T07:57:20.643Z"
   },
   {
    "duration": 15,
    "start_time": "2022-09-04T07:57:20.698Z"
   },
   {
    "duration": 4,
    "start_time": "2022-09-04T07:57:20.714Z"
   },
   {
    "duration": 9,
    "start_time": "2022-09-04T07:57:20.719Z"
   },
   {
    "duration": 296,
    "start_time": "2022-09-04T07:57:20.729Z"
   },
   {
    "duration": 3,
    "start_time": "2022-09-04T07:57:21.028Z"
   },
   {
    "duration": 297,
    "start_time": "2022-09-04T07:57:21.032Z"
   },
   {
    "duration": 309,
    "start_time": "2022-09-04T07:57:21.331Z"
   },
   {
    "duration": 355,
    "start_time": "2022-09-04T07:57:21.642Z"
   },
   {
    "duration": 390,
    "start_time": "2022-09-04T07:57:21.999Z"
   },
   {
    "duration": 410,
    "start_time": "2022-09-04T07:57:22.391Z"
   },
   {
    "duration": 426,
    "start_time": "2022-09-04T07:57:22.802Z"
   },
   {
    "duration": 467,
    "start_time": "2022-09-04T07:57:23.230Z"
   },
   {
    "duration": 291,
    "start_time": "2022-09-04T07:57:23.698Z"
   },
   {
    "duration": 209,
    "start_time": "2022-09-04T07:57:23.990Z"
   },
   {
    "duration": 206,
    "start_time": "2022-09-04T07:57:24.201Z"
   },
   {
    "duration": 205,
    "start_time": "2022-09-04T07:57:24.411Z"
   },
   {
    "duration": 217,
    "start_time": "2022-09-04T07:57:24.617Z"
   },
   {
    "duration": 308,
    "start_time": "2022-09-04T07:57:24.836Z"
   },
   {
    "duration": 264,
    "start_time": "2022-09-04T07:57:25.146Z"
   },
   {
    "duration": 234,
    "start_time": "2022-09-04T07:57:25.412Z"
   },
   {
    "duration": 88,
    "start_time": "2022-09-04T07:57:25.648Z"
   },
   {
    "duration": 38,
    "start_time": "2022-09-04T07:57:25.738Z"
   },
   {
    "duration": 65,
    "start_time": "2022-09-04T07:57:25.786Z"
   },
   {
    "duration": 153,
    "start_time": "2022-09-04T07:57:25.853Z"
   },
   {
    "duration": 9,
    "start_time": "2022-09-04T07:57:26.008Z"
   },
   {
    "duration": 172,
    "start_time": "2022-09-04T07:57:26.019Z"
   },
   {
    "duration": 197,
    "start_time": "2022-09-04T07:57:26.193Z"
   },
   {
    "duration": 196,
    "start_time": "2022-09-04T07:57:26.391Z"
   },
   {
    "duration": 165,
    "start_time": "2022-09-04T07:57:26.589Z"
   },
   {
    "duration": 157,
    "start_time": "2022-09-04T07:57:26.756Z"
   },
   {
    "duration": 5,
    "start_time": "2022-09-04T07:57:26.914Z"
   },
   {
    "duration": 231,
    "start_time": "2022-09-04T07:57:26.920Z"
   },
   {
    "duration": 4,
    "start_time": "2022-09-04T07:57:27.153Z"
   },
   {
    "duration": 141,
    "start_time": "2022-09-04T07:57:27.158Z"
   },
   {
    "duration": 4,
    "start_time": "2022-09-04T07:57:27.301Z"
   },
   {
    "duration": 25,
    "start_time": "2022-09-04T07:57:27.307Z"
   },
   {
    "duration": 164,
    "start_time": "2022-09-04T07:57:27.334Z"
   },
   {
    "duration": 2,
    "start_time": "2022-09-04T07:57:27.500Z"
   },
   {
    "duration": 3107,
    "start_time": "2022-09-04T07:57:27.504Z"
   },
   {
    "duration": 410,
    "start_time": "2022-09-04T07:57:30.613Z"
   },
   {
    "duration": 116,
    "start_time": "2022-09-04T07:57:31.025Z"
   },
   {
    "duration": 96,
    "start_time": "2022-09-04T07:57:31.143Z"
   },
   {
    "duration": 4,
    "start_time": "2022-09-04T07:58:17.410Z"
   },
   {
    "duration": 2995,
    "start_time": "2022-09-04T07:58:30.911Z"
   },
   {
    "duration": 10,
    "start_time": "2022-09-04T07:58:33.908Z"
   },
   {
    "duration": 5,
    "start_time": "2022-09-04T07:58:33.919Z"
   },
   {
    "duration": 233,
    "start_time": "2022-09-04T07:58:33.926Z"
   },
   {
    "duration": 188,
    "start_time": "2022-09-04T07:58:34.161Z"
   },
   {
    "duration": 44,
    "start_time": "2022-09-04T07:58:34.351Z"
   },
   {
    "duration": 6,
    "start_time": "2022-09-04T07:58:34.396Z"
   },
   {
    "duration": 21,
    "start_time": "2022-09-04T07:58:34.403Z"
   },
   {
    "duration": 4,
    "start_time": "2022-09-04T07:58:34.425Z"
   },
   {
    "duration": 111,
    "start_time": "2022-09-04T07:58:34.431Z"
   },
   {
    "duration": 53,
    "start_time": "2022-09-04T07:58:34.544Z"
   },
   {
    "duration": 14,
    "start_time": "2022-09-04T07:58:34.599Z"
   },
   {
    "duration": 3,
    "start_time": "2022-09-04T07:58:34.615Z"
   },
   {
    "duration": 39,
    "start_time": "2022-09-04T07:58:34.620Z"
   },
   {
    "duration": 0,
    "start_time": "2022-09-04T07:58:34.662Z"
   },
   {
    "duration": 0,
    "start_time": "2022-09-04T07:58:34.663Z"
   },
   {
    "duration": 0,
    "start_time": "2022-09-04T07:58:34.664Z"
   },
   {
    "duration": 0,
    "start_time": "2022-09-04T07:58:34.666Z"
   },
   {
    "duration": 0,
    "start_time": "2022-09-04T07:58:34.667Z"
   },
   {
    "duration": 0,
    "start_time": "2022-09-04T07:58:34.668Z"
   },
   {
    "duration": 0,
    "start_time": "2022-09-04T07:58:34.669Z"
   },
   {
    "duration": 0,
    "start_time": "2022-09-04T07:58:34.670Z"
   },
   {
    "duration": 0,
    "start_time": "2022-09-04T07:58:34.671Z"
   },
   {
    "duration": 0,
    "start_time": "2022-09-04T07:58:34.672Z"
   },
   {
    "duration": 0,
    "start_time": "2022-09-04T07:58:34.673Z"
   },
   {
    "duration": 0,
    "start_time": "2022-09-04T07:58:34.674Z"
   },
   {
    "duration": 0,
    "start_time": "2022-09-04T07:58:34.675Z"
   },
   {
    "duration": 0,
    "start_time": "2022-09-04T07:58:34.675Z"
   },
   {
    "duration": 0,
    "start_time": "2022-09-04T07:58:34.676Z"
   },
   {
    "duration": 0,
    "start_time": "2022-09-04T07:58:34.687Z"
   },
   {
    "duration": 0,
    "start_time": "2022-09-04T07:58:34.689Z"
   },
   {
    "duration": 0,
    "start_time": "2022-09-04T07:58:34.690Z"
   },
   {
    "duration": 0,
    "start_time": "2022-09-04T07:58:34.691Z"
   },
   {
    "duration": 0,
    "start_time": "2022-09-04T07:58:34.692Z"
   },
   {
    "duration": 0,
    "start_time": "2022-09-04T07:58:34.694Z"
   },
   {
    "duration": 0,
    "start_time": "2022-09-04T07:58:34.695Z"
   },
   {
    "duration": 0,
    "start_time": "2022-09-04T07:58:34.696Z"
   },
   {
    "duration": 0,
    "start_time": "2022-09-04T07:58:34.698Z"
   },
   {
    "duration": 0,
    "start_time": "2022-09-04T07:58:34.699Z"
   },
   {
    "duration": 0,
    "start_time": "2022-09-04T07:58:34.700Z"
   },
   {
    "duration": 0,
    "start_time": "2022-09-04T07:58:34.703Z"
   },
   {
    "duration": 0,
    "start_time": "2022-09-04T07:58:34.705Z"
   },
   {
    "duration": 0,
    "start_time": "2022-09-04T07:58:34.706Z"
   },
   {
    "duration": 0,
    "start_time": "2022-09-04T07:58:34.707Z"
   },
   {
    "duration": 0,
    "start_time": "2022-09-04T07:58:34.709Z"
   },
   {
    "duration": 0,
    "start_time": "2022-09-04T07:58:34.710Z"
   },
   {
    "duration": 0,
    "start_time": "2022-09-04T07:58:34.711Z"
   },
   {
    "duration": 0,
    "start_time": "2022-09-04T07:58:34.713Z"
   },
   {
    "duration": 0,
    "start_time": "2022-09-04T07:58:34.714Z"
   },
   {
    "duration": 0,
    "start_time": "2022-09-04T07:58:34.716Z"
   },
   {
    "duration": 0,
    "start_time": "2022-09-04T07:58:34.717Z"
   },
   {
    "duration": 0,
    "start_time": "2022-09-04T07:58:34.718Z"
   },
   {
    "duration": 0,
    "start_time": "2022-09-04T07:58:34.722Z"
   },
   {
    "duration": 0,
    "start_time": "2022-09-04T07:58:34.723Z"
   },
   {
    "duration": 114,
    "start_time": "2022-09-04T07:59:12.386Z"
   },
   {
    "duration": 3105,
    "start_time": "2022-09-04T07:59:40.561Z"
   },
   {
    "duration": 8,
    "start_time": "2022-09-04T07:59:43.669Z"
   },
   {
    "duration": 5,
    "start_time": "2022-09-04T07:59:43.679Z"
   },
   {
    "duration": 222,
    "start_time": "2022-09-04T07:59:43.686Z"
   },
   {
    "duration": 203,
    "start_time": "2022-09-04T07:59:43.910Z"
   },
   {
    "duration": 40,
    "start_time": "2022-09-04T07:59:44.114Z"
   },
   {
    "duration": 6,
    "start_time": "2022-09-04T07:59:44.156Z"
   },
   {
    "duration": 30,
    "start_time": "2022-09-04T07:59:44.164Z"
   },
   {
    "duration": 4,
    "start_time": "2022-09-04T07:59:44.195Z"
   },
   {
    "duration": 111,
    "start_time": "2022-09-04T07:59:44.201Z"
   },
   {
    "duration": 49,
    "start_time": "2022-09-04T07:59:44.314Z"
   },
   {
    "duration": 28,
    "start_time": "2022-09-04T07:59:44.364Z"
   },
   {
    "duration": 3,
    "start_time": "2022-09-04T07:59:44.394Z"
   },
   {
    "duration": 115,
    "start_time": "2022-09-04T07:59:44.399Z"
   },
   {
    "duration": 0,
    "start_time": "2022-09-04T07:59:44.517Z"
   },
   {
    "duration": 0,
    "start_time": "2022-09-04T07:59:44.518Z"
   },
   {
    "duration": 0,
    "start_time": "2022-09-04T07:59:44.519Z"
   },
   {
    "duration": 0,
    "start_time": "2022-09-04T07:59:44.519Z"
   },
   {
    "duration": 0,
    "start_time": "2022-09-04T07:59:44.521Z"
   },
   {
    "duration": 0,
    "start_time": "2022-09-04T07:59:44.523Z"
   },
   {
    "duration": 0,
    "start_time": "2022-09-04T07:59:44.524Z"
   },
   {
    "duration": 0,
    "start_time": "2022-09-04T07:59:44.525Z"
   },
   {
    "duration": 0,
    "start_time": "2022-09-04T07:59:44.526Z"
   },
   {
    "duration": 0,
    "start_time": "2022-09-04T07:59:44.527Z"
   },
   {
    "duration": 0,
    "start_time": "2022-09-04T07:59:44.528Z"
   },
   {
    "duration": 0,
    "start_time": "2022-09-04T07:59:44.529Z"
   },
   {
    "duration": 0,
    "start_time": "2022-09-04T07:59:44.530Z"
   },
   {
    "duration": 0,
    "start_time": "2022-09-04T07:59:44.531Z"
   },
   {
    "duration": 0,
    "start_time": "2022-09-04T07:59:44.532Z"
   },
   {
    "duration": 0,
    "start_time": "2022-09-04T07:59:44.533Z"
   },
   {
    "duration": 0,
    "start_time": "2022-09-04T07:59:44.534Z"
   },
   {
    "duration": 0,
    "start_time": "2022-09-04T07:59:44.535Z"
   },
   {
    "duration": 0,
    "start_time": "2022-09-04T07:59:44.536Z"
   },
   {
    "duration": 0,
    "start_time": "2022-09-04T07:59:44.538Z"
   },
   {
    "duration": 0,
    "start_time": "2022-09-04T07:59:44.539Z"
   },
   {
    "duration": 0,
    "start_time": "2022-09-04T07:59:44.539Z"
   },
   {
    "duration": 0,
    "start_time": "2022-09-04T07:59:44.540Z"
   },
   {
    "duration": 0,
    "start_time": "2022-09-04T07:59:44.587Z"
   },
   {
    "duration": 0,
    "start_time": "2022-09-04T07:59:44.588Z"
   },
   {
    "duration": 0,
    "start_time": "2022-09-04T07:59:44.589Z"
   },
   {
    "duration": 0,
    "start_time": "2022-09-04T07:59:44.590Z"
   },
   {
    "duration": 0,
    "start_time": "2022-09-04T07:59:44.591Z"
   },
   {
    "duration": 0,
    "start_time": "2022-09-04T07:59:44.592Z"
   },
   {
    "duration": 0,
    "start_time": "2022-09-04T07:59:44.593Z"
   },
   {
    "duration": 0,
    "start_time": "2022-09-04T07:59:44.594Z"
   },
   {
    "duration": 0,
    "start_time": "2022-09-04T07:59:44.595Z"
   },
   {
    "duration": 0,
    "start_time": "2022-09-04T07:59:44.596Z"
   },
   {
    "duration": 0,
    "start_time": "2022-09-04T07:59:44.597Z"
   },
   {
    "duration": 0,
    "start_time": "2022-09-04T07:59:44.601Z"
   },
   {
    "duration": 0,
    "start_time": "2022-09-04T07:59:44.602Z"
   },
   {
    "duration": 0,
    "start_time": "2022-09-04T07:59:44.603Z"
   },
   {
    "duration": 0,
    "start_time": "2022-09-04T07:59:44.604Z"
   },
   {
    "duration": 0,
    "start_time": "2022-09-04T07:59:44.605Z"
   },
   {
    "duration": 0,
    "start_time": "2022-09-04T07:59:44.606Z"
   },
   {
    "duration": 102,
    "start_time": "2022-09-04T08:02:52.754Z"
   },
   {
    "duration": 3077,
    "start_time": "2022-09-04T08:03:16.897Z"
   },
   {
    "duration": 9,
    "start_time": "2022-09-04T08:03:19.976Z"
   },
   {
    "duration": 5,
    "start_time": "2022-09-04T08:03:19.987Z"
   },
   {
    "duration": 225,
    "start_time": "2022-09-04T08:03:19.994Z"
   },
   {
    "duration": 193,
    "start_time": "2022-09-04T08:03:20.220Z"
   },
   {
    "duration": 39,
    "start_time": "2022-09-04T08:03:20.414Z"
   },
   {
    "duration": 5,
    "start_time": "2022-09-04T08:03:20.455Z"
   },
   {
    "duration": 33,
    "start_time": "2022-09-04T08:03:20.462Z"
   },
   {
    "duration": 3,
    "start_time": "2022-09-04T08:03:20.496Z"
   },
   {
    "duration": 115,
    "start_time": "2022-09-04T08:03:20.501Z"
   },
   {
    "duration": 49,
    "start_time": "2022-09-04T08:03:20.618Z"
   },
   {
    "duration": 30,
    "start_time": "2022-09-04T08:03:20.668Z"
   },
   {
    "duration": 3,
    "start_time": "2022-09-04T08:03:20.700Z"
   },
   {
    "duration": 122,
    "start_time": "2022-09-04T08:03:20.705Z"
   },
   {
    "duration": 0,
    "start_time": "2022-09-04T08:03:20.829Z"
   },
   {
    "duration": 0,
    "start_time": "2022-09-04T08:03:20.830Z"
   },
   {
    "duration": 0,
    "start_time": "2022-09-04T08:03:20.831Z"
   },
   {
    "duration": 0,
    "start_time": "2022-09-04T08:03:20.831Z"
   },
   {
    "duration": 0,
    "start_time": "2022-09-04T08:03:20.833Z"
   },
   {
    "duration": 0,
    "start_time": "2022-09-04T08:03:20.834Z"
   },
   {
    "duration": 0,
    "start_time": "2022-09-04T08:03:20.835Z"
   },
   {
    "duration": 0,
    "start_time": "2022-09-04T08:03:20.836Z"
   },
   {
    "duration": 0,
    "start_time": "2022-09-04T08:03:20.837Z"
   },
   {
    "duration": 0,
    "start_time": "2022-09-04T08:03:20.838Z"
   },
   {
    "duration": 0,
    "start_time": "2022-09-04T08:03:20.838Z"
   },
   {
    "duration": 0,
    "start_time": "2022-09-04T08:03:20.839Z"
   },
   {
    "duration": 0,
    "start_time": "2022-09-04T08:03:20.840Z"
   },
   {
    "duration": 0,
    "start_time": "2022-09-04T08:03:20.841Z"
   },
   {
    "duration": 0,
    "start_time": "2022-09-04T08:03:20.842Z"
   },
   {
    "duration": 0,
    "start_time": "2022-09-04T08:03:20.843Z"
   },
   {
    "duration": 0,
    "start_time": "2022-09-04T08:03:20.844Z"
   },
   {
    "duration": 0,
    "start_time": "2022-09-04T08:03:20.845Z"
   },
   {
    "duration": 0,
    "start_time": "2022-09-04T08:03:20.846Z"
   },
   {
    "duration": 0,
    "start_time": "2022-09-04T08:03:20.846Z"
   },
   {
    "duration": 0,
    "start_time": "2022-09-04T08:03:20.847Z"
   },
   {
    "duration": 0,
    "start_time": "2022-09-04T08:03:20.848Z"
   },
   {
    "duration": 0,
    "start_time": "2022-09-04T08:03:20.849Z"
   },
   {
    "duration": 0,
    "start_time": "2022-09-04T08:03:20.850Z"
   },
   {
    "duration": 0,
    "start_time": "2022-09-04T08:03:20.851Z"
   },
   {
    "duration": 0,
    "start_time": "2022-09-04T08:03:20.852Z"
   },
   {
    "duration": 0,
    "start_time": "2022-09-04T08:03:20.887Z"
   },
   {
    "duration": 0,
    "start_time": "2022-09-04T08:03:20.890Z"
   },
   {
    "duration": 0,
    "start_time": "2022-09-04T08:03:20.891Z"
   },
   {
    "duration": 0,
    "start_time": "2022-09-04T08:03:20.892Z"
   },
   {
    "duration": 0,
    "start_time": "2022-09-04T08:03:20.893Z"
   },
   {
    "duration": 0,
    "start_time": "2022-09-04T08:03:20.894Z"
   },
   {
    "duration": 0,
    "start_time": "2022-09-04T08:03:20.894Z"
   },
   {
    "duration": 0,
    "start_time": "2022-09-04T08:03:20.895Z"
   },
   {
    "duration": 0,
    "start_time": "2022-09-04T08:03:20.896Z"
   },
   {
    "duration": 0,
    "start_time": "2022-09-04T08:03:20.897Z"
   },
   {
    "duration": 0,
    "start_time": "2022-09-04T08:03:20.898Z"
   },
   {
    "duration": 0,
    "start_time": "2022-09-04T08:03:20.899Z"
   },
   {
    "duration": 0,
    "start_time": "2022-09-04T08:03:20.900Z"
   },
   {
    "duration": 0,
    "start_time": "2022-09-04T08:03:20.901Z"
   },
   {
    "duration": 11,
    "start_time": "2022-09-04T08:15:11.258Z"
   },
   {
    "duration": 10,
    "start_time": "2022-09-04T08:15:44.887Z"
   },
   {
    "duration": 3331,
    "start_time": "2022-09-04T08:21:15.267Z"
   },
   {
    "duration": 9,
    "start_time": "2022-09-04T08:21:18.600Z"
   },
   {
    "duration": 6,
    "start_time": "2022-09-04T08:21:18.611Z"
   },
   {
    "duration": 231,
    "start_time": "2022-09-04T08:21:18.619Z"
   },
   {
    "duration": 198,
    "start_time": "2022-09-04T08:21:18.852Z"
   },
   {
    "duration": 50,
    "start_time": "2022-09-04T08:21:19.052Z"
   },
   {
    "duration": 7,
    "start_time": "2022-09-04T08:21:19.103Z"
   },
   {
    "duration": 17,
    "start_time": "2022-09-04T08:21:19.111Z"
   },
   {
    "duration": 4,
    "start_time": "2022-09-04T08:21:19.130Z"
   },
   {
    "duration": 130,
    "start_time": "2022-09-04T08:21:19.136Z"
   },
   {
    "duration": 63,
    "start_time": "2022-09-04T08:21:19.267Z"
   },
   {
    "duration": 15,
    "start_time": "2022-09-04T08:21:19.331Z"
   },
   {
    "duration": 3,
    "start_time": "2022-09-04T08:21:19.347Z"
   },
   {
    "duration": 303,
    "start_time": "2022-09-04T08:21:19.352Z"
   },
   {
    "duration": 4,
    "start_time": "2022-09-04T08:21:19.657Z"
   },
   {
    "duration": 288,
    "start_time": "2022-09-04T08:21:19.662Z"
   },
   {
    "duration": 320,
    "start_time": "2022-09-04T08:21:19.951Z"
   },
   {
    "duration": 336,
    "start_time": "2022-09-04T08:21:20.273Z"
   },
   {
    "duration": 286,
    "start_time": "2022-09-04T08:21:20.610Z"
   },
   {
    "duration": 174,
    "start_time": "2022-09-04T08:21:20.898Z"
   },
   {
    "duration": 212,
    "start_time": "2022-09-04T08:21:21.074Z"
   },
   {
    "duration": 202,
    "start_time": "2022-09-04T08:21:21.288Z"
   },
   {
    "duration": 135,
    "start_time": "2022-09-04T08:21:21.492Z"
   },
   {
    "duration": 214,
    "start_time": "2022-09-04T08:21:21.629Z"
   },
   {
    "duration": 227,
    "start_time": "2022-09-04T08:21:21.845Z"
   },
   {
    "duration": 208,
    "start_time": "2022-09-04T08:21:22.074Z"
   },
   {
    "duration": 222,
    "start_time": "2022-09-04T08:21:22.283Z"
   },
   {
    "duration": 300,
    "start_time": "2022-09-04T08:21:22.508Z"
   },
   {
    "duration": 236,
    "start_time": "2022-09-04T08:21:22.809Z"
   },
   {
    "duration": 244,
    "start_time": "2022-09-04T08:21:23.047Z"
   },
   {
    "duration": 101,
    "start_time": "2022-09-04T08:21:23.293Z"
   },
   {
    "duration": 39,
    "start_time": "2022-09-04T08:21:23.397Z"
   },
   {
    "duration": 83,
    "start_time": "2022-09-04T08:21:23.438Z"
   },
   {
    "duration": 143,
    "start_time": "2022-09-04T08:21:23.523Z"
   },
   {
    "duration": 5,
    "start_time": "2022-09-04T08:21:23.668Z"
   },
   {
    "duration": 158,
    "start_time": "2022-09-04T08:21:23.686Z"
   },
   {
    "duration": 163,
    "start_time": "2022-09-04T08:21:23.845Z"
   },
   {
    "duration": 145,
    "start_time": "2022-09-04T08:21:24.010Z"
   },
   {
    "duration": 150,
    "start_time": "2022-09-04T08:21:24.156Z"
   },
   {
    "duration": 153,
    "start_time": "2022-09-04T08:21:24.308Z"
   },
   {
    "duration": 5,
    "start_time": "2022-09-04T08:21:24.463Z"
   },
   {
    "duration": 224,
    "start_time": "2022-09-04T08:21:24.471Z"
   },
   {
    "duration": 4,
    "start_time": "2022-09-04T08:21:24.697Z"
   },
   {
    "duration": 147,
    "start_time": "2022-09-04T08:21:24.703Z"
   },
   {
    "duration": 4,
    "start_time": "2022-09-04T08:21:24.852Z"
   },
   {
    "duration": 35,
    "start_time": "2022-09-04T08:21:24.858Z"
   },
   {
    "duration": 158,
    "start_time": "2022-09-04T08:21:24.895Z"
   },
   {
    "duration": 3,
    "start_time": "2022-09-04T08:21:25.055Z"
   },
   {
    "duration": 3224,
    "start_time": "2022-09-04T08:21:25.060Z"
   },
   {
    "duration": 389,
    "start_time": "2022-09-04T08:21:28.287Z"
   },
   {
    "duration": 117,
    "start_time": "2022-09-04T08:21:28.686Z"
   },
   {
    "duration": 97,
    "start_time": "2022-09-04T08:21:28.805Z"
   },
   {
    "duration": 122,
    "start_time": "2022-09-04T08:32:15.928Z"
   },
   {
    "duration": 327,
    "start_time": "2022-09-04T08:32:25.449Z"
   },
   {
    "duration": 3192,
    "start_time": "2022-09-04T08:32:33.030Z"
   },
   {
    "duration": 12,
    "start_time": "2022-09-04T08:32:36.225Z"
   },
   {
    "duration": 14,
    "start_time": "2022-09-04T08:32:36.239Z"
   },
   {
    "duration": 287,
    "start_time": "2022-09-04T08:32:36.256Z"
   },
   {
    "duration": 264,
    "start_time": "2022-09-04T08:32:36.545Z"
   },
   {
    "duration": 83,
    "start_time": "2022-09-04T08:32:36.811Z"
   },
   {
    "duration": 7,
    "start_time": "2022-09-04T08:32:36.896Z"
   },
   {
    "duration": 27,
    "start_time": "2022-09-04T08:32:36.905Z"
   },
   {
    "duration": 4,
    "start_time": "2022-09-04T08:32:36.933Z"
   },
   {
    "duration": 128,
    "start_time": "2022-09-04T08:32:36.940Z"
   },
   {
    "duration": 62,
    "start_time": "2022-09-04T08:32:37.070Z"
   },
   {
    "duration": 16,
    "start_time": "2022-09-04T08:32:37.134Z"
   },
   {
    "duration": 7,
    "start_time": "2022-09-04T08:32:37.152Z"
   },
   {
    "duration": 292,
    "start_time": "2022-09-04T08:32:37.160Z"
   },
   {
    "duration": 3,
    "start_time": "2022-09-04T08:32:37.454Z"
   },
   {
    "duration": 311,
    "start_time": "2022-09-04T08:32:37.459Z"
   },
   {
    "duration": 443,
    "start_time": "2022-09-04T08:32:37.772Z"
   },
   {
    "duration": 223,
    "start_time": "2022-09-04T08:32:38.217Z"
   },
   {
    "duration": 284,
    "start_time": "2022-09-04T08:32:38.442Z"
   },
   {
    "duration": 178,
    "start_time": "2022-09-04T08:32:38.728Z"
   },
   {
    "duration": 226,
    "start_time": "2022-09-04T08:32:38.908Z"
   },
   {
    "duration": 217,
    "start_time": "2022-09-04T08:32:39.136Z"
   },
   {
    "duration": 164,
    "start_time": "2022-09-04T08:32:39.355Z"
   },
   {
    "duration": 469,
    "start_time": "2022-09-04T08:32:39.520Z"
   },
   {
    "duration": 433,
    "start_time": "2022-09-04T08:32:39.991Z"
   },
   {
    "duration": 463,
    "start_time": "2022-09-04T08:32:40.426Z"
   },
   {
    "duration": 449,
    "start_time": "2022-09-04T08:32:40.891Z"
   },
   {
    "duration": 207,
    "start_time": "2022-09-04T08:32:41.343Z"
   },
   {
    "duration": 236,
    "start_time": "2022-09-04T08:32:41.551Z"
   },
   {
    "duration": 229,
    "start_time": "2022-09-04T08:32:41.788Z"
   },
   {
    "duration": 100,
    "start_time": "2022-09-04T08:32:42.019Z"
   },
   {
    "duration": 38,
    "start_time": "2022-09-04T08:32:42.120Z"
   },
   {
    "duration": 72,
    "start_time": "2022-09-04T08:32:42.160Z"
   },
   {
    "duration": 146,
    "start_time": "2022-09-04T08:32:42.234Z"
   },
   {
    "duration": 7,
    "start_time": "2022-09-04T08:32:42.382Z"
   },
   {
    "duration": 180,
    "start_time": "2022-09-04T08:32:42.390Z"
   },
   {
    "duration": 154,
    "start_time": "2022-09-04T08:32:42.571Z"
   },
   {
    "duration": 138,
    "start_time": "2022-09-04T08:32:42.727Z"
   },
   {
    "duration": 151,
    "start_time": "2022-09-04T08:32:42.867Z"
   },
   {
    "duration": 241,
    "start_time": "2022-09-04T08:32:43.020Z"
   },
   {
    "duration": 5,
    "start_time": "2022-09-04T08:32:43.264Z"
   },
   {
    "duration": 148,
    "start_time": "2022-09-04T08:32:43.270Z"
   },
   {
    "duration": 5,
    "start_time": "2022-09-04T08:32:43.420Z"
   },
   {
    "duration": 153,
    "start_time": "2022-09-04T08:32:43.427Z"
   },
   {
    "duration": 5,
    "start_time": "2022-09-04T08:32:43.587Z"
   },
   {
    "duration": 23,
    "start_time": "2022-09-04T08:32:43.594Z"
   },
   {
    "duration": 164,
    "start_time": "2022-09-04T08:32:43.619Z"
   },
   {
    "duration": 3,
    "start_time": "2022-09-04T08:32:43.786Z"
   },
   {
    "duration": 3216,
    "start_time": "2022-09-04T08:32:43.791Z"
   },
   {
    "duration": 406,
    "start_time": "2022-09-04T08:32:47.009Z"
   },
   {
    "duration": 120,
    "start_time": "2022-09-04T08:32:47.417Z"
   },
   {
    "duration": 111,
    "start_time": "2022-09-04T08:32:47.539Z"
   },
   {
    "duration": 155,
    "start_time": "2022-09-04T08:34:26.912Z"
   },
   {
    "duration": 166,
    "start_time": "2022-09-04T08:34:39.431Z"
   },
   {
    "duration": 3212,
    "start_time": "2022-09-04T08:35:05.314Z"
   },
   {
    "duration": 9,
    "start_time": "2022-09-04T08:35:08.528Z"
   },
   {
    "duration": 6,
    "start_time": "2022-09-04T08:35:08.539Z"
   },
   {
    "duration": 233,
    "start_time": "2022-09-04T08:35:08.547Z"
   },
   {
    "duration": 196,
    "start_time": "2022-09-04T08:35:08.787Z"
   },
   {
    "duration": 171,
    "start_time": "2022-09-04T08:35:08.986Z"
   },
   {
    "duration": 47,
    "start_time": "2022-09-04T08:35:09.159Z"
   },
   {
    "duration": 6,
    "start_time": "2022-09-04T08:35:09.208Z"
   },
   {
    "duration": 27,
    "start_time": "2022-09-04T08:35:09.215Z"
   },
   {
    "duration": 6,
    "start_time": "2022-09-04T08:35:09.245Z"
   },
   {
    "duration": 113,
    "start_time": "2022-09-04T08:35:09.253Z"
   },
   {
    "duration": 60,
    "start_time": "2022-09-04T08:35:09.368Z"
   },
   {
    "duration": 15,
    "start_time": "2022-09-04T08:35:09.430Z"
   },
   {
    "duration": 4,
    "start_time": "2022-09-04T08:35:09.447Z"
   },
   {
    "duration": 548,
    "start_time": "2022-09-04T08:35:09.453Z"
   },
   {
    "duration": 4,
    "start_time": "2022-09-04T08:35:10.003Z"
   },
   {
    "duration": 681,
    "start_time": "2022-09-04T08:35:10.009Z"
   },
   {
    "duration": 751,
    "start_time": "2022-09-04T08:35:10.692Z"
   },
   {
    "duration": 228,
    "start_time": "2022-09-04T08:35:11.445Z"
   },
   {
    "duration": 293,
    "start_time": "2022-09-04T08:35:11.674Z"
   },
   {
    "duration": 183,
    "start_time": "2022-09-04T08:35:11.969Z"
   },
   {
    "duration": 223,
    "start_time": "2022-09-04T08:35:12.154Z"
   },
   {
    "duration": 221,
    "start_time": "2022-09-04T08:35:12.379Z"
   },
   {
    "duration": 138,
    "start_time": "2022-09-04T08:35:12.602Z"
   },
   {
    "duration": 225,
    "start_time": "2022-09-04T08:35:12.742Z"
   },
   {
    "duration": 215,
    "start_time": "2022-09-04T08:35:12.969Z"
   },
   {
    "duration": 215,
    "start_time": "2022-09-04T08:35:13.186Z"
   },
   {
    "duration": 359,
    "start_time": "2022-09-04T08:35:13.405Z"
   },
   {
    "duration": 227,
    "start_time": "2022-09-04T08:35:13.766Z"
   },
   {
    "duration": 258,
    "start_time": "2022-09-04T08:35:13.995Z"
   },
   {
    "duration": 239,
    "start_time": "2022-09-04T08:35:14.255Z"
   },
   {
    "duration": 101,
    "start_time": "2022-09-04T08:35:14.496Z"
   },
   {
    "duration": 39,
    "start_time": "2022-09-04T08:35:14.599Z"
   },
   {
    "duration": 86,
    "start_time": "2022-09-04T08:35:14.640Z"
   },
   {
    "duration": 155,
    "start_time": "2022-09-04T08:35:14.728Z"
   },
   {
    "duration": 7,
    "start_time": "2022-09-04T08:35:14.884Z"
   },
   {
    "duration": 196,
    "start_time": "2022-09-04T08:35:14.892Z"
   },
   {
    "duration": 161,
    "start_time": "2022-09-04T08:35:15.090Z"
   },
   {
    "duration": 150,
    "start_time": "2022-09-04T08:35:15.253Z"
   },
   {
    "duration": 160,
    "start_time": "2022-09-04T08:35:15.405Z"
   },
   {
    "duration": 258,
    "start_time": "2022-09-04T08:35:15.567Z"
   },
   {
    "duration": 6,
    "start_time": "2022-09-04T08:35:15.827Z"
   },
   {
    "duration": 173,
    "start_time": "2022-09-04T08:35:15.834Z"
   },
   {
    "duration": 9,
    "start_time": "2022-09-04T08:35:16.011Z"
   },
   {
    "duration": 170,
    "start_time": "2022-09-04T08:35:16.022Z"
   },
   {
    "duration": 5,
    "start_time": "2022-09-04T08:35:16.194Z"
   },
   {
    "duration": 57,
    "start_time": "2022-09-04T08:35:16.201Z"
   },
   {
    "duration": 216,
    "start_time": "2022-09-04T08:35:16.260Z"
   },
   {
    "duration": 3,
    "start_time": "2022-09-04T08:35:16.478Z"
   },
   {
    "duration": 3362,
    "start_time": "2022-09-04T08:35:16.486Z"
   },
   {
    "duration": 432,
    "start_time": "2022-09-04T08:35:19.850Z"
   },
   {
    "duration": 124,
    "start_time": "2022-09-04T08:35:20.284Z"
   },
   {
    "duration": 110,
    "start_time": "2022-09-04T08:35:20.410Z"
   },
   {
    "duration": 249,
    "start_time": "2022-09-04T08:38:33.830Z"
   },
   {
    "duration": 211,
    "start_time": "2022-09-04T08:38:44.378Z"
   },
   {
    "duration": 218,
    "start_time": "2022-09-04T08:39:18.318Z"
   },
   {
    "duration": 3721,
    "start_time": "2022-09-04T08:39:51.929Z"
   },
   {
    "duration": 10,
    "start_time": "2022-09-04T08:39:55.687Z"
   },
   {
    "duration": 7,
    "start_time": "2022-09-04T08:39:55.698Z"
   },
   {
    "duration": 523,
    "start_time": "2022-09-04T08:39:55.706Z"
   },
   {
    "duration": 290,
    "start_time": "2022-09-04T08:39:56.233Z"
   },
   {
    "duration": 263,
    "start_time": "2022-09-04T08:39:56.525Z"
   },
   {
    "duration": 44,
    "start_time": "2022-09-04T08:39:56.789Z"
   },
   {
    "duration": 6,
    "start_time": "2022-09-04T08:39:56.835Z"
   },
   {
    "duration": 17,
    "start_time": "2022-09-04T08:39:56.842Z"
   },
   {
    "duration": 25,
    "start_time": "2022-09-04T08:39:56.862Z"
   },
   {
    "duration": 115,
    "start_time": "2022-09-04T08:39:56.889Z"
   },
   {
    "duration": 48,
    "start_time": "2022-09-04T08:39:57.006Z"
   },
   {
    "duration": 13,
    "start_time": "2022-09-04T08:39:57.056Z"
   },
   {
    "duration": 4,
    "start_time": "2022-09-04T08:39:57.087Z"
   },
   {
    "duration": 290,
    "start_time": "2022-09-04T08:39:57.092Z"
   },
   {
    "duration": 3,
    "start_time": "2022-09-04T08:39:57.384Z"
   },
   {
    "duration": 301,
    "start_time": "2022-09-04T08:39:57.389Z"
   },
   {
    "duration": 452,
    "start_time": "2022-09-04T08:39:57.691Z"
   },
   {
    "duration": 214,
    "start_time": "2022-09-04T08:39:58.145Z"
   },
   {
    "duration": 318,
    "start_time": "2022-09-04T08:39:58.361Z"
   },
   {
    "duration": 190,
    "start_time": "2022-09-04T08:39:58.681Z"
   },
   {
    "duration": 235,
    "start_time": "2022-09-04T08:39:58.872Z"
   },
   {
    "duration": 209,
    "start_time": "2022-09-04T08:39:59.108Z"
   },
   {
    "duration": 141,
    "start_time": "2022-09-04T08:39:59.319Z"
   },
   {
    "duration": 238,
    "start_time": "2022-09-04T08:39:59.462Z"
   },
   {
    "duration": 231,
    "start_time": "2022-09-04T08:39:59.701Z"
   },
   {
    "duration": 237,
    "start_time": "2022-09-04T08:39:59.934Z"
   },
   {
    "duration": 351,
    "start_time": "2022-09-04T08:40:00.175Z"
   },
   {
    "duration": 219,
    "start_time": "2022-09-04T08:40:00.527Z"
   },
   {
    "duration": 250,
    "start_time": "2022-09-04T08:40:00.748Z"
   },
   {
    "duration": 235,
    "start_time": "2022-09-04T08:40:01.000Z"
   },
   {
    "duration": 104,
    "start_time": "2022-09-04T08:40:01.237Z"
   },
   {
    "duration": 45,
    "start_time": "2022-09-04T08:40:01.343Z"
   },
   {
    "duration": 96,
    "start_time": "2022-09-04T08:40:01.390Z"
   },
   {
    "duration": 148,
    "start_time": "2022-09-04T08:40:01.488Z"
   },
   {
    "duration": 6,
    "start_time": "2022-09-04T08:40:01.637Z"
   },
   {
    "duration": 199,
    "start_time": "2022-09-04T08:40:01.644Z"
   },
   {
    "duration": 189,
    "start_time": "2022-09-04T08:40:01.845Z"
   },
   {
    "duration": 153,
    "start_time": "2022-09-04T08:40:02.036Z"
   },
   {
    "duration": 160,
    "start_time": "2022-09-04T08:40:02.191Z"
   },
   {
    "duration": 261,
    "start_time": "2022-09-04T08:40:02.353Z"
   },
   {
    "duration": 4,
    "start_time": "2022-09-04T08:40:02.616Z"
   },
   {
    "duration": 159,
    "start_time": "2022-09-04T08:40:02.622Z"
   },
   {
    "duration": 5,
    "start_time": "2022-09-04T08:40:02.786Z"
   },
   {
    "duration": 157,
    "start_time": "2022-09-04T08:40:02.793Z"
   },
   {
    "duration": 6,
    "start_time": "2022-09-04T08:40:02.952Z"
   },
   {
    "duration": 44,
    "start_time": "2022-09-04T08:40:02.960Z"
   },
   {
    "duration": 160,
    "start_time": "2022-09-04T08:40:03.005Z"
   },
   {
    "duration": 3,
    "start_time": "2022-09-04T08:40:03.166Z"
   },
   {
    "duration": 3270,
    "start_time": "2022-09-04T08:40:03.170Z"
   },
   {
    "duration": 416,
    "start_time": "2022-09-04T08:40:06.442Z"
   },
   {
    "duration": 113,
    "start_time": "2022-09-04T08:40:06.860Z"
   },
   {
    "duration": 95,
    "start_time": "2022-09-04T08:40:06.975Z"
   },
   {
    "duration": 18,
    "start_time": "2022-09-04T08:40:50.508Z"
   },
   {
    "duration": 228,
    "start_time": "2022-09-04T08:46:14.626Z"
   },
   {
    "duration": 3319,
    "start_time": "2022-09-04T08:46:32.331Z"
   },
   {
    "duration": 10,
    "start_time": "2022-09-04T08:46:35.688Z"
   },
   {
    "duration": 5,
    "start_time": "2022-09-04T08:46:35.699Z"
   },
   {
    "duration": 512,
    "start_time": "2022-09-04T08:46:35.706Z"
   },
   {
    "duration": 567,
    "start_time": "2022-09-04T08:46:36.220Z"
   },
   {
    "duration": 412,
    "start_time": "2022-09-04T08:46:36.789Z"
   },
   {
    "duration": 41,
    "start_time": "2022-09-04T08:46:37.202Z"
   },
   {
    "duration": 6,
    "start_time": "2022-09-04T08:46:37.244Z"
   },
   {
    "duration": 15,
    "start_time": "2022-09-04T08:46:37.252Z"
   },
   {
    "duration": 18,
    "start_time": "2022-09-04T08:46:37.270Z"
   },
   {
    "duration": 115,
    "start_time": "2022-09-04T08:46:37.290Z"
   },
   {
    "duration": 48,
    "start_time": "2022-09-04T08:46:37.407Z"
   },
   {
    "duration": 30,
    "start_time": "2022-09-04T08:46:37.458Z"
   },
   {
    "duration": 4,
    "start_time": "2022-09-04T08:46:37.489Z"
   },
   {
    "duration": 287,
    "start_time": "2022-09-04T08:46:37.495Z"
   },
   {
    "duration": 5,
    "start_time": "2022-09-04T08:46:37.783Z"
   },
   {
    "duration": 298,
    "start_time": "2022-09-04T08:46:37.790Z"
   },
   {
    "duration": 426,
    "start_time": "2022-09-04T08:46:38.090Z"
   },
   {
    "duration": 215,
    "start_time": "2022-09-04T08:46:38.518Z"
   },
   {
    "duration": 293,
    "start_time": "2022-09-04T08:46:38.735Z"
   },
   {
    "duration": 182,
    "start_time": "2022-09-04T08:46:39.029Z"
   },
   {
    "duration": 220,
    "start_time": "2022-09-04T08:46:39.213Z"
   },
   {
    "duration": 224,
    "start_time": "2022-09-04T08:46:39.435Z"
   },
   {
    "duration": 160,
    "start_time": "2022-09-04T08:46:39.661Z"
   },
   {
    "duration": 218,
    "start_time": "2022-09-04T08:46:39.823Z"
   },
   {
    "duration": 237,
    "start_time": "2022-09-04T08:46:40.043Z"
   },
   {
    "duration": 218,
    "start_time": "2022-09-04T08:46:40.286Z"
   },
   {
    "duration": 323,
    "start_time": "2022-09-04T08:46:40.507Z"
   },
   {
    "duration": 218,
    "start_time": "2022-09-04T08:46:40.832Z"
   },
   {
    "duration": 245,
    "start_time": "2022-09-04T08:46:41.052Z"
   },
   {
    "duration": 216,
    "start_time": "2022-09-04T08:46:41.299Z"
   },
   {
    "duration": 96,
    "start_time": "2022-09-04T08:46:41.517Z"
   },
   {
    "duration": 37,
    "start_time": "2022-09-04T08:46:41.614Z"
   },
   {
    "duration": 79,
    "start_time": "2022-09-04T08:46:41.653Z"
   },
   {
    "duration": 149,
    "start_time": "2022-09-04T08:46:41.734Z"
   },
   {
    "duration": 5,
    "start_time": "2022-09-04T08:46:41.886Z"
   },
   {
    "duration": 181,
    "start_time": "2022-09-04T08:46:41.892Z"
   },
   {
    "duration": 162,
    "start_time": "2022-09-04T08:46:42.075Z"
   },
   {
    "duration": 142,
    "start_time": "2022-09-04T08:46:42.239Z"
   },
   {
    "duration": 144,
    "start_time": "2022-09-04T08:46:42.387Z"
   },
   {
    "duration": 250,
    "start_time": "2022-09-04T08:46:42.532Z"
   },
   {
    "duration": 5,
    "start_time": "2022-09-04T08:46:42.784Z"
   },
   {
    "duration": 169,
    "start_time": "2022-09-04T08:46:42.790Z"
   },
   {
    "duration": 5,
    "start_time": "2022-09-04T08:46:42.960Z"
   },
   {
    "duration": 170,
    "start_time": "2022-09-04T08:46:42.966Z"
   },
   {
    "duration": 5,
    "start_time": "2022-09-04T08:46:43.137Z"
   },
   {
    "duration": 23,
    "start_time": "2022-09-04T08:46:43.143Z"
   },
   {
    "duration": 170,
    "start_time": "2022-09-04T08:46:43.167Z"
   },
   {
    "duration": 2,
    "start_time": "2022-09-04T08:46:43.339Z"
   },
   {
    "duration": 3187,
    "start_time": "2022-09-04T08:46:43.343Z"
   },
   {
    "duration": 414,
    "start_time": "2022-09-04T08:46:46.531Z"
   },
   {
    "duration": 115,
    "start_time": "2022-09-04T08:46:46.947Z"
   },
   {
    "duration": 92,
    "start_time": "2022-09-04T08:46:47.064Z"
   },
   {
    "duration": 28,
    "start_time": "2022-09-04T08:48:25.903Z"
   },
   {
    "duration": 125,
    "start_time": "2022-09-04T08:57:42.601Z"
   },
   {
    "duration": 141,
    "start_time": "2022-09-04T08:59:39.359Z"
   },
   {
    "duration": 18,
    "start_time": "2022-09-04T08:59:51.535Z"
   },
   {
    "duration": 21,
    "start_time": "2022-09-04T09:01:33.778Z"
   },
   {
    "duration": 233,
    "start_time": "2022-09-04T09:03:53.673Z"
   },
   {
    "duration": 178,
    "start_time": "2022-09-04T09:04:20.986Z"
   },
   {
    "duration": 178,
    "start_time": "2022-09-04T09:04:45.720Z"
   },
   {
    "duration": 221,
    "start_time": "2022-09-04T09:05:11.923Z"
   },
   {
    "duration": 9,
    "start_time": "2022-09-04T09:05:17.823Z"
   },
   {
    "duration": 174,
    "start_time": "2022-09-04T09:05:37.124Z"
   },
   {
    "duration": 3321,
    "start_time": "2022-09-04T09:10:31.929Z"
   },
   {
    "duration": 41,
    "start_time": "2022-09-04T09:10:35.253Z"
   },
   {
    "duration": 7,
    "start_time": "2022-09-04T09:10:35.295Z"
   },
   {
    "duration": 489,
    "start_time": "2022-09-04T09:10:35.304Z"
   },
   {
    "duration": 410,
    "start_time": "2022-09-04T09:10:35.795Z"
   },
   {
    "duration": 113,
    "start_time": "2022-09-04T09:10:36.208Z"
   },
   {
    "duration": 8,
    "start_time": "2022-09-04T09:10:36.323Z"
   },
   {
    "duration": 69,
    "start_time": "2022-09-04T09:10:36.333Z"
   },
   {
    "duration": 4,
    "start_time": "2022-09-04T09:10:36.404Z"
   },
   {
    "duration": 277,
    "start_time": "2022-09-04T09:10:36.411Z"
   },
   {
    "duration": 50,
    "start_time": "2022-09-04T09:10:36.690Z"
   },
   {
    "duration": 15,
    "start_time": "2022-09-04T09:10:36.741Z"
   },
   {
    "duration": 151,
    "start_time": "2022-09-04T09:10:36.758Z"
   },
   {
    "duration": 32869,
    "start_time": "2022-09-04T09:10:36.911Z"
   },
   {
    "duration": 6,
    "start_time": "2022-09-04T09:11:09.781Z"
   },
   {
    "duration": 303,
    "start_time": "2022-09-04T09:11:09.789Z"
   },
   {
    "duration": 3,
    "start_time": "2022-09-04T09:11:10.094Z"
   },
   {
    "duration": 341,
    "start_time": "2022-09-04T09:11:10.099Z"
   },
   {
    "duration": 330,
    "start_time": "2022-09-04T09:11:10.442Z"
   },
   {
    "duration": 240,
    "start_time": "2022-09-04T09:11:10.774Z"
   },
   {
    "duration": 511,
    "start_time": "2022-09-04T09:11:11.015Z"
   },
   {
    "duration": 203,
    "start_time": "2022-09-04T09:11:11.528Z"
   },
   {
    "duration": 246,
    "start_time": "2022-09-04T09:11:11.733Z"
   },
   {
    "duration": 227,
    "start_time": "2022-09-04T09:11:11.982Z"
   },
   {
    "duration": 139,
    "start_time": "2022-09-04T09:11:12.210Z"
   },
   {
    "duration": 251,
    "start_time": "2022-09-04T09:11:12.351Z"
   },
   {
    "duration": 222,
    "start_time": "2022-09-04T09:11:12.603Z"
   },
   {
    "duration": 233,
    "start_time": "2022-09-04T09:11:12.829Z"
   },
   {
    "duration": 244,
    "start_time": "2022-09-04T09:11:13.064Z"
   },
   {
    "duration": 223,
    "start_time": "2022-09-04T09:11:13.309Z"
   },
   {
    "duration": 248,
    "start_time": "2022-09-04T09:11:13.534Z"
   },
   {
    "duration": 251,
    "start_time": "2022-09-04T09:11:13.783Z"
   },
   {
    "duration": 104,
    "start_time": "2022-09-04T09:11:14.036Z"
   },
   {
    "duration": 51,
    "start_time": "2022-09-04T09:11:14.141Z"
   },
   {
    "duration": 71,
    "start_time": "2022-09-04T09:11:14.194Z"
   },
   {
    "duration": 169,
    "start_time": "2022-09-04T09:11:14.267Z"
   },
   {
    "duration": 4,
    "start_time": "2022-09-04T09:11:14.438Z"
   },
   {
    "duration": 169,
    "start_time": "2022-09-04T09:11:14.444Z"
   },
   {
    "duration": 168,
    "start_time": "2022-09-04T09:11:14.615Z"
   },
   {
    "duration": 135,
    "start_time": "2022-09-04T09:11:14.786Z"
   },
   {
    "duration": 157,
    "start_time": "2022-09-04T09:11:14.923Z"
   },
   {
    "duration": 157,
    "start_time": "2022-09-04T09:11:15.087Z"
   },
   {
    "duration": 6,
    "start_time": "2022-09-04T09:11:15.246Z"
   },
   {
    "duration": 159,
    "start_time": "2022-09-04T09:11:15.253Z"
   },
   {
    "duration": 5,
    "start_time": "2022-09-04T09:11:15.414Z"
   },
   {
    "duration": 156,
    "start_time": "2022-09-04T09:11:15.420Z"
   },
   {
    "duration": 5,
    "start_time": "2022-09-04T09:11:15.587Z"
   },
   {
    "duration": 34,
    "start_time": "2022-09-04T09:11:15.593Z"
   },
   {
    "duration": 169,
    "start_time": "2022-09-04T09:11:15.629Z"
   },
   {
    "duration": 3,
    "start_time": "2022-09-04T09:11:15.800Z"
   },
   {
    "duration": 3438,
    "start_time": "2022-09-04T09:11:15.805Z"
   },
   {
    "duration": 396,
    "start_time": "2022-09-04T09:11:19.244Z"
   },
   {
    "duration": 114,
    "start_time": "2022-09-04T09:11:19.642Z"
   },
   {
    "duration": 96,
    "start_time": "2022-09-04T09:11:19.758Z"
   },
   {
    "duration": 102,
    "start_time": "2022-09-04T09:21:14.023Z"
   },
   {
    "duration": 93,
    "start_time": "2022-09-04T09:21:33.576Z"
   },
   {
    "duration": 90,
    "start_time": "2022-09-04T09:22:21.014Z"
   },
   {
    "duration": 105,
    "start_time": "2022-09-04T09:22:51.830Z"
   },
   {
    "duration": 190,
    "start_time": "2022-09-04T09:23:06.286Z"
   },
   {
    "duration": 106,
    "start_time": "2022-09-04T09:24:39.082Z"
   },
   {
    "duration": 198,
    "start_time": "2022-09-04T09:28:24.936Z"
   },
   {
    "duration": 114,
    "start_time": "2022-09-04T09:28:55.067Z"
   },
   {
    "duration": 131,
    "start_time": "2022-09-04T09:29:08.438Z"
   },
   {
    "duration": 3538,
    "start_time": "2022-09-04T09:29:18.872Z"
   },
   {
    "duration": 9,
    "start_time": "2022-09-04T09:29:22.412Z"
   },
   {
    "duration": 5,
    "start_time": "2022-09-04T09:29:22.423Z"
   },
   {
    "duration": 469,
    "start_time": "2022-09-04T09:29:22.430Z"
   },
   {
    "duration": 392,
    "start_time": "2022-09-04T09:29:22.900Z"
   },
   {
    "duration": 94,
    "start_time": "2022-09-04T09:29:23.294Z"
   },
   {
    "duration": 7,
    "start_time": "2022-09-04T09:29:23.390Z"
   },
   {
    "duration": 18,
    "start_time": "2022-09-04T09:29:23.398Z"
   },
   {
    "duration": 3,
    "start_time": "2022-09-04T09:29:23.418Z"
   },
   {
    "duration": 159,
    "start_time": "2022-09-04T09:29:23.424Z"
   },
   {
    "duration": 51,
    "start_time": "2022-09-04T09:29:23.587Z"
   },
   {
    "duration": 14,
    "start_time": "2022-09-04T09:29:23.640Z"
   },
   {
    "duration": 137,
    "start_time": "2022-09-04T09:29:23.656Z"
   },
   {
    "duration": 4,
    "start_time": "2022-09-04T09:29:23.796Z"
   },
   {
    "duration": 306,
    "start_time": "2022-09-04T09:29:23.802Z"
   },
   {
    "duration": 4,
    "start_time": "2022-09-04T09:29:24.110Z"
   },
   {
    "duration": 277,
    "start_time": "2022-09-04T09:29:24.116Z"
   },
   {
    "duration": 433,
    "start_time": "2022-09-04T09:29:24.395Z"
   },
   {
    "duration": 221,
    "start_time": "2022-09-04T09:29:24.830Z"
   },
   {
    "duration": 300,
    "start_time": "2022-09-04T09:29:25.052Z"
   },
   {
    "duration": 193,
    "start_time": "2022-09-04T09:29:25.353Z"
   },
   {
    "duration": 216,
    "start_time": "2022-09-04T09:29:25.548Z"
   },
   {
    "duration": 212,
    "start_time": "2022-09-04T09:29:25.766Z"
   },
   {
    "duration": 144,
    "start_time": "2022-09-04T09:29:25.979Z"
   },
   {
    "duration": 303,
    "start_time": "2022-09-04T09:29:26.126Z"
   },
   {
    "duration": 257,
    "start_time": "2022-09-04T09:29:26.432Z"
   },
   {
    "duration": 208,
    "start_time": "2022-09-04T09:29:26.691Z"
   },
   {
    "duration": 316,
    "start_time": "2022-09-04T09:29:26.902Z"
   },
   {
    "duration": 205,
    "start_time": "2022-09-04T09:29:27.220Z"
   },
   {
    "duration": 260,
    "start_time": "2022-09-04T09:29:27.427Z"
   },
   {
    "duration": 220,
    "start_time": "2022-09-04T09:29:27.689Z"
   },
   {
    "duration": 92,
    "start_time": "2022-09-04T09:29:27.911Z"
   },
   {
    "duration": 40,
    "start_time": "2022-09-04T09:29:28.005Z"
   },
   {
    "duration": 80,
    "start_time": "2022-09-04T09:29:28.047Z"
   },
   {
    "duration": 148,
    "start_time": "2022-09-04T09:29:28.129Z"
   },
   {
    "duration": 9,
    "start_time": "2022-09-04T09:29:28.278Z"
   },
   {
    "duration": 176,
    "start_time": "2022-09-04T09:29:28.289Z"
   },
   {
    "duration": 160,
    "start_time": "2022-09-04T09:29:28.466Z"
   },
   {
    "duration": 161,
    "start_time": "2022-09-04T09:29:28.628Z"
   },
   {
    "duration": 144,
    "start_time": "2022-09-04T09:29:28.791Z"
   },
   {
    "duration": 266,
    "start_time": "2022-09-04T09:29:28.937Z"
   },
   {
    "duration": 5,
    "start_time": "2022-09-04T09:29:29.205Z"
   },
   {
    "duration": 158,
    "start_time": "2022-09-04T09:29:29.212Z"
   },
   {
    "duration": 5,
    "start_time": "2022-09-04T09:29:29.372Z"
   },
   {
    "duration": 163,
    "start_time": "2022-09-04T09:29:29.379Z"
   },
   {
    "duration": 5,
    "start_time": "2022-09-04T09:29:29.544Z"
   },
   {
    "duration": 42,
    "start_time": "2022-09-04T09:29:29.551Z"
   },
   {
    "duration": 155,
    "start_time": "2022-09-04T09:29:29.595Z"
   },
   {
    "duration": 3,
    "start_time": "2022-09-04T09:29:29.752Z"
   },
   {
    "duration": 3204,
    "start_time": "2022-09-04T09:29:29.756Z"
   },
   {
    "duration": 392,
    "start_time": "2022-09-04T09:29:32.962Z"
   },
   {
    "duration": 112,
    "start_time": "2022-09-04T09:29:33.356Z"
   },
   {
    "duration": 91,
    "start_time": "2022-09-04T09:29:33.470Z"
   },
   {
    "duration": 18,
    "start_time": "2022-09-04T09:31:17.762Z"
   },
   {
    "duration": 6,
    "start_time": "2022-09-04T10:03:28.571Z"
   },
   {
    "duration": 6,
    "start_time": "2022-09-04T10:05:46.968Z"
   },
   {
    "duration": 18,
    "start_time": "2022-09-04T10:05:49.133Z"
   },
   {
    "duration": 7,
    "start_time": "2022-09-04T10:07:28.246Z"
   },
   {
    "duration": 18,
    "start_time": "2022-09-04T10:07:30.190Z"
   },
   {
    "duration": 6,
    "start_time": "2022-09-04T10:07:42.549Z"
   },
   {
    "duration": 3107,
    "start_time": "2022-09-04T10:07:48.928Z"
   },
   {
    "duration": 13,
    "start_time": "2022-09-04T10:07:52.038Z"
   },
   {
    "duration": 5,
    "start_time": "2022-09-04T10:07:52.053Z"
   },
   {
    "duration": 427,
    "start_time": "2022-09-04T10:07:52.060Z"
   },
   {
    "duration": 340,
    "start_time": "2022-09-04T10:07:52.489Z"
   },
   {
    "duration": 98,
    "start_time": "2022-09-04T10:07:52.831Z"
   },
   {
    "duration": 60,
    "start_time": "2022-09-04T10:07:52.931Z"
   },
   {
    "duration": 26,
    "start_time": "2022-09-04T10:07:52.993Z"
   },
   {
    "duration": 3,
    "start_time": "2022-09-04T10:07:53.022Z"
   },
   {
    "duration": 260,
    "start_time": "2022-09-04T10:07:53.028Z"
   },
   {
    "duration": 106,
    "start_time": "2022-09-04T10:07:53.289Z"
   },
   {
    "duration": 14,
    "start_time": "2022-09-04T10:07:53.397Z"
   },
   {
    "duration": 5,
    "start_time": "2022-09-04T10:07:53.412Z"
   },
   {
    "duration": 71,
    "start_time": "2022-09-04T10:07:53.419Z"
   },
   {
    "duration": 4,
    "start_time": "2022-09-04T10:07:53.492Z"
   },
   {
    "duration": 426,
    "start_time": "2022-09-04T10:07:53.497Z"
   },
   {
    "duration": 3,
    "start_time": "2022-09-04T10:07:53.924Z"
   },
   {
    "duration": 297,
    "start_time": "2022-09-04T10:07:53.929Z"
   },
   {
    "duration": 341,
    "start_time": "2022-09-04T10:07:54.228Z"
   },
   {
    "duration": 219,
    "start_time": "2022-09-04T10:07:54.571Z"
   },
   {
    "duration": 422,
    "start_time": "2022-09-04T10:07:54.792Z"
   },
   {
    "duration": 177,
    "start_time": "2022-09-04T10:07:55.216Z"
   },
   {
    "duration": 218,
    "start_time": "2022-09-04T10:07:55.395Z"
   },
   {
    "duration": 200,
    "start_time": "2022-09-04T10:07:55.615Z"
   },
   {
    "duration": 142,
    "start_time": "2022-09-04T10:07:55.816Z"
   },
   {
    "duration": 227,
    "start_time": "2022-09-04T10:07:55.959Z"
   },
   {
    "duration": 269,
    "start_time": "2022-09-04T10:07:56.188Z"
   },
   {
    "duration": 227,
    "start_time": "2022-09-04T10:07:56.462Z"
   },
   {
    "duration": 217,
    "start_time": "2022-09-04T10:07:56.691Z"
   },
   {
    "duration": 210,
    "start_time": "2022-09-04T10:07:56.909Z"
   },
   {
    "duration": 337,
    "start_time": "2022-09-04T10:07:57.121Z"
   },
   {
    "duration": 252,
    "start_time": "2022-09-04T10:07:57.460Z"
   },
   {
    "duration": 87,
    "start_time": "2022-09-04T10:07:57.714Z"
   },
   {
    "duration": 39,
    "start_time": "2022-09-04T10:07:57.803Z"
   },
   {
    "duration": 80,
    "start_time": "2022-09-04T10:07:57.844Z"
   },
   {
    "duration": 145,
    "start_time": "2022-09-04T10:07:57.926Z"
   },
   {
    "duration": 5,
    "start_time": "2022-09-04T10:07:58.073Z"
   },
   {
    "duration": 166,
    "start_time": "2022-09-04T10:07:58.079Z"
   },
   {
    "duration": 161,
    "start_time": "2022-09-04T10:07:58.246Z"
   },
   {
    "duration": 133,
    "start_time": "2022-09-04T10:07:58.408Z"
   },
   {
    "duration": 146,
    "start_time": "2022-09-04T10:07:58.543Z"
   },
   {
    "duration": 154,
    "start_time": "2022-09-04T10:07:58.691Z"
   },
   {
    "duration": 4,
    "start_time": "2022-09-04T10:07:58.847Z"
   },
   {
    "duration": 151,
    "start_time": "2022-09-04T10:07:58.853Z"
   },
   {
    "duration": 4,
    "start_time": "2022-09-04T10:07:59.006Z"
   },
   {
    "duration": 248,
    "start_time": "2022-09-04T10:07:59.012Z"
   },
   {
    "duration": 4,
    "start_time": "2022-09-04T10:07:59.262Z"
   },
   {
    "duration": 36,
    "start_time": "2022-09-04T10:07:59.267Z"
   },
   {
    "duration": 158,
    "start_time": "2022-09-04T10:07:59.304Z"
   },
   {
    "duration": 3,
    "start_time": "2022-09-04T10:07:59.463Z"
   },
   {
    "duration": 3259,
    "start_time": "2022-09-04T10:07:59.468Z"
   },
   {
    "duration": 401,
    "start_time": "2022-09-04T10:08:02.729Z"
   },
   {
    "duration": 119,
    "start_time": "2022-09-04T10:08:03.131Z"
   },
   {
    "duration": 100,
    "start_time": "2022-09-04T10:08:03.252Z"
   },
   {
    "duration": 6,
    "start_time": "2022-09-04T10:08:14.597Z"
   },
   {
    "duration": 3084,
    "start_time": "2022-09-04T10:08:19.658Z"
   },
   {
    "duration": 9,
    "start_time": "2022-09-04T10:08:22.744Z"
   },
   {
    "duration": 5,
    "start_time": "2022-09-04T10:08:22.755Z"
   },
   {
    "duration": 218,
    "start_time": "2022-09-04T10:08:22.761Z"
   },
   {
    "duration": 199,
    "start_time": "2022-09-04T10:08:22.980Z"
   },
   {
    "duration": 39,
    "start_time": "2022-09-04T10:08:23.181Z"
   },
   {
    "duration": 11,
    "start_time": "2022-09-04T10:08:23.222Z"
   },
   {
    "duration": 20,
    "start_time": "2022-09-04T10:08:23.234Z"
   },
   {
    "duration": 3,
    "start_time": "2022-09-04T10:08:23.255Z"
   },
   {
    "duration": 120,
    "start_time": "2022-09-04T10:08:23.261Z"
   },
   {
    "duration": 51,
    "start_time": "2022-09-04T10:08:23.382Z"
   },
   {
    "duration": 14,
    "start_time": "2022-09-04T10:08:23.434Z"
   },
   {
    "duration": 5,
    "start_time": "2022-09-04T10:08:23.449Z"
   },
   {
    "duration": 39,
    "start_time": "2022-09-04T10:08:23.456Z"
   },
   {
    "duration": 4,
    "start_time": "2022-09-04T10:08:23.496Z"
   },
   {
    "duration": 415,
    "start_time": "2022-09-04T10:08:23.502Z"
   },
   {
    "duration": 3,
    "start_time": "2022-09-04T10:08:23.919Z"
   },
   {
    "duration": 577,
    "start_time": "2022-09-04T10:08:23.923Z"
   },
   {
    "duration": 605,
    "start_time": "2022-09-04T10:08:24.501Z"
   },
   {
    "duration": 311,
    "start_time": "2022-09-04T10:08:25.108Z"
   },
   {
    "duration": 408,
    "start_time": "2022-09-04T10:08:25.420Z"
   },
   {
    "duration": 186,
    "start_time": "2022-09-04T10:08:25.830Z"
   },
   {
    "duration": 242,
    "start_time": "2022-09-04T10:08:26.017Z"
   },
   {
    "duration": 260,
    "start_time": "2022-09-04T10:08:26.261Z"
   },
   {
    "duration": 148,
    "start_time": "2022-09-04T10:08:26.523Z"
   },
   {
    "duration": 208,
    "start_time": "2022-09-04T10:08:26.672Z"
   },
   {
    "duration": 203,
    "start_time": "2022-09-04T10:08:26.886Z"
   },
   {
    "duration": 199,
    "start_time": "2022-09-04T10:08:27.092Z"
   },
   {
    "duration": 214,
    "start_time": "2022-09-04T10:08:27.292Z"
   },
   {
    "duration": 233,
    "start_time": "2022-09-04T10:08:27.508Z"
   },
   {
    "duration": 338,
    "start_time": "2022-09-04T10:08:27.743Z"
   },
   {
    "duration": 276,
    "start_time": "2022-09-04T10:08:28.083Z"
   },
   {
    "duration": 89,
    "start_time": "2022-09-04T10:08:28.361Z"
   },
   {
    "duration": 39,
    "start_time": "2022-09-04T10:08:28.452Z"
   },
   {
    "duration": 125,
    "start_time": "2022-09-04T10:08:28.492Z"
   },
   {
    "duration": 301,
    "start_time": "2022-09-04T10:08:28.619Z"
   },
   {
    "duration": 4,
    "start_time": "2022-09-04T10:08:28.922Z"
   },
   {
    "duration": 236,
    "start_time": "2022-09-04T10:08:28.927Z"
   },
   {
    "duration": 163,
    "start_time": "2022-09-04T10:08:29.165Z"
   },
   {
    "duration": 147,
    "start_time": "2022-09-04T10:08:29.329Z"
   },
   {
    "duration": 143,
    "start_time": "2022-09-04T10:08:29.477Z"
   },
   {
    "duration": 153,
    "start_time": "2022-09-04T10:08:29.622Z"
   },
   {
    "duration": 4,
    "start_time": "2022-09-04T10:08:29.777Z"
   },
   {
    "duration": 139,
    "start_time": "2022-09-04T10:08:29.787Z"
   },
   {
    "duration": 5,
    "start_time": "2022-09-04T10:08:29.927Z"
   },
   {
    "duration": 254,
    "start_time": "2022-09-04T10:08:29.933Z"
   },
   {
    "duration": 4,
    "start_time": "2022-09-04T10:08:30.189Z"
   },
   {
    "duration": 26,
    "start_time": "2022-09-04T10:08:30.195Z"
   },
   {
    "duration": 158,
    "start_time": "2022-09-04T10:08:30.222Z"
   },
   {
    "duration": 6,
    "start_time": "2022-09-04T10:08:30.381Z"
   },
   {
    "duration": 3063,
    "start_time": "2022-09-04T10:08:30.389Z"
   },
   {
    "duration": 383,
    "start_time": "2022-09-04T10:08:33.453Z"
   },
   {
    "duration": 117,
    "start_time": "2022-09-04T10:08:33.838Z"
   },
   {
    "duration": 101,
    "start_time": "2022-09-04T10:08:33.956Z"
   },
   {
    "duration": 6,
    "start_time": "2022-09-04T10:08:34.450Z"
   },
   {
    "duration": 3051,
    "start_time": "2022-09-04T10:08:54.343Z"
   },
   {
    "duration": 9,
    "start_time": "2022-09-04T10:08:57.397Z"
   },
   {
    "duration": 12,
    "start_time": "2022-09-04T10:08:57.407Z"
   },
   {
    "duration": 228,
    "start_time": "2022-09-04T10:08:57.421Z"
   },
   {
    "duration": 192,
    "start_time": "2022-09-04T10:08:57.652Z"
   },
   {
    "duration": 46,
    "start_time": "2022-09-04T10:08:57.845Z"
   },
   {
    "duration": 6,
    "start_time": "2022-09-04T10:08:57.892Z"
   },
   {
    "duration": 14,
    "start_time": "2022-09-04T10:08:57.900Z"
   },
   {
    "duration": 3,
    "start_time": "2022-09-04T10:08:57.916Z"
   },
   {
    "duration": 124,
    "start_time": "2022-09-04T10:08:57.920Z"
   },
   {
    "duration": 58,
    "start_time": "2022-09-04T10:08:58.045Z"
   },
   {
    "duration": 14,
    "start_time": "2022-09-04T10:08:58.105Z"
   },
   {
    "duration": 5,
    "start_time": "2022-09-04T10:08:58.121Z"
   },
   {
    "duration": 17,
    "start_time": "2022-09-04T10:08:58.129Z"
   },
   {
    "duration": 4,
    "start_time": "2022-09-04T10:08:58.148Z"
   },
   {
    "duration": 275,
    "start_time": "2022-09-04T10:08:58.153Z"
   },
   {
    "duration": 3,
    "start_time": "2022-09-04T10:08:58.430Z"
   },
   {
    "duration": 272,
    "start_time": "2022-09-04T10:08:58.434Z"
   },
   {
    "duration": 307,
    "start_time": "2022-09-04T10:08:58.708Z"
   },
   {
    "duration": 347,
    "start_time": "2022-09-04T10:08:59.026Z"
   },
   {
    "duration": 292,
    "start_time": "2022-09-04T10:08:59.374Z"
   },
   {
    "duration": 184,
    "start_time": "2022-09-04T10:08:59.668Z"
   },
   {
    "duration": 237,
    "start_time": "2022-09-04T10:08:59.854Z"
   },
   {
    "duration": 205,
    "start_time": "2022-09-04T10:09:00.093Z"
   },
   {
    "duration": 138,
    "start_time": "2022-09-04T10:09:00.300Z"
   },
   {
    "duration": 211,
    "start_time": "2022-09-04T10:09:00.440Z"
   },
   {
    "duration": 223,
    "start_time": "2022-09-04T10:09:00.653Z"
   },
   {
    "duration": 216,
    "start_time": "2022-09-04T10:09:00.878Z"
   },
   {
    "duration": 222,
    "start_time": "2022-09-04T10:09:01.096Z"
   },
   {
    "duration": 312,
    "start_time": "2022-09-04T10:09:01.320Z"
   },
   {
    "duration": 235,
    "start_time": "2022-09-04T10:09:01.634Z"
   },
   {
    "duration": 238,
    "start_time": "2022-09-04T10:09:01.871Z"
   },
   {
    "duration": 97,
    "start_time": "2022-09-04T10:09:02.111Z"
   },
   {
    "duration": 41,
    "start_time": "2022-09-04T10:09:02.210Z"
   },
   {
    "duration": 79,
    "start_time": "2022-09-04T10:09:02.253Z"
   },
   {
    "duration": 156,
    "start_time": "2022-09-04T10:09:02.333Z"
   },
   {
    "duration": 5,
    "start_time": "2022-09-04T10:09:02.491Z"
   },
   {
    "duration": 189,
    "start_time": "2022-09-04T10:09:02.498Z"
   },
   {
    "duration": 162,
    "start_time": "2022-09-04T10:09:02.688Z"
   },
   {
    "duration": 154,
    "start_time": "2022-09-04T10:09:02.852Z"
   },
   {
    "duration": 149,
    "start_time": "2022-09-04T10:09:03.009Z"
   },
   {
    "duration": 158,
    "start_time": "2022-09-04T10:09:03.159Z"
   },
   {
    "duration": 4,
    "start_time": "2022-09-04T10:09:03.319Z"
   },
   {
    "duration": 251,
    "start_time": "2022-09-04T10:09:03.325Z"
   },
   {
    "duration": 9,
    "start_time": "2022-09-04T10:09:03.577Z"
   },
   {
    "duration": 165,
    "start_time": "2022-09-04T10:09:03.588Z"
   },
   {
    "duration": 4,
    "start_time": "2022-09-04T10:09:03.755Z"
   },
   {
    "duration": 55,
    "start_time": "2022-09-04T10:09:03.761Z"
   },
   {
    "duration": 184,
    "start_time": "2022-09-04T10:09:03.818Z"
   },
   {
    "duration": 3,
    "start_time": "2022-09-04T10:09:04.004Z"
   },
   {
    "duration": 3447,
    "start_time": "2022-09-04T10:09:04.008Z"
   },
   {
    "duration": 422,
    "start_time": "2022-09-04T10:09:07.456Z"
   },
   {
    "duration": 114,
    "start_time": "2022-09-04T10:09:07.879Z"
   },
   {
    "duration": 100,
    "start_time": "2022-09-04T10:09:07.994Z"
   },
   {
    "duration": 7,
    "start_time": "2022-09-04T10:09:26.586Z"
   },
   {
    "duration": 3995,
    "start_time": "2022-09-04T10:09:32.052Z"
   },
   {
    "duration": 48,
    "start_time": "2022-09-04T10:09:36.049Z"
   },
   {
    "duration": 5,
    "start_time": "2022-09-04T10:09:36.099Z"
   },
   {
    "duration": 305,
    "start_time": "2022-09-04T10:09:36.107Z"
   },
   {
    "duration": 221,
    "start_time": "2022-09-04T10:09:36.414Z"
   },
   {
    "duration": 51,
    "start_time": "2022-09-04T10:09:36.637Z"
   },
   {
    "duration": 6,
    "start_time": "2022-09-04T10:09:36.689Z"
   },
   {
    "duration": 14,
    "start_time": "2022-09-04T10:09:36.696Z"
   },
   {
    "duration": 3,
    "start_time": "2022-09-04T10:09:36.712Z"
   },
   {
    "duration": 135,
    "start_time": "2022-09-04T10:09:36.717Z"
   },
   {
    "duration": 56,
    "start_time": "2022-09-04T10:09:36.854Z"
   },
   {
    "duration": 14,
    "start_time": "2022-09-04T10:09:36.912Z"
   },
   {
    "duration": 4,
    "start_time": "2022-09-04T10:09:36.928Z"
   },
   {
    "duration": 17,
    "start_time": "2022-09-04T10:09:36.934Z"
   },
   {
    "duration": 3,
    "start_time": "2022-09-04T10:09:36.952Z"
   },
   {
    "duration": 281,
    "start_time": "2022-09-04T10:09:36.957Z"
   },
   {
    "duration": 3,
    "start_time": "2022-09-04T10:09:37.239Z"
   },
   {
    "duration": 265,
    "start_time": "2022-09-04T10:09:37.244Z"
   },
   {
    "duration": 307,
    "start_time": "2022-09-04T10:09:37.511Z"
   },
   {
    "duration": 234,
    "start_time": "2022-09-04T10:09:37.819Z"
   },
   {
    "duration": 414,
    "start_time": "2022-09-04T10:09:38.055Z"
   },
   {
    "duration": 177,
    "start_time": "2022-09-04T10:09:38.470Z"
   },
   {
    "duration": 222,
    "start_time": "2022-09-04T10:09:38.649Z"
   },
   {
    "duration": 197,
    "start_time": "2022-09-04T10:09:38.873Z"
   },
   {
    "duration": 135,
    "start_time": "2022-09-04T10:09:39.072Z"
   },
   {
    "duration": 211,
    "start_time": "2022-09-04T10:09:39.209Z"
   },
   {
    "duration": 214,
    "start_time": "2022-09-04T10:09:39.422Z"
   },
   {
    "duration": 205,
    "start_time": "2022-09-04T10:09:39.641Z"
   },
   {
    "duration": 211,
    "start_time": "2022-09-04T10:09:39.847Z"
   },
   {
    "duration": 211,
    "start_time": "2022-09-04T10:09:40.059Z"
   },
   {
    "duration": 350,
    "start_time": "2022-09-04T10:09:40.272Z"
   },
   {
    "duration": 220,
    "start_time": "2022-09-04T10:09:40.624Z"
   },
   {
    "duration": 84,
    "start_time": "2022-09-04T10:09:40.846Z"
   },
   {
    "duration": 38,
    "start_time": "2022-09-04T10:09:40.931Z"
   },
   {
    "duration": 77,
    "start_time": "2022-09-04T10:09:40.970Z"
   },
   {
    "duration": 146,
    "start_time": "2022-09-04T10:09:41.048Z"
   },
   {
    "duration": 5,
    "start_time": "2022-09-04T10:09:41.195Z"
   },
   {
    "duration": 162,
    "start_time": "2022-09-04T10:09:41.201Z"
   },
   {
    "duration": 152,
    "start_time": "2022-09-04T10:09:41.364Z"
   },
   {
    "duration": 141,
    "start_time": "2022-09-04T10:09:41.517Z"
   },
   {
    "duration": 147,
    "start_time": "2022-09-04T10:09:41.659Z"
   },
   {
    "duration": 153,
    "start_time": "2022-09-04T10:09:41.808Z"
   },
   {
    "duration": 4,
    "start_time": "2022-09-04T10:09:41.963Z"
   },
   {
    "duration": 150,
    "start_time": "2022-09-04T10:09:41.968Z"
   },
   {
    "duration": 6,
    "start_time": "2022-09-04T10:09:42.120Z"
   },
   {
    "duration": 223,
    "start_time": "2022-09-04T10:09:42.128Z"
   },
   {
    "duration": 4,
    "start_time": "2022-09-04T10:09:42.353Z"
   },
   {
    "duration": 33,
    "start_time": "2022-09-04T10:09:42.358Z"
   },
   {
    "duration": 148,
    "start_time": "2022-09-04T10:09:42.393Z"
   },
   {
    "duration": 2,
    "start_time": "2022-09-04T10:09:42.542Z"
   },
   {
    "duration": 3173,
    "start_time": "2022-09-04T10:09:42.546Z"
   },
   {
    "duration": 403,
    "start_time": "2022-09-04T10:09:45.721Z"
   },
   {
    "duration": 122,
    "start_time": "2022-09-04T10:09:46.126Z"
   },
   {
    "duration": 117,
    "start_time": "2022-09-04T10:09:46.250Z"
   },
   {
    "duration": 43,
    "start_time": "2022-09-04T10:10:32.035Z"
   },
   {
    "duration": 3,
    "start_time": "2022-09-04T10:10:48.479Z"
   },
   {
    "duration": 3,
    "start_time": "2022-09-04T10:12:07.639Z"
   },
   {
    "duration": 17,
    "start_time": "2022-09-04T10:12:43.268Z"
   },
   {
    "duration": 57,
    "start_time": "2022-09-04T10:17:16.176Z"
   },
   {
    "duration": 64,
    "start_time": "2022-09-04T10:18:00.291Z"
   },
   {
    "duration": 6,
    "start_time": "2022-09-04T10:18:09.391Z"
   },
   {
    "duration": 3606,
    "start_time": "2022-09-04T10:18:22.232Z"
   },
   {
    "duration": 51,
    "start_time": "2022-09-04T10:18:25.840Z"
   },
   {
    "duration": 4,
    "start_time": "2022-09-04T10:18:25.892Z"
   },
   {
    "duration": 502,
    "start_time": "2022-09-04T10:18:25.897Z"
   },
   {
    "duration": 287,
    "start_time": "2022-09-04T10:18:26.402Z"
   },
   {
    "duration": 41,
    "start_time": "2022-09-04T10:18:26.690Z"
   },
   {
    "duration": 6,
    "start_time": "2022-09-04T10:18:26.733Z"
   },
   {
    "duration": 15,
    "start_time": "2022-09-04T10:18:26.740Z"
   },
   {
    "duration": 3,
    "start_time": "2022-09-04T10:18:26.756Z"
   },
   {
    "duration": 109,
    "start_time": "2022-09-04T10:18:26.786Z"
   },
   {
    "duration": 49,
    "start_time": "2022-09-04T10:18:26.897Z"
   },
   {
    "duration": 15,
    "start_time": "2022-09-04T10:18:26.948Z"
   },
   {
    "duration": 25,
    "start_time": "2022-09-04T10:18:26.965Z"
   },
   {
    "duration": 18,
    "start_time": "2022-09-04T10:18:26.993Z"
   },
   {
    "duration": 4,
    "start_time": "2022-09-04T10:18:27.012Z"
   },
   {
    "duration": 268,
    "start_time": "2022-09-04T10:18:27.017Z"
   },
   {
    "duration": 4,
    "start_time": "2022-09-04T10:18:27.286Z"
   },
   {
    "duration": 279,
    "start_time": "2022-09-04T10:18:27.291Z"
   },
   {
    "duration": 300,
    "start_time": "2022-09-04T10:18:27.572Z"
   },
   {
    "duration": 376,
    "start_time": "2022-09-04T10:18:27.874Z"
   },
   {
    "duration": 300,
    "start_time": "2022-09-04T10:18:28.252Z"
   },
   {
    "duration": 337,
    "start_time": "2022-09-04T10:18:28.554Z"
   },
   {
    "duration": 223,
    "start_time": "2022-09-04T10:18:28.893Z"
   },
   {
    "duration": 193,
    "start_time": "2022-09-04T10:18:29.118Z"
   },
   {
    "duration": 133,
    "start_time": "2022-09-04T10:18:29.313Z"
   },
   {
    "duration": 206,
    "start_time": "2022-09-04T10:18:29.448Z"
   },
   {
    "duration": 211,
    "start_time": "2022-09-04T10:18:29.656Z"
   },
   {
    "duration": 203,
    "start_time": "2022-09-04T10:18:29.868Z"
   },
   {
    "duration": 229,
    "start_time": "2022-09-04T10:18:30.072Z"
   },
   {
    "duration": 308,
    "start_time": "2022-09-04T10:18:30.302Z"
   },
   {
    "duration": 235,
    "start_time": "2022-09-04T10:18:30.611Z"
   },
   {
    "duration": 218,
    "start_time": "2022-09-04T10:18:30.847Z"
   },
   {
    "duration": 93,
    "start_time": "2022-09-04T10:18:31.066Z"
   },
   {
    "duration": 48,
    "start_time": "2022-09-04T10:18:31.161Z"
   },
   {
    "duration": 61,
    "start_time": "2022-09-04T10:18:31.211Z"
   },
   {
    "duration": 146,
    "start_time": "2022-09-04T10:18:31.274Z"
   },
   {
    "duration": 5,
    "start_time": "2022-09-04T10:18:31.422Z"
   },
   {
    "duration": 174,
    "start_time": "2022-09-04T10:18:31.428Z"
   },
   {
    "duration": 158,
    "start_time": "2022-09-04T10:18:31.603Z"
   },
   {
    "duration": 141,
    "start_time": "2022-09-04T10:18:31.763Z"
   },
   {
    "duration": 153,
    "start_time": "2022-09-04T10:18:31.908Z"
   },
   {
    "duration": 166,
    "start_time": "2022-09-04T10:18:32.063Z"
   },
   {
    "duration": 4,
    "start_time": "2022-09-04T10:18:32.230Z"
   },
   {
    "duration": 220,
    "start_time": "2022-09-04T10:18:32.235Z"
   },
   {
    "duration": 5,
    "start_time": "2022-09-04T10:18:32.456Z"
   },
   {
    "duration": 144,
    "start_time": "2022-09-04T10:18:32.463Z"
   },
   {
    "duration": 4,
    "start_time": "2022-09-04T10:18:32.609Z"
   },
   {
    "duration": 24,
    "start_time": "2022-09-04T10:18:32.615Z"
   },
   {
    "duration": 164,
    "start_time": "2022-09-04T10:18:32.640Z"
   },
   {
    "duration": 2,
    "start_time": "2022-09-04T10:18:32.806Z"
   },
   {
    "duration": 3127,
    "start_time": "2022-09-04T10:18:32.809Z"
   },
   {
    "duration": 429,
    "start_time": "2022-09-04T10:18:35.937Z"
   },
   {
    "duration": 128,
    "start_time": "2022-09-04T10:18:36.368Z"
   },
   {
    "duration": 99,
    "start_time": "2022-09-04T10:18:36.497Z"
   },
   {
    "duration": 59,
    "start_time": "2022-09-04T10:19:47.637Z"
   },
   {
    "duration": 6,
    "start_time": "2022-09-04T10:20:00.535Z"
   },
   {
    "duration": 3887,
    "start_time": "2022-09-04T10:20:30.735Z"
   },
   {
    "duration": 10,
    "start_time": "2022-09-04T10:20:34.625Z"
   },
   {
    "duration": 7,
    "start_time": "2022-09-04T10:20:34.637Z"
   },
   {
    "duration": 236,
    "start_time": "2022-09-04T10:20:34.646Z"
   },
   {
    "duration": 192,
    "start_time": "2022-09-04T10:20:34.884Z"
   },
   {
    "duration": 47,
    "start_time": "2022-09-04T10:20:35.078Z"
   },
   {
    "duration": 6,
    "start_time": "2022-09-04T10:20:35.127Z"
   },
   {
    "duration": 15,
    "start_time": "2022-09-04T10:20:35.134Z"
   },
   {
    "duration": 11,
    "start_time": "2022-09-04T10:20:35.151Z"
   },
   {
    "duration": 122,
    "start_time": "2022-09-04T10:20:35.164Z"
   },
   {
    "duration": 55,
    "start_time": "2022-09-04T10:20:35.288Z"
   },
   {
    "duration": 14,
    "start_time": "2022-09-04T10:20:35.345Z"
   },
   {
    "duration": 5,
    "start_time": "2022-09-04T10:20:35.361Z"
   },
   {
    "duration": 8,
    "start_time": "2022-09-04T10:20:35.386Z"
   },
   {
    "duration": 28,
    "start_time": "2022-09-04T10:20:35.395Z"
   },
   {
    "duration": 4,
    "start_time": "2022-09-04T10:20:35.425Z"
   },
   {
    "duration": 255,
    "start_time": "2022-09-04T10:20:35.431Z"
   },
   {
    "duration": 3,
    "start_time": "2022-09-04T10:20:35.688Z"
   },
   {
    "duration": 299,
    "start_time": "2022-09-04T10:20:35.693Z"
   },
   {
    "duration": 372,
    "start_time": "2022-09-04T10:20:35.993Z"
   },
   {
    "duration": 273,
    "start_time": "2022-09-04T10:20:36.367Z"
   },
   {
    "duration": 421,
    "start_time": "2022-09-04T10:20:36.643Z"
   },
   {
    "duration": 183,
    "start_time": "2022-09-04T10:20:37.066Z"
   },
   {
    "duration": 220,
    "start_time": "2022-09-04T10:20:37.250Z"
   },
   {
    "duration": 224,
    "start_time": "2022-09-04T10:20:37.472Z"
   },
   {
    "duration": 132,
    "start_time": "2022-09-04T10:20:37.698Z"
   },
   {
    "duration": 220,
    "start_time": "2022-09-04T10:20:37.831Z"
   },
   {
    "duration": 204,
    "start_time": "2022-09-04T10:20:38.054Z"
   },
   {
    "duration": 197,
    "start_time": "2022-09-04T10:20:38.260Z"
   },
   {
    "duration": 204,
    "start_time": "2022-09-04T10:20:38.459Z"
   },
   {
    "duration": 211,
    "start_time": "2022-09-04T10:20:38.665Z"
   },
   {
    "duration": 331,
    "start_time": "2022-09-04T10:20:38.878Z"
   },
   {
    "duration": 222,
    "start_time": "2022-09-04T10:20:39.210Z"
   },
   {
    "duration": 88,
    "start_time": "2022-09-04T10:20:39.434Z"
   },
   {
    "duration": 39,
    "start_time": "2022-09-04T10:20:39.524Z"
   },
   {
    "duration": 78,
    "start_time": "2022-09-04T10:20:39.565Z"
   },
   {
    "duration": 146,
    "start_time": "2022-09-04T10:20:39.645Z"
   },
   {
    "duration": 4,
    "start_time": "2022-09-04T10:20:39.793Z"
   },
   {
    "duration": 163,
    "start_time": "2022-09-04T10:20:39.799Z"
   },
   {
    "duration": 169,
    "start_time": "2022-09-04T10:20:39.964Z"
   },
   {
    "duration": 190,
    "start_time": "2022-09-04T10:20:40.135Z"
   },
   {
    "duration": 169,
    "start_time": "2022-09-04T10:20:40.327Z"
   },
   {
    "duration": 165,
    "start_time": "2022-09-04T10:20:40.499Z"
   },
   {
    "duration": 5,
    "start_time": "2022-09-04T10:20:40.667Z"
   },
   {
    "duration": 190,
    "start_time": "2022-09-04T10:20:40.674Z"
   },
   {
    "duration": 6,
    "start_time": "2022-09-04T10:20:40.866Z"
   },
   {
    "duration": 281,
    "start_time": "2022-09-04T10:20:40.874Z"
   },
   {
    "duration": 5,
    "start_time": "2022-09-04T10:20:41.157Z"
   },
   {
    "duration": 47,
    "start_time": "2022-09-04T10:20:41.164Z"
   },
   {
    "duration": 163,
    "start_time": "2022-09-04T10:20:41.213Z"
   },
   {
    "duration": 2,
    "start_time": "2022-09-04T10:20:41.377Z"
   },
   {
    "duration": 3185,
    "start_time": "2022-09-04T10:20:41.386Z"
   },
   {
    "duration": 380,
    "start_time": "2022-09-04T10:20:44.572Z"
   },
   {
    "duration": 116,
    "start_time": "2022-09-04T10:20:44.954Z"
   },
   {
    "duration": 107,
    "start_time": "2022-09-04T10:20:45.071Z"
   },
   {
    "duration": 7,
    "start_time": "2022-09-04T10:22:29.497Z"
   },
   {
    "duration": 4074,
    "start_time": "2022-09-04T10:22:35.248Z"
   },
   {
    "duration": 9,
    "start_time": "2022-09-04T10:22:39.324Z"
   },
   {
    "duration": 8,
    "start_time": "2022-09-04T10:22:39.335Z"
   },
   {
    "duration": 224,
    "start_time": "2022-09-04T10:22:39.344Z"
   },
   {
    "duration": 195,
    "start_time": "2022-09-04T10:22:39.571Z"
   },
   {
    "duration": 43,
    "start_time": "2022-09-04T10:22:39.768Z"
   },
   {
    "duration": 6,
    "start_time": "2022-09-04T10:22:39.812Z"
   },
   {
    "duration": 15,
    "start_time": "2022-09-04T10:22:39.819Z"
   },
   {
    "duration": 3,
    "start_time": "2022-09-04T10:22:39.835Z"
   },
   {
    "duration": 122,
    "start_time": "2022-09-04T10:22:39.839Z"
   },
   {
    "duration": 63,
    "start_time": "2022-09-04T10:22:39.962Z"
   },
   {
    "duration": 19,
    "start_time": "2022-09-04T10:22:40.027Z"
   },
   {
    "duration": 6,
    "start_time": "2022-09-04T10:22:40.048Z"
   },
   {
    "duration": 13,
    "start_time": "2022-09-04T10:22:40.057Z"
   },
   {
    "duration": 8,
    "start_time": "2022-09-04T10:22:40.086Z"
   },
   {
    "duration": 20,
    "start_time": "2022-09-04T10:22:40.095Z"
   },
   {
    "duration": 4,
    "start_time": "2022-09-04T10:22:40.117Z"
   },
   {
    "duration": 216,
    "start_time": "2022-09-04T10:22:40.123Z"
   },
   {
    "duration": 4,
    "start_time": "2022-09-04T10:22:40.341Z"
   },
   {
    "duration": 290,
    "start_time": "2022-09-04T10:22:40.346Z"
   },
   {
    "duration": 292,
    "start_time": "2022-09-04T10:22:40.638Z"
   },
   {
    "duration": 202,
    "start_time": "2022-09-04T10:22:40.932Z"
   },
   {
    "duration": 392,
    "start_time": "2022-09-04T10:22:41.135Z"
   },
   {
    "duration": 186,
    "start_time": "2022-09-04T10:22:41.529Z"
   },
   {
    "duration": 213,
    "start_time": "2022-09-04T10:22:41.717Z"
   },
   {
    "duration": 196,
    "start_time": "2022-09-04T10:22:41.932Z"
   },
   {
    "duration": 128,
    "start_time": "2022-09-04T10:22:42.130Z"
   },
   {
    "duration": 196,
    "start_time": "2022-09-04T10:22:42.260Z"
   },
   {
    "duration": 209,
    "start_time": "2022-09-04T10:22:42.458Z"
   },
   {
    "duration": 202,
    "start_time": "2022-09-04T10:22:42.669Z"
   },
   {
    "duration": 198,
    "start_time": "2022-09-04T10:22:42.873Z"
   },
   {
    "duration": 204,
    "start_time": "2022-09-04T10:22:43.072Z"
   },
   {
    "duration": 330,
    "start_time": "2022-09-04T10:22:43.278Z"
   },
   {
    "duration": 220,
    "start_time": "2022-09-04T10:22:43.610Z"
   },
   {
    "duration": 85,
    "start_time": "2022-09-04T10:22:43.832Z"
   },
   {
    "duration": 37,
    "start_time": "2022-09-04T10:22:43.919Z"
   },
   {
    "duration": 70,
    "start_time": "2022-09-04T10:22:43.958Z"
   },
   {
    "duration": 148,
    "start_time": "2022-09-04T10:22:44.030Z"
   },
   {
    "duration": 9,
    "start_time": "2022-09-04T10:22:44.180Z"
   },
   {
    "duration": 153,
    "start_time": "2022-09-04T10:22:44.191Z"
   },
   {
    "duration": 156,
    "start_time": "2022-09-04T10:22:44.349Z"
   },
   {
    "duration": 161,
    "start_time": "2022-09-04T10:22:44.507Z"
   },
   {
    "duration": 130,
    "start_time": "2022-09-04T10:22:44.670Z"
   },
   {
    "duration": 144,
    "start_time": "2022-09-04T10:22:44.802Z"
   },
   {
    "duration": 4,
    "start_time": "2022-09-04T10:22:44.948Z"
   },
   {
    "duration": 155,
    "start_time": "2022-09-04T10:22:44.954Z"
   },
   {
    "duration": 4,
    "start_time": "2022-09-04T10:22:45.112Z"
   },
   {
    "duration": 221,
    "start_time": "2022-09-04T10:22:45.118Z"
   },
   {
    "duration": 5,
    "start_time": "2022-09-04T10:22:45.341Z"
   },
   {
    "duration": 20,
    "start_time": "2022-09-04T10:22:45.348Z"
   },
   {
    "duration": 139,
    "start_time": "2022-09-04T10:22:45.387Z"
   },
   {
    "duration": 2,
    "start_time": "2022-09-04T10:22:45.528Z"
   },
   {
    "duration": 2991,
    "start_time": "2022-09-04T10:22:45.531Z"
   },
   {
    "duration": 362,
    "start_time": "2022-09-04T10:22:48.524Z"
   },
   {
    "duration": 115,
    "start_time": "2022-09-04T10:22:48.888Z"
   },
   {
    "duration": 100,
    "start_time": "2022-09-04T10:22:49.004Z"
   },
   {
    "duration": 4000,
    "start_time": "2022-09-04T10:24:42.482Z"
   },
   {
    "duration": 11,
    "start_time": "2022-09-04T10:24:46.484Z"
   },
   {
    "duration": 15,
    "start_time": "2022-09-04T10:24:46.497Z"
   },
   {
    "duration": 228,
    "start_time": "2022-09-04T10:24:46.514Z"
   },
   {
    "duration": 188,
    "start_time": "2022-09-04T10:24:46.744Z"
   },
   {
    "duration": 40,
    "start_time": "2022-09-04T10:24:46.934Z"
   },
   {
    "duration": 16,
    "start_time": "2022-09-04T10:24:46.975Z"
   },
   {
    "duration": 20,
    "start_time": "2022-09-04T10:24:46.992Z"
   },
   {
    "duration": 3,
    "start_time": "2022-09-04T10:24:47.013Z"
   },
   {
    "duration": 116,
    "start_time": "2022-09-04T10:24:47.018Z"
   },
   {
    "duration": 56,
    "start_time": "2022-09-04T10:24:47.135Z"
   },
   {
    "duration": 14,
    "start_time": "2022-09-04T10:24:47.192Z"
   },
   {
    "duration": 9,
    "start_time": "2022-09-04T10:24:47.207Z"
   },
   {
    "duration": 15,
    "start_time": "2022-09-04T10:24:47.217Z"
   },
   {
    "duration": 4,
    "start_time": "2022-09-04T10:24:47.233Z"
   },
   {
    "duration": 166,
    "start_time": "2022-09-04T10:24:47.238Z"
   },
   {
    "duration": 3,
    "start_time": "2022-09-04T10:24:47.406Z"
   },
   {
    "duration": 281,
    "start_time": "2022-09-04T10:24:47.411Z"
   },
   {
    "duration": 305,
    "start_time": "2022-09-04T10:24:47.693Z"
   },
   {
    "duration": 211,
    "start_time": "2022-09-04T10:24:48.000Z"
   },
   {
    "duration": 402,
    "start_time": "2022-09-04T10:24:48.212Z"
   },
   {
    "duration": 172,
    "start_time": "2022-09-04T10:24:48.615Z"
   },
   {
    "duration": 210,
    "start_time": "2022-09-04T10:24:48.788Z"
   },
   {
    "duration": 199,
    "start_time": "2022-09-04T10:24:49.000Z"
   },
   {
    "duration": 133,
    "start_time": "2022-09-04T10:24:49.201Z"
   },
   {
    "duration": 201,
    "start_time": "2022-09-04T10:24:49.336Z"
   },
   {
    "duration": 206,
    "start_time": "2022-09-04T10:24:49.539Z"
   },
   {
    "duration": 192,
    "start_time": "2022-09-04T10:24:49.748Z"
   },
   {
    "duration": 233,
    "start_time": "2022-09-04T10:24:49.941Z"
   },
   {
    "duration": 197,
    "start_time": "2022-09-04T10:24:50.176Z"
   },
   {
    "duration": 233,
    "start_time": "2022-09-04T10:24:50.374Z"
   },
   {
    "duration": 312,
    "start_time": "2022-09-04T10:24:50.608Z"
   },
   {
    "duration": 80,
    "start_time": "2022-09-04T10:24:50.922Z"
   },
   {
    "duration": 35,
    "start_time": "2022-09-04T10:24:51.003Z"
   },
   {
    "duration": 53,
    "start_time": "2022-09-04T10:24:51.040Z"
   },
   {
    "duration": 138,
    "start_time": "2022-09-04T10:24:51.094Z"
   },
   {
    "duration": 4,
    "start_time": "2022-09-04T10:24:51.234Z"
   },
   {
    "duration": 155,
    "start_time": "2022-09-04T10:24:51.240Z"
   },
   {
    "duration": 158,
    "start_time": "2022-09-04T10:24:51.397Z"
   },
   {
    "duration": 164,
    "start_time": "2022-09-04T10:24:51.556Z"
   },
   {
    "duration": 150,
    "start_time": "2022-09-04T10:24:51.722Z"
   },
   {
    "duration": 169,
    "start_time": "2022-09-04T10:24:51.874Z"
   },
   {
    "duration": 4,
    "start_time": "2022-09-04T10:24:52.046Z"
   },
   {
    "duration": 156,
    "start_time": "2022-09-04T10:24:52.052Z"
   },
   {
    "duration": 5,
    "start_time": "2022-09-04T10:24:52.209Z"
   },
   {
    "duration": 163,
    "start_time": "2022-09-04T10:24:52.215Z"
   },
   {
    "duration": 8,
    "start_time": "2022-09-04T10:24:52.380Z"
   },
   {
    "duration": 23,
    "start_time": "2022-09-04T10:24:52.390Z"
   },
   {
    "duration": 164,
    "start_time": "2022-09-04T10:24:52.415Z"
   },
   {
    "duration": 6,
    "start_time": "2022-09-04T10:24:52.580Z"
   },
   {
    "duration": 3041,
    "start_time": "2022-09-04T10:24:52.588Z"
   },
   {
    "duration": 379,
    "start_time": "2022-09-04T10:24:55.631Z"
   },
   {
    "duration": 237,
    "start_time": "2022-09-04T10:24:56.013Z"
   },
   {
    "duration": 151,
    "start_time": "2022-09-04T10:24:56.253Z"
   },
   {
    "duration": 86,
    "start_time": "2022-09-04T10:28:57.037Z"
   },
   {
    "duration": 100,
    "start_time": "2022-09-04T10:29:05.843Z"
   },
   {
    "duration": 103,
    "start_time": "2022-09-04T10:29:21.454Z"
   },
   {
    "duration": 202,
    "start_time": "2022-09-04T10:30:26.097Z"
   },
   {
    "duration": 3503,
    "start_time": "2022-09-04T10:32:03.595Z"
   },
   {
    "duration": 9,
    "start_time": "2022-09-04T10:32:07.101Z"
   },
   {
    "duration": 7,
    "start_time": "2022-09-04T10:32:07.112Z"
   },
   {
    "duration": 240,
    "start_time": "2022-09-04T10:32:07.121Z"
   },
   {
    "duration": 220,
    "start_time": "2022-09-04T10:32:07.363Z"
   },
   {
    "duration": 56,
    "start_time": "2022-09-04T10:32:07.585Z"
   },
   {
    "duration": 8,
    "start_time": "2022-09-04T10:32:07.643Z"
   },
   {
    "duration": 37,
    "start_time": "2022-09-04T10:32:07.652Z"
   },
   {
    "duration": 3,
    "start_time": "2022-09-04T10:32:07.692Z"
   },
   {
    "duration": 122,
    "start_time": "2022-09-04T10:32:07.698Z"
   },
   {
    "duration": 91,
    "start_time": "2022-09-04T10:32:07.822Z"
   },
   {
    "duration": 19,
    "start_time": "2022-09-04T10:32:07.917Z"
   },
   {
    "duration": 273,
    "start_time": "2022-09-04T10:32:07.938Z"
   },
   {
    "duration": 283,
    "start_time": "2022-09-04T10:32:08.212Z"
   },
   {
    "duration": 300,
    "start_time": "2022-09-04T10:32:08.497Z"
   },
   {
    "duration": 234,
    "start_time": "2022-09-04T10:32:08.799Z"
   },
   {
    "duration": 64,
    "start_time": "2022-09-04T10:32:09.035Z"
   },
   {
    "duration": 18,
    "start_time": "2022-09-04T10:32:09.101Z"
   },
   {
    "duration": 4,
    "start_time": "2022-09-04T10:32:09.121Z"
   },
   {
    "duration": 497,
    "start_time": "2022-09-04T10:32:09.127Z"
   },
   {
    "duration": 3,
    "start_time": "2022-09-04T10:32:09.626Z"
   },
   {
    "duration": 480,
    "start_time": "2022-09-04T10:32:09.631Z"
   },
   {
    "duration": 497,
    "start_time": "2022-09-04T10:32:10.113Z"
   },
   {
    "duration": 226,
    "start_time": "2022-09-04T10:32:10.611Z"
   },
   {
    "duration": 319,
    "start_time": "2022-09-04T10:32:10.839Z"
   },
   {
    "duration": 188,
    "start_time": "2022-09-04T10:32:11.159Z"
   },
   {
    "duration": 243,
    "start_time": "2022-09-04T10:32:11.349Z"
   },
   {
    "duration": 248,
    "start_time": "2022-09-04T10:32:11.598Z"
   },
   {
    "duration": 141,
    "start_time": "2022-09-04T10:32:11.848Z"
   },
   {
    "duration": 253,
    "start_time": "2022-09-04T10:32:11.991Z"
   },
   {
    "duration": 256,
    "start_time": "2022-09-04T10:32:12.246Z"
   },
   {
    "duration": 328,
    "start_time": "2022-09-04T10:32:12.504Z"
   },
   {
    "duration": 235,
    "start_time": "2022-09-04T10:32:12.834Z"
   },
   {
    "duration": 222,
    "start_time": "2022-09-04T10:32:13.071Z"
   },
   {
    "duration": 272,
    "start_time": "2022-09-04T10:32:13.295Z"
   },
   {
    "duration": 245,
    "start_time": "2022-09-04T10:32:13.569Z"
   },
   {
    "duration": 86,
    "start_time": "2022-09-04T10:32:13.816Z"
   },
   {
    "duration": 48,
    "start_time": "2022-09-04T10:32:13.904Z"
   },
   {
    "duration": 76,
    "start_time": "2022-09-04T10:32:13.954Z"
   },
   {
    "duration": 197,
    "start_time": "2022-09-04T10:32:14.032Z"
   },
   {
    "duration": 5,
    "start_time": "2022-09-04T10:32:14.231Z"
   },
   {
    "duration": 196,
    "start_time": "2022-09-04T10:32:14.238Z"
   },
   {
    "duration": 165,
    "start_time": "2022-09-04T10:32:14.436Z"
   },
   {
    "duration": 191,
    "start_time": "2022-09-04T10:32:14.603Z"
   },
   {
    "duration": 263,
    "start_time": "2022-09-04T10:32:14.796Z"
   },
   {
    "duration": 178,
    "start_time": "2022-09-04T10:32:15.060Z"
   },
   {
    "duration": 4,
    "start_time": "2022-09-04T10:32:15.240Z"
   },
   {
    "duration": 172,
    "start_time": "2022-09-04T10:32:15.246Z"
   },
   {
    "duration": 5,
    "start_time": "2022-09-04T10:32:15.419Z"
   },
   {
    "duration": 173,
    "start_time": "2022-09-04T10:32:15.426Z"
   },
   {
    "duration": 5,
    "start_time": "2022-09-04T10:32:15.601Z"
   },
   {
    "duration": 25,
    "start_time": "2022-09-04T10:32:15.607Z"
   },
   {
    "duration": 169,
    "start_time": "2022-09-04T10:32:15.634Z"
   },
   {
    "duration": 3,
    "start_time": "2022-09-04T10:32:15.804Z"
   },
   {
    "duration": 3231,
    "start_time": "2022-09-04T10:32:15.809Z"
   },
   {
    "duration": 371,
    "start_time": "2022-09-04T10:32:19.042Z"
   },
   {
    "duration": 117,
    "start_time": "2022-09-04T10:32:19.415Z"
   },
   {
    "duration": 92,
    "start_time": "2022-09-04T10:32:19.534Z"
   },
   {
    "duration": 16,
    "start_time": "2022-09-04T10:34:23.727Z"
   },
   {
    "duration": 4048,
    "start_time": "2022-09-04T10:34:30.186Z"
   },
   {
    "duration": 10,
    "start_time": "2022-09-04T10:34:34.236Z"
   },
   {
    "duration": 6,
    "start_time": "2022-09-04T10:34:34.247Z"
   },
   {
    "duration": 219,
    "start_time": "2022-09-04T10:34:34.255Z"
   },
   {
    "duration": 194,
    "start_time": "2022-09-04T10:34:34.476Z"
   },
   {
    "duration": 48,
    "start_time": "2022-09-04T10:34:34.671Z"
   },
   {
    "duration": 6,
    "start_time": "2022-09-04T10:34:34.721Z"
   },
   {
    "duration": 14,
    "start_time": "2022-09-04T10:34:34.728Z"
   },
   {
    "duration": 3,
    "start_time": "2022-09-04T10:34:34.744Z"
   },
   {
    "duration": 126,
    "start_time": "2022-09-04T10:34:34.749Z"
   },
   {
    "duration": 50,
    "start_time": "2022-09-04T10:34:34.876Z"
   },
   {
    "duration": 14,
    "start_time": "2022-09-04T10:34:34.928Z"
   },
   {
    "duration": 144,
    "start_time": "2022-09-04T10:34:34.944Z"
   },
   {
    "duration": 121,
    "start_time": "2022-09-04T10:34:35.089Z"
   },
   {
    "duration": 112,
    "start_time": "2022-09-04T10:34:35.212Z"
   },
   {
    "duration": 116,
    "start_time": "2022-09-04T10:34:35.326Z"
   },
   {
    "duration": 11,
    "start_time": "2022-09-04T10:34:35.444Z"
   },
   {
    "duration": 18,
    "start_time": "2022-09-04T10:34:35.456Z"
   },
   {
    "duration": 13,
    "start_time": "2022-09-04T10:34:35.475Z"
   },
   {
    "duration": 98,
    "start_time": "2022-09-04T10:34:35.490Z"
   },
   {
    "duration": 3,
    "start_time": "2022-09-04T10:34:35.590Z"
   },
   {
    "duration": 290,
    "start_time": "2022-09-04T10:34:35.594Z"
   },
   {
    "duration": 447,
    "start_time": "2022-09-04T10:34:35.887Z"
   },
   {
    "duration": 260,
    "start_time": "2022-09-04T10:34:36.336Z"
   },
   {
    "duration": 295,
    "start_time": "2022-09-04T10:34:36.598Z"
   },
   {
    "duration": 324,
    "start_time": "2022-09-04T10:34:36.895Z"
   },
   {
    "duration": 467,
    "start_time": "2022-09-04T10:34:37.220Z"
   },
   {
    "duration": 335,
    "start_time": "2022-09-04T10:34:37.690Z"
   },
   {
    "duration": 263,
    "start_time": "2022-09-04T10:34:38.026Z"
   },
   {
    "duration": 323,
    "start_time": "2022-09-04T10:34:38.290Z"
   },
   {
    "duration": 196,
    "start_time": "2022-09-04T10:34:38.615Z"
   },
   {
    "duration": 307,
    "start_time": "2022-09-04T10:34:38.813Z"
   },
   {
    "duration": 214,
    "start_time": "2022-09-04T10:34:39.121Z"
   },
   {
    "duration": 208,
    "start_time": "2022-09-04T10:34:39.336Z"
   },
   {
    "duration": 214,
    "start_time": "2022-09-04T10:34:39.546Z"
   },
   {
    "duration": 219,
    "start_time": "2022-09-04T10:34:39.762Z"
   },
   {
    "duration": 74,
    "start_time": "2022-09-04T10:34:39.986Z"
   },
   {
    "duration": 48,
    "start_time": "2022-09-04T10:34:40.061Z"
   },
   {
    "duration": 37,
    "start_time": "2022-09-04T10:34:40.111Z"
   },
   {
    "duration": 163,
    "start_time": "2022-09-04T10:34:40.150Z"
   },
   {
    "duration": 5,
    "start_time": "2022-09-04T10:34:40.315Z"
   },
   {
    "duration": 178,
    "start_time": "2022-09-04T10:34:40.322Z"
   },
   {
    "duration": 151,
    "start_time": "2022-09-04T10:34:40.501Z"
   },
   {
    "duration": 163,
    "start_time": "2022-09-04T10:34:40.653Z"
   },
   {
    "duration": 250,
    "start_time": "2022-09-04T10:34:40.818Z"
   },
   {
    "duration": 168,
    "start_time": "2022-09-04T10:34:41.070Z"
   },
   {
    "duration": 6,
    "start_time": "2022-09-04T10:34:41.240Z"
   },
   {
    "duration": 163,
    "start_time": "2022-09-04T10:34:41.248Z"
   },
   {
    "duration": 5,
    "start_time": "2022-09-04T10:34:41.412Z"
   },
   {
    "duration": 163,
    "start_time": "2022-09-04T10:34:41.418Z"
   },
   {
    "duration": 5,
    "start_time": "2022-09-04T10:34:41.586Z"
   },
   {
    "duration": 19,
    "start_time": "2022-09-04T10:34:41.593Z"
   },
   {
    "duration": 173,
    "start_time": "2022-09-04T10:34:41.614Z"
   },
   {
    "duration": 2,
    "start_time": "2022-09-04T10:34:41.789Z"
   },
   {
    "duration": 2701,
    "start_time": "2022-09-04T10:34:41.793Z"
   },
   {
    "duration": 346,
    "start_time": "2022-09-04T10:34:44.496Z"
   },
   {
    "duration": 119,
    "start_time": "2022-09-04T10:34:44.843Z"
   },
   {
    "duration": 92,
    "start_time": "2022-09-04T10:34:44.963Z"
   },
   {
    "duration": 12,
    "start_time": "2022-09-04T10:44:54.030Z"
   },
   {
    "duration": 4028,
    "start_time": "2022-09-04T10:45:00.134Z"
   },
   {
    "duration": 10,
    "start_time": "2022-09-04T10:45:04.188Z"
   },
   {
    "duration": 6,
    "start_time": "2022-09-04T10:45:04.200Z"
   },
   {
    "duration": 242,
    "start_time": "2022-09-04T10:45:04.208Z"
   },
   {
    "duration": 212,
    "start_time": "2022-09-04T10:45:04.452Z"
   },
   {
    "duration": 53,
    "start_time": "2022-09-04T10:45:04.665Z"
   },
   {
    "duration": 6,
    "start_time": "2022-09-04T10:45:04.720Z"
   },
   {
    "duration": 23,
    "start_time": "2022-09-04T10:45:04.728Z"
   },
   {
    "duration": 3,
    "start_time": "2022-09-04T10:45:04.753Z"
   },
   {
    "duration": 128,
    "start_time": "2022-09-04T10:45:04.758Z"
   },
   {
    "duration": 51,
    "start_time": "2022-09-04T10:45:04.888Z"
   },
   {
    "duration": 14,
    "start_time": "2022-09-04T10:45:04.941Z"
   },
   {
    "duration": 140,
    "start_time": "2022-09-04T10:45:04.957Z"
   },
   {
    "duration": 123,
    "start_time": "2022-09-04T10:45:05.099Z"
   },
   {
    "duration": 114,
    "start_time": "2022-09-04T10:45:05.224Z"
   },
   {
    "duration": 121,
    "start_time": "2022-09-04T10:45:05.340Z"
   },
   {
    "duration": 14,
    "start_time": "2022-09-04T10:45:05.462Z"
   },
   {
    "duration": 16,
    "start_time": "2022-09-04T10:45:05.487Z"
   },
   {
    "duration": 5,
    "start_time": "2022-09-04T10:45:05.504Z"
   },
   {
    "duration": 13,
    "start_time": "2022-09-04T10:45:05.510Z"
   },
   {
    "duration": 14,
    "start_time": "2022-09-04T10:45:05.524Z"
   },
   {
    "duration": 315,
    "start_time": "2022-09-04T10:45:05.539Z"
   },
   {
    "duration": 478,
    "start_time": "2022-09-04T10:45:05.856Z"
   },
   {
    "duration": 268,
    "start_time": "2022-09-04T10:45:06.337Z"
   },
   {
    "duration": 311,
    "start_time": "2022-09-04T10:45:06.607Z"
   },
   {
    "duration": 190,
    "start_time": "2022-09-04T10:45:06.920Z"
   },
   {
    "duration": 227,
    "start_time": "2022-09-04T10:45:07.112Z"
   },
   {
    "duration": 217,
    "start_time": "2022-09-04T10:45:07.343Z"
   },
   {
    "duration": 227,
    "start_time": "2022-09-04T10:45:07.562Z"
   },
   {
    "duration": 0,
    "start_time": "2022-09-04T10:45:07.791Z"
   },
   {
    "duration": 0,
    "start_time": "2022-09-04T10:45:07.792Z"
   },
   {
    "duration": 0,
    "start_time": "2022-09-04T10:45:07.793Z"
   },
   {
    "duration": 0,
    "start_time": "2022-09-04T10:45:07.794Z"
   },
   {
    "duration": 0,
    "start_time": "2022-09-04T10:45:07.795Z"
   },
   {
    "duration": 0,
    "start_time": "2022-09-04T10:45:07.797Z"
   },
   {
    "duration": 0,
    "start_time": "2022-09-04T10:45:07.798Z"
   },
   {
    "duration": 0,
    "start_time": "2022-09-04T10:45:07.799Z"
   },
   {
    "duration": 0,
    "start_time": "2022-09-04T10:45:07.800Z"
   },
   {
    "duration": 0,
    "start_time": "2022-09-04T10:45:07.801Z"
   },
   {
    "duration": 0,
    "start_time": "2022-09-04T10:45:07.802Z"
   },
   {
    "duration": 0,
    "start_time": "2022-09-04T10:45:07.803Z"
   },
   {
    "duration": 0,
    "start_time": "2022-09-04T10:45:07.805Z"
   },
   {
    "duration": 0,
    "start_time": "2022-09-04T10:45:07.806Z"
   },
   {
    "duration": 0,
    "start_time": "2022-09-04T10:45:07.807Z"
   },
   {
    "duration": 0,
    "start_time": "2022-09-04T10:45:07.809Z"
   },
   {
    "duration": 0,
    "start_time": "2022-09-04T10:45:07.810Z"
   },
   {
    "duration": 0,
    "start_time": "2022-09-04T10:45:07.811Z"
   },
   {
    "duration": 0,
    "start_time": "2022-09-04T10:45:07.812Z"
   },
   {
    "duration": 0,
    "start_time": "2022-09-04T10:45:07.813Z"
   },
   {
    "duration": 0,
    "start_time": "2022-09-04T10:45:07.814Z"
   },
   {
    "duration": 0,
    "start_time": "2022-09-04T10:45:07.816Z"
   },
   {
    "duration": 0,
    "start_time": "2022-09-04T10:45:07.817Z"
   },
   {
    "duration": 0,
    "start_time": "2022-09-04T10:45:07.818Z"
   },
   {
    "duration": 0,
    "start_time": "2022-09-04T10:45:07.819Z"
   },
   {
    "duration": 0,
    "start_time": "2022-09-04T10:45:07.820Z"
   },
   {
    "duration": 0,
    "start_time": "2022-09-04T10:45:07.821Z"
   },
   {
    "duration": 0,
    "start_time": "2022-09-04T10:45:07.822Z"
   },
   {
    "duration": 0,
    "start_time": "2022-09-04T10:45:07.824Z"
   },
   {
    "duration": 109,
    "start_time": "2022-09-04T10:49:46.063Z"
   },
   {
    "duration": 95,
    "start_time": "2022-09-04T10:50:09.184Z"
   },
   {
    "duration": 4258,
    "start_time": "2022-09-04T10:50:14.648Z"
   },
   {
    "duration": 9,
    "start_time": "2022-09-04T10:50:18.908Z"
   },
   {
    "duration": 4,
    "start_time": "2022-09-04T10:50:18.918Z"
   },
   {
    "duration": 236,
    "start_time": "2022-09-04T10:50:18.924Z"
   },
   {
    "duration": 197,
    "start_time": "2022-09-04T10:50:19.162Z"
   },
   {
    "duration": 50,
    "start_time": "2022-09-04T10:50:19.360Z"
   },
   {
    "duration": 8,
    "start_time": "2022-09-04T10:50:19.411Z"
   },
   {
    "duration": 18,
    "start_time": "2022-09-04T10:50:19.420Z"
   },
   {
    "duration": 3,
    "start_time": "2022-09-04T10:50:19.440Z"
   },
   {
    "duration": 219,
    "start_time": "2022-09-04T10:50:19.445Z"
   },
   {
    "duration": 0,
    "start_time": "2022-09-04T10:50:19.667Z"
   },
   {
    "duration": 0,
    "start_time": "2022-09-04T10:50:19.668Z"
   },
   {
    "duration": 0,
    "start_time": "2022-09-04T10:50:19.670Z"
   },
   {
    "duration": 0,
    "start_time": "2022-09-04T10:50:19.672Z"
   },
   {
    "duration": 0,
    "start_time": "2022-09-04T10:50:19.673Z"
   },
   {
    "duration": 0,
    "start_time": "2022-09-04T10:50:19.674Z"
   },
   {
    "duration": 0,
    "start_time": "2022-09-04T10:50:19.675Z"
   },
   {
    "duration": 0,
    "start_time": "2022-09-04T10:50:19.676Z"
   },
   {
    "duration": 0,
    "start_time": "2022-09-04T10:50:19.677Z"
   },
   {
    "duration": 0,
    "start_time": "2022-09-04T10:50:19.678Z"
   },
   {
    "duration": 0,
    "start_time": "2022-09-04T10:50:19.679Z"
   },
   {
    "duration": 0,
    "start_time": "2022-09-04T10:50:19.680Z"
   },
   {
    "duration": 0,
    "start_time": "2022-09-04T10:50:19.681Z"
   },
   {
    "duration": 0,
    "start_time": "2022-09-04T10:50:19.682Z"
   },
   {
    "duration": 0,
    "start_time": "2022-09-04T10:50:19.683Z"
   },
   {
    "duration": 0,
    "start_time": "2022-09-04T10:50:19.685Z"
   },
   {
    "duration": 0,
    "start_time": "2022-09-04T10:50:19.686Z"
   },
   {
    "duration": 1,
    "start_time": "2022-09-04T10:50:19.687Z"
   },
   {
    "duration": 0,
    "start_time": "2022-09-04T10:50:19.689Z"
   },
   {
    "duration": 0,
    "start_time": "2022-09-04T10:50:19.690Z"
   },
   {
    "duration": 0,
    "start_time": "2022-09-04T10:50:19.691Z"
   },
   {
    "duration": 0,
    "start_time": "2022-09-04T10:50:19.692Z"
   },
   {
    "duration": 0,
    "start_time": "2022-09-04T10:50:19.693Z"
   },
   {
    "duration": 0,
    "start_time": "2022-09-04T10:50:19.695Z"
   },
   {
    "duration": 0,
    "start_time": "2022-09-04T10:50:19.696Z"
   },
   {
    "duration": 0,
    "start_time": "2022-09-04T10:50:19.696Z"
   },
   {
    "duration": 0,
    "start_time": "2022-09-04T10:50:19.697Z"
   },
   {
    "duration": 0,
    "start_time": "2022-09-04T10:50:19.699Z"
   },
   {
    "duration": 0,
    "start_time": "2022-09-04T10:50:19.700Z"
   },
   {
    "duration": 0,
    "start_time": "2022-09-04T10:50:19.702Z"
   },
   {
    "duration": 0,
    "start_time": "2022-09-04T10:50:19.703Z"
   },
   {
    "duration": 0,
    "start_time": "2022-09-04T10:50:19.704Z"
   },
   {
    "duration": 0,
    "start_time": "2022-09-04T10:50:19.705Z"
   },
   {
    "duration": 0,
    "start_time": "2022-09-04T10:50:19.707Z"
   },
   {
    "duration": 0,
    "start_time": "2022-09-04T10:50:19.709Z"
   },
   {
    "duration": 0,
    "start_time": "2022-09-04T10:50:19.710Z"
   },
   {
    "duration": 0,
    "start_time": "2022-09-04T10:50:19.711Z"
   },
   {
    "duration": 0,
    "start_time": "2022-09-04T10:50:19.712Z"
   },
   {
    "duration": 0,
    "start_time": "2022-09-04T10:50:19.713Z"
   },
   {
    "duration": 0,
    "start_time": "2022-09-04T10:50:19.714Z"
   },
   {
    "duration": 0,
    "start_time": "2022-09-04T10:50:19.715Z"
   },
   {
    "duration": 0,
    "start_time": "2022-09-04T10:50:19.716Z"
   },
   {
    "duration": 0,
    "start_time": "2022-09-04T10:50:19.717Z"
   },
   {
    "duration": 0,
    "start_time": "2022-09-04T10:50:19.718Z"
   },
   {
    "duration": 0,
    "start_time": "2022-09-04T10:50:19.720Z"
   },
   {
    "duration": 0,
    "start_time": "2022-09-04T10:50:19.721Z"
   },
   {
    "duration": 0,
    "start_time": "2022-09-04T10:50:19.722Z"
   },
   {
    "duration": 0,
    "start_time": "2022-09-04T10:50:19.723Z"
   },
   {
    "duration": 101,
    "start_time": "2022-09-04T10:51:37.130Z"
   },
   {
    "duration": 3951,
    "start_time": "2022-09-04T10:51:41.739Z"
   },
   {
    "duration": 9,
    "start_time": "2022-09-04T10:51:45.692Z"
   },
   {
    "duration": 3,
    "start_time": "2022-09-04T10:51:45.703Z"
   },
   {
    "duration": 234,
    "start_time": "2022-09-04T10:51:45.708Z"
   },
   {
    "duration": 207,
    "start_time": "2022-09-04T10:51:45.945Z"
   },
   {
    "duration": 49,
    "start_time": "2022-09-04T10:51:46.153Z"
   },
   {
    "duration": 8,
    "start_time": "2022-09-04T10:51:46.204Z"
   },
   {
    "duration": 36,
    "start_time": "2022-09-04T10:51:46.214Z"
   },
   {
    "duration": 9,
    "start_time": "2022-09-04T10:51:46.252Z"
   },
   {
    "duration": 240,
    "start_time": "2022-09-04T10:51:46.263Z"
   },
   {
    "duration": 0,
    "start_time": "2022-09-04T10:51:46.506Z"
   },
   {
    "duration": 0,
    "start_time": "2022-09-04T10:51:46.507Z"
   },
   {
    "duration": 0,
    "start_time": "2022-09-04T10:51:46.509Z"
   },
   {
    "duration": 0,
    "start_time": "2022-09-04T10:51:46.511Z"
   },
   {
    "duration": 0,
    "start_time": "2022-09-04T10:51:46.512Z"
   },
   {
    "duration": 0,
    "start_time": "2022-09-04T10:51:46.513Z"
   },
   {
    "duration": 0,
    "start_time": "2022-09-04T10:51:46.514Z"
   },
   {
    "duration": 0,
    "start_time": "2022-09-04T10:51:46.515Z"
   },
   {
    "duration": 0,
    "start_time": "2022-09-04T10:51:46.516Z"
   },
   {
    "duration": 0,
    "start_time": "2022-09-04T10:51:46.517Z"
   },
   {
    "duration": 0,
    "start_time": "2022-09-04T10:51:46.518Z"
   },
   {
    "duration": 0,
    "start_time": "2022-09-04T10:51:46.519Z"
   },
   {
    "duration": 0,
    "start_time": "2022-09-04T10:51:46.520Z"
   },
   {
    "duration": 0,
    "start_time": "2022-09-04T10:51:46.521Z"
   },
   {
    "duration": 0,
    "start_time": "2022-09-04T10:51:46.522Z"
   },
   {
    "duration": 0,
    "start_time": "2022-09-04T10:51:46.523Z"
   },
   {
    "duration": 0,
    "start_time": "2022-09-04T10:51:46.524Z"
   },
   {
    "duration": 0,
    "start_time": "2022-09-04T10:51:46.525Z"
   },
   {
    "duration": 0,
    "start_time": "2022-09-04T10:51:46.526Z"
   },
   {
    "duration": 0,
    "start_time": "2022-09-04T10:51:46.527Z"
   },
   {
    "duration": 0,
    "start_time": "2022-09-04T10:51:46.528Z"
   },
   {
    "duration": 1,
    "start_time": "2022-09-04T10:51:46.529Z"
   },
   {
    "duration": 0,
    "start_time": "2022-09-04T10:51:46.530Z"
   },
   {
    "duration": 0,
    "start_time": "2022-09-04T10:51:46.531Z"
   },
   {
    "duration": 0,
    "start_time": "2022-09-04T10:51:46.532Z"
   },
   {
    "duration": 0,
    "start_time": "2022-09-04T10:51:46.533Z"
   },
   {
    "duration": 0,
    "start_time": "2022-09-04T10:51:46.534Z"
   },
   {
    "duration": 0,
    "start_time": "2022-09-04T10:51:46.535Z"
   },
   {
    "duration": 0,
    "start_time": "2022-09-04T10:51:46.536Z"
   },
   {
    "duration": 0,
    "start_time": "2022-09-04T10:51:46.537Z"
   },
   {
    "duration": 0,
    "start_time": "2022-09-04T10:51:46.587Z"
   },
   {
    "duration": 0,
    "start_time": "2022-09-04T10:51:46.589Z"
   },
   {
    "duration": 0,
    "start_time": "2022-09-04T10:51:46.590Z"
   },
   {
    "duration": 0,
    "start_time": "2022-09-04T10:51:46.592Z"
   },
   {
    "duration": 0,
    "start_time": "2022-09-04T10:51:46.593Z"
   },
   {
    "duration": 0,
    "start_time": "2022-09-04T10:51:46.594Z"
   },
   {
    "duration": 0,
    "start_time": "2022-09-04T10:51:46.595Z"
   },
   {
    "duration": 0,
    "start_time": "2022-09-04T10:51:46.596Z"
   },
   {
    "duration": 0,
    "start_time": "2022-09-04T10:51:46.597Z"
   },
   {
    "duration": 0,
    "start_time": "2022-09-04T10:51:46.599Z"
   },
   {
    "duration": 0,
    "start_time": "2022-09-04T10:51:46.600Z"
   },
   {
    "duration": 0,
    "start_time": "2022-09-04T10:51:46.601Z"
   },
   {
    "duration": 0,
    "start_time": "2022-09-04T10:51:46.602Z"
   },
   {
    "duration": 0,
    "start_time": "2022-09-04T10:51:46.603Z"
   },
   {
    "duration": 0,
    "start_time": "2022-09-04T10:51:46.604Z"
   },
   {
    "duration": 0,
    "start_time": "2022-09-04T10:51:46.605Z"
   },
   {
    "duration": 0,
    "start_time": "2022-09-04T10:51:46.606Z"
   },
   {
    "duration": 0,
    "start_time": "2022-09-04T10:51:46.607Z"
   },
   {
    "duration": 42,
    "start_time": "2022-09-04T10:52:30.777Z"
   },
   {
    "duration": 433,
    "start_time": "2022-09-04T10:53:01.681Z"
   },
   {
    "duration": 4114,
    "start_time": "2022-09-04T10:53:07.792Z"
   },
   {
    "duration": 9,
    "start_time": "2022-09-04T10:53:11.908Z"
   },
   {
    "duration": 5,
    "start_time": "2022-09-04T10:53:11.919Z"
   },
   {
    "duration": 220,
    "start_time": "2022-09-04T10:53:11.928Z"
   },
   {
    "duration": 193,
    "start_time": "2022-09-04T10:53:12.150Z"
   },
   {
    "duration": 46,
    "start_time": "2022-09-04T10:53:12.345Z"
   },
   {
    "duration": 6,
    "start_time": "2022-09-04T10:53:12.393Z"
   },
   {
    "duration": 35,
    "start_time": "2022-09-04T10:53:12.400Z"
   },
   {
    "duration": 3,
    "start_time": "2022-09-04T10:53:12.436Z"
   },
   {
    "duration": 417,
    "start_time": "2022-09-04T10:53:12.441Z"
   },
   {
    "duration": 56,
    "start_time": "2022-09-04T10:53:12.859Z"
   },
   {
    "duration": 15,
    "start_time": "2022-09-04T10:53:12.917Z"
   },
   {
    "duration": 132,
    "start_time": "2022-09-04T10:53:12.933Z"
   },
   {
    "duration": 130,
    "start_time": "2022-09-04T10:53:13.066Z"
   },
   {
    "duration": 123,
    "start_time": "2022-09-04T10:53:13.198Z"
   },
   {
    "duration": 130,
    "start_time": "2022-09-04T10:53:13.322Z"
   },
   {
    "duration": 15,
    "start_time": "2022-09-04T10:53:13.453Z"
   },
   {
    "duration": 29,
    "start_time": "2022-09-04T10:53:13.469Z"
   },
   {
    "duration": 6,
    "start_time": "2022-09-04T10:53:13.499Z"
   },
   {
    "duration": 14,
    "start_time": "2022-09-04T10:53:13.507Z"
   },
   {
    "duration": 11,
    "start_time": "2022-09-04T10:53:13.522Z"
   },
   {
    "duration": 300,
    "start_time": "2022-09-04T10:53:13.535Z"
   },
   {
    "duration": 432,
    "start_time": "2022-09-04T10:53:13.836Z"
   },
   {
    "duration": 232,
    "start_time": "2022-09-04T10:53:14.270Z"
   },
   {
    "duration": 298,
    "start_time": "2022-09-04T10:53:14.504Z"
   },
   {
    "duration": 191,
    "start_time": "2022-09-04T10:53:14.804Z"
   },
   {
    "duration": 221,
    "start_time": "2022-09-04T10:53:14.997Z"
   },
   {
    "duration": 201,
    "start_time": "2022-09-04T10:53:15.223Z"
   },
   {
    "duration": 122,
    "start_time": "2022-09-04T10:53:15.427Z"
   },
   {
    "duration": 208,
    "start_time": "2022-09-04T10:53:15.551Z"
   },
   {
    "duration": 225,
    "start_time": "2022-09-04T10:53:15.761Z"
   },
   {
    "duration": 215,
    "start_time": "2022-09-04T10:53:15.988Z"
   },
   {
    "duration": 408,
    "start_time": "2022-09-04T10:53:16.206Z"
   },
   {
    "duration": 225,
    "start_time": "2022-09-04T10:53:16.616Z"
   },
   {
    "duration": 256,
    "start_time": "2022-09-04T10:53:16.842Z"
   },
   {
    "duration": 226,
    "start_time": "2022-09-04T10:53:17.100Z"
   },
   {
    "duration": 73,
    "start_time": "2022-09-04T10:53:17.328Z"
   },
   {
    "duration": 19,
    "start_time": "2022-09-04T10:53:17.403Z"
   },
   {
    "duration": 36,
    "start_time": "2022-09-04T10:53:17.424Z"
   },
   {
    "duration": 171,
    "start_time": "2022-09-04T10:53:17.462Z"
   },
   {
    "duration": 6,
    "start_time": "2022-09-04T10:53:17.636Z"
   },
   {
    "duration": 157,
    "start_time": "2022-09-04T10:53:17.643Z"
   },
   {
    "duration": 153,
    "start_time": "2022-09-04T10:53:17.801Z"
   },
   {
    "duration": 177,
    "start_time": "2022-09-04T10:53:17.956Z"
   },
   {
    "duration": 134,
    "start_time": "2022-09-04T10:53:18.135Z"
   },
   {
    "duration": 219,
    "start_time": "2022-09-04T10:53:18.271Z"
   },
   {
    "duration": 4,
    "start_time": "2022-09-04T10:53:18.491Z"
   },
   {
    "duration": 152,
    "start_time": "2022-09-04T10:53:18.497Z"
   },
   {
    "duration": 4,
    "start_time": "2022-09-04T10:53:18.651Z"
   },
   {
    "duration": 144,
    "start_time": "2022-09-04T10:53:18.656Z"
   },
   {
    "duration": 4,
    "start_time": "2022-09-04T10:53:18.802Z"
   },
   {
    "duration": 25,
    "start_time": "2022-09-04T10:53:18.808Z"
   },
   {
    "duration": 164,
    "start_time": "2022-09-04T10:53:18.834Z"
   },
   {
    "duration": 3,
    "start_time": "2022-09-04T10:53:18.999Z"
   },
   {
    "duration": 2457,
    "start_time": "2022-09-04T10:53:19.003Z"
   },
   {
    "duration": 318,
    "start_time": "2022-09-04T10:53:21.462Z"
   },
   {
    "duration": 117,
    "start_time": "2022-09-04T10:53:21.782Z"
   },
   {
    "duration": 96,
    "start_time": "2022-09-04T10:53:21.901Z"
   },
   {
    "duration": 74,
    "start_time": "2022-09-04T10:53:39.041Z"
   },
   {
    "duration": 9,
    "start_time": "2022-09-04T10:56:37.241Z"
   },
   {
    "duration": 3357,
    "start_time": "2022-09-04T10:56:42.461Z"
   },
   {
    "duration": 10,
    "start_time": "2022-09-04T10:56:45.820Z"
   },
   {
    "duration": 7,
    "start_time": "2022-09-04T10:56:45.831Z"
   },
   {
    "duration": 487,
    "start_time": "2022-09-04T10:56:45.841Z"
   },
   {
    "duration": 482,
    "start_time": "2022-09-04T10:56:46.331Z"
   },
   {
    "duration": 93,
    "start_time": "2022-09-04T10:56:46.814Z"
   },
   {
    "duration": 5,
    "start_time": "2022-09-04T10:56:46.909Z"
   },
   {
    "duration": 17,
    "start_time": "2022-09-04T10:56:46.915Z"
   },
   {
    "duration": 54,
    "start_time": "2022-09-04T10:56:46.933Z"
   },
   {
    "duration": 7,
    "start_time": "2022-09-04T10:56:46.989Z"
   },
   {
    "duration": 121,
    "start_time": "2022-09-04T10:56:46.997Z"
   },
   {
    "duration": 74,
    "start_time": "2022-09-04T10:56:47.120Z"
   },
   {
    "duration": 16,
    "start_time": "2022-09-04T10:56:47.195Z"
   },
   {
    "duration": 140,
    "start_time": "2022-09-04T10:56:47.212Z"
   },
   {
    "duration": 112,
    "start_time": "2022-09-04T10:56:47.353Z"
   },
   {
    "duration": 127,
    "start_time": "2022-09-04T10:56:47.466Z"
   },
   {
    "duration": 138,
    "start_time": "2022-09-04T10:56:47.595Z"
   },
   {
    "duration": 14,
    "start_time": "2022-09-04T10:56:47.734Z"
   },
   {
    "duration": 14,
    "start_time": "2022-09-04T10:56:47.749Z"
   },
   {
    "duration": 24,
    "start_time": "2022-09-04T10:56:47.765Z"
   },
   {
    "duration": 15,
    "start_time": "2022-09-04T10:56:47.790Z"
   },
   {
    "duration": 13,
    "start_time": "2022-09-04T10:56:47.807Z"
   },
   {
    "duration": 289,
    "start_time": "2022-09-04T10:56:47.822Z"
   },
   {
    "duration": 411,
    "start_time": "2022-09-04T10:56:48.113Z"
   },
   {
    "duration": 213,
    "start_time": "2022-09-04T10:56:48.526Z"
   },
   {
    "duration": 289,
    "start_time": "2022-09-04T10:56:48.741Z"
   },
   {
    "duration": 181,
    "start_time": "2022-09-04T10:56:49.031Z"
   },
   {
    "duration": 211,
    "start_time": "2022-09-04T10:56:49.215Z"
   },
   {
    "duration": 196,
    "start_time": "2022-09-04T10:56:49.427Z"
   },
   {
    "duration": 118,
    "start_time": "2022-09-04T10:56:49.625Z"
   },
   {
    "duration": 195,
    "start_time": "2022-09-04T10:56:49.745Z"
   },
   {
    "duration": 203,
    "start_time": "2022-09-04T10:56:49.942Z"
   },
   {
    "duration": 193,
    "start_time": "2022-09-04T10:56:50.147Z"
   },
   {
    "duration": 313,
    "start_time": "2022-09-04T10:56:50.341Z"
   },
   {
    "duration": 203,
    "start_time": "2022-09-04T10:56:50.657Z"
   },
   {
    "duration": 233,
    "start_time": "2022-09-04T10:56:50.862Z"
   },
   {
    "duration": 208,
    "start_time": "2022-09-04T10:56:51.098Z"
   },
   {
    "duration": 60,
    "start_time": "2022-09-04T10:56:51.308Z"
   },
   {
    "duration": 37,
    "start_time": "2022-09-04T10:56:51.370Z"
   },
   {
    "duration": 37,
    "start_time": "2022-09-04T10:56:51.409Z"
   },
   {
    "duration": 152,
    "start_time": "2022-09-04T10:56:51.448Z"
   },
   {
    "duration": 5,
    "start_time": "2022-09-04T10:56:51.603Z"
   },
   {
    "duration": 148,
    "start_time": "2022-09-04T10:56:51.610Z"
   },
   {
    "duration": 153,
    "start_time": "2022-09-04T10:56:51.760Z"
   },
   {
    "duration": 155,
    "start_time": "2022-09-04T10:56:51.915Z"
   },
   {
    "duration": 140,
    "start_time": "2022-09-04T10:56:52.071Z"
   },
   {
    "duration": 221,
    "start_time": "2022-09-04T10:56:52.212Z"
   },
   {
    "duration": 5,
    "start_time": "2022-09-04T10:56:52.435Z"
   },
   {
    "duration": 152,
    "start_time": "2022-09-04T10:56:52.441Z"
   },
   {
    "duration": 4,
    "start_time": "2022-09-04T10:56:52.594Z"
   },
   {
    "duration": 139,
    "start_time": "2022-09-04T10:56:52.600Z"
   },
   {
    "duration": 3,
    "start_time": "2022-09-04T10:56:52.741Z"
   },
   {
    "duration": 17,
    "start_time": "2022-09-04T10:56:52.746Z"
   },
   {
    "duration": 170,
    "start_time": "2022-09-04T10:56:52.765Z"
   },
   {
    "duration": 3,
    "start_time": "2022-09-04T10:56:52.937Z"
   },
   {
    "duration": 2332,
    "start_time": "2022-09-04T10:56:52.941Z"
   },
   {
    "duration": 315,
    "start_time": "2022-09-04T10:56:55.275Z"
   },
   {
    "duration": 114,
    "start_time": "2022-09-04T10:56:55.592Z"
   },
   {
    "duration": 98,
    "start_time": "2022-09-04T10:56:55.708Z"
   },
   {
    "duration": 3293,
    "start_time": "2022-09-04T11:01:38.345Z"
   },
   {
    "duration": 10,
    "start_time": "2022-09-04T11:01:41.687Z"
   },
   {
    "duration": 4,
    "start_time": "2022-09-04T11:01:41.698Z"
   },
   {
    "duration": 424,
    "start_time": "2022-09-04T11:01:41.704Z"
   },
   {
    "duration": 389,
    "start_time": "2022-09-04T11:01:42.130Z"
   },
   {
    "duration": 90,
    "start_time": "2022-09-04T11:01:42.520Z"
   },
   {
    "duration": 6,
    "start_time": "2022-09-04T11:01:42.611Z"
   },
   {
    "duration": 69,
    "start_time": "2022-09-04T11:01:42.618Z"
   },
   {
    "duration": 4,
    "start_time": "2022-09-04T11:01:42.689Z"
   },
   {
    "duration": 9,
    "start_time": "2022-09-04T11:01:42.695Z"
   },
   {
    "duration": 117,
    "start_time": "2022-09-04T11:01:42.705Z"
   },
   {
    "duration": 74,
    "start_time": "2022-09-04T11:01:42.824Z"
   },
   {
    "duration": 16,
    "start_time": "2022-09-04T11:01:42.899Z"
   },
   {
    "duration": 134,
    "start_time": "2022-09-04T11:01:42.916Z"
   },
   {
    "duration": 115,
    "start_time": "2022-09-04T11:01:43.051Z"
   },
   {
    "duration": 132,
    "start_time": "2022-09-04T11:01:43.168Z"
   },
   {
    "duration": 140,
    "start_time": "2022-09-04T11:01:43.302Z"
   },
   {
    "duration": 14,
    "start_time": "2022-09-04T11:01:43.443Z"
   },
   {
    "duration": 27,
    "start_time": "2022-09-04T11:01:43.459Z"
   },
   {
    "duration": 5,
    "start_time": "2022-09-04T11:01:43.488Z"
   },
   {
    "duration": 22,
    "start_time": "2022-09-04T11:01:43.494Z"
   },
   {
    "duration": 8,
    "start_time": "2022-09-04T11:01:43.518Z"
   },
   {
    "duration": 287,
    "start_time": "2022-09-04T11:01:43.527Z"
   },
   {
    "duration": 436,
    "start_time": "2022-09-04T11:01:43.815Z"
   },
   {
    "duration": 240,
    "start_time": "2022-09-04T11:01:44.253Z"
   },
   {
    "duration": 309,
    "start_time": "2022-09-04T11:01:44.495Z"
   },
   {
    "duration": 198,
    "start_time": "2022-09-04T11:01:44.806Z"
   },
   {
    "duration": 227,
    "start_time": "2022-09-04T11:01:45.008Z"
   },
   {
    "duration": 216,
    "start_time": "2022-09-04T11:01:45.237Z"
   },
   {
    "duration": 112,
    "start_time": "2022-09-04T11:01:45.455Z"
   },
   {
    "duration": 210,
    "start_time": "2022-09-04T11:01:45.568Z"
   },
   {
    "duration": 217,
    "start_time": "2022-09-04T11:01:45.779Z"
   },
   {
    "duration": 233,
    "start_time": "2022-09-04T11:01:45.998Z"
   },
   {
    "duration": 421,
    "start_time": "2022-09-04T11:01:46.233Z"
   },
   {
    "duration": 210,
    "start_time": "2022-09-04T11:01:46.655Z"
   },
   {
    "duration": 252,
    "start_time": "2022-09-04T11:01:46.867Z"
   },
   {
    "duration": 224,
    "start_time": "2022-09-04T11:01:47.121Z"
   },
   {
    "duration": 73,
    "start_time": "2022-09-04T11:01:47.346Z"
   },
   {
    "duration": 19,
    "start_time": "2022-09-04T11:01:47.421Z"
   },
   {
    "duration": 59,
    "start_time": "2022-09-04T11:01:47.442Z"
   },
   {
    "duration": 160,
    "start_time": "2022-09-04T11:01:47.503Z"
   },
   {
    "duration": 4,
    "start_time": "2022-09-04T11:01:47.665Z"
   },
   {
    "duration": 158,
    "start_time": "2022-09-04T11:01:47.670Z"
   },
   {
    "duration": 163,
    "start_time": "2022-09-04T11:01:47.830Z"
   },
   {
    "duration": 171,
    "start_time": "2022-09-04T11:01:47.994Z"
   },
   {
    "duration": 147,
    "start_time": "2022-09-04T11:01:48.167Z"
   },
   {
    "duration": 248,
    "start_time": "2022-09-04T11:01:48.316Z"
   },
   {
    "duration": 4,
    "start_time": "2022-09-04T11:01:48.566Z"
   },
   {
    "duration": 162,
    "start_time": "2022-09-04T11:01:48.573Z"
   },
   {
    "duration": 4,
    "start_time": "2022-09-04T11:01:48.737Z"
   },
   {
    "duration": 156,
    "start_time": "2022-09-04T11:01:48.743Z"
   },
   {
    "duration": 4,
    "start_time": "2022-09-04T11:01:48.901Z"
   },
   {
    "duration": 34,
    "start_time": "2022-09-04T11:01:48.907Z"
   },
   {
    "duration": 196,
    "start_time": "2022-09-04T11:01:48.943Z"
   },
   {
    "duration": 3,
    "start_time": "2022-09-04T11:01:49.141Z"
   },
   {
    "duration": 2467,
    "start_time": "2022-09-04T11:01:49.145Z"
   },
   {
    "duration": 337,
    "start_time": "2022-09-04T11:01:51.614Z"
   },
   {
    "duration": 123,
    "start_time": "2022-09-04T11:01:51.954Z"
   },
   {
    "duration": 96,
    "start_time": "2022-09-04T11:01:52.079Z"
   },
   {
    "duration": 11,
    "start_time": "2022-09-04T11:03:37.658Z"
   },
   {
    "duration": 3936,
    "start_time": "2022-09-04T11:03:42.302Z"
   },
   {
    "duration": 12,
    "start_time": "2022-09-04T11:03:46.241Z"
   },
   {
    "duration": 9,
    "start_time": "2022-09-04T11:03:46.255Z"
   },
   {
    "duration": 286,
    "start_time": "2022-09-04T11:03:46.267Z"
   },
   {
    "duration": 212,
    "start_time": "2022-09-04T11:03:46.555Z"
   },
   {
    "duration": 45,
    "start_time": "2022-09-04T11:03:46.769Z"
   },
   {
    "duration": 6,
    "start_time": "2022-09-04T11:03:46.815Z"
   },
   {
    "duration": 20,
    "start_time": "2022-09-04T11:03:46.823Z"
   },
   {
    "duration": 2,
    "start_time": "2022-09-04T11:03:46.845Z"
   },
   {
    "duration": 7,
    "start_time": "2022-09-04T11:03:46.850Z"
   },
   {
    "duration": 88,
    "start_time": "2022-09-04T11:03:46.858Z"
   },
   {
    "duration": 60,
    "start_time": "2022-09-04T11:03:46.948Z"
   },
   {
    "duration": 13,
    "start_time": "2022-09-04T11:03:47.010Z"
   },
   {
    "duration": 131,
    "start_time": "2022-09-04T11:03:47.025Z"
   },
   {
    "duration": 109,
    "start_time": "2022-09-04T11:03:47.158Z"
   },
   {
    "duration": 124,
    "start_time": "2022-09-04T11:03:47.268Z"
   },
   {
    "duration": 129,
    "start_time": "2022-09-04T11:03:47.393Z"
   },
   {
    "duration": 17,
    "start_time": "2022-09-04T11:03:47.523Z"
   },
   {
    "duration": 14,
    "start_time": "2022-09-04T11:03:47.542Z"
   },
   {
    "duration": 6,
    "start_time": "2022-09-04T11:03:47.558Z"
   },
   {
    "duration": 907,
    "start_time": "2022-09-04T11:03:47.566Z"
   },
   {
    "duration": 0,
    "start_time": "2022-09-04T11:03:48.475Z"
   },
   {
    "duration": 0,
    "start_time": "2022-09-04T11:03:48.476Z"
   },
   {
    "duration": 0,
    "start_time": "2022-09-04T11:03:48.477Z"
   },
   {
    "duration": 0,
    "start_time": "2022-09-04T11:03:48.478Z"
   },
   {
    "duration": 0,
    "start_time": "2022-09-04T11:03:48.479Z"
   },
   {
    "duration": 0,
    "start_time": "2022-09-04T11:03:48.480Z"
   },
   {
    "duration": 0,
    "start_time": "2022-09-04T11:03:48.481Z"
   },
   {
    "duration": 0,
    "start_time": "2022-09-04T11:03:48.482Z"
   },
   {
    "duration": 0,
    "start_time": "2022-09-04T11:03:48.483Z"
   },
   {
    "duration": 0,
    "start_time": "2022-09-04T11:03:48.484Z"
   },
   {
    "duration": 0,
    "start_time": "2022-09-04T11:03:48.485Z"
   },
   {
    "duration": 0,
    "start_time": "2022-09-04T11:03:48.487Z"
   },
   {
    "duration": 1,
    "start_time": "2022-09-04T11:03:48.487Z"
   },
   {
    "duration": 0,
    "start_time": "2022-09-04T11:03:48.488Z"
   },
   {
    "duration": 0,
    "start_time": "2022-09-04T11:03:48.489Z"
   },
   {
    "duration": 0,
    "start_time": "2022-09-04T11:03:48.490Z"
   },
   {
    "duration": 0,
    "start_time": "2022-09-04T11:03:48.492Z"
   },
   {
    "duration": 0,
    "start_time": "2022-09-04T11:03:48.493Z"
   },
   {
    "duration": 0,
    "start_time": "2022-09-04T11:03:48.494Z"
   },
   {
    "duration": 0,
    "start_time": "2022-09-04T11:03:48.494Z"
   },
   {
    "duration": 0,
    "start_time": "2022-09-04T11:03:48.496Z"
   },
   {
    "duration": 0,
    "start_time": "2022-09-04T11:03:48.497Z"
   },
   {
    "duration": 0,
    "start_time": "2022-09-04T11:03:48.498Z"
   },
   {
    "duration": 0,
    "start_time": "2022-09-04T11:03:48.499Z"
   },
   {
    "duration": 0,
    "start_time": "2022-09-04T11:03:48.500Z"
   },
   {
    "duration": 0,
    "start_time": "2022-09-04T11:03:48.501Z"
   },
   {
    "duration": 0,
    "start_time": "2022-09-04T11:03:48.502Z"
   },
   {
    "duration": 0,
    "start_time": "2022-09-04T11:03:48.503Z"
   },
   {
    "duration": 0,
    "start_time": "2022-09-04T11:03:48.504Z"
   },
   {
    "duration": 0,
    "start_time": "2022-09-04T11:03:48.505Z"
   },
   {
    "duration": 0,
    "start_time": "2022-09-04T11:03:48.505Z"
   },
   {
    "duration": 0,
    "start_time": "2022-09-04T11:03:48.507Z"
   },
   {
    "duration": 0,
    "start_time": "2022-09-04T11:03:48.508Z"
   },
   {
    "duration": 0,
    "start_time": "2022-09-04T11:03:48.509Z"
   },
   {
    "duration": 0,
    "start_time": "2022-09-04T11:03:48.510Z"
   },
   {
    "duration": 0,
    "start_time": "2022-09-04T11:03:48.511Z"
   },
   {
    "duration": 0,
    "start_time": "2022-09-04T11:03:48.511Z"
   },
   {
    "duration": 0,
    "start_time": "2022-09-04T11:03:48.512Z"
   },
   {
    "duration": 169,
    "start_time": "2022-09-04T11:11:29.879Z"
   },
   {
    "duration": 4029,
    "start_time": "2022-09-04T11:11:38.141Z"
   },
   {
    "duration": 15,
    "start_time": "2022-09-04T11:11:42.172Z"
   },
   {
    "duration": 3,
    "start_time": "2022-09-04T11:11:42.189Z"
   },
   {
    "duration": 225,
    "start_time": "2022-09-04T11:11:42.194Z"
   },
   {
    "duration": 187,
    "start_time": "2022-09-04T11:11:42.421Z"
   },
   {
    "duration": 41,
    "start_time": "2022-09-04T11:11:42.609Z"
   },
   {
    "duration": 6,
    "start_time": "2022-09-04T11:11:42.651Z"
   },
   {
    "duration": 34,
    "start_time": "2022-09-04T11:11:42.659Z"
   },
   {
    "duration": 3,
    "start_time": "2022-09-04T11:11:42.695Z"
   },
   {
    "duration": 9,
    "start_time": "2022-09-04T11:11:42.700Z"
   },
   {
    "duration": 77,
    "start_time": "2022-09-04T11:11:42.711Z"
   },
   {
    "duration": 51,
    "start_time": "2022-09-04T11:11:42.789Z"
   },
   {
    "duration": 14,
    "start_time": "2022-09-04T11:11:42.842Z"
   },
   {
    "duration": 138,
    "start_time": "2022-09-04T11:11:42.858Z"
   },
   {
    "duration": 107,
    "start_time": "2022-09-04T11:11:42.997Z"
   },
   {
    "duration": 119,
    "start_time": "2022-09-04T11:11:43.105Z"
   },
   {
    "duration": 127,
    "start_time": "2022-09-04T11:11:43.226Z"
   },
   {
    "duration": 14,
    "start_time": "2022-09-04T11:11:43.354Z"
   },
   {
    "duration": 28,
    "start_time": "2022-09-04T11:11:43.370Z"
   },
   {
    "duration": 7,
    "start_time": "2022-09-04T11:11:43.399Z"
   },
   {
    "duration": 1100,
    "start_time": "2022-09-04T11:11:43.407Z"
   },
   {
    "duration": 0,
    "start_time": "2022-09-04T11:11:44.510Z"
   },
   {
    "duration": 0,
    "start_time": "2022-09-04T11:11:44.512Z"
   },
   {
    "duration": 0,
    "start_time": "2022-09-04T11:11:44.512Z"
   },
   {
    "duration": 0,
    "start_time": "2022-09-04T11:11:44.513Z"
   },
   {
    "duration": 0,
    "start_time": "2022-09-04T11:11:44.514Z"
   },
   {
    "duration": 0,
    "start_time": "2022-09-04T11:11:44.515Z"
   },
   {
    "duration": 0,
    "start_time": "2022-09-04T11:11:44.516Z"
   },
   {
    "duration": 0,
    "start_time": "2022-09-04T11:11:44.517Z"
   },
   {
    "duration": 0,
    "start_time": "2022-09-04T11:11:44.518Z"
   },
   {
    "duration": 0,
    "start_time": "2022-09-04T11:11:44.519Z"
   },
   {
    "duration": 0,
    "start_time": "2022-09-04T11:11:44.520Z"
   },
   {
    "duration": 0,
    "start_time": "2022-09-04T11:11:44.520Z"
   },
   {
    "duration": 0,
    "start_time": "2022-09-04T11:11:44.521Z"
   },
   {
    "duration": 0,
    "start_time": "2022-09-04T11:11:44.523Z"
   },
   {
    "duration": 0,
    "start_time": "2022-09-04T11:11:44.524Z"
   },
   {
    "duration": 0,
    "start_time": "2022-09-04T11:11:44.525Z"
   },
   {
    "duration": 0,
    "start_time": "2022-09-04T11:11:44.526Z"
   },
   {
    "duration": 0,
    "start_time": "2022-09-04T11:11:44.527Z"
   },
   {
    "duration": 0,
    "start_time": "2022-09-04T11:11:44.528Z"
   },
   {
    "duration": 0,
    "start_time": "2022-09-04T11:11:44.529Z"
   },
   {
    "duration": 0,
    "start_time": "2022-09-04T11:11:44.529Z"
   },
   {
    "duration": 0,
    "start_time": "2022-09-04T11:11:44.530Z"
   },
   {
    "duration": 0,
    "start_time": "2022-09-04T11:11:44.531Z"
   },
   {
    "duration": 0,
    "start_time": "2022-09-04T11:11:44.532Z"
   },
   {
    "duration": 0,
    "start_time": "2022-09-04T11:11:44.534Z"
   },
   {
    "duration": 0,
    "start_time": "2022-09-04T11:11:44.534Z"
   },
   {
    "duration": 0,
    "start_time": "2022-09-04T11:11:44.535Z"
   },
   {
    "duration": 0,
    "start_time": "2022-09-04T11:11:44.536Z"
   },
   {
    "duration": 0,
    "start_time": "2022-09-04T11:11:44.537Z"
   },
   {
    "duration": 0,
    "start_time": "2022-09-04T11:11:44.538Z"
   },
   {
    "duration": 0,
    "start_time": "2022-09-04T11:11:44.539Z"
   },
   {
    "duration": 0,
    "start_time": "2022-09-04T11:11:44.540Z"
   },
   {
    "duration": 0,
    "start_time": "2022-09-04T11:11:44.542Z"
   },
   {
    "duration": 0,
    "start_time": "2022-09-04T11:11:44.543Z"
   },
   {
    "duration": 0,
    "start_time": "2022-09-04T11:11:44.544Z"
   },
   {
    "duration": 0,
    "start_time": "2022-09-04T11:11:44.545Z"
   },
   {
    "duration": 0,
    "start_time": "2022-09-04T11:11:44.546Z"
   },
   {
    "duration": 0,
    "start_time": "2022-09-04T11:11:44.587Z"
   },
   {
    "duration": 3220,
    "start_time": "2022-09-04T11:15:09.538Z"
   },
   {
    "duration": 10,
    "start_time": "2022-09-04T11:15:12.760Z"
   },
   {
    "duration": 11,
    "start_time": "2022-09-04T11:15:12.772Z"
   },
   {
    "duration": 260,
    "start_time": "2022-09-04T11:15:12.785Z"
   },
   {
    "duration": 202,
    "start_time": "2022-09-04T11:15:13.048Z"
   },
   {
    "duration": 48,
    "start_time": "2022-09-04T11:15:13.252Z"
   },
   {
    "duration": 6,
    "start_time": "2022-09-04T11:15:13.301Z"
   },
   {
    "duration": 16,
    "start_time": "2022-09-04T11:15:13.309Z"
   },
   {
    "duration": 4,
    "start_time": "2022-09-04T11:15:13.326Z"
   },
   {
    "duration": 12,
    "start_time": "2022-09-04T11:15:13.331Z"
   },
   {
    "duration": 94,
    "start_time": "2022-09-04T11:15:13.345Z"
   },
   {
    "duration": 57,
    "start_time": "2022-09-04T11:15:13.441Z"
   },
   {
    "duration": 14,
    "start_time": "2022-09-04T11:15:13.500Z"
   },
   {
    "duration": 138,
    "start_time": "2022-09-04T11:15:13.517Z"
   },
   {
    "duration": 125,
    "start_time": "2022-09-04T11:15:13.656Z"
   },
   {
    "duration": 130,
    "start_time": "2022-09-04T11:15:13.786Z"
   },
   {
    "duration": 133,
    "start_time": "2022-09-04T11:15:13.918Z"
   },
   {
    "duration": 16,
    "start_time": "2022-09-04T11:15:14.053Z"
   },
   {
    "duration": 24,
    "start_time": "2022-09-04T11:15:14.072Z"
   },
   {
    "duration": 6,
    "start_time": "2022-09-04T11:15:14.098Z"
   },
   {
    "duration": 1177,
    "start_time": "2022-09-04T11:15:14.105Z"
   },
   {
    "duration": 0,
    "start_time": "2022-09-04T11:15:15.284Z"
   },
   {
    "duration": 0,
    "start_time": "2022-09-04T11:15:15.286Z"
   },
   {
    "duration": 1,
    "start_time": "2022-09-04T11:15:15.286Z"
   },
   {
    "duration": 0,
    "start_time": "2022-09-04T11:15:15.288Z"
   },
   {
    "duration": 0,
    "start_time": "2022-09-04T11:15:15.290Z"
   },
   {
    "duration": 0,
    "start_time": "2022-09-04T11:15:15.291Z"
   },
   {
    "duration": 0,
    "start_time": "2022-09-04T11:15:15.292Z"
   },
   {
    "duration": 0,
    "start_time": "2022-09-04T11:15:15.294Z"
   },
   {
    "duration": 0,
    "start_time": "2022-09-04T11:15:15.295Z"
   },
   {
    "duration": 0,
    "start_time": "2022-09-04T11:15:15.296Z"
   },
   {
    "duration": 0,
    "start_time": "2022-09-04T11:15:15.297Z"
   },
   {
    "duration": 0,
    "start_time": "2022-09-04T11:15:15.298Z"
   },
   {
    "duration": 0,
    "start_time": "2022-09-04T11:15:15.299Z"
   },
   {
    "duration": 0,
    "start_time": "2022-09-04T11:15:15.299Z"
   },
   {
    "duration": 0,
    "start_time": "2022-09-04T11:15:15.300Z"
   },
   {
    "duration": 0,
    "start_time": "2022-09-04T11:15:15.302Z"
   },
   {
    "duration": 0,
    "start_time": "2022-09-04T11:15:15.303Z"
   },
   {
    "duration": 0,
    "start_time": "2022-09-04T11:15:15.304Z"
   },
   {
    "duration": 0,
    "start_time": "2022-09-04T11:15:15.305Z"
   },
   {
    "duration": 0,
    "start_time": "2022-09-04T11:15:15.306Z"
   },
   {
    "duration": 0,
    "start_time": "2022-09-04T11:15:15.307Z"
   },
   {
    "duration": 0,
    "start_time": "2022-09-04T11:15:15.308Z"
   },
   {
    "duration": 0,
    "start_time": "2022-09-04T11:15:15.309Z"
   },
   {
    "duration": 0,
    "start_time": "2022-09-04T11:15:15.310Z"
   },
   {
    "duration": 0,
    "start_time": "2022-09-04T11:15:15.311Z"
   },
   {
    "duration": 0,
    "start_time": "2022-09-04T11:15:15.313Z"
   },
   {
    "duration": 0,
    "start_time": "2022-09-04T11:15:15.314Z"
   },
   {
    "duration": 0,
    "start_time": "2022-09-04T11:15:15.315Z"
   },
   {
    "duration": 0,
    "start_time": "2022-09-04T11:15:15.317Z"
   },
   {
    "duration": 0,
    "start_time": "2022-09-04T11:15:15.318Z"
   },
   {
    "duration": 0,
    "start_time": "2022-09-04T11:15:15.319Z"
   },
   {
    "duration": 0,
    "start_time": "2022-09-04T11:15:15.321Z"
   },
   {
    "duration": 0,
    "start_time": "2022-09-04T11:15:15.322Z"
   },
   {
    "duration": 0,
    "start_time": "2022-09-04T11:15:15.324Z"
   },
   {
    "duration": 0,
    "start_time": "2022-09-04T11:15:15.325Z"
   },
   {
    "duration": 0,
    "start_time": "2022-09-04T11:15:15.327Z"
   },
   {
    "duration": 0,
    "start_time": "2022-09-04T11:15:15.328Z"
   },
   {
    "duration": 0,
    "start_time": "2022-09-04T11:15:15.387Z"
   },
   {
    "duration": 4206,
    "start_time": "2022-09-04T11:16:13.880Z"
   },
   {
    "duration": 9,
    "start_time": "2022-09-04T11:16:18.088Z"
   },
   {
    "duration": 4,
    "start_time": "2022-09-04T11:16:18.099Z"
   },
   {
    "duration": 234,
    "start_time": "2022-09-04T11:16:18.105Z"
   },
   {
    "duration": 197,
    "start_time": "2022-09-04T11:16:18.340Z"
   },
   {
    "duration": 52,
    "start_time": "2022-09-04T11:16:18.539Z"
   },
   {
    "duration": 7,
    "start_time": "2022-09-04T11:16:18.593Z"
   },
   {
    "duration": 16,
    "start_time": "2022-09-04T11:16:18.601Z"
   },
   {
    "duration": 3,
    "start_time": "2022-09-04T11:16:18.618Z"
   },
   {
    "duration": 8,
    "start_time": "2022-09-04T11:16:18.623Z"
   },
   {
    "duration": 93,
    "start_time": "2022-09-04T11:16:18.632Z"
   },
   {
    "duration": 60,
    "start_time": "2022-09-04T11:16:18.727Z"
   },
   {
    "duration": 15,
    "start_time": "2022-09-04T11:16:18.789Z"
   },
   {
    "duration": 138,
    "start_time": "2022-09-04T11:16:18.806Z"
   },
   {
    "duration": 111,
    "start_time": "2022-09-04T11:16:18.946Z"
   },
   {
    "duration": 131,
    "start_time": "2022-09-04T11:16:19.059Z"
   },
   {
    "duration": 128,
    "start_time": "2022-09-04T11:16:19.191Z"
   },
   {
    "duration": 13,
    "start_time": "2022-09-04T11:16:19.321Z"
   },
   {
    "duration": 20,
    "start_time": "2022-09-04T11:16:19.336Z"
   },
   {
    "duration": 23,
    "start_time": "2022-09-04T11:16:19.357Z"
   },
   {
    "duration": 986,
    "start_time": "2022-09-04T11:16:19.381Z"
   },
   {
    "duration": 0,
    "start_time": "2022-09-04T11:16:20.371Z"
   },
   {
    "duration": 0,
    "start_time": "2022-09-04T11:16:20.372Z"
   },
   {
    "duration": 0,
    "start_time": "2022-09-04T11:16:20.373Z"
   },
   {
    "duration": 0,
    "start_time": "2022-09-04T11:16:20.374Z"
   },
   {
    "duration": 0,
    "start_time": "2022-09-04T11:16:20.375Z"
   },
   {
    "duration": 0,
    "start_time": "2022-09-04T11:16:20.376Z"
   },
   {
    "duration": 0,
    "start_time": "2022-09-04T11:16:20.377Z"
   },
   {
    "duration": 0,
    "start_time": "2022-09-04T11:16:20.378Z"
   },
   {
    "duration": 0,
    "start_time": "2022-09-04T11:16:20.380Z"
   },
   {
    "duration": 0,
    "start_time": "2022-09-04T11:16:20.380Z"
   },
   {
    "duration": 0,
    "start_time": "2022-09-04T11:16:20.381Z"
   },
   {
    "duration": 0,
    "start_time": "2022-09-04T11:16:20.382Z"
   },
   {
    "duration": 0,
    "start_time": "2022-09-04T11:16:20.383Z"
   },
   {
    "duration": 0,
    "start_time": "2022-09-04T11:16:20.384Z"
   },
   {
    "duration": 0,
    "start_time": "2022-09-04T11:16:20.385Z"
   },
   {
    "duration": 0,
    "start_time": "2022-09-04T11:16:20.385Z"
   },
   {
    "duration": 0,
    "start_time": "2022-09-04T11:16:20.387Z"
   },
   {
    "duration": 0,
    "start_time": "2022-09-04T11:16:20.388Z"
   },
   {
    "duration": 0,
    "start_time": "2022-09-04T11:16:20.389Z"
   },
   {
    "duration": 0,
    "start_time": "2022-09-04T11:16:20.390Z"
   },
   {
    "duration": 0,
    "start_time": "2022-09-04T11:16:20.391Z"
   },
   {
    "duration": 0,
    "start_time": "2022-09-04T11:16:20.392Z"
   },
   {
    "duration": 0,
    "start_time": "2022-09-04T11:16:20.392Z"
   },
   {
    "duration": 0,
    "start_time": "2022-09-04T11:16:20.393Z"
   },
   {
    "duration": 0,
    "start_time": "2022-09-04T11:16:20.394Z"
   },
   {
    "duration": 0,
    "start_time": "2022-09-04T11:16:20.395Z"
   },
   {
    "duration": 0,
    "start_time": "2022-09-04T11:16:20.396Z"
   },
   {
    "duration": 0,
    "start_time": "2022-09-04T11:16:20.397Z"
   },
   {
    "duration": 0,
    "start_time": "2022-09-04T11:16:20.398Z"
   },
   {
    "duration": 0,
    "start_time": "2022-09-04T11:16:20.399Z"
   },
   {
    "duration": 0,
    "start_time": "2022-09-04T11:16:20.400Z"
   },
   {
    "duration": 0,
    "start_time": "2022-09-04T11:16:20.401Z"
   },
   {
    "duration": 0,
    "start_time": "2022-09-04T11:16:20.402Z"
   },
   {
    "duration": 0,
    "start_time": "2022-09-04T11:16:20.403Z"
   },
   {
    "duration": 0,
    "start_time": "2022-09-04T11:16:20.404Z"
   },
   {
    "duration": 0,
    "start_time": "2022-09-04T11:16:20.405Z"
   },
   {
    "duration": 0,
    "start_time": "2022-09-04T11:16:20.406Z"
   },
   {
    "duration": 0,
    "start_time": "2022-09-04T11:16:20.407Z"
   },
   {
    "duration": 1312,
    "start_time": "2022-09-04T11:19:08.855Z"
   },
   {
    "duration": 1051,
    "start_time": "2022-09-04T11:19:46.408Z"
   },
   {
    "duration": 3,
    "start_time": "2022-09-04T11:20:21.062Z"
   },
   {
    "duration": 4004,
    "start_time": "2022-09-04T11:20:28.810Z"
   },
   {
    "duration": 10,
    "start_time": "2022-09-04T11:20:32.816Z"
   },
   {
    "duration": 5,
    "start_time": "2022-09-04T11:20:32.827Z"
   },
   {
    "duration": 233,
    "start_time": "2022-09-04T11:20:32.834Z"
   },
   {
    "duration": 188,
    "start_time": "2022-09-04T11:20:33.069Z"
   },
   {
    "duration": 44,
    "start_time": "2022-09-04T11:20:33.259Z"
   },
   {
    "duration": 6,
    "start_time": "2022-09-04T11:20:33.305Z"
   },
   {
    "duration": 19,
    "start_time": "2022-09-04T11:20:33.313Z"
   },
   {
    "duration": 11,
    "start_time": "2022-09-04T11:20:33.334Z"
   },
   {
    "duration": 8,
    "start_time": "2022-09-04T11:20:33.348Z"
   },
   {
    "duration": 81,
    "start_time": "2022-09-04T11:20:33.357Z"
   },
   {
    "duration": 78,
    "start_time": "2022-09-04T11:20:33.441Z"
   },
   {
    "duration": 19,
    "start_time": "2022-09-04T11:20:33.521Z"
   },
   {
    "duration": 154,
    "start_time": "2022-09-04T11:20:33.542Z"
   },
   {
    "duration": 128,
    "start_time": "2022-09-04T11:20:33.698Z"
   },
   {
    "duration": 120,
    "start_time": "2022-09-04T11:20:33.827Z"
   },
   {
    "duration": 139,
    "start_time": "2022-09-04T11:20:33.949Z"
   },
   {
    "duration": 15,
    "start_time": "2022-09-04T11:20:34.090Z"
   },
   {
    "duration": 14,
    "start_time": "2022-09-04T11:20:34.107Z"
   },
   {
    "duration": 10,
    "start_time": "2022-09-04T11:20:34.122Z"
   },
   {
    "duration": 12,
    "start_time": "2022-09-04T11:20:34.133Z"
   },
   {
    "duration": 14,
    "start_time": "2022-09-04T11:20:34.146Z"
   },
   {
    "duration": 1303,
    "start_time": "2022-09-04T11:20:34.161Z"
   },
   {
    "duration": 0,
    "start_time": "2022-09-04T11:20:35.467Z"
   },
   {
    "duration": 0,
    "start_time": "2022-09-04T11:20:35.469Z"
   },
   {
    "duration": 0,
    "start_time": "2022-09-04T11:20:35.470Z"
   },
   {
    "duration": 0,
    "start_time": "2022-09-04T11:20:35.471Z"
   },
   {
    "duration": 0,
    "start_time": "2022-09-04T11:20:35.471Z"
   },
   {
    "duration": 0,
    "start_time": "2022-09-04T11:20:35.472Z"
   },
   {
    "duration": 0,
    "start_time": "2022-09-04T11:20:35.473Z"
   },
   {
    "duration": 0,
    "start_time": "2022-09-04T11:20:35.475Z"
   },
   {
    "duration": 0,
    "start_time": "2022-09-04T11:20:35.475Z"
   },
   {
    "duration": 0,
    "start_time": "2022-09-04T11:20:35.476Z"
   },
   {
    "duration": 0,
    "start_time": "2022-09-04T11:20:35.478Z"
   },
   {
    "duration": 0,
    "start_time": "2022-09-04T11:20:35.479Z"
   },
   {
    "duration": 0,
    "start_time": "2022-09-04T11:20:35.480Z"
   },
   {
    "duration": 0,
    "start_time": "2022-09-04T11:20:35.481Z"
   },
   {
    "duration": 0,
    "start_time": "2022-09-04T11:20:35.482Z"
   },
   {
    "duration": 0,
    "start_time": "2022-09-04T11:20:35.483Z"
   },
   {
    "duration": 0,
    "start_time": "2022-09-04T11:20:35.484Z"
   },
   {
    "duration": 0,
    "start_time": "2022-09-04T11:20:35.485Z"
   },
   {
    "duration": 0,
    "start_time": "2022-09-04T11:20:35.486Z"
   },
   {
    "duration": 0,
    "start_time": "2022-09-04T11:20:35.487Z"
   },
   {
    "duration": 0,
    "start_time": "2022-09-04T11:20:35.488Z"
   },
   {
    "duration": 0,
    "start_time": "2022-09-04T11:20:35.489Z"
   },
   {
    "duration": 0,
    "start_time": "2022-09-04T11:20:35.490Z"
   },
   {
    "duration": 0,
    "start_time": "2022-09-04T11:20:35.491Z"
   },
   {
    "duration": 0,
    "start_time": "2022-09-04T11:20:35.492Z"
   },
   {
    "duration": 0,
    "start_time": "2022-09-04T11:20:35.493Z"
   },
   {
    "duration": 0,
    "start_time": "2022-09-04T11:20:35.495Z"
   },
   {
    "duration": 0,
    "start_time": "2022-09-04T11:20:35.496Z"
   },
   {
    "duration": 0,
    "start_time": "2022-09-04T11:20:35.497Z"
   },
   {
    "duration": 0,
    "start_time": "2022-09-04T11:20:35.498Z"
   },
   {
    "duration": 0,
    "start_time": "2022-09-04T11:20:35.499Z"
   },
   {
    "duration": 0,
    "start_time": "2022-09-04T11:20:35.500Z"
   },
   {
    "duration": 0,
    "start_time": "2022-09-04T11:20:35.501Z"
   },
   {
    "duration": 0,
    "start_time": "2022-09-04T11:20:35.502Z"
   },
   {
    "duration": 0,
    "start_time": "2022-09-04T11:20:35.503Z"
   },
   {
    "duration": 0,
    "start_time": "2022-09-04T11:20:35.505Z"
   },
   {
    "duration": 0,
    "start_time": "2022-09-04T11:20:35.505Z"
   },
   {
    "duration": 0,
    "start_time": "2022-09-04T11:20:35.509Z"
   },
   {
    "duration": 6,
    "start_time": "2022-09-04T11:22:06.449Z"
   },
   {
    "duration": 4266,
    "start_time": "2022-09-04T11:22:12.633Z"
   },
   {
    "duration": 9,
    "start_time": "2022-09-04T11:22:16.901Z"
   },
   {
    "duration": 14,
    "start_time": "2022-09-04T11:22:16.911Z"
   },
   {
    "duration": 239,
    "start_time": "2022-09-04T11:22:16.927Z"
   },
   {
    "duration": 284,
    "start_time": "2022-09-04T11:22:17.168Z"
   },
   {
    "duration": 54,
    "start_time": "2022-09-04T11:22:17.455Z"
   },
   {
    "duration": 6,
    "start_time": "2022-09-04T11:22:17.510Z"
   },
   {
    "duration": 26,
    "start_time": "2022-09-04T11:22:17.518Z"
   },
   {
    "duration": 4,
    "start_time": "2022-09-04T11:22:17.546Z"
   },
   {
    "duration": 15,
    "start_time": "2022-09-04T11:22:17.552Z"
   },
   {
    "duration": 91,
    "start_time": "2022-09-04T11:22:17.568Z"
   },
   {
    "duration": 59,
    "start_time": "2022-09-04T11:22:17.661Z"
   },
   {
    "duration": 14,
    "start_time": "2022-09-04T11:22:17.722Z"
   },
   {
    "duration": 137,
    "start_time": "2022-09-04T11:22:17.737Z"
   },
   {
    "duration": 113,
    "start_time": "2022-09-04T11:22:17.876Z"
   },
   {
    "duration": 134,
    "start_time": "2022-09-04T11:22:17.991Z"
   },
   {
    "duration": 129,
    "start_time": "2022-09-04T11:22:18.126Z"
   },
   {
    "duration": 30,
    "start_time": "2022-09-04T11:22:18.257Z"
   },
   {
    "duration": 14,
    "start_time": "2022-09-04T11:22:18.288Z"
   },
   {
    "duration": 5,
    "start_time": "2022-09-04T11:22:18.303Z"
   },
   {
    "duration": 7,
    "start_time": "2022-09-04T11:22:18.310Z"
   },
   {
    "duration": 1342,
    "start_time": "2022-09-04T11:22:18.319Z"
   },
   {
    "duration": 0,
    "start_time": "2022-09-04T11:22:19.664Z"
   },
   {
    "duration": 0,
    "start_time": "2022-09-04T11:22:19.666Z"
   },
   {
    "duration": 0,
    "start_time": "2022-09-04T11:22:19.667Z"
   },
   {
    "duration": 0,
    "start_time": "2022-09-04T11:22:19.668Z"
   },
   {
    "duration": 0,
    "start_time": "2022-09-04T11:22:19.670Z"
   },
   {
    "duration": 0,
    "start_time": "2022-09-04T11:22:19.671Z"
   },
   {
    "duration": 0,
    "start_time": "2022-09-04T11:22:19.673Z"
   },
   {
    "duration": 0,
    "start_time": "2022-09-04T11:22:19.674Z"
   },
   {
    "duration": 0,
    "start_time": "2022-09-04T11:22:19.675Z"
   },
   {
    "duration": 0,
    "start_time": "2022-09-04T11:22:19.676Z"
   },
   {
    "duration": 0,
    "start_time": "2022-09-04T11:22:19.677Z"
   },
   {
    "duration": 0,
    "start_time": "2022-09-04T11:22:19.678Z"
   },
   {
    "duration": 0,
    "start_time": "2022-09-04T11:22:19.679Z"
   },
   {
    "duration": 0,
    "start_time": "2022-09-04T11:22:19.680Z"
   },
   {
    "duration": 0,
    "start_time": "2022-09-04T11:22:19.681Z"
   },
   {
    "duration": 0,
    "start_time": "2022-09-04T11:22:19.683Z"
   },
   {
    "duration": 0,
    "start_time": "2022-09-04T11:22:19.684Z"
   },
   {
    "duration": 0,
    "start_time": "2022-09-04T11:22:19.685Z"
   },
   {
    "duration": 0,
    "start_time": "2022-09-04T11:22:19.686Z"
   },
   {
    "duration": 0,
    "start_time": "2022-09-04T11:22:19.687Z"
   },
   {
    "duration": 0,
    "start_time": "2022-09-04T11:22:19.688Z"
   },
   {
    "duration": 0,
    "start_time": "2022-09-04T11:22:19.690Z"
   },
   {
    "duration": 1,
    "start_time": "2022-09-04T11:22:19.690Z"
   },
   {
    "duration": 0,
    "start_time": "2022-09-04T11:22:19.692Z"
   },
   {
    "duration": 0,
    "start_time": "2022-09-04T11:22:19.693Z"
   },
   {
    "duration": 0,
    "start_time": "2022-09-04T11:22:19.694Z"
   },
   {
    "duration": 0,
    "start_time": "2022-09-04T11:22:19.695Z"
   },
   {
    "duration": 0,
    "start_time": "2022-09-04T11:22:19.696Z"
   },
   {
    "duration": 0,
    "start_time": "2022-09-04T11:22:19.697Z"
   },
   {
    "duration": 0,
    "start_time": "2022-09-04T11:22:19.698Z"
   },
   {
    "duration": 0,
    "start_time": "2022-09-04T11:22:19.698Z"
   },
   {
    "duration": 0,
    "start_time": "2022-09-04T11:22:19.699Z"
   },
   {
    "duration": 0,
    "start_time": "2022-09-04T11:22:19.700Z"
   },
   {
    "duration": 0,
    "start_time": "2022-09-04T11:22:19.701Z"
   },
   {
    "duration": 0,
    "start_time": "2022-09-04T11:22:19.702Z"
   },
   {
    "duration": 0,
    "start_time": "2022-09-04T11:22:19.703Z"
   },
   {
    "duration": 0,
    "start_time": "2022-09-04T11:22:19.704Z"
   },
   {
    "duration": 0,
    "start_time": "2022-09-04T11:22:19.705Z"
   },
   {
    "duration": 0,
    "start_time": "2022-09-04T11:22:19.706Z"
   },
   {
    "duration": 5,
    "start_time": "2022-09-04T11:22:58.889Z"
   },
   {
    "duration": 3251,
    "start_time": "2022-09-04T11:23:06.455Z"
   },
   {
    "duration": 10,
    "start_time": "2022-09-04T11:23:09.709Z"
   },
   {
    "duration": 13,
    "start_time": "2022-09-04T11:23:09.720Z"
   },
   {
    "duration": 226,
    "start_time": "2022-09-04T11:23:09.735Z"
   },
   {
    "duration": 234,
    "start_time": "2022-09-04T11:23:09.962Z"
   },
   {
    "duration": 44,
    "start_time": "2022-09-04T11:23:10.198Z"
   },
   {
    "duration": 7,
    "start_time": "2022-09-04T11:23:10.244Z"
   },
   {
    "duration": 36,
    "start_time": "2022-09-04T11:23:10.252Z"
   },
   {
    "duration": 4,
    "start_time": "2022-09-04T11:23:10.290Z"
   },
   {
    "duration": 10,
    "start_time": "2022-09-04T11:23:10.297Z"
   },
   {
    "duration": 100,
    "start_time": "2022-09-04T11:23:10.308Z"
   },
   {
    "duration": 55,
    "start_time": "2022-09-04T11:23:10.410Z"
   },
   {
    "duration": 28,
    "start_time": "2022-09-04T11:23:10.467Z"
   },
   {
    "duration": 135,
    "start_time": "2022-09-04T11:23:10.497Z"
   },
   {
    "duration": 117,
    "start_time": "2022-09-04T11:23:10.634Z"
   },
   {
    "duration": 134,
    "start_time": "2022-09-04T11:23:10.753Z"
   },
   {
    "duration": 128,
    "start_time": "2022-09-04T11:23:10.889Z"
   },
   {
    "duration": 15,
    "start_time": "2022-09-04T11:23:11.019Z"
   },
   {
    "duration": 15,
    "start_time": "2022-09-04T11:23:11.035Z"
   },
   {
    "duration": 6,
    "start_time": "2022-09-04T11:23:11.052Z"
   },
   {
    "duration": 28,
    "start_time": "2022-09-04T11:23:11.059Z"
   },
   {
    "duration": 1232,
    "start_time": "2022-09-04T11:23:11.089Z"
   },
   {
    "duration": 0,
    "start_time": "2022-09-04T11:23:12.325Z"
   },
   {
    "duration": 0,
    "start_time": "2022-09-04T11:23:12.326Z"
   },
   {
    "duration": 0,
    "start_time": "2022-09-04T11:23:12.327Z"
   },
   {
    "duration": 0,
    "start_time": "2022-09-04T11:23:12.329Z"
   },
   {
    "duration": 0,
    "start_time": "2022-09-04T11:23:12.330Z"
   },
   {
    "duration": 0,
    "start_time": "2022-09-04T11:23:12.331Z"
   },
   {
    "duration": 0,
    "start_time": "2022-09-04T11:23:12.332Z"
   },
   {
    "duration": 0,
    "start_time": "2022-09-04T11:23:12.333Z"
   },
   {
    "duration": 0,
    "start_time": "2022-09-04T11:23:12.335Z"
   },
   {
    "duration": 0,
    "start_time": "2022-09-04T11:23:12.336Z"
   },
   {
    "duration": 0,
    "start_time": "2022-09-04T11:23:12.337Z"
   },
   {
    "duration": 0,
    "start_time": "2022-09-04T11:23:12.337Z"
   },
   {
    "duration": 0,
    "start_time": "2022-09-04T11:23:12.338Z"
   },
   {
    "duration": 0,
    "start_time": "2022-09-04T11:23:12.339Z"
   },
   {
    "duration": 0,
    "start_time": "2022-09-04T11:23:12.341Z"
   },
   {
    "duration": 0,
    "start_time": "2022-09-04T11:23:12.342Z"
   },
   {
    "duration": 0,
    "start_time": "2022-09-04T11:23:12.344Z"
   },
   {
    "duration": 0,
    "start_time": "2022-09-04T11:23:12.345Z"
   },
   {
    "duration": 0,
    "start_time": "2022-09-04T11:23:12.346Z"
   },
   {
    "duration": 0,
    "start_time": "2022-09-04T11:23:12.347Z"
   },
   {
    "duration": 0,
    "start_time": "2022-09-04T11:23:12.349Z"
   },
   {
    "duration": 0,
    "start_time": "2022-09-04T11:23:12.350Z"
   },
   {
    "duration": 0,
    "start_time": "2022-09-04T11:23:12.351Z"
   },
   {
    "duration": 0,
    "start_time": "2022-09-04T11:23:12.353Z"
   },
   {
    "duration": 0,
    "start_time": "2022-09-04T11:23:12.354Z"
   },
   {
    "duration": 0,
    "start_time": "2022-09-04T11:23:12.355Z"
   },
   {
    "duration": 0,
    "start_time": "2022-09-04T11:23:12.357Z"
   },
   {
    "duration": 0,
    "start_time": "2022-09-04T11:23:12.358Z"
   },
   {
    "duration": 0,
    "start_time": "2022-09-04T11:23:12.359Z"
   },
   {
    "duration": 0,
    "start_time": "2022-09-04T11:23:12.360Z"
   },
   {
    "duration": 0,
    "start_time": "2022-09-04T11:23:12.361Z"
   },
   {
    "duration": 0,
    "start_time": "2022-09-04T11:23:12.387Z"
   },
   {
    "duration": 0,
    "start_time": "2022-09-04T11:23:12.388Z"
   },
   {
    "duration": 0,
    "start_time": "2022-09-04T11:23:12.389Z"
   },
   {
    "duration": 0,
    "start_time": "2022-09-04T11:23:12.390Z"
   },
   {
    "duration": 0,
    "start_time": "2022-09-04T11:23:12.391Z"
   },
   {
    "duration": 0,
    "start_time": "2022-09-04T11:23:12.392Z"
   },
   {
    "duration": 0,
    "start_time": "2022-09-04T11:23:12.393Z"
   },
   {
    "duration": 0,
    "start_time": "2022-09-04T11:23:12.394Z"
   },
   {
    "duration": 4213,
    "start_time": "2022-09-04T11:33:40.917Z"
   },
   {
    "duration": 9,
    "start_time": "2022-09-04T11:33:45.132Z"
   },
   {
    "duration": 50,
    "start_time": "2022-09-04T11:33:45.143Z"
   },
   {
    "duration": 501,
    "start_time": "2022-09-04T11:33:45.202Z"
   },
   {
    "duration": 422,
    "start_time": "2022-09-04T11:33:45.705Z"
   },
   {
    "duration": 159,
    "start_time": "2022-09-04T11:33:46.129Z"
   },
   {
    "duration": 11,
    "start_time": "2022-09-04T11:33:46.290Z"
   },
   {
    "duration": 26,
    "start_time": "2022-09-04T11:33:46.307Z"
   },
   {
    "duration": 75,
    "start_time": "2022-09-04T11:33:46.335Z"
   },
   {
    "duration": 34,
    "start_time": "2022-09-04T11:33:46.413Z"
   },
   {
    "duration": 171,
    "start_time": "2022-09-04T11:33:46.449Z"
   },
   {
    "duration": 105,
    "start_time": "2022-09-04T11:33:46.622Z"
   },
   {
    "duration": 73,
    "start_time": "2022-09-04T11:33:46.728Z"
   },
   {
    "duration": 293,
    "start_time": "2022-09-04T11:33:46.803Z"
   },
   {
    "duration": 121,
    "start_time": "2022-09-04T11:33:47.098Z"
   },
   {
    "duration": 126,
    "start_time": "2022-09-04T11:33:47.220Z"
   },
   {
    "duration": 134,
    "start_time": "2022-09-04T11:33:47.348Z"
   },
   {
    "duration": 17,
    "start_time": "2022-09-04T11:33:47.497Z"
   },
   {
    "duration": 14,
    "start_time": "2022-09-04T11:33:47.515Z"
   },
   {
    "duration": 8,
    "start_time": "2022-09-04T11:33:47.531Z"
   },
   {
    "duration": 13,
    "start_time": "2022-09-04T11:33:47.540Z"
   },
   {
    "duration": 919,
    "start_time": "2022-09-04T11:33:47.554Z"
   },
   {
    "duration": 0,
    "start_time": "2022-09-04T11:33:48.476Z"
   },
   {
    "duration": 0,
    "start_time": "2022-09-04T11:33:48.477Z"
   },
   {
    "duration": 0,
    "start_time": "2022-09-04T11:33:48.479Z"
   },
   {
    "duration": 0,
    "start_time": "2022-09-04T11:33:48.480Z"
   },
   {
    "duration": 0,
    "start_time": "2022-09-04T11:33:48.481Z"
   },
   {
    "duration": 0,
    "start_time": "2022-09-04T11:33:48.482Z"
   },
   {
    "duration": 0,
    "start_time": "2022-09-04T11:33:48.482Z"
   },
   {
    "duration": 0,
    "start_time": "2022-09-04T11:33:48.483Z"
   },
   {
    "duration": 1,
    "start_time": "2022-09-04T11:33:48.484Z"
   },
   {
    "duration": 0,
    "start_time": "2022-09-04T11:33:48.486Z"
   },
   {
    "duration": 0,
    "start_time": "2022-09-04T11:33:48.487Z"
   },
   {
    "duration": 0,
    "start_time": "2022-09-04T11:33:48.491Z"
   },
   {
    "duration": 0,
    "start_time": "2022-09-04T11:33:48.492Z"
   },
   {
    "duration": 0,
    "start_time": "2022-09-04T11:33:48.492Z"
   },
   {
    "duration": 0,
    "start_time": "2022-09-04T11:33:48.497Z"
   },
   {
    "duration": 0,
    "start_time": "2022-09-04T11:33:48.499Z"
   },
   {
    "duration": 0,
    "start_time": "2022-09-04T11:33:48.500Z"
   },
   {
    "duration": 0,
    "start_time": "2022-09-04T11:33:48.500Z"
   },
   {
    "duration": 0,
    "start_time": "2022-09-04T11:33:48.502Z"
   },
   {
    "duration": 0,
    "start_time": "2022-09-04T11:33:48.504Z"
   },
   {
    "duration": 0,
    "start_time": "2022-09-04T11:33:48.504Z"
   },
   {
    "duration": 0,
    "start_time": "2022-09-04T11:33:48.506Z"
   },
   {
    "duration": 0,
    "start_time": "2022-09-04T11:33:48.507Z"
   },
   {
    "duration": 0,
    "start_time": "2022-09-04T11:33:48.508Z"
   },
   {
    "duration": 0,
    "start_time": "2022-09-04T11:33:48.509Z"
   },
   {
    "duration": 0,
    "start_time": "2022-09-04T11:33:48.510Z"
   },
   {
    "duration": 0,
    "start_time": "2022-09-04T11:33:48.511Z"
   },
   {
    "duration": 0,
    "start_time": "2022-09-04T11:33:48.513Z"
   },
   {
    "duration": 0,
    "start_time": "2022-09-04T11:33:48.514Z"
   },
   {
    "duration": 0,
    "start_time": "2022-09-04T11:33:48.515Z"
   },
   {
    "duration": 0,
    "start_time": "2022-09-04T11:33:48.516Z"
   },
   {
    "duration": 0,
    "start_time": "2022-09-04T11:33:48.517Z"
   },
   {
    "duration": 0,
    "start_time": "2022-09-04T11:33:48.518Z"
   },
   {
    "duration": 0,
    "start_time": "2022-09-04T11:33:48.519Z"
   },
   {
    "duration": 0,
    "start_time": "2022-09-04T11:33:48.520Z"
   },
   {
    "duration": 0,
    "start_time": "2022-09-04T11:33:48.521Z"
   },
   {
    "duration": 0,
    "start_time": "2022-09-04T11:33:48.522Z"
   },
   {
    "duration": 0,
    "start_time": "2022-09-04T11:33:48.523Z"
   },
   {
    "duration": 0,
    "start_time": "2022-09-04T11:33:48.524Z"
   },
   {
    "duration": 9,
    "start_time": "2022-09-04T11:37:57.646Z"
   },
   {
    "duration": 4040,
    "start_time": "2022-09-04T11:38:02.978Z"
   },
   {
    "duration": 9,
    "start_time": "2022-09-04T11:38:07.020Z"
   },
   {
    "duration": 4,
    "start_time": "2022-09-04T11:38:07.031Z"
   },
   {
    "duration": 475,
    "start_time": "2022-09-04T11:38:07.037Z"
   },
   {
    "duration": 408,
    "start_time": "2022-09-04T11:38:07.514Z"
   },
   {
    "duration": 82,
    "start_time": "2022-09-04T11:38:07.924Z"
   },
   {
    "duration": 9,
    "start_time": "2022-09-04T11:38:08.008Z"
   },
   {
    "duration": 22,
    "start_time": "2022-09-04T11:38:08.019Z"
   },
   {
    "duration": 4,
    "start_time": "2022-09-04T11:38:08.043Z"
   },
   {
    "duration": 39,
    "start_time": "2022-09-04T11:38:08.050Z"
   },
   {
    "duration": 70,
    "start_time": "2022-09-04T11:38:08.090Z"
   },
   {
    "duration": 58,
    "start_time": "2022-09-04T11:38:08.162Z"
   },
   {
    "duration": 14,
    "start_time": "2022-09-04T11:38:08.222Z"
   },
   {
    "duration": 131,
    "start_time": "2022-09-04T11:38:08.238Z"
   },
   {
    "duration": 118,
    "start_time": "2022-09-04T11:38:08.370Z"
   },
   {
    "duration": 119,
    "start_time": "2022-09-04T11:38:08.490Z"
   },
   {
    "duration": 124,
    "start_time": "2022-09-04T11:38:08.611Z"
   },
   {
    "duration": 13,
    "start_time": "2022-09-04T11:38:08.736Z"
   },
   {
    "duration": 15,
    "start_time": "2022-09-04T11:38:08.751Z"
   },
   {
    "duration": 19,
    "start_time": "2022-09-04T11:38:08.768Z"
   },
   {
    "duration": 8,
    "start_time": "2022-09-04T11:38:08.788Z"
   },
   {
    "duration": 69,
    "start_time": "2022-09-04T11:38:08.798Z"
   },
   {
    "duration": 18,
    "start_time": "2022-09-04T11:38:08.869Z"
   },
   {
    "duration": 7,
    "start_time": "2022-09-04T11:38:08.888Z"
   },
   {
    "duration": 301,
    "start_time": "2022-09-04T11:38:08.896Z"
   },
   {
    "duration": 423,
    "start_time": "2022-09-04T11:38:09.198Z"
   },
   {
    "duration": 202,
    "start_time": "2022-09-04T11:38:09.623Z"
   },
   {
    "duration": 306,
    "start_time": "2022-09-04T11:38:09.829Z"
   },
   {
    "duration": 201,
    "start_time": "2022-09-04T11:38:10.136Z"
   },
   {
    "duration": 228,
    "start_time": "2022-09-04T11:38:10.339Z"
   },
   {
    "duration": 207,
    "start_time": "2022-09-04T11:38:10.569Z"
   },
   {
    "duration": 141,
    "start_time": "2022-09-04T11:38:10.778Z"
   },
   {
    "duration": 221,
    "start_time": "2022-09-04T11:38:10.921Z"
   },
   {
    "duration": 221,
    "start_time": "2022-09-04T11:38:11.144Z"
   },
   {
    "duration": 296,
    "start_time": "2022-09-04T11:38:11.367Z"
   },
   {
    "duration": 208,
    "start_time": "2022-09-04T11:38:11.665Z"
   },
   {
    "duration": 213,
    "start_time": "2022-09-04T11:38:11.875Z"
   },
   {
    "duration": 231,
    "start_time": "2022-09-04T11:38:12.090Z"
   },
   {
    "duration": 223,
    "start_time": "2022-09-04T11:38:12.323Z"
   },
   {
    "duration": 70,
    "start_time": "2022-09-04T11:38:12.548Z"
   },
   {
    "duration": 31,
    "start_time": "2022-09-04T11:38:12.620Z"
   },
   {
    "duration": 54,
    "start_time": "2022-09-04T11:38:12.652Z"
   },
   {
    "duration": 132,
    "start_time": "2022-09-04T11:38:12.708Z"
   },
   {
    "duration": 5,
    "start_time": "2022-09-04T11:38:12.841Z"
   },
   {
    "duration": 157,
    "start_time": "2022-09-04T11:38:12.848Z"
   },
   {
    "duration": 139,
    "start_time": "2022-09-04T11:38:13.007Z"
   },
   {
    "duration": 154,
    "start_time": "2022-09-04T11:38:13.147Z"
   },
   {
    "duration": 237,
    "start_time": "2022-09-04T11:38:13.303Z"
   },
   {
    "duration": 148,
    "start_time": "2022-09-04T11:38:13.542Z"
   },
   {
    "duration": 5,
    "start_time": "2022-09-04T11:38:13.692Z"
   },
   {
    "duration": 150,
    "start_time": "2022-09-04T11:38:13.699Z"
   },
   {
    "duration": 6,
    "start_time": "2022-09-04T11:38:13.851Z"
   },
   {
    "duration": 147,
    "start_time": "2022-09-04T11:38:13.859Z"
   },
   {
    "duration": 6,
    "start_time": "2022-09-04T11:38:14.008Z"
   },
   {
    "duration": 22,
    "start_time": "2022-09-04T11:38:14.016Z"
   },
   {
    "duration": 174,
    "start_time": "2022-09-04T11:38:14.040Z"
   },
   {
    "duration": 3,
    "start_time": "2022-09-04T11:38:14.216Z"
   },
   {
    "duration": 5189,
    "start_time": "2022-09-04T11:38:14.221Z"
   },
   {
    "duration": 360,
    "start_time": "2022-09-04T11:38:19.412Z"
   },
   {
    "duration": 115,
    "start_time": "2022-09-04T11:38:19.774Z"
   },
   {
    "duration": 89,
    "start_time": "2022-09-04T11:38:19.890Z"
   },
   {
    "duration": 168,
    "start_time": "2022-09-04T11:39:51.612Z"
   },
   {
    "duration": 12,
    "start_time": "2022-09-04T12:06:00.418Z"
   },
   {
    "duration": 4714,
    "start_time": "2022-09-04T12:06:06.316Z"
   },
   {
    "duration": 10,
    "start_time": "2022-09-04T12:06:11.032Z"
   },
   {
    "duration": 9,
    "start_time": "2022-09-04T12:06:11.044Z"
   },
   {
    "duration": 503,
    "start_time": "2022-09-04T12:06:11.088Z"
   },
   {
    "duration": 536,
    "start_time": "2022-09-04T12:06:11.594Z"
   },
   {
    "duration": 103,
    "start_time": "2022-09-04T12:06:12.186Z"
   },
   {
    "duration": 7,
    "start_time": "2022-09-04T12:06:12.291Z"
   },
   {
    "duration": 21,
    "start_time": "2022-09-04T12:06:12.300Z"
   },
   {
    "duration": 4,
    "start_time": "2022-09-04T12:06:12.323Z"
   },
   {
    "duration": 12,
    "start_time": "2022-09-04T12:06:12.331Z"
   },
   {
    "duration": 94,
    "start_time": "2022-09-04T12:06:12.344Z"
   },
   {
    "duration": 57,
    "start_time": "2022-09-04T12:06:12.441Z"
   },
   {
    "duration": 15,
    "start_time": "2022-09-04T12:06:12.500Z"
   },
   {
    "duration": 145,
    "start_time": "2022-09-04T12:06:12.517Z"
   },
   {
    "duration": 124,
    "start_time": "2022-09-04T12:06:12.663Z"
   },
   {
    "duration": 132,
    "start_time": "2022-09-04T12:06:12.789Z"
   },
   {
    "duration": 142,
    "start_time": "2022-09-04T12:06:12.922Z"
   },
   {
    "duration": 23,
    "start_time": "2022-09-04T12:06:13.066Z"
   },
   {
    "duration": 110,
    "start_time": "2022-09-04T12:06:13.091Z"
   },
   {
    "duration": 0,
    "start_time": "2022-09-04T12:06:13.205Z"
   },
   {
    "duration": 0,
    "start_time": "2022-09-04T12:06:13.206Z"
   },
   {
    "duration": 0,
    "start_time": "2022-09-04T12:06:13.208Z"
   },
   {
    "duration": 0,
    "start_time": "2022-09-04T12:06:13.209Z"
   },
   {
    "duration": 0,
    "start_time": "2022-09-04T12:06:13.210Z"
   },
   {
    "duration": 1,
    "start_time": "2022-09-04T12:06:13.211Z"
   },
   {
    "duration": 0,
    "start_time": "2022-09-04T12:06:13.212Z"
   },
   {
    "duration": 0,
    "start_time": "2022-09-04T12:06:13.214Z"
   },
   {
    "duration": 0,
    "start_time": "2022-09-04T12:06:13.215Z"
   },
   {
    "duration": 0,
    "start_time": "2022-09-04T12:06:13.216Z"
   },
   {
    "duration": 0,
    "start_time": "2022-09-04T12:06:13.217Z"
   },
   {
    "duration": 0,
    "start_time": "2022-09-04T12:06:13.218Z"
   },
   {
    "duration": 0,
    "start_time": "2022-09-04T12:06:13.219Z"
   },
   {
    "duration": 0,
    "start_time": "2022-09-04T12:06:13.221Z"
   },
   {
    "duration": 0,
    "start_time": "2022-09-04T12:06:13.222Z"
   },
   {
    "duration": 0,
    "start_time": "2022-09-04T12:06:13.224Z"
   },
   {
    "duration": 0,
    "start_time": "2022-09-04T12:06:13.226Z"
   },
   {
    "duration": 0,
    "start_time": "2022-09-04T12:06:13.227Z"
   },
   {
    "duration": 0,
    "start_time": "2022-09-04T12:06:13.229Z"
   },
   {
    "duration": 0,
    "start_time": "2022-09-04T12:06:13.231Z"
   },
   {
    "duration": 0,
    "start_time": "2022-09-04T12:06:13.232Z"
   },
   {
    "duration": 0,
    "start_time": "2022-09-04T12:06:13.233Z"
   },
   {
    "duration": 0,
    "start_time": "2022-09-04T12:06:13.287Z"
   },
   {
    "duration": 0,
    "start_time": "2022-09-04T12:06:13.289Z"
   },
   {
    "duration": 0,
    "start_time": "2022-09-04T12:06:13.290Z"
   },
   {
    "duration": 0,
    "start_time": "2022-09-04T12:06:13.291Z"
   },
   {
    "duration": 0,
    "start_time": "2022-09-04T12:06:13.292Z"
   },
   {
    "duration": 0,
    "start_time": "2022-09-04T12:06:13.293Z"
   },
   {
    "duration": 0,
    "start_time": "2022-09-04T12:06:13.294Z"
   },
   {
    "duration": 0,
    "start_time": "2022-09-04T12:06:13.295Z"
   },
   {
    "duration": 0,
    "start_time": "2022-09-04T12:06:13.296Z"
   },
   {
    "duration": 0,
    "start_time": "2022-09-04T12:06:13.297Z"
   },
   {
    "duration": 0,
    "start_time": "2022-09-04T12:06:13.298Z"
   },
   {
    "duration": 0,
    "start_time": "2022-09-04T12:06:13.299Z"
   },
   {
    "duration": 0,
    "start_time": "2022-09-04T12:06:13.300Z"
   },
   {
    "duration": 0,
    "start_time": "2022-09-04T12:06:13.301Z"
   },
   {
    "duration": 0,
    "start_time": "2022-09-04T12:06:13.302Z"
   },
   {
    "duration": 0,
    "start_time": "2022-09-04T12:06:13.303Z"
   },
   {
    "duration": 0,
    "start_time": "2022-09-04T12:06:13.305Z"
   },
   {
    "duration": 0,
    "start_time": "2022-09-04T12:06:13.306Z"
   },
   {
    "duration": 0,
    "start_time": "2022-09-04T12:06:13.308Z"
   },
   {
    "duration": 0,
    "start_time": "2022-09-04T12:06:13.309Z"
   },
   {
    "duration": 0,
    "start_time": "2022-09-04T12:06:13.310Z"
   },
   {
    "duration": 3949,
    "start_time": "2022-09-04T12:06:57.498Z"
   },
   {
    "duration": 39,
    "start_time": "2022-09-04T12:07:01.449Z"
   },
   {
    "duration": 4,
    "start_time": "2022-09-04T12:07:01.490Z"
   },
   {
    "duration": 596,
    "start_time": "2022-09-04T12:07:01.496Z"
   },
   {
    "duration": 435,
    "start_time": "2022-09-04T12:07:02.094Z"
   },
   {
    "duration": 175,
    "start_time": "2022-09-04T12:07:02.531Z"
   },
   {
    "duration": 9,
    "start_time": "2022-09-04T12:07:02.708Z"
   },
   {
    "duration": 68,
    "start_time": "2022-09-04T12:07:02.718Z"
   },
   {
    "duration": 4,
    "start_time": "2022-09-04T12:07:02.789Z"
   },
   {
    "duration": 9,
    "start_time": "2022-09-04T12:07:02.797Z"
   },
   {
    "duration": 187,
    "start_time": "2022-09-04T12:07:02.808Z"
   },
   {
    "duration": 110,
    "start_time": "2022-09-04T12:07:02.996Z"
   },
   {
    "duration": 14,
    "start_time": "2022-09-04T12:07:03.108Z"
   },
   {
    "duration": 296,
    "start_time": "2022-09-04T12:07:03.124Z"
   },
   {
    "duration": 298,
    "start_time": "2022-09-04T12:07:03.422Z"
   },
   {
    "duration": 307,
    "start_time": "2022-09-04T12:07:03.721Z"
   },
   {
    "duration": 292,
    "start_time": "2022-09-04T12:07:04.030Z"
   },
   {
    "duration": 63,
    "start_time": "2022-09-04T12:07:04.324Z"
   },
   {
    "duration": 26,
    "start_time": "2022-09-04T12:07:04.389Z"
   },
   {
    "duration": 5,
    "start_time": "2022-09-04T12:07:04.416Z"
   },
   {
    "duration": 15,
    "start_time": "2022-09-04T12:07:04.422Z"
   },
   {
    "duration": 288,
    "start_time": "2022-09-04T12:07:04.438Z"
   },
   {
    "duration": 5,
    "start_time": "2022-09-04T12:07:04.728Z"
   },
   {
    "duration": 4,
    "start_time": "2022-09-04T12:07:04.787Z"
   },
   {
    "duration": 556,
    "start_time": "2022-09-04T12:07:04.793Z"
   },
   {
    "duration": 429,
    "start_time": "2022-09-04T12:07:05.351Z"
   },
   {
    "duration": 422,
    "start_time": "2022-09-04T12:07:05.787Z"
   },
   {
    "duration": 704,
    "start_time": "2022-09-04T12:07:06.215Z"
   },
   {
    "duration": 466,
    "start_time": "2022-09-04T12:07:06.921Z"
   },
   {
    "duration": 426,
    "start_time": "2022-09-04T12:07:07.389Z"
   },
   {
    "duration": 336,
    "start_time": "2022-09-04T12:07:07.817Z"
   },
   {
    "duration": 136,
    "start_time": "2022-09-04T12:07:08.155Z"
   },
   {
    "duration": 199,
    "start_time": "2022-09-04T12:07:08.293Z"
   },
   {
    "duration": 209,
    "start_time": "2022-09-04T12:07:08.494Z"
   },
   {
    "duration": 333,
    "start_time": "2022-09-04T12:07:08.704Z"
   },
   {
    "duration": 224,
    "start_time": "2022-09-04T12:07:09.039Z"
   },
   {
    "duration": 220,
    "start_time": "2022-09-04T12:07:09.264Z"
   },
   {
    "duration": 246,
    "start_time": "2022-09-04T12:07:09.486Z"
   },
   {
    "duration": 235,
    "start_time": "2022-09-04T12:07:09.734Z"
   },
   {
    "duration": 97,
    "start_time": "2022-09-04T12:07:09.970Z"
   },
   {
    "duration": 53,
    "start_time": "2022-09-04T12:07:10.070Z"
   },
   {
    "duration": 62,
    "start_time": "2022-09-04T12:07:10.125Z"
   },
   {
    "duration": 165,
    "start_time": "2022-09-04T12:07:10.189Z"
   },
   {
    "duration": 5,
    "start_time": "2022-09-04T12:07:10.356Z"
   },
   {
    "duration": 165,
    "start_time": "2022-09-04T12:07:10.363Z"
   },
   {
    "duration": 157,
    "start_time": "2022-09-04T12:07:10.530Z"
   },
   {
    "duration": 166,
    "start_time": "2022-09-04T12:07:10.688Z"
   },
   {
    "duration": 242,
    "start_time": "2022-09-04T12:07:10.856Z"
   },
   {
    "duration": 163,
    "start_time": "2022-09-04T12:07:11.100Z"
   },
   {
    "duration": 5,
    "start_time": "2022-09-04T12:07:11.264Z"
   },
   {
    "duration": 165,
    "start_time": "2022-09-04T12:07:11.270Z"
   },
   {
    "duration": 5,
    "start_time": "2022-09-04T12:07:11.436Z"
   },
   {
    "duration": 196,
    "start_time": "2022-09-04T12:07:11.443Z"
   },
   {
    "duration": 4,
    "start_time": "2022-09-04T12:07:11.641Z"
   },
   {
    "duration": 35,
    "start_time": "2022-09-04T12:07:11.646Z"
   },
   {
    "duration": 167,
    "start_time": "2022-09-04T12:07:11.682Z"
   },
   {
    "duration": 3,
    "start_time": "2022-09-04T12:07:11.850Z"
   },
   {
    "duration": 6194,
    "start_time": "2022-09-04T12:07:11.854Z"
   },
   {
    "duration": 383,
    "start_time": "2022-09-04T12:07:18.050Z"
   },
   {
    "duration": 116,
    "start_time": "2022-09-04T12:07:18.435Z"
   },
   {
    "duration": 95,
    "start_time": "2022-09-04T12:07:18.553Z"
   },
   {
    "duration": 15,
    "start_time": "2022-09-04T12:10:08.950Z"
   },
   {
    "duration": 4517,
    "start_time": "2022-09-04T12:10:14.917Z"
   },
   {
    "duration": 10,
    "start_time": "2022-09-04T12:10:19.436Z"
   },
   {
    "duration": 4,
    "start_time": "2022-09-04T12:10:19.448Z"
   },
   {
    "duration": 277,
    "start_time": "2022-09-04T12:10:19.454Z"
   },
   {
    "duration": 216,
    "start_time": "2022-09-04T12:10:19.732Z"
   },
   {
    "duration": 51,
    "start_time": "2022-09-04T12:10:19.950Z"
   },
   {
    "duration": 7,
    "start_time": "2022-09-04T12:10:20.002Z"
   },
   {
    "duration": 17,
    "start_time": "2022-09-04T12:10:20.011Z"
   },
   {
    "duration": 4,
    "start_time": "2022-09-04T12:10:20.030Z"
   },
   {
    "duration": 23,
    "start_time": "2022-09-04T12:10:20.038Z"
   },
   {
    "duration": 90,
    "start_time": "2022-09-04T12:10:20.063Z"
   },
   {
    "duration": 63,
    "start_time": "2022-09-04T12:10:20.155Z"
   },
   {
    "duration": 15,
    "start_time": "2022-09-04T12:10:20.220Z"
   },
   {
    "duration": 146,
    "start_time": "2022-09-04T12:10:20.236Z"
   },
   {
    "duration": 128,
    "start_time": "2022-09-04T12:10:20.384Z"
   },
   {
    "duration": 124,
    "start_time": "2022-09-04T12:10:20.514Z"
   },
   {
    "duration": 133,
    "start_time": "2022-09-04T12:10:20.640Z"
   },
   {
    "duration": 18,
    "start_time": "2022-09-04T12:10:20.775Z"
   },
   {
    "duration": 21,
    "start_time": "2022-09-04T12:10:20.795Z"
   },
   {
    "duration": 4,
    "start_time": "2022-09-04T12:10:20.817Z"
   },
   {
    "duration": 12,
    "start_time": "2022-09-04T12:10:20.822Z"
   },
   {
    "duration": 124,
    "start_time": "2022-09-04T12:10:20.835Z"
   },
   {
    "duration": 5,
    "start_time": "2022-09-04T12:10:20.961Z"
   },
   {
    "duration": 8,
    "start_time": "2022-09-04T12:10:20.967Z"
   },
   {
    "duration": 295,
    "start_time": "2022-09-04T12:10:20.976Z"
   },
   {
    "duration": 436,
    "start_time": "2022-09-04T12:10:21.273Z"
   },
   {
    "duration": 216,
    "start_time": "2022-09-04T12:10:21.711Z"
   },
   {
    "duration": 301,
    "start_time": "2022-09-04T12:10:21.930Z"
   },
   {
    "duration": 199,
    "start_time": "2022-09-04T12:10:22.233Z"
   },
   {
    "duration": 223,
    "start_time": "2022-09-04T12:10:22.433Z"
   },
   {
    "duration": 199,
    "start_time": "2022-09-04T12:10:22.658Z"
   },
   {
    "duration": 119,
    "start_time": "2022-09-04T12:10:22.858Z"
   },
   {
    "duration": 215,
    "start_time": "2022-09-04T12:10:22.978Z"
   },
   {
    "duration": 201,
    "start_time": "2022-09-04T12:10:23.195Z"
   },
   {
    "duration": 310,
    "start_time": "2022-09-04T12:10:23.398Z"
   },
   {
    "duration": 223,
    "start_time": "2022-09-04T12:10:23.709Z"
   },
   {
    "duration": 217,
    "start_time": "2022-09-04T12:10:23.933Z"
   },
   {
    "duration": 240,
    "start_time": "2022-09-04T12:10:24.152Z"
   },
   {
    "duration": 222,
    "start_time": "2022-09-04T12:10:24.393Z"
   },
   {
    "duration": 81,
    "start_time": "2022-09-04T12:10:24.617Z"
   },
   {
    "duration": 34,
    "start_time": "2022-09-04T12:10:24.700Z"
   },
   {
    "duration": 58,
    "start_time": "2022-09-04T12:10:24.736Z"
   },
   {
    "duration": 133,
    "start_time": "2022-09-04T12:10:24.802Z"
   },
   {
    "duration": 4,
    "start_time": "2022-09-04T12:10:24.937Z"
   },
   {
    "duration": 169,
    "start_time": "2022-09-04T12:10:24.943Z"
   },
   {
    "duration": 144,
    "start_time": "2022-09-04T12:10:25.114Z"
   },
   {
    "duration": 150,
    "start_time": "2022-09-04T12:10:25.260Z"
   },
   {
    "duration": 250,
    "start_time": "2022-09-04T12:10:25.412Z"
   },
   {
    "duration": 150,
    "start_time": "2022-09-04T12:10:25.664Z"
   },
   {
    "duration": 4,
    "start_time": "2022-09-04T12:10:25.816Z"
   },
   {
    "duration": 156,
    "start_time": "2022-09-04T12:10:25.822Z"
   },
   {
    "duration": 19,
    "start_time": "2022-09-04T12:10:25.979Z"
   },
   {
    "duration": 160,
    "start_time": "2022-09-04T12:10:26.000Z"
   },
   {
    "duration": 5,
    "start_time": "2022-09-04T12:10:26.161Z"
   },
   {
    "duration": 35,
    "start_time": "2022-09-04T12:10:26.167Z"
   },
   {
    "duration": 225,
    "start_time": "2022-09-04T12:10:26.204Z"
   },
   {
    "duration": 4,
    "start_time": "2022-09-04T12:10:26.431Z"
   },
   {
    "duration": 4822,
    "start_time": "2022-09-04T12:10:26.437Z"
   },
   {
    "duration": 377,
    "start_time": "2022-09-04T12:10:31.260Z"
   },
   {
    "duration": 129,
    "start_time": "2022-09-04T12:10:31.638Z"
   },
   {
    "duration": 98,
    "start_time": "2022-09-04T12:10:31.768Z"
   },
   {
    "duration": 4542,
    "start_time": "2022-09-04T12:12:01.312Z"
   },
   {
    "duration": 13,
    "start_time": "2022-09-04T12:12:05.857Z"
   },
   {
    "duration": 5,
    "start_time": "2022-09-04T12:12:05.872Z"
   },
   {
    "duration": 250,
    "start_time": "2022-09-04T12:12:05.879Z"
   },
   {
    "duration": 273,
    "start_time": "2022-09-04T12:12:06.131Z"
   },
   {
    "duration": 62,
    "start_time": "2022-09-04T12:12:06.407Z"
   },
   {
    "duration": 16,
    "start_time": "2022-09-04T12:12:06.471Z"
   },
   {
    "duration": 46,
    "start_time": "2022-09-04T12:12:06.489Z"
   },
   {
    "duration": 3,
    "start_time": "2022-09-04T12:12:06.538Z"
   },
   {
    "duration": 7,
    "start_time": "2022-09-04T12:12:06.545Z"
   },
   {
    "duration": 86,
    "start_time": "2022-09-04T12:12:06.554Z"
   },
   {
    "duration": 55,
    "start_time": "2022-09-04T12:12:06.642Z"
   },
   {
    "duration": 17,
    "start_time": "2022-09-04T12:12:06.705Z"
   },
   {
    "duration": 140,
    "start_time": "2022-09-04T12:12:06.723Z"
   },
   {
    "duration": 131,
    "start_time": "2022-09-04T12:12:06.865Z"
   },
   {
    "duration": 130,
    "start_time": "2022-09-04T12:12:06.998Z"
   },
   {
    "duration": 143,
    "start_time": "2022-09-04T12:12:07.130Z"
   },
   {
    "duration": 29,
    "start_time": "2022-09-04T12:12:07.275Z"
   },
   {
    "duration": 16,
    "start_time": "2022-09-04T12:12:07.306Z"
   },
   {
    "duration": 4,
    "start_time": "2022-09-04T12:12:07.324Z"
   },
   {
    "duration": 12,
    "start_time": "2022-09-04T12:12:07.329Z"
   },
   {
    "duration": 128,
    "start_time": "2022-09-04T12:12:07.343Z"
   },
   {
    "duration": 4,
    "start_time": "2022-09-04T12:12:07.473Z"
   },
   {
    "duration": 8,
    "start_time": "2022-09-04T12:12:07.479Z"
   },
   {
    "duration": 344,
    "start_time": "2022-09-04T12:12:07.489Z"
   },
   {
    "duration": 438,
    "start_time": "2022-09-04T12:12:07.835Z"
   },
   {
    "duration": 227,
    "start_time": "2022-09-04T12:12:08.276Z"
   },
   {
    "duration": 291,
    "start_time": "2022-09-04T12:12:08.507Z"
   },
   {
    "duration": 199,
    "start_time": "2022-09-04T12:12:08.800Z"
   },
   {
    "duration": 225,
    "start_time": "2022-09-04T12:12:09.001Z"
   },
   {
    "duration": 222,
    "start_time": "2022-09-04T12:12:09.228Z"
   },
   {
    "duration": 148,
    "start_time": "2022-09-04T12:12:09.452Z"
   },
   {
    "duration": 208,
    "start_time": "2022-09-04T12:12:09.602Z"
   },
   {
    "duration": 220,
    "start_time": "2022-09-04T12:12:09.812Z"
   },
   {
    "duration": 345,
    "start_time": "2022-09-04T12:12:10.034Z"
   },
   {
    "duration": 246,
    "start_time": "2022-09-04T12:12:10.386Z"
   },
   {
    "duration": 243,
    "start_time": "2022-09-04T12:12:10.634Z"
   },
   {
    "duration": 264,
    "start_time": "2022-09-04T12:12:10.879Z"
   },
   {
    "duration": 235,
    "start_time": "2022-09-04T12:12:11.145Z"
   },
   {
    "duration": 82,
    "start_time": "2022-09-04T12:12:11.382Z"
   },
   {
    "duration": 57,
    "start_time": "2022-09-04T12:12:11.465Z"
   },
   {
    "duration": 44,
    "start_time": "2022-09-04T12:12:11.523Z"
   },
   {
    "duration": 154,
    "start_time": "2022-09-04T12:12:11.569Z"
   },
   {
    "duration": 5,
    "start_time": "2022-09-04T12:12:11.724Z"
   },
   {
    "duration": 165,
    "start_time": "2022-09-04T12:12:11.730Z"
   },
   {
    "duration": 152,
    "start_time": "2022-09-04T12:12:11.897Z"
   },
   {
    "duration": 159,
    "start_time": "2022-09-04T12:12:12.050Z"
   },
   {
    "duration": 248,
    "start_time": "2022-09-04T12:12:12.210Z"
   },
   {
    "duration": 164,
    "start_time": "2022-09-04T12:12:12.459Z"
   },
   {
    "duration": 5,
    "start_time": "2022-09-04T12:12:12.625Z"
   },
   {
    "duration": 173,
    "start_time": "2022-09-04T12:12:12.631Z"
   },
   {
    "duration": 6,
    "start_time": "2022-09-04T12:12:12.806Z"
   },
   {
    "duration": 171,
    "start_time": "2022-09-04T12:12:12.813Z"
   },
   {
    "duration": 13,
    "start_time": "2022-09-04T12:12:12.986Z"
   },
   {
    "duration": 24,
    "start_time": "2022-09-04T12:12:13.002Z"
   },
   {
    "duration": 183,
    "start_time": "2022-09-04T12:12:13.028Z"
   },
   {
    "duration": 3,
    "start_time": "2022-09-04T12:12:13.212Z"
   },
   {
    "duration": 6196,
    "start_time": "2022-09-04T12:12:13.217Z"
   },
   {
    "duration": 395,
    "start_time": "2022-09-04T12:12:19.415Z"
   },
   {
    "duration": 121,
    "start_time": "2022-09-04T12:12:19.812Z"
   },
   {
    "duration": 102,
    "start_time": "2022-09-04T12:12:19.934Z"
   },
   {
    "duration": 3692,
    "start_time": "2022-09-04T12:12:55.734Z"
   },
   {
    "duration": 9,
    "start_time": "2022-09-04T12:12:59.428Z"
   },
   {
    "duration": 10,
    "start_time": "2022-09-04T12:12:59.439Z"
   },
   {
    "duration": 476,
    "start_time": "2022-09-04T12:12:59.451Z"
   },
   {
    "duration": 472,
    "start_time": "2022-09-04T12:12:59.929Z"
   },
   {
    "duration": 95,
    "start_time": "2022-09-04T12:13:00.403Z"
   },
   {
    "duration": 9,
    "start_time": "2022-09-04T12:13:00.499Z"
   },
   {
    "duration": 27,
    "start_time": "2022-09-04T12:13:00.510Z"
   },
   {
    "duration": 8,
    "start_time": "2022-09-04T12:13:00.539Z"
   },
   {
    "duration": 11,
    "start_time": "2022-09-04T12:13:00.550Z"
   },
   {
    "duration": 91,
    "start_time": "2022-09-04T12:13:00.562Z"
   },
   {
    "duration": 65,
    "start_time": "2022-09-04T12:13:00.655Z"
   },
   {
    "duration": 15,
    "start_time": "2022-09-04T12:13:00.722Z"
   },
   {
    "duration": 140,
    "start_time": "2022-09-04T12:13:00.739Z"
   },
   {
    "duration": 124,
    "start_time": "2022-09-04T12:13:00.881Z"
   },
   {
    "duration": 127,
    "start_time": "2022-09-04T12:13:01.006Z"
   },
   {
    "duration": 140,
    "start_time": "2022-09-04T12:13:01.135Z"
   },
   {
    "duration": 29,
    "start_time": "2022-09-04T12:13:01.277Z"
   },
   {
    "duration": 27,
    "start_time": "2022-09-04T12:13:01.308Z"
   },
   {
    "duration": 22,
    "start_time": "2022-09-04T12:13:01.337Z"
   },
   {
    "duration": 17,
    "start_time": "2022-09-04T12:13:01.361Z"
   },
   {
    "duration": 140,
    "start_time": "2022-09-04T12:13:01.379Z"
   },
   {
    "duration": 5,
    "start_time": "2022-09-04T12:13:01.521Z"
   },
   {
    "duration": 34,
    "start_time": "2022-09-04T12:13:01.528Z"
   },
   {
    "duration": 314,
    "start_time": "2022-09-04T12:13:01.563Z"
   },
   {
    "duration": 424,
    "start_time": "2022-09-04T12:13:01.879Z"
   },
   {
    "duration": 216,
    "start_time": "2022-09-04T12:13:02.305Z"
   },
   {
    "duration": 352,
    "start_time": "2022-09-04T12:13:02.527Z"
   },
   {
    "duration": 224,
    "start_time": "2022-09-04T12:13:02.881Z"
   },
   {
    "duration": 216,
    "start_time": "2022-09-04T12:13:03.107Z"
   },
   {
    "duration": 222,
    "start_time": "2022-09-04T12:13:03.325Z"
   },
   {
    "duration": 156,
    "start_time": "2022-09-04T12:13:03.549Z"
   },
   {
    "duration": 219,
    "start_time": "2022-09-04T12:13:03.707Z"
   },
   {
    "duration": 230,
    "start_time": "2022-09-04T12:13:03.928Z"
   },
   {
    "duration": 339,
    "start_time": "2022-09-04T12:13:04.160Z"
   },
   {
    "duration": 259,
    "start_time": "2022-09-04T12:13:04.502Z"
   },
   {
    "duration": 248,
    "start_time": "2022-09-04T12:13:04.764Z"
   },
   {
    "duration": 257,
    "start_time": "2022-09-04T12:13:05.015Z"
   },
   {
    "duration": 241,
    "start_time": "2022-09-04T12:13:05.274Z"
   },
   {
    "duration": 86,
    "start_time": "2022-09-04T12:13:05.517Z"
   },
   {
    "duration": 37,
    "start_time": "2022-09-04T12:13:05.604Z"
   },
   {
    "duration": 62,
    "start_time": "2022-09-04T12:13:05.643Z"
   },
   {
    "duration": 141,
    "start_time": "2022-09-04T12:13:05.706Z"
   },
   {
    "duration": 5,
    "start_time": "2022-09-04T12:13:05.849Z"
   },
   {
    "duration": 178,
    "start_time": "2022-09-04T12:13:05.856Z"
   },
   {
    "duration": 146,
    "start_time": "2022-09-04T12:13:06.036Z"
   },
   {
    "duration": 182,
    "start_time": "2022-09-04T12:13:06.190Z"
   },
   {
    "duration": 282,
    "start_time": "2022-09-04T12:13:06.374Z"
   },
   {
    "duration": 173,
    "start_time": "2022-09-04T12:13:06.657Z"
   },
   {
    "duration": 5,
    "start_time": "2022-09-04T12:13:06.833Z"
   },
   {
    "duration": 175,
    "start_time": "2022-09-04T12:13:06.840Z"
   },
   {
    "duration": 5,
    "start_time": "2022-09-04T12:13:07.017Z"
   },
   {
    "duration": 175,
    "start_time": "2022-09-04T12:13:07.024Z"
   },
   {
    "duration": 5,
    "start_time": "2022-09-04T12:13:07.201Z"
   },
   {
    "duration": 23,
    "start_time": "2022-09-04T12:13:07.207Z"
   },
   {
    "duration": 186,
    "start_time": "2022-09-04T12:13:07.232Z"
   },
   {
    "duration": 3,
    "start_time": "2022-09-04T12:13:07.420Z"
   },
   {
    "duration": 4930,
    "start_time": "2022-09-04T12:13:07.424Z"
   },
   {
    "duration": 390,
    "start_time": "2022-09-04T12:13:12.356Z"
   },
   {
    "duration": 122,
    "start_time": "2022-09-04T12:13:12.748Z"
   },
   {
    "duration": 127,
    "start_time": "2022-09-04T12:13:12.872Z"
   },
   {
    "duration": 3983,
    "start_time": "2022-09-04T12:14:19.147Z"
   },
   {
    "duration": 9,
    "start_time": "2022-09-04T12:14:23.132Z"
   },
   {
    "duration": 10,
    "start_time": "2022-09-04T12:14:23.142Z"
   },
   {
    "duration": 386,
    "start_time": "2022-09-04T12:14:23.187Z"
   },
   {
    "duration": 199,
    "start_time": "2022-09-04T12:14:23.575Z"
   },
   {
    "duration": 54,
    "start_time": "2022-09-04T12:14:23.776Z"
   },
   {
    "duration": 7,
    "start_time": "2022-09-04T12:14:23.831Z"
   },
   {
    "duration": 15,
    "start_time": "2022-09-04T12:14:23.839Z"
   },
   {
    "duration": 3,
    "start_time": "2022-09-04T12:14:23.856Z"
   },
   {
    "duration": 12,
    "start_time": "2022-09-04T12:14:23.887Z"
   },
   {
    "duration": 79,
    "start_time": "2022-09-04T12:14:23.902Z"
   },
   {
    "duration": 58,
    "start_time": "2022-09-04T12:14:23.982Z"
   },
   {
    "duration": 14,
    "start_time": "2022-09-04T12:14:24.042Z"
   },
   {
    "duration": 138,
    "start_time": "2022-09-04T12:14:24.058Z"
   },
   {
    "duration": 112,
    "start_time": "2022-09-04T12:14:24.200Z"
   },
   {
    "duration": 130,
    "start_time": "2022-09-04T12:14:24.313Z"
   },
   {
    "duration": 132,
    "start_time": "2022-09-04T12:14:24.444Z"
   },
   {
    "duration": 25,
    "start_time": "2022-09-04T12:14:24.578Z"
   },
   {
    "duration": 16,
    "start_time": "2022-09-04T12:14:24.605Z"
   },
   {
    "duration": 3,
    "start_time": "2022-09-04T12:14:24.623Z"
   },
   {
    "duration": 18,
    "start_time": "2022-09-04T12:14:24.628Z"
   },
   {
    "duration": 88,
    "start_time": "2022-09-04T12:14:24.648Z"
   },
   {
    "duration": 5,
    "start_time": "2022-09-04T12:14:24.738Z"
   },
   {
    "duration": 8,
    "start_time": "2022-09-04T12:14:24.745Z"
   },
   {
    "duration": 307,
    "start_time": "2022-09-04T12:14:24.754Z"
   },
   {
    "duration": 426,
    "start_time": "2022-09-04T12:14:25.063Z"
   },
   {
    "duration": 218,
    "start_time": "2022-09-04T12:14:25.496Z"
   },
   {
    "duration": 333,
    "start_time": "2022-09-04T12:14:25.718Z"
   },
   {
    "duration": 199,
    "start_time": "2022-09-04T12:14:26.053Z"
   },
   {
    "duration": 266,
    "start_time": "2022-09-04T12:14:26.254Z"
   },
   {
    "duration": 222,
    "start_time": "2022-09-04T12:14:26.521Z"
   },
   {
    "duration": 150,
    "start_time": "2022-09-04T12:14:26.745Z"
   },
   {
    "duration": 219,
    "start_time": "2022-09-04T12:14:26.897Z"
   },
   {
    "duration": 212,
    "start_time": "2022-09-04T12:14:27.118Z"
   },
   {
    "duration": 327,
    "start_time": "2022-09-04T12:14:27.332Z"
   },
   {
    "duration": 229,
    "start_time": "2022-09-04T12:14:27.661Z"
   },
   {
    "duration": 226,
    "start_time": "2022-09-04T12:14:27.892Z"
   },
   {
    "duration": 494,
    "start_time": "2022-09-04T12:14:28.120Z"
   },
   {
    "duration": 511,
    "start_time": "2022-09-04T12:14:28.616Z"
   },
   {
    "duration": 181,
    "start_time": "2022-09-04T12:14:29.129Z"
   },
   {
    "duration": 90,
    "start_time": "2022-09-04T12:14:29.311Z"
   },
   {
    "duration": 103,
    "start_time": "2022-09-04T12:14:29.404Z"
   },
   {
    "duration": 293,
    "start_time": "2022-09-04T12:14:29.509Z"
   },
   {
    "duration": 4,
    "start_time": "2022-09-04T12:14:29.803Z"
   },
   {
    "duration": 325,
    "start_time": "2022-09-04T12:14:29.809Z"
   },
   {
    "duration": 170,
    "start_time": "2022-09-04T12:14:30.135Z"
   },
   {
    "duration": 148,
    "start_time": "2022-09-04T12:14:30.307Z"
   },
   {
    "duration": 248,
    "start_time": "2022-09-04T12:14:30.457Z"
   },
   {
    "duration": 139,
    "start_time": "2022-09-04T12:14:30.707Z"
   },
   {
    "duration": 4,
    "start_time": "2022-09-04T12:14:30.848Z"
   },
   {
    "duration": 165,
    "start_time": "2022-09-04T12:14:30.854Z"
   },
   {
    "duration": 5,
    "start_time": "2022-09-04T12:14:31.021Z"
   },
   {
    "duration": 152,
    "start_time": "2022-09-04T12:14:31.028Z"
   },
   {
    "duration": 17,
    "start_time": "2022-09-04T12:14:31.186Z"
   },
   {
    "duration": 20,
    "start_time": "2022-09-04T12:14:31.205Z"
   },
   {
    "duration": 145,
    "start_time": "2022-09-04T12:14:31.227Z"
   },
   {
    "duration": 3,
    "start_time": "2022-09-04T12:14:31.374Z"
   },
   {
    "duration": 4185,
    "start_time": "2022-09-04T12:14:31.388Z"
   },
   {
    "duration": 386,
    "start_time": "2022-09-04T12:14:35.575Z"
   },
   {
    "duration": 154,
    "start_time": "2022-09-04T12:14:35.963Z"
   },
   {
    "duration": 126,
    "start_time": "2022-09-04T12:14:36.119Z"
   },
   {
    "duration": 4157,
    "start_time": "2022-09-04T12:16:40.769Z"
   },
   {
    "duration": 9,
    "start_time": "2022-09-04T12:16:44.928Z"
   },
   {
    "duration": 5,
    "start_time": "2022-09-04T12:16:44.938Z"
   },
   {
    "duration": 237,
    "start_time": "2022-09-04T12:16:44.945Z"
   },
   {
    "duration": 205,
    "start_time": "2022-09-04T12:16:45.184Z"
   },
   {
    "duration": 44,
    "start_time": "2022-09-04T12:16:45.392Z"
   },
   {
    "duration": 9,
    "start_time": "2022-09-04T12:16:45.438Z"
   },
   {
    "duration": 13,
    "start_time": "2022-09-04T12:16:45.449Z"
   },
   {
    "duration": 3,
    "start_time": "2022-09-04T12:16:45.463Z"
   },
   {
    "duration": 16,
    "start_time": "2022-09-04T12:16:45.486Z"
   },
   {
    "duration": 72,
    "start_time": "2022-09-04T12:16:45.503Z"
   },
   {
    "duration": 57,
    "start_time": "2022-09-04T12:16:45.576Z"
   },
   {
    "duration": 14,
    "start_time": "2022-09-04T12:16:45.635Z"
   },
   {
    "duration": 141,
    "start_time": "2022-09-04T12:16:45.651Z"
   },
   {
    "duration": 103,
    "start_time": "2022-09-04T12:16:45.800Z"
   },
   {
    "duration": 135,
    "start_time": "2022-09-04T12:16:45.905Z"
   },
   {
    "duration": 138,
    "start_time": "2022-09-04T12:16:46.041Z"
   },
   {
    "duration": 1190,
    "start_time": "2022-09-04T12:16:46.181Z"
   },
   {
    "duration": 0,
    "start_time": "2022-09-04T12:16:47.374Z"
   },
   {
    "duration": 0,
    "start_time": "2022-09-04T12:16:47.375Z"
   },
   {
    "duration": 0,
    "start_time": "2022-09-04T12:16:47.376Z"
   },
   {
    "duration": 0,
    "start_time": "2022-09-04T12:16:47.377Z"
   },
   {
    "duration": 0,
    "start_time": "2022-09-04T12:16:47.378Z"
   },
   {
    "duration": 0,
    "start_time": "2022-09-04T12:16:47.379Z"
   },
   {
    "duration": 0,
    "start_time": "2022-09-04T12:16:47.380Z"
   },
   {
    "duration": 0,
    "start_time": "2022-09-04T12:16:47.381Z"
   },
   {
    "duration": 0,
    "start_time": "2022-09-04T12:16:47.382Z"
   },
   {
    "duration": 0,
    "start_time": "2022-09-04T12:16:47.383Z"
   },
   {
    "duration": 0,
    "start_time": "2022-09-04T12:16:47.384Z"
   },
   {
    "duration": 0,
    "start_time": "2022-09-04T12:16:47.386Z"
   },
   {
    "duration": 0,
    "start_time": "2022-09-04T12:16:47.386Z"
   },
   {
    "duration": 0,
    "start_time": "2022-09-04T12:16:47.387Z"
   },
   {
    "duration": 0,
    "start_time": "2022-09-04T12:16:47.387Z"
   },
   {
    "duration": 0,
    "start_time": "2022-09-04T12:16:47.391Z"
   },
   {
    "duration": 0,
    "start_time": "2022-09-04T12:16:47.397Z"
   },
   {
    "duration": 0,
    "start_time": "2022-09-04T12:16:47.402Z"
   },
   {
    "duration": 0,
    "start_time": "2022-09-04T12:16:47.406Z"
   },
   {
    "duration": 0,
    "start_time": "2022-09-04T12:16:47.407Z"
   },
   {
    "duration": 1,
    "start_time": "2022-09-04T12:16:47.407Z"
   },
   {
    "duration": 0,
    "start_time": "2022-09-04T12:16:47.408Z"
   },
   {
    "duration": 0,
    "start_time": "2022-09-04T12:16:47.409Z"
   },
   {
    "duration": 0,
    "start_time": "2022-09-04T12:16:47.410Z"
   },
   {
    "duration": 0,
    "start_time": "2022-09-04T12:16:47.411Z"
   },
   {
    "duration": 0,
    "start_time": "2022-09-04T12:16:47.412Z"
   },
   {
    "duration": 0,
    "start_time": "2022-09-04T12:16:47.413Z"
   },
   {
    "duration": 0,
    "start_time": "2022-09-04T12:16:47.414Z"
   },
   {
    "duration": 0,
    "start_time": "2022-09-04T12:16:47.415Z"
   },
   {
    "duration": 0,
    "start_time": "2022-09-04T12:16:47.416Z"
   },
   {
    "duration": 0,
    "start_time": "2022-09-04T12:16:47.417Z"
   },
   {
    "duration": 0,
    "start_time": "2022-09-04T12:16:47.418Z"
   },
   {
    "duration": 0,
    "start_time": "2022-09-04T12:16:47.419Z"
   },
   {
    "duration": 0,
    "start_time": "2022-09-04T12:16:47.420Z"
   },
   {
    "duration": 0,
    "start_time": "2022-09-04T12:16:47.421Z"
   },
   {
    "duration": 0,
    "start_time": "2022-09-04T12:16:47.422Z"
   },
   {
    "duration": 0,
    "start_time": "2022-09-04T12:16:47.422Z"
   },
   {
    "duration": 0,
    "start_time": "2022-09-04T12:16:47.423Z"
   },
   {
    "duration": 0,
    "start_time": "2022-09-04T12:16:47.424Z"
   },
   {
    "duration": 0,
    "start_time": "2022-09-04T12:16:47.426Z"
   },
   {
    "duration": 0,
    "start_time": "2022-09-04T12:16:47.426Z"
   },
   {
    "duration": 0,
    "start_time": "2022-09-04T12:16:47.427Z"
   },
   {
    "duration": 0,
    "start_time": "2022-09-04T12:16:47.428Z"
   },
   {
    "duration": 3593,
    "start_time": "2022-09-04T12:17:20.549Z"
   },
   {
    "duration": 52,
    "start_time": "2022-09-04T12:17:24.144Z"
   },
   {
    "duration": 13,
    "start_time": "2022-09-04T12:17:24.199Z"
   },
   {
    "duration": 492,
    "start_time": "2022-09-04T12:17:24.214Z"
   },
   {
    "duration": 415,
    "start_time": "2022-09-04T12:17:24.708Z"
   },
   {
    "duration": 104,
    "start_time": "2022-09-04T12:17:25.125Z"
   },
   {
    "duration": 6,
    "start_time": "2022-09-04T12:17:25.231Z"
   },
   {
    "duration": 68,
    "start_time": "2022-09-04T12:17:25.238Z"
   },
   {
    "duration": 3,
    "start_time": "2022-09-04T12:17:25.308Z"
   },
   {
    "duration": 7,
    "start_time": "2022-09-04T12:17:25.314Z"
   },
   {
    "duration": 84,
    "start_time": "2022-09-04T12:17:25.323Z"
   },
   {
    "duration": 49,
    "start_time": "2022-09-04T12:17:25.409Z"
   },
   {
    "duration": 33,
    "start_time": "2022-09-04T12:17:25.459Z"
   },
   {
    "duration": 122,
    "start_time": "2022-09-04T12:17:25.496Z"
   },
   {
    "duration": 110,
    "start_time": "2022-09-04T12:17:25.620Z"
   },
   {
    "duration": 124,
    "start_time": "2022-09-04T12:17:25.732Z"
   },
   {
    "duration": 137,
    "start_time": "2022-09-04T12:17:25.858Z"
   },
   {
    "duration": 23,
    "start_time": "2022-09-04T12:17:25.998Z"
   },
   {
    "duration": 18,
    "start_time": "2022-09-04T12:17:26.022Z"
   },
   {
    "duration": 4,
    "start_time": "2022-09-04T12:17:26.041Z"
   },
   {
    "duration": 14,
    "start_time": "2022-09-04T12:17:26.046Z"
   },
   {
    "duration": 84,
    "start_time": "2022-09-04T12:17:26.061Z"
   },
   {
    "duration": 5,
    "start_time": "2022-09-04T12:17:26.146Z"
   },
   {
    "duration": 9,
    "start_time": "2022-09-04T12:17:26.152Z"
   },
   {
    "duration": 376,
    "start_time": "2022-09-04T12:17:26.162Z"
   },
   {
    "duration": 427,
    "start_time": "2022-09-04T12:17:26.539Z"
   },
   {
    "duration": 217,
    "start_time": "2022-09-04T12:17:26.968Z"
   },
   {
    "duration": 307,
    "start_time": "2022-09-04T12:17:27.191Z"
   },
   {
    "duration": 197,
    "start_time": "2022-09-04T12:17:27.502Z"
   },
   {
    "duration": 205,
    "start_time": "2022-09-04T12:17:27.702Z"
   },
   {
    "duration": 212,
    "start_time": "2022-09-04T12:17:27.909Z"
   },
   {
    "duration": 137,
    "start_time": "2022-09-04T12:17:28.123Z"
   },
   {
    "duration": 206,
    "start_time": "2022-09-04T12:17:28.262Z"
   },
   {
    "duration": 227,
    "start_time": "2022-09-04T12:17:28.470Z"
   },
   {
    "duration": 293,
    "start_time": "2022-09-04T12:17:28.700Z"
   },
   {
    "duration": 213,
    "start_time": "2022-09-04T12:17:28.998Z"
   },
   {
    "duration": 201,
    "start_time": "2022-09-04T12:17:29.213Z"
   },
   {
    "duration": 237,
    "start_time": "2022-09-04T12:17:29.417Z"
   },
   {
    "duration": 218,
    "start_time": "2022-09-04T12:17:29.656Z"
   },
   {
    "duration": 74,
    "start_time": "2022-09-04T12:17:29.876Z"
   },
   {
    "duration": 49,
    "start_time": "2022-09-04T12:17:29.951Z"
   },
   {
    "duration": 43,
    "start_time": "2022-09-04T12:17:30.002Z"
   },
   {
    "duration": 138,
    "start_time": "2022-09-04T12:17:30.046Z"
   },
   {
    "duration": 7,
    "start_time": "2022-09-04T12:17:30.188Z"
   },
   {
    "duration": 160,
    "start_time": "2022-09-04T12:17:30.196Z"
   },
   {
    "duration": 143,
    "start_time": "2022-09-04T12:17:30.357Z"
   },
   {
    "duration": 140,
    "start_time": "2022-09-04T12:17:30.501Z"
   },
   {
    "duration": 236,
    "start_time": "2022-09-04T12:17:30.643Z"
   },
   {
    "duration": 167,
    "start_time": "2022-09-04T12:17:30.881Z"
   },
   {
    "duration": 4,
    "start_time": "2022-09-04T12:17:31.050Z"
   },
   {
    "duration": 154,
    "start_time": "2022-09-04T12:17:31.055Z"
   },
   {
    "duration": 4,
    "start_time": "2022-09-04T12:17:31.211Z"
   },
   {
    "duration": 146,
    "start_time": "2022-09-04T12:17:31.216Z"
   },
   {
    "duration": 4,
    "start_time": "2022-09-04T12:17:31.364Z"
   },
   {
    "duration": 36,
    "start_time": "2022-09-04T12:17:31.370Z"
   },
   {
    "duration": 161,
    "start_time": "2022-09-04T12:17:31.407Z"
   },
   {
    "duration": 2,
    "start_time": "2022-09-04T12:17:31.570Z"
   },
   {
    "duration": 4834,
    "start_time": "2022-09-04T12:17:31.574Z"
   },
   {
    "duration": 447,
    "start_time": "2022-09-04T12:17:36.410Z"
   },
   {
    "duration": 123,
    "start_time": "2022-09-04T12:17:36.859Z"
   },
   {
    "duration": 98,
    "start_time": "2022-09-04T12:17:36.983Z"
   },
   {
    "duration": 4146,
    "start_time": "2022-09-04T12:19:31.232Z"
   },
   {
    "duration": 12,
    "start_time": "2022-09-04T12:19:35.381Z"
   },
   {
    "duration": 11,
    "start_time": "2022-09-04T12:19:35.394Z"
   },
   {
    "duration": 232,
    "start_time": "2022-09-04T12:19:35.407Z"
   },
   {
    "duration": 201,
    "start_time": "2022-09-04T12:19:35.640Z"
   },
   {
    "duration": 55,
    "start_time": "2022-09-04T12:19:35.843Z"
   },
   {
    "duration": 6,
    "start_time": "2022-09-04T12:19:35.902Z"
   },
   {
    "duration": 13,
    "start_time": "2022-09-04T12:19:35.910Z"
   },
   {
    "duration": 3,
    "start_time": "2022-09-04T12:19:35.925Z"
   },
   {
    "duration": 10,
    "start_time": "2022-09-04T12:19:35.930Z"
   },
   {
    "duration": 98,
    "start_time": "2022-09-04T12:19:35.941Z"
   },
   {
    "duration": 61,
    "start_time": "2022-09-04T12:19:36.040Z"
   },
   {
    "duration": 13,
    "start_time": "2022-09-04T12:19:36.103Z"
   },
   {
    "duration": 150,
    "start_time": "2022-09-04T12:19:36.118Z"
   },
   {
    "duration": 138,
    "start_time": "2022-09-04T12:19:36.270Z"
   },
   {
    "duration": 142,
    "start_time": "2022-09-04T12:19:36.410Z"
   },
   {
    "duration": 152,
    "start_time": "2022-09-04T12:19:36.554Z"
   },
   {
    "duration": 1112,
    "start_time": "2022-09-04T12:19:36.708Z"
   },
   {
    "duration": 0,
    "start_time": "2022-09-04T12:19:37.823Z"
   },
   {
    "duration": 0,
    "start_time": "2022-09-04T12:19:37.824Z"
   },
   {
    "duration": 0,
    "start_time": "2022-09-04T12:19:37.825Z"
   },
   {
    "duration": 0,
    "start_time": "2022-09-04T12:19:37.826Z"
   },
   {
    "duration": 0,
    "start_time": "2022-09-04T12:19:37.827Z"
   },
   {
    "duration": 0,
    "start_time": "2022-09-04T12:19:37.828Z"
   },
   {
    "duration": 0,
    "start_time": "2022-09-04T12:19:37.829Z"
   },
   {
    "duration": 0,
    "start_time": "2022-09-04T12:19:37.830Z"
   },
   {
    "duration": 0,
    "start_time": "2022-09-04T12:19:37.831Z"
   },
   {
    "duration": 0,
    "start_time": "2022-09-04T12:19:37.832Z"
   },
   {
    "duration": 0,
    "start_time": "2022-09-04T12:19:37.833Z"
   },
   {
    "duration": 0,
    "start_time": "2022-09-04T12:19:37.834Z"
   },
   {
    "duration": 0,
    "start_time": "2022-09-04T12:19:37.835Z"
   },
   {
    "duration": 0,
    "start_time": "2022-09-04T12:19:37.836Z"
   },
   {
    "duration": 0,
    "start_time": "2022-09-04T12:19:37.837Z"
   },
   {
    "duration": 0,
    "start_time": "2022-09-04T12:19:37.838Z"
   },
   {
    "duration": 0,
    "start_time": "2022-09-04T12:19:37.839Z"
   },
   {
    "duration": 0,
    "start_time": "2022-09-04T12:19:37.841Z"
   },
   {
    "duration": 0,
    "start_time": "2022-09-04T12:19:37.841Z"
   },
   {
    "duration": 0,
    "start_time": "2022-09-04T12:19:37.842Z"
   },
   {
    "duration": 0,
    "start_time": "2022-09-04T12:19:37.843Z"
   },
   {
    "duration": 0,
    "start_time": "2022-09-04T12:19:37.844Z"
   },
   {
    "duration": 0,
    "start_time": "2022-09-04T12:19:37.845Z"
   },
   {
    "duration": 0,
    "start_time": "2022-09-04T12:19:37.846Z"
   },
   {
    "duration": 0,
    "start_time": "2022-09-04T12:19:37.847Z"
   },
   {
    "duration": 0,
    "start_time": "2022-09-04T12:19:37.848Z"
   },
   {
    "duration": 0,
    "start_time": "2022-09-04T12:19:37.849Z"
   },
   {
    "duration": 0,
    "start_time": "2022-09-04T12:19:37.850Z"
   },
   {
    "duration": 0,
    "start_time": "2022-09-04T12:19:37.851Z"
   },
   {
    "duration": 0,
    "start_time": "2022-09-04T12:19:37.852Z"
   },
   {
    "duration": 0,
    "start_time": "2022-09-04T12:19:37.853Z"
   },
   {
    "duration": 0,
    "start_time": "2022-09-04T12:19:37.854Z"
   },
   {
    "duration": 0,
    "start_time": "2022-09-04T12:19:37.855Z"
   },
   {
    "duration": 0,
    "start_time": "2022-09-04T12:19:37.856Z"
   },
   {
    "duration": 0,
    "start_time": "2022-09-04T12:19:37.858Z"
   },
   {
    "duration": 0,
    "start_time": "2022-09-04T12:19:37.886Z"
   },
   {
    "duration": 0,
    "start_time": "2022-09-04T12:19:37.895Z"
   },
   {
    "duration": 0,
    "start_time": "2022-09-04T12:19:37.896Z"
   },
   {
    "duration": 0,
    "start_time": "2022-09-04T12:19:37.897Z"
   },
   {
    "duration": 0,
    "start_time": "2022-09-04T12:19:37.898Z"
   },
   {
    "duration": 0,
    "start_time": "2022-09-04T12:19:37.899Z"
   },
   {
    "duration": 0,
    "start_time": "2022-09-04T12:19:37.900Z"
   },
   {
    "duration": 0,
    "start_time": "2022-09-04T12:19:37.900Z"
   },
   {
    "duration": 3153,
    "start_time": "2022-09-04T12:19:56.477Z"
   },
   {
    "duration": 9,
    "start_time": "2022-09-04T12:19:59.633Z"
   },
   {
    "duration": 7,
    "start_time": "2022-09-04T12:19:59.643Z"
   },
   {
    "duration": 230,
    "start_time": "2022-09-04T12:19:59.652Z"
   },
   {
    "duration": 229,
    "start_time": "2022-09-04T12:19:59.884Z"
   },
   {
    "duration": 41,
    "start_time": "2022-09-04T12:20:00.115Z"
   },
   {
    "duration": 7,
    "start_time": "2022-09-04T12:20:00.158Z"
   },
   {
    "duration": 38,
    "start_time": "2022-09-04T12:20:00.167Z"
   },
   {
    "duration": 24,
    "start_time": "2022-09-04T12:20:00.207Z"
   },
   {
    "duration": 10,
    "start_time": "2022-09-04T12:20:00.233Z"
   },
   {
    "duration": 82,
    "start_time": "2022-09-04T12:20:00.245Z"
   },
   {
    "duration": 50,
    "start_time": "2022-09-04T12:20:00.329Z"
   },
   {
    "duration": 22,
    "start_time": "2022-09-04T12:20:00.389Z"
   },
   {
    "duration": 126,
    "start_time": "2022-09-04T12:20:00.413Z"
   },
   {
    "duration": 119,
    "start_time": "2022-09-04T12:20:00.541Z"
   },
   {
    "duration": 136,
    "start_time": "2022-09-04T12:20:00.662Z"
   },
   {
    "duration": 131,
    "start_time": "2022-09-04T12:20:00.801Z"
   },
   {
    "duration": 16,
    "start_time": "2022-09-04T12:20:00.934Z"
   },
   {
    "duration": 52,
    "start_time": "2022-09-04T12:20:00.952Z"
   },
   {
    "duration": 25,
    "start_time": "2022-09-04T12:20:01.006Z"
   },
   {
    "duration": 27,
    "start_time": "2022-09-04T12:20:01.033Z"
   },
   {
    "duration": 78,
    "start_time": "2022-09-04T12:20:01.062Z"
   },
   {
    "duration": 5,
    "start_time": "2022-09-04T12:20:01.142Z"
   },
   {
    "duration": 25,
    "start_time": "2022-09-04T12:20:01.148Z"
   },
   {
    "duration": 336,
    "start_time": "2022-09-04T12:20:01.175Z"
   },
   {
    "duration": 435,
    "start_time": "2022-09-04T12:20:01.512Z"
   },
   {
    "duration": 219,
    "start_time": "2022-09-04T12:20:01.949Z"
   },
   {
    "duration": 324,
    "start_time": "2022-09-04T12:20:02.169Z"
   },
   {
    "duration": 195,
    "start_time": "2022-09-04T12:20:02.496Z"
   },
   {
    "duration": 224,
    "start_time": "2022-09-04T12:20:02.698Z"
   },
   {
    "duration": 214,
    "start_time": "2022-09-04T12:20:02.923Z"
   },
   {
    "duration": 132,
    "start_time": "2022-09-04T12:20:03.138Z"
   },
   {
    "duration": 225,
    "start_time": "2022-09-04T12:20:03.272Z"
   },
   {
    "duration": 212,
    "start_time": "2022-09-04T12:20:03.499Z"
   },
   {
    "duration": 338,
    "start_time": "2022-09-04T12:20:03.713Z"
   },
   {
    "duration": 226,
    "start_time": "2022-09-04T12:20:04.053Z"
   },
   {
    "duration": 227,
    "start_time": "2022-09-04T12:20:04.281Z"
   },
   {
    "duration": 264,
    "start_time": "2022-09-04T12:20:04.510Z"
   },
   {
    "duration": 234,
    "start_time": "2022-09-04T12:20:04.776Z"
   },
   {
    "duration": 65,
    "start_time": "2022-09-04T12:20:05.011Z"
   },
   {
    "duration": 43,
    "start_time": "2022-09-04T12:20:05.080Z"
   },
   {
    "duration": 35,
    "start_time": "2022-09-04T12:20:05.125Z"
   },
   {
    "duration": 159,
    "start_time": "2022-09-04T12:20:05.162Z"
   },
   {
    "duration": 5,
    "start_time": "2022-09-04T12:20:05.322Z"
   },
   {
    "duration": 163,
    "start_time": "2022-09-04T12:20:05.329Z"
   },
   {
    "duration": 135,
    "start_time": "2022-09-04T12:20:05.501Z"
   },
   {
    "duration": 166,
    "start_time": "2022-09-04T12:20:05.638Z"
   },
   {
    "duration": 248,
    "start_time": "2022-09-04T12:20:05.806Z"
   },
   {
    "duration": 160,
    "start_time": "2022-09-04T12:20:06.055Z"
   },
   {
    "duration": 5,
    "start_time": "2022-09-04T12:20:06.217Z"
   },
   {
    "duration": 196,
    "start_time": "2022-09-04T12:20:06.223Z"
   },
   {
    "duration": 5,
    "start_time": "2022-09-04T12:20:06.422Z"
   },
   {
    "duration": 191,
    "start_time": "2022-09-04T12:20:06.429Z"
   },
   {
    "duration": 4,
    "start_time": "2022-09-04T12:20:06.621Z"
   },
   {
    "duration": 22,
    "start_time": "2022-09-04T12:20:06.627Z"
   },
   {
    "duration": 174,
    "start_time": "2022-09-04T12:20:06.651Z"
   },
   {
    "duration": 2,
    "start_time": "2022-09-04T12:20:06.827Z"
   },
   {
    "duration": 4729,
    "start_time": "2022-09-04T12:20:06.831Z"
   },
   {
    "duration": 397,
    "start_time": "2022-09-04T12:20:11.563Z"
   },
   {
    "duration": 141,
    "start_time": "2022-09-04T12:20:11.962Z"
   },
   {
    "duration": 100,
    "start_time": "2022-09-04T12:20:12.105Z"
   },
   {
    "duration": 79,
    "start_time": "2022-09-04T12:45:00.431Z"
   },
   {
    "duration": 72,
    "start_time": "2022-09-04T12:45:22.244Z"
   },
   {
    "duration": 49,
    "start_time": "2022-09-04T12:45:37.612Z"
   },
   {
    "duration": 20,
    "start_time": "2022-09-04T12:46:22.685Z"
   },
   {
    "duration": 3238,
    "start_time": "2022-09-04T12:46:28.608Z"
   },
   {
    "duration": 10,
    "start_time": "2022-09-04T12:46:31.848Z"
   },
   {
    "duration": 19,
    "start_time": "2022-09-04T12:46:31.859Z"
   },
   {
    "duration": 280,
    "start_time": "2022-09-04T12:46:31.881Z"
   },
   {
    "duration": 195,
    "start_time": "2022-09-04T12:46:32.163Z"
   },
   {
    "duration": 54,
    "start_time": "2022-09-04T12:46:32.359Z"
   },
   {
    "duration": 10,
    "start_time": "2022-09-04T12:46:32.415Z"
   },
   {
    "duration": 31,
    "start_time": "2022-09-04T12:46:32.426Z"
   },
   {
    "duration": 4,
    "start_time": "2022-09-04T12:46:32.458Z"
   },
   {
    "duration": 30,
    "start_time": "2022-09-04T12:46:32.465Z"
   },
   {
    "duration": 106,
    "start_time": "2022-09-04T12:46:32.498Z"
   },
   {
    "duration": 46,
    "start_time": "2022-09-04T12:46:32.606Z"
   },
   {
    "duration": 13,
    "start_time": "2022-09-04T12:46:32.654Z"
   },
   {
    "duration": 142,
    "start_time": "2022-09-04T12:46:32.668Z"
   },
   {
    "duration": 114,
    "start_time": "2022-09-04T12:46:32.812Z"
   },
   {
    "duration": 126,
    "start_time": "2022-09-04T12:46:32.927Z"
   },
   {
    "duration": 142,
    "start_time": "2022-09-04T12:46:33.055Z"
   },
   {
    "duration": 18,
    "start_time": "2022-09-04T12:46:33.199Z"
   },
   {
    "duration": 16,
    "start_time": "2022-09-04T12:46:33.219Z"
   },
   {
    "duration": 4,
    "start_time": "2022-09-04T12:46:33.236Z"
   },
   {
    "duration": 10,
    "start_time": "2022-09-04T12:46:33.241Z"
   },
   {
    "duration": 76,
    "start_time": "2022-09-04T12:46:33.252Z"
   },
   {
    "duration": 4,
    "start_time": "2022-09-04T12:46:33.330Z"
   },
   {
    "duration": 7,
    "start_time": "2022-09-04T12:46:33.336Z"
   },
   {
    "duration": 297,
    "start_time": "2022-09-04T12:46:33.344Z"
   },
   {
    "duration": 460,
    "start_time": "2022-09-04T12:46:33.642Z"
   },
   {
    "duration": 488,
    "start_time": "2022-09-04T12:46:34.104Z"
   },
   {
    "duration": 620,
    "start_time": "2022-09-04T12:46:34.596Z"
   },
   {
    "duration": 490,
    "start_time": "2022-09-04T12:46:35.218Z"
   },
   {
    "duration": 326,
    "start_time": "2022-09-04T12:46:35.710Z"
   },
   {
    "duration": 219,
    "start_time": "2022-09-04T12:46:36.038Z"
   },
   {
    "duration": 161,
    "start_time": "2022-09-04T12:46:36.259Z"
   },
   {
    "duration": 242,
    "start_time": "2022-09-04T12:46:36.423Z"
   },
   {
    "duration": 212,
    "start_time": "2022-09-04T12:46:36.666Z"
   },
   {
    "duration": 318,
    "start_time": "2022-09-04T12:46:36.880Z"
   },
   {
    "duration": 219,
    "start_time": "2022-09-04T12:46:37.199Z"
   },
   {
    "duration": 230,
    "start_time": "2022-09-04T12:46:37.420Z"
   },
   {
    "duration": 236,
    "start_time": "2022-09-04T12:46:37.652Z"
   },
   {
    "duration": 225,
    "start_time": "2022-09-04T12:46:37.892Z"
   },
   {
    "duration": 72,
    "start_time": "2022-09-04T12:46:38.118Z"
   },
   {
    "duration": 33,
    "start_time": "2022-09-04T12:46:38.194Z"
   },
   {
    "duration": 32,
    "start_time": "2022-09-04T12:46:38.229Z"
   },
   {
    "duration": 145,
    "start_time": "2022-09-04T12:46:38.263Z"
   },
   {
    "duration": 4,
    "start_time": "2022-09-04T12:46:38.410Z"
   },
   {
    "duration": 149,
    "start_time": "2022-09-04T12:46:38.416Z"
   },
   {
    "duration": 140,
    "start_time": "2022-09-04T12:46:38.566Z"
   },
   {
    "duration": 146,
    "start_time": "2022-09-04T12:46:38.708Z"
   },
   {
    "duration": 242,
    "start_time": "2022-09-04T12:46:38.856Z"
   },
   {
    "duration": 145,
    "start_time": "2022-09-04T12:46:39.100Z"
   },
   {
    "duration": 4,
    "start_time": "2022-09-04T12:46:39.246Z"
   },
   {
    "duration": 160,
    "start_time": "2022-09-04T12:46:39.252Z"
   },
   {
    "duration": 5,
    "start_time": "2022-09-04T12:46:39.413Z"
   },
   {
    "duration": 152,
    "start_time": "2022-09-04T12:46:39.419Z"
   },
   {
    "duration": 4,
    "start_time": "2022-09-04T12:46:39.573Z"
   },
   {
    "duration": 21,
    "start_time": "2022-09-04T12:46:39.593Z"
   },
   {
    "duration": 164,
    "start_time": "2022-09-04T12:46:39.615Z"
   },
   {
    "duration": 15,
    "start_time": "2022-09-04T12:46:39.780Z"
   },
   {
    "duration": 4679,
    "start_time": "2022-09-04T12:46:39.800Z"
   },
   {
    "duration": 417,
    "start_time": "2022-09-04T12:46:44.481Z"
   },
   {
    "duration": 121,
    "start_time": "2022-09-04T12:46:44.900Z"
   },
   {
    "duration": 102,
    "start_time": "2022-09-04T12:46:45.023Z"
   },
   {
    "duration": 4206,
    "start_time": "2022-09-04T12:46:59.736Z"
   },
   {
    "duration": 9,
    "start_time": "2022-09-04T12:47:03.944Z"
   },
   {
    "duration": 6,
    "start_time": "2022-09-04T12:47:03.991Z"
   },
   {
    "duration": 520,
    "start_time": "2022-09-04T12:47:03.999Z"
   },
   {
    "duration": 483,
    "start_time": "2022-09-04T12:47:04.521Z"
   },
   {
    "duration": 103,
    "start_time": "2022-09-04T12:47:05.006Z"
   },
   {
    "duration": 7,
    "start_time": "2022-09-04T12:47:05.110Z"
   },
   {
    "duration": 76,
    "start_time": "2022-09-04T12:47:05.118Z"
   },
   {
    "duration": 4,
    "start_time": "2022-09-04T12:47:05.199Z"
   },
   {
    "duration": 8,
    "start_time": "2022-09-04T12:47:05.206Z"
   },
   {
    "duration": 173,
    "start_time": "2022-09-04T12:47:05.215Z"
   },
   {
    "duration": 116,
    "start_time": "2022-09-04T12:47:05.390Z"
   },
   {
    "duration": 15,
    "start_time": "2022-09-04T12:47:05.508Z"
   },
   {
    "duration": 290,
    "start_time": "2022-09-04T12:47:05.525Z"
   },
   {
    "duration": 291,
    "start_time": "2022-09-04T12:47:05.817Z"
   },
   {
    "duration": 248,
    "start_time": "2022-09-04T12:47:06.109Z"
   },
   {
    "duration": 199,
    "start_time": "2022-09-04T12:47:06.359Z"
   },
   {
    "duration": 33,
    "start_time": "2022-09-04T12:47:06.560Z"
   },
   {
    "duration": 18,
    "start_time": "2022-09-04T12:47:06.594Z"
   },
   {
    "duration": 12,
    "start_time": "2022-09-04T12:47:06.614Z"
   },
   {
    "duration": 11,
    "start_time": "2022-09-04T12:47:06.627Z"
   },
   {
    "duration": 58,
    "start_time": "2022-09-04T12:47:06.640Z"
   },
   {
    "duration": 6,
    "start_time": "2022-09-04T12:47:06.699Z"
   },
   {
    "duration": 11,
    "start_time": "2022-09-04T12:47:06.706Z"
   },
   {
    "duration": 315,
    "start_time": "2022-09-04T12:47:06.719Z"
   },
   {
    "duration": 969,
    "start_time": "2022-09-04T12:47:07.036Z"
   },
   {
    "duration": 481,
    "start_time": "2022-09-04T12:47:08.007Z"
   },
   {
    "duration": 714,
    "start_time": "2022-09-04T12:47:08.493Z"
   },
   {
    "duration": 415,
    "start_time": "2022-09-04T12:47:09.209Z"
   },
   {
    "duration": 501,
    "start_time": "2022-09-04T12:47:09.625Z"
   },
   {
    "duration": 502,
    "start_time": "2022-09-04T12:47:10.127Z"
   },
   {
    "duration": 278,
    "start_time": "2022-09-04T12:47:10.631Z"
   },
   {
    "duration": 340,
    "start_time": "2022-09-04T12:47:10.911Z"
   },
   {
    "duration": 248,
    "start_time": "2022-09-04T12:47:11.252Z"
   },
   {
    "duration": 311,
    "start_time": "2022-09-04T12:47:11.504Z"
   },
   {
    "duration": 233,
    "start_time": "2022-09-04T12:47:11.817Z"
   },
   {
    "duration": 211,
    "start_time": "2022-09-04T12:47:12.052Z"
   },
   {
    "duration": 247,
    "start_time": "2022-09-04T12:47:12.265Z"
   },
   {
    "duration": 224,
    "start_time": "2022-09-04T12:47:12.513Z"
   },
   {
    "duration": 75,
    "start_time": "2022-09-04T12:47:12.739Z"
   },
   {
    "duration": 32,
    "start_time": "2022-09-04T12:47:12.816Z"
   },
   {
    "duration": 53,
    "start_time": "2022-09-04T12:47:12.850Z"
   },
   {
    "duration": 159,
    "start_time": "2022-09-04T12:47:12.905Z"
   },
   {
    "duration": 4,
    "start_time": "2022-09-04T12:47:13.067Z"
   },
   {
    "duration": 172,
    "start_time": "2022-09-04T12:47:13.088Z"
   },
   {
    "duration": 158,
    "start_time": "2022-09-04T12:47:13.262Z"
   },
   {
    "duration": 173,
    "start_time": "2022-09-04T12:47:13.421Z"
   },
   {
    "duration": 255,
    "start_time": "2022-09-04T12:47:13.595Z"
   },
   {
    "duration": 171,
    "start_time": "2022-09-04T12:47:13.852Z"
   },
   {
    "duration": 6,
    "start_time": "2022-09-04T12:47:14.025Z"
   },
   {
    "duration": 169,
    "start_time": "2022-09-04T12:47:14.032Z"
   },
   {
    "duration": 5,
    "start_time": "2022-09-04T12:47:14.203Z"
   },
   {
    "duration": 191,
    "start_time": "2022-09-04T12:47:14.210Z"
   },
   {
    "duration": 5,
    "start_time": "2022-09-04T12:47:14.403Z"
   },
   {
    "duration": 26,
    "start_time": "2022-09-04T12:47:14.410Z"
   },
   {
    "duration": 176,
    "start_time": "2022-09-04T12:47:14.437Z"
   },
   {
    "duration": 2,
    "start_time": "2022-09-04T12:47:14.616Z"
   },
   {
    "duration": 3144,
    "start_time": "2022-09-04T12:47:14.620Z"
   },
   {
    "duration": 409,
    "start_time": "2022-09-04T12:47:17.766Z"
   },
   {
    "duration": 139,
    "start_time": "2022-09-04T12:47:18.176Z"
   },
   {
    "duration": 109,
    "start_time": "2022-09-04T12:47:18.317Z"
   },
   {
    "duration": 3320,
    "start_time": "2022-09-04T12:48:42.418Z"
   },
   {
    "duration": 47,
    "start_time": "2022-09-04T12:48:45.741Z"
   },
   {
    "duration": 6,
    "start_time": "2022-09-04T12:48:45.795Z"
   },
   {
    "duration": 522,
    "start_time": "2022-09-04T12:48:45.803Z"
   },
   {
    "duration": 487,
    "start_time": "2022-09-04T12:48:46.328Z"
   },
   {
    "duration": 103,
    "start_time": "2022-09-04T12:48:46.816Z"
   },
   {
    "duration": 6,
    "start_time": "2022-09-04T12:48:46.921Z"
   },
   {
    "duration": 72,
    "start_time": "2022-09-04T12:48:46.928Z"
   },
   {
    "duration": 4,
    "start_time": "2022-09-04T12:48:47.002Z"
   },
   {
    "duration": 9,
    "start_time": "2022-09-04T12:48:47.007Z"
   },
   {
    "duration": 176,
    "start_time": "2022-09-04T12:48:47.018Z"
   },
   {
    "duration": 107,
    "start_time": "2022-09-04T12:48:47.202Z"
   },
   {
    "duration": 14,
    "start_time": "2022-09-04T12:48:47.310Z"
   },
   {
    "duration": 149,
    "start_time": "2022-09-04T12:48:47.327Z"
   },
   {
    "duration": 136,
    "start_time": "2022-09-04T12:48:47.477Z"
   },
   {
    "duration": 130,
    "start_time": "2022-09-04T12:48:47.615Z"
   },
   {
    "duration": 128,
    "start_time": "2022-09-04T12:48:47.747Z"
   },
   {
    "duration": 26,
    "start_time": "2022-09-04T12:48:47.876Z"
   },
   {
    "duration": 17,
    "start_time": "2022-09-04T12:48:47.904Z"
   },
   {
    "duration": 3,
    "start_time": "2022-09-04T12:48:47.923Z"
   },
   {
    "duration": 8,
    "start_time": "2022-09-04T12:48:47.927Z"
   },
   {
    "duration": 66,
    "start_time": "2022-09-04T12:48:47.936Z"
   },
   {
    "duration": 6,
    "start_time": "2022-09-04T12:48:48.004Z"
   },
   {
    "duration": 7,
    "start_time": "2022-09-04T12:48:48.012Z"
   },
   {
    "duration": 299,
    "start_time": "2022-09-04T12:48:48.020Z"
   },
   {
    "duration": 419,
    "start_time": "2022-09-04T12:48:48.321Z"
   },
   {
    "duration": 215,
    "start_time": "2022-09-04T12:48:48.741Z"
   },
   {
    "duration": 330,
    "start_time": "2022-09-04T12:48:48.957Z"
   },
   {
    "duration": 199,
    "start_time": "2022-09-04T12:48:49.290Z"
   },
   {
    "duration": 214,
    "start_time": "2022-09-04T12:48:49.491Z"
   },
   {
    "duration": 197,
    "start_time": "2022-09-04T12:48:49.706Z"
   },
   {
    "duration": 128,
    "start_time": "2022-09-04T12:48:49.905Z"
   },
   {
    "duration": 233,
    "start_time": "2022-09-04T12:48:50.034Z"
   },
   {
    "duration": 207,
    "start_time": "2022-09-04T12:48:50.269Z"
   },
   {
    "duration": 290,
    "start_time": "2022-09-04T12:48:50.477Z"
   },
   {
    "duration": 216,
    "start_time": "2022-09-04T12:48:50.769Z"
   },
   {
    "duration": 220,
    "start_time": "2022-09-04T12:48:50.986Z"
   },
   {
    "duration": 224,
    "start_time": "2022-09-04T12:48:51.207Z"
   },
   {
    "duration": 217,
    "start_time": "2022-09-04T12:48:51.433Z"
   },
   {
    "duration": 81,
    "start_time": "2022-09-04T12:48:51.651Z"
   },
   {
    "duration": 30,
    "start_time": "2022-09-04T12:48:51.737Z"
   },
   {
    "duration": 53,
    "start_time": "2022-09-04T12:48:51.769Z"
   },
   {
    "duration": 147,
    "start_time": "2022-09-04T12:48:51.823Z"
   },
   {
    "duration": 4,
    "start_time": "2022-09-04T12:48:51.972Z"
   },
   {
    "duration": 159,
    "start_time": "2022-09-04T12:48:51.978Z"
   },
   {
    "duration": 169,
    "start_time": "2022-09-04T12:48:52.139Z"
   },
   {
    "duration": 149,
    "start_time": "2022-09-04T12:48:52.310Z"
   },
   {
    "duration": 264,
    "start_time": "2022-09-04T12:48:52.460Z"
   },
   {
    "duration": 145,
    "start_time": "2022-09-04T12:48:52.726Z"
   },
   {
    "duration": 4,
    "start_time": "2022-09-04T12:48:52.872Z"
   },
   {
    "duration": 157,
    "start_time": "2022-09-04T12:48:52.889Z"
   },
   {
    "duration": 5,
    "start_time": "2022-09-04T12:48:53.047Z"
   },
   {
    "duration": 162,
    "start_time": "2022-09-04T12:48:53.053Z"
   },
   {
    "duration": 5,
    "start_time": "2022-09-04T12:48:53.216Z"
   },
   {
    "duration": 20,
    "start_time": "2022-09-04T12:48:53.222Z"
   },
   {
    "duration": 176,
    "start_time": "2022-09-04T12:48:53.243Z"
   },
   {
    "duration": 2,
    "start_time": "2022-09-04T12:48:53.421Z"
   },
   {
    "duration": 2866,
    "start_time": "2022-09-04T12:48:53.424Z"
   },
   {
    "duration": 476,
    "start_time": "2022-09-04T12:48:56.293Z"
   },
   {
    "duration": 121,
    "start_time": "2022-09-04T12:48:56.770Z"
   },
   {
    "duration": 92,
    "start_time": "2022-09-04T12:48:56.894Z"
   },
   {
    "duration": 336,
    "start_time": "2022-09-04T12:52:26.739Z"
   },
   {
    "duration": 4203,
    "start_time": "2022-09-04T12:52:31.763Z"
   },
   {
    "duration": 10,
    "start_time": "2022-09-04T12:52:35.968Z"
   },
   {
    "duration": 4,
    "start_time": "2022-09-04T12:52:35.979Z"
   },
   {
    "duration": 258,
    "start_time": "2022-09-04T12:52:35.985Z"
   },
   {
    "duration": 757,
    "start_time": "2022-09-04T12:52:36.245Z"
   },
   {
    "duration": 40,
    "start_time": "2022-09-04T12:52:37.004Z"
   },
   {
    "duration": 7,
    "start_time": "2022-09-04T12:52:37.045Z"
   },
   {
    "duration": 40,
    "start_time": "2022-09-04T12:52:37.053Z"
   },
   {
    "duration": 3,
    "start_time": "2022-09-04T12:52:37.101Z"
   },
   {
    "duration": 12,
    "start_time": "2022-09-04T12:52:37.107Z"
   },
   {
    "duration": 81,
    "start_time": "2022-09-04T12:52:37.121Z"
   },
   {
    "duration": 50,
    "start_time": "2022-09-04T12:52:37.204Z"
   },
   {
    "duration": 14,
    "start_time": "2022-09-04T12:52:37.255Z"
   },
   {
    "duration": 147,
    "start_time": "2022-09-04T12:52:37.271Z"
   },
   {
    "duration": 126,
    "start_time": "2022-09-04T12:52:37.420Z"
   },
   {
    "duration": 142,
    "start_time": "2022-09-04T12:52:37.549Z"
   },
   {
    "duration": 131,
    "start_time": "2022-09-04T12:52:37.692Z"
   },
   {
    "duration": 43,
    "start_time": "2022-09-04T12:52:37.825Z"
   },
   {
    "duration": 0,
    "start_time": "2022-09-04T12:52:37.870Z"
   },
   {
    "duration": 0,
    "start_time": "2022-09-04T12:52:37.990Z"
   },
   {
    "duration": 0,
    "start_time": "2022-09-04T12:52:37.991Z"
   },
   {
    "duration": 0,
    "start_time": "2022-09-04T12:52:37.992Z"
   },
   {
    "duration": 0,
    "start_time": "2022-09-04T12:52:37.993Z"
   },
   {
    "duration": 0,
    "start_time": "2022-09-04T12:52:37.994Z"
   },
   {
    "duration": 0,
    "start_time": "2022-09-04T12:52:37.994Z"
   },
   {
    "duration": 0,
    "start_time": "2022-09-04T12:52:37.995Z"
   },
   {
    "duration": 0,
    "start_time": "2022-09-04T12:52:37.996Z"
   },
   {
    "duration": 0,
    "start_time": "2022-09-04T12:52:37.998Z"
   },
   {
    "duration": 0,
    "start_time": "2022-09-04T12:52:37.999Z"
   },
   {
    "duration": 0,
    "start_time": "2022-09-04T12:52:38.000Z"
   },
   {
    "duration": 0,
    "start_time": "2022-09-04T12:52:38.001Z"
   },
   {
    "duration": 0,
    "start_time": "2022-09-04T12:52:38.002Z"
   },
   {
    "duration": 0,
    "start_time": "2022-09-04T12:52:38.003Z"
   },
   {
    "duration": 0,
    "start_time": "2022-09-04T12:52:38.005Z"
   },
   {
    "duration": 0,
    "start_time": "2022-09-04T12:52:38.005Z"
   },
   {
    "duration": 0,
    "start_time": "2022-09-04T12:52:38.007Z"
   },
   {
    "duration": 0,
    "start_time": "2022-09-04T12:52:38.008Z"
   },
   {
    "duration": 0,
    "start_time": "2022-09-04T12:52:38.009Z"
   },
   {
    "duration": 0,
    "start_time": "2022-09-04T12:52:38.010Z"
   },
   {
    "duration": 0,
    "start_time": "2022-09-04T12:52:38.011Z"
   },
   {
    "duration": 0,
    "start_time": "2022-09-04T12:52:38.012Z"
   },
   {
    "duration": 0,
    "start_time": "2022-09-04T12:52:38.014Z"
   },
   {
    "duration": 0,
    "start_time": "2022-09-04T12:52:38.015Z"
   },
   {
    "duration": 0,
    "start_time": "2022-09-04T12:52:38.016Z"
   },
   {
    "duration": 0,
    "start_time": "2022-09-04T12:52:38.017Z"
   },
   {
    "duration": 0,
    "start_time": "2022-09-04T12:52:38.018Z"
   },
   {
    "duration": 0,
    "start_time": "2022-09-04T12:52:38.019Z"
   },
   {
    "duration": 0,
    "start_time": "2022-09-04T12:52:38.020Z"
   },
   {
    "duration": 0,
    "start_time": "2022-09-04T12:52:38.021Z"
   },
   {
    "duration": 0,
    "start_time": "2022-09-04T12:52:38.023Z"
   },
   {
    "duration": 0,
    "start_time": "2022-09-04T12:52:38.024Z"
   },
   {
    "duration": 0,
    "start_time": "2022-09-04T12:52:38.025Z"
   },
   {
    "duration": 0,
    "start_time": "2022-09-04T12:52:38.026Z"
   },
   {
    "duration": 0,
    "start_time": "2022-09-04T12:52:38.027Z"
   },
   {
    "duration": 0,
    "start_time": "2022-09-04T12:52:38.029Z"
   },
   {
    "duration": 0,
    "start_time": "2022-09-04T12:52:38.030Z"
   },
   {
    "duration": 0,
    "start_time": "2022-09-04T12:52:38.031Z"
   },
   {
    "duration": 0,
    "start_time": "2022-09-04T12:52:38.032Z"
   },
   {
    "duration": 0,
    "start_time": "2022-09-04T12:52:38.033Z"
   },
   {
    "duration": 1,
    "start_time": "2022-09-04T12:52:38.086Z"
   },
   {
    "duration": 0,
    "start_time": "2022-09-04T12:52:38.087Z"
   },
   {
    "duration": 215,
    "start_time": "2022-09-04T12:52:51.614Z"
   },
   {
    "duration": 3283,
    "start_time": "2022-09-04T13:20:08.839Z"
   },
   {
    "duration": 9,
    "start_time": "2022-09-04T13:20:12.124Z"
   },
   {
    "duration": 4,
    "start_time": "2022-09-04T13:20:12.135Z"
   },
   {
    "duration": 230,
    "start_time": "2022-09-04T13:20:12.141Z"
   },
   {
    "duration": 218,
    "start_time": "2022-09-04T13:20:12.372Z"
   },
   {
    "duration": 45,
    "start_time": "2022-09-04T13:20:12.598Z"
   },
   {
    "duration": 7,
    "start_time": "2022-09-04T13:20:12.644Z"
   },
   {
    "duration": 43,
    "start_time": "2022-09-04T13:20:12.652Z"
   },
   {
    "duration": 6,
    "start_time": "2022-09-04T13:20:12.697Z"
   },
   {
    "duration": 12,
    "start_time": "2022-09-04T13:20:12.706Z"
   },
   {
    "duration": 184,
    "start_time": "2022-09-04T13:20:12.720Z"
   },
   {
    "duration": 111,
    "start_time": "2022-09-04T13:20:12.906Z"
   },
   {
    "duration": 15,
    "start_time": "2022-09-04T13:20:13.018Z"
   },
   {
    "duration": 304,
    "start_time": "2022-09-04T13:20:13.088Z"
   },
   {
    "duration": 214,
    "start_time": "2022-09-04T13:20:13.398Z"
   },
   {
    "duration": 284,
    "start_time": "2022-09-04T13:20:13.614Z"
   },
   {
    "duration": 302,
    "start_time": "2022-09-04T13:20:13.899Z"
   },
   {
    "duration": 56,
    "start_time": "2022-09-04T13:20:14.203Z"
   },
   {
    "duration": 0,
    "start_time": "2022-09-04T13:20:14.261Z"
   },
   {
    "duration": 0,
    "start_time": "2022-09-04T13:20:14.291Z"
   },
   {
    "duration": 0,
    "start_time": "2022-09-04T13:20:14.291Z"
   },
   {
    "duration": 0,
    "start_time": "2022-09-04T13:20:14.294Z"
   },
   {
    "duration": 0,
    "start_time": "2022-09-04T13:20:14.295Z"
   },
   {
    "duration": 0,
    "start_time": "2022-09-04T13:20:14.296Z"
   },
   {
    "duration": 0,
    "start_time": "2022-09-04T13:20:14.299Z"
   },
   {
    "duration": 0,
    "start_time": "2022-09-04T13:20:14.299Z"
   },
   {
    "duration": 0,
    "start_time": "2022-09-04T13:20:14.300Z"
   },
   {
    "duration": 1,
    "start_time": "2022-09-04T13:20:14.302Z"
   },
   {
    "duration": 0,
    "start_time": "2022-09-04T13:20:14.304Z"
   },
   {
    "duration": 0,
    "start_time": "2022-09-04T13:20:14.305Z"
   },
   {
    "duration": 0,
    "start_time": "2022-09-04T13:20:14.305Z"
   },
   {
    "duration": 0,
    "start_time": "2022-09-04T13:20:14.307Z"
   },
   {
    "duration": 0,
    "start_time": "2022-09-04T13:20:14.307Z"
   },
   {
    "duration": 0,
    "start_time": "2022-09-04T13:20:14.308Z"
   },
   {
    "duration": 0,
    "start_time": "2022-09-04T13:20:14.309Z"
   },
   {
    "duration": 0,
    "start_time": "2022-09-04T13:20:14.310Z"
   },
   {
    "duration": 0,
    "start_time": "2022-09-04T13:20:14.311Z"
   },
   {
    "duration": 0,
    "start_time": "2022-09-04T13:20:14.312Z"
   },
   {
    "duration": 0,
    "start_time": "2022-09-04T13:20:14.313Z"
   },
   {
    "duration": 0,
    "start_time": "2022-09-04T13:20:14.314Z"
   },
   {
    "duration": 0,
    "start_time": "2022-09-04T13:20:14.315Z"
   },
   {
    "duration": 0,
    "start_time": "2022-09-04T13:20:14.316Z"
   },
   {
    "duration": 0,
    "start_time": "2022-09-04T13:20:14.317Z"
   },
   {
    "duration": 0,
    "start_time": "2022-09-04T13:20:14.318Z"
   },
   {
    "duration": 1,
    "start_time": "2022-09-04T13:20:14.319Z"
   },
   {
    "duration": 0,
    "start_time": "2022-09-04T13:20:14.321Z"
   },
   {
    "duration": 0,
    "start_time": "2022-09-04T13:20:14.322Z"
   },
   {
    "duration": 0,
    "start_time": "2022-09-04T13:20:14.324Z"
   },
   {
    "duration": 0,
    "start_time": "2022-09-04T13:20:14.325Z"
   },
   {
    "duration": 0,
    "start_time": "2022-09-04T13:20:14.327Z"
   },
   {
    "duration": 0,
    "start_time": "2022-09-04T13:20:14.328Z"
   },
   {
    "duration": 0,
    "start_time": "2022-09-04T13:20:14.329Z"
   },
   {
    "duration": 0,
    "start_time": "2022-09-04T13:20:14.391Z"
   },
   {
    "duration": 0,
    "start_time": "2022-09-04T13:20:14.392Z"
   },
   {
    "duration": 0,
    "start_time": "2022-09-04T13:20:14.393Z"
   },
   {
    "duration": 0,
    "start_time": "2022-09-04T13:20:14.394Z"
   },
   {
    "duration": 0,
    "start_time": "2022-09-04T13:20:14.396Z"
   },
   {
    "duration": 0,
    "start_time": "2022-09-04T13:20:14.398Z"
   },
   {
    "duration": 0,
    "start_time": "2022-09-04T13:20:14.399Z"
   },
   {
    "duration": 0,
    "start_time": "2022-09-04T13:20:14.401Z"
   },
   {
    "duration": 0,
    "start_time": "2022-09-04T13:20:14.402Z"
   },
   {
    "duration": 60,
    "start_time": "2022-09-04T13:26:58.051Z"
   },
   {
    "duration": 16,
    "start_time": "2022-09-04T13:27:17.819Z"
   },
   {
    "duration": 4356,
    "start_time": "2022-09-04T13:27:24.562Z"
   },
   {
    "duration": 10,
    "start_time": "2022-09-04T13:27:28.920Z"
   },
   {
    "duration": 4,
    "start_time": "2022-09-04T13:27:28.931Z"
   },
   {
    "duration": 343,
    "start_time": "2022-09-04T13:27:28.937Z"
   },
   {
    "duration": 223,
    "start_time": "2022-09-04T13:27:29.281Z"
   },
   {
    "duration": 43,
    "start_time": "2022-09-04T13:27:29.506Z"
   },
   {
    "duration": 7,
    "start_time": "2022-09-04T13:27:29.551Z"
   },
   {
    "duration": 42,
    "start_time": "2022-09-04T13:27:29.559Z"
   },
   {
    "duration": 4,
    "start_time": "2022-09-04T13:27:29.603Z"
   },
   {
    "duration": 6,
    "start_time": "2022-09-04T13:27:29.610Z"
   },
   {
    "duration": 83,
    "start_time": "2022-09-04T13:27:29.618Z"
   },
   {
    "duration": 48,
    "start_time": "2022-09-04T13:27:29.703Z"
   },
   {
    "duration": 14,
    "start_time": "2022-09-04T13:27:29.752Z"
   },
   {
    "duration": 142,
    "start_time": "2022-09-04T13:27:29.768Z"
   },
   {
    "duration": 115,
    "start_time": "2022-09-04T13:27:29.911Z"
   },
   {
    "duration": 129,
    "start_time": "2022-09-04T13:27:30.028Z"
   },
   {
    "duration": 142,
    "start_time": "2022-09-04T13:27:30.159Z"
   },
   {
    "duration": 17,
    "start_time": "2022-09-04T13:27:30.303Z"
   },
   {
    "duration": 15,
    "start_time": "2022-09-04T13:27:30.322Z"
   },
   {
    "duration": 11,
    "start_time": "2022-09-04T13:27:30.339Z"
   },
   {
    "duration": 18,
    "start_time": "2022-09-04T13:27:30.352Z"
   },
   {
    "duration": 59,
    "start_time": "2022-09-04T13:27:30.373Z"
   },
   {
    "duration": 4,
    "start_time": "2022-09-04T13:27:30.434Z"
   },
   {
    "duration": 17,
    "start_time": "2022-09-04T13:27:30.440Z"
   },
   {
    "duration": 548,
    "start_time": "2022-09-04T13:27:30.459Z"
   },
   {
    "duration": 1019,
    "start_time": "2022-09-04T13:27:31.008Z"
   },
   {
    "duration": 508,
    "start_time": "2022-09-04T13:27:32.029Z"
   },
   {
    "duration": 302,
    "start_time": "2022-09-04T13:27:32.540Z"
   },
   {
    "duration": 194,
    "start_time": "2022-09-04T13:27:32.844Z"
   },
   {
    "duration": 230,
    "start_time": "2022-09-04T13:27:33.040Z"
   },
   {
    "duration": 205,
    "start_time": "2022-09-04T13:27:33.271Z"
   },
   {
    "duration": 132,
    "start_time": "2022-09-04T13:27:33.478Z"
   },
   {
    "duration": 227,
    "start_time": "2022-09-04T13:27:33.611Z"
   },
   {
    "duration": 268,
    "start_time": "2022-09-04T13:27:33.840Z"
   },
   {
    "duration": 353,
    "start_time": "2022-09-04T13:27:34.109Z"
   },
   {
    "duration": 279,
    "start_time": "2022-09-04T13:27:34.464Z"
   },
   {
    "duration": 223,
    "start_time": "2022-09-04T13:27:34.745Z"
   },
   {
    "duration": 247,
    "start_time": "2022-09-04T13:27:34.969Z"
   },
   {
    "duration": 211,
    "start_time": "2022-09-04T13:27:35.218Z"
   },
   {
    "duration": 78,
    "start_time": "2022-09-04T13:27:35.430Z"
   },
   {
    "duration": 31,
    "start_time": "2022-09-04T13:27:35.510Z"
   },
   {
    "duration": 58,
    "start_time": "2022-09-04T13:27:35.543Z"
   },
   {
    "duration": 140,
    "start_time": "2022-09-04T13:27:35.603Z"
   },
   {
    "duration": 5,
    "start_time": "2022-09-04T13:27:35.745Z"
   },
   {
    "duration": 185,
    "start_time": "2022-09-04T13:27:35.752Z"
   },
   {
    "duration": 206,
    "start_time": "2022-09-04T13:27:35.939Z"
   },
   {
    "duration": 199,
    "start_time": "2022-09-04T13:27:36.147Z"
   },
   {
    "duration": 294,
    "start_time": "2022-09-04T13:27:36.349Z"
   },
   {
    "duration": 178,
    "start_time": "2022-09-04T13:27:36.646Z"
   },
   {
    "duration": 5,
    "start_time": "2022-09-04T13:27:36.826Z"
   },
   {
    "duration": 159,
    "start_time": "2022-09-04T13:27:36.832Z"
   },
   {
    "duration": 9,
    "start_time": "2022-09-04T13:27:36.993Z"
   },
   {
    "duration": 167,
    "start_time": "2022-09-04T13:27:37.005Z"
   },
   {
    "duration": 4,
    "start_time": "2022-09-04T13:27:37.174Z"
   },
   {
    "duration": 27,
    "start_time": "2022-09-04T13:27:37.180Z"
   },
   {
    "duration": 179,
    "start_time": "2022-09-04T13:27:37.208Z"
   },
   {
    "duration": 7,
    "start_time": "2022-09-04T13:27:37.388Z"
   },
   {
    "duration": 4584,
    "start_time": "2022-09-04T13:27:37.400Z"
   },
   {
    "duration": 375,
    "start_time": "2022-09-04T13:27:41.986Z"
   },
   {
    "duration": 135,
    "start_time": "2022-09-04T13:27:42.363Z"
   },
   {
    "duration": 104,
    "start_time": "2022-09-04T13:27:42.500Z"
   },
   {
    "duration": 13,
    "start_time": "2022-09-04T13:29:45.463Z"
   },
   {
    "duration": 3298,
    "start_time": "2022-09-04T13:29:50.914Z"
   },
   {
    "duration": 9,
    "start_time": "2022-09-04T13:29:54.214Z"
   },
   {
    "duration": 4,
    "start_time": "2022-09-04T13:29:54.225Z"
   },
   {
    "duration": 248,
    "start_time": "2022-09-04T13:29:54.230Z"
   },
   {
    "duration": 226,
    "start_time": "2022-09-04T13:29:54.480Z"
   },
   {
    "duration": 43,
    "start_time": "2022-09-04T13:29:54.707Z"
   },
   {
    "duration": 6,
    "start_time": "2022-09-04T13:29:54.752Z"
   },
   {
    "duration": 40,
    "start_time": "2022-09-04T13:29:54.759Z"
   },
   {
    "duration": 4,
    "start_time": "2022-09-04T13:29:54.802Z"
   },
   {
    "duration": 13,
    "start_time": "2022-09-04T13:29:54.809Z"
   },
   {
    "duration": 82,
    "start_time": "2022-09-04T13:29:54.824Z"
   },
   {
    "duration": 49,
    "start_time": "2022-09-04T13:29:54.908Z"
   },
   {
    "duration": 30,
    "start_time": "2022-09-04T13:29:54.958Z"
   },
   {
    "duration": 134,
    "start_time": "2022-09-04T13:29:54.997Z"
   },
   {
    "duration": 122,
    "start_time": "2022-09-04T13:29:55.133Z"
   },
   {
    "duration": 124,
    "start_time": "2022-09-04T13:29:55.256Z"
   },
   {
    "duration": 153,
    "start_time": "2022-09-04T13:29:55.386Z"
   },
   {
    "duration": 20,
    "start_time": "2022-09-04T13:29:55.540Z"
   },
   {
    "duration": 36,
    "start_time": "2022-09-04T13:29:55.562Z"
   },
   {
    "duration": 5,
    "start_time": "2022-09-04T13:29:55.600Z"
   },
   {
    "duration": 19,
    "start_time": "2022-09-04T13:29:55.606Z"
   },
   {
    "duration": 44,
    "start_time": "2022-09-04T13:29:55.626Z"
   },
   {
    "duration": 5,
    "start_time": "2022-09-04T13:29:55.671Z"
   },
   {
    "duration": 11,
    "start_time": "2022-09-04T13:29:55.678Z"
   },
   {
    "duration": 316,
    "start_time": "2022-09-04T13:29:55.691Z"
   },
   {
    "duration": 523,
    "start_time": "2022-09-04T13:29:56.009Z"
   },
   {
    "duration": 310,
    "start_time": "2022-09-04T13:29:56.534Z"
   },
   {
    "duration": 353,
    "start_time": "2022-09-04T13:29:56.848Z"
   },
   {
    "duration": 190,
    "start_time": "2022-09-04T13:29:57.203Z"
   },
   {
    "duration": 258,
    "start_time": "2022-09-04T13:29:57.395Z"
   },
   {
    "duration": 207,
    "start_time": "2022-09-04T13:29:57.654Z"
   },
   {
    "duration": 146,
    "start_time": "2022-09-04T13:29:57.863Z"
   },
   {
    "duration": 232,
    "start_time": "2022-09-04T13:29:58.011Z"
   },
   {
    "duration": 226,
    "start_time": "2022-09-04T13:29:58.245Z"
   },
   {
    "duration": 206,
    "start_time": "2022-09-04T13:29:58.472Z"
   },
   {
    "duration": 347,
    "start_time": "2022-09-04T13:29:58.680Z"
   },
   {
    "duration": 200,
    "start_time": "2022-09-04T13:29:59.028Z"
   },
   {
    "duration": 251,
    "start_time": "2022-09-04T13:29:59.231Z"
   },
   {
    "duration": 242,
    "start_time": "2022-09-04T13:29:59.486Z"
   },
   {
    "duration": 74,
    "start_time": "2022-09-04T13:29:59.729Z"
   },
   {
    "duration": 29,
    "start_time": "2022-09-04T13:29:59.805Z"
   },
   {
    "duration": 30,
    "start_time": "2022-09-04T13:29:59.836Z"
   },
   {
    "duration": 164,
    "start_time": "2022-09-04T13:29:59.868Z"
   },
   {
    "duration": 6,
    "start_time": "2022-09-04T13:30:00.035Z"
   },
   {
    "duration": 178,
    "start_time": "2022-09-04T13:30:00.043Z"
   },
   {
    "duration": 161,
    "start_time": "2022-09-04T13:30:00.223Z"
   },
   {
    "duration": 190,
    "start_time": "2022-09-04T13:30:00.387Z"
   },
   {
    "duration": 178,
    "start_time": "2022-09-04T13:30:00.579Z"
   },
   {
    "duration": 353,
    "start_time": "2022-09-04T13:30:00.759Z"
   },
   {
    "duration": 5,
    "start_time": "2022-09-04T13:30:01.114Z"
   },
   {
    "duration": 191,
    "start_time": "2022-09-04T13:30:01.120Z"
   },
   {
    "duration": 4,
    "start_time": "2022-09-04T13:30:01.312Z"
   },
   {
    "duration": 155,
    "start_time": "2022-09-04T13:30:01.318Z"
   },
   {
    "duration": 4,
    "start_time": "2022-09-04T13:30:01.475Z"
   },
   {
    "duration": 43,
    "start_time": "2022-09-04T13:30:01.480Z"
   },
   {
    "duration": 363,
    "start_time": "2022-09-04T13:30:01.525Z"
   },
   {
    "duration": 3,
    "start_time": "2022-09-04T13:30:01.890Z"
   },
   {
    "duration": 3106,
    "start_time": "2022-09-04T13:30:01.894Z"
   },
   {
    "duration": 369,
    "start_time": "2022-09-04T13:30:05.002Z"
   },
   {
    "duration": 122,
    "start_time": "2022-09-04T13:30:05.373Z"
   },
   {
    "duration": 104,
    "start_time": "2022-09-04T13:30:05.501Z"
   },
   {
    "duration": 3555,
    "start_time": "2022-09-04T13:42:07.371Z"
   },
   {
    "duration": 10,
    "start_time": "2022-09-04T13:42:10.929Z"
   },
   {
    "duration": 6,
    "start_time": "2022-09-04T13:42:10.941Z"
   },
   {
    "duration": 251,
    "start_time": "2022-09-04T13:42:10.949Z"
   },
   {
    "duration": 208,
    "start_time": "2022-09-04T13:42:11.202Z"
   },
   {
    "duration": 43,
    "start_time": "2022-09-04T13:42:11.412Z"
   },
   {
    "duration": 6,
    "start_time": "2022-09-04T13:42:11.457Z"
   },
   {
    "duration": 55,
    "start_time": "2022-09-04T13:42:11.464Z"
   },
   {
    "duration": 3,
    "start_time": "2022-09-04T13:42:11.520Z"
   },
   {
    "duration": 12,
    "start_time": "2022-09-04T13:42:11.526Z"
   },
   {
    "duration": 81,
    "start_time": "2022-09-04T13:42:11.540Z"
   },
   {
    "duration": 57,
    "start_time": "2022-09-04T13:42:11.623Z"
   },
   {
    "duration": 20,
    "start_time": "2022-09-04T13:42:11.687Z"
   },
   {
    "duration": 152,
    "start_time": "2022-09-04T13:42:11.708Z"
   },
   {
    "duration": 158,
    "start_time": "2022-09-04T13:42:11.861Z"
   },
   {
    "duration": 152,
    "start_time": "2022-09-04T13:42:12.021Z"
   },
   {
    "duration": 142,
    "start_time": "2022-09-04T13:42:12.175Z"
   },
   {
    "duration": 17,
    "start_time": "2022-09-04T13:42:12.319Z"
   },
   {
    "duration": 17,
    "start_time": "2022-09-04T13:42:12.338Z"
   },
   {
    "duration": 8,
    "start_time": "2022-09-04T13:42:12.356Z"
   },
   {
    "duration": 36,
    "start_time": "2022-09-04T13:42:12.366Z"
   },
   {
    "duration": 39,
    "start_time": "2022-09-04T13:42:12.404Z"
   },
   {
    "duration": 5,
    "start_time": "2022-09-04T13:42:12.445Z"
   },
   {
    "duration": 12,
    "start_time": "2022-09-04T13:42:12.452Z"
   },
   {
    "duration": 343,
    "start_time": "2022-09-04T13:42:12.466Z"
   },
   {
    "duration": 525,
    "start_time": "2022-09-04T13:42:12.812Z"
   },
   {
    "duration": 470,
    "start_time": "2022-09-04T13:42:13.339Z"
   },
   {
    "duration": 720,
    "start_time": "2022-09-04T13:42:13.813Z"
   },
   {
    "duration": 484,
    "start_time": "2022-09-04T13:42:14.535Z"
   },
   {
    "duration": 502,
    "start_time": "2022-09-04T13:42:15.021Z"
   },
   {
    "duration": 284,
    "start_time": "2022-09-04T13:42:15.525Z"
   },
   {
    "duration": 146,
    "start_time": "2022-09-04T13:42:15.811Z"
   },
   {
    "duration": 290,
    "start_time": "2022-09-04T13:42:15.959Z"
   },
   {
    "duration": 284,
    "start_time": "2022-09-04T13:42:16.251Z"
   },
   {
    "duration": 252,
    "start_time": "2022-09-04T13:42:16.537Z"
   },
   {
    "duration": 333,
    "start_time": "2022-09-04T13:42:16.793Z"
   },
   {
    "duration": 208,
    "start_time": "2022-09-04T13:42:17.128Z"
   },
   {
    "duration": 295,
    "start_time": "2022-09-04T13:42:17.338Z"
   },
   {
    "duration": 235,
    "start_time": "2022-09-04T13:42:17.635Z"
   },
   {
    "duration": 81,
    "start_time": "2022-09-04T13:42:17.871Z"
   },
   {
    "duration": 51,
    "start_time": "2022-09-04T13:42:17.953Z"
   },
   {
    "duration": 48,
    "start_time": "2022-09-04T13:42:18.006Z"
   },
   {
    "duration": 158,
    "start_time": "2022-09-04T13:42:18.057Z"
   },
   {
    "duration": 5,
    "start_time": "2022-09-04T13:42:18.216Z"
   },
   {
    "duration": 163,
    "start_time": "2022-09-04T13:42:18.222Z"
   },
   {
    "duration": 177,
    "start_time": "2022-09-04T13:42:18.387Z"
   },
   {
    "duration": 192,
    "start_time": "2022-09-04T13:42:18.565Z"
   },
   {
    "duration": 154,
    "start_time": "2022-09-04T13:42:18.758Z"
   },
   {
    "duration": 247,
    "start_time": "2022-09-04T13:42:18.914Z"
   },
   {
    "duration": 5,
    "start_time": "2022-09-04T13:42:19.163Z"
   },
   {
    "duration": 175,
    "start_time": "2022-09-04T13:42:19.170Z"
   },
   {
    "duration": 5,
    "start_time": "2022-09-04T13:42:19.347Z"
   },
   {
    "duration": 163,
    "start_time": "2022-09-04T13:42:19.354Z"
   },
   {
    "duration": 6,
    "start_time": "2022-09-04T13:42:19.519Z"
   },
   {
    "duration": 29,
    "start_time": "2022-09-04T13:42:19.527Z"
   },
   {
    "duration": 178,
    "start_time": "2022-09-04T13:42:19.558Z"
   },
   {
    "duration": 2,
    "start_time": "2022-09-04T13:42:19.738Z"
   },
   {
    "duration": 2765,
    "start_time": "2022-09-04T13:42:19.741Z"
   },
   {
    "duration": 339,
    "start_time": "2022-09-04T13:42:22.508Z"
   },
   {
    "duration": 118,
    "start_time": "2022-09-04T13:42:22.849Z"
   },
   {
    "duration": 103,
    "start_time": "2022-09-04T13:42:22.969Z"
   },
   {
    "duration": 2951,
    "start_time": "2022-09-05T00:38:16.538Z"
   },
   {
    "duration": 9,
    "start_time": "2022-09-05T00:38:19.491Z"
   },
   {
    "duration": 7,
    "start_time": "2022-09-05T00:38:19.503Z"
   },
   {
    "duration": 224,
    "start_time": "2022-09-05T00:38:19.512Z"
   },
   {
    "duration": 182,
    "start_time": "2022-09-05T00:38:19.738Z"
   },
   {
    "duration": 46,
    "start_time": "2022-09-05T00:38:19.921Z"
   },
   {
    "duration": 6,
    "start_time": "2022-09-05T00:38:19.969Z"
   },
   {
    "duration": 16,
    "start_time": "2022-09-05T00:38:19.976Z"
   },
   {
    "duration": 3,
    "start_time": "2022-09-05T00:38:19.993Z"
   },
   {
    "duration": 7,
    "start_time": "2022-09-05T00:38:19.999Z"
   },
   {
    "duration": 91,
    "start_time": "2022-09-05T00:38:20.007Z"
   },
   {
    "duration": 47,
    "start_time": "2022-09-05T00:38:20.099Z"
   },
   {
    "duration": 25,
    "start_time": "2022-09-05T00:38:20.148Z"
   },
   {
    "duration": 125,
    "start_time": "2022-09-05T00:38:20.175Z"
   },
   {
    "duration": 112,
    "start_time": "2022-09-05T00:38:20.301Z"
   },
   {
    "duration": 111,
    "start_time": "2022-09-05T00:38:20.415Z"
   },
   {
    "duration": 123,
    "start_time": "2022-09-05T00:38:20.527Z"
   },
   {
    "duration": 25,
    "start_time": "2022-09-05T00:38:20.652Z"
   },
   {
    "duration": 15,
    "start_time": "2022-09-05T00:38:20.679Z"
   },
   {
    "duration": 3,
    "start_time": "2022-09-05T00:38:20.695Z"
   },
   {
    "duration": 10,
    "start_time": "2022-09-05T00:38:20.700Z"
   },
   {
    "duration": 28,
    "start_time": "2022-09-05T00:38:20.711Z"
   },
   {
    "duration": 5,
    "start_time": "2022-09-05T00:38:20.741Z"
   },
   {
    "duration": 4,
    "start_time": "2022-09-05T00:38:20.768Z"
   },
   {
    "duration": 283,
    "start_time": "2022-09-05T00:38:20.774Z"
   },
   {
    "duration": 427,
    "start_time": "2022-09-05T00:38:21.058Z"
   },
   {
    "duration": 213,
    "start_time": "2022-09-05T00:38:21.487Z"
   },
   {
    "duration": 273,
    "start_time": "2022-09-05T00:38:21.704Z"
   },
   {
    "duration": 171,
    "start_time": "2022-09-05T00:38:21.978Z"
   },
   {
    "duration": 199,
    "start_time": "2022-09-05T00:38:22.150Z"
   },
   {
    "duration": 192,
    "start_time": "2022-09-05T00:38:22.352Z"
   },
   {
    "duration": 132,
    "start_time": "2022-09-05T00:38:22.546Z"
   },
   {
    "duration": 191,
    "start_time": "2022-09-05T00:38:22.679Z"
   },
   {
    "duration": 203,
    "start_time": "2022-09-05T00:38:22.871Z"
   },
   {
    "duration": 187,
    "start_time": "2022-09-05T00:38:23.076Z"
   },
   {
    "duration": 335,
    "start_time": "2022-09-05T00:38:23.265Z"
   },
   {
    "duration": 194,
    "start_time": "2022-09-05T00:38:23.601Z"
   },
   {
    "duration": 216,
    "start_time": "2022-09-05T00:38:23.797Z"
   },
   {
    "duration": 219,
    "start_time": "2022-09-05T00:38:24.014Z"
   },
   {
    "duration": 66,
    "start_time": "2022-09-05T00:38:24.234Z"
   },
   {
    "duration": 29,
    "start_time": "2022-09-05T00:38:24.302Z"
   },
   {
    "duration": 49,
    "start_time": "2022-09-05T00:38:24.332Z"
   },
   {
    "duration": 134,
    "start_time": "2022-09-05T00:38:24.383Z"
   },
   {
    "duration": 4,
    "start_time": "2022-09-05T00:38:24.519Z"
   },
   {
    "duration": 151,
    "start_time": "2022-09-05T00:38:24.524Z"
   },
   {
    "duration": 132,
    "start_time": "2022-09-05T00:38:24.676Z"
   },
   {
    "duration": 165,
    "start_time": "2022-09-05T00:38:24.809Z"
   },
   {
    "duration": 151,
    "start_time": "2022-09-05T00:38:24.975Z"
   },
   {
    "duration": 229,
    "start_time": "2022-09-05T00:38:25.128Z"
   },
   {
    "duration": 11,
    "start_time": "2022-09-05T00:38:25.359Z"
   },
   {
    "duration": 164,
    "start_time": "2022-09-05T00:38:25.372Z"
   },
   {
    "duration": 5,
    "start_time": "2022-09-05T00:38:25.537Z"
   },
   {
    "duration": 141,
    "start_time": "2022-09-05T00:38:25.543Z"
   },
   {
    "duration": 4,
    "start_time": "2022-09-05T00:38:25.686Z"
   },
   {
    "duration": 25,
    "start_time": "2022-09-05T00:38:25.691Z"
   },
   {
    "duration": 167,
    "start_time": "2022-09-05T00:38:25.717Z"
   },
   {
    "duration": 2,
    "start_time": "2022-09-05T00:38:25.886Z"
   },
   {
    "duration": 2567,
    "start_time": "2022-09-05T00:38:25.889Z"
   },
   {
    "duration": 324,
    "start_time": "2022-09-05T00:38:28.457Z"
   },
   {
    "duration": 109,
    "start_time": "2022-09-05T00:38:28.782Z"
   },
   {
    "duration": 91,
    "start_time": "2022-09-05T00:38:28.893Z"
   },
   {
    "duration": 16,
    "start_time": "2022-09-05T00:40:39.985Z"
   },
   {
    "duration": 104,
    "start_time": "2022-09-05T00:42:42.730Z"
   },
   {
    "duration": 2982,
    "start_time": "2022-09-05T00:43:58.326Z"
   },
   {
    "duration": 8,
    "start_time": "2022-09-05T00:44:01.310Z"
   },
   {
    "duration": 10,
    "start_time": "2022-09-05T00:44:01.320Z"
   },
   {
    "duration": 238,
    "start_time": "2022-09-05T00:44:01.332Z"
   },
   {
    "duration": 222,
    "start_time": "2022-09-05T00:44:01.572Z"
   },
   {
    "duration": 39,
    "start_time": "2022-09-05T00:44:01.795Z"
   },
   {
    "duration": 6,
    "start_time": "2022-09-05T00:44:01.835Z"
   },
   {
    "duration": 35,
    "start_time": "2022-09-05T00:44:01.843Z"
   },
   {
    "duration": 4,
    "start_time": "2022-09-05T00:44:01.879Z"
   },
   {
    "duration": 7,
    "start_time": "2022-09-05T00:44:01.886Z"
   },
   {
    "duration": 84,
    "start_time": "2022-09-05T00:44:01.894Z"
   },
   {
    "duration": 49,
    "start_time": "2022-09-05T00:44:01.980Z"
   },
   {
    "duration": 14,
    "start_time": "2022-09-05T00:44:02.031Z"
   },
   {
    "duration": 138,
    "start_time": "2022-09-05T00:44:02.047Z"
   },
   {
    "duration": 117,
    "start_time": "2022-09-05T00:44:02.187Z"
   },
   {
    "duration": 119,
    "start_time": "2022-09-05T00:44:02.305Z"
   },
   {
    "duration": 120,
    "start_time": "2022-09-05T00:44:02.426Z"
   },
   {
    "duration": 25,
    "start_time": "2022-09-05T00:44:02.547Z"
   },
   {
    "duration": 22,
    "start_time": "2022-09-05T00:44:02.574Z"
   },
   {
    "duration": 15,
    "start_time": "2022-09-05T00:44:02.597Z"
   },
   {
    "duration": 4,
    "start_time": "2022-09-05T00:44:02.613Z"
   },
   {
    "duration": 9,
    "start_time": "2022-09-05T00:44:02.618Z"
   },
   {
    "duration": 53,
    "start_time": "2022-09-05T00:44:02.629Z"
   },
   {
    "duration": 4,
    "start_time": "2022-09-05T00:44:02.684Z"
   },
   {
    "duration": 12,
    "start_time": "2022-09-05T00:44:02.689Z"
   },
   {
    "duration": 267,
    "start_time": "2022-09-05T00:44:02.703Z"
   },
   {
    "duration": 410,
    "start_time": "2022-09-05T00:44:02.971Z"
   },
   {
    "duration": 209,
    "start_time": "2022-09-05T00:44:03.384Z"
   },
   {
    "duration": 265,
    "start_time": "2022-09-05T00:44:03.595Z"
   },
   {
    "duration": 180,
    "start_time": "2022-09-05T00:44:03.862Z"
   },
   {
    "duration": 198,
    "start_time": "2022-09-05T00:44:04.044Z"
   },
   {
    "duration": 192,
    "start_time": "2022-09-05T00:44:04.243Z"
   },
   {
    "duration": 123,
    "start_time": "2022-09-05T00:44:04.437Z"
   },
   {
    "duration": 203,
    "start_time": "2022-09-05T00:44:04.567Z"
   },
   {
    "duration": 204,
    "start_time": "2022-09-05T00:44:04.772Z"
   },
   {
    "duration": 196,
    "start_time": "2022-09-05T00:44:04.977Z"
   },
   {
    "duration": 325,
    "start_time": "2022-09-05T00:44:05.175Z"
   },
   {
    "duration": 198,
    "start_time": "2022-09-05T00:44:05.502Z"
   },
   {
    "duration": 225,
    "start_time": "2022-09-05T00:44:05.701Z"
   },
   {
    "duration": 216,
    "start_time": "2022-09-05T00:44:05.927Z"
   },
   {
    "duration": 67,
    "start_time": "2022-09-05T00:44:06.144Z"
   },
   {
    "duration": 29,
    "start_time": "2022-09-05T00:44:06.213Z"
   },
   {
    "duration": 48,
    "start_time": "2022-09-05T00:44:06.243Z"
   },
   {
    "duration": 135,
    "start_time": "2022-09-05T00:44:06.293Z"
   },
   {
    "duration": 4,
    "start_time": "2022-09-05T00:44:06.429Z"
   },
   {
    "duration": 180,
    "start_time": "2022-09-05T00:44:06.435Z"
   },
   {
    "duration": 172,
    "start_time": "2022-09-05T00:44:06.617Z"
   },
   {
    "duration": 179,
    "start_time": "2022-09-05T00:44:06.790Z"
   },
   {
    "duration": 139,
    "start_time": "2022-09-05T00:44:06.971Z"
   },
   {
    "duration": 236,
    "start_time": "2022-09-05T00:44:07.112Z"
   },
   {
    "duration": 4,
    "start_time": "2022-09-05T00:44:07.349Z"
   },
   {
    "duration": 164,
    "start_time": "2022-09-05T00:44:07.355Z"
   },
   {
    "duration": 5,
    "start_time": "2022-09-05T00:44:07.521Z"
   },
   {
    "duration": 140,
    "start_time": "2022-09-05T00:44:07.527Z"
   },
   {
    "duration": 4,
    "start_time": "2022-09-05T00:44:07.669Z"
   },
   {
    "duration": 18,
    "start_time": "2022-09-05T00:44:07.675Z"
   },
   {
    "duration": 159,
    "start_time": "2022-09-05T00:44:07.695Z"
   },
   {
    "duration": 3,
    "start_time": "2022-09-05T00:44:07.867Z"
   },
   {
    "duration": 2664,
    "start_time": "2022-09-05T00:44:07.871Z"
   },
   {
    "duration": 328,
    "start_time": "2022-09-05T00:44:10.537Z"
   },
   {
    "duration": 113,
    "start_time": "2022-09-05T00:44:10.868Z"
   },
   {
    "duration": 98,
    "start_time": "2022-09-05T00:44:10.983Z"
   },
   {
    "duration": 3036,
    "start_time": "2022-09-05T00:50:29.084Z"
   },
   {
    "duration": 8,
    "start_time": "2022-09-05T00:50:32.122Z"
   },
   {
    "duration": 4,
    "start_time": "2022-09-05T00:50:32.132Z"
   },
   {
    "duration": 229,
    "start_time": "2022-09-05T00:50:32.138Z"
   },
   {
    "duration": 187,
    "start_time": "2022-09-05T00:50:32.369Z"
   },
   {
    "duration": 45,
    "start_time": "2022-09-05T00:50:32.557Z"
   },
   {
    "duration": 7,
    "start_time": "2022-09-05T00:50:32.603Z"
   },
   {
    "duration": 14,
    "start_time": "2022-09-05T00:50:32.611Z"
   },
   {
    "duration": 4,
    "start_time": "2022-09-05T00:50:32.626Z"
   },
   {
    "duration": 7,
    "start_time": "2022-09-05T00:50:32.633Z"
   },
   {
    "duration": 92,
    "start_time": "2022-09-05T00:50:32.641Z"
   },
   {
    "duration": 60,
    "start_time": "2022-09-05T00:50:32.734Z"
   },
   {
    "duration": 14,
    "start_time": "2022-09-05T00:50:32.796Z"
   },
   {
    "duration": 137,
    "start_time": "2022-09-05T00:50:32.811Z"
   },
   {
    "duration": 103,
    "start_time": "2022-09-05T00:50:32.950Z"
   },
   {
    "duration": 138,
    "start_time": "2022-09-05T00:50:33.055Z"
   },
   {
    "duration": 131,
    "start_time": "2022-09-05T00:50:33.195Z"
   },
   {
    "duration": 13,
    "start_time": "2022-09-05T00:50:33.329Z"
   },
   {
    "duration": 36,
    "start_time": "2022-09-05T00:50:33.344Z"
   },
   {
    "duration": 16,
    "start_time": "2022-09-05T00:50:33.381Z"
   },
   {
    "duration": 4,
    "start_time": "2022-09-05T00:50:33.399Z"
   },
   {
    "duration": 12,
    "start_time": "2022-09-05T00:50:33.404Z"
   },
   {
    "duration": 51,
    "start_time": "2022-09-05T00:50:33.417Z"
   },
   {
    "duration": 5,
    "start_time": "2022-09-05T00:50:33.469Z"
   },
   {
    "duration": 6,
    "start_time": "2022-09-05T00:50:33.476Z"
   },
   {
    "duration": 294,
    "start_time": "2022-09-05T00:50:33.484Z"
   },
   {
    "duration": 421,
    "start_time": "2022-09-05T00:50:33.780Z"
   },
   {
    "duration": 197,
    "start_time": "2022-09-05T00:50:34.204Z"
   },
   {
    "duration": 280,
    "start_time": "2022-09-05T00:50:34.402Z"
   },
   {
    "duration": 170,
    "start_time": "2022-09-05T00:50:34.683Z"
   },
   {
    "duration": 213,
    "start_time": "2022-09-05T00:50:34.854Z"
   },
   {
    "duration": 196,
    "start_time": "2022-09-05T00:50:35.069Z"
   },
   {
    "duration": 128,
    "start_time": "2022-09-05T00:50:35.268Z"
   },
   {
    "duration": 207,
    "start_time": "2022-09-05T00:50:35.397Z"
   },
   {
    "duration": 211,
    "start_time": "2022-09-05T00:50:35.606Z"
   },
   {
    "duration": 199,
    "start_time": "2022-09-05T00:50:35.818Z"
   },
   {
    "duration": 339,
    "start_time": "2022-09-05T00:50:36.019Z"
   },
   {
    "duration": 231,
    "start_time": "2022-09-05T00:50:36.360Z"
   },
   {
    "duration": 255,
    "start_time": "2022-09-05T00:50:36.593Z"
   },
   {
    "duration": 220,
    "start_time": "2022-09-05T00:50:36.850Z"
   },
   {
    "duration": 60,
    "start_time": "2022-09-05T00:50:37.073Z"
   },
   {
    "duration": 46,
    "start_time": "2022-09-05T00:50:37.135Z"
   },
   {
    "duration": 32,
    "start_time": "2022-09-05T00:50:37.183Z"
   },
   {
    "duration": 146,
    "start_time": "2022-09-05T00:50:37.217Z"
   },
   {
    "duration": 4,
    "start_time": "2022-09-05T00:50:37.368Z"
   },
   {
    "duration": 163,
    "start_time": "2022-09-05T00:50:37.374Z"
   },
   {
    "duration": 144,
    "start_time": "2022-09-05T00:50:37.539Z"
   },
   {
    "duration": 177,
    "start_time": "2022-09-05T00:50:37.685Z"
   },
   {
    "duration": 139,
    "start_time": "2022-09-05T00:50:37.863Z"
   },
   {
    "duration": 245,
    "start_time": "2022-09-05T00:50:38.003Z"
   },
   {
    "duration": 17,
    "start_time": "2022-09-05T00:50:38.250Z"
   },
   {
    "duration": 158,
    "start_time": "2022-09-05T00:50:38.269Z"
   },
   {
    "duration": 5,
    "start_time": "2022-09-05T00:50:38.428Z"
   },
   {
    "duration": 157,
    "start_time": "2022-09-05T00:50:38.434Z"
   },
   {
    "duration": 5,
    "start_time": "2022-09-05T00:50:38.592Z"
   },
   {
    "duration": 22,
    "start_time": "2022-09-05T00:50:38.599Z"
   },
   {
    "duration": 190,
    "start_time": "2022-09-05T00:50:38.623Z"
   },
   {
    "duration": 2,
    "start_time": "2022-09-05T00:50:38.815Z"
   },
   {
    "duration": 2956,
    "start_time": "2022-09-05T00:50:38.819Z"
   },
   {
    "duration": 366,
    "start_time": "2022-09-05T00:50:41.777Z"
   },
   {
    "duration": 123,
    "start_time": "2022-09-05T00:50:42.145Z"
   },
   {
    "duration": 101,
    "start_time": "2022-09-05T00:50:42.270Z"
   },
   {
    "duration": 48,
    "start_time": "2022-09-05T05:53:32.459Z"
   },
   {
    "duration": 4351,
    "start_time": "2022-09-05T05:53:43.023Z"
   },
   {
    "duration": 9,
    "start_time": "2022-09-05T05:53:47.376Z"
   },
   {
    "duration": 6,
    "start_time": "2022-09-05T05:53:47.386Z"
   },
   {
    "duration": 222,
    "start_time": "2022-09-05T05:53:47.394Z"
   },
   {
    "duration": 193,
    "start_time": "2022-09-05T05:53:47.618Z"
   },
   {
    "duration": 39,
    "start_time": "2022-09-05T05:53:47.813Z"
   },
   {
    "duration": 6,
    "start_time": "2022-09-05T05:53:47.853Z"
   },
   {
    "duration": 37,
    "start_time": "2022-09-05T05:53:47.860Z"
   },
   {
    "duration": 3,
    "start_time": "2022-09-05T05:53:47.899Z"
   },
   {
    "duration": 7,
    "start_time": "2022-09-05T05:53:47.904Z"
   },
   {
    "duration": 83,
    "start_time": "2022-09-05T05:53:47.912Z"
   },
   {
    "duration": 49,
    "start_time": "2022-09-05T05:53:47.997Z"
   },
   {
    "duration": 15,
    "start_time": "2022-09-05T05:53:48.048Z"
   },
   {
    "duration": 136,
    "start_time": "2022-09-05T05:53:48.065Z"
   },
   {
    "duration": 113,
    "start_time": "2022-09-05T05:53:48.203Z"
   },
   {
    "duration": 121,
    "start_time": "2022-09-05T05:53:48.318Z"
   },
   {
    "duration": 122,
    "start_time": "2022-09-05T05:53:48.441Z"
   },
   {
    "duration": 22,
    "start_time": "2022-09-05T05:53:48.565Z"
   },
   {
    "duration": 20,
    "start_time": "2022-09-05T05:53:48.588Z"
   },
   {
    "duration": 13,
    "start_time": "2022-09-05T05:53:48.610Z"
   },
   {
    "duration": 3,
    "start_time": "2022-09-05T05:53:48.625Z"
   },
   {
    "duration": 8,
    "start_time": "2022-09-05T05:53:48.630Z"
   },
   {
    "duration": 61,
    "start_time": "2022-09-05T05:53:48.640Z"
   },
   {
    "duration": 4,
    "start_time": "2022-09-05T05:53:48.702Z"
   },
   {
    "duration": 6,
    "start_time": "2022-09-05T05:53:48.708Z"
   },
   {
    "duration": 289,
    "start_time": "2022-09-05T05:53:48.715Z"
   },
   {
    "duration": 391,
    "start_time": "2022-09-05T05:53:49.006Z"
   },
   {
    "duration": 206,
    "start_time": "2022-09-05T05:53:49.400Z"
   },
   {
    "duration": 273,
    "start_time": "2022-09-05T05:53:49.608Z"
   },
   {
    "duration": 185,
    "start_time": "2022-09-05T05:53:49.886Z"
   },
   {
    "duration": 208,
    "start_time": "2022-09-05T05:53:50.072Z"
   },
   {
    "duration": 197,
    "start_time": "2022-09-05T05:53:50.281Z"
   },
   {
    "duration": 112,
    "start_time": "2022-09-05T05:53:50.480Z"
   },
   {
    "duration": 183,
    "start_time": "2022-09-05T05:53:50.593Z"
   },
   {
    "duration": 195,
    "start_time": "2022-09-05T05:53:50.778Z"
   },
   {
    "duration": 281,
    "start_time": "2022-09-05T05:53:50.975Z"
   },
   {
    "duration": 211,
    "start_time": "2022-09-05T05:53:51.258Z"
   },
   {
    "duration": 209,
    "start_time": "2022-09-05T05:53:51.470Z"
   },
   {
    "duration": 227,
    "start_time": "2022-09-05T05:53:51.681Z"
   },
   {
    "duration": 229,
    "start_time": "2022-09-05T05:53:51.910Z"
   },
   {
    "duration": 73,
    "start_time": "2022-09-05T05:53:52.141Z"
   },
   {
    "duration": 29,
    "start_time": "2022-09-05T05:53:52.215Z"
   },
   {
    "duration": 49,
    "start_time": "2022-09-05T05:53:52.245Z"
   },
   {
    "duration": 154,
    "start_time": "2022-09-05T05:53:52.295Z"
   },
   {
    "duration": 4,
    "start_time": "2022-09-05T05:53:52.451Z"
   },
   {
    "duration": 139,
    "start_time": "2022-09-05T05:53:52.457Z"
   },
   {
    "duration": 135,
    "start_time": "2022-09-05T05:53:52.597Z"
   },
   {
    "duration": 140,
    "start_time": "2022-09-05T05:53:52.733Z"
   },
   {
    "duration": 228,
    "start_time": "2022-09-05T05:53:52.874Z"
   },
   {
    "duration": 137,
    "start_time": "2022-09-05T05:53:53.104Z"
   },
   {
    "duration": 5,
    "start_time": "2022-09-05T05:53:53.242Z"
   },
   {
    "duration": 144,
    "start_time": "2022-09-05T05:53:53.248Z"
   },
   {
    "duration": 4,
    "start_time": "2022-09-05T05:53:53.394Z"
   },
   {
    "duration": 164,
    "start_time": "2022-09-05T05:53:53.399Z"
   },
   {
    "duration": 4,
    "start_time": "2022-09-05T05:53:53.564Z"
   },
   {
    "duration": 28,
    "start_time": "2022-09-05T05:53:53.570Z"
   },
   {
    "duration": 149,
    "start_time": "2022-09-05T05:53:53.600Z"
   },
   {
    "duration": 2,
    "start_time": "2022-09-05T05:53:53.751Z"
   },
   {
    "duration": 2724,
    "start_time": "2022-09-05T05:53:53.754Z"
   },
   {
    "duration": 352,
    "start_time": "2022-09-05T05:53:56.479Z"
   },
   {
    "duration": 111,
    "start_time": "2022-09-05T05:53:56.832Z"
   },
   {
    "duration": 96,
    "start_time": "2022-09-05T05:53:56.945Z"
   },
   {
    "duration": 4092,
    "start_time": "2022-09-05T05:54:16.534Z"
   },
   {
    "duration": 9,
    "start_time": "2022-09-05T05:54:20.629Z"
   },
   {
    "duration": 9,
    "start_time": "2022-09-05T05:54:20.640Z"
   },
   {
    "duration": 246,
    "start_time": "2022-09-05T05:54:20.651Z"
   },
   {
    "duration": 201,
    "start_time": "2022-09-05T05:54:20.899Z"
   },
   {
    "duration": 42,
    "start_time": "2022-09-05T05:54:21.102Z"
   },
   {
    "duration": 6,
    "start_time": "2022-09-05T05:54:21.146Z"
   },
   {
    "duration": 35,
    "start_time": "2022-09-05T05:54:21.154Z"
   },
   {
    "duration": 3,
    "start_time": "2022-09-05T05:54:21.191Z"
   },
   {
    "duration": 10,
    "start_time": "2022-09-05T05:54:21.196Z"
   },
   {
    "duration": 89,
    "start_time": "2022-09-05T05:54:21.208Z"
   },
   {
    "duration": 50,
    "start_time": "2022-09-05T05:54:21.299Z"
   },
   {
    "duration": 14,
    "start_time": "2022-09-05T05:54:21.351Z"
   },
   {
    "duration": 229,
    "start_time": "2022-09-05T05:54:21.367Z"
   },
   {
    "duration": 207,
    "start_time": "2022-09-05T05:54:21.598Z"
   },
   {
    "duration": 218,
    "start_time": "2022-09-05T05:54:21.807Z"
   },
   {
    "duration": 284,
    "start_time": "2022-09-05T05:54:22.026Z"
   },
   {
    "duration": 13,
    "start_time": "2022-09-05T05:54:22.311Z"
   },
   {
    "duration": 75,
    "start_time": "2022-09-05T05:54:22.325Z"
   },
   {
    "duration": 15,
    "start_time": "2022-09-05T05:54:22.402Z"
   },
   {
    "duration": 3,
    "start_time": "2022-09-05T05:54:22.419Z"
   },
   {
    "duration": 7,
    "start_time": "2022-09-05T05:54:22.424Z"
   },
   {
    "duration": 83,
    "start_time": "2022-09-05T05:54:22.432Z"
   },
   {
    "duration": 5,
    "start_time": "2022-09-05T05:54:22.517Z"
   },
   {
    "duration": 6,
    "start_time": "2022-09-05T05:54:22.523Z"
   },
   {
    "duration": 659,
    "start_time": "2022-09-05T05:54:22.530Z"
   },
   {
    "duration": 501,
    "start_time": "2022-09-05T05:54:23.191Z"
   },
   {
    "duration": 209,
    "start_time": "2022-09-05T05:54:23.695Z"
   },
   {
    "duration": 291,
    "start_time": "2022-09-05T05:54:23.906Z"
   },
   {
    "duration": 182,
    "start_time": "2022-09-05T05:54:24.199Z"
   },
   {
    "duration": 211,
    "start_time": "2022-09-05T05:54:24.382Z"
   },
   {
    "duration": 193,
    "start_time": "2022-09-05T05:54:24.594Z"
   },
   {
    "duration": 137,
    "start_time": "2022-09-05T05:54:24.789Z"
   },
   {
    "duration": 211,
    "start_time": "2022-09-05T05:54:24.927Z"
   },
   {
    "duration": 211,
    "start_time": "2022-09-05T05:54:25.139Z"
   },
   {
    "duration": 193,
    "start_time": "2022-09-05T05:54:25.352Z"
   },
   {
    "duration": 314,
    "start_time": "2022-09-05T05:54:25.547Z"
   },
   {
    "duration": 199,
    "start_time": "2022-09-05T05:54:25.863Z"
   },
   {
    "duration": 259,
    "start_time": "2022-09-05T05:54:26.063Z"
   },
   {
    "duration": 249,
    "start_time": "2022-09-05T05:54:26.324Z"
   },
   {
    "duration": 79,
    "start_time": "2022-09-05T05:54:26.575Z"
   },
   {
    "duration": 40,
    "start_time": "2022-09-05T05:54:26.656Z"
   },
   {
    "duration": 31,
    "start_time": "2022-09-05T05:54:26.697Z"
   },
   {
    "duration": 205,
    "start_time": "2022-09-05T05:54:26.730Z"
   },
   {
    "duration": 5,
    "start_time": "2022-09-05T05:54:26.937Z"
   },
   {
    "duration": 156,
    "start_time": "2022-09-05T05:54:26.943Z"
   },
   {
    "duration": 143,
    "start_time": "2022-09-05T05:54:27.101Z"
   },
   {
    "duration": 349,
    "start_time": "2022-09-05T05:54:27.246Z"
   },
   {
    "duration": 196,
    "start_time": "2022-09-05T05:54:27.597Z"
   },
   {
    "duration": 250,
    "start_time": "2022-09-05T05:54:27.794Z"
   },
   {
    "duration": 4,
    "start_time": "2022-09-05T05:54:28.045Z"
   },
   {
    "duration": 152,
    "start_time": "2022-09-05T05:54:28.051Z"
   },
   {
    "duration": 4,
    "start_time": "2022-09-05T05:54:28.205Z"
   },
   {
    "duration": 151,
    "start_time": "2022-09-05T05:54:28.211Z"
   },
   {
    "duration": 4,
    "start_time": "2022-09-05T05:54:28.364Z"
   },
   {
    "duration": 27,
    "start_time": "2022-09-05T05:54:28.369Z"
   },
   {
    "duration": 155,
    "start_time": "2022-09-05T05:54:28.398Z"
   },
   {
    "duration": 3,
    "start_time": "2022-09-05T05:54:28.554Z"
   },
   {
    "duration": 2657,
    "start_time": "2022-09-05T05:54:28.558Z"
   },
   {
    "duration": 347,
    "start_time": "2022-09-05T05:54:31.217Z"
   },
   {
    "duration": 116,
    "start_time": "2022-09-05T05:54:31.566Z"
   },
   {
    "duration": 93,
    "start_time": "2022-09-05T05:54:31.684Z"
   },
   {
    "duration": 17,
    "start_time": "2022-09-05T05:54:32.649Z"
   },
   {
    "duration": 3119,
    "start_time": "2022-09-05T05:54:37.643Z"
   },
   {
    "duration": 10,
    "start_time": "2022-09-05T05:54:40.764Z"
   },
   {
    "duration": 7,
    "start_time": "2022-09-05T05:54:40.775Z"
   },
   {
    "duration": 229,
    "start_time": "2022-09-05T05:54:40.784Z"
   },
   {
    "duration": 196,
    "start_time": "2022-09-05T05:54:41.015Z"
   },
   {
    "duration": 44,
    "start_time": "2022-09-05T05:54:41.212Z"
   },
   {
    "duration": 6,
    "start_time": "2022-09-05T05:54:41.258Z"
   },
   {
    "duration": 30,
    "start_time": "2022-09-05T05:54:41.266Z"
   },
   {
    "duration": 4,
    "start_time": "2022-09-05T05:54:41.297Z"
   },
   {
    "duration": 10,
    "start_time": "2022-09-05T05:54:41.303Z"
   },
   {
    "duration": 82,
    "start_time": "2022-09-05T05:54:41.314Z"
   },
   {
    "duration": 50,
    "start_time": "2022-09-05T05:54:41.397Z"
   },
   {
    "duration": 13,
    "start_time": "2022-09-05T05:54:41.449Z"
   },
   {
    "duration": 141,
    "start_time": "2022-09-05T05:54:41.464Z"
   },
   {
    "duration": 112,
    "start_time": "2022-09-05T05:54:41.607Z"
   },
   {
    "duration": 121,
    "start_time": "2022-09-05T05:54:41.721Z"
   },
   {
    "duration": 128,
    "start_time": "2022-09-05T05:54:41.844Z"
   },
   {
    "duration": 22,
    "start_time": "2022-09-05T05:54:41.973Z"
   },
   {
    "duration": 19,
    "start_time": "2022-09-05T05:54:41.996Z"
   },
   {
    "duration": 17,
    "start_time": "2022-09-05T05:54:42.017Z"
   },
   {
    "duration": 4,
    "start_time": "2022-09-05T05:54:42.035Z"
   },
   {
    "duration": 12,
    "start_time": "2022-09-05T05:54:42.040Z"
   },
   {
    "duration": 64,
    "start_time": "2022-09-05T05:54:42.054Z"
   },
   {
    "duration": 4,
    "start_time": "2022-09-05T05:54:42.119Z"
   },
   {
    "duration": 8,
    "start_time": "2022-09-05T05:54:42.125Z"
   },
   {
    "duration": 286,
    "start_time": "2022-09-05T05:54:42.135Z"
   },
   {
    "duration": 397,
    "start_time": "2022-09-05T05:54:42.422Z"
   },
   {
    "duration": 202,
    "start_time": "2022-09-05T05:54:42.823Z"
   },
   {
    "duration": 279,
    "start_time": "2022-09-05T05:54:43.026Z"
   },
   {
    "duration": 184,
    "start_time": "2022-09-05T05:54:43.307Z"
   },
   {
    "duration": 202,
    "start_time": "2022-09-05T05:54:43.493Z"
   },
   {
    "duration": 204,
    "start_time": "2022-09-05T05:54:43.697Z"
   },
   {
    "duration": 120,
    "start_time": "2022-09-05T05:54:43.903Z"
   },
   {
    "duration": 200,
    "start_time": "2022-09-05T05:54:44.025Z"
   },
   {
    "duration": 199,
    "start_time": "2022-09-05T05:54:44.227Z"
   },
   {
    "duration": 283,
    "start_time": "2022-09-05T05:54:44.428Z"
   },
   {
    "duration": 210,
    "start_time": "2022-09-05T05:54:44.712Z"
   },
   {
    "duration": 200,
    "start_time": "2022-09-05T05:54:44.923Z"
   },
   {
    "duration": 230,
    "start_time": "2022-09-05T05:54:45.124Z"
   },
   {
    "duration": 205,
    "start_time": "2022-09-05T05:54:45.355Z"
   },
   {
    "duration": 68,
    "start_time": "2022-09-05T05:54:45.561Z"
   },
   {
    "duration": 30,
    "start_time": "2022-09-05T05:54:45.630Z"
   },
   {
    "duration": 52,
    "start_time": "2022-09-05T05:54:45.662Z"
   },
   {
    "duration": 155,
    "start_time": "2022-09-05T05:54:45.715Z"
   },
   {
    "duration": 5,
    "start_time": "2022-09-05T05:54:45.871Z"
   },
   {
    "duration": 156,
    "start_time": "2022-09-05T05:54:45.886Z"
   },
   {
    "duration": 147,
    "start_time": "2022-09-05T05:54:46.044Z"
   },
   {
    "duration": 197,
    "start_time": "2022-09-05T05:54:46.193Z"
   },
   {
    "duration": 244,
    "start_time": "2022-09-05T05:54:46.392Z"
   },
   {
    "duration": 137,
    "start_time": "2022-09-05T05:54:46.638Z"
   },
   {
    "duration": 5,
    "start_time": "2022-09-05T05:54:46.776Z"
   },
   {
    "duration": 132,
    "start_time": "2022-09-05T05:54:46.786Z"
   },
   {
    "duration": 5,
    "start_time": "2022-09-05T05:54:46.920Z"
   },
   {
    "duration": 156,
    "start_time": "2022-09-05T05:54:46.927Z"
   },
   {
    "duration": 4,
    "start_time": "2022-09-05T05:54:47.087Z"
   },
   {
    "duration": 20,
    "start_time": "2022-09-05T05:54:47.092Z"
   },
   {
    "duration": 146,
    "start_time": "2022-09-05T05:54:47.114Z"
   },
   {
    "duration": 3,
    "start_time": "2022-09-05T05:54:47.261Z"
   },
   {
    "duration": 2716,
    "start_time": "2022-09-05T05:54:47.265Z"
   },
   {
    "duration": 343,
    "start_time": "2022-09-05T05:54:49.983Z"
   },
   {
    "duration": 116,
    "start_time": "2022-09-05T05:54:50.328Z"
   },
   {
    "duration": 96,
    "start_time": "2022-09-05T05:54:50.445Z"
   },
   {
    "duration": 19,
    "start_time": "2022-09-05T06:08:45.116Z"
   },
   {
    "duration": 4266,
    "start_time": "2022-09-05T06:08:57.273Z"
   },
   {
    "duration": 10,
    "start_time": "2022-09-05T06:09:01.541Z"
   },
   {
    "duration": 33,
    "start_time": "2022-09-05T06:09:01.552Z"
   },
   {
    "duration": 289,
    "start_time": "2022-09-05T06:09:01.588Z"
   },
   {
    "duration": 219,
    "start_time": "2022-09-05T06:09:01.879Z"
   },
   {
    "duration": 47,
    "start_time": "2022-09-05T06:09:02.101Z"
   },
   {
    "duration": 6,
    "start_time": "2022-09-05T06:09:02.150Z"
   },
   {
    "duration": 37,
    "start_time": "2022-09-05T06:09:02.158Z"
   },
   {
    "duration": 10,
    "start_time": "2022-09-05T06:09:02.197Z"
   },
   {
    "duration": 26,
    "start_time": "2022-09-05T06:09:02.210Z"
   },
   {
    "duration": 113,
    "start_time": "2022-09-05T06:09:02.238Z"
   },
   {
    "duration": 60,
    "start_time": "2022-09-05T06:09:02.353Z"
   },
   {
    "duration": 15,
    "start_time": "2022-09-05T06:09:02.414Z"
   },
   {
    "duration": 140,
    "start_time": "2022-09-05T06:09:02.431Z"
   },
   {
    "duration": 126,
    "start_time": "2022-09-05T06:09:02.573Z"
   },
   {
    "duration": 133,
    "start_time": "2022-09-05T06:09:02.701Z"
   },
   {
    "duration": 133,
    "start_time": "2022-09-05T06:09:02.836Z"
   },
   {
    "duration": 23,
    "start_time": "2022-09-05T06:09:02.970Z"
   },
   {
    "duration": 22,
    "start_time": "2022-09-05T06:09:02.995Z"
   },
   {
    "duration": 16,
    "start_time": "2022-09-05T06:09:03.019Z"
   },
   {
    "duration": 4,
    "start_time": "2022-09-05T06:09:03.037Z"
   },
   {
    "duration": 19,
    "start_time": "2022-09-05T06:09:03.042Z"
   },
   {
    "duration": 70,
    "start_time": "2022-09-05T06:09:03.063Z"
   },
   {
    "duration": 5,
    "start_time": "2022-09-05T06:09:03.135Z"
   },
   {
    "duration": 32,
    "start_time": "2022-09-05T06:09:03.142Z"
   },
   {
    "duration": 330,
    "start_time": "2022-09-05T06:09:03.175Z"
   },
   {
    "duration": 435,
    "start_time": "2022-09-05T06:09:03.507Z"
   },
   {
    "duration": 228,
    "start_time": "2022-09-05T06:09:03.946Z"
   },
   {
    "duration": 330,
    "start_time": "2022-09-05T06:09:04.175Z"
   },
   {
    "duration": 196,
    "start_time": "2022-09-05T06:09:04.508Z"
   },
   {
    "duration": 228,
    "start_time": "2022-09-05T06:09:04.706Z"
   },
   {
    "duration": 207,
    "start_time": "2022-09-05T06:09:04.935Z"
   },
   {
    "duration": 130,
    "start_time": "2022-09-05T06:09:05.143Z"
   },
   {
    "duration": 232,
    "start_time": "2022-09-05T06:09:05.275Z"
   },
   {
    "duration": 235,
    "start_time": "2022-09-05T06:09:05.508Z"
   },
   {
    "duration": 360,
    "start_time": "2022-09-05T06:09:05.745Z"
   },
   {
    "duration": 306,
    "start_time": "2022-09-05T06:09:06.106Z"
   },
   {
    "duration": 307,
    "start_time": "2022-09-05T06:09:06.415Z"
   },
   {
    "duration": 250,
    "start_time": "2022-09-05T06:09:06.724Z"
   },
   {
    "duration": 237,
    "start_time": "2022-09-05T06:09:06.976Z"
   },
   {
    "duration": 75,
    "start_time": "2022-09-05T06:09:07.215Z"
   },
   {
    "duration": 46,
    "start_time": "2022-09-05T06:09:07.292Z"
   },
   {
    "duration": 59,
    "start_time": "2022-09-05T06:09:07.340Z"
   },
   {
    "duration": 182,
    "start_time": "2022-09-05T06:09:07.401Z"
   },
   {
    "duration": 5,
    "start_time": "2022-09-05T06:09:07.587Z"
   },
   {
    "duration": 164,
    "start_time": "2022-09-05T06:09:07.594Z"
   },
   {
    "duration": 154,
    "start_time": "2022-09-05T06:09:07.760Z"
   },
   {
    "duration": 176,
    "start_time": "2022-09-05T06:09:07.916Z"
   },
   {
    "duration": 265,
    "start_time": "2022-09-05T06:09:08.094Z"
   },
   {
    "duration": 174,
    "start_time": "2022-09-05T06:09:08.361Z"
   },
   {
    "duration": 5,
    "start_time": "2022-09-05T06:09:08.537Z"
   },
   {
    "duration": 157,
    "start_time": "2022-09-05T06:09:08.544Z"
   },
   {
    "duration": 5,
    "start_time": "2022-09-05T06:09:08.702Z"
   },
   {
    "duration": 172,
    "start_time": "2022-09-05T06:09:08.709Z"
   },
   {
    "duration": 7,
    "start_time": "2022-09-05T06:09:08.882Z"
   },
   {
    "duration": 22,
    "start_time": "2022-09-05T06:09:08.891Z"
   },
   {
    "duration": 193,
    "start_time": "2022-09-05T06:09:08.915Z"
   },
   {
    "duration": 2,
    "start_time": "2022-09-05T06:09:09.110Z"
   },
   {
    "duration": 2910,
    "start_time": "2022-09-05T06:09:09.114Z"
   },
   {
    "duration": 379,
    "start_time": "2022-09-05T06:09:12.026Z"
   },
   {
    "duration": 118,
    "start_time": "2022-09-05T06:09:12.407Z"
   },
   {
    "duration": 101,
    "start_time": "2022-09-05T06:09:12.527Z"
   },
   {
    "duration": 104,
    "start_time": "2022-09-05T06:11:29.074Z"
   },
   {
    "duration": 4203,
    "start_time": "2022-09-05T06:11:34.323Z"
   },
   {
    "duration": 10,
    "start_time": "2022-09-05T06:11:38.529Z"
   },
   {
    "duration": 16,
    "start_time": "2022-09-05T06:11:38.541Z"
   },
   {
    "duration": 266,
    "start_time": "2022-09-05T06:11:38.559Z"
   },
   {
    "duration": 199,
    "start_time": "2022-09-05T06:11:38.828Z"
   },
   {
    "duration": 40,
    "start_time": "2022-09-05T06:11:39.029Z"
   },
   {
    "duration": 16,
    "start_time": "2022-09-05T06:11:39.071Z"
   },
   {
    "duration": 29,
    "start_time": "2022-09-05T06:11:39.089Z"
   },
   {
    "duration": 5,
    "start_time": "2022-09-05T06:11:39.120Z"
   },
   {
    "duration": 15,
    "start_time": "2022-09-05T06:11:39.128Z"
   },
   {
    "duration": 84,
    "start_time": "2022-09-05T06:11:39.145Z"
   },
   {
    "duration": 60,
    "start_time": "2022-09-05T06:11:39.231Z"
   },
   {
    "duration": 15,
    "start_time": "2022-09-05T06:11:39.293Z"
   },
   {
    "duration": 140,
    "start_time": "2022-09-05T06:11:39.310Z"
   },
   {
    "duration": 110,
    "start_time": "2022-09-05T06:11:39.452Z"
   },
   {
    "duration": 133,
    "start_time": "2022-09-05T06:11:39.563Z"
   },
   {
    "duration": 135,
    "start_time": "2022-09-05T06:11:39.697Z"
   },
   {
    "duration": 13,
    "start_time": "2022-09-05T06:11:39.833Z"
   },
   {
    "duration": 118,
    "start_time": "2022-09-05T06:11:39.847Z"
   },
   {
    "duration": 0,
    "start_time": "2022-09-05T06:11:39.968Z"
   },
   {
    "duration": 0,
    "start_time": "2022-09-05T06:11:39.969Z"
   },
   {
    "duration": 0,
    "start_time": "2022-09-05T06:11:39.970Z"
   },
   {
    "duration": 0,
    "start_time": "2022-09-05T06:11:39.971Z"
   },
   {
    "duration": 0,
    "start_time": "2022-09-05T06:11:39.973Z"
   },
   {
    "duration": 0,
    "start_time": "2022-09-05T06:11:39.987Z"
   },
   {
    "duration": 0,
    "start_time": "2022-09-05T06:11:39.987Z"
   },
   {
    "duration": 0,
    "start_time": "2022-09-05T06:11:39.989Z"
   },
   {
    "duration": 0,
    "start_time": "2022-09-05T06:11:39.990Z"
   },
   {
    "duration": 0,
    "start_time": "2022-09-05T06:11:39.991Z"
   },
   {
    "duration": 0,
    "start_time": "2022-09-05T06:11:39.992Z"
   },
   {
    "duration": 0,
    "start_time": "2022-09-05T06:11:39.993Z"
   },
   {
    "duration": 0,
    "start_time": "2022-09-05T06:11:39.994Z"
   },
   {
    "duration": 0,
    "start_time": "2022-09-05T06:11:39.995Z"
   },
   {
    "duration": 0,
    "start_time": "2022-09-05T06:11:39.996Z"
   },
   {
    "duration": 0,
    "start_time": "2022-09-05T06:11:39.997Z"
   },
   {
    "duration": 0,
    "start_time": "2022-09-05T06:11:39.998Z"
   },
   {
    "duration": 0,
    "start_time": "2022-09-05T06:11:39.999Z"
   },
   {
    "duration": 0,
    "start_time": "2022-09-05T06:11:40.000Z"
   },
   {
    "duration": 0,
    "start_time": "2022-09-05T06:11:40.001Z"
   },
   {
    "duration": 0,
    "start_time": "2022-09-05T06:11:40.002Z"
   },
   {
    "duration": 0,
    "start_time": "2022-09-05T06:11:40.003Z"
   },
   {
    "duration": 0,
    "start_time": "2022-09-05T06:11:40.004Z"
   },
   {
    "duration": 0,
    "start_time": "2022-09-05T06:11:40.005Z"
   },
   {
    "duration": 0,
    "start_time": "2022-09-05T06:11:40.007Z"
   },
   {
    "duration": 0,
    "start_time": "2022-09-05T06:11:40.008Z"
   },
   {
    "duration": 0,
    "start_time": "2022-09-05T06:11:40.009Z"
   },
   {
    "duration": 0,
    "start_time": "2022-09-05T06:11:40.011Z"
   },
   {
    "duration": 0,
    "start_time": "2022-09-05T06:11:40.012Z"
   },
   {
    "duration": 0,
    "start_time": "2022-09-05T06:11:40.013Z"
   },
   {
    "duration": 0,
    "start_time": "2022-09-05T06:11:40.014Z"
   },
   {
    "duration": 0,
    "start_time": "2022-09-05T06:11:40.015Z"
   },
   {
    "duration": 0,
    "start_time": "2022-09-05T06:11:40.017Z"
   },
   {
    "duration": 0,
    "start_time": "2022-09-05T06:11:40.018Z"
   },
   {
    "duration": 0,
    "start_time": "2022-09-05T06:11:40.019Z"
   },
   {
    "duration": 0,
    "start_time": "2022-09-05T06:11:40.020Z"
   },
   {
    "duration": 0,
    "start_time": "2022-09-05T06:11:40.021Z"
   },
   {
    "duration": 0,
    "start_time": "2022-09-05T06:11:40.022Z"
   },
   {
    "duration": 0,
    "start_time": "2022-09-05T06:11:40.023Z"
   },
   {
    "duration": 0,
    "start_time": "2022-09-05T06:11:40.087Z"
   },
   {
    "duration": 0,
    "start_time": "2022-09-05T06:11:40.088Z"
   },
   {
    "duration": 0,
    "start_time": "2022-09-05T06:11:40.089Z"
   },
   {
    "duration": 0,
    "start_time": "2022-09-05T06:11:40.090Z"
   },
   {
    "duration": 18,
    "start_time": "2022-09-05T06:12:02.522Z"
   },
   {
    "duration": 4285,
    "start_time": "2022-09-05T06:12:08.065Z"
   },
   {
    "duration": 10,
    "start_time": "2022-09-05T06:12:12.352Z"
   },
   {
    "duration": 6,
    "start_time": "2022-09-05T06:12:12.363Z"
   },
   {
    "duration": 228,
    "start_time": "2022-09-05T06:12:12.371Z"
   },
   {
    "duration": 202,
    "start_time": "2022-09-05T06:12:12.601Z"
   },
   {
    "duration": 41,
    "start_time": "2022-09-05T06:12:12.805Z"
   },
   {
    "duration": 7,
    "start_time": "2022-09-05T06:12:12.848Z"
   },
   {
    "duration": 40,
    "start_time": "2022-09-05T06:12:12.857Z"
   },
   {
    "duration": 4,
    "start_time": "2022-09-05T06:12:12.899Z"
   },
   {
    "duration": 9,
    "start_time": "2022-09-05T06:12:12.907Z"
   },
   {
    "duration": 84,
    "start_time": "2022-09-05T06:12:12.918Z"
   },
   {
    "duration": 52,
    "start_time": "2022-09-05T06:12:13.004Z"
   },
   {
    "duration": 32,
    "start_time": "2022-09-05T06:12:13.058Z"
   },
   {
    "duration": 137,
    "start_time": "2022-09-05T06:12:13.092Z"
   },
   {
    "duration": 118,
    "start_time": "2022-09-05T06:12:13.230Z"
   },
   {
    "duration": 126,
    "start_time": "2022-09-05T06:12:13.349Z"
   },
   {
    "duration": 139,
    "start_time": "2022-09-05T06:12:13.477Z"
   },
   {
    "duration": 13,
    "start_time": "2022-09-05T06:12:13.618Z"
   },
   {
    "duration": 118,
    "start_time": "2022-09-05T06:12:13.632Z"
   },
   {
    "duration": 0,
    "start_time": "2022-09-05T06:12:13.752Z"
   },
   {
    "duration": 0,
    "start_time": "2022-09-05T06:12:13.753Z"
   },
   {
    "duration": 0,
    "start_time": "2022-09-05T06:12:13.754Z"
   },
   {
    "duration": 0,
    "start_time": "2022-09-05T06:12:13.755Z"
   },
   {
    "duration": 0,
    "start_time": "2022-09-05T06:12:13.756Z"
   },
   {
    "duration": 0,
    "start_time": "2022-09-05T06:12:13.758Z"
   },
   {
    "duration": 0,
    "start_time": "2022-09-05T06:12:13.759Z"
   },
   {
    "duration": 0,
    "start_time": "2022-09-05T06:12:13.760Z"
   },
   {
    "duration": 0,
    "start_time": "2022-09-05T06:12:13.761Z"
   },
   {
    "duration": 0,
    "start_time": "2022-09-05T06:12:13.762Z"
   },
   {
    "duration": 0,
    "start_time": "2022-09-05T06:12:13.763Z"
   },
   {
    "duration": 0,
    "start_time": "2022-09-05T06:12:13.764Z"
   },
   {
    "duration": 0,
    "start_time": "2022-09-05T06:12:13.787Z"
   },
   {
    "duration": 0,
    "start_time": "2022-09-05T06:12:13.788Z"
   },
   {
    "duration": 0,
    "start_time": "2022-09-05T06:12:13.789Z"
   },
   {
    "duration": 0,
    "start_time": "2022-09-05T06:12:13.790Z"
   },
   {
    "duration": 0,
    "start_time": "2022-09-05T06:12:13.791Z"
   },
   {
    "duration": 0,
    "start_time": "2022-09-05T06:12:13.792Z"
   },
   {
    "duration": 0,
    "start_time": "2022-09-05T06:12:13.793Z"
   },
   {
    "duration": 0,
    "start_time": "2022-09-05T06:12:13.794Z"
   },
   {
    "duration": 0,
    "start_time": "2022-09-05T06:12:13.795Z"
   },
   {
    "duration": 0,
    "start_time": "2022-09-05T06:12:13.796Z"
   },
   {
    "duration": 0,
    "start_time": "2022-09-05T06:12:13.798Z"
   },
   {
    "duration": 0,
    "start_time": "2022-09-05T06:12:13.799Z"
   },
   {
    "duration": 0,
    "start_time": "2022-09-05T06:12:13.800Z"
   },
   {
    "duration": 0,
    "start_time": "2022-09-05T06:12:13.801Z"
   },
   {
    "duration": 0,
    "start_time": "2022-09-05T06:12:13.802Z"
   },
   {
    "duration": 0,
    "start_time": "2022-09-05T06:12:13.804Z"
   },
   {
    "duration": 0,
    "start_time": "2022-09-05T06:12:13.805Z"
   },
   {
    "duration": 0,
    "start_time": "2022-09-05T06:12:13.806Z"
   },
   {
    "duration": 0,
    "start_time": "2022-09-05T06:12:13.808Z"
   },
   {
    "duration": 0,
    "start_time": "2022-09-05T06:12:13.809Z"
   },
   {
    "duration": 0,
    "start_time": "2022-09-05T06:12:13.810Z"
   },
   {
    "duration": 0,
    "start_time": "2022-09-05T06:12:13.811Z"
   },
   {
    "duration": 0,
    "start_time": "2022-09-05T06:12:13.812Z"
   },
   {
    "duration": 0,
    "start_time": "2022-09-05T06:12:13.813Z"
   },
   {
    "duration": 0,
    "start_time": "2022-09-05T06:12:13.814Z"
   },
   {
    "duration": 0,
    "start_time": "2022-09-05T06:12:13.815Z"
   },
   {
    "duration": 0,
    "start_time": "2022-09-05T06:12:13.815Z"
   },
   {
    "duration": 0,
    "start_time": "2022-09-05T06:12:13.817Z"
   },
   {
    "duration": 0,
    "start_time": "2022-09-05T06:12:13.818Z"
   },
   {
    "duration": 0,
    "start_time": "2022-09-05T06:12:13.819Z"
   },
   {
    "duration": 0,
    "start_time": "2022-09-05T06:12:13.820Z"
   },
   {
    "duration": 15,
    "start_time": "2022-09-05T06:12:31.177Z"
   },
   {
    "duration": 14,
    "start_time": "2022-09-05T06:14:43.929Z"
   },
   {
    "duration": 3221,
    "start_time": "2022-09-05T06:14:50.622Z"
   },
   {
    "duration": 49,
    "start_time": "2022-09-05T06:14:53.845Z"
   },
   {
    "duration": 6,
    "start_time": "2022-09-05T06:14:53.896Z"
   },
   {
    "duration": 483,
    "start_time": "2022-09-05T06:14:53.904Z"
   },
   {
    "duration": 403,
    "start_time": "2022-09-05T06:14:54.389Z"
   },
   {
    "duration": 95,
    "start_time": "2022-09-05T06:14:54.794Z"
   },
   {
    "duration": 6,
    "start_time": "2022-09-05T06:14:54.891Z"
   },
   {
    "duration": 18,
    "start_time": "2022-09-05T06:14:54.898Z"
   },
   {
    "duration": 5,
    "start_time": "2022-09-05T06:14:54.917Z"
   },
   {
    "duration": 63,
    "start_time": "2022-09-05T06:14:54.924Z"
   },
   {
    "duration": 125,
    "start_time": "2022-09-05T06:14:54.989Z"
   },
   {
    "duration": 102,
    "start_time": "2022-09-05T06:14:55.116Z"
   },
   {
    "duration": 68,
    "start_time": "2022-09-05T06:14:55.220Z"
   },
   {
    "duration": 236,
    "start_time": "2022-09-05T06:14:55.290Z"
   },
   {
    "duration": 141,
    "start_time": "2022-09-05T06:14:55.528Z"
   },
   {
    "duration": 128,
    "start_time": "2022-09-05T06:14:55.671Z"
   },
   {
    "duration": 138,
    "start_time": "2022-09-05T06:14:55.800Z"
   },
   {
    "duration": 12,
    "start_time": "2022-09-05T06:14:55.940Z"
   },
   {
    "duration": 121,
    "start_time": "2022-09-05T06:14:55.954Z"
   },
   {
    "duration": 0,
    "start_time": "2022-09-05T06:14:56.077Z"
   },
   {
    "duration": 0,
    "start_time": "2022-09-05T06:14:56.079Z"
   },
   {
    "duration": 0,
    "start_time": "2022-09-05T06:14:56.080Z"
   },
   {
    "duration": 0,
    "start_time": "2022-09-05T06:14:56.086Z"
   },
   {
    "duration": 0,
    "start_time": "2022-09-05T06:14:56.087Z"
   },
   {
    "duration": 0,
    "start_time": "2022-09-05T06:14:56.088Z"
   },
   {
    "duration": 0,
    "start_time": "2022-09-05T06:14:56.089Z"
   },
   {
    "duration": 0,
    "start_time": "2022-09-05T06:14:56.090Z"
   },
   {
    "duration": 0,
    "start_time": "2022-09-05T06:14:56.091Z"
   },
   {
    "duration": 0,
    "start_time": "2022-09-05T06:14:56.093Z"
   },
   {
    "duration": 0,
    "start_time": "2022-09-05T06:14:56.094Z"
   },
   {
    "duration": 0,
    "start_time": "2022-09-05T06:14:56.095Z"
   },
   {
    "duration": 0,
    "start_time": "2022-09-05T06:14:56.096Z"
   },
   {
    "duration": 0,
    "start_time": "2022-09-05T06:14:56.097Z"
   },
   {
    "duration": 0,
    "start_time": "2022-09-05T06:14:56.098Z"
   },
   {
    "duration": 0,
    "start_time": "2022-09-05T06:14:56.100Z"
   },
   {
    "duration": 0,
    "start_time": "2022-09-05T06:14:56.101Z"
   },
   {
    "duration": 0,
    "start_time": "2022-09-05T06:14:56.103Z"
   },
   {
    "duration": 0,
    "start_time": "2022-09-05T06:14:56.104Z"
   },
   {
    "duration": 0,
    "start_time": "2022-09-05T06:14:56.105Z"
   },
   {
    "duration": 0,
    "start_time": "2022-09-05T06:14:56.107Z"
   },
   {
    "duration": 0,
    "start_time": "2022-09-05T06:14:56.108Z"
   },
   {
    "duration": 0,
    "start_time": "2022-09-05T06:14:56.109Z"
   },
   {
    "duration": 0,
    "start_time": "2022-09-05T06:14:56.110Z"
   },
   {
    "duration": 0,
    "start_time": "2022-09-05T06:14:56.112Z"
   },
   {
    "duration": 0,
    "start_time": "2022-09-05T06:14:56.113Z"
   },
   {
    "duration": 0,
    "start_time": "2022-09-05T06:14:56.114Z"
   },
   {
    "duration": 0,
    "start_time": "2022-09-05T06:14:56.116Z"
   },
   {
    "duration": 0,
    "start_time": "2022-09-05T06:14:56.117Z"
   },
   {
    "duration": 0,
    "start_time": "2022-09-05T06:14:56.118Z"
   },
   {
    "duration": 0,
    "start_time": "2022-09-05T06:14:56.119Z"
   },
   {
    "duration": 0,
    "start_time": "2022-09-05T06:14:56.121Z"
   },
   {
    "duration": 0,
    "start_time": "2022-09-05T06:14:56.122Z"
   },
   {
    "duration": 0,
    "start_time": "2022-09-05T06:14:56.123Z"
   },
   {
    "duration": 0,
    "start_time": "2022-09-05T06:14:56.125Z"
   },
   {
    "duration": 0,
    "start_time": "2022-09-05T06:14:56.187Z"
   },
   {
    "duration": 0,
    "start_time": "2022-09-05T06:14:56.188Z"
   },
   {
    "duration": 0,
    "start_time": "2022-09-05T06:14:56.189Z"
   },
   {
    "duration": 0,
    "start_time": "2022-09-05T06:14:56.190Z"
   },
   {
    "duration": 0,
    "start_time": "2022-09-05T06:14:56.190Z"
   },
   {
    "duration": 0,
    "start_time": "2022-09-05T06:14:56.192Z"
   },
   {
    "duration": 0,
    "start_time": "2022-09-05T06:14:56.193Z"
   },
   {
    "duration": 0,
    "start_time": "2022-09-05T06:14:56.194Z"
   },
   {
    "duration": 32,
    "start_time": "2022-09-05T06:24:20.175Z"
   },
   {
    "duration": 20,
    "start_time": "2022-09-05T06:42:29.636Z"
   },
   {
    "duration": 3665,
    "start_time": "2022-09-05T06:42:42.873Z"
   },
   {
    "duration": 47,
    "start_time": "2022-09-05T06:42:46.540Z"
   },
   {
    "duration": 5,
    "start_time": "2022-09-05T06:42:46.590Z"
   },
   {
    "duration": 428,
    "start_time": "2022-09-05T06:42:46.597Z"
   },
   {
    "duration": 391,
    "start_time": "2022-09-05T06:42:47.027Z"
   },
   {
    "duration": 38,
    "start_time": "2022-09-05T06:42:47.420Z"
   },
   {
    "duration": 7,
    "start_time": "2022-09-05T06:42:47.461Z"
   },
   {
    "duration": 12,
    "start_time": "2022-09-05T06:42:47.487Z"
   },
   {
    "duration": 16,
    "start_time": "2022-09-05T06:42:47.501Z"
   },
   {
    "duration": 10,
    "start_time": "2022-09-05T06:42:47.520Z"
   },
   {
    "duration": 82,
    "start_time": "2022-09-05T06:42:47.532Z"
   },
   {
    "duration": 55,
    "start_time": "2022-09-05T06:42:47.616Z"
   },
   {
    "duration": 26,
    "start_time": "2022-09-05T06:42:47.673Z"
   },
   {
    "duration": 135,
    "start_time": "2022-09-05T06:42:47.700Z"
   },
   {
    "duration": 105,
    "start_time": "2022-09-05T06:42:47.836Z"
   },
   {
    "duration": 128,
    "start_time": "2022-09-05T06:42:47.943Z"
   },
   {
    "duration": 138,
    "start_time": "2022-09-05T06:42:48.072Z"
   },
   {
    "duration": 16,
    "start_time": "2022-09-05T06:42:48.212Z"
   },
   {
    "duration": 24,
    "start_time": "2022-09-05T06:42:48.230Z"
   },
   {
    "duration": 48,
    "start_time": "2022-09-05T06:42:48.256Z"
   },
   {
    "duration": 5,
    "start_time": "2022-09-05T06:42:48.306Z"
   },
   {
    "duration": 11,
    "start_time": "2022-09-05T06:42:48.313Z"
   },
   {
    "duration": 36,
    "start_time": "2022-09-05T06:42:48.325Z"
   },
   {
    "duration": 5,
    "start_time": "2022-09-05T06:42:48.362Z"
   },
   {
    "duration": 19,
    "start_time": "2022-09-05T06:42:48.368Z"
   },
   {
    "duration": 276,
    "start_time": "2022-09-05T06:42:48.389Z"
   },
   {
    "duration": 403,
    "start_time": "2022-09-05T06:42:48.667Z"
   },
   {
    "duration": 204,
    "start_time": "2022-09-05T06:42:49.074Z"
   },
   {
    "duration": 278,
    "start_time": "2022-09-05T06:42:49.280Z"
   },
   {
    "duration": 179,
    "start_time": "2022-09-05T06:42:49.560Z"
   },
   {
    "duration": 209,
    "start_time": "2022-09-05T06:42:49.741Z"
   },
   {
    "duration": 202,
    "start_time": "2022-09-05T06:42:49.952Z"
   },
   {
    "duration": 114,
    "start_time": "2022-09-05T06:42:50.155Z"
   },
   {
    "duration": 203,
    "start_time": "2022-09-05T06:42:50.271Z"
   },
   {
    "duration": 192,
    "start_time": "2022-09-05T06:42:50.476Z"
   },
   {
    "duration": 280,
    "start_time": "2022-09-05T06:42:50.669Z"
   },
   {
    "duration": 205,
    "start_time": "2022-09-05T06:42:50.951Z"
   },
   {
    "duration": 209,
    "start_time": "2022-09-05T06:42:51.157Z"
   },
   {
    "duration": 235,
    "start_time": "2022-09-05T06:42:51.368Z"
   },
   {
    "duration": 202,
    "start_time": "2022-09-05T06:42:51.605Z"
   },
   {
    "duration": 62,
    "start_time": "2022-09-05T06:42:51.808Z"
   },
   {
    "duration": 43,
    "start_time": "2022-09-05T06:42:51.872Z"
   },
   {
    "duration": 30,
    "start_time": "2022-09-05T06:42:51.916Z"
   },
   {
    "duration": 174,
    "start_time": "2022-09-05T06:42:51.948Z"
   },
   {
    "duration": 4,
    "start_time": "2022-09-05T06:42:52.124Z"
   },
   {
    "duration": 151,
    "start_time": "2022-09-05T06:42:52.130Z"
   },
   {
    "duration": 151,
    "start_time": "2022-09-05T06:42:52.282Z"
   },
   {
    "duration": 153,
    "start_time": "2022-09-05T06:42:52.435Z"
   },
   {
    "duration": 236,
    "start_time": "2022-09-05T06:42:52.591Z"
   },
   {
    "duration": 148,
    "start_time": "2022-09-05T06:42:52.828Z"
   },
   {
    "duration": 11,
    "start_time": "2022-09-05T06:42:52.978Z"
   },
   {
    "duration": 148,
    "start_time": "2022-09-05T06:42:52.991Z"
   },
   {
    "duration": 5,
    "start_time": "2022-09-05T06:42:53.141Z"
   },
   {
    "duration": 162,
    "start_time": "2022-09-05T06:42:53.147Z"
   },
   {
    "duration": 4,
    "start_time": "2022-09-05T06:42:53.310Z"
   },
   {
    "duration": 23,
    "start_time": "2022-09-05T06:42:53.316Z"
   },
   {
    "duration": 174,
    "start_time": "2022-09-05T06:42:53.341Z"
   },
   {
    "duration": 2,
    "start_time": "2022-09-05T06:42:53.517Z"
   },
   {
    "duration": 2520,
    "start_time": "2022-09-05T06:42:53.521Z"
   },
   {
    "duration": 395,
    "start_time": "2022-09-05T06:42:56.043Z"
   },
   {
    "duration": 136,
    "start_time": "2022-09-05T06:42:56.440Z"
   },
   {
    "duration": 100,
    "start_time": "2022-09-05T06:42:56.578Z"
   },
   {
    "duration": 20,
    "start_time": "2022-09-05T06:43:12.976Z"
   },
   {
    "duration": 4007,
    "start_time": "2022-09-05T06:43:20.295Z"
   },
   {
    "duration": 9,
    "start_time": "2022-09-05T06:43:24.304Z"
   },
   {
    "duration": 7,
    "start_time": "2022-09-05T06:43:24.315Z"
   },
   {
    "duration": 229,
    "start_time": "2022-09-05T06:43:24.324Z"
   },
   {
    "duration": 200,
    "start_time": "2022-09-05T06:43:24.554Z"
   },
   {
    "duration": 46,
    "start_time": "2022-09-05T06:43:24.756Z"
   },
   {
    "duration": 17,
    "start_time": "2022-09-05T06:43:24.804Z"
   },
   {
    "duration": 15,
    "start_time": "2022-09-05T06:43:24.822Z"
   },
   {
    "duration": 6,
    "start_time": "2022-09-05T06:43:24.838Z"
   },
   {
    "duration": 9,
    "start_time": "2022-09-05T06:43:24.847Z"
   },
   {
    "duration": 79,
    "start_time": "2022-09-05T06:43:24.858Z"
   },
   {
    "duration": 55,
    "start_time": "2022-09-05T06:43:24.939Z"
   },
   {
    "duration": 16,
    "start_time": "2022-09-05T06:43:24.995Z"
   },
   {
    "duration": 140,
    "start_time": "2022-09-05T06:43:25.012Z"
   },
   {
    "duration": 122,
    "start_time": "2022-09-05T06:43:25.153Z"
   },
   {
    "duration": 134,
    "start_time": "2022-09-05T06:43:25.276Z"
   },
   {
    "duration": 126,
    "start_time": "2022-09-05T06:43:25.411Z"
   },
   {
    "duration": 14,
    "start_time": "2022-09-05T06:43:25.538Z"
   },
   {
    "duration": 42,
    "start_time": "2022-09-05T06:43:25.554Z"
   },
   {
    "duration": 15,
    "start_time": "2022-09-05T06:43:25.597Z"
   },
   {
    "duration": 3,
    "start_time": "2022-09-05T06:43:25.614Z"
   },
   {
    "duration": 11,
    "start_time": "2022-09-05T06:43:25.618Z"
   },
   {
    "duration": 56,
    "start_time": "2022-09-05T06:43:25.631Z"
   },
   {
    "duration": 5,
    "start_time": "2022-09-05T06:43:25.689Z"
   },
   {
    "duration": 23,
    "start_time": "2022-09-05T06:43:25.695Z"
   },
   {
    "duration": 287,
    "start_time": "2022-09-05T06:43:25.719Z"
   },
   {
    "duration": 533,
    "start_time": "2022-09-05T06:43:26.010Z"
   },
   {
    "duration": 216,
    "start_time": "2022-09-05T06:43:26.546Z"
   },
   {
    "duration": 286,
    "start_time": "2022-09-05T06:43:26.764Z"
   },
   {
    "duration": 177,
    "start_time": "2022-09-05T06:43:27.053Z"
   },
   {
    "duration": 224,
    "start_time": "2022-09-05T06:43:27.232Z"
   },
   {
    "duration": 217,
    "start_time": "2022-09-05T06:43:27.458Z"
   },
   {
    "duration": 125,
    "start_time": "2022-09-05T06:43:27.677Z"
   },
   {
    "duration": 205,
    "start_time": "2022-09-05T06:43:27.803Z"
   },
   {
    "duration": 220,
    "start_time": "2022-09-05T06:43:28.010Z"
   },
   {
    "duration": 304,
    "start_time": "2022-09-05T06:43:28.232Z"
   },
   {
    "duration": 210,
    "start_time": "2022-09-05T06:43:28.538Z"
   },
   {
    "duration": 210,
    "start_time": "2022-09-05T06:43:28.750Z"
   },
   {
    "duration": 238,
    "start_time": "2022-09-05T06:43:28.962Z"
   },
   {
    "duration": 205,
    "start_time": "2022-09-05T06:43:29.201Z"
   },
   {
    "duration": 65,
    "start_time": "2022-09-05T06:43:29.408Z"
   },
   {
    "duration": 32,
    "start_time": "2022-09-05T06:43:29.488Z"
   },
   {
    "duration": 34,
    "start_time": "2022-09-05T06:43:29.521Z"
   },
   {
    "duration": 171,
    "start_time": "2022-09-05T06:43:29.556Z"
   },
   {
    "duration": 5,
    "start_time": "2022-09-05T06:43:29.728Z"
   },
   {
    "duration": 163,
    "start_time": "2022-09-05T06:43:29.734Z"
   },
   {
    "duration": 145,
    "start_time": "2022-09-05T06:43:29.899Z"
   },
   {
    "duration": 155,
    "start_time": "2022-09-05T06:43:30.046Z"
   },
   {
    "duration": 240,
    "start_time": "2022-09-05T06:43:30.203Z"
   },
   {
    "duration": 156,
    "start_time": "2022-09-05T06:43:30.444Z"
   },
   {
    "duration": 5,
    "start_time": "2022-09-05T06:43:30.601Z"
   },
   {
    "duration": 153,
    "start_time": "2022-09-05T06:43:30.607Z"
   },
   {
    "duration": 4,
    "start_time": "2022-09-05T06:43:30.762Z"
   },
   {
    "duration": 186,
    "start_time": "2022-09-05T06:43:30.768Z"
   },
   {
    "duration": 4,
    "start_time": "2022-09-05T06:43:30.956Z"
   },
   {
    "duration": 53,
    "start_time": "2022-09-05T06:43:30.962Z"
   },
   {
    "duration": 200,
    "start_time": "2022-09-05T06:43:31.017Z"
   },
   {
    "duration": 3,
    "start_time": "2022-09-05T06:43:31.219Z"
   },
   {
    "duration": 2527,
    "start_time": "2022-09-05T06:43:31.224Z"
   },
   {
    "duration": 361,
    "start_time": "2022-09-05T06:43:33.753Z"
   },
   {
    "duration": 118,
    "start_time": "2022-09-05T06:43:34.115Z"
   },
   {
    "duration": 104,
    "start_time": "2022-09-05T06:43:34.234Z"
   },
   {
    "duration": 23,
    "start_time": "2022-09-05T06:44:24.466Z"
   },
   {
    "duration": 3949,
    "start_time": "2022-09-05T06:44:30.109Z"
   },
   {
    "duration": 11,
    "start_time": "2022-09-05T06:44:34.061Z"
   },
   {
    "duration": 5,
    "start_time": "2022-09-05T06:44:34.073Z"
   },
   {
    "duration": 227,
    "start_time": "2022-09-05T06:44:34.080Z"
   },
   {
    "duration": 199,
    "start_time": "2022-09-05T06:44:34.309Z"
   },
   {
    "duration": 43,
    "start_time": "2022-09-05T06:44:34.510Z"
   },
   {
    "duration": 7,
    "start_time": "2022-09-05T06:44:34.554Z"
   },
   {
    "duration": 14,
    "start_time": "2022-09-05T06:44:34.586Z"
   },
   {
    "duration": 4,
    "start_time": "2022-09-05T06:44:34.602Z"
   },
   {
    "duration": 9,
    "start_time": "2022-09-05T06:44:34.609Z"
   },
   {
    "duration": 84,
    "start_time": "2022-09-05T06:44:34.619Z"
   },
   {
    "duration": 49,
    "start_time": "2022-09-05T06:44:34.705Z"
   },
   {
    "duration": 33,
    "start_time": "2022-09-05T06:44:34.756Z"
   },
   {
    "duration": 130,
    "start_time": "2022-09-05T06:44:34.790Z"
   },
   {
    "duration": 115,
    "start_time": "2022-09-05T06:44:34.922Z"
   },
   {
    "duration": 118,
    "start_time": "2022-09-05T06:44:35.039Z"
   },
   {
    "duration": 129,
    "start_time": "2022-09-05T06:44:35.159Z"
   },
   {
    "duration": 13,
    "start_time": "2022-09-05T06:44:35.290Z"
   },
   {
    "duration": 27,
    "start_time": "2022-09-05T06:44:35.305Z"
   },
   {
    "duration": 16,
    "start_time": "2022-09-05T06:44:35.334Z"
   },
   {
    "duration": 37,
    "start_time": "2022-09-05T06:44:35.351Z"
   },
   {
    "duration": 8,
    "start_time": "2022-09-05T06:44:35.390Z"
   },
   {
    "duration": 42,
    "start_time": "2022-09-05T06:44:35.400Z"
   },
   {
    "duration": 6,
    "start_time": "2022-09-05T06:44:35.444Z"
   },
   {
    "duration": 10,
    "start_time": "2022-09-05T06:44:35.451Z"
   },
   {
    "duration": 297,
    "start_time": "2022-09-05T06:44:35.462Z"
   },
   {
    "duration": 456,
    "start_time": "2022-09-05T06:44:35.760Z"
   },
   {
    "duration": 273,
    "start_time": "2022-09-05T06:44:36.221Z"
   },
   {
    "duration": 302,
    "start_time": "2022-09-05T06:44:36.496Z"
   },
   {
    "duration": 189,
    "start_time": "2022-09-05T06:44:36.800Z"
   },
   {
    "duration": 208,
    "start_time": "2022-09-05T06:44:36.991Z"
   },
   {
    "duration": 200,
    "start_time": "2022-09-05T06:44:37.201Z"
   },
   {
    "duration": 116,
    "start_time": "2022-09-05T06:44:37.403Z"
   },
   {
    "duration": 212,
    "start_time": "2022-09-05T06:44:37.521Z"
   },
   {
    "duration": 208,
    "start_time": "2022-09-05T06:44:37.734Z"
   },
   {
    "duration": 340,
    "start_time": "2022-09-05T06:44:37.944Z"
   },
   {
    "duration": 230,
    "start_time": "2022-09-05T06:44:38.287Z"
   },
   {
    "duration": 254,
    "start_time": "2022-09-05T06:44:38.519Z"
   },
   {
    "duration": 254,
    "start_time": "2022-09-05T06:44:38.775Z"
   },
   {
    "duration": 236,
    "start_time": "2022-09-05T06:44:39.030Z"
   },
   {
    "duration": 85,
    "start_time": "2022-09-05T06:44:39.267Z"
   },
   {
    "duration": 43,
    "start_time": "2022-09-05T06:44:39.353Z"
   },
   {
    "duration": 34,
    "start_time": "2022-09-05T06:44:39.398Z"
   },
   {
    "duration": 177,
    "start_time": "2022-09-05T06:44:39.434Z"
   },
   {
    "duration": 5,
    "start_time": "2022-09-05T06:44:39.614Z"
   },
   {
    "duration": 161,
    "start_time": "2022-09-05T06:44:39.620Z"
   },
   {
    "duration": 147,
    "start_time": "2022-09-05T06:44:39.786Z"
   },
   {
    "duration": 179,
    "start_time": "2022-09-05T06:44:39.934Z"
   },
   {
    "duration": 279,
    "start_time": "2022-09-05T06:44:40.115Z"
   },
   {
    "duration": 163,
    "start_time": "2022-09-05T06:44:40.396Z"
   },
   {
    "duration": 6,
    "start_time": "2022-09-05T06:44:40.561Z"
   },
   {
    "duration": 155,
    "start_time": "2022-09-05T06:44:40.568Z"
   },
   {
    "duration": 4,
    "start_time": "2022-09-05T06:44:40.725Z"
   },
   {
    "duration": 165,
    "start_time": "2022-09-05T06:44:40.731Z"
   },
   {
    "duration": 6,
    "start_time": "2022-09-05T06:44:40.898Z"
   },
   {
    "duration": 24,
    "start_time": "2022-09-05T06:44:40.906Z"
   },
   {
    "duration": 184,
    "start_time": "2022-09-05T06:44:40.932Z"
   },
   {
    "duration": 3,
    "start_time": "2022-09-05T06:44:41.117Z"
   },
   {
    "duration": 2673,
    "start_time": "2022-09-05T06:44:41.121Z"
   },
   {
    "duration": 364,
    "start_time": "2022-09-05T06:44:43.796Z"
   },
   {
    "duration": 120,
    "start_time": "2022-09-05T06:44:44.162Z"
   },
   {
    "duration": 92,
    "start_time": "2022-09-05T06:44:44.284Z"
   },
   {
    "duration": 4412,
    "start_time": "2022-09-05T06:46:02.802Z"
   },
   {
    "duration": 9,
    "start_time": "2022-09-05T06:46:07.216Z"
   },
   {
    "duration": 7,
    "start_time": "2022-09-05T06:46:07.227Z"
   },
   {
    "duration": 474,
    "start_time": "2022-09-05T06:46:07.236Z"
   },
   {
    "duration": 394,
    "start_time": "2022-09-05T06:46:07.711Z"
   },
   {
    "duration": 94,
    "start_time": "2022-09-05T06:46:08.107Z"
   },
   {
    "duration": 9,
    "start_time": "2022-09-05T06:46:08.203Z"
   },
   {
    "duration": 77,
    "start_time": "2022-09-05T06:46:08.214Z"
   },
   {
    "duration": 4,
    "start_time": "2022-09-05T06:46:08.293Z"
   },
   {
    "duration": 20,
    "start_time": "2022-09-05T06:46:08.300Z"
   },
   {
    "duration": 188,
    "start_time": "2022-09-05T06:46:08.322Z"
   },
   {
    "duration": 104,
    "start_time": "2022-09-05T06:46:08.511Z"
   },
   {
    "duration": 13,
    "start_time": "2022-09-05T06:46:08.617Z"
   },
   {
    "duration": 193,
    "start_time": "2022-09-05T06:46:08.632Z"
   },
   {
    "duration": 114,
    "start_time": "2022-09-05T06:46:08.827Z"
   },
   {
    "duration": 123,
    "start_time": "2022-09-05T06:46:08.943Z"
   },
   {
    "duration": 140,
    "start_time": "2022-09-05T06:46:09.067Z"
   },
   {
    "duration": 13,
    "start_time": "2022-09-05T06:46:09.209Z"
   },
   {
    "duration": 33,
    "start_time": "2022-09-05T06:46:09.224Z"
   },
   {
    "duration": 35,
    "start_time": "2022-09-05T06:46:09.259Z"
   },
   {
    "duration": 4,
    "start_time": "2022-09-05T06:46:09.295Z"
   },
   {
    "duration": 15,
    "start_time": "2022-09-05T06:46:09.301Z"
   },
   {
    "duration": 37,
    "start_time": "2022-09-05T06:46:09.318Z"
   },
   {
    "duration": 5,
    "start_time": "2022-09-05T06:46:09.357Z"
   },
   {
    "duration": 12,
    "start_time": "2022-09-05T06:46:09.363Z"
   },
   {
    "duration": 285,
    "start_time": "2022-09-05T06:46:09.377Z"
   },
   {
    "duration": 419,
    "start_time": "2022-09-05T06:46:09.663Z"
   },
   {
    "duration": 226,
    "start_time": "2022-09-05T06:46:10.089Z"
   },
   {
    "duration": 298,
    "start_time": "2022-09-05T06:46:10.317Z"
   },
   {
    "duration": 194,
    "start_time": "2022-09-05T06:46:10.617Z"
   },
   {
    "duration": 208,
    "start_time": "2022-09-05T06:46:10.813Z"
   },
   {
    "duration": 200,
    "start_time": "2022-09-05T06:46:11.023Z"
   },
   {
    "duration": 133,
    "start_time": "2022-09-05T06:46:11.225Z"
   },
   {
    "duration": 226,
    "start_time": "2022-09-05T06:46:11.361Z"
   },
   {
    "duration": 215,
    "start_time": "2022-09-05T06:46:11.588Z"
   },
   {
    "duration": 201,
    "start_time": "2022-09-05T06:46:11.805Z"
   },
   {
    "duration": 334,
    "start_time": "2022-09-05T06:46:12.008Z"
   },
   {
    "duration": 201,
    "start_time": "2022-09-05T06:46:12.344Z"
   },
   {
    "duration": 243,
    "start_time": "2022-09-05T06:46:12.547Z"
   },
   {
    "duration": 228,
    "start_time": "2022-09-05T06:46:12.792Z"
   },
   {
    "duration": 68,
    "start_time": "2022-09-05T06:46:13.021Z"
   },
   {
    "duration": 32,
    "start_time": "2022-09-05T06:46:13.090Z"
   },
   {
    "duration": 33,
    "start_time": "2022-09-05T06:46:13.124Z"
   },
   {
    "duration": 188,
    "start_time": "2022-09-05T06:46:13.158Z"
   },
   {
    "duration": 4,
    "start_time": "2022-09-05T06:46:13.348Z"
   },
   {
    "duration": 158,
    "start_time": "2022-09-05T06:46:13.354Z"
   },
   {
    "duration": 142,
    "start_time": "2022-09-05T06:46:13.514Z"
   },
   {
    "duration": 160,
    "start_time": "2022-09-05T06:46:13.657Z"
   },
   {
    "duration": 158,
    "start_time": "2022-09-05T06:46:13.818Z"
   },
   {
    "duration": 236,
    "start_time": "2022-09-05T06:46:13.978Z"
   },
   {
    "duration": 4,
    "start_time": "2022-09-05T06:46:14.216Z"
   },
   {
    "duration": 160,
    "start_time": "2022-09-05T06:46:14.222Z"
   },
   {
    "duration": 5,
    "start_time": "2022-09-05T06:46:14.384Z"
   },
   {
    "duration": 157,
    "start_time": "2022-09-05T06:46:14.391Z"
   },
   {
    "duration": 5,
    "start_time": "2022-09-05T06:46:14.550Z"
   },
   {
    "duration": 32,
    "start_time": "2022-09-05T06:46:14.556Z"
   },
   {
    "duration": 167,
    "start_time": "2022-09-05T06:46:14.589Z"
   },
   {
    "duration": 2,
    "start_time": "2022-09-05T06:46:14.757Z"
   },
   {
    "duration": 2497,
    "start_time": "2022-09-05T06:46:14.761Z"
   },
   {
    "duration": 350,
    "start_time": "2022-09-05T06:46:17.259Z"
   },
   {
    "duration": 113,
    "start_time": "2022-09-05T06:46:17.611Z"
   },
   {
    "duration": 91,
    "start_time": "2022-09-05T06:46:17.726Z"
   },
   {
    "duration": 24,
    "start_time": "2022-09-05T06:46:28.671Z"
   },
   {
    "duration": 3939,
    "start_time": "2022-09-05T06:46:33.315Z"
   },
   {
    "duration": 9,
    "start_time": "2022-09-05T06:46:37.256Z"
   },
   {
    "duration": 8,
    "start_time": "2022-09-05T06:46:37.266Z"
   },
   {
    "duration": 223,
    "start_time": "2022-09-05T06:46:37.276Z"
   },
   {
    "duration": 202,
    "start_time": "2022-09-05T06:46:37.500Z"
   },
   {
    "duration": 40,
    "start_time": "2022-09-05T06:46:37.704Z"
   },
   {
    "duration": 5,
    "start_time": "2022-09-05T06:46:37.746Z"
   },
   {
    "duration": 34,
    "start_time": "2022-09-05T06:46:37.753Z"
   },
   {
    "duration": 3,
    "start_time": "2022-09-05T06:46:37.789Z"
   },
   {
    "duration": 8,
    "start_time": "2022-09-05T06:46:37.795Z"
   },
   {
    "duration": 75,
    "start_time": "2022-09-05T06:46:37.804Z"
   },
   {
    "duration": 48,
    "start_time": "2022-09-05T06:46:37.887Z"
   },
   {
    "duration": 13,
    "start_time": "2022-09-05T06:46:37.937Z"
   },
   {
    "duration": 138,
    "start_time": "2022-09-05T06:46:37.952Z"
   },
   {
    "duration": 111,
    "start_time": "2022-09-05T06:46:38.091Z"
   },
   {
    "duration": 115,
    "start_time": "2022-09-05T06:46:38.204Z"
   },
   {
    "duration": 122,
    "start_time": "2022-09-05T06:46:38.321Z"
   },
   {
    "duration": 13,
    "start_time": "2022-09-05T06:46:38.444Z"
   },
   {
    "duration": 44,
    "start_time": "2022-09-05T06:46:38.459Z"
   },
   {
    "duration": 15,
    "start_time": "2022-09-05T06:46:38.505Z"
   },
   {
    "duration": 4,
    "start_time": "2022-09-05T06:46:38.522Z"
   },
   {
    "duration": 9,
    "start_time": "2022-09-05T06:46:38.528Z"
   },
   {
    "duration": 73,
    "start_time": "2022-09-05T06:46:38.538Z"
   },
   {
    "duration": 5,
    "start_time": "2022-09-05T06:46:38.613Z"
   },
   {
    "duration": 12,
    "start_time": "2022-09-05T06:46:38.620Z"
   },
   {
    "duration": 277,
    "start_time": "2022-09-05T06:46:38.633Z"
   },
   {
    "duration": 433,
    "start_time": "2022-09-05T06:46:38.912Z"
   },
   {
    "duration": 204,
    "start_time": "2022-09-05T06:46:39.348Z"
   },
   {
    "duration": 284,
    "start_time": "2022-09-05T06:46:39.553Z"
   },
   {
    "duration": 183,
    "start_time": "2022-09-05T06:46:39.838Z"
   },
   {
    "duration": 217,
    "start_time": "2022-09-05T06:46:40.023Z"
   },
   {
    "duration": 204,
    "start_time": "2022-09-05T06:46:40.241Z"
   },
   {
    "duration": 128,
    "start_time": "2022-09-05T06:46:40.447Z"
   },
   {
    "duration": 190,
    "start_time": "2022-09-05T06:46:40.586Z"
   },
   {
    "duration": 209,
    "start_time": "2022-09-05T06:46:40.778Z"
   },
   {
    "duration": 303,
    "start_time": "2022-09-05T06:46:40.989Z"
   },
   {
    "duration": 219,
    "start_time": "2022-09-05T06:46:41.293Z"
   },
   {
    "duration": 199,
    "start_time": "2022-09-05T06:46:41.514Z"
   },
   {
    "duration": 215,
    "start_time": "2022-09-05T06:46:41.715Z"
   },
   {
    "duration": 217,
    "start_time": "2022-09-05T06:46:41.931Z"
   },
   {
    "duration": 72,
    "start_time": "2022-09-05T06:46:42.149Z"
   },
   {
    "duration": 31,
    "start_time": "2022-09-05T06:46:42.223Z"
   },
   {
    "duration": 49,
    "start_time": "2022-09-05T06:46:42.256Z"
   },
   {
    "duration": 157,
    "start_time": "2022-09-05T06:46:42.306Z"
   },
   {
    "duration": 4,
    "start_time": "2022-09-05T06:46:42.464Z"
   },
   {
    "duration": 158,
    "start_time": "2022-09-05T06:46:42.470Z"
   },
   {
    "duration": 151,
    "start_time": "2022-09-05T06:46:42.629Z"
   },
   {
    "duration": 143,
    "start_time": "2022-09-05T06:46:42.787Z"
   },
   {
    "duration": 248,
    "start_time": "2022-09-05T06:46:42.932Z"
   },
   {
    "duration": 156,
    "start_time": "2022-09-05T06:46:43.186Z"
   },
   {
    "duration": 5,
    "start_time": "2022-09-05T06:46:43.344Z"
   },
   {
    "duration": 150,
    "start_time": "2022-09-05T06:46:43.351Z"
   },
   {
    "duration": 5,
    "start_time": "2022-09-05T06:46:43.502Z"
   },
   {
    "duration": 156,
    "start_time": "2022-09-05T06:46:43.509Z"
   },
   {
    "duration": 5,
    "start_time": "2022-09-05T06:46:43.667Z"
   },
   {
    "duration": 31,
    "start_time": "2022-09-05T06:46:43.673Z"
   },
   {
    "duration": 173,
    "start_time": "2022-09-05T06:46:43.705Z"
   },
   {
    "duration": 8,
    "start_time": "2022-09-05T06:46:43.879Z"
   },
   {
    "duration": 2776,
    "start_time": "2022-09-05T06:46:43.888Z"
   },
   {
    "duration": 340,
    "start_time": "2022-09-05T06:46:46.665Z"
   },
   {
    "duration": 110,
    "start_time": "2022-09-05T06:46:47.007Z"
   },
   {
    "duration": 96,
    "start_time": "2022-09-05T06:46:47.119Z"
   },
   {
    "duration": 4066,
    "start_time": "2022-09-05T06:47:37.272Z"
   },
   {
    "duration": 11,
    "start_time": "2022-09-05T06:47:41.340Z"
   },
   {
    "duration": 8,
    "start_time": "2022-09-05T06:47:41.352Z"
   },
   {
    "duration": 230,
    "start_time": "2022-09-05T06:47:41.362Z"
   },
   {
    "duration": 195,
    "start_time": "2022-09-05T06:47:41.594Z"
   },
   {
    "duration": 38,
    "start_time": "2022-09-05T06:47:41.791Z"
   },
   {
    "duration": 6,
    "start_time": "2022-09-05T06:47:41.831Z"
   },
   {
    "duration": 16,
    "start_time": "2022-09-05T06:47:41.838Z"
   },
   {
    "duration": 3,
    "start_time": "2022-09-05T06:47:41.856Z"
   },
   {
    "duration": 7,
    "start_time": "2022-09-05T06:47:41.887Z"
   },
   {
    "duration": 66,
    "start_time": "2022-09-05T06:47:41.895Z"
   },
   {
    "duration": 58,
    "start_time": "2022-09-05T06:47:41.963Z"
   },
   {
    "duration": 15,
    "start_time": "2022-09-05T06:47:42.023Z"
   },
   {
    "duration": 136,
    "start_time": "2022-09-05T06:47:42.040Z"
   },
   {
    "duration": 108,
    "start_time": "2022-09-05T06:47:42.186Z"
   },
   {
    "duration": 115,
    "start_time": "2022-09-05T06:47:42.296Z"
   },
   {
    "duration": 132,
    "start_time": "2022-09-05T06:47:42.413Z"
   },
   {
    "duration": 13,
    "start_time": "2022-09-05T06:47:42.547Z"
   },
   {
    "duration": 39,
    "start_time": "2022-09-05T06:47:42.561Z"
   },
   {
    "duration": 14,
    "start_time": "2022-09-05T06:47:42.602Z"
   },
   {
    "duration": 5,
    "start_time": "2022-09-05T06:47:42.618Z"
   },
   {
    "duration": 12,
    "start_time": "2022-09-05T06:47:42.624Z"
   },
   {
    "duration": 25,
    "start_time": "2022-09-05T06:47:42.637Z"
   },
   {
    "duration": 4,
    "start_time": "2022-09-05T06:47:42.663Z"
   },
   {
    "duration": 4,
    "start_time": "2022-09-05T06:47:42.687Z"
   },
   {
    "duration": 273,
    "start_time": "2022-09-05T06:47:42.692Z"
   },
   {
    "duration": 398,
    "start_time": "2022-09-05T06:47:42.967Z"
   },
   {
    "duration": 197,
    "start_time": "2022-09-05T06:47:43.368Z"
   },
   {
    "duration": 296,
    "start_time": "2022-09-05T06:47:43.566Z"
   },
   {
    "duration": 199,
    "start_time": "2022-09-05T06:47:43.864Z"
   },
   {
    "duration": 207,
    "start_time": "2022-09-05T06:47:44.065Z"
   },
   {
    "duration": 190,
    "start_time": "2022-09-05T06:47:44.274Z"
   },
   {
    "duration": 125,
    "start_time": "2022-09-05T06:47:44.466Z"
   },
   {
    "duration": 221,
    "start_time": "2022-09-05T06:47:44.593Z"
   },
   {
    "duration": 193,
    "start_time": "2022-09-05T06:47:44.815Z"
   },
   {
    "duration": 199,
    "start_time": "2022-09-05T06:47:45.010Z"
   },
   {
    "duration": 298,
    "start_time": "2022-09-05T06:47:45.211Z"
   },
   {
    "duration": 213,
    "start_time": "2022-09-05T06:47:45.511Z"
   },
   {
    "duration": 248,
    "start_time": "2022-09-05T06:47:45.726Z"
   },
   {
    "duration": 243,
    "start_time": "2022-09-05T06:47:45.975Z"
   },
   {
    "duration": 87,
    "start_time": "2022-09-05T06:47:46.220Z"
   },
   {
    "duration": 37,
    "start_time": "2022-09-05T06:47:46.309Z"
   },
   {
    "duration": 61,
    "start_time": "2022-09-05T06:47:46.348Z"
   },
   {
    "duration": 190,
    "start_time": "2022-09-05T06:47:46.411Z"
   },
   {
    "duration": 4,
    "start_time": "2022-09-05T06:47:46.603Z"
   },
   {
    "duration": 158,
    "start_time": "2022-09-05T06:47:46.609Z"
   },
   {
    "duration": 145,
    "start_time": "2022-09-05T06:47:46.769Z"
   },
   {
    "duration": 150,
    "start_time": "2022-09-05T06:47:46.915Z"
   },
   {
    "duration": 152,
    "start_time": "2022-09-05T06:47:47.067Z"
   },
   {
    "duration": 229,
    "start_time": "2022-09-05T06:47:47.222Z"
   },
   {
    "duration": 5,
    "start_time": "2022-09-05T06:47:47.453Z"
   },
   {
    "duration": 154,
    "start_time": "2022-09-05T06:47:47.460Z"
   },
   {
    "duration": 5,
    "start_time": "2022-09-05T06:47:47.616Z"
   },
   {
    "duration": 151,
    "start_time": "2022-09-05T06:47:47.623Z"
   },
   {
    "duration": 12,
    "start_time": "2022-09-05T06:47:47.775Z"
   },
   {
    "duration": 19,
    "start_time": "2022-09-05T06:47:47.789Z"
   },
   {
    "duration": 164,
    "start_time": "2022-09-05T06:47:47.810Z"
   },
   {
    "duration": 2,
    "start_time": "2022-09-05T06:47:47.976Z"
   },
   {
    "duration": 3968,
    "start_time": "2022-09-05T06:47:50.518Z"
   },
   {
    "duration": 9,
    "start_time": "2022-09-05T06:47:54.489Z"
   },
   {
    "duration": 10,
    "start_time": "2022-09-05T06:47:54.500Z"
   },
   {
    "duration": 232,
    "start_time": "2022-09-05T06:47:54.512Z"
   },
   {
    "duration": 198,
    "start_time": "2022-09-05T06:47:54.745Z"
   },
   {
    "duration": 55,
    "start_time": "2022-09-05T06:47:54.945Z"
   },
   {
    "duration": 11,
    "start_time": "2022-09-05T06:47:55.001Z"
   },
   {
    "duration": 23,
    "start_time": "2022-09-05T06:47:55.014Z"
   },
   {
    "duration": 4,
    "start_time": "2022-09-05T06:47:55.039Z"
   },
   {
    "duration": 12,
    "start_time": "2022-09-05T06:47:55.046Z"
   },
   {
    "duration": 90,
    "start_time": "2022-09-05T06:47:55.060Z"
   },
   {
    "duration": 60,
    "start_time": "2022-09-05T06:47:55.152Z"
   },
   {
    "duration": 15,
    "start_time": "2022-09-05T06:47:55.214Z"
   },
   {
    "duration": 133,
    "start_time": "2022-09-05T06:47:55.231Z"
   },
   {
    "duration": 128,
    "start_time": "2022-09-05T06:47:55.366Z"
   },
   {
    "duration": 123,
    "start_time": "2022-09-05T06:47:55.496Z"
   },
   {
    "duration": 127,
    "start_time": "2022-09-05T06:47:55.620Z"
   },
   {
    "duration": 13,
    "start_time": "2022-09-05T06:47:55.749Z"
   },
   {
    "duration": 41,
    "start_time": "2022-09-05T06:47:55.764Z"
   },
   {
    "duration": 15,
    "start_time": "2022-09-05T06:47:55.807Z"
   },
   {
    "duration": 5,
    "start_time": "2022-09-05T06:47:55.823Z"
   },
   {
    "duration": 8,
    "start_time": "2022-09-05T06:47:55.830Z"
   },
   {
    "duration": 48,
    "start_time": "2022-09-05T06:47:55.839Z"
   },
   {
    "duration": 4,
    "start_time": "2022-09-05T06:47:55.889Z"
   },
   {
    "duration": 8,
    "start_time": "2022-09-05T06:47:55.895Z"
   },
   {
    "duration": 298,
    "start_time": "2022-09-05T06:47:55.904Z"
   },
   {
    "duration": 488,
    "start_time": "2022-09-05T06:47:56.205Z"
   },
   {
    "duration": 201,
    "start_time": "2022-09-05T06:47:56.697Z"
   },
   {
    "duration": 274,
    "start_time": "2022-09-05T06:47:56.900Z"
   },
   {
    "duration": 180,
    "start_time": "2022-09-05T06:47:57.175Z"
   },
   {
    "duration": 206,
    "start_time": "2022-09-05T06:47:57.356Z"
   },
   {
    "duration": 217,
    "start_time": "2022-09-05T06:47:57.564Z"
   },
   {
    "duration": 132,
    "start_time": "2022-09-05T06:47:57.786Z"
   },
   {
    "duration": 201,
    "start_time": "2022-09-05T06:47:57.920Z"
   },
   {
    "duration": 244,
    "start_time": "2022-09-05T06:47:58.123Z"
   },
   {
    "duration": 206,
    "start_time": "2022-09-05T06:47:58.368Z"
   },
   {
    "duration": 341,
    "start_time": "2022-09-05T06:47:58.575Z"
   },
   {
    "duration": 210,
    "start_time": "2022-09-05T06:47:58.918Z"
   },
   {
    "duration": 252,
    "start_time": "2022-09-05T06:47:59.130Z"
   },
   {
    "duration": 222,
    "start_time": "2022-09-05T06:47:59.384Z"
   },
   {
    "duration": 64,
    "start_time": "2022-09-05T06:47:59.607Z"
   },
   {
    "duration": 41,
    "start_time": "2022-09-05T06:47:59.672Z"
   },
   {
    "duration": 30,
    "start_time": "2022-09-05T06:47:59.715Z"
   },
   {
    "duration": 173,
    "start_time": "2022-09-05T06:47:59.747Z"
   },
   {
    "duration": 4,
    "start_time": "2022-09-05T06:47:59.922Z"
   },
   {
    "duration": 167,
    "start_time": "2022-09-05T06:47:59.928Z"
   },
   {
    "duration": 158,
    "start_time": "2022-09-05T06:48:00.097Z"
   },
   {
    "duration": 160,
    "start_time": "2022-09-05T06:48:00.257Z"
   },
   {
    "duration": 161,
    "start_time": "2022-09-05T06:48:00.418Z"
   },
   {
    "duration": 248,
    "start_time": "2022-09-05T06:48:00.586Z"
   },
   {
    "duration": 4,
    "start_time": "2022-09-05T06:48:00.836Z"
   },
   {
    "duration": 160,
    "start_time": "2022-09-05T06:48:00.842Z"
   },
   {
    "duration": 4,
    "start_time": "2022-09-05T06:48:01.004Z"
   },
   {
    "duration": 223,
    "start_time": "2022-09-05T06:48:01.010Z"
   },
   {
    "duration": 4,
    "start_time": "2022-09-05T06:48:01.235Z"
   },
   {
    "duration": 24,
    "start_time": "2022-09-05T06:48:01.241Z"
   },
   {
    "duration": 188,
    "start_time": "2022-09-05T06:48:01.267Z"
   },
   {
    "duration": 3,
    "start_time": "2022-09-05T06:48:01.457Z"
   },
   {
    "duration": 2537,
    "start_time": "2022-09-05T06:48:01.462Z"
   },
   {
    "duration": 371,
    "start_time": "2022-09-05T06:48:04.002Z"
   },
   {
    "duration": 125,
    "start_time": "2022-09-05T06:48:04.375Z"
   },
   {
    "duration": 104,
    "start_time": "2022-09-05T06:48:04.502Z"
   },
   {
    "duration": 4514,
    "start_time": "2022-09-05T06:50:06.416Z"
   },
   {
    "duration": 10,
    "start_time": "2022-09-05T06:50:10.932Z"
   },
   {
    "duration": 47,
    "start_time": "2022-09-05T06:50:10.943Z"
   },
   {
    "duration": 440,
    "start_time": "2022-09-05T06:50:10.992Z"
   },
   {
    "duration": 347,
    "start_time": "2022-09-05T06:50:11.488Z"
   },
   {
    "duration": 89,
    "start_time": "2022-09-05T06:50:11.836Z"
   },
   {
    "duration": 6,
    "start_time": "2022-09-05T06:50:11.926Z"
   },
   {
    "duration": 15,
    "start_time": "2022-09-05T06:50:11.934Z"
   },
   {
    "duration": 3,
    "start_time": "2022-09-05T06:50:11.951Z"
   },
   {
    "duration": 33,
    "start_time": "2022-09-05T06:50:11.957Z"
   },
   {
    "duration": 74,
    "start_time": "2022-09-05T06:50:11.992Z"
   },
   {
    "duration": 63,
    "start_time": "2022-09-05T06:50:12.068Z"
   },
   {
    "duration": 14,
    "start_time": "2022-09-05T06:50:12.133Z"
   },
   {
    "duration": 142,
    "start_time": "2022-09-05T06:50:12.149Z"
   },
   {
    "duration": 118,
    "start_time": "2022-09-05T06:50:12.293Z"
   },
   {
    "duration": 125,
    "start_time": "2022-09-05T06:50:12.412Z"
   },
   {
    "duration": 149,
    "start_time": "2022-09-05T06:50:12.538Z"
   },
   {
    "duration": 14,
    "start_time": "2022-09-05T06:50:12.688Z"
   },
   {
    "duration": 31,
    "start_time": "2022-09-05T06:50:12.704Z"
   },
   {
    "duration": 14,
    "start_time": "2022-09-05T06:50:12.736Z"
   },
   {
    "duration": 14,
    "start_time": "2022-09-05T06:50:12.752Z"
   },
   {
    "duration": 24,
    "start_time": "2022-09-05T06:50:12.767Z"
   },
   {
    "duration": 62,
    "start_time": "2022-09-05T06:50:12.793Z"
   },
   {
    "duration": 5,
    "start_time": "2022-09-05T06:50:12.856Z"
   },
   {
    "duration": 13,
    "start_time": "2022-09-05T06:50:12.863Z"
   },
   {
    "duration": 294,
    "start_time": "2022-09-05T06:50:12.887Z"
   },
   {
    "duration": 431,
    "start_time": "2022-09-05T06:50:13.186Z"
   },
   {
    "duration": 212,
    "start_time": "2022-09-05T06:50:13.621Z"
   },
   {
    "duration": 325,
    "start_time": "2022-09-05T06:50:13.835Z"
   },
   {
    "duration": 181,
    "start_time": "2022-09-05T06:50:14.162Z"
   },
   {
    "duration": 224,
    "start_time": "2022-09-05T06:50:14.345Z"
   },
   {
    "duration": 207,
    "start_time": "2022-09-05T06:50:14.571Z"
   },
   {
    "duration": 131,
    "start_time": "2022-09-05T06:50:14.786Z"
   },
   {
    "duration": 210,
    "start_time": "2022-09-05T06:50:14.919Z"
   },
   {
    "duration": 224,
    "start_time": "2022-09-05T06:50:15.131Z"
   },
   {
    "duration": 311,
    "start_time": "2022-09-05T06:50:15.356Z"
   },
   {
    "duration": 225,
    "start_time": "2022-09-05T06:50:15.669Z"
   },
   {
    "duration": 221,
    "start_time": "2022-09-05T06:50:15.896Z"
   },
   {
    "duration": 299,
    "start_time": "2022-09-05T06:50:16.119Z"
   },
   {
    "duration": 261,
    "start_time": "2022-09-05T06:50:16.420Z"
   },
   {
    "duration": 69,
    "start_time": "2022-09-05T06:50:16.682Z"
   },
   {
    "duration": 42,
    "start_time": "2022-09-05T06:50:16.753Z"
   },
   {
    "duration": 37,
    "start_time": "2022-09-05T06:50:16.797Z"
   },
   {
    "duration": 178,
    "start_time": "2022-09-05T06:50:16.836Z"
   },
   {
    "duration": 5,
    "start_time": "2022-09-05T06:50:17.016Z"
   },
   {
    "duration": 164,
    "start_time": "2022-09-05T06:50:17.023Z"
   },
   {
    "duration": 141,
    "start_time": "2022-09-05T06:50:17.189Z"
   },
   {
    "duration": 157,
    "start_time": "2022-09-05T06:50:17.332Z"
   },
   {
    "duration": 255,
    "start_time": "2022-09-05T06:50:17.490Z"
   },
   {
    "duration": 163,
    "start_time": "2022-09-05T06:50:17.747Z"
   },
   {
    "duration": 5,
    "start_time": "2022-09-05T06:50:17.912Z"
   },
   {
    "duration": 152,
    "start_time": "2022-09-05T06:50:17.919Z"
   },
   {
    "duration": 4,
    "start_time": "2022-09-05T06:50:18.073Z"
   },
   {
    "duration": 152,
    "start_time": "2022-09-05T06:50:18.087Z"
   },
   {
    "duration": 5,
    "start_time": "2022-09-05T06:50:18.241Z"
   },
   {
    "duration": 22,
    "start_time": "2022-09-05T06:50:18.248Z"
   },
   {
    "duration": 172,
    "start_time": "2022-09-05T06:50:18.287Z"
   },
   {
    "duration": 3,
    "start_time": "2022-09-05T06:50:18.460Z"
   },
   {
    "duration": 2885,
    "start_time": "2022-09-05T06:50:18.465Z"
   },
   {
    "duration": 354,
    "start_time": "2022-09-05T06:50:21.352Z"
   },
   {
    "duration": 118,
    "start_time": "2022-09-05T06:50:21.708Z"
   },
   {
    "duration": 99,
    "start_time": "2022-09-05T06:50:21.828Z"
   },
   {
    "duration": 4331,
    "start_time": "2022-09-05T07:11:36.871Z"
   },
   {
    "duration": 10,
    "start_time": "2022-09-05T07:11:41.204Z"
   },
   {
    "duration": 4,
    "start_time": "2022-09-05T07:11:41.216Z"
   },
   {
    "duration": 224,
    "start_time": "2022-09-05T07:11:41.222Z"
   },
   {
    "duration": 226,
    "start_time": "2022-09-05T07:11:41.448Z"
   },
   {
    "duration": 57,
    "start_time": "2022-09-05T07:11:41.675Z"
   },
   {
    "duration": 62,
    "start_time": "2022-09-05T07:11:41.734Z"
   },
   {
    "duration": 29,
    "start_time": "2022-09-05T07:11:41.798Z"
   },
   {
    "duration": 4,
    "start_time": "2022-09-05T07:11:41.829Z"
   },
   {
    "duration": 23,
    "start_time": "2022-09-05T07:11:41.835Z"
   },
   {
    "duration": 73,
    "start_time": "2022-09-05T07:11:41.859Z"
   },
   {
    "duration": 57,
    "start_time": "2022-09-05T07:11:41.934Z"
   },
   {
    "duration": 16,
    "start_time": "2022-09-05T07:11:41.992Z"
   },
   {
    "duration": 147,
    "start_time": "2022-09-05T07:11:42.010Z"
   },
   {
    "duration": 111,
    "start_time": "2022-09-05T07:11:42.159Z"
   },
   {
    "duration": 135,
    "start_time": "2022-09-05T07:11:42.271Z"
   },
   {
    "duration": 130,
    "start_time": "2022-09-05T07:11:42.408Z"
   },
   {
    "duration": 13,
    "start_time": "2022-09-05T07:11:42.540Z"
   },
   {
    "duration": 53,
    "start_time": "2022-09-05T07:11:42.554Z"
   },
   {
    "duration": 16,
    "start_time": "2022-09-05T07:11:42.608Z"
   },
   {
    "duration": 5,
    "start_time": "2022-09-05T07:11:42.625Z"
   },
   {
    "duration": 12,
    "start_time": "2022-09-05T07:11:42.632Z"
   },
   {
    "duration": 69,
    "start_time": "2022-09-05T07:11:42.646Z"
   },
   {
    "duration": 5,
    "start_time": "2022-09-05T07:11:42.717Z"
   },
   {
    "duration": 7,
    "start_time": "2022-09-05T07:11:42.724Z"
   },
   {
    "duration": 290,
    "start_time": "2022-09-05T07:11:42.733Z"
   },
   {
    "duration": 414,
    "start_time": "2022-09-05T07:11:43.025Z"
   },
   {
    "duration": 206,
    "start_time": "2022-09-05T07:11:43.443Z"
   },
   {
    "duration": 301,
    "start_time": "2022-09-05T07:11:43.651Z"
   },
   {
    "duration": 203,
    "start_time": "2022-09-05T07:11:43.953Z"
   },
   {
    "duration": 220,
    "start_time": "2022-09-05T07:11:44.158Z"
   },
   {
    "duration": 206,
    "start_time": "2022-09-05T07:11:44.379Z"
   },
   {
    "duration": 136,
    "start_time": "2022-09-05T07:11:44.587Z"
   },
   {
    "duration": 217,
    "start_time": "2022-09-05T07:11:44.725Z"
   },
   {
    "duration": 220,
    "start_time": "2022-09-05T07:11:44.943Z"
   },
   {
    "duration": 315,
    "start_time": "2022-09-05T07:11:45.165Z"
   },
   {
    "duration": 236,
    "start_time": "2022-09-05T07:11:45.482Z"
   },
   {
    "duration": 219,
    "start_time": "2022-09-05T07:11:45.720Z"
   },
   {
    "duration": 258,
    "start_time": "2022-09-05T07:11:45.941Z"
   },
   {
    "duration": 314,
    "start_time": "2022-09-05T07:11:46.201Z"
   },
   {
    "duration": 84,
    "start_time": "2022-09-05T07:11:46.517Z"
   },
   {
    "duration": 43,
    "start_time": "2022-09-05T07:11:46.603Z"
   },
   {
    "duration": 57,
    "start_time": "2022-09-05T07:11:46.648Z"
   },
   {
    "duration": 159,
    "start_time": "2022-09-05T07:11:46.706Z"
   },
   {
    "duration": 5,
    "start_time": "2022-09-05T07:11:46.867Z"
   },
   {
    "duration": 152,
    "start_time": "2022-09-05T07:11:46.873Z"
   },
   {
    "duration": 154,
    "start_time": "2022-09-05T07:11:47.026Z"
   },
   {
    "duration": 152,
    "start_time": "2022-09-05T07:11:47.182Z"
   },
   {
    "duration": 263,
    "start_time": "2022-09-05T07:11:47.336Z"
   },
   {
    "duration": 159,
    "start_time": "2022-09-05T07:11:47.602Z"
   },
   {
    "duration": 6,
    "start_time": "2022-09-05T07:11:47.763Z"
   },
   {
    "duration": 153,
    "start_time": "2022-09-05T07:11:47.770Z"
   },
   {
    "duration": 4,
    "start_time": "2022-09-05T07:11:47.925Z"
   },
   {
    "duration": 162,
    "start_time": "2022-09-05T07:11:47.931Z"
   },
   {
    "duration": 4,
    "start_time": "2022-09-05T07:11:48.095Z"
   },
   {
    "duration": 22,
    "start_time": "2022-09-05T07:11:48.100Z"
   },
   {
    "duration": 175,
    "start_time": "2022-09-05T07:11:48.124Z"
   },
   {
    "duration": 3,
    "start_time": "2022-09-05T07:11:48.300Z"
   },
   {
    "duration": 3240,
    "start_time": "2022-09-05T07:11:52.819Z"
   },
   {
    "duration": 13,
    "start_time": "2022-09-05T07:11:56.062Z"
   },
   {
    "duration": 6,
    "start_time": "2022-09-05T07:11:56.077Z"
   },
   {
    "duration": 258,
    "start_time": "2022-09-05T07:11:56.085Z"
   },
   {
    "duration": 256,
    "start_time": "2022-09-05T07:11:56.348Z"
   },
   {
    "duration": 47,
    "start_time": "2022-09-05T07:11:56.606Z"
   },
   {
    "duration": 8,
    "start_time": "2022-09-05T07:11:56.655Z"
   },
   {
    "duration": 32,
    "start_time": "2022-09-05T07:11:56.664Z"
   },
   {
    "duration": 3,
    "start_time": "2022-09-05T07:11:56.698Z"
   },
   {
    "duration": 12,
    "start_time": "2022-09-05T07:11:56.702Z"
   },
   {
    "duration": 94,
    "start_time": "2022-09-05T07:11:56.715Z"
   },
   {
    "duration": 51,
    "start_time": "2022-09-05T07:11:56.811Z"
   },
   {
    "duration": 32,
    "start_time": "2022-09-05T07:11:56.864Z"
   },
   {
    "duration": 131,
    "start_time": "2022-09-05T07:11:56.899Z"
   },
   {
    "duration": 118,
    "start_time": "2022-09-05T07:11:57.032Z"
   },
   {
    "duration": 124,
    "start_time": "2022-09-05T07:11:57.151Z"
   },
   {
    "duration": 140,
    "start_time": "2022-09-05T07:11:57.276Z"
   },
   {
    "duration": 14,
    "start_time": "2022-09-05T07:11:57.417Z"
   },
   {
    "duration": 37,
    "start_time": "2022-09-05T07:11:57.432Z"
   },
   {
    "duration": 15,
    "start_time": "2022-09-05T07:11:57.488Z"
   },
   {
    "duration": 9,
    "start_time": "2022-09-05T07:11:57.504Z"
   },
   {
    "duration": 11,
    "start_time": "2022-09-05T07:11:57.514Z"
   },
   {
    "duration": 118,
    "start_time": "2022-09-05T07:11:57.526Z"
   },
   {
    "duration": 8,
    "start_time": "2022-09-05T07:11:57.646Z"
   },
   {
    "duration": 16,
    "start_time": "2022-09-05T07:11:57.657Z"
   },
   {
    "duration": 319,
    "start_time": "2022-09-05T07:11:57.675Z"
   },
   {
    "duration": 526,
    "start_time": "2022-09-05T07:11:57.996Z"
   },
   {
    "duration": 496,
    "start_time": "2022-09-05T07:11:58.524Z"
   },
   {
    "duration": 589,
    "start_time": "2022-09-05T07:11:59.021Z"
   },
   {
    "duration": 385,
    "start_time": "2022-09-05T07:11:59.612Z"
   },
   {
    "duration": 306,
    "start_time": "2022-09-05T07:11:59.999Z"
   },
   {
    "duration": 218,
    "start_time": "2022-09-05T07:12:00.307Z"
   },
   {
    "duration": 133,
    "start_time": "2022-09-05T07:12:00.527Z"
   },
   {
    "duration": 217,
    "start_time": "2022-09-05T07:12:00.661Z"
   },
   {
    "duration": 235,
    "start_time": "2022-09-05T07:12:00.880Z"
   },
   {
    "duration": 332,
    "start_time": "2022-09-05T07:12:01.117Z"
   },
   {
    "duration": 224,
    "start_time": "2022-09-05T07:12:01.451Z"
   },
   {
    "duration": 236,
    "start_time": "2022-09-05T07:12:01.677Z"
   },
   {
    "duration": 335,
    "start_time": "2022-09-05T07:12:01.914Z"
   },
   {
    "duration": 297,
    "start_time": "2022-09-05T07:12:02.251Z"
   },
   {
    "duration": 88,
    "start_time": "2022-09-05T07:12:02.552Z"
   },
   {
    "duration": 53,
    "start_time": "2022-09-05T07:12:02.643Z"
   },
   {
    "duration": 44,
    "start_time": "2022-09-05T07:12:02.698Z"
   },
   {
    "duration": 193,
    "start_time": "2022-09-05T07:12:02.745Z"
   },
   {
    "duration": 5,
    "start_time": "2022-09-05T07:12:02.940Z"
   },
   {
    "duration": 176,
    "start_time": "2022-09-05T07:12:02.947Z"
   },
   {
    "duration": 148,
    "start_time": "2022-09-05T07:12:03.124Z"
   },
   {
    "duration": 174,
    "start_time": "2022-09-05T07:12:03.274Z"
   },
   {
    "duration": 239,
    "start_time": "2022-09-05T07:12:03.450Z"
   },
   {
    "duration": 184,
    "start_time": "2022-09-05T07:12:03.691Z"
   },
   {
    "duration": 12,
    "start_time": "2022-09-05T07:12:03.877Z"
   },
   {
    "duration": 164,
    "start_time": "2022-09-05T07:12:03.891Z"
   },
   {
    "duration": 6,
    "start_time": "2022-09-05T07:12:04.057Z"
   },
   {
    "duration": 172,
    "start_time": "2022-09-05T07:12:04.064Z"
   },
   {
    "duration": 4,
    "start_time": "2022-09-05T07:12:04.238Z"
   },
   {
    "duration": 41,
    "start_time": "2022-09-05T07:12:04.244Z"
   },
   {
    "duration": 182,
    "start_time": "2022-09-05T07:12:04.287Z"
   },
   {
    "duration": 4,
    "start_time": "2022-09-05T07:12:04.471Z"
   },
   {
    "duration": 3075,
    "start_time": "2022-09-05T07:12:04.487Z"
   },
   {
    "duration": 379,
    "start_time": "2022-09-05T07:12:07.564Z"
   },
   {
    "duration": 124,
    "start_time": "2022-09-05T07:12:07.946Z"
   },
   {
    "duration": 105,
    "start_time": "2022-09-05T07:12:08.071Z"
   },
   {
    "duration": 4343,
    "start_time": "2022-09-05T07:13:46.547Z"
   },
   {
    "duration": 11,
    "start_time": "2022-09-05T07:13:50.893Z"
   },
   {
    "duration": 8,
    "start_time": "2022-09-05T07:13:50.906Z"
   },
   {
    "duration": 241,
    "start_time": "2022-09-05T07:13:50.917Z"
   },
   {
    "duration": 201,
    "start_time": "2022-09-05T07:13:51.161Z"
   },
   {
    "duration": 55,
    "start_time": "2022-09-05T07:13:51.365Z"
   },
   {
    "duration": 13,
    "start_time": "2022-09-05T07:13:51.422Z"
   },
   {
    "duration": 19,
    "start_time": "2022-09-05T07:13:51.437Z"
   },
   {
    "duration": 4,
    "start_time": "2022-09-05T07:13:51.458Z"
   },
   {
    "duration": 22,
    "start_time": "2022-09-05T07:13:51.465Z"
   },
   {
    "duration": 70,
    "start_time": "2022-09-05T07:13:51.489Z"
   },
   {
    "duration": 66,
    "start_time": "2022-09-05T07:13:51.561Z"
   },
   {
    "duration": 16,
    "start_time": "2022-09-05T07:13:51.629Z"
   },
   {
    "duration": 146,
    "start_time": "2022-09-05T07:13:51.647Z"
   },
   {
    "duration": 119,
    "start_time": "2022-09-05T07:13:51.794Z"
   },
   {
    "duration": 129,
    "start_time": "2022-09-05T07:13:51.915Z"
   },
   {
    "duration": 128,
    "start_time": "2022-09-05T07:13:52.046Z"
   },
   {
    "duration": 21,
    "start_time": "2022-09-05T07:13:52.176Z"
   },
   {
    "duration": 36,
    "start_time": "2022-09-05T07:13:52.199Z"
   },
   {
    "duration": 16,
    "start_time": "2022-09-05T07:13:52.236Z"
   },
   {
    "duration": 7,
    "start_time": "2022-09-05T07:13:52.254Z"
   },
   {
    "duration": 8,
    "start_time": "2022-09-05T07:13:52.288Z"
   },
   {
    "duration": 67,
    "start_time": "2022-09-05T07:13:52.297Z"
   },
   {
    "duration": 5,
    "start_time": "2022-09-05T07:13:52.366Z"
   },
   {
    "duration": 10,
    "start_time": "2022-09-05T07:13:52.386Z"
   },
   {
    "duration": 309,
    "start_time": "2022-09-05T07:13:52.398Z"
   },
   {
    "duration": 437,
    "start_time": "2022-09-05T07:13:52.709Z"
   },
   {
    "duration": 210,
    "start_time": "2022-09-05T07:13:53.150Z"
   },
   {
    "duration": 283,
    "start_time": "2022-09-05T07:13:53.362Z"
   },
   {
    "duration": 192,
    "start_time": "2022-09-05T07:13:53.647Z"
   },
   {
    "duration": 231,
    "start_time": "2022-09-05T07:13:53.841Z"
   },
   {
    "duration": 215,
    "start_time": "2022-09-05T07:13:54.074Z"
   },
   {
    "duration": 142,
    "start_time": "2022-09-05T07:13:54.291Z"
   },
   {
    "duration": 207,
    "start_time": "2022-09-05T07:13:54.435Z"
   },
   {
    "duration": 238,
    "start_time": "2022-09-05T07:13:54.644Z"
   },
   {
    "duration": 350,
    "start_time": "2022-09-05T07:13:54.883Z"
   },
   {
    "duration": 224,
    "start_time": "2022-09-05T07:13:55.236Z"
   },
   {
    "duration": 235,
    "start_time": "2022-09-05T07:13:55.462Z"
   },
   {
    "duration": 253,
    "start_time": "2022-09-05T07:13:55.698Z"
   },
   {
    "duration": 241,
    "start_time": "2022-09-05T07:13:55.953Z"
   },
   {
    "duration": 95,
    "start_time": "2022-09-05T07:13:56.197Z"
   },
   {
    "duration": 48,
    "start_time": "2022-09-05T07:13:56.294Z"
   },
   {
    "duration": 74,
    "start_time": "2022-09-05T07:13:56.344Z"
   },
   {
    "duration": 225,
    "start_time": "2022-09-05T07:13:56.420Z"
   },
   {
    "duration": 6,
    "start_time": "2022-09-05T07:13:56.647Z"
   },
   {
    "duration": 190,
    "start_time": "2022-09-05T07:13:56.655Z"
   },
   {
    "duration": 150,
    "start_time": "2022-09-05T07:13:56.848Z"
   },
   {
    "duration": 155,
    "start_time": "2022-09-05T07:13:57.000Z"
   },
   {
    "duration": 240,
    "start_time": "2022-09-05T07:13:57.156Z"
   },
   {
    "duration": 174,
    "start_time": "2022-09-05T07:13:57.398Z"
   },
   {
    "duration": 13,
    "start_time": "2022-09-05T07:13:57.574Z"
   },
   {
    "duration": 149,
    "start_time": "2022-09-05T07:13:57.588Z"
   },
   {
    "duration": 6,
    "start_time": "2022-09-05T07:13:57.739Z"
   },
   {
    "duration": 180,
    "start_time": "2022-09-05T07:13:57.747Z"
   },
   {
    "duration": 5,
    "start_time": "2022-09-05T07:13:57.929Z"
   },
   {
    "duration": 23,
    "start_time": "2022-09-05T07:13:57.936Z"
   },
   {
    "duration": 191,
    "start_time": "2022-09-05T07:13:57.961Z"
   },
   {
    "duration": 2,
    "start_time": "2022-09-05T07:13:58.154Z"
   },
   {
    "duration": 2879,
    "start_time": "2022-09-05T07:13:58.158Z"
   },
   {
    "duration": 368,
    "start_time": "2022-09-05T07:14:01.040Z"
   },
   {
    "duration": 120,
    "start_time": "2022-09-05T07:14:01.410Z"
   },
   {
    "duration": 100,
    "start_time": "2022-09-05T07:14:01.532Z"
   },
   {
    "duration": 3296,
    "start_time": "2022-09-05T07:16:22.438Z"
   },
   {
    "duration": 50,
    "start_time": "2022-09-05T07:16:25.737Z"
   },
   {
    "duration": 4,
    "start_time": "2022-09-05T07:16:25.789Z"
   },
   {
    "duration": 513,
    "start_time": "2022-09-05T07:16:25.794Z"
   },
   {
    "duration": 478,
    "start_time": "2022-09-05T07:16:26.311Z"
   },
   {
    "duration": 96,
    "start_time": "2022-09-05T07:16:26.791Z"
   },
   {
    "duration": 10,
    "start_time": "2022-09-05T07:16:26.889Z"
   },
   {
    "duration": 27,
    "start_time": "2022-09-05T07:16:26.901Z"
   },
   {
    "duration": 4,
    "start_time": "2022-09-05T07:16:26.930Z"
   },
   {
    "duration": 9,
    "start_time": "2022-09-05T07:16:26.988Z"
   },
   {
    "duration": 124,
    "start_time": "2022-09-05T07:16:26.999Z"
   },
   {
    "duration": 104,
    "start_time": "2022-09-05T07:16:27.125Z"
   },
   {
    "duration": 69,
    "start_time": "2022-09-05T07:16:27.231Z"
   },
   {
    "duration": 233,
    "start_time": "2022-09-05T07:16:27.303Z"
   },
   {
    "duration": 256,
    "start_time": "2022-09-05T07:16:27.538Z"
   },
   {
    "duration": 116,
    "start_time": "2022-09-05T07:16:27.795Z"
   },
   {
    "duration": 141,
    "start_time": "2022-09-05T07:16:27.913Z"
   },
   {
    "duration": 13,
    "start_time": "2022-09-05T07:16:28.056Z"
   },
   {
    "duration": 46,
    "start_time": "2022-09-05T07:16:28.070Z"
   },
   {
    "duration": 16,
    "start_time": "2022-09-05T07:16:28.117Z"
   },
   {
    "duration": 4,
    "start_time": "2022-09-05T07:16:28.134Z"
   },
   {
    "duration": 9,
    "start_time": "2022-09-05T07:16:28.140Z"
   },
   {
    "duration": 129,
    "start_time": "2022-09-05T07:16:28.186Z"
   },
   {
    "duration": 7,
    "start_time": "2022-09-05T07:16:28.317Z"
   },
   {
    "duration": 10,
    "start_time": "2022-09-05T07:16:28.326Z"
   },
   {
    "duration": 414,
    "start_time": "2022-09-05T07:16:28.387Z"
   },
   {
    "duration": 436,
    "start_time": "2022-09-05T07:16:28.802Z"
   },
   {
    "duration": 211,
    "start_time": "2022-09-05T07:16:29.240Z"
   },
   {
    "duration": 285,
    "start_time": "2022-09-05T07:16:29.453Z"
   },
   {
    "duration": 189,
    "start_time": "2022-09-05T07:16:29.740Z"
   },
   {
    "duration": 234,
    "start_time": "2022-09-05T07:16:29.931Z"
   },
   {
    "duration": 208,
    "start_time": "2022-09-05T07:16:30.167Z"
   },
   {
    "duration": 140,
    "start_time": "2022-09-05T07:16:30.377Z"
   },
   {
    "duration": 200,
    "start_time": "2022-09-05T07:16:30.519Z"
   },
   {
    "duration": 242,
    "start_time": "2022-09-05T07:16:30.721Z"
   },
   {
    "duration": 322,
    "start_time": "2022-09-05T07:16:30.965Z"
   },
   {
    "duration": 215,
    "start_time": "2022-09-05T07:16:31.288Z"
   },
   {
    "duration": 207,
    "start_time": "2022-09-05T07:16:31.505Z"
   },
   {
    "duration": 262,
    "start_time": "2022-09-05T07:16:31.714Z"
   },
   {
    "duration": 250,
    "start_time": "2022-09-05T07:16:31.978Z"
   },
   {
    "duration": 74,
    "start_time": "2022-09-05T07:16:32.232Z"
   },
   {
    "duration": 31,
    "start_time": "2022-09-05T07:16:32.308Z"
   },
   {
    "duration": 57,
    "start_time": "2022-09-05T07:16:32.341Z"
   },
   {
    "duration": 166,
    "start_time": "2022-09-05T07:16:32.399Z"
   },
   {
    "duration": 4,
    "start_time": "2022-09-05T07:16:32.567Z"
   },
   {
    "duration": 154,
    "start_time": "2022-09-05T07:16:32.573Z"
   },
   {
    "duration": 150,
    "start_time": "2022-09-05T07:16:32.728Z"
   },
   {
    "duration": 163,
    "start_time": "2022-09-05T07:16:32.880Z"
   },
   {
    "duration": 238,
    "start_time": "2022-09-05T07:16:33.045Z"
   },
   {
    "duration": 165,
    "start_time": "2022-09-05T07:16:33.286Z"
   },
   {
    "duration": 4,
    "start_time": "2022-09-05T07:16:33.453Z"
   },
   {
    "duration": 150,
    "start_time": "2022-09-05T07:16:33.459Z"
   },
   {
    "duration": 5,
    "start_time": "2022-09-05T07:16:33.611Z"
   },
   {
    "duration": 149,
    "start_time": "2022-09-05T07:16:33.617Z"
   },
   {
    "duration": 19,
    "start_time": "2022-09-05T07:16:33.769Z"
   },
   {
    "duration": 22,
    "start_time": "2022-09-05T07:16:33.790Z"
   },
   {
    "duration": 181,
    "start_time": "2022-09-05T07:16:33.814Z"
   },
   {
    "duration": 3,
    "start_time": "2022-09-05T07:16:33.997Z"
   },
   {
    "duration": 2912,
    "start_time": "2022-09-05T07:16:34.002Z"
   },
   {
    "duration": 360,
    "start_time": "2022-09-05T07:16:36.916Z"
   },
   {
    "duration": 113,
    "start_time": "2022-09-05T07:16:37.278Z"
   },
   {
    "duration": 88,
    "start_time": "2022-09-05T07:16:37.393Z"
   },
   {
    "duration": 4089,
    "start_time": "2022-09-05T07:18:51.601Z"
   },
   {
    "duration": 10,
    "start_time": "2022-09-05T07:18:55.692Z"
   },
   {
    "duration": 5,
    "start_time": "2022-09-05T07:18:55.704Z"
   },
   {
    "duration": 241,
    "start_time": "2022-09-05T07:18:55.711Z"
   },
   {
    "duration": 216,
    "start_time": "2022-09-05T07:18:55.954Z"
   },
   {
    "duration": 46,
    "start_time": "2022-09-05T07:18:56.172Z"
   },
   {
    "duration": 10,
    "start_time": "2022-09-05T07:18:56.221Z"
   },
   {
    "duration": 22,
    "start_time": "2022-09-05T07:18:56.234Z"
   },
   {
    "duration": 4,
    "start_time": "2022-09-05T07:18:56.259Z"
   },
   {
    "duration": 13,
    "start_time": "2022-09-05T07:18:56.286Z"
   },
   {
    "duration": 105,
    "start_time": "2022-09-05T07:18:56.301Z"
   },
   {
    "duration": 68,
    "start_time": "2022-09-05T07:18:56.408Z"
   },
   {
    "duration": 25,
    "start_time": "2022-09-05T07:18:56.478Z"
   },
   {
    "duration": 168,
    "start_time": "2022-09-05T07:18:56.506Z"
   },
   {
    "duration": 120,
    "start_time": "2022-09-05T07:18:56.676Z"
   },
   {
    "duration": 139,
    "start_time": "2022-09-05T07:18:56.798Z"
   },
   {
    "duration": 129,
    "start_time": "2022-09-05T07:18:56.938Z"
   },
   {
    "duration": 25,
    "start_time": "2022-09-05T07:18:57.070Z"
   },
   {
    "duration": 46,
    "start_time": "2022-09-05T07:18:57.097Z"
   },
   {
    "duration": 44,
    "start_time": "2022-09-05T07:18:57.146Z"
   },
   {
    "duration": 5,
    "start_time": "2022-09-05T07:18:57.192Z"
   },
   {
    "duration": 16,
    "start_time": "2022-09-05T07:18:57.199Z"
   },
   {
    "duration": 89,
    "start_time": "2022-09-05T07:18:57.217Z"
   },
   {
    "duration": 6,
    "start_time": "2022-09-05T07:18:57.307Z"
   },
   {
    "duration": 7,
    "start_time": "2022-09-05T07:18:57.314Z"
   },
   {
    "duration": 307,
    "start_time": "2022-09-05T07:18:57.322Z"
   },
   {
    "duration": 442,
    "start_time": "2022-09-05T07:18:57.631Z"
   },
   {
    "duration": 218,
    "start_time": "2022-09-05T07:18:58.077Z"
   },
   {
    "duration": 296,
    "start_time": "2022-09-05T07:18:58.297Z"
   },
   {
    "duration": 184,
    "start_time": "2022-09-05T07:18:58.595Z"
   },
   {
    "duration": 233,
    "start_time": "2022-09-05T07:18:58.781Z"
   },
   {
    "duration": 214,
    "start_time": "2022-09-05T07:18:59.017Z"
   },
   {
    "duration": 123,
    "start_time": "2022-09-05T07:18:59.233Z"
   },
   {
    "duration": 231,
    "start_time": "2022-09-05T07:18:59.358Z"
   },
   {
    "duration": 201,
    "start_time": "2022-09-05T07:18:59.591Z"
   },
   {
    "duration": 323,
    "start_time": "2022-09-05T07:18:59.795Z"
   },
   {
    "duration": 218,
    "start_time": "2022-09-05T07:19:00.119Z"
   },
   {
    "duration": 211,
    "start_time": "2022-09-05T07:19:00.339Z"
   },
   {
    "duration": 249,
    "start_time": "2022-09-05T07:19:00.552Z"
   },
   {
    "duration": 225,
    "start_time": "2022-09-05T07:19:00.803Z"
   },
   {
    "duration": 80,
    "start_time": "2022-09-05T07:19:01.030Z"
   },
   {
    "duration": 37,
    "start_time": "2022-09-05T07:19:01.111Z"
   },
   {
    "duration": 56,
    "start_time": "2022-09-05T07:19:01.149Z"
   },
   {
    "duration": 166,
    "start_time": "2022-09-05T07:19:01.207Z"
   },
   {
    "duration": 12,
    "start_time": "2022-09-05T07:19:01.375Z"
   },
   {
    "duration": 173,
    "start_time": "2022-09-05T07:19:01.389Z"
   },
   {
    "duration": 161,
    "start_time": "2022-09-05T07:19:01.563Z"
   },
   {
    "duration": 161,
    "start_time": "2022-09-05T07:19:01.726Z"
   },
   {
    "duration": 261,
    "start_time": "2022-09-05T07:19:01.889Z"
   },
   {
    "duration": 149,
    "start_time": "2022-09-05T07:19:02.152Z"
   },
   {
    "duration": 5,
    "start_time": "2022-09-05T07:19:02.302Z"
   },
   {
    "duration": 174,
    "start_time": "2022-09-05T07:19:02.309Z"
   },
   {
    "duration": 5,
    "start_time": "2022-09-05T07:19:02.486Z"
   },
   {
    "duration": 182,
    "start_time": "2022-09-05T07:19:02.493Z"
   },
   {
    "duration": 4,
    "start_time": "2022-09-05T07:19:02.677Z"
   },
   {
    "duration": 52,
    "start_time": "2022-09-05T07:19:02.689Z"
   },
   {
    "duration": 181,
    "start_time": "2022-09-05T07:19:02.742Z"
   },
   {
    "duration": 2,
    "start_time": "2022-09-05T07:19:02.925Z"
   },
   {
    "duration": 3138,
    "start_time": "2022-09-05T07:19:02.929Z"
   },
   {
    "duration": 465,
    "start_time": "2022-09-05T07:19:06.069Z"
   },
   {
    "duration": 138,
    "start_time": "2022-09-05T07:19:06.536Z"
   },
   {
    "duration": 105,
    "start_time": "2022-09-05T07:19:06.675Z"
   },
   {
    "duration": 4133,
    "start_time": "2022-09-05T07:20:29.118Z"
   },
   {
    "duration": 12,
    "start_time": "2022-09-05T07:20:33.253Z"
   },
   {
    "duration": 5,
    "start_time": "2022-09-05T07:20:33.267Z"
   },
   {
    "duration": 240,
    "start_time": "2022-09-05T07:20:33.274Z"
   },
   {
    "duration": 209,
    "start_time": "2022-09-05T07:20:33.516Z"
   },
   {
    "duration": 43,
    "start_time": "2022-09-05T07:20:33.727Z"
   },
   {
    "duration": 17,
    "start_time": "2022-09-05T07:20:33.772Z"
   },
   {
    "duration": 17,
    "start_time": "2022-09-05T07:20:33.790Z"
   },
   {
    "duration": 4,
    "start_time": "2022-09-05T07:20:33.808Z"
   },
   {
    "duration": 8,
    "start_time": "2022-09-05T07:20:33.814Z"
   },
   {
    "duration": 100,
    "start_time": "2022-09-05T07:20:33.823Z"
   },
   {
    "duration": 63,
    "start_time": "2022-09-05T07:20:33.924Z"
   },
   {
    "duration": 18,
    "start_time": "2022-09-05T07:20:33.988Z"
   },
   {
    "duration": 141,
    "start_time": "2022-09-05T07:20:34.008Z"
   },
   {
    "duration": 120,
    "start_time": "2022-09-05T07:20:34.151Z"
   },
   {
    "duration": 131,
    "start_time": "2022-09-05T07:20:34.273Z"
   },
   {
    "duration": 141,
    "start_time": "2022-09-05T07:20:34.406Z"
   },
   {
    "duration": 15,
    "start_time": "2022-09-05T07:20:34.549Z"
   },
   {
    "duration": 60,
    "start_time": "2022-09-05T07:20:34.566Z"
   },
   {
    "duration": 17,
    "start_time": "2022-09-05T07:20:34.628Z"
   },
   {
    "duration": 7,
    "start_time": "2022-09-05T07:20:34.648Z"
   },
   {
    "duration": 19,
    "start_time": "2022-09-05T07:20:34.656Z"
   },
   {
    "duration": 77,
    "start_time": "2022-09-05T07:20:34.686Z"
   },
   {
    "duration": 5,
    "start_time": "2022-09-05T07:20:34.765Z"
   },
   {
    "duration": 17,
    "start_time": "2022-09-05T07:20:34.772Z"
   },
   {
    "duration": 275,
    "start_time": "2022-09-05T07:20:34.790Z"
   },
   {
    "duration": 428,
    "start_time": "2022-09-05T07:20:35.067Z"
   },
   {
    "duration": 233,
    "start_time": "2022-09-05T07:20:35.499Z"
   },
   {
    "duration": 299,
    "start_time": "2022-09-05T07:20:35.734Z"
   },
   {
    "duration": 206,
    "start_time": "2022-09-05T07:20:36.035Z"
   },
   {
    "duration": 293,
    "start_time": "2022-09-05T07:20:36.243Z"
   },
   {
    "duration": 236,
    "start_time": "2022-09-05T07:20:36.537Z"
   },
   {
    "duration": 134,
    "start_time": "2022-09-05T07:20:36.774Z"
   },
   {
    "duration": 216,
    "start_time": "2022-09-05T07:20:36.910Z"
   },
   {
    "duration": 220,
    "start_time": "2022-09-05T07:20:37.127Z"
   },
   {
    "duration": 342,
    "start_time": "2022-09-05T07:20:37.349Z"
   },
   {
    "duration": 237,
    "start_time": "2022-09-05T07:20:37.693Z"
   },
   {
    "duration": 232,
    "start_time": "2022-09-05T07:20:37.931Z"
   },
   {
    "duration": 246,
    "start_time": "2022-09-05T07:20:38.165Z"
   },
   {
    "duration": 214,
    "start_time": "2022-09-05T07:20:38.413Z"
   },
   {
    "duration": 73,
    "start_time": "2022-09-05T07:20:38.628Z"
   },
   {
    "duration": 35,
    "start_time": "2022-09-05T07:20:38.703Z"
   },
   {
    "duration": 57,
    "start_time": "2022-09-05T07:20:38.740Z"
   },
   {
    "duration": 162,
    "start_time": "2022-09-05T07:20:38.799Z"
   },
   {
    "duration": 4,
    "start_time": "2022-09-05T07:20:38.964Z"
   },
   {
    "duration": 163,
    "start_time": "2022-09-05T07:20:38.970Z"
   },
   {
    "duration": 164,
    "start_time": "2022-09-05T07:20:39.134Z"
   },
   {
    "duration": 156,
    "start_time": "2022-09-05T07:20:39.300Z"
   },
   {
    "duration": 260,
    "start_time": "2022-09-05T07:20:39.458Z"
   },
   {
    "duration": 178,
    "start_time": "2022-09-05T07:20:39.720Z"
   },
   {
    "duration": 5,
    "start_time": "2022-09-05T07:20:39.899Z"
   },
   {
    "duration": 166,
    "start_time": "2022-09-05T07:20:39.906Z"
   },
   {
    "duration": 14,
    "start_time": "2022-09-05T07:20:40.074Z"
   },
   {
    "duration": 164,
    "start_time": "2022-09-05T07:20:40.090Z"
   },
   {
    "duration": 5,
    "start_time": "2022-09-05T07:20:40.256Z"
   },
   {
    "duration": 32,
    "start_time": "2022-09-05T07:20:40.262Z"
   },
   {
    "duration": 195,
    "start_time": "2022-09-05T07:20:40.296Z"
   },
   {
    "duration": 3,
    "start_time": "2022-09-05T07:20:40.493Z"
   },
   {
    "duration": 2984,
    "start_time": "2022-09-05T07:20:40.498Z"
   },
   {
    "duration": 357,
    "start_time": "2022-09-05T07:20:43.484Z"
   },
   {
    "duration": 123,
    "start_time": "2022-09-05T07:20:43.843Z"
   },
   {
    "duration": 98,
    "start_time": "2022-09-05T07:20:43.968Z"
   },
   {
    "duration": 4220,
    "start_time": "2022-09-05T07:20:50.722Z"
   },
   {
    "duration": 10,
    "start_time": "2022-09-05T07:20:54.944Z"
   },
   {
    "duration": 6,
    "start_time": "2022-09-05T07:20:54.956Z"
   },
   {
    "duration": 228,
    "start_time": "2022-09-05T07:20:54.964Z"
   },
   {
    "duration": 208,
    "start_time": "2022-09-05T07:20:55.193Z"
   },
   {
    "duration": 43,
    "start_time": "2022-09-05T07:20:55.402Z"
   },
   {
    "duration": 7,
    "start_time": "2022-09-05T07:20:55.447Z"
   },
   {
    "duration": 40,
    "start_time": "2022-09-05T07:20:55.455Z"
   },
   {
    "duration": 3,
    "start_time": "2022-09-05T07:20:55.497Z"
   },
   {
    "duration": 9,
    "start_time": "2022-09-05T07:20:55.502Z"
   },
   {
    "duration": 85,
    "start_time": "2022-09-05T07:20:55.513Z"
   },
   {
    "duration": 53,
    "start_time": "2022-09-05T07:20:55.600Z"
   },
   {
    "duration": 15,
    "start_time": "2022-09-05T07:20:55.655Z"
   },
   {
    "duration": 134,
    "start_time": "2022-09-05T07:20:55.688Z"
   },
   {
    "duration": 123,
    "start_time": "2022-09-05T07:20:55.824Z"
   },
   {
    "duration": 140,
    "start_time": "2022-09-05T07:20:55.949Z"
   },
   {
    "duration": 138,
    "start_time": "2022-09-05T07:20:56.091Z"
   },
   {
    "duration": 20,
    "start_time": "2022-09-05T07:20:56.231Z"
   },
   {
    "duration": 70,
    "start_time": "2022-09-05T07:20:56.253Z"
   },
   {
    "duration": 19,
    "start_time": "2022-09-05T07:20:56.325Z"
   },
   {
    "duration": 5,
    "start_time": "2022-09-05T07:20:56.347Z"
   },
   {
    "duration": 38,
    "start_time": "2022-09-05T07:20:56.354Z"
   },
   {
    "duration": 109,
    "start_time": "2022-09-05T07:20:56.397Z"
   },
   {
    "duration": 7,
    "start_time": "2022-09-05T07:20:56.508Z"
   },
   {
    "duration": 13,
    "start_time": "2022-09-05T07:20:56.518Z"
   },
   {
    "duration": 300,
    "start_time": "2022-09-05T07:20:56.534Z"
   },
   {
    "duration": 420,
    "start_time": "2022-09-05T07:20:56.836Z"
   },
   {
    "duration": 229,
    "start_time": "2022-09-05T07:20:57.260Z"
   },
   {
    "duration": 312,
    "start_time": "2022-09-05T07:20:57.491Z"
   },
   {
    "duration": 190,
    "start_time": "2022-09-05T07:20:57.805Z"
   },
   {
    "duration": 243,
    "start_time": "2022-09-05T07:20:57.996Z"
   },
   {
    "duration": 210,
    "start_time": "2022-09-05T07:20:58.241Z"
   },
   {
    "duration": 147,
    "start_time": "2022-09-05T07:20:58.453Z"
   },
   {
    "duration": 213,
    "start_time": "2022-09-05T07:20:58.602Z"
   },
   {
    "duration": 205,
    "start_time": "2022-09-05T07:20:58.817Z"
   },
   {
    "duration": 313,
    "start_time": "2022-09-05T07:20:59.025Z"
   },
   {
    "duration": 229,
    "start_time": "2022-09-05T07:20:59.340Z"
   },
   {
    "duration": 220,
    "start_time": "2022-09-05T07:20:59.571Z"
   },
   {
    "duration": 243,
    "start_time": "2022-09-05T07:20:59.793Z"
   },
   {
    "duration": 249,
    "start_time": "2022-09-05T07:21:00.038Z"
   },
   {
    "duration": 70,
    "start_time": "2022-09-05T07:21:00.289Z"
   },
   {
    "duration": 51,
    "start_time": "2022-09-05T07:21:00.361Z"
   },
   {
    "duration": 40,
    "start_time": "2022-09-05T07:21:00.414Z"
   },
   {
    "duration": 184,
    "start_time": "2022-09-05T07:21:00.456Z"
   },
   {
    "duration": 5,
    "start_time": "2022-09-05T07:21:00.642Z"
   },
   {
    "duration": 166,
    "start_time": "2022-09-05T07:21:00.649Z"
   },
   {
    "duration": 163,
    "start_time": "2022-09-05T07:21:00.817Z"
   },
   {
    "duration": 170,
    "start_time": "2022-09-05T07:21:00.987Z"
   },
   {
    "duration": 265,
    "start_time": "2022-09-05T07:21:01.158Z"
   },
   {
    "duration": 173,
    "start_time": "2022-09-05T07:21:01.425Z"
   },
   {
    "duration": 5,
    "start_time": "2022-09-05T07:21:01.599Z"
   },
   {
    "duration": 193,
    "start_time": "2022-09-05T07:21:01.606Z"
   },
   {
    "duration": 6,
    "start_time": "2022-09-05T07:21:01.801Z"
   },
   {
    "duration": 178,
    "start_time": "2022-09-05T07:21:01.808Z"
   },
   {
    "duration": 5,
    "start_time": "2022-09-05T07:21:01.988Z"
   },
   {
    "duration": 63,
    "start_time": "2022-09-05T07:21:01.995Z"
   },
   {
    "duration": 194,
    "start_time": "2022-09-05T07:21:02.060Z"
   },
   {
    "duration": 3,
    "start_time": "2022-09-05T07:21:02.256Z"
   },
   {
    "duration": 3182,
    "start_time": "2022-09-05T07:21:02.260Z"
   },
   {
    "duration": 394,
    "start_time": "2022-09-05T07:21:05.444Z"
   },
   {
    "duration": 125,
    "start_time": "2022-09-05T07:21:05.840Z"
   },
   {
    "duration": 122,
    "start_time": "2022-09-05T07:21:05.967Z"
   },
   {
    "duration": 128,
    "start_time": "2022-09-05T07:24:30.090Z"
   },
   {
    "duration": 41,
    "start_time": "2022-09-05T07:25:04.550Z"
   },
   {
    "duration": 3691,
    "start_time": "2022-09-05T07:25:10.139Z"
   },
   {
    "duration": 9,
    "start_time": "2022-09-05T07:25:13.833Z"
   },
   {
    "duration": 44,
    "start_time": "2022-09-05T07:25:13.844Z"
   },
   {
    "duration": 496,
    "start_time": "2022-09-05T07:25:13.891Z"
   },
   {
    "duration": 416,
    "start_time": "2022-09-05T07:25:14.391Z"
   },
   {
    "duration": 97,
    "start_time": "2022-09-05T07:25:14.809Z"
   },
   {
    "duration": 8,
    "start_time": "2022-09-05T07:25:14.907Z"
   },
   {
    "duration": 18,
    "start_time": "2022-09-05T07:25:14.916Z"
   },
   {
    "duration": 3,
    "start_time": "2022-09-05T07:25:14.936Z"
   },
   {
    "duration": 8,
    "start_time": "2022-09-05T07:25:14.942Z"
   },
   {
    "duration": 99,
    "start_time": "2022-09-05T07:25:14.952Z"
   },
   {
    "duration": 62,
    "start_time": "2022-09-05T07:25:15.053Z"
   },
   {
    "duration": 15,
    "start_time": "2022-09-05T07:25:15.117Z"
   },
   {
    "duration": 156,
    "start_time": "2022-09-05T07:25:15.133Z"
   },
   {
    "duration": 135,
    "start_time": "2022-09-05T07:25:15.290Z"
   },
   {
    "duration": 138,
    "start_time": "2022-09-05T07:25:15.427Z"
   },
   {
    "duration": 147,
    "start_time": "2022-09-05T07:25:15.566Z"
   },
   {
    "duration": 16,
    "start_time": "2022-09-05T07:25:15.715Z"
   },
   {
    "duration": 67,
    "start_time": "2022-09-05T07:25:15.733Z"
   },
   {
    "duration": 16,
    "start_time": "2022-09-05T07:25:15.802Z"
   },
   {
    "duration": 12,
    "start_time": "2022-09-05T07:25:15.820Z"
   },
   {
    "duration": 34,
    "start_time": "2022-09-05T07:25:15.833Z"
   },
   {
    "duration": 91,
    "start_time": "2022-09-05T07:25:15.869Z"
   },
   {
    "duration": 5,
    "start_time": "2022-09-05T07:25:15.962Z"
   },
   {
    "duration": 9,
    "start_time": "2022-09-05T07:25:15.968Z"
   },
   {
    "duration": 356,
    "start_time": "2022-09-05T07:25:15.987Z"
   },
   {
    "duration": 512,
    "start_time": "2022-09-05T07:25:16.345Z"
   },
   {
    "duration": 233,
    "start_time": "2022-09-05T07:25:16.860Z"
   },
   {
    "duration": 312,
    "start_time": "2022-09-05T07:25:17.095Z"
   },
   {
    "duration": 211,
    "start_time": "2022-09-05T07:25:17.409Z"
   },
   {
    "duration": 235,
    "start_time": "2022-09-05T07:25:17.622Z"
   },
   {
    "duration": 215,
    "start_time": "2022-09-05T07:25:17.859Z"
   },
   {
    "duration": 184,
    "start_time": "2022-09-05T07:25:18.076Z"
   },
   {
    "duration": 233,
    "start_time": "2022-09-05T07:25:18.262Z"
   },
   {
    "duration": 233,
    "start_time": "2022-09-05T07:25:18.497Z"
   },
   {
    "duration": 318,
    "start_time": "2022-09-05T07:25:18.732Z"
   },
   {
    "duration": 237,
    "start_time": "2022-09-05T07:25:19.052Z"
   },
   {
    "duration": 232,
    "start_time": "2022-09-05T07:25:19.291Z"
   },
   {
    "duration": 240,
    "start_time": "2022-09-05T07:25:19.525Z"
   },
   {
    "duration": 224,
    "start_time": "2022-09-05T07:25:19.767Z"
   },
   {
    "duration": 72,
    "start_time": "2022-09-05T07:25:19.993Z"
   },
   {
    "duration": 55,
    "start_time": "2022-09-05T07:25:20.067Z"
   },
   {
    "duration": 41,
    "start_time": "2022-09-05T07:25:20.124Z"
   },
   {
    "duration": 171,
    "start_time": "2022-09-05T07:25:20.166Z"
   },
   {
    "duration": 7,
    "start_time": "2022-09-05T07:25:20.339Z"
   },
   {
    "duration": 176,
    "start_time": "2022-09-05T07:25:20.348Z"
   },
   {
    "duration": 154,
    "start_time": "2022-09-05T07:25:20.526Z"
   },
   {
    "duration": 150,
    "start_time": "2022-09-05T07:25:20.686Z"
   },
   {
    "duration": 249,
    "start_time": "2022-09-05T07:25:20.838Z"
   },
   {
    "duration": 148,
    "start_time": "2022-09-05T07:25:21.089Z"
   },
   {
    "duration": 5,
    "start_time": "2022-09-05T07:25:21.239Z"
   },
   {
    "duration": 179,
    "start_time": "2022-09-05T07:25:21.245Z"
   },
   {
    "duration": 6,
    "start_time": "2022-09-05T07:25:21.426Z"
   },
   {
    "duration": 169,
    "start_time": "2022-09-05T07:25:21.434Z"
   },
   {
    "duration": 4,
    "start_time": "2022-09-05T07:25:21.605Z"
   },
   {
    "duration": 24,
    "start_time": "2022-09-05T07:25:21.611Z"
   },
   {
    "duration": 180,
    "start_time": "2022-09-05T07:25:21.637Z"
   },
   {
    "duration": 3,
    "start_time": "2022-09-05T07:25:21.819Z"
   },
   {
    "duration": 5153,
    "start_time": "2022-09-05T07:25:21.823Z"
   },
   {
    "duration": 360,
    "start_time": "2022-09-05T07:25:26.978Z"
   },
   {
    "duration": 410,
    "start_time": "2022-09-05T07:25:27.339Z"
   },
   {
    "duration": 100,
    "start_time": "2022-09-05T07:25:27.750Z"
   },
   {
    "duration": 4073,
    "start_time": "2022-09-05T07:27:49.345Z"
   },
   {
    "duration": 10,
    "start_time": "2022-09-05T07:27:53.420Z"
   },
   {
    "duration": 20,
    "start_time": "2022-09-05T07:27:53.432Z"
   },
   {
    "duration": 249,
    "start_time": "2022-09-05T07:27:53.454Z"
   },
   {
    "duration": 215,
    "start_time": "2022-09-05T07:27:53.705Z"
   },
   {
    "duration": 61,
    "start_time": "2022-09-05T07:27:53.921Z"
   },
   {
    "duration": 11,
    "start_time": "2022-09-05T07:27:53.984Z"
   },
   {
    "duration": 23,
    "start_time": "2022-09-05T07:27:53.997Z"
   },
   {
    "duration": 5,
    "start_time": "2022-09-05T07:27:54.022Z"
   },
   {
    "duration": 11,
    "start_time": "2022-09-05T07:27:54.030Z"
   },
   {
    "duration": 114,
    "start_time": "2022-09-05T07:27:54.043Z"
   },
   {
    "duration": 58,
    "start_time": "2022-09-05T07:27:54.158Z"
   },
   {
    "duration": 14,
    "start_time": "2022-09-05T07:27:54.218Z"
   },
   {
    "duration": 135,
    "start_time": "2022-09-05T07:27:54.234Z"
   },
   {
    "duration": 120,
    "start_time": "2022-09-05T07:27:54.371Z"
   },
   {
    "duration": 132,
    "start_time": "2022-09-05T07:27:54.493Z"
   },
   {
    "duration": 136,
    "start_time": "2022-09-05T07:27:54.627Z"
   },
   {
    "duration": 29,
    "start_time": "2022-09-05T07:27:54.765Z"
   },
   {
    "duration": 47,
    "start_time": "2022-09-05T07:27:54.797Z"
   },
   {
    "duration": 17,
    "start_time": "2022-09-05T07:27:54.845Z"
   },
   {
    "duration": 4,
    "start_time": "2022-09-05T07:27:54.887Z"
   },
   {
    "duration": 12,
    "start_time": "2022-09-05T07:27:54.893Z"
   },
   {
    "duration": 95,
    "start_time": "2022-09-05T07:27:54.907Z"
   },
   {
    "duration": 5,
    "start_time": "2022-09-05T07:27:55.004Z"
   },
   {
    "duration": 11,
    "start_time": "2022-09-05T07:27:55.011Z"
   },
   {
    "duration": 289,
    "start_time": "2022-09-05T07:27:55.023Z"
   },
   {
    "duration": 422,
    "start_time": "2022-09-05T07:27:55.314Z"
   },
   {
    "duration": 241,
    "start_time": "2022-09-05T07:27:55.739Z"
   },
   {
    "duration": 352,
    "start_time": "2022-09-05T07:27:55.986Z"
   },
   {
    "duration": 233,
    "start_time": "2022-09-05T07:27:56.341Z"
   },
   {
    "duration": 240,
    "start_time": "2022-09-05T07:27:56.576Z"
   },
   {
    "duration": 197,
    "start_time": "2022-09-05T07:27:56.818Z"
   },
   {
    "duration": 129,
    "start_time": "2022-09-05T07:27:57.016Z"
   },
   {
    "duration": 205,
    "start_time": "2022-09-05T07:27:57.146Z"
   },
   {
    "duration": 211,
    "start_time": "2022-09-05T07:27:57.353Z"
   },
   {
    "duration": 313,
    "start_time": "2022-09-05T07:27:57.566Z"
   },
   {
    "duration": 233,
    "start_time": "2022-09-05T07:27:57.881Z"
   },
   {
    "duration": 215,
    "start_time": "2022-09-05T07:27:58.117Z"
   },
   {
    "duration": 228,
    "start_time": "2022-09-05T07:27:58.334Z"
   },
   {
    "duration": 219,
    "start_time": "2022-09-05T07:27:58.564Z"
   },
   {
    "duration": 69,
    "start_time": "2022-09-05T07:27:58.786Z"
   },
   {
    "duration": 48,
    "start_time": "2022-09-05T07:27:58.856Z"
   },
   {
    "duration": 40,
    "start_time": "2022-09-05T07:27:58.906Z"
   },
   {
    "duration": 144,
    "start_time": "2022-09-05T07:27:58.947Z"
   },
   {
    "duration": 5,
    "start_time": "2022-09-05T07:27:59.092Z"
   },
   {
    "duration": 160,
    "start_time": "2022-09-05T07:27:59.098Z"
   },
   {
    "duration": 143,
    "start_time": "2022-09-05T07:27:59.259Z"
   },
   {
    "duration": 141,
    "start_time": "2022-09-05T07:27:59.403Z"
   },
   {
    "duration": 247,
    "start_time": "2022-09-05T07:27:59.546Z"
   },
   {
    "duration": 146,
    "start_time": "2022-09-05T07:27:59.794Z"
   },
   {
    "duration": 5,
    "start_time": "2022-09-05T07:27:59.941Z"
   },
   {
    "duration": 177,
    "start_time": "2022-09-05T07:27:59.948Z"
   },
   {
    "duration": 5,
    "start_time": "2022-09-05T07:28:00.127Z"
   },
   {
    "duration": 166,
    "start_time": "2022-09-05T07:28:00.134Z"
   },
   {
    "duration": 5,
    "start_time": "2022-09-05T07:28:00.302Z"
   },
   {
    "duration": 40,
    "start_time": "2022-09-05T07:28:00.308Z"
   },
   {
    "duration": 156,
    "start_time": "2022-09-05T07:28:00.350Z"
   },
   {
    "duration": 3,
    "start_time": "2022-09-05T07:28:00.508Z"
   },
   {
    "duration": 5242,
    "start_time": "2022-09-05T07:28:00.513Z"
   },
   {
    "duration": 756,
    "start_time": "2022-09-05T07:28:05.757Z"
   },
   {
    "duration": 143,
    "start_time": "2022-09-05T07:28:06.515Z"
   },
   {
    "duration": 99,
    "start_time": "2022-09-05T07:28:06.661Z"
   },
   {
    "duration": 4113,
    "start_time": "2022-09-05T07:28:29.913Z"
   },
   {
    "duration": 11,
    "start_time": "2022-09-05T07:28:34.029Z"
   },
   {
    "duration": 5,
    "start_time": "2022-09-05T07:28:34.042Z"
   },
   {
    "duration": 223,
    "start_time": "2022-09-05T07:28:34.049Z"
   },
   {
    "duration": 211,
    "start_time": "2022-09-05T07:28:34.273Z"
   },
   {
    "duration": 42,
    "start_time": "2022-09-05T07:28:34.487Z"
   },
   {
    "duration": 6,
    "start_time": "2022-09-05T07:28:34.531Z"
   },
   {
    "duration": 17,
    "start_time": "2022-09-05T07:28:34.539Z"
   },
   {
    "duration": 3,
    "start_time": "2022-09-05T07:28:34.557Z"
   },
   {
    "duration": 10,
    "start_time": "2022-09-05T07:28:34.587Z"
   },
   {
    "duration": 76,
    "start_time": "2022-09-05T07:28:34.598Z"
   },
   {
    "duration": 54,
    "start_time": "2022-09-05T07:28:34.676Z"
   },
   {
    "duration": 14,
    "start_time": "2022-09-05T07:28:34.732Z"
   },
   {
    "duration": 153,
    "start_time": "2022-09-05T07:28:34.748Z"
   },
   {
    "duration": 119,
    "start_time": "2022-09-05T07:28:34.902Z"
   },
   {
    "duration": 127,
    "start_time": "2022-09-05T07:28:35.023Z"
   },
   {
    "duration": 139,
    "start_time": "2022-09-05T07:28:35.152Z"
   },
   {
    "duration": 13,
    "start_time": "2022-09-05T07:28:35.293Z"
   },
   {
    "duration": 45,
    "start_time": "2022-09-05T07:28:35.307Z"
   },
   {
    "duration": 38,
    "start_time": "2022-09-05T07:28:35.354Z"
   },
   {
    "duration": 5,
    "start_time": "2022-09-05T07:28:35.394Z"
   },
   {
    "duration": 19,
    "start_time": "2022-09-05T07:28:35.401Z"
   },
   {
    "duration": 260,
    "start_time": "2022-09-05T07:28:35.421Z"
   },
   {
    "duration": 7,
    "start_time": "2022-09-05T07:28:35.682Z"
   },
   {
    "duration": 13,
    "start_time": "2022-09-05T07:28:35.690Z"
   },
   {
    "duration": 420,
    "start_time": "2022-09-05T07:28:35.704Z"
   },
   {
    "duration": 407,
    "start_time": "2022-09-05T07:28:36.125Z"
   },
   {
    "duration": 250,
    "start_time": "2022-09-05T07:28:36.537Z"
   },
   {
    "duration": 298,
    "start_time": "2022-09-05T07:28:36.789Z"
   },
   {
    "duration": 191,
    "start_time": "2022-09-05T07:28:37.089Z"
   },
   {
    "duration": 257,
    "start_time": "2022-09-05T07:28:37.281Z"
   },
   {
    "duration": 212,
    "start_time": "2022-09-05T07:28:37.541Z"
   },
   {
    "duration": 144,
    "start_time": "2022-09-05T07:28:37.755Z"
   },
   {
    "duration": 326,
    "start_time": "2022-09-05T07:28:37.901Z"
   },
   {
    "duration": 220,
    "start_time": "2022-09-05T07:28:38.229Z"
   },
   {
    "duration": 220,
    "start_time": "2022-09-05T07:28:38.451Z"
   },
   {
    "duration": 224,
    "start_time": "2022-09-05T07:28:38.673Z"
   },
   {
    "duration": 229,
    "start_time": "2022-09-05T07:28:38.899Z"
   },
   {
    "duration": 245,
    "start_time": "2022-09-05T07:28:39.129Z"
   },
   {
    "duration": 227,
    "start_time": "2022-09-05T07:28:39.375Z"
   },
   {
    "duration": 94,
    "start_time": "2022-09-05T07:28:39.604Z"
   },
   {
    "duration": 43,
    "start_time": "2022-09-05T07:28:39.699Z"
   },
   {
    "duration": 76,
    "start_time": "2022-09-05T07:28:39.744Z"
   },
   {
    "duration": 141,
    "start_time": "2022-09-05T07:28:39.823Z"
   },
   {
    "duration": 5,
    "start_time": "2022-09-05T07:28:39.966Z"
   },
   {
    "duration": 174,
    "start_time": "2022-09-05T07:28:39.973Z"
   },
   {
    "duration": 261,
    "start_time": "2022-09-05T07:28:40.148Z"
   },
   {
    "duration": 151,
    "start_time": "2022-09-05T07:28:40.410Z"
   },
   {
    "duration": 148,
    "start_time": "2022-09-05T07:28:40.562Z"
   },
   {
    "duration": 145,
    "start_time": "2022-09-05T07:28:40.712Z"
   },
   {
    "duration": 5,
    "start_time": "2022-09-05T07:28:40.859Z"
   },
   {
    "duration": 167,
    "start_time": "2022-09-05T07:28:40.865Z"
   },
   {
    "duration": 5,
    "start_time": "2022-09-05T07:28:41.034Z"
   },
   {
    "duration": 160,
    "start_time": "2022-09-05T07:28:41.040Z"
   },
   {
    "duration": 5,
    "start_time": "2022-09-05T07:28:41.201Z"
   },
   {
    "duration": 33,
    "start_time": "2022-09-05T07:28:41.207Z"
   },
   {
    "duration": 173,
    "start_time": "2022-09-05T07:28:41.242Z"
   },
   {
    "duration": 3,
    "start_time": "2022-09-05T07:28:41.416Z"
   },
   {
    "duration": 8379,
    "start_time": "2022-09-05T07:28:41.420Z"
   },
   {
    "duration": 407,
    "start_time": "2022-09-05T07:28:49.801Z"
   },
   {
    "duration": 546,
    "start_time": "2022-09-05T07:28:50.210Z"
   },
   {
    "duration": 103,
    "start_time": "2022-09-05T07:28:50.758Z"
   },
   {
    "duration": 88,
    "start_time": "2022-09-05T07:31:14.108Z"
   },
   {
    "duration": 4141,
    "start_time": "2022-09-05T07:31:18.633Z"
   },
   {
    "duration": 9,
    "start_time": "2022-09-05T07:31:22.777Z"
   },
   {
    "duration": 7,
    "start_time": "2022-09-05T07:31:22.787Z"
   },
   {
    "duration": 242,
    "start_time": "2022-09-05T07:31:22.796Z"
   },
   {
    "duration": 216,
    "start_time": "2022-09-05T07:31:23.040Z"
   },
   {
    "duration": 51,
    "start_time": "2022-09-05T07:31:23.258Z"
   },
   {
    "duration": 7,
    "start_time": "2022-09-05T07:31:23.311Z"
   },
   {
    "duration": 15,
    "start_time": "2022-09-05T07:31:23.319Z"
   },
   {
    "duration": 3,
    "start_time": "2022-09-05T07:31:23.336Z"
   },
   {
    "duration": 11,
    "start_time": "2022-09-05T07:31:23.341Z"
   },
   {
    "duration": 97,
    "start_time": "2022-09-05T07:31:23.354Z"
   },
   {
    "duration": 63,
    "start_time": "2022-09-05T07:31:23.453Z"
   },
   {
    "duration": 15,
    "start_time": "2022-09-05T07:31:23.518Z"
   },
   {
    "duration": 141,
    "start_time": "2022-09-05T07:31:23.535Z"
   },
   {
    "duration": 129,
    "start_time": "2022-09-05T07:31:23.678Z"
   },
   {
    "duration": 133,
    "start_time": "2022-09-05T07:31:23.809Z"
   },
   {
    "duration": 150,
    "start_time": "2022-09-05T07:31:23.944Z"
   },
   {
    "duration": 14,
    "start_time": "2022-09-05T07:31:24.096Z"
   },
   {
    "duration": 79,
    "start_time": "2022-09-05T07:31:24.111Z"
   },
   {
    "duration": 0,
    "start_time": "2022-09-05T07:31:24.192Z"
   },
   {
    "duration": 1,
    "start_time": "2022-09-05T07:31:24.193Z"
   },
   {
    "duration": 0,
    "start_time": "2022-09-05T07:31:24.194Z"
   },
   {
    "duration": 0,
    "start_time": "2022-09-05T07:31:24.196Z"
   },
   {
    "duration": 0,
    "start_time": "2022-09-05T07:31:24.197Z"
   },
   {
    "duration": 0,
    "start_time": "2022-09-05T07:31:24.199Z"
   },
   {
    "duration": 0,
    "start_time": "2022-09-05T07:31:24.200Z"
   },
   {
    "duration": 0,
    "start_time": "2022-09-05T07:31:24.202Z"
   },
   {
    "duration": 0,
    "start_time": "2022-09-05T07:31:24.203Z"
   },
   {
    "duration": 0,
    "start_time": "2022-09-05T07:31:24.205Z"
   },
   {
    "duration": 0,
    "start_time": "2022-09-05T07:31:24.207Z"
   },
   {
    "duration": 0,
    "start_time": "2022-09-05T07:31:24.208Z"
   },
   {
    "duration": 0,
    "start_time": "2022-09-05T07:31:24.210Z"
   },
   {
    "duration": 0,
    "start_time": "2022-09-05T07:31:24.212Z"
   },
   {
    "duration": 0,
    "start_time": "2022-09-05T07:31:24.213Z"
   },
   {
    "duration": 0,
    "start_time": "2022-09-05T07:31:24.214Z"
   },
   {
    "duration": 0,
    "start_time": "2022-09-05T07:31:24.215Z"
   },
   {
    "duration": 0,
    "start_time": "2022-09-05T07:31:24.216Z"
   },
   {
    "duration": 0,
    "start_time": "2022-09-05T07:31:24.218Z"
   },
   {
    "duration": 0,
    "start_time": "2022-09-05T07:31:24.219Z"
   },
   {
    "duration": 0,
    "start_time": "2022-09-05T07:31:24.220Z"
   },
   {
    "duration": 0,
    "start_time": "2022-09-05T07:31:24.222Z"
   },
   {
    "duration": 0,
    "start_time": "2022-09-05T07:31:24.223Z"
   },
   {
    "duration": 0,
    "start_time": "2022-09-05T07:31:24.225Z"
   },
   {
    "duration": 0,
    "start_time": "2022-09-05T07:31:24.226Z"
   },
   {
    "duration": 0,
    "start_time": "2022-09-05T07:31:24.227Z"
   },
   {
    "duration": 0,
    "start_time": "2022-09-05T07:31:24.228Z"
   },
   {
    "duration": 0,
    "start_time": "2022-09-05T07:31:24.230Z"
   },
   {
    "duration": 0,
    "start_time": "2022-09-05T07:31:24.287Z"
   },
   {
    "duration": 1,
    "start_time": "2022-09-05T07:31:24.288Z"
   },
   {
    "duration": 0,
    "start_time": "2022-09-05T07:31:24.290Z"
   },
   {
    "duration": 0,
    "start_time": "2022-09-05T07:31:24.291Z"
   },
   {
    "duration": 0,
    "start_time": "2022-09-05T07:31:24.292Z"
   },
   {
    "duration": 0,
    "start_time": "2022-09-05T07:31:24.294Z"
   },
   {
    "duration": 0,
    "start_time": "2022-09-05T07:31:24.294Z"
   },
   {
    "duration": 0,
    "start_time": "2022-09-05T07:31:24.296Z"
   },
   {
    "duration": 0,
    "start_time": "2022-09-05T07:31:24.297Z"
   },
   {
    "duration": 0,
    "start_time": "2022-09-05T07:31:24.298Z"
   },
   {
    "duration": 0,
    "start_time": "2022-09-05T07:31:24.300Z"
   },
   {
    "duration": 0,
    "start_time": "2022-09-05T07:31:24.301Z"
   },
   {
    "duration": 0,
    "start_time": "2022-09-05T07:31:24.302Z"
   },
   {
    "duration": 0,
    "start_time": "2022-09-05T07:31:24.304Z"
   },
   {
    "duration": 0,
    "start_time": "2022-09-05T07:31:24.305Z"
   },
   {
    "duration": 4121,
    "start_time": "2022-09-05T07:31:47.658Z"
   },
   {
    "duration": 9,
    "start_time": "2022-09-05T07:31:51.781Z"
   },
   {
    "duration": 4,
    "start_time": "2022-09-05T07:31:51.792Z"
   },
   {
    "duration": 236,
    "start_time": "2022-09-05T07:31:51.798Z"
   },
   {
    "duration": 203,
    "start_time": "2022-09-05T07:31:52.036Z"
   },
   {
    "duration": 49,
    "start_time": "2022-09-05T07:31:52.241Z"
   },
   {
    "duration": 7,
    "start_time": "2022-09-05T07:31:52.292Z"
   },
   {
    "duration": 23,
    "start_time": "2022-09-05T07:31:52.301Z"
   },
   {
    "duration": 4,
    "start_time": "2022-09-05T07:31:52.326Z"
   },
   {
    "duration": 13,
    "start_time": "2022-09-05T07:31:52.332Z"
   },
   {
    "duration": 89,
    "start_time": "2022-09-05T07:31:52.347Z"
   },
   {
    "duration": 61,
    "start_time": "2022-09-05T07:31:52.438Z"
   },
   {
    "duration": 14,
    "start_time": "2022-09-05T07:31:52.501Z"
   },
   {
    "duration": 135,
    "start_time": "2022-09-05T07:31:52.517Z"
   },
   {
    "duration": 109,
    "start_time": "2022-09-05T07:31:52.654Z"
   },
   {
    "duration": 128,
    "start_time": "2022-09-05T07:31:52.764Z"
   },
   {
    "duration": 138,
    "start_time": "2022-09-05T07:31:52.894Z"
   },
   {
    "duration": 14,
    "start_time": "2022-09-05T07:31:53.034Z"
   },
   {
    "duration": 47,
    "start_time": "2022-09-05T07:31:53.050Z"
   },
   {
    "duration": 0,
    "start_time": "2022-09-05T07:31:53.100Z"
   },
   {
    "duration": 0,
    "start_time": "2022-09-05T07:31:53.102Z"
   },
   {
    "duration": 0,
    "start_time": "2022-09-05T07:31:53.103Z"
   },
   {
    "duration": 0,
    "start_time": "2022-09-05T07:31:53.105Z"
   },
   {
    "duration": 0,
    "start_time": "2022-09-05T07:31:53.107Z"
   },
   {
    "duration": 1,
    "start_time": "2022-09-05T07:31:53.108Z"
   },
   {
    "duration": 0,
    "start_time": "2022-09-05T07:31:53.110Z"
   },
   {
    "duration": 0,
    "start_time": "2022-09-05T07:31:53.111Z"
   },
   {
    "duration": 0,
    "start_time": "2022-09-05T07:31:53.113Z"
   },
   {
    "duration": 0,
    "start_time": "2022-09-05T07:31:53.114Z"
   },
   {
    "duration": 0,
    "start_time": "2022-09-05T07:31:53.116Z"
   },
   {
    "duration": 0,
    "start_time": "2022-09-05T07:31:53.117Z"
   },
   {
    "duration": 0,
    "start_time": "2022-09-05T07:31:53.119Z"
   },
   {
    "duration": 0,
    "start_time": "2022-09-05T07:31:53.120Z"
   },
   {
    "duration": 0,
    "start_time": "2022-09-05T07:31:53.121Z"
   },
   {
    "duration": 0,
    "start_time": "2022-09-05T07:31:53.123Z"
   },
   {
    "duration": 0,
    "start_time": "2022-09-05T07:31:53.124Z"
   },
   {
    "duration": 0,
    "start_time": "2022-09-05T07:31:53.125Z"
   },
   {
    "duration": 0,
    "start_time": "2022-09-05T07:31:53.127Z"
   },
   {
    "duration": 0,
    "start_time": "2022-09-05T07:31:53.129Z"
   },
   {
    "duration": 0,
    "start_time": "2022-09-05T07:31:53.130Z"
   },
   {
    "duration": 0,
    "start_time": "2022-09-05T07:31:53.131Z"
   },
   {
    "duration": 0,
    "start_time": "2022-09-05T07:31:53.133Z"
   },
   {
    "duration": 0,
    "start_time": "2022-09-05T07:31:53.135Z"
   },
   {
    "duration": 0,
    "start_time": "2022-09-05T07:31:53.136Z"
   },
   {
    "duration": 0,
    "start_time": "2022-09-05T07:31:53.137Z"
   },
   {
    "duration": 0,
    "start_time": "2022-09-05T07:31:53.187Z"
   },
   {
    "duration": 0,
    "start_time": "2022-09-05T07:31:53.189Z"
   },
   {
    "duration": 0,
    "start_time": "2022-09-05T07:31:53.190Z"
   },
   {
    "duration": 0,
    "start_time": "2022-09-05T07:31:53.192Z"
   },
   {
    "duration": 0,
    "start_time": "2022-09-05T07:31:53.194Z"
   },
   {
    "duration": 0,
    "start_time": "2022-09-05T07:31:53.195Z"
   },
   {
    "duration": 0,
    "start_time": "2022-09-05T07:31:53.196Z"
   },
   {
    "duration": 0,
    "start_time": "2022-09-05T07:31:53.198Z"
   },
   {
    "duration": 0,
    "start_time": "2022-09-05T07:31:53.198Z"
   },
   {
    "duration": 0,
    "start_time": "2022-09-05T07:31:53.200Z"
   },
   {
    "duration": 0,
    "start_time": "2022-09-05T07:31:53.201Z"
   },
   {
    "duration": 0,
    "start_time": "2022-09-05T07:31:53.202Z"
   },
   {
    "duration": 0,
    "start_time": "2022-09-05T07:31:53.203Z"
   },
   {
    "duration": 0,
    "start_time": "2022-09-05T07:31:53.204Z"
   },
   {
    "duration": 0,
    "start_time": "2022-09-05T07:31:53.205Z"
   },
   {
    "duration": 0,
    "start_time": "2022-09-05T07:31:53.207Z"
   },
   {
    "duration": 0,
    "start_time": "2022-09-05T07:31:53.208Z"
   },
   {
    "duration": 4035,
    "start_time": "2022-09-05T07:32:41.643Z"
   },
   {
    "duration": 8,
    "start_time": "2022-09-05T07:32:45.681Z"
   },
   {
    "duration": 9,
    "start_time": "2022-09-05T07:32:45.691Z"
   },
   {
    "duration": 225,
    "start_time": "2022-09-05T07:32:45.702Z"
   },
   {
    "duration": 235,
    "start_time": "2022-09-05T07:32:45.929Z"
   },
   {
    "duration": 48,
    "start_time": "2022-09-05T07:32:46.166Z"
   },
   {
    "duration": 7,
    "start_time": "2022-09-05T07:32:46.217Z"
   },
   {
    "duration": 38,
    "start_time": "2022-09-05T07:32:46.226Z"
   },
   {
    "duration": 4,
    "start_time": "2022-09-05T07:32:46.266Z"
   },
   {
    "duration": 13,
    "start_time": "2022-09-05T07:32:46.286Z"
   },
   {
    "duration": 123,
    "start_time": "2022-09-05T07:32:46.301Z"
   },
   {
    "duration": 75,
    "start_time": "2022-09-05T07:32:46.428Z"
   },
   {
    "duration": 17,
    "start_time": "2022-09-05T07:32:46.505Z"
   },
   {
    "duration": 163,
    "start_time": "2022-09-05T07:32:46.525Z"
   },
   {
    "duration": 130,
    "start_time": "2022-09-05T07:32:46.690Z"
   },
   {
    "duration": 122,
    "start_time": "2022-09-05T07:32:46.822Z"
   },
   {
    "duration": 141,
    "start_time": "2022-09-05T07:32:46.946Z"
   },
   {
    "duration": 13,
    "start_time": "2022-09-05T07:32:47.088Z"
   },
   {
    "duration": 43,
    "start_time": "2022-09-05T07:32:47.102Z"
   },
   {
    "duration": 16,
    "start_time": "2022-09-05T07:32:47.146Z"
   },
   {
    "duration": 4,
    "start_time": "2022-09-05T07:32:47.187Z"
   },
   {
    "duration": 15,
    "start_time": "2022-09-05T07:32:47.193Z"
   },
   {
    "duration": 267,
    "start_time": "2022-09-05T07:32:47.209Z"
   },
   {
    "duration": 8,
    "start_time": "2022-09-05T07:32:47.478Z"
   },
   {
    "duration": 5,
    "start_time": "2022-09-05T07:32:47.488Z"
   },
   {
    "duration": 426,
    "start_time": "2022-09-05T07:32:47.495Z"
   },
   {
    "duration": 319,
    "start_time": "2022-09-05T07:32:47.922Z"
   },
   {
    "duration": 225,
    "start_time": "2022-09-05T07:32:48.246Z"
   },
   {
    "duration": 292,
    "start_time": "2022-09-05T07:32:48.473Z"
   },
   {
    "duration": 204,
    "start_time": "2022-09-05T07:32:48.767Z"
   },
   {
    "duration": 238,
    "start_time": "2022-09-05T07:32:48.973Z"
   },
   {
    "duration": 211,
    "start_time": "2022-09-05T07:32:49.214Z"
   },
   {
    "duration": 140,
    "start_time": "2022-09-05T07:32:49.427Z"
   },
   {
    "duration": 339,
    "start_time": "2022-09-05T07:32:49.569Z"
   },
   {
    "duration": 237,
    "start_time": "2022-09-05T07:32:49.910Z"
   },
   {
    "duration": 217,
    "start_time": "2022-09-05T07:32:50.149Z"
   },
   {
    "duration": 226,
    "start_time": "2022-09-05T07:32:50.368Z"
   },
   {
    "duration": 226,
    "start_time": "2022-09-05T07:32:50.595Z"
   },
   {
    "duration": 231,
    "start_time": "2022-09-05T07:32:50.823Z"
   },
   {
    "duration": 236,
    "start_time": "2022-09-05T07:32:51.055Z"
   },
   {
    "duration": 80,
    "start_time": "2022-09-05T07:32:51.293Z"
   },
   {
    "duration": 42,
    "start_time": "2022-09-05T07:32:51.386Z"
   },
   {
    "duration": 80,
    "start_time": "2022-09-05T07:32:51.430Z"
   },
   {
    "duration": 150,
    "start_time": "2022-09-05T07:32:51.511Z"
   },
   {
    "duration": 5,
    "start_time": "2022-09-05T07:32:51.663Z"
   },
   {
    "duration": 169,
    "start_time": "2022-09-05T07:32:51.670Z"
   },
   {
    "duration": 289,
    "start_time": "2022-09-05T07:32:51.842Z"
   },
   {
    "duration": 154,
    "start_time": "2022-09-05T07:32:52.133Z"
   },
   {
    "duration": 174,
    "start_time": "2022-09-05T07:32:52.289Z"
   },
   {
    "duration": 192,
    "start_time": "2022-09-05T07:32:52.465Z"
   },
   {
    "duration": 6,
    "start_time": "2022-09-05T07:32:52.659Z"
   },
   {
    "duration": 202,
    "start_time": "2022-09-05T07:32:52.666Z"
   },
   {
    "duration": 6,
    "start_time": "2022-09-05T07:32:52.870Z"
   },
   {
    "duration": 178,
    "start_time": "2022-09-05T07:32:52.887Z"
   },
   {
    "duration": 4,
    "start_time": "2022-09-05T07:32:53.067Z"
   },
   {
    "duration": 35,
    "start_time": "2022-09-05T07:32:53.074Z"
   },
   {
    "duration": 191,
    "start_time": "2022-09-05T07:32:53.111Z"
   },
   {
    "duration": 3,
    "start_time": "2022-09-05T07:32:53.304Z"
   },
   {
    "duration": 8948,
    "start_time": "2022-09-05T07:32:53.309Z"
   },
   {
    "duration": 439,
    "start_time": "2022-09-05T07:33:02.259Z"
   },
   {
    "duration": 583,
    "start_time": "2022-09-05T07:33:02.701Z"
   },
   {
    "duration": 124,
    "start_time": "2022-09-05T07:33:03.285Z"
   },
   {
    "duration": 4404,
    "start_time": "2022-09-05T07:34:17.523Z"
   },
   {
    "duration": 10,
    "start_time": "2022-09-05T07:34:21.929Z"
   },
   {
    "duration": 5,
    "start_time": "2022-09-05T07:34:21.940Z"
   },
   {
    "duration": 234,
    "start_time": "2022-09-05T07:34:21.947Z"
   },
   {
    "duration": 201,
    "start_time": "2022-09-05T07:34:22.183Z"
   },
   {
    "duration": 42,
    "start_time": "2022-09-05T07:34:22.386Z"
   },
   {
    "duration": 7,
    "start_time": "2022-09-05T07:34:22.431Z"
   },
   {
    "duration": 22,
    "start_time": "2022-09-05T07:34:22.440Z"
   },
   {
    "duration": 4,
    "start_time": "2022-09-05T07:34:22.486Z"
   },
   {
    "duration": 9,
    "start_time": "2022-09-05T07:34:22.494Z"
   },
   {
    "duration": 90,
    "start_time": "2022-09-05T07:34:22.504Z"
   },
   {
    "duration": 67,
    "start_time": "2022-09-05T07:34:22.595Z"
   },
   {
    "duration": 28,
    "start_time": "2022-09-05T07:34:22.664Z"
   },
   {
    "duration": 150,
    "start_time": "2022-09-05T07:34:22.694Z"
   },
   {
    "duration": 125,
    "start_time": "2022-09-05T07:34:22.846Z"
   },
   {
    "duration": 135,
    "start_time": "2022-09-05T07:34:22.973Z"
   },
   {
    "duration": 131,
    "start_time": "2022-09-05T07:34:23.110Z"
   },
   {
    "duration": 16,
    "start_time": "2022-09-05T07:34:23.243Z"
   },
   {
    "duration": 61,
    "start_time": "2022-09-05T07:34:23.260Z"
   },
   {
    "duration": 18,
    "start_time": "2022-09-05T07:34:23.323Z"
   },
   {
    "duration": 5,
    "start_time": "2022-09-05T07:34:23.343Z"
   },
   {
    "duration": 41,
    "start_time": "2022-09-05T07:34:23.349Z"
   },
   {
    "duration": 261,
    "start_time": "2022-09-05T07:34:23.392Z"
   },
   {
    "duration": 6,
    "start_time": "2022-09-05T07:34:23.655Z"
   },
   {
    "duration": 6,
    "start_time": "2022-09-05T07:34:23.662Z"
   },
   {
    "duration": 433,
    "start_time": "2022-09-05T07:34:23.669Z"
   },
   {
    "duration": 323,
    "start_time": "2022-09-05T07:34:24.104Z"
   },
   {
    "duration": 229,
    "start_time": "2022-09-05T07:34:24.431Z"
   },
   {
    "duration": 297,
    "start_time": "2022-09-05T07:34:24.662Z"
   },
   {
    "duration": 206,
    "start_time": "2022-09-05T07:34:24.961Z"
   },
   {
    "duration": 233,
    "start_time": "2022-09-05T07:34:25.169Z"
   },
   {
    "duration": 215,
    "start_time": "2022-09-05T07:34:25.404Z"
   },
   {
    "duration": 147,
    "start_time": "2022-09-05T07:34:25.621Z"
   },
   {
    "duration": 350,
    "start_time": "2022-09-05T07:34:25.770Z"
   },
   {
    "duration": 277,
    "start_time": "2022-09-05T07:34:26.122Z"
   },
   {
    "duration": 386,
    "start_time": "2022-09-05T07:34:26.401Z"
   },
   {
    "duration": 272,
    "start_time": "2022-09-05T07:34:26.789Z"
   },
   {
    "duration": 205,
    "start_time": "2022-09-05T07:34:27.063Z"
   },
   {
    "duration": 427,
    "start_time": "2022-09-05T07:34:27.269Z"
   },
   {
    "duration": 372,
    "start_time": "2022-09-05T07:34:27.698Z"
   },
   {
    "duration": 100,
    "start_time": "2022-09-05T07:34:28.072Z"
   },
   {
    "duration": 66,
    "start_time": "2022-09-05T07:34:28.174Z"
   },
   {
    "duration": 86,
    "start_time": "2022-09-05T07:34:28.242Z"
   },
   {
    "duration": 160,
    "start_time": "2022-09-05T07:34:28.330Z"
   },
   {
    "duration": 5,
    "start_time": "2022-09-05T07:34:28.492Z"
   },
   {
    "duration": 168,
    "start_time": "2022-09-05T07:34:28.499Z"
   },
   {
    "duration": 251,
    "start_time": "2022-09-05T07:34:28.669Z"
   },
   {
    "duration": 149,
    "start_time": "2022-09-05T07:34:28.922Z"
   },
   {
    "duration": 138,
    "start_time": "2022-09-05T07:34:29.073Z"
   },
   {
    "duration": 149,
    "start_time": "2022-09-05T07:34:29.212Z"
   },
   {
    "duration": 5,
    "start_time": "2022-09-05T07:34:29.362Z"
   },
   {
    "duration": 177,
    "start_time": "2022-09-05T07:34:29.369Z"
   },
   {
    "duration": 7,
    "start_time": "2022-09-05T07:34:29.549Z"
   },
   {
    "duration": 182,
    "start_time": "2022-09-05T07:34:29.557Z"
   },
   {
    "duration": 6,
    "start_time": "2022-09-05T07:34:29.742Z"
   },
   {
    "duration": 50,
    "start_time": "2022-09-05T07:34:29.750Z"
   },
   {
    "duration": 185,
    "start_time": "2022-09-05T07:34:29.802Z"
   },
   {
    "duration": 2,
    "start_time": "2022-09-05T07:34:29.989Z"
   },
   {
    "duration": 8510,
    "start_time": "2022-09-05T07:34:29.992Z"
   },
   {
    "duration": 397,
    "start_time": "2022-09-05T07:34:38.504Z"
   },
   {
    "duration": 570,
    "start_time": "2022-09-05T07:34:38.903Z"
   },
   {
    "duration": 95,
    "start_time": "2022-09-05T07:34:39.475Z"
   },
   {
    "duration": 4275,
    "start_time": "2022-09-05T07:36:53.291Z"
   },
   {
    "duration": 14,
    "start_time": "2022-09-05T07:36:57.569Z"
   },
   {
    "duration": 5,
    "start_time": "2022-09-05T07:36:57.585Z"
   },
   {
    "duration": 261,
    "start_time": "2022-09-05T07:36:57.592Z"
   },
   {
    "duration": 231,
    "start_time": "2022-09-05T07:36:57.856Z"
   },
   {
    "duration": 48,
    "start_time": "2022-09-05T07:36:58.088Z"
   },
   {
    "duration": 7,
    "start_time": "2022-09-05T07:36:58.138Z"
   },
   {
    "duration": 21,
    "start_time": "2022-09-05T07:36:58.146Z"
   },
   {
    "duration": 4,
    "start_time": "2022-09-05T07:36:58.187Z"
   },
   {
    "duration": 36,
    "start_time": "2022-09-05T07:36:58.195Z"
   },
   {
    "duration": 103,
    "start_time": "2022-09-05T07:36:58.234Z"
   },
   {
    "duration": 59,
    "start_time": "2022-09-05T07:36:58.339Z"
   },
   {
    "duration": 21,
    "start_time": "2022-09-05T07:36:58.400Z"
   },
   {
    "duration": 145,
    "start_time": "2022-09-05T07:36:58.422Z"
   },
   {
    "duration": 124,
    "start_time": "2022-09-05T07:36:58.570Z"
   },
   {
    "duration": 129,
    "start_time": "2022-09-05T07:36:58.696Z"
   },
   {
    "duration": 128,
    "start_time": "2022-09-05T07:36:58.827Z"
   },
   {
    "duration": 29,
    "start_time": "2022-09-05T07:36:58.958Z"
   },
   {
    "duration": 47,
    "start_time": "2022-09-05T07:36:58.990Z"
   },
   {
    "duration": 18,
    "start_time": "2022-09-05T07:36:59.039Z"
   },
   {
    "duration": 32,
    "start_time": "2022-09-05T07:36:59.059Z"
   },
   {
    "duration": 24,
    "start_time": "2022-09-05T07:36:59.093Z"
   },
   {
    "duration": 258,
    "start_time": "2022-09-05T07:36:59.119Z"
   },
   {
    "duration": 11,
    "start_time": "2022-09-05T07:36:59.378Z"
   },
   {
    "duration": 10,
    "start_time": "2022-09-05T07:36:59.390Z"
   },
   {
    "duration": 431,
    "start_time": "2022-09-05T07:36:59.402Z"
   },
   {
    "duration": 310,
    "start_time": "2022-09-05T07:36:59.834Z"
   },
   {
    "duration": 303,
    "start_time": "2022-09-05T07:37:00.148Z"
   },
   {
    "duration": 322,
    "start_time": "2022-09-05T07:37:00.454Z"
   },
   {
    "duration": 204,
    "start_time": "2022-09-05T07:37:00.778Z"
   },
   {
    "duration": 233,
    "start_time": "2022-09-05T07:37:00.987Z"
   },
   {
    "duration": 225,
    "start_time": "2022-09-05T07:37:01.222Z"
   },
   {
    "duration": 158,
    "start_time": "2022-09-05T07:37:01.449Z"
   },
   {
    "duration": 360,
    "start_time": "2022-09-05T07:37:01.609Z"
   },
   {
    "duration": 221,
    "start_time": "2022-09-05T07:37:01.970Z"
   },
   {
    "duration": 218,
    "start_time": "2022-09-05T07:37:02.193Z"
   },
   {
    "duration": 230,
    "start_time": "2022-09-05T07:37:02.412Z"
   },
   {
    "duration": 216,
    "start_time": "2022-09-05T07:37:02.643Z"
   },
   {
    "duration": 246,
    "start_time": "2022-09-05T07:37:02.861Z"
   },
   {
    "duration": 228,
    "start_time": "2022-09-05T07:37:03.108Z"
   },
   {
    "duration": 93,
    "start_time": "2022-09-05T07:37:03.338Z"
   },
   {
    "duration": 61,
    "start_time": "2022-09-05T07:37:03.432Z"
   },
   {
    "duration": 63,
    "start_time": "2022-09-05T07:37:03.494Z"
   },
   {
    "duration": 149,
    "start_time": "2022-09-05T07:37:03.559Z"
   },
   {
    "duration": 5,
    "start_time": "2022-09-05T07:37:03.709Z"
   },
   {
    "duration": 163,
    "start_time": "2022-09-05T07:37:03.716Z"
   },
   {
    "duration": 267,
    "start_time": "2022-09-05T07:37:03.886Z"
   },
   {
    "duration": 158,
    "start_time": "2022-09-05T07:37:04.154Z"
   },
   {
    "duration": 149,
    "start_time": "2022-09-05T07:37:04.315Z"
   },
   {
    "duration": 158,
    "start_time": "2022-09-05T07:37:04.466Z"
   },
   {
    "duration": 4,
    "start_time": "2022-09-05T07:37:04.626Z"
   },
   {
    "duration": 170,
    "start_time": "2022-09-05T07:37:04.631Z"
   },
   {
    "duration": 5,
    "start_time": "2022-09-05T07:37:04.802Z"
   },
   {
    "duration": 164,
    "start_time": "2022-09-05T07:37:04.809Z"
   },
   {
    "duration": 5,
    "start_time": "2022-09-05T07:37:04.975Z"
   },
   {
    "duration": 44,
    "start_time": "2022-09-05T07:37:04.981Z"
   },
   {
    "duration": 183,
    "start_time": "2022-09-05T07:37:05.027Z"
   },
   {
    "duration": 3,
    "start_time": "2022-09-05T07:37:05.212Z"
   },
   {
    "duration": 8615,
    "start_time": "2022-09-05T07:37:05.216Z"
   },
   {
    "duration": 416,
    "start_time": "2022-09-05T07:37:13.833Z"
   },
   {
    "duration": 548,
    "start_time": "2022-09-05T07:37:14.251Z"
   },
   {
    "duration": 102,
    "start_time": "2022-09-05T07:37:14.801Z"
   },
   {
    "duration": 4488,
    "start_time": "2022-09-05T07:41:13.399Z"
   },
   {
    "duration": 10,
    "start_time": "2022-09-05T07:41:17.898Z"
   },
   {
    "duration": 4,
    "start_time": "2022-09-05T07:41:17.911Z"
   },
   {
    "duration": 246,
    "start_time": "2022-09-05T07:41:17.916Z"
   },
   {
    "duration": 204,
    "start_time": "2022-09-05T07:41:18.163Z"
   },
   {
    "duration": 59,
    "start_time": "2022-09-05T07:41:18.369Z"
   },
   {
    "duration": 6,
    "start_time": "2022-09-05T07:41:18.430Z"
   },
   {
    "duration": 17,
    "start_time": "2022-09-05T07:41:18.438Z"
   },
   {
    "duration": 4,
    "start_time": "2022-09-05T07:41:18.456Z"
   },
   {
    "duration": 9,
    "start_time": "2022-09-05T07:41:18.461Z"
   },
   {
    "duration": 90,
    "start_time": "2022-09-05T07:41:18.471Z"
   },
   {
    "duration": 60,
    "start_time": "2022-09-05T07:41:18.563Z"
   },
   {
    "duration": 15,
    "start_time": "2022-09-05T07:41:18.627Z"
   },
   {
    "duration": 161,
    "start_time": "2022-09-05T07:41:18.644Z"
   },
   {
    "duration": 116,
    "start_time": "2022-09-05T07:41:18.806Z"
   },
   {
    "duration": 136,
    "start_time": "2022-09-05T07:41:18.923Z"
   },
   {
    "duration": 146,
    "start_time": "2022-09-05T07:41:19.064Z"
   },
   {
    "duration": 13,
    "start_time": "2022-09-05T07:41:19.212Z"
   },
   {
    "duration": 71,
    "start_time": "2022-09-05T07:41:19.227Z"
   },
   {
    "duration": 20,
    "start_time": "2022-09-05T07:41:19.300Z"
   },
   {
    "duration": 10,
    "start_time": "2022-09-05T07:41:19.322Z"
   },
   {
    "duration": 17,
    "start_time": "2022-09-05T07:41:19.334Z"
   },
   {
    "duration": 293,
    "start_time": "2022-09-05T07:41:19.353Z"
   },
   {
    "duration": 6,
    "start_time": "2022-09-05T07:41:19.648Z"
   },
   {
    "duration": 16,
    "start_time": "2022-09-05T07:41:19.656Z"
   },
   {
    "duration": 440,
    "start_time": "2022-09-05T07:41:19.673Z"
   },
   {
    "duration": 311,
    "start_time": "2022-09-05T07:41:20.115Z"
   },
   {
    "duration": 235,
    "start_time": "2022-09-05T07:41:20.428Z"
   },
   {
    "duration": 304,
    "start_time": "2022-09-05T07:41:20.665Z"
   },
   {
    "duration": 199,
    "start_time": "2022-09-05T07:41:20.971Z"
   },
   {
    "duration": 242,
    "start_time": "2022-09-05T07:41:21.172Z"
   },
   {
    "duration": 221,
    "start_time": "2022-09-05T07:41:21.416Z"
   },
   {
    "duration": 168,
    "start_time": "2022-09-05T07:41:21.639Z"
   },
   {
    "duration": 354,
    "start_time": "2022-09-05T07:41:21.809Z"
   },
   {
    "duration": 244,
    "start_time": "2022-09-05T07:41:22.164Z"
   },
   {
    "duration": 221,
    "start_time": "2022-09-05T07:41:22.410Z"
   },
   {
    "duration": 250,
    "start_time": "2022-09-05T07:41:22.633Z"
   },
   {
    "duration": 219,
    "start_time": "2022-09-05T07:41:22.885Z"
   },
   {
    "duration": 235,
    "start_time": "2022-09-05T07:41:23.106Z"
   },
   {
    "duration": 239,
    "start_time": "2022-09-05T07:41:23.345Z"
   },
   {
    "duration": 90,
    "start_time": "2022-09-05T07:41:23.591Z"
   },
   {
    "duration": 48,
    "start_time": "2022-09-05T07:41:23.683Z"
   },
   {
    "duration": 80,
    "start_time": "2022-09-05T07:41:23.733Z"
   },
   {
    "duration": 171,
    "start_time": "2022-09-05T07:41:23.815Z"
   },
   {
    "duration": 8,
    "start_time": "2022-09-05T07:41:23.988Z"
   },
   {
    "duration": 181,
    "start_time": "2022-09-05T07:41:23.998Z"
   },
   {
    "duration": 252,
    "start_time": "2022-09-05T07:41:24.181Z"
   },
   {
    "duration": 184,
    "start_time": "2022-09-05T07:41:24.435Z"
   },
   {
    "duration": 154,
    "start_time": "2022-09-05T07:41:24.621Z"
   },
   {
    "duration": 161,
    "start_time": "2022-09-05T07:41:24.777Z"
   },
   {
    "duration": 6,
    "start_time": "2022-09-05T07:41:24.940Z"
   },
   {
    "duration": 180,
    "start_time": "2022-09-05T07:41:24.949Z"
   },
   {
    "duration": 5,
    "start_time": "2022-09-05T07:41:25.131Z"
   },
   {
    "duration": 171,
    "start_time": "2022-09-05T07:41:25.137Z"
   },
   {
    "duration": 5,
    "start_time": "2022-09-05T07:41:25.310Z"
   },
   {
    "duration": 53,
    "start_time": "2022-09-05T07:41:25.317Z"
   },
   {
    "duration": 199,
    "start_time": "2022-09-05T07:41:25.371Z"
   },
   {
    "duration": 2,
    "start_time": "2022-09-05T07:41:25.572Z"
   },
   {
    "duration": 8588,
    "start_time": "2022-09-05T07:41:25.575Z"
   },
   {
    "duration": 406,
    "start_time": "2022-09-05T07:41:34.165Z"
   },
   {
    "duration": 564,
    "start_time": "2022-09-05T07:41:34.573Z"
   },
   {
    "duration": 101,
    "start_time": "2022-09-05T07:41:35.139Z"
   },
   {
    "duration": 3913,
    "start_time": "2022-09-05T07:44:31.569Z"
   },
   {
    "duration": 10,
    "start_time": "2022-09-05T07:44:35.484Z"
   },
   {
    "duration": 3,
    "start_time": "2022-09-05T07:44:35.496Z"
   },
   {
    "duration": 228,
    "start_time": "2022-09-05T07:44:35.502Z"
   },
   {
    "duration": 193,
    "start_time": "2022-09-05T07:44:35.732Z"
   },
   {
    "duration": 41,
    "start_time": "2022-09-05T07:44:35.926Z"
   },
   {
    "duration": 20,
    "start_time": "2022-09-05T07:44:35.968Z"
   },
   {
    "duration": 19,
    "start_time": "2022-09-05T07:44:35.990Z"
   },
   {
    "duration": 4,
    "start_time": "2022-09-05T07:44:36.011Z"
   },
   {
    "duration": 10,
    "start_time": "2022-09-05T07:44:36.021Z"
   },
   {
    "duration": 91,
    "start_time": "2022-09-05T07:44:36.032Z"
   },
   {
    "duration": 50,
    "start_time": "2022-09-05T07:44:36.125Z"
   },
   {
    "duration": 14,
    "start_time": "2022-09-05T07:44:36.186Z"
   },
   {
    "duration": 166,
    "start_time": "2022-09-05T07:44:36.202Z"
   },
   {
    "duration": 142,
    "start_time": "2022-09-05T07:44:36.370Z"
   },
   {
    "duration": 132,
    "start_time": "2022-09-05T07:44:36.514Z"
   },
   {
    "duration": 130,
    "start_time": "2022-09-05T07:44:36.648Z"
   },
   {
    "duration": 19,
    "start_time": "2022-09-05T07:44:36.779Z"
   },
   {
    "duration": 44,
    "start_time": "2022-09-05T07:44:36.800Z"
   },
   {
    "duration": 41,
    "start_time": "2022-09-05T07:44:36.846Z"
   },
   {
    "duration": 4,
    "start_time": "2022-09-05T07:44:36.888Z"
   },
   {
    "duration": 19,
    "start_time": "2022-09-05T07:44:36.894Z"
   },
   {
    "duration": 257,
    "start_time": "2022-09-05T07:44:36.915Z"
   },
   {
    "duration": 13,
    "start_time": "2022-09-05T07:44:37.174Z"
   },
   {
    "duration": 5,
    "start_time": "2022-09-05T07:44:37.188Z"
   },
   {
    "duration": 411,
    "start_time": "2022-09-05T07:44:37.194Z"
   },
   {
    "duration": 304,
    "start_time": "2022-09-05T07:44:37.607Z"
   },
   {
    "duration": 222,
    "start_time": "2022-09-05T07:44:37.916Z"
   },
   {
    "duration": 286,
    "start_time": "2022-09-05T07:44:38.140Z"
   },
   {
    "duration": 196,
    "start_time": "2022-09-05T07:44:38.428Z"
   },
   {
    "duration": 213,
    "start_time": "2022-09-05T07:44:38.626Z"
   },
   {
    "duration": 213,
    "start_time": "2022-09-05T07:44:38.841Z"
   },
   {
    "duration": 145,
    "start_time": "2022-09-05T07:44:39.056Z"
   },
   {
    "duration": 315,
    "start_time": "2022-09-05T07:44:39.202Z"
   },
   {
    "duration": 207,
    "start_time": "2022-09-05T07:44:39.519Z"
   },
   {
    "duration": 201,
    "start_time": "2022-09-05T07:44:39.727Z"
   },
   {
    "duration": 243,
    "start_time": "2022-09-05T07:44:39.930Z"
   },
   {
    "duration": 221,
    "start_time": "2022-09-05T07:44:40.175Z"
   },
   {
    "duration": 226,
    "start_time": "2022-09-05T07:44:40.398Z"
   },
   {
    "duration": 214,
    "start_time": "2022-09-05T07:44:40.625Z"
   },
   {
    "duration": 88,
    "start_time": "2022-09-05T07:44:40.841Z"
   },
   {
    "duration": 45,
    "start_time": "2022-09-05T07:44:40.931Z"
   },
   {
    "duration": 78,
    "start_time": "2022-09-05T07:44:40.978Z"
   },
   {
    "duration": 158,
    "start_time": "2022-09-05T07:44:41.059Z"
   },
   {
    "duration": 5,
    "start_time": "2022-09-05T07:44:41.219Z"
   },
   {
    "duration": 155,
    "start_time": "2022-09-05T07:44:41.225Z"
   },
   {
    "duration": 235,
    "start_time": "2022-09-05T07:44:41.386Z"
   },
   {
    "duration": 144,
    "start_time": "2022-09-05T07:44:41.622Z"
   },
   {
    "duration": 131,
    "start_time": "2022-09-05T07:44:41.768Z"
   },
   {
    "duration": 156,
    "start_time": "2022-09-05T07:44:41.901Z"
   },
   {
    "duration": 7,
    "start_time": "2022-09-05T07:44:42.059Z"
   },
   {
    "duration": 174,
    "start_time": "2022-09-05T07:44:42.068Z"
   },
   {
    "duration": 5,
    "start_time": "2022-09-05T07:44:42.244Z"
   },
   {
    "duration": 147,
    "start_time": "2022-09-05T07:44:42.251Z"
   },
   {
    "duration": 5,
    "start_time": "2022-09-05T07:44:42.400Z"
   },
   {
    "duration": 26,
    "start_time": "2022-09-05T07:44:42.407Z"
   },
   {
    "duration": 173,
    "start_time": "2022-09-05T07:44:42.436Z"
   },
   {
    "duration": 3,
    "start_time": "2022-09-05T07:44:42.611Z"
   },
   {
    "duration": 7987,
    "start_time": "2022-09-05T07:44:42.615Z"
   },
   {
    "duration": 389,
    "start_time": "2022-09-05T07:44:50.603Z"
   },
   {
    "duration": 533,
    "start_time": "2022-09-05T07:44:50.993Z"
   },
   {
    "duration": 95,
    "start_time": "2022-09-05T07:44:51.527Z"
   },
   {
    "duration": 3478,
    "start_time": "2022-09-05T20:14:47.654Z"
   },
   {
    "duration": 8,
    "start_time": "2022-09-05T20:14:51.134Z"
   },
   {
    "duration": 14,
    "start_time": "2022-09-05T20:14:51.143Z"
   },
   {
    "duration": 248,
    "start_time": "2022-09-05T20:14:51.159Z"
   },
   {
    "duration": 206,
    "start_time": "2022-09-05T20:14:51.409Z"
   },
   {
    "duration": 59,
    "start_time": "2022-09-05T20:14:51.616Z"
   },
   {
    "duration": 16,
    "start_time": "2022-09-05T20:14:51.691Z"
   },
   {
    "duration": 28,
    "start_time": "2022-09-05T20:14:51.710Z"
   },
   {
    "duration": 5,
    "start_time": "2022-09-05T20:14:51.740Z"
   },
   {
    "duration": 17,
    "start_time": "2022-09-05T20:14:51.748Z"
   },
   {
    "duration": 110,
    "start_time": "2022-09-05T20:14:51.767Z"
   },
   {
    "duration": 77,
    "start_time": "2022-09-05T20:14:51.880Z"
   },
   {
    "duration": 16,
    "start_time": "2022-09-05T20:14:51.960Z"
   },
   {
    "duration": 163,
    "start_time": "2022-09-05T20:14:51.984Z"
   },
   {
    "duration": 178,
    "start_time": "2022-09-05T20:14:52.149Z"
   },
   {
    "duration": 165,
    "start_time": "2022-09-05T20:14:52.329Z"
   },
   {
    "duration": 169,
    "start_time": "2022-09-05T20:14:52.495Z"
   },
   {
    "duration": 25,
    "start_time": "2022-09-05T20:14:52.665Z"
   },
   {
    "duration": 54,
    "start_time": "2022-09-05T20:14:52.691Z"
   },
   {
    "duration": 24,
    "start_time": "2022-09-05T20:14:52.748Z"
   },
   {
    "duration": 17,
    "start_time": "2022-09-05T20:14:52.774Z"
   },
   {
    "duration": 42,
    "start_time": "2022-09-05T20:14:52.794Z"
   },
   {
    "duration": 312,
    "start_time": "2022-09-05T20:14:52.838Z"
   },
   {
    "duration": 5,
    "start_time": "2022-09-05T20:14:53.152Z"
   },
   {
    "duration": 11,
    "start_time": "2022-09-05T20:14:53.160Z"
   },
   {
    "duration": 410,
    "start_time": "2022-09-05T20:14:53.173Z"
   },
   {
    "duration": 316,
    "start_time": "2022-09-05T20:14:53.584Z"
   },
   {
    "duration": 226,
    "start_time": "2022-09-05T20:14:53.904Z"
   },
   {
    "duration": 361,
    "start_time": "2022-09-05T20:14:54.132Z"
   },
   {
    "duration": 250,
    "start_time": "2022-09-05T20:14:54.495Z"
   },
   {
    "duration": 266,
    "start_time": "2022-09-05T20:14:54.747Z"
   },
   {
    "duration": 216,
    "start_time": "2022-09-05T20:14:55.014Z"
   },
   {
    "duration": 160,
    "start_time": "2022-09-05T20:14:55.231Z"
   },
   {
    "duration": 314,
    "start_time": "2022-09-05T20:14:55.399Z"
   },
   {
    "duration": 207,
    "start_time": "2022-09-05T20:14:55.715Z"
   },
   {
    "duration": 211,
    "start_time": "2022-09-05T20:14:55.923Z"
   },
   {
    "duration": 212,
    "start_time": "2022-09-05T20:14:56.136Z"
   },
   {
    "duration": 204,
    "start_time": "2022-09-05T20:14:56.349Z"
   },
   {
    "duration": 243,
    "start_time": "2022-09-05T20:14:56.555Z"
   },
   {
    "duration": 219,
    "start_time": "2022-09-05T20:14:56.799Z"
   },
   {
    "duration": 94,
    "start_time": "2022-09-05T20:14:57.020Z"
   },
   {
    "duration": 52,
    "start_time": "2022-09-05T20:14:57.116Z"
   },
   {
    "duration": 108,
    "start_time": "2022-09-05T20:14:57.170Z"
   },
   {
    "duration": 136,
    "start_time": "2022-09-05T20:14:57.287Z"
   },
   {
    "duration": 4,
    "start_time": "2022-09-05T20:14:57.425Z"
   },
   {
    "duration": 174,
    "start_time": "2022-09-05T20:14:57.430Z"
   },
   {
    "duration": 251,
    "start_time": "2022-09-05T20:14:57.606Z"
   },
   {
    "duration": 176,
    "start_time": "2022-09-05T20:14:57.860Z"
   },
   {
    "duration": 139,
    "start_time": "2022-09-05T20:14:58.037Z"
   },
   {
    "duration": 151,
    "start_time": "2022-09-05T20:14:58.178Z"
   },
   {
    "duration": 6,
    "start_time": "2022-09-05T20:14:58.331Z"
   },
   {
    "duration": 185,
    "start_time": "2022-09-05T20:14:58.338Z"
   },
   {
    "duration": 4,
    "start_time": "2022-09-05T20:14:58.525Z"
   },
   {
    "duration": 177,
    "start_time": "2022-09-05T20:14:58.531Z"
   },
   {
    "duration": 5,
    "start_time": "2022-09-05T20:14:58.710Z"
   },
   {
    "duration": 21,
    "start_time": "2022-09-05T20:14:58.716Z"
   },
   {
    "duration": 183,
    "start_time": "2022-09-05T20:14:58.739Z"
   },
   {
    "duration": 2,
    "start_time": "2022-09-05T20:14:58.924Z"
   },
   {
    "duration": 8432,
    "start_time": "2022-09-05T20:14:58.928Z"
   },
   {
    "duration": 412,
    "start_time": "2022-09-05T20:15:07.362Z"
   },
   {
    "duration": 544,
    "start_time": "2022-09-05T20:15:07.776Z"
   },
   {
    "duration": 96,
    "start_time": "2022-09-05T20:15:08.322Z"
   }
  ],
  "language_info": {
   "codemirror_mode": {
    "name": "ipython",
    "version": 3
   },
   "file_extension": ".py",
   "mimetype": "text/x-python",
   "name": "python",
   "nbconvert_exporter": "python",
   "pygments_lexer": "ipython3",
   "version": "3.7.7"
  },
  "notebookId": "cd3d860d-e50d-4402-8c5c-6b0d12775c7c",
  "notebookPath": "YANDEX/3.ipynb",
  "toc": {
   "base_numbering": "1. Общая информация о файле с данными",
   "nav_menu": {},
   "number_sections": false,
   "sideBar": true,
   "skip_h1_title": false,
   "title_cell": "Table of Contents",
   "title_sidebar": "Contents",
   "toc_cell": false,
   "toc_position": {
    "height": "360px",
    "left": "220px",
    "top": "111.125px",
    "width": "165px"
   },
   "toc_section_display": true,
   "toc_window_display": true
  }
 },
 "nbformat": 4,
 "nbformat_minor": 4
}
