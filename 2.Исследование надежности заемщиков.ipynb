{
 "cells": [
  {
   "cell_type": "markdown",
   "id": "a98a8804",
   "metadata": {
    "cellId": "v6ytq06d6mlrub9z8l17tq",
    "deletable": false,
    "editable": false,
    "id": "c81daeeb"
   },
   "source": [
    "# Исследование надежности заемщиков"
   ]
  },
  {
   "cell_type": "code",
   "execution_count": null,
   "id": "5fcafc7e",
   "metadata": {
    "cellId": "vqsg2fknsu5oq9lgez7nd",
    "deletable": false,
    "editable": false,
    "id": "-G3EJWzf62s6"
   },
   "outputs": [],
   "source": [
    "Это первая часть проекта, она будет проверена автоматически. Вторую часть проверит ревьюер. "
   ]
  },
  {
   "cell_type": "markdown",
   "id": "fb3c8f63",
   "metadata": {
    "cellId": "w35ideb1v0g01sjixp5iofg",
    "deletable": false,
    "editable": false,
    "id": "744d7639"
   },
   "source": [
    "## Откройте таблицу и изучите общую информацию о данных"
   ]
  },
  {
   "cell_type": "markdown",
   "id": "95645bf6",
   "metadata": {
    "cellId": "k43uj4xsq87i6ovta5jpq",
    "deletable": false,
    "editable": false,
    "id": "e7a14c31",
    "tags": [
     "start_task"
    ]
   },
   "source": [
    "**Задание 1. Импортируйте библиотеку pandas. Считайте данные из csv-файла в датафрейм и сохраните в переменную `data`. Путь к файлу:**\n",
    "\n",
    "`/datasets/data.csv`"
   ]
  },
  {
   "cell_type": "code",
   "execution_count": null,
   "id": "b65df44a",
   "metadata": {
    "cellId": "zqcbxq0wr8tc50lze76de",
    "id": "7bcf75c9"
   },
   "outputs": [],
   "source": [
    "import pandas as pd # импортируйте библиотеку pandas"
   ]
  },
  {
   "cell_type": "code",
   "execution_count": null,
   "id": "160896b1",
   "metadata": {
    "cellId": "2li8q8v24bam7obdru2bfd",
    "id": "4d240ee2"
   },
   "outputs": [],
   "source": [
    "data = pd.read_csv('/datasets/data.csv') # прочитайте csv-файл"
   ]
  },
  {
   "cell_type": "markdown",
   "id": "04f9ad51",
   "metadata": {
    "cellId": "9rka1r1yyky3plm2hyn5d",
    "deletable": false,
    "editable": false,
    "id": "b8038fe3",
    "tags": [
     "start_task"
    ]
   },
   "source": [
    "**Задание 2. Выведите первые 20 строчек датафрейма `data` на экран.**"
   ]
  },
  {
   "cell_type": "code",
   "execution_count": null,
   "id": "c0034806",
   "metadata": {
    "cellId": "i6ay22oy7thapnldfimxhc",
    "id": "2a7cab99"
   },
   "outputs": [],
   "source": [
    "data.head(20)# ваш код здесь"
   ]
  },
  {
   "cell_type": "markdown",
   "id": "91021597",
   "metadata": {
    "cellId": "wdlat8ldw7xq1m23m1yw",
    "deletable": false,
    "editable": false,
    "id": "1c12e233",
    "tags": [
     "start_task"
    ]
   },
   "source": [
    "**Задание 3. Выведите основную информацию о датафрейме с помощью метода `info()`.**"
   ]
  },
  {
   "cell_type": "code",
   "execution_count": null,
   "id": "f15ce14b",
   "metadata": {
    "cellId": "etp5sqnned814rdaian0n4",
    "id": "2b757bca"
   },
   "outputs": [],
   "source": [
    "data.info()# ваш код здесь"
   ]
  },
  {
   "cell_type": "markdown",
   "id": "5eabcf1b",
   "metadata": {
    "cellId": "zdwa0f8r4ygeozjfkpkl",
    "deletable": false,
    "editable": false,
    "id": "333ec665"
   },
   "source": [
    "## Предобработка данных"
   ]
  },
  {
   "cell_type": "markdown",
   "id": "8bbe3d65",
   "metadata": {
    "cellId": "kmiw6xvsmfqvprqyq9eln",
    "deletable": false,
    "editable": false,
    "id": "02d92d53"
   },
   "source": [
    "### Удаление пропусков"
   ]
  },
  {
   "cell_type": "markdown",
   "id": "7d8ce028",
   "metadata": {
    "cellId": "jf3bh6yqifoi7m3w7gw6",
    "deletable": false,
    "editable": false,
    "id": "cd84967c",
    "tags": [
     "start_task"
    ]
   },
   "source": [
    "**Задание 4. Выведите количество пропущенных значений для каждого столбца. Используйте комбинацию двух методов.**"
   ]
  },
  {
   "cell_type": "code",
   "execution_count": null,
   "id": "54bd72eb",
   "metadata": {
    "cellId": "p7xxolwom7sxrxicgbhzae",
    "id": "7f9b2309"
   },
   "outputs": [],
   "source": [
    "data.isna().sum()# ваш код здесь"
   ]
  },
  {
   "cell_type": "markdown",
   "id": "ea893bd0",
   "metadata": {
    "cellId": "tozhh9i8h15jx6u29e0zl",
    "deletable": false,
    "editable": false,
    "id": "db86e27b",
    "tags": [
     "start_task"
    ]
   },
   "source": [
    "**Задание 5. В двух столбцах есть пропущенные значения. Один из них — `days_employed`. Пропуски в этом столбце вы обработаете на следующем этапе. Другой столбец с пропущенными значениями — `total_income` — хранит данные о доходах. На сумму дохода сильнее всего влияет тип занятости, поэтому заполнить пропуски в этом столбце нужно медианным значением по каждому типу из столбца `income_type`. Например, у человека с типом занятости `сотрудник` пропуск в столбце `total_income` должен быть заполнен медианным доходом среди всех записей с тем же типом.**"
   ]
  },
  {
   "cell_type": "code",
   "execution_count": null,
   "id": "3a230ec3",
   "metadata": {
    "cellId": "oua38yddu8dhbxyf541mwo",
    "id": "42006a93"
   },
   "outputs": [],
   "source": [
    "data = data.set_index('income_type')\n",
    "medians = data.groupby('income_type')['total_income'].median()\n",
    "data['total_income'] = data.total_income.fillna(medians)\n",
    "data = data.reset_index()"
   ]
  },
  {
   "cell_type": "markdown",
   "id": "4509a0fe",
   "metadata": {
    "cellId": "jc34jimz41f8bv82yav1ua",
    "deletable": false,
    "editable": false,
    "id": "89da5ece"
   },
   "source": [
    "### Обработка аномальных значений"
   ]
  },
  {
   "cell_type": "markdown",
   "id": "fb87c4d3",
   "metadata": {
    "cellId": "nrfyg2rd1pb93mwf5ysd4",
    "deletable": false,
    "editable": false,
    "id": "57964554",
    "tags": [
     "start_task"
    ]
   },
   "source": [
    "**Задание 6. В данных могут встречаться артефакты (аномалии) — значения, которые не отражают действительность и появились по какой-то ошибке. Таким артефактом будет отрицательное количество дней трудового стажа в столбце `days_employed`. Для реальных данных это нормально. Обработайте значения в этом столбце: замените все отрицательные значения положительными с помощью метода `abs()`.**"
   ]
  },
  {
   "cell_type": "code",
   "execution_count": null,
   "id": "1ce76657",
   "metadata": {
    "cellId": "abqo4f8c7sjmvgde8to1f",
    "id": "f6f055bf"
   },
   "outputs": [],
   "source": [
    "data['days_employed'] = data['days_employed'].abs()\n",
    "# ваш код здесь"
   ]
  },
  {
   "cell_type": "markdown",
   "id": "36ba5fcf",
   "metadata": {
    "cellId": "4oz96gxfb4f09naho07d588",
    "deletable": false,
    "editable": false,
    "id": "6107dd2f",
    "tags": [
     "start_task"
    ]
   },
   "source": [
    "**Задание 7. Для каждого типа занятости выведите медианное значение трудового стажа `days_employed` в днях.**"
   ]
  },
  {
   "cell_type": "code",
   "execution_count": null,
   "id": "39b1094c",
   "metadata": {
    "cellId": "vl64l6xhko7lwojp1qbjx",
    "id": "85a5faf6",
    "scrolled": true
   },
   "outputs": [],
   "source": [
    "data.groupby('income_type')['days_employed'].agg('median')"
   ]
  },
  {
   "cell_type": "markdown",
   "id": "65919a1d",
   "metadata": {
    "cellId": "gvu78chqoc77bk7r0wyi5r",
    "deletable": false,
    "editable": false,
    "id": "38d1a030"
   },
   "source": [
    "У двух типов (безработные и пенсионеры) получатся аномально большие значения. Исправить такие значения сложно, поэтому оставьте их как есть. Тем более этот столбец не понадобится вам для исследования."
   ]
  },
  {
   "cell_type": "markdown",
   "id": "913d6ab6",
   "metadata": {
    "cellId": "epkrbq5x9alp4p2emktae",
    "deletable": false,
    "editable": false,
    "id": "d8a9f147",
    "tags": [
     "start_task"
    ]
   },
   "source": [
    "**Задание 8. Выведите перечень уникальных значений столбца `children`.**"
   ]
  },
  {
   "cell_type": "code",
   "execution_count": null,
   "id": "83636cf7",
   "metadata": {
    "cellId": "bpv7d191nzsb7og06vetah",
    "id": "ef5056eb"
   },
   "outputs": [],
   "source": [
    "data['children'].unique()\n",
    "# ваш код здесь"
   ]
  },
  {
   "cell_type": "markdown",
   "id": "213533af",
   "metadata": {
    "cellId": "fz7sw9fa2ipufmyaymadwg",
    "deletable": false,
    "editable": false,
    "id": "40b9ebf2",
    "tags": [
     "start_task"
    ]
   },
   "source": [
    "**Задание 9. В столбце `children` есть два аномальных значения. Удалите строки, в которых встречаются такие аномальные значения из датафрейма `data`.**"
   ]
  },
  {
   "cell_type": "code",
   "execution_count": null,
   "id": "ec5b3b8d",
   "metadata": {
    "cellId": "tmq55rqfvm7udgppxuvqdt",
    "id": "3ff9801d"
   },
   "outputs": [],
   "source": [
    "data.drop(axis=0, labels=data[(data['children']<0) | (data['children']>18) ].index, inplace=True)"
   ]
  },
  {
   "cell_type": "markdown",
   "id": "bb1b4379",
   "metadata": {
    "cellId": "6hc7ifymwwimpel3d9v81",
    "deletable": false,
    "editable": false,
    "id": "bbc4d0ce",
    "tags": [
     "start_task"
    ]
   },
   "source": [
    "**Задание 10. Ещё раз выведите перечень уникальных значений столбца `children`, чтобы убедиться, что артефакты удалены.**"
   ]
  },
  {
   "cell_type": "code",
   "execution_count": null,
   "id": "3a1d88d3",
   "metadata": {
    "cellId": "mjjqhzxj2on8cq1sfzozg",
    "id": "ad4fa8b7"
   },
   "outputs": [],
   "source": [
    "# ваш код здесь\n",
    "data['children'].unique()"
   ]
  },
  {
   "cell_type": "markdown",
   "id": "83c84431",
   "metadata": {
    "cellId": "nctvsjl7mkatyp14kgz23",
    "deletable": false,
    "editable": false,
    "id": "75440b63"
   },
   "source": [
    "### Удаление пропусков (продолжение)"
   ]
  },
  {
   "cell_type": "markdown",
   "id": "e521fd56",
   "metadata": {
    "cellId": "p00hxelrpjs74ux4ikphzp",
    "deletable": false,
    "editable": false,
    "id": "f4ea573f",
    "tags": [
     "start_task"
    ]
   },
   "source": [
    "**Задание 11. Заполните пропуски в столбце `days_employed` медианными значениями по каждому типу занятости `income_type`.**"
   ]
  },
  {
   "cell_type": "code",
   "execution_count": null,
   "id": "eb5adb26",
   "metadata": {
    "cellId": "re4nay9lao9o2zkrtaoyc",
    "id": "af6b1a7e"
   },
   "outputs": [],
   "source": [
    "data = data.set_index('income_type')\n",
    "medians = data.groupby('income_type')['days_employed'].median()\n",
    "data['days_employed'] = data.days_employed.fillna(medians)\n",
    "data = data.reset_index()# ваш код здесь\n"
   ]
  },
  {
   "cell_type": "markdown",
   "id": "c9307d81",
   "metadata": {
    "cellId": "eov828a7b2wjt6aj38kgkc",
    "deletable": false,
    "editable": false,
    "id": "2753f40d",
    "tags": [
     "start_task"
    ]
   },
   "source": [
    "**Задание 12. Убедитесь, что все пропуски заполнены. Проверьте себя и ещё раз выведите количество пропущенных значений для каждого столбца с помощью двух методов.**"
   ]
  },
  {
   "cell_type": "code",
   "execution_count": null,
   "id": "a7e3ab04",
   "metadata": {
    "cellId": "9bkl1mkltxb4mr6qj8a5ch",
    "id": "55f78bc2"
   },
   "outputs": [],
   "source": [
    "data.isna().sum()\n",
    "\n",
    "# ваш код здесь"
   ]
  },
  {
   "cell_type": "markdown",
   "id": "3bc32d59",
   "metadata": {
    "cellId": "2y5e1yn2utc173h1j9577n",
    "deletable": false,
    "editable": false,
    "id": "ddc81e43"
   },
   "source": [
    "### Изменение типов данных"
   ]
  },
  {
   "cell_type": "markdown",
   "id": "310b01d1",
   "metadata": {
    "cellId": "03bmoh7vdzojsn49d8jtbi",
    "deletable": false,
    "editable": false,
    "id": "42d19d24",
    "tags": [
     "start_task"
    ]
   },
   "source": [
    "**Задание 13. Замените вещественный тип данных в столбце `total_income` на целочисленный с помощью метода `astype()`.**"
   ]
  },
  {
   "cell_type": "code",
   "execution_count": null,
   "id": "b0bb94af",
   "metadata": {
    "cellId": "ffppmt26mhtfy5y1hrllz7",
    "id": "920b65ad"
   },
   "outputs": [],
   "source": [
    "data['total_income'] = data['total_income'].astype('int')\n",
    "\n"
   ]
  },
  {
   "cell_type": "markdown",
   "id": "639a3a22",
   "metadata": {
    "cellId": "zkcfhpzshtcqalz4pelale",
    "deletable": false,
    "editable": false,
    "id": "80c420ba"
   },
   "source": [
    "### Обработка дубликатов"
   ]
  },
  {
   "cell_type": "markdown",
   "id": "ee1c196f",
   "metadata": {
    "cellId": "6wgdo01tp6tluthq8okkx",
    "deletable": false,
    "editable": false,
    "id": "dc587695",
    "tags": [
     "start_task"
    ]
   },
   "source": [
    "**Задание 14. Выведите на экран количество строк-дубликатов в данных. Если такие строки присутствуют, удалите их.**"
   ]
  },
  {
   "cell_type": "code",
   "execution_count": null,
   "id": "1b582f25",
   "metadata": {
    "cellId": "mubi0i5z1gvd2ario0kkj",
    "id": "3ee445e4"
   },
   "outputs": [],
   "source": [
    "data.duplicated().sum()# посчитайте дубликаты"
   ]
  },
  {
   "cell_type": "code",
   "execution_count": null,
   "id": "f3c3f5b9",
   "metadata": {
    "cellId": "b9byircdd56cb3q9l4q5ms",
    "id": "8575fe05"
   },
   "outputs": [],
   "source": [
    "data = data.drop_duplicates()"
   ]
  },
  {
   "cell_type": "markdown",
   "id": "30d08f62",
   "metadata": {
    "cellId": "zvue4b5ci7bcq6kizqamkg",
    "deletable": false,
    "editable": false,
    "id": "9771a76c",
    "tags": [
     "start_task"
    ]
   },
   "source": [
    "**Задание 15. Обработайте неявные дубликаты в столбце `education`. В этом столбце есть одни и те же значения, но записанные по-разному: с использованием заглавных и строчных букв. Приведите их к нижнему регистру. Проверьте остальные столбцы.**"
   ]
  },
  {
   "cell_type": "code",
   "execution_count": null,
   "id": "faf854ae",
   "metadata": {
    "cellId": "aejp2jql9ja9hnbgigraq9",
    "id": "a9f8e2bf"
   },
   "outputs": [],
   "source": [
    "data['education']=data['education'].str.lower()\n",
    "#data['income_type']=data['income_type'].str.lower()\n",
    "#data['family_status']=data['family_status'].str.lower()\n",
    "#data['gender']=data['gender'].str.lower()\n",
    "#data['purpose']=data['purpose'].str.lower()\n",
    "\n"
   ]
  },
  {
   "cell_type": "markdown",
   "id": "edcb5e48",
   "metadata": {
    "cellId": "iil29uh3tnw131iut0m3",
    "deletable": false,
    "editable": false,
    "id": "9904cf55"
   },
   "source": [
    "### Категоризация данных"
   ]
  },
  {
   "cell_type": "markdown",
   "id": "949699e9",
   "metadata": {
    "cellId": "yk78efdd4sltbuyxp6kp6b",
    "deletable": false,
    "editable": false,
    "id": "72fcc8a2",
    "tags": [
     "start_task"
    ]
   },
   "source": [
    "**Задание 16. На основании диапазонов, указанных ниже, создайте в датафрейме `data` столбец `total_income_category` с категориями:**\n",
    "\n",
    "- 0–30000 — `'E'`;\n",
    "- 30001–50000 — `'D'`;\n",
    "- 50001–200000 — `'C'`;\n",
    "- 200001–1000000 — `'B'`;\n",
    "- 1000001 и выше — `'A'`.\n",
    "\n",
    "\n",
    "**Например, кредитополучателю с доходом 25000 нужно назначить категорию `'E'`, а клиенту, получающему 235000, — `'B'`. Используйте собственную функцию с именем `categorize_income()` и метод `apply()`.**"
   ]
  },
  {
   "cell_type": "code",
   "execution_count": null,
   "id": "36167428",
   "metadata": {
    "cellId": "uzhjxn1l45qi5eg2do2u",
    "id": "e1771346"
   },
   "outputs": [],
   "source": [
    "def categorize_income(income):\n",
    "    try:\n",
    "        if 0 <= income <= 30000:\n",
    "            return 'E'\n",
    "        elif 30001 <= income <= 50000:\n",
    "            return 'D'\n",
    "        elif 50001 <= income <= 200000:\n",
    "            return 'C'\n",
    "        elif 200001 <= income <= 1000000:\n",
    "            return 'B'\n",
    "        elif income >= 1000001:\n",
    "            return 'A'\n",
    "    except:\n",
    "        pass"
   ]
  },
  {
   "cell_type": "code",
   "execution_count": null,
   "id": "6b2a4a8a",
   "metadata": {
    "cellId": "rlqn3u08448k7wr77jta4",
    "id": "d5f3586d"
   },
   "outputs": [],
   "source": [
    "# примените функцию методом apply()\n",
    "data['total_income_category'] = data['total_income'].apply(categorize_income)"
   ]
  },
  {
   "cell_type": "markdown",
   "id": "85316a21",
   "metadata": {
    "cellId": "p499ruile5w53446uvfo",
    "deletable": false,
    "editable": false,
    "id": "dde49b5c",
    "tags": [
     "start_task"
    ]
   },
   "source": [
    "**Задание 17. Выведите на экран перечень уникальных целей взятия кредита из столбца `purpose`.**"
   ]
  },
  {
   "cell_type": "code",
   "execution_count": null,
   "id": "f4d5e063",
   "metadata": {
    "cellId": "v3r5hh04swe2a6vkn7uho1",
    "id": "f67ce9b3"
   },
   "outputs": [],
   "source": [
    "# ваш код здесь\n",
    "data['purpose'].unique()"
   ]
  },
  {
   "cell_type": "markdown",
   "id": "4943e4a7",
   "metadata": {
    "cellId": "mwygr1celt37a51e3amoj",
    "deletable": false,
    "editable": false,
    "id": "85d0aef0",
    "tags": [
     "start_task"
    ]
   },
   "source": [
    "**Задание 18. Создайте функцию, которая на основании данных из столбца `purpose` сформирует новый столбец `purpose_category`, в который войдут следующие категории:**\n",
    "\n",
    "- `'операции с автомобилем'`,\n",
    "- `'операции с недвижимостью'`,\n",
    "- `'проведение свадьбы'`,\n",
    "- `'получение образования'`.\n",
    "\n",
    "**Например, если в столбце `purpose` находится подстрока `'на покупку автомобиля'`, то в столбце `purpose_category` должна появиться строка `'операции с автомобилем'`.**\n",
    "\n",
    "**Используйте собственную функцию с именем `categorize_purpose()` и метод `apply()`. Изучите данные в столбце `purpose` и определите, какие подстроки помогут вам правильно определить категорию.**"
   ]
  },
  {
   "cell_type": "code",
   "execution_count": null,
   "id": "11e57664",
   "metadata": {
    "cellId": "8rzn76z5j8bvlf5r9296g",
    "id": "e149fab4"
   },
   "outputs": [],
   "source": [
    "\n",
    "def categorize_purpose(purpose):\n",
    "    try:\n",
    "        if 'авто' in purpose:\n",
    "            return 'операции с автомобилем'\n",
    "        if 'жил' in purpose or 'недвиж' in purpose:\n",
    "            return 'операции с недвижимостью'\n",
    "        if 'свадьб' in purpose:\n",
    "            return 'проведение свадьбы'\n",
    "        if  'образ' in purpose:\n",
    "            return 'получение образования'\n",
    "    except:\n",
    "        return 'нет категории'\n",
    "    \n"
   ]
  },
  {
   "cell_type": "code",
   "execution_count": null,
   "id": "b7dd1690",
   "metadata": {
    "cellId": "pxb1x6cknvfjub2w2vkqz",
    "id": "bf36e69b"
   },
   "outputs": [],
   "source": [
    "# примените функцию методом apply()\n",
    "data['purpose_category']=data['purpose'].apply(categorize_purpose)"
   ]
  }
 ],
 "metadata": {
  "ExecuteTimeLog": [
   {
    "duration": 420,
    "start_time": "2022-06-20T08:55:35.340Z"
   },
   {
    "duration": 297,
    "start_time": "2022-06-20T08:55:35.762Z"
   },
   {
    "duration": 25,
    "start_time": "2022-06-20T08:55:36.061Z"
   },
   {
    "duration": 17,
    "start_time": "2022-06-20T08:55:36.088Z"
   },
   {
    "duration": 11,
    "start_time": "2022-06-20T08:55:36.106Z"
   },
   {
    "duration": 44,
    "start_time": "2022-06-20T08:55:36.119Z"
   },
   {
    "duration": 0,
    "start_time": "2022-06-20T08:55:36.165Z"
   },
   {
    "duration": 0,
    "start_time": "2022-06-20T08:55:36.167Z"
   },
   {
    "duration": 0,
    "start_time": "2022-06-20T08:55:36.168Z"
   },
   {
    "duration": 0,
    "start_time": "2022-06-20T08:55:36.169Z"
   },
   {
    "duration": 0,
    "start_time": "2022-06-20T08:55:36.170Z"
   },
   {
    "duration": 0,
    "start_time": "2022-06-20T08:55:36.171Z"
   },
   {
    "duration": 0,
    "start_time": "2022-06-20T08:55:36.172Z"
   },
   {
    "duration": 0,
    "start_time": "2022-06-20T08:55:36.173Z"
   },
   {
    "duration": 0,
    "start_time": "2022-06-20T08:55:36.175Z"
   },
   {
    "duration": 0,
    "start_time": "2022-06-20T08:55:36.176Z"
   },
   {
    "duration": 0,
    "start_time": "2022-06-20T08:55:36.178Z"
   },
   {
    "duration": 0,
    "start_time": "2022-06-20T08:55:36.179Z"
   },
   {
    "duration": 0,
    "start_time": "2022-06-20T08:55:36.180Z"
   },
   {
    "duration": 0,
    "start_time": "2022-06-20T08:55:36.181Z"
   },
   {
    "duration": 0,
    "start_time": "2022-06-20T08:55:36.182Z"
   },
   {
    "duration": 0,
    "start_time": "2022-06-20T08:55:36.183Z"
   },
   {
    "duration": 426,
    "start_time": "2022-06-20T09:05:18.653Z"
   },
   {
    "duration": 75,
    "start_time": "2022-06-20T09:05:19.081Z"
   },
   {
    "duration": 28,
    "start_time": "2022-06-20T09:05:19.158Z"
   },
   {
    "duration": 14,
    "start_time": "2022-06-20T09:05:19.188Z"
   },
   {
    "duration": 11,
    "start_time": "2022-06-20T09:05:19.204Z"
   },
   {
    "duration": 4,
    "start_time": "2022-06-20T09:05:19.217Z"
   },
   {
    "duration": 13,
    "start_time": "2022-06-20T09:05:19.222Z"
   },
   {
    "duration": 23,
    "start_time": "2022-06-20T09:05:19.237Z"
   },
   {
    "duration": 6,
    "start_time": "2022-06-20T09:05:19.263Z"
   },
   {
    "duration": 8,
    "start_time": "2022-06-20T09:05:19.271Z"
   },
   {
    "duration": 19,
    "start_time": "2022-06-20T09:05:19.281Z"
   },
   {
    "duration": 11,
    "start_time": "2022-06-20T09:05:19.301Z"
   },
   {
    "duration": 11,
    "start_time": "2022-06-20T09:05:19.313Z"
   },
   {
    "duration": 7,
    "start_time": "2022-06-20T09:05:19.326Z"
   },
   {
    "duration": 6,
    "start_time": "2022-06-20T09:05:19.334Z"
   },
   {
    "duration": 5,
    "start_time": "2022-06-20T09:05:19.342Z"
   },
   {
    "duration": 10,
    "start_time": "2022-06-20T09:05:19.349Z"
   },
   {
    "duration": 6,
    "start_time": "2022-06-20T09:05:19.360Z"
   },
   {
    "duration": 4,
    "start_time": "2022-06-20T09:05:19.367Z"
   },
   {
    "duration": 5,
    "start_time": "2022-06-20T09:05:19.373Z"
   },
   {
    "duration": 6,
    "start_time": "2022-06-20T09:05:19.379Z"
   },
   {
    "duration": 8,
    "start_time": "2022-06-20T09:05:19.387Z"
   },
   {
    "duration": 357,
    "start_time": "2022-06-20T10:12:24.318Z"
   },
   {
    "duration": 74,
    "start_time": "2022-06-20T10:12:24.677Z"
   },
   {
    "duration": 22,
    "start_time": "2022-06-20T10:12:24.753Z"
   },
   {
    "duration": 30,
    "start_time": "2022-06-20T10:12:24.777Z"
   },
   {
    "duration": 25,
    "start_time": "2022-06-20T10:12:24.809Z"
   },
   {
    "duration": 62,
    "start_time": "2022-06-20T10:12:24.836Z"
   },
   {
    "duration": 0,
    "start_time": "2022-06-20T10:12:24.900Z"
   },
   {
    "duration": 0,
    "start_time": "2022-06-20T10:12:24.901Z"
   },
   {
    "duration": 0,
    "start_time": "2022-06-20T10:12:24.902Z"
   },
   {
    "duration": 0,
    "start_time": "2022-06-20T10:12:24.903Z"
   },
   {
    "duration": 0,
    "start_time": "2022-06-20T10:12:24.904Z"
   },
   {
    "duration": 0,
    "start_time": "2022-06-20T10:12:24.905Z"
   },
   {
    "duration": 0,
    "start_time": "2022-06-20T10:12:24.906Z"
   },
   {
    "duration": 0,
    "start_time": "2022-06-20T10:12:24.908Z"
   },
   {
    "duration": 0,
    "start_time": "2022-06-20T10:12:24.909Z"
   },
   {
    "duration": 0,
    "start_time": "2022-06-20T10:12:24.910Z"
   },
   {
    "duration": 0,
    "start_time": "2022-06-20T10:12:24.911Z"
   },
   {
    "duration": 0,
    "start_time": "2022-06-20T10:12:24.912Z"
   },
   {
    "duration": 0,
    "start_time": "2022-06-20T10:12:24.913Z"
   },
   {
    "duration": 0,
    "start_time": "2022-06-20T10:12:24.914Z"
   },
   {
    "duration": 0,
    "start_time": "2022-06-20T10:12:24.915Z"
   },
   {
    "duration": 0,
    "start_time": "2022-06-20T10:12:24.916Z"
   },
   {
    "duration": 424,
    "start_time": "2022-06-20T10:14:18.237Z"
   },
   {
    "duration": 75,
    "start_time": "2022-06-20T10:14:18.663Z"
   },
   {
    "duration": 24,
    "start_time": "2022-06-20T10:14:18.739Z"
   },
   {
    "duration": 20,
    "start_time": "2022-06-20T10:14:18.764Z"
   },
   {
    "duration": 10,
    "start_time": "2022-06-20T10:14:18.786Z"
   },
   {
    "duration": 95,
    "start_time": "2022-06-20T10:14:18.797Z"
   },
   {
    "duration": 0,
    "start_time": "2022-06-20T10:14:18.894Z"
   },
   {
    "duration": 0,
    "start_time": "2022-06-20T10:14:18.896Z"
   },
   {
    "duration": 0,
    "start_time": "2022-06-20T10:14:18.898Z"
   },
   {
    "duration": 0,
    "start_time": "2022-06-20T10:14:18.899Z"
   },
   {
    "duration": 0,
    "start_time": "2022-06-20T10:14:18.900Z"
   },
   {
    "duration": 0,
    "start_time": "2022-06-20T10:14:18.901Z"
   },
   {
    "duration": 0,
    "start_time": "2022-06-20T10:14:18.902Z"
   },
   {
    "duration": 0,
    "start_time": "2022-06-20T10:14:18.903Z"
   },
   {
    "duration": 0,
    "start_time": "2022-06-20T10:14:18.904Z"
   },
   {
    "duration": 0,
    "start_time": "2022-06-20T10:14:18.904Z"
   },
   {
    "duration": 0,
    "start_time": "2022-06-20T10:14:18.905Z"
   },
   {
    "duration": 0,
    "start_time": "2022-06-20T10:14:18.906Z"
   },
   {
    "duration": 0,
    "start_time": "2022-06-20T10:14:18.907Z"
   },
   {
    "duration": 0,
    "start_time": "2022-06-20T10:14:18.908Z"
   },
   {
    "duration": 0,
    "start_time": "2022-06-20T10:14:18.909Z"
   },
   {
    "duration": 0,
    "start_time": "2022-06-20T10:14:18.910Z"
   },
   {
    "duration": 349,
    "start_time": "2022-06-20T10:14:48.097Z"
   },
   {
    "duration": 74,
    "start_time": "2022-06-20T10:14:48.448Z"
   },
   {
    "duration": 20,
    "start_time": "2022-06-20T10:14:48.523Z"
   },
   {
    "duration": 28,
    "start_time": "2022-06-20T10:14:48.545Z"
   },
   {
    "duration": 32,
    "start_time": "2022-06-20T10:14:48.575Z"
   },
   {
    "duration": 70,
    "start_time": "2022-06-20T10:14:48.608Z"
   },
   {
    "duration": 0,
    "start_time": "2022-06-20T10:14:48.680Z"
   },
   {
    "duration": 0,
    "start_time": "2022-06-20T10:14:48.682Z"
   },
   {
    "duration": 0,
    "start_time": "2022-06-20T10:14:48.683Z"
   },
   {
    "duration": 0,
    "start_time": "2022-06-20T10:14:48.684Z"
   },
   {
    "duration": 0,
    "start_time": "2022-06-20T10:14:48.685Z"
   },
   {
    "duration": 0,
    "start_time": "2022-06-20T10:14:48.686Z"
   },
   {
    "duration": 0,
    "start_time": "2022-06-20T10:14:48.687Z"
   },
   {
    "duration": 0,
    "start_time": "2022-06-20T10:14:48.688Z"
   },
   {
    "duration": 0,
    "start_time": "2022-06-20T10:14:48.689Z"
   },
   {
    "duration": 0,
    "start_time": "2022-06-20T10:14:48.689Z"
   },
   {
    "duration": 0,
    "start_time": "2022-06-20T10:14:48.690Z"
   },
   {
    "duration": 0,
    "start_time": "2022-06-20T10:14:48.691Z"
   },
   {
    "duration": 0,
    "start_time": "2022-06-20T10:14:48.692Z"
   },
   {
    "duration": 0,
    "start_time": "2022-06-20T10:14:48.692Z"
   },
   {
    "duration": 0,
    "start_time": "2022-06-20T10:14:48.693Z"
   },
   {
    "duration": 0,
    "start_time": "2022-06-20T10:14:48.694Z"
   },
   {
    "duration": 519,
    "start_time": "2022-06-20T10:18:07.270Z"
   },
   {
    "duration": 69,
    "start_time": "2022-06-20T10:18:07.791Z"
   },
   {
    "duration": 20,
    "start_time": "2022-06-20T10:18:07.862Z"
   },
   {
    "duration": 30,
    "start_time": "2022-06-20T10:18:07.884Z"
   },
   {
    "duration": 10,
    "start_time": "2022-06-20T10:18:07.916Z"
   },
   {
    "duration": 30,
    "start_time": "2022-06-20T10:18:07.928Z"
   },
   {
    "duration": 2,
    "start_time": "2022-06-20T10:18:07.960Z"
   },
   {
    "duration": 15,
    "start_time": "2022-06-20T10:18:07.963Z"
   },
   {
    "duration": 11,
    "start_time": "2022-06-20T10:18:07.979Z"
   },
   {
    "duration": 23,
    "start_time": "2022-06-20T10:18:07.992Z"
   },
   {
    "duration": 14,
    "start_time": "2022-06-20T10:18:08.017Z"
   },
   {
    "duration": 14,
    "start_time": "2022-06-20T10:18:08.033Z"
   },
   {
    "duration": 20,
    "start_time": "2022-06-20T10:18:08.048Z"
   },
   {
    "duration": 10,
    "start_time": "2022-06-20T10:18:08.069Z"
   },
   {
    "duration": 25,
    "start_time": "2022-06-20T10:18:08.080Z"
   },
   {
    "duration": 26,
    "start_time": "2022-06-20T10:18:08.106Z"
   },
   {
    "duration": 19,
    "start_time": "2022-06-20T10:18:08.133Z"
   },
   {
    "duration": 20,
    "start_time": "2022-06-20T10:18:08.153Z"
   },
   {
    "duration": 16,
    "start_time": "2022-06-20T10:18:08.175Z"
   },
   {
    "duration": 9,
    "start_time": "2022-06-20T10:18:08.193Z"
   },
   {
    "duration": 15,
    "start_time": "2022-06-20T10:18:08.204Z"
   },
   {
    "duration": 10,
    "start_time": "2022-06-20T10:18:08.221Z"
   },
   {
    "duration": 19,
    "start_time": "2022-06-20T10:18:57.441Z"
   },
   {
    "duration": 3,
    "start_time": "2022-06-20T10:19:04.727Z"
   },
   {
    "duration": 417,
    "start_time": "2022-06-20T10:20:50.843Z"
   },
   {
    "duration": 74,
    "start_time": "2022-06-20T10:20:51.658Z"
   },
   {
    "duration": 22,
    "start_time": "2022-06-20T10:20:52.007Z"
   },
   {
    "duration": 14,
    "start_time": "2022-06-20T10:20:53.383Z"
   },
   {
    "duration": 376,
    "start_time": "2022-06-20T10:22:54.623Z"
   },
   {
    "duration": 77,
    "start_time": "2022-06-20T10:22:55.001Z"
   },
   {
    "duration": 22,
    "start_time": "2022-06-20T10:22:55.080Z"
   },
   {
    "duration": 20,
    "start_time": "2022-06-20T10:22:55.104Z"
   },
   {
    "duration": 16,
    "start_time": "2022-06-20T10:22:55.126Z"
   },
   {
    "duration": 41,
    "start_time": "2022-06-20T10:22:55.143Z"
   },
   {
    "duration": 23,
    "start_time": "2022-06-20T10:22:55.186Z"
   },
   {
    "duration": 26,
    "start_time": "2022-06-20T10:22:55.211Z"
   },
   {
    "duration": 22,
    "start_time": "2022-06-20T10:22:55.239Z"
   },
   {
    "duration": 28,
    "start_time": "2022-06-20T10:22:55.264Z"
   },
   {
    "duration": 5,
    "start_time": "2022-06-20T10:22:55.293Z"
   },
   {
    "duration": 6,
    "start_time": "2022-06-20T10:22:55.300Z"
   },
   {
    "duration": 6,
    "start_time": "2022-06-20T10:22:55.307Z"
   },
   {
    "duration": 7,
    "start_time": "2022-06-20T10:22:55.314Z"
   },
   {
    "duration": 7,
    "start_time": "2022-06-20T10:22:55.322Z"
   },
   {
    "duration": 5,
    "start_time": "2022-06-20T10:22:55.330Z"
   },
   {
    "duration": 8,
    "start_time": "2022-06-20T10:22:55.336Z"
   },
   {
    "duration": 5,
    "start_time": "2022-06-20T10:22:55.346Z"
   },
   {
    "duration": 7,
    "start_time": "2022-06-20T10:22:55.352Z"
   },
   {
    "duration": 7,
    "start_time": "2022-06-20T10:22:55.360Z"
   },
   {
    "duration": 4,
    "start_time": "2022-06-20T10:22:55.370Z"
   },
   {
    "duration": 10,
    "start_time": "2022-06-20T10:22:55.375Z"
   },
   {
    "duration": 23,
    "start_time": "2022-06-20T10:24:38.011Z"
   },
   {
    "duration": 72,
    "start_time": "2022-06-20T10:26:12.340Z"
   },
   {
    "duration": 21,
    "start_time": "2022-06-20T10:26:33.107Z"
   },
   {
    "duration": 22,
    "start_time": "2022-06-20T10:26:58.759Z"
   },
   {
    "duration": 22,
    "start_time": "2022-06-20T10:27:33.342Z"
   },
   {
    "duration": 21,
    "start_time": "2022-06-20T10:27:50.982Z"
   },
   {
    "duration": 19,
    "start_time": "2022-06-20T10:28:37.190Z"
   },
   {
    "duration": 22,
    "start_time": "2022-06-20T10:28:54.221Z"
   },
   {
    "duration": 15,
    "start_time": "2022-06-20T10:29:47.710Z"
   },
   {
    "duration": 14,
    "start_time": "2022-06-20T10:29:52.309Z"
   },
   {
    "duration": 12,
    "start_time": "2022-06-20T10:31:10.670Z"
   },
   {
    "duration": 342,
    "start_time": "2022-06-20T11:01:38.917Z"
   },
   {
    "duration": 71,
    "start_time": "2022-06-20T11:01:39.260Z"
   },
   {
    "duration": 19,
    "start_time": "2022-06-20T11:01:39.335Z"
   },
   {
    "duration": 24,
    "start_time": "2022-06-20T11:01:39.356Z"
   },
   {
    "duration": 14,
    "start_time": "2022-06-20T11:01:39.382Z"
   },
   {
    "duration": 21,
    "start_time": "2022-06-20T11:01:39.397Z"
   },
   {
    "duration": 20,
    "start_time": "2022-06-20T11:01:39.419Z"
   },
   {
    "duration": 15,
    "start_time": "2022-06-20T11:01:39.441Z"
   },
   {
    "duration": 7,
    "start_time": "2022-06-20T11:01:39.459Z"
   },
   {
    "duration": 7,
    "start_time": "2022-06-20T11:01:39.468Z"
   },
   {
    "duration": 12,
    "start_time": "2022-06-20T11:01:39.476Z"
   },
   {
    "duration": 4,
    "start_time": "2022-06-20T11:01:39.490Z"
   },
   {
    "duration": 18,
    "start_time": "2022-06-20T11:01:39.496Z"
   },
   {
    "duration": 13,
    "start_time": "2022-06-20T11:01:39.515Z"
   },
   {
    "duration": 13,
    "start_time": "2022-06-20T11:01:39.529Z"
   },
   {
    "duration": 9,
    "start_time": "2022-06-20T11:01:39.544Z"
   },
   {
    "duration": 11,
    "start_time": "2022-06-20T11:01:39.555Z"
   },
   {
    "duration": 23,
    "start_time": "2022-06-20T11:01:39.568Z"
   },
   {
    "duration": 11,
    "start_time": "2022-06-20T11:01:39.593Z"
   },
   {
    "duration": 13,
    "start_time": "2022-06-20T11:01:39.606Z"
   },
   {
    "duration": 11,
    "start_time": "2022-06-20T11:01:39.620Z"
   },
   {
    "duration": 22,
    "start_time": "2022-06-20T11:01:39.632Z"
   },
   {
    "duration": 3,
    "start_time": "2022-06-20T11:02:43.046Z"
   },
   {
    "duration": 363,
    "start_time": "2022-06-20T11:03:00.721Z"
   },
   {
    "duration": 75,
    "start_time": "2022-06-20T11:03:01.085Z"
   },
   {
    "duration": 20,
    "start_time": "2022-06-20T11:03:01.161Z"
   },
   {
    "duration": 50,
    "start_time": "2022-06-20T11:03:01.183Z"
   },
   {
    "duration": 20,
    "start_time": "2022-06-20T11:03:01.235Z"
   },
   {
    "duration": 43,
    "start_time": "2022-06-20T11:03:01.257Z"
   },
   {
    "duration": 7,
    "start_time": "2022-06-20T11:03:01.301Z"
   },
   {
    "duration": 70,
    "start_time": "2022-06-20T11:03:01.310Z"
   },
   {
    "duration": 69,
    "start_time": "2022-06-20T11:03:01.381Z"
   },
   {
    "duration": 63,
    "start_time": "2022-06-20T11:03:01.452Z"
   },
   {
    "duration": 14,
    "start_time": "2022-06-20T11:03:01.517Z"
   },
   {
    "duration": 10,
    "start_time": "2022-06-20T11:03:01.532Z"
   },
   {
    "duration": 6,
    "start_time": "2022-06-20T11:03:01.544Z"
   },
   {
    "duration": 14,
    "start_time": "2022-06-20T11:03:01.553Z"
   },
   {
    "duration": 10,
    "start_time": "2022-06-20T11:03:01.569Z"
   },
   {
    "duration": 9,
    "start_time": "2022-06-20T11:03:01.580Z"
   },
   {
    "duration": 5,
    "start_time": "2022-06-20T11:03:01.590Z"
   },
   {
    "duration": 7,
    "start_time": "2022-06-20T11:03:01.597Z"
   },
   {
    "duration": 12,
    "start_time": "2022-06-20T11:03:01.605Z"
   },
   {
    "duration": 13,
    "start_time": "2022-06-20T11:03:01.618Z"
   },
   {
    "duration": 10,
    "start_time": "2022-06-20T11:03:01.632Z"
   },
   {
    "duration": 12,
    "start_time": "2022-06-20T11:03:01.643Z"
   },
   {
    "duration": 419,
    "start_time": "2022-06-20T11:14:34.740Z"
   },
   {
    "duration": 70,
    "start_time": "2022-06-20T11:14:35.161Z"
   },
   {
    "duration": 22,
    "start_time": "2022-06-20T11:14:35.232Z"
   },
   {
    "duration": 18,
    "start_time": "2022-06-20T11:14:35.256Z"
   },
   {
    "duration": 10,
    "start_time": "2022-06-20T11:14:35.276Z"
   },
   {
    "duration": 14,
    "start_time": "2022-06-20T11:14:35.287Z"
   },
   {
    "duration": 78,
    "start_time": "2022-06-20T11:14:35.303Z"
   },
   {
    "duration": 0,
    "start_time": "2022-06-20T11:14:35.382Z"
   },
   {
    "duration": 0,
    "start_time": "2022-06-20T11:14:35.383Z"
   },
   {
    "duration": 0,
    "start_time": "2022-06-20T11:14:35.384Z"
   },
   {
    "duration": 0,
    "start_time": "2022-06-20T11:14:35.387Z"
   },
   {
    "duration": 0,
    "start_time": "2022-06-20T11:14:35.387Z"
   },
   {
    "duration": 0,
    "start_time": "2022-06-20T11:14:35.388Z"
   },
   {
    "duration": 0,
    "start_time": "2022-06-20T11:14:35.389Z"
   },
   {
    "duration": 0,
    "start_time": "2022-06-20T11:14:35.390Z"
   },
   {
    "duration": 0,
    "start_time": "2022-06-20T11:14:35.391Z"
   },
   {
    "duration": 0,
    "start_time": "2022-06-20T11:14:35.392Z"
   },
   {
    "duration": 0,
    "start_time": "2022-06-20T11:14:35.393Z"
   },
   {
    "duration": 0,
    "start_time": "2022-06-20T11:14:35.394Z"
   },
   {
    "duration": 0,
    "start_time": "2022-06-20T11:14:35.395Z"
   },
   {
    "duration": 0,
    "start_time": "2022-06-20T11:14:35.396Z"
   },
   {
    "duration": 0,
    "start_time": "2022-06-20T11:14:35.397Z"
   },
   {
    "duration": 49,
    "start_time": "2022-06-20T11:15:25.718Z"
   },
   {
    "duration": 401,
    "start_time": "2022-06-20T11:16:56.875Z"
   },
   {
    "duration": 73,
    "start_time": "2022-06-20T11:16:57.278Z"
   },
   {
    "duration": 29,
    "start_time": "2022-06-20T11:16:57.353Z"
   },
   {
    "duration": 18,
    "start_time": "2022-06-20T11:16:57.384Z"
   },
   {
    "duration": 10,
    "start_time": "2022-06-20T11:16:57.404Z"
   },
   {
    "duration": 19,
    "start_time": "2022-06-20T11:16:57.416Z"
   },
   {
    "duration": 5,
    "start_time": "2022-06-20T11:16:57.437Z"
   },
   {
    "duration": 9,
    "start_time": "2022-06-20T11:16:57.470Z"
   },
   {
    "duration": 2,
    "start_time": "2022-06-20T11:16:57.481Z"
   },
   {
    "duration": 11,
    "start_time": "2022-06-20T11:16:57.488Z"
   },
   {
    "duration": 25,
    "start_time": "2022-06-20T11:16:57.501Z"
   },
   {
    "duration": 11,
    "start_time": "2022-06-20T11:16:57.528Z"
   },
   {
    "duration": 6,
    "start_time": "2022-06-20T11:16:57.541Z"
   },
   {
    "duration": 7,
    "start_time": "2022-06-20T11:16:57.551Z"
   },
   {
    "duration": 22,
    "start_time": "2022-06-20T11:16:57.561Z"
   },
   {
    "duration": 22,
    "start_time": "2022-06-20T11:16:57.585Z"
   },
   {
    "duration": 10,
    "start_time": "2022-06-20T11:16:57.610Z"
   },
   {
    "duration": 11,
    "start_time": "2022-06-20T11:16:57.624Z"
   },
   {
    "duration": 10,
    "start_time": "2022-06-20T11:16:57.637Z"
   },
   {
    "duration": 16,
    "start_time": "2022-06-20T11:16:57.649Z"
   },
   {
    "duration": 5,
    "start_time": "2022-06-20T11:16:57.667Z"
   },
   {
    "duration": 17,
    "start_time": "2022-06-20T11:16:57.676Z"
   },
   {
    "duration": 393,
    "start_time": "2022-06-20T12:12:22.789Z"
   },
   {
    "duration": 76,
    "start_time": "2022-06-20T12:12:23.184Z"
   },
   {
    "duration": 28,
    "start_time": "2022-06-20T12:12:23.265Z"
   },
   {
    "duration": 18,
    "start_time": "2022-06-20T12:12:23.295Z"
   },
   {
    "duration": 9,
    "start_time": "2022-06-20T12:12:23.314Z"
   },
   {
    "duration": 35,
    "start_time": "2022-06-20T12:12:23.324Z"
   },
   {
    "duration": 6,
    "start_time": "2022-06-20T12:12:23.360Z"
   },
   {
    "duration": 24,
    "start_time": "2022-06-20T12:12:23.367Z"
   },
   {
    "duration": 5,
    "start_time": "2022-06-20T12:12:23.392Z"
   },
   {
    "duration": 45,
    "start_time": "2022-06-20T12:12:23.399Z"
   },
   {
    "duration": 24,
    "start_time": "2022-06-20T12:12:23.446Z"
   },
   {
    "duration": 21,
    "start_time": "2022-06-20T12:12:23.472Z"
   },
   {
    "duration": 24,
    "start_time": "2022-06-20T12:12:23.496Z"
   },
   {
    "duration": 18,
    "start_time": "2022-06-20T12:12:23.521Z"
   },
   {
    "duration": 12,
    "start_time": "2022-06-20T12:12:23.540Z"
   },
   {
    "duration": 18,
    "start_time": "2022-06-20T12:12:23.554Z"
   },
   {
    "duration": 19,
    "start_time": "2022-06-20T12:12:23.574Z"
   },
   {
    "duration": 20,
    "start_time": "2022-06-20T12:12:23.595Z"
   },
   {
    "duration": 15,
    "start_time": "2022-06-20T12:12:23.617Z"
   },
   {
    "duration": 11,
    "start_time": "2022-06-20T12:12:23.633Z"
   },
   {
    "duration": 10,
    "start_time": "2022-06-20T12:12:23.646Z"
   },
   {
    "duration": 6,
    "start_time": "2022-06-20T12:12:23.657Z"
   },
   {
    "duration": 440,
    "start_time": "2022-06-20T12:20:27.248Z"
   },
   {
    "duration": 86,
    "start_time": "2022-06-20T12:20:27.690Z"
   },
   {
    "duration": 21,
    "start_time": "2022-06-20T12:20:27.780Z"
   },
   {
    "duration": 20,
    "start_time": "2022-06-20T12:20:27.804Z"
   },
   {
    "duration": 11,
    "start_time": "2022-06-20T12:20:27.825Z"
   },
   {
    "duration": 33,
    "start_time": "2022-06-20T12:20:27.837Z"
   },
   {
    "duration": 8,
    "start_time": "2022-06-20T12:20:27.873Z"
   },
   {
    "duration": 10,
    "start_time": "2022-06-20T12:20:27.882Z"
   },
   {
    "duration": 2,
    "start_time": "2022-06-20T12:20:27.894Z"
   },
   {
    "duration": 9,
    "start_time": "2022-06-20T12:20:27.898Z"
   },
   {
    "duration": 6,
    "start_time": "2022-06-20T12:20:27.909Z"
   },
   {
    "duration": 5,
    "start_time": "2022-06-20T12:20:27.916Z"
   },
   {
    "duration": 8,
    "start_time": "2022-06-20T12:20:27.923Z"
   },
   {
    "duration": 9,
    "start_time": "2022-06-20T12:20:27.932Z"
   },
   {
    "duration": 16,
    "start_time": "2022-06-20T12:20:27.942Z"
   },
   {
    "duration": 3,
    "start_time": "2022-06-20T12:20:27.959Z"
   },
   {
    "duration": 19,
    "start_time": "2022-06-20T12:20:27.963Z"
   },
   {
    "duration": 8,
    "start_time": "2022-06-20T12:20:27.984Z"
   },
   {
    "duration": 5,
    "start_time": "2022-06-20T12:20:27.993Z"
   },
   {
    "duration": 5,
    "start_time": "2022-06-20T12:20:27.999Z"
   },
   {
    "duration": 5,
    "start_time": "2022-06-20T12:20:28.005Z"
   },
   {
    "duration": 6,
    "start_time": "2022-06-20T12:20:28.011Z"
   },
   {
    "duration": 7,
    "start_time": "2022-06-20T12:32:29.098Z"
   },
   {
    "duration": 422,
    "start_time": "2022-06-20T12:32:33.556Z"
   },
   {
    "duration": 82,
    "start_time": "2022-06-20T12:32:33.985Z"
   },
   {
    "duration": 25,
    "start_time": "2022-06-20T12:32:34.073Z"
   },
   {
    "duration": 18,
    "start_time": "2022-06-20T12:32:34.100Z"
   },
   {
    "duration": 9,
    "start_time": "2022-06-20T12:32:34.119Z"
   },
   {
    "duration": 12,
    "start_time": "2022-06-20T12:32:34.130Z"
   },
   {
    "duration": 29,
    "start_time": "2022-06-20T12:32:34.143Z"
   },
   {
    "duration": 11,
    "start_time": "2022-06-20T12:32:34.178Z"
   },
   {
    "duration": 2,
    "start_time": "2022-06-20T12:32:34.190Z"
   },
   {
    "duration": 3,
    "start_time": "2022-06-20T12:32:34.195Z"
   },
   {
    "duration": 6,
    "start_time": "2022-06-20T12:32:34.200Z"
   },
   {
    "duration": 5,
    "start_time": "2022-06-20T12:32:34.208Z"
   },
   {
    "duration": 5,
    "start_time": "2022-06-20T12:32:34.214Z"
   },
   {
    "duration": 5,
    "start_time": "2022-06-20T12:32:34.220Z"
   },
   {
    "duration": 5,
    "start_time": "2022-06-20T12:32:34.226Z"
   },
   {
    "duration": 4,
    "start_time": "2022-06-20T12:32:34.232Z"
   },
   {
    "duration": 6,
    "start_time": "2022-06-20T12:32:34.238Z"
   },
   {
    "duration": 31,
    "start_time": "2022-06-20T12:32:34.245Z"
   },
   {
    "duration": 15,
    "start_time": "2022-06-20T12:32:34.277Z"
   },
   {
    "duration": 4,
    "start_time": "2022-06-20T12:32:34.294Z"
   },
   {
    "duration": 5,
    "start_time": "2022-06-20T12:32:34.300Z"
   },
   {
    "duration": 5,
    "start_time": "2022-06-20T12:32:34.306Z"
   },
   {
    "duration": 6,
    "start_time": "2022-06-20T12:33:05.439Z"
   },
   {
    "duration": 6,
    "start_time": "2022-06-20T12:33:16.252Z"
   },
   {
    "duration": 6,
    "start_time": "2022-06-20T12:33:25.043Z"
   },
   {
    "duration": 17,
    "start_time": "2022-06-20T12:33:56.355Z"
   },
   {
    "duration": 8,
    "start_time": "2022-06-20T12:34:14.388Z"
   },
   {
    "duration": 8,
    "start_time": "2022-06-20T12:34:20.440Z"
   },
   {
    "duration": 14,
    "start_time": "2022-06-20T12:34:28.227Z"
   },
   {
    "duration": 22,
    "start_time": "2022-06-20T12:34:50.023Z"
   },
   {
    "duration": 6,
    "start_time": "2022-06-20T12:35:42.022Z"
   },
   {
    "duration": 85,
    "start_time": "2022-06-20T12:35:45.438Z"
   },
   {
    "duration": 8,
    "start_time": "2022-06-20T12:36:30.731Z"
   },
   {
    "duration": 11,
    "start_time": "2022-06-20T12:36:37.065Z"
   },
   {
    "duration": 9,
    "start_time": "2022-06-20T12:36:43.301Z"
   },
   {
    "duration": 13,
    "start_time": "2022-06-20T12:36:48.791Z"
   },
   {
    "duration": 7,
    "start_time": "2022-06-20T12:36:52.145Z"
   },
   {
    "duration": 398,
    "start_time": "2022-06-20T12:36:56.723Z"
   },
   {
    "duration": 94,
    "start_time": "2022-06-20T12:36:57.123Z"
   },
   {
    "duration": 23,
    "start_time": "2022-06-20T12:36:57.222Z"
   },
   {
    "duration": 21,
    "start_time": "2022-06-20T12:36:57.264Z"
   },
   {
    "duration": 32,
    "start_time": "2022-06-20T12:36:57.287Z"
   },
   {
    "duration": 36,
    "start_time": "2022-06-20T12:36:57.321Z"
   },
   {
    "duration": 43,
    "start_time": "2022-06-20T12:36:57.358Z"
   },
   {
    "duration": 16,
    "start_time": "2022-06-20T12:36:57.403Z"
   },
   {
    "duration": 12,
    "start_time": "2022-06-20T12:36:57.422Z"
   },
   {
    "duration": 12,
    "start_time": "2022-06-20T12:36:57.436Z"
   },
   {
    "duration": 38,
    "start_time": "2022-06-20T12:36:57.450Z"
   },
   {
    "duration": 9,
    "start_time": "2022-06-20T12:36:57.490Z"
   },
   {
    "duration": 11,
    "start_time": "2022-06-20T12:36:57.501Z"
   },
   {
    "duration": 8,
    "start_time": "2022-06-20T12:36:57.514Z"
   },
   {
    "duration": 13,
    "start_time": "2022-06-20T12:36:57.523Z"
   },
   {
    "duration": 7,
    "start_time": "2022-06-20T12:36:57.538Z"
   },
   {
    "duration": 15,
    "start_time": "2022-06-20T12:36:57.547Z"
   },
   {
    "duration": 27,
    "start_time": "2022-06-20T12:36:57.563Z"
   },
   {
    "duration": 5,
    "start_time": "2022-06-20T12:36:57.591Z"
   },
   {
    "duration": 5,
    "start_time": "2022-06-20T12:36:57.597Z"
   },
   {
    "duration": 5,
    "start_time": "2022-06-20T12:36:57.603Z"
   },
   {
    "duration": 5,
    "start_time": "2022-06-20T12:36:57.609Z"
   },
   {
    "duration": 14,
    "start_time": "2022-06-20T12:38:10.955Z"
   },
   {
    "duration": 74,
    "start_time": "2022-06-20T12:38:15.110Z"
   },
   {
    "duration": 9,
    "start_time": "2022-06-20T12:38:21.118Z"
   },
   {
    "duration": 391,
    "start_time": "2022-06-20T12:38:32.135Z"
   },
   {
    "duration": 79,
    "start_time": "2022-06-20T12:38:32.529Z"
   },
   {
    "duration": 21,
    "start_time": "2022-06-20T12:38:32.610Z"
   },
   {
    "duration": 33,
    "start_time": "2022-06-20T12:38:32.633Z"
   },
   {
    "duration": 33,
    "start_time": "2022-06-20T12:38:32.668Z"
   },
   {
    "duration": 28,
    "start_time": "2022-06-20T12:38:32.702Z"
   },
   {
    "duration": 15,
    "start_time": "2022-06-20T12:38:32.731Z"
   },
   {
    "duration": 43,
    "start_time": "2022-06-20T12:38:32.748Z"
   },
   {
    "duration": 28,
    "start_time": "2022-06-20T12:38:32.793Z"
   },
   {
    "duration": 32,
    "start_time": "2022-06-20T12:38:32.824Z"
   },
   {
    "duration": 35,
    "start_time": "2022-06-20T12:38:32.858Z"
   },
   {
    "duration": 38,
    "start_time": "2022-06-20T12:38:32.895Z"
   },
   {
    "duration": 46,
    "start_time": "2022-06-20T12:38:32.935Z"
   },
   {
    "duration": 33,
    "start_time": "2022-06-20T12:38:32.983Z"
   },
   {
    "duration": 40,
    "start_time": "2022-06-20T12:38:33.018Z"
   },
   {
    "duration": 49,
    "start_time": "2022-06-20T12:38:33.065Z"
   },
   {
    "duration": 22,
    "start_time": "2022-06-20T12:38:33.115Z"
   },
   {
    "duration": 17,
    "start_time": "2022-06-20T12:38:33.139Z"
   },
   {
    "duration": 37,
    "start_time": "2022-06-20T12:38:33.157Z"
   },
   {
    "duration": 25,
    "start_time": "2022-06-20T12:38:33.196Z"
   },
   {
    "duration": 28,
    "start_time": "2022-06-20T12:38:33.222Z"
   },
   {
    "duration": 36,
    "start_time": "2022-06-20T12:38:33.252Z"
   },
   {
    "duration": 6,
    "start_time": "2022-06-20T12:38:44.383Z"
   },
   {
    "duration": 6,
    "start_time": "2022-06-20T12:39:14.393Z"
   },
   {
    "duration": 8,
    "start_time": "2022-06-20T12:39:23.862Z"
   },
   {
    "duration": 4,
    "start_time": "2022-06-20T12:46:20.775Z"
   },
   {
    "duration": 3,
    "start_time": "2022-06-20T12:46:29.087Z"
   },
   {
    "duration": 473,
    "start_time": "2022-06-20T12:46:35.145Z"
   },
   {
    "duration": 92,
    "start_time": "2022-06-20T12:46:35.620Z"
   },
   {
    "duration": 21,
    "start_time": "2022-06-20T12:46:35.714Z"
   },
   {
    "duration": 14,
    "start_time": "2022-06-20T12:46:35.737Z"
   },
   {
    "duration": 16,
    "start_time": "2022-06-20T12:46:35.771Z"
   },
   {
    "duration": 15,
    "start_time": "2022-06-20T12:46:35.789Z"
   },
   {
    "duration": 4,
    "start_time": "2022-06-20T12:46:35.805Z"
   },
   {
    "duration": 21,
    "start_time": "2022-06-20T12:46:35.810Z"
   },
   {
    "duration": 3,
    "start_time": "2022-06-20T12:46:35.833Z"
   },
   {
    "duration": 7,
    "start_time": "2022-06-20T12:46:35.838Z"
   },
   {
    "duration": 15,
    "start_time": "2022-06-20T12:46:35.847Z"
   },
   {
    "duration": 14,
    "start_time": "2022-06-20T12:46:35.865Z"
   },
   {
    "duration": 7,
    "start_time": "2022-06-20T12:46:35.882Z"
   },
   {
    "duration": 6,
    "start_time": "2022-06-20T12:46:35.891Z"
   },
   {
    "duration": 8,
    "start_time": "2022-06-20T12:46:35.898Z"
   },
   {
    "duration": 7,
    "start_time": "2022-06-20T12:46:35.908Z"
   },
   {
    "duration": 11,
    "start_time": "2022-06-20T12:46:35.917Z"
   },
   {
    "duration": 9,
    "start_time": "2022-06-20T12:46:35.929Z"
   },
   {
    "duration": 7,
    "start_time": "2022-06-20T12:46:35.939Z"
   },
   {
    "duration": 10,
    "start_time": "2022-06-20T12:46:35.947Z"
   },
   {
    "duration": 20,
    "start_time": "2022-06-20T12:46:35.958Z"
   },
   {
    "duration": 5,
    "start_time": "2022-06-20T12:46:35.980Z"
   },
   {
    "duration": 370,
    "start_time": "2022-06-20T13:01:11.309Z"
   },
   {
    "duration": 81,
    "start_time": "2022-06-20T13:01:11.681Z"
   },
   {
    "duration": 25,
    "start_time": "2022-06-20T13:01:11.764Z"
   },
   {
    "duration": 16,
    "start_time": "2022-06-20T13:01:11.791Z"
   },
   {
    "duration": 10,
    "start_time": "2022-06-20T13:01:11.810Z"
   },
   {
    "duration": 14,
    "start_time": "2022-06-20T13:01:11.822Z"
   },
   {
    "duration": 30,
    "start_time": "2022-06-20T13:01:11.837Z"
   },
   {
    "duration": 22,
    "start_time": "2022-06-20T13:01:11.868Z"
   },
   {
    "duration": 4,
    "start_time": "2022-06-20T13:01:11.892Z"
   },
   {
    "duration": 4,
    "start_time": "2022-06-20T13:01:11.898Z"
   },
   {
    "duration": 4,
    "start_time": "2022-06-20T13:01:11.904Z"
   },
   {
    "duration": 6,
    "start_time": "2022-06-20T13:01:11.910Z"
   },
   {
    "duration": 8,
    "start_time": "2022-06-20T13:01:11.917Z"
   },
   {
    "duration": 4,
    "start_time": "2022-06-20T13:01:11.928Z"
   },
   {
    "duration": 5,
    "start_time": "2022-06-20T13:01:11.933Z"
   },
   {
    "duration": 5,
    "start_time": "2022-06-20T13:01:11.940Z"
   },
   {
    "duration": 16,
    "start_time": "2022-06-20T13:01:11.946Z"
   },
   {
    "duration": 15,
    "start_time": "2022-06-20T13:01:11.964Z"
   },
   {
    "duration": 5,
    "start_time": "2022-06-20T13:01:11.980Z"
   },
   {
    "duration": 5,
    "start_time": "2022-06-20T13:01:11.987Z"
   },
   {
    "duration": 6,
    "start_time": "2022-06-20T13:01:11.993Z"
   },
   {
    "duration": 8,
    "start_time": "2022-06-20T13:01:12.000Z"
   },
   {
    "duration": 74,
    "start_time": "2022-06-20T13:20:17.719Z"
   },
   {
    "duration": 382,
    "start_time": "2022-06-20T13:20:27.099Z"
   },
   {
    "duration": 87,
    "start_time": "2022-06-20T13:20:27.483Z"
   },
   {
    "duration": 25,
    "start_time": "2022-06-20T13:20:27.580Z"
   },
   {
    "duration": 17,
    "start_time": "2022-06-20T13:20:27.607Z"
   },
   {
    "duration": 21,
    "start_time": "2022-06-20T13:20:27.627Z"
   },
   {
    "duration": 24,
    "start_time": "2022-06-20T13:20:27.651Z"
   },
   {
    "duration": 16,
    "start_time": "2022-06-20T13:20:27.677Z"
   },
   {
    "duration": 17,
    "start_time": "2022-06-20T13:20:27.695Z"
   },
   {
    "duration": 9,
    "start_time": "2022-06-20T13:20:27.714Z"
   },
   {
    "duration": 97,
    "start_time": "2022-06-20T13:20:27.725Z"
   },
   {
    "duration": 0,
    "start_time": "2022-06-20T13:20:27.825Z"
   },
   {
    "duration": 0,
    "start_time": "2022-06-20T13:20:27.829Z"
   },
   {
    "duration": 0,
    "start_time": "2022-06-20T13:20:27.830Z"
   },
   {
    "duration": 0,
    "start_time": "2022-06-20T13:20:27.832Z"
   },
   {
    "duration": 0,
    "start_time": "2022-06-20T13:20:27.833Z"
   },
   {
    "duration": 0,
    "start_time": "2022-06-20T13:20:27.834Z"
   },
   {
    "duration": 0,
    "start_time": "2022-06-20T13:20:27.836Z"
   },
   {
    "duration": 0,
    "start_time": "2022-06-20T13:20:27.838Z"
   },
   {
    "duration": 0,
    "start_time": "2022-06-20T13:20:27.839Z"
   },
   {
    "duration": 0,
    "start_time": "2022-06-20T13:20:27.840Z"
   },
   {
    "duration": 0,
    "start_time": "2022-06-20T13:20:27.863Z"
   },
   {
    "duration": 0,
    "start_time": "2022-06-20T13:20:27.865Z"
   },
   {
    "duration": 359,
    "start_time": "2022-06-20T13:23:40.421Z"
   },
   {
    "duration": 73,
    "start_time": "2022-06-20T13:23:40.782Z"
   },
   {
    "duration": 25,
    "start_time": "2022-06-20T13:23:40.857Z"
   },
   {
    "duration": 14,
    "start_time": "2022-06-20T13:23:40.883Z"
   },
   {
    "duration": 8,
    "start_time": "2022-06-20T13:23:40.899Z"
   },
   {
    "duration": 13,
    "start_time": "2022-06-20T13:23:40.909Z"
   },
   {
    "duration": 3,
    "start_time": "2022-06-20T13:23:40.923Z"
   },
   {
    "duration": 35,
    "start_time": "2022-06-20T13:23:40.928Z"
   },
   {
    "duration": 5,
    "start_time": "2022-06-20T13:23:40.972Z"
   },
   {
    "duration": 30,
    "start_time": "2022-06-20T13:23:40.978Z"
   },
   {
    "duration": 2,
    "start_time": "2022-06-20T13:23:41.009Z"
   },
   {
    "duration": 4,
    "start_time": "2022-06-20T13:23:41.013Z"
   },
   {
    "duration": 7,
    "start_time": "2022-06-20T13:23:41.019Z"
   },
   {
    "duration": 4,
    "start_time": "2022-06-20T13:23:41.028Z"
   },
   {
    "duration": 6,
    "start_time": "2022-06-20T13:23:41.033Z"
   },
   {
    "duration": 12,
    "start_time": "2022-06-20T13:23:41.040Z"
   },
   {
    "duration": 7,
    "start_time": "2022-06-20T13:23:41.053Z"
   },
   {
    "duration": 9,
    "start_time": "2022-06-20T13:23:41.066Z"
   },
   {
    "duration": 6,
    "start_time": "2022-06-20T13:23:41.077Z"
   },
   {
    "duration": 6,
    "start_time": "2022-06-20T13:23:41.085Z"
   },
   {
    "duration": 11,
    "start_time": "2022-06-20T13:23:41.093Z"
   },
   {
    "duration": 5,
    "start_time": "2022-06-20T13:23:41.105Z"
   },
   {
    "duration": 368,
    "start_time": "2022-06-20T13:25:22.119Z"
   },
   {
    "duration": 71,
    "start_time": "2022-06-20T13:25:22.489Z"
   },
   {
    "duration": 20,
    "start_time": "2022-06-20T13:25:22.562Z"
   },
   {
    "duration": 14,
    "start_time": "2022-06-20T13:25:22.584Z"
   },
   {
    "duration": 9,
    "start_time": "2022-06-20T13:25:22.599Z"
   },
   {
    "duration": 13,
    "start_time": "2022-06-20T13:25:22.610Z"
   },
   {
    "duration": 3,
    "start_time": "2022-06-20T13:25:22.624Z"
   },
   {
    "duration": 35,
    "start_time": "2022-06-20T13:25:22.629Z"
   },
   {
    "duration": 5,
    "start_time": "2022-06-20T13:25:22.665Z"
   },
   {
    "duration": 14,
    "start_time": "2022-06-20T13:25:22.672Z"
   },
   {
    "duration": 3,
    "start_time": "2022-06-20T13:25:22.687Z"
   },
   {
    "duration": 5,
    "start_time": "2022-06-20T13:25:22.691Z"
   },
   {
    "duration": 7,
    "start_time": "2022-06-20T13:25:22.697Z"
   },
   {
    "duration": 7,
    "start_time": "2022-06-20T13:25:22.706Z"
   },
   {
    "duration": 5,
    "start_time": "2022-06-20T13:25:22.715Z"
   },
   {
    "duration": 4,
    "start_time": "2022-06-20T13:25:22.722Z"
   },
   {
    "duration": 10,
    "start_time": "2022-06-20T13:25:22.727Z"
   },
   {
    "duration": 23,
    "start_time": "2022-06-20T13:25:22.739Z"
   },
   {
    "duration": 8,
    "start_time": "2022-06-20T13:25:22.763Z"
   },
   {
    "duration": 7,
    "start_time": "2022-06-20T13:25:22.772Z"
   },
   {
    "duration": 5,
    "start_time": "2022-06-20T13:25:22.781Z"
   },
   {
    "duration": 6,
    "start_time": "2022-06-20T13:25:22.787Z"
   },
   {
    "duration": 8,
    "start_time": "2022-06-20T13:25:43.701Z"
   },
   {
    "duration": 412,
    "start_time": "2022-06-20T13:29:31.556Z"
   },
   {
    "duration": 76,
    "start_time": "2022-06-20T13:29:31.971Z"
   },
   {
    "duration": 26,
    "start_time": "2022-06-20T13:29:32.049Z"
   },
   {
    "duration": 28,
    "start_time": "2022-06-20T13:29:32.078Z"
   },
   {
    "duration": 13,
    "start_time": "2022-06-20T13:29:32.108Z"
   },
   {
    "duration": 17,
    "start_time": "2022-06-20T13:29:32.122Z"
   },
   {
    "duration": 3,
    "start_time": "2022-06-20T13:29:32.141Z"
   },
   {
    "duration": 19,
    "start_time": "2022-06-20T13:29:32.145Z"
   },
   {
    "duration": 21,
    "start_time": "2022-06-20T13:29:32.165Z"
   },
   {
    "duration": 63,
    "start_time": "2022-06-20T13:29:32.188Z"
   },
   {
    "duration": 0,
    "start_time": "2022-06-20T13:29:32.252Z"
   },
   {
    "duration": 0,
    "start_time": "2022-06-20T13:29:32.254Z"
   },
   {
    "duration": 0,
    "start_time": "2022-06-20T13:29:32.255Z"
   },
   {
    "duration": 0,
    "start_time": "2022-06-20T13:29:32.256Z"
   },
   {
    "duration": 0,
    "start_time": "2022-06-20T13:29:32.257Z"
   },
   {
    "duration": 0,
    "start_time": "2022-06-20T13:29:32.259Z"
   },
   {
    "duration": 0,
    "start_time": "2022-06-20T13:29:32.262Z"
   },
   {
    "duration": 0,
    "start_time": "2022-06-20T13:29:32.263Z"
   },
   {
    "duration": 0,
    "start_time": "2022-06-20T13:29:32.264Z"
   },
   {
    "duration": 0,
    "start_time": "2022-06-20T13:29:32.264Z"
   },
   {
    "duration": 0,
    "start_time": "2022-06-20T13:29:32.265Z"
   },
   {
    "duration": 0,
    "start_time": "2022-06-20T13:29:32.265Z"
   },
   {
    "duration": 395,
    "start_time": "2022-06-20T13:29:49.373Z"
   },
   {
    "duration": 74,
    "start_time": "2022-06-20T13:29:49.770Z"
   },
   {
    "duration": 25,
    "start_time": "2022-06-20T13:29:49.846Z"
   },
   {
    "duration": 19,
    "start_time": "2022-06-20T13:29:49.872Z"
   },
   {
    "duration": 8,
    "start_time": "2022-06-20T13:29:49.893Z"
   },
   {
    "duration": 13,
    "start_time": "2022-06-20T13:29:49.903Z"
   },
   {
    "duration": 3,
    "start_time": "2022-06-20T13:29:49.918Z"
   },
   {
    "duration": 10,
    "start_time": "2022-06-20T13:29:49.922Z"
   },
   {
    "duration": 26,
    "start_time": "2022-06-20T13:29:49.934Z"
   },
   {
    "duration": 78,
    "start_time": "2022-06-20T13:29:49.962Z"
   },
   {
    "duration": 0,
    "start_time": "2022-06-20T13:29:50.042Z"
   },
   {
    "duration": 0,
    "start_time": "2022-06-20T13:29:50.043Z"
   },
   {
    "duration": 0,
    "start_time": "2022-06-20T13:29:50.044Z"
   },
   {
    "duration": 0,
    "start_time": "2022-06-20T13:29:50.045Z"
   },
   {
    "duration": 0,
    "start_time": "2022-06-20T13:29:50.046Z"
   },
   {
    "duration": 0,
    "start_time": "2022-06-20T13:29:50.047Z"
   },
   {
    "duration": 0,
    "start_time": "2022-06-20T13:29:50.048Z"
   },
   {
    "duration": 0,
    "start_time": "2022-06-20T13:29:50.058Z"
   },
   {
    "duration": 0,
    "start_time": "2022-06-20T13:29:50.059Z"
   },
   {
    "duration": 0,
    "start_time": "2022-06-20T13:29:50.063Z"
   },
   {
    "duration": 0,
    "start_time": "2022-06-20T13:29:50.064Z"
   },
   {
    "duration": 0,
    "start_time": "2022-06-20T13:29:50.064Z"
   },
   {
    "duration": 4,
    "start_time": "2022-06-20T13:31:33.119Z"
   },
   {
    "duration": 13,
    "start_time": "2022-06-20T13:32:23.027Z"
   },
   {
    "duration": 9,
    "start_time": "2022-06-20T13:33:21.920Z"
   },
   {
    "duration": 17,
    "start_time": "2022-06-20T13:34:55.551Z"
   },
   {
    "duration": 2,
    "start_time": "2022-06-20T13:34:58.547Z"
   },
   {
    "duration": 6,
    "start_time": "2022-06-20T13:36:23.306Z"
   },
   {
    "duration": 9,
    "start_time": "2022-06-20T13:36:35.133Z"
   },
   {
    "duration": 12,
    "start_time": "2022-06-20T13:36:49.406Z"
   },
   {
    "duration": 17,
    "start_time": "2022-06-20T13:38:34.353Z"
   },
   {
    "duration": 7,
    "start_time": "2022-06-20T13:39:58.317Z"
   },
   {
    "duration": 11,
    "start_time": "2022-06-20T13:44:37.214Z"
   },
   {
    "duration": 16,
    "start_time": "2022-06-20T13:45:10.422Z"
   },
   {
    "duration": 8,
    "start_time": "2022-06-20T13:45:43.030Z"
   },
   {
    "duration": 9,
    "start_time": "2022-06-20T13:45:48.952Z"
   },
   {
    "duration": 403,
    "start_time": "2022-06-20T13:46:02.948Z"
   },
   {
    "duration": 79,
    "start_time": "2022-06-20T13:46:03.353Z"
   },
   {
    "duration": 22,
    "start_time": "2022-06-20T13:46:03.434Z"
   },
   {
    "duration": 51,
    "start_time": "2022-06-20T13:46:03.458Z"
   },
   {
    "duration": 10,
    "start_time": "2022-06-20T13:46:03.510Z"
   },
   {
    "duration": 41,
    "start_time": "2022-06-20T13:46:03.522Z"
   },
   {
    "duration": 15,
    "start_time": "2022-06-20T13:46:03.565Z"
   },
   {
    "duration": 15,
    "start_time": "2022-06-20T13:46:03.582Z"
   },
   {
    "duration": 10,
    "start_time": "2022-06-20T13:46:03.598Z"
   },
   {
    "duration": 11,
    "start_time": "2022-06-20T13:46:03.610Z"
   },
   {
    "duration": 3,
    "start_time": "2022-06-20T13:46:03.622Z"
   },
   {
    "duration": 4,
    "start_time": "2022-06-20T13:46:03.627Z"
   },
   {
    "duration": 6,
    "start_time": "2022-06-20T13:46:03.633Z"
   },
   {
    "duration": 7,
    "start_time": "2022-06-20T13:46:03.640Z"
   },
   {
    "duration": 5,
    "start_time": "2022-06-20T13:46:03.648Z"
   },
   {
    "duration": 21,
    "start_time": "2022-06-20T13:46:03.655Z"
   },
   {
    "duration": 16,
    "start_time": "2022-06-20T13:46:03.678Z"
   },
   {
    "duration": 8,
    "start_time": "2022-06-20T13:46:03.696Z"
   },
   {
    "duration": 9,
    "start_time": "2022-06-20T13:46:03.705Z"
   },
   {
    "duration": 22,
    "start_time": "2022-06-20T13:46:03.716Z"
   },
   {
    "duration": 12,
    "start_time": "2022-06-20T13:46:03.739Z"
   },
   {
    "duration": 7,
    "start_time": "2022-06-20T13:46:03.753Z"
   },
   {
    "duration": 435,
    "start_time": "2022-06-20T13:47:56.148Z"
   },
   {
    "duration": 95,
    "start_time": "2022-06-20T13:47:56.587Z"
   },
   {
    "duration": 22,
    "start_time": "2022-06-20T13:47:56.687Z"
   },
   {
    "duration": 62,
    "start_time": "2022-06-20T13:47:56.711Z"
   },
   {
    "duration": 17,
    "start_time": "2022-06-20T13:47:56.781Z"
   },
   {
    "duration": 45,
    "start_time": "2022-06-20T13:47:56.799Z"
   },
   {
    "duration": 39,
    "start_time": "2022-06-20T13:47:56.845Z"
   },
   {
    "duration": 39,
    "start_time": "2022-06-20T13:47:56.885Z"
   },
   {
    "duration": 25,
    "start_time": "2022-06-20T13:47:56.926Z"
   },
   {
    "duration": 64,
    "start_time": "2022-06-20T13:47:56.953Z"
   },
   {
    "duration": 63,
    "start_time": "2022-06-20T13:47:57.018Z"
   },
   {
    "duration": 9,
    "start_time": "2022-06-20T13:47:57.083Z"
   },
   {
    "duration": 52,
    "start_time": "2022-06-20T13:47:57.093Z"
   },
   {
    "duration": 65,
    "start_time": "2022-06-20T13:47:57.147Z"
   },
   {
    "duration": 40,
    "start_time": "2022-06-20T13:47:57.214Z"
   },
   {
    "duration": 62,
    "start_time": "2022-06-20T13:47:57.256Z"
   },
   {
    "duration": 23,
    "start_time": "2022-06-20T13:47:57.320Z"
   },
   {
    "duration": 63,
    "start_time": "2022-06-20T13:47:57.346Z"
   },
   {
    "duration": 26,
    "start_time": "2022-06-20T13:47:57.411Z"
   },
   {
    "duration": 56,
    "start_time": "2022-06-20T13:47:57.439Z"
   },
   {
    "duration": 35,
    "start_time": "2022-06-20T13:47:57.497Z"
   },
   {
    "duration": 54,
    "start_time": "2022-06-20T13:47:57.534Z"
   },
   {
    "duration": 387,
    "start_time": "2022-06-20T13:48:20.503Z"
   },
   {
    "duration": 80,
    "start_time": "2022-06-20T13:48:20.895Z"
   },
   {
    "duration": 27,
    "start_time": "2022-06-20T13:48:20.977Z"
   },
   {
    "duration": 15,
    "start_time": "2022-06-20T13:48:21.005Z"
   },
   {
    "duration": 10,
    "start_time": "2022-06-20T13:48:21.022Z"
   },
   {
    "duration": 51,
    "start_time": "2022-06-20T13:48:21.034Z"
   },
   {
    "duration": 3,
    "start_time": "2022-06-20T13:48:21.087Z"
   },
   {
    "duration": 13,
    "start_time": "2022-06-20T13:48:21.094Z"
   },
   {
    "duration": 4,
    "start_time": "2022-06-20T13:48:21.109Z"
   },
   {
    "duration": 16,
    "start_time": "2022-06-20T13:48:21.115Z"
   },
   {
    "duration": 3,
    "start_time": "2022-06-20T13:48:21.132Z"
   },
   {
    "duration": 6,
    "start_time": "2022-06-20T13:48:21.136Z"
   },
   {
    "duration": 6,
    "start_time": "2022-06-20T13:48:21.143Z"
   },
   {
    "duration": 9,
    "start_time": "2022-06-20T13:48:21.164Z"
   },
   {
    "duration": 21,
    "start_time": "2022-06-20T13:48:21.174Z"
   },
   {
    "duration": 5,
    "start_time": "2022-06-20T13:48:21.196Z"
   },
   {
    "duration": 5,
    "start_time": "2022-06-20T13:48:21.203Z"
   },
   {
    "duration": 8,
    "start_time": "2022-06-20T13:48:21.210Z"
   },
   {
    "duration": 5,
    "start_time": "2022-06-20T13:48:21.220Z"
   },
   {
    "duration": 7,
    "start_time": "2022-06-20T13:48:21.226Z"
   },
   {
    "duration": 9,
    "start_time": "2022-06-20T13:48:21.234Z"
   },
   {
    "duration": 10,
    "start_time": "2022-06-20T13:48:21.244Z"
   },
   {
    "duration": 5,
    "start_time": "2022-06-20T13:48:58.102Z"
   },
   {
    "duration": 6,
    "start_time": "2022-06-20T13:49:02.410Z"
   },
   {
    "duration": 6,
    "start_time": "2022-06-20T13:49:15.806Z"
   },
   {
    "duration": 6,
    "start_time": "2022-06-20T13:49:29.410Z"
   },
   {
    "duration": 4,
    "start_time": "2022-06-20T13:49:41.502Z"
   },
   {
    "duration": 7,
    "start_time": "2022-06-20T13:50:04.287Z"
   },
   {
    "duration": 4,
    "start_time": "2022-06-20T13:50:16.412Z"
   },
   {
    "duration": 5,
    "start_time": "2022-06-20T13:50:47.698Z"
   },
   {
    "duration": 4,
    "start_time": "2022-06-20T13:50:50.088Z"
   },
   {
    "duration": 350,
    "start_time": "2022-06-20T13:51:32.029Z"
   },
   {
    "duration": 75,
    "start_time": "2022-06-20T13:51:32.381Z"
   },
   {
    "duration": 32,
    "start_time": "2022-06-20T13:51:32.458Z"
   },
   {
    "duration": 20,
    "start_time": "2022-06-20T13:51:32.492Z"
   },
   {
    "duration": 11,
    "start_time": "2022-06-20T13:51:32.514Z"
   },
   {
    "duration": 19,
    "start_time": "2022-06-20T13:51:32.526Z"
   },
   {
    "duration": 23,
    "start_time": "2022-06-20T13:51:32.546Z"
   },
   {
    "duration": 22,
    "start_time": "2022-06-20T13:51:32.579Z"
   },
   {
    "duration": 14,
    "start_time": "2022-06-20T13:51:32.603Z"
   },
   {
    "duration": 15,
    "start_time": "2022-06-20T13:51:32.619Z"
   },
   {
    "duration": 10,
    "start_time": "2022-06-20T13:51:32.636Z"
   },
   {
    "duration": 5,
    "start_time": "2022-06-20T13:51:32.647Z"
   },
   {
    "duration": 16,
    "start_time": "2022-06-20T13:51:32.654Z"
   },
   {
    "duration": 20,
    "start_time": "2022-06-20T13:51:32.673Z"
   },
   {
    "duration": 8,
    "start_time": "2022-06-20T13:51:32.695Z"
   },
   {
    "duration": 7,
    "start_time": "2022-06-20T13:51:32.704Z"
   },
   {
    "duration": 5,
    "start_time": "2022-06-20T13:51:32.713Z"
   },
   {
    "duration": 13,
    "start_time": "2022-06-20T13:51:32.719Z"
   },
   {
    "duration": 6,
    "start_time": "2022-06-20T13:51:32.734Z"
   },
   {
    "duration": 16,
    "start_time": "2022-06-20T13:51:32.741Z"
   },
   {
    "duration": 39,
    "start_time": "2022-06-20T13:51:32.762Z"
   },
   {
    "duration": 9,
    "start_time": "2022-06-20T13:51:32.803Z"
   },
   {
    "duration": 379,
    "start_time": "2022-06-20T13:52:37.420Z"
   },
   {
    "duration": 86,
    "start_time": "2022-06-20T13:52:37.801Z"
   },
   {
    "duration": 21,
    "start_time": "2022-06-20T13:52:37.889Z"
   },
   {
    "duration": 14,
    "start_time": "2022-06-20T13:52:37.912Z"
   },
   {
    "duration": 9,
    "start_time": "2022-06-20T13:52:37.928Z"
   },
   {
    "duration": 36,
    "start_time": "2022-06-20T13:52:37.938Z"
   },
   {
    "duration": 20,
    "start_time": "2022-06-20T13:52:37.975Z"
   },
   {
    "duration": 10,
    "start_time": "2022-06-20T13:52:37.996Z"
   },
   {
    "duration": 4,
    "start_time": "2022-06-20T13:52:38.007Z"
   },
   {
    "duration": 13,
    "start_time": "2022-06-20T13:52:38.012Z"
   },
   {
    "duration": 4,
    "start_time": "2022-06-20T13:52:38.026Z"
   },
   {
    "duration": 9,
    "start_time": "2022-06-20T13:52:38.031Z"
   },
   {
    "duration": 9,
    "start_time": "2022-06-20T13:52:38.042Z"
   },
   {
    "duration": 8,
    "start_time": "2022-06-20T13:52:38.054Z"
   },
   {
    "duration": 24,
    "start_time": "2022-06-20T13:52:38.068Z"
   },
   {
    "duration": 7,
    "start_time": "2022-06-20T13:52:38.094Z"
   },
   {
    "duration": 7,
    "start_time": "2022-06-20T13:52:38.102Z"
   },
   {
    "duration": 5,
    "start_time": "2022-06-20T13:52:38.111Z"
   },
   {
    "duration": 5,
    "start_time": "2022-06-20T13:52:38.117Z"
   },
   {
    "duration": 6,
    "start_time": "2022-06-20T13:52:38.123Z"
   },
   {
    "duration": 5,
    "start_time": "2022-06-20T13:52:38.131Z"
   },
   {
    "duration": 9,
    "start_time": "2022-06-20T13:52:38.137Z"
   },
   {
    "duration": 440,
    "start_time": "2022-06-20T13:56:13.047Z"
   },
   {
    "duration": 87,
    "start_time": "2022-06-20T13:56:13.490Z"
   },
   {
    "duration": 22,
    "start_time": "2022-06-20T13:56:13.579Z"
   },
   {
    "duration": 14,
    "start_time": "2022-06-20T13:56:13.603Z"
   },
   {
    "duration": 8,
    "start_time": "2022-06-20T13:56:13.619Z"
   },
   {
    "duration": 15,
    "start_time": "2022-06-20T13:56:13.629Z"
   },
   {
    "duration": 3,
    "start_time": "2022-06-20T13:56:13.646Z"
   },
   {
    "duration": 25,
    "start_time": "2022-06-20T13:56:13.663Z"
   },
   {
    "duration": 11,
    "start_time": "2022-06-20T13:56:13.690Z"
   },
   {
    "duration": 9,
    "start_time": "2022-06-20T13:56:13.704Z"
   },
   {
    "duration": 5,
    "start_time": "2022-06-20T13:56:13.715Z"
   },
   {
    "duration": 6,
    "start_time": "2022-06-20T13:56:13.721Z"
   },
   {
    "duration": 5,
    "start_time": "2022-06-20T13:56:13.728Z"
   },
   {
    "duration": 6,
    "start_time": "2022-06-20T13:56:13.734Z"
   },
   {
    "duration": 6,
    "start_time": "2022-06-20T13:56:13.742Z"
   },
   {
    "duration": 7,
    "start_time": "2022-06-20T13:56:13.749Z"
   },
   {
    "duration": 29,
    "start_time": "2022-06-20T13:56:13.758Z"
   },
   {
    "duration": 6,
    "start_time": "2022-06-20T13:56:13.789Z"
   },
   {
    "duration": 7,
    "start_time": "2022-06-20T13:56:13.796Z"
   },
   {
    "duration": 5,
    "start_time": "2022-06-20T13:56:13.804Z"
   },
   {
    "duration": 5,
    "start_time": "2022-06-20T13:56:13.811Z"
   },
   {
    "duration": 6,
    "start_time": "2022-06-20T13:56:13.818Z"
   },
   {
    "duration": 5,
    "start_time": "2022-06-20T13:56:28.334Z"
   },
   {
    "duration": 4,
    "start_time": "2022-06-20T13:56:31.947Z"
   },
   {
    "duration": 384,
    "start_time": "2022-06-20T13:56:37.420Z"
   },
   {
    "duration": 83,
    "start_time": "2022-06-20T13:56:37.806Z"
   },
   {
    "duration": 22,
    "start_time": "2022-06-20T13:56:37.891Z"
   },
   {
    "duration": 15,
    "start_time": "2022-06-20T13:56:37.915Z"
   },
   {
    "duration": 9,
    "start_time": "2022-06-20T13:56:37.931Z"
   },
   {
    "duration": 39,
    "start_time": "2022-06-20T13:56:37.942Z"
   },
   {
    "duration": 9,
    "start_time": "2022-06-20T13:56:37.989Z"
   },
   {
    "duration": 10,
    "start_time": "2022-06-20T13:56:37.999Z"
   },
   {
    "duration": 5,
    "start_time": "2022-06-20T13:56:38.011Z"
   },
   {
    "duration": 87,
    "start_time": "2022-06-20T13:56:38.018Z"
   },
   {
    "duration": 0,
    "start_time": "2022-06-20T13:56:38.106Z"
   },
   {
    "duration": 0,
    "start_time": "2022-06-20T13:56:38.107Z"
   },
   {
    "duration": 0,
    "start_time": "2022-06-20T13:56:38.108Z"
   },
   {
    "duration": 0,
    "start_time": "2022-06-20T13:56:38.109Z"
   },
   {
    "duration": 0,
    "start_time": "2022-06-20T13:56:38.110Z"
   },
   {
    "duration": 0,
    "start_time": "2022-06-20T13:56:38.111Z"
   },
   {
    "duration": 0,
    "start_time": "2022-06-20T13:56:38.112Z"
   },
   {
    "duration": 0,
    "start_time": "2022-06-20T13:56:38.113Z"
   },
   {
    "duration": 0,
    "start_time": "2022-06-20T13:56:38.115Z"
   },
   {
    "duration": 0,
    "start_time": "2022-06-20T13:56:38.116Z"
   },
   {
    "duration": 0,
    "start_time": "2022-06-20T13:56:38.117Z"
   },
   {
    "duration": 0,
    "start_time": "2022-06-20T13:56:38.118Z"
   },
   {
    "duration": 358,
    "start_time": "2022-06-20T13:57:05.524Z"
   },
   {
    "duration": 72,
    "start_time": "2022-06-20T13:57:05.885Z"
   },
   {
    "duration": 36,
    "start_time": "2022-06-20T13:57:05.958Z"
   },
   {
    "duration": 14,
    "start_time": "2022-06-20T13:57:05.996Z"
   },
   {
    "duration": 9,
    "start_time": "2022-06-20T13:57:06.012Z"
   },
   {
    "duration": 16,
    "start_time": "2022-06-20T13:57:06.022Z"
   },
   {
    "duration": 22,
    "start_time": "2022-06-20T13:57:06.040Z"
   },
   {
    "duration": 17,
    "start_time": "2022-06-20T13:57:06.070Z"
   },
   {
    "duration": 6,
    "start_time": "2022-06-20T13:57:06.088Z"
   },
   {
    "duration": 13,
    "start_time": "2022-06-20T13:57:06.096Z"
   },
   {
    "duration": 7,
    "start_time": "2022-06-20T13:57:06.110Z"
   },
   {
    "duration": 5,
    "start_time": "2022-06-20T13:57:06.119Z"
   },
   {
    "duration": 6,
    "start_time": "2022-06-20T13:57:06.125Z"
   },
   {
    "duration": 10,
    "start_time": "2022-06-20T13:57:06.132Z"
   },
   {
    "duration": 5,
    "start_time": "2022-06-20T13:57:06.144Z"
   },
   {
    "duration": 10,
    "start_time": "2022-06-20T13:57:06.150Z"
   },
   {
    "duration": 30,
    "start_time": "2022-06-20T13:57:06.161Z"
   },
   {
    "duration": 5,
    "start_time": "2022-06-20T13:57:06.193Z"
   },
   {
    "duration": 7,
    "start_time": "2022-06-20T13:57:06.199Z"
   },
   {
    "duration": 11,
    "start_time": "2022-06-20T13:57:06.207Z"
   },
   {
    "duration": 4,
    "start_time": "2022-06-20T13:57:06.220Z"
   },
   {
    "duration": 5,
    "start_time": "2022-06-20T13:57:06.226Z"
   },
   {
    "duration": 395,
    "start_time": "2022-06-20T14:20:46.418Z"
   },
   {
    "duration": 84,
    "start_time": "2022-06-20T14:20:46.815Z"
   },
   {
    "duration": 22,
    "start_time": "2022-06-20T14:20:46.901Z"
   },
   {
    "duration": 15,
    "start_time": "2022-06-20T14:20:46.925Z"
   },
   {
    "duration": 24,
    "start_time": "2022-06-20T14:20:46.958Z"
   },
   {
    "duration": 41,
    "start_time": "2022-06-20T14:20:46.984Z"
   },
   {
    "duration": 3,
    "start_time": "2022-06-20T14:20:47.027Z"
   },
   {
    "duration": 15,
    "start_time": "2022-06-20T14:20:47.032Z"
   },
   {
    "duration": 5,
    "start_time": "2022-06-20T14:20:47.050Z"
   },
   {
    "duration": 14,
    "start_time": "2022-06-20T14:20:47.057Z"
   },
   {
    "duration": 22,
    "start_time": "2022-06-20T14:20:47.072Z"
   },
   {
    "duration": 15,
    "start_time": "2022-06-20T14:20:47.096Z"
   },
   {
    "duration": 6,
    "start_time": "2022-06-20T14:20:47.113Z"
   },
   {
    "duration": 15,
    "start_time": "2022-06-20T14:20:47.120Z"
   },
   {
    "duration": 5,
    "start_time": "2022-06-20T14:20:47.136Z"
   },
   {
    "duration": 8,
    "start_time": "2022-06-20T14:20:47.143Z"
   },
   {
    "duration": 28,
    "start_time": "2022-06-20T14:20:47.152Z"
   },
   {
    "duration": 6,
    "start_time": "2022-06-20T14:20:47.182Z"
   },
   {
    "duration": 9,
    "start_time": "2022-06-20T14:20:47.189Z"
   },
   {
    "duration": 5,
    "start_time": "2022-06-20T14:20:47.200Z"
   },
   {
    "duration": 6,
    "start_time": "2022-06-20T14:20:47.207Z"
   },
   {
    "duration": 6,
    "start_time": "2022-06-20T14:20:47.214Z"
   },
   {
    "duration": 54,
    "start_time": "2022-06-20T15:31:34.745Z"
   },
   {
    "duration": 7,
    "start_time": "2022-06-20T15:31:45.526Z"
   },
   {
    "duration": 7,
    "start_time": "2022-06-20T15:31:56.469Z"
   },
   {
    "duration": 10,
    "start_time": "2022-06-20T15:32:02.665Z"
   },
   {
    "duration": 3,
    "start_time": "2022-06-20T15:32:14.065Z"
   },
   {
    "duration": 6,
    "start_time": "2022-06-20T15:32:21.419Z"
   },
   {
    "duration": 9,
    "start_time": "2022-06-20T15:32:26.546Z"
   },
   {
    "duration": 8,
    "start_time": "2022-06-20T15:32:35.438Z"
   },
   {
    "duration": 427,
    "start_time": "2022-06-20T15:32:43.749Z"
   },
   {
    "duration": 413,
    "start_time": "2022-06-20T15:32:44.178Z"
   },
   {
    "duration": 23,
    "start_time": "2022-06-20T15:32:44.597Z"
   },
   {
    "duration": 19,
    "start_time": "2022-06-20T15:32:44.623Z"
   },
   {
    "duration": 35,
    "start_time": "2022-06-20T15:32:44.644Z"
   },
   {
    "duration": 27,
    "start_time": "2022-06-20T15:32:44.681Z"
   },
   {
    "duration": 6,
    "start_time": "2022-06-20T15:32:44.710Z"
   },
   {
    "duration": 23,
    "start_time": "2022-06-20T15:32:44.717Z"
   },
   {
    "duration": 6,
    "start_time": "2022-06-20T15:32:44.743Z"
   },
   {
    "duration": 24,
    "start_time": "2022-06-20T15:32:44.751Z"
   },
   {
    "duration": 13,
    "start_time": "2022-06-20T15:32:44.777Z"
   },
   {
    "duration": 21,
    "start_time": "2022-06-20T15:32:44.792Z"
   },
   {
    "duration": 7,
    "start_time": "2022-06-20T15:32:44.816Z"
   },
   {
    "duration": 16,
    "start_time": "2022-06-20T15:32:44.825Z"
   },
   {
    "duration": 35,
    "start_time": "2022-06-20T15:32:44.843Z"
   },
   {
    "duration": 24,
    "start_time": "2022-06-20T15:32:44.880Z"
   },
   {
    "duration": 14,
    "start_time": "2022-06-20T15:32:44.906Z"
   },
   {
    "duration": 3,
    "start_time": "2022-06-20T15:32:44.922Z"
   },
   {
    "duration": 18,
    "start_time": "2022-06-20T15:32:44.926Z"
   },
   {
    "duration": 10,
    "start_time": "2022-06-20T15:32:44.947Z"
   },
   {
    "duration": 18,
    "start_time": "2022-06-20T15:32:44.959Z"
   },
   {
    "duration": 16,
    "start_time": "2022-06-20T15:32:44.979Z"
   },
   {
    "duration": 11,
    "start_time": "2022-06-20T15:34:22.037Z"
   },
   {
    "duration": 429,
    "start_time": "2022-06-20T15:41:18.688Z"
   },
   {
    "duration": 299,
    "start_time": "2022-06-20T15:41:19.118Z"
   },
   {
    "duration": 23,
    "start_time": "2022-06-20T15:41:19.419Z"
   },
   {
    "duration": 16,
    "start_time": "2022-06-20T15:41:19.444Z"
   },
   {
    "duration": 12,
    "start_time": "2022-06-20T15:41:19.462Z"
   },
   {
    "duration": 16,
    "start_time": "2022-06-20T15:41:19.476Z"
   },
   {
    "duration": 31,
    "start_time": "2022-06-20T15:41:19.495Z"
   },
   {
    "duration": 9,
    "start_time": "2022-06-20T15:41:19.528Z"
   },
   {
    "duration": 8,
    "start_time": "2022-06-20T15:41:19.539Z"
   },
   {
    "duration": 14,
    "start_time": "2022-06-20T15:41:19.552Z"
   },
   {
    "duration": 5,
    "start_time": "2022-06-20T15:41:19.568Z"
   },
   {
    "duration": 14,
    "start_time": "2022-06-20T15:41:19.575Z"
   },
   {
    "duration": 6,
    "start_time": "2022-06-20T15:41:19.591Z"
   },
   {
    "duration": 34,
    "start_time": "2022-06-20T15:41:19.599Z"
   },
   {
    "duration": 17,
    "start_time": "2022-06-20T15:41:19.635Z"
   },
   {
    "duration": 22,
    "start_time": "2022-06-20T15:41:19.654Z"
   },
   {
    "duration": 11,
    "start_time": "2022-06-20T15:41:19.678Z"
   },
   {
    "duration": 9,
    "start_time": "2022-06-20T15:41:19.691Z"
   },
   {
    "duration": 8,
    "start_time": "2022-06-20T15:41:19.702Z"
   },
   {
    "duration": 29,
    "start_time": "2022-06-20T15:41:19.712Z"
   },
   {
    "duration": 20,
    "start_time": "2022-06-20T15:41:19.743Z"
   },
   {
    "duration": 34,
    "start_time": "2022-06-20T15:41:19.765Z"
   },
   {
    "duration": 28,
    "start_time": "2022-06-20T15:41:54.045Z"
   },
   {
    "duration": 71,
    "start_time": "2022-06-20T15:43:15.189Z"
   },
   {
    "duration": 116,
    "start_time": "2022-06-20T18:18:01.858Z"
   },
   {
    "duration": 75,
    "start_time": "2022-06-20T18:18:40.675Z"
   },
   {
    "duration": 4,
    "start_time": "2022-06-20T18:19:08.918Z"
   },
   {
    "duration": 5,
    "start_time": "2022-06-20T18:19:15.251Z"
   },
   {
    "duration": 4,
    "start_time": "2022-06-20T18:20:21.738Z"
   },
   {
    "duration": 42,
    "start_time": "2022-06-20T18:23:32.386Z"
   },
   {
    "duration": 7,
    "start_time": "2022-06-20T18:23:54.764Z"
   },
   {
    "duration": 442,
    "start_time": "2022-06-20T18:23:59.796Z"
   },
   {
    "duration": 308,
    "start_time": "2022-06-20T18:24:00.240Z"
   },
   {
    "duration": 28,
    "start_time": "2022-06-20T18:24:00.551Z"
   },
   {
    "duration": 26,
    "start_time": "2022-06-20T18:24:00.581Z"
   },
   {
    "duration": 27,
    "start_time": "2022-06-20T18:24:00.608Z"
   },
   {
    "duration": 45,
    "start_time": "2022-06-20T18:24:00.636Z"
   },
   {
    "duration": 14,
    "start_time": "2022-06-20T18:24:00.684Z"
   },
   {
    "duration": 37,
    "start_time": "2022-06-20T18:24:00.700Z"
   },
   {
    "duration": 25,
    "start_time": "2022-06-20T18:24:00.739Z"
   },
   {
    "duration": 40,
    "start_time": "2022-06-20T18:24:00.768Z"
   },
   {
    "duration": 35,
    "start_time": "2022-06-20T18:24:00.809Z"
   },
   {
    "duration": 47,
    "start_time": "2022-06-20T18:24:00.847Z"
   },
   {
    "duration": 36,
    "start_time": "2022-06-20T18:24:00.896Z"
   },
   {
    "duration": 16,
    "start_time": "2022-06-20T18:24:00.934Z"
   },
   {
    "duration": 40,
    "start_time": "2022-06-20T18:24:00.952Z"
   },
   {
    "duration": 33,
    "start_time": "2022-06-20T18:24:00.994Z"
   },
   {
    "duration": 68,
    "start_time": "2022-06-20T18:24:01.029Z"
   },
   {
    "duration": 4,
    "start_time": "2022-06-20T18:24:01.099Z"
   },
   {
    "duration": 43,
    "start_time": "2022-06-20T18:24:01.105Z"
   },
   {
    "duration": 52,
    "start_time": "2022-06-20T18:24:01.150Z"
   },
   {
    "duration": 64,
    "start_time": "2022-06-20T18:24:01.204Z"
   },
   {
    "duration": 32,
    "start_time": "2022-06-20T18:24:01.269Z"
   },
   {
    "duration": 16,
    "start_time": "2022-06-20T18:25:52.309Z"
   },
   {
    "duration": 417,
    "start_time": "2022-06-20T19:35:57.744Z"
   },
   {
    "duration": 199,
    "start_time": "2022-06-20T19:35:58.163Z"
   },
   {
    "duration": 25,
    "start_time": "2022-06-20T19:35:58.364Z"
   },
   {
    "duration": 16,
    "start_time": "2022-06-20T19:35:58.391Z"
   },
   {
    "duration": 11,
    "start_time": "2022-06-20T19:35:58.409Z"
   },
   {
    "duration": 24,
    "start_time": "2022-06-20T19:35:58.422Z"
   },
   {
    "duration": 21,
    "start_time": "2022-06-20T19:35:58.448Z"
   },
   {
    "duration": 13,
    "start_time": "2022-06-20T19:35:58.471Z"
   },
   {
    "duration": 5,
    "start_time": "2022-06-20T19:35:58.486Z"
   },
   {
    "duration": 12,
    "start_time": "2022-06-20T19:35:58.492Z"
   },
   {
    "duration": 4,
    "start_time": "2022-06-20T19:35:58.506Z"
   },
   {
    "duration": 36,
    "start_time": "2022-06-20T19:35:58.512Z"
   },
   {
    "duration": 18,
    "start_time": "2022-06-20T19:35:58.551Z"
   },
   {
    "duration": 4,
    "start_time": "2022-06-20T19:35:58.572Z"
   },
   {
    "duration": 19,
    "start_time": "2022-06-20T19:35:58.577Z"
   },
   {
    "duration": 37,
    "start_time": "2022-06-20T19:35:58.598Z"
   },
   {
    "duration": 57,
    "start_time": "2022-06-20T19:35:58.637Z"
   },
   {
    "duration": 4,
    "start_time": "2022-06-20T19:35:58.696Z"
   },
   {
    "duration": 74,
    "start_time": "2022-06-20T19:35:58.701Z"
   },
   {
    "duration": 25,
    "start_time": "2022-06-20T19:35:58.781Z"
   },
   {
    "duration": 49,
    "start_time": "2022-06-20T19:35:58.808Z"
   },
   {
    "duration": 30,
    "start_time": "2022-06-20T19:35:58.860Z"
   },
   {
    "duration": 27,
    "start_time": "2022-06-20T19:36:29.467Z"
   },
   {
    "duration": 377,
    "start_time": "2022-06-20T20:18:05.268Z"
   },
   {
    "duration": 101,
    "start_time": "2022-06-20T20:18:05.647Z"
   },
   {
    "duration": 31,
    "start_time": "2022-06-20T20:18:05.750Z"
   },
   {
    "duration": 24,
    "start_time": "2022-06-20T20:18:05.784Z"
   },
   {
    "duration": 39,
    "start_time": "2022-06-20T20:18:05.811Z"
   },
   {
    "duration": 49,
    "start_time": "2022-06-20T20:18:05.852Z"
   },
   {
    "duration": 5,
    "start_time": "2022-06-20T20:18:05.903Z"
   },
   {
    "duration": 63,
    "start_time": "2022-06-20T20:18:05.912Z"
   },
   {
    "duration": 16,
    "start_time": "2022-06-20T20:18:05.978Z"
   },
   {
    "duration": 14,
    "start_time": "2022-06-20T20:18:05.997Z"
   },
   {
    "duration": 11,
    "start_time": "2022-06-20T20:18:06.013Z"
   },
   {
    "duration": 75,
    "start_time": "2022-06-20T20:18:06.028Z"
   },
   {
    "duration": 8,
    "start_time": "2022-06-20T20:18:06.105Z"
   },
   {
    "duration": 8,
    "start_time": "2022-06-20T20:18:06.115Z"
   },
   {
    "duration": 74,
    "start_time": "2022-06-20T20:18:06.125Z"
   },
   {
    "duration": 39,
    "start_time": "2022-06-20T20:18:06.202Z"
   },
   {
    "duration": 78,
    "start_time": "2022-06-20T20:18:06.245Z"
   },
   {
    "duration": 3,
    "start_time": "2022-06-20T20:18:06.327Z"
   },
   {
    "duration": 65,
    "start_time": "2022-06-20T20:18:06.332Z"
   },
   {
    "duration": 18,
    "start_time": "2022-06-20T20:18:06.400Z"
   },
   {
    "duration": 3,
    "start_time": "2022-06-20T20:18:06.421Z"
   },
   {
    "duration": 61,
    "start_time": "2022-06-20T20:18:06.435Z"
   },
   {
    "duration": 430,
    "start_time": "2022-06-21T09:26:00.705Z"
   },
   {
    "duration": 292,
    "start_time": "2022-06-21T09:26:01.137Z"
   },
   {
    "duration": 22,
    "start_time": "2022-06-21T09:26:01.431Z"
   },
   {
    "duration": 22,
    "start_time": "2022-06-21T09:26:01.454Z"
   },
   {
    "duration": 12,
    "start_time": "2022-06-21T09:26:01.478Z"
   },
   {
    "duration": 35,
    "start_time": "2022-06-21T09:26:01.492Z"
   },
   {
    "duration": 15,
    "start_time": "2022-06-21T09:26:01.529Z"
   },
   {
    "duration": 43,
    "start_time": "2022-06-21T09:26:01.546Z"
   },
   {
    "duration": 20,
    "start_time": "2022-06-21T09:26:01.590Z"
   },
   {
    "duration": 29,
    "start_time": "2022-06-21T09:26:01.612Z"
   },
   {
    "duration": 29,
    "start_time": "2022-06-21T09:26:01.642Z"
   },
   {
    "duration": 39,
    "start_time": "2022-06-21T09:26:01.673Z"
   },
   {
    "duration": 30,
    "start_time": "2022-06-21T09:26:01.714Z"
   },
   {
    "duration": 24,
    "start_time": "2022-06-21T09:26:01.748Z"
   },
   {
    "duration": 44,
    "start_time": "2022-06-21T09:26:01.774Z"
   },
   {
    "duration": 27,
    "start_time": "2022-06-21T09:26:01.820Z"
   },
   {
    "duration": 121,
    "start_time": "2022-06-21T09:26:01.849Z"
   },
   {
    "duration": 3,
    "start_time": "2022-06-21T09:26:01.972Z"
   },
   {
    "duration": 18,
    "start_time": "2022-06-21T09:26:01.977Z"
   },
   {
    "duration": 38,
    "start_time": "2022-06-21T09:26:01.997Z"
   },
   {
    "duration": 6,
    "start_time": "2022-06-21T09:26:02.037Z"
   },
   {
    "duration": 15,
    "start_time": "2022-06-21T09:26:02.045Z"
   },
   {
    "duration": 423,
    "start_time": "2022-06-21T09:27:40.220Z"
   },
   {
    "duration": 75,
    "start_time": "2022-06-21T09:27:40.646Z"
   },
   {
    "duration": 22,
    "start_time": "2022-06-21T09:27:40.722Z"
   },
   {
    "duration": 14,
    "start_time": "2022-06-21T09:27:40.745Z"
   },
   {
    "duration": 9,
    "start_time": "2022-06-21T09:27:40.761Z"
   },
   {
    "duration": 16,
    "start_time": "2022-06-21T09:27:40.772Z"
   },
   {
    "duration": 4,
    "start_time": "2022-06-21T09:27:40.789Z"
   },
   {
    "duration": 32,
    "start_time": "2022-06-21T09:27:40.795Z"
   },
   {
    "duration": 5,
    "start_time": "2022-06-21T09:27:40.828Z"
   },
   {
    "duration": 14,
    "start_time": "2022-06-21T09:27:40.835Z"
   },
   {
    "duration": 5,
    "start_time": "2022-06-21T09:27:40.851Z"
   },
   {
    "duration": 13,
    "start_time": "2022-06-21T09:27:40.857Z"
   },
   {
    "duration": 10,
    "start_time": "2022-06-21T09:27:40.872Z"
   },
   {
    "duration": 4,
    "start_time": "2022-06-21T09:27:40.885Z"
   },
   {
    "duration": 49,
    "start_time": "2022-06-21T09:27:40.890Z"
   },
   {
    "duration": 17,
    "start_time": "2022-06-21T09:27:40.941Z"
   },
   {
    "duration": 45,
    "start_time": "2022-06-21T09:27:40.960Z"
   },
   {
    "duration": 19,
    "start_time": "2022-06-21T09:27:41.007Z"
   },
   {
    "duration": 17,
    "start_time": "2022-06-21T09:27:41.028Z"
   },
   {
    "duration": 8,
    "start_time": "2022-06-21T09:27:41.046Z"
   },
   {
    "duration": 2,
    "start_time": "2022-06-21T09:27:41.056Z"
   },
   {
    "duration": 8,
    "start_time": "2022-06-21T09:27:41.059Z"
   },
   {
    "duration": 397,
    "start_time": "2022-06-21T09:28:02.772Z"
   },
   {
    "duration": 76,
    "start_time": "2022-06-21T09:28:03.171Z"
   },
   {
    "duration": 25,
    "start_time": "2022-06-21T09:28:03.249Z"
   },
   {
    "duration": 25,
    "start_time": "2022-06-21T09:28:03.276Z"
   },
   {
    "duration": 22,
    "start_time": "2022-06-21T09:28:03.304Z"
   },
   {
    "duration": 14,
    "start_time": "2022-06-21T09:28:03.328Z"
   },
   {
    "duration": 4,
    "start_time": "2022-06-21T09:28:03.344Z"
   },
   {
    "duration": 13,
    "start_time": "2022-06-21T09:28:03.349Z"
   },
   {
    "duration": 9,
    "start_time": "2022-06-21T09:28:03.364Z"
   },
   {
    "duration": 12,
    "start_time": "2022-06-21T09:28:03.374Z"
   },
   {
    "duration": 6,
    "start_time": "2022-06-21T09:28:03.388Z"
   },
   {
    "duration": 41,
    "start_time": "2022-06-21T09:28:03.396Z"
   },
   {
    "duration": 40,
    "start_time": "2022-06-21T09:28:03.438Z"
   },
   {
    "duration": 6,
    "start_time": "2022-06-21T09:28:03.481Z"
   },
   {
    "duration": 24,
    "start_time": "2022-06-21T09:28:03.488Z"
   },
   {
    "duration": 16,
    "start_time": "2022-06-21T09:28:03.514Z"
   },
   {
    "duration": 44,
    "start_time": "2022-06-21T09:28:03.532Z"
   },
   {
    "duration": 3,
    "start_time": "2022-06-21T09:28:03.578Z"
   },
   {
    "duration": 18,
    "start_time": "2022-06-21T09:28:03.582Z"
   },
   {
    "duration": 18,
    "start_time": "2022-06-21T09:28:03.601Z"
   },
   {
    "duration": 2,
    "start_time": "2022-06-21T09:28:03.626Z"
   },
   {
    "duration": 7,
    "start_time": "2022-06-21T09:28:03.630Z"
   },
   {
    "duration": 428,
    "start_time": "2022-06-21T09:28:32.602Z"
   },
   {
    "duration": 72,
    "start_time": "2022-06-21T09:28:33.032Z"
   },
   {
    "duration": 21,
    "start_time": "2022-06-21T09:28:33.106Z"
   },
   {
    "duration": 14,
    "start_time": "2022-06-21T09:28:33.128Z"
   },
   {
    "duration": 9,
    "start_time": "2022-06-21T09:28:33.144Z"
   },
   {
    "duration": 13,
    "start_time": "2022-06-21T09:28:33.155Z"
   },
   {
    "duration": 3,
    "start_time": "2022-06-21T09:28:33.170Z"
   },
   {
    "duration": 13,
    "start_time": "2022-06-21T09:28:33.175Z"
   },
   {
    "duration": 6,
    "start_time": "2022-06-21T09:28:33.189Z"
   },
   {
    "duration": 33,
    "start_time": "2022-06-21T09:28:33.196Z"
   },
   {
    "duration": 7,
    "start_time": "2022-06-21T09:28:33.231Z"
   },
   {
    "duration": 16,
    "start_time": "2022-06-21T09:28:33.239Z"
   },
   {
    "duration": 10,
    "start_time": "2022-06-21T09:28:33.257Z"
   },
   {
    "duration": 4,
    "start_time": "2022-06-21T09:28:33.269Z"
   },
   {
    "duration": 22,
    "start_time": "2022-06-21T09:28:33.274Z"
   },
   {
    "duration": 39,
    "start_time": "2022-06-21T09:28:33.297Z"
   },
   {
    "duration": 50,
    "start_time": "2022-06-21T09:28:33.338Z"
   },
   {
    "duration": 4,
    "start_time": "2022-06-21T09:28:33.389Z"
   },
   {
    "duration": 12,
    "start_time": "2022-06-21T09:28:33.394Z"
   },
   {
    "duration": 25,
    "start_time": "2022-06-21T09:28:33.408Z"
   },
   {
    "duration": 16,
    "start_time": "2022-06-21T09:28:33.434Z"
   },
   {
    "duration": 5,
    "start_time": "2022-06-21T09:28:33.451Z"
   },
   {
    "duration": 429,
    "start_time": "2022-06-21T09:36:16.010Z"
   },
   {
    "duration": 76,
    "start_time": "2022-06-21T09:36:16.440Z"
   },
   {
    "duration": 23,
    "start_time": "2022-06-21T09:36:16.517Z"
   },
   {
    "duration": 16,
    "start_time": "2022-06-21T09:36:16.542Z"
   },
   {
    "duration": 11,
    "start_time": "2022-06-21T09:36:16.559Z"
   },
   {
    "duration": 14,
    "start_time": "2022-06-21T09:36:16.572Z"
   },
   {
    "duration": 3,
    "start_time": "2022-06-21T09:36:16.588Z"
   },
   {
    "duration": 36,
    "start_time": "2022-06-21T09:36:16.593Z"
   },
   {
    "duration": 10,
    "start_time": "2022-06-21T09:36:16.631Z"
   },
   {
    "duration": 10,
    "start_time": "2022-06-21T09:36:16.644Z"
   },
   {
    "duration": 4,
    "start_time": "2022-06-21T09:36:16.656Z"
   },
   {
    "duration": 18,
    "start_time": "2022-06-21T09:36:16.662Z"
   },
   {
    "duration": 11,
    "start_time": "2022-06-21T09:36:16.682Z"
   },
   {
    "duration": 4,
    "start_time": "2022-06-21T09:36:16.695Z"
   },
   {
    "duration": 40,
    "start_time": "2022-06-21T09:36:16.701Z"
   },
   {
    "duration": 20,
    "start_time": "2022-06-21T09:36:16.743Z"
   },
   {
    "duration": 66,
    "start_time": "2022-06-21T09:36:16.765Z"
   },
   {
    "duration": 5,
    "start_time": "2022-06-21T09:36:16.833Z"
   },
   {
    "duration": 15,
    "start_time": "2022-06-21T09:36:16.839Z"
   },
   {
    "duration": 13,
    "start_time": "2022-06-21T09:36:16.855Z"
   },
   {
    "duration": 4,
    "start_time": "2022-06-21T09:36:16.869Z"
   },
   {
    "duration": 6,
    "start_time": "2022-06-21T09:36:16.874Z"
   },
   {
    "duration": 9,
    "start_time": "2022-08-08T10:42:57.255Z"
   },
   {
    "duration": 52,
    "start_time": "2022-08-08T10:47:39.012Z"
   },
   {
    "duration": 48,
    "start_time": "2022-08-10T09:00:22.827Z"
   },
   {
    "duration": 6,
    "start_time": "2022-08-10T09:43:18.918Z"
   },
   {
    "duration": 8,
    "start_time": "2022-08-10T10:01:15.547Z"
   },
   {
    "duration": 7,
    "start_time": "2022-08-10T10:04:54.777Z"
   },
   {
    "duration": 421,
    "start_time": "2022-08-10T10:05:50.949Z"
   },
   {
    "duration": 129,
    "start_time": "2022-08-10T10:05:51.372Z"
   },
   {
    "duration": 27,
    "start_time": "2022-08-10T10:05:51.503Z"
   },
   {
    "duration": 18,
    "start_time": "2022-08-10T10:05:51.533Z"
   },
   {
    "duration": 23,
    "start_time": "2022-08-10T10:05:51.553Z"
   },
   {
    "duration": 24,
    "start_time": "2022-08-10T10:05:51.578Z"
   },
   {
    "duration": 4,
    "start_time": "2022-08-10T10:05:51.604Z"
   },
   {
    "duration": 11,
    "start_time": "2022-08-10T10:05:51.609Z"
   },
   {
    "duration": 10,
    "start_time": "2022-08-10T10:05:51.622Z"
   },
   {
    "duration": 13,
    "start_time": "2022-08-10T10:05:51.635Z"
   },
   {
    "duration": 21,
    "start_time": "2022-08-10T10:05:51.650Z"
   },
   {
    "duration": 11,
    "start_time": "2022-08-10T10:05:51.673Z"
   },
   {
    "duration": 9,
    "start_time": "2022-08-10T10:05:51.686Z"
   },
   {
    "duration": 5,
    "start_time": "2022-08-10T10:05:51.696Z"
   },
   {
    "duration": 21,
    "start_time": "2022-08-10T10:05:51.702Z"
   },
   {
    "duration": 46,
    "start_time": "2022-08-10T10:05:51.724Z"
   },
   {
    "duration": 10,
    "start_time": "2022-08-10T10:05:51.772Z"
   },
   {
    "duration": 5,
    "start_time": "2022-08-10T10:05:51.784Z"
   },
   {
    "duration": 12,
    "start_time": "2022-08-10T10:05:51.790Z"
   },
   {
    "duration": 8,
    "start_time": "2022-08-10T10:05:51.803Z"
   },
   {
    "duration": 72,
    "start_time": "2022-08-10T10:05:51.812Z"
   },
   {
    "duration": 0,
    "start_time": "2022-08-10T10:05:51.886Z"
   },
   {
    "duration": 5,
    "start_time": "2022-08-10T10:08:00.922Z"
   },
   {
    "duration": 89,
    "start_time": "2022-08-10T10:09:46.110Z"
   },
   {
    "duration": 91,
    "start_time": "2022-08-10T10:10:26.442Z"
   },
   {
    "duration": 4,
    "start_time": "2022-08-10T10:10:37.913Z"
   },
   {
    "duration": 7,
    "start_time": "2022-08-10T10:10:43.884Z"
   },
   {
    "duration": 72,
    "start_time": "2022-08-10T10:11:46.904Z"
   },
   {
    "duration": 7,
    "start_time": "2022-08-10T10:12:15.422Z"
   },
   {
    "duration": 10,
    "start_time": "2022-08-10T10:12:18.334Z"
   },
   {
    "duration": 11,
    "start_time": "2022-08-10T10:12:21.358Z"
   },
   {
    "duration": 4,
    "start_time": "2022-08-10T10:16:14.077Z"
   },
   {
    "duration": 341,
    "start_time": "2022-08-10T10:16:19.128Z"
   },
   {
    "duration": 362,
    "start_time": "2022-08-10T10:16:28.366Z"
   },
   {
    "duration": 5,
    "start_time": "2022-08-10T10:16:44.991Z"
   },
   {
    "duration": 12,
    "start_time": "2022-08-10T10:16:48.587Z"
   },
   {
    "duration": 398,
    "start_time": "2022-08-10T10:19:47.793Z"
   },
   {
    "duration": 75,
    "start_time": "2022-08-10T10:19:48.193Z"
   },
   {
    "duration": 23,
    "start_time": "2022-08-10T10:19:48.269Z"
   },
   {
    "duration": 15,
    "start_time": "2022-08-10T10:19:48.294Z"
   },
   {
    "duration": 9,
    "start_time": "2022-08-10T10:19:48.312Z"
   },
   {
    "duration": 16,
    "start_time": "2022-08-10T10:19:48.323Z"
   },
   {
    "duration": 4,
    "start_time": "2022-08-10T10:19:48.368Z"
   },
   {
    "duration": 12,
    "start_time": "2022-08-10T10:19:48.373Z"
   },
   {
    "duration": 4,
    "start_time": "2022-08-10T10:19:48.387Z"
   },
   {
    "duration": 10,
    "start_time": "2022-08-10T10:19:48.393Z"
   },
   {
    "duration": 4,
    "start_time": "2022-08-10T10:19:48.405Z"
   },
   {
    "duration": 12,
    "start_time": "2022-08-10T10:19:48.411Z"
   },
   {
    "duration": 44,
    "start_time": "2022-08-10T10:19:48.425Z"
   },
   {
    "duration": 3,
    "start_time": "2022-08-10T10:19:48.472Z"
   },
   {
    "duration": 22,
    "start_time": "2022-08-10T10:19:48.477Z"
   },
   {
    "duration": 19,
    "start_time": "2022-08-10T10:19:48.501Z"
   },
   {
    "duration": 12,
    "start_time": "2022-08-10T10:19:48.522Z"
   },
   {
    "duration": 32,
    "start_time": "2022-08-10T10:19:48.536Z"
   },
   {
    "duration": 10,
    "start_time": "2022-08-10T10:19:48.570Z"
   },
   {
    "duration": 10,
    "start_time": "2022-08-10T10:19:48.582Z"
   },
   {
    "duration": 4,
    "start_time": "2022-08-10T10:19:48.594Z"
   },
   {
    "duration": 376,
    "start_time": "2022-08-10T10:19:59.826Z"
   },
   {
    "duration": 75,
    "start_time": "2022-08-10T10:20:00.205Z"
   },
   {
    "duration": 22,
    "start_time": "2022-08-10T10:20:00.282Z"
   },
   {
    "duration": 24,
    "start_time": "2022-08-10T10:20:00.306Z"
   },
   {
    "duration": 13,
    "start_time": "2022-08-10T10:20:00.332Z"
   },
   {
    "duration": 29,
    "start_time": "2022-08-10T10:20:00.347Z"
   },
   {
    "duration": 3,
    "start_time": "2022-08-10T10:20:00.378Z"
   },
   {
    "duration": 24,
    "start_time": "2022-08-10T10:20:00.383Z"
   },
   {
    "duration": 11,
    "start_time": "2022-08-10T10:20:00.409Z"
   },
   {
    "duration": 14,
    "start_time": "2022-08-10T10:20:00.422Z"
   },
   {
    "duration": 20,
    "start_time": "2022-08-10T10:20:00.437Z"
   },
   {
    "duration": 32,
    "start_time": "2022-08-10T10:20:00.458Z"
   },
   {
    "duration": 13,
    "start_time": "2022-08-10T10:20:00.492Z"
   },
   {
    "duration": 8,
    "start_time": "2022-08-10T10:20:00.506Z"
   },
   {
    "duration": 27,
    "start_time": "2022-08-10T10:20:00.516Z"
   },
   {
    "duration": 28,
    "start_time": "2022-08-10T10:20:00.545Z"
   },
   {
    "duration": 11,
    "start_time": "2022-08-10T10:20:00.575Z"
   },
   {
    "duration": 22,
    "start_time": "2022-08-10T10:20:00.587Z"
   },
   {
    "duration": 26,
    "start_time": "2022-08-10T10:20:00.611Z"
   },
   {
    "duration": 19,
    "start_time": "2022-08-10T10:20:00.639Z"
   },
   {
    "duration": 9,
    "start_time": "2022-08-10T10:20:00.660Z"
   },
   {
    "duration": 22188,
    "start_time": "2022-08-10T10:20:00.671Z"
   },
   {
    "duration": 405,
    "start_time": "2022-08-10T10:20:35.529Z"
   },
   {
    "duration": 75,
    "start_time": "2022-08-10T10:20:35.936Z"
   },
   {
    "duration": 28,
    "start_time": "2022-08-10T10:20:36.016Z"
   },
   {
    "duration": 30,
    "start_time": "2022-08-10T10:20:36.046Z"
   },
   {
    "duration": 9,
    "start_time": "2022-08-10T10:20:36.078Z"
   },
   {
    "duration": 16,
    "start_time": "2022-08-10T10:20:36.089Z"
   },
   {
    "duration": 4,
    "start_time": "2022-08-10T10:20:36.107Z"
   },
   {
    "duration": 9,
    "start_time": "2022-08-10T10:20:36.113Z"
   },
   {
    "duration": 4,
    "start_time": "2022-08-10T10:20:36.126Z"
   },
   {
    "duration": 43,
    "start_time": "2022-08-10T10:20:36.132Z"
   },
   {
    "duration": 5,
    "start_time": "2022-08-10T10:20:36.177Z"
   },
   {
    "duration": 13,
    "start_time": "2022-08-10T10:20:36.184Z"
   },
   {
    "duration": 11,
    "start_time": "2022-08-10T10:20:36.199Z"
   },
   {
    "duration": 4,
    "start_time": "2022-08-10T10:20:36.212Z"
   },
   {
    "duration": 50,
    "start_time": "2022-08-10T10:20:36.218Z"
   },
   {
    "duration": 19,
    "start_time": "2022-08-10T10:20:36.270Z"
   },
   {
    "duration": 12,
    "start_time": "2022-08-10T10:20:36.290Z"
   },
   {
    "duration": 10,
    "start_time": "2022-08-10T10:20:36.304Z"
   },
   {
    "duration": 12,
    "start_time": "2022-08-10T10:20:36.315Z"
   },
   {
    "duration": 9,
    "start_time": "2022-08-10T10:20:36.329Z"
   },
   {
    "duration": 27,
    "start_time": "2022-08-10T10:20:36.340Z"
   },
   {
    "duration": 22619,
    "start_time": "2022-08-10T10:20:36.369Z"
   },
   {
    "duration": 5,
    "start_time": "2022-08-10T10:20:58.991Z"
   },
   {
    "duration": 6,
    "start_time": "2022-08-10T10:21:06.532Z"
   },
   {
    "duration": 4,
    "start_time": "2022-08-10T10:21:14.710Z"
   },
   {
    "duration": 378,
    "start_time": "2022-08-10T10:21:39.308Z"
   },
   {
    "duration": 77,
    "start_time": "2022-08-10T10:21:39.688Z"
   },
   {
    "duration": 25,
    "start_time": "2022-08-10T10:21:39.767Z"
   },
   {
    "duration": 17,
    "start_time": "2022-08-10T10:21:39.794Z"
   },
   {
    "duration": 9,
    "start_time": "2022-08-10T10:21:39.813Z"
   },
   {
    "duration": 15,
    "start_time": "2022-08-10T10:21:39.824Z"
   },
   {
    "duration": 4,
    "start_time": "2022-08-10T10:21:39.868Z"
   },
   {
    "duration": 13,
    "start_time": "2022-08-10T10:21:39.874Z"
   },
   {
    "duration": 5,
    "start_time": "2022-08-10T10:21:39.889Z"
   },
   {
    "duration": 9,
    "start_time": "2022-08-10T10:21:39.897Z"
   },
   {
    "duration": 6,
    "start_time": "2022-08-10T10:21:39.908Z"
   },
   {
    "duration": 13,
    "start_time": "2022-08-10T10:21:39.916Z"
   },
   {
    "duration": 43,
    "start_time": "2022-08-10T10:21:39.931Z"
   },
   {
    "duration": 5,
    "start_time": "2022-08-10T10:21:39.975Z"
   },
   {
    "duration": 26,
    "start_time": "2022-08-10T10:21:39.982Z"
   },
   {
    "duration": 21,
    "start_time": "2022-08-10T10:21:40.010Z"
   },
   {
    "duration": 35,
    "start_time": "2022-08-10T10:21:40.033Z"
   },
   {
    "duration": 8,
    "start_time": "2022-08-10T10:21:40.070Z"
   },
   {
    "duration": 13,
    "start_time": "2022-08-10T10:21:40.079Z"
   },
   {
    "duration": 6,
    "start_time": "2022-08-10T10:21:40.094Z"
   },
   {
    "duration": 5,
    "start_time": "2022-08-10T10:21:40.101Z"
   },
   {
    "duration": 370,
    "start_time": "2022-08-10T10:22:01.022Z"
   },
   {
    "duration": 77,
    "start_time": "2022-08-10T10:22:01.395Z"
   },
   {
    "duration": 28,
    "start_time": "2022-08-10T10:22:01.475Z"
   },
   {
    "duration": 20,
    "start_time": "2022-08-10T10:22:01.505Z"
   },
   {
    "duration": 19,
    "start_time": "2022-08-10T10:22:01.527Z"
   },
   {
    "duration": 38,
    "start_time": "2022-08-10T10:22:01.548Z"
   },
   {
    "duration": 7,
    "start_time": "2022-08-10T10:22:01.588Z"
   },
   {
    "duration": 19,
    "start_time": "2022-08-10T10:22:01.597Z"
   },
   {
    "duration": 13,
    "start_time": "2022-08-10T10:22:01.618Z"
   },
   {
    "duration": 16,
    "start_time": "2022-08-10T10:22:01.633Z"
   },
   {
    "duration": 20,
    "start_time": "2022-08-10T10:22:01.651Z"
   },
   {
    "duration": 17,
    "start_time": "2022-08-10T10:22:01.673Z"
   },
   {
    "duration": 9,
    "start_time": "2022-08-10T10:22:01.692Z"
   },
   {
    "duration": 19,
    "start_time": "2022-08-10T10:22:01.702Z"
   },
   {
    "duration": 34,
    "start_time": "2022-08-10T10:22:01.722Z"
   },
   {
    "duration": 25,
    "start_time": "2022-08-10T10:22:01.758Z"
   },
   {
    "duration": 11,
    "start_time": "2022-08-10T10:22:01.784Z"
   },
   {
    "duration": 21,
    "start_time": "2022-08-10T10:22:01.797Z"
   },
   {
    "duration": 15,
    "start_time": "2022-08-10T10:22:01.820Z"
   },
   {
    "duration": 31,
    "start_time": "2022-08-10T10:22:01.837Z"
   },
   {
    "duration": 7,
    "start_time": "2022-08-10T10:22:01.870Z"
   },
   {
    "duration": 428,
    "start_time": "2022-08-10T10:22:15.151Z"
   },
   {
    "duration": 92,
    "start_time": "2022-08-10T10:22:15.581Z"
   },
   {
    "duration": 22,
    "start_time": "2022-08-10T10:22:15.675Z"
   },
   {
    "duration": 16,
    "start_time": "2022-08-10T10:22:15.698Z"
   },
   {
    "duration": 9,
    "start_time": "2022-08-10T10:22:15.716Z"
   },
   {
    "duration": 14,
    "start_time": "2022-08-10T10:22:15.726Z"
   },
   {
    "duration": 27,
    "start_time": "2022-08-10T10:22:15.741Z"
   },
   {
    "duration": 8,
    "start_time": "2022-08-10T10:22:15.769Z"
   },
   {
    "duration": 4,
    "start_time": "2022-08-10T10:22:15.779Z"
   },
   {
    "duration": 12,
    "start_time": "2022-08-10T10:22:15.785Z"
   },
   {
    "duration": 5,
    "start_time": "2022-08-10T10:22:15.799Z"
   },
   {
    "duration": 15,
    "start_time": "2022-08-10T10:22:15.805Z"
   },
   {
    "duration": 9,
    "start_time": "2022-08-10T10:22:15.822Z"
   },
   {
    "duration": 36,
    "start_time": "2022-08-10T10:22:15.834Z"
   },
   {
    "duration": 19,
    "start_time": "2022-08-10T10:22:15.872Z"
   },
   {
    "duration": 18,
    "start_time": "2022-08-10T10:22:15.893Z"
   },
   {
    "duration": 12,
    "start_time": "2022-08-10T10:22:15.913Z"
   },
   {
    "duration": 7,
    "start_time": "2022-08-10T10:22:15.926Z"
   },
   {
    "duration": 36,
    "start_time": "2022-08-10T10:22:15.935Z"
   },
   {
    "duration": 7,
    "start_time": "2022-08-10T10:22:15.972Z"
   },
   {
    "duration": 8,
    "start_time": "2022-08-10T10:22:15.981Z"
   },
   {
    "duration": 22467,
    "start_time": "2022-08-10T10:22:15.991Z"
   },
   {
    "duration": 10,
    "start_time": "2022-08-10T10:22:38.460Z"
   },
   {
    "duration": 8,
    "start_time": "2022-08-10T10:22:38.514Z"
   },
   {
    "duration": 6,
    "start_time": "2022-08-10T10:22:46.325Z"
   },
   {
    "duration": 6,
    "start_time": "2022-08-10T10:22:54.979Z"
   },
   {
    "duration": 6,
    "start_time": "2022-08-10T10:23:25.096Z"
   },
   {
    "duration": 5,
    "start_time": "2022-08-10T10:23:40.979Z"
   },
   {
    "duration": 72,
    "start_time": "2022-08-10T10:24:50.348Z"
   },
   {
    "duration": 7,
    "start_time": "2022-08-10T10:25:35.084Z"
   },
   {
    "duration": 3,
    "start_time": "2022-08-10T10:26:27.960Z"
   },
   {
    "duration": 85,
    "start_time": "2022-08-10T10:26:27.965Z"
   },
   {
    "duration": 16,
    "start_time": "2022-08-10T10:26:28.052Z"
   },
   {
    "duration": 16,
    "start_time": "2022-08-10T10:26:28.071Z"
   },
   {
    "duration": 10,
    "start_time": "2022-08-10T10:26:28.089Z"
   },
   {
    "duration": 17,
    "start_time": "2022-08-10T10:26:28.100Z"
   },
   {
    "duration": 3,
    "start_time": "2022-08-10T10:26:28.119Z"
   },
   {
    "duration": 44,
    "start_time": "2022-08-10T10:26:28.124Z"
   },
   {
    "duration": 5,
    "start_time": "2022-08-10T10:26:28.171Z"
   },
   {
    "duration": 11,
    "start_time": "2022-08-10T10:26:28.178Z"
   },
   {
    "duration": 9,
    "start_time": "2022-08-10T10:26:28.190Z"
   },
   {
    "duration": 15,
    "start_time": "2022-08-10T10:26:28.201Z"
   },
   {
    "duration": 22,
    "start_time": "2022-08-10T10:26:28.218Z"
   },
   {
    "duration": 6,
    "start_time": "2022-08-10T10:26:28.242Z"
   },
   {
    "duration": 35,
    "start_time": "2022-08-10T10:26:28.249Z"
   },
   {
    "duration": 19,
    "start_time": "2022-08-10T10:26:28.285Z"
   },
   {
    "duration": 11,
    "start_time": "2022-08-10T10:26:28.305Z"
   },
   {
    "duration": 7,
    "start_time": "2022-08-10T10:26:28.318Z"
   },
   {
    "duration": 16,
    "start_time": "2022-08-10T10:26:28.326Z"
   },
   {
    "duration": 25,
    "start_time": "2022-08-10T10:26:28.344Z"
   },
   {
    "duration": 5,
    "start_time": "2022-08-10T10:26:28.370Z"
   },
   {
    "duration": 13,
    "start_time": "2022-08-10T10:26:28.376Z"
   },
   {
    "duration": 6,
    "start_time": "2022-08-10T11:42:49.431Z"
   },
   {
    "duration": 3,
    "start_time": "2022-08-10T11:42:58.555Z"
   },
   {
    "duration": 80,
    "start_time": "2022-08-10T11:42:58.560Z"
   },
   {
    "duration": 19,
    "start_time": "2022-08-10T11:42:58.642Z"
   },
   {
    "duration": 21,
    "start_time": "2022-08-10T11:42:58.663Z"
   },
   {
    "duration": 20,
    "start_time": "2022-08-10T11:42:58.686Z"
   },
   {
    "duration": 19,
    "start_time": "2022-08-10T11:42:58.708Z"
   },
   {
    "duration": 3,
    "start_time": "2022-08-10T11:42:58.729Z"
   },
   {
    "duration": 27,
    "start_time": "2022-08-10T11:42:58.734Z"
   },
   {
    "duration": 20,
    "start_time": "2022-08-10T11:42:58.764Z"
   },
   {
    "duration": 13,
    "start_time": "2022-08-10T11:42:58.786Z"
   },
   {
    "duration": 9,
    "start_time": "2022-08-10T11:42:58.800Z"
   },
   {
    "duration": 17,
    "start_time": "2022-08-10T11:42:58.810Z"
   },
   {
    "duration": 11,
    "start_time": "2022-08-10T11:42:58.829Z"
   },
   {
    "duration": 10,
    "start_time": "2022-08-10T11:42:58.841Z"
   },
   {
    "duration": 27,
    "start_time": "2022-08-10T11:42:58.853Z"
   },
   {
    "duration": 23,
    "start_time": "2022-08-10T11:42:58.882Z"
   },
   {
    "duration": 51,
    "start_time": "2022-08-10T11:42:58.907Z"
   },
   {
    "duration": 12,
    "start_time": "2022-08-10T11:42:58.960Z"
   },
   {
    "duration": 18,
    "start_time": "2022-08-10T11:42:58.974Z"
   },
   {
    "duration": 16,
    "start_time": "2022-08-10T11:42:58.994Z"
   },
   {
    "duration": 6,
    "start_time": "2022-08-10T11:42:59.012Z"
   },
   {
    "duration": 26,
    "start_time": "2022-08-10T11:42:59.019Z"
   },
   {
    "duration": 2,
    "start_time": "2022-08-10T11:45:28.342Z"
   },
   {
    "duration": 72,
    "start_time": "2022-08-10T11:45:28.346Z"
   },
   {
    "duration": 15,
    "start_time": "2022-08-10T11:45:28.420Z"
   },
   {
    "duration": 16,
    "start_time": "2022-08-10T11:45:28.437Z"
   },
   {
    "duration": 17,
    "start_time": "2022-08-10T11:45:28.455Z"
   },
   {
    "duration": 13,
    "start_time": "2022-08-10T11:45:28.473Z"
   },
   {
    "duration": 3,
    "start_time": "2022-08-10T11:45:28.488Z"
   },
   {
    "duration": 11,
    "start_time": "2022-08-10T11:45:28.493Z"
   },
   {
    "duration": 4,
    "start_time": "2022-08-10T11:45:28.506Z"
   },
   {
    "duration": 9,
    "start_time": "2022-08-10T11:45:28.511Z"
   },
   {
    "duration": 5,
    "start_time": "2022-08-10T11:45:28.522Z"
   },
   {
    "duration": 44,
    "start_time": "2022-08-10T11:45:28.528Z"
   },
   {
    "duration": 9,
    "start_time": "2022-08-10T11:45:28.574Z"
   },
   {
    "duration": 5,
    "start_time": "2022-08-10T11:45:28.585Z"
   },
   {
    "duration": 21,
    "start_time": "2022-08-10T11:45:28.592Z"
   },
   {
    "duration": 19,
    "start_time": "2022-08-10T11:45:28.614Z"
   },
   {
    "duration": 35,
    "start_time": "2022-08-10T11:45:28.634Z"
   },
   {
    "duration": 6,
    "start_time": "2022-08-10T11:45:28.672Z"
   },
   {
    "duration": 13,
    "start_time": "2022-08-10T11:45:28.680Z"
   },
   {
    "duration": 9,
    "start_time": "2022-08-10T11:45:28.695Z"
   },
   {
    "duration": 5,
    "start_time": "2022-08-10T11:45:28.706Z"
   },
   {
    "duration": 21,
    "start_time": "2022-08-10T11:45:28.713Z"
   }
  ],
  "colab": {
   "name": "dpp_template_part1.ipynb",
   "provenance": []
  },
  "language_info": {
   "codemirror_mode": {
    "name": "ipython",
    "version": 3
   },
   "file_extension": ".py",
   "mimetype": "text/x-python",
   "name": "python",
   "nbconvert_exporter": "python",
   "pygments_lexer": "ipython3",
   "version": "3.7.7"
  },
  "notebookId": "638603c0-3313-49d8-a983-6566756b5dbf",
  "notebookPath": "YANDEX/2_01.ipynb",
  "toc": {
   "base_numbering": 1,
   "nav_menu": {},
   "number_sections": true,
   "sideBar": true,
   "skip_h1_title": true,
   "title_cell": "Table of Contents",
   "title_sidebar": "Contents",
   "toc_cell": false,
   "toc_position": {},
   "toc_section_display": true,
   "toc_window_display": false
  }
 },
 "nbformat": 4,
 "nbformat_minor": 5
}
