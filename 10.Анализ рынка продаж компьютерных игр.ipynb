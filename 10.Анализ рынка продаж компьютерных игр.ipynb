{
 "cells": [
  {
   "cell_type": "markdown",
   "metadata": {
    "cellId": "w07dewdfhwy7omeu0magj",
    "execution_id": "cfdf373f-f8e8-4577-bc63-6501b2713c10"
   },
   "source": [
    "# Анализ рынка продаж компьютерных игр"
   ]
  },
  {
   "cell_type": "markdown",
   "metadata": {
    "cellId": "mtmxunp5vdeg4j10leffkf"
   },
   "source": [
    "Описание проекта: \n",
    "- У нас есть данные интернет-магазина «Стримчик», который продаёт по всему миру компьютерные игры.\n",
    "- Из открытых источников доступны исторические данные о продажах игр, оценки пользователей и экспертов, жанры и платформы (например, Xbox или PlayStation). \n",
    "- Нам нужно выявить определяющие успешность игры закономерности. Это позволит сделать ставку на потенциально популярный продукт и спланировать рекламные кампании.\n",
    "- Перед вами данные до 2016 года. Планируется кампания на 2017-й. Нужно отработать принцип работы с данными.\n",
    "- В наборе данных попадается аббревиатура ESRB (Entertainment Software Rating Board) — это ассоциация, определяющая возрастной рейтинг компьютерных игр. ESRB оценивает игровой контент и присваивает ему подходящую возрастную категорию, например, «Для взрослых», «Для детей младшего возраста» или «Для подростков».\n",
    "\n",
    "Описание данных:\n",
    "\n",
    "- Name — название игры\n",
    "- Platform — платформа\n",
    "- Year_of_Release — год выпуска\n",
    "- Genre — жанр игры\n",
    "- NA_sales — продажи в Северной Америке (миллионы долларов)\n",
    "- EU_sales — продажи в Европе (миллионы долларов)\n",
    "- JP_sales — продажи в Японии (миллионы долларов)\n",
    "- Other_sales — продажи в других странах (миллионы долларов)\n",
    "- Critic_Score — оценка критиков (максимум 100)\n",
    "- User_Score — оценка пользователей (максимум 10)\n",
    "- Rating — рейтинг от организации ESRB (англ. Entertainment Software Rating Board). Эта ассоциация определяет рейтинг компьютерных игр и присваивает им подходящую возрастную категорию.\n",
    "\n"
   ]
  },
  {
   "cell_type": "code",
   "execution_count": null,
   "metadata": {
    "cellId": "7xeqkm5t4vtvik95lz870g"
   },
   "outputs": [],
   "source": [
    "# импортируем потенциально необходимые нам библиотеки\n",
    "\n",
    "import pandas as pd\n",
    "import numpy as np\n",
    "import scipy\n",
    "import plotly.express as px\n",
    "import plotly.graph_objects as go\n",
    "import seaborn as sns\n",
    "from scipy import stats as st\n",
    "from scipy.stats import levene\n",
    "import math\n",
    "import matplotlib.pyplot as plt\n",
    "from plotly.subplots import make_subplots\n"
   ]
  },
  {
   "cell_type": "markdown",
   "metadata": {
    "cellId": "qvm1brngmivlm78bof10j"
   },
   "source": [
    "# Шаг 1. Откройте файл с данными и изучите общую информацию"
   ]
  },
  {
   "cell_type": "code",
   "execution_count": null,
   "metadata": {
    "cellId": "ppx9fjhin9vg2zi72t1h"
   },
   "outputs": [],
   "source": [
    "try:\n",
    "    game_data = pd.read_csv(\"/datasets/games.csv\")  \n",
    "\n",
    "except:\n",
    "    print(\"Есть ошибки\")\n",
    "else:\n",
    "    print(\"Все загрузилось!\")"
   ]
  },
  {
   "cell_type": "code",
   "execution_count": null,
   "metadata": {
    "cellId": "xfdbxw0bc8ila148y04y88"
   },
   "outputs": [],
   "source": [
    "# посчитаем количество дубликатов\n",
    "game_data.duplicated().sum()"
   ]
  },
  {
   "cell_type": "markdown",
   "metadata": {
    "cellId": "tjw8np1rk0jszpi4kr71hk"
   },
   "source": [
    "Дубликатов нет."
   ]
  },
  {
   "cell_type": "code",
   "execution_count": null,
   "metadata": {
    "cellId": "zhuvuu1bpunp556mlcu5"
   },
   "outputs": [],
   "source": [
    "# посчитаем количество пустых значений\n",
    "game_data.isna().sum()"
   ]
  },
  {
   "cell_type": "code",
   "execution_count": null,
   "metadata": {
    "cellId": "ww0z2nhmcbhdoi0rd0xnp"
   },
   "outputs": [],
   "source": [
    "# посмотрим на столбцы:\n",
    "game_data.columns"
   ]
  },
  {
   "cell_type": "code",
   "execution_count": null,
   "metadata": {
    "cellId": "vbfz2r4imtdniu6ne0htu"
   },
   "outputs": [],
   "source": [
    "# отобразим таблицу, где имеются пустые значения в столбце Сritic_Score:\n",
    "game_data[game_data['Critic_Score'].isna()]"
   ]
  },
  {
   "cell_type": "code",
   "execution_count": null,
   "metadata": {
    "cellId": "3te9ww1z3uwnnkerx0ehvn"
   },
   "outputs": [],
   "source": [
    "# отобразим таблицу, где имеются пустые значения в столбце user_score:\n",
    "game_data[game_data['User_Score'].isna()]"
   ]
  },
  {
   "cell_type": "code",
   "execution_count": null,
   "metadata": {
    "cellId": "zenngj6ln3xgkbhsvfwd"
   },
   "outputs": [],
   "source": [
    "# отобразим таблицу, где имеются пустые значения в столбце Rating:\n",
    "game_data[game_data['Rating'].isna()]"
   ]
  },
  {
   "cell_type": "code",
   "execution_count": null,
   "metadata": {
    "cellId": "hgaho9x8bqgfdbalawtiot"
   },
   "outputs": [],
   "source": [
    "# отобразим таблицу, где имеются пустые значения в столбце Year_of_release:\n",
    "game_data[game_data['Year_of_Release'].isna()]"
   ]
  },
  {
   "cell_type": "code",
   "execution_count": null,
   "metadata": {
    "cellId": "tioc3e5a27fzssdpkhfr9"
   },
   "outputs": [],
   "source": [
    "# отобразим платформы:\n",
    "game_data['Platform'].value_counts()"
   ]
  },
  {
   "cell_type": "code",
   "execution_count": null,
   "metadata": {
    "cellId": "xz20r01z48hrxcabp6l4g"
   },
   "outputs": [],
   "source": [
    "# отобразим жанры:\n",
    "game_data['Genre'].value_counts()"
   ]
  },
  {
   "cell_type": "markdown",
   "metadata": {
    "cellId": "d51iiq0dkiap7n1c8zdcj7"
   },
   "source": [
    "Выводы:\n",
    "\n",
    "- Необходимо внести изменения в данные столбца \"Year of Release\".\n",
    "- Также нужно привести к нижнему регистру названия колонок и можно данные столбцов.\n",
    "- Имеются пустые значения в столбцах rating, user_score, critic_score, name,year_of_release,genre.\n",
    "- Дубликатов нет."
   ]
  },
  {
   "cell_type": "markdown",
   "metadata": {
    "cellId": "a9ez59xpsd6q4h9fsujxa"
   },
   "source": [
    "# Шаг 2. Подготовьте данные"
   ]
  },
  {
   "cell_type": "markdown",
   "metadata": {
    "cellId": "7m0gorlonc2yyzbs5felx"
   },
   "source": [
    "Задание:\n",
    "- Замените названия столбцов (приведите к нижнему регистру);\n",
    "- Преобразуйте данные в нужные типы. Опишите, в каких столбцах заменили тип данных и почему;\n",
    "- Обработайте пропуски при необходимости:\n",
    "- Объясните, почему заполнили пропуски определённым образом или почему не стали это делать;\n",
    "- Опишите причины, которые могли привести к пропускам;\n",
    "- Обратите внимание на аббревиатуру 'tbd' в столбце с оценкой пользователей. Отдельно разберите это значение и опишите, как его обработать;\n",
    "- Посчитайте суммарные продажи во всех регионах и запишите их в отдельный столбец."
   ]
  },
  {
   "cell_type": "code",
   "execution_count": null,
   "metadata": {
    "cellId": "mzkdyo4wobdi2okainby4"
   },
   "outputs": [],
   "source": [
    "# приведем к нижнему регистру наименования столбцов\n",
    "game_data.columns = map(str.lower,game_data.columns)"
   ]
  },
  {
   "cell_type": "code",
   "execution_count": null,
   "metadata": {
    "cellId": "er0gx09rlrm1n1yvek5tzh"
   },
   "outputs": [],
   "source": [
    "# выведем обновленные наименования столбцов( для проверки обновления)\n",
    "list(game_data.columns.values)"
   ]
  },
  {
   "cell_type": "code",
   "execution_count": null,
   "metadata": {
    "cellId": "g62qnfq4q1bqnmfnub72mr"
   },
   "outputs": [],
   "source": [
    "# приведем к нижнему регистру следующие столбцы\n",
    "for column in game_data[['name','platform','genre']]:\n",
    "    game_data[column] = game_data[column].str.lower()"
   ]
  },
  {
   "cell_type": "code",
   "execution_count": null,
   "metadata": {
    "cellId": "x070uj0owr6ld093trnm7"
   },
   "outputs": [],
   "source": [
    "# выведем первые 10 строк таблицы:\n",
    "display(game_data.head(10))"
   ]
  },
  {
   "cell_type": "markdown",
   "metadata": {
    "cellId": "53mbdl72rsco8944lfurun"
   },
   "source": [
    "Столбцы platform, na_sales, eu_sales, jp_sales,other_sales содержат одинаковое количество строк: 16715."
   ]
  },
  {
   "cell_type": "code",
   "execution_count": null,
   "metadata": {
    "cellId": "mfi4ywoxs9qtk199tgxdr"
   },
   "outputs": [],
   "source": [
    "game_data.shape"
   ]
  },
  {
   "cell_type": "code",
   "execution_count": null,
   "metadata": {
    "cellId": "jf5442teqsptbzxk6pcmg"
   },
   "outputs": [],
   "source": [
    "game_data.describe(include = \"all\")"
   ]
  },
  {
   "cell_type": "code",
   "execution_count": null,
   "metadata": {
    "cellId": "msom4iv33mo39o0bd4uk74"
   },
   "outputs": [],
   "source": [
    "# удаляем строки с пустыми значениями в столбцах\n",
    "game_data.dropna(subset = ['name', 'year_of_release', 'genre'], inplace = True)"
   ]
  },
  {
   "cell_type": "code",
   "execution_count": null,
   "metadata": {
    "cellId": "c1p94nfyti67esev5zf0fd"
   },
   "outputs": [],
   "source": [
    "game_data.isna().sum()"
   ]
  },
  {
   "cell_type": "code",
   "execution_count": null,
   "metadata": {
    "cellId": "plg9hael7xoryfre4bbgx"
   },
   "outputs": [],
   "source": [
    "# изменим тип данных в столбце \"year_of_release\", так годы выпуска выглядят более корректно\n",
    "game_data['year_of_release'] = game_data['year_of_release'].astype('Int64')"
   ]
  },
  {
   "cell_type": "code",
   "execution_count": null,
   "metadata": {
    "cellId": "qdikhqyagayvbsnmru6c"
   },
   "outputs": [],
   "source": [
    "game_data.info()"
   ]
  },
  {
   "cell_type": "code",
   "execution_count": null,
   "metadata": {
    "cellId": "wsobyfq5znjntxfeh2c3a"
   },
   "outputs": [],
   "source": [
    "# заполняем столбцы critic_score, user_score медианой \n",
    "game_data.loc[game_data['critic_score'].isna(), 'critic_score'] = -1\n",
    "game_data.loc[game_data['user_score'].isna(), 'user_score'] = -1"
   ]
  },
  {
   "cell_type": "markdown",
   "metadata": {
    "cellId": "ukz3n9fmzwi4ixsy52jyo"
   },
   "source": [
    "Мы не можем заменить NaN в рейтинге с данными."
   ]
  },
  {
   "cell_type": "code",
   "execution_count": null,
   "metadata": {
    "cellId": "bj83yehyo6e8ywbdgnxso"
   },
   "outputs": [],
   "source": [
    "# Проверим каждое значение \"рейтинге\"\n",
    "game_data.rating.value_counts()"
   ]
  },
  {
   "cell_type": "code",
   "execution_count": null,
   "metadata": {
    "cellId": "uaxw7f1oh5arl78fajwzna"
   },
   "outputs": [],
   "source": [
    "game_data.rating.isnull().sum()"
   ]
  },
  {
   "cell_type": "code",
   "execution_count": null,
   "metadata": {
    "cellId": "9pmwrommpnjpkniwcv0et9"
   },
   "outputs": [],
   "source": [
    "# так сейчас выглядят данные таблицы\n",
    "game_data.sample(5)"
   ]
  },
  {
   "cell_type": "markdown",
   "metadata": {
    "cellId": "4trrk6r6owkontt6z2v82"
   },
   "source": [
    "Аббревиатура tbd = to be determined, to be done. \n",
    "Данные были не заполнены, можно заменить \"tbd\" на \"nan\"."
   ]
  },
  {
   "cell_type": "code",
   "execution_count": null,
   "metadata": {
    "cellId": "ynahwbqynt8nhmsio7in"
   },
   "outputs": [],
   "source": [
    "#заменим tbd на nan\n",
    "game_data['user_score'] = game_data['user_score'].replace('tbd', np.nan, regex=True)"
   ]
  },
  {
   "cell_type": "code",
   "execution_count": null,
   "metadata": {
    "cellId": "s44b94qds2hcqoel6evulr"
   },
   "outputs": [],
   "source": [
    "#поменяем формат столбца user_score на float\n",
    "game_data['user_score'] = game_data['user_score'].astype(float)\n",
    "game_data['user_score'].dtype"
   ]
  },
  {
   "cell_type": "markdown",
   "metadata": {
    "cellId": "59si755rd36zknj9apuej"
   },
   "source": [
    "Посчитаем суммарные продажи во всех регионах и запишем их в отдельный столбец \"total_sales\":"
   ]
  },
  {
   "cell_type": "code",
   "execution_count": null,
   "metadata": {
    "cellId": "02prqm89tarlivpqgce2bz"
   },
   "outputs": [],
   "source": [
    "#создадим новый столбец \"total_sales\"\n",
    "game_data['total_sales'] = game_data['na_sales'] + game_data['eu_sales'] + game_data['jp_sales'] + game_data['other_sales']"
   ]
  },
  {
   "cell_type": "code",
   "execution_count": null,
   "metadata": {
    "cellId": "tix1tesy1h9fd818tgi4wd"
   },
   "outputs": [],
   "source": [
    "list(game_data.columns.values)"
   ]
  },
  {
   "cell_type": "code",
   "execution_count": null,
   "metadata": {
    "cellId": "qvghd31holcujfagw8t2kc"
   },
   "outputs": [],
   "source": [
    "# можно заполнить значения с пометкой NaN постоянным значением, эти значения теперь являются фактическими значениями, а не NaN .\n",
    "game_data['rating'].fillna('нет данных', inplace=True) "
   ]
  },
  {
   "cell_type": "code",
   "execution_count": null,
   "metadata": {
    "cellId": "jnfr2f0kdrek48vmhz3zss"
   },
   "outputs": [],
   "source": [
    "game_data.sample(5)"
   ]
  },
  {
   "cell_type": "markdown",
   "metadata": {
    "cellId": "p54qlkis12nk521rxvakb"
   },
   "source": [
    "Основные выводы по подготовке данных:\n",
    "\n",
    "- Привели к нижнему регистру все столбцы таблицы.\n",
    "- Привели к корректному типу данных столбец \"year of release\".\n",
    "- Дубликатов не выявлено.\n",
    "- Поменяли значение \"tbd\" столбца 'user_score'на nan.\n",
    "- Убрали пустые значения в столбцах 'name', 'year_of_release', 'genre'.\n",
    "- Заполнили столбцы \"critic_score\", \"user_score\" медианой, поменяли формат столбца \"user_score\" на \"float\".\n",
    "- Данные по суммарным продажам вынесены в столбик \"total_sales\"."
   ]
  },
  {
   "cell_type": "markdown",
   "metadata": {
    "cellId": "3e0s9w14n32n09yskzdzcl"
   },
   "source": [
    "# Шаг 3. Проведите исследовательский анализ данных"
   ]
  },
  {
   "cell_type": "markdown",
   "metadata": {
    "cellId": "1qa4s5pda7e7mgmibhjd07"
   },
   "source": [
    "Задание:\n",
    "\n",
    "- Посмотрите, сколько игр выпускалось в разные годы. Важны ли данные за все периоды?\n",
    "- Посмотрите, как менялись продажи по платформам. Выберите платформы с наибольшими суммарными продажами и постройте распределение по годам. За какой характерный срок появляются новые и исчезают старые платформы?\n",
    "- Возьмите данные за соответствующий актуальный период. Актуальный период определите самостоятельно в результате исследования предыдущих вопросов. Основной фактор — эти данные помогут построить прогноз на 2017 год.\n",
    "- Не учитывайте в работе данные за предыдущие годы.\n",
    "- Какие платформы лидируют по продажам, растут или падают? Выберите несколько потенциально прибыльных платформ.\n",
    "- Постройте график «ящик с усами» по глобальным продажам игр в разбивке по платформам. Опишите результат.\n",
    "- Посмотрите, как влияют на продажи внутри одной популярной платформы отзывы пользователей и критиков. Постройте диаграмму рассеяния и посчитайте корреляцию между отзывами и продажами. Сформулируйте выводы.\n",
    "- Соотнесите выводы с продажами игр на других платформах.\n",
    "- Посмотрите на общее распределение игр по жанрам. Что можно сказать о самых прибыльных жанрах? Выделяются ли жанры с высокими и низкими продажами?"
   ]
  },
  {
   "cell_type": "code",
   "execution_count": null,
   "metadata": {
    "cellId": "aixcdi9ho8a4z55j75apj"
   },
   "outputs": [],
   "source": [
    "# перечень платформ\n",
    "game_data['platform'].value_counts()"
   ]
  },
  {
   "cell_type": "code",
   "execution_count": null,
   "metadata": {
    "cellId": "93t3zzhqr1oelmgxsh35v5"
   },
   "outputs": [],
   "source": [
    "#сколько игр выпускалось в разные годы - 'year_of_release'\n",
    "game_data['year_of_release'].value_counts()"
   ]
  },
  {
   "cell_type": "code",
   "execution_count": null,
   "metadata": {
    "cellId": "2vn0lbtqb9n5wiobclaptc"
   },
   "outputs": [],
   "source": [
    "game_data['year_of_release'].hist()"
   ]
  },
  {
   "cell_type": "code",
   "execution_count": null,
   "metadata": {
    "cellId": "h82ofaw1kjw9yggft5i0uj"
   },
   "outputs": [],
   "source": [
    "# создадим сводную таблицу на основе year_of_release:\n",
    "game_year = game_data.pivot_table(index = 'year_of_release', values= 'name', aggfunc='count' ).reset_index()\n",
    "game_year.columns = ['year', 'games_count']\n",
    "game_year = game_year.sort_values('games_count', ascending=False)\n",
    "game_year.head(5)"
   ]
  },
  {
   "cell_type": "code",
   "execution_count": null,
   "metadata": {
    "cellId": "pqoxok1cyr6svqp9k14u8"
   },
   "outputs": [],
   "source": [
    "fig = px.bar(game_year, x = 'year', y = 'games_count',\n",
    "             title='Гистограмма выпуска игр по каждому году',\n",
    "            labels=dict(year='Годы', games_count=\"Количество игр\"))\n",
    "\n",
    "fig.show()"
   ]
  },
  {
   "cell_type": "markdown",
   "metadata": {
    "cellId": "xm50ryp8ykn1tyiz88vtbh"
   },
   "source": [
    "По графику видно, количество игр начало расти с 1990-х годов по 2008 год, затем последовал некторый спад. \n",
    "Данные за весь период не важны, так как есть периоды с минимальными показателями.Для анализа и прогноза на 2017 год\n",
    "целесообразно выделить годы, по которым можно будет анализировать динамику продаж.\n",
    "Выберем платформы с наибольшими продажами и построим распределение по годам, актуальный период определим самостоятельно.Посмотрим как менялись продажи по платформам. \n",
    "Выберем платформы с наибольшим общим объемом продаж и построим данные по продажам за каждый год."
   ]
  },
  {
   "cell_type": "code",
   "execution_count": null,
   "metadata": {
    "cellId": "sp27j6gtdkklpe5qihl8xq"
   },
   "outputs": [],
   "source": [
    "top_10 = game_data.pivot_table(index = ['platform'], values = 'total_sales', aggfunc = 'sum').reset_index().sort_values(\"total_sales\", ascending=False)\n",
    "top_10 = top_10.nlargest(10, 'total_sales')\n",
    "top_10.head(10)"
   ]
  },
  {
   "cell_type": "markdown",
   "metadata": {
    "cellId": "xwc5xll544j170fckg2u6z"
   },
   "source": [
    "Построим сводную таблицу данных для общего объема продаж по каждой платформе "
   ]
  },
  {
   "cell_type": "code",
   "execution_count": null,
   "metadata": {
    "cellId": "3canmk19dnd092r3a3879p2"
   },
   "outputs": [],
   "source": [
    "top_list = top_10['platform'].tolist()\n",
    "only_top = game_data.query('platform in @top_list')\n",
    "platform = only_top.pivot_table(index = ['platform','year_of_release' ], values = 'total_sales', aggfunc = 'sum').reset_index()\n",
    "platform.head()"
   ]
  },
  {
   "cell_type": "code",
   "execution_count": null,
   "metadata": {
    "cellId": "fobb62xkx3bncxdkaq859"
   },
   "outputs": [],
   "source": [
    "#продажи платформы за каждый год\n",
    "fig = px.scatter(platform, x='year_of_release', y='platform',\n",
    "                 title='Продажи платформ по годам',\n",
    "            labels=dict(year_of_release='Годы', platform=\"Платформа\",\n",
    "             height=500))\n",
    "fig.show()"
   ]
  },
  {
   "cell_type": "markdown",
   "metadata": {
    "cellId": "ydnys1ets7lq4l0gmr66rf"
   },
   "source": [
    "Из  диаграммы мы можем видеть жизненный цикл платформы:\n",
    "PS, PS2, GBA и DS - раньше были востребованы, X360, Wii, PS3 и PS4 - присутствуют на рынке."
   ]
  },
  {
   "cell_type": "code",
   "execution_count": null,
   "metadata": {
    "cellId": "p1qz41kxaxybnle4j3ukk"
   },
   "outputs": [],
   "source": [
    "fig = px.area(platform, x=\"year_of_release\", y=\"total_sales\", color=\"platform\",\n",
    "               title='Продажи по каждой платформе',\n",
    "            labels=dict(year_of_release='Годы', platform=\"Platform\",total_sales=\"Продажи\" ),\n",
    "              line_group=\"platform\",\n",
    "             height=600)\n",
    "fig.show()"
   ]
  },
  {
   "cell_type": "markdown",
   "metadata": {
    "cellId": "gzdox5ppmsovatprz0sp6"
   },
   "source": [
    "Жизненный цикл игрового продукта - около 10 лет. "
   ]
  },
  {
   "cell_type": "markdown",
   "metadata": {
    "cellId": "r7b8jkcjjvgd2be80342al"
   },
   "source": [
    "Для планирования и прогнозирования продаж  на 2017 год важно использовать только релевантные данные за 2014-2016гг.:"
   ]
  },
  {
   "cell_type": "code",
   "execution_count": null,
   "metadata": {
    "cellId": "wwtcrs88jaey4hudowrcip"
   },
   "outputs": [],
   "source": [
    "# отфильтруем годы после 2014\n",
    "filtered= game_data.query('year_of_release >= 2014')\n",
    "filtered.sort_values(by='total_sales')\n",
    "filtered.head()"
   ]
  },
  {
   "cell_type": "code",
   "execution_count": null,
   "metadata": {
    "cellId": "s14v5hwcc1g2fuddy9q00v"
   },
   "outputs": [],
   "source": [
    "#сводная таблица для определения общего объема продаж на каждой платформе по годам\n",
    "game_year = pd.pivot_table(filtered, index='year_of_release', columns='platform', values='total_sales', aggfunc=sum, fill_value=0)\n",
    "game_year.head()"
   ]
  },
  {
   "cell_type": "code",
   "execution_count": null,
   "metadata": {
    "cellId": "9mat407m6nfx0p1i033exd"
   },
   "outputs": [],
   "source": [
    "# cравним:\n",
    "trend = game_year\n",
    "trend.head(5)"
   ]
  },
  {
   "cell_type": "code",
   "execution_count": null,
   "metadata": {
    "cellId": "y7m2culad09snbwotwbt1"
   },
   "outputs": [],
   "source": [
    "# построим тепловую карту продаж платформ за период 2014-2016гг.\n",
    "\n",
    "fig = px.imshow(trend,\n",
    "                labels=dict(year_of_release=\"Year\", platform=\"Platform\"),\n",
    "                title='Продажи платформ за период 2014-2016 гг.',\n",
    "                height=300)\n",
    "\n",
    "fig.show()"
   ]
  },
  {
   "cell_type": "markdown",
   "metadata": {
    "cellId": "1ca9f22z6n78jmza6lwlpx"
   },
   "source": [
    "Тепловая карта показывает:\n",
    "Платформа PS4 была очень популярна в 2014-2015гг., но в 2016 году упала.\n",
    "Xbox One занимает второе место по продажам в 2014 году и с тех пор начала постепенно падать.\n",
    "У Xbox 360 в 2014 году продажи упали, но в 2015-2016 годах немного выровнялись.\n",
    "Продажи Wii немного снизились в 2014 года.\n",
    "Продажи PS3 просели в 2014 году, а PS4 стала популярной."
   ]
  },
  {
   "cell_type": "code",
   "execution_count": null,
   "metadata": {
    "cellId": "b7xrnbweh2hkt3dr2unwe"
   },
   "outputs": [],
   "source": [
    "# сгруппируем данные по годам и платформе с общей суммой продаж\n",
    "avg_sale = filtered.groupby(['platform'])['total_sales'].sum().reset_index()\n",
    "avg_sale.sort_values('total_sales', ascending=True)"
   ]
  },
  {
   "cell_type": "markdown",
   "metadata": {
    "cellId": "bzsiucqshfe2ec8g6uvbxy"
   },
   "source": [
    "Топ-5 платформ ( с выручкой более 100 млн):\n",
    "\n",
    "- PS4 (314,14)\n",
    "- PS3 (288,79)\n",
    "- X360 (236,54) \n",
    "- 3DS (194,61) \n",
    "- XOne (159,323)\n"
   ]
  },
  {
   "cell_type": "code",
   "execution_count": null,
   "metadata": {
    "cellId": "aku0j9k9zi1pc5evclzx6"
   },
   "outputs": [],
   "source": [
    "# сгруппируем данные по годам, платформе с общей суммой продаж:\n",
    "total_sale = filtered.groupby(['platform','year_of_release'])['total_sales'].sum().reset_index()\n",
    "total_sale.sample(5)"
   ]
  },
  {
   "cell_type": "code",
   "execution_count": null,
   "metadata": {
    "cellId": "o72w9lr80hiwlthoqva38"
   },
   "outputs": [],
   "source": [
    "# построим график box-and-whisker plot: \n",
    "fig = px.box(total_sale, x=\"platform\", y=\"total_sales\", color='platform',\n",
    "            title='Средние продажи на различных платформах 2014-2016гг.',\n",
    "            labels=dict(total_sales='Total Sales', platform=\"Platform\"),\n",
    "            height=600).update_xaxes(categoryorder = 'total descending')\n",
    "fig.show()"
   ]
  },
  {
   "cell_type": "markdown",
   "metadata": {
    "cellId": "llswodlk26er69zjsvrt0p"
   },
   "source": [
    "PS4 является лидером рынка по среднему общему объему продаж, за ней следуют  xone, 3DS, ps3."
   ]
  },
  {
   "cell_type": "markdown",
   "metadata": {
    "cellId": "r2tmvbnlh21ouphvrze7w"
   },
   "source": [
    "Как отзывы пользователей и профессионалов влияют на продажи платформы. Для этого проанализируем, например, xone."
   ]
  },
  {
   "cell_type": "code",
   "execution_count": null,
   "metadata": {
    "cellId": "q6w0jgw23794sdow04v0gy"
   },
   "outputs": [],
   "source": [
    "# выберем для анализа xone\n",
    "xone = filtered.query(' platform == \"xone\"')\n",
    "xone.head()"
   ]
  },
  {
   "cell_type": "code",
   "execution_count": null,
   "metadata": {
    "cellId": "zltiy9m6ridtbpwrhzqmi"
   },
   "outputs": [],
   "source": [
    "# Посмотрим на графическое представление продаж xone и данных по отзывам пользователей и критиков\n",
    "fig, axs = plt.subplots(ncols=2, figsize=(18, 7))\n",
    "sns.regplot(x=\"user_score\", y=\"total_sales\", data=xone, ax=axs[0], color='b')\n",
    "sns.regplot(x=\"critic_score\", y=\"total_sales\", data=xone, ax=axs[1], color='r')\n",
    "axs[0].set_title('Отзывы пользователей и продажи 2014-2016 (xone)', fontsize=11, color='b')\n",
    "axs[1].set_title('Отзывы критиков и продажи 2014-2016 (xone)', fontsize=11, color='r')\n",
    "plt.show()"
   ]
  },
  {
   "cell_type": "code",
   "execution_count": null,
   "metadata": {
    "cellId": "rd1zc12uy1uxb694s3e8r"
   },
   "outputs": [],
   "source": [
    "xone_corr = xone.pivot_table(index='total_sales', values=['user_score','critic_score']).reset_index()\n",
    "xone_corr.corr()"
   ]
  },
  {
   "cell_type": "markdown",
   "metadata": {
    "cellId": "kqo4xqodbtis6x3u5hggzi"
   },
   "source": [
    "Мы построили диаграмму рассеяния, корреляция между отзывами критиков, пользователей и продажами посчитана. \n",
    "Оценка критиков xone имеет корреляцию с общим объемом продаж, в то время как оценка пользователей - меньше."
   ]
  },
  {
   "cell_type": "markdown",
   "metadata": {
    "cellId": "1sx1k6y1rquymgj0vex0x"
   },
   "source": [
    "Сравним продажи одних и тех же игр на других платформах"
   ]
  },
  {
   "cell_type": "code",
   "execution_count": null,
   "metadata": {
    "cellId": "xs9xh1b0lad2pvv3iy5lhr"
   },
   "outputs": [],
   "source": [
    "selected_plat = filtered.query(' platform in (\"ps3\", \"ps4\", \"sds\")')"
   ]
  },
  {
   "cell_type": "code",
   "execution_count": null,
   "metadata": {
    "cellId": "yln0lpcnnn9474gp2ig0g5"
   },
   "outputs": [],
   "source": [
    "other_plat = selected_plat.pivot_table(index='total_sales', values=['user_score','critic_score']).reset_index()\n",
    "other_plat.tail()"
   ]
  },
  {
   "cell_type": "code",
   "execution_count": null,
   "metadata": {
    "cellId": "5nvkkcytn1pds3bm933z8d"
   },
   "outputs": [],
   "source": [
    "# Построим диаграмму рассеяния (оценки пользователей и оценки критиков)\n",
    "fig, axs = plt.subplots(ncols=2, figsize=(18, 6))\n",
    "sns.regplot(x=\"user_score\", y=\"total_sales\", data=other_plat, ax=axs[0], color='b')\n",
    "sns.regplot(x=\"critic_score\", y=\"total_sales\", data=other_plat, ax=axs[1], color='r')\n",
    "axs[0].set_title('Отзывы пользователей и продажи  2014-2016 (Top platforms)', fontsize=10, color='b')\n",
    "axs[1].set_title('Отзывы критиков и продажи 2014-2016 (Top platforms)', fontsize=10, color='r')\n",
    "plt.show()"
   ]
  },
  {
   "cell_type": "code",
   "execution_count": null,
   "metadata": {
    "cellId": "oc7okbt1rdrxlyguuyqpx"
   },
   "outputs": [],
   "source": [
    "other_plat.corr()"
   ]
  },
  {
   "cell_type": "markdown",
   "metadata": {
    "cellId": "f3106wcvjto06es9vxgxlu"
   },
   "source": [
    "Оценка критиков оказывает все-таки незначительное влияние на общий объем продаж, в то время как оценка пользователей не оказывает."
   ]
  },
  {
   "cell_type": "markdown",
   "metadata": {
    "cellId": "kr6zzyd33fn6l39x742i"
   },
   "source": [
    "Посмотрим на общее распределение игр по жанрам. "
   ]
  },
  {
   "cell_type": "code",
   "execution_count": null,
   "metadata": {
    "cellId": "cpfuqliwb37rt3ndufq8ke"
   },
   "outputs": [],
   "source": [
    "# выберем платформы\n",
    "pop_plat = filtered.query(' platform in (\"ps4\",\"ps3\", \"3ds\", \"xone\")')"
   ]
  },
  {
   "cell_type": "code",
   "execution_count": null,
   "metadata": {
    "cellId": "3soeafe4t4linhkszmlayp"
   },
   "outputs": [],
   "source": [
    "# соберем сводную информацию об общем объеме продаж, сгруппированную по платформам\n",
    "genre_pivot = pop_plat.pivot_table(index=['platform', 'genre'],\n",
    "                                          values=['na_sales','eu_sales','jp_sales' ,'other_sales' ,'total_sales' ],\n",
    "                                          aggfunc=sum).reset_index()\\\n",
    ".sort_values(by='total_sales', ascending=False)"
   ]
  },
  {
   "cell_type": "code",
   "execution_count": null,
   "metadata": {
    "cellId": "krv4zi8zfpe5vwq7ajyaki"
   },
   "outputs": [],
   "source": [
    "#построим гистограмму общего объема продаж в каждом жанре по платформам\n",
    "fig = px.bar(genre_pivot, x=\"genre\", y='total_sales', barmode='group',\n",
    "             color='platform',\n",
    "             title='Общие продажи игр по жанрам 2014-2016гг.',\n",
    "             labels=dict(total_sales='Total Sales', genre='Genre'),\n",
    "             height=600)\n",
    "\n",
    "fig.update_layout(barmode='stack')\n",
    "fig.show()"
   ]
  },
  {
   "cell_type": "code",
   "execution_count": null,
   "metadata": {
    "cellId": "lo9tddzwlhp443db97xd7"
   },
   "outputs": [],
   "source": [
    "# создадим сводные данные общих продаж, сгруппированные по жанрам\n",
    "genre_comp = filtered.pivot_table(index=['genre'],\n",
    "                                       values=['na_sales','eu_sales','jp_sales' ,'total_sales','other_sales' ],\n",
    "                                       aggfunc=sum)\\\n",
    ".reset_index()\\\n",
    ".sort_values(by='total_sales', ascending=False)\n",
    "\n",
    "genre_comp.sample(5)"
   ]
  },
  {
   "cell_type": "markdown",
   "metadata": {
    "cellId": "t2zfzjap1fch63sjf226o"
   },
   "source": [
    "- Пять самых популярных жанров на гистограмме: Action,Shooter,Sports,Role-Playing,Racing.\n",
    "- Role-Playing, action,spors,shooter популярны в ps4, в то время как Racing - меньше. Strategy and Puzzle не пользуются популярностью в течение 2014-2016 годов.\n",
    "- PS4, xone,3ds получили продажи от большинства игровых жанров."
   ]
  },
  {
   "cell_type": "markdown",
   "metadata": {
    "cellId": "9xwugszaifn4fsjogjka3m"
   },
   "source": [
    "# Шаг 4. Составьте портрет пользователя каждого региона"
   ]
  },
  {
   "cell_type": "markdown",
   "metadata": {
    "cellId": "9ebf5e2xcttewe83sc36pb"
   },
   "source": [
    "Задание:\n",
    "\n",
    "Определите для пользователя каждого региона (na, eu,jp):\n",
    "- Самые популярные платформы (топ-5). Опишите различия в долях продаж.\n",
    "- Самые популярные жанры (топ-5). Поясните разницу.\n",
    "- Влияет ли рейтинг ESRB на продажи в отдельном регионе?"
   ]
  },
  {
   "cell_type": "markdown",
   "metadata": {
    "cellId": "hltc4rqk9l44z0mx2lk1gm"
   },
   "source": [
    "Справочная информация по аббревеатурам \"Entertainment Software Rating Board\" (ESRB):\n",
    "\n",
    "- «E» («Everyone») — «Для всех»\n",
    "\n",
    "- «E10+» («Everyone 10 and older») — «Для всех от 10 лет и старше»\n",
    "\n",
    "- «T» («Teen») — «Подросткам»\n",
    "\n",
    "- «M» («Mature») — «Для взрослых»\n",
    "\n",
    "- «AO» («Adults Only 18+») — «Только для взрослых»\n",
    "\n",
    "- «RP» («Rating Pending») — «Рейтинг ожидается»\n",
    "\n",
    "- «K-A» («Kids to Adults»)- 2-я версия 1996 - 1997 гг. = «E» («Everyone») — «Для всех»\n",
    "\n",
    "- «EC» («Early childhood») — «Для детей младшего возраста»\n",
    "\n",
    "Источник: https://www.esrb.org/ratings/"
   ]
  },
  {
   "cell_type": "code",
   "execution_count": null,
   "metadata": {
    "cellId": "5oa4andrehv4zafaybn1sf"
   },
   "outputs": [],
   "source": [
    "#данные по общим продажам по платформам\n",
    "region = filtered.pivot_table(index=['platform'],\n",
    "                                      values =['na_sales', 'eu_sales', 'jp_sales', 'other_sales', 'total_sales'],\n",
    "                                      aggfunc=sum)\\\n",
    ".reset_index().sort_values(by='total_sales', ascending=False)\n",
    "\n",
    "#select only the top five in total sale\n",
    "top_plat_region = region.head(5)\n",
    "top_plat_region"
   ]
  },
  {
   "cell_type": "code",
   "execution_count": null,
   "metadata": {
    "cellId": "ykfq0zucffe1wb5medmwx3"
   },
   "outputs": [],
   "source": [
    "#построим диаграмму региональных продаж по каждой платформе\n",
    "fig = px.bar(top_plat_region, x=\"platform\", y=['eu_sales','jp_sales', 'na_sales','other_sales'], barmode='group',\n",
    "             title='Общие продажи платформ по регионам 2014-2016гг.',\n",
    "            labels=dict(value='Total Sales', platform='Platform'),\n",
    "             height=500)\n",
    "\n",
    "fig.update_layout(barmode='stack')\n",
    "fig.show()"
   ]
  },
  {
   "cell_type": "markdown",
   "metadata": {
    "cellId": "frg75x9a3b8iptqjlzrpe"
   },
   "source": [
    "PS4 лидирует по общему объему продаж в большинстве регионов, за исключением Японии.\n",
    "Xone является  популярным в Северной Америке, но получил низкие продажи в Японии.\n",
    "3DS очень популярна в Японии, в то время как xone, x360 получила самые низкие продажи в Японии."
   ]
  },
  {
   "cell_type": "code",
   "execution_count": null,
   "metadata": {
    "cellId": "8w96304i97qfvxjrmlf3os"
   },
   "outputs": [],
   "source": [
    "#построим диаграмму \"Доля рынка: между платформами в каждом регионе\"\n",
    "\n",
    "labels = top_plat_region['platform']\n",
    "\n",
    "fig = make_subplots(rows=1, cols=4, specs=[[{'type':'domain'}, {'type':'domain'}, {'type':'domain'}, {'type':'domain'}]])\n",
    "fig.add_trace(go.Pie(labels=labels, values=top_plat_region['eu_sales'], name=\"Евросоюз\"),\n",
    "              1, 1)\n",
    "fig.add_trace(go.Pie(labels=labels, values=top_plat_region['jp_sales'], name=\"Япония\"),\n",
    "              1, 2)\n",
    "fig.add_trace(go.Pie(labels=labels, values=top_plat_region['na_sales'], name=\"Северная Америка\"),\n",
    "              1, 3)\n",
    "fig.add_trace(go.Pie(labels=labels,values=top_plat_region['other_sales'], name=\"Другие\"),\n",
    "              1, 4)\n",
    "\n",
    "\n",
    "fig.update_layout(\n",
    "    title_text=\"Рыночная доля каждого региона 2014-2016гг.\",\n",
    "\n",
    "    annotations=[dict(text='Евросоюз', x=0.02, y=0.9, font_size=15, showarrow=False),\n",
    "                 dict(text='Япония', x=0.36, y=0.9, font_size=15, showarrow=False),\n",
    "                dict(text='Северная Америка', x=0.76, y=0.9, font_size=15, showarrow=False),\n",
    "                dict(text='Другие', x=0.97, y=0.9, font_size=15, showarrow=False)])\n",
    "fig.show()"
   ]
  },
  {
   "cell_type": "markdown",
   "metadata": {
    "cellId": "gqriisg9m35g9ypesw6zk"
   },
   "source": [
    "- В Евросоюзе самая высокая доля PS4, за ней следует xone, в то время как у x 360 самая низкая доля.\n",
    "- У Японии есть один лидер 3ds, за ним следуют PS3 и PS4, в то время как Xbox 360 и xone не пользуются популярностью.\n",
    "- В Северной Америке большинство топовых платформ получили очень похожее соотношение. Самый высокий показатель - PS4, xone, затем x360, 3ds и ps3 почти одинаково распределены.\n",
    "- Другие: лидером рынка является PS4. На втором месте xone. Наименьшая доля на 3DS."
   ]
  },
  {
   "cell_type": "code",
   "execution_count": null,
   "metadata": {
    "cellId": "lyxf7ele49d5bz3ux60v5a"
   },
   "outputs": [],
   "source": [
    "# топ 5 по регионам\n",
    "genre = filtered.pivot_table(index=['genre'],\n",
    "                                      values =['na_sales', 'eu_sales', 'jp_sales', 'other_sales', 'total_sales'],\n",
    "                                      aggfunc=sum)\\\n",
    ".reset_index().sort_values(by='total_sales', ascending=False)\n",
    "\n",
    "top_plat_genre = genre.head(5)\n",
    "top_plat_genre"
   ]
  },
  {
   "cell_type": "code",
   "execution_count": null,
   "metadata": {
    "cellId": "gj411uy26ype3cj8rgs7"
   },
   "outputs": [],
   "source": [
    "# представим данные  по жанрам графически\n",
    "\n",
    "fig = px.bar(top_plat_genre, x=\"genre\", y=['eu_sales','jp_sales', 'na_sales','other_sales'], barmode='group',\n",
    "             title='Общие продажи по жанрам в регионах 2014-2016 гг.',\n",
    "            labels=dict(value='Total Sales', genre='Genre'),\n",
    "             height=600)\n",
    "\n",
    "fig.update_layout(barmode='stack')\n",
    "fig.show()"
   ]
  },
  {
   "cell_type": "markdown",
   "metadata": {
    "cellId": "r7en0ytxnclscl3cdnyek"
   },
   "source": [
    "- Action является лидером по общему объему продаж  на рынке, с самыми высокими продажами в Северной Америке и Европе.\n",
    "- Shooter, Sports  не популярен в Японии,самые высокие продажи в жанре role-playing.\n",
    "- Misc не пользуется популярностью в большинстве регионов."
   ]
  },
  {
   "cell_type": "code",
   "execution_count": null,
   "metadata": {
    "cellId": "9l5ucwe8vitv8ggngrubmg"
   },
   "outputs": [],
   "source": [
    "# построим диаграмму\" Доля рынка по жанрам в каждом регионе\"\n",
    "labels = top_plat_genre['genre']\n",
    "\n",
    "fig = make_subplots(rows=1, cols=4, specs=[[{'type':'domain'}, {'type':'domain'}, {'type':'domain'}, {'type':'domain'}]])\n",
    "fig.add_trace(go.Pie(labels=labels, values=top_plat_region['eu_sales'], name=\"Евросоюз\"),\n",
    "              1, 1)\n",
    "fig.add_trace(go.Pie(labels=labels, values=top_plat_region['jp_sales'], name=\"Япония\"),\n",
    "              1, 2)\n",
    "fig.add_trace(go.Pie(labels=labels, values=top_plat_region['na_sales'], name=\"Северная Америка\"),\n",
    "              1, 3)\n",
    "fig.add_trace(go.Pie(labels=labels,values=top_plat_region['other_sales'], name=\"Другие\"),\n",
    "              1, 4)\n",
    "\n",
    "\n",
    "fig.update_layout(\n",
    "    title_text=\"Доля рынка по регионам 2014-2016гг.\",\n",
    "  \n",
    "    annotations=[dict(text='Евросоюз', x=0.02, y=0.9, font_size=20, showarrow=False),\n",
    "                 dict(text='Япония', x=0.36, y=0.9, font_size=20, showarrow=False),\n",
    "                dict(text='Северная Америка', x=0.76, y=0.9, font_size=20, showarrow=False),\n",
    "                dict(text='Другие', x=0.97, y=0.9, font_size=20, showarrow=False)])\n",
    "fig.show()"
   ]
  },
  {
   "cell_type": "markdown",
   "metadata": {
    "cellId": "e6it8suog5rvrt4eqfqsba"
   },
   "source": [
    "-  Евросоюз: На Action приходится самая высокая доля, а на misc- самая низкая.\n",
    "-  Япония: Sport имеет самую высокую долю,  показатели misc на этом рынке очень низки.\n",
    "-  Доля  Role-playing самая высокая в Японии.В других странах она несколько ниже. \n",
    "-  На рынке \"Другие\" самая популярная -  Action, на втором месте shooter, наименее популярная платформа - Sports."
   ]
  },
  {
   "cell_type": "markdown",
   "metadata": {
    "cellId": "1e5qk97852598rmsakm2c8"
   },
   "source": [
    "Японский рынок отличается от других регионов самыми высокими продажами платформы 3DS и жанра role-playing.\n",
    "За пределами Японии xone, PS4 входят в популярное большинство.\n",
    "PS4 является лидером во всех регионах, кроме Японии."
   ]
  },
  {
   "cell_type": "markdown",
   "metadata": {
    "cellId": "s4vxv6nbfqj11tpsvk4f7t"
   },
   "source": [
    "Выясним влияет ли рейтинг ESRB на продажи в отдельном регионе."
   ]
  },
  {
   "cell_type": "code",
   "execution_count": null,
   "metadata": {
    "cellId": "xtur0sjpdmx1dgd3vanqg"
   },
   "outputs": [],
   "source": [
    "#сводные данные по продажам региона в рейтинге ESRB\n",
    "grouped_rating = filtered.pivot_table(index=['rating'],\n",
    "                                      values =['na_sales', 'eu_sales', 'jp_sales', 'other_sales', 'total_sales'],\n",
    "                                      aggfunc=sum)\\\n",
    ".reset_index()\\\n",
    ".sort_values(by='total_sales', ascending=False)\n",
    "\n",
    "grouped_rating"
   ]
  },
  {
   "cell_type": "code",
   "execution_count": null,
   "metadata": {
    "cellId": "u2zztaoaokcorjpb818ytc"
   },
   "outputs": [],
   "source": [
    "#диаграмма общего объема продаж по регионам и рейтинг\n",
    "\n",
    "fig = px.bar(grouped_rating, x=\"rating\", y=['eu_sales','jp_sales', 'na_sales','other_sales'], barmode='group',\n",
    "             title='Общие продажи в регионах и рейтинг за период 2014-2016гг.',\n",
    "            labels=dict(value='Total Sales', rating='Rating'),\n",
    "             height=500)\n",
    "\n",
    "fig.update_layout(barmode='stack')\n",
    "fig.show()"
   ]
  },
  {
   "cell_type": "markdown",
   "metadata": {
    "cellId": "qjxzass4rqn280p3dmni"
   },
   "source": [
    "Вывод:\n",
    "Наиболее распространенным на рынке является рейтинг M, \"Нет данных\", E,Т,E10+. Остальные не пользуются спросом и не отображаются."
   ]
  },
  {
   "cell_type": "markdown",
   "metadata": {
    "cellId": "o0pm8lthmihvvwg6yy7mbs"
   },
   "source": [
    "# Шаг 5. Проверьте гипотезы"
   ]
  },
  {
   "cell_type": "markdown",
   "metadata": {
    "cellId": "woqmzz01gbphkiv9r16x9k"
   },
   "source": [
    "Задание:\n",
    "    \n",
    "- 5.1.Средние пользовательские рейтинги платформ Xbox One и PC одинаковые;\n",
    "- 5.2.Средние пользовательские рейтинги жанров Action (англ. «действие», экшен-игры) и Sports (англ. «спортивные соревнования») разные.\n",
    "\n",
    "Задайте самостоятельно пороговое значение alpha.\n",
    "Поясните:\n",
    "- Как вы сформулировали нулевую и альтернативную гипотезы;\n",
    "- Какой критерий применили для проверки гипотез и почему."
   ]
  },
  {
   "cell_type": "markdown",
   "metadata": {
    "cellId": "5fuotlri57k6kzj3nq2tx5"
   },
   "source": [
    "5.1. \n",
    "- Нулевая гипотеза H₀: Средние пользовательские рейтинги платформ Xbox One и PC одинаковые.\n",
    "- Альтернативная гипотеза H₁: Средние пользовательские рейтинги платформ Xbox One и PC различные."
   ]
  },
  {
   "cell_type": "code",
   "execution_count": null,
   "metadata": {
    "cellId": "n5jdgxcg0n8d9qf0mxm7go"
   },
   "outputs": [],
   "source": [
    "# сохраним в переменных xone_h и pc_h соответствующие актуальные данные \n",
    "\n",
    "xone_h = game_data[(game_data['platform']=='xone') & ( game_data['year_of_release']>=2012)]['user_score']\n",
    "pc_h = game_data[( game_data['platform']=='pc') & ( game_data['year_of_release']>=2012)]['user_score']\n",
    "\n",
    "#посчитаем средний рейтинг пользователя для xbox платформ\n",
    "xone_h.mean()"
   ]
  },
  {
   "cell_type": "code",
   "execution_count": null,
   "metadata": {
    "cellId": "idmq0opskbmfybnswcujs"
   },
   "outputs": [],
   "source": [
    "# посчитаем средний рейтинг пользователя для PC платформ\n",
    "pc_h.mean()"
   ]
  },
  {
   "cell_type": "code",
   "execution_count": null,
   "metadata": {
    "cellId": "gcb8muovu4h8oipsb97d7v"
   },
   "outputs": [],
   "source": [
    "# выполним проверку гипотезы. Будем использовать метод ttest_ind\n",
    "\n",
    "alpha = .05\n",
    "\n",
    "results = st.ttest_ind(xone_h.dropna(), pc_h.dropna(), equal_var=False)\n",
    "\n",
    "print('p-значение:', results.pvalue)\n",
    "\n",
    "\n",
    "if (results.pvalue < alpha):\n",
    "    print(\"Отвергаем нулевую гипотезу\")\n",
    "else:\n",
    "    print(\"Не получилось отвергнуть нулевую гипотезу\")"
   ]
  },
  {
   "cell_type": "markdown",
   "metadata": {
    "cellId": "uw781s73hume2xkhz2xtoe"
   },
   "source": [
    "Вывод: Таким образом, не получилось опровергнуть Нулевую гипотезу. \n"
   ]
  },
  {
   "cell_type": "markdown",
   "metadata": {
    "cellId": "3htnjhva38m99ibbwul5sl"
   },
   "source": [
    "5.2.   \n",
    "Для проверки гипотезы \"средние пользовательские рейтинги жанров Action и Sports разные\" в качестве нулевой и альтернативной гипотезы мы взяли следующее:\n",
    "H0: средние рейтинги по жанрам одинаковые.\n",
    "H1: средние рейтинги по жанрам разные.\n",
    "   "
   ]
  },
  {
   "cell_type": "code",
   "execution_count": null,
   "metadata": {
    "cellId": "zsmou146b3lnrnab179ood"
   },
   "outputs": [],
   "source": [
    "# сохраним в переменных genre_action_h и genre_sports_h соответствующие данные с пользовательскими оценками\n",
    "\n",
    "genre_action_h = game_data[(game_data['genre']=='action') & (game_data['year_of_release']>=2012)]['user_score']\n",
    "genre_sports_h = game_data[(game_data['genre']=='sports') & (game_data['year_of_release']>=2012)]['user_score']\n",
    "\n",
    "#выведем среднюю оценку по жанру экшн\n",
    "genre_action_h.mean()"
   ]
  },
  {
   "cell_type": "code",
   "execution_count": null,
   "metadata": {
    "cellId": "t8d56vhvdrz025dzqjxhr"
   },
   "outputs": [],
   "source": [
    "genre_sports_h.mean()"
   ]
  },
  {
   "cell_type": "code",
   "execution_count": null,
   "metadata": {
    "cellId": "u3zs2wdxxnu758pef2ki"
   },
   "outputs": [],
   "source": [
    "#выполним проверку гипотезы. Будем использовать метод ttest_ind\n",
    "\n",
    "alpha = .05\n",
    "\n",
    "results = st.ttest_ind(genre_action_h.dropna(), genre_sports_h.dropna(), equal_var=False)\n",
    "\n",
    "print('p-значение:', results.pvalue)\n",
    "\n",
    "\n",
    "if (results.pvalue < alpha):\n",
    "    print(\"Отвергаем нулевую гипотезу\")\n",
    "else:\n",
    "    print(\"Не получилось отвергнуть нулевую гипотезу\")"
   ]
  },
  {
   "cell_type": "markdown",
   "metadata": {
    "cellId": "g1wd0qwgvjnxjajzr9sjy"
   },
   "source": [
    "Вывод: Получив p-value, мы отвергли Нулевую гипотезу. \n",
    "Таким образом, у нас практически нет вероятности получить одинакове средние рейнтинги по двум жанрам."
   ]
  },
  {
   "cell_type": "markdown",
   "metadata": {
    "cellId": "5ioxirr56qfpvxiiyk84gs",
    "execution_id": "f01d1732-0275-4862-bf67-b40f96f1c759"
   },
   "source": [
    "# Шаг 6. Общий вывод"
   ]
  },
  {
   "cell_type": "markdown",
   "metadata": {
    "cellId": "r535pkrf50ga3exgnocgf"
   },
   "source": [
    "- Цель этого проекта - выявить закономерности и составить прогноз.\n",
    "- В целом региональные портреты пользователей по многим показателям и характеристикам совпадают, с некторыми небольшими различиями. При имеющихся данных можно использовать факторный метод прогнозирования продаж, где изначально устанавливаются  показатели прибыли предшествующих периодов и рассчитываются показатели на интересующий период и устанавливаются факторы, которые влияют на продажи. Для прогноза прибыли и продаж лучше брать данные за актульный период, они более актуальны со всех точек зрения(технологии, предпочтения пользователей можно \"экстраполировать\" более обосновано). \n",
    "- Мы подготовили данные согласно заданию: заменили названия столбцов (привели к нижнему регистру), преобразовали данные в нужные типы,обработали пропуски так, чтобы в массиве данных был одинаковый тип данных.\n",
    "- Наш анализ охватывает региональный анализ рынков, профили ключевых платформ, спрос, направления роста.Анализ показал, что пользователи из разных регионов предпочитают разные жанры. \n",
    "- Таким образом, маркетинговая стратегия  должна ориентироваться  на данные регионов. Action, Shooters являются востребованными в Северной Америке и Европе, в то время как японский рынок сосредоточен на Sports. Role-playing на третьем месте по популярности во всех регионах.\n",
    "- По каждой платформе есть разные тренды.Развитие должно быть быть нацелено на PS4,PS3, xone, у которой есть потенциал продаж и популярность, чтобы увеличить продажи в Северной Америке и Европе. Находясь в Японии, мы должны сосредоточиться на продвижении платформы 3DS, которая там наиболее популярна.\n",
    "- Поскольку рейтинги M и E  популярны в большинстве регионов, лучше учитывать это при проведении рекламной камании, если мы хотим увеличить общий объем продаж."
   ]
  }
 ],
 "metadata": {
  "ExecuteTimeLog": [
   {
    "duration": 82,
    "start_time": "2022-09-19T09:50:07.815Z"
   },
   {
    "duration": 41,
    "start_time": "2022-09-19T09:50:21.676Z"
   },
   {
    "duration": 45,
    "start_time": "2022-09-19T09:51:01.150Z"
   },
   {
    "duration": 5,
    "start_time": "2022-09-19T09:51:25.296Z"
   },
   {
    "duration": 44,
    "start_time": "2022-09-19T09:52:01.755Z"
   },
   {
    "duration": 570,
    "start_time": "2022-09-19T09:53:53.012Z"
   },
   {
    "duration": 400,
    "start_time": "2022-09-19T09:53:58.846Z"
   },
   {
    "duration": 381,
    "start_time": "2022-09-19T09:54:13.961Z"
   },
   {
    "duration": 13,
    "start_time": "2022-09-19T09:55:13.459Z"
   },
   {
    "duration": 13,
    "start_time": "2022-09-19T09:55:23.511Z"
   },
   {
    "duration": 3,
    "start_time": "2022-09-19T10:03:06.875Z"
   },
   {
    "duration": 410,
    "start_time": "2022-09-19T10:03:12.845Z"
   },
   {
    "duration": 13,
    "start_time": "2022-09-19T10:03:13.257Z"
   },
   {
    "duration": 6,
    "start_time": "2022-09-19T10:03:13.271Z"
   },
   {
    "duration": 13,
    "start_time": "2022-09-19T10:03:22.069Z"
   },
   {
    "duration": 9,
    "start_time": "2022-09-19T10:05:46.472Z"
   },
   {
    "duration": 19,
    "start_time": "2022-09-19T10:06:01.545Z"
   },
   {
    "duration": 68,
    "start_time": "2022-09-19T10:10:24.838Z"
   },
   {
    "duration": 393,
    "start_time": "2022-09-19T10:10:42.700Z"
   },
   {
    "duration": 49,
    "start_time": "2022-09-19T10:10:43.095Z"
   },
   {
    "duration": 13,
    "start_time": "2022-09-19T10:10:43.146Z"
   },
   {
    "duration": 7,
    "start_time": "2022-09-19T10:10:43.160Z"
   },
   {
    "duration": 14,
    "start_time": "2022-09-19T10:10:43.169Z"
   },
   {
    "duration": 20,
    "start_time": "2022-09-19T10:10:43.184Z"
   },
   {
    "duration": 63,
    "start_time": "2022-09-19T10:10:43.222Z"
   },
   {
    "duration": 12,
    "start_time": "2022-09-19T10:10:55.351Z"
   },
   {
    "duration": 386,
    "start_time": "2022-09-19T10:11:00.736Z"
   },
   {
    "duration": 48,
    "start_time": "2022-09-19T10:11:01.124Z"
   },
   {
    "duration": 12,
    "start_time": "2022-09-19T10:11:01.174Z"
   },
   {
    "duration": 4,
    "start_time": "2022-09-19T10:11:01.188Z"
   },
   {
    "duration": 17,
    "start_time": "2022-09-19T10:11:01.195Z"
   },
   {
    "duration": 19,
    "start_time": "2022-09-19T10:11:01.214Z"
   },
   {
    "duration": 63,
    "start_time": "2022-09-19T10:11:01.235Z"
   },
   {
    "duration": 10,
    "start_time": "2022-09-19T10:15:16.537Z"
   },
   {
    "duration": 417,
    "start_time": "2022-09-19T10:15:22.499Z"
   },
   {
    "duration": 54,
    "start_time": "2022-09-19T10:15:22.918Z"
   },
   {
    "duration": 14,
    "start_time": "2022-09-19T10:15:22.973Z"
   },
   {
    "duration": 2,
    "start_time": "2022-09-19T10:15:22.989Z"
   },
   {
    "duration": 15,
    "start_time": "2022-09-19T10:15:22.993Z"
   },
   {
    "duration": 29,
    "start_time": "2022-09-19T10:15:23.010Z"
   },
   {
    "duration": 66,
    "start_time": "2022-09-19T10:15:23.040Z"
   },
   {
    "duration": 3,
    "start_time": "2022-09-19T10:15:52.060Z"
   },
   {
    "duration": 16,
    "start_time": "2022-09-19T10:22:13.166Z"
   },
   {
    "duration": 5,
    "start_time": "2022-09-19T10:24:58.418Z"
   },
   {
    "duration": 28,
    "start_time": "2022-09-19T10:25:40.380Z"
   },
   {
    "duration": 50,
    "start_time": "2022-09-19T10:26:30.411Z"
   },
   {
    "duration": 14,
    "start_time": "2022-09-19T10:35:58.406Z"
   },
   {
    "duration": 12,
    "start_time": "2022-09-19T10:37:24.516Z"
   },
   {
    "duration": 6,
    "start_time": "2022-09-19T10:51:53.569Z"
   },
   {
    "duration": 12,
    "start_time": "2022-09-19T10:54:04.505Z"
   },
   {
    "duration": 6,
    "start_time": "2022-09-19T15:06:23.272Z"
   },
   {
    "duration": 6,
    "start_time": "2022-09-19T15:07:42.252Z"
   },
   {
    "duration": 6,
    "start_time": "2022-09-19T15:07:46.813Z"
   },
   {
    "duration": 12,
    "start_time": "2022-09-19T15:10:28.558Z"
   },
   {
    "duration": 10,
    "start_time": "2022-09-19T15:10:53.763Z"
   },
   {
    "duration": 7,
    "start_time": "2022-09-19T15:11:34.377Z"
   },
   {
    "duration": 23,
    "start_time": "2022-09-19T16:24:51.821Z"
   },
   {
    "duration": 15,
    "start_time": "2022-09-19T16:26:21.897Z"
   },
   {
    "duration": 9,
    "start_time": "2022-09-19T16:35:27.944Z"
   },
   {
    "duration": 7,
    "start_time": "2022-09-19T16:47:09.291Z"
   },
   {
    "duration": 4,
    "start_time": "2022-09-19T16:47:34.974Z"
   },
   {
    "duration": 15,
    "start_time": "2022-09-19T16:48:00.898Z"
   },
   {
    "duration": 17,
    "start_time": "2022-09-19T16:48:27.474Z"
   },
   {
    "duration": 9,
    "start_time": "2022-09-19T16:51:30.172Z"
   },
   {
    "duration": 308,
    "start_time": "2022-09-19T16:51:49.593Z"
   },
   {
    "duration": 75,
    "start_time": "2022-09-19T16:52:42.545Z"
   },
   {
    "duration": 99,
    "start_time": "2022-09-19T16:53:08.377Z"
   },
   {
    "duration": 386,
    "start_time": "2022-09-19T16:53:12.552Z"
   },
   {
    "duration": 49,
    "start_time": "2022-09-19T16:53:12.940Z"
   },
   {
    "duration": 14,
    "start_time": "2022-09-19T16:53:12.990Z"
   },
   {
    "duration": 4,
    "start_time": "2022-09-19T16:53:13.006Z"
   },
   {
    "duration": 21,
    "start_time": "2022-09-19T16:53:13.011Z"
   },
   {
    "duration": 23,
    "start_time": "2022-09-19T16:53:13.035Z"
   },
   {
    "duration": 4,
    "start_time": "2022-09-19T16:53:13.060Z"
   },
   {
    "duration": 50,
    "start_time": "2022-09-19T16:53:13.066Z"
   },
   {
    "duration": 14,
    "start_time": "2022-09-19T16:53:13.124Z"
   },
   {
    "duration": 8,
    "start_time": "2022-09-19T16:53:13.141Z"
   },
   {
    "duration": 8,
    "start_time": "2022-09-19T16:53:13.151Z"
   },
   {
    "duration": 16,
    "start_time": "2022-09-19T16:53:13.161Z"
   },
   {
    "duration": 8,
    "start_time": "2022-09-19T16:53:13.179Z"
   },
   {
    "duration": 41,
    "start_time": "2022-09-19T16:53:13.189Z"
   },
   {
    "duration": 20,
    "start_time": "2022-09-19T16:53:13.232Z"
   },
   {
    "duration": 6,
    "start_time": "2022-09-19T16:53:13.254Z"
   },
   {
    "duration": 7,
    "start_time": "2022-09-19T16:53:13.262Z"
   },
   {
    "duration": 19,
    "start_time": "2022-09-19T16:53:13.270Z"
   },
   {
    "duration": 325,
    "start_time": "2022-09-19T16:53:13.291Z"
   },
   {
    "duration": 95,
    "start_time": "2022-09-19T16:53:13.617Z"
   },
   {
    "duration": 7,
    "start_time": "2022-09-19T16:53:26.004Z"
   },
   {
    "duration": 9,
    "start_time": "2022-09-19T16:55:07.468Z"
   },
   {
    "duration": 5,
    "start_time": "2022-09-19T16:56:31.660Z"
   },
   {
    "duration": 3,
    "start_time": "2022-09-19T16:56:55.453Z"
   },
   {
    "duration": 12,
    "start_time": "2022-09-19T16:58:58.644Z"
   },
   {
    "duration": 16,
    "start_time": "2022-09-19T17:01:44.057Z"
   },
   {
    "duration": 4,
    "start_time": "2022-09-19T17:03:29.757Z"
   },
   {
    "duration": 4,
    "start_time": "2022-09-19T17:05:16.333Z"
   },
   {
    "duration": 14,
    "start_time": "2022-09-19T17:24:15.288Z"
   },
   {
    "duration": 70,
    "start_time": "2022-09-19T17:25:53.579Z"
   },
   {
    "duration": 6,
    "start_time": "2022-09-19T17:25:59.507Z"
   },
   {
    "duration": 97,
    "start_time": "2022-09-19T17:27:17.949Z"
   },
   {
    "duration": 5,
    "start_time": "2022-09-19T17:27:49.290Z"
   },
   {
    "duration": 31,
    "start_time": "2022-09-19T17:28:20.414Z"
   },
   {
    "duration": 20,
    "start_time": "2022-09-19T17:40:47.518Z"
   },
   {
    "duration": 15,
    "start_time": "2022-09-19T17:40:54.849Z"
   },
   {
    "duration": 19,
    "start_time": "2022-09-19T17:41:01.221Z"
   },
   {
    "duration": 4,
    "start_time": "2022-09-19T17:43:19.414Z"
   },
   {
    "duration": 9,
    "start_time": "2022-09-19T18:00:32.350Z"
   },
   {
    "duration": 15,
    "start_time": "2022-09-19T18:00:59.632Z"
   },
   {
    "duration": 330,
    "start_time": "2022-09-19T18:03:23.889Z"
   },
   {
    "duration": 51,
    "start_time": "2022-09-19T18:03:24.222Z"
   },
   {
    "duration": 12,
    "start_time": "2022-09-19T18:03:24.274Z"
   },
   {
    "duration": 2,
    "start_time": "2022-09-19T18:03:24.288Z"
   },
   {
    "duration": 10,
    "start_time": "2022-09-19T18:03:24.292Z"
   },
   {
    "duration": 19,
    "start_time": "2022-09-19T18:03:24.303Z"
   },
   {
    "duration": 3,
    "start_time": "2022-09-19T18:03:24.323Z"
   },
   {
    "duration": 71,
    "start_time": "2022-09-19T18:03:24.327Z"
   },
   {
    "duration": 7,
    "start_time": "2022-09-19T18:03:24.400Z"
   },
   {
    "duration": 6,
    "start_time": "2022-09-19T18:03:24.409Z"
   },
   {
    "duration": 24,
    "start_time": "2022-09-19T18:03:24.416Z"
   },
   {
    "duration": 11,
    "start_time": "2022-09-19T18:03:24.442Z"
   },
   {
    "duration": 5,
    "start_time": "2022-09-19T18:03:24.454Z"
   },
   {
    "duration": 16,
    "start_time": "2022-09-19T18:03:24.460Z"
   },
   {
    "duration": 18,
    "start_time": "2022-09-19T18:03:24.477Z"
   },
   {
    "duration": 25,
    "start_time": "2022-09-19T18:03:24.496Z"
   },
   {
    "duration": 20,
    "start_time": "2022-09-19T18:03:24.523Z"
   },
   {
    "duration": 319,
    "start_time": "2022-09-19T18:03:24.545Z"
   },
   {
    "duration": 4,
    "start_time": "2022-09-19T18:03:24.866Z"
   },
   {
    "duration": 16,
    "start_time": "2022-09-19T18:03:24.871Z"
   },
   {
    "duration": 7,
    "start_time": "2022-09-19T18:03:24.889Z"
   },
   {
    "duration": 32,
    "start_time": "2022-09-19T18:03:24.897Z"
   },
   {
    "duration": 3,
    "start_time": "2022-09-19T18:03:24.930Z"
   },
   {
    "duration": 63,
    "start_time": "2022-09-19T18:03:24.935Z"
   },
   {
    "duration": 14,
    "start_time": "2022-09-19T18:03:46.401Z"
   },
   {
    "duration": 15,
    "start_time": "2022-09-19T18:04:22.597Z"
   },
   {
    "duration": 14,
    "start_time": "2022-09-19T18:04:35.741Z"
   },
   {
    "duration": 10,
    "start_time": "2022-09-19T18:04:41.337Z"
   },
   {
    "duration": 404,
    "start_time": "2022-09-19T18:04:47.813Z"
   },
   {
    "duration": 59,
    "start_time": "2022-09-19T18:04:48.219Z"
   },
   {
    "duration": 14,
    "start_time": "2022-09-19T18:04:48.280Z"
   },
   {
    "duration": 3,
    "start_time": "2022-09-19T18:04:48.297Z"
   },
   {
    "duration": 25,
    "start_time": "2022-09-19T18:04:48.302Z"
   },
   {
    "duration": 44,
    "start_time": "2022-09-19T18:04:48.329Z"
   },
   {
    "duration": 5,
    "start_time": "2022-09-19T18:04:48.375Z"
   },
   {
    "duration": 70,
    "start_time": "2022-09-19T18:04:48.382Z"
   },
   {
    "duration": 8,
    "start_time": "2022-09-19T18:04:48.454Z"
   },
   {
    "duration": 10,
    "start_time": "2022-09-19T18:04:48.465Z"
   },
   {
    "duration": 9,
    "start_time": "2022-09-19T18:04:48.477Z"
   },
   {
    "duration": 36,
    "start_time": "2022-09-19T18:04:48.488Z"
   },
   {
    "duration": 12,
    "start_time": "2022-09-19T18:04:48.529Z"
   },
   {
    "duration": 25,
    "start_time": "2022-09-19T18:04:48.547Z"
   },
   {
    "duration": 29,
    "start_time": "2022-09-19T18:04:48.574Z"
   },
   {
    "duration": 4,
    "start_time": "2022-09-19T18:04:48.605Z"
   },
   {
    "duration": 34,
    "start_time": "2022-09-19T18:04:48.610Z"
   },
   {
    "duration": 334,
    "start_time": "2022-09-19T18:04:48.646Z"
   },
   {
    "duration": 5,
    "start_time": "2022-09-19T18:04:48.981Z"
   },
   {
    "duration": 20,
    "start_time": "2022-09-19T18:04:48.987Z"
   },
   {
    "duration": 22,
    "start_time": "2022-09-19T18:04:49.009Z"
   },
   {
    "duration": 6,
    "start_time": "2022-09-19T18:04:49.032Z"
   },
   {
    "duration": 11,
    "start_time": "2022-09-19T18:04:49.040Z"
   },
   {
    "duration": 18,
    "start_time": "2022-09-19T18:04:49.053Z"
   },
   {
    "duration": 426,
    "start_time": "2022-09-19T18:55:10.159Z"
   },
   {
    "duration": 177,
    "start_time": "2022-09-19T18:57:28.605Z"
   },
   {
    "duration": 588,
    "start_time": "2022-09-19T18:57:37.596Z"
   },
   {
    "duration": 96,
    "start_time": "2022-09-19T18:59:41.068Z"
   },
   {
    "duration": 592,
    "start_time": "2022-09-19T19:00:12.387Z"
   },
   {
    "duration": 64,
    "start_time": "2022-09-19T19:00:12.980Z"
   },
   {
    "duration": 14,
    "start_time": "2022-09-19T19:00:13.048Z"
   },
   {
    "duration": 2,
    "start_time": "2022-09-19T19:00:13.064Z"
   },
   {
    "duration": 8,
    "start_time": "2022-09-19T19:00:13.068Z"
   },
   {
    "duration": 19,
    "start_time": "2022-09-19T19:00:13.077Z"
   },
   {
    "duration": 3,
    "start_time": "2022-09-19T19:00:13.098Z"
   },
   {
    "duration": 57,
    "start_time": "2022-09-19T19:00:13.102Z"
   },
   {
    "duration": 8,
    "start_time": "2022-09-19T19:00:13.161Z"
   },
   {
    "duration": 11,
    "start_time": "2022-09-19T19:00:13.171Z"
   },
   {
    "duration": 10,
    "start_time": "2022-09-19T19:00:13.183Z"
   },
   {
    "duration": 13,
    "start_time": "2022-09-19T19:00:13.195Z"
   },
   {
    "duration": 22,
    "start_time": "2022-09-19T19:00:13.209Z"
   },
   {
    "duration": 33,
    "start_time": "2022-09-19T19:00:13.233Z"
   },
   {
    "duration": 16,
    "start_time": "2022-09-19T19:00:13.268Z"
   },
   {
    "duration": 4,
    "start_time": "2022-09-19T19:00:13.285Z"
   },
   {
    "duration": 14,
    "start_time": "2022-09-19T19:00:13.290Z"
   },
   {
    "duration": 346,
    "start_time": "2022-09-19T19:00:13.305Z"
   },
   {
    "duration": 4,
    "start_time": "2022-09-19T19:00:13.653Z"
   },
   {
    "duration": 18,
    "start_time": "2022-09-19T19:00:13.658Z"
   },
   {
    "duration": 15,
    "start_time": "2022-09-19T19:00:13.677Z"
   },
   {
    "duration": 4,
    "start_time": "2022-09-19T19:00:13.694Z"
   },
   {
    "duration": 19,
    "start_time": "2022-09-19T19:00:13.699Z"
   },
   {
    "duration": 583,
    "start_time": "2022-09-19T19:00:13.719Z"
   },
   {
    "duration": 86,
    "start_time": "2022-09-19T19:00:14.304Z"
   },
   {
    "duration": 57,
    "start_time": "2022-09-20T07:54:37.689Z"
   },
   {
    "duration": 6,
    "start_time": "2022-09-20T07:54:59.580Z"
   },
   {
    "duration": 6,
    "start_time": "2022-09-20T07:55:05.723Z"
   },
   {
    "duration": 1498,
    "start_time": "2022-09-20T07:55:10.280Z"
   },
   {
    "duration": 96,
    "start_time": "2022-09-20T07:55:11.780Z"
   },
   {
    "duration": 16,
    "start_time": "2022-09-20T07:55:11.878Z"
   },
   {
    "duration": 23,
    "start_time": "2022-09-20T07:55:11.896Z"
   },
   {
    "duration": 17,
    "start_time": "2022-09-20T07:55:11.920Z"
   },
   {
    "duration": 44,
    "start_time": "2022-09-20T07:55:11.938Z"
   },
   {
    "duration": 10,
    "start_time": "2022-09-20T07:55:11.984Z"
   },
   {
    "duration": 63,
    "start_time": "2022-09-20T07:55:11.996Z"
   },
   {
    "duration": 9,
    "start_time": "2022-09-20T07:55:12.061Z"
   },
   {
    "duration": 10,
    "start_time": "2022-09-20T07:55:12.077Z"
   },
   {
    "duration": 13,
    "start_time": "2022-09-20T07:55:12.089Z"
   },
   {
    "duration": 6,
    "start_time": "2022-09-20T07:55:12.104Z"
   },
   {
    "duration": 32,
    "start_time": "2022-09-20T07:55:12.112Z"
   },
   {
    "duration": 45,
    "start_time": "2022-09-20T07:55:12.146Z"
   },
   {
    "duration": 5,
    "start_time": "2022-09-20T07:55:12.193Z"
   },
   {
    "duration": 17,
    "start_time": "2022-09-20T07:55:12.200Z"
   },
   {
    "duration": 379,
    "start_time": "2022-09-20T07:55:12.220Z"
   },
   {
    "duration": 4,
    "start_time": "2022-09-20T07:55:12.601Z"
   },
   {
    "duration": 18,
    "start_time": "2022-09-20T07:55:12.607Z"
   },
   {
    "duration": 11,
    "start_time": "2022-09-20T07:55:12.627Z"
   },
   {
    "duration": 5,
    "start_time": "2022-09-20T07:55:12.640Z"
   },
   {
    "duration": 22,
    "start_time": "2022-09-20T07:55:12.647Z"
   },
   {
    "duration": 9,
    "start_time": "2022-09-20T07:55:12.676Z"
   },
   {
    "duration": 658,
    "start_time": "2022-09-20T07:55:12.687Z"
   },
   {
    "duration": 143,
    "start_time": "2022-09-20T08:08:39.570Z"
   },
   {
    "duration": 236,
    "start_time": "2022-09-20T08:12:14.771Z"
   },
   {
    "duration": 137,
    "start_time": "2022-09-20T08:17:53.692Z"
   },
   {
    "duration": 329,
    "start_time": "2022-09-20T08:18:03.640Z"
   },
   {
    "duration": 307,
    "start_time": "2022-09-20T08:18:11.622Z"
   },
   {
    "duration": 3,
    "start_time": "2022-09-20T08:21:47.365Z"
   },
   {
    "duration": 1310,
    "start_time": "2022-09-20T08:21:56.116Z"
   },
   {
    "duration": 53,
    "start_time": "2022-09-20T08:21:57.428Z"
   },
   {
    "duration": 14,
    "start_time": "2022-09-20T08:21:57.483Z"
   },
   {
    "duration": 7,
    "start_time": "2022-09-20T08:21:57.499Z"
   },
   {
    "duration": 44,
    "start_time": "2022-09-20T08:21:57.508Z"
   },
   {
    "duration": 58,
    "start_time": "2022-09-20T08:21:57.554Z"
   },
   {
    "duration": 14,
    "start_time": "2022-09-20T08:21:57.614Z"
   },
   {
    "duration": 74,
    "start_time": "2022-09-20T08:21:57.630Z"
   },
   {
    "duration": 9,
    "start_time": "2022-09-20T08:21:57.706Z"
   },
   {
    "duration": 30,
    "start_time": "2022-09-20T08:21:57.718Z"
   },
   {
    "duration": 40,
    "start_time": "2022-09-20T08:21:57.750Z"
   },
   {
    "duration": 27,
    "start_time": "2022-09-20T08:21:57.791Z"
   },
   {
    "duration": 48,
    "start_time": "2022-09-20T08:21:57.820Z"
   },
   {
    "duration": 60,
    "start_time": "2022-09-20T08:21:57.870Z"
   },
   {
    "duration": 11,
    "start_time": "2022-09-20T08:21:57.931Z"
   },
   {
    "duration": 37,
    "start_time": "2022-09-20T08:21:57.943Z"
   },
   {
    "duration": 349,
    "start_time": "2022-09-20T08:21:57.981Z"
   },
   {
    "duration": 4,
    "start_time": "2022-09-20T08:21:58.332Z"
   },
   {
    "duration": 52,
    "start_time": "2022-09-20T08:21:58.338Z"
   },
   {
    "duration": 18,
    "start_time": "2022-09-20T08:21:58.392Z"
   },
   {
    "duration": 13,
    "start_time": "2022-09-20T08:21:58.412Z"
   },
   {
    "duration": 9,
    "start_time": "2022-09-20T08:21:58.427Z"
   },
   {
    "duration": 22,
    "start_time": "2022-09-20T08:21:58.438Z"
   },
   {
    "duration": 170,
    "start_time": "2022-09-20T08:21:58.461Z"
   },
   {
    "duration": 8,
    "start_time": "2022-09-20T08:21:58.633Z"
   },
   {
    "duration": 20,
    "start_time": "2022-09-20T08:21:58.643Z"
   },
   {
    "duration": 3,
    "start_time": "2022-09-20T08:22:33.992Z"
   },
   {
    "duration": 1310,
    "start_time": "2022-09-20T08:22:44.877Z"
   },
   {
    "duration": 53,
    "start_time": "2022-09-20T08:22:46.189Z"
   },
   {
    "duration": 15,
    "start_time": "2022-09-20T08:22:46.244Z"
   },
   {
    "duration": 3,
    "start_time": "2022-09-20T08:22:46.261Z"
   },
   {
    "duration": 11,
    "start_time": "2022-09-20T08:22:46.266Z"
   },
   {
    "duration": 22,
    "start_time": "2022-09-20T08:22:46.279Z"
   },
   {
    "duration": 6,
    "start_time": "2022-09-20T08:22:46.303Z"
   },
   {
    "duration": 52,
    "start_time": "2022-09-20T08:22:46.311Z"
   },
   {
    "duration": 10,
    "start_time": "2022-09-20T08:22:46.377Z"
   },
   {
    "duration": 9,
    "start_time": "2022-09-20T08:22:46.389Z"
   },
   {
    "duration": 19,
    "start_time": "2022-09-20T08:22:46.400Z"
   },
   {
    "duration": 9,
    "start_time": "2022-09-20T08:22:46.420Z"
   },
   {
    "duration": 28,
    "start_time": "2022-09-20T08:22:46.430Z"
   },
   {
    "duration": 28,
    "start_time": "2022-09-20T08:22:46.478Z"
   },
   {
    "duration": 5,
    "start_time": "2022-09-20T08:22:46.508Z"
   },
   {
    "duration": 17,
    "start_time": "2022-09-20T08:22:46.515Z"
   },
   {
    "duration": 346,
    "start_time": "2022-09-20T08:22:46.534Z"
   },
   {
    "duration": 4,
    "start_time": "2022-09-20T08:22:46.882Z"
   },
   {
    "duration": 20,
    "start_time": "2022-09-20T08:22:46.888Z"
   },
   {
    "duration": 13,
    "start_time": "2022-09-20T08:22:46.909Z"
   },
   {
    "duration": 6,
    "start_time": "2022-09-20T08:22:46.924Z"
   },
   {
    "duration": 6,
    "start_time": "2022-09-20T08:22:46.933Z"
   },
   {
    "duration": 9,
    "start_time": "2022-09-20T08:22:46.941Z"
   },
   {
    "duration": 180,
    "start_time": "2022-09-20T08:22:46.977Z"
   },
   {
    "duration": 8,
    "start_time": "2022-09-20T08:22:47.159Z"
   },
   {
    "duration": 326,
    "start_time": "2022-09-20T08:22:47.169Z"
   },
   {
    "duration": 417,
    "start_time": "2022-09-20T08:23:05.848Z"
   },
   {
    "duration": 365,
    "start_time": "2022-09-20T08:23:13.626Z"
   },
   {
    "duration": 344,
    "start_time": "2022-09-20T08:24:37.412Z"
   },
   {
    "duration": 398,
    "start_time": "2022-09-20T08:24:45.282Z"
   },
   {
    "duration": 1942,
    "start_time": "2022-09-20T08:30:00.522Z"
   },
   {
    "duration": 1332,
    "start_time": "2022-09-20T08:30:06.632Z"
   },
   {
    "duration": 56,
    "start_time": "2022-09-20T08:30:07.967Z"
   },
   {
    "duration": 16,
    "start_time": "2022-09-20T08:30:08.025Z"
   },
   {
    "duration": 3,
    "start_time": "2022-09-20T08:30:08.044Z"
   },
   {
    "duration": 21,
    "start_time": "2022-09-20T08:30:08.050Z"
   },
   {
    "duration": 24,
    "start_time": "2022-09-20T08:30:08.073Z"
   },
   {
    "duration": 4,
    "start_time": "2022-09-20T08:30:08.099Z"
   },
   {
    "duration": 72,
    "start_time": "2022-09-20T08:30:08.105Z"
   },
   {
    "duration": 11,
    "start_time": "2022-09-20T08:30:08.179Z"
   },
   {
    "duration": 11,
    "start_time": "2022-09-20T08:30:08.194Z"
   },
   {
    "duration": 12,
    "start_time": "2022-09-20T08:30:08.207Z"
   },
   {
    "duration": 6,
    "start_time": "2022-09-20T08:30:08.221Z"
   },
   {
    "duration": 51,
    "start_time": "2022-09-20T08:30:08.228Z"
   },
   {
    "duration": 22,
    "start_time": "2022-09-20T08:30:08.281Z"
   },
   {
    "duration": 5,
    "start_time": "2022-09-20T08:30:08.305Z"
   },
   {
    "duration": 23,
    "start_time": "2022-09-20T08:30:08.311Z"
   },
   {
    "duration": 383,
    "start_time": "2022-09-20T08:30:08.336Z"
   },
   {
    "duration": 5,
    "start_time": "2022-09-20T08:30:08.721Z"
   },
   {
    "duration": 28,
    "start_time": "2022-09-20T08:30:08.728Z"
   },
   {
    "duration": 14,
    "start_time": "2022-09-20T08:30:08.758Z"
   },
   {
    "duration": 9,
    "start_time": "2022-09-20T08:30:08.776Z"
   },
   {
    "duration": 18,
    "start_time": "2022-09-20T08:30:08.786Z"
   },
   {
    "duration": 10,
    "start_time": "2022-09-20T08:30:08.806Z"
   },
   {
    "duration": 160,
    "start_time": "2022-09-20T08:30:08.819Z"
   },
   {
    "duration": 11,
    "start_time": "2022-09-20T08:30:08.981Z"
   },
   {
    "duration": 362,
    "start_time": "2022-09-20T08:30:08.994Z"
   },
   {
    "duration": 2169,
    "start_time": "2022-09-20T08:30:09.358Z"
   },
   {
    "duration": 2069,
    "start_time": "2022-09-20T08:30:23.225Z"
   },
   {
    "duration": 132,
    "start_time": "2022-09-20T08:31:06.288Z"
   },
   {
    "duration": 102,
    "start_time": "2022-09-20T08:31:28.807Z"
   },
   {
    "duration": 11,
    "start_time": "2022-09-20T08:31:43.121Z"
   },
   {
    "duration": 476,
    "start_time": "2022-09-20T08:34:11.016Z"
   },
   {
    "duration": 318,
    "start_time": "2022-09-20T08:34:32.177Z"
   },
   {
    "duration": 289,
    "start_time": "2022-09-20T08:34:41.156Z"
   },
   {
    "duration": 326,
    "start_time": "2022-09-20T08:34:49.300Z"
   },
   {
    "duration": 360,
    "start_time": "2022-09-20T08:35:00.313Z"
   },
   {
    "duration": 14,
    "start_time": "2022-09-20T08:38:04.139Z"
   },
   {
    "duration": 21,
    "start_time": "2022-09-20T08:38:34.109Z"
   },
   {
    "duration": 127,
    "start_time": "2022-09-20T08:44:48.355Z"
   },
   {
    "duration": 22,
    "start_time": "2022-09-20T08:46:54.769Z"
   },
   {
    "duration": 35,
    "start_time": "2022-09-20T08:47:35.176Z"
   },
   {
    "duration": 38,
    "start_time": "2022-09-20T08:49:08.815Z"
   },
   {
    "duration": 25,
    "start_time": "2022-09-20T08:49:12.515Z"
   },
   {
    "duration": 7,
    "start_time": "2022-09-20T08:52:20.071Z"
   },
   {
    "duration": 213,
    "start_time": "2022-09-20T08:56:46.435Z"
   },
   {
    "duration": 325,
    "start_time": "2022-09-20T09:02:51.012Z"
   },
   {
    "duration": 12,
    "start_time": "2022-09-20T09:19:38.865Z"
   },
   {
    "duration": 1227,
    "start_time": "2022-09-20T09:19:45.646Z"
   },
   {
    "duration": 57,
    "start_time": "2022-09-20T09:19:46.877Z"
   },
   {
    "duration": 18,
    "start_time": "2022-09-20T09:19:46.937Z"
   },
   {
    "duration": 4,
    "start_time": "2022-09-20T09:19:46.958Z"
   },
   {
    "duration": 10,
    "start_time": "2022-09-20T09:19:46.964Z"
   },
   {
    "duration": 33,
    "start_time": "2022-09-20T09:19:46.976Z"
   },
   {
    "duration": 20,
    "start_time": "2022-09-20T09:19:47.011Z"
   },
   {
    "duration": 64,
    "start_time": "2022-09-20T09:19:47.033Z"
   },
   {
    "duration": 18,
    "start_time": "2022-09-20T09:19:47.099Z"
   },
   {
    "duration": 32,
    "start_time": "2022-09-20T09:19:47.121Z"
   },
   {
    "duration": 51,
    "start_time": "2022-09-20T09:19:47.155Z"
   },
   {
    "duration": 27,
    "start_time": "2022-09-20T09:19:47.208Z"
   },
   {
    "duration": 54,
    "start_time": "2022-09-20T09:19:47.237Z"
   },
   {
    "duration": 7,
    "start_time": "2022-09-20T09:19:47.293Z"
   },
   {
    "duration": 16,
    "start_time": "2022-09-20T09:19:47.301Z"
   },
   {
    "duration": 10,
    "start_time": "2022-09-20T09:19:47.318Z"
   },
   {
    "duration": 51,
    "start_time": "2022-09-20T09:19:47.330Z"
   },
   {
    "duration": 5,
    "start_time": "2022-09-20T09:19:47.382Z"
   },
   {
    "duration": 17,
    "start_time": "2022-09-20T09:19:47.389Z"
   },
   {
    "duration": 365,
    "start_time": "2022-09-20T09:19:47.407Z"
   },
   {
    "duration": 5,
    "start_time": "2022-09-20T09:19:47.774Z"
   },
   {
    "duration": 29,
    "start_time": "2022-09-20T09:19:47.781Z"
   },
   {
    "duration": 9,
    "start_time": "2022-09-20T09:19:47.812Z"
   },
   {
    "duration": 7,
    "start_time": "2022-09-20T09:19:47.823Z"
   },
   {
    "duration": 6,
    "start_time": "2022-09-20T09:19:47.833Z"
   },
   {
    "duration": 55,
    "start_time": "2022-09-20T09:19:47.841Z"
   },
   {
    "duration": 8,
    "start_time": "2022-09-20T09:19:47.898Z"
   },
   {
    "duration": 214,
    "start_time": "2022-09-20T09:19:47.910Z"
   },
   {
    "duration": 264,
    "start_time": "2022-09-20T09:19:48.126Z"
   },
   {
    "duration": 7,
    "start_time": "2022-09-20T09:19:48.392Z"
   },
   {
    "duration": 413,
    "start_time": "2022-09-20T09:19:48.401Z"
   },
   {
    "duration": 12,
    "start_time": "2022-09-20T09:19:48.816Z"
   },
   {
    "duration": 8,
    "start_time": "2022-09-20T09:20:13.864Z"
   },
   {
    "duration": 337,
    "start_time": "2022-09-20T09:21:41.582Z"
   },
   {
    "duration": 203,
    "start_time": "2022-09-20T09:22:12.224Z"
   },
   {
    "duration": 1271,
    "start_time": "2022-09-20T09:23:07.443Z"
   },
   {
    "duration": 55,
    "start_time": "2022-09-20T09:23:08.717Z"
   },
   {
    "duration": 18,
    "start_time": "2022-09-20T09:23:08.774Z"
   },
   {
    "duration": 18,
    "start_time": "2022-09-20T09:23:08.794Z"
   },
   {
    "duration": 11,
    "start_time": "2022-09-20T09:23:08.816Z"
   },
   {
    "duration": 24,
    "start_time": "2022-09-20T09:23:08.829Z"
   },
   {
    "duration": 17,
    "start_time": "2022-09-20T09:23:08.855Z"
   },
   {
    "duration": 90,
    "start_time": "2022-09-20T09:23:08.878Z"
   },
   {
    "duration": 14,
    "start_time": "2022-09-20T09:23:08.977Z"
   },
   {
    "duration": 42,
    "start_time": "2022-09-20T09:23:08.995Z"
   },
   {
    "duration": 32,
    "start_time": "2022-09-20T09:23:09.040Z"
   },
   {
    "duration": 34,
    "start_time": "2022-09-20T09:23:09.077Z"
   },
   {
    "duration": 35,
    "start_time": "2022-09-20T09:23:09.113Z"
   },
   {
    "duration": 31,
    "start_time": "2022-09-20T09:23:09.152Z"
   },
   {
    "duration": 25,
    "start_time": "2022-09-20T09:23:09.185Z"
   },
   {
    "duration": 9,
    "start_time": "2022-09-20T09:23:09.213Z"
   },
   {
    "duration": 27,
    "start_time": "2022-09-20T09:23:09.224Z"
   },
   {
    "duration": 28,
    "start_time": "2022-09-20T09:23:09.253Z"
   },
   {
    "duration": 18,
    "start_time": "2022-09-20T09:23:09.284Z"
   },
   {
    "duration": 463,
    "start_time": "2022-09-20T09:23:09.304Z"
   },
   {
    "duration": 10,
    "start_time": "2022-09-20T09:23:09.769Z"
   },
   {
    "duration": 43,
    "start_time": "2022-09-20T09:23:09.781Z"
   },
   {
    "duration": 10,
    "start_time": "2022-09-20T09:23:09.826Z"
   },
   {
    "duration": 7,
    "start_time": "2022-09-20T09:23:09.839Z"
   },
   {
    "duration": 28,
    "start_time": "2022-09-20T09:23:09.849Z"
   },
   {
    "duration": 22,
    "start_time": "2022-09-20T09:23:09.879Z"
   },
   {
    "duration": 9,
    "start_time": "2022-09-20T09:23:09.904Z"
   },
   {
    "duration": 189,
    "start_time": "2022-09-20T09:23:09.916Z"
   },
   {
    "duration": 226,
    "start_time": "2022-09-20T09:23:10.108Z"
   },
   {
    "duration": 10,
    "start_time": "2022-09-20T09:23:10.337Z"
   },
   {
    "duration": 394,
    "start_time": "2022-09-20T09:23:10.349Z"
   },
   {
    "duration": 14,
    "start_time": "2022-09-20T09:23:10.745Z"
   },
   {
    "duration": 22,
    "start_time": "2022-09-20T09:23:10.762Z"
   },
   {
    "duration": 305,
    "start_time": "2022-09-20T09:23:10.786Z"
   },
   {
    "duration": 164,
    "start_time": "2022-09-20T09:23:27.546Z"
   },
   {
    "duration": 5,
    "start_time": "2022-09-20T09:25:11.387Z"
   },
   {
    "duration": 182,
    "start_time": "2022-09-20T09:26:08.295Z"
   },
   {
    "duration": 441,
    "start_time": "2022-09-20T09:26:20.438Z"
   },
   {
    "duration": 11,
    "start_time": "2022-09-20T09:35:00.004Z"
   },
   {
    "duration": 1186,
    "start_time": "2022-09-20T09:35:06.486Z"
   },
   {
    "duration": 52,
    "start_time": "2022-09-20T09:35:07.674Z"
   },
   {
    "duration": 14,
    "start_time": "2022-09-20T09:35:07.730Z"
   },
   {
    "duration": 11,
    "start_time": "2022-09-20T09:35:07.746Z"
   },
   {
    "duration": 28,
    "start_time": "2022-09-20T09:35:07.759Z"
   },
   {
    "duration": 29,
    "start_time": "2022-09-20T09:35:07.789Z"
   },
   {
    "duration": 4,
    "start_time": "2022-09-20T09:35:07.820Z"
   },
   {
    "duration": 62,
    "start_time": "2022-09-20T09:35:07.825Z"
   },
   {
    "duration": 9,
    "start_time": "2022-09-20T09:35:07.889Z"
   },
   {
    "duration": 35,
    "start_time": "2022-09-20T09:35:07.899Z"
   },
   {
    "duration": 38,
    "start_time": "2022-09-20T09:35:07.936Z"
   },
   {
    "duration": 20,
    "start_time": "2022-09-20T09:35:07.977Z"
   },
   {
    "duration": 53,
    "start_time": "2022-09-20T09:35:08.001Z"
   },
   {
    "duration": 7,
    "start_time": "2022-09-20T09:35:08.056Z"
   },
   {
    "duration": 28,
    "start_time": "2022-09-20T09:35:08.065Z"
   },
   {
    "duration": 38,
    "start_time": "2022-09-20T09:35:08.095Z"
   },
   {
    "duration": 33,
    "start_time": "2022-09-20T09:35:08.135Z"
   },
   {
    "duration": 14,
    "start_time": "2022-09-20T09:35:08.170Z"
   },
   {
    "duration": 31,
    "start_time": "2022-09-20T09:35:08.186Z"
   },
   {
    "duration": 343,
    "start_time": "2022-09-20T09:35:08.219Z"
   },
   {
    "duration": 4,
    "start_time": "2022-09-20T09:35:08.565Z"
   },
   {
    "duration": 39,
    "start_time": "2022-09-20T09:35:08.576Z"
   },
   {
    "duration": 31,
    "start_time": "2022-09-20T09:35:08.617Z"
   },
   {
    "duration": 41,
    "start_time": "2022-09-20T09:35:08.650Z"
   },
   {
    "duration": 18,
    "start_time": "2022-09-20T09:35:08.693Z"
   },
   {
    "duration": 39,
    "start_time": "2022-09-20T09:35:08.713Z"
   },
   {
    "duration": 14,
    "start_time": "2022-09-20T09:35:08.753Z"
   },
   {
    "duration": 160,
    "start_time": "2022-09-20T09:35:08.769Z"
   },
   {
    "duration": 210,
    "start_time": "2022-09-20T09:35:08.931Z"
   },
   {
    "duration": 7,
    "start_time": "2022-09-20T09:35:09.143Z"
   },
   {
    "duration": 341,
    "start_time": "2022-09-20T09:35:09.152Z"
   },
   {
    "duration": 12,
    "start_time": "2022-09-20T09:35:09.495Z"
   },
   {
    "duration": 8,
    "start_time": "2022-09-20T09:35:09.509Z"
   },
   {
    "duration": 8,
    "start_time": "2022-09-20T09:35:09.518Z"
   },
   {
    "duration": 2400,
    "start_time": "2022-09-20T09:35:09.528Z"
   },
   {
    "duration": 16,
    "start_time": "2022-09-20T09:35:34.355Z"
   },
   {
    "duration": 1211,
    "start_time": "2022-09-20T09:37:29.286Z"
   },
   {
    "duration": 55,
    "start_time": "2022-09-20T09:37:30.499Z"
   },
   {
    "duration": 19,
    "start_time": "2022-09-20T09:37:30.556Z"
   },
   {
    "duration": 58,
    "start_time": "2022-09-20T09:37:30.577Z"
   },
   {
    "duration": 19,
    "start_time": "2022-09-20T09:37:30.638Z"
   },
   {
    "duration": 57,
    "start_time": "2022-09-20T09:37:30.659Z"
   },
   {
    "duration": 5,
    "start_time": "2022-09-20T09:37:30.718Z"
   },
   {
    "duration": 95,
    "start_time": "2022-09-20T09:37:30.726Z"
   },
   {
    "duration": 14,
    "start_time": "2022-09-20T09:37:30.823Z"
   },
   {
    "duration": 47,
    "start_time": "2022-09-20T09:37:30.840Z"
   },
   {
    "duration": 22,
    "start_time": "2022-09-20T09:37:30.889Z"
   },
   {
    "duration": 42,
    "start_time": "2022-09-20T09:37:30.912Z"
   },
   {
    "duration": 34,
    "start_time": "2022-09-20T09:37:30.956Z"
   },
   {
    "duration": 7,
    "start_time": "2022-09-20T09:37:30.994Z"
   },
   {
    "duration": 22,
    "start_time": "2022-09-20T09:37:31.002Z"
   },
   {
    "duration": 21,
    "start_time": "2022-09-20T09:37:31.026Z"
   },
   {
    "duration": 26,
    "start_time": "2022-09-20T09:37:31.049Z"
   },
   {
    "duration": 28,
    "start_time": "2022-09-20T09:37:31.077Z"
   },
   {
    "duration": 39,
    "start_time": "2022-09-20T09:37:31.108Z"
   },
   {
    "duration": 363,
    "start_time": "2022-09-20T09:37:31.150Z"
   },
   {
    "duration": 5,
    "start_time": "2022-09-20T09:37:31.515Z"
   },
   {
    "duration": 31,
    "start_time": "2022-09-20T09:37:31.521Z"
   },
   {
    "duration": 15,
    "start_time": "2022-09-20T09:37:31.554Z"
   },
   {
    "duration": 21,
    "start_time": "2022-09-20T09:37:31.570Z"
   },
   {
    "duration": 26,
    "start_time": "2022-09-20T09:37:31.592Z"
   },
   {
    "duration": 27,
    "start_time": "2022-09-20T09:37:31.619Z"
   },
   {
    "duration": 15,
    "start_time": "2022-09-20T09:37:31.647Z"
   },
   {
    "duration": 153,
    "start_time": "2022-09-20T09:37:31.663Z"
   },
   {
    "duration": 205,
    "start_time": "2022-09-20T09:37:31.818Z"
   },
   {
    "duration": 7,
    "start_time": "2022-09-20T09:37:32.024Z"
   },
   {
    "duration": 336,
    "start_time": "2022-09-20T09:37:32.033Z"
   },
   {
    "duration": 11,
    "start_time": "2022-09-20T09:37:32.371Z"
   },
   {
    "duration": 7,
    "start_time": "2022-09-20T09:37:32.384Z"
   },
   {
    "duration": 5,
    "start_time": "2022-09-20T09:37:32.393Z"
   },
   {
    "duration": 329,
    "start_time": "2022-09-20T09:37:32.400Z"
   },
   {
    "duration": 105,
    "start_time": "2022-09-20T09:47:12.461Z"
   },
   {
    "duration": 7,
    "start_time": "2022-09-20T09:47:37.505Z"
   },
   {
    "duration": 1158,
    "start_time": "2022-09-20T09:47:42.907Z"
   },
   {
    "duration": 53,
    "start_time": "2022-09-20T09:47:44.067Z"
   },
   {
    "duration": 15,
    "start_time": "2022-09-20T09:47:44.124Z"
   },
   {
    "duration": 6,
    "start_time": "2022-09-20T09:47:44.141Z"
   },
   {
    "duration": 9,
    "start_time": "2022-09-20T09:47:44.148Z"
   },
   {
    "duration": 28,
    "start_time": "2022-09-20T09:47:44.159Z"
   },
   {
    "duration": 5,
    "start_time": "2022-09-20T09:47:44.188Z"
   },
   {
    "duration": 115,
    "start_time": "2022-09-20T09:47:44.196Z"
   },
   {
    "duration": 13,
    "start_time": "2022-09-20T09:47:44.316Z"
   },
   {
    "duration": 47,
    "start_time": "2022-09-20T09:47:44.331Z"
   },
   {
    "duration": 23,
    "start_time": "2022-09-20T09:47:44.380Z"
   },
   {
    "duration": 30,
    "start_time": "2022-09-20T09:47:44.404Z"
   },
   {
    "duration": 44,
    "start_time": "2022-09-20T09:47:44.437Z"
   },
   {
    "duration": 10,
    "start_time": "2022-09-20T09:47:44.483Z"
   },
   {
    "duration": 20,
    "start_time": "2022-09-20T09:47:44.495Z"
   },
   {
    "duration": 9,
    "start_time": "2022-09-20T09:47:44.517Z"
   },
   {
    "duration": 18,
    "start_time": "2022-09-20T09:47:44.527Z"
   },
   {
    "duration": 5,
    "start_time": "2022-09-20T09:47:44.577Z"
   },
   {
    "duration": 28,
    "start_time": "2022-09-20T09:47:44.584Z"
   },
   {
    "duration": 352,
    "start_time": "2022-09-20T09:47:44.614Z"
   },
   {
    "duration": 10,
    "start_time": "2022-09-20T09:47:44.968Z"
   },
   {
    "duration": 17,
    "start_time": "2022-09-20T09:47:44.980Z"
   },
   {
    "duration": 8,
    "start_time": "2022-09-20T09:47:44.999Z"
   },
   {
    "duration": 22,
    "start_time": "2022-09-20T09:47:45.008Z"
   },
   {
    "duration": 30,
    "start_time": "2022-09-20T09:47:45.032Z"
   },
   {
    "duration": 36,
    "start_time": "2022-09-20T09:47:45.063Z"
   },
   {
    "duration": 18,
    "start_time": "2022-09-20T09:47:45.103Z"
   },
   {
    "duration": 180,
    "start_time": "2022-09-20T09:47:45.123Z"
   },
   {
    "duration": 255,
    "start_time": "2022-09-20T09:47:45.305Z"
   },
   {
    "duration": 15,
    "start_time": "2022-09-20T09:47:45.562Z"
   },
   {
    "duration": 374,
    "start_time": "2022-09-20T09:47:45.579Z"
   },
   {
    "duration": 26,
    "start_time": "2022-09-20T09:47:45.955Z"
   },
   {
    "duration": 20,
    "start_time": "2022-09-20T09:47:45.982Z"
   },
   {
    "duration": 9,
    "start_time": "2022-09-20T09:47:46.004Z"
   },
   {
    "duration": 333,
    "start_time": "2022-09-20T09:47:46.015Z"
   },
   {
    "duration": 7,
    "start_time": "2022-09-20T09:47:46.350Z"
   },
   {
    "duration": 10,
    "start_time": "2022-09-20T09:48:23.467Z"
   },
   {
    "duration": 100,
    "start_time": "2022-09-20T09:50:07.259Z"
   },
   {
    "duration": 25,
    "start_time": "2022-09-20T09:50:31.758Z"
   },
   {
    "duration": 1192,
    "start_time": "2022-09-20T09:50:37.568Z"
   },
   {
    "duration": 53,
    "start_time": "2022-09-20T09:50:38.762Z"
   },
   {
    "duration": 15,
    "start_time": "2022-09-20T09:50:38.817Z"
   },
   {
    "duration": 4,
    "start_time": "2022-09-20T09:50:38.835Z"
   },
   {
    "duration": 8,
    "start_time": "2022-09-20T09:50:38.841Z"
   },
   {
    "duration": 31,
    "start_time": "2022-09-20T09:50:38.851Z"
   },
   {
    "duration": 17,
    "start_time": "2022-09-20T09:50:38.884Z"
   },
   {
    "duration": 3,
    "start_time": "2022-09-20T09:50:38.903Z"
   },
   {
    "duration": 78,
    "start_time": "2022-09-20T09:50:38.908Z"
   },
   {
    "duration": 9,
    "start_time": "2022-09-20T09:50:38.988Z"
   },
   {
    "duration": 20,
    "start_time": "2022-09-20T09:50:38.998Z"
   },
   {
    "duration": 21,
    "start_time": "2022-09-20T09:50:39.019Z"
   },
   {
    "duration": 46,
    "start_time": "2022-09-20T09:50:39.041Z"
   },
   {
    "duration": 25,
    "start_time": "2022-09-20T09:50:39.089Z"
   },
   {
    "duration": 10,
    "start_time": "2022-09-20T09:50:39.115Z"
   },
   {
    "duration": 16,
    "start_time": "2022-09-20T09:50:39.126Z"
   },
   {
    "duration": 6,
    "start_time": "2022-09-20T09:50:39.143Z"
   },
   {
    "duration": 45,
    "start_time": "2022-09-20T09:50:39.150Z"
   },
   {
    "duration": 4,
    "start_time": "2022-09-20T09:50:39.197Z"
   },
   {
    "duration": 24,
    "start_time": "2022-09-20T09:50:39.202Z"
   },
   {
    "duration": 343,
    "start_time": "2022-09-20T09:50:39.227Z"
   },
   {
    "duration": 5,
    "start_time": "2022-09-20T09:50:39.572Z"
   },
   {
    "duration": 19,
    "start_time": "2022-09-20T09:50:39.578Z"
   },
   {
    "duration": 9,
    "start_time": "2022-09-20T09:50:39.599Z"
   },
   {
    "duration": 5,
    "start_time": "2022-09-20T09:50:39.610Z"
   },
   {
    "duration": 8,
    "start_time": "2022-09-20T09:50:39.616Z"
   },
   {
    "duration": 19,
    "start_time": "2022-09-20T09:50:39.626Z"
   },
   {
    "duration": 7,
    "start_time": "2022-09-20T09:50:39.676Z"
   },
   {
    "duration": 150,
    "start_time": "2022-09-20T09:50:39.684Z"
   },
   {
    "duration": 210,
    "start_time": "2022-09-20T09:50:39.836Z"
   },
   {
    "duration": 8,
    "start_time": "2022-09-20T09:50:40.048Z"
   },
   {
    "duration": 357,
    "start_time": "2022-09-20T09:50:40.058Z"
   },
   {
    "duration": 12,
    "start_time": "2022-09-20T09:50:40.416Z"
   },
   {
    "duration": 14,
    "start_time": "2022-09-20T09:50:40.430Z"
   },
   {
    "duration": 14,
    "start_time": "2022-09-20T09:50:40.445Z"
   },
   {
    "duration": 327,
    "start_time": "2022-09-20T09:50:40.461Z"
   },
   {
    "duration": 9,
    "start_time": "2022-09-20T09:50:40.790Z"
   },
   {
    "duration": 10,
    "start_time": "2022-09-20T09:50:40.800Z"
   },
   {
    "duration": 199,
    "start_time": "2022-09-20T09:52:01.240Z"
   },
   {
    "duration": 107,
    "start_time": "2022-09-20T09:58:14.756Z"
   },
   {
    "duration": 11,
    "start_time": "2022-09-20T09:58:45.780Z"
   },
   {
    "duration": 250,
    "start_time": "2022-09-20T09:59:16.329Z"
   },
   {
    "duration": 177,
    "start_time": "2022-09-20T09:59:37.204Z"
   },
   {
    "duration": 1164,
    "start_time": "2022-09-20T10:00:12.886Z"
   },
   {
    "duration": 64,
    "start_time": "2022-09-20T10:00:14.053Z"
   },
   {
    "duration": 16,
    "start_time": "2022-09-20T10:00:14.119Z"
   },
   {
    "duration": 3,
    "start_time": "2022-09-20T10:00:14.137Z"
   },
   {
    "duration": 8,
    "start_time": "2022-09-20T10:00:14.141Z"
   },
   {
    "duration": 57,
    "start_time": "2022-09-20T10:00:14.151Z"
   },
   {
    "duration": 27,
    "start_time": "2022-09-20T10:00:14.210Z"
   },
   {
    "duration": 5,
    "start_time": "2022-09-20T10:00:14.240Z"
   },
   {
    "duration": 89,
    "start_time": "2022-09-20T10:00:14.246Z"
   },
   {
    "duration": 9,
    "start_time": "2022-09-20T10:00:14.338Z"
   },
   {
    "duration": 40,
    "start_time": "2022-09-20T10:00:14.349Z"
   },
   {
    "duration": 34,
    "start_time": "2022-09-20T10:00:14.390Z"
   },
   {
    "duration": 52,
    "start_time": "2022-09-20T10:00:14.426Z"
   },
   {
    "duration": 31,
    "start_time": "2022-09-20T10:00:14.481Z"
   },
   {
    "duration": 7,
    "start_time": "2022-09-20T10:00:14.514Z"
   },
   {
    "duration": 16,
    "start_time": "2022-09-20T10:00:14.523Z"
   },
   {
    "duration": 36,
    "start_time": "2022-09-20T10:00:14.541Z"
   },
   {
    "duration": 19,
    "start_time": "2022-09-20T10:00:14.579Z"
   },
   {
    "duration": 5,
    "start_time": "2022-09-20T10:00:14.600Z"
   },
   {
    "duration": 25,
    "start_time": "2022-09-20T10:00:14.607Z"
   },
   {
    "duration": 379,
    "start_time": "2022-09-20T10:00:14.634Z"
   },
   {
    "duration": 5,
    "start_time": "2022-09-20T10:00:15.015Z"
   },
   {
    "duration": 41,
    "start_time": "2022-09-20T10:00:15.021Z"
   },
   {
    "duration": 13,
    "start_time": "2022-09-20T10:00:15.064Z"
   },
   {
    "duration": 8,
    "start_time": "2022-09-20T10:00:15.078Z"
   },
   {
    "duration": 8,
    "start_time": "2022-09-20T10:00:15.087Z"
   },
   {
    "duration": 18,
    "start_time": "2022-09-20T10:00:15.096Z"
   },
   {
    "duration": 10,
    "start_time": "2022-09-20T10:00:15.117Z"
   },
   {
    "duration": 235,
    "start_time": "2022-09-20T10:00:15.130Z"
   },
   {
    "duration": 238,
    "start_time": "2022-09-20T10:00:15.367Z"
   },
   {
    "duration": 7,
    "start_time": "2022-09-20T10:00:15.607Z"
   },
   {
    "duration": 394,
    "start_time": "2022-09-20T10:00:15.616Z"
   },
   {
    "duration": 13,
    "start_time": "2022-09-20T10:00:16.012Z"
   },
   {
    "duration": 12,
    "start_time": "2022-09-20T10:00:16.027Z"
   },
   {
    "duration": 8,
    "start_time": "2022-09-20T10:00:16.041Z"
   },
   {
    "duration": 339,
    "start_time": "2022-09-20T10:00:16.051Z"
   },
   {
    "duration": 8,
    "start_time": "2022-09-20T10:00:16.392Z"
   },
   {
    "duration": 17,
    "start_time": "2022-09-20T10:00:16.402Z"
   },
   {
    "duration": 258,
    "start_time": "2022-09-20T10:00:16.421Z"
   },
   {
    "duration": 8,
    "start_time": "2022-09-20T10:00:16.681Z"
   },
   {
    "duration": 259,
    "start_time": "2022-09-20T10:00:16.691Z"
   },
   {
    "duration": 198,
    "start_time": "2022-09-20T10:00:16.952Z"
   },
   {
    "duration": 6,
    "start_time": "2022-09-20T10:00:17.151Z"
   },
   {
    "duration": 13,
    "start_time": "2022-09-20T10:02:26.228Z"
   },
   {
    "duration": 1200,
    "start_time": "2022-09-20T10:02:33.081Z"
   },
   {
    "duration": 53,
    "start_time": "2022-09-20T10:02:34.283Z"
   },
   {
    "duration": 16,
    "start_time": "2022-09-20T10:02:34.337Z"
   },
   {
    "duration": 8,
    "start_time": "2022-09-20T10:02:34.355Z"
   },
   {
    "duration": 8,
    "start_time": "2022-09-20T10:02:34.365Z"
   },
   {
    "duration": 46,
    "start_time": "2022-09-20T10:02:34.375Z"
   },
   {
    "duration": 20,
    "start_time": "2022-09-20T10:02:34.423Z"
   },
   {
    "duration": 5,
    "start_time": "2022-09-20T10:02:34.445Z"
   },
   {
    "duration": 55,
    "start_time": "2022-09-20T10:02:34.452Z"
   },
   {
    "duration": 9,
    "start_time": "2022-09-20T10:02:34.508Z"
   },
   {
    "duration": 32,
    "start_time": "2022-09-20T10:02:34.518Z"
   },
   {
    "duration": 28,
    "start_time": "2022-09-20T10:02:34.552Z"
   },
   {
    "duration": 23,
    "start_time": "2022-09-20T10:02:34.581Z"
   },
   {
    "duration": 24,
    "start_time": "2022-09-20T10:02:34.607Z"
   },
   {
    "duration": 7,
    "start_time": "2022-09-20T10:02:34.632Z"
   },
   {
    "duration": 44,
    "start_time": "2022-09-20T10:02:34.640Z"
   },
   {
    "duration": 6,
    "start_time": "2022-09-20T10:02:34.685Z"
   },
   {
    "duration": 21,
    "start_time": "2022-09-20T10:02:34.693Z"
   },
   {
    "duration": 5,
    "start_time": "2022-09-20T10:02:34.715Z"
   },
   {
    "duration": 22,
    "start_time": "2022-09-20T10:02:34.722Z"
   },
   {
    "duration": 363,
    "start_time": "2022-09-20T10:02:34.746Z"
   },
   {
    "duration": 4,
    "start_time": "2022-09-20T10:02:35.111Z"
   },
   {
    "duration": 37,
    "start_time": "2022-09-20T10:02:35.116Z"
   },
   {
    "duration": 25,
    "start_time": "2022-09-20T10:02:35.155Z"
   },
   {
    "duration": 16,
    "start_time": "2022-09-20T10:02:35.182Z"
   },
   {
    "duration": 44,
    "start_time": "2022-09-20T10:02:35.200Z"
   },
   {
    "duration": 37,
    "start_time": "2022-09-20T10:02:35.247Z"
   },
   {
    "duration": 8,
    "start_time": "2022-09-20T10:02:35.286Z"
   },
   {
    "duration": 191,
    "start_time": "2022-09-20T10:02:35.295Z"
   },
   {
    "duration": 218,
    "start_time": "2022-09-20T10:02:35.487Z"
   },
   {
    "duration": 7,
    "start_time": "2022-09-20T10:02:35.706Z"
   },
   {
    "duration": 353,
    "start_time": "2022-09-20T10:02:35.715Z"
   },
   {
    "duration": 15,
    "start_time": "2022-09-20T10:02:36.070Z"
   },
   {
    "duration": 8,
    "start_time": "2022-09-20T10:02:36.087Z"
   },
   {
    "duration": 12,
    "start_time": "2022-09-20T10:02:36.097Z"
   },
   {
    "duration": 316,
    "start_time": "2022-09-20T10:02:36.111Z"
   },
   {
    "duration": 8,
    "start_time": "2022-09-20T10:02:36.429Z"
   },
   {
    "duration": 8,
    "start_time": "2022-09-20T10:02:36.439Z"
   },
   {
    "duration": 214,
    "start_time": "2022-09-20T10:02:36.449Z"
   },
   {
    "duration": 13,
    "start_time": "2022-09-20T10:02:36.665Z"
   },
   {
    "duration": 247,
    "start_time": "2022-09-20T10:02:36.681Z"
   },
   {
    "duration": 208,
    "start_time": "2022-09-20T10:02:36.930Z"
   },
   {
    "duration": 5,
    "start_time": "2022-09-20T10:02:37.140Z"
   },
   {
    "duration": 9,
    "start_time": "2022-09-20T10:02:37.146Z"
   },
   {
    "duration": 112,
    "start_time": "2022-09-20T10:02:47.745Z"
   },
   {
    "duration": 8,
    "start_time": "2022-09-20T10:03:44.765Z"
   },
   {
    "duration": 1270,
    "start_time": "2022-09-20T10:04:00.823Z"
   },
   {
    "duration": 52,
    "start_time": "2022-09-20T10:04:02.095Z"
   },
   {
    "duration": 16,
    "start_time": "2022-09-20T10:04:02.149Z"
   },
   {
    "duration": 3,
    "start_time": "2022-09-20T10:04:02.168Z"
   },
   {
    "duration": 16,
    "start_time": "2022-09-20T10:04:02.173Z"
   },
   {
    "duration": 30,
    "start_time": "2022-09-20T10:04:02.191Z"
   },
   {
    "duration": 17,
    "start_time": "2022-09-20T10:04:02.223Z"
   },
   {
    "duration": 4,
    "start_time": "2022-09-20T10:04:02.242Z"
   },
   {
    "duration": 69,
    "start_time": "2022-09-20T10:04:02.247Z"
   },
   {
    "duration": 8,
    "start_time": "2022-09-20T10:04:02.319Z"
   },
   {
    "duration": 28,
    "start_time": "2022-09-20T10:04:02.328Z"
   },
   {
    "duration": 28,
    "start_time": "2022-09-20T10:04:02.358Z"
   },
   {
    "duration": 20,
    "start_time": "2022-09-20T10:04:02.388Z"
   },
   {
    "duration": 22,
    "start_time": "2022-09-20T10:04:02.410Z"
   },
   {
    "duration": 10,
    "start_time": "2022-09-20T10:04:02.434Z"
   },
   {
    "duration": 44,
    "start_time": "2022-09-20T10:04:02.446Z"
   },
   {
    "duration": 8,
    "start_time": "2022-09-20T10:04:02.492Z"
   },
   {
    "duration": 24,
    "start_time": "2022-09-20T10:04:02.502Z"
   },
   {
    "duration": 4,
    "start_time": "2022-09-20T10:04:02.528Z"
   },
   {
    "duration": 43,
    "start_time": "2022-09-20T10:04:02.534Z"
   },
   {
    "duration": 331,
    "start_time": "2022-09-20T10:04:02.579Z"
   },
   {
    "duration": 4,
    "start_time": "2022-09-20T10:04:02.912Z"
   },
   {
    "duration": 19,
    "start_time": "2022-09-20T10:04:02.918Z"
   },
   {
    "duration": 12,
    "start_time": "2022-09-20T10:04:02.939Z"
   },
   {
    "duration": 5,
    "start_time": "2022-09-20T10:04:02.953Z"
   },
   {
    "duration": 17,
    "start_time": "2022-09-20T10:04:02.960Z"
   },
   {
    "duration": 17,
    "start_time": "2022-09-20T10:04:02.979Z"
   },
   {
    "duration": 6,
    "start_time": "2022-09-20T10:04:02.999Z"
   },
   {
    "duration": 190,
    "start_time": "2022-09-20T10:04:03.006Z"
   },
   {
    "duration": 213,
    "start_time": "2022-09-20T10:04:03.198Z"
   },
   {
    "duration": 7,
    "start_time": "2022-09-20T10:04:03.413Z"
   },
   {
    "duration": 352,
    "start_time": "2022-09-20T10:04:03.422Z"
   },
   {
    "duration": 12,
    "start_time": "2022-09-20T10:04:03.777Z"
   },
   {
    "duration": 21,
    "start_time": "2022-09-20T10:04:03.790Z"
   },
   {
    "duration": 23,
    "start_time": "2022-09-20T10:04:03.812Z"
   },
   {
    "duration": 314,
    "start_time": "2022-09-20T10:04:03.837Z"
   },
   {
    "duration": 9,
    "start_time": "2022-09-20T10:04:04.153Z"
   },
   {
    "duration": 29,
    "start_time": "2022-09-20T10:04:04.164Z"
   },
   {
    "duration": 200,
    "start_time": "2022-09-20T10:04:04.195Z"
   },
   {
    "duration": 8,
    "start_time": "2022-09-20T10:04:04.397Z"
   },
   {
    "duration": 266,
    "start_time": "2022-09-20T10:04:04.407Z"
   },
   {
    "duration": 170,
    "start_time": "2022-09-20T10:04:04.676Z"
   },
   {
    "duration": 7,
    "start_time": "2022-09-20T10:04:04.848Z"
   },
   {
    "duration": 20,
    "start_time": "2022-09-20T10:04:04.857Z"
   },
   {
    "duration": 1390,
    "start_time": "2022-09-20T10:04:04.879Z"
   },
   {
    "duration": 120,
    "start_time": "2022-09-20T10:05:44.221Z"
   },
   {
    "duration": 77,
    "start_time": "2022-09-20T10:06:11.474Z"
   },
   {
    "duration": 20,
    "start_time": "2022-09-20T10:10:23.621Z"
   },
   {
    "duration": 223,
    "start_time": "2022-09-20T10:11:16.540Z"
   },
   {
    "duration": 54,
    "start_time": "2022-09-20T10:22:31.455Z"
   },
   {
    "duration": 4,
    "start_time": "2022-09-20T10:26:36.890Z"
   },
   {
    "duration": 119,
    "start_time": "2022-09-20T10:28:18.599Z"
   },
   {
    "duration": 205,
    "start_time": "2022-09-20T12:23:51.990Z"
   },
   {
    "duration": 17,
    "start_time": "2022-09-20T12:23:59.542Z"
   },
   {
    "duration": 12,
    "start_time": "2022-09-20T12:24:18.102Z"
   },
   {
    "duration": 88,
    "start_time": "2022-09-20T12:26:11.931Z"
   },
   {
    "duration": 19,
    "start_time": "2022-09-20T12:26:32.392Z"
   },
   {
    "duration": 13,
    "start_time": "2022-09-20T12:26:55.828Z"
   },
   {
    "duration": 1254,
    "start_time": "2022-09-20T12:27:01.543Z"
   },
   {
    "duration": 52,
    "start_time": "2022-09-20T12:27:02.799Z"
   },
   {
    "duration": 17,
    "start_time": "2022-09-20T12:27:02.853Z"
   },
   {
    "duration": 7,
    "start_time": "2022-09-20T12:27:02.873Z"
   },
   {
    "duration": 25,
    "start_time": "2022-09-20T12:27:02.884Z"
   },
   {
    "duration": 36,
    "start_time": "2022-09-20T12:27:02.911Z"
   },
   {
    "duration": 24,
    "start_time": "2022-09-20T12:27:02.950Z"
   },
   {
    "duration": 9,
    "start_time": "2022-09-20T12:27:02.975Z"
   },
   {
    "duration": 76,
    "start_time": "2022-09-20T12:27:02.985Z"
   },
   {
    "duration": 9,
    "start_time": "2022-09-20T12:27:03.065Z"
   },
   {
    "duration": 33,
    "start_time": "2022-09-20T12:27:03.079Z"
   },
   {
    "duration": 32,
    "start_time": "2022-09-20T12:27:03.114Z"
   },
   {
    "duration": 49,
    "start_time": "2022-09-20T12:27:03.148Z"
   },
   {
    "duration": 23,
    "start_time": "2022-09-20T12:27:03.199Z"
   },
   {
    "duration": 7,
    "start_time": "2022-09-20T12:27:03.225Z"
   },
   {
    "duration": 15,
    "start_time": "2022-09-20T12:27:03.234Z"
   },
   {
    "duration": 33,
    "start_time": "2022-09-20T12:27:03.251Z"
   },
   {
    "duration": 41,
    "start_time": "2022-09-20T12:27:03.286Z"
   },
   {
    "duration": 5,
    "start_time": "2022-09-20T12:27:03.330Z"
   },
   {
    "duration": 26,
    "start_time": "2022-09-20T12:27:03.337Z"
   },
   {
    "duration": 371,
    "start_time": "2022-09-20T12:27:03.366Z"
   },
   {
    "duration": 5,
    "start_time": "2022-09-20T12:27:03.739Z"
   },
   {
    "duration": 17,
    "start_time": "2022-09-20T12:27:03.746Z"
   },
   {
    "duration": 21,
    "start_time": "2022-09-20T12:27:03.778Z"
   },
   {
    "duration": 10,
    "start_time": "2022-09-20T12:27:03.801Z"
   },
   {
    "duration": 5,
    "start_time": "2022-09-20T12:27:03.813Z"
   },
   {
    "duration": 18,
    "start_time": "2022-09-20T12:27:03.820Z"
   },
   {
    "duration": 6,
    "start_time": "2022-09-20T12:27:03.841Z"
   },
   {
    "duration": 194,
    "start_time": "2022-09-20T12:27:03.849Z"
   },
   {
    "duration": 234,
    "start_time": "2022-09-20T12:27:04.045Z"
   },
   {
    "duration": 10,
    "start_time": "2022-09-20T12:27:04.285Z"
   },
   {
    "duration": 363,
    "start_time": "2022-09-20T12:27:04.297Z"
   },
   {
    "duration": 21,
    "start_time": "2022-09-20T12:27:04.661Z"
   },
   {
    "duration": 20,
    "start_time": "2022-09-20T12:27:04.684Z"
   },
   {
    "duration": 7,
    "start_time": "2022-09-20T12:27:04.706Z"
   },
   {
    "duration": 327,
    "start_time": "2022-09-20T12:27:04.715Z"
   },
   {
    "duration": 9,
    "start_time": "2022-09-20T12:27:05.043Z"
   },
   {
    "duration": 29,
    "start_time": "2022-09-20T12:27:05.054Z"
   },
   {
    "duration": 231,
    "start_time": "2022-09-20T12:27:05.084Z"
   },
   {
    "duration": 13,
    "start_time": "2022-09-20T12:27:05.318Z"
   },
   {
    "duration": 386,
    "start_time": "2022-09-20T12:27:05.333Z"
   },
   {
    "duration": 206,
    "start_time": "2022-09-20T12:27:05.721Z"
   },
   {
    "duration": 5,
    "start_time": "2022-09-20T12:27:05.929Z"
   },
   {
    "duration": 10,
    "start_time": "2022-09-20T12:27:05.936Z"
   },
   {
    "duration": 1477,
    "start_time": "2022-09-20T12:27:05.948Z"
   },
   {
    "duration": 93,
    "start_time": "2022-09-20T12:27:07.427Z"
   },
   {
    "duration": 24,
    "start_time": "2022-09-20T12:27:07.521Z"
   },
   {
    "duration": 254,
    "start_time": "2022-09-20T12:27:07.548Z"
   },
   {
    "duration": 77,
    "start_time": "2022-09-20T12:27:07.803Z"
   },
   {
    "duration": 0,
    "start_time": "2022-09-20T12:27:07.881Z"
   },
   {
    "duration": 0,
    "start_time": "2022-09-20T12:27:07.885Z"
   },
   {
    "duration": 1150,
    "start_time": "2022-09-20T12:27:25.021Z"
   },
   {
    "duration": 56,
    "start_time": "2022-09-20T12:27:26.173Z"
   },
   {
    "duration": 13,
    "start_time": "2022-09-20T12:27:26.231Z"
   },
   {
    "duration": 47,
    "start_time": "2022-09-20T12:27:26.246Z"
   },
   {
    "duration": 35,
    "start_time": "2022-09-20T12:27:26.295Z"
   },
   {
    "duration": 52,
    "start_time": "2022-09-20T12:27:26.331Z"
   },
   {
    "duration": 51,
    "start_time": "2022-09-20T12:27:26.384Z"
   },
   {
    "duration": 23,
    "start_time": "2022-09-20T12:27:26.437Z"
   },
   {
    "duration": 92,
    "start_time": "2022-09-20T12:27:26.461Z"
   },
   {
    "duration": 11,
    "start_time": "2022-09-20T12:27:26.556Z"
   },
   {
    "duration": 76,
    "start_time": "2022-09-20T12:27:26.569Z"
   },
   {
    "duration": 50,
    "start_time": "2022-09-20T12:27:26.647Z"
   },
   {
    "duration": 47,
    "start_time": "2022-09-20T12:27:26.700Z"
   },
   {
    "duration": 61,
    "start_time": "2022-09-20T12:27:26.748Z"
   },
   {
    "duration": 51,
    "start_time": "2022-09-20T12:27:26.811Z"
   },
   {
    "duration": 47,
    "start_time": "2022-09-20T12:27:26.864Z"
   },
   {
    "duration": 41,
    "start_time": "2022-09-20T12:27:26.913Z"
   },
   {
    "duration": 61,
    "start_time": "2022-09-20T12:27:26.955Z"
   },
   {
    "duration": 35,
    "start_time": "2022-09-20T12:27:27.018Z"
   },
   {
    "duration": 85,
    "start_time": "2022-09-20T12:27:27.055Z"
   },
   {
    "duration": 384,
    "start_time": "2022-09-20T12:27:27.142Z"
   },
   {
    "duration": 5,
    "start_time": "2022-09-20T12:27:27.528Z"
   },
   {
    "duration": 95,
    "start_time": "2022-09-20T12:27:27.534Z"
   },
   {
    "duration": 52,
    "start_time": "2022-09-20T12:27:27.630Z"
   },
   {
    "duration": 50,
    "start_time": "2022-09-20T12:27:27.691Z"
   },
   {
    "duration": 49,
    "start_time": "2022-09-20T12:27:27.743Z"
   },
   {
    "duration": 49,
    "start_time": "2022-09-20T12:27:27.793Z"
   },
   {
    "duration": 54,
    "start_time": "2022-09-20T12:27:27.846Z"
   },
   {
    "duration": 191,
    "start_time": "2022-09-20T12:27:27.902Z"
   },
   {
    "duration": 217,
    "start_time": "2022-09-20T12:27:28.095Z"
   },
   {
    "duration": 7,
    "start_time": "2022-09-20T12:27:28.314Z"
   },
   {
    "duration": 384,
    "start_time": "2022-09-20T12:27:28.323Z"
   },
   {
    "duration": 13,
    "start_time": "2022-09-20T12:27:28.709Z"
   },
   {
    "duration": 27,
    "start_time": "2022-09-20T12:27:28.724Z"
   },
   {
    "duration": 20,
    "start_time": "2022-09-20T12:27:28.753Z"
   },
   {
    "duration": 353,
    "start_time": "2022-09-20T12:27:28.775Z"
   },
   {
    "duration": 9,
    "start_time": "2022-09-20T12:27:29.130Z"
   },
   {
    "duration": 10,
    "start_time": "2022-09-20T12:27:29.140Z"
   },
   {
    "duration": 245,
    "start_time": "2022-09-20T12:27:29.152Z"
   },
   {
    "duration": 8,
    "start_time": "2022-09-20T12:27:29.399Z"
   },
   {
    "duration": 240,
    "start_time": "2022-09-20T12:27:29.409Z"
   },
   {
    "duration": 188,
    "start_time": "2022-09-20T12:27:29.651Z"
   },
   {
    "duration": 7,
    "start_time": "2022-09-20T12:27:29.841Z"
   },
   {
    "duration": 14,
    "start_time": "2022-09-20T12:27:29.849Z"
   },
   {
    "duration": 1479,
    "start_time": "2022-09-20T12:27:29.877Z"
   },
   {
    "duration": 86,
    "start_time": "2022-09-20T12:27:31.358Z"
   },
   {
    "duration": 46,
    "start_time": "2022-09-20T12:27:31.446Z"
   },
   {
    "duration": 229,
    "start_time": "2022-09-20T12:27:31.493Z"
   },
   {
    "duration": 110,
    "start_time": "2022-09-20T12:27:31.724Z"
   },
   {
    "duration": 0,
    "start_time": "2022-09-20T12:27:31.836Z"
   },
   {
    "duration": 0,
    "start_time": "2022-09-20T12:27:31.838Z"
   },
   {
    "duration": 191,
    "start_time": "2022-09-20T12:27:46.235Z"
   },
   {
    "duration": 174,
    "start_time": "2022-09-20T12:28:58.034Z"
   },
   {
    "duration": 107,
    "start_time": "2022-09-20T12:33:01.974Z"
   },
   {
    "duration": 15,
    "start_time": "2022-09-20T12:33:11.866Z"
   },
   {
    "duration": 10,
    "start_time": "2022-09-20T12:35:01.000Z"
   },
   {
    "duration": 12,
    "start_time": "2022-09-20T12:35:11.389Z"
   },
   {
    "duration": 23,
    "start_time": "2022-09-20T12:35:17.694Z"
   },
   {
    "duration": 176,
    "start_time": "2022-09-20T12:37:13.491Z"
   },
   {
    "duration": 117,
    "start_time": "2022-09-20T12:39:15.599Z"
   },
   {
    "duration": 99,
    "start_time": "2022-09-20T12:39:39.325Z"
   },
   {
    "duration": 1161,
    "start_time": "2022-09-20T12:39:51.050Z"
   },
   {
    "duration": 59,
    "start_time": "2022-09-20T12:39:52.213Z"
   },
   {
    "duration": 23,
    "start_time": "2022-09-20T12:39:52.274Z"
   },
   {
    "duration": 9,
    "start_time": "2022-09-20T12:39:52.299Z"
   },
   {
    "duration": 18,
    "start_time": "2022-09-20T12:39:52.310Z"
   },
   {
    "duration": 24,
    "start_time": "2022-09-20T12:39:52.330Z"
   },
   {
    "duration": 29,
    "start_time": "2022-09-20T12:39:52.356Z"
   },
   {
    "duration": 16,
    "start_time": "2022-09-20T12:39:52.386Z"
   },
   {
    "duration": 68,
    "start_time": "2022-09-20T12:39:52.404Z"
   },
   {
    "duration": 15,
    "start_time": "2022-09-20T12:39:52.474Z"
   },
   {
    "duration": 24,
    "start_time": "2022-09-20T12:39:52.494Z"
   },
   {
    "duration": 31,
    "start_time": "2022-09-20T12:39:52.520Z"
   },
   {
    "duration": 43,
    "start_time": "2022-09-20T12:39:52.554Z"
   },
   {
    "duration": 46,
    "start_time": "2022-09-20T12:39:52.601Z"
   },
   {
    "duration": 7,
    "start_time": "2022-09-20T12:39:52.648Z"
   },
   {
    "duration": 34,
    "start_time": "2022-09-20T12:39:52.657Z"
   },
   {
    "duration": 12,
    "start_time": "2022-09-20T12:39:52.693Z"
   },
   {
    "duration": 29,
    "start_time": "2022-09-20T12:39:52.707Z"
   },
   {
    "duration": 13,
    "start_time": "2022-09-20T12:39:52.738Z"
   },
   {
    "duration": 26,
    "start_time": "2022-09-20T12:39:52.752Z"
   },
   {
    "duration": 355,
    "start_time": "2022-09-20T12:39:52.788Z"
   },
   {
    "duration": 5,
    "start_time": "2022-09-20T12:39:53.145Z"
   },
   {
    "duration": 38,
    "start_time": "2022-09-20T12:39:53.152Z"
   },
   {
    "duration": 18,
    "start_time": "2022-09-20T12:39:53.192Z"
   },
   {
    "duration": 21,
    "start_time": "2022-09-20T12:39:53.212Z"
   },
   {
    "duration": 19,
    "start_time": "2022-09-20T12:39:53.235Z"
   },
   {
    "duration": 42,
    "start_time": "2022-09-20T12:39:53.256Z"
   },
   {
    "duration": 8,
    "start_time": "2022-09-20T12:39:53.300Z"
   },
   {
    "duration": 180,
    "start_time": "2022-09-20T12:39:53.309Z"
   },
   {
    "duration": 216,
    "start_time": "2022-09-20T12:39:53.492Z"
   },
   {
    "duration": 8,
    "start_time": "2022-09-20T12:39:53.710Z"
   },
   {
    "duration": 374,
    "start_time": "2022-09-20T12:39:53.720Z"
   },
   {
    "duration": 13,
    "start_time": "2022-09-20T12:39:54.096Z"
   },
   {
    "duration": 29,
    "start_time": "2022-09-20T12:39:54.110Z"
   },
   {
    "duration": 11,
    "start_time": "2022-09-20T12:39:54.141Z"
   },
   {
    "duration": 336,
    "start_time": "2022-09-20T12:39:54.154Z"
   },
   {
    "duration": 9,
    "start_time": "2022-09-20T12:39:54.494Z"
   },
   {
    "duration": 9,
    "start_time": "2022-09-20T12:39:54.505Z"
   },
   {
    "duration": 215,
    "start_time": "2022-09-20T12:39:54.516Z"
   },
   {
    "duration": 9,
    "start_time": "2022-09-20T12:39:54.733Z"
   },
   {
    "duration": 258,
    "start_time": "2022-09-20T12:39:54.745Z"
   },
   {
    "duration": 170,
    "start_time": "2022-09-20T12:39:55.005Z"
   },
   {
    "duration": 6,
    "start_time": "2022-09-20T12:39:55.178Z"
   },
   {
    "duration": 36,
    "start_time": "2022-09-20T12:39:55.186Z"
   },
   {
    "duration": 1429,
    "start_time": "2022-09-20T12:39:55.225Z"
   },
   {
    "duration": 79,
    "start_time": "2022-09-20T12:39:56.656Z"
   },
   {
    "duration": 17,
    "start_time": "2022-09-20T12:39:56.737Z"
   },
   {
    "duration": 245,
    "start_time": "2022-09-20T12:39:56.756Z"
   },
   {
    "duration": 109,
    "start_time": "2022-09-20T12:39:57.003Z"
   },
   {
    "duration": 0,
    "start_time": "2022-09-20T12:39:57.114Z"
   },
   {
    "duration": 0,
    "start_time": "2022-09-20T12:39:57.116Z"
   },
   {
    "duration": 0,
    "start_time": "2022-09-20T12:39:57.117Z"
   },
   {
    "duration": 286,
    "start_time": "2022-09-20T12:40:10.971Z"
   },
   {
    "duration": 1184,
    "start_time": "2022-09-20T12:40:29.129Z"
   },
   {
    "duration": 54,
    "start_time": "2022-09-20T12:40:30.315Z"
   },
   {
    "duration": 19,
    "start_time": "2022-09-20T12:40:30.371Z"
   },
   {
    "duration": 19,
    "start_time": "2022-09-20T12:40:30.396Z"
   },
   {
    "duration": 17,
    "start_time": "2022-09-20T12:40:30.418Z"
   },
   {
    "duration": 38,
    "start_time": "2022-09-20T12:40:30.437Z"
   },
   {
    "duration": 44,
    "start_time": "2022-09-20T12:40:30.481Z"
   },
   {
    "duration": 28,
    "start_time": "2022-09-20T12:40:30.527Z"
   },
   {
    "duration": 93,
    "start_time": "2022-09-20T12:40:30.557Z"
   },
   {
    "duration": 9,
    "start_time": "2022-09-20T12:40:30.653Z"
   },
   {
    "duration": 55,
    "start_time": "2022-09-20T12:40:30.663Z"
   },
   {
    "duration": 23,
    "start_time": "2022-09-20T12:40:30.719Z"
   },
   {
    "duration": 53,
    "start_time": "2022-09-20T12:40:30.743Z"
   },
   {
    "duration": 55,
    "start_time": "2022-09-20T12:40:30.797Z"
   },
   {
    "duration": 19,
    "start_time": "2022-09-20T12:40:30.854Z"
   },
   {
    "duration": 42,
    "start_time": "2022-09-20T12:40:30.875Z"
   },
   {
    "duration": 24,
    "start_time": "2022-09-20T12:40:30.919Z"
   },
   {
    "duration": 62,
    "start_time": "2022-09-20T12:40:30.945Z"
   },
   {
    "duration": 12,
    "start_time": "2022-09-20T12:40:31.008Z"
   },
   {
    "duration": 49,
    "start_time": "2022-09-20T12:40:31.022Z"
   },
   {
    "duration": 389,
    "start_time": "2022-09-20T12:40:31.072Z"
   },
   {
    "duration": 5,
    "start_time": "2022-09-20T12:40:31.463Z"
   },
   {
    "duration": 37,
    "start_time": "2022-09-20T12:40:31.479Z"
   },
   {
    "duration": 33,
    "start_time": "2022-09-20T12:40:31.517Z"
   },
   {
    "duration": 60,
    "start_time": "2022-09-20T12:40:31.552Z"
   },
   {
    "duration": 17,
    "start_time": "2022-09-20T12:40:31.614Z"
   },
   {
    "duration": 40,
    "start_time": "2022-09-20T12:40:31.633Z"
   },
   {
    "duration": 25,
    "start_time": "2022-09-20T12:40:31.679Z"
   },
   {
    "duration": 167,
    "start_time": "2022-09-20T12:40:31.707Z"
   },
   {
    "duration": 239,
    "start_time": "2022-09-20T12:40:31.875Z"
   },
   {
    "duration": 9,
    "start_time": "2022-09-20T12:40:32.116Z"
   },
   {
    "duration": 384,
    "start_time": "2022-09-20T12:40:32.126Z"
   },
   {
    "duration": 15,
    "start_time": "2022-09-20T12:40:32.512Z"
   },
   {
    "duration": 14,
    "start_time": "2022-09-20T12:40:32.529Z"
   },
   {
    "duration": 16,
    "start_time": "2022-09-20T12:40:32.545Z"
   },
   {
    "duration": 343,
    "start_time": "2022-09-20T12:40:32.563Z"
   },
   {
    "duration": 10,
    "start_time": "2022-09-20T12:40:32.908Z"
   },
   {
    "duration": 20,
    "start_time": "2022-09-20T12:40:32.920Z"
   },
   {
    "duration": 233,
    "start_time": "2022-09-20T12:40:32.942Z"
   },
   {
    "duration": 10,
    "start_time": "2022-09-20T12:40:33.184Z"
   },
   {
    "duration": 238,
    "start_time": "2022-09-20T12:40:33.195Z"
   },
   {
    "duration": 175,
    "start_time": "2022-09-20T12:40:33.435Z"
   },
   {
    "duration": 6,
    "start_time": "2022-09-20T12:40:33.612Z"
   },
   {
    "duration": 16,
    "start_time": "2022-09-20T12:40:33.620Z"
   },
   {
    "duration": 1397,
    "start_time": "2022-09-20T12:40:33.638Z"
   },
   {
    "duration": 88,
    "start_time": "2022-09-20T12:40:35.037Z"
   },
   {
    "duration": 19,
    "start_time": "2022-09-20T12:40:35.127Z"
   },
   {
    "duration": 310,
    "start_time": "2022-09-20T12:40:35.148Z"
   },
   {
    "duration": 190,
    "start_time": "2022-09-20T12:40:35.461Z"
   },
   {
    "duration": 0,
    "start_time": "2022-09-20T12:40:35.652Z"
   },
   {
    "duration": 0,
    "start_time": "2022-09-20T12:40:35.653Z"
   },
   {
    "duration": 0,
    "start_time": "2022-09-20T12:40:35.654Z"
   },
   {
    "duration": 301,
    "start_time": "2022-09-20T12:40:55.995Z"
   },
   {
    "duration": 1202,
    "start_time": "2022-09-20T12:41:09.265Z"
   },
   {
    "duration": 62,
    "start_time": "2022-09-20T12:41:10.469Z"
   },
   {
    "duration": 14,
    "start_time": "2022-09-20T12:41:10.533Z"
   },
   {
    "duration": 8,
    "start_time": "2022-09-20T12:41:10.549Z"
   },
   {
    "duration": 12,
    "start_time": "2022-09-20T12:41:10.560Z"
   },
   {
    "duration": 42,
    "start_time": "2022-09-20T12:41:10.574Z"
   },
   {
    "duration": 20,
    "start_time": "2022-09-20T12:41:10.618Z"
   },
   {
    "duration": 4,
    "start_time": "2022-09-20T12:41:10.640Z"
   },
   {
    "duration": 64,
    "start_time": "2022-09-20T12:41:10.646Z"
   },
   {
    "duration": 11,
    "start_time": "2022-09-20T12:41:10.712Z"
   },
   {
    "duration": 36,
    "start_time": "2022-09-20T12:41:10.725Z"
   },
   {
    "duration": 38,
    "start_time": "2022-09-20T12:41:10.763Z"
   },
   {
    "duration": 25,
    "start_time": "2022-09-20T12:41:10.803Z"
   },
   {
    "duration": 52,
    "start_time": "2022-09-20T12:41:10.831Z"
   },
   {
    "duration": 11,
    "start_time": "2022-09-20T12:41:10.884Z"
   },
   {
    "duration": 14,
    "start_time": "2022-09-20T12:41:10.897Z"
   },
   {
    "duration": 7,
    "start_time": "2022-09-20T12:41:10.914Z"
   },
   {
    "duration": 25,
    "start_time": "2022-09-20T12:41:10.923Z"
   },
   {
    "duration": 5,
    "start_time": "2022-09-20T12:41:10.950Z"
   },
   {
    "duration": 23,
    "start_time": "2022-09-20T12:41:10.977Z"
   },
   {
    "duration": 381,
    "start_time": "2022-09-20T12:41:11.002Z"
   },
   {
    "duration": 9,
    "start_time": "2022-09-20T12:41:11.387Z"
   },
   {
    "duration": 24,
    "start_time": "2022-09-20T12:41:11.397Z"
   },
   {
    "duration": 9,
    "start_time": "2022-09-20T12:41:11.422Z"
   },
   {
    "duration": 9,
    "start_time": "2022-09-20T12:41:11.432Z"
   },
   {
    "duration": 6,
    "start_time": "2022-09-20T12:41:11.442Z"
   },
   {
    "duration": 49,
    "start_time": "2022-09-20T12:41:11.449Z"
   },
   {
    "duration": 8,
    "start_time": "2022-09-20T12:41:11.500Z"
   },
   {
    "duration": 203,
    "start_time": "2022-09-20T12:41:11.510Z"
   },
   {
    "duration": 251,
    "start_time": "2022-09-20T12:41:11.715Z"
   },
   {
    "duration": 24,
    "start_time": "2022-09-20T12:41:11.967Z"
   },
   {
    "duration": 346,
    "start_time": "2022-09-20T12:41:11.995Z"
   },
   {
    "duration": 12,
    "start_time": "2022-09-20T12:41:12.342Z"
   },
   {
    "duration": 24,
    "start_time": "2022-09-20T12:41:12.356Z"
   },
   {
    "duration": 12,
    "start_time": "2022-09-20T12:41:12.386Z"
   },
   {
    "duration": 368,
    "start_time": "2022-09-20T12:41:12.400Z"
   },
   {
    "duration": 14,
    "start_time": "2022-09-20T12:41:12.770Z"
   },
   {
    "duration": 12,
    "start_time": "2022-09-20T12:41:12.792Z"
   },
   {
    "duration": 219,
    "start_time": "2022-09-20T12:41:12.806Z"
   },
   {
    "duration": 9,
    "start_time": "2022-09-20T12:41:13.027Z"
   },
   {
    "duration": 255,
    "start_time": "2022-09-20T12:41:13.041Z"
   },
   {
    "duration": 170,
    "start_time": "2022-09-20T12:41:13.298Z"
   },
   {
    "duration": 13,
    "start_time": "2022-09-20T12:41:13.469Z"
   },
   {
    "duration": 12,
    "start_time": "2022-09-20T12:41:13.487Z"
   },
   {
    "duration": 1397,
    "start_time": "2022-09-20T12:41:13.501Z"
   },
   {
    "duration": 85,
    "start_time": "2022-09-20T12:41:14.900Z"
   },
   {
    "duration": 24,
    "start_time": "2022-09-20T12:41:14.992Z"
   },
   {
    "duration": 235,
    "start_time": "2022-09-20T12:41:15.019Z"
   },
   {
    "duration": 185,
    "start_time": "2022-09-20T12:41:15.256Z"
   },
   {
    "duration": 0,
    "start_time": "2022-09-20T12:41:15.443Z"
   },
   {
    "duration": 0,
    "start_time": "2022-09-20T12:41:15.445Z"
   },
   {
    "duration": 1,
    "start_time": "2022-09-20T12:41:15.446Z"
   },
   {
    "duration": 0,
    "start_time": "2022-09-20T12:41:15.448Z"
   },
   {
    "duration": 1576,
    "start_time": "2022-09-20T12:41:35.630Z"
   },
   {
    "duration": 51,
    "start_time": "2022-09-20T12:41:37.208Z"
   },
   {
    "duration": 13,
    "start_time": "2022-09-20T12:41:37.261Z"
   },
   {
    "duration": 11,
    "start_time": "2022-09-20T12:41:37.276Z"
   },
   {
    "duration": 24,
    "start_time": "2022-09-20T12:41:37.288Z"
   },
   {
    "duration": 28,
    "start_time": "2022-09-20T12:41:37.313Z"
   },
   {
    "duration": 18,
    "start_time": "2022-09-20T12:41:37.343Z"
   },
   {
    "duration": 4,
    "start_time": "2022-09-20T12:41:37.362Z"
   },
   {
    "duration": 67,
    "start_time": "2022-09-20T12:41:37.367Z"
   },
   {
    "duration": 10,
    "start_time": "2022-09-20T12:41:37.437Z"
   },
   {
    "duration": 47,
    "start_time": "2022-09-20T12:41:37.449Z"
   },
   {
    "duration": 23,
    "start_time": "2022-09-20T12:41:37.499Z"
   },
   {
    "duration": 21,
    "start_time": "2022-09-20T12:41:37.524Z"
   },
   {
    "duration": 56,
    "start_time": "2022-09-20T12:41:37.547Z"
   },
   {
    "duration": 7,
    "start_time": "2022-09-20T12:41:37.605Z"
   },
   {
    "duration": 14,
    "start_time": "2022-09-20T12:41:37.614Z"
   },
   {
    "duration": 6,
    "start_time": "2022-09-20T12:41:37.630Z"
   },
   {
    "duration": 44,
    "start_time": "2022-09-20T12:41:37.639Z"
   },
   {
    "duration": 6,
    "start_time": "2022-09-20T12:41:37.684Z"
   },
   {
    "duration": 22,
    "start_time": "2022-09-20T12:41:37.691Z"
   },
   {
    "duration": 357,
    "start_time": "2022-09-20T12:41:37.715Z"
   },
   {
    "duration": 12,
    "start_time": "2022-09-20T12:41:38.074Z"
   },
   {
    "duration": 17,
    "start_time": "2022-09-20T12:41:38.094Z"
   },
   {
    "duration": 9,
    "start_time": "2022-09-20T12:41:38.113Z"
   },
   {
    "duration": 5,
    "start_time": "2022-09-20T12:41:38.124Z"
   },
   {
    "duration": 6,
    "start_time": "2022-09-20T12:41:38.131Z"
   },
   {
    "duration": 47,
    "start_time": "2022-09-20T12:41:38.139Z"
   },
   {
    "duration": 7,
    "start_time": "2022-09-20T12:41:38.192Z"
   },
   {
    "duration": 165,
    "start_time": "2022-09-20T12:41:38.201Z"
   },
   {
    "duration": 239,
    "start_time": "2022-09-20T12:41:38.367Z"
   },
   {
    "duration": 10,
    "start_time": "2022-09-20T12:41:38.608Z"
   },
   {
    "duration": 345,
    "start_time": "2022-09-20T12:41:38.620Z"
   },
   {
    "duration": 27,
    "start_time": "2022-09-20T12:41:38.967Z"
   },
   {
    "duration": 7,
    "start_time": "2022-09-20T12:41:38.996Z"
   },
   {
    "duration": 6,
    "start_time": "2022-09-20T12:41:39.005Z"
   },
   {
    "duration": 340,
    "start_time": "2022-09-20T12:41:39.013Z"
   },
   {
    "duration": 9,
    "start_time": "2022-09-20T12:41:39.354Z"
   },
   {
    "duration": 27,
    "start_time": "2022-09-20T12:41:39.364Z"
   },
   {
    "duration": 214,
    "start_time": "2022-09-20T12:41:39.395Z"
   },
   {
    "duration": 8,
    "start_time": "2022-09-20T12:41:39.611Z"
   },
   {
    "duration": 249,
    "start_time": "2022-09-20T12:41:39.621Z"
   },
   {
    "duration": 174,
    "start_time": "2022-09-20T12:41:39.871Z"
   },
   {
    "duration": 5,
    "start_time": "2022-09-20T12:41:40.047Z"
   },
   {
    "duration": 24,
    "start_time": "2022-09-20T12:41:40.054Z"
   },
   {
    "duration": 1416,
    "start_time": "2022-09-20T12:41:40.079Z"
   },
   {
    "duration": 60,
    "start_time": "2022-09-20T12:41:41.498Z"
   },
   {
    "duration": 41,
    "start_time": "2022-09-20T12:41:41.559Z"
   },
   {
    "duration": 248,
    "start_time": "2022-09-20T12:41:41.602Z"
   },
   {
    "duration": 96,
    "start_time": "2022-09-20T12:41:41.852Z"
   },
   {
    "duration": 0,
    "start_time": "2022-09-20T12:41:41.950Z"
   },
   {
    "duration": 0,
    "start_time": "2022-09-20T12:41:41.951Z"
   },
   {
    "duration": 0,
    "start_time": "2022-09-20T12:41:41.953Z"
   },
   {
    "duration": 0,
    "start_time": "2022-09-20T12:41:41.954Z"
   },
   {
    "duration": 1164,
    "start_time": "2022-09-20T12:43:38.328Z"
   },
   {
    "duration": 53,
    "start_time": "2022-09-20T12:43:39.493Z"
   },
   {
    "duration": 14,
    "start_time": "2022-09-20T12:43:39.548Z"
   },
   {
    "duration": 102,
    "start_time": "2022-09-20T12:43:39.563Z"
   },
   {
    "duration": 9,
    "start_time": "2022-09-20T12:43:39.667Z"
   },
   {
    "duration": 41,
    "start_time": "2022-09-20T12:43:39.689Z"
   },
   {
    "duration": 18,
    "start_time": "2022-09-20T12:43:39.731Z"
   },
   {
    "duration": 3,
    "start_time": "2022-09-20T12:43:39.751Z"
   },
   {
    "duration": 60,
    "start_time": "2022-09-20T12:43:39.756Z"
   },
   {
    "duration": 9,
    "start_time": "2022-09-20T12:43:39.818Z"
   },
   {
    "duration": 25,
    "start_time": "2022-09-20T12:43:39.829Z"
   },
   {
    "duration": 42,
    "start_time": "2022-09-20T12:43:39.856Z"
   },
   {
    "duration": 21,
    "start_time": "2022-09-20T12:43:39.900Z"
   },
   {
    "duration": 22,
    "start_time": "2022-09-20T12:43:39.924Z"
   },
   {
    "duration": 7,
    "start_time": "2022-09-20T12:43:39.948Z"
   },
   {
    "duration": 21,
    "start_time": "2022-09-20T12:43:39.976Z"
   },
   {
    "duration": 8,
    "start_time": "2022-09-20T12:43:39.999Z"
   },
   {
    "duration": 28,
    "start_time": "2022-09-20T12:43:40.009Z"
   },
   {
    "duration": 12,
    "start_time": "2022-09-20T12:43:40.039Z"
   },
   {
    "duration": 22,
    "start_time": "2022-09-20T12:43:40.052Z"
   },
   {
    "duration": 384,
    "start_time": "2022-09-20T12:43:40.075Z"
   },
   {
    "duration": 5,
    "start_time": "2022-09-20T12:43:40.461Z"
   },
   {
    "duration": 43,
    "start_time": "2022-09-20T12:43:40.468Z"
   },
   {
    "duration": 17,
    "start_time": "2022-09-20T12:43:40.513Z"
   },
   {
    "duration": 7,
    "start_time": "2022-09-20T12:43:40.532Z"
   },
   {
    "duration": 17,
    "start_time": "2022-09-20T12:43:40.540Z"
   },
   {
    "duration": 42,
    "start_time": "2022-09-20T12:43:40.559Z"
   },
   {
    "duration": 33,
    "start_time": "2022-09-20T12:43:40.603Z"
   },
   {
    "duration": 170,
    "start_time": "2022-09-20T12:43:40.638Z"
   },
   {
    "duration": 216,
    "start_time": "2022-09-20T12:43:40.810Z"
   },
   {
    "duration": 7,
    "start_time": "2022-09-20T12:43:41.028Z"
   },
   {
    "duration": 377,
    "start_time": "2022-09-20T12:43:41.037Z"
   },
   {
    "duration": 12,
    "start_time": "2022-09-20T12:43:41.416Z"
   },
   {
    "duration": 25,
    "start_time": "2022-09-20T12:43:41.429Z"
   },
   {
    "duration": 38,
    "start_time": "2022-09-20T12:43:41.456Z"
   },
   {
    "duration": 352,
    "start_time": "2022-09-20T12:43:41.496Z"
   },
   {
    "duration": 8,
    "start_time": "2022-09-20T12:43:41.850Z"
   },
   {
    "duration": 35,
    "start_time": "2022-09-20T12:43:41.860Z"
   },
   {
    "duration": 202,
    "start_time": "2022-09-20T12:43:41.896Z"
   },
   {
    "duration": 9,
    "start_time": "2022-09-20T12:43:42.100Z"
   },
   {
    "duration": 241,
    "start_time": "2022-09-20T12:43:42.112Z"
   },
   {
    "duration": 177,
    "start_time": "2022-09-20T12:43:42.355Z"
   },
   {
    "duration": 5,
    "start_time": "2022-09-20T12:43:42.534Z"
   },
   {
    "duration": 41,
    "start_time": "2022-09-20T12:43:42.541Z"
   },
   {
    "duration": 1425,
    "start_time": "2022-09-20T12:43:42.584Z"
   },
   {
    "duration": 91,
    "start_time": "2022-09-20T12:43:44.011Z"
   },
   {
    "duration": 18,
    "start_time": "2022-09-20T12:43:44.103Z"
   },
   {
    "duration": 227,
    "start_time": "2022-09-20T12:43:44.122Z"
   },
   {
    "duration": 198,
    "start_time": "2022-09-20T12:43:44.351Z"
   },
   {
    "duration": 0,
    "start_time": "2022-09-20T12:43:44.551Z"
   },
   {
    "duration": 0,
    "start_time": "2022-09-20T12:43:44.556Z"
   },
   {
    "duration": 0,
    "start_time": "2022-09-20T12:43:44.558Z"
   },
   {
    "duration": 0,
    "start_time": "2022-09-20T12:43:44.559Z"
   },
   {
    "duration": 4,
    "start_time": "2022-09-20T12:49:38.519Z"
   },
   {
    "duration": 1149,
    "start_time": "2022-09-20T12:49:46.925Z"
   },
   {
    "duration": 60,
    "start_time": "2022-09-20T12:49:48.077Z"
   },
   {
    "duration": 21,
    "start_time": "2022-09-20T12:49:48.139Z"
   },
   {
    "duration": 4,
    "start_time": "2022-09-20T12:49:48.162Z"
   },
   {
    "duration": 19,
    "start_time": "2022-09-20T12:49:48.167Z"
   },
   {
    "duration": 38,
    "start_time": "2022-09-20T12:49:48.188Z"
   },
   {
    "duration": 21,
    "start_time": "2022-09-20T12:49:48.228Z"
   },
   {
    "duration": 6,
    "start_time": "2022-09-20T12:49:48.251Z"
   },
   {
    "duration": 78,
    "start_time": "2022-09-20T12:49:48.260Z"
   },
   {
    "duration": 10,
    "start_time": "2022-09-20T12:49:48.341Z"
   },
   {
    "duration": 43,
    "start_time": "2022-09-20T12:49:48.353Z"
   },
   {
    "duration": 24,
    "start_time": "2022-09-20T12:49:48.398Z"
   },
   {
    "duration": 21,
    "start_time": "2022-09-20T12:49:48.424Z"
   },
   {
    "duration": 44,
    "start_time": "2022-09-20T12:49:48.447Z"
   },
   {
    "duration": 8,
    "start_time": "2022-09-20T12:49:48.493Z"
   },
   {
    "duration": 21,
    "start_time": "2022-09-20T12:49:48.503Z"
   },
   {
    "duration": 11,
    "start_time": "2022-09-20T12:49:48.526Z"
   },
   {
    "duration": 26,
    "start_time": "2022-09-20T12:49:48.539Z"
   },
   {
    "duration": 7,
    "start_time": "2022-09-20T12:49:48.576Z"
   },
   {
    "duration": 28,
    "start_time": "2022-09-20T12:49:48.584Z"
   },
   {
    "duration": 370,
    "start_time": "2022-09-20T12:49:48.613Z"
   },
   {
    "duration": 4,
    "start_time": "2022-09-20T12:49:48.988Z"
   },
   {
    "duration": 21,
    "start_time": "2022-09-20T12:49:48.994Z"
   },
   {
    "duration": 10,
    "start_time": "2022-09-20T12:49:49.016Z"
   },
   {
    "duration": 6,
    "start_time": "2022-09-20T12:49:49.028Z"
   },
   {
    "duration": 14,
    "start_time": "2022-09-20T12:49:49.035Z"
   },
   {
    "duration": 39,
    "start_time": "2022-09-20T12:49:49.051Z"
   },
   {
    "duration": 7,
    "start_time": "2022-09-20T12:49:49.094Z"
   },
   {
    "duration": 158,
    "start_time": "2022-09-20T12:49:49.103Z"
   },
   {
    "duration": 235,
    "start_time": "2022-09-20T12:49:49.263Z"
   },
   {
    "duration": 8,
    "start_time": "2022-09-20T12:49:49.500Z"
   },
   {
    "duration": 384,
    "start_time": "2022-09-20T12:49:49.510Z"
   },
   {
    "duration": 15,
    "start_time": "2022-09-20T12:49:49.897Z"
   },
   {
    "duration": 13,
    "start_time": "2022-09-20T12:49:49.915Z"
   },
   {
    "duration": 19,
    "start_time": "2022-09-20T12:49:49.930Z"
   },
   {
    "duration": 366,
    "start_time": "2022-09-20T12:49:49.951Z"
   },
   {
    "duration": 9,
    "start_time": "2022-09-20T12:49:50.319Z"
   },
   {
    "duration": 17,
    "start_time": "2022-09-20T12:49:50.330Z"
   },
   {
    "duration": 250,
    "start_time": "2022-09-20T12:49:50.349Z"
   },
   {
    "duration": 10,
    "start_time": "2022-09-20T12:49:50.601Z"
   },
   {
    "duration": 285,
    "start_time": "2022-09-20T12:49:50.613Z"
   },
   {
    "duration": 179,
    "start_time": "2022-09-20T12:49:50.901Z"
   },
   {
    "duration": 7,
    "start_time": "2022-09-20T12:49:51.081Z"
   },
   {
    "duration": 31,
    "start_time": "2022-09-20T12:49:51.092Z"
   },
   {
    "duration": 1429,
    "start_time": "2022-09-20T12:49:51.125Z"
   },
   {
    "duration": 75,
    "start_time": "2022-09-20T12:49:52.557Z"
   },
   {
    "duration": 19,
    "start_time": "2022-09-20T12:49:52.635Z"
   },
   {
    "duration": 240,
    "start_time": "2022-09-20T12:49:52.679Z"
   },
   {
    "duration": 88,
    "start_time": "2022-09-20T12:49:52.922Z"
   },
   {
    "duration": 0,
    "start_time": "2022-09-20T12:49:53.014Z"
   },
   {
    "duration": 0,
    "start_time": "2022-09-20T12:49:53.017Z"
   },
   {
    "duration": 0,
    "start_time": "2022-09-20T12:49:53.019Z"
   },
   {
    "duration": 0,
    "start_time": "2022-09-20T12:49:53.022Z"
   },
   {
    "duration": 16,
    "start_time": "2022-09-20T12:50:31.202Z"
   },
   {
    "duration": 8,
    "start_time": "2022-09-20T12:51:17.863Z"
   },
   {
    "duration": 12,
    "start_time": "2022-09-20T12:51:27.261Z"
   },
   {
    "duration": 1286,
    "start_time": "2022-09-20T12:51:33.641Z"
   },
   {
    "duration": 59,
    "start_time": "2022-09-20T12:51:34.929Z"
   },
   {
    "duration": 24,
    "start_time": "2022-09-20T12:51:34.996Z"
   },
   {
    "duration": 3,
    "start_time": "2022-09-20T12:51:35.022Z"
   },
   {
    "duration": 10,
    "start_time": "2022-09-20T12:51:35.028Z"
   },
   {
    "duration": 53,
    "start_time": "2022-09-20T12:51:35.041Z"
   },
   {
    "duration": 32,
    "start_time": "2022-09-20T12:51:35.096Z"
   },
   {
    "duration": 6,
    "start_time": "2022-09-20T12:51:35.130Z"
   },
   {
    "duration": 101,
    "start_time": "2022-09-20T12:51:35.138Z"
   },
   {
    "duration": 14,
    "start_time": "2022-09-20T12:51:35.241Z"
   },
   {
    "duration": 53,
    "start_time": "2022-09-20T12:51:35.257Z"
   },
   {
    "duration": 46,
    "start_time": "2022-09-20T12:51:35.312Z"
   },
   {
    "duration": 30,
    "start_time": "2022-09-20T12:51:35.363Z"
   },
   {
    "duration": 46,
    "start_time": "2022-09-20T12:51:35.405Z"
   },
   {
    "duration": 20,
    "start_time": "2022-09-20T12:51:35.455Z"
   },
   {
    "duration": 49,
    "start_time": "2022-09-20T12:51:35.480Z"
   },
   {
    "duration": 14,
    "start_time": "2022-09-20T12:51:35.532Z"
   },
   {
    "duration": 36,
    "start_time": "2022-09-20T12:51:35.549Z"
   },
   {
    "duration": 19,
    "start_time": "2022-09-20T12:51:35.590Z"
   },
   {
    "duration": 28,
    "start_time": "2022-09-20T12:51:35.611Z"
   },
   {
    "duration": 378,
    "start_time": "2022-09-20T12:51:35.641Z"
   },
   {
    "duration": 4,
    "start_time": "2022-09-20T12:51:36.022Z"
   },
   {
    "duration": 41,
    "start_time": "2022-09-20T12:51:36.029Z"
   },
   {
    "duration": 12,
    "start_time": "2022-09-20T12:51:36.078Z"
   },
   {
    "duration": 23,
    "start_time": "2022-09-20T12:51:36.094Z"
   },
   {
    "duration": 11,
    "start_time": "2022-09-20T12:51:36.120Z"
   },
   {
    "duration": 36,
    "start_time": "2022-09-20T12:51:36.136Z"
   },
   {
    "duration": 31,
    "start_time": "2022-09-20T12:51:36.174Z"
   },
   {
    "duration": 188,
    "start_time": "2022-09-20T12:51:36.207Z"
   },
   {
    "duration": 238,
    "start_time": "2022-09-20T12:51:36.397Z"
   },
   {
    "duration": 8,
    "start_time": "2022-09-20T12:51:36.638Z"
   },
   {
    "duration": 435,
    "start_time": "2022-09-20T12:51:36.648Z"
   },
   {
    "duration": 15,
    "start_time": "2022-09-20T12:51:37.085Z"
   },
   {
    "duration": 73,
    "start_time": "2022-09-20T12:51:37.102Z"
   },
   {
    "duration": 35,
    "start_time": "2022-09-20T12:51:37.177Z"
   },
   {
    "duration": 353,
    "start_time": "2022-09-20T12:51:37.214Z"
   },
   {
    "duration": 17,
    "start_time": "2022-09-20T12:51:37.569Z"
   },
   {
    "duration": 25,
    "start_time": "2022-09-20T12:51:37.588Z"
   },
   {
    "duration": 226,
    "start_time": "2022-09-20T12:51:37.616Z"
   },
   {
    "duration": 10,
    "start_time": "2022-09-20T12:51:37.845Z"
   },
   {
    "duration": 270,
    "start_time": "2022-09-20T12:51:37.860Z"
   },
   {
    "duration": 187,
    "start_time": "2022-09-20T12:51:38.132Z"
   },
   {
    "duration": 5,
    "start_time": "2022-09-20T12:51:38.321Z"
   },
   {
    "duration": 9,
    "start_time": "2022-09-20T12:51:38.328Z"
   },
   {
    "duration": 1548,
    "start_time": "2022-09-20T12:51:38.338Z"
   },
   {
    "duration": 60,
    "start_time": "2022-09-20T12:51:39.891Z"
   },
   {
    "duration": 42,
    "start_time": "2022-09-20T12:51:39.953Z"
   },
   {
    "duration": 238,
    "start_time": "2022-09-20T12:51:39.996Z"
   },
   {
    "duration": 113,
    "start_time": "2022-09-20T12:51:40.236Z"
   },
   {
    "duration": 0,
    "start_time": "2022-09-20T12:51:40.351Z"
   },
   {
    "duration": 132,
    "start_time": "2022-09-20T12:52:22.693Z"
   },
   {
    "duration": 1497,
    "start_time": "2022-09-20T12:53:05.004Z"
   },
   {
    "duration": 93,
    "start_time": "2022-09-20T12:53:06.507Z"
   },
   {
    "duration": 26,
    "start_time": "2022-09-20T12:53:06.603Z"
   },
   {
    "duration": 19,
    "start_time": "2022-09-20T12:53:06.631Z"
   },
   {
    "duration": 68,
    "start_time": "2022-09-20T12:53:06.653Z"
   },
   {
    "duration": 37,
    "start_time": "2022-09-20T12:53:06.723Z"
   },
   {
    "duration": 34,
    "start_time": "2022-09-20T12:53:06.763Z"
   },
   {
    "duration": 23,
    "start_time": "2022-09-20T12:53:06.812Z"
   },
   {
    "duration": 87,
    "start_time": "2022-09-20T12:53:06.837Z"
   },
   {
    "duration": 13,
    "start_time": "2022-09-20T12:53:06.928Z"
   },
   {
    "duration": 44,
    "start_time": "2022-09-20T12:53:06.943Z"
   },
   {
    "duration": 42,
    "start_time": "2022-09-20T12:53:06.988Z"
   },
   {
    "duration": 53,
    "start_time": "2022-09-20T12:53:07.033Z"
   },
   {
    "duration": 71,
    "start_time": "2022-09-20T12:53:07.091Z"
   },
   {
    "duration": 10,
    "start_time": "2022-09-20T12:53:07.164Z"
   },
   {
    "duration": 74,
    "start_time": "2022-09-20T12:53:07.176Z"
   },
   {
    "duration": 12,
    "start_time": "2022-09-20T12:53:07.252Z"
   },
   {
    "duration": 64,
    "start_time": "2022-09-20T12:53:07.266Z"
   },
   {
    "duration": 5,
    "start_time": "2022-09-20T12:53:07.332Z"
   },
   {
    "duration": 29,
    "start_time": "2022-09-20T12:53:07.339Z"
   },
   {
    "duration": 425,
    "start_time": "2022-09-20T12:53:07.370Z"
   },
   {
    "duration": 9,
    "start_time": "2022-09-20T12:53:07.797Z"
   },
   {
    "duration": 35,
    "start_time": "2022-09-20T12:53:07.808Z"
   },
   {
    "duration": 10,
    "start_time": "2022-09-20T12:53:07.845Z"
   },
   {
    "duration": 7,
    "start_time": "2022-09-20T12:53:07.856Z"
   },
   {
    "duration": 25,
    "start_time": "2022-09-20T12:53:07.864Z"
   },
   {
    "duration": 38,
    "start_time": "2022-09-20T12:53:07.892Z"
   },
   {
    "duration": 8,
    "start_time": "2022-09-20T12:53:07.933Z"
   },
   {
    "duration": 197,
    "start_time": "2022-09-20T12:53:07.942Z"
   },
   {
    "duration": 250,
    "start_time": "2022-09-20T12:53:08.141Z"
   },
   {
    "duration": 8,
    "start_time": "2022-09-20T12:53:08.398Z"
   },
   {
    "duration": 424,
    "start_time": "2022-09-20T12:53:08.409Z"
   },
   {
    "duration": 17,
    "start_time": "2022-09-20T12:53:08.836Z"
   },
   {
    "duration": 28,
    "start_time": "2022-09-20T12:53:08.855Z"
   },
   {
    "duration": 23,
    "start_time": "2022-09-20T12:53:08.885Z"
   },
   {
    "duration": 348,
    "start_time": "2022-09-20T12:53:08.910Z"
   },
   {
    "duration": 26,
    "start_time": "2022-09-20T12:53:09.260Z"
   },
   {
    "duration": 28,
    "start_time": "2022-09-20T12:53:09.292Z"
   },
   {
    "duration": 304,
    "start_time": "2022-09-20T12:53:09.322Z"
   },
   {
    "duration": 11,
    "start_time": "2022-09-20T12:53:09.628Z"
   },
   {
    "duration": 289,
    "start_time": "2022-09-20T12:53:09.641Z"
   },
   {
    "duration": 204,
    "start_time": "2022-09-20T12:53:09.932Z"
   },
   {
    "duration": 6,
    "start_time": "2022-09-20T12:53:10.138Z"
   },
   {
    "duration": 11,
    "start_time": "2022-09-20T12:53:10.146Z"
   },
   {
    "duration": 1652,
    "start_time": "2022-09-20T12:53:10.179Z"
   },
   {
    "duration": 102,
    "start_time": "2022-09-20T12:53:11.834Z"
   },
   {
    "duration": 27,
    "start_time": "2022-09-20T12:53:11.939Z"
   },
   {
    "duration": 264,
    "start_time": "2022-09-20T12:53:11.967Z"
   },
   {
    "duration": 153,
    "start_time": "2022-09-20T12:53:12.233Z"
   },
   {
    "duration": 0,
    "start_time": "2022-09-20T12:53:12.390Z"
   },
   {
    "duration": 123,
    "start_time": "2022-09-20T12:53:53.999Z"
   },
   {
    "duration": 1415,
    "start_time": "2022-09-20T12:54:12.953Z"
   },
   {
    "duration": 73,
    "start_time": "2022-09-20T12:54:14.370Z"
   },
   {
    "duration": 26,
    "start_time": "2022-09-20T12:54:14.445Z"
   },
   {
    "duration": 4,
    "start_time": "2022-09-20T12:54:14.474Z"
   },
   {
    "duration": 10,
    "start_time": "2022-09-20T12:54:14.484Z"
   },
   {
    "duration": 69,
    "start_time": "2022-09-20T12:54:14.496Z"
   },
   {
    "duration": 45,
    "start_time": "2022-09-20T12:54:14.568Z"
   },
   {
    "duration": 10,
    "start_time": "2022-09-20T12:54:14.617Z"
   },
   {
    "duration": 75,
    "start_time": "2022-09-20T12:54:14.629Z"
   },
   {
    "duration": 14,
    "start_time": "2022-09-20T12:54:14.709Z"
   },
   {
    "duration": 35,
    "start_time": "2022-09-20T12:54:14.725Z"
   },
   {
    "duration": 42,
    "start_time": "2022-09-20T12:54:14.761Z"
   },
   {
    "duration": 37,
    "start_time": "2022-09-20T12:54:14.806Z"
   },
   {
    "duration": 65,
    "start_time": "2022-09-20T12:54:14.845Z"
   },
   {
    "duration": 11,
    "start_time": "2022-09-20T12:54:14.912Z"
   },
   {
    "duration": 21,
    "start_time": "2022-09-20T12:54:14.926Z"
   },
   {
    "duration": 40,
    "start_time": "2022-09-20T12:54:14.949Z"
   },
   {
    "duration": 28,
    "start_time": "2022-09-20T12:54:14.995Z"
   },
   {
    "duration": 6,
    "start_time": "2022-09-20T12:54:15.025Z"
   },
   {
    "duration": 49,
    "start_time": "2022-09-20T12:54:15.034Z"
   },
   {
    "duration": 464,
    "start_time": "2022-09-20T12:54:15.085Z"
   },
   {
    "duration": 6,
    "start_time": "2022-09-20T12:54:15.551Z"
   },
   {
    "duration": 44,
    "start_time": "2022-09-20T12:54:15.559Z"
   },
   {
    "duration": 24,
    "start_time": "2022-09-20T12:54:15.611Z"
   },
   {
    "duration": 14,
    "start_time": "2022-09-20T12:54:15.637Z"
   },
   {
    "duration": 26,
    "start_time": "2022-09-20T12:54:15.654Z"
   },
   {
    "duration": 55,
    "start_time": "2022-09-20T12:54:15.683Z"
   },
   {
    "duration": 8,
    "start_time": "2022-09-20T12:54:15.743Z"
   },
   {
    "duration": 327,
    "start_time": "2022-09-20T12:54:15.754Z"
   },
   {
    "duration": 238,
    "start_time": "2022-09-20T12:54:16.083Z"
   },
   {
    "duration": 9,
    "start_time": "2022-09-20T12:54:16.323Z"
   },
   {
    "duration": 462,
    "start_time": "2022-09-20T12:54:16.334Z"
   },
   {
    "duration": 18,
    "start_time": "2022-09-20T12:54:16.798Z"
   },
   {
    "duration": 12,
    "start_time": "2022-09-20T12:54:16.818Z"
   },
   {
    "duration": 6,
    "start_time": "2022-09-20T12:54:16.833Z"
   },
   {
    "duration": 424,
    "start_time": "2022-09-20T12:54:16.841Z"
   },
   {
    "duration": 24,
    "start_time": "2022-09-20T12:54:17.267Z"
   },
   {
    "duration": 19,
    "start_time": "2022-09-20T12:54:17.295Z"
   },
   {
    "duration": 226,
    "start_time": "2022-09-20T12:54:17.316Z"
   },
   {
    "duration": 11,
    "start_time": "2022-09-20T12:54:17.544Z"
   },
   {
    "duration": 281,
    "start_time": "2022-09-20T12:54:17.557Z"
   },
   {
    "duration": 224,
    "start_time": "2022-09-20T12:54:17.839Z"
   },
   {
    "duration": 25,
    "start_time": "2022-09-20T12:54:18.065Z"
   },
   {
    "duration": 10,
    "start_time": "2022-09-20T12:54:18.098Z"
   },
   {
    "duration": 1535,
    "start_time": "2022-09-20T12:54:18.110Z"
   },
   {
    "duration": 84,
    "start_time": "2022-09-20T12:54:19.647Z"
   },
   {
    "duration": 24,
    "start_time": "2022-09-20T12:54:19.733Z"
   },
   {
    "duration": 236,
    "start_time": "2022-09-20T12:54:19.777Z"
   },
   {
    "duration": 320,
    "start_time": "2022-09-20T12:54:20.015Z"
   },
   {
    "duration": 0,
    "start_time": "2022-09-20T12:54:20.337Z"
   },
   {
    "duration": 8,
    "start_time": "2022-09-20T12:54:24.459Z"
   },
   {
    "duration": 1310,
    "start_time": "2022-09-20T12:54:30.698Z"
   },
   {
    "duration": 58,
    "start_time": "2022-09-20T12:54:32.011Z"
   },
   {
    "duration": 27,
    "start_time": "2022-09-20T12:54:32.072Z"
   },
   {
    "duration": 14,
    "start_time": "2022-09-20T12:54:32.101Z"
   },
   {
    "duration": 12,
    "start_time": "2022-09-20T12:54:32.117Z"
   },
   {
    "duration": 28,
    "start_time": "2022-09-20T12:54:32.130Z"
   },
   {
    "duration": 44,
    "start_time": "2022-09-20T12:54:32.161Z"
   },
   {
    "duration": 8,
    "start_time": "2022-09-20T12:54:32.207Z"
   },
   {
    "duration": 67,
    "start_time": "2022-09-20T12:54:32.218Z"
   },
   {
    "duration": 12,
    "start_time": "2022-09-20T12:54:32.287Z"
   },
   {
    "duration": 34,
    "start_time": "2022-09-20T12:54:32.300Z"
   },
   {
    "duration": 21,
    "start_time": "2022-09-20T12:54:32.336Z"
   },
   {
    "duration": 37,
    "start_time": "2022-09-20T12:54:32.377Z"
   },
   {
    "duration": 29,
    "start_time": "2022-09-20T12:54:32.419Z"
   },
   {
    "duration": 6,
    "start_time": "2022-09-20T12:54:32.450Z"
   },
   {
    "duration": 47,
    "start_time": "2022-09-20T12:54:32.457Z"
   },
   {
    "duration": 12,
    "start_time": "2022-09-20T12:54:32.506Z"
   },
   {
    "duration": 20,
    "start_time": "2022-09-20T12:54:32.520Z"
   },
   {
    "duration": 5,
    "start_time": "2022-09-20T12:54:32.543Z"
   },
   {
    "duration": 38,
    "start_time": "2022-09-20T12:54:32.549Z"
   },
   {
    "duration": 361,
    "start_time": "2022-09-20T12:54:32.594Z"
   },
   {
    "duration": 5,
    "start_time": "2022-09-20T12:54:32.957Z"
   },
   {
    "duration": 35,
    "start_time": "2022-09-20T12:54:32.963Z"
   },
   {
    "duration": 15,
    "start_time": "2022-09-20T12:54:33.000Z"
   },
   {
    "duration": 10,
    "start_time": "2022-09-20T12:54:33.017Z"
   },
   {
    "duration": 5,
    "start_time": "2022-09-20T12:54:33.030Z"
   },
   {
    "duration": 45,
    "start_time": "2022-09-20T12:54:33.036Z"
   },
   {
    "duration": 12,
    "start_time": "2022-09-20T12:54:33.085Z"
   },
   {
    "duration": 173,
    "start_time": "2022-09-20T12:54:33.099Z"
   },
   {
    "duration": 226,
    "start_time": "2022-09-20T12:54:33.273Z"
   },
   {
    "duration": 9,
    "start_time": "2022-09-20T12:54:33.501Z"
   },
   {
    "duration": 343,
    "start_time": "2022-09-20T12:54:33.512Z"
   },
   {
    "duration": 29,
    "start_time": "2022-09-20T12:54:33.858Z"
   },
   {
    "duration": 11,
    "start_time": "2022-09-20T12:54:33.892Z"
   },
   {
    "duration": 22,
    "start_time": "2022-09-20T12:54:33.904Z"
   },
   {
    "duration": 314,
    "start_time": "2022-09-20T12:54:33.928Z"
   },
   {
    "duration": 10,
    "start_time": "2022-09-20T12:54:34.244Z"
   },
   {
    "duration": 26,
    "start_time": "2022-09-20T12:54:34.255Z"
   },
   {
    "duration": 218,
    "start_time": "2022-09-20T12:54:34.284Z"
   },
   {
    "duration": 10,
    "start_time": "2022-09-20T12:54:34.504Z"
   },
   {
    "duration": 283,
    "start_time": "2022-09-20T12:54:34.517Z"
   },
   {
    "duration": 167,
    "start_time": "2022-09-20T12:54:34.801Z"
   },
   {
    "duration": 16,
    "start_time": "2022-09-20T12:54:34.976Z"
   },
   {
    "duration": 13,
    "start_time": "2022-09-20T12:54:34.998Z"
   },
   {
    "duration": 1499,
    "start_time": "2022-09-20T12:54:35.013Z"
   },
   {
    "duration": 92,
    "start_time": "2022-09-20T12:54:36.514Z"
   },
   {
    "duration": 19,
    "start_time": "2022-09-20T12:54:36.608Z"
   },
   {
    "duration": 228,
    "start_time": "2022-09-20T12:54:36.629Z"
   },
   {
    "duration": 146,
    "start_time": "2022-09-20T12:54:36.859Z"
   },
   {
    "duration": 0,
    "start_time": "2022-09-20T12:54:37.007Z"
   },
   {
    "duration": 0,
    "start_time": "2022-09-20T12:54:37.008Z"
   },
   {
    "duration": 8,
    "start_time": "2022-09-20T12:55:45.016Z"
   },
   {
    "duration": 42,
    "start_time": "2022-09-20T20:28:18.679Z"
   },
   {
    "duration": 1224,
    "start_time": "2022-09-20T20:29:02.751Z"
   },
   {
    "duration": 92,
    "start_time": "2022-09-20T20:29:03.977Z"
   },
   {
    "duration": 17,
    "start_time": "2022-09-20T20:29:04.070Z"
   },
   {
    "duration": 24,
    "start_time": "2022-09-20T20:29:04.090Z"
   },
   {
    "duration": 35,
    "start_time": "2022-09-20T20:29:04.116Z"
   },
   {
    "duration": 66,
    "start_time": "2022-09-20T20:29:04.153Z"
   },
   {
    "duration": 17,
    "start_time": "2022-09-20T20:29:04.221Z"
   },
   {
    "duration": 7,
    "start_time": "2022-09-20T20:29:04.239Z"
   },
   {
    "duration": 75,
    "start_time": "2022-09-20T20:29:04.247Z"
   },
   {
    "duration": 8,
    "start_time": "2022-09-20T20:29:04.324Z"
   },
   {
    "duration": 34,
    "start_time": "2022-09-20T20:29:04.334Z"
   },
   {
    "duration": 35,
    "start_time": "2022-09-20T20:29:04.369Z"
   },
   {
    "duration": 23,
    "start_time": "2022-09-20T20:29:04.407Z"
   },
   {
    "duration": 28,
    "start_time": "2022-09-20T20:29:04.431Z"
   },
   {
    "duration": 22,
    "start_time": "2022-09-20T20:29:04.461Z"
   },
   {
    "duration": 57,
    "start_time": "2022-09-20T20:29:04.485Z"
   },
   {
    "duration": 26,
    "start_time": "2022-09-20T20:29:04.544Z"
   },
   {
    "duration": 45,
    "start_time": "2022-09-20T20:29:04.572Z"
   },
   {
    "duration": 27,
    "start_time": "2022-09-20T20:29:04.619Z"
   },
   {
    "duration": 34,
    "start_time": "2022-09-20T20:29:04.648Z"
   },
   {
    "duration": 319,
    "start_time": "2022-09-20T20:29:04.684Z"
   },
   {
    "duration": 5,
    "start_time": "2022-09-20T20:29:05.005Z"
   },
   {
    "duration": 40,
    "start_time": "2022-09-20T20:29:05.011Z"
   },
   {
    "duration": 41,
    "start_time": "2022-09-20T20:29:05.053Z"
   },
   {
    "duration": 6,
    "start_time": "2022-09-20T20:29:05.096Z"
   },
   {
    "duration": 10,
    "start_time": "2022-09-20T20:29:05.103Z"
   },
   {
    "duration": 24,
    "start_time": "2022-09-20T20:29:05.114Z"
   },
   {
    "duration": 5,
    "start_time": "2022-09-20T20:29:05.141Z"
   },
   {
    "duration": 143,
    "start_time": "2022-09-20T20:29:05.148Z"
   },
   {
    "duration": 195,
    "start_time": "2022-09-20T20:29:05.300Z"
   },
   {
    "duration": 7,
    "start_time": "2022-09-20T20:29:05.499Z"
   },
   {
    "duration": 306,
    "start_time": "2022-09-20T20:29:05.507Z"
   },
   {
    "duration": 15,
    "start_time": "2022-09-20T20:29:05.815Z"
   },
   {
    "duration": 11,
    "start_time": "2022-09-20T20:29:05.832Z"
   },
   {
    "duration": 7,
    "start_time": "2022-09-20T20:29:05.845Z"
   },
   {
    "duration": 265,
    "start_time": "2022-09-20T20:29:05.854Z"
   },
   {
    "duration": 8,
    "start_time": "2022-09-20T20:29:06.120Z"
   },
   {
    "duration": 10,
    "start_time": "2022-09-20T20:29:06.129Z"
   },
   {
    "duration": 176,
    "start_time": "2022-09-20T20:29:06.140Z"
   },
   {
    "duration": 7,
    "start_time": "2022-09-20T20:29:06.317Z"
   },
   {
    "duration": 207,
    "start_time": "2022-09-20T20:29:06.325Z"
   },
   {
    "duration": 149,
    "start_time": "2022-09-20T20:29:06.534Z"
   },
   {
    "duration": 4,
    "start_time": "2022-09-20T20:29:06.685Z"
   },
   {
    "duration": 8,
    "start_time": "2022-09-20T20:29:06.700Z"
   },
   {
    "duration": 1172,
    "start_time": "2022-09-20T20:29:06.710Z"
   },
   {
    "duration": 66,
    "start_time": "2022-09-20T20:29:07.884Z"
   },
   {
    "duration": 16,
    "start_time": "2022-09-20T20:29:07.952Z"
   },
   {
    "duration": 203,
    "start_time": "2022-09-20T20:29:07.970Z"
   },
   {
    "duration": 920,
    "start_time": "2022-09-20T20:29:08.174Z"
   },
   {
    "duration": 0,
    "start_time": "2022-09-20T20:29:09.095Z"
   },
   {
    "duration": 0,
    "start_time": "2022-09-20T20:29:09.096Z"
   },
   {
    "duration": 0,
    "start_time": "2022-09-20T20:29:09.097Z"
   },
   {
    "duration": 115,
    "start_time": "2022-09-20T20:29:33.788Z"
   },
   {
    "duration": 1022,
    "start_time": "2022-09-20T20:29:45.058Z"
   },
   {
    "duration": 50,
    "start_time": "2022-09-20T20:29:46.082Z"
   },
   {
    "duration": 13,
    "start_time": "2022-09-20T20:29:46.134Z"
   },
   {
    "duration": 2,
    "start_time": "2022-09-20T20:29:46.149Z"
   },
   {
    "duration": 7,
    "start_time": "2022-09-20T20:29:46.153Z"
   },
   {
    "duration": 21,
    "start_time": "2022-09-20T20:29:46.161Z"
   },
   {
    "duration": 26,
    "start_time": "2022-09-20T20:29:46.184Z"
   },
   {
    "duration": 3,
    "start_time": "2022-09-20T20:29:46.211Z"
   },
   {
    "duration": 47,
    "start_time": "2022-09-20T20:29:46.216Z"
   },
   {
    "duration": 8,
    "start_time": "2022-09-20T20:29:46.265Z"
   },
   {
    "duration": 35,
    "start_time": "2022-09-20T20:29:46.274Z"
   },
   {
    "duration": 19,
    "start_time": "2022-09-20T20:29:46.311Z"
   },
   {
    "duration": 20,
    "start_time": "2022-09-20T20:29:46.332Z"
   },
   {
    "duration": 47,
    "start_time": "2022-09-20T20:29:46.354Z"
   },
   {
    "duration": 7,
    "start_time": "2022-09-20T20:29:46.403Z"
   },
   {
    "duration": 15,
    "start_time": "2022-09-20T20:29:46.411Z"
   },
   {
    "duration": 8,
    "start_time": "2022-09-20T20:29:46.428Z"
   },
   {
    "duration": 17,
    "start_time": "2022-09-20T20:29:46.438Z"
   },
   {
    "duration": 4,
    "start_time": "2022-09-20T20:29:46.457Z"
   },
   {
    "duration": 38,
    "start_time": "2022-09-20T20:29:46.463Z"
   },
   {
    "duration": 330,
    "start_time": "2022-09-20T20:29:46.503Z"
   },
   {
    "duration": 3,
    "start_time": "2022-09-20T20:29:46.835Z"
   },
   {
    "duration": 17,
    "start_time": "2022-09-20T20:29:46.840Z"
   },
   {
    "duration": 8,
    "start_time": "2022-09-20T20:29:46.858Z"
   },
   {
    "duration": 5,
    "start_time": "2022-09-20T20:29:46.867Z"
   },
   {
    "duration": 5,
    "start_time": "2022-09-20T20:29:46.874Z"
   },
   {
    "duration": 34,
    "start_time": "2022-09-20T20:29:46.881Z"
   },
   {
    "duration": 6,
    "start_time": "2022-09-20T20:29:46.918Z"
   },
   {
    "duration": 158,
    "start_time": "2022-09-20T20:29:46.925Z"
   },
   {
    "duration": 181,
    "start_time": "2022-09-20T20:29:47.085Z"
   },
   {
    "duration": 7,
    "start_time": "2022-09-20T20:29:47.267Z"
   },
   {
    "duration": 309,
    "start_time": "2022-09-20T20:29:47.275Z"
   },
   {
    "duration": 17,
    "start_time": "2022-09-20T20:29:47.585Z"
   },
   {
    "duration": 6,
    "start_time": "2022-09-20T20:29:47.603Z"
   },
   {
    "duration": 4,
    "start_time": "2022-09-20T20:29:47.610Z"
   },
   {
    "duration": 285,
    "start_time": "2022-09-20T20:29:47.615Z"
   },
   {
    "duration": 7,
    "start_time": "2022-09-20T20:29:47.902Z"
   },
   {
    "duration": 15,
    "start_time": "2022-09-20T20:29:47.911Z"
   },
   {
    "duration": 178,
    "start_time": "2022-09-20T20:29:47.928Z"
   },
   {
    "duration": 8,
    "start_time": "2022-09-20T20:29:48.107Z"
   },
   {
    "duration": 209,
    "start_time": "2022-09-20T20:29:48.116Z"
   },
   {
    "duration": 146,
    "start_time": "2022-09-20T20:29:48.327Z"
   },
   {
    "duration": 4,
    "start_time": "2022-09-20T20:29:48.475Z"
   },
   {
    "duration": 19,
    "start_time": "2022-09-20T20:29:48.481Z"
   },
   {
    "duration": 1170,
    "start_time": "2022-09-20T20:29:48.502Z"
   },
   {
    "duration": 67,
    "start_time": "2022-09-20T20:29:49.674Z"
   },
   {
    "duration": 14,
    "start_time": "2022-09-20T20:29:49.743Z"
   },
   {
    "duration": 206,
    "start_time": "2022-09-20T20:29:49.759Z"
   },
   {
    "duration": 136,
    "start_time": "2022-09-20T20:29:49.966Z"
   },
   {
    "duration": 126,
    "start_time": "2022-09-20T20:29:50.103Z"
   },
   {
    "duration": 124,
    "start_time": "2022-09-20T20:29:50.231Z"
   },
   {
    "duration": 95,
    "start_time": "2022-09-20T20:29:50.356Z"
   },
   {
    "duration": 8,
    "start_time": "2022-09-20T20:30:51.119Z"
   },
   {
    "duration": 1076,
    "start_time": "2022-09-20T20:31:20.010Z"
   },
   {
    "duration": 51,
    "start_time": "2022-09-20T20:31:21.088Z"
   },
   {
    "duration": 14,
    "start_time": "2022-09-20T20:31:21.140Z"
   },
   {
    "duration": 2,
    "start_time": "2022-09-20T20:31:21.156Z"
   },
   {
    "duration": 8,
    "start_time": "2022-09-20T20:31:21.159Z"
   },
   {
    "duration": 24,
    "start_time": "2022-09-20T20:31:21.168Z"
   },
   {
    "duration": 20,
    "start_time": "2022-09-20T20:31:21.193Z"
   },
   {
    "duration": 3,
    "start_time": "2022-09-20T20:31:21.215Z"
   },
   {
    "duration": 48,
    "start_time": "2022-09-20T20:31:21.220Z"
   },
   {
    "duration": 8,
    "start_time": "2022-09-20T20:31:21.270Z"
   },
   {
    "duration": 37,
    "start_time": "2022-09-20T20:31:21.279Z"
   },
   {
    "duration": 20,
    "start_time": "2022-09-20T20:31:21.317Z"
   },
   {
    "duration": 20,
    "start_time": "2022-09-20T20:31:21.338Z"
   },
   {
    "duration": 43,
    "start_time": "2022-09-20T20:31:21.360Z"
   },
   {
    "duration": 6,
    "start_time": "2022-09-20T20:31:21.404Z"
   },
   {
    "duration": 21,
    "start_time": "2022-09-20T20:31:21.411Z"
   },
   {
    "duration": 7,
    "start_time": "2022-09-20T20:31:21.434Z"
   },
   {
    "duration": 19,
    "start_time": "2022-09-20T20:31:21.445Z"
   },
   {
    "duration": 3,
    "start_time": "2022-09-20T20:31:21.466Z"
   },
   {
    "duration": 37,
    "start_time": "2022-09-20T20:31:21.470Z"
   },
   {
    "duration": 315,
    "start_time": "2022-09-20T20:31:21.509Z"
   },
   {
    "duration": 4,
    "start_time": "2022-09-20T20:31:21.826Z"
   },
   {
    "duration": 16,
    "start_time": "2022-09-20T20:31:21.831Z"
   },
   {
    "duration": 6,
    "start_time": "2022-09-20T20:31:21.849Z"
   },
   {
    "duration": 8,
    "start_time": "2022-09-20T20:31:21.856Z"
   },
   {
    "duration": 5,
    "start_time": "2022-09-20T20:31:21.865Z"
   },
   {
    "duration": 40,
    "start_time": "2022-09-20T20:31:21.871Z"
   },
   {
    "duration": 6,
    "start_time": "2022-09-20T20:31:21.914Z"
   },
   {
    "duration": 171,
    "start_time": "2022-09-20T20:31:21.922Z"
   },
   {
    "duration": 214,
    "start_time": "2022-09-20T20:31:22.094Z"
   },
   {
    "duration": 6,
    "start_time": "2022-09-20T20:31:22.310Z"
   },
   {
    "duration": 320,
    "start_time": "2022-09-20T20:31:22.318Z"
   },
   {
    "duration": 10,
    "start_time": "2022-09-20T20:31:22.639Z"
   },
   {
    "duration": 6,
    "start_time": "2022-09-20T20:31:22.651Z"
   },
   {
    "duration": 3,
    "start_time": "2022-09-20T20:31:22.659Z"
   },
   {
    "duration": 284,
    "start_time": "2022-09-20T20:31:22.664Z"
   },
   {
    "duration": 8,
    "start_time": "2022-09-20T20:31:22.949Z"
   },
   {
    "duration": 8,
    "start_time": "2022-09-20T20:31:22.959Z"
   },
   {
    "duration": 188,
    "start_time": "2022-09-20T20:31:22.968Z"
   },
   {
    "duration": 8,
    "start_time": "2022-09-20T20:31:23.157Z"
   },
   {
    "duration": 212,
    "start_time": "2022-09-20T20:31:23.166Z"
   },
   {
    "duration": 159,
    "start_time": "2022-09-20T20:31:23.380Z"
   },
   {
    "duration": 5,
    "start_time": "2022-09-20T20:31:23.541Z"
   },
   {
    "duration": 12,
    "start_time": "2022-09-20T20:31:23.548Z"
   },
   {
    "duration": 1262,
    "start_time": "2022-09-20T20:31:23.562Z"
   },
   {
    "duration": 52,
    "start_time": "2022-09-20T20:31:24.826Z"
   },
   {
    "duration": 36,
    "start_time": "2022-09-20T20:31:24.879Z"
   },
   {
    "duration": 208,
    "start_time": "2022-09-20T20:31:24.916Z"
   },
   {
    "duration": 8,
    "start_time": "2022-09-20T20:31:25.125Z"
   },
   {
    "duration": 7,
    "start_time": "2022-09-20T20:31:25.134Z"
   },
   {
    "duration": 7,
    "start_time": "2022-09-20T20:31:25.142Z"
   },
   {
    "duration": 8,
    "start_time": "2022-09-20T20:35:53.315Z"
   },
   {
    "duration": 9,
    "start_time": "2022-09-20T20:35:56.488Z"
   },
   {
    "duration": 8,
    "start_time": "2022-09-20T20:35:57.268Z"
   },
   {
    "duration": 1012,
    "start_time": "2022-09-20T20:36:01.959Z"
   },
   {
    "duration": 49,
    "start_time": "2022-09-20T20:36:02.972Z"
   },
   {
    "duration": 12,
    "start_time": "2022-09-20T20:36:03.022Z"
   },
   {
    "duration": 8,
    "start_time": "2022-09-20T20:36:03.036Z"
   },
   {
    "duration": 29,
    "start_time": "2022-09-20T20:36:03.046Z"
   },
   {
    "duration": 46,
    "start_time": "2022-09-20T20:36:03.076Z"
   },
   {
    "duration": 24,
    "start_time": "2022-09-20T20:36:03.124Z"
   },
   {
    "duration": 16,
    "start_time": "2022-09-20T20:36:03.150Z"
   },
   {
    "duration": 53,
    "start_time": "2022-09-20T20:36:03.167Z"
   },
   {
    "duration": 7,
    "start_time": "2022-09-20T20:36:03.223Z"
   },
   {
    "duration": 38,
    "start_time": "2022-09-20T20:36:03.231Z"
   },
   {
    "duration": 17,
    "start_time": "2022-09-20T20:36:03.271Z"
   },
   {
    "duration": 30,
    "start_time": "2022-09-20T20:36:03.290Z"
   },
   {
    "duration": 18,
    "start_time": "2022-09-20T20:36:03.323Z"
   },
   {
    "duration": 18,
    "start_time": "2022-09-20T20:36:03.343Z"
   },
   {
    "duration": 20,
    "start_time": "2022-09-20T20:36:03.363Z"
   },
   {
    "duration": 24,
    "start_time": "2022-09-20T20:36:03.384Z"
   },
   {
    "duration": 29,
    "start_time": "2022-09-20T20:36:03.410Z"
   },
   {
    "duration": 6,
    "start_time": "2022-09-20T20:36:03.441Z"
   },
   {
    "duration": 36,
    "start_time": "2022-09-20T20:36:03.449Z"
   },
   {
    "duration": 320,
    "start_time": "2022-09-20T20:36:03.486Z"
   },
   {
    "duration": 4,
    "start_time": "2022-09-20T20:36:03.808Z"
   },
   {
    "duration": 41,
    "start_time": "2022-09-20T20:36:03.813Z"
   },
   {
    "duration": 14,
    "start_time": "2022-09-20T20:36:03.855Z"
   },
   {
    "duration": 33,
    "start_time": "2022-09-20T20:36:03.870Z"
   },
   {
    "duration": 14,
    "start_time": "2022-09-20T20:36:03.904Z"
   },
   {
    "duration": 40,
    "start_time": "2022-09-20T20:36:03.920Z"
   },
   {
    "duration": 21,
    "start_time": "2022-09-20T20:36:03.963Z"
   },
   {
    "duration": 163,
    "start_time": "2022-09-20T20:36:03.986Z"
   },
   {
    "duration": 213,
    "start_time": "2022-09-20T20:36:04.151Z"
   },
   {
    "duration": 7,
    "start_time": "2022-09-20T20:36:04.366Z"
   },
   {
    "duration": 403,
    "start_time": "2022-09-20T20:36:04.375Z"
   },
   {
    "duration": 21,
    "start_time": "2022-09-20T20:36:04.779Z"
   },
   {
    "duration": 28,
    "start_time": "2022-09-20T20:36:04.801Z"
   },
   {
    "duration": 17,
    "start_time": "2022-09-20T20:36:04.830Z"
   },
   {
    "duration": 299,
    "start_time": "2022-09-20T20:36:04.849Z"
   },
   {
    "duration": 8,
    "start_time": "2022-09-20T20:36:05.149Z"
   },
   {
    "duration": 19,
    "start_time": "2022-09-20T20:36:05.158Z"
   },
   {
    "duration": 196,
    "start_time": "2022-09-20T20:36:05.178Z"
   },
   {
    "duration": 7,
    "start_time": "2022-09-20T20:36:05.375Z"
   },
   {
    "duration": 206,
    "start_time": "2022-09-20T20:36:05.383Z"
   },
   {
    "duration": 153,
    "start_time": "2022-09-20T20:36:05.591Z"
   },
   {
    "duration": 4,
    "start_time": "2022-09-20T20:36:05.746Z"
   },
   {
    "duration": 8,
    "start_time": "2022-09-20T20:36:05.751Z"
   },
   {
    "duration": 1142,
    "start_time": "2022-09-20T20:36:05.760Z"
   },
   {
    "duration": 50,
    "start_time": "2022-09-20T20:36:06.903Z"
   },
   {
    "duration": 16,
    "start_time": "2022-09-20T20:36:06.954Z"
   },
   {
    "duration": 196,
    "start_time": "2022-09-20T20:36:06.971Z"
   },
   {
    "duration": 162,
    "start_time": "2022-09-20T20:36:07.168Z"
   },
   {
    "duration": 7,
    "start_time": "2022-09-20T20:36:07.332Z"
   },
   {
    "duration": 10,
    "start_time": "2022-09-20T20:36:07.340Z"
   },
   {
    "duration": 7,
    "start_time": "2022-09-20T20:36:07.352Z"
   },
   {
    "duration": 172,
    "start_time": "2022-09-20T20:36:30.348Z"
   },
   {
    "duration": 161,
    "start_time": "2022-09-20T20:37:27.528Z"
   },
   {
    "duration": 241,
    "start_time": "2022-09-20T20:39:08.723Z"
   },
   {
    "duration": 205,
    "start_time": "2022-09-20T20:41:26.665Z"
   },
   {
    "duration": 1091,
    "start_time": "2022-09-20T20:41:54.288Z"
   },
   {
    "duration": 52,
    "start_time": "2022-09-20T20:41:55.380Z"
   },
   {
    "duration": 14,
    "start_time": "2022-09-20T20:41:55.435Z"
   },
   {
    "duration": 2,
    "start_time": "2022-09-20T20:41:55.451Z"
   },
   {
    "duration": 8,
    "start_time": "2022-09-20T20:41:55.455Z"
   },
   {
    "duration": 22,
    "start_time": "2022-09-20T20:41:55.464Z"
   },
   {
    "duration": 26,
    "start_time": "2022-09-20T20:41:55.488Z"
   },
   {
    "duration": 3,
    "start_time": "2022-09-20T20:41:55.516Z"
   },
   {
    "duration": 46,
    "start_time": "2022-09-20T20:41:55.521Z"
   },
   {
    "duration": 7,
    "start_time": "2022-09-20T20:41:55.569Z"
   },
   {
    "duration": 19,
    "start_time": "2022-09-20T20:41:55.600Z"
   },
   {
    "duration": 18,
    "start_time": "2022-09-20T20:41:55.620Z"
   },
   {
    "duration": 17,
    "start_time": "2022-09-20T20:41:55.640Z"
   },
   {
    "duration": 41,
    "start_time": "2022-09-20T20:41:55.659Z"
   },
   {
    "duration": 6,
    "start_time": "2022-09-20T20:41:55.702Z"
   },
   {
    "duration": 13,
    "start_time": "2022-09-20T20:41:55.709Z"
   },
   {
    "duration": 7,
    "start_time": "2022-09-20T20:41:55.723Z"
   },
   {
    "duration": 18,
    "start_time": "2022-09-20T20:41:55.731Z"
   },
   {
    "duration": 3,
    "start_time": "2022-09-20T20:41:55.751Z"
   },
   {
    "duration": 19,
    "start_time": "2022-09-20T20:41:55.756Z"
   },
   {
    "duration": 298,
    "start_time": "2022-09-20T20:41:55.800Z"
   },
   {
    "duration": 4,
    "start_time": "2022-09-20T20:41:56.099Z"
   },
   {
    "duration": 17,
    "start_time": "2022-09-20T20:41:56.104Z"
   },
   {
    "duration": 8,
    "start_time": "2022-09-20T20:41:56.122Z"
   },
   {
    "duration": 4,
    "start_time": "2022-09-20T20:41:56.131Z"
   },
   {
    "duration": 9,
    "start_time": "2022-09-20T20:41:56.136Z"
   },
   {
    "duration": 15,
    "start_time": "2022-09-20T20:41:56.147Z"
   },
   {
    "duration": 5,
    "start_time": "2022-09-20T20:41:56.163Z"
   },
   {
    "duration": 128,
    "start_time": "2022-09-20T20:41:56.200Z"
   },
   {
    "duration": 189,
    "start_time": "2022-09-20T20:41:56.330Z"
   },
   {
    "duration": 7,
    "start_time": "2022-09-20T20:41:56.520Z"
   },
   {
    "duration": 294,
    "start_time": "2022-09-20T20:41:56.528Z"
   },
   {
    "duration": 12,
    "start_time": "2022-09-20T20:41:56.824Z"
   },
   {
    "duration": 7,
    "start_time": "2022-09-20T20:41:56.837Z"
   },
   {
    "duration": 5,
    "start_time": "2022-09-20T20:41:56.845Z"
   },
   {
    "duration": 282,
    "start_time": "2022-09-20T20:41:56.851Z"
   },
   {
    "duration": 8,
    "start_time": "2022-09-20T20:41:57.134Z"
   },
   {
    "duration": 8,
    "start_time": "2022-09-20T20:41:57.143Z"
   },
   {
    "duration": 182,
    "start_time": "2022-09-20T20:41:57.152Z"
   },
   {
    "duration": 7,
    "start_time": "2022-09-20T20:41:57.335Z"
   },
   {
    "duration": 219,
    "start_time": "2022-09-20T20:41:57.343Z"
   },
   {
    "duration": 146,
    "start_time": "2022-09-20T20:41:57.563Z"
   },
   {
    "duration": 5,
    "start_time": "2022-09-20T20:41:57.710Z"
   },
   {
    "duration": 7,
    "start_time": "2022-09-20T20:41:57.716Z"
   },
   {
    "duration": 1134,
    "start_time": "2022-09-20T20:41:57.725Z"
   },
   {
    "duration": 66,
    "start_time": "2022-09-20T20:41:58.860Z"
   },
   {
    "duration": 15,
    "start_time": "2022-09-20T20:41:58.928Z"
   },
   {
    "duration": 194,
    "start_time": "2022-09-20T20:41:58.945Z"
   },
   {
    "duration": 170,
    "start_time": "2022-09-20T20:41:59.140Z"
   },
   {
    "duration": 222,
    "start_time": "2022-09-20T20:41:59.311Z"
   },
   {
    "duration": 0,
    "start_time": "2022-09-20T20:41:59.535Z"
   },
   {
    "duration": 0,
    "start_time": "2022-09-20T20:41:59.536Z"
   },
   {
    "duration": 10,
    "start_time": "2022-09-20T20:44:14.905Z"
   },
   {
    "duration": 8,
    "start_time": "2022-09-20T20:46:42.575Z"
   },
   {
    "duration": 10,
    "start_time": "2022-09-20T20:51:45.040Z"
   },
   {
    "duration": 1056,
    "start_time": "2022-09-20T20:51:57.134Z"
   },
   {
    "duration": 49,
    "start_time": "2022-09-20T20:51:58.191Z"
   },
   {
    "duration": 14,
    "start_time": "2022-09-20T20:51:58.241Z"
   },
   {
    "duration": 3,
    "start_time": "2022-09-20T20:51:58.256Z"
   },
   {
    "duration": 8,
    "start_time": "2022-09-20T20:51:58.260Z"
   },
   {
    "duration": 22,
    "start_time": "2022-09-20T20:51:58.269Z"
   },
   {
    "duration": 16,
    "start_time": "2022-09-20T20:51:58.293Z"
   },
   {
    "duration": 3,
    "start_time": "2022-09-20T20:51:58.310Z"
   },
   {
    "duration": 49,
    "start_time": "2022-09-20T20:51:58.314Z"
   },
   {
    "duration": 8,
    "start_time": "2022-09-20T20:51:58.365Z"
   },
   {
    "duration": 40,
    "start_time": "2022-09-20T20:51:58.374Z"
   },
   {
    "duration": 20,
    "start_time": "2022-09-20T20:51:58.415Z"
   },
   {
    "duration": 19,
    "start_time": "2022-09-20T20:51:58.437Z"
   },
   {
    "duration": 18,
    "start_time": "2022-09-20T20:51:58.457Z"
   },
   {
    "duration": 26,
    "start_time": "2022-09-20T20:51:58.477Z"
   },
   {
    "duration": 12,
    "start_time": "2022-09-20T20:51:58.504Z"
   },
   {
    "duration": 5,
    "start_time": "2022-09-20T20:51:58.517Z"
   },
   {
    "duration": 19,
    "start_time": "2022-09-20T20:51:58.524Z"
   },
   {
    "duration": 4,
    "start_time": "2022-09-20T20:51:58.545Z"
   },
   {
    "duration": 14,
    "start_time": "2022-09-20T20:51:58.550Z"
   },
   {
    "duration": 362,
    "start_time": "2022-09-20T20:51:58.565Z"
   },
   {
    "duration": 4,
    "start_time": "2022-09-20T20:51:58.928Z"
   },
   {
    "duration": 22,
    "start_time": "2022-09-20T20:51:58.934Z"
   },
   {
    "duration": 8,
    "start_time": "2022-09-20T20:51:58.957Z"
   },
   {
    "duration": 5,
    "start_time": "2022-09-20T20:51:58.966Z"
   },
   {
    "duration": 7,
    "start_time": "2022-09-20T20:51:58.972Z"
   },
   {
    "duration": 32,
    "start_time": "2022-09-20T20:51:58.980Z"
   },
   {
    "duration": 5,
    "start_time": "2022-09-20T20:51:59.015Z"
   },
   {
    "duration": 158,
    "start_time": "2022-09-20T20:51:59.021Z"
   },
   {
    "duration": 181,
    "start_time": "2022-09-20T20:51:59.180Z"
   },
   {
    "duration": 6,
    "start_time": "2022-09-20T20:51:59.364Z"
   },
   {
    "duration": 296,
    "start_time": "2022-09-20T20:51:59.372Z"
   },
   {
    "duration": 10,
    "start_time": "2022-09-20T20:51:59.670Z"
   },
   {
    "duration": 6,
    "start_time": "2022-09-20T20:51:59.682Z"
   },
   {
    "duration": 13,
    "start_time": "2022-09-20T20:51:59.689Z"
   },
   {
    "duration": 278,
    "start_time": "2022-09-20T20:51:59.704Z"
   },
   {
    "duration": 8,
    "start_time": "2022-09-20T20:51:59.983Z"
   },
   {
    "duration": 6,
    "start_time": "2022-09-20T20:52:00.000Z"
   },
   {
    "duration": 178,
    "start_time": "2022-09-20T20:52:00.007Z"
   },
   {
    "duration": 14,
    "start_time": "2022-09-20T20:52:00.187Z"
   },
   {
    "duration": 213,
    "start_time": "2022-09-20T20:52:00.202Z"
   },
   {
    "duration": 154,
    "start_time": "2022-09-20T20:52:00.417Z"
   },
   {
    "duration": 4,
    "start_time": "2022-09-20T20:52:00.573Z"
   },
   {
    "duration": 30,
    "start_time": "2022-09-20T20:52:00.579Z"
   },
   {
    "duration": 1171,
    "start_time": "2022-09-20T20:52:00.611Z"
   },
   {
    "duration": 69,
    "start_time": "2022-09-20T20:52:01.784Z"
   },
   {
    "duration": 18,
    "start_time": "2022-09-20T20:52:01.854Z"
   },
   {
    "duration": 209,
    "start_time": "2022-09-20T20:52:01.873Z"
   },
   {
    "duration": 102,
    "start_time": "2022-09-20T20:52:02.083Z"
   },
   {
    "duration": 0,
    "start_time": "2022-09-20T20:52:02.186Z"
   },
   {
    "duration": 0,
    "start_time": "2022-09-20T20:52:02.187Z"
   },
   {
    "duration": 0,
    "start_time": "2022-09-20T20:52:02.188Z"
   },
   {
    "duration": 0,
    "start_time": "2022-09-20T20:52:02.189Z"
   },
   {
    "duration": 11,
    "start_time": "2022-09-20T20:52:29.127Z"
   },
   {
    "duration": 11,
    "start_time": "2022-09-20T20:52:35.066Z"
   },
   {
    "duration": 166,
    "start_time": "2022-09-20T20:53:33.913Z"
   },
   {
    "duration": 157,
    "start_time": "2022-09-20T20:55:15.735Z"
   },
   {
    "duration": 159,
    "start_time": "2022-09-20T20:55:56.172Z"
   },
   {
    "duration": 256,
    "start_time": "2022-09-20T20:56:21.800Z"
   },
   {
    "duration": 1069,
    "start_time": "2022-09-20T20:57:02.798Z"
   },
   {
    "duration": 50,
    "start_time": "2022-09-20T20:57:03.869Z"
   },
   {
    "duration": 14,
    "start_time": "2022-09-20T20:57:03.921Z"
   },
   {
    "duration": 4,
    "start_time": "2022-09-20T20:57:03.937Z"
   },
   {
    "duration": 8,
    "start_time": "2022-09-20T20:57:03.942Z"
   },
   {
    "duration": 24,
    "start_time": "2022-09-20T20:57:03.952Z"
   },
   {
    "duration": 38,
    "start_time": "2022-09-20T20:57:03.977Z"
   },
   {
    "duration": 3,
    "start_time": "2022-09-20T20:57:04.016Z"
   },
   {
    "duration": 51,
    "start_time": "2022-09-20T20:57:04.020Z"
   },
   {
    "duration": 8,
    "start_time": "2022-09-20T20:57:04.074Z"
   },
   {
    "duration": 24,
    "start_time": "2022-09-20T20:57:04.101Z"
   },
   {
    "duration": 20,
    "start_time": "2022-09-20T20:57:04.127Z"
   },
   {
    "duration": 24,
    "start_time": "2022-09-20T20:57:04.149Z"
   },
   {
    "duration": 48,
    "start_time": "2022-09-20T20:57:04.174Z"
   },
   {
    "duration": 6,
    "start_time": "2022-09-20T20:57:04.223Z"
   },
   {
    "duration": 11,
    "start_time": "2022-09-20T20:57:04.231Z"
   },
   {
    "duration": 6,
    "start_time": "2022-09-20T20:57:04.243Z"
   },
   {
    "duration": 17,
    "start_time": "2022-09-20T20:57:04.250Z"
   },
   {
    "duration": 3,
    "start_time": "2022-09-20T20:57:04.268Z"
   },
   {
    "duration": 39,
    "start_time": "2022-09-20T20:57:04.272Z"
   },
   {
    "duration": 334,
    "start_time": "2022-09-20T20:57:04.312Z"
   },
   {
    "duration": 4,
    "start_time": "2022-09-20T20:57:04.648Z"
   },
   {
    "duration": 20,
    "start_time": "2022-09-20T20:57:04.653Z"
   },
   {
    "duration": 24,
    "start_time": "2022-09-20T20:57:04.674Z"
   },
   {
    "duration": 8,
    "start_time": "2022-09-20T20:57:04.699Z"
   },
   {
    "duration": 5,
    "start_time": "2022-09-20T20:57:04.708Z"
   },
   {
    "duration": 14,
    "start_time": "2022-09-20T20:57:04.714Z"
   },
   {
    "duration": 5,
    "start_time": "2022-09-20T20:57:04.731Z"
   },
   {
    "duration": 147,
    "start_time": "2022-09-20T20:57:04.737Z"
   },
   {
    "duration": 183,
    "start_time": "2022-09-20T20:57:04.886Z"
   },
   {
    "duration": 6,
    "start_time": "2022-09-20T20:57:05.070Z"
   },
   {
    "duration": 301,
    "start_time": "2022-09-20T20:57:05.077Z"
   },
   {
    "duration": 10,
    "start_time": "2022-09-20T20:57:05.380Z"
   },
   {
    "duration": 7,
    "start_time": "2022-09-20T20:57:05.400Z"
   },
   {
    "duration": 6,
    "start_time": "2022-09-20T20:57:05.408Z"
   },
   {
    "duration": 287,
    "start_time": "2022-09-20T20:57:05.416Z"
   },
   {
    "duration": 9,
    "start_time": "2022-09-20T20:57:05.705Z"
   },
   {
    "duration": 8,
    "start_time": "2022-09-20T20:57:05.716Z"
   },
   {
    "duration": 218,
    "start_time": "2022-09-20T20:57:05.726Z"
   },
   {
    "duration": 8,
    "start_time": "2022-09-20T20:57:05.946Z"
   },
   {
    "duration": 223,
    "start_time": "2022-09-20T20:57:05.956Z"
   },
   {
    "duration": 153,
    "start_time": "2022-09-20T20:57:06.180Z"
   },
   {
    "duration": 5,
    "start_time": "2022-09-20T20:57:06.334Z"
   },
   {
    "duration": 8,
    "start_time": "2022-09-20T20:57:06.340Z"
   },
   {
    "duration": 1186,
    "start_time": "2022-09-20T20:57:06.350Z"
   },
   {
    "duration": 71,
    "start_time": "2022-09-20T20:57:07.537Z"
   },
   {
    "duration": 15,
    "start_time": "2022-09-20T20:57:07.610Z"
   },
   {
    "duration": 186,
    "start_time": "2022-09-20T20:57:07.626Z"
   },
   {
    "duration": 172,
    "start_time": "2022-09-20T20:57:07.814Z"
   },
   {
    "duration": 164,
    "start_time": "2022-09-20T20:57:07.988Z"
   },
   {
    "duration": 162,
    "start_time": "2022-09-20T20:57:08.153Z"
   },
   {
    "duration": 249,
    "start_time": "2022-09-20T20:57:08.316Z"
   },
   {
    "duration": 169,
    "start_time": "2022-09-20T20:57:08.567Z"
   },
   {
    "duration": 171,
    "start_time": "2022-09-20T20:57:08.737Z"
   },
   {
    "duration": 166,
    "start_time": "2022-09-20T20:58:23.048Z"
   },
   {
    "duration": 167,
    "start_time": "2022-09-20T21:00:51.307Z"
   },
   {
    "duration": 173,
    "start_time": "2022-09-20T21:01:15.300Z"
   },
   {
    "duration": 205,
    "start_time": "2022-09-20T21:08:49.897Z"
   },
   {
    "duration": 175,
    "start_time": "2022-09-20T21:10:25.823Z"
   },
   {
    "duration": 205,
    "start_time": "2022-09-20T21:10:37.137Z"
   },
   {
    "duration": 167,
    "start_time": "2022-09-20T21:11:16.202Z"
   },
   {
    "duration": 8,
    "start_time": "2022-09-20T21:13:27.542Z"
   },
   {
    "duration": 377,
    "start_time": "2022-09-20T21:14:03.106Z"
   },
   {
    "duration": 97,
    "start_time": "2022-09-20T21:14:47.218Z"
   },
   {
    "duration": 8,
    "start_time": "2022-09-20T21:15:30.538Z"
   },
   {
    "duration": 357,
    "start_time": "2022-09-20T21:15:53.294Z"
   },
   {
    "duration": 7,
    "start_time": "2022-09-20T21:17:20.708Z"
   },
   {
    "duration": 1100,
    "start_time": "2022-09-20T21:17:33.648Z"
   },
   {
    "duration": 49,
    "start_time": "2022-09-20T21:17:34.749Z"
   },
   {
    "duration": 12,
    "start_time": "2022-09-20T21:17:34.799Z"
   },
   {
    "duration": 6,
    "start_time": "2022-09-20T21:17:34.813Z"
   },
   {
    "duration": 8,
    "start_time": "2022-09-20T21:17:34.820Z"
   },
   {
    "duration": 25,
    "start_time": "2022-09-20T21:17:34.829Z"
   },
   {
    "duration": 16,
    "start_time": "2022-09-20T21:17:34.856Z"
   },
   {
    "duration": 3,
    "start_time": "2022-09-20T21:17:34.873Z"
   },
   {
    "duration": 70,
    "start_time": "2022-09-20T21:17:34.877Z"
   },
   {
    "duration": 8,
    "start_time": "2022-09-20T21:17:34.949Z"
   },
   {
    "duration": 24,
    "start_time": "2022-09-20T21:17:34.958Z"
   },
   {
    "duration": 29,
    "start_time": "2022-09-20T21:17:34.983Z"
   },
   {
    "duration": 18,
    "start_time": "2022-09-20T21:17:35.014Z"
   },
   {
    "duration": 18,
    "start_time": "2022-09-20T21:17:35.033Z"
   },
   {
    "duration": 6,
    "start_time": "2022-09-20T21:17:35.052Z"
   },
   {
    "duration": 12,
    "start_time": "2022-09-20T21:17:35.060Z"
   },
   {
    "duration": 31,
    "start_time": "2022-09-20T21:17:35.074Z"
   },
   {
    "duration": 17,
    "start_time": "2022-09-20T21:17:35.107Z"
   },
   {
    "duration": 4,
    "start_time": "2022-09-20T21:17:35.126Z"
   },
   {
    "duration": 15,
    "start_time": "2022-09-20T21:17:35.132Z"
   },
   {
    "duration": 320,
    "start_time": "2022-09-20T21:17:35.148Z"
   },
   {
    "duration": 4,
    "start_time": "2022-09-20T21:17:35.470Z"
   },
   {
    "duration": 25,
    "start_time": "2022-09-20T21:17:35.475Z"
   },
   {
    "duration": 11,
    "start_time": "2022-09-20T21:17:35.506Z"
   },
   {
    "duration": 5,
    "start_time": "2022-09-20T21:17:35.518Z"
   },
   {
    "duration": 6,
    "start_time": "2022-09-20T21:17:35.524Z"
   },
   {
    "duration": 16,
    "start_time": "2022-09-20T21:17:35.531Z"
   },
   {
    "duration": 5,
    "start_time": "2022-09-20T21:17:35.550Z"
   },
   {
    "duration": 156,
    "start_time": "2022-09-20T21:17:35.556Z"
   },
   {
    "duration": 189,
    "start_time": "2022-09-20T21:17:35.713Z"
   },
   {
    "duration": 6,
    "start_time": "2022-09-20T21:17:35.904Z"
   },
   {
    "duration": 291,
    "start_time": "2022-09-20T21:17:35.911Z"
   },
   {
    "duration": 10,
    "start_time": "2022-09-20T21:17:36.203Z"
   },
   {
    "duration": 7,
    "start_time": "2022-09-20T21:17:36.215Z"
   },
   {
    "duration": 4,
    "start_time": "2022-09-20T21:17:36.223Z"
   },
   {
    "duration": 274,
    "start_time": "2022-09-20T21:17:36.228Z"
   },
   {
    "duration": 8,
    "start_time": "2022-09-20T21:17:36.503Z"
   },
   {
    "duration": 9,
    "start_time": "2022-09-20T21:17:36.512Z"
   },
   {
    "duration": 180,
    "start_time": "2022-09-20T21:17:36.523Z"
   },
   {
    "duration": 7,
    "start_time": "2022-09-20T21:17:36.705Z"
   },
   {
    "duration": 207,
    "start_time": "2022-09-20T21:17:36.713Z"
   },
   {
    "duration": 148,
    "start_time": "2022-09-20T21:17:36.921Z"
   },
   {
    "duration": 5,
    "start_time": "2022-09-20T21:17:37.070Z"
   },
   {
    "duration": 8,
    "start_time": "2022-09-20T21:17:37.077Z"
   },
   {
    "duration": 1133,
    "start_time": "2022-09-20T21:17:37.100Z"
   },
   {
    "duration": 66,
    "start_time": "2022-09-20T21:17:38.234Z"
   },
   {
    "duration": 14,
    "start_time": "2022-09-20T21:17:38.302Z"
   },
   {
    "duration": 198,
    "start_time": "2022-09-20T21:17:38.318Z"
   },
   {
    "duration": 7,
    "start_time": "2022-09-20T21:17:38.517Z"
   },
   {
    "duration": 461,
    "start_time": "2022-09-20T21:17:38.526Z"
   },
   {
    "duration": 0,
    "start_time": "2022-09-20T21:17:38.988Z"
   },
   {
    "duration": 0,
    "start_time": "2022-09-20T21:17:38.989Z"
   },
   {
    "duration": 0,
    "start_time": "2022-09-20T21:17:38.991Z"
   },
   {
    "duration": 0,
    "start_time": "2022-09-20T21:17:38.992Z"
   },
   {
    "duration": 0,
    "start_time": "2022-09-20T21:17:38.993Z"
   },
   {
    "duration": 0,
    "start_time": "2022-09-20T21:17:39.000Z"
   },
   {
    "duration": 7,
    "start_time": "2022-09-20T21:18:43.220Z"
   },
   {
    "duration": 1102,
    "start_time": "2022-09-20T21:18:50.289Z"
   },
   {
    "duration": 53,
    "start_time": "2022-09-20T21:18:51.393Z"
   },
   {
    "duration": 14,
    "start_time": "2022-09-20T21:18:51.448Z"
   },
   {
    "duration": 7,
    "start_time": "2022-09-20T21:18:51.463Z"
   },
   {
    "duration": 11,
    "start_time": "2022-09-20T21:18:51.472Z"
   },
   {
    "duration": 25,
    "start_time": "2022-09-20T21:18:51.484Z"
   },
   {
    "duration": 15,
    "start_time": "2022-09-20T21:18:51.510Z"
   },
   {
    "duration": 3,
    "start_time": "2022-09-20T21:18:51.526Z"
   },
   {
    "duration": 47,
    "start_time": "2022-09-20T21:18:51.531Z"
   },
   {
    "duration": 27,
    "start_time": "2022-09-20T21:18:51.580Z"
   },
   {
    "duration": 24,
    "start_time": "2022-09-20T21:18:51.608Z"
   },
   {
    "duration": 18,
    "start_time": "2022-09-20T21:18:51.633Z"
   },
   {
    "duration": 19,
    "start_time": "2022-09-20T21:18:51.652Z"
   },
   {
    "duration": 37,
    "start_time": "2022-09-20T21:18:51.672Z"
   },
   {
    "duration": 18,
    "start_time": "2022-09-20T21:18:51.710Z"
   },
   {
    "duration": 26,
    "start_time": "2022-09-20T21:18:51.729Z"
   },
   {
    "duration": 13,
    "start_time": "2022-09-20T21:18:51.756Z"
   },
   {
    "duration": 24,
    "start_time": "2022-09-20T21:18:51.770Z"
   },
   {
    "duration": 9,
    "start_time": "2022-09-20T21:18:51.796Z"
   },
   {
    "duration": 21,
    "start_time": "2022-09-20T21:18:51.806Z"
   },
   {
    "duration": 303,
    "start_time": "2022-09-20T21:18:51.829Z"
   },
   {
    "duration": 5,
    "start_time": "2022-09-20T21:18:52.134Z"
   },
   {
    "duration": 24,
    "start_time": "2022-09-20T21:18:52.140Z"
   },
   {
    "duration": 20,
    "start_time": "2022-09-20T21:18:52.166Z"
   },
   {
    "duration": 7,
    "start_time": "2022-09-20T21:18:52.188Z"
   },
   {
    "duration": 22,
    "start_time": "2022-09-20T21:18:52.197Z"
   },
   {
    "duration": 31,
    "start_time": "2022-09-20T21:18:52.220Z"
   },
   {
    "duration": 8,
    "start_time": "2022-09-20T21:18:52.254Z"
   },
   {
    "duration": 138,
    "start_time": "2022-09-20T21:18:52.263Z"
   },
   {
    "duration": 179,
    "start_time": "2022-09-20T21:18:52.402Z"
   },
   {
    "duration": 6,
    "start_time": "2022-09-20T21:18:52.582Z"
   },
   {
    "duration": 302,
    "start_time": "2022-09-20T21:18:52.590Z"
   },
   {
    "duration": 13,
    "start_time": "2022-09-20T21:18:52.894Z"
   },
   {
    "duration": 13,
    "start_time": "2022-09-20T21:18:52.909Z"
   },
   {
    "duration": 4,
    "start_time": "2022-09-20T21:18:52.923Z"
   },
   {
    "duration": 269,
    "start_time": "2022-09-20T21:18:52.928Z"
   },
   {
    "duration": 7,
    "start_time": "2022-09-20T21:18:53.201Z"
   },
   {
    "duration": 10,
    "start_time": "2022-09-20T21:18:53.209Z"
   },
   {
    "duration": 181,
    "start_time": "2022-09-20T21:18:53.220Z"
   },
   {
    "duration": 8,
    "start_time": "2022-09-20T21:18:53.402Z"
   },
   {
    "duration": 226,
    "start_time": "2022-09-20T21:18:53.411Z"
   },
   {
    "duration": 150,
    "start_time": "2022-09-20T21:18:53.638Z"
   },
   {
    "duration": 4,
    "start_time": "2022-09-20T21:18:53.789Z"
   },
   {
    "duration": 9,
    "start_time": "2022-09-20T21:18:53.800Z"
   },
   {
    "duration": 1313,
    "start_time": "2022-09-20T21:18:53.811Z"
   },
   {
    "duration": 55,
    "start_time": "2022-09-20T21:18:55.125Z"
   },
   {
    "duration": 32,
    "start_time": "2022-09-20T21:18:55.182Z"
   },
   {
    "duration": 202,
    "start_time": "2022-09-20T21:18:55.215Z"
   },
   {
    "duration": 8,
    "start_time": "2022-09-20T21:18:55.418Z"
   },
   {
    "duration": 367,
    "start_time": "2022-09-20T21:18:55.428Z"
   },
   {
    "duration": 184,
    "start_time": "2022-09-20T21:18:55.799Z"
   },
   {
    "duration": 278,
    "start_time": "2022-09-20T21:18:55.984Z"
   },
   {
    "duration": 194,
    "start_time": "2022-09-20T21:18:56.264Z"
   },
   {
    "duration": 185,
    "start_time": "2022-09-20T21:18:56.460Z"
   },
   {
    "duration": 176,
    "start_time": "2022-09-20T21:18:56.647Z"
   },
   {
    "duration": 179,
    "start_time": "2022-09-20T21:18:56.824Z"
   },
   {
    "duration": 7,
    "start_time": "2022-09-20T21:20:09.046Z"
   },
   {
    "duration": 1101,
    "start_time": "2022-09-20T21:20:16.177Z"
   },
   {
    "duration": 53,
    "start_time": "2022-09-20T21:20:17.280Z"
   },
   {
    "duration": 13,
    "start_time": "2022-09-20T21:20:17.335Z"
   },
   {
    "duration": 24,
    "start_time": "2022-09-20T21:20:17.350Z"
   },
   {
    "duration": 24,
    "start_time": "2022-09-20T21:20:17.376Z"
   },
   {
    "duration": 40,
    "start_time": "2022-09-20T21:20:17.401Z"
   },
   {
    "duration": 30,
    "start_time": "2022-09-20T21:20:17.443Z"
   },
   {
    "duration": 10,
    "start_time": "2022-09-20T21:20:17.475Z"
   },
   {
    "duration": 77,
    "start_time": "2022-09-20T21:20:17.486Z"
   },
   {
    "duration": 8,
    "start_time": "2022-09-20T21:20:17.566Z"
   },
   {
    "duration": 34,
    "start_time": "2022-09-20T21:20:17.575Z"
   },
   {
    "duration": 34,
    "start_time": "2022-09-20T21:20:17.611Z"
   },
   {
    "duration": 19,
    "start_time": "2022-09-20T21:20:17.647Z"
   },
   {
    "duration": 42,
    "start_time": "2022-09-20T21:20:17.668Z"
   },
   {
    "duration": 8,
    "start_time": "2022-09-20T21:20:17.712Z"
   },
   {
    "duration": 49,
    "start_time": "2022-09-20T21:20:17.722Z"
   },
   {
    "duration": 28,
    "start_time": "2022-09-20T21:20:17.772Z"
   },
   {
    "duration": 24,
    "start_time": "2022-09-20T21:20:17.801Z"
   },
   {
    "duration": 13,
    "start_time": "2022-09-20T21:20:17.827Z"
   },
   {
    "duration": 33,
    "start_time": "2022-09-20T21:20:17.841Z"
   },
   {
    "duration": 311,
    "start_time": "2022-09-20T21:20:17.875Z"
   },
   {
    "duration": 3,
    "start_time": "2022-09-20T21:20:18.188Z"
   },
   {
    "duration": 14,
    "start_time": "2022-09-20T21:20:18.200Z"
   },
   {
    "duration": 34,
    "start_time": "2022-09-20T21:20:18.216Z"
   },
   {
    "duration": 21,
    "start_time": "2022-09-20T21:20:18.251Z"
   },
   {
    "duration": 11,
    "start_time": "2022-09-20T21:20:18.273Z"
   },
   {
    "duration": 18,
    "start_time": "2022-09-20T21:20:18.285Z"
   },
   {
    "duration": 6,
    "start_time": "2022-09-20T21:20:18.307Z"
   },
   {
    "duration": 163,
    "start_time": "2022-09-20T21:20:18.314Z"
   },
   {
    "duration": 208,
    "start_time": "2022-09-20T21:20:18.479Z"
   },
   {
    "duration": 13,
    "start_time": "2022-09-20T21:20:18.688Z"
   },
   {
    "duration": 292,
    "start_time": "2022-09-20T21:20:18.703Z"
   },
   {
    "duration": 12,
    "start_time": "2022-09-20T21:20:18.999Z"
   },
   {
    "duration": 6,
    "start_time": "2022-09-20T21:20:19.013Z"
   },
   {
    "duration": 7,
    "start_time": "2022-09-20T21:20:19.020Z"
   },
   {
    "duration": 284,
    "start_time": "2022-09-20T21:20:19.028Z"
   },
   {
    "duration": 7,
    "start_time": "2022-09-20T21:20:19.314Z"
   },
   {
    "duration": 7,
    "start_time": "2022-09-20T21:20:19.323Z"
   },
   {
    "duration": 196,
    "start_time": "2022-09-20T21:20:19.332Z"
   },
   {
    "duration": 8,
    "start_time": "2022-09-20T21:20:19.530Z"
   },
   {
    "duration": 210,
    "start_time": "2022-09-20T21:20:19.539Z"
   },
   {
    "duration": 150,
    "start_time": "2022-09-20T21:20:19.750Z"
   },
   {
    "duration": 5,
    "start_time": "2022-09-20T21:20:19.902Z"
   },
   {
    "duration": 8,
    "start_time": "2022-09-20T21:20:19.908Z"
   },
   {
    "duration": 1113,
    "start_time": "2022-09-20T21:20:19.917Z"
   },
   {
    "duration": 50,
    "start_time": "2022-09-20T21:20:21.032Z"
   },
   {
    "duration": 29,
    "start_time": "2022-09-20T21:20:21.083Z"
   },
   {
    "duration": 180,
    "start_time": "2022-09-20T21:20:21.113Z"
   },
   {
    "duration": 9,
    "start_time": "2022-09-20T21:20:21.294Z"
   },
   {
    "duration": 355,
    "start_time": "2022-09-20T21:20:21.304Z"
   },
   {
    "duration": 175,
    "start_time": "2022-09-20T21:20:21.660Z"
   },
   {
    "duration": 261,
    "start_time": "2022-09-20T21:20:21.837Z"
   },
   {
    "duration": 171,
    "start_time": "2022-09-20T21:20:22.100Z"
   },
   {
    "duration": 202,
    "start_time": "2022-09-20T21:20:22.272Z"
   },
   {
    "duration": 191,
    "start_time": "2022-09-20T21:20:22.476Z"
   },
   {
    "duration": 192,
    "start_time": "2022-09-20T21:20:22.668Z"
   },
   {
    "duration": 341,
    "start_time": "2022-09-20T21:22:03.617Z"
   },
   {
    "duration": 47,
    "start_time": "2022-09-21T08:57:00.160Z"
   },
   {
    "duration": 12,
    "start_time": "2022-09-21T09:48:46.295Z"
   },
   {
    "duration": 1414,
    "start_time": "2022-09-21T09:48:52.146Z"
   },
   {
    "duration": 191,
    "start_time": "2022-09-21T09:48:53.562Z"
   },
   {
    "duration": 17,
    "start_time": "2022-09-21T09:48:53.755Z"
   },
   {
    "duration": 3,
    "start_time": "2022-09-21T09:48:53.775Z"
   },
   {
    "duration": 9,
    "start_time": "2022-09-21T09:48:53.780Z"
   },
   {
    "duration": 25,
    "start_time": "2022-09-21T09:48:53.791Z"
   },
   {
    "duration": 21,
    "start_time": "2022-09-21T09:48:53.817Z"
   },
   {
    "duration": 4,
    "start_time": "2022-09-21T09:48:53.840Z"
   },
   {
    "duration": 75,
    "start_time": "2022-09-21T09:48:53.846Z"
   },
   {
    "duration": 9,
    "start_time": "2022-09-21T09:48:53.923Z"
   },
   {
    "duration": 24,
    "start_time": "2022-09-21T09:48:53.933Z"
   },
   {
    "duration": 39,
    "start_time": "2022-09-21T09:48:53.959Z"
   },
   {
    "duration": 22,
    "start_time": "2022-09-21T09:48:54.000Z"
   },
   {
    "duration": 23,
    "start_time": "2022-09-21T09:48:54.023Z"
   },
   {
    "duration": 7,
    "start_time": "2022-09-21T09:48:54.047Z"
   },
   {
    "duration": 47,
    "start_time": "2022-09-21T09:48:54.056Z"
   },
   {
    "duration": 7,
    "start_time": "2022-09-21T09:48:54.105Z"
   },
   {
    "duration": 19,
    "start_time": "2022-09-21T09:48:54.114Z"
   },
   {
    "duration": 5,
    "start_time": "2022-09-21T09:48:54.135Z"
   },
   {
    "duration": 18,
    "start_time": "2022-09-21T09:48:54.141Z"
   },
   {
    "duration": 385,
    "start_time": "2022-09-21T09:48:54.161Z"
   },
   {
    "duration": 5,
    "start_time": "2022-09-21T09:48:54.547Z"
   },
   {
    "duration": 19,
    "start_time": "2022-09-21T09:48:54.553Z"
   },
   {
    "duration": 22,
    "start_time": "2022-09-21T09:48:54.574Z"
   },
   {
    "duration": 5,
    "start_time": "2022-09-21T09:48:54.598Z"
   },
   {
    "duration": 7,
    "start_time": "2022-09-21T09:48:54.605Z"
   },
   {
    "duration": 18,
    "start_time": "2022-09-21T09:48:54.613Z"
   },
   {
    "duration": 7,
    "start_time": "2022-09-21T09:48:54.635Z"
   },
   {
    "duration": 192,
    "start_time": "2022-09-21T09:48:54.644Z"
   },
   {
    "duration": 209,
    "start_time": "2022-09-21T09:48:54.838Z"
   },
   {
    "duration": 8,
    "start_time": "2022-09-21T09:48:55.049Z"
   },
   {
    "duration": 355,
    "start_time": "2022-09-21T09:48:55.059Z"
   },
   {
    "duration": 14,
    "start_time": "2022-09-21T09:48:55.417Z"
   },
   {
    "duration": 11,
    "start_time": "2022-09-21T09:48:55.433Z"
   },
   {
    "duration": 8,
    "start_time": "2022-09-21T09:48:55.446Z"
   },
   {
    "duration": 332,
    "start_time": "2022-09-21T09:48:55.456Z"
   },
   {
    "duration": 8,
    "start_time": "2022-09-21T09:48:55.790Z"
   },
   {
    "duration": 9,
    "start_time": "2022-09-21T09:48:55.800Z"
   },
   {
    "duration": 223,
    "start_time": "2022-09-21T09:48:55.810Z"
   },
   {
    "duration": 8,
    "start_time": "2022-09-21T09:48:56.035Z"
   },
   {
    "duration": 245,
    "start_time": "2022-09-21T09:48:56.045Z"
   },
   {
    "duration": 179,
    "start_time": "2022-09-21T09:48:56.292Z"
   },
   {
    "duration": 19,
    "start_time": "2022-09-21T09:48:56.473Z"
   },
   {
    "duration": 23,
    "start_time": "2022-09-21T09:48:56.494Z"
   },
   {
    "duration": 1439,
    "start_time": "2022-09-21T09:48:56.522Z"
   },
   {
    "duration": 76,
    "start_time": "2022-09-21T09:48:57.963Z"
   },
   {
    "duration": 21,
    "start_time": "2022-09-21T09:48:58.040Z"
   },
   {
    "duration": 248,
    "start_time": "2022-09-21T09:48:58.063Z"
   },
   {
    "duration": 9,
    "start_time": "2022-09-21T09:48:58.313Z"
   },
   {
    "duration": 437,
    "start_time": "2022-09-21T09:48:58.324Z"
   },
   {
    "duration": 507,
    "start_time": "2022-09-21T09:48:58.764Z"
   },
   {
    "duration": 200,
    "start_time": "2022-09-21T09:54:34.633Z"
   },
   {
    "duration": 208,
    "start_time": "2022-09-21T09:54:56.097Z"
   },
   {
    "duration": 1222,
    "start_time": "2022-09-21T09:55:01.898Z"
   },
   {
    "duration": 53,
    "start_time": "2022-09-21T09:55:03.122Z"
   },
   {
    "duration": 16,
    "start_time": "2022-09-21T09:55:03.177Z"
   },
   {
    "duration": 5,
    "start_time": "2022-09-21T09:55:03.197Z"
   },
   {
    "duration": 13,
    "start_time": "2022-09-21T09:55:03.204Z"
   },
   {
    "duration": 26,
    "start_time": "2022-09-21T09:55:03.218Z"
   },
   {
    "duration": 19,
    "start_time": "2022-09-21T09:55:03.246Z"
   },
   {
    "duration": 4,
    "start_time": "2022-09-21T09:55:03.266Z"
   },
   {
    "duration": 56,
    "start_time": "2022-09-21T09:55:03.296Z"
   },
   {
    "duration": 11,
    "start_time": "2022-09-21T09:55:03.355Z"
   },
   {
    "duration": 42,
    "start_time": "2022-09-21T09:55:03.368Z"
   },
   {
    "duration": 25,
    "start_time": "2022-09-21T09:55:03.412Z"
   },
   {
    "duration": 59,
    "start_time": "2022-09-21T09:55:03.439Z"
   },
   {
    "duration": 34,
    "start_time": "2022-09-21T09:55:03.500Z"
   },
   {
    "duration": 9,
    "start_time": "2022-09-21T09:55:03.536Z"
   },
   {
    "duration": 26,
    "start_time": "2022-09-21T09:55:03.547Z"
   },
   {
    "duration": 25,
    "start_time": "2022-09-21T09:55:03.576Z"
   },
   {
    "duration": 20,
    "start_time": "2022-09-21T09:55:03.604Z"
   },
   {
    "duration": 4,
    "start_time": "2022-09-21T09:55:03.627Z"
   },
   {
    "duration": 21,
    "start_time": "2022-09-21T09:55:03.633Z"
   },
   {
    "duration": 375,
    "start_time": "2022-09-21T09:55:03.656Z"
   },
   {
    "duration": 4,
    "start_time": "2022-09-21T09:55:04.033Z"
   },
   {
    "duration": 19,
    "start_time": "2022-09-21T09:55:04.039Z"
   },
   {
    "duration": 11,
    "start_time": "2022-09-21T09:55:04.060Z"
   },
   {
    "duration": 9,
    "start_time": "2022-09-21T09:55:04.073Z"
   },
   {
    "duration": 8,
    "start_time": "2022-09-21T09:55:04.095Z"
   },
   {
    "duration": 20,
    "start_time": "2022-09-21T09:55:04.105Z"
   },
   {
    "duration": 6,
    "start_time": "2022-09-21T09:55:04.130Z"
   },
   {
    "duration": 178,
    "start_time": "2022-09-21T09:55:04.138Z"
   },
   {
    "duration": 230,
    "start_time": "2022-09-21T09:55:04.318Z"
   },
   {
    "duration": 7,
    "start_time": "2022-09-21T09:55:04.550Z"
   },
   {
    "duration": 364,
    "start_time": "2022-09-21T09:55:04.558Z"
   },
   {
    "duration": 13,
    "start_time": "2022-09-21T09:55:04.925Z"
   },
   {
    "duration": 8,
    "start_time": "2022-09-21T09:55:04.940Z"
   },
   {
    "duration": 5,
    "start_time": "2022-09-21T09:55:04.950Z"
   },
   {
    "duration": 346,
    "start_time": "2022-09-21T09:55:04.957Z"
   },
   {
    "duration": 8,
    "start_time": "2022-09-21T09:55:05.305Z"
   },
   {
    "duration": 16,
    "start_time": "2022-09-21T09:55:05.315Z"
   },
   {
    "duration": 217,
    "start_time": "2022-09-21T09:55:05.333Z"
   },
   {
    "duration": 9,
    "start_time": "2022-09-21T09:55:05.551Z"
   },
   {
    "duration": 252,
    "start_time": "2022-09-21T09:55:05.562Z"
   },
   {
    "duration": 169,
    "start_time": "2022-09-21T09:55:05.816Z"
   },
   {
    "duration": 11,
    "start_time": "2022-09-21T09:55:05.987Z"
   },
   {
    "duration": 10,
    "start_time": "2022-09-21T09:55:06.000Z"
   },
   {
    "duration": 1488,
    "start_time": "2022-09-21T09:55:06.013Z"
   },
   {
    "duration": 59,
    "start_time": "2022-09-21T09:55:07.503Z"
   },
   {
    "duration": 37,
    "start_time": "2022-09-21T09:55:07.564Z"
   },
   {
    "duration": 238,
    "start_time": "2022-09-21T09:55:07.603Z"
   },
   {
    "duration": 8,
    "start_time": "2022-09-21T09:55:07.843Z"
   },
   {
    "duration": 467,
    "start_time": "2022-09-21T09:55:07.852Z"
   },
   {
    "duration": 529,
    "start_time": "2022-09-21T09:55:08.321Z"
   },
   {
    "duration": 265,
    "start_time": "2022-09-21T09:56:21.600Z"
   },
   {
    "duration": 216,
    "start_time": "2022-09-21T09:56:30.693Z"
   },
   {
    "duration": 1316,
    "start_time": "2022-09-21T09:56:36.599Z"
   },
   {
    "duration": 53,
    "start_time": "2022-09-21T09:56:37.917Z"
   },
   {
    "duration": 17,
    "start_time": "2022-09-21T09:56:37.972Z"
   },
   {
    "duration": 3,
    "start_time": "2022-09-21T09:56:37.991Z"
   },
   {
    "duration": 11,
    "start_time": "2022-09-21T09:56:37.995Z"
   },
   {
    "duration": 48,
    "start_time": "2022-09-21T09:56:38.008Z"
   },
   {
    "duration": 40,
    "start_time": "2022-09-21T09:56:38.058Z"
   },
   {
    "duration": 5,
    "start_time": "2022-09-21T09:56:38.101Z"
   },
   {
    "duration": 68,
    "start_time": "2022-09-21T09:56:38.108Z"
   },
   {
    "duration": 21,
    "start_time": "2022-09-21T09:56:38.179Z"
   },
   {
    "duration": 22,
    "start_time": "2022-09-21T09:56:38.202Z"
   },
   {
    "duration": 21,
    "start_time": "2022-09-21T09:56:38.225Z"
   },
   {
    "duration": 51,
    "start_time": "2022-09-21T09:56:38.248Z"
   },
   {
    "duration": 22,
    "start_time": "2022-09-21T09:56:38.301Z"
   },
   {
    "duration": 8,
    "start_time": "2022-09-21T09:56:38.325Z"
   },
   {
    "duration": 21,
    "start_time": "2022-09-21T09:56:38.335Z"
   },
   {
    "duration": 46,
    "start_time": "2022-09-21T09:56:38.358Z"
   },
   {
    "duration": 30,
    "start_time": "2022-09-21T09:56:38.406Z"
   },
   {
    "duration": 4,
    "start_time": "2022-09-21T09:56:38.438Z"
   },
   {
    "duration": 20,
    "start_time": "2022-09-21T09:56:38.444Z"
   },
   {
    "duration": 355,
    "start_time": "2022-09-21T09:56:38.466Z"
   },
   {
    "duration": 4,
    "start_time": "2022-09-21T09:56:38.823Z"
   },
   {
    "duration": 28,
    "start_time": "2022-09-21T09:56:38.829Z"
   },
   {
    "duration": 16,
    "start_time": "2022-09-21T09:56:38.859Z"
   },
   {
    "duration": 17,
    "start_time": "2022-09-21T09:56:38.878Z"
   },
   {
    "duration": 5,
    "start_time": "2022-09-21T09:56:38.897Z"
   },
   {
    "duration": 23,
    "start_time": "2022-09-21T09:56:38.904Z"
   },
   {
    "duration": 6,
    "start_time": "2022-09-21T09:56:38.931Z"
   },
   {
    "duration": 183,
    "start_time": "2022-09-21T09:56:38.939Z"
   },
   {
    "duration": 241,
    "start_time": "2022-09-21T09:56:39.123Z"
   },
   {
    "duration": 11,
    "start_time": "2022-09-21T09:56:39.366Z"
   },
   {
    "duration": 347,
    "start_time": "2022-09-21T09:56:39.379Z"
   },
   {
    "duration": 11,
    "start_time": "2022-09-21T09:56:39.728Z"
   },
   {
    "duration": 32,
    "start_time": "2022-09-21T09:56:39.741Z"
   },
   {
    "duration": 38,
    "start_time": "2022-09-21T09:56:39.774Z"
   },
   {
    "duration": 324,
    "start_time": "2022-09-21T09:56:39.814Z"
   },
   {
    "duration": 8,
    "start_time": "2022-09-21T09:56:40.140Z"
   },
   {
    "duration": 30,
    "start_time": "2022-09-21T09:56:40.149Z"
   },
   {
    "duration": 191,
    "start_time": "2022-09-21T09:56:40.181Z"
   },
   {
    "duration": 8,
    "start_time": "2022-09-21T09:56:40.374Z"
   },
   {
    "duration": 235,
    "start_time": "2022-09-21T09:56:40.383Z"
   },
   {
    "duration": 177,
    "start_time": "2022-09-21T09:56:40.620Z"
   },
   {
    "duration": 6,
    "start_time": "2022-09-21T09:56:40.798Z"
   },
   {
    "duration": 19,
    "start_time": "2022-09-21T09:56:40.805Z"
   },
   {
    "duration": 1397,
    "start_time": "2022-09-21T09:56:40.826Z"
   },
   {
    "duration": 80,
    "start_time": "2022-09-21T09:56:42.225Z"
   },
   {
    "duration": 17,
    "start_time": "2022-09-21T09:56:42.306Z"
   },
   {
    "duration": 247,
    "start_time": "2022-09-21T09:56:42.325Z"
   },
   {
    "duration": 7,
    "start_time": "2022-09-21T09:56:42.574Z"
   },
   {
    "duration": 452,
    "start_time": "2022-09-21T09:56:42.583Z"
   },
   {
    "duration": 525,
    "start_time": "2022-09-21T09:56:43.038Z"
   },
   {
    "duration": 104,
    "start_time": "2022-09-21T09:58:03.898Z"
   },
   {
    "duration": 198,
    "start_time": "2022-09-21T09:58:13.235Z"
   },
   {
    "duration": 1170,
    "start_time": "2022-09-21T09:58:19.154Z"
   },
   {
    "duration": 58,
    "start_time": "2022-09-21T09:58:20.326Z"
   },
   {
    "duration": 18,
    "start_time": "2022-09-21T09:58:20.386Z"
   },
   {
    "duration": 9,
    "start_time": "2022-09-21T09:58:20.407Z"
   },
   {
    "duration": 13,
    "start_time": "2022-09-21T09:58:20.418Z"
   },
   {
    "duration": 54,
    "start_time": "2022-09-21T09:58:20.433Z"
   },
   {
    "duration": 23,
    "start_time": "2022-09-21T09:58:20.489Z"
   },
   {
    "duration": 7,
    "start_time": "2022-09-21T09:58:20.513Z"
   },
   {
    "duration": 65,
    "start_time": "2022-09-21T09:58:20.521Z"
   },
   {
    "duration": 11,
    "start_time": "2022-09-21T09:58:20.596Z"
   },
   {
    "duration": 30,
    "start_time": "2022-09-21T09:58:20.609Z"
   },
   {
    "duration": 32,
    "start_time": "2022-09-21T09:58:20.641Z"
   },
   {
    "duration": 37,
    "start_time": "2022-09-21T09:58:20.675Z"
   },
   {
    "duration": 24,
    "start_time": "2022-09-21T09:58:20.714Z"
   },
   {
    "duration": 23,
    "start_time": "2022-09-21T09:58:20.740Z"
   },
   {
    "duration": 27,
    "start_time": "2022-09-21T09:58:20.764Z"
   },
   {
    "duration": 26,
    "start_time": "2022-09-21T09:58:20.793Z"
   },
   {
    "duration": 44,
    "start_time": "2022-09-21T09:58:20.822Z"
   },
   {
    "duration": 19,
    "start_time": "2022-09-21T09:58:20.868Z"
   },
   {
    "duration": 37,
    "start_time": "2022-09-21T09:58:20.889Z"
   },
   {
    "duration": 393,
    "start_time": "2022-09-21T09:58:20.928Z"
   },
   {
    "duration": 7,
    "start_time": "2022-09-21T09:58:21.322Z"
   },
   {
    "duration": 21,
    "start_time": "2022-09-21T09:58:21.331Z"
   },
   {
    "duration": 9,
    "start_time": "2022-09-21T09:58:21.354Z"
   },
   {
    "duration": 9,
    "start_time": "2022-09-21T09:58:21.364Z"
   },
   {
    "duration": 28,
    "start_time": "2022-09-21T09:58:21.375Z"
   },
   {
    "duration": 25,
    "start_time": "2022-09-21T09:58:21.405Z"
   },
   {
    "duration": 8,
    "start_time": "2022-09-21T09:58:21.436Z"
   },
   {
    "duration": 178,
    "start_time": "2022-09-21T09:58:21.446Z"
   },
   {
    "duration": 229,
    "start_time": "2022-09-21T09:58:21.625Z"
   },
   {
    "duration": 8,
    "start_time": "2022-09-21T09:58:21.855Z"
   },
   {
    "duration": 371,
    "start_time": "2022-09-21T09:58:21.865Z"
   },
   {
    "duration": 12,
    "start_time": "2022-09-21T09:58:22.238Z"
   },
   {
    "duration": 7,
    "start_time": "2022-09-21T09:58:22.253Z"
   },
   {
    "duration": 7,
    "start_time": "2022-09-21T09:58:22.261Z"
   },
   {
    "duration": 346,
    "start_time": "2022-09-21T09:58:22.270Z"
   },
   {
    "duration": 8,
    "start_time": "2022-09-21T09:58:22.618Z"
   },
   {
    "duration": 12,
    "start_time": "2022-09-21T09:58:22.628Z"
   },
   {
    "duration": 243,
    "start_time": "2022-09-21T09:58:22.642Z"
   },
   {
    "duration": 13,
    "start_time": "2022-09-21T09:58:22.887Z"
   },
   {
    "duration": 247,
    "start_time": "2022-09-21T09:58:22.902Z"
   },
   {
    "duration": 172,
    "start_time": "2022-09-21T09:58:23.152Z"
   },
   {
    "duration": 6,
    "start_time": "2022-09-21T09:58:23.325Z"
   },
   {
    "duration": 14,
    "start_time": "2022-09-21T09:58:23.332Z"
   },
   {
    "duration": 1298,
    "start_time": "2022-09-21T09:58:23.348Z"
   },
   {
    "duration": 75,
    "start_time": "2022-09-21T09:58:24.648Z"
   },
   {
    "duration": 33,
    "start_time": "2022-09-21T09:58:24.724Z"
   },
   {
    "duration": 221,
    "start_time": "2022-09-21T09:58:24.759Z"
   },
   {
    "duration": 13,
    "start_time": "2022-09-21T09:58:24.982Z"
   },
   {
    "duration": 439,
    "start_time": "2022-09-21T09:58:24.997Z"
   },
   {
    "duration": 510,
    "start_time": "2022-09-21T09:58:25.438Z"
   },
   {
    "duration": 242,
    "start_time": "2022-09-21T09:59:22.070Z"
   },
   {
    "duration": 1124,
    "start_time": "2022-09-21T09:59:28.851Z"
   },
   {
    "duration": 52,
    "start_time": "2022-09-21T09:59:29.977Z"
   },
   {
    "duration": 15,
    "start_time": "2022-09-21T09:59:30.034Z"
   },
   {
    "duration": 5,
    "start_time": "2022-09-21T09:59:30.050Z"
   },
   {
    "duration": 22,
    "start_time": "2022-09-21T09:59:30.056Z"
   },
   {
    "duration": 29,
    "start_time": "2022-09-21T09:59:30.080Z"
   },
   {
    "duration": 23,
    "start_time": "2022-09-21T09:59:30.111Z"
   },
   {
    "duration": 18,
    "start_time": "2022-09-21T09:59:30.135Z"
   },
   {
    "duration": 61,
    "start_time": "2022-09-21T09:59:30.155Z"
   },
   {
    "duration": 8,
    "start_time": "2022-09-21T09:59:30.217Z"
   },
   {
    "duration": 34,
    "start_time": "2022-09-21T09:59:30.227Z"
   },
   {
    "duration": 34,
    "start_time": "2022-09-21T09:59:30.262Z"
   },
   {
    "duration": 19,
    "start_time": "2022-09-21T09:59:30.298Z"
   },
   {
    "duration": 20,
    "start_time": "2022-09-21T09:59:30.319Z"
   },
   {
    "duration": 14,
    "start_time": "2022-09-21T09:59:30.341Z"
   },
   {
    "duration": 40,
    "start_time": "2022-09-21T09:59:30.357Z"
   },
   {
    "duration": 6,
    "start_time": "2022-09-21T09:59:30.399Z"
   },
   {
    "duration": 28,
    "start_time": "2022-09-21T09:59:30.406Z"
   },
   {
    "duration": 10,
    "start_time": "2022-09-21T09:59:30.436Z"
   },
   {
    "duration": 37,
    "start_time": "2022-09-21T09:59:30.448Z"
   },
   {
    "duration": 329,
    "start_time": "2022-09-21T09:59:30.487Z"
   },
   {
    "duration": 4,
    "start_time": "2022-09-21T09:59:30.818Z"
   },
   {
    "duration": 42,
    "start_time": "2022-09-21T09:59:30.824Z"
   },
   {
    "duration": 25,
    "start_time": "2022-09-21T09:59:30.868Z"
   },
   {
    "duration": 16,
    "start_time": "2022-09-21T09:59:30.895Z"
   },
   {
    "duration": 15,
    "start_time": "2022-09-21T09:59:30.913Z"
   },
   {
    "duration": 25,
    "start_time": "2022-09-21T09:59:30.931Z"
   },
   {
    "duration": 5,
    "start_time": "2022-09-21T09:59:30.958Z"
   },
   {
    "duration": 165,
    "start_time": "2022-09-21T09:59:30.965Z"
   },
   {
    "duration": 215,
    "start_time": "2022-09-21T09:59:31.132Z"
   },
   {
    "duration": 7,
    "start_time": "2022-09-21T09:59:31.349Z"
   },
   {
    "duration": 349,
    "start_time": "2022-09-21T09:59:31.358Z"
   },
   {
    "duration": 12,
    "start_time": "2022-09-21T09:59:31.709Z"
   },
   {
    "duration": 21,
    "start_time": "2022-09-21T09:59:31.722Z"
   },
   {
    "duration": 9,
    "start_time": "2022-09-21T09:59:31.744Z"
   },
   {
    "duration": 324,
    "start_time": "2022-09-21T09:59:31.755Z"
   },
   {
    "duration": 14,
    "start_time": "2022-09-21T09:59:32.081Z"
   },
   {
    "duration": 8,
    "start_time": "2022-09-21T09:59:32.097Z"
   },
   {
    "duration": 220,
    "start_time": "2022-09-21T09:59:32.106Z"
   },
   {
    "duration": 7,
    "start_time": "2022-09-21T09:59:32.328Z"
   },
   {
    "duration": 253,
    "start_time": "2022-09-21T09:59:32.337Z"
   },
   {
    "duration": 187,
    "start_time": "2022-09-21T09:59:32.591Z"
   },
   {
    "duration": 17,
    "start_time": "2022-09-21T09:59:32.779Z"
   },
   {
    "duration": 9,
    "start_time": "2022-09-21T09:59:32.798Z"
   },
   {
    "duration": 1264,
    "start_time": "2022-09-21T09:59:32.809Z"
   },
   {
    "duration": 70,
    "start_time": "2022-09-21T09:59:34.075Z"
   },
   {
    "duration": 17,
    "start_time": "2022-09-21T09:59:34.146Z"
   },
   {
    "duration": 223,
    "start_time": "2022-09-21T09:59:34.165Z"
   },
   {
    "duration": 12,
    "start_time": "2022-09-21T09:59:34.389Z"
   },
   {
    "duration": 394,
    "start_time": "2022-09-21T09:59:34.403Z"
   },
   {
    "duration": 542,
    "start_time": "2022-09-21T09:59:34.799Z"
   },
   {
    "duration": 442,
    "start_time": "2022-09-21T10:02:06.587Z"
   },
   {
    "duration": 231,
    "start_time": "2022-09-21T10:02:16.764Z"
   },
   {
    "duration": 219,
    "start_time": "2022-09-21T10:02:25.693Z"
   },
   {
    "duration": 233,
    "start_time": "2022-09-21T10:02:31.549Z"
   },
   {
    "duration": 1241,
    "start_time": "2022-09-21T10:02:38.460Z"
   },
   {
    "duration": 53,
    "start_time": "2022-09-21T10:02:39.703Z"
   },
   {
    "duration": 16,
    "start_time": "2022-09-21T10:02:39.758Z"
   },
   {
    "duration": 7,
    "start_time": "2022-09-21T10:02:39.776Z"
   },
   {
    "duration": 10,
    "start_time": "2022-09-21T10:02:39.785Z"
   },
   {
    "duration": 30,
    "start_time": "2022-09-21T10:02:39.797Z"
   },
   {
    "duration": 20,
    "start_time": "2022-09-21T10:02:39.829Z"
   },
   {
    "duration": 5,
    "start_time": "2022-09-21T10:02:39.850Z"
   },
   {
    "duration": 88,
    "start_time": "2022-09-21T10:02:39.857Z"
   },
   {
    "duration": 13,
    "start_time": "2022-09-21T10:02:39.949Z"
   },
   {
    "duration": 48,
    "start_time": "2022-09-21T10:02:39.965Z"
   },
   {
    "duration": 23,
    "start_time": "2022-09-21T10:02:40.015Z"
   },
   {
    "duration": 37,
    "start_time": "2022-09-21T10:02:40.039Z"
   },
   {
    "duration": 25,
    "start_time": "2022-09-21T10:02:40.096Z"
   },
   {
    "duration": 9,
    "start_time": "2022-09-21T10:02:40.124Z"
   },
   {
    "duration": 17,
    "start_time": "2022-09-21T10:02:40.135Z"
   },
   {
    "duration": 15,
    "start_time": "2022-09-21T10:02:40.154Z"
   },
   {
    "duration": 38,
    "start_time": "2022-09-21T10:02:40.171Z"
   },
   {
    "duration": 6,
    "start_time": "2022-09-21T10:02:40.210Z"
   },
   {
    "duration": 17,
    "start_time": "2022-09-21T10:02:40.218Z"
   },
   {
    "duration": 360,
    "start_time": "2022-09-21T10:02:40.237Z"
   },
   {
    "duration": 6,
    "start_time": "2022-09-21T10:02:40.599Z"
   },
   {
    "duration": 33,
    "start_time": "2022-09-21T10:02:40.607Z"
   },
   {
    "duration": 11,
    "start_time": "2022-09-21T10:02:40.641Z"
   },
   {
    "duration": 7,
    "start_time": "2022-09-21T10:02:40.654Z"
   },
   {
    "duration": 9,
    "start_time": "2022-09-21T10:02:40.663Z"
   },
   {
    "duration": 36,
    "start_time": "2022-09-21T10:02:40.674Z"
   },
   {
    "duration": 9,
    "start_time": "2022-09-21T10:02:40.716Z"
   },
   {
    "duration": 181,
    "start_time": "2022-09-21T10:02:40.727Z"
   },
   {
    "duration": 224,
    "start_time": "2022-09-21T10:02:40.910Z"
   },
   {
    "duration": 8,
    "start_time": "2022-09-21T10:02:41.136Z"
   },
   {
    "duration": 349,
    "start_time": "2022-09-21T10:02:41.146Z"
   },
   {
    "duration": 17,
    "start_time": "2022-09-21T10:02:41.496Z"
   },
   {
    "duration": 11,
    "start_time": "2022-09-21T10:02:41.515Z"
   },
   {
    "duration": 8,
    "start_time": "2022-09-21T10:02:41.528Z"
   },
   {
    "duration": 403,
    "start_time": "2022-09-21T10:02:41.538Z"
   },
   {
    "duration": 11,
    "start_time": "2022-09-21T10:02:41.944Z"
   },
   {
    "duration": 13,
    "start_time": "2022-09-21T10:02:41.957Z"
   },
   {
    "duration": 228,
    "start_time": "2022-09-21T10:02:41.972Z"
   },
   {
    "duration": 10,
    "start_time": "2022-09-21T10:02:42.202Z"
   },
   {
    "duration": 265,
    "start_time": "2022-09-21T10:02:42.213Z"
   },
   {
    "duration": 177,
    "start_time": "2022-09-21T10:02:42.480Z"
   },
   {
    "duration": 5,
    "start_time": "2022-09-21T10:02:42.658Z"
   },
   {
    "duration": 11,
    "start_time": "2022-09-21T10:02:42.665Z"
   },
   {
    "duration": 1426,
    "start_time": "2022-09-21T10:02:42.694Z"
   },
   {
    "duration": 80,
    "start_time": "2022-09-21T10:02:44.122Z"
   },
   {
    "duration": 18,
    "start_time": "2022-09-21T10:02:44.204Z"
   },
   {
    "duration": 232,
    "start_time": "2022-09-21T10:02:44.223Z"
   },
   {
    "duration": 8,
    "start_time": "2022-09-21T10:02:44.456Z"
   },
   {
    "duration": 447,
    "start_time": "2022-09-21T10:02:44.466Z"
   },
   {
    "duration": 561,
    "start_time": "2022-09-21T10:02:44.915Z"
   },
   {
    "duration": 4,
    "start_time": "2022-09-21T10:07:07.495Z"
   },
   {
    "duration": 4,
    "start_time": "2022-09-21T10:07:21.084Z"
   },
   {
    "duration": 115,
    "start_time": "2022-09-21T10:07:37.942Z"
   },
   {
    "duration": 297,
    "start_time": "2022-09-21T10:07:53.601Z"
   },
   {
    "duration": 213,
    "start_time": "2022-09-21T10:08:10.593Z"
   },
   {
    "duration": 223,
    "start_time": "2022-09-21T10:08:20.810Z"
   },
   {
    "duration": 1235,
    "start_time": "2022-09-21T10:08:26.897Z"
   },
   {
    "duration": 55,
    "start_time": "2022-09-21T10:08:28.134Z"
   },
   {
    "duration": 17,
    "start_time": "2022-09-21T10:08:28.190Z"
   },
   {
    "duration": 3,
    "start_time": "2022-09-21T10:08:28.211Z"
   },
   {
    "duration": 10,
    "start_time": "2022-09-21T10:08:28.216Z"
   },
   {
    "duration": 42,
    "start_time": "2022-09-21T10:08:28.228Z"
   },
   {
    "duration": 43,
    "start_time": "2022-09-21T10:08:28.272Z"
   },
   {
    "duration": 5,
    "start_time": "2022-09-21T10:08:28.317Z"
   },
   {
    "duration": 80,
    "start_time": "2022-09-21T10:08:28.324Z"
   },
   {
    "duration": 9,
    "start_time": "2022-09-21T10:08:28.408Z"
   },
   {
    "duration": 22,
    "start_time": "2022-09-21T10:08:28.419Z"
   },
   {
    "duration": 22,
    "start_time": "2022-09-21T10:08:28.443Z"
   },
   {
    "duration": 49,
    "start_time": "2022-09-21T10:08:28.466Z"
   },
   {
    "duration": 23,
    "start_time": "2022-09-21T10:08:28.517Z"
   },
   {
    "duration": 12,
    "start_time": "2022-09-21T10:08:28.542Z"
   },
   {
    "duration": 41,
    "start_time": "2022-09-21T10:08:28.557Z"
   },
   {
    "duration": 9,
    "start_time": "2022-09-21T10:08:28.601Z"
   },
   {
    "duration": 26,
    "start_time": "2022-09-21T10:08:28.612Z"
   },
   {
    "duration": 5,
    "start_time": "2022-09-21T10:08:28.639Z"
   },
   {
    "duration": 25,
    "start_time": "2022-09-21T10:08:28.646Z"
   },
   {
    "duration": 382,
    "start_time": "2022-09-21T10:08:28.695Z"
   },
   {
    "duration": 5,
    "start_time": "2022-09-21T10:08:29.080Z"
   },
   {
    "duration": 24,
    "start_time": "2022-09-21T10:08:29.087Z"
   },
   {
    "duration": 12,
    "start_time": "2022-09-21T10:08:29.113Z"
   },
   {
    "duration": 10,
    "start_time": "2022-09-21T10:08:29.127Z"
   },
   {
    "duration": 11,
    "start_time": "2022-09-21T10:08:29.140Z"
   },
   {
    "duration": 45,
    "start_time": "2022-09-21T10:08:29.153Z"
   },
   {
    "duration": 8,
    "start_time": "2022-09-21T10:08:29.202Z"
   },
   {
    "duration": 187,
    "start_time": "2022-09-21T10:08:29.212Z"
   },
   {
    "duration": 225,
    "start_time": "2022-09-21T10:08:29.401Z"
   },
   {
    "duration": 7,
    "start_time": "2022-09-21T10:08:29.629Z"
   },
   {
    "duration": 383,
    "start_time": "2022-09-21T10:08:29.638Z"
   },
   {
    "duration": 14,
    "start_time": "2022-09-21T10:08:30.023Z"
   },
   {
    "duration": 30,
    "start_time": "2022-09-21T10:08:30.039Z"
   },
   {
    "duration": 14,
    "start_time": "2022-09-21T10:08:30.071Z"
   },
   {
    "duration": 379,
    "start_time": "2022-09-21T10:08:30.088Z"
   },
   {
    "duration": 8,
    "start_time": "2022-09-21T10:08:30.469Z"
   },
   {
    "duration": 24,
    "start_time": "2022-09-21T10:08:30.479Z"
   },
   {
    "duration": 211,
    "start_time": "2022-09-21T10:08:30.504Z"
   },
   {
    "duration": 11,
    "start_time": "2022-09-21T10:08:30.717Z"
   },
   {
    "duration": 254,
    "start_time": "2022-09-21T10:08:30.730Z"
   },
   {
    "duration": 202,
    "start_time": "2022-09-21T10:08:30.986Z"
   },
   {
    "duration": 6,
    "start_time": "2022-09-21T10:08:31.191Z"
   },
   {
    "duration": 11,
    "start_time": "2022-09-21T10:08:31.199Z"
   },
   {
    "duration": 1387,
    "start_time": "2022-09-21T10:08:31.212Z"
   },
   {
    "duration": 68,
    "start_time": "2022-09-21T10:08:32.600Z"
   },
   {
    "duration": 41,
    "start_time": "2022-09-21T10:08:32.669Z"
   },
   {
    "duration": 243,
    "start_time": "2022-09-21T10:08:32.712Z"
   },
   {
    "duration": 7,
    "start_time": "2022-09-21T10:08:32.957Z"
   },
   {
    "duration": 470,
    "start_time": "2022-09-21T10:08:32.966Z"
   },
   {
    "duration": 528,
    "start_time": "2022-09-21T10:08:33.437Z"
   },
   {
    "duration": 5,
    "start_time": "2022-09-21T10:09:51.036Z"
   },
   {
    "duration": 308,
    "start_time": "2022-09-21T10:10:03.028Z"
   },
   {
    "duration": 1236,
    "start_time": "2022-09-21T10:10:08.363Z"
   },
   {
    "duration": 53,
    "start_time": "2022-09-21T10:10:09.601Z"
   },
   {
    "duration": 16,
    "start_time": "2022-09-21T10:10:09.656Z"
   },
   {
    "duration": 4,
    "start_time": "2022-09-21T10:10:09.674Z"
   },
   {
    "duration": 9,
    "start_time": "2022-09-21T10:10:09.680Z"
   },
   {
    "duration": 24,
    "start_time": "2022-09-21T10:10:09.694Z"
   },
   {
    "duration": 24,
    "start_time": "2022-09-21T10:10:09.720Z"
   },
   {
    "duration": 5,
    "start_time": "2022-09-21T10:10:09.746Z"
   },
   {
    "duration": 83,
    "start_time": "2022-09-21T10:10:09.753Z"
   },
   {
    "duration": 9,
    "start_time": "2022-09-21T10:10:09.837Z"
   },
   {
    "duration": 25,
    "start_time": "2022-09-21T10:10:09.848Z"
   },
   {
    "duration": 51,
    "start_time": "2022-09-21T10:10:09.875Z"
   },
   {
    "duration": 24,
    "start_time": "2022-09-21T10:10:09.928Z"
   },
   {
    "duration": 48,
    "start_time": "2022-09-21T10:10:09.956Z"
   },
   {
    "duration": 8,
    "start_time": "2022-09-21T10:10:10.006Z"
   },
   {
    "duration": 20,
    "start_time": "2022-09-21T10:10:10.015Z"
   },
   {
    "duration": 10,
    "start_time": "2022-09-21T10:10:10.038Z"
   },
   {
    "duration": 20,
    "start_time": "2022-09-21T10:10:10.050Z"
   },
   {
    "duration": 26,
    "start_time": "2022-09-21T10:10:10.072Z"
   },
   {
    "duration": 17,
    "start_time": "2022-09-21T10:10:10.100Z"
   },
   {
    "duration": 366,
    "start_time": "2022-09-21T10:10:10.119Z"
   },
   {
    "duration": 9,
    "start_time": "2022-09-21T10:10:10.487Z"
   },
   {
    "duration": 22,
    "start_time": "2022-09-21T10:10:10.498Z"
   },
   {
    "duration": 8,
    "start_time": "2022-09-21T10:10:10.522Z"
   },
   {
    "duration": 6,
    "start_time": "2022-09-21T10:10:10.532Z"
   },
   {
    "duration": 6,
    "start_time": "2022-09-21T10:10:10.540Z"
   },
   {
    "duration": 57,
    "start_time": "2022-09-21T10:10:10.548Z"
   },
   {
    "duration": 8,
    "start_time": "2022-09-21T10:10:10.607Z"
   },
   {
    "duration": 172,
    "start_time": "2022-09-21T10:10:10.616Z"
   },
   {
    "duration": 220,
    "start_time": "2022-09-21T10:10:10.790Z"
   },
   {
    "duration": 7,
    "start_time": "2022-09-21T10:10:11.012Z"
   },
   {
    "duration": 355,
    "start_time": "2022-09-21T10:10:11.021Z"
   },
   {
    "duration": 20,
    "start_time": "2022-09-21T10:10:11.377Z"
   },
   {
    "duration": 7,
    "start_time": "2022-09-21T10:10:11.399Z"
   },
   {
    "duration": 4,
    "start_time": "2022-09-21T10:10:11.408Z"
   },
   {
    "duration": 367,
    "start_time": "2022-09-21T10:10:11.413Z"
   },
   {
    "duration": 13,
    "start_time": "2022-09-21T10:10:11.782Z"
   },
   {
    "duration": 10,
    "start_time": "2022-09-21T10:10:11.797Z"
   },
   {
    "duration": 222,
    "start_time": "2022-09-21T10:10:11.809Z"
   },
   {
    "duration": 9,
    "start_time": "2022-09-21T10:10:12.033Z"
   },
   {
    "duration": 351,
    "start_time": "2022-09-21T10:10:12.046Z"
   },
   {
    "duration": 0,
    "start_time": "2022-09-21T10:10:12.399Z"
   },
   {
    "duration": 0,
    "start_time": "2022-09-21T10:10:12.400Z"
   },
   {
    "duration": 0,
    "start_time": "2022-09-21T10:10:12.402Z"
   },
   {
    "duration": 0,
    "start_time": "2022-09-21T10:10:12.403Z"
   },
   {
    "duration": 0,
    "start_time": "2022-09-21T10:10:12.404Z"
   },
   {
    "duration": 0,
    "start_time": "2022-09-21T10:10:12.406Z"
   },
   {
    "duration": 0,
    "start_time": "2022-09-21T10:10:12.408Z"
   },
   {
    "duration": 1,
    "start_time": "2022-09-21T10:10:12.409Z"
   },
   {
    "duration": 0,
    "start_time": "2022-09-21T10:10:12.411Z"
   },
   {
    "duration": 0,
    "start_time": "2022-09-21T10:10:12.413Z"
   },
   {
    "duration": 187,
    "start_time": "2022-09-21T10:10:48.046Z"
   },
   {
    "duration": 168,
    "start_time": "2022-09-21T10:10:58.746Z"
   },
   {
    "duration": 164,
    "start_time": "2022-09-21T10:11:04.660Z"
   },
   {
    "duration": 184,
    "start_time": "2022-09-21T10:11:10.877Z"
   },
   {
    "duration": 12,
    "start_time": "2022-09-21T12:07:18.751Z"
   },
   {
    "duration": 1168,
    "start_time": "2022-09-21T12:07:52.935Z"
   },
   {
    "duration": 53,
    "start_time": "2022-09-21T12:07:54.105Z"
   },
   {
    "duration": 15,
    "start_time": "2022-09-21T12:07:54.160Z"
   },
   {
    "duration": 7,
    "start_time": "2022-09-21T12:07:54.178Z"
   },
   {
    "duration": 7,
    "start_time": "2022-09-21T12:07:54.187Z"
   },
   {
    "duration": 26,
    "start_time": "2022-09-21T12:07:54.196Z"
   },
   {
    "duration": 24,
    "start_time": "2022-09-21T12:07:54.224Z"
   },
   {
    "duration": 5,
    "start_time": "2022-09-21T12:07:54.250Z"
   },
   {
    "duration": 71,
    "start_time": "2022-09-21T12:07:54.256Z"
   },
   {
    "duration": 9,
    "start_time": "2022-09-21T12:07:54.329Z"
   },
   {
    "duration": 25,
    "start_time": "2022-09-21T12:07:54.341Z"
   },
   {
    "duration": 42,
    "start_time": "2022-09-21T12:07:54.368Z"
   },
   {
    "duration": 23,
    "start_time": "2022-09-21T12:07:54.412Z"
   },
   {
    "duration": 31,
    "start_time": "2022-09-21T12:07:54.440Z"
   },
   {
    "duration": 28,
    "start_time": "2022-09-21T12:07:54.472Z"
   },
   {
    "duration": 16,
    "start_time": "2022-09-21T12:07:54.502Z"
   },
   {
    "duration": 7,
    "start_time": "2022-09-21T12:07:54.520Z"
   },
   {
    "duration": 28,
    "start_time": "2022-09-21T12:07:54.529Z"
   },
   {
    "duration": 36,
    "start_time": "2022-09-21T12:07:54.560Z"
   },
   {
    "duration": 15,
    "start_time": "2022-09-21T12:07:54.597Z"
   },
   {
    "duration": 348,
    "start_time": "2022-09-21T12:07:54.614Z"
   },
   {
    "duration": 5,
    "start_time": "2022-09-21T12:07:54.963Z"
   },
   {
    "duration": 28,
    "start_time": "2022-09-21T12:07:54.970Z"
   },
   {
    "duration": 8,
    "start_time": "2022-09-21T12:07:55.000Z"
   },
   {
    "duration": 9,
    "start_time": "2022-09-21T12:07:55.010Z"
   },
   {
    "duration": 10,
    "start_time": "2022-09-21T12:07:55.020Z"
   },
   {
    "duration": 18,
    "start_time": "2022-09-21T12:07:55.032Z"
   },
   {
    "duration": 7,
    "start_time": "2022-09-21T12:07:55.051Z"
   },
   {
    "duration": 184,
    "start_time": "2022-09-21T12:07:55.059Z"
   },
   {
    "duration": 210,
    "start_time": "2022-09-21T12:07:55.245Z"
   },
   {
    "duration": 7,
    "start_time": "2022-09-21T12:07:55.457Z"
   },
   {
    "duration": 364,
    "start_time": "2022-09-21T12:07:55.466Z"
   },
   {
    "duration": 12,
    "start_time": "2022-09-21T12:07:55.831Z"
   },
   {
    "duration": 8,
    "start_time": "2022-09-21T12:07:55.845Z"
   },
   {
    "duration": 4,
    "start_time": "2022-09-21T12:07:55.855Z"
   },
   {
    "duration": 325,
    "start_time": "2022-09-21T12:07:55.861Z"
   },
   {
    "duration": 11,
    "start_time": "2022-09-21T12:07:56.194Z"
   },
   {
    "duration": 10,
    "start_time": "2022-09-21T12:07:56.208Z"
   },
   {
    "duration": 245,
    "start_time": "2022-09-21T12:07:56.221Z"
   },
   {
    "duration": 8,
    "start_time": "2022-09-21T12:07:56.468Z"
   },
   {
    "duration": 301,
    "start_time": "2022-09-21T12:07:56.494Z"
   },
   {
    "duration": 199,
    "start_time": "2022-09-21T12:07:56.797Z"
   },
   {
    "duration": 5,
    "start_time": "2022-09-21T12:07:56.998Z"
   },
   {
    "duration": 31,
    "start_time": "2022-09-21T12:07:57.005Z"
   },
   {
    "duration": 1416,
    "start_time": "2022-09-21T12:07:57.037Z"
   },
   {
    "duration": 72,
    "start_time": "2022-09-21T12:07:58.455Z"
   },
   {
    "duration": 17,
    "start_time": "2022-09-21T12:07:58.529Z"
   },
   {
    "duration": 239,
    "start_time": "2022-09-21T12:07:58.548Z"
   },
   {
    "duration": 11,
    "start_time": "2022-09-21T12:07:58.789Z"
   },
   {
    "duration": 431,
    "start_time": "2022-09-21T12:07:58.801Z"
   },
   {
    "duration": 509,
    "start_time": "2022-09-21T12:07:59.234Z"
   },
   {
    "duration": 425,
    "start_time": "2022-09-21T12:07:59.745Z"
   },
   {
    "duration": 442,
    "start_time": "2022-09-21T12:08:43.665Z"
   },
   {
    "duration": 484,
    "start_time": "2022-09-21T12:09:50.196Z"
   },
   {
    "duration": 418,
    "start_time": "2022-09-21T12:28:40.514Z"
   },
   {
    "duration": 383,
    "start_time": "2022-09-21T12:29:17.343Z"
   },
   {
    "duration": 109,
    "start_time": "2022-09-21T12:33:50.286Z"
   },
   {
    "duration": 104,
    "start_time": "2022-09-21T12:51:01.871Z"
   },
   {
    "duration": 12,
    "start_time": "2022-09-21T12:51:12.868Z"
   },
   {
    "duration": 11,
    "start_time": "2022-09-21T12:52:17.717Z"
   },
   {
    "duration": 11,
    "start_time": "2022-09-21T12:53:38.955Z"
   },
   {
    "duration": 5,
    "start_time": "2022-09-21T12:54:12.013Z"
   },
   {
    "duration": 10,
    "start_time": "2022-09-21T12:55:24.178Z"
   },
   {
    "duration": 1301,
    "start_time": "2022-09-21T12:55:32.268Z"
   },
   {
    "duration": 54,
    "start_time": "2022-09-21T12:55:33.572Z"
   },
   {
    "duration": 16,
    "start_time": "2022-09-21T12:55:33.628Z"
   },
   {
    "duration": 16,
    "start_time": "2022-09-21T12:55:33.646Z"
   },
   {
    "duration": 19,
    "start_time": "2022-09-21T12:55:33.664Z"
   },
   {
    "duration": 31,
    "start_time": "2022-09-21T12:55:33.685Z"
   },
   {
    "duration": 19,
    "start_time": "2022-09-21T12:55:33.718Z"
   },
   {
    "duration": 4,
    "start_time": "2022-09-21T12:55:33.739Z"
   },
   {
    "duration": 72,
    "start_time": "2022-09-21T12:55:33.745Z"
   },
   {
    "duration": 9,
    "start_time": "2022-09-21T12:55:33.820Z"
   },
   {
    "duration": 28,
    "start_time": "2022-09-21T12:55:33.830Z"
   },
   {
    "duration": 37,
    "start_time": "2022-09-21T12:55:33.859Z"
   },
   {
    "duration": 22,
    "start_time": "2022-09-21T12:55:33.897Z"
   },
   {
    "duration": 28,
    "start_time": "2022-09-21T12:55:33.920Z"
   },
   {
    "duration": 7,
    "start_time": "2022-09-21T12:55:33.949Z"
   },
   {
    "duration": 30,
    "start_time": "2022-09-21T12:55:33.958Z"
   },
   {
    "duration": 21,
    "start_time": "2022-09-21T12:55:33.996Z"
   },
   {
    "duration": 22,
    "start_time": "2022-09-21T12:55:34.018Z"
   },
   {
    "duration": 15,
    "start_time": "2022-09-21T12:55:34.041Z"
   },
   {
    "duration": 15,
    "start_time": "2022-09-21T12:55:34.058Z"
   },
   {
    "duration": 358,
    "start_time": "2022-09-21T12:55:34.075Z"
   },
   {
    "duration": 4,
    "start_time": "2022-09-21T12:55:34.435Z"
   },
   {
    "duration": 25,
    "start_time": "2022-09-21T12:55:34.441Z"
   },
   {
    "duration": 17,
    "start_time": "2022-09-21T12:55:34.468Z"
   },
   {
    "duration": 18,
    "start_time": "2022-09-21T12:55:34.487Z"
   },
   {
    "duration": 10,
    "start_time": "2022-09-21T12:55:34.507Z"
   },
   {
    "duration": 38,
    "start_time": "2022-09-21T12:55:34.519Z"
   },
   {
    "duration": 14,
    "start_time": "2022-09-21T12:55:34.561Z"
   },
   {
    "duration": 163,
    "start_time": "2022-09-21T12:55:34.576Z"
   },
   {
    "duration": 222,
    "start_time": "2022-09-21T12:55:34.741Z"
   },
   {
    "duration": 7,
    "start_time": "2022-09-21T12:55:34.964Z"
   },
   {
    "duration": 364,
    "start_time": "2022-09-21T12:55:34.973Z"
   },
   {
    "duration": 13,
    "start_time": "2022-09-21T12:55:35.338Z"
   },
   {
    "duration": 15,
    "start_time": "2022-09-21T12:55:35.352Z"
   },
   {
    "duration": 18,
    "start_time": "2022-09-21T12:55:35.369Z"
   },
   {
    "duration": 319,
    "start_time": "2022-09-21T12:55:35.388Z"
   },
   {
    "duration": 9,
    "start_time": "2022-09-21T12:55:35.709Z"
   },
   {
    "duration": 38,
    "start_time": "2022-09-21T12:55:35.719Z"
   },
   {
    "duration": 212,
    "start_time": "2022-09-21T12:55:35.758Z"
   },
   {
    "duration": 8,
    "start_time": "2022-09-21T12:55:35.972Z"
   },
   {
    "duration": 251,
    "start_time": "2022-09-21T12:55:35.981Z"
   },
   {
    "duration": 167,
    "start_time": "2022-09-21T12:55:36.234Z"
   },
   {
    "duration": 5,
    "start_time": "2022-09-21T12:55:36.403Z"
   },
   {
    "duration": 22,
    "start_time": "2022-09-21T12:55:36.409Z"
   },
   {
    "duration": 1401,
    "start_time": "2022-09-21T12:55:36.433Z"
   },
   {
    "duration": 73,
    "start_time": "2022-09-21T12:55:37.835Z"
   },
   {
    "duration": 18,
    "start_time": "2022-09-21T12:55:37.909Z"
   },
   {
    "duration": 238,
    "start_time": "2022-09-21T12:55:37.929Z"
   },
   {
    "duration": 7,
    "start_time": "2022-09-21T12:55:38.169Z"
   },
   {
    "duration": 438,
    "start_time": "2022-09-21T12:55:38.178Z"
   },
   {
    "duration": 557,
    "start_time": "2022-09-21T12:55:38.618Z"
   },
   {
    "duration": 450,
    "start_time": "2022-09-21T12:55:39.177Z"
   },
   {
    "duration": 458,
    "start_time": "2022-09-21T12:55:39.628Z"
   },
   {
    "duration": 443,
    "start_time": "2022-09-21T12:55:40.094Z"
   },
   {
    "duration": 442,
    "start_time": "2022-09-21T12:55:40.539Z"
   },
   {
    "duration": 100,
    "start_time": "2022-09-21T12:55:40.983Z"
   },
   {
    "duration": 0,
    "start_time": "2022-09-21T12:55:41.085Z"
   },
   {
    "duration": 1,
    "start_time": "2022-09-21T12:55:41.086Z"
   },
   {
    "duration": 0,
    "start_time": "2022-09-21T12:55:41.088Z"
   },
   {
    "duration": 104,
    "start_time": "2022-09-21T12:55:47.456Z"
   },
   {
    "duration": 1161,
    "start_time": "2022-09-21T12:56:12.344Z"
   },
   {
    "duration": 54,
    "start_time": "2022-09-21T12:56:13.507Z"
   },
   {
    "duration": 15,
    "start_time": "2022-09-21T12:56:13.563Z"
   },
   {
    "duration": 3,
    "start_time": "2022-09-21T12:56:13.579Z"
   },
   {
    "duration": 9,
    "start_time": "2022-09-21T12:56:13.584Z"
   },
   {
    "duration": 30,
    "start_time": "2022-09-21T12:56:13.594Z"
   },
   {
    "duration": 23,
    "start_time": "2022-09-21T12:56:13.626Z"
   },
   {
    "duration": 4,
    "start_time": "2022-09-21T12:56:13.651Z"
   },
   {
    "duration": 76,
    "start_time": "2022-09-21T12:56:13.657Z"
   },
   {
    "duration": 9,
    "start_time": "2022-09-21T12:56:13.734Z"
   },
   {
    "duration": 21,
    "start_time": "2022-09-21T12:56:13.744Z"
   },
   {
    "duration": 41,
    "start_time": "2022-09-21T12:56:13.767Z"
   },
   {
    "duration": 22,
    "start_time": "2022-09-21T12:56:13.810Z"
   },
   {
    "duration": 22,
    "start_time": "2022-09-21T12:56:13.835Z"
   },
   {
    "duration": 7,
    "start_time": "2022-09-21T12:56:13.858Z"
   },
   {
    "duration": 40,
    "start_time": "2022-09-21T12:56:13.866Z"
   },
   {
    "duration": 10,
    "start_time": "2022-09-21T12:56:13.907Z"
   },
   {
    "duration": 38,
    "start_time": "2022-09-21T12:56:13.919Z"
   },
   {
    "duration": 5,
    "start_time": "2022-09-21T12:56:13.959Z"
   },
   {
    "duration": 20,
    "start_time": "2022-09-21T12:56:13.966Z"
   },
   {
    "duration": 341,
    "start_time": "2022-09-21T12:56:13.988Z"
   },
   {
    "duration": 5,
    "start_time": "2022-09-21T12:56:14.331Z"
   },
   {
    "duration": 18,
    "start_time": "2022-09-21T12:56:14.338Z"
   },
   {
    "duration": 8,
    "start_time": "2022-09-21T12:56:14.358Z"
   },
   {
    "duration": 28,
    "start_time": "2022-09-21T12:56:14.369Z"
   },
   {
    "duration": 4,
    "start_time": "2022-09-21T12:56:14.399Z"
   },
   {
    "duration": 19,
    "start_time": "2022-09-21T12:56:14.405Z"
   },
   {
    "duration": 7,
    "start_time": "2022-09-21T12:56:14.425Z"
   },
   {
    "duration": 177,
    "start_time": "2022-09-21T12:56:14.433Z"
   },
   {
    "duration": 220,
    "start_time": "2022-09-21T12:56:14.611Z"
   },
   {
    "duration": 10,
    "start_time": "2022-09-21T12:56:14.834Z"
   },
   {
    "duration": 382,
    "start_time": "2022-09-21T12:56:14.845Z"
   },
   {
    "duration": 12,
    "start_time": "2022-09-21T12:56:15.229Z"
   },
   {
    "duration": 8,
    "start_time": "2022-09-21T12:56:15.243Z"
   },
   {
    "duration": 6,
    "start_time": "2022-09-21T12:56:15.253Z"
   },
   {
    "duration": 328,
    "start_time": "2022-09-21T12:56:15.260Z"
   },
   {
    "duration": 12,
    "start_time": "2022-09-21T12:56:15.590Z"
   },
   {
    "duration": 8,
    "start_time": "2022-09-21T12:56:15.604Z"
   },
   {
    "duration": 220,
    "start_time": "2022-09-21T12:56:15.614Z"
   },
   {
    "duration": 9,
    "start_time": "2022-09-21T12:56:15.836Z"
   },
   {
    "duration": 261,
    "start_time": "2022-09-21T12:56:15.848Z"
   },
   {
    "duration": 178,
    "start_time": "2022-09-21T12:56:16.111Z"
   },
   {
    "duration": 6,
    "start_time": "2022-09-21T12:56:16.295Z"
   },
   {
    "duration": 18,
    "start_time": "2022-09-21T12:56:16.303Z"
   },
   {
    "duration": 1488,
    "start_time": "2022-09-21T12:56:16.323Z"
   },
   {
    "duration": 63,
    "start_time": "2022-09-21T12:56:17.813Z"
   },
   {
    "duration": 18,
    "start_time": "2022-09-21T12:56:17.896Z"
   },
   {
    "duration": 248,
    "start_time": "2022-09-21T12:56:17.916Z"
   },
   {
    "duration": 9,
    "start_time": "2022-09-21T12:56:18.166Z"
   },
   {
    "duration": 453,
    "start_time": "2022-09-21T12:56:18.176Z"
   },
   {
    "duration": 530,
    "start_time": "2022-09-21T12:56:18.630Z"
   },
   {
    "duration": 443,
    "start_time": "2022-09-21T12:56:19.161Z"
   },
   {
    "duration": 453,
    "start_time": "2022-09-21T12:56:19.606Z"
   },
   {
    "duration": 478,
    "start_time": "2022-09-21T12:56:20.061Z"
   },
   {
    "duration": 447,
    "start_time": "2022-09-21T12:56:20.541Z"
   },
   {
    "duration": 82,
    "start_time": "2022-09-21T12:56:20.990Z"
   },
   {
    "duration": 0,
    "start_time": "2022-09-21T12:56:21.073Z"
   },
   {
    "duration": 0,
    "start_time": "2022-09-21T12:56:21.075Z"
   },
   {
    "duration": 0,
    "start_time": "2022-09-21T12:56:21.076Z"
   },
   {
    "duration": 1183,
    "start_time": "2022-09-21T12:56:37.465Z"
   },
   {
    "duration": 54,
    "start_time": "2022-09-21T12:56:38.651Z"
   },
   {
    "duration": 16,
    "start_time": "2022-09-21T12:56:38.706Z"
   },
   {
    "duration": 3,
    "start_time": "2022-09-21T12:56:38.724Z"
   },
   {
    "duration": 9,
    "start_time": "2022-09-21T12:56:38.728Z"
   },
   {
    "duration": 24,
    "start_time": "2022-09-21T12:56:38.738Z"
   },
   {
    "duration": 43,
    "start_time": "2022-09-21T12:56:38.764Z"
   },
   {
    "duration": 5,
    "start_time": "2022-09-21T12:56:38.808Z"
   },
   {
    "duration": 62,
    "start_time": "2022-09-21T12:56:38.814Z"
   },
   {
    "duration": 22,
    "start_time": "2022-09-21T12:56:38.880Z"
   },
   {
    "duration": 21,
    "start_time": "2022-09-21T12:56:38.904Z"
   },
   {
    "duration": 20,
    "start_time": "2022-09-21T12:56:38.927Z"
   },
   {
    "duration": 21,
    "start_time": "2022-09-21T12:56:38.948Z"
   },
   {
    "duration": 22,
    "start_time": "2022-09-21T12:56:38.996Z"
   },
   {
    "duration": 7,
    "start_time": "2022-09-21T12:56:39.019Z"
   },
   {
    "duration": 14,
    "start_time": "2022-09-21T12:56:39.027Z"
   },
   {
    "duration": 6,
    "start_time": "2022-09-21T12:56:39.043Z"
   },
   {
    "duration": 51,
    "start_time": "2022-09-21T12:56:39.050Z"
   },
   {
    "duration": 4,
    "start_time": "2022-09-21T12:56:39.103Z"
   },
   {
    "duration": 15,
    "start_time": "2022-09-21T12:56:39.109Z"
   },
   {
    "duration": 342,
    "start_time": "2022-09-21T12:56:39.126Z"
   },
   {
    "duration": 4,
    "start_time": "2022-09-21T12:56:39.470Z"
   },
   {
    "duration": 27,
    "start_time": "2022-09-21T12:56:39.475Z"
   },
   {
    "duration": 7,
    "start_time": "2022-09-21T12:56:39.504Z"
   },
   {
    "duration": 7,
    "start_time": "2022-09-21T12:56:39.513Z"
   },
   {
    "duration": 9,
    "start_time": "2022-09-21T12:56:39.521Z"
   },
   {
    "duration": 21,
    "start_time": "2022-09-21T12:56:39.531Z"
   },
   {
    "duration": 6,
    "start_time": "2022-09-21T12:56:39.556Z"
   },
   {
    "duration": 173,
    "start_time": "2022-09-21T12:56:39.563Z"
   },
   {
    "duration": 204,
    "start_time": "2022-09-21T12:56:39.738Z"
   },
   {
    "duration": 7,
    "start_time": "2022-09-21T12:56:39.943Z"
   },
   {
    "duration": 322,
    "start_time": "2022-09-21T12:56:39.952Z"
   },
   {
    "duration": 20,
    "start_time": "2022-09-21T12:56:40.275Z"
   },
   {
    "duration": 6,
    "start_time": "2022-09-21T12:56:40.297Z"
   },
   {
    "duration": 11,
    "start_time": "2022-09-21T12:56:40.305Z"
   },
   {
    "duration": 310,
    "start_time": "2022-09-21T12:56:40.317Z"
   },
   {
    "duration": 8,
    "start_time": "2022-09-21T12:56:40.628Z"
   },
   {
    "duration": 8,
    "start_time": "2022-09-21T12:56:40.638Z"
   },
   {
    "duration": 236,
    "start_time": "2022-09-21T12:56:40.647Z"
   },
   {
    "duration": 12,
    "start_time": "2022-09-21T12:56:40.885Z"
   },
   {
    "duration": 243,
    "start_time": "2022-09-21T12:56:40.898Z"
   },
   {
    "duration": 173,
    "start_time": "2022-09-21T12:56:41.143Z"
   },
   {
    "duration": 6,
    "start_time": "2022-09-21T12:56:41.317Z"
   },
   {
    "duration": 9,
    "start_time": "2022-09-21T12:56:41.325Z"
   },
   {
    "duration": 1362,
    "start_time": "2022-09-21T12:56:41.336Z"
   },
   {
    "duration": 57,
    "start_time": "2022-09-21T12:56:42.700Z"
   },
   {
    "duration": 42,
    "start_time": "2022-09-21T12:56:42.759Z"
   },
   {
    "duration": 234,
    "start_time": "2022-09-21T12:56:42.803Z"
   },
   {
    "duration": 8,
    "start_time": "2022-09-21T12:56:43.038Z"
   },
   {
    "duration": 412,
    "start_time": "2022-09-21T12:56:43.048Z"
   },
   {
    "duration": 524,
    "start_time": "2022-09-21T12:56:43.462Z"
   },
   {
    "duration": 409,
    "start_time": "2022-09-21T12:56:43.988Z"
   },
   {
    "duration": 427,
    "start_time": "2022-09-21T12:56:44.399Z"
   },
   {
    "duration": 453,
    "start_time": "2022-09-21T12:56:44.828Z"
   },
   {
    "duration": 420,
    "start_time": "2022-09-21T12:56:45.283Z"
   },
   {
    "duration": 80,
    "start_time": "2022-09-21T12:56:45.705Z"
   },
   {
    "duration": 0,
    "start_time": "2022-09-21T12:56:45.787Z"
   },
   {
    "duration": 0,
    "start_time": "2022-09-21T12:56:45.789Z"
   },
   {
    "duration": 0,
    "start_time": "2022-09-21T12:56:45.790Z"
   },
   {
    "duration": 128,
    "start_time": "2022-09-21T12:57:17.316Z"
   },
   {
    "duration": 9,
    "start_time": "2022-09-21T12:58:28.369Z"
   },
   {
    "duration": 1257,
    "start_time": "2022-09-21T12:58:40.675Z"
   },
   {
    "duration": 54,
    "start_time": "2022-09-21T12:58:41.934Z"
   },
   {
    "duration": 17,
    "start_time": "2022-09-21T12:58:41.989Z"
   },
   {
    "duration": 3,
    "start_time": "2022-09-21T12:58:42.008Z"
   },
   {
    "duration": 9,
    "start_time": "2022-09-21T12:58:42.014Z"
   },
   {
    "duration": 24,
    "start_time": "2022-09-21T12:58:42.025Z"
   },
   {
    "duration": 19,
    "start_time": "2022-09-21T12:58:42.050Z"
   },
   {
    "duration": 5,
    "start_time": "2022-09-21T12:58:42.095Z"
   },
   {
    "duration": 58,
    "start_time": "2022-09-21T12:58:42.101Z"
   },
   {
    "duration": 9,
    "start_time": "2022-09-21T12:58:42.160Z"
   },
   {
    "duration": 41,
    "start_time": "2022-09-21T12:58:42.171Z"
   },
   {
    "duration": 22,
    "start_time": "2022-09-21T12:58:42.214Z"
   },
   {
    "duration": 22,
    "start_time": "2022-09-21T12:58:42.238Z"
   },
   {
    "duration": 45,
    "start_time": "2022-09-21T12:58:42.263Z"
   },
   {
    "duration": 7,
    "start_time": "2022-09-21T12:58:42.310Z"
   },
   {
    "duration": 15,
    "start_time": "2022-09-21T12:58:42.319Z"
   },
   {
    "duration": 7,
    "start_time": "2022-09-21T12:58:42.335Z"
   },
   {
    "duration": 20,
    "start_time": "2022-09-21T12:58:42.344Z"
   },
   {
    "duration": 5,
    "start_time": "2022-09-21T12:58:42.394Z"
   },
   {
    "duration": 19,
    "start_time": "2022-09-21T12:58:42.401Z"
   },
   {
    "duration": 354,
    "start_time": "2022-09-21T12:58:42.422Z"
   },
   {
    "duration": 5,
    "start_time": "2022-09-21T12:58:42.778Z"
   },
   {
    "duration": 25,
    "start_time": "2022-09-21T12:58:42.785Z"
   },
   {
    "duration": 9,
    "start_time": "2022-09-21T12:58:42.812Z"
   },
   {
    "duration": 6,
    "start_time": "2022-09-21T12:58:42.823Z"
   },
   {
    "duration": 6,
    "start_time": "2022-09-21T12:58:42.832Z"
   },
   {
    "duration": 24,
    "start_time": "2022-09-21T12:58:42.840Z"
   },
   {
    "duration": 8,
    "start_time": "2022-09-21T12:58:42.896Z"
   },
   {
    "duration": 177,
    "start_time": "2022-09-21T12:58:42.906Z"
   },
   {
    "duration": 224,
    "start_time": "2022-09-21T12:58:43.085Z"
   },
   {
    "duration": 7,
    "start_time": "2022-09-21T12:58:43.311Z"
   },
   {
    "duration": 364,
    "start_time": "2022-09-21T12:58:43.320Z"
   },
   {
    "duration": 21,
    "start_time": "2022-09-21T12:58:43.686Z"
   },
   {
    "duration": 7,
    "start_time": "2022-09-21T12:58:43.709Z"
   },
   {
    "duration": 5,
    "start_time": "2022-09-21T12:58:43.717Z"
   },
   {
    "duration": 330,
    "start_time": "2022-09-21T12:58:43.723Z"
   },
   {
    "duration": 8,
    "start_time": "2022-09-21T12:58:44.055Z"
   },
   {
    "duration": 16,
    "start_time": "2022-09-21T12:58:44.064Z"
   },
   {
    "duration": 207,
    "start_time": "2022-09-21T12:58:44.081Z"
   },
   {
    "duration": 11,
    "start_time": "2022-09-21T12:58:44.289Z"
   },
   {
    "duration": 243,
    "start_time": "2022-09-21T12:58:44.304Z"
   },
   {
    "duration": 193,
    "start_time": "2022-09-21T12:58:44.549Z"
   },
   {
    "duration": 5,
    "start_time": "2022-09-21T12:58:44.744Z"
   },
   {
    "duration": 9,
    "start_time": "2022-09-21T12:58:44.751Z"
   },
   {
    "duration": 1418,
    "start_time": "2022-09-21T12:58:44.761Z"
   },
   {
    "duration": 69,
    "start_time": "2022-09-21T12:58:46.181Z"
   },
   {
    "duration": 18,
    "start_time": "2022-09-21T12:58:46.251Z"
   },
   {
    "duration": 236,
    "start_time": "2022-09-21T12:58:46.271Z"
   },
   {
    "duration": 8,
    "start_time": "2022-09-21T12:58:46.509Z"
   },
   {
    "duration": 513,
    "start_time": "2022-09-21T12:58:46.519Z"
   },
   {
    "duration": 515,
    "start_time": "2022-09-21T12:58:47.034Z"
   },
   {
    "duration": 421,
    "start_time": "2022-09-21T12:58:47.551Z"
   },
   {
    "duration": 440,
    "start_time": "2022-09-21T12:58:47.974Z"
   },
   {
    "duration": 429,
    "start_time": "2022-09-21T12:58:48.416Z"
   },
   {
    "duration": 426,
    "start_time": "2022-09-21T12:58:48.847Z"
   },
   {
    "duration": 225,
    "start_time": "2022-09-21T12:58:49.275Z"
   },
   {
    "duration": 0,
    "start_time": "2022-09-21T12:58:49.501Z"
   },
   {
    "duration": 0,
    "start_time": "2022-09-21T12:58:49.503Z"
   },
   {
    "duration": 0,
    "start_time": "2022-09-21T12:58:49.504Z"
   },
   {
    "duration": 1220,
    "start_time": "2022-09-21T12:59:14.268Z"
   },
   {
    "duration": 58,
    "start_time": "2022-09-21T12:59:15.490Z"
   },
   {
    "duration": 14,
    "start_time": "2022-09-21T12:59:15.550Z"
   },
   {
    "duration": 3,
    "start_time": "2022-09-21T12:59:15.565Z"
   },
   {
    "duration": 9,
    "start_time": "2022-09-21T12:59:15.569Z"
   },
   {
    "duration": 25,
    "start_time": "2022-09-21T12:59:15.580Z"
   },
   {
    "duration": 18,
    "start_time": "2022-09-21T12:59:15.607Z"
   },
   {
    "duration": 4,
    "start_time": "2022-09-21T12:59:15.627Z"
   },
   {
    "duration": 69,
    "start_time": "2022-09-21T12:59:15.632Z"
   },
   {
    "duration": 15,
    "start_time": "2022-09-21T12:59:15.703Z"
   },
   {
    "duration": 36,
    "start_time": "2022-09-21T12:59:15.721Z"
   },
   {
    "duration": 25,
    "start_time": "2022-09-21T12:59:15.759Z"
   },
   {
    "duration": 27,
    "start_time": "2022-09-21T12:59:15.785Z"
   },
   {
    "duration": 21,
    "start_time": "2022-09-21T12:59:15.816Z"
   },
   {
    "duration": 7,
    "start_time": "2022-09-21T12:59:15.838Z"
   },
   {
    "duration": 14,
    "start_time": "2022-09-21T12:59:15.846Z"
   },
   {
    "duration": 34,
    "start_time": "2022-09-21T12:59:15.861Z"
   },
   {
    "duration": 17,
    "start_time": "2022-09-21T12:59:15.897Z"
   },
   {
    "duration": 4,
    "start_time": "2022-09-21T12:59:15.916Z"
   },
   {
    "duration": 18,
    "start_time": "2022-09-21T12:59:15.921Z"
   },
   {
    "duration": 375,
    "start_time": "2022-09-21T12:59:15.940Z"
   },
   {
    "duration": 4,
    "start_time": "2022-09-21T12:59:16.317Z"
   },
   {
    "duration": 23,
    "start_time": "2022-09-21T12:59:16.323Z"
   },
   {
    "duration": 10,
    "start_time": "2022-09-21T12:59:16.348Z"
   },
   {
    "duration": 6,
    "start_time": "2022-09-21T12:59:16.360Z"
   },
   {
    "duration": 6,
    "start_time": "2022-09-21T12:59:16.367Z"
   },
   {
    "duration": 36,
    "start_time": "2022-09-21T12:59:16.375Z"
   },
   {
    "duration": 7,
    "start_time": "2022-09-21T12:59:16.413Z"
   },
   {
    "duration": 213,
    "start_time": "2022-09-21T12:59:16.422Z"
   },
   {
    "duration": 260,
    "start_time": "2022-09-21T12:59:16.637Z"
   },
   {
    "duration": 7,
    "start_time": "2022-09-21T12:59:16.900Z"
   },
   {
    "duration": 368,
    "start_time": "2022-09-21T12:59:16.909Z"
   },
   {
    "duration": 20,
    "start_time": "2022-09-21T12:59:17.279Z"
   },
   {
    "duration": 7,
    "start_time": "2022-09-21T12:59:17.301Z"
   },
   {
    "duration": 11,
    "start_time": "2022-09-21T12:59:17.310Z"
   },
   {
    "duration": 339,
    "start_time": "2022-09-21T12:59:17.322Z"
   },
   {
    "duration": 8,
    "start_time": "2022-09-21T12:59:17.663Z"
   },
   {
    "duration": 24,
    "start_time": "2022-09-21T12:59:17.673Z"
   },
   {
    "duration": 228,
    "start_time": "2022-09-21T12:59:17.698Z"
   },
   {
    "duration": 8,
    "start_time": "2022-09-21T12:59:17.928Z"
   },
   {
    "duration": 267,
    "start_time": "2022-09-21T12:59:17.940Z"
   },
   {
    "duration": 175,
    "start_time": "2022-09-21T12:59:18.209Z"
   },
   {
    "duration": 9,
    "start_time": "2022-09-21T12:59:18.386Z"
   },
   {
    "duration": 8,
    "start_time": "2022-09-21T12:59:18.397Z"
   },
   {
    "duration": 1380,
    "start_time": "2022-09-21T12:59:18.407Z"
   },
   {
    "duration": 59,
    "start_time": "2022-09-21T12:59:19.796Z"
   },
   {
    "duration": 39,
    "start_time": "2022-09-21T12:59:19.857Z"
   },
   {
    "duration": 220,
    "start_time": "2022-09-21T12:59:19.898Z"
   },
   {
    "duration": 8,
    "start_time": "2022-09-21T12:59:20.120Z"
   },
   {
    "duration": 420,
    "start_time": "2022-09-21T12:59:20.130Z"
   },
   {
    "duration": 517,
    "start_time": "2022-09-21T12:59:20.552Z"
   },
   {
    "duration": 414,
    "start_time": "2022-09-21T12:59:21.071Z"
   },
   {
    "duration": 421,
    "start_time": "2022-09-21T12:59:21.487Z"
   },
   {
    "duration": 431,
    "start_time": "2022-09-21T12:59:21.910Z"
   },
   {
    "duration": 414,
    "start_time": "2022-09-21T12:59:22.343Z"
   },
   {
    "duration": 77,
    "start_time": "2022-09-21T12:59:22.758Z"
   },
   {
    "duration": 0,
    "start_time": "2022-09-21T12:59:22.837Z"
   },
   {
    "duration": 0,
    "start_time": "2022-09-21T12:59:22.839Z"
   },
   {
    "duration": 0,
    "start_time": "2022-09-21T12:59:22.841Z"
   },
   {
    "duration": 1203,
    "start_time": "2022-09-21T12:59:57.869Z"
   },
   {
    "duration": 54,
    "start_time": "2022-09-21T12:59:59.074Z"
   },
   {
    "duration": 16,
    "start_time": "2022-09-21T12:59:59.130Z"
   },
   {
    "duration": 3,
    "start_time": "2022-09-21T12:59:59.147Z"
   },
   {
    "duration": 8,
    "start_time": "2022-09-21T12:59:59.152Z"
   },
   {
    "duration": 38,
    "start_time": "2022-09-21T12:59:59.162Z"
   },
   {
    "duration": 19,
    "start_time": "2022-09-21T12:59:59.202Z"
   },
   {
    "duration": 4,
    "start_time": "2022-09-21T12:59:59.222Z"
   },
   {
    "duration": 71,
    "start_time": "2022-09-21T12:59:59.228Z"
   },
   {
    "duration": 9,
    "start_time": "2022-09-21T12:59:59.300Z"
   },
   {
    "duration": 28,
    "start_time": "2022-09-21T12:59:59.311Z"
   },
   {
    "duration": 22,
    "start_time": "2022-09-21T12:59:59.341Z"
   },
   {
    "duration": 36,
    "start_time": "2022-09-21T12:59:59.364Z"
   },
   {
    "duration": 20,
    "start_time": "2022-09-21T12:59:59.403Z"
   },
   {
    "duration": 7,
    "start_time": "2022-09-21T12:59:59.425Z"
   },
   {
    "duration": 20,
    "start_time": "2022-09-21T12:59:59.433Z"
   },
   {
    "duration": 13,
    "start_time": "2022-09-21T12:59:59.454Z"
   },
   {
    "duration": 31,
    "start_time": "2022-09-21T12:59:59.468Z"
   },
   {
    "duration": 5,
    "start_time": "2022-09-21T12:59:59.500Z"
   },
   {
    "duration": 22,
    "start_time": "2022-09-21T12:59:59.506Z"
   },
   {
    "duration": 352,
    "start_time": "2022-09-21T12:59:59.530Z"
   },
   {
    "duration": 5,
    "start_time": "2022-09-21T12:59:59.883Z"
   },
   {
    "duration": 20,
    "start_time": "2022-09-21T12:59:59.889Z"
   },
   {
    "duration": 10,
    "start_time": "2022-09-21T12:59:59.911Z"
   },
   {
    "duration": 5,
    "start_time": "2022-09-21T12:59:59.922Z"
   },
   {
    "duration": 5,
    "start_time": "2022-09-21T12:59:59.928Z"
   },
   {
    "duration": 19,
    "start_time": "2022-09-21T12:59:59.935Z"
   },
   {
    "duration": 7,
    "start_time": "2022-09-21T12:59:59.956Z"
   },
   {
    "duration": 170,
    "start_time": "2022-09-21T12:59:59.995Z"
   },
   {
    "duration": 228,
    "start_time": "2022-09-21T13:00:00.166Z"
   },
   {
    "duration": 7,
    "start_time": "2022-09-21T13:00:00.396Z"
   },
   {
    "duration": 359,
    "start_time": "2022-09-21T13:00:00.404Z"
   },
   {
    "duration": 13,
    "start_time": "2022-09-21T13:00:00.765Z"
   },
   {
    "duration": 20,
    "start_time": "2022-09-21T13:00:00.779Z"
   },
   {
    "duration": 9,
    "start_time": "2022-09-21T13:00:00.801Z"
   },
   {
    "duration": 344,
    "start_time": "2022-09-21T13:00:00.811Z"
   },
   {
    "duration": 9,
    "start_time": "2022-09-21T13:00:01.157Z"
   },
   {
    "duration": 26,
    "start_time": "2022-09-21T13:00:01.168Z"
   },
   {
    "duration": 213,
    "start_time": "2022-09-21T13:00:01.196Z"
   },
   {
    "duration": 9,
    "start_time": "2022-09-21T13:00:01.410Z"
   },
   {
    "duration": 315,
    "start_time": "2022-09-21T13:00:01.423Z"
   },
   {
    "duration": 175,
    "start_time": "2022-09-21T13:00:01.739Z"
   },
   {
    "duration": 5,
    "start_time": "2022-09-21T13:00:01.915Z"
   },
   {
    "duration": 39,
    "start_time": "2022-09-21T13:00:01.922Z"
   },
   {
    "duration": 1424,
    "start_time": "2022-09-21T13:00:01.963Z"
   },
   {
    "duration": 66,
    "start_time": "2022-09-21T13:00:03.396Z"
   },
   {
    "duration": 39,
    "start_time": "2022-09-21T13:00:03.464Z"
   },
   {
    "duration": 231,
    "start_time": "2022-09-21T13:00:03.504Z"
   },
   {
    "duration": 8,
    "start_time": "2022-09-21T13:00:03.737Z"
   },
   {
    "duration": 451,
    "start_time": "2022-09-21T13:00:03.747Z"
   },
   {
    "duration": 529,
    "start_time": "2022-09-21T13:00:04.200Z"
   },
   {
    "duration": 436,
    "start_time": "2022-09-21T13:00:04.731Z"
   },
   {
    "duration": 439,
    "start_time": "2022-09-21T13:00:05.169Z"
   },
   {
    "duration": 437,
    "start_time": "2022-09-21T13:00:05.609Z"
   },
   {
    "duration": 449,
    "start_time": "2022-09-21T13:00:06.048Z"
   },
   {
    "duration": 13,
    "start_time": "2022-09-21T13:00:06.498Z"
   },
   {
    "duration": 13,
    "start_time": "2022-09-21T13:00:06.512Z"
   },
   {
    "duration": 14,
    "start_time": "2022-09-21T13:00:06.530Z"
   },
   {
    "duration": 11,
    "start_time": "2022-09-21T13:05:47.157Z"
   },
   {
    "duration": 4,
    "start_time": "2022-09-21T13:06:15.466Z"
   },
   {
    "duration": 7,
    "start_time": "2022-09-21T13:07:12.465Z"
   },
   {
    "duration": 6,
    "start_time": "2022-09-21T13:07:31.980Z"
   },
   {
    "duration": 82,
    "start_time": "2022-09-21T13:30:09.914Z"
   },
   {
    "duration": 22,
    "start_time": "2022-09-21T13:43:18.359Z"
   },
   {
    "duration": 364,
    "start_time": "2022-09-21T14:01:16.212Z"
   },
   {
    "duration": 529,
    "start_time": "2022-09-21T14:13:41.543Z"
   },
   {
    "duration": 1267,
    "start_time": "2022-09-21T14:53:06.979Z"
   },
   {
    "duration": 65,
    "start_time": "2022-09-21T14:53:08.249Z"
   },
   {
    "duration": 16,
    "start_time": "2022-09-21T14:53:08.316Z"
   },
   {
    "duration": 4,
    "start_time": "2022-09-21T14:53:08.334Z"
   },
   {
    "duration": 13,
    "start_time": "2022-09-21T14:53:08.339Z"
   },
   {
    "duration": 55,
    "start_time": "2022-09-21T14:53:08.353Z"
   },
   {
    "duration": 20,
    "start_time": "2022-09-21T14:53:08.411Z"
   },
   {
    "duration": 4,
    "start_time": "2022-09-21T14:53:08.433Z"
   },
   {
    "duration": 71,
    "start_time": "2022-09-21T14:53:08.438Z"
   },
   {
    "duration": 9,
    "start_time": "2022-09-21T14:53:08.513Z"
   },
   {
    "duration": 27,
    "start_time": "2022-09-21T14:53:08.524Z"
   },
   {
    "duration": 24,
    "start_time": "2022-09-21T14:53:08.553Z"
   },
   {
    "duration": 46,
    "start_time": "2022-09-21T14:53:08.578Z"
   },
   {
    "duration": 30,
    "start_time": "2022-09-21T14:53:08.626Z"
   },
   {
    "duration": 7,
    "start_time": "2022-09-21T14:53:08.657Z"
   },
   {
    "duration": 33,
    "start_time": "2022-09-21T14:53:08.666Z"
   },
   {
    "duration": 11,
    "start_time": "2022-09-21T14:53:08.700Z"
   },
   {
    "duration": 31,
    "start_time": "2022-09-21T14:53:08.713Z"
   },
   {
    "duration": 5,
    "start_time": "2022-09-21T14:53:08.745Z"
   },
   {
    "duration": 18,
    "start_time": "2022-09-21T14:53:08.751Z"
   },
   {
    "duration": 392,
    "start_time": "2022-09-21T14:53:08.771Z"
   },
   {
    "duration": 4,
    "start_time": "2022-09-21T14:53:09.165Z"
   },
   {
    "duration": 29,
    "start_time": "2022-09-21T14:53:09.171Z"
   },
   {
    "duration": 9,
    "start_time": "2022-09-21T14:53:09.208Z"
   },
   {
    "duration": 12,
    "start_time": "2022-09-21T14:53:09.218Z"
   },
   {
    "duration": 7,
    "start_time": "2022-09-21T14:53:09.232Z"
   },
   {
    "duration": 42,
    "start_time": "2022-09-21T14:53:09.241Z"
   },
   {
    "duration": 13,
    "start_time": "2022-09-21T14:53:09.286Z"
   },
   {
    "duration": 165,
    "start_time": "2022-09-21T14:53:09.301Z"
   },
   {
    "duration": 239,
    "start_time": "2022-09-21T14:53:09.468Z"
   },
   {
    "duration": 7,
    "start_time": "2022-09-21T14:53:09.709Z"
   },
   {
    "duration": 366,
    "start_time": "2022-09-21T14:53:09.718Z"
   },
   {
    "duration": 29,
    "start_time": "2022-09-21T14:53:10.086Z"
   },
   {
    "duration": 8,
    "start_time": "2022-09-21T14:53:10.117Z"
   },
   {
    "duration": 6,
    "start_time": "2022-09-21T14:53:10.127Z"
   },
   {
    "duration": 340,
    "start_time": "2022-09-21T14:53:10.135Z"
   },
   {
    "duration": 31,
    "start_time": "2022-09-21T14:53:10.477Z"
   },
   {
    "duration": 9,
    "start_time": "2022-09-21T14:53:10.510Z"
   },
   {
    "duration": 211,
    "start_time": "2022-09-21T14:53:10.520Z"
   },
   {
    "duration": 9,
    "start_time": "2022-09-21T14:53:10.732Z"
   },
   {
    "duration": 270,
    "start_time": "2022-09-21T14:53:10.742Z"
   },
   {
    "duration": 180,
    "start_time": "2022-09-21T14:53:11.013Z"
   },
   {
    "duration": 10,
    "start_time": "2022-09-21T14:53:11.196Z"
   },
   {
    "duration": 10,
    "start_time": "2022-09-21T14:53:11.207Z"
   },
   {
    "duration": 1412,
    "start_time": "2022-09-21T14:53:11.218Z"
   },
   {
    "duration": 82,
    "start_time": "2022-09-21T14:53:12.631Z"
   },
   {
    "duration": 18,
    "start_time": "2022-09-21T14:53:12.715Z"
   },
   {
    "duration": 250,
    "start_time": "2022-09-21T14:53:12.735Z"
   },
   {
    "duration": 20,
    "start_time": "2022-09-21T14:53:12.987Z"
   },
   {
    "duration": 438,
    "start_time": "2022-09-21T14:53:13.009Z"
   },
   {
    "duration": 531,
    "start_time": "2022-09-21T14:53:13.448Z"
   },
   {
    "duration": 440,
    "start_time": "2022-09-21T14:53:13.981Z"
   },
   {
    "duration": 430,
    "start_time": "2022-09-21T14:53:14.423Z"
   },
   {
    "duration": 467,
    "start_time": "2022-09-21T14:53:14.856Z"
   },
   {
    "duration": 438,
    "start_time": "2022-09-21T14:53:15.325Z"
   },
   {
    "duration": 12,
    "start_time": "2022-09-21T14:53:15.765Z"
   },
   {
    "duration": 31,
    "start_time": "2022-09-21T14:53:15.778Z"
   },
   {
    "duration": 12,
    "start_time": "2022-09-21T14:53:15.811Z"
   },
   {
    "duration": 14,
    "start_time": "2022-09-21T14:53:15.825Z"
   },
   {
    "duration": 4,
    "start_time": "2022-09-21T14:53:15.841Z"
   },
   {
    "duration": 7,
    "start_time": "2022-09-21T14:53:15.847Z"
   },
   {
    "duration": 1169,
    "start_time": "2022-09-21T14:54:42.739Z"
   },
   {
    "duration": 54,
    "start_time": "2022-09-21T14:54:43.910Z"
   },
   {
    "duration": 14,
    "start_time": "2022-09-21T14:54:43.966Z"
   },
   {
    "duration": 6,
    "start_time": "2022-09-21T14:54:43.981Z"
   },
   {
    "duration": 19,
    "start_time": "2022-09-21T14:54:43.989Z"
   },
   {
    "duration": 32,
    "start_time": "2022-09-21T14:54:44.010Z"
   },
   {
    "duration": 18,
    "start_time": "2022-09-21T14:54:44.044Z"
   },
   {
    "duration": 3,
    "start_time": "2022-09-21T14:54:44.063Z"
   },
   {
    "duration": 57,
    "start_time": "2022-09-21T14:54:44.068Z"
   },
   {
    "duration": 8,
    "start_time": "2022-09-21T14:54:44.127Z"
   },
   {
    "duration": 19,
    "start_time": "2022-09-21T14:54:44.137Z"
   },
   {
    "duration": 56,
    "start_time": "2022-09-21T14:54:44.158Z"
   },
   {
    "duration": 23,
    "start_time": "2022-09-21T14:54:44.216Z"
   },
   {
    "duration": 22,
    "start_time": "2022-09-21T14:54:44.242Z"
   },
   {
    "duration": 6,
    "start_time": "2022-09-21T14:54:44.266Z"
   },
   {
    "duration": 33,
    "start_time": "2022-09-21T14:54:44.274Z"
   },
   {
    "duration": 18,
    "start_time": "2022-09-21T14:54:44.309Z"
   },
   {
    "duration": 21,
    "start_time": "2022-09-21T14:54:44.328Z"
   },
   {
    "duration": 4,
    "start_time": "2022-09-21T14:54:44.351Z"
   },
   {
    "duration": 15,
    "start_time": "2022-09-21T14:54:44.356Z"
   },
   {
    "duration": 402,
    "start_time": "2022-09-21T14:54:44.373Z"
   },
   {
    "duration": 4,
    "start_time": "2022-09-21T14:54:44.777Z"
   },
   {
    "duration": 33,
    "start_time": "2022-09-21T14:54:44.782Z"
   },
   {
    "duration": 9,
    "start_time": "2022-09-21T14:54:44.817Z"
   },
   {
    "duration": 7,
    "start_time": "2022-09-21T14:54:44.828Z"
   },
   {
    "duration": 7,
    "start_time": "2022-09-21T14:54:44.836Z"
   },
   {
    "duration": 23,
    "start_time": "2022-09-21T14:54:44.845Z"
   },
   {
    "duration": 12,
    "start_time": "2022-09-21T14:54:44.899Z"
   },
   {
    "duration": 173,
    "start_time": "2022-09-21T14:54:44.913Z"
   },
   {
    "duration": 231,
    "start_time": "2022-09-21T14:54:45.087Z"
   },
   {
    "duration": 7,
    "start_time": "2022-09-21T14:54:45.319Z"
   },
   {
    "duration": 362,
    "start_time": "2022-09-21T14:54:45.328Z"
   },
   {
    "duration": 21,
    "start_time": "2022-09-21T14:54:45.692Z"
   },
   {
    "duration": 8,
    "start_time": "2022-09-21T14:54:45.715Z"
   },
   {
    "duration": 6,
    "start_time": "2022-09-21T14:54:45.725Z"
   },
   {
    "duration": 333,
    "start_time": "2022-09-21T14:54:45.733Z"
   },
   {
    "duration": 9,
    "start_time": "2022-09-21T14:54:46.067Z"
   },
   {
    "duration": 29,
    "start_time": "2022-09-21T14:54:46.078Z"
   },
   {
    "duration": 217,
    "start_time": "2022-09-21T14:54:46.109Z"
   },
   {
    "duration": 10,
    "start_time": "2022-09-21T14:54:46.328Z"
   },
   {
    "duration": 282,
    "start_time": "2022-09-21T14:54:46.342Z"
   },
   {
    "duration": 207,
    "start_time": "2022-09-21T14:54:46.627Z"
   },
   {
    "duration": 5,
    "start_time": "2022-09-21T14:54:46.836Z"
   },
   {
    "duration": 9,
    "start_time": "2022-09-21T14:54:46.843Z"
   },
   {
    "duration": 1426,
    "start_time": "2022-09-21T14:54:46.854Z"
   },
   {
    "duration": 72,
    "start_time": "2022-09-21T14:54:48.282Z"
   },
   {
    "duration": 18,
    "start_time": "2022-09-21T14:54:48.356Z"
   },
   {
    "duration": 253,
    "start_time": "2022-09-21T14:54:48.375Z"
   },
   {
    "duration": 8,
    "start_time": "2022-09-21T14:54:48.630Z"
   },
   {
    "duration": 470,
    "start_time": "2022-09-21T14:54:48.640Z"
   },
   {
    "duration": 537,
    "start_time": "2022-09-21T14:54:49.112Z"
   },
   {
    "duration": 456,
    "start_time": "2022-09-21T14:54:49.651Z"
   },
   {
    "duration": 440,
    "start_time": "2022-09-21T14:54:50.110Z"
   },
   {
    "duration": 467,
    "start_time": "2022-09-21T14:54:50.552Z"
   },
   {
    "duration": 468,
    "start_time": "2022-09-21T14:54:51.021Z"
   },
   {
    "duration": 17,
    "start_time": "2022-09-21T14:54:51.495Z"
   },
   {
    "duration": 16,
    "start_time": "2022-09-21T14:54:51.514Z"
   },
   {
    "duration": 32,
    "start_time": "2022-09-21T14:54:51.531Z"
   },
   {
    "duration": 29,
    "start_time": "2022-09-21T14:54:51.565Z"
   },
   {
    "duration": 5,
    "start_time": "2022-09-21T14:54:51.604Z"
   },
   {
    "duration": 25,
    "start_time": "2022-09-21T14:54:51.610Z"
   },
   {
    "duration": 1187,
    "start_time": "2022-09-21T14:56:18.362Z"
   },
   {
    "duration": 60,
    "start_time": "2022-09-21T14:56:19.551Z"
   },
   {
    "duration": 14,
    "start_time": "2022-09-21T14:56:19.614Z"
   },
   {
    "duration": 3,
    "start_time": "2022-09-21T14:56:19.630Z"
   },
   {
    "duration": 9,
    "start_time": "2022-09-21T14:56:19.635Z"
   },
   {
    "duration": 30,
    "start_time": "2022-09-21T14:56:19.645Z"
   },
   {
    "duration": 43,
    "start_time": "2022-09-21T14:56:19.677Z"
   },
   {
    "duration": 10,
    "start_time": "2022-09-21T14:56:19.722Z"
   },
   {
    "duration": 65,
    "start_time": "2022-09-21T14:56:19.733Z"
   },
   {
    "duration": 15,
    "start_time": "2022-09-21T14:56:19.801Z"
   },
   {
    "duration": 22,
    "start_time": "2022-09-21T14:56:19.818Z"
   },
   {
    "duration": 23,
    "start_time": "2022-09-21T14:56:19.841Z"
   },
   {
    "duration": 50,
    "start_time": "2022-09-21T14:56:19.865Z"
   },
   {
    "duration": 23,
    "start_time": "2022-09-21T14:56:19.917Z"
   },
   {
    "duration": 7,
    "start_time": "2022-09-21T14:56:19.942Z"
   },
   {
    "duration": 17,
    "start_time": "2022-09-21T14:56:19.951Z"
   },
   {
    "duration": 39,
    "start_time": "2022-09-21T14:56:19.970Z"
   },
   {
    "duration": 22,
    "start_time": "2022-09-21T14:56:20.013Z"
   },
   {
    "duration": 5,
    "start_time": "2022-09-21T14:56:20.037Z"
   },
   {
    "duration": 22,
    "start_time": "2022-09-21T14:56:20.044Z"
   },
   {
    "duration": 393,
    "start_time": "2022-09-21T14:56:20.068Z"
   },
   {
    "duration": 5,
    "start_time": "2022-09-21T14:56:20.463Z"
   },
   {
    "duration": 38,
    "start_time": "2022-09-21T14:56:20.470Z"
   },
   {
    "duration": 17,
    "start_time": "2022-09-21T14:56:20.509Z"
   },
   {
    "duration": 11,
    "start_time": "2022-09-21T14:56:20.529Z"
   },
   {
    "duration": 15,
    "start_time": "2022-09-21T14:56:20.542Z"
   },
   {
    "duration": 37,
    "start_time": "2022-09-21T14:56:20.559Z"
   },
   {
    "duration": 11,
    "start_time": "2022-09-21T14:56:20.603Z"
   },
   {
    "duration": 180,
    "start_time": "2022-09-21T14:56:20.617Z"
   },
   {
    "duration": 254,
    "start_time": "2022-09-21T14:56:20.802Z"
   },
   {
    "duration": 8,
    "start_time": "2022-09-21T14:56:21.058Z"
   },
   {
    "duration": 380,
    "start_time": "2022-09-21T14:56:21.069Z"
   },
   {
    "duration": 12,
    "start_time": "2022-09-21T14:56:21.451Z"
   },
   {
    "duration": 8,
    "start_time": "2022-09-21T14:56:21.465Z"
   },
   {
    "duration": 6,
    "start_time": "2022-09-21T14:56:21.474Z"
   },
   {
    "duration": 340,
    "start_time": "2022-09-21T14:56:21.502Z"
   },
   {
    "duration": 9,
    "start_time": "2022-09-21T14:56:21.844Z"
   },
   {
    "duration": 11,
    "start_time": "2022-09-21T14:56:21.856Z"
   },
   {
    "duration": 245,
    "start_time": "2022-09-21T14:56:21.869Z"
   },
   {
    "duration": 12,
    "start_time": "2022-09-21T14:56:22.117Z"
   },
   {
    "duration": 288,
    "start_time": "2022-09-21T14:56:22.131Z"
   },
   {
    "duration": 212,
    "start_time": "2022-09-21T14:56:22.421Z"
   },
   {
    "duration": 7,
    "start_time": "2022-09-21T14:56:22.635Z"
   },
   {
    "duration": 10,
    "start_time": "2022-09-21T14:56:22.644Z"
   },
   {
    "duration": 1526,
    "start_time": "2022-09-21T14:56:22.656Z"
   },
   {
    "duration": 82,
    "start_time": "2022-09-21T14:56:24.183Z"
   },
   {
    "duration": 46,
    "start_time": "2022-09-21T14:56:24.266Z"
   },
   {
    "duration": 247,
    "start_time": "2022-09-21T14:56:24.314Z"
   },
   {
    "duration": 8,
    "start_time": "2022-09-21T14:56:24.563Z"
   },
   {
    "duration": 460,
    "start_time": "2022-09-21T14:56:24.573Z"
   },
   {
    "duration": 536,
    "start_time": "2022-09-21T14:56:25.035Z"
   },
   {
    "duration": 467,
    "start_time": "2022-09-21T14:56:25.573Z"
   },
   {
    "duration": 432,
    "start_time": "2022-09-21T14:56:26.041Z"
   },
   {
    "duration": 537,
    "start_time": "2022-09-21T14:56:26.474Z"
   },
   {
    "duration": 433,
    "start_time": "2022-09-21T14:56:27.013Z"
   },
   {
    "duration": 12,
    "start_time": "2022-09-21T14:56:27.447Z"
   },
   {
    "duration": 4,
    "start_time": "2022-09-21T14:56:27.460Z"
   },
   {
    "duration": 11,
    "start_time": "2022-09-21T14:56:27.466Z"
   },
   {
    "duration": 20,
    "start_time": "2022-09-21T14:56:27.495Z"
   },
   {
    "duration": 4,
    "start_time": "2022-09-21T14:56:27.517Z"
   },
   {
    "duration": 5,
    "start_time": "2022-09-21T14:56:27.523Z"
   },
   {
    "duration": 102,
    "start_time": "2022-09-21T14:58:54.500Z"
   },
   {
    "duration": 1190,
    "start_time": "2022-09-21T14:59:03.789Z"
   },
   {
    "duration": 56,
    "start_time": "2022-09-21T14:59:04.981Z"
   },
   {
    "duration": 16,
    "start_time": "2022-09-21T14:59:05.039Z"
   },
   {
    "duration": 5,
    "start_time": "2022-09-21T14:59:05.057Z"
   },
   {
    "duration": 16,
    "start_time": "2022-09-21T14:59:05.064Z"
   },
   {
    "duration": 28,
    "start_time": "2022-09-21T14:59:05.081Z"
   },
   {
    "duration": 20,
    "start_time": "2022-09-21T14:59:05.110Z"
   },
   {
    "duration": 4,
    "start_time": "2022-09-21T14:59:05.132Z"
   },
   {
    "duration": 73,
    "start_time": "2022-09-21T14:59:05.138Z"
   },
   {
    "duration": 9,
    "start_time": "2022-09-21T14:59:05.214Z"
   },
   {
    "duration": 23,
    "start_time": "2022-09-21T14:59:05.225Z"
   },
   {
    "duration": 22,
    "start_time": "2022-09-21T14:59:05.249Z"
   },
   {
    "duration": 43,
    "start_time": "2022-09-21T14:59:05.272Z"
   },
   {
    "duration": 22,
    "start_time": "2022-09-21T14:59:05.317Z"
   },
   {
    "duration": 7,
    "start_time": "2022-09-21T14:59:05.341Z"
   },
   {
    "duration": 14,
    "start_time": "2022-09-21T14:59:05.349Z"
   },
   {
    "duration": 32,
    "start_time": "2022-09-21T14:59:05.365Z"
   },
   {
    "duration": 21,
    "start_time": "2022-09-21T14:59:05.399Z"
   },
   {
    "duration": 4,
    "start_time": "2022-09-21T14:59:05.422Z"
   },
   {
    "duration": 31,
    "start_time": "2022-09-21T14:59:05.428Z"
   },
   {
    "duration": 353,
    "start_time": "2022-09-21T14:59:05.460Z"
   },
   {
    "duration": 5,
    "start_time": "2022-09-21T14:59:05.815Z"
   },
   {
    "duration": 20,
    "start_time": "2022-09-21T14:59:05.821Z"
   },
   {
    "duration": 9,
    "start_time": "2022-09-21T14:59:05.843Z"
   },
   {
    "duration": 5,
    "start_time": "2022-09-21T14:59:05.853Z"
   },
   {
    "duration": 9,
    "start_time": "2022-09-21T14:59:05.860Z"
   },
   {
    "duration": 43,
    "start_time": "2022-09-21T14:59:05.870Z"
   },
   {
    "duration": 7,
    "start_time": "2022-09-21T14:59:05.916Z"
   },
   {
    "duration": 175,
    "start_time": "2022-09-21T14:59:05.924Z"
   },
   {
    "duration": 217,
    "start_time": "2022-09-21T14:59:06.101Z"
   },
   {
    "duration": 8,
    "start_time": "2022-09-21T14:59:06.320Z"
   },
   {
    "duration": 406,
    "start_time": "2022-09-21T14:59:06.330Z"
   },
   {
    "duration": 17,
    "start_time": "2022-09-21T14:59:06.738Z"
   },
   {
    "duration": 9,
    "start_time": "2022-09-21T14:59:06.758Z"
   },
   {
    "duration": 26,
    "start_time": "2022-09-21T14:59:06.769Z"
   },
   {
    "duration": 333,
    "start_time": "2022-09-21T14:59:06.797Z"
   },
   {
    "duration": 10,
    "start_time": "2022-09-21T14:59:07.131Z"
   },
   {
    "duration": 12,
    "start_time": "2022-09-21T14:59:07.142Z"
   },
   {
    "duration": 214,
    "start_time": "2022-09-21T14:59:07.156Z"
   },
   {
    "duration": 7,
    "start_time": "2022-09-21T14:59:07.372Z"
   },
   {
    "duration": 234,
    "start_time": "2022-09-21T14:59:07.381Z"
   },
   {
    "duration": 175,
    "start_time": "2022-09-21T14:59:07.616Z"
   },
   {
    "duration": 6,
    "start_time": "2022-09-21T14:59:07.794Z"
   },
   {
    "duration": 10,
    "start_time": "2022-09-21T14:59:07.802Z"
   },
   {
    "duration": 1425,
    "start_time": "2022-09-21T14:59:07.814Z"
   },
   {
    "duration": 83,
    "start_time": "2022-09-21T14:59:09.240Z"
   },
   {
    "duration": 18,
    "start_time": "2022-09-21T14:59:09.325Z"
   },
   {
    "duration": 233,
    "start_time": "2022-09-21T14:59:09.345Z"
   },
   {
    "duration": 17,
    "start_time": "2022-09-21T14:59:09.580Z"
   },
   {
    "duration": 444,
    "start_time": "2022-09-21T14:59:09.598Z"
   },
   {
    "duration": 542,
    "start_time": "2022-09-21T14:59:10.044Z"
   },
   {
    "duration": 452,
    "start_time": "2022-09-21T14:59:10.587Z"
   },
   {
    "duration": 443,
    "start_time": "2022-09-21T14:59:11.041Z"
   },
   {
    "duration": 456,
    "start_time": "2022-09-21T14:59:11.486Z"
   },
   {
    "duration": 412,
    "start_time": "2022-09-21T14:59:11.944Z"
   },
   {
    "duration": 11,
    "start_time": "2022-09-21T14:59:12.357Z"
   },
   {
    "duration": 4,
    "start_time": "2022-09-21T14:59:12.370Z"
   },
   {
    "duration": 24,
    "start_time": "2022-09-21T14:59:12.375Z"
   },
   {
    "duration": 12,
    "start_time": "2022-09-21T14:59:12.401Z"
   },
   {
    "duration": 4,
    "start_time": "2022-09-21T14:59:12.414Z"
   },
   {
    "duration": 13,
    "start_time": "2022-09-21T14:59:12.420Z"
   },
   {
    "duration": 1206,
    "start_time": "2022-09-21T15:00:58.212Z"
   },
   {
    "duration": 56,
    "start_time": "2022-09-21T15:00:59.420Z"
   },
   {
    "duration": 25,
    "start_time": "2022-09-21T15:00:59.478Z"
   },
   {
    "duration": 3,
    "start_time": "2022-09-21T15:00:59.505Z"
   },
   {
    "duration": 9,
    "start_time": "2022-09-21T15:00:59.510Z"
   },
   {
    "duration": 27,
    "start_time": "2022-09-21T15:00:59.521Z"
   },
   {
    "duration": 18,
    "start_time": "2022-09-21T15:00:59.550Z"
   },
   {
    "duration": 4,
    "start_time": "2022-09-21T15:00:59.570Z"
   },
   {
    "duration": 76,
    "start_time": "2022-09-21T15:00:59.575Z"
   },
   {
    "duration": 9,
    "start_time": "2022-09-21T15:00:59.654Z"
   },
   {
    "duration": 42,
    "start_time": "2022-09-21T15:00:59.665Z"
   },
   {
    "duration": 22,
    "start_time": "2022-09-21T15:00:59.709Z"
   },
   {
    "duration": 23,
    "start_time": "2022-09-21T15:00:59.732Z"
   },
   {
    "duration": 46,
    "start_time": "2022-09-21T15:00:59.757Z"
   },
   {
    "duration": 7,
    "start_time": "2022-09-21T15:00:59.804Z"
   },
   {
    "duration": 20,
    "start_time": "2022-09-21T15:00:59.812Z"
   },
   {
    "duration": 15,
    "start_time": "2022-09-21T15:00:59.834Z"
   },
   {
    "duration": 21,
    "start_time": "2022-09-21T15:00:59.851Z"
   },
   {
    "duration": 5,
    "start_time": "2022-09-21T15:00:59.873Z"
   },
   {
    "duration": 16,
    "start_time": "2022-09-21T15:00:59.896Z"
   },
   {
    "duration": 366,
    "start_time": "2022-09-21T15:00:59.914Z"
   },
   {
    "duration": 5,
    "start_time": "2022-09-21T15:01:00.282Z"
   },
   {
    "duration": 35,
    "start_time": "2022-09-21T15:01:00.296Z"
   },
   {
    "duration": 12,
    "start_time": "2022-09-21T15:01:00.333Z"
   },
   {
    "duration": 10,
    "start_time": "2022-09-21T15:01:00.347Z"
   },
   {
    "duration": 7,
    "start_time": "2022-09-21T15:01:00.359Z"
   },
   {
    "duration": 38,
    "start_time": "2022-09-21T15:01:00.368Z"
   },
   {
    "duration": 7,
    "start_time": "2022-09-21T15:01:00.410Z"
   },
   {
    "duration": 178,
    "start_time": "2022-09-21T15:01:00.419Z"
   },
   {
    "duration": 234,
    "start_time": "2022-09-21T15:01:00.599Z"
   },
   {
    "duration": 8,
    "start_time": "2022-09-21T15:01:00.835Z"
   },
   {
    "duration": 392,
    "start_time": "2022-09-21T15:01:00.845Z"
   },
   {
    "duration": 14,
    "start_time": "2022-09-21T15:01:01.238Z"
   },
   {
    "duration": 33,
    "start_time": "2022-09-21T15:01:01.253Z"
   },
   {
    "duration": 15,
    "start_time": "2022-09-21T15:01:01.288Z"
   },
   {
    "duration": 345,
    "start_time": "2022-09-21T15:01:01.305Z"
   },
   {
    "duration": 9,
    "start_time": "2022-09-21T15:01:01.653Z"
   },
   {
    "duration": 34,
    "start_time": "2022-09-21T15:01:01.664Z"
   },
   {
    "duration": 124,
    "start_time": "2022-09-21T15:01:01.700Z"
   },
   {
    "duration": 0,
    "start_time": "2022-09-21T15:01:01.826Z"
   },
   {
    "duration": 0,
    "start_time": "2022-09-21T15:01:01.827Z"
   },
   {
    "duration": 0,
    "start_time": "2022-09-21T15:01:01.828Z"
   },
   {
    "duration": 0,
    "start_time": "2022-09-21T15:01:01.829Z"
   },
   {
    "duration": 0,
    "start_time": "2022-09-21T15:01:01.830Z"
   },
   {
    "duration": 0,
    "start_time": "2022-09-21T15:01:01.831Z"
   },
   {
    "duration": 0,
    "start_time": "2022-09-21T15:01:01.832Z"
   },
   {
    "duration": 0,
    "start_time": "2022-09-21T15:01:01.833Z"
   },
   {
    "duration": 0,
    "start_time": "2022-09-21T15:01:01.834Z"
   },
   {
    "duration": 0,
    "start_time": "2022-09-21T15:01:01.835Z"
   },
   {
    "duration": 0,
    "start_time": "2022-09-21T15:01:01.837Z"
   },
   {
    "duration": 0,
    "start_time": "2022-09-21T15:01:01.838Z"
   },
   {
    "duration": 0,
    "start_time": "2022-09-21T15:01:01.839Z"
   },
   {
    "duration": 1,
    "start_time": "2022-09-21T15:01:01.840Z"
   },
   {
    "duration": 0,
    "start_time": "2022-09-21T15:01:01.841Z"
   },
   {
    "duration": 0,
    "start_time": "2022-09-21T15:01:01.842Z"
   },
   {
    "duration": 0,
    "start_time": "2022-09-21T15:01:01.843Z"
   },
   {
    "duration": 0,
    "start_time": "2022-09-21T15:01:01.844Z"
   },
   {
    "duration": 0,
    "start_time": "2022-09-21T15:01:01.846Z"
   },
   {
    "duration": 0,
    "start_time": "2022-09-21T15:01:01.847Z"
   },
   {
    "duration": 0,
    "start_time": "2022-09-21T15:01:01.848Z"
   },
   {
    "duration": 0,
    "start_time": "2022-09-21T15:01:01.849Z"
   },
   {
    "duration": 268,
    "start_time": "2022-09-21T15:01:41.365Z"
   },
   {
    "duration": 1207,
    "start_time": "2022-09-21T15:01:57.891Z"
   },
   {
    "duration": 54,
    "start_time": "2022-09-21T15:01:59.100Z"
   },
   {
    "duration": 15,
    "start_time": "2022-09-21T15:01:59.156Z"
   },
   {
    "duration": 4,
    "start_time": "2022-09-21T15:01:59.173Z"
   },
   {
    "duration": 13,
    "start_time": "2022-09-21T15:01:59.179Z"
   },
   {
    "duration": 29,
    "start_time": "2022-09-21T15:01:59.193Z"
   },
   {
    "duration": 19,
    "start_time": "2022-09-21T15:01:59.224Z"
   },
   {
    "duration": 4,
    "start_time": "2022-09-21T15:01:59.245Z"
   },
   {
    "duration": 79,
    "start_time": "2022-09-21T15:01:59.250Z"
   },
   {
    "duration": 9,
    "start_time": "2022-09-21T15:01:59.331Z"
   },
   {
    "duration": 25,
    "start_time": "2022-09-21T15:01:59.342Z"
   },
   {
    "duration": 36,
    "start_time": "2022-09-21T15:01:59.369Z"
   },
   {
    "duration": 21,
    "start_time": "2022-09-21T15:01:59.407Z"
   },
   {
    "duration": 21,
    "start_time": "2022-09-21T15:01:59.430Z"
   },
   {
    "duration": 6,
    "start_time": "2022-09-21T15:01:59.453Z"
   },
   {
    "duration": 39,
    "start_time": "2022-09-21T15:01:59.461Z"
   },
   {
    "duration": 6,
    "start_time": "2022-09-21T15:01:59.502Z"
   },
   {
    "duration": 18,
    "start_time": "2022-09-21T15:01:59.510Z"
   },
   {
    "duration": 4,
    "start_time": "2022-09-21T15:01:59.530Z"
   },
   {
    "duration": 17,
    "start_time": "2022-09-21T15:01:59.536Z"
   },
   {
    "duration": 362,
    "start_time": "2022-09-21T15:01:59.554Z"
   },
   {
    "duration": 4,
    "start_time": "2022-09-21T15:01:59.917Z"
   },
   {
    "duration": 19,
    "start_time": "2022-09-21T15:01:59.922Z"
   },
   {
    "duration": 7,
    "start_time": "2022-09-21T15:01:59.943Z"
   },
   {
    "duration": 8,
    "start_time": "2022-09-21T15:01:59.951Z"
   },
   {
    "duration": 12,
    "start_time": "2022-09-21T15:01:59.960Z"
   },
   {
    "duration": 37,
    "start_time": "2022-09-21T15:01:59.973Z"
   },
   {
    "duration": 6,
    "start_time": "2022-09-21T15:02:00.014Z"
   },
   {
    "duration": 169,
    "start_time": "2022-09-21T15:02:00.022Z"
   },
   {
    "duration": 211,
    "start_time": "2022-09-21T15:02:00.196Z"
   },
   {
    "duration": 8,
    "start_time": "2022-09-21T15:02:00.409Z"
   },
   {
    "duration": 338,
    "start_time": "2022-09-21T15:02:00.419Z"
   },
   {
    "duration": 14,
    "start_time": "2022-09-21T15:02:00.759Z"
   },
   {
    "duration": 22,
    "start_time": "2022-09-21T15:02:00.775Z"
   },
   {
    "duration": 5,
    "start_time": "2022-09-21T15:02:00.799Z"
   },
   {
    "duration": 325,
    "start_time": "2022-09-21T15:02:00.806Z"
   },
   {
    "duration": 9,
    "start_time": "2022-09-21T15:02:01.133Z"
   },
   {
    "duration": 16,
    "start_time": "2022-09-21T15:02:01.144Z"
   },
   {
    "duration": 209,
    "start_time": "2022-09-21T15:02:01.162Z"
   },
   {
    "duration": 9,
    "start_time": "2022-09-21T15:02:01.373Z"
   },
   {
    "duration": 227,
    "start_time": "2022-09-21T15:02:01.394Z"
   },
   {
    "duration": 174,
    "start_time": "2022-09-21T15:02:01.623Z"
   },
   {
    "duration": 5,
    "start_time": "2022-09-21T15:02:01.799Z"
   },
   {
    "duration": 13,
    "start_time": "2022-09-21T15:02:01.806Z"
   },
   {
    "duration": 1416,
    "start_time": "2022-09-21T15:02:01.821Z"
   },
   {
    "duration": 82,
    "start_time": "2022-09-21T15:02:03.239Z"
   },
   {
    "duration": 18,
    "start_time": "2022-09-21T15:02:03.323Z"
   },
   {
    "duration": 240,
    "start_time": "2022-09-21T15:02:03.342Z"
   },
   {
    "duration": 11,
    "start_time": "2022-09-21T15:02:03.584Z"
   },
   {
    "duration": 436,
    "start_time": "2022-09-21T15:02:03.597Z"
   },
   {
    "duration": 517,
    "start_time": "2022-09-21T15:02:04.034Z"
   },
   {
    "duration": 447,
    "start_time": "2022-09-21T15:02:04.553Z"
   },
   {
    "duration": 448,
    "start_time": "2022-09-21T15:02:05.002Z"
   },
   {
    "duration": 446,
    "start_time": "2022-09-21T15:02:05.452Z"
   },
   {
    "duration": 424,
    "start_time": "2022-09-21T15:02:05.900Z"
   },
   {
    "duration": 12,
    "start_time": "2022-09-21T15:02:06.326Z"
   },
   {
    "duration": 4,
    "start_time": "2022-09-21T15:02:06.341Z"
   },
   {
    "duration": 11,
    "start_time": "2022-09-21T15:02:06.347Z"
   },
   {
    "duration": 37,
    "start_time": "2022-09-21T15:02:06.359Z"
   },
   {
    "duration": 4,
    "start_time": "2022-09-21T15:02:06.398Z"
   },
   {
    "duration": 8,
    "start_time": "2022-09-21T15:02:06.403Z"
   },
   {
    "duration": 1220,
    "start_time": "2022-09-21T15:04:27.283Z"
   },
   {
    "duration": 55,
    "start_time": "2022-09-21T15:04:28.505Z"
   },
   {
    "duration": 16,
    "start_time": "2022-09-21T15:04:28.561Z"
   },
   {
    "duration": 5,
    "start_time": "2022-09-21T15:04:28.579Z"
   },
   {
    "duration": 8,
    "start_time": "2022-09-21T15:04:28.585Z"
   },
   {
    "duration": 23,
    "start_time": "2022-09-21T15:04:28.595Z"
   },
   {
    "duration": 18,
    "start_time": "2022-09-21T15:04:28.620Z"
   },
   {
    "duration": 4,
    "start_time": "2022-09-21T15:04:28.639Z"
   },
   {
    "duration": 72,
    "start_time": "2022-09-21T15:04:28.644Z"
   },
   {
    "duration": 9,
    "start_time": "2022-09-21T15:04:28.719Z"
   },
   {
    "duration": 23,
    "start_time": "2022-09-21T15:04:28.729Z"
   },
   {
    "duration": 48,
    "start_time": "2022-09-21T15:04:28.753Z"
   },
   {
    "duration": 23,
    "start_time": "2022-09-21T15:04:28.802Z"
   },
   {
    "duration": 25,
    "start_time": "2022-09-21T15:04:28.826Z"
   },
   {
    "duration": 8,
    "start_time": "2022-09-21T15:04:28.852Z"
   },
   {
    "duration": 43,
    "start_time": "2022-09-21T15:04:28.862Z"
   },
   {
    "duration": 14,
    "start_time": "2022-09-21T15:04:28.906Z"
   },
   {
    "duration": 19,
    "start_time": "2022-09-21T15:04:28.921Z"
   },
   {
    "duration": 4,
    "start_time": "2022-09-21T15:04:28.941Z"
   },
   {
    "duration": 16,
    "start_time": "2022-09-21T15:04:28.946Z"
   },
   {
    "duration": 358,
    "start_time": "2022-09-21T15:04:28.964Z"
   },
   {
    "duration": 4,
    "start_time": "2022-09-21T15:04:29.324Z"
   },
   {
    "duration": 20,
    "start_time": "2022-09-21T15:04:29.329Z"
   },
   {
    "duration": 8,
    "start_time": "2022-09-21T15:04:29.350Z"
   },
   {
    "duration": 5,
    "start_time": "2022-09-21T15:04:29.360Z"
   },
   {
    "duration": 31,
    "start_time": "2022-09-21T15:04:29.366Z"
   },
   {
    "duration": 23,
    "start_time": "2022-09-21T15:04:29.398Z"
   },
   {
    "duration": 6,
    "start_time": "2022-09-21T15:04:29.425Z"
   },
   {
    "duration": 212,
    "start_time": "2022-09-21T15:04:29.432Z"
   },
   {
    "duration": 228,
    "start_time": "2022-09-21T15:04:29.646Z"
   },
   {
    "duration": 8,
    "start_time": "2022-09-21T15:04:29.875Z"
   },
   {
    "duration": 354,
    "start_time": "2022-09-21T15:04:29.896Z"
   },
   {
    "duration": 12,
    "start_time": "2022-09-21T15:04:30.252Z"
   },
   {
    "duration": 25,
    "start_time": "2022-09-21T15:04:30.266Z"
   },
   {
    "duration": 20,
    "start_time": "2022-09-21T15:04:30.293Z"
   },
   {
    "duration": 311,
    "start_time": "2022-09-21T15:04:30.315Z"
   },
   {
    "duration": 9,
    "start_time": "2022-09-21T15:04:30.627Z"
   },
   {
    "duration": 14,
    "start_time": "2022-09-21T15:04:30.637Z"
   },
   {
    "duration": 215,
    "start_time": "2022-09-21T15:04:30.653Z"
   },
   {
    "duration": 11,
    "start_time": "2022-09-21T15:04:30.870Z"
   },
   {
    "duration": 234,
    "start_time": "2022-09-21T15:04:30.896Z"
   },
   {
    "duration": 171,
    "start_time": "2022-09-21T15:04:31.131Z"
   },
   {
    "duration": 5,
    "start_time": "2022-09-21T15:04:31.304Z"
   },
   {
    "duration": 10,
    "start_time": "2022-09-21T15:04:31.311Z"
   },
   {
    "duration": 1344,
    "start_time": "2022-09-21T15:04:31.323Z"
   },
   {
    "duration": 81,
    "start_time": "2022-09-21T15:04:32.668Z"
   },
   {
    "duration": 19,
    "start_time": "2022-09-21T15:04:32.750Z"
   },
   {
    "duration": 272,
    "start_time": "2022-09-21T15:04:32.771Z"
   },
   {
    "duration": 9,
    "start_time": "2022-09-21T15:04:33.045Z"
   },
   {
    "duration": 437,
    "start_time": "2022-09-21T15:04:33.056Z"
   },
   {
    "duration": 530,
    "start_time": "2022-09-21T15:04:33.495Z"
   },
   {
    "duration": 435,
    "start_time": "2022-09-21T15:04:34.027Z"
   },
   {
    "duration": 439,
    "start_time": "2022-09-21T15:04:34.463Z"
   },
   {
    "duration": 452,
    "start_time": "2022-09-21T15:04:34.904Z"
   },
   {
    "duration": 429,
    "start_time": "2022-09-21T15:04:35.358Z"
   },
   {
    "duration": 14,
    "start_time": "2022-09-21T15:04:35.789Z"
   },
   {
    "duration": 4,
    "start_time": "2022-09-21T15:04:35.805Z"
   },
   {
    "duration": 7,
    "start_time": "2022-09-21T15:04:35.811Z"
   },
   {
    "duration": 18,
    "start_time": "2022-09-21T15:04:35.819Z"
   },
   {
    "duration": 4,
    "start_time": "2022-09-21T15:04:35.839Z"
   },
   {
    "duration": 6,
    "start_time": "2022-09-21T15:04:35.845Z"
   },
   {
    "duration": 259,
    "start_time": "2022-09-21T15:05:15.350Z"
   },
   {
    "duration": 1237,
    "start_time": "2022-09-21T15:05:22.074Z"
   },
   {
    "duration": 61,
    "start_time": "2022-09-21T15:05:23.313Z"
   },
   {
    "duration": 15,
    "start_time": "2022-09-21T15:05:23.376Z"
   },
   {
    "duration": 8,
    "start_time": "2022-09-21T15:05:23.393Z"
   },
   {
    "duration": 7,
    "start_time": "2022-09-21T15:05:23.403Z"
   },
   {
    "duration": 27,
    "start_time": "2022-09-21T15:05:23.412Z"
   },
   {
    "duration": 18,
    "start_time": "2022-09-21T15:05:23.441Z"
   },
   {
    "duration": 4,
    "start_time": "2022-09-21T15:05:23.461Z"
   },
   {
    "duration": 78,
    "start_time": "2022-09-21T15:05:23.466Z"
   },
   {
    "duration": 8,
    "start_time": "2022-09-21T15:05:23.546Z"
   },
   {
    "duration": 40,
    "start_time": "2022-09-21T15:05:23.556Z"
   },
   {
    "duration": 22,
    "start_time": "2022-09-21T15:05:23.598Z"
   },
   {
    "duration": 22,
    "start_time": "2022-09-21T15:05:23.622Z"
   },
   {
    "duration": 22,
    "start_time": "2022-09-21T15:05:23.647Z"
   },
   {
    "duration": 28,
    "start_time": "2022-09-21T15:05:23.671Z"
   },
   {
    "duration": 14,
    "start_time": "2022-09-21T15:05:23.701Z"
   },
   {
    "duration": 8,
    "start_time": "2022-09-21T15:05:23.717Z"
   },
   {
    "duration": 26,
    "start_time": "2022-09-21T15:05:23.726Z"
   },
   {
    "duration": 5,
    "start_time": "2022-09-21T15:05:23.753Z"
   },
   {
    "duration": 43,
    "start_time": "2022-09-21T15:05:23.760Z"
   },
   {
    "duration": 370,
    "start_time": "2022-09-21T15:05:23.805Z"
   },
   {
    "duration": 4,
    "start_time": "2022-09-21T15:05:24.177Z"
   },
   {
    "duration": 26,
    "start_time": "2022-09-21T15:05:24.183Z"
   },
   {
    "duration": 6,
    "start_time": "2022-09-21T15:05:24.211Z"
   },
   {
    "duration": 5,
    "start_time": "2022-09-21T15:05:24.219Z"
   },
   {
    "duration": 24,
    "start_time": "2022-09-21T15:05:24.225Z"
   },
   {
    "duration": 29,
    "start_time": "2022-09-21T15:05:24.252Z"
   },
   {
    "duration": 18,
    "start_time": "2022-09-21T15:05:24.282Z"
   },
   {
    "duration": 169,
    "start_time": "2022-09-21T15:05:24.301Z"
   },
   {
    "duration": 215,
    "start_time": "2022-09-21T15:05:24.471Z"
   },
   {
    "duration": 10,
    "start_time": "2022-09-21T15:05:24.688Z"
   },
   {
    "duration": 365,
    "start_time": "2022-09-21T15:05:24.700Z"
   },
   {
    "duration": 13,
    "start_time": "2022-09-21T15:05:25.066Z"
   },
   {
    "duration": 20,
    "start_time": "2022-09-21T15:05:25.081Z"
   },
   {
    "duration": 5,
    "start_time": "2022-09-21T15:05:25.103Z"
   },
   {
    "duration": 327,
    "start_time": "2022-09-21T15:05:25.109Z"
   },
   {
    "duration": 9,
    "start_time": "2022-09-21T15:05:25.438Z"
   },
   {
    "duration": 8,
    "start_time": "2022-09-21T15:05:25.449Z"
   },
   {
    "duration": 232,
    "start_time": "2022-09-21T15:05:25.459Z"
   },
   {
    "duration": 12,
    "start_time": "2022-09-21T15:05:25.695Z"
   },
   {
    "duration": 270,
    "start_time": "2022-09-21T15:05:25.714Z"
   },
   {
    "duration": 173,
    "start_time": "2022-09-21T15:05:25.985Z"
   },
   {
    "duration": 5,
    "start_time": "2022-09-21T15:05:26.159Z"
   },
   {
    "duration": 10,
    "start_time": "2022-09-21T15:05:26.166Z"
   },
   {
    "duration": 1391,
    "start_time": "2022-09-21T15:05:26.177Z"
   },
   {
    "duration": 78,
    "start_time": "2022-09-21T15:05:27.569Z"
   },
   {
    "duration": 18,
    "start_time": "2022-09-21T15:05:27.648Z"
   },
   {
    "duration": 239,
    "start_time": "2022-09-21T15:05:27.667Z"
   },
   {
    "duration": 12,
    "start_time": "2022-09-21T15:05:27.908Z"
   },
   {
    "duration": 454,
    "start_time": "2022-09-21T15:05:27.923Z"
   },
   {
    "duration": 547,
    "start_time": "2022-09-21T15:05:28.378Z"
   },
   {
    "duration": 438,
    "start_time": "2022-09-21T15:05:28.927Z"
   },
   {
    "duration": 416,
    "start_time": "2022-09-21T15:05:29.366Z"
   },
   {
    "duration": 424,
    "start_time": "2022-09-21T15:05:29.784Z"
   },
   {
    "duration": 410,
    "start_time": "2022-09-21T15:05:30.210Z"
   },
   {
    "duration": 12,
    "start_time": "2022-09-21T15:05:30.622Z"
   },
   {
    "duration": 5,
    "start_time": "2022-09-21T15:05:30.635Z"
   },
   {
    "duration": 9,
    "start_time": "2022-09-21T15:05:30.642Z"
   },
   {
    "duration": 13,
    "start_time": "2022-09-21T15:05:30.653Z"
   },
   {
    "duration": 30,
    "start_time": "2022-09-21T15:05:30.667Z"
   },
   {
    "duration": 9,
    "start_time": "2022-09-21T15:05:30.699Z"
   },
   {
    "duration": 477,
    "start_time": "2022-09-21T15:06:36.207Z"
   },
   {
    "duration": 1234,
    "start_time": "2022-09-21T15:06:42.281Z"
   },
   {
    "duration": 54,
    "start_time": "2022-09-21T15:06:43.517Z"
   },
   {
    "duration": 15,
    "start_time": "2022-09-21T15:06:43.573Z"
   },
   {
    "duration": 3,
    "start_time": "2022-09-21T15:06:43.589Z"
   },
   {
    "duration": 12,
    "start_time": "2022-09-21T15:06:43.594Z"
   },
   {
    "duration": 30,
    "start_time": "2022-09-21T15:06:43.608Z"
   },
   {
    "duration": 21,
    "start_time": "2022-09-21T15:06:43.641Z"
   },
   {
    "duration": 4,
    "start_time": "2022-09-21T15:06:43.664Z"
   },
   {
    "duration": 82,
    "start_time": "2022-09-21T15:06:43.670Z"
   },
   {
    "duration": 10,
    "start_time": "2022-09-21T15:06:43.753Z"
   },
   {
    "duration": 40,
    "start_time": "2022-09-21T15:06:43.765Z"
   },
   {
    "duration": 27,
    "start_time": "2022-09-21T15:06:43.807Z"
   },
   {
    "duration": 23,
    "start_time": "2022-09-21T15:06:43.836Z"
   },
   {
    "duration": 46,
    "start_time": "2022-09-21T15:06:43.862Z"
   },
   {
    "duration": 7,
    "start_time": "2022-09-21T15:06:43.910Z"
   },
   {
    "duration": 12,
    "start_time": "2022-09-21T15:06:43.919Z"
   },
   {
    "duration": 6,
    "start_time": "2022-09-21T15:06:43.932Z"
   },
   {
    "duration": 39,
    "start_time": "2022-09-21T15:06:43.939Z"
   },
   {
    "duration": 16,
    "start_time": "2022-09-21T15:06:43.980Z"
   },
   {
    "duration": 15,
    "start_time": "2022-09-21T15:06:43.997Z"
   },
   {
    "duration": 358,
    "start_time": "2022-09-21T15:06:44.014Z"
   },
   {
    "duration": 5,
    "start_time": "2022-09-21T15:06:44.373Z"
   },
   {
    "duration": 31,
    "start_time": "2022-09-21T15:06:44.379Z"
   },
   {
    "duration": 7,
    "start_time": "2022-09-21T15:06:44.411Z"
   },
   {
    "duration": 7,
    "start_time": "2022-09-21T15:06:44.420Z"
   },
   {
    "duration": 5,
    "start_time": "2022-09-21T15:06:44.428Z"
   },
   {
    "duration": 22,
    "start_time": "2022-09-21T15:06:44.434Z"
   },
   {
    "duration": 38,
    "start_time": "2022-09-21T15:06:44.458Z"
   },
   {
    "duration": 163,
    "start_time": "2022-09-21T15:06:44.498Z"
   },
   {
    "duration": 219,
    "start_time": "2022-09-21T15:06:44.662Z"
   },
   {
    "duration": 14,
    "start_time": "2022-09-21T15:06:44.882Z"
   },
   {
    "duration": 351,
    "start_time": "2022-09-21T15:06:44.897Z"
   },
   {
    "duration": 12,
    "start_time": "2022-09-21T15:06:45.250Z"
   },
   {
    "duration": 7,
    "start_time": "2022-09-21T15:06:45.264Z"
   },
   {
    "duration": 8,
    "start_time": "2022-09-21T15:06:45.272Z"
   },
   {
    "duration": 322,
    "start_time": "2022-09-21T15:06:45.296Z"
   },
   {
    "duration": 8,
    "start_time": "2022-09-21T15:06:45.620Z"
   },
   {
    "duration": 10,
    "start_time": "2022-09-21T15:06:45.629Z"
   },
   {
    "duration": 223,
    "start_time": "2022-09-21T15:06:45.640Z"
   },
   {
    "duration": 8,
    "start_time": "2022-09-21T15:06:45.865Z"
   },
   {
    "duration": 270,
    "start_time": "2022-09-21T15:06:45.876Z"
   },
   {
    "duration": 178,
    "start_time": "2022-09-21T15:06:46.148Z"
   },
   {
    "duration": 5,
    "start_time": "2022-09-21T15:06:46.328Z"
   },
   {
    "duration": 9,
    "start_time": "2022-09-21T15:06:46.334Z"
   },
   {
    "duration": 1478,
    "start_time": "2022-09-21T15:06:46.344Z"
   },
   {
    "duration": 89,
    "start_time": "2022-09-21T15:06:47.824Z"
   },
   {
    "duration": 20,
    "start_time": "2022-09-21T15:06:47.915Z"
   },
   {
    "duration": 269,
    "start_time": "2022-09-21T15:06:47.937Z"
   },
   {
    "duration": 9,
    "start_time": "2022-09-21T15:06:48.208Z"
   },
   {
    "duration": 520,
    "start_time": "2022-09-21T15:06:48.219Z"
   },
   {
    "duration": 609,
    "start_time": "2022-09-21T15:06:48.741Z"
   },
   {
    "duration": 458,
    "start_time": "2022-09-21T15:06:49.352Z"
   },
   {
    "duration": 475,
    "start_time": "2022-09-21T15:06:49.812Z"
   },
   {
    "duration": 475,
    "start_time": "2022-09-21T15:06:50.289Z"
   },
   {
    "duration": 453,
    "start_time": "2022-09-21T15:06:50.766Z"
   },
   {
    "duration": 16,
    "start_time": "2022-09-21T15:06:51.221Z"
   },
   {
    "duration": 5,
    "start_time": "2022-09-21T15:06:51.239Z"
   },
   {
    "duration": 18,
    "start_time": "2022-09-21T15:06:51.246Z"
   },
   {
    "duration": 34,
    "start_time": "2022-09-21T15:06:51.267Z"
   },
   {
    "duration": 5,
    "start_time": "2022-09-21T15:06:51.303Z"
   },
   {
    "duration": 9,
    "start_time": "2022-09-21T15:06:51.310Z"
   },
   {
    "duration": 1186,
    "start_time": "2022-09-21T15:08:16.523Z"
   },
   {
    "duration": 54,
    "start_time": "2022-09-21T15:08:17.711Z"
   },
   {
    "duration": 15,
    "start_time": "2022-09-21T15:08:17.767Z"
   },
   {
    "duration": 3,
    "start_time": "2022-09-21T15:08:17.783Z"
   },
   {
    "duration": 12,
    "start_time": "2022-09-21T15:08:17.789Z"
   },
   {
    "duration": 27,
    "start_time": "2022-09-21T15:08:17.803Z"
   },
   {
    "duration": 19,
    "start_time": "2022-09-21T15:08:17.831Z"
   },
   {
    "duration": 3,
    "start_time": "2022-09-21T15:08:17.852Z"
   },
   {
    "duration": 74,
    "start_time": "2022-09-21T15:08:17.856Z"
   },
   {
    "duration": 10,
    "start_time": "2022-09-21T15:08:17.932Z"
   },
   {
    "duration": 23,
    "start_time": "2022-09-21T15:08:17.943Z"
   },
   {
    "duration": 46,
    "start_time": "2022-09-21T15:08:17.968Z"
   },
   {
    "duration": 24,
    "start_time": "2022-09-21T15:08:18.017Z"
   },
   {
    "duration": 23,
    "start_time": "2022-09-21T15:08:18.044Z"
   },
   {
    "duration": 31,
    "start_time": "2022-09-21T15:08:18.069Z"
   },
   {
    "duration": 17,
    "start_time": "2022-09-21T15:08:18.102Z"
   },
   {
    "duration": 8,
    "start_time": "2022-09-21T15:08:18.120Z"
   },
   {
    "duration": 21,
    "start_time": "2022-09-21T15:08:18.129Z"
   },
   {
    "duration": 5,
    "start_time": "2022-09-21T15:08:18.151Z"
   },
   {
    "duration": 45,
    "start_time": "2022-09-21T15:08:18.158Z"
   },
   {
    "duration": 349,
    "start_time": "2022-09-21T15:08:18.205Z"
   },
   {
    "duration": 5,
    "start_time": "2022-09-21T15:08:18.555Z"
   },
   {
    "duration": 24,
    "start_time": "2022-09-21T15:08:18.561Z"
   },
   {
    "duration": 10,
    "start_time": "2022-09-21T15:08:18.587Z"
   },
   {
    "duration": 10,
    "start_time": "2022-09-21T15:08:18.598Z"
   },
   {
    "duration": 10,
    "start_time": "2022-09-21T15:08:18.609Z"
   },
   {
    "duration": 24,
    "start_time": "2022-09-21T15:08:18.620Z"
   },
   {
    "duration": 6,
    "start_time": "2022-09-21T15:08:18.645Z"
   },
   {
    "duration": 191,
    "start_time": "2022-09-21T15:08:18.653Z"
   },
   {
    "duration": 212,
    "start_time": "2022-09-21T15:08:18.847Z"
   },
   {
    "duration": 7,
    "start_time": "2022-09-21T15:08:19.061Z"
   },
   {
    "duration": 336,
    "start_time": "2022-09-21T15:08:19.069Z"
   },
   {
    "duration": 12,
    "start_time": "2022-09-21T15:08:19.407Z"
   },
   {
    "duration": 7,
    "start_time": "2022-09-21T15:08:19.421Z"
   },
   {
    "duration": 7,
    "start_time": "2022-09-21T15:08:19.429Z"
   },
   {
    "duration": 308,
    "start_time": "2022-09-21T15:08:19.437Z"
   },
   {
    "duration": 10,
    "start_time": "2022-09-21T15:08:19.747Z"
   },
   {
    "duration": 19,
    "start_time": "2022-09-21T15:08:19.759Z"
   },
   {
    "duration": 211,
    "start_time": "2022-09-21T15:08:19.780Z"
   },
   {
    "duration": 10,
    "start_time": "2022-09-21T15:08:19.994Z"
   },
   {
    "duration": 255,
    "start_time": "2022-09-21T15:08:20.008Z"
   },
   {
    "duration": 168,
    "start_time": "2022-09-21T15:08:20.264Z"
   },
   {
    "duration": 5,
    "start_time": "2022-09-21T15:08:20.434Z"
   },
   {
    "duration": 9,
    "start_time": "2022-09-21T15:08:20.440Z"
   },
   {
    "duration": 1360,
    "start_time": "2022-09-21T15:08:20.450Z"
   },
   {
    "duration": 62,
    "start_time": "2022-09-21T15:08:21.811Z"
   },
   {
    "duration": 35,
    "start_time": "2022-09-21T15:08:21.875Z"
   },
   {
    "duration": 230,
    "start_time": "2022-09-21T15:08:21.912Z"
   },
   {
    "duration": 8,
    "start_time": "2022-09-21T15:08:22.144Z"
   },
   {
    "duration": 426,
    "start_time": "2022-09-21T15:08:22.154Z"
   },
   {
    "duration": 528,
    "start_time": "2022-09-21T15:08:22.582Z"
   },
   {
    "duration": 402,
    "start_time": "2022-09-21T15:08:23.112Z"
   },
   {
    "duration": 419,
    "start_time": "2022-09-21T15:08:23.516Z"
   },
   {
    "duration": 438,
    "start_time": "2022-09-21T15:08:23.936Z"
   },
   {
    "duration": 394,
    "start_time": "2022-09-21T15:08:24.375Z"
   },
   {
    "duration": 27,
    "start_time": "2022-09-21T15:08:24.771Z"
   },
   {
    "duration": 4,
    "start_time": "2022-09-21T15:08:24.800Z"
   },
   {
    "duration": 29,
    "start_time": "2022-09-21T15:08:24.806Z"
   },
   {
    "duration": 12,
    "start_time": "2022-09-21T15:08:24.837Z"
   },
   {
    "duration": 5,
    "start_time": "2022-09-21T15:08:24.851Z"
   },
   {
    "duration": 6,
    "start_time": "2022-09-21T15:08:24.858Z"
   },
   {
    "duration": 1145,
    "start_time": "2022-09-21T15:09:20.875Z"
   },
   {
    "duration": 56,
    "start_time": "2022-09-21T15:09:22.022Z"
   },
   {
    "duration": 17,
    "start_time": "2022-09-21T15:09:22.080Z"
   },
   {
    "duration": 4,
    "start_time": "2022-09-21T15:09:22.099Z"
   },
   {
    "duration": 8,
    "start_time": "2022-09-21T15:09:22.105Z"
   },
   {
    "duration": 28,
    "start_time": "2022-09-21T15:09:22.114Z"
   },
   {
    "duration": 19,
    "start_time": "2022-09-21T15:09:22.144Z"
   },
   {
    "duration": 3,
    "start_time": "2022-09-21T15:09:22.165Z"
   },
   {
    "duration": 78,
    "start_time": "2022-09-21T15:09:22.169Z"
   },
   {
    "duration": 9,
    "start_time": "2022-09-21T15:09:22.250Z"
   },
   {
    "duration": 42,
    "start_time": "2022-09-21T15:09:22.260Z"
   },
   {
    "duration": 21,
    "start_time": "2022-09-21T15:09:22.304Z"
   },
   {
    "duration": 23,
    "start_time": "2022-09-21T15:09:22.327Z"
   },
   {
    "duration": 45,
    "start_time": "2022-09-21T15:09:22.351Z"
   },
   {
    "duration": 8,
    "start_time": "2022-09-21T15:09:22.398Z"
   },
   {
    "duration": 15,
    "start_time": "2022-09-21T15:09:22.407Z"
   },
   {
    "duration": 7,
    "start_time": "2022-09-21T15:09:22.423Z"
   },
   {
    "duration": 19,
    "start_time": "2022-09-21T15:09:22.432Z"
   },
   {
    "duration": 5,
    "start_time": "2022-09-21T15:09:22.453Z"
   },
   {
    "duration": 50,
    "start_time": "2022-09-21T15:09:22.460Z"
   },
   {
    "duration": 348,
    "start_time": "2022-09-21T15:09:22.512Z"
   },
   {
    "duration": 4,
    "start_time": "2022-09-21T15:09:22.862Z"
   },
   {
    "duration": 31,
    "start_time": "2022-09-21T15:09:22.867Z"
   },
   {
    "duration": 8,
    "start_time": "2022-09-21T15:09:22.900Z"
   },
   {
    "duration": 13,
    "start_time": "2022-09-21T15:09:22.910Z"
   },
   {
    "duration": 7,
    "start_time": "2022-09-21T15:09:22.924Z"
   },
   {
    "duration": 27,
    "start_time": "2022-09-21T15:09:22.933Z"
   },
   {
    "duration": 33,
    "start_time": "2022-09-21T15:09:22.963Z"
   },
   {
    "duration": 162,
    "start_time": "2022-09-21T15:09:22.998Z"
   },
   {
    "duration": 228,
    "start_time": "2022-09-21T15:09:23.161Z"
   },
   {
    "duration": 9,
    "start_time": "2022-09-21T15:09:23.390Z"
   },
   {
    "duration": 368,
    "start_time": "2022-09-21T15:09:23.400Z"
   },
   {
    "duration": 25,
    "start_time": "2022-09-21T15:09:23.770Z"
   },
   {
    "duration": 8,
    "start_time": "2022-09-21T15:09:23.796Z"
   },
   {
    "duration": 6,
    "start_time": "2022-09-21T15:09:23.805Z"
   },
   {
    "duration": 341,
    "start_time": "2022-09-21T15:09:23.812Z"
   },
   {
    "duration": 8,
    "start_time": "2022-09-21T15:09:24.155Z"
   },
   {
    "duration": 9,
    "start_time": "2022-09-21T15:09:24.165Z"
   },
   {
    "duration": 222,
    "start_time": "2022-09-21T15:09:24.176Z"
   },
   {
    "duration": 9,
    "start_time": "2022-09-21T15:09:24.401Z"
   },
   {
    "duration": 266,
    "start_time": "2022-09-21T15:09:24.412Z"
   },
   {
    "duration": 191,
    "start_time": "2022-09-21T15:09:24.680Z"
   },
   {
    "duration": 5,
    "start_time": "2022-09-21T15:09:24.872Z"
   },
   {
    "duration": 10,
    "start_time": "2022-09-21T15:09:24.894Z"
   },
   {
    "duration": 1354,
    "start_time": "2022-09-21T15:09:24.906Z"
   },
   {
    "duration": 72,
    "start_time": "2022-09-21T15:09:26.262Z"
   },
   {
    "duration": 17,
    "start_time": "2022-09-21T15:09:26.336Z"
   },
   {
    "duration": 246,
    "start_time": "2022-09-21T15:09:26.355Z"
   },
   {
    "duration": 10,
    "start_time": "2022-09-21T15:09:26.603Z"
   },
   {
    "duration": 490,
    "start_time": "2022-09-21T15:09:26.615Z"
   },
   {
    "duration": 513,
    "start_time": "2022-09-21T15:09:27.107Z"
   },
   {
    "duration": 450,
    "start_time": "2022-09-21T15:09:27.622Z"
   },
   {
    "duration": 435,
    "start_time": "2022-09-21T15:09:28.074Z"
   },
   {
    "duration": 459,
    "start_time": "2022-09-21T15:09:28.511Z"
   },
   {
    "duration": 432,
    "start_time": "2022-09-21T15:09:28.972Z"
   },
   {
    "duration": 11,
    "start_time": "2022-09-21T15:09:29.405Z"
   },
   {
    "duration": 5,
    "start_time": "2022-09-21T15:09:29.418Z"
   },
   {
    "duration": 11,
    "start_time": "2022-09-21T15:09:29.424Z"
   },
   {
    "duration": 17,
    "start_time": "2022-09-21T15:09:29.437Z"
   },
   {
    "duration": 5,
    "start_time": "2022-09-21T15:09:29.455Z"
   },
   {
    "duration": 34,
    "start_time": "2022-09-21T15:09:29.462Z"
   },
   {
    "duration": 1186,
    "start_time": "2022-09-21T15:10:51.609Z"
   },
   {
    "duration": 60,
    "start_time": "2022-09-21T15:10:52.797Z"
   },
   {
    "duration": 15,
    "start_time": "2022-09-21T15:10:52.859Z"
   },
   {
    "duration": 27,
    "start_time": "2022-09-21T15:10:52.877Z"
   },
   {
    "duration": 23,
    "start_time": "2022-09-21T15:10:52.906Z"
   },
   {
    "duration": 55,
    "start_time": "2022-09-21T15:10:52.931Z"
   },
   {
    "duration": 22,
    "start_time": "2022-09-21T15:10:52.988Z"
   },
   {
    "duration": 15,
    "start_time": "2022-09-21T15:10:53.012Z"
   },
   {
    "duration": 78,
    "start_time": "2022-09-21T15:10:53.028Z"
   },
   {
    "duration": 8,
    "start_time": "2022-09-21T15:10:53.109Z"
   },
   {
    "duration": 46,
    "start_time": "2022-09-21T15:10:53.118Z"
   },
   {
    "duration": 30,
    "start_time": "2022-09-21T15:10:53.166Z"
   },
   {
    "duration": 23,
    "start_time": "2022-09-21T15:10:53.198Z"
   },
   {
    "duration": 23,
    "start_time": "2022-09-21T15:10:53.223Z"
   },
   {
    "duration": 6,
    "start_time": "2022-09-21T15:10:53.248Z"
   },
   {
    "duration": 25,
    "start_time": "2022-09-21T15:10:53.256Z"
   },
   {
    "duration": 7,
    "start_time": "2022-09-21T15:10:53.295Z"
   },
   {
    "duration": 47,
    "start_time": "2022-09-21T15:10:53.304Z"
   },
   {
    "duration": 11,
    "start_time": "2022-09-21T15:10:53.353Z"
   },
   {
    "duration": 30,
    "start_time": "2022-09-21T15:10:53.366Z"
   },
   {
    "duration": 346,
    "start_time": "2022-09-21T15:10:53.398Z"
   },
   {
    "duration": 4,
    "start_time": "2022-09-21T15:10:53.746Z"
   },
   {
    "duration": 46,
    "start_time": "2022-09-21T15:10:53.752Z"
   },
   {
    "duration": 24,
    "start_time": "2022-09-21T15:10:53.800Z"
   },
   {
    "duration": 7,
    "start_time": "2022-09-21T15:10:53.826Z"
   },
   {
    "duration": 25,
    "start_time": "2022-09-21T15:10:53.835Z"
   },
   {
    "duration": 39,
    "start_time": "2022-09-21T15:10:53.861Z"
   },
   {
    "duration": 6,
    "start_time": "2022-09-21T15:10:53.903Z"
   },
   {
    "duration": 164,
    "start_time": "2022-09-21T15:10:53.911Z"
   },
   {
    "duration": 228,
    "start_time": "2022-09-21T15:10:54.077Z"
   },
   {
    "duration": 8,
    "start_time": "2022-09-21T15:10:54.307Z"
   },
   {
    "duration": 361,
    "start_time": "2022-09-21T15:10:54.316Z"
   },
   {
    "duration": 20,
    "start_time": "2022-09-21T15:10:54.679Z"
   },
   {
    "duration": 11,
    "start_time": "2022-09-21T15:10:54.701Z"
   },
   {
    "duration": 21,
    "start_time": "2022-09-21T15:10:54.714Z"
   },
   {
    "duration": 322,
    "start_time": "2022-09-21T15:10:54.737Z"
   },
   {
    "duration": 8,
    "start_time": "2022-09-21T15:10:55.061Z"
   },
   {
    "duration": 27,
    "start_time": "2022-09-21T15:10:55.071Z"
   },
   {
    "duration": 222,
    "start_time": "2022-09-21T15:10:55.100Z"
   },
   {
    "duration": 8,
    "start_time": "2022-09-21T15:10:55.324Z"
   },
   {
    "duration": 245,
    "start_time": "2022-09-21T15:10:55.334Z"
   },
   {
    "duration": 177,
    "start_time": "2022-09-21T15:10:55.581Z"
   },
   {
    "duration": 5,
    "start_time": "2022-09-21T15:10:55.759Z"
   },
   {
    "duration": 21,
    "start_time": "2022-09-21T15:10:55.766Z"
   },
   {
    "duration": 1419,
    "start_time": "2022-09-21T15:10:55.789Z"
   },
   {
    "duration": 60,
    "start_time": "2022-09-21T15:10:57.210Z"
   },
   {
    "duration": 38,
    "start_time": "2022-09-21T15:10:57.271Z"
   },
   {
    "duration": 216,
    "start_time": "2022-09-21T15:10:57.311Z"
   },
   {
    "duration": 8,
    "start_time": "2022-09-21T15:10:57.528Z"
   },
   {
    "duration": 418,
    "start_time": "2022-09-21T15:10:57.537Z"
   },
   {
    "duration": 500,
    "start_time": "2022-09-21T15:10:57.957Z"
   },
   {
    "duration": 419,
    "start_time": "2022-09-21T15:10:58.458Z"
   },
   {
    "duration": 411,
    "start_time": "2022-09-21T15:10:58.879Z"
   },
   {
    "duration": 431,
    "start_time": "2022-09-21T15:10:59.291Z"
   },
   {
    "duration": 398,
    "start_time": "2022-09-21T15:10:59.723Z"
   },
   {
    "duration": 11,
    "start_time": "2022-09-21T15:11:00.123Z"
   },
   {
    "duration": 26,
    "start_time": "2022-09-21T15:11:00.135Z"
   },
   {
    "duration": 49,
    "start_time": "2022-09-21T15:11:00.163Z"
   },
   {
    "duration": 47,
    "start_time": "2022-09-21T15:11:00.214Z"
   },
   {
    "duration": 18,
    "start_time": "2022-09-21T15:11:00.263Z"
   },
   {
    "duration": 22,
    "start_time": "2022-09-21T15:11:00.283Z"
   },
   {
    "duration": 9,
    "start_time": "2022-09-21T15:11:34.004Z"
   },
   {
    "duration": 9,
    "start_time": "2022-09-21T15:14:31.873Z"
   },
   {
    "duration": 1233,
    "start_time": "2022-09-21T15:14:36.680Z"
   },
   {
    "duration": 55,
    "start_time": "2022-09-21T15:14:37.915Z"
   },
   {
    "duration": 15,
    "start_time": "2022-09-21T15:14:37.972Z"
   },
   {
    "duration": 3,
    "start_time": "2022-09-21T15:14:37.989Z"
   },
   {
    "duration": 9,
    "start_time": "2022-09-21T15:14:37.993Z"
   },
   {
    "duration": 32,
    "start_time": "2022-09-21T15:14:38.003Z"
   },
   {
    "duration": 21,
    "start_time": "2022-09-21T15:14:38.037Z"
   },
   {
    "duration": 3,
    "start_time": "2022-09-21T15:14:38.060Z"
   },
   {
    "duration": 79,
    "start_time": "2022-09-21T15:14:38.065Z"
   },
   {
    "duration": 9,
    "start_time": "2022-09-21T15:14:38.147Z"
   },
   {
    "duration": 39,
    "start_time": "2022-09-21T15:14:38.157Z"
   },
   {
    "duration": 23,
    "start_time": "2022-09-21T15:14:38.198Z"
   },
   {
    "duration": 24,
    "start_time": "2022-09-21T15:14:38.223Z"
   },
   {
    "duration": 48,
    "start_time": "2022-09-21T15:14:38.248Z"
   },
   {
    "duration": 7,
    "start_time": "2022-09-21T15:14:38.298Z"
   },
   {
    "duration": 15,
    "start_time": "2022-09-21T15:14:38.306Z"
   },
   {
    "duration": 8,
    "start_time": "2022-09-21T15:14:38.323Z"
   },
   {
    "duration": 21,
    "start_time": "2022-09-21T15:14:38.333Z"
   },
   {
    "duration": 4,
    "start_time": "2022-09-21T15:14:38.356Z"
   },
   {
    "duration": 42,
    "start_time": "2022-09-21T15:14:38.362Z"
   },
   {
    "duration": 378,
    "start_time": "2022-09-21T15:14:38.406Z"
   },
   {
    "duration": 10,
    "start_time": "2022-09-21T15:14:38.786Z"
   },
   {
    "duration": 21,
    "start_time": "2022-09-21T15:14:38.797Z"
   },
   {
    "duration": 7,
    "start_time": "2022-09-21T15:14:38.820Z"
   },
   {
    "duration": 15,
    "start_time": "2022-09-21T15:14:38.829Z"
   },
   {
    "duration": 9,
    "start_time": "2022-09-21T15:14:38.845Z"
   },
   {
    "duration": 44,
    "start_time": "2022-09-21T15:14:38.855Z"
   },
   {
    "duration": 7,
    "start_time": "2022-09-21T15:14:38.902Z"
   },
   {
    "duration": 172,
    "start_time": "2022-09-21T15:14:38.910Z"
   },
   {
    "duration": 226,
    "start_time": "2022-09-21T15:14:39.083Z"
   },
   {
    "duration": 7,
    "start_time": "2022-09-21T15:14:39.311Z"
   },
   {
    "duration": 358,
    "start_time": "2022-09-21T15:14:39.320Z"
   },
   {
    "duration": 16,
    "start_time": "2022-09-21T15:14:39.680Z"
   },
   {
    "duration": 7,
    "start_time": "2022-09-21T15:14:39.698Z"
   },
   {
    "duration": 4,
    "start_time": "2022-09-21T15:14:39.707Z"
   },
   {
    "duration": 335,
    "start_time": "2022-09-21T15:14:39.712Z"
   },
   {
    "duration": 10,
    "start_time": "2022-09-21T15:14:40.048Z"
   },
   {
    "duration": 9,
    "start_time": "2022-09-21T15:14:40.060Z"
   },
   {
    "duration": 216,
    "start_time": "2022-09-21T15:14:40.071Z"
   },
   {
    "duration": 9,
    "start_time": "2022-09-21T15:14:40.295Z"
   },
   {
    "duration": 255,
    "start_time": "2022-09-21T15:14:40.306Z"
   },
   {
    "duration": 178,
    "start_time": "2022-09-21T15:14:40.563Z"
   },
   {
    "duration": 5,
    "start_time": "2022-09-21T15:14:40.743Z"
   },
   {
    "duration": 9,
    "start_time": "2022-09-21T15:14:40.749Z"
   },
   {
    "duration": 1457,
    "start_time": "2022-09-21T15:14:40.760Z"
   },
   {
    "duration": 85,
    "start_time": "2022-09-21T15:14:42.218Z"
   },
   {
    "duration": 17,
    "start_time": "2022-09-21T15:14:42.305Z"
   },
   {
    "duration": 228,
    "start_time": "2022-09-21T15:14:42.323Z"
   },
   {
    "duration": 8,
    "start_time": "2022-09-21T15:14:42.553Z"
   },
   {
    "duration": 432,
    "start_time": "2022-09-21T15:14:42.563Z"
   },
   {
    "duration": 523,
    "start_time": "2022-09-21T15:14:42.997Z"
   },
   {
    "duration": 447,
    "start_time": "2022-09-21T15:14:43.522Z"
   },
   {
    "duration": 409,
    "start_time": "2022-09-21T15:14:43.971Z"
   },
   {
    "duration": 434,
    "start_time": "2022-09-21T15:14:44.381Z"
   },
   {
    "duration": 417,
    "start_time": "2022-09-21T15:14:44.817Z"
   },
   {
    "duration": 11,
    "start_time": "2022-09-21T15:14:45.236Z"
   },
   {
    "duration": 4,
    "start_time": "2022-09-21T15:14:45.249Z"
   },
   {
    "duration": 13,
    "start_time": "2022-09-21T15:14:45.254Z"
   },
   {
    "duration": 31,
    "start_time": "2022-09-21T15:14:45.269Z"
   },
   {
    "duration": 4,
    "start_time": "2022-09-21T15:14:45.302Z"
   },
   {
    "duration": 13,
    "start_time": "2022-09-21T15:14:45.308Z"
   },
   {
    "duration": 1210,
    "start_time": "2022-09-21T15:16:30.981Z"
   },
   {
    "duration": 57,
    "start_time": "2022-09-21T15:16:32.193Z"
   },
   {
    "duration": 17,
    "start_time": "2022-09-21T15:16:32.252Z"
   },
   {
    "duration": 6,
    "start_time": "2022-09-21T15:16:32.271Z"
   },
   {
    "duration": 9,
    "start_time": "2022-09-21T15:16:32.278Z"
   },
   {
    "duration": 30,
    "start_time": "2022-09-21T15:16:32.288Z"
   },
   {
    "duration": 20,
    "start_time": "2022-09-21T15:16:32.320Z"
   },
   {
    "duration": 5,
    "start_time": "2022-09-21T15:16:32.342Z"
   },
   {
    "duration": 79,
    "start_time": "2022-09-21T15:16:32.349Z"
   },
   {
    "duration": 9,
    "start_time": "2022-09-21T15:16:32.431Z"
   },
   {
    "duration": 21,
    "start_time": "2022-09-21T15:16:32.442Z"
   },
   {
    "duration": 42,
    "start_time": "2022-09-21T15:16:32.465Z"
   },
   {
    "duration": 22,
    "start_time": "2022-09-21T15:16:32.509Z"
   },
   {
    "duration": 22,
    "start_time": "2022-09-21T15:16:32.533Z"
   },
   {
    "duration": 7,
    "start_time": "2022-09-21T15:16:32.556Z"
   },
   {
    "duration": 39,
    "start_time": "2022-09-21T15:16:32.564Z"
   },
   {
    "duration": 7,
    "start_time": "2022-09-21T15:16:32.606Z"
   },
   {
    "duration": 19,
    "start_time": "2022-09-21T15:16:32.615Z"
   },
   {
    "duration": 5,
    "start_time": "2022-09-21T15:16:32.636Z"
   },
   {
    "duration": 16,
    "start_time": "2022-09-21T15:16:32.643Z"
   },
   {
    "duration": 406,
    "start_time": "2022-09-21T15:16:32.661Z"
   },
   {
    "duration": 5,
    "start_time": "2022-09-21T15:16:33.068Z"
   },
   {
    "duration": 32,
    "start_time": "2022-09-21T15:16:33.074Z"
   },
   {
    "duration": 10,
    "start_time": "2022-09-21T15:16:33.108Z"
   },
   {
    "duration": 8,
    "start_time": "2022-09-21T15:16:33.119Z"
   },
   {
    "duration": 11,
    "start_time": "2022-09-21T15:16:33.128Z"
   },
   {
    "duration": 26,
    "start_time": "2022-09-21T15:16:33.140Z"
   },
   {
    "duration": 7,
    "start_time": "2022-09-21T15:16:33.195Z"
   },
   {
    "duration": 170,
    "start_time": "2022-09-21T15:16:33.204Z"
   },
   {
    "duration": 221,
    "start_time": "2022-09-21T15:16:33.376Z"
   },
   {
    "duration": 7,
    "start_time": "2022-09-21T15:16:33.599Z"
   },
   {
    "duration": 370,
    "start_time": "2022-09-21T15:16:33.608Z"
   },
   {
    "duration": 20,
    "start_time": "2022-09-21T15:16:33.979Z"
   },
   {
    "duration": 7,
    "start_time": "2022-09-21T15:16:34.001Z"
   },
   {
    "duration": 5,
    "start_time": "2022-09-21T15:16:34.010Z"
   },
   {
    "duration": 328,
    "start_time": "2022-09-21T15:16:34.017Z"
   },
   {
    "duration": 8,
    "start_time": "2022-09-21T15:16:34.347Z"
   },
   {
    "duration": 14,
    "start_time": "2022-09-21T15:16:34.357Z"
   },
   {
    "duration": 219,
    "start_time": "2022-09-21T15:16:34.373Z"
   },
   {
    "duration": 9,
    "start_time": "2022-09-21T15:16:34.595Z"
   },
   {
    "duration": 258,
    "start_time": "2022-09-21T15:16:34.606Z"
   },
   {
    "duration": 182,
    "start_time": "2022-09-21T15:16:34.867Z"
   },
   {
    "duration": 6,
    "start_time": "2022-09-21T15:16:35.051Z"
   },
   {
    "duration": 11,
    "start_time": "2022-09-21T15:16:35.059Z"
   },
   {
    "duration": 1426,
    "start_time": "2022-09-21T15:16:35.072Z"
   },
   {
    "duration": 82,
    "start_time": "2022-09-21T15:16:36.499Z"
   },
   {
    "duration": 24,
    "start_time": "2022-09-21T15:16:36.596Z"
   },
   {
    "duration": 289,
    "start_time": "2022-09-21T15:16:36.622Z"
   },
   {
    "duration": 9,
    "start_time": "2022-09-21T15:16:36.913Z"
   },
   {
    "duration": 463,
    "start_time": "2022-09-21T15:16:36.924Z"
   },
   {
    "duration": 530,
    "start_time": "2022-09-21T15:16:37.388Z"
   },
   {
    "duration": 465,
    "start_time": "2022-09-21T15:16:37.920Z"
   },
   {
    "duration": 441,
    "start_time": "2022-09-21T15:16:38.386Z"
   },
   {
    "duration": 459,
    "start_time": "2022-09-21T15:16:38.829Z"
   },
   {
    "duration": 431,
    "start_time": "2022-09-21T15:16:39.289Z"
   },
   {
    "duration": 12,
    "start_time": "2022-09-21T15:16:39.721Z"
   },
   {
    "duration": 4,
    "start_time": "2022-09-21T15:16:39.735Z"
   },
   {
    "duration": 10,
    "start_time": "2022-09-21T15:16:39.741Z"
   },
   {
    "duration": 16,
    "start_time": "2022-09-21T15:16:39.752Z"
   },
   {
    "duration": 28,
    "start_time": "2022-09-21T15:16:39.769Z"
   },
   {
    "duration": 9,
    "start_time": "2022-09-21T15:16:39.799Z"
   },
   {
    "duration": 1164,
    "start_time": "2022-09-21T15:19:00.444Z"
   },
   {
    "duration": 55,
    "start_time": "2022-09-21T15:19:01.609Z"
   },
   {
    "duration": 15,
    "start_time": "2022-09-21T15:19:01.665Z"
   },
   {
    "duration": 3,
    "start_time": "2022-09-21T15:19:01.682Z"
   },
   {
    "duration": 10,
    "start_time": "2022-09-21T15:19:01.687Z"
   },
   {
    "duration": 32,
    "start_time": "2022-09-21T15:19:01.699Z"
   },
   {
    "duration": 25,
    "start_time": "2022-09-21T15:19:01.733Z"
   },
   {
    "duration": 6,
    "start_time": "2022-09-21T15:19:01.759Z"
   },
   {
    "duration": 79,
    "start_time": "2022-09-21T15:19:01.767Z"
   },
   {
    "duration": 9,
    "start_time": "2022-09-21T15:19:01.848Z"
   },
   {
    "duration": 36,
    "start_time": "2022-09-21T15:19:01.859Z"
   },
   {
    "duration": 36,
    "start_time": "2022-09-21T15:19:01.897Z"
   },
   {
    "duration": 22,
    "start_time": "2022-09-21T15:19:01.935Z"
   },
   {
    "duration": 22,
    "start_time": "2022-09-21T15:19:01.960Z"
   },
   {
    "duration": 8,
    "start_time": "2022-09-21T15:19:01.994Z"
   },
   {
    "duration": 25,
    "start_time": "2022-09-21T15:19:02.005Z"
   },
   {
    "duration": 11,
    "start_time": "2022-09-21T15:19:02.032Z"
   },
   {
    "duration": 25,
    "start_time": "2022-09-21T15:19:02.045Z"
   },
   {
    "duration": 10,
    "start_time": "2022-09-21T15:19:02.072Z"
   },
   {
    "duration": 44,
    "start_time": "2022-09-21T15:19:02.084Z"
   },
   {
    "duration": 404,
    "start_time": "2022-09-21T15:19:02.130Z"
   },
   {
    "duration": 4,
    "start_time": "2022-09-21T15:19:02.536Z"
   },
   {
    "duration": 29,
    "start_time": "2022-09-21T15:19:02.542Z"
   },
   {
    "duration": 13,
    "start_time": "2022-09-21T15:19:02.573Z"
   },
   {
    "duration": 16,
    "start_time": "2022-09-21T15:19:02.588Z"
   },
   {
    "duration": 10,
    "start_time": "2022-09-21T15:19:02.606Z"
   },
   {
    "duration": 34,
    "start_time": "2022-09-21T15:19:02.618Z"
   },
   {
    "duration": 8,
    "start_time": "2022-09-21T15:19:02.653Z"
   },
   {
    "duration": 170,
    "start_time": "2022-09-21T15:19:02.662Z"
   },
   {
    "duration": 241,
    "start_time": "2022-09-21T15:19:02.835Z"
   },
   {
    "duration": 8,
    "start_time": "2022-09-21T15:19:03.078Z"
   },
   {
    "duration": 341,
    "start_time": "2022-09-21T15:19:03.094Z"
   },
   {
    "duration": 13,
    "start_time": "2022-09-21T15:19:03.437Z"
   },
   {
    "duration": 7,
    "start_time": "2022-09-21T15:19:03.451Z"
   },
   {
    "duration": 21,
    "start_time": "2022-09-21T15:19:03.460Z"
   },
   {
    "duration": 335,
    "start_time": "2022-09-21T15:19:03.483Z"
   },
   {
    "duration": 9,
    "start_time": "2022-09-21T15:19:03.820Z"
   },
   {
    "duration": 35,
    "start_time": "2022-09-21T15:19:03.831Z"
   },
   {
    "duration": 230,
    "start_time": "2022-09-21T15:19:03.868Z"
   },
   {
    "duration": 8,
    "start_time": "2022-09-21T15:19:04.100Z"
   },
   {
    "duration": 243,
    "start_time": "2022-09-21T15:19:04.112Z"
   },
   {
    "duration": 177,
    "start_time": "2022-09-21T15:19:04.357Z"
   },
   {
    "duration": 5,
    "start_time": "2022-09-21T15:19:04.536Z"
   },
   {
    "duration": 23,
    "start_time": "2022-09-21T15:19:04.542Z"
   },
   {
    "duration": 1415,
    "start_time": "2022-09-21T15:19:04.567Z"
   },
   {
    "duration": 67,
    "start_time": "2022-09-21T15:19:05.983Z"
   },
   {
    "duration": 17,
    "start_time": "2022-09-21T15:19:06.052Z"
   },
   {
    "duration": 240,
    "start_time": "2022-09-21T15:19:06.071Z"
   },
   {
    "duration": 9,
    "start_time": "2022-09-21T15:19:06.313Z"
   },
   {
    "duration": 493,
    "start_time": "2022-09-21T15:19:06.323Z"
   },
   {
    "duration": 532,
    "start_time": "2022-09-21T15:19:06.818Z"
   },
   {
    "duration": 435,
    "start_time": "2022-09-21T15:19:07.352Z"
   },
   {
    "duration": 452,
    "start_time": "2022-09-21T15:19:07.789Z"
   },
   {
    "duration": 441,
    "start_time": "2022-09-21T15:19:08.243Z"
   },
   {
    "duration": 424,
    "start_time": "2022-09-21T15:19:08.686Z"
   },
   {
    "duration": 11,
    "start_time": "2022-09-21T15:19:09.112Z"
   },
   {
    "duration": 3,
    "start_time": "2022-09-21T15:19:09.125Z"
   },
   {
    "duration": 8,
    "start_time": "2022-09-21T15:19:09.130Z"
   },
   {
    "duration": 13,
    "start_time": "2022-09-21T15:19:09.140Z"
   },
   {
    "duration": 6,
    "start_time": "2022-09-21T15:19:09.154Z"
   },
   {
    "duration": 35,
    "start_time": "2022-09-21T15:19:09.161Z"
   },
   {
    "duration": 219,
    "start_time": "2022-09-21T15:27:34.678Z"
   },
   {
    "duration": 274,
    "start_time": "2022-09-21T15:27:50.198Z"
   },
   {
    "duration": 1222,
    "start_time": "2022-09-21T15:27:59.898Z"
   },
   {
    "duration": 56,
    "start_time": "2022-09-21T15:28:01.122Z"
   },
   {
    "duration": 15,
    "start_time": "2022-09-21T15:28:01.183Z"
   },
   {
    "duration": 54,
    "start_time": "2022-09-21T15:28:01.200Z"
   },
   {
    "duration": 16,
    "start_time": "2022-09-21T15:28:01.256Z"
   },
   {
    "duration": 38,
    "start_time": "2022-09-21T15:28:01.273Z"
   },
   {
    "duration": 20,
    "start_time": "2022-09-21T15:28:01.312Z"
   },
   {
    "duration": 4,
    "start_time": "2022-09-21T15:28:01.335Z"
   },
   {
    "duration": 81,
    "start_time": "2022-09-21T15:28:01.343Z"
   },
   {
    "duration": 10,
    "start_time": "2022-09-21T15:28:01.427Z"
   },
   {
    "duration": 33,
    "start_time": "2022-09-21T15:28:01.439Z"
   },
   {
    "duration": 32,
    "start_time": "2022-09-21T15:28:01.474Z"
   },
   {
    "duration": 24,
    "start_time": "2022-09-21T15:28:01.508Z"
   },
   {
    "duration": 26,
    "start_time": "2022-09-21T15:28:01.533Z"
   },
   {
    "duration": 34,
    "start_time": "2022-09-21T15:28:01.561Z"
   },
   {
    "duration": 14,
    "start_time": "2022-09-21T15:28:01.597Z"
   },
   {
    "duration": 12,
    "start_time": "2022-09-21T15:28:01.613Z"
   },
   {
    "duration": 25,
    "start_time": "2022-09-21T15:28:01.627Z"
   },
   {
    "duration": 6,
    "start_time": "2022-09-21T15:28:01.654Z"
   },
   {
    "duration": 35,
    "start_time": "2022-09-21T15:28:01.662Z"
   },
   {
    "duration": 355,
    "start_time": "2022-09-21T15:28:01.698Z"
   },
   {
    "duration": 5,
    "start_time": "2022-09-21T15:28:02.055Z"
   },
   {
    "duration": 38,
    "start_time": "2022-09-21T15:28:02.061Z"
   },
   {
    "duration": 17,
    "start_time": "2022-09-21T15:28:02.101Z"
   },
   {
    "duration": 16,
    "start_time": "2022-09-21T15:28:02.120Z"
   },
   {
    "duration": 7,
    "start_time": "2022-09-21T15:28:02.138Z"
   },
   {
    "duration": 25,
    "start_time": "2022-09-21T15:28:02.150Z"
   },
   {
    "duration": 24,
    "start_time": "2022-09-21T15:28:02.177Z"
   },
   {
    "duration": 178,
    "start_time": "2022-09-21T15:28:02.203Z"
   },
   {
    "duration": 214,
    "start_time": "2022-09-21T15:28:02.383Z"
   },
   {
    "duration": 8,
    "start_time": "2022-09-21T15:28:02.599Z"
   },
   {
    "duration": 362,
    "start_time": "2022-09-21T15:28:02.608Z"
   },
   {
    "duration": 23,
    "start_time": "2022-09-21T15:28:02.972Z"
   },
   {
    "duration": 7,
    "start_time": "2022-09-21T15:28:02.997Z"
   },
   {
    "duration": 12,
    "start_time": "2022-09-21T15:28:03.006Z"
   },
   {
    "duration": 305,
    "start_time": "2022-09-21T15:28:03.019Z"
   },
   {
    "duration": 10,
    "start_time": "2022-09-21T15:28:03.326Z"
   },
   {
    "duration": 27,
    "start_time": "2022-09-21T15:28:03.337Z"
   },
   {
    "duration": 225,
    "start_time": "2022-09-21T15:28:03.366Z"
   },
   {
    "duration": 7,
    "start_time": "2022-09-21T15:28:03.595Z"
   },
   {
    "duration": 244,
    "start_time": "2022-09-21T15:28:03.604Z"
   },
   {
    "duration": 161,
    "start_time": "2022-09-21T15:28:03.849Z"
   },
   {
    "duration": 5,
    "start_time": "2022-09-21T15:28:04.011Z"
   },
   {
    "duration": 9,
    "start_time": "2022-09-21T15:28:04.018Z"
   },
   {
    "duration": 1335,
    "start_time": "2022-09-21T15:28:04.029Z"
   },
   {
    "duration": 76,
    "start_time": "2022-09-21T15:28:05.366Z"
   },
   {
    "duration": 19,
    "start_time": "2022-09-21T15:28:05.445Z"
   },
   {
    "duration": 247,
    "start_time": "2022-09-21T15:28:05.466Z"
   },
   {
    "duration": 8,
    "start_time": "2022-09-21T15:28:05.716Z"
   },
   {
    "duration": 445,
    "start_time": "2022-09-21T15:28:05.726Z"
   },
   {
    "duration": 575,
    "start_time": "2022-09-21T15:28:06.173Z"
   },
   {
    "duration": 463,
    "start_time": "2022-09-21T15:28:06.751Z"
   },
   {
    "duration": 431,
    "start_time": "2022-09-21T15:28:07.216Z"
   },
   {
    "duration": 466,
    "start_time": "2022-09-21T15:28:07.648Z"
   },
   {
    "duration": 415,
    "start_time": "2022-09-21T15:28:08.116Z"
   },
   {
    "duration": 11,
    "start_time": "2022-09-21T15:28:08.533Z"
   },
   {
    "duration": 5,
    "start_time": "2022-09-21T15:28:08.545Z"
   },
   {
    "duration": 12,
    "start_time": "2022-09-21T15:28:08.551Z"
   },
   {
    "duration": 12,
    "start_time": "2022-09-21T15:28:08.564Z"
   },
   {
    "duration": 4,
    "start_time": "2022-09-21T15:28:08.595Z"
   },
   {
    "duration": 6,
    "start_time": "2022-09-21T15:28:08.601Z"
   },
   {
    "duration": 221,
    "start_time": "2022-09-21T15:28:18.968Z"
   },
   {
    "duration": 1153,
    "start_time": "2022-09-21T15:28:24.348Z"
   },
   {
    "duration": 55,
    "start_time": "2022-09-21T15:28:25.503Z"
   },
   {
    "duration": 16,
    "start_time": "2022-09-21T15:28:25.559Z"
   },
   {
    "duration": 6,
    "start_time": "2022-09-21T15:28:25.576Z"
   },
   {
    "duration": 11,
    "start_time": "2022-09-21T15:28:25.585Z"
   },
   {
    "duration": 25,
    "start_time": "2022-09-21T15:28:25.597Z"
   },
   {
    "duration": 17,
    "start_time": "2022-09-21T15:28:25.624Z"
   },
   {
    "duration": 3,
    "start_time": "2022-09-21T15:28:25.643Z"
   },
   {
    "duration": 70,
    "start_time": "2022-09-21T15:28:25.648Z"
   },
   {
    "duration": 8,
    "start_time": "2022-09-21T15:28:25.720Z"
   },
   {
    "duration": 21,
    "start_time": "2022-09-21T15:28:25.729Z"
   },
   {
    "duration": 23,
    "start_time": "2022-09-21T15:28:25.751Z"
   },
   {
    "duration": 21,
    "start_time": "2022-09-21T15:28:25.796Z"
   },
   {
    "duration": 22,
    "start_time": "2022-09-21T15:28:25.820Z"
   },
   {
    "duration": 9,
    "start_time": "2022-09-21T15:28:25.844Z"
   },
   {
    "duration": 12,
    "start_time": "2022-09-21T15:28:25.854Z"
   },
   {
    "duration": 31,
    "start_time": "2022-09-21T15:28:25.868Z"
   },
   {
    "duration": 19,
    "start_time": "2022-09-21T15:28:25.900Z"
   },
   {
    "duration": 4,
    "start_time": "2022-09-21T15:28:25.921Z"
   },
   {
    "duration": 27,
    "start_time": "2022-09-21T15:28:25.926Z"
   },
   {
    "duration": 371,
    "start_time": "2022-09-21T15:28:25.955Z"
   },
   {
    "duration": 4,
    "start_time": "2022-09-21T15:28:26.328Z"
   },
   {
    "duration": 19,
    "start_time": "2022-09-21T15:28:26.334Z"
   },
   {
    "duration": 10,
    "start_time": "2022-09-21T15:28:26.355Z"
   },
   {
    "duration": 5,
    "start_time": "2022-09-21T15:28:26.367Z"
   },
   {
    "duration": 4,
    "start_time": "2022-09-21T15:28:26.395Z"
   },
   {
    "duration": 26,
    "start_time": "2022-09-21T15:28:26.401Z"
   },
   {
    "duration": 6,
    "start_time": "2022-09-21T15:28:26.428Z"
   },
   {
    "duration": 231,
    "start_time": "2022-09-21T15:28:26.436Z"
   },
   {
    "duration": 238,
    "start_time": "2022-09-21T15:28:26.669Z"
   },
   {
    "duration": 7,
    "start_time": "2022-09-21T15:28:26.909Z"
   },
   {
    "duration": 355,
    "start_time": "2022-09-21T15:28:26.918Z"
   },
   {
    "duration": 20,
    "start_time": "2022-09-21T15:28:27.275Z"
   },
   {
    "duration": 8,
    "start_time": "2022-09-21T15:28:27.296Z"
   },
   {
    "duration": 8,
    "start_time": "2022-09-21T15:28:27.305Z"
   },
   {
    "duration": 322,
    "start_time": "2022-09-21T15:28:27.314Z"
   },
   {
    "duration": 9,
    "start_time": "2022-09-21T15:28:27.637Z"
   },
   {
    "duration": 11,
    "start_time": "2022-09-21T15:28:27.648Z"
   },
   {
    "duration": 242,
    "start_time": "2022-09-21T15:28:27.661Z"
   },
   {
    "duration": 9,
    "start_time": "2022-09-21T15:28:27.904Z"
   },
   {
    "duration": 278,
    "start_time": "2022-09-21T15:28:27.917Z"
   },
   {
    "duration": 185,
    "start_time": "2022-09-21T15:28:28.196Z"
   },
   {
    "duration": 13,
    "start_time": "2022-09-21T15:28:28.383Z"
   },
   {
    "duration": 9,
    "start_time": "2022-09-21T15:28:28.397Z"
   },
   {
    "duration": 1353,
    "start_time": "2022-09-21T15:28:28.407Z"
   },
   {
    "duration": 75,
    "start_time": "2022-09-21T15:28:29.762Z"
   },
   {
    "duration": 16,
    "start_time": "2022-09-21T15:28:29.839Z"
   },
   {
    "duration": 238,
    "start_time": "2022-09-21T15:28:29.857Z"
   },
   {
    "duration": 9,
    "start_time": "2022-09-21T15:28:30.096Z"
   },
   {
    "duration": 443,
    "start_time": "2022-09-21T15:28:30.107Z"
   },
   {
    "duration": 547,
    "start_time": "2022-09-21T15:28:30.552Z"
   },
   {
    "duration": 437,
    "start_time": "2022-09-21T15:28:31.101Z"
   },
   {
    "duration": 441,
    "start_time": "2022-09-21T15:28:31.539Z"
   },
   {
    "duration": 443,
    "start_time": "2022-09-21T15:28:31.981Z"
   },
   {
    "duration": 426,
    "start_time": "2022-09-21T15:28:32.425Z"
   },
   {
    "duration": 15,
    "start_time": "2022-09-21T15:28:32.853Z"
   },
   {
    "duration": 7,
    "start_time": "2022-09-21T15:28:32.870Z"
   },
   {
    "duration": 20,
    "start_time": "2022-09-21T15:28:32.879Z"
   },
   {
    "duration": 16,
    "start_time": "2022-09-21T15:28:32.900Z"
   },
   {
    "duration": 4,
    "start_time": "2022-09-21T15:28:32.919Z"
   },
   {
    "duration": 7,
    "start_time": "2022-09-21T15:28:32.924Z"
   },
   {
    "duration": 1210,
    "start_time": "2022-09-21T15:28:41.699Z"
   },
   {
    "duration": 66,
    "start_time": "2022-09-21T15:28:42.910Z"
   },
   {
    "duration": 19,
    "start_time": "2022-09-21T15:28:42.978Z"
   },
   {
    "duration": 3,
    "start_time": "2022-09-21T15:28:43.000Z"
   },
   {
    "duration": 8,
    "start_time": "2022-09-21T15:28:43.005Z"
   },
   {
    "duration": 25,
    "start_time": "2022-09-21T15:28:43.015Z"
   },
   {
    "duration": 19,
    "start_time": "2022-09-21T15:28:43.042Z"
   },
   {
    "duration": 4,
    "start_time": "2022-09-21T15:28:43.062Z"
   },
   {
    "duration": 82,
    "start_time": "2022-09-21T15:28:43.067Z"
   },
   {
    "duration": 9,
    "start_time": "2022-09-21T15:28:43.151Z"
   },
   {
    "duration": 41,
    "start_time": "2022-09-21T15:28:43.161Z"
   },
   {
    "duration": 22,
    "start_time": "2022-09-21T15:28:43.204Z"
   },
   {
    "duration": 22,
    "start_time": "2022-09-21T15:28:43.228Z"
   },
   {
    "duration": 45,
    "start_time": "2022-09-21T15:28:43.251Z"
   },
   {
    "duration": 7,
    "start_time": "2022-09-21T15:28:43.298Z"
   },
   {
    "duration": 14,
    "start_time": "2022-09-21T15:28:43.306Z"
   },
   {
    "duration": 6,
    "start_time": "2022-09-21T15:28:43.322Z"
   },
   {
    "duration": 18,
    "start_time": "2022-09-21T15:28:43.330Z"
   },
   {
    "duration": 4,
    "start_time": "2022-09-21T15:28:43.350Z"
   },
   {
    "duration": 45,
    "start_time": "2022-09-21T15:28:43.355Z"
   },
   {
    "duration": 333,
    "start_time": "2022-09-21T15:28:43.402Z"
   },
   {
    "duration": 4,
    "start_time": "2022-09-21T15:28:43.737Z"
   },
   {
    "duration": 20,
    "start_time": "2022-09-21T15:28:43.742Z"
   },
   {
    "duration": 10,
    "start_time": "2022-09-21T15:28:43.764Z"
   },
   {
    "duration": 19,
    "start_time": "2022-09-21T15:28:43.776Z"
   },
   {
    "duration": 4,
    "start_time": "2022-09-21T15:28:43.797Z"
   },
   {
    "duration": 22,
    "start_time": "2022-09-21T15:28:43.802Z"
   },
   {
    "duration": 5,
    "start_time": "2022-09-21T15:28:43.828Z"
   },
   {
    "duration": 173,
    "start_time": "2022-09-21T15:28:43.835Z"
   },
   {
    "duration": 212,
    "start_time": "2022-09-21T15:28:44.010Z"
   },
   {
    "duration": 8,
    "start_time": "2022-09-21T15:28:44.224Z"
   },
   {
    "duration": 349,
    "start_time": "2022-09-21T15:28:44.234Z"
   },
   {
    "duration": 21,
    "start_time": "2022-09-21T15:28:44.585Z"
   },
   {
    "duration": 7,
    "start_time": "2022-09-21T15:28:44.608Z"
   },
   {
    "duration": 6,
    "start_time": "2022-09-21T15:28:44.617Z"
   },
   {
    "duration": 364,
    "start_time": "2022-09-21T15:28:44.624Z"
   },
   {
    "duration": 10,
    "start_time": "2022-09-21T15:28:44.991Z"
   },
   {
    "duration": 10,
    "start_time": "2022-09-21T15:28:45.002Z"
   },
   {
    "duration": 244,
    "start_time": "2022-09-21T15:28:45.014Z"
   },
   {
    "duration": 10,
    "start_time": "2022-09-21T15:28:45.260Z"
   },
   {
    "duration": 266,
    "start_time": "2022-09-21T15:28:45.272Z"
   },
   {
    "duration": 187,
    "start_time": "2022-09-21T15:28:45.540Z"
   },
   {
    "duration": 5,
    "start_time": "2022-09-21T15:28:45.730Z"
   },
   {
    "duration": 10,
    "start_time": "2022-09-21T15:28:45.737Z"
   },
   {
    "duration": 1360,
    "start_time": "2022-09-21T15:28:45.749Z"
   },
   {
    "duration": 58,
    "start_time": "2022-09-21T15:28:47.111Z"
   },
   {
    "duration": 38,
    "start_time": "2022-09-21T15:28:47.171Z"
   },
   {
    "duration": 219,
    "start_time": "2022-09-21T15:28:47.211Z"
   },
   {
    "duration": 8,
    "start_time": "2022-09-21T15:28:47.431Z"
   },
   {
    "duration": 425,
    "start_time": "2022-09-21T15:28:47.441Z"
   },
   {
    "duration": 520,
    "start_time": "2022-09-21T15:28:47.868Z"
   },
   {
    "duration": 436,
    "start_time": "2022-09-21T15:28:48.390Z"
   },
   {
    "duration": 429,
    "start_time": "2022-09-21T15:28:48.831Z"
   },
   {
    "duration": 429,
    "start_time": "2022-09-21T15:28:49.261Z"
   },
   {
    "duration": 414,
    "start_time": "2022-09-21T15:28:49.694Z"
   },
   {
    "duration": 11,
    "start_time": "2022-09-21T15:28:50.109Z"
   },
   {
    "duration": 7,
    "start_time": "2022-09-21T15:28:50.122Z"
   },
   {
    "duration": 9,
    "start_time": "2022-09-21T15:28:50.131Z"
   },
   {
    "duration": 11,
    "start_time": "2022-09-21T15:28:50.142Z"
   },
   {
    "duration": 4,
    "start_time": "2022-09-21T15:28:50.155Z"
   },
   {
    "duration": 17,
    "start_time": "2022-09-21T15:28:50.160Z"
   },
   {
    "duration": 1231,
    "start_time": "2022-09-21T15:29:41.791Z"
   },
   {
    "duration": 53,
    "start_time": "2022-09-21T15:29:43.024Z"
   },
   {
    "duration": 15,
    "start_time": "2022-09-21T15:29:43.078Z"
   },
   {
    "duration": 6,
    "start_time": "2022-09-21T15:29:43.095Z"
   },
   {
    "duration": 8,
    "start_time": "2022-09-21T15:29:43.102Z"
   },
   {
    "duration": 29,
    "start_time": "2022-09-21T15:29:43.112Z"
   },
   {
    "duration": 18,
    "start_time": "2022-09-21T15:29:43.142Z"
   },
   {
    "duration": 4,
    "start_time": "2022-09-21T15:29:43.162Z"
   },
   {
    "duration": 75,
    "start_time": "2022-09-21T15:29:43.168Z"
   },
   {
    "duration": 10,
    "start_time": "2022-09-21T15:29:43.247Z"
   },
   {
    "duration": 41,
    "start_time": "2022-09-21T15:29:43.259Z"
   },
   {
    "duration": 25,
    "start_time": "2022-09-21T15:29:43.302Z"
   },
   {
    "duration": 22,
    "start_time": "2022-09-21T15:29:43.329Z"
   },
   {
    "duration": 45,
    "start_time": "2022-09-21T15:29:43.352Z"
   },
   {
    "duration": 7,
    "start_time": "2022-09-21T15:29:43.399Z"
   },
   {
    "duration": 14,
    "start_time": "2022-09-21T15:29:43.408Z"
   },
   {
    "duration": 6,
    "start_time": "2022-09-21T15:29:43.423Z"
   },
   {
    "duration": 20,
    "start_time": "2022-09-21T15:29:43.430Z"
   },
   {
    "duration": 4,
    "start_time": "2022-09-21T15:29:43.452Z"
   },
   {
    "duration": 48,
    "start_time": "2022-09-21T15:29:43.458Z"
   },
   {
    "duration": 347,
    "start_time": "2022-09-21T15:29:43.508Z"
   },
   {
    "duration": 5,
    "start_time": "2022-09-21T15:29:43.857Z"
   },
   {
    "duration": 31,
    "start_time": "2022-09-21T15:29:43.864Z"
   },
   {
    "duration": 8,
    "start_time": "2022-09-21T15:29:43.897Z"
   },
   {
    "duration": 11,
    "start_time": "2022-09-21T15:29:43.907Z"
   },
   {
    "duration": 6,
    "start_time": "2022-09-21T15:29:43.919Z"
   },
   {
    "duration": 23,
    "start_time": "2022-09-21T15:29:43.926Z"
   },
   {
    "duration": 7,
    "start_time": "2022-09-21T15:29:43.953Z"
   },
   {
    "duration": 185,
    "start_time": "2022-09-21T15:29:43.961Z"
   },
   {
    "duration": 206,
    "start_time": "2022-09-21T15:29:44.147Z"
   },
   {
    "duration": 8,
    "start_time": "2022-09-21T15:29:44.356Z"
   },
   {
    "duration": 367,
    "start_time": "2022-09-21T15:29:44.366Z"
   },
   {
    "duration": 13,
    "start_time": "2022-09-21T15:29:44.735Z"
   },
   {
    "duration": 7,
    "start_time": "2022-09-21T15:29:44.751Z"
   },
   {
    "duration": 6,
    "start_time": "2022-09-21T15:29:44.760Z"
   },
   {
    "duration": 374,
    "start_time": "2022-09-21T15:29:44.770Z"
   },
   {
    "duration": 8,
    "start_time": "2022-09-21T15:29:45.146Z"
   },
   {
    "duration": 8,
    "start_time": "2022-09-21T15:29:45.156Z"
   },
   {
    "duration": 225,
    "start_time": "2022-09-21T15:29:45.166Z"
   },
   {
    "duration": 8,
    "start_time": "2022-09-21T15:29:45.393Z"
   },
   {
    "duration": 250,
    "start_time": "2022-09-21T15:29:45.402Z"
   },
   {
    "duration": 184,
    "start_time": "2022-09-21T15:29:45.654Z"
   },
   {
    "duration": 5,
    "start_time": "2022-09-21T15:29:45.840Z"
   },
   {
    "duration": 8,
    "start_time": "2022-09-21T15:29:45.847Z"
   },
   {
    "duration": 1396,
    "start_time": "2022-09-21T15:29:45.857Z"
   },
   {
    "duration": 78,
    "start_time": "2022-09-21T15:29:47.254Z"
   },
   {
    "duration": 17,
    "start_time": "2022-09-21T15:29:47.333Z"
   },
   {
    "duration": 232,
    "start_time": "2022-09-21T15:29:47.352Z"
   },
   {
    "duration": 11,
    "start_time": "2022-09-21T15:29:47.586Z"
   },
   {
    "duration": 436,
    "start_time": "2022-09-21T15:29:47.599Z"
   },
   {
    "duration": 533,
    "start_time": "2022-09-21T15:29:48.036Z"
   },
   {
    "duration": 430,
    "start_time": "2022-09-21T15:29:48.571Z"
   },
   {
    "duration": 413,
    "start_time": "2022-09-21T15:29:49.003Z"
   },
   {
    "duration": 435,
    "start_time": "2022-09-21T15:29:49.418Z"
   },
   {
    "duration": 424,
    "start_time": "2022-09-21T15:29:49.854Z"
   },
   {
    "duration": 19,
    "start_time": "2022-09-21T15:29:50.281Z"
   },
   {
    "duration": 4,
    "start_time": "2022-09-21T15:29:50.302Z"
   },
   {
    "duration": 9,
    "start_time": "2022-09-21T15:29:50.308Z"
   },
   {
    "duration": 12,
    "start_time": "2022-09-21T15:29:50.319Z"
   },
   {
    "duration": 4,
    "start_time": "2022-09-21T15:29:50.332Z"
   },
   {
    "duration": 7,
    "start_time": "2022-09-21T15:29:50.337Z"
   },
   {
    "duration": 1218,
    "start_time": "2022-09-21T15:30:09.974Z"
   },
   {
    "duration": 63,
    "start_time": "2022-09-21T15:30:11.194Z"
   },
   {
    "duration": 17,
    "start_time": "2022-09-21T15:30:11.259Z"
   },
   {
    "duration": 3,
    "start_time": "2022-09-21T15:30:11.278Z"
   },
   {
    "duration": 7,
    "start_time": "2022-09-21T15:30:11.283Z"
   },
   {
    "duration": 28,
    "start_time": "2022-09-21T15:30:11.292Z"
   },
   {
    "duration": 19,
    "start_time": "2022-09-21T15:30:11.321Z"
   },
   {
    "duration": 5,
    "start_time": "2022-09-21T15:30:11.342Z"
   },
   {
    "duration": 73,
    "start_time": "2022-09-21T15:30:11.348Z"
   },
   {
    "duration": 9,
    "start_time": "2022-09-21T15:30:11.424Z"
   },
   {
    "duration": 20,
    "start_time": "2022-09-21T15:30:11.434Z"
   },
   {
    "duration": 46,
    "start_time": "2022-09-21T15:30:11.456Z"
   },
   {
    "duration": 25,
    "start_time": "2022-09-21T15:30:11.504Z"
   },
   {
    "duration": 24,
    "start_time": "2022-09-21T15:30:11.531Z"
   },
   {
    "duration": 7,
    "start_time": "2022-09-21T15:30:11.557Z"
   },
   {
    "duration": 40,
    "start_time": "2022-09-21T15:30:11.565Z"
   },
   {
    "duration": 7,
    "start_time": "2022-09-21T15:30:11.607Z"
   },
   {
    "duration": 21,
    "start_time": "2022-09-21T15:30:11.616Z"
   },
   {
    "duration": 4,
    "start_time": "2022-09-21T15:30:11.640Z"
   },
   {
    "duration": 18,
    "start_time": "2022-09-21T15:30:11.646Z"
   },
   {
    "duration": 374,
    "start_time": "2022-09-21T15:30:11.666Z"
   },
   {
    "duration": 4,
    "start_time": "2022-09-21T15:30:12.042Z"
   },
   {
    "duration": 28,
    "start_time": "2022-09-21T15:30:12.047Z"
   },
   {
    "duration": 7,
    "start_time": "2022-09-21T15:30:12.076Z"
   },
   {
    "duration": 5,
    "start_time": "2022-09-21T15:30:12.094Z"
   },
   {
    "duration": 8,
    "start_time": "2022-09-21T15:30:12.100Z"
   },
   {
    "duration": 25,
    "start_time": "2022-09-21T15:30:12.110Z"
   },
   {
    "duration": 7,
    "start_time": "2022-09-21T15:30:12.139Z"
   },
   {
    "duration": 186,
    "start_time": "2022-09-21T15:30:12.147Z"
   },
   {
    "duration": 224,
    "start_time": "2022-09-21T15:30:12.335Z"
   },
   {
    "duration": 8,
    "start_time": "2022-09-21T15:30:12.560Z"
   },
   {
    "duration": 388,
    "start_time": "2022-09-21T15:30:12.569Z"
   },
   {
    "duration": 13,
    "start_time": "2022-09-21T15:30:12.959Z"
   },
   {
    "duration": 7,
    "start_time": "2022-09-21T15:30:12.974Z"
   },
   {
    "duration": 14,
    "start_time": "2022-09-21T15:30:12.982Z"
   },
   {
    "duration": 378,
    "start_time": "2022-09-21T15:30:12.998Z"
   },
   {
    "duration": 9,
    "start_time": "2022-09-21T15:30:13.378Z"
   },
   {
    "duration": 8,
    "start_time": "2022-09-21T15:30:13.389Z"
   },
   {
    "duration": 234,
    "start_time": "2022-09-21T15:30:13.399Z"
   },
   {
    "duration": 10,
    "start_time": "2022-09-21T15:30:13.635Z"
   },
   {
    "duration": 266,
    "start_time": "2022-09-21T15:30:13.646Z"
   },
   {
    "duration": 182,
    "start_time": "2022-09-21T15:30:13.914Z"
   },
   {
    "duration": 4,
    "start_time": "2022-09-21T15:30:14.098Z"
   },
   {
    "duration": 8,
    "start_time": "2022-09-21T15:30:14.104Z"
   },
   {
    "duration": 1328,
    "start_time": "2022-09-21T15:30:14.113Z"
   },
   {
    "duration": 72,
    "start_time": "2022-09-21T15:30:15.443Z"
   },
   {
    "duration": 18,
    "start_time": "2022-09-21T15:30:15.516Z"
   },
   {
    "duration": 247,
    "start_time": "2022-09-21T15:30:15.536Z"
   },
   {
    "duration": 16,
    "start_time": "2022-09-21T15:30:15.784Z"
   },
   {
    "duration": 436,
    "start_time": "2022-09-21T15:30:15.801Z"
   },
   {
    "duration": 610,
    "start_time": "2022-09-21T15:30:16.239Z"
   },
   {
    "duration": 450,
    "start_time": "2022-09-21T15:30:16.851Z"
   },
   {
    "duration": 440,
    "start_time": "2022-09-21T15:30:17.302Z"
   },
   {
    "duration": 475,
    "start_time": "2022-09-21T15:30:17.744Z"
   },
   {
    "duration": 409,
    "start_time": "2022-09-21T15:30:18.220Z"
   },
   {
    "duration": 12,
    "start_time": "2022-09-21T15:30:18.630Z"
   },
   {
    "duration": 20,
    "start_time": "2022-09-21T15:30:18.643Z"
   },
   {
    "duration": 21,
    "start_time": "2022-09-21T15:30:18.664Z"
   },
   {
    "duration": 18,
    "start_time": "2022-09-21T15:30:18.687Z"
   },
   {
    "duration": 9,
    "start_time": "2022-09-21T15:30:18.706Z"
   },
   {
    "duration": 12,
    "start_time": "2022-09-21T15:30:18.716Z"
   },
   {
    "duration": 1241,
    "start_time": "2022-09-21T15:30:55.977Z"
   },
   {
    "duration": 55,
    "start_time": "2022-09-21T15:30:57.220Z"
   },
   {
    "duration": 16,
    "start_time": "2022-09-21T15:30:57.277Z"
   },
   {
    "duration": 3,
    "start_time": "2022-09-21T15:30:57.296Z"
   },
   {
    "duration": 8,
    "start_time": "2022-09-21T15:30:57.300Z"
   },
   {
    "duration": 29,
    "start_time": "2022-09-21T15:30:57.310Z"
   },
   {
    "duration": 19,
    "start_time": "2022-09-21T15:30:57.341Z"
   },
   {
    "duration": 5,
    "start_time": "2022-09-21T15:30:57.362Z"
   },
   {
    "duration": 57,
    "start_time": "2022-09-21T15:30:57.396Z"
   },
   {
    "duration": 10,
    "start_time": "2022-09-21T15:30:57.457Z"
   },
   {
    "duration": 42,
    "start_time": "2022-09-21T15:30:57.469Z"
   },
   {
    "duration": 22,
    "start_time": "2022-09-21T15:30:57.513Z"
   },
   {
    "duration": 24,
    "start_time": "2022-09-21T15:30:57.537Z"
   },
   {
    "duration": 52,
    "start_time": "2022-09-21T15:30:57.563Z"
   },
   {
    "duration": 7,
    "start_time": "2022-09-21T15:30:57.617Z"
   },
   {
    "duration": 19,
    "start_time": "2022-09-21T15:30:57.626Z"
   },
   {
    "duration": 6,
    "start_time": "2022-09-21T15:30:57.647Z"
   },
   {
    "duration": 45,
    "start_time": "2022-09-21T15:30:57.655Z"
   },
   {
    "duration": 4,
    "start_time": "2022-09-21T15:30:57.702Z"
   },
   {
    "duration": 27,
    "start_time": "2022-09-21T15:30:57.707Z"
   },
   {
    "duration": 377,
    "start_time": "2022-09-21T15:30:57.736Z"
   },
   {
    "duration": 5,
    "start_time": "2022-09-21T15:30:58.114Z"
   },
   {
    "duration": 28,
    "start_time": "2022-09-21T15:30:58.120Z"
   },
   {
    "duration": 8,
    "start_time": "2022-09-21T15:30:58.150Z"
   },
   {
    "duration": 5,
    "start_time": "2022-09-21T15:30:58.160Z"
   },
   {
    "duration": 4,
    "start_time": "2022-09-21T15:30:58.167Z"
   },
   {
    "duration": 40,
    "start_time": "2022-09-21T15:30:58.173Z"
   },
   {
    "duration": 6,
    "start_time": "2022-09-21T15:30:58.217Z"
   },
   {
    "duration": 179,
    "start_time": "2022-09-21T15:30:58.225Z"
   },
   {
    "duration": 239,
    "start_time": "2022-09-21T15:30:58.406Z"
   },
   {
    "duration": 9,
    "start_time": "2022-09-21T15:30:58.647Z"
   },
   {
    "duration": 445,
    "start_time": "2022-09-21T15:30:58.658Z"
   },
   {
    "duration": 14,
    "start_time": "2022-09-21T15:30:59.105Z"
   },
   {
    "duration": 21,
    "start_time": "2022-09-21T15:30:59.120Z"
   },
   {
    "duration": 12,
    "start_time": "2022-09-21T15:30:59.144Z"
   },
   {
    "duration": 370,
    "start_time": "2022-09-21T15:30:59.158Z"
   },
   {
    "duration": 9,
    "start_time": "2022-09-21T15:30:59.530Z"
   },
   {
    "duration": 13,
    "start_time": "2022-09-21T15:30:59.540Z"
   },
   {
    "duration": 218,
    "start_time": "2022-09-21T15:30:59.555Z"
   },
   {
    "duration": 8,
    "start_time": "2022-09-21T15:30:59.775Z"
   },
   {
    "duration": 278,
    "start_time": "2022-09-21T15:30:59.794Z"
   },
   {
    "duration": 190,
    "start_time": "2022-09-21T15:31:00.074Z"
   },
   {
    "duration": 5,
    "start_time": "2022-09-21T15:31:00.266Z"
   },
   {
    "duration": 36,
    "start_time": "2022-09-21T15:31:00.272Z"
   },
   {
    "duration": 1432,
    "start_time": "2022-09-21T15:31:00.310Z"
   },
   {
    "duration": 80,
    "start_time": "2022-09-21T15:31:01.744Z"
   },
   {
    "duration": 18,
    "start_time": "2022-09-21T15:31:01.826Z"
   },
   {
    "duration": 260,
    "start_time": "2022-09-21T15:31:01.846Z"
   },
   {
    "duration": 9,
    "start_time": "2022-09-21T15:31:02.108Z"
   },
   {
    "duration": 457,
    "start_time": "2022-09-21T15:31:02.119Z"
   },
   {
    "duration": 552,
    "start_time": "2022-09-21T15:31:02.578Z"
   },
   {
    "duration": 460,
    "start_time": "2022-09-21T15:31:03.132Z"
   },
   {
    "duration": 439,
    "start_time": "2022-09-21T15:31:03.595Z"
   },
   {
    "duration": 429,
    "start_time": "2022-09-21T15:31:04.035Z"
   },
   {
    "duration": 416,
    "start_time": "2022-09-21T15:31:04.466Z"
   },
   {
    "duration": 17,
    "start_time": "2022-09-21T15:31:04.884Z"
   },
   {
    "duration": 3,
    "start_time": "2022-09-21T15:31:04.903Z"
   },
   {
    "duration": 10,
    "start_time": "2022-09-21T15:31:04.908Z"
   },
   {
    "duration": 14,
    "start_time": "2022-09-21T15:31:04.919Z"
   },
   {
    "duration": 4,
    "start_time": "2022-09-21T15:31:04.935Z"
   },
   {
    "duration": 7,
    "start_time": "2022-09-21T15:31:04.941Z"
   },
   {
    "duration": 1150,
    "start_time": "2022-09-21T15:31:48.356Z"
   },
   {
    "duration": 54,
    "start_time": "2022-09-21T15:31:49.508Z"
   },
   {
    "duration": 14,
    "start_time": "2022-09-21T15:31:49.564Z"
   },
   {
    "duration": 3,
    "start_time": "2022-09-21T15:31:49.580Z"
   },
   {
    "duration": 9,
    "start_time": "2022-09-21T15:31:49.585Z"
   },
   {
    "duration": 28,
    "start_time": "2022-09-21T15:31:49.596Z"
   },
   {
    "duration": 19,
    "start_time": "2022-09-21T15:31:49.626Z"
   },
   {
    "duration": 4,
    "start_time": "2022-09-21T15:31:49.647Z"
   },
   {
    "duration": 69,
    "start_time": "2022-09-21T15:31:49.653Z"
   },
   {
    "duration": 10,
    "start_time": "2022-09-21T15:31:49.724Z"
   },
   {
    "duration": 24,
    "start_time": "2022-09-21T15:31:49.735Z"
   },
   {
    "duration": 42,
    "start_time": "2022-09-21T15:31:49.761Z"
   },
   {
    "duration": 22,
    "start_time": "2022-09-21T15:31:49.804Z"
   },
   {
    "duration": 22,
    "start_time": "2022-09-21T15:31:49.827Z"
   },
   {
    "duration": 10,
    "start_time": "2022-09-21T15:31:49.850Z"
   },
   {
    "duration": 37,
    "start_time": "2022-09-21T15:31:49.861Z"
   },
   {
    "duration": 7,
    "start_time": "2022-09-21T15:31:49.899Z"
   },
   {
    "duration": 22,
    "start_time": "2022-09-21T15:31:49.908Z"
   },
   {
    "duration": 4,
    "start_time": "2022-09-21T15:31:49.932Z"
   },
   {
    "duration": 17,
    "start_time": "2022-09-21T15:31:49.938Z"
   },
   {
    "duration": 361,
    "start_time": "2022-09-21T15:31:49.957Z"
   },
   {
    "duration": 4,
    "start_time": "2022-09-21T15:31:50.320Z"
   },
   {
    "duration": 23,
    "start_time": "2022-09-21T15:31:50.326Z"
   },
   {
    "duration": 7,
    "start_time": "2022-09-21T15:31:50.351Z"
   },
   {
    "duration": 7,
    "start_time": "2022-09-21T15:31:50.360Z"
   },
   {
    "duration": 29,
    "start_time": "2022-09-21T15:31:50.369Z"
   },
   {
    "duration": 25,
    "start_time": "2022-09-21T15:31:50.400Z"
   },
   {
    "duration": 7,
    "start_time": "2022-09-21T15:31:50.430Z"
   },
   {
    "duration": 208,
    "start_time": "2022-09-21T15:31:50.439Z"
   },
   {
    "duration": 239,
    "start_time": "2022-09-21T15:31:50.648Z"
   },
   {
    "duration": 10,
    "start_time": "2022-09-21T15:31:50.889Z"
   },
   {
    "duration": 363,
    "start_time": "2022-09-21T15:31:50.901Z"
   },
   {
    "duration": 12,
    "start_time": "2022-09-21T15:31:51.266Z"
   },
   {
    "duration": 17,
    "start_time": "2022-09-21T15:31:51.279Z"
   },
   {
    "duration": 3,
    "start_time": "2022-09-21T15:31:51.297Z"
   },
   {
    "duration": 350,
    "start_time": "2022-09-21T15:31:51.302Z"
   },
   {
    "duration": 9,
    "start_time": "2022-09-21T15:31:51.654Z"
   },
   {
    "duration": 8,
    "start_time": "2022-09-21T15:31:51.665Z"
   },
   {
    "duration": 216,
    "start_time": "2022-09-21T15:31:51.675Z"
   },
   {
    "duration": 8,
    "start_time": "2022-09-21T15:31:51.893Z"
   },
   {
    "duration": 260,
    "start_time": "2022-09-21T15:31:51.903Z"
   },
   {
    "duration": 191,
    "start_time": "2022-09-21T15:31:52.165Z"
   },
   {
    "duration": 5,
    "start_time": "2022-09-21T15:31:52.357Z"
   },
   {
    "duration": 19,
    "start_time": "2022-09-21T15:31:52.364Z"
   },
   {
    "duration": 1449,
    "start_time": "2022-09-21T15:31:52.384Z"
   },
   {
    "duration": 82,
    "start_time": "2022-09-21T15:31:53.835Z"
   },
   {
    "duration": 19,
    "start_time": "2022-09-21T15:31:53.919Z"
   },
   {
    "duration": 245,
    "start_time": "2022-09-21T15:31:53.940Z"
   },
   {
    "duration": 12,
    "start_time": "2022-09-21T15:31:54.187Z"
   },
   {
    "duration": 437,
    "start_time": "2022-09-21T15:31:54.200Z"
   },
   {
    "duration": 534,
    "start_time": "2022-09-21T15:31:54.639Z"
   },
   {
    "duration": 434,
    "start_time": "2022-09-21T15:31:55.175Z"
   },
   {
    "duration": 417,
    "start_time": "2022-09-21T15:31:55.611Z"
   },
   {
    "duration": 430,
    "start_time": "2022-09-21T15:31:56.030Z"
   },
   {
    "duration": 500,
    "start_time": "2022-09-21T15:31:56.462Z"
   },
   {
    "duration": 15,
    "start_time": "2022-09-21T15:31:56.964Z"
   },
   {
    "duration": 17,
    "start_time": "2022-09-21T15:31:56.981Z"
   },
   {
    "duration": 11,
    "start_time": "2022-09-21T15:31:57.000Z"
   },
   {
    "duration": 16,
    "start_time": "2022-09-21T15:31:57.013Z"
   },
   {
    "duration": 5,
    "start_time": "2022-09-21T15:31:57.031Z"
   },
   {
    "duration": 8,
    "start_time": "2022-09-21T15:31:57.037Z"
   },
   {
    "duration": 1307,
    "start_time": "2022-09-21T15:35:13.290Z"
   },
   {
    "duration": 54,
    "start_time": "2022-09-21T15:35:14.600Z"
   },
   {
    "duration": 15,
    "start_time": "2022-09-21T15:35:14.656Z"
   },
   {
    "duration": 6,
    "start_time": "2022-09-21T15:35:14.673Z"
   },
   {
    "duration": 10,
    "start_time": "2022-09-21T15:35:14.680Z"
   },
   {
    "duration": 28,
    "start_time": "2022-09-21T15:35:14.692Z"
   },
   {
    "duration": 18,
    "start_time": "2022-09-21T15:35:14.722Z"
   },
   {
    "duration": 4,
    "start_time": "2022-09-21T15:35:14.742Z"
   },
   {
    "duration": 74,
    "start_time": "2022-09-21T15:35:14.747Z"
   },
   {
    "duration": 9,
    "start_time": "2022-09-21T15:35:14.824Z"
   },
   {
    "duration": 26,
    "start_time": "2022-09-21T15:35:14.835Z"
   },
   {
    "duration": 37,
    "start_time": "2022-09-21T15:35:14.863Z"
   },
   {
    "duration": 21,
    "start_time": "2022-09-21T15:35:14.901Z"
   },
   {
    "duration": 21,
    "start_time": "2022-09-21T15:35:14.924Z"
   },
   {
    "duration": 6,
    "start_time": "2022-09-21T15:35:14.947Z"
   },
   {
    "duration": 40,
    "start_time": "2022-09-21T15:35:14.955Z"
   },
   {
    "duration": 7,
    "start_time": "2022-09-21T15:35:14.997Z"
   },
   {
    "duration": 40,
    "start_time": "2022-09-21T15:35:15.005Z"
   },
   {
    "duration": 4,
    "start_time": "2022-09-21T15:35:15.047Z"
   },
   {
    "duration": 17,
    "start_time": "2022-09-21T15:35:15.053Z"
   },
   {
    "duration": 334,
    "start_time": "2022-09-21T15:35:15.071Z"
   },
   {
    "duration": 4,
    "start_time": "2022-09-21T15:35:15.407Z"
   },
   {
    "duration": 26,
    "start_time": "2022-09-21T15:35:15.412Z"
   },
   {
    "duration": 9,
    "start_time": "2022-09-21T15:35:15.440Z"
   },
   {
    "duration": 5,
    "start_time": "2022-09-21T15:35:15.450Z"
   },
   {
    "duration": 8,
    "start_time": "2022-09-21T15:35:15.456Z"
   },
   {
    "duration": 37,
    "start_time": "2022-09-21T15:35:15.466Z"
   },
   {
    "duration": 6,
    "start_time": "2022-09-21T15:35:15.506Z"
   },
   {
    "duration": 173,
    "start_time": "2022-09-21T15:35:15.513Z"
   },
   {
    "duration": 253,
    "start_time": "2022-09-21T15:35:15.688Z"
   },
   {
    "duration": 8,
    "start_time": "2022-09-21T15:35:15.943Z"
   },
   {
    "duration": 377,
    "start_time": "2022-09-21T15:35:15.953Z"
   },
   {
    "duration": 12,
    "start_time": "2022-09-21T15:35:16.332Z"
   },
   {
    "duration": 11,
    "start_time": "2022-09-21T15:35:16.346Z"
   },
   {
    "duration": 5,
    "start_time": "2022-09-21T15:35:16.359Z"
   },
   {
    "duration": 406,
    "start_time": "2022-09-21T15:35:16.366Z"
   },
   {
    "duration": 9,
    "start_time": "2022-09-21T15:35:16.774Z"
   },
   {
    "duration": 12,
    "start_time": "2022-09-21T15:35:16.785Z"
   },
   {
    "duration": 249,
    "start_time": "2022-09-21T15:35:16.799Z"
   },
   {
    "duration": 9,
    "start_time": "2022-09-21T15:35:17.049Z"
   },
   {
    "duration": 283,
    "start_time": "2022-09-21T15:35:17.059Z"
   },
   {
    "duration": 190,
    "start_time": "2022-09-21T15:35:17.344Z"
   },
   {
    "duration": 5,
    "start_time": "2022-09-21T15:35:17.536Z"
   },
   {
    "duration": 9,
    "start_time": "2022-09-21T15:35:17.543Z"
   },
   {
    "duration": 1481,
    "start_time": "2022-09-21T15:35:17.554Z"
   },
   {
    "duration": 78,
    "start_time": "2022-09-21T15:35:19.037Z"
   },
   {
    "duration": 24,
    "start_time": "2022-09-21T15:35:19.116Z"
   },
   {
    "duration": 253,
    "start_time": "2022-09-21T15:35:19.142Z"
   },
   {
    "duration": 7,
    "start_time": "2022-09-21T15:35:19.397Z"
   },
   {
    "duration": 432,
    "start_time": "2022-09-21T15:35:19.406Z"
   },
   {
    "duration": 537,
    "start_time": "2022-09-21T15:35:19.840Z"
   },
   {
    "duration": 453,
    "start_time": "2022-09-21T15:35:20.379Z"
   },
   {
    "duration": 484,
    "start_time": "2022-09-21T15:35:20.833Z"
   },
   {
    "duration": 465,
    "start_time": "2022-09-21T15:35:21.319Z"
   },
   {
    "duration": 442,
    "start_time": "2022-09-21T15:35:21.786Z"
   },
   {
    "duration": 11,
    "start_time": "2022-09-21T15:35:22.230Z"
   },
   {
    "duration": 5,
    "start_time": "2022-09-21T15:35:22.243Z"
   },
   {
    "duration": 14,
    "start_time": "2022-09-21T15:35:22.250Z"
   },
   {
    "duration": 36,
    "start_time": "2022-09-21T15:35:22.266Z"
   },
   {
    "duration": 4,
    "start_time": "2022-09-21T15:35:22.303Z"
   },
   {
    "duration": 7,
    "start_time": "2022-09-21T15:35:22.308Z"
   },
   {
    "duration": 1212,
    "start_time": "2022-09-21T15:35:50.295Z"
   },
   {
    "duration": 53,
    "start_time": "2022-09-21T15:35:51.509Z"
   },
   {
    "duration": 16,
    "start_time": "2022-09-21T15:35:51.564Z"
   },
   {
    "duration": 4,
    "start_time": "2022-09-21T15:35:51.582Z"
   },
   {
    "duration": 10,
    "start_time": "2022-09-21T15:35:51.587Z"
   },
   {
    "duration": 29,
    "start_time": "2022-09-21T15:35:51.598Z"
   },
   {
    "duration": 18,
    "start_time": "2022-09-21T15:35:51.629Z"
   },
   {
    "duration": 4,
    "start_time": "2022-09-21T15:35:51.649Z"
   },
   {
    "duration": 72,
    "start_time": "2022-09-21T15:35:51.655Z"
   },
   {
    "duration": 13,
    "start_time": "2022-09-21T15:35:51.730Z"
   },
   {
    "duration": 26,
    "start_time": "2022-09-21T15:35:51.746Z"
   },
   {
    "duration": 40,
    "start_time": "2022-09-21T15:35:51.773Z"
   },
   {
    "duration": 23,
    "start_time": "2022-09-21T15:35:51.814Z"
   },
   {
    "duration": 23,
    "start_time": "2022-09-21T15:35:51.839Z"
   },
   {
    "duration": 7,
    "start_time": "2022-09-21T15:35:51.864Z"
   },
   {
    "duration": 12,
    "start_time": "2022-09-21T15:35:51.896Z"
   },
   {
    "duration": 11,
    "start_time": "2022-09-21T15:35:51.910Z"
   },
   {
    "duration": 30,
    "start_time": "2022-09-21T15:35:51.922Z"
   },
   {
    "duration": 5,
    "start_time": "2022-09-21T15:35:51.953Z"
   },
   {
    "duration": 19,
    "start_time": "2022-09-21T15:35:51.959Z"
   },
   {
    "duration": 352,
    "start_time": "2022-09-21T15:35:51.995Z"
   },
   {
    "duration": 4,
    "start_time": "2022-09-21T15:35:52.349Z"
   },
   {
    "duration": 28,
    "start_time": "2022-09-21T15:35:52.355Z"
   },
   {
    "duration": 18,
    "start_time": "2022-09-21T15:35:52.384Z"
   },
   {
    "duration": 8,
    "start_time": "2022-09-21T15:35:52.403Z"
   },
   {
    "duration": 6,
    "start_time": "2022-09-21T15:35:52.412Z"
   },
   {
    "duration": 23,
    "start_time": "2022-09-21T15:35:52.419Z"
   },
   {
    "duration": 7,
    "start_time": "2022-09-21T15:35:52.446Z"
   },
   {
    "duration": 196,
    "start_time": "2022-09-21T15:35:52.454Z"
   },
   {
    "duration": 260,
    "start_time": "2022-09-21T15:35:52.651Z"
   },
   {
    "duration": 11,
    "start_time": "2022-09-21T15:35:52.913Z"
   },
   {
    "duration": 400,
    "start_time": "2022-09-21T15:35:52.926Z"
   },
   {
    "duration": 13,
    "start_time": "2022-09-21T15:35:53.328Z"
   },
   {
    "duration": 13,
    "start_time": "2022-09-21T15:35:53.343Z"
   },
   {
    "duration": 10,
    "start_time": "2022-09-21T15:35:53.358Z"
   },
   {
    "duration": 382,
    "start_time": "2022-09-21T15:35:53.370Z"
   },
   {
    "duration": 8,
    "start_time": "2022-09-21T15:35:53.754Z"
   },
   {
    "duration": 9,
    "start_time": "2022-09-21T15:35:53.764Z"
   },
   {
    "duration": 233,
    "start_time": "2022-09-21T15:35:53.774Z"
   },
   {
    "duration": 8,
    "start_time": "2022-09-21T15:35:54.009Z"
   },
   {
    "duration": 258,
    "start_time": "2022-09-21T15:35:54.018Z"
   },
   {
    "duration": 194,
    "start_time": "2022-09-21T15:35:54.278Z"
   },
   {
    "duration": 5,
    "start_time": "2022-09-21T15:35:54.473Z"
   },
   {
    "duration": 18,
    "start_time": "2022-09-21T15:35:54.480Z"
   },
   {
    "duration": 1397,
    "start_time": "2022-09-21T15:35:54.499Z"
   },
   {
    "duration": 61,
    "start_time": "2022-09-21T15:35:55.898Z"
   },
   {
    "duration": 39,
    "start_time": "2022-09-21T15:35:55.961Z"
   },
   {
    "duration": 238,
    "start_time": "2022-09-21T15:35:56.002Z"
   },
   {
    "duration": 10,
    "start_time": "2022-09-21T15:35:56.243Z"
   },
   {
    "duration": 474,
    "start_time": "2022-09-21T15:35:56.255Z"
   },
   {
    "duration": 518,
    "start_time": "2022-09-21T15:35:56.731Z"
   },
   {
    "duration": 431,
    "start_time": "2022-09-21T15:35:57.251Z"
   },
   {
    "duration": 448,
    "start_time": "2022-09-21T15:35:57.684Z"
   },
   {
    "duration": 423,
    "start_time": "2022-09-21T15:35:58.134Z"
   },
   {
    "duration": 412,
    "start_time": "2022-09-21T15:35:58.559Z"
   },
   {
    "duration": 11,
    "start_time": "2022-09-21T15:35:58.973Z"
   },
   {
    "duration": 4,
    "start_time": "2022-09-21T15:35:58.996Z"
   },
   {
    "duration": 9,
    "start_time": "2022-09-21T15:35:59.001Z"
   },
   {
    "duration": 11,
    "start_time": "2022-09-21T15:35:59.012Z"
   },
   {
    "duration": 4,
    "start_time": "2022-09-21T15:35:59.025Z"
   },
   {
    "duration": 5,
    "start_time": "2022-09-21T15:35:59.031Z"
   },
   {
    "duration": 1216,
    "start_time": "2022-09-21T15:38:36.860Z"
   },
   {
    "duration": 56,
    "start_time": "2022-09-21T15:38:38.078Z"
   },
   {
    "duration": 20,
    "start_time": "2022-09-21T15:38:38.137Z"
   },
   {
    "duration": 3,
    "start_time": "2022-09-21T15:38:38.160Z"
   },
   {
    "duration": 11,
    "start_time": "2022-09-21T15:38:38.165Z"
   },
   {
    "duration": 35,
    "start_time": "2022-09-21T15:38:38.178Z"
   },
   {
    "duration": 23,
    "start_time": "2022-09-21T15:38:38.215Z"
   },
   {
    "duration": 5,
    "start_time": "2022-09-21T15:38:38.240Z"
   },
   {
    "duration": 68,
    "start_time": "2022-09-21T15:38:38.246Z"
   },
   {
    "duration": 16,
    "start_time": "2022-09-21T15:38:38.318Z"
   },
   {
    "duration": 63,
    "start_time": "2022-09-21T15:38:38.336Z"
   },
   {
    "duration": 22,
    "start_time": "2022-09-21T15:38:38.401Z"
   },
   {
    "duration": 72,
    "start_time": "2022-09-21T15:38:38.424Z"
   },
   {
    "duration": 25,
    "start_time": "2022-09-21T15:38:38.498Z"
   },
   {
    "duration": 7,
    "start_time": "2022-09-21T15:38:38.524Z"
   },
   {
    "duration": 71,
    "start_time": "2022-09-21T15:38:38.533Z"
   },
   {
    "duration": 8,
    "start_time": "2022-09-21T15:38:38.606Z"
   },
   {
    "duration": 19,
    "start_time": "2022-09-21T15:38:38.615Z"
   },
   {
    "duration": 4,
    "start_time": "2022-09-21T15:38:38.636Z"
   },
   {
    "duration": 16,
    "start_time": "2022-09-21T15:38:38.642Z"
   },
   {
    "duration": 444,
    "start_time": "2022-09-21T15:38:38.660Z"
   },
   {
    "duration": 4,
    "start_time": "2022-09-21T15:38:39.106Z"
   },
   {
    "duration": 29,
    "start_time": "2022-09-21T15:38:39.112Z"
   },
   {
    "duration": 17,
    "start_time": "2022-09-21T15:38:39.143Z"
   },
   {
    "duration": 8,
    "start_time": "2022-09-21T15:38:39.162Z"
   },
   {
    "duration": 10,
    "start_time": "2022-09-21T15:38:39.171Z"
   },
   {
    "duration": 28,
    "start_time": "2022-09-21T15:38:39.182Z"
   },
   {
    "duration": 6,
    "start_time": "2022-09-21T15:38:39.213Z"
   },
   {
    "duration": 176,
    "start_time": "2022-09-21T15:38:39.221Z"
   },
   {
    "duration": 240,
    "start_time": "2022-09-21T15:38:39.398Z"
   },
   {
    "duration": 7,
    "start_time": "2022-09-21T15:38:39.639Z"
   },
   {
    "duration": 386,
    "start_time": "2022-09-21T15:38:39.648Z"
   },
   {
    "duration": 12,
    "start_time": "2022-09-21T15:38:40.036Z"
   },
   {
    "duration": 9,
    "start_time": "2022-09-21T15:38:40.050Z"
   },
   {
    "duration": 8,
    "start_time": "2022-09-21T15:38:40.061Z"
   },
   {
    "duration": 389,
    "start_time": "2022-09-21T15:38:40.071Z"
   },
   {
    "duration": 9,
    "start_time": "2022-09-21T15:38:40.462Z"
   },
   {
    "duration": 10,
    "start_time": "2022-09-21T15:38:40.473Z"
   },
   {
    "duration": 242,
    "start_time": "2022-09-21T15:38:40.485Z"
   },
   {
    "duration": 8,
    "start_time": "2022-09-21T15:38:40.729Z"
   },
   {
    "duration": 281,
    "start_time": "2022-09-21T15:38:40.739Z"
   },
   {
    "duration": 205,
    "start_time": "2022-09-21T15:38:41.022Z"
   },
   {
    "duration": 7,
    "start_time": "2022-09-21T15:38:41.230Z"
   },
   {
    "duration": 14,
    "start_time": "2022-09-21T15:38:41.239Z"
   },
   {
    "duration": 1546,
    "start_time": "2022-09-21T15:38:41.255Z"
   },
   {
    "duration": 93,
    "start_time": "2022-09-21T15:38:42.803Z"
   },
   {
    "duration": 21,
    "start_time": "2022-09-21T15:38:42.898Z"
   },
   {
    "duration": 250,
    "start_time": "2022-09-21T15:38:42.921Z"
   },
   {
    "duration": 8,
    "start_time": "2022-09-21T15:38:43.173Z"
   },
   {
    "duration": 443,
    "start_time": "2022-09-21T15:38:43.183Z"
   },
   {
    "duration": 545,
    "start_time": "2022-09-21T15:38:43.627Z"
   },
   {
    "duration": 492,
    "start_time": "2022-09-21T15:38:44.173Z"
   },
   {
    "duration": 450,
    "start_time": "2022-09-21T15:38:44.667Z"
   },
   {
    "duration": 495,
    "start_time": "2022-09-21T15:38:45.120Z"
   },
   {
    "duration": 441,
    "start_time": "2022-09-21T15:38:45.616Z"
   },
   {
    "duration": 12,
    "start_time": "2022-09-21T15:38:46.060Z"
   },
   {
    "duration": 5,
    "start_time": "2022-09-21T15:38:46.073Z"
   },
   {
    "duration": 19,
    "start_time": "2022-09-21T15:38:46.080Z"
   },
   {
    "duration": 16,
    "start_time": "2022-09-21T15:38:46.101Z"
   },
   {
    "duration": 10,
    "start_time": "2022-09-21T15:38:46.119Z"
   },
   {
    "duration": 7,
    "start_time": "2022-09-21T15:38:46.131Z"
   },
   {
    "duration": 1170,
    "start_time": "2022-09-21T15:41:37.493Z"
   },
   {
    "duration": 52,
    "start_time": "2022-09-21T15:41:38.665Z"
   },
   {
    "duration": 15,
    "start_time": "2022-09-21T15:41:38.719Z"
   },
   {
    "duration": 6,
    "start_time": "2022-09-21T15:41:38.736Z"
   },
   {
    "duration": 8,
    "start_time": "2022-09-21T15:41:38.744Z"
   },
   {
    "duration": 34,
    "start_time": "2022-09-21T15:41:38.753Z"
   },
   {
    "duration": 19,
    "start_time": "2022-09-21T15:41:38.794Z"
   },
   {
    "duration": 5,
    "start_time": "2022-09-21T15:41:38.815Z"
   },
   {
    "duration": 74,
    "start_time": "2022-09-21T15:41:38.822Z"
   },
   {
    "duration": 9,
    "start_time": "2022-09-21T15:41:38.898Z"
   },
   {
    "duration": 20,
    "start_time": "2022-09-21T15:41:38.909Z"
   },
   {
    "duration": 21,
    "start_time": "2022-09-21T15:41:38.930Z"
   },
   {
    "duration": 50,
    "start_time": "2022-09-21T15:41:38.952Z"
   },
   {
    "duration": 23,
    "start_time": "2022-09-21T15:41:39.004Z"
   },
   {
    "duration": 7,
    "start_time": "2022-09-21T15:41:39.029Z"
   },
   {
    "duration": 14,
    "start_time": "2022-09-21T15:41:39.037Z"
   },
   {
    "duration": 6,
    "start_time": "2022-09-21T15:41:39.053Z"
   },
   {
    "duration": 52,
    "start_time": "2022-09-21T15:41:39.061Z"
   },
   {
    "duration": 4,
    "start_time": "2022-09-21T15:41:39.115Z"
   },
   {
    "duration": 17,
    "start_time": "2022-09-21T15:41:39.121Z"
   },
   {
    "duration": 372,
    "start_time": "2022-09-21T15:41:39.140Z"
   },
   {
    "duration": 5,
    "start_time": "2022-09-21T15:41:39.513Z"
   },
   {
    "duration": 24,
    "start_time": "2022-09-21T15:41:39.519Z"
   },
   {
    "duration": 11,
    "start_time": "2022-09-21T15:41:39.544Z"
   },
   {
    "duration": 5,
    "start_time": "2022-09-21T15:41:39.557Z"
   },
   {
    "duration": 7,
    "start_time": "2022-09-21T15:41:39.563Z"
   },
   {
    "duration": 39,
    "start_time": "2022-09-21T15:41:39.572Z"
   },
   {
    "duration": 6,
    "start_time": "2022-09-21T15:41:39.615Z"
   },
   {
    "duration": 178,
    "start_time": "2022-09-21T15:41:39.623Z"
   },
   {
    "duration": 239,
    "start_time": "2022-09-21T15:41:39.803Z"
   },
   {
    "duration": 7,
    "start_time": "2022-09-21T15:41:40.044Z"
   },
   {
    "duration": 382,
    "start_time": "2022-09-21T15:41:40.052Z"
   },
   {
    "duration": 12,
    "start_time": "2022-09-21T15:41:40.435Z"
   },
   {
    "duration": 7,
    "start_time": "2022-09-21T15:41:40.449Z"
   },
   {
    "duration": 6,
    "start_time": "2022-09-21T15:41:40.458Z"
   },
   {
    "duration": 403,
    "start_time": "2022-09-21T15:41:40.465Z"
   },
   {
    "duration": 8,
    "start_time": "2022-09-21T15:41:40.870Z"
   },
   {
    "duration": 9,
    "start_time": "2022-09-21T15:41:40.880Z"
   },
   {
    "duration": 238,
    "start_time": "2022-09-21T15:41:40.890Z"
   },
   {
    "duration": 8,
    "start_time": "2022-09-21T15:41:41.129Z"
   },
   {
    "duration": 262,
    "start_time": "2022-09-21T15:41:41.138Z"
   },
   {
    "duration": 195,
    "start_time": "2022-09-21T15:41:41.401Z"
   },
   {
    "duration": 6,
    "start_time": "2022-09-21T15:41:41.597Z"
   },
   {
    "duration": 9,
    "start_time": "2022-09-21T15:41:41.605Z"
   },
   {
    "duration": 1487,
    "start_time": "2022-09-21T15:41:41.616Z"
   },
   {
    "duration": 62,
    "start_time": "2022-09-21T15:41:43.104Z"
   },
   {
    "duration": 40,
    "start_time": "2022-09-21T15:41:43.167Z"
   },
   {
    "duration": 246,
    "start_time": "2022-09-21T15:41:43.209Z"
   },
   {
    "duration": 8,
    "start_time": "2022-09-21T15:41:43.457Z"
   },
   {
    "duration": 474,
    "start_time": "2022-09-21T15:41:43.466Z"
   },
   {
    "duration": 522,
    "start_time": "2022-09-21T15:41:43.942Z"
   },
   {
    "duration": 429,
    "start_time": "2022-09-21T15:41:44.466Z"
   },
   {
    "duration": 443,
    "start_time": "2022-09-21T15:41:44.896Z"
   },
   {
    "duration": 437,
    "start_time": "2022-09-21T15:41:45.341Z"
   },
   {
    "duration": 421,
    "start_time": "2022-09-21T15:41:45.780Z"
   },
   {
    "duration": 11,
    "start_time": "2022-09-21T15:41:46.203Z"
   },
   {
    "duration": 8,
    "start_time": "2022-09-21T15:41:46.216Z"
   },
   {
    "duration": 12,
    "start_time": "2022-09-21T15:41:46.226Z"
   },
   {
    "duration": 22,
    "start_time": "2022-09-21T15:41:46.239Z"
   },
   {
    "duration": 12,
    "start_time": "2022-09-21T15:41:46.262Z"
   },
   {
    "duration": 21,
    "start_time": "2022-09-21T15:41:46.276Z"
   },
   {
    "duration": 1221,
    "start_time": "2022-09-21T15:42:34.784Z"
   },
   {
    "duration": 54,
    "start_time": "2022-09-21T15:42:36.007Z"
   },
   {
    "duration": 16,
    "start_time": "2022-09-21T15:42:36.062Z"
   },
   {
    "duration": 3,
    "start_time": "2022-09-21T15:42:36.080Z"
   },
   {
    "duration": 8,
    "start_time": "2022-09-21T15:42:36.085Z"
   },
   {
    "duration": 35,
    "start_time": "2022-09-21T15:42:36.098Z"
   },
   {
    "duration": 19,
    "start_time": "2022-09-21T15:42:36.134Z"
   },
   {
    "duration": 4,
    "start_time": "2022-09-21T15:42:36.155Z"
   },
   {
    "duration": 66,
    "start_time": "2022-09-21T15:42:36.160Z"
   },
   {
    "duration": 9,
    "start_time": "2022-09-21T15:42:36.229Z"
   },
   {
    "duration": 27,
    "start_time": "2022-09-21T15:42:36.239Z"
   },
   {
    "duration": 39,
    "start_time": "2022-09-21T15:42:36.268Z"
   },
   {
    "duration": 21,
    "start_time": "2022-09-21T15:42:36.309Z"
   },
   {
    "duration": 21,
    "start_time": "2022-09-21T15:42:36.331Z"
   },
   {
    "duration": 9,
    "start_time": "2022-09-21T15:42:36.353Z"
   },
   {
    "duration": 46,
    "start_time": "2022-09-21T15:42:36.363Z"
   },
   {
    "duration": 5,
    "start_time": "2022-09-21T15:42:36.411Z"
   },
   {
    "duration": 19,
    "start_time": "2022-09-21T15:42:36.418Z"
   },
   {
    "duration": 3,
    "start_time": "2022-09-21T15:42:36.439Z"
   },
   {
    "duration": 16,
    "start_time": "2022-09-21T15:42:36.444Z"
   },
   {
    "duration": 412,
    "start_time": "2022-09-21T15:42:36.462Z"
   },
   {
    "duration": 6,
    "start_time": "2022-09-21T15:42:36.876Z"
   },
   {
    "duration": 36,
    "start_time": "2022-09-21T15:42:36.884Z"
   },
   {
    "duration": 10,
    "start_time": "2022-09-21T15:42:36.922Z"
   },
   {
    "duration": 6,
    "start_time": "2022-09-21T15:42:36.934Z"
   },
   {
    "duration": 7,
    "start_time": "2022-09-21T15:42:36.942Z"
   },
   {
    "duration": 66,
    "start_time": "2022-09-21T15:42:36.951Z"
   },
   {
    "duration": 8,
    "start_time": "2022-09-21T15:42:37.021Z"
   },
   {
    "duration": 176,
    "start_time": "2022-09-21T15:42:37.031Z"
   },
   {
    "duration": 236,
    "start_time": "2022-09-21T15:42:37.208Z"
   },
   {
    "duration": 7,
    "start_time": "2022-09-21T15:42:37.446Z"
   },
   {
    "duration": 356,
    "start_time": "2022-09-21T15:42:37.455Z"
   },
   {
    "duration": 11,
    "start_time": "2022-09-21T15:42:37.813Z"
   },
   {
    "duration": 7,
    "start_time": "2022-09-21T15:42:37.826Z"
   },
   {
    "duration": 9,
    "start_time": "2022-09-21T15:42:37.834Z"
   },
   {
    "duration": 391,
    "start_time": "2022-09-21T15:42:37.845Z"
   },
   {
    "duration": 8,
    "start_time": "2022-09-21T15:42:38.238Z"
   },
   {
    "duration": 8,
    "start_time": "2022-09-21T15:42:38.248Z"
   },
   {
    "duration": 211,
    "start_time": "2022-09-21T15:42:38.257Z"
   },
   {
    "duration": 8,
    "start_time": "2022-09-21T15:42:38.470Z"
   },
   {
    "duration": 261,
    "start_time": "2022-09-21T15:42:38.480Z"
   },
   {
    "duration": 195,
    "start_time": "2022-09-21T15:42:38.743Z"
   },
   {
    "duration": 5,
    "start_time": "2022-09-21T15:42:38.940Z"
   },
   {
    "duration": 9,
    "start_time": "2022-09-21T15:42:38.946Z"
   },
   {
    "duration": 1471,
    "start_time": "2022-09-21T15:42:38.956Z"
   },
   {
    "duration": 80,
    "start_time": "2022-09-21T15:42:40.429Z"
   },
   {
    "duration": 17,
    "start_time": "2022-09-21T15:42:40.511Z"
   },
   {
    "duration": 249,
    "start_time": "2022-09-21T15:42:40.530Z"
   },
   {
    "duration": 14,
    "start_time": "2022-09-21T15:42:40.781Z"
   },
   {
    "duration": 427,
    "start_time": "2022-09-21T15:42:40.796Z"
   },
   {
    "duration": 561,
    "start_time": "2022-09-21T15:42:41.225Z"
   },
   {
    "duration": 456,
    "start_time": "2022-09-21T15:42:41.795Z"
   },
   {
    "duration": 440,
    "start_time": "2022-09-21T15:42:42.252Z"
   },
   {
    "duration": 456,
    "start_time": "2022-09-21T15:42:42.693Z"
   },
   {
    "duration": 425,
    "start_time": "2022-09-21T15:42:43.151Z"
   },
   {
    "duration": 32,
    "start_time": "2022-09-21T15:42:43.578Z"
   },
   {
    "duration": 5,
    "start_time": "2022-09-21T15:42:43.612Z"
   },
   {
    "duration": 11,
    "start_time": "2022-09-21T15:42:43.618Z"
   },
   {
    "duration": 13,
    "start_time": "2022-09-21T15:42:43.630Z"
   },
   {
    "duration": 4,
    "start_time": "2022-09-21T15:42:43.645Z"
   },
   {
    "duration": 8,
    "start_time": "2022-09-21T15:42:43.650Z"
   },
   {
    "duration": 84,
    "start_time": "2022-09-22T08:24:48.219Z"
   },
   {
    "duration": 1297,
    "start_time": "2022-09-22T08:24:55.136Z"
   },
   {
    "duration": 93,
    "start_time": "2022-09-22T08:24:56.435Z"
   },
   {
    "duration": 16,
    "start_time": "2022-09-22T08:24:56.530Z"
   },
   {
    "duration": 3,
    "start_time": "2022-09-22T08:24:56.548Z"
   },
   {
    "duration": 10,
    "start_time": "2022-09-22T08:24:56.553Z"
   },
   {
    "duration": 36,
    "start_time": "2022-09-22T08:24:56.565Z"
   },
   {
    "duration": 30,
    "start_time": "2022-09-22T08:24:56.603Z"
   },
   {
    "duration": 4,
    "start_time": "2022-09-22T08:24:56.634Z"
   },
   {
    "duration": 69,
    "start_time": "2022-09-22T08:24:56.640Z"
   },
   {
    "duration": 12,
    "start_time": "2022-09-22T08:24:56.712Z"
   },
   {
    "duration": 33,
    "start_time": "2022-09-22T08:24:56.725Z"
   },
   {
    "duration": 21,
    "start_time": "2022-09-22T08:24:56.759Z"
   },
   {
    "duration": 40,
    "start_time": "2022-09-22T08:24:56.782Z"
   },
   {
    "duration": 24,
    "start_time": "2022-09-22T08:24:56.824Z"
   },
   {
    "duration": 7,
    "start_time": "2022-09-22T08:24:56.849Z"
   },
   {
    "duration": 13,
    "start_time": "2022-09-22T08:24:56.858Z"
   },
   {
    "duration": 8,
    "start_time": "2022-09-22T08:24:56.873Z"
   },
   {
    "duration": 48,
    "start_time": "2022-09-22T08:24:56.882Z"
   },
   {
    "duration": 4,
    "start_time": "2022-09-22T08:24:56.932Z"
   },
   {
    "duration": 21,
    "start_time": "2022-09-22T08:24:56.938Z"
   },
   {
    "duration": 352,
    "start_time": "2022-09-22T08:24:56.961Z"
   },
   {
    "duration": 6,
    "start_time": "2022-09-22T08:24:57.315Z"
   },
   {
    "duration": 19,
    "start_time": "2022-09-22T08:24:57.322Z"
   },
   {
    "duration": 7,
    "start_time": "2022-09-22T08:24:57.342Z"
   },
   {
    "duration": 8,
    "start_time": "2022-09-22T08:24:57.351Z"
   },
   {
    "duration": 7,
    "start_time": "2022-09-22T08:24:57.361Z"
   },
   {
    "duration": 55,
    "start_time": "2022-09-22T08:24:57.370Z"
   },
   {
    "duration": 6,
    "start_time": "2022-09-22T08:24:57.429Z"
   },
   {
    "duration": 165,
    "start_time": "2022-09-22T08:24:57.437Z"
   },
   {
    "duration": 240,
    "start_time": "2022-09-22T08:24:57.604Z"
   },
   {
    "duration": 7,
    "start_time": "2022-09-22T08:24:57.846Z"
   },
   {
    "duration": 370,
    "start_time": "2022-09-22T08:24:57.855Z"
   },
   {
    "duration": 12,
    "start_time": "2022-09-22T08:24:58.226Z"
   },
   {
    "duration": 7,
    "start_time": "2022-09-22T08:24:58.240Z"
   },
   {
    "duration": 6,
    "start_time": "2022-09-22T08:24:58.248Z"
   },
   {
    "duration": 396,
    "start_time": "2022-09-22T08:24:58.255Z"
   },
   {
    "duration": 11,
    "start_time": "2022-09-22T08:24:58.653Z"
   },
   {
    "duration": 46,
    "start_time": "2022-09-22T08:24:58.666Z"
   },
   {
    "duration": 281,
    "start_time": "2022-09-22T08:24:58.714Z"
   },
   {
    "duration": 11,
    "start_time": "2022-09-22T08:24:58.997Z"
   },
   {
    "duration": 302,
    "start_time": "2022-09-22T08:24:59.010Z"
   },
   {
    "duration": 191,
    "start_time": "2022-09-22T08:24:59.314Z"
   },
   {
    "duration": 14,
    "start_time": "2022-09-22T08:24:59.507Z"
   },
   {
    "duration": 35,
    "start_time": "2022-09-22T08:24:59.523Z"
   },
   {
    "duration": 1507,
    "start_time": "2022-09-22T08:24:59.560Z"
   },
   {
    "duration": 82,
    "start_time": "2022-09-22T08:25:01.070Z"
   },
   {
    "duration": 22,
    "start_time": "2022-09-22T08:25:01.154Z"
   },
   {
    "duration": 274,
    "start_time": "2022-09-22T08:25:01.178Z"
   },
   {
    "duration": 8,
    "start_time": "2022-09-22T08:25:01.454Z"
   },
   {
    "duration": 460,
    "start_time": "2022-09-22T08:25:01.464Z"
   },
   {
    "duration": 533,
    "start_time": "2022-09-22T08:25:01.925Z"
   },
   {
    "duration": 470,
    "start_time": "2022-09-22T08:25:02.459Z"
   },
   {
    "duration": 433,
    "start_time": "2022-09-22T08:25:02.931Z"
   },
   {
    "duration": 456,
    "start_time": "2022-09-22T08:25:03.366Z"
   },
   {
    "duration": 429,
    "start_time": "2022-09-22T08:25:03.823Z"
   },
   {
    "duration": 10,
    "start_time": "2022-09-22T08:25:04.254Z"
   },
   {
    "duration": 6,
    "start_time": "2022-09-22T08:25:04.266Z"
   },
   {
    "duration": 6,
    "start_time": "2022-09-22T08:25:04.274Z"
   },
   {
    "duration": 38,
    "start_time": "2022-09-22T08:25:04.282Z"
   },
   {
    "duration": 4,
    "start_time": "2022-09-22T08:25:04.323Z"
   },
   {
    "duration": 8,
    "start_time": "2022-09-22T08:25:04.329Z"
   },
   {
    "duration": 42,
    "start_time": "2022-09-22T16:28:53.641Z"
   },
   {
    "duration": 1216,
    "start_time": "2022-09-22T16:29:02.170Z"
   },
   {
    "duration": 100,
    "start_time": "2022-09-22T16:29:03.388Z"
   },
   {
    "duration": 18,
    "start_time": "2022-09-22T16:29:03.490Z"
   },
   {
    "duration": 11,
    "start_time": "2022-09-22T16:29:03.517Z"
   },
   {
    "duration": 7,
    "start_time": "2022-09-22T16:29:03.529Z"
   },
   {
    "duration": 19,
    "start_time": "2022-09-22T16:29:03.538Z"
   },
   {
    "duration": 17,
    "start_time": "2022-09-22T16:29:03.559Z"
   },
   {
    "duration": 3,
    "start_time": "2022-09-22T16:29:03.577Z"
   },
   {
    "duration": 56,
    "start_time": "2022-09-22T16:29:03.582Z"
   },
   {
    "duration": 8,
    "start_time": "2022-09-22T16:29:03.640Z"
   },
   {
    "duration": 19,
    "start_time": "2022-09-22T16:29:03.649Z"
   },
   {
    "duration": 42,
    "start_time": "2022-09-22T16:29:03.669Z"
   },
   {
    "duration": 28,
    "start_time": "2022-09-22T16:29:03.714Z"
   },
   {
    "duration": 35,
    "start_time": "2022-09-22T16:29:03.744Z"
   },
   {
    "duration": 6,
    "start_time": "2022-09-22T16:29:03.781Z"
   },
   {
    "duration": 21,
    "start_time": "2022-09-22T16:29:03.788Z"
   },
   {
    "duration": 30,
    "start_time": "2022-09-22T16:29:03.810Z"
   },
   {
    "duration": 20,
    "start_time": "2022-09-22T16:29:03.842Z"
   },
   {
    "duration": 4,
    "start_time": "2022-09-22T16:29:03.864Z"
   },
   {
    "duration": 13,
    "start_time": "2022-09-22T16:29:03.870Z"
   },
   {
    "duration": 353,
    "start_time": "2022-09-22T16:29:03.885Z"
   },
   {
    "duration": 5,
    "start_time": "2022-09-22T16:29:04.241Z"
   },
   {
    "duration": 23,
    "start_time": "2022-09-22T16:29:04.248Z"
   },
   {
    "duration": 8,
    "start_time": "2022-09-22T16:29:04.273Z"
   },
   {
    "duration": 5,
    "start_time": "2022-09-22T16:29:04.282Z"
   },
   {
    "duration": 29,
    "start_time": "2022-09-22T16:29:04.289Z"
   },
   {
    "duration": 30,
    "start_time": "2022-09-22T16:29:04.320Z"
   },
   {
    "duration": 8,
    "start_time": "2022-09-22T16:29:04.354Z"
   },
   {
    "duration": 183,
    "start_time": "2022-09-22T16:29:04.364Z"
   },
   {
    "duration": 266,
    "start_time": "2022-09-22T16:29:04.549Z"
   },
   {
    "duration": 10,
    "start_time": "2022-09-22T16:29:04.817Z"
   },
   {
    "duration": 349,
    "start_time": "2022-09-22T16:29:04.834Z"
   },
   {
    "duration": 19,
    "start_time": "2022-09-22T16:29:05.185Z"
   },
   {
    "duration": 32,
    "start_time": "2022-09-22T16:29:05.206Z"
   },
   {
    "duration": 6,
    "start_time": "2022-09-22T16:29:05.239Z"
   },
   {
    "duration": 353,
    "start_time": "2022-09-22T16:29:05.246Z"
   },
   {
    "duration": 8,
    "start_time": "2022-09-22T16:29:05.603Z"
   },
   {
    "duration": 30,
    "start_time": "2022-09-22T16:29:05.614Z"
   },
   {
    "duration": 195,
    "start_time": "2022-09-22T16:29:05.646Z"
   },
   {
    "duration": 7,
    "start_time": "2022-09-22T16:29:05.843Z"
   },
   {
    "duration": 237,
    "start_time": "2022-09-22T16:29:05.851Z"
   },
   {
    "duration": 177,
    "start_time": "2022-09-22T16:29:06.090Z"
   },
   {
    "duration": 4,
    "start_time": "2022-09-22T16:29:06.269Z"
   },
   {
    "duration": 8,
    "start_time": "2022-09-22T16:29:06.274Z"
   },
   {
    "duration": 1447,
    "start_time": "2022-09-22T16:29:06.283Z"
   },
   {
    "duration": 51,
    "start_time": "2022-09-22T16:29:07.732Z"
   },
   {
    "duration": 38,
    "start_time": "2022-09-22T16:29:07.785Z"
   },
   {
    "duration": 244,
    "start_time": "2022-09-22T16:29:07.825Z"
   },
   {
    "duration": 7,
    "start_time": "2022-09-22T16:29:08.071Z"
   },
   {
    "duration": 411,
    "start_time": "2022-09-22T16:29:08.079Z"
   },
   {
    "duration": 490,
    "start_time": "2022-09-22T16:29:08.491Z"
   },
   {
    "duration": 436,
    "start_time": "2022-09-22T16:29:08.983Z"
   },
   {
    "duration": 434,
    "start_time": "2022-09-22T16:29:09.420Z"
   },
   {
    "duration": 408,
    "start_time": "2022-09-22T16:29:09.856Z"
   },
   {
    "duration": 419,
    "start_time": "2022-09-22T16:29:10.266Z"
   },
   {
    "duration": 18,
    "start_time": "2022-09-22T16:29:10.687Z"
   },
   {
    "duration": 6,
    "start_time": "2022-09-22T16:29:10.709Z"
   },
   {
    "duration": 22,
    "start_time": "2022-09-22T16:29:10.718Z"
   },
   {
    "duration": 14,
    "start_time": "2022-09-22T16:29:10.742Z"
   },
   {
    "duration": 4,
    "start_time": "2022-09-22T16:29:10.757Z"
   },
   {
    "duration": 6,
    "start_time": "2022-09-22T16:29:10.763Z"
   },
   {
    "duration": 51,
    "start_time": "2022-09-22T16:53:55.399Z"
   },
   {
    "duration": 1365,
    "start_time": "2022-09-22T16:54:06.654Z"
   },
   {
    "duration": 104,
    "start_time": "2022-09-22T16:54:08.022Z"
   },
   {
    "duration": 17,
    "start_time": "2022-09-22T16:54:08.127Z"
   },
   {
    "duration": 51,
    "start_time": "2022-09-22T16:54:08.147Z"
   },
   {
    "duration": 3,
    "start_time": "2022-09-22T16:54:08.200Z"
   },
   {
    "duration": 14,
    "start_time": "2022-09-22T16:54:08.205Z"
   },
   {
    "duration": 37,
    "start_time": "2022-09-22T16:54:08.221Z"
   },
   {
    "duration": 21,
    "start_time": "2022-09-22T16:54:08.260Z"
   },
   {
    "duration": 9,
    "start_time": "2022-09-22T16:54:08.283Z"
   },
   {
    "duration": 72,
    "start_time": "2022-09-22T16:54:08.294Z"
   },
   {
    "duration": 10,
    "start_time": "2022-09-22T16:54:08.369Z"
   },
   {
    "duration": 42,
    "start_time": "2022-09-22T16:54:08.381Z"
   },
   {
    "duration": 31,
    "start_time": "2022-09-22T16:54:08.424Z"
   },
   {
    "duration": 23,
    "start_time": "2022-09-22T16:54:08.457Z"
   },
   {
    "duration": 32,
    "start_time": "2022-09-22T16:54:08.483Z"
   },
   {
    "duration": 34,
    "start_time": "2022-09-22T16:54:08.517Z"
   },
   {
    "duration": 16,
    "start_time": "2022-09-22T16:54:08.553Z"
   },
   {
    "duration": 8,
    "start_time": "2022-09-22T16:54:08.571Z"
   },
   {
    "duration": 20,
    "start_time": "2022-09-22T16:54:08.581Z"
   },
   {
    "duration": 4,
    "start_time": "2022-09-22T16:54:08.602Z"
   },
   {
    "duration": 40,
    "start_time": "2022-09-22T16:54:08.608Z"
   },
   {
    "duration": 407,
    "start_time": "2022-09-22T16:54:08.651Z"
   },
   {
    "duration": 5,
    "start_time": "2022-09-22T16:54:09.060Z"
   },
   {
    "duration": 32,
    "start_time": "2022-09-22T16:54:09.067Z"
   },
   {
    "duration": 10,
    "start_time": "2022-09-22T16:54:09.101Z"
   },
   {
    "duration": 5,
    "start_time": "2022-09-22T16:54:09.112Z"
   },
   {
    "duration": 6,
    "start_time": "2022-09-22T16:54:09.135Z"
   },
   {
    "duration": 37,
    "start_time": "2022-09-22T16:54:09.145Z"
   },
   {
    "duration": 6,
    "start_time": "2022-09-22T16:54:09.184Z"
   },
   {
    "duration": 170,
    "start_time": "2022-09-22T16:54:09.192Z"
   },
   {
    "duration": 243,
    "start_time": "2022-09-22T16:54:09.364Z"
   },
   {
    "duration": 8,
    "start_time": "2022-09-22T16:54:09.609Z"
   },
   {
    "duration": 391,
    "start_time": "2022-09-22T16:54:09.619Z"
   },
   {
    "duration": 11,
    "start_time": "2022-09-22T16:54:10.012Z"
   },
   {
    "duration": 40,
    "start_time": "2022-09-22T16:54:10.025Z"
   },
   {
    "duration": 26,
    "start_time": "2022-09-22T16:54:10.067Z"
   },
   {
    "duration": 394,
    "start_time": "2022-09-22T16:54:10.095Z"
   },
   {
    "duration": 9,
    "start_time": "2022-09-22T16:54:10.491Z"
   },
   {
    "duration": 19,
    "start_time": "2022-09-22T16:54:10.501Z"
   },
   {
    "duration": 227,
    "start_time": "2022-09-22T16:54:10.521Z"
   },
   {
    "duration": 9,
    "start_time": "2022-09-22T16:54:10.750Z"
   },
   {
    "duration": 246,
    "start_time": "2022-09-22T16:54:10.760Z"
   },
   {
    "duration": 184,
    "start_time": "2022-09-22T16:54:11.009Z"
   },
   {
    "duration": 4,
    "start_time": "2022-09-22T16:54:11.195Z"
   },
   {
    "duration": 12,
    "start_time": "2022-09-22T16:54:11.201Z"
   },
   {
    "duration": 1454,
    "start_time": "2022-09-22T16:54:11.215Z"
   },
   {
    "duration": 76,
    "start_time": "2022-09-22T16:54:12.671Z"
   },
   {
    "duration": 21,
    "start_time": "2022-09-22T16:54:12.749Z"
   },
   {
    "duration": 234,
    "start_time": "2022-09-22T16:54:12.772Z"
   },
   {
    "duration": 8,
    "start_time": "2022-09-22T16:54:13.007Z"
   },
   {
    "duration": 427,
    "start_time": "2022-09-22T16:54:13.017Z"
   },
   {
    "duration": 510,
    "start_time": "2022-09-22T16:54:13.450Z"
   },
   {
    "duration": 438,
    "start_time": "2022-09-22T16:54:13.961Z"
   },
   {
    "duration": 394,
    "start_time": "2022-09-22T16:54:14.401Z"
   },
   {
    "duration": 414,
    "start_time": "2022-09-22T16:54:14.797Z"
   },
   {
    "duration": 413,
    "start_time": "2022-09-22T16:54:15.212Z"
   },
   {
    "duration": 24,
    "start_time": "2022-09-22T16:54:15.627Z"
   },
   {
    "duration": 6,
    "start_time": "2022-09-22T16:54:15.653Z"
   },
   {
    "duration": 7,
    "start_time": "2022-09-22T16:54:15.660Z"
   },
   {
    "duration": 20,
    "start_time": "2022-09-22T16:54:15.668Z"
   },
   {
    "duration": 4,
    "start_time": "2022-09-22T16:54:15.690Z"
   },
   {
    "duration": 12,
    "start_time": "2022-09-22T16:54:15.696Z"
   },
   {
    "duration": 114,
    "start_time": "2022-09-22T16:58:38.096Z"
   },
   {
    "duration": 14,
    "start_time": "2022-09-22T16:58:50.030Z"
   },
   {
    "duration": 5,
    "start_time": "2022-09-22T17:00:21.730Z"
   },
   {
    "duration": 4,
    "start_time": "2022-09-22T17:00:54.296Z"
   },
   {
    "duration": 1217,
    "start_time": "2022-09-22T17:01:11.448Z"
   },
   {
    "duration": 53,
    "start_time": "2022-09-22T17:01:12.667Z"
   },
   {
    "duration": 18,
    "start_time": "2022-09-22T17:01:12.722Z"
   },
   {
    "duration": 26,
    "start_time": "2022-09-22T17:01:12.742Z"
   },
   {
    "duration": 9,
    "start_time": "2022-09-22T17:01:12.770Z"
   },
   {
    "duration": 9,
    "start_time": "2022-09-22T17:01:12.780Z"
   },
   {
    "duration": 7,
    "start_time": "2022-09-22T17:01:12.790Z"
   },
   {
    "duration": 8,
    "start_time": "2022-09-22T17:01:12.799Z"
   },
   {
    "duration": 24,
    "start_time": "2022-09-22T17:01:12.808Z"
   },
   {
    "duration": 21,
    "start_time": "2022-09-22T17:01:12.834Z"
   },
   {
    "duration": 4,
    "start_time": "2022-09-22T17:01:12.857Z"
   },
   {
    "duration": 97,
    "start_time": "2022-09-22T17:01:12.863Z"
   },
   {
    "duration": 11,
    "start_time": "2022-09-22T17:01:12.962Z"
   },
   {
    "duration": 19,
    "start_time": "2022-09-22T17:01:12.977Z"
   },
   {
    "duration": 37,
    "start_time": "2022-09-22T17:01:12.997Z"
   },
   {
    "duration": 24,
    "start_time": "2022-09-22T17:01:13.036Z"
   },
   {
    "duration": 21,
    "start_time": "2022-09-22T17:01:13.062Z"
   },
   {
    "duration": 8,
    "start_time": "2022-09-22T17:01:13.084Z"
   },
   {
    "duration": 54,
    "start_time": "2022-09-22T17:01:13.094Z"
   },
   {
    "duration": 7,
    "start_time": "2022-09-22T17:01:13.150Z"
   },
   {
    "duration": 8,
    "start_time": "2022-09-22T17:01:13.158Z"
   },
   {
    "duration": 16,
    "start_time": "2022-09-22T17:01:13.167Z"
   },
   {
    "duration": 376,
    "start_time": "2022-09-22T17:01:13.185Z"
   },
   {
    "duration": 5,
    "start_time": "2022-09-22T17:01:13.563Z"
   },
   {
    "duration": 27,
    "start_time": "2022-09-22T17:01:13.569Z"
   },
   {
    "duration": 12,
    "start_time": "2022-09-22T17:01:13.597Z"
   },
   {
    "duration": 5,
    "start_time": "2022-09-22T17:01:13.610Z"
   },
   {
    "duration": 6,
    "start_time": "2022-09-22T17:01:13.616Z"
   },
   {
    "duration": 39,
    "start_time": "2022-09-22T17:01:13.624Z"
   },
   {
    "duration": 6,
    "start_time": "2022-09-22T17:01:13.665Z"
   },
   {
    "duration": 173,
    "start_time": "2022-09-22T17:01:13.674Z"
   },
   {
    "duration": 223,
    "start_time": "2022-09-22T17:01:13.851Z"
   },
   {
    "duration": 7,
    "start_time": "2022-09-22T17:01:14.076Z"
   },
   {
    "duration": 426,
    "start_time": "2022-09-22T17:01:14.085Z"
   },
   {
    "duration": 33,
    "start_time": "2022-09-22T17:01:14.512Z"
   },
   {
    "duration": 7,
    "start_time": "2022-09-22T17:01:14.547Z"
   },
   {
    "duration": 5,
    "start_time": "2022-09-22T17:01:14.555Z"
   },
   {
    "duration": 355,
    "start_time": "2022-09-22T17:01:14.562Z"
   },
   {
    "duration": 9,
    "start_time": "2022-09-22T17:01:14.920Z"
   },
   {
    "duration": 16,
    "start_time": "2022-09-22T17:01:14.931Z"
   },
   {
    "duration": 229,
    "start_time": "2022-09-22T17:01:14.953Z"
   },
   {
    "duration": 8,
    "start_time": "2022-09-22T17:01:15.184Z"
   },
   {
    "duration": 260,
    "start_time": "2022-09-22T17:01:15.194Z"
   },
   {
    "duration": 200,
    "start_time": "2022-09-22T17:01:15.456Z"
   },
   {
    "duration": 6,
    "start_time": "2022-09-22T17:01:15.657Z"
   },
   {
    "duration": 26,
    "start_time": "2022-09-22T17:01:15.664Z"
   },
   {
    "duration": 1492,
    "start_time": "2022-09-22T17:01:15.691Z"
   },
   {
    "duration": 85,
    "start_time": "2022-09-22T17:01:17.185Z"
   },
   {
    "duration": 16,
    "start_time": "2022-09-22T17:01:17.271Z"
   },
   {
    "duration": 227,
    "start_time": "2022-09-22T17:01:17.289Z"
   },
   {
    "duration": 8,
    "start_time": "2022-09-22T17:01:17.517Z"
   },
   {
    "duration": 434,
    "start_time": "2022-09-22T17:01:17.539Z"
   },
   {
    "duration": 501,
    "start_time": "2022-09-22T17:01:17.975Z"
   },
   {
    "duration": 436,
    "start_time": "2022-09-22T17:01:18.478Z"
   },
   {
    "duration": 440,
    "start_time": "2022-09-22T17:01:18.915Z"
   },
   {
    "duration": 459,
    "start_time": "2022-09-22T17:01:19.357Z"
   },
   {
    "duration": 425,
    "start_time": "2022-09-22T17:01:19.818Z"
   },
   {
    "duration": 13,
    "start_time": "2022-09-22T17:01:20.245Z"
   },
   {
    "duration": 4,
    "start_time": "2022-09-22T17:01:20.259Z"
   },
   {
    "duration": 6,
    "start_time": "2022-09-22T17:01:20.265Z"
   },
   {
    "duration": 18,
    "start_time": "2022-09-22T17:01:20.273Z"
   },
   {
    "duration": 6,
    "start_time": "2022-09-22T17:01:20.293Z"
   },
   {
    "duration": 22,
    "start_time": "2022-09-22T17:01:20.301Z"
   },
   {
    "duration": 120,
    "start_time": "2022-09-22T17:04:39.557Z"
   },
   {
    "duration": 864,
    "start_time": "2022-09-22T17:04:53.946Z"
   },
   {
    "duration": 1150,
    "start_time": "2022-09-22T17:05:03.564Z"
   },
   {
    "duration": 61,
    "start_time": "2022-09-22T17:05:04.716Z"
   },
   {
    "duration": 22,
    "start_time": "2022-09-22T17:05:04.779Z"
   },
   {
    "duration": 18,
    "start_time": "2022-09-22T17:05:04.804Z"
   },
   {
    "duration": 19,
    "start_time": "2022-09-22T17:05:04.823Z"
   },
   {
    "duration": 5,
    "start_time": "2022-09-22T17:05:04.847Z"
   },
   {
    "duration": 32,
    "start_time": "2022-09-22T17:05:04.853Z"
   },
   {
    "duration": 3,
    "start_time": "2022-09-22T17:05:04.886Z"
   },
   {
    "duration": 19,
    "start_time": "2022-09-22T17:05:04.890Z"
   },
   {
    "duration": 41,
    "start_time": "2022-09-22T17:05:04.911Z"
   },
   {
    "duration": 17,
    "start_time": "2022-09-22T17:05:04.954Z"
   },
   {
    "duration": 6,
    "start_time": "2022-09-22T17:05:04.973Z"
   },
   {
    "duration": 69,
    "start_time": "2022-09-22T17:05:04.980Z"
   },
   {
    "duration": 9,
    "start_time": "2022-09-22T17:05:05.051Z"
   },
   {
    "duration": 20,
    "start_time": "2022-09-22T17:05:05.061Z"
   },
   {
    "duration": 19,
    "start_time": "2022-09-22T17:05:05.083Z"
   },
   {
    "duration": 51,
    "start_time": "2022-09-22T17:05:05.104Z"
   },
   {
    "duration": 21,
    "start_time": "2022-09-22T17:05:05.157Z"
   },
   {
    "duration": 7,
    "start_time": "2022-09-22T17:05:05.180Z"
   },
   {
    "duration": 19,
    "start_time": "2022-09-22T17:05:05.189Z"
   },
   {
    "duration": 37,
    "start_time": "2022-09-22T17:05:05.210Z"
   },
   {
    "duration": 7,
    "start_time": "2022-09-22T17:05:05.252Z"
   },
   {
    "duration": 16,
    "start_time": "2022-09-22T17:05:05.260Z"
   },
   {
    "duration": 384,
    "start_time": "2022-09-22T17:05:05.277Z"
   },
   {
    "duration": 4,
    "start_time": "2022-09-22T17:05:05.663Z"
   },
   {
    "duration": 18,
    "start_time": "2022-09-22T17:05:05.668Z"
   },
   {
    "duration": 6,
    "start_time": "2022-09-22T17:05:05.688Z"
   },
   {
    "duration": 15,
    "start_time": "2022-09-22T17:05:05.697Z"
   },
   {
    "duration": 21,
    "start_time": "2022-09-22T17:05:05.713Z"
   },
   {
    "duration": 25,
    "start_time": "2022-09-22T17:05:05.736Z"
   },
   {
    "duration": 6,
    "start_time": "2022-09-22T17:05:05.762Z"
   },
   {
    "duration": 186,
    "start_time": "2022-09-22T17:05:05.769Z"
   },
   {
    "duration": 238,
    "start_time": "2022-09-22T17:05:05.957Z"
   },
   {
    "duration": 8,
    "start_time": "2022-09-22T17:05:06.197Z"
   },
   {
    "duration": 489,
    "start_time": "2022-09-22T17:05:06.206Z"
   },
   {
    "duration": 13,
    "start_time": "2022-09-22T17:05:06.697Z"
   },
   {
    "duration": 10,
    "start_time": "2022-09-22T17:05:06.711Z"
   },
   {
    "duration": 8,
    "start_time": "2022-09-22T17:05:06.733Z"
   },
   {
    "duration": 347,
    "start_time": "2022-09-22T17:05:06.742Z"
   },
   {
    "duration": 8,
    "start_time": "2022-09-22T17:05:07.091Z"
   },
   {
    "duration": 8,
    "start_time": "2022-09-22T17:05:07.101Z"
   },
   {
    "duration": 216,
    "start_time": "2022-09-22T17:05:07.111Z"
   },
   {
    "duration": 18,
    "start_time": "2022-09-22T17:05:07.329Z"
   },
   {
    "duration": 248,
    "start_time": "2022-09-22T17:05:07.349Z"
   },
   {
    "duration": 189,
    "start_time": "2022-09-22T17:05:07.599Z"
   },
   {
    "duration": 6,
    "start_time": "2022-09-22T17:05:07.790Z"
   },
   {
    "duration": 9,
    "start_time": "2022-09-22T17:05:07.798Z"
   },
   {
    "duration": 1456,
    "start_time": "2022-09-22T17:05:07.810Z"
   },
   {
    "duration": 87,
    "start_time": "2022-09-22T17:05:09.268Z"
   },
   {
    "duration": 17,
    "start_time": "2022-09-22T17:05:09.357Z"
   },
   {
    "duration": 230,
    "start_time": "2022-09-22T17:05:09.376Z"
   },
   {
    "duration": 14,
    "start_time": "2022-09-22T17:05:09.608Z"
   },
   {
    "duration": 427,
    "start_time": "2022-09-22T17:05:09.633Z"
   },
   {
    "duration": 511,
    "start_time": "2022-09-22T17:05:10.061Z"
   },
   {
    "duration": 427,
    "start_time": "2022-09-22T17:05:10.574Z"
   },
   {
    "duration": 425,
    "start_time": "2022-09-22T17:05:11.003Z"
   },
   {
    "duration": 449,
    "start_time": "2022-09-22T17:05:11.432Z"
   },
   {
    "duration": 429,
    "start_time": "2022-09-22T17:05:11.883Z"
   },
   {
    "duration": 23,
    "start_time": "2022-09-22T17:05:12.314Z"
   },
   {
    "duration": 7,
    "start_time": "2022-09-22T17:05:12.340Z"
   },
   {
    "duration": 14,
    "start_time": "2022-09-22T17:05:12.349Z"
   },
   {
    "duration": 13,
    "start_time": "2022-09-22T17:05:12.365Z"
   },
   {
    "duration": 33,
    "start_time": "2022-09-22T17:05:12.380Z"
   },
   {
    "duration": 12,
    "start_time": "2022-09-22T17:05:12.415Z"
   },
   {
    "duration": 1180,
    "start_time": "2022-09-22T17:06:50.351Z"
   },
   {
    "duration": 60,
    "start_time": "2022-09-22T17:06:51.533Z"
   },
   {
    "duration": 16,
    "start_time": "2022-09-22T17:06:51.595Z"
   },
   {
    "duration": 20,
    "start_time": "2022-09-22T17:06:51.613Z"
   },
   {
    "duration": 13,
    "start_time": "2022-09-22T17:06:51.638Z"
   },
   {
    "duration": 9,
    "start_time": "2022-09-22T17:06:51.653Z"
   },
   {
    "duration": 28,
    "start_time": "2022-09-22T17:06:51.664Z"
   },
   {
    "duration": 1220,
    "start_time": "2022-09-22T17:06:51.694Z"
   },
   {
    "duration": 0,
    "start_time": "2022-09-22T17:06:52.918Z"
   },
   {
    "duration": 0,
    "start_time": "2022-09-22T17:06:52.920Z"
   },
   {
    "duration": 0,
    "start_time": "2022-09-22T17:06:52.922Z"
   },
   {
    "duration": 0,
    "start_time": "2022-09-22T17:06:52.923Z"
   },
   {
    "duration": 0,
    "start_time": "2022-09-22T17:06:52.924Z"
   },
   {
    "duration": 0,
    "start_time": "2022-09-22T17:06:52.926Z"
   },
   {
    "duration": 0,
    "start_time": "2022-09-22T17:06:52.928Z"
   },
   {
    "duration": 0,
    "start_time": "2022-09-22T17:06:52.929Z"
   },
   {
    "duration": 0,
    "start_time": "2022-09-22T17:06:52.931Z"
   },
   {
    "duration": 0,
    "start_time": "2022-09-22T17:06:52.932Z"
   },
   {
    "duration": 0,
    "start_time": "2022-09-22T17:06:52.935Z"
   },
   {
    "duration": 0,
    "start_time": "2022-09-22T17:06:52.941Z"
   },
   {
    "duration": 0,
    "start_time": "2022-09-22T17:06:52.943Z"
   },
   {
    "duration": 0,
    "start_time": "2022-09-22T17:06:52.944Z"
   },
   {
    "duration": 0,
    "start_time": "2022-09-22T17:06:52.945Z"
   },
   {
    "duration": 0,
    "start_time": "2022-09-22T17:06:52.947Z"
   },
   {
    "duration": 0,
    "start_time": "2022-09-22T17:06:52.948Z"
   },
   {
    "duration": 0,
    "start_time": "2022-09-22T17:06:52.949Z"
   },
   {
    "duration": 0,
    "start_time": "2022-09-22T17:06:52.950Z"
   },
   {
    "duration": 0,
    "start_time": "2022-09-22T17:06:52.953Z"
   },
   {
    "duration": 0,
    "start_time": "2022-09-22T17:06:52.954Z"
   },
   {
    "duration": 0,
    "start_time": "2022-09-22T17:06:52.956Z"
   },
   {
    "duration": 0,
    "start_time": "2022-09-22T17:06:52.957Z"
   },
   {
    "duration": 0,
    "start_time": "2022-09-22T17:06:52.958Z"
   },
   {
    "duration": 0,
    "start_time": "2022-09-22T17:06:52.960Z"
   },
   {
    "duration": 0,
    "start_time": "2022-09-22T17:06:52.961Z"
   },
   {
    "duration": 0,
    "start_time": "2022-09-22T17:06:52.962Z"
   },
   {
    "duration": 0,
    "start_time": "2022-09-22T17:06:52.963Z"
   },
   {
    "duration": 1,
    "start_time": "2022-09-22T17:06:52.964Z"
   },
   {
    "duration": 0,
    "start_time": "2022-09-22T17:06:52.967Z"
   },
   {
    "duration": 0,
    "start_time": "2022-09-22T17:06:52.968Z"
   },
   {
    "duration": 0,
    "start_time": "2022-09-22T17:06:52.970Z"
   },
   {
    "duration": 0,
    "start_time": "2022-09-22T17:06:52.971Z"
   },
   {
    "duration": 0,
    "start_time": "2022-09-22T17:06:52.972Z"
   },
   {
    "duration": 0,
    "start_time": "2022-09-22T17:06:52.974Z"
   },
   {
    "duration": 0,
    "start_time": "2022-09-22T17:06:52.975Z"
   },
   {
    "duration": 0,
    "start_time": "2022-09-22T17:06:52.976Z"
   },
   {
    "duration": 0,
    "start_time": "2022-09-22T17:06:52.978Z"
   },
   {
    "duration": 0,
    "start_time": "2022-09-22T17:06:52.978Z"
   },
   {
    "duration": 0,
    "start_time": "2022-09-22T17:06:52.980Z"
   },
   {
    "duration": 0,
    "start_time": "2022-09-22T17:06:53.034Z"
   },
   {
    "duration": 0,
    "start_time": "2022-09-22T17:06:53.035Z"
   },
   {
    "duration": 0,
    "start_time": "2022-09-22T17:06:53.036Z"
   },
   {
    "duration": 0,
    "start_time": "2022-09-22T17:06:53.036Z"
   },
   {
    "duration": 0,
    "start_time": "2022-09-22T17:06:53.037Z"
   },
   {
    "duration": 0,
    "start_time": "2022-09-22T17:06:53.040Z"
   },
   {
    "duration": 0,
    "start_time": "2022-09-22T17:06:53.041Z"
   },
   {
    "duration": 0,
    "start_time": "2022-09-22T17:06:53.041Z"
   },
   {
    "duration": 0,
    "start_time": "2022-09-22T17:06:53.042Z"
   },
   {
    "duration": 0,
    "start_time": "2022-09-22T17:06:53.042Z"
   },
   {
    "duration": 0,
    "start_time": "2022-09-22T17:06:53.043Z"
   },
   {
    "duration": 0,
    "start_time": "2022-09-22T17:06:53.044Z"
   },
   {
    "duration": 0,
    "start_time": "2022-09-22T17:06:53.044Z"
   },
   {
    "duration": 0,
    "start_time": "2022-09-22T17:06:53.045Z"
   },
   {
    "duration": 0,
    "start_time": "2022-09-22T17:06:53.046Z"
   },
   {
    "duration": 0,
    "start_time": "2022-09-22T17:06:53.046Z"
   },
   {
    "duration": 0,
    "start_time": "2022-09-22T17:06:53.047Z"
   },
   {
    "duration": 22,
    "start_time": "2022-09-22T17:07:14.272Z"
   },
   {
    "duration": 20,
    "start_time": "2022-09-22T17:08:19.211Z"
   },
   {
    "duration": 1215,
    "start_time": "2022-09-22T17:10:15.688Z"
   },
   {
    "duration": 62,
    "start_time": "2022-09-22T17:10:16.905Z"
   },
   {
    "duration": 16,
    "start_time": "2022-09-22T17:10:16.970Z"
   },
   {
    "duration": 25,
    "start_time": "2022-09-22T17:10:16.989Z"
   },
   {
    "duration": 17,
    "start_time": "2022-09-22T17:10:17.033Z"
   },
   {
    "duration": 12,
    "start_time": "2022-09-22T17:10:17.053Z"
   },
   {
    "duration": 27,
    "start_time": "2022-09-22T17:10:17.066Z"
   },
   {
    "duration": 43,
    "start_time": "2022-09-22T17:10:17.095Z"
   },
   {
    "duration": 26,
    "start_time": "2022-09-22T17:10:17.145Z"
   },
   {
    "duration": 21,
    "start_time": "2022-09-22T17:10:17.172Z"
   },
   {
    "duration": 6,
    "start_time": "2022-09-22T17:10:17.196Z"
   },
   {
    "duration": 7,
    "start_time": "2022-09-22T17:10:17.204Z"
   },
   {
    "duration": 49,
    "start_time": "2022-09-22T17:10:17.212Z"
   },
   {
    "duration": 23,
    "start_time": "2022-09-22T17:10:17.265Z"
   },
   {
    "duration": 14,
    "start_time": "2022-09-22T17:10:17.290Z"
   },
   {
    "duration": 94,
    "start_time": "2022-09-22T17:10:17.306Z"
   },
   {
    "duration": 12,
    "start_time": "2022-09-22T17:10:17.403Z"
   },
   {
    "duration": 66,
    "start_time": "2022-09-22T17:10:17.417Z"
   },
   {
    "duration": 34,
    "start_time": "2022-09-22T17:10:17.486Z"
   },
   {
    "duration": 34,
    "start_time": "2022-09-22T17:10:17.522Z"
   },
   {
    "duration": 19,
    "start_time": "2022-09-22T17:10:17.558Z"
   },
   {
    "duration": 7,
    "start_time": "2022-09-22T17:10:17.578Z"
   },
   {
    "duration": 49,
    "start_time": "2022-09-22T17:10:17.586Z"
   },
   {
    "duration": 12,
    "start_time": "2022-09-22T17:10:17.636Z"
   },
   {
    "duration": 13,
    "start_time": "2022-09-22T17:10:17.649Z"
   },
   {
    "duration": 17,
    "start_time": "2022-09-22T17:10:17.664Z"
   },
   {
    "duration": 376,
    "start_time": "2022-09-22T17:10:17.682Z"
   },
   {
    "duration": 4,
    "start_time": "2022-09-22T17:10:18.060Z"
   },
   {
    "duration": 23,
    "start_time": "2022-09-22T17:10:18.066Z"
   },
   {
    "duration": 10,
    "start_time": "2022-09-22T17:10:18.090Z"
   },
   {
    "duration": 8,
    "start_time": "2022-09-22T17:10:18.102Z"
   },
   {
    "duration": 20,
    "start_time": "2022-09-22T17:10:18.111Z"
   },
   {
    "duration": 49,
    "start_time": "2022-09-22T17:10:18.133Z"
   },
   {
    "duration": 6,
    "start_time": "2022-09-22T17:10:18.184Z"
   },
   {
    "duration": 162,
    "start_time": "2022-09-22T17:10:18.192Z"
   },
   {
    "duration": 238,
    "start_time": "2022-09-22T17:10:18.356Z"
   },
   {
    "duration": 8,
    "start_time": "2022-09-22T17:10:18.596Z"
   },
   {
    "duration": 386,
    "start_time": "2022-09-22T17:10:18.606Z"
   },
   {
    "duration": 12,
    "start_time": "2022-09-22T17:10:18.994Z"
   },
   {
    "duration": 19,
    "start_time": "2022-09-22T17:10:19.007Z"
   },
   {
    "duration": 23,
    "start_time": "2022-09-22T17:10:19.034Z"
   },
   {
    "duration": 347,
    "start_time": "2022-09-22T17:10:19.058Z"
   },
   {
    "duration": 8,
    "start_time": "2022-09-22T17:10:19.407Z"
   },
   {
    "duration": 12,
    "start_time": "2022-09-22T17:10:19.417Z"
   },
   {
    "duration": 220,
    "start_time": "2022-09-22T17:10:19.431Z"
   },
   {
    "duration": 8,
    "start_time": "2022-09-22T17:10:19.653Z"
   },
   {
    "duration": 276,
    "start_time": "2022-09-22T17:10:19.662Z"
   },
   {
    "duration": 176,
    "start_time": "2022-09-22T17:10:19.940Z"
   },
   {
    "duration": 5,
    "start_time": "2022-09-22T17:10:20.118Z"
   },
   {
    "duration": 11,
    "start_time": "2022-09-22T17:10:20.139Z"
   },
   {
    "duration": 1461,
    "start_time": "2022-09-22T17:10:20.151Z"
   },
   {
    "duration": 90,
    "start_time": "2022-09-22T17:10:21.614Z"
   },
   {
    "duration": 38,
    "start_time": "2022-09-22T17:10:21.707Z"
   },
   {
    "duration": 278,
    "start_time": "2022-09-22T17:10:21.747Z"
   },
   {
    "duration": 19,
    "start_time": "2022-09-22T17:10:22.027Z"
   },
   {
    "duration": 433,
    "start_time": "2022-09-22T17:10:22.048Z"
   },
   {
    "duration": 520,
    "start_time": "2022-09-22T17:10:22.483Z"
   },
   {
    "duration": 406,
    "start_time": "2022-09-22T17:10:23.005Z"
   },
   {
    "duration": 407,
    "start_time": "2022-09-22T17:10:23.413Z"
   },
   {
    "duration": 446,
    "start_time": "2022-09-22T17:10:23.822Z"
   },
   {
    "duration": 407,
    "start_time": "2022-09-22T17:10:24.269Z"
   },
   {
    "duration": 12,
    "start_time": "2022-09-22T17:10:24.677Z"
   },
   {
    "duration": 9,
    "start_time": "2022-09-22T17:10:24.690Z"
   },
   {
    "duration": 18,
    "start_time": "2022-09-22T17:10:24.701Z"
   },
   {
    "duration": 41,
    "start_time": "2022-09-22T17:10:24.720Z"
   },
   {
    "duration": 10,
    "start_time": "2022-09-22T17:10:24.763Z"
   },
   {
    "duration": 14,
    "start_time": "2022-09-22T17:10:24.774Z"
   },
   {
    "duration": 1100,
    "start_time": "2022-09-22T17:18:22.958Z"
   },
   {
    "duration": 1166,
    "start_time": "2022-09-22T17:18:34.553Z"
   },
   {
    "duration": 64,
    "start_time": "2022-09-22T17:18:35.722Z"
   },
   {
    "duration": 16,
    "start_time": "2022-09-22T17:18:35.787Z"
   },
   {
    "duration": 19,
    "start_time": "2022-09-22T17:18:35.805Z"
   },
   {
    "duration": 25,
    "start_time": "2022-09-22T17:18:35.826Z"
   },
   {
    "duration": 7,
    "start_time": "2022-09-22T17:18:35.854Z"
   },
   {
    "duration": 26,
    "start_time": "2022-09-22T17:18:35.862Z"
   },
   {
    "duration": 21,
    "start_time": "2022-09-22T17:18:35.891Z"
   },
   {
    "duration": 36,
    "start_time": "2022-09-22T17:18:35.913Z"
   },
   {
    "duration": 20,
    "start_time": "2022-09-22T17:18:35.952Z"
   },
   {
    "duration": 10,
    "start_time": "2022-09-22T17:18:35.974Z"
   },
   {
    "duration": 45,
    "start_time": "2022-09-22T17:18:35.985Z"
   },
   {
    "duration": 0,
    "start_time": "2022-09-22T17:18:36.034Z"
   },
   {
    "duration": 0,
    "start_time": "2022-09-22T17:18:36.035Z"
   },
   {
    "duration": 0,
    "start_time": "2022-09-22T17:18:36.040Z"
   },
   {
    "duration": 0,
    "start_time": "2022-09-22T17:18:36.041Z"
   },
   {
    "duration": 0,
    "start_time": "2022-09-22T17:18:36.041Z"
   },
   {
    "duration": 0,
    "start_time": "2022-09-22T17:18:36.043Z"
   },
   {
    "duration": 0,
    "start_time": "2022-09-22T17:18:36.044Z"
   },
   {
    "duration": 0,
    "start_time": "2022-09-22T17:18:36.045Z"
   },
   {
    "duration": 0,
    "start_time": "2022-09-22T17:18:36.046Z"
   },
   {
    "duration": 0,
    "start_time": "2022-09-22T17:18:36.047Z"
   },
   {
    "duration": 0,
    "start_time": "2022-09-22T17:18:36.049Z"
   },
   {
    "duration": 0,
    "start_time": "2022-09-22T17:18:36.050Z"
   },
   {
    "duration": 0,
    "start_time": "2022-09-22T17:18:36.051Z"
   },
   {
    "duration": 0,
    "start_time": "2022-09-22T17:18:36.053Z"
   },
   {
    "duration": 0,
    "start_time": "2022-09-22T17:18:36.054Z"
   },
   {
    "duration": 0,
    "start_time": "2022-09-22T17:18:36.055Z"
   },
   {
    "duration": 0,
    "start_time": "2022-09-22T17:18:36.056Z"
   },
   {
    "duration": 0,
    "start_time": "2022-09-22T17:18:36.057Z"
   },
   {
    "duration": 0,
    "start_time": "2022-09-22T17:18:36.058Z"
   },
   {
    "duration": 0,
    "start_time": "2022-09-22T17:18:36.059Z"
   },
   {
    "duration": 0,
    "start_time": "2022-09-22T17:18:36.061Z"
   },
   {
    "duration": 0,
    "start_time": "2022-09-22T17:18:36.062Z"
   },
   {
    "duration": 0,
    "start_time": "2022-09-22T17:18:36.063Z"
   },
   {
    "duration": 0,
    "start_time": "2022-09-22T17:18:36.064Z"
   },
   {
    "duration": 0,
    "start_time": "2022-09-22T17:18:36.065Z"
   },
   {
    "duration": 0,
    "start_time": "2022-09-22T17:18:36.067Z"
   },
   {
    "duration": 0,
    "start_time": "2022-09-22T17:18:36.068Z"
   },
   {
    "duration": 0,
    "start_time": "2022-09-22T17:18:36.069Z"
   },
   {
    "duration": 0,
    "start_time": "2022-09-22T17:18:36.070Z"
   },
   {
    "duration": 0,
    "start_time": "2022-09-22T17:18:36.071Z"
   },
   {
    "duration": 0,
    "start_time": "2022-09-22T17:18:36.073Z"
   },
   {
    "duration": 0,
    "start_time": "2022-09-22T17:18:36.073Z"
   },
   {
    "duration": 0,
    "start_time": "2022-09-22T17:18:36.075Z"
   },
   {
    "duration": 0,
    "start_time": "2022-09-22T17:18:36.076Z"
   },
   {
    "duration": 0,
    "start_time": "2022-09-22T17:18:36.077Z"
   },
   {
    "duration": 0,
    "start_time": "2022-09-22T17:18:36.077Z"
   },
   {
    "duration": 0,
    "start_time": "2022-09-22T17:18:36.078Z"
   },
   {
    "duration": 0,
    "start_time": "2022-09-22T17:18:36.137Z"
   },
   {
    "duration": 0,
    "start_time": "2022-09-22T17:18:36.139Z"
   },
   {
    "duration": 0,
    "start_time": "2022-09-22T17:18:36.140Z"
   },
   {
    "duration": 0,
    "start_time": "2022-09-22T17:18:36.141Z"
   },
   {
    "duration": 0,
    "start_time": "2022-09-22T17:18:36.142Z"
   },
   {
    "duration": 0,
    "start_time": "2022-09-22T17:18:36.143Z"
   },
   {
    "duration": 0,
    "start_time": "2022-09-22T17:18:36.144Z"
   },
   {
    "duration": 0,
    "start_time": "2022-09-22T17:18:36.146Z"
   },
   {
    "duration": 0,
    "start_time": "2022-09-22T17:18:36.147Z"
   },
   {
    "duration": 0,
    "start_time": "2022-09-22T17:18:36.148Z"
   },
   {
    "duration": 0,
    "start_time": "2022-09-22T17:18:36.149Z"
   },
   {
    "duration": 0,
    "start_time": "2022-09-22T17:18:36.153Z"
   },
   {
    "duration": 0,
    "start_time": "2022-09-22T17:18:36.154Z"
   },
   {
    "duration": 0,
    "start_time": "2022-09-22T17:18:36.154Z"
   },
   {
    "duration": 0,
    "start_time": "2022-09-22T17:18:36.155Z"
   },
   {
    "duration": 0,
    "start_time": "2022-09-22T17:18:36.157Z"
   },
   {
    "duration": 1171,
    "start_time": "2022-09-22T17:19:56.860Z"
   },
   {
    "duration": 58,
    "start_time": "2022-09-22T17:19:58.033Z"
   },
   {
    "duration": 15,
    "start_time": "2022-09-22T17:19:58.092Z"
   },
   {
    "duration": 18,
    "start_time": "2022-09-22T17:19:58.109Z"
   },
   {
    "duration": 18,
    "start_time": "2022-09-22T17:19:58.128Z"
   },
   {
    "duration": 15,
    "start_time": "2022-09-22T17:19:58.148Z"
   },
   {
    "duration": 30,
    "start_time": "2022-09-22T17:19:58.165Z"
   },
   {
    "duration": 20,
    "start_time": "2022-09-22T17:19:58.197Z"
   },
   {
    "duration": 23,
    "start_time": "2022-09-22T17:19:58.219Z"
   },
   {
    "duration": 21,
    "start_time": "2022-09-22T17:19:58.247Z"
   },
   {
    "duration": 6,
    "start_time": "2022-09-22T17:19:58.270Z"
   },
   {
    "duration": 10,
    "start_time": "2022-09-22T17:19:58.277Z"
   },
   {
    "duration": 61,
    "start_time": "2022-09-22T17:19:58.288Z"
   },
   {
    "duration": 0,
    "start_time": "2022-09-22T17:19:58.351Z"
   },
   {
    "duration": 0,
    "start_time": "2022-09-22T17:19:58.352Z"
   },
   {
    "duration": 0,
    "start_time": "2022-09-22T17:19:58.353Z"
   },
   {
    "duration": 0,
    "start_time": "2022-09-22T17:19:58.354Z"
   },
   {
    "duration": 0,
    "start_time": "2022-09-22T17:19:58.355Z"
   },
   {
    "duration": 0,
    "start_time": "2022-09-22T17:19:58.356Z"
   },
   {
    "duration": 0,
    "start_time": "2022-09-22T17:19:58.357Z"
   },
   {
    "duration": 0,
    "start_time": "2022-09-22T17:19:58.358Z"
   },
   {
    "duration": 0,
    "start_time": "2022-09-22T17:19:58.359Z"
   },
   {
    "duration": 0,
    "start_time": "2022-09-22T17:19:58.359Z"
   },
   {
    "duration": 0,
    "start_time": "2022-09-22T17:19:58.360Z"
   },
   {
    "duration": 0,
    "start_time": "2022-09-22T17:19:58.361Z"
   },
   {
    "duration": 0,
    "start_time": "2022-09-22T17:19:58.362Z"
   },
   {
    "duration": 0,
    "start_time": "2022-09-22T17:19:58.363Z"
   },
   {
    "duration": 0,
    "start_time": "2022-09-22T17:19:58.364Z"
   },
   {
    "duration": 0,
    "start_time": "2022-09-22T17:19:58.365Z"
   },
   {
    "duration": 0,
    "start_time": "2022-09-22T17:19:58.366Z"
   },
   {
    "duration": 0,
    "start_time": "2022-09-22T17:19:58.367Z"
   },
   {
    "duration": 0,
    "start_time": "2022-09-22T17:19:58.368Z"
   },
   {
    "duration": 0,
    "start_time": "2022-09-22T17:19:58.369Z"
   },
   {
    "duration": 0,
    "start_time": "2022-09-22T17:19:58.370Z"
   },
   {
    "duration": 0,
    "start_time": "2022-09-22T17:19:58.371Z"
   },
   {
    "duration": 0,
    "start_time": "2022-09-22T17:19:58.372Z"
   },
   {
    "duration": 0,
    "start_time": "2022-09-22T17:19:58.373Z"
   },
   {
    "duration": 0,
    "start_time": "2022-09-22T17:19:58.374Z"
   },
   {
    "duration": 0,
    "start_time": "2022-09-22T17:19:58.375Z"
   },
   {
    "duration": 0,
    "start_time": "2022-09-22T17:19:58.376Z"
   },
   {
    "duration": 0,
    "start_time": "2022-09-22T17:19:58.377Z"
   },
   {
    "duration": 0,
    "start_time": "2022-09-22T17:19:58.378Z"
   },
   {
    "duration": 0,
    "start_time": "2022-09-22T17:19:58.379Z"
   },
   {
    "duration": 0,
    "start_time": "2022-09-22T17:19:58.380Z"
   },
   {
    "duration": 0,
    "start_time": "2022-09-22T17:19:58.381Z"
   },
   {
    "duration": 0,
    "start_time": "2022-09-22T17:19:58.382Z"
   },
   {
    "duration": 0,
    "start_time": "2022-09-22T17:19:58.383Z"
   },
   {
    "duration": 0,
    "start_time": "2022-09-22T17:19:58.384Z"
   },
   {
    "duration": 0,
    "start_time": "2022-09-22T17:19:58.385Z"
   },
   {
    "duration": 0,
    "start_time": "2022-09-22T17:19:58.386Z"
   },
   {
    "duration": 0,
    "start_time": "2022-09-22T17:19:58.387Z"
   },
   {
    "duration": 0,
    "start_time": "2022-09-22T17:19:58.388Z"
   },
   {
    "duration": 0,
    "start_time": "2022-09-22T17:19:58.389Z"
   },
   {
    "duration": 0,
    "start_time": "2022-09-22T17:19:58.390Z"
   },
   {
    "duration": 0,
    "start_time": "2022-09-22T17:19:58.435Z"
   },
   {
    "duration": 0,
    "start_time": "2022-09-22T17:19:58.438Z"
   },
   {
    "duration": 0,
    "start_time": "2022-09-22T17:19:58.438Z"
   },
   {
    "duration": 0,
    "start_time": "2022-09-22T17:19:58.439Z"
   },
   {
    "duration": 0,
    "start_time": "2022-09-22T17:19:58.440Z"
   },
   {
    "duration": 0,
    "start_time": "2022-09-22T17:19:58.440Z"
   },
   {
    "duration": 0,
    "start_time": "2022-09-22T17:19:58.441Z"
   },
   {
    "duration": 0,
    "start_time": "2022-09-22T17:19:58.441Z"
   },
   {
    "duration": 0,
    "start_time": "2022-09-22T17:19:58.443Z"
   },
   {
    "duration": 0,
    "start_time": "2022-09-22T17:19:58.448Z"
   },
   {
    "duration": 0,
    "start_time": "2022-09-22T17:19:58.452Z"
   },
   {
    "duration": 0,
    "start_time": "2022-09-22T17:19:58.453Z"
   },
   {
    "duration": 1131,
    "start_time": "2022-09-22T17:22:33.497Z"
   },
   {
    "duration": 66,
    "start_time": "2022-09-22T17:22:34.630Z"
   },
   {
    "duration": 18,
    "start_time": "2022-09-22T17:22:34.698Z"
   },
   {
    "duration": 28,
    "start_time": "2022-09-22T17:22:34.718Z"
   },
   {
    "duration": 23,
    "start_time": "2022-09-22T17:22:34.748Z"
   },
   {
    "duration": 3,
    "start_time": "2022-09-22T17:22:34.773Z"
   },
   {
    "duration": 22,
    "start_time": "2022-09-22T17:22:34.778Z"
   },
   {
    "duration": 21,
    "start_time": "2022-09-22T17:22:34.801Z"
   },
   {
    "duration": 40,
    "start_time": "2022-09-22T17:22:34.824Z"
   },
   {
    "duration": 28,
    "start_time": "2022-09-22T17:22:34.866Z"
   },
   {
    "duration": 6,
    "start_time": "2022-09-22T17:22:34.896Z"
   },
   {
    "duration": 13,
    "start_time": "2022-09-22T17:22:34.903Z"
   },
   {
    "duration": 45,
    "start_time": "2022-09-22T17:22:34.918Z"
   },
   {
    "duration": 25,
    "start_time": "2022-09-22T17:22:34.965Z"
   },
   {
    "duration": 48,
    "start_time": "2022-09-22T17:22:34.992Z"
   },
   {
    "duration": 36,
    "start_time": "2022-09-22T17:22:35.041Z"
   },
   {
    "duration": 15,
    "start_time": "2022-09-22T17:22:35.079Z"
   },
   {
    "duration": 84,
    "start_time": "2022-09-22T17:22:35.096Z"
   },
   {
    "duration": 8,
    "start_time": "2022-09-22T17:22:35.182Z"
   },
   {
    "duration": 25,
    "start_time": "2022-09-22T17:22:35.192Z"
   },
   {
    "duration": 55,
    "start_time": "2022-09-22T17:22:35.218Z"
   },
   {
    "duration": 385,
    "start_time": "2022-09-22T17:22:35.275Z"
   },
   {
    "duration": 4,
    "start_time": "2022-09-22T17:22:35.662Z"
   },
   {
    "duration": 30,
    "start_time": "2022-09-22T17:22:35.668Z"
   },
   {
    "duration": 20,
    "start_time": "2022-09-22T17:22:35.700Z"
   },
   {
    "duration": 40,
    "start_time": "2022-09-22T17:22:35.722Z"
   },
   {
    "duration": 24,
    "start_time": "2022-09-22T17:22:35.764Z"
   },
   {
    "duration": 36,
    "start_time": "2022-09-22T17:22:35.793Z"
   },
   {
    "duration": 14,
    "start_time": "2022-09-22T17:22:35.830Z"
   },
   {
    "duration": 170,
    "start_time": "2022-09-22T17:22:35.845Z"
   },
   {
    "duration": 250,
    "start_time": "2022-09-22T17:22:36.016Z"
   },
   {
    "duration": 8,
    "start_time": "2022-09-22T17:22:36.269Z"
   },
   {
    "duration": 426,
    "start_time": "2022-09-22T17:22:36.279Z"
   },
   {
    "duration": 13,
    "start_time": "2022-09-22T17:22:36.707Z"
   },
   {
    "duration": 23,
    "start_time": "2022-09-22T17:22:36.737Z"
   },
   {
    "duration": 11,
    "start_time": "2022-09-22T17:22:36.762Z"
   },
   {
    "duration": 358,
    "start_time": "2022-09-22T17:22:36.775Z"
   },
   {
    "duration": 16,
    "start_time": "2022-09-22T17:22:37.136Z"
   },
   {
    "duration": 13,
    "start_time": "2022-09-22T17:22:37.158Z"
   },
   {
    "duration": 213,
    "start_time": "2022-09-22T17:22:37.173Z"
   },
   {
    "duration": 9,
    "start_time": "2022-09-22T17:22:37.388Z"
   },
   {
    "duration": 259,
    "start_time": "2022-09-22T17:22:37.398Z"
   },
   {
    "duration": 191,
    "start_time": "2022-09-22T17:22:37.658Z"
   },
   {
    "duration": 10,
    "start_time": "2022-09-22T17:22:37.851Z"
   },
   {
    "duration": 15,
    "start_time": "2022-09-22T17:22:37.863Z"
   },
   {
    "duration": 1493,
    "start_time": "2022-09-22T17:22:37.879Z"
   },
   {
    "duration": 85,
    "start_time": "2022-09-22T17:22:39.374Z"
   },
   {
    "duration": 16,
    "start_time": "2022-09-22T17:22:39.464Z"
   },
   {
    "duration": 240,
    "start_time": "2022-09-22T17:22:39.482Z"
   },
   {
    "duration": 8,
    "start_time": "2022-09-22T17:22:39.724Z"
   },
   {
    "duration": 462,
    "start_time": "2022-09-22T17:22:39.734Z"
   },
   {
    "duration": 490,
    "start_time": "2022-09-22T17:22:40.198Z"
   },
   {
    "duration": 418,
    "start_time": "2022-09-22T17:22:40.689Z"
   },
   {
    "duration": 404,
    "start_time": "2022-09-22T17:22:41.109Z"
   },
   {
    "duration": 468,
    "start_time": "2022-09-22T17:22:41.515Z"
   },
   {
    "duration": 413,
    "start_time": "2022-09-22T17:22:41.985Z"
   },
   {
    "duration": 12,
    "start_time": "2022-09-22T17:22:42.400Z"
   },
   {
    "duration": 37,
    "start_time": "2022-09-22T17:22:42.413Z"
   },
   {
    "duration": 14,
    "start_time": "2022-09-22T17:22:42.457Z"
   },
   {
    "duration": 25,
    "start_time": "2022-09-22T17:22:42.472Z"
   },
   {
    "duration": 14,
    "start_time": "2022-09-22T17:22:42.498Z"
   },
   {
    "duration": 14,
    "start_time": "2022-09-22T17:22:42.513Z"
   },
   {
    "duration": 1246,
    "start_time": "2022-09-22T17:45:05.415Z"
   },
   {
    "duration": 57,
    "start_time": "2022-09-22T17:45:06.664Z"
   },
   {
    "duration": 22,
    "start_time": "2022-09-22T17:45:06.723Z"
   },
   {
    "duration": 18,
    "start_time": "2022-09-22T17:45:06.750Z"
   },
   {
    "duration": 8,
    "start_time": "2022-09-22T17:45:06.770Z"
   },
   {
    "duration": 7,
    "start_time": "2022-09-22T17:45:06.779Z"
   },
   {
    "duration": 25,
    "start_time": "2022-09-22T17:45:06.787Z"
   },
   {
    "duration": 35,
    "start_time": "2022-09-22T17:45:06.814Z"
   },
   {
    "duration": 21,
    "start_time": "2022-09-22T17:45:06.850Z"
   },
   {
    "duration": 21,
    "start_time": "2022-09-22T17:45:06.875Z"
   },
   {
    "duration": 11,
    "start_time": "2022-09-22T17:45:06.897Z"
   },
   {
    "duration": 29,
    "start_time": "2022-09-22T17:45:06.910Z"
   },
   {
    "duration": 19,
    "start_time": "2022-09-22T17:45:06.940Z"
   },
   {
    "duration": 7,
    "start_time": "2022-09-22T17:45:06.961Z"
   },
   {
    "duration": 25,
    "start_time": "2022-09-22T17:45:06.970Z"
   },
   {
    "duration": 15,
    "start_time": "2022-09-22T17:45:06.996Z"
   },
   {
    "duration": 6,
    "start_time": "2022-09-22T17:45:07.012Z"
   },
   {
    "duration": 68,
    "start_time": "2022-09-22T17:45:07.019Z"
   },
   {
    "duration": 5,
    "start_time": "2022-09-22T17:45:07.088Z"
   },
   {
    "duration": 27,
    "start_time": "2022-09-22T17:45:07.094Z"
   },
   {
    "duration": 390,
    "start_time": "2022-09-22T17:45:07.123Z"
   },
   {
    "duration": 4,
    "start_time": "2022-09-22T17:45:07.515Z"
   },
   {
    "duration": 34,
    "start_time": "2022-09-22T17:45:07.521Z"
   },
   {
    "duration": 8,
    "start_time": "2022-09-22T17:45:07.557Z"
   },
   {
    "duration": 10,
    "start_time": "2022-09-22T17:45:07.567Z"
   },
   {
    "duration": 7,
    "start_time": "2022-09-22T17:45:07.579Z"
   },
   {
    "duration": 50,
    "start_time": "2022-09-22T17:45:07.588Z"
   },
   {
    "duration": 118,
    "start_time": "2022-09-22T17:45:07.642Z"
   },
   {
    "duration": 0,
    "start_time": "2022-09-22T17:45:07.762Z"
   },
   {
    "duration": 0,
    "start_time": "2022-09-22T17:45:07.763Z"
   },
   {
    "duration": 0,
    "start_time": "2022-09-22T17:45:07.764Z"
   },
   {
    "duration": 0,
    "start_time": "2022-09-22T17:45:07.766Z"
   },
   {
    "duration": 0,
    "start_time": "2022-09-22T17:45:07.767Z"
   },
   {
    "duration": 0,
    "start_time": "2022-09-22T17:45:07.768Z"
   },
   {
    "duration": 0,
    "start_time": "2022-09-22T17:45:07.770Z"
   },
   {
    "duration": 0,
    "start_time": "2022-09-22T17:45:07.770Z"
   },
   {
    "duration": 0,
    "start_time": "2022-09-22T17:45:07.772Z"
   },
   {
    "duration": 0,
    "start_time": "2022-09-22T17:45:07.773Z"
   },
   {
    "duration": 0,
    "start_time": "2022-09-22T17:45:07.774Z"
   },
   {
    "duration": 0,
    "start_time": "2022-09-22T17:45:07.775Z"
   },
   {
    "duration": 0,
    "start_time": "2022-09-22T17:45:07.776Z"
   },
   {
    "duration": 0,
    "start_time": "2022-09-22T17:45:07.777Z"
   },
   {
    "duration": 0,
    "start_time": "2022-09-22T17:45:07.778Z"
   },
   {
    "duration": 0,
    "start_time": "2022-09-22T17:45:07.780Z"
   },
   {
    "duration": 0,
    "start_time": "2022-09-22T17:45:07.781Z"
   },
   {
    "duration": 0,
    "start_time": "2022-09-22T17:45:07.782Z"
   },
   {
    "duration": 0,
    "start_time": "2022-09-22T17:45:07.783Z"
   },
   {
    "duration": 0,
    "start_time": "2022-09-22T17:45:07.784Z"
   },
   {
    "duration": 0,
    "start_time": "2022-09-22T17:45:07.785Z"
   },
   {
    "duration": 1,
    "start_time": "2022-09-22T17:45:07.786Z"
   },
   {
    "duration": 0,
    "start_time": "2022-09-22T17:45:07.788Z"
   },
   {
    "duration": 0,
    "start_time": "2022-09-22T17:45:07.788Z"
   },
   {
    "duration": 1,
    "start_time": "2022-09-22T17:45:07.789Z"
   },
   {
    "duration": 0,
    "start_time": "2022-09-22T17:45:07.835Z"
   },
   {
    "duration": 0,
    "start_time": "2022-09-22T17:45:07.836Z"
   },
   {
    "duration": 0,
    "start_time": "2022-09-22T17:45:07.837Z"
   },
   {
    "duration": 0,
    "start_time": "2022-09-22T17:45:07.837Z"
   },
   {
    "duration": 0,
    "start_time": "2022-09-22T17:45:07.838Z"
   },
   {
    "duration": 1,
    "start_time": "2022-09-22T17:45:07.838Z"
   },
   {
    "duration": 0,
    "start_time": "2022-09-22T17:45:07.839Z"
   },
   {
    "duration": 0,
    "start_time": "2022-09-22T17:45:07.840Z"
   },
   {
    "duration": 0,
    "start_time": "2022-09-22T17:45:07.840Z"
   },
   {
    "duration": 1129,
    "start_time": "2022-09-22T17:45:33.299Z"
   },
   {
    "duration": 68,
    "start_time": "2022-09-22T17:45:34.430Z"
   },
   {
    "duration": 12,
    "start_time": "2022-09-22T17:45:34.500Z"
   },
   {
    "duration": 16,
    "start_time": "2022-09-22T17:45:34.514Z"
   },
   {
    "duration": 22,
    "start_time": "2022-09-22T17:45:34.531Z"
   },
   {
    "duration": 18,
    "start_time": "2022-09-22T17:45:34.554Z"
   },
   {
    "duration": 24,
    "start_time": "2022-09-22T17:45:34.574Z"
   },
   {
    "duration": 21,
    "start_time": "2022-09-22T17:45:34.600Z"
   },
   {
    "duration": 32,
    "start_time": "2022-09-22T17:45:34.623Z"
   },
   {
    "duration": 20,
    "start_time": "2022-09-22T17:45:34.665Z"
   },
   {
    "duration": 6,
    "start_time": "2022-09-22T17:45:34.687Z"
   },
   {
    "duration": 11,
    "start_time": "2022-09-22T17:45:34.694Z"
   },
   {
    "duration": 5,
    "start_time": "2022-09-22T17:45:34.707Z"
   },
   {
    "duration": 8,
    "start_time": "2022-09-22T17:45:34.713Z"
   },
   {
    "duration": 44,
    "start_time": "2022-09-22T17:45:34.722Z"
   },
   {
    "duration": 15,
    "start_time": "2022-09-22T17:45:34.768Z"
   },
   {
    "duration": 20,
    "start_time": "2022-09-22T17:45:34.785Z"
   },
   {
    "duration": 62,
    "start_time": "2022-09-22T17:45:34.807Z"
   },
   {
    "duration": 4,
    "start_time": "2022-09-22T17:45:34.871Z"
   },
   {
    "duration": 20,
    "start_time": "2022-09-22T17:45:34.876Z"
   },
   {
    "duration": 396,
    "start_time": "2022-09-22T17:45:34.897Z"
   },
   {
    "duration": 4,
    "start_time": "2022-09-22T17:45:35.294Z"
   },
   {
    "duration": 19,
    "start_time": "2022-09-22T17:45:35.300Z"
   },
   {
    "duration": 6,
    "start_time": "2022-09-22T17:45:35.320Z"
   },
   {
    "duration": 14,
    "start_time": "2022-09-22T17:45:35.327Z"
   },
   {
    "duration": 27,
    "start_time": "2022-09-22T17:45:35.342Z"
   },
   {
    "duration": 33,
    "start_time": "2022-09-22T17:45:35.370Z"
   },
   {
    "duration": 100,
    "start_time": "2022-09-22T17:45:35.407Z"
   },
   {
    "duration": 0,
    "start_time": "2022-09-22T17:45:35.509Z"
   },
   {
    "duration": 0,
    "start_time": "2022-09-22T17:45:35.510Z"
   },
   {
    "duration": 0,
    "start_time": "2022-09-22T17:45:35.511Z"
   },
   {
    "duration": 0,
    "start_time": "2022-09-22T17:45:35.512Z"
   },
   {
    "duration": 0,
    "start_time": "2022-09-22T17:45:35.513Z"
   },
   {
    "duration": 0,
    "start_time": "2022-09-22T17:45:35.514Z"
   },
   {
    "duration": 0,
    "start_time": "2022-09-22T17:45:35.515Z"
   },
   {
    "duration": 0,
    "start_time": "2022-09-22T17:45:35.516Z"
   },
   {
    "duration": 0,
    "start_time": "2022-09-22T17:45:35.516Z"
   },
   {
    "duration": 0,
    "start_time": "2022-09-22T17:45:35.518Z"
   },
   {
    "duration": 0,
    "start_time": "2022-09-22T17:45:35.519Z"
   },
   {
    "duration": 0,
    "start_time": "2022-09-22T17:45:35.520Z"
   },
   {
    "duration": 0,
    "start_time": "2022-09-22T17:45:35.533Z"
   },
   {
    "duration": 0,
    "start_time": "2022-09-22T17:45:35.534Z"
   },
   {
    "duration": 0,
    "start_time": "2022-09-22T17:45:35.534Z"
   },
   {
    "duration": 0,
    "start_time": "2022-09-22T17:45:35.537Z"
   },
   {
    "duration": 0,
    "start_time": "2022-09-22T17:45:35.537Z"
   },
   {
    "duration": 0,
    "start_time": "2022-09-22T17:45:35.538Z"
   },
   {
    "duration": 0,
    "start_time": "2022-09-22T17:45:35.539Z"
   },
   {
    "duration": 0,
    "start_time": "2022-09-22T17:45:35.540Z"
   },
   {
    "duration": 0,
    "start_time": "2022-09-22T17:45:35.541Z"
   },
   {
    "duration": 0,
    "start_time": "2022-09-22T17:45:35.541Z"
   },
   {
    "duration": 0,
    "start_time": "2022-09-22T17:45:35.542Z"
   },
   {
    "duration": 0,
    "start_time": "2022-09-22T17:45:35.543Z"
   },
   {
    "duration": 0,
    "start_time": "2022-09-22T17:45:35.544Z"
   },
   {
    "duration": 0,
    "start_time": "2022-09-22T17:45:35.545Z"
   },
   {
    "duration": 0,
    "start_time": "2022-09-22T17:45:35.546Z"
   },
   {
    "duration": 0,
    "start_time": "2022-09-22T17:45:35.547Z"
   },
   {
    "duration": 0,
    "start_time": "2022-09-22T17:45:35.548Z"
   },
   {
    "duration": 0,
    "start_time": "2022-09-22T17:45:35.549Z"
   },
   {
    "duration": 0,
    "start_time": "2022-09-22T17:45:35.549Z"
   },
   {
    "duration": 0,
    "start_time": "2022-09-22T17:45:35.550Z"
   },
   {
    "duration": 0,
    "start_time": "2022-09-22T17:45:35.551Z"
   },
   {
    "duration": 0,
    "start_time": "2022-09-22T17:45:35.554Z"
   },
   {
    "duration": 1121,
    "start_time": "2022-09-22T17:45:57.129Z"
   },
   {
    "duration": 54,
    "start_time": "2022-09-22T17:45:58.257Z"
   },
   {
    "duration": 14,
    "start_time": "2022-09-22T17:45:58.312Z"
   },
   {
    "duration": 30,
    "start_time": "2022-09-22T17:45:58.328Z"
   },
   {
    "duration": 14,
    "start_time": "2022-09-22T17:45:58.361Z"
   },
   {
    "duration": 10,
    "start_time": "2022-09-22T17:45:58.376Z"
   },
   {
    "duration": 33,
    "start_time": "2022-09-22T17:45:58.388Z"
   },
   {
    "duration": 36,
    "start_time": "2022-09-22T17:45:58.423Z"
   },
   {
    "duration": 26,
    "start_time": "2022-09-22T17:45:58.461Z"
   },
   {
    "duration": 20,
    "start_time": "2022-09-22T17:45:58.488Z"
   },
   {
    "duration": 13,
    "start_time": "2022-09-22T17:45:58.509Z"
   },
   {
    "duration": 16,
    "start_time": "2022-09-22T17:45:58.523Z"
   },
   {
    "duration": 22,
    "start_time": "2022-09-22T17:45:58.545Z"
   },
   {
    "duration": 19,
    "start_time": "2022-09-22T17:45:58.570Z"
   },
   {
    "duration": 34,
    "start_time": "2022-09-22T17:45:58.600Z"
   },
   {
    "duration": 19,
    "start_time": "2022-09-22T17:45:58.636Z"
   },
   {
    "duration": 9,
    "start_time": "2022-09-22T17:45:58.661Z"
   },
   {
    "duration": 56,
    "start_time": "2022-09-22T17:45:58.672Z"
   },
   {
    "duration": 30,
    "start_time": "2022-09-22T17:45:58.730Z"
   },
   {
    "duration": 19,
    "start_time": "2022-09-22T17:45:58.762Z"
   },
   {
    "duration": 395,
    "start_time": "2022-09-22T17:45:58.783Z"
   },
   {
    "duration": 5,
    "start_time": "2022-09-22T17:45:59.180Z"
   },
   {
    "duration": 21,
    "start_time": "2022-09-22T17:45:59.187Z"
   },
   {
    "duration": 7,
    "start_time": "2022-09-22T17:45:59.209Z"
   },
   {
    "duration": 42,
    "start_time": "2022-09-22T17:45:59.218Z"
   },
   {
    "duration": 5,
    "start_time": "2022-09-22T17:45:59.262Z"
   },
   {
    "duration": 28,
    "start_time": "2022-09-22T17:45:59.269Z"
   },
   {
    "duration": 112,
    "start_time": "2022-09-22T17:45:59.298Z"
   },
   {
    "duration": 0,
    "start_time": "2022-09-22T17:45:59.412Z"
   },
   {
    "duration": 0,
    "start_time": "2022-09-22T17:45:59.413Z"
   },
   {
    "duration": 0,
    "start_time": "2022-09-22T17:45:59.414Z"
   },
   {
    "duration": 0,
    "start_time": "2022-09-22T17:45:59.415Z"
   },
   {
    "duration": 0,
    "start_time": "2022-09-22T17:45:59.416Z"
   },
   {
    "duration": 0,
    "start_time": "2022-09-22T17:45:59.418Z"
   },
   {
    "duration": 0,
    "start_time": "2022-09-22T17:45:59.419Z"
   },
   {
    "duration": 0,
    "start_time": "2022-09-22T17:45:59.420Z"
   },
   {
    "duration": 0,
    "start_time": "2022-09-22T17:45:59.422Z"
   },
   {
    "duration": 0,
    "start_time": "2022-09-22T17:45:59.433Z"
   },
   {
    "duration": 0,
    "start_time": "2022-09-22T17:45:59.434Z"
   },
   {
    "duration": 0,
    "start_time": "2022-09-22T17:45:59.435Z"
   },
   {
    "duration": 0,
    "start_time": "2022-09-22T17:45:59.435Z"
   },
   {
    "duration": 0,
    "start_time": "2022-09-22T17:45:59.440Z"
   },
   {
    "duration": 0,
    "start_time": "2022-09-22T17:45:59.448Z"
   },
   {
    "duration": 0,
    "start_time": "2022-09-22T17:45:59.449Z"
   },
   {
    "duration": 0,
    "start_time": "2022-09-22T17:45:59.449Z"
   },
   {
    "duration": 0,
    "start_time": "2022-09-22T17:45:59.450Z"
   },
   {
    "duration": 0,
    "start_time": "2022-09-22T17:45:59.451Z"
   },
   {
    "duration": 0,
    "start_time": "2022-09-22T17:45:59.452Z"
   },
   {
    "duration": 0,
    "start_time": "2022-09-22T17:45:59.453Z"
   },
   {
    "duration": 0,
    "start_time": "2022-09-22T17:45:59.455Z"
   },
   {
    "duration": 0,
    "start_time": "2022-09-22T17:45:59.456Z"
   },
   {
    "duration": 0,
    "start_time": "2022-09-22T17:45:59.457Z"
   },
   {
    "duration": 0,
    "start_time": "2022-09-22T17:45:59.458Z"
   },
   {
    "duration": 0,
    "start_time": "2022-09-22T17:45:59.459Z"
   },
   {
    "duration": 0,
    "start_time": "2022-09-22T17:45:59.460Z"
   },
   {
    "duration": 0,
    "start_time": "2022-09-22T17:45:59.462Z"
   },
   {
    "duration": 0,
    "start_time": "2022-09-22T17:45:59.463Z"
   },
   {
    "duration": 0,
    "start_time": "2022-09-22T17:45:59.464Z"
   },
   {
    "duration": 0,
    "start_time": "2022-09-22T17:45:59.465Z"
   },
   {
    "duration": 0,
    "start_time": "2022-09-22T17:45:59.466Z"
   },
   {
    "duration": 0,
    "start_time": "2022-09-22T17:45:59.467Z"
   },
   {
    "duration": 0,
    "start_time": "2022-09-22T17:45:59.468Z"
   },
   {
    "duration": 6,
    "start_time": "2022-09-22T17:47:39.004Z"
   },
   {
    "duration": 1157,
    "start_time": "2022-09-22T17:47:45.987Z"
   },
   {
    "duration": 57,
    "start_time": "2022-09-22T17:47:47.147Z"
   },
   {
    "duration": 14,
    "start_time": "2022-09-22T17:47:47.206Z"
   },
   {
    "duration": 23,
    "start_time": "2022-09-22T17:47:47.222Z"
   },
   {
    "duration": 15,
    "start_time": "2022-09-22T17:47:47.246Z"
   },
   {
    "duration": 9,
    "start_time": "2022-09-22T17:47:47.263Z"
   },
   {
    "duration": 22,
    "start_time": "2022-09-22T17:47:47.274Z"
   },
   {
    "duration": 19,
    "start_time": "2022-09-22T17:47:47.298Z"
   },
   {
    "duration": 36,
    "start_time": "2022-09-22T17:47:47.319Z"
   },
   {
    "duration": 27,
    "start_time": "2022-09-22T17:47:47.357Z"
   },
   {
    "duration": 5,
    "start_time": "2022-09-22T17:47:47.385Z"
   },
   {
    "duration": 8,
    "start_time": "2022-09-22T17:47:47.392Z"
   },
   {
    "duration": 6,
    "start_time": "2022-09-22T17:47:47.402Z"
   },
   {
    "duration": 14,
    "start_time": "2022-09-22T17:47:47.409Z"
   },
   {
    "duration": 39,
    "start_time": "2022-09-22T17:47:47.425Z"
   },
   {
    "duration": 16,
    "start_time": "2022-09-22T17:47:47.466Z"
   },
   {
    "duration": 17,
    "start_time": "2022-09-22T17:47:47.484Z"
   },
   {
    "duration": 64,
    "start_time": "2022-09-22T17:47:47.502Z"
   },
   {
    "duration": 4,
    "start_time": "2022-09-22T17:47:47.568Z"
   },
   {
    "duration": 15,
    "start_time": "2022-09-22T17:47:47.573Z"
   },
   {
    "duration": 381,
    "start_time": "2022-09-22T17:47:47.590Z"
   },
   {
    "duration": 4,
    "start_time": "2022-09-22T17:47:47.973Z"
   },
   {
    "duration": 27,
    "start_time": "2022-09-22T17:47:47.978Z"
   },
   {
    "duration": 10,
    "start_time": "2022-09-22T17:47:48.006Z"
   },
   {
    "duration": 6,
    "start_time": "2022-09-22T17:47:48.017Z"
   },
   {
    "duration": 22,
    "start_time": "2022-09-22T17:47:48.024Z"
   },
   {
    "duration": 30,
    "start_time": "2022-09-22T17:47:48.052Z"
   },
   {
    "duration": 5,
    "start_time": "2022-09-22T17:47:48.085Z"
   },
   {
    "duration": 10,
    "start_time": "2022-09-22T17:47:48.091Z"
   },
   {
    "duration": 166,
    "start_time": "2022-09-22T17:47:48.103Z"
   },
   {
    "duration": 234,
    "start_time": "2022-09-22T17:47:48.272Z"
   },
   {
    "duration": 7,
    "start_time": "2022-09-22T17:47:48.508Z"
   },
   {
    "duration": 385,
    "start_time": "2022-09-22T17:47:48.516Z"
   },
   {
    "duration": 13,
    "start_time": "2022-09-22T17:47:48.902Z"
   },
   {
    "duration": 31,
    "start_time": "2022-09-22T17:47:48.916Z"
   },
   {
    "duration": 29,
    "start_time": "2022-09-22T17:47:48.949Z"
   },
   {
    "duration": 354,
    "start_time": "2022-09-22T17:47:48.980Z"
   },
   {
    "duration": 9,
    "start_time": "2022-09-22T17:47:49.338Z"
   },
   {
    "duration": 22,
    "start_time": "2022-09-22T17:47:49.348Z"
   },
   {
    "duration": 211,
    "start_time": "2022-09-22T17:47:49.371Z"
   },
   {
    "duration": 7,
    "start_time": "2022-09-22T17:47:49.584Z"
   },
   {
    "duration": 279,
    "start_time": "2022-09-22T17:47:49.593Z"
   },
   {
    "duration": 190,
    "start_time": "2022-09-22T17:47:49.875Z"
   },
   {
    "duration": 6,
    "start_time": "2022-09-22T17:47:50.066Z"
   },
   {
    "duration": 16,
    "start_time": "2022-09-22T17:47:50.074Z"
   },
   {
    "duration": 1401,
    "start_time": "2022-09-22T17:47:50.092Z"
   },
   {
    "duration": 81,
    "start_time": "2022-09-22T17:47:51.494Z"
   },
   {
    "duration": 16,
    "start_time": "2022-09-22T17:47:51.577Z"
   },
   {
    "duration": 261,
    "start_time": "2022-09-22T17:47:51.594Z"
   },
   {
    "duration": 8,
    "start_time": "2022-09-22T17:47:51.856Z"
   },
   {
    "duration": 428,
    "start_time": "2022-09-22T17:47:51.865Z"
   },
   {
    "duration": 525,
    "start_time": "2022-09-22T17:47:52.295Z"
   },
   {
    "duration": 447,
    "start_time": "2022-09-22T17:47:52.821Z"
   },
   {
    "duration": 470,
    "start_time": "2022-09-22T17:47:53.270Z"
   },
   {
    "duration": 436,
    "start_time": "2022-09-22T17:47:53.747Z"
   },
   {
    "duration": 411,
    "start_time": "2022-09-22T17:47:54.185Z"
   },
   {
    "duration": 12,
    "start_time": "2022-09-22T17:47:54.598Z"
   },
   {
    "duration": 6,
    "start_time": "2022-09-22T17:47:54.611Z"
   },
   {
    "duration": 15,
    "start_time": "2022-09-22T17:47:54.633Z"
   },
   {
    "duration": 23,
    "start_time": "2022-09-22T17:47:54.653Z"
   },
   {
    "duration": 3,
    "start_time": "2022-09-22T17:47:54.678Z"
   },
   {
    "duration": 8,
    "start_time": "2022-09-22T17:47:54.683Z"
   },
   {
    "duration": 12,
    "start_time": "2022-09-22T17:49:08.858Z"
   },
   {
    "duration": 1094,
    "start_time": "2022-09-22T17:49:54.228Z"
   },
   {
    "duration": 59,
    "start_time": "2022-09-22T17:49:55.324Z"
   },
   {
    "duration": 14,
    "start_time": "2022-09-22T17:49:55.385Z"
   },
   {
    "duration": 19,
    "start_time": "2022-09-22T17:49:55.401Z"
   },
   {
    "duration": 9,
    "start_time": "2022-09-22T17:49:55.422Z"
   },
   {
    "duration": 30,
    "start_time": "2022-09-22T17:49:55.432Z"
   },
   {
    "duration": 29,
    "start_time": "2022-09-22T17:49:55.464Z"
   },
   {
    "duration": 21,
    "start_time": "2022-09-22T17:49:55.495Z"
   },
   {
    "duration": 28,
    "start_time": "2022-09-22T17:49:55.518Z"
   },
   {
    "duration": 21,
    "start_time": "2022-09-22T17:49:55.549Z"
   },
   {
    "duration": 7,
    "start_time": "2022-09-22T17:49:55.571Z"
   },
   {
    "duration": 9,
    "start_time": "2022-09-22T17:49:55.579Z"
   },
   {
    "duration": 17,
    "start_time": "2022-09-22T17:49:55.590Z"
   },
   {
    "duration": 10,
    "start_time": "2022-09-22T17:49:55.608Z"
   },
   {
    "duration": 41,
    "start_time": "2022-09-22T17:49:55.620Z"
   },
   {
    "duration": 15,
    "start_time": "2022-09-22T17:49:55.663Z"
   },
   {
    "duration": 7,
    "start_time": "2022-09-22T17:49:55.679Z"
   },
   {
    "duration": 68,
    "start_time": "2022-09-22T17:49:55.687Z"
   },
   {
    "duration": 4,
    "start_time": "2022-09-22T17:49:55.757Z"
   },
   {
    "duration": 16,
    "start_time": "2022-09-22T17:49:55.762Z"
   },
   {
    "duration": 368,
    "start_time": "2022-09-22T17:49:55.780Z"
   },
   {
    "duration": 6,
    "start_time": "2022-09-22T17:49:56.150Z"
   },
   {
    "duration": 21,
    "start_time": "2022-09-22T17:49:56.157Z"
   },
   {
    "duration": 23,
    "start_time": "2022-09-22T17:49:56.180Z"
   },
   {
    "duration": 20,
    "start_time": "2022-09-22T17:49:56.205Z"
   },
   {
    "duration": 23,
    "start_time": "2022-09-22T17:49:56.227Z"
   },
   {
    "duration": 33,
    "start_time": "2022-09-22T17:49:56.251Z"
   },
   {
    "duration": 4,
    "start_time": "2022-09-22T17:49:56.288Z"
   },
   {
    "duration": 21,
    "start_time": "2022-09-22T17:49:56.294Z"
   },
   {
    "duration": 29,
    "start_time": "2022-09-22T17:49:56.318Z"
   },
   {
    "duration": 181,
    "start_time": "2022-09-22T17:49:56.349Z"
   },
   {
    "duration": 253,
    "start_time": "2022-09-22T17:49:56.532Z"
   },
   {
    "duration": 8,
    "start_time": "2022-09-22T17:49:56.786Z"
   },
   {
    "duration": 350,
    "start_time": "2022-09-22T17:49:56.796Z"
   },
   {
    "duration": 12,
    "start_time": "2022-09-22T17:49:57.148Z"
   },
   {
    "duration": 11,
    "start_time": "2022-09-22T17:49:57.161Z"
   },
   {
    "duration": 11,
    "start_time": "2022-09-22T17:49:57.173Z"
   },
   {
    "duration": 330,
    "start_time": "2022-09-22T17:49:57.185Z"
   },
   {
    "duration": 8,
    "start_time": "2022-09-22T17:49:57.517Z"
   },
   {
    "duration": 22,
    "start_time": "2022-09-22T17:49:57.527Z"
   },
   {
    "duration": 202,
    "start_time": "2022-09-22T17:49:57.550Z"
   },
   {
    "duration": 8,
    "start_time": "2022-09-22T17:49:57.754Z"
   },
   {
    "duration": 245,
    "start_time": "2022-09-22T17:49:57.764Z"
   },
   {
    "duration": 188,
    "start_time": "2022-09-22T17:49:58.011Z"
   },
   {
    "duration": 5,
    "start_time": "2022-09-22T17:49:58.201Z"
   },
   {
    "duration": 10,
    "start_time": "2022-09-22T17:49:58.208Z"
   },
   {
    "duration": 1371,
    "start_time": "2022-09-22T17:49:58.220Z"
   },
   {
    "duration": 78,
    "start_time": "2022-09-22T17:49:59.593Z"
   },
   {
    "duration": 18,
    "start_time": "2022-09-22T17:49:59.673Z"
   },
   {
    "duration": 257,
    "start_time": "2022-09-22T17:49:59.693Z"
   },
   {
    "duration": 7,
    "start_time": "2022-09-22T17:49:59.952Z"
   },
   {
    "duration": 396,
    "start_time": "2022-09-22T17:49:59.960Z"
   },
   {
    "duration": 513,
    "start_time": "2022-09-22T17:50:00.358Z"
   },
   {
    "duration": 419,
    "start_time": "2022-09-22T17:50:00.872Z"
   },
   {
    "duration": 393,
    "start_time": "2022-09-22T17:50:01.293Z"
   },
   {
    "duration": 422,
    "start_time": "2022-09-22T17:50:01.687Z"
   },
   {
    "duration": 395,
    "start_time": "2022-09-22T17:50:02.111Z"
   },
   {
    "duration": 11,
    "start_time": "2022-09-22T17:50:02.507Z"
   },
   {
    "duration": 27,
    "start_time": "2022-09-22T17:50:02.520Z"
   },
   {
    "duration": 28,
    "start_time": "2022-09-22T17:50:02.549Z"
   },
   {
    "duration": 20,
    "start_time": "2022-09-22T17:50:02.579Z"
   },
   {
    "duration": 13,
    "start_time": "2022-09-22T17:50:02.601Z"
   },
   {
    "duration": 24,
    "start_time": "2022-09-22T17:50:02.615Z"
   },
   {
    "duration": 5,
    "start_time": "2022-09-22T17:50:39.249Z"
   },
   {
    "duration": 1041,
    "start_time": "2022-09-22T17:50:44.084Z"
   },
   {
    "duration": 60,
    "start_time": "2022-09-22T17:50:45.127Z"
   },
   {
    "duration": 14,
    "start_time": "2022-09-22T17:50:45.189Z"
   },
   {
    "duration": 40,
    "start_time": "2022-09-22T17:50:45.205Z"
   },
   {
    "duration": 11,
    "start_time": "2022-09-22T17:50:45.247Z"
   },
   {
    "duration": 25,
    "start_time": "2022-09-22T17:50:45.260Z"
   },
   {
    "duration": 62,
    "start_time": "2022-09-22T17:50:45.287Z"
   },
   {
    "duration": 19,
    "start_time": "2022-09-22T17:50:45.351Z"
   },
   {
    "duration": 31,
    "start_time": "2022-09-22T17:50:45.372Z"
   },
   {
    "duration": 19,
    "start_time": "2022-09-22T17:50:45.405Z"
   },
   {
    "duration": 33,
    "start_time": "2022-09-22T17:50:45.425Z"
   },
   {
    "duration": 26,
    "start_time": "2022-09-22T17:50:45.460Z"
   },
   {
    "duration": 16,
    "start_time": "2022-09-22T17:50:45.488Z"
   },
   {
    "duration": 22,
    "start_time": "2022-09-22T17:50:45.506Z"
   },
   {
    "duration": 49,
    "start_time": "2022-09-22T17:50:45.530Z"
   },
   {
    "duration": 15,
    "start_time": "2022-09-22T17:50:45.581Z"
   },
   {
    "duration": 11,
    "start_time": "2022-09-22T17:50:45.598Z"
   },
   {
    "duration": 95,
    "start_time": "2022-09-22T17:50:45.611Z"
   },
   {
    "duration": 3,
    "start_time": "2022-09-22T17:50:45.708Z"
   },
   {
    "duration": 45,
    "start_time": "2022-09-22T17:50:45.713Z"
   },
   {
    "duration": 359,
    "start_time": "2022-09-22T17:50:45.759Z"
   },
   {
    "duration": 4,
    "start_time": "2022-09-22T17:50:46.120Z"
   },
   {
    "duration": 35,
    "start_time": "2022-09-22T17:50:46.126Z"
   },
   {
    "duration": 22,
    "start_time": "2022-09-22T17:50:46.162Z"
   },
   {
    "duration": 8,
    "start_time": "2022-09-22T17:50:46.186Z"
   },
   {
    "duration": 9,
    "start_time": "2022-09-22T17:50:46.196Z"
   },
   {
    "duration": 39,
    "start_time": "2022-09-22T17:50:46.207Z"
   },
   {
    "duration": 11,
    "start_time": "2022-09-22T17:50:46.251Z"
   },
   {
    "duration": 16,
    "start_time": "2022-09-22T17:50:46.264Z"
   },
   {
    "duration": 29,
    "start_time": "2022-09-22T17:50:46.282Z"
   },
   {
    "duration": 192,
    "start_time": "2022-09-22T17:50:46.313Z"
   },
   {
    "duration": 244,
    "start_time": "2022-09-22T17:50:46.507Z"
   },
   {
    "duration": 8,
    "start_time": "2022-09-22T17:50:46.753Z"
   },
   {
    "duration": 339,
    "start_time": "2022-09-22T17:50:46.762Z"
   },
   {
    "duration": 11,
    "start_time": "2022-09-22T17:50:47.104Z"
   },
   {
    "duration": 28,
    "start_time": "2022-09-22T17:50:47.117Z"
   },
   {
    "duration": 6,
    "start_time": "2022-09-22T17:50:47.147Z"
   },
   {
    "duration": 343,
    "start_time": "2022-09-22T17:50:47.154Z"
   },
   {
    "duration": 9,
    "start_time": "2022-09-22T17:50:47.498Z"
   },
   {
    "duration": 11,
    "start_time": "2022-09-22T17:50:47.508Z"
   },
   {
    "duration": 208,
    "start_time": "2022-09-22T17:50:47.520Z"
   },
   {
    "duration": 10,
    "start_time": "2022-09-22T17:50:47.739Z"
   },
   {
    "duration": 230,
    "start_time": "2022-09-22T17:50:47.751Z"
   },
   {
    "duration": 174,
    "start_time": "2022-09-22T17:50:47.983Z"
   },
   {
    "duration": 5,
    "start_time": "2022-09-22T17:50:48.160Z"
   },
   {
    "duration": 23,
    "start_time": "2022-09-22T17:50:48.167Z"
   },
   {
    "duration": 1316,
    "start_time": "2022-09-22T17:50:48.193Z"
   },
   {
    "duration": 75,
    "start_time": "2022-09-22T17:50:49.511Z"
   },
   {
    "duration": 19,
    "start_time": "2022-09-22T17:50:49.587Z"
   },
   {
    "duration": 257,
    "start_time": "2022-09-22T17:50:49.607Z"
   },
   {
    "duration": 9,
    "start_time": "2022-09-22T17:50:49.866Z"
   },
   {
    "duration": 430,
    "start_time": "2022-09-22T17:50:49.877Z"
   },
   {
    "duration": 488,
    "start_time": "2022-09-22T17:50:50.309Z"
   },
   {
    "duration": 409,
    "start_time": "2022-09-22T17:50:50.799Z"
   },
   {
    "duration": 389,
    "start_time": "2022-09-22T17:50:51.210Z"
   },
   {
    "duration": 425,
    "start_time": "2022-09-22T17:50:51.601Z"
   },
   {
    "duration": 381,
    "start_time": "2022-09-22T17:50:52.044Z"
   },
   {
    "duration": 24,
    "start_time": "2022-09-22T17:50:52.427Z"
   },
   {
    "duration": 4,
    "start_time": "2022-09-22T17:50:52.453Z"
   },
   {
    "duration": 11,
    "start_time": "2022-09-22T17:50:52.458Z"
   },
   {
    "duration": 17,
    "start_time": "2022-09-22T17:50:52.471Z"
   },
   {
    "duration": 4,
    "start_time": "2022-09-22T17:50:52.490Z"
   },
   {
    "duration": 15,
    "start_time": "2022-09-22T17:50:52.495Z"
   },
   {
    "duration": 7,
    "start_time": "2022-09-22T18:21:40.956Z"
   },
   {
    "duration": 18,
    "start_time": "2022-09-22T18:22:49.430Z"
   },
   {
    "duration": 8,
    "start_time": "2022-09-22T18:23:08.449Z"
   },
   {
    "duration": 1210,
    "start_time": "2022-09-22T18:23:15.960Z"
   },
   {
    "duration": 54,
    "start_time": "2022-09-22T18:23:17.172Z"
   },
   {
    "duration": 24,
    "start_time": "2022-09-22T18:23:17.227Z"
   },
   {
    "duration": 33,
    "start_time": "2022-09-22T18:23:17.253Z"
   },
   {
    "duration": 14,
    "start_time": "2022-09-22T18:23:17.287Z"
   },
   {
    "duration": 16,
    "start_time": "2022-09-22T18:23:17.303Z"
   },
   {
    "duration": 46,
    "start_time": "2022-09-22T18:23:17.320Z"
   },
   {
    "duration": 20,
    "start_time": "2022-09-22T18:23:17.368Z"
   },
   {
    "duration": 37,
    "start_time": "2022-09-22T18:23:17.389Z"
   },
   {
    "duration": 41,
    "start_time": "2022-09-22T18:23:17.428Z"
   },
   {
    "duration": 6,
    "start_time": "2022-09-22T18:23:17.471Z"
   },
   {
    "duration": 30,
    "start_time": "2022-09-22T18:23:17.479Z"
   },
   {
    "duration": 20,
    "start_time": "2022-09-22T18:23:17.510Z"
   },
   {
    "duration": 28,
    "start_time": "2022-09-22T18:23:17.532Z"
   },
   {
    "duration": 37,
    "start_time": "2022-09-22T18:23:17.562Z"
   },
   {
    "duration": 15,
    "start_time": "2022-09-22T18:23:17.600Z"
   },
   {
    "duration": 32,
    "start_time": "2022-09-22T18:23:17.617Z"
   },
   {
    "duration": 64,
    "start_time": "2022-09-22T18:23:17.651Z"
   },
   {
    "duration": 4,
    "start_time": "2022-09-22T18:23:17.717Z"
   },
   {
    "duration": 30,
    "start_time": "2022-09-22T18:23:17.723Z"
   },
   {
    "duration": 354,
    "start_time": "2022-09-22T18:23:17.754Z"
   },
   {
    "duration": 4,
    "start_time": "2022-09-22T18:23:18.109Z"
   },
   {
    "duration": 46,
    "start_time": "2022-09-22T18:23:18.114Z"
   },
   {
    "duration": 16,
    "start_time": "2022-09-22T18:23:18.162Z"
   },
   {
    "duration": 10,
    "start_time": "2022-09-22T18:23:18.179Z"
   },
   {
    "duration": 8,
    "start_time": "2022-09-22T18:23:18.190Z"
   },
   {
    "duration": 32,
    "start_time": "2022-09-22T18:23:18.199Z"
   },
   {
    "duration": 7,
    "start_time": "2022-09-22T18:23:18.235Z"
   },
   {
    "duration": 156,
    "start_time": "2022-09-22T18:23:18.243Z"
   },
   {
    "duration": 221,
    "start_time": "2022-09-22T18:23:18.400Z"
   },
   {
    "duration": 20,
    "start_time": "2022-09-22T18:23:18.623Z"
   },
   {
    "duration": 368,
    "start_time": "2022-09-22T18:23:18.645Z"
   },
   {
    "duration": 24,
    "start_time": "2022-09-22T18:23:19.015Z"
   },
   {
    "duration": 16,
    "start_time": "2022-09-22T18:23:19.040Z"
   },
   {
    "duration": 8,
    "start_time": "2022-09-22T18:23:19.058Z"
   },
   {
    "duration": 345,
    "start_time": "2022-09-22T18:23:19.068Z"
   },
   {
    "duration": 8,
    "start_time": "2022-09-22T18:23:19.415Z"
   },
   {
    "duration": 15,
    "start_time": "2022-09-22T18:23:19.425Z"
   },
   {
    "duration": 225,
    "start_time": "2022-09-22T18:23:19.441Z"
   },
   {
    "duration": 132,
    "start_time": "2022-09-22T18:23:19.668Z"
   },
   {
    "duration": 0,
    "start_time": "2022-09-22T18:23:19.802Z"
   },
   {
    "duration": 0,
    "start_time": "2022-09-22T18:23:19.803Z"
   },
   {
    "duration": 0,
    "start_time": "2022-09-22T18:23:19.804Z"
   },
   {
    "duration": 0,
    "start_time": "2022-09-22T18:23:19.805Z"
   },
   {
    "duration": 0,
    "start_time": "2022-09-22T18:23:19.806Z"
   },
   {
    "duration": 0,
    "start_time": "2022-09-22T18:23:19.808Z"
   },
   {
    "duration": 0,
    "start_time": "2022-09-22T18:23:19.808Z"
   },
   {
    "duration": 0,
    "start_time": "2022-09-22T18:23:19.809Z"
   },
   {
    "duration": 0,
    "start_time": "2022-09-22T18:23:19.811Z"
   },
   {
    "duration": 0,
    "start_time": "2022-09-22T18:23:19.811Z"
   },
   {
    "duration": 0,
    "start_time": "2022-09-22T18:23:19.838Z"
   },
   {
    "duration": 0,
    "start_time": "2022-09-22T18:23:19.838Z"
   },
   {
    "duration": 0,
    "start_time": "2022-09-22T18:23:19.839Z"
   },
   {
    "duration": 0,
    "start_time": "2022-09-22T18:23:19.841Z"
   },
   {
    "duration": 0,
    "start_time": "2022-09-22T18:23:19.842Z"
   },
   {
    "duration": 0,
    "start_time": "2022-09-22T18:23:19.843Z"
   },
   {
    "duration": 0,
    "start_time": "2022-09-22T18:23:19.844Z"
   },
   {
    "duration": 0,
    "start_time": "2022-09-22T18:23:19.844Z"
   },
   {
    "duration": 0,
    "start_time": "2022-09-22T18:23:19.845Z"
   },
   {
    "duration": 0,
    "start_time": "2022-09-22T18:23:19.848Z"
   },
   {
    "duration": 0,
    "start_time": "2022-09-22T18:23:19.849Z"
   },
   {
    "duration": 8,
    "start_time": "2022-09-22T18:23:40.060Z"
   },
   {
    "duration": 9,
    "start_time": "2022-09-22T18:27:00.291Z"
   },
   {
    "duration": 5,
    "start_time": "2022-09-22T18:35:18.898Z"
   },
   {
    "duration": 1108,
    "start_time": "2022-09-22T18:35:25.079Z"
   },
   {
    "duration": 62,
    "start_time": "2022-09-22T18:35:26.189Z"
   },
   {
    "duration": 15,
    "start_time": "2022-09-22T18:35:26.254Z"
   },
   {
    "duration": 23,
    "start_time": "2022-09-22T18:35:26.271Z"
   },
   {
    "duration": 12,
    "start_time": "2022-09-22T18:35:26.295Z"
   },
   {
    "duration": 7,
    "start_time": "2022-09-22T18:35:26.309Z"
   },
   {
    "duration": 34,
    "start_time": "2022-09-22T18:35:26.335Z"
   },
   {
    "duration": 25,
    "start_time": "2022-09-22T18:35:26.371Z"
   },
   {
    "duration": 57,
    "start_time": "2022-09-22T18:35:26.398Z"
   },
   {
    "duration": 26,
    "start_time": "2022-09-22T18:35:26.458Z"
   },
   {
    "duration": 17,
    "start_time": "2022-09-22T18:35:26.486Z"
   },
   {
    "duration": 36,
    "start_time": "2022-09-22T18:35:26.505Z"
   },
   {
    "duration": 21,
    "start_time": "2022-09-22T18:35:26.544Z"
   },
   {
    "duration": 16,
    "start_time": "2022-09-22T18:35:26.567Z"
   },
   {
    "duration": 34,
    "start_time": "2022-09-22T18:35:26.585Z"
   },
   {
    "duration": 27,
    "start_time": "2022-09-22T18:35:26.621Z"
   },
   {
    "duration": 6,
    "start_time": "2022-09-22T18:35:26.650Z"
   },
   {
    "duration": 53,
    "start_time": "2022-09-22T18:35:26.657Z"
   },
   {
    "duration": 4,
    "start_time": "2022-09-22T18:35:26.711Z"
   },
   {
    "duration": 28,
    "start_time": "2022-09-22T18:35:26.717Z"
   },
   {
    "duration": 349,
    "start_time": "2022-09-22T18:35:26.747Z"
   },
   {
    "duration": 4,
    "start_time": "2022-09-22T18:35:27.097Z"
   },
   {
    "duration": 24,
    "start_time": "2022-09-22T18:35:27.102Z"
   },
   {
    "duration": 18,
    "start_time": "2022-09-22T18:35:27.127Z"
   },
   {
    "duration": 30,
    "start_time": "2022-09-22T18:35:27.146Z"
   },
   {
    "duration": 14,
    "start_time": "2022-09-22T18:35:27.177Z"
   },
   {
    "duration": 21,
    "start_time": "2022-09-22T18:35:27.193Z"
   },
   {
    "duration": 6,
    "start_time": "2022-09-22T18:35:27.218Z"
   },
   {
    "duration": 144,
    "start_time": "2022-09-22T18:35:27.225Z"
   },
   {
    "duration": 215,
    "start_time": "2022-09-22T18:35:27.371Z"
   },
   {
    "duration": 9,
    "start_time": "2022-09-22T18:35:27.588Z"
   },
   {
    "duration": 363,
    "start_time": "2022-09-22T18:35:27.599Z"
   },
   {
    "duration": 11,
    "start_time": "2022-09-22T18:35:27.964Z"
   },
   {
    "duration": 8,
    "start_time": "2022-09-22T18:35:27.977Z"
   },
   {
    "duration": 10,
    "start_time": "2022-09-22T18:35:27.987Z"
   },
   {
    "duration": 347,
    "start_time": "2022-09-22T18:35:27.998Z"
   },
   {
    "duration": 10,
    "start_time": "2022-09-22T18:35:28.347Z"
   },
   {
    "duration": 8,
    "start_time": "2022-09-22T18:35:28.359Z"
   },
   {
    "duration": 225,
    "start_time": "2022-09-22T18:35:28.369Z"
   },
   {
    "duration": 111,
    "start_time": "2022-09-22T18:35:28.596Z"
   },
   {
    "duration": 0,
    "start_time": "2022-09-22T18:35:28.709Z"
   },
   {
    "duration": 0,
    "start_time": "2022-09-22T18:35:28.711Z"
   },
   {
    "duration": 0,
    "start_time": "2022-09-22T18:35:28.713Z"
   },
   {
    "duration": 0,
    "start_time": "2022-09-22T18:35:28.714Z"
   },
   {
    "duration": 0,
    "start_time": "2022-09-22T18:35:28.715Z"
   },
   {
    "duration": 0,
    "start_time": "2022-09-22T18:35:28.716Z"
   },
   {
    "duration": 0,
    "start_time": "2022-09-22T18:35:28.717Z"
   },
   {
    "duration": 0,
    "start_time": "2022-09-22T18:35:28.718Z"
   },
   {
    "duration": 0,
    "start_time": "2022-09-22T18:35:28.735Z"
   },
   {
    "duration": 0,
    "start_time": "2022-09-22T18:35:28.738Z"
   },
   {
    "duration": 0,
    "start_time": "2022-09-22T18:35:28.739Z"
   },
   {
    "duration": 0,
    "start_time": "2022-09-22T18:35:28.740Z"
   },
   {
    "duration": 0,
    "start_time": "2022-09-22T18:35:28.741Z"
   },
   {
    "duration": 0,
    "start_time": "2022-09-22T18:35:28.742Z"
   },
   {
    "duration": 0,
    "start_time": "2022-09-22T18:35:28.743Z"
   },
   {
    "duration": 0,
    "start_time": "2022-09-22T18:35:28.743Z"
   },
   {
    "duration": 0,
    "start_time": "2022-09-22T18:35:28.744Z"
   },
   {
    "duration": 0,
    "start_time": "2022-09-22T18:35:28.745Z"
   },
   {
    "duration": 0,
    "start_time": "2022-09-22T18:35:28.746Z"
   },
   {
    "duration": 0,
    "start_time": "2022-09-22T18:35:28.747Z"
   },
   {
    "duration": 0,
    "start_time": "2022-09-22T18:35:28.748Z"
   },
   {
    "duration": 1116,
    "start_time": "2022-09-22T18:38:30.300Z"
   },
   {
    "duration": 59,
    "start_time": "2022-09-22T18:38:31.418Z"
   },
   {
    "duration": 13,
    "start_time": "2022-09-22T18:38:31.479Z"
   },
   {
    "duration": 25,
    "start_time": "2022-09-22T18:38:31.495Z"
   },
   {
    "duration": 9,
    "start_time": "2022-09-22T18:38:31.521Z"
   },
   {
    "duration": 16,
    "start_time": "2022-09-22T18:38:31.531Z"
   },
   {
    "duration": 26,
    "start_time": "2022-09-22T18:38:31.549Z"
   },
   {
    "duration": 20,
    "start_time": "2022-09-22T18:38:31.577Z"
   },
   {
    "duration": 23,
    "start_time": "2022-09-22T18:38:31.598Z"
   },
   {
    "duration": 26,
    "start_time": "2022-09-22T18:38:31.624Z"
   },
   {
    "duration": 16,
    "start_time": "2022-09-22T18:38:31.652Z"
   },
   {
    "duration": 10,
    "start_time": "2022-09-22T18:38:31.669Z"
   },
   {
    "duration": 25,
    "start_time": "2022-09-22T18:38:31.680Z"
   },
   {
    "duration": 9,
    "start_time": "2022-09-22T18:38:31.707Z"
   },
   {
    "duration": 41,
    "start_time": "2022-09-22T18:38:31.717Z"
   },
   {
    "duration": 15,
    "start_time": "2022-09-22T18:38:31.759Z"
   },
   {
    "duration": 14,
    "start_time": "2022-09-22T18:38:31.776Z"
   },
   {
    "duration": 64,
    "start_time": "2022-09-22T18:38:31.792Z"
   },
   {
    "duration": 4,
    "start_time": "2022-09-22T18:38:31.858Z"
   },
   {
    "duration": 17,
    "start_time": "2022-09-22T18:38:31.863Z"
   },
   {
    "duration": 388,
    "start_time": "2022-09-22T18:38:31.881Z"
   },
   {
    "duration": 4,
    "start_time": "2022-09-22T18:38:32.270Z"
   },
   {
    "duration": 32,
    "start_time": "2022-09-22T18:38:32.276Z"
   },
   {
    "duration": 12,
    "start_time": "2022-09-22T18:38:32.310Z"
   },
   {
    "duration": 7,
    "start_time": "2022-09-22T18:38:32.323Z"
   },
   {
    "duration": 30,
    "start_time": "2022-09-22T18:38:32.331Z"
   },
   {
    "duration": 21,
    "start_time": "2022-09-22T18:38:32.362Z"
   },
   {
    "duration": 5,
    "start_time": "2022-09-22T18:38:32.386Z"
   },
   {
    "duration": 164,
    "start_time": "2022-09-22T18:38:32.393Z"
   },
   {
    "duration": 217,
    "start_time": "2022-09-22T18:38:32.558Z"
   },
   {
    "duration": 6,
    "start_time": "2022-09-22T18:38:32.777Z"
   },
   {
    "duration": 341,
    "start_time": "2022-09-22T18:38:32.785Z"
   },
   {
    "duration": 17,
    "start_time": "2022-09-22T18:38:33.134Z"
   },
   {
    "duration": 10,
    "start_time": "2022-09-22T18:38:33.153Z"
   },
   {
    "duration": 6,
    "start_time": "2022-09-22T18:38:33.165Z"
   },
   {
    "duration": 366,
    "start_time": "2022-09-22T18:38:33.172Z"
   },
   {
    "duration": 11,
    "start_time": "2022-09-22T18:38:33.542Z"
   },
   {
    "duration": 12,
    "start_time": "2022-09-22T18:38:33.556Z"
   },
   {
    "duration": 215,
    "start_time": "2022-09-22T18:38:33.569Z"
   },
   {
    "duration": 72,
    "start_time": "2022-09-22T18:38:33.786Z"
   },
   {
    "duration": 1431,
    "start_time": "2022-09-22T18:38:33.860Z"
   },
   {
    "duration": 77,
    "start_time": "2022-09-22T18:38:35.293Z"
   },
   {
    "duration": 16,
    "start_time": "2022-09-22T18:38:35.372Z"
   },
   {
    "duration": 226,
    "start_time": "2022-09-22T18:38:35.390Z"
   },
   {
    "duration": 19,
    "start_time": "2022-09-22T18:38:35.618Z"
   },
   {
    "duration": 439,
    "start_time": "2022-09-22T18:38:35.639Z"
   },
   {
    "duration": 518,
    "start_time": "2022-09-22T18:38:36.080Z"
   },
   {
    "duration": 515,
    "start_time": "2022-09-22T18:38:36.600Z"
   },
   {
    "duration": 406,
    "start_time": "2022-09-22T18:38:37.117Z"
   },
   {
    "duration": 420,
    "start_time": "2022-09-22T18:38:37.526Z"
   },
   {
    "duration": 412,
    "start_time": "2022-09-22T18:38:37.950Z"
   },
   {
    "duration": 10,
    "start_time": "2022-09-22T18:38:38.364Z"
   },
   {
    "duration": 9,
    "start_time": "2022-09-22T18:38:38.376Z"
   },
   {
    "duration": 7,
    "start_time": "2022-09-22T18:38:38.386Z"
   },
   {
    "duration": 15,
    "start_time": "2022-09-22T18:38:38.395Z"
   },
   {
    "duration": 30,
    "start_time": "2022-09-22T18:38:38.411Z"
   },
   {
    "duration": 6,
    "start_time": "2022-09-22T18:38:38.448Z"
   },
   {
    "duration": 1091,
    "start_time": "2022-09-22T19:01:40.282Z"
   },
   {
    "duration": 52,
    "start_time": "2022-09-22T19:01:41.375Z"
   },
   {
    "duration": 28,
    "start_time": "2022-09-22T19:01:41.430Z"
   },
   {
    "duration": 16,
    "start_time": "2022-09-22T19:01:41.460Z"
   },
   {
    "duration": 9,
    "start_time": "2022-09-22T19:01:41.478Z"
   },
   {
    "duration": 7,
    "start_time": "2022-09-22T19:01:41.488Z"
   },
   {
    "duration": 42,
    "start_time": "2022-09-22T19:01:41.497Z"
   },
   {
    "duration": 31,
    "start_time": "2022-09-22T19:01:41.541Z"
   },
   {
    "duration": 19,
    "start_time": "2022-09-22T19:01:41.574Z"
   },
   {
    "duration": 27,
    "start_time": "2022-09-22T19:01:41.596Z"
   },
   {
    "duration": 9,
    "start_time": "2022-09-22T19:01:41.640Z"
   },
   {
    "duration": 10,
    "start_time": "2022-09-22T19:01:41.651Z"
   },
   {
    "duration": 6,
    "start_time": "2022-09-22T19:01:41.663Z"
   },
   {
    "duration": 5,
    "start_time": "2022-09-22T19:01:41.672Z"
   },
   {
    "duration": 29,
    "start_time": "2022-09-22T19:01:41.679Z"
   },
   {
    "duration": 40,
    "start_time": "2022-09-22T19:01:41.710Z"
   },
   {
    "duration": 5,
    "start_time": "2022-09-22T19:01:41.752Z"
   },
   {
    "duration": 79,
    "start_time": "2022-09-22T19:01:41.759Z"
   },
   {
    "duration": 6,
    "start_time": "2022-09-22T19:01:41.844Z"
   },
   {
    "duration": 24,
    "start_time": "2022-09-22T19:01:41.852Z"
   },
   {
    "duration": 366,
    "start_time": "2022-09-22T19:01:41.878Z"
   },
   {
    "duration": 4,
    "start_time": "2022-09-22T19:01:42.246Z"
   },
   {
    "duration": 23,
    "start_time": "2022-09-22T19:01:42.254Z"
   },
   {
    "duration": 8,
    "start_time": "2022-09-22T19:01:42.278Z"
   },
   {
    "duration": 4,
    "start_time": "2022-09-22T19:01:42.288Z"
   },
   {
    "duration": 6,
    "start_time": "2022-09-22T19:01:42.293Z"
   },
   {
    "duration": 48,
    "start_time": "2022-09-22T19:01:42.301Z"
   },
   {
    "duration": 6,
    "start_time": "2022-09-22T19:01:42.352Z"
   },
   {
    "duration": 139,
    "start_time": "2022-09-22T19:01:42.359Z"
   },
   {
    "duration": 214,
    "start_time": "2022-09-22T19:01:42.500Z"
   },
   {
    "duration": 7,
    "start_time": "2022-09-22T19:01:42.716Z"
   },
   {
    "duration": 353,
    "start_time": "2022-09-22T19:01:42.724Z"
   },
   {
    "duration": 12,
    "start_time": "2022-09-22T19:01:43.078Z"
   },
   {
    "duration": 14,
    "start_time": "2022-09-22T19:01:43.091Z"
   },
   {
    "duration": 6,
    "start_time": "2022-09-22T19:01:43.107Z"
   },
   {
    "duration": 350,
    "start_time": "2022-09-22T19:01:43.115Z"
   },
   {
    "duration": 8,
    "start_time": "2022-09-22T19:01:43.467Z"
   },
   {
    "duration": 7,
    "start_time": "2022-09-22T19:01:43.477Z"
   },
   {
    "duration": 203,
    "start_time": "2022-09-22T19:01:43.486Z"
   },
   {
    "duration": 73,
    "start_time": "2022-09-22T19:01:43.691Z"
   },
   {
    "duration": 1404,
    "start_time": "2022-09-22T19:01:43.766Z"
   },
   {
    "duration": 76,
    "start_time": "2022-09-22T19:01:45.172Z"
   },
   {
    "duration": 17,
    "start_time": "2022-09-22T19:01:45.250Z"
   },
   {
    "duration": 227,
    "start_time": "2022-09-22T19:01:45.268Z"
   },
   {
    "duration": 8,
    "start_time": "2022-09-22T19:01:45.497Z"
   },
   {
    "duration": 413,
    "start_time": "2022-09-22T19:01:45.506Z"
   },
   {
    "duration": 434,
    "start_time": "2022-09-22T19:01:45.921Z"
   },
   {
    "duration": 523,
    "start_time": "2022-09-22T19:01:46.357Z"
   },
   {
    "duration": 401,
    "start_time": "2022-09-22T19:01:46.882Z"
   },
   {
    "duration": 408,
    "start_time": "2022-09-22T19:01:47.285Z"
   },
   {
    "duration": 398,
    "start_time": "2022-09-22T19:01:47.695Z"
   },
   {
    "duration": 11,
    "start_time": "2022-09-22T19:01:48.094Z"
   },
   {
    "duration": 20,
    "start_time": "2022-09-22T19:01:48.107Z"
   },
   {
    "duration": 36,
    "start_time": "2022-09-22T19:01:48.129Z"
   },
   {
    "duration": 43,
    "start_time": "2022-09-22T19:01:48.167Z"
   },
   {
    "duration": 15,
    "start_time": "2022-09-22T19:01:48.212Z"
   },
   {
    "duration": 41,
    "start_time": "2022-09-22T19:01:48.229Z"
   },
   {
    "duration": 51,
    "start_time": "2022-09-22T19:14:00.897Z"
   },
   {
    "duration": 1085,
    "start_time": "2022-09-22T19:14:09.744Z"
   },
   {
    "duration": 57,
    "start_time": "2022-09-22T19:14:10.831Z"
   },
   {
    "duration": 15,
    "start_time": "2022-09-22T19:14:10.889Z"
   },
   {
    "duration": 17,
    "start_time": "2022-09-22T19:14:10.905Z"
   },
   {
    "duration": 15,
    "start_time": "2022-09-22T19:14:10.924Z"
   },
   {
    "duration": 14,
    "start_time": "2022-09-22T19:14:10.941Z"
   },
   {
    "duration": 27,
    "start_time": "2022-09-22T19:14:10.956Z"
   },
   {
    "duration": 21,
    "start_time": "2022-09-22T19:14:10.985Z"
   },
   {
    "duration": 20,
    "start_time": "2022-09-22T19:14:11.007Z"
   },
   {
    "duration": 30,
    "start_time": "2022-09-22T19:14:11.033Z"
   },
   {
    "duration": 9,
    "start_time": "2022-09-22T19:14:11.065Z"
   },
   {
    "duration": 12,
    "start_time": "2022-09-22T19:14:11.075Z"
   },
   {
    "duration": 5,
    "start_time": "2022-09-22T19:14:11.089Z"
   },
   {
    "duration": 7,
    "start_time": "2022-09-22T19:14:11.097Z"
   },
   {
    "duration": 39,
    "start_time": "2022-09-22T19:14:11.106Z"
   },
   {
    "duration": 15,
    "start_time": "2022-09-22T19:14:11.147Z"
   },
   {
    "duration": 7,
    "start_time": "2022-09-22T19:14:11.163Z"
   },
   {
    "duration": 74,
    "start_time": "2022-09-22T19:14:11.172Z"
   },
   {
    "duration": 4,
    "start_time": "2022-09-22T19:14:11.248Z"
   },
   {
    "duration": 18,
    "start_time": "2022-09-22T19:14:11.254Z"
   },
   {
    "duration": 44,
    "start_time": "2022-09-22T19:14:11.273Z"
   },
   {
    "duration": 1,
    "start_time": "2022-09-22T19:14:11.319Z"
   },
   {
    "duration": 0,
    "start_time": "2022-09-22T19:14:11.321Z"
   },
   {
    "duration": 0,
    "start_time": "2022-09-22T19:14:11.322Z"
   },
   {
    "duration": 0,
    "start_time": "2022-09-22T19:14:11.324Z"
   },
   {
    "duration": 0,
    "start_time": "2022-09-22T19:14:11.325Z"
   },
   {
    "duration": 0,
    "start_time": "2022-09-22T19:14:11.327Z"
   },
   {
    "duration": 0,
    "start_time": "2022-09-22T19:14:11.329Z"
   },
   {
    "duration": 0,
    "start_time": "2022-09-22T19:14:11.330Z"
   },
   {
    "duration": 0,
    "start_time": "2022-09-22T19:14:11.332Z"
   },
   {
    "duration": 0,
    "start_time": "2022-09-22T19:14:11.333Z"
   },
   {
    "duration": 0,
    "start_time": "2022-09-22T19:14:11.334Z"
   },
   {
    "duration": 0,
    "start_time": "2022-09-22T19:14:11.334Z"
   },
   {
    "duration": 0,
    "start_time": "2022-09-22T19:14:11.336Z"
   },
   {
    "duration": 0,
    "start_time": "2022-09-22T19:14:11.337Z"
   },
   {
    "duration": 1,
    "start_time": "2022-09-22T19:14:11.337Z"
   },
   {
    "duration": 0,
    "start_time": "2022-09-22T19:14:11.338Z"
   },
   {
    "duration": 0,
    "start_time": "2022-09-22T19:14:11.341Z"
   },
   {
    "duration": 0,
    "start_time": "2022-09-22T19:14:11.342Z"
   },
   {
    "duration": 0,
    "start_time": "2022-09-22T19:14:11.343Z"
   },
   {
    "duration": 0,
    "start_time": "2022-09-22T19:14:11.344Z"
   },
   {
    "duration": 0,
    "start_time": "2022-09-22T19:14:11.345Z"
   },
   {
    "duration": 0,
    "start_time": "2022-09-22T19:14:11.346Z"
   },
   {
    "duration": 0,
    "start_time": "2022-09-22T19:14:11.348Z"
   },
   {
    "duration": 0,
    "start_time": "2022-09-22T19:14:11.349Z"
   },
   {
    "duration": 0,
    "start_time": "2022-09-22T19:14:11.350Z"
   },
   {
    "duration": 0,
    "start_time": "2022-09-22T19:14:11.351Z"
   },
   {
    "duration": 0,
    "start_time": "2022-09-22T19:14:11.352Z"
   },
   {
    "duration": 0,
    "start_time": "2022-09-22T19:14:11.353Z"
   },
   {
    "duration": 0,
    "start_time": "2022-09-22T19:14:11.354Z"
   },
   {
    "duration": 0,
    "start_time": "2022-09-22T19:14:11.354Z"
   },
   {
    "duration": 0,
    "start_time": "2022-09-22T19:14:11.355Z"
   },
   {
    "duration": 0,
    "start_time": "2022-09-22T19:14:11.356Z"
   },
   {
    "duration": 0,
    "start_time": "2022-09-22T19:14:11.358Z"
   },
   {
    "duration": 0,
    "start_time": "2022-09-22T19:14:11.359Z"
   },
   {
    "duration": 0,
    "start_time": "2022-09-22T19:14:11.360Z"
   },
   {
    "duration": 3,
    "start_time": "2022-09-22T19:14:47.268Z"
   },
   {
    "duration": 1170,
    "start_time": "2022-09-22T19:14:52.569Z"
   },
   {
    "duration": 54,
    "start_time": "2022-09-22T19:14:53.745Z"
   },
   {
    "duration": 14,
    "start_time": "2022-09-22T19:14:53.801Z"
   },
   {
    "duration": 42,
    "start_time": "2022-09-22T19:14:53.817Z"
   },
   {
    "duration": 8,
    "start_time": "2022-09-22T19:14:53.861Z"
   },
   {
    "duration": 12,
    "start_time": "2022-09-22T19:14:53.870Z"
   },
   {
    "duration": 26,
    "start_time": "2022-09-22T19:14:53.883Z"
   },
   {
    "duration": 19,
    "start_time": "2022-09-22T19:14:53.911Z"
   },
   {
    "duration": 23,
    "start_time": "2022-09-22T19:14:53.932Z"
   },
   {
    "duration": 21,
    "start_time": "2022-09-22T19:14:53.957Z"
   },
   {
    "duration": 26,
    "start_time": "2022-09-22T19:14:53.980Z"
   },
   {
    "duration": 15,
    "start_time": "2022-09-22T19:14:54.007Z"
   },
   {
    "duration": 8,
    "start_time": "2022-09-22T19:14:54.024Z"
   },
   {
    "duration": 17,
    "start_time": "2022-09-22T19:14:54.037Z"
   },
   {
    "duration": 27,
    "start_time": "2022-09-22T19:14:54.055Z"
   },
   {
    "duration": 14,
    "start_time": "2022-09-22T19:14:54.084Z"
   },
   {
    "duration": 11,
    "start_time": "2022-09-22T19:14:54.099Z"
   },
   {
    "duration": 67,
    "start_time": "2022-09-22T19:14:54.112Z"
   },
   {
    "duration": 4,
    "start_time": "2022-09-22T19:14:54.181Z"
   },
   {
    "duration": 39,
    "start_time": "2022-09-22T19:14:54.186Z"
   },
   {
    "duration": 34,
    "start_time": "2022-09-22T19:14:54.227Z"
   },
   {
    "duration": 17,
    "start_time": "2022-09-22T19:14:54.263Z"
   },
   {
    "duration": 26,
    "start_time": "2022-09-22T19:14:54.281Z"
   },
   {
    "duration": 11,
    "start_time": "2022-09-22T19:14:54.308Z"
   },
   {
    "duration": 35,
    "start_time": "2022-09-22T19:14:54.320Z"
   },
   {
    "duration": 8,
    "start_time": "2022-09-22T19:14:54.357Z"
   },
   {
    "duration": 28,
    "start_time": "2022-09-22T19:14:54.367Z"
   },
   {
    "duration": 154,
    "start_time": "2022-09-22T19:14:54.399Z"
   },
   {
    "duration": 216,
    "start_time": "2022-09-22T19:14:54.555Z"
   },
   {
    "duration": 7,
    "start_time": "2022-09-22T19:14:54.773Z"
   },
   {
    "duration": 342,
    "start_time": "2022-09-22T19:14:54.781Z"
   },
   {
    "duration": 19,
    "start_time": "2022-09-22T19:14:55.125Z"
   },
   {
    "duration": 17,
    "start_time": "2022-09-22T19:14:55.146Z"
   },
   {
    "duration": 20,
    "start_time": "2022-09-22T19:14:55.165Z"
   },
   {
    "duration": 334,
    "start_time": "2022-09-22T19:14:55.187Z"
   },
   {
    "duration": 8,
    "start_time": "2022-09-22T19:14:55.522Z"
   },
   {
    "duration": 30,
    "start_time": "2022-09-22T19:14:55.531Z"
   },
   {
    "duration": 208,
    "start_time": "2022-09-22T19:14:55.563Z"
   },
   {
    "duration": 79,
    "start_time": "2022-09-22T19:14:55.772Z"
   },
   {
    "duration": 1416,
    "start_time": "2022-09-22T19:14:55.852Z"
   },
   {
    "duration": 83,
    "start_time": "2022-09-22T19:14:57.270Z"
   },
   {
    "duration": 15,
    "start_time": "2022-09-22T19:14:57.355Z"
   },
   {
    "duration": 206,
    "start_time": "2022-09-22T19:14:57.372Z"
   },
   {
    "duration": 8,
    "start_time": "2022-09-22T19:14:57.580Z"
   },
   {
    "duration": 394,
    "start_time": "2022-09-22T19:14:57.589Z"
   },
   {
    "duration": 425,
    "start_time": "2022-09-22T19:14:57.986Z"
   },
   {
    "duration": 536,
    "start_time": "2022-09-22T19:14:58.412Z"
   },
   {
    "duration": 400,
    "start_time": "2022-09-22T19:14:58.950Z"
   },
   {
    "duration": 425,
    "start_time": "2022-09-22T19:14:59.352Z"
   },
   {
    "duration": 402,
    "start_time": "2022-09-22T19:14:59.779Z"
   },
   {
    "duration": 10,
    "start_time": "2022-09-22T19:15:00.183Z"
   },
   {
    "duration": 26,
    "start_time": "2022-09-22T19:15:00.195Z"
   },
   {
    "duration": 25,
    "start_time": "2022-09-22T19:15:00.223Z"
   },
   {
    "duration": 27,
    "start_time": "2022-09-22T19:15:00.249Z"
   },
   {
    "duration": 13,
    "start_time": "2022-09-22T19:15:00.278Z"
   },
   {
    "duration": 9,
    "start_time": "2022-09-22T19:15:00.293Z"
   },
   {
    "duration": 4,
    "start_time": "2022-09-22T19:15:19.051Z"
   },
   {
    "duration": 1129,
    "start_time": "2022-09-22T19:15:24.201Z"
   },
   {
    "duration": 54,
    "start_time": "2022-09-22T19:15:25.343Z"
   },
   {
    "duration": 16,
    "start_time": "2022-09-22T19:15:25.398Z"
   },
   {
    "duration": 35,
    "start_time": "2022-09-22T19:15:25.415Z"
   },
   {
    "duration": 42,
    "start_time": "2022-09-22T19:15:25.453Z"
   },
   {
    "duration": 30,
    "start_time": "2022-09-22T19:15:25.497Z"
   },
   {
    "duration": 38,
    "start_time": "2022-09-22T19:15:25.528Z"
   },
   {
    "duration": 19,
    "start_time": "2022-09-22T19:15:25.568Z"
   },
   {
    "duration": 19,
    "start_time": "2022-09-22T19:15:25.589Z"
   },
   {
    "duration": 38,
    "start_time": "2022-09-22T19:15:25.609Z"
   },
   {
    "duration": 17,
    "start_time": "2022-09-22T19:15:25.649Z"
   },
   {
    "duration": 11,
    "start_time": "2022-09-22T19:15:25.667Z"
   },
   {
    "duration": 5,
    "start_time": "2022-09-22T19:15:25.679Z"
   },
   {
    "duration": 8,
    "start_time": "2022-09-22T19:15:25.686Z"
   },
   {
    "duration": 29,
    "start_time": "2022-09-22T19:15:25.695Z"
   },
   {
    "duration": 16,
    "start_time": "2022-09-22T19:15:25.725Z"
   },
   {
    "duration": 4,
    "start_time": "2022-09-22T19:15:25.743Z"
   },
   {
    "duration": 57,
    "start_time": "2022-09-22T19:15:25.749Z"
   },
   {
    "duration": 4,
    "start_time": "2022-09-22T19:15:25.808Z"
   },
   {
    "duration": 33,
    "start_time": "2022-09-22T19:15:25.813Z"
   },
   {
    "duration": 15,
    "start_time": "2022-09-22T19:15:25.848Z"
   },
   {
    "duration": 7,
    "start_time": "2022-09-22T19:15:25.865Z"
   },
   {
    "duration": 6,
    "start_time": "2022-09-22T19:15:25.874Z"
   },
   {
    "duration": 26,
    "start_time": "2022-09-22T19:15:25.881Z"
   },
   {
    "duration": 9,
    "start_time": "2022-09-22T19:15:25.909Z"
   },
   {
    "duration": 4,
    "start_time": "2022-09-22T19:15:25.919Z"
   },
   {
    "duration": 7,
    "start_time": "2022-09-22T19:15:25.924Z"
   },
   {
    "duration": 27,
    "start_time": "2022-09-22T19:15:25.933Z"
   },
   {
    "duration": 134,
    "start_time": "2022-09-22T19:15:25.962Z"
   },
   {
    "duration": 258,
    "start_time": "2022-09-22T19:15:26.098Z"
   },
   {
    "duration": 8,
    "start_time": "2022-09-22T19:15:26.358Z"
   },
   {
    "duration": 371,
    "start_time": "2022-09-22T19:15:26.368Z"
   },
   {
    "duration": 12,
    "start_time": "2022-09-22T19:15:26.748Z"
   },
   {
    "duration": 7,
    "start_time": "2022-09-22T19:15:26.762Z"
   },
   {
    "duration": 6,
    "start_time": "2022-09-22T19:15:26.771Z"
   },
   {
    "duration": 370,
    "start_time": "2022-09-22T19:15:26.778Z"
   },
   {
    "duration": 8,
    "start_time": "2022-09-22T19:15:27.150Z"
   },
   {
    "duration": 10,
    "start_time": "2022-09-22T19:15:27.159Z"
   },
   {
    "duration": 223,
    "start_time": "2022-09-22T19:15:27.170Z"
   },
   {
    "duration": 71,
    "start_time": "2022-09-22T19:15:27.395Z"
   },
   {
    "duration": 1318,
    "start_time": "2022-09-22T19:15:27.470Z"
   },
   {
    "duration": 81,
    "start_time": "2022-09-22T19:15:28.790Z"
   },
   {
    "duration": 16,
    "start_time": "2022-09-22T19:15:28.872Z"
   },
   {
    "duration": 223,
    "start_time": "2022-09-22T19:15:28.889Z"
   },
   {
    "duration": 7,
    "start_time": "2022-09-22T19:15:29.114Z"
   },
   {
    "duration": 391,
    "start_time": "2022-09-22T19:15:29.122Z"
   },
   {
    "duration": 390,
    "start_time": "2022-09-22T19:15:29.514Z"
   },
   {
    "duration": 501,
    "start_time": "2022-09-22T19:15:29.906Z"
   },
   {
    "duration": 387,
    "start_time": "2022-09-22T19:15:30.409Z"
   },
   {
    "duration": 446,
    "start_time": "2022-09-22T19:15:30.798Z"
   },
   {
    "duration": 380,
    "start_time": "2022-09-22T19:15:31.246Z"
   },
   {
    "duration": 19,
    "start_time": "2022-09-22T19:15:31.628Z"
   },
   {
    "duration": 9,
    "start_time": "2022-09-22T19:15:31.649Z"
   },
   {
    "duration": 14,
    "start_time": "2022-09-22T19:15:31.660Z"
   },
   {
    "duration": 14,
    "start_time": "2022-09-22T19:15:31.676Z"
   },
   {
    "duration": 6,
    "start_time": "2022-09-22T19:15:31.692Z"
   },
   {
    "duration": 23,
    "start_time": "2022-09-22T19:15:31.700Z"
   },
   {
    "duration": 3,
    "start_time": "2022-09-22T19:16:30.155Z"
   },
   {
    "duration": 108,
    "start_time": "2022-09-22T19:25:46.998Z"
   },
   {
    "duration": 9,
    "start_time": "2022-09-22T19:25:56.163Z"
   },
   {
    "duration": 1089,
    "start_time": "2022-09-22T19:26:01.556Z"
   },
   {
    "duration": 54,
    "start_time": "2022-09-22T19:26:02.647Z"
   },
   {
    "duration": 14,
    "start_time": "2022-09-22T19:26:02.703Z"
   },
   {
    "duration": 27,
    "start_time": "2022-09-22T19:26:02.719Z"
   },
   {
    "duration": 28,
    "start_time": "2022-09-22T19:26:02.748Z"
   },
   {
    "duration": 22,
    "start_time": "2022-09-22T19:26:02.777Z"
   },
   {
    "duration": 42,
    "start_time": "2022-09-22T19:26:02.801Z"
   },
   {
    "duration": 25,
    "start_time": "2022-09-22T19:26:02.845Z"
   },
   {
    "duration": 39,
    "start_time": "2022-09-22T19:26:02.871Z"
   },
   {
    "duration": 35,
    "start_time": "2022-09-22T19:26:02.912Z"
   },
   {
    "duration": 17,
    "start_time": "2022-09-22T19:26:02.948Z"
   },
   {
    "duration": 9,
    "start_time": "2022-09-22T19:26:02.967Z"
   },
   {
    "duration": 8,
    "start_time": "2022-09-22T19:26:02.978Z"
   },
   {
    "duration": 10,
    "start_time": "2022-09-22T19:26:02.987Z"
   },
   {
    "duration": 26,
    "start_time": "2022-09-22T19:26:02.998Z"
   },
   {
    "duration": 25,
    "start_time": "2022-09-22T19:26:03.026Z"
   },
   {
    "duration": 6,
    "start_time": "2022-09-22T19:26:03.053Z"
   },
   {
    "duration": 58,
    "start_time": "2022-09-22T19:26:03.061Z"
   },
   {
    "duration": 23,
    "start_time": "2022-09-22T19:26:03.121Z"
   },
   {
    "duration": 7,
    "start_time": "2022-09-22T19:26:03.146Z"
   },
   {
    "duration": 17,
    "start_time": "2022-09-22T19:26:03.155Z"
   },
   {
    "duration": 6,
    "start_time": "2022-09-22T19:26:03.174Z"
   },
   {
    "duration": 20,
    "start_time": "2022-09-22T19:26:03.181Z"
   },
   {
    "duration": 8,
    "start_time": "2022-09-22T19:26:03.203Z"
   },
   {
    "duration": 8,
    "start_time": "2022-09-22T19:26:03.212Z"
   },
   {
    "duration": 6,
    "start_time": "2022-09-22T19:26:03.221Z"
   },
   {
    "duration": 7,
    "start_time": "2022-09-22T19:26:03.240Z"
   },
   {
    "duration": 142,
    "start_time": "2022-09-22T19:26:03.250Z"
   },
   {
    "duration": 214,
    "start_time": "2022-09-22T19:26:03.394Z"
   },
   {
    "duration": 6,
    "start_time": "2022-09-22T19:26:03.610Z"
   },
   {
    "duration": 334,
    "start_time": "2022-09-22T19:26:03.618Z"
   },
   {
    "duration": 10,
    "start_time": "2022-09-22T19:26:03.954Z"
   },
   {
    "duration": 7,
    "start_time": "2022-09-22T19:26:03.966Z"
   },
   {
    "duration": 6,
    "start_time": "2022-09-22T19:26:03.974Z"
   },
   {
    "duration": 351,
    "start_time": "2022-09-22T19:26:03.982Z"
   },
   {
    "duration": 8,
    "start_time": "2022-09-22T19:26:04.335Z"
   },
   {
    "duration": 24,
    "start_time": "2022-09-22T19:26:04.344Z"
   },
   {
    "duration": 201,
    "start_time": "2022-09-22T19:26:04.369Z"
   },
   {
    "duration": 77,
    "start_time": "2022-09-22T19:26:04.572Z"
   },
   {
    "duration": 1701,
    "start_time": "2022-09-22T19:26:04.651Z"
   },
   {
    "duration": 104,
    "start_time": "2022-09-22T19:26:06.355Z"
   },
   {
    "duration": 18,
    "start_time": "2022-09-22T19:26:06.461Z"
   },
   {
    "duration": 312,
    "start_time": "2022-09-22T19:26:06.480Z"
   },
   {
    "duration": 8,
    "start_time": "2022-09-22T19:26:06.793Z"
   },
   {
    "duration": 407,
    "start_time": "2022-09-22T19:26:06.802Z"
   },
   {
    "duration": 399,
    "start_time": "2022-09-22T19:26:07.211Z"
   },
   {
    "duration": 553,
    "start_time": "2022-09-22T19:26:07.612Z"
   },
   {
    "duration": 394,
    "start_time": "2022-09-22T19:26:08.169Z"
   },
   {
    "duration": 415,
    "start_time": "2022-09-22T19:26:08.565Z"
   },
   {
    "duration": 389,
    "start_time": "2022-09-22T19:26:08.981Z"
   },
   {
    "duration": 11,
    "start_time": "2022-09-22T19:26:09.371Z"
   },
   {
    "duration": 8,
    "start_time": "2022-09-22T19:26:09.383Z"
   },
   {
    "duration": 6,
    "start_time": "2022-09-22T19:26:09.393Z"
   },
   {
    "duration": 38,
    "start_time": "2022-09-22T19:26:09.401Z"
   },
   {
    "duration": 5,
    "start_time": "2022-09-22T19:26:09.446Z"
   },
   {
    "duration": 8,
    "start_time": "2022-09-22T19:26:09.454Z"
   },
   {
    "duration": 13,
    "start_time": "2022-09-22T19:27:01.031Z"
   },
   {
    "duration": 101,
    "start_time": "2022-09-22T19:30:26.669Z"
   },
   {
    "duration": 22,
    "start_time": "2022-09-22T19:30:47.923Z"
   },
   {
    "duration": 9,
    "start_time": "2022-09-22T19:32:13.412Z"
   },
   {
    "duration": 20,
    "start_time": "2022-09-22T19:32:51.625Z"
   },
   {
    "duration": 1099,
    "start_time": "2022-09-22T19:33:04.989Z"
   },
   {
    "duration": 56,
    "start_time": "2022-09-22T19:33:06.090Z"
   },
   {
    "duration": 14,
    "start_time": "2022-09-22T19:33:06.147Z"
   },
   {
    "duration": 23,
    "start_time": "2022-09-22T19:33:06.163Z"
   },
   {
    "duration": 29,
    "start_time": "2022-09-22T19:33:06.187Z"
   },
   {
    "duration": 16,
    "start_time": "2022-09-22T19:33:06.218Z"
   },
   {
    "duration": 67,
    "start_time": "2022-09-22T19:33:06.236Z"
   },
   {
    "duration": 46,
    "start_time": "2022-09-22T19:33:06.305Z"
   },
   {
    "duration": 66,
    "start_time": "2022-09-22T19:33:06.353Z"
   },
   {
    "duration": 25,
    "start_time": "2022-09-22T19:33:06.422Z"
   },
   {
    "duration": 15,
    "start_time": "2022-09-22T19:33:06.449Z"
   },
   {
    "duration": 29,
    "start_time": "2022-09-22T19:33:06.465Z"
   },
   {
    "duration": 30,
    "start_time": "2022-09-22T19:33:06.496Z"
   },
   {
    "duration": 29,
    "start_time": "2022-09-22T19:33:06.528Z"
   },
   {
    "duration": 40,
    "start_time": "2022-09-22T19:33:06.559Z"
   },
   {
    "duration": 14,
    "start_time": "2022-09-22T19:33:06.601Z"
   },
   {
    "duration": 27,
    "start_time": "2022-09-22T19:33:06.617Z"
   },
   {
    "duration": 61,
    "start_time": "2022-09-22T19:33:06.645Z"
   },
   {
    "duration": 9,
    "start_time": "2022-09-22T19:33:06.707Z"
   },
   {
    "duration": 27,
    "start_time": "2022-09-22T19:33:06.717Z"
   },
   {
    "duration": 13,
    "start_time": "2022-09-22T19:33:06.746Z"
   },
   {
    "duration": 135,
    "start_time": "2022-09-22T19:33:06.760Z"
   },
   {
    "duration": 0,
    "start_time": "2022-09-22T19:33:06.899Z"
   },
   {
    "duration": 0,
    "start_time": "2022-09-22T19:33:06.900Z"
   },
   {
    "duration": 0,
    "start_time": "2022-09-22T19:33:06.902Z"
   },
   {
    "duration": 0,
    "start_time": "2022-09-22T19:33:06.903Z"
   },
   {
    "duration": 0,
    "start_time": "2022-09-22T19:33:06.905Z"
   },
   {
    "duration": 0,
    "start_time": "2022-09-22T19:33:06.906Z"
   },
   {
    "duration": 0,
    "start_time": "2022-09-22T19:33:06.908Z"
   },
   {
    "duration": 0,
    "start_time": "2022-09-22T19:33:06.909Z"
   },
   {
    "duration": 0,
    "start_time": "2022-09-22T19:33:06.910Z"
   },
   {
    "duration": 0,
    "start_time": "2022-09-22T19:33:06.912Z"
   },
   {
    "duration": 0,
    "start_time": "2022-09-22T19:33:06.913Z"
   },
   {
    "duration": 0,
    "start_time": "2022-09-22T19:33:06.943Z"
   },
   {
    "duration": 0,
    "start_time": "2022-09-22T19:33:06.944Z"
   },
   {
    "duration": 0,
    "start_time": "2022-09-22T19:33:06.945Z"
   },
   {
    "duration": 0,
    "start_time": "2022-09-22T19:33:06.947Z"
   },
   {
    "duration": 0,
    "start_time": "2022-09-22T19:33:06.949Z"
   },
   {
    "duration": 0,
    "start_time": "2022-09-22T19:33:06.950Z"
   },
   {
    "duration": 0,
    "start_time": "2022-09-22T19:33:06.951Z"
   },
   {
    "duration": 0,
    "start_time": "2022-09-22T19:33:06.953Z"
   },
   {
    "duration": 0,
    "start_time": "2022-09-22T19:33:06.954Z"
   },
   {
    "duration": 0,
    "start_time": "2022-09-22T19:33:06.955Z"
   },
   {
    "duration": 0,
    "start_time": "2022-09-22T19:33:06.957Z"
   },
   {
    "duration": 0,
    "start_time": "2022-09-22T19:33:06.958Z"
   },
   {
    "duration": 1,
    "start_time": "2022-09-22T19:33:06.959Z"
   },
   {
    "duration": 0,
    "start_time": "2022-09-22T19:33:06.961Z"
   },
   {
    "duration": 0,
    "start_time": "2022-09-22T19:33:06.962Z"
   },
   {
    "duration": 0,
    "start_time": "2022-09-22T19:33:06.964Z"
   },
   {
    "duration": 0,
    "start_time": "2022-09-22T19:33:06.967Z"
   },
   {
    "duration": 0,
    "start_time": "2022-09-22T19:33:06.968Z"
   },
   {
    "duration": 0,
    "start_time": "2022-09-22T19:33:06.969Z"
   },
   {
    "duration": 0,
    "start_time": "2022-09-22T19:33:06.971Z"
   },
   {
    "duration": 0,
    "start_time": "2022-09-22T19:33:06.972Z"
   },
   {
    "duration": 0,
    "start_time": "2022-09-22T19:33:06.974Z"
   },
   {
    "duration": 0,
    "start_time": "2022-09-22T19:33:06.976Z"
   },
   {
    "duration": 0,
    "start_time": "2022-09-22T19:33:06.977Z"
   },
   {
    "duration": 0,
    "start_time": "2022-09-22T19:33:07.040Z"
   },
   {
    "duration": 0,
    "start_time": "2022-09-22T19:33:07.041Z"
   },
   {
    "duration": 1,
    "start_time": "2022-09-22T19:33:07.041Z"
   },
   {
    "duration": 0,
    "start_time": "2022-09-22T19:33:07.042Z"
   },
   {
    "duration": 16,
    "start_time": "2022-09-22T19:33:27.396Z"
   },
   {
    "duration": 1097,
    "start_time": "2022-09-22T19:33:36.671Z"
   },
   {
    "duration": 51,
    "start_time": "2022-09-22T19:33:37.769Z"
   },
   {
    "duration": 21,
    "start_time": "2022-09-22T19:33:37.822Z"
   },
   {
    "duration": 16,
    "start_time": "2022-09-22T19:33:37.846Z"
   },
   {
    "duration": 8,
    "start_time": "2022-09-22T19:33:37.863Z"
   },
   {
    "duration": 8,
    "start_time": "2022-09-22T19:33:37.873Z"
   },
   {
    "duration": 24,
    "start_time": "2022-09-22T19:33:37.882Z"
   },
   {
    "duration": 42,
    "start_time": "2022-09-22T19:33:37.907Z"
   },
   {
    "duration": 21,
    "start_time": "2022-09-22T19:33:37.950Z"
   },
   {
    "duration": 20,
    "start_time": "2022-09-22T19:33:37.973Z"
   },
   {
    "duration": 6,
    "start_time": "2022-09-22T19:33:37.994Z"
   },
   {
    "duration": 7,
    "start_time": "2022-09-22T19:33:38.002Z"
   },
   {
    "duration": 6,
    "start_time": "2022-09-22T19:33:38.010Z"
   },
   {
    "duration": 21,
    "start_time": "2022-09-22T19:33:38.017Z"
   },
   {
    "duration": 26,
    "start_time": "2022-09-22T19:33:38.039Z"
   },
   {
    "duration": 15,
    "start_time": "2022-09-22T19:33:38.067Z"
   },
   {
    "duration": 6,
    "start_time": "2022-09-22T19:33:38.084Z"
   },
   {
    "duration": 85,
    "start_time": "2022-09-22T19:33:38.091Z"
   },
   {
    "duration": 11,
    "start_time": "2022-09-22T19:33:38.178Z"
   },
   {
    "duration": 10,
    "start_time": "2022-09-22T19:33:38.190Z"
   },
   {
    "duration": 17,
    "start_time": "2022-09-22T19:33:38.202Z"
   },
   {
    "duration": 133,
    "start_time": "2022-09-22T19:33:38.221Z"
   },
   {
    "duration": 0,
    "start_time": "2022-09-22T19:33:38.357Z"
   },
   {
    "duration": 0,
    "start_time": "2022-09-22T19:33:38.358Z"
   },
   {
    "duration": 0,
    "start_time": "2022-09-22T19:33:38.359Z"
   },
   {
    "duration": 0,
    "start_time": "2022-09-22T19:33:38.360Z"
   },
   {
    "duration": 0,
    "start_time": "2022-09-22T19:33:38.361Z"
   },
   {
    "duration": 0,
    "start_time": "2022-09-22T19:33:38.362Z"
   },
   {
    "duration": 0,
    "start_time": "2022-09-22T19:33:38.363Z"
   },
   {
    "duration": 0,
    "start_time": "2022-09-22T19:33:38.364Z"
   },
   {
    "duration": 0,
    "start_time": "2022-09-22T19:33:38.365Z"
   },
   {
    "duration": 0,
    "start_time": "2022-09-22T19:33:38.366Z"
   },
   {
    "duration": 0,
    "start_time": "2022-09-22T19:33:38.367Z"
   },
   {
    "duration": 0,
    "start_time": "2022-09-22T19:33:38.368Z"
   },
   {
    "duration": 0,
    "start_time": "2022-09-22T19:33:38.370Z"
   },
   {
    "duration": 0,
    "start_time": "2022-09-22T19:33:38.372Z"
   },
   {
    "duration": 0,
    "start_time": "2022-09-22T19:33:38.372Z"
   },
   {
    "duration": 0,
    "start_time": "2022-09-22T19:33:38.374Z"
   },
   {
    "duration": 0,
    "start_time": "2022-09-22T19:33:38.374Z"
   },
   {
    "duration": 0,
    "start_time": "2022-09-22T19:33:38.376Z"
   },
   {
    "duration": 0,
    "start_time": "2022-09-22T19:33:38.377Z"
   },
   {
    "duration": 0,
    "start_time": "2022-09-22T19:33:38.379Z"
   },
   {
    "duration": 0,
    "start_time": "2022-09-22T19:33:38.380Z"
   },
   {
    "duration": 0,
    "start_time": "2022-09-22T19:33:38.381Z"
   },
   {
    "duration": 0,
    "start_time": "2022-09-22T19:33:38.383Z"
   },
   {
    "duration": 0,
    "start_time": "2022-09-22T19:33:38.384Z"
   },
   {
    "duration": 0,
    "start_time": "2022-09-22T19:33:38.386Z"
   },
   {
    "duration": 0,
    "start_time": "2022-09-22T19:33:38.387Z"
   },
   {
    "duration": 0,
    "start_time": "2022-09-22T19:33:38.435Z"
   },
   {
    "duration": 0,
    "start_time": "2022-09-22T19:33:38.436Z"
   },
   {
    "duration": 0,
    "start_time": "2022-09-22T19:33:38.436Z"
   },
   {
    "duration": 0,
    "start_time": "2022-09-22T19:33:38.437Z"
   },
   {
    "duration": 0,
    "start_time": "2022-09-22T19:33:38.437Z"
   },
   {
    "duration": 0,
    "start_time": "2022-09-22T19:33:38.438Z"
   },
   {
    "duration": 0,
    "start_time": "2022-09-22T19:33:38.439Z"
   },
   {
    "duration": 0,
    "start_time": "2022-09-22T19:33:38.439Z"
   },
   {
    "duration": 0,
    "start_time": "2022-09-22T19:33:38.440Z"
   },
   {
    "duration": 0,
    "start_time": "2022-09-22T19:33:38.441Z"
   },
   {
    "duration": 0,
    "start_time": "2022-09-22T19:33:38.441Z"
   },
   {
    "duration": 0,
    "start_time": "2022-09-22T19:33:38.442Z"
   },
   {
    "duration": 0,
    "start_time": "2022-09-22T19:33:38.444Z"
   },
   {
    "duration": 8,
    "start_time": "2022-09-22T19:35:57.103Z"
   },
   {
    "duration": 6,
    "start_time": "2022-09-22T19:36:26.959Z"
   },
   {
    "duration": 1033,
    "start_time": "2022-09-22T19:36:31.786Z"
   },
   {
    "duration": 62,
    "start_time": "2022-09-22T19:36:32.820Z"
   },
   {
    "duration": 13,
    "start_time": "2022-09-22T19:36:32.884Z"
   },
   {
    "duration": 14,
    "start_time": "2022-09-22T19:36:32.899Z"
   },
   {
    "duration": 8,
    "start_time": "2022-09-22T19:36:32.915Z"
   },
   {
    "duration": 35,
    "start_time": "2022-09-22T19:36:32.925Z"
   },
   {
    "duration": 29,
    "start_time": "2022-09-22T19:36:32.962Z"
   },
   {
    "duration": 20,
    "start_time": "2022-09-22T19:36:32.992Z"
   },
   {
    "duration": 25,
    "start_time": "2022-09-22T19:36:33.014Z"
   },
   {
    "duration": 20,
    "start_time": "2022-09-22T19:36:33.042Z"
   },
   {
    "duration": 6,
    "start_time": "2022-09-22T19:36:33.064Z"
   },
   {
    "duration": 7,
    "start_time": "2022-09-22T19:36:33.072Z"
   },
   {
    "duration": 4,
    "start_time": "2022-09-22T19:36:33.081Z"
   },
   {
    "duration": 6,
    "start_time": "2022-09-22T19:36:33.086Z"
   },
   {
    "duration": 51,
    "start_time": "2022-09-22T19:36:33.093Z"
   },
   {
    "duration": 15,
    "start_time": "2022-09-22T19:36:33.146Z"
   },
   {
    "duration": 6,
    "start_time": "2022-09-22T19:36:33.162Z"
   },
   {
    "duration": 54,
    "start_time": "2022-09-22T19:36:33.169Z"
   },
   {
    "duration": 22,
    "start_time": "2022-09-22T19:36:33.224Z"
   },
   {
    "duration": 12,
    "start_time": "2022-09-22T19:36:33.248Z"
   },
   {
    "duration": 6,
    "start_time": "2022-09-22T19:36:33.261Z"
   },
   {
    "duration": 15,
    "start_time": "2022-09-22T19:36:33.268Z"
   },
   {
    "duration": 5,
    "start_time": "2022-09-22T19:36:33.285Z"
   },
   {
    "duration": 9,
    "start_time": "2022-09-22T19:36:33.291Z"
   },
   {
    "duration": 42,
    "start_time": "2022-09-22T19:36:33.301Z"
   },
   {
    "duration": 7,
    "start_time": "2022-09-22T19:36:33.346Z"
   },
   {
    "duration": 18,
    "start_time": "2022-09-22T19:36:33.354Z"
   },
   {
    "duration": 6,
    "start_time": "2022-09-22T19:36:33.376Z"
   },
   {
    "duration": 5,
    "start_time": "2022-09-22T19:36:33.384Z"
   },
   {
    "duration": 7,
    "start_time": "2022-09-22T19:36:33.391Z"
   },
   {
    "duration": 9,
    "start_time": "2022-09-22T19:36:33.399Z"
   },
   {
    "duration": 158,
    "start_time": "2022-09-22T19:36:33.409Z"
   },
   {
    "duration": 220,
    "start_time": "2022-09-22T19:36:33.569Z"
   },
   {
    "duration": 7,
    "start_time": "2022-09-22T19:36:33.791Z"
   },
   {
    "duration": 353,
    "start_time": "2022-09-22T19:36:33.800Z"
   },
   {
    "duration": 13,
    "start_time": "2022-09-22T19:36:34.154Z"
   },
   {
    "duration": 23,
    "start_time": "2022-09-22T19:36:34.169Z"
   },
   {
    "duration": 13,
    "start_time": "2022-09-22T19:36:34.193Z"
   },
   {
    "duration": 341,
    "start_time": "2022-09-22T19:36:34.208Z"
   },
   {
    "duration": 8,
    "start_time": "2022-09-22T19:36:34.552Z"
   },
   {
    "duration": 15,
    "start_time": "2022-09-22T19:36:34.562Z"
   },
   {
    "duration": 206,
    "start_time": "2022-09-22T19:36:34.579Z"
   },
   {
    "duration": 73,
    "start_time": "2022-09-22T19:36:34.787Z"
   },
   {
    "duration": 1302,
    "start_time": "2022-09-22T19:36:34.861Z"
   },
   {
    "duration": 88,
    "start_time": "2022-09-22T19:36:36.165Z"
   },
   {
    "duration": 19,
    "start_time": "2022-09-22T19:36:36.255Z"
   },
   {
    "duration": 270,
    "start_time": "2022-09-22T19:36:36.276Z"
   },
   {
    "duration": 12,
    "start_time": "2022-09-22T19:36:36.548Z"
   },
   {
    "duration": 400,
    "start_time": "2022-09-22T19:36:36.562Z"
   },
   {
    "duration": 395,
    "start_time": "2022-09-22T19:36:36.964Z"
   },
   {
    "duration": 483,
    "start_time": "2022-09-22T19:36:37.361Z"
   },
   {
    "duration": 413,
    "start_time": "2022-09-22T19:36:37.846Z"
   },
   {
    "duration": 406,
    "start_time": "2022-09-22T19:36:38.260Z"
   },
   {
    "duration": 401,
    "start_time": "2022-09-22T19:36:38.668Z"
   },
   {
    "duration": 10,
    "start_time": "2022-09-22T19:36:39.071Z"
   },
   {
    "duration": 5,
    "start_time": "2022-09-22T19:36:39.083Z"
   },
   {
    "duration": 12,
    "start_time": "2022-09-22T19:36:39.089Z"
   },
   {
    "duration": 17,
    "start_time": "2022-09-22T19:36:39.103Z"
   },
   {
    "duration": 22,
    "start_time": "2022-09-22T19:36:39.121Z"
   },
   {
    "duration": 9,
    "start_time": "2022-09-22T19:36:39.145Z"
   },
   {
    "duration": 57,
    "start_time": "2022-09-22T19:40:58.417Z"
   },
   {
    "duration": 103,
    "start_time": "2022-09-22T19:41:06.798Z"
   },
   {
    "duration": 7,
    "start_time": "2022-09-22T19:41:16.498Z"
   },
   {
    "duration": 1091,
    "start_time": "2022-09-22T19:41:27.592Z"
   },
   {
    "duration": 63,
    "start_time": "2022-09-22T19:41:28.685Z"
   },
   {
    "duration": 17,
    "start_time": "2022-09-22T19:41:28.750Z"
   },
   {
    "duration": 23,
    "start_time": "2022-09-22T19:41:28.769Z"
   },
   {
    "duration": 26,
    "start_time": "2022-09-22T19:41:28.793Z"
   },
   {
    "duration": 7,
    "start_time": "2022-09-22T19:41:28.821Z"
   },
   {
    "duration": 45,
    "start_time": "2022-09-22T19:41:28.830Z"
   },
   {
    "duration": 21,
    "start_time": "2022-09-22T19:41:28.876Z"
   },
   {
    "duration": 28,
    "start_time": "2022-09-22T19:41:28.899Z"
   },
   {
    "duration": 22,
    "start_time": "2022-09-22T19:41:28.930Z"
   },
   {
    "duration": 17,
    "start_time": "2022-09-22T19:41:28.953Z"
   },
   {
    "duration": 22,
    "start_time": "2022-09-22T19:41:28.972Z"
   },
   {
    "duration": 25,
    "start_time": "2022-09-22T19:41:28.995Z"
   },
   {
    "duration": 31,
    "start_time": "2022-09-22T19:41:29.021Z"
   },
   {
    "duration": 25,
    "start_time": "2022-09-22T19:41:29.054Z"
   },
   {
    "duration": 14,
    "start_time": "2022-09-22T19:41:29.081Z"
   },
   {
    "duration": 7,
    "start_time": "2022-09-22T19:41:29.096Z"
   },
   {
    "duration": 66,
    "start_time": "2022-09-22T19:41:29.104Z"
   },
   {
    "duration": 8,
    "start_time": "2022-09-22T19:41:29.172Z"
   },
   {
    "duration": 12,
    "start_time": "2022-09-22T19:41:29.182Z"
   },
   {
    "duration": 5,
    "start_time": "2022-09-22T19:41:29.196Z"
   },
   {
    "duration": 25,
    "start_time": "2022-09-22T19:41:29.202Z"
   },
   {
    "duration": 9,
    "start_time": "2022-09-22T19:41:29.234Z"
   },
   {
    "duration": 18,
    "start_time": "2022-09-22T19:41:29.244Z"
   },
   {
    "duration": 14,
    "start_time": "2022-09-22T19:41:29.264Z"
   },
   {
    "duration": 21,
    "start_time": "2022-09-22T19:41:29.280Z"
   },
   {
    "duration": 14,
    "start_time": "2022-09-22T19:41:29.303Z"
   },
   {
    "duration": 19,
    "start_time": "2022-09-22T19:41:29.321Z"
   },
   {
    "duration": 15,
    "start_time": "2022-09-22T19:41:29.343Z"
   },
   {
    "duration": 8,
    "start_time": "2022-09-22T19:41:29.360Z"
   },
   {
    "duration": 18,
    "start_time": "2022-09-22T19:41:29.369Z"
   },
   {
    "duration": 13,
    "start_time": "2022-09-22T19:41:29.389Z"
   },
   {
    "duration": 156,
    "start_time": "2022-09-22T19:41:29.404Z"
   },
   {
    "duration": 237,
    "start_time": "2022-09-22T19:41:29.562Z"
   },
   {
    "duration": 7,
    "start_time": "2022-09-22T19:41:29.801Z"
   },
   {
    "duration": 356,
    "start_time": "2022-09-22T19:41:29.809Z"
   },
   {
    "duration": 14,
    "start_time": "2022-09-22T19:41:30.167Z"
   },
   {
    "duration": 16,
    "start_time": "2022-09-22T19:41:30.183Z"
   },
   {
    "duration": 30,
    "start_time": "2022-09-22T19:41:30.201Z"
   },
   {
    "duration": 378,
    "start_time": "2022-09-22T19:41:30.237Z"
   },
   {
    "duration": 8,
    "start_time": "2022-09-22T19:41:30.617Z"
   },
   {
    "duration": 39,
    "start_time": "2022-09-22T19:41:30.626Z"
   },
   {
    "duration": 224,
    "start_time": "2022-09-22T19:41:30.667Z"
   },
   {
    "duration": 88,
    "start_time": "2022-09-22T19:41:30.906Z"
   },
   {
    "duration": 1413,
    "start_time": "2022-09-22T19:41:30.996Z"
   },
   {
    "duration": 74,
    "start_time": "2022-09-22T19:41:32.410Z"
   },
   {
    "duration": 16,
    "start_time": "2022-09-22T19:41:32.485Z"
   },
   {
    "duration": 237,
    "start_time": "2022-09-22T19:41:32.503Z"
   },
   {
    "duration": 10,
    "start_time": "2022-09-22T19:41:32.743Z"
   },
   {
    "duration": 407,
    "start_time": "2022-09-22T19:41:32.755Z"
   },
   {
    "duration": 414,
    "start_time": "2022-09-22T19:41:33.164Z"
   },
   {
    "duration": 576,
    "start_time": "2022-09-22T19:41:33.580Z"
   },
   {
    "duration": 422,
    "start_time": "2022-09-22T19:41:34.159Z"
   },
   {
    "duration": 416,
    "start_time": "2022-09-22T19:41:34.582Z"
   },
   {
    "duration": 417,
    "start_time": "2022-09-22T19:41:35.000Z"
   },
   {
    "duration": 20,
    "start_time": "2022-09-22T19:41:35.419Z"
   },
   {
    "duration": 18,
    "start_time": "2022-09-22T19:41:35.441Z"
   },
   {
    "duration": 19,
    "start_time": "2022-09-22T19:41:35.461Z"
   },
   {
    "duration": 16,
    "start_time": "2022-09-22T19:41:35.482Z"
   },
   {
    "duration": 5,
    "start_time": "2022-09-22T19:41:35.500Z"
   },
   {
    "duration": 12,
    "start_time": "2022-09-22T19:41:35.506Z"
   },
   {
    "duration": 4,
    "start_time": "2022-09-22T19:45:35.724Z"
   },
   {
    "duration": 1062,
    "start_time": "2022-09-22T19:45:41.486Z"
   },
   {
    "duration": 53,
    "start_time": "2022-09-22T19:45:42.551Z"
   },
   {
    "duration": 14,
    "start_time": "2022-09-22T19:45:42.608Z"
   },
   {
    "duration": 23,
    "start_time": "2022-09-22T19:45:42.623Z"
   },
   {
    "duration": 9,
    "start_time": "2022-09-22T19:45:42.648Z"
   },
   {
    "duration": 5,
    "start_time": "2022-09-22T19:45:42.658Z"
   },
   {
    "duration": 22,
    "start_time": "2022-09-22T19:45:42.664Z"
   },
   {
    "duration": 52,
    "start_time": "2022-09-22T19:45:42.688Z"
   },
   {
    "duration": 21,
    "start_time": "2022-09-22T19:45:42.747Z"
   },
   {
    "duration": 19,
    "start_time": "2022-09-22T19:45:42.769Z"
   },
   {
    "duration": 6,
    "start_time": "2022-09-22T19:45:42.789Z"
   },
   {
    "duration": 10,
    "start_time": "2022-09-22T19:45:42.796Z"
   },
   {
    "duration": 8,
    "start_time": "2022-09-22T19:45:42.807Z"
   },
   {
    "duration": 22,
    "start_time": "2022-09-22T19:45:42.817Z"
   },
   {
    "duration": 33,
    "start_time": "2022-09-22T19:45:42.840Z"
   },
   {
    "duration": 14,
    "start_time": "2022-09-22T19:45:42.874Z"
   },
   {
    "duration": 6,
    "start_time": "2022-09-22T19:45:42.890Z"
   },
   {
    "duration": 60,
    "start_time": "2022-09-22T19:45:42.897Z"
   },
   {
    "duration": 10,
    "start_time": "2022-09-22T19:45:42.959Z"
   },
   {
    "duration": 9,
    "start_time": "2022-09-22T19:45:42.971Z"
   },
   {
    "duration": 4,
    "start_time": "2022-09-22T19:45:42.982Z"
   },
   {
    "duration": 16,
    "start_time": "2022-09-22T19:45:42.987Z"
   },
   {
    "duration": 40,
    "start_time": "2022-09-22T19:45:43.005Z"
   },
   {
    "duration": 6,
    "start_time": "2022-09-22T19:45:43.050Z"
   },
   {
    "duration": 11,
    "start_time": "2022-09-22T19:45:43.058Z"
   },
   {
    "duration": 14,
    "start_time": "2022-09-22T19:45:43.071Z"
   },
   {
    "duration": 6,
    "start_time": "2022-09-22T19:45:43.088Z"
   },
   {
    "duration": 16,
    "start_time": "2022-09-22T19:45:43.096Z"
   },
   {
    "duration": 24,
    "start_time": "2022-09-22T19:45:43.113Z"
   },
   {
    "duration": 4,
    "start_time": "2022-09-22T19:45:43.144Z"
   },
   {
    "duration": 28,
    "start_time": "2022-09-22T19:45:43.151Z"
   },
   {
    "duration": 16,
    "start_time": "2022-09-22T19:45:43.181Z"
   },
   {
    "duration": 150,
    "start_time": "2022-09-22T19:45:43.198Z"
   },
   {
    "duration": 219,
    "start_time": "2022-09-22T19:45:43.350Z"
   },
   {
    "duration": 7,
    "start_time": "2022-09-22T19:45:43.571Z"
   },
   {
    "duration": 345,
    "start_time": "2022-09-22T19:45:43.579Z"
   },
   {
    "duration": 19,
    "start_time": "2022-09-22T19:45:43.926Z"
   },
   {
    "duration": 11,
    "start_time": "2022-09-22T19:45:43.947Z"
   },
   {
    "duration": 5,
    "start_time": "2022-09-22T19:45:43.960Z"
   },
   {
    "duration": 350,
    "start_time": "2022-09-22T19:45:43.967Z"
   },
   {
    "duration": 10,
    "start_time": "2022-09-22T19:45:44.319Z"
   },
   {
    "duration": 12,
    "start_time": "2022-09-22T19:45:44.331Z"
   },
   {
    "duration": 213,
    "start_time": "2022-09-22T19:45:44.349Z"
   },
   {
    "duration": 82,
    "start_time": "2022-09-22T19:45:44.563Z"
   },
   {
    "duration": 1298,
    "start_time": "2022-09-22T19:45:44.648Z"
   },
   {
    "duration": 59,
    "start_time": "2022-09-22T19:45:45.948Z"
   },
   {
    "duration": 26,
    "start_time": "2022-09-22T19:45:46.008Z"
   },
   {
    "duration": 262,
    "start_time": "2022-09-22T19:45:46.037Z"
   },
   {
    "duration": 9,
    "start_time": "2022-09-22T19:45:46.302Z"
   },
   {
    "duration": 440,
    "start_time": "2022-09-22T19:45:46.313Z"
   },
   {
    "duration": 420,
    "start_time": "2022-09-22T19:45:46.755Z"
   },
   {
    "duration": 501,
    "start_time": "2022-09-22T19:45:47.177Z"
   },
   {
    "duration": 427,
    "start_time": "2022-09-22T19:45:47.680Z"
   },
   {
    "duration": 446,
    "start_time": "2022-09-22T19:45:48.108Z"
   },
   {
    "duration": 407,
    "start_time": "2022-09-22T19:45:48.556Z"
   },
   {
    "duration": 11,
    "start_time": "2022-09-22T19:45:48.965Z"
   },
   {
    "duration": 5,
    "start_time": "2022-09-22T19:45:48.977Z"
   },
   {
    "duration": 10,
    "start_time": "2022-09-22T19:45:48.983Z"
   },
   {
    "duration": 38,
    "start_time": "2022-09-22T19:45:48.995Z"
   },
   {
    "duration": 12,
    "start_time": "2022-09-22T19:45:49.035Z"
   },
   {
    "duration": 8,
    "start_time": "2022-09-22T19:45:49.052Z"
   },
   {
    "duration": 1102,
    "start_time": "2022-09-22T19:48:53.995Z"
   },
   {
    "duration": 61,
    "start_time": "2022-09-22T19:48:55.099Z"
   },
   {
    "duration": 13,
    "start_time": "2022-09-22T19:48:55.163Z"
   },
   {
    "duration": 17,
    "start_time": "2022-09-22T19:48:55.178Z"
   },
   {
    "duration": 11,
    "start_time": "2022-09-22T19:48:55.196Z"
   },
   {
    "duration": 14,
    "start_time": "2022-09-22T19:48:55.209Z"
   },
   {
    "duration": 28,
    "start_time": "2022-09-22T19:48:55.237Z"
   },
   {
    "duration": 21,
    "start_time": "2022-09-22T19:48:55.266Z"
   },
   {
    "duration": 19,
    "start_time": "2022-09-22T19:48:55.288Z"
   },
   {
    "duration": 43,
    "start_time": "2022-09-22T19:48:55.310Z"
   },
   {
    "duration": 18,
    "start_time": "2022-09-22T19:48:55.356Z"
   },
   {
    "duration": 8,
    "start_time": "2022-09-22T19:48:55.375Z"
   },
   {
    "duration": 17,
    "start_time": "2022-09-22T19:48:55.385Z"
   },
   {
    "duration": 7,
    "start_time": "2022-09-22T19:48:55.403Z"
   },
   {
    "duration": 35,
    "start_time": "2022-09-22T19:48:55.412Z"
   },
   {
    "duration": 18,
    "start_time": "2022-09-22T19:48:55.448Z"
   },
   {
    "duration": 3,
    "start_time": "2022-09-22T19:48:55.468Z"
   },
   {
    "duration": 64,
    "start_time": "2022-09-22T19:48:55.472Z"
   },
   {
    "duration": 11,
    "start_time": "2022-09-22T19:48:55.538Z"
   },
   {
    "duration": 12,
    "start_time": "2022-09-22T19:48:55.562Z"
   },
   {
    "duration": 5,
    "start_time": "2022-09-22T19:48:55.575Z"
   },
   {
    "duration": 14,
    "start_time": "2022-09-22T19:48:55.582Z"
   },
   {
    "duration": 5,
    "start_time": "2022-09-22T19:48:55.598Z"
   },
   {
    "duration": 11,
    "start_time": "2022-09-22T19:48:55.605Z"
   },
   {
    "duration": 14,
    "start_time": "2022-09-22T19:48:55.618Z"
   },
   {
    "duration": 37,
    "start_time": "2022-09-22T19:48:55.638Z"
   },
   {
    "duration": 9,
    "start_time": "2022-09-22T19:48:55.677Z"
   },
   {
    "duration": 15,
    "start_time": "2022-09-22T19:48:55.689Z"
   },
   {
    "duration": 6,
    "start_time": "2022-09-22T19:48:55.705Z"
   },
   {
    "duration": 6,
    "start_time": "2022-09-22T19:48:55.713Z"
   },
   {
    "duration": 8,
    "start_time": "2022-09-22T19:48:55.720Z"
   },
   {
    "duration": 32,
    "start_time": "2022-09-22T19:48:55.729Z"
   },
   {
    "duration": 147,
    "start_time": "2022-09-22T19:48:55.763Z"
   },
   {
    "duration": 239,
    "start_time": "2022-09-22T19:48:55.912Z"
   },
   {
    "duration": 9,
    "start_time": "2022-09-22T19:48:56.158Z"
   },
   {
    "duration": 415,
    "start_time": "2022-09-22T19:48:56.169Z"
   },
   {
    "duration": 12,
    "start_time": "2022-09-22T19:48:56.586Z"
   },
   {
    "duration": 16,
    "start_time": "2022-09-22T19:48:56.600Z"
   },
   {
    "duration": 23,
    "start_time": "2022-09-22T19:48:56.618Z"
   },
   {
    "duration": 379,
    "start_time": "2022-09-22T19:48:56.650Z"
   },
   {
    "duration": 13,
    "start_time": "2022-09-22T19:48:57.031Z"
   },
   {
    "duration": 27,
    "start_time": "2022-09-22T19:48:57.046Z"
   },
   {
    "duration": 208,
    "start_time": "2022-09-22T19:48:57.074Z"
   },
   {
    "duration": 78,
    "start_time": "2022-09-22T19:48:57.283Z"
   },
   {
    "duration": 1384,
    "start_time": "2022-09-22T19:48:57.363Z"
   },
   {
    "duration": 68,
    "start_time": "2022-09-22T19:48:58.751Z"
   },
   {
    "duration": 28,
    "start_time": "2022-09-22T19:48:58.821Z"
   },
   {
    "duration": 235,
    "start_time": "2022-09-22T19:48:58.854Z"
   },
   {
    "duration": 7,
    "start_time": "2022-09-22T19:48:59.091Z"
   },
   {
    "duration": 420,
    "start_time": "2022-09-22T19:48:59.099Z"
   },
   {
    "duration": 440,
    "start_time": "2022-09-22T19:48:59.520Z"
   },
   {
    "duration": 512,
    "start_time": "2022-09-22T19:48:59.961Z"
   },
   {
    "duration": 426,
    "start_time": "2022-09-22T19:49:00.475Z"
   },
   {
    "duration": 464,
    "start_time": "2022-09-22T19:49:00.903Z"
   },
   {
    "duration": 420,
    "start_time": "2022-09-22T19:49:01.369Z"
   },
   {
    "duration": 11,
    "start_time": "2022-09-22T19:49:01.791Z"
   },
   {
    "duration": 6,
    "start_time": "2022-09-22T19:49:01.804Z"
   },
   {
    "duration": 31,
    "start_time": "2022-09-22T19:49:01.812Z"
   },
   {
    "duration": 27,
    "start_time": "2022-09-22T19:49:01.854Z"
   },
   {
    "duration": 10,
    "start_time": "2022-09-22T19:49:01.882Z"
   },
   {
    "duration": 16,
    "start_time": "2022-09-22T19:49:01.893Z"
   },
   {
    "duration": 3,
    "start_time": "2022-09-22T19:51:46.118Z"
   },
   {
    "duration": 1139,
    "start_time": "2022-09-22T19:51:51.045Z"
   },
   {
    "duration": 60,
    "start_time": "2022-09-22T19:51:52.185Z"
   },
   {
    "duration": 15,
    "start_time": "2022-09-22T19:51:52.247Z"
   },
   {
    "duration": 15,
    "start_time": "2022-09-22T19:51:52.264Z"
   },
   {
    "duration": 9,
    "start_time": "2022-09-22T19:51:52.281Z"
   },
   {
    "duration": 6,
    "start_time": "2022-09-22T19:51:52.291Z"
   },
   {
    "duration": 51,
    "start_time": "2022-09-22T19:51:52.299Z"
   },
   {
    "duration": 19,
    "start_time": "2022-09-22T19:51:52.352Z"
   },
   {
    "duration": 19,
    "start_time": "2022-09-22T19:51:52.373Z"
   },
   {
    "duration": 20,
    "start_time": "2022-09-22T19:51:52.394Z"
   },
   {
    "duration": 12,
    "start_time": "2022-09-22T19:51:52.435Z"
   },
   {
    "duration": 9,
    "start_time": "2022-09-22T19:51:52.449Z"
   },
   {
    "duration": 6,
    "start_time": "2022-09-22T19:51:52.460Z"
   },
   {
    "duration": 8,
    "start_time": "2022-09-22T19:51:52.467Z"
   },
   {
    "duration": 26,
    "start_time": "2022-09-22T19:51:52.477Z"
   },
   {
    "duration": 34,
    "start_time": "2022-09-22T19:51:52.505Z"
   },
   {
    "duration": 12,
    "start_time": "2022-09-22T19:51:52.541Z"
   },
   {
    "duration": 55,
    "start_time": "2022-09-22T19:51:52.555Z"
   },
   {
    "duration": 9,
    "start_time": "2022-09-22T19:51:52.613Z"
   },
   {
    "duration": 26,
    "start_time": "2022-09-22T19:51:52.624Z"
   },
   {
    "duration": 6,
    "start_time": "2022-09-22T19:51:52.651Z"
   },
   {
    "duration": 15,
    "start_time": "2022-09-22T19:51:52.658Z"
   },
   {
    "duration": 6,
    "start_time": "2022-09-22T19:51:52.674Z"
   },
   {
    "duration": 4,
    "start_time": "2022-09-22T19:51:52.682Z"
   },
   {
    "duration": 14,
    "start_time": "2022-09-22T19:51:52.688Z"
   },
   {
    "duration": 14,
    "start_time": "2022-09-22T19:51:52.703Z"
   },
   {
    "duration": 4,
    "start_time": "2022-09-22T19:51:52.735Z"
   },
   {
    "duration": 17,
    "start_time": "2022-09-22T19:51:52.749Z"
   },
   {
    "duration": 8,
    "start_time": "2022-09-22T19:51:52.768Z"
   },
   {
    "duration": 5,
    "start_time": "2022-09-22T19:51:52.778Z"
   },
   {
    "duration": 8,
    "start_time": "2022-09-22T19:51:52.785Z"
   },
   {
    "duration": 8,
    "start_time": "2022-09-22T19:51:52.795Z"
   },
   {
    "duration": 171,
    "start_time": "2022-09-22T19:51:52.805Z"
   },
   {
    "duration": 219,
    "start_time": "2022-09-22T19:51:52.978Z"
   },
   {
    "duration": 6,
    "start_time": "2022-09-22T19:51:53.199Z"
   },
   {
    "duration": 354,
    "start_time": "2022-09-22T19:51:53.207Z"
   },
   {
    "duration": 11,
    "start_time": "2022-09-22T19:51:53.562Z"
   },
   {
    "duration": 9,
    "start_time": "2022-09-22T19:51:53.575Z"
   },
   {
    "duration": 5,
    "start_time": "2022-09-22T19:51:53.585Z"
   },
   {
    "duration": 337,
    "start_time": "2022-09-22T19:51:53.592Z"
   },
   {
    "duration": 16,
    "start_time": "2022-09-22T19:51:53.931Z"
   },
   {
    "duration": 11,
    "start_time": "2022-09-22T19:51:53.949Z"
   },
   {
    "duration": 201,
    "start_time": "2022-09-22T19:51:53.962Z"
   },
   {
    "duration": 88,
    "start_time": "2022-09-22T19:51:54.164Z"
   },
   {
    "duration": 1300,
    "start_time": "2022-09-22T19:51:54.254Z"
   },
   {
    "duration": 55,
    "start_time": "2022-09-22T19:51:55.556Z"
   },
   {
    "duration": 42,
    "start_time": "2022-09-22T19:51:55.612Z"
   },
   {
    "duration": 210,
    "start_time": "2022-09-22T19:51:55.656Z"
   },
   {
    "duration": 8,
    "start_time": "2022-09-22T19:51:55.867Z"
   },
   {
    "duration": 440,
    "start_time": "2022-09-22T19:51:55.876Z"
   },
   {
    "duration": 429,
    "start_time": "2022-09-22T19:51:56.317Z"
   },
   {
    "duration": 504,
    "start_time": "2022-09-22T19:51:56.747Z"
   },
   {
    "duration": 406,
    "start_time": "2022-09-22T19:51:57.253Z"
   },
   {
    "duration": 402,
    "start_time": "2022-09-22T19:51:57.661Z"
   },
   {
    "duration": 420,
    "start_time": "2022-09-22T19:51:58.065Z"
   },
   {
    "duration": 13,
    "start_time": "2022-09-22T19:51:58.487Z"
   },
   {
    "duration": 5,
    "start_time": "2022-09-22T19:51:58.502Z"
   },
   {
    "duration": 29,
    "start_time": "2022-09-22T19:51:58.509Z"
   },
   {
    "duration": 16,
    "start_time": "2022-09-22T19:51:58.541Z"
   },
   {
    "duration": 4,
    "start_time": "2022-09-22T19:51:58.559Z"
   },
   {
    "duration": 7,
    "start_time": "2022-09-22T19:51:58.565Z"
   },
   {
    "duration": 12,
    "start_time": "2022-09-22T19:52:25.790Z"
   },
   {
    "duration": 1091,
    "start_time": "2022-09-22T19:52:38.633Z"
   },
   {
    "duration": 67,
    "start_time": "2022-09-22T19:52:39.726Z"
   },
   {
    "duration": 13,
    "start_time": "2022-09-22T19:52:39.795Z"
   },
   {
    "duration": 41,
    "start_time": "2022-09-22T19:52:39.810Z"
   },
   {
    "duration": 33,
    "start_time": "2022-09-22T19:52:39.853Z"
   },
   {
    "duration": 34,
    "start_time": "2022-09-22T19:52:39.888Z"
   },
   {
    "duration": 93,
    "start_time": "2022-09-22T19:52:39.923Z"
   },
   {
    "duration": 46,
    "start_time": "2022-09-22T19:52:40.018Z"
   },
   {
    "duration": 37,
    "start_time": "2022-09-22T19:52:40.065Z"
   },
   {
    "duration": 43,
    "start_time": "2022-09-22T19:52:40.105Z"
   },
   {
    "duration": 36,
    "start_time": "2022-09-22T19:52:40.150Z"
   },
   {
    "duration": 34,
    "start_time": "2022-09-22T19:52:40.187Z"
   },
   {
    "duration": 35,
    "start_time": "2022-09-22T19:52:40.222Z"
   },
   {
    "duration": 42,
    "start_time": "2022-09-22T19:52:40.259Z"
   },
   {
    "duration": 46,
    "start_time": "2022-09-22T19:52:40.302Z"
   },
   {
    "duration": 26,
    "start_time": "2022-09-22T19:52:40.350Z"
   },
   {
    "duration": 49,
    "start_time": "2022-09-22T19:52:40.378Z"
   },
   {
    "duration": 116,
    "start_time": "2022-09-22T19:52:40.429Z"
   },
   {
    "duration": 8,
    "start_time": "2022-09-22T19:52:40.547Z"
   },
   {
    "duration": 43,
    "start_time": "2022-09-22T19:52:40.556Z"
   },
   {
    "duration": 51,
    "start_time": "2022-09-22T19:52:40.600Z"
   },
   {
    "duration": 59,
    "start_time": "2022-09-22T19:52:40.652Z"
   },
   {
    "duration": 42,
    "start_time": "2022-09-22T19:52:40.713Z"
   },
   {
    "duration": 57,
    "start_time": "2022-09-22T19:52:40.756Z"
   },
   {
    "duration": 50,
    "start_time": "2022-09-22T19:52:40.815Z"
   },
   {
    "duration": 70,
    "start_time": "2022-09-22T19:52:40.866Z"
   },
   {
    "duration": 114,
    "start_time": "2022-09-22T19:52:40.937Z"
   },
   {
    "duration": 44,
    "start_time": "2022-09-22T19:52:41.055Z"
   },
   {
    "duration": 23,
    "start_time": "2022-09-22T19:52:41.101Z"
   },
   {
    "duration": 32,
    "start_time": "2022-09-22T19:52:41.126Z"
   },
   {
    "duration": 28,
    "start_time": "2022-09-22T19:52:41.159Z"
   },
   {
    "duration": 177,
    "start_time": "2022-09-22T19:52:41.188Z"
   },
   {
    "duration": 257,
    "start_time": "2022-09-22T19:52:41.367Z"
   },
   {
    "duration": 26,
    "start_time": "2022-09-22T19:52:41.626Z"
   },
   {
    "duration": 358,
    "start_time": "2022-09-22T19:52:41.653Z"
   },
   {
    "duration": 31,
    "start_time": "2022-09-22T19:52:42.013Z"
   },
   {
    "duration": 21,
    "start_time": "2022-09-22T19:52:42.046Z"
   },
   {
    "duration": 38,
    "start_time": "2022-09-22T19:52:42.069Z"
   },
   {
    "duration": 420,
    "start_time": "2022-09-22T19:52:42.109Z"
   },
   {
    "duration": 14,
    "start_time": "2022-09-22T19:52:42.531Z"
   },
   {
    "duration": 39,
    "start_time": "2022-09-22T19:52:42.547Z"
   },
   {
    "duration": 234,
    "start_time": "2022-09-22T19:52:42.587Z"
   },
   {
    "duration": 75,
    "start_time": "2022-09-22T19:52:42.823Z"
   },
   {
    "duration": 1325,
    "start_time": "2022-09-22T19:52:42.900Z"
   },
   {
    "duration": 61,
    "start_time": "2022-09-22T19:52:44.233Z"
   },
   {
    "duration": 43,
    "start_time": "2022-09-22T19:52:44.296Z"
   },
   {
    "duration": 213,
    "start_time": "2022-09-22T19:52:44.341Z"
   },
   {
    "duration": 7,
    "start_time": "2022-09-22T19:52:44.556Z"
   },
   {
    "duration": 416,
    "start_time": "2022-09-22T19:52:44.565Z"
   },
   {
    "duration": 392,
    "start_time": "2022-09-22T19:52:44.983Z"
   },
   {
    "duration": 518,
    "start_time": "2022-09-22T19:52:45.376Z"
   },
   {
    "duration": 408,
    "start_time": "2022-09-22T19:52:45.896Z"
   },
   {
    "duration": 452,
    "start_time": "2022-09-22T19:52:46.307Z"
   },
   {
    "duration": 414,
    "start_time": "2022-09-22T19:52:46.768Z"
   },
   {
    "duration": 13,
    "start_time": "2022-09-22T19:52:47.184Z"
   },
   {
    "duration": 4,
    "start_time": "2022-09-22T19:52:47.199Z"
   },
   {
    "duration": 10,
    "start_time": "2022-09-22T19:52:47.204Z"
   },
   {
    "duration": 31,
    "start_time": "2022-09-22T19:52:47.216Z"
   },
   {
    "duration": 13,
    "start_time": "2022-09-22T19:52:47.249Z"
   },
   {
    "duration": 10,
    "start_time": "2022-09-22T19:52:47.264Z"
   },
   {
    "duration": 82,
    "start_time": "2022-09-22T19:57:53.971Z"
   },
   {
    "duration": 53,
    "start_time": "2022-09-22T19:58:35.713Z"
   },
   {
    "duration": 5,
    "start_time": "2022-09-22T19:58:45.753Z"
   },
   {
    "duration": 1126,
    "start_time": "2022-09-22T19:58:58.603Z"
   },
   {
    "duration": 66,
    "start_time": "2022-09-22T19:58:59.731Z"
   },
   {
    "duration": 14,
    "start_time": "2022-09-22T19:58:59.798Z"
   },
   {
    "duration": 20,
    "start_time": "2022-09-22T19:58:59.814Z"
   },
   {
    "duration": 19,
    "start_time": "2022-09-22T19:58:59.840Z"
   },
   {
    "duration": 15,
    "start_time": "2022-09-22T19:58:59.860Z"
   },
   {
    "duration": 23,
    "start_time": "2022-09-22T19:58:59.877Z"
   },
   {
    "duration": 20,
    "start_time": "2022-09-22T19:58:59.901Z"
   },
   {
    "duration": 36,
    "start_time": "2022-09-22T19:58:59.922Z"
   },
   {
    "duration": 18,
    "start_time": "2022-09-22T19:58:59.966Z"
   },
   {
    "duration": 7,
    "start_time": "2022-09-22T19:58:59.985Z"
   },
   {
    "duration": 26,
    "start_time": "2022-09-22T19:58:59.994Z"
   },
   {
    "duration": 40,
    "start_time": "2022-09-22T19:59:00.022Z"
   },
   {
    "duration": 30,
    "start_time": "2022-09-22T19:59:00.063Z"
   },
   {
    "duration": 28,
    "start_time": "2022-09-22T19:59:00.095Z"
   },
   {
    "duration": 30,
    "start_time": "2022-09-22T19:59:00.125Z"
   },
   {
    "duration": 12,
    "start_time": "2022-09-22T19:59:00.160Z"
   },
   {
    "duration": 63,
    "start_time": "2022-09-22T19:59:00.174Z"
   },
   {
    "duration": 14,
    "start_time": "2022-09-22T19:59:00.239Z"
   },
   {
    "duration": 23,
    "start_time": "2022-09-22T19:59:00.255Z"
   },
   {
    "duration": 11,
    "start_time": "2022-09-22T19:59:00.280Z"
   },
   {
    "duration": 24,
    "start_time": "2022-09-22T19:59:00.293Z"
   },
   {
    "duration": 7,
    "start_time": "2022-09-22T19:59:00.319Z"
   },
   {
    "duration": 40,
    "start_time": "2022-09-22T19:59:00.327Z"
   },
   {
    "duration": 23,
    "start_time": "2022-09-22T19:59:00.369Z"
   },
   {
    "duration": 16,
    "start_time": "2022-09-22T19:59:00.394Z"
   },
   {
    "duration": 19,
    "start_time": "2022-09-22T19:59:00.412Z"
   },
   {
    "duration": 58,
    "start_time": "2022-09-22T19:59:00.435Z"
   },
   {
    "duration": 27,
    "start_time": "2022-09-22T19:59:00.495Z"
   },
   {
    "duration": 44,
    "start_time": "2022-09-22T19:59:00.524Z"
   },
   {
    "duration": 26,
    "start_time": "2022-09-22T19:59:00.570Z"
   },
   {
    "duration": 31,
    "start_time": "2022-09-22T19:59:00.598Z"
   },
   {
    "duration": 214,
    "start_time": "2022-09-22T19:59:00.631Z"
   },
   {
    "duration": 241,
    "start_time": "2022-09-22T19:59:00.846Z"
   },
   {
    "duration": 7,
    "start_time": "2022-09-22T19:59:01.089Z"
   },
   {
    "duration": 378,
    "start_time": "2022-09-22T19:59:01.098Z"
   },
   {
    "duration": 12,
    "start_time": "2022-09-22T19:59:01.477Z"
   },
   {
    "duration": 11,
    "start_time": "2022-09-22T19:59:01.491Z"
   },
   {
    "duration": 9,
    "start_time": "2022-09-22T19:59:01.503Z"
   },
   {
    "duration": 400,
    "start_time": "2022-09-22T19:59:01.513Z"
   },
   {
    "duration": 8,
    "start_time": "2022-09-22T19:59:01.915Z"
   },
   {
    "duration": 46,
    "start_time": "2022-09-22T19:59:01.925Z"
   },
   {
    "duration": 224,
    "start_time": "2022-09-22T19:59:01.972Z"
   },
   {
    "duration": 88,
    "start_time": "2022-09-22T19:59:02.198Z"
   },
   {
    "duration": 1390,
    "start_time": "2022-09-22T19:59:02.287Z"
   },
   {
    "duration": 81,
    "start_time": "2022-09-22T19:59:03.678Z"
   },
   {
    "duration": 23,
    "start_time": "2022-09-22T19:59:03.763Z"
   },
   {
    "duration": 235,
    "start_time": "2022-09-22T19:59:03.787Z"
   },
   {
    "duration": 19,
    "start_time": "2022-09-22T19:59:04.024Z"
   },
   {
    "duration": 412,
    "start_time": "2022-09-22T19:59:04.051Z"
   },
   {
    "duration": 406,
    "start_time": "2022-09-22T19:59:04.465Z"
   },
   {
    "duration": 523,
    "start_time": "2022-09-22T19:59:04.873Z"
   },
   {
    "duration": 419,
    "start_time": "2022-09-22T19:59:05.398Z"
   },
   {
    "duration": 462,
    "start_time": "2022-09-22T19:59:05.819Z"
   },
   {
    "duration": 532,
    "start_time": "2022-09-22T19:59:06.284Z"
   },
   {
    "duration": 20,
    "start_time": "2022-09-22T19:59:06.818Z"
   },
   {
    "duration": 11,
    "start_time": "2022-09-22T19:59:06.845Z"
   },
   {
    "duration": 19,
    "start_time": "2022-09-22T19:59:06.859Z"
   },
   {
    "duration": 16,
    "start_time": "2022-09-22T19:59:06.880Z"
   },
   {
    "duration": 4,
    "start_time": "2022-09-22T19:59:06.898Z"
   },
   {
    "duration": 18,
    "start_time": "2022-09-22T19:59:06.903Z"
   },
   {
    "duration": 4,
    "start_time": "2022-09-22T20:00:43.363Z"
   },
   {
    "duration": 1162,
    "start_time": "2022-09-22T20:00:48.231Z"
   },
   {
    "duration": 64,
    "start_time": "2022-09-22T20:00:49.396Z"
   },
   {
    "duration": 16,
    "start_time": "2022-09-22T20:00:49.462Z"
   },
   {
    "duration": 18,
    "start_time": "2022-09-22T20:00:49.480Z"
   },
   {
    "duration": 8,
    "start_time": "2022-09-22T20:00:49.499Z"
   },
   {
    "duration": 8,
    "start_time": "2022-09-22T20:00:49.509Z"
   },
   {
    "duration": 40,
    "start_time": "2022-09-22T20:00:49.519Z"
   },
   {
    "duration": 20,
    "start_time": "2022-09-22T20:00:49.561Z"
   },
   {
    "duration": 22,
    "start_time": "2022-09-22T20:00:49.583Z"
   },
   {
    "duration": 54,
    "start_time": "2022-09-22T20:00:49.607Z"
   },
   {
    "duration": 13,
    "start_time": "2022-09-22T20:00:49.663Z"
   },
   {
    "duration": 11,
    "start_time": "2022-09-22T20:00:49.677Z"
   },
   {
    "duration": 11,
    "start_time": "2022-09-22T20:00:49.690Z"
   },
   {
    "duration": 10,
    "start_time": "2022-09-22T20:00:49.702Z"
   },
   {
    "duration": 32,
    "start_time": "2022-09-22T20:00:49.713Z"
   },
   {
    "duration": 19,
    "start_time": "2022-09-22T20:00:49.747Z"
   },
   {
    "duration": 11,
    "start_time": "2022-09-22T20:00:49.768Z"
   },
   {
    "duration": 84,
    "start_time": "2022-09-22T20:00:49.781Z"
   },
   {
    "duration": 11,
    "start_time": "2022-09-22T20:00:49.866Z"
   },
   {
    "duration": 9,
    "start_time": "2022-09-22T20:00:49.879Z"
   },
   {
    "duration": 4,
    "start_time": "2022-09-22T20:00:49.890Z"
   },
   {
    "duration": 45,
    "start_time": "2022-09-22T20:00:49.896Z"
   },
   {
    "duration": 12,
    "start_time": "2022-09-22T20:00:49.946Z"
   },
   {
    "duration": 9,
    "start_time": "2022-09-22T20:00:49.960Z"
   },
   {
    "duration": 13,
    "start_time": "2022-09-22T20:00:49.971Z"
   },
   {
    "duration": 13,
    "start_time": "2022-09-22T20:00:49.986Z"
   },
   {
    "duration": 7,
    "start_time": "2022-09-22T20:00:50.000Z"
   },
   {
    "duration": 17,
    "start_time": "2022-09-22T20:00:50.011Z"
   },
   {
    "duration": 37,
    "start_time": "2022-09-22T20:00:50.030Z"
   },
   {
    "duration": 11,
    "start_time": "2022-09-22T20:00:50.069Z"
   },
   {
    "duration": 13,
    "start_time": "2022-09-22T20:00:50.082Z"
   },
   {
    "duration": 12,
    "start_time": "2022-09-22T20:00:50.097Z"
   },
   {
    "duration": 162,
    "start_time": "2022-09-22T20:00:50.111Z"
   },
   {
    "duration": 229,
    "start_time": "2022-09-22T20:00:50.274Z"
   },
   {
    "duration": 7,
    "start_time": "2022-09-22T20:00:50.504Z"
   },
   {
    "duration": 371,
    "start_time": "2022-09-22T20:00:50.513Z"
   },
   {
    "duration": 23,
    "start_time": "2022-09-22T20:00:50.885Z"
   },
   {
    "duration": 56,
    "start_time": "2022-09-22T20:00:50.910Z"
   },
   {
    "duration": 8,
    "start_time": "2022-09-22T20:00:50.968Z"
   },
   {
    "duration": 347,
    "start_time": "2022-09-22T20:00:50.978Z"
   },
   {
    "duration": 9,
    "start_time": "2022-09-22T20:00:51.327Z"
   },
   {
    "duration": 39,
    "start_time": "2022-09-22T20:00:51.341Z"
   },
   {
    "duration": 218,
    "start_time": "2022-09-22T20:00:51.382Z"
   },
   {
    "duration": 79,
    "start_time": "2022-09-22T20:00:51.602Z"
   },
   {
    "duration": 1420,
    "start_time": "2022-09-22T20:00:51.683Z"
   },
   {
    "duration": 73,
    "start_time": "2022-09-22T20:00:53.104Z"
   },
   {
    "duration": 15,
    "start_time": "2022-09-22T20:00:53.178Z"
   },
   {
    "duration": 229,
    "start_time": "2022-09-22T20:00:53.194Z"
   },
   {
    "duration": 20,
    "start_time": "2022-09-22T20:00:53.425Z"
   },
   {
    "duration": 413,
    "start_time": "2022-09-22T20:00:53.446Z"
   },
   {
    "duration": 418,
    "start_time": "2022-09-22T20:00:53.861Z"
   },
   {
    "duration": 517,
    "start_time": "2022-09-22T20:00:54.281Z"
   },
   {
    "duration": 472,
    "start_time": "2022-09-22T20:00:54.800Z"
   },
   {
    "duration": 425,
    "start_time": "2022-09-22T20:00:55.274Z"
   },
   {
    "duration": 428,
    "start_time": "2022-09-22T20:00:55.701Z"
   },
   {
    "duration": 17,
    "start_time": "2022-09-22T20:00:56.135Z"
   },
   {
    "duration": 18,
    "start_time": "2022-09-22T20:00:56.153Z"
   },
   {
    "duration": 15,
    "start_time": "2022-09-22T20:00:56.173Z"
   },
   {
    "duration": 30,
    "start_time": "2022-09-22T20:00:56.193Z"
   },
   {
    "duration": 20,
    "start_time": "2022-09-22T20:00:56.225Z"
   },
   {
    "duration": 37,
    "start_time": "2022-09-22T20:00:56.247Z"
   },
   {
    "duration": 9,
    "start_time": "2022-09-22T20:00:59.553Z"
   },
   {
    "duration": 15,
    "start_time": "2022-09-22T20:01:03.486Z"
   },
   {
    "duration": 1111,
    "start_time": "2022-09-22T20:01:41.556Z"
   },
   {
    "duration": 54,
    "start_time": "2022-09-22T20:01:42.669Z"
   },
   {
    "duration": 15,
    "start_time": "2022-09-22T20:01:42.724Z"
   },
   {
    "duration": 33,
    "start_time": "2022-09-22T20:01:42.741Z"
   },
   {
    "duration": 20,
    "start_time": "2022-09-22T20:01:42.776Z"
   },
   {
    "duration": 29,
    "start_time": "2022-09-22T20:01:42.797Z"
   },
   {
    "duration": 39,
    "start_time": "2022-09-22T20:01:42.828Z"
   },
   {
    "duration": 20,
    "start_time": "2022-09-22T20:01:42.869Z"
   },
   {
    "duration": 24,
    "start_time": "2022-09-22T20:01:42.891Z"
   },
   {
    "duration": 25,
    "start_time": "2022-09-22T20:01:42.918Z"
   },
   {
    "duration": 29,
    "start_time": "2022-09-22T20:01:42.945Z"
   },
   {
    "duration": 10,
    "start_time": "2022-09-22T20:01:42.976Z"
   },
   {
    "duration": 13,
    "start_time": "2022-09-22T20:01:42.988Z"
   },
   {
    "duration": 21,
    "start_time": "2022-09-22T20:01:43.002Z"
   },
   {
    "duration": 35,
    "start_time": "2022-09-22T20:01:43.024Z"
   },
   {
    "duration": 22,
    "start_time": "2022-09-22T20:01:43.061Z"
   },
   {
    "duration": 32,
    "start_time": "2022-09-22T20:01:43.084Z"
   },
   {
    "duration": 72,
    "start_time": "2022-09-22T20:01:43.117Z"
   },
   {
    "duration": 10,
    "start_time": "2022-09-22T20:01:43.191Z"
   },
   {
    "duration": 10,
    "start_time": "2022-09-22T20:01:43.202Z"
   },
   {
    "duration": 25,
    "start_time": "2022-09-22T20:01:43.214Z"
   },
   {
    "duration": 16,
    "start_time": "2022-09-22T20:01:43.240Z"
   },
   {
    "duration": 6,
    "start_time": "2022-09-22T20:01:43.258Z"
   },
   {
    "duration": 26,
    "start_time": "2022-09-22T20:01:43.266Z"
   },
   {
    "duration": 50,
    "start_time": "2022-09-22T20:01:43.294Z"
   },
   {
    "duration": 26,
    "start_time": "2022-09-22T20:01:43.345Z"
   },
   {
    "duration": 23,
    "start_time": "2022-09-22T20:01:43.373Z"
   },
   {
    "duration": 20,
    "start_time": "2022-09-22T20:01:43.400Z"
   },
   {
    "duration": 30,
    "start_time": "2022-09-22T20:01:43.421Z"
   },
   {
    "duration": 13,
    "start_time": "2022-09-22T20:01:43.453Z"
   },
   {
    "duration": 23,
    "start_time": "2022-09-22T20:01:43.468Z"
   },
   {
    "duration": 13,
    "start_time": "2022-09-22T20:01:43.493Z"
   },
   {
    "duration": 162,
    "start_time": "2022-09-22T20:01:43.507Z"
   },
   {
    "duration": 223,
    "start_time": "2022-09-22T20:01:43.670Z"
   },
   {
    "duration": 7,
    "start_time": "2022-09-22T20:01:43.894Z"
   },
   {
    "duration": 350,
    "start_time": "2022-09-22T20:01:43.903Z"
   },
   {
    "duration": 11,
    "start_time": "2022-09-22T20:01:44.255Z"
   },
   {
    "duration": 19,
    "start_time": "2022-09-22T20:01:44.267Z"
   },
   {
    "duration": 13,
    "start_time": "2022-09-22T20:01:44.288Z"
   },
   {
    "duration": 354,
    "start_time": "2022-09-22T20:01:44.303Z"
   },
   {
    "duration": 8,
    "start_time": "2022-09-22T20:01:44.659Z"
   },
   {
    "duration": 20,
    "start_time": "2022-09-22T20:01:44.668Z"
   },
   {
    "duration": 217,
    "start_time": "2022-09-22T20:01:44.690Z"
   },
   {
    "duration": 76,
    "start_time": "2022-09-22T20:01:44.909Z"
   },
   {
    "duration": 1321,
    "start_time": "2022-09-22T20:01:44.986Z"
   },
   {
    "duration": 86,
    "start_time": "2022-09-22T20:01:46.309Z"
   },
   {
    "duration": 17,
    "start_time": "2022-09-22T20:01:46.397Z"
   },
   {
    "duration": 259,
    "start_time": "2022-09-22T20:01:46.416Z"
   },
   {
    "duration": 9,
    "start_time": "2022-09-22T20:01:46.677Z"
   },
   {
    "duration": 475,
    "start_time": "2022-09-22T20:01:46.687Z"
   },
   {
    "duration": 394,
    "start_time": "2022-09-22T20:01:47.164Z"
   },
   {
    "duration": 488,
    "start_time": "2022-09-22T20:01:47.560Z"
   },
   {
    "duration": 411,
    "start_time": "2022-09-22T20:01:48.050Z"
   },
   {
    "duration": 436,
    "start_time": "2022-09-22T20:01:48.463Z"
   },
   {
    "duration": 410,
    "start_time": "2022-09-22T20:01:48.901Z"
   },
   {
    "duration": 24,
    "start_time": "2022-09-22T20:01:49.313Z"
   },
   {
    "duration": 7,
    "start_time": "2022-09-22T20:01:49.339Z"
   },
   {
    "duration": 13,
    "start_time": "2022-09-22T20:01:49.347Z"
   },
   {
    "duration": 11,
    "start_time": "2022-09-22T20:01:49.361Z"
   },
   {
    "duration": 3,
    "start_time": "2022-09-22T20:01:49.374Z"
   },
   {
    "duration": 6,
    "start_time": "2022-09-22T20:01:49.379Z"
   },
   {
    "duration": 1146,
    "start_time": "2022-09-22T20:02:00.774Z"
   },
   {
    "duration": 63,
    "start_time": "2022-09-22T20:02:01.922Z"
   },
   {
    "duration": 21,
    "start_time": "2022-09-22T20:02:01.987Z"
   },
   {
    "duration": 78,
    "start_time": "2022-09-22T20:02:02.010Z"
   },
   {
    "duration": 9,
    "start_time": "2022-09-22T20:02:02.089Z"
   },
   {
    "duration": 10,
    "start_time": "2022-09-22T20:02:02.100Z"
   },
   {
    "duration": 109,
    "start_time": "2022-09-22T20:02:02.112Z"
   },
   {
    "duration": 28,
    "start_time": "2022-09-22T20:02:02.222Z"
   },
   {
    "duration": 69,
    "start_time": "2022-09-22T20:02:02.251Z"
   },
   {
    "duration": 23,
    "start_time": "2022-09-22T20:02:02.322Z"
   },
   {
    "duration": 13,
    "start_time": "2022-09-22T20:02:02.347Z"
   },
   {
    "duration": 30,
    "start_time": "2022-09-22T20:02:02.361Z"
   },
   {
    "duration": 15,
    "start_time": "2022-09-22T20:02:02.392Z"
   },
   {
    "duration": 31,
    "start_time": "2022-09-22T20:02:02.408Z"
   },
   {
    "duration": 36,
    "start_time": "2022-09-22T20:02:02.445Z"
   },
   {
    "duration": 15,
    "start_time": "2022-09-22T20:02:02.483Z"
   },
   {
    "duration": 24,
    "start_time": "2022-09-22T20:02:02.499Z"
   },
   {
    "duration": 80,
    "start_time": "2022-09-22T20:02:02.525Z"
   },
   {
    "duration": 9,
    "start_time": "2022-09-22T20:02:02.607Z"
   },
   {
    "duration": 24,
    "start_time": "2022-09-22T20:02:02.617Z"
   },
   {
    "duration": 9,
    "start_time": "2022-09-22T20:02:02.646Z"
   },
   {
    "duration": 45,
    "start_time": "2022-09-22T20:02:02.657Z"
   },
   {
    "duration": 66,
    "start_time": "2022-09-22T20:02:02.703Z"
   },
   {
    "duration": 12,
    "start_time": "2022-09-22T20:02:02.771Z"
   },
   {
    "duration": 23,
    "start_time": "2022-09-22T20:02:02.784Z"
   },
   {
    "duration": 16,
    "start_time": "2022-09-22T20:02:02.809Z"
   },
   {
    "duration": 34,
    "start_time": "2022-09-22T20:02:02.826Z"
   },
   {
    "duration": 35,
    "start_time": "2022-09-22T20:02:02.863Z"
   },
   {
    "duration": 25,
    "start_time": "2022-09-22T20:02:02.899Z"
   },
   {
    "duration": 36,
    "start_time": "2022-09-22T20:02:02.926Z"
   },
   {
    "duration": 12,
    "start_time": "2022-09-22T20:02:02.964Z"
   },
   {
    "duration": 20,
    "start_time": "2022-09-22T20:02:02.977Z"
   },
   {
    "duration": 175,
    "start_time": "2022-09-22T20:02:02.999Z"
   },
   {
    "duration": 216,
    "start_time": "2022-09-22T20:02:03.176Z"
   },
   {
    "duration": 7,
    "start_time": "2022-09-22T20:02:03.394Z"
   },
   {
    "duration": 348,
    "start_time": "2022-09-22T20:02:03.402Z"
   },
   {
    "duration": 11,
    "start_time": "2022-09-22T20:02:03.751Z"
   },
   {
    "duration": 17,
    "start_time": "2022-09-22T20:02:03.764Z"
   },
   {
    "duration": 14,
    "start_time": "2022-09-22T20:02:03.782Z"
   },
   {
    "duration": 367,
    "start_time": "2022-09-22T20:02:03.798Z"
   },
   {
    "duration": 8,
    "start_time": "2022-09-22T20:02:04.167Z"
   },
   {
    "duration": 19,
    "start_time": "2022-09-22T20:02:04.176Z"
   },
   {
    "duration": 210,
    "start_time": "2022-09-22T20:02:04.197Z"
   },
   {
    "duration": 87,
    "start_time": "2022-09-22T20:02:04.409Z"
   },
   {
    "duration": 1288,
    "start_time": "2022-09-22T20:02:04.497Z"
   },
   {
    "duration": 77,
    "start_time": "2022-09-22T20:02:05.787Z"
   },
   {
    "duration": 16,
    "start_time": "2022-09-22T20:02:05.865Z"
   },
   {
    "duration": 241,
    "start_time": "2022-09-22T20:02:05.882Z"
   },
   {
    "duration": 9,
    "start_time": "2022-09-22T20:02:06.125Z"
   },
   {
    "duration": 541,
    "start_time": "2022-09-22T20:02:06.135Z"
   },
   {
    "duration": 406,
    "start_time": "2022-09-22T20:02:06.678Z"
   },
   {
    "duration": 491,
    "start_time": "2022-09-22T20:02:07.086Z"
   },
   {
    "duration": 413,
    "start_time": "2022-09-22T20:02:07.578Z"
   },
   {
    "duration": 456,
    "start_time": "2022-09-22T20:02:07.992Z"
   },
   {
    "duration": 400,
    "start_time": "2022-09-22T20:02:08.450Z"
   },
   {
    "duration": 11,
    "start_time": "2022-09-22T20:02:08.852Z"
   },
   {
    "duration": 4,
    "start_time": "2022-09-22T20:02:08.865Z"
   },
   {
    "duration": 6,
    "start_time": "2022-09-22T20:02:08.871Z"
   },
   {
    "duration": 12,
    "start_time": "2022-09-22T20:02:08.879Z"
   },
   {
    "duration": 10,
    "start_time": "2022-09-22T20:02:08.893Z"
   },
   {
    "duration": 38,
    "start_time": "2022-09-22T20:02:08.905Z"
   },
   {
    "duration": 1141,
    "start_time": "2022-09-22T20:06:02.951Z"
   },
   {
    "duration": 65,
    "start_time": "2022-09-22T20:06:04.094Z"
   },
   {
    "duration": 16,
    "start_time": "2022-09-22T20:06:04.161Z"
   },
   {
    "duration": 17,
    "start_time": "2022-09-22T20:06:04.180Z"
   },
   {
    "duration": 9,
    "start_time": "2022-09-22T20:06:04.198Z"
   },
   {
    "duration": 14,
    "start_time": "2022-09-22T20:06:04.209Z"
   },
   {
    "duration": 44,
    "start_time": "2022-09-22T20:06:04.242Z"
   },
   {
    "duration": 19,
    "start_time": "2022-09-22T20:06:04.288Z"
   },
   {
    "duration": 18,
    "start_time": "2022-09-22T20:06:04.309Z"
   },
   {
    "duration": 28,
    "start_time": "2022-09-22T20:06:04.330Z"
   },
   {
    "duration": 8,
    "start_time": "2022-09-22T20:06:04.360Z"
   },
   {
    "duration": 13,
    "start_time": "2022-09-22T20:06:04.370Z"
   },
   {
    "duration": 13,
    "start_time": "2022-09-22T20:06:04.386Z"
   },
   {
    "duration": 10,
    "start_time": "2022-09-22T20:06:04.400Z"
   },
   {
    "duration": 30,
    "start_time": "2022-09-22T20:06:04.412Z"
   },
   {
    "duration": 23,
    "start_time": "2022-09-22T20:06:04.443Z"
   },
   {
    "duration": 8,
    "start_time": "2022-09-22T20:06:04.468Z"
   },
   {
    "duration": 61,
    "start_time": "2022-09-22T20:06:04.478Z"
   },
   {
    "duration": 16,
    "start_time": "2022-09-22T20:06:04.545Z"
   },
   {
    "duration": 11,
    "start_time": "2022-09-22T20:06:04.563Z"
   },
   {
    "duration": 11,
    "start_time": "2022-09-22T20:06:04.576Z"
   },
   {
    "duration": 15,
    "start_time": "2022-09-22T20:06:04.589Z"
   },
   {
    "duration": 108,
    "start_time": "2022-09-22T20:06:04.606Z"
   },
   {
    "duration": 0,
    "start_time": "2022-09-22T20:06:04.717Z"
   },
   {
    "duration": 0,
    "start_time": "2022-09-22T20:06:04.718Z"
   },
   {
    "duration": 0,
    "start_time": "2022-09-22T20:06:04.719Z"
   },
   {
    "duration": 0,
    "start_time": "2022-09-22T20:06:04.720Z"
   },
   {
    "duration": 0,
    "start_time": "2022-09-22T20:06:04.721Z"
   },
   {
    "duration": 0,
    "start_time": "2022-09-22T20:06:04.722Z"
   },
   {
    "duration": 0,
    "start_time": "2022-09-22T20:06:04.735Z"
   },
   {
    "duration": 0,
    "start_time": "2022-09-22T20:06:04.737Z"
   },
   {
    "duration": 0,
    "start_time": "2022-09-22T20:06:04.738Z"
   },
   {
    "duration": 0,
    "start_time": "2022-09-22T20:06:04.740Z"
   },
   {
    "duration": 0,
    "start_time": "2022-09-22T20:06:04.741Z"
   },
   {
    "duration": 0,
    "start_time": "2022-09-22T20:06:04.742Z"
   },
   {
    "duration": 0,
    "start_time": "2022-09-22T20:06:04.742Z"
   },
   {
    "duration": 0,
    "start_time": "2022-09-22T20:06:04.743Z"
   },
   {
    "duration": 0,
    "start_time": "2022-09-22T20:06:04.744Z"
   },
   {
    "duration": 0,
    "start_time": "2022-09-22T20:06:04.745Z"
   },
   {
    "duration": 0,
    "start_time": "2022-09-22T20:06:04.746Z"
   },
   {
    "duration": 0,
    "start_time": "2022-09-22T20:06:04.746Z"
   },
   {
    "duration": 0,
    "start_time": "2022-09-22T20:06:04.747Z"
   },
   {
    "duration": 0,
    "start_time": "2022-09-22T20:06:04.748Z"
   },
   {
    "duration": 0,
    "start_time": "2022-09-22T20:06:04.749Z"
   },
   {
    "duration": 0,
    "start_time": "2022-09-22T20:06:04.749Z"
   },
   {
    "duration": 0,
    "start_time": "2022-09-22T20:06:04.750Z"
   },
   {
    "duration": 0,
    "start_time": "2022-09-22T20:06:04.752Z"
   },
   {
    "duration": 0,
    "start_time": "2022-09-22T20:06:04.753Z"
   },
   {
    "duration": 0,
    "start_time": "2022-09-22T20:06:04.754Z"
   },
   {
    "duration": 0,
    "start_time": "2022-09-22T20:06:04.758Z"
   },
   {
    "duration": 0,
    "start_time": "2022-09-22T20:06:04.758Z"
   },
   {
    "duration": 0,
    "start_time": "2022-09-22T20:06:04.759Z"
   },
   {
    "duration": 0,
    "start_time": "2022-09-22T20:06:04.761Z"
   },
   {
    "duration": 0,
    "start_time": "2022-09-22T20:06:04.762Z"
   },
   {
    "duration": 0,
    "start_time": "2022-09-22T20:06:04.762Z"
   },
   {
    "duration": 0,
    "start_time": "2022-09-22T20:06:04.763Z"
   },
   {
    "duration": 0,
    "start_time": "2022-09-22T20:06:04.774Z"
   },
   {
    "duration": 0,
    "start_time": "2022-09-22T20:06:04.775Z"
   },
   {
    "duration": 0,
    "start_time": "2022-09-22T20:06:04.777Z"
   },
   {
    "duration": 0,
    "start_time": "2022-09-22T20:06:04.778Z"
   },
   {
    "duration": 1107,
    "start_time": "2022-09-22T20:10:09.151Z"
   },
   {
    "duration": 53,
    "start_time": "2022-09-22T20:10:10.259Z"
   },
   {
    "duration": 13,
    "start_time": "2022-09-22T20:10:10.313Z"
   },
   {
    "duration": 20,
    "start_time": "2022-09-22T20:10:10.328Z"
   },
   {
    "duration": 10,
    "start_time": "2022-09-22T20:10:10.349Z"
   },
   {
    "duration": 4,
    "start_time": "2022-09-22T20:10:10.360Z"
   },
   {
    "duration": 21,
    "start_time": "2022-09-22T20:10:10.366Z"
   },
   {
    "duration": 22,
    "start_time": "2022-09-22T20:10:10.389Z"
   },
   {
    "duration": 49,
    "start_time": "2022-09-22T20:10:10.413Z"
   },
   {
    "duration": 21,
    "start_time": "2022-09-22T20:10:10.465Z"
   },
   {
    "duration": 8,
    "start_time": "2022-09-22T20:10:10.488Z"
   },
   {
    "duration": 9,
    "start_time": "2022-09-22T20:10:10.497Z"
   },
   {
    "duration": 31,
    "start_time": "2022-09-22T20:10:10.508Z"
   },
   {
    "duration": 3,
    "start_time": "2022-09-22T20:10:10.541Z"
   },
   {
    "duration": 25,
    "start_time": "2022-09-22T20:10:10.546Z"
   },
   {
    "duration": 15,
    "start_time": "2022-09-22T20:10:10.572Z"
   },
   {
    "duration": 8,
    "start_time": "2022-09-22T20:10:10.589Z"
   },
   {
    "duration": 74,
    "start_time": "2022-09-22T20:10:10.598Z"
   },
   {
    "duration": 8,
    "start_time": "2022-09-22T20:10:10.674Z"
   },
   {
    "duration": 8,
    "start_time": "2022-09-22T20:10:10.684Z"
   },
   {
    "duration": 4,
    "start_time": "2022-09-22T20:10:10.694Z"
   },
   {
    "duration": 16,
    "start_time": "2022-09-22T20:10:10.699Z"
   },
   {
    "duration": 114,
    "start_time": "2022-09-22T20:10:10.733Z"
   },
   {
    "duration": 0,
    "start_time": "2022-09-22T20:10:10.850Z"
   },
   {
    "duration": 0,
    "start_time": "2022-09-22T20:10:10.852Z"
   },
   {
    "duration": 0,
    "start_time": "2022-09-22T20:10:10.853Z"
   },
   {
    "duration": 0,
    "start_time": "2022-09-22T20:10:10.855Z"
   },
   {
    "duration": 0,
    "start_time": "2022-09-22T20:10:10.856Z"
   },
   {
    "duration": 0,
    "start_time": "2022-09-22T20:10:10.857Z"
   },
   {
    "duration": 0,
    "start_time": "2022-09-22T20:10:10.858Z"
   },
   {
    "duration": 0,
    "start_time": "2022-09-22T20:10:10.859Z"
   },
   {
    "duration": 0,
    "start_time": "2022-09-22T20:10:10.860Z"
   },
   {
    "duration": 0,
    "start_time": "2022-09-22T20:10:10.861Z"
   },
   {
    "duration": 0,
    "start_time": "2022-09-22T20:10:10.862Z"
   },
   {
    "duration": 0,
    "start_time": "2022-09-22T20:10:10.863Z"
   },
   {
    "duration": 0,
    "start_time": "2022-09-22T20:10:10.864Z"
   },
   {
    "duration": 0,
    "start_time": "2022-09-22T20:10:10.865Z"
   },
   {
    "duration": 0,
    "start_time": "2022-09-22T20:10:10.866Z"
   },
   {
    "duration": 0,
    "start_time": "2022-09-22T20:10:10.867Z"
   },
   {
    "duration": 0,
    "start_time": "2022-09-22T20:10:10.868Z"
   },
   {
    "duration": 0,
    "start_time": "2022-09-22T20:10:10.868Z"
   },
   {
    "duration": 0,
    "start_time": "2022-09-22T20:10:10.869Z"
   },
   {
    "duration": 0,
    "start_time": "2022-09-22T20:10:10.870Z"
   },
   {
    "duration": 0,
    "start_time": "2022-09-22T20:10:10.871Z"
   },
   {
    "duration": 0,
    "start_time": "2022-09-22T20:10:10.872Z"
   },
   {
    "duration": 0,
    "start_time": "2022-09-22T20:10:10.873Z"
   },
   {
    "duration": 0,
    "start_time": "2022-09-22T20:10:10.874Z"
   },
   {
    "duration": 0,
    "start_time": "2022-09-22T20:10:10.875Z"
   },
   {
    "duration": 0,
    "start_time": "2022-09-22T20:10:10.876Z"
   },
   {
    "duration": 0,
    "start_time": "2022-09-22T20:10:10.877Z"
   },
   {
    "duration": 0,
    "start_time": "2022-09-22T20:10:10.877Z"
   },
   {
    "duration": 0,
    "start_time": "2022-09-22T20:10:10.878Z"
   },
   {
    "duration": 0,
    "start_time": "2022-09-22T20:10:10.879Z"
   },
   {
    "duration": 0,
    "start_time": "2022-09-22T20:10:10.880Z"
   },
   {
    "duration": 0,
    "start_time": "2022-09-22T20:10:10.881Z"
   },
   {
    "duration": 0,
    "start_time": "2022-09-22T20:10:10.882Z"
   },
   {
    "duration": 0,
    "start_time": "2022-09-22T20:10:10.882Z"
   },
   {
    "duration": 0,
    "start_time": "2022-09-22T20:10:10.883Z"
   },
   {
    "duration": 0,
    "start_time": "2022-09-22T20:10:10.937Z"
   },
   {
    "duration": 0,
    "start_time": "2022-09-22T20:10:10.938Z"
   },
   {
    "duration": 12,
    "start_time": "2022-09-22T20:11:14.746Z"
   },
   {
    "duration": 1087,
    "start_time": "2022-09-22T20:11:24.870Z"
   },
   {
    "duration": 53,
    "start_time": "2022-09-22T20:11:25.959Z"
   },
   {
    "duration": 15,
    "start_time": "2022-09-22T20:11:26.017Z"
   },
   {
    "duration": 22,
    "start_time": "2022-09-22T20:11:26.033Z"
   },
   {
    "duration": 9,
    "start_time": "2022-09-22T20:11:26.056Z"
   },
   {
    "duration": 8,
    "start_time": "2022-09-22T20:11:26.066Z"
   },
   {
    "duration": 25,
    "start_time": "2022-09-22T20:11:26.076Z"
   },
   {
    "duration": 41,
    "start_time": "2022-09-22T20:11:26.102Z"
   },
   {
    "duration": 24,
    "start_time": "2022-09-22T20:11:26.146Z"
   },
   {
    "duration": 27,
    "start_time": "2022-09-22T20:11:26.172Z"
   },
   {
    "duration": 31,
    "start_time": "2022-09-22T20:11:26.202Z"
   },
   {
    "duration": 31,
    "start_time": "2022-09-22T20:11:26.236Z"
   },
   {
    "duration": 9,
    "start_time": "2022-09-22T20:11:26.269Z"
   },
   {
    "duration": 11,
    "start_time": "2022-09-22T20:11:26.280Z"
   },
   {
    "duration": 46,
    "start_time": "2022-09-22T20:11:26.293Z"
   },
   {
    "duration": 18,
    "start_time": "2022-09-22T20:11:26.347Z"
   },
   {
    "duration": 15,
    "start_time": "2022-09-22T20:11:26.368Z"
   },
   {
    "duration": 73,
    "start_time": "2022-09-22T20:11:26.385Z"
   },
   {
    "duration": 12,
    "start_time": "2022-09-22T20:11:26.459Z"
   },
   {
    "duration": 24,
    "start_time": "2022-09-22T20:11:26.473Z"
   },
   {
    "duration": 12,
    "start_time": "2022-09-22T20:11:26.499Z"
   },
   {
    "duration": 26,
    "start_time": "2022-09-22T20:11:26.513Z"
   },
   {
    "duration": 118,
    "start_time": "2022-09-22T20:11:26.543Z"
   },
   {
    "duration": 0,
    "start_time": "2022-09-22T20:11:26.664Z"
   },
   {
    "duration": 0,
    "start_time": "2022-09-22T20:11:26.665Z"
   },
   {
    "duration": 0,
    "start_time": "2022-09-22T20:11:26.666Z"
   },
   {
    "duration": 0,
    "start_time": "2022-09-22T20:11:26.668Z"
   },
   {
    "duration": 0,
    "start_time": "2022-09-22T20:11:26.669Z"
   },
   {
    "duration": 1,
    "start_time": "2022-09-22T20:11:26.670Z"
   },
   {
    "duration": 0,
    "start_time": "2022-09-22T20:11:26.672Z"
   },
   {
    "duration": 0,
    "start_time": "2022-09-22T20:11:26.673Z"
   },
   {
    "duration": 1,
    "start_time": "2022-09-22T20:11:26.674Z"
   },
   {
    "duration": 0,
    "start_time": "2022-09-22T20:11:26.676Z"
   },
   {
    "duration": 0,
    "start_time": "2022-09-22T20:11:26.677Z"
   },
   {
    "duration": 0,
    "start_time": "2022-09-22T20:11:26.678Z"
   },
   {
    "duration": 0,
    "start_time": "2022-09-22T20:11:26.678Z"
   },
   {
    "duration": 0,
    "start_time": "2022-09-22T20:11:26.679Z"
   },
   {
    "duration": 0,
    "start_time": "2022-09-22T20:11:26.680Z"
   },
   {
    "duration": 0,
    "start_time": "2022-09-22T20:11:26.681Z"
   },
   {
    "duration": 0,
    "start_time": "2022-09-22T20:11:26.682Z"
   },
   {
    "duration": 0,
    "start_time": "2022-09-22T20:11:26.683Z"
   },
   {
    "duration": 0,
    "start_time": "2022-09-22T20:11:26.684Z"
   },
   {
    "duration": 0,
    "start_time": "2022-09-22T20:11:26.685Z"
   },
   {
    "duration": 0,
    "start_time": "2022-09-22T20:11:26.686Z"
   },
   {
    "duration": 0,
    "start_time": "2022-09-22T20:11:26.688Z"
   },
   {
    "duration": 0,
    "start_time": "2022-09-22T20:11:26.688Z"
   },
   {
    "duration": 0,
    "start_time": "2022-09-22T20:11:26.690Z"
   },
   {
    "duration": 0,
    "start_time": "2022-09-22T20:11:26.690Z"
   },
   {
    "duration": 0,
    "start_time": "2022-09-22T20:11:26.739Z"
   },
   {
    "duration": 0,
    "start_time": "2022-09-22T20:11:26.740Z"
   },
   {
    "duration": 0,
    "start_time": "2022-09-22T20:11:26.741Z"
   },
   {
    "duration": 1,
    "start_time": "2022-09-22T20:11:26.741Z"
   },
   {
    "duration": 0,
    "start_time": "2022-09-22T20:11:26.742Z"
   },
   {
    "duration": 0,
    "start_time": "2022-09-22T20:11:26.743Z"
   },
   {
    "duration": 0,
    "start_time": "2022-09-22T20:11:26.744Z"
   },
   {
    "duration": 0,
    "start_time": "2022-09-22T20:11:26.749Z"
   },
   {
    "duration": 0,
    "start_time": "2022-09-22T20:11:26.750Z"
   },
   {
    "duration": 0,
    "start_time": "2022-09-22T20:11:26.751Z"
   },
   {
    "duration": 0,
    "start_time": "2022-09-22T20:11:26.752Z"
   },
   {
    "duration": 0,
    "start_time": "2022-09-22T20:11:26.753Z"
   },
   {
    "duration": 0,
    "start_time": "2022-09-22T20:11:26.755Z"
   },
   {
    "duration": 6,
    "start_time": "2022-09-22T20:11:53.001Z"
   },
   {
    "duration": 1098,
    "start_time": "2022-09-22T20:11:57.781Z"
   },
   {
    "duration": 62,
    "start_time": "2022-09-22T20:11:58.881Z"
   },
   {
    "duration": 14,
    "start_time": "2022-09-22T20:11:58.946Z"
   },
   {
    "duration": 15,
    "start_time": "2022-09-22T20:11:58.962Z"
   },
   {
    "duration": 9,
    "start_time": "2022-09-22T20:11:58.978Z"
   },
   {
    "duration": 11,
    "start_time": "2022-09-22T20:11:58.989Z"
   },
   {
    "duration": 49,
    "start_time": "2022-09-22T20:11:59.002Z"
   },
   {
    "duration": 20,
    "start_time": "2022-09-22T20:11:59.053Z"
   },
   {
    "duration": 23,
    "start_time": "2022-09-22T20:11:59.074Z"
   },
   {
    "duration": 18,
    "start_time": "2022-09-22T20:11:59.099Z"
   },
   {
    "duration": 16,
    "start_time": "2022-09-22T20:11:59.118Z"
   },
   {
    "duration": 14,
    "start_time": "2022-09-22T20:11:59.136Z"
   },
   {
    "duration": 5,
    "start_time": "2022-09-22T20:11:59.153Z"
   },
   {
    "duration": 9,
    "start_time": "2022-09-22T20:11:59.159Z"
   },
   {
    "duration": 31,
    "start_time": "2022-09-22T20:11:59.170Z"
   },
   {
    "duration": 16,
    "start_time": "2022-09-22T20:11:59.203Z"
   },
   {
    "duration": 32,
    "start_time": "2022-09-22T20:11:59.220Z"
   },
   {
    "duration": 68,
    "start_time": "2022-09-22T20:11:59.253Z"
   },
   {
    "duration": 10,
    "start_time": "2022-09-22T20:11:59.322Z"
   },
   {
    "duration": 22,
    "start_time": "2022-09-22T20:11:59.334Z"
   },
   {
    "duration": 5,
    "start_time": "2022-09-22T20:11:59.357Z"
   },
   {
    "duration": 16,
    "start_time": "2022-09-22T20:11:59.363Z"
   },
   {
    "duration": 6,
    "start_time": "2022-09-22T20:11:59.381Z"
   },
   {
    "duration": 6,
    "start_time": "2022-09-22T20:11:59.388Z"
   },
   {
    "duration": 10,
    "start_time": "2022-09-22T20:11:59.396Z"
   },
   {
    "duration": 30,
    "start_time": "2022-09-22T20:11:59.408Z"
   },
   {
    "duration": 28,
    "start_time": "2022-09-22T20:11:59.439Z"
   },
   {
    "duration": 7,
    "start_time": "2022-09-22T20:11:59.470Z"
   },
   {
    "duration": 6,
    "start_time": "2022-09-22T20:11:59.478Z"
   },
   {
    "duration": 6,
    "start_time": "2022-09-22T20:11:59.485Z"
   },
   {
    "duration": 7,
    "start_time": "2022-09-22T20:11:59.492Z"
   },
   {
    "duration": 155,
    "start_time": "2022-09-22T20:11:59.500Z"
   },
   {
    "duration": 225,
    "start_time": "2022-09-22T20:11:59.656Z"
   },
   {
    "duration": 6,
    "start_time": "2022-09-22T20:11:59.882Z"
   },
   {
    "duration": 357,
    "start_time": "2022-09-22T20:11:59.890Z"
   },
   {
    "duration": 12,
    "start_time": "2022-09-22T20:12:00.250Z"
   },
   {
    "duration": 29,
    "start_time": "2022-09-22T20:12:00.263Z"
   },
   {
    "duration": 26,
    "start_time": "2022-09-22T20:12:00.293Z"
   },
   {
    "duration": 364,
    "start_time": "2022-09-22T20:12:00.321Z"
   },
   {
    "duration": 9,
    "start_time": "2022-09-22T20:12:00.687Z"
   },
   {
    "duration": 23,
    "start_time": "2022-09-22T20:12:00.698Z"
   },
   {
    "duration": 251,
    "start_time": "2022-09-22T20:12:00.723Z"
   },
   {
    "duration": 82,
    "start_time": "2022-09-22T20:12:00.976Z"
   },
   {
    "duration": 1312,
    "start_time": "2022-09-22T20:12:01.059Z"
   },
   {
    "duration": 74,
    "start_time": "2022-09-22T20:12:02.372Z"
   },
   {
    "duration": 25,
    "start_time": "2022-09-22T20:12:02.448Z"
   },
   {
    "duration": 234,
    "start_time": "2022-09-22T20:12:02.475Z"
   },
   {
    "duration": 7,
    "start_time": "2022-09-22T20:12:02.711Z"
   },
   {
    "duration": 449,
    "start_time": "2022-09-22T20:12:02.720Z"
   },
   {
    "duration": 399,
    "start_time": "2022-09-22T20:12:03.171Z"
   },
   {
    "duration": 503,
    "start_time": "2022-09-22T20:12:03.571Z"
   },
   {
    "duration": 412,
    "start_time": "2022-09-22T20:12:04.076Z"
   },
   {
    "duration": 420,
    "start_time": "2022-09-22T20:12:04.489Z"
   },
   {
    "duration": 437,
    "start_time": "2022-09-22T20:12:04.911Z"
   },
   {
    "duration": 10,
    "start_time": "2022-09-22T20:12:05.349Z"
   },
   {
    "duration": 6,
    "start_time": "2022-09-22T20:12:05.361Z"
   },
   {
    "duration": 6,
    "start_time": "2022-09-22T20:12:05.368Z"
   },
   {
    "duration": 15,
    "start_time": "2022-09-22T20:12:05.376Z"
   },
   {
    "duration": 5,
    "start_time": "2022-09-22T20:12:05.393Z"
   },
   {
    "duration": 8,
    "start_time": "2022-09-22T20:12:05.399Z"
   },
   {
    "duration": 1101,
    "start_time": "2022-09-22T20:12:51.526Z"
   },
   {
    "duration": 59,
    "start_time": "2022-09-22T20:12:52.629Z"
   },
   {
    "duration": 14,
    "start_time": "2022-09-22T20:12:52.690Z"
   },
   {
    "duration": 17,
    "start_time": "2022-09-22T20:12:52.706Z"
   },
   {
    "duration": 19,
    "start_time": "2022-09-22T20:12:52.725Z"
   },
   {
    "duration": 11,
    "start_time": "2022-09-22T20:12:52.746Z"
   },
   {
    "duration": 23,
    "start_time": "2022-09-22T20:12:52.759Z"
   },
   {
    "duration": 19,
    "start_time": "2022-09-22T20:12:52.783Z"
   },
   {
    "duration": 18,
    "start_time": "2022-09-22T20:12:52.803Z"
   },
   {
    "duration": 22,
    "start_time": "2022-09-22T20:12:52.837Z"
   },
   {
    "duration": 8,
    "start_time": "2022-09-22T20:12:52.860Z"
   },
   {
    "duration": 9,
    "start_time": "2022-09-22T20:12:52.870Z"
   },
   {
    "duration": 6,
    "start_time": "2022-09-22T20:12:52.881Z"
   },
   {
    "duration": 7,
    "start_time": "2022-09-22T20:12:52.889Z"
   },
   {
    "duration": 51,
    "start_time": "2022-09-22T20:12:52.897Z"
   },
   {
    "duration": 15,
    "start_time": "2022-09-22T20:12:52.950Z"
   },
   {
    "duration": 9,
    "start_time": "2022-09-22T20:12:52.966Z"
   },
   {
    "duration": 55,
    "start_time": "2022-09-22T20:12:52.977Z"
   },
   {
    "duration": 11,
    "start_time": "2022-09-22T20:12:53.034Z"
   },
   {
    "duration": 11,
    "start_time": "2022-09-22T20:12:53.047Z"
   },
   {
    "duration": 4,
    "start_time": "2022-09-22T20:12:53.060Z"
   },
   {
    "duration": 24,
    "start_time": "2022-09-22T20:12:53.066Z"
   },
   {
    "duration": 5,
    "start_time": "2022-09-22T20:12:53.092Z"
   },
   {
    "duration": 6,
    "start_time": "2022-09-22T20:12:53.098Z"
   },
   {
    "duration": 17,
    "start_time": "2022-09-22T20:12:53.105Z"
   },
   {
    "duration": 27,
    "start_time": "2022-09-22T20:12:53.123Z"
   },
   {
    "duration": 15,
    "start_time": "2022-09-22T20:12:53.152Z"
   },
   {
    "duration": 10,
    "start_time": "2022-09-22T20:12:53.170Z"
   },
   {
    "duration": 6,
    "start_time": "2022-09-22T20:12:53.181Z"
   },
   {
    "duration": 6,
    "start_time": "2022-09-22T20:12:53.188Z"
   },
   {
    "duration": 11,
    "start_time": "2022-09-22T20:12:53.195Z"
   },
   {
    "duration": 166,
    "start_time": "2022-09-22T20:12:53.208Z"
   },
   {
    "duration": 240,
    "start_time": "2022-09-22T20:12:53.375Z"
   },
   {
    "duration": 8,
    "start_time": "2022-09-22T20:12:53.617Z"
   },
   {
    "duration": 345,
    "start_time": "2022-09-22T20:12:53.635Z"
   },
   {
    "duration": 12,
    "start_time": "2022-09-22T20:12:53.982Z"
   },
   {
    "duration": 7,
    "start_time": "2022-09-22T20:12:53.996Z"
   },
   {
    "duration": 4,
    "start_time": "2022-09-22T20:12:54.005Z"
   },
   {
    "duration": 348,
    "start_time": "2022-09-22T20:12:54.033Z"
   },
   {
    "duration": 8,
    "start_time": "2022-09-22T20:12:54.383Z"
   },
   {
    "duration": 8,
    "start_time": "2022-09-22T20:12:54.393Z"
   },
   {
    "duration": 200,
    "start_time": "2022-09-22T20:12:54.403Z"
   },
   {
    "duration": 78,
    "start_time": "2022-09-22T20:12:54.605Z"
   },
   {
    "duration": 1267,
    "start_time": "2022-09-22T20:12:54.684Z"
   },
   {
    "duration": 57,
    "start_time": "2022-09-22T20:12:55.953Z"
   },
   {
    "duration": 37,
    "start_time": "2022-09-22T20:12:56.011Z"
   },
   {
    "duration": 248,
    "start_time": "2022-09-22T20:12:56.050Z"
   },
   {
    "duration": 10,
    "start_time": "2022-09-22T20:12:56.300Z"
   },
   {
    "duration": 440,
    "start_time": "2022-09-22T20:12:56.311Z"
   },
   {
    "duration": 410,
    "start_time": "2022-09-22T20:12:56.753Z"
   },
   {
    "duration": 481,
    "start_time": "2022-09-22T20:12:57.165Z"
   },
   {
    "duration": 400,
    "start_time": "2022-09-22T20:12:57.648Z"
   },
   {
    "duration": 434,
    "start_time": "2022-09-22T20:12:58.050Z"
   },
   {
    "duration": 426,
    "start_time": "2022-09-22T20:12:58.485Z"
   },
   {
    "duration": 9,
    "start_time": "2022-09-22T20:12:58.913Z"
   },
   {
    "duration": 14,
    "start_time": "2022-09-22T20:12:58.933Z"
   },
   {
    "duration": 9,
    "start_time": "2022-09-22T20:12:58.948Z"
   },
   {
    "duration": 11,
    "start_time": "2022-09-22T20:12:58.958Z"
   },
   {
    "duration": 4,
    "start_time": "2022-09-22T20:12:58.971Z"
   },
   {
    "duration": 5,
    "start_time": "2022-09-22T20:12:58.976Z"
   },
   {
    "duration": 1197,
    "start_time": "2022-09-22T20:19:07.814Z"
   },
   {
    "duration": 53,
    "start_time": "2022-09-22T20:19:09.014Z"
   },
   {
    "duration": 15,
    "start_time": "2022-09-22T20:19:09.068Z"
   },
   {
    "duration": 19,
    "start_time": "2022-09-22T20:19:09.085Z"
   },
   {
    "duration": 9,
    "start_time": "2022-09-22T20:19:09.106Z"
   },
   {
    "duration": 17,
    "start_time": "2022-09-22T20:19:09.116Z"
   },
   {
    "duration": 23,
    "start_time": "2022-09-22T20:19:09.135Z"
   },
   {
    "duration": 21,
    "start_time": "2022-09-22T20:19:09.159Z"
   },
   {
    "duration": 20,
    "start_time": "2022-09-22T20:19:09.181Z"
   },
   {
    "duration": 50,
    "start_time": "2022-09-22T20:19:09.203Z"
   },
   {
    "duration": 12,
    "start_time": "2022-09-22T20:19:09.254Z"
   },
   {
    "duration": 8,
    "start_time": "2022-09-22T20:19:09.267Z"
   },
   {
    "duration": 7,
    "start_time": "2022-09-22T20:19:09.276Z"
   },
   {
    "duration": 18,
    "start_time": "2022-09-22T20:19:09.285Z"
   },
   {
    "duration": 29,
    "start_time": "2022-09-22T20:19:09.305Z"
   },
   {
    "duration": 14,
    "start_time": "2022-09-22T20:19:09.336Z"
   },
   {
    "duration": 11,
    "start_time": "2022-09-22T20:19:09.351Z"
   },
   {
    "duration": 55,
    "start_time": "2022-09-22T20:19:09.363Z"
   },
   {
    "duration": 10,
    "start_time": "2022-09-22T20:19:09.433Z"
   },
   {
    "duration": 8,
    "start_time": "2022-09-22T20:19:09.445Z"
   },
   {
    "duration": 4,
    "start_time": "2022-09-22T20:19:09.455Z"
   },
   {
    "duration": 18,
    "start_time": "2022-09-22T20:19:09.461Z"
   },
   {
    "duration": 7,
    "start_time": "2022-09-22T20:19:09.481Z"
   },
   {
    "duration": 6,
    "start_time": "2022-09-22T20:19:09.490Z"
   },
   {
    "duration": 36,
    "start_time": "2022-09-22T20:19:09.497Z"
   },
   {
    "duration": 14,
    "start_time": "2022-09-22T20:19:09.535Z"
   },
   {
    "duration": 17,
    "start_time": "2022-09-22T20:19:09.550Z"
   },
   {
    "duration": 6,
    "start_time": "2022-09-22T20:19:09.570Z"
   },
   {
    "duration": 5,
    "start_time": "2022-09-22T20:19:09.578Z"
   },
   {
    "duration": 5,
    "start_time": "2022-09-22T20:19:09.585Z"
   },
   {
    "duration": 9,
    "start_time": "2022-09-22T20:19:09.591Z"
   },
   {
    "duration": 190,
    "start_time": "2022-09-22T20:19:09.601Z"
   },
   {
    "duration": 225,
    "start_time": "2022-09-22T20:19:09.793Z"
   },
   {
    "duration": 14,
    "start_time": "2022-09-22T20:19:10.020Z"
   },
   {
    "duration": 331,
    "start_time": "2022-09-22T20:19:10.036Z"
   },
   {
    "duration": 11,
    "start_time": "2022-09-22T20:19:10.368Z"
   },
   {
    "duration": 9,
    "start_time": "2022-09-22T20:19:10.380Z"
   },
   {
    "duration": 14,
    "start_time": "2022-09-22T20:19:10.391Z"
   },
   {
    "duration": 319,
    "start_time": "2022-09-22T20:19:10.406Z"
   },
   {
    "duration": 7,
    "start_time": "2022-09-22T20:19:10.727Z"
   },
   {
    "duration": 18,
    "start_time": "2022-09-22T20:19:10.735Z"
   },
   {
    "duration": 208,
    "start_time": "2022-09-22T20:19:10.754Z"
   },
   {
    "duration": 73,
    "start_time": "2022-09-22T20:19:10.963Z"
   },
   {
    "duration": 1258,
    "start_time": "2022-09-22T20:19:11.037Z"
   },
   {
    "duration": 73,
    "start_time": "2022-09-22T20:19:12.297Z"
   },
   {
    "duration": 16,
    "start_time": "2022-09-22T20:19:12.371Z"
   },
   {
    "duration": 211,
    "start_time": "2022-09-22T20:19:12.388Z"
   },
   {
    "duration": 8,
    "start_time": "2022-09-22T20:19:12.601Z"
   },
   {
    "duration": 386,
    "start_time": "2022-09-22T20:19:12.610Z"
   },
   {
    "duration": 376,
    "start_time": "2022-09-22T20:19:12.997Z"
   },
   {
    "duration": 475,
    "start_time": "2022-09-22T20:19:13.375Z"
   },
   {
    "duration": 389,
    "start_time": "2022-09-22T20:19:13.852Z"
   },
   {
    "duration": 399,
    "start_time": "2022-09-22T20:19:14.242Z"
   },
   {
    "duration": 397,
    "start_time": "2022-09-22T20:19:14.643Z"
   },
   {
    "duration": 11,
    "start_time": "2022-09-22T20:19:15.042Z"
   },
   {
    "duration": 8,
    "start_time": "2022-09-22T20:19:15.054Z"
   },
   {
    "duration": 10,
    "start_time": "2022-09-22T20:19:15.063Z"
   },
   {
    "duration": 13,
    "start_time": "2022-09-22T20:19:15.074Z"
   },
   {
    "duration": 4,
    "start_time": "2022-09-22T20:19:15.088Z"
   },
   {
    "duration": 6,
    "start_time": "2022-09-22T20:19:15.093Z"
   },
   {
    "duration": 95,
    "start_time": "2022-09-22T20:26:59.329Z"
   },
   {
    "duration": 10,
    "start_time": "2022-09-22T20:27:11.331Z"
   },
   {
    "duration": 17,
    "start_time": "2022-09-22T20:27:29.283Z"
   },
   {
    "duration": 21,
    "start_time": "2022-09-22T20:28:03.150Z"
   },
   {
    "duration": 1131,
    "start_time": "2022-09-22T20:28:17.150Z"
   },
   {
    "duration": 53,
    "start_time": "2022-09-22T20:28:18.283Z"
   },
   {
    "duration": 14,
    "start_time": "2022-09-22T20:28:18.338Z"
   },
   {
    "duration": 19,
    "start_time": "2022-09-22T20:28:18.354Z"
   },
   {
    "duration": 9,
    "start_time": "2022-09-22T20:28:18.374Z"
   },
   {
    "duration": 7,
    "start_time": "2022-09-22T20:28:18.385Z"
   },
   {
    "duration": 47,
    "start_time": "2022-09-22T20:28:18.394Z"
   },
   {
    "duration": 27,
    "start_time": "2022-09-22T20:28:18.443Z"
   },
   {
    "duration": 20,
    "start_time": "2022-09-22T20:28:18.471Z"
   },
   {
    "duration": 42,
    "start_time": "2022-09-22T20:28:18.494Z"
   },
   {
    "duration": 7,
    "start_time": "2022-09-22T20:28:18.537Z"
   },
   {
    "duration": 9,
    "start_time": "2022-09-22T20:28:18.545Z"
   },
   {
    "duration": 10,
    "start_time": "2022-09-22T20:28:18.556Z"
   },
   {
    "duration": 14,
    "start_time": "2022-09-22T20:28:18.568Z"
   },
   {
    "duration": 42,
    "start_time": "2022-09-22T20:28:18.584Z"
   },
   {
    "duration": 13,
    "start_time": "2022-09-22T20:28:18.633Z"
   },
   {
    "duration": 10,
    "start_time": "2022-09-22T20:28:18.648Z"
   },
   {
    "duration": 55,
    "start_time": "2022-09-22T20:28:18.659Z"
   },
   {
    "duration": 21,
    "start_time": "2022-09-22T20:28:18.716Z"
   },
   {
    "duration": 15,
    "start_time": "2022-09-22T20:28:18.739Z"
   },
   {
    "duration": 5,
    "start_time": "2022-09-22T20:28:18.756Z"
   },
   {
    "duration": 16,
    "start_time": "2022-09-22T20:28:18.762Z"
   },
   {
    "duration": 6,
    "start_time": "2022-09-22T20:28:18.780Z"
   },
   {
    "duration": 7,
    "start_time": "2022-09-22T20:28:18.788Z"
   },
   {
    "duration": 21,
    "start_time": "2022-09-22T20:28:18.797Z"
   },
   {
    "duration": 26,
    "start_time": "2022-09-22T20:28:18.820Z"
   },
   {
    "duration": 15,
    "start_time": "2022-09-22T20:28:18.848Z"
   },
   {
    "duration": 6,
    "start_time": "2022-09-22T20:28:18.868Z"
   },
   {
    "duration": 8,
    "start_time": "2022-09-22T20:28:18.876Z"
   },
   {
    "duration": 11,
    "start_time": "2022-09-22T20:28:18.885Z"
   },
   {
    "duration": 8,
    "start_time": "2022-09-22T20:28:18.898Z"
   },
   {
    "duration": 170,
    "start_time": "2022-09-22T20:28:18.908Z"
   },
   {
    "duration": 215,
    "start_time": "2022-09-22T20:28:19.080Z"
   },
   {
    "duration": 7,
    "start_time": "2022-09-22T20:28:19.297Z"
   },
   {
    "duration": 333,
    "start_time": "2022-09-22T20:28:19.306Z"
   },
   {
    "duration": 10,
    "start_time": "2022-09-22T20:28:19.641Z"
   },
   {
    "duration": 6,
    "start_time": "2022-09-22T20:28:19.653Z"
   },
   {
    "duration": 6,
    "start_time": "2022-09-22T20:28:19.661Z"
   },
   {
    "duration": 373,
    "start_time": "2022-09-22T20:28:19.668Z"
   },
   {
    "duration": 9,
    "start_time": "2022-09-22T20:28:20.042Z"
   },
   {
    "duration": 14,
    "start_time": "2022-09-22T20:28:20.052Z"
   },
   {
    "duration": 205,
    "start_time": "2022-09-22T20:28:20.068Z"
   },
   {
    "duration": 76,
    "start_time": "2022-09-22T20:28:20.275Z"
   },
   {
    "duration": 1244,
    "start_time": "2022-09-22T20:28:20.353Z"
   },
   {
    "duration": 74,
    "start_time": "2022-09-22T20:28:21.599Z"
   },
   {
    "duration": 17,
    "start_time": "2022-09-22T20:28:21.675Z"
   },
   {
    "duration": 251,
    "start_time": "2022-09-22T20:28:21.694Z"
   },
   {
    "duration": 111,
    "start_time": "2022-09-22T20:28:21.947Z"
   },
   {
    "duration": 0,
    "start_time": "2022-09-22T20:28:22.060Z"
   },
   {
    "duration": 0,
    "start_time": "2022-09-22T20:28:22.061Z"
   },
   {
    "duration": 0,
    "start_time": "2022-09-22T20:28:22.063Z"
   },
   {
    "duration": 0,
    "start_time": "2022-09-22T20:28:22.064Z"
   },
   {
    "duration": 0,
    "start_time": "2022-09-22T20:28:22.065Z"
   },
   {
    "duration": 0,
    "start_time": "2022-09-22T20:28:22.067Z"
   },
   {
    "duration": 0,
    "start_time": "2022-09-22T20:28:22.068Z"
   },
   {
    "duration": 0,
    "start_time": "2022-09-22T20:28:22.069Z"
   },
   {
    "duration": 0,
    "start_time": "2022-09-22T20:28:22.071Z"
   },
   {
    "duration": 0,
    "start_time": "2022-09-22T20:28:22.072Z"
   },
   {
    "duration": 0,
    "start_time": "2022-09-22T20:28:22.074Z"
   },
   {
    "duration": 0,
    "start_time": "2022-09-22T20:28:22.075Z"
   },
   {
    "duration": 0,
    "start_time": "2022-09-22T20:28:22.077Z"
   },
   {
    "duration": 17,
    "start_time": "2022-09-22T20:28:52.929Z"
   },
   {
    "duration": 15,
    "start_time": "2022-09-22T20:29:31.887Z"
   },
   {
    "duration": 10,
    "start_time": "2022-09-22T20:30:50.753Z"
   },
   {
    "duration": 403,
    "start_time": "2022-09-22T20:31:05.301Z"
   },
   {
    "duration": 14,
    "start_time": "2022-09-22T20:34:08.725Z"
   },
   {
    "duration": 1078,
    "start_time": "2022-09-22T20:34:16.865Z"
   },
   {
    "duration": 58,
    "start_time": "2022-09-22T20:34:17.944Z"
   },
   {
    "duration": 13,
    "start_time": "2022-09-22T20:34:18.004Z"
   },
   {
    "duration": 15,
    "start_time": "2022-09-22T20:34:18.019Z"
   },
   {
    "duration": 8,
    "start_time": "2022-09-22T20:34:18.035Z"
   },
   {
    "duration": 7,
    "start_time": "2022-09-22T20:34:18.045Z"
   },
   {
    "duration": 25,
    "start_time": "2022-09-22T20:34:18.054Z"
   },
   {
    "duration": 20,
    "start_time": "2022-09-22T20:34:18.080Z"
   },
   {
    "duration": 44,
    "start_time": "2022-09-22T20:34:18.102Z"
   },
   {
    "duration": 23,
    "start_time": "2022-09-22T20:34:18.149Z"
   },
   {
    "duration": 6,
    "start_time": "2022-09-22T20:34:18.174Z"
   },
   {
    "duration": 21,
    "start_time": "2022-09-22T20:34:18.181Z"
   },
   {
    "duration": 10,
    "start_time": "2022-09-22T20:34:18.204Z"
   },
   {
    "duration": 7,
    "start_time": "2022-09-22T20:34:18.216Z"
   },
   {
    "duration": 31,
    "start_time": "2022-09-22T20:34:18.224Z"
   },
   {
    "duration": 14,
    "start_time": "2022-09-22T20:34:18.257Z"
   },
   {
    "duration": 7,
    "start_time": "2022-09-22T20:34:18.272Z"
   },
   {
    "duration": 64,
    "start_time": "2022-09-22T20:34:18.280Z"
   },
   {
    "duration": 9,
    "start_time": "2022-09-22T20:34:18.345Z"
   },
   {
    "duration": 18,
    "start_time": "2022-09-22T20:34:18.355Z"
   },
   {
    "duration": 8,
    "start_time": "2022-09-22T20:34:18.374Z"
   },
   {
    "duration": 23,
    "start_time": "2022-09-22T20:34:18.383Z"
   },
   {
    "duration": 6,
    "start_time": "2022-09-22T20:34:18.408Z"
   },
   {
    "duration": 19,
    "start_time": "2022-09-22T20:34:18.416Z"
   },
   {
    "duration": 11,
    "start_time": "2022-09-22T20:34:18.436Z"
   },
   {
    "duration": 15,
    "start_time": "2022-09-22T20:34:18.449Z"
   },
   {
    "duration": 36,
    "start_time": "2022-09-22T20:34:18.466Z"
   },
   {
    "duration": 7,
    "start_time": "2022-09-22T20:34:18.507Z"
   },
   {
    "duration": 7,
    "start_time": "2022-09-22T20:34:18.516Z"
   },
   {
    "duration": 10,
    "start_time": "2022-09-22T20:34:18.524Z"
   },
   {
    "duration": 13,
    "start_time": "2022-09-22T20:34:18.544Z"
   },
   {
    "duration": 139,
    "start_time": "2022-09-22T20:34:18.558Z"
   },
   {
    "duration": 221,
    "start_time": "2022-09-22T20:34:18.698Z"
   },
   {
    "duration": 13,
    "start_time": "2022-09-22T20:34:18.921Z"
   },
   {
    "duration": 348,
    "start_time": "2022-09-22T20:34:18.936Z"
   },
   {
    "duration": 12,
    "start_time": "2022-09-22T20:34:19.286Z"
   },
   {
    "duration": 7,
    "start_time": "2022-09-22T20:34:19.300Z"
   },
   {
    "duration": 24,
    "start_time": "2022-09-22T20:34:19.309Z"
   },
   {
    "duration": 322,
    "start_time": "2022-09-22T20:34:19.335Z"
   },
   {
    "duration": 8,
    "start_time": "2022-09-22T20:34:19.659Z"
   },
   {
    "duration": 14,
    "start_time": "2022-09-22T20:34:19.668Z"
   },
   {
    "duration": 200,
    "start_time": "2022-09-22T20:34:19.683Z"
   },
   {
    "duration": 71,
    "start_time": "2022-09-22T20:34:19.885Z"
   },
   {
    "duration": 1236,
    "start_time": "2022-09-22T20:34:19.958Z"
   },
   {
    "duration": 73,
    "start_time": "2022-09-22T20:34:21.196Z"
   },
   {
    "duration": 14,
    "start_time": "2022-09-22T20:34:21.270Z"
   },
   {
    "duration": 215,
    "start_time": "2022-09-22T20:34:21.285Z"
   },
   {
    "duration": 269,
    "start_time": "2022-09-22T20:34:21.501Z"
   },
   {
    "duration": 113,
    "start_time": "2022-09-22T20:34:21.772Z"
   },
   {
    "duration": 0,
    "start_time": "2022-09-22T20:34:21.887Z"
   },
   {
    "duration": 0,
    "start_time": "2022-09-22T20:34:21.888Z"
   },
   {
    "duration": 0,
    "start_time": "2022-09-22T20:34:21.889Z"
   },
   {
    "duration": 0,
    "start_time": "2022-09-22T20:34:21.891Z"
   },
   {
    "duration": 0,
    "start_time": "2022-09-22T20:34:21.892Z"
   },
   {
    "duration": 0,
    "start_time": "2022-09-22T20:34:21.893Z"
   },
   {
    "duration": 0,
    "start_time": "2022-09-22T20:34:21.896Z"
   },
   {
    "duration": 0,
    "start_time": "2022-09-22T20:34:21.897Z"
   },
   {
    "duration": 0,
    "start_time": "2022-09-22T20:34:21.898Z"
   },
   {
    "duration": 0,
    "start_time": "2022-09-22T20:34:21.899Z"
   },
   {
    "duration": 0,
    "start_time": "2022-09-22T20:34:21.900Z"
   },
   {
    "duration": 0,
    "start_time": "2022-09-22T20:34:21.902Z"
   },
   {
    "duration": 0,
    "start_time": "2022-09-22T20:34:21.903Z"
   },
   {
    "duration": 7,
    "start_time": "2022-09-22T20:43:32.859Z"
   },
   {
    "duration": 7,
    "start_time": "2022-09-22T20:44:08.936Z"
   },
   {
    "duration": 5,
    "start_time": "2022-09-22T20:48:05.925Z"
   },
   {
    "duration": 1140,
    "start_time": "2022-09-22T20:50:35.635Z"
   },
   {
    "duration": 52,
    "start_time": "2022-09-22T20:50:36.777Z"
   },
   {
    "duration": 14,
    "start_time": "2022-09-22T20:50:36.831Z"
   },
   {
    "duration": 15,
    "start_time": "2022-09-22T20:50:36.847Z"
   },
   {
    "duration": 7,
    "start_time": "2022-09-22T20:50:36.864Z"
   },
   {
    "duration": 4,
    "start_time": "2022-09-22T20:50:36.872Z"
   },
   {
    "duration": 21,
    "start_time": "2022-09-22T20:50:36.878Z"
   },
   {
    "duration": 48,
    "start_time": "2022-09-22T20:50:36.900Z"
   },
   {
    "duration": 18,
    "start_time": "2022-09-22T20:50:36.950Z"
   },
   {
    "duration": 18,
    "start_time": "2022-09-22T20:50:36.969Z"
   },
   {
    "duration": 8,
    "start_time": "2022-09-22T20:50:36.989Z"
   },
   {
    "duration": 9,
    "start_time": "2022-09-22T20:50:36.998Z"
   },
   {
    "duration": 26,
    "start_time": "2022-09-22T20:50:37.008Z"
   },
   {
    "duration": 6,
    "start_time": "2022-09-22T20:50:37.037Z"
   },
   {
    "duration": 26,
    "start_time": "2022-09-22T20:50:37.045Z"
   },
   {
    "duration": 15,
    "start_time": "2022-09-22T20:50:37.073Z"
   },
   {
    "duration": 10,
    "start_time": "2022-09-22T20:50:37.090Z"
   },
   {
    "duration": 74,
    "start_time": "2022-09-22T20:50:37.102Z"
   },
   {
    "duration": 10,
    "start_time": "2022-09-22T20:50:37.178Z"
   },
   {
    "duration": 11,
    "start_time": "2022-09-22T20:50:37.189Z"
   },
   {
    "duration": 8,
    "start_time": "2022-09-22T20:50:37.202Z"
   },
   {
    "duration": 29,
    "start_time": "2022-09-22T20:50:37.211Z"
   },
   {
    "duration": 6,
    "start_time": "2022-09-22T20:50:37.241Z"
   },
   {
    "duration": 7,
    "start_time": "2022-09-22T20:50:37.249Z"
   },
   {
    "duration": 18,
    "start_time": "2022-09-22T20:50:37.257Z"
   },
   {
    "duration": 17,
    "start_time": "2022-09-22T20:50:37.276Z"
   },
   {
    "duration": 21,
    "start_time": "2022-09-22T20:50:37.295Z"
   },
   {
    "duration": 19,
    "start_time": "2022-09-22T20:50:37.317Z"
   },
   {
    "duration": 4,
    "start_time": "2022-09-22T20:50:37.337Z"
   },
   {
    "duration": 6,
    "start_time": "2022-09-22T20:50:37.343Z"
   },
   {
    "duration": 8,
    "start_time": "2022-09-22T20:50:37.351Z"
   },
   {
    "duration": 9,
    "start_time": "2022-09-22T20:50:37.360Z"
   },
   {
    "duration": 152,
    "start_time": "2022-09-22T20:50:37.370Z"
   },
   {
    "duration": 214,
    "start_time": "2022-09-22T20:50:37.524Z"
   },
   {
    "duration": 11,
    "start_time": "2022-09-22T20:50:37.739Z"
   },
   {
    "duration": 6,
    "start_time": "2022-09-22T20:50:37.751Z"
   },
   {
    "duration": 269,
    "start_time": "2022-09-22T20:50:37.758Z"
   },
   {
    "duration": 202,
    "start_time": "2022-09-22T20:50:38.033Z"
   },
   {
    "duration": 11,
    "start_time": "2022-09-22T20:50:38.237Z"
   },
   {
    "duration": 10,
    "start_time": "2022-09-22T20:50:38.249Z"
   },
   {
    "duration": 4,
    "start_time": "2022-09-22T20:50:38.263Z"
   },
   {
    "duration": 305,
    "start_time": "2022-09-22T20:50:38.269Z"
   },
   {
    "duration": 6,
    "start_time": "2022-09-22T20:50:38.576Z"
   },
   {
    "duration": 15,
    "start_time": "2022-09-22T20:50:38.584Z"
   },
   {
    "duration": 165,
    "start_time": "2022-09-22T20:50:38.600Z"
   },
   {
    "duration": 78,
    "start_time": "2022-09-22T20:50:38.767Z"
   },
   {
    "duration": 1143,
    "start_time": "2022-09-22T20:50:38.846Z"
   },
   {
    "duration": 51,
    "start_time": "2022-09-22T20:50:39.991Z"
   },
   {
    "duration": 15,
    "start_time": "2022-09-22T20:50:40.044Z"
   },
   {
    "duration": 216,
    "start_time": "2022-09-22T20:50:40.061Z"
   },
   {
    "duration": 8,
    "start_time": "2022-09-22T20:50:40.279Z"
   },
   {
    "duration": 379,
    "start_time": "2022-09-22T20:50:40.289Z"
   },
   {
    "duration": 380,
    "start_time": "2022-09-22T20:50:40.670Z"
   },
   {
    "duration": 468,
    "start_time": "2022-09-22T20:50:41.052Z"
   },
   {
    "duration": 417,
    "start_time": "2022-09-22T20:50:41.522Z"
   },
   {
    "duration": 362,
    "start_time": "2022-09-22T20:50:41.941Z"
   },
   {
    "duration": 384,
    "start_time": "2022-09-22T20:50:42.305Z"
   },
   {
    "duration": 8,
    "start_time": "2022-09-22T20:50:42.691Z"
   },
   {
    "duration": 50,
    "start_time": "2022-09-22T20:50:42.700Z"
   },
   {
    "duration": 33,
    "start_time": "2022-09-22T20:50:42.752Z"
   },
   {
    "duration": 50,
    "start_time": "2022-09-22T20:50:42.787Z"
   },
   {
    "duration": 24,
    "start_time": "2022-09-22T20:50:42.839Z"
   },
   {
    "duration": 16,
    "start_time": "2022-09-22T20:50:42.865Z"
   },
   {
    "duration": 97,
    "start_time": "2022-09-22T20:57:01.562Z"
   },
   {
    "duration": 16,
    "start_time": "2022-09-22T20:57:26.362Z"
   },
   {
    "duration": 1031,
    "start_time": "2022-09-22T20:57:32.684Z"
   },
   {
    "duration": 51,
    "start_time": "2022-09-22T20:57:33.716Z"
   },
   {
    "duration": 13,
    "start_time": "2022-09-22T20:57:33.769Z"
   },
   {
    "duration": 14,
    "start_time": "2022-09-22T20:57:33.784Z"
   },
   {
    "duration": 15,
    "start_time": "2022-09-22T20:57:33.799Z"
   },
   {
    "duration": 10,
    "start_time": "2022-09-22T20:57:33.816Z"
   },
   {
    "duration": 22,
    "start_time": "2022-09-22T20:57:33.828Z"
   },
   {
    "duration": 18,
    "start_time": "2022-09-22T20:57:33.852Z"
   },
   {
    "duration": 27,
    "start_time": "2022-09-22T20:57:33.872Z"
   },
   {
    "duration": 18,
    "start_time": "2022-09-22T20:57:33.902Z"
   },
   {
    "duration": 5,
    "start_time": "2022-09-22T20:57:33.934Z"
   },
   {
    "duration": 11,
    "start_time": "2022-09-22T20:57:33.940Z"
   },
   {
    "duration": 10,
    "start_time": "2022-09-22T20:57:33.953Z"
   },
   {
    "duration": 29,
    "start_time": "2022-09-22T20:57:33.964Z"
   },
   {
    "duration": 30,
    "start_time": "2022-09-22T20:57:33.995Z"
   },
   {
    "duration": 14,
    "start_time": "2022-09-22T20:57:34.027Z"
   },
   {
    "duration": 22,
    "start_time": "2022-09-22T20:57:34.042Z"
   },
   {
    "duration": 62,
    "start_time": "2022-09-22T20:57:34.065Z"
   },
   {
    "duration": 8,
    "start_time": "2022-09-22T20:57:34.129Z"
   },
   {
    "duration": 13,
    "start_time": "2022-09-22T20:57:34.139Z"
   },
   {
    "duration": 32,
    "start_time": "2022-09-22T20:57:34.153Z"
   },
   {
    "duration": 33,
    "start_time": "2022-09-22T20:57:34.186Z"
   },
   {
    "duration": 17,
    "start_time": "2022-09-22T20:57:34.221Z"
   },
   {
    "duration": 14,
    "start_time": "2022-09-22T20:57:34.240Z"
   },
   {
    "duration": 18,
    "start_time": "2022-09-22T20:57:34.256Z"
   },
   {
    "duration": 35,
    "start_time": "2022-09-22T20:57:34.275Z"
   },
   {
    "duration": 37,
    "start_time": "2022-09-22T20:57:34.311Z"
   },
   {
    "duration": 6,
    "start_time": "2022-09-22T20:57:34.351Z"
   },
   {
    "duration": 6,
    "start_time": "2022-09-22T20:57:34.358Z"
   },
   {
    "duration": 4,
    "start_time": "2022-09-22T20:57:34.366Z"
   },
   {
    "duration": 9,
    "start_time": "2022-09-22T20:57:34.372Z"
   },
   {
    "duration": 9,
    "start_time": "2022-09-22T20:57:34.382Z"
   },
   {
    "duration": 158,
    "start_time": "2022-09-22T20:57:34.393Z"
   },
   {
    "duration": 216,
    "start_time": "2022-09-22T20:57:34.553Z"
   },
   {
    "duration": 10,
    "start_time": "2022-09-22T20:57:34.771Z"
   },
   {
    "duration": 6,
    "start_time": "2022-09-22T20:57:34.783Z"
   },
   {
    "duration": 266,
    "start_time": "2022-09-22T20:57:34.790Z"
   },
   {
    "duration": 13,
    "start_time": "2022-09-22T20:57:35.058Z"
   },
   {
    "duration": 7,
    "start_time": "2022-09-22T20:57:35.073Z"
   },
   {
    "duration": 373,
    "start_time": "2022-09-22T20:57:35.082Z"
   },
   {
    "duration": 368,
    "start_time": "2022-09-22T20:57:35.456Z"
   },
   {
    "duration": 499,
    "start_time": "2022-09-22T20:57:35.826Z"
   },
   {
    "duration": 421,
    "start_time": "2022-09-22T20:57:36.327Z"
   },
   {
    "duration": 356,
    "start_time": "2022-09-22T20:57:36.750Z"
   },
   {
    "duration": 376,
    "start_time": "2022-09-22T20:57:37.108Z"
   },
   {
    "duration": 8,
    "start_time": "2022-09-22T20:57:37.485Z"
   },
   {
    "duration": 6,
    "start_time": "2022-09-22T20:57:37.495Z"
   },
   {
    "duration": 9,
    "start_time": "2022-09-22T20:57:37.503Z"
   },
   {
    "duration": 24,
    "start_time": "2022-09-22T20:57:37.514Z"
   },
   {
    "duration": 7,
    "start_time": "2022-09-22T20:57:37.540Z"
   },
   {
    "duration": 8,
    "start_time": "2022-09-22T20:57:37.549Z"
   },
   {
    "duration": 14,
    "start_time": "2022-09-22T20:58:23.040Z"
   },
   {
    "duration": 15,
    "start_time": "2022-09-22T20:58:53.280Z"
   },
   {
    "duration": 101,
    "start_time": "2022-09-22T21:06:49.132Z"
   },
   {
    "duration": 1079,
    "start_time": "2022-09-22T21:06:55.185Z"
   },
   {
    "duration": 64,
    "start_time": "2022-09-22T21:06:56.266Z"
   },
   {
    "duration": 20,
    "start_time": "2022-09-22T21:06:56.332Z"
   },
   {
    "duration": 25,
    "start_time": "2022-09-22T21:06:56.355Z"
   },
   {
    "duration": 11,
    "start_time": "2022-09-22T21:06:56.382Z"
   },
   {
    "duration": 15,
    "start_time": "2022-09-22T21:06:56.395Z"
   },
   {
    "duration": 43,
    "start_time": "2022-09-22T21:06:56.412Z"
   },
   {
    "duration": 20,
    "start_time": "2022-09-22T21:06:56.457Z"
   },
   {
    "duration": 19,
    "start_time": "2022-09-22T21:06:56.478Z"
   },
   {
    "duration": 36,
    "start_time": "2022-09-22T21:06:56.499Z"
   },
   {
    "duration": 6,
    "start_time": "2022-09-22T21:06:56.536Z"
   },
   {
    "duration": 16,
    "start_time": "2022-09-22T21:06:56.543Z"
   },
   {
    "duration": 6,
    "start_time": "2022-09-22T21:06:56.560Z"
   },
   {
    "duration": 7,
    "start_time": "2022-09-22T21:06:56.567Z"
   },
   {
    "duration": 34,
    "start_time": "2022-09-22T21:06:56.576Z"
   },
   {
    "duration": 21,
    "start_time": "2022-09-22T21:06:56.612Z"
   },
   {
    "duration": 9,
    "start_time": "2022-09-22T21:06:56.635Z"
   },
   {
    "duration": 69,
    "start_time": "2022-09-22T21:06:56.645Z"
   },
   {
    "duration": 10,
    "start_time": "2022-09-22T21:06:56.716Z"
   },
   {
    "duration": 17,
    "start_time": "2022-09-22T21:06:56.728Z"
   },
   {
    "duration": 6,
    "start_time": "2022-09-22T21:06:56.746Z"
   },
   {
    "duration": 18,
    "start_time": "2022-09-22T21:06:56.753Z"
   },
   {
    "duration": 6,
    "start_time": "2022-09-22T21:06:56.773Z"
   },
   {
    "duration": 7,
    "start_time": "2022-09-22T21:06:56.781Z"
   },
   {
    "duration": 13,
    "start_time": "2022-09-22T21:06:56.790Z"
   },
   {
    "duration": 38,
    "start_time": "2022-09-22T21:06:56.805Z"
   },
   {
    "duration": 17,
    "start_time": "2022-09-22T21:06:56.845Z"
   },
   {
    "duration": 9,
    "start_time": "2022-09-22T21:06:56.866Z"
   },
   {
    "duration": 7,
    "start_time": "2022-09-22T21:06:56.876Z"
   },
   {
    "duration": 16,
    "start_time": "2022-09-22T21:06:56.885Z"
   },
   {
    "duration": 9,
    "start_time": "2022-09-22T21:06:56.902Z"
   },
   {
    "duration": 9,
    "start_time": "2022-09-22T21:06:56.912Z"
   },
   {
    "duration": 152,
    "start_time": "2022-09-22T21:06:56.922Z"
   },
   {
    "duration": 214,
    "start_time": "2022-09-22T21:06:57.075Z"
   },
   {
    "duration": 11,
    "start_time": "2022-09-22T21:06:57.290Z"
   },
   {
    "duration": 6,
    "start_time": "2022-09-22T21:06:57.303Z"
   },
   {
    "duration": 274,
    "start_time": "2022-09-22T21:06:57.311Z"
   },
   {
    "duration": 14,
    "start_time": "2022-09-22T21:06:57.587Z"
   },
   {
    "duration": 109,
    "start_time": "2022-09-22T21:06:57.602Z"
   },
   {
    "duration": 0,
    "start_time": "2022-09-22T21:06:57.712Z"
   },
   {
    "duration": 0,
    "start_time": "2022-09-22T21:06:57.714Z"
   },
   {
    "duration": 0,
    "start_time": "2022-09-22T21:06:57.714Z"
   },
   {
    "duration": 0,
    "start_time": "2022-09-22T21:06:57.715Z"
   },
   {
    "duration": 0,
    "start_time": "2022-09-22T21:06:57.716Z"
   },
   {
    "duration": 0,
    "start_time": "2022-09-22T21:06:57.718Z"
   },
   {
    "duration": 0,
    "start_time": "2022-09-22T21:06:57.733Z"
   },
   {
    "duration": 0,
    "start_time": "2022-09-22T21:06:57.734Z"
   },
   {
    "duration": 0,
    "start_time": "2022-09-22T21:06:57.735Z"
   },
   {
    "duration": 0,
    "start_time": "2022-09-22T21:06:57.736Z"
   },
   {
    "duration": 0,
    "start_time": "2022-09-22T21:06:57.737Z"
   },
   {
    "duration": 0,
    "start_time": "2022-09-22T21:06:57.738Z"
   },
   {
    "duration": 0,
    "start_time": "2022-09-22T21:06:57.739Z"
   },
   {
    "duration": 25,
    "start_time": "2022-09-22T21:07:24.537Z"
   },
   {
    "duration": 23,
    "start_time": "2022-09-22T21:07:50.692Z"
   },
   {
    "duration": 25,
    "start_time": "2022-09-22T21:15:55.681Z"
   },
   {
    "duration": 1051,
    "start_time": "2022-09-22T21:16:03.276Z"
   },
   {
    "duration": 53,
    "start_time": "2022-09-22T21:16:04.329Z"
   },
   {
    "duration": 14,
    "start_time": "2022-09-22T21:16:04.383Z"
   },
   {
    "duration": 16,
    "start_time": "2022-09-22T21:16:04.399Z"
   },
   {
    "duration": 8,
    "start_time": "2022-09-22T21:16:04.416Z"
   },
   {
    "duration": 8,
    "start_time": "2022-09-22T21:16:04.426Z"
   },
   {
    "duration": 45,
    "start_time": "2022-09-22T21:16:04.436Z"
   },
   {
    "duration": 19,
    "start_time": "2022-09-22T21:16:04.483Z"
   },
   {
    "duration": 29,
    "start_time": "2022-09-22T21:16:04.503Z"
   },
   {
    "duration": 17,
    "start_time": "2022-09-22T21:16:04.535Z"
   },
   {
    "duration": 7,
    "start_time": "2022-09-22T21:16:04.554Z"
   },
   {
    "duration": 15,
    "start_time": "2022-09-22T21:16:04.563Z"
   },
   {
    "duration": 13,
    "start_time": "2022-09-22T21:16:04.580Z"
   },
   {
    "duration": 13,
    "start_time": "2022-09-22T21:16:04.595Z"
   },
   {
    "duration": 25,
    "start_time": "2022-09-22T21:16:04.609Z"
   },
   {
    "duration": 15,
    "start_time": "2022-09-22T21:16:04.635Z"
   },
   {
    "duration": 10,
    "start_time": "2022-09-22T21:16:04.651Z"
   },
   {
    "duration": 63,
    "start_time": "2022-09-22T21:16:04.662Z"
   },
   {
    "duration": 11,
    "start_time": "2022-09-22T21:16:04.727Z"
   },
   {
    "duration": 10,
    "start_time": "2022-09-22T21:16:04.740Z"
   },
   {
    "duration": 14,
    "start_time": "2022-09-22T21:16:04.751Z"
   },
   {
    "duration": 20,
    "start_time": "2022-09-22T21:16:04.766Z"
   },
   {
    "duration": 5,
    "start_time": "2022-09-22T21:16:04.788Z"
   },
   {
    "duration": 21,
    "start_time": "2022-09-22T21:16:04.794Z"
   },
   {
    "duration": 23,
    "start_time": "2022-09-22T21:16:04.817Z"
   },
   {
    "duration": 16,
    "start_time": "2022-09-22T21:16:04.841Z"
   },
   {
    "duration": 22,
    "start_time": "2022-09-22T21:16:04.858Z"
   },
   {
    "duration": 22,
    "start_time": "2022-09-22T21:16:04.883Z"
   },
   {
    "duration": 16,
    "start_time": "2022-09-22T21:16:04.907Z"
   },
   {
    "duration": 13,
    "start_time": "2022-09-22T21:16:04.925Z"
   },
   {
    "duration": 17,
    "start_time": "2022-09-22T21:16:04.939Z"
   },
   {
    "duration": 11,
    "start_time": "2022-09-22T21:16:04.958Z"
   },
   {
    "duration": 159,
    "start_time": "2022-09-22T21:16:04.971Z"
   },
   {
    "duration": 209,
    "start_time": "2022-09-22T21:16:05.131Z"
   },
   {
    "duration": 10,
    "start_time": "2022-09-22T21:16:05.342Z"
   },
   {
    "duration": 10,
    "start_time": "2022-09-22T21:16:05.353Z"
   },
   {
    "duration": 259,
    "start_time": "2022-09-22T21:16:05.364Z"
   },
   {
    "duration": 14,
    "start_time": "2022-09-22T21:16:05.624Z"
   },
   {
    "duration": 28,
    "start_time": "2022-09-22T21:16:05.639Z"
   },
   {
    "duration": 167,
    "start_time": "2022-09-22T21:16:05.669Z"
   },
   {
    "duration": 0,
    "start_time": "2022-09-22T21:16:05.838Z"
   },
   {
    "duration": 0,
    "start_time": "2022-09-22T21:16:05.839Z"
   },
   {
    "duration": 0,
    "start_time": "2022-09-22T21:16:05.840Z"
   },
   {
    "duration": 0,
    "start_time": "2022-09-22T21:16:05.841Z"
   },
   {
    "duration": 0,
    "start_time": "2022-09-22T21:16:05.842Z"
   },
   {
    "duration": 0,
    "start_time": "2022-09-22T21:16:05.843Z"
   },
   {
    "duration": 0,
    "start_time": "2022-09-22T21:16:05.844Z"
   },
   {
    "duration": 0,
    "start_time": "2022-09-22T21:16:05.845Z"
   },
   {
    "duration": 0,
    "start_time": "2022-09-22T21:16:05.846Z"
   },
   {
    "duration": 0,
    "start_time": "2022-09-22T21:16:05.847Z"
   },
   {
    "duration": 0,
    "start_time": "2022-09-22T21:16:05.849Z"
   },
   {
    "duration": 0,
    "start_time": "2022-09-22T21:16:05.849Z"
   },
   {
    "duration": 0,
    "start_time": "2022-09-22T21:16:05.850Z"
   },
   {
    "duration": 12,
    "start_time": "2022-09-22T21:17:36.430Z"
   },
   {
    "duration": 1089,
    "start_time": "2022-09-22T21:18:17.874Z"
   },
   {
    "duration": 55,
    "start_time": "2022-09-22T21:18:18.965Z"
   },
   {
    "duration": 13,
    "start_time": "2022-09-22T21:18:19.022Z"
   },
   {
    "duration": 37,
    "start_time": "2022-09-22T21:18:19.037Z"
   },
   {
    "duration": 29,
    "start_time": "2022-09-22T21:18:19.075Z"
   },
   {
    "duration": 18,
    "start_time": "2022-09-22T21:18:19.106Z"
   },
   {
    "duration": 48,
    "start_time": "2022-09-22T21:18:19.126Z"
   },
   {
    "duration": 35,
    "start_time": "2022-09-22T21:18:19.176Z"
   },
   {
    "duration": 20,
    "start_time": "2022-09-22T21:18:19.212Z"
   },
   {
    "duration": 20,
    "start_time": "2022-09-22T21:18:19.236Z"
   },
   {
    "duration": 46,
    "start_time": "2022-09-22T21:18:19.257Z"
   },
   {
    "duration": 15,
    "start_time": "2022-09-22T21:18:19.304Z"
   },
   {
    "duration": 25,
    "start_time": "2022-09-22T21:18:19.321Z"
   },
   {
    "duration": 32,
    "start_time": "2022-09-22T21:18:19.348Z"
   },
   {
    "duration": 48,
    "start_time": "2022-09-22T21:18:19.382Z"
   },
   {
    "duration": 18,
    "start_time": "2022-09-22T21:18:19.431Z"
   },
   {
    "duration": 18,
    "start_time": "2022-09-22T21:18:19.451Z"
   },
   {
    "duration": 71,
    "start_time": "2022-09-22T21:18:19.470Z"
   },
   {
    "duration": 10,
    "start_time": "2022-09-22T21:18:19.543Z"
   },
   {
    "duration": 15,
    "start_time": "2022-09-22T21:18:19.554Z"
   },
   {
    "duration": 16,
    "start_time": "2022-09-22T21:18:19.570Z"
   },
   {
    "duration": 21,
    "start_time": "2022-09-22T21:18:19.587Z"
   },
   {
    "duration": 11,
    "start_time": "2022-09-22T21:18:19.610Z"
   },
   {
    "duration": 33,
    "start_time": "2022-09-22T21:18:19.623Z"
   },
   {
    "duration": 42,
    "start_time": "2022-09-22T21:18:19.657Z"
   },
   {
    "duration": 50,
    "start_time": "2022-09-22T21:18:19.701Z"
   },
   {
    "duration": 39,
    "start_time": "2022-09-22T21:18:19.753Z"
   },
   {
    "duration": 32,
    "start_time": "2022-09-22T21:18:19.796Z"
   },
   {
    "duration": 41,
    "start_time": "2022-09-22T21:18:19.829Z"
   },
   {
    "duration": 48,
    "start_time": "2022-09-22T21:18:19.872Z"
   },
   {
    "duration": 37,
    "start_time": "2022-09-22T21:18:19.921Z"
   },
   {
    "duration": 30,
    "start_time": "2022-09-22T21:18:19.959Z"
   },
   {
    "duration": 154,
    "start_time": "2022-09-22T21:18:19.990Z"
   },
   {
    "duration": 236,
    "start_time": "2022-09-22T21:18:20.146Z"
   },
   {
    "duration": 11,
    "start_time": "2022-09-22T21:18:20.383Z"
   },
   {
    "duration": 41,
    "start_time": "2022-09-22T21:18:20.395Z"
   },
   {
    "duration": 275,
    "start_time": "2022-09-22T21:18:20.437Z"
   },
   {
    "duration": 21,
    "start_time": "2022-09-22T21:18:20.714Z"
   },
   {
    "duration": 39,
    "start_time": "2022-09-22T21:18:20.736Z"
   },
   {
    "duration": 160,
    "start_time": "2022-09-22T21:18:20.777Z"
   },
   {
    "duration": 0,
    "start_time": "2022-09-22T21:18:20.938Z"
   },
   {
    "duration": 0,
    "start_time": "2022-09-22T21:18:20.939Z"
   },
   {
    "duration": 0,
    "start_time": "2022-09-22T21:18:20.941Z"
   },
   {
    "duration": 0,
    "start_time": "2022-09-22T21:18:20.942Z"
   },
   {
    "duration": 0,
    "start_time": "2022-09-22T21:18:20.943Z"
   },
   {
    "duration": 0,
    "start_time": "2022-09-22T21:18:20.944Z"
   },
   {
    "duration": 0,
    "start_time": "2022-09-22T21:18:20.945Z"
   },
   {
    "duration": 0,
    "start_time": "2022-09-22T21:18:20.946Z"
   },
   {
    "duration": 0,
    "start_time": "2022-09-22T21:18:20.947Z"
   },
   {
    "duration": 0,
    "start_time": "2022-09-22T21:18:20.948Z"
   },
   {
    "duration": 0,
    "start_time": "2022-09-22T21:18:20.949Z"
   },
   {
    "duration": 0,
    "start_time": "2022-09-22T21:18:20.950Z"
   },
   {
    "duration": 0,
    "start_time": "2022-09-22T21:18:20.951Z"
   },
   {
    "duration": 33,
    "start_time": "2022-09-22T21:18:52.107Z"
   },
   {
    "duration": 1148,
    "start_time": "2022-09-22T21:19:21.920Z"
   },
   {
    "duration": 52,
    "start_time": "2022-09-22T21:19:23.070Z"
   },
   {
    "duration": 14,
    "start_time": "2022-09-22T21:19:23.124Z"
   },
   {
    "duration": 16,
    "start_time": "2022-09-22T21:19:23.140Z"
   },
   {
    "duration": 8,
    "start_time": "2022-09-22T21:19:23.158Z"
   },
   {
    "duration": 10,
    "start_time": "2022-09-22T21:19:23.168Z"
   },
   {
    "duration": 29,
    "start_time": "2022-09-22T21:19:23.180Z"
   },
   {
    "duration": 34,
    "start_time": "2022-09-22T21:19:23.210Z"
   },
   {
    "duration": 20,
    "start_time": "2022-09-22T21:19:23.246Z"
   },
   {
    "duration": 17,
    "start_time": "2022-09-22T21:19:23.268Z"
   },
   {
    "duration": 6,
    "start_time": "2022-09-22T21:19:23.287Z"
   },
   {
    "duration": 39,
    "start_time": "2022-09-22T21:19:23.295Z"
   },
   {
    "duration": 2,
    "start_time": "2022-09-22T21:19:23.336Z"
   },
   {
    "duration": 11,
    "start_time": "2022-09-22T21:19:23.340Z"
   },
   {
    "duration": 26,
    "start_time": "2022-09-22T21:19:23.353Z"
   },
   {
    "duration": 15,
    "start_time": "2022-09-22T21:19:23.381Z"
   },
   {
    "duration": 11,
    "start_time": "2022-09-22T21:19:23.398Z"
   },
   {
    "duration": 62,
    "start_time": "2022-09-22T21:19:23.410Z"
   },
   {
    "duration": 9,
    "start_time": "2022-09-22T21:19:23.473Z"
   },
   {
    "duration": 9,
    "start_time": "2022-09-22T21:19:23.483Z"
   },
   {
    "duration": 27,
    "start_time": "2022-09-22T21:19:23.493Z"
   },
   {
    "duration": 15,
    "start_time": "2022-09-22T21:19:23.521Z"
   },
   {
    "duration": 5,
    "start_time": "2022-09-22T21:19:23.537Z"
   },
   {
    "duration": 11,
    "start_time": "2022-09-22T21:19:23.544Z"
   },
   {
    "duration": 13,
    "start_time": "2022-09-22T21:19:23.557Z"
   },
   {
    "duration": 14,
    "start_time": "2022-09-22T21:19:23.571Z"
   },
   {
    "duration": 17,
    "start_time": "2022-09-22T21:19:23.586Z"
   },
   {
    "duration": 7,
    "start_time": "2022-09-22T21:19:23.607Z"
   },
   {
    "duration": 17,
    "start_time": "2022-09-22T21:19:23.616Z"
   },
   {
    "duration": 6,
    "start_time": "2022-09-22T21:19:23.634Z"
   },
   {
    "duration": 11,
    "start_time": "2022-09-22T21:19:23.642Z"
   },
   {
    "duration": 8,
    "start_time": "2022-09-22T21:19:23.655Z"
   },
   {
    "duration": 154,
    "start_time": "2022-09-22T21:19:23.665Z"
   },
   {
    "duration": 206,
    "start_time": "2022-09-22T21:19:23.821Z"
   },
   {
    "duration": 11,
    "start_time": "2022-09-22T21:19:24.029Z"
   },
   {
    "duration": 7,
    "start_time": "2022-09-22T21:19:24.042Z"
   },
   {
    "duration": 286,
    "start_time": "2022-09-22T21:19:24.050Z"
   },
   {
    "duration": 14,
    "start_time": "2022-09-22T21:19:24.337Z"
   },
   {
    "duration": 25,
    "start_time": "2022-09-22T21:19:24.353Z"
   },
   {
    "duration": 14,
    "start_time": "2022-09-22T21:19:24.380Z"
   },
   {
    "duration": 122,
    "start_time": "2022-09-22T21:19:24.396Z"
   },
   {
    "duration": 0,
    "start_time": "2022-09-22T21:19:24.519Z"
   },
   {
    "duration": 0,
    "start_time": "2022-09-22T21:19:24.520Z"
   },
   {
    "duration": 0,
    "start_time": "2022-09-22T21:19:24.521Z"
   },
   {
    "duration": 0,
    "start_time": "2022-09-22T21:19:24.522Z"
   },
   {
    "duration": 0,
    "start_time": "2022-09-22T21:19:24.523Z"
   },
   {
    "duration": 0,
    "start_time": "2022-09-22T21:19:24.533Z"
   },
   {
    "duration": 0,
    "start_time": "2022-09-22T21:19:24.533Z"
   },
   {
    "duration": 0,
    "start_time": "2022-09-22T21:19:24.535Z"
   },
   {
    "duration": 0,
    "start_time": "2022-09-22T21:19:24.536Z"
   },
   {
    "duration": 0,
    "start_time": "2022-09-22T21:19:24.537Z"
   },
   {
    "duration": 0,
    "start_time": "2022-09-22T21:19:24.538Z"
   },
   {
    "duration": 0,
    "start_time": "2022-09-22T21:19:24.538Z"
   },
   {
    "duration": 0,
    "start_time": "2022-09-22T21:19:24.540Z"
   },
   {
    "duration": 16,
    "start_time": "2022-09-22T21:23:14.321Z"
   },
   {
    "duration": 25,
    "start_time": "2022-09-22T21:23:41.499Z"
   },
   {
    "duration": 1059,
    "start_time": "2022-09-22T21:23:47.058Z"
   },
   {
    "duration": 59,
    "start_time": "2022-09-22T21:23:48.119Z"
   },
   {
    "duration": 15,
    "start_time": "2022-09-22T21:23:48.179Z"
   },
   {
    "duration": 18,
    "start_time": "2022-09-22T21:23:48.197Z"
   },
   {
    "duration": 8,
    "start_time": "2022-09-22T21:23:48.217Z"
   },
   {
    "duration": 10,
    "start_time": "2022-09-22T21:23:48.227Z"
   },
   {
    "duration": 33,
    "start_time": "2022-09-22T21:23:48.239Z"
   },
   {
    "duration": 18,
    "start_time": "2022-09-22T21:23:48.274Z"
   },
   {
    "duration": 19,
    "start_time": "2022-09-22T21:23:48.294Z"
   },
   {
    "duration": 37,
    "start_time": "2022-09-22T21:23:48.316Z"
   },
   {
    "duration": 7,
    "start_time": "2022-09-22T21:23:48.355Z"
   },
   {
    "duration": 8,
    "start_time": "2022-09-22T21:23:48.364Z"
   },
   {
    "duration": 6,
    "start_time": "2022-09-22T21:23:48.373Z"
   },
   {
    "duration": 13,
    "start_time": "2022-09-22T21:23:48.380Z"
   },
   {
    "duration": 43,
    "start_time": "2022-09-22T21:23:48.395Z"
   },
   {
    "duration": 16,
    "start_time": "2022-09-22T21:23:48.439Z"
   },
   {
    "duration": 17,
    "start_time": "2022-09-22T21:23:48.457Z"
   },
   {
    "duration": 54,
    "start_time": "2022-09-22T21:23:48.476Z"
   },
   {
    "duration": 19,
    "start_time": "2022-09-22T21:23:48.532Z"
   },
   {
    "duration": 10,
    "start_time": "2022-09-22T21:23:48.552Z"
   },
   {
    "duration": 4,
    "start_time": "2022-09-22T21:23:48.563Z"
   },
   {
    "duration": 14,
    "start_time": "2022-09-22T21:23:48.568Z"
   },
   {
    "duration": 5,
    "start_time": "2022-09-22T21:23:48.583Z"
   },
   {
    "duration": 8,
    "start_time": "2022-09-22T21:23:48.589Z"
   },
   {
    "duration": 20,
    "start_time": "2022-09-22T21:23:48.598Z"
   },
   {
    "duration": 24,
    "start_time": "2022-09-22T21:23:48.619Z"
   },
   {
    "duration": 21,
    "start_time": "2022-09-22T21:23:48.644Z"
   },
   {
    "duration": 6,
    "start_time": "2022-09-22T21:23:48.669Z"
   },
   {
    "duration": 6,
    "start_time": "2022-09-22T21:23:48.676Z"
   },
   {
    "duration": 7,
    "start_time": "2022-09-22T21:23:48.683Z"
   },
   {
    "duration": 9,
    "start_time": "2022-09-22T21:23:48.691Z"
   },
   {
    "duration": 9,
    "start_time": "2022-09-22T21:23:48.702Z"
   },
   {
    "duration": 170,
    "start_time": "2022-09-22T21:23:48.713Z"
   },
   {
    "duration": 222,
    "start_time": "2022-09-22T21:23:48.885Z"
   },
   {
    "duration": 11,
    "start_time": "2022-09-22T21:23:49.109Z"
   },
   {
    "duration": 27,
    "start_time": "2022-09-22T21:23:49.121Z"
   },
   {
    "duration": 260,
    "start_time": "2022-09-22T21:23:49.150Z"
   },
   {
    "duration": 31,
    "start_time": "2022-09-22T21:23:49.412Z"
   },
   {
    "duration": 28,
    "start_time": "2022-09-22T21:23:49.445Z"
   },
   {
    "duration": 3,
    "start_time": "2022-09-22T21:23:49.474Z"
   },
   {
    "duration": 116,
    "start_time": "2022-09-22T21:23:49.478Z"
   },
   {
    "duration": 0,
    "start_time": "2022-09-22T21:23:49.596Z"
   },
   {
    "duration": 0,
    "start_time": "2022-09-22T21:23:49.597Z"
   },
   {
    "duration": 0,
    "start_time": "2022-09-22T21:23:49.598Z"
   },
   {
    "duration": 0,
    "start_time": "2022-09-22T21:23:49.599Z"
   },
   {
    "duration": 0,
    "start_time": "2022-09-22T21:23:49.600Z"
   },
   {
    "duration": 0,
    "start_time": "2022-09-22T21:23:49.601Z"
   },
   {
    "duration": 0,
    "start_time": "2022-09-22T21:23:49.602Z"
   },
   {
    "duration": 0,
    "start_time": "2022-09-22T21:23:49.603Z"
   },
   {
    "duration": 0,
    "start_time": "2022-09-22T21:23:49.604Z"
   },
   {
    "duration": 0,
    "start_time": "2022-09-22T21:23:49.605Z"
   },
   {
    "duration": 0,
    "start_time": "2022-09-22T21:23:49.606Z"
   },
   {
    "duration": 0,
    "start_time": "2022-09-22T21:23:49.607Z"
   },
   {
    "duration": 0,
    "start_time": "2022-09-22T21:23:49.608Z"
   },
   {
    "duration": 1135,
    "start_time": "2022-09-22T21:24:41.133Z"
   },
   {
    "duration": 52,
    "start_time": "2022-09-22T21:24:42.270Z"
   },
   {
    "duration": 15,
    "start_time": "2022-09-22T21:24:42.326Z"
   },
   {
    "duration": 17,
    "start_time": "2022-09-22T21:24:42.342Z"
   },
   {
    "duration": 9,
    "start_time": "2022-09-22T21:24:42.361Z"
   },
   {
    "duration": 5,
    "start_time": "2022-09-22T21:24:42.372Z"
   },
   {
    "duration": 23,
    "start_time": "2022-09-22T21:24:42.378Z"
   },
   {
    "duration": 49,
    "start_time": "2022-09-22T21:24:42.403Z"
   },
   {
    "duration": 30,
    "start_time": "2022-09-22T21:24:42.456Z"
   },
   {
    "duration": 18,
    "start_time": "2022-09-22T21:24:42.488Z"
   },
   {
    "duration": 9,
    "start_time": "2022-09-22T21:24:42.508Z"
   },
   {
    "duration": 17,
    "start_time": "2022-09-22T21:24:42.518Z"
   },
   {
    "duration": 11,
    "start_time": "2022-09-22T21:24:42.537Z"
   },
   {
    "duration": 7,
    "start_time": "2022-09-22T21:24:42.551Z"
   },
   {
    "duration": 25,
    "start_time": "2022-09-22T21:24:42.560Z"
   },
   {
    "duration": 14,
    "start_time": "2022-09-22T21:24:42.586Z"
   },
   {
    "duration": 31,
    "start_time": "2022-09-22T21:24:42.602Z"
   },
   {
    "duration": 49,
    "start_time": "2022-09-22T21:24:42.635Z"
   },
   {
    "duration": 10,
    "start_time": "2022-09-22T21:24:42.685Z"
   },
   {
    "duration": 8,
    "start_time": "2022-09-22T21:24:42.696Z"
   },
   {
    "duration": 4,
    "start_time": "2022-09-22T21:24:42.706Z"
   },
   {
    "duration": 12,
    "start_time": "2022-09-22T21:24:42.732Z"
   },
   {
    "duration": 6,
    "start_time": "2022-09-22T21:24:42.746Z"
   },
   {
    "duration": 5,
    "start_time": "2022-09-22T21:24:42.754Z"
   },
   {
    "duration": 13,
    "start_time": "2022-09-22T21:24:42.761Z"
   },
   {
    "duration": 15,
    "start_time": "2022-09-22T21:24:42.776Z"
   },
   {
    "duration": 16,
    "start_time": "2022-09-22T21:24:42.794Z"
   },
   {
    "duration": 34,
    "start_time": "2022-09-22T21:24:42.812Z"
   },
   {
    "duration": 5,
    "start_time": "2022-09-22T21:24:42.849Z"
   },
   {
    "duration": 10,
    "start_time": "2022-09-22T21:24:42.857Z"
   },
   {
    "duration": 17,
    "start_time": "2022-09-22T21:24:42.869Z"
   },
   {
    "duration": 12,
    "start_time": "2022-09-22T21:24:42.888Z"
   },
   {
    "duration": 160,
    "start_time": "2022-09-22T21:24:42.902Z"
   },
   {
    "duration": 218,
    "start_time": "2022-09-22T21:24:43.064Z"
   },
   {
    "duration": 11,
    "start_time": "2022-09-22T21:24:43.284Z"
   },
   {
    "duration": 11,
    "start_time": "2022-09-22T21:24:43.297Z"
   },
   {
    "duration": 268,
    "start_time": "2022-09-22T21:24:43.310Z"
   },
   {
    "duration": 14,
    "start_time": "2022-09-22T21:24:43.580Z"
   },
   {
    "duration": 39,
    "start_time": "2022-09-22T21:24:43.595Z"
   },
   {
    "duration": 3,
    "start_time": "2022-09-22T21:24:43.636Z"
   },
   {
    "duration": 127,
    "start_time": "2022-09-22T21:24:43.641Z"
   },
   {
    "duration": 0,
    "start_time": "2022-09-22T21:24:43.770Z"
   },
   {
    "duration": 0,
    "start_time": "2022-09-22T21:24:43.772Z"
   },
   {
    "duration": 1,
    "start_time": "2022-09-22T21:24:43.772Z"
   },
   {
    "duration": 0,
    "start_time": "2022-09-22T21:24:43.775Z"
   },
   {
    "duration": 0,
    "start_time": "2022-09-22T21:24:43.776Z"
   },
   {
    "duration": 0,
    "start_time": "2022-09-22T21:24:43.777Z"
   },
   {
    "duration": 0,
    "start_time": "2022-09-22T21:24:43.778Z"
   },
   {
    "duration": 0,
    "start_time": "2022-09-22T21:24:43.779Z"
   },
   {
    "duration": 0,
    "start_time": "2022-09-22T21:24:43.780Z"
   },
   {
    "duration": 0,
    "start_time": "2022-09-22T21:24:43.781Z"
   },
   {
    "duration": 0,
    "start_time": "2022-09-22T21:24:43.782Z"
   },
   {
    "duration": 1,
    "start_time": "2022-09-22T21:24:43.783Z"
   },
   {
    "duration": 0,
    "start_time": "2022-09-22T21:24:43.785Z"
   },
   {
    "duration": 3,
    "start_time": "2022-09-22T21:27:26.785Z"
   },
   {
    "duration": 1187,
    "start_time": "2022-09-22T21:27:31.836Z"
   },
   {
    "duration": 55,
    "start_time": "2022-09-22T21:27:33.025Z"
   },
   {
    "duration": 14,
    "start_time": "2022-09-22T21:27:33.081Z"
   },
   {
    "duration": 31,
    "start_time": "2022-09-22T21:27:33.097Z"
   },
   {
    "duration": 24,
    "start_time": "2022-09-22T21:27:33.130Z"
   },
   {
    "duration": 26,
    "start_time": "2022-09-22T21:27:33.156Z"
   },
   {
    "duration": 84,
    "start_time": "2022-09-22T21:27:33.184Z"
   },
   {
    "duration": 18,
    "start_time": "2022-09-22T21:27:33.270Z"
   },
   {
    "duration": 25,
    "start_time": "2022-09-22T21:27:33.290Z"
   },
   {
    "duration": 24,
    "start_time": "2022-09-22T21:27:33.317Z"
   },
   {
    "duration": 6,
    "start_time": "2022-09-22T21:27:33.343Z"
   },
   {
    "duration": 31,
    "start_time": "2022-09-22T21:27:33.350Z"
   },
   {
    "duration": 40,
    "start_time": "2022-09-22T21:27:33.382Z"
   },
   {
    "duration": 35,
    "start_time": "2022-09-22T21:27:33.424Z"
   },
   {
    "duration": 47,
    "start_time": "2022-09-22T21:27:33.461Z"
   },
   {
    "duration": 21,
    "start_time": "2022-09-22T21:27:33.510Z"
   },
   {
    "duration": 42,
    "start_time": "2022-09-22T21:27:33.533Z"
   },
   {
    "duration": 66,
    "start_time": "2022-09-22T21:27:33.577Z"
   },
   {
    "duration": 9,
    "start_time": "2022-09-22T21:27:33.645Z"
   },
   {
    "duration": 19,
    "start_time": "2022-09-22T21:27:33.655Z"
   },
   {
    "duration": 45,
    "start_time": "2022-09-22T21:27:33.675Z"
   },
   {
    "duration": 41,
    "start_time": "2022-09-22T21:27:33.721Z"
   },
   {
    "duration": 34,
    "start_time": "2022-09-22T21:27:33.764Z"
   },
   {
    "duration": 19,
    "start_time": "2022-09-22T21:27:33.799Z"
   },
   {
    "duration": 31,
    "start_time": "2022-09-22T21:27:33.819Z"
   },
   {
    "duration": 20,
    "start_time": "2022-09-22T21:27:33.852Z"
   },
   {
    "duration": 19,
    "start_time": "2022-09-22T21:27:33.874Z"
   },
   {
    "duration": 8,
    "start_time": "2022-09-22T21:27:33.897Z"
   },
   {
    "duration": 6,
    "start_time": "2022-09-22T21:27:33.907Z"
   },
   {
    "duration": 9,
    "start_time": "2022-09-22T21:27:33.914Z"
   },
   {
    "duration": 11,
    "start_time": "2022-09-22T21:27:33.925Z"
   },
   {
    "duration": 11,
    "start_time": "2022-09-22T21:27:33.938Z"
   },
   {
    "duration": 153,
    "start_time": "2022-09-22T21:27:33.950Z"
   },
   {
    "duration": 226,
    "start_time": "2022-09-22T21:27:34.105Z"
   },
   {
    "duration": 11,
    "start_time": "2022-09-22T21:27:34.333Z"
   },
   {
    "duration": 10,
    "start_time": "2022-09-22T21:27:34.345Z"
   },
   {
    "duration": 274,
    "start_time": "2022-09-22T21:27:34.357Z"
   },
   {
    "duration": 15,
    "start_time": "2022-09-22T21:27:34.633Z"
   },
   {
    "duration": 25,
    "start_time": "2022-09-22T21:27:34.649Z"
   },
   {
    "duration": 5,
    "start_time": "2022-09-22T21:27:34.676Z"
   },
   {
    "duration": 9,
    "start_time": "2022-09-22T21:27:34.683Z"
   },
   {
    "duration": 373,
    "start_time": "2022-09-22T21:27:34.693Z"
   },
   {
    "duration": 358,
    "start_time": "2022-09-22T21:27:35.067Z"
   },
   {
    "duration": 477,
    "start_time": "2022-09-22T21:27:35.427Z"
   },
   {
    "duration": 481,
    "start_time": "2022-09-22T21:27:35.906Z"
   },
   {
    "duration": 451,
    "start_time": "2022-09-22T21:27:36.390Z"
   },
   {
    "duration": 422,
    "start_time": "2022-09-22T21:27:36.843Z"
   },
   {
    "duration": 8,
    "start_time": "2022-09-22T21:27:37.267Z"
   },
   {
    "duration": 9,
    "start_time": "2022-09-22T21:27:37.277Z"
   },
   {
    "duration": 7,
    "start_time": "2022-09-22T21:27:37.288Z"
   },
   {
    "duration": 20,
    "start_time": "2022-09-22T21:27:37.296Z"
   },
   {
    "duration": 10,
    "start_time": "2022-09-22T21:27:37.318Z"
   },
   {
    "duration": 6,
    "start_time": "2022-09-22T21:27:37.333Z"
   },
   {
    "duration": 12,
    "start_time": "2022-09-22T21:30:31.097Z"
   },
   {
    "duration": 1141,
    "start_time": "2022-09-22T21:30:36.078Z"
   },
   {
    "duration": 52,
    "start_time": "2022-09-22T21:30:37.221Z"
   },
   {
    "duration": 13,
    "start_time": "2022-09-22T21:30:37.274Z"
   },
   {
    "duration": 20,
    "start_time": "2022-09-22T21:30:37.289Z"
   },
   {
    "duration": 8,
    "start_time": "2022-09-22T21:30:37.311Z"
   },
   {
    "duration": 12,
    "start_time": "2022-09-22T21:30:37.321Z"
   },
   {
    "duration": 36,
    "start_time": "2022-09-22T21:30:37.334Z"
   },
   {
    "duration": 21,
    "start_time": "2022-09-22T21:30:37.372Z"
   },
   {
    "duration": 19,
    "start_time": "2022-09-22T21:30:37.394Z"
   },
   {
    "duration": 24,
    "start_time": "2022-09-22T21:30:37.416Z"
   },
   {
    "duration": 15,
    "start_time": "2022-09-22T21:30:37.441Z"
   },
   {
    "duration": 19,
    "start_time": "2022-09-22T21:30:37.457Z"
   },
   {
    "duration": 12,
    "start_time": "2022-09-22T21:30:37.478Z"
   },
   {
    "duration": 11,
    "start_time": "2022-09-22T21:30:37.492Z"
   },
   {
    "duration": 26,
    "start_time": "2022-09-22T21:30:37.505Z"
   },
   {
    "duration": 16,
    "start_time": "2022-09-22T21:30:37.533Z"
   },
   {
    "duration": 6,
    "start_time": "2022-09-22T21:30:37.551Z"
   },
   {
    "duration": 55,
    "start_time": "2022-09-22T21:30:37.558Z"
   },
   {
    "duration": 22,
    "start_time": "2022-09-22T21:30:37.615Z"
   },
   {
    "duration": 14,
    "start_time": "2022-09-22T21:30:37.639Z"
   },
   {
    "duration": 13,
    "start_time": "2022-09-22T21:30:37.654Z"
   },
   {
    "duration": 27,
    "start_time": "2022-09-22T21:30:37.668Z"
   },
   {
    "duration": 7,
    "start_time": "2022-09-22T21:30:37.697Z"
   },
   {
    "duration": 20,
    "start_time": "2022-09-22T21:30:37.706Z"
   },
   {
    "duration": 15,
    "start_time": "2022-09-22T21:30:37.727Z"
   },
   {
    "duration": 16,
    "start_time": "2022-09-22T21:30:37.744Z"
   },
   {
    "duration": 29,
    "start_time": "2022-09-22T21:30:37.761Z"
   },
   {
    "duration": 7,
    "start_time": "2022-09-22T21:30:37.794Z"
   },
   {
    "duration": 15,
    "start_time": "2022-09-22T21:30:37.803Z"
   },
   {
    "duration": 10,
    "start_time": "2022-09-22T21:30:37.819Z"
   },
   {
    "duration": 11,
    "start_time": "2022-09-22T21:30:37.830Z"
   },
   {
    "duration": 8,
    "start_time": "2022-09-22T21:30:37.843Z"
   },
   {
    "duration": 157,
    "start_time": "2022-09-22T21:30:37.852Z"
   },
   {
    "duration": 219,
    "start_time": "2022-09-22T21:30:38.010Z"
   },
   {
    "duration": 12,
    "start_time": "2022-09-22T21:30:38.233Z"
   },
   {
    "duration": 21,
    "start_time": "2022-09-22T21:30:38.248Z"
   },
   {
    "duration": 249,
    "start_time": "2022-09-22T21:30:38.270Z"
   },
   {
    "duration": 19,
    "start_time": "2022-09-22T21:30:38.521Z"
   },
   {
    "duration": 33,
    "start_time": "2022-09-22T21:30:38.541Z"
   },
   {
    "duration": 6,
    "start_time": "2022-09-22T21:30:38.576Z"
   },
   {
    "duration": 11,
    "start_time": "2022-09-22T21:30:38.584Z"
   },
   {
    "duration": 8,
    "start_time": "2022-09-22T21:30:38.597Z"
   },
   {
    "duration": 343,
    "start_time": "2022-09-22T21:30:38.607Z"
   },
   {
    "duration": 353,
    "start_time": "2022-09-22T21:30:38.952Z"
   },
   {
    "duration": 440,
    "start_time": "2022-09-22T21:30:39.307Z"
   },
   {
    "duration": 372,
    "start_time": "2022-09-22T21:30:39.749Z"
   },
   {
    "duration": 361,
    "start_time": "2022-09-22T21:30:40.123Z"
   },
   {
    "duration": 359,
    "start_time": "2022-09-22T21:30:40.486Z"
   },
   {
    "duration": 7,
    "start_time": "2022-09-22T21:30:40.846Z"
   },
   {
    "duration": 14,
    "start_time": "2022-09-22T21:30:40.855Z"
   },
   {
    "duration": 11,
    "start_time": "2022-09-22T21:30:40.871Z"
   },
   {
    "duration": 15,
    "start_time": "2022-09-22T21:30:40.884Z"
   },
   {
    "duration": 19,
    "start_time": "2022-09-22T21:30:40.900Z"
   },
   {
    "duration": 12,
    "start_time": "2022-09-22T21:30:40.920Z"
   },
   {
    "duration": 6,
    "start_time": "2022-09-22T21:31:04.944Z"
   },
   {
    "duration": 10,
    "start_time": "2022-09-22T21:32:34.468Z"
   },
   {
    "duration": 178,
    "start_time": "2022-09-22T21:33:51.563Z"
   },
   {
    "duration": 7,
    "start_time": "2022-09-22T21:35:17.119Z"
   },
   {
    "duration": 7,
    "start_time": "2022-09-22T21:35:39.369Z"
   },
   {
    "duration": 9,
    "start_time": "2022-09-22T21:37:00.012Z"
   },
   {
    "duration": 4,
    "start_time": "2022-09-22T21:37:24.774Z"
   },
   {
    "duration": 4,
    "start_time": "2022-09-22T21:38:46.061Z"
   },
   {
    "duration": 1101,
    "start_time": "2022-09-22T21:38:57.333Z"
   },
   {
    "duration": 56,
    "start_time": "2022-09-22T21:38:58.436Z"
   },
   {
    "duration": 16,
    "start_time": "2022-09-22T21:38:58.494Z"
   },
   {
    "duration": 17,
    "start_time": "2022-09-22T21:38:58.513Z"
   },
   {
    "duration": 9,
    "start_time": "2022-09-22T21:38:58.532Z"
   },
   {
    "duration": 20,
    "start_time": "2022-09-22T21:38:58.543Z"
   },
   {
    "duration": 31,
    "start_time": "2022-09-22T21:38:58.564Z"
   },
   {
    "duration": 21,
    "start_time": "2022-09-22T21:38:58.597Z"
   },
   {
    "duration": 19,
    "start_time": "2022-09-22T21:38:58.620Z"
   },
   {
    "duration": 19,
    "start_time": "2022-09-22T21:38:58.642Z"
   },
   {
    "duration": 18,
    "start_time": "2022-09-22T21:38:58.662Z"
   },
   {
    "duration": 15,
    "start_time": "2022-09-22T21:38:58.682Z"
   },
   {
    "duration": 14,
    "start_time": "2022-09-22T21:38:58.698Z"
   },
   {
    "duration": 10,
    "start_time": "2022-09-22T21:38:58.714Z"
   },
   {
    "duration": 46,
    "start_time": "2022-09-22T21:38:58.725Z"
   },
   {
    "duration": 22,
    "start_time": "2022-09-22T21:38:58.773Z"
   },
   {
    "duration": 17,
    "start_time": "2022-09-22T21:38:58.797Z"
   },
   {
    "duration": 70,
    "start_time": "2022-09-22T21:38:58.816Z"
   },
   {
    "duration": 10,
    "start_time": "2022-09-22T21:38:58.887Z"
   },
   {
    "duration": 9,
    "start_time": "2022-09-22T21:38:58.898Z"
   },
   {
    "duration": 5,
    "start_time": "2022-09-22T21:38:58.908Z"
   },
   {
    "duration": 30,
    "start_time": "2022-09-22T21:38:58.914Z"
   },
   {
    "duration": 16,
    "start_time": "2022-09-22T21:38:58.946Z"
   },
   {
    "duration": 5,
    "start_time": "2022-09-22T21:38:58.963Z"
   },
   {
    "duration": 13,
    "start_time": "2022-09-22T21:38:58.970Z"
   },
   {
    "duration": 15,
    "start_time": "2022-09-22T21:38:58.985Z"
   },
   {
    "duration": 22,
    "start_time": "2022-09-22T21:38:59.002Z"
   },
   {
    "duration": 14,
    "start_time": "2022-09-22T21:38:59.028Z"
   },
   {
    "duration": 20,
    "start_time": "2022-09-22T21:38:59.044Z"
   },
   {
    "duration": 14,
    "start_time": "2022-09-22T21:38:59.066Z"
   },
   {
    "duration": 10,
    "start_time": "2022-09-22T21:38:59.081Z"
   },
   {
    "duration": 10,
    "start_time": "2022-09-22T21:38:59.093Z"
   },
   {
    "duration": 130,
    "start_time": "2022-09-22T21:38:59.105Z"
   },
   {
    "duration": 220,
    "start_time": "2022-09-22T21:38:59.236Z"
   },
   {
    "duration": 11,
    "start_time": "2022-09-22T21:38:59.458Z"
   },
   {
    "duration": 10,
    "start_time": "2022-09-22T21:38:59.470Z"
   },
   {
    "duration": 278,
    "start_time": "2022-09-22T21:38:59.481Z"
   },
   {
    "duration": 19,
    "start_time": "2022-09-22T21:38:59.761Z"
   },
   {
    "duration": 23,
    "start_time": "2022-09-22T21:38:59.783Z"
   },
   {
    "duration": 25,
    "start_time": "2022-09-22T21:38:59.808Z"
   },
   {
    "duration": 10,
    "start_time": "2022-09-22T21:38:59.835Z"
   },
   {
    "duration": 11,
    "start_time": "2022-09-22T21:38:59.846Z"
   },
   {
    "duration": 6,
    "start_time": "2022-09-22T21:38:59.859Z"
   },
   {
    "duration": 102,
    "start_time": "2022-09-22T21:38:59.866Z"
   },
   {
    "duration": 0,
    "start_time": "2022-09-22T21:38:59.970Z"
   },
   {
    "duration": 0,
    "start_time": "2022-09-22T21:38:59.971Z"
   },
   {
    "duration": 0,
    "start_time": "2022-09-22T21:38:59.972Z"
   },
   {
    "duration": 0,
    "start_time": "2022-09-22T21:38:59.973Z"
   },
   {
    "duration": 0,
    "start_time": "2022-09-22T21:38:59.974Z"
   },
   {
    "duration": 0,
    "start_time": "2022-09-22T21:38:59.975Z"
   },
   {
    "duration": 0,
    "start_time": "2022-09-22T21:38:59.976Z"
   },
   {
    "duration": 0,
    "start_time": "2022-09-22T21:38:59.977Z"
   },
   {
    "duration": 0,
    "start_time": "2022-09-22T21:38:59.978Z"
   },
   {
    "duration": 0,
    "start_time": "2022-09-22T21:38:59.979Z"
   },
   {
    "duration": 0,
    "start_time": "2022-09-22T21:38:59.980Z"
   },
   {
    "duration": 309,
    "start_time": "2022-09-22T21:39:27.769Z"
   },
   {
    "duration": 323,
    "start_time": "2022-09-22T21:39:44.272Z"
   },
   {
    "duration": 408,
    "start_time": "2022-09-22T21:39:53.120Z"
   },
   {
    "duration": 5,
    "start_time": "2022-09-22T21:46:50.596Z"
   },
   {
    "duration": 5,
    "start_time": "2022-09-22T21:47:57.122Z"
   },
   {
    "duration": 19,
    "start_time": "2022-09-22T21:50:29.369Z"
   },
   {
    "duration": 114,
    "start_time": "2022-09-22T21:51:00.821Z"
   },
   {
    "duration": 115,
    "start_time": "2022-09-22T21:51:14.184Z"
   },
   {
    "duration": 10,
    "start_time": "2022-09-22T21:52:07.196Z"
   },
   {
    "duration": 1064,
    "start_time": "2022-09-22T21:52:15.188Z"
   },
   {
    "duration": 148,
    "start_time": "2022-09-22T21:52:32.696Z"
   },
   {
    "duration": 133,
    "start_time": "2022-09-22T21:52:50.497Z"
   },
   {
    "duration": 134,
    "start_time": "2022-09-22T21:53:03.392Z"
   },
   {
    "duration": 1063,
    "start_time": "2022-09-22T21:53:40.465Z"
   },
   {
    "duration": 57,
    "start_time": "2022-09-22T21:53:41.530Z"
   },
   {
    "duration": 16,
    "start_time": "2022-09-22T21:53:41.588Z"
   },
   {
    "duration": 17,
    "start_time": "2022-09-22T21:53:41.606Z"
   },
   {
    "duration": 10,
    "start_time": "2022-09-22T21:53:41.624Z"
   },
   {
    "duration": 4,
    "start_time": "2022-09-22T21:53:41.636Z"
   },
   {
    "duration": 26,
    "start_time": "2022-09-22T21:53:41.642Z"
   },
   {
    "duration": 18,
    "start_time": "2022-09-22T21:53:41.669Z"
   },
   {
    "duration": 17,
    "start_time": "2022-09-22T21:53:41.689Z"
   },
   {
    "duration": 41,
    "start_time": "2022-09-22T21:53:41.709Z"
   },
   {
    "duration": 10,
    "start_time": "2022-09-22T21:53:41.751Z"
   },
   {
    "duration": 7,
    "start_time": "2022-09-22T21:53:41.763Z"
   },
   {
    "duration": 5,
    "start_time": "2022-09-22T21:53:41.771Z"
   },
   {
    "duration": 7,
    "start_time": "2022-09-22T21:53:41.777Z"
   },
   {
    "duration": 23,
    "start_time": "2022-09-22T21:53:41.786Z"
   },
   {
    "duration": 32,
    "start_time": "2022-09-22T21:53:41.810Z"
   },
   {
    "duration": 5,
    "start_time": "2022-09-22T21:53:41.844Z"
   },
   {
    "duration": 52,
    "start_time": "2022-09-22T21:53:41.851Z"
   },
   {
    "duration": 9,
    "start_time": "2022-09-22T21:53:41.905Z"
   },
   {
    "duration": 26,
    "start_time": "2022-09-22T21:53:41.915Z"
   },
   {
    "duration": 6,
    "start_time": "2022-09-22T21:53:41.943Z"
   },
   {
    "duration": 14,
    "start_time": "2022-09-22T21:53:41.950Z"
   },
   {
    "duration": 5,
    "start_time": "2022-09-22T21:53:41.966Z"
   },
   {
    "duration": 6,
    "start_time": "2022-09-22T21:53:41.972Z"
   },
   {
    "duration": 10,
    "start_time": "2022-09-22T21:53:41.979Z"
   },
   {
    "duration": 43,
    "start_time": "2022-09-22T21:53:41.990Z"
   },
   {
    "duration": 14,
    "start_time": "2022-09-22T21:53:42.035Z"
   },
   {
    "duration": 10,
    "start_time": "2022-09-22T21:53:42.052Z"
   },
   {
    "duration": 4,
    "start_time": "2022-09-22T21:53:42.063Z"
   },
   {
    "duration": 5,
    "start_time": "2022-09-22T21:53:42.068Z"
   },
   {
    "duration": 9,
    "start_time": "2022-09-22T21:53:42.074Z"
   },
   {
    "duration": 7,
    "start_time": "2022-09-22T21:53:42.084Z"
   },
   {
    "duration": 171,
    "start_time": "2022-09-22T21:53:42.092Z"
   },
   {
    "duration": 213,
    "start_time": "2022-09-22T21:53:42.265Z"
   },
   {
    "duration": 11,
    "start_time": "2022-09-22T21:53:42.480Z"
   },
   {
    "duration": 6,
    "start_time": "2022-09-22T21:53:42.493Z"
   },
   {
    "duration": 282,
    "start_time": "2022-09-22T21:53:42.500Z"
   },
   {
    "duration": 14,
    "start_time": "2022-09-22T21:53:42.784Z"
   },
   {
    "duration": 38,
    "start_time": "2022-09-22T21:53:42.799Z"
   },
   {
    "duration": 4,
    "start_time": "2022-09-22T21:53:42.838Z"
   },
   {
    "duration": 12,
    "start_time": "2022-09-22T21:53:42.844Z"
   },
   {
    "duration": 8,
    "start_time": "2022-09-22T21:53:42.857Z"
   },
   {
    "duration": 20,
    "start_time": "2022-09-22T21:53:42.866Z"
   },
   {
    "duration": 135,
    "start_time": "2022-09-22T21:53:42.887Z"
   },
   {
    "duration": 140,
    "start_time": "2022-09-22T21:53:43.023Z"
   },
   {
    "duration": 5,
    "start_time": "2022-09-22T21:53:43.164Z"
   },
   {
    "duration": 329,
    "start_time": "2022-09-22T21:53:43.170Z"
   },
   {
    "duration": 390,
    "start_time": "2022-09-22T21:53:43.501Z"
   },
   {
    "duration": 347,
    "start_time": "2022-09-22T21:53:43.893Z"
   },
   {
    "duration": 8,
    "start_time": "2022-09-22T21:53:44.242Z"
   },
   {
    "duration": 6,
    "start_time": "2022-09-22T21:53:44.251Z"
   },
   {
    "duration": 6,
    "start_time": "2022-09-22T21:53:44.258Z"
   },
   {
    "duration": 10,
    "start_time": "2022-09-22T21:53:44.265Z"
   },
   {
    "duration": 6,
    "start_time": "2022-09-22T21:53:44.276Z"
   },
   {
    "duration": 5,
    "start_time": "2022-09-22T21:53:44.284Z"
   },
   {
    "duration": 1302,
    "start_time": "2022-09-22T21:55:00.485Z"
   },
   {
    "duration": 1143,
    "start_time": "2022-09-22T21:55:05.984Z"
   },
   {
    "duration": 54,
    "start_time": "2022-09-22T21:55:07.129Z"
   },
   {
    "duration": 14,
    "start_time": "2022-09-22T21:55:07.185Z"
   },
   {
    "duration": 15,
    "start_time": "2022-09-22T21:55:07.201Z"
   },
   {
    "duration": 9,
    "start_time": "2022-09-22T21:55:07.218Z"
   },
   {
    "duration": 5,
    "start_time": "2022-09-22T21:55:07.228Z"
   },
   {
    "duration": 22,
    "start_time": "2022-09-22T21:55:07.235Z"
   },
   {
    "duration": 18,
    "start_time": "2022-09-22T21:55:07.258Z"
   },
   {
    "duration": 18,
    "start_time": "2022-09-22T21:55:07.278Z"
   },
   {
    "duration": 44,
    "start_time": "2022-09-22T21:55:07.297Z"
   },
   {
    "duration": 7,
    "start_time": "2022-09-22T21:55:07.343Z"
   },
   {
    "duration": 9,
    "start_time": "2022-09-22T21:55:07.351Z"
   },
   {
    "duration": 8,
    "start_time": "2022-09-22T21:55:07.361Z"
   },
   {
    "duration": 5,
    "start_time": "2022-09-22T21:55:07.371Z"
   },
   {
    "duration": 25,
    "start_time": "2022-09-22T21:55:07.378Z"
   },
   {
    "duration": 36,
    "start_time": "2022-09-22T21:55:07.405Z"
   },
   {
    "duration": 20,
    "start_time": "2022-09-22T21:55:07.443Z"
   },
   {
    "duration": 51,
    "start_time": "2022-09-22T21:55:07.465Z"
   },
   {
    "duration": 10,
    "start_time": "2022-09-22T21:55:07.517Z"
   },
   {
    "duration": 13,
    "start_time": "2022-09-22T21:55:07.528Z"
   },
   {
    "duration": 9,
    "start_time": "2022-09-22T21:55:07.542Z"
   },
   {
    "duration": 16,
    "start_time": "2022-09-22T21:55:07.552Z"
   },
   {
    "duration": 5,
    "start_time": "2022-09-22T21:55:07.570Z"
   },
   {
    "duration": 6,
    "start_time": "2022-09-22T21:55:07.576Z"
   },
   {
    "duration": 16,
    "start_time": "2022-09-22T21:55:07.583Z"
   },
   {
    "duration": 18,
    "start_time": "2022-09-22T21:55:07.601Z"
   },
   {
    "duration": 14,
    "start_time": "2022-09-22T21:55:07.633Z"
   },
   {
    "duration": 10,
    "start_time": "2022-09-22T21:55:07.649Z"
   },
   {
    "duration": 4,
    "start_time": "2022-09-22T21:55:07.660Z"
   },
   {
    "duration": 6,
    "start_time": "2022-09-22T21:55:07.666Z"
   },
   {
    "duration": 12,
    "start_time": "2022-09-22T21:55:07.673Z"
   },
   {
    "duration": 12,
    "start_time": "2022-09-22T21:55:07.686Z"
   },
   {
    "duration": 160,
    "start_time": "2022-09-22T21:55:07.699Z"
   },
   {
    "duration": 212,
    "start_time": "2022-09-22T21:55:07.860Z"
   },
   {
    "duration": 10,
    "start_time": "2022-09-22T21:55:08.073Z"
   },
   {
    "duration": 19,
    "start_time": "2022-09-22T21:55:08.085Z"
   },
   {
    "duration": 280,
    "start_time": "2022-09-22T21:55:08.105Z"
   },
   {
    "duration": 15,
    "start_time": "2022-09-22T21:55:08.386Z"
   },
   {
    "duration": 42,
    "start_time": "2022-09-22T21:55:08.402Z"
   },
   {
    "duration": 3,
    "start_time": "2022-09-22T21:55:08.445Z"
   },
   {
    "duration": 11,
    "start_time": "2022-09-22T21:55:08.452Z"
   },
   {
    "duration": 15,
    "start_time": "2022-09-22T21:55:08.465Z"
   },
   {
    "duration": 19,
    "start_time": "2022-09-22T21:55:08.481Z"
   },
   {
    "duration": 131,
    "start_time": "2022-09-22T21:55:08.502Z"
   },
   {
    "duration": 149,
    "start_time": "2022-09-22T21:55:08.635Z"
   },
   {
    "duration": 1376,
    "start_time": "2022-09-22T21:55:08.786Z"
   },
   {
    "duration": 0,
    "start_time": "2022-09-22T21:55:10.164Z"
   },
   {
    "duration": 0,
    "start_time": "2022-09-22T21:55:10.165Z"
   },
   {
    "duration": 0,
    "start_time": "2022-09-22T21:55:10.166Z"
   },
   {
    "duration": 0,
    "start_time": "2022-09-22T21:55:10.167Z"
   },
   {
    "duration": 0,
    "start_time": "2022-09-22T21:55:10.168Z"
   },
   {
    "duration": 0,
    "start_time": "2022-09-22T21:55:10.170Z"
   },
   {
    "duration": 0,
    "start_time": "2022-09-22T21:55:10.171Z"
   },
   {
    "duration": 0,
    "start_time": "2022-09-22T21:55:10.172Z"
   },
   {
    "duration": 0,
    "start_time": "2022-09-22T21:55:10.173Z"
   },
   {
    "duration": 0,
    "start_time": "2022-09-22T21:55:10.174Z"
   },
   {
    "duration": 139,
    "start_time": "2022-09-22T21:55:33.887Z"
   },
   {
    "duration": 8,
    "start_time": "2022-09-22T21:56:57.437Z"
   },
   {
    "duration": 1114,
    "start_time": "2022-09-22T21:58:22.030Z"
   },
   {
    "duration": 52,
    "start_time": "2022-09-22T21:58:23.146Z"
   },
   {
    "duration": 13,
    "start_time": "2022-09-22T21:58:23.200Z"
   },
   {
    "duration": 16,
    "start_time": "2022-09-22T21:58:23.215Z"
   },
   {
    "duration": 9,
    "start_time": "2022-09-22T21:58:23.232Z"
   },
   {
    "duration": 4,
    "start_time": "2022-09-22T21:58:23.243Z"
   },
   {
    "duration": 23,
    "start_time": "2022-09-22T21:58:23.249Z"
   },
   {
    "duration": 21,
    "start_time": "2022-09-22T21:58:23.274Z"
   },
   {
    "duration": 47,
    "start_time": "2022-09-22T21:58:23.296Z"
   },
   {
    "duration": 19,
    "start_time": "2022-09-22T21:58:23.345Z"
   },
   {
    "duration": 6,
    "start_time": "2022-09-22T21:58:23.366Z"
   },
   {
    "duration": 8,
    "start_time": "2022-09-22T21:58:23.373Z"
   },
   {
    "duration": 7,
    "start_time": "2022-09-22T21:58:23.382Z"
   },
   {
    "duration": 6,
    "start_time": "2022-09-22T21:58:23.390Z"
   },
   {
    "duration": 48,
    "start_time": "2022-09-22T21:58:23.398Z"
   },
   {
    "duration": 15,
    "start_time": "2022-09-22T21:58:23.447Z"
   },
   {
    "duration": 6,
    "start_time": "2022-09-22T21:58:23.463Z"
   },
   {
    "duration": 64,
    "start_time": "2022-09-22T21:58:23.470Z"
   },
   {
    "duration": 8,
    "start_time": "2022-09-22T21:58:23.536Z"
   },
   {
    "duration": 8,
    "start_time": "2022-09-22T21:58:23.546Z"
   },
   {
    "duration": 4,
    "start_time": "2022-09-22T21:58:23.555Z"
   },
   {
    "duration": 15,
    "start_time": "2022-09-22T21:58:23.560Z"
   },
   {
    "duration": 5,
    "start_time": "2022-09-22T21:58:23.576Z"
   },
   {
    "duration": 6,
    "start_time": "2022-09-22T21:58:23.582Z"
   },
   {
    "duration": 12,
    "start_time": "2022-09-22T21:58:23.590Z"
   },
   {
    "duration": 42,
    "start_time": "2022-09-22T21:58:23.603Z"
   },
   {
    "duration": 16,
    "start_time": "2022-09-22T21:58:23.646Z"
   },
   {
    "duration": 6,
    "start_time": "2022-09-22T21:58:23.666Z"
   },
   {
    "duration": 5,
    "start_time": "2022-09-22T21:58:23.674Z"
   },
   {
    "duration": 4,
    "start_time": "2022-09-22T21:58:23.680Z"
   },
   {
    "duration": 8,
    "start_time": "2022-09-22T21:58:23.685Z"
   },
   {
    "duration": 7,
    "start_time": "2022-09-22T21:58:23.695Z"
   },
   {
    "duration": 165,
    "start_time": "2022-09-22T21:58:23.704Z"
   },
   {
    "duration": 212,
    "start_time": "2022-09-22T21:58:23.871Z"
   },
   {
    "duration": 9,
    "start_time": "2022-09-22T21:58:24.085Z"
   },
   {
    "duration": 8,
    "start_time": "2022-09-22T21:58:24.096Z"
   },
   {
    "duration": 270,
    "start_time": "2022-09-22T21:58:24.106Z"
   },
   {
    "duration": 14,
    "start_time": "2022-09-22T21:58:24.378Z"
   },
   {
    "duration": 40,
    "start_time": "2022-09-22T21:58:24.394Z"
   },
   {
    "duration": 3,
    "start_time": "2022-09-22T21:58:24.436Z"
   },
   {
    "duration": 12,
    "start_time": "2022-09-22T21:58:24.441Z"
   },
   {
    "duration": 11,
    "start_time": "2022-09-22T21:58:24.455Z"
   },
   {
    "duration": 19,
    "start_time": "2022-09-22T21:58:24.468Z"
   },
   {
    "duration": 132,
    "start_time": "2022-09-22T21:58:24.488Z"
   },
   {
    "duration": 142,
    "start_time": "2022-09-22T21:58:24.622Z"
   },
   {
    "duration": 136,
    "start_time": "2022-09-22T21:58:24.765Z"
   },
   {
    "duration": 6,
    "start_time": "2022-09-22T21:58:24.903Z"
   },
   {
    "duration": 8,
    "start_time": "2022-09-22T21:58:24.910Z"
   },
   {
    "duration": 399,
    "start_time": "2022-09-22T21:58:24.919Z"
   },
   {
    "duration": 317,
    "start_time": "2022-09-22T21:58:25.320Z"
   },
   {
    "duration": 331,
    "start_time": "2022-09-22T21:58:25.639Z"
   },
   {
    "duration": 8,
    "start_time": "2022-09-22T21:58:25.971Z"
   },
   {
    "duration": 12,
    "start_time": "2022-09-22T21:58:25.980Z"
   },
   {
    "duration": 7,
    "start_time": "2022-09-22T21:58:25.994Z"
   },
   {
    "duration": 11,
    "start_time": "2022-09-22T21:58:26.003Z"
   },
   {
    "duration": 19,
    "start_time": "2022-09-22T21:58:26.015Z"
   },
   {
    "duration": 8,
    "start_time": "2022-09-22T21:58:26.036Z"
   },
   {
    "duration": 5,
    "start_time": "2022-09-22T22:00:41.718Z"
   },
   {
    "duration": 1024,
    "start_time": "2022-09-22T22:05:43.987Z"
   },
   {
    "duration": 51,
    "start_time": "2022-09-22T22:05:45.013Z"
   },
   {
    "duration": 14,
    "start_time": "2022-09-22T22:05:45.066Z"
   },
   {
    "duration": 15,
    "start_time": "2022-09-22T22:05:45.081Z"
   },
   {
    "duration": 9,
    "start_time": "2022-09-22T22:05:45.098Z"
   },
   {
    "duration": 25,
    "start_time": "2022-09-22T22:05:45.109Z"
   },
   {
    "duration": 21,
    "start_time": "2022-09-22T22:05:45.136Z"
   },
   {
    "duration": 19,
    "start_time": "2022-09-22T22:05:45.159Z"
   },
   {
    "duration": 18,
    "start_time": "2022-09-22T22:05:45.179Z"
   },
   {
    "duration": 42,
    "start_time": "2022-09-22T22:05:45.199Z"
   },
   {
    "duration": 10,
    "start_time": "2022-09-22T22:05:45.242Z"
   },
   {
    "duration": 11,
    "start_time": "2022-09-22T22:05:45.253Z"
   },
   {
    "duration": 14,
    "start_time": "2022-09-22T22:05:45.265Z"
   },
   {
    "duration": 17,
    "start_time": "2022-09-22T22:05:45.281Z"
   },
   {
    "duration": 25,
    "start_time": "2022-09-22T22:05:45.300Z"
   },
   {
    "duration": 13,
    "start_time": "2022-09-22T22:05:45.327Z"
   },
   {
    "duration": 5,
    "start_time": "2022-09-22T22:05:45.342Z"
   },
   {
    "duration": 56,
    "start_time": "2022-09-22T22:05:45.348Z"
   },
   {
    "duration": 11,
    "start_time": "2022-09-22T22:05:45.405Z"
   },
   {
    "duration": 25,
    "start_time": "2022-09-22T22:05:45.417Z"
   },
   {
    "duration": 6,
    "start_time": "2022-09-22T22:05:45.443Z"
   },
   {
    "duration": 16,
    "start_time": "2022-09-22T22:05:45.450Z"
   },
   {
    "duration": 5,
    "start_time": "2022-09-22T22:05:45.468Z"
   },
   {
    "duration": 13,
    "start_time": "2022-09-22T22:05:45.474Z"
   },
   {
    "duration": 28,
    "start_time": "2022-09-22T22:05:45.489Z"
   },
   {
    "duration": 81,
    "start_time": "2022-09-22T22:05:45.519Z"
   },
   {
    "duration": 36,
    "start_time": "2022-09-22T22:05:45.602Z"
   },
   {
    "duration": 7,
    "start_time": "2022-09-22T22:05:45.641Z"
   },
   {
    "duration": 4,
    "start_time": "2022-09-22T22:05:45.649Z"
   },
   {
    "duration": 5,
    "start_time": "2022-09-22T22:05:45.655Z"
   },
   {
    "duration": 8,
    "start_time": "2022-09-22T22:05:45.662Z"
   },
   {
    "duration": 7,
    "start_time": "2022-09-22T22:05:45.671Z"
   },
   {
    "duration": 157,
    "start_time": "2022-09-22T22:05:45.680Z"
   },
   {
    "duration": 209,
    "start_time": "2022-09-22T22:05:45.838Z"
   },
   {
    "duration": 10,
    "start_time": "2022-09-22T22:05:46.049Z"
   },
   {
    "duration": 21,
    "start_time": "2022-09-22T22:05:46.060Z"
   },
   {
    "duration": 291,
    "start_time": "2022-09-22T22:05:46.082Z"
   },
   {
    "duration": 18,
    "start_time": "2022-09-22T22:05:46.375Z"
   },
   {
    "duration": 43,
    "start_time": "2022-09-22T22:05:46.395Z"
   },
   {
    "duration": 3,
    "start_time": "2022-09-22T22:05:46.440Z"
   },
   {
    "duration": 12,
    "start_time": "2022-09-22T22:05:46.444Z"
   },
   {
    "duration": 11,
    "start_time": "2022-09-22T22:05:46.458Z"
   },
   {
    "duration": 21,
    "start_time": "2022-09-22T22:05:46.470Z"
   },
   {
    "duration": 134,
    "start_time": "2022-09-22T22:05:46.492Z"
   },
   {
    "duration": 134,
    "start_time": "2022-09-22T22:05:46.632Z"
   },
   {
    "duration": 140,
    "start_time": "2022-09-22T22:05:46.767Z"
   },
   {
    "duration": 5,
    "start_time": "2022-09-22T22:05:46.909Z"
   },
   {
    "duration": 18,
    "start_time": "2022-09-22T22:05:46.915Z"
   },
   {
    "duration": 6,
    "start_time": "2022-09-22T22:05:46.935Z"
   },
   {
    "duration": 386,
    "start_time": "2022-09-22T22:05:46.942Z"
   },
   {
    "duration": 336,
    "start_time": "2022-09-22T22:05:47.330Z"
   },
   {
    "duration": 336,
    "start_time": "2022-09-22T22:05:47.668Z"
   },
   {
    "duration": 9,
    "start_time": "2022-09-22T22:05:48.006Z"
   },
   {
    "duration": 17,
    "start_time": "2022-09-22T22:05:48.017Z"
   },
   {
    "duration": 4,
    "start_time": "2022-09-22T22:05:48.035Z"
   },
   {
    "duration": 13,
    "start_time": "2022-09-22T22:05:48.041Z"
   },
   {
    "duration": 7,
    "start_time": "2022-09-22T22:05:48.056Z"
   },
   {
    "duration": 7,
    "start_time": "2022-09-22T22:05:48.065Z"
   },
   {
    "duration": 4,
    "start_time": "2022-09-23T07:53:05.856Z"
   },
   {
    "duration": 1067,
    "start_time": "2022-09-23T07:53:10.980Z"
   },
   {
    "duration": 52,
    "start_time": "2022-09-23T07:53:12.049Z"
   },
   {
    "duration": 13,
    "start_time": "2022-09-23T07:53:12.103Z"
   },
   {
    "duration": 18,
    "start_time": "2022-09-23T07:53:12.118Z"
   },
   {
    "duration": 8,
    "start_time": "2022-09-23T07:53:12.137Z"
   },
   {
    "duration": 9,
    "start_time": "2022-09-23T07:53:12.146Z"
   },
   {
    "duration": 28,
    "start_time": "2022-09-23T07:53:12.156Z"
   },
   {
    "duration": 24,
    "start_time": "2022-09-23T07:53:12.186Z"
   },
   {
    "duration": 40,
    "start_time": "2022-09-23T07:53:12.212Z"
   },
   {
    "duration": 19,
    "start_time": "2022-09-23T07:53:12.254Z"
   },
   {
    "duration": 19,
    "start_time": "2022-09-23T07:53:12.275Z"
   },
   {
    "duration": 9,
    "start_time": "2022-09-23T07:53:12.296Z"
   },
   {
    "duration": 6,
    "start_time": "2022-09-23T07:53:12.306Z"
   },
   {
    "duration": 11,
    "start_time": "2022-09-23T07:53:12.313Z"
   },
   {
    "duration": 25,
    "start_time": "2022-09-23T07:53:12.333Z"
   },
   {
    "duration": 15,
    "start_time": "2022-09-23T07:53:12.359Z"
   },
   {
    "duration": 5,
    "start_time": "2022-09-23T07:53:12.376Z"
   },
   {
    "duration": 71,
    "start_time": "2022-09-23T07:53:12.383Z"
   },
   {
    "duration": 10,
    "start_time": "2022-09-23T07:53:12.455Z"
   },
   {
    "duration": 9,
    "start_time": "2022-09-23T07:53:12.467Z"
   },
   {
    "duration": 4,
    "start_time": "2022-09-23T07:53:12.478Z"
   },
   {
    "duration": 16,
    "start_time": "2022-09-23T07:53:12.483Z"
   },
   {
    "duration": 5,
    "start_time": "2022-09-23T07:53:12.501Z"
   },
   {
    "duration": 5,
    "start_time": "2022-09-23T07:53:12.533Z"
   },
   {
    "duration": 16,
    "start_time": "2022-09-23T07:53:12.540Z"
   },
   {
    "duration": 14,
    "start_time": "2022-09-23T07:53:12.557Z"
   },
   {
    "duration": 17,
    "start_time": "2022-09-23T07:53:12.573Z"
   },
   {
    "duration": 6,
    "start_time": "2022-09-23T07:53:12.595Z"
   },
   {
    "duration": 9,
    "start_time": "2022-09-23T07:53:12.603Z"
   },
   {
    "duration": 23,
    "start_time": "2022-09-23T07:53:12.613Z"
   },
   {
    "duration": 11,
    "start_time": "2022-09-23T07:53:12.638Z"
   },
   {
    "duration": 8,
    "start_time": "2022-09-23T07:53:12.650Z"
   },
   {
    "duration": 171,
    "start_time": "2022-09-23T07:53:12.660Z"
   },
   {
    "duration": 218,
    "start_time": "2022-09-23T07:53:12.833Z"
   },
   {
    "duration": 10,
    "start_time": "2022-09-23T07:53:13.053Z"
   },
   {
    "duration": 11,
    "start_time": "2022-09-23T07:53:13.064Z"
   },
   {
    "duration": 288,
    "start_time": "2022-09-23T07:53:13.076Z"
   },
   {
    "duration": 16,
    "start_time": "2022-09-23T07:53:13.365Z"
   },
   {
    "duration": 43,
    "start_time": "2022-09-23T07:53:13.383Z"
   },
   {
    "duration": 5,
    "start_time": "2022-09-23T07:53:13.428Z"
   },
   {
    "duration": 10,
    "start_time": "2022-09-23T07:53:13.435Z"
   },
   {
    "duration": 9,
    "start_time": "2022-09-23T07:53:13.446Z"
   },
   {
    "duration": 20,
    "start_time": "2022-09-23T07:53:13.457Z"
   },
   {
    "duration": 132,
    "start_time": "2022-09-23T07:53:13.478Z"
   },
   {
    "duration": 151,
    "start_time": "2022-09-23T07:53:13.612Z"
   },
   {
    "duration": 156,
    "start_time": "2022-09-23T07:53:13.765Z"
   },
   {
    "duration": 13,
    "start_time": "2022-09-23T07:53:13.923Z"
   },
   {
    "duration": 8,
    "start_time": "2022-09-23T07:53:13.937Z"
   },
   {
    "duration": 5,
    "start_time": "2022-09-23T07:53:13.947Z"
   },
   {
    "duration": 406,
    "start_time": "2022-09-23T07:53:13.954Z"
   },
   {
    "duration": 350,
    "start_time": "2022-09-23T07:53:14.362Z"
   },
   {
    "duration": 353,
    "start_time": "2022-09-23T07:53:14.713Z"
   },
   {
    "duration": 103,
    "start_time": "2022-09-23T08:41:30.441Z"
   },
   {
    "duration": 9,
    "start_time": "2022-09-23T08:41:52.507Z"
   },
   {
    "duration": 7,
    "start_time": "2022-09-23T08:43:07.027Z"
   },
   {
    "duration": 14,
    "start_time": "2022-09-23T08:47:27.606Z"
   },
   {
    "duration": 1078,
    "start_time": "2022-09-23T08:49:36.450Z"
   },
   {
    "duration": 51,
    "start_time": "2022-09-23T08:49:37.530Z"
   },
   {
    "duration": 15,
    "start_time": "2022-09-23T08:49:37.583Z"
   },
   {
    "duration": 21,
    "start_time": "2022-09-23T08:49:37.600Z"
   },
   {
    "duration": 9,
    "start_time": "2022-09-23T08:49:37.622Z"
   },
   {
    "duration": 7,
    "start_time": "2022-09-23T08:49:37.632Z"
   },
   {
    "duration": 25,
    "start_time": "2022-09-23T08:49:37.640Z"
   },
   {
    "duration": 20,
    "start_time": "2022-09-23T08:49:37.667Z"
   },
   {
    "duration": 20,
    "start_time": "2022-09-23T08:49:37.689Z"
   },
   {
    "duration": 19,
    "start_time": "2022-09-23T08:49:37.734Z"
   },
   {
    "duration": 8,
    "start_time": "2022-09-23T08:49:37.754Z"
   },
   {
    "duration": 9,
    "start_time": "2022-09-23T08:49:37.763Z"
   },
   {
    "duration": 8,
    "start_time": "2022-09-23T08:49:37.774Z"
   },
   {
    "duration": 8,
    "start_time": "2022-09-23T08:49:37.783Z"
   },
   {
    "duration": 47,
    "start_time": "2022-09-23T08:49:37.792Z"
   },
   {
    "duration": 16,
    "start_time": "2022-09-23T08:49:37.841Z"
   },
   {
    "duration": 11,
    "start_time": "2022-09-23T08:49:37.859Z"
   },
   {
    "duration": 73,
    "start_time": "2022-09-23T08:49:37.871Z"
   },
   {
    "duration": 11,
    "start_time": "2022-09-23T08:49:37.946Z"
   },
   {
    "duration": 21,
    "start_time": "2022-09-23T08:49:37.959Z"
   },
   {
    "duration": 14,
    "start_time": "2022-09-23T08:49:37.982Z"
   },
   {
    "duration": 20,
    "start_time": "2022-09-23T08:49:37.998Z"
   },
   {
    "duration": 9,
    "start_time": "2022-09-23T08:49:38.020Z"
   },
   {
    "duration": 21,
    "start_time": "2022-09-23T08:49:38.031Z"
   },
   {
    "duration": 25,
    "start_time": "2022-09-23T08:49:38.054Z"
   },
   {
    "duration": 26,
    "start_time": "2022-09-23T08:49:38.081Z"
   },
   {
    "duration": 24,
    "start_time": "2022-09-23T08:49:38.109Z"
   },
   {
    "duration": 29,
    "start_time": "2022-09-23T08:49:38.137Z"
   },
   {
    "duration": 25,
    "start_time": "2022-09-23T08:49:38.168Z"
   },
   {
    "duration": 26,
    "start_time": "2022-09-23T08:49:38.195Z"
   },
   {
    "duration": 22,
    "start_time": "2022-09-23T08:49:38.223Z"
   },
   {
    "duration": 12,
    "start_time": "2022-09-23T08:49:38.247Z"
   },
   {
    "duration": 160,
    "start_time": "2022-09-23T08:49:38.260Z"
   },
   {
    "duration": 218,
    "start_time": "2022-09-23T08:49:38.422Z"
   },
   {
    "duration": 16,
    "start_time": "2022-09-23T08:49:38.642Z"
   },
   {
    "duration": 5,
    "start_time": "2022-09-23T08:49:38.660Z"
   },
   {
    "duration": 381,
    "start_time": "2022-09-23T08:49:38.666Z"
   },
   {
    "duration": 366,
    "start_time": "2022-09-23T08:49:39.049Z"
   },
   {
    "duration": 453,
    "start_time": "2022-09-23T08:49:39.417Z"
   },
   {
    "duration": 95,
    "start_time": "2022-09-23T08:50:55.380Z"
   },
   {
    "duration": 1103,
    "start_time": "2022-09-23T08:51:08.139Z"
   },
   {
    "duration": 54,
    "start_time": "2022-09-23T08:51:09.244Z"
   },
   {
    "duration": 15,
    "start_time": "2022-09-23T08:51:09.299Z"
   },
   {
    "duration": 20,
    "start_time": "2022-09-23T08:51:09.316Z"
   },
   {
    "duration": 10,
    "start_time": "2022-09-23T08:51:09.338Z"
   },
   {
    "duration": 5,
    "start_time": "2022-09-23T08:51:09.350Z"
   },
   {
    "duration": 25,
    "start_time": "2022-09-23T08:51:09.356Z"
   },
   {
    "duration": 21,
    "start_time": "2022-09-23T08:51:09.383Z"
   },
   {
    "duration": 20,
    "start_time": "2022-09-23T08:51:09.434Z"
   },
   {
    "duration": 19,
    "start_time": "2022-09-23T08:51:09.456Z"
   },
   {
    "duration": 5,
    "start_time": "2022-09-23T08:51:09.477Z"
   },
   {
    "duration": 13,
    "start_time": "2022-09-23T08:51:09.484Z"
   },
   {
    "duration": 4,
    "start_time": "2022-09-23T08:51:09.498Z"
   },
   {
    "duration": 29,
    "start_time": "2022-09-23T08:51:09.504Z"
   },
   {
    "duration": 24,
    "start_time": "2022-09-23T08:51:09.535Z"
   },
   {
    "duration": 16,
    "start_time": "2022-09-23T08:51:09.560Z"
   },
   {
    "duration": 7,
    "start_time": "2022-09-23T08:51:09.578Z"
   },
   {
    "duration": 79,
    "start_time": "2022-09-23T08:51:09.586Z"
   },
   {
    "duration": 9,
    "start_time": "2022-09-23T08:51:09.667Z"
   },
   {
    "duration": 11,
    "start_time": "2022-09-23T08:51:09.677Z"
   },
   {
    "duration": 8,
    "start_time": "2022-09-23T08:51:09.689Z"
   },
   {
    "duration": 15,
    "start_time": "2022-09-23T08:51:09.698Z"
   },
   {
    "duration": 5,
    "start_time": "2022-09-23T08:51:09.734Z"
   },
   {
    "duration": 11,
    "start_time": "2022-09-23T08:51:09.741Z"
   },
   {
    "duration": 24,
    "start_time": "2022-09-23T08:51:09.754Z"
   },
   {
    "duration": 15,
    "start_time": "2022-09-23T08:51:09.780Z"
   },
   {
    "duration": 18,
    "start_time": "2022-09-23T08:51:09.796Z"
   },
   {
    "duration": 20,
    "start_time": "2022-09-23T08:51:09.817Z"
   },
   {
    "duration": 4,
    "start_time": "2022-09-23T08:51:09.839Z"
   },
   {
    "duration": 15,
    "start_time": "2022-09-23T08:51:09.844Z"
   },
   {
    "duration": 11,
    "start_time": "2022-09-23T08:51:09.860Z"
   },
   {
    "duration": 13,
    "start_time": "2022-09-23T08:51:09.873Z"
   },
   {
    "duration": 146,
    "start_time": "2022-09-23T08:51:09.887Z"
   },
   {
    "duration": 225,
    "start_time": "2022-09-23T08:51:10.035Z"
   },
   {
    "duration": 15,
    "start_time": "2022-09-23T08:51:10.261Z"
   },
   {
    "duration": 107,
    "start_time": "2022-09-23T08:51:10.277Z"
   },
   {
    "duration": 0,
    "start_time": "2022-09-23T08:51:10.386Z"
   },
   {
    "duration": 0,
    "start_time": "2022-09-23T08:51:10.387Z"
   },
   {
    "duration": 0,
    "start_time": "2022-09-23T08:51:10.388Z"
   },
   {
    "duration": 0,
    "start_time": "2022-09-23T08:51:10.389Z"
   },
   {
    "duration": 85,
    "start_time": "2022-09-23T08:51:59.415Z"
   },
   {
    "duration": 1198,
    "start_time": "2022-09-23T08:52:04.502Z"
   },
   {
    "duration": 54,
    "start_time": "2022-09-23T08:52:05.702Z"
   },
   {
    "duration": 14,
    "start_time": "2022-09-23T08:52:05.757Z"
   },
   {
    "duration": 20,
    "start_time": "2022-09-23T08:52:05.772Z"
   },
   {
    "duration": 9,
    "start_time": "2022-09-23T08:52:05.795Z"
   },
   {
    "duration": 10,
    "start_time": "2022-09-23T08:52:05.806Z"
   },
   {
    "duration": 36,
    "start_time": "2022-09-23T08:52:05.818Z"
   },
   {
    "duration": 20,
    "start_time": "2022-09-23T08:52:05.856Z"
   },
   {
    "duration": 21,
    "start_time": "2022-09-23T08:52:05.878Z"
   },
   {
    "duration": 48,
    "start_time": "2022-09-23T08:52:05.901Z"
   },
   {
    "duration": 6,
    "start_time": "2022-09-23T08:52:05.951Z"
   },
   {
    "duration": 20,
    "start_time": "2022-09-23T08:52:05.959Z"
   },
   {
    "duration": 6,
    "start_time": "2022-09-23T08:52:05.981Z"
   },
   {
    "duration": 9,
    "start_time": "2022-09-23T08:52:05.990Z"
   },
   {
    "duration": 33,
    "start_time": "2022-09-23T08:52:06.000Z"
   },
   {
    "duration": 15,
    "start_time": "2022-09-23T08:52:06.034Z"
   },
   {
    "duration": 15,
    "start_time": "2022-09-23T08:52:06.051Z"
   },
   {
    "duration": 62,
    "start_time": "2022-09-23T08:52:06.067Z"
   },
   {
    "duration": 10,
    "start_time": "2022-09-23T08:52:06.130Z"
   },
   {
    "duration": 9,
    "start_time": "2022-09-23T08:52:06.142Z"
   },
   {
    "duration": 6,
    "start_time": "2022-09-23T08:52:06.153Z"
   },
   {
    "duration": 22,
    "start_time": "2022-09-23T08:52:06.160Z"
   },
   {
    "duration": 25,
    "start_time": "2022-09-23T08:52:06.184Z"
   },
   {
    "duration": 23,
    "start_time": "2022-09-23T08:52:06.212Z"
   },
   {
    "duration": 46,
    "start_time": "2022-09-23T08:52:06.236Z"
   },
   {
    "duration": 21,
    "start_time": "2022-09-23T08:52:06.284Z"
   },
   {
    "duration": 27,
    "start_time": "2022-09-23T08:52:06.307Z"
   },
   {
    "duration": 11,
    "start_time": "2022-09-23T08:52:06.337Z"
   },
   {
    "duration": 9,
    "start_time": "2022-09-23T08:52:06.349Z"
   },
   {
    "duration": 8,
    "start_time": "2022-09-23T08:52:06.360Z"
   },
   {
    "duration": 21,
    "start_time": "2022-09-23T08:52:06.369Z"
   },
   {
    "duration": 21,
    "start_time": "2022-09-23T08:52:06.392Z"
   },
   {
    "duration": 175,
    "start_time": "2022-09-23T08:52:06.415Z"
   },
   {
    "duration": 218,
    "start_time": "2022-09-23T08:52:06.592Z"
   },
   {
    "duration": 24,
    "start_time": "2022-09-23T08:52:06.812Z"
   },
   {
    "duration": 428,
    "start_time": "2022-09-23T08:52:06.838Z"
   },
   {
    "duration": 4,
    "start_time": "2022-09-23T08:52:07.268Z"
   },
   {
    "duration": 460,
    "start_time": "2022-09-23T08:52:07.273Z"
   },
   {
    "duration": 352,
    "start_time": "2022-09-23T08:52:07.735Z"
   },
   {
    "duration": 372,
    "start_time": "2022-09-23T08:52:08.089Z"
   },
   {
    "duration": 1194,
    "start_time": "2022-09-23T08:55:23.315Z"
   },
   {
    "duration": 54,
    "start_time": "2022-09-23T08:55:24.510Z"
   },
   {
    "duration": 15,
    "start_time": "2022-09-23T08:55:24.565Z"
   },
   {
    "duration": 16,
    "start_time": "2022-09-23T08:55:24.582Z"
   },
   {
    "duration": 9,
    "start_time": "2022-09-23T08:55:24.600Z"
   },
   {
    "duration": 23,
    "start_time": "2022-09-23T08:55:24.611Z"
   },
   {
    "duration": 21,
    "start_time": "2022-09-23T08:55:24.636Z"
   },
   {
    "duration": 18,
    "start_time": "2022-09-23T08:55:24.659Z"
   },
   {
    "duration": 19,
    "start_time": "2022-09-23T08:55:24.679Z"
   },
   {
    "duration": 50,
    "start_time": "2022-09-23T08:55:24.701Z"
   },
   {
    "duration": 8,
    "start_time": "2022-09-23T08:55:24.752Z"
   },
   {
    "duration": 9,
    "start_time": "2022-09-23T08:55:24.762Z"
   },
   {
    "duration": 7,
    "start_time": "2022-09-23T08:55:24.773Z"
   },
   {
    "duration": 7,
    "start_time": "2022-09-23T08:55:24.781Z"
   },
   {
    "duration": 44,
    "start_time": "2022-09-23T08:55:24.790Z"
   },
   {
    "duration": 15,
    "start_time": "2022-09-23T08:55:24.836Z"
   },
   {
    "duration": 9,
    "start_time": "2022-09-23T08:55:24.853Z"
   },
   {
    "duration": 54,
    "start_time": "2022-09-23T08:55:24.863Z"
   },
   {
    "duration": 9,
    "start_time": "2022-09-23T08:55:24.933Z"
   },
   {
    "duration": 10,
    "start_time": "2022-09-23T08:55:24.943Z"
   },
   {
    "duration": 5,
    "start_time": "2022-09-23T08:55:24.954Z"
   },
   {
    "duration": 19,
    "start_time": "2022-09-23T08:55:24.961Z"
   },
   {
    "duration": 5,
    "start_time": "2022-09-23T08:55:24.981Z"
   },
   {
    "duration": 5,
    "start_time": "2022-09-23T08:55:24.987Z"
   },
   {
    "duration": 21,
    "start_time": "2022-09-23T08:55:24.993Z"
   },
   {
    "duration": 31,
    "start_time": "2022-09-23T08:55:25.016Z"
   },
   {
    "duration": 34,
    "start_time": "2022-09-23T08:55:25.049Z"
   },
   {
    "duration": 22,
    "start_time": "2022-09-23T08:55:25.087Z"
   },
   {
    "duration": 8,
    "start_time": "2022-09-23T08:55:25.111Z"
   },
   {
    "duration": 8,
    "start_time": "2022-09-23T08:55:25.120Z"
   },
   {
    "duration": 11,
    "start_time": "2022-09-23T08:55:25.130Z"
   },
   {
    "duration": 12,
    "start_time": "2022-09-23T08:55:25.143Z"
   },
   {
    "duration": 147,
    "start_time": "2022-09-23T08:55:25.156Z"
   },
   {
    "duration": 15,
    "start_time": "2022-09-23T08:55:25.305Z"
   },
   {
    "duration": 431,
    "start_time": "2022-09-23T08:55:25.322Z"
   },
   {
    "duration": 5,
    "start_time": "2022-09-23T08:55:25.754Z"
   },
   {
    "duration": 441,
    "start_time": "2022-09-23T08:55:25.761Z"
   },
   {
    "duration": 440,
    "start_time": "2022-09-23T08:55:26.204Z"
   },
   {
    "duration": 387,
    "start_time": "2022-09-23T08:55:26.646Z"
   },
   {
    "duration": 43,
    "start_time": "2022-09-23T08:55:50.328Z"
   },
   {
    "duration": 51,
    "start_time": "2022-09-23T09:01:43.263Z"
   },
   {
    "duration": 143,
    "start_time": "2022-09-23T09:16:42.407Z"
   },
   {
    "duration": 1288,
    "start_time": "2022-09-23T09:17:06.620Z"
   },
   {
    "duration": 53,
    "start_time": "2022-09-23T09:17:07.910Z"
   },
   {
    "duration": 14,
    "start_time": "2022-09-23T09:17:07.965Z"
   },
   {
    "duration": 15,
    "start_time": "2022-09-23T09:17:07.982Z"
   },
   {
    "duration": 8,
    "start_time": "2022-09-23T09:17:07.999Z"
   },
   {
    "duration": 26,
    "start_time": "2022-09-23T09:17:08.008Z"
   },
   {
    "duration": 23,
    "start_time": "2022-09-23T09:17:08.036Z"
   },
   {
    "duration": 19,
    "start_time": "2022-09-23T09:17:08.060Z"
   },
   {
    "duration": 19,
    "start_time": "2022-09-23T09:17:08.080Z"
   },
   {
    "duration": 36,
    "start_time": "2022-09-23T09:17:08.101Z"
   },
   {
    "duration": 6,
    "start_time": "2022-09-23T09:17:08.139Z"
   },
   {
    "duration": 28,
    "start_time": "2022-09-23T09:17:08.146Z"
   },
   {
    "duration": 38,
    "start_time": "2022-09-23T09:17:08.176Z"
   },
   {
    "duration": 15,
    "start_time": "2022-09-23T09:17:08.217Z"
   },
   {
    "duration": 28,
    "start_time": "2022-09-23T09:17:08.233Z"
   },
   {
    "duration": 15,
    "start_time": "2022-09-23T09:17:08.262Z"
   },
   {
    "duration": 20,
    "start_time": "2022-09-23T09:17:08.279Z"
   },
   {
    "duration": 54,
    "start_time": "2022-09-23T09:17:08.301Z"
   },
   {
    "duration": 8,
    "start_time": "2022-09-23T09:17:08.357Z"
   },
   {
    "duration": 10,
    "start_time": "2022-09-23T09:17:08.367Z"
   },
   {
    "duration": 4,
    "start_time": "2022-09-23T09:17:08.378Z"
   },
   {
    "duration": 15,
    "start_time": "2022-09-23T09:17:08.384Z"
   },
   {
    "duration": 5,
    "start_time": "2022-09-23T09:17:08.401Z"
   },
   {
    "duration": 28,
    "start_time": "2022-09-23T09:17:08.408Z"
   },
   {
    "duration": 18,
    "start_time": "2022-09-23T09:17:08.438Z"
   },
   {
    "duration": 15,
    "start_time": "2022-09-23T09:17:08.458Z"
   },
   {
    "duration": 22,
    "start_time": "2022-09-23T09:17:08.475Z"
   },
   {
    "duration": 8,
    "start_time": "2022-09-23T09:17:08.500Z"
   },
   {
    "duration": 5,
    "start_time": "2022-09-23T09:17:08.509Z"
   },
   {
    "duration": 18,
    "start_time": "2022-09-23T09:17:08.516Z"
   },
   {
    "duration": 17,
    "start_time": "2022-09-23T09:17:08.536Z"
   },
   {
    "duration": 10,
    "start_time": "2022-09-23T09:17:08.554Z"
   },
   {
    "duration": 138,
    "start_time": "2022-09-23T09:17:08.566Z"
   },
   {
    "duration": 27,
    "start_time": "2022-09-23T09:17:08.706Z"
   },
   {
    "duration": 410,
    "start_time": "2022-09-23T09:17:08.735Z"
   },
   {
    "duration": 18,
    "start_time": "2022-09-23T09:17:09.147Z"
   },
   {
    "duration": 8,
    "start_time": "2022-09-23T09:17:09.167Z"
   },
   {
    "duration": 445,
    "start_time": "2022-09-23T09:17:09.176Z"
   },
   {
    "duration": 367,
    "start_time": "2022-09-23T09:17:09.623Z"
   },
   {
    "duration": 352,
    "start_time": "2022-09-23T09:17:09.992Z"
   },
   {
    "duration": 143,
    "start_time": "2022-09-23T09:28:19.820Z"
   },
   {
    "duration": 22,
    "start_time": "2022-09-23T09:28:34.780Z"
   },
   {
    "duration": 53,
    "start_time": "2022-09-23T09:40:21.621Z"
   },
   {
    "duration": 41,
    "start_time": "2022-09-23T09:40:38.885Z"
   },
   {
    "duration": 44,
    "start_time": "2022-09-23T09:41:38.838Z"
   },
   {
    "duration": 73,
    "start_time": "2022-09-23T09:46:49.178Z"
   },
   {
    "duration": 68,
    "start_time": "2022-09-23T09:48:20.835Z"
   },
   {
    "duration": 69,
    "start_time": "2022-09-23T09:48:52.845Z"
   },
   {
    "duration": 20,
    "start_time": "2022-09-23T09:50:28.279Z"
   },
   {
    "duration": 1256,
    "start_time": "2022-09-23T09:50:41.058Z"
   },
   {
    "duration": 56,
    "start_time": "2022-09-23T09:50:42.316Z"
   },
   {
    "duration": 14,
    "start_time": "2022-09-23T09:50:42.373Z"
   },
   {
    "duration": 17,
    "start_time": "2022-09-23T09:50:42.389Z"
   },
   {
    "duration": 8,
    "start_time": "2022-09-23T09:50:42.408Z"
   },
   {
    "duration": 17,
    "start_time": "2022-09-23T09:50:42.417Z"
   },
   {
    "duration": 26,
    "start_time": "2022-09-23T09:50:42.435Z"
   },
   {
    "duration": 21,
    "start_time": "2022-09-23T09:50:42.462Z"
   },
   {
    "duration": 20,
    "start_time": "2022-09-23T09:50:42.484Z"
   },
   {
    "duration": 46,
    "start_time": "2022-09-23T09:50:42.506Z"
   },
   {
    "duration": 16,
    "start_time": "2022-09-23T09:50:42.553Z"
   },
   {
    "duration": 17,
    "start_time": "2022-09-23T09:50:42.570Z"
   },
   {
    "duration": 8,
    "start_time": "2022-09-23T09:50:42.588Z"
   },
   {
    "duration": 8,
    "start_time": "2022-09-23T09:50:42.597Z"
   },
   {
    "duration": 43,
    "start_time": "2022-09-23T09:50:42.607Z"
   },
   {
    "duration": 24,
    "start_time": "2022-09-23T09:50:42.652Z"
   },
   {
    "duration": 7,
    "start_time": "2022-09-23T09:50:42.677Z"
   },
   {
    "duration": 63,
    "start_time": "2022-09-23T09:50:42.686Z"
   },
   {
    "duration": 9,
    "start_time": "2022-09-23T09:50:42.750Z"
   },
   {
    "duration": 11,
    "start_time": "2022-09-23T09:50:42.761Z"
   },
   {
    "duration": 8,
    "start_time": "2022-09-23T09:50:42.774Z"
   },
   {
    "duration": 15,
    "start_time": "2022-09-23T09:50:42.783Z"
   },
   {
    "duration": 5,
    "start_time": "2022-09-23T09:50:42.800Z"
   },
   {
    "duration": 27,
    "start_time": "2022-09-23T09:50:42.806Z"
   },
   {
    "duration": 8,
    "start_time": "2022-09-23T09:50:42.835Z"
   },
   {
    "duration": 14,
    "start_time": "2022-09-23T09:50:42.845Z"
   },
   {
    "duration": 22,
    "start_time": "2022-09-23T09:50:42.860Z"
   },
   {
    "duration": 8,
    "start_time": "2022-09-23T09:50:42.886Z"
   },
   {
    "duration": 6,
    "start_time": "2022-09-23T09:50:42.896Z"
   },
   {
    "duration": 8,
    "start_time": "2022-09-23T09:50:42.904Z"
   },
   {
    "duration": 8,
    "start_time": "2022-09-23T09:50:42.934Z"
   },
   {
    "duration": 17,
    "start_time": "2022-09-23T09:50:42.943Z"
   },
   {
    "duration": 172,
    "start_time": "2022-09-23T09:50:42.962Z"
   },
   {
    "duration": 17,
    "start_time": "2022-09-23T09:50:43.136Z"
   },
   {
    "duration": 477,
    "start_time": "2022-09-23T09:50:43.156Z"
   },
   {
    "duration": 18,
    "start_time": "2022-09-23T09:50:43.635Z"
   },
   {
    "duration": 183,
    "start_time": "2022-09-23T09:50:43.655Z"
   },
   {
    "duration": 0,
    "start_time": "2022-09-23T09:50:43.840Z"
   },
   {
    "duration": 0,
    "start_time": "2022-09-23T09:50:43.841Z"
   },
   {
    "duration": 0,
    "start_time": "2022-09-23T09:50:43.841Z"
   },
   {
    "duration": 0,
    "start_time": "2022-09-23T09:50:43.842Z"
   },
   {
    "duration": 0,
    "start_time": "2022-09-23T09:50:43.843Z"
   },
   {
    "duration": 0,
    "start_time": "2022-09-23T09:50:43.844Z"
   },
   {
    "duration": 0,
    "start_time": "2022-09-23T09:50:43.846Z"
   },
   {
    "duration": 1713,
    "start_time": "2022-09-23T09:51:06.349Z"
   },
   {
    "duration": 58,
    "start_time": "2022-09-23T09:51:08.064Z"
   },
   {
    "duration": 16,
    "start_time": "2022-09-23T09:51:08.123Z"
   },
   {
    "duration": 21,
    "start_time": "2022-09-23T09:51:08.141Z"
   },
   {
    "duration": 12,
    "start_time": "2022-09-23T09:51:08.165Z"
   },
   {
    "duration": 56,
    "start_time": "2022-09-23T09:51:08.179Z"
   },
   {
    "duration": 27,
    "start_time": "2022-09-23T09:51:08.236Z"
   },
   {
    "duration": 22,
    "start_time": "2022-09-23T09:51:08.265Z"
   },
   {
    "duration": 64,
    "start_time": "2022-09-23T09:51:08.289Z"
   },
   {
    "duration": 21,
    "start_time": "2022-09-23T09:51:08.354Z"
   },
   {
    "duration": 15,
    "start_time": "2022-09-23T09:51:08.377Z"
   },
   {
    "duration": 16,
    "start_time": "2022-09-23T09:51:08.393Z"
   },
   {
    "duration": 5,
    "start_time": "2022-09-23T09:51:08.411Z"
   },
   {
    "duration": 14,
    "start_time": "2022-09-23T09:51:08.433Z"
   },
   {
    "duration": 27,
    "start_time": "2022-09-23T09:51:08.449Z"
   },
   {
    "duration": 15,
    "start_time": "2022-09-23T09:51:08.477Z"
   },
   {
    "duration": 6,
    "start_time": "2022-09-23T09:51:08.494Z"
   },
   {
    "duration": 63,
    "start_time": "2022-09-23T09:51:08.502Z"
   },
   {
    "duration": 9,
    "start_time": "2022-09-23T09:51:08.567Z"
   },
   {
    "duration": 10,
    "start_time": "2022-09-23T09:51:08.577Z"
   },
   {
    "duration": 10,
    "start_time": "2022-09-23T09:51:08.589Z"
   },
   {
    "duration": 15,
    "start_time": "2022-09-23T09:51:08.600Z"
   },
   {
    "duration": 21,
    "start_time": "2022-09-23T09:51:08.617Z"
   },
   {
    "duration": 7,
    "start_time": "2022-09-23T09:51:08.640Z"
   },
   {
    "duration": 19,
    "start_time": "2022-09-23T09:51:08.648Z"
   },
   {
    "duration": 18,
    "start_time": "2022-09-23T09:51:08.669Z"
   },
   {
    "duration": 23,
    "start_time": "2022-09-23T09:51:08.689Z"
   },
   {
    "duration": 19,
    "start_time": "2022-09-23T09:51:08.714Z"
   },
   {
    "duration": 11,
    "start_time": "2022-09-23T09:51:08.735Z"
   },
   {
    "duration": 6,
    "start_time": "2022-09-23T09:51:08.748Z"
   },
   {
    "duration": 18,
    "start_time": "2022-09-23T09:51:08.756Z"
   },
   {
    "duration": 21,
    "start_time": "2022-09-23T09:51:08.777Z"
   },
   {
    "duration": 150,
    "start_time": "2022-09-23T09:51:08.800Z"
   },
   {
    "duration": 16,
    "start_time": "2022-09-23T09:51:08.952Z"
   },
   {
    "duration": 427,
    "start_time": "2022-09-23T09:51:08.970Z"
   },
   {
    "duration": 18,
    "start_time": "2022-09-23T09:51:09.399Z"
   },
   {
    "duration": 24,
    "start_time": "2022-09-23T09:51:09.434Z"
   },
   {
    "duration": 100,
    "start_time": "2022-09-23T09:51:09.460Z"
   },
   {
    "duration": 185,
    "start_time": "2022-09-23T09:51:09.562Z"
   },
   {
    "duration": 0,
    "start_time": "2022-09-23T09:51:09.750Z"
   },
   {
    "duration": 0,
    "start_time": "2022-09-23T09:51:09.751Z"
   },
   {
    "duration": 0,
    "start_time": "2022-09-23T09:51:09.753Z"
   },
   {
    "duration": 0,
    "start_time": "2022-09-23T09:51:09.755Z"
   },
   {
    "duration": 17,
    "start_time": "2022-09-23T09:51:44.968Z"
   },
   {
    "duration": 1137,
    "start_time": "2022-09-23T09:51:49.757Z"
   },
   {
    "duration": 52,
    "start_time": "2022-09-23T09:51:50.896Z"
   },
   {
    "duration": 15,
    "start_time": "2022-09-23T09:51:50.950Z"
   },
   {
    "duration": 20,
    "start_time": "2022-09-23T09:51:50.967Z"
   },
   {
    "duration": 8,
    "start_time": "2022-09-23T09:51:50.989Z"
   },
   {
    "duration": 9,
    "start_time": "2022-09-23T09:51:50.999Z"
   },
   {
    "duration": 36,
    "start_time": "2022-09-23T09:51:51.010Z"
   },
   {
    "duration": 19,
    "start_time": "2022-09-23T09:51:51.047Z"
   },
   {
    "duration": 26,
    "start_time": "2022-09-23T09:51:51.067Z"
   },
   {
    "duration": 19,
    "start_time": "2022-09-23T09:51:51.095Z"
   },
   {
    "duration": 22,
    "start_time": "2022-09-23T09:51:51.116Z"
   },
   {
    "duration": 13,
    "start_time": "2022-09-23T09:51:51.140Z"
   },
   {
    "duration": 14,
    "start_time": "2022-09-23T09:51:51.154Z"
   },
   {
    "duration": 18,
    "start_time": "2022-09-23T09:51:51.169Z"
   },
   {
    "duration": 31,
    "start_time": "2022-09-23T09:51:51.188Z"
   },
   {
    "duration": 16,
    "start_time": "2022-09-23T09:51:51.221Z"
   },
   {
    "duration": 7,
    "start_time": "2022-09-23T09:51:51.238Z"
   },
   {
    "duration": 59,
    "start_time": "2022-09-23T09:51:51.246Z"
   },
   {
    "duration": 8,
    "start_time": "2022-09-23T09:51:51.307Z"
   },
   {
    "duration": 20,
    "start_time": "2022-09-23T09:51:51.317Z"
   },
   {
    "duration": 6,
    "start_time": "2022-09-23T09:51:51.338Z"
   },
   {
    "duration": 25,
    "start_time": "2022-09-23T09:51:51.345Z"
   },
   {
    "duration": 5,
    "start_time": "2022-09-23T09:51:51.372Z"
   },
   {
    "duration": 7,
    "start_time": "2022-09-23T09:51:51.379Z"
   },
   {
    "duration": 18,
    "start_time": "2022-09-23T09:51:51.388Z"
   },
   {
    "duration": 27,
    "start_time": "2022-09-23T09:51:51.407Z"
   },
   {
    "duration": 18,
    "start_time": "2022-09-23T09:51:51.435Z"
   },
   {
    "duration": 7,
    "start_time": "2022-09-23T09:51:51.457Z"
   },
   {
    "duration": 6,
    "start_time": "2022-09-23T09:51:51.465Z"
   },
   {
    "duration": 20,
    "start_time": "2022-09-23T09:51:51.473Z"
   },
   {
    "duration": 12,
    "start_time": "2022-09-23T09:51:51.495Z"
   },
   {
    "duration": 8,
    "start_time": "2022-09-23T09:51:51.509Z"
   },
   {
    "duration": 156,
    "start_time": "2022-09-23T09:51:51.518Z"
   },
   {
    "duration": 17,
    "start_time": "2022-09-23T09:51:51.676Z"
   },
   {
    "duration": 464,
    "start_time": "2022-09-23T09:51:51.695Z"
   },
   {
    "duration": 21,
    "start_time": "2022-09-23T09:51:52.161Z"
   },
   {
    "duration": 58,
    "start_time": "2022-09-23T09:51:52.184Z"
   },
   {
    "duration": 44,
    "start_time": "2022-09-23T09:51:52.244Z"
   },
   {
    "duration": 198,
    "start_time": "2022-09-23T09:51:52.290Z"
   },
   {
    "duration": 0,
    "start_time": "2022-09-23T09:51:52.490Z"
   },
   {
    "duration": 0,
    "start_time": "2022-09-23T09:51:52.492Z"
   },
   {
    "duration": 0,
    "start_time": "2022-09-23T09:51:52.493Z"
   },
   {
    "duration": 0,
    "start_time": "2022-09-23T09:51:52.494Z"
   },
   {
    "duration": 17,
    "start_time": "2022-09-23T09:52:53.796Z"
   },
   {
    "duration": 1255,
    "start_time": "2022-09-23T09:53:04.556Z"
   },
   {
    "duration": 58,
    "start_time": "2022-09-23T09:53:05.813Z"
   },
   {
    "duration": 15,
    "start_time": "2022-09-23T09:53:05.873Z"
   },
   {
    "duration": 17,
    "start_time": "2022-09-23T09:53:05.891Z"
   },
   {
    "duration": 28,
    "start_time": "2022-09-23T09:53:05.910Z"
   },
   {
    "duration": 5,
    "start_time": "2022-09-23T09:53:05.941Z"
   },
   {
    "duration": 29,
    "start_time": "2022-09-23T09:53:05.947Z"
   },
   {
    "duration": 22,
    "start_time": "2022-09-23T09:53:05.978Z"
   },
   {
    "duration": 40,
    "start_time": "2022-09-23T09:53:06.002Z"
   },
   {
    "duration": 20,
    "start_time": "2022-09-23T09:53:06.046Z"
   },
   {
    "duration": 16,
    "start_time": "2022-09-23T09:53:06.068Z"
   },
   {
    "duration": 13,
    "start_time": "2022-09-23T09:53:06.086Z"
   },
   {
    "duration": 7,
    "start_time": "2022-09-23T09:53:06.101Z"
   },
   {
    "duration": 26,
    "start_time": "2022-09-23T09:53:06.110Z"
   },
   {
    "duration": 48,
    "start_time": "2022-09-23T09:53:06.139Z"
   },
   {
    "duration": 26,
    "start_time": "2022-09-23T09:53:06.190Z"
   },
   {
    "duration": 6,
    "start_time": "2022-09-23T09:53:06.220Z"
   },
   {
    "duration": 78,
    "start_time": "2022-09-23T09:53:06.227Z"
   },
   {
    "duration": 11,
    "start_time": "2022-09-23T09:53:06.307Z"
   },
   {
    "duration": 20,
    "start_time": "2022-09-23T09:53:06.320Z"
   },
   {
    "duration": 13,
    "start_time": "2022-09-23T09:53:06.343Z"
   },
   {
    "duration": 26,
    "start_time": "2022-09-23T09:53:06.358Z"
   },
   {
    "duration": 10,
    "start_time": "2022-09-23T09:53:06.386Z"
   },
   {
    "duration": 15,
    "start_time": "2022-09-23T09:53:06.398Z"
   },
   {
    "duration": 20,
    "start_time": "2022-09-23T09:53:06.415Z"
   },
   {
    "duration": 22,
    "start_time": "2022-09-23T09:53:06.437Z"
   },
   {
    "duration": 38,
    "start_time": "2022-09-23T09:53:06.462Z"
   },
   {
    "duration": 9,
    "start_time": "2022-09-23T09:53:06.504Z"
   },
   {
    "duration": 19,
    "start_time": "2022-09-23T09:53:06.515Z"
   },
   {
    "duration": 19,
    "start_time": "2022-09-23T09:53:06.536Z"
   },
   {
    "duration": 13,
    "start_time": "2022-09-23T09:53:06.557Z"
   },
   {
    "duration": 28,
    "start_time": "2022-09-23T09:53:06.572Z"
   },
   {
    "duration": 148,
    "start_time": "2022-09-23T09:53:06.603Z"
   },
   {
    "duration": 24,
    "start_time": "2022-09-23T09:53:06.754Z"
   },
   {
    "duration": 454,
    "start_time": "2022-09-23T09:53:06.780Z"
   },
   {
    "duration": 27,
    "start_time": "2022-09-23T09:53:07.236Z"
   },
   {
    "duration": 82,
    "start_time": "2022-09-23T09:53:07.265Z"
   },
   {
    "duration": 90,
    "start_time": "2022-09-23T09:53:07.350Z"
   },
   {
    "duration": 164,
    "start_time": "2022-09-23T09:53:07.442Z"
   },
   {
    "duration": 0,
    "start_time": "2022-09-23T09:53:07.608Z"
   },
   {
    "duration": 0,
    "start_time": "2022-09-23T09:53:07.609Z"
   },
   {
    "duration": 0,
    "start_time": "2022-09-23T09:53:07.610Z"
   },
   {
    "duration": 0,
    "start_time": "2022-09-23T09:53:07.612Z"
   },
   {
    "duration": 71,
    "start_time": "2022-09-23T09:57:44.799Z"
   },
   {
    "duration": 98,
    "start_time": "2022-09-23T09:58:29.575Z"
   },
   {
    "duration": 131,
    "start_time": "2022-09-23T09:58:46.158Z"
   },
   {
    "duration": 121,
    "start_time": "2022-09-23T09:58:51.611Z"
   },
   {
    "duration": 80,
    "start_time": "2022-09-23T09:59:08.923Z"
   },
   {
    "duration": 68,
    "start_time": "2022-09-23T10:00:10.555Z"
   },
   {
    "duration": 96,
    "start_time": "2022-09-23T10:01:47.354Z"
   },
   {
    "duration": 81,
    "start_time": "2022-09-23T10:01:59.334Z"
   },
   {
    "duration": 15,
    "start_time": "2022-09-23T10:09:17.570Z"
   },
   {
    "duration": 24,
    "start_time": "2022-09-23T10:09:32.818Z"
   },
   {
    "duration": 28,
    "start_time": "2022-09-23T10:10:28.193Z"
   },
   {
    "duration": 16,
    "start_time": "2022-09-23T10:11:42.298Z"
   },
   {
    "duration": 43,
    "start_time": "2022-09-23T10:13:47.349Z"
   },
   {
    "duration": 36,
    "start_time": "2022-09-23T10:14:11.226Z"
   },
   {
    "duration": 1125,
    "start_time": "2022-09-23T10:14:21.784Z"
   },
   {
    "duration": 56,
    "start_time": "2022-09-23T10:14:22.911Z"
   },
   {
    "duration": 15,
    "start_time": "2022-09-23T10:14:22.968Z"
   },
   {
    "duration": 17,
    "start_time": "2022-09-23T10:14:22.985Z"
   },
   {
    "duration": 10,
    "start_time": "2022-09-23T10:14:23.003Z"
   },
   {
    "duration": 20,
    "start_time": "2022-09-23T10:14:23.014Z"
   },
   {
    "duration": 24,
    "start_time": "2022-09-23T10:14:23.036Z"
   },
   {
    "duration": 23,
    "start_time": "2022-09-23T10:14:23.061Z"
   },
   {
    "duration": 23,
    "start_time": "2022-09-23T10:14:23.086Z"
   },
   {
    "duration": 19,
    "start_time": "2022-09-23T10:14:23.134Z"
   },
   {
    "duration": 10,
    "start_time": "2022-09-23T10:14:23.155Z"
   },
   {
    "duration": 28,
    "start_time": "2022-09-23T10:14:23.166Z"
   },
   {
    "duration": 19,
    "start_time": "2022-09-23T10:14:23.196Z"
   },
   {
    "duration": 10,
    "start_time": "2022-09-23T10:14:23.216Z"
   },
   {
    "duration": 71,
    "start_time": "2022-09-23T10:14:23.228Z"
   },
   {
    "duration": 15,
    "start_time": "2022-09-23T10:14:23.301Z"
   },
   {
    "duration": 18,
    "start_time": "2022-09-23T10:14:23.318Z"
   },
   {
    "duration": 63,
    "start_time": "2022-09-23T10:14:23.338Z"
   },
   {
    "duration": 9,
    "start_time": "2022-09-23T10:14:23.403Z"
   },
   {
    "duration": 24,
    "start_time": "2022-09-23T10:14:23.414Z"
   },
   {
    "duration": 10,
    "start_time": "2022-09-23T10:14:23.440Z"
   },
   {
    "duration": 23,
    "start_time": "2022-09-23T10:14:23.452Z"
   },
   {
    "duration": 5,
    "start_time": "2022-09-23T10:14:23.477Z"
   },
   {
    "duration": 7,
    "start_time": "2022-09-23T10:14:23.484Z"
   },
   {
    "duration": 12,
    "start_time": "2022-09-23T10:14:23.493Z"
   },
   {
    "duration": 32,
    "start_time": "2022-09-23T10:14:23.507Z"
   },
   {
    "duration": 20,
    "start_time": "2022-09-23T10:14:23.541Z"
   },
   {
    "duration": 6,
    "start_time": "2022-09-23T10:14:23.564Z"
   },
   {
    "duration": 7,
    "start_time": "2022-09-23T10:14:23.572Z"
   },
   {
    "duration": 6,
    "start_time": "2022-09-23T10:14:23.581Z"
   },
   {
    "duration": 8,
    "start_time": "2022-09-23T10:14:23.588Z"
   },
   {
    "duration": 8,
    "start_time": "2022-09-23T10:14:23.598Z"
   },
   {
    "duration": 161,
    "start_time": "2022-09-23T10:14:23.607Z"
   },
   {
    "duration": 15,
    "start_time": "2022-09-23T10:14:23.769Z"
   },
   {
    "duration": 431,
    "start_time": "2022-09-23T10:14:23.786Z"
   },
   {
    "duration": 22,
    "start_time": "2022-09-23T10:14:24.219Z"
   },
   {
    "duration": 22,
    "start_time": "2022-09-23T10:14:24.243Z"
   },
   {
    "duration": 99,
    "start_time": "2022-09-23T10:14:24.267Z"
   },
   {
    "duration": 98,
    "start_time": "2022-09-23T10:14:24.368Z"
   },
   {
    "duration": 25,
    "start_time": "2022-09-23T10:14:24.467Z"
   },
   {
    "duration": 46,
    "start_time": "2022-09-23T10:14:24.493Z"
   },
   {
    "duration": 13,
    "start_time": "2022-09-23T10:14:24.541Z"
   },
   {
    "duration": 42,
    "start_time": "2022-09-23T10:14:24.557Z"
   },
   {
    "duration": 6,
    "start_time": "2022-09-23T10:14:24.601Z"
   },
   {
    "duration": 447,
    "start_time": "2022-09-23T10:14:24.608Z"
   },
   {
    "duration": 388,
    "start_time": "2022-09-23T10:14:25.057Z"
   },
   {
    "duration": 370,
    "start_time": "2022-09-23T10:14:25.447Z"
   },
   {
    "duration": 1244,
    "start_time": "2022-09-23T10:14:42.301Z"
   },
   {
    "duration": 57,
    "start_time": "2022-09-23T10:14:43.547Z"
   },
   {
    "duration": 14,
    "start_time": "2022-09-23T10:14:43.606Z"
   },
   {
    "duration": 16,
    "start_time": "2022-09-23T10:14:43.622Z"
   },
   {
    "duration": 9,
    "start_time": "2022-09-23T10:14:43.640Z"
   },
   {
    "duration": 6,
    "start_time": "2022-09-23T10:14:43.650Z"
   },
   {
    "duration": 24,
    "start_time": "2022-09-23T10:14:43.657Z"
   },
   {
    "duration": 30,
    "start_time": "2022-09-23T10:14:43.683Z"
   },
   {
    "duration": 36,
    "start_time": "2022-09-23T10:14:43.716Z"
   },
   {
    "duration": 19,
    "start_time": "2022-09-23T10:14:43.754Z"
   },
   {
    "duration": 11,
    "start_time": "2022-09-23T10:14:43.775Z"
   },
   {
    "duration": 9,
    "start_time": "2022-09-23T10:14:43.787Z"
   },
   {
    "duration": 6,
    "start_time": "2022-09-23T10:14:43.797Z"
   },
   {
    "duration": 28,
    "start_time": "2022-09-23T10:14:43.806Z"
   },
   {
    "duration": 25,
    "start_time": "2022-09-23T10:14:43.835Z"
   },
   {
    "duration": 14,
    "start_time": "2022-09-23T10:14:43.862Z"
   },
   {
    "duration": 7,
    "start_time": "2022-09-23T10:14:43.878Z"
   },
   {
    "duration": 70,
    "start_time": "2022-09-23T10:14:43.887Z"
   },
   {
    "duration": 9,
    "start_time": "2022-09-23T10:14:43.959Z"
   },
   {
    "duration": 8,
    "start_time": "2022-09-23T10:14:43.970Z"
   },
   {
    "duration": 4,
    "start_time": "2022-09-23T10:14:43.980Z"
   },
   {
    "duration": 20,
    "start_time": "2022-09-23T10:14:43.985Z"
   },
   {
    "duration": 27,
    "start_time": "2022-09-23T10:14:44.007Z"
   },
   {
    "duration": 6,
    "start_time": "2022-09-23T10:14:44.036Z"
   },
   {
    "duration": 17,
    "start_time": "2022-09-23T10:14:44.044Z"
   },
   {
    "duration": 19,
    "start_time": "2022-09-23T10:14:44.062Z"
   },
   {
    "duration": 27,
    "start_time": "2022-09-23T10:14:44.083Z"
   },
   {
    "duration": 11,
    "start_time": "2022-09-23T10:14:44.112Z"
   },
   {
    "duration": 11,
    "start_time": "2022-09-23T10:14:44.124Z"
   },
   {
    "duration": 11,
    "start_time": "2022-09-23T10:14:44.137Z"
   },
   {
    "duration": 12,
    "start_time": "2022-09-23T10:14:44.150Z"
   },
   {
    "duration": 9,
    "start_time": "2022-09-23T10:14:44.164Z"
   },
   {
    "duration": 175,
    "start_time": "2022-09-23T10:14:44.175Z"
   },
   {
    "duration": 15,
    "start_time": "2022-09-23T10:14:44.351Z"
   },
   {
    "duration": 433,
    "start_time": "2022-09-23T10:14:44.368Z"
   },
   {
    "duration": 37,
    "start_time": "2022-09-23T10:14:44.802Z"
   },
   {
    "duration": 28,
    "start_time": "2022-09-23T10:14:44.841Z"
   },
   {
    "duration": 101,
    "start_time": "2022-09-23T10:14:44.870Z"
   },
   {
    "duration": 112,
    "start_time": "2022-09-23T10:14:44.973Z"
   },
   {
    "duration": 18,
    "start_time": "2022-09-23T10:14:45.086Z"
   },
   {
    "duration": 45,
    "start_time": "2022-09-23T10:14:45.107Z"
   },
   {
    "duration": 15,
    "start_time": "2022-09-23T10:14:45.153Z"
   },
   {
    "duration": 52,
    "start_time": "2022-09-23T10:14:45.169Z"
   },
   {
    "duration": 11,
    "start_time": "2022-09-23T10:14:45.223Z"
   },
   {
    "duration": 371,
    "start_time": "2022-09-23T10:14:45.235Z"
   },
   {
    "duration": 363,
    "start_time": "2022-09-23T10:14:45.608Z"
   },
   {
    "duration": 395,
    "start_time": "2022-09-23T10:14:45.973Z"
   },
   {
    "duration": 35,
    "start_time": "2022-09-23T10:15:15.543Z"
   },
   {
    "duration": 1159,
    "start_time": "2022-09-23T10:15:23.459Z"
   },
   {
    "duration": 54,
    "start_time": "2022-09-23T10:15:24.620Z"
   },
   {
    "duration": 17,
    "start_time": "2022-09-23T10:15:24.676Z"
   },
   {
    "duration": 35,
    "start_time": "2022-09-23T10:15:24.695Z"
   },
   {
    "duration": 21,
    "start_time": "2022-09-23T10:15:24.732Z"
   },
   {
    "duration": 24,
    "start_time": "2022-09-23T10:15:24.755Z"
   },
   {
    "duration": 26,
    "start_time": "2022-09-23T10:15:24.781Z"
   },
   {
    "duration": 30,
    "start_time": "2022-09-23T10:15:24.809Z"
   },
   {
    "duration": 27,
    "start_time": "2022-09-23T10:15:24.841Z"
   },
   {
    "duration": 36,
    "start_time": "2022-09-23T10:15:24.869Z"
   },
   {
    "duration": 32,
    "start_time": "2022-09-23T10:15:24.907Z"
   },
   {
    "duration": 31,
    "start_time": "2022-09-23T10:15:24.940Z"
   },
   {
    "duration": 32,
    "start_time": "2022-09-23T10:15:24.973Z"
   },
   {
    "duration": 37,
    "start_time": "2022-09-23T10:15:25.008Z"
   },
   {
    "duration": 36,
    "start_time": "2022-09-23T10:15:25.047Z"
   },
   {
    "duration": 18,
    "start_time": "2022-09-23T10:15:25.085Z"
   },
   {
    "duration": 22,
    "start_time": "2022-09-23T10:15:25.104Z"
   },
   {
    "duration": 65,
    "start_time": "2022-09-23T10:15:25.128Z"
   },
   {
    "duration": 10,
    "start_time": "2022-09-23T10:15:25.195Z"
   },
   {
    "duration": 16,
    "start_time": "2022-09-23T10:15:25.207Z"
   },
   {
    "duration": 9,
    "start_time": "2022-09-23T10:15:25.225Z"
   },
   {
    "duration": 18,
    "start_time": "2022-09-23T10:15:25.236Z"
   },
   {
    "duration": 17,
    "start_time": "2022-09-23T10:15:25.255Z"
   },
   {
    "duration": 9,
    "start_time": "2022-09-23T10:15:25.273Z"
   },
   {
    "duration": 32,
    "start_time": "2022-09-23T10:15:25.283Z"
   },
   {
    "duration": 32,
    "start_time": "2022-09-23T10:15:25.316Z"
   },
   {
    "duration": 22,
    "start_time": "2022-09-23T10:15:25.350Z"
   },
   {
    "duration": 17,
    "start_time": "2022-09-23T10:15:25.374Z"
   },
   {
    "duration": 7,
    "start_time": "2022-09-23T10:15:25.393Z"
   },
   {
    "duration": 7,
    "start_time": "2022-09-23T10:15:25.401Z"
   },
   {
    "duration": 20,
    "start_time": "2022-09-23T10:15:25.410Z"
   },
   {
    "duration": 8,
    "start_time": "2022-09-23T10:15:25.432Z"
   },
   {
    "duration": 163,
    "start_time": "2022-09-23T10:15:25.441Z"
   },
   {
    "duration": 30,
    "start_time": "2022-09-23T10:15:25.605Z"
   },
   {
    "duration": 438,
    "start_time": "2022-09-23T10:15:25.637Z"
   },
   {
    "duration": 18,
    "start_time": "2022-09-23T10:15:26.076Z"
   },
   {
    "duration": 45,
    "start_time": "2022-09-23T10:15:26.095Z"
   },
   {
    "duration": 107,
    "start_time": "2022-09-23T10:15:26.141Z"
   },
   {
    "duration": 142,
    "start_time": "2022-09-23T10:15:26.250Z"
   },
   {
    "duration": 24,
    "start_time": "2022-09-23T10:15:26.394Z"
   },
   {
    "duration": 33,
    "start_time": "2022-09-23T10:15:26.437Z"
   },
   {
    "duration": 17,
    "start_time": "2022-09-23T10:15:26.472Z"
   },
   {
    "duration": 58,
    "start_time": "2022-09-23T10:15:26.491Z"
   },
   {
    "duration": 4,
    "start_time": "2022-09-23T10:15:26.551Z"
   },
   {
    "duration": 380,
    "start_time": "2022-09-23T10:15:26.557Z"
   },
   {
    "duration": 367,
    "start_time": "2022-09-23T10:15:26.939Z"
   },
   {
    "duration": 353,
    "start_time": "2022-09-23T10:15:27.308Z"
   },
   {
    "duration": 39,
    "start_time": "2022-09-23T10:15:57.047Z"
   },
   {
    "duration": 1150,
    "start_time": "2022-09-23T10:16:02.247Z"
   },
   {
    "duration": 55,
    "start_time": "2022-09-23T10:16:03.400Z"
   },
   {
    "duration": 13,
    "start_time": "2022-09-23T10:16:03.457Z"
   },
   {
    "duration": 15,
    "start_time": "2022-09-23T10:16:03.472Z"
   },
   {
    "duration": 8,
    "start_time": "2022-09-23T10:16:03.489Z"
   },
   {
    "duration": 15,
    "start_time": "2022-09-23T10:16:03.498Z"
   },
   {
    "duration": 38,
    "start_time": "2022-09-23T10:16:03.514Z"
   },
   {
    "duration": 18,
    "start_time": "2022-09-23T10:16:03.554Z"
   },
   {
    "duration": 20,
    "start_time": "2022-09-23T10:16:03.574Z"
   },
   {
    "duration": 39,
    "start_time": "2022-09-23T10:16:03.596Z"
   },
   {
    "duration": 6,
    "start_time": "2022-09-23T10:16:03.636Z"
   },
   {
    "duration": 8,
    "start_time": "2022-09-23T10:16:03.644Z"
   },
   {
    "duration": 7,
    "start_time": "2022-09-23T10:16:03.654Z"
   },
   {
    "duration": 13,
    "start_time": "2022-09-23T10:16:03.662Z"
   },
   {
    "duration": 33,
    "start_time": "2022-09-23T10:16:03.677Z"
   },
   {
    "duration": 22,
    "start_time": "2022-09-23T10:16:03.711Z"
   },
   {
    "duration": 19,
    "start_time": "2022-09-23T10:16:03.735Z"
   },
   {
    "duration": 56,
    "start_time": "2022-09-23T10:16:03.756Z"
   },
   {
    "duration": 9,
    "start_time": "2022-09-23T10:16:03.813Z"
   },
   {
    "duration": 27,
    "start_time": "2022-09-23T10:16:03.824Z"
   },
   {
    "duration": 17,
    "start_time": "2022-09-23T10:16:03.853Z"
   },
   {
    "duration": 33,
    "start_time": "2022-09-23T10:16:03.872Z"
   },
   {
    "duration": 11,
    "start_time": "2022-09-23T10:16:03.907Z"
   },
   {
    "duration": 8,
    "start_time": "2022-09-23T10:16:03.920Z"
   },
   {
    "duration": 17,
    "start_time": "2022-09-23T10:16:03.930Z"
   },
   {
    "duration": 15,
    "start_time": "2022-09-23T10:16:03.949Z"
   },
   {
    "duration": 18,
    "start_time": "2022-09-23T10:16:03.966Z"
   },
   {
    "duration": 16,
    "start_time": "2022-09-23T10:16:03.987Z"
   },
   {
    "duration": 12,
    "start_time": "2022-09-23T10:16:04.005Z"
   },
   {
    "duration": 14,
    "start_time": "2022-09-23T10:16:04.019Z"
   },
   {
    "duration": 8,
    "start_time": "2022-09-23T10:16:04.035Z"
   },
   {
    "duration": 9,
    "start_time": "2022-09-23T10:16:04.045Z"
   },
   {
    "duration": 151,
    "start_time": "2022-09-23T10:16:04.055Z"
   },
   {
    "duration": 26,
    "start_time": "2022-09-23T10:16:04.207Z"
   },
   {
    "duration": 422,
    "start_time": "2022-09-23T10:16:04.235Z"
   },
   {
    "duration": 17,
    "start_time": "2022-09-23T10:16:04.658Z"
   },
   {
    "duration": 68,
    "start_time": "2022-09-23T10:16:04.676Z"
   },
   {
    "duration": 46,
    "start_time": "2022-09-23T10:16:04.746Z"
   },
   {
    "duration": 106,
    "start_time": "2022-09-23T10:16:04.794Z"
   },
   {
    "duration": 33,
    "start_time": "2022-09-23T10:16:04.901Z"
   },
   {
    "duration": 26,
    "start_time": "2022-09-23T10:16:04.936Z"
   },
   {
    "duration": 14,
    "start_time": "2022-09-23T10:16:04.963Z"
   },
   {
    "duration": 62,
    "start_time": "2022-09-23T10:16:04.979Z"
   },
   {
    "duration": 5,
    "start_time": "2022-09-23T10:16:05.043Z"
   },
   {
    "duration": 407,
    "start_time": "2022-09-23T10:16:05.049Z"
   },
   {
    "duration": 391,
    "start_time": "2022-09-23T10:16:05.458Z"
   },
   {
    "duration": 394,
    "start_time": "2022-09-23T10:16:05.851Z"
   },
   {
    "duration": 37,
    "start_time": "2022-09-23T10:16:24.065Z"
   },
   {
    "duration": 53,
    "start_time": "2022-09-23T10:17:35.265Z"
   },
   {
    "duration": 114,
    "start_time": "2022-09-23T10:17:43.745Z"
   },
   {
    "duration": 38,
    "start_time": "2022-09-23T10:18:06.587Z"
   },
   {
    "duration": 37,
    "start_time": "2022-09-23T10:18:50.713Z"
   },
   {
    "duration": 11,
    "start_time": "2022-09-23T10:26:22.698Z"
   },
   {
    "duration": 13,
    "start_time": "2022-09-23T10:29:58.552Z"
   },
   {
    "duration": 73,
    "start_time": "2022-09-23T10:34:44.566Z"
   },
   {
    "duration": 156,
    "start_time": "2022-09-23T10:35:45.970Z"
   },
   {
    "duration": 71,
    "start_time": "2022-09-23T10:36:00.758Z"
   },
   {
    "duration": 64,
    "start_time": "2022-09-23T10:36:10.370Z"
   },
   {
    "duration": 13,
    "start_time": "2022-09-23T10:42:12.180Z"
   },
   {
    "duration": 11,
    "start_time": "2022-09-23T10:42:43.508Z"
   },
   {
    "duration": 25,
    "start_time": "2022-09-23T10:43:11.516Z"
   },
   {
    "duration": 16,
    "start_time": "2022-09-23T10:43:33.852Z"
   },
   {
    "duration": 419,
    "start_time": "2022-09-23T11:02:11.049Z"
   },
   {
    "duration": 432,
    "start_time": "2022-09-23T11:03:06.497Z"
   },
   {
    "duration": 16,
    "start_time": "2022-09-23T11:05:58.291Z"
   },
   {
    "duration": 5,
    "start_time": "2022-09-23T11:14:27.927Z"
   },
   {
    "duration": 1120,
    "start_time": "2022-09-23T11:14:33.185Z"
   },
   {
    "duration": 60,
    "start_time": "2022-09-23T11:14:34.307Z"
   },
   {
    "duration": 14,
    "start_time": "2022-09-23T11:14:34.368Z"
   },
   {
    "duration": 20,
    "start_time": "2022-09-23T11:14:34.384Z"
   },
   {
    "duration": 8,
    "start_time": "2022-09-23T11:14:34.406Z"
   },
   {
    "duration": 13,
    "start_time": "2022-09-23T11:14:34.434Z"
   },
   {
    "duration": 24,
    "start_time": "2022-09-23T11:14:34.449Z"
   },
   {
    "duration": 20,
    "start_time": "2022-09-23T11:14:34.475Z"
   },
   {
    "duration": 24,
    "start_time": "2022-09-23T11:14:34.497Z"
   },
   {
    "duration": 29,
    "start_time": "2022-09-23T11:14:34.535Z"
   },
   {
    "duration": 6,
    "start_time": "2022-09-23T11:14:34.566Z"
   },
   {
    "duration": 9,
    "start_time": "2022-09-23T11:14:34.573Z"
   },
   {
    "duration": 5,
    "start_time": "2022-09-23T11:14:34.584Z"
   },
   {
    "duration": 12,
    "start_time": "2022-09-23T11:14:34.591Z"
   },
   {
    "duration": 50,
    "start_time": "2022-09-23T11:14:34.604Z"
   },
   {
    "duration": 16,
    "start_time": "2022-09-23T11:14:34.655Z"
   },
   {
    "duration": 7,
    "start_time": "2022-09-23T11:14:34.673Z"
   },
   {
    "duration": 72,
    "start_time": "2022-09-23T11:14:34.682Z"
   },
   {
    "duration": 10,
    "start_time": "2022-09-23T11:14:34.756Z"
   },
   {
    "duration": 9,
    "start_time": "2022-09-23T11:14:34.767Z"
   },
   {
    "duration": 4,
    "start_time": "2022-09-23T11:14:34.778Z"
   },
   {
    "duration": 17,
    "start_time": "2022-09-23T11:14:34.784Z"
   },
   {
    "duration": 5,
    "start_time": "2022-09-23T11:14:34.803Z"
   },
   {
    "duration": 34,
    "start_time": "2022-09-23T11:14:34.809Z"
   },
   {
    "duration": 12,
    "start_time": "2022-09-23T11:14:34.845Z"
   },
   {
    "duration": 24,
    "start_time": "2022-09-23T11:14:34.858Z"
   },
   {
    "duration": 20,
    "start_time": "2022-09-23T11:14:34.883Z"
   },
   {
    "duration": 7,
    "start_time": "2022-09-23T11:14:34.906Z"
   },
   {
    "duration": 10,
    "start_time": "2022-09-23T11:14:34.914Z"
   },
   {
    "duration": 18,
    "start_time": "2022-09-23T11:14:34.925Z"
   },
   {
    "duration": 16,
    "start_time": "2022-09-23T11:14:34.945Z"
   },
   {
    "duration": 12,
    "start_time": "2022-09-23T11:14:34.962Z"
   },
   {
    "duration": 135,
    "start_time": "2022-09-23T11:14:34.975Z"
   },
   {
    "duration": 34,
    "start_time": "2022-09-23T11:14:35.112Z"
   },
   {
    "duration": 435,
    "start_time": "2022-09-23T11:14:35.148Z"
   },
   {
    "duration": 17,
    "start_time": "2022-09-23T11:14:35.585Z"
   },
   {
    "duration": 44,
    "start_time": "2022-09-23T11:14:35.604Z"
   },
   {
    "duration": 44,
    "start_time": "2022-09-23T11:14:35.650Z"
   },
   {
    "duration": 75,
    "start_time": "2022-09-23T11:14:35.734Z"
   },
   {
    "duration": 39,
    "start_time": "2022-09-23T11:14:35.810Z"
   },
   {
    "duration": 26,
    "start_time": "2022-09-23T11:14:35.851Z"
   },
   {
    "duration": 14,
    "start_time": "2022-09-23T11:14:35.879Z"
   },
   {
    "duration": 71,
    "start_time": "2022-09-23T11:14:35.895Z"
   },
   {
    "duration": 11,
    "start_time": "2022-09-23T11:14:35.967Z"
   },
   {
    "duration": 35,
    "start_time": "2022-09-23T11:14:35.980Z"
   },
   {
    "duration": 86,
    "start_time": "2022-09-23T11:14:36.016Z"
   },
   {
    "duration": 72,
    "start_time": "2022-09-23T11:14:36.103Z"
   },
   {
    "duration": 0,
    "start_time": "2022-09-23T11:14:36.177Z"
   },
   {
    "duration": 0,
    "start_time": "2022-09-23T11:14:36.179Z"
   },
   {
    "duration": 0,
    "start_time": "2022-09-23T11:14:36.180Z"
   },
   {
    "duration": 0,
    "start_time": "2022-09-23T11:14:36.182Z"
   },
   {
    "duration": 0,
    "start_time": "2022-09-23T11:14:36.183Z"
   },
   {
    "duration": 0,
    "start_time": "2022-09-23T11:14:36.185Z"
   },
   {
    "duration": 0,
    "start_time": "2022-09-23T11:14:36.186Z"
   },
   {
    "duration": 0,
    "start_time": "2022-09-23T11:14:36.187Z"
   },
   {
    "duration": 150,
    "start_time": "2022-09-23T11:15:10.059Z"
   },
   {
    "duration": 13,
    "start_time": "2022-09-23T11:15:23.592Z"
   },
   {
    "duration": 1253,
    "start_time": "2022-09-23T11:15:28.661Z"
   },
   {
    "duration": 61,
    "start_time": "2022-09-23T11:15:29.916Z"
   },
   {
    "duration": 13,
    "start_time": "2022-09-23T11:15:29.979Z"
   },
   {
    "duration": 38,
    "start_time": "2022-09-23T11:15:29.994Z"
   },
   {
    "duration": 17,
    "start_time": "2022-09-23T11:15:30.036Z"
   },
   {
    "duration": 15,
    "start_time": "2022-09-23T11:15:30.055Z"
   },
   {
    "duration": 77,
    "start_time": "2022-09-23T11:15:30.072Z"
   },
   {
    "duration": 48,
    "start_time": "2022-09-23T11:15:30.151Z"
   },
   {
    "duration": 22,
    "start_time": "2022-09-23T11:15:30.201Z"
   },
   {
    "duration": 43,
    "start_time": "2022-09-23T11:15:30.225Z"
   },
   {
    "duration": 30,
    "start_time": "2022-09-23T11:15:30.269Z"
   },
   {
    "duration": 66,
    "start_time": "2022-09-23T11:15:30.300Z"
   },
   {
    "duration": 26,
    "start_time": "2022-09-23T11:15:30.368Z"
   },
   {
    "duration": 40,
    "start_time": "2022-09-23T11:15:30.397Z"
   },
   {
    "duration": 78,
    "start_time": "2022-09-23T11:15:30.439Z"
   },
   {
    "duration": 61,
    "start_time": "2022-09-23T11:15:30.519Z"
   },
   {
    "duration": 41,
    "start_time": "2022-09-23T11:15:30.582Z"
   },
   {
    "duration": 106,
    "start_time": "2022-09-23T11:15:30.625Z"
   },
   {
    "duration": 18,
    "start_time": "2022-09-23T11:15:30.733Z"
   },
   {
    "duration": 44,
    "start_time": "2022-09-23T11:15:30.753Z"
   },
   {
    "duration": 40,
    "start_time": "2022-09-23T11:15:30.799Z"
   },
   {
    "duration": 46,
    "start_time": "2022-09-23T11:15:30.841Z"
   },
   {
    "duration": 29,
    "start_time": "2022-09-23T11:15:30.888Z"
   },
   {
    "duration": 28,
    "start_time": "2022-09-23T11:15:30.919Z"
   },
   {
    "duration": 35,
    "start_time": "2022-09-23T11:15:30.949Z"
   },
   {
    "duration": 63,
    "start_time": "2022-09-23T11:15:30.987Z"
   },
   {
    "duration": 43,
    "start_time": "2022-09-23T11:15:31.052Z"
   },
   {
    "duration": 22,
    "start_time": "2022-09-23T11:15:31.097Z"
   },
   {
    "duration": 24,
    "start_time": "2022-09-23T11:15:31.121Z"
   },
   {
    "duration": 25,
    "start_time": "2022-09-23T11:15:31.147Z"
   },
   {
    "duration": 25,
    "start_time": "2022-09-23T11:15:31.174Z"
   },
   {
    "duration": 67,
    "start_time": "2022-09-23T11:15:31.201Z"
   },
   {
    "duration": 176,
    "start_time": "2022-09-23T11:15:31.270Z"
   },
   {
    "duration": 18,
    "start_time": "2022-09-23T11:15:31.449Z"
   },
   {
    "duration": 456,
    "start_time": "2022-09-23T11:15:31.469Z"
   },
   {
    "duration": 26,
    "start_time": "2022-09-23T11:15:31.927Z"
   },
   {
    "duration": 37,
    "start_time": "2022-09-23T11:15:31.954Z"
   },
   {
    "duration": 53,
    "start_time": "2022-09-23T11:15:32.036Z"
   },
   {
    "duration": 110,
    "start_time": "2022-09-23T11:15:32.090Z"
   },
   {
    "duration": 33,
    "start_time": "2022-09-23T11:15:32.203Z"
   },
   {
    "duration": 43,
    "start_time": "2022-09-23T11:15:32.241Z"
   },
   {
    "duration": 16,
    "start_time": "2022-09-23T11:15:32.287Z"
   },
   {
    "duration": 62,
    "start_time": "2022-09-23T11:15:32.305Z"
   },
   {
    "duration": 11,
    "start_time": "2022-09-23T11:15:32.369Z"
   },
   {
    "duration": 27,
    "start_time": "2022-09-23T11:15:32.382Z"
   },
   {
    "duration": 77,
    "start_time": "2022-09-23T11:15:32.411Z"
   },
   {
    "duration": 66,
    "start_time": "2022-09-23T11:15:32.489Z"
   },
   {
    "duration": 0,
    "start_time": "2022-09-23T11:15:32.557Z"
   },
   {
    "duration": 0,
    "start_time": "2022-09-23T11:15:32.558Z"
   },
   {
    "duration": 0,
    "start_time": "2022-09-23T11:15:32.559Z"
   },
   {
    "duration": 0,
    "start_time": "2022-09-23T11:15:32.560Z"
   },
   {
    "duration": 0,
    "start_time": "2022-09-23T11:15:32.561Z"
   },
   {
    "duration": 0,
    "start_time": "2022-09-23T11:15:32.562Z"
   },
   {
    "duration": 0,
    "start_time": "2022-09-23T11:15:32.563Z"
   },
   {
    "duration": 0,
    "start_time": "2022-09-23T11:15:32.565Z"
   },
   {
    "duration": 0,
    "start_time": "2022-09-23T11:15:32.566Z"
   },
   {
    "duration": 162,
    "start_time": "2022-09-23T11:16:14.324Z"
   },
   {
    "duration": 1240,
    "start_time": "2022-09-23T11:16:22.158Z"
   },
   {
    "duration": 58,
    "start_time": "2022-09-23T11:16:23.400Z"
   },
   {
    "duration": 14,
    "start_time": "2022-09-23T11:16:23.460Z"
   },
   {
    "duration": 17,
    "start_time": "2022-09-23T11:16:23.476Z"
   },
   {
    "duration": 9,
    "start_time": "2022-09-23T11:16:23.494Z"
   },
   {
    "duration": 35,
    "start_time": "2022-09-23T11:16:23.504Z"
   },
   {
    "duration": 21,
    "start_time": "2022-09-23T11:16:23.541Z"
   },
   {
    "duration": 20,
    "start_time": "2022-09-23T11:16:23.564Z"
   },
   {
    "duration": 19,
    "start_time": "2022-09-23T11:16:23.585Z"
   },
   {
    "duration": 43,
    "start_time": "2022-09-23T11:16:23.607Z"
   },
   {
    "duration": 6,
    "start_time": "2022-09-23T11:16:23.652Z"
   },
   {
    "duration": 10,
    "start_time": "2022-09-23T11:16:23.659Z"
   },
   {
    "duration": 5,
    "start_time": "2022-09-23T11:16:23.670Z"
   },
   {
    "duration": 5,
    "start_time": "2022-09-23T11:16:23.677Z"
   },
   {
    "duration": 25,
    "start_time": "2022-09-23T11:16:23.684Z"
   },
   {
    "duration": 37,
    "start_time": "2022-09-23T11:16:23.711Z"
   },
   {
    "duration": 5,
    "start_time": "2022-09-23T11:16:23.752Z"
   },
   {
    "duration": 53,
    "start_time": "2022-09-23T11:16:23.759Z"
   },
   {
    "duration": 20,
    "start_time": "2022-09-23T11:16:23.813Z"
   },
   {
    "duration": 14,
    "start_time": "2022-09-23T11:16:23.835Z"
   },
   {
    "duration": 15,
    "start_time": "2022-09-23T11:16:23.851Z"
   },
   {
    "duration": 15,
    "start_time": "2022-09-23T11:16:23.868Z"
   },
   {
    "duration": 5,
    "start_time": "2022-09-23T11:16:23.884Z"
   },
   {
    "duration": 6,
    "start_time": "2022-09-23T11:16:23.891Z"
   },
   {
    "duration": 14,
    "start_time": "2022-09-23T11:16:23.898Z"
   },
   {
    "duration": 37,
    "start_time": "2022-09-23T11:16:23.913Z"
   },
   {
    "duration": 19,
    "start_time": "2022-09-23T11:16:23.951Z"
   },
   {
    "duration": 6,
    "start_time": "2022-09-23T11:16:23.974Z"
   },
   {
    "duration": 6,
    "start_time": "2022-09-23T11:16:23.982Z"
   },
   {
    "duration": 6,
    "start_time": "2022-09-23T11:16:23.989Z"
   },
   {
    "duration": 12,
    "start_time": "2022-09-23T11:16:23.996Z"
   },
   {
    "duration": 35,
    "start_time": "2022-09-23T11:16:24.009Z"
   },
   {
    "duration": 149,
    "start_time": "2022-09-23T11:16:24.046Z"
   },
   {
    "duration": 17,
    "start_time": "2022-09-23T11:16:24.197Z"
   },
   {
    "duration": 458,
    "start_time": "2022-09-23T11:16:24.216Z"
   },
   {
    "duration": 19,
    "start_time": "2022-09-23T11:16:24.676Z"
   },
   {
    "duration": 46,
    "start_time": "2022-09-23T11:16:24.696Z"
   },
   {
    "duration": 110,
    "start_time": "2022-09-23T11:16:24.743Z"
   },
   {
    "duration": 90,
    "start_time": "2022-09-23T11:16:24.854Z"
   },
   {
    "duration": 22,
    "start_time": "2022-09-23T11:16:24.949Z"
   },
   {
    "duration": 27,
    "start_time": "2022-09-23T11:16:24.972Z"
   },
   {
    "duration": 41,
    "start_time": "2022-09-23T11:16:25.000Z"
   },
   {
    "duration": 66,
    "start_time": "2022-09-23T11:16:25.048Z"
   },
   {
    "duration": 11,
    "start_time": "2022-09-23T11:16:25.116Z"
   },
   {
    "duration": 18,
    "start_time": "2022-09-23T11:16:25.133Z"
   },
   {
    "duration": 93,
    "start_time": "2022-09-23T11:16:25.153Z"
   },
   {
    "duration": 60,
    "start_time": "2022-09-23T11:16:25.248Z"
   },
   {
    "duration": 0,
    "start_time": "2022-09-23T11:16:25.310Z"
   },
   {
    "duration": 0,
    "start_time": "2022-09-23T11:16:25.311Z"
   },
   {
    "duration": 0,
    "start_time": "2022-09-23T11:16:25.313Z"
   },
   {
    "duration": 0,
    "start_time": "2022-09-23T11:16:25.314Z"
   },
   {
    "duration": 0,
    "start_time": "2022-09-23T11:16:25.315Z"
   },
   {
    "duration": 0,
    "start_time": "2022-09-23T11:16:25.317Z"
   },
   {
    "duration": 0,
    "start_time": "2022-09-23T11:16:25.318Z"
   },
   {
    "duration": 0,
    "start_time": "2022-09-23T11:16:25.319Z"
   },
   {
    "duration": 0,
    "start_time": "2022-09-23T11:16:25.322Z"
   },
   {
    "duration": 54,
    "start_time": "2022-09-23T11:17:44.582Z"
   },
   {
    "duration": 1159,
    "start_time": "2022-09-23T11:17:56.780Z"
   },
   {
    "duration": 55,
    "start_time": "2022-09-23T11:17:57.941Z"
   },
   {
    "duration": 15,
    "start_time": "2022-09-23T11:17:57.998Z"
   },
   {
    "duration": 16,
    "start_time": "2022-09-23T11:17:58.014Z"
   },
   {
    "duration": 17,
    "start_time": "2022-09-23T11:17:58.032Z"
   },
   {
    "duration": 27,
    "start_time": "2022-09-23T11:17:58.050Z"
   },
   {
    "duration": 28,
    "start_time": "2022-09-23T11:17:58.079Z"
   },
   {
    "duration": 19,
    "start_time": "2022-09-23T11:17:58.108Z"
   },
   {
    "duration": 28,
    "start_time": "2022-09-23T11:17:58.128Z"
   },
   {
    "duration": 51,
    "start_time": "2022-09-23T11:17:58.158Z"
   },
   {
    "duration": 10,
    "start_time": "2022-09-23T11:17:58.210Z"
   },
   {
    "duration": 10,
    "start_time": "2022-09-23T11:17:58.222Z"
   },
   {
    "duration": 8,
    "start_time": "2022-09-23T11:17:58.242Z"
   },
   {
    "duration": 10,
    "start_time": "2022-09-23T11:17:58.252Z"
   },
   {
    "duration": 25,
    "start_time": "2022-09-23T11:17:58.263Z"
   },
   {
    "duration": 15,
    "start_time": "2022-09-23T11:17:58.289Z"
   },
   {
    "duration": 11,
    "start_time": "2022-09-23T11:17:58.305Z"
   },
   {
    "duration": 59,
    "start_time": "2022-09-23T11:17:58.317Z"
   },
   {
    "duration": 9,
    "start_time": "2022-09-23T11:17:58.377Z"
   },
   {
    "duration": 9,
    "start_time": "2022-09-23T11:17:58.388Z"
   },
   {
    "duration": 13,
    "start_time": "2022-09-23T11:17:58.399Z"
   },
   {
    "duration": 30,
    "start_time": "2022-09-23T11:17:58.414Z"
   },
   {
    "duration": 15,
    "start_time": "2022-09-23T11:17:58.446Z"
   },
   {
    "duration": 10,
    "start_time": "2022-09-23T11:17:58.463Z"
   },
   {
    "duration": 13,
    "start_time": "2022-09-23T11:17:58.475Z"
   },
   {
    "duration": 16,
    "start_time": "2022-09-23T11:17:58.489Z"
   },
   {
    "duration": 37,
    "start_time": "2022-09-23T11:17:58.507Z"
   },
   {
    "duration": 20,
    "start_time": "2022-09-23T11:17:58.546Z"
   },
   {
    "duration": 8,
    "start_time": "2022-09-23T11:17:58.568Z"
   },
   {
    "duration": 11,
    "start_time": "2022-09-23T11:17:58.578Z"
   },
   {
    "duration": 13,
    "start_time": "2022-09-23T11:17:58.590Z"
   },
   {
    "duration": 13,
    "start_time": "2022-09-23T11:17:58.604Z"
   },
   {
    "duration": 169,
    "start_time": "2022-09-23T11:17:58.618Z"
   },
   {
    "duration": 21,
    "start_time": "2022-09-23T11:17:58.789Z"
   },
   {
    "duration": 442,
    "start_time": "2022-09-23T11:17:58.811Z"
   },
   {
    "duration": 23,
    "start_time": "2022-09-23T11:17:59.255Z"
   },
   {
    "duration": 65,
    "start_time": "2022-09-23T11:17:59.280Z"
   },
   {
    "duration": 92,
    "start_time": "2022-09-23T11:17:59.348Z"
   },
   {
    "duration": 73,
    "start_time": "2022-09-23T11:17:59.441Z"
   },
   {
    "duration": 38,
    "start_time": "2022-09-23T11:17:59.515Z"
   },
   {
    "duration": 30,
    "start_time": "2022-09-23T11:17:59.557Z"
   },
   {
    "duration": 14,
    "start_time": "2022-09-23T11:17:59.588Z"
   },
   {
    "duration": 64,
    "start_time": "2022-09-23T11:17:59.603Z"
   },
   {
    "duration": 12,
    "start_time": "2022-09-23T11:17:59.668Z"
   },
   {
    "duration": 27,
    "start_time": "2022-09-23T11:17:59.681Z"
   },
   {
    "duration": 88,
    "start_time": "2022-09-23T11:17:59.709Z"
   },
   {
    "duration": 61,
    "start_time": "2022-09-23T11:17:59.799Z"
   },
   {
    "duration": 0,
    "start_time": "2022-09-23T11:17:59.861Z"
   },
   {
    "duration": 1,
    "start_time": "2022-09-23T11:17:59.862Z"
   },
   {
    "duration": 0,
    "start_time": "2022-09-23T11:17:59.864Z"
   },
   {
    "duration": 0,
    "start_time": "2022-09-23T11:17:59.866Z"
   },
   {
    "duration": 0,
    "start_time": "2022-09-23T11:17:59.868Z"
   },
   {
    "duration": 0,
    "start_time": "2022-09-23T11:17:59.869Z"
   },
   {
    "duration": 0,
    "start_time": "2022-09-23T11:17:59.871Z"
   },
   {
    "duration": 0,
    "start_time": "2022-09-23T11:17:59.872Z"
   },
   {
    "duration": 0,
    "start_time": "2022-09-23T11:17:59.873Z"
   },
   {
    "duration": 1240,
    "start_time": "2022-09-23T11:18:47.366Z"
   },
   {
    "duration": 61,
    "start_time": "2022-09-23T11:18:48.608Z"
   },
   {
    "duration": 14,
    "start_time": "2022-09-23T11:18:48.670Z"
   },
   {
    "duration": 20,
    "start_time": "2022-09-23T11:18:48.686Z"
   },
   {
    "duration": 40,
    "start_time": "2022-09-23T11:18:48.708Z"
   },
   {
    "duration": 6,
    "start_time": "2022-09-23T11:18:48.750Z"
   },
   {
    "duration": 39,
    "start_time": "2022-09-23T11:18:48.758Z"
   },
   {
    "duration": 25,
    "start_time": "2022-09-23T11:18:48.798Z"
   },
   {
    "duration": 25,
    "start_time": "2022-09-23T11:18:48.825Z"
   },
   {
    "duration": 28,
    "start_time": "2022-09-23T11:18:48.853Z"
   },
   {
    "duration": 24,
    "start_time": "2022-09-23T11:18:48.882Z"
   },
   {
    "duration": 27,
    "start_time": "2022-09-23T11:18:48.908Z"
   },
   {
    "duration": 21,
    "start_time": "2022-09-23T11:18:48.936Z"
   },
   {
    "duration": 26,
    "start_time": "2022-09-23T11:18:48.958Z"
   },
   {
    "duration": 36,
    "start_time": "2022-09-23T11:18:48.986Z"
   },
   {
    "duration": 28,
    "start_time": "2022-09-23T11:18:49.023Z"
   },
   {
    "duration": 8,
    "start_time": "2022-09-23T11:18:49.053Z"
   },
   {
    "duration": 56,
    "start_time": "2022-09-23T11:18:49.062Z"
   },
   {
    "duration": 19,
    "start_time": "2022-09-23T11:18:49.121Z"
   },
   {
    "duration": 20,
    "start_time": "2022-09-23T11:18:49.145Z"
   },
   {
    "duration": 11,
    "start_time": "2022-09-23T11:18:49.167Z"
   },
   {
    "duration": 33,
    "start_time": "2022-09-23T11:18:49.180Z"
   },
   {
    "duration": 6,
    "start_time": "2022-09-23T11:18:49.214Z"
   },
   {
    "duration": 40,
    "start_time": "2022-09-23T11:18:49.221Z"
   },
   {
    "duration": 30,
    "start_time": "2022-09-23T11:18:49.263Z"
   },
   {
    "duration": 45,
    "start_time": "2022-09-23T11:18:49.295Z"
   },
   {
    "duration": 69,
    "start_time": "2022-09-23T11:18:49.342Z"
   },
   {
    "duration": 15,
    "start_time": "2022-09-23T11:18:49.415Z"
   },
   {
    "duration": 40,
    "start_time": "2022-09-23T11:18:49.431Z"
   },
   {
    "duration": 28,
    "start_time": "2022-09-23T11:18:49.473Z"
   },
   {
    "duration": 27,
    "start_time": "2022-09-23T11:18:49.502Z"
   },
   {
    "duration": 49,
    "start_time": "2022-09-23T11:18:49.531Z"
   },
   {
    "duration": 175,
    "start_time": "2022-09-23T11:18:49.581Z"
   },
   {
    "duration": 22,
    "start_time": "2022-09-23T11:18:49.757Z"
   },
   {
    "duration": 469,
    "start_time": "2022-09-23T11:18:49.782Z"
   },
   {
    "duration": 17,
    "start_time": "2022-09-23T11:18:50.253Z"
   },
   {
    "duration": 78,
    "start_time": "2022-09-23T11:18:50.272Z"
   },
   {
    "duration": 96,
    "start_time": "2022-09-23T11:18:50.352Z"
   },
   {
    "duration": 73,
    "start_time": "2022-09-23T11:18:50.450Z"
   },
   {
    "duration": 23,
    "start_time": "2022-09-23T11:18:50.533Z"
   },
   {
    "duration": 44,
    "start_time": "2022-09-23T11:18:50.557Z"
   },
   {
    "duration": 15,
    "start_time": "2022-09-23T11:18:50.603Z"
   },
   {
    "duration": 69,
    "start_time": "2022-09-23T11:18:50.619Z"
   },
   {
    "duration": 11,
    "start_time": "2022-09-23T11:18:50.689Z"
   },
   {
    "duration": 41,
    "start_time": "2022-09-23T11:18:50.702Z"
   },
   {
    "duration": 119,
    "start_time": "2022-09-23T11:18:50.747Z"
   },
   {
    "duration": 17,
    "start_time": "2022-09-23T11:18:50.868Z"
   },
   {
    "duration": 528,
    "start_time": "2022-09-23T11:18:50.887Z"
   },
   {
    "duration": 32,
    "start_time": "2022-09-23T11:18:51.417Z"
   },
   {
    "duration": 52,
    "start_time": "2022-09-23T11:18:51.451Z"
   },
   {
    "duration": 0,
    "start_time": "2022-09-23T11:18:51.505Z"
   },
   {
    "duration": 0,
    "start_time": "2022-09-23T11:18:51.506Z"
   },
   {
    "duration": 0,
    "start_time": "2022-09-23T11:18:51.507Z"
   },
   {
    "duration": 0,
    "start_time": "2022-09-23T11:18:51.507Z"
   },
   {
    "duration": 0,
    "start_time": "2022-09-23T11:18:51.509Z"
   },
   {
    "duration": 6,
    "start_time": "2022-09-23T11:19:16.383Z"
   },
   {
    "duration": 1197,
    "start_time": "2022-09-23T11:19:22.010Z"
   },
   {
    "duration": 65,
    "start_time": "2022-09-23T11:19:23.209Z"
   },
   {
    "duration": 14,
    "start_time": "2022-09-23T11:19:23.276Z"
   },
   {
    "duration": 22,
    "start_time": "2022-09-23T11:19:23.292Z"
   },
   {
    "duration": 8,
    "start_time": "2022-09-23T11:19:23.316Z"
   },
   {
    "duration": 4,
    "start_time": "2022-09-23T11:19:23.326Z"
   },
   {
    "duration": 35,
    "start_time": "2022-09-23T11:19:23.334Z"
   },
   {
    "duration": 21,
    "start_time": "2022-09-23T11:19:23.371Z"
   },
   {
    "duration": 22,
    "start_time": "2022-09-23T11:19:23.393Z"
   },
   {
    "duration": 21,
    "start_time": "2022-09-23T11:19:23.437Z"
   },
   {
    "duration": 6,
    "start_time": "2022-09-23T11:19:23.459Z"
   },
   {
    "duration": 17,
    "start_time": "2022-09-23T11:19:23.466Z"
   },
   {
    "duration": 5,
    "start_time": "2022-09-23T11:19:23.484Z"
   },
   {
    "duration": 9,
    "start_time": "2022-09-23T11:19:23.490Z"
   },
   {
    "duration": 25,
    "start_time": "2022-09-23T11:19:23.501Z"
   },
   {
    "duration": 30,
    "start_time": "2022-09-23T11:19:23.527Z"
   },
   {
    "duration": 9,
    "start_time": "2022-09-23T11:19:23.558Z"
   },
   {
    "duration": 54,
    "start_time": "2022-09-23T11:19:23.569Z"
   },
   {
    "duration": 24,
    "start_time": "2022-09-23T11:19:23.625Z"
   },
   {
    "duration": 12,
    "start_time": "2022-09-23T11:19:23.653Z"
   },
   {
    "duration": 6,
    "start_time": "2022-09-23T11:19:23.667Z"
   },
   {
    "duration": 15,
    "start_time": "2022-09-23T11:19:23.674Z"
   },
   {
    "duration": 5,
    "start_time": "2022-09-23T11:19:23.690Z"
   },
   {
    "duration": 6,
    "start_time": "2022-09-23T11:19:23.696Z"
   },
   {
    "duration": 41,
    "start_time": "2022-09-23T11:19:23.703Z"
   },
   {
    "duration": 15,
    "start_time": "2022-09-23T11:19:23.746Z"
   },
   {
    "duration": 15,
    "start_time": "2022-09-23T11:19:23.763Z"
   },
   {
    "duration": 7,
    "start_time": "2022-09-23T11:19:23.782Z"
   },
   {
    "duration": 7,
    "start_time": "2022-09-23T11:19:23.791Z"
   },
   {
    "duration": 6,
    "start_time": "2022-09-23T11:19:23.799Z"
   },
   {
    "duration": 38,
    "start_time": "2022-09-23T11:19:23.806Z"
   },
   {
    "duration": 13,
    "start_time": "2022-09-23T11:19:23.846Z"
   },
   {
    "duration": 144,
    "start_time": "2022-09-23T11:19:23.861Z"
   },
   {
    "duration": 15,
    "start_time": "2022-09-23T11:19:24.007Z"
   },
   {
    "duration": 441,
    "start_time": "2022-09-23T11:19:24.023Z"
   },
   {
    "duration": 18,
    "start_time": "2022-09-23T11:19:24.466Z"
   },
   {
    "duration": 21,
    "start_time": "2022-09-23T11:19:24.485Z"
   },
   {
    "duration": 133,
    "start_time": "2022-09-23T11:19:24.508Z"
   },
   {
    "duration": 72,
    "start_time": "2022-09-23T11:19:24.642Z"
   },
   {
    "duration": 46,
    "start_time": "2022-09-23T11:19:24.715Z"
   },
   {
    "duration": 26,
    "start_time": "2022-09-23T11:19:24.762Z"
   },
   {
    "duration": 14,
    "start_time": "2022-09-23T11:19:24.790Z"
   },
   {
    "duration": 68,
    "start_time": "2022-09-23T11:19:24.806Z"
   },
   {
    "duration": 11,
    "start_time": "2022-09-23T11:19:24.876Z"
   },
   {
    "duration": 12,
    "start_time": "2022-09-23T11:19:24.889Z"
   },
   {
    "duration": 83,
    "start_time": "2022-09-23T11:19:24.902Z"
   },
   {
    "duration": 18,
    "start_time": "2022-09-23T11:19:24.987Z"
   },
   {
    "duration": 457,
    "start_time": "2022-09-23T11:19:25.006Z"
   },
   {
    "duration": 15,
    "start_time": "2022-09-23T11:19:25.465Z"
   },
   {
    "duration": 4,
    "start_time": "2022-09-23T11:19:25.482Z"
   },
   {
    "duration": 24,
    "start_time": "2022-09-23T11:19:25.488Z"
   },
   {
    "duration": 6,
    "start_time": "2022-09-23T11:19:25.514Z"
   },
   {
    "duration": 361,
    "start_time": "2022-09-23T11:19:25.540Z"
   },
   {
    "duration": 393,
    "start_time": "2022-09-23T11:19:25.902Z"
   },
   {
    "duration": 411,
    "start_time": "2022-09-23T11:19:26.297Z"
   },
   {
    "duration": 525,
    "start_time": "2022-09-23T11:20:27.149Z"
   },
   {
    "duration": 1268,
    "start_time": "2022-09-23T11:20:59.845Z"
   },
   {
    "duration": 62,
    "start_time": "2022-09-23T11:21:01.115Z"
   },
   {
    "duration": 14,
    "start_time": "2022-09-23T11:21:01.179Z"
   },
   {
    "duration": 47,
    "start_time": "2022-09-23T11:21:01.195Z"
   },
   {
    "duration": 45,
    "start_time": "2022-09-23T11:21:01.245Z"
   },
   {
    "duration": 69,
    "start_time": "2022-09-23T11:21:01.292Z"
   },
   {
    "duration": 90,
    "start_time": "2022-09-23T11:21:01.362Z"
   },
   {
    "duration": 27,
    "start_time": "2022-09-23T11:21:01.454Z"
   },
   {
    "duration": 30,
    "start_time": "2022-09-23T11:21:01.482Z"
   },
   {
    "duration": 32,
    "start_time": "2022-09-23T11:21:01.515Z"
   },
   {
    "duration": 37,
    "start_time": "2022-09-23T11:21:01.549Z"
   },
   {
    "duration": 44,
    "start_time": "2022-09-23T11:21:01.587Z"
   },
   {
    "duration": 30,
    "start_time": "2022-09-23T11:21:01.635Z"
   },
   {
    "duration": 58,
    "start_time": "2022-09-23T11:21:01.668Z"
   },
   {
    "duration": 54,
    "start_time": "2022-09-23T11:21:01.728Z"
   },
   {
    "duration": 43,
    "start_time": "2022-09-23T11:21:01.784Z"
   },
   {
    "duration": 116,
    "start_time": "2022-09-23T11:21:01.829Z"
   },
   {
    "duration": 68,
    "start_time": "2022-09-23T11:21:01.948Z"
   },
   {
    "duration": 10,
    "start_time": "2022-09-23T11:21:02.017Z"
   },
   {
    "duration": 24,
    "start_time": "2022-09-23T11:21:02.029Z"
   },
   {
    "duration": 26,
    "start_time": "2022-09-23T11:21:02.055Z"
   },
   {
    "duration": 24,
    "start_time": "2022-09-23T11:21:02.082Z"
   },
   {
    "duration": 19,
    "start_time": "2022-09-23T11:21:02.108Z"
   },
   {
    "duration": 33,
    "start_time": "2022-09-23T11:21:02.128Z"
   },
   {
    "duration": 29,
    "start_time": "2022-09-23T11:21:02.163Z"
   },
   {
    "duration": 18,
    "start_time": "2022-09-23T11:21:02.194Z"
   },
   {
    "duration": 18,
    "start_time": "2022-09-23T11:21:02.213Z"
   },
   {
    "duration": 54,
    "start_time": "2022-09-23T11:21:02.232Z"
   },
   {
    "duration": 17,
    "start_time": "2022-09-23T11:21:02.287Z"
   },
   {
    "duration": 10,
    "start_time": "2022-09-23T11:21:02.306Z"
   },
   {
    "duration": 13,
    "start_time": "2022-09-23T11:21:02.317Z"
   },
   {
    "duration": 25,
    "start_time": "2022-09-23T11:21:02.331Z"
   },
   {
    "duration": 163,
    "start_time": "2022-09-23T11:21:02.357Z"
   },
   {
    "duration": 27,
    "start_time": "2022-09-23T11:21:02.521Z"
   },
   {
    "duration": 436,
    "start_time": "2022-09-23T11:21:02.549Z"
   },
   {
    "duration": 23,
    "start_time": "2022-09-23T11:21:02.987Z"
   },
   {
    "duration": 73,
    "start_time": "2022-09-23T11:21:03.012Z"
   },
   {
    "duration": 103,
    "start_time": "2022-09-23T11:21:03.086Z"
   },
   {
    "duration": 75,
    "start_time": "2022-09-23T11:21:03.191Z"
   },
   {
    "duration": 18,
    "start_time": "2022-09-23T11:21:03.268Z"
   },
   {
    "duration": 60,
    "start_time": "2022-09-23T11:21:03.290Z"
   },
   {
    "duration": 15,
    "start_time": "2022-09-23T11:21:03.351Z"
   },
   {
    "duration": 43,
    "start_time": "2022-09-23T11:21:03.368Z"
   },
   {
    "duration": 11,
    "start_time": "2022-09-23T11:21:03.412Z"
   },
   {
    "duration": 25,
    "start_time": "2022-09-23T11:21:03.433Z"
   },
   {
    "duration": 71,
    "start_time": "2022-09-23T11:21:03.459Z"
   },
   {
    "duration": 17,
    "start_time": "2022-09-23T11:21:03.540Z"
   },
   {
    "duration": 447,
    "start_time": "2022-09-23T11:21:03.559Z"
   },
   {
    "duration": 16,
    "start_time": "2022-09-23T11:21:04.008Z"
   },
   {
    "duration": 21,
    "start_time": "2022-09-23T11:21:04.034Z"
   },
   {
    "duration": 14,
    "start_time": "2022-09-23T11:21:04.057Z"
   },
   {
    "duration": 13,
    "start_time": "2022-09-23T11:21:04.072Z"
   },
   {
    "duration": 376,
    "start_time": "2022-09-23T11:21:04.086Z"
   },
   {
    "duration": 382,
    "start_time": "2022-09-23T11:21:04.464Z"
   },
   {
    "duration": 364,
    "start_time": "2022-09-23T11:21:04.848Z"
   },
   {
    "duration": 1477,
    "start_time": "2022-09-23T11:22:30.826Z"
   },
   {
    "duration": 1246,
    "start_time": "2022-09-23T11:22:43.663Z"
   },
   {
    "duration": 64,
    "start_time": "2022-09-23T11:22:44.911Z"
   },
   {
    "duration": 13,
    "start_time": "2022-09-23T11:22:44.977Z"
   },
   {
    "duration": 47,
    "start_time": "2022-09-23T11:22:44.992Z"
   },
   {
    "duration": 22,
    "start_time": "2022-09-23T11:22:45.041Z"
   },
   {
    "duration": 21,
    "start_time": "2022-09-23T11:22:45.065Z"
   },
   {
    "duration": 31,
    "start_time": "2022-09-23T11:22:45.087Z"
   },
   {
    "duration": 27,
    "start_time": "2022-09-23T11:22:45.119Z"
   },
   {
    "duration": 21,
    "start_time": "2022-09-23T11:22:45.148Z"
   },
   {
    "duration": 29,
    "start_time": "2022-09-23T11:22:45.172Z"
   },
   {
    "duration": 6,
    "start_time": "2022-09-23T11:22:45.203Z"
   },
   {
    "duration": 33,
    "start_time": "2022-09-23T11:22:45.211Z"
   },
   {
    "duration": 21,
    "start_time": "2022-09-23T11:22:45.246Z"
   },
   {
    "duration": 34,
    "start_time": "2022-09-23T11:22:45.269Z"
   },
   {
    "duration": 43,
    "start_time": "2022-09-23T11:22:45.305Z"
   },
   {
    "duration": 15,
    "start_time": "2022-09-23T11:22:45.351Z"
   },
   {
    "duration": 29,
    "start_time": "2022-09-23T11:22:45.367Z"
   },
   {
    "duration": 76,
    "start_time": "2022-09-23T11:22:45.398Z"
   },
   {
    "duration": 11,
    "start_time": "2022-09-23T11:22:45.475Z"
   },
   {
    "duration": 23,
    "start_time": "2022-09-23T11:22:45.487Z"
   },
   {
    "duration": 45,
    "start_time": "2022-09-23T11:22:45.511Z"
   },
   {
    "duration": 25,
    "start_time": "2022-09-23T11:22:45.558Z"
   },
   {
    "duration": 17,
    "start_time": "2022-09-23T11:22:45.585Z"
   },
   {
    "duration": 6,
    "start_time": "2022-09-23T11:22:45.604Z"
   },
   {
    "duration": 12,
    "start_time": "2022-09-23T11:22:45.612Z"
   },
   {
    "duration": 17,
    "start_time": "2022-09-23T11:22:45.626Z"
   },
   {
    "duration": 31,
    "start_time": "2022-09-23T11:22:45.644Z"
   },
   {
    "duration": 12,
    "start_time": "2022-09-23T11:22:45.679Z"
   },
   {
    "duration": 6,
    "start_time": "2022-09-23T11:22:45.693Z"
   },
   {
    "duration": 8,
    "start_time": "2022-09-23T11:22:45.701Z"
   },
   {
    "duration": 12,
    "start_time": "2022-09-23T11:22:45.710Z"
   },
   {
    "duration": 11,
    "start_time": "2022-09-23T11:22:45.723Z"
   },
   {
    "duration": 162,
    "start_time": "2022-09-23T11:22:45.738Z"
   },
   {
    "duration": 16,
    "start_time": "2022-09-23T11:22:45.902Z"
   },
   {
    "duration": 536,
    "start_time": "2022-09-23T11:22:45.919Z"
   },
   {
    "duration": 22,
    "start_time": "2022-09-23T11:22:46.457Z"
   },
   {
    "duration": 75,
    "start_time": "2022-09-23T11:22:46.481Z"
   },
   {
    "duration": 103,
    "start_time": "2022-09-23T11:22:46.558Z"
   },
   {
    "duration": 91,
    "start_time": "2022-09-23T11:22:46.662Z"
   },
   {
    "duration": 20,
    "start_time": "2022-09-23T11:22:46.755Z"
   },
   {
    "duration": 29,
    "start_time": "2022-09-23T11:22:46.777Z"
   },
   {
    "duration": 60,
    "start_time": "2022-09-23T11:22:46.808Z"
   },
   {
    "duration": 54,
    "start_time": "2022-09-23T11:22:46.870Z"
   },
   {
    "duration": 15,
    "start_time": "2022-09-23T11:22:46.926Z"
   },
   {
    "duration": 35,
    "start_time": "2022-09-23T11:22:46.943Z"
   },
   {
    "duration": 88,
    "start_time": "2022-09-23T11:22:46.980Z"
   },
   {
    "duration": 19,
    "start_time": "2022-09-23T11:22:47.069Z"
   },
   {
    "duration": 714,
    "start_time": "2022-09-23T11:22:47.089Z"
   },
   {
    "duration": 17,
    "start_time": "2022-09-23T11:22:47.805Z"
   },
   {
    "duration": 37,
    "start_time": "2022-09-23T11:22:47.823Z"
   },
   {
    "duration": 36,
    "start_time": "2022-09-23T11:22:47.861Z"
   },
   {
    "duration": 1232,
    "start_time": "2022-09-23T11:22:47.899Z"
   },
   {
    "duration": 0,
    "start_time": "2022-09-23T11:22:49.133Z"
   },
   {
    "duration": 0,
    "start_time": "2022-09-23T11:22:49.139Z"
   },
   {
    "duration": 0,
    "start_time": "2022-09-23T11:22:49.140Z"
   },
   {
    "duration": 0,
    "start_time": "2022-09-23T11:22:49.141Z"
   },
   {
    "duration": 2015,
    "start_time": "2022-09-23T11:23:09.531Z"
   },
   {
    "duration": 1051,
    "start_time": "2022-09-23T11:23:42.357Z"
   },
   {
    "duration": 4,
    "start_time": "2022-09-23T11:24:50.661Z"
   },
   {
    "duration": 1193,
    "start_time": "2022-09-23T11:25:03.064Z"
   },
   {
    "duration": 54,
    "start_time": "2022-09-23T11:25:04.259Z"
   },
   {
    "duration": 14,
    "start_time": "2022-09-23T11:25:04.315Z"
   },
   {
    "duration": 30,
    "start_time": "2022-09-23T11:25:04.331Z"
   },
   {
    "duration": 9,
    "start_time": "2022-09-23T11:25:04.363Z"
   },
   {
    "duration": 7,
    "start_time": "2022-09-23T11:25:04.373Z"
   },
   {
    "duration": 23,
    "start_time": "2022-09-23T11:25:04.381Z"
   },
   {
    "duration": 33,
    "start_time": "2022-09-23T11:25:04.406Z"
   },
   {
    "duration": 21,
    "start_time": "2022-09-23T11:25:04.440Z"
   },
   {
    "duration": 18,
    "start_time": "2022-09-23T11:25:04.463Z"
   },
   {
    "duration": 5,
    "start_time": "2022-09-23T11:25:04.483Z"
   },
   {
    "duration": 16,
    "start_time": "2022-09-23T11:25:04.489Z"
   },
   {
    "duration": 11,
    "start_time": "2022-09-23T11:25:04.506Z"
   },
   {
    "duration": 28,
    "start_time": "2022-09-23T11:25:04.519Z"
   },
   {
    "duration": 32,
    "start_time": "2022-09-23T11:25:04.549Z"
   },
   {
    "duration": 16,
    "start_time": "2022-09-23T11:25:04.582Z"
   },
   {
    "duration": 9,
    "start_time": "2022-09-23T11:25:04.600Z"
   },
   {
    "duration": 68,
    "start_time": "2022-09-23T11:25:04.611Z"
   },
   {
    "duration": 10,
    "start_time": "2022-09-23T11:25:04.681Z"
   },
   {
    "duration": 10,
    "start_time": "2022-09-23T11:25:04.692Z"
   },
   {
    "duration": 10,
    "start_time": "2022-09-23T11:25:04.704Z"
   },
   {
    "duration": 29,
    "start_time": "2022-09-23T11:25:04.716Z"
   },
   {
    "duration": 7,
    "start_time": "2022-09-23T11:25:04.748Z"
   },
   {
    "duration": 13,
    "start_time": "2022-09-23T11:25:04.758Z"
   },
   {
    "duration": 12,
    "start_time": "2022-09-23T11:25:04.773Z"
   },
   {
    "duration": 15,
    "start_time": "2022-09-23T11:25:04.787Z"
   },
   {
    "duration": 41,
    "start_time": "2022-09-23T11:25:04.804Z"
   },
   {
    "duration": 15,
    "start_time": "2022-09-23T11:25:04.849Z"
   },
   {
    "duration": 10,
    "start_time": "2022-09-23T11:25:04.865Z"
   },
   {
    "duration": 22,
    "start_time": "2022-09-23T11:25:04.876Z"
   },
   {
    "duration": 10,
    "start_time": "2022-09-23T11:25:04.900Z"
   },
   {
    "duration": 14,
    "start_time": "2022-09-23T11:25:04.912Z"
   },
   {
    "duration": 156,
    "start_time": "2022-09-23T11:25:04.928Z"
   },
   {
    "duration": 15,
    "start_time": "2022-09-23T11:25:05.086Z"
   },
   {
    "duration": 377,
    "start_time": "2022-09-23T11:25:05.103Z"
   },
   {
    "duration": 18,
    "start_time": "2022-09-23T11:25:05.481Z"
   },
   {
    "duration": 49,
    "start_time": "2022-09-23T11:25:05.501Z"
   },
   {
    "duration": 166,
    "start_time": "2022-09-23T11:25:05.552Z"
   },
   {
    "duration": 81,
    "start_time": "2022-09-23T11:25:05.719Z"
   },
   {
    "duration": 38,
    "start_time": "2022-09-23T11:25:05.801Z"
   },
   {
    "duration": 29,
    "start_time": "2022-09-23T11:25:05.845Z"
   },
   {
    "duration": 14,
    "start_time": "2022-09-23T11:25:05.876Z"
   },
   {
    "duration": 63,
    "start_time": "2022-09-23T11:25:05.892Z"
   },
   {
    "duration": 12,
    "start_time": "2022-09-23T11:25:05.956Z"
   },
   {
    "duration": 17,
    "start_time": "2022-09-23T11:25:05.970Z"
   },
   {
    "duration": 90,
    "start_time": "2022-09-23T11:25:05.989Z"
   },
   {
    "duration": 18,
    "start_time": "2022-09-23T11:25:06.080Z"
   },
   {
    "duration": 559,
    "start_time": "2022-09-23T11:25:06.100Z"
   },
   {
    "duration": 16,
    "start_time": "2022-09-23T11:25:06.661Z"
   },
   {
    "duration": 12,
    "start_time": "2022-09-23T11:25:06.679Z"
   },
   {
    "duration": 19,
    "start_time": "2022-09-23T11:25:06.693Z"
   },
   {
    "duration": 1203,
    "start_time": "2022-09-23T11:25:06.714Z"
   },
   {
    "duration": 0,
    "start_time": "2022-09-23T11:25:07.918Z"
   },
   {
    "duration": 0,
    "start_time": "2022-09-23T11:25:07.920Z"
   },
   {
    "duration": 0,
    "start_time": "2022-09-23T11:25:07.921Z"
   },
   {
    "duration": 0,
    "start_time": "2022-09-23T11:25:07.922Z"
   },
   {
    "duration": 6,
    "start_time": "2022-09-23T11:26:49.568Z"
   },
   {
    "duration": 1174,
    "start_time": "2022-09-23T11:26:54.479Z"
   },
   {
    "duration": 56,
    "start_time": "2022-09-23T11:26:55.655Z"
   },
   {
    "duration": 15,
    "start_time": "2022-09-23T11:26:55.713Z"
   },
   {
    "duration": 20,
    "start_time": "2022-09-23T11:26:55.730Z"
   },
   {
    "duration": 9,
    "start_time": "2022-09-23T11:26:55.752Z"
   },
   {
    "duration": 7,
    "start_time": "2022-09-23T11:26:55.763Z"
   },
   {
    "duration": 40,
    "start_time": "2022-09-23T11:26:55.771Z"
   },
   {
    "duration": 28,
    "start_time": "2022-09-23T11:26:55.812Z"
   },
   {
    "duration": 25,
    "start_time": "2022-09-23T11:26:55.841Z"
   },
   {
    "duration": 19,
    "start_time": "2022-09-23T11:26:55.868Z"
   },
   {
    "duration": 9,
    "start_time": "2022-09-23T11:26:55.889Z"
   },
   {
    "duration": 8,
    "start_time": "2022-09-23T11:26:55.900Z"
   },
   {
    "duration": 23,
    "start_time": "2022-09-23T11:26:55.910Z"
   },
   {
    "duration": 7,
    "start_time": "2022-09-23T11:26:55.935Z"
   },
   {
    "duration": 27,
    "start_time": "2022-09-23T11:26:55.944Z"
   },
   {
    "duration": 15,
    "start_time": "2022-09-23T11:26:55.973Z"
   },
   {
    "duration": 9,
    "start_time": "2022-09-23T11:26:55.989Z"
   },
   {
    "duration": 65,
    "start_time": "2022-09-23T11:26:55.999Z"
   },
   {
    "duration": 9,
    "start_time": "2022-09-23T11:26:56.066Z"
   },
   {
    "duration": 19,
    "start_time": "2022-09-23T11:26:56.076Z"
   },
   {
    "duration": 10,
    "start_time": "2022-09-23T11:26:56.097Z"
   },
   {
    "duration": 28,
    "start_time": "2022-09-23T11:26:56.109Z"
   },
   {
    "duration": 6,
    "start_time": "2022-09-23T11:26:56.139Z"
   },
   {
    "duration": 9,
    "start_time": "2022-09-23T11:26:56.146Z"
   },
   {
    "duration": 15,
    "start_time": "2022-09-23T11:26:56.157Z"
   },
   {
    "duration": 19,
    "start_time": "2022-09-23T11:26:56.174Z"
   },
   {
    "duration": 46,
    "start_time": "2022-09-23T11:26:56.195Z"
   },
   {
    "duration": 9,
    "start_time": "2022-09-23T11:26:56.246Z"
   },
   {
    "duration": 22,
    "start_time": "2022-09-23T11:26:56.257Z"
   },
   {
    "duration": 24,
    "start_time": "2022-09-23T11:26:56.281Z"
   },
   {
    "duration": 23,
    "start_time": "2022-09-23T11:26:56.307Z"
   },
   {
    "duration": 19,
    "start_time": "2022-09-23T11:26:56.332Z"
   },
   {
    "duration": 177,
    "start_time": "2022-09-23T11:26:56.353Z"
   },
   {
    "duration": 16,
    "start_time": "2022-09-23T11:26:56.532Z"
   },
   {
    "duration": 359,
    "start_time": "2022-09-23T11:26:56.549Z"
   },
   {
    "duration": 19,
    "start_time": "2022-09-23T11:26:56.910Z"
   },
   {
    "duration": 22,
    "start_time": "2022-09-23T11:26:56.930Z"
   },
   {
    "duration": 183,
    "start_time": "2022-09-23T11:26:56.954Z"
   },
   {
    "duration": 72,
    "start_time": "2022-09-23T11:26:57.139Z"
   },
   {
    "duration": 35,
    "start_time": "2022-09-23T11:26:57.213Z"
   },
   {
    "duration": 33,
    "start_time": "2022-09-23T11:26:57.250Z"
   },
   {
    "duration": 13,
    "start_time": "2022-09-23T11:26:57.285Z"
   },
   {
    "duration": 54,
    "start_time": "2022-09-23T11:26:57.300Z"
   },
   {
    "duration": 11,
    "start_time": "2022-09-23T11:26:57.356Z"
   },
   {
    "duration": 39,
    "start_time": "2022-09-23T11:26:57.369Z"
   },
   {
    "duration": 74,
    "start_time": "2022-09-23T11:26:57.409Z"
   },
   {
    "duration": 17,
    "start_time": "2022-09-23T11:26:57.484Z"
   },
   {
    "duration": 450,
    "start_time": "2022-09-23T11:26:57.502Z"
   },
   {
    "duration": 16,
    "start_time": "2022-09-23T11:26:57.954Z"
   },
   {
    "duration": 8,
    "start_time": "2022-09-23T11:26:57.972Z"
   },
   {
    "duration": 42,
    "start_time": "2022-09-23T11:26:57.981Z"
   },
   {
    "duration": 5,
    "start_time": "2022-09-23T11:26:58.025Z"
   },
   {
    "duration": 354,
    "start_time": "2022-09-23T11:26:58.031Z"
   },
   {
    "duration": 394,
    "start_time": "2022-09-23T11:26:58.387Z"
   },
   {
    "duration": 372,
    "start_time": "2022-09-23T11:26:58.783Z"
   },
   {
    "duration": 421,
    "start_time": "2022-09-23T11:27:46.780Z"
   },
   {
    "duration": 555,
    "start_time": "2022-09-23T11:32:02.630Z"
   },
   {
    "duration": 10,
    "start_time": "2022-09-23T11:33:22.946Z"
   },
   {
    "duration": 155,
    "start_time": "2022-09-23T11:36:41.317Z"
   },
   {
    "duration": 1164,
    "start_time": "2022-09-23T11:36:53.575Z"
   },
   {
    "duration": 55,
    "start_time": "2022-09-23T11:36:54.741Z"
   },
   {
    "duration": 15,
    "start_time": "2022-09-23T11:36:54.797Z"
   },
   {
    "duration": 37,
    "start_time": "2022-09-23T11:36:54.814Z"
   },
   {
    "duration": 25,
    "start_time": "2022-09-23T11:36:54.853Z"
   },
   {
    "duration": 18,
    "start_time": "2022-09-23T11:36:54.880Z"
   },
   {
    "duration": 44,
    "start_time": "2022-09-23T11:36:54.899Z"
   },
   {
    "duration": 22,
    "start_time": "2022-09-23T11:36:54.944Z"
   },
   {
    "duration": 30,
    "start_time": "2022-09-23T11:36:54.968Z"
   },
   {
    "duration": 20,
    "start_time": "2022-09-23T11:36:55.000Z"
   },
   {
    "duration": 32,
    "start_time": "2022-09-23T11:36:55.022Z"
   },
   {
    "duration": 26,
    "start_time": "2022-09-23T11:36:55.056Z"
   },
   {
    "duration": 17,
    "start_time": "2022-09-23T11:36:55.084Z"
   },
   {
    "duration": 7,
    "start_time": "2022-09-23T11:36:55.103Z"
   },
   {
    "duration": 27,
    "start_time": "2022-09-23T11:36:55.112Z"
   },
   {
    "duration": 15,
    "start_time": "2022-09-23T11:36:55.140Z"
   },
   {
    "duration": 8,
    "start_time": "2022-09-23T11:36:55.157Z"
   },
   {
    "duration": 60,
    "start_time": "2022-09-23T11:36:55.166Z"
   },
   {
    "duration": 12,
    "start_time": "2022-09-23T11:36:55.227Z"
   },
   {
    "duration": 9,
    "start_time": "2022-09-23T11:36:55.241Z"
   },
   {
    "duration": 8,
    "start_time": "2022-09-23T11:36:55.251Z"
   },
   {
    "duration": 16,
    "start_time": "2022-09-23T11:36:55.260Z"
   },
   {
    "duration": 5,
    "start_time": "2022-09-23T11:36:55.278Z"
   },
   {
    "duration": 13,
    "start_time": "2022-09-23T11:36:55.284Z"
   },
   {
    "duration": 14,
    "start_time": "2022-09-23T11:36:55.298Z"
   },
   {
    "duration": 28,
    "start_time": "2022-09-23T11:36:55.314Z"
   },
   {
    "duration": 16,
    "start_time": "2022-09-23T11:36:55.344Z"
   },
   {
    "duration": 14,
    "start_time": "2022-09-23T11:36:55.363Z"
   },
   {
    "duration": 8,
    "start_time": "2022-09-23T11:36:55.378Z"
   },
   {
    "duration": 9,
    "start_time": "2022-09-23T11:36:55.388Z"
   },
   {
    "duration": 11,
    "start_time": "2022-09-23T11:36:55.399Z"
   },
   {
    "duration": 11,
    "start_time": "2022-09-23T11:36:55.411Z"
   },
   {
    "duration": 147,
    "start_time": "2022-09-23T11:36:55.433Z"
   },
   {
    "duration": 16,
    "start_time": "2022-09-23T11:36:55.582Z"
   },
   {
    "duration": 347,
    "start_time": "2022-09-23T11:36:55.599Z"
   },
   {
    "duration": 22,
    "start_time": "2022-09-23T11:36:55.948Z"
   },
   {
    "duration": 78,
    "start_time": "2022-09-23T11:36:55.973Z"
   },
   {
    "duration": 186,
    "start_time": "2022-09-23T11:36:56.053Z"
   },
   {
    "duration": 101,
    "start_time": "2022-09-23T11:36:56.241Z"
   },
   {
    "duration": 26,
    "start_time": "2022-09-23T11:36:56.343Z"
   },
   {
    "duration": 44,
    "start_time": "2022-09-23T11:36:56.371Z"
   },
   {
    "duration": 32,
    "start_time": "2022-09-23T11:36:56.417Z"
   },
   {
    "duration": 69,
    "start_time": "2022-09-23T11:36:56.451Z"
   },
   {
    "duration": 23,
    "start_time": "2022-09-23T11:36:56.522Z"
   },
   {
    "duration": 26,
    "start_time": "2022-09-23T11:36:56.547Z"
   },
   {
    "duration": 89,
    "start_time": "2022-09-23T11:36:56.574Z"
   },
   {
    "duration": 17,
    "start_time": "2022-09-23T11:36:56.664Z"
   },
   {
    "duration": 446,
    "start_time": "2022-09-23T11:36:56.683Z"
   },
   {
    "duration": 15,
    "start_time": "2022-09-23T11:36:57.133Z"
   },
   {
    "duration": 26,
    "start_time": "2022-09-23T11:36:57.149Z"
   },
   {
    "duration": 26,
    "start_time": "2022-09-23T11:36:57.177Z"
   },
   {
    "duration": 432,
    "start_time": "2022-09-23T11:36:57.205Z"
   },
   {
    "duration": 9,
    "start_time": "2022-09-23T11:36:57.639Z"
   },
   {
    "duration": 9,
    "start_time": "2022-09-23T11:36:57.649Z"
   },
   {
    "duration": 171,
    "start_time": "2022-09-23T11:36:57.660Z"
   },
   {
    "duration": 0,
    "start_time": "2022-09-23T11:36:57.833Z"
   },
   {
    "duration": 0,
    "start_time": "2022-09-23T11:36:57.835Z"
   },
   {
    "duration": 0,
    "start_time": "2022-09-23T11:36:57.836Z"
   },
   {
    "duration": 0,
    "start_time": "2022-09-23T11:36:57.837Z"
   },
   {
    "duration": 1225,
    "start_time": "2022-09-23T11:37:14.434Z"
   },
   {
    "duration": 56,
    "start_time": "2022-09-23T11:37:15.661Z"
   },
   {
    "duration": 14,
    "start_time": "2022-09-23T11:37:15.718Z"
   },
   {
    "duration": 17,
    "start_time": "2022-09-23T11:37:15.734Z"
   },
   {
    "duration": 9,
    "start_time": "2022-09-23T11:37:15.752Z"
   },
   {
    "duration": 5,
    "start_time": "2022-09-23T11:37:15.762Z"
   },
   {
    "duration": 23,
    "start_time": "2022-09-23T11:37:15.768Z"
   },
   {
    "duration": 41,
    "start_time": "2022-09-23T11:37:15.793Z"
   },
   {
    "duration": 21,
    "start_time": "2022-09-23T11:37:15.836Z"
   },
   {
    "duration": 19,
    "start_time": "2022-09-23T11:37:15.859Z"
   },
   {
    "duration": 9,
    "start_time": "2022-09-23T11:37:15.879Z"
   },
   {
    "duration": 8,
    "start_time": "2022-09-23T11:37:15.890Z"
   },
   {
    "duration": 4,
    "start_time": "2022-09-23T11:37:15.900Z"
   },
   {
    "duration": 30,
    "start_time": "2022-09-23T11:37:15.906Z"
   },
   {
    "duration": 25,
    "start_time": "2022-09-23T11:37:15.937Z"
   },
   {
    "duration": 15,
    "start_time": "2022-09-23T11:37:15.963Z"
   },
   {
    "duration": 5,
    "start_time": "2022-09-23T11:37:15.980Z"
   },
   {
    "duration": 70,
    "start_time": "2022-09-23T11:37:15.987Z"
   },
   {
    "duration": 9,
    "start_time": "2022-09-23T11:37:16.058Z"
   },
   {
    "duration": 10,
    "start_time": "2022-09-23T11:37:16.069Z"
   },
   {
    "duration": 6,
    "start_time": "2022-09-23T11:37:16.080Z"
   },
   {
    "duration": 23,
    "start_time": "2022-09-23T11:37:16.087Z"
   },
   {
    "duration": 4,
    "start_time": "2022-09-23T11:37:16.112Z"
   },
   {
    "duration": 6,
    "start_time": "2022-09-23T11:37:16.133Z"
   },
   {
    "duration": 12,
    "start_time": "2022-09-23T11:37:16.140Z"
   },
   {
    "duration": 17,
    "start_time": "2022-09-23T11:37:16.154Z"
   },
   {
    "duration": 36,
    "start_time": "2022-09-23T11:37:16.173Z"
   },
   {
    "duration": 8,
    "start_time": "2022-09-23T11:37:16.213Z"
   },
   {
    "duration": 5,
    "start_time": "2022-09-23T11:37:16.223Z"
   },
   {
    "duration": 9,
    "start_time": "2022-09-23T11:37:16.233Z"
   },
   {
    "duration": 14,
    "start_time": "2022-09-23T11:37:16.244Z"
   },
   {
    "duration": 9,
    "start_time": "2022-09-23T11:37:16.261Z"
   },
   {
    "duration": 202,
    "start_time": "2022-09-23T11:37:16.272Z"
   },
   {
    "duration": 21,
    "start_time": "2022-09-23T11:37:16.476Z"
   },
   {
    "duration": 363,
    "start_time": "2022-09-23T11:37:16.499Z"
   },
   {
    "duration": 17,
    "start_time": "2022-09-23T11:37:16.864Z"
   },
   {
    "duration": 61,
    "start_time": "2022-09-23T11:37:16.882Z"
   },
   {
    "duration": 146,
    "start_time": "2022-09-23T11:37:16.944Z"
   },
   {
    "duration": 83,
    "start_time": "2022-09-23T11:37:17.092Z"
   },
   {
    "duration": 18,
    "start_time": "2022-09-23T11:37:17.176Z"
   },
   {
    "duration": 40,
    "start_time": "2022-09-23T11:37:17.196Z"
   },
   {
    "duration": 14,
    "start_time": "2022-09-23T11:37:17.238Z"
   },
   {
    "duration": 45,
    "start_time": "2022-09-23T11:37:17.254Z"
   },
   {
    "duration": 11,
    "start_time": "2022-09-23T11:37:17.300Z"
   },
   {
    "duration": 30,
    "start_time": "2022-09-23T11:37:17.313Z"
   },
   {
    "duration": 69,
    "start_time": "2022-09-23T11:37:17.345Z"
   },
   {
    "duration": 16,
    "start_time": "2022-09-23T11:37:17.433Z"
   },
   {
    "duration": 448,
    "start_time": "2022-09-23T11:37:17.451Z"
   },
   {
    "duration": 15,
    "start_time": "2022-09-23T11:37:17.901Z"
   },
   {
    "duration": 18,
    "start_time": "2022-09-23T11:37:17.917Z"
   },
   {
    "duration": 21,
    "start_time": "2022-09-23T11:37:17.936Z"
   },
   {
    "duration": 436,
    "start_time": "2022-09-23T11:37:17.958Z"
   },
   {
    "duration": 10,
    "start_time": "2022-09-23T11:37:18.396Z"
   },
   {
    "duration": 8,
    "start_time": "2022-09-23T11:37:18.407Z"
   },
   {
    "duration": 173,
    "start_time": "2022-09-23T11:37:18.416Z"
   },
   {
    "duration": 0,
    "start_time": "2022-09-23T11:37:18.591Z"
   },
   {
    "duration": 0,
    "start_time": "2022-09-23T11:37:18.593Z"
   },
   {
    "duration": 0,
    "start_time": "2022-09-23T11:37:18.594Z"
   },
   {
    "duration": 0,
    "start_time": "2022-09-23T11:37:18.596Z"
   },
   {
    "duration": 10,
    "start_time": "2022-09-23T11:37:57.466Z"
   },
   {
    "duration": 6,
    "start_time": "2022-09-23T11:38:38.629Z"
   },
   {
    "duration": 1215,
    "start_time": "2022-09-23T11:38:43.822Z"
   },
   {
    "duration": 55,
    "start_time": "2022-09-23T11:38:45.038Z"
   },
   {
    "duration": 15,
    "start_time": "2022-09-23T11:38:45.095Z"
   },
   {
    "duration": 15,
    "start_time": "2022-09-23T11:38:45.113Z"
   },
   {
    "duration": 9,
    "start_time": "2022-09-23T11:38:45.130Z"
   },
   {
    "duration": 8,
    "start_time": "2022-09-23T11:38:45.141Z"
   },
   {
    "duration": 24,
    "start_time": "2022-09-23T11:38:45.151Z"
   },
   {
    "duration": 20,
    "start_time": "2022-09-23T11:38:45.176Z"
   },
   {
    "duration": 41,
    "start_time": "2022-09-23T11:38:45.197Z"
   },
   {
    "duration": 22,
    "start_time": "2022-09-23T11:38:45.240Z"
   },
   {
    "duration": 8,
    "start_time": "2022-09-23T11:38:45.263Z"
   },
   {
    "duration": 11,
    "start_time": "2022-09-23T11:38:45.273Z"
   },
   {
    "duration": 6,
    "start_time": "2022-09-23T11:38:45.285Z"
   },
   {
    "duration": 6,
    "start_time": "2022-09-23T11:38:45.292Z"
   },
   {
    "duration": 51,
    "start_time": "2022-09-23T11:38:45.300Z"
   },
   {
    "duration": 14,
    "start_time": "2022-09-23T11:38:45.353Z"
   },
   {
    "duration": 6,
    "start_time": "2022-09-23T11:38:45.369Z"
   },
   {
    "duration": 72,
    "start_time": "2022-09-23T11:38:45.377Z"
   },
   {
    "duration": 9,
    "start_time": "2022-09-23T11:38:45.451Z"
   },
   {
    "duration": 9,
    "start_time": "2022-09-23T11:38:45.462Z"
   },
   {
    "duration": 5,
    "start_time": "2022-09-23T11:38:45.473Z"
   },
   {
    "duration": 23,
    "start_time": "2022-09-23T11:38:45.480Z"
   },
   {
    "duration": 29,
    "start_time": "2022-09-23T11:38:45.505Z"
   },
   {
    "duration": 5,
    "start_time": "2022-09-23T11:38:45.536Z"
   },
   {
    "duration": 19,
    "start_time": "2022-09-23T11:38:45.543Z"
   },
   {
    "duration": 14,
    "start_time": "2022-09-23T11:38:45.564Z"
   },
   {
    "duration": 17,
    "start_time": "2022-09-23T11:38:45.580Z"
   },
   {
    "duration": 6,
    "start_time": "2022-09-23T11:38:45.601Z"
   },
   {
    "duration": 24,
    "start_time": "2022-09-23T11:38:45.609Z"
   },
   {
    "duration": 4,
    "start_time": "2022-09-23T11:38:45.635Z"
   },
   {
    "duration": 10,
    "start_time": "2022-09-23T11:38:45.640Z"
   },
   {
    "duration": 16,
    "start_time": "2022-09-23T11:38:45.651Z"
   },
   {
    "duration": 149,
    "start_time": "2022-09-23T11:38:45.669Z"
   },
   {
    "duration": 20,
    "start_time": "2022-09-23T11:38:45.820Z"
   },
   {
    "duration": 363,
    "start_time": "2022-09-23T11:38:45.842Z"
   },
   {
    "duration": 17,
    "start_time": "2022-09-23T11:38:46.207Z"
   },
   {
    "duration": 34,
    "start_time": "2022-09-23T11:38:46.226Z"
   },
   {
    "duration": 207,
    "start_time": "2022-09-23T11:38:46.262Z"
   },
   {
    "duration": 91,
    "start_time": "2022-09-23T11:38:46.471Z"
   },
   {
    "duration": 18,
    "start_time": "2022-09-23T11:38:46.563Z"
   },
   {
    "duration": 26,
    "start_time": "2022-09-23T11:38:46.583Z"
   },
   {
    "duration": 32,
    "start_time": "2022-09-23T11:38:46.610Z"
   },
   {
    "duration": 40,
    "start_time": "2022-09-23T11:38:46.643Z"
   },
   {
    "duration": 11,
    "start_time": "2022-09-23T11:38:46.685Z"
   },
   {
    "duration": 35,
    "start_time": "2022-09-23T11:38:46.698Z"
   },
   {
    "duration": 73,
    "start_time": "2022-09-23T11:38:46.735Z"
   },
   {
    "duration": 27,
    "start_time": "2022-09-23T11:38:46.810Z"
   },
   {
    "duration": 486,
    "start_time": "2022-09-23T11:38:46.839Z"
   },
   {
    "duration": 19,
    "start_time": "2022-09-23T11:38:47.326Z"
   },
   {
    "duration": 6,
    "start_time": "2022-09-23T11:38:47.347Z"
   },
   {
    "duration": 25,
    "start_time": "2022-09-23T11:38:47.354Z"
   },
   {
    "duration": 434,
    "start_time": "2022-09-23T11:38:47.380Z"
   },
   {
    "duration": 9,
    "start_time": "2022-09-23T11:38:47.815Z"
   },
   {
    "duration": 5,
    "start_time": "2022-09-23T11:38:47.834Z"
   },
   {
    "duration": 13,
    "start_time": "2022-09-23T11:38:47.841Z"
   },
   {
    "duration": 5,
    "start_time": "2022-09-23T11:38:47.855Z"
   },
   {
    "duration": 398,
    "start_time": "2022-09-23T11:38:47.861Z"
   },
   {
    "duration": 366,
    "start_time": "2022-09-23T11:38:48.261Z"
   },
   {
    "duration": 382,
    "start_time": "2022-09-23T11:38:48.629Z"
   },
   {
    "duration": 152,
    "start_time": "2022-09-23T11:39:28.811Z"
   },
   {
    "duration": 58,
    "start_time": "2022-09-23T11:40:36.724Z"
   },
   {
    "duration": 61,
    "start_time": "2022-09-23T11:43:12.632Z"
   },
   {
    "duration": 19,
    "start_time": "2022-09-23T11:53:41.594Z"
   },
   {
    "duration": 60,
    "start_time": "2022-09-23T11:55:05.790Z"
   },
   {
    "duration": 62,
    "start_time": "2022-09-23T11:55:42.756Z"
   },
   {
    "duration": 21,
    "start_time": "2022-09-23T11:59:33.368Z"
   },
   {
    "duration": 59,
    "start_time": "2022-09-23T12:00:28.475Z"
   },
   {
    "duration": 63,
    "start_time": "2022-09-23T12:01:13.610Z"
   },
   {
    "duration": 27,
    "start_time": "2022-09-23T12:14:42.317Z"
   },
   {
    "duration": 21,
    "start_time": "2022-09-23T12:15:35.141Z"
   },
   {
    "duration": 26,
    "start_time": "2022-09-23T12:15:51.269Z"
   },
   {
    "duration": 166,
    "start_time": "2022-09-23T12:17:25.567Z"
   },
   {
    "duration": 24,
    "start_time": "2022-09-23T12:17:58.650Z"
   },
   {
    "duration": 23,
    "start_time": "2022-09-23T12:18:35.186Z"
   },
   {
    "duration": 36,
    "start_time": "2022-09-23T12:19:34.356Z"
   },
   {
    "duration": 1279,
    "start_time": "2022-09-23T12:19:42.985Z"
   },
   {
    "duration": 54,
    "start_time": "2022-09-23T12:19:44.266Z"
   },
   {
    "duration": 14,
    "start_time": "2022-09-23T12:19:44.322Z"
   },
   {
    "duration": 24,
    "start_time": "2022-09-23T12:19:44.339Z"
   },
   {
    "duration": 8,
    "start_time": "2022-09-23T12:19:44.365Z"
   },
   {
    "duration": 8,
    "start_time": "2022-09-23T12:19:44.374Z"
   },
   {
    "duration": 24,
    "start_time": "2022-09-23T12:19:44.383Z"
   },
   {
    "duration": 49,
    "start_time": "2022-09-23T12:19:44.409Z"
   },
   {
    "duration": 20,
    "start_time": "2022-09-23T12:19:44.461Z"
   },
   {
    "duration": 22,
    "start_time": "2022-09-23T12:19:44.483Z"
   },
   {
    "duration": 31,
    "start_time": "2022-09-23T12:19:44.507Z"
   },
   {
    "duration": 16,
    "start_time": "2022-09-23T12:19:44.541Z"
   },
   {
    "duration": 9,
    "start_time": "2022-09-23T12:19:44.559Z"
   },
   {
    "duration": 13,
    "start_time": "2022-09-23T12:19:44.571Z"
   },
   {
    "duration": 27,
    "start_time": "2022-09-23T12:19:44.586Z"
   },
   {
    "duration": 29,
    "start_time": "2022-09-23T12:19:44.615Z"
   },
   {
    "duration": 7,
    "start_time": "2022-09-23T12:19:44.646Z"
   },
   {
    "duration": 78,
    "start_time": "2022-09-23T12:19:44.655Z"
   },
   {
    "duration": 10,
    "start_time": "2022-09-23T12:19:44.736Z"
   },
   {
    "duration": 14,
    "start_time": "2022-09-23T12:19:44.747Z"
   },
   {
    "duration": 13,
    "start_time": "2022-09-23T12:19:44.762Z"
   },
   {
    "duration": 27,
    "start_time": "2022-09-23T12:19:44.776Z"
   },
   {
    "duration": 6,
    "start_time": "2022-09-23T12:19:44.805Z"
   },
   {
    "duration": 9,
    "start_time": "2022-09-23T12:19:44.813Z"
   },
   {
    "duration": 16,
    "start_time": "2022-09-23T12:19:44.824Z"
   },
   {
    "duration": 23,
    "start_time": "2022-09-23T12:19:44.842Z"
   },
   {
    "duration": 20,
    "start_time": "2022-09-23T12:19:44.867Z"
   },
   {
    "duration": 12,
    "start_time": "2022-09-23T12:19:44.889Z"
   },
   {
    "duration": 16,
    "start_time": "2022-09-23T12:19:44.902Z"
   },
   {
    "duration": 29,
    "start_time": "2022-09-23T12:19:44.920Z"
   },
   {
    "duration": 16,
    "start_time": "2022-09-23T12:19:44.951Z"
   },
   {
    "duration": 8,
    "start_time": "2022-09-23T12:19:44.969Z"
   },
   {
    "duration": 192,
    "start_time": "2022-09-23T12:19:44.979Z"
   },
   {
    "duration": 17,
    "start_time": "2022-09-23T12:19:45.172Z"
   },
   {
    "duration": 407,
    "start_time": "2022-09-23T12:19:45.192Z"
   },
   {
    "duration": 36,
    "start_time": "2022-09-23T12:19:45.601Z"
   },
   {
    "duration": 27,
    "start_time": "2022-09-23T12:19:45.639Z"
   },
   {
    "duration": 214,
    "start_time": "2022-09-23T12:19:45.668Z"
   },
   {
    "duration": 96,
    "start_time": "2022-09-23T12:19:45.884Z"
   },
   {
    "duration": 20,
    "start_time": "2022-09-23T12:19:45.982Z"
   },
   {
    "duration": 54,
    "start_time": "2022-09-23T12:19:46.006Z"
   },
   {
    "duration": 16,
    "start_time": "2022-09-23T12:19:46.063Z"
   },
   {
    "duration": 64,
    "start_time": "2022-09-23T12:19:46.080Z"
   },
   {
    "duration": 17,
    "start_time": "2022-09-23T12:19:46.146Z"
   },
   {
    "duration": 40,
    "start_time": "2022-09-23T12:19:46.165Z"
   },
   {
    "duration": 113,
    "start_time": "2022-09-23T12:19:46.206Z"
   },
   {
    "duration": 25,
    "start_time": "2022-09-23T12:19:46.322Z"
   },
   {
    "duration": 495,
    "start_time": "2022-09-23T12:19:46.349Z"
   },
   {
    "duration": 16,
    "start_time": "2022-09-23T12:19:46.846Z"
   },
   {
    "duration": 5,
    "start_time": "2022-09-23T12:19:46.864Z"
   },
   {
    "duration": 22,
    "start_time": "2022-09-23T12:19:46.870Z"
   },
   {
    "duration": 456,
    "start_time": "2022-09-23T12:19:46.894Z"
   },
   {
    "duration": 10,
    "start_time": "2022-09-23T12:19:47.352Z"
   },
   {
    "duration": 16,
    "start_time": "2022-09-23T12:19:47.363Z"
   },
   {
    "duration": 16,
    "start_time": "2022-09-23T12:19:47.381Z"
   },
   {
    "duration": 79,
    "start_time": "2022-09-23T12:19:47.399Z"
   },
   {
    "duration": 24,
    "start_time": "2022-09-23T12:19:47.480Z"
   },
   {
    "duration": 40,
    "start_time": "2022-09-23T12:19:47.506Z"
   },
   {
    "duration": 69,
    "start_time": "2022-09-23T12:19:47.547Z"
   },
   {
    "duration": 42,
    "start_time": "2022-09-23T12:19:47.618Z"
   },
   {
    "duration": 22,
    "start_time": "2022-09-23T12:21:34.529Z"
   },
   {
    "duration": 30,
    "start_time": "2022-09-23T12:22:06.380Z"
   },
   {
    "duration": 20,
    "start_time": "2022-09-23T12:23:01.824Z"
   },
   {
    "duration": 22,
    "start_time": "2022-09-23T12:23:47.172Z"
   },
   {
    "duration": 21,
    "start_time": "2022-09-23T12:25:54.179Z"
   },
   {
    "duration": 58,
    "start_time": "2022-09-23T12:26:18.622Z"
   },
   {
    "duration": 23,
    "start_time": "2022-09-23T12:27:35.495Z"
   },
   {
    "duration": 1170,
    "start_time": "2022-09-23T12:27:46.851Z"
   },
   {
    "duration": 55,
    "start_time": "2022-09-23T12:27:48.023Z"
   },
   {
    "duration": 13,
    "start_time": "2022-09-23T12:27:48.079Z"
   },
   {
    "duration": 15,
    "start_time": "2022-09-23T12:27:48.094Z"
   },
   {
    "duration": 8,
    "start_time": "2022-09-23T12:27:48.110Z"
   },
   {
    "duration": 8,
    "start_time": "2022-09-23T12:27:48.120Z"
   },
   {
    "duration": 38,
    "start_time": "2022-09-23T12:27:48.129Z"
   },
   {
    "duration": 19,
    "start_time": "2022-09-23T12:27:48.169Z"
   },
   {
    "duration": 19,
    "start_time": "2022-09-23T12:27:48.190Z"
   },
   {
    "duration": 35,
    "start_time": "2022-09-23T12:27:48.212Z"
   },
   {
    "duration": 5,
    "start_time": "2022-09-23T12:27:48.249Z"
   },
   {
    "duration": 8,
    "start_time": "2022-09-23T12:27:48.256Z"
   },
   {
    "duration": 5,
    "start_time": "2022-09-23T12:27:48.266Z"
   },
   {
    "duration": 7,
    "start_time": "2022-09-23T12:27:48.272Z"
   },
   {
    "duration": 38,
    "start_time": "2022-09-23T12:27:48.281Z"
   },
   {
    "duration": 24,
    "start_time": "2022-09-23T12:27:48.320Z"
   },
   {
    "duration": 6,
    "start_time": "2022-09-23T12:27:48.345Z"
   },
   {
    "duration": 52,
    "start_time": "2022-09-23T12:27:48.352Z"
   },
   {
    "duration": 9,
    "start_time": "2022-09-23T12:27:48.406Z"
   },
   {
    "duration": 8,
    "start_time": "2022-09-23T12:27:48.433Z"
   },
   {
    "duration": 4,
    "start_time": "2022-09-23T12:27:48.443Z"
   },
   {
    "duration": 17,
    "start_time": "2022-09-23T12:27:48.448Z"
   },
   {
    "duration": 6,
    "start_time": "2022-09-23T12:27:48.466Z"
   },
   {
    "duration": 8,
    "start_time": "2022-09-23T12:27:48.473Z"
   },
   {
    "duration": 10,
    "start_time": "2022-09-23T12:27:48.482Z"
   },
   {
    "duration": 15,
    "start_time": "2022-09-23T12:27:48.494Z"
   },
   {
    "duration": 15,
    "start_time": "2022-09-23T12:27:48.534Z"
   },
   {
    "duration": 9,
    "start_time": "2022-09-23T12:27:48.552Z"
   },
   {
    "duration": 6,
    "start_time": "2022-09-23T12:27:48.562Z"
   },
   {
    "duration": 7,
    "start_time": "2022-09-23T12:27:48.569Z"
   },
   {
    "duration": 12,
    "start_time": "2022-09-23T12:27:48.577Z"
   },
   {
    "duration": 9,
    "start_time": "2022-09-23T12:27:48.590Z"
   },
   {
    "duration": 170,
    "start_time": "2022-09-23T12:27:48.600Z"
   },
   {
    "duration": 17,
    "start_time": "2022-09-23T12:27:48.771Z"
   },
   {
    "duration": 369,
    "start_time": "2022-09-23T12:27:48.790Z"
   },
   {
    "duration": 17,
    "start_time": "2022-09-23T12:27:49.160Z"
   },
   {
    "duration": 57,
    "start_time": "2022-09-23T12:27:49.179Z"
   },
   {
    "duration": 161,
    "start_time": "2022-09-23T12:27:49.238Z"
   },
   {
    "duration": 81,
    "start_time": "2022-09-23T12:27:49.400Z"
   },
   {
    "duration": 20,
    "start_time": "2022-09-23T12:27:49.482Z"
   },
   {
    "duration": 43,
    "start_time": "2022-09-23T12:27:49.503Z"
   },
   {
    "duration": 13,
    "start_time": "2022-09-23T12:27:49.548Z"
   },
   {
    "duration": 42,
    "start_time": "2022-09-23T12:27:49.563Z"
   },
   {
    "duration": 31,
    "start_time": "2022-09-23T12:27:49.607Z"
   },
   {
    "duration": 14,
    "start_time": "2022-09-23T12:27:49.640Z"
   },
   {
    "duration": 87,
    "start_time": "2022-09-23T12:27:49.655Z"
   },
   {
    "duration": 22,
    "start_time": "2022-09-23T12:27:49.744Z"
   },
   {
    "duration": 471,
    "start_time": "2022-09-23T12:27:49.768Z"
   },
   {
    "duration": 16,
    "start_time": "2022-09-23T12:27:50.241Z"
   },
   {
    "duration": 5,
    "start_time": "2022-09-23T12:27:50.258Z"
   },
   {
    "duration": 17,
    "start_time": "2022-09-23T12:27:50.265Z"
   },
   {
    "duration": 440,
    "start_time": "2022-09-23T12:27:50.284Z"
   },
   {
    "duration": 12,
    "start_time": "2022-09-23T12:27:50.726Z"
   },
   {
    "duration": 9,
    "start_time": "2022-09-23T12:27:50.739Z"
   },
   {
    "duration": 19,
    "start_time": "2022-09-23T12:27:50.749Z"
   },
   {
    "duration": 60,
    "start_time": "2022-09-23T12:27:50.769Z"
   },
   {
    "duration": 19,
    "start_time": "2022-09-23T12:27:50.834Z"
   },
   {
    "duration": 24,
    "start_time": "2022-09-23T12:27:50.854Z"
   },
   {
    "duration": 76,
    "start_time": "2022-09-23T12:27:50.880Z"
   },
   {
    "duration": 26,
    "start_time": "2022-09-23T12:27:50.958Z"
   },
   {
    "duration": 19,
    "start_time": "2022-09-23T12:27:50.985Z"
   },
   {
    "duration": 80,
    "start_time": "2022-09-23T12:27:51.005Z"
   },
   {
    "duration": 57,
    "start_time": "2022-09-23T12:28:08.461Z"
   },
   {
    "duration": 22,
    "start_time": "2022-09-23T12:34:00.764Z"
   },
   {
    "duration": 20,
    "start_time": "2022-09-23T12:48:23.952Z"
   },
   {
    "duration": 62,
    "start_time": "2022-09-23T12:50:05.632Z"
   },
   {
    "duration": 69,
    "start_time": "2022-09-23T12:51:22.236Z"
   },
   {
    "duration": 147,
    "start_time": "2022-09-23T12:55:38.921Z"
   },
   {
    "duration": 5,
    "start_time": "2022-09-23T12:55:45.990Z"
   },
   {
    "duration": 10,
    "start_time": "2022-09-23T12:56:38.154Z"
   },
   {
    "duration": 1238,
    "start_time": "2022-09-23T12:56:50.938Z"
   },
   {
    "duration": 61,
    "start_time": "2022-09-23T12:56:52.178Z"
   },
   {
    "duration": 17,
    "start_time": "2022-09-23T12:56:52.241Z"
   },
   {
    "duration": 17,
    "start_time": "2022-09-23T12:56:52.260Z"
   },
   {
    "duration": 9,
    "start_time": "2022-09-23T12:56:52.279Z"
   },
   {
    "duration": 9,
    "start_time": "2022-09-23T12:56:52.290Z"
   },
   {
    "duration": 47,
    "start_time": "2022-09-23T12:56:52.301Z"
   },
   {
    "duration": 21,
    "start_time": "2022-09-23T12:56:52.350Z"
   },
   {
    "duration": 23,
    "start_time": "2022-09-23T12:56:52.373Z"
   },
   {
    "duration": 38,
    "start_time": "2022-09-23T12:56:52.398Z"
   },
   {
    "duration": 9,
    "start_time": "2022-09-23T12:56:52.437Z"
   },
   {
    "duration": 12,
    "start_time": "2022-09-23T12:56:52.448Z"
   },
   {
    "duration": 7,
    "start_time": "2022-09-23T12:56:52.462Z"
   },
   {
    "duration": 9,
    "start_time": "2022-09-23T12:56:52.470Z"
   },
   {
    "duration": 26,
    "start_time": "2022-09-23T12:56:52.481Z"
   },
   {
    "duration": 28,
    "start_time": "2022-09-23T12:56:52.509Z"
   },
   {
    "duration": 10,
    "start_time": "2022-09-23T12:56:52.539Z"
   },
   {
    "duration": 58,
    "start_time": "2022-09-23T12:56:52.551Z"
   },
   {
    "duration": 23,
    "start_time": "2022-09-23T12:56:52.611Z"
   },
   {
    "duration": 8,
    "start_time": "2022-09-23T12:56:52.636Z"
   },
   {
    "duration": 9,
    "start_time": "2022-09-23T12:56:52.646Z"
   },
   {
    "duration": 18,
    "start_time": "2022-09-23T12:56:52.656Z"
   },
   {
    "duration": 8,
    "start_time": "2022-09-23T12:56:52.675Z"
   },
   {
    "duration": 9,
    "start_time": "2022-09-23T12:56:52.684Z"
   },
   {
    "duration": 14,
    "start_time": "2022-09-23T12:56:52.694Z"
   },
   {
    "duration": 14,
    "start_time": "2022-09-23T12:56:52.710Z"
   },
   {
    "duration": 15,
    "start_time": "2022-09-23T12:56:52.734Z"
   },
   {
    "duration": 21,
    "start_time": "2022-09-23T12:56:52.754Z"
   },
   {
    "duration": 15,
    "start_time": "2022-09-23T12:56:52.776Z"
   },
   {
    "duration": 14,
    "start_time": "2022-09-23T12:56:52.793Z"
   },
   {
    "duration": 6,
    "start_time": "2022-09-23T12:56:52.809Z"
   },
   {
    "duration": 27,
    "start_time": "2022-09-23T12:56:52.817Z"
   },
   {
    "duration": 14,
    "start_time": "2022-09-23T12:56:52.845Z"
   },
   {
    "duration": 143,
    "start_time": "2022-09-23T12:56:52.861Z"
   },
   {
    "duration": 14,
    "start_time": "2022-09-23T12:56:53.006Z"
   },
   {
    "duration": 346,
    "start_time": "2022-09-23T12:56:53.021Z"
   },
   {
    "duration": 18,
    "start_time": "2022-09-23T12:56:53.368Z"
   },
   {
    "duration": 62,
    "start_time": "2022-09-23T12:56:53.387Z"
   },
   {
    "duration": 165,
    "start_time": "2022-09-23T12:56:53.451Z"
   },
   {
    "duration": 81,
    "start_time": "2022-09-23T12:56:53.618Z"
   },
   {
    "duration": 33,
    "start_time": "2022-09-23T12:56:53.701Z"
   },
   {
    "duration": 25,
    "start_time": "2022-09-23T12:56:53.736Z"
   },
   {
    "duration": 15,
    "start_time": "2022-09-23T12:56:53.762Z"
   },
   {
    "duration": 59,
    "start_time": "2022-09-23T12:56:53.779Z"
   },
   {
    "duration": 11,
    "start_time": "2022-09-23T12:56:53.839Z"
   },
   {
    "duration": 11,
    "start_time": "2022-09-23T12:56:53.851Z"
   },
   {
    "duration": 89,
    "start_time": "2022-09-23T12:56:53.863Z"
   },
   {
    "duration": 17,
    "start_time": "2022-09-23T12:56:53.953Z"
   },
   {
    "duration": 457,
    "start_time": "2022-09-23T12:56:53.972Z"
   },
   {
    "duration": 16,
    "start_time": "2022-09-23T12:56:54.431Z"
   },
   {
    "duration": 6,
    "start_time": "2022-09-23T12:56:54.449Z"
   },
   {
    "duration": 19,
    "start_time": "2022-09-23T12:56:54.457Z"
   },
   {
    "duration": 459,
    "start_time": "2022-09-23T12:56:54.477Z"
   },
   {
    "duration": 10,
    "start_time": "2022-09-23T12:56:54.938Z"
   },
   {
    "duration": 9,
    "start_time": "2022-09-23T12:56:54.950Z"
   },
   {
    "duration": 13,
    "start_time": "2022-09-23T12:56:54.960Z"
   },
   {
    "duration": 84,
    "start_time": "2022-09-23T12:56:54.975Z"
   },
   {
    "duration": 20,
    "start_time": "2022-09-23T12:56:55.061Z"
   },
   {
    "duration": 18,
    "start_time": "2022-09-23T12:56:55.083Z"
   },
   {
    "duration": 81,
    "start_time": "2022-09-23T12:56:55.102Z"
   },
   {
    "duration": 24,
    "start_time": "2022-09-23T12:56:55.185Z"
   },
   {
    "duration": 38,
    "start_time": "2022-09-23T12:56:55.211Z"
   },
   {
    "duration": 67,
    "start_time": "2022-09-23T12:56:55.251Z"
   },
   {
    "duration": 29,
    "start_time": "2022-09-23T12:56:55.319Z"
   },
   {
    "duration": 31,
    "start_time": "2022-09-23T12:56:55.349Z"
   },
   {
    "duration": 63,
    "start_time": "2022-09-23T12:56:55.382Z"
   },
   {
    "duration": 4,
    "start_time": "2022-09-23T13:03:36.947Z"
   },
   {
    "duration": 4,
    "start_time": "2022-09-23T13:04:13.919Z"
   },
   {
    "duration": 25,
    "start_time": "2022-09-23T13:07:18.172Z"
   },
   {
    "duration": 1227,
    "start_time": "2022-09-23T13:07:23.641Z"
   },
   {
    "duration": 53,
    "start_time": "2022-09-23T13:07:24.870Z"
   },
   {
    "duration": 14,
    "start_time": "2022-09-23T13:07:24.925Z"
   },
   {
    "duration": 17,
    "start_time": "2022-09-23T13:07:24.941Z"
   },
   {
    "duration": 9,
    "start_time": "2022-09-23T13:07:24.960Z"
   },
   {
    "duration": 11,
    "start_time": "2022-09-23T13:07:24.970Z"
   },
   {
    "duration": 25,
    "start_time": "2022-09-23T13:07:24.983Z"
   },
   {
    "duration": 42,
    "start_time": "2022-09-23T13:07:25.010Z"
   },
   {
    "duration": 20,
    "start_time": "2022-09-23T13:07:25.053Z"
   },
   {
    "duration": 19,
    "start_time": "2022-09-23T13:07:25.077Z"
   },
   {
    "duration": 10,
    "start_time": "2022-09-23T13:07:25.097Z"
   },
   {
    "duration": 33,
    "start_time": "2022-09-23T13:07:25.108Z"
   },
   {
    "duration": 8,
    "start_time": "2022-09-23T13:07:25.142Z"
   },
   {
    "duration": 22,
    "start_time": "2022-09-23T13:07:25.151Z"
   },
   {
    "duration": 32,
    "start_time": "2022-09-23T13:07:25.174Z"
   },
   {
    "duration": 16,
    "start_time": "2022-09-23T13:07:25.207Z"
   },
   {
    "duration": 11,
    "start_time": "2022-09-23T13:07:25.224Z"
   },
   {
    "duration": 55,
    "start_time": "2022-09-23T13:07:25.237Z"
   },
   {
    "duration": 10,
    "start_time": "2022-09-23T13:07:25.293Z"
   },
   {
    "duration": 10,
    "start_time": "2022-09-23T13:07:25.304Z"
   },
   {
    "duration": 19,
    "start_time": "2022-09-23T13:07:25.315Z"
   },
   {
    "duration": 14,
    "start_time": "2022-09-23T13:07:25.336Z"
   },
   {
    "duration": 6,
    "start_time": "2022-09-23T13:07:25.351Z"
   },
   {
    "duration": 11,
    "start_time": "2022-09-23T13:07:25.358Z"
   },
   {
    "duration": 8,
    "start_time": "2022-09-23T13:07:25.370Z"
   },
   {
    "duration": 25,
    "start_time": "2022-09-23T13:07:25.380Z"
   },
   {
    "duration": 29,
    "start_time": "2022-09-23T13:07:25.406Z"
   },
   {
    "duration": 10,
    "start_time": "2022-09-23T13:07:25.439Z"
   },
   {
    "duration": 7,
    "start_time": "2022-09-23T13:07:25.451Z"
   },
   {
    "duration": 13,
    "start_time": "2022-09-23T13:07:25.459Z"
   },
   {
    "duration": 10,
    "start_time": "2022-09-23T13:07:25.473Z"
   },
   {
    "duration": 10,
    "start_time": "2022-09-23T13:07:25.485Z"
   },
   {
    "duration": 141,
    "start_time": "2022-09-23T13:07:25.496Z"
   },
   {
    "duration": 15,
    "start_time": "2022-09-23T13:07:25.638Z"
   },
   {
    "duration": 351,
    "start_time": "2022-09-23T13:07:25.655Z"
   },
   {
    "duration": 29,
    "start_time": "2022-09-23T13:07:26.008Z"
   },
   {
    "duration": 24,
    "start_time": "2022-09-23T13:07:26.039Z"
   },
   {
    "duration": 203,
    "start_time": "2022-09-23T13:07:26.065Z"
   },
   {
    "duration": 100,
    "start_time": "2022-09-23T13:07:26.270Z"
   },
   {
    "duration": 24,
    "start_time": "2022-09-23T13:07:26.372Z"
   },
   {
    "duration": 50,
    "start_time": "2022-09-23T13:07:26.397Z"
   },
   {
    "duration": 16,
    "start_time": "2022-09-23T13:07:26.448Z"
   },
   {
    "duration": 43,
    "start_time": "2022-09-23T13:07:26.465Z"
   },
   {
    "duration": 33,
    "start_time": "2022-09-23T13:07:26.509Z"
   },
   {
    "duration": 13,
    "start_time": "2022-09-23T13:07:26.544Z"
   },
   {
    "duration": 84,
    "start_time": "2022-09-23T13:07:26.558Z"
   },
   {
    "duration": 17,
    "start_time": "2022-09-23T13:07:26.643Z"
   },
   {
    "duration": 461,
    "start_time": "2022-09-23T13:07:26.662Z"
   },
   {
    "duration": 19,
    "start_time": "2022-09-23T13:07:27.125Z"
   },
   {
    "duration": 6,
    "start_time": "2022-09-23T13:07:27.146Z"
   },
   {
    "duration": 16,
    "start_time": "2022-09-23T13:07:27.153Z"
   },
   {
    "duration": 428,
    "start_time": "2022-09-23T13:07:27.171Z"
   },
   {
    "duration": 8,
    "start_time": "2022-09-23T13:07:27.601Z"
   },
   {
    "duration": 5,
    "start_time": "2022-09-23T13:07:27.611Z"
   },
   {
    "duration": 24,
    "start_time": "2022-09-23T13:07:27.617Z"
   },
   {
    "duration": 55,
    "start_time": "2022-09-23T13:07:27.643Z"
   },
   {
    "duration": 45,
    "start_time": "2022-09-23T13:07:27.700Z"
   },
   {
    "duration": 17,
    "start_time": "2022-09-23T13:07:27.747Z"
   },
   {
    "duration": 74,
    "start_time": "2022-09-23T13:07:27.766Z"
   },
   {
    "duration": 24,
    "start_time": "2022-09-23T13:07:27.841Z"
   },
   {
    "duration": 18,
    "start_time": "2022-09-23T13:07:27.867Z"
   },
   {
    "duration": 76,
    "start_time": "2022-09-23T13:07:27.886Z"
   },
   {
    "duration": 21,
    "start_time": "2022-09-23T13:07:27.963Z"
   },
   {
    "duration": 45,
    "start_time": "2022-09-23T13:07:27.986Z"
   },
   {
    "duration": 55,
    "start_time": "2022-09-23T13:07:28.033Z"
   },
   {
    "duration": 1393,
    "start_time": "2022-09-23T13:12:38.428Z"
   },
   {
    "duration": 1327,
    "start_time": "2022-09-23T13:13:01.646Z"
   },
   {
    "duration": 54,
    "start_time": "2022-09-23T13:13:02.975Z"
   },
   {
    "duration": 16,
    "start_time": "2022-09-23T13:13:03.031Z"
   },
   {
    "duration": 19,
    "start_time": "2022-09-23T13:13:03.049Z"
   },
   {
    "duration": 10,
    "start_time": "2022-09-23T13:13:03.070Z"
   },
   {
    "duration": 7,
    "start_time": "2022-09-23T13:13:03.082Z"
   },
   {
    "duration": 54,
    "start_time": "2022-09-23T13:13:03.090Z"
   },
   {
    "duration": 29,
    "start_time": "2022-09-23T13:13:03.146Z"
   },
   {
    "duration": 27,
    "start_time": "2022-09-23T13:13:03.177Z"
   },
   {
    "duration": 51,
    "start_time": "2022-09-23T13:13:03.208Z"
   },
   {
    "duration": 9,
    "start_time": "2022-09-23T13:13:03.261Z"
   },
   {
    "duration": 12,
    "start_time": "2022-09-23T13:13:03.271Z"
   },
   {
    "duration": 6,
    "start_time": "2022-09-23T13:13:03.285Z"
   },
   {
    "duration": 7,
    "start_time": "2022-09-23T13:13:03.293Z"
   },
   {
    "duration": 45,
    "start_time": "2022-09-23T13:13:03.301Z"
   },
   {
    "duration": 20,
    "start_time": "2022-09-23T13:13:03.347Z"
   },
   {
    "duration": 8,
    "start_time": "2022-09-23T13:13:03.369Z"
   },
   {
    "duration": 73,
    "start_time": "2022-09-23T13:13:03.378Z"
   },
   {
    "duration": 8,
    "start_time": "2022-09-23T13:13:03.453Z"
   },
   {
    "duration": 9,
    "start_time": "2022-09-23T13:13:03.462Z"
   },
   {
    "duration": 5,
    "start_time": "2022-09-23T13:13:03.472Z"
   },
   {
    "duration": 14,
    "start_time": "2022-09-23T13:13:03.478Z"
   },
   {
    "duration": 5,
    "start_time": "2022-09-23T13:13:03.494Z"
   },
   {
    "duration": 37,
    "start_time": "2022-09-23T13:13:03.500Z"
   },
   {
    "duration": 18,
    "start_time": "2022-09-23T13:13:03.539Z"
   },
   {
    "duration": 26,
    "start_time": "2022-09-23T13:13:03.559Z"
   },
   {
    "duration": 32,
    "start_time": "2022-09-23T13:13:03.587Z"
   },
   {
    "duration": 9,
    "start_time": "2022-09-23T13:13:03.624Z"
   },
   {
    "duration": 6,
    "start_time": "2022-09-23T13:13:03.635Z"
   },
   {
    "duration": 10,
    "start_time": "2022-09-23T13:13:03.642Z"
   },
   {
    "duration": 15,
    "start_time": "2022-09-23T13:13:03.654Z"
   },
   {
    "duration": 10,
    "start_time": "2022-09-23T13:13:03.671Z"
   },
   {
    "duration": 166,
    "start_time": "2022-09-23T13:13:03.683Z"
   },
   {
    "duration": 20,
    "start_time": "2022-09-23T13:13:03.851Z"
   },
   {
    "duration": 377,
    "start_time": "2022-09-23T13:13:03.873Z"
   },
   {
    "duration": 18,
    "start_time": "2022-09-23T13:13:04.252Z"
   },
   {
    "duration": 61,
    "start_time": "2022-09-23T13:13:04.272Z"
   },
   {
    "duration": 159,
    "start_time": "2022-09-23T13:13:04.335Z"
   },
   {
    "duration": 83,
    "start_time": "2022-09-23T13:13:04.496Z"
   },
   {
    "duration": 20,
    "start_time": "2022-09-23T13:13:04.581Z"
   },
   {
    "duration": 49,
    "start_time": "2022-09-23T13:13:04.604Z"
   },
   {
    "duration": 17,
    "start_time": "2022-09-23T13:13:04.655Z"
   },
   {
    "duration": 60,
    "start_time": "2022-09-23T13:13:04.674Z"
   },
   {
    "duration": 13,
    "start_time": "2022-09-23T13:13:04.735Z"
   },
   {
    "duration": 24,
    "start_time": "2022-09-23T13:13:04.750Z"
   },
   {
    "duration": 100,
    "start_time": "2022-09-23T13:13:04.776Z"
   },
   {
    "duration": 22,
    "start_time": "2022-09-23T13:13:04.877Z"
   },
   {
    "duration": 467,
    "start_time": "2022-09-23T13:13:04.901Z"
   },
   {
    "duration": 16,
    "start_time": "2022-09-23T13:13:05.370Z"
   },
   {
    "duration": 9,
    "start_time": "2022-09-23T13:13:05.387Z"
   },
   {
    "duration": 50,
    "start_time": "2022-09-23T13:13:05.398Z"
   },
   {
    "duration": 455,
    "start_time": "2022-09-23T13:13:05.450Z"
   },
   {
    "duration": 10,
    "start_time": "2022-09-23T13:13:05.907Z"
   },
   {
    "duration": 21,
    "start_time": "2022-09-23T13:13:05.919Z"
   },
   {
    "duration": 22,
    "start_time": "2022-09-23T13:13:05.942Z"
   },
   {
    "duration": 60,
    "start_time": "2022-09-23T13:13:05.966Z"
   },
   {
    "duration": 21,
    "start_time": "2022-09-23T13:13:06.027Z"
   },
   {
    "duration": 24,
    "start_time": "2022-09-23T13:13:06.050Z"
   },
   {
    "duration": 77,
    "start_time": "2022-09-23T13:13:06.075Z"
   },
   {
    "duration": 27,
    "start_time": "2022-09-23T13:13:06.154Z"
   },
   {
    "duration": 21,
    "start_time": "2022-09-23T13:13:06.183Z"
   },
   {
    "duration": 93,
    "start_time": "2022-09-23T13:13:06.206Z"
   },
   {
    "duration": 42,
    "start_time": "2022-09-23T13:13:06.302Z"
   },
   {
    "duration": 24,
    "start_time": "2022-09-23T13:13:06.346Z"
   },
   {
    "duration": 103,
    "start_time": "2022-09-23T13:13:06.372Z"
   },
   {
    "duration": 1190,
    "start_time": "2022-09-23T13:13:06.477Z"
   },
   {
    "duration": 55,
    "start_time": "2022-09-23T13:16:41.559Z"
   },
   {
    "duration": 10,
    "start_time": "2022-09-23T13:16:51.589Z"
   },
   {
    "duration": 10,
    "start_time": "2022-09-23T13:19:45.133Z"
   },
   {
    "duration": 4,
    "start_time": "2022-09-23T13:20:03.860Z"
   },
   {
    "duration": 6,
    "start_time": "2022-09-23T13:20:27.177Z"
   },
   {
    "duration": 12,
    "start_time": "2022-09-23T13:23:18.663Z"
   },
   {
    "duration": 1234,
    "start_time": "2022-09-23T13:23:41.439Z"
   },
   {
    "duration": 56,
    "start_time": "2022-09-23T13:23:42.674Z"
   },
   {
    "duration": 15,
    "start_time": "2022-09-23T13:23:42.731Z"
   },
   {
    "duration": 15,
    "start_time": "2022-09-23T13:23:42.748Z"
   },
   {
    "duration": 8,
    "start_time": "2022-09-23T13:23:42.765Z"
   },
   {
    "duration": 6,
    "start_time": "2022-09-23T13:23:42.775Z"
   },
   {
    "duration": 25,
    "start_time": "2022-09-23T13:23:42.782Z"
   },
   {
    "duration": 44,
    "start_time": "2022-09-23T13:23:42.808Z"
   },
   {
    "duration": 20,
    "start_time": "2022-09-23T13:23:42.854Z"
   },
   {
    "duration": 21,
    "start_time": "2022-09-23T13:23:42.877Z"
   },
   {
    "duration": 34,
    "start_time": "2022-09-23T13:23:42.900Z"
   },
   {
    "duration": 7,
    "start_time": "2022-09-23T13:23:42.936Z"
   },
   {
    "duration": 14,
    "start_time": "2022-09-23T13:23:42.945Z"
   },
   {
    "duration": 7,
    "start_time": "2022-09-23T13:23:42.960Z"
   },
   {
    "duration": 24,
    "start_time": "2022-09-23T13:23:42.968Z"
   },
   {
    "duration": 15,
    "start_time": "2022-09-23T13:23:42.994Z"
   },
   {
    "duration": 6,
    "start_time": "2022-09-23T13:23:43.011Z"
   },
   {
    "duration": 56,
    "start_time": "2022-09-23T13:23:43.033Z"
   },
   {
    "duration": 10,
    "start_time": "2022-09-23T13:23:43.090Z"
   },
   {
    "duration": 11,
    "start_time": "2022-09-23T13:23:43.101Z"
   },
   {
    "duration": 5,
    "start_time": "2022-09-23T13:23:43.133Z"
   },
   {
    "duration": 16,
    "start_time": "2022-09-23T13:23:43.139Z"
   },
   {
    "duration": 5,
    "start_time": "2022-09-23T13:23:43.157Z"
   },
   {
    "duration": 8,
    "start_time": "2022-09-23T13:23:43.163Z"
   },
   {
    "duration": 8,
    "start_time": "2022-09-23T13:23:43.172Z"
   },
   {
    "duration": 24,
    "start_time": "2022-09-23T13:23:43.182Z"
   },
   {
    "duration": 33,
    "start_time": "2022-09-23T13:23:43.208Z"
   },
   {
    "duration": 7,
    "start_time": "2022-09-23T13:23:43.245Z"
   },
   {
    "duration": 8,
    "start_time": "2022-09-23T13:23:43.255Z"
   },
   {
    "duration": 6,
    "start_time": "2022-09-23T13:23:43.265Z"
   },
   {
    "duration": 10,
    "start_time": "2022-09-23T13:23:43.273Z"
   },
   {
    "duration": 10,
    "start_time": "2022-09-23T13:23:43.284Z"
   },
   {
    "duration": 176,
    "start_time": "2022-09-23T13:23:43.296Z"
   },
   {
    "duration": 15,
    "start_time": "2022-09-23T13:23:43.473Z"
   },
   {
    "duration": 351,
    "start_time": "2022-09-23T13:23:43.490Z"
   },
   {
    "duration": 23,
    "start_time": "2022-09-23T13:23:43.842Z"
   },
   {
    "duration": 81,
    "start_time": "2022-09-23T13:23:43.867Z"
   },
   {
    "duration": 169,
    "start_time": "2022-09-23T13:23:43.949Z"
   },
   {
    "duration": 92,
    "start_time": "2022-09-23T13:23:44.119Z"
   },
   {
    "duration": 32,
    "start_time": "2022-09-23T13:23:44.213Z"
   },
   {
    "duration": 38,
    "start_time": "2022-09-23T13:23:44.246Z"
   },
   {
    "duration": 27,
    "start_time": "2022-09-23T13:23:44.285Z"
   },
   {
    "duration": 57,
    "start_time": "2022-09-23T13:23:44.314Z"
   },
   {
    "duration": 14,
    "start_time": "2022-09-23T13:23:44.373Z"
   },
   {
    "duration": 26,
    "start_time": "2022-09-23T13:23:44.388Z"
   },
   {
    "duration": 79,
    "start_time": "2022-09-23T13:23:44.416Z"
   },
   {
    "duration": 17,
    "start_time": "2022-09-23T13:23:44.497Z"
   },
   {
    "duration": 482,
    "start_time": "2022-09-23T13:23:44.516Z"
   },
   {
    "duration": 17,
    "start_time": "2022-09-23T13:23:45.000Z"
   },
   {
    "duration": 24,
    "start_time": "2022-09-23T13:23:45.018Z"
   },
   {
    "duration": 37,
    "start_time": "2022-09-23T13:23:45.043Z"
   },
   {
    "duration": 456,
    "start_time": "2022-09-23T13:23:45.082Z"
   },
   {
    "duration": 10,
    "start_time": "2022-09-23T13:23:45.539Z"
   },
   {
    "duration": 31,
    "start_time": "2022-09-23T13:23:45.550Z"
   },
   {
    "duration": 24,
    "start_time": "2022-09-23T13:23:45.583Z"
   },
   {
    "duration": 86,
    "start_time": "2022-09-23T13:23:45.608Z"
   },
   {
    "duration": 21,
    "start_time": "2022-09-23T13:23:45.696Z"
   },
   {
    "duration": 29,
    "start_time": "2022-09-23T13:23:45.718Z"
   },
   {
    "duration": 72,
    "start_time": "2022-09-23T13:23:45.748Z"
   },
   {
    "duration": 34,
    "start_time": "2022-09-23T13:23:45.821Z"
   },
   {
    "duration": 58,
    "start_time": "2022-09-23T13:23:45.857Z"
   },
   {
    "duration": 90,
    "start_time": "2022-09-23T13:23:45.917Z"
   },
   {
    "duration": 24,
    "start_time": "2022-09-23T13:23:46.009Z"
   },
   {
    "duration": 38,
    "start_time": "2022-09-23T13:23:46.035Z"
   },
   {
    "duration": 86,
    "start_time": "2022-09-23T13:23:46.075Z"
   },
   {
    "duration": 12,
    "start_time": "2022-09-23T13:23:46.163Z"
   },
   {
    "duration": 30,
    "start_time": "2022-09-23T13:23:46.177Z"
   },
   {
    "duration": 47,
    "start_time": "2022-09-23T13:23:46.210Z"
   },
   {
    "duration": 6,
    "start_time": "2022-09-23T13:24:24.037Z"
   },
   {
    "duration": 1259,
    "start_time": "2022-09-23T13:24:31.601Z"
   },
   {
    "duration": 58,
    "start_time": "2022-09-23T13:24:32.862Z"
   },
   {
    "duration": 15,
    "start_time": "2022-09-23T13:24:32.922Z"
   },
   {
    "duration": 16,
    "start_time": "2022-09-23T13:24:32.939Z"
   },
   {
    "duration": 12,
    "start_time": "2022-09-23T13:24:32.957Z"
   },
   {
    "duration": 7,
    "start_time": "2022-09-23T13:24:32.970Z"
   },
   {
    "duration": 35,
    "start_time": "2022-09-23T13:24:32.979Z"
   },
   {
    "duration": 33,
    "start_time": "2022-09-23T13:24:33.016Z"
   },
   {
    "duration": 20,
    "start_time": "2022-09-23T13:24:33.050Z"
   },
   {
    "duration": 18,
    "start_time": "2022-09-23T13:24:33.073Z"
   },
   {
    "duration": 10,
    "start_time": "2022-09-23T13:24:33.092Z"
   },
   {
    "duration": 35,
    "start_time": "2022-09-23T13:24:33.103Z"
   },
   {
    "duration": 6,
    "start_time": "2022-09-23T13:24:33.140Z"
   },
   {
    "duration": 8,
    "start_time": "2022-09-23T13:24:33.148Z"
   },
   {
    "duration": 27,
    "start_time": "2022-09-23T13:24:33.158Z"
   },
   {
    "duration": 14,
    "start_time": "2022-09-23T13:24:33.186Z"
   },
   {
    "duration": 7,
    "start_time": "2022-09-23T13:24:33.201Z"
   },
   {
    "duration": 94,
    "start_time": "2022-09-23T13:24:33.209Z"
   },
   {
    "duration": 11,
    "start_time": "2022-09-23T13:24:33.305Z"
   },
   {
    "duration": 20,
    "start_time": "2022-09-23T13:24:33.317Z"
   },
   {
    "duration": 5,
    "start_time": "2022-09-23T13:24:33.338Z"
   },
   {
    "duration": 15,
    "start_time": "2022-09-23T13:24:33.344Z"
   },
   {
    "duration": 6,
    "start_time": "2022-09-23T13:24:33.360Z"
   },
   {
    "duration": 10,
    "start_time": "2022-09-23T13:24:33.367Z"
   },
   {
    "duration": 7,
    "start_time": "2022-09-23T13:24:33.379Z"
   },
   {
    "duration": 46,
    "start_time": "2022-09-23T13:24:33.388Z"
   },
   {
    "duration": 17,
    "start_time": "2022-09-23T13:24:33.437Z"
   },
   {
    "duration": 13,
    "start_time": "2022-09-23T13:24:33.458Z"
   },
   {
    "duration": 6,
    "start_time": "2022-09-23T13:24:33.473Z"
   },
   {
    "duration": 7,
    "start_time": "2022-09-23T13:24:33.481Z"
   },
   {
    "duration": 11,
    "start_time": "2022-09-23T13:24:33.490Z"
   },
   {
    "duration": 10,
    "start_time": "2022-09-23T13:24:33.502Z"
   },
   {
    "duration": 149,
    "start_time": "2022-09-23T13:24:33.534Z"
   },
   {
    "duration": 15,
    "start_time": "2022-09-23T13:24:33.685Z"
   },
   {
    "duration": 372,
    "start_time": "2022-09-23T13:24:33.701Z"
   },
   {
    "duration": 23,
    "start_time": "2022-09-23T13:24:34.075Z"
   },
   {
    "duration": 49,
    "start_time": "2022-09-23T13:24:34.101Z"
   },
   {
    "duration": 187,
    "start_time": "2022-09-23T13:24:34.152Z"
   },
   {
    "duration": 92,
    "start_time": "2022-09-23T13:24:34.341Z"
   },
   {
    "duration": 20,
    "start_time": "2022-09-23T13:24:34.435Z"
   },
   {
    "duration": 31,
    "start_time": "2022-09-23T13:24:34.458Z"
   },
   {
    "duration": 14,
    "start_time": "2022-09-23T13:24:34.491Z"
   },
   {
    "duration": 67,
    "start_time": "2022-09-23T13:24:34.507Z"
   },
   {
    "duration": 13,
    "start_time": "2022-09-23T13:24:34.576Z"
   },
   {
    "duration": 12,
    "start_time": "2022-09-23T13:24:34.590Z"
   },
   {
    "duration": 97,
    "start_time": "2022-09-23T13:24:34.604Z"
   },
   {
    "duration": 37,
    "start_time": "2022-09-23T13:24:34.703Z"
   },
   {
    "duration": 454,
    "start_time": "2022-09-23T13:24:34.742Z"
   },
   {
    "duration": 17,
    "start_time": "2022-09-23T13:24:35.198Z"
   },
   {
    "duration": 19,
    "start_time": "2022-09-23T13:24:35.217Z"
   },
   {
    "duration": 24,
    "start_time": "2022-09-23T13:24:35.237Z"
   },
   {
    "duration": 420,
    "start_time": "2022-09-23T13:24:35.263Z"
   },
   {
    "duration": 9,
    "start_time": "2022-09-23T13:24:35.685Z"
   },
   {
    "duration": 10,
    "start_time": "2022-09-23T13:24:35.695Z"
   },
   {
    "duration": 26,
    "start_time": "2022-09-23T13:24:35.707Z"
   },
   {
    "duration": 58,
    "start_time": "2022-09-23T13:24:35.735Z"
   },
   {
    "duration": 19,
    "start_time": "2022-09-23T13:24:35.795Z"
   },
   {
    "duration": 20,
    "start_time": "2022-09-23T13:24:35.833Z"
   },
   {
    "duration": 81,
    "start_time": "2022-09-23T13:24:35.855Z"
   },
   {
    "duration": 26,
    "start_time": "2022-09-23T13:24:35.938Z"
   },
   {
    "duration": 18,
    "start_time": "2022-09-23T13:24:35.965Z"
   },
   {
    "duration": 80,
    "start_time": "2022-09-23T13:24:35.985Z"
   },
   {
    "duration": 22,
    "start_time": "2022-09-23T13:24:36.067Z"
   },
   {
    "duration": 28,
    "start_time": "2022-09-23T13:24:36.090Z"
   },
   {
    "duration": 81,
    "start_time": "2022-09-23T13:24:36.119Z"
   },
   {
    "duration": 14,
    "start_time": "2022-09-23T13:24:36.202Z"
   },
   {
    "duration": 23,
    "start_time": "2022-09-23T13:24:36.218Z"
   },
   {
    "duration": 19,
    "start_time": "2022-09-23T13:24:36.244Z"
   },
   {
    "duration": 11,
    "start_time": "2022-09-23T13:28:49.003Z"
   },
   {
    "duration": 4,
    "start_time": "2022-09-23T13:29:12.950Z"
   },
   {
    "duration": 6,
    "start_time": "2022-09-23T13:29:48.541Z"
   },
   {
    "duration": 13,
    "start_time": "2022-09-23T13:40:56.788Z"
   },
   {
    "duration": 1165,
    "start_time": "2022-09-23T13:41:02.186Z"
   },
   {
    "duration": 54,
    "start_time": "2022-09-23T13:41:03.353Z"
   },
   {
    "duration": 15,
    "start_time": "2022-09-23T13:41:03.408Z"
   },
   {
    "duration": 19,
    "start_time": "2022-09-23T13:41:03.425Z"
   },
   {
    "duration": 8,
    "start_time": "2022-09-23T13:41:03.446Z"
   },
   {
    "duration": 5,
    "start_time": "2022-09-23T13:41:03.456Z"
   },
   {
    "duration": 35,
    "start_time": "2022-09-23T13:41:03.463Z"
   },
   {
    "duration": 20,
    "start_time": "2022-09-23T13:41:03.499Z"
   },
   {
    "duration": 31,
    "start_time": "2022-09-23T13:41:03.521Z"
   },
   {
    "duration": 20,
    "start_time": "2022-09-23T13:41:03.555Z"
   },
   {
    "duration": 11,
    "start_time": "2022-09-23T13:41:03.577Z"
   },
   {
    "duration": 20,
    "start_time": "2022-09-23T13:41:03.589Z"
   },
   {
    "duration": 11,
    "start_time": "2022-09-23T13:41:03.611Z"
   },
   {
    "duration": 23,
    "start_time": "2022-09-23T13:41:03.624Z"
   },
   {
    "duration": 33,
    "start_time": "2022-09-23T13:41:03.648Z"
   },
   {
    "duration": 16,
    "start_time": "2022-09-23T13:41:03.682Z"
   },
   {
    "duration": 16,
    "start_time": "2022-09-23T13:41:03.699Z"
   },
   {
    "duration": 79,
    "start_time": "2022-09-23T13:41:03.717Z"
   },
   {
    "duration": 12,
    "start_time": "2022-09-23T13:41:03.798Z"
   },
   {
    "duration": 15,
    "start_time": "2022-09-23T13:41:03.812Z"
   },
   {
    "duration": 7,
    "start_time": "2022-09-23T13:41:03.829Z"
   },
   {
    "duration": 21,
    "start_time": "2022-09-23T13:41:03.837Z"
   },
   {
    "duration": 7,
    "start_time": "2022-09-23T13:41:03.860Z"
   },
   {
    "duration": 7,
    "start_time": "2022-09-23T13:41:03.868Z"
   },
   {
    "duration": 19,
    "start_time": "2022-09-23T13:41:03.877Z"
   },
   {
    "duration": 25,
    "start_time": "2022-09-23T13:41:03.897Z"
   },
   {
    "duration": 25,
    "start_time": "2022-09-23T13:41:03.924Z"
   },
   {
    "duration": 10,
    "start_time": "2022-09-23T13:41:03.953Z"
   },
   {
    "duration": 7,
    "start_time": "2022-09-23T13:41:03.965Z"
   },
   {
    "duration": 5,
    "start_time": "2022-09-23T13:41:03.974Z"
   },
   {
    "duration": 10,
    "start_time": "2022-09-23T13:41:03.981Z"
   },
   {
    "duration": 16,
    "start_time": "2022-09-23T13:41:03.993Z"
   },
   {
    "duration": 177,
    "start_time": "2022-09-23T13:41:04.011Z"
   },
   {
    "duration": 17,
    "start_time": "2022-09-23T13:41:04.189Z"
   },
   {
    "duration": 346,
    "start_time": "2022-09-23T13:41:04.207Z"
   },
   {
    "duration": 25,
    "start_time": "2022-09-23T13:41:04.555Z"
   },
   {
    "duration": 65,
    "start_time": "2022-09-23T13:41:04.582Z"
   },
   {
    "duration": 198,
    "start_time": "2022-09-23T13:41:04.649Z"
   },
   {
    "duration": 85,
    "start_time": "2022-09-23T13:41:04.848Z"
   },
   {
    "duration": 19,
    "start_time": "2022-09-23T13:41:04.935Z"
   },
   {
    "duration": 28,
    "start_time": "2022-09-23T13:41:04.955Z"
   },
   {
    "duration": 13,
    "start_time": "2022-09-23T13:41:04.985Z"
   },
   {
    "duration": 69,
    "start_time": "2022-09-23T13:41:05.000Z"
   },
   {
    "duration": 12,
    "start_time": "2022-09-23T13:41:05.070Z"
   },
   {
    "duration": 21,
    "start_time": "2022-09-23T13:41:05.083Z"
   },
   {
    "duration": 81,
    "start_time": "2022-09-23T13:41:05.105Z"
   },
   {
    "duration": 17,
    "start_time": "2022-09-23T13:41:05.188Z"
   },
   {
    "duration": 457,
    "start_time": "2022-09-23T13:41:05.207Z"
   },
   {
    "duration": 15,
    "start_time": "2022-09-23T13:41:05.666Z"
   },
   {
    "duration": 9,
    "start_time": "2022-09-23T13:41:05.682Z"
   },
   {
    "duration": 49,
    "start_time": "2022-09-23T13:41:05.692Z"
   },
   {
    "duration": 526,
    "start_time": "2022-09-23T13:41:05.743Z"
   },
   {
    "duration": 11,
    "start_time": "2022-09-23T13:41:06.271Z"
   },
   {
    "duration": 16,
    "start_time": "2022-09-23T13:41:06.285Z"
   },
   {
    "duration": 20,
    "start_time": "2022-09-23T13:41:06.304Z"
   },
   {
    "duration": 108,
    "start_time": "2022-09-23T13:41:06.326Z"
   },
   {
    "duration": 24,
    "start_time": "2022-09-23T13:41:06.436Z"
   },
   {
    "duration": 83,
    "start_time": "2022-09-23T13:41:06.462Z"
   },
   {
    "duration": 111,
    "start_time": "2022-09-23T13:41:06.546Z"
   },
   {
    "duration": 78,
    "start_time": "2022-09-23T13:41:06.659Z"
   },
   {
    "duration": 20,
    "start_time": "2022-09-23T13:41:06.739Z"
   },
   {
    "duration": 97,
    "start_time": "2022-09-23T13:41:06.760Z"
   },
   {
    "duration": 21,
    "start_time": "2022-09-23T13:41:06.859Z"
   },
   {
    "duration": 68,
    "start_time": "2022-09-23T13:41:06.882Z"
   },
   {
    "duration": 115,
    "start_time": "2022-09-23T13:41:06.952Z"
   },
   {
    "duration": 11,
    "start_time": "2022-09-23T13:41:07.068Z"
   },
   {
    "duration": 6,
    "start_time": "2022-09-23T13:41:07.080Z"
   },
   {
    "duration": 11,
    "start_time": "2022-09-23T13:41:07.088Z"
   },
   {
    "duration": 33,
    "start_time": "2022-09-23T13:41:07.101Z"
   },
   {
    "duration": 3,
    "start_time": "2022-09-23T13:41:07.136Z"
   },
   {
    "duration": 8,
    "start_time": "2022-09-23T13:41:07.141Z"
   },
   {
    "duration": 88,
    "start_time": "2022-09-24T19:50:37.629Z"
   },
   {
    "duration": 121,
    "start_time": "2022-09-24T19:50:58.376Z"
   },
   {
    "duration": 49,
    "start_time": "2022-09-24T19:51:15.451Z"
   },
   {
    "duration": 1458,
    "start_time": "2022-09-24T19:51:29.326Z"
   },
   {
    "duration": 116,
    "start_time": "2022-09-24T19:51:30.786Z"
   },
   {
    "duration": 15,
    "start_time": "2022-09-24T19:51:30.903Z"
   },
   {
    "duration": 45,
    "start_time": "2022-09-24T19:51:30.921Z"
   },
   {
    "duration": 8,
    "start_time": "2022-09-24T19:51:30.968Z"
   },
   {
    "duration": 30,
    "start_time": "2022-09-24T19:51:30.977Z"
   },
   {
    "duration": 62,
    "start_time": "2022-09-24T19:51:31.009Z"
   },
   {
    "duration": 77,
    "start_time": "2022-09-24T19:51:31.073Z"
   },
   {
    "duration": 122,
    "start_time": "2022-09-24T19:51:31.151Z"
   },
   {
    "duration": 25,
    "start_time": "2022-09-24T19:51:31.277Z"
   },
   {
    "duration": 29,
    "start_time": "2022-09-24T19:51:31.304Z"
   },
   {
    "duration": 38,
    "start_time": "2022-09-24T19:51:31.335Z"
   },
   {
    "duration": 25,
    "start_time": "2022-09-24T19:51:31.374Z"
   },
   {
    "duration": 35,
    "start_time": "2022-09-24T19:51:31.400Z"
   },
   {
    "duration": 58,
    "start_time": "2022-09-24T19:51:31.437Z"
   },
   {
    "duration": 37,
    "start_time": "2022-09-24T19:51:31.497Z"
   },
   {
    "duration": 15,
    "start_time": "2022-09-24T19:51:31.536Z"
   },
   {
    "duration": 101,
    "start_time": "2022-09-24T19:51:31.552Z"
   },
   {
    "duration": 9,
    "start_time": "2022-09-24T19:51:31.655Z"
   },
   {
    "duration": 32,
    "start_time": "2022-09-24T19:51:31.665Z"
   },
   {
    "duration": 26,
    "start_time": "2022-09-24T19:51:31.699Z"
   },
   {
    "duration": 32,
    "start_time": "2022-09-24T19:51:31.727Z"
   },
   {
    "duration": 19,
    "start_time": "2022-09-24T19:51:31.761Z"
   },
   {
    "duration": 12,
    "start_time": "2022-09-24T19:51:31.781Z"
   },
   {
    "duration": 34,
    "start_time": "2022-09-24T19:51:31.794Z"
   },
   {
    "duration": 25,
    "start_time": "2022-09-24T19:51:31.830Z"
   },
   {
    "duration": 38,
    "start_time": "2022-09-24T19:51:31.858Z"
   },
   {
    "duration": 11,
    "start_time": "2022-09-24T19:51:31.901Z"
   },
   {
    "duration": 25,
    "start_time": "2022-09-24T19:51:31.914Z"
   },
   {
    "duration": 25,
    "start_time": "2022-09-24T19:51:31.941Z"
   },
   {
    "duration": 47,
    "start_time": "2022-09-24T19:51:31.968Z"
   },
   {
    "duration": 19,
    "start_time": "2022-09-24T19:51:32.017Z"
   },
   {
    "duration": 36,
    "start_time": "2022-09-24T19:51:32.038Z"
   },
   {
    "duration": 151,
    "start_time": "2022-09-24T19:51:32.076Z"
   },
   {
    "duration": 15,
    "start_time": "2022-09-24T19:51:32.229Z"
   },
   {
    "duration": 393,
    "start_time": "2022-09-24T19:51:32.246Z"
   },
   {
    "duration": 24,
    "start_time": "2022-09-24T19:51:32.641Z"
   },
   {
    "duration": 62,
    "start_time": "2022-09-24T19:51:32.668Z"
   },
   {
    "duration": 193,
    "start_time": "2022-09-24T19:51:32.732Z"
   },
   {
    "duration": 92,
    "start_time": "2022-09-24T19:51:32.927Z"
   },
   {
    "duration": 20,
    "start_time": "2022-09-24T19:51:33.021Z"
   },
   {
    "duration": 26,
    "start_time": "2022-09-24T19:51:33.044Z"
   },
   {
    "duration": 39,
    "start_time": "2022-09-24T19:51:33.072Z"
   },
   {
    "duration": 53,
    "start_time": "2022-09-24T19:51:33.112Z"
   },
   {
    "duration": 10,
    "start_time": "2022-09-24T19:51:33.167Z"
   },
   {
    "duration": 19,
    "start_time": "2022-09-24T19:51:33.179Z"
   },
   {
    "duration": 79,
    "start_time": "2022-09-24T19:51:33.209Z"
   },
   {
    "duration": 33,
    "start_time": "2022-09-24T19:51:33.290Z"
   },
   {
    "duration": 452,
    "start_time": "2022-09-24T19:51:33.324Z"
   },
   {
    "duration": 14,
    "start_time": "2022-09-24T19:51:33.778Z"
   },
   {
    "duration": 15,
    "start_time": "2022-09-24T19:51:33.794Z"
   },
   {
    "duration": 23,
    "start_time": "2022-09-24T19:51:33.811Z"
   },
   {
    "duration": 444,
    "start_time": "2022-09-24T19:51:33.836Z"
   },
   {
    "duration": 8,
    "start_time": "2022-09-24T19:51:34.281Z"
   },
   {
    "duration": 23,
    "start_time": "2022-09-24T19:51:34.290Z"
   },
   {
    "duration": 13,
    "start_time": "2022-09-24T19:51:34.315Z"
   },
   {
    "duration": 60,
    "start_time": "2022-09-24T19:51:34.330Z"
   },
   {
    "duration": 28,
    "start_time": "2022-09-24T19:51:34.392Z"
   },
   {
    "duration": 21,
    "start_time": "2022-09-24T19:51:34.422Z"
   },
   {
    "duration": 79,
    "start_time": "2022-09-24T19:51:34.444Z"
   },
   {
    "duration": 30,
    "start_time": "2022-09-24T19:51:34.525Z"
   },
   {
    "duration": 18,
    "start_time": "2022-09-24T19:51:34.557Z"
   },
   {
    "duration": 88,
    "start_time": "2022-09-24T19:51:34.576Z"
   },
   {
    "duration": 30,
    "start_time": "2022-09-24T19:51:34.666Z"
   },
   {
    "duration": 24,
    "start_time": "2022-09-24T19:51:34.715Z"
   },
   {
    "duration": 71,
    "start_time": "2022-09-24T19:51:34.741Z"
   },
   {
    "duration": 14,
    "start_time": "2022-09-24T19:51:34.814Z"
   },
   {
    "duration": 11,
    "start_time": "2022-09-24T19:51:34.831Z"
   },
   {
    "duration": 10,
    "start_time": "2022-09-24T19:51:34.844Z"
   },
   {
    "duration": 13,
    "start_time": "2022-09-24T19:51:34.856Z"
   },
   {
    "duration": 6,
    "start_time": "2022-09-24T19:51:34.870Z"
   },
   {
    "duration": 6,
    "start_time": "2022-09-24T19:51:34.878Z"
   },
   {
    "duration": 15,
    "start_time": "2022-09-24T19:52:41.578Z"
   },
   {
    "duration": 5,
    "start_time": "2022-09-24T19:52:53.448Z"
   },
   {
    "duration": 1200,
    "start_time": "2022-09-24T19:52:59.429Z"
   },
   {
    "duration": 54,
    "start_time": "2022-09-24T19:53:00.631Z"
   },
   {
    "duration": 14,
    "start_time": "2022-09-24T19:53:00.687Z"
   },
   {
    "duration": 25,
    "start_time": "2022-09-24T19:53:00.703Z"
   },
   {
    "duration": 16,
    "start_time": "2022-09-24T19:53:00.729Z"
   },
   {
    "duration": 13,
    "start_time": "2022-09-24T19:53:00.747Z"
   },
   {
    "duration": 36,
    "start_time": "2022-09-24T19:53:00.762Z"
   },
   {
    "duration": 23,
    "start_time": "2022-09-24T19:53:00.799Z"
   },
   {
    "duration": 44,
    "start_time": "2022-09-24T19:53:00.823Z"
   },
   {
    "duration": 19,
    "start_time": "2022-09-24T19:53:00.869Z"
   },
   {
    "duration": 6,
    "start_time": "2022-09-24T19:53:00.889Z"
   },
   {
    "duration": 9,
    "start_time": "2022-09-24T19:53:00.896Z"
   },
   {
    "duration": 5,
    "start_time": "2022-09-24T19:53:00.907Z"
   },
   {
    "duration": 11,
    "start_time": "2022-09-24T19:53:00.913Z"
   },
   {
    "duration": 19,
    "start_time": "2022-09-24T19:53:00.926Z"
   },
   {
    "duration": 15,
    "start_time": "2022-09-24T19:53:00.947Z"
   },
   {
    "duration": 6,
    "start_time": "2022-09-24T19:53:00.963Z"
   },
   {
    "duration": 75,
    "start_time": "2022-09-24T19:53:00.970Z"
   },
   {
    "duration": 10,
    "start_time": "2022-09-24T19:53:01.047Z"
   },
   {
    "duration": 9,
    "start_time": "2022-09-24T19:53:01.059Z"
   },
   {
    "duration": 14,
    "start_time": "2022-09-24T19:53:01.070Z"
   },
   {
    "duration": 33,
    "start_time": "2022-09-24T19:53:01.086Z"
   },
   {
    "duration": 6,
    "start_time": "2022-09-24T19:53:01.121Z"
   },
   {
    "duration": 21,
    "start_time": "2022-09-24T19:53:01.129Z"
   },
   {
    "duration": 9,
    "start_time": "2022-09-24T19:53:01.152Z"
   },
   {
    "duration": 18,
    "start_time": "2022-09-24T19:53:01.162Z"
   },
   {
    "duration": 27,
    "start_time": "2022-09-24T19:53:01.182Z"
   },
   {
    "duration": 8,
    "start_time": "2022-09-24T19:53:01.214Z"
   },
   {
    "duration": 27,
    "start_time": "2022-09-24T19:53:01.223Z"
   },
   {
    "duration": 11,
    "start_time": "2022-09-24T19:53:01.252Z"
   },
   {
    "duration": 34,
    "start_time": "2022-09-24T19:53:01.264Z"
   },
   {
    "duration": 25,
    "start_time": "2022-09-24T19:53:01.299Z"
   },
   {
    "duration": 7,
    "start_time": "2022-09-24T19:53:01.326Z"
   },
   {
    "duration": 21,
    "start_time": "2022-09-24T19:53:01.335Z"
   },
   {
    "duration": 145,
    "start_time": "2022-09-24T19:53:01.358Z"
   },
   {
    "duration": 15,
    "start_time": "2022-09-24T19:53:01.508Z"
   },
   {
    "duration": 354,
    "start_time": "2022-09-24T19:53:01.524Z"
   },
   {
    "duration": 30,
    "start_time": "2022-09-24T19:53:01.879Z"
   },
   {
    "duration": 23,
    "start_time": "2022-09-24T19:53:01.910Z"
   },
   {
    "duration": 213,
    "start_time": "2022-09-24T19:53:01.934Z"
   },
   {
    "duration": 80,
    "start_time": "2022-09-24T19:53:02.149Z"
   },
   {
    "duration": 21,
    "start_time": "2022-09-24T19:53:02.231Z"
   },
   {
    "duration": 29,
    "start_time": "2022-09-24T19:53:02.254Z"
   },
   {
    "duration": 35,
    "start_time": "2022-09-24T19:53:02.285Z"
   },
   {
    "duration": 51,
    "start_time": "2022-09-24T19:53:02.322Z"
   },
   {
    "duration": 11,
    "start_time": "2022-09-24T19:53:02.375Z"
   },
   {
    "duration": 30,
    "start_time": "2022-09-24T19:53:02.388Z"
   },
   {
    "duration": 83,
    "start_time": "2022-09-24T19:53:02.420Z"
   },
   {
    "duration": 18,
    "start_time": "2022-09-24T19:53:02.504Z"
   },
   {
    "duration": 487,
    "start_time": "2022-09-24T19:53:02.525Z"
   },
   {
    "duration": 16,
    "start_time": "2022-09-24T19:53:03.013Z"
   },
   {
    "duration": 14,
    "start_time": "2022-09-24T19:53:03.030Z"
   },
   {
    "duration": 16,
    "start_time": "2022-09-24T19:53:03.046Z"
   },
   {
    "duration": 435,
    "start_time": "2022-09-24T19:53:03.064Z"
   },
   {
    "duration": 15,
    "start_time": "2022-09-24T19:53:03.502Z"
   },
   {
    "duration": 10,
    "start_time": "2022-09-24T19:53:03.518Z"
   },
   {
    "duration": 36,
    "start_time": "2022-09-24T19:53:03.530Z"
   },
   {
    "duration": 62,
    "start_time": "2022-09-24T19:53:03.568Z"
   },
   {
    "duration": 20,
    "start_time": "2022-09-24T19:53:03.632Z"
   },
   {
    "duration": 18,
    "start_time": "2022-09-24T19:53:03.653Z"
   },
   {
    "duration": 76,
    "start_time": "2022-09-24T19:53:03.673Z"
   },
   {
    "duration": 26,
    "start_time": "2022-09-24T19:53:03.751Z"
   },
   {
    "duration": 41,
    "start_time": "2022-09-24T19:53:03.778Z"
   },
   {
    "duration": 68,
    "start_time": "2022-09-24T19:53:03.821Z"
   },
   {
    "duration": 46,
    "start_time": "2022-09-24T19:53:03.891Z"
   },
   {
    "duration": 23,
    "start_time": "2022-09-24T19:53:03.939Z"
   },
   {
    "duration": 70,
    "start_time": "2022-09-24T19:53:03.963Z"
   },
   {
    "duration": 10,
    "start_time": "2022-09-24T19:53:04.035Z"
   },
   {
    "duration": 9,
    "start_time": "2022-09-24T19:53:04.046Z"
   },
   {
    "duration": 7,
    "start_time": "2022-09-24T19:53:04.056Z"
   },
   {
    "duration": 29,
    "start_time": "2022-09-24T19:53:04.064Z"
   },
   {
    "duration": 32,
    "start_time": "2022-09-24T19:53:04.094Z"
   },
   {
    "duration": 11,
    "start_time": "2022-09-24T19:53:04.128Z"
   },
   {
    "duration": 1217,
    "start_time": "2022-09-24T19:53:37.402Z"
   },
   {
    "duration": 52,
    "start_time": "2022-09-24T19:53:38.621Z"
   },
   {
    "duration": 15,
    "start_time": "2022-09-24T19:53:38.675Z"
   },
   {
    "duration": 17,
    "start_time": "2022-09-24T19:53:38.692Z"
   },
   {
    "duration": 8,
    "start_time": "2022-09-24T19:53:38.712Z"
   },
   {
    "duration": 9,
    "start_time": "2022-09-24T19:53:38.721Z"
   },
   {
    "duration": 31,
    "start_time": "2022-09-24T19:53:38.731Z"
   },
   {
    "duration": 19,
    "start_time": "2022-09-24T19:53:38.765Z"
   },
   {
    "duration": 36,
    "start_time": "2022-09-24T19:53:38.786Z"
   },
   {
    "duration": 20,
    "start_time": "2022-09-24T19:53:38.823Z"
   },
   {
    "duration": 6,
    "start_time": "2022-09-24T19:53:38.845Z"
   },
   {
    "duration": 9,
    "start_time": "2022-09-24T19:53:38.852Z"
   },
   {
    "duration": 7,
    "start_time": "2022-09-24T19:53:38.863Z"
   },
   {
    "duration": 6,
    "start_time": "2022-09-24T19:53:38.873Z"
   },
   {
    "duration": 43,
    "start_time": "2022-09-24T19:53:38.880Z"
   },
   {
    "duration": 14,
    "start_time": "2022-09-24T19:53:38.925Z"
   },
   {
    "duration": 6,
    "start_time": "2022-09-24T19:53:38.941Z"
   },
   {
    "duration": 69,
    "start_time": "2022-09-24T19:53:38.948Z"
   },
   {
    "duration": 12,
    "start_time": "2022-09-24T19:53:39.019Z"
   },
   {
    "duration": 18,
    "start_time": "2022-09-24T19:53:39.033Z"
   },
   {
    "duration": 5,
    "start_time": "2022-09-24T19:53:39.052Z"
   },
   {
    "duration": 20,
    "start_time": "2022-09-24T19:53:39.058Z"
   },
   {
    "duration": 32,
    "start_time": "2022-09-24T19:53:39.080Z"
   },
   {
    "duration": 8,
    "start_time": "2022-09-24T19:53:39.114Z"
   },
   {
    "duration": 11,
    "start_time": "2022-09-24T19:53:39.124Z"
   },
   {
    "duration": 24,
    "start_time": "2022-09-24T19:53:39.136Z"
   },
   {
    "duration": 21,
    "start_time": "2022-09-24T19:53:39.162Z"
   },
   {
    "duration": 25,
    "start_time": "2022-09-24T19:53:39.185Z"
   },
   {
    "duration": 5,
    "start_time": "2022-09-24T19:53:39.212Z"
   },
   {
    "duration": 11,
    "start_time": "2022-09-24T19:53:39.219Z"
   },
   {
    "duration": 9,
    "start_time": "2022-09-24T19:53:39.232Z"
   },
   {
    "duration": 24,
    "start_time": "2022-09-24T19:53:39.243Z"
   },
   {
    "duration": 7,
    "start_time": "2022-09-24T19:53:39.268Z"
   },
   {
    "duration": 9,
    "start_time": "2022-09-24T19:53:39.277Z"
   },
   {
    "duration": 168,
    "start_time": "2022-09-24T19:53:39.287Z"
   },
   {
    "duration": 15,
    "start_time": "2022-09-24T19:53:39.457Z"
   },
   {
    "duration": 348,
    "start_time": "2022-09-24T19:53:39.474Z"
   },
   {
    "duration": 19,
    "start_time": "2022-09-24T19:53:39.823Z"
   },
   {
    "duration": 66,
    "start_time": "2022-09-24T19:53:39.844Z"
   },
   {
    "duration": 152,
    "start_time": "2022-09-24T19:53:39.912Z"
   },
   {
    "duration": 82,
    "start_time": "2022-09-24T19:53:40.068Z"
   },
   {
    "duration": 18,
    "start_time": "2022-09-24T19:53:40.151Z"
   },
   {
    "duration": 41,
    "start_time": "2022-09-24T19:53:40.171Z"
   },
   {
    "duration": 13,
    "start_time": "2022-09-24T19:53:40.214Z"
   },
   {
    "duration": 42,
    "start_time": "2022-09-24T19:53:40.229Z"
   },
   {
    "duration": 11,
    "start_time": "2022-09-24T19:53:40.273Z"
   },
   {
    "duration": 14,
    "start_time": "2022-09-24T19:53:40.309Z"
   },
   {
    "duration": 103,
    "start_time": "2022-09-24T19:53:40.325Z"
   },
   {
    "duration": 16,
    "start_time": "2022-09-24T19:53:40.430Z"
   },
   {
    "duration": 435,
    "start_time": "2022-09-24T19:53:40.448Z"
   },
   {
    "duration": 26,
    "start_time": "2022-09-24T19:53:40.884Z"
   },
   {
    "duration": 6,
    "start_time": "2022-09-24T19:53:40.911Z"
   },
   {
    "duration": 14,
    "start_time": "2022-09-24T19:53:40.918Z"
   },
   {
    "duration": 417,
    "start_time": "2022-09-24T19:53:40.933Z"
   },
   {
    "duration": 8,
    "start_time": "2022-09-24T19:53:41.351Z"
   },
   {
    "duration": 6,
    "start_time": "2022-09-24T19:53:41.361Z"
   },
   {
    "duration": 13,
    "start_time": "2022-09-24T19:53:41.369Z"
   },
   {
    "duration": 81,
    "start_time": "2022-09-24T19:53:41.383Z"
   },
   {
    "duration": 18,
    "start_time": "2022-09-24T19:53:41.465Z"
   },
   {
    "duration": 42,
    "start_time": "2022-09-24T19:53:41.484Z"
   },
   {
    "duration": 63,
    "start_time": "2022-09-24T19:53:41.527Z"
   },
   {
    "duration": 42,
    "start_time": "2022-09-24T19:53:41.592Z"
   },
   {
    "duration": 23,
    "start_time": "2022-09-24T19:53:41.636Z"
   },
   {
    "duration": 94,
    "start_time": "2022-09-24T19:53:41.661Z"
   },
   {
    "duration": 20,
    "start_time": "2022-09-24T19:53:41.757Z"
   },
   {
    "duration": 35,
    "start_time": "2022-09-24T19:53:41.778Z"
   },
   {
    "duration": 58,
    "start_time": "2022-09-24T19:53:41.814Z"
   },
   {
    "duration": 9,
    "start_time": "2022-09-24T19:53:41.874Z"
   },
   {
    "duration": 4,
    "start_time": "2022-09-24T19:53:41.909Z"
   },
   {
    "duration": 11,
    "start_time": "2022-09-24T19:53:41.914Z"
   },
   {
    "duration": 11,
    "start_time": "2022-09-24T19:53:41.926Z"
   },
   {
    "duration": 4,
    "start_time": "2022-09-24T19:53:41.938Z"
   },
   {
    "duration": 6,
    "start_time": "2022-09-24T19:53:41.943Z"
   },
   {
    "duration": 5,
    "start_time": "2022-09-24T19:57:17.850Z"
   },
   {
    "duration": 1228,
    "start_time": "2022-09-24T19:57:28.908Z"
   },
   {
    "duration": 56,
    "start_time": "2022-09-24T19:57:30.138Z"
   },
   {
    "duration": 14,
    "start_time": "2022-09-24T19:57:30.198Z"
   },
   {
    "duration": 26,
    "start_time": "2022-09-24T19:57:30.213Z"
   },
   {
    "duration": 10,
    "start_time": "2022-09-24T19:57:30.240Z"
   },
   {
    "duration": 17,
    "start_time": "2022-09-24T19:57:30.251Z"
   },
   {
    "duration": 51,
    "start_time": "2022-09-24T19:57:30.270Z"
   },
   {
    "duration": 35,
    "start_time": "2022-09-24T19:57:30.323Z"
   },
   {
    "duration": 25,
    "start_time": "2022-09-24T19:57:30.361Z"
   },
   {
    "duration": 21,
    "start_time": "2022-09-24T19:57:30.388Z"
   },
   {
    "duration": 25,
    "start_time": "2022-09-24T19:57:30.410Z"
   },
   {
    "duration": 21,
    "start_time": "2022-09-24T19:57:30.436Z"
   },
   {
    "duration": 24,
    "start_time": "2022-09-24T19:57:30.459Z"
   },
   {
    "duration": 22,
    "start_time": "2022-09-24T19:57:30.484Z"
   },
   {
    "duration": 48,
    "start_time": "2022-09-24T19:57:30.507Z"
   },
   {
    "duration": 36,
    "start_time": "2022-09-24T19:57:30.557Z"
   },
   {
    "duration": 26,
    "start_time": "2022-09-24T19:57:30.595Z"
   },
   {
    "duration": 67,
    "start_time": "2022-09-24T19:57:30.623Z"
   },
   {
    "duration": 9,
    "start_time": "2022-09-24T19:57:30.691Z"
   },
   {
    "duration": 30,
    "start_time": "2022-09-24T19:57:30.701Z"
   },
   {
    "duration": 17,
    "start_time": "2022-09-24T19:57:30.732Z"
   },
   {
    "duration": 25,
    "start_time": "2022-09-24T19:57:30.750Z"
   },
   {
    "duration": 21,
    "start_time": "2022-09-24T19:57:30.776Z"
   },
   {
    "duration": 40,
    "start_time": "2022-09-24T19:57:30.799Z"
   },
   {
    "duration": 29,
    "start_time": "2022-09-24T19:57:30.841Z"
   },
   {
    "duration": 39,
    "start_time": "2022-09-24T19:57:30.872Z"
   },
   {
    "duration": 36,
    "start_time": "2022-09-24T19:57:30.915Z"
   },
   {
    "duration": 18,
    "start_time": "2022-09-24T19:57:30.952Z"
   },
   {
    "duration": 17,
    "start_time": "2022-09-24T19:57:30.972Z"
   },
   {
    "duration": 29,
    "start_time": "2022-09-24T19:57:30.990Z"
   },
   {
    "duration": 22,
    "start_time": "2022-09-24T19:57:31.020Z"
   },
   {
    "duration": 59,
    "start_time": "2022-09-24T19:57:31.043Z"
   },
   {
    "duration": 14,
    "start_time": "2022-09-24T19:57:31.103Z"
   },
   {
    "duration": 41,
    "start_time": "2022-09-24T19:57:31.119Z"
   },
   {
    "duration": 151,
    "start_time": "2022-09-24T19:57:31.162Z"
   },
   {
    "duration": 15,
    "start_time": "2022-09-24T19:57:31.315Z"
   },
   {
    "duration": 362,
    "start_time": "2022-09-24T19:57:31.332Z"
   },
   {
    "duration": 18,
    "start_time": "2022-09-24T19:57:31.695Z"
   },
   {
    "duration": 41,
    "start_time": "2022-09-24T19:57:31.715Z"
   },
   {
    "duration": 171,
    "start_time": "2022-09-24T19:57:31.758Z"
   },
   {
    "duration": 82,
    "start_time": "2022-09-24T19:57:31.931Z"
   },
   {
    "duration": 17,
    "start_time": "2022-09-24T19:57:32.014Z"
   },
   {
    "duration": 58,
    "start_time": "2022-09-24T19:57:32.033Z"
   },
   {
    "duration": 14,
    "start_time": "2022-09-24T19:57:32.093Z"
   },
   {
    "duration": 71,
    "start_time": "2022-09-24T19:57:32.108Z"
   },
   {
    "duration": 40,
    "start_time": "2022-09-24T19:57:32.181Z"
   },
   {
    "duration": 26,
    "start_time": "2022-09-24T19:57:32.223Z"
   },
   {
    "duration": 73,
    "start_time": "2022-09-24T19:57:32.250Z"
   },
   {
    "duration": 16,
    "start_time": "2022-09-24T19:57:32.325Z"
   },
   {
    "duration": 501,
    "start_time": "2022-09-24T19:57:32.343Z"
   },
   {
    "duration": 16,
    "start_time": "2022-09-24T19:57:32.845Z"
   },
   {
    "duration": 28,
    "start_time": "2022-09-24T19:57:32.863Z"
   },
   {
    "duration": 36,
    "start_time": "2022-09-24T19:57:32.892Z"
   },
   {
    "duration": 412,
    "start_time": "2022-09-24T19:57:32.929Z"
   },
   {
    "duration": 8,
    "start_time": "2022-09-24T19:57:33.343Z"
   },
   {
    "duration": 7,
    "start_time": "2022-09-24T19:57:33.353Z"
   },
   {
    "duration": 14,
    "start_time": "2022-09-24T19:57:33.362Z"
   },
   {
    "duration": 78,
    "start_time": "2022-09-24T19:57:33.377Z"
   },
   {
    "duration": 19,
    "start_time": "2022-09-24T19:57:33.456Z"
   },
   {
    "duration": 34,
    "start_time": "2022-09-24T19:57:33.476Z"
   },
   {
    "duration": 60,
    "start_time": "2022-09-24T19:57:33.512Z"
   },
   {
    "duration": 46,
    "start_time": "2022-09-24T19:57:33.573Z"
   },
   {
    "duration": 18,
    "start_time": "2022-09-24T19:57:33.621Z"
   },
   {
    "duration": 72,
    "start_time": "2022-09-24T19:57:33.640Z"
   },
   {
    "duration": 23,
    "start_time": "2022-09-24T19:57:33.713Z"
   },
   {
    "duration": 17,
    "start_time": "2022-09-24T19:57:33.737Z"
   },
   {
    "duration": 92,
    "start_time": "2022-09-24T19:57:33.756Z"
   },
   {
    "duration": 10,
    "start_time": "2022-09-24T19:57:33.851Z"
   },
   {
    "duration": 4,
    "start_time": "2022-09-24T19:57:33.863Z"
   },
   {
    "duration": 7,
    "start_time": "2022-09-24T19:57:33.868Z"
   },
   {
    "duration": 41,
    "start_time": "2022-09-24T19:57:33.877Z"
   },
   {
    "duration": 7,
    "start_time": "2022-09-24T19:57:33.920Z"
   },
   {
    "duration": 7,
    "start_time": "2022-09-24T19:57:33.928Z"
   },
   {
    "duration": 48,
    "start_time": "2022-09-24T20:00:13.712Z"
   },
   {
    "duration": 18,
    "start_time": "2022-09-24T20:00:30.705Z"
   },
   {
    "duration": 18,
    "start_time": "2022-09-24T20:00:37.901Z"
   },
   {
    "duration": 1198,
    "start_time": "2022-09-24T20:00:44.817Z"
   },
   {
    "duration": 54,
    "start_time": "2022-09-24T20:00:46.017Z"
   },
   {
    "duration": 14,
    "start_time": "2022-09-24T20:00:46.075Z"
   },
   {
    "duration": 28,
    "start_time": "2022-09-24T20:00:46.090Z"
   },
   {
    "duration": 11,
    "start_time": "2022-09-24T20:00:46.120Z"
   },
   {
    "duration": 4,
    "start_time": "2022-09-24T20:00:46.133Z"
   },
   {
    "duration": 26,
    "start_time": "2022-09-24T20:00:46.139Z"
   },
   {
    "duration": 44,
    "start_time": "2022-09-24T20:00:46.166Z"
   },
   {
    "duration": 20,
    "start_time": "2022-09-24T20:00:46.213Z"
   },
   {
    "duration": 24,
    "start_time": "2022-09-24T20:00:46.235Z"
   },
   {
    "duration": 13,
    "start_time": "2022-09-24T20:00:46.260Z"
   },
   {
    "duration": 31,
    "start_time": "2022-09-24T20:00:46.275Z"
   },
   {
    "duration": 22,
    "start_time": "2022-09-24T20:00:46.307Z"
   },
   {
    "duration": 27,
    "start_time": "2022-09-24T20:00:46.331Z"
   },
   {
    "duration": 39,
    "start_time": "2022-09-24T20:00:46.360Z"
   },
   {
    "duration": 30,
    "start_time": "2022-09-24T20:00:46.401Z"
   },
   {
    "duration": 18,
    "start_time": "2022-09-24T20:00:46.433Z"
   },
   {
    "duration": 66,
    "start_time": "2022-09-24T20:00:46.453Z"
   },
   {
    "duration": 12,
    "start_time": "2022-09-24T20:00:46.521Z"
   },
   {
    "duration": 19,
    "start_time": "2022-09-24T20:00:46.534Z"
   },
   {
    "duration": 26,
    "start_time": "2022-09-24T20:00:46.555Z"
   },
   {
    "duration": 37,
    "start_time": "2022-09-24T20:00:46.583Z"
   },
   {
    "duration": 19,
    "start_time": "2022-09-24T20:00:46.621Z"
   },
   {
    "duration": 37,
    "start_time": "2022-09-24T20:00:46.641Z"
   },
   {
    "duration": 30,
    "start_time": "2022-09-24T20:00:46.679Z"
   },
   {
    "duration": 25,
    "start_time": "2022-09-24T20:00:46.711Z"
   },
   {
    "duration": 33,
    "start_time": "2022-09-24T20:00:46.740Z"
   },
   {
    "duration": 18,
    "start_time": "2022-09-24T20:00:46.775Z"
   },
   {
    "duration": 36,
    "start_time": "2022-09-24T20:00:46.795Z"
   },
   {
    "duration": 20,
    "start_time": "2022-09-24T20:00:46.834Z"
   },
   {
    "duration": 27,
    "start_time": "2022-09-24T20:00:46.855Z"
   },
   {
    "duration": 32,
    "start_time": "2022-09-24T20:00:46.883Z"
   },
   {
    "duration": 6,
    "start_time": "2022-09-24T20:00:46.917Z"
   },
   {
    "duration": 20,
    "start_time": "2022-09-24T20:00:46.924Z"
   },
   {
    "duration": 143,
    "start_time": "2022-09-24T20:00:46.946Z"
   },
   {
    "duration": 14,
    "start_time": "2022-09-24T20:00:47.091Z"
   },
   {
    "duration": 340,
    "start_time": "2022-09-24T20:00:47.109Z"
   },
   {
    "duration": 21,
    "start_time": "2022-09-24T20:00:47.450Z"
   },
   {
    "duration": 48,
    "start_time": "2022-09-24T20:00:47.473Z"
   },
   {
    "duration": 165,
    "start_time": "2022-09-24T20:00:47.522Z"
   },
   {
    "duration": 77,
    "start_time": "2022-09-24T20:00:47.689Z"
   },
   {
    "duration": 18,
    "start_time": "2022-09-24T20:00:47.767Z"
   },
   {
    "duration": 43,
    "start_time": "2022-09-24T20:00:47.787Z"
   },
   {
    "duration": 14,
    "start_time": "2022-09-24T20:00:47.832Z"
   },
   {
    "duration": 66,
    "start_time": "2022-09-24T20:00:47.847Z"
   },
   {
    "duration": 11,
    "start_time": "2022-09-24T20:00:47.914Z"
   },
   {
    "duration": 32,
    "start_time": "2022-09-24T20:00:47.926Z"
   },
   {
    "duration": 79,
    "start_time": "2022-09-24T20:00:47.960Z"
   },
   {
    "duration": 16,
    "start_time": "2022-09-24T20:00:48.040Z"
   },
   {
    "duration": 436,
    "start_time": "2022-09-24T20:00:48.058Z"
   },
   {
    "duration": 23,
    "start_time": "2022-09-24T20:00:48.496Z"
   },
   {
    "duration": 9,
    "start_time": "2022-09-24T20:00:48.521Z"
   },
   {
    "duration": 18,
    "start_time": "2022-09-24T20:00:48.531Z"
   },
   {
    "duration": 413,
    "start_time": "2022-09-24T20:00:48.551Z"
   },
   {
    "duration": 8,
    "start_time": "2022-09-24T20:00:48.966Z"
   },
   {
    "duration": 7,
    "start_time": "2022-09-24T20:00:48.976Z"
   },
   {
    "duration": 31,
    "start_time": "2022-09-24T20:00:48.984Z"
   },
   {
    "duration": 57,
    "start_time": "2022-09-24T20:00:49.016Z"
   },
   {
    "duration": 35,
    "start_time": "2022-09-24T20:00:49.075Z"
   },
   {
    "duration": 17,
    "start_time": "2022-09-24T20:00:49.111Z"
   },
   {
    "duration": 80,
    "start_time": "2022-09-24T20:00:49.129Z"
   },
   {
    "duration": 26,
    "start_time": "2022-09-24T20:00:49.210Z"
   },
   {
    "duration": 19,
    "start_time": "2022-09-24T20:00:49.237Z"
   },
   {
    "duration": 87,
    "start_time": "2022-09-24T20:00:49.257Z"
   },
   {
    "duration": 21,
    "start_time": "2022-09-24T20:00:49.345Z"
   },
   {
    "duration": 32,
    "start_time": "2022-09-24T20:00:49.368Z"
   },
   {
    "duration": 62,
    "start_time": "2022-09-24T20:00:49.401Z"
   },
   {
    "duration": 10,
    "start_time": "2022-09-24T20:00:49.465Z"
   },
   {
    "duration": 7,
    "start_time": "2022-09-24T20:00:49.477Z"
   },
   {
    "duration": 24,
    "start_time": "2022-09-24T20:00:49.485Z"
   },
   {
    "duration": 13,
    "start_time": "2022-09-24T20:00:49.511Z"
   },
   {
    "duration": 4,
    "start_time": "2022-09-24T20:00:49.526Z"
   },
   {
    "duration": 6,
    "start_time": "2022-09-24T20:00:49.532Z"
   },
   {
    "duration": 17,
    "start_time": "2022-09-24T20:01:14.333Z"
   },
   {
    "duration": 1185,
    "start_time": "2022-09-24T20:01:20.350Z"
   },
   {
    "duration": 66,
    "start_time": "2022-09-24T20:01:21.539Z"
   },
   {
    "duration": 15,
    "start_time": "2022-09-24T20:01:21.606Z"
   },
   {
    "duration": 24,
    "start_time": "2022-09-24T20:01:21.623Z"
   },
   {
    "duration": 10,
    "start_time": "2022-09-24T20:01:21.648Z"
   },
   {
    "duration": 6,
    "start_time": "2022-09-24T20:01:21.660Z"
   },
   {
    "duration": 42,
    "start_time": "2022-09-24T20:01:21.668Z"
   },
   {
    "duration": 20,
    "start_time": "2022-09-24T20:01:21.712Z"
   },
   {
    "duration": 25,
    "start_time": "2022-09-24T20:01:21.733Z"
   },
   {
    "duration": 18,
    "start_time": "2022-09-24T20:01:21.761Z"
   },
   {
    "duration": 28,
    "start_time": "2022-09-24T20:01:21.781Z"
   },
   {
    "duration": 6,
    "start_time": "2022-09-24T20:01:21.811Z"
   },
   {
    "duration": 6,
    "start_time": "2022-09-24T20:01:21.819Z"
   },
   {
    "duration": 8,
    "start_time": "2022-09-24T20:01:21.826Z"
   },
   {
    "duration": 29,
    "start_time": "2022-09-24T20:01:21.835Z"
   },
   {
    "duration": 42,
    "start_time": "2022-09-24T20:01:21.866Z"
   },
   {
    "duration": 4,
    "start_time": "2022-09-24T20:01:21.909Z"
   },
   {
    "duration": 49,
    "start_time": "2022-09-24T20:01:21.915Z"
   },
   {
    "duration": 9,
    "start_time": "2022-09-24T20:01:21.965Z"
   },
   {
    "duration": 9,
    "start_time": "2022-09-24T20:01:21.975Z"
   },
   {
    "duration": 7,
    "start_time": "2022-09-24T20:01:22.009Z"
   },
   {
    "duration": 14,
    "start_time": "2022-09-24T20:01:22.017Z"
   },
   {
    "duration": 5,
    "start_time": "2022-09-24T20:01:22.033Z"
   },
   {
    "duration": 7,
    "start_time": "2022-09-24T20:01:22.040Z"
   },
   {
    "duration": 9,
    "start_time": "2022-09-24T20:01:22.048Z"
   },
   {
    "duration": 24,
    "start_time": "2022-09-24T20:01:22.058Z"
   },
   {
    "duration": 38,
    "start_time": "2022-09-24T20:01:22.084Z"
   },
   {
    "duration": 7,
    "start_time": "2022-09-24T20:01:22.126Z"
   },
   {
    "duration": 5,
    "start_time": "2022-09-24T20:01:22.134Z"
   },
   {
    "duration": 7,
    "start_time": "2022-09-24T20:01:22.141Z"
   },
   {
    "duration": 21,
    "start_time": "2022-09-24T20:01:22.149Z"
   },
   {
    "duration": 45,
    "start_time": "2022-09-24T20:01:22.172Z"
   },
   {
    "duration": 8,
    "start_time": "2022-09-24T20:01:22.219Z"
   },
   {
    "duration": 7,
    "start_time": "2022-09-24T20:01:22.228Z"
   },
   {
    "duration": 164,
    "start_time": "2022-09-24T20:01:22.237Z"
   },
   {
    "duration": 15,
    "start_time": "2022-09-24T20:01:22.403Z"
   },
   {
    "duration": 458,
    "start_time": "2022-09-24T20:01:22.419Z"
   },
   {
    "duration": 26,
    "start_time": "2022-09-24T20:01:22.879Z"
   },
   {
    "duration": 51,
    "start_time": "2022-09-24T20:01:22.907Z"
   },
   {
    "duration": 162,
    "start_time": "2022-09-24T20:01:22.960Z"
   },
   {
    "duration": 90,
    "start_time": "2022-09-24T20:01:23.124Z"
   },
   {
    "duration": 17,
    "start_time": "2022-09-24T20:01:23.216Z"
   },
   {
    "duration": 32,
    "start_time": "2022-09-24T20:01:23.235Z"
   },
   {
    "duration": 14,
    "start_time": "2022-09-24T20:01:23.268Z"
   },
   {
    "duration": 66,
    "start_time": "2022-09-24T20:01:23.283Z"
   },
   {
    "duration": 11,
    "start_time": "2022-09-24T20:01:23.350Z"
   },
   {
    "duration": 18,
    "start_time": "2022-09-24T20:01:23.363Z"
   },
   {
    "duration": 93,
    "start_time": "2022-09-24T20:01:23.382Z"
   },
   {
    "duration": 16,
    "start_time": "2022-09-24T20:01:23.476Z"
   },
   {
    "duration": 445,
    "start_time": "2022-09-24T20:01:23.494Z"
   },
   {
    "duration": 16,
    "start_time": "2022-09-24T20:01:23.940Z"
   },
   {
    "duration": 25,
    "start_time": "2022-09-24T20:01:23.958Z"
   },
   {
    "duration": 24,
    "start_time": "2022-09-24T20:01:23.984Z"
   },
   {
    "duration": 419,
    "start_time": "2022-09-24T20:01:24.010Z"
   },
   {
    "duration": 8,
    "start_time": "2022-09-24T20:01:24.431Z"
   },
   {
    "duration": 32,
    "start_time": "2022-09-24T20:01:24.441Z"
   },
   {
    "duration": 31,
    "start_time": "2022-09-24T20:01:24.474Z"
   },
   {
    "duration": 62,
    "start_time": "2022-09-24T20:01:24.507Z"
   },
   {
    "duration": 17,
    "start_time": "2022-09-24T20:01:24.571Z"
   },
   {
    "duration": 33,
    "start_time": "2022-09-24T20:01:24.590Z"
   },
   {
    "duration": 78,
    "start_time": "2022-09-24T20:01:24.625Z"
   },
   {
    "duration": 26,
    "start_time": "2022-09-24T20:01:24.705Z"
   },
   {
    "duration": 18,
    "start_time": "2022-09-24T20:01:24.733Z"
   },
   {
    "duration": 77,
    "start_time": "2022-09-24T20:01:24.753Z"
   },
   {
    "duration": 27,
    "start_time": "2022-09-24T20:01:24.831Z"
   },
   {
    "duration": 24,
    "start_time": "2022-09-24T20:01:24.860Z"
   },
   {
    "duration": 82,
    "start_time": "2022-09-24T20:01:24.885Z"
   },
   {
    "duration": 13,
    "start_time": "2022-09-24T20:01:24.969Z"
   },
   {
    "duration": 7,
    "start_time": "2022-09-24T20:01:24.983Z"
   },
   {
    "duration": 6,
    "start_time": "2022-09-24T20:01:25.009Z"
   },
   {
    "duration": 15,
    "start_time": "2022-09-24T20:01:25.017Z"
   },
   {
    "duration": 5,
    "start_time": "2022-09-24T20:01:25.034Z"
   },
   {
    "duration": 6,
    "start_time": "2022-09-24T20:01:25.041Z"
   },
   {
    "duration": 65,
    "start_time": "2022-09-24T20:10:45.668Z"
   },
   {
    "duration": 102,
    "start_time": "2022-09-24T20:11:56.013Z"
   },
   {
    "duration": 18,
    "start_time": "2022-09-24T20:12:10.936Z"
   },
   {
    "duration": 1371,
    "start_time": "2022-09-24T20:12:26.736Z"
   },
   {
    "duration": 78,
    "start_time": "2022-09-24T20:12:28.109Z"
   },
   {
    "duration": 15,
    "start_time": "2022-09-24T20:12:28.189Z"
   },
   {
    "duration": 24,
    "start_time": "2022-09-24T20:12:28.205Z"
   },
   {
    "duration": 33,
    "start_time": "2022-09-24T20:12:28.231Z"
   },
   {
    "duration": 4,
    "start_time": "2022-09-24T20:12:28.266Z"
   },
   {
    "duration": 25,
    "start_time": "2022-09-24T20:12:28.272Z"
   },
   {
    "duration": 31,
    "start_time": "2022-09-24T20:12:28.298Z"
   },
   {
    "duration": 41,
    "start_time": "2022-09-24T20:12:28.331Z"
   },
   {
    "duration": 24,
    "start_time": "2022-09-24T20:12:28.373Z"
   },
   {
    "duration": 7,
    "start_time": "2022-09-24T20:12:28.400Z"
   },
   {
    "duration": 49,
    "start_time": "2022-09-24T20:12:28.409Z"
   },
   {
    "duration": 5,
    "start_time": "2022-09-24T20:12:28.459Z"
   },
   {
    "duration": 6,
    "start_time": "2022-09-24T20:12:28.467Z"
   },
   {
    "duration": 20,
    "start_time": "2022-09-24T20:12:28.475Z"
   },
   {
    "duration": 24,
    "start_time": "2022-09-24T20:12:28.498Z"
   },
   {
    "duration": 9,
    "start_time": "2022-09-24T20:12:28.523Z"
   },
   {
    "duration": 62,
    "start_time": "2022-09-24T20:12:28.534Z"
   },
   {
    "duration": 17,
    "start_time": "2022-09-24T20:12:28.598Z"
   },
   {
    "duration": 50,
    "start_time": "2022-09-24T20:12:28.617Z"
   },
   {
    "duration": 5,
    "start_time": "2022-09-24T20:12:28.669Z"
   },
   {
    "duration": 17,
    "start_time": "2022-09-24T20:12:28.676Z"
   },
   {
    "duration": 5,
    "start_time": "2022-09-24T20:12:28.694Z"
   },
   {
    "duration": 17,
    "start_time": "2022-09-24T20:12:28.700Z"
   },
   {
    "duration": 36,
    "start_time": "2022-09-24T20:12:28.719Z"
   },
   {
    "duration": 20,
    "start_time": "2022-09-24T20:12:28.757Z"
   },
   {
    "duration": 16,
    "start_time": "2022-09-24T20:12:28.778Z"
   },
   {
    "duration": 11,
    "start_time": "2022-09-24T20:12:28.796Z"
   },
   {
    "duration": 10,
    "start_time": "2022-09-24T20:12:28.808Z"
   },
   {
    "duration": 49,
    "start_time": "2022-09-24T20:12:28.820Z"
   },
   {
    "duration": 20,
    "start_time": "2022-09-24T20:12:28.871Z"
   },
   {
    "duration": 28,
    "start_time": "2022-09-24T20:12:28.893Z"
   },
   {
    "duration": 15,
    "start_time": "2022-09-24T20:12:28.923Z"
   },
   {
    "duration": 22,
    "start_time": "2022-09-24T20:12:28.940Z"
   },
   {
    "duration": 176,
    "start_time": "2022-09-24T20:12:28.964Z"
   },
   {
    "duration": 17,
    "start_time": "2022-09-24T20:12:29.143Z"
   },
   {
    "duration": 395,
    "start_time": "2022-09-24T20:12:29.162Z"
   },
   {
    "duration": 17,
    "start_time": "2022-09-24T20:12:29.559Z"
   },
   {
    "duration": 62,
    "start_time": "2022-09-24T20:12:29.578Z"
   },
   {
    "duration": 165,
    "start_time": "2022-09-24T20:12:29.642Z"
   },
   {
    "duration": 81,
    "start_time": "2022-09-24T20:12:29.816Z"
   },
   {
    "duration": 36,
    "start_time": "2022-09-24T20:12:29.898Z"
   },
   {
    "duration": 42,
    "start_time": "2022-09-24T20:12:29.936Z"
   },
   {
    "duration": 12,
    "start_time": "2022-09-24T20:12:29.980Z"
   },
   {
    "duration": 68,
    "start_time": "2022-09-24T20:12:29.994Z"
   },
   {
    "duration": 11,
    "start_time": "2022-09-24T20:12:30.063Z"
   },
   {
    "duration": 19,
    "start_time": "2022-09-24T20:12:30.076Z"
   },
   {
    "duration": 93,
    "start_time": "2022-09-24T20:12:30.097Z"
   },
   {
    "duration": 16,
    "start_time": "2022-09-24T20:12:30.191Z"
   },
   {
    "duration": 534,
    "start_time": "2022-09-24T20:12:30.212Z"
   },
   {
    "duration": 16,
    "start_time": "2022-09-24T20:12:30.752Z"
   },
   {
    "duration": 30,
    "start_time": "2022-09-24T20:12:30.769Z"
   },
   {
    "duration": 74,
    "start_time": "2022-09-24T20:12:30.801Z"
   },
   {
    "duration": 477,
    "start_time": "2022-09-24T20:12:30.877Z"
   },
   {
    "duration": 8,
    "start_time": "2022-09-24T20:12:31.356Z"
   },
   {
    "duration": 31,
    "start_time": "2022-09-24T20:12:31.366Z"
   },
   {
    "duration": 70,
    "start_time": "2022-09-24T20:12:31.398Z"
   },
   {
    "duration": 82,
    "start_time": "2022-09-24T20:12:31.470Z"
   },
   {
    "duration": 18,
    "start_time": "2022-09-24T20:12:31.554Z"
   },
   {
    "duration": 24,
    "start_time": "2022-09-24T20:12:31.574Z"
   },
   {
    "duration": 83,
    "start_time": "2022-09-24T20:12:31.600Z"
   },
   {
    "duration": 42,
    "start_time": "2022-09-24T20:12:31.685Z"
   },
   {
    "duration": 39,
    "start_time": "2022-09-24T20:12:31.729Z"
   },
   {
    "duration": 74,
    "start_time": "2022-09-24T20:12:31.770Z"
   },
   {
    "duration": 24,
    "start_time": "2022-09-24T20:12:31.846Z"
   },
   {
    "duration": 24,
    "start_time": "2022-09-24T20:12:31.871Z"
   },
   {
    "duration": 79,
    "start_time": "2022-09-24T20:12:31.897Z"
   },
   {
    "duration": 9,
    "start_time": "2022-09-24T20:12:31.977Z"
   },
   {
    "duration": 15,
    "start_time": "2022-09-24T20:12:31.988Z"
   },
   {
    "duration": 63,
    "start_time": "2022-09-24T20:12:32.005Z"
   },
   {
    "duration": 18,
    "start_time": "2022-09-24T20:12:32.070Z"
   },
   {
    "duration": 14,
    "start_time": "2022-09-24T20:12:32.090Z"
   },
   {
    "duration": 55,
    "start_time": "2022-09-24T20:12:32.106Z"
   },
   {
    "duration": 25,
    "start_time": "2022-09-24T20:13:21.029Z"
   },
   {
    "duration": 4,
    "start_time": "2022-09-24T20:20:01.496Z"
   },
   {
    "duration": 1207,
    "start_time": "2022-09-24T20:20:09.370Z"
   },
   {
    "duration": 68,
    "start_time": "2022-09-24T20:20:10.578Z"
   },
   {
    "duration": 13,
    "start_time": "2022-09-24T20:20:10.647Z"
   },
   {
    "duration": 34,
    "start_time": "2022-09-24T20:20:10.662Z"
   },
   {
    "duration": 44,
    "start_time": "2022-09-24T20:20:10.698Z"
   },
   {
    "duration": 6,
    "start_time": "2022-09-24T20:20:10.743Z"
   },
   {
    "duration": 36,
    "start_time": "2022-09-24T20:20:10.751Z"
   },
   {
    "duration": 47,
    "start_time": "2022-09-24T20:20:10.788Z"
   },
   {
    "duration": 49,
    "start_time": "2022-09-24T20:20:10.837Z"
   },
   {
    "duration": 19,
    "start_time": "2022-09-24T20:20:10.888Z"
   },
   {
    "duration": 28,
    "start_time": "2022-09-24T20:20:10.909Z"
   },
   {
    "duration": 25,
    "start_time": "2022-09-24T20:20:10.938Z"
   },
   {
    "duration": 15,
    "start_time": "2022-09-24T20:20:10.964Z"
   },
   {
    "duration": 20,
    "start_time": "2022-09-24T20:20:10.981Z"
   },
   {
    "duration": 34,
    "start_time": "2022-09-24T20:20:11.002Z"
   },
   {
    "duration": 29,
    "start_time": "2022-09-24T20:20:11.038Z"
   },
   {
    "duration": 15,
    "start_time": "2022-09-24T20:20:11.069Z"
   },
   {
    "duration": 65,
    "start_time": "2022-09-24T20:20:11.086Z"
   },
   {
    "duration": 9,
    "start_time": "2022-09-24T20:20:11.153Z"
   },
   {
    "duration": 9,
    "start_time": "2022-09-24T20:20:11.163Z"
   },
   {
    "duration": 10,
    "start_time": "2022-09-24T20:20:11.173Z"
   },
   {
    "duration": 25,
    "start_time": "2022-09-24T20:20:11.184Z"
   },
   {
    "duration": 11,
    "start_time": "2022-09-24T20:20:11.210Z"
   },
   {
    "duration": 23,
    "start_time": "2022-09-24T20:20:11.223Z"
   },
   {
    "duration": 5,
    "start_time": "2022-09-24T20:20:11.249Z"
   },
   {
    "duration": 14,
    "start_time": "2022-09-24T20:20:11.256Z"
   },
   {
    "duration": 18,
    "start_time": "2022-09-24T20:20:11.272Z"
   },
   {
    "duration": 16,
    "start_time": "2022-09-24T20:20:11.294Z"
   },
   {
    "duration": 20,
    "start_time": "2022-09-24T20:20:11.320Z"
   },
   {
    "duration": 4,
    "start_time": "2022-09-24T20:20:11.342Z"
   },
   {
    "duration": 5,
    "start_time": "2022-09-24T20:20:11.347Z"
   },
   {
    "duration": 19,
    "start_time": "2022-09-24T20:20:11.353Z"
   },
   {
    "duration": 7,
    "start_time": "2022-09-24T20:20:11.373Z"
   },
   {
    "duration": 8,
    "start_time": "2022-09-24T20:20:11.381Z"
   },
   {
    "duration": 160,
    "start_time": "2022-09-24T20:20:11.390Z"
   },
   {
    "duration": 15,
    "start_time": "2022-09-24T20:20:11.551Z"
   },
   {
    "duration": 414,
    "start_time": "2022-09-24T20:20:11.568Z"
   },
   {
    "duration": 26,
    "start_time": "2022-09-24T20:20:11.984Z"
   },
   {
    "duration": 33,
    "start_time": "2022-09-24T20:20:12.011Z"
   },
   {
    "duration": 208,
    "start_time": "2022-09-24T20:20:12.047Z"
   },
   {
    "duration": 86,
    "start_time": "2022-09-24T20:20:12.256Z"
   },
   {
    "duration": 17,
    "start_time": "2022-09-24T20:20:12.343Z"
   },
   {
    "duration": 24,
    "start_time": "2022-09-24T20:20:12.361Z"
   },
   {
    "duration": 33,
    "start_time": "2022-09-24T20:20:12.386Z"
   },
   {
    "duration": 55,
    "start_time": "2022-09-24T20:20:12.420Z"
   },
   {
    "duration": 11,
    "start_time": "2022-09-24T20:20:12.476Z"
   },
   {
    "duration": 27,
    "start_time": "2022-09-24T20:20:12.489Z"
   },
   {
    "duration": 116,
    "start_time": "2022-09-24T20:20:12.519Z"
   },
   {
    "duration": 19,
    "start_time": "2022-09-24T20:20:12.637Z"
   },
   {
    "duration": 517,
    "start_time": "2022-09-24T20:20:12.658Z"
   },
   {
    "duration": 14,
    "start_time": "2022-09-24T20:20:13.177Z"
   },
   {
    "duration": 27,
    "start_time": "2022-09-24T20:20:13.192Z"
   },
   {
    "duration": 17,
    "start_time": "2022-09-24T20:20:13.232Z"
   },
   {
    "duration": 430,
    "start_time": "2022-09-24T20:20:13.250Z"
   },
   {
    "duration": 8,
    "start_time": "2022-09-24T20:20:13.681Z"
   },
   {
    "duration": 9,
    "start_time": "2022-09-24T20:20:13.691Z"
   },
   {
    "duration": 17,
    "start_time": "2022-09-24T20:20:13.720Z"
   },
   {
    "duration": 56,
    "start_time": "2022-09-24T20:20:13.739Z"
   },
   {
    "duration": 32,
    "start_time": "2022-09-24T20:20:13.796Z"
   },
   {
    "duration": 23,
    "start_time": "2022-09-24T20:20:13.839Z"
   },
   {
    "duration": 82,
    "start_time": "2022-09-24T20:20:13.864Z"
   },
   {
    "duration": 34,
    "start_time": "2022-09-24T20:20:13.947Z"
   },
   {
    "duration": 18,
    "start_time": "2022-09-24T20:20:13.983Z"
   },
   {
    "duration": 76,
    "start_time": "2022-09-24T20:20:14.009Z"
   },
   {
    "duration": 25,
    "start_time": "2022-09-24T20:20:14.087Z"
   },
   {
    "duration": 42,
    "start_time": "2022-09-24T20:20:14.113Z"
   },
   {
    "duration": 76,
    "start_time": "2022-09-24T20:20:14.157Z"
   },
   {
    "duration": 11,
    "start_time": "2022-09-24T20:20:14.235Z"
   },
   {
    "duration": 3,
    "start_time": "2022-09-24T20:20:14.248Z"
   },
   {
    "duration": 8,
    "start_time": "2022-09-24T20:20:14.253Z"
   },
   {
    "duration": 11,
    "start_time": "2022-09-24T20:20:14.262Z"
   },
   {
    "duration": 3,
    "start_time": "2022-09-24T20:20:14.275Z"
   },
   {
    "duration": 6,
    "start_time": "2022-09-24T20:20:14.280Z"
   },
   {
    "duration": 5,
    "start_time": "2022-09-24T20:21:49.030Z"
   },
   {
    "duration": 30,
    "start_time": "2022-09-24T20:23:03.907Z"
   },
   {
    "duration": 1288,
    "start_time": "2022-09-24T20:23:57.512Z"
   },
   {
    "duration": 73,
    "start_time": "2022-09-24T20:23:58.802Z"
   },
   {
    "duration": 14,
    "start_time": "2022-09-24T20:23:58.877Z"
   },
   {
    "duration": 15,
    "start_time": "2022-09-24T20:23:58.893Z"
   },
   {
    "duration": 12,
    "start_time": "2022-09-24T20:23:58.909Z"
   },
   {
    "duration": 21,
    "start_time": "2022-09-24T20:23:58.923Z"
   },
   {
    "duration": 24,
    "start_time": "2022-09-24T20:23:58.946Z"
   },
   {
    "duration": 20,
    "start_time": "2022-09-24T20:23:58.972Z"
   },
   {
    "duration": 34,
    "start_time": "2022-09-24T20:23:58.994Z"
   },
   {
    "duration": 21,
    "start_time": "2022-09-24T20:23:59.031Z"
   },
   {
    "duration": 11,
    "start_time": "2022-09-24T20:23:59.054Z"
   },
   {
    "duration": 8,
    "start_time": "2022-09-24T20:23:59.067Z"
   },
   {
    "duration": 4,
    "start_time": "2022-09-24T20:23:59.077Z"
   },
   {
    "duration": 28,
    "start_time": "2022-09-24T20:23:59.082Z"
   },
   {
    "duration": 56,
    "start_time": "2022-09-24T20:23:59.112Z"
   },
   {
    "duration": 14,
    "start_time": "2022-09-24T20:23:59.170Z"
   },
   {
    "duration": 5,
    "start_time": "2022-09-24T20:23:59.186Z"
   },
   {
    "duration": 60,
    "start_time": "2022-09-24T20:23:59.193Z"
   },
   {
    "duration": 9,
    "start_time": "2022-09-24T20:23:59.254Z"
   },
   {
    "duration": 9,
    "start_time": "2022-09-24T20:23:59.264Z"
   },
   {
    "duration": 5,
    "start_time": "2022-09-24T20:23:59.274Z"
   },
   {
    "duration": 40,
    "start_time": "2022-09-24T20:23:59.280Z"
   },
   {
    "duration": 8,
    "start_time": "2022-09-24T20:23:59.323Z"
   },
   {
    "duration": 8,
    "start_time": "2022-09-24T20:23:59.333Z"
   },
   {
    "duration": 8,
    "start_time": "2022-09-24T20:23:59.343Z"
   },
   {
    "duration": 14,
    "start_time": "2022-09-24T20:23:59.352Z"
   },
   {
    "duration": 20,
    "start_time": "2022-09-24T20:23:59.368Z"
   },
   {
    "duration": 24,
    "start_time": "2022-09-24T20:23:59.392Z"
   },
   {
    "duration": 18,
    "start_time": "2022-09-24T20:23:59.417Z"
   },
   {
    "duration": 7,
    "start_time": "2022-09-24T20:23:59.438Z"
   },
   {
    "duration": 11,
    "start_time": "2022-09-24T20:23:59.447Z"
   },
   {
    "duration": 25,
    "start_time": "2022-09-24T20:23:59.459Z"
   },
   {
    "duration": 8,
    "start_time": "2022-09-24T20:23:59.485Z"
   },
   {
    "duration": 25,
    "start_time": "2022-09-24T20:23:59.494Z"
   },
   {
    "duration": 152,
    "start_time": "2022-09-24T20:23:59.528Z"
   },
   {
    "duration": 14,
    "start_time": "2022-09-24T20:23:59.682Z"
   },
   {
    "duration": 396,
    "start_time": "2022-09-24T20:23:59.697Z"
   },
   {
    "duration": 29,
    "start_time": "2022-09-24T20:24:00.094Z"
   },
   {
    "duration": 31,
    "start_time": "2022-09-24T20:24:00.131Z"
   },
   {
    "duration": 185,
    "start_time": "2022-09-24T20:24:00.164Z"
   },
   {
    "duration": 91,
    "start_time": "2022-09-24T20:24:00.350Z"
   },
   {
    "duration": 18,
    "start_time": "2022-09-24T20:24:00.443Z"
   },
   {
    "duration": 31,
    "start_time": "2022-09-24T20:24:00.462Z"
   },
   {
    "duration": 48,
    "start_time": "2022-09-24T20:24:00.495Z"
   },
   {
    "duration": 82,
    "start_time": "2022-09-24T20:24:00.545Z"
   },
   {
    "duration": 15,
    "start_time": "2022-09-24T20:24:00.629Z"
   },
   {
    "duration": 19,
    "start_time": "2022-09-24T20:24:00.645Z"
   },
   {
    "duration": 90,
    "start_time": "2022-09-24T20:24:00.665Z"
   },
   {
    "duration": 15,
    "start_time": "2022-09-24T20:24:00.757Z"
   },
   {
    "duration": 474,
    "start_time": "2022-09-24T20:24:00.774Z"
   },
   {
    "duration": 14,
    "start_time": "2022-09-24T20:24:01.249Z"
   },
   {
    "duration": 14,
    "start_time": "2022-09-24T20:24:01.265Z"
   },
   {
    "duration": 17,
    "start_time": "2022-09-24T20:24:01.280Z"
   },
   {
    "duration": 474,
    "start_time": "2022-09-24T20:24:01.299Z"
   },
   {
    "duration": 8,
    "start_time": "2022-09-24T20:24:01.775Z"
   },
   {
    "duration": 39,
    "start_time": "2022-09-24T20:24:01.785Z"
   },
   {
    "duration": 33,
    "start_time": "2022-09-24T20:24:01.826Z"
   },
   {
    "duration": 95,
    "start_time": "2022-09-24T20:24:01.861Z"
   },
   {
    "duration": 28,
    "start_time": "2022-09-24T20:24:01.958Z"
   },
   {
    "duration": 34,
    "start_time": "2022-09-24T20:24:01.988Z"
   },
   {
    "duration": 108,
    "start_time": "2022-09-24T20:24:02.024Z"
   },
   {
    "duration": 28,
    "start_time": "2022-09-24T20:24:02.134Z"
   },
   {
    "duration": 19,
    "start_time": "2022-09-24T20:24:02.164Z"
   },
   {
    "duration": 79,
    "start_time": "2022-09-24T20:24:02.185Z"
   },
   {
    "duration": 23,
    "start_time": "2022-09-24T20:24:02.266Z"
   },
   {
    "duration": 56,
    "start_time": "2022-09-24T20:24:02.290Z"
   },
   {
    "duration": 113,
    "start_time": "2022-09-24T20:24:02.348Z"
   },
   {
    "duration": 10,
    "start_time": "2022-09-24T20:24:02.463Z"
   },
   {
    "duration": 8,
    "start_time": "2022-09-24T20:24:02.474Z"
   },
   {
    "duration": 30,
    "start_time": "2022-09-24T20:24:02.483Z"
   },
   {
    "duration": 23,
    "start_time": "2022-09-24T20:24:02.514Z"
   },
   {
    "duration": 31,
    "start_time": "2022-09-24T20:24:02.539Z"
   },
   {
    "duration": 63,
    "start_time": "2022-09-24T20:24:02.573Z"
   },
   {
    "duration": 48,
    "start_time": "2022-09-24T20:25:56.599Z"
   },
   {
    "duration": 1197,
    "start_time": "2022-09-24T20:26:32.856Z"
   },
   {
    "duration": 57,
    "start_time": "2022-09-24T20:26:34.055Z"
   },
   {
    "duration": 16,
    "start_time": "2022-09-24T20:26:34.117Z"
   },
   {
    "duration": 16,
    "start_time": "2022-09-24T20:26:34.134Z"
   },
   {
    "duration": 11,
    "start_time": "2022-09-24T20:26:34.153Z"
   },
   {
    "duration": 5,
    "start_time": "2022-09-24T20:26:34.165Z"
   },
   {
    "duration": 51,
    "start_time": "2022-09-24T20:26:34.171Z"
   },
   {
    "duration": 23,
    "start_time": "2022-09-24T20:26:34.224Z"
   },
   {
    "duration": 19,
    "start_time": "2022-09-24T20:26:34.248Z"
   },
   {
    "duration": 17,
    "start_time": "2022-09-24T20:26:34.268Z"
   },
   {
    "duration": 25,
    "start_time": "2022-09-24T20:26:34.287Z"
   },
   {
    "duration": 16,
    "start_time": "2022-09-24T20:26:34.314Z"
   },
   {
    "duration": 5,
    "start_time": "2022-09-24T20:26:34.333Z"
   },
   {
    "duration": 11,
    "start_time": "2022-09-24T20:26:34.342Z"
   },
   {
    "duration": 22,
    "start_time": "2022-09-24T20:26:34.354Z"
   },
   {
    "duration": 31,
    "start_time": "2022-09-24T20:26:34.378Z"
   },
   {
    "duration": 5,
    "start_time": "2022-09-24T20:26:34.410Z"
   },
   {
    "duration": 56,
    "start_time": "2022-09-24T20:26:34.417Z"
   },
   {
    "duration": 8,
    "start_time": "2022-09-24T20:26:34.475Z"
   },
   {
    "duration": 9,
    "start_time": "2022-09-24T20:26:34.484Z"
   },
   {
    "duration": 6,
    "start_time": "2022-09-24T20:26:34.508Z"
   },
   {
    "duration": 32,
    "start_time": "2022-09-24T20:26:34.516Z"
   },
   {
    "duration": 7,
    "start_time": "2022-09-24T20:26:34.550Z"
   },
   {
    "duration": 9,
    "start_time": "2022-09-24T20:26:34.559Z"
   },
   {
    "duration": 12,
    "start_time": "2022-09-24T20:26:34.570Z"
   },
   {
    "duration": 16,
    "start_time": "2022-09-24T20:26:34.583Z"
   },
   {
    "duration": 20,
    "start_time": "2022-09-24T20:26:34.600Z"
   },
   {
    "duration": 7,
    "start_time": "2022-09-24T20:26:34.622Z"
   },
   {
    "duration": 9,
    "start_time": "2022-09-24T20:26:34.631Z"
   },
   {
    "duration": 6,
    "start_time": "2022-09-24T20:26:34.641Z"
   },
   {
    "duration": 5,
    "start_time": "2022-09-24T20:26:34.649Z"
   },
   {
    "duration": 16,
    "start_time": "2022-09-24T20:26:34.656Z"
   },
   {
    "duration": 6,
    "start_time": "2022-09-24T20:26:34.673Z"
   },
   {
    "duration": 9,
    "start_time": "2022-09-24T20:26:34.680Z"
   },
   {
    "duration": 152,
    "start_time": "2022-09-24T20:26:34.690Z"
   },
   {
    "duration": 15,
    "start_time": "2022-09-24T20:26:34.844Z"
   },
   {
    "duration": 381,
    "start_time": "2022-09-24T20:26:34.861Z"
   },
   {
    "duration": 17,
    "start_time": "2022-09-24T20:26:35.243Z"
   },
   {
    "duration": 51,
    "start_time": "2022-09-24T20:26:35.261Z"
   },
   {
    "duration": 152,
    "start_time": "2022-09-24T20:26:35.313Z"
   },
   {
    "duration": 94,
    "start_time": "2022-09-24T20:26:35.469Z"
   },
   {
    "duration": 17,
    "start_time": "2022-09-24T20:26:35.565Z"
   },
   {
    "duration": 37,
    "start_time": "2022-09-24T20:26:35.583Z"
   },
   {
    "duration": 16,
    "start_time": "2022-09-24T20:26:35.622Z"
   },
   {
    "duration": 41,
    "start_time": "2022-09-24T20:26:35.640Z"
   },
   {
    "duration": 27,
    "start_time": "2022-09-24T20:26:35.682Z"
   },
   {
    "duration": 14,
    "start_time": "2022-09-24T20:26:35.711Z"
   },
   {
    "duration": 89,
    "start_time": "2022-09-24T20:26:35.726Z"
   },
   {
    "duration": 16,
    "start_time": "2022-09-24T20:26:35.817Z"
   },
   {
    "duration": 419,
    "start_time": "2022-09-24T20:26:35.835Z"
   },
   {
    "duration": 15,
    "start_time": "2022-09-24T20:26:36.255Z"
   },
   {
    "duration": 7,
    "start_time": "2022-09-24T20:26:36.272Z"
   },
   {
    "duration": 32,
    "start_time": "2022-09-24T20:26:36.280Z"
   },
   {
    "duration": 398,
    "start_time": "2022-09-24T20:26:36.314Z"
   },
   {
    "duration": 8,
    "start_time": "2022-09-24T20:26:36.714Z"
   },
   {
    "duration": 14,
    "start_time": "2022-09-24T20:26:36.724Z"
   },
   {
    "duration": 16,
    "start_time": "2022-09-24T20:26:36.740Z"
   },
   {
    "duration": 69,
    "start_time": "2022-09-24T20:26:36.758Z"
   },
   {
    "duration": 19,
    "start_time": "2022-09-24T20:26:36.829Z"
   },
   {
    "duration": 19,
    "start_time": "2022-09-24T20:26:36.850Z"
   },
   {
    "duration": 81,
    "start_time": "2022-09-24T20:26:36.871Z"
   },
   {
    "duration": 25,
    "start_time": "2022-09-24T20:26:36.953Z"
   },
   {
    "duration": 39,
    "start_time": "2022-09-24T20:26:36.979Z"
   },
   {
    "duration": 66,
    "start_time": "2022-09-24T20:26:37.020Z"
   },
   {
    "duration": 40,
    "start_time": "2022-09-24T20:26:37.087Z"
   },
   {
    "duration": 17,
    "start_time": "2022-09-24T20:26:37.128Z"
   },
   {
    "duration": 83,
    "start_time": "2022-09-24T20:26:37.147Z"
   },
   {
    "duration": 9,
    "start_time": "2022-09-24T20:26:37.232Z"
   },
   {
    "duration": 4,
    "start_time": "2022-09-24T20:26:37.242Z"
   },
   {
    "duration": 10,
    "start_time": "2022-09-24T20:26:37.247Z"
   },
   {
    "duration": 10,
    "start_time": "2022-09-24T20:26:37.258Z"
   },
   {
    "duration": 4,
    "start_time": "2022-09-24T20:26:37.269Z"
   },
   {
    "duration": 6,
    "start_time": "2022-09-24T20:26:37.274Z"
   },
   {
    "duration": 38,
    "start_time": "2022-09-24T20:30:21.554Z"
   },
   {
    "duration": 49,
    "start_time": "2022-09-24T20:31:36.403Z"
   },
   {
    "duration": 14,
    "start_time": "2022-09-24T20:32:35.377Z"
   },
   {
    "duration": 1176,
    "start_time": "2022-09-24T20:32:45.174Z"
   },
   {
    "duration": 55,
    "start_time": "2022-09-24T20:32:46.352Z"
   },
   {
    "duration": 19,
    "start_time": "2022-09-24T20:32:46.409Z"
   },
   {
    "duration": 29,
    "start_time": "2022-09-24T20:32:46.430Z"
   },
   {
    "duration": 7,
    "start_time": "2022-09-24T20:32:46.461Z"
   },
   {
    "duration": 8,
    "start_time": "2022-09-24T20:32:46.470Z"
   },
   {
    "duration": 51,
    "start_time": "2022-09-24T20:32:46.480Z"
   },
   {
    "duration": 22,
    "start_time": "2022-09-24T20:32:46.533Z"
   },
   {
    "duration": 19,
    "start_time": "2022-09-24T20:32:46.556Z"
   },
   {
    "duration": 18,
    "start_time": "2022-09-24T20:32:46.578Z"
   },
   {
    "duration": 21,
    "start_time": "2022-09-24T20:32:46.598Z"
   },
   {
    "duration": 23,
    "start_time": "2022-09-24T20:32:46.621Z"
   },
   {
    "duration": 4,
    "start_time": "2022-09-24T20:32:46.646Z"
   },
   {
    "duration": 5,
    "start_time": "2022-09-24T20:32:46.652Z"
   },
   {
    "duration": 23,
    "start_time": "2022-09-24T20:32:46.659Z"
   },
   {
    "duration": 14,
    "start_time": "2022-09-24T20:32:46.684Z"
   },
   {
    "duration": 5,
    "start_time": "2022-09-24T20:32:46.700Z"
   },
   {
    "duration": 60,
    "start_time": "2022-09-24T20:32:46.724Z"
   },
   {
    "duration": 8,
    "start_time": "2022-09-24T20:32:46.786Z"
   },
   {
    "duration": 12,
    "start_time": "2022-09-24T20:32:46.795Z"
   },
   {
    "duration": 30,
    "start_time": "2022-09-24T20:32:46.811Z"
   },
   {
    "duration": 17,
    "start_time": "2022-09-24T20:32:46.842Z"
   },
   {
    "duration": 5,
    "start_time": "2022-09-24T20:32:46.861Z"
   },
   {
    "duration": 14,
    "start_time": "2022-09-24T20:32:46.867Z"
   },
   {
    "duration": 6,
    "start_time": "2022-09-24T20:32:46.883Z"
   },
   {
    "duration": 14,
    "start_time": "2022-09-24T20:32:46.891Z"
   },
   {
    "duration": 46,
    "start_time": "2022-09-24T20:32:46.906Z"
   },
   {
    "duration": 8,
    "start_time": "2022-09-24T20:32:46.956Z"
   },
   {
    "duration": 4,
    "start_time": "2022-09-24T20:32:46.966Z"
   },
   {
    "duration": 10,
    "start_time": "2022-09-24T20:32:46.971Z"
   },
   {
    "duration": 5,
    "start_time": "2022-09-24T20:32:46.983Z"
   },
   {
    "duration": 44,
    "start_time": "2022-09-24T20:32:46.989Z"
   },
   {
    "duration": 8,
    "start_time": "2022-09-24T20:32:47.035Z"
   },
   {
    "duration": 8,
    "start_time": "2022-09-24T20:32:47.044Z"
   },
   {
    "duration": 143,
    "start_time": "2022-09-24T20:32:47.054Z"
   },
   {
    "duration": 36,
    "start_time": "2022-09-24T20:32:47.199Z"
   },
   {
    "duration": 368,
    "start_time": "2022-09-24T20:32:47.237Z"
   },
   {
    "duration": 22,
    "start_time": "2022-09-24T20:32:47.607Z"
   },
   {
    "duration": 31,
    "start_time": "2022-09-24T20:32:47.631Z"
   },
   {
    "duration": 205,
    "start_time": "2022-09-24T20:32:47.664Z"
   },
   {
    "duration": 88,
    "start_time": "2022-09-24T20:32:47.870Z"
   },
   {
    "duration": 17,
    "start_time": "2022-09-24T20:32:47.960Z"
   },
   {
    "duration": 38,
    "start_time": "2022-09-24T20:32:47.979Z"
   },
   {
    "duration": 17,
    "start_time": "2022-09-24T20:32:48.018Z"
   },
   {
    "duration": 40,
    "start_time": "2022-09-24T20:32:48.037Z"
   },
   {
    "duration": 11,
    "start_time": "2022-09-24T20:32:48.078Z"
   },
   {
    "duration": 18,
    "start_time": "2022-09-24T20:32:48.109Z"
   },
   {
    "duration": 107,
    "start_time": "2022-09-24T20:32:48.129Z"
   },
   {
    "duration": 17,
    "start_time": "2022-09-24T20:32:48.237Z"
   },
   {
    "duration": 433,
    "start_time": "2022-09-24T20:32:48.255Z"
   },
   {
    "duration": 25,
    "start_time": "2022-09-24T20:32:48.690Z"
   },
   {
    "duration": 6,
    "start_time": "2022-09-24T20:32:48.734Z"
   },
   {
    "duration": 17,
    "start_time": "2022-09-24T20:32:48.741Z"
   },
   {
    "duration": 447,
    "start_time": "2022-09-24T20:32:48.760Z"
   },
   {
    "duration": 25,
    "start_time": "2022-09-24T20:32:49.208Z"
   },
   {
    "duration": 7,
    "start_time": "2022-09-24T20:32:49.236Z"
   },
   {
    "duration": 16,
    "start_time": "2022-09-24T20:32:49.244Z"
   },
   {
    "duration": 73,
    "start_time": "2022-09-24T20:32:49.262Z"
   },
   {
    "duration": 20,
    "start_time": "2022-09-24T20:32:49.337Z"
   },
   {
    "duration": 30,
    "start_time": "2022-09-24T20:32:49.359Z"
   },
   {
    "duration": 68,
    "start_time": "2022-09-24T20:32:49.390Z"
   },
   {
    "duration": 26,
    "start_time": "2022-09-24T20:32:49.460Z"
   },
   {
    "duration": 47,
    "start_time": "2022-09-24T20:32:49.488Z"
   },
   {
    "duration": 58,
    "start_time": "2022-09-24T20:32:49.537Z"
   },
   {
    "duration": 35,
    "start_time": "2022-09-24T20:32:49.597Z"
   },
   {
    "duration": 18,
    "start_time": "2022-09-24T20:32:49.633Z"
   },
   {
    "duration": 92,
    "start_time": "2022-09-24T20:32:49.653Z"
   },
   {
    "duration": 10,
    "start_time": "2022-09-24T20:32:49.747Z"
   },
   {
    "duration": 5,
    "start_time": "2022-09-24T20:32:49.758Z"
   },
   {
    "duration": 9,
    "start_time": "2022-09-24T20:32:49.764Z"
   },
   {
    "duration": 13,
    "start_time": "2022-09-24T20:32:49.774Z"
   },
   {
    "duration": 3,
    "start_time": "2022-09-24T20:32:49.789Z"
   },
   {
    "duration": 39,
    "start_time": "2022-09-24T20:32:49.793Z"
   },
   {
    "duration": 14,
    "start_time": "2022-09-24T20:33:35.079Z"
   },
   {
    "duration": 12,
    "start_time": "2022-09-24T20:33:47.295Z"
   },
   {
    "duration": 37,
    "start_time": "2022-09-24T20:34:17.708Z"
   },
   {
    "duration": 82,
    "start_time": "2022-09-24T20:40:41.975Z"
   },
   {
    "duration": 85,
    "start_time": "2022-09-24T20:41:19.491Z"
   },
   {
    "duration": 27,
    "start_time": "2022-09-24T20:41:39.032Z"
   },
   {
    "duration": 63,
    "start_time": "2022-09-24T20:46:57.142Z"
   },
   {
    "duration": 22,
    "start_time": "2022-09-24T20:48:25.529Z"
   },
   {
    "duration": 58,
    "start_time": "2022-09-24T21:00:36.634Z"
   },
   {
    "duration": 7,
    "start_time": "2022-09-24T21:19:46.012Z"
   },
   {
    "duration": 5,
    "start_time": "2022-09-24T21:21:55.642Z"
   },
   {
    "duration": 15,
    "start_time": "2022-09-24T21:21:56.966Z"
   },
   {
    "duration": 61,
    "start_time": "2022-09-24T21:25:21.110Z"
   },
   {
    "duration": 1246,
    "start_time": "2022-09-24T21:26:29.795Z"
   },
   {
    "duration": 53,
    "start_time": "2022-09-24T21:26:31.043Z"
   },
   {
    "duration": 14,
    "start_time": "2022-09-24T21:26:31.099Z"
   },
   {
    "duration": 33,
    "start_time": "2022-09-24T21:26:31.115Z"
   },
   {
    "duration": 19,
    "start_time": "2022-09-24T21:26:31.150Z"
   },
   {
    "duration": 18,
    "start_time": "2022-09-24T21:26:31.170Z"
   },
   {
    "duration": 47,
    "start_time": "2022-09-24T21:26:31.190Z"
   },
   {
    "duration": 20,
    "start_time": "2022-09-24T21:26:31.239Z"
   },
   {
    "duration": 19,
    "start_time": "2022-09-24T21:26:31.262Z"
   },
   {
    "duration": 33,
    "start_time": "2022-09-24T21:26:31.282Z"
   },
   {
    "duration": 6,
    "start_time": "2022-09-24T21:26:31.317Z"
   },
   {
    "duration": 16,
    "start_time": "2022-09-24T21:26:31.324Z"
   },
   {
    "duration": 8,
    "start_time": "2022-09-24T21:26:31.342Z"
   },
   {
    "duration": 13,
    "start_time": "2022-09-24T21:26:31.351Z"
   },
   {
    "duration": 21,
    "start_time": "2022-09-24T21:26:31.365Z"
   },
   {
    "duration": 21,
    "start_time": "2022-09-24T21:26:31.388Z"
   },
   {
    "duration": 10,
    "start_time": "2022-09-24T21:26:31.410Z"
   },
   {
    "duration": 57,
    "start_time": "2022-09-24T21:26:31.422Z"
   },
   {
    "duration": 8,
    "start_time": "2022-09-24T21:26:31.480Z"
   },
   {
    "duration": 16,
    "start_time": "2022-09-24T21:26:31.490Z"
   },
   {
    "duration": 17,
    "start_time": "2022-09-24T21:26:31.508Z"
   },
   {
    "duration": 14,
    "start_time": "2022-09-24T21:26:31.527Z"
   },
   {
    "duration": 6,
    "start_time": "2022-09-24T21:26:31.542Z"
   },
   {
    "duration": 38,
    "start_time": "2022-09-24T21:26:31.549Z"
   },
   {
    "duration": 14,
    "start_time": "2022-09-24T21:26:31.589Z"
   },
   {
    "duration": 23,
    "start_time": "2022-09-24T21:26:31.604Z"
   },
   {
    "duration": 43,
    "start_time": "2022-09-24T21:26:31.631Z"
   },
   {
    "duration": 7,
    "start_time": "2022-09-24T21:26:31.675Z"
   },
   {
    "duration": 7,
    "start_time": "2022-09-24T21:26:31.683Z"
   },
   {
    "duration": 7,
    "start_time": "2022-09-24T21:26:31.692Z"
   },
   {
    "duration": 8,
    "start_time": "2022-09-24T21:26:31.700Z"
   },
   {
    "duration": 26,
    "start_time": "2022-09-24T21:26:31.709Z"
   },
   {
    "duration": 6,
    "start_time": "2022-09-24T21:26:31.737Z"
   },
   {
    "duration": 15,
    "start_time": "2022-09-24T21:26:31.745Z"
   },
   {
    "duration": 140,
    "start_time": "2022-09-24T21:26:31.762Z"
   },
   {
    "duration": 17,
    "start_time": "2022-09-24T21:26:31.904Z"
   },
   {
    "duration": 345,
    "start_time": "2022-09-24T21:26:31.923Z"
   },
   {
    "duration": 38,
    "start_time": "2022-09-24T21:26:32.270Z"
   },
   {
    "duration": 28,
    "start_time": "2022-09-24T21:26:32.310Z"
   },
   {
    "duration": 208,
    "start_time": "2022-09-24T21:26:32.339Z"
   },
   {
    "duration": 106,
    "start_time": "2022-09-24T21:26:32.550Z"
   },
   {
    "duration": 20,
    "start_time": "2022-09-24T21:26:32.658Z"
   },
   {
    "duration": 51,
    "start_time": "2022-09-24T21:26:32.680Z"
   },
   {
    "duration": 12,
    "start_time": "2022-09-24T21:26:32.733Z"
   },
   {
    "duration": 51,
    "start_time": "2022-09-24T21:26:32.746Z"
   },
   {
    "duration": 18,
    "start_time": "2022-09-24T21:26:32.798Z"
   },
   {
    "duration": 27,
    "start_time": "2022-09-24T21:26:32.817Z"
   },
   {
    "duration": 79,
    "start_time": "2022-09-24T21:26:32.846Z"
   },
   {
    "duration": 24,
    "start_time": "2022-09-24T21:26:32.927Z"
   },
   {
    "duration": 447,
    "start_time": "2022-09-24T21:26:32.953Z"
   },
   {
    "duration": 17,
    "start_time": "2022-09-24T21:26:33.402Z"
   },
   {
    "duration": 5,
    "start_time": "2022-09-24T21:26:33.420Z"
   },
   {
    "duration": 15,
    "start_time": "2022-09-24T21:26:33.427Z"
   },
   {
    "duration": 417,
    "start_time": "2022-09-24T21:26:33.443Z"
   },
   {
    "duration": 9,
    "start_time": "2022-09-24T21:26:33.862Z"
   },
   {
    "duration": 6,
    "start_time": "2022-09-24T21:26:33.873Z"
   },
   {
    "duration": 31,
    "start_time": "2022-09-24T21:26:33.881Z"
   },
   {
    "duration": 56,
    "start_time": "2022-09-24T21:26:33.913Z"
   },
   {
    "duration": 17,
    "start_time": "2022-09-24T21:26:33.971Z"
   },
   {
    "duration": 32,
    "start_time": "2022-09-24T21:26:33.990Z"
   },
   {
    "duration": 57,
    "start_time": "2022-09-24T21:26:34.024Z"
   },
   {
    "duration": 49,
    "start_time": "2022-09-24T21:26:34.083Z"
   },
   {
    "duration": 18,
    "start_time": "2022-09-24T21:26:34.133Z"
   },
   {
    "duration": 84,
    "start_time": "2022-09-24T21:26:34.152Z"
   },
   {
    "duration": 20,
    "start_time": "2022-09-24T21:26:34.237Z"
   },
   {
    "duration": 18,
    "start_time": "2022-09-24T21:26:34.259Z"
   },
   {
    "duration": 77,
    "start_time": "2022-09-24T21:26:34.278Z"
   },
   {
    "duration": 9,
    "start_time": "2022-09-24T21:26:34.357Z"
   },
   {
    "duration": 4,
    "start_time": "2022-09-24T21:26:34.367Z"
   },
   {
    "duration": 9,
    "start_time": "2022-09-24T21:26:34.372Z"
   },
   {
    "duration": 32,
    "start_time": "2022-09-24T21:26:34.382Z"
   },
   {
    "duration": 22,
    "start_time": "2022-09-24T21:26:34.416Z"
   },
   {
    "duration": 13,
    "start_time": "2022-09-24T21:26:34.440Z"
   },
   {
    "duration": 7,
    "start_time": "2022-09-24T21:33:30.947Z"
   }
  ],
  "language_info": {
   "codemirror_mode": {
    "name": "ipython",
    "version": 3
   },
   "file_extension": ".py",
   "mimetype": "text/x-python",
   "name": "python",
   "nbconvert_exporter": "python",
   "pygments_lexer": "ipython3",
   "version": "3.7.7"
  },
  "notebookId": "5803f027-8f29-4982-904b-f77f2ed6de42",
  "notebookPath": "YANDEX/10.Анализ рынка продаж компьютерных игр.ipynb",
  "toc": {
   "base_numbering": "Шаг 1. Откройте файл с данными и изучите общую информацию",
   "nav_menu": {},
   "number_sections": false,
   "sideBar": true,
   "skip_h1_title": false,
   "title_cell": "Table of Contents",
   "title_sidebar": "Contents",
   "toc_cell": false,
   "toc_position": {
    "height": "calc(100% - 180px)",
    "left": "10px",
    "top": "150px",
    "width": "165px"
   },
   "toc_section_display": true,
   "toc_window_display": false
  }
 },
 "nbformat": 4,
 "nbformat_minor": 4
}
