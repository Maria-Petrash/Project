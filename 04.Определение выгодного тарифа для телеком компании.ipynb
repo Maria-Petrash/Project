{
 "cells": [
  {
   "cell_type": "markdown",
   "metadata": {
    "cellId": "hht9iarwjv5rbtifjc4bl"
   },
   "source": [
    "# Рекомендация тарифов"
   ]
  },
  {
   "cell_type": "markdown",
   "metadata": {
    "cellId": "v70ofcv40jkc4n03sbypgv"
   },
   "source": [
    "В нашем распоряжении данные о поведении клиентов, которые уже перешли на эти тарифы (из проекта курса «Статистический анализ данных»). Нужно построить модель для задачи классификации, которая выберет подходящий тариф. Предобработка данных не понадобится — вы её уже сделали.\n",
    "\n",
    "Необходимо построить модель с максимально большим значением *accuracy*. Чтобы сдать проект успешно, нужно довести долю правильных ответов по крайней мере до 0.75. Проверьте *accuracy* на тестовой выборке самостоятельно."
   ]
  },
  {
   "cell_type": "markdown",
   "metadata": {
    "cellId": "02dqtpuzmj38bvhju2e2ipk"
   },
   "source": [
    "## Откройте и изучите файл"
   ]
  },
  {
   "cell_type": "markdown",
   "metadata": {
    "cellId": "6dxdsashammkajju5veb1s"
   },
   "source": [
    "Откройте файл с данными и изучите его. \n",
    "Путь к файлу: /datasets/users_behavior.csv. Импортируем все потенциально необходимые библиотеки и классификаторы."
   ]
  },
  {
   "cell_type": "code",
   "execution_count": 19,
   "metadata": {
    "cellId": "ty5ogfn7d3gwcfa6dise6"
   },
   "outputs": [],
   "source": [
    "import pandas as pd\n",
    "import sklearn\n",
    "import warnings\n",
    "warnings.filterwarnings('ignore')\n",
    "from sklearn.model_selection import train_test_split \n",
    "from sklearn.tree import DecisionTreeClassifier\n",
    "from sklearn.metrics import accuracy_score\n",
    "from sklearn.ensemble import RandomForestClassifier\n",
    "from sklearn.linear_model import LogisticRegression\n",
    "from sklearn.dummy import DummyClassifier"
   ]
  },
  {
   "cell_type": "code",
   "execution_count": 2,
   "metadata": {
    "cellId": "cbresxp802knydth11tkp"
   },
   "outputs": [],
   "source": [
    "try:\n",
    "    df = pd.read_csv(\"/datasets/users_behavior.csv\") \n",
    "\n",
    "except:\n",
    "    print(\"Есть ошибки\")\n",
    "else:\n",
    "    print(\"Все загрузилось!\")"
   ]
  },
  {
   "cell_type": "code",
   "execution_count": 3,
   "metadata": {
    "cellId": "4vjrza2uztabdbzpaprzx6"
   },
   "outputs": [],
   "source": [
    "df.info()"
   ]
  },
  {
   "cell_type": "code",
   "execution_count": 4,
   "metadata": {
    "cellId": "740oa3leqz6hf27evkvdf"
   },
   "outputs": [],
   "source": [
    "df.shape"
   ]
  },
  {
   "cell_type": "markdown",
   "metadata": {
    "cellId": "8p1xhnmr0vhqsvpdyin7n"
   },
   "source": [
    "Выведем на экран наименования столбцов"
   ]
  },
  {
   "cell_type": "code",
   "execution_count": 5,
   "metadata": {
    "cellId": "me3e42j9vsm01adb4tpqheb"
   },
   "outputs": [],
   "source": [
    "df.columns"
   ]
  },
  {
   "cell_type": "code",
   "execution_count": 6,
   "metadata": {
    "cellId": "e60zinmppw7cjz9bhwapmn"
   },
   "outputs": [],
   "source": [
    "display(df.head(10))"
   ]
  },
  {
   "cell_type": "markdown",
   "metadata": {
    "cellId": "zepy1t7el6i4baqdaqaf"
   },
   "source": [
    "В таблице  5 столбцов и 3214 строк. \n",
    "- сalls — количество звонков,\n",
    "- minutes — суммарная длительность звонков в минутах,\n",
    "- messages — количество sms-сообщений,\n",
    "- mb_used — израсходованный интернет-трафик в Мб,\n",
    "- is_ultra — каким тарифом пользовался в течение месяца («Ультра» — 1, «Смарт» — 0).\n",
    "- Типы данных соответствуют, пропусков нет."
   ]
  },
  {
   "cell_type": "markdown",
   "metadata": {
    "cellId": "6y5a19w3lbezrs601xboq"
   },
   "source": [
    "## Разбейте данные на выборки"
   ]
  },
  {
   "cell_type": "markdown",
   "metadata": {
    "cellId": "hxbsmqjn65e7x7vbpmkdt"
   },
   "source": [
    "Разделите исходные данные на обучающую, валидационную и тестовую выборки."
   ]
  },
  {
   "cell_type": "markdown",
   "metadata": {
    "cellId": "p9urhqulhqi5040nyxhr1g"
   },
   "source": [
    "В нашем случае нет отдельно выделенной тестовой выборки, поэтому существющие данные мы делим на три выборки:\n",
    "\n",
    "- обучающая (для обучения модели)\n",
    "- валидационная (для выбора лучшего алгоритма и оптимальных параметров)\n",
    "- тестовая (для финального теста лучшей модели)."
   ]
  },
  {
   "cell_type": "code",
   "execution_count": 7,
   "metadata": {
    "cellId": "z8u86k3ajfxlqmjyetnqg"
   },
   "outputs": [],
   "source": [
    "features = df.drop(['is_ultra'], axis=1)\n",
    "target = df['is_ultra']"
   ]
  },
  {
   "cell_type": "code",
   "execution_count": 20,
   "metadata": {
    "cellId": "7ql5ui65zs50j0h8emrvk"
   },
   "outputs": [],
   "source": [
    "#разбиваем на 3 выборки:обучающую, валидационную, тестовую\n",
    "features_train, features_part, target_train, target_part = train_test_split(features, target, test_size=0.30, random_state=12345)\n",
    "features_valid, features_test, target_valid, target_test = train_test_split(features_part, target_part, test_size=0.5, random_state=12345)"
   ]
  },
  {
   "cell_type": "code",
   "execution_count": 10,
   "metadata": {
    "cellId": "gv4dq31zxrwj076h8nixhc"
   },
   "outputs": [],
   "source": [
    "print(features_train.shape, features_valid.shape, features_test.shape, target_train.shape,  target_valid.shape, target_test.shape)"
   ]
  },
  {
   "cell_type": "markdown",
   "metadata": {
    "cellId": "ao4y1trpvginhtee1pjo"
   },
   "source": [
    "Мы разделили тестовую, тренировочную выборку и валидационную на признаки(features) и целевой признак(target)."
   ]
  },
  {
   "cell_type": "markdown",
   "metadata": {
    "cellId": "obdqgk80h6j470n14ay65h"
   },
   "source": [
    "## Исследуйте модели"
   ]
  },
  {
   "cell_type": "markdown",
   "metadata": {
    "cellId": "ews0lfggdhsrpc1kl7ycw"
   },
   "source": [
    "Обучим модель \"Дерево Решений\" и проверим разные глубины"
   ]
  },
  {
   "cell_type": "code",
   "execution_count": 13,
   "metadata": {
    "cellId": "i1c8snduvadxyudemxgpt"
   },
   "outputs": [],
   "source": [
    "dd = dict() #словарь (глубина, погрешность)\n",
    "for depth in range(1, 6): \n",
    "    model = DecisionTreeClassifier(random_state=12345, max_depth=depth)\n",
    "    model.fit(features_train, target_train)\n",
    "    predictions = model.predict(features_valid)\n",
    "    accuracy = accuracy_score(target_valid, predictions)\n",
    "    dd[depth] = accuracy\n",
    "    print('depth:', depth, 'accuracy:', accuracy)\n",
    "print('лучшая модель глубиной', [key for key in dd if dd[key] == max(dd.values())])"
   ]
  },
  {
   "cell_type": "markdown",
   "metadata": {
    "cellId": "uyinnpva4mfx86in5own7q"
   },
   "source": [
    "Обучим модель алгоритм \"Случайный лес\" + различная глубина"
   ]
  },
  {
   "cell_type": "code",
   "execution_count": 14,
   "metadata": {
    "cellId": "z2225418nbu56k6zu8m7r"
   },
   "outputs": [],
   "source": [
    "accur=0\n",
    "est=0\n",
    "dep=0\n",
    "for estim in range(2,15, 3): \n",
    "    for depth in range(11,15):\n",
    "        model = RandomForestClassifier(random_state=12345, n_estimators=estim, max_depth=depth)\n",
    "        model.fit(features_train, target_train)\n",
    "        predictions = model.predict(features_valid)\n",
    "        accuracy = accuracy_score(target_valid, predictions)\n",
    "        if accuracy > accur:\n",
    "            accur=accuracy\n",
    "            est=estim\n",
    "            dep=depth\n",
    "print(\"n_estimators:\", est, \"depth:\", dep, \"accuracy\", accur)"
   ]
  },
  {
   "cell_type": "markdown",
   "metadata": {
    "cellId": "q07ea2gn8mb8o2hqq16t14"
   },
   "source": [
    "Обучим модель алгоритмом \"логистической регрессии\""
   ]
  },
  {
   "cell_type": "code",
   "execution_count": 15,
   "metadata": {
    "cellId": "vzr4mq1ejnl7lvuq5qra54"
   },
   "outputs": [],
   "source": [
    "model =  LogisticRegression()\n",
    "model.fit(features_train, target_train)\n",
    "predictions = model.predict(features_valid)\n",
    "accuracy = accuracy_score(target_valid, predictions)\n",
    "print('accuracy:', accuracy)"
   ]
  },
  {
   "cell_type": "markdown",
   "metadata": {
    "cellId": "wjw081d1ykb5n4eyjppoa"
   },
   "source": [
    "Обучили \"дерево принятия решений\".\n",
    "Обучили \"модель случайного леса\" с подбором глубины. \n",
    "Обучили \"модель логистической регрессии\" и получили метрики хуже остальных моделей."
   ]
  },
  {
   "cell_type": "markdown",
   "metadata": {
    "cellId": "mn9ki30pqn9rlaq7f1jnb"
   },
   "source": [
    "## Проверьте модель на тестовой выборке"
   ]
  },
  {
   "cell_type": "markdown",
   "metadata": {
    "cellId": "qesy3bb8lw7ppxtxfuut3"
   },
   "source": [
    "Объединение тренировочной и валидной выборки"
   ]
  },
  {
   "cell_type": "code",
   "execution_count": 16,
   "metadata": {
    "cellId": "ss8w29dyxaok8apd4phnbl"
   },
   "outputs": [],
   "source": [
    "features_train=pd.concat([features_train, features_valid])\n",
    "target_train=pd.concat([target_train, target_valid])"
   ]
  },
  {
   "cell_type": "code",
   "execution_count": 17,
   "metadata": {
    "cellId": "1monu6ve5game5llo3boad"
   },
   "outputs": [],
   "source": [
    "model = RandomForestClassifier(random_state=12345, n_estimators=5, max_depth=13)\n",
    "model.fit(features_train, target_train)\n",
    "predictions = model.predict(features_test)\n",
    "accuracy = accuracy_score(target_test, predictions)\n",
    "print('accuracy =','{:.4f}'.format(accuracy))"
   ]
  },
  {
   "cell_type": "markdown",
   "metadata": {
    "cellId": "ipaf599gyzlhtsptyiq5ih",
    "execution_id": "9b63b337-3f73-4b19-9b56-3f398e47ff70"
   },
   "source": [
    "##  Проверьте модели на адекватность"
   ]
  },
  {
   "cell_type": "markdown",
   "metadata": {
    "cellId": "azqxm7nd7tec6wj1cynax"
   },
   "source": [
    "Модель, которая предсказывает наиболее часто встречающийся класс"
   ]
  },
  {
   "cell_type": "code",
   "execution_count": 18,
   "metadata": {
    "cellId": "zc0x4tjq7hyipwdy4vvs"
   },
   "outputs": [],
   "source": [
    "dummy_clf = DummyClassifier(strategy=\"most_frequent\", random_state=0)\n",
    "dummy_clf.fit(features_train, target_train)\n",
    "dummy_clf.score(features_train, target_train)"
   ]
  },
  {
   "cell_type": "markdown",
   "metadata": {
    "cellId": "79vatvseey4cv8f8tou98h"
   },
   "source": [
    "Простейшая модель ошибается в 30%.Выбранная модель лучше, чем простейшая модель, проверка на адекватность пройдена.\n"
   ]
  }
 ],
 "metadata": {
  "ExecuteTimeLog": [
   {
    "duration": 1088,
    "start_time": "2022-10-10T09:34:54.936Z"
   },
   {
    "duration": 1120,
    "start_time": "2022-10-10T09:35:28.011Z"
   },
   {
    "duration": 118,
    "start_time": "2022-10-10T09:38:22.332Z"
   },
   {
    "duration": 38,
    "start_time": "2022-10-10T09:38:42.864Z"
   },
   {
    "duration": 3,
    "start_time": "2022-10-10T10:06:21.945Z"
   },
   {
    "duration": 33,
    "start_time": "2022-10-10T10:06:24.998Z"
   },
   {
    "duration": 20,
    "start_time": "2022-10-10T10:06:49.741Z"
   },
   {
    "duration": 9,
    "start_time": "2022-10-10T10:08:11.968Z"
   },
   {
    "duration": 13,
    "start_time": "2022-10-10T10:09:17.159Z"
   },
   {
    "duration": 4,
    "start_time": "2022-10-10T10:21:51.228Z"
   },
   {
    "duration": 6,
    "start_time": "2022-10-10T10:22:45.528Z"
   },
   {
    "duration": 4,
    "start_time": "2022-10-10T10:23:10.465Z"
   },
   {
    "duration": 6,
    "start_time": "2022-10-10T11:10:27.215Z"
   },
   {
    "duration": 1073,
    "start_time": "2022-10-10T11:10:33.454Z"
   },
   {
    "duration": 32,
    "start_time": "2022-10-10T11:10:34.529Z"
   },
   {
    "duration": 11,
    "start_time": "2022-10-10T11:10:34.566Z"
   },
   {
    "duration": 10,
    "start_time": "2022-10-10T11:10:34.579Z"
   },
   {
    "duration": 14,
    "start_time": "2022-10-10T11:10:34.591Z"
   },
   {
    "duration": 4,
    "start_time": "2022-10-10T11:10:34.607Z"
   },
   {
    "duration": 27,
    "start_time": "2022-10-10T11:10:34.613Z"
   },
   {
    "duration": 99,
    "start_time": "2022-10-10T11:33:32.553Z"
   },
   {
    "duration": 23,
    "start_time": "2022-10-10T11:34:03.158Z"
   },
   {
    "duration": 1120,
    "start_time": "2022-10-10T11:34:36.673Z"
   },
   {
    "duration": 32,
    "start_time": "2022-10-10T11:34:37.795Z"
   },
   {
    "duration": 13,
    "start_time": "2022-10-10T11:34:37.828Z"
   },
   {
    "duration": 10,
    "start_time": "2022-10-10T11:34:37.843Z"
   },
   {
    "duration": 14,
    "start_time": "2022-10-10T11:34:37.855Z"
   },
   {
    "duration": 4,
    "start_time": "2022-10-10T11:34:37.870Z"
   },
   {
    "duration": 7,
    "start_time": "2022-10-10T11:34:37.875Z"
   },
   {
    "duration": 5,
    "start_time": "2022-10-10T11:34:37.883Z"
   },
   {
    "duration": 112,
    "start_time": "2022-10-10T11:42:26.908Z"
   },
   {
    "duration": 90,
    "start_time": "2022-10-10T11:43:17.894Z"
   },
   {
    "duration": 13,
    "start_time": "2022-10-10T11:43:45.023Z"
   },
   {
    "duration": 31,
    "start_time": "2022-10-10T11:43:49.722Z"
   },
   {
    "duration": 1228,
    "start_time": "2022-10-10T11:43:57.482Z"
   },
   {
    "duration": 33,
    "start_time": "2022-10-10T11:43:58.713Z"
   },
   {
    "duration": 13,
    "start_time": "2022-10-10T11:43:58.747Z"
   },
   {
    "duration": 11,
    "start_time": "2022-10-10T11:43:58.762Z"
   },
   {
    "duration": 16,
    "start_time": "2022-10-10T11:43:58.775Z"
   },
   {
    "duration": 4,
    "start_time": "2022-10-10T11:43:58.793Z"
   },
   {
    "duration": 7,
    "start_time": "2022-10-10T11:43:58.799Z"
   },
   {
    "duration": 139,
    "start_time": "2022-10-10T11:43:58.808Z"
   },
   {
    "duration": 1035,
    "start_time": "2022-10-11T10:27:50.653Z"
   },
   {
    "duration": 114,
    "start_time": "2022-10-11T10:27:51.690Z"
   },
   {
    "duration": 11,
    "start_time": "2022-10-11T10:27:51.809Z"
   },
   {
    "duration": 8,
    "start_time": "2022-10-11T10:27:51.822Z"
   },
   {
    "duration": 12,
    "start_time": "2022-10-11T10:27:51.832Z"
   },
   {
    "duration": 3,
    "start_time": "2022-10-11T10:27:51.846Z"
   },
   {
    "duration": 7,
    "start_time": "2022-10-11T10:27:51.850Z"
   },
   {
    "duration": 7,
    "start_time": "2022-10-11T10:27:51.859Z"
   },
   {
    "duration": 8,
    "start_time": "2022-10-11T10:28:35.525Z"
   },
   {
    "duration": 5,
    "start_time": "2022-10-11T10:30:04.012Z"
   },
   {
    "duration": 109,
    "start_time": "2022-10-11T10:32:26.088Z"
   },
   {
    "duration": 405,
    "start_time": "2022-10-11T10:36:21.895Z"
   },
   {
    "duration": 7,
    "start_time": "2022-10-11T10:36:51.981Z"
   },
   {
    "duration": 1549,
    "start_time": "2022-10-11T10:36:58.092Z"
   },
   {
    "duration": 30,
    "start_time": "2022-10-11T10:36:59.643Z"
   },
   {
    "duration": 11,
    "start_time": "2022-10-11T10:36:59.674Z"
   },
   {
    "duration": 5,
    "start_time": "2022-10-11T10:36:59.687Z"
   },
   {
    "duration": 15,
    "start_time": "2022-10-11T10:36:59.693Z"
   },
   {
    "duration": 4,
    "start_time": "2022-10-11T10:36:59.709Z"
   },
   {
    "duration": 7,
    "start_time": "2022-10-11T10:36:59.714Z"
   },
   {
    "duration": 17,
    "start_time": "2022-10-11T10:36:59.722Z"
   },
   {
    "duration": 7,
    "start_time": "2022-10-11T10:36:59.740Z"
   },
   {
    "duration": 7,
    "start_time": "2022-10-11T10:36:59.748Z"
   },
   {
    "duration": 4,
    "start_time": "2022-10-11T10:36:59.756Z"
   },
   {
    "duration": 78,
    "start_time": "2022-10-11T10:38:00.379Z"
   },
   {
    "duration": 111,
    "start_time": "2022-10-11T10:38:27.933Z"
   },
   {
    "duration": 1319,
    "start_time": "2022-10-11T10:38:43.332Z"
   },
   {
    "duration": 30,
    "start_time": "2022-10-11T10:38:44.653Z"
   },
   {
    "duration": 10,
    "start_time": "2022-10-11T10:38:44.684Z"
   },
   {
    "duration": 8,
    "start_time": "2022-10-11T10:38:44.696Z"
   },
   {
    "duration": 13,
    "start_time": "2022-10-11T10:38:44.705Z"
   },
   {
    "duration": 3,
    "start_time": "2022-10-11T10:38:44.719Z"
   },
   {
    "duration": 7,
    "start_time": "2022-10-11T10:38:44.723Z"
   },
   {
    "duration": 10,
    "start_time": "2022-10-11T10:38:44.731Z"
   },
   {
    "duration": 5,
    "start_time": "2022-10-11T10:38:44.742Z"
   },
   {
    "duration": 8,
    "start_time": "2022-10-11T10:38:44.749Z"
   },
   {
    "duration": 4,
    "start_time": "2022-10-11T10:38:44.758Z"
   },
   {
    "duration": 10,
    "start_time": "2022-10-11T10:38:44.763Z"
   },
   {
    "duration": 6,
    "start_time": "2022-10-11T10:38:44.775Z"
   },
   {
    "duration": 7,
    "start_time": "2022-10-11T11:52:06.169Z"
   },
   {
    "duration": 4,
    "start_time": "2022-10-11T11:52:13.384Z"
   },
   {
    "duration": 3,
    "start_time": "2022-10-11T11:52:29.996Z"
   },
   {
    "duration": 4,
    "start_time": "2022-10-11T11:52:42.481Z"
   },
   {
    "duration": 4,
    "start_time": "2022-10-11T11:54:22.230Z"
   },
   {
    "duration": 10,
    "start_time": "2022-10-11T11:54:44.815Z"
   },
   {
    "duration": 113,
    "start_time": "2022-10-11T11:55:15.689Z"
   },
   {
    "duration": 1330,
    "start_time": "2022-10-11T11:56:47.872Z"
   },
   {
    "duration": 31,
    "start_time": "2022-10-11T11:56:49.204Z"
   },
   {
    "duration": 11,
    "start_time": "2022-10-11T11:56:49.236Z"
   },
   {
    "duration": 14,
    "start_time": "2022-10-11T11:56:49.250Z"
   },
   {
    "duration": 24,
    "start_time": "2022-10-11T11:56:49.266Z"
   },
   {
    "duration": 8,
    "start_time": "2022-10-11T11:56:49.291Z"
   },
   {
    "duration": 11,
    "start_time": "2022-10-11T11:56:49.300Z"
   },
   {
    "duration": 9,
    "start_time": "2022-10-11T11:56:49.313Z"
   },
   {
    "duration": 6,
    "start_time": "2022-10-11T11:56:49.323Z"
   },
   {
    "duration": 7,
    "start_time": "2022-10-11T11:56:49.331Z"
   },
   {
    "duration": 11,
    "start_time": "2022-10-11T11:56:49.339Z"
   },
   {
    "duration": 112,
    "start_time": "2022-10-11T11:56:49.352Z"
   },
   {
    "duration": 9,
    "start_time": "2022-10-11T11:56:54.989Z"
   },
   {
    "duration": 4,
    "start_time": "2022-10-11T11:57:15.070Z"
   },
   {
    "duration": 3,
    "start_time": "2022-10-11T11:57:47.034Z"
   },
   {
    "duration": 4,
    "start_time": "2022-10-11T11:58:55.601Z"
   },
   {
    "duration": 1282,
    "start_time": "2022-10-11T11:59:05.716Z"
   },
   {
    "duration": 30,
    "start_time": "2022-10-11T11:59:06.999Z"
   },
   {
    "duration": 10,
    "start_time": "2022-10-11T11:59:07.032Z"
   },
   {
    "duration": 6,
    "start_time": "2022-10-11T11:59:07.044Z"
   },
   {
    "duration": 11,
    "start_time": "2022-10-11T11:59:07.053Z"
   },
   {
    "duration": 3,
    "start_time": "2022-10-11T11:59:07.065Z"
   },
   {
    "duration": 7,
    "start_time": "2022-10-11T11:59:07.069Z"
   },
   {
    "duration": 5,
    "start_time": "2022-10-11T11:59:07.077Z"
   },
   {
    "duration": 25,
    "start_time": "2022-10-11T11:59:07.084Z"
   },
   {
    "duration": 6,
    "start_time": "2022-10-11T11:59:07.110Z"
   },
   {
    "duration": 7,
    "start_time": "2022-10-11T11:59:07.117Z"
   },
   {
    "duration": 11,
    "start_time": "2022-10-11T11:59:07.125Z"
   },
   {
    "duration": 6,
    "start_time": "2022-10-11T11:59:07.137Z"
   },
   {
    "duration": 4,
    "start_time": "2022-10-11T11:59:07.145Z"
   },
   {
    "duration": 6,
    "start_time": "2022-10-11T11:59:07.150Z"
   },
   {
    "duration": 1345,
    "start_time": "2022-10-11T12:03:31.554Z"
   },
   {
    "duration": 32,
    "start_time": "2022-10-11T12:03:32.901Z"
   },
   {
    "duration": 11,
    "start_time": "2022-10-11T12:03:32.934Z"
   },
   {
    "duration": 8,
    "start_time": "2022-10-11T12:03:32.947Z"
   },
   {
    "duration": 14,
    "start_time": "2022-10-11T12:03:32.956Z"
   },
   {
    "duration": 4,
    "start_time": "2022-10-11T12:03:32.972Z"
   },
   {
    "duration": 7,
    "start_time": "2022-10-11T12:03:32.977Z"
   },
   {
    "duration": 6,
    "start_time": "2022-10-11T12:03:32.986Z"
   },
   {
    "duration": 16,
    "start_time": "2022-10-11T12:03:32.993Z"
   },
   {
    "duration": 3,
    "start_time": "2022-10-11T12:03:33.012Z"
   },
   {
    "duration": 6,
    "start_time": "2022-10-11T12:03:33.016Z"
   },
   {
    "duration": 10,
    "start_time": "2022-10-11T12:03:33.023Z"
   },
   {
    "duration": 7,
    "start_time": "2022-10-11T12:03:33.035Z"
   },
   {
    "duration": 6,
    "start_time": "2022-10-11T12:03:33.043Z"
   },
   {
    "duration": 6,
    "start_time": "2022-10-11T12:03:33.050Z"
   },
   {
    "duration": 145,
    "start_time": "2022-10-11T12:03:33.057Z"
   },
   {
    "duration": 15,
    "start_time": "2022-10-11T12:03:52.422Z"
   },
   {
    "duration": 4,
    "start_time": "2022-10-11T12:04:23.547Z"
   },
   {
    "duration": 1280,
    "start_time": "2022-10-11T12:04:28.012Z"
   },
   {
    "duration": 30,
    "start_time": "2022-10-11T12:04:29.294Z"
   },
   {
    "duration": 10,
    "start_time": "2022-10-11T12:04:29.325Z"
   },
   {
    "duration": 7,
    "start_time": "2022-10-11T12:04:29.337Z"
   },
   {
    "duration": 11,
    "start_time": "2022-10-11T12:04:29.346Z"
   },
   {
    "duration": 3,
    "start_time": "2022-10-11T12:04:29.359Z"
   },
   {
    "duration": 9,
    "start_time": "2022-10-11T12:04:29.363Z"
   },
   {
    "duration": 4,
    "start_time": "2022-10-11T12:04:29.374Z"
   },
   {
    "duration": 6,
    "start_time": "2022-10-11T12:04:29.379Z"
   },
   {
    "duration": 24,
    "start_time": "2022-10-11T12:04:29.386Z"
   },
   {
    "duration": 4,
    "start_time": "2022-10-11T12:04:29.411Z"
   },
   {
    "duration": 11,
    "start_time": "2022-10-11T12:04:29.416Z"
   },
   {
    "duration": 9,
    "start_time": "2022-10-11T12:04:29.428Z"
   },
   {
    "duration": 9,
    "start_time": "2022-10-11T12:04:29.440Z"
   },
   {
    "duration": 5,
    "start_time": "2022-10-11T12:04:29.451Z"
   },
   {
    "duration": 179,
    "start_time": "2022-10-11T12:04:29.457Z"
   },
   {
    "duration": 114,
    "start_time": "2022-10-11T12:07:43.003Z"
   },
   {
    "duration": 4,
    "start_time": "2022-10-11T12:08:33.711Z"
   },
   {
    "duration": 32,
    "start_time": "2022-10-11T12:08:45.043Z"
   },
   {
    "duration": 1298,
    "start_time": "2022-10-11T12:08:54.321Z"
   },
   {
    "duration": 31,
    "start_time": "2022-10-11T12:08:55.621Z"
   },
   {
    "duration": 12,
    "start_time": "2022-10-11T12:08:55.654Z"
   },
   {
    "duration": 35,
    "start_time": "2022-10-11T12:08:55.668Z"
   },
   {
    "duration": 60,
    "start_time": "2022-10-11T12:08:55.705Z"
   },
   {
    "duration": 28,
    "start_time": "2022-10-11T12:08:55.767Z"
   },
   {
    "duration": 16,
    "start_time": "2022-10-11T12:08:55.797Z"
   },
   {
    "duration": 51,
    "start_time": "2022-10-11T12:08:55.815Z"
   },
   {
    "duration": 44,
    "start_time": "2022-10-11T12:08:55.868Z"
   },
   {
    "duration": 18,
    "start_time": "2022-10-11T12:08:55.914Z"
   },
   {
    "duration": 37,
    "start_time": "2022-10-11T12:08:55.934Z"
   },
   {
    "duration": 29,
    "start_time": "2022-10-11T12:08:55.972Z"
   },
   {
    "duration": 35,
    "start_time": "2022-10-11T12:08:56.003Z"
   },
   {
    "duration": 53,
    "start_time": "2022-10-11T12:08:56.040Z"
   },
   {
    "duration": 38,
    "start_time": "2022-10-11T12:08:56.094Z"
   },
   {
    "duration": 200,
    "start_time": "2022-10-11T12:08:56.133Z"
   },
   {
    "duration": 2146,
    "start_time": "2022-10-11T12:08:56.335Z"
   },
   {
    "duration": 112,
    "start_time": "2022-10-11T12:10:27.666Z"
   },
   {
    "duration": 3,
    "start_time": "2022-10-11T12:10:52.331Z"
   },
   {
    "duration": 1269,
    "start_time": "2022-10-11T12:10:59.952Z"
   },
   {
    "duration": 32,
    "start_time": "2022-10-11T12:11:01.223Z"
   },
   {
    "duration": 11,
    "start_time": "2022-10-11T12:11:01.256Z"
   },
   {
    "duration": 26,
    "start_time": "2022-10-11T12:11:01.269Z"
   },
   {
    "duration": 17,
    "start_time": "2022-10-11T12:11:01.296Z"
   },
   {
    "duration": 3,
    "start_time": "2022-10-11T12:11:01.314Z"
   },
   {
    "duration": 7,
    "start_time": "2022-10-11T12:11:01.319Z"
   },
   {
    "duration": 18,
    "start_time": "2022-10-11T12:11:01.327Z"
   },
   {
    "duration": 17,
    "start_time": "2022-10-11T12:11:01.347Z"
   },
   {
    "duration": 6,
    "start_time": "2022-10-11T12:11:01.366Z"
   },
   {
    "duration": 34,
    "start_time": "2022-10-11T12:11:01.374Z"
   },
   {
    "duration": 36,
    "start_time": "2022-10-11T12:11:01.410Z"
   },
   {
    "duration": 26,
    "start_time": "2022-10-11T12:11:01.447Z"
   },
   {
    "duration": 30,
    "start_time": "2022-10-11T12:11:01.474Z"
   },
   {
    "duration": 14,
    "start_time": "2022-10-11T12:11:01.506Z"
   },
   {
    "duration": 163,
    "start_time": "2022-10-11T12:11:01.521Z"
   },
   {
    "duration": 2063,
    "start_time": "2022-10-11T12:11:01.685Z"
   },
   {
    "duration": 25,
    "start_time": "2022-10-11T12:11:03.749Z"
   },
   {
    "duration": 13,
    "start_time": "2022-10-11T12:13:04.699Z"
   },
   {
    "duration": 94,
    "start_time": "2022-10-11T12:13:49.638Z"
   },
   {
    "duration": 23,
    "start_time": "2022-10-11T12:14:09.287Z"
   },
   {
    "duration": 112,
    "start_time": "2022-10-11T12:23:37.975Z"
   },
   {
    "duration": 1309,
    "start_time": "2022-10-11T12:23:46.577Z"
   },
   {
    "duration": 30,
    "start_time": "2022-10-11T12:23:47.889Z"
   },
   {
    "duration": 11,
    "start_time": "2022-10-11T12:23:47.921Z"
   },
   {
    "duration": 17,
    "start_time": "2022-10-11T12:23:47.934Z"
   },
   {
    "duration": 32,
    "start_time": "2022-10-11T12:23:47.952Z"
   },
   {
    "duration": 3,
    "start_time": "2022-10-11T12:23:47.985Z"
   },
   {
    "duration": 7,
    "start_time": "2022-10-11T12:23:47.990Z"
   },
   {
    "duration": 10,
    "start_time": "2022-10-11T12:23:47.998Z"
   },
   {
    "duration": 13,
    "start_time": "2022-10-11T12:23:48.009Z"
   },
   {
    "duration": 7,
    "start_time": "2022-10-11T12:23:48.024Z"
   },
   {
    "duration": 10,
    "start_time": "2022-10-11T12:23:48.033Z"
   },
   {
    "duration": 24,
    "start_time": "2022-10-11T12:23:48.045Z"
   },
   {
    "duration": 15,
    "start_time": "2022-10-11T12:23:48.071Z"
   },
   {
    "duration": 12,
    "start_time": "2022-10-11T12:23:48.087Z"
   },
   {
    "duration": 55,
    "start_time": "2022-10-11T12:23:48.100Z"
   },
   {
    "duration": 153,
    "start_time": "2022-10-11T12:23:48.157Z"
   },
   {
    "duration": 1994,
    "start_time": "2022-10-11T12:23:48.311Z"
   },
   {
    "duration": 25,
    "start_time": "2022-10-11T12:23:50.306Z"
   },
   {
    "duration": 11,
    "start_time": "2022-10-11T12:23:50.332Z"
   },
   {
    "duration": 34,
    "start_time": "2022-10-11T12:23:50.345Z"
   },
   {
    "duration": 45,
    "start_time": "2022-10-11T12:23:50.380Z"
   },
   {
    "duration": 5,
    "start_time": "2022-10-11T12:23:50.426Z"
   },
   {
    "duration": 10,
    "start_time": "2022-10-11T12:28:49.746Z"
   },
   {
    "duration": 3,
    "start_time": "2022-10-11T12:29:14.852Z"
   },
   {
    "duration": 2181,
    "start_time": "2022-10-11T13:00:01.868Z"
   },
   {
    "duration": 31,
    "start_time": "2022-10-11T13:00:04.051Z"
   },
   {
    "duration": 12,
    "start_time": "2022-10-11T13:00:04.084Z"
   },
   {
    "duration": 15,
    "start_time": "2022-10-11T13:00:04.098Z"
   },
   {
    "duration": 14,
    "start_time": "2022-10-11T13:00:04.115Z"
   },
   {
    "duration": 38,
    "start_time": "2022-10-11T13:00:04.131Z"
   },
   {
    "duration": 14,
    "start_time": "2022-10-11T13:00:04.171Z"
   },
   {
    "duration": 21,
    "start_time": "2022-10-11T13:00:04.187Z"
   },
   {
    "duration": 14,
    "start_time": "2022-10-11T13:00:04.210Z"
   },
   {
    "duration": 32,
    "start_time": "2022-10-11T13:00:04.227Z"
   },
   {
    "duration": 29,
    "start_time": "2022-10-11T13:00:04.262Z"
   },
   {
    "duration": 23,
    "start_time": "2022-10-11T13:00:04.293Z"
   },
   {
    "duration": 15,
    "start_time": "2022-10-11T13:00:04.317Z"
   },
   {
    "duration": 25,
    "start_time": "2022-10-11T13:00:04.333Z"
   },
   {
    "duration": 12,
    "start_time": "2022-10-11T13:00:04.360Z"
   },
   {
    "duration": 189,
    "start_time": "2022-10-11T13:00:04.374Z"
   },
   {
    "duration": 1903,
    "start_time": "2022-10-11T13:00:04.564Z"
   },
   {
    "duration": 37,
    "start_time": "2022-10-11T13:00:06.468Z"
   },
   {
    "duration": 11,
    "start_time": "2022-10-11T13:00:06.506Z"
   },
   {
    "duration": 34,
    "start_time": "2022-10-11T13:00:06.519Z"
   },
   {
    "duration": 50,
    "start_time": "2022-10-11T13:00:06.555Z"
   },
   {
    "duration": 5,
    "start_time": "2022-10-11T13:00:06.607Z"
   },
   {
    "duration": 1126,
    "start_time": "2022-10-11T14:13:26.514Z"
   },
   {
    "duration": 117,
    "start_time": "2022-10-11T14:18:10.505Z"
   },
   {
    "duration": 1046,
    "start_time": "2022-10-11T14:18:21.168Z"
   },
   {
    "duration": 107,
    "start_time": "2022-10-11T14:18:22.216Z"
   },
   {
    "duration": 11,
    "start_time": "2022-10-11T14:18:22.325Z"
   },
   {
    "duration": 14,
    "start_time": "2022-10-11T14:18:22.339Z"
   },
   {
    "duration": 11,
    "start_time": "2022-10-11T14:18:22.355Z"
   },
   {
    "duration": 23,
    "start_time": "2022-10-11T14:18:22.368Z"
   },
   {
    "duration": 6,
    "start_time": "2022-10-11T14:18:22.393Z"
   },
   {
    "duration": 9,
    "start_time": "2022-10-11T14:18:22.401Z"
   },
   {
    "duration": 4,
    "start_time": "2022-10-11T14:18:22.421Z"
   },
   {
    "duration": 4,
    "start_time": "2022-10-11T14:18:22.428Z"
   },
   {
    "duration": 7,
    "start_time": "2022-10-11T14:18:22.434Z"
   },
   {
    "duration": 13,
    "start_time": "2022-10-11T14:18:22.443Z"
   },
   {
    "duration": 7,
    "start_time": "2022-10-11T14:18:22.458Z"
   },
   {
    "duration": 6,
    "start_time": "2022-10-11T14:18:22.467Z"
   },
   {
    "duration": 8,
    "start_time": "2022-10-11T14:18:22.475Z"
   },
   {
    "duration": 182,
    "start_time": "2022-10-11T14:18:22.484Z"
   },
   {
    "duration": 2436,
    "start_time": "2022-10-11T14:18:22.668Z"
   },
   {
    "duration": 38,
    "start_time": "2022-10-11T14:18:25.105Z"
   },
   {
    "duration": 12,
    "start_time": "2022-10-11T14:18:25.145Z"
   },
   {
    "duration": 37,
    "start_time": "2022-10-11T14:18:25.159Z"
   },
   {
    "duration": 50,
    "start_time": "2022-10-11T14:18:25.198Z"
   },
   {
    "duration": 6,
    "start_time": "2022-10-11T14:18:25.250Z"
   },
   {
    "duration": 2818,
    "start_time": "2022-10-11T14:20:38.497Z"
   },
   {
    "duration": 113,
    "start_time": "2022-10-11T14:22:14.480Z"
   },
   {
    "duration": 2614,
    "start_time": "2022-10-11T14:22:18.605Z"
   },
   {
    "duration": 650,
    "start_time": "2022-10-11T14:27:37.726Z"
   },
   {
    "duration": 637,
    "start_time": "2022-10-11T14:28:17.894Z"
   },
   {
    "duration": 149,
    "start_time": "2022-10-11T16:27:32.282Z"
   },
   {
    "duration": 625,
    "start_time": "2022-10-11T16:28:53.785Z"
   },
   {
    "duration": 56,
    "start_time": "2022-10-11T16:30:03.752Z"
   },
   {
    "duration": 30,
    "start_time": "2022-10-11T16:30:16.359Z"
   },
   {
    "duration": 32,
    "start_time": "2022-10-11T16:34:24.794Z"
   },
   {
    "duration": 10,
    "start_time": "2022-10-11T16:39:26.657Z"
   },
   {
    "duration": 1054,
    "start_time": "2022-10-11T16:39:36.267Z"
   },
   {
    "duration": 30,
    "start_time": "2022-10-11T16:39:37.323Z"
   },
   {
    "duration": 12,
    "start_time": "2022-10-11T16:39:37.354Z"
   },
   {
    "duration": 21,
    "start_time": "2022-10-11T16:39:37.368Z"
   },
   {
    "duration": 32,
    "start_time": "2022-10-11T16:39:37.391Z"
   },
   {
    "duration": 29,
    "start_time": "2022-10-11T16:39:37.425Z"
   },
   {
    "duration": 109,
    "start_time": "2022-10-11T16:39:37.455Z"
   },
   {
    "duration": 0,
    "start_time": "2022-10-11T16:39:37.566Z"
   },
   {
    "duration": 0,
    "start_time": "2022-10-11T16:39:37.567Z"
   },
   {
    "duration": 0,
    "start_time": "2022-10-11T16:39:37.568Z"
   },
   {
    "duration": 0,
    "start_time": "2022-10-11T16:39:37.569Z"
   },
   {
    "duration": 0,
    "start_time": "2022-10-11T16:39:37.570Z"
   },
   {
    "duration": 0,
    "start_time": "2022-10-11T16:39:37.571Z"
   },
   {
    "duration": 0,
    "start_time": "2022-10-11T16:39:37.572Z"
   },
   {
    "duration": 0,
    "start_time": "2022-10-11T16:39:37.573Z"
   },
   {
    "duration": 0,
    "start_time": "2022-10-11T16:39:37.574Z"
   },
   {
    "duration": 0,
    "start_time": "2022-10-11T16:39:37.575Z"
   },
   {
    "duration": 0,
    "start_time": "2022-10-11T16:39:37.576Z"
   },
   {
    "duration": 0,
    "start_time": "2022-10-11T16:39:37.578Z"
   },
   {
    "duration": 0,
    "start_time": "2022-10-11T16:39:37.579Z"
   },
   {
    "duration": 0,
    "start_time": "2022-10-11T16:39:37.580Z"
   },
   {
    "duration": 0,
    "start_time": "2022-10-11T16:39:37.581Z"
   },
   {
    "duration": 4,
    "start_time": "2022-10-11T16:40:18.658Z"
   },
   {
    "duration": 1087,
    "start_time": "2022-10-11T16:40:23.053Z"
   },
   {
    "duration": 30,
    "start_time": "2022-10-11T16:40:24.142Z"
   },
   {
    "duration": 12,
    "start_time": "2022-10-11T16:40:24.174Z"
   },
   {
    "duration": 11,
    "start_time": "2022-10-11T16:40:24.187Z"
   },
   {
    "duration": 7,
    "start_time": "2022-10-11T16:40:24.200Z"
   },
   {
    "duration": 16,
    "start_time": "2022-10-11T16:40:24.209Z"
   },
   {
    "duration": 4,
    "start_time": "2022-10-11T16:40:24.226Z"
   },
   {
    "duration": 12,
    "start_time": "2022-10-11T16:40:24.232Z"
   },
   {
    "duration": 103,
    "start_time": "2022-10-11T16:40:24.245Z"
   },
   {
    "duration": 0,
    "start_time": "2022-10-11T16:40:24.351Z"
   },
   {
    "duration": 1,
    "start_time": "2022-10-11T16:40:24.352Z"
   },
   {
    "duration": 0,
    "start_time": "2022-10-11T16:40:24.354Z"
   },
   {
    "duration": 0,
    "start_time": "2022-10-11T16:40:24.354Z"
   },
   {
    "duration": 0,
    "start_time": "2022-10-11T16:40:24.356Z"
   },
   {
    "duration": 0,
    "start_time": "2022-10-11T16:40:24.357Z"
   },
   {
    "duration": 0,
    "start_time": "2022-10-11T16:40:24.358Z"
   },
   {
    "duration": 0,
    "start_time": "2022-10-11T16:40:24.359Z"
   },
   {
    "duration": 0,
    "start_time": "2022-10-11T16:40:24.360Z"
   },
   {
    "duration": 0,
    "start_time": "2022-10-11T16:40:24.361Z"
   },
   {
    "duration": 0,
    "start_time": "2022-10-11T16:40:24.362Z"
   },
   {
    "duration": 0,
    "start_time": "2022-10-11T16:40:24.363Z"
   },
   {
    "duration": 0,
    "start_time": "2022-10-11T16:40:24.365Z"
   },
   {
    "duration": 0,
    "start_time": "2022-10-11T16:40:24.366Z"
   },
   {
    "duration": 5,
    "start_time": "2022-10-11T16:41:59.113Z"
   },
   {
    "duration": 35,
    "start_time": "2022-10-11T16:44:15.251Z"
   },
   {
    "duration": 36,
    "start_time": "2022-10-11T16:44:52.346Z"
   },
   {
    "duration": 38,
    "start_time": "2022-10-11T16:45:15.385Z"
   },
   {
    "duration": 688,
    "start_time": "2022-10-11T16:45:50.933Z"
   },
   {
    "duration": 19,
    "start_time": "2022-10-11T16:47:09.612Z"
   },
   {
    "duration": 4,
    "start_time": "2022-10-11T16:50:57.999Z"
   },
   {
    "duration": 32,
    "start_time": "2022-10-11T16:51:09.781Z"
   },
   {
    "duration": 6,
    "start_time": "2022-10-11T16:52:03.064Z"
   },
   {
    "duration": 4,
    "start_time": "2022-10-11T16:59:51.808Z"
   },
   {
    "duration": 6,
    "start_time": "2022-10-11T17:01:59.577Z"
   }
  ],
  "language_info": {
   "codemirror_mode": {
    "name": "ipython",
    "version": 3
   },
   "file_extension": ".py",
   "mimetype": "text/x-python",
   "name": "python",
   "nbconvert_exporter": "python",
   "pygments_lexer": "ipython3",
   "version": "3.7.7"
  },
  "notebookId": "0a3de7a2-0cea-4554-b5ae-313aa49020e1",
  "notebookPath": "YANDEX/d7bad29d-3969-4634-87a7-289ddb424444.ipynb",
  "toc": {
   "base_numbering": 1,
   "nav_menu": {},
   "number_sections": true,
   "sideBar": true,
   "skip_h1_title": true,
   "title_cell": "Table of Contents",
   "title_sidebar": "Contents",
   "toc_cell": false,
   "toc_position": {},
   "toc_section_display": true,
   "toc_window_display": false
  }
 },
 "nbformat": 4,
 "nbformat_minor": 4
}
