{
 "cells": [
  {
   "cell_type": "markdown",
   "id": "f2a02285",
   "metadata": {
    "cellId": "ikoj3g0zpor76ozo0zmmtr",
    "deletable": false,
    "editable": false,
    "id": "c81daeeb"
   },
   "source": [
    "# Исследование надежности заемщиков\n"
   ]
  },
  {
   "cell_type": "markdown",
   "id": "20c95ad5",
   "metadata": {
    "cellId": "2mzrzg61iibowraxhynpe",
    "deletable": false,
    "editable": false,
    "id": "827c20bf"
   },
   "source": [
    "Во второй части проекта вы выполните шаги 3 и 4. Их вручную проверит ревьюер.\n",
    "Чтобы вам не пришлось писать код заново для шагов 1 и 2, мы добавили авторские решения в ячейки с кодом. \n",
    "\n"
   ]
  },
  {
   "cell_type": "markdown",
   "id": "3053d586",
   "metadata": {
    "cellId": "takc6ektkdd79bvuwlj73v",
    "deletable": false,
    "editable": false,
    "id": "744d7639"
   },
   "source": [
    "## Откройте таблицу и изучите общую информацию о данных"
   ]
  },
  {
   "cell_type": "markdown",
   "id": "03c38fda",
   "metadata": {
    "cellId": "2mxncur6q5btcdb44ihxtg",
    "deletable": false,
    "editable": false,
    "id": "e7a14c31"
   },
   "source": [
    "**Задание 1. Импортируйте библиотеку pandas. Считайте данные из csv-файла в датафрейм и сохраните в переменную `data`. Путь к файлу:**\n",
    "\n",
    "`/datasets/data.csv`"
   ]
  },
  {
   "cell_type": "code",
   "execution_count": null,
   "id": "ef35df62",
   "metadata": {
    "cellId": "6orl4cjknd5tfxdd0q6mhi",
    "deletable": false,
    "id": "7bcf75c9"
   },
   "outputs": [],
   "source": [
    "import pandas as pd\n",
    "\n",
    "try:\n",
    "    data = pd.read_csv('/datasets/data.csv')\n",
    "except:\n",
    "    data = pd.read_csv('https://code.s3.yandex.net/datasets/data.csv')"
   ]
  },
  {
   "cell_type": "markdown",
   "id": "48359d92",
   "metadata": {
    "cellId": "zassrokst7kozbayvfpm9",
    "deletable": false,
    "editable": false,
    "id": "b8038fe3"
   },
   "source": [
    "**Задание 2. Выведите первые 20 строчек датафрейма `data` на экран.**"
   ]
  },
  {
   "cell_type": "code",
   "execution_count": null,
   "id": "f9e648e1",
   "metadata": {
    "cellId": "4mjpi570l7lpzuo64ejij",
    "deletable": false,
    "id": "2a7cab99",
    "outputId": "1a8f3ef2-d323-4ec2-ddf7-89670b5944c4"
   },
   "outputs": [],
   "source": [
    "data.head(20)"
   ]
  },
  {
   "cell_type": "markdown",
   "id": "23b164fb",
   "metadata": {
    "cellId": "nu1mgtqu1mnbesrxdywymo",
    "deletable": false,
    "editable": false,
    "id": "1c12e233"
   },
   "source": [
    "**Задание 3. Выведите основную информацию о датафрейме с помощью метода `info()`.**"
   ]
  },
  {
   "cell_type": "code",
   "execution_count": null,
   "id": "72a49379",
   "metadata": {
    "cellId": "n0lg1xn07trp2t0ia23kne",
    "deletable": false,
    "id": "2b757bca",
    "outputId": "15376089-8dad-46c9-b520-c05248d43158"
   },
   "outputs": [],
   "source": [
    "data.info()"
   ]
  },
  {
   "cell_type": "markdown",
   "id": "9d8f740a",
   "metadata": {
    "cellId": "hkg9yi5m7utrhufw8wv03",
    "deletable": false,
    "editable": false,
    "id": "333ec665"
   },
   "source": [
    "## Предобработка данных"
   ]
  },
  {
   "cell_type": "markdown",
   "id": "25922212",
   "metadata": {
    "cellId": "jhp5xog18mn1mvvvtqghb",
    "deletable": false,
    "editable": false,
    "id": "02d92d53"
   },
   "source": [
    "### Удаление пропусков"
   ]
  },
  {
   "cell_type": "markdown",
   "id": "6f65862c",
   "metadata": {
    "cellId": "7loe2ejln2jzjyouaeutn",
    "deletable": false,
    "editable": false,
    "id": "cd84967c"
   },
   "source": [
    "**Задание 4. Выведите количество пропущенных значений для каждого столбца. Используйте комбинацию двух методов.**"
   ]
  },
  {
   "cell_type": "code",
   "execution_count": null,
   "id": "e9f88e18",
   "metadata": {
    "cellId": "iqz93jmm4gf9wxwln6e5zb",
    "deletable": false,
    "id": "7f9b2309",
    "outputId": "81f4d817-781c-465c-ed15-91ce4446810d"
   },
   "outputs": [],
   "source": [
    "data.isna().sum()"
   ]
  },
  {
   "cell_type": "markdown",
   "id": "d820a652",
   "metadata": {
    "cellId": "82mu0vg6bl9bh6j71872em",
    "deletable": false,
    "editable": false,
    "id": "db86e27b"
   },
   "source": [
    "**Задание 5. В двух столбцах есть пропущенные значения. Один из них — `days_employed`. Пропуски в этом столбце вы обработаете на следующем этапе. Другой столбец с пропущенными значениями — `total_income` — хранит данные о доходах. На сумму дохода сильнее всего влияет тип занятости, поэтому заполнить пропуски в этом столбце нужно медианным значением по каждому типу из столбца `income_type`. Например, у человека с типом занятости `сотрудник` пропуск в столбце `total_income` должен быть заполнен медианным доходом среди всех записей с тем же типом.**"
   ]
  },
  {
   "cell_type": "code",
   "execution_count": null,
   "id": "71aa9b67",
   "metadata": {
    "cellId": "itmwwlxujgqzj076v411kr",
    "deletable": false,
    "id": "42006a93"
   },
   "outputs": [],
   "source": [
    "for t in data['income_type'].unique():\n",
    "    data.loc[(data['income_type'] == t) & (data['total_income'].isna()), 'total_income'] = \\\n",
    "    data.loc[(data['income_type'] == t), 'total_income'].median()"
   ]
  },
  {
   "cell_type": "markdown",
   "id": "31340d44",
   "metadata": {
    "cellId": "eou88eci3ndz7073r5phwm",
    "deletable": false,
    "editable": false,
    "id": "89da5ece"
   },
   "source": [
    "### Обработка аномальных значений"
   ]
  },
  {
   "cell_type": "markdown",
   "id": "5027e9ea",
   "metadata": {
    "cellId": "dorbgwt1nxip93jhikjkz",
    "deletable": false,
    "editable": false,
    "id": "57964554"
   },
   "source": [
    "**Задание 6. В данных могут встречаться артефакты (аномалии) — значения, которые не отражают действительность и появились по какой-то ошибке. таким артефактом будет отрицательное количество дней трудового стажа в столбце `days_employed`. Для реальных данных это нормально. Обработайте значения в этом столбце: замените все отрицательные значения положительными с помощью метода `abs()`.**"
   ]
  },
  {
   "cell_type": "code",
   "execution_count": null,
   "id": "8fb8809b",
   "metadata": {
    "cellId": "wbu0nh1jco7e7b089jk0r8",
    "deletable": false,
    "id": "f6f055bf"
   },
   "outputs": [],
   "source": [
    "data['days_employed'] = data['days_employed'].abs()"
   ]
  },
  {
   "cell_type": "markdown",
   "id": "4c72647d",
   "metadata": {
    "cellId": "c3xekqqacevm07g4liaadb",
    "deletable": false,
    "editable": false,
    "id": "6107dd2f"
   },
   "source": [
    "**Задание 7. Для каждого типа занятости выведите медианное значение трудового стажа `days_employed` в днях.**"
   ]
  },
  {
   "cell_type": "code",
   "execution_count": null,
   "id": "f965d0e8",
   "metadata": {
    "cellId": "g85tmoyavonbiyawb6i3fe",
    "deletable": false,
    "id": "85a5faf6",
    "outputId": "801ef80e-522b-4668-f34e-565af7432bcf"
   },
   "outputs": [],
   "source": [
    "data.groupby('income_type')['days_employed'].agg('median')"
   ]
  },
  {
   "cell_type": "markdown",
   "id": "e7f7a4ab",
   "metadata": {
    "cellId": "660x5ca5l9h33njhpvzpl7",
    "deletable": false,
    "editable": false,
    "id": "38d1a030"
   },
   "source": [
    "У двух типов (безработные и пенсионеры) получатся аномально большие значения. Исправить такие значения сложно, поэтому оставьте их как есть. Тем более этот столбец не понадобится вам для исследования."
   ]
  },
  {
   "cell_type": "markdown",
   "id": "86799917",
   "metadata": {
    "cellId": "s602l59sn97opxo70ecjv",
    "deletable": false,
    "editable": false,
    "id": "d8a9f147"
   },
   "source": [
    "**Задание 8. Выведите перечень уникальных значений столбца `children`.**"
   ]
  },
  {
   "cell_type": "code",
   "execution_count": null,
   "id": "254b41ad",
   "metadata": {
    "cellId": "8l5f1p3v0xsimafozms2wi",
    "deletable": false,
    "id": "ef5056eb",
    "outputId": "6975b15c-7f95-4697-d16d-a0c79b657b03"
   },
   "outputs": [],
   "source": [
    "data['children'].unique()"
   ]
  },
  {
   "cell_type": "markdown",
   "id": "044f3632",
   "metadata": {
    "cellId": "o1h7b47taecusq6dj6vyr",
    "deletable": false,
    "editable": false,
    "id": "40b9ebf2"
   },
   "source": [
    "**Задание 9. В столбце `children` есть два аномальных значения. Удалите строки, в которых встречаются такие аномальные значения из датафрейма `data`.**"
   ]
  },
  {
   "cell_type": "code",
   "execution_count": null,
   "id": "60a17143",
   "metadata": {
    "cellId": "i3wnedomj8tsmmapwbp4",
    "deletable": false,
    "id": "3ff9801d"
   },
   "outputs": [],
   "source": [
    "data = data[(data['children'] != -1) & (data['children'] != 20)]"
   ]
  },
  {
   "cell_type": "markdown",
   "id": "fcd4c78a",
   "metadata": {
    "cellId": "zhspxhkqt708a1jcsku7qj",
    "deletable": false,
    "editable": false,
    "id": "bbc4d0ce"
   },
   "source": [
    "**Задание 10. Ещё раз выведите перечень уникальных значений столбца `children`, чтобы убедиться, что артефакты удалены.**"
   ]
  },
  {
   "cell_type": "code",
   "execution_count": null,
   "id": "1b042c7b",
   "metadata": {
    "cellId": "3veljwlay1uh53a6c5rv7q",
    "deletable": false,
    "id": "ad4fa8b7",
    "outputId": "b2097101-d49d-44d9-901b-32a65c9463d1"
   },
   "outputs": [],
   "source": [
    "data['children'].unique()"
   ]
  },
  {
   "cell_type": "markdown",
   "id": "b81b0142",
   "metadata": {
    "cellId": "g1z1jefz529jjnfdfynn8",
    "deletable": false,
    "editable": false,
    "id": "75440b63"
   },
   "source": [
    "### Удаление пропусков (продолжение)"
   ]
  },
  {
   "cell_type": "markdown",
   "id": "21f58ab7",
   "metadata": {
    "cellId": "tkrad4u4kma9k3ri3velj",
    "deletable": false,
    "editable": false,
    "id": "f4ea573f"
   },
   "source": [
    "**Задание 11. Заполните пропуски в столбце `days_employed` медианными значениями по каждого типа занятости `income_type`.**"
   ]
  },
  {
   "cell_type": "code",
   "execution_count": null,
   "id": "115038b0",
   "metadata": {
    "cellId": "70cglfq6avwt9tsqpmly3c",
    "deletable": false,
    "id": "af6b1a7e"
   },
   "outputs": [],
   "source": [
    "for t in data['income_type'].unique():\n",
    "    data.loc[(data['income_type'] == t) & (data['days_employed'].isna()), 'days_employed'] = \\\n",
    "    data.loc[(data['income_type'] == t), 'days_employed'].median()"
   ]
  },
  {
   "cell_type": "markdown",
   "id": "10c0a333",
   "metadata": {
    "cellId": "ltansa9ip4xs2jwtahvrf",
    "deletable": false,
    "editable": false,
    "id": "2753f40d"
   },
   "source": [
    "**Задание 12. Убедитесь, что все пропуски заполнены. Проверьте себя и ещё раз выведите количество пропущенных значений для каждого столбца с помощью двух методов.**"
   ]
  },
  {
   "cell_type": "code",
   "execution_count": null,
   "id": "0df8c34e",
   "metadata": {
    "cellId": "u4vxk3avogcds6lc6ngmyu",
    "deletable": false,
    "id": "55f78bc2",
    "outputId": "8da1e4e1-358e-4e87-98c9-f261bce0a7b2"
   },
   "outputs": [],
   "source": [
    "data.isna().sum()"
   ]
  },
  {
   "cell_type": "markdown",
   "id": "572d8198",
   "metadata": {
    "cellId": "jzzn2pwhqxaxawdnz7tq2d",
    "deletable": false,
    "editable": false,
    "id": "ddc81e43"
   },
   "source": [
    "### Изменение типов данных"
   ]
  },
  {
   "cell_type": "markdown",
   "id": "c4421052",
   "metadata": {
    "cellId": "cswkrgvfn7hhg3anpdt9kw",
    "deletable": false,
    "editable": false,
    "id": "42d19d24"
   },
   "source": [
    "**Задание 13. Замените вещественный тип данных в столбце `total_income` на целочисленный с помощью метода `astype()`.**"
   ]
  },
  {
   "cell_type": "code",
   "execution_count": null,
   "id": "1ea69eeb",
   "metadata": {
    "cellId": "8sk6qumwsf637h7gohq2xo",
    "deletable": false,
    "id": "920b65ad"
   },
   "outputs": [],
   "source": [
    "data['total_income'] = data['total_income'].astype(int)"
   ]
  },
  {
   "cell_type": "markdown",
   "id": "b39760fa",
   "metadata": {
    "cellId": "l1j51xwdszxl84n8fmx4m",
    "deletable": false,
    "editable": false,
    "id": "80c420ba"
   },
   "source": [
    "### Обработка дубликатов"
   ]
  },
  {
   "cell_type": "markdown",
   "id": "64d1e3da",
   "metadata": {
    "cellId": "ef0vhusl1kjm9tang4hxc",
    "deletable": false,
    "editable": false
   },
   "source": [
    "**Задание 14. Обработайте неявные дубликаты в столбце `education`. В этом столбце есть одни и те же значения, но записанные по-разному: с использованием заглавных и строчных букв. Приведите их к нижнему регистру. Проверьте остальные столбцы.**"
   ]
  },
  {
   "cell_type": "code",
   "execution_count": null,
   "id": "ef782234",
   "metadata": {
    "cellId": "g6rurl3k5imp9a800e22fb",
    "deletable": false
   },
   "outputs": [],
   "source": [
    "data['education'] = data['education'].str.lower()"
   ]
  },
  {
   "cell_type": "markdown",
   "id": "39def16e",
   "metadata": {
    "cellId": "meui9lnbwc495baslj74i",
    "deletable": false,
    "editable": false,
    "id": "dc587695"
   },
   "source": [
    "**Задание 15. Выведите на экран количество строк-дубликатов в данных. Если такие строки присутствуют, удалите их.**"
   ]
  },
  {
   "cell_type": "code",
   "execution_count": null,
   "id": "efbb17ac",
   "metadata": {
    "cellId": "27zyg4ui1ii783v17dytq8",
    "deletable": false,
    "id": "3ee445e4",
    "outputId": "9684deba-1934-42d1-99e1-cda61740f822"
   },
   "outputs": [],
   "source": [
    "data.duplicated().sum()"
   ]
  },
  {
   "cell_type": "code",
   "execution_count": null,
   "id": "b3adabcb",
   "metadata": {
    "cellId": "yb8n5b4nveb6xf307dzru",
    "deletable": false,
    "id": "8575fe05"
   },
   "outputs": [],
   "source": [
    "data = data.drop_duplicates()"
   ]
  },
  {
   "cell_type": "markdown",
   "id": "c8ae5ded",
   "metadata": {
    "cellId": "r3janzffqamlxtdpma117",
    "deletable": false,
    "editable": false,
    "id": "9904cf55"
   },
   "source": [
    "### Категоризация данных"
   ]
  },
  {
   "cell_type": "markdown",
   "id": "d0b1fdd2",
   "metadata": {
    "cellId": "kwh22gz4idogbgjlqfpczp",
    "deletable": false,
    "editable": false,
    "id": "72fcc8a2"
   },
   "source": [
    "**Задание 16. На основании диапазонов, указанных ниже, создайте в датафрейме `data` столбец `total_income_category` с категориями:**\n",
    "\n",
    "- 0–30000 — `'E'`;\n",
    "- 30001–50000 — `'D'`;\n",
    "- 50001–200000 — `'C'`;\n",
    "- 200001–1000000 — `'B'`;\n",
    "- 1000001 и выше — `'A'`.\n",
    "\n",
    "\n",
    "**Например, кредитополучателю с доходом 25000 нужно назначить категорию `'E'`, а клиенту, получающему 235000, — `'B'`. Используйте собственную функцию с именем `categorize_income()` и метод `apply()`.**"
   ]
  },
  {
   "cell_type": "code",
   "execution_count": null,
   "id": "c34a0174",
   "metadata": {
    "cellId": "x1le9sdoquo4f4r3xcvuak",
    "deletable": false,
    "id": "e1771346"
   },
   "outputs": [],
   "source": [
    "def categorize_income(income):\n",
    "    try:\n",
    "        if 0 <= income <= 30000:\n",
    "            return 'E'\n",
    "        elif 30001 <= income <= 50000:\n",
    "            return 'D'\n",
    "        elif 50001 <= income <= 200000:\n",
    "            return 'C'\n",
    "        elif 200001 <= income <= 1000000:\n",
    "            return 'B'\n",
    "        elif income >= 1000001:\n",
    "            return 'A'\n",
    "    except:\n",
    "        pass"
   ]
  },
  {
   "cell_type": "code",
   "execution_count": null,
   "id": "f9c60bc4",
   "metadata": {
    "cellId": "29nlc5a13y9ok4do77wnj",
    "deletable": false,
    "id": "d5f3586d"
   },
   "outputs": [],
   "source": [
    "data['total_income_category'] = data['total_income'].apply(categorize_income)\n",
    "data['total_income_category'].value_counts()"
   ]
  },
  {
   "cell_type": "markdown",
   "id": "e2f2a152",
   "metadata": {
    "cellId": "oxk5efjm6t69jfputpbjb",
    "deletable": false,
    "editable": false,
    "id": "dde49b5c"
   },
   "source": [
    "**Задание 17. Выведите на экран перечень уникальных целей взятия кредита из столбца `purpose`.**"
   ]
  },
  {
   "cell_type": "code",
   "execution_count": null,
   "id": "8305bce3",
   "metadata": {
    "cellId": "8l3scq3put6l5a2ouxxc3",
    "deletable": false,
    "id": "f67ce9b3",
    "outputId": "673c12d9-7d7e-4ae0-9812-c622c89dd244"
   },
   "outputs": [],
   "source": [
    "data['purpose'].unique()"
   ]
  },
  {
   "cell_type": "markdown",
   "id": "c26c9abf",
   "metadata": {
    "cellId": "heix68knydtw31mkigz4qo",
    "deletable": false,
    "editable": false,
    "id": "85d0aef0"
   },
   "source": [
    "**Задание 18. Создайте функцию, которая на основании данных из столбца `purpose` сформирует новый столбец `purpose_category`, в который войдут следующие категории:**\n",
    "\n",
    "- `'операции с автомобилем'`,\n",
    "- `'операции с недвижимостью'`,\n",
    "- `'проведение свадьбы'`,\n",
    "- `'получение образования'`.\n",
    "\n",
    "**Например, если в столбце `purpose` находится подстрока `'на покупку автомобиля'`, то в столбце `purpose_category` должна появиться строка `'операции с автомобилем'`.**\n",
    "\n",
    "**Используйте собственную функцию с именем `categorize_purpose()` и метод `apply()`. Изучите данные в столбце `purpose` и определите, какие подстроки помогут вам правильно определить категорию.**"
   ]
  },
  {
   "cell_type": "code",
   "execution_count": null,
   "id": "193954aa",
   "metadata": {
    "cellId": "151ci5ji4djturauk9eivk",
    "deletable": false,
    "id": "e149fab4"
   },
   "outputs": [],
   "source": [
    "def categorize_purpose(purpose):\n",
    "    try:\n",
    "        if 'автом' in purpose:\n",
    "            return 'операции с автомобилем'\n",
    "        elif 'жил' in purpose or 'недвиж' in purpose:\n",
    "            return 'операции с недвижимостью'\n",
    "        elif 'свад' in purpose:\n",
    "            return 'проведение свадьбы'\n",
    "        elif 'образов' in purpose:\n",
    "            return 'получение образования'\n",
    "    except:\n",
    "        return 'нет категории'"
   ]
  },
  {
   "cell_type": "code",
   "execution_count": null,
   "id": "ba9c83e4",
   "metadata": {
    "cellId": "5sc64iiygz3bzs9omlype6",
    "deletable": false,
    "id": "bf36e69b"
   },
   "outputs": [],
   "source": [
    "data['purpose_category'] = data['purpose'].apply(categorize_purpose)"
   ]
  },
  {
   "cell_type": "markdown",
   "id": "862d2357",
   "metadata": {
    "cellId": "w0v2hwrnm8ormxceg5aqs",
    "deletable": false,
    "editable": false,
    "id": "09b242bf"
   },
   "source": [
    "### Шаг 3. Исследуйте данные и ответьте на вопросы"
   ]
  },
  {
   "cell_type": "markdown",
   "id": "e7140e23",
   "metadata": {
    "cellId": "r0299sxgpv815hidh5xhn",
    "deletable": false,
    "editable": false,
    "id": "c5d66278"
   },
   "source": [
    "#### 3.1 Есть ли зависимость между количеством детей и возвратом кредита в срок?"
   ]
  },
  {
   "cell_type": "code",
   "execution_count": null,
   "id": "198486d4",
   "metadata": {
    "cellId": "vo4a5vf28aftp7p3x3pgkm",
    "deletable": false,
    "id": "2cacfc4a"
   },
   "outputs": [],
   "source": [
    "def children_determine(children):\n",
    "    if children > 0: return 1\n",
    "    else: return 0\n",
    "\n",
    "# добавим новый столбец с двойным признаком в массив\n",
    "data['child_exist'] = data['children'].apply(children_determine)\n",
    "\n",
    "data_pivot = data.pivot_table(index = ['child_exist'], values = 'debt').round(3)\n",
    "#data_pivot['ratio'] = data_pivot[1] / data_pivot[0]\n",
    "data_pivot.head()"
   ]
  },
  {
   "cell_type": "markdown",
   "id": "2dcd7257",
   "metadata": {
    "cellId": "d6gr0ylmmquini2d05wih",
    "deletable": false,
    "id": "3a6b99ec"
   },
   "source": [
    "**Вывод**: Наличие детей увеличивает вероятность задолженности по сравнению с отсутствием детей у заемщика. Семьи с большим количеством детей чаще сталкиваются с финансовыми пробемами и имеют сложности с возвратом кредитов банку."
   ]
  },
  {
   "cell_type": "markdown",
   "id": "de936923",
   "metadata": {
    "cellId": "brstnz0jcijafc1rbvnr7",
    "deletable": false,
    "editable": false,
    "id": "97be82ca"
   },
   "source": [
    "#### 3.2 Есть ли зависимость между семейным положением и возвратом кредита в срок?"
   ]
  },
  {
   "cell_type": "code",
   "execution_count": null,
   "id": "24a599e3",
   "metadata": {
    "cellId": "yg1x22cxubmaiu6svjnl8i",
    "deletable": false,
    "id": "dc3f7ee8"
   },
   "outputs": [],
   "source": [
    "data_pivot = data.pivot_table(index = ['family_status'], columns = 'debt',values ='income_type', aggfunc = 'count')\n",
    "\n",
    "# посчитаем вероятность задолженности для каждого вида семейного положения\n",
    "data_pivot['ratio'] = round(data_pivot[1] / (data_pivot[0] + data_pivot[1]), 3)\n",
    "data_pivot.sort_values('ratio', ascending = False)"
   ]
  },
  {
   "cell_type": "markdown",
   "id": "5365f1bc",
   "metadata": {
    "cellId": "ft820f8o76oy8spviym2i",
    "deletable": false,
    "id": "1cef7837"
   },
   "source": [
    "**Вывод**:  В категории  \"не женат/не замужем\" среди заемщиков увеличена вероятность образования задолженности перед банком. Самая дисциплинированная группа заемщиков -  в статусе \"вдова/вдовец\". Возможно, необходимо сгруппировать данные по двум категориям \"Есть партнерские отношения\" и \"Нет партнерских отношений\"для выявления более точной картины.\n"
   ]
  },
  {
   "cell_type": "markdown",
   "id": "b8efb7ad",
   "metadata": {
    "cellId": "o4miw7nu6di9akb0hdd3",
    "deletable": false,
    "editable": false,
    "id": "1e8b2fca"
   },
   "source": [
    "#### 3.3 Есть ли зависимость между уровнем дохода и возвратом кредита в срок?"
   ]
  },
  {
   "cell_type": "code",
   "execution_count": null,
   "id": "15c5954a",
   "metadata": {
    "cellId": "nnzfvdfz0kz9pvck52g7",
    "deletable": false,
    "id": "cd7e3720"
   },
   "outputs": [],
   "source": [
    "data_pivot = data.pivot_table(index = ['total_income_category'], columns = 'debt', values = 'gender', aggfunc = 'count')\n",
    "\n",
    "# посчитаем вероятность задолженности для каждой группы доходов\n",
    "\n",
    "data_pivot['ratio'] = round(data_pivot[1] / (data_pivot[0] + data_pivot[1]), 3)\n",
    "data_pivot.sort_values('ratio', ascending = False)\n"
   ]
  },
  {
   "cell_type": "markdown",
   "id": "a5f1c4d0",
   "metadata": {
    "cellId": "q8l3pjuwrkpgfprtu3qol",
    "deletable": false,
    "id": "e8593def"
   },
   "source": [
    "**Вывод:** \n",
    "Получившиеся вероятности задолженности, отсортированные по убыванию:\n",
    "доход в диапазоне от 0 до 30 000 рублей в месяц (категрия Е);\n",
    "доход в диапазоне от 50 001 до 200 000 рублей рублей (категория С);\n",
    "доход  от 1 000 001 рублей и выше (категория А);\n",
    "доход больше 195,8 тыс. рублей (категория В);\n",
    "доход от 30 001 до 50 000 рублей( категория D).\n",
    "\n",
    "Самая дисциплинированная группа заемщиков - это клиенты с доходом от  диапазоне от 30 001 до 50 000 рублей ( категория D), затем идут клиенты с доходом от 200 001 до 1 000 000 рублей( категория В), клиенты с доходом  от 1 000 001 рублей и выше (категория А), затем клиенты с доходом от от 50 001 до 200 000 рублей ( категория С) и те, кто зарабатывают от 0 до 30 000 рублей. Самые не дисциплинированные клиенты с доходом до 30 000 рублей. Зависимости между уровнем дохода и возвратом кредита в срок нет."
   ]
  },
  {
   "cell_type": "markdown",
   "id": "72af522c",
   "metadata": {
    "cellId": "shgecjizubmfycharpgcmi",
    "deletable": false,
    "editable": false,
    "id": "99ecbd1f"
   },
   "source": [
    "#### 3.4 Как разные цели кредита влияют на его возврат в срок?"
   ]
  },
  {
   "cell_type": "code",
   "execution_count": null,
   "id": "9bae54b4",
   "metadata": {
    "cellId": "aq1yp7s2w3n7htdvnz8g",
    "deletable": false,
    "id": "2b687290"
   },
   "outputs": [],
   "source": [
    "# Ваш код будет здесь. Вы можете создавать новые ячейки.\n",
    "data_pivot = data.pivot_table(index = ['purpose_category'], columns = 'debt', values = 'gender', aggfunc = 'count')\n",
    "\n",
    "# посчитаем вероятность задолженности для каждой группы доходов\n",
    "data_pivot['ratio'] = round(data_pivot[1] / (data_pivot[0] + data_pivot[1]), 3)\n",
    "data_pivot.sort_values('ratio', ascending = False)"
   ]
  },
  {
   "cell_type": "markdown",
   "id": "a8b7ff44",
   "metadata": {
    "cellId": "767v7rsrnfhtz1sj356avj",
    "deletable": false,
    "id": "b4bb2ce6"
   },
   "source": [
    "**Вывод:** Получившиеся вероятности задолженности для каждой цели получения кредита, отсортированные по убыванию:\n",
    "\n",
    "операции с автомобилем;\n",
    "получение образования;\n",
    "проведение свадьбы;\n",
    "операции с недвижимостью.\n",
    "Самая низкая вероятность задолженности у клиентов, которые берут кредит для операций с недвижимостью. Хуже всех платят по кредитам  на операции с автомобилями и для получения образования."
   ]
  },
  {
   "cell_type": "markdown",
   "id": "0ae70f51",
   "metadata": {
    "cellId": "musb0x8pdlec3zmribeifv",
    "deletable": false,
    "editable": false,
    "id": "09c3ac4c"
   },
   "source": [
    "#### 3.5 Приведите возможные причины появления пропусков в исходных данных."
   ]
  },
  {
   "cell_type": "markdown",
   "id": "52456a7f",
   "metadata": {
    "cellId": "cfoxqndo8o4cxgunkj8lj",
    "deletable": false,
    "id": "9da2ceda"
   },
   "source": [
    "*Ответ:* В данных часто бывают пропуски по причинам влияния человеческого фактора (неправильного ввода данных, сокрытия полной информации), технического сбоя и т.д.Существует три основных типа пропущенных данных:\n",
    "\n",
    "Пропал совершенно случайно (MCAR);\n",
    "Случайно пропал (MAR);\n",
    "Не пропал случайно (NMAR)."
   ]
  },
  {
   "cell_type": "markdown",
   "id": "8580bd28",
   "metadata": {
    "cellId": "17m94d4z0543cghacz39hd",
    "deletable": false,
    "editable": false,
    "id": "7b0487d6"
   },
   "source": [
    "#### 3.6 Объясните, почему заполнить пропуски медианным значением — лучшее решение для количественных переменных."
   ]
  },
  {
   "cell_type": "markdown",
   "id": "2c13f781",
   "metadata": {
    "cellId": "32u00lis4p63yqq2nzg24x",
    "deletable": false,
    "id": "7ecf2b8e"
   },
   "source": [
    "*Ответ:* \n",
    "Среднее значение может быть не совсем объективным отражением данных в данном случае, так как на него могут влиять выбросы (очень большие или очень маленькие значения в наборе данных). Медиана показывает середину наших данных. Медиана считается как значение, расположенное по середине ряда отсортированных значений. Медиана лишена недостатков среднего значения, на нее не влияют выбросы.\n",
    "\n"
   ]
  },
  {
   "cell_type": "markdown",
   "id": "30f47bc8",
   "metadata": {
    "cellId": "o5fmq03omnh77oc4fmxlue",
    "deletable": false,
    "editable": false,
    "id": "6db5255a"
   },
   "source": [
    "### Шаг 4: общий вывод."
   ]
  },
  {
   "cell_type": "markdown",
   "id": "ed6a01bd",
   "metadata": {
    "cellId": "jy9abbmnlmi49xojcrx0lf",
    "deletable": false,
    "id": "bad65432"
   },
   "source": [
    "Напишите ваш общий вывод."
   ]
  },
  {
   "cell_type": "markdown",
   "id": "5635c8d1",
   "metadata": {
    "cellId": "w69wrz2bncg8j7uf9co3o"
   },
   "source": [
    "Цель проекта: \"Исследование надежности заемщиков\".\n",
    "\n",
    "**Этапы проведения исследования**:\n",
    "\n",
    "**1 этап:** Изучение общей информации о данных.\n",
    "Входные данные для исследования — статистика о 21 525 клиентах банка (путь к файлу: /datasets/data.csv). Каждый клиент описывается 12 признаками, 4 из которых относятся к количественным признакам, 8 – к категориальным.При подготовке исследования использовались следующие основные группы показателей: уровень дохода, семейное положение,количество детей, цели кредита и их влияние на факт погашения кредита в срок.\n",
    "\n",
    "**2 этап:** Предобработка данных.\n",
    "2.1.Выявили пропущенные значения по общему трудовому стажу ('days_employed') и ежемесячному доходу ('total_income') у 2174 клиентов, это около 10% от общего числа клиентов. Необходимо выявить причину подобных пропусков. \n",
    "\n",
    "2.2.Обработали аномальные значения:заменили все отрицательные значения положительными в столбце \"days_employed\" и некорректные данные в столбце \"children\". \n",
    "\n",
    "2.3.Удалили пропуски: на сумму дохода сильнее всего влияет тип занятости, поэтому пропуски в этом столбце заполнены  медианным значением по каждому типу из столбца \"income_type\". \n",
    "\n",
    "2.4.Изменили типы данных: заменили  тип данных в столбце \"total_income\" на целочисленный. \n",
    "\n",
    "2.5.Обработали  неявные дубликаты в столбце \"education\". \n",
    "\n",
    "2.6.Провели категоризацию данных для последующей обработки данных.Созданы два вида категорий: один — по доходу('total_income_category'), другой — по целям ('purpose_category').\n",
    "\n",
    "**3 этап:** Ответы на вопросы и выводы.\n",
    "\n",
    "Перед проведением исследования было поставлено четыре вопроса/гипотезы:\n",
    "\n",
    "1.Количество детей влияет на возврат кредита в срок.\n",
    "2.Возврат кредита в срок зависит от семейного положения.\n",
    "3.Уровень дохода влияет на возврат кредита в срок.\n",
    "4.Цели кредита влияют на его возврат в срок.\n",
    "\n",
    "В результате исследования выявлены следующие зависисмости:\n",
    "1. Гипотеза подтверждена.\n",
    "Кредитополучатели без детей являются более дисциплинированными, чем клиенты, у которых есть дети. \n",
    "Наличие ребенка накладывает на клиента дополнительные обязательства и клиенты либо менее ответственно относятся к своим кредитным обязательствам, либо не имеют возможности в срок оплачивать обязательства.Самые надежные заемщики с самой низкой долей просрочек по кредиту -  заемщики без детей.\n",
    "2. Гипотеза  подтверждена.\n",
    "В категории \"не женат/не замужем\" среди заемщиков увеличена вероятность образования задолженности перед банком. Самая дисциплинированная группа заемщиков - в статусе \"вдова/вдовец\". Возможно, необходимо сгруппировать данные по двум категориям \"Есть партнерские отношения\" и \"Нет партнерских отношений\"для выявления более точной картины.\n",
    "Можно расширить вывод о том, что мало не иметь детей, чтобы являться надежным заемщиком для банка, надо еще и не быть одиноким (быть женатым / замужем).\n",
    "3. Гипотеза подтерждена.\n",
    "Самая дисциплинированная группа заемщиков - это клиенты с доходом от диапазоне от 30 001 до 50 000 рублей ( категория D), затем идут клиенты с доходом от 200 001 до 1 000 000 рублей( категория В), клиенты с доходом от 1 000 001 рублей и выше (категория А), затем клиенты с доходом от от 50 001 до 200 000 рублей ( категория С) и те, кто зарабатывают от 0 до 30 000 рублей. Самые не дисциплинированные клиенты с доходом до 30 000 рублей. \n",
    "Самая высокая доля просрочек по кредиту (0.091) у потенциальных заемщиков из категории 'Е' с уровнем дохода 0-30000 руб.\n",
    "4. Гипотеза подтерждена.\n",
    "Получившиеся вероятности задолженности для каждой цели получения кредита, отсортированные по убыванию:\n",
    "операции с автомобилем; получение образования; проведение свадьбы; операции с недвижимостью. Самая низкая вероятность задолженности у клиентов, которые берут кредит для операций с недвижимостью. Хуже всех платят по кредитам на операции с автомобилями и для получения образования.\n",
    "\n",
    "**Портрет условного идеального клиента банка:** \n",
    "\n",
    "Результаты исследования факторов скоринга банков для определения надежности заемщиков показали, что идеальные заемщики для банка при рассмотрении заявки на кредиты - это:\n",
    "\n",
    "желающие взять кредит для покупки недвижимости;\n",
    "семейные люди без детей;\n",
    "с уровнем дохода от 30 001 до 50 000 руб.\n"
   ]
  }
 ],
 "metadata": {
  "ExecuteTimeLog": [
   {
    "duration": 51,
    "start_time": "2022-08-10T13:01:26.251Z"
   },
   {
    "duration": 7,
    "start_time": "2022-08-10T13:04:59.829Z"
   },
   {
    "duration": 494,
    "start_time": "2022-08-10T13:05:05.082Z"
   },
   {
    "duration": 23,
    "start_time": "2022-08-10T13:05:05.578Z"
   },
   {
    "duration": 18,
    "start_time": "2022-08-10T13:05:05.602Z"
   },
   {
    "duration": 9,
    "start_time": "2022-08-10T13:05:05.621Z"
   },
   {
    "duration": 58,
    "start_time": "2022-08-10T13:05:05.632Z"
   },
   {
    "duration": 4,
    "start_time": "2022-08-10T13:05:05.692Z"
   },
   {
    "duration": 14,
    "start_time": "2022-08-10T13:05:05.697Z"
   },
   {
    "duration": 9,
    "start_time": "2022-08-10T13:05:05.713Z"
   },
   {
    "duration": 9,
    "start_time": "2022-08-10T13:05:05.724Z"
   },
   {
    "duration": 8,
    "start_time": "2022-08-10T13:05:05.734Z"
   },
   {
    "duration": 51,
    "start_time": "2022-08-10T13:05:05.744Z"
   },
   {
    "duration": 10,
    "start_time": "2022-08-10T13:05:05.797Z"
   },
   {
    "duration": 7,
    "start_time": "2022-08-10T13:05:05.808Z"
   },
   {
    "duration": 15,
    "start_time": "2022-08-10T13:05:05.818Z"
   },
   {
    "duration": 20,
    "start_time": "2022-08-10T13:05:05.834Z"
   },
   {
    "duration": 18,
    "start_time": "2022-08-10T13:05:05.868Z"
   },
   {
    "duration": 4,
    "start_time": "2022-08-10T13:05:05.888Z"
   },
   {
    "duration": 25,
    "start_time": "2022-08-10T13:05:05.894Z"
   },
   {
    "duration": 16,
    "start_time": "2022-08-10T13:05:05.921Z"
   },
   {
    "duration": 10,
    "start_time": "2022-08-10T13:05:05.939Z"
   },
   {
    "duration": 17,
    "start_time": "2022-08-10T13:05:05.950Z"
   },
   {
    "duration": 32,
    "start_time": "2022-08-10T13:05:05.969Z"
   },
   {
    "duration": 0,
    "start_time": "2022-08-10T13:05:06.003Z"
   },
   {
    "duration": 0,
    "start_time": "2022-08-10T13:05:06.004Z"
   },
   {
    "duration": 0,
    "start_time": "2022-08-10T13:05:06.005Z"
   },
   {
    "duration": 8,
    "start_time": "2022-08-10T13:05:26.238Z"
   },
   {
    "duration": 75,
    "start_time": "2022-08-10T13:05:29.098Z"
   },
   {
    "duration": 15,
    "start_time": "2022-08-10T13:05:29.175Z"
   },
   {
    "duration": 16,
    "start_time": "2022-08-10T13:05:29.192Z"
   },
   {
    "duration": 12,
    "start_time": "2022-08-10T13:05:29.212Z"
   },
   {
    "duration": 59,
    "start_time": "2022-08-10T13:05:29.226Z"
   },
   {
    "duration": 3,
    "start_time": "2022-08-10T13:05:29.286Z"
   },
   {
    "duration": 12,
    "start_time": "2022-08-10T13:05:29.291Z"
   },
   {
    "duration": 4,
    "start_time": "2022-08-10T13:05:29.304Z"
   },
   {
    "duration": 6,
    "start_time": "2022-08-10T13:05:29.309Z"
   },
   {
    "duration": 4,
    "start_time": "2022-08-10T13:05:29.318Z"
   },
   {
    "duration": 63,
    "start_time": "2022-08-10T13:05:29.323Z"
   },
   {
    "duration": 9,
    "start_time": "2022-08-10T13:05:29.388Z"
   },
   {
    "duration": 7,
    "start_time": "2022-08-10T13:05:29.398Z"
   },
   {
    "duration": 11,
    "start_time": "2022-08-10T13:05:29.407Z"
   },
   {
    "duration": 18,
    "start_time": "2022-08-10T13:05:29.420Z"
   },
   {
    "duration": 40,
    "start_time": "2022-08-10T13:05:29.440Z"
   },
   {
    "duration": 4,
    "start_time": "2022-08-10T13:05:29.482Z"
   },
   {
    "duration": 13,
    "start_time": "2022-08-10T13:05:29.488Z"
   },
   {
    "duration": 10,
    "start_time": "2022-08-10T13:05:29.503Z"
   },
   {
    "duration": 4,
    "start_time": "2022-08-10T13:05:29.515Z"
   },
   {
    "duration": 17,
    "start_time": "2022-08-10T13:05:29.521Z"
   },
   {
    "duration": 28,
    "start_time": "2022-08-10T13:05:29.540Z"
   },
   {
    "duration": 0,
    "start_time": "2022-08-10T13:05:29.570Z"
   },
   {
    "duration": 0,
    "start_time": "2022-08-10T13:05:29.571Z"
   },
   {
    "duration": 0,
    "start_time": "2022-08-10T13:05:29.573Z"
   },
   {
    "duration": 71,
    "start_time": "2022-08-10T13:06:21.712Z"
   },
   {
    "duration": 16,
    "start_time": "2022-08-10T13:06:21.785Z"
   },
   {
    "duration": 20,
    "start_time": "2022-08-10T13:06:21.802Z"
   },
   {
    "duration": 10,
    "start_time": "2022-08-10T13:06:21.825Z"
   },
   {
    "duration": 55,
    "start_time": "2022-08-10T13:06:21.837Z"
   },
   {
    "duration": 3,
    "start_time": "2022-08-10T13:06:21.894Z"
   },
   {
    "duration": 12,
    "start_time": "2022-08-10T13:06:21.898Z"
   },
   {
    "duration": 4,
    "start_time": "2022-08-10T13:06:21.912Z"
   },
   {
    "duration": 11,
    "start_time": "2022-08-10T13:06:21.917Z"
   },
   {
    "duration": 5,
    "start_time": "2022-08-10T13:06:21.932Z"
   },
   {
    "duration": 63,
    "start_time": "2022-08-10T13:06:21.939Z"
   },
   {
    "duration": 11,
    "start_time": "2022-08-10T13:06:22.004Z"
   },
   {
    "duration": 5,
    "start_time": "2022-08-10T13:06:22.017Z"
   },
   {
    "duration": 13,
    "start_time": "2022-08-10T13:06:22.023Z"
   },
   {
    "duration": 51,
    "start_time": "2022-08-10T13:06:22.038Z"
   },
   {
    "duration": 18,
    "start_time": "2022-08-10T13:06:22.091Z"
   },
   {
    "duration": 4,
    "start_time": "2022-08-10T13:06:22.110Z"
   },
   {
    "duration": 13,
    "start_time": "2022-08-10T13:06:22.115Z"
   },
   {
    "duration": 5,
    "start_time": "2022-08-10T13:06:22.130Z"
   },
   {
    "duration": 3,
    "start_time": "2022-08-10T13:06:22.137Z"
   },
   {
    "duration": 30,
    "start_time": "2022-08-10T13:06:22.142Z"
   },
   {
    "duration": 10,
    "start_time": "2022-08-10T13:06:22.173Z"
   },
   {
    "duration": 0,
    "start_time": "2022-08-10T13:06:22.185Z"
   },
   {
    "duration": 0,
    "start_time": "2022-08-10T13:06:22.186Z"
   },
   {
    "duration": 0,
    "start_time": "2022-08-10T13:06:22.187Z"
   },
   {
    "duration": 74,
    "start_time": "2022-08-10T13:06:50.910Z"
   },
   {
    "duration": 16,
    "start_time": "2022-08-10T13:06:50.985Z"
   },
   {
    "duration": 16,
    "start_time": "2022-08-10T13:06:51.002Z"
   },
   {
    "duration": 10,
    "start_time": "2022-08-10T13:06:51.020Z"
   },
   {
    "duration": 57,
    "start_time": "2022-08-10T13:06:51.031Z"
   },
   {
    "duration": 3,
    "start_time": "2022-08-10T13:06:51.090Z"
   },
   {
    "duration": 12,
    "start_time": "2022-08-10T13:06:51.094Z"
   },
   {
    "duration": 4,
    "start_time": "2022-08-10T13:06:51.108Z"
   },
   {
    "duration": 6,
    "start_time": "2022-08-10T13:06:51.114Z"
   },
   {
    "duration": 5,
    "start_time": "2022-08-10T13:06:51.123Z"
   },
   {
    "duration": 56,
    "start_time": "2022-08-10T13:06:51.130Z"
   },
   {
    "duration": 9,
    "start_time": "2022-08-10T13:06:51.188Z"
   },
   {
    "duration": 6,
    "start_time": "2022-08-10T13:06:51.199Z"
   },
   {
    "duration": 13,
    "start_time": "2022-08-10T13:06:51.206Z"
   },
   {
    "duration": 20,
    "start_time": "2022-08-10T13:06:51.221Z"
   },
   {
    "duration": 44,
    "start_time": "2022-08-10T13:06:51.243Z"
   },
   {
    "duration": 4,
    "start_time": "2022-08-10T13:06:51.289Z"
   },
   {
    "duration": 14,
    "start_time": "2022-08-10T13:06:51.294Z"
   },
   {
    "duration": 12,
    "start_time": "2022-08-10T13:06:51.310Z"
   },
   {
    "duration": 10,
    "start_time": "2022-08-10T13:06:51.324Z"
   },
   {
    "duration": 13,
    "start_time": "2022-08-10T13:06:51.336Z"
   },
   {
    "duration": 23,
    "start_time": "2022-08-10T13:06:51.351Z"
   },
   {
    "duration": 0,
    "start_time": "2022-08-10T13:06:51.375Z"
   },
   {
    "duration": 0,
    "start_time": "2022-08-10T13:06:51.377Z"
   },
   {
    "duration": 0,
    "start_time": "2022-08-10T13:06:51.378Z"
   },
   {
    "duration": 74,
    "start_time": "2022-08-10T13:07:09.469Z"
   },
   {
    "duration": 15,
    "start_time": "2022-08-10T13:07:09.545Z"
   },
   {
    "duration": 19,
    "start_time": "2022-08-10T13:07:09.562Z"
   },
   {
    "duration": 12,
    "start_time": "2022-08-10T13:07:09.583Z"
   },
   {
    "duration": 36,
    "start_time": "2022-08-10T13:07:09.597Z"
   },
   {
    "duration": 3,
    "start_time": "2022-08-10T13:07:09.635Z"
   },
   {
    "duration": 29,
    "start_time": "2022-08-10T13:07:09.639Z"
   },
   {
    "duration": 4,
    "start_time": "2022-08-10T13:07:09.670Z"
   },
   {
    "duration": 10,
    "start_time": "2022-08-10T13:07:09.676Z"
   },
   {
    "duration": 6,
    "start_time": "2022-08-10T13:07:09.688Z"
   },
   {
    "duration": 42,
    "start_time": "2022-08-10T13:07:09.695Z"
   },
   {
    "duration": 9,
    "start_time": "2022-08-10T13:07:09.738Z"
   },
   {
    "duration": 20,
    "start_time": "2022-08-10T13:07:09.749Z"
   },
   {
    "duration": 17,
    "start_time": "2022-08-10T13:07:09.772Z"
   },
   {
    "duration": 20,
    "start_time": "2022-08-10T13:07:09.791Z"
   },
   {
    "duration": 19,
    "start_time": "2022-08-10T13:07:09.812Z"
   },
   {
    "duration": 4,
    "start_time": "2022-08-10T13:07:09.832Z"
   },
   {
    "duration": 34,
    "start_time": "2022-08-10T13:07:09.837Z"
   },
   {
    "duration": 6,
    "start_time": "2022-08-10T13:07:09.872Z"
   },
   {
    "duration": 3,
    "start_time": "2022-08-10T13:07:09.880Z"
   },
   {
    "duration": 12,
    "start_time": "2022-08-10T13:07:09.885Z"
   },
   {
    "duration": 8,
    "start_time": "2022-08-10T13:07:09.899Z"
   },
   {
    "duration": 0,
    "start_time": "2022-08-10T13:07:09.909Z"
   },
   {
    "duration": 0,
    "start_time": "2022-08-10T13:07:09.910Z"
   },
   {
    "duration": 0,
    "start_time": "2022-08-10T13:07:09.911Z"
   },
   {
    "duration": 498,
    "start_time": "2022-08-10T13:09:41.448Z"
   },
   {
    "duration": 25,
    "start_time": "2022-08-10T13:09:41.948Z"
   },
   {
    "duration": 29,
    "start_time": "2022-08-10T13:09:41.974Z"
   },
   {
    "duration": 18,
    "start_time": "2022-08-10T13:09:42.005Z"
   },
   {
    "duration": 51,
    "start_time": "2022-08-10T13:09:42.025Z"
   },
   {
    "duration": 5,
    "start_time": "2022-08-10T13:09:42.078Z"
   },
   {
    "duration": 14,
    "start_time": "2022-08-10T13:09:42.085Z"
   },
   {
    "duration": 9,
    "start_time": "2022-08-10T13:09:42.100Z"
   },
   {
    "duration": 18,
    "start_time": "2022-08-10T13:09:42.110Z"
   },
   {
    "duration": 7,
    "start_time": "2022-08-10T13:09:42.131Z"
   },
   {
    "duration": 53,
    "start_time": "2022-08-10T13:09:42.140Z"
   },
   {
    "duration": 9,
    "start_time": "2022-08-10T13:09:42.195Z"
   },
   {
    "duration": 17,
    "start_time": "2022-08-10T13:09:42.205Z"
   },
   {
    "duration": 12,
    "start_time": "2022-08-10T13:09:42.224Z"
   },
   {
    "duration": 29,
    "start_time": "2022-08-10T13:09:42.238Z"
   },
   {
    "duration": 20,
    "start_time": "2022-08-10T13:09:42.269Z"
   },
   {
    "duration": 4,
    "start_time": "2022-08-10T13:09:42.291Z"
   },
   {
    "duration": 14,
    "start_time": "2022-08-10T13:09:42.297Z"
   },
   {
    "duration": 6,
    "start_time": "2022-08-10T13:09:42.313Z"
   },
   {
    "duration": 5,
    "start_time": "2022-08-10T13:09:42.320Z"
   },
   {
    "duration": 12,
    "start_time": "2022-08-10T13:09:42.327Z"
   },
   {
    "duration": 81,
    "start_time": "2022-08-10T13:09:42.341Z"
   },
   {
    "duration": 0,
    "start_time": "2022-08-10T13:09:42.424Z"
   },
   {
    "duration": 0,
    "start_time": "2022-08-10T13:09:42.425Z"
   },
   {
    "duration": 0,
    "start_time": "2022-08-10T13:09:42.426Z"
   },
   {
    "duration": 512,
    "start_time": "2022-08-10T13:11:38.438Z"
   },
   {
    "duration": 23,
    "start_time": "2022-08-10T13:11:38.952Z"
   },
   {
    "duration": 15,
    "start_time": "2022-08-10T13:11:38.976Z"
   },
   {
    "duration": 10,
    "start_time": "2022-08-10T13:11:38.993Z"
   },
   {
    "duration": 34,
    "start_time": "2022-08-10T13:11:39.004Z"
   },
   {
    "duration": 29,
    "start_time": "2022-08-10T13:11:39.040Z"
   },
   {
    "duration": 11,
    "start_time": "2022-08-10T13:11:39.071Z"
   },
   {
    "duration": 5,
    "start_time": "2022-08-10T13:11:39.084Z"
   },
   {
    "duration": 10,
    "start_time": "2022-08-10T13:11:39.091Z"
   },
   {
    "duration": 5,
    "start_time": "2022-08-10T13:11:39.105Z"
   },
   {
    "duration": 64,
    "start_time": "2022-08-10T13:11:39.112Z"
   },
   {
    "duration": 10,
    "start_time": "2022-08-10T13:11:39.178Z"
   },
   {
    "duration": 58,
    "start_time": "2022-08-10T13:11:39.189Z"
   },
   {
    "duration": 44,
    "start_time": "2022-08-10T13:11:39.249Z"
   },
   {
    "duration": 47,
    "start_time": "2022-08-10T13:11:39.295Z"
   },
   {
    "duration": 68,
    "start_time": "2022-08-10T13:11:39.344Z"
   },
   {
    "duration": 16,
    "start_time": "2022-08-10T13:11:39.415Z"
   },
   {
    "duration": 36,
    "start_time": "2022-08-10T13:11:39.432Z"
   },
   {
    "duration": 34,
    "start_time": "2022-08-10T13:11:39.470Z"
   },
   {
    "duration": 12,
    "start_time": "2022-08-10T13:11:39.506Z"
   },
   {
    "duration": 29,
    "start_time": "2022-08-10T13:11:39.519Z"
   },
   {
    "duration": 109,
    "start_time": "2022-08-10T13:11:39.550Z"
   },
   {
    "duration": 0,
    "start_time": "2022-08-10T13:11:39.661Z"
   },
   {
    "duration": 0,
    "start_time": "2022-08-10T13:11:39.662Z"
   },
   {
    "duration": 0,
    "start_time": "2022-08-10T13:11:39.663Z"
   },
   {
    "duration": 469,
    "start_time": "2022-08-10T13:13:35.900Z"
   },
   {
    "duration": 24,
    "start_time": "2022-08-10T13:13:36.372Z"
   },
   {
    "duration": 17,
    "start_time": "2022-08-10T13:13:36.398Z"
   },
   {
    "duration": 10,
    "start_time": "2022-08-10T13:13:36.418Z"
   },
   {
    "duration": 78,
    "start_time": "2022-08-10T13:13:36.430Z"
   },
   {
    "duration": 4,
    "start_time": "2022-08-10T13:13:36.512Z"
   },
   {
    "duration": 20,
    "start_time": "2022-08-10T13:13:36.519Z"
   },
   {
    "duration": 5,
    "start_time": "2022-08-10T13:13:36.543Z"
   },
   {
    "duration": 29,
    "start_time": "2022-08-10T13:13:36.550Z"
   },
   {
    "duration": 7,
    "start_time": "2022-08-10T13:13:36.582Z"
   },
   {
    "duration": 52,
    "start_time": "2022-08-10T13:13:36.591Z"
   },
   {
    "duration": 25,
    "start_time": "2022-08-10T13:13:36.645Z"
   },
   {
    "duration": 5,
    "start_time": "2022-08-10T13:13:36.673Z"
   },
   {
    "duration": 20,
    "start_time": "2022-08-10T13:13:36.680Z"
   },
   {
    "duration": 29,
    "start_time": "2022-08-10T13:13:36.703Z"
   },
   {
    "duration": 46,
    "start_time": "2022-08-10T13:13:36.734Z"
   },
   {
    "duration": 5,
    "start_time": "2022-08-10T13:13:36.783Z"
   },
   {
    "duration": 27,
    "start_time": "2022-08-10T13:13:36.790Z"
   },
   {
    "duration": 10,
    "start_time": "2022-08-10T13:13:36.818Z"
   },
   {
    "duration": 6,
    "start_time": "2022-08-10T13:13:36.829Z"
   },
   {
    "duration": 18,
    "start_time": "2022-08-10T13:13:36.837Z"
   },
   {
    "duration": 72,
    "start_time": "2022-08-10T13:13:36.857Z"
   },
   {
    "duration": 0,
    "start_time": "2022-08-10T13:13:36.931Z"
   },
   {
    "duration": 0,
    "start_time": "2022-08-10T13:13:36.932Z"
   },
   {
    "duration": 0,
    "start_time": "2022-08-10T13:13:36.933Z"
   },
   {
    "duration": 488,
    "start_time": "2022-08-10T13:13:49.882Z"
   },
   {
    "duration": 25,
    "start_time": "2022-08-10T13:13:50.373Z"
   },
   {
    "duration": 24,
    "start_time": "2022-08-10T13:13:50.400Z"
   },
   {
    "duration": 10,
    "start_time": "2022-08-10T13:13:50.426Z"
   },
   {
    "duration": 56,
    "start_time": "2022-08-10T13:13:50.438Z"
   },
   {
    "duration": 4,
    "start_time": "2022-08-10T13:13:50.496Z"
   },
   {
    "duration": 15,
    "start_time": "2022-08-10T13:13:50.502Z"
   },
   {
    "duration": 12,
    "start_time": "2022-08-10T13:13:50.518Z"
   },
   {
    "duration": 15,
    "start_time": "2022-08-10T13:13:50.531Z"
   },
   {
    "duration": 5,
    "start_time": "2022-08-10T13:13:50.548Z"
   },
   {
    "duration": 37,
    "start_time": "2022-08-10T13:13:50.568Z"
   },
   {
    "duration": 11,
    "start_time": "2022-08-10T13:13:50.607Z"
   },
   {
    "duration": 5,
    "start_time": "2022-08-10T13:13:50.620Z"
   },
   {
    "duration": 22,
    "start_time": "2022-08-10T13:13:50.626Z"
   },
   {
    "duration": 39,
    "start_time": "2022-08-10T13:13:50.650Z"
   },
   {
    "duration": 30,
    "start_time": "2022-08-10T13:13:50.690Z"
   },
   {
    "duration": 4,
    "start_time": "2022-08-10T13:13:50.723Z"
   },
   {
    "duration": 17,
    "start_time": "2022-08-10T13:13:50.730Z"
   },
   {
    "duration": 20,
    "start_time": "2022-08-10T13:13:50.749Z"
   },
   {
    "duration": 4,
    "start_time": "2022-08-10T13:13:50.771Z"
   },
   {
    "duration": 11,
    "start_time": "2022-08-10T13:13:50.777Z"
   },
   {
    "duration": 5,
    "start_time": "2022-08-10T13:13:50.790Z"
   },
   {
    "duration": 7,
    "start_time": "2022-08-10T13:13:50.796Z"
   },
   {
    "duration": 4,
    "start_time": "2022-08-10T13:13:50.805Z"
   },
   {
    "duration": 7,
    "start_time": "2022-08-10T13:13:50.811Z"
   },
   {
    "duration": 482,
    "start_time": "2022-08-10T13:19:06.015Z"
   },
   {
    "duration": 31,
    "start_time": "2022-08-10T13:19:06.503Z"
   },
   {
    "duration": 34,
    "start_time": "2022-08-10T13:19:06.537Z"
   },
   {
    "duration": 14,
    "start_time": "2022-08-10T13:19:06.574Z"
   },
   {
    "duration": 53,
    "start_time": "2022-08-10T13:19:06.590Z"
   },
   {
    "duration": 5,
    "start_time": "2022-08-10T13:19:06.645Z"
   },
   {
    "duration": 12,
    "start_time": "2022-08-10T13:19:06.668Z"
   },
   {
    "duration": 41,
    "start_time": "2022-08-10T13:19:06.682Z"
   },
   {
    "duration": 13,
    "start_time": "2022-08-10T13:19:06.726Z"
   },
   {
    "duration": 5,
    "start_time": "2022-08-10T13:19:06.741Z"
   },
   {
    "duration": 69,
    "start_time": "2022-08-10T13:19:06.748Z"
   },
   {
    "duration": 14,
    "start_time": "2022-08-10T13:19:06.820Z"
   },
   {
    "duration": 4,
    "start_time": "2022-08-10T13:19:06.836Z"
   },
   {
    "duration": 15,
    "start_time": "2022-08-10T13:19:06.842Z"
   },
   {
    "duration": 22,
    "start_time": "2022-08-10T13:19:06.867Z"
   },
   {
    "duration": 19,
    "start_time": "2022-08-10T13:19:06.891Z"
   },
   {
    "duration": 3,
    "start_time": "2022-08-10T13:19:06.912Z"
   },
   {
    "duration": 21,
    "start_time": "2022-08-10T13:19:06.917Z"
   },
   {
    "duration": 28,
    "start_time": "2022-08-10T13:19:06.940Z"
   },
   {
    "duration": 5,
    "start_time": "2022-08-10T13:19:06.969Z"
   },
   {
    "duration": 11,
    "start_time": "2022-08-10T13:19:06.976Z"
   },
   {
    "duration": 102,
    "start_time": "2022-08-10T13:19:06.989Z"
   },
   {
    "duration": 0,
    "start_time": "2022-08-10T13:19:07.093Z"
   },
   {
    "duration": 0,
    "start_time": "2022-08-10T13:19:07.095Z"
   },
   {
    "duration": 0,
    "start_time": "2022-08-10T13:19:07.096Z"
   },
   {
    "duration": 525,
    "start_time": "2022-08-10T13:19:22.055Z"
   },
   {
    "duration": 24,
    "start_time": "2022-08-10T13:19:22.582Z"
   },
   {
    "duration": 16,
    "start_time": "2022-08-10T13:19:22.608Z"
   },
   {
    "duration": 11,
    "start_time": "2022-08-10T13:19:22.626Z"
   },
   {
    "duration": 59,
    "start_time": "2022-08-10T13:19:22.639Z"
   },
   {
    "duration": 4,
    "start_time": "2022-08-10T13:19:22.699Z"
   },
   {
    "duration": 13,
    "start_time": "2022-08-10T13:19:22.705Z"
   },
   {
    "duration": 5,
    "start_time": "2022-08-10T13:19:22.720Z"
   },
   {
    "duration": 12,
    "start_time": "2022-08-10T13:19:22.727Z"
   },
   {
    "duration": 27,
    "start_time": "2022-08-10T13:19:22.742Z"
   },
   {
    "duration": 39,
    "start_time": "2022-08-10T13:19:22.771Z"
   },
   {
    "duration": 10,
    "start_time": "2022-08-10T13:19:22.812Z"
   },
   {
    "duration": 4,
    "start_time": "2022-08-10T13:19:22.823Z"
   },
   {
    "duration": 39,
    "start_time": "2022-08-10T13:19:22.829Z"
   },
   {
    "duration": 21,
    "start_time": "2022-08-10T13:19:22.870Z"
   },
   {
    "duration": 18,
    "start_time": "2022-08-10T13:19:22.893Z"
   },
   {
    "duration": 4,
    "start_time": "2022-08-10T13:19:22.913Z"
   },
   {
    "duration": 21,
    "start_time": "2022-08-10T13:19:22.919Z"
   },
   {
    "duration": 27,
    "start_time": "2022-08-10T13:19:22.942Z"
   },
   {
    "duration": 7,
    "start_time": "2022-08-10T13:19:22.971Z"
   },
   {
    "duration": 15,
    "start_time": "2022-08-10T13:19:22.980Z"
   },
   {
    "duration": 82,
    "start_time": "2022-08-10T13:19:22.997Z"
   },
   {
    "duration": 0,
    "start_time": "2022-08-10T13:19:23.081Z"
   },
   {
    "duration": 0,
    "start_time": "2022-08-10T13:19:23.082Z"
   },
   {
    "duration": 0,
    "start_time": "2022-08-10T13:19:23.083Z"
   },
   {
    "duration": 492,
    "start_time": "2022-08-10T13:20:10.686Z"
   },
   {
    "duration": 25,
    "start_time": "2022-08-10T13:20:11.180Z"
   },
   {
    "duration": 17,
    "start_time": "2022-08-10T13:20:11.207Z"
   },
   {
    "duration": 9,
    "start_time": "2022-08-10T13:20:11.226Z"
   },
   {
    "duration": 65,
    "start_time": "2022-08-10T13:20:11.237Z"
   },
   {
    "duration": 3,
    "start_time": "2022-08-10T13:20:11.304Z"
   },
   {
    "duration": 14,
    "start_time": "2022-08-10T13:20:11.309Z"
   },
   {
    "duration": 5,
    "start_time": "2022-08-10T13:20:11.324Z"
   },
   {
    "duration": 10,
    "start_time": "2022-08-10T13:20:11.330Z"
   },
   {
    "duration": 4,
    "start_time": "2022-08-10T13:20:11.342Z"
   },
   {
    "duration": 36,
    "start_time": "2022-08-10T13:20:11.368Z"
   },
   {
    "duration": 10,
    "start_time": "2022-08-10T13:20:11.406Z"
   },
   {
    "duration": 5,
    "start_time": "2022-08-10T13:20:11.417Z"
   },
   {
    "duration": 13,
    "start_time": "2022-08-10T13:20:11.425Z"
   },
   {
    "duration": 30,
    "start_time": "2022-08-10T13:20:11.468Z"
   },
   {
    "duration": 20,
    "start_time": "2022-08-10T13:20:11.500Z"
   },
   {
    "duration": 5,
    "start_time": "2022-08-10T13:20:11.522Z"
   },
   {
    "duration": 20,
    "start_time": "2022-08-10T13:20:11.529Z"
   },
   {
    "duration": 7,
    "start_time": "2022-08-10T13:20:11.567Z"
   },
   {
    "duration": 6,
    "start_time": "2022-08-10T13:20:11.576Z"
   },
   {
    "duration": 15,
    "start_time": "2022-08-10T13:20:11.584Z"
   },
   {
    "duration": 84,
    "start_time": "2022-08-10T13:20:11.601Z"
   },
   {
    "duration": 0,
    "start_time": "2022-08-10T13:20:11.687Z"
   },
   {
    "duration": 0,
    "start_time": "2022-08-10T13:20:11.689Z"
   },
   {
    "duration": 0,
    "start_time": "2022-08-10T13:20:11.691Z"
   },
   {
    "duration": 497,
    "start_time": "2022-08-10T13:20:52.873Z"
   },
   {
    "duration": 26,
    "start_time": "2022-08-10T13:20:53.372Z"
   },
   {
    "duration": 17,
    "start_time": "2022-08-10T13:20:53.400Z"
   },
   {
    "duration": 13,
    "start_time": "2022-08-10T13:20:53.418Z"
   },
   {
    "duration": 67,
    "start_time": "2022-08-10T13:20:53.433Z"
   },
   {
    "duration": 4,
    "start_time": "2022-08-10T13:20:53.502Z"
   },
   {
    "duration": 16,
    "start_time": "2022-08-10T13:20:53.507Z"
   },
   {
    "duration": 4,
    "start_time": "2022-08-10T13:20:53.525Z"
   },
   {
    "duration": 12,
    "start_time": "2022-08-10T13:20:53.531Z"
   },
   {
    "duration": 27,
    "start_time": "2022-08-10T13:20:53.545Z"
   },
   {
    "duration": 36,
    "start_time": "2022-08-10T13:20:53.574Z"
   },
   {
    "duration": 11,
    "start_time": "2022-08-10T13:20:53.612Z"
   },
   {
    "duration": 4,
    "start_time": "2022-08-10T13:20:53.625Z"
   },
   {
    "duration": 44,
    "start_time": "2022-08-10T13:20:53.631Z"
   },
   {
    "duration": 20,
    "start_time": "2022-08-10T13:20:53.677Z"
   },
   {
    "duration": 18,
    "start_time": "2022-08-10T13:20:53.699Z"
   },
   {
    "duration": 3,
    "start_time": "2022-08-10T13:20:53.719Z"
   },
   {
    "duration": 16,
    "start_time": "2022-08-10T13:20:53.724Z"
   },
   {
    "duration": 29,
    "start_time": "2022-08-10T13:20:53.742Z"
   },
   {
    "duration": 4,
    "start_time": "2022-08-10T13:20:53.773Z"
   },
   {
    "duration": 11,
    "start_time": "2022-08-10T13:20:53.779Z"
   },
   {
    "duration": 86,
    "start_time": "2022-08-10T13:20:53.792Z"
   },
   {
    "duration": 0,
    "start_time": "2022-08-10T13:20:53.880Z"
   },
   {
    "duration": 0,
    "start_time": "2022-08-10T13:20:53.881Z"
   },
   {
    "duration": 0,
    "start_time": "2022-08-10T13:20:53.882Z"
   },
   {
    "duration": 467,
    "start_time": "2022-08-10T13:21:12.108Z"
   },
   {
    "duration": 24,
    "start_time": "2022-08-10T13:21:12.577Z"
   },
   {
    "duration": 30,
    "start_time": "2022-08-10T13:21:12.602Z"
   },
   {
    "duration": 48,
    "start_time": "2022-08-10T13:21:12.634Z"
   },
   {
    "duration": 44,
    "start_time": "2022-08-10T13:21:12.684Z"
   },
   {
    "duration": 4,
    "start_time": "2022-08-10T13:21:12.730Z"
   },
   {
    "duration": 49,
    "start_time": "2022-08-10T13:21:12.736Z"
   },
   {
    "duration": 6,
    "start_time": "2022-08-10T13:21:12.787Z"
   },
   {
    "duration": 11,
    "start_time": "2022-08-10T13:21:12.795Z"
   },
   {
    "duration": 5,
    "start_time": "2022-08-10T13:21:12.810Z"
   },
   {
    "duration": 37,
    "start_time": "2022-08-10T13:21:12.817Z"
   },
   {
    "duration": 10,
    "start_time": "2022-08-10T13:21:12.869Z"
   },
   {
    "duration": 4,
    "start_time": "2022-08-10T13:21:12.881Z"
   },
   {
    "duration": 13,
    "start_time": "2022-08-10T13:21:12.886Z"
   },
   {
    "duration": 27,
    "start_time": "2022-08-10T13:21:12.901Z"
   },
   {
    "duration": 39,
    "start_time": "2022-08-10T13:21:12.929Z"
   },
   {
    "duration": 4,
    "start_time": "2022-08-10T13:21:12.970Z"
   },
   {
    "duration": 18,
    "start_time": "2022-08-10T13:21:12.976Z"
   },
   {
    "duration": 11,
    "start_time": "2022-08-10T13:21:12.996Z"
   },
   {
    "duration": 4,
    "start_time": "2022-08-10T13:21:13.009Z"
   },
   {
    "duration": 16,
    "start_time": "2022-08-10T13:21:13.014Z"
   },
   {
    "duration": 88,
    "start_time": "2022-08-10T13:21:13.032Z"
   },
   {
    "duration": 0,
    "start_time": "2022-08-10T13:21:13.122Z"
   },
   {
    "duration": 0,
    "start_time": "2022-08-10T13:21:13.123Z"
   },
   {
    "duration": 0,
    "start_time": "2022-08-10T13:21:13.125Z"
   },
   {
    "duration": 523,
    "start_time": "2022-08-10T13:21:57.334Z"
   },
   {
    "duration": 26,
    "start_time": "2022-08-10T13:21:57.859Z"
   },
   {
    "duration": 17,
    "start_time": "2022-08-10T13:21:57.887Z"
   },
   {
    "duration": 10,
    "start_time": "2022-08-10T13:21:57.906Z"
   },
   {
    "duration": 68,
    "start_time": "2022-08-10T13:21:57.918Z"
   },
   {
    "duration": 4,
    "start_time": "2022-08-10T13:21:57.988Z"
   },
   {
    "duration": 14,
    "start_time": "2022-08-10T13:21:57.994Z"
   },
   {
    "duration": 5,
    "start_time": "2022-08-10T13:21:58.010Z"
   },
   {
    "duration": 11,
    "start_time": "2022-08-10T13:21:58.017Z"
   },
   {
    "duration": 41,
    "start_time": "2022-08-10T13:21:58.030Z"
   },
   {
    "duration": 57,
    "start_time": "2022-08-10T13:21:58.072Z"
   },
   {
    "duration": 10,
    "start_time": "2022-08-10T13:21:58.131Z"
   },
   {
    "duration": 5,
    "start_time": "2022-08-10T13:21:58.142Z"
   },
   {
    "duration": 13,
    "start_time": "2022-08-10T13:21:58.149Z"
   },
   {
    "duration": 21,
    "start_time": "2022-08-10T13:21:58.164Z"
   },
   {
    "duration": 19,
    "start_time": "2022-08-10T13:21:58.187Z"
   },
   {
    "duration": 4,
    "start_time": "2022-08-10T13:21:58.207Z"
   },
   {
    "duration": 23,
    "start_time": "2022-08-10T13:21:58.212Z"
   },
   {
    "duration": 7,
    "start_time": "2022-08-10T13:21:58.237Z"
   },
   {
    "duration": 4,
    "start_time": "2022-08-10T13:21:58.267Z"
   },
   {
    "duration": 18,
    "start_time": "2022-08-10T13:21:58.272Z"
   },
   {
    "duration": 8,
    "start_time": "2022-08-10T13:21:58.292Z"
   },
   {
    "duration": 6,
    "start_time": "2022-08-10T13:21:58.302Z"
   },
   {
    "duration": 11,
    "start_time": "2022-08-10T13:21:58.309Z"
   },
   {
    "duration": 8,
    "start_time": "2022-08-10T13:21:58.322Z"
   },
   {
    "duration": 472,
    "start_time": "2022-08-10T13:22:13.497Z"
   },
   {
    "duration": 23,
    "start_time": "2022-08-10T13:22:13.971Z"
   },
   {
    "duration": 15,
    "start_time": "2022-08-10T13:22:13.996Z"
   },
   {
    "duration": 10,
    "start_time": "2022-08-10T13:22:14.014Z"
   },
   {
    "duration": 65,
    "start_time": "2022-08-10T13:22:14.026Z"
   },
   {
    "duration": 3,
    "start_time": "2022-08-10T13:22:14.093Z"
   },
   {
    "duration": 11,
    "start_time": "2022-08-10T13:22:14.098Z"
   },
   {
    "duration": 5,
    "start_time": "2022-08-10T13:22:14.110Z"
   },
   {
    "duration": 12,
    "start_time": "2022-08-10T13:22:14.116Z"
   },
   {
    "duration": 6,
    "start_time": "2022-08-10T13:22:14.131Z"
   },
   {
    "duration": 59,
    "start_time": "2022-08-10T13:22:14.138Z"
   },
   {
    "duration": 10,
    "start_time": "2022-08-10T13:22:14.198Z"
   },
   {
    "duration": 4,
    "start_time": "2022-08-10T13:22:14.210Z"
   },
   {
    "duration": 13,
    "start_time": "2022-08-10T13:22:14.215Z"
   },
   {
    "duration": 45,
    "start_time": "2022-08-10T13:22:14.229Z"
   },
   {
    "duration": 19,
    "start_time": "2022-08-10T13:22:14.275Z"
   },
   {
    "duration": 3,
    "start_time": "2022-08-10T13:22:14.296Z"
   },
   {
    "duration": 14,
    "start_time": "2022-08-10T13:22:14.301Z"
   },
   {
    "duration": 10,
    "start_time": "2022-08-10T13:22:14.317Z"
   },
   {
    "duration": 3,
    "start_time": "2022-08-10T13:22:14.329Z"
   },
   {
    "duration": 35,
    "start_time": "2022-08-10T13:22:14.333Z"
   },
   {
    "duration": 6,
    "start_time": "2022-08-10T13:22:14.370Z"
   },
   {
    "duration": 2,
    "start_time": "2022-08-10T13:22:14.378Z"
   },
   {
    "duration": 5,
    "start_time": "2022-08-10T13:22:14.382Z"
   },
   {
    "duration": 8,
    "start_time": "2022-08-10T13:22:14.389Z"
   },
   {
    "duration": 466,
    "start_time": "2022-08-10T13:24:19.828Z"
   },
   {
    "duration": 24,
    "start_time": "2022-08-10T13:24:20.296Z"
   },
   {
    "duration": 16,
    "start_time": "2022-08-10T13:24:20.322Z"
   },
   {
    "duration": 33,
    "start_time": "2022-08-10T13:24:20.340Z"
   },
   {
    "duration": 37,
    "start_time": "2022-08-10T13:24:20.375Z"
   },
   {
    "duration": 4,
    "start_time": "2022-08-10T13:24:20.414Z"
   },
   {
    "duration": 22,
    "start_time": "2022-08-10T13:24:20.420Z"
   },
   {
    "duration": 20,
    "start_time": "2022-08-10T13:24:20.444Z"
   },
   {
    "duration": 15,
    "start_time": "2022-08-10T13:24:20.466Z"
   },
   {
    "duration": 17,
    "start_time": "2022-08-10T13:24:20.483Z"
   },
   {
    "duration": 48,
    "start_time": "2022-08-10T13:24:20.501Z"
   },
   {
    "duration": 10,
    "start_time": "2022-08-10T13:24:20.550Z"
   },
   {
    "duration": 13,
    "start_time": "2022-08-10T13:24:20.562Z"
   },
   {
    "duration": 18,
    "start_time": "2022-08-10T13:24:20.578Z"
   },
   {
    "duration": 56,
    "start_time": "2022-08-10T13:24:20.598Z"
   },
   {
    "duration": 22,
    "start_time": "2022-08-10T13:24:20.656Z"
   },
   {
    "duration": 4,
    "start_time": "2022-08-10T13:24:20.680Z"
   },
   {
    "duration": 17,
    "start_time": "2022-08-10T13:24:20.685Z"
   },
   {
    "duration": 15,
    "start_time": "2022-08-10T13:24:20.704Z"
   },
   {
    "duration": 14,
    "start_time": "2022-08-10T13:24:20.721Z"
   },
   {
    "duration": 44,
    "start_time": "2022-08-10T13:24:20.737Z"
   },
   {
    "duration": 91,
    "start_time": "2022-08-10T13:24:20.784Z"
   },
   {
    "duration": 0,
    "start_time": "2022-08-10T13:24:20.877Z"
   },
   {
    "duration": 0,
    "start_time": "2022-08-10T13:24:20.878Z"
   },
   {
    "duration": 0,
    "start_time": "2022-08-10T13:24:20.879Z"
   },
   {
    "duration": 474,
    "start_time": "2022-08-10T13:24:43.989Z"
   },
   {
    "duration": 23,
    "start_time": "2022-08-10T13:24:44.465Z"
   },
   {
    "duration": 15,
    "start_time": "2022-08-10T13:24:44.490Z"
   },
   {
    "duration": 10,
    "start_time": "2022-08-10T13:24:44.507Z"
   },
   {
    "duration": 59,
    "start_time": "2022-08-10T13:24:44.519Z"
   },
   {
    "duration": 5,
    "start_time": "2022-08-10T13:24:44.579Z"
   },
   {
    "duration": 16,
    "start_time": "2022-08-10T13:24:44.586Z"
   },
   {
    "duration": 5,
    "start_time": "2022-08-10T13:24:44.604Z"
   },
   {
    "duration": 19,
    "start_time": "2022-08-10T13:24:44.611Z"
   },
   {
    "duration": 6,
    "start_time": "2022-08-10T13:24:44.635Z"
   },
   {
    "duration": 69,
    "start_time": "2022-08-10T13:24:44.643Z"
   },
   {
    "duration": 11,
    "start_time": "2022-08-10T13:24:44.714Z"
   },
   {
    "duration": 11,
    "start_time": "2022-08-10T13:24:44.727Z"
   },
   {
    "duration": 33,
    "start_time": "2022-08-10T13:24:44.740Z"
   },
   {
    "duration": 22,
    "start_time": "2022-08-10T13:24:44.775Z"
   },
   {
    "duration": 18,
    "start_time": "2022-08-10T13:24:44.799Z"
   },
   {
    "duration": 4,
    "start_time": "2022-08-10T13:24:44.819Z"
   },
   {
    "duration": 15,
    "start_time": "2022-08-10T13:24:44.825Z"
   },
   {
    "duration": 28,
    "start_time": "2022-08-10T13:24:44.841Z"
   },
   {
    "duration": 5,
    "start_time": "2022-08-10T13:24:44.871Z"
   },
   {
    "duration": 21,
    "start_time": "2022-08-10T13:24:44.878Z"
   },
   {
    "duration": 84,
    "start_time": "2022-08-10T13:24:44.901Z"
   },
   {
    "duration": 0,
    "start_time": "2022-08-10T13:24:44.986Z"
   },
   {
    "duration": 0,
    "start_time": "2022-08-10T13:24:44.987Z"
   },
   {
    "duration": 0,
    "start_time": "2022-08-10T13:24:44.989Z"
   },
   {
    "duration": 466,
    "start_time": "2022-08-10T13:25:01.706Z"
   },
   {
    "duration": 24,
    "start_time": "2022-08-10T13:25:02.174Z"
   },
   {
    "duration": 16,
    "start_time": "2022-08-10T13:25:02.200Z"
   },
   {
    "duration": 9,
    "start_time": "2022-08-10T13:25:02.218Z"
   },
   {
    "duration": 61,
    "start_time": "2022-08-10T13:25:02.229Z"
   },
   {
    "duration": 4,
    "start_time": "2022-08-10T13:25:02.292Z"
   },
   {
    "duration": 12,
    "start_time": "2022-08-10T13:25:02.297Z"
   },
   {
    "duration": 6,
    "start_time": "2022-08-10T13:25:02.311Z"
   },
   {
    "duration": 9,
    "start_time": "2022-08-10T13:25:02.319Z"
   },
   {
    "duration": 8,
    "start_time": "2022-08-10T13:25:02.330Z"
   },
   {
    "duration": 55,
    "start_time": "2022-08-10T13:25:02.340Z"
   },
   {
    "duration": 12,
    "start_time": "2022-08-10T13:25:02.397Z"
   },
   {
    "duration": 4,
    "start_time": "2022-08-10T13:25:02.411Z"
   },
   {
    "duration": 14,
    "start_time": "2022-08-10T13:25:02.417Z"
   },
   {
    "duration": 47,
    "start_time": "2022-08-10T13:25:02.433Z"
   },
   {
    "duration": 18,
    "start_time": "2022-08-10T13:25:02.482Z"
   },
   {
    "duration": 3,
    "start_time": "2022-08-10T13:25:02.502Z"
   },
   {
    "duration": 14,
    "start_time": "2022-08-10T13:25:02.507Z"
   },
   {
    "duration": 10,
    "start_time": "2022-08-10T13:25:02.523Z"
   },
   {
    "duration": 4,
    "start_time": "2022-08-10T13:25:02.534Z"
   },
   {
    "duration": 32,
    "start_time": "2022-08-10T13:25:02.539Z"
   },
   {
    "duration": 72,
    "start_time": "2022-08-10T13:25:02.573Z"
   },
   {
    "duration": 0,
    "start_time": "2022-08-10T13:25:02.646Z"
   },
   {
    "duration": 0,
    "start_time": "2022-08-10T13:25:02.648Z"
   },
   {
    "duration": 0,
    "start_time": "2022-08-10T13:25:02.649Z"
   },
   {
    "duration": 536,
    "start_time": "2022-08-10T13:50:24.534Z"
   },
   {
    "duration": 26,
    "start_time": "2022-08-10T13:50:25.072Z"
   },
   {
    "duration": 17,
    "start_time": "2022-08-10T13:50:25.100Z"
   },
   {
    "duration": 11,
    "start_time": "2022-08-10T13:50:25.119Z"
   },
   {
    "duration": 62,
    "start_time": "2022-08-10T13:50:25.132Z"
   },
   {
    "duration": 4,
    "start_time": "2022-08-10T13:50:25.196Z"
   },
   {
    "duration": 17,
    "start_time": "2022-08-10T13:50:25.201Z"
   },
   {
    "duration": 7,
    "start_time": "2022-08-10T13:50:25.219Z"
   },
   {
    "duration": 8,
    "start_time": "2022-08-10T13:50:25.228Z"
   },
   {
    "duration": 6,
    "start_time": "2022-08-10T13:50:25.239Z"
   },
   {
    "duration": 38,
    "start_time": "2022-08-10T13:50:25.268Z"
   },
   {
    "duration": 10,
    "start_time": "2022-08-10T13:50:25.308Z"
   },
   {
    "duration": 14,
    "start_time": "2022-08-10T13:50:25.319Z"
   },
   {
    "duration": 33,
    "start_time": "2022-08-10T13:50:25.335Z"
   },
   {
    "duration": 24,
    "start_time": "2022-08-10T13:50:25.370Z"
   },
   {
    "duration": 19,
    "start_time": "2022-08-10T13:50:25.397Z"
   },
   {
    "duration": 4,
    "start_time": "2022-08-10T13:50:25.418Z"
   },
   {
    "duration": 13,
    "start_time": "2022-08-10T13:50:25.423Z"
   },
   {
    "duration": 10,
    "start_time": "2022-08-10T13:50:25.438Z"
   },
   {
    "duration": 3,
    "start_time": "2022-08-10T13:50:25.469Z"
   },
   {
    "duration": 34,
    "start_time": "2022-08-10T13:50:25.474Z"
   },
   {
    "duration": 17,
    "start_time": "2022-08-10T13:50:25.511Z"
   },
   {
    "duration": 8,
    "start_time": "2022-08-10T13:50:25.530Z"
   },
   {
    "duration": 27,
    "start_time": "2022-08-10T13:50:25.540Z"
   },
   {
    "duration": 8,
    "start_time": "2022-08-10T13:50:25.569Z"
   },
   {
    "duration": 463,
    "start_time": "2022-08-10T13:51:53.997Z"
   },
   {
    "duration": 23,
    "start_time": "2022-08-10T13:51:54.462Z"
   },
   {
    "duration": 15,
    "start_time": "2022-08-10T13:51:54.487Z"
   },
   {
    "duration": 10,
    "start_time": "2022-08-10T13:51:54.505Z"
   },
   {
    "duration": 59,
    "start_time": "2022-08-10T13:51:54.518Z"
   },
   {
    "duration": 16,
    "start_time": "2022-08-10T13:51:54.580Z"
   },
   {
    "duration": 22,
    "start_time": "2022-08-10T13:51:54.598Z"
   },
   {
    "duration": 10,
    "start_time": "2022-08-10T13:51:54.621Z"
   },
   {
    "duration": 20,
    "start_time": "2022-08-10T13:51:54.633Z"
   },
   {
    "duration": 8,
    "start_time": "2022-08-10T13:51:54.657Z"
   },
   {
    "duration": 50,
    "start_time": "2022-08-10T13:51:54.666Z"
   },
   {
    "duration": 11,
    "start_time": "2022-08-10T13:51:54.718Z"
   },
   {
    "duration": 14,
    "start_time": "2022-08-10T13:51:54.731Z"
   },
   {
    "duration": 20,
    "start_time": "2022-08-10T13:51:54.747Z"
   },
   {
    "duration": 38,
    "start_time": "2022-08-10T13:51:54.769Z"
   },
   {
    "duration": 19,
    "start_time": "2022-08-10T13:51:54.809Z"
   },
   {
    "duration": 3,
    "start_time": "2022-08-10T13:51:54.830Z"
   },
   {
    "duration": 28,
    "start_time": "2022-08-10T13:51:54.835Z"
   },
   {
    "duration": 14,
    "start_time": "2022-08-10T13:51:54.865Z"
   },
   {
    "duration": 12,
    "start_time": "2022-08-10T13:51:54.880Z"
   },
   {
    "duration": 24,
    "start_time": "2022-08-10T13:51:54.894Z"
   },
   {
    "duration": 36,
    "start_time": "2022-08-10T13:51:54.920Z"
   },
   {
    "duration": 3,
    "start_time": "2022-08-10T13:51:54.958Z"
   },
   {
    "duration": 12,
    "start_time": "2022-08-10T13:51:54.962Z"
   },
   {
    "duration": 15,
    "start_time": "2022-08-10T13:51:54.976Z"
   },
   {
    "duration": 520,
    "start_time": "2022-08-10T13:53:16.668Z"
   },
   {
    "duration": 23,
    "start_time": "2022-08-10T13:53:17.190Z"
   },
   {
    "duration": 15,
    "start_time": "2022-08-10T13:53:17.215Z"
   },
   {
    "duration": 35,
    "start_time": "2022-08-10T13:53:17.232Z"
   },
   {
    "duration": 43,
    "start_time": "2022-08-10T13:53:17.269Z"
   },
   {
    "duration": 4,
    "start_time": "2022-08-10T13:53:17.313Z"
   },
   {
    "duration": 27,
    "start_time": "2022-08-10T13:53:17.318Z"
   },
   {
    "duration": 15,
    "start_time": "2022-08-10T13:53:17.347Z"
   },
   {
    "duration": 25,
    "start_time": "2022-08-10T13:53:17.364Z"
   },
   {
    "duration": 10,
    "start_time": "2022-08-10T13:53:17.393Z"
   },
   {
    "duration": 50,
    "start_time": "2022-08-10T13:53:17.405Z"
   },
   {
    "duration": 9,
    "start_time": "2022-08-10T13:53:17.457Z"
   },
   {
    "duration": 17,
    "start_time": "2022-08-10T13:53:17.468Z"
   },
   {
    "duration": 26,
    "start_time": "2022-08-10T13:53:17.487Z"
   },
   {
    "duration": 54,
    "start_time": "2022-08-10T13:53:17.515Z"
   },
   {
    "duration": 19,
    "start_time": "2022-08-10T13:53:17.571Z"
   },
   {
    "duration": 4,
    "start_time": "2022-08-10T13:53:17.592Z"
   },
   {
    "duration": 32,
    "start_time": "2022-08-10T13:53:17.598Z"
   },
   {
    "duration": 16,
    "start_time": "2022-08-10T13:53:17.631Z"
   },
   {
    "duration": 12,
    "start_time": "2022-08-10T13:53:17.649Z"
   },
   {
    "duration": 26,
    "start_time": "2022-08-10T13:53:17.662Z"
   },
   {
    "duration": 48,
    "start_time": "2022-08-10T13:53:17.690Z"
   },
   {
    "duration": 2,
    "start_time": "2022-08-10T13:53:17.739Z"
   },
   {
    "duration": 14,
    "start_time": "2022-08-10T13:53:17.743Z"
   },
   {
    "duration": 15,
    "start_time": "2022-08-10T13:53:17.759Z"
   },
   {
    "duration": 505,
    "start_time": "2022-08-10T13:59:43.008Z"
   },
   {
    "duration": 33,
    "start_time": "2022-08-10T13:59:43.515Z"
   },
   {
    "duration": 111,
    "start_time": "2022-08-10T13:59:43.550Z"
   },
   {
    "duration": 69,
    "start_time": "2022-08-10T13:59:43.664Z"
   },
   {
    "duration": 87,
    "start_time": "2022-08-10T13:59:43.736Z"
   },
   {
    "duration": 6,
    "start_time": "2022-08-10T13:59:43.825Z"
   },
   {
    "duration": 38,
    "start_time": "2022-08-10T13:59:43.833Z"
   },
   {
    "duration": 59,
    "start_time": "2022-08-10T13:59:43.873Z"
   },
   {
    "duration": 99,
    "start_time": "2022-08-10T13:59:43.934Z"
   },
   {
    "duration": 56,
    "start_time": "2022-08-10T13:59:44.036Z"
   },
   {
    "duration": 57,
    "start_time": "2022-08-10T13:59:44.093Z"
   },
   {
    "duration": 10,
    "start_time": "2022-08-10T13:59:44.152Z"
   },
   {
    "duration": 30,
    "start_time": "2022-08-10T13:59:44.163Z"
   },
   {
    "duration": 57,
    "start_time": "2022-08-10T13:59:44.195Z"
   },
   {
    "duration": 70,
    "start_time": "2022-08-10T13:59:44.254Z"
   },
   {
    "duration": 19,
    "start_time": "2022-08-10T13:59:44.326Z"
   },
   {
    "duration": 13,
    "start_time": "2022-08-10T13:59:44.347Z"
   },
   {
    "duration": 51,
    "start_time": "2022-08-10T13:59:44.362Z"
   },
   {
    "duration": 55,
    "start_time": "2022-08-10T13:59:44.415Z"
   },
   {
    "duration": 74,
    "start_time": "2022-08-10T13:59:44.471Z"
   },
   {
    "duration": 24,
    "start_time": "2022-08-10T13:59:44.547Z"
   },
   {
    "duration": 58,
    "start_time": "2022-08-10T13:59:44.573Z"
   },
   {
    "duration": 63,
    "start_time": "2022-08-10T13:59:44.633Z"
   },
   {
    "duration": 56,
    "start_time": "2022-08-10T13:59:44.698Z"
   },
   {
    "duration": 45,
    "start_time": "2022-08-10T13:59:44.756Z"
   },
   {
    "duration": 482,
    "start_time": "2022-08-10T14:05:43.587Z"
   },
   {
    "duration": 23,
    "start_time": "2022-08-10T14:05:44.072Z"
   },
   {
    "duration": 16,
    "start_time": "2022-08-10T14:05:44.099Z"
   },
   {
    "duration": 9,
    "start_time": "2022-08-10T14:05:44.117Z"
   },
   {
    "duration": 65,
    "start_time": "2022-08-10T14:05:44.128Z"
   },
   {
    "duration": 4,
    "start_time": "2022-08-10T14:05:44.195Z"
   },
   {
    "duration": 12,
    "start_time": "2022-08-10T14:05:44.200Z"
   },
   {
    "duration": 5,
    "start_time": "2022-08-10T14:05:44.213Z"
   },
   {
    "duration": 9,
    "start_time": "2022-08-10T14:05:44.220Z"
   },
   {
    "duration": 5,
    "start_time": "2022-08-10T14:05:44.230Z"
   },
   {
    "duration": 33,
    "start_time": "2022-08-10T14:05:44.269Z"
   },
   {
    "duration": 9,
    "start_time": "2022-08-10T14:05:44.304Z"
   },
   {
    "duration": 4,
    "start_time": "2022-08-10T14:05:44.314Z"
   },
   {
    "duration": 12,
    "start_time": "2022-08-10T14:05:44.320Z"
   },
   {
    "duration": 49,
    "start_time": "2022-08-10T14:05:44.334Z"
   },
   {
    "duration": 19,
    "start_time": "2022-08-10T14:05:44.385Z"
   },
   {
    "duration": 4,
    "start_time": "2022-08-10T14:05:44.406Z"
   },
   {
    "duration": 13,
    "start_time": "2022-08-10T14:05:44.412Z"
   },
   {
    "duration": 8,
    "start_time": "2022-08-10T14:05:44.427Z"
   },
   {
    "duration": 3,
    "start_time": "2022-08-10T14:05:44.437Z"
   },
   {
    "duration": 9,
    "start_time": "2022-08-10T14:05:44.468Z"
   },
   {
    "duration": 31,
    "start_time": "2022-08-10T14:05:44.479Z"
   },
   {
    "duration": 22,
    "start_time": "2022-08-10T14:05:44.512Z"
   },
   {
    "duration": 96,
    "start_time": "2022-08-10T14:05:44.536Z"
   },
   {
    "duration": 0,
    "start_time": "2022-08-10T14:05:44.634Z"
   },
   {
    "duration": 471,
    "start_time": "2022-08-10T14:06:45.102Z"
   },
   {
    "duration": 26,
    "start_time": "2022-08-10T14:06:45.575Z"
   },
   {
    "duration": 17,
    "start_time": "2022-08-10T14:06:45.602Z"
   },
   {
    "duration": 10,
    "start_time": "2022-08-10T14:06:45.621Z"
   },
   {
    "duration": 62,
    "start_time": "2022-08-10T14:06:45.632Z"
   },
   {
    "duration": 3,
    "start_time": "2022-08-10T14:06:45.696Z"
   },
   {
    "duration": 13,
    "start_time": "2022-08-10T14:06:45.701Z"
   },
   {
    "duration": 4,
    "start_time": "2022-08-10T14:06:45.716Z"
   },
   {
    "duration": 9,
    "start_time": "2022-08-10T14:06:45.722Z"
   },
   {
    "duration": 6,
    "start_time": "2022-08-10T14:06:45.733Z"
   },
   {
    "duration": 38,
    "start_time": "2022-08-10T14:06:45.768Z"
   },
   {
    "duration": 10,
    "start_time": "2022-08-10T14:06:45.808Z"
   },
   {
    "duration": 7,
    "start_time": "2022-08-10T14:06:45.819Z"
   },
   {
    "duration": 14,
    "start_time": "2022-08-10T14:06:45.828Z"
   },
   {
    "duration": 44,
    "start_time": "2022-08-10T14:06:45.843Z"
   },
   {
    "duration": 20,
    "start_time": "2022-08-10T14:06:45.888Z"
   },
   {
    "duration": 4,
    "start_time": "2022-08-10T14:06:45.909Z"
   },
   {
    "duration": 17,
    "start_time": "2022-08-10T14:06:45.915Z"
   },
   {
    "duration": 10,
    "start_time": "2022-08-10T14:06:45.933Z"
   },
   {
    "duration": 26,
    "start_time": "2022-08-10T14:06:45.944Z"
   },
   {
    "duration": 14,
    "start_time": "2022-08-10T14:06:45.972Z"
   },
   {
    "duration": 29,
    "start_time": "2022-08-10T14:06:45.988Z"
   },
   {
    "duration": 23,
    "start_time": "2022-08-10T14:06:46.019Z"
   },
   {
    "duration": 56,
    "start_time": "2022-08-10T14:06:46.044Z"
   },
   {
    "duration": 3,
    "start_time": "2022-08-10T14:06:46.102Z"
   },
   {
    "duration": 491,
    "start_time": "2022-08-10T14:12:06.933Z"
   },
   {
    "duration": 25,
    "start_time": "2022-08-10T14:12:07.426Z"
   },
   {
    "duration": 18,
    "start_time": "2022-08-10T14:12:07.453Z"
   },
   {
    "duration": 9,
    "start_time": "2022-08-10T14:12:07.473Z"
   },
   {
    "duration": 39,
    "start_time": "2022-08-10T14:12:07.484Z"
   },
   {
    "duration": 4,
    "start_time": "2022-08-10T14:12:07.525Z"
   },
   {
    "duration": 38,
    "start_time": "2022-08-10T14:12:07.530Z"
   },
   {
    "duration": 5,
    "start_time": "2022-08-10T14:12:07.570Z"
   },
   {
    "duration": 10,
    "start_time": "2022-08-10T14:12:07.576Z"
   },
   {
    "duration": 7,
    "start_time": "2022-08-10T14:12:07.587Z"
   },
   {
    "duration": 37,
    "start_time": "2022-08-10T14:12:07.596Z"
   },
   {
    "duration": 9,
    "start_time": "2022-08-10T14:12:07.635Z"
   },
   {
    "duration": 4,
    "start_time": "2022-08-10T14:12:07.669Z"
   },
   {
    "duration": 15,
    "start_time": "2022-08-10T14:12:07.677Z"
   },
   {
    "duration": 20,
    "start_time": "2022-08-10T14:12:07.694Z"
   },
   {
    "duration": 17,
    "start_time": "2022-08-10T14:12:07.716Z"
   },
   {
    "duration": 32,
    "start_time": "2022-08-10T14:12:07.735Z"
   },
   {
    "duration": 14,
    "start_time": "2022-08-10T14:12:07.769Z"
   },
   {
    "duration": 8,
    "start_time": "2022-08-10T14:12:07.784Z"
   },
   {
    "duration": 3,
    "start_time": "2022-08-10T14:12:07.794Z"
   },
   {
    "duration": 13,
    "start_time": "2022-08-10T14:12:07.799Z"
   },
   {
    "duration": 31,
    "start_time": "2022-08-10T14:12:07.814Z"
   },
   {
    "duration": 38,
    "start_time": "2022-08-10T14:12:07.848Z"
   },
   {
    "duration": 25,
    "start_time": "2022-08-10T14:12:07.888Z"
   },
   {
    "duration": 2,
    "start_time": "2022-08-10T14:12:07.914Z"
   },
   {
    "duration": 500,
    "start_time": "2022-08-10T14:13:18.431Z"
   },
   {
    "duration": 26,
    "start_time": "2022-08-10T14:13:18.934Z"
   },
   {
    "duration": 16,
    "start_time": "2022-08-10T14:13:18.968Z"
   },
   {
    "duration": 10,
    "start_time": "2022-08-10T14:13:18.986Z"
   },
   {
    "duration": 37,
    "start_time": "2022-08-10T14:13:18.997Z"
   },
   {
    "duration": 4,
    "start_time": "2022-08-10T14:13:19.036Z"
   },
   {
    "duration": 8,
    "start_time": "2022-08-10T14:13:19.068Z"
   },
   {
    "duration": 6,
    "start_time": "2022-08-10T14:13:19.077Z"
   },
   {
    "duration": 13,
    "start_time": "2022-08-10T14:13:19.085Z"
   },
   {
    "duration": 7,
    "start_time": "2022-08-10T14:13:19.099Z"
   },
   {
    "duration": 43,
    "start_time": "2022-08-10T14:13:19.107Z"
   },
   {
    "duration": 10,
    "start_time": "2022-08-10T14:13:19.168Z"
   },
   {
    "duration": 4,
    "start_time": "2022-08-10T14:13:19.180Z"
   },
   {
    "duration": 17,
    "start_time": "2022-08-10T14:13:19.185Z"
   },
   {
    "duration": 23,
    "start_time": "2022-08-10T14:13:19.204Z"
   },
   {
    "duration": 43,
    "start_time": "2022-08-10T14:13:19.229Z"
   },
   {
    "duration": 4,
    "start_time": "2022-08-10T14:13:19.274Z"
   },
   {
    "duration": 15,
    "start_time": "2022-08-10T14:13:19.279Z"
   },
   {
    "duration": 11,
    "start_time": "2022-08-10T14:13:19.295Z"
   },
   {
    "duration": 5,
    "start_time": "2022-08-10T14:13:19.308Z"
   },
   {
    "duration": 18,
    "start_time": "2022-08-10T14:13:19.314Z"
   },
   {
    "duration": 45,
    "start_time": "2022-08-10T14:13:19.334Z"
   },
   {
    "duration": 23,
    "start_time": "2022-08-10T14:13:19.380Z"
   },
   {
    "duration": 35,
    "start_time": "2022-08-10T14:13:19.405Z"
   },
   {
    "duration": 27,
    "start_time": "2022-08-10T14:13:19.442Z"
   },
   {
    "duration": 460,
    "start_time": "2022-08-10T14:14:43.022Z"
   },
   {
    "duration": 25,
    "start_time": "2022-08-10T14:14:43.484Z"
   },
   {
    "duration": 16,
    "start_time": "2022-08-10T14:14:43.511Z"
   },
   {
    "duration": 10,
    "start_time": "2022-08-10T14:14:43.529Z"
   },
   {
    "duration": 55,
    "start_time": "2022-08-10T14:14:43.541Z"
   },
   {
    "duration": 3,
    "start_time": "2022-08-10T14:14:43.598Z"
   },
   {
    "duration": 12,
    "start_time": "2022-08-10T14:14:43.604Z"
   },
   {
    "duration": 5,
    "start_time": "2022-08-10T14:14:43.619Z"
   },
   {
    "duration": 12,
    "start_time": "2022-08-10T14:14:43.626Z"
   },
   {
    "duration": 27,
    "start_time": "2022-08-10T14:14:43.642Z"
   },
   {
    "duration": 47,
    "start_time": "2022-08-10T14:14:43.671Z"
   },
   {
    "duration": 10,
    "start_time": "2022-08-10T14:14:43.720Z"
   },
   {
    "duration": 5,
    "start_time": "2022-08-10T14:14:43.732Z"
   },
   {
    "duration": 30,
    "start_time": "2022-08-10T14:14:43.738Z"
   },
   {
    "duration": 27,
    "start_time": "2022-08-10T14:14:43.769Z"
   },
   {
    "duration": 19,
    "start_time": "2022-08-10T14:14:43.797Z"
   },
   {
    "duration": 4,
    "start_time": "2022-08-10T14:14:43.817Z"
   },
   {
    "duration": 14,
    "start_time": "2022-08-10T14:14:43.822Z"
   },
   {
    "duration": 9,
    "start_time": "2022-08-10T14:14:43.839Z"
   },
   {
    "duration": 5,
    "start_time": "2022-08-10T14:14:43.868Z"
   },
   {
    "duration": 23,
    "start_time": "2022-08-10T14:14:43.875Z"
   },
   {
    "duration": 30,
    "start_time": "2022-08-10T14:14:43.900Z"
   },
   {
    "duration": 38,
    "start_time": "2022-08-10T14:14:43.931Z"
   },
   {
    "duration": 23,
    "start_time": "2022-08-10T14:14:43.971Z"
   },
   {
    "duration": 2,
    "start_time": "2022-08-10T14:14:43.996Z"
   },
   {
    "duration": 519,
    "start_time": "2022-08-10T14:16:11.158Z"
   },
   {
    "duration": 26,
    "start_time": "2022-08-10T14:16:11.679Z"
   },
   {
    "duration": 15,
    "start_time": "2022-08-10T14:16:11.707Z"
   },
   {
    "duration": 11,
    "start_time": "2022-08-10T14:16:11.725Z"
   },
   {
    "duration": 34,
    "start_time": "2022-08-10T14:16:11.768Z"
   },
   {
    "duration": 3,
    "start_time": "2022-08-10T14:16:11.804Z"
   },
   {
    "duration": 11,
    "start_time": "2022-08-10T14:16:11.808Z"
   },
   {
    "duration": 5,
    "start_time": "2022-08-10T14:16:11.820Z"
   },
   {
    "duration": 10,
    "start_time": "2022-08-10T14:16:11.826Z"
   },
   {
    "duration": 29,
    "start_time": "2022-08-10T14:16:11.839Z"
   },
   {
    "duration": 34,
    "start_time": "2022-08-10T14:16:11.870Z"
   },
   {
    "duration": 11,
    "start_time": "2022-08-10T14:16:11.906Z"
   },
   {
    "duration": 7,
    "start_time": "2022-08-10T14:16:11.918Z"
   },
   {
    "duration": 13,
    "start_time": "2022-08-10T14:16:11.926Z"
   },
   {
    "duration": 46,
    "start_time": "2022-08-10T14:16:11.941Z"
   },
   {
    "duration": 18,
    "start_time": "2022-08-10T14:16:11.989Z"
   },
   {
    "duration": 4,
    "start_time": "2022-08-10T14:16:12.009Z"
   },
   {
    "duration": 13,
    "start_time": "2022-08-10T14:16:12.014Z"
   },
   {
    "duration": 12,
    "start_time": "2022-08-10T14:16:12.028Z"
   },
   {
    "duration": 32,
    "start_time": "2022-08-10T14:16:12.041Z"
   },
   {
    "duration": 14,
    "start_time": "2022-08-10T14:16:12.075Z"
   },
   {
    "duration": 29,
    "start_time": "2022-08-10T14:16:12.091Z"
   },
   {
    "duration": 22,
    "start_time": "2022-08-10T14:16:12.122Z"
   },
   {
    "duration": 1342,
    "start_time": "2022-08-10T14:16:12.145Z"
   },
   {
    "duration": 0,
    "start_time": "2022-08-10T14:16:13.489Z"
   },
   {
    "duration": 484,
    "start_time": "2022-08-10T14:16:33.281Z"
   },
   {
    "duration": 25,
    "start_time": "2022-08-10T14:16:33.766Z"
   },
   {
    "duration": 23,
    "start_time": "2022-08-10T14:16:33.793Z"
   },
   {
    "duration": 10,
    "start_time": "2022-08-10T14:16:33.818Z"
   },
   {
    "duration": 61,
    "start_time": "2022-08-10T14:16:33.830Z"
   },
   {
    "duration": 4,
    "start_time": "2022-08-10T14:16:33.893Z"
   },
   {
    "duration": 15,
    "start_time": "2022-08-10T14:16:33.899Z"
   },
   {
    "duration": 6,
    "start_time": "2022-08-10T14:16:33.916Z"
   },
   {
    "duration": 9,
    "start_time": "2022-08-10T14:16:33.923Z"
   },
   {
    "duration": 6,
    "start_time": "2022-08-10T14:16:33.933Z"
   },
   {
    "duration": 34,
    "start_time": "2022-08-10T14:16:33.968Z"
   },
   {
    "duration": 10,
    "start_time": "2022-08-10T14:16:34.003Z"
   },
   {
    "duration": 4,
    "start_time": "2022-08-10T14:16:34.014Z"
   },
   {
    "duration": 12,
    "start_time": "2022-08-10T14:16:34.021Z"
   },
   {
    "duration": 47,
    "start_time": "2022-08-10T14:16:34.035Z"
   },
   {
    "duration": 22,
    "start_time": "2022-08-10T14:16:34.084Z"
   },
   {
    "duration": 5,
    "start_time": "2022-08-10T14:16:34.108Z"
   },
   {
    "duration": 14,
    "start_time": "2022-08-10T14:16:34.115Z"
   },
   {
    "duration": 36,
    "start_time": "2022-08-10T14:16:34.131Z"
   },
   {
    "duration": 4,
    "start_time": "2022-08-10T14:16:34.169Z"
   },
   {
    "duration": 13,
    "start_time": "2022-08-10T14:16:34.175Z"
   },
   {
    "duration": 29,
    "start_time": "2022-08-10T14:16:34.189Z"
   },
   {
    "duration": 22,
    "start_time": "2022-08-10T14:16:34.220Z"
   },
   {
    "duration": 44,
    "start_time": "2022-08-10T14:16:34.244Z"
   },
   {
    "duration": 3,
    "start_time": "2022-08-10T14:16:34.290Z"
   },
   {
    "duration": 493,
    "start_time": "2022-08-10T14:17:47.475Z"
   },
   {
    "duration": 25,
    "start_time": "2022-08-10T14:17:47.970Z"
   },
   {
    "duration": 16,
    "start_time": "2022-08-10T14:17:47.999Z"
   },
   {
    "duration": 10,
    "start_time": "2022-08-10T14:17:48.016Z"
   },
   {
    "duration": 65,
    "start_time": "2022-08-10T14:17:48.028Z"
   },
   {
    "duration": 4,
    "start_time": "2022-08-10T14:17:48.095Z"
   },
   {
    "duration": 13,
    "start_time": "2022-08-10T14:17:48.100Z"
   },
   {
    "duration": 5,
    "start_time": "2022-08-10T14:17:48.115Z"
   },
   {
    "duration": 9,
    "start_time": "2022-08-10T14:17:48.122Z"
   },
   {
    "duration": 5,
    "start_time": "2022-08-10T14:17:48.132Z"
   },
   {
    "duration": 57,
    "start_time": "2022-08-10T14:17:48.138Z"
   },
   {
    "duration": 9,
    "start_time": "2022-08-10T14:17:48.197Z"
   },
   {
    "duration": 3,
    "start_time": "2022-08-10T14:17:48.208Z"
   },
   {
    "duration": 14,
    "start_time": "2022-08-10T14:17:48.213Z"
   },
   {
    "duration": 45,
    "start_time": "2022-08-10T14:17:48.229Z"
   },
   {
    "duration": 19,
    "start_time": "2022-08-10T14:17:48.275Z"
   },
   {
    "duration": 3,
    "start_time": "2022-08-10T14:17:48.296Z"
   },
   {
    "duration": 14,
    "start_time": "2022-08-10T14:17:48.301Z"
   },
   {
    "duration": 5,
    "start_time": "2022-08-10T14:17:48.317Z"
   },
   {
    "duration": 3,
    "start_time": "2022-08-10T14:17:48.324Z"
   },
   {
    "duration": 39,
    "start_time": "2022-08-10T14:17:48.329Z"
   },
   {
    "duration": 30,
    "start_time": "2022-08-10T14:17:48.370Z"
   },
   {
    "duration": 23,
    "start_time": "2022-08-10T14:17:48.402Z"
   },
   {
    "duration": 54,
    "start_time": "2022-08-10T14:17:48.427Z"
   },
   {
    "duration": 26,
    "start_time": "2022-08-10T14:17:48.483Z"
   },
   {
    "duration": 484,
    "start_time": "2022-08-10T14:20:52.496Z"
   },
   {
    "duration": 26,
    "start_time": "2022-08-10T14:20:52.982Z"
   },
   {
    "duration": 22,
    "start_time": "2022-08-10T14:20:53.009Z"
   },
   {
    "duration": 16,
    "start_time": "2022-08-10T14:20:53.033Z"
   },
   {
    "duration": 50,
    "start_time": "2022-08-10T14:20:53.051Z"
   },
   {
    "duration": 4,
    "start_time": "2022-08-10T14:20:53.103Z"
   },
   {
    "duration": 16,
    "start_time": "2022-08-10T14:20:53.108Z"
   },
   {
    "duration": 4,
    "start_time": "2022-08-10T14:20:53.126Z"
   },
   {
    "duration": 13,
    "start_time": "2022-08-10T14:20:53.132Z"
   },
   {
    "duration": 5,
    "start_time": "2022-08-10T14:20:53.168Z"
   },
   {
    "duration": 43,
    "start_time": "2022-08-10T14:20:53.175Z"
   },
   {
    "duration": 10,
    "start_time": "2022-08-10T14:20:53.220Z"
   },
   {
    "duration": 4,
    "start_time": "2022-08-10T14:20:53.232Z"
   },
   {
    "duration": 32,
    "start_time": "2022-08-10T14:20:53.238Z"
   },
   {
    "duration": 21,
    "start_time": "2022-08-10T14:20:53.273Z"
   },
   {
    "duration": 20,
    "start_time": "2022-08-10T14:20:53.296Z"
   },
   {
    "duration": 4,
    "start_time": "2022-08-10T14:20:53.317Z"
   },
   {
    "duration": 14,
    "start_time": "2022-08-10T14:20:53.323Z"
   },
   {
    "duration": 32,
    "start_time": "2022-08-10T14:20:53.339Z"
   },
   {
    "duration": 9,
    "start_time": "2022-08-10T14:20:53.373Z"
   },
   {
    "duration": 20,
    "start_time": "2022-08-10T14:20:53.384Z"
   },
   {
    "duration": 28,
    "start_time": "2022-08-10T14:20:53.406Z"
   },
   {
    "duration": 40,
    "start_time": "2022-08-10T14:20:53.436Z"
   },
   {
    "duration": 90,
    "start_time": "2022-08-10T14:20:53.478Z"
   },
   {
    "duration": 0,
    "start_time": "2022-08-10T14:20:53.570Z"
   },
   {
    "duration": 465,
    "start_time": "2022-08-10T14:21:42.111Z"
   },
   {
    "duration": 27,
    "start_time": "2022-08-10T14:21:42.578Z"
   },
   {
    "duration": 17,
    "start_time": "2022-08-10T14:21:42.608Z"
   },
   {
    "duration": 15,
    "start_time": "2022-08-10T14:21:42.627Z"
   },
   {
    "duration": 58,
    "start_time": "2022-08-10T14:21:42.644Z"
   },
   {
    "duration": 3,
    "start_time": "2022-08-10T14:21:42.704Z"
   },
   {
    "duration": 20,
    "start_time": "2022-08-10T14:21:42.709Z"
   },
   {
    "duration": 5,
    "start_time": "2022-08-10T14:21:42.731Z"
   },
   {
    "duration": 13,
    "start_time": "2022-08-10T14:21:42.737Z"
   },
   {
    "duration": 19,
    "start_time": "2022-08-10T14:21:42.752Z"
   },
   {
    "duration": 40,
    "start_time": "2022-08-10T14:21:42.773Z"
   },
   {
    "duration": 10,
    "start_time": "2022-08-10T14:21:42.815Z"
   },
   {
    "duration": 7,
    "start_time": "2022-08-10T14:21:42.827Z"
   },
   {
    "duration": 37,
    "start_time": "2022-08-10T14:21:42.836Z"
   },
   {
    "duration": 27,
    "start_time": "2022-08-10T14:21:42.874Z"
   },
   {
    "duration": 18,
    "start_time": "2022-08-10T14:21:42.903Z"
   },
   {
    "duration": 4,
    "start_time": "2022-08-10T14:21:42.922Z"
   },
   {
    "duration": 15,
    "start_time": "2022-08-10T14:21:42.928Z"
   },
   {
    "duration": 27,
    "start_time": "2022-08-10T14:21:42.945Z"
   },
   {
    "duration": 6,
    "start_time": "2022-08-10T14:21:42.974Z"
   },
   {
    "duration": 14,
    "start_time": "2022-08-10T14:21:42.981Z"
   },
   {
    "duration": 36,
    "start_time": "2022-08-10T14:21:42.997Z"
   },
   {
    "duration": 39,
    "start_time": "2022-08-10T14:21:43.034Z"
   },
   {
    "duration": 37,
    "start_time": "2022-08-10T14:21:43.074Z"
   },
   {
    "duration": 2,
    "start_time": "2022-08-10T14:21:43.113Z"
   },
   {
    "duration": 524,
    "start_time": "2022-08-10T14:26:40.255Z"
   },
   {
    "duration": 24,
    "start_time": "2022-08-10T14:26:40.781Z"
   },
   {
    "duration": 23,
    "start_time": "2022-08-10T14:26:40.807Z"
   },
   {
    "duration": 12,
    "start_time": "2022-08-10T14:26:40.833Z"
   },
   {
    "duration": 38,
    "start_time": "2022-08-10T14:26:40.867Z"
   },
   {
    "duration": 4,
    "start_time": "2022-08-10T14:26:40.907Z"
   },
   {
    "duration": 14,
    "start_time": "2022-08-10T14:26:40.913Z"
   },
   {
    "duration": 7,
    "start_time": "2022-08-10T14:26:40.930Z"
   },
   {
    "duration": 35,
    "start_time": "2022-08-10T14:26:40.938Z"
   },
   {
    "duration": 11,
    "start_time": "2022-08-10T14:26:40.976Z"
   },
   {
    "duration": 44,
    "start_time": "2022-08-10T14:26:40.989Z"
   },
   {
    "duration": 11,
    "start_time": "2022-08-10T14:26:41.035Z"
   },
   {
    "duration": 20,
    "start_time": "2022-08-10T14:26:41.047Z"
   },
   {
    "duration": 18,
    "start_time": "2022-08-10T14:26:41.069Z"
   },
   {
    "duration": 27,
    "start_time": "2022-08-10T14:26:41.089Z"
   },
   {
    "duration": 27,
    "start_time": "2022-08-10T14:26:41.118Z"
   },
   {
    "duration": 4,
    "start_time": "2022-08-10T14:26:41.147Z"
   },
   {
    "duration": 24,
    "start_time": "2022-08-10T14:26:41.153Z"
   },
   {
    "duration": 7,
    "start_time": "2022-08-10T14:26:41.178Z"
   },
   {
    "duration": 7,
    "start_time": "2022-08-10T14:26:41.187Z"
   },
   {
    "duration": 16,
    "start_time": "2022-08-10T14:26:41.196Z"
   },
   {
    "duration": 35,
    "start_time": "2022-08-10T14:26:41.214Z"
   },
   {
    "duration": 36,
    "start_time": "2022-08-10T14:26:41.252Z"
   },
   {
    "duration": 114,
    "start_time": "2022-08-10T14:26:41.290Z"
   },
   {
    "duration": 0,
    "start_time": "2022-08-10T14:26:41.406Z"
   },
   {
    "duration": 515,
    "start_time": "2022-08-10T14:27:26.528Z"
   },
   {
    "duration": 23,
    "start_time": "2022-08-10T14:27:27.045Z"
   },
   {
    "duration": 26,
    "start_time": "2022-08-10T14:27:27.070Z"
   },
   {
    "duration": 12,
    "start_time": "2022-08-10T14:27:27.098Z"
   },
   {
    "duration": 53,
    "start_time": "2022-08-10T14:27:27.111Z"
   },
   {
    "duration": 3,
    "start_time": "2022-08-10T14:27:27.166Z"
   },
   {
    "duration": 19,
    "start_time": "2022-08-10T14:27:27.171Z"
   },
   {
    "duration": 30,
    "start_time": "2022-08-10T14:27:27.192Z"
   },
   {
    "duration": 19,
    "start_time": "2022-08-10T14:27:27.224Z"
   },
   {
    "duration": 10,
    "start_time": "2022-08-10T14:27:27.246Z"
   },
   {
    "duration": 45,
    "start_time": "2022-08-10T14:27:27.258Z"
   },
   {
    "duration": 10,
    "start_time": "2022-08-10T14:27:27.305Z"
   },
   {
    "duration": 14,
    "start_time": "2022-08-10T14:27:27.316Z"
   },
   {
    "duration": 30,
    "start_time": "2022-08-10T14:27:27.332Z"
   },
   {
    "duration": 33,
    "start_time": "2022-08-10T14:27:27.364Z"
   },
   {
    "duration": 20,
    "start_time": "2022-08-10T14:27:27.398Z"
   },
   {
    "duration": 11,
    "start_time": "2022-08-10T14:27:27.420Z"
   },
   {
    "duration": 33,
    "start_time": "2022-08-10T14:27:27.433Z"
   },
   {
    "duration": 31,
    "start_time": "2022-08-10T14:27:27.468Z"
   },
   {
    "duration": 15,
    "start_time": "2022-08-10T14:27:27.501Z"
   },
   {
    "duration": 21,
    "start_time": "2022-08-10T14:27:27.519Z"
   },
   {
    "duration": 39,
    "start_time": "2022-08-10T14:27:27.542Z"
   },
   {
    "duration": 22,
    "start_time": "2022-08-10T14:27:27.582Z"
   },
   {
    "duration": 21,
    "start_time": "2022-08-10T14:27:27.606Z"
   },
   {
    "duration": 7,
    "start_time": "2022-08-10T14:27:27.629Z"
   },
   {
    "duration": 465,
    "start_time": "2022-08-10T14:31:10.223Z"
   },
   {
    "duration": 26,
    "start_time": "2022-08-10T14:31:10.692Z"
   },
   {
    "duration": 49,
    "start_time": "2022-08-10T14:31:10.720Z"
   },
   {
    "duration": 10,
    "start_time": "2022-08-10T14:31:10.771Z"
   },
   {
    "duration": 37,
    "start_time": "2022-08-10T14:31:10.783Z"
   },
   {
    "duration": 4,
    "start_time": "2022-08-10T14:31:10.822Z"
   },
   {
    "duration": 11,
    "start_time": "2022-08-10T14:31:10.828Z"
   },
   {
    "duration": 5,
    "start_time": "2022-08-10T14:31:10.867Z"
   },
   {
    "duration": 18,
    "start_time": "2022-08-10T14:31:10.875Z"
   },
   {
    "duration": 10,
    "start_time": "2022-08-10T14:31:10.895Z"
   },
   {
    "duration": 45,
    "start_time": "2022-08-10T14:31:10.907Z"
   },
   {
    "duration": 17,
    "start_time": "2022-08-10T14:31:10.954Z"
   },
   {
    "duration": 16,
    "start_time": "2022-08-10T14:31:10.973Z"
   },
   {
    "duration": 16,
    "start_time": "2022-08-10T14:31:10.991Z"
   },
   {
    "duration": 40,
    "start_time": "2022-08-10T14:31:11.008Z"
   },
   {
    "duration": 24,
    "start_time": "2022-08-10T14:31:11.049Z"
   },
   {
    "duration": 5,
    "start_time": "2022-08-10T14:31:11.074Z"
   },
   {
    "duration": 13,
    "start_time": "2022-08-10T14:31:11.081Z"
   },
   {
    "duration": 7,
    "start_time": "2022-08-10T14:31:11.096Z"
   },
   {
    "duration": 7,
    "start_time": "2022-08-10T14:31:11.105Z"
   },
   {
    "duration": 15,
    "start_time": "2022-08-10T14:31:11.113Z"
   },
   {
    "duration": 55,
    "start_time": "2022-08-10T14:31:11.130Z"
   },
   {
    "duration": 24,
    "start_time": "2022-08-10T14:31:11.186Z"
   },
   {
    "duration": 25,
    "start_time": "2022-08-10T14:31:11.211Z"
   },
   {
    "duration": 101,
    "start_time": "2022-08-10T14:31:11.237Z"
   },
   {
    "duration": 498,
    "start_time": "2022-08-10T14:31:59.509Z"
   },
   {
    "duration": 28,
    "start_time": "2022-08-10T14:32:00.009Z"
   },
   {
    "duration": 37,
    "start_time": "2022-08-10T14:32:00.039Z"
   },
   {
    "duration": 12,
    "start_time": "2022-08-10T14:32:00.079Z"
   },
   {
    "duration": 48,
    "start_time": "2022-08-10T14:32:00.094Z"
   },
   {
    "duration": 4,
    "start_time": "2022-08-10T14:32:00.145Z"
   },
   {
    "duration": 68,
    "start_time": "2022-08-10T14:32:00.150Z"
   },
   {
    "duration": 7,
    "start_time": "2022-08-10T14:32:00.220Z"
   },
   {
    "duration": 39,
    "start_time": "2022-08-10T14:32:00.228Z"
   },
   {
    "duration": 27,
    "start_time": "2022-08-10T14:32:00.270Z"
   },
   {
    "duration": 65,
    "start_time": "2022-08-10T14:32:00.298Z"
   },
   {
    "duration": 34,
    "start_time": "2022-08-10T14:32:00.365Z"
   },
   {
    "duration": 103,
    "start_time": "2022-08-10T14:32:00.401Z"
   },
   {
    "duration": 64,
    "start_time": "2022-08-10T14:32:00.506Z"
   },
   {
    "duration": 67,
    "start_time": "2022-08-10T14:32:00.573Z"
   },
   {
    "duration": 26,
    "start_time": "2022-08-10T14:32:00.642Z"
   },
   {
    "duration": 4,
    "start_time": "2022-08-10T14:32:00.670Z"
   },
   {
    "duration": 52,
    "start_time": "2022-08-10T14:32:00.676Z"
   },
   {
    "duration": 81,
    "start_time": "2022-08-10T14:32:00.730Z"
   },
   {
    "duration": 33,
    "start_time": "2022-08-10T14:32:00.813Z"
   },
   {
    "duration": 54,
    "start_time": "2022-08-10T14:32:00.849Z"
   },
   {
    "duration": 87,
    "start_time": "2022-08-10T14:32:00.905Z"
   },
   {
    "duration": 32,
    "start_time": "2022-08-10T14:32:00.994Z"
   },
   {
    "duration": 123,
    "start_time": "2022-08-10T14:32:01.028Z"
   },
   {
    "duration": 51,
    "start_time": "2022-08-10T14:32:01.153Z"
   },
   {
    "duration": 467,
    "start_time": "2022-08-10T14:34:05.408Z"
   },
   {
    "duration": 24,
    "start_time": "2022-08-10T14:34:05.877Z"
   },
   {
    "duration": 16,
    "start_time": "2022-08-10T14:34:05.902Z"
   },
   {
    "duration": 22,
    "start_time": "2022-08-10T14:34:05.920Z"
   },
   {
    "duration": 56,
    "start_time": "2022-08-10T14:34:05.944Z"
   },
   {
    "duration": 4,
    "start_time": "2022-08-10T14:34:06.002Z"
   },
   {
    "duration": 32,
    "start_time": "2022-08-10T14:34:06.007Z"
   },
   {
    "duration": 17,
    "start_time": "2022-08-10T14:34:06.041Z"
   },
   {
    "duration": 33,
    "start_time": "2022-08-10T14:34:06.060Z"
   },
   {
    "duration": 27,
    "start_time": "2022-08-10T14:34:06.096Z"
   },
   {
    "duration": 40,
    "start_time": "2022-08-10T14:34:06.125Z"
   },
   {
    "duration": 9,
    "start_time": "2022-08-10T14:34:06.167Z"
   },
   {
    "duration": 27,
    "start_time": "2022-08-10T14:34:06.178Z"
   },
   {
    "duration": 35,
    "start_time": "2022-08-10T14:34:06.207Z"
   },
   {
    "duration": 38,
    "start_time": "2022-08-10T14:34:06.243Z"
   },
   {
    "duration": 27,
    "start_time": "2022-08-10T14:34:06.283Z"
   },
   {
    "duration": 18,
    "start_time": "2022-08-10T14:34:06.311Z"
   },
   {
    "duration": 42,
    "start_time": "2022-08-10T14:34:06.331Z"
   },
   {
    "duration": 32,
    "start_time": "2022-08-10T14:34:06.375Z"
   },
   {
    "duration": 10,
    "start_time": "2022-08-10T14:34:06.409Z"
   },
   {
    "duration": 38,
    "start_time": "2022-08-10T14:34:06.421Z"
   },
   {
    "duration": 37,
    "start_time": "2022-08-10T14:34:06.461Z"
   },
   {
    "duration": 25,
    "start_time": "2022-08-10T14:34:06.500Z"
   },
   {
    "duration": 27,
    "start_time": "2022-08-10T14:34:06.528Z"
   },
   {
    "duration": 30,
    "start_time": "2022-08-10T14:34:06.568Z"
   },
   {
    "duration": 459,
    "start_time": "2022-08-10T14:38:57.506Z"
   },
   {
    "duration": 23,
    "start_time": "2022-08-10T14:38:57.967Z"
   },
   {
    "duration": 33,
    "start_time": "2022-08-10T14:38:57.992Z"
   },
   {
    "duration": 23,
    "start_time": "2022-08-10T14:38:58.027Z"
   },
   {
    "duration": 54,
    "start_time": "2022-08-10T14:38:58.052Z"
   },
   {
    "duration": 3,
    "start_time": "2022-08-10T14:38:58.108Z"
   },
   {
    "duration": 18,
    "start_time": "2022-08-10T14:38:58.113Z"
   },
   {
    "duration": 15,
    "start_time": "2022-08-10T14:38:58.133Z"
   },
   {
    "duration": 21,
    "start_time": "2022-08-10T14:38:58.150Z"
   },
   {
    "duration": 6,
    "start_time": "2022-08-10T14:38:58.174Z"
   },
   {
    "duration": 54,
    "start_time": "2022-08-10T14:38:58.182Z"
   },
   {
    "duration": 10,
    "start_time": "2022-08-10T14:38:58.238Z"
   },
   {
    "duration": 19,
    "start_time": "2022-08-10T14:38:58.250Z"
   },
   {
    "duration": 29,
    "start_time": "2022-08-10T14:38:58.271Z"
   },
   {
    "duration": 27,
    "start_time": "2022-08-10T14:38:58.302Z"
   },
   {
    "duration": 19,
    "start_time": "2022-08-10T14:38:58.330Z"
   },
   {
    "duration": 4,
    "start_time": "2022-08-10T14:38:58.350Z"
   },
   {
    "duration": 35,
    "start_time": "2022-08-10T14:38:58.356Z"
   },
   {
    "duration": 28,
    "start_time": "2022-08-10T14:38:58.393Z"
   },
   {
    "duration": 28,
    "start_time": "2022-08-10T14:38:58.423Z"
   },
   {
    "duration": 43,
    "start_time": "2022-08-10T14:38:58.453Z"
   },
   {
    "duration": 35,
    "start_time": "2022-08-10T14:38:58.498Z"
   },
   {
    "duration": 21,
    "start_time": "2022-08-10T14:38:58.534Z"
   },
   {
    "duration": 28,
    "start_time": "2022-08-10T14:38:58.557Z"
   },
   {
    "duration": 22,
    "start_time": "2022-08-10T14:38:58.587Z"
   },
   {
    "duration": 546,
    "start_time": "2022-08-10T14:40:26.651Z"
   },
   {
    "duration": 24,
    "start_time": "2022-08-10T14:40:27.200Z"
   },
   {
    "duration": 26,
    "start_time": "2022-08-10T14:40:27.226Z"
   },
   {
    "duration": 18,
    "start_time": "2022-08-10T14:40:27.254Z"
   },
   {
    "duration": 41,
    "start_time": "2022-08-10T14:40:27.274Z"
   },
   {
    "duration": 4,
    "start_time": "2022-08-10T14:40:27.317Z"
   },
   {
    "duration": 15,
    "start_time": "2022-08-10T14:40:27.323Z"
   },
   {
    "duration": 28,
    "start_time": "2022-08-10T14:40:27.340Z"
   },
   {
    "duration": 7,
    "start_time": "2022-08-10T14:40:27.370Z"
   },
   {
    "duration": 10,
    "start_time": "2022-08-10T14:40:27.380Z"
   },
   {
    "duration": 49,
    "start_time": "2022-08-10T14:40:27.392Z"
   },
   {
    "duration": 26,
    "start_time": "2022-08-10T14:40:27.443Z"
   },
   {
    "duration": 3,
    "start_time": "2022-08-10T14:40:27.471Z"
   },
   {
    "duration": 22,
    "start_time": "2022-08-10T14:40:27.476Z"
   },
   {
    "duration": 38,
    "start_time": "2022-08-10T14:40:27.501Z"
   },
   {
    "duration": 19,
    "start_time": "2022-08-10T14:40:27.541Z"
   },
   {
    "duration": 12,
    "start_time": "2022-08-10T14:40:27.568Z"
   },
   {
    "duration": 15,
    "start_time": "2022-08-10T14:40:27.582Z"
   },
   {
    "duration": 9,
    "start_time": "2022-08-10T14:40:27.599Z"
   },
   {
    "duration": 15,
    "start_time": "2022-08-10T14:40:27.610Z"
   },
   {
    "duration": 15,
    "start_time": "2022-08-10T14:40:27.627Z"
   },
   {
    "duration": 37,
    "start_time": "2022-08-10T14:40:27.644Z"
   },
   {
    "duration": 23,
    "start_time": "2022-08-10T14:40:27.683Z"
   },
   {
    "duration": 321,
    "start_time": "2022-08-10T14:40:27.708Z"
   },
   {
    "duration": 0,
    "start_time": "2022-08-10T14:40:28.030Z"
   },
   {
    "duration": 513,
    "start_time": "2022-08-10T14:40:49.774Z"
   },
   {
    "duration": 25,
    "start_time": "2022-08-10T14:40:50.289Z"
   },
   {
    "duration": 17,
    "start_time": "2022-08-10T14:40:50.316Z"
   },
   {
    "duration": 34,
    "start_time": "2022-08-10T14:40:50.335Z"
   },
   {
    "duration": 39,
    "start_time": "2022-08-10T14:40:50.371Z"
   },
   {
    "duration": 19,
    "start_time": "2022-08-10T14:40:50.412Z"
   },
   {
    "duration": 15,
    "start_time": "2022-08-10T14:40:50.433Z"
   },
   {
    "duration": 19,
    "start_time": "2022-08-10T14:40:50.450Z"
   },
   {
    "duration": 16,
    "start_time": "2022-08-10T14:40:50.471Z"
   },
   {
    "duration": 13,
    "start_time": "2022-08-10T14:40:50.490Z"
   },
   {
    "duration": 54,
    "start_time": "2022-08-10T14:40:50.505Z"
   },
   {
    "duration": 10,
    "start_time": "2022-08-10T14:40:50.561Z"
   },
   {
    "duration": 11,
    "start_time": "2022-08-10T14:40:50.573Z"
   },
   {
    "duration": 27,
    "start_time": "2022-08-10T14:40:50.586Z"
   },
   {
    "duration": 31,
    "start_time": "2022-08-10T14:40:50.615Z"
   },
   {
    "duration": 24,
    "start_time": "2022-08-10T14:40:50.648Z"
   },
   {
    "duration": 4,
    "start_time": "2022-08-10T14:40:50.674Z"
   },
   {
    "duration": 22,
    "start_time": "2022-08-10T14:40:50.681Z"
   },
   {
    "duration": 16,
    "start_time": "2022-08-10T14:40:50.705Z"
   },
   {
    "duration": 4,
    "start_time": "2022-08-10T14:40:50.723Z"
   },
   {
    "duration": 15,
    "start_time": "2022-08-10T14:40:50.729Z"
   },
   {
    "duration": 43,
    "start_time": "2022-08-10T14:40:50.745Z"
   },
   {
    "duration": 23,
    "start_time": "2022-08-10T14:40:50.790Z"
   },
   {
    "duration": 59,
    "start_time": "2022-08-10T14:40:50.816Z"
   },
   {
    "duration": 24,
    "start_time": "2022-08-10T14:40:50.877Z"
   },
   {
    "duration": 590,
    "start_time": "2022-08-10T14:43:06.260Z"
   },
   {
    "duration": 33,
    "start_time": "2022-08-10T14:43:06.852Z"
   },
   {
    "duration": 18,
    "start_time": "2022-08-10T14:43:06.887Z"
   },
   {
    "duration": 11,
    "start_time": "2022-08-10T14:43:06.908Z"
   },
   {
    "duration": 59,
    "start_time": "2022-08-10T14:43:06.921Z"
   },
   {
    "duration": 5,
    "start_time": "2022-08-10T14:43:06.981Z"
   },
   {
    "duration": 21,
    "start_time": "2022-08-10T14:43:06.987Z"
   },
   {
    "duration": 5,
    "start_time": "2022-08-10T14:43:07.010Z"
   },
   {
    "duration": 13,
    "start_time": "2022-08-10T14:43:07.016Z"
   },
   {
    "duration": 6,
    "start_time": "2022-08-10T14:43:07.031Z"
   },
   {
    "duration": 62,
    "start_time": "2022-08-10T14:43:07.038Z"
   },
   {
    "duration": 10,
    "start_time": "2022-08-10T14:43:07.102Z"
   },
   {
    "duration": 6,
    "start_time": "2022-08-10T14:43:07.114Z"
   },
   {
    "duration": 16,
    "start_time": "2022-08-10T14:43:07.121Z"
   },
   {
    "duration": 47,
    "start_time": "2022-08-10T14:43:07.138Z"
   },
   {
    "duration": 20,
    "start_time": "2022-08-10T14:43:07.187Z"
   },
   {
    "duration": 4,
    "start_time": "2022-08-10T14:43:07.209Z"
   },
   {
    "duration": 20,
    "start_time": "2022-08-10T14:43:07.215Z"
   },
   {
    "duration": 33,
    "start_time": "2022-08-10T14:43:07.237Z"
   },
   {
    "duration": 6,
    "start_time": "2022-08-10T14:43:07.272Z"
   },
   {
    "duration": 14,
    "start_time": "2022-08-10T14:43:07.280Z"
   },
   {
    "duration": 33,
    "start_time": "2022-08-10T14:43:07.296Z"
   },
   {
    "duration": 47,
    "start_time": "2022-08-10T14:43:07.330Z"
   },
   {
    "duration": 35,
    "start_time": "2022-08-10T14:43:07.378Z"
   },
   {
    "duration": 21,
    "start_time": "2022-08-10T14:43:07.415Z"
   },
   {
    "duration": 489,
    "start_time": "2022-08-10T14:59:12.985Z"
   },
   {
    "duration": 27,
    "start_time": "2022-08-10T14:59:13.476Z"
   },
   {
    "duration": 18,
    "start_time": "2022-08-10T14:59:13.505Z"
   },
   {
    "duration": 10,
    "start_time": "2022-08-10T14:59:13.525Z"
   },
   {
    "duration": 64,
    "start_time": "2022-08-10T14:59:13.537Z"
   },
   {
    "duration": 4,
    "start_time": "2022-08-10T14:59:13.603Z"
   },
   {
    "duration": 14,
    "start_time": "2022-08-10T14:59:13.609Z"
   },
   {
    "duration": 4,
    "start_time": "2022-08-10T14:59:13.625Z"
   },
   {
    "duration": 9,
    "start_time": "2022-08-10T14:59:13.631Z"
   },
   {
    "duration": 5,
    "start_time": "2022-08-10T14:59:13.667Z"
   },
   {
    "duration": 37,
    "start_time": "2022-08-10T14:59:13.674Z"
   },
   {
    "duration": 12,
    "start_time": "2022-08-10T14:59:13.713Z"
   },
   {
    "duration": 12,
    "start_time": "2022-08-10T14:59:13.727Z"
   },
   {
    "duration": 34,
    "start_time": "2022-08-10T14:59:13.741Z"
   },
   {
    "duration": 28,
    "start_time": "2022-08-10T14:59:13.777Z"
   },
   {
    "duration": 18,
    "start_time": "2022-08-10T14:59:13.807Z"
   },
   {
    "duration": 3,
    "start_time": "2022-08-10T14:59:13.827Z"
   },
   {
    "duration": 15,
    "start_time": "2022-08-10T14:59:13.832Z"
   },
   {
    "duration": 7,
    "start_time": "2022-08-10T14:59:13.867Z"
   },
   {
    "duration": 5,
    "start_time": "2022-08-10T14:59:13.876Z"
   },
   {
    "duration": 15,
    "start_time": "2022-08-10T14:59:13.883Z"
   },
   {
    "duration": 33,
    "start_time": "2022-08-10T14:59:13.900Z"
   },
   {
    "duration": 51,
    "start_time": "2022-08-10T14:59:13.935Z"
   },
   {
    "duration": 46,
    "start_time": "2022-08-10T14:59:13.988Z"
   },
   {
    "duration": 38,
    "start_time": "2022-08-10T14:59:14.036Z"
   },
   {
    "duration": 462,
    "start_time": "2022-08-10T14:59:52.419Z"
   },
   {
    "duration": 24,
    "start_time": "2022-08-10T14:59:52.884Z"
   },
   {
    "duration": 16,
    "start_time": "2022-08-10T14:59:52.910Z"
   },
   {
    "duration": 10,
    "start_time": "2022-08-10T14:59:52.928Z"
   },
   {
    "duration": 59,
    "start_time": "2022-08-10T14:59:52.939Z"
   },
   {
    "duration": 4,
    "start_time": "2022-08-10T14:59:53.000Z"
   },
   {
    "duration": 32,
    "start_time": "2022-08-10T14:59:53.005Z"
   },
   {
    "duration": 24,
    "start_time": "2022-08-10T14:59:53.039Z"
   },
   {
    "duration": 11,
    "start_time": "2022-08-10T14:59:53.065Z"
   },
   {
    "duration": 4,
    "start_time": "2022-08-10T14:59:53.079Z"
   },
   {
    "duration": 50,
    "start_time": "2022-08-10T14:59:53.085Z"
   },
   {
    "duration": 10,
    "start_time": "2022-08-10T14:59:53.137Z"
   },
   {
    "duration": 7,
    "start_time": "2022-08-10T14:59:53.149Z"
   },
   {
    "duration": 29,
    "start_time": "2022-08-10T14:59:53.169Z"
   },
   {
    "duration": 36,
    "start_time": "2022-08-10T14:59:53.200Z"
   },
   {
    "duration": 19,
    "start_time": "2022-08-10T14:59:53.238Z"
   },
   {
    "duration": 11,
    "start_time": "2022-08-10T14:59:53.259Z"
   },
   {
    "duration": 12,
    "start_time": "2022-08-10T14:59:53.272Z"
   },
   {
    "duration": 7,
    "start_time": "2022-08-10T14:59:53.286Z"
   },
   {
    "duration": 4,
    "start_time": "2022-08-10T14:59:53.296Z"
   },
   {
    "duration": 11,
    "start_time": "2022-08-10T14:59:53.302Z"
   },
   {
    "duration": 57,
    "start_time": "2022-08-10T14:59:53.315Z"
   },
   {
    "duration": 25,
    "start_time": "2022-08-10T14:59:53.374Z"
   },
   {
    "duration": 36,
    "start_time": "2022-08-10T14:59:53.402Z"
   },
   {
    "duration": 24,
    "start_time": "2022-08-10T14:59:53.467Z"
   },
   {
    "duration": 527,
    "start_time": "2022-08-10T15:04:08.858Z"
   },
   {
    "duration": 27,
    "start_time": "2022-08-10T15:04:09.387Z"
   },
   {
    "duration": 20,
    "start_time": "2022-08-10T15:04:09.415Z"
   },
   {
    "duration": 30,
    "start_time": "2022-08-10T15:04:09.438Z"
   },
   {
    "duration": 41,
    "start_time": "2022-08-10T15:04:09.470Z"
   },
   {
    "duration": 5,
    "start_time": "2022-08-10T15:04:09.514Z"
   },
   {
    "duration": 38,
    "start_time": "2022-08-10T15:04:09.521Z"
   },
   {
    "duration": 6,
    "start_time": "2022-08-10T15:04:09.569Z"
   },
   {
    "duration": 11,
    "start_time": "2022-08-10T15:04:09.578Z"
   },
   {
    "duration": 6,
    "start_time": "2022-08-10T15:04:09.595Z"
   },
   {
    "duration": 66,
    "start_time": "2022-08-10T15:04:09.602Z"
   },
   {
    "duration": 10,
    "start_time": "2022-08-10T15:04:09.670Z"
   },
   {
    "duration": 5,
    "start_time": "2022-08-10T15:04:09.682Z"
   },
   {
    "duration": 17,
    "start_time": "2022-08-10T15:04:09.690Z"
   },
   {
    "duration": 24,
    "start_time": "2022-08-10T15:04:09.709Z"
   },
   {
    "duration": 42,
    "start_time": "2022-08-10T15:04:09.735Z"
   },
   {
    "duration": 5,
    "start_time": "2022-08-10T15:04:09.778Z"
   },
   {
    "duration": 14,
    "start_time": "2022-08-10T15:04:09.785Z"
   },
   {
    "duration": 7,
    "start_time": "2022-08-10T15:04:09.801Z"
   },
   {
    "duration": 4,
    "start_time": "2022-08-10T15:04:09.810Z"
   },
   {
    "duration": 12,
    "start_time": "2022-08-10T15:04:09.816Z"
   },
   {
    "duration": 64,
    "start_time": "2022-08-10T15:04:09.831Z"
   },
   {
    "duration": 26,
    "start_time": "2022-08-10T15:04:09.897Z"
   },
   {
    "duration": 66,
    "start_time": "2022-08-10T15:04:09.925Z"
   },
   {
    "duration": 28,
    "start_time": "2022-08-10T15:04:09.993Z"
   },
   {
    "duration": 534,
    "start_time": "2022-08-10T15:05:22.639Z"
   },
   {
    "duration": 26,
    "start_time": "2022-08-10T15:05:23.175Z"
   },
   {
    "duration": 16,
    "start_time": "2022-08-10T15:05:23.203Z"
   },
   {
    "duration": 11,
    "start_time": "2022-08-10T15:05:23.221Z"
   },
   {
    "duration": 65,
    "start_time": "2022-08-10T15:05:23.233Z"
   },
   {
    "duration": 3,
    "start_time": "2022-08-10T15:05:23.300Z"
   },
   {
    "duration": 16,
    "start_time": "2022-08-10T15:05:23.305Z"
   },
   {
    "duration": 7,
    "start_time": "2022-08-10T15:05:23.323Z"
   },
   {
    "duration": 11,
    "start_time": "2022-08-10T15:05:23.332Z"
   },
   {
    "duration": 25,
    "start_time": "2022-08-10T15:05:23.346Z"
   },
   {
    "duration": 48,
    "start_time": "2022-08-10T15:05:23.373Z"
   },
   {
    "duration": 11,
    "start_time": "2022-08-10T15:05:23.422Z"
   },
   {
    "duration": 14,
    "start_time": "2022-08-10T15:05:23.435Z"
   },
   {
    "duration": 28,
    "start_time": "2022-08-10T15:05:23.450Z"
   },
   {
    "duration": 32,
    "start_time": "2022-08-10T15:05:23.480Z"
   },
   {
    "duration": 19,
    "start_time": "2022-08-10T15:05:23.513Z"
   },
   {
    "duration": 8,
    "start_time": "2022-08-10T15:05:23.534Z"
   },
   {
    "duration": 24,
    "start_time": "2022-08-10T15:05:23.544Z"
   },
   {
    "duration": 13,
    "start_time": "2022-08-10T15:05:23.570Z"
   },
   {
    "duration": 8,
    "start_time": "2022-08-10T15:05:23.585Z"
   },
   {
    "duration": 12,
    "start_time": "2022-08-10T15:05:23.595Z"
   },
   {
    "duration": 33,
    "start_time": "2022-08-10T15:05:23.609Z"
   },
   {
    "duration": 37,
    "start_time": "2022-08-10T15:05:23.644Z"
   },
   {
    "duration": 38,
    "start_time": "2022-08-10T15:05:23.683Z"
   },
   {
    "duration": 48,
    "start_time": "2022-08-10T15:05:23.722Z"
   },
   {
    "duration": 479,
    "start_time": "2022-08-10T15:09:20.084Z"
   },
   {
    "duration": 23,
    "start_time": "2022-08-10T15:09:20.565Z"
   },
   {
    "duration": 20,
    "start_time": "2022-08-10T15:09:20.590Z"
   },
   {
    "duration": 9,
    "start_time": "2022-08-10T15:09:20.613Z"
   },
   {
    "duration": 50,
    "start_time": "2022-08-10T15:09:20.624Z"
   },
   {
    "duration": 4,
    "start_time": "2022-08-10T15:09:20.676Z"
   },
   {
    "duration": 14,
    "start_time": "2022-08-10T15:09:20.682Z"
   },
   {
    "duration": 5,
    "start_time": "2022-08-10T15:09:20.699Z"
   },
   {
    "duration": 13,
    "start_time": "2022-08-10T15:09:20.706Z"
   },
   {
    "duration": 5,
    "start_time": "2022-08-10T15:09:20.722Z"
   },
   {
    "duration": 69,
    "start_time": "2022-08-10T15:09:20.729Z"
   },
   {
    "duration": 10,
    "start_time": "2022-08-10T15:09:20.800Z"
   },
   {
    "duration": 5,
    "start_time": "2022-08-10T15:09:20.812Z"
   },
   {
    "duration": 13,
    "start_time": "2022-08-10T15:09:20.819Z"
   },
   {
    "duration": 45,
    "start_time": "2022-08-10T15:09:20.834Z"
   },
   {
    "duration": 19,
    "start_time": "2022-08-10T15:09:20.881Z"
   },
   {
    "duration": 5,
    "start_time": "2022-08-10T15:09:20.902Z"
   },
   {
    "duration": 14,
    "start_time": "2022-08-10T15:09:20.909Z"
   },
   {
    "duration": 10,
    "start_time": "2022-08-10T15:09:20.925Z"
   },
   {
    "duration": 30,
    "start_time": "2022-08-10T15:09:20.938Z"
   },
   {
    "duration": 13,
    "start_time": "2022-08-10T15:09:20.970Z"
   },
   {
    "duration": 29,
    "start_time": "2022-08-10T15:09:20.985Z"
   },
   {
    "duration": 24,
    "start_time": "2022-08-10T15:09:21.016Z"
   },
   {
    "duration": 98,
    "start_time": "2022-08-10T15:09:21.042Z"
   },
   {
    "duration": 0,
    "start_time": "2022-08-10T15:09:21.142Z"
   },
   {
    "duration": 448,
    "start_time": "2022-08-10T15:09:36.918Z"
   },
   {
    "duration": 24,
    "start_time": "2022-08-10T15:09:37.368Z"
   },
   {
    "duration": 17,
    "start_time": "2022-08-10T15:09:37.393Z"
   },
   {
    "duration": 11,
    "start_time": "2022-08-10T15:09:37.413Z"
   },
   {
    "duration": 71,
    "start_time": "2022-08-10T15:09:37.426Z"
   },
   {
    "duration": 4,
    "start_time": "2022-08-10T15:09:37.498Z"
   },
   {
    "duration": 12,
    "start_time": "2022-08-10T15:09:37.504Z"
   },
   {
    "duration": 7,
    "start_time": "2022-08-10T15:09:37.518Z"
   },
   {
    "duration": 9,
    "start_time": "2022-08-10T15:09:37.526Z"
   },
   {
    "duration": 5,
    "start_time": "2022-08-10T15:09:37.538Z"
   },
   {
    "duration": 34,
    "start_time": "2022-08-10T15:09:37.569Z"
   },
   {
    "duration": 9,
    "start_time": "2022-08-10T15:09:37.605Z"
   },
   {
    "duration": 6,
    "start_time": "2022-08-10T15:09:37.616Z"
   },
   {
    "duration": 14,
    "start_time": "2022-08-10T15:09:37.624Z"
   },
   {
    "duration": 46,
    "start_time": "2022-08-10T15:09:37.640Z"
   },
   {
    "duration": 19,
    "start_time": "2022-08-10T15:09:37.688Z"
   },
   {
    "duration": 3,
    "start_time": "2022-08-10T15:09:37.710Z"
   },
   {
    "duration": 14,
    "start_time": "2022-08-10T15:09:37.715Z"
   },
   {
    "duration": 9,
    "start_time": "2022-08-10T15:09:37.731Z"
   },
   {
    "duration": 28,
    "start_time": "2022-08-10T15:09:37.742Z"
   },
   {
    "duration": 17,
    "start_time": "2022-08-10T15:09:37.772Z"
   },
   {
    "duration": 34,
    "start_time": "2022-08-10T15:09:37.791Z"
   },
   {
    "duration": 46,
    "start_time": "2022-08-10T15:09:37.826Z"
   },
   {
    "duration": 34,
    "start_time": "2022-08-10T15:09:37.874Z"
   },
   {
    "duration": 21,
    "start_time": "2022-08-10T15:09:37.910Z"
   },
   {
    "duration": 473,
    "start_time": "2022-08-10T15:11:32.100Z"
   },
   {
    "duration": 24,
    "start_time": "2022-08-10T15:11:32.576Z"
   },
   {
    "duration": 16,
    "start_time": "2022-08-10T15:11:32.601Z"
   },
   {
    "duration": 11,
    "start_time": "2022-08-10T15:11:32.619Z"
   },
   {
    "duration": 61,
    "start_time": "2022-08-10T15:11:32.631Z"
   },
   {
    "duration": 4,
    "start_time": "2022-08-10T15:11:32.693Z"
   },
   {
    "duration": 12,
    "start_time": "2022-08-10T15:11:32.699Z"
   },
   {
    "duration": 8,
    "start_time": "2022-08-10T15:11:32.713Z"
   },
   {
    "duration": 10,
    "start_time": "2022-08-10T15:11:32.723Z"
   },
   {
    "duration": 6,
    "start_time": "2022-08-10T15:11:32.736Z"
   },
   {
    "duration": 39,
    "start_time": "2022-08-10T15:11:32.767Z"
   },
   {
    "duration": 10,
    "start_time": "2022-08-10T15:11:32.808Z"
   },
   {
    "duration": 9,
    "start_time": "2022-08-10T15:11:32.819Z"
   },
   {
    "duration": 15,
    "start_time": "2022-08-10T15:11:32.829Z"
   },
   {
    "duration": 39,
    "start_time": "2022-08-10T15:11:32.846Z"
   },
   {
    "duration": 18,
    "start_time": "2022-08-10T15:11:32.887Z"
   },
   {
    "duration": 4,
    "start_time": "2022-08-10T15:11:32.907Z"
   },
   {
    "duration": 14,
    "start_time": "2022-08-10T15:11:32.913Z"
   },
   {
    "duration": 10,
    "start_time": "2022-08-10T15:11:32.929Z"
   },
   {
    "duration": 28,
    "start_time": "2022-08-10T15:11:32.941Z"
   },
   {
    "duration": 16,
    "start_time": "2022-08-10T15:11:32.971Z"
   },
   {
    "duration": 33,
    "start_time": "2022-08-10T15:11:32.989Z"
   },
   {
    "duration": 23,
    "start_time": "2022-08-10T15:11:33.024Z"
   },
   {
    "duration": 39,
    "start_time": "2022-08-10T15:11:33.067Z"
   },
   {
    "duration": 24,
    "start_time": "2022-08-10T15:11:33.108Z"
   },
   {
    "duration": 496,
    "start_time": "2022-08-10T15:12:23.915Z"
   },
   {
    "duration": 29,
    "start_time": "2022-08-10T15:12:24.413Z"
   },
   {
    "duration": 37,
    "start_time": "2022-08-10T15:12:24.444Z"
   },
   {
    "duration": 13,
    "start_time": "2022-08-10T15:12:24.484Z"
   },
   {
    "duration": 41,
    "start_time": "2022-08-10T15:12:24.499Z"
   },
   {
    "duration": 28,
    "start_time": "2022-08-10T15:12:24.542Z"
   },
   {
    "duration": 17,
    "start_time": "2022-08-10T15:12:24.572Z"
   },
   {
    "duration": 8,
    "start_time": "2022-08-10T15:12:24.592Z"
   },
   {
    "duration": 11,
    "start_time": "2022-08-10T15:12:24.602Z"
   },
   {
    "duration": 5,
    "start_time": "2022-08-10T15:12:24.617Z"
   },
   {
    "duration": 72,
    "start_time": "2022-08-10T15:12:24.624Z"
   },
   {
    "duration": 13,
    "start_time": "2022-08-10T15:12:24.698Z"
   },
   {
    "duration": 5,
    "start_time": "2022-08-10T15:12:24.713Z"
   },
   {
    "duration": 20,
    "start_time": "2022-08-10T15:12:24.720Z"
   },
   {
    "duration": 45,
    "start_time": "2022-08-10T15:12:24.743Z"
   },
   {
    "duration": 21,
    "start_time": "2022-08-10T15:12:24.790Z"
   },
   {
    "duration": 5,
    "start_time": "2022-08-10T15:12:24.813Z"
   },
   {
    "duration": 17,
    "start_time": "2022-08-10T15:12:24.819Z"
   },
   {
    "duration": 31,
    "start_time": "2022-08-10T15:12:24.838Z"
   },
   {
    "duration": 5,
    "start_time": "2022-08-10T15:12:24.871Z"
   },
   {
    "duration": 16,
    "start_time": "2022-08-10T15:12:24.877Z"
   },
   {
    "duration": 36,
    "start_time": "2022-08-10T15:12:24.895Z"
   },
   {
    "duration": 52,
    "start_time": "2022-08-10T15:12:24.933Z"
   },
   {
    "duration": 46,
    "start_time": "2022-08-10T15:12:24.987Z"
   },
   {
    "duration": 55,
    "start_time": "2022-08-10T15:12:25.036Z"
   },
   {
    "duration": 495,
    "start_time": "2022-08-10T15:19:35.999Z"
   },
   {
    "duration": 33,
    "start_time": "2022-08-10T15:19:36.496Z"
   },
   {
    "duration": 43,
    "start_time": "2022-08-10T15:19:36.532Z"
   },
   {
    "duration": 24,
    "start_time": "2022-08-10T15:19:36.578Z"
   },
   {
    "duration": 86,
    "start_time": "2022-08-10T15:19:36.604Z"
   },
   {
    "duration": 5,
    "start_time": "2022-08-10T15:19:36.692Z"
   },
   {
    "duration": 44,
    "start_time": "2022-08-10T15:19:36.699Z"
   },
   {
    "duration": 67,
    "start_time": "2022-08-10T15:19:36.747Z"
   },
   {
    "duration": 41,
    "start_time": "2022-08-10T15:19:36.816Z"
   },
   {
    "duration": 63,
    "start_time": "2022-08-10T15:19:36.860Z"
   },
   {
    "duration": 47,
    "start_time": "2022-08-10T15:19:36.925Z"
   },
   {
    "duration": 12,
    "start_time": "2022-08-10T15:19:36.973Z"
   },
   {
    "duration": 28,
    "start_time": "2022-08-10T15:19:36.987Z"
   },
   {
    "duration": 24,
    "start_time": "2022-08-10T15:19:37.017Z"
   },
   {
    "duration": 55,
    "start_time": "2022-08-10T15:19:37.043Z"
   },
   {
    "duration": 20,
    "start_time": "2022-08-10T15:19:37.100Z"
   },
   {
    "duration": 16,
    "start_time": "2022-08-10T15:19:37.123Z"
   },
   {
    "duration": 30,
    "start_time": "2022-08-10T15:19:37.140Z"
   },
   {
    "duration": 20,
    "start_time": "2022-08-10T15:19:37.172Z"
   },
   {
    "duration": 19,
    "start_time": "2022-08-10T15:19:37.194Z"
   },
   {
    "duration": 19,
    "start_time": "2022-08-10T15:19:37.215Z"
   },
   {
    "duration": 87,
    "start_time": "2022-08-10T15:19:37.236Z"
   },
   {
    "duration": 75,
    "start_time": "2022-08-10T15:19:37.325Z"
   },
   {
    "duration": 0,
    "start_time": "2022-08-10T15:19:37.402Z"
   },
   {
    "duration": 0,
    "start_time": "2022-08-10T15:19:37.403Z"
   },
   {
    "duration": 448,
    "start_time": "2022-08-10T15:19:54.903Z"
   },
   {
    "duration": 24,
    "start_time": "2022-08-10T15:19:55.353Z"
   },
   {
    "duration": 16,
    "start_time": "2022-08-10T15:19:55.378Z"
   },
   {
    "duration": 11,
    "start_time": "2022-08-10T15:19:55.396Z"
   },
   {
    "duration": 60,
    "start_time": "2022-08-10T15:19:55.408Z"
   },
   {
    "duration": 3,
    "start_time": "2022-08-10T15:19:55.470Z"
   },
   {
    "duration": 22,
    "start_time": "2022-08-10T15:19:55.475Z"
   },
   {
    "duration": 13,
    "start_time": "2022-08-10T15:19:55.500Z"
   },
   {
    "duration": 32,
    "start_time": "2022-08-10T15:19:55.515Z"
   },
   {
    "duration": 18,
    "start_time": "2022-08-10T15:19:55.550Z"
   },
   {
    "duration": 39,
    "start_time": "2022-08-10T15:19:55.571Z"
   },
   {
    "duration": 11,
    "start_time": "2022-08-10T15:19:55.613Z"
   },
   {
    "duration": 7,
    "start_time": "2022-08-10T15:19:55.626Z"
   },
   {
    "duration": 12,
    "start_time": "2022-08-10T15:19:55.635Z"
   },
   {
    "duration": 21,
    "start_time": "2022-08-10T15:19:55.668Z"
   },
   {
    "duration": 19,
    "start_time": "2022-08-10T15:19:55.691Z"
   },
   {
    "duration": 3,
    "start_time": "2022-08-10T15:19:55.712Z"
   },
   {
    "duration": 24,
    "start_time": "2022-08-10T15:19:55.717Z"
   },
   {
    "duration": 15,
    "start_time": "2022-08-10T15:19:55.742Z"
   },
   {
    "duration": 12,
    "start_time": "2022-08-10T15:19:55.759Z"
   },
   {
    "duration": 17,
    "start_time": "2022-08-10T15:19:55.773Z"
   },
   {
    "duration": 35,
    "start_time": "2022-08-10T15:19:55.792Z"
   },
   {
    "duration": 72,
    "start_time": "2022-08-10T15:19:55.828Z"
   },
   {
    "duration": 0,
    "start_time": "2022-08-10T15:19:55.902Z"
   },
   {
    "duration": 0,
    "start_time": "2022-08-10T15:19:55.903Z"
   },
   {
    "duration": 531,
    "start_time": "2022-08-10T15:20:14.561Z"
   },
   {
    "duration": 30,
    "start_time": "2022-08-10T15:20:15.094Z"
   },
   {
    "duration": 19,
    "start_time": "2022-08-10T15:20:15.125Z"
   },
   {
    "duration": 35,
    "start_time": "2022-08-10T15:20:15.147Z"
   },
   {
    "duration": 56,
    "start_time": "2022-08-10T15:20:15.184Z"
   },
   {
    "duration": 4,
    "start_time": "2022-08-10T15:20:15.242Z"
   },
   {
    "duration": 21,
    "start_time": "2022-08-10T15:20:15.248Z"
   },
   {
    "duration": 14,
    "start_time": "2022-08-10T15:20:15.271Z"
   },
   {
    "duration": 14,
    "start_time": "2022-08-10T15:20:15.288Z"
   },
   {
    "duration": 11,
    "start_time": "2022-08-10T15:20:15.307Z"
   },
   {
    "duration": 56,
    "start_time": "2022-08-10T15:20:15.320Z"
   },
   {
    "duration": 11,
    "start_time": "2022-08-10T15:20:15.378Z"
   },
   {
    "duration": 11,
    "start_time": "2022-08-10T15:20:15.390Z"
   },
   {
    "duration": 19,
    "start_time": "2022-08-10T15:20:15.403Z"
   },
   {
    "duration": 33,
    "start_time": "2022-08-10T15:20:15.424Z"
   },
   {
    "duration": 26,
    "start_time": "2022-08-10T15:20:15.459Z"
   },
   {
    "duration": 18,
    "start_time": "2022-08-10T15:20:15.487Z"
   },
   {
    "duration": 83,
    "start_time": "2022-08-10T15:20:15.507Z"
   },
   {
    "duration": 79,
    "start_time": "2022-08-10T15:20:15.592Z"
   },
   {
    "duration": 91,
    "start_time": "2022-08-10T15:20:15.673Z"
   },
   {
    "duration": 70,
    "start_time": "2022-08-10T15:20:15.766Z"
   },
   {
    "duration": 35,
    "start_time": "2022-08-10T15:20:15.838Z"
   },
   {
    "duration": 38,
    "start_time": "2022-08-10T15:20:15.875Z"
   },
   {
    "duration": 59,
    "start_time": "2022-08-10T15:20:15.915Z"
   },
   {
    "duration": 27,
    "start_time": "2022-08-10T15:20:15.976Z"
   },
   {
    "duration": 463,
    "start_time": "2022-08-10T15:43:19.715Z"
   },
   {
    "duration": 25,
    "start_time": "2022-08-10T15:43:20.180Z"
   },
   {
    "duration": 20,
    "start_time": "2022-08-10T15:43:20.207Z"
   },
   {
    "duration": 9,
    "start_time": "2022-08-10T15:43:20.229Z"
   },
   {
    "duration": 61,
    "start_time": "2022-08-10T15:43:20.240Z"
   },
   {
    "duration": 3,
    "start_time": "2022-08-10T15:43:20.303Z"
   },
   {
    "duration": 17,
    "start_time": "2022-08-10T15:43:20.308Z"
   },
   {
    "duration": 6,
    "start_time": "2022-08-10T15:43:20.326Z"
   },
   {
    "duration": 10,
    "start_time": "2022-08-10T15:43:20.333Z"
   },
   {
    "duration": 23,
    "start_time": "2022-08-10T15:43:20.346Z"
   },
   {
    "duration": 37,
    "start_time": "2022-08-10T15:43:20.370Z"
   },
   {
    "duration": 10,
    "start_time": "2022-08-10T15:43:20.409Z"
   },
   {
    "duration": 6,
    "start_time": "2022-08-10T15:43:20.421Z"
   },
   {
    "duration": 16,
    "start_time": "2022-08-10T15:43:20.429Z"
   },
   {
    "duration": 43,
    "start_time": "2022-08-10T15:43:20.447Z"
   },
   {
    "duration": 19,
    "start_time": "2022-08-10T15:43:20.492Z"
   },
   {
    "duration": 5,
    "start_time": "2022-08-10T15:43:20.513Z"
   },
   {
    "duration": 23,
    "start_time": "2022-08-10T15:43:20.520Z"
   },
   {
    "duration": 29,
    "start_time": "2022-08-10T15:43:20.545Z"
   },
   {
    "duration": 5,
    "start_time": "2022-08-10T15:43:20.577Z"
   },
   {
    "duration": 12,
    "start_time": "2022-08-10T15:43:20.584Z"
   },
   {
    "duration": 32,
    "start_time": "2022-08-10T15:43:20.598Z"
   },
   {
    "duration": 48,
    "start_time": "2022-08-10T15:43:20.632Z"
   },
   {
    "duration": 92,
    "start_time": "2022-08-10T15:43:20.682Z"
   },
   {
    "duration": 0,
    "start_time": "2022-08-10T15:43:20.776Z"
   },
   {
    "duration": 0,
    "start_time": "2022-08-10T15:43:20.777Z"
   },
   {
    "duration": 26,
    "start_time": "2022-08-10T15:43:44.247Z"
   },
   {
    "duration": 547,
    "start_time": "2022-08-10T15:43:49.145Z"
   },
   {
    "duration": 28,
    "start_time": "2022-08-10T15:43:49.694Z"
   },
   {
    "duration": 19,
    "start_time": "2022-08-10T15:43:49.724Z"
   },
   {
    "duration": 28,
    "start_time": "2022-08-10T15:43:49.745Z"
   },
   {
    "duration": 43,
    "start_time": "2022-08-10T15:43:49.775Z"
   },
   {
    "duration": 4,
    "start_time": "2022-08-10T15:43:49.821Z"
   },
   {
    "duration": 38,
    "start_time": "2022-08-10T15:43:49.827Z"
   },
   {
    "duration": 14,
    "start_time": "2022-08-10T15:43:49.867Z"
   },
   {
    "duration": 25,
    "start_time": "2022-08-10T15:43:49.883Z"
   },
   {
    "duration": 14,
    "start_time": "2022-08-10T15:43:49.912Z"
   },
   {
    "duration": 50,
    "start_time": "2022-08-10T15:43:49.928Z"
   },
   {
    "duration": 12,
    "start_time": "2022-08-10T15:43:49.980Z"
   },
   {
    "duration": 6,
    "start_time": "2022-08-10T15:43:49.994Z"
   },
   {
    "duration": 20,
    "start_time": "2022-08-10T15:43:50.002Z"
   },
   {
    "duration": 32,
    "start_time": "2022-08-10T15:43:50.024Z"
   },
   {
    "duration": 30,
    "start_time": "2022-08-10T15:43:50.057Z"
   },
   {
    "duration": 4,
    "start_time": "2022-08-10T15:43:50.089Z"
   },
   {
    "duration": 25,
    "start_time": "2022-08-10T15:43:50.096Z"
   },
   {
    "duration": 15,
    "start_time": "2022-08-10T15:43:50.124Z"
   },
   {
    "duration": 5,
    "start_time": "2022-08-10T15:43:50.141Z"
   },
   {
    "duration": 26,
    "start_time": "2022-08-10T15:43:50.147Z"
   },
   {
    "duration": 34,
    "start_time": "2022-08-10T15:43:50.175Z"
   },
   {
    "duration": 23,
    "start_time": "2022-08-10T15:43:50.210Z"
   },
   {
    "duration": 101,
    "start_time": "2022-08-10T15:43:50.235Z"
   },
   {
    "duration": 0,
    "start_time": "2022-08-10T15:43:50.338Z"
   },
   {
    "duration": 0,
    "start_time": "2022-08-10T15:43:50.340Z"
   },
   {
    "duration": 520,
    "start_time": "2022-08-10T15:44:29.244Z"
   },
   {
    "duration": 24,
    "start_time": "2022-08-10T15:44:29.767Z"
   },
   {
    "duration": 19,
    "start_time": "2022-08-10T15:44:29.793Z"
   },
   {
    "duration": 10,
    "start_time": "2022-08-10T15:44:29.814Z"
   },
   {
    "duration": 79,
    "start_time": "2022-08-10T15:44:29.825Z"
   },
   {
    "duration": 45,
    "start_time": "2022-08-10T15:44:29.906Z"
   },
   {
    "duration": 61,
    "start_time": "2022-08-10T15:44:29.952Z"
   },
   {
    "duration": 97,
    "start_time": "2022-08-10T15:44:30.015Z"
   },
   {
    "duration": 95,
    "start_time": "2022-08-10T15:44:30.115Z"
   },
   {
    "duration": 113,
    "start_time": "2022-08-10T15:44:30.215Z"
   },
   {
    "duration": 107,
    "start_time": "2022-08-10T15:44:30.330Z"
   },
   {
    "duration": 47,
    "start_time": "2022-08-10T15:44:30.439Z"
   },
   {
    "duration": 117,
    "start_time": "2022-08-10T15:44:30.488Z"
   },
   {
    "duration": 66,
    "start_time": "2022-08-10T15:44:30.607Z"
   },
   {
    "duration": 47,
    "start_time": "2022-08-10T15:44:30.674Z"
   },
   {
    "duration": 20,
    "start_time": "2022-08-10T15:44:30.723Z"
   },
   {
    "duration": 6,
    "start_time": "2022-08-10T15:44:30.745Z"
   },
   {
    "duration": 80,
    "start_time": "2022-08-10T15:44:30.752Z"
   },
   {
    "duration": 48,
    "start_time": "2022-08-10T15:44:30.834Z"
   },
   {
    "duration": 55,
    "start_time": "2022-08-10T15:44:30.884Z"
   },
   {
    "duration": 26,
    "start_time": "2022-08-10T15:44:30.942Z"
   },
   {
    "duration": 58,
    "start_time": "2022-08-10T15:44:30.970Z"
   },
   {
    "duration": 32,
    "start_time": "2022-08-10T15:44:31.030Z"
   },
   {
    "duration": 82,
    "start_time": "2022-08-10T15:44:31.064Z"
   },
   {
    "duration": 1,
    "start_time": "2022-08-10T15:44:31.148Z"
   },
   {
    "duration": 0,
    "start_time": "2022-08-10T15:44:31.150Z"
   },
   {
    "duration": 487,
    "start_time": "2022-08-10T15:45:01.389Z"
   },
   {
    "duration": 24,
    "start_time": "2022-08-10T15:45:01.878Z"
   },
   {
    "duration": 31,
    "start_time": "2022-08-10T15:45:01.904Z"
   },
   {
    "duration": 21,
    "start_time": "2022-08-10T15:45:01.939Z"
   },
   {
    "duration": 61,
    "start_time": "2022-08-10T15:45:01.961Z"
   },
   {
    "duration": 9,
    "start_time": "2022-08-10T15:45:02.024Z"
   },
   {
    "duration": 23,
    "start_time": "2022-08-10T15:45:02.035Z"
   },
   {
    "duration": 15,
    "start_time": "2022-08-10T15:45:02.061Z"
   },
   {
    "duration": 27,
    "start_time": "2022-08-10T15:45:02.078Z"
   },
   {
    "duration": 22,
    "start_time": "2022-08-10T15:45:02.110Z"
   },
   {
    "duration": 61,
    "start_time": "2022-08-10T15:45:02.135Z"
   },
   {
    "duration": 11,
    "start_time": "2022-08-10T15:45:02.198Z"
   },
   {
    "duration": 12,
    "start_time": "2022-08-10T15:45:02.211Z"
   },
   {
    "duration": 30,
    "start_time": "2022-08-10T15:45:02.225Z"
   },
   {
    "duration": 32,
    "start_time": "2022-08-10T15:45:02.257Z"
   },
   {
    "duration": 19,
    "start_time": "2022-08-10T15:45:02.292Z"
   },
   {
    "duration": 5,
    "start_time": "2022-08-10T15:45:02.313Z"
   },
   {
    "duration": 20,
    "start_time": "2022-08-10T15:45:02.320Z"
   },
   {
    "duration": 26,
    "start_time": "2022-08-10T15:45:02.342Z"
   },
   {
    "duration": 5,
    "start_time": "2022-08-10T15:45:02.370Z"
   },
   {
    "duration": 20,
    "start_time": "2022-08-10T15:45:02.377Z"
   },
   {
    "duration": 31,
    "start_time": "2022-08-10T15:45:02.399Z"
   },
   {
    "duration": 41,
    "start_time": "2022-08-10T15:45:02.432Z"
   },
   {
    "duration": 38,
    "start_time": "2022-08-10T15:45:02.475Z"
   },
   {
    "duration": 24,
    "start_time": "2022-08-10T15:45:02.515Z"
   },
   {
    "duration": 148,
    "start_time": "2022-08-10T15:45:02.541Z"
   },
   {
    "duration": 473,
    "start_time": "2022-08-10T15:45:29.100Z"
   },
   {
    "duration": 25,
    "start_time": "2022-08-10T15:45:29.575Z"
   },
   {
    "duration": 18,
    "start_time": "2022-08-10T15:45:29.604Z"
   },
   {
    "duration": 11,
    "start_time": "2022-08-10T15:45:29.625Z"
   },
   {
    "duration": 68,
    "start_time": "2022-08-10T15:45:29.638Z"
   },
   {
    "duration": 5,
    "start_time": "2022-08-10T15:45:29.708Z"
   },
   {
    "duration": 13,
    "start_time": "2022-08-10T15:45:29.714Z"
   },
   {
    "duration": 9,
    "start_time": "2022-08-10T15:45:29.729Z"
   },
   {
    "duration": 33,
    "start_time": "2022-08-10T15:45:29.741Z"
   },
   {
    "duration": 6,
    "start_time": "2022-08-10T15:45:29.776Z"
   },
   {
    "duration": 41,
    "start_time": "2022-08-10T15:45:29.784Z"
   },
   {
    "duration": 11,
    "start_time": "2022-08-10T15:45:29.827Z"
   },
   {
    "duration": 30,
    "start_time": "2022-08-10T15:45:29.840Z"
   },
   {
    "duration": 14,
    "start_time": "2022-08-10T15:45:29.872Z"
   },
   {
    "duration": 27,
    "start_time": "2022-08-10T15:45:29.888Z"
   },
   {
    "duration": 20,
    "start_time": "2022-08-10T15:45:29.917Z"
   },
   {
    "duration": 30,
    "start_time": "2022-08-10T15:45:29.939Z"
   },
   {
    "duration": 14,
    "start_time": "2022-08-10T15:45:29.971Z"
   },
   {
    "duration": 17,
    "start_time": "2022-08-10T15:45:29.987Z"
   },
   {
    "duration": 14,
    "start_time": "2022-08-10T15:45:30.006Z"
   },
   {
    "duration": 19,
    "start_time": "2022-08-10T15:45:30.022Z"
   },
   {
    "duration": 67,
    "start_time": "2022-08-10T15:45:30.043Z"
   },
   {
    "duration": 35,
    "start_time": "2022-08-10T15:45:30.111Z"
   },
   {
    "duration": 37,
    "start_time": "2022-08-10T15:45:30.148Z"
   },
   {
    "duration": 22,
    "start_time": "2022-08-10T15:45:30.187Z"
   },
   {
    "duration": 90,
    "start_time": "2022-08-10T15:45:30.211Z"
   },
   {
    "duration": 485,
    "start_time": "2022-08-10T15:48:04.810Z"
   },
   {
    "duration": 24,
    "start_time": "2022-08-10T15:48:05.297Z"
   },
   {
    "duration": 15,
    "start_time": "2022-08-10T15:48:05.323Z"
   },
   {
    "duration": 30,
    "start_time": "2022-08-10T15:48:05.340Z"
   },
   {
    "duration": 36,
    "start_time": "2022-08-10T15:48:05.371Z"
   },
   {
    "duration": 5,
    "start_time": "2022-08-10T15:48:05.408Z"
   },
   {
    "duration": 18,
    "start_time": "2022-08-10T15:48:05.414Z"
   },
   {
    "duration": 5,
    "start_time": "2022-08-10T15:48:05.434Z"
   },
   {
    "duration": 33,
    "start_time": "2022-08-10T15:48:05.440Z"
   },
   {
    "duration": 9,
    "start_time": "2022-08-10T15:48:05.477Z"
   },
   {
    "duration": 45,
    "start_time": "2022-08-10T15:48:05.488Z"
   },
   {
    "duration": 11,
    "start_time": "2022-08-10T15:48:05.535Z"
   },
   {
    "duration": 21,
    "start_time": "2022-08-10T15:48:05.548Z"
   },
   {
    "duration": 11,
    "start_time": "2022-08-10T15:48:05.570Z"
   },
   {
    "duration": 24,
    "start_time": "2022-08-10T15:48:05.583Z"
   },
   {
    "duration": 18,
    "start_time": "2022-08-10T15:48:05.609Z"
   },
   {
    "duration": 3,
    "start_time": "2022-08-10T15:48:05.629Z"
   },
   {
    "duration": 34,
    "start_time": "2022-08-10T15:48:05.634Z"
   },
   {
    "duration": 6,
    "start_time": "2022-08-10T15:48:05.670Z"
   },
   {
    "duration": 4,
    "start_time": "2022-08-10T15:48:05.678Z"
   },
   {
    "duration": 11,
    "start_time": "2022-08-10T15:48:05.684Z"
   },
   {
    "duration": 28,
    "start_time": "2022-08-10T15:48:05.697Z"
   },
   {
    "duration": 50,
    "start_time": "2022-08-10T15:48:05.726Z"
   },
   {
    "duration": 1436,
    "start_time": "2022-08-10T15:48:05.778Z"
   },
   {
    "duration": 0,
    "start_time": "2022-08-10T15:48:07.216Z"
   },
   {
    "duration": 0,
    "start_time": "2022-08-10T15:48:07.217Z"
   },
   {
    "duration": 575,
    "start_time": "2022-08-10T15:48:28.158Z"
   },
   {
    "duration": 27,
    "start_time": "2022-08-10T15:48:28.735Z"
   },
   {
    "duration": 19,
    "start_time": "2022-08-10T15:48:28.764Z"
   },
   {
    "duration": 11,
    "start_time": "2022-08-10T15:48:28.786Z"
   },
   {
    "duration": 44,
    "start_time": "2022-08-10T15:48:28.799Z"
   },
   {
    "duration": 25,
    "start_time": "2022-08-10T15:48:28.845Z"
   },
   {
    "duration": 12,
    "start_time": "2022-08-10T15:48:28.872Z"
   },
   {
    "duration": 10,
    "start_time": "2022-08-10T15:48:28.886Z"
   },
   {
    "duration": 10,
    "start_time": "2022-08-10T15:48:28.898Z"
   },
   {
    "duration": 6,
    "start_time": "2022-08-10T15:48:28.914Z"
   },
   {
    "duration": 78,
    "start_time": "2022-08-10T15:48:28.922Z"
   },
   {
    "duration": 13,
    "start_time": "2022-08-10T15:48:29.002Z"
   },
   {
    "duration": 5,
    "start_time": "2022-08-10T15:48:29.018Z"
   },
   {
    "duration": 45,
    "start_time": "2022-08-10T15:48:29.025Z"
   },
   {
    "duration": 21,
    "start_time": "2022-08-10T15:48:29.072Z"
   },
   {
    "duration": 18,
    "start_time": "2022-08-10T15:48:29.095Z"
   },
   {
    "duration": 4,
    "start_time": "2022-08-10T15:48:29.115Z"
   },
   {
    "duration": 15,
    "start_time": "2022-08-10T15:48:29.121Z"
   },
   {
    "duration": 35,
    "start_time": "2022-08-10T15:48:29.138Z"
   },
   {
    "duration": 4,
    "start_time": "2022-08-10T15:48:29.175Z"
   },
   {
    "duration": 17,
    "start_time": "2022-08-10T15:48:29.181Z"
   },
   {
    "duration": 31,
    "start_time": "2022-08-10T15:48:29.201Z"
   },
   {
    "duration": 47,
    "start_time": "2022-08-10T15:48:29.234Z"
   },
   {
    "duration": 37,
    "start_time": "2022-08-10T15:48:29.283Z"
   },
   {
    "duration": 24,
    "start_time": "2022-08-10T15:48:29.321Z"
   },
   {
    "duration": 95,
    "start_time": "2022-08-10T15:48:29.367Z"
   },
   {
    "duration": 506,
    "start_time": "2022-08-10T15:51:39.694Z"
   },
   {
    "duration": 27,
    "start_time": "2022-08-10T15:51:40.203Z"
   },
   {
    "duration": 36,
    "start_time": "2022-08-10T15:51:40.233Z"
   },
   {
    "duration": 12,
    "start_time": "2022-08-10T15:51:40.272Z"
   },
   {
    "duration": 46,
    "start_time": "2022-08-10T15:51:40.286Z"
   },
   {
    "duration": 4,
    "start_time": "2022-08-10T15:51:40.334Z"
   },
   {
    "duration": 34,
    "start_time": "2022-08-10T15:51:40.340Z"
   },
   {
    "duration": 5,
    "start_time": "2022-08-10T15:51:40.376Z"
   },
   {
    "duration": 14,
    "start_time": "2022-08-10T15:51:40.383Z"
   },
   {
    "duration": 6,
    "start_time": "2022-08-10T15:51:40.400Z"
   },
   {
    "duration": 71,
    "start_time": "2022-08-10T15:51:40.408Z"
   },
   {
    "duration": 10,
    "start_time": "2022-08-10T15:51:40.481Z"
   },
   {
    "duration": 6,
    "start_time": "2022-08-10T15:51:40.493Z"
   },
   {
    "duration": 15,
    "start_time": "2022-08-10T15:51:40.501Z"
   },
   {
    "duration": 26,
    "start_time": "2022-08-10T15:51:40.518Z"
   },
   {
    "duration": 20,
    "start_time": "2022-08-10T15:51:40.567Z"
   },
   {
    "duration": 4,
    "start_time": "2022-08-10T15:51:40.589Z"
   },
   {
    "duration": 16,
    "start_time": "2022-08-10T15:51:40.594Z"
   },
   {
    "duration": 10,
    "start_time": "2022-08-10T15:51:40.612Z"
   },
   {
    "duration": 6,
    "start_time": "2022-08-10T15:51:40.624Z"
   },
   {
    "duration": 13,
    "start_time": "2022-08-10T15:51:40.631Z"
   },
   {
    "duration": 48,
    "start_time": "2022-08-10T15:51:40.646Z"
   },
   {
    "duration": 23,
    "start_time": "2022-08-10T15:51:40.696Z"
   },
   {
    "duration": 213,
    "start_time": "2022-08-10T15:51:40.720Z"
   },
   {
    "duration": 23,
    "start_time": "2022-08-10T15:51:40.935Z"
   },
   {
    "duration": 77,
    "start_time": "2022-08-10T15:51:40.967Z"
   },
   {
    "duration": 487,
    "start_time": "2022-08-10T15:52:33.390Z"
   },
   {
    "duration": 26,
    "start_time": "2022-08-10T15:52:33.879Z"
   },
   {
    "duration": 19,
    "start_time": "2022-08-10T15:52:33.907Z"
   },
   {
    "duration": 24,
    "start_time": "2022-08-10T15:52:33.929Z"
   },
   {
    "duration": 57,
    "start_time": "2022-08-10T15:52:33.955Z"
   },
   {
    "duration": 4,
    "start_time": "2022-08-10T15:52:34.014Z"
   },
   {
    "duration": 22,
    "start_time": "2022-08-10T15:52:34.019Z"
   },
   {
    "duration": 21,
    "start_time": "2022-08-10T15:52:34.043Z"
   },
   {
    "duration": 29,
    "start_time": "2022-08-10T15:52:34.065Z"
   },
   {
    "duration": 16,
    "start_time": "2022-08-10T15:52:34.098Z"
   },
   {
    "duration": 47,
    "start_time": "2022-08-10T15:52:34.115Z"
   },
   {
    "duration": 10,
    "start_time": "2022-08-10T15:52:34.164Z"
   },
   {
    "duration": 17,
    "start_time": "2022-08-10T15:52:34.176Z"
   },
   {
    "duration": 40,
    "start_time": "2022-08-10T15:52:34.195Z"
   },
   {
    "duration": 37,
    "start_time": "2022-08-10T15:52:34.237Z"
   },
   {
    "duration": 19,
    "start_time": "2022-08-10T15:52:34.275Z"
   },
   {
    "duration": 3,
    "start_time": "2022-08-10T15:52:34.296Z"
   },
   {
    "duration": 17,
    "start_time": "2022-08-10T15:52:34.301Z"
   },
   {
    "duration": 19,
    "start_time": "2022-08-10T15:52:34.320Z"
   },
   {
    "duration": 9,
    "start_time": "2022-08-10T15:52:34.341Z"
   },
   {
    "duration": 21,
    "start_time": "2022-08-10T15:52:34.352Z"
   },
   {
    "duration": 37,
    "start_time": "2022-08-10T15:52:34.375Z"
   },
   {
    "duration": 24,
    "start_time": "2022-08-10T15:52:34.415Z"
   },
   {
    "duration": 207,
    "start_time": "2022-08-10T15:52:34.441Z"
   },
   {
    "duration": 33,
    "start_time": "2022-08-10T15:52:34.649Z"
   },
   {
    "duration": 74,
    "start_time": "2022-08-10T15:52:34.683Z"
   },
   {
    "duration": 500,
    "start_time": "2022-08-10T15:53:02.181Z"
   },
   {
    "duration": 25,
    "start_time": "2022-08-10T15:53:02.683Z"
   },
   {
    "duration": 15,
    "start_time": "2022-08-10T15:53:02.710Z"
   },
   {
    "duration": 10,
    "start_time": "2022-08-10T15:53:02.728Z"
   },
   {
    "duration": 58,
    "start_time": "2022-08-10T15:53:02.740Z"
   },
   {
    "duration": 4,
    "start_time": "2022-08-10T15:53:02.800Z"
   },
   {
    "duration": 14,
    "start_time": "2022-08-10T15:53:02.805Z"
   },
   {
    "duration": 6,
    "start_time": "2022-08-10T15:53:02.821Z"
   },
   {
    "duration": 9,
    "start_time": "2022-08-10T15:53:02.828Z"
   },
   {
    "duration": 29,
    "start_time": "2022-08-10T15:53:02.841Z"
   },
   {
    "duration": 36,
    "start_time": "2022-08-10T15:53:02.872Z"
   },
   {
    "duration": 10,
    "start_time": "2022-08-10T15:53:02.910Z"
   },
   {
    "duration": 7,
    "start_time": "2022-08-10T15:53:02.922Z"
   },
   {
    "duration": 36,
    "start_time": "2022-08-10T15:53:02.932Z"
   },
   {
    "duration": 24,
    "start_time": "2022-08-10T15:53:02.970Z"
   },
   {
    "duration": 20,
    "start_time": "2022-08-10T15:53:02.996Z"
   },
   {
    "duration": 5,
    "start_time": "2022-08-10T15:53:03.018Z"
   },
   {
    "duration": 16,
    "start_time": "2022-08-10T15:53:03.025Z"
   },
   {
    "duration": 31,
    "start_time": "2022-08-10T15:53:03.043Z"
   },
   {
    "duration": 8,
    "start_time": "2022-08-10T15:53:03.076Z"
   },
   {
    "duration": 18,
    "start_time": "2022-08-10T15:53:03.086Z"
   },
   {
    "duration": 44,
    "start_time": "2022-08-10T15:53:03.106Z"
   },
   {
    "duration": 36,
    "start_time": "2022-08-10T15:53:03.151Z"
   },
   {
    "duration": 169,
    "start_time": "2022-08-10T15:53:03.189Z"
   },
   {
    "duration": 25,
    "start_time": "2022-08-10T15:53:03.360Z"
   },
   {
    "duration": 74,
    "start_time": "2022-08-10T15:53:03.386Z"
   },
   {
    "duration": 526,
    "start_time": "2022-08-10T15:54:26.660Z"
   },
   {
    "duration": 24,
    "start_time": "2022-08-10T15:54:27.189Z"
   },
   {
    "duration": 16,
    "start_time": "2022-08-10T15:54:27.215Z"
   },
   {
    "duration": 10,
    "start_time": "2022-08-10T15:54:27.233Z"
   },
   {
    "duration": 58,
    "start_time": "2022-08-10T15:54:27.245Z"
   },
   {
    "duration": 4,
    "start_time": "2022-08-10T15:54:27.305Z"
   },
   {
    "duration": 12,
    "start_time": "2022-08-10T15:54:27.311Z"
   },
   {
    "duration": 6,
    "start_time": "2022-08-10T15:54:27.325Z"
   },
   {
    "duration": 35,
    "start_time": "2022-08-10T15:54:27.333Z"
   },
   {
    "duration": 4,
    "start_time": "2022-08-10T15:54:27.371Z"
   },
   {
    "duration": 39,
    "start_time": "2022-08-10T15:54:27.377Z"
   },
   {
    "duration": 10,
    "start_time": "2022-08-10T15:54:27.418Z"
   },
   {
    "duration": 10,
    "start_time": "2022-08-10T15:54:27.429Z"
   },
   {
    "duration": 37,
    "start_time": "2022-08-10T15:54:27.441Z"
   },
   {
    "duration": 22,
    "start_time": "2022-08-10T15:54:27.480Z"
   },
   {
    "duration": 20,
    "start_time": "2022-08-10T15:54:27.504Z"
   },
   {
    "duration": 5,
    "start_time": "2022-08-10T15:54:27.525Z"
   },
   {
    "duration": 37,
    "start_time": "2022-08-10T15:54:27.531Z"
   },
   {
    "duration": 6,
    "start_time": "2022-08-10T15:54:27.570Z"
   },
   {
    "duration": 5,
    "start_time": "2022-08-10T15:54:27.578Z"
   },
   {
    "duration": 15,
    "start_time": "2022-08-10T15:54:27.585Z"
   },
   {
    "duration": 35,
    "start_time": "2022-08-10T15:54:27.602Z"
   },
   {
    "duration": 44,
    "start_time": "2022-08-10T15:54:27.639Z"
   },
   {
    "duration": 167,
    "start_time": "2022-08-10T15:54:27.685Z"
   },
   {
    "duration": 33,
    "start_time": "2022-08-10T15:54:27.854Z"
   },
   {
    "duration": 106,
    "start_time": "2022-08-10T15:54:27.888Z"
   },
   {
    "duration": 467,
    "start_time": "2022-08-10T15:55:49.418Z"
   },
   {
    "duration": 25,
    "start_time": "2022-08-10T15:55:49.887Z"
   },
   {
    "duration": 19,
    "start_time": "2022-08-10T15:55:49.914Z"
   },
   {
    "duration": 20,
    "start_time": "2022-08-10T15:55:49.936Z"
   },
   {
    "duration": 43,
    "start_time": "2022-08-10T15:55:49.958Z"
   },
   {
    "duration": 5,
    "start_time": "2022-08-10T15:55:50.002Z"
   },
   {
    "duration": 12,
    "start_time": "2022-08-10T15:55:50.009Z"
   },
   {
    "duration": 8,
    "start_time": "2022-08-10T15:55:50.023Z"
   },
   {
    "duration": 37,
    "start_time": "2022-08-10T15:55:50.033Z"
   },
   {
    "duration": 8,
    "start_time": "2022-08-10T15:55:50.074Z"
   },
   {
    "duration": 38,
    "start_time": "2022-08-10T15:55:50.084Z"
   },
   {
    "duration": 11,
    "start_time": "2022-08-10T15:55:50.124Z"
   },
   {
    "duration": 30,
    "start_time": "2022-08-10T15:55:50.137Z"
   },
   {
    "duration": 12,
    "start_time": "2022-08-10T15:55:50.169Z"
   },
   {
    "duration": 24,
    "start_time": "2022-08-10T15:55:50.183Z"
   },
   {
    "duration": 20,
    "start_time": "2022-08-10T15:55:50.208Z"
   },
   {
    "duration": 4,
    "start_time": "2022-08-10T15:55:50.229Z"
   },
   {
    "duration": 34,
    "start_time": "2022-08-10T15:55:50.236Z"
   },
   {
    "duration": 14,
    "start_time": "2022-08-10T15:55:50.272Z"
   },
   {
    "duration": 5,
    "start_time": "2022-08-10T15:55:50.288Z"
   },
   {
    "duration": 12,
    "start_time": "2022-08-10T15:55:50.295Z"
   },
   {
    "duration": 34,
    "start_time": "2022-08-10T15:55:50.309Z"
   },
   {
    "duration": 34,
    "start_time": "2022-08-10T15:55:50.345Z"
   },
   {
    "duration": 30,
    "start_time": "2022-08-10T15:55:50.381Z"
   },
   {
    "duration": 77,
    "start_time": "2022-08-10T15:55:50.413Z"
   },
   {
    "duration": 499,
    "start_time": "2022-08-10T15:56:37.460Z"
   },
   {
    "duration": 24,
    "start_time": "2022-08-10T15:56:37.961Z"
   },
   {
    "duration": 14,
    "start_time": "2022-08-10T15:56:37.987Z"
   },
   {
    "duration": 9,
    "start_time": "2022-08-10T15:56:38.003Z"
   },
   {
    "duration": 57,
    "start_time": "2022-08-10T15:56:38.014Z"
   },
   {
    "duration": 4,
    "start_time": "2022-08-10T15:56:38.073Z"
   },
   {
    "duration": 14,
    "start_time": "2022-08-10T15:56:38.079Z"
   },
   {
    "duration": 4,
    "start_time": "2022-08-10T15:56:38.095Z"
   },
   {
    "duration": 12,
    "start_time": "2022-08-10T15:56:38.100Z"
   },
   {
    "duration": 4,
    "start_time": "2022-08-10T15:56:38.114Z"
   },
   {
    "duration": 61,
    "start_time": "2022-08-10T15:56:38.120Z"
   },
   {
    "duration": 10,
    "start_time": "2022-08-10T15:56:38.183Z"
   },
   {
    "duration": 4,
    "start_time": "2022-08-10T15:56:38.194Z"
   },
   {
    "duration": 12,
    "start_time": "2022-08-10T15:56:38.201Z"
   },
   {
    "duration": 23,
    "start_time": "2022-08-10T15:56:38.214Z"
   },
   {
    "duration": 44,
    "start_time": "2022-08-10T15:56:38.238Z"
   },
   {
    "duration": 3,
    "start_time": "2022-08-10T15:56:38.284Z"
   },
   {
    "duration": 24,
    "start_time": "2022-08-10T15:56:38.289Z"
   },
   {
    "duration": 13,
    "start_time": "2022-08-10T15:56:38.315Z"
   },
   {
    "duration": 4,
    "start_time": "2022-08-10T15:56:38.330Z"
   },
   {
    "duration": 11,
    "start_time": "2022-08-10T15:56:38.336Z"
   },
   {
    "duration": 28,
    "start_time": "2022-08-10T15:56:38.367Z"
   },
   {
    "duration": 22,
    "start_time": "2022-08-10T15:56:38.396Z"
   },
   {
    "duration": 21,
    "start_time": "2022-08-10T15:56:38.420Z"
   },
   {
    "duration": 103,
    "start_time": "2022-08-10T15:56:38.443Z"
   },
   {
    "duration": 520,
    "start_time": "2022-08-10T15:57:58.338Z"
   },
   {
    "duration": 25,
    "start_time": "2022-08-10T15:57:58.860Z"
   },
   {
    "duration": 16,
    "start_time": "2022-08-10T15:57:58.887Z"
   },
   {
    "duration": 11,
    "start_time": "2022-08-10T15:57:58.905Z"
   },
   {
    "duration": 66,
    "start_time": "2022-08-10T15:57:58.917Z"
   },
   {
    "duration": 4,
    "start_time": "2022-08-10T15:57:58.985Z"
   },
   {
    "duration": 12,
    "start_time": "2022-08-10T15:57:58.990Z"
   },
   {
    "duration": 5,
    "start_time": "2022-08-10T15:57:59.004Z"
   },
   {
    "duration": 9,
    "start_time": "2022-08-10T15:57:59.010Z"
   },
   {
    "duration": 5,
    "start_time": "2022-08-10T15:57:59.022Z"
   },
   {
    "duration": 70,
    "start_time": "2022-08-10T15:57:59.028Z"
   },
   {
    "duration": 10,
    "start_time": "2022-08-10T15:57:59.100Z"
   },
   {
    "duration": 7,
    "start_time": "2022-08-10T15:57:59.112Z"
   },
   {
    "duration": 14,
    "start_time": "2022-08-10T15:57:59.120Z"
   },
   {
    "duration": 41,
    "start_time": "2022-08-10T15:57:59.136Z"
   },
   {
    "duration": 19,
    "start_time": "2022-08-10T15:57:59.178Z"
   },
   {
    "duration": 4,
    "start_time": "2022-08-10T15:57:59.199Z"
   },
   {
    "duration": 19,
    "start_time": "2022-08-10T15:57:59.204Z"
   },
   {
    "duration": 12,
    "start_time": "2022-08-10T15:57:59.225Z"
   },
   {
    "duration": 7,
    "start_time": "2022-08-10T15:57:59.238Z"
   },
   {
    "duration": 10,
    "start_time": "2022-08-10T15:57:59.268Z"
   },
   {
    "duration": 31,
    "start_time": "2022-08-10T15:57:59.280Z"
   },
   {
    "duration": 23,
    "start_time": "2022-08-10T15:57:59.313Z"
   },
   {
    "duration": 47,
    "start_time": "2022-08-10T15:57:59.337Z"
   },
   {
    "duration": 79,
    "start_time": "2022-08-10T15:57:59.386Z"
   },
   {
    "duration": 491,
    "start_time": "2022-08-10T16:07:06.090Z"
   },
   {
    "duration": 32,
    "start_time": "2022-08-10T16:07:06.583Z"
   },
   {
    "duration": 22,
    "start_time": "2022-08-10T16:07:06.617Z"
   },
   {
    "duration": 40,
    "start_time": "2022-08-10T16:07:06.641Z"
   },
   {
    "duration": 49,
    "start_time": "2022-08-10T16:07:06.684Z"
   },
   {
    "duration": 4,
    "start_time": "2022-08-10T16:07:06.735Z"
   },
   {
    "duration": 26,
    "start_time": "2022-08-10T16:07:06.741Z"
   },
   {
    "duration": 18,
    "start_time": "2022-08-10T16:07:06.769Z"
   },
   {
    "duration": 28,
    "start_time": "2022-08-10T16:07:06.789Z"
   },
   {
    "duration": 6,
    "start_time": "2022-08-10T16:07:06.818Z"
   },
   {
    "duration": 35,
    "start_time": "2022-08-10T16:07:06.826Z"
   },
   {
    "duration": 10,
    "start_time": "2022-08-10T16:07:06.862Z"
   },
   {
    "duration": 6,
    "start_time": "2022-08-10T16:07:06.873Z"
   },
   {
    "duration": 16,
    "start_time": "2022-08-10T16:07:06.882Z"
   },
   {
    "duration": 29,
    "start_time": "2022-08-10T16:07:06.899Z"
   },
   {
    "duration": 17,
    "start_time": "2022-08-10T16:07:06.930Z"
   },
   {
    "duration": 19,
    "start_time": "2022-08-10T16:07:06.949Z"
   },
   {
    "duration": 19,
    "start_time": "2022-08-10T16:07:06.969Z"
   },
   {
    "duration": 9,
    "start_time": "2022-08-10T16:07:06.990Z"
   },
   {
    "duration": 14,
    "start_time": "2022-08-10T16:07:07.001Z"
   },
   {
    "duration": 17,
    "start_time": "2022-08-10T16:07:07.017Z"
   },
   {
    "duration": 40,
    "start_time": "2022-08-10T16:07:07.036Z"
   },
   {
    "duration": 22,
    "start_time": "2022-08-10T16:07:07.078Z"
   },
   {
    "duration": 22,
    "start_time": "2022-08-10T16:07:07.101Z"
   },
   {
    "duration": 44,
    "start_time": "2022-08-10T16:07:07.125Z"
   },
   {
    "duration": 76,
    "start_time": "2022-08-10T16:07:07.170Z"
   },
   {
    "duration": 537,
    "start_time": "2022-08-10T16:28:46.768Z"
   },
   {
    "duration": 28,
    "start_time": "2022-08-10T16:28:47.307Z"
   },
   {
    "duration": 37,
    "start_time": "2022-08-10T16:28:47.337Z"
   },
   {
    "duration": 29,
    "start_time": "2022-08-10T16:28:47.377Z"
   },
   {
    "duration": 54,
    "start_time": "2022-08-10T16:28:47.408Z"
   },
   {
    "duration": 5,
    "start_time": "2022-08-10T16:28:47.464Z"
   },
   {
    "duration": 40,
    "start_time": "2022-08-10T16:28:47.471Z"
   },
   {
    "duration": 56,
    "start_time": "2022-08-10T16:28:47.513Z"
   },
   {
    "duration": 31,
    "start_time": "2022-08-10T16:28:47.572Z"
   },
   {
    "duration": 22,
    "start_time": "2022-08-10T16:28:47.608Z"
   },
   {
    "duration": 72,
    "start_time": "2022-08-10T16:28:47.632Z"
   },
   {
    "duration": 11,
    "start_time": "2022-08-10T16:28:47.707Z"
   },
   {
    "duration": 24,
    "start_time": "2022-08-10T16:28:47.720Z"
   },
   {
    "duration": 20,
    "start_time": "2022-08-10T16:28:47.746Z"
   },
   {
    "duration": 68,
    "start_time": "2022-08-10T16:28:47.769Z"
   },
   {
    "duration": 41,
    "start_time": "2022-08-10T16:28:47.840Z"
   },
   {
    "duration": 11,
    "start_time": "2022-08-10T16:28:47.883Z"
   },
   {
    "duration": 83,
    "start_time": "2022-08-10T16:28:47.896Z"
   },
   {
    "duration": 58,
    "start_time": "2022-08-10T16:28:47.981Z"
   },
   {
    "duration": 8,
    "start_time": "2022-08-10T16:28:48.041Z"
   },
   {
    "duration": 39,
    "start_time": "2022-08-10T16:28:48.051Z"
   },
   {
    "duration": 37,
    "start_time": "2022-08-10T16:28:48.092Z"
   },
   {
    "duration": 27,
    "start_time": "2022-08-10T16:28:48.131Z"
   },
   {
    "duration": 30,
    "start_time": "2022-08-10T16:28:48.160Z"
   },
   {
    "duration": 27,
    "start_time": "2022-08-10T16:28:48.192Z"
   },
   {
    "duration": 122,
    "start_time": "2022-08-10T16:28:48.222Z"
   },
   {
    "duration": 526,
    "start_time": "2022-08-10T16:29:12.543Z"
   },
   {
    "duration": 25,
    "start_time": "2022-08-10T16:29:13.071Z"
   },
   {
    "duration": 17,
    "start_time": "2022-08-10T16:29:13.097Z"
   },
   {
    "duration": 11,
    "start_time": "2022-08-10T16:29:13.116Z"
   },
   {
    "duration": 65,
    "start_time": "2022-08-10T16:29:13.129Z"
   },
   {
    "duration": 3,
    "start_time": "2022-08-10T16:29:13.196Z"
   },
   {
    "duration": 12,
    "start_time": "2022-08-10T16:29:13.201Z"
   },
   {
    "duration": 5,
    "start_time": "2022-08-10T16:29:13.215Z"
   },
   {
    "duration": 11,
    "start_time": "2022-08-10T16:29:13.221Z"
   },
   {
    "duration": 5,
    "start_time": "2022-08-10T16:29:13.234Z"
   },
   {
    "duration": 37,
    "start_time": "2022-08-10T16:29:13.268Z"
   },
   {
    "duration": 10,
    "start_time": "2022-08-10T16:29:13.307Z"
   },
   {
    "duration": 4,
    "start_time": "2022-08-10T16:29:13.319Z"
   },
   {
    "duration": 12,
    "start_time": "2022-08-10T16:29:13.325Z"
   },
   {
    "duration": 44,
    "start_time": "2022-08-10T16:29:13.339Z"
   },
   {
    "duration": 19,
    "start_time": "2022-08-10T16:29:13.385Z"
   },
   {
    "duration": 4,
    "start_time": "2022-08-10T16:29:13.405Z"
   },
   {
    "duration": 17,
    "start_time": "2022-08-10T16:29:13.411Z"
   },
   {
    "duration": 39,
    "start_time": "2022-08-10T16:29:13.430Z"
   },
   {
    "duration": 4,
    "start_time": "2022-08-10T16:29:13.470Z"
   },
   {
    "duration": 12,
    "start_time": "2022-08-10T16:29:13.475Z"
   },
   {
    "duration": 34,
    "start_time": "2022-08-10T16:29:13.489Z"
   },
   {
    "duration": 44,
    "start_time": "2022-08-10T16:29:13.525Z"
   },
   {
    "duration": 23,
    "start_time": "2022-08-10T16:29:13.571Z"
   },
   {
    "duration": 24,
    "start_time": "2022-08-10T16:29:13.598Z"
   },
   {
    "duration": 98,
    "start_time": "2022-08-10T16:29:13.625Z"
   },
   {
    "duration": 515,
    "start_time": "2022-08-10T16:29:50.975Z"
   },
   {
    "duration": 32,
    "start_time": "2022-08-10T16:29:51.496Z"
   },
   {
    "duration": 19,
    "start_time": "2022-08-10T16:29:51.530Z"
   },
   {
    "duration": 28,
    "start_time": "2022-08-10T16:29:51.550Z"
   },
   {
    "duration": 44,
    "start_time": "2022-08-10T16:29:51.580Z"
   },
   {
    "duration": 4,
    "start_time": "2022-08-10T16:29:51.627Z"
   },
   {
    "duration": 14,
    "start_time": "2022-08-10T16:29:51.633Z"
   },
   {
    "duration": 23,
    "start_time": "2022-08-10T16:29:51.649Z"
   },
   {
    "duration": 24,
    "start_time": "2022-08-10T16:29:51.674Z"
   },
   {
    "duration": 18,
    "start_time": "2022-08-10T16:29:51.700Z"
   },
   {
    "duration": 43,
    "start_time": "2022-08-10T16:29:51.720Z"
   },
   {
    "duration": 9,
    "start_time": "2022-08-10T16:29:51.765Z"
   },
   {
    "duration": 9,
    "start_time": "2022-08-10T16:29:51.776Z"
   },
   {
    "duration": 22,
    "start_time": "2022-08-10T16:29:51.786Z"
   },
   {
    "duration": 27,
    "start_time": "2022-08-10T16:29:51.810Z"
   },
   {
    "duration": 17,
    "start_time": "2022-08-10T16:29:51.839Z"
   },
   {
    "duration": 4,
    "start_time": "2022-08-10T16:29:51.868Z"
   },
   {
    "duration": 20,
    "start_time": "2022-08-10T16:29:51.874Z"
   },
   {
    "duration": 19,
    "start_time": "2022-08-10T16:29:51.896Z"
   },
   {
    "duration": 9,
    "start_time": "2022-08-10T16:29:51.918Z"
   },
   {
    "duration": 13,
    "start_time": "2022-08-10T16:29:51.929Z"
   },
   {
    "duration": 38,
    "start_time": "2022-08-10T16:29:51.944Z"
   },
   {
    "duration": 23,
    "start_time": "2022-08-10T16:29:51.984Z"
   },
   {
    "duration": 21,
    "start_time": "2022-08-10T16:29:52.010Z"
   },
   {
    "duration": 47,
    "start_time": "2022-08-10T16:29:52.033Z"
   },
   {
    "duration": 75,
    "start_time": "2022-08-10T16:29:52.082Z"
   },
   {
    "duration": 512,
    "start_time": "2022-08-10T16:29:56.313Z"
   },
   {
    "duration": 24,
    "start_time": "2022-08-10T16:29:56.827Z"
   },
   {
    "duration": 25,
    "start_time": "2022-08-10T16:29:56.853Z"
   },
   {
    "duration": 10,
    "start_time": "2022-08-10T16:29:56.880Z"
   },
   {
    "duration": 37,
    "start_time": "2022-08-10T16:29:56.892Z"
   },
   {
    "duration": 4,
    "start_time": "2022-08-10T16:29:56.930Z"
   },
   {
    "duration": 33,
    "start_time": "2022-08-10T16:29:56.936Z"
   },
   {
    "duration": 5,
    "start_time": "2022-08-10T16:29:56.970Z"
   },
   {
    "duration": 13,
    "start_time": "2022-08-10T16:29:56.976Z"
   },
   {
    "duration": 6,
    "start_time": "2022-08-10T16:29:56.991Z"
   },
   {
    "duration": 35,
    "start_time": "2022-08-10T16:29:56.999Z"
   },
   {
    "duration": 35,
    "start_time": "2022-08-10T16:29:57.036Z"
   },
   {
    "duration": 3,
    "start_time": "2022-08-10T16:29:57.074Z"
   },
   {
    "duration": 14,
    "start_time": "2022-08-10T16:29:57.079Z"
   },
   {
    "duration": 21,
    "start_time": "2022-08-10T16:29:57.094Z"
   },
   {
    "duration": 18,
    "start_time": "2022-08-10T16:29:57.117Z"
   },
   {
    "duration": 31,
    "start_time": "2022-08-10T16:29:57.137Z"
   },
   {
    "duration": 17,
    "start_time": "2022-08-10T16:29:57.170Z"
   },
   {
    "duration": 8,
    "start_time": "2022-08-10T16:29:57.188Z"
   },
   {
    "duration": 4,
    "start_time": "2022-08-10T16:29:57.198Z"
   },
   {
    "duration": 14,
    "start_time": "2022-08-10T16:29:57.203Z"
   },
   {
    "duration": 53,
    "start_time": "2022-08-10T16:29:57.219Z"
   },
   {
    "duration": 23,
    "start_time": "2022-08-10T16:29:57.274Z"
   },
   {
    "duration": 21,
    "start_time": "2022-08-10T16:29:57.298Z"
   },
   {
    "duration": 22,
    "start_time": "2022-08-10T16:29:57.321Z"
   },
   {
    "duration": 73,
    "start_time": "2022-08-10T16:29:57.368Z"
   },
   {
    "duration": 494,
    "start_time": "2022-08-10T16:30:09.921Z"
   },
   {
    "duration": 25,
    "start_time": "2022-08-10T16:30:10.418Z"
   },
   {
    "duration": 35,
    "start_time": "2022-08-10T16:30:10.445Z"
   },
   {
    "duration": 12,
    "start_time": "2022-08-10T16:30:10.483Z"
   },
   {
    "duration": 53,
    "start_time": "2022-08-10T16:30:10.497Z"
   },
   {
    "duration": 4,
    "start_time": "2022-08-10T16:30:10.552Z"
   },
   {
    "duration": 14,
    "start_time": "2022-08-10T16:30:10.569Z"
   },
   {
    "duration": 24,
    "start_time": "2022-08-10T16:30:10.585Z"
   },
   {
    "duration": 16,
    "start_time": "2022-08-10T16:30:10.612Z"
   },
   {
    "duration": 20,
    "start_time": "2022-08-10T16:30:10.633Z"
   },
   {
    "duration": 45,
    "start_time": "2022-08-10T16:30:10.654Z"
   },
   {
    "duration": 10,
    "start_time": "2022-08-10T16:30:10.701Z"
   },
   {
    "duration": 18,
    "start_time": "2022-08-10T16:30:10.713Z"
   },
   {
    "duration": 18,
    "start_time": "2022-08-10T16:30:10.733Z"
   },
   {
    "duration": 49,
    "start_time": "2022-08-10T16:30:10.753Z"
   },
   {
    "duration": 20,
    "start_time": "2022-08-10T16:30:10.804Z"
   },
   {
    "duration": 4,
    "start_time": "2022-08-10T16:30:10.826Z"
   },
   {
    "duration": 23,
    "start_time": "2022-08-10T16:30:10.832Z"
   },
   {
    "duration": 14,
    "start_time": "2022-08-10T16:30:10.857Z"
   },
   {
    "duration": 6,
    "start_time": "2022-08-10T16:30:10.874Z"
   },
   {
    "duration": 13,
    "start_time": "2022-08-10T16:30:10.882Z"
   },
   {
    "duration": 34,
    "start_time": "2022-08-10T16:30:10.897Z"
   },
   {
    "duration": 50,
    "start_time": "2022-08-10T16:30:10.934Z"
   },
   {
    "duration": 26,
    "start_time": "2022-08-10T16:30:10.986Z"
   },
   {
    "duration": 55,
    "start_time": "2022-08-10T16:30:11.014Z"
   },
   {
    "duration": 88,
    "start_time": "2022-08-10T16:30:11.071Z"
   },
   {
    "duration": 74,
    "start_time": "2022-08-10T16:30:42.068Z"
   },
   {
    "duration": 503,
    "start_time": "2022-08-10T16:30:49.568Z"
   },
   {
    "duration": 24,
    "start_time": "2022-08-10T16:30:50.073Z"
   },
   {
    "duration": 15,
    "start_time": "2022-08-10T16:30:50.099Z"
   },
   {
    "duration": 9,
    "start_time": "2022-08-10T16:30:50.117Z"
   },
   {
    "duration": 62,
    "start_time": "2022-08-10T16:30:50.128Z"
   },
   {
    "duration": 4,
    "start_time": "2022-08-10T16:30:50.192Z"
   },
   {
    "duration": 12,
    "start_time": "2022-08-10T16:30:50.198Z"
   },
   {
    "duration": 6,
    "start_time": "2022-08-10T16:30:50.212Z"
   },
   {
    "duration": 9,
    "start_time": "2022-08-10T16:30:50.219Z"
   },
   {
    "duration": 4,
    "start_time": "2022-08-10T16:30:50.233Z"
   },
   {
    "duration": 34,
    "start_time": "2022-08-10T16:30:50.268Z"
   },
   {
    "duration": 9,
    "start_time": "2022-08-10T16:30:50.304Z"
   },
   {
    "duration": 3,
    "start_time": "2022-08-10T16:30:50.315Z"
   },
   {
    "duration": 15,
    "start_time": "2022-08-10T16:30:50.320Z"
   },
   {
    "duration": 45,
    "start_time": "2022-08-10T16:30:50.337Z"
   },
   {
    "duration": 19,
    "start_time": "2022-08-10T16:30:50.383Z"
   },
   {
    "duration": 3,
    "start_time": "2022-08-10T16:30:50.404Z"
   },
   {
    "duration": 18,
    "start_time": "2022-08-10T16:30:50.409Z"
   },
   {
    "duration": 6,
    "start_time": "2022-08-10T16:30:50.429Z"
   },
   {
    "duration": 4,
    "start_time": "2022-08-10T16:30:50.467Z"
   },
   {
    "duration": 14,
    "start_time": "2022-08-10T16:30:50.473Z"
   },
   {
    "duration": 29,
    "start_time": "2022-08-10T16:30:50.489Z"
   },
   {
    "duration": 23,
    "start_time": "2022-08-10T16:30:50.520Z"
   },
   {
    "duration": 41,
    "start_time": "2022-08-10T16:30:50.545Z"
   },
   {
    "duration": 23,
    "start_time": "2022-08-10T16:30:50.588Z"
   },
   {
    "duration": 77,
    "start_time": "2022-08-10T16:30:50.613Z"
   },
   {
    "duration": 557,
    "start_time": "2022-08-10T16:31:06.146Z"
   },
   {
    "duration": 26,
    "start_time": "2022-08-10T16:31:06.706Z"
   },
   {
    "duration": 15,
    "start_time": "2022-08-10T16:31:06.733Z"
   },
   {
    "duration": 12,
    "start_time": "2022-08-10T16:31:06.767Z"
   },
   {
    "duration": 39,
    "start_time": "2022-08-10T16:31:06.782Z"
   },
   {
    "duration": 3,
    "start_time": "2022-08-10T16:31:06.823Z"
   },
   {
    "duration": 14,
    "start_time": "2022-08-10T16:31:06.828Z"
   },
   {
    "duration": 27,
    "start_time": "2022-08-10T16:31:06.843Z"
   },
   {
    "duration": 10,
    "start_time": "2022-08-10T16:31:06.872Z"
   },
   {
    "duration": 4,
    "start_time": "2022-08-10T16:31:06.884Z"
   },
   {
    "duration": 35,
    "start_time": "2022-08-10T16:31:06.890Z"
   },
   {
    "duration": 10,
    "start_time": "2022-08-10T16:31:06.927Z"
   },
   {
    "duration": 33,
    "start_time": "2022-08-10T16:31:06.938Z"
   },
   {
    "duration": 12,
    "start_time": "2022-08-10T16:31:06.974Z"
   },
   {
    "duration": 20,
    "start_time": "2022-08-10T16:31:06.988Z"
   },
   {
    "duration": 18,
    "start_time": "2022-08-10T16:31:07.010Z"
   },
   {
    "duration": 4,
    "start_time": "2022-08-10T16:31:07.030Z"
   },
   {
    "duration": 44,
    "start_time": "2022-08-10T16:31:07.036Z"
   },
   {
    "duration": 7,
    "start_time": "2022-08-10T16:31:07.082Z"
   },
   {
    "duration": 3,
    "start_time": "2022-08-10T16:31:07.091Z"
   },
   {
    "duration": 17,
    "start_time": "2022-08-10T16:31:07.096Z"
   },
   {
    "duration": 53,
    "start_time": "2022-08-10T16:31:07.115Z"
   },
   {
    "duration": 24,
    "start_time": "2022-08-10T16:31:07.170Z"
   },
   {
    "duration": 23,
    "start_time": "2022-08-10T16:31:07.195Z"
   },
   {
    "duration": 48,
    "start_time": "2022-08-10T16:31:07.220Z"
   },
   {
    "duration": 519,
    "start_time": "2022-08-11T07:44:29.417Z"
   },
   {
    "duration": 25,
    "start_time": "2022-08-11T07:44:29.939Z"
   },
   {
    "duration": 18,
    "start_time": "2022-08-11T07:44:29.966Z"
   },
   {
    "duration": 12,
    "start_time": "2022-08-11T07:44:29.986Z"
   },
   {
    "duration": 47,
    "start_time": "2022-08-11T07:44:30.000Z"
   },
   {
    "duration": 20,
    "start_time": "2022-08-11T07:44:30.049Z"
   },
   {
    "duration": 21,
    "start_time": "2022-08-11T07:44:30.071Z"
   },
   {
    "duration": 13,
    "start_time": "2022-08-11T07:44:30.095Z"
   },
   {
    "duration": 16,
    "start_time": "2022-08-11T07:44:30.110Z"
   },
   {
    "duration": 12,
    "start_time": "2022-08-11T07:44:30.128Z"
   },
   {
    "duration": 57,
    "start_time": "2022-08-11T07:44:30.142Z"
   },
   {
    "duration": 9,
    "start_time": "2022-08-11T07:44:30.201Z"
   },
   {
    "duration": 27,
    "start_time": "2022-08-11T07:44:30.212Z"
   },
   {
    "duration": 16,
    "start_time": "2022-08-11T07:44:30.242Z"
   },
   {
    "duration": 39,
    "start_time": "2022-08-11T07:44:30.260Z"
   },
   {
    "duration": 18,
    "start_time": "2022-08-11T07:44:30.301Z"
   },
   {
    "duration": 14,
    "start_time": "2022-08-11T07:44:30.321Z"
   },
   {
    "duration": 25,
    "start_time": "2022-08-11T07:44:30.336Z"
   },
   {
    "duration": 25,
    "start_time": "2022-08-11T07:44:30.363Z"
   },
   {
    "duration": 11,
    "start_time": "2022-08-11T07:44:30.391Z"
   },
   {
    "duration": 17,
    "start_time": "2022-08-11T07:44:30.404Z"
   },
   {
    "duration": 95,
    "start_time": "2022-08-11T07:44:30.423Z"
   },
   {
    "duration": 0,
    "start_time": "2022-08-11T07:44:30.520Z"
   },
   {
    "duration": 0,
    "start_time": "2022-08-11T07:44:30.521Z"
   },
   {
    "duration": 0,
    "start_time": "2022-08-11T07:44:30.523Z"
   },
   {
    "duration": 575,
    "start_time": "2022-08-11T07:44:46.113Z"
   },
   {
    "duration": 41,
    "start_time": "2022-08-11T07:44:46.692Z"
   },
   {
    "duration": 100,
    "start_time": "2022-08-11T07:44:46.736Z"
   },
   {
    "duration": 12,
    "start_time": "2022-08-11T07:44:46.839Z"
   },
   {
    "duration": 75,
    "start_time": "2022-08-11T07:44:46.854Z"
   },
   {
    "duration": 4,
    "start_time": "2022-08-11T07:44:46.932Z"
   },
   {
    "duration": 16,
    "start_time": "2022-08-11T07:44:46.939Z"
   },
   {
    "duration": 14,
    "start_time": "2022-08-11T07:44:46.958Z"
   },
   {
    "duration": 34,
    "start_time": "2022-08-11T07:44:46.981Z"
   },
   {
    "duration": 14,
    "start_time": "2022-08-11T07:44:47.025Z"
   },
   {
    "duration": 84,
    "start_time": "2022-08-11T07:44:47.042Z"
   },
   {
    "duration": 13,
    "start_time": "2022-08-11T07:44:47.128Z"
   },
   {
    "duration": 8,
    "start_time": "2022-08-11T07:44:47.143Z"
   },
   {
    "duration": 16,
    "start_time": "2022-08-11T07:44:47.153Z"
   },
   {
    "duration": 70,
    "start_time": "2022-08-11T07:44:47.170Z"
   },
   {
    "duration": 19,
    "start_time": "2022-08-11T07:44:47.241Z"
   },
   {
    "duration": 4,
    "start_time": "2022-08-11T07:44:47.261Z"
   },
   {
    "duration": 29,
    "start_time": "2022-08-11T07:44:47.280Z"
   },
   {
    "duration": 10,
    "start_time": "2022-08-11T07:44:47.311Z"
   },
   {
    "duration": 5,
    "start_time": "2022-08-11T07:44:47.322Z"
   },
   {
    "duration": 12,
    "start_time": "2022-08-11T07:44:47.329Z"
   },
   {
    "duration": 32,
    "start_time": "2022-08-11T07:44:47.342Z"
   },
   {
    "duration": 32,
    "start_time": "2022-08-11T07:44:47.376Z"
   },
   {
    "duration": 32,
    "start_time": "2022-08-11T07:44:47.410Z"
   },
   {
    "duration": 58,
    "start_time": "2022-08-11T07:44:47.444Z"
   },
   {
    "duration": 527,
    "start_time": "2022-08-11T08:51:15.858Z"
   },
   {
    "duration": 39,
    "start_time": "2022-08-11T08:51:16.391Z"
   },
   {
    "duration": 18,
    "start_time": "2022-08-11T08:51:16.433Z"
   },
   {
    "duration": 45,
    "start_time": "2022-08-11T08:51:16.470Z"
   },
   {
    "duration": 67,
    "start_time": "2022-08-11T08:51:16.518Z"
   },
   {
    "duration": 5,
    "start_time": "2022-08-11T08:51:16.589Z"
   },
   {
    "duration": 20,
    "start_time": "2022-08-11T08:51:16.598Z"
   },
   {
    "duration": 19,
    "start_time": "2022-08-11T08:51:16.621Z"
   },
   {
    "duration": 15,
    "start_time": "2022-08-11T08:51:16.643Z"
   },
   {
    "duration": 52,
    "start_time": "2022-08-11T08:51:16.662Z"
   },
   {
    "duration": 73,
    "start_time": "2022-08-11T08:51:16.716Z"
   },
   {
    "duration": 21,
    "start_time": "2022-08-11T08:51:16.793Z"
   },
   {
    "duration": 10,
    "start_time": "2022-08-11T08:51:16.817Z"
   },
   {
    "duration": 21,
    "start_time": "2022-08-11T08:51:16.829Z"
   },
   {
    "duration": 44,
    "start_time": "2022-08-11T08:51:16.852Z"
   },
   {
    "duration": 25,
    "start_time": "2022-08-11T08:51:16.901Z"
   },
   {
    "duration": 4,
    "start_time": "2022-08-11T08:51:16.929Z"
   },
   {
    "duration": 33,
    "start_time": "2022-08-11T08:51:16.936Z"
   },
   {
    "duration": 36,
    "start_time": "2022-08-11T08:51:16.971Z"
   },
   {
    "duration": 16,
    "start_time": "2022-08-11T08:51:17.010Z"
   },
   {
    "duration": 25,
    "start_time": "2022-08-11T08:51:17.029Z"
   },
   {
    "duration": 44,
    "start_time": "2022-08-11T08:51:17.057Z"
   },
   {
    "duration": 23,
    "start_time": "2022-08-11T08:51:17.102Z"
   },
   {
    "duration": 22,
    "start_time": "2022-08-11T08:51:17.127Z"
   },
   {
    "duration": 35,
    "start_time": "2022-08-11T08:51:17.168Z"
   },
   {
    "duration": 535,
    "start_time": "2022-08-11T09:59:05.769Z"
   },
   {
    "duration": 25,
    "start_time": "2022-08-11T09:59:06.306Z"
   },
   {
    "duration": 16,
    "start_time": "2022-08-11T09:59:06.333Z"
   },
   {
    "duration": 33,
    "start_time": "2022-08-11T09:59:06.351Z"
   },
   {
    "duration": 42,
    "start_time": "2022-08-11T09:59:06.386Z"
   },
   {
    "duration": 3,
    "start_time": "2022-08-11T09:59:06.430Z"
   },
   {
    "duration": 13,
    "start_time": "2022-08-11T09:59:06.435Z"
   },
   {
    "duration": 18,
    "start_time": "2022-08-11T09:59:06.450Z"
   },
   {
    "duration": 39,
    "start_time": "2022-08-11T09:59:06.470Z"
   },
   {
    "duration": 6,
    "start_time": "2022-08-11T09:59:06.511Z"
   },
   {
    "duration": 56,
    "start_time": "2022-08-11T09:59:06.519Z"
   },
   {
    "duration": 20,
    "start_time": "2022-08-11T09:59:06.577Z"
   },
   {
    "duration": 8,
    "start_time": "2022-08-11T09:59:06.599Z"
   },
   {
    "duration": 19,
    "start_time": "2022-08-11T09:59:06.609Z"
   },
   {
    "duration": 39,
    "start_time": "2022-08-11T09:59:06.630Z"
   },
   {
    "duration": 26,
    "start_time": "2022-08-11T09:59:06.671Z"
   },
   {
    "duration": 10,
    "start_time": "2022-08-11T09:59:06.699Z"
   },
   {
    "duration": 22,
    "start_time": "2022-08-11T09:59:06.712Z"
   },
   {
    "duration": 11,
    "start_time": "2022-08-11T09:59:06.736Z"
   },
   {
    "duration": 26,
    "start_time": "2022-08-11T09:59:06.749Z"
   },
   {
    "duration": 34,
    "start_time": "2022-08-11T09:59:06.777Z"
   },
   {
    "duration": 37,
    "start_time": "2022-08-11T09:59:06.814Z"
   },
   {
    "duration": 29,
    "start_time": "2022-08-11T09:59:06.853Z"
   },
   {
    "duration": 22,
    "start_time": "2022-08-11T09:59:06.885Z"
   },
   {
    "duration": 23,
    "start_time": "2022-08-11T09:59:06.909Z"
   },
   {
    "duration": 468,
    "start_time": "2022-08-11T10:03:26.117Z"
   },
   {
    "duration": 29,
    "start_time": "2022-08-11T10:03:26.588Z"
   },
   {
    "duration": 18,
    "start_time": "2022-08-11T10:03:26.619Z"
   },
   {
    "duration": 35,
    "start_time": "2022-08-11T10:03:26.639Z"
   },
   {
    "duration": 68,
    "start_time": "2022-08-11T10:03:26.677Z"
   },
   {
    "duration": 4,
    "start_time": "2022-08-11T10:03:26.747Z"
   },
   {
    "duration": 36,
    "start_time": "2022-08-11T10:03:26.752Z"
   },
   {
    "duration": 22,
    "start_time": "2022-08-11T10:03:26.790Z"
   },
   {
    "duration": 11,
    "start_time": "2022-08-11T10:03:26.814Z"
   },
   {
    "duration": 7,
    "start_time": "2022-08-11T10:03:26.827Z"
   },
   {
    "duration": 41,
    "start_time": "2022-08-11T10:03:26.836Z"
   },
   {
    "duration": 16,
    "start_time": "2022-08-11T10:03:26.880Z"
   },
   {
    "duration": 6,
    "start_time": "2022-08-11T10:03:26.898Z"
   },
   {
    "duration": 16,
    "start_time": "2022-08-11T10:03:26.907Z"
   },
   {
    "duration": 26,
    "start_time": "2022-08-11T10:03:26.924Z"
   },
   {
    "duration": 35,
    "start_time": "2022-08-11T10:03:26.951Z"
   },
   {
    "duration": 4,
    "start_time": "2022-08-11T10:03:26.988Z"
   },
   {
    "duration": 18,
    "start_time": "2022-08-11T10:03:26.993Z"
   },
   {
    "duration": 9,
    "start_time": "2022-08-11T10:03:27.013Z"
   },
   {
    "duration": 4,
    "start_time": "2022-08-11T10:03:27.023Z"
   },
   {
    "duration": 42,
    "start_time": "2022-08-11T10:03:27.028Z"
   },
   {
    "duration": 33,
    "start_time": "2022-08-11T10:03:27.072Z"
   },
   {
    "duration": 23,
    "start_time": "2022-08-11T10:03:27.107Z"
   },
   {
    "duration": 49,
    "start_time": "2022-08-11T10:03:27.132Z"
   },
   {
    "duration": 25,
    "start_time": "2022-08-11T10:03:27.183Z"
   },
   {
    "duration": 513,
    "start_time": "2022-08-11T10:06:40.616Z"
   },
   {
    "duration": 24,
    "start_time": "2022-08-11T10:06:41.132Z"
   },
   {
    "duration": 25,
    "start_time": "2022-08-11T10:06:41.158Z"
   },
   {
    "duration": 11,
    "start_time": "2022-08-11T10:06:41.187Z"
   },
   {
    "duration": 38,
    "start_time": "2022-08-11T10:06:41.199Z"
   },
   {
    "duration": 30,
    "start_time": "2022-08-11T10:06:41.239Z"
   },
   {
    "duration": 15,
    "start_time": "2022-08-11T10:06:41.271Z"
   },
   {
    "duration": 8,
    "start_time": "2022-08-11T10:06:41.288Z"
   },
   {
    "duration": 9,
    "start_time": "2022-08-11T10:06:41.298Z"
   },
   {
    "duration": 4,
    "start_time": "2022-08-11T10:06:41.310Z"
   },
   {
    "duration": 64,
    "start_time": "2022-08-11T10:06:41.316Z"
   },
   {
    "duration": 13,
    "start_time": "2022-08-11T10:06:41.382Z"
   },
   {
    "duration": 6,
    "start_time": "2022-08-11T10:06:41.396Z"
   },
   {
    "duration": 14,
    "start_time": "2022-08-11T10:06:41.404Z"
   },
   {
    "duration": 20,
    "start_time": "2022-08-11T10:06:41.420Z"
   },
   {
    "duration": 47,
    "start_time": "2022-08-11T10:06:41.441Z"
   },
   {
    "duration": 5,
    "start_time": "2022-08-11T10:06:41.490Z"
   },
   {
    "duration": 21,
    "start_time": "2022-08-11T10:06:41.497Z"
   },
   {
    "duration": 10,
    "start_time": "2022-08-11T10:06:41.520Z"
   },
   {
    "duration": 14,
    "start_time": "2022-08-11T10:06:41.532Z"
   },
   {
    "duration": 41,
    "start_time": "2022-08-11T10:06:41.548Z"
   },
   {
    "duration": 29,
    "start_time": "2022-08-11T10:06:41.592Z"
   },
   {
    "duration": 51,
    "start_time": "2022-08-11T10:06:41.623Z"
   },
   {
    "duration": 33,
    "start_time": "2022-08-11T10:06:41.677Z"
   },
   {
    "duration": 21,
    "start_time": "2022-08-11T10:06:41.712Z"
   },
   {
    "duration": 476,
    "start_time": "2022-08-11T10:42:24.726Z"
   },
   {
    "duration": 20,
    "start_time": "2022-08-11T10:42:25.204Z"
   },
   {
    "duration": 14,
    "start_time": "2022-08-11T10:42:25.226Z"
   },
   {
    "duration": 8,
    "start_time": "2022-08-11T10:42:25.242Z"
   },
   {
    "duration": 28,
    "start_time": "2022-08-11T10:42:25.252Z"
   },
   {
    "duration": 3,
    "start_time": "2022-08-11T10:42:25.282Z"
   },
   {
    "duration": 26,
    "start_time": "2022-08-11T10:42:25.286Z"
   },
   {
    "duration": 4,
    "start_time": "2022-08-11T10:42:25.313Z"
   },
   {
    "duration": 11,
    "start_time": "2022-08-11T10:42:25.318Z"
   },
   {
    "duration": 5,
    "start_time": "2022-08-11T10:42:25.331Z"
   },
   {
    "duration": 30,
    "start_time": "2022-08-11T10:42:25.337Z"
   },
   {
    "duration": 39,
    "start_time": "2022-08-11T10:42:25.368Z"
   },
   {
    "duration": 4,
    "start_time": "2022-08-11T10:42:25.408Z"
   },
   {
    "duration": 12,
    "start_time": "2022-08-11T10:42:25.414Z"
   },
   {
    "duration": 22,
    "start_time": "2022-08-11T10:42:25.428Z"
   },
   {
    "duration": 15,
    "start_time": "2022-08-11T10:42:25.452Z"
   },
   {
    "duration": 3,
    "start_time": "2022-08-11T10:42:25.468Z"
   },
   {
    "duration": 35,
    "start_time": "2022-08-11T10:42:25.472Z"
   },
   {
    "duration": 5,
    "start_time": "2022-08-11T10:42:25.508Z"
   },
   {
    "duration": 4,
    "start_time": "2022-08-11T10:42:25.514Z"
   },
   {
    "duration": 12,
    "start_time": "2022-08-11T10:42:25.519Z"
   },
   {
    "duration": 23,
    "start_time": "2022-08-11T10:42:25.532Z"
   },
   {
    "duration": 18,
    "start_time": "2022-08-11T10:42:25.556Z"
   },
   {
    "duration": 46,
    "start_time": "2022-08-11T10:42:25.575Z"
   },
   {
    "duration": 17,
    "start_time": "2022-08-11T10:42:25.623Z"
   },
   {
    "duration": 507,
    "start_time": "2022-08-11T11:23:19.530Z"
   },
   {
    "duration": 30,
    "start_time": "2022-08-11T11:23:20.039Z"
   },
   {
    "duration": 16,
    "start_time": "2022-08-11T11:23:20.073Z"
   },
   {
    "duration": 13,
    "start_time": "2022-08-11T11:23:20.091Z"
   },
   {
    "duration": 62,
    "start_time": "2022-08-11T11:23:20.106Z"
   },
   {
    "duration": 5,
    "start_time": "2022-08-11T11:23:20.170Z"
   },
   {
    "duration": 24,
    "start_time": "2022-08-11T11:23:20.177Z"
   },
   {
    "duration": 3,
    "start_time": "2022-08-11T11:23:20.203Z"
   },
   {
    "duration": 9,
    "start_time": "2022-08-11T11:23:20.208Z"
   },
   {
    "duration": 4,
    "start_time": "2022-08-11T11:23:20.219Z"
   },
   {
    "duration": 47,
    "start_time": "2022-08-11T11:23:20.225Z"
   },
   {
    "duration": 12,
    "start_time": "2022-08-11T11:23:20.274Z"
   },
   {
    "duration": 6,
    "start_time": "2022-08-11T11:23:20.288Z"
   },
   {
    "duration": 23,
    "start_time": "2022-08-11T11:23:20.296Z"
   },
   {
    "duration": 27,
    "start_time": "2022-08-11T11:23:20.321Z"
   },
   {
    "duration": 32,
    "start_time": "2022-08-11T11:23:20.350Z"
   },
   {
    "duration": 6,
    "start_time": "2022-08-11T11:23:20.384Z"
   },
   {
    "duration": 23,
    "start_time": "2022-08-11T11:23:20.392Z"
   },
   {
    "duration": 13,
    "start_time": "2022-08-11T11:23:20.417Z"
   },
   {
    "duration": 13,
    "start_time": "2022-08-11T11:23:20.432Z"
   },
   {
    "duration": 21,
    "start_time": "2022-08-11T11:23:20.447Z"
   },
   {
    "duration": 33,
    "start_time": "2022-08-11T11:23:20.469Z"
   },
   {
    "duration": 22,
    "start_time": "2022-08-11T11:23:20.503Z"
   },
   {
    "duration": 45,
    "start_time": "2022-08-11T11:23:20.527Z"
   },
   {
    "duration": 26,
    "start_time": "2022-08-11T11:23:20.574Z"
   },
   {
    "duration": 515,
    "start_time": "2022-08-11T11:31:53.127Z"
   },
   {
    "duration": 27,
    "start_time": "2022-08-11T11:31:53.645Z"
   },
   {
    "duration": 20,
    "start_time": "2022-08-11T11:31:53.674Z"
   },
   {
    "duration": 11,
    "start_time": "2022-08-11T11:31:53.697Z"
   },
   {
    "duration": 63,
    "start_time": "2022-08-11T11:31:53.710Z"
   },
   {
    "duration": 5,
    "start_time": "2022-08-11T11:31:53.775Z"
   },
   {
    "duration": 18,
    "start_time": "2022-08-11T11:31:53.782Z"
   },
   {
    "duration": 7,
    "start_time": "2022-08-11T11:31:53.802Z"
   },
   {
    "duration": 11,
    "start_time": "2022-08-11T11:31:53.810Z"
   },
   {
    "duration": 6,
    "start_time": "2022-08-11T11:31:53.825Z"
   },
   {
    "duration": 79,
    "start_time": "2022-08-11T11:31:53.833Z"
   },
   {
    "duration": 11,
    "start_time": "2022-08-11T11:31:53.914Z"
   },
   {
    "duration": 5,
    "start_time": "2022-08-11T11:31:53.927Z"
   },
   {
    "duration": 34,
    "start_time": "2022-08-11T11:31:53.934Z"
   },
   {
    "duration": 23,
    "start_time": "2022-08-11T11:31:53.970Z"
   },
   {
    "duration": 20,
    "start_time": "2022-08-11T11:31:53.995Z"
   },
   {
    "duration": 3,
    "start_time": "2022-08-11T11:31:54.017Z"
   },
   {
    "duration": 19,
    "start_time": "2022-08-11T11:31:54.022Z"
   },
   {
    "duration": 10,
    "start_time": "2022-08-11T11:31:54.069Z"
   },
   {
    "duration": 13,
    "start_time": "2022-08-11T11:31:54.082Z"
   },
   {
    "duration": 27,
    "start_time": "2022-08-11T11:31:54.098Z"
   },
   {
    "duration": 42,
    "start_time": "2022-08-11T11:31:54.127Z"
   },
   {
    "duration": 40,
    "start_time": "2022-08-11T11:31:54.173Z"
   },
   {
    "duration": 23,
    "start_time": "2022-08-11T11:31:54.215Z"
   },
   {
    "duration": 53,
    "start_time": "2022-08-11T11:31:54.240Z"
   },
   {
    "duration": 569,
    "start_time": "2022-08-11T11:33:29.776Z"
   },
   {
    "duration": 27,
    "start_time": "2022-08-11T11:33:30.347Z"
   },
   {
    "duration": 20,
    "start_time": "2022-08-11T11:33:30.376Z"
   },
   {
    "duration": 44,
    "start_time": "2022-08-11T11:33:30.398Z"
   },
   {
    "duration": 60,
    "start_time": "2022-08-11T11:33:30.444Z"
   },
   {
    "duration": 16,
    "start_time": "2022-08-11T11:33:30.506Z"
   },
   {
    "duration": 44,
    "start_time": "2022-08-11T11:33:30.524Z"
   },
   {
    "duration": 42,
    "start_time": "2022-08-11T11:33:30.572Z"
   },
   {
    "duration": 23,
    "start_time": "2022-08-11T11:33:30.616Z"
   },
   {
    "duration": 13,
    "start_time": "2022-08-11T11:33:30.641Z"
   },
   {
    "duration": 80,
    "start_time": "2022-08-11T11:33:30.656Z"
   },
   {
    "duration": 73,
    "start_time": "2022-08-11T11:33:30.738Z"
   },
   {
    "duration": 30,
    "start_time": "2022-08-11T11:33:30.813Z"
   },
   {
    "duration": 39,
    "start_time": "2022-08-11T11:33:30.846Z"
   },
   {
    "duration": 60,
    "start_time": "2022-08-11T11:33:30.888Z"
   },
   {
    "duration": 20,
    "start_time": "2022-08-11T11:33:30.950Z"
   },
   {
    "duration": 120,
    "start_time": "2022-08-11T11:33:30.973Z"
   },
   {
    "duration": 49,
    "start_time": "2022-08-11T11:33:31.096Z"
   },
   {
    "duration": 59,
    "start_time": "2022-08-11T11:33:31.148Z"
   },
   {
    "duration": 14,
    "start_time": "2022-08-11T11:33:31.209Z"
   },
   {
    "duration": 87,
    "start_time": "2022-08-11T11:33:31.225Z"
   },
   {
    "duration": 43,
    "start_time": "2022-08-11T11:33:31.314Z"
   },
   {
    "duration": 49,
    "start_time": "2022-08-11T11:33:31.359Z"
   },
   {
    "duration": 25,
    "start_time": "2022-08-11T11:33:31.410Z"
   },
   {
    "duration": 40,
    "start_time": "2022-08-11T11:33:31.437Z"
   },
   {
    "duration": 522,
    "start_time": "2022-08-11T11:34:49.058Z"
   },
   {
    "duration": 28,
    "start_time": "2022-08-11T11:34:49.582Z"
   },
   {
    "duration": 16,
    "start_time": "2022-08-11T11:34:49.611Z"
   },
   {
    "duration": 39,
    "start_time": "2022-08-11T11:34:49.629Z"
   },
   {
    "duration": 42,
    "start_time": "2022-08-11T11:34:49.670Z"
   },
   {
    "duration": 3,
    "start_time": "2022-08-11T11:34:49.714Z"
   },
   {
    "duration": 13,
    "start_time": "2022-08-11T11:34:49.719Z"
   },
   {
    "duration": 5,
    "start_time": "2022-08-11T11:34:49.733Z"
   },
   {
    "duration": 28,
    "start_time": "2022-08-11T11:34:49.740Z"
   },
   {
    "duration": 11,
    "start_time": "2022-08-11T11:34:49.773Z"
   },
   {
    "duration": 40,
    "start_time": "2022-08-11T11:34:49.786Z"
   },
   {
    "duration": 12,
    "start_time": "2022-08-11T11:34:49.828Z"
   },
   {
    "duration": 27,
    "start_time": "2022-08-11T11:34:49.842Z"
   },
   {
    "duration": 16,
    "start_time": "2022-08-11T11:34:49.871Z"
   },
   {
    "duration": 23,
    "start_time": "2022-08-11T11:34:49.890Z"
   },
   {
    "duration": 22,
    "start_time": "2022-08-11T11:34:49.915Z"
   },
   {
    "duration": 29,
    "start_time": "2022-08-11T11:34:49.939Z"
   },
   {
    "duration": 25,
    "start_time": "2022-08-11T11:34:49.970Z"
   },
   {
    "duration": 21,
    "start_time": "2022-08-11T11:34:49.997Z"
   },
   {
    "duration": 14,
    "start_time": "2022-08-11T11:34:50.020Z"
   },
   {
    "duration": 17,
    "start_time": "2022-08-11T11:34:50.036Z"
   },
   {
    "duration": 46,
    "start_time": "2022-08-11T11:34:50.055Z"
   },
   {
    "duration": 24,
    "start_time": "2022-08-11T11:34:50.102Z"
   },
   {
    "duration": 41,
    "start_time": "2022-08-11T11:34:50.128Z"
   },
   {
    "duration": 24,
    "start_time": "2022-08-11T11:34:50.172Z"
   },
   {
    "duration": 482,
    "start_time": "2022-08-11T11:36:43.594Z"
   },
   {
    "duration": 27,
    "start_time": "2022-08-11T11:36:44.079Z"
   },
   {
    "duration": 15,
    "start_time": "2022-08-11T11:36:44.107Z"
   },
   {
    "duration": 9,
    "start_time": "2022-08-11T11:36:44.125Z"
   },
   {
    "duration": 71,
    "start_time": "2022-08-11T11:36:44.136Z"
   },
   {
    "duration": 3,
    "start_time": "2022-08-11T11:36:44.209Z"
   },
   {
    "duration": 11,
    "start_time": "2022-08-11T11:36:44.213Z"
   },
   {
    "duration": 5,
    "start_time": "2022-08-11T11:36:44.225Z"
   },
   {
    "duration": 11,
    "start_time": "2022-08-11T11:36:44.231Z"
   },
   {
    "duration": 25,
    "start_time": "2022-08-11T11:36:44.245Z"
   },
   {
    "duration": 45,
    "start_time": "2022-08-11T11:36:44.272Z"
   },
   {
    "duration": 11,
    "start_time": "2022-08-11T11:36:44.319Z"
   },
   {
    "duration": 4,
    "start_time": "2022-08-11T11:36:44.331Z"
   },
   {
    "duration": 41,
    "start_time": "2022-08-11T11:36:44.337Z"
   },
   {
    "duration": 24,
    "start_time": "2022-08-11T11:36:44.381Z"
   },
   {
    "duration": 19,
    "start_time": "2022-08-11T11:36:44.407Z"
   },
   {
    "duration": 5,
    "start_time": "2022-08-11T11:36:44.428Z"
   },
   {
    "duration": 43,
    "start_time": "2022-08-11T11:36:44.435Z"
   },
   {
    "duration": 10,
    "start_time": "2022-08-11T11:36:44.481Z"
   },
   {
    "duration": 6,
    "start_time": "2022-08-11T11:36:44.493Z"
   },
   {
    "duration": 17,
    "start_time": "2022-08-11T11:36:44.502Z"
   },
   {
    "duration": 51,
    "start_time": "2022-08-11T11:36:44.520Z"
   },
   {
    "duration": 25,
    "start_time": "2022-08-11T11:36:44.573Z"
   },
   {
    "duration": 23,
    "start_time": "2022-08-11T11:36:44.599Z"
   },
   {
    "duration": 55,
    "start_time": "2022-08-11T11:36:44.623Z"
   },
   {
    "duration": 513,
    "start_time": "2022-08-11T11:37:49.492Z"
   },
   {
    "duration": 25,
    "start_time": "2022-08-11T11:37:50.007Z"
   },
   {
    "duration": 35,
    "start_time": "2022-08-11T11:37:50.034Z"
   },
   {
    "duration": 15,
    "start_time": "2022-08-11T11:37:50.071Z"
   },
   {
    "duration": 45,
    "start_time": "2022-08-11T11:37:50.089Z"
   },
   {
    "duration": 4,
    "start_time": "2022-08-11T11:37:50.136Z"
   },
   {
    "duration": 35,
    "start_time": "2022-08-11T11:37:50.142Z"
   },
   {
    "duration": 8,
    "start_time": "2022-08-11T11:37:50.179Z"
   },
   {
    "duration": 13,
    "start_time": "2022-08-11T11:37:50.192Z"
   },
   {
    "duration": 5,
    "start_time": "2022-08-11T11:37:50.209Z"
   },
   {
    "duration": 67,
    "start_time": "2022-08-11T11:37:50.215Z"
   },
   {
    "duration": 12,
    "start_time": "2022-08-11T11:37:50.284Z"
   },
   {
    "duration": 7,
    "start_time": "2022-08-11T11:37:50.299Z"
   },
   {
    "duration": 20,
    "start_time": "2022-08-11T11:37:50.308Z"
   },
   {
    "duration": 46,
    "start_time": "2022-08-11T11:37:50.330Z"
   },
   {
    "duration": 29,
    "start_time": "2022-08-11T11:37:50.379Z"
   },
   {
    "duration": 3,
    "start_time": "2022-08-11T11:37:50.410Z"
   },
   {
    "duration": 22,
    "start_time": "2022-08-11T11:37:50.415Z"
   },
   {
    "duration": 30,
    "start_time": "2022-08-11T11:37:50.439Z"
   },
   {
    "duration": 5,
    "start_time": "2022-08-11T11:37:50.471Z"
   },
   {
    "duration": 25,
    "start_time": "2022-08-11T11:37:50.478Z"
   },
   {
    "duration": 40,
    "start_time": "2022-08-11T11:37:50.506Z"
   },
   {
    "duration": 40,
    "start_time": "2022-08-11T11:37:50.548Z"
   },
   {
    "duration": 35,
    "start_time": "2022-08-11T11:37:50.591Z"
   },
   {
    "duration": 22,
    "start_time": "2022-08-11T11:37:50.628Z"
   },
   {
    "duration": 513,
    "start_time": "2022-08-11T13:16:45.679Z"
   },
   {
    "duration": 25,
    "start_time": "2022-08-11T13:16:46.194Z"
   },
   {
    "duration": 17,
    "start_time": "2022-08-11T13:16:46.220Z"
   },
   {
    "duration": 30,
    "start_time": "2022-08-11T13:16:46.239Z"
   },
   {
    "duration": 37,
    "start_time": "2022-08-11T13:16:46.271Z"
   },
   {
    "duration": 4,
    "start_time": "2022-08-11T13:16:46.310Z"
   },
   {
    "duration": 13,
    "start_time": "2022-08-11T13:16:46.315Z"
   },
   {
    "duration": 10,
    "start_time": "2022-08-11T13:16:46.330Z"
   },
   {
    "duration": 31,
    "start_time": "2022-08-11T13:16:46.343Z"
   },
   {
    "duration": 5,
    "start_time": "2022-08-11T13:16:46.378Z"
   },
   {
    "duration": 36,
    "start_time": "2022-08-11T13:16:46.385Z"
   },
   {
    "duration": 10,
    "start_time": "2022-08-11T13:16:46.423Z"
   },
   {
    "duration": 4,
    "start_time": "2022-08-11T13:16:46.435Z"
   },
   {
    "duration": 15,
    "start_time": "2022-08-11T13:16:46.469Z"
   },
   {
    "duration": 46,
    "start_time": "2022-08-11T13:16:46.486Z"
   },
   {
    "duration": 33,
    "start_time": "2022-08-11T13:16:46.534Z"
   },
   {
    "duration": 5,
    "start_time": "2022-08-11T13:16:46.570Z"
   },
   {
    "duration": 26,
    "start_time": "2022-08-11T13:16:46.578Z"
   },
   {
    "duration": 8,
    "start_time": "2022-08-11T13:16:46.606Z"
   },
   {
    "duration": 8,
    "start_time": "2022-08-11T13:16:46.616Z"
   },
   {
    "duration": 16,
    "start_time": "2022-08-11T13:16:46.626Z"
   },
   {
    "duration": 57,
    "start_time": "2022-08-11T13:16:46.645Z"
   },
   {
    "duration": 29,
    "start_time": "2022-08-11T13:16:46.704Z"
   },
   {
    "duration": 48,
    "start_time": "2022-08-11T13:16:46.734Z"
   },
   {
    "duration": 30,
    "start_time": "2022-08-11T13:16:46.785Z"
   },
   {
    "duration": 527,
    "start_time": "2022-08-11T13:17:58.546Z"
   },
   {
    "duration": 31,
    "start_time": "2022-08-11T13:17:59.075Z"
   },
   {
    "duration": 15,
    "start_time": "2022-08-11T13:17:59.108Z"
   },
   {
    "duration": 11,
    "start_time": "2022-08-11T13:17:59.125Z"
   },
   {
    "duration": 65,
    "start_time": "2022-08-11T13:17:59.138Z"
   },
   {
    "duration": 4,
    "start_time": "2022-08-11T13:17:59.205Z"
   },
   {
    "duration": 17,
    "start_time": "2022-08-11T13:17:59.211Z"
   },
   {
    "duration": 10,
    "start_time": "2022-08-11T13:17:59.230Z"
   },
   {
    "duration": 31,
    "start_time": "2022-08-11T13:17:59.242Z"
   },
   {
    "duration": 7,
    "start_time": "2022-08-11T13:17:59.276Z"
   },
   {
    "duration": 37,
    "start_time": "2022-08-11T13:17:59.285Z"
   },
   {
    "duration": 12,
    "start_time": "2022-08-11T13:17:59.324Z"
   },
   {
    "duration": 4,
    "start_time": "2022-08-11T13:17:59.368Z"
   },
   {
    "duration": 15,
    "start_time": "2022-08-11T13:17:59.374Z"
   },
   {
    "duration": 24,
    "start_time": "2022-08-11T13:17:59.391Z"
   },
   {
    "duration": 19,
    "start_time": "2022-08-11T13:17:59.417Z"
   },
   {
    "duration": 3,
    "start_time": "2022-08-11T13:17:59.438Z"
   },
   {
    "duration": 15,
    "start_time": "2022-08-11T13:17:59.468Z"
   },
   {
    "duration": 7,
    "start_time": "2022-08-11T13:17:59.486Z"
   },
   {
    "duration": 4,
    "start_time": "2022-08-11T13:17:59.495Z"
   },
   {
    "duration": 15,
    "start_time": "2022-08-11T13:17:59.500Z"
   },
   {
    "duration": 61,
    "start_time": "2022-08-11T13:17:59.517Z"
   },
   {
    "duration": 21,
    "start_time": "2022-08-11T13:17:59.580Z"
   },
   {
    "duration": 21,
    "start_time": "2022-08-11T13:17:59.603Z"
   },
   {
    "duration": 45,
    "start_time": "2022-08-11T13:17:59.626Z"
   },
   {
    "duration": 494,
    "start_time": "2022-08-11T13:18:50.963Z"
   },
   {
    "duration": 24,
    "start_time": "2022-08-11T13:18:51.459Z"
   },
   {
    "duration": 19,
    "start_time": "2022-08-11T13:18:51.485Z"
   },
   {
    "duration": 17,
    "start_time": "2022-08-11T13:18:51.506Z"
   },
   {
    "duration": 60,
    "start_time": "2022-08-11T13:18:51.525Z"
   },
   {
    "duration": 3,
    "start_time": "2022-08-11T13:18:51.587Z"
   },
   {
    "duration": 11,
    "start_time": "2022-08-11T13:18:51.592Z"
   },
   {
    "duration": 7,
    "start_time": "2022-08-11T13:18:51.605Z"
   },
   {
    "duration": 12,
    "start_time": "2022-08-11T13:18:51.613Z"
   },
   {
    "duration": 5,
    "start_time": "2022-08-11T13:18:51.628Z"
   },
   {
    "duration": 65,
    "start_time": "2022-08-11T13:18:51.634Z"
   },
   {
    "duration": 10,
    "start_time": "2022-08-11T13:18:51.701Z"
   },
   {
    "duration": 5,
    "start_time": "2022-08-11T13:18:51.713Z"
   },
   {
    "duration": 15,
    "start_time": "2022-08-11T13:18:51.719Z"
   },
   {
    "duration": 42,
    "start_time": "2022-08-11T13:18:51.735Z"
   },
   {
    "duration": 18,
    "start_time": "2022-08-11T13:18:51.779Z"
   },
   {
    "duration": 4,
    "start_time": "2022-08-11T13:18:51.798Z"
   },
   {
    "duration": 17,
    "start_time": "2022-08-11T13:18:51.804Z"
   },
   {
    "duration": 10,
    "start_time": "2022-08-11T13:18:51.823Z"
   },
   {
    "duration": 5,
    "start_time": "2022-08-11T13:18:51.834Z"
   },
   {
    "duration": 10,
    "start_time": "2022-08-11T13:18:51.868Z"
   },
   {
    "duration": 32,
    "start_time": "2022-08-11T13:18:51.880Z"
   },
   {
    "duration": 22,
    "start_time": "2022-08-11T13:18:51.914Z"
   },
   {
    "duration": 49,
    "start_time": "2022-08-11T13:18:51.937Z"
   },
   {
    "duration": 23,
    "start_time": "2022-08-11T13:18:51.988Z"
   },
   {
    "duration": 499,
    "start_time": "2022-08-11T13:22:58.563Z"
   },
   {
    "duration": 25,
    "start_time": "2022-08-11T13:22:59.064Z"
   },
   {
    "duration": 17,
    "start_time": "2022-08-11T13:22:59.091Z"
   },
   {
    "duration": 10,
    "start_time": "2022-08-11T13:22:59.110Z"
   },
   {
    "duration": 62,
    "start_time": "2022-08-11T13:22:59.121Z"
   },
   {
    "duration": 4,
    "start_time": "2022-08-11T13:22:59.184Z"
   },
   {
    "duration": 13,
    "start_time": "2022-08-11T13:22:59.189Z"
   },
   {
    "duration": 5,
    "start_time": "2022-08-11T13:22:59.204Z"
   },
   {
    "duration": 11,
    "start_time": "2022-08-11T13:22:59.210Z"
   },
   {
    "duration": 5,
    "start_time": "2022-08-11T13:22:59.223Z"
   },
   {
    "duration": 61,
    "start_time": "2022-08-11T13:22:59.229Z"
   },
   {
    "duration": 10,
    "start_time": "2022-08-11T13:22:59.292Z"
   },
   {
    "duration": 4,
    "start_time": "2022-08-11T13:22:59.303Z"
   },
   {
    "duration": 13,
    "start_time": "2022-08-11T13:22:59.308Z"
   },
   {
    "duration": 23,
    "start_time": "2022-08-11T13:22:59.323Z"
   },
   {
    "duration": 39,
    "start_time": "2022-08-11T13:22:59.347Z"
   },
   {
    "duration": 4,
    "start_time": "2022-08-11T13:22:59.388Z"
   },
   {
    "duration": 17,
    "start_time": "2022-08-11T13:22:59.393Z"
   },
   {
    "duration": 9,
    "start_time": "2022-08-11T13:22:59.412Z"
   },
   {
    "duration": 4,
    "start_time": "2022-08-11T13:22:59.422Z"
   },
   {
    "duration": 14,
    "start_time": "2022-08-11T13:22:59.428Z"
   },
   {
    "duration": 52,
    "start_time": "2022-08-11T13:22:59.444Z"
   },
   {
    "duration": 22,
    "start_time": "2022-08-11T13:22:59.498Z"
   },
   {
    "duration": 21,
    "start_time": "2022-08-11T13:22:59.522Z"
   },
   {
    "duration": 22,
    "start_time": "2022-08-11T13:22:59.569Z"
   },
   {
    "duration": 514,
    "start_time": "2022-08-11T13:41:18.860Z"
   },
   {
    "duration": 25,
    "start_time": "2022-08-11T13:41:19.376Z"
   },
   {
    "duration": 15,
    "start_time": "2022-08-11T13:41:19.403Z"
   },
   {
    "duration": 10,
    "start_time": "2022-08-11T13:41:19.420Z"
   },
   {
    "duration": 68,
    "start_time": "2022-08-11T13:41:19.432Z"
   },
   {
    "duration": 4,
    "start_time": "2022-08-11T13:41:19.504Z"
   },
   {
    "duration": 21,
    "start_time": "2022-08-11T13:41:19.510Z"
   },
   {
    "duration": 6,
    "start_time": "2022-08-11T13:41:19.534Z"
   },
   {
    "duration": 12,
    "start_time": "2022-08-11T13:41:19.542Z"
   },
   {
    "duration": 6,
    "start_time": "2022-08-11T13:41:19.567Z"
   },
   {
    "duration": 37,
    "start_time": "2022-08-11T13:41:19.575Z"
   },
   {
    "duration": 10,
    "start_time": "2022-08-11T13:41:19.614Z"
   },
   {
    "duration": 7,
    "start_time": "2022-08-11T13:41:19.626Z"
   },
   {
    "duration": 36,
    "start_time": "2022-08-11T13:41:19.634Z"
   },
   {
    "duration": 21,
    "start_time": "2022-08-11T13:41:19.671Z"
   },
   {
    "duration": 18,
    "start_time": "2022-08-11T13:41:19.694Z"
   },
   {
    "duration": 3,
    "start_time": "2022-08-11T13:41:19.714Z"
   },
   {
    "duration": 18,
    "start_time": "2022-08-11T13:41:19.719Z"
   },
   {
    "duration": 31,
    "start_time": "2022-08-11T13:41:19.740Z"
   },
   {
    "duration": 4,
    "start_time": "2022-08-11T13:41:19.773Z"
   },
   {
    "duration": 11,
    "start_time": "2022-08-11T13:41:19.779Z"
   },
   {
    "duration": 28,
    "start_time": "2022-08-11T13:41:19.792Z"
   },
   {
    "duration": 55,
    "start_time": "2022-08-11T13:41:19.822Z"
   },
   {
    "duration": 22,
    "start_time": "2022-08-11T13:41:19.878Z"
   },
   {
    "duration": 21,
    "start_time": "2022-08-11T13:41:19.902Z"
   },
   {
    "duration": 484,
    "start_time": "2022-08-11T13:43:34.790Z"
   },
   {
    "duration": 23,
    "start_time": "2022-08-11T13:43:35.276Z"
   },
   {
    "duration": 16,
    "start_time": "2022-08-11T13:43:35.303Z"
   },
   {
    "duration": 11,
    "start_time": "2022-08-11T13:43:35.321Z"
   },
   {
    "duration": 63,
    "start_time": "2022-08-11T13:43:35.334Z"
   },
   {
    "duration": 3,
    "start_time": "2022-08-11T13:43:35.399Z"
   },
   {
    "duration": 36,
    "start_time": "2022-08-11T13:43:35.404Z"
   },
   {
    "duration": 12,
    "start_time": "2022-08-11T13:43:35.442Z"
   },
   {
    "duration": 13,
    "start_time": "2022-08-11T13:43:35.457Z"
   },
   {
    "duration": 5,
    "start_time": "2022-08-11T13:43:35.471Z"
   },
   {
    "duration": 39,
    "start_time": "2022-08-11T13:43:35.478Z"
   },
   {
    "duration": 11,
    "start_time": "2022-08-11T13:43:35.519Z"
   },
   {
    "duration": 8,
    "start_time": "2022-08-11T13:43:35.532Z"
   },
   {
    "duration": 35,
    "start_time": "2022-08-11T13:43:35.541Z"
   },
   {
    "duration": 20,
    "start_time": "2022-08-11T13:43:35.577Z"
   },
   {
    "duration": 18,
    "start_time": "2022-08-11T13:43:35.599Z"
   },
   {
    "duration": 4,
    "start_time": "2022-08-11T13:43:35.618Z"
   },
   {
    "duration": 44,
    "start_time": "2022-08-11T13:43:35.624Z"
   },
   {
    "duration": 7,
    "start_time": "2022-08-11T13:43:35.669Z"
   },
   {
    "duration": 6,
    "start_time": "2022-08-11T13:43:35.678Z"
   },
   {
    "duration": 15,
    "start_time": "2022-08-11T13:43:35.685Z"
   },
   {
    "duration": 39,
    "start_time": "2022-08-11T13:43:35.701Z"
   },
   {
    "duration": 39,
    "start_time": "2022-08-11T13:43:35.742Z"
   },
   {
    "duration": 22,
    "start_time": "2022-08-11T13:43:35.783Z"
   },
   {
    "duration": 22,
    "start_time": "2022-08-11T13:43:35.806Z"
   },
   {
    "duration": 709,
    "start_time": "2022-08-11T17:58:23.882Z"
   },
   {
    "duration": 20,
    "start_time": "2022-08-11T17:58:24.593Z"
   },
   {
    "duration": 17,
    "start_time": "2022-08-11T17:58:24.614Z"
   },
   {
    "duration": 13,
    "start_time": "2022-08-11T17:58:24.633Z"
   },
   {
    "duration": 48,
    "start_time": "2022-08-11T17:58:24.647Z"
   },
   {
    "duration": 4,
    "start_time": "2022-08-11T17:58:24.696Z"
   },
   {
    "duration": 24,
    "start_time": "2022-08-11T17:58:24.702Z"
   },
   {
    "duration": 19,
    "start_time": "2022-08-11T17:58:24.727Z"
   },
   {
    "duration": 22,
    "start_time": "2022-08-11T17:58:24.747Z"
   },
   {
    "duration": 14,
    "start_time": "2022-08-11T17:58:24.771Z"
   },
   {
    "duration": 46,
    "start_time": "2022-08-11T17:58:24.786Z"
   },
   {
    "duration": 9,
    "start_time": "2022-08-11T17:58:24.833Z"
   },
   {
    "duration": 35,
    "start_time": "2022-08-11T17:58:24.844Z"
   },
   {
    "duration": 33,
    "start_time": "2022-08-11T17:58:24.881Z"
   },
   {
    "duration": 34,
    "start_time": "2022-08-11T17:58:24.916Z"
   },
   {
    "duration": 30,
    "start_time": "2022-08-11T17:58:24.952Z"
   },
   {
    "duration": 10,
    "start_time": "2022-08-11T17:58:24.984Z"
   },
   {
    "duration": 38,
    "start_time": "2022-08-11T17:58:24.995Z"
   },
   {
    "duration": 18,
    "start_time": "2022-08-11T17:58:25.035Z"
   },
   {
    "duration": 31,
    "start_time": "2022-08-11T17:58:25.054Z"
   },
   {
    "duration": 21,
    "start_time": "2022-08-11T17:58:25.087Z"
   },
   {
    "duration": 51,
    "start_time": "2022-08-11T17:58:25.110Z"
   },
   {
    "duration": 29,
    "start_time": "2022-08-11T17:58:25.163Z"
   },
   {
    "duration": 17,
    "start_time": "2022-08-11T17:58:25.193Z"
   },
   {
    "duration": 23,
    "start_time": "2022-08-11T17:58:25.212Z"
   }
  ],
  "colab": {
   "name": "dpp_template_part2.ipynb",
   "provenance": []
  },
  "language_info": {
   "codemirror_mode": {
    "name": "ipython",
    "version": 3
   },
   "file_extension": ".py",
   "mimetype": "text/x-python",
   "name": "python",
   "nbconvert_exporter": "python",
   "pygments_lexer": "ipython3",
   "version": "3.7.7"
  },
  "notebookId": "17e48a05-596f-46ba-ba03-cb56ec16371a",
  "notebookPath": "YANDEX/2_02.ipynb",
  "toc": {
   "base_numbering": 1,
   "nav_menu": {},
   "number_sections": true,
   "sideBar": true,
   "skip_h1_title": true,
   "title_cell": "Table of Contents",
   "title_sidebar": "Contents",
   "toc_cell": false,
   "toc_position": {
    "height": "calc(100% - 180px)",
    "left": "10px",
    "top": "150px",
    "width": "580.391px"
   },
   "toc_section_display": true,
   "toc_window_display": true
  }
 },
 "nbformat": 4,
 "nbformat_minor": 5
}
