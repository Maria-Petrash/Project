{
 "cells": [
  {
   "cell_type": "markdown",
   "metadata": {
    "cellId": "jo93a0e6dli6fk8z0k9u18"
   },
   "source": [
    "<div class=\"alert alert-info\">\n",
    "<font size=\"5\"><b>Комментарий ревьюера</b></font>\n",
    "\n",
    "Привет Мария! Меня зовут Марат, и я буду твоим ревьюером. Спешу сообщить что все ключевые этапы в работе выполнены,  с задачей тебе удалось справиться. По поводу обращения - в IT сфере принято общаться на «ты» :) Но, если привычней на «вы», дай знать. Как ревьюера моя задача помочь тебе в развитии, дав хорошие советы. Я внимательно посмотрю твой код, ознакомлюсь с твоими выводами и оставлю комментарии. Где то могу предложить небольшие исправление в коде, но ненавязчиво. Где потребуются уточнения, я оставлю много наводящих вопросов. Они помогут тебя с поиском верного решения.\n",
    "\n",
    "Все мои комментарии размечены по цветам, для лучшего восприятия. \n",
    "    \n",
    "<div class=\"alert alert-success\">Зеленым цветом и 👍, словом «Успех» отмечены особо удачные и элегантные решения, которыми ты можешь гордиться. </div>\n",
    "        \n",
    "<div class=\"alert alert-warning\">Желтым и 🤔, словом «Совет», помечены решения у которых есть альтернативные решения, более оптимальные. Ты можешь найти их сразу и доработать проект, или отложить это на потом, для будущих проектах. Проект будет принят и без их доработки. </div>\n",
    "        \n",
    "<div class=\"alert alert-danger\"> Красным цветом и значком ❌, словом «Ошибка» помечу твои решения, на которые стоит обратить внимание прежде всего. После их доработки проект будет принят. </div>\n",
    "        \n",
    "Залог успеха - работа сообща, взаимное уважение и работа в диалоге. Поэтому, помечай свои ответные комментарии на мои реплики заметным цветом или курсивом, так мне будет легче их отслеживать. Пожалуйста, не изменяй и не удаляй мои комментарии. Все это поможет выполнить повторную проверку быстрей.\n",
    "\n",
    "</div>"
   ]
  },
  {
   "cell_type": "markdown",
   "metadata": {
    "cellId": "nrorzum280noxpjg6khvsg",
    "toc": true
   },
   "source": [
    "<h1>Содержание<span class=\"tocSkip\"></span></h1>\n",
    "<div class=\"toc\"><ul class=\"toc-item\"><li><span><a href=\"#Загрузка-данных\" data-toc-modified-id=\"Загрузка-данных-1\"><span class=\"toc-item-num\">1&nbsp;&nbsp;</span>Загрузка данных</a></span></li><li><span><a href=\"#Умножение-матриц\" data-toc-modified-id=\"Умножение-матриц-2\"><span class=\"toc-item-num\">2&nbsp;&nbsp;</span>Умножение матриц</a></span><ul class=\"toc-item\"><li><span><a href=\"#Разобьём-данные-на-обучающую-и-целевую-выборки\" data-toc-modified-id=\"Разобьём-данные-на-обучающую-и-целевую-выборки-2.1\"><span class=\"toc-item-num\">2.1&nbsp;&nbsp;</span>Разобьём данные на обучающую и целевую выборки</a></span></li><li><span><a href=\"#Используя-класс,-воспроизведём-линейную-регрессию\" data-toc-modified-id=\"Используя-класс,-воспроизведём-линейную-регрессию-2.2\"><span class=\"toc-item-num\">2.2&nbsp;&nbsp;</span>Используя класс, воспроизведём линейную регрессию</a></span></li><li><span><a href=\"#Обучим-модель-и-найдём-показатель-R2-до-преобразования\" data-toc-modified-id=\"Обучим-модель-и-найдём-показатель-R2-до-преобразования-2.3\"><span class=\"toc-item-num\">2.3&nbsp;&nbsp;</span>Обучим модель и найдём показатель R2 до преобразования</a></span></li><li><span><a href=\"#Обучим-модель-и-найдём-показатель-R2-после-преобразования\" data-toc-modified-id=\"Обучим-модель-и-найдём-показатель-R2-после-преобразования-2.4\"><span class=\"toc-item-num\">2.4&nbsp;&nbsp;</span>Обучим модель и найдём показатель R2 после преобразования</a></span></li><li><span><a href=\"#Напишем-итоговый-ответ-на-задание\" data-toc-modified-id=\"Напишем-итоговый-ответ-на-задание-2.5\"><span class=\"toc-item-num\">2.5&nbsp;&nbsp;</span>Напишем итоговый ответ на задание</a></span></li></ul></li><li><span><a href=\"#Алгоритм-преобразования\" data-toc-modified-id=\"Алгоритм-преобразования-3\"><span class=\"toc-item-num\">3&nbsp;&nbsp;</span>Алгоритм преобразования</a></span><ul class=\"toc-item\"><li><span><a href=\"#Предложить-вариант-преобразований-данных-для-задачи-и-обосновать:-почему-не-поменяется-качество-предсказаний\" data-toc-modified-id=\"Предложить-вариант-преобразований-данных-для-задачи-и-обосновать:-почему-не-поменяется-качество-предсказаний-3.1\"><span class=\"toc-item-num\">3.1&nbsp;&nbsp;</span>Предложить вариант преобразований данных для задачи и обосновать: почему не поменяется качество предсказаний</a></span></li><li><span><a href=\"#Создадим-функцию,-которая-воспроизведёт-StandartScaler\" data-toc-modified-id=\"Создадим-функцию,-которая-воспроизведёт-StandartScaler-3.2\"><span class=\"toc-item-num\">3.2&nbsp;&nbsp;</span>Создадим функцию, которая воспроизведёт StandartScaler</a></span></li><li><span><a href=\"#Сравним-массивы-после-стандартного-StandartScaler-и-после-нашего-ручного-в-виде-функции\" data-toc-modified-id=\"Сравним-массивы-после-стандартного-StandartScaler-и-после-нашего-ручного-в-виде-функции-3.3\"><span class=\"toc-item-num\">3.3&nbsp;&nbsp;</span>Сравним массивы после стандартного StandartScaler и после нашего ручного в виде функции</a></span></li></ul></li><li><span><a href=\"#Проверка-алгоритма\" data-toc-modified-id=\"Проверка-алгоритма-4\"><span class=\"toc-item-num\">4&nbsp;&nbsp;</span>Проверка алгоритма</a></span><ul class=\"toc-item\"><li><span><a href=\"#Сравним-показатели-R2-до-умножения-на-обратимую-матрицу-и-после\" data-toc-modified-id=\"Сравним-показатели-R2-до-умножения-на-обратимую-матрицу-и-после-4.1\"><span class=\"toc-item-num\">4.1&nbsp;&nbsp;</span>Сравним показатели R2 до умножения на обратимую матрицу и после</a></span></li><li><span><a href=\"#Сравним-показатели-R2-до-преобразования-StandartScaler-и-после\" data-toc-modified-id=\"Сравним-показатели-R2-до-преобразования-StandartScaler-и-после-4.2\"><span class=\"toc-item-num\">4.2&nbsp;&nbsp;</span>Сравним показатели R2 до преобразования StandartScaler и после</a></span></li></ul></li><li><span><a href=\"#Чек-лист-проверки\" data-toc-modified-id=\"Чек-лист-проверки-5\"><span class=\"toc-item-num\">5&nbsp;&nbsp;</span>Чек-лист проверки</a></span></li></ul></div>"
   ]
  },
  {
   "cell_type": "markdown",
   "metadata": {
    "cellId": "ahtry1abtuh0avop5y397kh"
   },
   "source": [
    "# Защита персональных данных клиентов"
   ]
  },
  {
   "cell_type": "markdown",
   "metadata": {
    "cellId": "lpo3ybtpmsu9dy90zlij"
   },
   "source": [
    "Цели и задачи проекта: \n",
    "- Нам нужно защитить данные клиентов страховой компании «Хоть потоп». \n",
    "- Разработать такой метод преобразования данных, чтобы по ним было сложно восстановить персональную информацию, обосновать корректность его работы.\n",
    "- Нужно защитить данные, чтобы при преобразовании качество моделей машинного обучения не ухудшилось. Подбирать наилучшую модель не требуется.\n",
    "\n",
    "Набор данных находится в файле /datasets/insurance.csv. \n"
   ]
  },
  {
   "cell_type": "markdown",
   "metadata": {
    "cellId": "mjlfx14l9yh5zulscnedcs"
   },
   "source": [
    "<div class=\"alert alert-success\">\n",
    "<font size=\"5\"><b>Комментарий ревьюера</b></font>\n",
    "\n",
    "Успех 👍:\n",
    "\n",
    "\n",
    "Вступление в работу очень важно, так человек, который смотрит твой проект (и на работе в том числе) будет сразу введен в курс дела.\n",
    "\n",
    "\n",
    "\n",
    "\n",
    "\n",
    "</div>"
   ]
  },
  {
   "cell_type": "markdown",
   "metadata": {
    "cellId": "qzap0i8ii1dsnc90hemnnc"
   },
   "source": [
    "## Загрузка данных"
   ]
  },
  {
   "cell_type": "code",
   "execution_count": null,
   "metadata": {
    "cellId": "v836ufmt8509v2msfywi4i"
   },
   "outputs": [],
   "source": [
    "#загрузим потенциально необходимые библиотеки, пакеты и пр.\n",
    "import pandas as pd\n",
    "import matplotlib.pyplot as plt\n",
    "import seaborn as sns\n",
    "import numpy as np\n",
    "import os\n",
    "\n",
    "pd.set_option(\"display.max_columns\", None)\n",
    "pd.set_option(\"display.float_format\", \"{:,.2f}\".format)\n",
    "\n",
    "import sklearn\n",
    "from sklearn.linear_model import LinearRegression\n",
    "from sklearn.preprocessing import StandardScaler \n",
    "from sklearn.metrics import r2_score\n",
    "import warnings\n",
    "warnings.filterwarnings('ignore')"
   ]
  },
  {
   "cell_type": "code",
   "execution_count": null,
   "metadata": {
    "cellId": "wsr1s3nkrbpvo4lrjlyh7"
   },
   "outputs": [],
   "source": [
    "data = pd.read_csv('/datasets/insurance.csv')\n",
    "data.head()"
   ]
  },
  {
   "cell_type": "code",
   "execution_count": null,
   "metadata": {
    "cellId": "0dh9b7qxawsu5olkfe8jakk"
   },
   "outputs": [],
   "source": [
    "data.head()"
   ]
  },
  {
   "cell_type": "markdown",
   "metadata": {
    "cellId": "6brdq8sig83tyjybf0fm7"
   },
   "source": [
    "Проанализируем полученную информацию"
   ]
  },
  {
   "cell_type": "code",
   "execution_count": null,
   "metadata": {
    "cellId": "t5cmb3gytzrjz9cvmmgjq"
   },
   "outputs": [],
   "source": [
    "data.info()"
   ]
  },
  {
   "cell_type": "code",
   "execution_count": null,
   "metadata": {
    "cellId": "4zh80ww3t6nhjhzg0h5mpp"
   },
   "outputs": [],
   "source": [
    "data.describe()"
   ]
  },
  {
   "cell_type": "markdown",
   "metadata": {
    "cellId": "noqjgp2m6h4h90v2w0yep"
   },
   "source": [
    "Зависимость целевого значения от других признаков:"
   ]
  },
  {
   "cell_type": "code",
   "execution_count": null,
   "metadata": {
    "cellId": "sjcv7r4kwpg63mj15ffb0f"
   },
   "outputs": [],
   "source": [
    "sns.set_style('ticks')\n",
    "sns.pairplot(data, hue='Страховые выплаты', height=2.5, diag_kind='hist',palette='deep')\n",
    "plt.suptitle(\"Графики зависимости целевой метки от параметров в данных\", y=1.02, fontsize=13)\n",
    "plt.show()"
   ]
  },
  {
   "cell_type": "code",
   "execution_count": null,
   "metadata": {
    "cellId": "rihjg77g7qaexye4gzove"
   },
   "outputs": [],
   "source": [
    "corr = data.corr()\n",
    "sns.heatmap(corr)"
   ]
  },
  {
   "cell_type": "code",
   "execution_count": null,
   "metadata": {
    "cellId": "k2fx0phxolojthikvqhf8o"
   },
   "outputs": [],
   "source": [
    "data = data.rename(\n",
    "    columns={\n",
    "    'Страховые выплаты':'insurance_payments'\n",
    "}\n",
    "  )"
   ]
  },
  {
   "cell_type": "markdown",
   "metadata": {
    "cellId": "qs8m03nymscf07visigjo"
   },
   "source": [
    "Датасет почти не нуждался в предобработке. Из графиков видно: по объёму не выплат страховок больше всего, а если и производятся, то чаще всего распространяются на людей старше 40 лет с семьями от двух человек.\n",
    "- В датафрейме 5000 строк и 5 столбцов.\n",
    "- Признаки: пол, возраст и зарплата застрахованного, количество членов его семьи.\n",
    "- Целевой признак: количество страховых выплат клиенту за последние 5 лет."
   ]
  },
  {
   "cell_type": "markdown",
   "metadata": {
    "cellId": "qxh8zyqf1k1pebpsu2xr7"
   },
   "source": [
    "<div class=\"alert alert-success\">\n",
    "<font size=\"5\"><b>Комментарий ревьюера</b></font>\n",
    "\n",
    "Успех 👍: \n",
    "    \n",
    "EDA проведено.  \n",
    "\n",
    "\n",
    "    \n",
    "<div class=\"alert alert-warning\">\n",
    "\n",
    "\n",
    "Совет 🤔: \n",
    "    \n",
    "    \n",
    "- Кроме того можно посмотреть на    корреляцию признаков. Известно ли тебе понятие мультиколлиниарность, какие 2 типа проблемы вызывает она и для каких моделей, и почему для данного проекта было бы интересно на нее глянуть? \n",
    "\n",
    "</div>\n",
    "\n"
   ]
  },
  {
   "cell_type": "markdown",
   "metadata": {
    "cellId": "52oexzzfnlqtb1j7yss8b"
   },
   "source": [
    "## Умножение матриц"
   ]
  },
  {
   "cell_type": "markdown",
   "metadata": {
    "cellId": "kyg9m6ctmuln7riddrvb3p"
   },
   "source": [
    "Обозначения:\n",
    "\n",
    "- $X$ — матрица признаков (нулевой столбец состоит из единиц)\n",
    "\n",
    "- $y$ — вектор целевого признака\n",
    "\n",
    "- $P$ — матрица, на которую умножаются признаки\n",
    "\n",
    "- $w$ — вектор весов линейной регрессии (нулевой элемент равен сдвигу)"
   ]
  },
  {
   "cell_type": "markdown",
   "metadata": {
    "cellId": "zisfsx7n4sftfjj2iz8ygf"
   },
   "source": [
    "Предсказания:\n",
    "\n",
    "$$\n",
    "a = Xw\n",
    "$$\n",
    "\n",
    "Задача обучения:\n",
    "\n",
    "$$\n",
    "w = \\arg\\min_w MSE(Xw, y)\n",
    "$$\n",
    "\n",
    "Формула обучения:\n",
    "\n",
    "$$\n",
    "w = (X^T X)^{-1} X^T y\n",
    "$$\n"
   ]
  },
  {
   "cell_type": "markdown",
   "metadata": {
    "cellId": "776evec72uwgnifftasmie"
   },
   "source": [
    "<div class=\"alert alert-danger\">\n",
    "<font size=\"5\"><b>Комментарий ревьюераV3</b></font>\n",
    "\n",
    "\n",
    "\n",
    "Ошибка ❌:\n",
    "\n",
    "\n",
    "\n",
    "Мария, чтобы выполнить проект нужно какое-то общение, пока я вижу что я задаю вопросы и на них ничего не следует. Всё такой же некорректно оформление, все также отсутствует доказательство, при этом ты очень быстро отправляешь свою работу обратно. Но от этого ведь ничего не изменится. Ещё раз:\n",
    "    \n",
    "- Разберись c оформлением, мы не отнимает от матриц еденицу, это записывается как степень -1\n",
    "    \n",
    "    \n",
    "- Ниже (3  Алгоритм преобразования) у тебя доказательство, ну так перенеси его сюда и поправь, потому что оно не верное. \n",
    "    \n",
    "    \n",
    "    \n",
    "<div class=\"alert alert-warning\">\n",
    "\n",
    "\n",
    "Совет 🤔:\n",
    "\n",
    "    \n",
    "    \n",
    "Подсказываю на основе того что ты писала ниже, с саомго начала\n",
    "    \n",
    "Знаем:    \n",
    "    \n",
    "$$\n",
    "w = (X^T X)^{-1} X^T y\n",
    "$$\n",
    " \n",
    "    \n",
    "Значит:\n",
    "    \n",
    "$$\n",
    "w' = ((XP)^T XP)^{-1} (XP)^T y\n",
    "$$\n",
    "    \n",
    "    \n",
    "Вот так мы сделать не можем:    \n",
    "    \n",
    "$\n",
    "((XР)^T(XР))^{-1} = (XP)^{-1}((XP)^T)^{-1}\n",
    "$    \n",
    "\n",
    "\n",
    "    \n",
    "Потому что произведение\n",
    "\n",
    "    \n",
    "$\n",
    "XP\n",
    "$    \n",
    "\n",
    "не квадратная матрица, следовательно\n",
    "    \n",
    "$    \n",
    "(XP)^{-1}\n",
    "$\n",
    "    \n",
    "и  \n",
    "    \n",
    "$\n",
    "((XP)^{T})^{-1} \n",
    "$    \n",
    "    \n",
    "не существуют, это как на ноль делить. Может когда то в линейную алгебру введут \"мнимые матрицы\", по подобию \"мнимых чисел\" )) Но пока не ввели, поэтому перепрыгивать через этот момент не можем.\n",
    "    \n",
    "    \n",
    "    \n",
    "\n",
    "    \n",
    "Так давай сначало раскроем под знаком транспонирования:\n",
    "    \n",
    "$$\n",
    "w' = (P^T X^T X P)^{-1} (XP)^T y\n",
    "$$\n",
    "    \n",
    "А теперь поставим скобочки чтобы лучше было видно: \n",
    "    \n",
    "    \n",
    "$$\n",
    "w' = (P^T (X^T X) P)^{-1} P^T X^T y\n",
    "$$    \n",
    "    \n",
    "\n",
    "и видим 3 квадратные матрицы!\n",
    "    \n",
    "$\n",
    "P^T, (X^T X), P\n",
    "$   \n",
    "    \n",
    "Используем правило:\n",
    "    \n",
    "    \n",
    "$$(ABC)^{-1} = C^{-1}(AB)^{-1} = (BC)^{-1}A^{-1} = C^{-1}B^{-1}A^{-1}$$\n",
    "    \n",
    "    \n",
    "    \n",
    "    \n",
    "Мария, большую часть доказательства я привёл, попробую доработать его до конца    "
   ]
  },
  {
   "cell_type": "markdown",
   "metadata": {
    "cellId": "5hjp8ji01ey6mswypg01n5"
   },
   "source": [
    "<div class=\"alert alert-danger\">\n",
    "<font size=\"5\"><b>Комментарий ревьюераV2</b></font>\n",
    "\n",
    "\n",
    "\n",
    "Ошибка ❌:\n",
    "\n",
    "- Мария, во-первых есть проблемы с оформлением - в таком виде это просто не читабельно. Используй знак $  ($f тут какие-то формулы$) для того чтобы выводить формулы в специальном виде\n",
    "\n",
    "- Здесь я жду строгое математическое доказательство.  То что написал я - это всего лишь постановка задачи. Ниже, в `3  Алгоритм` у тебя какие то преобразования. Но явно не в читабельно виде\n",
    "</div>"
   ]
  },
  {
   "cell_type": "markdown",
   "metadata": {
    "cellId": "jae3b8zukwgiem3e1kym2h"
   },
   "source": [
    "\n",
    "\n",
    "<div class=\"alert alert-danger\">\n",
    "<font size=\"5\"><b>Комментарий ревьюера</b></font>\n",
    "\n",
    "Ошибка ❌:\n",
    "    \n",
    "Тут мы делаем матричные преобразования и отвечаем на вопрос. Провести вычсиления это не совсем строгое доказательство с точки зрения математики.\n",
    "    \n",
    "    \n",
    "Как вообще это решать?   Есть несколько способов, например \"решить в лоб\". Для решения \"в лоб\" надо начать с постановки задачи, нам нужно установить тождество между  a и a', где\n",
    "    \n",
    "$a = X\\cdot w$ \n",
    "    \n",
    "$a' = X\\cdot P\\cdot w'$ \n",
    " \n",
    "    \n",
    "Далее выражаем   w' через:\n",
    "    \n",
    "$\n",
    "w' = ((X\\cdot P) \\cdot (X\\cdot P)^T)^{-1}\\cdot (X\\cdot P)^T\\cdot Y \n",
    "$     \n",
    "    \n",
    "    \n",
    "\n",
    "    \n",
    "      \n",
    "    \n",
    "И используя стандартные правила преобразования для решения задачи:    \n",
    "\n",
    "$$\n",
    "(AB)^T=B^T A^T\n",
    "$$\n",
    "\n",
    "$$\n",
    "A A^{-1} = A^{-1} A = E\n",
    "$$\n",
    "    \n",
    "    \n",
    "$$\n",
    "AE = EA = A\n",
    "$$  \n",
    "    \n",
    "\n",
    "$$(ABC)^{-1} = C^{-1}(AB)^{-1} = (BC)^{-1}A^{-1} = C^{-1}B^{-1}A^{-1},$$\n",
    " \n",
    "    \n",
    "    \n",
    "    \n",
    "Доказываем одно из утверждений    \n"
   ]
  },
  {
   "cell_type": "markdown",
   "metadata": {
    "cellId": "k280lii3o63ghddj96ze"
   },
   "source": [
    "### Разобьём данные на обучающую и целевую выборки"
   ]
  },
  {
   "cell_type": "code",
   "execution_count": null,
   "metadata": {
    "cellId": "jopkkcjopgfo1fthd54o"
   },
   "outputs": [],
   "source": [
    "features = data.drop('insurance_payments', axis=1)\n",
    "target = data['insurance_payments']"
   ]
  },
  {
   "cell_type": "code",
   "execution_count": null,
   "metadata": {
    "cellId": "a2l32y80o9f4gzmpnu7ah2"
   },
   "outputs": [],
   "source": [
    "# Напишем рекурсивную функцию, выдающую на выходе обратимую матрицу 4х4\n",
    "def invert():\n",
    "    s = np.random.normal(size=(4, 4))\n",
    "    try:\n",
    "        np.linalg.inv(s)\n",
    "        return s\n",
    "    except:\n",
    "        invert()"
   ]
  },
  {
   "cell_type": "markdown",
   "metadata": {
    "cellId": "ngqen3ssi7ewxvklcle1va"
   },
   "source": [
    "### Используя класс, воспроизведём линейную регрессию"
   ]
  },
  {
   "cell_type": "code",
   "execution_count": null,
   "metadata": {
    "cellId": "05ecco3dbw4gfftcyfytc2n"
   },
   "outputs": [],
   "source": [
    "class LinearRegression:\n",
    "    def fit(self, features, target):\n",
    "        X = np.concatenate((np.ones((len(features), 1)), features), axis=1)\n",
    "        y = target\n",
    "        w = np.linalg.inv(X.T @ X) @ X.T @ y\n",
    "        self.w = w[1:]\n",
    "        self.w0 = w[0]\n",
    "        \n",
    "    def predict(self, test_features):\n",
    "        return test_features @ self.w + self.w0"
   ]
  },
  {
   "cell_type": "markdown",
   "metadata": {
    "cellId": "hy7yexlaadjvgsv7jaobq"
   },
   "source": [
    "### Обучим модель и найдём показатель R2 до преобразования"
   ]
  },
  {
   "cell_type": "code",
   "execution_count": null,
   "metadata": {
    "cellId": "tsl84i4fhpbnh8vnkazlfp"
   },
   "outputs": [],
   "source": [
    "model = LinearRegression()\n",
    "model.fit(features, target)\n",
    "predictions = model.predict(features)\n",
    "R2_before = r2_score(target, predictions)\n",
    "print('Показатель R2 до преобразования равен:', R2_before)"
   ]
  },
  {
   "cell_type": "markdown",
   "metadata": {
    "cellId": "6foebhw976tky8qq10sx4h"
   },
   "source": [
    "### Обучим модель и найдём показатель R2 после преобразования"
   ]
  },
  {
   "cell_type": "code",
   "execution_count": null,
   "metadata": {
    "cellId": "dlnkifqr59kwnvsudt0d4p"
   },
   "outputs": [],
   "source": [
    "# Умножим фичи на обратимую матрицу\n",
    "new_features = features @ invert()\n",
    "\n",
    "# Повторим поиск параметра R2 на новых фичах\n",
    "model = LinearRegression()\n",
    "model.fit(new_features, target)\n",
    "predictions = model.predict(new_features)\n",
    "R2_after = r2_score(target, predictions)\n",
    "print('Показатель R2 после преобразования равен:', R2_after)"
   ]
  },
  {
   "cell_type": "markdown",
   "metadata": {
    "cellId": "uze59my8dtiza96q9t8kdr"
   },
   "source": [
    "### Напишем итоговый ответ на задание "
   ]
  },
  {
   "cell_type": "markdown",
   "metadata": {
    "cellId": "t1etotmweyc0oeqestk"
   },
   "source": [
    " **Мы проверили качество обучения фичей до преобразованиz и после преобразования (умноженную на обратимую матрицу, полученную рандомно) через коэффициент детерминации R2. Качество модели осталось на том же уровне.**\n",
    "\n",
    "**Обоснование:** **Обоснуем отсутствие изменений в качестве линейной регрессии после её преобразования (умножения на обратимую матрицу), где**\n",
    "- $a$ — вектор предсказаний\n",
    "\n",
    "- $a1$ — вектор предсказаний после умножения на матрицу\n",
    "\n",
    "- $X$ — матрица признаков (нулевой столбец состоит из единиц)\n",
    "\n",
    "- $X1$ — матрица признаков после умножения (нулевой столбец состоит из единиц)\n",
    "\n",
    "- $Е$ — единичная матрица\n",
    "\n",
    "- $y$ — вектор целевого признака\n",
    "\n",
    "- $P$ — матрица, на которую умножаются признаки\n",
    "\n",
    "- $w$ — вектор весов линейной регрессии (нулевой элемент равен сдвигу)\n",
    "\n",
    "Вектор предсказаний линейной регрессии имеет вид $$a = Xw$$ \n",
    "\n",
    "Докажем, что после умножения на матрицу Р, он не будет иметь значительных изменений $$a1 = а$$\n",
    "\n",
    "Формула Х1:  \n",
    "$$ X1 = X P $$  \n",
    "\n",
    "Формула веса :  \n",
    "$$ w = (X^T X)^{-1} X^T y $$\n",
    "Подставим X1 в формулу веса после умножения и выполним преобразования:  \n",
    "$$ w1 = ((XP)^T XP)^{-1} (XP)^T y  => $$\n",
    "$$ w1 = (P^T (X^T X) P)^{-1} P^T X^T y => $$\n",
    "$$ w1 = P^{-1} (X^T X)^{-1} (P^T)^{-1} P^T X^T y => $$\n",
    "$$ w1 = P^{-1} ((X^T X)^{-1}) E X^T y $$\n",
    "$$ w1 = P^{-1} w $$\n",
    "\n",
    "Подставим w1 в формулу вектора предсказаний линейной регрессии после умножения и выполним преобразования:\n",
    "\n",
    "$$ a1 = X1 w1 $$\n",
    "$$ a1 = X P P^{-1} w $$\n",
    "$$ a1 = X w $$\n",
    "Таким образом, мы можем сделать вывод, что $$a=a1$$\n",
    "**Что и требовалось доказать**"
   ]
  },
  {
   "cell_type": "markdown",
   "metadata": {
    "cellId": "30uzfp40en2kzmr3g2s50e"
   },
   "source": [
    "<div class=\"alert alert-success\">\n",
    "<font size=\"5\"><b>Комментарий ревьюераV4</b></font>\n",
    "\n",
    "\n",
    "\n",
    "Успех 👍:\n",
    "\n",
    "\n",
    "\n",
    "Это верное решение.  Я понимаю есть сложности, особенности математика темный лес. Ну если у тебя есть какие-то сложности лучше начать общаться с ревьюером.\n",
    "\n",
    "\n",
    "\n",
    "\n",
    "</div>\n"
   ]
  },
  {
   "cell_type": "markdown",
   "metadata": {
    "cellId": "xk6ab4z6gtdg29sparro7"
   },
   "source": [
    "## Алгоритм преобразования"
   ]
  },
  {
   "cell_type": "markdown",
   "metadata": {
    "cellId": "rpk8utg1zmauw7y89qq27"
   },
   "source": [
    "### Предложить вариант преобразований данных для задачи и обосновать: почему не поменяется качество предсказаний\n"
   ]
  },
  {
   "cell_type": "markdown",
   "metadata": {
    "cellId": "mab0dcbf0j9tdesnf0d0tj"
   },
   "source": [
    "*Можно выполнить преобразования методами StandartScaler или MinMaxScaler*\n",
    "\n",
    "*В качестве примера рассмотрим StandartScaler*"
   ]
  },
  {
   "cell_type": "code",
   "execution_count": null,
   "metadata": {
    "cellId": "35o8ffl133wgebftn6v8ed"
   },
   "outputs": [],
   "source": [
    "# Создадим копию нашей фичи перед преобразованием\n",
    "features_scaler = features.copy()\n",
    "\n",
    "# Создадим список из столбцов наших фичей\n",
    "numeric = list(features.columns)\n",
    "\n",
    "# Выполним преобразования методом StandartScaler\n",
    "scaler = StandardScaler()\n",
    "scaler.fit(features_scaler[numeric])\n",
    "features_scaler[numeric] = scaler.transform(features_scaler[numeric])"
   ]
  },
  {
   "cell_type": "code",
   "execution_count": null,
   "metadata": {
    "cellId": "h9ftleojc0nl2l767erppr"
   },
   "outputs": [],
   "source": [
    "# Обучим модель после преобразования\n",
    "model = LinearRegression()\n",
    "model.fit(features_scaler, target)\n",
    "predictions = model.predict(features_scaler)\n",
    "R2_scaler = r2_score(target, predictions)\n",
    "print('Показатель R2 для метода StandartScaler равен:', R2_scaler)"
   ]
  },
  {
   "cell_type": "markdown",
   "metadata": {
    "cellId": "f6fynlreqlkx6iv34dist"
   },
   "source": [
    "Формула StandartScaler имеет вид $$z = (x - u) / s$$, где\n",
    "- $х$ — изменяемый признак\n",
    "\n",
    "- $u$ — среднее значение этого признака\n",
    "\n",
    "- $s$ — стандартное отклонение"
   ]
  },
  {
   "cell_type": "markdown",
   "metadata": {
    "cellId": "5uusy2bydyb9wddf6dfmp6"
   },
   "source": [
    "### Создадим функцию, которая воспроизведёт StandartScaler"
   ]
  },
  {
   "cell_type": "code",
   "execution_count": null,
   "metadata": {
    "cellId": "33822okc9w20tougsehdue"
   },
   "outputs": [],
   "source": [
    "def standart_scaller(X):\n",
    "    u = np.mean(X)\n",
    "    s = np.std(X)\n",
    "    new = []\n",
    "    for i in range(len(X)):  \n",
    "        vector=[]\n",
    "        for j in range(len(X.columns)):  \n",
    "            vector.append(\n",
    "                (np.array(X)[i,j] - u[j]) / s[j])\n",
    "        new.append(np.nan_to_num(vector))\n",
    "    new = np.array(new)\n",
    "    return new"
   ]
  },
  {
   "cell_type": "code",
   "execution_count": null,
   "metadata": {
    "cellId": "d5osnxwrnpaiy30e8754c"
   },
   "outputs": [],
   "source": [
    "# Вытащим преобразованный массив\n",
    "features_scaler_new = standart_scaller(features)\n",
    "# Обучим модель после преобразования\n",
    "model = LinearRegression()\n",
    "model.fit(features_scaler_new, target)\n",
    "predictions = model.predict(features_scaler_new)\n",
    "R2_scaler_new = r2_score(target, predictions)\n",
    "print('Показатель R2 для метода StandartScaler равен:', R2_scaler_new)"
   ]
  },
  {
   "cell_type": "markdown",
   "metadata": {
    "cellId": "xr7sr0g2gd85xpcg6n2bxm"
   },
   "source": [
    "### Сравним массивы после стандартного StandartScaler и после нашего ручного в виде функции"
   ]
  },
  {
   "cell_type": "code",
   "execution_count": null,
   "metadata": {
    "cellId": "6etoso871020qcjpsiucqgh"
   },
   "outputs": [],
   "source": [
    "# Наш созданный StandartScaler из функции\n",
    "features_scaler_new"
   ]
  },
  {
   "cell_type": "code",
   "execution_count": null,
   "metadata": {
    "cellId": "dfwj118q1eg4yi60qm0ed2"
   },
   "outputs": [],
   "source": [
    "# Стандартный StandartScaler\n",
    "np.array(features_scaler)"
   ]
  },
  {
   "cell_type": "markdown",
   "metadata": {
    "cellId": "7afduxl154iuo8hnfulpnb"
   },
   "source": [
    "*Они идентичны*"
   ]
  },
  {
   "cell_type": "markdown",
   "metadata": {
    "cellId": "oh0za12p6ek09thg0j57975"
   },
   "source": [
    "\n",
    "<div class=\"alert alert-success\">\n",
    "<font size=\"5\"><b>Комментарий ревьюера</b></font>\n",
    "\n",
    "Успех 👍:\n",
    "\n",
    "\n",
    "Все верно.\n",
    "\n",
    "\n",
    "\n",
    "<div class=\"alert alert-warning\">\n",
    "\n",
    "Совет 🤔:\n",
    "\n",
    "А если с сгенерирования матрица будет необратимой? Тут можно расписать порядок действий на все случаи в том числе на этот \n",
    "\n",
    "</div>\n",
    "\n"
   ]
  },
  {
   "cell_type": "markdown",
   "metadata": {
    "cellId": "qsqw0ezjj7gahz3hlbzex"
   },
   "source": [
    "## Проверка алгоритма"
   ]
  },
  {
   "cell_type": "markdown",
   "metadata": {
    "cellId": "7jc3rrfdwlx5mnlamjhtz"
   },
   "source": [
    "### Сравним показатели R2 до умножения на обратимую матрицу и после"
   ]
  },
  {
   "cell_type": "code",
   "execution_count": null,
   "metadata": {
    "cellId": "v9ntd492oys3it45aez7ey"
   },
   "outputs": [],
   "source": [
    "R2_before, R2_after"
   ]
  },
  {
   "cell_type": "markdown",
   "metadata": {
    "cellId": "aanzxazgbypcin54hkdo5"
   },
   "source": [
    "### Сравним показатели R2 до преобразования StandartScaler и после"
   ]
  },
  {
   "cell_type": "markdown",
   "metadata": {
    "cellId": "ntkiog7a05ndzx8bb989ne"
   },
   "source": [
    "Cравнивать показатели R2 между стандартным StandartScaler и StandartScaler из ручной функции не имеет смысла, мы уже убедились, что массивы полностью идентичны,следовательно будут идентичны и все остальные показатели. Так что для сравнения можно взять любой из них"
   ]
  },
  {
   "cell_type": "code",
   "execution_count": null,
   "metadata": {
    "cellId": "cqsfc6raortp1gpek28t7n"
   },
   "outputs": [],
   "source": [
    "R2_before, R2_scaler_new"
   ]
  },
  {
   "cell_type": "markdown",
   "metadata": {
    "cellId": "0m06clygzizftbb2gaqwx8l"
   },
   "source": [
    "В обоих случаях показатели равны"
   ]
  },
  {
   "cell_type": "markdown",
   "metadata": {
    "cellId": "1s1n6pri07r2lvtsldc6ur"
   },
   "source": [
    "- Мы загрузили файл с данными и сделали предобработку данных. \n",
    "- Затем ответили на вопрос: изменится ли качество линейной регрессии при умножении её на обратимую матрицу. \n",
    "- Мы увидели, что в показатель коэффиент детерминации остался на том же уровне. \n",
    "- Следом мы обосновали наш вывод путём преобразования формул, что дало нам уже точный ответ, что качество регрессии останется на том же уровне. \n",
    "- Были предложены два способа преобразования фичей без потерь качества предсказаний:Это методы StandartScaler или MinMaxScaler. \n",
    "- Исследовательскую работу мы провели по StandartScaler. Изменили фичи стандартным способом и через функцию, чтобы можно было сравнить и убедиться, что мы не ошиблись в формуле, после чего полученный массив опять обучили и вытащили метрику R2.\n",
    "- Она так же не повлияла на качество регрессии. С помощью преобразований мы не теряем качество, но при этом, если наши данные попадут не в те руки, то они окажутся бесполезными, следовательно можно сказать, что они у нас достаточно защищены."
   ]
  },
  {
   "cell_type": "markdown",
   "metadata": {
    "cellId": "6al8ni329wrjm1e6f9d77b"
   },
   "source": [
    "\n",
    "\n",
    "\n",
    "<div class=\"alert alert-warning\">\n",
    "<font size=\"5\"><b>Комментарий ревьюера</b></font>\n",
    "\n",
    "Совет 🤔:\n",
    "\n",
    "\n",
    "- ты проверяешь    матрицу на обратимость - отлично, но если она необратимая выскочит ошибка, код не исполнится до конца\n",
    "    \n",
    "Можно здесь было сделать похитрей - генерирум матрицу пока не получим обратимную и наш код  гарантированно полностью отработает. Добиться этого можно например так:\n",
    "\n",
    "\n",
    "    \n",
    "    def get_rand_matrix():\n",
    "        det = 0\n",
    "        while det == 0:\n",
    "            matrix = np.random.normal(size=(data.shape[1], data.shape[1]))\n",
    "            det = np.linalg.det(matrix)\n",
    "        return matrix\n",
    "\n",
    "C помощью рекурсии\n",
    "\n",
    "    def func(dim):\n",
    "        transform_matrix = np.random.rand(dim, dim)\n",
    "        try: \n",
    "            inv = np.linalg.inv(transform_matrix)\n",
    "            return transform_matrix, inv\n",
    "        except:\n",
    "            func(dim)  \n",
    "    \n",
    "\n",
    "- что насчет универсальности кода? Сейчас ты цифрой определяешь размерность случайной матрички, почему бы не написать код, который отработает для любой размерности матрицы обьект-признак?      \n",
    "    "
   ]
  },
  {
   "cell_type": "markdown",
   "metadata": {
    "cellId": "suchk8u8ws49d4vkybadt"
   },
   "source": [
    "\n",
    "\n",
    "<div class=\"alert alert-success\">\n",
    "<font size=\"5\"><b>Комментарий ревьюера</b></font>\n",
    "\n",
    "Успех 👍:\n",
    "    \n",
    "Все сошлось. Отдельный плюс за: \n",
    "    \n",
    "    \n",
    "\n",
    "\n",
    "- использование train_test_split - все правильно, помним о стандартах ML при моделировании\n",
    "\n",
    "\n",
    "<div class=\"alert alert-warning\">\n",
    "\n",
    "\n",
    "Совет 🤔: \n",
    "    \n",
    "    \n",
    "\n",
    "    \n",
    "- можно использовать pipeline (подав в него первым шагом наше преобразование), будет симпотичней\n",
    "\n",
    "\n",
    "\n",
    "\n",
    "</div>\n",
    "\n",
    "\n"
   ]
  },
  {
   "cell_type": "markdown",
   "metadata": {
    "cellId": "sf6ctqhs9iw2c9647cc8"
   },
   "source": [
    "\n",
    "<div class=\"alert alert-success\">\n",
    "<font size=\"5\"><b>Комментарий ревьюера</b></font>\n",
    "\n",
    "Успех 👍:\n",
    "\n",
    "\n",
    "Мария, здорово что в конце расписана все этапы работы. Это важно потому что когда проект захочет посмотреть будущий работодатель (или начальник), у него может не быть времени на подробный разбор кода. Вероятнее всего он бегло просмотрит код, а из общего вывода захочет получить представление о всей работе.\n",
    "\n",
    "\n",
    "\n",
    "</div>\n",
    "\n",
    "\n"
   ]
  },
  {
   "cell_type": "markdown",
   "metadata": {
    "cellId": "5tiwh31qqo7c2ak4z1rizp"
   },
   "source": [
    "\n",
    "<div class=\"alert alert-info\">\n",
    "<font size=\"5\"><b>Комментарий ревьюера</b></font>\n",
    "\n",
    "\n",
    "Мария, у тебя старательно выполненная работа, все четко, осмысленно. Отмечаю уровень твоей программистской подготовки. \n",
    "\n",
    "\n",
    "\n",
    "Обязательное к исправлению:\n",
    "\n",
    "\n",
    "\n",
    "    \n",
    "- дорабатываем теоретическое доказательство, с учетом моих комментариев   \n",
    "\n",
    "\n",
    "    \n",
    "    \n",
    "    \n",
    "Жду исправлений, для принятия проекта. Если какие то вопросы, то сразу спрашивай ) \n",
    "\n",
    "</div>\n",
    "\n"
   ]
  },
  {
   "cell_type": "markdown",
   "metadata": {
    "cellId": "nmtb845p3ykcf9rinx09gc"
   },
   "source": [
    "\n",
    "<div class=\"alert alert-info\">\n",
    "<font size=\"5\"><b>Комментарий ревьюераV2</b></font>\n",
    "\n",
    "\n",
    "Что осталось из красного:\n",
    "\n",
    "- Мария всё также жду строгого математического доказательства во втором разделе. Используя знаки знаки `$`,  чтобы формулы были в читаббельном виде\n",
    "     \n",
    "     \n",
    "     \n",
    "На связи     \n",
    "\n",
    "</div>"
   ]
  },
  {
   "cell_type": "markdown",
   "metadata": {
    "cellId": "i9tk1lm5wmrhu21fyiw5a"
   },
   "source": [
    "\n",
    "<div class=\"alert alert-info\">\n",
    "<font size=\"5\"><b>Комментарий ревьюераV3</b></font>\n",
    "\n",
    "\n",
    "Всё те же ошибки\n",
    "\n",
    "\n",
    "</div>"
   ]
  },
  {
   "cell_type": "markdown",
   "metadata": {
    "cellId": "u3icfftt4ukn6u3pofxa2k"
   },
   "source": [
    "\n",
    "<div class=\"alert alert-info\">\n",
    "<font size=\"5\"><b>Комментарий ревьюераV4</b></font>\n",
    "\n",
    "Спасибо за работу!    \n",
    "\n",
    "    \n",
    "Увидела математическое доказательство.\n",
    "  \n",
    "Желаю успехов в дальнейшей учебе!\n",
    "\n",
    "\n",
    "\n",
    "\n",
    "</div>"
   ]
  },
  {
   "cell_type": "markdown",
   "metadata": {
    "cellId": "qic3jhm2k9pcbil9eblk"
   },
   "source": [
    "## Чек-лист проверки"
   ]
  },
  {
   "cell_type": "markdown",
   "metadata": {
    "cellId": "0qrsqbjslehd69q9zvw0ks"
   },
   "source": [
    "Поставьте 'x' в выполненных пунктах. Далее нажмите Shift+Enter."
   ]
  },
  {
   "cell_type": "markdown",
   "metadata": {
    "cellId": "bwlowrjfjav3lsic09ps4b"
   },
   "source": [
    "- [x]  Jupyter Notebook открыт\n",
    "- [x]  Весь код выполняется без ошибок\n",
    "- [x]  Ячейки с кодом расположены в порядке исполнения\n",
    "- [x]  Выполнен шаг 1: данные загружены\n",
    "- [x]  Выполнен шаг 2: получен ответ на вопрос об умножении матриц\n",
    "    - [x]  Указан правильный вариант ответа\n",
    "    - [x]  Вариант обоснован\n",
    "- [x]  Выполнен шаг 3: предложен алгоритм преобразования\n",
    "    - [x]  Алгоритм описан\n",
    "    - [x]  Алгоритм обоснован\n",
    "- [x]  Выполнен шаг 4: алгоритм проверен\n",
    "    - [x]  Алгоритм реализован\n",
    "    - [x]  Проведено сравнение качества моделей до и после преобразования"
   ]
  }
 ],
 "metadata": {
  "ExecuteTimeLog": [
   {
    "duration": 44,
    "start_time": "2022-12-07T10:35:32.580Z"
   },
   {
    "duration": 7,
    "start_time": "2022-12-07T10:36:21.141Z"
   },
   {
    "duration": 1539,
    "start_time": "2022-12-07T10:36:50.530Z"
   },
   {
    "duration": 111,
    "start_time": "2022-12-07T10:36:52.072Z"
   },
   {
    "duration": 33,
    "start_time": "2022-12-07T10:53:28.883Z"
   },
   {
    "duration": 18,
    "start_time": "2022-12-07T10:54:18.933Z"
   },
   {
    "duration": 22,
    "start_time": "2022-12-07T10:54:42.864Z"
   },
   {
    "duration": 5,
    "start_time": "2022-12-07T10:55:32.715Z"
   },
   {
    "duration": 1355,
    "start_time": "2022-12-07T10:57:37.286Z"
   },
   {
    "duration": 128,
    "start_time": "2022-12-07T10:57:38.643Z"
   },
   {
    "duration": 0,
    "start_time": "2022-12-07T10:57:38.773Z"
   },
   {
    "duration": 0,
    "start_time": "2022-12-07T10:57:38.778Z"
   },
   {
    "duration": 0,
    "start_time": "2022-12-07T10:57:38.779Z"
   },
   {
    "duration": 1341,
    "start_time": "2022-12-07T10:57:52.250Z"
   },
   {
    "duration": 103,
    "start_time": "2022-12-07T10:57:53.592Z"
   },
   {
    "duration": 0,
    "start_time": "2022-12-07T10:57:53.699Z"
   },
   {
    "duration": 0,
    "start_time": "2022-12-07T10:57:53.700Z"
   },
   {
    "duration": 0,
    "start_time": "2022-12-07T10:57:53.701Z"
   },
   {
    "duration": 4,
    "start_time": "2022-12-07T10:58:10.976Z"
   },
   {
    "duration": 1377,
    "start_time": "2022-12-07T10:58:17.415Z"
   },
   {
    "duration": 4,
    "start_time": "2022-12-07T10:58:18.794Z"
   },
   {
    "duration": 145,
    "start_time": "2022-12-07T10:58:18.799Z"
   },
   {
    "duration": 0,
    "start_time": "2022-12-07T10:58:18.946Z"
   },
   {
    "duration": 0,
    "start_time": "2022-12-07T10:58:18.947Z"
   },
   {
    "duration": 0,
    "start_time": "2022-12-07T10:58:18.949Z"
   },
   {
    "duration": 1341,
    "start_time": "2022-12-07T10:58:33.505Z"
   },
   {
    "duration": 3,
    "start_time": "2022-12-07T10:58:34.848Z"
   },
   {
    "duration": 114,
    "start_time": "2022-12-07T10:58:34.853Z"
   },
   {
    "duration": 0,
    "start_time": "2022-12-07T10:58:34.972Z"
   },
   {
    "duration": 0,
    "start_time": "2022-12-07T10:58:34.973Z"
   },
   {
    "duration": 0,
    "start_time": "2022-12-07T10:58:34.978Z"
   },
   {
    "duration": 4,
    "start_time": "2022-12-07T10:59:33.531Z"
   },
   {
    "duration": 1403,
    "start_time": "2022-12-07T10:59:40.371Z"
   },
   {
    "duration": 3,
    "start_time": "2022-12-07T10:59:41.776Z"
   },
   {
    "duration": 109,
    "start_time": "2022-12-07T10:59:41.782Z"
   },
   {
    "duration": 0,
    "start_time": "2022-12-07T10:59:41.893Z"
   },
   {
    "duration": 0,
    "start_time": "2022-12-07T10:59:41.894Z"
   },
   {
    "duration": 0,
    "start_time": "2022-12-07T10:59:41.896Z"
   },
   {
    "duration": 3,
    "start_time": "2022-12-07T11:00:13.252Z"
   },
   {
    "duration": 8,
    "start_time": "2022-12-07T11:00:15.838Z"
   },
   {
    "duration": 3,
    "start_time": "2022-12-07T11:00:22.952Z"
   },
   {
    "duration": 9,
    "start_time": "2022-12-07T11:00:41.971Z"
   },
   {
    "duration": 1311,
    "start_time": "2022-12-07T11:00:48.034Z"
   },
   {
    "duration": 4,
    "start_time": "2022-12-07T11:00:49.346Z"
   },
   {
    "duration": 117,
    "start_time": "2022-12-07T11:00:49.352Z"
   },
   {
    "duration": 0,
    "start_time": "2022-12-07T11:00:49.470Z"
   },
   {
    "duration": 0,
    "start_time": "2022-12-07T11:00:49.471Z"
   },
   {
    "duration": 0,
    "start_time": "2022-12-07T11:00:49.473Z"
   },
   {
    "duration": 3,
    "start_time": "2022-12-07T11:01:29.135Z"
   },
   {
    "duration": 4,
    "start_time": "2022-12-07T11:02:05.747Z"
   },
   {
    "duration": 1326,
    "start_time": "2022-12-07T11:03:08.426Z"
   },
   {
    "duration": 3,
    "start_time": "2022-12-07T11:03:09.754Z"
   },
   {
    "duration": 106,
    "start_time": "2022-12-07T11:03:09.758Z"
   },
   {
    "duration": 0,
    "start_time": "2022-12-07T11:03:09.865Z"
   },
   {
    "duration": 0,
    "start_time": "2022-12-07T11:03:09.866Z"
   },
   {
    "duration": 0,
    "start_time": "2022-12-07T11:03:09.867Z"
   },
   {
    "duration": 3,
    "start_time": "2022-12-07T11:06:33.042Z"
   },
   {
    "duration": 10,
    "start_time": "2022-12-07T11:06:38.878Z"
   },
   {
    "duration": 1304,
    "start_time": "2022-12-07T11:06:43.929Z"
   },
   {
    "duration": 4,
    "start_time": "2022-12-07T11:06:45.235Z"
   },
   {
    "duration": 109,
    "start_time": "2022-12-07T11:06:45.240Z"
   },
   {
    "duration": 0,
    "start_time": "2022-12-07T11:06:45.350Z"
   },
   {
    "duration": 0,
    "start_time": "2022-12-07T11:06:45.352Z"
   },
   {
    "duration": 0,
    "start_time": "2022-12-07T11:06:45.353Z"
   },
   {
    "duration": 3,
    "start_time": "2022-12-07T11:09:12.849Z"
   },
   {
    "duration": 1513,
    "start_time": "2022-12-07T11:09:18.338Z"
   },
   {
    "duration": 4,
    "start_time": "2022-12-07T11:09:19.853Z"
   },
   {
    "duration": 127,
    "start_time": "2022-12-07T11:09:19.858Z"
   },
   {
    "duration": 1,
    "start_time": "2022-12-07T11:09:19.986Z"
   },
   {
    "duration": 0,
    "start_time": "2022-12-07T11:09:19.988Z"
   },
   {
    "duration": 0,
    "start_time": "2022-12-07T11:09:19.989Z"
   },
   {
    "duration": 72,
    "start_time": "2022-12-07T11:09:30.850Z"
   },
   {
    "duration": 10,
    "start_time": "2022-12-07T11:17:50.665Z"
   },
   {
    "duration": 11,
    "start_time": "2022-12-07T11:17:54.200Z"
   },
   {
    "duration": 1350,
    "start_time": "2022-12-07T11:17:58.493Z"
   },
   {
    "duration": 100,
    "start_time": "2022-12-07T11:17:59.845Z"
   },
   {
    "duration": 0,
    "start_time": "2022-12-07T11:17:59.946Z"
   },
   {
    "duration": 0,
    "start_time": "2022-12-07T11:17:59.948Z"
   },
   {
    "duration": 0,
    "start_time": "2022-12-07T11:17:59.949Z"
   },
   {
    "duration": 0,
    "start_time": "2022-12-07T11:17:59.951Z"
   },
   {
    "duration": 1357,
    "start_time": "2022-12-07T11:18:44.532Z"
   },
   {
    "duration": 100,
    "start_time": "2022-12-07T11:18:45.890Z"
   },
   {
    "duration": 0,
    "start_time": "2022-12-07T11:18:45.991Z"
   },
   {
    "duration": 0,
    "start_time": "2022-12-07T11:18:45.992Z"
   },
   {
    "duration": 0,
    "start_time": "2022-12-07T11:18:45.994Z"
   },
   {
    "duration": 0,
    "start_time": "2022-12-07T11:18:45.995Z"
   },
   {
    "duration": 4,
    "start_time": "2022-12-07T11:18:46.283Z"
   },
   {
    "duration": 30,
    "start_time": "2022-12-07T11:18:46.289Z"
   },
   {
    "duration": 0,
    "start_time": "2022-12-07T11:18:46.321Z"
   },
   {
    "duration": 0,
    "start_time": "2022-12-07T11:18:46.322Z"
   },
   {
    "duration": 0,
    "start_time": "2022-12-07T11:18:46.323Z"
   },
   {
    "duration": 0,
    "start_time": "2022-12-07T11:18:46.324Z"
   },
   {
    "duration": 4,
    "start_time": "2022-12-07T11:18:50.362Z"
   },
   {
    "duration": 14,
    "start_time": "2022-12-07T11:18:50.368Z"
   },
   {
    "duration": 0,
    "start_time": "2022-12-07T11:18:50.383Z"
   },
   {
    "duration": 0,
    "start_time": "2022-12-07T11:18:50.385Z"
   },
   {
    "duration": 0,
    "start_time": "2022-12-07T11:18:50.386Z"
   },
   {
    "duration": 0,
    "start_time": "2022-12-07T11:18:50.387Z"
   },
   {
    "duration": 4,
    "start_time": "2022-12-07T11:19:06.775Z"
   },
   {
    "duration": 48,
    "start_time": "2022-12-07T11:19:06.780Z"
   },
   {
    "duration": 0,
    "start_time": "2022-12-07T11:19:06.830Z"
   },
   {
    "duration": 0,
    "start_time": "2022-12-07T11:19:06.832Z"
   },
   {
    "duration": 0,
    "start_time": "2022-12-07T11:19:06.833Z"
   },
   {
    "duration": 0,
    "start_time": "2022-12-07T11:19:06.834Z"
   },
   {
    "duration": 4,
    "start_time": "2022-12-07T11:20:40.753Z"
   },
   {
    "duration": 12,
    "start_time": "2022-12-07T11:20:40.760Z"
   },
   {
    "duration": 0,
    "start_time": "2022-12-07T11:20:40.774Z"
   },
   {
    "duration": 0,
    "start_time": "2022-12-07T11:20:40.775Z"
   },
   {
    "duration": 0,
    "start_time": "2022-12-07T11:20:40.776Z"
   },
   {
    "duration": 0,
    "start_time": "2022-12-07T11:20:40.778Z"
   },
   {
    "duration": 4,
    "start_time": "2022-12-07T11:21:59.697Z"
   },
   {
    "duration": 14,
    "start_time": "2022-12-07T11:21:59.703Z"
   },
   {
    "duration": 0,
    "start_time": "2022-12-07T11:21:59.719Z"
   },
   {
    "duration": 0,
    "start_time": "2022-12-07T11:21:59.720Z"
   },
   {
    "duration": 0,
    "start_time": "2022-12-07T11:21:59.721Z"
   },
   {
    "duration": 0,
    "start_time": "2022-12-07T11:21:59.721Z"
   },
   {
    "duration": 8,
    "start_time": "2022-12-07T11:30:55.210Z"
   },
   {
    "duration": 4,
    "start_time": "2022-12-07T11:31:36.144Z"
   },
   {
    "duration": 4,
    "start_time": "2022-12-07T11:31:40.302Z"
   },
   {
    "duration": 47,
    "start_time": "2022-12-07T11:31:40.308Z"
   },
   {
    "duration": 10,
    "start_time": "2022-12-07T11:31:40.356Z"
   },
   {
    "duration": 17,
    "start_time": "2022-12-07T11:31:40.368Z"
   },
   {
    "duration": 27,
    "start_time": "2022-12-07T11:31:40.386Z"
   },
   {
    "duration": 8241,
    "start_time": "2022-12-07T11:31:40.415Z"
   },
   {
    "duration": 4,
    "start_time": "2022-12-07T11:34:13.514Z"
   },
   {
    "duration": 56,
    "start_time": "2022-12-07T11:34:13.519Z"
   },
   {
    "duration": 11,
    "start_time": "2022-12-07T11:34:13.577Z"
   },
   {
    "duration": 37,
    "start_time": "2022-12-07T11:34:13.590Z"
   },
   {
    "duration": 46,
    "start_time": "2022-12-07T11:34:13.628Z"
   },
   {
    "duration": 8723,
    "start_time": "2022-12-07T11:34:13.675Z"
   },
   {
    "duration": 4,
    "start_time": "2022-12-07T11:35:32.607Z"
   },
   {
    "duration": 37,
    "start_time": "2022-12-07T11:35:32.613Z"
   },
   {
    "duration": 8,
    "start_time": "2022-12-07T11:35:32.652Z"
   },
   {
    "duration": 24,
    "start_time": "2022-12-07T11:35:32.662Z"
   },
   {
    "duration": 33,
    "start_time": "2022-12-07T11:35:32.687Z"
   },
   {
    "duration": 8484,
    "start_time": "2022-12-07T11:35:32.722Z"
   },
   {
    "duration": 8474,
    "start_time": "2022-12-07T11:36:33.963Z"
   },
   {
    "duration": 8556,
    "start_time": "2022-12-07T11:37:14.206Z"
   },
   {
    "duration": 4,
    "start_time": "2022-12-07T11:37:23.599Z"
   },
   {
    "duration": 38,
    "start_time": "2022-12-07T11:37:23.606Z"
   },
   {
    "duration": 8,
    "start_time": "2022-12-07T11:37:23.646Z"
   },
   {
    "duration": 25,
    "start_time": "2022-12-07T11:37:23.656Z"
   },
   {
    "duration": 39,
    "start_time": "2022-12-07T11:37:23.683Z"
   },
   {
    "duration": 8122,
    "start_time": "2022-12-07T11:37:23.724Z"
   },
   {
    "duration": 4,
    "start_time": "2022-12-07T11:38:42.738Z"
   },
   {
    "duration": 14,
    "start_time": "2022-12-07T11:39:33.130Z"
   },
   {
    "duration": 4,
    "start_time": "2022-12-07T11:40:35.966Z"
   },
   {
    "duration": 42,
    "start_time": "2022-12-07T11:40:35.973Z"
   },
   {
    "duration": 12,
    "start_time": "2022-12-07T11:40:36.017Z"
   },
   {
    "duration": 32,
    "start_time": "2022-12-07T11:40:36.032Z"
   },
   {
    "duration": 41,
    "start_time": "2022-12-07T11:40:36.066Z"
   },
   {
    "duration": 8792,
    "start_time": "2022-12-07T11:40:36.109Z"
   },
   {
    "duration": 4,
    "start_time": "2022-12-07T11:40:44.903Z"
   },
   {
    "duration": 30,
    "start_time": "2022-12-07T11:40:44.909Z"
   },
   {
    "duration": 32,
    "start_time": "2022-12-07T11:40:44.941Z"
   },
   {
    "duration": 13,
    "start_time": "2022-12-08T08:33:07.800Z"
   },
   {
    "duration": 5,
    "start_time": "2022-12-08T08:33:42.891Z"
   },
   {
    "duration": 76,
    "start_time": "2022-12-08T08:33:42.899Z"
   },
   {
    "duration": 14,
    "start_time": "2022-12-08T08:33:42.977Z"
   },
   {
    "duration": 35,
    "start_time": "2022-12-08T08:33:42.994Z"
   },
   {
    "duration": 39,
    "start_time": "2022-12-08T08:33:43.032Z"
   },
   {
    "duration": 11644,
    "start_time": "2022-12-08T08:33:43.074Z"
   },
   {
    "duration": 7,
    "start_time": "2022-12-08T08:33:54.720Z"
   },
   {
    "duration": 35,
    "start_time": "2022-12-08T08:33:54.729Z"
   },
   {
    "duration": 8,
    "start_time": "2022-12-08T08:33:54.766Z"
   },
   {
    "duration": 11,
    "start_time": "2022-12-08T08:33:54.776Z"
   },
   {
    "duration": 25,
    "start_time": "2022-12-08T08:33:54.790Z"
   },
   {
    "duration": 5,
    "start_time": "2022-12-08T08:56:56.808Z"
   },
   {
    "duration": 11,
    "start_time": "2022-12-08T08:59:21.016Z"
   },
   {
    "duration": 23,
    "start_time": "2022-12-08T09:47:52.337Z"
   },
   {
    "duration": 4,
    "start_time": "2022-12-08T09:48:18.307Z"
   },
   {
    "duration": 46,
    "start_time": "2022-12-08T09:48:18.313Z"
   },
   {
    "duration": 13,
    "start_time": "2022-12-08T09:48:18.362Z"
   },
   {
    "duration": 26,
    "start_time": "2022-12-08T09:48:18.378Z"
   },
   {
    "duration": 43,
    "start_time": "2022-12-08T09:48:18.406Z"
   },
   {
    "duration": 9769,
    "start_time": "2022-12-08T09:48:18.451Z"
   },
   {
    "duration": 5,
    "start_time": "2022-12-08T09:48:28.222Z"
   },
   {
    "duration": 19,
    "start_time": "2022-12-08T09:48:28.230Z"
   },
   {
    "duration": 8,
    "start_time": "2022-12-08T09:48:28.253Z"
   },
   {
    "duration": 15,
    "start_time": "2022-12-08T09:48:28.277Z"
   },
   {
    "duration": 16,
    "start_time": "2022-12-08T09:48:28.294Z"
   },
   {
    "duration": 168,
    "start_time": "2022-12-08T09:48:28.311Z"
   },
   {
    "duration": 268,
    "start_time": "2022-12-08T09:48:28.482Z"
   },
   {
    "duration": 6,
    "start_time": "2022-12-08T09:48:28.751Z"
   },
   {
    "duration": 23,
    "start_time": "2022-12-08T09:48:28.759Z"
   },
   {
    "duration": 150,
    "start_time": "2022-12-08T09:48:28.784Z"
   },
   {
    "duration": 0,
    "start_time": "2022-12-08T09:48:28.936Z"
   },
   {
    "duration": 0,
    "start_time": "2022-12-08T09:48:28.937Z"
   },
   {
    "duration": 0,
    "start_time": "2022-12-08T09:48:28.938Z"
   },
   {
    "duration": 0,
    "start_time": "2022-12-08T09:48:28.939Z"
   },
   {
    "duration": 13,
    "start_time": "2022-12-08T09:50:48.273Z"
   },
   {
    "duration": 11,
    "start_time": "2022-12-08T09:51:56.653Z"
   },
   {
    "duration": 11,
    "start_time": "2022-12-08T09:52:31.845Z"
   },
   {
    "duration": 12,
    "start_time": "2022-12-08T09:52:47.180Z"
   },
   {
    "duration": 12,
    "start_time": "2022-12-08T09:52:48.877Z"
   },
   {
    "duration": 4,
    "start_time": "2022-12-08T09:52:53.004Z"
   },
   {
    "duration": 62,
    "start_time": "2022-12-08T09:52:53.010Z"
   },
   {
    "duration": 12,
    "start_time": "2022-12-08T09:52:53.075Z"
   },
   {
    "duration": 43,
    "start_time": "2022-12-08T09:52:53.090Z"
   },
   {
    "duration": 56,
    "start_time": "2022-12-08T09:52:53.136Z"
   },
   {
    "duration": 8732,
    "start_time": "2022-12-08T09:52:53.194Z"
   },
   {
    "duration": 6,
    "start_time": "2022-12-08T09:53:01.928Z"
   },
   {
    "duration": 48,
    "start_time": "2022-12-08T09:53:01.936Z"
   },
   {
    "duration": 44,
    "start_time": "2022-12-08T09:53:01.987Z"
   },
   {
    "duration": 27,
    "start_time": "2022-12-08T09:53:02.032Z"
   },
   {
    "duration": 16,
    "start_time": "2022-12-08T09:53:02.062Z"
   },
   {
    "duration": 103,
    "start_time": "2022-12-08T09:53:02.082Z"
   },
   {
    "duration": 290,
    "start_time": "2022-12-08T09:53:02.189Z"
   },
   {
    "duration": 6,
    "start_time": "2022-12-08T09:53:02.481Z"
   },
   {
    "duration": 23,
    "start_time": "2022-12-08T09:53:02.489Z"
   },
   {
    "duration": 75,
    "start_time": "2022-12-08T09:53:02.514Z"
   },
   {
    "duration": 93,
    "start_time": "2022-12-08T09:53:02.592Z"
   },
   {
    "duration": 40,
    "start_time": "2022-12-08T09:53:02.687Z"
   },
   {
    "duration": 288,
    "start_time": "2022-12-08T09:53:02.730Z"
   },
   {
    "duration": 5,
    "start_time": "2022-12-08T09:53:03.020Z"
   },
   {
    "duration": 24,
    "start_time": "2022-12-08T09:53:03.028Z"
   },
   {
    "duration": 111,
    "start_time": "2022-12-08T09:53:03.082Z"
   },
   {
    "duration": 30,
    "start_time": "2022-12-08T09:53:03.196Z"
   },
   {
    "duration": 19,
    "start_time": "2022-12-08T09:53:03.230Z"
   },
   {
    "duration": 14,
    "start_time": "2022-12-08T09:53:03.251Z"
   },
   {
    "duration": 13,
    "start_time": "2022-12-08T09:53:03.267Z"
   },
   {
    "duration": 14,
    "start_time": "2022-12-08T09:54:10.260Z"
   },
   {
    "duration": 15,
    "start_time": "2022-12-08T09:54:46.260Z"
   },
   {
    "duration": 5,
    "start_time": "2022-12-08T09:54:51.749Z"
   },
   {
    "duration": 45,
    "start_time": "2022-12-08T09:54:51.756Z"
   },
   {
    "duration": 9,
    "start_time": "2022-12-08T09:54:51.803Z"
   },
   {
    "duration": 16,
    "start_time": "2022-12-08T09:54:51.815Z"
   },
   {
    "duration": 42,
    "start_time": "2022-12-08T09:54:51.833Z"
   },
   {
    "duration": 8986,
    "start_time": "2022-12-08T09:54:51.877Z"
   },
   {
    "duration": 14,
    "start_time": "2022-12-08T09:55:00.865Z"
   },
   {
    "duration": 28,
    "start_time": "2022-12-08T09:55:00.881Z"
   },
   {
    "duration": 49,
    "start_time": "2022-12-08T09:55:00.912Z"
   },
   {
    "duration": 65,
    "start_time": "2022-12-08T09:55:00.963Z"
   },
   {
    "duration": 35,
    "start_time": "2022-12-08T09:55:01.030Z"
   },
   {
    "duration": 121,
    "start_time": "2022-12-08T09:55:01.067Z"
   },
   {
    "duration": 281,
    "start_time": "2022-12-08T09:55:01.190Z"
   },
   {
    "duration": 8,
    "start_time": "2022-12-08T09:55:01.473Z"
   },
   {
    "duration": 30,
    "start_time": "2022-12-08T09:55:01.484Z"
   },
   {
    "duration": 72,
    "start_time": "2022-12-08T09:55:01.516Z"
   },
   {
    "duration": 95,
    "start_time": "2022-12-08T09:55:01.589Z"
   },
   {
    "duration": 37,
    "start_time": "2022-12-08T09:55:01.686Z"
   },
   {
    "duration": 452,
    "start_time": "2022-12-08T09:55:01.726Z"
   },
   {
    "duration": 5,
    "start_time": "2022-12-08T09:55:02.180Z"
   },
   {
    "duration": 9,
    "start_time": "2022-12-08T09:55:02.188Z"
   },
   {
    "duration": 83,
    "start_time": "2022-12-08T09:55:02.199Z"
   },
   {
    "duration": 103,
    "start_time": "2022-12-08T09:55:02.284Z"
   },
   {
    "duration": 10,
    "start_time": "2022-12-08T09:55:02.390Z"
   },
   {
    "duration": 21,
    "start_time": "2022-12-08T09:55:02.402Z"
   },
   {
    "duration": 18,
    "start_time": "2022-12-08T09:55:02.425Z"
   },
   {
    "duration": 43,
    "start_time": "2022-12-08T09:55:02.445Z"
   },
   {
    "duration": 113,
    "start_time": "2022-12-08T09:55:02.490Z"
   },
   {
    "duration": 275,
    "start_time": "2022-12-08T09:55:02.606Z"
   },
   {
    "duration": 12,
    "start_time": "2022-12-08T09:55:02.883Z"
   },
   {
    "duration": 11,
    "start_time": "2022-12-08T12:42:32.495Z"
   },
   {
    "duration": 7,
    "start_time": "2022-12-08T12:43:35.780Z"
   },
   {
    "duration": 2458,
    "start_time": "2022-12-08T13:29:03.045Z"
   },
   {
    "duration": 127,
    "start_time": "2022-12-08T13:29:05.506Z"
   },
   {
    "duration": 8,
    "start_time": "2022-12-08T13:29:05.635Z"
   },
   {
    "duration": 13,
    "start_time": "2022-12-08T13:29:05.645Z"
   },
   {
    "duration": 27,
    "start_time": "2022-12-08T13:29:05.660Z"
   },
   {
    "duration": 8236,
    "start_time": "2022-12-08T13:29:05.689Z"
   },
   {
    "duration": 3,
    "start_time": "2022-12-08T13:29:13.927Z"
   },
   {
    "duration": 15,
    "start_time": "2022-12-08T13:29:13.932Z"
   },
   {
    "duration": 16,
    "start_time": "2022-12-08T13:29:13.949Z"
   },
   {
    "duration": 27,
    "start_time": "2022-12-08T13:29:13.967Z"
   },
   {
    "duration": 20,
    "start_time": "2022-12-08T13:29:13.995Z"
   },
   {
    "duration": 187,
    "start_time": "2022-12-08T13:29:14.018Z"
   },
   {
    "duration": 277,
    "start_time": "2022-12-08T13:29:14.207Z"
   },
   {
    "duration": 5,
    "start_time": "2022-12-08T13:29:14.485Z"
   },
   {
    "duration": 23,
    "start_time": "2022-12-08T13:29:14.491Z"
   },
   {
    "duration": 101,
    "start_time": "2022-12-08T13:29:14.516Z"
   },
   {
    "duration": 89,
    "start_time": "2022-12-08T13:29:14.619Z"
   },
   {
    "duration": 38,
    "start_time": "2022-12-08T13:29:14.709Z"
   },
   {
    "duration": 261,
    "start_time": "2022-12-08T13:29:14.749Z"
   },
   {
    "duration": 5,
    "start_time": "2022-12-08T13:29:15.012Z"
   },
   {
    "duration": 34,
    "start_time": "2022-12-08T13:29:15.019Z"
   },
   {
    "duration": 61,
    "start_time": "2022-12-08T13:29:15.055Z"
   },
   {
    "duration": 93,
    "start_time": "2022-12-08T13:29:15.118Z"
   },
   {
    "duration": 36,
    "start_time": "2022-12-08T13:29:15.213Z"
   },
   {
    "duration": 42,
    "start_time": "2022-12-08T13:29:15.251Z"
   },
   {
    "duration": 44,
    "start_time": "2022-12-08T13:29:15.295Z"
   },
   {
    "duration": 63,
    "start_time": "2022-12-08T13:29:15.342Z"
   },
   {
    "duration": 96,
    "start_time": "2022-12-08T13:29:15.410Z"
   },
   {
    "duration": 253,
    "start_time": "2022-12-08T13:29:15.508Z"
   },
   {
    "duration": 11,
    "start_time": "2022-12-08T13:29:15.763Z"
   },
   {
    "duration": 51,
    "start_time": "2022-12-08T17:42:46.251Z"
   },
   {
    "duration": 46,
    "start_time": "2022-12-08T17:43:20.751Z"
   },
   {
    "duration": 39,
    "start_time": "2022-12-08T17:43:39.428Z"
   },
   {
    "duration": 45,
    "start_time": "2022-12-08T17:44:50.596Z"
   },
   {
    "duration": 53,
    "start_time": "2022-12-08T17:44:57.340Z"
   },
   {
    "duration": 1253,
    "start_time": "2022-12-08T17:45:23.653Z"
   },
   {
    "duration": 37,
    "start_time": "2022-12-08T17:45:24.908Z"
   },
   {
    "duration": 9,
    "start_time": "2022-12-08T17:45:24.947Z"
   },
   {
    "duration": 11,
    "start_time": "2022-12-08T17:45:24.957Z"
   },
   {
    "duration": 22,
    "start_time": "2022-12-08T17:45:24.971Z"
   },
   {
    "duration": 7926,
    "start_time": "2022-12-08T17:45:24.994Z"
   },
   {
    "duration": 4,
    "start_time": "2022-12-08T17:45:32.921Z"
   },
   {
    "duration": 9,
    "start_time": "2022-12-08T17:45:32.926Z"
   },
   {
    "duration": 10,
    "start_time": "2022-12-08T17:45:32.936Z"
   },
   {
    "duration": 48,
    "start_time": "2022-12-08T17:45:32.947Z"
   },
   {
    "duration": 0,
    "start_time": "2022-12-08T17:45:32.997Z"
   },
   {
    "duration": 0,
    "start_time": "2022-12-08T17:45:32.998Z"
   },
   {
    "duration": 0,
    "start_time": "2022-12-08T17:45:32.999Z"
   },
   {
    "duration": 0,
    "start_time": "2022-12-08T17:45:33.000Z"
   },
   {
    "duration": 0,
    "start_time": "2022-12-08T17:45:33.001Z"
   },
   {
    "duration": 0,
    "start_time": "2022-12-08T17:45:33.003Z"
   },
   {
    "duration": 0,
    "start_time": "2022-12-08T17:45:33.004Z"
   },
   {
    "duration": 0,
    "start_time": "2022-12-08T17:45:33.005Z"
   },
   {
    "duration": 0,
    "start_time": "2022-12-08T17:45:33.006Z"
   },
   {
    "duration": 0,
    "start_time": "2022-12-08T17:45:33.007Z"
   },
   {
    "duration": 0,
    "start_time": "2022-12-08T17:45:33.008Z"
   },
   {
    "duration": 0,
    "start_time": "2022-12-08T17:45:33.009Z"
   },
   {
    "duration": 0,
    "start_time": "2022-12-08T17:45:33.010Z"
   },
   {
    "duration": 0,
    "start_time": "2022-12-08T17:45:33.011Z"
   },
   {
    "duration": 0,
    "start_time": "2022-12-08T17:45:33.012Z"
   },
   {
    "duration": 0,
    "start_time": "2022-12-08T17:45:33.013Z"
   },
   {
    "duration": 0,
    "start_time": "2022-12-08T17:45:33.014Z"
   },
   {
    "duration": 0,
    "start_time": "2022-12-08T17:45:33.015Z"
   },
   {
    "duration": 0,
    "start_time": "2022-12-08T17:45:33.016Z"
   },
   {
    "duration": 0,
    "start_time": "2022-12-08T17:45:33.017Z"
   },
   {
    "duration": 0,
    "start_time": "2022-12-08T17:45:33.018Z"
   },
   {
    "duration": 5,
    "start_time": "2022-12-08T17:46:03.146Z"
   },
   {
    "duration": 5,
    "start_time": "2022-12-08T17:46:17.393Z"
   },
   {
    "duration": 42,
    "start_time": "2022-12-08T17:48:47.639Z"
   },
   {
    "duration": 42,
    "start_time": "2022-12-08T17:49:12.340Z"
   },
   {
    "duration": 4,
    "start_time": "2022-12-08T18:01:51.548Z"
   },
   {
    "duration": 43,
    "start_time": "2022-12-08T18:01:51.553Z"
   },
   {
    "duration": 8,
    "start_time": "2022-12-08T18:01:51.598Z"
   },
   {
    "duration": 14,
    "start_time": "2022-12-08T18:01:51.607Z"
   },
   {
    "duration": 31,
    "start_time": "2022-12-08T18:01:51.623Z"
   },
   {
    "duration": 8322,
    "start_time": "2022-12-08T18:01:51.655Z"
   },
   {
    "duration": 5,
    "start_time": "2022-12-08T18:01:59.979Z"
   },
   {
    "duration": 17,
    "start_time": "2022-12-08T18:01:59.986Z"
   },
   {
    "duration": 7,
    "start_time": "2022-12-08T18:02:00.005Z"
   },
   {
    "duration": 26,
    "start_time": "2022-12-08T18:02:00.015Z"
   },
   {
    "duration": 28,
    "start_time": "2022-12-08T18:02:00.042Z"
   },
   {
    "duration": 60,
    "start_time": "2022-12-08T18:02:00.072Z"
   },
   {
    "duration": 297,
    "start_time": "2022-12-08T18:02:00.134Z"
   },
   {
    "duration": 5,
    "start_time": "2022-12-08T18:02:00.434Z"
   },
   {
    "duration": 26,
    "start_time": "2022-12-08T18:02:00.440Z"
   },
   {
    "duration": 60,
    "start_time": "2022-12-08T18:02:00.468Z"
   },
   {
    "duration": 95,
    "start_time": "2022-12-08T18:02:00.532Z"
   },
   {
    "duration": 54,
    "start_time": "2022-12-08T18:02:00.631Z"
   },
   {
    "duration": 260,
    "start_time": "2022-12-08T18:02:00.686Z"
   },
   {
    "duration": 4,
    "start_time": "2022-12-08T18:02:00.948Z"
   },
   {
    "duration": 11,
    "start_time": "2022-12-08T18:02:00.954Z"
   },
   {
    "duration": 68,
    "start_time": "2022-12-08T18:02:00.967Z"
   },
   {
    "duration": 89,
    "start_time": "2022-12-08T18:02:01.038Z"
   },
   {
    "duration": 18,
    "start_time": "2022-12-08T18:02:01.129Z"
   },
   {
    "duration": 22,
    "start_time": "2022-12-08T18:02:01.148Z"
   },
   {
    "duration": 35,
    "start_time": "2022-12-08T18:02:01.171Z"
   },
   {
    "duration": 110,
    "start_time": "2022-12-08T18:02:01.208Z"
   },
   {
    "duration": 35,
    "start_time": "2022-12-08T18:02:01.319Z"
   },
   {
    "duration": 259,
    "start_time": "2022-12-08T18:02:01.356Z"
   },
   {
    "duration": 19,
    "start_time": "2022-12-08T18:02:01.617Z"
   },
   {
    "duration": 149,
    "start_time": "2022-12-09T07:18:12.371Z"
   },
   {
    "duration": 64,
    "start_time": "2022-12-09T07:38:57.559Z"
   },
   {
    "duration": 7,
    "start_time": "2022-12-09T07:39:20.438Z"
   },
   {
    "duration": 2333,
    "start_time": "2022-12-09T07:39:35.996Z"
   },
   {
    "duration": 189,
    "start_time": "2022-12-09T07:39:38.332Z"
   },
   {
    "duration": 10,
    "start_time": "2022-12-09T07:39:38.523Z"
   },
   {
    "duration": 26,
    "start_time": "2022-12-09T07:39:38.535Z"
   },
   {
    "duration": 72,
    "start_time": "2022-12-09T07:39:38.564Z"
   },
   {
    "duration": 11786,
    "start_time": "2022-12-09T07:39:38.638Z"
   },
   {
    "duration": 4,
    "start_time": "2022-12-09T07:39:50.426Z"
   },
   {
    "duration": 9,
    "start_time": "2022-12-09T07:39:50.432Z"
   },
   {
    "duration": 12,
    "start_time": "2022-12-09T07:39:50.442Z"
   },
   {
    "duration": 5,
    "start_time": "2022-12-09T07:39:50.827Z"
   },
   {
    "duration": 21,
    "start_time": "2022-12-09T07:39:50.833Z"
   },
   {
    "duration": 122,
    "start_time": "2022-12-09T07:39:50.857Z"
   },
   {
    "duration": 341,
    "start_time": "2022-12-09T07:39:50.993Z"
   },
   {
    "duration": 9,
    "start_time": "2022-12-09T07:39:51.336Z"
   },
   {
    "duration": 42,
    "start_time": "2022-12-09T07:39:51.347Z"
   },
   {
    "duration": 15,
    "start_time": "2022-12-09T07:39:51.391Z"
   },
   {
    "duration": 38,
    "start_time": "2022-12-09T07:39:51.453Z"
   },
   {
    "duration": 101,
    "start_time": "2022-12-09T07:39:51.493Z"
   },
   {
    "duration": 311,
    "start_time": "2022-12-09T07:39:51.598Z"
   },
   {
    "duration": 6,
    "start_time": "2022-12-09T07:39:51.911Z"
   },
   {
    "duration": 38,
    "start_time": "2022-12-09T07:39:51.919Z"
   },
   {
    "duration": 101,
    "start_time": "2022-12-09T07:39:51.962Z"
   },
   {
    "duration": 44,
    "start_time": "2022-12-09T07:39:52.065Z"
   },
   {
    "duration": 8,
    "start_time": "2022-12-09T07:39:52.111Z"
   },
   {
    "duration": 33,
    "start_time": "2022-12-09T07:39:52.121Z"
   },
   {
    "duration": 55,
    "start_time": "2022-12-09T07:39:52.156Z"
   },
   {
    "duration": 41,
    "start_time": "2022-12-09T07:39:52.216Z"
   },
   {
    "duration": 34,
    "start_time": "2022-12-09T07:39:52.259Z"
   },
   {
    "duration": 394,
    "start_time": "2022-12-09T07:39:52.296Z"
   },
   {
    "duration": 15,
    "start_time": "2022-12-09T07:39:52.693Z"
   },
   {
    "duration": 397,
    "start_time": "2022-12-09T07:39:52.709Z"
   },
   {
    "duration": 7,
    "start_time": "2022-12-09T07:41:21.582Z"
   },
   {
    "duration": 5,
    "start_time": "2022-12-09T07:42:18.082Z"
   },
   {
    "duration": 5,
    "start_time": "2022-12-09T07:42:22.575Z"
   },
   {
    "duration": 4,
    "start_time": "2022-12-09T07:42:26.228Z"
   },
   {
    "duration": 60,
    "start_time": "2022-12-09T07:42:26.234Z"
   },
   {
    "duration": 10,
    "start_time": "2022-12-09T07:42:26.296Z"
   },
   {
    "duration": 25,
    "start_time": "2022-12-09T07:42:26.308Z"
   },
   {
    "duration": 40,
    "start_time": "2022-12-09T07:42:26.335Z"
   },
   {
    "duration": 9828,
    "start_time": "2022-12-09T07:42:26.377Z"
   },
   {
    "duration": 6,
    "start_time": "2022-12-09T07:42:36.207Z"
   },
   {
    "duration": 13,
    "start_time": "2022-12-09T07:42:36.215Z"
   },
   {
    "duration": 6,
    "start_time": "2022-12-09T07:42:36.230Z"
   },
   {
    "duration": 357,
    "start_time": "2022-12-09T07:42:36.238Z"
   },
   {
    "duration": 8,
    "start_time": "2022-12-09T07:42:36.597Z"
   },
   {
    "duration": 6,
    "start_time": "2022-12-09T07:42:36.607Z"
   },
   {
    "duration": 6,
    "start_time": "2022-12-09T07:42:36.615Z"
   },
   {
    "duration": 37,
    "start_time": "2022-12-09T07:42:36.623Z"
   },
   {
    "duration": 101,
    "start_time": "2022-12-09T07:42:36.662Z"
   },
   {
    "duration": 278,
    "start_time": "2022-12-09T07:42:36.765Z"
   },
   {
    "duration": 20,
    "start_time": "2022-12-09T07:42:37.045Z"
   },
   {
    "duration": 13,
    "start_time": "2022-12-09T07:42:37.072Z"
   },
   {
    "duration": 84,
    "start_time": "2022-12-09T07:42:37.089Z"
   },
   {
    "duration": 107,
    "start_time": "2022-12-09T07:42:37.179Z"
   },
   {
    "duration": 15,
    "start_time": "2022-12-09T07:42:37.289Z"
   },
   {
    "duration": 263,
    "start_time": "2022-12-09T07:42:37.307Z"
   },
   {
    "duration": 6,
    "start_time": "2022-12-09T07:42:37.573Z"
   },
   {
    "duration": 9,
    "start_time": "2022-12-09T07:42:37.584Z"
   },
   {
    "duration": 68,
    "start_time": "2022-12-09T07:42:37.595Z"
   },
   {
    "duration": 104,
    "start_time": "2022-12-09T07:42:37.667Z"
   },
   {
    "duration": 8,
    "start_time": "2022-12-09T07:42:37.773Z"
   },
   {
    "duration": 23,
    "start_time": "2022-12-09T07:42:37.784Z"
   },
   {
    "duration": 9,
    "start_time": "2022-12-09T07:42:37.809Z"
   },
   {
    "duration": 137,
    "start_time": "2022-12-09T07:42:37.821Z"
   },
   {
    "duration": 21,
    "start_time": "2022-12-09T07:42:37.963Z"
   },
   {
    "duration": 283,
    "start_time": "2022-12-09T07:42:37.986Z"
   },
   {
    "duration": 14,
    "start_time": "2022-12-09T07:42:38.273Z"
   },
   {
    "duration": 74,
    "start_time": "2022-12-09T07:50:32.673Z"
   },
   {
    "duration": 5,
    "start_time": "2022-12-09T09:04:52.687Z"
   },
   {
    "duration": 43,
    "start_time": "2022-12-09T09:04:52.694Z"
   },
   {
    "duration": 9,
    "start_time": "2022-12-09T09:04:52.739Z"
   },
   {
    "duration": 17,
    "start_time": "2022-12-09T09:04:52.750Z"
   },
   {
    "duration": 26,
    "start_time": "2022-12-09T09:04:52.769Z"
   },
   {
    "duration": 9354,
    "start_time": "2022-12-09T09:04:52.797Z"
   },
   {
    "duration": 5,
    "start_time": "2022-12-09T09:05:02.153Z"
   },
   {
    "duration": 15,
    "start_time": "2022-12-09T09:05:02.160Z"
   },
   {
    "duration": 13,
    "start_time": "2022-12-09T09:05:02.177Z"
   },
   {
    "duration": 575,
    "start_time": "2022-12-09T09:05:02.200Z"
   },
   {
    "duration": 7,
    "start_time": "2022-12-09T09:05:02.778Z"
   },
   {
    "duration": 76,
    "start_time": "2022-12-09T09:05:02.786Z"
   },
   {
    "duration": 0,
    "start_time": "2022-12-09T09:05:02.864Z"
   },
   {
    "duration": 0,
    "start_time": "2022-12-09T09:05:02.866Z"
   },
   {
    "duration": 0,
    "start_time": "2022-12-09T09:05:02.867Z"
   },
   {
    "duration": 0,
    "start_time": "2022-12-09T09:05:02.869Z"
   },
   {
    "duration": 0,
    "start_time": "2022-12-09T09:05:02.870Z"
   },
   {
    "duration": 0,
    "start_time": "2022-12-09T09:05:02.872Z"
   },
   {
    "duration": 0,
    "start_time": "2022-12-09T09:05:02.873Z"
   },
   {
    "duration": 0,
    "start_time": "2022-12-09T09:05:02.875Z"
   },
   {
    "duration": 0,
    "start_time": "2022-12-09T09:05:02.876Z"
   },
   {
    "duration": 0,
    "start_time": "2022-12-09T09:05:02.877Z"
   },
   {
    "duration": 0,
    "start_time": "2022-12-09T09:05:02.879Z"
   },
   {
    "duration": 0,
    "start_time": "2022-12-09T09:05:02.880Z"
   },
   {
    "duration": 0,
    "start_time": "2022-12-09T09:05:02.881Z"
   },
   {
    "duration": 0,
    "start_time": "2022-12-09T09:05:02.882Z"
   },
   {
    "duration": 0,
    "start_time": "2022-12-09T09:05:02.883Z"
   },
   {
    "duration": 0,
    "start_time": "2022-12-09T09:05:02.885Z"
   },
   {
    "duration": 0,
    "start_time": "2022-12-09T09:05:02.886Z"
   },
   {
    "duration": 0,
    "start_time": "2022-12-09T09:05:02.888Z"
   },
   {
    "duration": 0,
    "start_time": "2022-12-09T09:05:02.889Z"
   },
   {
    "duration": 0,
    "start_time": "2022-12-09T09:05:02.890Z"
   },
   {
    "duration": 0,
    "start_time": "2022-12-09T09:05:02.891Z"
   },
   {
    "duration": 80,
    "start_time": "2022-12-09T09:10:20.509Z"
   },
   {
    "duration": 18,
    "start_time": "2022-12-09T09:11:51.785Z"
   },
   {
    "duration": 4,
    "start_time": "2022-12-09T09:12:01.301Z"
   },
   {
    "duration": 47,
    "start_time": "2022-12-09T09:12:01.307Z"
   },
   {
    "duration": 11,
    "start_time": "2022-12-09T09:12:01.357Z"
   },
   {
    "duration": 39,
    "start_time": "2022-12-09T09:12:01.371Z"
   },
   {
    "duration": 44,
    "start_time": "2022-12-09T09:12:01.413Z"
   },
   {
    "duration": 9200,
    "start_time": "2022-12-09T09:12:01.460Z"
   },
   {
    "duration": 5,
    "start_time": "2022-12-09T09:12:10.662Z"
   },
   {
    "duration": 18,
    "start_time": "2022-12-09T09:12:10.669Z"
   },
   {
    "duration": 5,
    "start_time": "2022-12-09T09:12:10.691Z"
   },
   {
    "duration": 371,
    "start_time": "2022-12-09T09:12:10.698Z"
   },
   {
    "duration": 8,
    "start_time": "2022-12-09T09:12:11.070Z"
   },
   {
    "duration": 67,
    "start_time": "2022-12-09T09:12:11.080Z"
   },
   {
    "duration": 0,
    "start_time": "2022-12-09T09:12:11.150Z"
   },
   {
    "duration": 0,
    "start_time": "2022-12-09T09:12:11.152Z"
   },
   {
    "duration": 0,
    "start_time": "2022-12-09T09:12:11.154Z"
   },
   {
    "duration": 0,
    "start_time": "2022-12-09T09:12:11.155Z"
   },
   {
    "duration": 0,
    "start_time": "2022-12-09T09:12:11.156Z"
   },
   {
    "duration": 0,
    "start_time": "2022-12-09T09:12:11.157Z"
   },
   {
    "duration": 0,
    "start_time": "2022-12-09T09:12:11.158Z"
   },
   {
    "duration": 0,
    "start_time": "2022-12-09T09:12:11.160Z"
   },
   {
    "duration": 0,
    "start_time": "2022-12-09T09:12:11.161Z"
   },
   {
    "duration": 0,
    "start_time": "2022-12-09T09:12:11.162Z"
   },
   {
    "duration": 0,
    "start_time": "2022-12-09T09:12:11.164Z"
   },
   {
    "duration": 0,
    "start_time": "2022-12-09T09:12:11.165Z"
   },
   {
    "duration": 0,
    "start_time": "2022-12-09T09:12:11.166Z"
   },
   {
    "duration": 0,
    "start_time": "2022-12-09T09:12:11.167Z"
   },
   {
    "duration": 0,
    "start_time": "2022-12-09T09:12:11.168Z"
   },
   {
    "duration": 0,
    "start_time": "2022-12-09T09:12:11.170Z"
   },
   {
    "duration": 0,
    "start_time": "2022-12-09T09:12:11.170Z"
   },
   {
    "duration": 0,
    "start_time": "2022-12-09T09:12:11.172Z"
   },
   {
    "duration": 0,
    "start_time": "2022-12-09T09:12:11.173Z"
   },
   {
    "duration": 0,
    "start_time": "2022-12-09T09:12:11.175Z"
   },
   {
    "duration": 0,
    "start_time": "2022-12-09T09:12:11.176Z"
   },
   {
    "duration": 0,
    "start_time": "2022-12-09T09:12:11.177Z"
   },
   {
    "duration": 0,
    "start_time": "2022-12-09T09:12:11.178Z"
   },
   {
    "duration": 3,
    "start_time": "2022-12-09T09:12:49.394Z"
   },
   {
    "duration": 4,
    "start_time": "2022-12-09T09:13:02.374Z"
   },
   {
    "duration": 62,
    "start_time": "2022-12-09T09:13:02.381Z"
   },
   {
    "duration": 9,
    "start_time": "2022-12-09T09:13:02.445Z"
   },
   {
    "duration": 19,
    "start_time": "2022-12-09T09:13:02.456Z"
   },
   {
    "duration": 37,
    "start_time": "2022-12-09T09:13:02.477Z"
   },
   {
    "duration": 9508,
    "start_time": "2022-12-09T09:13:02.515Z"
   },
   {
    "duration": 6,
    "start_time": "2022-12-09T09:13:12.025Z"
   },
   {
    "duration": 7,
    "start_time": "2022-12-09T09:13:12.051Z"
   },
   {
    "duration": 10,
    "start_time": "2022-12-09T09:13:12.061Z"
   },
   {
    "duration": 336,
    "start_time": "2022-12-09T09:13:12.074Z"
   },
   {
    "duration": 6,
    "start_time": "2022-12-09T09:13:12.412Z"
   },
   {
    "duration": 74,
    "start_time": "2022-12-09T09:13:12.420Z"
   },
   {
    "duration": 0,
    "start_time": "2022-12-09T09:13:12.496Z"
   },
   {
    "duration": 0,
    "start_time": "2022-12-09T09:13:12.498Z"
   },
   {
    "duration": 0,
    "start_time": "2022-12-09T09:13:12.500Z"
   },
   {
    "duration": 0,
    "start_time": "2022-12-09T09:13:12.501Z"
   },
   {
    "duration": 0,
    "start_time": "2022-12-09T09:13:12.503Z"
   },
   {
    "duration": 0,
    "start_time": "2022-12-09T09:13:12.504Z"
   },
   {
    "duration": 0,
    "start_time": "2022-12-09T09:13:12.506Z"
   },
   {
    "duration": 0,
    "start_time": "2022-12-09T09:13:12.508Z"
   },
   {
    "duration": 0,
    "start_time": "2022-12-09T09:13:12.509Z"
   },
   {
    "duration": 0,
    "start_time": "2022-12-09T09:13:12.511Z"
   },
   {
    "duration": 0,
    "start_time": "2022-12-09T09:13:12.514Z"
   },
   {
    "duration": 0,
    "start_time": "2022-12-09T09:13:12.516Z"
   },
   {
    "duration": 0,
    "start_time": "2022-12-09T09:13:12.518Z"
   },
   {
    "duration": 0,
    "start_time": "2022-12-09T09:13:12.519Z"
   },
   {
    "duration": 0,
    "start_time": "2022-12-09T09:13:12.521Z"
   },
   {
    "duration": 0,
    "start_time": "2022-12-09T09:13:12.522Z"
   },
   {
    "duration": 0,
    "start_time": "2022-12-09T09:13:12.524Z"
   },
   {
    "duration": 0,
    "start_time": "2022-12-09T09:13:12.525Z"
   },
   {
    "duration": 1,
    "start_time": "2022-12-09T09:13:12.527Z"
   },
   {
    "duration": 0,
    "start_time": "2022-12-09T09:13:12.529Z"
   },
   {
    "duration": 0,
    "start_time": "2022-12-09T09:13:12.530Z"
   },
   {
    "duration": 0,
    "start_time": "2022-12-09T09:13:12.531Z"
   },
   {
    "duration": 0,
    "start_time": "2022-12-09T09:13:12.533Z"
   },
   {
    "duration": 0,
    "start_time": "2022-12-09T09:13:12.534Z"
   },
   {
    "duration": 10,
    "start_time": "2022-12-09T09:13:49.454Z"
   },
   {
    "duration": 56,
    "start_time": "2022-12-09T09:14:08.504Z"
   },
   {
    "duration": 11,
    "start_time": "2022-12-09T09:15:43.067Z"
   },
   {
    "duration": 5,
    "start_time": "2022-12-09T09:15:51.792Z"
   },
   {
    "duration": 57,
    "start_time": "2022-12-09T09:15:51.799Z"
   },
   {
    "duration": 13,
    "start_time": "2022-12-09T09:15:51.859Z"
   },
   {
    "duration": 14,
    "start_time": "2022-12-09T09:15:51.875Z"
   },
   {
    "duration": 66,
    "start_time": "2022-12-09T09:15:51.891Z"
   },
   {
    "duration": 10134,
    "start_time": "2022-12-09T09:15:51.959Z"
   },
   {
    "duration": 5,
    "start_time": "2022-12-09T09:16:02.095Z"
   },
   {
    "duration": 30,
    "start_time": "2022-12-09T09:16:02.102Z"
   },
   {
    "duration": 18,
    "start_time": "2022-12-09T09:16:02.135Z"
   },
   {
    "duration": 408,
    "start_time": "2022-12-09T09:16:02.156Z"
   },
   {
    "duration": 9,
    "start_time": "2022-12-09T09:16:02.565Z"
   },
   {
    "duration": 70,
    "start_time": "2022-12-09T09:16:02.578Z"
   },
   {
    "duration": 0,
    "start_time": "2022-12-09T09:16:02.651Z"
   },
   {
    "duration": 0,
    "start_time": "2022-12-09T09:16:02.653Z"
   },
   {
    "duration": 0,
    "start_time": "2022-12-09T09:16:02.654Z"
   },
   {
    "duration": 0,
    "start_time": "2022-12-09T09:16:02.656Z"
   },
   {
    "duration": 0,
    "start_time": "2022-12-09T09:16:02.658Z"
   },
   {
    "duration": 0,
    "start_time": "2022-12-09T09:16:02.659Z"
   },
   {
    "duration": 0,
    "start_time": "2022-12-09T09:16:02.660Z"
   },
   {
    "duration": 0,
    "start_time": "2022-12-09T09:16:02.662Z"
   },
   {
    "duration": 0,
    "start_time": "2022-12-09T09:16:02.663Z"
   },
   {
    "duration": 0,
    "start_time": "2022-12-09T09:16:02.665Z"
   },
   {
    "duration": 0,
    "start_time": "2022-12-09T09:16:02.666Z"
   },
   {
    "duration": 0,
    "start_time": "2022-12-09T09:16:02.667Z"
   },
   {
    "duration": 0,
    "start_time": "2022-12-09T09:16:02.669Z"
   },
   {
    "duration": 0,
    "start_time": "2022-12-09T09:16:02.671Z"
   },
   {
    "duration": 0,
    "start_time": "2022-12-09T09:16:02.672Z"
   },
   {
    "duration": 0,
    "start_time": "2022-12-09T09:16:02.674Z"
   },
   {
    "duration": 0,
    "start_time": "2022-12-09T09:16:02.919Z"
   },
   {
    "duration": 0,
    "start_time": "2022-12-09T09:16:02.920Z"
   },
   {
    "duration": 0,
    "start_time": "2022-12-09T09:16:02.921Z"
   },
   {
    "duration": 0,
    "start_time": "2022-12-09T09:16:02.923Z"
   },
   {
    "duration": 0,
    "start_time": "2022-12-09T09:16:02.924Z"
   },
   {
    "duration": 0,
    "start_time": "2022-12-09T09:16:02.925Z"
   },
   {
    "duration": 1,
    "start_time": "2022-12-09T09:16:02.926Z"
   },
   {
    "duration": 4,
    "start_time": "2022-12-09T09:16:37.296Z"
   },
   {
    "duration": 63,
    "start_time": "2022-12-09T09:16:37.303Z"
   },
   {
    "duration": 11,
    "start_time": "2022-12-09T09:16:37.369Z"
   },
   {
    "duration": 16,
    "start_time": "2022-12-09T09:16:37.382Z"
   },
   {
    "duration": 58,
    "start_time": "2022-12-09T09:16:37.401Z"
   },
   {
    "duration": 9239,
    "start_time": "2022-12-09T09:16:37.462Z"
   },
   {
    "duration": 4,
    "start_time": "2022-12-09T09:16:46.704Z"
   },
   {
    "duration": 8,
    "start_time": "2022-12-09T09:16:46.710Z"
   },
   {
    "duration": 32,
    "start_time": "2022-12-09T09:16:46.720Z"
   },
   {
    "duration": 334,
    "start_time": "2022-12-09T09:16:46.754Z"
   },
   {
    "duration": 6,
    "start_time": "2022-12-09T09:16:47.090Z"
   },
   {
    "duration": 72,
    "start_time": "2022-12-09T09:16:47.098Z"
   },
   {
    "duration": 0,
    "start_time": "2022-12-09T09:16:47.172Z"
   },
   {
    "duration": 0,
    "start_time": "2022-12-09T09:16:47.173Z"
   },
   {
    "duration": 0,
    "start_time": "2022-12-09T09:16:47.175Z"
   },
   {
    "duration": 0,
    "start_time": "2022-12-09T09:16:47.176Z"
   },
   {
    "duration": 0,
    "start_time": "2022-12-09T09:16:47.177Z"
   },
   {
    "duration": 0,
    "start_time": "2022-12-09T09:16:47.179Z"
   },
   {
    "duration": 0,
    "start_time": "2022-12-09T09:16:47.180Z"
   },
   {
    "duration": 0,
    "start_time": "2022-12-09T09:16:47.181Z"
   },
   {
    "duration": 0,
    "start_time": "2022-12-09T09:16:47.182Z"
   },
   {
    "duration": 0,
    "start_time": "2022-12-09T09:16:47.184Z"
   },
   {
    "duration": 0,
    "start_time": "2022-12-09T09:16:47.185Z"
   },
   {
    "duration": 0,
    "start_time": "2022-12-09T09:16:47.186Z"
   },
   {
    "duration": 0,
    "start_time": "2022-12-09T09:16:47.187Z"
   },
   {
    "duration": 0,
    "start_time": "2022-12-09T09:16:47.188Z"
   },
   {
    "duration": 0,
    "start_time": "2022-12-09T09:16:47.190Z"
   },
   {
    "duration": 0,
    "start_time": "2022-12-09T09:16:47.191Z"
   },
   {
    "duration": 6,
    "start_time": "2022-12-09T09:17:47.843Z"
   },
   {
    "duration": 48,
    "start_time": "2022-12-09T09:17:47.851Z"
   },
   {
    "duration": 11,
    "start_time": "2022-12-09T09:17:47.901Z"
   },
   {
    "duration": 13,
    "start_time": "2022-12-09T09:17:47.914Z"
   },
   {
    "duration": 39,
    "start_time": "2022-12-09T09:17:47.929Z"
   },
   {
    "duration": 9507,
    "start_time": "2022-12-09T09:17:47.970Z"
   },
   {
    "duration": 4,
    "start_time": "2022-12-09T09:17:57.480Z"
   },
   {
    "duration": 26,
    "start_time": "2022-12-09T09:17:57.486Z"
   },
   {
    "duration": 18,
    "start_time": "2022-12-09T09:17:57.514Z"
   },
   {
    "duration": 340,
    "start_time": "2022-12-09T09:17:57.536Z"
   },
   {
    "duration": 5,
    "start_time": "2022-12-09T09:17:57.878Z"
   },
   {
    "duration": 73,
    "start_time": "2022-12-09T09:17:57.885Z"
   },
   {
    "duration": 0,
    "start_time": "2022-12-09T09:17:57.960Z"
   },
   {
    "duration": 0,
    "start_time": "2022-12-09T09:17:57.961Z"
   },
   {
    "duration": 0,
    "start_time": "2022-12-09T09:17:57.962Z"
   },
   {
    "duration": 0,
    "start_time": "2022-12-09T09:17:57.963Z"
   },
   {
    "duration": 0,
    "start_time": "2022-12-09T09:17:57.965Z"
   },
   {
    "duration": 0,
    "start_time": "2022-12-09T09:17:57.966Z"
   },
   {
    "duration": 0,
    "start_time": "2022-12-09T09:17:57.968Z"
   },
   {
    "duration": 0,
    "start_time": "2022-12-09T09:17:57.969Z"
   },
   {
    "duration": 0,
    "start_time": "2022-12-09T09:17:57.984Z"
   },
   {
    "duration": 0,
    "start_time": "2022-12-09T09:17:57.985Z"
   },
   {
    "duration": 0,
    "start_time": "2022-12-09T09:17:57.986Z"
   },
   {
    "duration": 0,
    "start_time": "2022-12-09T09:17:57.988Z"
   },
   {
    "duration": 0,
    "start_time": "2022-12-09T09:17:57.989Z"
   },
   {
    "duration": 0,
    "start_time": "2022-12-09T09:17:57.990Z"
   },
   {
    "duration": 0,
    "start_time": "2022-12-09T09:17:57.991Z"
   },
   {
    "duration": 0,
    "start_time": "2022-12-09T09:17:57.993Z"
   },
   {
    "duration": 81,
    "start_time": "2022-12-09T09:18:49.947Z"
   },
   {
    "duration": 77,
    "start_time": "2022-12-09T09:20:53.440Z"
   },
   {
    "duration": 15,
    "start_time": "2022-12-09T09:21:39.013Z"
   },
   {
    "duration": 3,
    "start_time": "2022-12-09T09:22:30.338Z"
   },
   {
    "duration": 6,
    "start_time": "2022-12-09T09:22:55.173Z"
   },
   {
    "duration": 13,
    "start_time": "2022-12-09T09:23:47.229Z"
   },
   {
    "duration": 6,
    "start_time": "2022-12-09T09:23:59.751Z"
   },
   {
    "duration": 59,
    "start_time": "2022-12-09T09:23:59.760Z"
   },
   {
    "duration": 20,
    "start_time": "2022-12-09T09:23:59.821Z"
   },
   {
    "duration": 37,
    "start_time": "2022-12-09T09:23:59.844Z"
   },
   {
    "duration": 34,
    "start_time": "2022-12-09T09:23:59.883Z"
   },
   {
    "duration": 9654,
    "start_time": "2022-12-09T09:23:59.920Z"
   },
   {
    "duration": 6,
    "start_time": "2022-12-09T09:24:09.577Z"
   },
   {
    "duration": 28,
    "start_time": "2022-12-09T09:24:09.585Z"
   },
   {
    "duration": 17,
    "start_time": "2022-12-09T09:24:09.617Z"
   },
   {
    "duration": 436,
    "start_time": "2022-12-09T09:24:09.637Z"
   },
   {
    "duration": 6,
    "start_time": "2022-12-09T09:24:10.076Z"
   },
   {
    "duration": 97,
    "start_time": "2022-12-09T09:24:10.084Z"
   },
   {
    "duration": 0,
    "start_time": "2022-12-09T09:24:10.184Z"
   },
   {
    "duration": 0,
    "start_time": "2022-12-09T09:24:10.186Z"
   },
   {
    "duration": 0,
    "start_time": "2022-12-09T09:24:10.187Z"
   },
   {
    "duration": 0,
    "start_time": "2022-12-09T09:24:10.189Z"
   },
   {
    "duration": 0,
    "start_time": "2022-12-09T09:24:10.191Z"
   },
   {
    "duration": 0,
    "start_time": "2022-12-09T09:24:10.193Z"
   },
   {
    "duration": 0,
    "start_time": "2022-12-09T09:24:10.194Z"
   },
   {
    "duration": 0,
    "start_time": "2022-12-09T09:24:10.196Z"
   },
   {
    "duration": 0,
    "start_time": "2022-12-09T09:24:10.198Z"
   },
   {
    "duration": 0,
    "start_time": "2022-12-09T09:24:10.200Z"
   },
   {
    "duration": 0,
    "start_time": "2022-12-09T09:24:10.201Z"
   },
   {
    "duration": 0,
    "start_time": "2022-12-09T09:24:10.202Z"
   },
   {
    "duration": 0,
    "start_time": "2022-12-09T09:24:10.204Z"
   },
   {
    "duration": 0,
    "start_time": "2022-12-09T09:24:10.205Z"
   },
   {
    "duration": 0,
    "start_time": "2022-12-09T09:24:10.206Z"
   },
   {
    "duration": 0,
    "start_time": "2022-12-09T09:24:10.208Z"
   },
   {
    "duration": 0,
    "start_time": "2022-12-09T09:24:10.209Z"
   },
   {
    "duration": 0,
    "start_time": "2022-12-09T09:24:10.212Z"
   },
   {
    "duration": 0,
    "start_time": "2022-12-09T09:24:10.215Z"
   },
   {
    "duration": 1,
    "start_time": "2022-12-09T09:24:10.217Z"
   },
   {
    "duration": 0,
    "start_time": "2022-12-09T09:24:10.219Z"
   },
   {
    "duration": 5,
    "start_time": "2022-12-09T09:24:51.682Z"
   },
   {
    "duration": 50,
    "start_time": "2022-12-09T09:24:51.690Z"
   },
   {
    "duration": 13,
    "start_time": "2022-12-09T09:24:51.743Z"
   },
   {
    "duration": 36,
    "start_time": "2022-12-09T09:24:51.758Z"
   },
   {
    "duration": 48,
    "start_time": "2022-12-09T09:24:51.797Z"
   },
   {
    "duration": 10025,
    "start_time": "2022-12-09T09:24:51.847Z"
   },
   {
    "duration": 5,
    "start_time": "2022-12-09T09:25:01.874Z"
   },
   {
    "duration": 33,
    "start_time": "2022-12-09T09:25:01.881Z"
   },
   {
    "duration": 24,
    "start_time": "2022-12-09T09:25:01.917Z"
   },
   {
    "duration": 392,
    "start_time": "2022-12-09T09:25:01.950Z"
   },
   {
    "duration": 9,
    "start_time": "2022-12-09T09:25:02.351Z"
   },
   {
    "duration": 31,
    "start_time": "2022-12-09T09:25:02.362Z"
   },
   {
    "duration": 0,
    "start_time": "2022-12-09T09:25:02.396Z"
   },
   {
    "duration": 0,
    "start_time": "2022-12-09T09:25:02.399Z"
   },
   {
    "duration": 0,
    "start_time": "2022-12-09T09:25:02.401Z"
   },
   {
    "duration": 0,
    "start_time": "2022-12-09T09:25:02.402Z"
   },
   {
    "duration": 0,
    "start_time": "2022-12-09T09:25:02.404Z"
   },
   {
    "duration": 0,
    "start_time": "2022-12-09T09:25:02.405Z"
   },
   {
    "duration": 0,
    "start_time": "2022-12-09T09:25:02.407Z"
   },
   {
    "duration": 0,
    "start_time": "2022-12-09T09:25:02.408Z"
   },
   {
    "duration": 0,
    "start_time": "2022-12-09T09:25:02.410Z"
   },
   {
    "duration": 0,
    "start_time": "2022-12-09T09:25:02.411Z"
   },
   {
    "duration": 0,
    "start_time": "2022-12-09T09:25:02.412Z"
   },
   {
    "duration": 0,
    "start_time": "2022-12-09T09:25:02.414Z"
   },
   {
    "duration": 0,
    "start_time": "2022-12-09T09:25:02.415Z"
   },
   {
    "duration": 0,
    "start_time": "2022-12-09T09:25:02.451Z"
   },
   {
    "duration": 0,
    "start_time": "2022-12-09T09:25:02.454Z"
   },
   {
    "duration": 0,
    "start_time": "2022-12-09T09:25:02.455Z"
   },
   {
    "duration": 0,
    "start_time": "2022-12-09T09:25:02.456Z"
   },
   {
    "duration": 0,
    "start_time": "2022-12-09T09:25:02.458Z"
   },
   {
    "duration": 0,
    "start_time": "2022-12-09T09:25:02.459Z"
   },
   {
    "duration": 0,
    "start_time": "2022-12-09T09:25:02.460Z"
   },
   {
    "duration": 14,
    "start_time": "2022-12-09T09:26:11.205Z"
   },
   {
    "duration": 6,
    "start_time": "2022-12-09T09:26:58.024Z"
   },
   {
    "duration": 1998,
    "start_time": "2022-12-09T09:27:07.737Z"
   },
   {
    "duration": 53,
    "start_time": "2022-12-09T09:27:09.740Z"
   },
   {
    "duration": 14,
    "start_time": "2022-12-09T09:27:09.795Z"
   },
   {
    "duration": 21,
    "start_time": "2022-12-09T09:27:09.811Z"
   },
   {
    "duration": 40,
    "start_time": "2022-12-09T09:27:09.835Z"
   },
   {
    "duration": 10156,
    "start_time": "2022-12-09T09:27:09.885Z"
   },
   {
    "duration": 5,
    "start_time": "2022-12-09T09:27:20.044Z"
   },
   {
    "duration": 208,
    "start_time": "2022-12-09T09:27:20.052Z"
   },
   {
    "duration": 1,
    "start_time": "2022-12-09T09:27:20.263Z"
   },
   {
    "duration": 0,
    "start_time": "2022-12-09T09:27:20.265Z"
   },
   {
    "duration": 0,
    "start_time": "2022-12-09T09:27:20.267Z"
   },
   {
    "duration": 0,
    "start_time": "2022-12-09T09:27:20.269Z"
   },
   {
    "duration": 0,
    "start_time": "2022-12-09T09:27:20.270Z"
   },
   {
    "duration": 0,
    "start_time": "2022-12-09T09:27:20.271Z"
   },
   {
    "duration": 0,
    "start_time": "2022-12-09T09:27:20.273Z"
   },
   {
    "duration": 0,
    "start_time": "2022-12-09T09:27:20.274Z"
   },
   {
    "duration": 0,
    "start_time": "2022-12-09T09:27:20.275Z"
   },
   {
    "duration": 0,
    "start_time": "2022-12-09T09:27:20.277Z"
   },
   {
    "duration": 0,
    "start_time": "2022-12-09T09:27:20.278Z"
   },
   {
    "duration": 0,
    "start_time": "2022-12-09T09:27:20.280Z"
   },
   {
    "duration": 0,
    "start_time": "2022-12-09T09:27:20.281Z"
   },
   {
    "duration": 0,
    "start_time": "2022-12-09T09:27:20.283Z"
   },
   {
    "duration": 4,
    "start_time": "2022-12-09T09:28:16.783Z"
   },
   {
    "duration": 37,
    "start_time": "2022-12-09T09:28:16.790Z"
   },
   {
    "duration": 9,
    "start_time": "2022-12-09T09:28:16.830Z"
   },
   {
    "duration": 16,
    "start_time": "2022-12-09T09:28:16.842Z"
   },
   {
    "duration": 30,
    "start_time": "2022-12-09T09:28:16.860Z"
   },
   {
    "duration": 9349,
    "start_time": "2022-12-09T09:28:16.892Z"
   },
   {
    "duration": 5,
    "start_time": "2022-12-09T09:28:26.250Z"
   },
   {
    "duration": 19,
    "start_time": "2022-12-09T09:28:26.256Z"
   },
   {
    "duration": 0,
    "start_time": "2022-12-09T09:28:26.278Z"
   },
   {
    "duration": 0,
    "start_time": "2022-12-09T09:28:26.280Z"
   },
   {
    "duration": 0,
    "start_time": "2022-12-09T09:28:26.282Z"
   },
   {
    "duration": 0,
    "start_time": "2022-12-09T09:28:26.283Z"
   },
   {
    "duration": 0,
    "start_time": "2022-12-09T09:28:26.285Z"
   },
   {
    "duration": 0,
    "start_time": "2022-12-09T09:28:26.286Z"
   },
   {
    "duration": 0,
    "start_time": "2022-12-09T09:28:26.288Z"
   },
   {
    "duration": 0,
    "start_time": "2022-12-09T09:28:26.290Z"
   },
   {
    "duration": 0,
    "start_time": "2022-12-09T09:28:26.291Z"
   },
   {
    "duration": 0,
    "start_time": "2022-12-09T09:28:26.292Z"
   },
   {
    "duration": 0,
    "start_time": "2022-12-09T09:28:26.294Z"
   },
   {
    "duration": 0,
    "start_time": "2022-12-09T09:28:26.296Z"
   },
   {
    "duration": 0,
    "start_time": "2022-12-09T09:28:26.297Z"
   },
   {
    "duration": 0,
    "start_time": "2022-12-09T09:28:26.298Z"
   },
   {
    "duration": 4,
    "start_time": "2022-12-09T09:30:43.315Z"
   },
   {
    "duration": 38,
    "start_time": "2022-12-09T09:30:43.322Z"
   },
   {
    "duration": 8,
    "start_time": "2022-12-09T09:30:43.362Z"
   },
   {
    "duration": 15,
    "start_time": "2022-12-09T09:30:43.372Z"
   },
   {
    "duration": 28,
    "start_time": "2022-12-09T09:30:43.388Z"
   },
   {
    "duration": 9223,
    "start_time": "2022-12-09T09:30:43.417Z"
   },
   {
    "duration": 8,
    "start_time": "2022-12-09T09:30:52.642Z"
   },
   {
    "duration": 21,
    "start_time": "2022-12-09T09:30:52.653Z"
   },
   {
    "duration": 0,
    "start_time": "2022-12-09T09:30:52.676Z"
   },
   {
    "duration": 0,
    "start_time": "2022-12-09T09:30:52.678Z"
   },
   {
    "duration": 0,
    "start_time": "2022-12-09T09:30:52.679Z"
   },
   {
    "duration": 0,
    "start_time": "2022-12-09T09:30:52.681Z"
   },
   {
    "duration": 0,
    "start_time": "2022-12-09T09:30:52.682Z"
   },
   {
    "duration": 0,
    "start_time": "2022-12-09T09:30:52.684Z"
   },
   {
    "duration": 0,
    "start_time": "2022-12-09T09:30:52.685Z"
   },
   {
    "duration": 0,
    "start_time": "2022-12-09T09:30:52.687Z"
   },
   {
    "duration": 0,
    "start_time": "2022-12-09T09:30:52.688Z"
   },
   {
    "duration": 0,
    "start_time": "2022-12-09T09:30:52.690Z"
   },
   {
    "duration": 0,
    "start_time": "2022-12-09T09:30:52.691Z"
   },
   {
    "duration": 1,
    "start_time": "2022-12-09T09:30:52.692Z"
   },
   {
    "duration": 0,
    "start_time": "2022-12-09T09:30:52.694Z"
   },
   {
    "duration": 0,
    "start_time": "2022-12-09T09:30:52.695Z"
   },
   {
    "duration": 5,
    "start_time": "2022-12-09T09:31:19.694Z"
   },
   {
    "duration": 60,
    "start_time": "2022-12-09T09:31:19.702Z"
   },
   {
    "duration": 9,
    "start_time": "2022-12-09T09:31:19.765Z"
   },
   {
    "duration": 30,
    "start_time": "2022-12-09T09:31:19.777Z"
   },
   {
    "duration": 48,
    "start_time": "2022-12-09T09:31:19.811Z"
   },
   {
    "duration": 9046,
    "start_time": "2022-12-09T09:31:19.860Z"
   },
   {
    "duration": 5,
    "start_time": "2022-12-09T09:31:28.908Z"
   },
   {
    "duration": 15,
    "start_time": "2022-12-09T09:31:28.914Z"
   },
   {
    "duration": 0,
    "start_time": "2022-12-09T09:31:28.951Z"
   },
   {
    "duration": 0,
    "start_time": "2022-12-09T09:31:28.953Z"
   },
   {
    "duration": 0,
    "start_time": "2022-12-09T09:31:28.954Z"
   },
   {
    "duration": 0,
    "start_time": "2022-12-09T09:31:28.956Z"
   },
   {
    "duration": 0,
    "start_time": "2022-12-09T09:31:28.957Z"
   },
   {
    "duration": 0,
    "start_time": "2022-12-09T09:31:28.959Z"
   },
   {
    "duration": 1,
    "start_time": "2022-12-09T09:31:28.960Z"
   },
   {
    "duration": 0,
    "start_time": "2022-12-09T09:31:28.962Z"
   },
   {
    "duration": 0,
    "start_time": "2022-12-09T09:31:28.963Z"
   },
   {
    "duration": 0,
    "start_time": "2022-12-09T09:31:28.965Z"
   },
   {
    "duration": 0,
    "start_time": "2022-12-09T09:31:28.966Z"
   },
   {
    "duration": 0,
    "start_time": "2022-12-09T09:31:28.967Z"
   },
   {
    "duration": 0,
    "start_time": "2022-12-09T09:31:28.969Z"
   },
   {
    "duration": 0,
    "start_time": "2022-12-09T09:31:28.970Z"
   },
   {
    "duration": 12,
    "start_time": "2022-12-09T09:32:01.774Z"
   },
   {
    "duration": 6,
    "start_time": "2022-12-09T09:32:57.388Z"
   },
   {
    "duration": 53,
    "start_time": "2022-12-09T09:32:57.397Z"
   },
   {
    "duration": 13,
    "start_time": "2022-12-09T09:32:57.453Z"
   },
   {
    "duration": 24,
    "start_time": "2022-12-09T09:32:57.469Z"
   },
   {
    "duration": 61,
    "start_time": "2022-12-09T09:32:57.496Z"
   },
   {
    "duration": 10702,
    "start_time": "2022-12-09T09:32:57.560Z"
   },
   {
    "duration": 5,
    "start_time": "2022-12-09T09:33:08.264Z"
   },
   {
    "duration": 35,
    "start_time": "2022-12-09T09:33:08.272Z"
   },
   {
    "duration": 0,
    "start_time": "2022-12-09T09:33:08.309Z"
   },
   {
    "duration": 0,
    "start_time": "2022-12-09T09:33:08.311Z"
   },
   {
    "duration": 0,
    "start_time": "2022-12-09T09:33:08.312Z"
   },
   {
    "duration": 0,
    "start_time": "2022-12-09T09:33:08.313Z"
   },
   {
    "duration": 0,
    "start_time": "2022-12-09T09:33:08.315Z"
   },
   {
    "duration": 0,
    "start_time": "2022-12-09T09:33:08.316Z"
   },
   {
    "duration": 0,
    "start_time": "2022-12-09T09:33:08.318Z"
   },
   {
    "duration": 0,
    "start_time": "2022-12-09T09:33:08.320Z"
   },
   {
    "duration": 0,
    "start_time": "2022-12-09T09:33:08.322Z"
   },
   {
    "duration": 0,
    "start_time": "2022-12-09T09:33:08.324Z"
   },
   {
    "duration": 0,
    "start_time": "2022-12-09T09:33:08.352Z"
   },
   {
    "duration": 0,
    "start_time": "2022-12-09T09:33:08.355Z"
   },
   {
    "duration": 0,
    "start_time": "2022-12-09T09:33:08.356Z"
   },
   {
    "duration": 0,
    "start_time": "2022-12-09T09:33:08.358Z"
   },
   {
    "duration": 0,
    "start_time": "2022-12-09T09:33:08.359Z"
   },
   {
    "duration": 13,
    "start_time": "2022-12-09T09:34:29.841Z"
   },
   {
    "duration": 9,
    "start_time": "2022-12-09T09:37:55.779Z"
   },
   {
    "duration": 49,
    "start_time": "2022-12-09T09:37:55.791Z"
   },
   {
    "duration": 11,
    "start_time": "2022-12-09T09:37:55.843Z"
   },
   {
    "duration": 20,
    "start_time": "2022-12-09T09:37:55.857Z"
   },
   {
    "duration": 36,
    "start_time": "2022-12-09T09:37:55.880Z"
   },
   {
    "duration": 9484,
    "start_time": "2022-12-09T09:37:55.919Z"
   },
   {
    "duration": 5,
    "start_time": "2022-12-09T09:38:05.405Z"
   },
   {
    "duration": 38,
    "start_time": "2022-12-09T09:38:05.413Z"
   },
   {
    "duration": 0,
    "start_time": "2022-12-09T09:38:05.454Z"
   },
   {
    "duration": 0,
    "start_time": "2022-12-09T09:38:05.455Z"
   },
   {
    "duration": 0,
    "start_time": "2022-12-09T09:38:05.457Z"
   },
   {
    "duration": 0,
    "start_time": "2022-12-09T09:38:05.458Z"
   },
   {
    "duration": 0,
    "start_time": "2022-12-09T09:38:05.460Z"
   },
   {
    "duration": 0,
    "start_time": "2022-12-09T09:38:05.461Z"
   },
   {
    "duration": 0,
    "start_time": "2022-12-09T09:38:05.462Z"
   },
   {
    "duration": 0,
    "start_time": "2022-12-09T09:38:05.464Z"
   },
   {
    "duration": 0,
    "start_time": "2022-12-09T09:38:05.465Z"
   },
   {
    "duration": 0,
    "start_time": "2022-12-09T09:38:05.466Z"
   },
   {
    "duration": 0,
    "start_time": "2022-12-09T09:38:05.467Z"
   },
   {
    "duration": 0,
    "start_time": "2022-12-09T09:38:05.468Z"
   },
   {
    "duration": 0,
    "start_time": "2022-12-09T09:38:05.469Z"
   },
   {
    "duration": 0,
    "start_time": "2022-12-09T09:38:05.470Z"
   },
   {
    "duration": 0,
    "start_time": "2022-12-09T09:38:05.472Z"
   },
   {
    "duration": 0,
    "start_time": "2022-12-09T09:38:05.473Z"
   },
   {
    "duration": 17372,
    "start_time": "2022-12-09T09:40:04.759Z"
   },
   {
    "duration": 425,
    "start_time": "2022-12-09T09:48:17.009Z"
   },
   {
    "duration": 1521,
    "start_time": "2022-12-09T09:56:10.638Z"
   },
   {
    "duration": 40,
    "start_time": "2022-12-09T09:56:12.161Z"
   },
   {
    "duration": 8,
    "start_time": "2022-12-09T09:56:12.203Z"
   },
   {
    "duration": 22,
    "start_time": "2022-12-09T09:56:12.214Z"
   },
   {
    "duration": 25,
    "start_time": "2022-12-09T09:56:12.238Z"
   },
   {
    "duration": 9211,
    "start_time": "2022-12-09T09:56:12.266Z"
   },
   {
    "duration": 340,
    "start_time": "2022-12-09T09:56:21.480Z"
   },
   {
    "duration": 136,
    "start_time": "2022-12-09T09:56:21.822Z"
   },
   {
    "duration": 0,
    "start_time": "2022-12-09T09:56:21.960Z"
   },
   {
    "duration": 0,
    "start_time": "2022-12-09T09:56:21.962Z"
   },
   {
    "duration": 0,
    "start_time": "2022-12-09T09:56:21.963Z"
   },
   {
    "duration": 0,
    "start_time": "2022-12-09T09:56:21.965Z"
   },
   {
    "duration": 0,
    "start_time": "2022-12-09T09:56:21.966Z"
   },
   {
    "duration": 0,
    "start_time": "2022-12-09T09:56:21.967Z"
   },
   {
    "duration": 0,
    "start_time": "2022-12-09T09:56:21.968Z"
   },
   {
    "duration": 0,
    "start_time": "2022-12-09T09:56:21.969Z"
   },
   {
    "duration": 0,
    "start_time": "2022-12-09T09:56:21.970Z"
   },
   {
    "duration": 0,
    "start_time": "2022-12-09T09:56:21.971Z"
   },
   {
    "duration": 0,
    "start_time": "2022-12-09T09:56:21.972Z"
   },
   {
    "duration": 0,
    "start_time": "2022-12-09T09:56:21.974Z"
   },
   {
    "duration": 73,
    "start_time": "2022-12-09T09:59:57.048Z"
   },
   {
    "duration": 5,
    "start_time": "2022-12-09T10:00:03.416Z"
   },
   {
    "duration": 12,
    "start_time": "2022-12-09T10:00:22.952Z"
   },
   {
    "duration": 4,
    "start_time": "2022-12-09T10:00:37.366Z"
   },
   {
    "duration": 1546,
    "start_time": "2022-12-09T10:00:42.842Z"
   },
   {
    "duration": 40,
    "start_time": "2022-12-09T10:00:44.390Z"
   },
   {
    "duration": 8,
    "start_time": "2022-12-09T10:00:44.432Z"
   },
   {
    "duration": 16,
    "start_time": "2022-12-09T10:00:44.442Z"
   },
   {
    "duration": 27,
    "start_time": "2022-12-09T10:00:44.461Z"
   },
   {
    "duration": 9199,
    "start_time": "2022-12-09T10:00:44.490Z"
   },
   {
    "duration": 314,
    "start_time": "2022-12-09T10:00:53.691Z"
   },
   {
    "duration": 4,
    "start_time": "2022-12-09T10:00:54.007Z"
   },
   {
    "duration": 30,
    "start_time": "2022-12-09T10:00:54.012Z"
   },
   {
    "duration": 23,
    "start_time": "2022-12-09T10:00:54.044Z"
   },
   {
    "duration": 33,
    "start_time": "2022-12-09T10:00:54.069Z"
   },
   {
    "duration": 34,
    "start_time": "2022-12-09T10:00:54.104Z"
   },
   {
    "duration": 192,
    "start_time": "2022-12-09T10:00:54.163Z"
   },
   {
    "duration": 114,
    "start_time": "2022-12-09T10:00:54.358Z"
   },
   {
    "duration": 41,
    "start_time": "2022-12-09T10:00:54.474Z"
   },
   {
    "duration": 135,
    "start_time": "2022-12-09T10:00:54.517Z"
   },
   {
    "duration": 1896,
    "start_time": "2022-12-09T10:00:54.654Z"
   },
   {
    "duration": 8,
    "start_time": "2022-12-09T10:00:56.554Z"
   },
   {
    "duration": 100,
    "start_time": "2022-12-09T10:00:56.565Z"
   },
   {
    "duration": 8,
    "start_time": "2022-12-09T10:00:56.667Z"
   },
   {
    "duration": 7,
    "start_time": "2022-12-09T10:00:56.676Z"
   }
  ],
  "language_info": {
   "codemirror_mode": {
    "name": "ipython",
    "version": 3
   },
   "file_extension": ".py",
   "mimetype": "text/x-python",
   "name": "python",
   "nbconvert_exporter": "python",
   "pygments_lexer": "ipython3",
   "version": "3.7.7"
  },
  "notebookId": "0a430a4c-7759-454b-917c-1be71f9136ce",
  "notebookPath": "YANDEX/5d69f949-814d-4e1d-bc95-0a2877da8610.ipynb",
  "toc": {
   "base_numbering": 1,
   "nav_menu": {},
   "number_sections": true,
   "sideBar": true,
   "skip_h1_title": true,
   "title_cell": "Содержание",
   "title_sidebar": "Contents",
   "toc_cell": true,
   "toc_position": {},
   "toc_section_display": true,
   "toc_window_display": false
  }
 },
 "nbformat": 4,
 "nbformat_minor": 4
}
