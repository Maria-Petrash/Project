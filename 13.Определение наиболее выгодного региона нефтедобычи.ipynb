{
 "cells": [
  {
   "cell_type": "markdown",
   "metadata": {
    "cellId": "ye6gwlfivxb2o7tu37i6qk"
   },
   "source": [
    "# Выбор локации для скважины"
   ]
  },
  {
   "cell_type": "markdown",
   "metadata": {
    "cellId": "t9lj48ga6jcqou1z8difb"
   },
   "source": [
    "Допустим, вы работаете в добывающей компании «ГлавРосГосНефть». Нужно решить, где бурить новую скважину.\n",
    "\n",
    "Вам предоставлены пробы нефти в трёх регионах: в каждом 10 000 месторождений, где измерили качество нефти и объём её запасов. Постройте модель машинного обучения, которая поможет определить регион, где добыча принесёт наибольшую прибыль. Проанализируйте возможную прибыль и риски техникой *Bootstrap.*\n",
    "\n",
    "Шаги для выбора локации:\n",
    "\n",
    "- В избранном регионе ищут месторождения, для каждого определяют значения признаков;\n",
    "- Строят модель и оценивают объём запасов;\n",
    "- Выбирают месторождения с самым высокими оценками значений. Количество месторождений зависит от бюджета компании и стоимости разработки одной скважины;\n",
    "- Прибыль равна суммарной прибыли отобранных месторождений."
   ]
  },
  {
   "cell_type": "markdown",
   "metadata": {
    "cellId": "mfl5v2zq24irbkea5qrabg"
   },
   "source": [
    "Описание проекта \n",
    "\n",
    "В добывающей компании «ГлавРосГосНефть» нужно решить, где бурить новую скважину. \n",
    "Шаги для выбора локации обычно такие:\n",
    "В избранном регионе собирают характеристики для скважин: качество нефти и объём её запасов;\n",
    "Строят модель для предсказания объёма запасов в новых скважинах;\n",
    "Выбирают скважины с самыми высокими оценками значений;\n",
    "Определяют регион с максимальной суммарной прибылью отобранных скважин.\n",
    "Предоставлены пробы нефти в трёх регионах. Характеристики для каждой скважины в регионе уже известны.\n",
    "Необходимо:\n",
    "Построить модель для определения региона, где добыча принесёт наибольшую прибыль.\n",
    "Проанализировать возможную прибыль и риски техникой Bootstrap.\n",
    "Данные геологоразведки трёх регионов находятся в файлах:\n",
    "\n",
    "/datasets/geo_data_0.csv.\n",
    "\n",
    "/datasets/geo_data_1.csv.\n",
    "\n",
    "/datasets/geo_data_2.csv.\n",
    "\n",
    "id — уникальный идентификатор скважины;\n",
    "\n",
    "f0, f1, f2 — три признака точек;\n",
    "\n",
    "product — объём запасов в скважине (тыс. баррелей).\n",
    "\n",
    "Условия задачи:\n",
    "\n",
    "Для обучения модели подходит только линейная регрессия (остальные — недостаточно предсказуемые).\n",
    "При разведке региона исследуют 500 точек, из которых с помощью машинного обучения выбирают 200 лучших для разработки.\n",
    "Бюджет на разработку скважин в регионе — 10 млрд рублей.\n",
    "При нынешних ценах один баррель сырья приносит 450 рублей дохода. Доход с каждой единицы продукта составляет 450 тыс. рублей, - поскольку объём указан в тысячах баррелей.\n",
    "После оценки рисков нужно оставить лишь те регионы, в которых вероятность убытков меньше 2.5%. Среди них выбирают регион с наибольшей средней прибылью.\n",
    "Данные синтетические: детали контрактов и характеристики месторождений не разглашаются."
   ]
  },
  {
   "cell_type": "markdown",
   "metadata": {
    "cellId": "5fyxya7iwrjqeou4hru2ee"
   },
   "source": [
    "## Загрузка и подготовка данных"
   ]
  },
  {
   "cell_type": "code",
   "execution_count": 1,
   "metadata": {
    "cellId": "tq7th9uhi96emwa7wdos5"
   },
   "outputs": [],
   "source": [
    "#загрузим потенциально необходимые библиотеки,пакеты и классы.\n",
    "\n",
    "import pandas as pd\n",
    "from sklearn.model_selection import train_test_split\n",
    "from matplotlib import pyplot as plt\n",
    "\n",
    "from sklearn.linear_model import LinearRegression\n",
    "from sklearn.model_selection import cross_val_score\n",
    "from sklearn.metrics import f1_score\n",
    "from sklearn.metrics import accuracy_score\n",
    "from sklearn.metrics import mean_squared_error\n",
    "\n",
    "from numpy.random import RandomState"
   ]
  },
  {
   "cell_type": "code",
   "execution_count": 2,
   "metadata": {
    "cellId": "atoacev306m2q985gjqtvg"
   },
   "outputs": [],
   "source": [
    "\n",
    "try:\n",
    "    data_0 = pd.read_csv(\"/datasets/geo_data_0.csv\")\n",
    "    data_1 = pd.read_csv(\"/datasets/geo_data_1.csv\")\n",
    "    data_2 = pd.read_csv(\"/datasets/geo_data_2.csv\")\n",
    "except:\n",
    "    print(\"Есть ошибки\")\n",
    "else:\n",
    "    print(\"Все загрузилось!\")"
   ]
  },
  {
   "cell_type": "markdown",
   "metadata": {
    "cellId": "icgy0ujtehl07ondulfcwww"
   },
   "source": [
    "Проанализируем информацию "
   ]
  },
  {
   "cell_type": "code",
   "execution_count": 3,
   "metadata": {
    "cellId": "p8laya88slr02ge0txubi"
   },
   "outputs": [],
   "source": [
    "data_0.info()"
   ]
  },
  {
   "cell_type": "code",
   "execution_count": 4,
   "metadata": {
    "cellId": "7rxv90vovglavgvke4wbss"
   },
   "outputs": [],
   "source": [
    "data_1.info()"
   ]
  },
  {
   "cell_type": "code",
   "execution_count": 5,
   "metadata": {
    "cellId": "lwfsgjdym6rrig9l6bw89q"
   },
   "outputs": [],
   "source": [
    "data_2.info()"
   ]
  },
  {
   "cell_type": "code",
   "execution_count": 6,
   "metadata": {
    "cellId": "ad3is4t0zoqg0amzfisom5"
   },
   "outputs": [],
   "source": [
    "# посмотрим на размер датасета\n",
    "data_0.shape, data_1.shape, data_2.shape"
   ]
  },
  {
   "cell_type": "markdown",
   "metadata": {
    "cellId": "smxlqgpdflc23x3wxv5h98i"
   },
   "source": [
    "Проверим на дубликаты"
   ]
  },
  {
   "cell_type": "code",
   "execution_count": 7,
   "metadata": {
    "cellId": "e8ytjkrxpko0wjv2fkecivd"
   },
   "outputs": [],
   "source": [
    "data_0.duplicated().sum()\n",
    "data_1.duplicated().sum()\n",
    "data_2.duplicated().sum()"
   ]
  },
  {
   "cell_type": "markdown",
   "metadata": {
    "cellId": "l9hred4ssf47us3hs9rf"
   },
   "source": [
    "Посмотрим распределения"
   ]
  },
  {
   "cell_type": "code",
   "execution_count": 8,
   "metadata": {
    "cellId": "s21qvkl561pvicovv1giq"
   },
   "outputs": [],
   "source": [
    "data_0.hist()\n",
    "plt.show()"
   ]
  },
  {
   "cell_type": "code",
   "execution_count": 9,
   "metadata": {
    "cellId": "2g6ulhkx7xcursm6omesw"
   },
   "outputs": [],
   "source": [
    "data_1.hist()\n",
    "plt.show()"
   ]
  },
  {
   "cell_type": "code",
   "execution_count": 10,
   "metadata": {
    "cellId": "f9ig62is04kbcn2avfwfgo"
   },
   "outputs": [],
   "source": [
    "data_2.hist()\n",
    "plt.show()"
   ]
  },
  {
   "cell_type": "markdown",
   "metadata": {
    "cellId": "skzbhfi897a1hid8046ve"
   },
   "source": [
    "Во всех трёх датасетах данные не вызывают вопросов по распределениям."
   ]
  },
  {
   "cell_type": "markdown",
   "metadata": {
    "cellId": "780dvvucvhcgul649c8z6c"
   },
   "source": [
    "Построим матрицу корреляций"
   ]
  },
  {
   "cell_type": "code",
   "execution_count": 11,
   "metadata": {
    "cellId": "qwyv5ykuiob4va2fal00i"
   },
   "outputs": [],
   "source": [
    "data_0\\\n",
    "    .corr()\\\n",
    "    .style\\\n",
    "    .background_gradient(cmap=\"Spectral\" )"
   ]
  },
  {
   "cell_type": "code",
   "execution_count": 12,
   "metadata": {
    "cellId": "giwgotdf1dlfhlgbiikxyd"
   },
   "outputs": [],
   "source": [
    "data_1\\\n",
    "    .corr()\\\n",
    "    .style\\\n",
    "    .background_gradient(cmap=\"Spectral\" )"
   ]
  },
  {
   "cell_type": "code",
   "execution_count": 13,
   "metadata": {
    "cellId": "8omdsqc517f4nx8jq2ngc"
   },
   "outputs": [],
   "source": [
    "data_2\\\n",
    "    .corr()\\\n",
    "    .style\\\n",
    "    .background_gradient(cmap=\"Spectral\" )"
   ]
  },
  {
   "cell_type": "markdown",
   "metadata": {
    "cellId": "151ak38aes7z64wlj92jhm"
   },
   "source": [
    "## Обучение и проверка модели"
   ]
  },
  {
   "cell_type": "code",
   "execution_count": 14,
   "metadata": {
    "cellId": "21wn11c8fwkz1pvwg34q6"
   },
   "outputs": [],
   "source": [
    "# Метод обучения модели и прогнозирования\n",
    "def line_model(data):\n",
    "    # зададим целевой признак \n",
    "    target = data['product']\n",
    "    features = data.drop(['product', 'id'], axis=1)\n",
    "    \n",
    "    # разбьём данные на обучающую и валидационную выборки в соотношении 75:25\n",
    "    features_train, features_valid, target_train,target_valid = \\\n",
    "    train_test_split(features, target, test_size=0.25, random_state=12345)\n",
    "    \n",
    "    # модель линейной регрессии\n",
    "    model = LinearRegression()\n",
    "    \n",
    "    # обучим модель\n",
    "    model.fit(features_train, target_train)\n",
    "    \n",
    "    # сделаем прогнозы\n",
    "    predicted_valid = model.predict(features_valid)\n",
    "    \n",
    "    # посчитаем rmse\n",
    "    rmse = mean_squared_error(target_valid, predicted_valid)**0.5\n",
    "    \n",
    "    # посчитаем средний запас сырья\n",
    "    predicted_valid_mean = predicted_valid.sum()/len(predicted_valid)\n",
    "    \n",
    "    return target_valid, predicted_valid, rmse, predicted_valid_mean"
   ]
  },
  {
   "cell_type": "code",
   "execution_count": 15,
   "metadata": {
    "cellId": "1aumo7f5wrgfoxzkk7eqrc"
   },
   "outputs": [],
   "source": [
    "# получим основные показатели для каждого региона\n",
    "target_valid_0, predicted_valid_0, rmse_0, predicted_valid_mean_0 = line_model(data_0)\n",
    "target_valid_1, predicted_valid_1, rmse_1, predicted_valid_mean_1 = line_model(data_1)\n",
    "target_valid_2, predicted_valid_2, rmse_2, predicted_valid_mean_2 = line_model(data_2)"
   ]
  },
  {
   "cell_type": "code",
   "execution_count": 16,
   "metadata": {
    "cellId": "rzhut8ar7hsnjib7z4998"
   },
   "outputs": [],
   "source": [
    "print('Регион_0. Средний запас сырья:', predicted_valid_mean_0, 'rmse:', rmse_0)\n",
    "print('Регион_1. Средний запас сырья:', predicted_valid_mean_1, 'rmse:', rmse_1)\n",
    "print('Регион_2. Средний запас сырья:', predicted_valid_mean_2, 'rmse:', rmse_2)"
   ]
  },
  {
   "cell_type": "markdown",
   "metadata": {
    "cellId": "i35sqafooirlydrhq86zcf"
   },
   "source": [
    "Вывод: \n",
    "\n",
    "- Мы разделили данные регионов на обучающую и валидационную выборки.\n",
    "- Обучили модель линейной регрессии на тренировочных данных регионов.\n",
    "- Посчитали среднее количество предсказанных запасов в регионах, и посчитали среднеквадратическую ошибку.\n",
    "\n",
    "\n",
    "- Регион_0. Средний запас сырья: 92.59256778438035 rmse: 37.5794217150813\n",
    "- Регион_1. Средний запас сырья: 68.728546895446 rmse: 0.893099286775617\n",
    "- Регион_2. Средний запас сырья: 94.96504596800489 rmse: 40.02970873393434\n",
    "\n",
    "Для проверки корреляции признаков мы построили тепловые карты данных по регионам.\n"
   ]
  },
  {
   "cell_type": "markdown",
   "metadata": {
    "cellId": "yrup3x1dwdiq75fc8wi7b"
   },
   "source": [
    "## Подготовка к расчёту прибыли"
   ]
  },
  {
   "cell_type": "code",
   "execution_count": 17,
   "metadata": {
    "cellId": "v2yyqsyaz13eqjwpjz1n9"
   },
   "outputs": [],
   "source": [
    "# ключевые значения для расчётов\n",
    "\n",
    "REGION_BUDGET_RUB = 10*10**9 # бюджет на разработку 200 скважин в регионе\n",
    "TOTAL_QUANTITY_POINTS = 500 # при разведке региона исследуют 500 точек\n",
    "SELECTED_QUANTITY_POINTS = 200 # с помощью машинного обучения выбираем 200 точек лучших для разработки\n",
    "BUDGET_QUANTITY_POINTS_RUB = REGION_BUDGET_RUB / SELECTED_QUANTITY_POINTS\n",
    "BARREL_INCOME_RUB = 450 # доход с каждого барреля\n",
    "PRODUCT_UNITS_INCOME_RUB = 450 * 10**3 # доход с каждой единицы продукта\n",
    "LOSS_PROBABILITY_THRESHOLD_PERSENT = 2.5 # порог вероятности убытков"
   ]
  },
  {
   "cell_type": "code",
   "execution_count": 18,
   "metadata": {
    "cellId": "6a4eenyo223z9ji8o815f"
   },
   "outputs": [],
   "source": [
    "# рассчитайем достаточный объём сырья для безубыточной разработки новой скважины\n",
    "\n",
    "min_volume_materials = REGION_BUDGET_RUB / SELECTED_QUANTITY_POINTS / BARREL_INCOME_RUB\n",
    "print(f'Достаточный объём сырья для безубыточной \\\n",
    "разработки новой скважины равен {int(min_volume_materials)} барреля \\\n",
    "или {round(min_volume_materials/1000, 3)} единицы продукта (тыс. баррелей)')"
   ]
  },
  {
   "cell_type": "code",
   "execution_count": 19,
   "metadata": {
    "cellId": "u8turuxy3qukmxtnq8ceg"
   },
   "outputs": [],
   "source": [
    "# отклонение от среднего в регионе_0\n",
    "predicted_valid_mean_0*1000 - min_volume_materials"
   ]
  },
  {
   "cell_type": "code",
   "execution_count": 20,
   "metadata": {
    "cellId": "kv25ysf4eil8k55idptskd"
   },
   "outputs": [],
   "source": [
    "# отклонение от среднего в регионе_1\n",
    "predicted_valid_mean_1*1000 - min_volume_materials"
   ]
  },
  {
   "cell_type": "code",
   "execution_count": 21,
   "metadata": {
    "cellId": "wzb6ks3bmedhvgkwaa5ry"
   },
   "outputs": [],
   "source": [
    "# отклонение от среднего в регионе_2\n",
    "predicted_valid_mean_2*1000 - min_volume_materials"
   ]
  },
  {
   "cell_type": "code",
   "execution_count": 22,
   "metadata": {
    "cellId": "aewmzia6ng7y8x86jbtga"
   },
   "outputs": [],
   "source": [
    "print('Средняя расчетная прибыль региона_0',\\\n",
    "      SELECTED_QUANTITY_POINTS *\\\n",
    "      predicted_valid_mean_0 *\\\n",
    "     PRODUCT_UNITS_INCOME_RUB\\\n",
    "     - REGION_BUDGET_RUB)\n",
    "print('Средняя расчетная прибыль региона_1',\\\n",
    "      SELECTED_QUANTITY_POINTS *\\\n",
    "      predicted_valid_mean_1 *\\\n",
    "     PRODUCT_UNITS_INCOME_RUB\\\n",
    "     - REGION_BUDGET_RUB)\n",
    "print('Средняя расчетная прибыль региона_2',\\\n",
    "      SELECTED_QUANTITY_POINTS *\\\n",
    "      predicted_valid_mean_2 *\\\n",
    "     PRODUCT_UNITS_INCOME_RUB\\\n",
    "     - REGION_BUDGET_RUB)"
   ]
  },
  {
   "cell_type": "markdown",
   "metadata": {
    "cellId": "53kc6u4fincy2jt9pouobq"
   },
   "source": [
    "В каждом регионе средний запас сырья скважины меньше полученного значения достаточного объёма сырья на 18.5, 42.3, 16.1 тыс. баррелей."
   ]
  },
  {
   "cell_type": "markdown",
   "metadata": {
    "cellId": "93q53o3k2ojq1556rnt07h"
   },
   "source": [
    "## Расчёт прибыли и рисков "
   ]
  },
  {
   "cell_type": "code",
   "execution_count": 23,
   "metadata": {
    "cellId": "gxkwjjf2hjbe3jjma69254"
   },
   "outputs": [],
   "source": [
    "# метод для приведения к типу Series\n",
    "def series_type(target, pred):\n",
    "    target = target.reset_index(drop=True)\n",
    "    pred = pd.Series(pred)\n",
    "    return target, pred"
   ]
  },
  {
   "cell_type": "code",
   "execution_count": 24,
   "metadata": {
    "cellId": "3715txu42vqufh7ukftvo"
   },
   "outputs": [],
   "source": [
    "# приведем целевые и прогнозные значения по всем регионам к одному типу\n",
    "target_valid_0, predicted_valid_0 = series_type(target_valid_0, predicted_valid_0)\n",
    "target_valid_1, predicted_valid_1 = series_type(target_valid_1, predicted_valid_1)\n",
    "target_valid_2, predicted_valid_2 = series_type(target_valid_2, predicted_valid_2)"
   ]
  },
  {
   "cell_type": "code",
   "execution_count": 25,
   "metadata": {
    "cellId": "aaih3g7nh3f5uqvwfbavi"
   },
   "outputs": [],
   "source": [
    "# метод расчёта прибыли (фактическая выручка с 200 лучших по прогнозу скважин, минус инвестиции)\n",
    "def total_income(target, probabilities, count, PRODUCT_UNITS_INCOME_RUB, REGION_BUDGET_RUB):\n",
    "    prob_sort = probabilities.sort_values(ascending=False)\n",
    "    selected = target[prob_sort.index][:count]\n",
    "    return (PRODUCT_UNITS_INCOME_RUB * selected.sum() - REGION_BUDGET_RUB)"
   ]
  },
  {
   "cell_type": "code",
   "execution_count": 26,
   "metadata": {
    "cellId": "hx1unnxexaez047f0ro7p"
   },
   "outputs": [],
   "source": [
    "# метод получения основных расчётных параметров с помощью будстрепа\n",
    "def bootstrap_regions(target, predicted, SELECTED_QUANTITY_POINTS, PRODUCT_UNITS_INCOME_RUB, REGION_BUDGET_RUB):\n",
    "    state = RandomState(12345)\n",
    "    values = []\n",
    "    for i in range(1000):\n",
    "        target_subsample = target.sample(n = TOTAL_QUANTITY_POINTS, replace=True, random_state=state)\n",
    "        pred_subsumple = predicted[target_subsample.index]\n",
    "\n",
    "        values.append(total_income(target_subsample, pred_subsumple, SELECTED_QUANTITY_POINTS, PRODUCT_UNITS_INCOME_RUB, REGION_BUDGET_RUB))\n",
    "    values = pd.Series(values)\n",
    "    values_mean = (values.mean())\n",
    "    lower = (values.quantile(q=0.025))\n",
    "    upper = (values.quantile(q=0.975))\n",
    "    risk = (len(values[values < 0]) / len(values) * 100)\n",
    "    return values_mean, lower, upper, risk"
   ]
  },
  {
   "cell_type": "code",
   "execution_count": 27,
   "metadata": {
    "cellId": "99kqspy7zoqgwnl22ltwg"
   },
   "outputs": [],
   "source": [
    "#посчитаем основные параметры для трёх регионов\n",
    "values_mean_0, lower_0, upper_0, risk_0  = bootstrap_regions(target_valid_0, predicted_valid_0, SELECTED_QUANTITY_POINTS, PRODUCT_UNITS_INCOME_RUB, REGION_BUDGET_RUB)\n",
    "values_mean_1, lower_1, upper_1, risk_1  = bootstrap_regions(target_valid_1, predicted_valid_1, SELECTED_QUANTITY_POINTS, PRODUCT_UNITS_INCOME_RUB, REGION_BUDGET_RUB)\n",
    "values_mean_2, lower_2, upper_2, risk_2  = bootstrap_regions(target_valid_2, predicted_valid_2, SELECTED_QUANTITY_POINTS, PRODUCT_UNITS_INCOME_RUB, REGION_BUDGET_RUB)"
   ]
  },
  {
   "cell_type": "code",
   "execution_count": 28,
   "metadata": {
    "cellId": "gqtitjqouke940646mmc6t"
   },
   "outputs": [],
   "source": [
    "print('Средняя прибыль лучших месторождений региона_0 равна', values_mean_0)\n",
    "print('Средняя прибыль лучших месторождений региона_1 равна', values_mean_1)\n",
    "print('Средняя прибыль лучших месторождений региона_2 равна', values_mean_2)"
   ]
  },
  {
   "cell_type": "code",
   "execution_count": 29,
   "metadata": {
    "cellId": "8jcroepb5bx953mi50nzs6"
   },
   "outputs": [],
   "source": [
    "print('95% доверительный интервал для средней прибыли 200 лучших месторождений региона_0', lower_0, upper_0)\n",
    "print('95% доверительный интервал для средней прибыли 200 лучших месторождений региона_1', lower_1, upper_1)\n",
    "print('95% доверительный интервал для средней прибыли 200 лучших месторождений региона_2', lower_2, upper_2)"
   ]
  },
  {
   "cell_type": "code",
   "execution_count": 30,
   "metadata": {
    "cellId": "nupvz9wr19iu71xmj3alkn"
   },
   "outputs": [],
   "source": [
    "print('Риск убытков региона_0 равен', risk_0, '%')\n",
    "print('Риск убытков региона_1 равен', risk_1, '%')\n",
    "print('Риск убытков региона_2 равен', risk_2, '%')"
   ]
  },
  {
   "cell_type": "markdown",
   "metadata": {
    "cellId": "6q9nldapctpfadcly8i3p6"
   },
   "source": [
    "Выводы:\n",
    "В рамках исследования проведена подготовка данных, обучена модель линейной регрессии, подготовлен прогноз запасов для скважин трёх регионов.\n",
    "\n",
    " - Регион_0. Средний запас сырья: 92.59256778438035 rmse: 37.5794217150813\n",
    " - Регион_1. Средний запас сырья: 68.728546895446 rmse: 0.893099286775617\n",
    " - Регион_2. Средний запас сырья: 94.96504596800489 rmse: 40.02970873393434\n",
    " \n",
    "\n",
    "Достаточный объём сырья для безубыточной разработки новой скважины равен 111111 барреля или 111.111 единицы продукта (тыс. баррелей)\n",
    "\n",
    "В каждом регионе средний запас сырья скважины меньше полученного значения достаточного объёма сырья на 18.5, 42.3, 16.1 тыс. \n",
    "баррелей.\n",
    "\n",
    "Применили технику Bootstrap с 1000 выборок, для нахождения распределение прибыли:\n",
    "\n",
    " - Средняя прибыль лучших месторождений региона_0: 425 938 526 руб.\n",
    " - Средняя прибыль лучших месторождений региона_1: 515 222 773 руб.\n",
    " - Средняя прибыль лучших месторождений региона_2: 435 008 362 руб.\n",
    "\n",
    " - 95% доверительный интервал для средней прибыли 200 лучших месторождений региона_0 -102090094 947976353\n",
    " - 95% доверительный интервал для средней прибыли 200 лучших месторождений региона_1 68873225 931547591\n",
    " - 95% доверительный интервал для средней прибыли 200 лучших месторождений региона_2 -128880547 969706954\n",
    "\n",
    " - Риск убытков региона_0 равен 6.0 %\n",
    " - Риск убытков региона_1 равен 1.0 %\n",
    " - Риск убытков региона_2 равен 6.4 %\n",
    "\n",
    "\n",
    "Регион 1 является наиболее привлекательным для разработки, регион рекомендован к освоению: высокая прибыль лучших месторождений,более узкие рамки доверительного интервала и наименьший риск получения убытков.\n"
   ]
  }
 ],
 "metadata": {
  "ExecuteTimeLog": [
   {
    "duration": 10,
    "start_time": "2022-11-05T14:00:06.781Z"
   },
   {
    "duration": 4,
    "start_time": "2022-11-05T14:00:14.747Z"
   },
   {
    "duration": 3,
    "start_time": "2022-11-05T14:00:26.081Z"
   },
   {
    "duration": 4,
    "start_time": "2022-11-05T14:00:57.501Z"
   },
   {
    "duration": 363,
    "start_time": "2022-11-05T14:02:41.392Z"
   },
   {
    "duration": 506,
    "start_time": "2022-11-05T14:02:43.045Z"
   },
   {
    "duration": 534,
    "start_time": "2022-11-05T14:03:15.344Z"
   },
   {
    "duration": 48,
    "start_time": "2022-11-05T14:03:47.368Z"
   },
   {
    "duration": 15,
    "start_time": "2022-11-05T14:03:58.260Z"
   },
   {
    "duration": 14,
    "start_time": "2022-11-05T14:04:07.284Z"
   },
   {
    "duration": 14,
    "start_time": "2022-11-05T14:04:18.628Z"
   },
   {
    "duration": 94,
    "start_time": "2022-11-05T14:04:45.284Z"
   },
   {
    "duration": 90,
    "start_time": "2022-11-05T14:04:55.415Z"
   },
   {
    "duration": 84,
    "start_time": "2022-11-05T14:05:05.483Z"
   },
   {
    "duration": 9,
    "start_time": "2022-11-05T14:05:45.447Z"
   },
   {
    "duration": 9,
    "start_time": "2022-11-05T14:05:57.831Z"
   },
   {
    "duration": 10,
    "start_time": "2022-11-05T14:06:06.344Z"
   },
   {
    "duration": 50,
    "start_time": "2022-11-05T14:06:27.491Z"
   },
   {
    "duration": 46,
    "start_time": "2022-11-05T14:06:37.646Z"
   },
   {
    "duration": 136,
    "start_time": "2022-11-05T14:06:58.186Z"
   },
   {
    "duration": 704,
    "start_time": "2022-11-05T14:13:37.437Z"
   },
   {
    "duration": 343,
    "start_time": "2022-11-05T14:16:19.253Z"
   },
   {
    "duration": 190,
    "start_time": "2022-11-05T14:16:28.888Z"
   },
   {
    "duration": 1081,
    "start_time": "2022-11-05T14:16:38.290Z"
   },
   {
    "duration": 375,
    "start_time": "2022-11-05T14:16:39.373Z"
   },
   {
    "duration": 17,
    "start_time": "2022-11-05T14:16:39.749Z"
   },
   {
    "duration": 15,
    "start_time": "2022-11-05T14:16:39.768Z"
   },
   {
    "duration": 12,
    "start_time": "2022-11-05T14:16:39.785Z"
   },
   {
    "duration": 123,
    "start_time": "2022-11-05T14:16:39.799Z"
   },
   {
    "duration": 94,
    "start_time": "2022-11-05T14:16:39.924Z"
   },
   {
    "duration": 100,
    "start_time": "2022-11-05T14:16:40.019Z"
   },
   {
    "duration": 19,
    "start_time": "2022-11-05T14:16:40.120Z"
   },
   {
    "duration": 9,
    "start_time": "2022-11-05T14:16:40.140Z"
   },
   {
    "duration": 9,
    "start_time": "2022-11-05T14:16:40.150Z"
   },
   {
    "duration": 137,
    "start_time": "2022-11-05T14:16:40.160Z"
   },
   {
    "duration": 282,
    "start_time": "2022-11-05T14:16:40.299Z"
   },
   {
    "duration": 12,
    "start_time": "2022-11-05T14:16:53.430Z"
   },
   {
    "duration": 1076,
    "start_time": "2022-11-05T14:16:59.767Z"
   },
   {
    "duration": 390,
    "start_time": "2022-11-05T14:17:00.845Z"
   },
   {
    "duration": 16,
    "start_time": "2022-11-05T14:17:01.238Z"
   },
   {
    "duration": 24,
    "start_time": "2022-11-05T14:17:01.255Z"
   },
   {
    "duration": 15,
    "start_time": "2022-11-05T14:17:01.281Z"
   },
   {
    "duration": 127,
    "start_time": "2022-11-05T14:17:01.297Z"
   },
   {
    "duration": 118,
    "start_time": "2022-11-05T14:17:01.426Z"
   },
   {
    "duration": 129,
    "start_time": "2022-11-05T14:17:01.546Z"
   },
   {
    "duration": 11,
    "start_time": "2022-11-05T14:17:01.676Z"
   },
   {
    "duration": 13,
    "start_time": "2022-11-05T14:17:01.688Z"
   },
   {
    "duration": 25,
    "start_time": "2022-11-05T14:17:01.703Z"
   },
   {
    "duration": 141,
    "start_time": "2022-11-05T14:17:01.738Z"
   },
   {
    "duration": 10,
    "start_time": "2022-11-05T14:17:01.881Z"
   },
   {
    "duration": 23,
    "start_time": "2022-11-05T14:17:29.424Z"
   },
   {
    "duration": 18,
    "start_time": "2022-11-05T14:18:00.159Z"
   },
   {
    "duration": 41,
    "start_time": "2022-11-05T14:18:24.484Z"
   },
   {
    "duration": 20,
    "start_time": "2022-11-05T14:20:35.955Z"
   },
   {
    "duration": 125,
    "start_time": "2022-11-05T14:20:55.123Z"
   },
   {
    "duration": 38,
    "start_time": "2022-11-05T14:21:25.850Z"
   },
   {
    "duration": 462,
    "start_time": "2022-11-05T14:23:29.557Z"
   },
   {
    "duration": 21,
    "start_time": "2022-11-05T14:23:45.193Z"
   },
   {
    "duration": 20,
    "start_time": "2022-11-05T14:23:58.629Z"
   },
   {
    "duration": 5,
    "start_time": "2022-11-05T14:27:01.508Z"
   },
   {
    "duration": 40,
    "start_time": "2022-11-08T08:19:19.671Z"
   },
   {
    "duration": 7,
    "start_time": "2022-11-08T08:19:47.272Z"
   },
   {
    "duration": 1385,
    "start_time": "2022-11-08T08:19:51.890Z"
   },
   {
    "duration": 854,
    "start_time": "2022-11-08T08:19:53.277Z"
   },
   {
    "duration": 17,
    "start_time": "2022-11-08T08:19:54.133Z"
   },
   {
    "duration": 23,
    "start_time": "2022-11-08T08:19:54.152Z"
   },
   {
    "duration": 15,
    "start_time": "2022-11-08T08:19:54.177Z"
   },
   {
    "duration": 124,
    "start_time": "2022-11-08T08:19:54.193Z"
   },
   {
    "duration": 118,
    "start_time": "2022-11-08T08:19:54.319Z"
   },
   {
    "duration": 79,
    "start_time": "2022-11-08T08:19:54.439Z"
   },
   {
    "duration": 4,
    "start_time": "2022-11-08T08:19:54.519Z"
   },
   {
    "duration": 36,
    "start_time": "2022-11-08T08:19:54.525Z"
   },
   {
    "duration": 108,
    "start_time": "2022-11-08T08:19:54.562Z"
   },
   {
    "duration": 19,
    "start_time": "2022-11-08T08:19:54.671Z"
   },
   {
    "duration": 70,
    "start_time": "2022-11-08T08:19:54.692Z"
   },
   {
    "duration": 73,
    "start_time": "2022-11-08T08:19:54.764Z"
   },
   {
    "duration": 34,
    "start_time": "2022-11-08T08:19:54.838Z"
   },
   {
    "duration": 19,
    "start_time": "2022-11-08T08:19:54.874Z"
   },
   {
    "duration": 277,
    "start_time": "2022-11-08T08:22:11.895Z"
   },
   {
    "duration": 288,
    "start_time": "2022-11-08T08:22:58.157Z"
   },
   {
    "duration": 337,
    "start_time": "2022-11-08T08:23:13.429Z"
   },
   {
    "duration": 4,
    "start_time": "2022-11-08T08:27:46.328Z"
   },
   {
    "duration": 288,
    "start_time": "2022-11-08T08:28:05.670Z"
   },
   {
    "duration": 5,
    "start_time": "2022-11-08T08:28:21.083Z"
   },
   {
    "duration": 104,
    "start_time": "2022-11-08T08:30:02.337Z"
   },
   {
    "duration": 1238,
    "start_time": "2022-11-08T08:30:15.960Z"
   },
   {
    "duration": 293,
    "start_time": "2022-11-08T08:30:17.200Z"
   },
   {
    "duration": 13,
    "start_time": "2022-11-08T08:30:17.495Z"
   },
   {
    "duration": 11,
    "start_time": "2022-11-08T08:30:17.509Z"
   },
   {
    "duration": 12,
    "start_time": "2022-11-08T08:30:17.522Z"
   },
   {
    "duration": 88,
    "start_time": "2022-11-08T08:30:17.535Z"
   },
   {
    "duration": 89,
    "start_time": "2022-11-08T08:30:17.625Z"
   },
   {
    "duration": 81,
    "start_time": "2022-11-08T08:30:17.716Z"
   },
   {
    "duration": 3,
    "start_time": "2022-11-08T08:30:17.799Z"
   },
   {
    "duration": 23,
    "start_time": "2022-11-08T08:30:17.804Z"
   },
   {
    "duration": 114,
    "start_time": "2022-11-08T08:30:17.828Z"
   },
   {
    "duration": 277,
    "start_time": "2022-11-08T08:30:17.944Z"
   },
   {
    "duration": 283,
    "start_time": "2022-11-08T08:30:18.223Z"
   },
   {
    "duration": 292,
    "start_time": "2022-11-08T08:30:18.509Z"
   },
   {
    "duration": 116,
    "start_time": "2022-11-08T08:30:18.802Z"
   },
   {
    "duration": 16,
    "start_time": "2022-11-08T08:30:18.920Z"
   },
   {
    "duration": 30,
    "start_time": "2022-11-08T08:30:18.937Z"
   },
   {
    "duration": 3,
    "start_time": "2022-11-08T08:30:18.968Z"
   },
   {
    "duration": 384,
    "start_time": "2022-11-08T08:30:18.973Z"
   },
   {
    "duration": 7,
    "start_time": "2022-11-08T08:30:19.358Z"
   },
   {
    "duration": 16,
    "start_time": "2022-11-08T08:30:19.458Z"
   },
   {
    "duration": 91,
    "start_time": "2022-11-08T08:30:19.475Z"
   },
   {
    "duration": 4,
    "start_time": "2022-11-08T08:30:39.357Z"
   },
   {
    "duration": 4,
    "start_time": "2022-11-08T08:31:20.266Z"
   },
   {
    "duration": 93,
    "start_time": "2022-11-08T08:34:35.340Z"
   },
   {
    "duration": 1175,
    "start_time": "2022-11-08T08:34:45.705Z"
   },
   {
    "duration": 322,
    "start_time": "2022-11-08T08:34:46.882Z"
   },
   {
    "duration": 12,
    "start_time": "2022-11-08T08:34:47.206Z"
   },
   {
    "duration": 11,
    "start_time": "2022-11-08T08:34:47.220Z"
   },
   {
    "duration": 26,
    "start_time": "2022-11-08T08:34:47.233Z"
   },
   {
    "duration": 79,
    "start_time": "2022-11-08T08:34:47.261Z"
   },
   {
    "duration": 82,
    "start_time": "2022-11-08T08:34:47.342Z"
   },
   {
    "duration": 112,
    "start_time": "2022-11-08T08:34:47.426Z"
   },
   {
    "duration": 3,
    "start_time": "2022-11-08T08:34:47.540Z"
   },
   {
    "duration": 20,
    "start_time": "2022-11-08T08:34:47.555Z"
   },
   {
    "duration": 122,
    "start_time": "2022-11-08T08:34:47.576Z"
   },
   {
    "duration": 305,
    "start_time": "2022-11-08T08:34:47.700Z"
   },
   {
    "duration": 300,
    "start_time": "2022-11-08T08:34:48.007Z"
   },
   {
    "duration": 297,
    "start_time": "2022-11-08T08:34:48.310Z"
   },
   {
    "duration": 121,
    "start_time": "2022-11-08T08:34:48.608Z"
   },
   {
    "duration": 25,
    "start_time": "2022-11-08T08:34:48.731Z"
   },
   {
    "duration": 17,
    "start_time": "2022-11-08T08:34:48.757Z"
   },
   {
    "duration": 5,
    "start_time": "2022-11-08T08:34:48.775Z"
   },
   {
    "duration": 388,
    "start_time": "2022-11-08T08:34:48.781Z"
   },
   {
    "duration": 85,
    "start_time": "2022-11-08T08:34:49.171Z"
   },
   {
    "duration": 104,
    "start_time": "2022-11-08T08:34:49.258Z"
   },
   {
    "duration": 10,
    "start_time": "2022-11-08T08:34:49.363Z"
   },
   {
    "duration": 8,
    "start_time": "2022-11-08T08:34:49.375Z"
   },
   {
    "duration": 5,
    "start_time": "2022-11-08T08:34:49.385Z"
   },
   {
    "duration": 6,
    "start_time": "2022-11-08T08:34:49.392Z"
   },
   {
    "duration": 9,
    "start_time": "2022-11-08T08:34:49.399Z"
   },
   {
    "duration": 19,
    "start_time": "2022-11-08T08:34:49.410Z"
   },
   {
    "duration": 20,
    "start_time": "2022-11-08T08:34:49.430Z"
   },
   {
    "duration": 6,
    "start_time": "2022-11-08T08:34:49.451Z"
   },
   {
    "duration": 11,
    "start_time": "2022-11-08T08:34:49.459Z"
   },
   {
    "duration": 70,
    "start_time": "2022-11-08T08:34:49.471Z"
   },
   {
    "duration": 0,
    "start_time": "2022-11-08T08:34:49.543Z"
   },
   {
    "duration": 129,
    "start_time": "2022-11-08T08:35:46.213Z"
   },
   {
    "duration": 4,
    "start_time": "2022-11-08T08:36:28.497Z"
   },
   {
    "duration": 1224,
    "start_time": "2022-11-08T08:36:39.784Z"
   },
   {
    "duration": 294,
    "start_time": "2022-11-08T08:36:41.009Z"
   },
   {
    "duration": 13,
    "start_time": "2022-11-08T08:36:41.304Z"
   },
   {
    "duration": 11,
    "start_time": "2022-11-08T08:36:41.318Z"
   },
   {
    "duration": 26,
    "start_time": "2022-11-08T08:36:41.330Z"
   },
   {
    "duration": 80,
    "start_time": "2022-11-08T08:36:41.358Z"
   },
   {
    "duration": 75,
    "start_time": "2022-11-08T08:36:41.440Z"
   },
   {
    "duration": 76,
    "start_time": "2022-11-08T08:36:41.516Z"
   },
   {
    "duration": 4,
    "start_time": "2022-11-08T08:36:41.593Z"
   },
   {
    "duration": 20,
    "start_time": "2022-11-08T08:36:41.599Z"
   },
   {
    "duration": 116,
    "start_time": "2022-11-08T08:36:41.620Z"
   },
   {
    "duration": 280,
    "start_time": "2022-11-08T08:36:41.737Z"
   },
   {
    "duration": 282,
    "start_time": "2022-11-08T08:36:42.018Z"
   },
   {
    "duration": 326,
    "start_time": "2022-11-08T08:36:42.301Z"
   },
   {
    "duration": 123,
    "start_time": "2022-11-08T08:36:42.629Z"
   },
   {
    "duration": 17,
    "start_time": "2022-11-08T08:36:42.754Z"
   },
   {
    "duration": 17,
    "start_time": "2022-11-08T08:36:42.773Z"
   },
   {
    "duration": 4,
    "start_time": "2022-11-08T08:36:42.791Z"
   },
   {
    "duration": 359,
    "start_time": "2022-11-08T08:36:42.796Z"
   },
   {
    "duration": 6,
    "start_time": "2022-11-08T08:36:43.157Z"
   },
   {
    "duration": 109,
    "start_time": "2022-11-08T08:36:43.165Z"
   },
   {
    "duration": 13,
    "start_time": "2022-11-08T08:36:43.275Z"
   },
   {
    "duration": 7,
    "start_time": "2022-11-08T08:36:43.289Z"
   },
   {
    "duration": 13,
    "start_time": "2022-11-08T08:36:43.298Z"
   },
   {
    "duration": 6,
    "start_time": "2022-11-08T08:36:43.312Z"
   },
   {
    "duration": 10,
    "start_time": "2022-11-08T08:36:43.319Z"
   },
   {
    "duration": 12,
    "start_time": "2022-11-08T08:36:43.330Z"
   },
   {
    "duration": 14,
    "start_time": "2022-11-08T08:36:43.344Z"
   },
   {
    "duration": 12,
    "start_time": "2022-11-08T08:36:43.359Z"
   },
   {
    "duration": 16,
    "start_time": "2022-11-08T08:36:43.373Z"
   },
   {
    "duration": 2499,
    "start_time": "2022-11-08T08:36:43.390Z"
   },
   {
    "duration": 0,
    "start_time": "2022-11-08T08:36:45.890Z"
   },
   {
    "duration": 1271,
    "start_time": "2022-11-08T08:37:50.647Z"
   },
   {
    "duration": 303,
    "start_time": "2022-11-08T08:37:51.919Z"
   },
   {
    "duration": 14,
    "start_time": "2022-11-08T08:37:52.224Z"
   },
   {
    "duration": 18,
    "start_time": "2022-11-08T08:37:52.240Z"
   },
   {
    "duration": 13,
    "start_time": "2022-11-08T08:37:52.259Z"
   },
   {
    "duration": 88,
    "start_time": "2022-11-08T08:37:52.273Z"
   },
   {
    "duration": 101,
    "start_time": "2022-11-08T08:37:52.362Z"
   },
   {
    "duration": 109,
    "start_time": "2022-11-08T08:37:52.465Z"
   },
   {
    "duration": 3,
    "start_time": "2022-11-08T08:37:52.576Z"
   },
   {
    "duration": 26,
    "start_time": "2022-11-08T08:37:52.582Z"
   },
   {
    "duration": 116,
    "start_time": "2022-11-08T08:37:52.610Z"
   },
   {
    "duration": 303,
    "start_time": "2022-11-08T08:37:52.727Z"
   },
   {
    "duration": 306,
    "start_time": "2022-11-08T08:37:53.031Z"
   },
   {
    "duration": 302,
    "start_time": "2022-11-08T08:37:53.339Z"
   },
   {
    "duration": 127,
    "start_time": "2022-11-08T08:37:53.643Z"
   },
   {
    "duration": 17,
    "start_time": "2022-11-08T08:37:53.772Z"
   },
   {
    "duration": 18,
    "start_time": "2022-11-08T08:37:53.791Z"
   },
   {
    "duration": 4,
    "start_time": "2022-11-08T08:37:53.810Z"
   },
   {
    "duration": 248,
    "start_time": "2022-11-08T08:37:53.815Z"
   },
   {
    "duration": 95,
    "start_time": "2022-11-08T08:37:54.064Z"
   },
   {
    "duration": 97,
    "start_time": "2022-11-08T08:37:54.164Z"
   },
   {
    "duration": 8,
    "start_time": "2022-11-08T08:37:54.262Z"
   },
   {
    "duration": 9,
    "start_time": "2022-11-08T08:37:54.272Z"
   },
   {
    "duration": 9,
    "start_time": "2022-11-08T08:37:54.282Z"
   },
   {
    "duration": 13,
    "start_time": "2022-11-08T08:37:54.292Z"
   },
   {
    "duration": 5,
    "start_time": "2022-11-08T08:37:54.307Z"
   },
   {
    "duration": 7,
    "start_time": "2022-11-08T08:37:54.314Z"
   },
   {
    "duration": 4,
    "start_time": "2022-11-08T08:37:54.324Z"
   },
   {
    "duration": 3,
    "start_time": "2022-11-08T08:37:54.330Z"
   },
   {
    "duration": 5,
    "start_time": "2022-11-08T08:37:54.335Z"
   },
   {
    "duration": 2379,
    "start_time": "2022-11-08T08:37:54.341Z"
   },
   {
    "duration": 0,
    "start_time": "2022-11-08T08:37:56.721Z"
   },
   {
    "duration": 3324,
    "start_time": "2022-11-08T08:39:58.590Z"
   },
   {
    "duration": 1262,
    "start_time": "2022-11-08T08:40:06.464Z"
   },
   {
    "duration": 344,
    "start_time": "2022-11-08T08:40:07.728Z"
   },
   {
    "duration": 13,
    "start_time": "2022-11-08T08:40:08.073Z"
   },
   {
    "duration": 11,
    "start_time": "2022-11-08T08:40:08.088Z"
   },
   {
    "duration": 12,
    "start_time": "2022-11-08T08:40:08.101Z"
   },
   {
    "duration": 95,
    "start_time": "2022-11-08T08:40:08.114Z"
   },
   {
    "duration": 74,
    "start_time": "2022-11-08T08:40:08.211Z"
   },
   {
    "duration": 78,
    "start_time": "2022-11-08T08:40:08.286Z"
   },
   {
    "duration": 4,
    "start_time": "2022-11-08T08:40:08.366Z"
   },
   {
    "duration": 25,
    "start_time": "2022-11-08T08:40:08.371Z"
   },
   {
    "duration": 116,
    "start_time": "2022-11-08T08:40:08.397Z"
   },
   {
    "duration": 288,
    "start_time": "2022-11-08T08:40:08.514Z"
   },
   {
    "duration": 281,
    "start_time": "2022-11-08T08:40:08.803Z"
   },
   {
    "duration": 278,
    "start_time": "2022-11-08T08:40:09.086Z"
   },
   {
    "duration": 120,
    "start_time": "2022-11-08T08:40:09.365Z"
   },
   {
    "duration": 16,
    "start_time": "2022-11-08T08:40:09.487Z"
   },
   {
    "duration": 15,
    "start_time": "2022-11-08T08:40:09.504Z"
   },
   {
    "duration": 4,
    "start_time": "2022-11-08T08:40:09.521Z"
   },
   {
    "duration": 335,
    "start_time": "2022-11-08T08:40:09.526Z"
   },
   {
    "duration": 5,
    "start_time": "2022-11-08T08:40:09.863Z"
   },
   {
    "duration": 101,
    "start_time": "2022-11-08T08:40:09.955Z"
   },
   {
    "duration": 10,
    "start_time": "2022-11-08T08:40:10.058Z"
   },
   {
    "duration": 11,
    "start_time": "2022-11-08T08:40:10.070Z"
   },
   {
    "duration": 9,
    "start_time": "2022-11-08T08:40:10.082Z"
   },
   {
    "duration": 15,
    "start_time": "2022-11-08T08:40:10.092Z"
   },
   {
    "duration": 13,
    "start_time": "2022-11-08T08:40:10.108Z"
   },
   {
    "duration": 14,
    "start_time": "2022-11-08T08:40:10.122Z"
   },
   {
    "duration": 6,
    "start_time": "2022-11-08T08:40:10.137Z"
   },
   {
    "duration": 4,
    "start_time": "2022-11-08T08:40:10.144Z"
   },
   {
    "duration": 6,
    "start_time": "2022-11-08T08:40:10.149Z"
   },
   {
    "duration": 3418,
    "start_time": "2022-11-08T08:40:10.156Z"
   },
   {
    "duration": 4,
    "start_time": "2022-11-08T08:40:13.575Z"
   },
   {
    "duration": 4,
    "start_time": "2022-11-08T08:40:37.008Z"
   },
   {
    "duration": 4,
    "start_time": "2022-11-08T08:40:51.639Z"
   },
   {
    "duration": 69,
    "start_time": "2022-11-08T08:51:10.362Z"
   },
   {
    "duration": 1520,
    "start_time": "2022-11-08T11:55:11.173Z"
   },
   {
    "duration": 1400,
    "start_time": "2022-11-08T11:55:12.695Z"
   },
   {
    "duration": 15,
    "start_time": "2022-11-08T11:55:14.097Z"
   },
   {
    "duration": 32,
    "start_time": "2022-11-08T11:55:14.115Z"
   },
   {
    "duration": 30,
    "start_time": "2022-11-08T11:55:14.149Z"
   },
   {
    "duration": 15,
    "start_time": "2022-11-08T11:55:14.181Z"
   },
   {
    "duration": 138,
    "start_time": "2022-11-08T11:55:14.198Z"
   },
   {
    "duration": 351,
    "start_time": "2022-11-08T11:55:14.338Z"
   },
   {
    "duration": 360,
    "start_time": "2022-11-08T11:55:14.692Z"
   },
   {
    "duration": 347,
    "start_time": "2022-11-08T11:55:15.055Z"
   },
   {
    "duration": 157,
    "start_time": "2022-11-08T11:55:15.405Z"
   },
   {
    "duration": 19,
    "start_time": "2022-11-08T11:55:15.564Z"
   },
   {
    "duration": 43,
    "start_time": "2022-11-08T11:55:15.585Z"
   },
   {
    "duration": 24,
    "start_time": "2022-11-08T11:55:15.630Z"
   },
   {
    "duration": 389,
    "start_time": "2022-11-08T11:55:15.656Z"
   },
   {
    "duration": 88,
    "start_time": "2022-11-08T11:55:16.047Z"
   },
   {
    "duration": 104,
    "start_time": "2022-11-08T11:55:16.138Z"
   },
   {
    "duration": 37,
    "start_time": "2022-11-08T11:55:16.244Z"
   },
   {
    "duration": 30,
    "start_time": "2022-11-08T11:55:16.283Z"
   },
   {
    "duration": 15,
    "start_time": "2022-11-08T11:55:16.315Z"
   },
   {
    "duration": 25,
    "start_time": "2022-11-08T11:55:16.332Z"
   },
   {
    "duration": 24,
    "start_time": "2022-11-08T11:55:16.360Z"
   },
   {
    "duration": 31,
    "start_time": "2022-11-08T11:55:16.387Z"
   },
   {
    "duration": 22,
    "start_time": "2022-11-08T11:55:16.421Z"
   },
   {
    "duration": 26,
    "start_time": "2022-11-08T11:55:16.447Z"
   },
   {
    "duration": 47,
    "start_time": "2022-11-08T11:55:16.475Z"
   },
   {
    "duration": 4151,
    "start_time": "2022-11-08T11:55:16.523Z"
   },
   {
    "duration": 4,
    "start_time": "2022-11-08T11:55:20.677Z"
   },
   {
    "duration": 10,
    "start_time": "2022-11-08T11:55:20.683Z"
   },
   {
    "duration": 33,
    "start_time": "2022-11-08T11:55:20.695Z"
   },
   {
    "duration": 4,
    "start_time": "2022-11-08T11:56:21.854Z"
   },
   {
    "duration": 7,
    "start_time": "2022-11-08T12:32:39.236Z"
   },
   {
    "duration": 4,
    "start_time": "2022-11-08T12:32:58.345Z"
   },
   {
    "duration": 5,
    "start_time": "2022-11-08T12:33:41.204Z"
   },
   {
    "duration": 7,
    "start_time": "2022-11-08T15:01:52.213Z"
   },
   {
    "duration": 1427,
    "start_time": "2022-11-08T15:01:57.383Z"
   },
   {
    "duration": 897,
    "start_time": "2022-11-08T15:01:58.812Z"
   },
   {
    "duration": 12,
    "start_time": "2022-11-08T15:01:59.711Z"
   },
   {
    "duration": 15,
    "start_time": "2022-11-08T15:01:59.725Z"
   },
   {
    "duration": 12,
    "start_time": "2022-11-08T15:01:59.741Z"
   },
   {
    "duration": 10,
    "start_time": "2022-11-08T15:01:59.754Z"
   },
   {
    "duration": 134,
    "start_time": "2022-11-08T15:01:59.765Z"
   },
   {
    "duration": 319,
    "start_time": "2022-11-08T15:01:59.901Z"
   },
   {
    "duration": 320,
    "start_time": "2022-11-08T15:02:00.222Z"
   },
   {
    "duration": 326,
    "start_time": "2022-11-08T15:02:00.544Z"
   },
   {
    "duration": 141,
    "start_time": "2022-11-08T15:02:00.871Z"
   },
   {
    "duration": 17,
    "start_time": "2022-11-08T15:02:01.013Z"
   },
   {
    "duration": 40,
    "start_time": "2022-11-08T15:02:01.031Z"
   },
   {
    "duration": 4,
    "start_time": "2022-11-08T15:02:01.073Z"
   },
   {
    "duration": 476,
    "start_time": "2022-11-08T15:02:01.079Z"
   },
   {
    "duration": 7,
    "start_time": "2022-11-08T15:02:01.561Z"
   },
   {
    "duration": 37,
    "start_time": "2022-11-08T15:02:01.654Z"
   },
   {
    "duration": 18,
    "start_time": "2022-11-08T15:02:01.692Z"
   },
   {
    "duration": 17,
    "start_time": "2022-11-08T15:02:01.711Z"
   },
   {
    "duration": 8,
    "start_time": "2022-11-08T15:02:01.729Z"
   },
   {
    "duration": 28,
    "start_time": "2022-11-08T15:02:01.738Z"
   },
   {
    "duration": 16,
    "start_time": "2022-11-08T15:02:01.767Z"
   },
   {
    "duration": 28,
    "start_time": "2022-11-08T15:02:01.784Z"
   },
   {
    "duration": 38,
    "start_time": "2022-11-08T15:02:01.813Z"
   },
   {
    "duration": 30,
    "start_time": "2022-11-08T15:02:01.853Z"
   },
   {
    "duration": 17,
    "start_time": "2022-11-08T15:02:01.884Z"
   },
   {
    "duration": 3907,
    "start_time": "2022-11-08T15:02:01.903Z"
   },
   {
    "duration": 4,
    "start_time": "2022-11-08T15:02:05.812Z"
   },
   {
    "duration": 9,
    "start_time": "2022-11-08T15:02:05.817Z"
   },
   {
    "duration": 54,
    "start_time": "2022-11-08T15:02:05.827Z"
   },
   {
    "duration": 5,
    "start_time": "2022-11-08T15:02:54.685Z"
   },
   {
    "duration": 1272,
    "start_time": "2022-11-08T15:02:59.382Z"
   },
   {
    "duration": 340,
    "start_time": "2022-11-08T15:03:00.660Z"
   },
   {
    "duration": 13,
    "start_time": "2022-11-08T15:03:01.001Z"
   },
   {
    "duration": 49,
    "start_time": "2022-11-08T15:03:01.016Z"
   },
   {
    "duration": 45,
    "start_time": "2022-11-08T15:03:01.078Z"
   },
   {
    "duration": 20,
    "start_time": "2022-11-08T15:03:01.124Z"
   },
   {
    "duration": 166,
    "start_time": "2022-11-08T15:03:01.146Z"
   },
   {
    "duration": 333,
    "start_time": "2022-11-08T15:03:01.314Z"
   },
   {
    "duration": 319,
    "start_time": "2022-11-08T15:03:01.649Z"
   },
   {
    "duration": 324,
    "start_time": "2022-11-08T15:03:01.969Z"
   },
   {
    "duration": 168,
    "start_time": "2022-11-08T15:03:02.295Z"
   },
   {
    "duration": 28,
    "start_time": "2022-11-08T15:03:02.465Z"
   },
   {
    "duration": 34,
    "start_time": "2022-11-08T15:03:02.494Z"
   },
   {
    "duration": 4,
    "start_time": "2022-11-08T15:03:02.531Z"
   },
   {
    "duration": 333,
    "start_time": "2022-11-08T15:03:02.537Z"
   },
   {
    "duration": 7,
    "start_time": "2022-11-08T15:03:02.874Z"
   },
   {
    "duration": 122,
    "start_time": "2022-11-08T15:03:02.884Z"
   },
   {
    "duration": 51,
    "start_time": "2022-11-08T15:03:03.009Z"
   },
   {
    "duration": 55,
    "start_time": "2022-11-08T15:03:03.061Z"
   },
   {
    "duration": 6,
    "start_time": "2022-11-08T15:03:03.118Z"
   },
   {
    "duration": 10,
    "start_time": "2022-11-08T15:03:03.125Z"
   },
   {
    "duration": 8,
    "start_time": "2022-11-08T15:03:03.136Z"
   },
   {
    "duration": 7,
    "start_time": "2022-11-08T15:03:03.145Z"
   },
   {
    "duration": 38,
    "start_time": "2022-11-08T15:03:03.153Z"
   },
   {
    "duration": 7,
    "start_time": "2022-11-08T15:03:03.193Z"
   },
   {
    "duration": 5,
    "start_time": "2022-11-08T15:03:03.202Z"
   },
   {
    "duration": 3772,
    "start_time": "2022-11-08T15:03:03.208Z"
   },
   {
    "duration": 5,
    "start_time": "2022-11-08T15:03:06.982Z"
   },
   {
    "duration": 15,
    "start_time": "2022-11-08T15:03:06.989Z"
   },
   {
    "duration": 8,
    "start_time": "2022-11-08T15:03:07.005Z"
   },
   {
    "duration": 5,
    "start_time": "2022-11-08T15:03:15.348Z"
   },
   {
    "duration": 1287,
    "start_time": "2022-11-08T15:03:35.286Z"
   },
   {
    "duration": 345,
    "start_time": "2022-11-08T15:03:36.575Z"
   },
   {
    "duration": 12,
    "start_time": "2022-11-08T15:03:36.922Z"
   },
   {
    "duration": 11,
    "start_time": "2022-11-08T15:03:36.936Z"
   },
   {
    "duration": 29,
    "start_time": "2022-11-08T15:03:36.948Z"
   },
   {
    "duration": 13,
    "start_time": "2022-11-08T15:03:36.978Z"
   },
   {
    "duration": 111,
    "start_time": "2022-11-08T15:03:36.993Z"
   },
   {
    "duration": 318,
    "start_time": "2022-11-08T15:03:37.105Z"
   },
   {
    "duration": 324,
    "start_time": "2022-11-08T15:03:37.424Z"
   },
   {
    "duration": 296,
    "start_time": "2022-11-08T15:03:37.759Z"
   },
   {
    "duration": 135,
    "start_time": "2022-11-08T15:03:38.057Z"
   },
   {
    "duration": 17,
    "start_time": "2022-11-08T15:03:38.194Z"
   },
   {
    "duration": 16,
    "start_time": "2022-11-08T15:03:38.213Z"
   },
   {
    "duration": 4,
    "start_time": "2022-11-08T15:03:38.230Z"
   },
   {
    "duration": 253,
    "start_time": "2022-11-08T15:03:38.236Z"
   },
   {
    "duration": 76,
    "start_time": "2022-11-08T15:03:38.491Z"
   },
   {
    "duration": 16,
    "start_time": "2022-11-08T15:03:38.573Z"
   },
   {
    "duration": 107,
    "start_time": "2022-11-08T15:03:38.591Z"
   },
   {
    "duration": 9,
    "start_time": "2022-11-08T15:03:38.699Z"
   },
   {
    "duration": 7,
    "start_time": "2022-11-08T15:03:38.709Z"
   },
   {
    "duration": 9,
    "start_time": "2022-11-08T15:03:38.718Z"
   },
   {
    "duration": 5,
    "start_time": "2022-11-08T15:03:38.729Z"
   },
   {
    "duration": 13,
    "start_time": "2022-11-08T15:03:38.736Z"
   },
   {
    "duration": 34,
    "start_time": "2022-11-08T15:03:38.751Z"
   },
   {
    "duration": 5,
    "start_time": "2022-11-08T15:03:38.786Z"
   },
   {
    "duration": 5,
    "start_time": "2022-11-08T15:03:38.794Z"
   },
   {
    "duration": 3803,
    "start_time": "2022-11-08T15:03:38.801Z"
   },
   {
    "duration": 5,
    "start_time": "2022-11-08T15:03:42.607Z"
   },
   {
    "duration": 17,
    "start_time": "2022-11-08T15:03:42.614Z"
   },
   {
    "duration": 17,
    "start_time": "2022-11-08T15:03:42.633Z"
   },
   {
    "duration": 1337,
    "start_time": "2022-11-08T15:55:00.849Z"
   },
   {
    "duration": 565,
    "start_time": "2022-11-08T15:55:02.188Z"
   },
   {
    "duration": 15,
    "start_time": "2022-11-08T15:55:02.755Z"
   },
   {
    "duration": 32,
    "start_time": "2022-11-08T15:55:02.772Z"
   },
   {
    "duration": 16,
    "start_time": "2022-11-08T15:55:02.807Z"
   },
   {
    "duration": 15,
    "start_time": "2022-11-08T15:55:02.825Z"
   },
   {
    "duration": 173,
    "start_time": "2022-11-08T15:55:02.841Z"
   },
   {
    "duration": 336,
    "start_time": "2022-11-08T15:55:03.016Z"
   },
   {
    "duration": 345,
    "start_time": "2022-11-08T15:55:03.354Z"
   },
   {
    "duration": 324,
    "start_time": "2022-11-08T15:55:03.701Z"
   },
   {
    "duration": 134,
    "start_time": "2022-11-08T15:55:04.032Z"
   },
   {
    "duration": 18,
    "start_time": "2022-11-08T15:55:04.167Z"
   },
   {
    "duration": 24,
    "start_time": "2022-11-08T15:55:04.186Z"
   },
   {
    "duration": 20,
    "start_time": "2022-11-08T15:55:04.213Z"
   },
   {
    "duration": 401,
    "start_time": "2022-11-08T15:55:04.234Z"
   },
   {
    "duration": 94,
    "start_time": "2022-11-08T15:55:04.640Z"
   },
   {
    "duration": 20,
    "start_time": "2022-11-08T15:55:04.736Z"
   },
   {
    "duration": 20,
    "start_time": "2022-11-08T15:55:04.758Z"
   },
   {
    "duration": 5,
    "start_time": "2022-11-08T15:55:04.834Z"
   },
   {
    "duration": 23,
    "start_time": "2022-11-08T15:55:04.841Z"
   },
   {
    "duration": 16,
    "start_time": "2022-11-08T15:55:04.866Z"
   },
   {
    "duration": 19,
    "start_time": "2022-11-08T15:55:04.884Z"
   },
   {
    "duration": 28,
    "start_time": "2022-11-08T15:55:04.905Z"
   },
   {
    "duration": 59,
    "start_time": "2022-11-08T15:55:04.935Z"
   },
   {
    "duration": 8,
    "start_time": "2022-11-08T15:55:04.995Z"
   },
   {
    "duration": 9,
    "start_time": "2022-11-08T15:55:05.004Z"
   },
   {
    "duration": 4112,
    "start_time": "2022-11-08T15:55:05.015Z"
   },
   {
    "duration": 6,
    "start_time": "2022-11-08T15:55:09.129Z"
   },
   {
    "duration": 9,
    "start_time": "2022-11-08T15:55:09.136Z"
   },
   {
    "duration": 7,
    "start_time": "2022-11-08T15:55:09.146Z"
   },
   {
    "duration": 16,
    "start_time": "2022-11-09T09:26:06.854Z"
   },
   {
    "duration": 1579,
    "start_time": "2022-11-09T09:26:13.094Z"
   },
   {
    "duration": 1587,
    "start_time": "2022-11-09T09:26:14.675Z"
   },
   {
    "duration": 16,
    "start_time": "2022-11-09T09:26:16.264Z"
   },
   {
    "duration": 20,
    "start_time": "2022-11-09T09:26:16.282Z"
   },
   {
    "duration": 24,
    "start_time": "2022-11-09T09:26:16.304Z"
   },
   {
    "duration": 6,
    "start_time": "2022-11-09T09:26:16.329Z"
   },
   {
    "duration": 175,
    "start_time": "2022-11-09T09:26:16.337Z"
   },
   {
    "duration": 438,
    "start_time": "2022-11-09T09:26:16.514Z"
   },
   {
    "duration": 374,
    "start_time": "2022-11-09T09:26:16.953Z"
   },
   {
    "duration": 469,
    "start_time": "2022-11-09T09:26:17.330Z"
   },
   {
    "duration": 67,
    "start_time": "2022-11-09T09:26:17.801Z"
   },
   {
    "duration": 24,
    "start_time": "2022-11-09T09:26:17.871Z"
   },
   {
    "duration": 43,
    "start_time": "2022-11-09T09:26:17.897Z"
   },
   {
    "duration": 6,
    "start_time": "2022-11-09T09:26:17.942Z"
   },
   {
    "duration": 472,
    "start_time": "2022-11-09T09:26:17.950Z"
   },
   {
    "duration": 5,
    "start_time": "2022-11-09T09:26:18.424Z"
   },
   {
    "duration": 190,
    "start_time": "2022-11-09T09:26:18.431Z"
   },
   {
    "duration": 24,
    "start_time": "2022-11-09T09:26:18.622Z"
   },
   {
    "duration": 10,
    "start_time": "2022-11-09T09:26:18.648Z"
   },
   {
    "duration": 11,
    "start_time": "2022-11-09T09:26:18.660Z"
   },
   {
    "duration": 6,
    "start_time": "2022-11-09T09:26:18.673Z"
   },
   {
    "duration": 6,
    "start_time": "2022-11-09T09:26:18.681Z"
   },
   {
    "duration": 12,
    "start_time": "2022-11-09T09:26:18.689Z"
   },
   {
    "duration": 16,
    "start_time": "2022-11-09T09:26:18.702Z"
   },
   {
    "duration": 13,
    "start_time": "2022-11-09T09:26:18.719Z"
   },
   {
    "duration": 11,
    "start_time": "2022-11-09T09:26:18.734Z"
   },
   {
    "duration": 4299,
    "start_time": "2022-11-09T09:26:18.746Z"
   },
   {
    "duration": 5,
    "start_time": "2022-11-09T09:26:23.050Z"
   },
   {
    "duration": 16,
    "start_time": "2022-11-09T09:26:23.057Z"
   },
   {
    "duration": 24,
    "start_time": "2022-11-09T09:26:23.075Z"
   },
   {
    "duration": 1371,
    "start_time": "2022-11-09T09:30:12.516Z"
   },
   {
    "duration": 385,
    "start_time": "2022-11-09T09:30:13.889Z"
   },
   {
    "duration": 15,
    "start_time": "2022-11-09T09:30:14.276Z"
   },
   {
    "duration": 26,
    "start_time": "2022-11-09T09:30:14.293Z"
   },
   {
    "duration": 14,
    "start_time": "2022-11-09T09:30:14.322Z"
   },
   {
    "duration": 6,
    "start_time": "2022-11-09T09:30:14.338Z"
   },
   {
    "duration": 160,
    "start_time": "2022-11-09T09:30:14.345Z"
   },
   {
    "duration": 368,
    "start_time": "2022-11-09T09:30:14.507Z"
   },
   {
    "duration": 377,
    "start_time": "2022-11-09T09:30:14.877Z"
   },
   {
    "duration": 356,
    "start_time": "2022-11-09T09:30:15.255Z"
   },
   {
    "duration": 152,
    "start_time": "2022-11-09T09:30:15.613Z"
   },
   {
    "duration": 20,
    "start_time": "2022-11-09T09:30:15.767Z"
   },
   {
    "duration": 34,
    "start_time": "2022-11-09T09:30:15.789Z"
   },
   {
    "duration": 5,
    "start_time": "2022-11-09T09:30:15.826Z"
   },
   {
    "duration": 394,
    "start_time": "2022-11-09T09:30:15.833Z"
   },
   {
    "duration": 6,
    "start_time": "2022-11-09T09:30:16.229Z"
   },
   {
    "duration": 184,
    "start_time": "2022-11-09T09:30:16.236Z"
   },
   {
    "duration": 13,
    "start_time": "2022-11-09T09:30:16.422Z"
   },
   {
    "duration": 8,
    "start_time": "2022-11-09T09:30:16.437Z"
   },
   {
    "duration": 8,
    "start_time": "2022-11-09T09:30:16.447Z"
   },
   {
    "duration": 6,
    "start_time": "2022-11-09T09:30:16.457Z"
   },
   {
    "duration": 7,
    "start_time": "2022-11-09T09:30:16.465Z"
   },
   {
    "duration": 19,
    "start_time": "2022-11-09T09:30:16.473Z"
   },
   {
    "duration": 15,
    "start_time": "2022-11-09T09:30:16.493Z"
   },
   {
    "duration": 12,
    "start_time": "2022-11-09T09:30:16.510Z"
   },
   {
    "duration": 10,
    "start_time": "2022-11-09T09:30:16.524Z"
   },
   {
    "duration": 1499,
    "start_time": "2022-11-09T10:34:27.416Z"
   },
   {
    "duration": 354,
    "start_time": "2022-11-09T10:34:28.917Z"
   },
   {
    "duration": 15,
    "start_time": "2022-11-09T10:34:29.272Z"
   },
   {
    "duration": 16,
    "start_time": "2022-11-09T10:34:29.289Z"
   },
   {
    "duration": 20,
    "start_time": "2022-11-09T10:34:29.307Z"
   },
   {
    "duration": 6,
    "start_time": "2022-11-09T10:34:29.349Z"
   },
   {
    "duration": 132,
    "start_time": "2022-11-09T10:34:29.357Z"
   },
   {
    "duration": 326,
    "start_time": "2022-11-09T10:34:29.491Z"
   },
   {
    "duration": 325,
    "start_time": "2022-11-09T10:34:29.820Z"
   },
   {
    "duration": 339,
    "start_time": "2022-11-09T10:34:30.149Z"
   },
   {
    "duration": 142,
    "start_time": "2022-11-09T10:34:30.490Z"
   },
   {
    "duration": 28,
    "start_time": "2022-11-09T10:34:30.634Z"
   },
   {
    "duration": 18,
    "start_time": "2022-11-09T10:34:30.663Z"
   },
   {
    "duration": 18,
    "start_time": "2022-11-09T10:34:30.682Z"
   },
   {
    "duration": 351,
    "start_time": "2022-11-09T10:34:30.702Z"
   },
   {
    "duration": 6,
    "start_time": "2022-11-09T10:34:31.056Z"
   },
   {
    "duration": 107,
    "start_time": "2022-11-09T10:34:31.149Z"
   },
   {
    "duration": 12,
    "start_time": "2022-11-09T10:34:31.258Z"
   },
   {
    "duration": 11,
    "start_time": "2022-11-09T10:34:31.272Z"
   },
   {
    "duration": 8,
    "start_time": "2022-11-09T10:34:31.285Z"
   },
   {
    "duration": 18,
    "start_time": "2022-11-09T10:34:31.295Z"
   },
   {
    "duration": 26,
    "start_time": "2022-11-09T10:34:31.314Z"
   },
   {
    "duration": 37,
    "start_time": "2022-11-09T10:34:31.342Z"
   },
   {
    "duration": 20,
    "start_time": "2022-11-09T10:34:31.381Z"
   },
   {
    "duration": 12,
    "start_time": "2022-11-09T10:34:31.402Z"
   },
   {
    "duration": 12,
    "start_time": "2022-11-09T10:34:31.415Z"
   },
   {
    "duration": 3804,
    "start_time": "2022-11-09T10:34:31.429Z"
   },
   {
    "duration": 4,
    "start_time": "2022-11-09T10:34:35.236Z"
   },
   {
    "duration": 13,
    "start_time": "2022-11-09T10:34:35.241Z"
   },
   {
    "duration": 21,
    "start_time": "2022-11-09T10:34:35.255Z"
   }
  ],
  "language_info": {
   "codemirror_mode": {
    "name": "ipython",
    "version": 3
   },
   "file_extension": ".py",
   "mimetype": "text/x-python",
   "name": "python",
   "nbconvert_exporter": "python",
   "pygments_lexer": "ipython3",
   "version": "3.7.7"
  },
  "notebookId": "53499b2b-c39d-41b1-a44a-68fb754e2368",
  "notebookPath": "YANDEX/скважина.ipynb",
  "toc": {
   "base_numbering": 1,
   "nav_menu": {},
   "number_sections": true,
   "sideBar": true,
   "skip_h1_title": true,
   "title_cell": "Table of Contents",
   "title_sidebar": "Contents",
   "toc_cell": false,
   "toc_position": {},
   "toc_section_display": true,
   "toc_window_display": false
  }
 },
 "nbformat": 4,
 "nbformat_minor": 4
}
