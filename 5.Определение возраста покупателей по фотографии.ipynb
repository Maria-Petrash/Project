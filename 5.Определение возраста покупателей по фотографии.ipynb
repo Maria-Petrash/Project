{
 "cells": [
  {
   "cell_type": "markdown",
   "metadata": {
    "cellId": "yoda1wli5dsnwce70xah8",
    "execution_id": "f2719d26-592f-4d06-8897-8407759a763e"
   },
   "source": [
    "# Определение возраста покупателей по фотографии"
   ]
  },
  {
   "cell_type": "markdown",
   "metadata": {
    "cellId": "em6k07zeygtw3zvjorl0d"
   },
   "source": [
    "Описание проекта:\n",
    "Сетевой супермаркет «Хлеб-Соль» внедряет систему компьютерного зрения для обработки фотографий покупателей. Фотофиксация в прикассовой зоне поможет определять возраст клиентов, чтобы:\n",
    "- Анализировать покупки и предлагать товары, которые могут заинтересовать покупателей этой возрастной группы;\n",
    "- Контролировать добросовестность кассиров при продаже алкоголя.\n",
    "Необходимо построить модель, которая по фотографии определит приблизительный возраст человека. В нашем распоряжении набор фотографий людей с указанием возраста.\n",
    "\n",
    "План работ: \n",
    "- Исследовательский анализ набора фотографий.\n",
    "- Подготовка данных к обучению.\n",
    "- Обучение нейронной сети и проверка качества."
   ]
  },
  {
   "cell_type": "markdown",
   "metadata": {
    "cellId": "1cdcy1igsuxvx3yybslbdb"
   },
   "source": [
    "## Исследовательский анализ данных"
   ]
  },
  {
   "cell_type": "code",
   "execution_count": 1,
   "metadata": {
    "cellId": "zygnywehkttnvipfdffr"
   },
   "outputs": [],
   "source": [
    "from tensorflow.keras.applications.resnet import ResNet50\n",
    "from tensorflow.keras.optimizers import Adam\n",
    "from tensorflow.keras.preprocessing.image import ImageDataGenerator\n",
    "from tensorflow.keras.layers import Conv2D, Flatten, Dense, AvgPool2D,GlobalAveragePooling2D\n",
    "from tensorflow.keras.models import Sequential\n",
    "import numpy as np\n",
    "import pandas as pd\n",
    "import matplotlib.pyplot as plt\n",
    "import seaborn as sns\n",
    "import tensorflow as tf\n",
    "\n"
   ]
  },
  {
   "cell_type": "code",
   "execution_count": 2,
   "metadata": {
    "cellId": "8f50xbdukurlw71f0vve"
   },
   "outputs": [],
   "source": [
    "labels = pd.read_csv('/datasets/faces/labels.csv')\n",
    "train_datagen = ImageDataGenerator(rescale=1./255)\n",
    "train_gen_flow = train_datagen.flow_from_dataframe(\n",
    "        dataframe=labels,\n",
    "        directory='/datasets/faces/final_files/',\n",
    "        x_col='file_name',\n",
    "        y_col='real_age',\n",
    "        target_size=(224, 224),\n",
    "        batch_size=32,\n",
    "        class_mode='raw',\n",
    "        seed=12345) "
   ]
  },
  {
   "cell_type": "code",
   "execution_count": 3,
   "metadata": {
    "cellId": "8to7vi6tsfnd68q7hnoz0f"
   },
   "outputs": [],
   "source": [
    "labels.info()"
   ]
  },
  {
   "cell_type": "code",
   "execution_count": 4,
   "metadata": {
    "cellId": "0zy591and6axj72ql9ky3"
   },
   "outputs": [],
   "source": [
    "labels.describe()"
   ]
  },
  {
   "cell_type": "code",
   "execution_count": 5,
   "metadata": {
    "cellId": "4u4dodnfvrorvb1yxp4wyd"
   },
   "outputs": [],
   "source": [
    "display(labels.head())"
   ]
  },
  {
   "cell_type": "code",
   "execution_count": 6,
   "metadata": {
    "cellId": "077biasq3n44b7xhjjmiwfd"
   },
   "outputs": [],
   "source": [
    "labels.hist(bins=100,color = 'red')\n",
    "plt.title(\"Возраст покупателей\")\n",
    "plt.xlabel('Возраст')\n",
    "plt.ylabel('Частота наблюдений')\n",
    "plt.show()"
   ]
  },
  {
   "cell_type": "code",
   "execution_count": 7,
   "metadata": {
    "cellId": "vjd0dzdwrsg9i2f47n9ygm"
   },
   "outputs": [],
   "source": [
    "labels.shape"
   ]
  },
  {
   "cell_type": "code",
   "execution_count": 8,
   "metadata": {
    "cellId": "bs5vlket7cibdojreprjs"
   },
   "outputs": [],
   "source": [
    "# выгрузим 16 фото\n",
    "features, target = next(train_gen_flow)\n",
    "fig = plt.figure(figsize=(10,10))\n",
    "plt.subplots_adjust(top=0.95, wspace=0.5, hspace=0.98)\n",
    "for i in range(16):\n",
    "    fig.add_subplot(4, 4, i+1)\n",
    "    plt.suptitle('Фотографии', fontsize=10)\n",
    "    plt.title(f'Возраст-{target[i]}', fontsize=10)\n",
    "    plt.imshow(features[i])\n",
    "    plt.grid(False)\n",
    "    plt.xticks([])\n",
    "    plt.yticks([])\n",
    "    plt.tight_layout()\n",
    "    "
   ]
  },
  {
   "cell_type": "markdown",
   "metadata": {
    "cellId": "ende4uk5encvfpy87i8xa"
   },
   "source": [
    "В наборе данных 7591  цветных и черно-белых изображений: на фото люди в основном в возрасте от 20 до 40 лет( примерно)."
   ]
  },
  {
   "cell_type": "markdown",
   "metadata": {
    "cellId": "0elz3wt1rehmjbs8779vi"
   },
   "source": [
    "## Обучение модели"
   ]
  },
  {
   "cell_type": "markdown",
   "metadata": {
    "cellId": "8ti0f5ut60ue67t6zle0pg"
   },
   "source": [
    "\n",
    "\n",
    "def load_train(path):\n",
    "    labels = pd.read_csv(path + 'labels.csv')\n",
    "    datagen = ImageDataGenerator(validation_split=0.25, horizontal_flip=True, rescale=1./255)\n",
    "    train_gen_flow = datagen.flow_from_dataframe(\n",
    "        dataframe=labels,\n",
    "        directory=path + 'final_files/',\n",
    "        x_col='file_name',\n",
    "        y_col='real_age',\n",
    "        target_size=(224, 224),\n",
    "        batch_size=16,\n",
    "        class_mode='raw',\n",
    "        subset='training',\n",
    "        seed=12345)\n",
    "\n",
    "    return train_gen_flow\n",
    "\n",
    "def load_test(path):\n",
    "    labels = pd.read_csv(path + 'labels.csv')\n",
    "    datagen = ImageDataGenerator(validation_split=0.25, rescale=1./255)\n",
    "    test_gen_flow = datagen.flow_from_dataframe(\n",
    "        dataframe=labels,\n",
    "        directory=path + 'final_files/',\n",
    "        x_col='file_name',\n",
    "        y_col='real_age',\n",
    "        target_size=(224, 224),\n",
    "        batch_size=16,\n",
    "        class_mode='raw',\n",
    "        subset='validation',\n",
    "        seed=12345)\n",
    "\n",
    "    return test_gen_flow\n",
    "\n",
    "\n",
    "def create_model(input_shape):\n",
    "\n",
    "    backbone = ResNet50(input_shape=input_shape,\n",
    "                    weights='imagenet', \n",
    "                    include_top=False)\n",
    "    model = Sequential()\n",
    "    model.add(backbone)\n",
    "    model.add(GlobalAveragePooling2D())\n",
    "    model.add(Dense(1, activation='relu'))\n",
    "\n",
    "    optimizer = Adam(lr=0.0001)\n",
    "    model.compile(optimizer=optimizer, loss='mean_squared_error',\n",
    "                  metrics=['mae'])\n",
    "\n",
    "\n",
    "    return model\n",
    "\n",
    "\n",
    "def train_model(model, train_data, test_data, batch_size=None, epochs=10,\n",
    "                steps_per_epoch=None, validation_steps=None):\n",
    "\n",
    "    if steps_per_epoch is None:\n",
    "        steps_per_epoch = len(train_data)\n",
    "    if validation_steps is None:\n",
    "        validation_steps = len(test_data)\n",
    "\n",
    "    model.fit(train_data,\n",
    "              validation_data=test_data,\n",
    "              batch_size=batch_size, \n",
    "              epochs=epochs,\n",
    "              steps_per_epoch=steps_per_epoch,\n",
    "              validation_steps=validation_steps,\n",
    "              verbose=2)\n",
    "\n",
    "    return model"
   ]
  },
  {
   "cell_type": "markdown",
   "metadata": {
    "cellId": "o49lpphg66j8thp21msl8v"
   },
   "source": [
    "356/356 - 63s - loss: 195.8551 - mae: 10.2801 - val_loss: 505.0129 - val_mae: 17.3196\n",
    "Epoch 2/10\n",
    "356/356 - 38s - loss: 83.1188 - mae: 6.8878 - val_loss: 130.5519 - val_mae: 8.5350\n",
    "Epoch 3/10\n",
    "Epoch 4/10\n",
    "356/356 - 38s - loss: 58.5470 - mae: 5.8733 - val_loss: 83.4839 - val_mae: 6.8935\n",
    "356/356 - 38s - loss: 43.7499 - mae: 5.0593 - val_loss: 82.9732 - val_mae: 6.5932\n",
    "Epoch 5/10\n",
    "356/356 - 38s - loss: 31.9636 - mae: 4.3218 - val_loss: 129.8647 - val_mae: 8.6651\n",
    "Epoch 6/10\n",
    "356/356 - 38s - loss: 25.3340 - mae: 3.8557 - val_loss: 64.8973 - val_mae: 5.9833\n",
    "Epoch 7/10\n",
    "356/356 - 38s - loss: 20.5816 - mae: 3.4576 - val_loss: 69.2085 - val_mae: 6.0955\n",
    "Epoch 8/10\n",
    "356/356 - 38s - loss: 16.9891 - mae: 3.1337 - val_loss: 74.4964 - val_mae: 6.4068\n",
    "Epoch 9/10\n",
    "356/356 - 40s - loss: 14.3631 - mae: 2.9120 - val_loss: 64.8083 - val_mae: 6.0036\n",
    "Epoch 10/10\n",
    "356/356 - 41s - loss: 12.9143 - mae: 2.7618 - val_loss: 66.7903 - val_mae: 6.0363\n",
    "119/119 - 10s - loss: 66.7903 - mae: 6.0363\n",
    "Test MAE: 6.0363"
   ]
  },
  {
   "cell_type": "markdown",
   "metadata": {
    "cellId": "186zd798n4u89v2odht7"
   },
   "source": [
    "## Анализ обученной модели"
   ]
  },
  {
   "cell_type": "markdown",
   "metadata": {
    "cellId": "sjfgn09ifv96doe5xm0195"
   },
   "source": [
    "Цели и задачи: Нам требовалось построить и обучить свёрточную нейронную сеть на наборе данных с фотографиями, получить значения MAE на тестовой выборке не больше 8.\n",
    "\n",
    "Итоги: использование нейронных сетей позволяет эффективно обработать большое количество информации с достаточной точностью.\n",
    "Была использована модель сверточной нейронной сети,полученная модель вполне может решить поставленную задачу."
   ]
  }
 ],
 "metadata": {
  "ExecuteTimeLog": [
   {
    "duration": 2098,
    "start_time": "2023-02-19T14:15:57.586Z"
   },
   {
    "duration": 8,
    "start_time": "2023-02-19T14:28:10.061Z"
   },
   {
    "duration": 717,
    "start_time": "2023-02-19T14:28:30.861Z"
   },
   {
    "duration": 234,
    "start_time": "2023-02-19T14:28:42.357Z"
   },
   {
    "duration": 16,
    "start_time": "2023-02-19T14:29:16.409Z"
   },
   {
    "duration": 2120,
    "start_time": "2023-02-19T14:30:14.590Z"
   },
   {
    "duration": 3,
    "start_time": "2023-02-19T14:30:39.780Z"
   },
   {
    "duration": 2791,
    "start_time": "2023-02-19T14:30:44.349Z"
   },
   {
    "duration": 2700,
    "start_time": "2023-02-19T14:30:57.122Z"
   },
   {
    "duration": 7,
    "start_time": "2023-02-19T14:41:48.694Z"
   },
   {
    "duration": 21,
    "start_time": "2023-02-19T14:49:55.511Z"
   },
   {
    "duration": 247,
    "start_time": "2023-02-19T14:50:26.003Z"
   },
   {
    "duration": 51,
    "start_time": "2023-02-19T14:50:32.242Z"
   },
   {
    "duration": 194,
    "start_time": "2023-02-19T14:51:24.655Z"
   },
   {
    "duration": 159,
    "start_time": "2023-02-19T14:52:16.459Z"
   },
   {
    "duration": 14,
    "start_time": "2023-02-19T14:58:14.792Z"
   },
   {
    "duration": 15,
    "start_time": "2023-02-19T15:02:06.026Z"
   },
   {
    "duration": 20,
    "start_time": "2023-02-19T15:02:32.133Z"
   },
   {
    "duration": 4,
    "start_time": "2023-02-19T15:03:06.830Z"
   },
   {
    "duration": 16,
    "start_time": "2023-02-19T15:03:12.058Z"
   },
   {
    "duration": 15,
    "start_time": "2023-02-19T15:03:45.497Z"
   },
   {
    "duration": 14,
    "start_time": "2023-02-19T15:04:40.581Z"
   },
   {
    "duration": 14,
    "start_time": "2023-02-19T15:04:52.108Z"
   },
   {
    "duration": 13,
    "start_time": "2023-02-19T15:05:19.240Z"
   },
   {
    "duration": 2643,
    "start_time": "2023-02-19T15:05:30.459Z"
   },
   {
    "duration": 84277,
    "start_time": "2023-02-19T15:05:33.104Z"
   },
   {
    "duration": 16,
    "start_time": "2023-02-19T15:06:57.383Z"
   },
   {
    "duration": 8,
    "start_time": "2023-02-19T15:06:57.401Z"
   },
   {
    "duration": 221,
    "start_time": "2023-02-19T15:06:57.411Z"
   },
   {
    "duration": 405,
    "start_time": "2023-02-19T15:06:57.635Z"
   },
   {
    "duration": 3,
    "start_time": "2023-02-19T15:06:58.042Z"
   },
   {
    "duration": 1353,
    "start_time": "2023-02-19T15:06:58.047Z"
   },
   {
    "duration": 74,
    "start_time": "2023-02-19T15:06:59.402Z"
   },
   {
    "duration": 1690,
    "start_time": "2023-02-19T15:08:12.283Z"
   },
   {
    "duration": 1807,
    "start_time": "2023-02-19T15:08:34.575Z"
   },
   {
    "duration": 374,
    "start_time": "2023-02-19T15:09:38.820Z"
   },
   {
    "duration": 198,
    "start_time": "2023-02-19T15:09:59.658Z"
   },
   {
    "duration": 315,
    "start_time": "2023-02-19T15:10:42.483Z"
   },
   {
    "duration": 270,
    "start_time": "2023-02-19T15:10:52.166Z"
   },
   {
    "duration": 93243,
    "start_time": "2023-02-19T15:35:54.205Z"
   },
   {
    "duration": 4,
    "start_time": "2023-02-19T15:37:58.854Z"
   },
   {
    "duration": 436,
    "start_time": "2023-02-19T15:38:10.997Z"
   },
   {
    "duration": 154,
    "start_time": "2023-02-19T15:42:54.886Z"
   },
   {
    "duration": 18,
    "start_time": "2023-02-19T15:43:05.879Z"
   },
   {
    "duration": 266,
    "start_time": "2023-02-19T15:45:42.530Z"
   },
   {
    "duration": 267,
    "start_time": "2023-02-19T15:45:55.726Z"
   },
   {
    "duration": 393,
    "start_time": "2023-02-19T15:47:53.711Z"
   },
   {
    "duration": 446,
    "start_time": "2023-02-19T15:47:59.930Z"
   },
   {
    "duration": 300,
    "start_time": "2023-02-19T15:48:14.166Z"
   },
   {
    "duration": 8,
    "start_time": "2023-02-19T15:52:58.838Z"
   },
   {
    "duration": 9,
    "start_time": "2023-02-19T15:53:29.923Z"
   },
   {
    "duration": 11,
    "start_time": "2023-02-19T15:54:57.280Z"
   },
   {
    "duration": 51,
    "start_time": "2023-02-22T05:36:13.961Z"
   },
   {
    "duration": 7,
    "start_time": "2023-02-22T05:36:17.110Z"
   },
   {
    "duration": 2777,
    "start_time": "2023-02-22T05:36:21.406Z"
   },
   {
    "duration": 75073,
    "start_time": "2023-02-22T05:36:24.185Z"
   },
   {
    "duration": 19,
    "start_time": "2023-02-22T05:37:39.261Z"
   },
   {
    "duration": 20,
    "start_time": "2023-02-22T05:37:39.282Z"
   },
   {
    "duration": 7,
    "start_time": "2023-02-22T05:37:39.303Z"
   },
   {
    "duration": 328,
    "start_time": "2023-02-22T05:37:39.312Z"
   },
   {
    "duration": 4,
    "start_time": "2023-02-22T05:37:39.642Z"
   },
   {
    "duration": 2888,
    "start_time": "2023-02-22T05:37:39.648Z"
   },
   {
    "duration": 65,
    "start_time": "2023-02-23T13:25:59.878Z"
   },
   {
    "duration": 7,
    "start_time": "2023-02-23T13:26:20.679Z"
   },
   {
    "duration": 45,
    "start_time": "2023-02-24T15:58:09.397Z"
   },
   {
    "duration": 6,
    "start_time": "2023-02-24T15:58:11.774Z"
   },
   {
    "duration": 3361,
    "start_time": "2023-02-24T15:58:19.377Z"
   },
   {
    "duration": 74499,
    "start_time": "2023-02-24T15:58:22.741Z"
   },
   {
    "duration": 13,
    "start_time": "2023-02-24T15:59:37.241Z"
   },
   {
    "duration": 16,
    "start_time": "2023-02-24T15:59:37.257Z"
   },
   {
    "duration": 6,
    "start_time": "2023-02-24T15:59:37.275Z"
   },
   {
    "duration": 244,
    "start_time": "2023-02-24T15:59:37.283Z"
   },
   {
    "duration": 4,
    "start_time": "2023-02-24T15:59:37.529Z"
   },
   {
    "duration": 2883,
    "start_time": "2023-02-24T15:59:37.534Z"
   },
   {
    "duration": 2958,
    "start_time": "2023-02-24T16:03:03.741Z"
   },
   {
    "duration": 2915,
    "start_time": "2023-02-24T16:04:06.532Z"
   },
   {
    "duration": 3322,
    "start_time": "2023-02-24T16:07:22.003Z"
   },
   {
    "duration": 1606,
    "start_time": "2023-02-24T16:08:12.163Z"
   },
   {
    "duration": 3232,
    "start_time": "2023-02-24T16:09:56.854Z"
   },
   {
    "duration": 2834,
    "start_time": "2023-02-24T16:17:41.803Z"
   },
   {
    "duration": 2797,
    "start_time": "2023-02-24T16:17:57.932Z"
   },
   {
    "duration": 2705,
    "start_time": "2023-02-24T16:18:09.271Z"
   },
   {
    "duration": 2952,
    "start_time": "2023-02-24T16:18:26.305Z"
   },
   {
    "duration": 3281,
    "start_time": "2023-02-25T07:43:55.576Z"
   },
   {
    "duration": 102539,
    "start_time": "2023-02-25T07:43:58.860Z"
   },
   {
    "duration": 15,
    "start_time": "2023-02-25T07:45:41.401Z"
   },
   {
    "duration": 58,
    "start_time": "2023-02-25T07:45:41.419Z"
   },
   {
    "duration": 7,
    "start_time": "2023-02-25T07:45:41.479Z"
   },
   {
    "duration": 982,
    "start_time": "2023-02-25T07:45:41.488Z"
   },
   {
    "duration": 5,
    "start_time": "2023-02-25T07:45:42.472Z"
   },
   {
    "duration": 4893,
    "start_time": "2023-02-25T07:45:42.479Z"
   }
  ],
  "language_info": {
   "codemirror_mode": {
    "name": "ipython",
    "version": 3
   },
   "file_extension": ".py",
   "mimetype": "text/x-python",
   "name": "python",
   "nbconvert_exporter": "python",
   "pygments_lexer": "ipython3",
   "version": "3.7.7"
  },
  "notebookId": "1f2a484a-eaf6-4a92-877f-6a5c14ea4508",
  "notebookPath": "YANDEX/9fe8c02b-b5fe-4cf0-9022-15eee9f5a5e6.ipynb",
  "toc": {
   "base_numbering": 1,
   "nav_menu": {},
   "number_sections": true,
   "sideBar": true,
   "skip_h1_title": true,
   "title_cell": "Table of Contents",
   "title_sidebar": "Contents",
   "toc_cell": false,
   "toc_position": {
    "height": "calc(100% - 180px)",
    "left": "10px",
    "top": "150px",
    "width": "165px"
   },
   "toc_section_display": true,
   "toc_window_display": true
  }
 },
 "nbformat": 4,
 "nbformat_minor": 4
}
