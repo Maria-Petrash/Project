{
 "cells": [
  {
   "cell_type": "markdown",
   "metadata": {
    "cellId": "tvb3tqyy9mefy3xxdcvu0h"
   },
   "source": [
    "#  Прогнозирование заказов такси"
   ]
  },
  {
   "cell_type": "markdown",
   "metadata": {
    "cellId": "eapdwqxqx9n4nwp2tjl254"
   },
   "source": [
    "Компания «Чётенькое такси» собрала исторические данные о заказах такси в аэропортах. Чтобы привлекать больше водителей в период пиковой нагрузки, нужно спрогнозировать количество заказов такси на следующий час. Постройте модель для такого предсказания.\n",
    "\n",
    "Значение метрики *RMSE* на тестовой выборке должно быть не больше 48.\n",
    "\n",
    "Вам нужно:\n",
    "\n",
    "1. Загрузить данные и выполнить их ресемплирование по одному часу.\n",
    "2. Проанализировать данные.\n",
    "3. Обучить разные модели с различными гиперпараметрами. Сделать тестовую выборку размером 10% от исходных данных.\n",
    "4. Проверить данные на тестовой выборке и сделать выводы.\n",
    "\n",
    "\n",
    "Данные лежат в файле `taxi.csv`. Количество заказов находится в столбце `num_orders` (от англ. *number of orders*, «число заказов»)."
   ]
  },
  {
   "cell_type": "markdown",
   "metadata": {
    "cellId": "swzrr9737nhq5aifmziyn"
   },
   "source": [
    "## Подготовка"
   ]
  },
  {
   "cell_type": "code",
   "execution_count": null,
   "metadata": {
    "cellId": "v868x6z9krjdfuvo249r3w"
   },
   "outputs": [],
   "source": [
    "#импортируем потенциально необходимые библиотеки\n",
    "\n",
    "import pandas as pd\n",
    "import numpy as np \n",
    "import statsmodels.api as sm\n",
    "import matplotlib.pyplot as plt\n",
    "\n",
    "\n",
    "import warnings\n",
    "warnings.filterwarnings(\"ignore\")\n",
    "\n",
    "from statsmodels.tsa.seasonal import seasonal_decompose\n",
    "from statsmodels.tsa.stattools import adfuller\n",
    "from statsmodels.iolib.table import SimpleTable\n",
    "from statsmodels.tsa.statespace.sarimax import SARIMAX\n",
    "\n",
    "from sklearn.model_selection import train_test_split, GridSearchCV\n",
    "\n",
    "from sklearn.linear_model import LinearRegression\n",
    "from sklearn.ensemble import RandomForestRegressor\n",
    "from lightgbm import LGBMRegressor\n",
    "\n",
    "from sklearn.model_selection import TimeSeriesSplit, GridSearchCV, RandomizedSearchCV\n",
    "from sklearn.metrics import mean_squared_error\n",
    "from sklearn.preprocessing import PowerTransformer\n",
    "from sklearn.preprocessing import StandardScaler\n",
    "from sklearn.metrics import mean_absolute_error \n",
    "from sklearn.pipeline import make_pipeline\n",
    "\n",
    "from itertools import product\n",
    "from sklearn.model_selection import cross_val_score, KFold\n",
    "from scipy import stats\n",
    "from scipy.stats import norm\n",
    "from sklearn.pipeline import Pipeline\n",
    "import time\n",
    "import timeit\n",
    "import datetime\n",
    "import plotly.express as px\n",
    "\n",
    "\n",
    "RANDOM_STATE = 12345"
   ]
  },
  {
   "cell_type": "code",
   "execution_count": null,
   "metadata": {
    "cellId": "zf8i1msyz8m2y7434b86a"
   },
   "outputs": [],
   "source": [
    "df = pd.read_csv('/datasets/taxi.csv',index_col=[0],parse_dates=[0])\n",
    "#номер столбца, который будет использоваться в виде индекса:index_col=[0]\n",
    "#parse_dates=[0] - столбец, который переводим в формат даты"
   ]
  },
  {
   "cell_type": "code",
   "execution_count": null,
   "metadata": {
    "cellId": "uxm0n3s7yymb2k34f3io3h"
   },
   "outputs": [],
   "source": [
    "display(df.head())"
   ]
  },
  {
   "cell_type": "code",
   "execution_count": null,
   "metadata": {
    "cellId": "zg2d569smpddphb7t0ac"
   },
   "outputs": [],
   "source": [
    "# столбец num_orders представлен в формате int64.\n",
    "# столбец datetime представлен в формате object.\n",
    "df.dtypes"
   ]
  },
  {
   "cell_type": "code",
   "execution_count": null,
   "metadata": {
    "cellId": "qscifqigpjngk9oarjvfmq"
   },
   "outputs": [],
   "source": [
    "# проверим пропуски\n",
    "df.isnull().sum()"
   ]
  },
  {
   "cell_type": "code",
   "execution_count": null,
   "metadata": {
    "cellId": "nlqt6i7mkzifnd81d5mg1r"
   },
   "outputs": [],
   "source": [
    "df.describe()"
   ]
  },
  {
   "cell_type": "code",
   "execution_count": null,
   "metadata": {
    "cellId": "45lvup03i8v9s6984g0kes"
   },
   "outputs": [],
   "source": [
    "display(df.info())"
   ]
  },
  {
   "cell_type": "code",
   "execution_count": null,
   "metadata": {
    "cellId": "2h7a1oo6tubyqs4tw1ks1c"
   },
   "outputs": [],
   "source": [
    "# проверка последних строчек с помощью метода tail()\n",
    "display(df.tail())"
   ]
  },
  {
   "cell_type": "code",
   "execution_count": null,
   "metadata": {
    "cellId": "hyd7qdn414uw8w4zujfhh"
   },
   "outputs": [],
   "source": [
    "# посмотрим на пропуски\n",
    "display(df.isna())\n",
    "display(df.isna().sum())"
   ]
  },
  {
   "cell_type": "code",
   "execution_count": null,
   "metadata": {
    "cellId": "ss0nuf0gl3ac4uu2rxp5"
   },
   "outputs": [],
   "source": [
    "df['num_orders'].plot(kind='box',fontsize = 10)\n",
    "plt.title('Количество заказов такси')\n",
    "plt.show()"
   ]
  },
  {
   "cell_type": "markdown",
   "metadata": {
    "cellId": "7ryeyivfk1ynhro95n88w"
   },
   "source": [
    "У нас есть данные с 10-ти минутным шагом наблюдений, наша задача – изучить изменения за час, мы можем ресемплировать данные(resampling, англ. менять местами):"
   ]
  },
  {
   "cell_type": "code",
   "execution_count": null,
   "metadata": {
    "cellId": "fm5apew232q6fpho9c04vc"
   },
   "outputs": [],
   "source": [
    "print(df[\"num_orders\"].median()) "
   ]
  },
  {
   "cell_type": "code",
   "execution_count": null,
   "metadata": {
    "cellId": "9s0u61v7tk8wbksjmccb9"
   },
   "outputs": [],
   "source": [
    "#Для информации:\n",
    "#DataFrame.resample(rule, axis=0, closed=None, label=None, convention='start', kind=None, loffset=None, base=None,\n",
    "#on=None, level=None, origin='start_day', offset=None, group_keys=_NoDefault.no_default)"
   ]
  },
  {
   "cell_type": "code",
   "execution_count": null,
   "metadata": {
    "cellId": "cfucthgqsct247ffe70wb"
   },
   "outputs": [],
   "source": [
    "df.sort_index(inplace=True)"
   ]
  },
  {
   "cell_type": "code",
   "execution_count": null,
   "metadata": {
    "cellId": "mo2qq43xllpoww0ze20g8h"
   },
   "outputs": [],
   "source": [
    "#ресемплирования данных за период- один час, мы задали новый шаг наблюдений и пересчитываем количество событий за новый период.\n",
    "df = df.resample('1h').sum()\n",
    "df.head()"
   ]
  },
  {
   "cell_type": "code",
   "execution_count": null,
   "metadata": {
    "cellId": "vd2rrkc1xy82z9noyhpxes"
   },
   "outputs": [],
   "source": [
    "#среднее по каждому часу\n",
    "df.resample('h').mean()"
   ]
  },
  {
   "cell_type": "code",
   "execution_count": null,
   "metadata": {
    "cellId": "npcvnk0wltjgbqdnvld5bs"
   },
   "outputs": [],
   "source": [
    "# максимум \n",
    "df.resample('1h').max() "
   ]
  },
  {
   "cell_type": "code",
   "execution_count": null,
   "metadata": {
    "cellId": "um92spckwlspxr7wxno28f"
   },
   "outputs": [],
   "source": [
    "# визуализируем выборку данных временных рядов на основе \"Месяца\"( август- востребованный месяц)\n",
    "df_month = df.resample(\"M\").mean()\n",
    "\n",
    "fig, ax = plt.subplots(figsize=(10, 7))\n",
    "ax.bar(df_month['2018':].index, \n",
    "       df_month.loc['2018':, \"num_orders\"], \n",
    "       width=20, align='center')"
   ]
  },
  {
   "cell_type": "markdown",
   "metadata": {
    "cellId": "6llr6aj6lutjfajzyy9oa"
   },
   "source": [
    "Выводы:\n",
    "\n",
    "- загружены данные,в датасете представлены данные  за шесть месяцев (26 496 записей) за период: 01.03.2018 - 31.08.2018;\n",
    "- тип данных в столбцах: num_orders (dtype: int64 - целые числа),столбец datetime - в формате object;\n",
    "- анализ не выявил пропущенных значений и аномалий."
   ]
  },
  {
   "cell_type": "markdown",
   "metadata": {
    "cellId": "7dl7hgyfhuriwm3wit768"
   },
   "source": [
    "## Анализ"
   ]
  },
  {
   "cell_type": "code",
   "execution_count": null,
   "metadata": {
    "cellId": "car7rno2rzm4jknadzytmv"
   },
   "outputs": [],
   "source": [
    "#посчитаем заказы\n",
    "df.sort_values(by='num_orders')"
   ]
  },
  {
   "cell_type": "markdown",
   "metadata": {
    "cellId": "fgl9t04mmyj7fbynu2gmpf"
   },
   "source": [
    "- 2018-08-20, в 02:00:00: 462 заказа. \n",
    "- 2018-04-06 в 06:00:00: 0 заказов."
   ]
  },
  {
   "cell_type": "code",
   "execution_count": null,
   "metadata": {
    "cellId": "4cuvjf153s4fbv84w35fh4"
   },
   "outputs": [],
   "source": [
    "#Добавим в столбец 'rolling_mean' скользящее среднее с размером окна = 5.Построим графики c марта по август 2018 года и искользящего среднего\n",
    "data = df['2018-03':'2018-08'].resample('1D').sum()\n",
    "data['rolling_mean'] = data.rolling(5).mean()\n",
    "data.plot()"
   ]
  },
  {
   "cell_type": "code",
   "execution_count": null,
   "metadata": {
    "cellId": "pnldsq1gq7l8wbslyx9btf"
   },
   "outputs": [],
   "source": [
    "# разложим временной ряд на тренд и сезонную компоненту\n",
    "\n",
    "df.sort_index(inplace=True)\n",
    "data = df['2018-03':'2018-08'].resample('1D').sum()\n",
    "\n",
    "decomposed = seasonal_decompose(data) \n",
    "\n",
    "plt.figure(figsize=(12, 10))\n",
    "plt.subplot(311)\n",
    "\n",
    "decomposed.trend.plot(ax=plt.gca())\n",
    "plt.title('Trend')\n",
    "plt.subplot(312)\n",
    "decomposed.seasonal.plot(ax=plt.gca())\n",
    "plt.title('Seasonality')\n",
    "plt.subplot(313)\n",
    "decomposed.resid.plot(ax=plt.gca())\n",
    "plt.title('Residuals')\n",
    "plt.tight_layout()\n"
   ]
  },
  {
   "cell_type": "code",
   "execution_count": null,
   "metadata": {
    "cellId": "75z1u0yu8p5xn6bsby6ccr"
   },
   "outputs": [],
   "source": [
    "#построим график сезонной составляющей за первые 15 дней марта 2018\n",
    "\n",
    "decomposed = seasonal_decompose(df)\n",
    "plt.title('Seasonality')\n",
    "decomposed.seasonal['2018-03-01':'2018-03-15'].plot(ax=plt.gca()) \n"
   ]
  },
  {
   "cell_type": "code",
   "execution_count": null,
   "metadata": {
    "cellId": "nkrpd6lifvzv957f13cl"
   },
   "outputs": [],
   "source": [
    "#найдём скользящее стандартное отклонение по скользящему окну:\n",
    "df.sort_index(inplace=True)\n",
    "data = df['2018-03':'2018-08'].resample('1D').sum()\n",
    "data['mean'] = df['num_orders'].rolling(5).mean()\n",
    "data['std'] = df['num_orders'].rolling(5).std()\n",
    "data.plot() \n"
   ]
  },
  {
   "cell_type": "code",
   "execution_count": null,
   "metadata": {
    "cellId": "w5nniz4plj6onl0h34obp"
   },
   "outputs": [],
   "source": [
    "#Возьмем двое суток у двух разных месяцев: март (начало периода) и август(конец периода).\n",
    "\n",
    "plt.figure(figsize=(18, 4))\n",
    "\n",
    "plt.subplot(211)\n",
    "decomposed.seasonal['2018-03-01':'2018-03-02'].plot(color='tab:blue', marker='o', ax=plt.gca())\n",
    "plt.title('март')\n",
    "\n",
    "plt.subplot(212)\n",
    "decomposed.seasonal['2018-08-01':'2018-08-02'].plot(color='tab:orange', linestyle='--',ax=plt.gca())\n",
    "plt.title('август')\n",
    "plt.show()\n"
   ]
  },
  {
   "cell_type": "code",
   "execution_count": null,
   "metadata": {
    "cellId": "w7hahbuozbpmkx269p4z"
   },
   "outputs": [],
   "source": [
    "#Возьмем сутки в марте\n",
    "plt.figure(figsize=(18, 4))\n",
    "decomposed.seasonal['2018-03-01':'2018-03-02'].plot(ax=plt.gca(),color='tab:green')\n",
    "plt.title('Seasonality \"day\"')\n",
    "plt.tight_layout()"
   ]
  },
  {
   "cell_type": "code",
   "execution_count": null,
   "metadata": {
    "cellId": "z7uyss4eapezsdnjvxvih"
   },
   "outputs": [],
   "source": [
    "#для проверки временной последовательности распределения данных можно применить функцию is_monotonic.\n",
    "#True = Последовательность монотонно увеличивается\n",
    "df.index.is_monotonic "
   ]
  },
  {
   "cell_type": "code",
   "execution_count": null,
   "metadata": {
    "cellId": "s9hudcxz9pf8q31p7krka"
   },
   "outputs": [],
   "source": [
    "if df.index.is_monotonic == True :\n",
    "    print('Даты расположены в хронологическом порядке')\n",
    "else:\n",
    "    print('Требуется предобработка')"
   ]
  },
  {
   "cell_type": "code",
   "execution_count": null,
   "metadata": {
    "cellId": "a2e5p4inztdyc8em1pmf7"
   },
   "outputs": [],
   "source": [
    "df.index.is_unique "
   ]
  },
  {
   "cell_type": "code",
   "execution_count": null,
   "metadata": {
    "cellId": "92ht1bxa0743ofzj7gdgfp"
   },
   "outputs": [],
   "source": [
    "#функция для создания признаков\n",
    "\n",
    "def make_features(data, max_lag, rolling_mean_size):\n",
    "    \n",
    "    result = df.copy()\n",
    "    \n",
    "    result['day'] = df.index.day\n",
    "    result['dayofweek'] = df.index.dayofweek\n",
    "    result['hour'] = df.index.hour\n",
    "    \n",
    "    for lag in range(1, max_lag + 1):\n",
    "        result['lag_{}'.format(lag)] = data['num_orders'].shift(lag)\n",
    "\n",
    "    result['rolling_mean'] = data['num_orders'].shift().rolling(rolling_mean_size).mean()\n",
    "    \n",
    "    return result"
   ]
  },
  {
   "cell_type": "code",
   "execution_count": null,
   "metadata": {
    "cellId": "ayur6ryswotg4zzoxw662s"
   },
   "outputs": [],
   "source": [
    "df_new = make_features(df, 24, 4)"
   ]
  },
  {
   "cell_type": "markdown",
   "metadata": {
    "cellId": "4e1fjyckmjs0tleixw7mptl"
   },
   "source": [
    "Выводы:\n",
    "- данные ресемплированы (по 1 часу);\n",
    "- данные достаточно однородные, чтобы искать уникальные значения;\n",
    "- тренд идет на возрастание, он не стационарный;\n",
    "- есть суточная сезонность;\n",
    "- больше всего заказов такси приходится на 00 часов(имеет смысл увеличить количество автомобилей в это время), минимальное количество заказов в районе 6-7 часов утра.\n",
    "- дни недели по количеству заказов отличаются: учитываем день недели."
   ]
  },
  {
   "cell_type": "markdown",
   "metadata": {
    "cellId": "nnoxb2ec14t34dzbqaxvo"
   },
   "source": [
    "## Обучение"
   ]
  },
  {
   "cell_type": "code",
   "execution_count": null,
   "metadata": {
    "cellId": "p11i8vg7e0b4w7pg7tkent"
   },
   "outputs": [],
   "source": [
    "# обучим разные модели с различными гиперпараметрами,разделим на тестовую выборку размером 10% от исходных данных\n",
    "\n",
    "df_new.dropna(inplace=True)\n",
    "\n",
    "X = df_new.drop('num_orders', axis=1)\n",
    "y = df_new['num_orders']\n",
    "\n",
    "X_train, X_test, y_train, y_test = train_test_split(X, y, shuffle=False, test_size=0.1)"
   ]
  },
  {
   "cell_type": "code",
   "execution_count": null,
   "metadata": {
    "cellId": "pduyn9iq7wng3bo6wid"
   },
   "outputs": [],
   "source": [
    "tscv = TimeSeriesSplit(n_splits=4)"
   ]
  },
  {
   "cell_type": "code",
   "execution_count": null,
   "metadata": {
    "cellId": "ytzqdj5b7zb94wulesnl6n"
   },
   "outputs": [],
   "source": [
    "#Размеры выборок:\n",
    "X_train.shape"
   ]
  },
  {
   "cell_type": "code",
   "execution_count": null,
   "metadata": {
    "cellId": "fgdlfz8s4o1bzxzlwuat4"
   },
   "outputs": [],
   "source": [
    "X_test.shape"
   ]
  },
  {
   "cell_type": "code",
   "execution_count": null,
   "metadata": {
    "cellId": "67tdtclqjj88g7s3n3i6u"
   },
   "outputs": [],
   "source": [
    "# создаем функцию и подбираем лучшую модель с помощью Гридсерча\n",
    "\n",
    "def fit_model(estimator, param_grid, X_train, y_train):\n",
    "  \n",
    "    model = GridSearchCV(estimator=estimator, \n",
    "                            param_grid=param_grid, \n",
    "                            n_jobs=-1, \n",
    "                            cv=tscv,\n",
    "                            scoring='neg_root_mean_squared_error')\n",
    "\n",
    "    model.fit(X_train, y_train)\n",
    "\n",
    "    best_index = model.best_index_\n",
    "    best_rmse = round(model.cv_results_['mean_test_score'][best_index], 1)\n",
    "\n",
    "    print(f\"Best RMSE: {abs(best_rmse)}\")\n",
    "    print(f\"Best params: {model.best_params_}\")\n",
    "\n",
    "    return model.best_estimator_"
   ]
  },
  {
   "cell_type": "markdown",
   "metadata": {
    "cellId": "ea77igwbt1ig9eabo32eo4"
   },
   "source": [
    "***LinearRegression***\n"
   ]
  },
  {
   "cell_type": "code",
   "execution_count": null,
   "metadata": {
    "cellId": "2kgaqskezuul07rz1lt6d"
   },
   "outputs": [],
   "source": [
    "%%time\n",
    "\n",
    "lr_estimator = Pipeline([\n",
    "    ('scaler', StandardScaler()),\n",
    "    ('lr', LinearRegression())\n",
    "])\n",
    "\n",
    "scores = cross_val_score(lr_estimator, X_train, y_train, scoring='neg_root_mean_squared_error', cv=tscv)\n",
    "\n",
    "rmse = scores.mean()\n",
    "\n",
    "display(f\"RMSE: {abs(rmse):.1f}\")\n"
   ]
  },
  {
   "cell_type": "markdown",
   "metadata": {
    "cellId": "foxmk8bs39r9glr0kkcvrf"
   },
   "source": [
    "***RandomForestRegressor***"
   ]
  },
  {
   "cell_type": "code",
   "execution_count": null,
   "metadata": {
    "cellId": "z0m8g44tnagx6xr53l0mac"
   },
   "outputs": [],
   "source": [
    "%%time\n",
    "\n",
    "rf_param_grid = {\n",
    "    'n_estimators': list(range(40, 100, 10)),\n",
    "    \"max_depth\": list(range(5, 12, 2)),\n",
    "}\n",
    "\n",
    "rf_best_model = fit_model(\n",
    "    estimator=RandomForestRegressor(random_state=RANDOM_STATE, n_jobs=-1),\n",
    "    param_grid=rf_param_grid,\n",
    "    X_train=X_train,\n",
    "    y_train=y_train\n",
    ")"
   ]
  },
  {
   "cell_type": "markdown",
   "metadata": {
    "cellId": "7aljoeqvx186mfxbqo1yp3"
   },
   "source": [
    "***LGBMRegressor***"
   ]
  },
  {
   "cell_type": "code",
   "execution_count": null,
   "metadata": {
    "cellId": "mf7qtyj6phibkjjvshy9c"
   },
   "outputs": [],
   "source": [
    "%%time\n",
    "lgbm_param_grid = {\n",
    "    \"n_estimators\": range(70, 200, 15), \n",
    "    \"max_depth\": range(2, 11, 4),\n",
    "    'learning_rate': [0.01, 0.05, 0.1]\n",
    "}\n",
    "\n",
    "lgbm_best_model = fit_model(\n",
    "    estimator=LGBMRegressor(random_state=RANDOM_STATE, n_jobs=-1),\n",
    "    param_grid=lgbm_param_grid,\n",
    "    X_train=X_train,\n",
    "    y_train=y_train\n",
    ")"
   ]
  },
  {
   "cell_type": "markdown",
   "metadata": {
    "cellId": "lneekl09qcuginhdfqj3"
   },
   "source": [
    "## Тестирование"
   ]
  },
  {
   "cell_type": "code",
   "execution_count": null,
   "metadata": {
    "cellId": "2jqwdhlesas9e23genk8mj"
   },
   "outputs": [],
   "source": [
    "prognostic = lgbm_best_model.predict(X_test)\n",
    "rmse = mean_squared_error(y_test, prognostic) ** 0.5\n",
    "print(f\"RMSE на тестовой: {rmse:.1f}\")"
   ]
  },
  {
   "cell_type": "code",
   "execution_count": null,
   "metadata": {
    "cellId": "75spkis08tbe9ikqdhs03m"
   },
   "outputs": [],
   "source": [
    "prognostic = pd.Series(prognostic, index=y_test.index)\n",
    "\n",
    "plt.figure(figsize=(10, 5))\n",
    "y_test.plot(label='true',color='tab:red', title='Test')\n",
    "prognostic.plot(label='predicted',color='tab:green')\n",
    "plt.legend()\n",
    "plt.show()"
   ]
  },
  {
   "cell_type": "markdown",
   "metadata": {
    "cellId": "gd27h4gryeh6ljr2xnhn1y"
   },
   "source": [
    "Выводы: провели анализ и подготовили данные для моделей, обучили модели. Модель LGBMRegressor дает лучшие показатели RMSE(значение метрики RMSE на тестовой выборке должно быть не больше 48)."
   ]
  }
 ],
 "metadata": {
  "ExecuteTimeLog": [
   {
    "duration": 92,
    "start_time": "2023-01-11T16:17:08.213Z"
   },
   {
    "duration": 42,
    "start_time": "2023-01-11T16:17:13.512Z"
   },
   {
    "duration": 6,
    "start_time": "2023-01-11T16:20:29.742Z"
   },
   {
    "duration": 2612,
    "start_time": "2023-01-11T16:20:31.995Z"
   },
   {
    "duration": 241,
    "start_time": "2023-01-11T16:20:34.777Z"
   },
   {
    "duration": 131,
    "start_time": "2023-01-11T16:21:06.158Z"
   },
   {
    "duration": 50,
    "start_time": "2023-01-11T16:21:10.050Z"
   },
   {
    "duration": 27,
    "start_time": "2023-01-11T16:21:35.896Z"
   },
   {
    "duration": 25,
    "start_time": "2023-01-11T16:22:06.901Z"
   },
   {
    "duration": 46,
    "start_time": "2023-01-11T16:26:26.093Z"
   },
   {
    "duration": 53,
    "start_time": "2023-01-13T19:37:16.122Z"
   },
   {
    "duration": 10,
    "start_time": "2023-01-13T19:37:22.030Z"
   },
   {
    "duration": 1918,
    "start_time": "2023-01-13T19:37:28.898Z"
   },
   {
    "duration": 404,
    "start_time": "2023-01-13T19:37:31.129Z"
   },
   {
    "duration": 43,
    "start_time": "2023-01-13T19:37:46.885Z"
   },
   {
    "duration": 77,
    "start_time": "2023-01-13T19:37:59.862Z"
   },
   {
    "duration": 11,
    "start_time": "2023-01-13T19:38:04.333Z"
   },
   {
    "duration": 9,
    "start_time": "2023-01-13T19:38:12.746Z"
   },
   {
    "duration": 7,
    "start_time": "2023-01-13T19:38:15.050Z"
   },
   {
    "duration": 8,
    "start_time": "2023-01-13T19:38:16.051Z"
   },
   {
    "duration": 1774,
    "start_time": "2023-01-13T19:38:18.519Z"
   },
   {
    "duration": 68,
    "start_time": "2023-01-13T19:38:20.848Z"
   },
   {
    "duration": 43,
    "start_time": "2023-01-13T19:38:24.230Z"
   },
   {
    "duration": 37,
    "start_time": "2023-01-13T19:38:49.282Z"
   },
   {
    "duration": 130,
    "start_time": "2023-01-13T19:41:40.970Z"
   },
   {
    "duration": 11,
    "start_time": "2023-01-13T19:42:08.045Z"
   },
   {
    "duration": 13,
    "start_time": "2023-01-13T19:42:20.413Z"
   },
   {
    "duration": 26,
    "start_time": "2023-01-13T19:44:18.346Z"
   },
   {
    "duration": 2376,
    "start_time": "2023-01-13T19:50:23.381Z"
   },
   {
    "duration": 2268,
    "start_time": "2023-01-13T19:50:28.529Z"
   },
   {
    "duration": 51,
    "start_time": "2023-01-13T19:50:34.884Z"
   },
   {
    "duration": 7,
    "start_time": "2023-01-13T19:51:51.008Z"
   },
   {
    "duration": 69,
    "start_time": "2023-01-13T19:52:01.112Z"
   },
   {
    "duration": 66,
    "start_time": "2023-01-13T19:52:04.110Z"
   },
   {
    "duration": 7,
    "start_time": "2023-01-13T19:52:05.212Z"
   },
   {
    "duration": 7,
    "start_time": "2023-01-13T19:52:08.676Z"
   },
   {
    "duration": 19,
    "start_time": "2023-01-13T19:52:09.649Z"
   },
   {
    "duration": 46,
    "start_time": "2023-01-13T19:52:16.960Z"
   },
   {
    "duration": 8,
    "start_time": "2023-01-13T19:52:19.777Z"
   },
   {
    "duration": 49,
    "start_time": "2023-01-13T19:52:27.956Z"
   },
   {
    "duration": 8,
    "start_time": "2023-01-13T19:52:30.248Z"
   },
   {
    "duration": 13,
    "start_time": "2023-01-13T19:52:35.901Z"
   },
   {
    "duration": 7,
    "start_time": "2023-01-13T19:52:38.489Z"
   },
   {
    "duration": 1779,
    "start_time": "2023-01-13T19:52:43.655Z"
   },
   {
    "duration": 52,
    "start_time": "2023-01-13T19:52:45.436Z"
   },
   {
    "duration": 10,
    "start_time": "2023-01-13T19:52:45.490Z"
   },
   {
    "duration": 28,
    "start_time": "2023-01-13T19:52:45.501Z"
   },
   {
    "duration": 19,
    "start_time": "2023-01-13T19:53:00.370Z"
   },
   {
    "duration": 44,
    "start_time": "2023-01-13T19:53:22.784Z"
   },
   {
    "duration": 8,
    "start_time": "2023-01-13T19:53:25.268Z"
   },
   {
    "duration": 65,
    "start_time": "2023-01-13T19:53:34.522Z"
   },
   {
    "duration": 62,
    "start_time": "2023-01-13T19:53:47.693Z"
   },
   {
    "duration": 7,
    "start_time": "2023-01-13T19:53:49.813Z"
   },
   {
    "duration": 56,
    "start_time": "2023-01-13T19:53:58.292Z"
   },
   {
    "duration": 46,
    "start_time": "2023-01-13T19:54:13.764Z"
   },
   {
    "duration": 1699,
    "start_time": "2023-01-13T19:54:19.650Z"
   },
   {
    "duration": 50,
    "start_time": "2023-01-13T19:54:21.352Z"
   },
   {
    "duration": 13,
    "start_time": "2023-01-13T19:54:21.404Z"
   },
   {
    "duration": 39,
    "start_time": "2023-01-13T19:54:21.419Z"
   },
   {
    "duration": 49,
    "start_time": "2023-01-13T19:54:32.865Z"
   },
   {
    "duration": 10,
    "start_time": "2023-01-13T19:54:35.522Z"
   },
   {
    "duration": 62,
    "start_time": "2023-01-13T19:55:52.900Z"
   },
   {
    "duration": 7,
    "start_time": "2023-01-13T19:55:55.312Z"
   },
   {
    "duration": 41,
    "start_time": "2023-01-13T19:56:06.951Z"
   },
   {
    "duration": 7,
    "start_time": "2023-01-13T19:56:09.387Z"
   },
   {
    "duration": 145,
    "start_time": "2023-01-13T19:56:49.358Z"
   },
   {
    "duration": 16,
    "start_time": "2023-01-13T19:56:52.183Z"
   },
   {
    "duration": 58,
    "start_time": "2023-01-13T19:57:16.998Z"
   },
   {
    "duration": 11,
    "start_time": "2023-01-13T19:57:19.847Z"
   },
   {
    "duration": 54,
    "start_time": "2023-01-13T19:57:32.605Z"
   },
   {
    "duration": 7,
    "start_time": "2023-01-13T19:57:34.500Z"
   },
   {
    "duration": 51,
    "start_time": "2023-01-13T19:59:02.252Z"
   },
   {
    "duration": 56,
    "start_time": "2023-01-13T19:59:04.515Z"
   },
   {
    "duration": 55,
    "start_time": "2023-01-13T19:59:17.644Z"
   },
   {
    "duration": 42,
    "start_time": "2023-01-13T19:59:24.465Z"
   },
   {
    "duration": 46,
    "start_time": "2023-01-13T20:01:27.148Z"
   },
   {
    "duration": 7,
    "start_time": "2023-01-13T20:01:29.548Z"
   },
   {
    "duration": 52,
    "start_time": "2023-01-13T20:01:53.294Z"
   },
   {
    "duration": 61,
    "start_time": "2023-01-13T20:01:55.834Z"
   },
   {
    "duration": 7,
    "start_time": "2023-01-13T20:01:58.006Z"
   },
   {
    "duration": 52,
    "start_time": "2023-01-13T20:02:08.708Z"
   },
   {
    "duration": 6,
    "start_time": "2023-01-13T20:02:11.599Z"
   },
   {
    "duration": 14,
    "start_time": "2023-01-13T20:06:27.864Z"
   },
   {
    "duration": 11,
    "start_time": "2023-01-13T20:09:59.871Z"
   },
   {
    "duration": 13,
    "start_time": "2023-01-13T20:11:38.285Z"
   },
   {
    "duration": 12,
    "start_time": "2023-01-13T20:11:42.241Z"
   },
   {
    "duration": 14,
    "start_time": "2023-01-13T20:12:19.668Z"
   },
   {
    "duration": 5,
    "start_time": "2023-01-13T20:13:23.859Z"
   },
   {
    "duration": 15,
    "start_time": "2023-01-13T20:15:30.144Z"
   },
   {
    "duration": 15,
    "start_time": "2023-01-13T20:15:33.542Z"
   },
   {
    "duration": 21,
    "start_time": "2023-01-13T20:15:35.314Z"
   },
   {
    "duration": 17,
    "start_time": "2023-01-13T20:18:37.408Z"
   },
   {
    "duration": 69,
    "start_time": "2023-01-13T20:21:01.413Z"
   },
   {
    "duration": 15,
    "start_time": "2023-01-13T20:21:03.354Z"
   },
   {
    "duration": 31,
    "start_time": "2023-01-13T20:21:06.322Z"
   },
   {
    "duration": 13,
    "start_time": "2023-01-13T20:21:07.986Z"
   },
   {
    "duration": 19,
    "start_time": "2023-01-13T20:21:10.515Z"
   },
   {
    "duration": 7,
    "start_time": "2023-01-13T20:21:49.349Z"
   },
   {
    "duration": 45,
    "start_time": "2023-01-13T20:23:22.036Z"
   },
   {
    "duration": 7,
    "start_time": "2023-01-13T20:23:24.000Z"
   },
   {
    "duration": 59,
    "start_time": "2023-01-13T20:23:59.429Z"
   },
   {
    "duration": 7,
    "start_time": "2023-01-13T20:24:01.901Z"
   },
   {
    "duration": 8,
    "start_time": "2023-01-13T20:24:04.992Z"
   },
   {
    "duration": 19,
    "start_time": "2023-01-13T20:25:45.420Z"
   },
   {
    "duration": 16,
    "start_time": "2023-01-13T20:26:28.560Z"
   },
   {
    "duration": 10,
    "start_time": "2023-01-13T20:26:37.169Z"
   },
   {
    "duration": 13,
    "start_time": "2023-01-13T20:27:05.036Z"
   },
   {
    "duration": 10,
    "start_time": "2023-01-13T20:27:13.587Z"
   },
   {
    "duration": 13,
    "start_time": "2023-01-13T20:27:44.652Z"
   },
   {
    "duration": 11,
    "start_time": "2023-01-13T20:28:55.191Z"
   },
   {
    "duration": 9,
    "start_time": "2023-01-13T20:31:34.680Z"
   },
   {
    "duration": 7,
    "start_time": "2023-01-13T20:31:41.505Z"
   },
   {
    "duration": 8,
    "start_time": "2023-01-13T20:35:53.352Z"
   },
   {
    "duration": 7,
    "start_time": "2023-01-13T20:36:07.995Z"
   },
   {
    "duration": 11,
    "start_time": "2023-01-13T20:37:52.554Z"
   },
   {
    "duration": 12,
    "start_time": "2023-01-13T20:39:09.442Z"
   },
   {
    "duration": 14,
    "start_time": "2023-01-13T20:40:52.530Z"
   },
   {
    "duration": 10,
    "start_time": "2023-01-13T20:41:27.007Z"
   },
   {
    "duration": 11,
    "start_time": "2023-01-13T20:41:51.595Z"
   },
   {
    "duration": 52,
    "start_time": "2023-01-13T20:45:17.288Z"
   },
   {
    "duration": 6,
    "start_time": "2023-01-13T20:45:21.944Z"
   },
   {
    "duration": 5,
    "start_time": "2023-01-13T20:45:25.275Z"
   },
   {
    "duration": 6,
    "start_time": "2023-01-13T20:45:31.079Z"
   },
   {
    "duration": 7,
    "start_time": "2023-01-13T20:45:33.663Z"
   },
   {
    "duration": 51,
    "start_time": "2023-01-13T20:45:36.099Z"
   },
   {
    "duration": 6,
    "start_time": "2023-01-13T20:45:39.354Z"
   },
   {
    "duration": 15,
    "start_time": "2023-01-13T20:47:07.625Z"
   },
   {
    "duration": 48,
    "start_time": "2023-01-13T20:50:51.248Z"
   },
   {
    "duration": 7,
    "start_time": "2023-01-13T20:50:53.599Z"
   },
   {
    "duration": 5,
    "start_time": "2023-01-13T20:50:57.540Z"
   },
   {
    "duration": 8,
    "start_time": "2023-01-13T20:51:05.675Z"
   },
   {
    "duration": 10,
    "start_time": "2023-01-13T20:51:07.597Z"
   },
   {
    "duration": 20,
    "start_time": "2023-01-13T20:51:14.819Z"
   },
   {
    "duration": 11,
    "start_time": "2023-01-13T20:51:30.386Z"
   },
   {
    "duration": 15,
    "start_time": "2023-01-13T20:51:34.271Z"
   },
   {
    "duration": 5,
    "start_time": "2023-01-13T20:51:47.979Z"
   },
   {
    "duration": 7,
    "start_time": "2023-01-13T20:51:53.411Z"
   },
   {
    "duration": 52,
    "start_time": "2023-01-13T20:52:47.291Z"
   },
   {
    "duration": 4,
    "start_time": "2023-01-13T20:56:00.696Z"
   },
   {
    "duration": 4,
    "start_time": "2023-01-13T20:56:04.000Z"
   },
   {
    "duration": 6,
    "start_time": "2023-01-13T20:56:07.078Z"
   },
   {
    "duration": 3,
    "start_time": "2023-01-13T20:56:09.443Z"
   },
   {
    "duration": 5,
    "start_time": "2023-01-13T20:56:12.219Z"
   },
   {
    "duration": 3,
    "start_time": "2023-01-13T20:56:18.774Z"
   },
   {
    "duration": 11,
    "start_time": "2023-01-13T20:56:39.306Z"
   },
   {
    "duration": 3,
    "start_time": "2023-01-13T21:04:13.473Z"
   },
   {
    "duration": 4,
    "start_time": "2023-01-13T21:05:06.816Z"
   },
   {
    "duration": 18,
    "start_time": "2023-01-13T21:06:22.472Z"
   },
   {
    "duration": 13,
    "start_time": "2023-01-13T21:06:31.474Z"
   },
   {
    "duration": 4,
    "start_time": "2023-01-13T21:09:11.475Z"
   },
   {
    "duration": 5,
    "start_time": "2023-01-13T21:09:52.700Z"
   },
   {
    "duration": 4,
    "start_time": "2023-01-13T21:09:55.715Z"
   },
   {
    "duration": 0,
    "start_time": "2023-01-13T21:14:15.310Z"
   },
   {
    "duration": 1272,
    "start_time": "2023-01-13T21:15:16.165Z"
   },
   {
    "duration": 5,
    "start_time": "2023-01-13T21:16:53.446Z"
   },
   {
    "duration": 4,
    "start_time": "2023-01-13T21:16:58.268Z"
   },
   {
    "duration": 7,
    "start_time": "2023-01-13T21:17:54.303Z"
   },
   {
    "duration": 6,
    "start_time": "2023-01-13T21:17:57.306Z"
   },
   {
    "duration": 6,
    "start_time": "2023-01-13T21:18:00.507Z"
   },
   {
    "duration": 12,
    "start_time": "2023-01-13T21:18:12.570Z"
   },
   {
    "duration": 11,
    "start_time": "2023-01-13T21:18:37.977Z"
   },
   {
    "duration": 15,
    "start_time": "2023-01-13T21:18:49.244Z"
   },
   {
    "duration": 5,
    "start_time": "2023-01-13T21:21:06.056Z"
   },
   {
    "duration": 6,
    "start_time": "2023-01-13T21:21:08.673Z"
   },
   {
    "duration": 12,
    "start_time": "2023-01-13T21:21:22.042Z"
   },
   {
    "duration": 5,
    "start_time": "2023-01-13T21:22:27.497Z"
   },
   {
    "duration": 18,
    "start_time": "2023-01-13T21:22:31.686Z"
   },
   {
    "duration": 10,
    "start_time": "2023-01-13T21:25:33.688Z"
   },
   {
    "duration": 75,
    "start_time": "2023-01-13T21:27:06.250Z"
   },
   {
    "duration": 123,
    "start_time": "2023-01-13T21:27:13.963Z"
   },
   {
    "duration": 84,
    "start_time": "2023-01-13T21:28:12.451Z"
   },
   {
    "duration": 10,
    "start_time": "2023-01-13T21:29:59.912Z"
   },
   {
    "duration": 123,
    "start_time": "2023-01-13T21:30:58.992Z"
   },
   {
    "duration": 5,
    "start_time": "2023-01-13T21:31:15.181Z"
   },
   {
    "duration": 14,
    "start_time": "2023-01-13T21:31:21.594Z"
   },
   {
    "duration": 14,
    "start_time": "2023-01-13T21:31:31.677Z"
   },
   {
    "duration": 5,
    "start_time": "2023-01-13T21:35:50.144Z"
   },
   {
    "duration": 4,
    "start_time": "2023-01-13T21:41:36.673Z"
   },
   {
    "duration": 31,
    "start_time": "2023-01-13T21:41:39.103Z"
   },
   {
    "duration": 7,
    "start_time": "2023-01-13T21:41:48.150Z"
   },
   {
    "duration": 5,
    "start_time": "2023-01-13T21:41:58.244Z"
   },
   {
    "duration": 1445,
    "start_time": "2023-01-13T21:50:43.251Z"
   },
   {
    "duration": 1300,
    "start_time": "2023-01-13T21:56:54.846Z"
   },
   {
    "duration": 1229,
    "start_time": "2023-01-13T21:58:52.077Z"
   },
   {
    "duration": 1277,
    "start_time": "2023-01-13T21:59:10.540Z"
   },
   {
    "duration": 7,
    "start_time": "2023-01-14T10:40:51.806Z"
   },
   {
    "duration": 25,
    "start_time": "2023-01-14T10:40:55.660Z"
   },
   {
    "duration": 11,
    "start_time": "2023-01-14T10:41:08.398Z"
   },
   {
    "duration": 6,
    "start_time": "2023-01-14T10:41:11.777Z"
   },
   {
    "duration": 10,
    "start_time": "2023-01-14T10:41:30.806Z"
   },
   {
    "duration": 2,
    "start_time": "2023-01-14T10:41:39.057Z"
   },
   {
    "duration": 4,
    "start_time": "2023-01-14T10:54:05.986Z"
   },
   {
    "duration": 10,
    "start_time": "2023-01-14T10:54:07.960Z"
   },
   {
    "duration": 12,
    "start_time": "2023-01-14T11:05:50.303Z"
   },
   {
    "duration": 14,
    "start_time": "2023-01-14T11:06:41.738Z"
   },
   {
    "duration": 85,
    "start_time": "2023-01-14T11:07:36.295Z"
   },
   {
    "duration": 17,
    "start_time": "2023-01-14T11:07:42.044Z"
   },
   {
    "duration": 15,
    "start_time": "2023-01-14T11:14:12.396Z"
   },
   {
    "duration": 187,
    "start_time": "2023-01-14T11:15:39.149Z"
   },
   {
    "duration": 155,
    "start_time": "2023-01-14T11:15:53.997Z"
   },
   {
    "duration": 131,
    "start_time": "2023-01-14T11:16:36.967Z"
   },
   {
    "duration": 129,
    "start_time": "2023-01-14T11:16:49.649Z"
   },
   {
    "duration": 130,
    "start_time": "2023-01-14T11:18:10.797Z"
   },
   {
    "duration": 144,
    "start_time": "2023-01-14T11:18:23.221Z"
   },
   {
    "duration": 166,
    "start_time": "2023-01-14T11:19:43.176Z"
   },
   {
    "duration": 160,
    "start_time": "2023-01-14T11:20:02.700Z"
   },
   {
    "duration": 116,
    "start_time": "2023-01-14T11:20:20.853Z"
   },
   {
    "duration": 135,
    "start_time": "2023-01-14T11:20:48.497Z"
   },
   {
    "duration": 117,
    "start_time": "2023-01-14T11:22:25.070Z"
   },
   {
    "duration": 146,
    "start_time": "2023-01-14T11:22:52.903Z"
   },
   {
    "duration": 159,
    "start_time": "2023-01-14T11:23:00.599Z"
   },
   {
    "duration": 134,
    "start_time": "2023-01-14T11:23:08.107Z"
   },
   {
    "duration": 284,
    "start_time": "2023-01-14T11:27:47.010Z"
   },
   {
    "duration": 173,
    "start_time": "2023-01-14T11:28:01.705Z"
   },
   {
    "duration": 188,
    "start_time": "2023-01-14T11:29:41.871Z"
   },
   {
    "duration": 187,
    "start_time": "2023-01-14T11:29:54.800Z"
   },
   {
    "duration": 15,
    "start_time": "2023-01-14T11:31:22.545Z"
   },
   {
    "duration": 363,
    "start_time": "2023-01-14T11:32:03.001Z"
   },
   {
    "duration": 273,
    "start_time": "2023-01-14T11:33:19.304Z"
   },
   {
    "duration": 16,
    "start_time": "2023-01-14T11:33:28.690Z"
   },
   {
    "duration": 9,
    "start_time": "2023-01-14T11:33:31.199Z"
   },
   {
    "duration": 24,
    "start_time": "2023-01-14T11:33:36.277Z"
   },
   {
    "duration": 6,
    "start_time": "2023-01-14T11:33:38.660Z"
   },
   {
    "duration": 13,
    "start_time": "2023-01-14T11:34:13.847Z"
   },
   {
    "duration": 1597,
    "start_time": "2023-01-14T11:34:19.080Z"
   },
   {
    "duration": 56,
    "start_time": "2023-01-14T11:34:20.679Z"
   },
   {
    "duration": 12,
    "start_time": "2023-01-14T11:34:20.737Z"
   },
   {
    "duration": 7,
    "start_time": "2023-01-14T11:34:20.751Z"
   },
   {
    "duration": 10,
    "start_time": "2023-01-14T11:34:20.760Z"
   },
   {
    "duration": 18,
    "start_time": "2023-01-14T11:34:20.771Z"
   },
   {
    "duration": 39,
    "start_time": "2023-01-14T11:34:20.791Z"
   },
   {
    "duration": 7,
    "start_time": "2023-01-14T11:34:20.836Z"
   },
   {
    "duration": 19,
    "start_time": "2023-01-14T11:34:20.844Z"
   },
   {
    "duration": 230,
    "start_time": "2023-01-14T11:34:20.865Z"
   },
   {
    "duration": 275,
    "start_time": "2023-01-14T11:34:21.097Z"
   },
   {
    "duration": 3,
    "start_time": "2023-01-14T11:34:21.374Z"
   },
   {
    "duration": 20,
    "start_time": "2023-01-14T11:34:21.378Z"
   },
   {
    "duration": 823,
    "start_time": "2023-01-14T11:34:21.400Z"
   },
   {
    "duration": 5,
    "start_time": "2023-01-14T11:34:22.225Z"
   },
   {
    "duration": 19,
    "start_time": "2023-01-14T11:34:22.235Z"
   },
   {
    "duration": 8,
    "start_time": "2023-01-14T11:34:22.256Z"
   },
   {
    "duration": 6,
    "start_time": "2023-01-14T11:34:22.266Z"
   },
   {
    "duration": 11,
    "start_time": "2023-01-14T11:34:22.274Z"
   },
   {
    "duration": 11,
    "start_time": "2023-01-14T11:34:22.287Z"
   },
   {
    "duration": 235,
    "start_time": "2023-01-14T11:40:45.937Z"
   },
   {
    "duration": 148,
    "start_time": "2023-01-14T11:41:47.447Z"
   },
   {
    "duration": 19,
    "start_time": "2023-01-14T11:41:58.463Z"
   },
   {
    "duration": 14,
    "start_time": "2023-01-14T11:42:20.007Z"
   },
   {
    "duration": 414,
    "start_time": "2023-01-14T11:43:36.098Z"
   },
   {
    "duration": 6,
    "start_time": "2023-01-14T11:44:12.103Z"
   },
   {
    "duration": 1103,
    "start_time": "2023-01-14T11:44:31.652Z"
   },
   {
    "duration": 23,
    "start_time": "2023-01-14T11:45:10.068Z"
   },
   {
    "duration": 1346,
    "start_time": "2023-01-14T11:53:34.518Z"
   },
   {
    "duration": 1244,
    "start_time": "2023-01-14T11:53:47.953Z"
   },
   {
    "duration": 7,
    "start_time": "2023-01-14T11:53:53.933Z"
   },
   {
    "duration": 716,
    "start_time": "2023-01-14T11:54:29.553Z"
   },
   {
    "duration": 812,
    "start_time": "2023-01-14T11:54:59.652Z"
   },
   {
    "duration": 680,
    "start_time": "2023-01-14T11:55:11.952Z"
   },
   {
    "duration": 993,
    "start_time": "2023-01-14T11:55:19.352Z"
   },
   {
    "duration": 389,
    "start_time": "2023-01-14T11:57:32.577Z"
   },
   {
    "duration": 108,
    "start_time": "2023-01-14T11:58:58.104Z"
   },
   {
    "duration": 200,
    "start_time": "2023-01-14T12:06:36.532Z"
   },
   {
    "duration": 236,
    "start_time": "2023-01-14T12:06:44.006Z"
   },
   {
    "duration": 208,
    "start_time": "2023-01-14T12:07:26.396Z"
   },
   {
    "duration": 12,
    "start_time": "2023-01-14T12:09:16.902Z"
   },
   {
    "duration": 12,
    "start_time": "2023-01-14T12:09:38.596Z"
   },
   {
    "duration": 565,
    "start_time": "2023-01-14T12:10:23.989Z"
   },
   {
    "duration": 15,
    "start_time": "2023-01-14T12:16:43.964Z"
   },
   {
    "duration": 149,
    "start_time": "2023-01-14T12:18:16.293Z"
   },
   {
    "duration": 15,
    "start_time": "2023-01-14T12:20:08.456Z"
   },
   {
    "duration": 15,
    "start_time": "2023-01-14T12:20:15.151Z"
   },
   {
    "duration": 24,
    "start_time": "2023-01-14T12:22:39.714Z"
   },
   {
    "duration": 17,
    "start_time": "2023-01-14T12:23:39.851Z"
   },
   {
    "duration": 24,
    "start_time": "2023-01-14T12:32:42.317Z"
   },
   {
    "duration": 26,
    "start_time": "2023-01-14T12:33:13.476Z"
   },
   {
    "duration": 17,
    "start_time": "2023-01-14T12:33:32.543Z"
   },
   {
    "duration": 11,
    "start_time": "2023-01-14T12:36:36.651Z"
   },
   {
    "duration": 11,
    "start_time": "2023-01-14T12:38:36.569Z"
   },
   {
    "duration": 12,
    "start_time": "2023-01-14T12:40:05.952Z"
   },
   {
    "duration": 1265,
    "start_time": "2023-01-14T12:44:24.145Z"
   },
   {
    "duration": 1231,
    "start_time": "2023-01-14T12:44:39.086Z"
   },
   {
    "duration": 1233,
    "start_time": "2023-01-14T12:44:50.756Z"
   },
   {
    "duration": 569,
    "start_time": "2023-01-14T12:45:29.327Z"
   },
   {
    "duration": 18,
    "start_time": "2023-01-14T12:48:26.362Z"
   },
   {
    "duration": 13,
    "start_time": "2023-01-14T12:49:05.374Z"
   },
   {
    "duration": 1685,
    "start_time": "2023-01-14T12:49:17.450Z"
   },
   {
    "duration": 53,
    "start_time": "2023-01-14T12:49:19.142Z"
   },
   {
    "duration": 12,
    "start_time": "2023-01-14T12:49:19.197Z"
   },
   {
    "duration": 8,
    "start_time": "2023-01-14T12:49:19.211Z"
   },
   {
    "duration": 50,
    "start_time": "2023-01-14T12:49:19.222Z"
   },
   {
    "duration": 17,
    "start_time": "2023-01-14T12:49:19.273Z"
   },
   {
    "duration": 11,
    "start_time": "2023-01-14T12:49:19.292Z"
   },
   {
    "duration": 8,
    "start_time": "2023-01-14T12:49:19.305Z"
   },
   {
    "duration": 30,
    "start_time": "2023-01-14T12:49:19.315Z"
   },
   {
    "duration": 238,
    "start_time": "2023-01-14T12:49:19.350Z"
   },
   {
    "duration": 2,
    "start_time": "2023-01-14T12:49:19.590Z"
   },
   {
    "duration": 5,
    "start_time": "2023-01-14T12:49:19.594Z"
   },
   {
    "duration": 896,
    "start_time": "2023-01-14T12:49:19.600Z"
   },
   {
    "duration": 1652,
    "start_time": "2023-01-14T12:49:20.499Z"
   },
   {
    "duration": 0,
    "start_time": "2023-01-14T12:49:22.153Z"
   },
   {
    "duration": 0,
    "start_time": "2023-01-14T12:49:22.156Z"
   },
   {
    "duration": 0,
    "start_time": "2023-01-14T12:49:22.157Z"
   },
   {
    "duration": 0,
    "start_time": "2023-01-14T12:49:22.159Z"
   },
   {
    "duration": 0,
    "start_time": "2023-01-14T12:49:22.161Z"
   },
   {
    "duration": 0,
    "start_time": "2023-01-14T12:49:22.162Z"
   },
   {
    "duration": 278,
    "start_time": "2023-01-14T12:50:02.995Z"
   },
   {
    "duration": 517,
    "start_time": "2023-01-14T12:52:54.685Z"
   },
   {
    "duration": 486,
    "start_time": "2023-01-14T12:53:03.265Z"
   },
   {
    "duration": 342,
    "start_time": "2023-01-14T12:53:20.309Z"
   },
   {
    "duration": 1525,
    "start_time": "2023-01-14T12:54:30.489Z"
   },
   {
    "duration": 1506,
    "start_time": "2023-01-14T12:54:36.859Z"
   },
   {
    "duration": 1730,
    "start_time": "2023-01-14T12:55:11.146Z"
   },
   {
    "duration": 1896,
    "start_time": "2023-01-14T12:56:23.123Z"
   },
   {
    "duration": 1618,
    "start_time": "2023-01-14T12:56:57.736Z"
   },
   {
    "duration": 1827,
    "start_time": "2023-01-14T12:57:23.356Z"
   },
   {
    "duration": 1435,
    "start_time": "2023-01-14T12:57:50.191Z"
   },
   {
    "duration": 194,
    "start_time": "2023-01-14T12:58:59.015Z"
   },
   {
    "duration": 1433,
    "start_time": "2023-01-14T12:59:42.962Z"
   },
   {
    "duration": 1520,
    "start_time": "2023-01-14T13:00:10.055Z"
   },
   {
    "duration": 13,
    "start_time": "2023-01-14T13:02:06.749Z"
   },
   {
    "duration": 13,
    "start_time": "2023-01-14T13:02:50.066Z"
   },
   {
    "duration": 14,
    "start_time": "2023-01-14T13:02:54.285Z"
   },
   {
    "duration": 1221,
    "start_time": "2023-01-14T13:03:49.823Z"
   },
   {
    "duration": 703,
    "start_time": "2023-01-14T13:04:08.402Z"
   },
   {
    "duration": 792,
    "start_time": "2023-01-14T13:05:00.597Z"
   },
   {
    "duration": 1287,
    "start_time": "2023-01-14T13:05:54.705Z"
   },
   {
    "duration": 1605,
    "start_time": "2023-01-14T13:06:08.308Z"
   },
   {
    "duration": 1565,
    "start_time": "2023-01-14T13:06:19.848Z"
   },
   {
    "duration": 1596,
    "start_time": "2023-01-14T13:06:37.304Z"
   },
   {
    "duration": 1567,
    "start_time": "2023-01-14T13:06:50.445Z"
   },
   {
    "duration": 16,
    "start_time": "2023-01-14T13:09:42.448Z"
   },
   {
    "duration": 200,
    "start_time": "2023-01-14T13:09:51.706Z"
   },
   {
    "duration": 12,
    "start_time": "2023-01-14T13:11:51.900Z"
   },
   {
    "duration": 21,
    "start_time": "2023-01-14T13:12:47.314Z"
   },
   {
    "duration": 13,
    "start_time": "2023-01-14T13:13:03.143Z"
   },
   {
    "duration": 234,
    "start_time": "2023-01-14T13:14:13.811Z"
   },
   {
    "duration": 170,
    "start_time": "2023-01-14T13:15:32.253Z"
   },
   {
    "duration": 4,
    "start_time": "2023-01-14T13:17:10.100Z"
   },
   {
    "duration": 4,
    "start_time": "2023-01-14T13:17:38.500Z"
   },
   {
    "duration": 7,
    "start_time": "2023-01-14T13:17:51.437Z"
   },
   {
    "duration": 7,
    "start_time": "2023-01-14T13:18:20.944Z"
   },
   {
    "duration": 4,
    "start_time": "2023-01-14T13:19:35.363Z"
   },
   {
    "duration": 162,
    "start_time": "2023-01-14T13:19:48.949Z"
   },
   {
    "duration": 3,
    "start_time": "2023-01-14T13:21:42.308Z"
   },
   {
    "duration": 208,
    "start_time": "2023-01-14T13:24:52.847Z"
   },
   {
    "duration": 194,
    "start_time": "2023-01-14T13:25:12.614Z"
   },
   {
    "duration": 236,
    "start_time": "2023-01-14T13:25:19.049Z"
   },
   {
    "duration": 5,
    "start_time": "2023-01-14T13:25:35.546Z"
   },
   {
    "duration": 14,
    "start_time": "2023-01-14T13:30:35.353Z"
   },
   {
    "duration": 4,
    "start_time": "2023-01-14T13:31:03.005Z"
   },
   {
    "duration": 15,
    "start_time": "2023-01-14T13:31:17.945Z"
   },
   {
    "duration": 8,
    "start_time": "2023-01-14T13:31:25.260Z"
   },
   {
    "duration": 3,
    "start_time": "2023-01-14T13:31:40.397Z"
   },
   {
    "duration": 14,
    "start_time": "2023-01-14T13:32:07.883Z"
   },
   {
    "duration": 8,
    "start_time": "2023-01-14T13:32:17.963Z"
   },
   {
    "duration": 18,
    "start_time": "2023-01-14T13:32:51.011Z"
   },
   {
    "duration": 22,
    "start_time": "2023-01-14T14:20:30.202Z"
   },
   {
    "duration": 19,
    "start_time": "2023-01-14T14:20:47.977Z"
   },
   {
    "duration": 16,
    "start_time": "2023-01-14T14:21:19.146Z"
   },
   {
    "duration": 15,
    "start_time": "2023-01-14T14:21:27.237Z"
   },
   {
    "duration": 5,
    "start_time": "2023-01-14T14:22:05.402Z"
   },
   {
    "duration": 6,
    "start_time": "2023-01-14T14:22:11.464Z"
   },
   {
    "duration": 5,
    "start_time": "2023-01-14T14:22:26.760Z"
   },
   {
    "duration": 5,
    "start_time": "2023-01-14T14:22:29.645Z"
   },
   {
    "duration": 3,
    "start_time": "2023-01-14T14:22:35.722Z"
   },
   {
    "duration": 5,
    "start_time": "2023-01-14T14:22:37.369Z"
   },
   {
    "duration": 5,
    "start_time": "2023-01-14T14:22:44.708Z"
   },
   {
    "duration": 14,
    "start_time": "2023-01-14T14:22:46.068Z"
   },
   {
    "duration": 5,
    "start_time": "2023-01-14T14:22:49.213Z"
   },
   {
    "duration": 1640,
    "start_time": "2023-01-14T14:22:55.545Z"
   },
   {
    "duration": 56,
    "start_time": "2023-01-14T14:22:57.187Z"
   },
   {
    "duration": 10,
    "start_time": "2023-01-14T14:22:57.244Z"
   },
   {
    "duration": 7,
    "start_time": "2023-01-14T14:22:57.259Z"
   },
   {
    "duration": 12,
    "start_time": "2023-01-14T14:22:57.267Z"
   },
   {
    "duration": 26,
    "start_time": "2023-01-14T14:22:57.280Z"
   },
   {
    "duration": 19,
    "start_time": "2023-01-14T14:22:57.323Z"
   },
   {
    "duration": 13,
    "start_time": "2023-01-14T14:22:57.343Z"
   },
   {
    "duration": 16,
    "start_time": "2023-01-14T14:22:57.359Z"
   },
   {
    "duration": 222,
    "start_time": "2023-01-14T14:22:57.378Z"
   },
   {
    "duration": 2,
    "start_time": "2023-01-14T14:22:57.602Z"
   },
   {
    "duration": 18,
    "start_time": "2023-01-14T14:22:57.606Z"
   },
   {
    "duration": 29,
    "start_time": "2023-01-14T14:22:57.626Z"
   },
   {
    "duration": 20,
    "start_time": "2023-01-14T14:22:57.657Z"
   },
   {
    "duration": 13,
    "start_time": "2023-01-14T14:22:57.679Z"
   },
   {
    "duration": 277,
    "start_time": "2023-01-14T14:22:57.694Z"
   },
   {
    "duration": 12,
    "start_time": "2023-01-14T14:22:57.973Z"
   },
   {
    "duration": 21,
    "start_time": "2023-01-14T14:22:57.986Z"
   },
   {
    "duration": 31,
    "start_time": "2023-01-14T14:22:58.008Z"
   },
   {
    "duration": 11,
    "start_time": "2023-01-14T14:22:58.041Z"
   },
   {
    "duration": 5,
    "start_time": "2023-01-14T14:22:58.054Z"
   },
   {
    "duration": 6,
    "start_time": "2023-01-14T14:22:58.061Z"
   },
   {
    "duration": 5,
    "start_time": "2023-01-14T14:23:08.940Z"
   },
   {
    "duration": 17,
    "start_time": "2023-01-14T14:23:14.626Z"
   },
   {
    "duration": 5,
    "start_time": "2023-01-14T14:23:17.677Z"
   },
   {
    "duration": 88,
    "start_time": "2023-01-14T14:24:07.809Z"
   },
   {
    "duration": 1650,
    "start_time": "2023-01-14T14:24:20.415Z"
   },
   {
    "duration": 49,
    "start_time": "2023-01-14T14:24:22.067Z"
   },
   {
    "duration": 21,
    "start_time": "2023-01-14T14:24:22.117Z"
   },
   {
    "duration": 7,
    "start_time": "2023-01-14T14:24:22.141Z"
   },
   {
    "duration": 18,
    "start_time": "2023-01-14T14:24:22.149Z"
   },
   {
    "duration": 16,
    "start_time": "2023-01-14T14:24:22.169Z"
   },
   {
    "duration": 14,
    "start_time": "2023-01-14T14:24:22.186Z"
   },
   {
    "duration": 7,
    "start_time": "2023-01-14T14:24:22.202Z"
   },
   {
    "duration": 32,
    "start_time": "2023-01-14T14:24:22.211Z"
   },
   {
    "duration": 218,
    "start_time": "2023-01-14T14:24:22.245Z"
   },
   {
    "duration": 3,
    "start_time": "2023-01-14T14:24:22.466Z"
   },
   {
    "duration": 14,
    "start_time": "2023-01-14T14:24:22.470Z"
   },
   {
    "duration": 17,
    "start_time": "2023-01-14T14:24:22.486Z"
   },
   {
    "duration": 28,
    "start_time": "2023-01-14T14:24:22.505Z"
   },
   {
    "duration": 12,
    "start_time": "2023-01-14T14:24:22.536Z"
   },
   {
    "duration": 257,
    "start_time": "2023-01-14T14:24:22.550Z"
   },
   {
    "duration": 25,
    "start_time": "2023-01-14T14:24:22.809Z"
   },
   {
    "duration": 19,
    "start_time": "2023-01-14T14:24:22.835Z"
   },
   {
    "duration": 11,
    "start_time": "2023-01-14T14:24:22.856Z"
   },
   {
    "duration": 7,
    "start_time": "2023-01-14T14:24:22.868Z"
   },
   {
    "duration": 10,
    "start_time": "2023-01-14T14:24:22.876Z"
   },
   {
    "duration": 11,
    "start_time": "2023-01-14T14:24:22.887Z"
   },
   {
    "duration": 5,
    "start_time": "2023-01-14T14:24:38.848Z"
   },
   {
    "duration": 8,
    "start_time": "2023-01-14T14:25:14.256Z"
   },
   {
    "duration": 4,
    "start_time": "2023-01-14T14:25:25.692Z"
   },
   {
    "duration": 4,
    "start_time": "2023-01-14T14:25:38.773Z"
   },
   {
    "duration": 5,
    "start_time": "2023-01-14T14:25:41.204Z"
   },
   {
    "duration": 6,
    "start_time": "2023-01-14T14:26:17.249Z"
   },
   {
    "duration": 7,
    "start_time": "2023-01-14T14:26:20.988Z"
   },
   {
    "duration": 1899,
    "start_time": "2023-01-14T14:26:34.099Z"
   },
   {
    "duration": 56,
    "start_time": "2023-01-14T14:26:36.002Z"
   },
   {
    "duration": 11,
    "start_time": "2023-01-14T14:26:36.060Z"
   },
   {
    "duration": 7,
    "start_time": "2023-01-14T14:26:36.073Z"
   },
   {
    "duration": 11,
    "start_time": "2023-01-14T14:26:36.083Z"
   },
   {
    "duration": 31,
    "start_time": "2023-01-14T14:26:36.097Z"
   },
   {
    "duration": 42,
    "start_time": "2023-01-14T14:26:36.135Z"
   },
   {
    "duration": 12,
    "start_time": "2023-01-14T14:26:36.179Z"
   },
   {
    "duration": 21,
    "start_time": "2023-01-14T14:26:36.192Z"
   },
   {
    "duration": 215,
    "start_time": "2023-01-14T14:26:36.215Z"
   },
   {
    "duration": 5,
    "start_time": "2023-01-14T14:26:36.435Z"
   },
   {
    "duration": 18,
    "start_time": "2023-01-14T14:26:36.441Z"
   },
   {
    "duration": 18,
    "start_time": "2023-01-14T14:26:36.461Z"
   },
   {
    "duration": 31,
    "start_time": "2023-01-14T14:26:36.482Z"
   },
   {
    "duration": 30,
    "start_time": "2023-01-14T14:26:36.516Z"
   },
   {
    "duration": 298,
    "start_time": "2023-01-14T14:26:36.547Z"
   },
   {
    "duration": 16,
    "start_time": "2023-01-14T14:26:36.847Z"
   },
   {
    "duration": 24,
    "start_time": "2023-01-14T14:26:36.866Z"
   },
   {
    "duration": 24,
    "start_time": "2023-01-14T14:26:36.892Z"
   },
   {
    "duration": 24,
    "start_time": "2023-01-14T14:26:36.918Z"
   },
   {
    "duration": 8,
    "start_time": "2023-01-14T14:26:36.944Z"
   },
   {
    "duration": 12,
    "start_time": "2023-01-14T14:26:36.954Z"
   },
   {
    "duration": 272,
    "start_time": "2023-01-14T14:28:39.654Z"
   },
   {
    "duration": 161,
    "start_time": "2023-01-14T14:30:32.519Z"
   },
   {
    "duration": 154,
    "start_time": "2023-01-14T14:31:12.587Z"
   },
   {
    "duration": 233,
    "start_time": "2023-01-14T14:33:17.971Z"
   },
   {
    "duration": 243,
    "start_time": "2023-01-14T14:35:02.440Z"
   },
   {
    "duration": 266,
    "start_time": "2023-01-14T14:35:09.371Z"
   },
   {
    "duration": 233,
    "start_time": "2023-01-14T14:38:09.070Z"
   },
   {
    "duration": 287,
    "start_time": "2023-01-14T14:39:42.952Z"
   },
   {
    "duration": 417,
    "start_time": "2023-01-14T14:40:18.682Z"
   },
   {
    "duration": 891,
    "start_time": "2023-01-14T14:42:20.105Z"
   },
   {
    "duration": 1273,
    "start_time": "2023-01-14T14:43:41.374Z"
   },
   {
    "duration": 763,
    "start_time": "2023-01-14T14:46:22.892Z"
   },
   {
    "duration": 901,
    "start_time": "2023-01-14T14:46:34.185Z"
   },
   {
    "duration": 675,
    "start_time": "2023-01-14T14:50:00.480Z"
   },
   {
    "duration": 184,
    "start_time": "2023-01-14T14:51:28.755Z"
   },
   {
    "duration": 1436,
    "start_time": "2023-01-14T14:55:07.423Z"
   },
   {
    "duration": 258,
    "start_time": "2023-01-14T14:56:35.591Z"
   },
   {
    "duration": 260,
    "start_time": "2023-01-14T15:23:40.916Z"
   },
   {
    "duration": 273,
    "start_time": "2023-01-14T15:24:09.683Z"
   },
   {
    "duration": 5,
    "start_time": "2023-01-14T15:24:24.941Z"
   },
   {
    "duration": 8,
    "start_time": "2023-01-14T15:26:32.536Z"
   },
   {
    "duration": 6,
    "start_time": "2023-01-14T15:27:40.040Z"
   },
   {
    "duration": 16,
    "start_time": "2023-01-14T16:00:15.840Z"
   },
   {
    "duration": 13,
    "start_time": "2023-01-14T16:01:47.352Z"
   },
   {
    "duration": 14,
    "start_time": "2023-01-14T16:01:51.695Z"
   },
   {
    "duration": 1582,
    "start_time": "2023-01-14T16:01:57.702Z"
   },
   {
    "duration": 54,
    "start_time": "2023-01-14T16:01:59.286Z"
   },
   {
    "duration": 11,
    "start_time": "2023-01-14T16:01:59.341Z"
   },
   {
    "duration": 7,
    "start_time": "2023-01-14T16:01:59.353Z"
   },
   {
    "duration": 7,
    "start_time": "2023-01-14T16:01:59.362Z"
   },
   {
    "duration": 14,
    "start_time": "2023-01-14T16:01:59.371Z"
   },
   {
    "duration": 48,
    "start_time": "2023-01-14T16:01:59.387Z"
   },
   {
    "duration": 7,
    "start_time": "2023-01-14T16:01:59.437Z"
   },
   {
    "duration": 18,
    "start_time": "2023-01-14T16:01:59.445Z"
   },
   {
    "duration": 204,
    "start_time": "2023-01-14T16:01:59.465Z"
   },
   {
    "duration": 3,
    "start_time": "2023-01-14T16:01:59.670Z"
   },
   {
    "duration": 6,
    "start_time": "2023-01-14T16:01:59.675Z"
   },
   {
    "duration": 18,
    "start_time": "2023-01-14T16:01:59.683Z"
   },
   {
    "duration": 29,
    "start_time": "2023-01-14T16:01:59.704Z"
   },
   {
    "duration": 10,
    "start_time": "2023-01-14T16:01:59.735Z"
   },
   {
    "duration": 158,
    "start_time": "2023-01-14T16:01:59.747Z"
   },
   {
    "duration": 251,
    "start_time": "2023-01-14T16:01:59.907Z"
   },
   {
    "duration": 11,
    "start_time": "2023-01-14T16:02:00.160Z"
   },
   {
    "duration": 21,
    "start_time": "2023-01-14T16:02:00.173Z"
   },
   {
    "duration": 246,
    "start_time": "2023-01-14T16:02:00.196Z"
   },
   {
    "duration": 725,
    "start_time": "2023-01-14T16:02:00.443Z"
   },
   {
    "duration": 211,
    "start_time": "2023-01-14T16:02:01.170Z"
   },
   {
    "duration": 272,
    "start_time": "2023-01-14T16:02:01.383Z"
   },
   {
    "duration": 7,
    "start_time": "2023-01-14T16:02:01.657Z"
   },
   {
    "duration": 38,
    "start_time": "2023-01-14T16:02:01.666Z"
   },
   {
    "duration": 28,
    "start_time": "2023-01-14T16:02:01.706Z"
   },
   {
    "duration": 166,
    "start_time": "2023-01-14T16:02:01.735Z"
   },
   {
    "duration": 5,
    "start_time": "2023-01-14T16:02:38.662Z"
   },
   {
    "duration": 7,
    "start_time": "2023-01-14T16:02:43.391Z"
   },
   {
    "duration": 8,
    "start_time": "2023-01-14T16:04:07.980Z"
   },
   {
    "duration": 12,
    "start_time": "2023-01-14T16:04:58.213Z"
   },
   {
    "duration": 5,
    "start_time": "2023-01-14T18:17:46.465Z"
   },
   {
    "duration": 20,
    "start_time": "2023-01-14T18:29:57.474Z"
   },
   {
    "duration": 21,
    "start_time": "2023-01-14T18:30:05.436Z"
   },
   {
    "duration": 1641,
    "start_time": "2023-01-14T18:30:12.498Z"
   },
   {
    "duration": 52,
    "start_time": "2023-01-14T18:30:14.142Z"
   },
   {
    "duration": 15,
    "start_time": "2023-01-14T18:30:14.196Z"
   },
   {
    "duration": 20,
    "start_time": "2023-01-14T18:30:14.214Z"
   },
   {
    "duration": 10,
    "start_time": "2023-01-14T18:30:14.239Z"
   },
   {
    "duration": 22,
    "start_time": "2023-01-14T18:30:14.251Z"
   },
   {
    "duration": 15,
    "start_time": "2023-01-14T18:30:14.274Z"
   },
   {
    "duration": 10,
    "start_time": "2023-01-14T18:30:14.291Z"
   },
   {
    "duration": 30,
    "start_time": "2023-01-14T18:30:14.304Z"
   },
   {
    "duration": 212,
    "start_time": "2023-01-14T18:30:14.339Z"
   },
   {
    "duration": 2,
    "start_time": "2023-01-14T18:30:14.553Z"
   },
   {
    "duration": 7,
    "start_time": "2023-01-14T18:30:14.556Z"
   },
   {
    "duration": 14,
    "start_time": "2023-01-14T18:30:14.565Z"
   },
   {
    "duration": 11,
    "start_time": "2023-01-14T18:30:14.580Z"
   },
   {
    "duration": 32,
    "start_time": "2023-01-14T18:30:14.592Z"
   },
   {
    "duration": 75,
    "start_time": "2023-01-14T18:30:14.629Z"
   },
   {
    "duration": 0,
    "start_time": "2023-01-14T18:30:14.706Z"
   },
   {
    "duration": 0,
    "start_time": "2023-01-14T18:30:14.707Z"
   },
   {
    "duration": 0,
    "start_time": "2023-01-14T18:30:14.709Z"
   },
   {
    "duration": 0,
    "start_time": "2023-01-14T18:30:14.711Z"
   },
   {
    "duration": 0,
    "start_time": "2023-01-14T18:30:14.712Z"
   },
   {
    "duration": 0,
    "start_time": "2023-01-14T18:30:14.713Z"
   },
   {
    "duration": 0,
    "start_time": "2023-01-14T18:30:14.714Z"
   },
   {
    "duration": 0,
    "start_time": "2023-01-14T18:30:14.716Z"
   },
   {
    "duration": 0,
    "start_time": "2023-01-14T18:30:14.717Z"
   },
   {
    "duration": 0,
    "start_time": "2023-01-14T18:30:14.718Z"
   },
   {
    "duration": 0,
    "start_time": "2023-01-14T18:30:14.720Z"
   },
   {
    "duration": 0,
    "start_time": "2023-01-14T18:30:14.721Z"
   },
   {
    "duration": 0,
    "start_time": "2023-01-14T18:30:14.722Z"
   },
   {
    "duration": 1681,
    "start_time": "2023-01-14T18:30:39.206Z"
   },
   {
    "duration": 54,
    "start_time": "2023-01-14T18:30:40.889Z"
   },
   {
    "duration": 11,
    "start_time": "2023-01-14T18:30:40.944Z"
   },
   {
    "duration": 12,
    "start_time": "2023-01-14T18:30:40.956Z"
   },
   {
    "duration": 12,
    "start_time": "2023-01-14T18:30:40.971Z"
   },
   {
    "duration": 24,
    "start_time": "2023-01-14T18:30:40.985Z"
   },
   {
    "duration": 20,
    "start_time": "2023-01-14T18:30:41.023Z"
   },
   {
    "duration": 18,
    "start_time": "2023-01-14T18:30:41.045Z"
   },
   {
    "duration": 19,
    "start_time": "2023-01-14T18:30:41.065Z"
   },
   {
    "duration": 233,
    "start_time": "2023-01-14T18:30:41.086Z"
   },
   {
    "duration": 10,
    "start_time": "2023-01-14T18:30:41.321Z"
   },
   {
    "duration": 20,
    "start_time": "2023-01-14T18:30:41.335Z"
   },
   {
    "duration": 21,
    "start_time": "2023-01-14T18:30:41.357Z"
   },
   {
    "duration": 16,
    "start_time": "2023-01-14T18:30:41.380Z"
   },
   {
    "duration": 14,
    "start_time": "2023-01-14T18:30:41.398Z"
   },
   {
    "duration": 162,
    "start_time": "2023-01-14T18:30:41.413Z"
   },
   {
    "duration": 260,
    "start_time": "2023-01-14T18:30:41.577Z"
   },
   {
    "duration": 12,
    "start_time": "2023-01-14T18:30:41.838Z"
   },
   {
    "duration": 238,
    "start_time": "2023-01-14T18:30:41.851Z"
   },
   {
    "duration": 666,
    "start_time": "2023-01-14T18:30:42.090Z"
   },
   {
    "duration": 185,
    "start_time": "2023-01-14T18:30:42.757Z"
   },
   {
    "duration": 262,
    "start_time": "2023-01-14T18:30:42.944Z"
   },
   {
    "duration": 4,
    "start_time": "2023-01-14T18:30:43.208Z"
   },
   {
    "duration": 28,
    "start_time": "2023-01-14T18:30:43.213Z"
   },
   {
    "duration": 13,
    "start_time": "2023-01-14T18:30:43.243Z"
   },
   {
    "duration": 39,
    "start_time": "2023-01-14T18:30:43.258Z"
   },
   {
    "duration": 29,
    "start_time": "2023-01-14T18:30:43.298Z"
   },
   {
    "duration": 188,
    "start_time": "2023-01-14T18:30:43.329Z"
   },
   {
    "duration": 19,
    "start_time": "2023-01-14T18:32:52.079Z"
   },
   {
    "duration": 15,
    "start_time": "2023-01-14T18:36:16.297Z"
   },
   {
    "duration": 17,
    "start_time": "2023-01-14T18:36:47.573Z"
   },
   {
    "duration": 183,
    "start_time": "2023-01-14T18:38:58.343Z"
   },
   {
    "duration": 24,
    "start_time": "2023-01-14T18:41:32.338Z"
   },
   {
    "duration": 4,
    "start_time": "2023-01-14T18:42:06.780Z"
   },
   {
    "duration": 3,
    "start_time": "2023-01-14T18:42:10.359Z"
   },
   {
    "duration": 12,
    "start_time": "2023-01-14T18:42:17.418Z"
   },
   {
    "duration": 15,
    "start_time": "2023-01-14T18:43:32.274Z"
   },
   {
    "duration": 210,
    "start_time": "2023-01-14T18:44:39.311Z"
   },
   {
    "duration": 64,
    "start_time": "2023-01-14T18:44:51.263Z"
   },
   {
    "duration": 92,
    "start_time": "2023-01-14T18:45:01.042Z"
   },
   {
    "duration": 81,
    "start_time": "2023-01-14T18:46:23.643Z"
   },
   {
    "duration": 237,
    "start_time": "2023-01-14T18:48:39.007Z"
   },
   {
    "duration": 16,
    "start_time": "2023-01-14T18:51:44.370Z"
   },
   {
    "duration": 5,
    "start_time": "2023-01-14T18:52:31.380Z"
   },
   {
    "duration": 1679,
    "start_time": "2023-01-14T18:52:38.743Z"
   },
   {
    "duration": 61,
    "start_time": "2023-01-14T18:52:40.427Z"
   },
   {
    "duration": 9,
    "start_time": "2023-01-14T18:52:40.490Z"
   },
   {
    "duration": 70,
    "start_time": "2023-01-14T18:52:40.500Z"
   },
   {
    "duration": 24,
    "start_time": "2023-01-14T18:52:40.572Z"
   },
   {
    "duration": 78,
    "start_time": "2023-01-14T18:52:40.597Z"
   },
   {
    "duration": 38,
    "start_time": "2023-01-14T18:52:40.677Z"
   },
   {
    "duration": 63,
    "start_time": "2023-01-14T18:52:40.716Z"
   },
   {
    "duration": 53,
    "start_time": "2023-01-14T18:52:40.781Z"
   },
   {
    "duration": 266,
    "start_time": "2023-01-14T18:52:40.835Z"
   },
   {
    "duration": 3,
    "start_time": "2023-01-14T18:52:41.102Z"
   },
   {
    "duration": 60,
    "start_time": "2023-01-14T18:52:41.108Z"
   },
   {
    "duration": 36,
    "start_time": "2023-01-14T18:52:41.169Z"
   },
   {
    "duration": 63,
    "start_time": "2023-01-14T18:52:41.207Z"
   },
   {
    "duration": 11,
    "start_time": "2023-01-14T18:52:41.272Z"
   },
   {
    "duration": 145,
    "start_time": "2023-01-14T18:52:41.284Z"
   },
   {
    "duration": 270,
    "start_time": "2023-01-14T18:52:41.435Z"
   },
   {
    "duration": 24,
    "start_time": "2023-01-14T18:52:41.707Z"
   },
   {
    "duration": 284,
    "start_time": "2023-01-14T18:52:41.733Z"
   },
   {
    "duration": 754,
    "start_time": "2023-01-14T18:52:42.022Z"
   },
   {
    "duration": 209,
    "start_time": "2023-01-14T18:52:42.777Z"
   },
   {
    "duration": 268,
    "start_time": "2023-01-14T18:52:42.988Z"
   },
   {
    "duration": 4,
    "start_time": "2023-01-14T18:52:43.258Z"
   },
   {
    "duration": 7,
    "start_time": "2023-01-14T18:52:43.264Z"
   },
   {
    "duration": 150,
    "start_time": "2023-01-14T18:52:43.273Z"
   },
   {
    "duration": 1,
    "start_time": "2023-01-14T18:52:43.424Z"
   },
   {
    "duration": 0,
    "start_time": "2023-01-14T18:52:43.425Z"
   },
   {
    "duration": 0,
    "start_time": "2023-01-14T18:52:43.426Z"
   },
   {
    "duration": 0,
    "start_time": "2023-01-14T18:52:43.427Z"
   },
   {
    "duration": 12,
    "start_time": "2023-01-14T18:53:22.554Z"
   },
   {
    "duration": 15,
    "start_time": "2023-01-14T18:53:52.765Z"
   },
   {
    "duration": 13,
    "start_time": "2023-01-14T18:54:01.468Z"
   },
   {
    "duration": 4,
    "start_time": "2023-01-14T18:54:21.588Z"
   },
   {
    "duration": 10,
    "start_time": "2023-01-14T18:54:23.544Z"
   },
   {
    "duration": 8,
    "start_time": "2023-01-14T18:54:26.884Z"
   },
   {
    "duration": 20,
    "start_time": "2023-01-14T18:54:29.951Z"
   },
   {
    "duration": 130,
    "start_time": "2023-01-14T18:54:34.617Z"
   },
   {
    "duration": 127,
    "start_time": "2023-01-14T18:54:51.501Z"
   },
   {
    "duration": 15,
    "start_time": "2023-01-14T18:56:05.962Z"
   },
   {
    "duration": 64,
    "start_time": "2023-01-14T18:56:12.668Z"
   },
   {
    "duration": 12,
    "start_time": "2023-01-14T18:56:23.006Z"
   },
   {
    "duration": 19,
    "start_time": "2023-01-14T18:56:41.250Z"
   },
   {
    "duration": 5,
    "start_time": "2023-01-14T18:57:41.293Z"
   },
   {
    "duration": 21,
    "start_time": "2023-01-14T18:57:47.117Z"
   },
   {
    "duration": 92,
    "start_time": "2023-01-14T19:00:21.851Z"
   },
   {
    "duration": 8,
    "start_time": "2023-01-14T19:00:30.303Z"
   },
   {
    "duration": 87,
    "start_time": "2023-01-14T19:00:36.448Z"
   },
   {
    "duration": 4,
    "start_time": "2023-01-14T19:01:00.360Z"
   },
   {
    "duration": 15,
    "start_time": "2023-01-14T19:01:14.253Z"
   },
   {
    "duration": 7,
    "start_time": "2023-01-14T19:01:34.200Z"
   },
   {
    "duration": 12,
    "start_time": "2023-01-14T19:01:46.945Z"
   },
   {
    "duration": 158,
    "start_time": "2023-01-14T19:04:12.968Z"
   },
   {
    "duration": 1657,
    "start_time": "2023-01-14T19:04:20.252Z"
   },
   {
    "duration": 59,
    "start_time": "2023-01-14T19:04:21.911Z"
   },
   {
    "duration": 11,
    "start_time": "2023-01-14T19:04:21.972Z"
   },
   {
    "duration": 29,
    "start_time": "2023-01-14T19:04:21.986Z"
   },
   {
    "duration": 40,
    "start_time": "2023-01-14T19:04:22.017Z"
   },
   {
    "duration": 24,
    "start_time": "2023-01-14T19:04:22.059Z"
   },
   {
    "duration": 25,
    "start_time": "2023-01-14T19:04:22.084Z"
   },
   {
    "duration": 41,
    "start_time": "2023-01-14T19:04:22.111Z"
   },
   {
    "duration": 30,
    "start_time": "2023-01-14T19:04:22.154Z"
   },
   {
    "duration": 245,
    "start_time": "2023-01-14T19:04:22.187Z"
   },
   {
    "duration": 11,
    "start_time": "2023-01-14T19:04:22.439Z"
   },
   {
    "duration": 28,
    "start_time": "2023-01-14T19:04:22.453Z"
   },
   {
    "duration": 26,
    "start_time": "2023-01-14T19:04:22.483Z"
   },
   {
    "duration": 18,
    "start_time": "2023-01-14T19:04:22.511Z"
   },
   {
    "duration": 27,
    "start_time": "2023-01-14T19:04:22.539Z"
   },
   {
    "duration": 143,
    "start_time": "2023-01-14T19:04:22.568Z"
   },
   {
    "duration": 256,
    "start_time": "2023-01-14T19:04:22.713Z"
   },
   {
    "duration": 12,
    "start_time": "2023-01-14T19:04:22.970Z"
   },
   {
    "duration": 265,
    "start_time": "2023-01-14T19:04:22.984Z"
   },
   {
    "duration": 701,
    "start_time": "2023-01-14T19:04:23.255Z"
   },
   {
    "duration": 226,
    "start_time": "2023-01-14T19:04:23.957Z"
   },
   {
    "duration": 335,
    "start_time": "2023-01-14T19:04:24.185Z"
   },
   {
    "duration": 4,
    "start_time": "2023-01-14T19:04:24.523Z"
   },
   {
    "duration": 33,
    "start_time": "2023-01-14T19:04:24.536Z"
   },
   {
    "duration": 11,
    "start_time": "2023-01-14T19:04:24.571Z"
   },
   {
    "duration": 7,
    "start_time": "2023-01-14T19:04:24.584Z"
   },
   {
    "duration": 6,
    "start_time": "2023-01-14T19:04:24.593Z"
   },
   {
    "duration": 34,
    "start_time": "2023-01-14T19:04:24.603Z"
   },
   {
    "duration": 12,
    "start_time": "2023-01-14T19:04:24.643Z"
   },
   {
    "duration": 7,
    "start_time": "2023-01-14T19:04:24.657Z"
   },
   {
    "duration": 13,
    "start_time": "2023-01-14T19:04:24.666Z"
   },
   {
    "duration": 4,
    "start_time": "2023-01-14T19:04:24.681Z"
   },
   {
    "duration": 13,
    "start_time": "2023-01-14T19:04:24.686Z"
   },
   {
    "duration": 174,
    "start_time": "2023-01-14T19:04:24.701Z"
   },
   {
    "duration": 0,
    "start_time": "2023-01-14T19:04:24.878Z"
   },
   {
    "duration": 24,
    "start_time": "2023-01-14T19:06:19.608Z"
   },
   {
    "duration": 1804,
    "start_time": "2023-01-14T19:46:20.114Z"
   },
   {
    "duration": 0,
    "start_time": "2023-01-14T19:46:21.927Z"
   },
   {
    "duration": 0,
    "start_time": "2023-01-14T19:46:21.928Z"
   },
   {
    "duration": 0,
    "start_time": "2023-01-14T19:46:21.929Z"
   },
   {
    "duration": 0,
    "start_time": "2023-01-14T19:46:21.930Z"
   },
   {
    "duration": 0,
    "start_time": "2023-01-14T19:46:21.931Z"
   },
   {
    "duration": 0,
    "start_time": "2023-01-14T19:46:21.932Z"
   },
   {
    "duration": 0,
    "start_time": "2023-01-14T19:46:21.933Z"
   },
   {
    "duration": 0,
    "start_time": "2023-01-14T19:46:21.933Z"
   },
   {
    "duration": 0,
    "start_time": "2023-01-14T19:46:21.934Z"
   },
   {
    "duration": 0,
    "start_time": "2023-01-14T19:46:21.935Z"
   },
   {
    "duration": 0,
    "start_time": "2023-01-14T19:46:21.936Z"
   },
   {
    "duration": 0,
    "start_time": "2023-01-14T19:46:21.937Z"
   },
   {
    "duration": 0,
    "start_time": "2023-01-14T19:46:21.938Z"
   },
   {
    "duration": 0,
    "start_time": "2023-01-14T19:46:21.942Z"
   },
   {
    "duration": 0,
    "start_time": "2023-01-14T19:46:21.943Z"
   },
   {
    "duration": 0,
    "start_time": "2023-01-14T19:46:21.943Z"
   },
   {
    "duration": 0,
    "start_time": "2023-01-14T19:46:21.944Z"
   },
   {
    "duration": 0,
    "start_time": "2023-01-14T19:46:21.945Z"
   },
   {
    "duration": 0,
    "start_time": "2023-01-14T19:46:21.946Z"
   },
   {
    "duration": 0,
    "start_time": "2023-01-14T19:46:21.947Z"
   },
   {
    "duration": 0,
    "start_time": "2023-01-14T19:46:21.950Z"
   },
   {
    "duration": 0,
    "start_time": "2023-01-14T19:46:21.954Z"
   },
   {
    "duration": 0,
    "start_time": "2023-01-14T19:46:21.954Z"
   },
   {
    "duration": 0,
    "start_time": "2023-01-14T19:46:21.955Z"
   },
   {
    "duration": 0,
    "start_time": "2023-01-14T19:46:21.958Z"
   },
   {
    "duration": 0,
    "start_time": "2023-01-14T19:46:21.963Z"
   },
   {
    "duration": 0,
    "start_time": "2023-01-14T19:46:21.964Z"
   },
   {
    "duration": 0,
    "start_time": "2023-01-14T19:46:21.966Z"
   },
   {
    "duration": 0,
    "start_time": "2023-01-14T19:46:21.967Z"
   },
   {
    "duration": 35,
    "start_time": "2023-01-14T19:47:31.020Z"
   },
   {
    "duration": 1724,
    "start_time": "2023-01-14T19:48:06.381Z"
   },
   {
    "duration": 0,
    "start_time": "2023-01-14T19:48:08.108Z"
   },
   {
    "duration": 0,
    "start_time": "2023-01-14T19:48:08.109Z"
   },
   {
    "duration": 0,
    "start_time": "2023-01-14T19:48:08.110Z"
   },
   {
    "duration": 0,
    "start_time": "2023-01-14T19:48:08.122Z"
   },
   {
    "duration": 0,
    "start_time": "2023-01-14T19:48:08.122Z"
   },
   {
    "duration": 0,
    "start_time": "2023-01-14T19:48:08.123Z"
   },
   {
    "duration": 0,
    "start_time": "2023-01-14T19:48:08.124Z"
   },
   {
    "duration": 0,
    "start_time": "2023-01-14T19:48:08.125Z"
   },
   {
    "duration": 0,
    "start_time": "2023-01-14T19:48:08.126Z"
   },
   {
    "duration": 0,
    "start_time": "2023-01-14T19:48:08.127Z"
   },
   {
    "duration": 0,
    "start_time": "2023-01-14T19:48:08.127Z"
   },
   {
    "duration": 0,
    "start_time": "2023-01-14T19:48:08.128Z"
   },
   {
    "duration": 0,
    "start_time": "2023-01-14T19:48:08.129Z"
   },
   {
    "duration": 0,
    "start_time": "2023-01-14T19:48:08.130Z"
   },
   {
    "duration": 0,
    "start_time": "2023-01-14T19:48:08.130Z"
   },
   {
    "duration": 0,
    "start_time": "2023-01-14T19:48:08.131Z"
   },
   {
    "duration": 0,
    "start_time": "2023-01-14T19:48:08.132Z"
   },
   {
    "duration": 0,
    "start_time": "2023-01-14T19:48:08.133Z"
   },
   {
    "duration": 0,
    "start_time": "2023-01-14T19:48:08.133Z"
   },
   {
    "duration": 0,
    "start_time": "2023-01-14T19:48:08.134Z"
   },
   {
    "duration": 0,
    "start_time": "2023-01-14T19:48:08.135Z"
   },
   {
    "duration": 0,
    "start_time": "2023-01-14T19:48:08.136Z"
   },
   {
    "duration": 0,
    "start_time": "2023-01-14T19:48:08.136Z"
   },
   {
    "duration": 0,
    "start_time": "2023-01-14T19:48:08.137Z"
   },
   {
    "duration": 0,
    "start_time": "2023-01-14T19:48:08.138Z"
   },
   {
    "duration": 0,
    "start_time": "2023-01-14T19:48:08.139Z"
   },
   {
    "duration": 0,
    "start_time": "2023-01-14T19:48:08.139Z"
   },
   {
    "duration": 0,
    "start_time": "2023-01-14T19:48:08.140Z"
   },
   {
    "duration": 5,
    "start_time": "2023-01-14T19:48:37.459Z"
   },
   {
    "duration": 1689,
    "start_time": "2023-01-14T19:48:44.044Z"
   },
   {
    "duration": 48,
    "start_time": "2023-01-14T19:48:45.741Z"
   },
   {
    "duration": 10,
    "start_time": "2023-01-14T19:48:45.792Z"
   },
   {
    "duration": 13,
    "start_time": "2023-01-14T19:48:45.804Z"
   },
   {
    "duration": 21,
    "start_time": "2023-01-14T19:48:45.819Z"
   },
   {
    "duration": 42,
    "start_time": "2023-01-14T19:48:45.842Z"
   },
   {
    "duration": 27,
    "start_time": "2023-01-14T19:48:45.887Z"
   },
   {
    "duration": 53,
    "start_time": "2023-01-14T19:48:45.916Z"
   },
   {
    "duration": 20,
    "start_time": "2023-01-14T19:48:45.971Z"
   },
   {
    "duration": 224,
    "start_time": "2023-01-14T19:48:45.993Z"
   },
   {
    "duration": 8,
    "start_time": "2023-01-14T19:48:46.228Z"
   },
   {
    "duration": 21,
    "start_time": "2023-01-14T19:48:46.237Z"
   },
   {
    "duration": 28,
    "start_time": "2023-01-14T19:48:46.259Z"
   },
   {
    "duration": 14,
    "start_time": "2023-01-14T19:48:46.290Z"
   },
   {
    "duration": 11,
    "start_time": "2023-01-14T19:48:46.306Z"
   },
   {
    "duration": 229,
    "start_time": "2023-01-14T19:48:46.319Z"
   },
   {
    "duration": 252,
    "start_time": "2023-01-14T19:48:46.555Z"
   },
   {
    "duration": 24,
    "start_time": "2023-01-14T19:48:46.809Z"
   },
   {
    "duration": 278,
    "start_time": "2023-01-14T19:48:46.839Z"
   },
   {
    "duration": 715,
    "start_time": "2023-01-14T19:48:47.122Z"
   },
   {
    "duration": 201,
    "start_time": "2023-01-14T19:48:47.839Z"
   },
   {
    "duration": 257,
    "start_time": "2023-01-14T19:48:48.042Z"
   },
   {
    "duration": 4,
    "start_time": "2023-01-14T19:48:48.301Z"
   },
   {
    "duration": 32,
    "start_time": "2023-01-14T19:48:48.306Z"
   },
   {
    "duration": 143,
    "start_time": "2023-01-14T19:48:48.344Z"
   },
   {
    "duration": 0,
    "start_time": "2023-01-14T19:48:48.488Z"
   },
   {
    "duration": 0,
    "start_time": "2023-01-14T19:48:48.490Z"
   },
   {
    "duration": 0,
    "start_time": "2023-01-14T19:48:48.491Z"
   },
   {
    "duration": 0,
    "start_time": "2023-01-14T19:48:48.492Z"
   },
   {
    "duration": 44,
    "start_time": "2023-01-14T19:50:27.713Z"
   },
   {
    "duration": 8,
    "start_time": "2023-01-14T19:50:41.175Z"
   },
   {
    "duration": 11,
    "start_time": "2023-01-14T19:50:45.342Z"
   },
   {
    "duration": 11,
    "start_time": "2023-01-14T19:50:48.397Z"
   },
   {
    "duration": 74,
    "start_time": "2023-01-14T19:50:52.856Z"
   },
   {
    "duration": 95,
    "start_time": "2023-01-14T19:51:19.356Z"
   },
   {
    "duration": 90,
    "start_time": "2023-01-14T19:52:54.779Z"
   },
   {
    "duration": 5,
    "start_time": "2023-01-14T19:56:59.941Z"
   },
   {
    "duration": 5,
    "start_time": "2023-01-14T19:57:02.945Z"
   },
   {
    "duration": 51,
    "start_time": "2023-01-14T20:00:34.320Z"
   },
   {
    "duration": 39,
    "start_time": "2023-01-14T20:01:55.689Z"
   },
   {
    "duration": 42,
    "start_time": "2023-01-14T20:02:00.108Z"
   },
   {
    "duration": 38,
    "start_time": "2023-01-14T20:02:20.443Z"
   },
   {
    "duration": 43,
    "start_time": "2023-01-14T20:02:36.174Z"
   },
   {
    "duration": 32,
    "start_time": "2023-01-14T20:02:48.681Z"
   },
   {
    "duration": 33,
    "start_time": "2023-01-14T20:03:15.245Z"
   },
   {
    "duration": 34,
    "start_time": "2023-01-14T20:03:41.637Z"
   },
   {
    "duration": 33,
    "start_time": "2023-01-14T20:03:51.181Z"
   },
   {
    "duration": 37,
    "start_time": "2023-01-14T20:04:01.604Z"
   },
   {
    "duration": 32,
    "start_time": "2023-01-14T20:05:59.681Z"
   },
   {
    "duration": 41,
    "start_time": "2023-01-14T20:07:58.700Z"
   },
   {
    "duration": 111,
    "start_time": "2023-01-14T20:08:10.119Z"
   },
   {
    "duration": 1679,
    "start_time": "2023-01-14T20:08:20.087Z"
   },
   {
    "duration": 51,
    "start_time": "2023-01-14T20:08:21.768Z"
   },
   {
    "duration": 17,
    "start_time": "2023-01-14T20:08:21.821Z"
   },
   {
    "duration": 39,
    "start_time": "2023-01-14T20:08:21.844Z"
   },
   {
    "duration": 47,
    "start_time": "2023-01-14T20:08:21.885Z"
   },
   {
    "duration": 21,
    "start_time": "2023-01-14T20:08:21.933Z"
   },
   {
    "duration": 17,
    "start_time": "2023-01-14T20:08:21.955Z"
   },
   {
    "duration": 11,
    "start_time": "2023-01-14T20:08:21.974Z"
   },
   {
    "duration": 15,
    "start_time": "2023-01-14T20:08:21.987Z"
   },
   {
    "duration": 230,
    "start_time": "2023-01-14T20:08:22.005Z"
   },
   {
    "duration": 7,
    "start_time": "2023-01-14T20:08:22.236Z"
   },
   {
    "duration": 15,
    "start_time": "2023-01-14T20:08:22.245Z"
   },
   {
    "duration": 23,
    "start_time": "2023-01-14T20:08:22.262Z"
   },
   {
    "duration": 12,
    "start_time": "2023-01-14T20:08:22.287Z"
   },
   {
    "duration": 12,
    "start_time": "2023-01-14T20:08:22.301Z"
   },
   {
    "duration": 179,
    "start_time": "2023-01-14T20:08:22.315Z"
   },
   {
    "duration": 247,
    "start_time": "2023-01-14T20:08:22.496Z"
   },
   {
    "duration": 12,
    "start_time": "2023-01-14T20:08:22.745Z"
   },
   {
    "duration": 238,
    "start_time": "2023-01-14T20:08:22.758Z"
   },
   {
    "duration": 750,
    "start_time": "2023-01-14T20:08:22.998Z"
   },
   {
    "duration": 194,
    "start_time": "2023-01-14T20:08:23.749Z"
   },
   {
    "duration": 323,
    "start_time": "2023-01-14T20:08:23.944Z"
   },
   {
    "duration": 3,
    "start_time": "2023-01-14T20:08:24.269Z"
   },
   {
    "duration": 11,
    "start_time": "2023-01-14T20:08:24.274Z"
   },
   {
    "duration": 130,
    "start_time": "2023-01-14T20:08:24.287Z"
   },
   {
    "duration": 39,
    "start_time": "2023-01-14T20:09:02.337Z"
   },
   {
    "duration": 36,
    "start_time": "2023-01-14T20:09:50.486Z"
   },
   {
    "duration": 44,
    "start_time": "2023-01-14T20:09:54.616Z"
   },
   {
    "duration": 28,
    "start_time": "2023-01-14T20:10:03.490Z"
   },
   {
    "duration": 26,
    "start_time": "2023-01-14T20:10:42.586Z"
   },
   {
    "duration": 27,
    "start_time": "2023-01-14T20:11:14.854Z"
   },
   {
    "duration": 26,
    "start_time": "2023-01-14T20:11:23.961Z"
   },
   {
    "duration": 28,
    "start_time": "2023-01-14T20:13:09.712Z"
   },
   {
    "duration": 160,
    "start_time": "2023-01-14T20:14:29.480Z"
   },
   {
    "duration": 41,
    "start_time": "2023-01-14T20:16:48.402Z"
   },
   {
    "duration": 35,
    "start_time": "2023-01-14T20:18:42.732Z"
   },
   {
    "duration": 39,
    "start_time": "2023-01-14T20:20:05.842Z"
   },
   {
    "duration": 1567,
    "start_time": "2023-01-14T20:20:13.749Z"
   },
   {
    "duration": 51,
    "start_time": "2023-01-14T20:20:15.318Z"
   },
   {
    "duration": 10,
    "start_time": "2023-01-14T20:20:15.371Z"
   },
   {
    "duration": 8,
    "start_time": "2023-01-14T20:20:15.383Z"
   },
   {
    "duration": 11,
    "start_time": "2023-01-14T20:20:15.392Z"
   },
   {
    "duration": 16,
    "start_time": "2023-01-14T20:20:15.404Z"
   },
   {
    "duration": 17,
    "start_time": "2023-01-14T20:20:15.421Z"
   },
   {
    "duration": 13,
    "start_time": "2023-01-14T20:20:15.439Z"
   },
   {
    "duration": 17,
    "start_time": "2023-01-14T20:20:15.453Z"
   },
   {
    "duration": 227,
    "start_time": "2023-01-14T20:20:15.472Z"
   },
   {
    "duration": 3,
    "start_time": "2023-01-14T20:20:15.700Z"
   },
   {
    "duration": 38,
    "start_time": "2023-01-14T20:20:15.704Z"
   },
   {
    "duration": 39,
    "start_time": "2023-01-14T20:20:15.745Z"
   },
   {
    "duration": 19,
    "start_time": "2023-01-14T20:20:15.786Z"
   },
   {
    "duration": 54,
    "start_time": "2023-01-14T20:20:15.807Z"
   },
   {
    "duration": 149,
    "start_time": "2023-01-14T20:20:15.863Z"
   },
   {
    "duration": 240,
    "start_time": "2023-01-14T20:20:16.014Z"
   },
   {
    "duration": 12,
    "start_time": "2023-01-14T20:20:16.255Z"
   },
   {
    "duration": 236,
    "start_time": "2023-01-14T20:20:16.268Z"
   },
   {
    "duration": 723,
    "start_time": "2023-01-14T20:20:16.506Z"
   },
   {
    "duration": 208,
    "start_time": "2023-01-14T20:20:17.231Z"
   },
   {
    "duration": 254,
    "start_time": "2023-01-14T20:20:17.440Z"
   },
   {
    "duration": 5,
    "start_time": "2023-01-14T20:20:17.696Z"
   },
   {
    "duration": 28,
    "start_time": "2023-01-14T20:20:17.703Z"
   },
   {
    "duration": 264,
    "start_time": "2023-01-14T20:20:17.733Z"
   },
   {
    "duration": 28,
    "start_time": "2023-01-14T20:20:28.167Z"
   },
   {
    "duration": 29,
    "start_time": "2023-01-14T20:24:23.975Z"
   },
   {
    "duration": 7,
    "start_time": "2023-01-14T20:24:55.036Z"
   },
   {
    "duration": 26,
    "start_time": "2023-01-14T20:25:04.764Z"
   },
   {
    "duration": 6,
    "start_time": "2023-01-14T20:25:35.043Z"
   },
   {
    "duration": 31,
    "start_time": "2023-01-14T20:25:40.795Z"
   },
   {
    "duration": 25,
    "start_time": "2023-01-14T20:25:45.075Z"
   },
   {
    "duration": 77,
    "start_time": "2023-01-14T20:26:33.432Z"
   },
   {
    "duration": 73,
    "start_time": "2023-01-14T20:26:39.936Z"
   },
   {
    "duration": 25,
    "start_time": "2023-01-14T20:27:15.773Z"
   },
   {
    "duration": 29,
    "start_time": "2023-01-14T20:47:41.891Z"
   },
   {
    "duration": 31,
    "start_time": "2023-01-14T20:48:03.234Z"
   },
   {
    "duration": 19,
    "start_time": "2023-01-14T20:49:01.932Z"
   },
   {
    "duration": 22,
    "start_time": "2023-01-14T20:49:25.422Z"
   },
   {
    "duration": 33,
    "start_time": "2023-01-14T20:49:42.999Z"
   },
   {
    "duration": 37,
    "start_time": "2023-01-14T20:54:26.172Z"
   },
   {
    "duration": 48,
    "start_time": "2023-01-14T20:54:32.784Z"
   },
   {
    "duration": 41,
    "start_time": "2023-01-14T20:56:48.676Z"
   },
   {
    "duration": 29,
    "start_time": "2023-01-14T20:58:04.958Z"
   },
   {
    "duration": 27,
    "start_time": "2023-01-14T20:58:41.952Z"
   },
   {
    "duration": 400,
    "start_time": "2023-01-14T21:01:24.896Z"
   },
   {
    "duration": 14,
    "start_time": "2023-01-14T21:02:01.252Z"
   },
   {
    "duration": 1477,
    "start_time": "2023-01-14T21:02:12.560Z"
   },
   {
    "duration": 54,
    "start_time": "2023-01-14T21:02:14.039Z"
   },
   {
    "duration": 15,
    "start_time": "2023-01-14T21:02:14.096Z"
   },
   {
    "duration": 10,
    "start_time": "2023-01-14T21:02:14.113Z"
   },
   {
    "duration": 9,
    "start_time": "2023-01-14T21:02:14.126Z"
   },
   {
    "duration": 21,
    "start_time": "2023-01-14T21:02:14.136Z"
   },
   {
    "duration": 13,
    "start_time": "2023-01-14T21:02:14.159Z"
   },
   {
    "duration": 8,
    "start_time": "2023-01-14T21:02:14.173Z"
   },
   {
    "duration": 40,
    "start_time": "2023-01-14T21:02:14.183Z"
   },
   {
    "duration": 205,
    "start_time": "2023-01-14T21:02:14.226Z"
   },
   {
    "duration": 2,
    "start_time": "2023-01-14T21:02:14.433Z"
   },
   {
    "duration": 11,
    "start_time": "2023-01-14T21:02:14.437Z"
   },
   {
    "duration": 11,
    "start_time": "2023-01-14T21:02:14.449Z"
   },
   {
    "duration": 10,
    "start_time": "2023-01-14T21:02:14.463Z"
   },
   {
    "duration": 9,
    "start_time": "2023-01-14T21:02:14.475Z"
   },
   {
    "duration": 149,
    "start_time": "2023-01-14T21:02:14.486Z"
   },
   {
    "duration": 215,
    "start_time": "2023-01-14T21:02:14.637Z"
   },
   {
    "duration": 10,
    "start_time": "2023-01-14T21:02:14.855Z"
   },
   {
    "duration": 229,
    "start_time": "2023-01-14T21:02:14.867Z"
   },
   {
    "duration": 626,
    "start_time": "2023-01-14T21:02:15.098Z"
   },
   {
    "duration": 209,
    "start_time": "2023-01-14T21:02:15.726Z"
   },
   {
    "duration": 234,
    "start_time": "2023-01-14T21:02:15.937Z"
   },
   {
    "duration": 4,
    "start_time": "2023-01-14T21:02:16.173Z"
   },
   {
    "duration": 8,
    "start_time": "2023-01-14T21:02:16.178Z"
   },
   {
    "duration": 54,
    "start_time": "2023-01-14T21:02:16.188Z"
   },
   {
    "duration": 342,
    "start_time": "2023-01-14T21:03:22.926Z"
   },
   {
    "duration": 148,
    "start_time": "2023-01-14T21:03:31.703Z"
   },
   {
    "duration": 26,
    "start_time": "2023-01-14T21:03:59.891Z"
   },
   {
    "duration": 1503,
    "start_time": "2023-01-14T21:04:06.148Z"
   },
   {
    "duration": 49,
    "start_time": "2023-01-14T21:04:07.653Z"
   },
   {
    "duration": 10,
    "start_time": "2023-01-14T21:04:07.704Z"
   },
   {
    "duration": 9,
    "start_time": "2023-01-14T21:04:07.716Z"
   },
   {
    "duration": 7,
    "start_time": "2023-01-14T21:04:07.728Z"
   },
   {
    "duration": 14,
    "start_time": "2023-01-14T21:04:07.737Z"
   },
   {
    "duration": 11,
    "start_time": "2023-01-14T21:04:07.753Z"
   },
   {
    "duration": 8,
    "start_time": "2023-01-14T21:04:07.765Z"
   },
   {
    "duration": 15,
    "start_time": "2023-01-14T21:04:07.775Z"
   },
   {
    "duration": 213,
    "start_time": "2023-01-14T21:04:07.822Z"
   },
   {
    "duration": 3,
    "start_time": "2023-01-14T21:04:08.036Z"
   },
   {
    "duration": 6,
    "start_time": "2023-01-14T21:04:08.040Z"
   },
   {
    "duration": 12,
    "start_time": "2023-01-14T21:04:08.047Z"
   },
   {
    "duration": 10,
    "start_time": "2023-01-14T21:04:08.061Z"
   },
   {
    "duration": 10,
    "start_time": "2023-01-14T21:04:08.073Z"
   },
   {
    "duration": 162,
    "start_time": "2023-01-14T21:04:08.084Z"
   },
   {
    "duration": 211,
    "start_time": "2023-01-14T21:04:08.248Z"
   },
   {
    "duration": 238,
    "start_time": "2023-01-14T21:04:08.461Z"
   },
   {
    "duration": 624,
    "start_time": "2023-01-14T21:04:08.700Z"
   },
   {
    "duration": 182,
    "start_time": "2023-01-14T21:04:09.325Z"
   },
   {
    "duration": 241,
    "start_time": "2023-01-14T21:04:09.508Z"
   },
   {
    "duration": 4,
    "start_time": "2023-01-14T21:04:09.750Z"
   },
   {
    "duration": 5,
    "start_time": "2023-01-14T21:04:09.756Z"
   },
   {
    "duration": 68,
    "start_time": "2023-01-14T21:04:09.763Z"
   },
   {
    "duration": 140,
    "start_time": "2023-01-14T21:09:19.117Z"
   },
   {
    "duration": 11,
    "start_time": "2023-01-14T21:09:25.248Z"
   },
   {
    "duration": 15,
    "start_time": "2023-01-14T21:22:26.603Z"
   },
   {
    "duration": 20862,
    "start_time": "2023-01-14T21:23:10.299Z"
   },
   {
    "duration": 1584,
    "start_time": "2023-01-14T21:24:35.121Z"
   },
   {
    "duration": 48,
    "start_time": "2023-01-14T21:24:36.707Z"
   },
   {
    "duration": 10,
    "start_time": "2023-01-14T21:24:36.757Z"
   },
   {
    "duration": 9,
    "start_time": "2023-01-14T21:24:36.769Z"
   },
   {
    "duration": 27,
    "start_time": "2023-01-14T21:24:36.780Z"
   },
   {
    "duration": 18,
    "start_time": "2023-01-14T21:24:36.809Z"
   },
   {
    "duration": 11,
    "start_time": "2023-01-14T21:24:36.828Z"
   },
   {
    "duration": 33,
    "start_time": "2023-01-14T21:24:36.840Z"
   },
   {
    "duration": 17,
    "start_time": "2023-01-14T21:24:36.875Z"
   },
   {
    "duration": 206,
    "start_time": "2023-01-14T21:24:36.894Z"
   },
   {
    "duration": 2,
    "start_time": "2023-01-14T21:24:37.102Z"
   },
   {
    "duration": 14,
    "start_time": "2023-01-14T21:24:37.105Z"
   },
   {
    "duration": 11,
    "start_time": "2023-01-14T21:24:37.121Z"
   },
   {
    "duration": 11,
    "start_time": "2023-01-14T21:24:37.133Z"
   },
   {
    "duration": 10,
    "start_time": "2023-01-14T21:24:37.145Z"
   },
   {
    "duration": 139,
    "start_time": "2023-01-14T21:24:37.157Z"
   },
   {
    "duration": 227,
    "start_time": "2023-01-14T21:24:37.298Z"
   },
   {
    "duration": 229,
    "start_time": "2023-01-14T21:24:37.527Z"
   },
   {
    "duration": 673,
    "start_time": "2023-01-14T21:24:37.758Z"
   },
   {
    "duration": 171,
    "start_time": "2023-01-14T21:24:38.433Z"
   },
   {
    "duration": 217,
    "start_time": "2023-01-14T21:24:38.605Z"
   },
   {
    "duration": 4,
    "start_time": "2023-01-14T21:24:38.823Z"
   },
   {
    "duration": 7,
    "start_time": "2023-01-14T21:24:38.828Z"
   },
   {
    "duration": 32,
    "start_time": "2023-01-14T21:24:38.836Z"
   },
   {
    "duration": 5939,
    "start_time": "2023-01-14T21:24:38.870Z"
   },
   {
    "duration": 138,
    "start_time": "2023-01-14T21:24:44.811Z"
   },
   {
    "duration": 0,
    "start_time": "2023-01-14T21:24:44.952Z"
   },
   {
    "duration": 0,
    "start_time": "2023-01-14T21:24:44.953Z"
   },
   {
    "duration": 1509,
    "start_time": "2023-01-14T21:26:17.466Z"
   },
   {
    "duration": 54,
    "start_time": "2023-01-14T21:26:18.978Z"
   },
   {
    "duration": 12,
    "start_time": "2023-01-14T21:26:19.034Z"
   },
   {
    "duration": 6,
    "start_time": "2023-01-14T21:26:19.049Z"
   },
   {
    "duration": 11,
    "start_time": "2023-01-14T21:26:19.056Z"
   },
   {
    "duration": 21,
    "start_time": "2023-01-14T21:26:19.069Z"
   },
   {
    "duration": 32,
    "start_time": "2023-01-14T21:26:19.092Z"
   },
   {
    "duration": 7,
    "start_time": "2023-01-14T21:26:19.126Z"
   },
   {
    "duration": 21,
    "start_time": "2023-01-14T21:26:19.135Z"
   },
   {
    "duration": 220,
    "start_time": "2023-01-14T21:26:19.159Z"
   },
   {
    "duration": 2,
    "start_time": "2023-01-14T21:26:19.380Z"
   },
   {
    "duration": 18,
    "start_time": "2023-01-14T21:26:19.383Z"
   },
   {
    "duration": 21,
    "start_time": "2023-01-14T21:26:19.403Z"
   },
   {
    "duration": 18,
    "start_time": "2023-01-14T21:26:19.425Z"
   },
   {
    "duration": 12,
    "start_time": "2023-01-14T21:26:19.444Z"
   },
   {
    "duration": 149,
    "start_time": "2023-01-14T21:26:19.458Z"
   },
   {
    "duration": 232,
    "start_time": "2023-01-14T21:26:19.608Z"
   },
   {
    "duration": 229,
    "start_time": "2023-01-14T21:26:19.842Z"
   },
   {
    "duration": 655,
    "start_time": "2023-01-14T21:26:20.073Z"
   },
   {
    "duration": 181,
    "start_time": "2023-01-14T21:26:20.729Z"
   },
   {
    "duration": 260,
    "start_time": "2023-01-14T21:26:20.912Z"
   },
   {
    "duration": 3,
    "start_time": "2023-01-14T21:26:21.174Z"
   },
   {
    "duration": 27,
    "start_time": "2023-01-14T21:26:21.179Z"
   },
   {
    "duration": 38,
    "start_time": "2023-01-14T21:26:21.208Z"
   },
   {
    "duration": 6087,
    "start_time": "2023-01-14T21:26:21.248Z"
   },
   {
    "duration": 130,
    "start_time": "2023-01-14T21:26:27.336Z"
   },
   {
    "duration": 0,
    "start_time": "2023-01-14T21:26:27.468Z"
   },
   {
    "duration": 0,
    "start_time": "2023-01-14T21:26:27.469Z"
   },
   {
    "duration": 10,
    "start_time": "2023-01-14T21:27:23.182Z"
   },
   {
    "duration": 11,
    "start_time": "2023-01-14T21:27:24.494Z"
   },
   {
    "duration": 77,
    "start_time": "2023-01-14T21:29:15.257Z"
   },
   {
    "duration": 2062,
    "start_time": "2023-01-14T21:29:26.888Z"
   },
   {
    "duration": 1568,
    "start_time": "2023-01-14T21:30:07.359Z"
   },
   {
    "duration": 48,
    "start_time": "2023-01-14T21:30:08.929Z"
   },
   {
    "duration": 12,
    "start_time": "2023-01-14T21:30:08.979Z"
   },
   {
    "duration": 6,
    "start_time": "2023-01-14T21:30:08.993Z"
   },
   {
    "duration": 20,
    "start_time": "2023-01-14T21:30:09.002Z"
   },
   {
    "duration": 16,
    "start_time": "2023-01-14T21:30:09.024Z"
   },
   {
    "duration": 11,
    "start_time": "2023-01-14T21:30:09.042Z"
   },
   {
    "duration": 8,
    "start_time": "2023-01-14T21:30:09.055Z"
   },
   {
    "duration": 15,
    "start_time": "2023-01-14T21:30:09.065Z"
   },
   {
    "duration": 227,
    "start_time": "2023-01-14T21:30:09.082Z"
   },
   {
    "duration": 3,
    "start_time": "2023-01-14T21:30:09.311Z"
   },
   {
    "duration": 24,
    "start_time": "2023-01-14T21:30:09.322Z"
   },
   {
    "duration": 22,
    "start_time": "2023-01-14T21:30:09.347Z"
   },
   {
    "duration": 19,
    "start_time": "2023-01-14T21:30:09.373Z"
   },
   {
    "duration": 11,
    "start_time": "2023-01-14T21:30:09.394Z"
   },
   {
    "duration": 129,
    "start_time": "2023-01-14T21:30:09.407Z"
   },
   {
    "duration": 215,
    "start_time": "2023-01-14T21:30:09.537Z"
   },
   {
    "duration": 222,
    "start_time": "2023-01-14T21:30:09.753Z"
   },
   {
    "duration": 659,
    "start_time": "2023-01-14T21:30:09.977Z"
   },
   {
    "duration": 182,
    "start_time": "2023-01-14T21:30:10.637Z"
   },
   {
    "duration": 235,
    "start_time": "2023-01-14T21:30:10.823Z"
   },
   {
    "duration": 4,
    "start_time": "2023-01-14T21:30:11.059Z"
   },
   {
    "duration": 13,
    "start_time": "2023-01-14T21:30:11.064Z"
   },
   {
    "duration": 45,
    "start_time": "2023-01-14T21:30:11.079Z"
   },
   {
    "duration": 5868,
    "start_time": "2023-01-14T21:30:11.126Z"
   },
   {
    "duration": 157,
    "start_time": "2023-01-14T21:30:16.996Z"
   },
   {
    "duration": 0,
    "start_time": "2023-01-14T21:30:17.155Z"
   },
   {
    "duration": 0,
    "start_time": "2023-01-14T21:30:17.157Z"
   },
   {
    "duration": 0,
    "start_time": "2023-01-14T21:30:17.158Z"
   },
   {
    "duration": 0,
    "start_time": "2023-01-14T21:30:17.160Z"
   },
   {
    "duration": 74,
    "start_time": "2023-01-14T21:31:13.369Z"
   },
   {
    "duration": 13,
    "start_time": "2023-01-14T21:31:23.981Z"
   },
   {
    "duration": 14,
    "start_time": "2023-01-14T21:31:34.027Z"
   },
   {
    "duration": 12,
    "start_time": "2023-01-14T21:31:43.872Z"
   },
   {
    "duration": 1504,
    "start_time": "2023-01-14T21:31:48.252Z"
   },
   {
    "duration": 46,
    "start_time": "2023-01-14T21:31:49.758Z"
   },
   {
    "duration": 9,
    "start_time": "2023-01-14T21:31:49.806Z"
   },
   {
    "duration": 18,
    "start_time": "2023-01-14T21:31:49.817Z"
   },
   {
    "duration": 8,
    "start_time": "2023-01-14T21:31:49.838Z"
   },
   {
    "duration": 18,
    "start_time": "2023-01-14T21:31:49.847Z"
   },
   {
    "duration": 20,
    "start_time": "2023-01-14T21:31:49.866Z"
   },
   {
    "duration": 6,
    "start_time": "2023-01-14T21:31:49.887Z"
   },
   {
    "duration": 20,
    "start_time": "2023-01-14T21:31:49.895Z"
   },
   {
    "duration": 195,
    "start_time": "2023-01-14T21:31:49.916Z"
   },
   {
    "duration": 3,
    "start_time": "2023-01-14T21:31:50.112Z"
   },
   {
    "duration": 10,
    "start_time": "2023-01-14T21:31:50.116Z"
   },
   {
    "duration": 12,
    "start_time": "2023-01-14T21:31:50.128Z"
   },
   {
    "duration": 12,
    "start_time": "2023-01-14T21:31:50.142Z"
   },
   {
    "duration": 11,
    "start_time": "2023-01-14T21:31:50.155Z"
   },
   {
    "duration": 158,
    "start_time": "2023-01-14T21:31:50.167Z"
   },
   {
    "duration": 233,
    "start_time": "2023-01-14T21:31:50.327Z"
   },
   {
    "duration": 272,
    "start_time": "2023-01-14T21:31:50.562Z"
   },
   {
    "duration": 681,
    "start_time": "2023-01-14T21:31:50.835Z"
   },
   {
    "duration": 187,
    "start_time": "2023-01-14T21:31:51.517Z"
   },
   {
    "duration": 262,
    "start_time": "2023-01-14T21:31:51.707Z"
   },
   {
    "duration": 4,
    "start_time": "2023-01-14T21:31:51.970Z"
   },
   {
    "duration": 20,
    "start_time": "2023-01-14T21:31:51.976Z"
   },
   {
    "duration": 48,
    "start_time": "2023-01-14T21:31:51.998Z"
   },
   {
    "duration": 300,
    "start_time": "2023-01-14T21:31:52.048Z"
   },
   {
    "duration": 5987,
    "start_time": "2023-01-14T21:34:07.023Z"
   },
   {
    "duration": 17,
    "start_time": "2023-01-14T21:34:15.982Z"
   },
   {
    "duration": 73,
    "start_time": "2023-01-14T21:34:37.318Z"
   },
   {
    "duration": 5759,
    "start_time": "2023-01-14T21:34:43.110Z"
   },
   {
    "duration": 2007,
    "start_time": "2023-01-14T21:35:57.750Z"
   },
   {
    "duration": 5672,
    "start_time": "2023-01-14T21:36:08.206Z"
   },
   {
    "duration": 5765,
    "start_time": "2023-01-14T21:36:31.790Z"
   },
   {
    "duration": 5717,
    "start_time": "2023-01-14T21:37:04.094Z"
   },
   {
    "duration": 5680,
    "start_time": "2023-01-14T21:38:47.014Z"
   },
   {
    "duration": 1993,
    "start_time": "2023-01-14T21:39:16.198Z"
   },
   {
    "duration": 5866,
    "start_time": "2023-01-14T21:39:56.012Z"
   },
   {
    "duration": 111,
    "start_time": "2023-01-14T21:40:16.819Z"
   },
   {
    "duration": 86,
    "start_time": "2023-01-14T21:40:27.030Z"
   },
   {
    "duration": 5810,
    "start_time": "2023-01-14T21:40:32.972Z"
   },
   {
    "duration": 5928,
    "start_time": "2023-01-14T21:40:59.148Z"
   },
   {
    "duration": 54,
    "start_time": "2023-01-15T11:23:53.259Z"
   },
   {
    "duration": 1831,
    "start_time": "2023-01-15T11:24:01.115Z"
   },
   {
    "duration": 50,
    "start_time": "2023-01-15T11:24:02.948Z"
   },
   {
    "duration": 13,
    "start_time": "2023-01-15T11:24:03.000Z"
   },
   {
    "duration": 35,
    "start_time": "2023-01-15T11:24:03.015Z"
   },
   {
    "duration": 23,
    "start_time": "2023-01-15T11:24:03.053Z"
   },
   {
    "duration": 62,
    "start_time": "2023-01-15T11:24:03.078Z"
   },
   {
    "duration": 30,
    "start_time": "2023-01-15T11:24:03.142Z"
   },
   {
    "duration": 18,
    "start_time": "2023-01-15T11:24:03.174Z"
   },
   {
    "duration": 47,
    "start_time": "2023-01-15T11:24:03.194Z"
   },
   {
    "duration": 245,
    "start_time": "2023-01-15T11:24:03.243Z"
   },
   {
    "duration": 3,
    "start_time": "2023-01-15T11:24:03.491Z"
   },
   {
    "duration": 52,
    "start_time": "2023-01-15T11:24:03.496Z"
   },
   {
    "duration": 49,
    "start_time": "2023-01-15T11:24:03.550Z"
   },
   {
    "duration": 62,
    "start_time": "2023-01-15T11:24:03.603Z"
   },
   {
    "duration": 91,
    "start_time": "2023-01-15T11:24:03.667Z"
   },
   {
    "duration": 247,
    "start_time": "2023-01-15T11:24:03.760Z"
   },
   {
    "duration": 345,
    "start_time": "2023-01-15T11:24:04.009Z"
   },
   {
    "duration": 374,
    "start_time": "2023-01-15T11:24:04.356Z"
   },
   {
    "duration": 772,
    "start_time": "2023-01-15T11:24:04.732Z"
   },
   {
    "duration": 211,
    "start_time": "2023-01-15T11:24:05.505Z"
   },
   {
    "duration": 298,
    "start_time": "2023-01-15T11:24:05.718Z"
   },
   {
    "duration": 13,
    "start_time": "2023-01-15T11:24:06.029Z"
   },
   {
    "duration": 38,
    "start_time": "2023-01-15T11:24:06.044Z"
   },
   {
    "duration": 73,
    "start_time": "2023-01-15T11:24:06.084Z"
   },
   {
    "duration": 6,
    "start_time": "2023-01-15T11:25:58.099Z"
   },
   {
    "duration": 8,
    "start_time": "2023-01-15T11:26:00.383Z"
   },
   {
    "duration": 27,
    "start_time": "2023-01-15T11:26:24.819Z"
   },
   {
    "duration": 1585,
    "start_time": "2023-01-15T11:26:32.273Z"
   },
   {
    "duration": 50,
    "start_time": "2023-01-15T11:26:33.860Z"
   },
   {
    "duration": 18,
    "start_time": "2023-01-15T11:26:33.912Z"
   },
   {
    "duration": 12,
    "start_time": "2023-01-15T11:26:33.931Z"
   },
   {
    "duration": 10,
    "start_time": "2023-01-15T11:26:33.945Z"
   },
   {
    "duration": 26,
    "start_time": "2023-01-15T11:26:33.956Z"
   },
   {
    "duration": 12,
    "start_time": "2023-01-15T11:26:33.984Z"
   },
   {
    "duration": 6,
    "start_time": "2023-01-15T11:26:33.998Z"
   },
   {
    "duration": 25,
    "start_time": "2023-01-15T11:26:34.006Z"
   },
   {
    "duration": 247,
    "start_time": "2023-01-15T11:26:34.033Z"
   },
   {
    "duration": 3,
    "start_time": "2023-01-15T11:26:34.282Z"
   },
   {
    "duration": 13,
    "start_time": "2023-01-15T11:26:34.287Z"
   },
   {
    "duration": 23,
    "start_time": "2023-01-15T11:26:34.302Z"
   },
   {
    "duration": 30,
    "start_time": "2023-01-15T11:26:34.331Z"
   },
   {
    "duration": 13,
    "start_time": "2023-01-15T11:26:34.363Z"
   },
   {
    "duration": 177,
    "start_time": "2023-01-15T11:26:34.379Z"
   },
   {
    "duration": 251,
    "start_time": "2023-01-15T11:26:34.558Z"
   },
   {
    "duration": 267,
    "start_time": "2023-01-15T11:26:34.811Z"
   },
   {
    "duration": 761,
    "start_time": "2023-01-15T11:26:35.080Z"
   },
   {
    "duration": 232,
    "start_time": "2023-01-15T11:26:35.844Z"
   },
   {
    "duration": 274,
    "start_time": "2023-01-15T11:26:36.078Z"
   },
   {
    "duration": 5,
    "start_time": "2023-01-15T11:26:36.354Z"
   },
   {
    "duration": 24,
    "start_time": "2023-01-15T11:26:36.361Z"
   },
   {
    "duration": 23,
    "start_time": "2023-01-15T11:26:36.387Z"
   },
   {
    "duration": 55,
    "start_time": "2023-01-15T11:26:44.403Z"
   },
   {
    "duration": 31,
    "start_time": "2023-01-15T11:27:06.519Z"
   },
   {
    "duration": 144,
    "start_time": "2023-01-15T11:38:48.492Z"
   },
   {
    "duration": 6,
    "start_time": "2023-01-15T11:38:54.871Z"
   },
   {
    "duration": 12,
    "start_time": "2023-01-15T11:39:09.198Z"
   },
   {
    "duration": 13,
    "start_time": "2023-01-15T11:40:03.841Z"
   },
   {
    "duration": 12,
    "start_time": "2023-01-15T11:40:28.364Z"
   },
   {
    "duration": 10,
    "start_time": "2023-01-15T11:40:36.580Z"
   },
   {
    "duration": 11,
    "start_time": "2023-01-15T11:40:57.088Z"
   },
   {
    "duration": 85,
    "start_time": "2023-01-15T11:44:12.775Z"
   },
   {
    "duration": 106,
    "start_time": "2023-01-15T11:45:27.436Z"
   },
   {
    "duration": 33,
    "start_time": "2023-01-15T11:45:35.748Z"
   },
   {
    "duration": 6,
    "start_time": "2023-01-15T11:51:24.104Z"
   },
   {
    "duration": 7,
    "start_time": "2023-01-15T12:03:28.229Z"
   },
   {
    "duration": 1606,
    "start_time": "2023-01-15T12:03:35.581Z"
   },
   {
    "duration": 54,
    "start_time": "2023-01-15T12:03:37.189Z"
   },
   {
    "duration": 27,
    "start_time": "2023-01-15T12:03:37.245Z"
   },
   {
    "duration": 24,
    "start_time": "2023-01-15T12:03:37.274Z"
   },
   {
    "duration": 29,
    "start_time": "2023-01-15T12:03:37.300Z"
   },
   {
    "duration": 51,
    "start_time": "2023-01-15T12:03:37.330Z"
   },
   {
    "duration": 32,
    "start_time": "2023-01-15T12:03:37.383Z"
   },
   {
    "duration": 43,
    "start_time": "2023-01-15T12:03:37.416Z"
   },
   {
    "duration": 20,
    "start_time": "2023-01-15T12:03:37.462Z"
   },
   {
    "duration": 240,
    "start_time": "2023-01-15T12:03:37.486Z"
   },
   {
    "duration": 8,
    "start_time": "2023-01-15T12:03:37.727Z"
   },
   {
    "duration": 32,
    "start_time": "2023-01-15T12:03:37.737Z"
   },
   {
    "duration": 48,
    "start_time": "2023-01-15T12:03:37.771Z"
   },
   {
    "duration": 34,
    "start_time": "2023-01-15T12:03:37.821Z"
   },
   {
    "duration": 42,
    "start_time": "2023-01-15T12:03:37.857Z"
   },
   {
    "duration": 16,
    "start_time": "2023-01-15T12:03:37.900Z"
   },
   {
    "duration": 165,
    "start_time": "2023-01-15T12:03:37.918Z"
   },
   {
    "duration": 253,
    "start_time": "2023-01-15T12:03:38.085Z"
   },
   {
    "duration": 244,
    "start_time": "2023-01-15T12:03:38.340Z"
   },
   {
    "duration": 682,
    "start_time": "2023-01-15T12:03:38.586Z"
   },
   {
    "duration": 194,
    "start_time": "2023-01-15T12:03:39.270Z"
   },
   {
    "duration": 289,
    "start_time": "2023-01-15T12:03:39.466Z"
   },
   {
    "duration": 4,
    "start_time": "2023-01-15T12:03:39.758Z"
   },
   {
    "duration": 15,
    "start_time": "2023-01-15T12:03:39.764Z"
   },
   {
    "duration": 29,
    "start_time": "2023-01-15T12:03:39.781Z"
   },
   {
    "duration": 33,
    "start_time": "2023-01-15T12:03:39.811Z"
   },
   {
    "duration": 24,
    "start_time": "2023-01-15T12:03:39.847Z"
   },
   {
    "duration": 34,
    "start_time": "2023-01-15T12:03:39.874Z"
   },
   {
    "duration": 247,
    "start_time": "2023-01-15T12:03:39.910Z"
   },
   {
    "duration": 1573,
    "start_time": "2023-01-15T12:04:45.635Z"
   },
   {
    "duration": 59,
    "start_time": "2023-01-15T12:04:47.210Z"
   },
   {
    "duration": 12,
    "start_time": "2023-01-15T12:04:47.271Z"
   },
   {
    "duration": 35,
    "start_time": "2023-01-15T12:04:47.285Z"
   },
   {
    "duration": 24,
    "start_time": "2023-01-15T12:04:47.325Z"
   },
   {
    "duration": 34,
    "start_time": "2023-01-15T12:04:47.351Z"
   },
   {
    "duration": 13,
    "start_time": "2023-01-15T12:04:47.387Z"
   },
   {
    "duration": 35,
    "start_time": "2023-01-15T12:04:47.402Z"
   },
   {
    "duration": 20,
    "start_time": "2023-01-15T12:04:47.439Z"
   },
   {
    "duration": 227,
    "start_time": "2023-01-15T12:04:47.461Z"
   },
   {
    "duration": 5,
    "start_time": "2023-01-15T12:04:47.689Z"
   },
   {
    "duration": 6,
    "start_time": "2023-01-15T12:04:47.696Z"
   },
   {
    "duration": 8,
    "start_time": "2023-01-15T12:04:47.704Z"
   },
   {
    "duration": 16,
    "start_time": "2023-01-15T12:04:47.723Z"
   },
   {
    "duration": 14,
    "start_time": "2023-01-15T12:04:47.740Z"
   },
   {
    "duration": 11,
    "start_time": "2023-01-15T12:04:47.756Z"
   },
   {
    "duration": 177,
    "start_time": "2023-01-15T12:04:47.771Z"
   },
   {
    "duration": 256,
    "start_time": "2023-01-15T12:04:47.950Z"
   },
   {
    "duration": 244,
    "start_time": "2023-01-15T12:04:48.208Z"
   },
   {
    "duration": 707,
    "start_time": "2023-01-15T12:04:48.453Z"
   },
   {
    "duration": 210,
    "start_time": "2023-01-15T12:04:49.162Z"
   },
   {
    "duration": 279,
    "start_time": "2023-01-15T12:04:49.374Z"
   },
   {
    "duration": 4,
    "start_time": "2023-01-15T12:04:49.655Z"
   },
   {
    "duration": 19,
    "start_time": "2023-01-15T12:04:49.661Z"
   },
   {
    "duration": 11,
    "start_time": "2023-01-15T12:04:49.681Z"
   },
   {
    "duration": 6,
    "start_time": "2023-01-15T12:04:49.694Z"
   },
   {
    "duration": 8,
    "start_time": "2023-01-15T12:04:49.702Z"
   },
   {
    "duration": 24,
    "start_time": "2023-01-15T12:04:49.721Z"
   },
   {
    "duration": 244,
    "start_time": "2023-01-15T12:04:49.748Z"
   },
   {
    "duration": 88,
    "start_time": "2023-01-15T12:09:59.581Z"
   },
   {
    "duration": 219,
    "start_time": "2023-01-15T12:10:16.488Z"
   },
   {
    "duration": 3,
    "start_time": "2023-01-15T12:12:07.343Z"
   },
   {
    "duration": 3,
    "start_time": "2023-01-15T12:12:09.595Z"
   },
   {
    "duration": 13,
    "start_time": "2023-01-15T12:12:36.687Z"
   },
   {
    "duration": 162,
    "start_time": "2023-01-15T12:13:19.132Z"
   },
   {
    "duration": 1627,
    "start_time": "2023-01-15T12:13:36.233Z"
   },
   {
    "duration": 52,
    "start_time": "2023-01-15T12:13:37.863Z"
   },
   {
    "duration": 12,
    "start_time": "2023-01-15T12:13:37.917Z"
   },
   {
    "duration": 9,
    "start_time": "2023-01-15T12:13:37.931Z"
   },
   {
    "duration": 20,
    "start_time": "2023-01-15T12:13:37.941Z"
   },
   {
    "duration": 17,
    "start_time": "2023-01-15T12:13:37.963Z"
   },
   {
    "duration": 13,
    "start_time": "2023-01-15T12:13:37.982Z"
   },
   {
    "duration": 28,
    "start_time": "2023-01-15T12:13:37.997Z"
   },
   {
    "duration": 24,
    "start_time": "2023-01-15T12:13:38.027Z"
   },
   {
    "duration": 218,
    "start_time": "2023-01-15T12:13:38.054Z"
   },
   {
    "duration": 5,
    "start_time": "2023-01-15T12:13:38.274Z"
   },
   {
    "duration": 5,
    "start_time": "2023-01-15T12:13:38.280Z"
   },
   {
    "duration": 8,
    "start_time": "2023-01-15T12:13:38.286Z"
   },
   {
    "duration": 14,
    "start_time": "2023-01-15T12:13:38.295Z"
   },
   {
    "duration": 12,
    "start_time": "2023-01-15T12:13:38.322Z"
   },
   {
    "duration": 12,
    "start_time": "2023-01-15T12:13:38.336Z"
   },
   {
    "duration": 192,
    "start_time": "2023-01-15T12:13:38.349Z"
   },
   {
    "duration": 249,
    "start_time": "2023-01-15T12:13:38.543Z"
   },
   {
    "duration": 241,
    "start_time": "2023-01-15T12:13:38.794Z"
   },
   {
    "duration": 711,
    "start_time": "2023-01-15T12:13:39.037Z"
   },
   {
    "duration": 206,
    "start_time": "2023-01-15T12:13:39.750Z"
   },
   {
    "duration": 258,
    "start_time": "2023-01-15T12:13:39.958Z"
   },
   {
    "duration": 5,
    "start_time": "2023-01-15T12:13:40.221Z"
   },
   {
    "duration": 15,
    "start_time": "2023-01-15T12:13:40.228Z"
   },
   {
    "duration": 20,
    "start_time": "2023-01-15T12:13:40.246Z"
   },
   {
    "duration": 10,
    "start_time": "2023-01-15T12:13:40.268Z"
   },
   {
    "duration": 6,
    "start_time": "2023-01-15T12:13:40.279Z"
   },
   {
    "duration": 235,
    "start_time": "2023-01-15T12:13:40.288Z"
   },
   {
    "duration": 3,
    "start_time": "2023-01-15T12:13:40.525Z"
   },
   {
    "duration": 240,
    "start_time": "2023-01-15T12:13:40.529Z"
   },
   {
    "duration": 106,
    "start_time": "2023-01-15T12:13:40.770Z"
   },
   {
    "duration": 94,
    "start_time": "2023-01-15T12:15:54.031Z"
   },
   {
    "duration": 12166,
    "start_time": "2023-01-15T12:16:03.307Z"
   },
   {
    "duration": 21,
    "start_time": "2023-01-15T12:17:25.983Z"
   },
   {
    "duration": 15,
    "start_time": "2023-01-15T12:17:35.570Z"
   },
   {
    "duration": 3,
    "start_time": "2023-01-15T12:17:49.013Z"
   },
   {
    "duration": 11603,
    "start_time": "2023-01-15T12:18:07.647Z"
   },
   {
    "duration": 11173,
    "start_time": "2023-01-15T12:21:41.697Z"
   },
   {
    "duration": 60,
    "start_time": "2023-01-15T12:22:56.289Z"
   },
   {
    "duration": 183,
    "start_time": "2023-01-15T12:26:40.651Z"
   },
   {
    "duration": 2822,
    "start_time": "2023-01-15T12:26:57.753Z"
   },
   {
    "duration": 62,
    "start_time": "2023-01-15T12:27:00.577Z"
   },
   {
    "duration": 19,
    "start_time": "2023-01-15T12:27:00.641Z"
   },
   {
    "duration": 24,
    "start_time": "2023-01-15T12:27:00.662Z"
   },
   {
    "duration": 15,
    "start_time": "2023-01-15T12:27:00.688Z"
   },
   {
    "duration": 29,
    "start_time": "2023-01-15T12:27:00.705Z"
   },
   {
    "duration": 36,
    "start_time": "2023-01-15T12:27:00.736Z"
   },
   {
    "duration": 22,
    "start_time": "2023-01-15T12:27:00.774Z"
   },
   {
    "duration": 40,
    "start_time": "2023-01-15T12:27:00.798Z"
   },
   {
    "duration": 273,
    "start_time": "2023-01-15T12:27:00.840Z"
   },
   {
    "duration": 4,
    "start_time": "2023-01-15T12:27:01.115Z"
   },
   {
    "duration": 45,
    "start_time": "2023-01-15T12:27:01.123Z"
   },
   {
    "duration": 23,
    "start_time": "2023-01-15T12:27:01.170Z"
   },
   {
    "duration": 22,
    "start_time": "2023-01-15T12:27:01.196Z"
   },
   {
    "duration": 48,
    "start_time": "2023-01-15T12:27:01.220Z"
   },
   {
    "duration": 12,
    "start_time": "2023-01-15T12:27:01.270Z"
   },
   {
    "duration": 200,
    "start_time": "2023-01-15T12:27:01.284Z"
   },
   {
    "duration": 326,
    "start_time": "2023-01-15T12:27:01.486Z"
   },
   {
    "duration": 268,
    "start_time": "2023-01-15T12:27:01.814Z"
   },
   {
    "duration": 764,
    "start_time": "2023-01-15T12:27:02.084Z"
   },
   {
    "duration": 217,
    "start_time": "2023-01-15T12:27:02.851Z"
   },
   {
    "duration": 319,
    "start_time": "2023-01-15T12:27:03.070Z"
   },
   {
    "duration": 5,
    "start_time": "2023-01-15T12:27:03.390Z"
   },
   {
    "duration": 9,
    "start_time": "2023-01-15T12:27:03.397Z"
   },
   {
    "duration": 8,
    "start_time": "2023-01-15T12:27:03.425Z"
   },
   {
    "duration": 95,
    "start_time": "2023-01-15T12:27:03.435Z"
   },
   {
    "duration": 113,
    "start_time": "2023-01-15T12:27:03.532Z"
   },
   {
    "duration": 0,
    "start_time": "2023-01-15T12:27:03.648Z"
   },
   {
    "duration": 5791,
    "start_time": "2023-01-15T12:34:41.993Z"
   },
   {
    "duration": 1769,
    "start_time": "2023-01-15T12:37:00.920Z"
   },
   {
    "duration": 61,
    "start_time": "2023-01-15T12:37:02.691Z"
   },
   {
    "duration": 15,
    "start_time": "2023-01-15T12:37:02.754Z"
   },
   {
    "duration": 40,
    "start_time": "2023-01-15T12:37:02.772Z"
   },
   {
    "duration": 56,
    "start_time": "2023-01-15T12:37:02.814Z"
   },
   {
    "duration": 37,
    "start_time": "2023-01-15T12:37:02.872Z"
   },
   {
    "duration": 94,
    "start_time": "2023-01-15T12:37:02.911Z"
   },
   {
    "duration": 58,
    "start_time": "2023-01-15T12:37:03.007Z"
   },
   {
    "duration": 116,
    "start_time": "2023-01-15T12:37:03.068Z"
   },
   {
    "duration": 291,
    "start_time": "2023-01-15T12:37:03.187Z"
   },
   {
    "duration": 4,
    "start_time": "2023-01-15T12:37:03.480Z"
   },
   {
    "duration": 78,
    "start_time": "2023-01-15T12:37:03.486Z"
   },
   {
    "duration": 27,
    "start_time": "2023-01-15T12:37:03.567Z"
   },
   {
    "duration": 21,
    "start_time": "2023-01-15T12:37:03.596Z"
   },
   {
    "duration": 47,
    "start_time": "2023-01-15T12:37:03.620Z"
   },
   {
    "duration": 27,
    "start_time": "2023-01-15T12:37:03.669Z"
   },
   {
    "duration": 238,
    "start_time": "2023-01-15T12:37:03.698Z"
   },
   {
    "duration": 328,
    "start_time": "2023-01-15T12:37:03.939Z"
   },
   {
    "duration": 345,
    "start_time": "2023-01-15T12:37:04.269Z"
   },
   {
    "duration": 762,
    "start_time": "2023-01-15T12:37:04.626Z"
   },
   {
    "duration": 265,
    "start_time": "2023-01-15T12:37:05.390Z"
   },
   {
    "duration": 341,
    "start_time": "2023-01-15T12:37:05.657Z"
   },
   {
    "duration": 5,
    "start_time": "2023-01-15T12:37:06.000Z"
   },
   {
    "duration": 52,
    "start_time": "2023-01-15T12:37:06.007Z"
   },
   {
    "duration": 11,
    "start_time": "2023-01-15T12:37:06.061Z"
   },
   {
    "duration": 74,
    "start_time": "2023-01-15T12:37:06.074Z"
   },
   {
    "duration": 6321,
    "start_time": "2023-01-15T12:37:06.156Z"
   },
   {
    "duration": 70,
    "start_time": "2023-01-15T12:37:12.481Z"
   },
   {
    "duration": 14769,
    "start_time": "2023-01-15T12:39:07.306Z"
   },
   {
    "duration": 64,
    "start_time": "2023-01-15T12:39:22.078Z"
   },
   {
    "duration": 22,
    "start_time": "2023-01-15T12:39:22.150Z"
   },
   {
    "duration": 37,
    "start_time": "2023-01-15T12:39:22.174Z"
   },
   {
    "duration": 41,
    "start_time": "2023-01-15T12:39:22.213Z"
   },
   {
    "duration": 49,
    "start_time": "2023-01-15T12:39:22.256Z"
   },
   {
    "duration": 53,
    "start_time": "2023-01-15T12:39:22.307Z"
   },
   {
    "duration": 14,
    "start_time": "2023-01-15T12:39:22.362Z"
   },
   {
    "duration": 46,
    "start_time": "2023-01-15T12:39:22.378Z"
   },
   {
    "duration": 175,
    "start_time": "2023-01-15T12:39:22.428Z"
   },
   {
    "duration": 5,
    "start_time": "2023-01-15T12:39:22.605Z"
   },
   {
    "duration": 45,
    "start_time": "2023-01-15T12:39:22.626Z"
   },
   {
    "duration": 11,
    "start_time": "2023-01-15T12:39:22.673Z"
   },
   {
    "duration": 29,
    "start_time": "2023-01-15T12:39:22.687Z"
   },
   {
    "duration": 58,
    "start_time": "2023-01-15T12:39:22.718Z"
   },
   {
    "duration": 31,
    "start_time": "2023-01-15T12:39:22.778Z"
   },
   {
    "duration": 199,
    "start_time": "2023-01-15T12:39:22.811Z"
   },
   {
    "duration": 296,
    "start_time": "2023-01-15T12:39:23.012Z"
   },
   {
    "duration": 293,
    "start_time": "2023-01-15T12:39:23.310Z"
   },
   {
    "duration": 864,
    "start_time": "2023-01-15T12:39:23.604Z"
   },
   {
    "duration": 244,
    "start_time": "2023-01-15T12:39:24.470Z"
   },
   {
    "duration": 441,
    "start_time": "2023-01-15T12:39:24.715Z"
   },
   {
    "duration": 10,
    "start_time": "2023-01-15T12:39:25.158Z"
   },
   {
    "duration": 17,
    "start_time": "2023-01-15T12:39:25.170Z"
   },
   {
    "duration": 14,
    "start_time": "2023-01-15T12:39:25.189Z"
   },
   {
    "duration": 225,
    "start_time": "2023-01-15T12:39:25.205Z"
   },
   {
    "duration": 5970,
    "start_time": "2023-01-15T12:39:25.460Z"
   },
   {
    "duration": 56,
    "start_time": "2023-01-15T12:39:31.432Z"
   },
   {
    "duration": 406,
    "start_time": "2023-01-15T13:07:34.925Z"
   },
   {
    "duration": 4448,
    "start_time": "2023-01-15T13:07:55.365Z"
   },
   {
    "duration": 61,
    "start_time": "2023-01-15T13:07:59.816Z"
   },
   {
    "duration": 13,
    "start_time": "2023-01-15T13:07:59.878Z"
   },
   {
    "duration": 8,
    "start_time": "2023-01-15T13:07:59.892Z"
   },
   {
    "duration": 17,
    "start_time": "2023-01-15T13:07:59.902Z"
   },
   {
    "duration": 20,
    "start_time": "2023-01-15T13:07:59.921Z"
   },
   {
    "duration": 13,
    "start_time": "2023-01-15T13:07:59.943Z"
   },
   {
    "duration": 8,
    "start_time": "2023-01-15T13:07:59.957Z"
   },
   {
    "duration": 25,
    "start_time": "2023-01-15T13:07:59.966Z"
   },
   {
    "duration": 161,
    "start_time": "2023-01-15T13:07:59.993Z"
   },
   {
    "duration": 6,
    "start_time": "2023-01-15T13:08:00.155Z"
   },
   {
    "duration": 30,
    "start_time": "2023-01-15T13:08:00.162Z"
   },
   {
    "duration": 10,
    "start_time": "2023-01-15T13:08:00.194Z"
   },
   {
    "duration": 13,
    "start_time": "2023-01-15T13:08:00.207Z"
   },
   {
    "duration": 14,
    "start_time": "2023-01-15T13:08:00.222Z"
   },
   {
    "duration": 12,
    "start_time": "2023-01-15T13:08:00.238Z"
   },
   {
    "duration": 181,
    "start_time": "2023-01-15T13:08:00.252Z"
   },
   {
    "duration": 253,
    "start_time": "2023-01-15T13:08:00.435Z"
   },
   {
    "duration": 277,
    "start_time": "2023-01-15T13:08:00.690Z"
   },
   {
    "duration": 834,
    "start_time": "2023-01-15T13:08:00.970Z"
   },
   {
    "duration": 202,
    "start_time": "2023-01-15T13:08:01.806Z"
   },
   {
    "duration": 397,
    "start_time": "2023-01-15T13:08:02.010Z"
   },
   {
    "duration": 4,
    "start_time": "2023-01-15T13:08:02.409Z"
   },
   {
    "duration": 38,
    "start_time": "2023-01-15T13:08:02.423Z"
   },
   {
    "duration": 41,
    "start_time": "2023-01-15T13:08:02.463Z"
   },
   {
    "duration": 492,
    "start_time": "2023-01-15T13:08:02.506Z"
   },
   {
    "duration": 28802,
    "start_time": "2023-01-15T13:08:03.000Z"
   },
   {
    "duration": 127,
    "start_time": "2023-01-15T13:08:31.804Z"
   },
   {
    "duration": 4262,
    "start_time": "2023-01-15T13:14:29.110Z"
   },
   {
    "duration": 61,
    "start_time": "2023-01-15T13:14:33.374Z"
   },
   {
    "duration": 12,
    "start_time": "2023-01-15T13:14:33.437Z"
   },
   {
    "duration": 12,
    "start_time": "2023-01-15T13:14:33.451Z"
   },
   {
    "duration": 12,
    "start_time": "2023-01-15T13:14:33.466Z"
   },
   {
    "duration": 26,
    "start_time": "2023-01-15T13:14:33.480Z"
   },
   {
    "duration": 25,
    "start_time": "2023-01-15T13:14:33.507Z"
   },
   {
    "duration": 10,
    "start_time": "2023-01-15T13:14:33.534Z"
   },
   {
    "duration": 14,
    "start_time": "2023-01-15T13:14:33.547Z"
   },
   {
    "duration": 145,
    "start_time": "2023-01-15T13:14:33.563Z"
   },
   {
    "duration": 4,
    "start_time": "2023-01-15T13:14:33.710Z"
   },
   {
    "duration": 3,
    "start_time": "2023-01-15T13:14:33.722Z"
   },
   {
    "duration": 9,
    "start_time": "2023-01-15T13:14:33.728Z"
   },
   {
    "duration": 17,
    "start_time": "2023-01-15T13:14:33.741Z"
   },
   {
    "duration": 17,
    "start_time": "2023-01-15T13:14:33.760Z"
   },
   {
    "duration": 12,
    "start_time": "2023-01-15T13:14:33.779Z"
   },
   {
    "duration": 189,
    "start_time": "2023-01-15T13:14:33.793Z"
   },
   {
    "duration": 312,
    "start_time": "2023-01-15T13:14:33.984Z"
   },
   {
    "duration": 249,
    "start_time": "2023-01-15T13:14:34.299Z"
   },
   {
    "duration": 754,
    "start_time": "2023-01-15T13:14:34.550Z"
   },
   {
    "duration": 220,
    "start_time": "2023-01-15T13:14:35.306Z"
   },
   {
    "duration": 388,
    "start_time": "2023-01-15T13:14:35.528Z"
   },
   {
    "duration": 5,
    "start_time": "2023-01-15T13:14:35.918Z"
   },
   {
    "duration": 10,
    "start_time": "2023-01-15T13:14:35.924Z"
   },
   {
    "duration": 5,
    "start_time": "2023-01-15T13:14:35.936Z"
   },
   {
    "duration": 481,
    "start_time": "2023-01-15T13:14:35.943Z"
   },
   {
    "duration": 28545,
    "start_time": "2023-01-15T13:14:36.425Z"
   },
   {
    "duration": 135,
    "start_time": "2023-01-15T13:15:04.972Z"
   },
   {
    "duration": 620,
    "start_time": "2023-01-15T13:27:00.824Z"
   },
   {
    "duration": 620,
    "start_time": "2023-01-15T13:27:14.676Z"
   },
   {
    "duration": 620,
    "start_time": "2023-01-15T13:27:31.197Z"
   },
   {
    "duration": 4174,
    "start_time": "2023-01-15T13:27:47.891Z"
   },
   {
    "duration": 51,
    "start_time": "2023-01-15T13:27:52.068Z"
   },
   {
    "duration": 11,
    "start_time": "2023-01-15T13:27:52.121Z"
   },
   {
    "duration": 5,
    "start_time": "2023-01-15T13:27:52.134Z"
   },
   {
    "duration": 14,
    "start_time": "2023-01-15T13:27:52.141Z"
   },
   {
    "duration": 20,
    "start_time": "2023-01-15T13:27:52.157Z"
   },
   {
    "duration": 13,
    "start_time": "2023-01-15T13:27:52.179Z"
   },
   {
    "duration": 33,
    "start_time": "2023-01-15T13:27:52.194Z"
   },
   {
    "duration": 19,
    "start_time": "2023-01-15T13:27:52.229Z"
   },
   {
    "duration": 136,
    "start_time": "2023-01-15T13:27:52.250Z"
   },
   {
    "duration": 5,
    "start_time": "2023-01-15T13:27:52.388Z"
   },
   {
    "duration": 7,
    "start_time": "2023-01-15T13:27:52.395Z"
   },
   {
    "duration": 18,
    "start_time": "2023-01-15T13:27:52.404Z"
   },
   {
    "duration": 10,
    "start_time": "2023-01-15T13:27:52.425Z"
   },
   {
    "duration": 14,
    "start_time": "2023-01-15T13:27:52.436Z"
   },
   {
    "duration": 12,
    "start_time": "2023-01-15T13:27:52.452Z"
   },
   {
    "duration": 172,
    "start_time": "2023-01-15T13:27:52.466Z"
   },
   {
    "duration": 235,
    "start_time": "2023-01-15T13:27:52.640Z"
   },
   {
    "duration": 242,
    "start_time": "2023-01-15T13:27:52.877Z"
   },
   {
    "duration": 758,
    "start_time": "2023-01-15T13:27:53.122Z"
   },
   {
    "duration": 205,
    "start_time": "2023-01-15T13:27:53.882Z"
   },
   {
    "duration": 391,
    "start_time": "2023-01-15T13:27:54.089Z"
   },
   {
    "duration": 5,
    "start_time": "2023-01-15T13:27:54.481Z"
   },
   {
    "duration": 13,
    "start_time": "2023-01-15T13:27:54.487Z"
   },
   {
    "duration": 6,
    "start_time": "2023-01-15T13:27:54.501Z"
   },
   {
    "duration": 401,
    "start_time": "2023-01-15T13:27:54.522Z"
   },
   {
    "duration": 27062,
    "start_time": "2023-01-15T13:27:54.925Z"
   },
   {
    "duration": 116,
    "start_time": "2023-01-15T13:28:21.989Z"
   },
   {
    "duration": 132,
    "start_time": "2023-01-15T13:34:07.711Z"
   },
   {
    "duration": 44,
    "start_time": "2023-01-15T13:34:33.610Z"
   },
   {
    "duration": 37,
    "start_time": "2023-01-15T13:35:03.844Z"
   },
   {
    "duration": 170,
    "start_time": "2023-01-15T13:36:41.969Z"
   },
   {
    "duration": 168,
    "start_time": "2023-01-15T13:41:26.058Z"
   },
   {
    "duration": 156,
    "start_time": "2023-01-15T13:42:12.094Z"
   },
   {
    "duration": 29280,
    "start_time": "2023-01-15T13:42:58.374Z"
   },
   {
    "duration": 112,
    "start_time": "2023-01-15T13:44:24.654Z"
   },
   {
    "duration": 318,
    "start_time": "2023-01-15T13:59:48.891Z"
   },
   {
    "duration": 75,
    "start_time": "2023-01-15T15:14:05.968Z"
   },
   {
    "duration": 181,
    "start_time": "2023-01-15T15:16:48.946Z"
   },
   {
    "duration": 29950,
    "start_time": "2023-01-15T15:17:20.606Z"
   },
   {
    "duration": 26178,
    "start_time": "2023-01-15T15:19:04.277Z"
   },
   {
    "duration": 105,
    "start_time": "2023-01-15T15:20:44.943Z"
   },
   {
    "duration": 24363,
    "start_time": "2023-01-15T15:21:52.466Z"
   },
   {
    "duration": 44,
    "start_time": "2023-01-15T15:26:04.192Z"
   },
   {
    "duration": 209,
    "start_time": "2023-01-15T15:28:20.323Z"
   },
   {
    "duration": 187,
    "start_time": "2023-01-15T15:29:02.757Z"
   },
   {
    "duration": 138,
    "start_time": "2023-01-15T15:32:58.856Z"
   },
   {
    "duration": 3,
    "start_time": "2023-01-15T15:37:32.972Z"
   },
   {
    "duration": 11,
    "start_time": "2023-01-15T15:39:03.979Z"
   },
   {
    "duration": 31,
    "start_time": "2023-01-15T15:39:18.071Z"
   },
   {
    "duration": 34,
    "start_time": "2023-01-15T15:40:33.714Z"
   },
   {
    "duration": 1727,
    "start_time": "2023-01-15T15:41:37.960Z"
   },
   {
    "duration": 57,
    "start_time": "2023-01-15T15:41:39.689Z"
   },
   {
    "duration": 12,
    "start_time": "2023-01-15T15:41:39.747Z"
   },
   {
    "duration": 9,
    "start_time": "2023-01-15T15:41:39.760Z"
   },
   {
    "duration": 12,
    "start_time": "2023-01-15T15:41:39.772Z"
   },
   {
    "duration": 21,
    "start_time": "2023-01-15T15:41:39.786Z"
   },
   {
    "duration": 34,
    "start_time": "2023-01-15T15:41:39.809Z"
   },
   {
    "duration": 32,
    "start_time": "2023-01-15T15:41:39.844Z"
   },
   {
    "duration": 21,
    "start_time": "2023-01-15T15:41:39.879Z"
   },
   {
    "duration": 252,
    "start_time": "2023-01-15T15:41:39.903Z"
   },
   {
    "duration": 6,
    "start_time": "2023-01-15T15:41:40.157Z"
   },
   {
    "duration": 3,
    "start_time": "2023-01-15T15:41:40.165Z"
   },
   {
    "duration": 6,
    "start_time": "2023-01-15T15:41:40.170Z"
   },
   {
    "duration": 16,
    "start_time": "2023-01-15T15:41:40.179Z"
   },
   {
    "duration": 42,
    "start_time": "2023-01-15T15:41:40.196Z"
   },
   {
    "duration": 19,
    "start_time": "2023-01-15T15:41:40.240Z"
   },
   {
    "duration": 179,
    "start_time": "2023-01-15T15:41:40.261Z"
   },
   {
    "duration": 240,
    "start_time": "2023-01-15T15:41:40.442Z"
   },
   {
    "duration": 260,
    "start_time": "2023-01-15T15:41:40.684Z"
   },
   {
    "duration": 736,
    "start_time": "2023-01-15T15:41:40.947Z"
   },
   {
    "duration": 195,
    "start_time": "2023-01-15T15:41:41.685Z"
   },
   {
    "duration": 276,
    "start_time": "2023-01-15T15:41:41.882Z"
   },
   {
    "duration": 325,
    "start_time": "2023-01-15T15:41:42.161Z"
   },
   {
    "duration": 4,
    "start_time": "2023-01-15T15:41:42.487Z"
   },
   {
    "duration": 9,
    "start_time": "2023-01-15T15:41:42.493Z"
   },
   {
    "duration": 36,
    "start_time": "2023-01-15T15:41:42.504Z"
   },
   {
    "duration": 348,
    "start_time": "2023-01-15T15:41:42.542Z"
   },
   {
    "duration": 29420,
    "start_time": "2023-01-15T15:41:42.892Z"
   },
   {
    "duration": 154,
    "start_time": "2023-01-15T15:42:12.314Z"
   },
   {
    "duration": 370,
    "start_time": "2023-01-15T15:42:12.470Z"
   },
   {
    "duration": 50,
    "start_time": "2023-01-15T15:44:47.801Z"
   },
   {
    "duration": 1743,
    "start_time": "2023-01-15T15:44:54.603Z"
   },
   {
    "duration": 51,
    "start_time": "2023-01-15T15:44:56.348Z"
   },
   {
    "duration": 12,
    "start_time": "2023-01-15T15:44:56.401Z"
   },
   {
    "duration": 25,
    "start_time": "2023-01-15T15:44:56.415Z"
   },
   {
    "duration": 11,
    "start_time": "2023-01-15T15:44:56.443Z"
   },
   {
    "duration": 25,
    "start_time": "2023-01-15T15:44:56.456Z"
   },
   {
    "duration": 17,
    "start_time": "2023-01-15T15:44:56.483Z"
   },
   {
    "duration": 8,
    "start_time": "2023-01-15T15:44:56.502Z"
   },
   {
    "duration": 25,
    "start_time": "2023-01-15T15:44:56.512Z"
   },
   {
    "duration": 221,
    "start_time": "2023-01-15T15:44:56.539Z"
   },
   {
    "duration": 6,
    "start_time": "2023-01-15T15:44:56.762Z"
   },
   {
    "duration": 6,
    "start_time": "2023-01-15T15:44:56.770Z"
   },
   {
    "duration": 10,
    "start_time": "2023-01-15T15:44:56.778Z"
   },
   {
    "duration": 45,
    "start_time": "2023-01-15T15:44:56.791Z"
   },
   {
    "duration": 18,
    "start_time": "2023-01-15T15:44:56.840Z"
   },
   {
    "duration": 26,
    "start_time": "2023-01-15T15:44:56.860Z"
   },
   {
    "duration": 179,
    "start_time": "2023-01-15T15:44:56.888Z"
   },
   {
    "duration": 283,
    "start_time": "2023-01-15T15:44:57.069Z"
   },
   {
    "duration": 10,
    "start_time": "2023-01-15T15:44:57.354Z"
   },
   {
    "duration": 275,
    "start_time": "2023-01-15T15:44:57.366Z"
   },
   {
    "duration": 741,
    "start_time": "2023-01-15T15:44:57.643Z"
   },
   {
    "duration": 216,
    "start_time": "2023-01-15T15:44:58.386Z"
   },
   {
    "duration": 275,
    "start_time": "2023-01-15T15:44:58.603Z"
   },
   {
    "duration": 318,
    "start_time": "2023-01-15T15:44:58.880Z"
   },
   {
    "duration": 4,
    "start_time": "2023-01-15T15:44:59.200Z"
   },
   {
    "duration": 20,
    "start_time": "2023-01-15T15:44:59.205Z"
   },
   {
    "duration": 21,
    "start_time": "2023-01-15T15:44:59.228Z"
   },
   {
    "duration": 355,
    "start_time": "2023-01-15T15:44:59.250Z"
   },
   {
    "duration": 28840,
    "start_time": "2023-01-15T15:44:59.607Z"
   },
   {
    "duration": 129,
    "start_time": "2023-01-15T15:45:28.449Z"
   },
   {
    "duration": 366,
    "start_time": "2023-01-15T15:45:28.580Z"
   },
   {
    "duration": 219,
    "start_time": "2023-01-15T15:45:34.209Z"
   },
   {
    "duration": 774,
    "start_time": "2023-01-15T15:50:03.402Z"
   },
   {
    "duration": 643,
    "start_time": "2023-01-15T15:50:17.648Z"
   },
   {
    "duration": 1656,
    "start_time": "2023-01-15T15:50:25.683Z"
   },
   {
    "duration": 49,
    "start_time": "2023-01-15T15:50:27.341Z"
   },
   {
    "duration": 12,
    "start_time": "2023-01-15T15:50:27.391Z"
   },
   {
    "duration": 10,
    "start_time": "2023-01-15T15:50:27.406Z"
   },
   {
    "duration": 36,
    "start_time": "2023-01-15T15:50:27.417Z"
   },
   {
    "duration": 42,
    "start_time": "2023-01-15T15:50:27.455Z"
   },
   {
    "duration": 38,
    "start_time": "2023-01-15T15:50:27.499Z"
   },
   {
    "duration": 16,
    "start_time": "2023-01-15T15:50:27.539Z"
   },
   {
    "duration": 29,
    "start_time": "2023-01-15T15:50:27.556Z"
   },
   {
    "duration": 228,
    "start_time": "2023-01-15T15:50:27.588Z"
   },
   {
    "duration": 6,
    "start_time": "2023-01-15T15:50:27.824Z"
   },
   {
    "duration": 16,
    "start_time": "2023-01-15T15:50:27.834Z"
   },
   {
    "duration": 26,
    "start_time": "2023-01-15T15:50:27.851Z"
   },
   {
    "duration": 28,
    "start_time": "2023-01-15T15:50:27.879Z"
   },
   {
    "duration": 30,
    "start_time": "2023-01-15T15:50:27.908Z"
   },
   {
    "duration": 16,
    "start_time": "2023-01-15T15:50:27.939Z"
   },
   {
    "duration": 160,
    "start_time": "2023-01-15T15:50:27.957Z"
   },
   {
    "duration": 236,
    "start_time": "2023-01-15T15:50:28.122Z"
   },
   {
    "duration": 10,
    "start_time": "2023-01-15T15:50:28.360Z"
   },
   {
    "duration": 236,
    "start_time": "2023-01-15T15:50:28.372Z"
   },
   {
    "duration": 728,
    "start_time": "2023-01-15T15:50:28.610Z"
   },
   {
    "duration": 196,
    "start_time": "2023-01-15T15:50:29.340Z"
   },
   {
    "duration": 264,
    "start_time": "2023-01-15T15:50:29.542Z"
   },
   {
    "duration": 285,
    "start_time": "2023-01-15T15:50:29.808Z"
   },
   {
    "duration": 5,
    "start_time": "2023-01-15T15:50:30.094Z"
   },
   {
    "duration": 21,
    "start_time": "2023-01-15T15:50:30.123Z"
   },
   {
    "duration": 39,
    "start_time": "2023-01-15T15:50:30.146Z"
   },
   {
    "duration": 248,
    "start_time": "2023-01-15T15:50:30.189Z"
   },
   {
    "duration": 28421,
    "start_time": "2023-01-15T15:50:30.439Z"
   },
   {
    "duration": 129,
    "start_time": "2023-01-15T15:50:58.861Z"
   },
   {
    "duration": 142,
    "start_time": "2023-01-15T15:50:58.992Z"
   },
   {
    "duration": 1997,
    "start_time": "2023-01-15T15:51:49.147Z"
   },
   {
    "duration": 348,
    "start_time": "2023-01-15T16:02:25.708Z"
   },
   {
    "duration": 342,
    "start_time": "2023-01-15T16:02:46.854Z"
   },
   {
    "duration": 172,
    "start_time": "2023-01-15T16:03:33.686Z"
   },
   {
    "duration": 403,
    "start_time": "2023-01-15T16:03:50.982Z"
   },
   {
    "duration": 306,
    "start_time": "2023-01-15T16:04:04.241Z"
   },
   {
    "duration": 257,
    "start_time": "2023-01-15T16:04:21.690Z"
   },
   {
    "duration": 339,
    "start_time": "2023-01-15T16:04:52.808Z"
   },
   {
    "duration": 308,
    "start_time": "2023-01-15T16:05:12.935Z"
   },
   {
    "duration": 407,
    "start_time": "2023-01-15T16:05:33.938Z"
   },
   {
    "duration": 325,
    "start_time": "2023-01-15T16:05:49.881Z"
   },
   {
    "duration": 309,
    "start_time": "2023-01-15T16:09:10.464Z"
   },
   {
    "duration": 308,
    "start_time": "2023-01-15T16:09:23.319Z"
   },
   {
    "duration": 293,
    "start_time": "2023-01-15T16:09:42.943Z"
   },
   {
    "duration": 286,
    "start_time": "2023-01-15T16:09:50.375Z"
   },
   {
    "duration": 305,
    "start_time": "2023-01-15T16:10:05.899Z"
   },
   {
    "duration": 124,
    "start_time": "2023-01-15T16:14:49.101Z"
   },
   {
    "duration": 294,
    "start_time": "2023-01-15T16:15:06.134Z"
   },
   {
    "duration": 136,
    "start_time": "2023-01-15T16:25:31.001Z"
   },
   {
    "duration": 75,
    "start_time": "2023-01-15T16:26:04.706Z"
   },
   {
    "duration": 1658,
    "start_time": "2023-01-15T16:26:10.273Z"
   },
   {
    "duration": 50,
    "start_time": "2023-01-15T16:26:11.935Z"
   },
   {
    "duration": 13,
    "start_time": "2023-01-15T16:26:11.987Z"
   },
   {
    "duration": 30,
    "start_time": "2023-01-15T16:26:12.003Z"
   },
   {
    "duration": 21,
    "start_time": "2023-01-15T16:26:12.034Z"
   },
   {
    "duration": 15,
    "start_time": "2023-01-15T16:26:12.056Z"
   },
   {
    "duration": 10,
    "start_time": "2023-01-15T16:26:12.073Z"
   },
   {
    "duration": 6,
    "start_time": "2023-01-15T16:26:12.085Z"
   },
   {
    "duration": 22,
    "start_time": "2023-01-15T16:26:12.093Z"
   },
   {
    "duration": 216,
    "start_time": "2023-01-15T16:26:12.124Z"
   },
   {
    "duration": 5,
    "start_time": "2023-01-15T16:26:12.341Z"
   },
   {
    "duration": 6,
    "start_time": "2023-01-15T16:26:12.348Z"
   },
   {
    "duration": 9,
    "start_time": "2023-01-15T16:26:12.356Z"
   },
   {
    "duration": 15,
    "start_time": "2023-01-15T16:26:12.367Z"
   },
   {
    "duration": 12,
    "start_time": "2023-01-15T16:26:12.384Z"
   },
   {
    "duration": 37,
    "start_time": "2023-01-15T16:26:12.397Z"
   },
   {
    "duration": 158,
    "start_time": "2023-01-15T16:26:12.436Z"
   },
   {
    "duration": 278,
    "start_time": "2023-01-15T16:26:12.596Z"
   },
   {
    "duration": 11,
    "start_time": "2023-01-15T16:26:12.876Z"
   },
   {
    "duration": 263,
    "start_time": "2023-01-15T16:26:12.888Z"
   },
   {
    "duration": 756,
    "start_time": "2023-01-15T16:26:13.152Z"
   },
   {
    "duration": 286,
    "start_time": "2023-01-15T16:26:13.910Z"
   },
   {
    "duration": 306,
    "start_time": "2023-01-15T16:26:14.198Z"
   },
   {
    "duration": 309,
    "start_time": "2023-01-15T16:26:14.506Z"
   },
   {
    "duration": 384,
    "start_time": "2023-01-15T16:26:14.817Z"
   },
   {
    "duration": 21,
    "start_time": "2023-01-15T16:26:15.204Z"
   },
   {
    "duration": 18,
    "start_time": "2023-01-15T16:26:15.228Z"
   },
   {
    "duration": 7,
    "start_time": "2023-01-15T16:26:15.249Z"
   },
   {
    "duration": 178,
    "start_time": "2023-01-15T16:26:15.258Z"
   },
   {
    "duration": 28726,
    "start_time": "2023-01-15T16:26:15.438Z"
   },
   {
    "duration": 129,
    "start_time": "2023-01-15T16:26:44.166Z"
   },
   {
    "duration": 82,
    "start_time": "2023-01-15T16:26:44.297Z"
   },
   {
    "duration": 0,
    "start_time": "2023-01-15T16:26:44.381Z"
   },
   {
    "duration": 78,
    "start_time": "2023-01-15T16:27:38.262Z"
   },
   {
    "duration": 83,
    "start_time": "2023-01-15T16:28:31.373Z"
   },
   {
    "duration": 8,
    "start_time": "2023-01-15T16:33:53.436Z"
   },
   {
    "duration": 9,
    "start_time": "2023-01-15T16:34:10.581Z"
   },
   {
    "duration": 1643,
    "start_time": "2023-01-15T16:34:17.509Z"
   },
   {
    "duration": 51,
    "start_time": "2023-01-15T16:34:19.155Z"
   },
   {
    "duration": 12,
    "start_time": "2023-01-15T16:34:19.207Z"
   },
   {
    "duration": 30,
    "start_time": "2023-01-15T16:34:19.221Z"
   },
   {
    "duration": 10,
    "start_time": "2023-01-15T16:34:19.254Z"
   },
   {
    "duration": 26,
    "start_time": "2023-01-15T16:34:19.266Z"
   },
   {
    "duration": 17,
    "start_time": "2023-01-15T16:34:19.294Z"
   },
   {
    "duration": 17,
    "start_time": "2023-01-15T16:34:19.313Z"
   },
   {
    "duration": 28,
    "start_time": "2023-01-15T16:34:19.339Z"
   },
   {
    "duration": 267,
    "start_time": "2023-01-15T16:34:19.369Z"
   },
   {
    "duration": 6,
    "start_time": "2023-01-15T16:34:19.638Z"
   },
   {
    "duration": 13,
    "start_time": "2023-01-15T16:34:19.646Z"
   },
   {
    "duration": 9,
    "start_time": "2023-01-15T16:34:19.661Z"
   },
   {
    "duration": 16,
    "start_time": "2023-01-15T16:34:19.672Z"
   },
   {
    "duration": 13,
    "start_time": "2023-01-15T16:34:19.689Z"
   },
   {
    "duration": 35,
    "start_time": "2023-01-15T16:34:19.704Z"
   },
   {
    "duration": 166,
    "start_time": "2023-01-15T16:34:19.742Z"
   },
   {
    "duration": 259,
    "start_time": "2023-01-15T16:34:19.910Z"
   },
   {
    "duration": 10,
    "start_time": "2023-01-15T16:34:20.171Z"
   },
   {
    "duration": 275,
    "start_time": "2023-01-15T16:34:20.183Z"
   },
   {
    "duration": 732,
    "start_time": "2023-01-15T16:34:20.460Z"
   },
   {
    "duration": 223,
    "start_time": "2023-01-15T16:34:21.195Z"
   },
   {
    "duration": 284,
    "start_time": "2023-01-15T16:34:21.422Z"
   },
   {
    "duration": 334,
    "start_time": "2023-01-15T16:34:21.708Z"
   },
   {
    "duration": 449,
    "start_time": "2023-01-15T16:34:22.045Z"
   },
   {
    "duration": 5,
    "start_time": "2023-01-15T16:34:22.495Z"
   },
   {
    "duration": 26,
    "start_time": "2023-01-15T16:34:22.501Z"
   },
   {
    "duration": 21,
    "start_time": "2023-01-15T16:34:22.532Z"
   },
   {
    "duration": 171,
    "start_time": "2023-01-15T16:34:22.556Z"
   },
   {
    "duration": 29632,
    "start_time": "2023-01-15T16:34:22.729Z"
   },
   {
    "duration": 136,
    "start_time": "2023-01-15T16:34:52.363Z"
   },
   {
    "duration": 8,
    "start_time": "2023-01-15T16:34:52.501Z"
   },
   {
    "duration": 132,
    "start_time": "2023-01-15T16:34:52.511Z"
   },
   {
    "duration": 152,
    "start_time": "2023-01-15T16:36:36.079Z"
   },
   {
    "duration": 1655,
    "start_time": "2023-01-15T16:36:43.758Z"
   },
   {
    "duration": 61,
    "start_time": "2023-01-15T16:36:45.415Z"
   },
   {
    "duration": 11,
    "start_time": "2023-01-15T16:36:45.478Z"
   },
   {
    "duration": 29,
    "start_time": "2023-01-15T16:36:45.491Z"
   },
   {
    "duration": 84,
    "start_time": "2023-01-15T16:36:45.524Z"
   },
   {
    "duration": 47,
    "start_time": "2023-01-15T16:36:45.610Z"
   },
   {
    "duration": 49,
    "start_time": "2023-01-15T16:36:45.659Z"
   },
   {
    "duration": 19,
    "start_time": "2023-01-15T16:36:45.710Z"
   },
   {
    "duration": 48,
    "start_time": "2023-01-15T16:36:45.739Z"
   },
   {
    "duration": 237,
    "start_time": "2023-01-15T16:36:45.788Z"
   },
   {
    "duration": 7,
    "start_time": "2023-01-15T16:36:46.032Z"
   },
   {
    "duration": 35,
    "start_time": "2023-01-15T16:36:46.041Z"
   },
   {
    "duration": 22,
    "start_time": "2023-01-15T16:36:46.078Z"
   },
   {
    "duration": 44,
    "start_time": "2023-01-15T16:36:46.104Z"
   },
   {
    "duration": 29,
    "start_time": "2023-01-15T16:36:46.150Z"
   },
   {
    "duration": 33,
    "start_time": "2023-01-15T16:36:46.181Z"
   },
   {
    "duration": 190,
    "start_time": "2023-01-15T16:36:46.216Z"
   },
   {
    "duration": 289,
    "start_time": "2023-01-15T16:36:46.409Z"
   },
   {
    "duration": 9,
    "start_time": "2023-01-15T16:36:46.700Z"
   },
   {
    "duration": 288,
    "start_time": "2023-01-15T16:36:46.711Z"
   },
   {
    "duration": 791,
    "start_time": "2023-01-15T16:36:47.001Z"
   },
   {
    "duration": 211,
    "start_time": "2023-01-15T16:36:47.794Z"
   },
   {
    "duration": 287,
    "start_time": "2023-01-15T16:36:48.006Z"
   },
   {
    "duration": 344,
    "start_time": "2023-01-15T16:36:48.295Z"
   },
   {
    "duration": 399,
    "start_time": "2023-01-15T16:36:48.641Z"
   },
   {
    "duration": 10,
    "start_time": "2023-01-15T16:36:49.044Z"
   },
   {
    "duration": 47,
    "start_time": "2023-01-15T16:36:49.056Z"
   },
   {
    "duration": 61,
    "start_time": "2023-01-15T16:36:49.104Z"
   },
   {
    "duration": 173,
    "start_time": "2023-01-15T16:36:49.167Z"
   },
   {
    "duration": 28653,
    "start_time": "2023-01-15T16:36:49.346Z"
   },
   {
    "duration": 132,
    "start_time": "2023-01-15T16:37:18.001Z"
   },
   {
    "duration": 13,
    "start_time": "2023-01-15T16:37:18.143Z"
   },
   {
    "duration": 170,
    "start_time": "2023-01-15T16:37:18.158Z"
   },
   {
    "duration": 76,
    "start_time": "2023-01-16T19:03:16.956Z"
   },
   {
    "duration": 2563,
    "start_time": "2023-01-16T19:04:14.221Z"
   },
   {
    "duration": 111,
    "start_time": "2023-01-16T19:04:28.157Z"
   },
   {
    "duration": 11,
    "start_time": "2023-01-16T19:04:35.260Z"
   },
   {
    "duration": 13,
    "start_time": "2023-01-16T19:04:39.277Z"
   },
   {
    "duration": 2260,
    "start_time": "2023-01-16T19:04:50.011Z"
   },
   {
    "duration": 182,
    "start_time": "2023-01-16T19:04:52.273Z"
   },
   {
    "duration": 13,
    "start_time": "2023-01-16T19:04:52.457Z"
   },
   {
    "duration": 9,
    "start_time": "2023-01-16T19:04:52.476Z"
   },
   {
    "duration": 13,
    "start_time": "2023-01-16T19:04:52.488Z"
   },
   {
    "duration": 17,
    "start_time": "2023-01-16T19:04:52.503Z"
   },
   {
    "duration": 32,
    "start_time": "2023-01-16T19:04:52.523Z"
   },
   {
    "duration": 12,
    "start_time": "2023-01-16T19:04:52.557Z"
   },
   {
    "duration": 17,
    "start_time": "2023-01-16T19:04:52.571Z"
   },
   {
    "duration": 172,
    "start_time": "2023-01-16T19:04:52.592Z"
   },
   {
    "duration": 8,
    "start_time": "2023-01-16T19:04:52.767Z"
   },
   {
    "duration": 22,
    "start_time": "2023-01-16T19:04:52.778Z"
   },
   {
    "duration": 12,
    "start_time": "2023-01-16T19:04:52.802Z"
   },
   {
    "duration": 37,
    "start_time": "2023-01-16T19:04:52.817Z"
   },
   {
    "duration": 32,
    "start_time": "2023-01-16T19:04:52.856Z"
   },
   {
    "duration": 15,
    "start_time": "2023-01-16T19:04:52.890Z"
   },
   {
    "duration": 355,
    "start_time": "2023-01-16T19:04:52.907Z"
   },
   {
    "duration": 11,
    "start_time": "2023-01-16T19:04:53.263Z"
   },
   {
    "duration": 678,
    "start_time": "2023-01-16T19:04:53.280Z"
   },
   {
    "duration": 530,
    "start_time": "2023-01-16T19:04:53.959Z"
   },
   {
    "duration": 897,
    "start_time": "2023-01-16T19:04:54.491Z"
   },
   {
    "duration": 240,
    "start_time": "2023-01-16T19:04:55.390Z"
   },
   {
    "duration": 356,
    "start_time": "2023-01-16T19:04:55.633Z"
   },
   {
    "duration": 330,
    "start_time": "2023-01-16T19:04:55.992Z"
   },
   {
    "duration": 325,
    "start_time": "2023-01-16T19:04:56.335Z"
   },
   {
    "duration": 16,
    "start_time": "2023-01-16T19:04:56.663Z"
   },
   {
    "duration": 9,
    "start_time": "2023-01-16T19:04:56.681Z"
   },
   {
    "duration": 7,
    "start_time": "2023-01-16T19:04:56.694Z"
   },
   {
    "duration": 175,
    "start_time": "2023-01-16T19:04:56.703Z"
   },
   {
    "duration": 30382,
    "start_time": "2023-01-16T19:04:56.879Z"
   },
   {
    "duration": 149,
    "start_time": "2023-01-16T19:05:27.267Z"
   },
   {
    "duration": 10,
    "start_time": "2023-01-16T19:05:27.417Z"
   },
   {
    "duration": 233,
    "start_time": "2023-01-16T19:05:27.429Z"
   },
   {
    "duration": 5,
    "start_time": "2023-01-16T19:06:09.592Z"
   },
   {
    "duration": 6,
    "start_time": "2023-01-16T19:06:18.148Z"
   },
   {
    "duration": 1821,
    "start_time": "2023-01-16T19:06:26.081Z"
   },
   {
    "duration": 62,
    "start_time": "2023-01-16T19:06:27.905Z"
   },
   {
    "duration": 11,
    "start_time": "2023-01-16T19:06:27.969Z"
   },
   {
    "duration": 5,
    "start_time": "2023-01-16T19:06:27.983Z"
   },
   {
    "duration": 11,
    "start_time": "2023-01-16T19:06:27.990Z"
   },
   {
    "duration": 22,
    "start_time": "2023-01-16T19:06:28.003Z"
   },
   {
    "duration": 13,
    "start_time": "2023-01-16T19:06:28.027Z"
   },
   {
    "duration": 34,
    "start_time": "2023-01-16T19:06:28.042Z"
   },
   {
    "duration": 14,
    "start_time": "2023-01-16T19:06:28.078Z"
   },
   {
    "duration": 145,
    "start_time": "2023-01-16T19:06:28.094Z"
   },
   {
    "duration": 6,
    "start_time": "2023-01-16T19:06:28.241Z"
   },
   {
    "duration": 23,
    "start_time": "2023-01-16T19:06:28.248Z"
   },
   {
    "duration": 10,
    "start_time": "2023-01-16T19:06:28.273Z"
   },
   {
    "duration": 27,
    "start_time": "2023-01-16T19:06:28.285Z"
   },
   {
    "duration": 11,
    "start_time": "2023-01-16T19:06:28.314Z"
   },
   {
    "duration": 49,
    "start_time": "2023-01-16T19:06:28.326Z"
   },
   {
    "duration": 253,
    "start_time": "2023-01-16T19:06:28.377Z"
   },
   {
    "duration": 12,
    "start_time": "2023-01-16T19:06:28.632Z"
   },
   {
    "duration": 23,
    "start_time": "2023-01-16T19:06:28.646Z"
   },
   {
    "duration": 253,
    "start_time": "2023-01-16T19:06:28.671Z"
   },
   {
    "duration": 789,
    "start_time": "2023-01-16T19:06:28.926Z"
   },
   {
    "duration": 200,
    "start_time": "2023-01-16T19:06:29.717Z"
   },
   {
    "duration": 273,
    "start_time": "2023-01-16T19:06:29.922Z"
   },
   {
    "duration": 439,
    "start_time": "2023-01-16T19:06:30.197Z"
   },
   {
    "duration": 400,
    "start_time": "2023-01-16T19:06:30.638Z"
   },
   {
    "duration": 6,
    "start_time": "2023-01-16T19:06:31.040Z"
   },
   {
    "duration": 13,
    "start_time": "2023-01-16T19:06:31.048Z"
   },
   {
    "duration": 9,
    "start_time": "2023-01-16T19:06:31.065Z"
   },
   {
    "duration": 166,
    "start_time": "2023-01-16T19:06:31.076Z"
   },
   {
    "duration": 30371,
    "start_time": "2023-01-16T19:06:31.246Z"
   },
   {
    "duration": 132,
    "start_time": "2023-01-16T19:07:01.619Z"
   },
   {
    "duration": 10,
    "start_time": "2023-01-16T19:07:01.758Z"
   },
   {
    "duration": 185,
    "start_time": "2023-01-16T19:07:01.769Z"
   },
   {
    "duration": 28,
    "start_time": "2023-01-16T19:07:02.022Z"
   },
   {
    "duration": 346,
    "start_time": "2023-01-16T19:07:02.052Z"
   },
   {
    "duration": 0,
    "start_time": "2023-01-16T19:07:02.400Z"
   },
   {
    "duration": 164,
    "start_time": "2023-01-16T19:07:08.191Z"
   },
   {
    "duration": 1835,
    "start_time": "2023-01-16T19:15:02.540Z"
   },
   {
    "duration": 51,
    "start_time": "2023-01-16T19:15:04.377Z"
   },
   {
    "duration": 15,
    "start_time": "2023-01-16T19:15:04.430Z"
   },
   {
    "duration": 22,
    "start_time": "2023-01-16T19:15:04.448Z"
   },
   {
    "duration": 13,
    "start_time": "2023-01-16T19:15:04.472Z"
   },
   {
    "duration": 26,
    "start_time": "2023-01-16T19:15:04.487Z"
   },
   {
    "duration": 26,
    "start_time": "2023-01-16T19:15:04.515Z"
   },
   {
    "duration": 23,
    "start_time": "2023-01-16T19:15:04.543Z"
   },
   {
    "duration": 29,
    "start_time": "2023-01-16T19:15:04.568Z"
   },
   {
    "duration": 137,
    "start_time": "2023-01-16T19:15:04.600Z"
   },
   {
    "duration": 6,
    "start_time": "2023-01-16T19:15:04.739Z"
   },
   {
    "duration": 21,
    "start_time": "2023-01-16T19:15:04.747Z"
   },
   {
    "duration": 9,
    "start_time": "2023-01-16T19:15:04.770Z"
   },
   {
    "duration": 19,
    "start_time": "2023-01-16T19:15:04.782Z"
   },
   {
    "duration": 10,
    "start_time": "2023-01-16T19:15:04.803Z"
   },
   {
    "duration": 37,
    "start_time": "2023-01-16T19:15:04.814Z"
   },
   {
    "duration": 241,
    "start_time": "2023-01-16T19:15:04.853Z"
   },
   {
    "duration": 9,
    "start_time": "2023-01-16T19:15:05.096Z"
   },
   {
    "duration": 246,
    "start_time": "2023-01-16T19:15:05.107Z"
   },
   {
    "duration": 744,
    "start_time": "2023-01-16T19:15:05.355Z"
   },
   {
    "duration": 216,
    "start_time": "2023-01-16T19:15:06.101Z"
   },
   {
    "duration": 320,
    "start_time": "2023-01-16T19:15:06.324Z"
   },
   {
    "duration": 286,
    "start_time": "2023-01-16T19:15:06.646Z"
   },
   {
    "duration": 364,
    "start_time": "2023-01-16T19:15:06.934Z"
   },
   {
    "duration": 4,
    "start_time": "2023-01-16T19:15:07.300Z"
   },
   {
    "duration": 29,
    "start_time": "2023-01-16T19:15:07.324Z"
   },
   {
    "duration": 30,
    "start_time": "2023-01-16T19:15:07.356Z"
   },
   {
    "duration": 240,
    "start_time": "2023-01-16T19:15:07.389Z"
   },
   {
    "duration": 28162,
    "start_time": "2023-01-16T19:15:07.635Z"
   },
   {
    "duration": 139,
    "start_time": "2023-01-16T19:15:35.799Z"
   },
   {
    "duration": 6,
    "start_time": "2023-01-16T19:15:35.940Z"
   },
   {
    "duration": 81,
    "start_time": "2023-01-16T19:15:35.948Z"
   },
   {
    "duration": 10,
    "start_time": "2023-01-17T09:28:06.607Z"
   },
   {
    "duration": 42,
    "start_time": "2023-01-17T09:28:43.604Z"
   },
   {
    "duration": 3449,
    "start_time": "2023-01-17T09:28:53.632Z"
   },
   {
    "duration": 148,
    "start_time": "2023-01-17T09:28:57.083Z"
   },
   {
    "duration": 20,
    "start_time": "2023-01-17T09:28:57.232Z"
   },
   {
    "duration": 7,
    "start_time": "2023-01-17T09:28:57.255Z"
   },
   {
    "duration": 36,
    "start_time": "2023-01-17T09:28:57.264Z"
   },
   {
    "duration": 38,
    "start_time": "2023-01-17T09:28:57.302Z"
   },
   {
    "duration": 27,
    "start_time": "2023-01-17T09:28:57.342Z"
   },
   {
    "duration": 34,
    "start_time": "2023-01-17T09:28:57.371Z"
   },
   {
    "duration": 48,
    "start_time": "2023-01-17T09:28:57.407Z"
   },
   {
    "duration": 121,
    "start_time": "2023-01-17T09:28:57.459Z"
   },
   {
    "duration": 5,
    "start_time": "2023-01-17T09:28:57.582Z"
   },
   {
    "duration": 24,
    "start_time": "2023-01-17T09:28:57.589Z"
   },
   {
    "duration": 25,
    "start_time": "2023-01-17T09:28:57.615Z"
   },
   {
    "duration": 20,
    "start_time": "2023-01-17T09:28:57.642Z"
   },
   {
    "duration": 20,
    "start_time": "2023-01-17T09:28:57.663Z"
   },
   {
    "duration": 10,
    "start_time": "2023-01-17T09:28:57.685Z"
   },
   {
    "duration": 232,
    "start_time": "2023-01-17T09:28:57.697Z"
   },
   {
    "duration": 10,
    "start_time": "2023-01-17T09:28:57.931Z"
   },
   {
    "duration": 251,
    "start_time": "2023-01-17T09:28:57.943Z"
   },
   {
    "duration": 749,
    "start_time": "2023-01-17T09:28:58.195Z"
   },
   {
    "duration": 200,
    "start_time": "2023-01-17T09:28:58.946Z"
   },
   {
    "duration": 288,
    "start_time": "2023-01-17T09:28:59.148Z"
   },
   {
    "duration": 422,
    "start_time": "2023-01-17T09:28:59.438Z"
   },
   {
    "duration": 300,
    "start_time": "2023-01-17T09:28:59.862Z"
   },
   {
    "duration": 15,
    "start_time": "2023-01-17T09:29:00.164Z"
   },
   {
    "duration": 19,
    "start_time": "2023-01-17T09:29:00.181Z"
   },
   {
    "duration": 31,
    "start_time": "2023-01-17T09:29:00.202Z"
   },
   {
    "duration": 48,
    "start_time": "2023-01-17T09:29:00.237Z"
   },
   {
    "duration": 179,
    "start_time": "2023-01-17T09:29:00.287Z"
   },
   {
    "duration": 0,
    "start_time": "2023-01-17T09:29:00.469Z"
   },
   {
    "duration": 0,
    "start_time": "2023-01-17T09:29:00.471Z"
   },
   {
    "duration": 0,
    "start_time": "2023-01-17T09:29:00.478Z"
   },
   {
    "duration": 0,
    "start_time": "2023-01-17T09:29:00.479Z"
   },
   {
    "duration": 0,
    "start_time": "2023-01-17T09:29:00.481Z"
   },
   {
    "duration": 4,
    "start_time": "2023-01-17T09:36:15.107Z"
   },
   {
    "duration": 51,
    "start_time": "2023-01-17T09:36:17.389Z"
   },
   {
    "duration": 5,
    "start_time": "2023-01-17T09:37:21.680Z"
   },
   {
    "duration": 4,
    "start_time": "2023-01-17T09:41:12.499Z"
   },
   {
    "duration": 13,
    "start_time": "2023-01-17T09:45:19.168Z"
   },
   {
    "duration": 12,
    "start_time": "2023-01-17T09:46:28.063Z"
   },
   {
    "duration": 47,
    "start_time": "2023-01-17T09:46:30.582Z"
   },
   {
    "duration": 2160,
    "start_time": "2023-01-17T09:47:07.609Z"
   },
   {
    "duration": 45,
    "start_time": "2023-01-17T09:47:09.771Z"
   },
   {
    "duration": 15,
    "start_time": "2023-01-17T09:47:09.818Z"
   },
   {
    "duration": 7,
    "start_time": "2023-01-17T09:47:09.836Z"
   },
   {
    "duration": 25,
    "start_time": "2023-01-17T09:47:09.845Z"
   },
   {
    "duration": 21,
    "start_time": "2023-01-17T09:47:09.872Z"
   },
   {
    "duration": 14,
    "start_time": "2023-01-17T09:47:09.895Z"
   },
   {
    "duration": 11,
    "start_time": "2023-01-17T09:47:09.911Z"
   },
   {
    "duration": 18,
    "start_time": "2023-01-17T09:47:09.925Z"
   },
   {
    "duration": 188,
    "start_time": "2023-01-17T09:47:09.947Z"
   },
   {
    "duration": 6,
    "start_time": "2023-01-17T09:47:10.137Z"
   },
   {
    "duration": 13,
    "start_time": "2023-01-17T09:47:10.145Z"
   },
   {
    "duration": 9,
    "start_time": "2023-01-17T09:47:10.161Z"
   },
   {
    "duration": 19,
    "start_time": "2023-01-17T09:47:10.177Z"
   },
   {
    "duration": 15,
    "start_time": "2023-01-17T09:47:10.198Z"
   },
   {
    "duration": 13,
    "start_time": "2023-01-17T09:47:10.215Z"
   },
   {
    "duration": 291,
    "start_time": "2023-01-17T09:47:10.230Z"
   },
   {
    "duration": 14,
    "start_time": "2023-01-17T09:47:10.523Z"
   },
   {
    "duration": 290,
    "start_time": "2023-01-17T09:47:10.539Z"
   },
   {
    "duration": 745,
    "start_time": "2023-01-17T09:47:10.831Z"
   },
   {
    "duration": 213,
    "start_time": "2023-01-17T09:47:11.579Z"
   },
   {
    "duration": 288,
    "start_time": "2023-01-17T09:47:11.794Z"
   },
   {
    "duration": 331,
    "start_time": "2023-01-17T09:47:12.084Z"
   },
   {
    "duration": 422,
    "start_time": "2023-01-17T09:47:12.417Z"
   },
   {
    "duration": 4,
    "start_time": "2023-01-17T09:47:12.841Z"
   },
   {
    "duration": 30,
    "start_time": "2023-01-17T09:47:12.847Z"
   },
   {
    "duration": 17,
    "start_time": "2023-01-17T09:47:12.879Z"
   },
   {
    "duration": 16,
    "start_time": "2023-01-17T09:47:12.900Z"
   },
   {
    "duration": 87,
    "start_time": "2023-01-17T09:47:12.918Z"
   },
   {
    "duration": 6,
    "start_time": "2023-01-17T09:47:13.007Z"
   },
   {
    "duration": 62,
    "start_time": "2023-01-17T09:47:13.016Z"
   },
   {
    "duration": 7,
    "start_time": "2023-01-17T09:47:13.081Z"
   },
   {
    "duration": 20,
    "start_time": "2023-01-17T09:47:13.091Z"
   },
   {
    "duration": 176,
    "start_time": "2023-01-17T09:47:13.114Z"
   },
   {
    "duration": 28705,
    "start_time": "2023-01-17T09:47:13.379Z"
   },
   {
    "duration": 118,
    "start_time": "2023-01-17T09:47:42.086Z"
   },
   {
    "duration": 6,
    "start_time": "2023-01-17T09:47:42.206Z"
   },
   {
    "duration": 264,
    "start_time": "2023-01-17T09:47:42.214Z"
   },
   {
    "duration": 5,
    "start_time": "2023-01-17T09:48:05.067Z"
   },
   {
    "duration": 4,
    "start_time": "2023-01-17T09:48:08.543Z"
   },
   {
    "duration": 314,
    "start_time": "2023-01-17T09:52:14.381Z"
   },
   {
    "duration": 9,
    "start_time": "2023-01-17T09:53:37.524Z"
   },
   {
    "duration": 9,
    "start_time": "2023-01-17T09:53:50.990Z"
   },
   {
    "duration": 4,
    "start_time": "2023-01-17T09:54:01.600Z"
   },
   {
    "duration": 13,
    "start_time": "2023-01-17T09:54:45.359Z"
   },
   {
    "duration": 87,
    "start_time": "2023-01-17T09:57:23.992Z"
   },
   {
    "duration": 1825,
    "start_time": "2023-01-17T09:58:13.274Z"
   },
   {
    "duration": 45,
    "start_time": "2023-01-17T09:58:15.101Z"
   },
   {
    "duration": 11,
    "start_time": "2023-01-17T09:58:15.148Z"
   },
   {
    "duration": 5,
    "start_time": "2023-01-17T09:58:15.162Z"
   },
   {
    "duration": 15,
    "start_time": "2023-01-17T09:58:15.169Z"
   },
   {
    "duration": 19,
    "start_time": "2023-01-17T09:58:15.186Z"
   },
   {
    "duration": 11,
    "start_time": "2023-01-17T09:58:15.206Z"
   },
   {
    "duration": 7,
    "start_time": "2023-01-17T09:58:15.219Z"
   },
   {
    "duration": 19,
    "start_time": "2023-01-17T09:58:15.227Z"
   },
   {
    "duration": 157,
    "start_time": "2023-01-17T09:58:15.248Z"
   },
   {
    "duration": 4,
    "start_time": "2023-01-17T09:58:15.407Z"
   },
   {
    "duration": 7,
    "start_time": "2023-01-17T09:58:15.413Z"
   },
   {
    "duration": 13,
    "start_time": "2023-01-17T09:58:15.422Z"
   },
   {
    "duration": 30,
    "start_time": "2023-01-17T09:58:15.437Z"
   },
   {
    "duration": 14,
    "start_time": "2023-01-17T09:58:15.469Z"
   },
   {
    "duration": 51,
    "start_time": "2023-01-17T09:58:15.484Z"
   },
   {
    "duration": 284,
    "start_time": "2023-01-17T09:58:15.537Z"
   },
   {
    "duration": 9,
    "start_time": "2023-01-17T09:58:15.823Z"
   },
   {
    "duration": 244,
    "start_time": "2023-01-17T09:58:15.834Z"
   },
   {
    "duration": 696,
    "start_time": "2023-01-17T09:58:16.080Z"
   },
   {
    "duration": 200,
    "start_time": "2023-01-17T09:58:16.778Z"
   },
   {
    "duration": 247,
    "start_time": "2023-01-17T09:58:16.979Z"
   },
   {
    "duration": 300,
    "start_time": "2023-01-17T09:58:17.228Z"
   },
   {
    "duration": 421,
    "start_time": "2023-01-17T09:58:17.530Z"
   },
   {
    "duration": 4,
    "start_time": "2023-01-17T09:58:17.952Z"
   },
   {
    "duration": 32,
    "start_time": "2023-01-17T09:58:17.959Z"
   },
   {
    "duration": 65,
    "start_time": "2023-01-17T09:58:17.992Z"
   },
   {
    "duration": 43,
    "start_time": "2023-01-17T09:58:18.061Z"
   },
   {
    "duration": 114,
    "start_time": "2023-01-17T09:58:18.106Z"
   },
   {
    "duration": 6,
    "start_time": "2023-01-17T09:58:18.222Z"
   },
   {
    "duration": 27,
    "start_time": "2023-01-17T09:58:18.230Z"
   },
   {
    "duration": 26,
    "start_time": "2023-01-17T09:58:18.259Z"
   },
   {
    "duration": 26,
    "start_time": "2023-01-17T09:58:18.287Z"
   },
   {
    "duration": 34,
    "start_time": "2023-01-17T09:58:18.314Z"
   },
   {
    "duration": 211,
    "start_time": "2023-01-17T09:58:18.350Z"
   },
   {
    "duration": 84,
    "start_time": "2023-01-17T09:58:18.563Z"
   },
   {
    "duration": 81,
    "start_time": "2023-01-17T09:58:18.649Z"
   },
   {
    "duration": 16,
    "start_time": "2023-01-17T09:58:18.732Z"
   },
   {
    "duration": 0,
    "start_time": "2023-01-17T09:58:18.751Z"
   },
   {
    "duration": 12,
    "start_time": "2023-01-17T10:03:11.940Z"
   },
   {
    "duration": 10,
    "start_time": "2023-01-17T10:03:19.485Z"
   },
   {
    "duration": 1741,
    "start_time": "2023-01-17T10:04:22.698Z"
   },
   {
    "duration": 43,
    "start_time": "2023-01-17T10:04:24.441Z"
   },
   {
    "duration": 39,
    "start_time": "2023-01-17T10:04:24.486Z"
   },
   {
    "duration": 61,
    "start_time": "2023-01-17T10:04:24.527Z"
   },
   {
    "duration": 77,
    "start_time": "2023-01-17T10:04:24.590Z"
   },
   {
    "duration": 84,
    "start_time": "2023-01-17T10:04:24.669Z"
   },
   {
    "duration": 76,
    "start_time": "2023-01-17T10:04:24.755Z"
   },
   {
    "duration": 58,
    "start_time": "2023-01-17T10:04:24.832Z"
   },
   {
    "duration": 72,
    "start_time": "2023-01-17T10:04:24.891Z"
   },
   {
    "duration": 241,
    "start_time": "2023-01-17T10:04:24.964Z"
   },
   {
    "duration": 4,
    "start_time": "2023-01-17T10:04:25.207Z"
   },
   {
    "duration": 10,
    "start_time": "2023-01-17T10:04:25.213Z"
   },
   {
    "duration": 9,
    "start_time": "2023-01-17T10:04:25.224Z"
   },
   {
    "duration": 48,
    "start_time": "2023-01-17T10:04:25.237Z"
   },
   {
    "duration": 12,
    "start_time": "2023-01-17T10:04:25.287Z"
   },
   {
    "duration": 12,
    "start_time": "2023-01-17T10:04:25.300Z"
   },
   {
    "duration": 246,
    "start_time": "2023-01-17T10:04:25.314Z"
   },
   {
    "duration": 18,
    "start_time": "2023-01-17T10:04:25.561Z"
   },
   {
    "duration": 253,
    "start_time": "2023-01-17T10:04:25.580Z"
   },
   {
    "duration": 667,
    "start_time": "2023-01-17T10:04:25.834Z"
   },
   {
    "duration": 174,
    "start_time": "2023-01-17T10:04:26.503Z"
   },
   {
    "duration": 241,
    "start_time": "2023-01-17T10:04:26.678Z"
   },
   {
    "duration": 279,
    "start_time": "2023-01-17T10:04:26.921Z"
   },
   {
    "duration": 431,
    "start_time": "2023-01-17T10:04:27.202Z"
   },
   {
    "duration": 4,
    "start_time": "2023-01-17T10:04:27.640Z"
   },
   {
    "duration": 13,
    "start_time": "2023-01-17T10:04:27.646Z"
   },
   {
    "duration": 11,
    "start_time": "2023-01-17T10:04:27.660Z"
   },
   {
    "duration": 12,
    "start_time": "2023-01-17T10:04:27.673Z"
   },
   {
    "duration": 58,
    "start_time": "2023-01-17T10:04:27.687Z"
   },
   {
    "duration": 5,
    "start_time": "2023-01-17T10:04:27.746Z"
   },
   {
    "duration": 6,
    "start_time": "2023-01-17T10:04:27.753Z"
   },
   {
    "duration": 8,
    "start_time": "2023-01-17T10:04:27.761Z"
   },
   {
    "duration": 16,
    "start_time": "2023-01-17T10:04:27.771Z"
   },
   {
    "duration": 8,
    "start_time": "2023-01-17T10:04:27.789Z"
   },
   {
    "duration": 160,
    "start_time": "2023-01-17T10:04:27.799Z"
   },
   {
    "duration": 0,
    "start_time": "2023-01-17T10:04:27.960Z"
   },
   {
    "duration": 0,
    "start_time": "2023-01-17T10:04:27.962Z"
   },
   {
    "duration": 0,
    "start_time": "2023-01-17T10:04:27.963Z"
   },
   {
    "duration": 0,
    "start_time": "2023-01-17T10:04:27.965Z"
   },
   {
    "duration": 0,
    "start_time": "2023-01-17T10:04:27.966Z"
   },
   {
    "duration": 3,
    "start_time": "2023-01-17T10:04:35.305Z"
   },
   {
    "duration": 12,
    "start_time": "2023-01-17T10:04:37.499Z"
   },
   {
    "duration": 15,
    "start_time": "2023-01-17T10:05:34.359Z"
   },
   {
    "duration": 5,
    "start_time": "2023-01-17T10:05:52.616Z"
   },
   {
    "duration": 8,
    "start_time": "2023-01-17T10:07:52.553Z"
   },
   {
    "duration": 37,
    "start_time": "2023-01-17T10:09:03.581Z"
   },
   {
    "duration": 33,
    "start_time": "2023-01-17T10:09:41.937Z"
   },
   {
    "duration": 34,
    "start_time": "2023-01-17T10:10:59.203Z"
   },
   {
    "duration": 79,
    "start_time": "2023-01-17T10:11:23.506Z"
   },
   {
    "duration": 78,
    "start_time": "2023-01-17T10:11:41.173Z"
   },
   {
    "duration": 108,
    "start_time": "2023-01-17T10:11:48.793Z"
   },
   {
    "duration": 198,
    "start_time": "2023-01-17T10:11:57.685Z"
   },
   {
    "duration": 163,
    "start_time": "2023-01-17T10:12:23.721Z"
   },
   {
    "duration": 1694,
    "start_time": "2023-01-17T10:12:55.287Z"
   },
   {
    "duration": 43,
    "start_time": "2023-01-17T10:12:56.983Z"
   },
   {
    "duration": 10,
    "start_time": "2023-01-17T10:12:57.027Z"
   },
   {
    "duration": 14,
    "start_time": "2023-01-17T10:12:57.039Z"
   },
   {
    "duration": 12,
    "start_time": "2023-01-17T10:12:57.054Z"
   },
   {
    "duration": 14,
    "start_time": "2023-01-17T10:12:57.067Z"
   },
   {
    "duration": 11,
    "start_time": "2023-01-17T10:12:57.082Z"
   },
   {
    "duration": 6,
    "start_time": "2023-01-17T10:12:57.094Z"
   },
   {
    "duration": 21,
    "start_time": "2023-01-17T10:12:57.101Z"
   },
   {
    "duration": 130,
    "start_time": "2023-01-17T10:12:57.124Z"
   },
   {
    "duration": 5,
    "start_time": "2023-01-17T10:12:57.255Z"
   },
   {
    "duration": 9,
    "start_time": "2023-01-17T10:12:57.261Z"
   },
   {
    "duration": 6,
    "start_time": "2023-01-17T10:12:57.272Z"
   },
   {
    "duration": 19,
    "start_time": "2023-01-17T10:12:57.279Z"
   },
   {
    "duration": 11,
    "start_time": "2023-01-17T10:12:57.299Z"
   },
   {
    "duration": 18,
    "start_time": "2023-01-17T10:12:57.311Z"
   },
   {
    "duration": 229,
    "start_time": "2023-01-17T10:12:57.331Z"
   },
   {
    "duration": 17,
    "start_time": "2023-01-17T10:12:57.562Z"
   },
   {
    "duration": 221,
    "start_time": "2023-01-17T10:12:57.580Z"
   },
   {
    "duration": 705,
    "start_time": "2023-01-17T10:12:57.802Z"
   },
   {
    "duration": 185,
    "start_time": "2023-01-17T10:12:58.509Z"
   },
   {
    "duration": 231,
    "start_time": "2023-01-17T10:12:58.695Z"
   },
   {
    "duration": 302,
    "start_time": "2023-01-17T10:12:58.928Z"
   },
   {
    "duration": 414,
    "start_time": "2023-01-17T10:12:59.231Z"
   },
   {
    "duration": 4,
    "start_time": "2023-01-17T10:12:59.647Z"
   },
   {
    "duration": 25,
    "start_time": "2023-01-17T10:12:59.653Z"
   },
   {
    "duration": 4,
    "start_time": "2023-01-17T10:12:59.680Z"
   },
   {
    "duration": 8,
    "start_time": "2023-01-17T10:12:59.688Z"
   },
   {
    "duration": 74,
    "start_time": "2023-01-17T10:12:59.698Z"
   },
   {
    "duration": 5,
    "start_time": "2023-01-17T10:12:59.778Z"
   },
   {
    "duration": 12,
    "start_time": "2023-01-17T10:12:59.785Z"
   },
   {
    "duration": 13,
    "start_time": "2023-01-17T10:12:59.798Z"
   },
   {
    "duration": 16,
    "start_time": "2023-01-17T10:12:59.813Z"
   },
   {
    "duration": 9,
    "start_time": "2023-01-17T10:12:59.831Z"
   },
   {
    "duration": 18,
    "start_time": "2023-01-17T10:12:59.842Z"
   },
   {
    "duration": 18,
    "start_time": "2023-01-17T10:12:59.862Z"
   },
   {
    "duration": 37,
    "start_time": "2023-01-17T10:12:59.882Z"
   },
   {
    "duration": 32,
    "start_time": "2023-01-17T10:12:59.921Z"
   },
   {
    "duration": 59,
    "start_time": "2023-01-17T10:12:59.955Z"
   },
   {
    "duration": 326,
    "start_time": "2023-01-17T10:13:00.016Z"
   },
   {
    "duration": 89,
    "start_time": "2023-01-17T10:13:00.344Z"
   },
   {
    "duration": 87,
    "start_time": "2023-01-17T10:13:00.436Z"
   },
   {
    "duration": 14,
    "start_time": "2023-01-17T10:13:00.525Z"
   },
   {
    "duration": 1,
    "start_time": "2023-01-17T10:13:00.541Z"
   },
   {
    "duration": 483,
    "start_time": "2023-01-17T10:13:27.905Z"
   },
   {
    "duration": 7,
    "start_time": "2023-01-17T10:14:12.447Z"
   },
   {
    "duration": 1252,
    "start_time": "2023-01-17T10:14:21.528Z"
   },
   {
    "duration": 60,
    "start_time": "2023-01-17T10:15:31.826Z"
   },
   {
    "duration": 5,
    "start_time": "2023-01-17T10:22:50.181Z"
   },
   {
    "duration": 99,
    "start_time": "2023-01-17T10:23:16.570Z"
   },
   {
    "duration": 18749,
    "start_time": "2023-01-17T10:24:40.514Z"
   },
   {
    "duration": 19699,
    "start_time": "2023-01-17T10:26:28.720Z"
   },
   {
    "duration": 968,
    "start_time": "2023-01-17T10:26:48.420Z"
   },
   {
    "duration": 1705,
    "start_time": "2023-01-17T10:26:51.629Z"
   },
   {
    "duration": 48,
    "start_time": "2023-01-17T10:26:53.336Z"
   },
   {
    "duration": 12,
    "start_time": "2023-01-17T10:26:53.386Z"
   },
   {
    "duration": 25,
    "start_time": "2023-01-17T10:26:53.400Z"
   },
   {
    "duration": 26,
    "start_time": "2023-01-17T10:26:53.427Z"
   },
   {
    "duration": 29,
    "start_time": "2023-01-17T10:26:53.455Z"
   },
   {
    "duration": 23,
    "start_time": "2023-01-17T10:26:53.486Z"
   },
   {
    "duration": 44,
    "start_time": "2023-01-17T10:26:53.512Z"
   },
   {
    "duration": 56,
    "start_time": "2023-01-17T10:26:53.558Z"
   },
   {
    "duration": 162,
    "start_time": "2023-01-17T10:26:53.617Z"
   },
   {
    "duration": 6,
    "start_time": "2023-01-17T10:26:53.781Z"
   },
   {
    "duration": 56,
    "start_time": "2023-01-17T10:26:53.788Z"
   },
   {
    "duration": 81,
    "start_time": "2023-01-17T10:26:53.845Z"
   },
   {
    "duration": 69,
    "start_time": "2023-01-17T10:26:53.928Z"
   },
   {
    "duration": 47,
    "start_time": "2023-01-17T10:26:53.999Z"
   },
   {
    "duration": 41,
    "start_time": "2023-01-17T10:26:54.048Z"
   },
   {
    "duration": 261,
    "start_time": "2023-01-17T10:26:54.091Z"
   },
   {
    "duration": 11,
    "start_time": "2023-01-17T10:26:54.354Z"
   },
   {
    "duration": 246,
    "start_time": "2023-01-17T10:26:54.366Z"
   },
   {
    "duration": 706,
    "start_time": "2023-01-17T10:26:54.614Z"
   },
   {
    "duration": 188,
    "start_time": "2023-01-17T10:26:55.322Z"
   },
   {
    "duration": 277,
    "start_time": "2023-01-17T10:26:55.512Z"
   },
   {
    "duration": 293,
    "start_time": "2023-01-17T10:26:55.791Z"
   },
   {
    "duration": 393,
    "start_time": "2023-01-17T10:26:56.086Z"
   },
   {
    "duration": 4,
    "start_time": "2023-01-17T10:26:56.480Z"
   },
   {
    "duration": 6,
    "start_time": "2023-01-17T10:26:56.486Z"
   },
   {
    "duration": 8,
    "start_time": "2023-01-17T10:26:56.493Z"
   },
   {
    "duration": 15,
    "start_time": "2023-01-17T10:26:56.504Z"
   },
   {
    "duration": 77,
    "start_time": "2023-01-17T10:26:56.520Z"
   },
   {
    "duration": 4,
    "start_time": "2023-01-17T10:26:56.599Z"
   },
   {
    "duration": 6,
    "start_time": "2023-01-17T10:26:56.605Z"
   },
   {
    "duration": 9,
    "start_time": "2023-01-17T10:26:56.613Z"
   },
   {
    "duration": 22,
    "start_time": "2023-01-17T10:26:56.623Z"
   },
   {
    "duration": 10,
    "start_time": "2023-01-17T10:26:56.647Z"
   },
   {
    "duration": 22,
    "start_time": "2023-01-17T10:26:56.659Z"
   },
   {
    "duration": 7,
    "start_time": "2023-01-17T10:26:56.683Z"
   },
   {
    "duration": 32,
    "start_time": "2023-01-17T10:26:56.692Z"
   },
   {
    "duration": 53,
    "start_time": "2023-01-17T10:26:56.726Z"
   },
   {
    "duration": 1206,
    "start_time": "2023-01-17T10:26:56.781Z"
   },
   {
    "duration": 23483,
    "start_time": "2023-01-17T10:26:57.989Z"
   },
   {
    "duration": 86,
    "start_time": "2023-01-17T10:27:21.474Z"
   },
   {
    "duration": 12,
    "start_time": "2023-01-17T10:27:21.562Z"
   },
   {
    "duration": 0,
    "start_time": "2023-01-17T10:27:21.576Z"
   },
   {
    "duration": 573,
    "start_time": "2023-01-17T10:28:19.212Z"
   },
   {
    "duration": 1051,
    "start_time": "2023-01-17T10:28:25.131Z"
   },
   {
    "duration": 773,
    "start_time": "2023-01-17T10:28:34.308Z"
   },
   {
    "duration": 4,
    "start_time": "2023-01-17T10:33:30.919Z"
   },
   {
    "duration": 1853,
    "start_time": "2023-01-17T10:33:36.457Z"
   },
   {
    "duration": 55,
    "start_time": "2023-01-17T10:33:38.312Z"
   },
   {
    "duration": 14,
    "start_time": "2023-01-17T10:33:38.369Z"
   },
   {
    "duration": 22,
    "start_time": "2023-01-17T10:33:38.386Z"
   },
   {
    "duration": 42,
    "start_time": "2023-01-17T10:33:38.411Z"
   },
   {
    "duration": 56,
    "start_time": "2023-01-17T10:33:38.455Z"
   },
   {
    "duration": 23,
    "start_time": "2023-01-17T10:33:38.513Z"
   },
   {
    "duration": 14,
    "start_time": "2023-01-17T10:33:38.538Z"
   },
   {
    "duration": 38,
    "start_time": "2023-01-17T10:33:38.555Z"
   },
   {
    "duration": 186,
    "start_time": "2023-01-17T10:33:38.596Z"
   },
   {
    "duration": 6,
    "start_time": "2023-01-17T10:33:38.784Z"
   },
   {
    "duration": 35,
    "start_time": "2023-01-17T10:33:38.792Z"
   },
   {
    "duration": 36,
    "start_time": "2023-01-17T10:33:38.828Z"
   },
   {
    "duration": 64,
    "start_time": "2023-01-17T10:33:38.866Z"
   },
   {
    "duration": 49,
    "start_time": "2023-01-17T10:33:38.933Z"
   },
   {
    "duration": 25,
    "start_time": "2023-01-17T10:33:38.984Z"
   },
   {
    "duration": 256,
    "start_time": "2023-01-17T10:33:39.011Z"
   },
   {
    "duration": 16,
    "start_time": "2023-01-17T10:33:39.269Z"
   },
   {
    "duration": 237,
    "start_time": "2023-01-17T10:33:39.287Z"
   },
   {
    "duration": 693,
    "start_time": "2023-01-17T10:33:39.527Z"
   },
   {
    "duration": 185,
    "start_time": "2023-01-17T10:33:40.223Z"
   },
   {
    "duration": 264,
    "start_time": "2023-01-17T10:33:40.410Z"
   },
   {
    "duration": 301,
    "start_time": "2023-01-17T10:33:40.676Z"
   },
   {
    "duration": 422,
    "start_time": "2023-01-17T10:33:40.980Z"
   },
   {
    "duration": 4,
    "start_time": "2023-01-17T10:33:41.404Z"
   },
   {
    "duration": 10,
    "start_time": "2023-01-17T10:33:41.409Z"
   },
   {
    "duration": 12,
    "start_time": "2023-01-17T10:33:41.420Z"
   },
   {
    "duration": 13,
    "start_time": "2023-01-17T10:33:41.436Z"
   },
   {
    "duration": 63,
    "start_time": "2023-01-17T10:33:41.451Z"
   },
   {
    "duration": 4,
    "start_time": "2023-01-17T10:33:41.516Z"
   },
   {
    "duration": 10,
    "start_time": "2023-01-17T10:33:41.522Z"
   },
   {
    "duration": 9,
    "start_time": "2023-01-17T10:33:41.534Z"
   },
   {
    "duration": 17,
    "start_time": "2023-01-17T10:33:41.545Z"
   },
   {
    "duration": 14,
    "start_time": "2023-01-17T10:33:41.564Z"
   },
   {
    "duration": 19,
    "start_time": "2023-01-17T10:33:41.580Z"
   },
   {
    "duration": 19,
    "start_time": "2023-01-17T10:33:41.602Z"
   },
   {
    "duration": 49,
    "start_time": "2023-01-17T10:33:41.624Z"
   },
   {
    "duration": 34,
    "start_time": "2023-01-17T10:33:41.675Z"
   },
   {
    "duration": 1076,
    "start_time": "2023-01-17T10:33:41.711Z"
   },
   {
    "duration": 89,
    "start_time": "2023-01-17T10:33:42.790Z"
   },
   {
    "duration": 23487,
    "start_time": "2023-01-17T10:33:42.882Z"
   },
   {
    "duration": 235,
    "start_time": "2023-01-17T10:34:06.371Z"
   },
   {
    "duration": 13,
    "start_time": "2023-01-17T10:34:06.609Z"
   },
   {
    "duration": 0,
    "start_time": "2023-01-17T10:34:06.624Z"
   },
   {
    "duration": 1316,
    "start_time": "2023-01-17T10:35:58.275Z"
   },
   {
    "duration": 1819,
    "start_time": "2023-01-17T10:37:12.169Z"
   },
   {
    "duration": 55,
    "start_time": "2023-01-17T10:37:13.991Z"
   },
   {
    "duration": 14,
    "start_time": "2023-01-17T10:37:14.051Z"
   },
   {
    "duration": 46,
    "start_time": "2023-01-17T10:37:14.068Z"
   },
   {
    "duration": 35,
    "start_time": "2023-01-17T10:37:14.116Z"
   },
   {
    "duration": 36,
    "start_time": "2023-01-17T10:37:14.153Z"
   },
   {
    "duration": 18,
    "start_time": "2023-01-17T10:37:14.191Z"
   },
   {
    "duration": 22,
    "start_time": "2023-01-17T10:37:14.211Z"
   },
   {
    "duration": 47,
    "start_time": "2023-01-17T10:37:14.235Z"
   },
   {
    "duration": 156,
    "start_time": "2023-01-17T10:37:14.284Z"
   },
   {
    "duration": 5,
    "start_time": "2023-01-17T10:37:14.442Z"
   },
   {
    "duration": 29,
    "start_time": "2023-01-17T10:37:14.449Z"
   },
   {
    "duration": 29,
    "start_time": "2023-01-17T10:37:14.482Z"
   },
   {
    "duration": 33,
    "start_time": "2023-01-17T10:37:14.513Z"
   },
   {
    "duration": 12,
    "start_time": "2023-01-17T10:37:14.548Z"
   },
   {
    "duration": 12,
    "start_time": "2023-01-17T10:37:14.562Z"
   },
   {
    "duration": 219,
    "start_time": "2023-01-17T10:37:14.576Z"
   },
   {
    "duration": 10,
    "start_time": "2023-01-17T10:37:14.797Z"
   },
   {
    "duration": 249,
    "start_time": "2023-01-17T10:37:14.808Z"
   },
   {
    "duration": 709,
    "start_time": "2023-01-17T10:37:15.059Z"
   },
   {
    "duration": 220,
    "start_time": "2023-01-17T10:37:15.771Z"
   },
   {
    "duration": 263,
    "start_time": "2023-01-17T10:37:15.992Z"
   },
   {
    "duration": 292,
    "start_time": "2023-01-17T10:37:16.256Z"
   },
   {
    "duration": 394,
    "start_time": "2023-01-17T10:37:16.549Z"
   },
   {
    "duration": 5,
    "start_time": "2023-01-17T10:37:16.945Z"
   },
   {
    "duration": 30,
    "start_time": "2023-01-17T10:37:16.952Z"
   },
   {
    "duration": 40,
    "start_time": "2023-01-17T10:37:16.984Z"
   },
   {
    "duration": 29,
    "start_time": "2023-01-17T10:37:17.027Z"
   },
   {
    "duration": 75,
    "start_time": "2023-01-17T10:37:17.057Z"
   },
   {
    "duration": 4,
    "start_time": "2023-01-17T10:37:17.134Z"
   },
   {
    "duration": 46,
    "start_time": "2023-01-17T10:37:17.140Z"
   },
   {
    "duration": 24,
    "start_time": "2023-01-17T10:37:17.188Z"
   },
   {
    "duration": 47,
    "start_time": "2023-01-17T10:37:17.213Z"
   },
   {
    "duration": 49,
    "start_time": "2023-01-17T10:37:17.261Z"
   },
   {
    "duration": 22,
    "start_time": "2023-01-17T10:37:17.312Z"
   },
   {
    "duration": 45,
    "start_time": "2023-01-17T10:37:17.335Z"
   },
   {
    "duration": 66,
    "start_time": "2023-01-17T10:37:17.382Z"
   },
   {
    "duration": 44,
    "start_time": "2023-01-17T10:37:17.450Z"
   },
   {
    "duration": 984,
    "start_time": "2023-01-17T10:37:17.496Z"
   },
   {
    "duration": 3,
    "start_time": "2023-01-17T10:37:18.484Z"
   },
   {
    "duration": 27354,
    "start_time": "2023-01-17T10:37:18.489Z"
   },
   {
    "duration": 212,
    "start_time": "2023-01-17T10:37:45.846Z"
   },
   {
    "duration": 13,
    "start_time": "2023-01-17T10:37:46.060Z"
   },
   {
    "duration": 0,
    "start_time": "2023-01-17T10:37:46.074Z"
   },
   {
    "duration": 1112,
    "start_time": "2023-01-17T10:38:43.397Z"
   },
   {
    "duration": 11,
    "start_time": "2023-01-17T10:39:25.980Z"
   },
   {
    "duration": 65,
    "start_time": "2023-01-17T10:39:32.403Z"
   },
   {
    "duration": 7,
    "start_time": "2023-01-17T10:41:55.447Z"
   },
   {
    "duration": 1039,
    "start_time": "2023-01-17T10:42:14.364Z"
   },
   {
    "duration": 5,
    "start_time": "2023-01-17T10:44:14.731Z"
   },
   {
    "duration": 7,
    "start_time": "2023-01-17T10:44:24.364Z"
   },
   {
    "duration": 20,
    "start_time": "2023-01-17T10:50:00.704Z"
   },
   {
    "duration": 1652,
    "start_time": "2023-01-17T10:50:25.895Z"
   },
   {
    "duration": 44,
    "start_time": "2023-01-17T10:50:27.548Z"
   },
   {
    "duration": 10,
    "start_time": "2023-01-17T10:50:27.594Z"
   },
   {
    "duration": 10,
    "start_time": "2023-01-17T10:50:27.605Z"
   },
   {
    "duration": 9,
    "start_time": "2023-01-17T10:50:27.617Z"
   },
   {
    "duration": 13,
    "start_time": "2023-01-17T10:50:27.628Z"
   },
   {
    "duration": 10,
    "start_time": "2023-01-17T10:50:27.642Z"
   },
   {
    "duration": 34,
    "start_time": "2023-01-17T10:50:27.654Z"
   },
   {
    "duration": 17,
    "start_time": "2023-01-17T10:50:27.689Z"
   },
   {
    "duration": 123,
    "start_time": "2023-01-17T10:50:27.707Z"
   },
   {
    "duration": 4,
    "start_time": "2023-01-17T10:50:27.831Z"
   },
   {
    "duration": 4,
    "start_time": "2023-01-17T10:50:27.837Z"
   },
   {
    "duration": 6,
    "start_time": "2023-01-17T10:50:27.843Z"
   },
   {
    "duration": 27,
    "start_time": "2023-01-17T10:50:27.852Z"
   },
   {
    "duration": 12,
    "start_time": "2023-01-17T10:50:27.880Z"
   },
   {
    "duration": 12,
    "start_time": "2023-01-17T10:50:27.894Z"
   },
   {
    "duration": 240,
    "start_time": "2023-01-17T10:50:27.908Z"
   },
   {
    "duration": 10,
    "start_time": "2023-01-17T10:50:28.149Z"
   },
   {
    "duration": 223,
    "start_time": "2023-01-17T10:50:28.160Z"
   },
   {
    "duration": 668,
    "start_time": "2023-01-17T10:50:28.384Z"
   },
   {
    "duration": 174,
    "start_time": "2023-01-17T10:50:29.053Z"
   },
   {
    "duration": 242,
    "start_time": "2023-01-17T10:50:29.229Z"
   },
   {
    "duration": 284,
    "start_time": "2023-01-17T10:50:29.472Z"
   },
   {
    "duration": 387,
    "start_time": "2023-01-17T10:50:29.758Z"
   },
   {
    "duration": 4,
    "start_time": "2023-01-17T10:50:30.147Z"
   },
   {
    "duration": 20,
    "start_time": "2023-01-17T10:50:30.153Z"
   },
   {
    "duration": 61,
    "start_time": "2023-01-17T10:50:30.175Z"
   },
   {
    "duration": 31,
    "start_time": "2023-01-17T10:50:30.238Z"
   },
   {
    "duration": 89,
    "start_time": "2023-01-17T10:50:30.271Z"
   },
   {
    "duration": 4,
    "start_time": "2023-01-17T10:50:30.362Z"
   },
   {
    "duration": 45,
    "start_time": "2023-01-17T10:50:30.368Z"
   },
   {
    "duration": 50,
    "start_time": "2023-01-17T10:50:30.415Z"
   },
   {
    "duration": 37,
    "start_time": "2023-01-17T10:50:30.467Z"
   },
   {
    "duration": 31,
    "start_time": "2023-01-17T10:50:30.506Z"
   },
   {
    "duration": 22,
    "start_time": "2023-01-17T10:50:30.539Z"
   },
   {
    "duration": 20,
    "start_time": "2023-01-17T10:50:30.563Z"
   },
   {
    "duration": 44,
    "start_time": "2023-01-17T10:50:30.584Z"
   },
   {
    "duration": 39,
    "start_time": "2023-01-17T10:50:30.629Z"
   },
   {
    "duration": 916,
    "start_time": "2023-01-17T10:50:30.670Z"
   },
   {
    "duration": 3,
    "start_time": "2023-01-17T10:50:31.678Z"
   },
   {
    "duration": 25778,
    "start_time": "2023-01-17T10:50:31.684Z"
   },
   {
    "duration": 997,
    "start_time": "2023-01-17T10:50:57.463Z"
   },
   {
    "duration": 70,
    "start_time": "2023-01-17T10:50:58.462Z"
   },
   {
    "duration": 6,
    "start_time": "2023-01-17T10:50:58.533Z"
   },
   {
    "duration": 0,
    "start_time": "2023-01-17T10:50:58.690Z"
   },
   {
    "duration": 21,
    "start_time": "2023-01-17T10:51:13.059Z"
   },
   {
    "duration": 18,
    "start_time": "2023-01-17T10:55:41.927Z"
   },
   {
    "duration": 1702,
    "start_time": "2023-01-17T10:55:51.574Z"
   },
   {
    "duration": 45,
    "start_time": "2023-01-17T10:55:53.278Z"
   },
   {
    "duration": 11,
    "start_time": "2023-01-17T10:55:53.325Z"
   },
   {
    "duration": 11,
    "start_time": "2023-01-17T10:55:53.339Z"
   },
   {
    "duration": 20,
    "start_time": "2023-01-17T10:55:53.352Z"
   },
   {
    "duration": 35,
    "start_time": "2023-01-17T10:55:53.374Z"
   },
   {
    "duration": 35,
    "start_time": "2023-01-17T10:55:53.411Z"
   },
   {
    "duration": 8,
    "start_time": "2023-01-17T10:55:53.448Z"
   },
   {
    "duration": 26,
    "start_time": "2023-01-17T10:55:53.457Z"
   },
   {
    "duration": 155,
    "start_time": "2023-01-17T10:55:53.487Z"
   },
   {
    "duration": 6,
    "start_time": "2023-01-17T10:55:53.643Z"
   },
   {
    "duration": 34,
    "start_time": "2023-01-17T10:55:53.651Z"
   },
   {
    "duration": 28,
    "start_time": "2023-01-17T10:55:53.686Z"
   },
   {
    "duration": 52,
    "start_time": "2023-01-17T10:55:53.716Z"
   },
   {
    "duration": 51,
    "start_time": "2023-01-17T10:55:53.769Z"
   },
   {
    "duration": 52,
    "start_time": "2023-01-17T10:55:53.822Z"
   },
   {
    "duration": 339,
    "start_time": "2023-01-17T10:55:53.875Z"
   },
   {
    "duration": 12,
    "start_time": "2023-01-17T10:55:54.217Z"
   },
   {
    "duration": 249,
    "start_time": "2023-01-17T10:55:54.231Z"
   },
   {
    "duration": 734,
    "start_time": "2023-01-17T10:55:54.482Z"
   },
   {
    "duration": 191,
    "start_time": "2023-01-17T10:55:55.218Z"
   },
   {
    "duration": 251,
    "start_time": "2023-01-17T10:55:55.410Z"
   },
   {
    "duration": 335,
    "start_time": "2023-01-17T10:55:55.663Z"
   },
   {
    "duration": 449,
    "start_time": "2023-01-17T10:55:55.999Z"
   },
   {
    "duration": 5,
    "start_time": "2023-01-17T10:55:56.450Z"
   },
   {
    "duration": 40,
    "start_time": "2023-01-17T10:55:56.456Z"
   },
   {
    "duration": 32,
    "start_time": "2023-01-17T10:55:56.498Z"
   },
   {
    "duration": 22,
    "start_time": "2023-01-17T10:55:56.533Z"
   },
   {
    "duration": 80,
    "start_time": "2023-01-17T10:55:56.556Z"
   },
   {
    "duration": 6,
    "start_time": "2023-01-17T10:55:56.638Z"
   },
   {
    "duration": 20,
    "start_time": "2023-01-17T10:55:56.645Z"
   },
   {
    "duration": 29,
    "start_time": "2023-01-17T10:55:56.667Z"
   },
   {
    "duration": 34,
    "start_time": "2023-01-17T10:55:56.698Z"
   },
   {
    "duration": 33,
    "start_time": "2023-01-17T10:55:56.734Z"
   },
   {
    "duration": 17,
    "start_time": "2023-01-17T10:55:56.769Z"
   },
   {
    "duration": 29,
    "start_time": "2023-01-17T10:55:56.788Z"
   },
   {
    "duration": 43,
    "start_time": "2023-01-17T10:55:56.819Z"
   },
   {
    "duration": 32,
    "start_time": "2023-01-17T10:55:56.863Z"
   },
   {
    "duration": 883,
    "start_time": "2023-01-17T10:55:56.897Z"
   },
   {
    "duration": 6,
    "start_time": "2023-01-17T10:55:57.782Z"
   },
   {
    "duration": 25715,
    "start_time": "2023-01-17T10:55:57.790Z"
   },
   {
    "duration": 1055,
    "start_time": "2023-01-17T10:56:23.507Z"
   },
   {
    "duration": 67,
    "start_time": "2023-01-17T10:56:24.564Z"
   },
   {
    "duration": 6,
    "start_time": "2023-01-17T10:56:24.632Z"
   },
   {
    "duration": 149,
    "start_time": "2023-01-17T10:56:24.640Z"
   },
   {
    "duration": 16,
    "start_time": "2023-01-17T11:00:16.972Z"
   },
   {
    "duration": 15,
    "start_time": "2023-01-17T11:01:49.523Z"
   },
   {
    "duration": 1723,
    "start_time": "2023-01-17T11:02:06.558Z"
   },
   {
    "duration": 43,
    "start_time": "2023-01-17T11:02:08.283Z"
   },
   {
    "duration": 10,
    "start_time": "2023-01-17T11:02:08.328Z"
   },
   {
    "duration": 32,
    "start_time": "2023-01-17T11:02:08.340Z"
   },
   {
    "duration": 34,
    "start_time": "2023-01-17T11:02:08.374Z"
   },
   {
    "duration": 47,
    "start_time": "2023-01-17T11:02:08.409Z"
   },
   {
    "duration": 30,
    "start_time": "2023-01-17T11:02:08.457Z"
   },
   {
    "duration": 60,
    "start_time": "2023-01-17T11:02:08.489Z"
   },
   {
    "duration": 81,
    "start_time": "2023-01-17T11:02:08.551Z"
   },
   {
    "duration": 169,
    "start_time": "2023-01-17T11:02:08.635Z"
   },
   {
    "duration": 4,
    "start_time": "2023-01-17T11:02:08.806Z"
   },
   {
    "duration": 57,
    "start_time": "2023-01-17T11:02:08.812Z"
   },
   {
    "duration": 68,
    "start_time": "2023-01-17T11:02:08.870Z"
   },
   {
    "duration": 42,
    "start_time": "2023-01-17T11:02:08.939Z"
   },
   {
    "duration": 37,
    "start_time": "2023-01-17T11:02:08.982Z"
   },
   {
    "duration": 36,
    "start_time": "2023-01-17T11:02:09.020Z"
   },
   {
    "duration": 245,
    "start_time": "2023-01-17T11:02:09.058Z"
   },
   {
    "duration": 9,
    "start_time": "2023-01-17T11:02:09.305Z"
   },
   {
    "duration": 259,
    "start_time": "2023-01-17T11:02:09.316Z"
   },
   {
    "duration": 680,
    "start_time": "2023-01-17T11:02:09.576Z"
   },
   {
    "duration": 181,
    "start_time": "2023-01-17T11:02:10.257Z"
   },
   {
    "duration": 243,
    "start_time": "2023-01-17T11:02:10.440Z"
   },
   {
    "duration": 289,
    "start_time": "2023-01-17T11:02:10.684Z"
   },
   {
    "duration": 376,
    "start_time": "2023-01-17T11:02:10.974Z"
   },
   {
    "duration": 4,
    "start_time": "2023-01-17T11:02:11.352Z"
   },
   {
    "duration": 75,
    "start_time": "2023-01-17T11:02:11.357Z"
   },
   {
    "duration": 45,
    "start_time": "2023-01-17T11:02:11.434Z"
   },
   {
    "duration": 24,
    "start_time": "2023-01-17T11:02:11.483Z"
   },
   {
    "duration": 107,
    "start_time": "2023-01-17T11:02:11.509Z"
   },
   {
    "duration": 4,
    "start_time": "2023-01-17T11:02:11.617Z"
   },
   {
    "duration": 28,
    "start_time": "2023-01-17T11:02:11.623Z"
   },
   {
    "duration": 40,
    "start_time": "2023-01-17T11:02:11.655Z"
   },
   {
    "duration": 38,
    "start_time": "2023-01-17T11:02:11.697Z"
   },
   {
    "duration": 28,
    "start_time": "2023-01-17T11:02:11.736Z"
   },
   {
    "duration": 45,
    "start_time": "2023-01-17T11:02:11.765Z"
   },
   {
    "duration": 44,
    "start_time": "2023-01-17T11:02:11.812Z"
   },
   {
    "duration": 75,
    "start_time": "2023-01-17T11:02:11.857Z"
   },
   {
    "duration": 44,
    "start_time": "2023-01-17T11:02:11.934Z"
   },
   {
    "duration": 700,
    "start_time": "2023-01-17T11:02:11.981Z"
   },
   {
    "duration": 3,
    "start_time": "2023-01-17T11:02:12.683Z"
   },
   {
    "duration": 25763,
    "start_time": "2023-01-17T11:02:12.687Z"
   },
   {
    "duration": 1101,
    "start_time": "2023-01-17T11:02:38.451Z"
   },
   {
    "duration": 74,
    "start_time": "2023-01-17T11:02:39.554Z"
   },
   {
    "duration": 143,
    "start_time": "2023-01-17T11:02:39.630Z"
   },
   {
    "duration": 15,
    "start_time": "2023-01-17T11:06:20.429Z"
   },
   {
    "duration": 19,
    "start_time": "2023-01-17T11:08:36.680Z"
   },
   {
    "duration": 17,
    "start_time": "2023-01-17T11:11:45.778Z"
   },
   {
    "duration": 1679,
    "start_time": "2023-01-17T11:11:50.824Z"
   },
   {
    "duration": 44,
    "start_time": "2023-01-17T11:11:52.505Z"
   },
   {
    "duration": 35,
    "start_time": "2023-01-17T11:11:52.550Z"
   },
   {
    "duration": 29,
    "start_time": "2023-01-17T11:11:52.587Z"
   },
   {
    "duration": 32,
    "start_time": "2023-01-17T11:11:52.618Z"
   },
   {
    "duration": 48,
    "start_time": "2023-01-17T11:11:52.652Z"
   },
   {
    "duration": 18,
    "start_time": "2023-01-17T11:11:52.702Z"
   },
   {
    "duration": 27,
    "start_time": "2023-01-17T11:11:52.722Z"
   },
   {
    "duration": 48,
    "start_time": "2023-01-17T11:11:52.751Z"
   },
   {
    "duration": 153,
    "start_time": "2023-01-17T11:11:52.801Z"
   },
   {
    "duration": 6,
    "start_time": "2023-01-17T11:11:52.956Z"
   },
   {
    "duration": 30,
    "start_time": "2023-01-17T11:11:52.963Z"
   },
   {
    "duration": 25,
    "start_time": "2023-01-17T11:11:52.995Z"
   },
   {
    "duration": 46,
    "start_time": "2023-01-17T11:11:53.022Z"
   },
   {
    "duration": 35,
    "start_time": "2023-01-17T11:11:53.070Z"
   },
   {
    "duration": 42,
    "start_time": "2023-01-17T11:11:53.106Z"
   },
   {
    "duration": 229,
    "start_time": "2023-01-17T11:11:53.149Z"
   },
   {
    "duration": 10,
    "start_time": "2023-01-17T11:11:53.380Z"
   },
   {
    "duration": 276,
    "start_time": "2023-01-17T11:11:53.392Z"
   },
   {
    "duration": 714,
    "start_time": "2023-01-17T11:11:53.670Z"
   },
   {
    "duration": 193,
    "start_time": "2023-01-17T11:11:54.386Z"
   },
   {
    "duration": 235,
    "start_time": "2023-01-17T11:11:54.581Z"
   },
   {
    "duration": 286,
    "start_time": "2023-01-17T11:11:54.818Z"
   },
   {
    "duration": 406,
    "start_time": "2023-01-17T11:11:55.105Z"
   },
   {
    "duration": 4,
    "start_time": "2023-01-17T11:11:55.513Z"
   },
   {
    "duration": 34,
    "start_time": "2023-01-17T11:11:55.518Z"
   },
   {
    "duration": 9,
    "start_time": "2023-01-17T11:11:55.554Z"
   },
   {
    "duration": 7,
    "start_time": "2023-01-17T11:11:55.566Z"
   },
   {
    "duration": 60,
    "start_time": "2023-01-17T11:11:55.575Z"
   },
   {
    "duration": 5,
    "start_time": "2023-01-17T11:11:55.637Z"
   },
   {
    "duration": 9,
    "start_time": "2023-01-17T11:11:55.644Z"
   },
   {
    "duration": 13,
    "start_time": "2023-01-17T11:11:55.655Z"
   },
   {
    "duration": 20,
    "start_time": "2023-01-17T11:11:55.669Z"
   },
   {
    "duration": 12,
    "start_time": "2023-01-17T11:11:55.690Z"
   },
   {
    "duration": 22,
    "start_time": "2023-01-17T11:11:55.704Z"
   },
   {
    "duration": 21,
    "start_time": "2023-01-17T11:11:55.728Z"
   },
   {
    "duration": 33,
    "start_time": "2023-01-17T11:11:55.751Z"
   },
   {
    "duration": 33,
    "start_time": "2023-01-17T11:11:55.785Z"
   },
   {
    "duration": 660,
    "start_time": "2023-01-17T11:11:55.820Z"
   },
   {
    "duration": 4,
    "start_time": "2023-01-17T11:11:56.481Z"
   },
   {
    "duration": 25256,
    "start_time": "2023-01-17T11:11:56.487Z"
   },
   {
    "duration": 1018,
    "start_time": "2023-01-17T11:12:21.744Z"
   },
   {
    "duration": 70,
    "start_time": "2023-01-17T11:12:22.764Z"
   },
   {
    "duration": 139,
    "start_time": "2023-01-17T11:12:22.836Z"
   },
   {
    "duration": 17,
    "start_time": "2023-01-17T11:13:46.120Z"
   },
   {
    "duration": 18,
    "start_time": "2023-01-17T11:13:48.501Z"
   },
   {
    "duration": 17,
    "start_time": "2023-01-17T11:13:57.265Z"
   },
   {
    "duration": 27568,
    "start_time": "2023-01-17T11:15:34.564Z"
   },
   {
    "duration": 18,
    "start_time": "2023-01-17T11:17:57.225Z"
   },
   {
    "duration": 17,
    "start_time": "2023-01-17T11:21:54.582Z"
   },
   {
    "duration": 17,
    "start_time": "2023-01-17T11:22:04.613Z"
   },
   {
    "duration": 18,
    "start_time": "2023-01-17T11:25:51.156Z"
   },
   {
    "duration": 1799,
    "start_time": "2023-01-17T11:25:58.899Z"
   },
   {
    "duration": 46,
    "start_time": "2023-01-17T11:26:00.700Z"
   },
   {
    "duration": 12,
    "start_time": "2023-01-17T11:26:00.748Z"
   },
   {
    "duration": 22,
    "start_time": "2023-01-17T11:26:00.761Z"
   },
   {
    "duration": 19,
    "start_time": "2023-01-17T11:26:00.785Z"
   },
   {
    "duration": 39,
    "start_time": "2023-01-17T11:26:00.806Z"
   },
   {
    "duration": 17,
    "start_time": "2023-01-17T11:26:00.847Z"
   },
   {
    "duration": 12,
    "start_time": "2023-01-17T11:26:00.865Z"
   },
   {
    "duration": 31,
    "start_time": "2023-01-17T11:26:00.879Z"
   },
   {
    "duration": 151,
    "start_time": "2023-01-17T11:26:00.912Z"
   },
   {
    "duration": 19,
    "start_time": "2023-01-17T11:26:01.064Z"
   },
   {
    "duration": 2,
    "start_time": "2023-01-17T11:26:01.086Z"
   },
   {
    "duration": 31,
    "start_time": "2023-01-17T11:26:01.090Z"
   },
   {
    "duration": 23,
    "start_time": "2023-01-17T11:26:01.124Z"
   },
   {
    "duration": 13,
    "start_time": "2023-01-17T11:26:01.149Z"
   },
   {
    "duration": 15,
    "start_time": "2023-01-17T11:26:01.164Z"
   },
   {
    "duration": 270,
    "start_time": "2023-01-17T11:26:01.181Z"
   },
   {
    "duration": 11,
    "start_time": "2023-01-17T11:26:01.452Z"
   },
   {
    "duration": 276,
    "start_time": "2023-01-17T11:26:01.465Z"
   },
   {
    "duration": 770,
    "start_time": "2023-01-17T11:26:01.742Z"
   },
   {
    "duration": 224,
    "start_time": "2023-01-17T11:26:02.514Z"
   },
   {
    "duration": 277,
    "start_time": "2023-01-17T11:26:02.740Z"
   },
   {
    "duration": 283,
    "start_time": "2023-01-17T11:26:03.019Z"
   },
   {
    "duration": 413,
    "start_time": "2023-01-17T11:26:03.304Z"
   },
   {
    "duration": 4,
    "start_time": "2023-01-17T11:26:03.719Z"
   },
   {
    "duration": 14,
    "start_time": "2023-01-17T11:26:03.725Z"
   },
   {
    "duration": 8,
    "start_time": "2023-01-17T11:26:03.741Z"
   },
   {
    "duration": 14,
    "start_time": "2023-01-17T11:26:03.751Z"
   },
   {
    "duration": 60,
    "start_time": "2023-01-17T11:26:03.767Z"
   },
   {
    "duration": 5,
    "start_time": "2023-01-17T11:26:03.829Z"
   },
   {
    "duration": 16,
    "start_time": "2023-01-17T11:26:03.836Z"
   },
   {
    "duration": 11,
    "start_time": "2023-01-17T11:26:03.853Z"
   },
   {
    "duration": 17,
    "start_time": "2023-01-17T11:26:03.865Z"
   },
   {
    "duration": 4,
    "start_time": "2023-01-17T11:26:03.884Z"
   },
   {
    "duration": 22,
    "start_time": "2023-01-17T11:26:03.889Z"
   },
   {
    "duration": 27,
    "start_time": "2023-01-17T11:26:03.913Z"
   },
   {
    "duration": 55,
    "start_time": "2023-01-17T11:26:03.942Z"
   },
   {
    "duration": 45,
    "start_time": "2023-01-17T11:26:03.999Z"
   },
   {
    "duration": 1141,
    "start_time": "2023-01-17T11:26:04.046Z"
   },
   {
    "duration": 89,
    "start_time": "2023-01-17T11:26:05.190Z"
   },
   {
    "duration": 26230,
    "start_time": "2023-01-17T11:26:05.284Z"
   },
   {
    "duration": 1026,
    "start_time": "2023-01-17T11:26:31.516Z"
   },
   {
    "duration": 83,
    "start_time": "2023-01-17T11:26:32.543Z"
   },
   {
    "duration": 147,
    "start_time": "2023-01-17T11:26:32.627Z"
   },
   {
    "duration": 12,
    "start_time": "2023-01-17T11:28:28.992Z"
   },
   {
    "duration": 6,
    "start_time": "2023-01-17T11:39:57.996Z"
   },
   {
    "duration": 14,
    "start_time": "2023-01-17T11:47:28.711Z"
   },
   {
    "duration": 4,
    "start_time": "2023-01-17T11:47:48.317Z"
   },
   {
    "duration": 1734,
    "start_time": "2023-01-17T11:47:53.031Z"
   },
   {
    "duration": 46,
    "start_time": "2023-01-17T11:47:54.767Z"
   },
   {
    "duration": 11,
    "start_time": "2023-01-17T11:47:54.814Z"
   },
   {
    "duration": 7,
    "start_time": "2023-01-17T11:47:54.827Z"
   },
   {
    "duration": 11,
    "start_time": "2023-01-17T11:47:54.835Z"
   },
   {
    "duration": 21,
    "start_time": "2023-01-17T11:47:54.848Z"
   },
   {
    "duration": 11,
    "start_time": "2023-01-17T11:47:54.871Z"
   },
   {
    "duration": 6,
    "start_time": "2023-01-17T11:47:54.884Z"
   },
   {
    "duration": 20,
    "start_time": "2023-01-17T11:47:54.892Z"
   },
   {
    "duration": 144,
    "start_time": "2023-01-17T11:47:54.914Z"
   },
   {
    "duration": 4,
    "start_time": "2023-01-17T11:47:55.060Z"
   },
   {
    "duration": 15,
    "start_time": "2023-01-17T11:47:55.066Z"
   },
   {
    "duration": 7,
    "start_time": "2023-01-17T11:47:55.083Z"
   },
   {
    "duration": 14,
    "start_time": "2023-01-17T11:47:55.092Z"
   },
   {
    "duration": 12,
    "start_time": "2023-01-17T11:47:55.108Z"
   },
   {
    "duration": 11,
    "start_time": "2023-01-17T11:47:55.122Z"
   },
   {
    "duration": 244,
    "start_time": "2023-01-17T11:47:55.134Z"
   },
   {
    "duration": 9,
    "start_time": "2023-01-17T11:47:55.379Z"
   },
   {
    "duration": 232,
    "start_time": "2023-01-17T11:47:55.389Z"
   },
   {
    "duration": 670,
    "start_time": "2023-01-17T11:47:55.622Z"
   },
   {
    "duration": 177,
    "start_time": "2023-01-17T11:47:56.294Z"
   },
   {
    "duration": 242,
    "start_time": "2023-01-17T11:47:56.472Z"
   },
   {
    "duration": 291,
    "start_time": "2023-01-17T11:47:56.716Z"
   },
   {
    "duration": 435,
    "start_time": "2023-01-17T11:47:57.008Z"
   },
   {
    "duration": 3,
    "start_time": "2023-01-17T11:47:57.445Z"
   },
   {
    "duration": 51,
    "start_time": "2023-01-17T11:47:57.450Z"
   },
   {
    "duration": 7,
    "start_time": "2023-01-17T11:47:57.503Z"
   },
   {
    "duration": 5,
    "start_time": "2023-01-17T11:47:57.513Z"
   },
   {
    "duration": 26,
    "start_time": "2023-01-17T11:47:57.520Z"
   },
   {
    "duration": 2,
    "start_time": "2023-01-17T11:47:57.548Z"
   },
   {
    "duration": 136,
    "start_time": "2023-01-17T11:47:57.552Z"
   },
   {
    "duration": 13,
    "start_time": "2023-01-17T11:50:34.087Z"
   },
   {
    "duration": 1738,
    "start_time": "2023-01-17T11:50:41.115Z"
   },
   {
    "duration": 52,
    "start_time": "2023-01-17T11:50:42.856Z"
   },
   {
    "duration": 14,
    "start_time": "2023-01-17T11:50:42.910Z"
   },
   {
    "duration": 42,
    "start_time": "2023-01-17T11:50:42.926Z"
   },
   {
    "duration": 37,
    "start_time": "2023-01-17T11:50:42.970Z"
   },
   {
    "duration": 28,
    "start_time": "2023-01-17T11:50:43.008Z"
   },
   {
    "duration": 23,
    "start_time": "2023-01-17T11:50:43.038Z"
   },
   {
    "duration": 23,
    "start_time": "2023-01-17T11:50:43.063Z"
   },
   {
    "duration": 37,
    "start_time": "2023-01-17T11:50:43.088Z"
   },
   {
    "duration": 164,
    "start_time": "2023-01-17T11:50:43.128Z"
   },
   {
    "duration": 4,
    "start_time": "2023-01-17T11:50:43.294Z"
   },
   {
    "duration": 33,
    "start_time": "2023-01-17T11:50:43.300Z"
   },
   {
    "duration": 23,
    "start_time": "2023-01-17T11:50:43.334Z"
   },
   {
    "duration": 36,
    "start_time": "2023-01-17T11:50:43.360Z"
   },
   {
    "duration": 31,
    "start_time": "2023-01-17T11:50:43.398Z"
   },
   {
    "duration": 16,
    "start_time": "2023-01-17T11:50:43.431Z"
   },
   {
    "duration": 238,
    "start_time": "2023-01-17T11:50:43.449Z"
   },
   {
    "duration": 9,
    "start_time": "2023-01-17T11:50:43.688Z"
   },
   {
    "duration": 300,
    "start_time": "2023-01-17T11:50:43.699Z"
   },
   {
    "duration": 835,
    "start_time": "2023-01-17T11:50:44.001Z"
   },
   {
    "duration": 197,
    "start_time": "2023-01-17T11:50:44.838Z"
   },
   {
    "duration": 281,
    "start_time": "2023-01-17T11:50:45.037Z"
   },
   {
    "duration": 302,
    "start_time": "2023-01-17T11:50:45.320Z"
   },
   {
    "duration": 416,
    "start_time": "2023-01-17T11:50:45.625Z"
   },
   {
    "duration": 4,
    "start_time": "2023-01-17T11:50:46.042Z"
   },
   {
    "duration": 10,
    "start_time": "2023-01-17T11:50:46.047Z"
   },
   {
    "duration": 20,
    "start_time": "2023-01-17T11:50:46.059Z"
   },
   {
    "duration": 31,
    "start_time": "2023-01-17T11:50:46.081Z"
   },
   {
    "duration": 46,
    "start_time": "2023-01-17T11:50:46.114Z"
   },
   {
    "duration": 130,
    "start_time": "2023-01-17T11:50:46.162Z"
   },
   {
    "duration": 0,
    "start_time": "2023-01-17T11:50:46.294Z"
   },
   {
    "duration": 0,
    "start_time": "2023-01-17T11:50:46.295Z"
   },
   {
    "duration": 11,
    "start_time": "2023-01-17T11:50:55.321Z"
   },
   {
    "duration": 13,
    "start_time": "2023-01-17T11:55:34.853Z"
   },
   {
    "duration": 2,
    "start_time": "2023-01-17T11:55:40.575Z"
   },
   {
    "duration": 4,
    "start_time": "2023-01-17T11:55:42.134Z"
   },
   {
    "duration": 4,
    "start_time": "2023-01-17T11:55:44.759Z"
   },
   {
    "duration": 352,
    "start_time": "2023-01-17T11:55:47.327Z"
   },
   {
    "duration": 558,
    "start_time": "2023-01-17T11:56:16.026Z"
   },
   {
    "duration": 83,
    "start_time": "2023-01-17T11:57:18.368Z"
   },
   {
    "duration": 81,
    "start_time": "2023-01-17T12:00:06.115Z"
   },
   {
    "duration": 1682,
    "start_time": "2023-01-17T12:01:24.407Z"
   },
   {
    "duration": 43,
    "start_time": "2023-01-17T12:01:26.091Z"
   },
   {
    "duration": 10,
    "start_time": "2023-01-17T12:01:26.136Z"
   },
   {
    "duration": 13,
    "start_time": "2023-01-17T12:01:26.148Z"
   },
   {
    "duration": 8,
    "start_time": "2023-01-17T12:01:26.163Z"
   },
   {
    "duration": 18,
    "start_time": "2023-01-17T12:01:26.173Z"
   },
   {
    "duration": 10,
    "start_time": "2023-01-17T12:01:26.193Z"
   },
   {
    "duration": 6,
    "start_time": "2023-01-17T12:01:26.205Z"
   },
   {
    "duration": 15,
    "start_time": "2023-01-17T12:01:26.213Z"
   },
   {
    "duration": 143,
    "start_time": "2023-01-17T12:01:26.230Z"
   },
   {
    "duration": 8,
    "start_time": "2023-01-17T12:01:26.374Z"
   },
   {
    "duration": 8,
    "start_time": "2023-01-17T12:01:26.384Z"
   },
   {
    "duration": 27,
    "start_time": "2023-01-17T12:01:26.394Z"
   },
   {
    "duration": 19,
    "start_time": "2023-01-17T12:01:26.423Z"
   },
   {
    "duration": 11,
    "start_time": "2023-01-17T12:01:26.444Z"
   },
   {
    "duration": 13,
    "start_time": "2023-01-17T12:01:26.457Z"
   },
   {
    "duration": 244,
    "start_time": "2023-01-17T12:01:26.477Z"
   },
   {
    "duration": 8,
    "start_time": "2023-01-17T12:01:26.723Z"
   },
   {
    "duration": 236,
    "start_time": "2023-01-17T12:01:26.733Z"
   },
   {
    "duration": 678,
    "start_time": "2023-01-17T12:01:26.978Z"
   },
   {
    "duration": 180,
    "start_time": "2023-01-17T12:01:27.657Z"
   },
   {
    "duration": 239,
    "start_time": "2023-01-17T12:01:27.839Z"
   },
   {
    "duration": 315,
    "start_time": "2023-01-17T12:01:28.081Z"
   },
   {
    "duration": 426,
    "start_time": "2023-01-17T12:01:28.398Z"
   },
   {
    "duration": 5,
    "start_time": "2023-01-17T12:01:28.825Z"
   },
   {
    "duration": 10,
    "start_time": "2023-01-17T12:01:28.831Z"
   },
   {
    "duration": 11,
    "start_time": "2023-01-17T12:01:28.842Z"
   },
   {
    "duration": 23,
    "start_time": "2023-01-17T12:01:28.855Z"
   },
   {
    "duration": 26,
    "start_time": "2023-01-17T12:01:28.880Z"
   },
   {
    "duration": 11,
    "start_time": "2023-01-17T12:01:28.908Z"
   },
   {
    "duration": 11,
    "start_time": "2023-01-17T12:01:28.921Z"
   },
   {
    "duration": 17,
    "start_time": "2023-01-17T12:01:28.934Z"
   },
   {
    "duration": 10,
    "start_time": "2023-01-17T12:01:28.954Z"
   },
   {
    "duration": 320,
    "start_time": "2023-01-17T12:01:28.966Z"
   },
   {
    "duration": 158746,
    "start_time": "2023-01-17T12:01:29.288Z"
   },
   {
    "duration": 77,
    "start_time": "2023-01-17T12:04:08.036Z"
   },
   {
    "duration": 0,
    "start_time": "2023-01-17T12:04:08.116Z"
   },
   {
    "duration": 195,
    "start_time": "2023-01-17T12:04:47.595Z"
   },
   {
    "duration": 3,
    "start_time": "2023-01-17T12:04:57.412Z"
   },
   {
    "duration": 1680,
    "start_time": "2023-01-17T12:05:04.431Z"
   },
   {
    "duration": 161,
    "start_time": "2023-01-17T12:05:06.113Z"
   },
   {
    "duration": 0,
    "start_time": "2023-01-17T12:05:06.279Z"
   },
   {
    "duration": 0,
    "start_time": "2023-01-17T12:05:06.280Z"
   },
   {
    "duration": 0,
    "start_time": "2023-01-17T12:05:06.282Z"
   },
   {
    "duration": 0,
    "start_time": "2023-01-17T12:05:06.284Z"
   },
   {
    "duration": 0,
    "start_time": "2023-01-17T12:05:06.285Z"
   },
   {
    "duration": 0,
    "start_time": "2023-01-17T12:05:06.286Z"
   },
   {
    "duration": 0,
    "start_time": "2023-01-17T12:05:06.287Z"
   },
   {
    "duration": 0,
    "start_time": "2023-01-17T12:05:06.288Z"
   },
   {
    "duration": 0,
    "start_time": "2023-01-17T12:05:06.289Z"
   },
   {
    "duration": 0,
    "start_time": "2023-01-17T12:05:06.290Z"
   },
   {
    "duration": 0,
    "start_time": "2023-01-17T12:05:06.292Z"
   },
   {
    "duration": 0,
    "start_time": "2023-01-17T12:05:06.292Z"
   },
   {
    "duration": 0,
    "start_time": "2023-01-17T12:05:06.294Z"
   },
   {
    "duration": 0,
    "start_time": "2023-01-17T12:05:06.294Z"
   },
   {
    "duration": 0,
    "start_time": "2023-01-17T12:05:06.296Z"
   },
   {
    "duration": 0,
    "start_time": "2023-01-17T12:05:06.297Z"
   },
   {
    "duration": 0,
    "start_time": "2023-01-17T12:05:06.298Z"
   },
   {
    "duration": 0,
    "start_time": "2023-01-17T12:05:06.300Z"
   },
   {
    "duration": 0,
    "start_time": "2023-01-17T12:05:06.302Z"
   },
   {
    "duration": 0,
    "start_time": "2023-01-17T12:05:06.305Z"
   },
   {
    "duration": 0,
    "start_time": "2023-01-17T12:05:06.308Z"
   },
   {
    "duration": 0,
    "start_time": "2023-01-17T12:05:06.311Z"
   },
   {
    "duration": 0,
    "start_time": "2023-01-17T12:05:06.312Z"
   },
   {
    "duration": 0,
    "start_time": "2023-01-17T12:05:06.313Z"
   },
   {
    "duration": 0,
    "start_time": "2023-01-17T12:05:06.315Z"
   },
   {
    "duration": 0,
    "start_time": "2023-01-17T12:05:06.317Z"
   },
   {
    "duration": 0,
    "start_time": "2023-01-17T12:05:06.318Z"
   },
   {
    "duration": 0,
    "start_time": "2023-01-17T12:05:06.320Z"
   },
   {
    "duration": 0,
    "start_time": "2023-01-17T12:05:06.377Z"
   },
   {
    "duration": 0,
    "start_time": "2023-01-17T12:05:06.379Z"
   },
   {
    "duration": 0,
    "start_time": "2023-01-17T12:05:06.381Z"
   },
   {
    "duration": 0,
    "start_time": "2023-01-17T12:05:06.383Z"
   },
   {
    "duration": 0,
    "start_time": "2023-01-17T12:05:06.385Z"
   },
   {
    "duration": 0,
    "start_time": "2023-01-17T12:05:06.386Z"
   },
   {
    "duration": 1691,
    "start_time": "2023-01-17T12:06:04.004Z"
   },
   {
    "duration": 155,
    "start_time": "2023-01-17T12:06:05.697Z"
   },
   {
    "duration": 0,
    "start_time": "2023-01-17T12:06:05.854Z"
   },
   {
    "duration": 0,
    "start_time": "2023-01-17T12:06:05.856Z"
   },
   {
    "duration": 0,
    "start_time": "2023-01-17T12:06:05.856Z"
   },
   {
    "duration": 0,
    "start_time": "2023-01-17T12:06:05.858Z"
   },
   {
    "duration": 0,
    "start_time": "2023-01-17T12:06:05.859Z"
   },
   {
    "duration": 0,
    "start_time": "2023-01-17T12:06:05.860Z"
   },
   {
    "duration": 0,
    "start_time": "2023-01-17T12:06:05.862Z"
   },
   {
    "duration": 0,
    "start_time": "2023-01-17T12:06:05.878Z"
   },
   {
    "duration": 0,
    "start_time": "2023-01-17T12:06:05.880Z"
   },
   {
    "duration": 0,
    "start_time": "2023-01-17T12:06:05.881Z"
   },
   {
    "duration": 0,
    "start_time": "2023-01-17T12:06:05.883Z"
   },
   {
    "duration": 0,
    "start_time": "2023-01-17T12:06:05.885Z"
   },
   {
    "duration": 0,
    "start_time": "2023-01-17T12:06:05.886Z"
   },
   {
    "duration": 0,
    "start_time": "2023-01-17T12:06:05.888Z"
   },
   {
    "duration": 0,
    "start_time": "2023-01-17T12:06:05.889Z"
   },
   {
    "duration": 0,
    "start_time": "2023-01-17T12:06:05.891Z"
   },
   {
    "duration": 0,
    "start_time": "2023-01-17T12:06:05.892Z"
   },
   {
    "duration": 0,
    "start_time": "2023-01-17T12:06:05.893Z"
   },
   {
    "duration": 0,
    "start_time": "2023-01-17T12:06:05.894Z"
   },
   {
    "duration": 0,
    "start_time": "2023-01-17T12:06:05.895Z"
   },
   {
    "duration": 0,
    "start_time": "2023-01-17T12:06:05.896Z"
   },
   {
    "duration": 0,
    "start_time": "2023-01-17T12:06:05.897Z"
   },
   {
    "duration": 0,
    "start_time": "2023-01-17T12:06:05.898Z"
   },
   {
    "duration": 0,
    "start_time": "2023-01-17T12:06:05.899Z"
   },
   {
    "duration": 0,
    "start_time": "2023-01-17T12:06:05.900Z"
   },
   {
    "duration": 0,
    "start_time": "2023-01-17T12:06:05.901Z"
   },
   {
    "duration": 1,
    "start_time": "2023-01-17T12:06:05.902Z"
   },
   {
    "duration": 0,
    "start_time": "2023-01-17T12:06:05.904Z"
   },
   {
    "duration": 0,
    "start_time": "2023-01-17T12:06:05.904Z"
   },
   {
    "duration": 0,
    "start_time": "2023-01-17T12:06:05.906Z"
   },
   {
    "duration": 0,
    "start_time": "2023-01-17T12:06:05.907Z"
   },
   {
    "duration": 0,
    "start_time": "2023-01-17T12:06:05.908Z"
   },
   {
    "duration": 0,
    "start_time": "2023-01-17T12:06:05.909Z"
   },
   {
    "duration": 0,
    "start_time": "2023-01-17T12:06:05.911Z"
   },
   {
    "duration": 1771,
    "start_time": "2023-01-17T12:06:38.487Z"
   },
   {
    "duration": 136,
    "start_time": "2023-01-17T12:06:40.259Z"
   },
   {
    "duration": 0,
    "start_time": "2023-01-17T12:06:40.397Z"
   },
   {
    "duration": 0,
    "start_time": "2023-01-17T12:06:40.399Z"
   },
   {
    "duration": 0,
    "start_time": "2023-01-17T12:06:40.400Z"
   },
   {
    "duration": 0,
    "start_time": "2023-01-17T12:06:40.401Z"
   },
   {
    "duration": 0,
    "start_time": "2023-01-17T12:06:40.402Z"
   },
   {
    "duration": 0,
    "start_time": "2023-01-17T12:06:40.403Z"
   },
   {
    "duration": 0,
    "start_time": "2023-01-17T12:06:40.404Z"
   },
   {
    "duration": 0,
    "start_time": "2023-01-17T12:06:40.405Z"
   },
   {
    "duration": 0,
    "start_time": "2023-01-17T12:06:40.406Z"
   },
   {
    "duration": 0,
    "start_time": "2023-01-17T12:06:40.407Z"
   },
   {
    "duration": 0,
    "start_time": "2023-01-17T12:06:40.408Z"
   },
   {
    "duration": 0,
    "start_time": "2023-01-17T12:06:40.408Z"
   },
   {
    "duration": 0,
    "start_time": "2023-01-17T12:06:40.410Z"
   },
   {
    "duration": 0,
    "start_time": "2023-01-17T12:06:40.411Z"
   },
   {
    "duration": 0,
    "start_time": "2023-01-17T12:06:40.411Z"
   },
   {
    "duration": 0,
    "start_time": "2023-01-17T12:06:40.412Z"
   },
   {
    "duration": 0,
    "start_time": "2023-01-17T12:06:40.413Z"
   },
   {
    "duration": 0,
    "start_time": "2023-01-17T12:06:40.415Z"
   },
   {
    "duration": 0,
    "start_time": "2023-01-17T12:06:40.416Z"
   },
   {
    "duration": 0,
    "start_time": "2023-01-17T12:06:40.416Z"
   },
   {
    "duration": 0,
    "start_time": "2023-01-17T12:06:40.417Z"
   },
   {
    "duration": 0,
    "start_time": "2023-01-17T12:06:40.419Z"
   },
   {
    "duration": 0,
    "start_time": "2023-01-17T12:06:40.420Z"
   },
   {
    "duration": 0,
    "start_time": "2023-01-17T12:06:40.421Z"
   },
   {
    "duration": 0,
    "start_time": "2023-01-17T12:06:40.422Z"
   },
   {
    "duration": 0,
    "start_time": "2023-01-17T12:06:40.423Z"
   },
   {
    "duration": 0,
    "start_time": "2023-01-17T12:06:40.424Z"
   },
   {
    "duration": 0,
    "start_time": "2023-01-17T12:06:40.425Z"
   },
   {
    "duration": 0,
    "start_time": "2023-01-17T12:06:40.426Z"
   },
   {
    "duration": 0,
    "start_time": "2023-01-17T12:06:40.427Z"
   },
   {
    "duration": 0,
    "start_time": "2023-01-17T12:06:40.427Z"
   },
   {
    "duration": 0,
    "start_time": "2023-01-17T12:06:40.478Z"
   },
   {
    "duration": 0,
    "start_time": "2023-01-17T12:06:40.479Z"
   },
   {
    "duration": 0,
    "start_time": "2023-01-17T12:06:40.480Z"
   },
   {
    "duration": 67,
    "start_time": "2023-01-17T12:07:24.184Z"
   },
   {
    "duration": 11,
    "start_time": "2023-01-17T12:07:30.570Z"
   },
   {
    "duration": 1766,
    "start_time": "2023-01-17T12:07:36.096Z"
   },
   {
    "duration": 48,
    "start_time": "2023-01-17T12:07:37.864Z"
   },
   {
    "duration": 13,
    "start_time": "2023-01-17T12:07:37.914Z"
   },
   {
    "duration": 91,
    "start_time": "2023-01-17T12:07:37.929Z"
   },
   {
    "duration": 34,
    "start_time": "2023-01-17T12:07:38.022Z"
   },
   {
    "duration": 38,
    "start_time": "2023-01-17T12:07:38.058Z"
   },
   {
    "duration": 23,
    "start_time": "2023-01-17T12:07:38.098Z"
   },
   {
    "duration": 17,
    "start_time": "2023-01-17T12:07:38.123Z"
   },
   {
    "duration": 21,
    "start_time": "2023-01-17T12:07:38.141Z"
   },
   {
    "duration": 138,
    "start_time": "2023-01-17T12:07:38.165Z"
   },
   {
    "duration": 5,
    "start_time": "2023-01-17T12:07:38.305Z"
   },
   {
    "duration": 8,
    "start_time": "2023-01-17T12:07:38.312Z"
   },
   {
    "duration": 11,
    "start_time": "2023-01-17T12:07:38.322Z"
   },
   {
    "duration": 27,
    "start_time": "2023-01-17T12:07:38.335Z"
   },
   {
    "duration": 22,
    "start_time": "2023-01-17T12:07:38.364Z"
   },
   {
    "duration": 12,
    "start_time": "2023-01-17T12:07:38.388Z"
   },
   {
    "duration": 267,
    "start_time": "2023-01-17T12:07:38.401Z"
   },
   {
    "duration": 14,
    "start_time": "2023-01-17T12:07:38.669Z"
   },
   {
    "duration": 271,
    "start_time": "2023-01-17T12:07:38.685Z"
   },
   {
    "duration": 710,
    "start_time": "2023-01-17T12:07:38.958Z"
   },
   {
    "duration": 175,
    "start_time": "2023-01-17T12:07:39.670Z"
   },
   {
    "duration": 244,
    "start_time": "2023-01-17T12:07:39.848Z"
   },
   {
    "duration": 313,
    "start_time": "2023-01-17T12:07:40.094Z"
   },
   {
    "duration": 423,
    "start_time": "2023-01-17T12:07:40.409Z"
   },
   {
    "duration": 4,
    "start_time": "2023-01-17T12:07:40.834Z"
   },
   {
    "duration": 12,
    "start_time": "2023-01-17T12:07:40.840Z"
   },
   {
    "duration": 8,
    "start_time": "2023-01-17T12:07:40.853Z"
   },
   {
    "duration": 16,
    "start_time": "2023-01-17T12:07:40.864Z"
   },
   {
    "duration": 28,
    "start_time": "2023-01-17T12:07:40.881Z"
   },
   {
    "duration": 12,
    "start_time": "2023-01-17T12:07:40.911Z"
   },
   {
    "duration": 3,
    "start_time": "2023-01-17T12:07:40.924Z"
   },
   {
    "duration": 7,
    "start_time": "2023-01-17T12:07:40.929Z"
   },
   {
    "duration": 10,
    "start_time": "2023-01-17T12:07:40.938Z"
   },
   {
    "duration": 727,
    "start_time": "2023-01-17T12:07:40.950Z"
   },
   {
    "duration": 157100,
    "start_time": "2023-01-17T12:07:41.679Z"
   },
   {
    "duration": 221,
    "start_time": "2023-01-17T12:10:18.781Z"
   },
   {
    "duration": 3,
    "start_time": "2023-01-17T12:12:08.360Z"
   },
   {
    "duration": 1810,
    "start_time": "2023-01-17T12:12:36.672Z"
   },
   {
    "duration": 46,
    "start_time": "2023-01-17T12:12:38.484Z"
   },
   {
    "duration": 10,
    "start_time": "2023-01-17T12:12:38.532Z"
   },
   {
    "duration": 20,
    "start_time": "2023-01-17T12:12:38.544Z"
   },
   {
    "duration": 24,
    "start_time": "2023-01-17T12:12:38.566Z"
   },
   {
    "duration": 22,
    "start_time": "2023-01-17T12:12:38.592Z"
   },
   {
    "duration": 26,
    "start_time": "2023-01-17T12:12:38.616Z"
   },
   {
    "duration": 12,
    "start_time": "2023-01-17T12:12:38.644Z"
   },
   {
    "duration": 29,
    "start_time": "2023-01-17T12:12:38.657Z"
   },
   {
    "duration": 178,
    "start_time": "2023-01-17T12:12:38.688Z"
   },
   {
    "duration": 10,
    "start_time": "2023-01-17T12:12:38.868Z"
   },
   {
    "duration": 22,
    "start_time": "2023-01-17T12:12:38.880Z"
   },
   {
    "duration": 24,
    "start_time": "2023-01-17T12:12:38.903Z"
   },
   {
    "duration": 32,
    "start_time": "2023-01-17T12:12:38.931Z"
   },
   {
    "duration": 15,
    "start_time": "2023-01-17T12:12:38.964Z"
   },
   {
    "duration": 15,
    "start_time": "2023-01-17T12:12:38.981Z"
   },
   {
    "duration": 248,
    "start_time": "2023-01-17T12:12:38.998Z"
   },
   {
    "duration": 10,
    "start_time": "2023-01-17T12:12:39.247Z"
   },
   {
    "duration": 232,
    "start_time": "2023-01-17T12:12:39.259Z"
   },
   {
    "duration": 707,
    "start_time": "2023-01-17T12:12:39.493Z"
   },
   {
    "duration": 190,
    "start_time": "2023-01-17T12:12:40.202Z"
   },
   {
    "duration": 241,
    "start_time": "2023-01-17T12:12:40.395Z"
   },
   {
    "duration": 289,
    "start_time": "2023-01-17T12:12:40.638Z"
   },
   {
    "duration": 400,
    "start_time": "2023-01-17T12:12:40.928Z"
   },
   {
    "duration": 4,
    "start_time": "2023-01-17T12:12:41.330Z"
   },
   {
    "duration": 24,
    "start_time": "2023-01-17T12:12:41.335Z"
   },
   {
    "duration": 12,
    "start_time": "2023-01-17T12:12:41.361Z"
   },
   {
    "duration": 9,
    "start_time": "2023-01-17T12:12:41.374Z"
   },
   {
    "duration": 26,
    "start_time": "2023-01-17T12:12:41.384Z"
   },
   {
    "duration": 12,
    "start_time": "2023-01-17T12:12:41.412Z"
   },
   {
    "duration": 2,
    "start_time": "2023-01-17T12:12:41.426Z"
   },
   {
    "duration": 10,
    "start_time": "2023-01-17T12:12:41.430Z"
   },
   {
    "duration": 5,
    "start_time": "2023-01-17T12:12:41.442Z"
   },
   {
    "duration": 735,
    "start_time": "2023-01-17T12:12:41.449Z"
   },
   {
    "duration": 159373,
    "start_time": "2023-01-17T12:12:42.186Z"
   },
   {
    "duration": 2,
    "start_time": "2023-01-17T12:15:21.561Z"
   },
   {
    "duration": 1461,
    "start_time": "2023-01-17T12:15:21.565Z"
   },
   {
    "duration": 4,
    "start_time": "2023-01-17T12:16:24.062Z"
   },
   {
    "duration": 4,
    "start_time": "2023-01-17T12:16:56.760Z"
   },
   {
    "duration": 5,
    "start_time": "2023-01-17T12:17:02.051Z"
   },
   {
    "duration": 5,
    "start_time": "2023-01-17T12:17:13.946Z"
   },
   {
    "duration": 4,
    "start_time": "2023-01-17T12:17:18.870Z"
   },
   {
    "duration": 138,
    "start_time": "2023-01-17T12:20:43.276Z"
   },
   {
    "duration": 4,
    "start_time": "2023-01-17T12:20:48.950Z"
   },
   {
    "duration": 12,
    "start_time": "2023-01-17T12:20:54.206Z"
   },
   {
    "duration": 4,
    "start_time": "2023-01-17T12:21:13.134Z"
   },
   {
    "duration": 1359,
    "start_time": "2023-01-17T12:23:32.115Z"
   },
   {
    "duration": 76,
    "start_time": "2023-01-17T12:25:13.410Z"
   },
   {
    "duration": 5,
    "start_time": "2023-01-17T12:25:52.854Z"
   },
   {
    "duration": 1892,
    "start_time": "2023-01-17T12:43:35.192Z"
   },
   {
    "duration": 47,
    "start_time": "2023-01-17T12:43:37.087Z"
   },
   {
    "duration": 12,
    "start_time": "2023-01-17T12:43:37.136Z"
   },
   {
    "duration": 5,
    "start_time": "2023-01-17T12:43:37.150Z"
   },
   {
    "duration": 11,
    "start_time": "2023-01-17T12:43:37.158Z"
   },
   {
    "duration": 21,
    "start_time": "2023-01-17T12:43:37.170Z"
   },
   {
    "duration": 13,
    "start_time": "2023-01-17T12:43:37.193Z"
   },
   {
    "duration": 8,
    "start_time": "2023-01-17T12:43:37.208Z"
   },
   {
    "duration": 17,
    "start_time": "2023-01-17T12:43:37.218Z"
   },
   {
    "duration": 183,
    "start_time": "2023-01-17T12:43:37.238Z"
   },
   {
    "duration": 5,
    "start_time": "2023-01-17T12:43:37.423Z"
   },
   {
    "duration": 14,
    "start_time": "2023-01-17T12:43:37.430Z"
   },
   {
    "duration": 7,
    "start_time": "2023-01-17T12:43:37.446Z"
   },
   {
    "duration": 27,
    "start_time": "2023-01-17T12:43:37.457Z"
   },
   {
    "duration": 13,
    "start_time": "2023-01-17T12:43:37.485Z"
   },
   {
    "duration": 12,
    "start_time": "2023-01-17T12:43:37.500Z"
   },
   {
    "duration": 279,
    "start_time": "2023-01-17T12:43:37.514Z"
   },
   {
    "duration": 11,
    "start_time": "2023-01-17T12:43:37.795Z"
   },
   {
    "duration": 279,
    "start_time": "2023-01-17T12:43:37.807Z"
   },
   {
    "duration": 756,
    "start_time": "2023-01-17T12:43:38.088Z"
   },
   {
    "duration": 232,
    "start_time": "2023-01-17T12:43:38.846Z"
   },
   {
    "duration": 272,
    "start_time": "2023-01-17T12:43:39.080Z"
   },
   {
    "duration": 307,
    "start_time": "2023-01-17T12:43:39.354Z"
   },
   {
    "duration": 404,
    "start_time": "2023-01-17T12:43:39.662Z"
   },
   {
    "duration": 12,
    "start_time": "2023-01-17T12:43:40.068Z"
   },
   {
    "duration": 12,
    "start_time": "2023-01-17T12:43:40.083Z"
   },
   {
    "duration": 9,
    "start_time": "2023-01-17T12:43:40.097Z"
   },
   {
    "duration": 10,
    "start_time": "2023-01-17T12:43:40.108Z"
   },
   {
    "duration": 24,
    "start_time": "2023-01-17T12:43:40.120Z"
   },
   {
    "duration": 32,
    "start_time": "2023-01-17T12:43:40.146Z"
   },
   {
    "duration": 3,
    "start_time": "2023-01-17T12:43:40.180Z"
   },
   {
    "duration": 9,
    "start_time": "2023-01-17T12:43:40.185Z"
   },
   {
    "duration": 12,
    "start_time": "2023-01-17T12:43:40.196Z"
   },
   {
    "duration": 24,
    "start_time": "2023-01-17T12:43:40.210Z"
   },
   {
    "duration": 748,
    "start_time": "2023-01-17T12:43:40.236Z"
   },
   {
    "duration": 159506,
    "start_time": "2023-01-17T12:43:40.986Z"
   },
   {
    "duration": 643991,
    "start_time": "2023-01-17T12:46:20.494Z"
   },
   {
    "duration": 18,
    "start_time": "2023-01-17T12:57:04.486Z"
   },
   {
    "duration": 296,
    "start_time": "2023-01-17T12:57:04.506Z"
   },
   {
    "duration": 719,
    "start_time": "2023-01-17T13:02:54.962Z"
   },
   {
    "duration": 817,
    "start_time": "2023-01-17T13:03:11.263Z"
   },
   {
    "duration": 19,
    "start_time": "2023-01-17T13:04:51.519Z"
   },
   {
    "duration": 252,
    "start_time": "2023-01-17T13:05:00.291Z"
   },
   {
    "duration": 70,
    "start_time": "2023-01-17T13:09:04.565Z"
   },
   {
    "duration": 231,
    "start_time": "2023-01-17T13:17:04.158Z"
   },
   {
    "duration": 216,
    "start_time": "2023-01-17T13:17:45.232Z"
   },
   {
    "duration": 273,
    "start_time": "2023-01-17T13:18:22.058Z"
   },
   {
    "duration": 268,
    "start_time": "2023-01-17T13:21:23.317Z"
   },
   {
    "duration": 275,
    "start_time": "2023-01-17T13:22:49.963Z"
   },
   {
    "duration": 389,
    "start_time": "2023-01-17T13:22:58.744Z"
   },
   {
    "duration": 280,
    "start_time": "2023-01-17T13:23:13.428Z"
   },
   {
    "duration": 407,
    "start_time": "2023-01-17T13:23:30.871Z"
   },
   {
    "duration": 268,
    "start_time": "2023-01-17T13:24:42.318Z"
   },
   {
    "duration": 250,
    "start_time": "2023-01-17T13:25:45.232Z"
   },
   {
    "duration": 264,
    "start_time": "2023-01-17T13:26:24.872Z"
   },
   {
    "duration": 1754,
    "start_time": "2023-01-17T13:29:50.401Z"
   },
   {
    "duration": 49,
    "start_time": "2023-01-17T13:29:52.157Z"
   },
   {
    "duration": 11,
    "start_time": "2023-01-17T13:29:52.207Z"
   },
   {
    "duration": 25,
    "start_time": "2023-01-17T13:29:52.220Z"
   },
   {
    "duration": 35,
    "start_time": "2023-01-17T13:29:52.247Z"
   },
   {
    "duration": 29,
    "start_time": "2023-01-17T13:29:52.284Z"
   },
   {
    "duration": 26,
    "start_time": "2023-01-17T13:29:52.314Z"
   },
   {
    "duration": 22,
    "start_time": "2023-01-17T13:29:52.342Z"
   },
   {
    "duration": 35,
    "start_time": "2023-01-17T13:29:52.365Z"
   },
   {
    "duration": 151,
    "start_time": "2023-01-17T13:29:52.403Z"
   },
   {
    "duration": 5,
    "start_time": "2023-01-17T13:29:52.556Z"
   },
   {
    "duration": 19,
    "start_time": "2023-01-17T13:29:52.562Z"
   },
   {
    "duration": 19,
    "start_time": "2023-01-17T13:29:52.583Z"
   },
   {
    "duration": 22,
    "start_time": "2023-01-17T13:29:52.604Z"
   },
   {
    "duration": 16,
    "start_time": "2023-01-17T13:29:52.628Z"
   },
   {
    "duration": 25,
    "start_time": "2023-01-17T13:29:52.647Z"
   },
   {
    "duration": 231,
    "start_time": "2023-01-17T13:29:52.674Z"
   },
   {
    "duration": 10,
    "start_time": "2023-01-17T13:29:52.907Z"
   },
   {
    "duration": 244,
    "start_time": "2023-01-17T13:29:52.918Z"
   },
   {
    "duration": 747,
    "start_time": "2023-01-17T13:29:53.164Z"
   },
   {
    "duration": 238,
    "start_time": "2023-01-17T13:29:53.914Z"
   },
   {
    "duration": 275,
    "start_time": "2023-01-17T13:29:54.154Z"
   },
   {
    "duration": 275,
    "start_time": "2023-01-17T13:29:54.431Z"
   },
   {
    "duration": 430,
    "start_time": "2023-01-17T13:29:54.708Z"
   },
   {
    "duration": 5,
    "start_time": "2023-01-17T13:29:55.139Z"
   },
   {
    "duration": 19,
    "start_time": "2023-01-17T13:29:55.145Z"
   },
   {
    "duration": 21,
    "start_time": "2023-01-17T13:29:55.166Z"
   },
   {
    "duration": 11,
    "start_time": "2023-01-17T13:29:55.191Z"
   },
   {
    "duration": 43,
    "start_time": "2023-01-17T13:29:55.203Z"
   },
   {
    "duration": 17,
    "start_time": "2023-01-17T13:29:55.248Z"
   },
   {
    "duration": 42,
    "start_time": "2023-01-17T13:29:55.267Z"
   },
   {
    "duration": 18,
    "start_time": "2023-01-17T13:29:55.311Z"
   },
   {
    "duration": 18,
    "start_time": "2023-01-17T13:29:55.331Z"
   },
   {
    "duration": 13,
    "start_time": "2023-01-17T13:29:55.350Z"
   },
   {
    "duration": 918,
    "start_time": "2023-01-17T13:29:55.364Z"
   },
   {
    "duration": 91007,
    "start_time": "2023-01-17T13:29:56.284Z"
   },
   {
    "duration": 252,
    "start_time": "2023-01-17T14:06:07.589Z"
   },
   {
    "duration": 0,
    "start_time": "2023-01-17T14:06:07.843Z"
   },
   {
    "duration": 0,
    "start_time": "2023-01-17T14:06:07.844Z"
   },
   {
    "duration": 1768,
    "start_time": "2023-01-17T14:10:23.947Z"
   },
   {
    "duration": 50,
    "start_time": "2023-01-17T14:10:25.717Z"
   },
   {
    "duration": 13,
    "start_time": "2023-01-17T14:10:25.769Z"
   },
   {
    "duration": 8,
    "start_time": "2023-01-17T14:10:25.785Z"
   },
   {
    "duration": 16,
    "start_time": "2023-01-17T14:10:25.796Z"
   },
   {
    "duration": 21,
    "start_time": "2023-01-17T14:10:25.814Z"
   },
   {
    "duration": 12,
    "start_time": "2023-01-17T14:10:25.836Z"
   },
   {
    "duration": 10,
    "start_time": "2023-01-17T14:10:25.850Z"
   },
   {
    "duration": 26,
    "start_time": "2023-01-17T14:10:25.862Z"
   },
   {
    "duration": 143,
    "start_time": "2023-01-17T14:10:25.889Z"
   },
   {
    "duration": 5,
    "start_time": "2023-01-17T14:10:26.034Z"
   },
   {
    "duration": 8,
    "start_time": "2023-01-17T14:10:26.041Z"
   },
   {
    "duration": 10,
    "start_time": "2023-01-17T14:10:26.051Z"
   },
   {
    "duration": 24,
    "start_time": "2023-01-17T14:10:26.064Z"
   },
   {
    "duration": 12,
    "start_time": "2023-01-17T14:10:26.090Z"
   },
   {
    "duration": 11,
    "start_time": "2023-01-17T14:10:26.104Z"
   },
   {
    "duration": 251,
    "start_time": "2023-01-17T14:10:26.117Z"
   },
   {
    "duration": 13,
    "start_time": "2023-01-17T14:10:26.370Z"
   },
   {
    "duration": 231,
    "start_time": "2023-01-17T14:10:26.385Z"
   },
   {
    "duration": 683,
    "start_time": "2023-01-17T14:10:26.617Z"
   },
   {
    "duration": 182,
    "start_time": "2023-01-17T14:10:27.302Z"
   },
   {
    "duration": 264,
    "start_time": "2023-01-17T14:10:27.486Z"
   },
   {
    "duration": 270,
    "start_time": "2023-01-17T14:10:27.752Z"
   },
   {
    "duration": 405,
    "start_time": "2023-01-17T14:10:28.023Z"
   },
   {
    "duration": 3,
    "start_time": "2023-01-17T14:10:28.430Z"
   },
   {
    "duration": 13,
    "start_time": "2023-01-17T14:10:28.435Z"
   },
   {
    "duration": 17,
    "start_time": "2023-01-17T14:10:28.449Z"
   },
   {
    "duration": 7,
    "start_time": "2023-01-17T14:10:28.468Z"
   },
   {
    "duration": 24,
    "start_time": "2023-01-17T14:10:28.478Z"
   },
   {
    "duration": 11,
    "start_time": "2023-01-17T14:10:28.504Z"
   },
   {
    "duration": 8,
    "start_time": "2023-01-17T14:10:28.516Z"
   },
   {
    "duration": 11,
    "start_time": "2023-01-17T14:10:28.526Z"
   },
   {
    "duration": 7,
    "start_time": "2023-01-17T14:10:28.539Z"
   },
   {
    "duration": 14,
    "start_time": "2023-01-17T14:10:28.547Z"
   },
   {
    "duration": 621,
    "start_time": "2023-01-17T14:10:28.563Z"
   },
   {
    "duration": 92310,
    "start_time": "2023-01-17T14:10:29.186Z"
   },
   {
    "duration": 1689,
    "start_time": "2023-01-17T14:12:48.526Z"
   },
   {
    "duration": 45,
    "start_time": "2023-01-17T14:12:50.219Z"
   },
   {
    "duration": 10,
    "start_time": "2023-01-17T14:12:50.266Z"
   },
   {
    "duration": 6,
    "start_time": "2023-01-17T14:12:50.279Z"
   },
   {
    "duration": 12,
    "start_time": "2023-01-17T14:12:50.287Z"
   },
   {
    "duration": 18,
    "start_time": "2023-01-17T14:12:50.301Z"
   },
   {
    "duration": 10,
    "start_time": "2023-01-17T14:12:50.320Z"
   },
   {
    "duration": 9,
    "start_time": "2023-01-17T14:12:50.332Z"
   },
   {
    "duration": 19,
    "start_time": "2023-01-17T14:12:50.342Z"
   },
   {
    "duration": 133,
    "start_time": "2023-01-17T14:12:50.380Z"
   },
   {
    "duration": 5,
    "start_time": "2023-01-17T14:12:50.515Z"
   },
   {
    "duration": 36,
    "start_time": "2023-01-17T14:12:50.522Z"
   },
   {
    "duration": 9,
    "start_time": "2023-01-17T14:12:50.560Z"
   },
   {
    "duration": 22,
    "start_time": "2023-01-17T14:12:50.570Z"
   },
   {
    "duration": 12,
    "start_time": "2023-01-17T14:12:50.594Z"
   },
   {
    "duration": 15,
    "start_time": "2023-01-17T14:12:50.608Z"
   },
   {
    "duration": 234,
    "start_time": "2023-01-17T14:12:50.625Z"
   },
   {
    "duration": 21,
    "start_time": "2023-01-17T14:12:50.861Z"
   },
   {
    "duration": 226,
    "start_time": "2023-01-17T14:12:50.883Z"
   },
   {
    "duration": 721,
    "start_time": "2023-01-17T14:12:51.111Z"
   },
   {
    "duration": 182,
    "start_time": "2023-01-17T14:12:51.834Z"
   },
   {
    "duration": 235,
    "start_time": "2023-01-17T14:12:52.017Z"
   },
   {
    "duration": 267,
    "start_time": "2023-01-17T14:12:52.254Z"
   },
   {
    "duration": 405,
    "start_time": "2023-01-17T14:12:52.523Z"
   },
   {
    "duration": 4,
    "start_time": "2023-01-17T14:12:52.929Z"
   },
   {
    "duration": 25,
    "start_time": "2023-01-17T14:12:52.935Z"
   },
   {
    "duration": 42,
    "start_time": "2023-01-17T14:12:52.962Z"
   },
   {
    "duration": 14,
    "start_time": "2023-01-17T14:12:53.007Z"
   },
   {
    "duration": 25,
    "start_time": "2023-01-17T14:12:53.023Z"
   },
   {
    "duration": 14,
    "start_time": "2023-01-17T14:12:53.050Z"
   },
   {
    "duration": 15,
    "start_time": "2023-01-17T14:12:53.066Z"
   },
   {
    "duration": 13,
    "start_time": "2023-01-17T14:12:53.083Z"
   },
   {
    "duration": 7,
    "start_time": "2023-01-17T14:12:53.097Z"
   },
   {
    "duration": 15,
    "start_time": "2023-01-17T14:12:53.105Z"
   },
   {
    "duration": 658,
    "start_time": "2023-01-17T14:12:53.122Z"
   },
   {
    "duration": 91100,
    "start_time": "2023-01-17T14:12:53.783Z"
   },
   {
    "duration": 1712,
    "start_time": "2023-01-17T14:15:43.557Z"
   },
   {
    "duration": 43,
    "start_time": "2023-01-17T14:15:45.271Z"
   },
   {
    "duration": 10,
    "start_time": "2023-01-17T14:15:45.316Z"
   },
   {
    "duration": 18,
    "start_time": "2023-01-17T14:15:45.327Z"
   },
   {
    "duration": 22,
    "start_time": "2023-01-17T14:15:45.347Z"
   },
   {
    "duration": 19,
    "start_time": "2023-01-17T14:15:45.370Z"
   },
   {
    "duration": 22,
    "start_time": "2023-01-17T14:15:45.391Z"
   },
   {
    "duration": 20,
    "start_time": "2023-01-17T14:15:45.415Z"
   },
   {
    "duration": 13,
    "start_time": "2023-01-17T14:15:45.436Z"
   },
   {
    "duration": 124,
    "start_time": "2023-01-17T14:15:45.451Z"
   },
   {
    "duration": 5,
    "start_time": "2023-01-17T14:15:45.577Z"
   },
   {
    "duration": 9,
    "start_time": "2023-01-17T14:15:45.584Z"
   },
   {
    "duration": 6,
    "start_time": "2023-01-17T14:15:45.595Z"
   },
   {
    "duration": 26,
    "start_time": "2023-01-17T14:15:45.604Z"
   },
   {
    "duration": 13,
    "start_time": "2023-01-17T14:15:45.631Z"
   },
   {
    "duration": 15,
    "start_time": "2023-01-17T14:15:45.646Z"
   },
   {
    "duration": 235,
    "start_time": "2023-01-17T14:15:45.664Z"
   },
   {
    "duration": 9,
    "start_time": "2023-01-17T14:15:45.900Z"
   },
   {
    "duration": 232,
    "start_time": "2023-01-17T14:15:45.910Z"
   },
   {
    "duration": 761,
    "start_time": "2023-01-17T14:15:46.143Z"
   },
   {
    "duration": 200,
    "start_time": "2023-01-17T14:15:46.906Z"
   },
   {
    "duration": 235,
    "start_time": "2023-01-17T14:15:47.107Z"
   },
   {
    "duration": 249,
    "start_time": "2023-01-17T14:15:47.343Z"
   },
   {
    "duration": 400,
    "start_time": "2023-01-17T14:15:47.594Z"
   },
   {
    "duration": 4,
    "start_time": "2023-01-17T14:15:47.996Z"
   },
   {
    "duration": 9,
    "start_time": "2023-01-17T14:15:48.001Z"
   },
   {
    "duration": 8,
    "start_time": "2023-01-17T14:15:48.012Z"
   },
   {
    "duration": 6,
    "start_time": "2023-01-17T14:15:48.021Z"
   },
   {
    "duration": 40,
    "start_time": "2023-01-17T14:15:48.029Z"
   },
   {
    "duration": 19,
    "start_time": "2023-01-17T14:15:48.070Z"
   },
   {
    "duration": 2,
    "start_time": "2023-01-17T14:15:48.091Z"
   },
   {
    "duration": 7,
    "start_time": "2023-01-17T14:15:48.095Z"
   },
   {
    "duration": 9,
    "start_time": "2023-01-17T14:15:48.104Z"
   },
   {
    "duration": 8,
    "start_time": "2023-01-17T14:15:48.114Z"
   },
   {
    "duration": 758,
    "start_time": "2023-01-17T14:15:48.124Z"
   },
   {
    "duration": 91864,
    "start_time": "2023-01-17T14:15:48.884Z"
   },
   {
    "duration": 16,
    "start_time": "2023-01-17T14:21:46.586Z"
   },
   {
    "duration": 209,
    "start_time": "2023-01-17T14:21:46.604Z"
   },
   {
    "duration": 0,
    "start_time": "2023-01-17T14:21:46.814Z"
   },
   {
    "duration": 261572,
    "start_time": "2023-01-17T14:22:30.213Z"
   },
   {
    "duration": 12,
    "start_time": "2023-01-17T14:26:51.786Z"
   },
   {
    "duration": 12,
    "start_time": "2023-01-17T14:31:43.802Z"
   },
   {
    "duration": 45,
    "start_time": "2023-01-17T14:32:03.026Z"
   },
   {
    "duration": 6,
    "start_time": "2023-01-17T14:32:07.845Z"
   },
   {
    "duration": 8,
    "start_time": "2023-01-17T14:32:24.208Z"
   },
   {
    "duration": 1670,
    "start_time": "2023-01-17T14:33:55.406Z"
   },
   {
    "duration": 42,
    "start_time": "2023-01-17T14:33:57.077Z"
   },
   {
    "duration": 10,
    "start_time": "2023-01-17T14:33:57.121Z"
   },
   {
    "duration": 8,
    "start_time": "2023-01-17T14:33:57.133Z"
   },
   {
    "duration": 9,
    "start_time": "2023-01-17T14:33:57.143Z"
   },
   {
    "duration": 14,
    "start_time": "2023-01-17T14:33:57.154Z"
   },
   {
    "duration": 12,
    "start_time": "2023-01-17T14:33:57.169Z"
   },
   {
    "duration": 6,
    "start_time": "2023-01-17T14:33:57.183Z"
   },
   {
    "duration": 14,
    "start_time": "2023-01-17T14:33:57.191Z"
   },
   {
    "duration": 137,
    "start_time": "2023-01-17T14:33:57.207Z"
   },
   {
    "duration": 5,
    "start_time": "2023-01-17T14:33:57.346Z"
   },
   {
    "duration": 8,
    "start_time": "2023-01-17T14:33:57.353Z"
   },
   {
    "duration": 15,
    "start_time": "2023-01-17T14:33:57.363Z"
   },
   {
    "duration": 12,
    "start_time": "2023-01-17T14:33:57.380Z"
   },
   {
    "duration": 11,
    "start_time": "2023-01-17T14:33:57.393Z"
   },
   {
    "duration": 11,
    "start_time": "2023-01-17T14:33:57.406Z"
   },
   {
    "duration": 253,
    "start_time": "2023-01-17T14:33:57.418Z"
   },
   {
    "duration": 10,
    "start_time": "2023-01-17T14:33:57.677Z"
   },
   {
    "duration": 228,
    "start_time": "2023-01-17T14:33:57.689Z"
   },
   {
    "duration": 713,
    "start_time": "2023-01-17T14:33:57.919Z"
   },
   {
    "duration": 173,
    "start_time": "2023-01-17T14:33:58.634Z"
   },
   {
    "duration": 238,
    "start_time": "2023-01-17T14:33:58.809Z"
   },
   {
    "duration": 248,
    "start_time": "2023-01-17T14:33:59.048Z"
   },
   {
    "duration": 431,
    "start_time": "2023-01-17T14:33:59.298Z"
   },
   {
    "duration": 4,
    "start_time": "2023-01-17T14:33:59.732Z"
   },
   {
    "duration": 19,
    "start_time": "2023-01-17T14:33:59.738Z"
   },
   {
    "duration": 6,
    "start_time": "2023-01-17T14:33:59.759Z"
   },
   {
    "duration": 10,
    "start_time": "2023-01-17T14:33:59.768Z"
   },
   {
    "duration": 27,
    "start_time": "2023-01-17T14:33:59.780Z"
   },
   {
    "duration": 12,
    "start_time": "2023-01-17T14:33:59.809Z"
   },
   {
    "duration": 3,
    "start_time": "2023-01-17T14:33:59.823Z"
   },
   {
    "duration": 9,
    "start_time": "2023-01-17T14:33:59.827Z"
   },
   {
    "duration": 5,
    "start_time": "2023-01-17T14:33:59.838Z"
   },
   {
    "duration": 5,
    "start_time": "2023-01-17T14:33:59.845Z"
   },
   {
    "duration": 730,
    "start_time": "2023-01-17T14:33:59.851Z"
   },
   {
    "duration": 89347,
    "start_time": "2023-01-17T14:34:00.584Z"
   },
   {
    "duration": 284648,
    "start_time": "2023-01-17T14:35:29.932Z"
   },
   {
    "duration": 10,
    "start_time": "2023-01-17T14:40:14.581Z"
   },
   {
    "duration": 175,
    "start_time": "2023-01-17T14:40:14.593Z"
   },
   {
    "duration": 14,
    "start_time": "2023-01-17T14:43:03.746Z"
   },
   {
    "duration": 228,
    "start_time": "2023-01-17T14:43:14.550Z"
   }
  ],
  "language_info": {
   "codemirror_mode": {
    "name": "ipython",
    "version": 3
   },
   "file_extension": ".py",
   "mimetype": "text/x-python",
   "name": "python",
   "nbconvert_exporter": "python",
   "pygments_lexer": "ipython3",
   "version": "3.7.7"
  },
  "notebookId": "b5ee5f32-133b-46a1-82ba-92c96917cc3c",
  "notebookPath": "YANDEX/8.Прогнозирование заказов такси.ipynb",
  "toc": {
   "base_numbering": 1,
   "nav_menu": {},
   "number_sections": true,
   "sideBar": true,
   "skip_h1_title": true,
   "title_cell": "Содержание",
   "title_sidebar": "Contents",
   "toc_cell": true,
   "toc_position": {
    "height": "calc(100% - 180px)",
    "left": "10px",
    "top": "150px",
    "width": "165px"
   },
   "toc_section_display": true,
   "toc_window_display": false
  }
 },
 "nbformat": 4,
 "nbformat_minor": 4
}
