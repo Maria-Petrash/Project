{
 "cells": [
  {
   "cell_type": "markdown",
   "metadata": {
    "cellId": "goqa18uto2jq3bp4pofmr",
    "execution_id": "a1ed5dce-0cf3-41f1-b162-0179793b5226"
   },
   "source": [
    "## Проект \"Телеком\"\n"
   ]
  },
  {
   "cell_type": "markdown",
   "metadata": {
    "cellId": "td271axezi9dwko4uvkd3f",
    "execution_id": "b18aa5ef-072c-4cc2-886c-e019e5e5bfc2"
   },
   "source": [
    "### Описание проекта\n",
    "\n",
    "Оператор связи «Ниединогоразрыва.ком» хочет научиться прогнозировать отток клиентов. Если выяснится, что пользователь планирует уйти, ему будут предложены промокоды и специальные условия. Команда оператора собрала персональные данные о некоторых клиентах, информацию об их тарифах и договорах.\n",
    "\n",
    "\n",
    "###  Описание услуг\n",
    "\n",
    "Оператор предоставляет два основных типа услуг: \n",
    "\n",
    "1. Стационарную телефонную связь. Возможно подключение телефонного аппарата к нескольким линиям одновременно.\n",
    "2. Интернет. Подключение может быть двух типов: через телефонную линию (DSL*,* от англ. *digital subscriber line*, «цифровая абонентская линия») или оптоволоконный кабель (*Fiber optic*).  \n",
    "\n",
    "Также доступны такие услуги:\n",
    "\n",
    "- Интернет-безопасность: антивирус (*DeviceProtection*) и блокировка небезопасных сайтов (*OnlineSecurity*);\n",
    "- Выделенная линия технической поддержки (*TechSupport*);\n",
    "- Облачное хранилище файлов для резервного копирования данных (*OnlineBackup*);\n",
    "- Стриминговое телевидение (*StreamingTV*) и каталог фильмов (*StreamingMovies*).\n",
    "\n",
    "За услуги клиенты могут платить каждый месяц или заключить договор на 1–2 года. Доступны различные способы расчёта и возможность получения электронного чека.\n",
    "\n",
    "### Описание данных\n",
    "\n",
    "Данные состоят из файлов, полученных из разных источников:\n",
    "\n",
    "- `contract.csv` — информация о договоре;\n",
    "- `personal.csv` — персональные данные клиента;\n",
    "- `internet.csv` — информация об интернет-услугах;\n",
    "- `phone.csv` — информация об услугах телефонии.\n",
    "\n",
    "Во всех файлах столбец `customerID` содержит код клиента.\n",
    "\n",
    "Информация о договорах актуальна на 1 февраля 2020.\n",
    "\n",
    "Данные находятся в папке /datasets/final_provider/\n"
   ]
  },
  {
   "cell_type": "markdown",
   "metadata": {
    "cellId": "gq7ba06kerafle97fiv1a6",
    "execution_id": "457db2a8-2848-4de7-86a9-2ea1b1ac09a2"
   },
   "source": [
    "\n",
    "###  Этапы выполнения проекта\n",
    "\n",
    "1. Составление плана работы и исследование данных:\n",
    "- выгрузка датафреймов,\n",
    "- предварительный анализ данных,\n",
    "- обозначение дальнейших шагов.\n",
    "\n",
    "2. Предобработка данных и разработка модели\n",
    "\n",
    "3. Составление отчёта\n"
   ]
  },
  {
   "cell_type": "markdown",
   "metadata": {
    "cellId": "xd9cpfvnxafwcqtm0wgb2b",
    "execution_id": "5a3cb920-1a09-4faf-b769-c88f7c3e27f0"
   },
   "source": [
    "###  Список уточняющих вопросов\n",
    "\n",
    "1. Что приравнивается к оттоку(расторжение договора/прекращение использования услуг или ситуация, в которой клиент вначале активно пользуется услугой, а затем сводит пользование до минимума. Что именно влияет на отток (какие признаки)?Какие именно данные говорят,что клиент ушел окончательно? \n",
    "2. Отток можно считать  не \"в целом\" по клиентам или для конкретных сегментов? \n",
    "3. Какие клиенты(в каких сегментах) уходят и по какой причине? Какой отток считается приемлемым? \n",
    "4. Как считается отток клиентов в компании: в количестве пользователей и в деньгах? За какой период считается отток клиентов в компании(месяц, квартал, год)?Имеются ли какие-то тенденции в оттоке клиентов, т. е. бывают ли определенные периоды(сезонность), когда отток становится более сильным? Сколько клиентов теряет компания за анализируемый период?\n",
    "5. Какие услуги являются определяющими выбор клиента?\n",
    "6. Какое среднее время жизни клиента в компании и доход с клиента за весь период ?\n",
    "7. Какая модель машинного обучения может быть использована для прогнозирования оттока?Какой горизонт прогнозирования?\n",
    "8. На что еще важно обратить внимание?\n",
    "\n",
    "### Предварительный план\n",
    "\n",
    "- Изучение и обработка данных.\n",
    "- Предварительный анализ данных, включая описание признаков, характеристики, визуализация.\n",
    "- Исследование взаимосвязей между признаками и целевой переменной.\n",
    "- Создание признаков для использования в модели машинного обучения.\n",
    "- Выбор и обучение модели машинного обучения, подбор параметров модели.\n",
    "- Дизайн исследования – подтверждение эффективности выдвинутых гипотез.\n",
    "- Оценка качества модели.\n",
    "- Выводы."
   ]
  },
  {
   "cell_type": "code",
   "execution_count": null,
   "metadata": {
    "cellId": "hhhv87urg9rxzgug25ddbl"
   },
   "outputs": [],
   "source": [
    "%pip install phik"
   ]
  },
  {
   "cell_type": "code",
   "execution_count": 171,
   "metadata": {
    "cellId": "94734g831gc7183bmjahd7"
   },
   "outputs": [],
   "source": [
    "#загрузим потренциально необходимые библиотеки\n",
    "\n",
    "import pandas as pd\n",
    "import numpy as np\n",
    "import seaborn as sns\n",
    "import matplotlib.pyplot as plt\n",
    "import re\n",
    "from collections import namedtuple\n",
    "from sklearn.utils import shuffle\n",
    "from sklearn.model_selection import train_test_split, GridSearchCV\n",
    "from sklearn.metrics import roc_auc_score, accuracy_score, roc_curve\n",
    "from sklearn.preprocessing import StandardScaler\n",
    "from sklearn.linear_model import LogisticRegression\n",
    "from sklearn.neighbors import KNeighborsClassifier\n",
    "from sklearn.ensemble import RandomForestClassifier\n",
    "from catboost import CatBoostClassifier, cv\n",
    "from sklearn.pipeline import make_pipeline\n",
    "from catboost import CatBoostClassifier\n",
    "from sklearn.preprocessing import (\n",
    "    OneHotEncoder,\n",
    "    OrdinalEncoder,\n",
    "    StandardScaler\n",
    ")\n",
    "from sklearn.compose import ColumnTransformer\n",
    "from sklearn.pipeline import Pipeline\n",
    "import time\n",
    "import timeit\n",
    "import datetime\n",
    "from sklearn.metrics import f1_score\n",
    "\n",
    "from sklearn import datasets\n",
    "\n",
    "import phik\n",
    "from phik.report import plot_correlation_matrix\n",
    "from phik import report\n",
    "\n",
    "pd.set_option('display.max_columns', None)\n",
    "\n",
    "# константы \n",
    "RANDOM_STATE = 130323"
   ]
  },
  {
   "cell_type": "code",
   "execution_count": 3,
   "metadata": {
    "cellId": "qqrgb88nqdsqgnrwydojm"
   },
   "outputs": [],
   "source": [
    "#загрузим данные\n",
    "try:\n",
    "   contract = pd.read_csv('./datasets/final_provider/contract.csv')\n",
    "   personal = pd.read_csv('./datasets/final_provider/personal.csv')\n",
    "   internet = pd.read_csv('./datasets/final_provider/internet.csv')\n",
    "   phone = pd.read_csv('./datasets/final_provider/phone.csv')\n",
    "\n",
    "except:\n",
    "    contract = pd.read_csv('/datasets/final_provider/contract.csv')\n",
    "    personal = pd.read_csv('/datasets/final_provider/personal.csv')\n",
    "    internet = pd.read_csv('/datasets/final_provider/internet.csv')\n",
    "    phone = pd.read_csv('/datasets/final_provider/phone.csv')\n",
    "    \n",
    "    #contract = pd.read_csv('contract.csv')\n",
    "    #personal = pd.read_csv('personal.csv')\n",
    "    #internet = pd.read_csv('internet.csv') \n",
    "    #phone = pd.read_csv('phone.csv')\n",
    "    "
   ]
  },
  {
   "cell_type": "markdown",
   "metadata": {
    "cellId": "udsfl6btdkltiqip6tkjp7",
    "execution_id": "dc9ee499-bdc8-4b73-b3c6-ecc61b49b088"
   },
   "source": [
    "<a name=\"analyse_files\"></a>\n",
    "## Изучение файлов"
   ]
  },
  {
   "cell_type": "markdown",
   "metadata": {
    "cellId": "jmxualwm1yranjjy1gri",
    "execution_id": "c180f546-b191-4e75-b0ed-4c033ea04323"
   },
   "source": [
    "\n",
    "\n",
    "# CONTRACT"
   ]
  },
  {
   "cell_type": "code",
   "execution_count": 4,
   "metadata": {
    "cellId": "hj40hs2jnbnkqij0wpm3m"
   },
   "outputs": [
    {
     "data": {
      "text/plain": [
       "(7043, 8)"
      ]
     },
     "metadata": {},
     "output_type": "display_data"
    }
   ],
   "source": [
    "contract.shape"
   ]
  },
  {
   "cell_type": "code",
   "execution_count": 5,
   "metadata": {
    "cellId": "nx8squp8xdg20l8k33yz03"
   },
   "outputs": [
    {
     "data": {
      "text/plain": [
       "0"
      ]
     },
     "metadata": {},
     "output_type": "display_data"
    }
   ],
   "source": [
    "contract.duplicated().sum()"
   ]
  },
  {
   "cell_type": "code",
   "execution_count": 6,
   "metadata": {
    "cellId": "oxljmdga5lrmbtor7j3o8k"
   },
   "outputs": [
    {
     "data": {
      "text/html": [
       "<div>\n",
       "<style scoped>\n",
       "    .dataframe tbody tr th:only-of-type {\n",
       "        vertical-align: middle;\n",
       "    }\n",
       "\n",
       "    .dataframe tbody tr th {\n",
       "        vertical-align: top;\n",
       "    }\n",
       "\n",
       "    .dataframe thead th {\n",
       "        text-align: right;\n",
       "    }\n",
       "</style>\n",
       "<table border=\"1\" class=\"dataframe\">\n",
       "  <thead>\n",
       "    <tr style=\"text-align: right;\">\n",
       "      <th></th>\n",
       "      <th>customerID</th>\n",
       "      <th>BeginDate</th>\n",
       "      <th>EndDate</th>\n",
       "      <th>Type</th>\n",
       "      <th>PaperlessBilling</th>\n",
       "      <th>PaymentMethod</th>\n",
       "      <th>MonthlyCharges</th>\n",
       "      <th>TotalCharges</th>\n",
       "    </tr>\n",
       "  </thead>\n",
       "  <tbody>\n",
       "    <tr>\n",
       "      <th>0</th>\n",
       "      <td>7590-VHVEG</td>\n",
       "      <td>2020-01-01</td>\n",
       "      <td>No</td>\n",
       "      <td>Month-to-month</td>\n",
       "      <td>Yes</td>\n",
       "      <td>Electronic check</td>\n",
       "      <td>29.85</td>\n",
       "      <td>29.85</td>\n",
       "    </tr>\n",
       "    <tr>\n",
       "      <th>1</th>\n",
       "      <td>5575-GNVDE</td>\n",
       "      <td>2017-04-01</td>\n",
       "      <td>No</td>\n",
       "      <td>One year</td>\n",
       "      <td>No</td>\n",
       "      <td>Mailed check</td>\n",
       "      <td>56.95</td>\n",
       "      <td>1889.5</td>\n",
       "    </tr>\n",
       "    <tr>\n",
       "      <th>2</th>\n",
       "      <td>3668-QPYBK</td>\n",
       "      <td>2019-10-01</td>\n",
       "      <td>2019-12-01 00:00:00</td>\n",
       "      <td>Month-to-month</td>\n",
       "      <td>Yes</td>\n",
       "      <td>Mailed check</td>\n",
       "      <td>53.85</td>\n",
       "      <td>108.15</td>\n",
       "    </tr>\n",
       "    <tr>\n",
       "      <th>3</th>\n",
       "      <td>7795-CFOCW</td>\n",
       "      <td>2016-05-01</td>\n",
       "      <td>No</td>\n",
       "      <td>One year</td>\n",
       "      <td>No</td>\n",
       "      <td>Bank transfer (automatic)</td>\n",
       "      <td>42.30</td>\n",
       "      <td>1840.75</td>\n",
       "    </tr>\n",
       "    <tr>\n",
       "      <th>4</th>\n",
       "      <td>9237-HQITU</td>\n",
       "      <td>2019-09-01</td>\n",
       "      <td>2019-11-01 00:00:00</td>\n",
       "      <td>Month-to-month</td>\n",
       "      <td>Yes</td>\n",
       "      <td>Electronic check</td>\n",
       "      <td>70.70</td>\n",
       "      <td>151.65</td>\n",
       "    </tr>\n",
       "  </tbody>\n",
       "</table>\n",
       "</div>"
      ],
      "text/plain": [
       "   customerID   BeginDate              EndDate            Type  \\\n",
       "0  7590-VHVEG  2020-01-01                   No  Month-to-month   \n",
       "1  5575-GNVDE  2017-04-01                   No        One year   \n",
       "2  3668-QPYBK  2019-10-01  2019-12-01 00:00:00  Month-to-month   \n",
       "3  7795-CFOCW  2016-05-01                   No        One year   \n",
       "4  9237-HQITU  2019-09-01  2019-11-01 00:00:00  Month-to-month   \n",
       "\n",
       "  PaperlessBilling              PaymentMethod  MonthlyCharges TotalCharges  \n",
       "0              Yes           Electronic check           29.85        29.85  \n",
       "1               No               Mailed check           56.95       1889.5  \n",
       "2              Yes               Mailed check           53.85       108.15  \n",
       "3               No  Bank transfer (automatic)           42.30      1840.75  \n",
       "4              Yes           Electronic check           70.70       151.65  "
      ]
     },
     "metadata": {},
     "output_type": "display_data"
    }
   ],
   "source": [
    "display(contract.head())"
   ]
  },
  {
   "cell_type": "code",
   "execution_count": 7,
   "metadata": {
    "cellId": "rqhpf7tgkt1ltz5g2fub6"
   },
   "outputs": [
    {
     "name": "stdout",
     "output_type": "stream",
     "text": [
      "<class 'pandas.core.frame.DataFrame'>\n",
      "RangeIndex: 7043 entries, 0 to 7042\n",
      "Data columns (total 8 columns):\n",
      " #   Column            Non-Null Count  Dtype  \n",
      "---  ------            --------------  -----  \n",
      " 0   customerID        7043 non-null   object \n",
      " 1   BeginDate         7043 non-null   object \n",
      " 2   EndDate           7043 non-null   object \n",
      " 3   Type              7043 non-null   object \n",
      " 4   PaperlessBilling  7043 non-null   object \n",
      " 5   PaymentMethod     7043 non-null   object \n",
      " 6   MonthlyCharges    7043 non-null   float64\n",
      " 7   TotalCharges      7043 non-null   object \n",
      "dtypes: float64(1), object(7)\n",
      "memory usage: 440.3+ KB\n"
     ]
    },
    {
     "data": {
      "text/plain": [
       "None"
      ]
     },
     "metadata": {},
     "output_type": "display_data"
    }
   ],
   "source": [
    "display(contract.info())"
   ]
  },
  {
   "cell_type": "code",
   "execution_count": 8,
   "metadata": {
    "cellId": "h4ehdk1o5b6oexd5tmu2cm"
   },
   "outputs": [
    {
     "data": {
      "text/html": [
       "<div>\n",
       "<style scoped>\n",
       "    .dataframe tbody tr th:only-of-type {\n",
       "        vertical-align: middle;\n",
       "    }\n",
       "\n",
       "    .dataframe tbody tr th {\n",
       "        vertical-align: top;\n",
       "    }\n",
       "\n",
       "    .dataframe thead th {\n",
       "        text-align: right;\n",
       "    }\n",
       "</style>\n",
       "<table border=\"1\" class=\"dataframe\">\n",
       "  <thead>\n",
       "    <tr style=\"text-align: right;\">\n",
       "      <th></th>\n",
       "      <th>customerID</th>\n",
       "      <th>BeginDate</th>\n",
       "      <th>EndDate</th>\n",
       "      <th>Type</th>\n",
       "      <th>PaperlessBilling</th>\n",
       "      <th>PaymentMethod</th>\n",
       "      <th>MonthlyCharges</th>\n",
       "      <th>TotalCharges</th>\n",
       "    </tr>\n",
       "  </thead>\n",
       "  <tbody>\n",
       "    <tr>\n",
       "      <th>count</th>\n",
       "      <td>7043</td>\n",
       "      <td>7043</td>\n",
       "      <td>7043</td>\n",
       "      <td>7043</td>\n",
       "      <td>7043</td>\n",
       "      <td>7043</td>\n",
       "      <td>7043.000000</td>\n",
       "      <td>7043</td>\n",
       "    </tr>\n",
       "    <tr>\n",
       "      <th>unique</th>\n",
       "      <td>7043</td>\n",
       "      <td>77</td>\n",
       "      <td>5</td>\n",
       "      <td>3</td>\n",
       "      <td>2</td>\n",
       "      <td>4</td>\n",
       "      <td>NaN</td>\n",
       "      <td>6531</td>\n",
       "    </tr>\n",
       "    <tr>\n",
       "      <th>top</th>\n",
       "      <td>3338-CVVEH</td>\n",
       "      <td>2014-02-01</td>\n",
       "      <td>No</td>\n",
       "      <td>Month-to-month</td>\n",
       "      <td>Yes</td>\n",
       "      <td>Electronic check</td>\n",
       "      <td>NaN</td>\n",
       "      <td>20.2</td>\n",
       "    </tr>\n",
       "    <tr>\n",
       "      <th>freq</th>\n",
       "      <td>1</td>\n",
       "      <td>366</td>\n",
       "      <td>5174</td>\n",
       "      <td>3875</td>\n",
       "      <td>4171</td>\n",
       "      <td>2365</td>\n",
       "      <td>NaN</td>\n",
       "      <td>11</td>\n",
       "    </tr>\n",
       "    <tr>\n",
       "      <th>mean</th>\n",
       "      <td>NaN</td>\n",
       "      <td>NaN</td>\n",
       "      <td>NaN</td>\n",
       "      <td>NaN</td>\n",
       "      <td>NaN</td>\n",
       "      <td>NaN</td>\n",
       "      <td>64.761692</td>\n",
       "      <td>NaN</td>\n",
       "    </tr>\n",
       "    <tr>\n",
       "      <th>std</th>\n",
       "      <td>NaN</td>\n",
       "      <td>NaN</td>\n",
       "      <td>NaN</td>\n",
       "      <td>NaN</td>\n",
       "      <td>NaN</td>\n",
       "      <td>NaN</td>\n",
       "      <td>30.090047</td>\n",
       "      <td>NaN</td>\n",
       "    </tr>\n",
       "    <tr>\n",
       "      <th>min</th>\n",
       "      <td>NaN</td>\n",
       "      <td>NaN</td>\n",
       "      <td>NaN</td>\n",
       "      <td>NaN</td>\n",
       "      <td>NaN</td>\n",
       "      <td>NaN</td>\n",
       "      <td>18.250000</td>\n",
       "      <td>NaN</td>\n",
       "    </tr>\n",
       "    <tr>\n",
       "      <th>25%</th>\n",
       "      <td>NaN</td>\n",
       "      <td>NaN</td>\n",
       "      <td>NaN</td>\n",
       "      <td>NaN</td>\n",
       "      <td>NaN</td>\n",
       "      <td>NaN</td>\n",
       "      <td>35.500000</td>\n",
       "      <td>NaN</td>\n",
       "    </tr>\n",
       "    <tr>\n",
       "      <th>50%</th>\n",
       "      <td>NaN</td>\n",
       "      <td>NaN</td>\n",
       "      <td>NaN</td>\n",
       "      <td>NaN</td>\n",
       "      <td>NaN</td>\n",
       "      <td>NaN</td>\n",
       "      <td>70.350000</td>\n",
       "      <td>NaN</td>\n",
       "    </tr>\n",
       "    <tr>\n",
       "      <th>75%</th>\n",
       "      <td>NaN</td>\n",
       "      <td>NaN</td>\n",
       "      <td>NaN</td>\n",
       "      <td>NaN</td>\n",
       "      <td>NaN</td>\n",
       "      <td>NaN</td>\n",
       "      <td>89.850000</td>\n",
       "      <td>NaN</td>\n",
       "    </tr>\n",
       "    <tr>\n",
       "      <th>max</th>\n",
       "      <td>NaN</td>\n",
       "      <td>NaN</td>\n",
       "      <td>NaN</td>\n",
       "      <td>NaN</td>\n",
       "      <td>NaN</td>\n",
       "      <td>NaN</td>\n",
       "      <td>118.750000</td>\n",
       "      <td>NaN</td>\n",
       "    </tr>\n",
       "  </tbody>\n",
       "</table>\n",
       "</div>"
      ],
      "text/plain": [
       "        customerID   BeginDate EndDate            Type PaperlessBilling  \\\n",
       "count         7043        7043    7043            7043             7043   \n",
       "unique        7043          77       5               3                2   \n",
       "top     3338-CVVEH  2014-02-01      No  Month-to-month              Yes   \n",
       "freq             1         366    5174            3875             4171   \n",
       "mean           NaN         NaN     NaN             NaN              NaN   \n",
       "std            NaN         NaN     NaN             NaN              NaN   \n",
       "min            NaN         NaN     NaN             NaN              NaN   \n",
       "25%            NaN         NaN     NaN             NaN              NaN   \n",
       "50%            NaN         NaN     NaN             NaN              NaN   \n",
       "75%            NaN         NaN     NaN             NaN              NaN   \n",
       "max            NaN         NaN     NaN             NaN              NaN   \n",
       "\n",
       "           PaymentMethod  MonthlyCharges TotalCharges  \n",
       "count               7043     7043.000000         7043  \n",
       "unique                 4             NaN         6531  \n",
       "top     Electronic check             NaN         20.2  \n",
       "freq                2365             NaN           11  \n",
       "mean                 NaN       64.761692          NaN  \n",
       "std                  NaN       30.090047          NaN  \n",
       "min                  NaN       18.250000          NaN  \n",
       "25%                  NaN       35.500000          NaN  \n",
       "50%                  NaN       70.350000          NaN  \n",
       "75%                  NaN       89.850000          NaN  \n",
       "max                  NaN      118.750000          NaN  "
      ]
     },
     "metadata": {},
     "output_type": "display_data"
    }
   ],
   "source": [
    "display(contract.describe(include='all')) "
   ]
  },
  {
   "cell_type": "code",
   "execution_count": 9,
   "metadata": {
    "cellId": "btf3e2bbhjirvtdqpu6up"
   },
   "outputs": [
    {
     "data": {
      "text/plain": [
       "Electronic check             2365\n",
       "Mailed check                 1612\n",
       "Bank transfer (automatic)    1544\n",
       "Credit card (automatic)      1522\n",
       "Name: PaymentMethod, dtype: int64"
      ]
     },
     "metadata": {},
     "output_type": "display_data"
    }
   ],
   "source": [
    "contract['PaymentMethod'].value_counts()"
   ]
  },
  {
   "cell_type": "code",
   "execution_count": 10,
   "metadata": {
    "cellId": "9eimdsqser6u8oi7y7u1ql"
   },
   "outputs": [
    {
     "data": {
      "text/plain": [
       "Month-to-month    3875\n",
       "Two year          1695\n",
       "One year          1473\n",
       "Name: Type, dtype: int64"
      ]
     },
     "metadata": {},
     "output_type": "display_data"
    }
   ],
   "source": [
    "contract['Type'].value_counts()"
   ]
  },
  {
   "cell_type": "markdown",
   "metadata": {
    "cellId": "7gqo0lm7aau8yzewsrea7n",
    "execution_id": "6737662e-96ee-493b-adec-18837403daea"
   },
   "source": [
    "\n",
    "# PERSONAL"
   ]
  },
  {
   "cell_type": "code",
   "execution_count": 11,
   "metadata": {
    "cellId": "31egb86hfiig13a5dcamzc"
   },
   "outputs": [
    {
     "data": {
      "text/plain": [
       "(7043, 5)"
      ]
     },
     "metadata": {},
     "output_type": "display_data"
    }
   ],
   "source": [
    "personal.shape"
   ]
  },
  {
   "cell_type": "code",
   "execution_count": 12,
   "metadata": {
    "cellId": "ik0fhrepwfcrgepy01u5u"
   },
   "outputs": [
    {
     "data": {
      "text/plain": [
       "0"
      ]
     },
     "metadata": {},
     "output_type": "display_data"
    }
   ],
   "source": [
    "personal.duplicated().sum()"
   ]
  },
  {
   "cell_type": "code",
   "execution_count": 13,
   "metadata": {
    "cellId": "5fkez30z0yqy0gqvp09d4"
   },
   "outputs": [
    {
     "data": {
      "text/html": [
       "<div>\n",
       "<style scoped>\n",
       "    .dataframe tbody tr th:only-of-type {\n",
       "        vertical-align: middle;\n",
       "    }\n",
       "\n",
       "    .dataframe tbody tr th {\n",
       "        vertical-align: top;\n",
       "    }\n",
       "\n",
       "    .dataframe thead th {\n",
       "        text-align: right;\n",
       "    }\n",
       "</style>\n",
       "<table border=\"1\" class=\"dataframe\">\n",
       "  <thead>\n",
       "    <tr style=\"text-align: right;\">\n",
       "      <th></th>\n",
       "      <th>customerID</th>\n",
       "      <th>gender</th>\n",
       "      <th>SeniorCitizen</th>\n",
       "      <th>Partner</th>\n",
       "      <th>Dependents</th>\n",
       "    </tr>\n",
       "  </thead>\n",
       "  <tbody>\n",
       "    <tr>\n",
       "      <th>0</th>\n",
       "      <td>7590-VHVEG</td>\n",
       "      <td>Female</td>\n",
       "      <td>0</td>\n",
       "      <td>Yes</td>\n",
       "      <td>No</td>\n",
       "    </tr>\n",
       "    <tr>\n",
       "      <th>1</th>\n",
       "      <td>5575-GNVDE</td>\n",
       "      <td>Male</td>\n",
       "      <td>0</td>\n",
       "      <td>No</td>\n",
       "      <td>No</td>\n",
       "    </tr>\n",
       "    <tr>\n",
       "      <th>2</th>\n",
       "      <td>3668-QPYBK</td>\n",
       "      <td>Male</td>\n",
       "      <td>0</td>\n",
       "      <td>No</td>\n",
       "      <td>No</td>\n",
       "    </tr>\n",
       "    <tr>\n",
       "      <th>3</th>\n",
       "      <td>7795-CFOCW</td>\n",
       "      <td>Male</td>\n",
       "      <td>0</td>\n",
       "      <td>No</td>\n",
       "      <td>No</td>\n",
       "    </tr>\n",
       "    <tr>\n",
       "      <th>4</th>\n",
       "      <td>9237-HQITU</td>\n",
       "      <td>Female</td>\n",
       "      <td>0</td>\n",
       "      <td>No</td>\n",
       "      <td>No</td>\n",
       "    </tr>\n",
       "  </tbody>\n",
       "</table>\n",
       "</div>"
      ],
      "text/plain": [
       "   customerID  gender  SeniorCitizen Partner Dependents\n",
       "0  7590-VHVEG  Female              0     Yes         No\n",
       "1  5575-GNVDE    Male              0      No         No\n",
       "2  3668-QPYBK    Male              0      No         No\n",
       "3  7795-CFOCW    Male              0      No         No\n",
       "4  9237-HQITU  Female              0      No         No"
      ]
     },
     "metadata": {},
     "output_type": "display_data"
    }
   ],
   "source": [
    "display(personal.head())"
   ]
  },
  {
   "cell_type": "code",
   "execution_count": 14,
   "metadata": {
    "cellId": "8nm3k9uhtxod5kfxiychn4"
   },
   "outputs": [
    {
     "name": "stdout",
     "output_type": "stream",
     "text": [
      "<class 'pandas.core.frame.DataFrame'>\n",
      "RangeIndex: 7043 entries, 0 to 7042\n",
      "Data columns (total 5 columns):\n",
      " #   Column         Non-Null Count  Dtype \n",
      "---  ------         --------------  ----- \n",
      " 0   customerID     7043 non-null   object\n",
      " 1   gender         7043 non-null   object\n",
      " 2   SeniorCitizen  7043 non-null   int64 \n",
      " 3   Partner        7043 non-null   object\n",
      " 4   Dependents     7043 non-null   object\n",
      "dtypes: int64(1), object(4)\n",
      "memory usage: 275.2+ KB\n"
     ]
    },
    {
     "data": {
      "text/plain": [
       "None"
      ]
     },
     "metadata": {},
     "output_type": "display_data"
    }
   ],
   "source": [
    "display(personal.info())"
   ]
  },
  {
   "cell_type": "code",
   "execution_count": 15,
   "metadata": {
    "cellId": "ugjfhl0q34nyh295xevxcj"
   },
   "outputs": [
    {
     "data": {
      "text/html": [
       "<div>\n",
       "<style scoped>\n",
       "    .dataframe tbody tr th:only-of-type {\n",
       "        vertical-align: middle;\n",
       "    }\n",
       "\n",
       "    .dataframe tbody tr th {\n",
       "        vertical-align: top;\n",
       "    }\n",
       "\n",
       "    .dataframe thead th {\n",
       "        text-align: right;\n",
       "    }\n",
       "</style>\n",
       "<table border=\"1\" class=\"dataframe\">\n",
       "  <thead>\n",
       "    <tr style=\"text-align: right;\">\n",
       "      <th></th>\n",
       "      <th>customerID</th>\n",
       "      <th>gender</th>\n",
       "      <th>SeniorCitizen</th>\n",
       "      <th>Partner</th>\n",
       "      <th>Dependents</th>\n",
       "    </tr>\n",
       "  </thead>\n",
       "  <tbody>\n",
       "    <tr>\n",
       "      <th>count</th>\n",
       "      <td>7043</td>\n",
       "      <td>7043</td>\n",
       "      <td>7043.000000</td>\n",
       "      <td>7043</td>\n",
       "      <td>7043</td>\n",
       "    </tr>\n",
       "    <tr>\n",
       "      <th>unique</th>\n",
       "      <td>7043</td>\n",
       "      <td>2</td>\n",
       "      <td>NaN</td>\n",
       "      <td>2</td>\n",
       "      <td>2</td>\n",
       "    </tr>\n",
       "    <tr>\n",
       "      <th>top</th>\n",
       "      <td>3338-CVVEH</td>\n",
       "      <td>Male</td>\n",
       "      <td>NaN</td>\n",
       "      <td>No</td>\n",
       "      <td>No</td>\n",
       "    </tr>\n",
       "    <tr>\n",
       "      <th>freq</th>\n",
       "      <td>1</td>\n",
       "      <td>3555</td>\n",
       "      <td>NaN</td>\n",
       "      <td>3641</td>\n",
       "      <td>4933</td>\n",
       "    </tr>\n",
       "    <tr>\n",
       "      <th>mean</th>\n",
       "      <td>NaN</td>\n",
       "      <td>NaN</td>\n",
       "      <td>0.162147</td>\n",
       "      <td>NaN</td>\n",
       "      <td>NaN</td>\n",
       "    </tr>\n",
       "    <tr>\n",
       "      <th>std</th>\n",
       "      <td>NaN</td>\n",
       "      <td>NaN</td>\n",
       "      <td>0.368612</td>\n",
       "      <td>NaN</td>\n",
       "      <td>NaN</td>\n",
       "    </tr>\n",
       "    <tr>\n",
       "      <th>min</th>\n",
       "      <td>NaN</td>\n",
       "      <td>NaN</td>\n",
       "      <td>0.000000</td>\n",
       "      <td>NaN</td>\n",
       "      <td>NaN</td>\n",
       "    </tr>\n",
       "    <tr>\n",
       "      <th>25%</th>\n",
       "      <td>NaN</td>\n",
       "      <td>NaN</td>\n",
       "      <td>0.000000</td>\n",
       "      <td>NaN</td>\n",
       "      <td>NaN</td>\n",
       "    </tr>\n",
       "    <tr>\n",
       "      <th>50%</th>\n",
       "      <td>NaN</td>\n",
       "      <td>NaN</td>\n",
       "      <td>0.000000</td>\n",
       "      <td>NaN</td>\n",
       "      <td>NaN</td>\n",
       "    </tr>\n",
       "    <tr>\n",
       "      <th>75%</th>\n",
       "      <td>NaN</td>\n",
       "      <td>NaN</td>\n",
       "      <td>0.000000</td>\n",
       "      <td>NaN</td>\n",
       "      <td>NaN</td>\n",
       "    </tr>\n",
       "    <tr>\n",
       "      <th>max</th>\n",
       "      <td>NaN</td>\n",
       "      <td>NaN</td>\n",
       "      <td>1.000000</td>\n",
       "      <td>NaN</td>\n",
       "      <td>NaN</td>\n",
       "    </tr>\n",
       "  </tbody>\n",
       "</table>\n",
       "</div>"
      ],
      "text/plain": [
       "        customerID gender  SeniorCitizen Partner Dependents\n",
       "count         7043   7043    7043.000000    7043       7043\n",
       "unique        7043      2            NaN       2          2\n",
       "top     3338-CVVEH   Male            NaN      No         No\n",
       "freq             1   3555            NaN    3641       4933\n",
       "mean           NaN    NaN       0.162147     NaN        NaN\n",
       "std            NaN    NaN       0.368612     NaN        NaN\n",
       "min            NaN    NaN       0.000000     NaN        NaN\n",
       "25%            NaN    NaN       0.000000     NaN        NaN\n",
       "50%            NaN    NaN       0.000000     NaN        NaN\n",
       "75%            NaN    NaN       0.000000     NaN        NaN\n",
       "max            NaN    NaN       1.000000     NaN        NaN"
      ]
     },
     "metadata": {},
     "output_type": "display_data"
    }
   ],
   "source": [
    "display(personal.describe(include='all')) "
   ]
  },
  {
   "cell_type": "code",
   "execution_count": 16,
   "metadata": {
    "cellId": "hl2sw7yj2x46yj2wzoncy"
   },
   "outputs": [
    {
     "data": {
      "text/plain": [
       "Male      3555\n",
       "Female    3488\n",
       "Name: gender, dtype: int64"
      ]
     },
     "metadata": {},
     "output_type": "display_data"
    }
   ],
   "source": [
    "personal['gender'].value_counts()"
   ]
  },
  {
   "cell_type": "code",
   "execution_count": 17,
   "metadata": {
    "cellId": "5n5qsuc87d8eedw93ovrid"
   },
   "outputs": [
    {
     "data": {
      "text/plain": [
       "No     3641\n",
       "Yes    3402\n",
       "Name: Partner, dtype: int64"
      ]
     },
     "metadata": {},
     "output_type": "display_data"
    }
   ],
   "source": [
    "personal['Partner'].value_counts()"
   ]
  },
  {
   "cell_type": "code",
   "execution_count": 18,
   "metadata": {
    "cellId": "bj69okk8jdhyteyvnulnt"
   },
   "outputs": [
    {
     "data": {
      "text/plain": [
       "No     4933\n",
       "Yes    2110\n",
       "Name: Dependents, dtype: int64"
      ]
     },
     "metadata": {},
     "output_type": "display_data"
    }
   ],
   "source": [
    "personal['Dependents'].value_counts()"
   ]
  },
  {
   "cell_type": "markdown",
   "metadata": {
    "cellId": "sbi3rpqjqzhoizfrai2ko7",
    "execution_id": "e4700cea-d4f4-454d-8855-62ecc4b8f731"
   },
   "source": [
    "\n",
    "# INTERNET"
   ]
  },
  {
   "cell_type": "code",
   "execution_count": 19,
   "metadata": {
    "cellId": "gnx8pzwu10dts13mq3jisi"
   },
   "outputs": [
    {
     "data": {
      "text/plain": [
       "(5517, 8)"
      ]
     },
     "metadata": {},
     "output_type": "display_data"
    }
   ],
   "source": [
    "internet.shape"
   ]
  },
  {
   "cell_type": "code",
   "execution_count": 20,
   "metadata": {
    "cellId": "gylgp7tavnbzqnhsspo9k"
   },
   "outputs": [
    {
     "data": {
      "text/plain": [
       "0"
      ]
     },
     "metadata": {},
     "output_type": "display_data"
    }
   ],
   "source": [
    "internet.duplicated().sum()"
   ]
  },
  {
   "cell_type": "code",
   "execution_count": 21,
   "metadata": {
    "cellId": "89zl4yecccueo6mxcew8bj"
   },
   "outputs": [
    {
     "data": {
      "text/html": [
       "<div>\n",
       "<style scoped>\n",
       "    .dataframe tbody tr th:only-of-type {\n",
       "        vertical-align: middle;\n",
       "    }\n",
       "\n",
       "    .dataframe tbody tr th {\n",
       "        vertical-align: top;\n",
       "    }\n",
       "\n",
       "    .dataframe thead th {\n",
       "        text-align: right;\n",
       "    }\n",
       "</style>\n",
       "<table border=\"1\" class=\"dataframe\">\n",
       "  <thead>\n",
       "    <tr style=\"text-align: right;\">\n",
       "      <th></th>\n",
       "      <th>customerID</th>\n",
       "      <th>InternetService</th>\n",
       "      <th>OnlineSecurity</th>\n",
       "      <th>OnlineBackup</th>\n",
       "      <th>DeviceProtection</th>\n",
       "      <th>TechSupport</th>\n",
       "      <th>StreamingTV</th>\n",
       "      <th>StreamingMovies</th>\n",
       "    </tr>\n",
       "  </thead>\n",
       "  <tbody>\n",
       "    <tr>\n",
       "      <th>0</th>\n",
       "      <td>7590-VHVEG</td>\n",
       "      <td>DSL</td>\n",
       "      <td>No</td>\n",
       "      <td>Yes</td>\n",
       "      <td>No</td>\n",
       "      <td>No</td>\n",
       "      <td>No</td>\n",
       "      <td>No</td>\n",
       "    </tr>\n",
       "    <tr>\n",
       "      <th>1</th>\n",
       "      <td>5575-GNVDE</td>\n",
       "      <td>DSL</td>\n",
       "      <td>Yes</td>\n",
       "      <td>No</td>\n",
       "      <td>Yes</td>\n",
       "      <td>No</td>\n",
       "      <td>No</td>\n",
       "      <td>No</td>\n",
       "    </tr>\n",
       "    <tr>\n",
       "      <th>2</th>\n",
       "      <td>3668-QPYBK</td>\n",
       "      <td>DSL</td>\n",
       "      <td>Yes</td>\n",
       "      <td>Yes</td>\n",
       "      <td>No</td>\n",
       "      <td>No</td>\n",
       "      <td>No</td>\n",
       "      <td>No</td>\n",
       "    </tr>\n",
       "    <tr>\n",
       "      <th>3</th>\n",
       "      <td>7795-CFOCW</td>\n",
       "      <td>DSL</td>\n",
       "      <td>Yes</td>\n",
       "      <td>No</td>\n",
       "      <td>Yes</td>\n",
       "      <td>Yes</td>\n",
       "      <td>No</td>\n",
       "      <td>No</td>\n",
       "    </tr>\n",
       "    <tr>\n",
       "      <th>4</th>\n",
       "      <td>9237-HQITU</td>\n",
       "      <td>Fiber optic</td>\n",
       "      <td>No</td>\n",
       "      <td>No</td>\n",
       "      <td>No</td>\n",
       "      <td>No</td>\n",
       "      <td>No</td>\n",
       "      <td>No</td>\n",
       "    </tr>\n",
       "  </tbody>\n",
       "</table>\n",
       "</div>"
      ],
      "text/plain": [
       "   customerID InternetService OnlineSecurity OnlineBackup DeviceProtection  \\\n",
       "0  7590-VHVEG             DSL             No          Yes               No   \n",
       "1  5575-GNVDE             DSL            Yes           No              Yes   \n",
       "2  3668-QPYBK             DSL            Yes          Yes               No   \n",
       "3  7795-CFOCW             DSL            Yes           No              Yes   \n",
       "4  9237-HQITU     Fiber optic             No           No               No   \n",
       "\n",
       "  TechSupport StreamingTV StreamingMovies  \n",
       "0          No          No              No  \n",
       "1          No          No              No  \n",
       "2          No          No              No  \n",
       "3         Yes          No              No  \n",
       "4          No          No              No  "
      ]
     },
     "metadata": {},
     "output_type": "display_data"
    }
   ],
   "source": [
    "display(internet.head())"
   ]
  },
  {
   "cell_type": "code",
   "execution_count": 22,
   "metadata": {
    "cellId": "kqsd972lwx1t22irtjaer"
   },
   "outputs": [
    {
     "name": "stdout",
     "output_type": "stream",
     "text": [
      "<class 'pandas.core.frame.DataFrame'>\n",
      "RangeIndex: 5517 entries, 0 to 5516\n",
      "Data columns (total 8 columns):\n",
      " #   Column            Non-Null Count  Dtype \n",
      "---  ------            --------------  ----- \n",
      " 0   customerID        5517 non-null   object\n",
      " 1   InternetService   5517 non-null   object\n",
      " 2   OnlineSecurity    5517 non-null   object\n",
      " 3   OnlineBackup      5517 non-null   object\n",
      " 4   DeviceProtection  5517 non-null   object\n",
      " 5   TechSupport       5517 non-null   object\n",
      " 6   StreamingTV       5517 non-null   object\n",
      " 7   StreamingMovies   5517 non-null   object\n",
      "dtypes: object(8)\n",
      "memory usage: 344.9+ KB\n"
     ]
    },
    {
     "data": {
      "text/plain": [
       "None"
      ]
     },
     "metadata": {},
     "output_type": "display_data"
    }
   ],
   "source": [
    "display(internet.info())"
   ]
  },
  {
   "cell_type": "code",
   "execution_count": 23,
   "metadata": {
    "cellId": "oebn4mt6lor4ecm7rlmy2o"
   },
   "outputs": [
    {
     "data": {
      "text/html": [
       "<div>\n",
       "<style scoped>\n",
       "    .dataframe tbody tr th:only-of-type {\n",
       "        vertical-align: middle;\n",
       "    }\n",
       "\n",
       "    .dataframe tbody tr th {\n",
       "        vertical-align: top;\n",
       "    }\n",
       "\n",
       "    .dataframe thead th {\n",
       "        text-align: right;\n",
       "    }\n",
       "</style>\n",
       "<table border=\"1\" class=\"dataframe\">\n",
       "  <thead>\n",
       "    <tr style=\"text-align: right;\">\n",
       "      <th></th>\n",
       "      <th>customerID</th>\n",
       "      <th>InternetService</th>\n",
       "      <th>OnlineSecurity</th>\n",
       "      <th>OnlineBackup</th>\n",
       "      <th>DeviceProtection</th>\n",
       "      <th>TechSupport</th>\n",
       "      <th>StreamingTV</th>\n",
       "      <th>StreamingMovies</th>\n",
       "    </tr>\n",
       "  </thead>\n",
       "  <tbody>\n",
       "    <tr>\n",
       "      <th>count</th>\n",
       "      <td>5517</td>\n",
       "      <td>5517</td>\n",
       "      <td>5517</td>\n",
       "      <td>5517</td>\n",
       "      <td>5517</td>\n",
       "      <td>5517</td>\n",
       "      <td>5517</td>\n",
       "      <td>5517</td>\n",
       "    </tr>\n",
       "    <tr>\n",
       "      <th>unique</th>\n",
       "      <td>5517</td>\n",
       "      <td>2</td>\n",
       "      <td>2</td>\n",
       "      <td>2</td>\n",
       "      <td>2</td>\n",
       "      <td>2</td>\n",
       "      <td>2</td>\n",
       "      <td>2</td>\n",
       "    </tr>\n",
       "    <tr>\n",
       "      <th>top</th>\n",
       "      <td>9500-LTVBP</td>\n",
       "      <td>Fiber optic</td>\n",
       "      <td>No</td>\n",
       "      <td>No</td>\n",
       "      <td>No</td>\n",
       "      <td>No</td>\n",
       "      <td>No</td>\n",
       "      <td>No</td>\n",
       "    </tr>\n",
       "    <tr>\n",
       "      <th>freq</th>\n",
       "      <td>1</td>\n",
       "      <td>3096</td>\n",
       "      <td>3498</td>\n",
       "      <td>3088</td>\n",
       "      <td>3095</td>\n",
       "      <td>3473</td>\n",
       "      <td>2810</td>\n",
       "      <td>2785</td>\n",
       "    </tr>\n",
       "  </tbody>\n",
       "</table>\n",
       "</div>"
      ],
      "text/plain": [
       "        customerID InternetService OnlineSecurity OnlineBackup  \\\n",
       "count         5517            5517           5517         5517   \n",
       "unique        5517               2              2            2   \n",
       "top     9500-LTVBP     Fiber optic             No           No   \n",
       "freq             1            3096           3498         3088   \n",
       "\n",
       "       DeviceProtection TechSupport StreamingTV StreamingMovies  \n",
       "count              5517        5517        5517            5517  \n",
       "unique                2           2           2               2  \n",
       "top                  No          No          No              No  \n",
       "freq               3095        3473        2810            2785  "
      ]
     },
     "metadata": {},
     "output_type": "display_data"
    }
   ],
   "source": [
    "display(internet.describe(include='all')) "
   ]
  },
  {
   "cell_type": "code",
   "execution_count": 24,
   "metadata": {
    "cellId": "4cpyqymhcd31lmz0fzawin"
   },
   "outputs": [
    {
     "data": {
      "text/plain": [
       "Fiber optic    3096\n",
       "DSL            2421\n",
       "Name: InternetService, dtype: int64"
      ]
     },
     "metadata": {},
     "output_type": "display_data"
    }
   ],
   "source": [
    "internet['InternetService'].value_counts()"
   ]
  },
  {
   "cell_type": "markdown",
   "metadata": {
    "cellId": "3m4jtwjihugyhggoq398ds",
    "execution_id": "923aa033-aed1-4507-bde0-a41ecb9435ea"
   },
   "source": [
    "\n",
    "# PHONE"
   ]
  },
  {
   "cell_type": "code",
   "execution_count": 25,
   "metadata": {
    "cellId": "5okaot7hgrwv10lu3qnwdl"
   },
   "outputs": [
    {
     "data": {
      "text/plain": [
       "(6361, 2)"
      ]
     },
     "metadata": {},
     "output_type": "display_data"
    }
   ],
   "source": [
    "phone.shape"
   ]
  },
  {
   "cell_type": "code",
   "execution_count": 26,
   "metadata": {
    "cellId": "hai25upna4twx4zz9nzi"
   },
   "outputs": [
    {
     "data": {
      "text/plain": [
       "0"
      ]
     },
     "metadata": {},
     "output_type": "display_data"
    }
   ],
   "source": [
    "phone.duplicated().sum()"
   ]
  },
  {
   "cell_type": "code",
   "execution_count": 27,
   "metadata": {
    "cellId": "af52ihsbve7vugt813kzy"
   },
   "outputs": [
    {
     "data": {
      "text/html": [
       "<div>\n",
       "<style scoped>\n",
       "    .dataframe tbody tr th:only-of-type {\n",
       "        vertical-align: middle;\n",
       "    }\n",
       "\n",
       "    .dataframe tbody tr th {\n",
       "        vertical-align: top;\n",
       "    }\n",
       "\n",
       "    .dataframe thead th {\n",
       "        text-align: right;\n",
       "    }\n",
       "</style>\n",
       "<table border=\"1\" class=\"dataframe\">\n",
       "  <thead>\n",
       "    <tr style=\"text-align: right;\">\n",
       "      <th></th>\n",
       "      <th>customerID</th>\n",
       "      <th>MultipleLines</th>\n",
       "    </tr>\n",
       "  </thead>\n",
       "  <tbody>\n",
       "    <tr>\n",
       "      <th>0</th>\n",
       "      <td>5575-GNVDE</td>\n",
       "      <td>No</td>\n",
       "    </tr>\n",
       "    <tr>\n",
       "      <th>1</th>\n",
       "      <td>3668-QPYBK</td>\n",
       "      <td>No</td>\n",
       "    </tr>\n",
       "    <tr>\n",
       "      <th>2</th>\n",
       "      <td>9237-HQITU</td>\n",
       "      <td>No</td>\n",
       "    </tr>\n",
       "    <tr>\n",
       "      <th>3</th>\n",
       "      <td>9305-CDSKC</td>\n",
       "      <td>Yes</td>\n",
       "    </tr>\n",
       "    <tr>\n",
       "      <th>4</th>\n",
       "      <td>1452-KIOVK</td>\n",
       "      <td>Yes</td>\n",
       "    </tr>\n",
       "  </tbody>\n",
       "</table>\n",
       "</div>"
      ],
      "text/plain": [
       "   customerID MultipleLines\n",
       "0  5575-GNVDE            No\n",
       "1  3668-QPYBK            No\n",
       "2  9237-HQITU            No\n",
       "3  9305-CDSKC           Yes\n",
       "4  1452-KIOVK           Yes"
      ]
     },
     "metadata": {},
     "output_type": "display_data"
    }
   ],
   "source": [
    "display(phone.head())"
   ]
  },
  {
   "cell_type": "code",
   "execution_count": 28,
   "metadata": {
    "cellId": "2gfkmdenejk79bx4n0wsq5"
   },
   "outputs": [
    {
     "name": "stdout",
     "output_type": "stream",
     "text": [
      "<class 'pandas.core.frame.DataFrame'>\n",
      "RangeIndex: 6361 entries, 0 to 6360\n",
      "Data columns (total 2 columns):\n",
      " #   Column         Non-Null Count  Dtype \n",
      "---  ------         --------------  ----- \n",
      " 0   customerID     6361 non-null   object\n",
      " 1   MultipleLines  6361 non-null   object\n",
      "dtypes: object(2)\n",
      "memory usage: 99.5+ KB\n"
     ]
    },
    {
     "data": {
      "text/plain": [
       "None"
      ]
     },
     "metadata": {},
     "output_type": "display_data"
    }
   ],
   "source": [
    "display(phone.info())"
   ]
  },
  {
   "cell_type": "code",
   "execution_count": 29,
   "metadata": {
    "cellId": "a7ofjuabvrd2rdfhtvk249"
   },
   "outputs": [
    {
     "data": {
      "text/html": [
       "<div>\n",
       "<style scoped>\n",
       "    .dataframe tbody tr th:only-of-type {\n",
       "        vertical-align: middle;\n",
       "    }\n",
       "\n",
       "    .dataframe tbody tr th {\n",
       "        vertical-align: top;\n",
       "    }\n",
       "\n",
       "    .dataframe thead th {\n",
       "        text-align: right;\n",
       "    }\n",
       "</style>\n",
       "<table border=\"1\" class=\"dataframe\">\n",
       "  <thead>\n",
       "    <tr style=\"text-align: right;\">\n",
       "      <th></th>\n",
       "      <th>customerID</th>\n",
       "      <th>MultipleLines</th>\n",
       "    </tr>\n",
       "  </thead>\n",
       "  <tbody>\n",
       "    <tr>\n",
       "      <th>count</th>\n",
       "      <td>6361</td>\n",
       "      <td>6361</td>\n",
       "    </tr>\n",
       "    <tr>\n",
       "      <th>unique</th>\n",
       "      <td>6361</td>\n",
       "      <td>2</td>\n",
       "    </tr>\n",
       "    <tr>\n",
       "      <th>top</th>\n",
       "      <td>3338-CVVEH</td>\n",
       "      <td>No</td>\n",
       "    </tr>\n",
       "    <tr>\n",
       "      <th>freq</th>\n",
       "      <td>1</td>\n",
       "      <td>3390</td>\n",
       "    </tr>\n",
       "  </tbody>\n",
       "</table>\n",
       "</div>"
      ],
      "text/plain": [
       "        customerID MultipleLines\n",
       "count         6361          6361\n",
       "unique        6361             2\n",
       "top     3338-CVVEH            No\n",
       "freq             1          3390"
      ]
     },
     "metadata": {},
     "output_type": "display_data"
    }
   ],
   "source": [
    "display(phone.describe(include='all')) "
   ]
  },
  {
   "cell_type": "code",
   "execution_count": 30,
   "metadata": {
    "cellId": "fbpuyz4f1jo2k2s8asi829"
   },
   "outputs": [
    {
     "data": {
      "text/plain": [
       "No     3390\n",
       "Yes    2971\n",
       "Name: MultipleLines, dtype: int64"
      ]
     },
     "metadata": {},
     "output_type": "display_data"
    }
   ],
   "source": [
    "phone['MultipleLines'].value_counts()"
   ]
  },
  {
   "cell_type": "markdown",
   "metadata": {
    "cellId": "guglvnt7ddn0xbx4xp7qgq",
    "execution_id": "54ceb000-f0f0-4f06-a303-751614cbf69d"
   },
   "source": [
    "\n",
    "##  Подготовка "
   ]
  },
  {
   "cell_type": "markdown",
   "metadata": {
    "cellId": "t9ildbkstadafg2q35f8zc",
    "execution_id": "6fe30998-1536-4b50-b0c0-0332e372e5c5"
   },
   "source": [
    "Подготовим данные, выделим целевой признак оттока клиентов: Сustomer_churn( если есть дата ухода, то целевой призак 1),если значение в столбце EndDate - No, то целевой признак равен 0."
   ]
  },
  {
   "cell_type": "code",
   "execution_count": 31,
   "metadata": {
    "cellId": "cy8vhau60otwxwyom7jqod"
   },
   "outputs": [],
   "source": [
    "contract['Сustomer_churn'] = (contract['EndDate'] != 'No').astype(int)"
   ]
  },
  {
   "cell_type": "code",
   "execution_count": 32,
   "metadata": {
    "cellId": "ttm0o8r59asdhijpu7u73"
   },
   "outputs": [],
   "source": [
    "contract['EndDate'] = contract['EndDate'].replace(['No'], ['2020-02-01'])"
   ]
  },
  {
   "cell_type": "code",
   "execution_count": 33,
   "metadata": {
    "cellId": "9olhnjb7xorg47gl4w91j7"
   },
   "outputs": [
    {
     "name": "stdout",
     "output_type": "stream",
     "text": [
      "0\n"
     ]
    }
   ],
   "source": [
    "print(contract[contract['EndDate'] == 'No'].shape[0])"
   ]
  },
  {
   "cell_type": "code",
   "execution_count": 34,
   "metadata": {
    "cellId": "j26derqiytac88gptw6bcd"
   },
   "outputs": [],
   "source": [
    "contract['BeginDate'] = pd.to_datetime(contract['BeginDate'], format='%Y-%m-%d')\n",
    "contract['EndDate'] = pd.to_datetime(contract['EndDate'], format='%Y-%m-%d')"
   ]
  },
  {
   "cell_type": "code",
   "execution_count": 35,
   "metadata": {
    "cellId": "wumpdbo2zlh6egaoxg8ha"
   },
   "outputs": [],
   "source": [
    "contract['AllDays'] = (contract['EndDate'] - contract['BeginDate']).dt.days"
   ]
  },
  {
   "cell_type": "code",
   "execution_count": 36,
   "metadata": {
    "cellId": "ylrjx0mfcvrzdod6qz3lcg"
   },
   "outputs": [],
   "source": [
    "contract['TotalCharges'] = pd.to_numeric(contract['TotalCharges'], errors ='coerce')"
   ]
  },
  {
   "cell_type": "code",
   "execution_count": 37,
   "metadata": {
    "cellId": "4e6fymmy71lyq0vfwclf4"
   },
   "outputs": [
    {
     "data": {
      "text/html": [
       "<div>\n",
       "<style scoped>\n",
       "    .dataframe tbody tr th:only-of-type {\n",
       "        vertical-align: middle;\n",
       "    }\n",
       "\n",
       "    .dataframe tbody tr th {\n",
       "        vertical-align: top;\n",
       "    }\n",
       "\n",
       "    .dataframe thead th {\n",
       "        text-align: right;\n",
       "    }\n",
       "</style>\n",
       "<table border=\"1\" class=\"dataframe\">\n",
       "  <thead>\n",
       "    <tr style=\"text-align: right;\">\n",
       "      <th></th>\n",
       "      <th>customerID</th>\n",
       "      <th>BeginDate</th>\n",
       "      <th>EndDate</th>\n",
       "      <th>Type</th>\n",
       "      <th>PaperlessBilling</th>\n",
       "      <th>PaymentMethod</th>\n",
       "      <th>MonthlyCharges</th>\n",
       "      <th>TotalCharges</th>\n",
       "      <th>Сustomer_churn</th>\n",
       "      <th>AllDays</th>\n",
       "    </tr>\n",
       "  </thead>\n",
       "  <tbody>\n",
       "    <tr>\n",
       "      <th>488</th>\n",
       "      <td>4472-LVYGI</td>\n",
       "      <td>2020-02-01</td>\n",
       "      <td>2020-02-01</td>\n",
       "      <td>Two year</td>\n",
       "      <td>Yes</td>\n",
       "      <td>Bank transfer (automatic)</td>\n",
       "      <td>52.55</td>\n",
       "      <td>NaN</td>\n",
       "      <td>0</td>\n",
       "      <td>0</td>\n",
       "    </tr>\n",
       "    <tr>\n",
       "      <th>753</th>\n",
       "      <td>3115-CZMZD</td>\n",
       "      <td>2020-02-01</td>\n",
       "      <td>2020-02-01</td>\n",
       "      <td>Two year</td>\n",
       "      <td>No</td>\n",
       "      <td>Mailed check</td>\n",
       "      <td>20.25</td>\n",
       "      <td>NaN</td>\n",
       "      <td>0</td>\n",
       "      <td>0</td>\n",
       "    </tr>\n",
       "    <tr>\n",
       "      <th>936</th>\n",
       "      <td>5709-LVOEQ</td>\n",
       "      <td>2020-02-01</td>\n",
       "      <td>2020-02-01</td>\n",
       "      <td>Two year</td>\n",
       "      <td>No</td>\n",
       "      <td>Mailed check</td>\n",
       "      <td>80.85</td>\n",
       "      <td>NaN</td>\n",
       "      <td>0</td>\n",
       "      <td>0</td>\n",
       "    </tr>\n",
       "    <tr>\n",
       "      <th>1082</th>\n",
       "      <td>4367-NUYAO</td>\n",
       "      <td>2020-02-01</td>\n",
       "      <td>2020-02-01</td>\n",
       "      <td>Two year</td>\n",
       "      <td>No</td>\n",
       "      <td>Mailed check</td>\n",
       "      <td>25.75</td>\n",
       "      <td>NaN</td>\n",
       "      <td>0</td>\n",
       "      <td>0</td>\n",
       "    </tr>\n",
       "    <tr>\n",
       "      <th>1340</th>\n",
       "      <td>1371-DWPAZ</td>\n",
       "      <td>2020-02-01</td>\n",
       "      <td>2020-02-01</td>\n",
       "      <td>Two year</td>\n",
       "      <td>No</td>\n",
       "      <td>Credit card (automatic)</td>\n",
       "      <td>56.05</td>\n",
       "      <td>NaN</td>\n",
       "      <td>0</td>\n",
       "      <td>0</td>\n",
       "    </tr>\n",
       "    <tr>\n",
       "      <th>3331</th>\n",
       "      <td>7644-OMVMY</td>\n",
       "      <td>2020-02-01</td>\n",
       "      <td>2020-02-01</td>\n",
       "      <td>Two year</td>\n",
       "      <td>No</td>\n",
       "      <td>Mailed check</td>\n",
       "      <td>19.85</td>\n",
       "      <td>NaN</td>\n",
       "      <td>0</td>\n",
       "      <td>0</td>\n",
       "    </tr>\n",
       "    <tr>\n",
       "      <th>3826</th>\n",
       "      <td>3213-VVOLG</td>\n",
       "      <td>2020-02-01</td>\n",
       "      <td>2020-02-01</td>\n",
       "      <td>Two year</td>\n",
       "      <td>No</td>\n",
       "      <td>Mailed check</td>\n",
       "      <td>25.35</td>\n",
       "      <td>NaN</td>\n",
       "      <td>0</td>\n",
       "      <td>0</td>\n",
       "    </tr>\n",
       "    <tr>\n",
       "      <th>4380</th>\n",
       "      <td>2520-SGTTA</td>\n",
       "      <td>2020-02-01</td>\n",
       "      <td>2020-02-01</td>\n",
       "      <td>Two year</td>\n",
       "      <td>No</td>\n",
       "      <td>Mailed check</td>\n",
       "      <td>20.00</td>\n",
       "      <td>NaN</td>\n",
       "      <td>0</td>\n",
       "      <td>0</td>\n",
       "    </tr>\n",
       "    <tr>\n",
       "      <th>5218</th>\n",
       "      <td>2923-ARZLG</td>\n",
       "      <td>2020-02-01</td>\n",
       "      <td>2020-02-01</td>\n",
       "      <td>One year</td>\n",
       "      <td>Yes</td>\n",
       "      <td>Mailed check</td>\n",
       "      <td>19.70</td>\n",
       "      <td>NaN</td>\n",
       "      <td>0</td>\n",
       "      <td>0</td>\n",
       "    </tr>\n",
       "    <tr>\n",
       "      <th>6670</th>\n",
       "      <td>4075-WKNIU</td>\n",
       "      <td>2020-02-01</td>\n",
       "      <td>2020-02-01</td>\n",
       "      <td>Two year</td>\n",
       "      <td>No</td>\n",
       "      <td>Mailed check</td>\n",
       "      <td>73.35</td>\n",
       "      <td>NaN</td>\n",
       "      <td>0</td>\n",
       "      <td>0</td>\n",
       "    </tr>\n",
       "    <tr>\n",
       "      <th>6754</th>\n",
       "      <td>2775-SEFEE</td>\n",
       "      <td>2020-02-01</td>\n",
       "      <td>2020-02-01</td>\n",
       "      <td>Two year</td>\n",
       "      <td>Yes</td>\n",
       "      <td>Bank transfer (automatic)</td>\n",
       "      <td>61.90</td>\n",
       "      <td>NaN</td>\n",
       "      <td>0</td>\n",
       "      <td>0</td>\n",
       "    </tr>\n",
       "  </tbody>\n",
       "</table>\n",
       "</div>"
      ],
      "text/plain": [
       "      customerID  BeginDate    EndDate      Type PaperlessBilling  \\\n",
       "488   4472-LVYGI 2020-02-01 2020-02-01  Two year              Yes   \n",
       "753   3115-CZMZD 2020-02-01 2020-02-01  Two year               No   \n",
       "936   5709-LVOEQ 2020-02-01 2020-02-01  Two year               No   \n",
       "1082  4367-NUYAO 2020-02-01 2020-02-01  Two year               No   \n",
       "1340  1371-DWPAZ 2020-02-01 2020-02-01  Two year               No   \n",
       "3331  7644-OMVMY 2020-02-01 2020-02-01  Two year               No   \n",
       "3826  3213-VVOLG 2020-02-01 2020-02-01  Two year               No   \n",
       "4380  2520-SGTTA 2020-02-01 2020-02-01  Two year               No   \n",
       "5218  2923-ARZLG 2020-02-01 2020-02-01  One year              Yes   \n",
       "6670  4075-WKNIU 2020-02-01 2020-02-01  Two year               No   \n",
       "6754  2775-SEFEE 2020-02-01 2020-02-01  Two year              Yes   \n",
       "\n",
       "                  PaymentMethod  MonthlyCharges  TotalCharges  Сustomer_churn  \\\n",
       "488   Bank transfer (automatic)           52.55           NaN               0   \n",
       "753                Mailed check           20.25           NaN               0   \n",
       "936                Mailed check           80.85           NaN               0   \n",
       "1082               Mailed check           25.75           NaN               0   \n",
       "1340    Credit card (automatic)           56.05           NaN               0   \n",
       "3331               Mailed check           19.85           NaN               0   \n",
       "3826               Mailed check           25.35           NaN               0   \n",
       "4380               Mailed check           20.00           NaN               0   \n",
       "5218               Mailed check           19.70           NaN               0   \n",
       "6670               Mailed check           73.35           NaN               0   \n",
       "6754  Bank transfer (automatic)           61.90           NaN               0   \n",
       "\n",
       "      AllDays  \n",
       "488         0  \n",
       "753         0  \n",
       "936         0  \n",
       "1082        0  \n",
       "1340        0  \n",
       "3331        0  \n",
       "3826        0  \n",
       "4380        0  \n",
       "5218        0  \n",
       "6670        0  \n",
       "6754        0  "
      ]
     },
     "metadata": {},
     "output_type": "display_data"
    }
   ],
   "source": [
    "contract[contract['TotalCharges'].isnull()]"
   ]
  },
  {
   "cell_type": "code",
   "execution_count": 38,
   "metadata": {
    "cellId": "3h4ugcmphves9xncnllw8"
   },
   "outputs": [],
   "source": [
    "personal = personal.rename(columns={'customerID': 'CustomerID', 'gender': 'Gender'})"
   ]
  },
  {
   "cell_type": "code",
   "execution_count": 39,
   "metadata": {
    "cellId": "kfxjoinxlvbmfquvdw9cm"
   },
   "outputs": [],
   "source": [
    "contract = contract.rename(columns={'customerID': 'CustomerID'})"
   ]
  },
  {
   "cell_type": "code",
   "execution_count": 40,
   "metadata": {
    "cellId": "0o7a7p1gfqejsiljh8n3hh"
   },
   "outputs": [],
   "source": [
    "internet = internet.rename(columns={'customerID': 'CustomerID'})"
   ]
  },
  {
   "cell_type": "code",
   "execution_count": 41,
   "metadata": {
    "cellId": "v2yjh59jozcbmtygp6h9pb"
   },
   "outputs": [],
   "source": [
    "phone = phone.rename(columns={'customerID': 'CustomerID'})"
   ]
  },
  {
   "cell_type": "code",
   "execution_count": 42,
   "metadata": {
    "cellId": "h19l17jvyapw3jdaqq6yrk"
   },
   "outputs": [],
   "source": [
    "contract['TotalCharges'] = contract['TotalCharges'].fillna(0)"
   ]
  },
  {
   "cell_type": "code",
   "execution_count": 43,
   "metadata": {
    "cellId": "h9mqkt8a3ehezr4yfjdh4v"
   },
   "outputs": [
    {
     "data": {
      "text/plain": [
       "0"
      ]
     },
     "metadata": {},
     "output_type": "display_data"
    }
   ],
   "source": [
    "contract['TotalCharges'].isnull().sum()"
   ]
  },
  {
   "cell_type": "code",
   "execution_count": 44,
   "metadata": {
    "cellId": "9qwhrm62xtqj9zvuyrjr"
   },
   "outputs": [],
   "source": [
    "#объединим в один датафрейм\n",
    "df = contract \\\n",
    "    .merge(personal, how='left', on='CustomerID') \\\n",
    "    .merge(internet, how='left', on= 'CustomerID') \\\n",
    "    .merge(phone, how='left', on='CustomerID') "
   ]
  },
  {
   "cell_type": "code",
   "execution_count": 45,
   "metadata": {
    "cellId": "jb5qcf6bu5na96sfltve2p"
   },
   "outputs": [
    {
     "name": "stdout",
     "output_type": "stream",
     "text": [
      "<class 'pandas.core.frame.DataFrame'>\n",
      "Int64Index: 7043 entries, 0 to 7042\n",
      "Data columns (total 22 columns):\n",
      " #   Column            Non-Null Count  Dtype         \n",
      "---  ------            --------------  -----         \n",
      " 0   CustomerID        7043 non-null   object        \n",
      " 1   BeginDate         7043 non-null   datetime64[ns]\n",
      " 2   EndDate           7043 non-null   datetime64[ns]\n",
      " 3   Type              7043 non-null   object        \n",
      " 4   PaperlessBilling  7043 non-null   object        \n",
      " 5   PaymentMethod     7043 non-null   object        \n",
      " 6   MonthlyCharges    7043 non-null   float64       \n",
      " 7   TotalCharges      7043 non-null   float64       \n",
      " 8   Сustomer_churn    7043 non-null   int64         \n",
      " 9   AllDays           7043 non-null   int64         \n",
      " 10  Gender            7043 non-null   object        \n",
      " 11  SeniorCitizen     7043 non-null   int64         \n",
      " 12  Partner           7043 non-null   object        \n",
      " 13  Dependents        7043 non-null   object        \n",
      " 14  InternetService   5517 non-null   object        \n",
      " 15  OnlineSecurity    5517 non-null   object        \n",
      " 16  OnlineBackup      5517 non-null   object        \n",
      " 17  DeviceProtection  5517 non-null   object        \n",
      " 18  TechSupport       5517 non-null   object        \n",
      " 19  StreamingTV       5517 non-null   object        \n",
      " 20  StreamingMovies   5517 non-null   object        \n",
      " 21  MultipleLines     6361 non-null   object        \n",
      "dtypes: datetime64[ns](2), float64(2), int64(3), object(15)\n",
      "memory usage: 1.2+ MB\n"
     ]
    }
   ],
   "source": [
    "df.info()"
   ]
  },
  {
   "cell_type": "code",
   "execution_count": 46,
   "metadata": {
    "cellId": "uy40r854k9hcxzeb0r74bq"
   },
   "outputs": [],
   "source": [
    "for column in ('InternetService', 'OnlineSecurity', 'OnlineBackup', 'DeviceProtection', 'TechSupport', 'StreamingTV', 'StreamingMovies', 'MultipleLines'):\n",
    "    df[column] = df[column].fillna('No')"
   ]
  },
  {
   "cell_type": "code",
   "execution_count": 47,
   "metadata": {
    "cellId": "idpgse9a3a6bivqr6kt3q"
   },
   "outputs": [
    {
     "data": {
      "text/plain": [
       "True"
      ]
     },
     "metadata": {},
     "output_type": "display_data"
    }
   ],
   "source": [
    "df['CustomerID'].is_unique"
   ]
  },
  {
   "cell_type": "code",
   "execution_count": 48,
   "metadata": {
    "cellId": "4rma7nom7c22u7h5xexkti"
   },
   "outputs": [],
   "source": [
    "df = df.set_index('CustomerID')"
   ]
  },
  {
   "cell_type": "code",
   "execution_count": 49,
   "metadata": {
    "cellId": "6tzyzzeqlsxgdb8dnq4eyj"
   },
   "outputs": [
    {
     "data": {
      "image/png": "[encoded data removed]",
      "text/plain": [
       "<Figure size 432x288 with 2 Axes>"
      ]
     },
     "metadata": {
      "needs_background": "light"
     },
     "output_type": "display_data"
    }
   ],
   "source": [
    "# построим тепловую карту корреляции\n",
    "mask = np.triu(np.ones_like(df.corr()))\n",
    " \n",
    "dataplot = sns.heatmap(df.corr(), mask=mask)\n",
    "\n",
    "# выведем на экран\n",
    "plt.show()   "
   ]
  },
  {
   "cell_type": "code",
   "execution_count": 50,
   "metadata": {
    "cellId": "op6goknyhrpkbj8xdm2gof"
   },
   "outputs": [
    {
     "data": {
      "text/plain": [
       "Сustomer_churn    1.000000\n",
       "MonthlyCharges    0.193356\n",
       "SeniorCitizen     0.150889\n",
       "TotalCharges     -0.198324\n",
       "AllDays          -0.352673\n",
       "Name: Сustomer_churn, dtype: float64"
      ]
     },
     "metadata": {},
     "output_type": "display_data"
    }
   ],
   "source": [
    "df.corr()['Сustomer_churn'].sort_values(ascending=False)"
   ]
  },
  {
   "cell_type": "markdown",
   "metadata": {
    "cellId": "sme13rjkaig5vg1a5l9y86",
    "execution_id": "9d32f4ec-1378-4ea0-81c4-50ae4c95927b"
   },
   "source": [
    "Корреляция - важнейший фактор, лежащий в основе анализа данных: по графику корреляций мы можем понять какие переменные в наборе данных связаны друг с другом. Значение корреляции колеблется от -1 до +1.\n",
    "0 - Корреляция означает, что две переменные не зависят друг от друга,\n",
    "положительная корреляция указывает на то, что переменные движутся в одном направлении,\n",
    "отрицательная корреляция указывает на противоположное."
   ]
  },
  {
   "cell_type": "code",
   "execution_count": 51,
   "metadata": {
    "cellId": "nabrrlqui0n5ffk29jpgiw"
   },
   "outputs": [
    {
     "name": "stderr",
     "output_type": "stream",
     "text": [
      "/tmp/ipykernel_290/3449218332.py:1: FutureWarning: Treating datetime data as categorical rather than numeric in `.describe` is deprecated and will be removed in a future version of pandas. Specify `datetime_is_numeric=True` to silence this warning and adopt the future behavior now.\n",
      "  display(df.describe(include='all').T)\n",
      "/tmp/ipykernel_290/3449218332.py:1: FutureWarning: Treating datetime data as categorical rather than numeric in `.describe` is deprecated and will be removed in a future version of pandas. Specify `datetime_is_numeric=True` to silence this warning and adopt the future behavior now.\n",
      "  display(df.describe(include='all').T)\n"
     ]
    },
    {
     "data": {
      "text/html": [
       "<div>\n",
       "<style scoped>\n",
       "    .dataframe tbody tr th:only-of-type {\n",
       "        vertical-align: middle;\n",
       "    }\n",
       "\n",
       "    .dataframe tbody tr th {\n",
       "        vertical-align: top;\n",
       "    }\n",
       "\n",
       "    .dataframe thead th {\n",
       "        text-align: right;\n",
       "    }\n",
       "</style>\n",
       "<table border=\"1\" class=\"dataframe\">\n",
       "  <thead>\n",
       "    <tr style=\"text-align: right;\">\n",
       "      <th></th>\n",
       "      <th>count</th>\n",
       "      <th>unique</th>\n",
       "      <th>top</th>\n",
       "      <th>freq</th>\n",
       "      <th>first</th>\n",
       "      <th>last</th>\n",
       "      <th>mean</th>\n",
       "      <th>std</th>\n",
       "      <th>min</th>\n",
       "      <th>25%</th>\n",
       "      <th>50%</th>\n",
       "      <th>75%</th>\n",
       "      <th>max</th>\n",
       "    </tr>\n",
       "  </thead>\n",
       "  <tbody>\n",
       "    <tr>\n",
       "      <th>BeginDate</th>\n",
       "      <td>7043</td>\n",
       "      <td>77</td>\n",
       "      <td>2014-02-01 00:00:00</td>\n",
       "      <td>366</td>\n",
       "      <td>2013-10-01</td>\n",
       "      <td>2020-02-01</td>\n",
       "      <td>NaN</td>\n",
       "      <td>NaN</td>\n",
       "      <td>NaN</td>\n",
       "      <td>NaN</td>\n",
       "      <td>NaN</td>\n",
       "      <td>NaN</td>\n",
       "      <td>NaN</td>\n",
       "    </tr>\n",
       "    <tr>\n",
       "      <th>EndDate</th>\n",
       "      <td>7043</td>\n",
       "      <td>5</td>\n",
       "      <td>2020-02-01 00:00:00</td>\n",
       "      <td>5174</td>\n",
       "      <td>2019-10-01</td>\n",
       "      <td>2020-02-01</td>\n",
       "      <td>NaN</td>\n",
       "      <td>NaN</td>\n",
       "      <td>NaN</td>\n",
       "      <td>NaN</td>\n",
       "      <td>NaN</td>\n",
       "      <td>NaN</td>\n",
       "      <td>NaN</td>\n",
       "    </tr>\n",
       "    <tr>\n",
       "      <th>Type</th>\n",
       "      <td>7043</td>\n",
       "      <td>3</td>\n",
       "      <td>Month-to-month</td>\n",
       "      <td>3875</td>\n",
       "      <td>NaT</td>\n",
       "      <td>NaT</td>\n",
       "      <td>NaN</td>\n",
       "      <td>NaN</td>\n",
       "      <td>NaN</td>\n",
       "      <td>NaN</td>\n",
       "      <td>NaN</td>\n",
       "      <td>NaN</td>\n",
       "      <td>NaN</td>\n",
       "    </tr>\n",
       "    <tr>\n",
       "      <th>PaperlessBilling</th>\n",
       "      <td>7043</td>\n",
       "      <td>2</td>\n",
       "      <td>Yes</td>\n",
       "      <td>4171</td>\n",
       "      <td>NaT</td>\n",
       "      <td>NaT</td>\n",
       "      <td>NaN</td>\n",
       "      <td>NaN</td>\n",
       "      <td>NaN</td>\n",
       "      <td>NaN</td>\n",
       "      <td>NaN</td>\n",
       "      <td>NaN</td>\n",
       "      <td>NaN</td>\n",
       "    </tr>\n",
       "    <tr>\n",
       "      <th>PaymentMethod</th>\n",
       "      <td>7043</td>\n",
       "      <td>4</td>\n",
       "      <td>Electronic check</td>\n",
       "      <td>2365</td>\n",
       "      <td>NaT</td>\n",
       "      <td>NaT</td>\n",
       "      <td>NaN</td>\n",
       "      <td>NaN</td>\n",
       "      <td>NaN</td>\n",
       "      <td>NaN</td>\n",
       "      <td>NaN</td>\n",
       "      <td>NaN</td>\n",
       "      <td>NaN</td>\n",
       "    </tr>\n",
       "    <tr>\n",
       "      <th>MonthlyCharges</th>\n",
       "      <td>7043.0</td>\n",
       "      <td>NaN</td>\n",
       "      <td>NaN</td>\n",
       "      <td>NaN</td>\n",
       "      <td>NaT</td>\n",
       "      <td>NaT</td>\n",
       "      <td>64.761692</td>\n",
       "      <td>30.090047</td>\n",
       "      <td>18.25</td>\n",
       "      <td>35.5</td>\n",
       "      <td>70.35</td>\n",
       "      <td>89.85</td>\n",
       "      <td>118.75</td>\n",
       "    </tr>\n",
       "    <tr>\n",
       "      <th>TotalCharges</th>\n",
       "      <td>7043.0</td>\n",
       "      <td>NaN</td>\n",
       "      <td>NaN</td>\n",
       "      <td>NaN</td>\n",
       "      <td>NaT</td>\n",
       "      <td>NaT</td>\n",
       "      <td>2279.734304</td>\n",
       "      <td>2266.79447</td>\n",
       "      <td>0.0</td>\n",
       "      <td>398.55</td>\n",
       "      <td>1394.55</td>\n",
       "      <td>3786.6</td>\n",
       "      <td>8684.8</td>\n",
       "    </tr>\n",
       "    <tr>\n",
       "      <th>Сustomer_churn</th>\n",
       "      <td>7043.0</td>\n",
       "      <td>NaN</td>\n",
       "      <td>NaN</td>\n",
       "      <td>NaN</td>\n",
       "      <td>NaT</td>\n",
       "      <td>NaT</td>\n",
       "      <td>0.26537</td>\n",
       "      <td>0.441561</td>\n",
       "      <td>0.0</td>\n",
       "      <td>0.0</td>\n",
       "      <td>0.0</td>\n",
       "      <td>1.0</td>\n",
       "      <td>1.0</td>\n",
       "    </tr>\n",
       "    <tr>\n",
       "      <th>AllDays</th>\n",
       "      <td>7043.0</td>\n",
       "      <td>NaN</td>\n",
       "      <td>NaN</td>\n",
       "      <td>NaN</td>\n",
       "      <td>NaT</td>\n",
       "      <td>NaT</td>\n",
       "      <td>985.996166</td>\n",
       "      <td>747.587844</td>\n",
       "      <td>0.0</td>\n",
       "      <td>273.0</td>\n",
       "      <td>883.0</td>\n",
       "      <td>1676.0</td>\n",
       "      <td>2191.0</td>\n",
       "    </tr>\n",
       "    <tr>\n",
       "      <th>Gender</th>\n",
       "      <td>7043</td>\n",
       "      <td>2</td>\n",
       "      <td>Male</td>\n",
       "      <td>3555</td>\n",
       "      <td>NaT</td>\n",
       "      <td>NaT</td>\n",
       "      <td>NaN</td>\n",
       "      <td>NaN</td>\n",
       "      <td>NaN</td>\n",
       "      <td>NaN</td>\n",
       "      <td>NaN</td>\n",
       "      <td>NaN</td>\n",
       "      <td>NaN</td>\n",
       "    </tr>\n",
       "    <tr>\n",
       "      <th>SeniorCitizen</th>\n",
       "      <td>7043.0</td>\n",
       "      <td>NaN</td>\n",
       "      <td>NaN</td>\n",
       "      <td>NaN</td>\n",
       "      <td>NaT</td>\n",
       "      <td>NaT</td>\n",
       "      <td>0.162147</td>\n",
       "      <td>0.368612</td>\n",
       "      <td>0.0</td>\n",
       "      <td>0.0</td>\n",
       "      <td>0.0</td>\n",
       "      <td>0.0</td>\n",
       "      <td>1.0</td>\n",
       "    </tr>\n",
       "    <tr>\n",
       "      <th>Partner</th>\n",
       "      <td>7043</td>\n",
       "      <td>2</td>\n",
       "      <td>No</td>\n",
       "      <td>3641</td>\n",
       "      <td>NaT</td>\n",
       "      <td>NaT</td>\n",
       "      <td>NaN</td>\n",
       "      <td>NaN</td>\n",
       "      <td>NaN</td>\n",
       "      <td>NaN</td>\n",
       "      <td>NaN</td>\n",
       "      <td>NaN</td>\n",
       "      <td>NaN</td>\n",
       "    </tr>\n",
       "    <tr>\n",
       "      <th>Dependents</th>\n",
       "      <td>7043</td>\n",
       "      <td>2</td>\n",
       "      <td>No</td>\n",
       "      <td>4933</td>\n",
       "      <td>NaT</td>\n",
       "      <td>NaT</td>\n",
       "      <td>NaN</td>\n",
       "      <td>NaN</td>\n",
       "      <td>NaN</td>\n",
       "      <td>NaN</td>\n",
       "      <td>NaN</td>\n",
       "      <td>NaN</td>\n",
       "      <td>NaN</td>\n",
       "    </tr>\n",
       "    <tr>\n",
       "      <th>InternetService</th>\n",
       "      <td>7043</td>\n",
       "      <td>3</td>\n",
       "      <td>Fiber optic</td>\n",
       "      <td>3096</td>\n",
       "      <td>NaT</td>\n",
       "      <td>NaT</td>\n",
       "      <td>NaN</td>\n",
       "      <td>NaN</td>\n",
       "      <td>NaN</td>\n",
       "      <td>NaN</td>\n",
       "      <td>NaN</td>\n",
       "      <td>NaN</td>\n",
       "      <td>NaN</td>\n",
       "    </tr>\n",
       "    <tr>\n",
       "      <th>OnlineSecurity</th>\n",
       "      <td>7043</td>\n",
       "      <td>2</td>\n",
       "      <td>No</td>\n",
       "      <td>5024</td>\n",
       "      <td>NaT</td>\n",
       "      <td>NaT</td>\n",
       "      <td>NaN</td>\n",
       "      <td>NaN</td>\n",
       "      <td>NaN</td>\n",
       "      <td>NaN</td>\n",
       "      <td>NaN</td>\n",
       "      <td>NaN</td>\n",
       "      <td>NaN</td>\n",
       "    </tr>\n",
       "    <tr>\n",
       "      <th>OnlineBackup</th>\n",
       "      <td>7043</td>\n",
       "      <td>2</td>\n",
       "      <td>No</td>\n",
       "      <td>4614</td>\n",
       "      <td>NaT</td>\n",
       "      <td>NaT</td>\n",
       "      <td>NaN</td>\n",
       "      <td>NaN</td>\n",
       "      <td>NaN</td>\n",
       "      <td>NaN</td>\n",
       "      <td>NaN</td>\n",
       "      <td>NaN</td>\n",
       "      <td>NaN</td>\n",
       "    </tr>\n",
       "    <tr>\n",
       "      <th>DeviceProtection</th>\n",
       "      <td>7043</td>\n",
       "      <td>2</td>\n",
       "      <td>No</td>\n",
       "      <td>4621</td>\n",
       "      <td>NaT</td>\n",
       "      <td>NaT</td>\n",
       "      <td>NaN</td>\n",
       "      <td>NaN</td>\n",
       "      <td>NaN</td>\n",
       "      <td>NaN</td>\n",
       "      <td>NaN</td>\n",
       "      <td>NaN</td>\n",
       "      <td>NaN</td>\n",
       "    </tr>\n",
       "    <tr>\n",
       "      <th>TechSupport</th>\n",
       "      <td>7043</td>\n",
       "      <td>2</td>\n",
       "      <td>No</td>\n",
       "      <td>4999</td>\n",
       "      <td>NaT</td>\n",
       "      <td>NaT</td>\n",
       "      <td>NaN</td>\n",
       "      <td>NaN</td>\n",
       "      <td>NaN</td>\n",
       "      <td>NaN</td>\n",
       "      <td>NaN</td>\n",
       "      <td>NaN</td>\n",
       "      <td>NaN</td>\n",
       "    </tr>\n",
       "    <tr>\n",
       "      <th>StreamingTV</th>\n",
       "      <td>7043</td>\n",
       "      <td>2</td>\n",
       "      <td>No</td>\n",
       "      <td>4336</td>\n",
       "      <td>NaT</td>\n",
       "      <td>NaT</td>\n",
       "      <td>NaN</td>\n",
       "      <td>NaN</td>\n",
       "      <td>NaN</td>\n",
       "      <td>NaN</td>\n",
       "      <td>NaN</td>\n",
       "      <td>NaN</td>\n",
       "      <td>NaN</td>\n",
       "    </tr>\n",
       "    <tr>\n",
       "      <th>StreamingMovies</th>\n",
       "      <td>7043</td>\n",
       "      <td>2</td>\n",
       "      <td>No</td>\n",
       "      <td>4311</td>\n",
       "      <td>NaT</td>\n",
       "      <td>NaT</td>\n",
       "      <td>NaN</td>\n",
       "      <td>NaN</td>\n",
       "      <td>NaN</td>\n",
       "      <td>NaN</td>\n",
       "      <td>NaN</td>\n",
       "      <td>NaN</td>\n",
       "      <td>NaN</td>\n",
       "    </tr>\n",
       "    <tr>\n",
       "      <th>MultipleLines</th>\n",
       "      <td>7043</td>\n",
       "      <td>2</td>\n",
       "      <td>No</td>\n",
       "      <td>4072</td>\n",
       "      <td>NaT</td>\n",
       "      <td>NaT</td>\n",
       "      <td>NaN</td>\n",
       "      <td>NaN</td>\n",
       "      <td>NaN</td>\n",
       "      <td>NaN</td>\n",
       "      <td>NaN</td>\n",
       "      <td>NaN</td>\n",
       "      <td>NaN</td>\n",
       "    </tr>\n",
       "  </tbody>\n",
       "</table>\n",
       "</div>"
      ],
      "text/plain": [
       "                   count unique                  top  freq      first  \\\n",
       "BeginDate           7043     77  2014-02-01 00:00:00   366 2013-10-01   \n",
       "EndDate             7043      5  2020-02-01 00:00:00  5174 2019-10-01   \n",
       "Type                7043      3       Month-to-month  3875        NaT   \n",
       "PaperlessBilling    7043      2                  Yes  4171        NaT   \n",
       "PaymentMethod       7043      4     Electronic check  2365        NaT   \n",
       "MonthlyCharges    7043.0    NaN                  NaN   NaN        NaT   \n",
       "TotalCharges      7043.0    NaN                  NaN   NaN        NaT   \n",
       "Сustomer_churn    7043.0    NaN                  NaN   NaN        NaT   \n",
       "AllDays           7043.0    NaN                  NaN   NaN        NaT   \n",
       "Gender              7043      2                 Male  3555        NaT   \n",
       "SeniorCitizen     7043.0    NaN                  NaN   NaN        NaT   \n",
       "Partner             7043      2                   No  3641        NaT   \n",
       "Dependents          7043      2                   No  4933        NaT   \n",
       "InternetService     7043      3          Fiber optic  3096        NaT   \n",
       "OnlineSecurity      7043      2                   No  5024        NaT   \n",
       "OnlineBackup        7043      2                   No  4614        NaT   \n",
       "DeviceProtection    7043      2                   No  4621        NaT   \n",
       "TechSupport         7043      2                   No  4999        NaT   \n",
       "StreamingTV         7043      2                   No  4336        NaT   \n",
       "StreamingMovies     7043      2                   No  4311        NaT   \n",
       "MultipleLines       7043      2                   No  4072        NaT   \n",
       "\n",
       "                       last         mean         std    min     25%      50%  \\\n",
       "BeginDate        2020-02-01          NaN         NaN    NaN     NaN      NaN   \n",
       "EndDate          2020-02-01          NaN         NaN    NaN     NaN      NaN   \n",
       "Type                    NaT          NaN         NaN    NaN     NaN      NaN   \n",
       "PaperlessBilling        NaT          NaN         NaN    NaN     NaN      NaN   \n",
       "PaymentMethod           NaT          NaN         NaN    NaN     NaN      NaN   \n",
       "MonthlyCharges          NaT    64.761692   30.090047  18.25    35.5    70.35   \n",
       "TotalCharges            NaT  2279.734304  2266.79447    0.0  398.55  1394.55   \n",
       "Сustomer_churn          NaT      0.26537    0.441561    0.0     0.0      0.0   \n",
       "AllDays                 NaT   985.996166  747.587844    0.0   273.0    883.0   \n",
       "Gender                  NaT          NaN         NaN    NaN     NaN      NaN   \n",
       "SeniorCitizen           NaT     0.162147    0.368612    0.0     0.0      0.0   \n",
       "Partner                 NaT          NaN         NaN    NaN     NaN      NaN   \n",
       "Dependents              NaT          NaN         NaN    NaN     NaN      NaN   \n",
       "InternetService         NaT          NaN         NaN    NaN     NaN      NaN   \n",
       "OnlineSecurity          NaT          NaN         NaN    NaN     NaN      NaN   \n",
       "OnlineBackup            NaT          NaN         NaN    NaN     NaN      NaN   \n",
       "DeviceProtection        NaT          NaN         NaN    NaN     NaN      NaN   \n",
       "TechSupport             NaT          NaN         NaN    NaN     NaN      NaN   \n",
       "StreamingTV             NaT          NaN         NaN    NaN     NaN      NaN   \n",
       "StreamingMovies         NaT          NaN         NaN    NaN     NaN      NaN   \n",
       "MultipleLines           NaT          NaN         NaN    NaN     NaN      NaN   \n",
       "\n",
       "                     75%     max  \n",
       "BeginDate            NaN     NaN  \n",
       "EndDate              NaN     NaN  \n",
       "Type                 NaN     NaN  \n",
       "PaperlessBilling     NaN     NaN  \n",
       "PaymentMethod        NaN     NaN  \n",
       "MonthlyCharges     89.85  118.75  \n",
       "TotalCharges      3786.6  8684.8  \n",
       "Сustomer_churn       1.0     1.0  \n",
       "AllDays           1676.0  2191.0  \n",
       "Gender               NaN     NaN  \n",
       "SeniorCitizen        0.0     1.0  \n",
       "Partner              NaN     NaN  \n",
       "Dependents           NaN     NaN  \n",
       "InternetService      NaN     NaN  \n",
       "OnlineSecurity       NaN     NaN  \n",
       "OnlineBackup         NaN     NaN  \n",
       "DeviceProtection     NaN     NaN  \n",
       "TechSupport          NaN     NaN  \n",
       "StreamingTV          NaN     NaN  \n",
       "StreamingMovies      NaN     NaN  \n",
       "MultipleLines        NaN     NaN  "
      ]
     },
     "metadata": {},
     "output_type": "display_data"
    }
   ],
   "source": [
    "display(df.describe(include='all').T) "
   ]
  },
  {
   "cell_type": "code",
   "execution_count": 52,
   "metadata": {
    "cellId": "fyez3dkb3r6mln6lrh8q09"
   },
   "outputs": [
    {
     "name": "stdout",
     "output_type": "stream",
     "text": [
      "<class 'pandas.core.frame.DataFrame'>\n",
      "Index: 7043 entries, 7590-VHVEG to 3186-AJIEK\n",
      "Data columns (total 21 columns):\n",
      " #   Column            Non-Null Count  Dtype         \n",
      "---  ------            --------------  -----         \n",
      " 0   BeginDate         7043 non-null   datetime64[ns]\n",
      " 1   EndDate           7043 non-null   datetime64[ns]\n",
      " 2   Type              7043 non-null   object        \n",
      " 3   PaperlessBilling  7043 non-null   object        \n",
      " 4   PaymentMethod     7043 non-null   object        \n",
      " 5   MonthlyCharges    7043 non-null   float64       \n",
      " 6   TotalCharges      7043 non-null   float64       \n",
      " 7   Сustomer_churn    7043 non-null   int64         \n",
      " 8   AllDays           7043 non-null   int64         \n",
      " 9   Gender            7043 non-null   object        \n",
      " 10  SeniorCitizen     7043 non-null   int64         \n",
      " 11  Partner           7043 non-null   object        \n",
      " 12  Dependents        7043 non-null   object        \n",
      " 13  InternetService   7043 non-null   object        \n",
      " 14  OnlineSecurity    7043 non-null   object        \n",
      " 15  OnlineBackup      7043 non-null   object        \n",
      " 16  DeviceProtection  7043 non-null   object        \n",
      " 17  TechSupport       7043 non-null   object        \n",
      " 18  StreamingTV       7043 non-null   object        \n",
      " 19  StreamingMovies   7043 non-null   object        \n",
      " 20  MultipleLines     7043 non-null   object        \n",
      "dtypes: datetime64[ns](2), float64(2), int64(3), object(14)\n",
      "memory usage: 1.2+ MB\n"
     ]
    }
   ],
   "source": [
    "df.info()"
   ]
  },
  {
   "cell_type": "code",
   "execution_count": 53,
   "metadata": {
    "cellId": "hm0pvz2im72ha5ibcw2f"
   },
   "outputs": [],
   "source": [
    "categorial_columns = [\n",
    "    'Type',\n",
    "    'PaperlessBilling',\n",
    "    'PaymentMethod',\n",
    "    'Gender',\n",
    "    'SeniorCitizen',\n",
    "    'Partner',\n",
    "    'Dependents',\n",
    "    'InternetService', \n",
    "    'OnlineSecurity', \n",
    "    'OnlineBackup', \n",
    "    'DeviceProtection', \n",
    "    'TechSupport', \n",
    "    'StreamingTV', \n",
    "    'StreamingMovies', \n",
    "    'MultipleLines',\n",
    "]"
   ]
  },
  {
   "cell_type": "markdown",
   "metadata": {
    "cellId": "1sp13gdjybj4cqlggrqjpb"
   },
   "source": [
    "Посмотрим распределение значений данных"
   ]
  },
  {
   "cell_type": "code",
   "execution_count": 54,
   "metadata": {
    "cellId": "zcieqa88udk93iw0xx1r9a"
   },
   "outputs": [
    {
     "data": {
      "image/png": "[encoded data removed]",
      "text/plain": [
       "<Figure size 1800x2880 with 15 Axes>"
      ]
     },
     "metadata": {
      "needs_background": "light"
     },
     "output_type": "display_data"
    }
   ],
   "source": [
    "\n",
    "cols = 3\n",
    "rows = int(np.ceil(len(categorial_columns)/ cols))\n",
    " \n",
    "    \n",
    "plt.figure(figsize=(25, 40))\n",
    "\n",
    "for idx, column in enumerate(categorial_columns):\n",
    "    ax = plt.subplot(rows, cols, idx + 1)\n",
    "    \n",
    "    df[column].value_counts().plot(\n",
    "        kind='barh', \n",
    "        title=column, \n",
    "        ax=ax,\n",
    "        alpha=0.75,\n",
    "        color = ['olive','gold','yellow', 'goldenrod'],\n",
    "    )\n",
    "\n",
    "plt.show()"
   ]
  },
  {
   "cell_type": "markdown",
   "metadata": {
    "cellId": "z03dl9m16wsxm96qgs15"
   },
   "source": [
    "Вывод:\n",
    "- Самый популярный способ оплаты - помесячный.\n",
    "- Пользователи предпочитают получать счета в электронном виде и оплачивают их  электронным чеком.\n",
    "- Распределение м/ж примерно одинаковое, как и партнерские отношения.\n",
    "- Самый частый способ подключения - оптоволокно.\n",
    "- Такие дополнительные услуги как OnlineSecurity, OnlineBackup, DeviceProtection, TechSupport, StreamingTV, StreamingMovies, MultipleLines не пользуются очень большой популярностью."
   ]
  },
  {
   "cell_type": "code",
   "execution_count": 55,
   "metadata": {
    "cellId": "3ztvqu2lv86je7at7mzdmt"
   },
   "outputs": [],
   "source": [
    "del df['BeginDate'], df['EndDate']"
   ]
  },
  {
   "cell_type": "code",
   "execution_count": 56,
   "metadata": {
    "cellId": "pl067m09t5fv1t9czjv97"
   },
   "outputs": [
    {
     "name": "stdout",
     "output_type": "stream",
     "text": [
      "<class 'pandas.core.frame.DataFrame'>\n",
      "Index: 7043 entries, 7590-VHVEG to 3186-AJIEK\n",
      "Data columns (total 19 columns):\n",
      " #   Column            Non-Null Count  Dtype  \n",
      "---  ------            --------------  -----  \n",
      " 0   Type              7043 non-null   object \n",
      " 1   PaperlessBilling  7043 non-null   object \n",
      " 2   PaymentMethod     7043 non-null   object \n",
      " 3   MonthlyCharges    7043 non-null   float64\n",
      " 4   TotalCharges      7043 non-null   float64\n",
      " 5   Сustomer_churn    7043 non-null   int64  \n",
      " 6   AllDays           7043 non-null   int64  \n",
      " 7   Gender            7043 non-null   object \n",
      " 8   SeniorCitizen     7043 non-null   int64  \n",
      " 9   Partner           7043 non-null   object \n",
      " 10  Dependents        7043 non-null   object \n",
      " 11  InternetService   7043 non-null   object \n",
      " 12  OnlineSecurity    7043 non-null   object \n",
      " 13  OnlineBackup      7043 non-null   object \n",
      " 14  DeviceProtection  7043 non-null   object \n",
      " 15  TechSupport       7043 non-null   object \n",
      " 16  StreamingTV       7043 non-null   object \n",
      " 17  StreamingMovies   7043 non-null   object \n",
      " 18  MultipleLines     7043 non-null   object \n",
      "dtypes: float64(2), int64(3), object(14)\n",
      "memory usage: 1.1+ MB\n"
     ]
    }
   ],
   "source": [
    "df.info()"
   ]
  },
  {
   "cell_type": "code",
   "execution_count": 57,
   "metadata": {
    "cellId": "o1kg1xpib5dpliv5pvrmq"
   },
   "outputs": [],
   "source": [
    "numeric_columns = ['MonthlyCharges', 'AllDays','TotalCharges'] "
   ]
  },
  {
   "cell_type": "code",
   "execution_count": 58,
   "metadata": {
    "cellId": "94y6ulhyuh7e0cs0poksjb"
   },
   "outputs": [],
   "source": [
    "def plot_numerical(df):\n",
    "    cols = 3\n",
    "    rows = 2\n",
    "\n",
    "    plt.figure(figsize=(15, 10))\n",
    "\n",
    "    idx = 0\n",
    "    for column in numeric_columns:\n",
    "        idx += 1 \n",
    "    \n",
    "        plt.subplot(rows, cols, idx)\n",
    "        plt.hist(df[column])\n",
    "        plt.title(column)\n",
    "\n",
    "    plt.show()\n",
    "\n",
    "    display(df[numeric_columns].describe())"
   ]
  },
  {
   "cell_type": "code",
   "execution_count": 59,
   "metadata": {
    "cellId": "4t7pgyxgptjy5ptdj8whxa"
   },
   "outputs": [
    {
     "data": {
      "image/png": "[encoded data removed]",
      "text/plain": [
       "<Figure size 1080x720 with 3 Axes>"
      ]
     },
     "metadata": {
      "needs_background": "light"
     },
     "output_type": "display_data"
    },
    {
     "data": {
      "text/html": [
       "<div>\n",
       "<style scoped>\n",
       "    .dataframe tbody tr th:only-of-type {\n",
       "        vertical-align: middle;\n",
       "    }\n",
       "\n",
       "    .dataframe tbody tr th {\n",
       "        vertical-align: top;\n",
       "    }\n",
       "\n",
       "    .dataframe thead th {\n",
       "        text-align: right;\n",
       "    }\n",
       "</style>\n",
       "<table border=\"1\" class=\"dataframe\">\n",
       "  <thead>\n",
       "    <tr style=\"text-align: right;\">\n",
       "      <th></th>\n",
       "      <th>MonthlyCharges</th>\n",
       "      <th>AllDays</th>\n",
       "      <th>TotalCharges</th>\n",
       "    </tr>\n",
       "  </thead>\n",
       "  <tbody>\n",
       "    <tr>\n",
       "      <th>count</th>\n",
       "      <td>7043.000000</td>\n",
       "      <td>7043.000000</td>\n",
       "      <td>7043.000000</td>\n",
       "    </tr>\n",
       "    <tr>\n",
       "      <th>mean</th>\n",
       "      <td>64.761692</td>\n",
       "      <td>985.996166</td>\n",
       "      <td>2279.734304</td>\n",
       "    </tr>\n",
       "    <tr>\n",
       "      <th>std</th>\n",
       "      <td>30.090047</td>\n",
       "      <td>747.587844</td>\n",
       "      <td>2266.794470</td>\n",
       "    </tr>\n",
       "    <tr>\n",
       "      <th>min</th>\n",
       "      <td>18.250000</td>\n",
       "      <td>0.000000</td>\n",
       "      <td>0.000000</td>\n",
       "    </tr>\n",
       "    <tr>\n",
       "      <th>25%</th>\n",
       "      <td>35.500000</td>\n",
       "      <td>273.000000</td>\n",
       "      <td>398.550000</td>\n",
       "    </tr>\n",
       "    <tr>\n",
       "      <th>50%</th>\n",
       "      <td>70.350000</td>\n",
       "      <td>883.000000</td>\n",
       "      <td>1394.550000</td>\n",
       "    </tr>\n",
       "    <tr>\n",
       "      <th>75%</th>\n",
       "      <td>89.850000</td>\n",
       "      <td>1676.000000</td>\n",
       "      <td>3786.600000</td>\n",
       "    </tr>\n",
       "    <tr>\n",
       "      <th>max</th>\n",
       "      <td>118.750000</td>\n",
       "      <td>2191.000000</td>\n",
       "      <td>8684.800000</td>\n",
       "    </tr>\n",
       "  </tbody>\n",
       "</table>\n",
       "</div>"
      ],
      "text/plain": [
       "       MonthlyCharges      AllDays  TotalCharges\n",
       "count     7043.000000  7043.000000   7043.000000\n",
       "mean        64.761692   985.996166   2279.734304\n",
       "std         30.090047   747.587844   2266.794470\n",
       "min         18.250000     0.000000      0.000000\n",
       "25%         35.500000   273.000000    398.550000\n",
       "50%         70.350000   883.000000   1394.550000\n",
       "75%         89.850000  1676.000000   3786.600000\n",
       "max        118.750000  2191.000000   8684.800000"
      ]
     },
     "metadata": {},
     "output_type": "display_data"
    }
   ],
   "source": [
    "plot_numerical(df)"
   ]
  },
  {
   "cell_type": "markdown",
   "metadata": {
    "cellId": "q8xia94i21q8wix5r78wd"
   },
   "source": [
    "Вывод:\n",
    "- У MonthlyCharges выделяется значение ~ 20, что является минимальным значением.\n",
    "- В AlllDays  два пиковых значения.\n",
    "- Значения в TotalCharges убывают, в столбце MonthlyCharges виден пик в райне 85 - это значит, что пользователи, которые платят за тариф больше всех, не остаются на длительный период.\n",
    "- Аномальных выбросов нет."
   ]
  },
  {
   "cell_type": "markdown",
   "metadata": {
    "cellId": "12p60h5bjl4q8varthjn8b",
    "execution_id": "a9eaf136-b3d9-491b-ab3a-01003c50507c"
   },
   "source": [
    "<a name=\"prepare_data_for_models\"></a>\n",
    "## Подготовка данных для моделей"
   ]
  },
  {
   "cell_type": "code",
   "execution_count": 60,
   "metadata": {
    "cellId": "egvppl2bmxlktace65pvf"
   },
   "outputs": [],
   "source": [
    "def get_data_info(data):\n",
    "    display(df.sample(2))\n",
    "    display(df.info())\n",
    "    display(df.describe(include='all'))"
   ]
  },
  {
   "cell_type": "code",
   "execution_count": 61,
   "metadata": {
    "cellId": "xfzsd3d6iv6ocwy9vm9kx"
   },
   "outputs": [],
   "source": [
    "target = df['Сustomer_churn']\n",
    "features = df.drop(['Сustomer_churn'], axis=1)"
   ]
  },
  {
   "cell_type": "code",
   "execution_count": 62,
   "metadata": {
    "cellId": "n43tomshafezxvcz1355d"
   },
   "outputs": [],
   "source": [
    "features_train, features_test, target_train, target_test = train_test_split(features, target, test_size=0.25, random_state=RANDOM_STATE)"
   ]
  },
  {
   "cell_type": "code",
   "execution_count": 63,
   "metadata": {
    "cellId": "9wjavdmg9xidbuvsl7gtcj"
   },
   "outputs": [
    {
     "data": {
      "text/plain": [
       "(5282, 18)"
      ]
     },
     "metadata": {},
     "output_type": "display_data"
    }
   ],
   "source": [
    "features_train.shape"
   ]
  },
  {
   "cell_type": "code",
   "execution_count": 64,
   "metadata": {
    "cellId": "p7516w8cctgwnl3m1lgvb"
   },
   "outputs": [
    {
     "data": {
      "text/plain": [
       "(1761, 18)"
      ]
     },
     "metadata": {},
     "output_type": "display_data"
    }
   ],
   "source": [
    "features_test.shape"
   ]
  },
  {
   "cell_type": "code",
   "execution_count": 65,
   "metadata": {
    "cellId": "g636j7lbbibbrhxzje9krl"
   },
   "outputs": [
    {
     "data": {
      "text/plain": [
       "(5282,)"
      ]
     },
     "metadata": {},
     "output_type": "display_data"
    }
   ],
   "source": [
    "target_train.shape\n"
   ]
  },
  {
   "cell_type": "code",
   "execution_count": 66,
   "metadata": {
    "cellId": "uw5ojgwff5qjva659cbz7"
   },
   "outputs": [
    {
     "data": {
      "text/plain": [
       "(1761,)"
      ]
     },
     "metadata": {},
     "output_type": "display_data"
    }
   ],
   "source": [
    " target_test.shape"
   ]
  },
  {
   "cell_type": "code",
   "execution_count": 67,
   "metadata": {
    "cellId": "t3ah0fufduh9nsb3ludjw"
   },
   "outputs": [
    {
     "name": "stdout",
     "output_type": "stream",
     "text": [
      "<class 'pandas.core.frame.DataFrame'>\n",
      "Index: 7043 entries, 7590-VHVEG to 3186-AJIEK\n",
      "Data columns (total 19 columns):\n",
      " #   Column            Non-Null Count  Dtype  \n",
      "---  ------            --------------  -----  \n",
      " 0   Type              7043 non-null   object \n",
      " 1   PaperlessBilling  7043 non-null   object \n",
      " 2   PaymentMethod     7043 non-null   object \n",
      " 3   MonthlyCharges    7043 non-null   float64\n",
      " 4   TotalCharges      7043 non-null   float64\n",
      " 5   Сustomer_churn    7043 non-null   int64  \n",
      " 6   AllDays           7043 non-null   int64  \n",
      " 7   Gender            7043 non-null   object \n",
      " 8   SeniorCitizen     7043 non-null   int64  \n",
      " 9   Partner           7043 non-null   object \n",
      " 10  Dependents        7043 non-null   object \n",
      " 11  InternetService   7043 non-null   object \n",
      " 12  OnlineSecurity    7043 non-null   object \n",
      " 13  OnlineBackup      7043 non-null   object \n",
      " 14  DeviceProtection  7043 non-null   object \n",
      " 15  TechSupport       7043 non-null   object \n",
      " 16  StreamingTV       7043 non-null   object \n",
      " 17  StreamingMovies   7043 non-null   object \n",
      " 18  MultipleLines     7043 non-null   object \n",
      "dtypes: float64(2), int64(3), object(14)\n",
      "memory usage: 1.3+ MB\n"
     ]
    },
    {
     "data": {
      "text/html": [
       "<div>\n",
       "<style scoped>\n",
       "    .dataframe tbody tr th:only-of-type {\n",
       "        vertical-align: middle;\n",
       "    }\n",
       "\n",
       "    .dataframe tbody tr th {\n",
       "        vertical-align: top;\n",
       "    }\n",
       "\n",
       "    .dataframe thead th {\n",
       "        text-align: right;\n",
       "    }\n",
       "</style>\n",
       "<table border=\"1\" class=\"dataframe\">\n",
       "  <thead>\n",
       "    <tr style=\"text-align: right;\">\n",
       "      <th></th>\n",
       "      <th>Type</th>\n",
       "      <th>PaperlessBilling</th>\n",
       "      <th>PaymentMethod</th>\n",
       "      <th>MonthlyCharges</th>\n",
       "      <th>TotalCharges</th>\n",
       "      <th>Сustomer_churn</th>\n",
       "      <th>AllDays</th>\n",
       "      <th>Gender</th>\n",
       "      <th>SeniorCitizen</th>\n",
       "      <th>Partner</th>\n",
       "      <th>Dependents</th>\n",
       "      <th>InternetService</th>\n",
       "      <th>OnlineSecurity</th>\n",
       "      <th>OnlineBackup</th>\n",
       "      <th>DeviceProtection</th>\n",
       "      <th>TechSupport</th>\n",
       "      <th>StreamingTV</th>\n",
       "      <th>StreamingMovies</th>\n",
       "      <th>MultipleLines</th>\n",
       "    </tr>\n",
       "    <tr>\n",
       "      <th>CustomerID</th>\n",
       "      <th></th>\n",
       "      <th></th>\n",
       "      <th></th>\n",
       "      <th></th>\n",
       "      <th></th>\n",
       "      <th></th>\n",
       "      <th></th>\n",
       "      <th></th>\n",
       "      <th></th>\n",
       "      <th></th>\n",
       "      <th></th>\n",
       "      <th></th>\n",
       "      <th></th>\n",
       "      <th></th>\n",
       "      <th></th>\n",
       "      <th></th>\n",
       "      <th></th>\n",
       "      <th></th>\n",
       "      <th></th>\n",
       "    </tr>\n",
       "  </thead>\n",
       "  <tbody>\n",
       "    <tr>\n",
       "      <th>6663-JOCQO</th>\n",
       "      <td>One year</td>\n",
       "      <td>Yes</td>\n",
       "      <td>Bank transfer (automatic)</td>\n",
       "      <td>75.25</td>\n",
       "      <td>2344.50</td>\n",
       "      <td>0</td>\n",
       "      <td>945</td>\n",
       "      <td>Male</td>\n",
       "      <td>0</td>\n",
       "      <td>Yes</td>\n",
       "      <td>Yes</td>\n",
       "      <td>DSL</td>\n",
       "      <td>Yes</td>\n",
       "      <td>Yes</td>\n",
       "      <td>No</td>\n",
       "      <td>Yes</td>\n",
       "      <td>No</td>\n",
       "      <td>Yes</td>\n",
       "      <td>Yes</td>\n",
       "    </tr>\n",
       "    <tr>\n",
       "      <th>0504-HHAPI</th>\n",
       "      <td>Month-to-month</td>\n",
       "      <td>No</td>\n",
       "      <td>Credit card (automatic)</td>\n",
       "      <td>88.30</td>\n",
       "      <td>2467.75</td>\n",
       "      <td>1</td>\n",
       "      <td>822</td>\n",
       "      <td>Female</td>\n",
       "      <td>1</td>\n",
       "      <td>No</td>\n",
       "      <td>No</td>\n",
       "      <td>Fiber optic</td>\n",
       "      <td>No</td>\n",
       "      <td>No</td>\n",
       "      <td>Yes</td>\n",
       "      <td>No</td>\n",
       "      <td>No</td>\n",
       "      <td>Yes</td>\n",
       "      <td>Yes</td>\n",
       "    </tr>\n",
       "  </tbody>\n",
       "</table>\n",
       "</div>"
      ],
      "text/plain": [
       "                      Type PaperlessBilling              PaymentMethod  \\\n",
       "CustomerID                                                               \n",
       "6663-JOCQO        One year              Yes  Bank transfer (automatic)   \n",
       "0504-HHAPI  Month-to-month               No    Credit card (automatic)   \n",
       "\n",
       "            MonthlyCharges  TotalCharges  Сustomer_churn  AllDays  Gender  \\\n",
       "CustomerID                                                                  \n",
       "6663-JOCQO           75.25       2344.50               0      945    Male   \n",
       "0504-HHAPI           88.30       2467.75               1      822  Female   \n",
       "\n",
       "            SeniorCitizen Partner Dependents InternetService OnlineSecurity  \\\n",
       "CustomerID                                                                    \n",
       "6663-JOCQO              0     Yes        Yes             DSL            Yes   \n",
       "0504-HHAPI              1      No         No     Fiber optic             No   \n",
       "\n",
       "           OnlineBackup DeviceProtection TechSupport StreamingTV  \\\n",
       "CustomerID                                                         \n",
       "6663-JOCQO          Yes               No         Yes          No   \n",
       "0504-HHAPI           No              Yes          No          No   \n",
       "\n",
       "           StreamingMovies MultipleLines  \n",
       "CustomerID                                \n",
       "6663-JOCQO             Yes           Yes  \n",
       "0504-HHAPI             Yes           Yes  "
      ]
     },
     "metadata": {},
     "output_type": "display_data"
    },
    {
     "data": {
      "text/plain": [
       "None"
      ]
     },
     "metadata": {},
     "output_type": "display_data"
    },
    {
     "data": {
      "text/html": [
       "<div>\n",
       "<style scoped>\n",
       "    .dataframe tbody tr th:only-of-type {\n",
       "        vertical-align: middle;\n",
       "    }\n",
       "\n",
       "    .dataframe tbody tr th {\n",
       "        vertical-align: top;\n",
       "    }\n",
       "\n",
       "    .dataframe thead th {\n",
       "        text-align: right;\n",
       "    }\n",
       "</style>\n",
       "<table border=\"1\" class=\"dataframe\">\n",
       "  <thead>\n",
       "    <tr style=\"text-align: right;\">\n",
       "      <th></th>\n",
       "      <th>Type</th>\n",
       "      <th>PaperlessBilling</th>\n",
       "      <th>PaymentMethod</th>\n",
       "      <th>MonthlyCharges</th>\n",
       "      <th>TotalCharges</th>\n",
       "      <th>Сustomer_churn</th>\n",
       "      <th>AllDays</th>\n",
       "      <th>Gender</th>\n",
       "      <th>SeniorCitizen</th>\n",
       "      <th>Partner</th>\n",
       "      <th>Dependents</th>\n",
       "      <th>InternetService</th>\n",
       "      <th>OnlineSecurity</th>\n",
       "      <th>OnlineBackup</th>\n",
       "      <th>DeviceProtection</th>\n",
       "      <th>TechSupport</th>\n",
       "      <th>StreamingTV</th>\n",
       "      <th>StreamingMovies</th>\n",
       "      <th>MultipleLines</th>\n",
       "    </tr>\n",
       "  </thead>\n",
       "  <tbody>\n",
       "    <tr>\n",
       "      <th>count</th>\n",
       "      <td>7043</td>\n",
       "      <td>7043</td>\n",
       "      <td>7043</td>\n",
       "      <td>7043.000000</td>\n",
       "      <td>7043.000000</td>\n",
       "      <td>7043.000000</td>\n",
       "      <td>7043.000000</td>\n",
       "      <td>7043</td>\n",
       "      <td>7043.000000</td>\n",
       "      <td>7043</td>\n",
       "      <td>7043</td>\n",
       "      <td>7043</td>\n",
       "      <td>7043</td>\n",
       "      <td>7043</td>\n",
       "      <td>7043</td>\n",
       "      <td>7043</td>\n",
       "      <td>7043</td>\n",
       "      <td>7043</td>\n",
       "      <td>7043</td>\n",
       "    </tr>\n",
       "    <tr>\n",
       "      <th>unique</th>\n",
       "      <td>3</td>\n",
       "      <td>2</td>\n",
       "      <td>4</td>\n",
       "      <td>NaN</td>\n",
       "      <td>NaN</td>\n",
       "      <td>NaN</td>\n",
       "      <td>NaN</td>\n",
       "      <td>2</td>\n",
       "      <td>NaN</td>\n",
       "      <td>2</td>\n",
       "      <td>2</td>\n",
       "      <td>3</td>\n",
       "      <td>2</td>\n",
       "      <td>2</td>\n",
       "      <td>2</td>\n",
       "      <td>2</td>\n",
       "      <td>2</td>\n",
       "      <td>2</td>\n",
       "      <td>2</td>\n",
       "    </tr>\n",
       "    <tr>\n",
       "      <th>top</th>\n",
       "      <td>Month-to-month</td>\n",
       "      <td>Yes</td>\n",
       "      <td>Electronic check</td>\n",
       "      <td>NaN</td>\n",
       "      <td>NaN</td>\n",
       "      <td>NaN</td>\n",
       "      <td>NaN</td>\n",
       "      <td>Male</td>\n",
       "      <td>NaN</td>\n",
       "      <td>No</td>\n",
       "      <td>No</td>\n",
       "      <td>Fiber optic</td>\n",
       "      <td>No</td>\n",
       "      <td>No</td>\n",
       "      <td>No</td>\n",
       "      <td>No</td>\n",
       "      <td>No</td>\n",
       "      <td>No</td>\n",
       "      <td>No</td>\n",
       "    </tr>\n",
       "    <tr>\n",
       "      <th>freq</th>\n",
       "      <td>3875</td>\n",
       "      <td>4171</td>\n",
       "      <td>2365</td>\n",
       "      <td>NaN</td>\n",
       "      <td>NaN</td>\n",
       "      <td>NaN</td>\n",
       "      <td>NaN</td>\n",
       "      <td>3555</td>\n",
       "      <td>NaN</td>\n",
       "      <td>3641</td>\n",
       "      <td>4933</td>\n",
       "      <td>3096</td>\n",
       "      <td>5024</td>\n",
       "      <td>4614</td>\n",
       "      <td>4621</td>\n",
       "      <td>4999</td>\n",
       "      <td>4336</td>\n",
       "      <td>4311</td>\n",
       "      <td>4072</td>\n",
       "    </tr>\n",
       "    <tr>\n",
       "      <th>mean</th>\n",
       "      <td>NaN</td>\n",
       "      <td>NaN</td>\n",
       "      <td>NaN</td>\n",
       "      <td>64.761692</td>\n",
       "      <td>2279.734304</td>\n",
       "      <td>0.265370</td>\n",
       "      <td>985.996166</td>\n",
       "      <td>NaN</td>\n",
       "      <td>0.162147</td>\n",
       "      <td>NaN</td>\n",
       "      <td>NaN</td>\n",
       "      <td>NaN</td>\n",
       "      <td>NaN</td>\n",
       "      <td>NaN</td>\n",
       "      <td>NaN</td>\n",
       "      <td>NaN</td>\n",
       "      <td>NaN</td>\n",
       "      <td>NaN</td>\n",
       "      <td>NaN</td>\n",
       "    </tr>\n",
       "    <tr>\n",
       "      <th>std</th>\n",
       "      <td>NaN</td>\n",
       "      <td>NaN</td>\n",
       "      <td>NaN</td>\n",
       "      <td>30.090047</td>\n",
       "      <td>2266.794470</td>\n",
       "      <td>0.441561</td>\n",
       "      <td>747.587844</td>\n",
       "      <td>NaN</td>\n",
       "      <td>0.368612</td>\n",
       "      <td>NaN</td>\n",
       "      <td>NaN</td>\n",
       "      <td>NaN</td>\n",
       "      <td>NaN</td>\n",
       "      <td>NaN</td>\n",
       "      <td>NaN</td>\n",
       "      <td>NaN</td>\n",
       "      <td>NaN</td>\n",
       "      <td>NaN</td>\n",
       "      <td>NaN</td>\n",
       "    </tr>\n",
       "    <tr>\n",
       "      <th>min</th>\n",
       "      <td>NaN</td>\n",
       "      <td>NaN</td>\n",
       "      <td>NaN</td>\n",
       "      <td>18.250000</td>\n",
       "      <td>0.000000</td>\n",
       "      <td>0.000000</td>\n",
       "      <td>0.000000</td>\n",
       "      <td>NaN</td>\n",
       "      <td>0.000000</td>\n",
       "      <td>NaN</td>\n",
       "      <td>NaN</td>\n",
       "      <td>NaN</td>\n",
       "      <td>NaN</td>\n",
       "      <td>NaN</td>\n",
       "      <td>NaN</td>\n",
       "      <td>NaN</td>\n",
       "      <td>NaN</td>\n",
       "      <td>NaN</td>\n",
       "      <td>NaN</td>\n",
       "    </tr>\n",
       "    <tr>\n",
       "      <th>25%</th>\n",
       "      <td>NaN</td>\n",
       "      <td>NaN</td>\n",
       "      <td>NaN</td>\n",
       "      <td>35.500000</td>\n",
       "      <td>398.550000</td>\n",
       "      <td>0.000000</td>\n",
       "      <td>273.000000</td>\n",
       "      <td>NaN</td>\n",
       "      <td>0.000000</td>\n",
       "      <td>NaN</td>\n",
       "      <td>NaN</td>\n",
       "      <td>NaN</td>\n",
       "      <td>NaN</td>\n",
       "      <td>NaN</td>\n",
       "      <td>NaN</td>\n",
       "      <td>NaN</td>\n",
       "      <td>NaN</td>\n",
       "      <td>NaN</td>\n",
       "      <td>NaN</td>\n",
       "    </tr>\n",
       "    <tr>\n",
       "      <th>50%</th>\n",
       "      <td>NaN</td>\n",
       "      <td>NaN</td>\n",
       "      <td>NaN</td>\n",
       "      <td>70.350000</td>\n",
       "      <td>1394.550000</td>\n",
       "      <td>0.000000</td>\n",
       "      <td>883.000000</td>\n",
       "      <td>NaN</td>\n",
       "      <td>0.000000</td>\n",
       "      <td>NaN</td>\n",
       "      <td>NaN</td>\n",
       "      <td>NaN</td>\n",
       "      <td>NaN</td>\n",
       "      <td>NaN</td>\n",
       "      <td>NaN</td>\n",
       "      <td>NaN</td>\n",
       "      <td>NaN</td>\n",
       "      <td>NaN</td>\n",
       "      <td>NaN</td>\n",
       "    </tr>\n",
       "    <tr>\n",
       "      <th>75%</th>\n",
       "      <td>NaN</td>\n",
       "      <td>NaN</td>\n",
       "      <td>NaN</td>\n",
       "      <td>89.850000</td>\n",
       "      <td>3786.600000</td>\n",
       "      <td>1.000000</td>\n",
       "      <td>1676.000000</td>\n",
       "      <td>NaN</td>\n",
       "      <td>0.000000</td>\n",
       "      <td>NaN</td>\n",
       "      <td>NaN</td>\n",
       "      <td>NaN</td>\n",
       "      <td>NaN</td>\n",
       "      <td>NaN</td>\n",
       "      <td>NaN</td>\n",
       "      <td>NaN</td>\n",
       "      <td>NaN</td>\n",
       "      <td>NaN</td>\n",
       "      <td>NaN</td>\n",
       "    </tr>\n",
       "    <tr>\n",
       "      <th>max</th>\n",
       "      <td>NaN</td>\n",
       "      <td>NaN</td>\n",
       "      <td>NaN</td>\n",
       "      <td>118.750000</td>\n",
       "      <td>8684.800000</td>\n",
       "      <td>1.000000</td>\n",
       "      <td>2191.000000</td>\n",
       "      <td>NaN</td>\n",
       "      <td>1.000000</td>\n",
       "      <td>NaN</td>\n",
       "      <td>NaN</td>\n",
       "      <td>NaN</td>\n",
       "      <td>NaN</td>\n",
       "      <td>NaN</td>\n",
       "      <td>NaN</td>\n",
       "      <td>NaN</td>\n",
       "      <td>NaN</td>\n",
       "      <td>NaN</td>\n",
       "      <td>NaN</td>\n",
       "    </tr>\n",
       "  </tbody>\n",
       "</table>\n",
       "</div>"
      ],
      "text/plain": [
       "                  Type PaperlessBilling     PaymentMethod  MonthlyCharges  \\\n",
       "count             7043             7043              7043     7043.000000   \n",
       "unique               3                2                 4             NaN   \n",
       "top     Month-to-month              Yes  Electronic check             NaN   \n",
       "freq              3875             4171              2365             NaN   \n",
       "mean               NaN              NaN               NaN       64.761692   \n",
       "std                NaN              NaN               NaN       30.090047   \n",
       "min                NaN              NaN               NaN       18.250000   \n",
       "25%                NaN              NaN               NaN       35.500000   \n",
       "50%                NaN              NaN               NaN       70.350000   \n",
       "75%                NaN              NaN               NaN       89.850000   \n",
       "max                NaN              NaN               NaN      118.750000   \n",
       "\n",
       "        TotalCharges  Сustomer_churn      AllDays Gender  SeniorCitizen  \\\n",
       "count    7043.000000     7043.000000  7043.000000   7043    7043.000000   \n",
       "unique           NaN             NaN          NaN      2            NaN   \n",
       "top              NaN             NaN          NaN   Male            NaN   \n",
       "freq             NaN             NaN          NaN   3555            NaN   \n",
       "mean     2279.734304        0.265370   985.996166    NaN       0.162147   \n",
       "std      2266.794470        0.441561   747.587844    NaN       0.368612   \n",
       "min         0.000000        0.000000     0.000000    NaN       0.000000   \n",
       "25%       398.550000        0.000000   273.000000    NaN       0.000000   \n",
       "50%      1394.550000        0.000000   883.000000    NaN       0.000000   \n",
       "75%      3786.600000        1.000000  1676.000000    NaN       0.000000   \n",
       "max      8684.800000        1.000000  2191.000000    NaN       1.000000   \n",
       "\n",
       "       Partner Dependents InternetService OnlineSecurity OnlineBackup  \\\n",
       "count     7043       7043            7043           7043         7043   \n",
       "unique       2          2               3              2            2   \n",
       "top         No         No     Fiber optic             No           No   \n",
       "freq      3641       4933            3096           5024         4614   \n",
       "mean       NaN        NaN             NaN            NaN          NaN   \n",
       "std        NaN        NaN             NaN            NaN          NaN   \n",
       "min        NaN        NaN             NaN            NaN          NaN   \n",
       "25%        NaN        NaN             NaN            NaN          NaN   \n",
       "50%        NaN        NaN             NaN            NaN          NaN   \n",
       "75%        NaN        NaN             NaN            NaN          NaN   \n",
       "max        NaN        NaN             NaN            NaN          NaN   \n",
       "\n",
       "       DeviceProtection TechSupport StreamingTV StreamingMovies MultipleLines  \n",
       "count              7043        7043        7043            7043          7043  \n",
       "unique                2           2           2               2             2  \n",
       "top                  No          No          No              No            No  \n",
       "freq               4621        4999        4336            4311          4072  \n",
       "mean                NaN         NaN         NaN             NaN           NaN  \n",
       "std                 NaN         NaN         NaN             NaN           NaN  \n",
       "min                 NaN         NaN         NaN             NaN           NaN  \n",
       "25%                 NaN         NaN         NaN             NaN           NaN  \n",
       "50%                 NaN         NaN         NaN             NaN           NaN  \n",
       "75%                 NaN         NaN         NaN             NaN           NaN  \n",
       "max                 NaN         NaN         NaN             NaN           NaN  "
      ]
     },
     "metadata": {},
     "output_type": "display_data"
    }
   ],
   "source": [
    "get_data_info(features_train)"
   ]
  },
  {
   "cell_type": "code",
   "execution_count": 68,
   "metadata": {
    "cellId": "ebaxddn4ziaarn0euloicu"
   },
   "outputs": [
    {
     "name": "stdout",
     "output_type": "stream",
     "text": [
      "<class 'pandas.core.frame.DataFrame'>\n",
      "Index: 7043 entries, 7590-VHVEG to 3186-AJIEK\n",
      "Data columns (total 19 columns):\n",
      " #   Column            Non-Null Count  Dtype  \n",
      "---  ------            --------------  -----  \n",
      " 0   Type              7043 non-null   object \n",
      " 1   PaperlessBilling  7043 non-null   object \n",
      " 2   PaymentMethod     7043 non-null   object \n",
      " 3   MonthlyCharges    7043 non-null   float64\n",
      " 4   TotalCharges      7043 non-null   float64\n",
      " 5   Сustomer_churn    7043 non-null   int64  \n",
      " 6   AllDays           7043 non-null   int64  \n",
      " 7   Gender            7043 non-null   object \n",
      " 8   SeniorCitizen     7043 non-null   int64  \n",
      " 9   Partner           7043 non-null   object \n",
      " 10  Dependents        7043 non-null   object \n",
      " 11  InternetService   7043 non-null   object \n",
      " 12  OnlineSecurity    7043 non-null   object \n",
      " 13  OnlineBackup      7043 non-null   object \n",
      " 14  DeviceProtection  7043 non-null   object \n",
      " 15  TechSupport       7043 non-null   object \n",
      " 16  StreamingTV       7043 non-null   object \n",
      " 17  StreamingMovies   7043 non-null   object \n",
      " 18  MultipleLines     7043 non-null   object \n",
      "dtypes: float64(2), int64(3), object(14)\n",
      "memory usage: 1.3+ MB\n"
     ]
    },
    {
     "data": {
      "text/html": [
       "<div>\n",
       "<style scoped>\n",
       "    .dataframe tbody tr th:only-of-type {\n",
       "        vertical-align: middle;\n",
       "    }\n",
       "\n",
       "    .dataframe tbody tr th {\n",
       "        vertical-align: top;\n",
       "    }\n",
       "\n",
       "    .dataframe thead th {\n",
       "        text-align: right;\n",
       "    }\n",
       "</style>\n",
       "<table border=\"1\" class=\"dataframe\">\n",
       "  <thead>\n",
       "    <tr style=\"text-align: right;\">\n",
       "      <th></th>\n",
       "      <th>Type</th>\n",
       "      <th>PaperlessBilling</th>\n",
       "      <th>PaymentMethod</th>\n",
       "      <th>MonthlyCharges</th>\n",
       "      <th>TotalCharges</th>\n",
       "      <th>Сustomer_churn</th>\n",
       "      <th>AllDays</th>\n",
       "      <th>Gender</th>\n",
       "      <th>SeniorCitizen</th>\n",
       "      <th>Partner</th>\n",
       "      <th>Dependents</th>\n",
       "      <th>InternetService</th>\n",
       "      <th>OnlineSecurity</th>\n",
       "      <th>OnlineBackup</th>\n",
       "      <th>DeviceProtection</th>\n",
       "      <th>TechSupport</th>\n",
       "      <th>StreamingTV</th>\n",
       "      <th>StreamingMovies</th>\n",
       "      <th>MultipleLines</th>\n",
       "    </tr>\n",
       "    <tr>\n",
       "      <th>CustomerID</th>\n",
       "      <th></th>\n",
       "      <th></th>\n",
       "      <th></th>\n",
       "      <th></th>\n",
       "      <th></th>\n",
       "      <th></th>\n",
       "      <th></th>\n",
       "      <th></th>\n",
       "      <th></th>\n",
       "      <th></th>\n",
       "      <th></th>\n",
       "      <th></th>\n",
       "      <th></th>\n",
       "      <th></th>\n",
       "      <th></th>\n",
       "      <th></th>\n",
       "      <th></th>\n",
       "      <th></th>\n",
       "      <th></th>\n",
       "    </tr>\n",
       "  </thead>\n",
       "  <tbody>\n",
       "    <tr>\n",
       "      <th>6061-PQHMK</th>\n",
       "      <td>One year</td>\n",
       "      <td>No</td>\n",
       "      <td>Credit card (automatic)</td>\n",
       "      <td>19.90</td>\n",
       "      <td>527.50</td>\n",
       "      <td>0</td>\n",
       "      <td>761</td>\n",
       "      <td>Female</td>\n",
       "      <td>0</td>\n",
       "      <td>No</td>\n",
       "      <td>No</td>\n",
       "      <td>No</td>\n",
       "      <td>No</td>\n",
       "      <td>No</td>\n",
       "      <td>No</td>\n",
       "      <td>No</td>\n",
       "      <td>No</td>\n",
       "      <td>No</td>\n",
       "      <td>No</td>\n",
       "    </tr>\n",
       "    <tr>\n",
       "      <th>8473-VUVJN</th>\n",
       "      <td>Month-to-month</td>\n",
       "      <td>Yes</td>\n",
       "      <td>Electronic check</td>\n",
       "      <td>73.65</td>\n",
       "      <td>73.65</td>\n",
       "      <td>1</td>\n",
       "      <td>30</td>\n",
       "      <td>Male</td>\n",
       "      <td>1</td>\n",
       "      <td>No</td>\n",
       "      <td>No</td>\n",
       "      <td>Fiber optic</td>\n",
       "      <td>No</td>\n",
       "      <td>No</td>\n",
       "      <td>No</td>\n",
       "      <td>No</td>\n",
       "      <td>No</td>\n",
       "      <td>No</td>\n",
       "      <td>Yes</td>\n",
       "    </tr>\n",
       "  </tbody>\n",
       "</table>\n",
       "</div>"
      ],
      "text/plain": [
       "                      Type PaperlessBilling            PaymentMethod  \\\n",
       "CustomerID                                                             \n",
       "6061-PQHMK        One year               No  Credit card (automatic)   \n",
       "8473-VUVJN  Month-to-month              Yes         Electronic check   \n",
       "\n",
       "            MonthlyCharges  TotalCharges  Сustomer_churn  AllDays  Gender  \\\n",
       "CustomerID                                                                  \n",
       "6061-PQHMK           19.90        527.50               0      761  Female   \n",
       "8473-VUVJN           73.65         73.65               1       30    Male   \n",
       "\n",
       "            SeniorCitizen Partner Dependents InternetService OnlineSecurity  \\\n",
       "CustomerID                                                                    \n",
       "6061-PQHMK              0      No         No              No             No   \n",
       "8473-VUVJN              1      No         No     Fiber optic             No   \n",
       "\n",
       "           OnlineBackup DeviceProtection TechSupport StreamingTV  \\\n",
       "CustomerID                                                         \n",
       "6061-PQHMK           No               No          No          No   \n",
       "8473-VUVJN           No               No          No          No   \n",
       "\n",
       "           StreamingMovies MultipleLines  \n",
       "CustomerID                                \n",
       "6061-PQHMK              No            No  \n",
       "8473-VUVJN              No           Yes  "
      ]
     },
     "metadata": {},
     "output_type": "display_data"
    },
    {
     "data": {
      "text/plain": [
       "None"
      ]
     },
     "metadata": {},
     "output_type": "display_data"
    },
    {
     "data": {
      "text/html": [
       "<div>\n",
       "<style scoped>\n",
       "    .dataframe tbody tr th:only-of-type {\n",
       "        vertical-align: middle;\n",
       "    }\n",
       "\n",
       "    .dataframe tbody tr th {\n",
       "        vertical-align: top;\n",
       "    }\n",
       "\n",
       "    .dataframe thead th {\n",
       "        text-align: right;\n",
       "    }\n",
       "</style>\n",
       "<table border=\"1\" class=\"dataframe\">\n",
       "  <thead>\n",
       "    <tr style=\"text-align: right;\">\n",
       "      <th></th>\n",
       "      <th>Type</th>\n",
       "      <th>PaperlessBilling</th>\n",
       "      <th>PaymentMethod</th>\n",
       "      <th>MonthlyCharges</th>\n",
       "      <th>TotalCharges</th>\n",
       "      <th>Сustomer_churn</th>\n",
       "      <th>AllDays</th>\n",
       "      <th>Gender</th>\n",
       "      <th>SeniorCitizen</th>\n",
       "      <th>Partner</th>\n",
       "      <th>Dependents</th>\n",
       "      <th>InternetService</th>\n",
       "      <th>OnlineSecurity</th>\n",
       "      <th>OnlineBackup</th>\n",
       "      <th>DeviceProtection</th>\n",
       "      <th>TechSupport</th>\n",
       "      <th>StreamingTV</th>\n",
       "      <th>StreamingMovies</th>\n",
       "      <th>MultipleLines</th>\n",
       "    </tr>\n",
       "  </thead>\n",
       "  <tbody>\n",
       "    <tr>\n",
       "      <th>count</th>\n",
       "      <td>7043</td>\n",
       "      <td>7043</td>\n",
       "      <td>7043</td>\n",
       "      <td>7043.000000</td>\n",
       "      <td>7043.000000</td>\n",
       "      <td>7043.000000</td>\n",
       "      <td>7043.000000</td>\n",
       "      <td>7043</td>\n",
       "      <td>7043.000000</td>\n",
       "      <td>7043</td>\n",
       "      <td>7043</td>\n",
       "      <td>7043</td>\n",
       "      <td>7043</td>\n",
       "      <td>7043</td>\n",
       "      <td>7043</td>\n",
       "      <td>7043</td>\n",
       "      <td>7043</td>\n",
       "      <td>7043</td>\n",
       "      <td>7043</td>\n",
       "    </tr>\n",
       "    <tr>\n",
       "      <th>unique</th>\n",
       "      <td>3</td>\n",
       "      <td>2</td>\n",
       "      <td>4</td>\n",
       "      <td>NaN</td>\n",
       "      <td>NaN</td>\n",
       "      <td>NaN</td>\n",
       "      <td>NaN</td>\n",
       "      <td>2</td>\n",
       "      <td>NaN</td>\n",
       "      <td>2</td>\n",
       "      <td>2</td>\n",
       "      <td>3</td>\n",
       "      <td>2</td>\n",
       "      <td>2</td>\n",
       "      <td>2</td>\n",
       "      <td>2</td>\n",
       "      <td>2</td>\n",
       "      <td>2</td>\n",
       "      <td>2</td>\n",
       "    </tr>\n",
       "    <tr>\n",
       "      <th>top</th>\n",
       "      <td>Month-to-month</td>\n",
       "      <td>Yes</td>\n",
       "      <td>Electronic check</td>\n",
       "      <td>NaN</td>\n",
       "      <td>NaN</td>\n",
       "      <td>NaN</td>\n",
       "      <td>NaN</td>\n",
       "      <td>Male</td>\n",
       "      <td>NaN</td>\n",
       "      <td>No</td>\n",
       "      <td>No</td>\n",
       "      <td>Fiber optic</td>\n",
       "      <td>No</td>\n",
       "      <td>No</td>\n",
       "      <td>No</td>\n",
       "      <td>No</td>\n",
       "      <td>No</td>\n",
       "      <td>No</td>\n",
       "      <td>No</td>\n",
       "    </tr>\n",
       "    <tr>\n",
       "      <th>freq</th>\n",
       "      <td>3875</td>\n",
       "      <td>4171</td>\n",
       "      <td>2365</td>\n",
       "      <td>NaN</td>\n",
       "      <td>NaN</td>\n",
       "      <td>NaN</td>\n",
       "      <td>NaN</td>\n",
       "      <td>3555</td>\n",
       "      <td>NaN</td>\n",
       "      <td>3641</td>\n",
       "      <td>4933</td>\n",
       "      <td>3096</td>\n",
       "      <td>5024</td>\n",
       "      <td>4614</td>\n",
       "      <td>4621</td>\n",
       "      <td>4999</td>\n",
       "      <td>4336</td>\n",
       "      <td>4311</td>\n",
       "      <td>4072</td>\n",
       "    </tr>\n",
       "    <tr>\n",
       "      <th>mean</th>\n",
       "      <td>NaN</td>\n",
       "      <td>NaN</td>\n",
       "      <td>NaN</td>\n",
       "      <td>64.761692</td>\n",
       "      <td>2279.734304</td>\n",
       "      <td>0.265370</td>\n",
       "      <td>985.996166</td>\n",
       "      <td>NaN</td>\n",
       "      <td>0.162147</td>\n",
       "      <td>NaN</td>\n",
       "      <td>NaN</td>\n",
       "      <td>NaN</td>\n",
       "      <td>NaN</td>\n",
       "      <td>NaN</td>\n",
       "      <td>NaN</td>\n",
       "      <td>NaN</td>\n",
       "      <td>NaN</td>\n",
       "      <td>NaN</td>\n",
       "      <td>NaN</td>\n",
       "    </tr>\n",
       "    <tr>\n",
       "      <th>std</th>\n",
       "      <td>NaN</td>\n",
       "      <td>NaN</td>\n",
       "      <td>NaN</td>\n",
       "      <td>30.090047</td>\n",
       "      <td>2266.794470</td>\n",
       "      <td>0.441561</td>\n",
       "      <td>747.587844</td>\n",
       "      <td>NaN</td>\n",
       "      <td>0.368612</td>\n",
       "      <td>NaN</td>\n",
       "      <td>NaN</td>\n",
       "      <td>NaN</td>\n",
       "      <td>NaN</td>\n",
       "      <td>NaN</td>\n",
       "      <td>NaN</td>\n",
       "      <td>NaN</td>\n",
       "      <td>NaN</td>\n",
       "      <td>NaN</td>\n",
       "      <td>NaN</td>\n",
       "    </tr>\n",
       "    <tr>\n",
       "      <th>min</th>\n",
       "      <td>NaN</td>\n",
       "      <td>NaN</td>\n",
       "      <td>NaN</td>\n",
       "      <td>18.250000</td>\n",
       "      <td>0.000000</td>\n",
       "      <td>0.000000</td>\n",
       "      <td>0.000000</td>\n",
       "      <td>NaN</td>\n",
       "      <td>0.000000</td>\n",
       "      <td>NaN</td>\n",
       "      <td>NaN</td>\n",
       "      <td>NaN</td>\n",
       "      <td>NaN</td>\n",
       "      <td>NaN</td>\n",
       "      <td>NaN</td>\n",
       "      <td>NaN</td>\n",
       "      <td>NaN</td>\n",
       "      <td>NaN</td>\n",
       "      <td>NaN</td>\n",
       "    </tr>\n",
       "    <tr>\n",
       "      <th>25%</th>\n",
       "      <td>NaN</td>\n",
       "      <td>NaN</td>\n",
       "      <td>NaN</td>\n",
       "      <td>35.500000</td>\n",
       "      <td>398.550000</td>\n",
       "      <td>0.000000</td>\n",
       "      <td>273.000000</td>\n",
       "      <td>NaN</td>\n",
       "      <td>0.000000</td>\n",
       "      <td>NaN</td>\n",
       "      <td>NaN</td>\n",
       "      <td>NaN</td>\n",
       "      <td>NaN</td>\n",
       "      <td>NaN</td>\n",
       "      <td>NaN</td>\n",
       "      <td>NaN</td>\n",
       "      <td>NaN</td>\n",
       "      <td>NaN</td>\n",
       "      <td>NaN</td>\n",
       "    </tr>\n",
       "    <tr>\n",
       "      <th>50%</th>\n",
       "      <td>NaN</td>\n",
       "      <td>NaN</td>\n",
       "      <td>NaN</td>\n",
       "      <td>70.350000</td>\n",
       "      <td>1394.550000</td>\n",
       "      <td>0.000000</td>\n",
       "      <td>883.000000</td>\n",
       "      <td>NaN</td>\n",
       "      <td>0.000000</td>\n",
       "      <td>NaN</td>\n",
       "      <td>NaN</td>\n",
       "      <td>NaN</td>\n",
       "      <td>NaN</td>\n",
       "      <td>NaN</td>\n",
       "      <td>NaN</td>\n",
       "      <td>NaN</td>\n",
       "      <td>NaN</td>\n",
       "      <td>NaN</td>\n",
       "      <td>NaN</td>\n",
       "    </tr>\n",
       "    <tr>\n",
       "      <th>75%</th>\n",
       "      <td>NaN</td>\n",
       "      <td>NaN</td>\n",
       "      <td>NaN</td>\n",
       "      <td>89.850000</td>\n",
       "      <td>3786.600000</td>\n",
       "      <td>1.000000</td>\n",
       "      <td>1676.000000</td>\n",
       "      <td>NaN</td>\n",
       "      <td>0.000000</td>\n",
       "      <td>NaN</td>\n",
       "      <td>NaN</td>\n",
       "      <td>NaN</td>\n",
       "      <td>NaN</td>\n",
       "      <td>NaN</td>\n",
       "      <td>NaN</td>\n",
       "      <td>NaN</td>\n",
       "      <td>NaN</td>\n",
       "      <td>NaN</td>\n",
       "      <td>NaN</td>\n",
       "    </tr>\n",
       "    <tr>\n",
       "      <th>max</th>\n",
       "      <td>NaN</td>\n",
       "      <td>NaN</td>\n",
       "      <td>NaN</td>\n",
       "      <td>118.750000</td>\n",
       "      <td>8684.800000</td>\n",
       "      <td>1.000000</td>\n",
       "      <td>2191.000000</td>\n",
       "      <td>NaN</td>\n",
       "      <td>1.000000</td>\n",
       "      <td>NaN</td>\n",
       "      <td>NaN</td>\n",
       "      <td>NaN</td>\n",
       "      <td>NaN</td>\n",
       "      <td>NaN</td>\n",
       "      <td>NaN</td>\n",
       "      <td>NaN</td>\n",
       "      <td>NaN</td>\n",
       "      <td>NaN</td>\n",
       "      <td>NaN</td>\n",
       "    </tr>\n",
       "  </tbody>\n",
       "</table>\n",
       "</div>"
      ],
      "text/plain": [
       "                  Type PaperlessBilling     PaymentMethod  MonthlyCharges  \\\n",
       "count             7043             7043              7043     7043.000000   \n",
       "unique               3                2                 4             NaN   \n",
       "top     Month-to-month              Yes  Electronic check             NaN   \n",
       "freq              3875             4171              2365             NaN   \n",
       "mean               NaN              NaN               NaN       64.761692   \n",
       "std                NaN              NaN               NaN       30.090047   \n",
       "min                NaN              NaN               NaN       18.250000   \n",
       "25%                NaN              NaN               NaN       35.500000   \n",
       "50%                NaN              NaN               NaN       70.350000   \n",
       "75%                NaN              NaN               NaN       89.850000   \n",
       "max                NaN              NaN               NaN      118.750000   \n",
       "\n",
       "        TotalCharges  Сustomer_churn      AllDays Gender  SeniorCitizen  \\\n",
       "count    7043.000000     7043.000000  7043.000000   7043    7043.000000   \n",
       "unique           NaN             NaN          NaN      2            NaN   \n",
       "top              NaN             NaN          NaN   Male            NaN   \n",
       "freq             NaN             NaN          NaN   3555            NaN   \n",
       "mean     2279.734304        0.265370   985.996166    NaN       0.162147   \n",
       "std      2266.794470        0.441561   747.587844    NaN       0.368612   \n",
       "min         0.000000        0.000000     0.000000    NaN       0.000000   \n",
       "25%       398.550000        0.000000   273.000000    NaN       0.000000   \n",
       "50%      1394.550000        0.000000   883.000000    NaN       0.000000   \n",
       "75%      3786.600000        1.000000  1676.000000    NaN       0.000000   \n",
       "max      8684.800000        1.000000  2191.000000    NaN       1.000000   \n",
       "\n",
       "       Partner Dependents InternetService OnlineSecurity OnlineBackup  \\\n",
       "count     7043       7043            7043           7043         7043   \n",
       "unique       2          2               3              2            2   \n",
       "top         No         No     Fiber optic             No           No   \n",
       "freq      3641       4933            3096           5024         4614   \n",
       "mean       NaN        NaN             NaN            NaN          NaN   \n",
       "std        NaN        NaN             NaN            NaN          NaN   \n",
       "min        NaN        NaN             NaN            NaN          NaN   \n",
       "25%        NaN        NaN             NaN            NaN          NaN   \n",
       "50%        NaN        NaN             NaN            NaN          NaN   \n",
       "75%        NaN        NaN             NaN            NaN          NaN   \n",
       "max        NaN        NaN             NaN            NaN          NaN   \n",
       "\n",
       "       DeviceProtection TechSupport StreamingTV StreamingMovies MultipleLines  \n",
       "count              7043        7043        7043            7043          7043  \n",
       "unique                2           2           2               2             2  \n",
       "top                  No          No          No              No            No  \n",
       "freq               4621        4999        4336            4311          4072  \n",
       "mean                NaN         NaN         NaN             NaN           NaN  \n",
       "std                 NaN         NaN         NaN             NaN           NaN  \n",
       "min                 NaN         NaN         NaN             NaN           NaN  \n",
       "25%                 NaN         NaN         NaN             NaN           NaN  \n",
       "50%                 NaN         NaN         NaN             NaN           NaN  \n",
       "75%                 NaN         NaN         NaN             NaN           NaN  \n",
       "max                 NaN         NaN         NaN             NaN           NaN  "
      ]
     },
     "metadata": {},
     "output_type": "display_data"
    }
   ],
   "source": [
    "get_data_info(features_test)"
   ]
  },
  {
   "cell_type": "code",
   "execution_count": 69,
   "metadata": {
    "cellId": "133w4k2len1dqduk386z8s9"
   },
   "outputs": [
    {
     "name": "stdout",
     "output_type": "stream",
     "text": [
      "<class 'pandas.core.frame.DataFrame'>\n",
      "Index: 7043 entries, 7590-VHVEG to 3186-AJIEK\n",
      "Data columns (total 19 columns):\n",
      " #   Column            Non-Null Count  Dtype  \n",
      "---  ------            --------------  -----  \n",
      " 0   Type              7043 non-null   object \n",
      " 1   PaperlessBilling  7043 non-null   object \n",
      " 2   PaymentMethod     7043 non-null   object \n",
      " 3   MonthlyCharges    7043 non-null   float64\n",
      " 4   TotalCharges      7043 non-null   float64\n",
      " 5   Сustomer_churn    7043 non-null   int64  \n",
      " 6   AllDays           7043 non-null   int64  \n",
      " 7   Gender            7043 non-null   object \n",
      " 8   SeniorCitizen     7043 non-null   int64  \n",
      " 9   Partner           7043 non-null   object \n",
      " 10  Dependents        7043 non-null   object \n",
      " 11  InternetService   7043 non-null   object \n",
      " 12  OnlineSecurity    7043 non-null   object \n",
      " 13  OnlineBackup      7043 non-null   object \n",
      " 14  DeviceProtection  7043 non-null   object \n",
      " 15  TechSupport       7043 non-null   object \n",
      " 16  StreamingTV       7043 non-null   object \n",
      " 17  StreamingMovies   7043 non-null   object \n",
      " 18  MultipleLines     7043 non-null   object \n",
      "dtypes: float64(2), int64(3), object(14)\n",
      "memory usage: 1.3+ MB\n"
     ]
    },
    {
     "data": {
      "text/html": [
       "<div>\n",
       "<style scoped>\n",
       "    .dataframe tbody tr th:only-of-type {\n",
       "        vertical-align: middle;\n",
       "    }\n",
       "\n",
       "    .dataframe tbody tr th {\n",
       "        vertical-align: top;\n",
       "    }\n",
       "\n",
       "    .dataframe thead th {\n",
       "        text-align: right;\n",
       "    }\n",
       "</style>\n",
       "<table border=\"1\" class=\"dataframe\">\n",
       "  <thead>\n",
       "    <tr style=\"text-align: right;\">\n",
       "      <th></th>\n",
       "      <th>Type</th>\n",
       "      <th>PaperlessBilling</th>\n",
       "      <th>PaymentMethod</th>\n",
       "      <th>MonthlyCharges</th>\n",
       "      <th>TotalCharges</th>\n",
       "      <th>Сustomer_churn</th>\n",
       "      <th>AllDays</th>\n",
       "      <th>Gender</th>\n",
       "      <th>SeniorCitizen</th>\n",
       "      <th>Partner</th>\n",
       "      <th>Dependents</th>\n",
       "      <th>InternetService</th>\n",
       "      <th>OnlineSecurity</th>\n",
       "      <th>OnlineBackup</th>\n",
       "      <th>DeviceProtection</th>\n",
       "      <th>TechSupport</th>\n",
       "      <th>StreamingTV</th>\n",
       "      <th>StreamingMovies</th>\n",
       "      <th>MultipleLines</th>\n",
       "    </tr>\n",
       "    <tr>\n",
       "      <th>CustomerID</th>\n",
       "      <th></th>\n",
       "      <th></th>\n",
       "      <th></th>\n",
       "      <th></th>\n",
       "      <th></th>\n",
       "      <th></th>\n",
       "      <th></th>\n",
       "      <th></th>\n",
       "      <th></th>\n",
       "      <th></th>\n",
       "      <th></th>\n",
       "      <th></th>\n",
       "      <th></th>\n",
       "      <th></th>\n",
       "      <th></th>\n",
       "      <th></th>\n",
       "      <th></th>\n",
       "      <th></th>\n",
       "      <th></th>\n",
       "    </tr>\n",
       "  </thead>\n",
       "  <tbody>\n",
       "    <tr>\n",
       "      <th>2037-XJFUP</th>\n",
       "      <td>One year</td>\n",
       "      <td>Yes</td>\n",
       "      <td>Electronic check</td>\n",
       "      <td>95.8</td>\n",
       "      <td>3036.75</td>\n",
       "      <td>1</td>\n",
       "      <td>1005</td>\n",
       "      <td>Male</td>\n",
       "      <td>0</td>\n",
       "      <td>Yes</td>\n",
       "      <td>No</td>\n",
       "      <td>Fiber optic</td>\n",
       "      <td>No</td>\n",
       "      <td>No</td>\n",
       "      <td>Yes</td>\n",
       "      <td>No</td>\n",
       "      <td>Yes</td>\n",
       "      <td>Yes</td>\n",
       "      <td>No</td>\n",
       "    </tr>\n",
       "    <tr>\n",
       "      <th>9732-OUYRN</th>\n",
       "      <td>One year</td>\n",
       "      <td>No</td>\n",
       "      <td>Credit card (automatic)</td>\n",
       "      <td>19.0</td>\n",
       "      <td>918.70</td>\n",
       "      <td>0</td>\n",
       "      <td>1492</td>\n",
       "      <td>Female</td>\n",
       "      <td>0</td>\n",
       "      <td>Yes</td>\n",
       "      <td>No</td>\n",
       "      <td>No</td>\n",
       "      <td>No</td>\n",
       "      <td>No</td>\n",
       "      <td>No</td>\n",
       "      <td>No</td>\n",
       "      <td>No</td>\n",
       "      <td>No</td>\n",
       "      <td>No</td>\n",
       "    </tr>\n",
       "  </tbody>\n",
       "</table>\n",
       "</div>"
      ],
      "text/plain": [
       "                Type PaperlessBilling            PaymentMethod  \\\n",
       "CustomerID                                                       \n",
       "2037-XJFUP  One year              Yes         Electronic check   \n",
       "9732-OUYRN  One year               No  Credit card (automatic)   \n",
       "\n",
       "            MonthlyCharges  TotalCharges  Сustomer_churn  AllDays  Gender  \\\n",
       "CustomerID                                                                  \n",
       "2037-XJFUP            95.8       3036.75               1     1005    Male   \n",
       "9732-OUYRN            19.0        918.70               0     1492  Female   \n",
       "\n",
       "            SeniorCitizen Partner Dependents InternetService OnlineSecurity  \\\n",
       "CustomerID                                                                    \n",
       "2037-XJFUP              0     Yes         No     Fiber optic             No   \n",
       "9732-OUYRN              0     Yes         No              No             No   \n",
       "\n",
       "           OnlineBackup DeviceProtection TechSupport StreamingTV  \\\n",
       "CustomerID                                                         \n",
       "2037-XJFUP           No              Yes          No         Yes   \n",
       "9732-OUYRN           No               No          No          No   \n",
       "\n",
       "           StreamingMovies MultipleLines  \n",
       "CustomerID                                \n",
       "2037-XJFUP             Yes            No  \n",
       "9732-OUYRN              No            No  "
      ]
     },
     "metadata": {},
     "output_type": "display_data"
    },
    {
     "data": {
      "text/plain": [
       "None"
      ]
     },
     "metadata": {},
     "output_type": "display_data"
    },
    {
     "data": {
      "text/html": [
       "<div>\n",
       "<style scoped>\n",
       "    .dataframe tbody tr th:only-of-type {\n",
       "        vertical-align: middle;\n",
       "    }\n",
       "\n",
       "    .dataframe tbody tr th {\n",
       "        vertical-align: top;\n",
       "    }\n",
       "\n",
       "    .dataframe thead th {\n",
       "        text-align: right;\n",
       "    }\n",
       "</style>\n",
       "<table border=\"1\" class=\"dataframe\">\n",
       "  <thead>\n",
       "    <tr style=\"text-align: right;\">\n",
       "      <th></th>\n",
       "      <th>Type</th>\n",
       "      <th>PaperlessBilling</th>\n",
       "      <th>PaymentMethod</th>\n",
       "      <th>MonthlyCharges</th>\n",
       "      <th>TotalCharges</th>\n",
       "      <th>Сustomer_churn</th>\n",
       "      <th>AllDays</th>\n",
       "      <th>Gender</th>\n",
       "      <th>SeniorCitizen</th>\n",
       "      <th>Partner</th>\n",
       "      <th>Dependents</th>\n",
       "      <th>InternetService</th>\n",
       "      <th>OnlineSecurity</th>\n",
       "      <th>OnlineBackup</th>\n",
       "      <th>DeviceProtection</th>\n",
       "      <th>TechSupport</th>\n",
       "      <th>StreamingTV</th>\n",
       "      <th>StreamingMovies</th>\n",
       "      <th>MultipleLines</th>\n",
       "    </tr>\n",
       "  </thead>\n",
       "  <tbody>\n",
       "    <tr>\n",
       "      <th>count</th>\n",
       "      <td>7043</td>\n",
       "      <td>7043</td>\n",
       "      <td>7043</td>\n",
       "      <td>7043.000000</td>\n",
       "      <td>7043.000000</td>\n",
       "      <td>7043.000000</td>\n",
       "      <td>7043.000000</td>\n",
       "      <td>7043</td>\n",
       "      <td>7043.000000</td>\n",
       "      <td>7043</td>\n",
       "      <td>7043</td>\n",
       "      <td>7043</td>\n",
       "      <td>7043</td>\n",
       "      <td>7043</td>\n",
       "      <td>7043</td>\n",
       "      <td>7043</td>\n",
       "      <td>7043</td>\n",
       "      <td>7043</td>\n",
       "      <td>7043</td>\n",
       "    </tr>\n",
       "    <tr>\n",
       "      <th>unique</th>\n",
       "      <td>3</td>\n",
       "      <td>2</td>\n",
       "      <td>4</td>\n",
       "      <td>NaN</td>\n",
       "      <td>NaN</td>\n",
       "      <td>NaN</td>\n",
       "      <td>NaN</td>\n",
       "      <td>2</td>\n",
       "      <td>NaN</td>\n",
       "      <td>2</td>\n",
       "      <td>2</td>\n",
       "      <td>3</td>\n",
       "      <td>2</td>\n",
       "      <td>2</td>\n",
       "      <td>2</td>\n",
       "      <td>2</td>\n",
       "      <td>2</td>\n",
       "      <td>2</td>\n",
       "      <td>2</td>\n",
       "    </tr>\n",
       "    <tr>\n",
       "      <th>top</th>\n",
       "      <td>Month-to-month</td>\n",
       "      <td>Yes</td>\n",
       "      <td>Electronic check</td>\n",
       "      <td>NaN</td>\n",
       "      <td>NaN</td>\n",
       "      <td>NaN</td>\n",
       "      <td>NaN</td>\n",
       "      <td>Male</td>\n",
       "      <td>NaN</td>\n",
       "      <td>No</td>\n",
       "      <td>No</td>\n",
       "      <td>Fiber optic</td>\n",
       "      <td>No</td>\n",
       "      <td>No</td>\n",
       "      <td>No</td>\n",
       "      <td>No</td>\n",
       "      <td>No</td>\n",
       "      <td>No</td>\n",
       "      <td>No</td>\n",
       "    </tr>\n",
       "    <tr>\n",
       "      <th>freq</th>\n",
       "      <td>3875</td>\n",
       "      <td>4171</td>\n",
       "      <td>2365</td>\n",
       "      <td>NaN</td>\n",
       "      <td>NaN</td>\n",
       "      <td>NaN</td>\n",
       "      <td>NaN</td>\n",
       "      <td>3555</td>\n",
       "      <td>NaN</td>\n",
       "      <td>3641</td>\n",
       "      <td>4933</td>\n",
       "      <td>3096</td>\n",
       "      <td>5024</td>\n",
       "      <td>4614</td>\n",
       "      <td>4621</td>\n",
       "      <td>4999</td>\n",
       "      <td>4336</td>\n",
       "      <td>4311</td>\n",
       "      <td>4072</td>\n",
       "    </tr>\n",
       "    <tr>\n",
       "      <th>mean</th>\n",
       "      <td>NaN</td>\n",
       "      <td>NaN</td>\n",
       "      <td>NaN</td>\n",
       "      <td>64.761692</td>\n",
       "      <td>2279.734304</td>\n",
       "      <td>0.265370</td>\n",
       "      <td>985.996166</td>\n",
       "      <td>NaN</td>\n",
       "      <td>0.162147</td>\n",
       "      <td>NaN</td>\n",
       "      <td>NaN</td>\n",
       "      <td>NaN</td>\n",
       "      <td>NaN</td>\n",
       "      <td>NaN</td>\n",
       "      <td>NaN</td>\n",
       "      <td>NaN</td>\n",
       "      <td>NaN</td>\n",
       "      <td>NaN</td>\n",
       "      <td>NaN</td>\n",
       "    </tr>\n",
       "    <tr>\n",
       "      <th>std</th>\n",
       "      <td>NaN</td>\n",
       "      <td>NaN</td>\n",
       "      <td>NaN</td>\n",
       "      <td>30.090047</td>\n",
       "      <td>2266.794470</td>\n",
       "      <td>0.441561</td>\n",
       "      <td>747.587844</td>\n",
       "      <td>NaN</td>\n",
       "      <td>0.368612</td>\n",
       "      <td>NaN</td>\n",
       "      <td>NaN</td>\n",
       "      <td>NaN</td>\n",
       "      <td>NaN</td>\n",
       "      <td>NaN</td>\n",
       "      <td>NaN</td>\n",
       "      <td>NaN</td>\n",
       "      <td>NaN</td>\n",
       "      <td>NaN</td>\n",
       "      <td>NaN</td>\n",
       "    </tr>\n",
       "    <tr>\n",
       "      <th>min</th>\n",
       "      <td>NaN</td>\n",
       "      <td>NaN</td>\n",
       "      <td>NaN</td>\n",
       "      <td>18.250000</td>\n",
       "      <td>0.000000</td>\n",
       "      <td>0.000000</td>\n",
       "      <td>0.000000</td>\n",
       "      <td>NaN</td>\n",
       "      <td>0.000000</td>\n",
       "      <td>NaN</td>\n",
       "      <td>NaN</td>\n",
       "      <td>NaN</td>\n",
       "      <td>NaN</td>\n",
       "      <td>NaN</td>\n",
       "      <td>NaN</td>\n",
       "      <td>NaN</td>\n",
       "      <td>NaN</td>\n",
       "      <td>NaN</td>\n",
       "      <td>NaN</td>\n",
       "    </tr>\n",
       "    <tr>\n",
       "      <th>25%</th>\n",
       "      <td>NaN</td>\n",
       "      <td>NaN</td>\n",
       "      <td>NaN</td>\n",
       "      <td>35.500000</td>\n",
       "      <td>398.550000</td>\n",
       "      <td>0.000000</td>\n",
       "      <td>273.000000</td>\n",
       "      <td>NaN</td>\n",
       "      <td>0.000000</td>\n",
       "      <td>NaN</td>\n",
       "      <td>NaN</td>\n",
       "      <td>NaN</td>\n",
       "      <td>NaN</td>\n",
       "      <td>NaN</td>\n",
       "      <td>NaN</td>\n",
       "      <td>NaN</td>\n",
       "      <td>NaN</td>\n",
       "      <td>NaN</td>\n",
       "      <td>NaN</td>\n",
       "    </tr>\n",
       "    <tr>\n",
       "      <th>50%</th>\n",
       "      <td>NaN</td>\n",
       "      <td>NaN</td>\n",
       "      <td>NaN</td>\n",
       "      <td>70.350000</td>\n",
       "      <td>1394.550000</td>\n",
       "      <td>0.000000</td>\n",
       "      <td>883.000000</td>\n",
       "      <td>NaN</td>\n",
       "      <td>0.000000</td>\n",
       "      <td>NaN</td>\n",
       "      <td>NaN</td>\n",
       "      <td>NaN</td>\n",
       "      <td>NaN</td>\n",
       "      <td>NaN</td>\n",
       "      <td>NaN</td>\n",
       "      <td>NaN</td>\n",
       "      <td>NaN</td>\n",
       "      <td>NaN</td>\n",
       "      <td>NaN</td>\n",
       "    </tr>\n",
       "    <tr>\n",
       "      <th>75%</th>\n",
       "      <td>NaN</td>\n",
       "      <td>NaN</td>\n",
       "      <td>NaN</td>\n",
       "      <td>89.850000</td>\n",
       "      <td>3786.600000</td>\n",
       "      <td>1.000000</td>\n",
       "      <td>1676.000000</td>\n",
       "      <td>NaN</td>\n",
       "      <td>0.000000</td>\n",
       "      <td>NaN</td>\n",
       "      <td>NaN</td>\n",
       "      <td>NaN</td>\n",
       "      <td>NaN</td>\n",
       "      <td>NaN</td>\n",
       "      <td>NaN</td>\n",
       "      <td>NaN</td>\n",
       "      <td>NaN</td>\n",
       "      <td>NaN</td>\n",
       "      <td>NaN</td>\n",
       "    </tr>\n",
       "    <tr>\n",
       "      <th>max</th>\n",
       "      <td>NaN</td>\n",
       "      <td>NaN</td>\n",
       "      <td>NaN</td>\n",
       "      <td>118.750000</td>\n",
       "      <td>8684.800000</td>\n",
       "      <td>1.000000</td>\n",
       "      <td>2191.000000</td>\n",
       "      <td>NaN</td>\n",
       "      <td>1.000000</td>\n",
       "      <td>NaN</td>\n",
       "      <td>NaN</td>\n",
       "      <td>NaN</td>\n",
       "      <td>NaN</td>\n",
       "      <td>NaN</td>\n",
       "      <td>NaN</td>\n",
       "      <td>NaN</td>\n",
       "      <td>NaN</td>\n",
       "      <td>NaN</td>\n",
       "      <td>NaN</td>\n",
       "    </tr>\n",
       "  </tbody>\n",
       "</table>\n",
       "</div>"
      ],
      "text/plain": [
       "                  Type PaperlessBilling     PaymentMethod  MonthlyCharges  \\\n",
       "count             7043             7043              7043     7043.000000   \n",
       "unique               3                2                 4             NaN   \n",
       "top     Month-to-month              Yes  Electronic check             NaN   \n",
       "freq              3875             4171              2365             NaN   \n",
       "mean               NaN              NaN               NaN       64.761692   \n",
       "std                NaN              NaN               NaN       30.090047   \n",
       "min                NaN              NaN               NaN       18.250000   \n",
       "25%                NaN              NaN               NaN       35.500000   \n",
       "50%                NaN              NaN               NaN       70.350000   \n",
       "75%                NaN              NaN               NaN       89.850000   \n",
       "max                NaN              NaN               NaN      118.750000   \n",
       "\n",
       "        TotalCharges  Сustomer_churn      AllDays Gender  SeniorCitizen  \\\n",
       "count    7043.000000     7043.000000  7043.000000   7043    7043.000000   \n",
       "unique           NaN             NaN          NaN      2            NaN   \n",
       "top              NaN             NaN          NaN   Male            NaN   \n",
       "freq             NaN             NaN          NaN   3555            NaN   \n",
       "mean     2279.734304        0.265370   985.996166    NaN       0.162147   \n",
       "std      2266.794470        0.441561   747.587844    NaN       0.368612   \n",
       "min         0.000000        0.000000     0.000000    NaN       0.000000   \n",
       "25%       398.550000        0.000000   273.000000    NaN       0.000000   \n",
       "50%      1394.550000        0.000000   883.000000    NaN       0.000000   \n",
       "75%      3786.600000        1.000000  1676.000000    NaN       0.000000   \n",
       "max      8684.800000        1.000000  2191.000000    NaN       1.000000   \n",
       "\n",
       "       Partner Dependents InternetService OnlineSecurity OnlineBackup  \\\n",
       "count     7043       7043            7043           7043         7043   \n",
       "unique       2          2               3              2            2   \n",
       "top         No         No     Fiber optic             No           No   \n",
       "freq      3641       4933            3096           5024         4614   \n",
       "mean       NaN        NaN             NaN            NaN          NaN   \n",
       "std        NaN        NaN             NaN            NaN          NaN   \n",
       "min        NaN        NaN             NaN            NaN          NaN   \n",
       "25%        NaN        NaN             NaN            NaN          NaN   \n",
       "50%        NaN        NaN             NaN            NaN          NaN   \n",
       "75%        NaN        NaN             NaN            NaN          NaN   \n",
       "max        NaN        NaN             NaN            NaN          NaN   \n",
       "\n",
       "       DeviceProtection TechSupport StreamingTV StreamingMovies MultipleLines  \n",
       "count              7043        7043        7043            7043          7043  \n",
       "unique                2           2           2               2             2  \n",
       "top                  No          No          No              No            No  \n",
       "freq               4621        4999        4336            4311          4072  \n",
       "mean                NaN         NaN         NaN             NaN           NaN  \n",
       "std                 NaN         NaN         NaN             NaN           NaN  \n",
       "min                 NaN         NaN         NaN             NaN           NaN  \n",
       "25%                 NaN         NaN         NaN             NaN           NaN  \n",
       "50%                 NaN         NaN         NaN             NaN           NaN  \n",
       "75%                 NaN         NaN         NaN             NaN           NaN  \n",
       "max                 NaN         NaN         NaN             NaN           NaN  "
      ]
     },
     "metadata": {},
     "output_type": "display_data"
    }
   ],
   "source": [
    "get_data_info(target_train)"
   ]
  },
  {
   "cell_type": "code",
   "execution_count": 70,
   "metadata": {
    "cellId": "r0koo9qn4yd8ndilpa40o"
   },
   "outputs": [
    {
     "data": {
      "text/html": [
       "<div>\n",
       "<style scoped>\n",
       "    .dataframe tbody tr th:only-of-type {\n",
       "        vertical-align: middle;\n",
       "    }\n",
       "\n",
       "    .dataframe tbody tr th {\n",
       "        vertical-align: top;\n",
       "    }\n",
       "\n",
       "    .dataframe thead th {\n",
       "        text-align: right;\n",
       "    }\n",
       "</style>\n",
       "<table border=\"1\" class=\"dataframe\">\n",
       "  <thead>\n",
       "    <tr style=\"text-align: right;\">\n",
       "      <th></th>\n",
       "      <th>Type</th>\n",
       "      <th>PaperlessBilling</th>\n",
       "      <th>PaymentMethod</th>\n",
       "      <th>MonthlyCharges</th>\n",
       "      <th>TotalCharges</th>\n",
       "      <th>Сustomer_churn</th>\n",
       "      <th>AllDays</th>\n",
       "      <th>Gender</th>\n",
       "      <th>SeniorCitizen</th>\n",
       "      <th>Partner</th>\n",
       "      <th>Dependents</th>\n",
       "      <th>InternetService</th>\n",
       "      <th>OnlineSecurity</th>\n",
       "      <th>OnlineBackup</th>\n",
       "      <th>DeviceProtection</th>\n",
       "      <th>TechSupport</th>\n",
       "      <th>StreamingTV</th>\n",
       "      <th>StreamingMovies</th>\n",
       "      <th>MultipleLines</th>\n",
       "    </tr>\n",
       "    <tr>\n",
       "      <th>CustomerID</th>\n",
       "      <th></th>\n",
       "      <th></th>\n",
       "      <th></th>\n",
       "      <th></th>\n",
       "      <th></th>\n",
       "      <th></th>\n",
       "      <th></th>\n",
       "      <th></th>\n",
       "      <th></th>\n",
       "      <th></th>\n",
       "      <th></th>\n",
       "      <th></th>\n",
       "      <th></th>\n",
       "      <th></th>\n",
       "      <th></th>\n",
       "      <th></th>\n",
       "      <th></th>\n",
       "      <th></th>\n",
       "      <th></th>\n",
       "    </tr>\n",
       "  </thead>\n",
       "  <tbody>\n",
       "    <tr>\n",
       "      <th>5499-ECUTN</th>\n",
       "      <td>One year</td>\n",
       "      <td>Yes</td>\n",
       "      <td>Credit card (automatic)</td>\n",
       "      <td>66.05</td>\n",
       "      <td>3021.45</td>\n",
       "      <td>0</td>\n",
       "      <td>1432</td>\n",
       "      <td>Female</td>\n",
       "      <td>0</td>\n",
       "      <td>Yes</td>\n",
       "      <td>No</td>\n",
       "      <td>DSL</td>\n",
       "      <td>Yes</td>\n",
       "      <td>No</td>\n",
       "      <td>Yes</td>\n",
       "      <td>No</td>\n",
       "      <td>Yes</td>\n",
       "      <td>No</td>\n",
       "      <td>No</td>\n",
       "    </tr>\n",
       "    <tr>\n",
       "      <th>4879-GZLFH</th>\n",
       "      <td>Month-to-month</td>\n",
       "      <td>Yes</td>\n",
       "      <td>Electronic check</td>\n",
       "      <td>92.15</td>\n",
       "      <td>3875.40</td>\n",
       "      <td>0</td>\n",
       "      <td>1279</td>\n",
       "      <td>Female</td>\n",
       "      <td>0</td>\n",
       "      <td>Yes</td>\n",
       "      <td>Yes</td>\n",
       "      <td>Fiber optic</td>\n",
       "      <td>No</td>\n",
       "      <td>No</td>\n",
       "      <td>Yes</td>\n",
       "      <td>No</td>\n",
       "      <td>Yes</td>\n",
       "      <td>Yes</td>\n",
       "      <td>No</td>\n",
       "    </tr>\n",
       "  </tbody>\n",
       "</table>\n",
       "</div>"
      ],
      "text/plain": [
       "                      Type PaperlessBilling            PaymentMethod  \\\n",
       "CustomerID                                                             \n",
       "5499-ECUTN        One year              Yes  Credit card (automatic)   \n",
       "4879-GZLFH  Month-to-month              Yes         Electronic check   \n",
       "\n",
       "            MonthlyCharges  TotalCharges  Сustomer_churn  AllDays  Gender  \\\n",
       "CustomerID                                                                  \n",
       "5499-ECUTN           66.05       3021.45               0     1432  Female   \n",
       "4879-GZLFH           92.15       3875.40               0     1279  Female   \n",
       "\n",
       "            SeniorCitizen Partner Dependents InternetService OnlineSecurity  \\\n",
       "CustomerID                                                                    \n",
       "5499-ECUTN              0     Yes         No             DSL            Yes   \n",
       "4879-GZLFH              0     Yes        Yes     Fiber optic             No   \n",
       "\n",
       "           OnlineBackup DeviceProtection TechSupport StreamingTV  \\\n",
       "CustomerID                                                         \n",
       "5499-ECUTN           No              Yes          No         Yes   \n",
       "4879-GZLFH           No              Yes          No         Yes   \n",
       "\n",
       "           StreamingMovies MultipleLines  \n",
       "CustomerID                                \n",
       "5499-ECUTN              No            No  \n",
       "4879-GZLFH             Yes            No  "
      ]
     },
     "metadata": {},
     "output_type": "display_data"
    },
    {
     "name": "stdout",
     "output_type": "stream",
     "text": [
      "<class 'pandas.core.frame.DataFrame'>\n",
      "Index: 7043 entries, 7590-VHVEG to 3186-AJIEK\n",
      "Data columns (total 19 columns):\n",
      " #   Column            Non-Null Count  Dtype  \n",
      "---  ------            --------------  -----  \n",
      " 0   Type              7043 non-null   object \n",
      " 1   PaperlessBilling  7043 non-null   object \n",
      " 2   PaymentMethod     7043 non-null   object \n",
      " 3   MonthlyCharges    7043 non-null   float64\n",
      " 4   TotalCharges      7043 non-null   float64\n",
      " 5   Сustomer_churn    7043 non-null   int64  \n",
      " 6   AllDays           7043 non-null   int64  \n",
      " 7   Gender            7043 non-null   object \n",
      " 8   SeniorCitizen     7043 non-null   int64  \n",
      " 9   Partner           7043 non-null   object \n",
      " 10  Dependents        7043 non-null   object \n",
      " 11  InternetService   7043 non-null   object \n",
      " 12  OnlineSecurity    7043 non-null   object \n",
      " 13  OnlineBackup      7043 non-null   object \n",
      " 14  DeviceProtection  7043 non-null   object \n",
      " 15  TechSupport       7043 non-null   object \n",
      " 16  StreamingTV       7043 non-null   object \n",
      " 17  StreamingMovies   7043 non-null   object \n",
      " 18  MultipleLines     7043 non-null   object \n",
      "dtypes: float64(2), int64(3), object(14)\n",
      "memory usage: 1.3+ MB\n"
     ]
    },
    {
     "data": {
      "text/plain": [
       "None"
      ]
     },
     "metadata": {},
     "output_type": "display_data"
    },
    {
     "data": {
      "text/html": [
       "<div>\n",
       "<style scoped>\n",
       "    .dataframe tbody tr th:only-of-type {\n",
       "        vertical-align: middle;\n",
       "    }\n",
       "\n",
       "    .dataframe tbody tr th {\n",
       "        vertical-align: top;\n",
       "    }\n",
       "\n",
       "    .dataframe thead th {\n",
       "        text-align: right;\n",
       "    }\n",
       "</style>\n",
       "<table border=\"1\" class=\"dataframe\">\n",
       "  <thead>\n",
       "    <tr style=\"text-align: right;\">\n",
       "      <th></th>\n",
       "      <th>Type</th>\n",
       "      <th>PaperlessBilling</th>\n",
       "      <th>PaymentMethod</th>\n",
       "      <th>MonthlyCharges</th>\n",
       "      <th>TotalCharges</th>\n",
       "      <th>Сustomer_churn</th>\n",
       "      <th>AllDays</th>\n",
       "      <th>Gender</th>\n",
       "      <th>SeniorCitizen</th>\n",
       "      <th>Partner</th>\n",
       "      <th>Dependents</th>\n",
       "      <th>InternetService</th>\n",
       "      <th>OnlineSecurity</th>\n",
       "      <th>OnlineBackup</th>\n",
       "      <th>DeviceProtection</th>\n",
       "      <th>TechSupport</th>\n",
       "      <th>StreamingTV</th>\n",
       "      <th>StreamingMovies</th>\n",
       "      <th>MultipleLines</th>\n",
       "    </tr>\n",
       "  </thead>\n",
       "  <tbody>\n",
       "    <tr>\n",
       "      <th>count</th>\n",
       "      <td>7043</td>\n",
       "      <td>7043</td>\n",
       "      <td>7043</td>\n",
       "      <td>7043.000000</td>\n",
       "      <td>7043.000000</td>\n",
       "      <td>7043.000000</td>\n",
       "      <td>7043.000000</td>\n",
       "      <td>7043</td>\n",
       "      <td>7043.000000</td>\n",
       "      <td>7043</td>\n",
       "      <td>7043</td>\n",
       "      <td>7043</td>\n",
       "      <td>7043</td>\n",
       "      <td>7043</td>\n",
       "      <td>7043</td>\n",
       "      <td>7043</td>\n",
       "      <td>7043</td>\n",
       "      <td>7043</td>\n",
       "      <td>7043</td>\n",
       "    </tr>\n",
       "    <tr>\n",
       "      <th>unique</th>\n",
       "      <td>3</td>\n",
       "      <td>2</td>\n",
       "      <td>4</td>\n",
       "      <td>NaN</td>\n",
       "      <td>NaN</td>\n",
       "      <td>NaN</td>\n",
       "      <td>NaN</td>\n",
       "      <td>2</td>\n",
       "      <td>NaN</td>\n",
       "      <td>2</td>\n",
       "      <td>2</td>\n",
       "      <td>3</td>\n",
       "      <td>2</td>\n",
       "      <td>2</td>\n",
       "      <td>2</td>\n",
       "      <td>2</td>\n",
       "      <td>2</td>\n",
       "      <td>2</td>\n",
       "      <td>2</td>\n",
       "    </tr>\n",
       "    <tr>\n",
       "      <th>top</th>\n",
       "      <td>Month-to-month</td>\n",
       "      <td>Yes</td>\n",
       "      <td>Electronic check</td>\n",
       "      <td>NaN</td>\n",
       "      <td>NaN</td>\n",
       "      <td>NaN</td>\n",
       "      <td>NaN</td>\n",
       "      <td>Male</td>\n",
       "      <td>NaN</td>\n",
       "      <td>No</td>\n",
       "      <td>No</td>\n",
       "      <td>Fiber optic</td>\n",
       "      <td>No</td>\n",
       "      <td>No</td>\n",
       "      <td>No</td>\n",
       "      <td>No</td>\n",
       "      <td>No</td>\n",
       "      <td>No</td>\n",
       "      <td>No</td>\n",
       "    </tr>\n",
       "    <tr>\n",
       "      <th>freq</th>\n",
       "      <td>3875</td>\n",
       "      <td>4171</td>\n",
       "      <td>2365</td>\n",
       "      <td>NaN</td>\n",
       "      <td>NaN</td>\n",
       "      <td>NaN</td>\n",
       "      <td>NaN</td>\n",
       "      <td>3555</td>\n",
       "      <td>NaN</td>\n",
       "      <td>3641</td>\n",
       "      <td>4933</td>\n",
       "      <td>3096</td>\n",
       "      <td>5024</td>\n",
       "      <td>4614</td>\n",
       "      <td>4621</td>\n",
       "      <td>4999</td>\n",
       "      <td>4336</td>\n",
       "      <td>4311</td>\n",
       "      <td>4072</td>\n",
       "    </tr>\n",
       "    <tr>\n",
       "      <th>mean</th>\n",
       "      <td>NaN</td>\n",
       "      <td>NaN</td>\n",
       "      <td>NaN</td>\n",
       "      <td>64.761692</td>\n",
       "      <td>2279.734304</td>\n",
       "      <td>0.265370</td>\n",
       "      <td>985.996166</td>\n",
       "      <td>NaN</td>\n",
       "      <td>0.162147</td>\n",
       "      <td>NaN</td>\n",
       "      <td>NaN</td>\n",
       "      <td>NaN</td>\n",
       "      <td>NaN</td>\n",
       "      <td>NaN</td>\n",
       "      <td>NaN</td>\n",
       "      <td>NaN</td>\n",
       "      <td>NaN</td>\n",
       "      <td>NaN</td>\n",
       "      <td>NaN</td>\n",
       "    </tr>\n",
       "    <tr>\n",
       "      <th>std</th>\n",
       "      <td>NaN</td>\n",
       "      <td>NaN</td>\n",
       "      <td>NaN</td>\n",
       "      <td>30.090047</td>\n",
       "      <td>2266.794470</td>\n",
       "      <td>0.441561</td>\n",
       "      <td>747.587844</td>\n",
       "      <td>NaN</td>\n",
       "      <td>0.368612</td>\n",
       "      <td>NaN</td>\n",
       "      <td>NaN</td>\n",
       "      <td>NaN</td>\n",
       "      <td>NaN</td>\n",
       "      <td>NaN</td>\n",
       "      <td>NaN</td>\n",
       "      <td>NaN</td>\n",
       "      <td>NaN</td>\n",
       "      <td>NaN</td>\n",
       "      <td>NaN</td>\n",
       "    </tr>\n",
       "    <tr>\n",
       "      <th>min</th>\n",
       "      <td>NaN</td>\n",
       "      <td>NaN</td>\n",
       "      <td>NaN</td>\n",
       "      <td>18.250000</td>\n",
       "      <td>0.000000</td>\n",
       "      <td>0.000000</td>\n",
       "      <td>0.000000</td>\n",
       "      <td>NaN</td>\n",
       "      <td>0.000000</td>\n",
       "      <td>NaN</td>\n",
       "      <td>NaN</td>\n",
       "      <td>NaN</td>\n",
       "      <td>NaN</td>\n",
       "      <td>NaN</td>\n",
       "      <td>NaN</td>\n",
       "      <td>NaN</td>\n",
       "      <td>NaN</td>\n",
       "      <td>NaN</td>\n",
       "      <td>NaN</td>\n",
       "    </tr>\n",
       "    <tr>\n",
       "      <th>25%</th>\n",
       "      <td>NaN</td>\n",
       "      <td>NaN</td>\n",
       "      <td>NaN</td>\n",
       "      <td>35.500000</td>\n",
       "      <td>398.550000</td>\n",
       "      <td>0.000000</td>\n",
       "      <td>273.000000</td>\n",
       "      <td>NaN</td>\n",
       "      <td>0.000000</td>\n",
       "      <td>NaN</td>\n",
       "      <td>NaN</td>\n",
       "      <td>NaN</td>\n",
       "      <td>NaN</td>\n",
       "      <td>NaN</td>\n",
       "      <td>NaN</td>\n",
       "      <td>NaN</td>\n",
       "      <td>NaN</td>\n",
       "      <td>NaN</td>\n",
       "      <td>NaN</td>\n",
       "    </tr>\n",
       "    <tr>\n",
       "      <th>50%</th>\n",
       "      <td>NaN</td>\n",
       "      <td>NaN</td>\n",
       "      <td>NaN</td>\n",
       "      <td>70.350000</td>\n",
       "      <td>1394.550000</td>\n",
       "      <td>0.000000</td>\n",
       "      <td>883.000000</td>\n",
       "      <td>NaN</td>\n",
       "      <td>0.000000</td>\n",
       "      <td>NaN</td>\n",
       "      <td>NaN</td>\n",
       "      <td>NaN</td>\n",
       "      <td>NaN</td>\n",
       "      <td>NaN</td>\n",
       "      <td>NaN</td>\n",
       "      <td>NaN</td>\n",
       "      <td>NaN</td>\n",
       "      <td>NaN</td>\n",
       "      <td>NaN</td>\n",
       "    </tr>\n",
       "    <tr>\n",
       "      <th>75%</th>\n",
       "      <td>NaN</td>\n",
       "      <td>NaN</td>\n",
       "      <td>NaN</td>\n",
       "      <td>89.850000</td>\n",
       "      <td>3786.600000</td>\n",
       "      <td>1.000000</td>\n",
       "      <td>1676.000000</td>\n",
       "      <td>NaN</td>\n",
       "      <td>0.000000</td>\n",
       "      <td>NaN</td>\n",
       "      <td>NaN</td>\n",
       "      <td>NaN</td>\n",
       "      <td>NaN</td>\n",
       "      <td>NaN</td>\n",
       "      <td>NaN</td>\n",
       "      <td>NaN</td>\n",
       "      <td>NaN</td>\n",
       "      <td>NaN</td>\n",
       "      <td>NaN</td>\n",
       "    </tr>\n",
       "    <tr>\n",
       "      <th>max</th>\n",
       "      <td>NaN</td>\n",
       "      <td>NaN</td>\n",
       "      <td>NaN</td>\n",
       "      <td>118.750000</td>\n",
       "      <td>8684.800000</td>\n",
       "      <td>1.000000</td>\n",
       "      <td>2191.000000</td>\n",
       "      <td>NaN</td>\n",
       "      <td>1.000000</td>\n",
       "      <td>NaN</td>\n",
       "      <td>NaN</td>\n",
       "      <td>NaN</td>\n",
       "      <td>NaN</td>\n",
       "      <td>NaN</td>\n",
       "      <td>NaN</td>\n",
       "      <td>NaN</td>\n",
       "      <td>NaN</td>\n",
       "      <td>NaN</td>\n",
       "      <td>NaN</td>\n",
       "    </tr>\n",
       "  </tbody>\n",
       "</table>\n",
       "</div>"
      ],
      "text/plain": [
       "                  Type PaperlessBilling     PaymentMethod  MonthlyCharges  \\\n",
       "count             7043             7043              7043     7043.000000   \n",
       "unique               3                2                 4             NaN   \n",
       "top     Month-to-month              Yes  Electronic check             NaN   \n",
       "freq              3875             4171              2365             NaN   \n",
       "mean               NaN              NaN               NaN       64.761692   \n",
       "std                NaN              NaN               NaN       30.090047   \n",
       "min                NaN              NaN               NaN       18.250000   \n",
       "25%                NaN              NaN               NaN       35.500000   \n",
       "50%                NaN              NaN               NaN       70.350000   \n",
       "75%                NaN              NaN               NaN       89.850000   \n",
       "max                NaN              NaN               NaN      118.750000   \n",
       "\n",
       "        TotalCharges  Сustomer_churn      AllDays Gender  SeniorCitizen  \\\n",
       "count    7043.000000     7043.000000  7043.000000   7043    7043.000000   \n",
       "unique           NaN             NaN          NaN      2            NaN   \n",
       "top              NaN             NaN          NaN   Male            NaN   \n",
       "freq             NaN             NaN          NaN   3555            NaN   \n",
       "mean     2279.734304        0.265370   985.996166    NaN       0.162147   \n",
       "std      2266.794470        0.441561   747.587844    NaN       0.368612   \n",
       "min         0.000000        0.000000     0.000000    NaN       0.000000   \n",
       "25%       398.550000        0.000000   273.000000    NaN       0.000000   \n",
       "50%      1394.550000        0.000000   883.000000    NaN       0.000000   \n",
       "75%      3786.600000        1.000000  1676.000000    NaN       0.000000   \n",
       "max      8684.800000        1.000000  2191.000000    NaN       1.000000   \n",
       "\n",
       "       Partner Dependents InternetService OnlineSecurity OnlineBackup  \\\n",
       "count     7043       7043            7043           7043         7043   \n",
       "unique       2          2               3              2            2   \n",
       "top         No         No     Fiber optic             No           No   \n",
       "freq      3641       4933            3096           5024         4614   \n",
       "mean       NaN        NaN             NaN            NaN          NaN   \n",
       "std        NaN        NaN             NaN            NaN          NaN   \n",
       "min        NaN        NaN             NaN            NaN          NaN   \n",
       "25%        NaN        NaN             NaN            NaN          NaN   \n",
       "50%        NaN        NaN             NaN            NaN          NaN   \n",
       "75%        NaN        NaN             NaN            NaN          NaN   \n",
       "max        NaN        NaN             NaN            NaN          NaN   \n",
       "\n",
       "       DeviceProtection TechSupport StreamingTV StreamingMovies MultipleLines  \n",
       "count              7043        7043        7043            7043          7043  \n",
       "unique                2           2           2               2             2  \n",
       "top                  No          No          No              No            No  \n",
       "freq               4621        4999        4336            4311          4072  \n",
       "mean                NaN         NaN         NaN             NaN           NaN  \n",
       "std                 NaN         NaN         NaN             NaN           NaN  \n",
       "min                 NaN         NaN         NaN             NaN           NaN  \n",
       "25%                 NaN         NaN         NaN             NaN           NaN  \n",
       "50%                 NaN         NaN         NaN             NaN           NaN  \n",
       "75%                 NaN         NaN         NaN             NaN           NaN  \n",
       "max                 NaN         NaN         NaN             NaN           NaN  "
      ]
     },
     "metadata": {},
     "output_type": "display_data"
    }
   ],
   "source": [
    "get_data_info(target_test)"
   ]
  },
  {
   "cell_type": "markdown",
   "metadata": {
    "cellId": "3yagp2nfyrfsl9ysi0qlb",
    "execution_id": "e052e8b1-1d70-445b-bf16-680918bbda3f"
   },
   "source": [
    "- Мы разбили на выборки, закодируем и смаштабируем данные.\n",
    "- Исследуем модели для решения задачи  классификации. \n",
    "- Минимальный порог для успешной сдачи AUC-ROC >= 0.85."
   ]
  },
  {
   "cell_type": "code",
   "execution_count": 71,
   "metadata": {
    "cellId": "34jq7hro19ibaa58opw6"
   },
   "outputs": [],
   "source": [
    "scaler = StandardScaler()\n",
    "scaler.fit(features_train[numeric_columns])\n",
    "features_train = features_train.copy()\n",
    "features_train[numeric_columns] = scaler.transform(features_train[numeric_columns])\n",
    "features_test = features_test.copy()\n",
    "features_test[numeric_columns] = scaler.transform(features_test[numeric_columns])"
   ]
  },
  {
   "cell_type": "code",
   "execution_count": 72,
   "metadata": {
    "cellId": "z25d7fbkdpftvmzfad9w"
   },
   "outputs": [],
   "source": [
    "#scaler = StandardScaler()\n",
    "#scaler.fit_transform(features_train[numeric_columns])\n",
    "#features_test[numeric_columns] = scaler.transform(features_test[numeric_columns])"
   ]
  },
  {
   "cell_type": "code",
   "execution_count": 73,
   "metadata": {
    "cellId": "ccm8wt9msh42fmxrvgjraw"
   },
   "outputs": [
    {
     "data": {
      "image/png": "[encoded data removed]",
      "text/plain": [
       "<Figure size 360x576 with 1 Axes>"
      ]
     },
     "metadata": {
      "needs_background": "light"
     },
     "output_type": "display_data"
    }
   ],
   "source": [
    "target_train.value_counts().plot(\n",
    "    kind='barh', \n",
    "    figsize=(5, 8), \n",
    "    legend=False, \n",
    "    title='Распределение целевого признака', \n",
    ").set(xlabel='Значение', ylabel='Количество значений')\n",
    "plt.show()"
   ]
  },
  {
   "cell_type": "code",
   "execution_count": 74,
   "metadata": {
    "cellId": "7jykp2sirxjgrqmjbg3x"
   },
   "outputs": [],
   "source": [
    "ratio = target_train[target_train == 1].count() / target_train[target_train == 0].count()"
   ]
  },
  {
   "cell_type": "code",
   "execution_count": 75,
   "metadata": {
    "cellId": "cvvuqd9tav9ur1ni23d8"
   },
   "outputs": [
    {
     "name": "stdout",
     "output_type": "stream",
     "text": [
      "0.3588886030357602\n"
     ]
    }
   ],
   "source": [
    "print(ratio)"
   ]
  },
  {
   "cell_type": "code",
   "execution_count": 79,
   "metadata": {
    "cellId": "ncii92o69vrvfcy3tcro1"
   },
   "outputs": [],
   "source": [
    "features_train = pd.get_dummies(features_train, drop_first = True)\n",
    "features_test = pd.get_dummies(features_test, drop_first = True)"
   ]
  },
  {
   "cell_type": "code",
   "execution_count": 80,
   "metadata": {
    "cellId": "e3t6vf6sjsew69nwxlcbd"
   },
   "outputs": [
    {
     "data": {
      "text/plain": [
       "array([ True,  True,  True,  True,  True,  True,  True,  True,  True,\n",
       "        True,  True,  True,  True,  True,  True,  True,  True,  True,\n",
       "        True,  True,  True,  True])"
      ]
     },
     "metadata": {},
     "output_type": "display_data"
    }
   ],
   "source": [
    "features_train.columns == features_test.columns"
   ]
  },
  {
   "cell_type": "code",
   "execution_count": null,
   "metadata": {
    "cellId": "q0gu1sk22aay30io224uug"
   },
   "outputs": [],
   "source": [
    "df[numeric_columns].corr()"
   ]
  },
  {
   "cell_type": "code",
   "execution_count": null,
   "metadata": {
    "cellId": "jtc0usnp6rtmb36qjt6g"
   },
   "outputs": [],
   "source": [
    "df.corr()['Сustomer_churn'].sort_values(ascending=False)"
   ]
  },
  {
   "cell_type": "markdown",
   "metadata": {
    "cellId": "suwbwgzvtydg8ukz4cbyuc"
   },
   "source": [
    "Присутствует мультиколлинеарность в данных: корреляция между TotalCharges и AllDays - 0.82 (чем дольше клиент платит, тем больше итоговая сумма)."
   ]
  },
  {
   "cell_type": "markdown",
   "metadata": {
    "cellId": "pkb693lrgurqx1jrjxl47"
   },
   "source": [
    "#  PHIK"
   ]
  },
  {
   "cell_type": "markdown",
   "metadata": {
    "cellId": "ki7d8b021iy1k6d77y92m"
   },
   "source": [
    "Для информации: Это практичный коэффициент корреляции, который последовательно работает между категориальными, порядковыми и интервальными переменными, фиксирует нелинейную зависимость и возвращается к коэффициенту корреляции Пирсона в случае двумерного нормального входного распределения."
   ]
  },
  {
   "cell_type": "code",
   "execution_count": null,
   "metadata": {
    "cellId": "6dogl95xjl929944r3l0l9"
   },
   "outputs": [],
   "source": [
    "corr_matrix = df.phik_matrix()\n",
    "plot_correlation_matrix(corr_matrix.values, \n",
    "                        x_labels=corr_matrix.columns, \n",
    "                        y_labels=corr_matrix.index, \n",
    "                        vmin=0, vmax=1, color_map=\"Blues\", \n",
    "                        title=\"correlation\", \n",
    "                        fontsize_factor=1.5, \n",
    "                        figsize=(20, 10))\n",
    "plt.tight_layout()"
   ]
  },
  {
   "cell_type": "markdown",
   "metadata": {
    "cellId": "z2czkxykrxgt4pajqp1yaq"
   },
   "source": [
    "Вывод:\n",
    "- чем выше цена за услуги в месяц, тем больше вероятность оттока.\n",
    "- чем дольше клиент пользовался услугами, тем меньше вероятность оттока."
   ]
  },
  {
   "cell_type": "markdown",
   "metadata": {
    "cellId": "k4cdlzogkicxpjeg40hzm",
    "execution_id": "640da602-a698-4399-ad7c-65fd3bba7074"
   },
   "source": [
    "<a name=\"models_train\"></a>\n",
    "## Обучение моделей"
   ]
  },
  {
   "cell_type": "markdown",
   "metadata": {
    "cellId": "z0tw13ot1cjctndt0o73qm",
    "execution_id": "c1df61c8-15af-4604-9db5-eed0bfe0de25"
   },
   "source": [
    "### LogisticRegression"
   ]
  },
  {
   "cell_type": "code",
   "execution_count": 84,
   "metadata": {
    "cellId": "d875yzrowjgfuuc45tvlt9"
   },
   "outputs": [],
   "source": [
    "params = {\n",
    "    \"model__C\": np.arange(0.001, 100, 5) \n",
    "}\n",
    "clf = Pipeline(steps=[\n",
    "    (\"scaler\", StandardScaler()),\n",
    "    (\"model\", LogisticRegression(penalty=\"l1\", solver=\"saga\", max_iter=1000, random_state=RANDOM_STATE)),\n",
    "])\n",
    "grid_search = GridSearchCV(\n",
    "    estimator=clf,\n",
    "    param_grid=params,\n",
    "    scoring=\"roc_auc\",\n",
    "    n_jobs=-1,\n",
    "    cv=10,\n",
    "    refit=True,\n",
    ")\n",
    "logreg = grid_search.fit(features_train, target_train)\n"
   ]
  },
  {
   "cell_type": "code",
   "execution_count": 85,
   "metadata": {
    "cellId": "c2h86o13ytvomfj11c67rr"
   },
   "outputs": [
    {
     "name": "stdout",
     "output_type": "stream",
     "text": [
      "best score: 0.8449904590073016\n"
     ]
    }
   ],
   "source": [
    "print(f\"best score: {logreg.best_score_}\")"
   ]
  },
  {
   "cell_type": "markdown",
   "metadata": {
    "cellId": "oxy7gss4zjdxysqvlvkzfh",
    "execution_id": "3f1da324-2066-41ee-aea2-c2c8eaac2a21"
   },
   "source": [
    " ### RandomForestClassifier"
   ]
  },
  {
   "cell_type": "code",
   "execution_count": 86,
   "metadata": {
    "cellId": "p15j4ep9zinnwc5q7kjms"
   },
   "outputs": [],
   "source": [
    "params = {\n",
    "    \"min_samples_split\": range(2, 20),\n",
    "    \"min_samples_leaf\": range(1, 20),\n",
    "}\n",
    "clf = RandomForestClassifier(n_estimators=200, random_state=RANDOM_STATE)\n",
    "\n",
    "grid_search = GridSearchCV(clf, params, scoring=\"roc_auc\", cv=5)\n",
    "rf = grid_search.fit(features_train, target_train)"
   ]
  },
  {
   "cell_type": "code",
   "execution_count": 139,
   "metadata": {
    "cellId": "vplcxdxztlkjp0lknb2bs"
   },
   "outputs": [
    {
     "name": "stdout",
     "output_type": "stream",
     "text": [
      "Best score: 0.8552219492305735\n"
     ]
    }
   ],
   "source": [
    "print(f\"Best score: {rf.best_score_}\")"
   ]
  },
  {
   "cell_type": "markdown",
   "metadata": {
    "cellId": "7xwo8zs155rz3ysh20fqgt"
   },
   "source": [
    " ### KNN"
   ]
  },
  {
   "cell_type": "code",
   "execution_count": 88,
   "metadata": {
    "cellId": "2xerv3kqsu8zzf9moa38r"
   },
   "outputs": [],
   "source": [
    "params = {\n",
    "  \"model__n_neighbors\": range(1, 100),\n",
    "  \"model__metric\": [\"cityblock\", \"cosine\", \"euclidean\", \"l1\", \"l2\", \"manhattan\", \"nan_euclidean\"],\n",
    "}\n",
    "clf = Pipeline(steps=[\n",
    "    (\"scaler\", StandardScaler()),\n",
    "    (\"model\", KNeighborsClassifier()),\n",
    "])\n",
    "\n",
    "grid_search = GridSearchCV(\n",
    "estimator=clf,\n",
    "param_grid=params,\n",
    "scoring=\"roc_auc\",\n",
    "n_jobs=-1,\n",
    "cv=10,\n",
    "refit=True,\n",
    ")\n",
    "knn = grid_search.fit(features_train, target_train)"
   ]
  },
  {
   "cell_type": "code",
   "execution_count": 89,
   "metadata": {
    "cellId": "fsqfw95azi6idvhz1h0szp"
   },
   "outputs": [
    {
     "name": "stdout",
     "output_type": "stream",
     "text": [
      "best score: 0.8339335289778406\n"
     ]
    }
   ],
   "source": [
    "print(f\"best score: {knn.best_score_}\")"
   ]
  },
  {
   "cell_type": "code",
   "execution_count": 90,
   "metadata": {
    "cellId": "wc118q5vvs9sqzguf8d6ck"
   },
   "outputs": [
    {
     "data": {
      "text/html": [
       "<div>\n",
       "<style scoped>\n",
       "    .dataframe tbody tr th:only-of-type {\n",
       "        vertical-align: middle;\n",
       "    }\n",
       "\n",
       "    .dataframe tbody tr th {\n",
       "        vertical-align: top;\n",
       "    }\n",
       "\n",
       "    .dataframe thead th {\n",
       "        text-align: right;\n",
       "    }\n",
       "</style>\n",
       "<table border=\"1\" class=\"dataframe\">\n",
       "  <thead>\n",
       "    <tr style=\"text-align: right;\">\n",
       "      <th></th>\n",
       "      <th>best_score_</th>\n",
       "    </tr>\n",
       "  </thead>\n",
       "  <tbody>\n",
       "    <tr>\n",
       "      <th>LogisticRegression</th>\n",
       "      <td>0.844990</td>\n",
       "    </tr>\n",
       "    <tr>\n",
       "      <th>RandomForestClassifier</th>\n",
       "      <td>0.855222</td>\n",
       "    </tr>\n",
       "    <tr>\n",
       "      <th>KNeighborsClassifier</th>\n",
       "      <td>0.833934</td>\n",
       "    </tr>\n",
       "  </tbody>\n",
       "</table>\n",
       "</div>"
      ],
      "text/plain": [
       "                        best_score_\n",
       "LogisticRegression         0.844990\n",
       "RandomForestClassifier     0.855222\n",
       "KNeighborsClassifier       0.833934"
      ]
     },
     "metadata": {},
     "output_type": "display_data"
    }
   ],
   "source": [
    "table = pd.DataFrame(index=['best_score_'], columns=['LogisticRegression','RandomForestClassifier','KNeighborsClassifier'])\n",
    "table['LogisticRegression'] = logreg.best_score_\n",
    "table['RandomForestClassifier'] = rf.best_score_\n",
    "table['KNeighborsClassifier'] = knn.best_score_\n",
    "\n",
    "table.T"
   ]
  },
  {
   "cell_type": "code",
   "execution_count": null,
   "metadata": {
    "cellId": "qw7lw5qw5n9e5nz2ju3o35"
   },
   "outputs": [],
   "source": [
    "target_pred = rf.predict(features_test)\n",
    "accuracy = accuracy_score(target_test, target_pred)\n",
    "print(\"Accuracy:\", accuracy)\n",
    "print('F1:',f1_score(target_test, target_pred))"
   ]
  },
  {
   "cell_type": "code",
   "execution_count": null,
   "metadata": {
    "cellId": "0bgw4uxm95z4j85lj2ax1wj"
   },
   "outputs": [],
   "source": [
    "probabilities_rf=rf.predict_proba(features_test)\n",
    "probabilities_test_rf=probabilities_rf[:,1]\n",
    "\n",
    "print('ROC-AUC:', roc_auc_score(target_test,probabilities_test_rf))"
   ]
  },
  {
   "cell_type": "markdown",
   "metadata": {
    "cellId": "4n4yld6cvtlbkyqiz98wa"
   },
   "source": [
    "Анализ значимости признаков"
   ]
  },
  {
   "cell_type": "markdown",
   "metadata": {
    "cellId": "9xgn5kmutt4wnc95g3nt"
   },
   "source": [
    "Признаки, оказывающих на модель наибольшее влияние."
   ]
  },
  {
   "cell_type": "code",
   "execution_count": null,
   "metadata": {
    "cellId": "e92tdqxt6p835008mifde5"
   },
   "outputs": [],
   "source": [
    "clf = RandomForestClassifier(n_estimators=1000, min_impurity_decrease=0.001)\n",
    "clf.fit(features_train, target_train)\n",
    "pd.DataFrame(clf.feature_importances_, index= features_train.columns, columns=[\"importance\"]) \\\n",
    "    .sort_values(\"importance\") \\\n",
    "    .plot(kind=\"barh\", legend=False, figsize=(12, 8));\n",
    "plt.title(\"Важность факторов\")"
   ]
  },
  {
   "cell_type": "markdown",
   "metadata": {
    "cellId": "ml9s5bgy1zgn3metjvt9p"
   },
   "source": [
    "Прежде всего на лояльность пользователей виляет время использования услуг( AllDays)"
   ]
  },
  {
   "cell_type": "markdown",
   "metadata": {
    "cellId": "gso1vsh6l596et9lobidvg"
   },
   "source": [
    "<a name=\"models_train\"></a>\n",
    "## Итоговый отчет\n"
   ]
  },
  {
   "cell_type": "markdown",
   "metadata": {
    "cellId": "590fdtdq26mrqv082xlhwi"
   },
   "source": [
    "В данном проекте оператор связи «Ниединогоразрыва.ком»  прогнозирует отток клиентов (уход клиента от использования продуктов компании). \n",
    "Анализ возможного оттока позволяет создать условия для удержания склонных к оттоку клиентов и  уменьшить количество пользователей, которые перестают пользоваться услугами оператора. Если выяснится, что пользователь планирует уйти, ему будут предложены промокоды и специальные условия. \n",
    "Оператор собрал персональные данные о части своих клиентов, информацию о тарифах и договорах.\n",
    "\n",
    "Цель исследования:  создать прогнозную модель, которая на основании имеющихся даннных будет предсказывать уход клиента от оператора. Метрикой оценки точности предсказания модели выбрана AUC-ROC.\n",
    "\n",
    "Данные для анализа состояли из файлов, содержащих информацию о дате заключения контракта, дате расторжения контракта, сумм затрат на ежемесячные платежи и общих сумм затрат пользователей, персональной информации о клиентах, сведения об услугах интрернета, телефонии и других дополнительных услугах.\n",
    "\n",
    "- contract.csv — информация о договоре;\n",
    "- personal.csv — персональные данные клиента;\n",
    "- internet.csv — информация об интернет-услугах;\n",
    "- phone.csv — информация об услугах телефонии.\n",
    "\n",
    "Были загружены все потенциально необходимые библиотеки и данные из четырех датасетов (и в дальнейшем объеденены в один датафрейм). Данные были прочитаны и сделаны предварительные выводы.\n",
    "После этого была произведена первичная обработка данных - переименованы столбцы, изменены типы данных, добавлены новые столбцы - целевой признак Сustomer_churn, который означает отказался ли клиент от услуг и AllDays, обозначающий период времени, в течение которого клиент пользовался услугами.\n",
    "\n",
    "Затем был проведен исследовательский анализ данных - проанализированы количественные и категоральные признаки, а также связь между ними и целевым признаком. Были сделан следующий вывод: со временем вероятность отказа от услуг снижается,отказываются от услуг те, кто платит больше.\n",
    "\n",
    "Подготовлен набор данных для построения моделей, данные разделены на выборки (на обучающую и тестовую в соотношении тренировочной к тестовой = 3/1), проведено кодирование и масштабирование признаков, построена матрица корреляции, проведен анализ значимости признаков с помощью feature_importances_.\n",
    "\n",
    "Были исследованы три модели:\n",
    "- LogisticRegression  \n",
    "- RandomForestClassifier  \n",
    "- KNeighborsClassifier\n",
    "\n",
    "В качестве основной метрики выбран AUC, данная метрика позволяет оценить качество модели в целом и в большинстве задач является хорошим критерием оценки моделей. \n",
    "\n",
    "AUC-ROC для LogisticRegression - 0,84\n",
    "AUC-ROC для RandomForestClassifier - 0,85\n",
    "AUC-ROC для  KNeighborsClassifier - 0,83.\n",
    "\n",
    "Выбрана лучшая модель RandomForestClassifier, которая достигла минимального порога  AUC-ROC >= 0.85 (площадь под кривой ошибок) и может быть признана наиболее оптимальным вариантом модели, которая на основании имеющихся даннных будет предсказывать уход клиента от оператора. Благодаря своей гибкости RandomForestClassifier успешно справляется с проблемами классификации."
   ]
  }
 ],
 "metadata": {
  "ExecuteTimeLog": [
   {
    "duration": 1769,
    "start_time": "2023-03-20T18:28:53.271Z"
   },
   {
    "duration": 353,
    "start_time": "2023-03-20T18:28:57.616Z"
   },
   {
    "duration": 8,
    "start_time": "2023-03-20T18:29:01.546Z"
   },
   {
    "duration": 21,
    "start_time": "2023-03-20T18:29:01.590Z"
   },
   {
    "duration": 23,
    "start_time": "2023-03-20T18:29:01.626Z"
   },
   {
    "duration": 52,
    "start_time": "2023-03-20T18:29:01.652Z"
   },
   {
    "duration": 64,
    "start_time": "2023-03-20T18:29:01.706Z"
   },
   {
    "duration": 37,
    "start_time": "2023-03-20T18:29:01.772Z"
   },
   {
    "duration": 51,
    "start_time": "2023-03-20T18:29:01.811Z"
   },
   {
    "duration": 57,
    "start_time": "2023-03-20T18:29:01.864Z"
   },
   {
    "duration": 60,
    "start_time": "2023-03-20T18:29:01.923Z"
   },
   {
    "duration": 52,
    "start_time": "2023-03-20T18:29:01.985Z"
   },
   {
    "duration": 112,
    "start_time": "2023-03-20T18:29:02.039Z"
   },
   {
    "duration": 62,
    "start_time": "2023-03-20T18:29:02.154Z"
   },
   {
    "duration": 6,
    "start_time": "2023-03-20T18:29:02.218Z"
   },
   {
    "duration": 36,
    "start_time": "2023-03-20T18:29:02.227Z"
   },
   {
    "duration": 15,
    "start_time": "2023-03-20T18:29:02.265Z"
   },
   {
    "duration": 13,
    "start_time": "2023-03-20T18:29:02.282Z"
   },
   {
    "duration": 14,
    "start_time": "2023-03-20T18:29:02.297Z"
   },
   {
    "duration": 15,
    "start_time": "2023-03-20T18:29:02.882Z"
   },
   {
    "duration": 11,
    "start_time": "2023-03-20T18:29:03.386Z"
   },
   {
    "duration": 26,
    "start_time": "2023-03-20T18:29:03.428Z"
   },
   {
    "duration": 5,
    "start_time": "2023-03-20T18:29:03.459Z"
   },
   {
    "duration": 5,
    "start_time": "2023-03-20T18:29:03.518Z"
   },
   {
    "duration": 8,
    "start_time": "2023-03-20T18:29:03.546Z"
   },
   {
    "duration": 8,
    "start_time": "2023-03-20T18:29:03.575Z"
   },
   {
    "duration": 11,
    "start_time": "2023-03-20T18:29:04.392Z"
   },
   {
    "duration": 19,
    "start_time": "2023-03-20T18:29:04.959Z"
   },
   {
    "duration": 19,
    "start_time": "2023-03-20T18:29:04.980Z"
   },
   {
    "duration": 4,
    "start_time": "2023-03-20T18:29:05.086Z"
   },
   {
    "duration": 5,
    "start_time": "2023-03-20T18:29:05.178Z"
   },
   {
    "duration": 28,
    "start_time": "2023-03-20T18:29:05.185Z"
   },
   {
    "duration": 5,
    "start_time": "2023-03-20T18:29:22.757Z"
   },
   {
    "duration": 8,
    "start_time": "2023-03-20T18:29:30.096Z"
   },
   {
    "duration": 6,
    "start_time": "2023-03-20T18:29:31.261Z"
   },
   {
    "duration": 8,
    "start_time": "2023-03-20T18:34:01.739Z"
   },
   {
    "duration": 16,
    "start_time": "2023-03-20T18:34:02.066Z"
   },
   {
    "duration": 4,
    "start_time": "2023-03-20T18:34:02.373Z"
   },
   {
    "duration": 4,
    "start_time": "2023-03-20T18:34:02.643Z"
   },
   {
    "duration": 5,
    "start_time": "2023-03-20T18:34:02.941Z"
   },
   {
    "duration": 4,
    "start_time": "2023-03-20T18:34:03.219Z"
   },
   {
    "duration": 4,
    "start_time": "2023-03-20T18:34:03.848Z"
   },
   {
    "duration": 5,
    "start_time": "2023-03-20T18:34:04.520Z"
   },
   {
    "duration": 22,
    "start_time": "2023-03-20T18:34:04.898Z"
   },
   {
    "duration": 15,
    "start_time": "2023-03-20T18:34:06.790Z"
   },
   {
    "duration": 8,
    "start_time": "2023-03-20T18:34:07.989Z"
   },
   {
    "duration": 4,
    "start_time": "2023-03-20T18:34:10.573Z"
   },
   {
    "duration": 5,
    "start_time": "2023-03-20T18:34:11.106Z"
   },
   {
    "duration": 357,
    "start_time": "2023-03-20T18:34:11.890Z"
   },
   {
    "duration": 7,
    "start_time": "2023-03-20T18:34:12.938Z"
   },
   {
    "duration": 68,
    "start_time": "2023-03-20T18:38:09.160Z"
   },
   {
    "duration": 17,
    "start_time": "2023-03-20T18:38:10.521Z"
   },
   {
    "duration": 3,
    "start_time": "2023-03-20T18:38:11.233Z"
   },
   {
    "duration": 1464,
    "start_time": "2023-03-20T18:38:13.436Z"
   },
   {
    "duration": 4,
    "start_time": "2023-03-20T18:39:19.626Z"
   },
   {
    "duration": 14,
    "start_time": "2023-03-20T18:39:19.984Z"
   },
   {
    "duration": 3,
    "start_time": "2023-03-20T18:39:21.259Z"
   },
   {
    "duration": 4,
    "start_time": "2023-03-20T18:39:22.201Z"
   },
   {
    "duration": 291,
    "start_time": "2023-03-20T18:39:23.174Z"
   },
   {
    "duration": 4,
    "start_time": "2023-03-20T18:39:26.132Z"
   },
   {
    "duration": 5,
    "start_time": "2023-03-20T18:39:30.128Z"
   },
   {
    "duration": 8,
    "start_time": "2023-03-20T18:39:30.790Z"
   },
   {
    "duration": 4,
    "start_time": "2023-03-20T18:39:56.604Z"
   },
   {
    "duration": 4,
    "start_time": "2023-03-20T18:39:56.987Z"
   },
   {
    "duration": 4,
    "start_time": "2023-03-20T18:39:57.257Z"
   },
   {
    "duration": 4,
    "start_time": "2023-03-20T18:39:57.599Z"
   },
   {
    "duration": 73,
    "start_time": "2023-03-20T18:39:59.154Z"
   },
   {
    "duration": 74,
    "start_time": "2023-03-20T18:40:02.495Z"
   },
   {
    "duration": 72,
    "start_time": "2023-03-20T18:40:04.387Z"
   },
   {
    "duration": 67,
    "start_time": "2023-03-20T18:40:05.802Z"
   },
   {
    "duration": 150,
    "start_time": "2023-03-20T18:42:06.057Z"
   },
   {
    "duration": 16,
    "start_time": "2023-03-20T18:42:15.335Z"
   },
   {
    "duration": 3,
    "start_time": "2023-03-20T18:42:17.833Z"
   },
   {
    "duration": 123,
    "start_time": "2023-03-20T18:42:18.198Z"
   },
   {
    "duration": 5,
    "start_time": "2023-03-20T18:42:18.896Z"
   },
   {
    "duration": 3,
    "start_time": "2023-03-20T18:42:19.424Z"
   },
   {
    "duration": 4,
    "start_time": "2023-03-20T18:42:19.963Z"
   },
   {
    "duration": 21,
    "start_time": "2023-03-20T18:42:20.647Z"
   },
   {
    "duration": 123,
    "start_time": "2023-03-20T18:42:22.106Z"
   },
   {
    "duration": 39,
    "start_time": "2023-03-20T18:42:26.940Z"
   },
   {
    "duration": 5,
    "start_time": "2023-03-20T18:42:27.432Z"
   },
   {
    "duration": 54,
    "start_time": "2023-03-20T18:49:11.476Z"
   },
   {
    "duration": 117,
    "start_time": "2023-03-21T07:47:41.388Z"
   },
   {
    "duration": 214,
    "start_time": "2023-03-21T11:31:20.759Z"
   },
   {
    "duration": 21,
    "start_time": "2023-03-21T11:32:20.861Z"
   },
   {
    "duration": 6,
    "start_time": "2023-03-21T11:32:44.583Z"
   },
   {
    "duration": 10,
    "start_time": "2023-03-21T11:32:47.413Z"
   },
   {
    "duration": 5,
    "start_time": "2023-03-21T11:33:10.308Z"
   },
   {
    "duration": 12,
    "start_time": "2023-03-21T11:33:12.663Z"
   },
   {
    "duration": 13,
    "start_time": "2023-03-21T11:33:18.107Z"
   },
   {
    "duration": 10,
    "start_time": "2023-03-21T11:33:23.044Z"
   },
   {
    "duration": 15,
    "start_time": "2023-03-21T11:33:46.119Z"
   },
   {
    "duration": 4,
    "start_time": "2023-03-21T11:33:59.144Z"
   },
   {
    "duration": 10,
    "start_time": "2023-03-21T11:34:01.997Z"
   },
   {
    "duration": 458,
    "start_time": "2023-03-21T11:34:35.700Z"
   },
   {
    "duration": 4,
    "start_time": "2023-03-21T11:34:38.927Z"
   },
   {
    "duration": 17,
    "start_time": "2023-03-21T11:34:41.362Z"
   },
   {
    "duration": 1477,
    "start_time": "2023-03-21T11:34:58.799Z"
   },
   {
    "duration": 145,
    "start_time": "2023-03-21T11:35:00.279Z"
   },
   {
    "duration": 8,
    "start_time": "2023-03-21T11:35:00.426Z"
   },
   {
    "duration": 55,
    "start_time": "2023-03-21T11:35:00.436Z"
   },
   {
    "duration": 36,
    "start_time": "2023-03-21T11:35:00.493Z"
   },
   {
    "duration": 46,
    "start_time": "2023-03-21T11:35:00.531Z"
   },
   {
    "duration": 74,
    "start_time": "2023-03-21T11:35:00.579Z"
   },
   {
    "duration": 8,
    "start_time": "2023-03-21T11:35:00.655Z"
   },
   {
    "duration": 24,
    "start_time": "2023-03-21T11:35:00.665Z"
   },
   {
    "duration": 37,
    "start_time": "2023-03-21T11:35:00.694Z"
   },
   {
    "duration": 25,
    "start_time": "2023-03-21T11:35:00.733Z"
   },
   {
    "duration": 23,
    "start_time": "2023-03-21T11:35:00.760Z"
   },
   {
    "duration": 70,
    "start_time": "2023-03-21T11:35:00.785Z"
   },
   {
    "duration": 46,
    "start_time": "2023-03-21T11:35:00.857Z"
   },
   {
    "duration": 18,
    "start_time": "2023-03-21T11:35:00.905Z"
   },
   {
    "duration": 43,
    "start_time": "2023-03-21T11:35:00.925Z"
   },
   {
    "duration": 19,
    "start_time": "2023-03-21T11:35:00.970Z"
   },
   {
    "duration": 30,
    "start_time": "2023-03-21T11:35:00.992Z"
   },
   {
    "duration": 60,
    "start_time": "2023-03-21T11:35:01.024Z"
   },
   {
    "duration": 47,
    "start_time": "2023-03-21T11:35:01.086Z"
   },
   {
    "duration": 77,
    "start_time": "2023-03-21T11:35:01.135Z"
   },
   {
    "duration": 56,
    "start_time": "2023-03-21T11:35:01.214Z"
   },
   {
    "duration": 25,
    "start_time": "2023-03-21T11:35:01.272Z"
   },
   {
    "duration": 42,
    "start_time": "2023-03-21T11:35:01.299Z"
   },
   {
    "duration": 37,
    "start_time": "2023-03-21T11:35:01.344Z"
   },
   {
    "duration": 41,
    "start_time": "2023-03-21T11:35:01.383Z"
   },
   {
    "duration": 62,
    "start_time": "2023-03-21T11:35:01.426Z"
   },
   {
    "duration": 54,
    "start_time": "2023-03-21T11:35:01.495Z"
   },
   {
    "duration": 34,
    "start_time": "2023-03-21T11:35:01.551Z"
   },
   {
    "duration": 39,
    "start_time": "2023-03-21T11:35:01.587Z"
   },
   {
    "duration": 33,
    "start_time": "2023-03-21T11:35:01.628Z"
   },
   {
    "duration": 34,
    "start_time": "2023-03-21T11:35:01.663Z"
   },
   {
    "duration": 53,
    "start_time": "2023-03-21T11:35:01.699Z"
   },
   {
    "duration": 36,
    "start_time": "2023-03-21T11:35:01.754Z"
   },
   {
    "duration": 35,
    "start_time": "2023-03-21T11:35:01.792Z"
   },
   {
    "duration": 43,
    "start_time": "2023-03-21T11:35:01.829Z"
   },
   {
    "duration": 13,
    "start_time": "2023-03-21T11:35:01.874Z"
   },
   {
    "duration": 56,
    "start_time": "2023-03-21T11:35:01.889Z"
   },
   {
    "duration": 34,
    "start_time": "2023-03-21T11:35:01.947Z"
   },
   {
    "duration": 22,
    "start_time": "2023-03-21T11:35:01.984Z"
   },
   {
    "duration": 27,
    "start_time": "2023-03-21T11:35:02.008Z"
   },
   {
    "duration": 34,
    "start_time": "2023-03-21T11:35:02.037Z"
   },
   {
    "duration": 29,
    "start_time": "2023-03-21T11:35:02.073Z"
   },
   {
    "duration": 17,
    "start_time": "2023-03-21T11:35:02.104Z"
   },
   {
    "duration": 28,
    "start_time": "2023-03-21T11:35:02.122Z"
   },
   {
    "duration": 17,
    "start_time": "2023-03-21T11:35:02.151Z"
   },
   {
    "duration": 7,
    "start_time": "2023-03-21T11:35:02.170Z"
   },
   {
    "duration": 319,
    "start_time": "2023-03-21T11:35:02.180Z"
   },
   {
    "duration": 11,
    "start_time": "2023-03-21T11:35:02.501Z"
   },
   {
    "duration": 121,
    "start_time": "2023-03-21T11:35:02.514Z"
   },
   {
    "duration": 28,
    "start_time": "2023-03-21T11:35:02.637Z"
   },
   {
    "duration": 19,
    "start_time": "2023-03-21T11:35:02.667Z"
   },
   {
    "duration": 1827,
    "start_time": "2023-03-21T11:35:02.688Z"
   },
   {
    "duration": 6,
    "start_time": "2023-03-21T11:35:04.517Z"
   },
   {
    "duration": 36,
    "start_time": "2023-03-21T11:35:04.526Z"
   },
   {
    "duration": 4,
    "start_time": "2023-03-21T11:35:04.564Z"
   },
   {
    "duration": 8,
    "start_time": "2023-03-21T11:35:04.570Z"
   },
   {
    "duration": 407,
    "start_time": "2023-03-21T11:35:04.580Z"
   },
   {
    "duration": 4,
    "start_time": "2023-03-21T11:35:04.989Z"
   },
   {
    "duration": 19,
    "start_time": "2023-03-21T11:35:04.995Z"
   },
   {
    "duration": 27,
    "start_time": "2023-03-21T11:35:05.016Z"
   },
   {
    "duration": 26,
    "start_time": "2023-03-21T11:35:05.045Z"
   },
   {
    "duration": 13,
    "start_time": "2023-03-21T11:35:05.073Z"
   },
   {
    "duration": 6,
    "start_time": "2023-03-21T11:35:05.088Z"
   },
   {
    "duration": 6,
    "start_time": "2023-03-21T11:35:05.096Z"
   },
   {
    "duration": 140,
    "start_time": "2023-03-21T11:35:05.103Z"
   },
   {
    "duration": 143,
    "start_time": "2023-03-21T11:35:05.261Z"
   },
   {
    "duration": 113,
    "start_time": "2023-03-21T11:35:05.407Z"
   },
   {
    "duration": 117,
    "start_time": "2023-03-21T11:35:05.522Z"
   },
   {
    "duration": 36,
    "start_time": "2023-03-21T11:35:05.641Z"
   },
   {
    "duration": 3,
    "start_time": "2023-03-21T11:35:05.680Z"
   },
   {
    "duration": 220,
    "start_time": "2023-03-21T11:35:05.685Z"
   },
   {
    "duration": 7,
    "start_time": "2023-03-21T11:35:05.907Z"
   },
   {
    "duration": 11,
    "start_time": "2023-03-21T11:35:05.916Z"
   },
   {
    "duration": 19,
    "start_time": "2023-03-21T11:35:05.929Z"
   },
   {
    "duration": 49,
    "start_time": "2023-03-21T11:35:05.962Z"
   },
   {
    "duration": 195,
    "start_time": "2023-03-21T11:35:06.013Z"
   },
   {
    "duration": 60,
    "start_time": "2023-03-21T11:35:06.211Z"
   },
   {
    "duration": 5,
    "start_time": "2023-03-21T11:35:06.273Z"
   },
   {
    "duration": 3952,
    "start_time": "2023-03-21T11:35:06.280Z"
   },
   {
    "duration": 44285,
    "start_time": "2023-03-21T11:35:10.235Z"
   },
   {
    "duration": 5,
    "start_time": "2023-03-21T11:35:54.528Z"
   },
   {
    "duration": 1692,
    "start_time": "2023-03-21T11:42:01.019Z"
   },
   {
    "duration": 162,
    "start_time": "2023-03-21T11:42:02.713Z"
   },
   {
    "duration": 6,
    "start_time": "2023-03-21T11:42:02.877Z"
   },
   {
    "duration": 49,
    "start_time": "2023-03-21T11:42:02.884Z"
   },
   {
    "duration": 18,
    "start_time": "2023-03-21T11:42:02.936Z"
   },
   {
    "duration": 44,
    "start_time": "2023-03-21T11:42:02.956Z"
   },
   {
    "duration": 50,
    "start_time": "2023-03-21T11:42:03.002Z"
   },
   {
    "duration": 6,
    "start_time": "2023-03-21T11:42:03.054Z"
   },
   {
    "duration": 31,
    "start_time": "2023-03-21T11:42:03.062Z"
   },
   {
    "duration": 22,
    "start_time": "2023-03-21T11:42:03.095Z"
   },
   {
    "duration": 23,
    "start_time": "2023-03-21T11:42:03.119Z"
   },
   {
    "duration": 10,
    "start_time": "2023-03-21T11:42:03.144Z"
   },
   {
    "duration": 28,
    "start_time": "2023-03-21T11:42:03.156Z"
   },
   {
    "duration": 25,
    "start_time": "2023-03-21T11:42:03.187Z"
   },
   {
    "duration": 6,
    "start_time": "2023-03-21T11:42:03.214Z"
   },
   {
    "duration": 10,
    "start_time": "2023-03-21T11:42:03.222Z"
   },
   {
    "duration": 35,
    "start_time": "2023-03-21T11:42:03.234Z"
   },
   {
    "duration": 7,
    "start_time": "2023-03-21T11:42:03.271Z"
   },
   {
    "duration": 13,
    "start_time": "2023-03-21T11:42:03.280Z"
   },
   {
    "duration": 17,
    "start_time": "2023-03-21T11:42:03.295Z"
   },
   {
    "duration": 50,
    "start_time": "2023-03-21T11:42:03.313Z"
   },
   {
    "duration": 39,
    "start_time": "2023-03-21T11:42:03.365Z"
   },
   {
    "duration": 8,
    "start_time": "2023-03-21T11:42:03.407Z"
   },
   {
    "duration": 29,
    "start_time": "2023-03-21T11:42:03.417Z"
   },
   {
    "duration": 109,
    "start_time": "2023-03-21T11:42:03.448Z"
   },
   {
    "duration": 36,
    "start_time": "2023-03-21T11:42:03.559Z"
   },
   {
    "duration": 33,
    "start_time": "2023-03-21T11:42:03.597Z"
   },
   {
    "duration": 38,
    "start_time": "2023-03-21T11:42:03.632Z"
   },
   {
    "duration": 12,
    "start_time": "2023-03-21T11:42:03.673Z"
   },
   {
    "duration": 6,
    "start_time": "2023-03-21T11:42:03.687Z"
   },
   {
    "duration": 13,
    "start_time": "2023-03-21T11:42:03.695Z"
   },
   {
    "duration": 15,
    "start_time": "2023-03-21T11:42:03.709Z"
   },
   {
    "duration": 36,
    "start_time": "2023-03-21T11:42:03.726Z"
   },
   {
    "duration": 6,
    "start_time": "2023-03-21T11:42:03.764Z"
   },
   {
    "duration": 9,
    "start_time": "2023-03-21T11:42:03.772Z"
   },
   {
    "duration": 19,
    "start_time": "2023-03-21T11:42:03.783Z"
   },
   {
    "duration": 5,
    "start_time": "2023-03-21T11:42:03.804Z"
   },
   {
    "duration": 7,
    "start_time": "2023-03-21T11:42:03.811Z"
   },
   {
    "duration": 43,
    "start_time": "2023-03-21T11:42:03.820Z"
   },
   {
    "duration": 9,
    "start_time": "2023-03-21T11:42:03.864Z"
   },
   {
    "duration": 19,
    "start_time": "2023-03-21T11:42:03.879Z"
   },
   {
    "duration": 12,
    "start_time": "2023-03-21T11:42:03.900Z"
   },
   {
    "duration": 35,
    "start_time": "2023-03-21T11:42:03.915Z"
   },
   {
    "duration": 25,
    "start_time": "2023-03-21T11:42:03.960Z"
   },
   {
    "duration": 11,
    "start_time": "2023-03-21T11:42:03.986Z"
   },
   {
    "duration": 14,
    "start_time": "2023-03-21T11:42:04.000Z"
   },
   {
    "duration": 21,
    "start_time": "2023-03-21T11:42:04.016Z"
   },
   {
    "duration": 398,
    "start_time": "2023-03-21T11:42:04.039Z"
   },
   {
    "duration": 22,
    "start_time": "2023-03-21T11:42:04.440Z"
   },
   {
    "duration": 90,
    "start_time": "2023-03-21T11:42:04.465Z"
   },
   {
    "duration": 27,
    "start_time": "2023-03-21T11:42:04.557Z"
   },
   {
    "duration": 4,
    "start_time": "2023-03-21T11:42:04.586Z"
   },
   {
    "duration": 1851,
    "start_time": "2023-03-21T11:42:04.591Z"
   },
   {
    "duration": 5,
    "start_time": "2023-03-21T11:42:06.443Z"
   },
   {
    "duration": 22,
    "start_time": "2023-03-21T11:42:06.461Z"
   },
   {
    "duration": 3,
    "start_time": "2023-03-21T11:42:06.485Z"
   },
   {
    "duration": 10,
    "start_time": "2023-03-21T11:42:06.490Z"
   },
   {
    "duration": 409,
    "start_time": "2023-03-21T11:42:06.502Z"
   },
   {
    "duration": 3,
    "start_time": "2023-03-21T11:42:06.913Z"
   },
   {
    "duration": 64,
    "start_time": "2023-03-21T11:42:06.918Z"
   },
   {
    "duration": 11,
    "start_time": "2023-03-21T11:42:06.983Z"
   },
   {
    "duration": 4,
    "start_time": "2023-03-21T11:42:06.996Z"
   },
   {
    "duration": 6,
    "start_time": "2023-03-21T11:42:07.001Z"
   },
   {
    "duration": 8,
    "start_time": "2023-03-21T11:42:07.008Z"
   },
   {
    "duration": 5,
    "start_time": "2023-03-21T11:42:07.018Z"
   },
   {
    "duration": 112,
    "start_time": "2023-03-21T11:42:07.024Z"
   },
   {
    "duration": 102,
    "start_time": "2023-03-21T11:42:07.138Z"
   },
   {
    "duration": 102,
    "start_time": "2023-03-21T11:42:07.261Z"
   },
   {
    "duration": 124,
    "start_time": "2023-03-21T11:42:07.365Z"
   },
   {
    "duration": 19,
    "start_time": "2023-03-21T11:42:07.491Z"
   },
   {
    "duration": 2,
    "start_time": "2023-03-21T11:42:07.512Z"
   },
   {
    "duration": 161,
    "start_time": "2023-03-21T11:42:07.516Z"
   },
   {
    "duration": 5,
    "start_time": "2023-03-21T11:42:07.678Z"
   },
   {
    "duration": 7,
    "start_time": "2023-03-21T11:42:07.686Z"
   },
   {
    "duration": 10,
    "start_time": "2023-03-21T11:42:07.695Z"
   },
   {
    "duration": 4,
    "start_time": "2023-03-21T11:42:07.707Z"
   },
   {
    "duration": 3,
    "start_time": "2023-03-21T11:42:07.715Z"
   },
   {
    "duration": 81,
    "start_time": "2023-03-21T11:42:07.720Z"
   },
   {
    "duration": 5,
    "start_time": "2023-03-21T11:42:07.803Z"
   },
   {
    "duration": 8,
    "start_time": "2023-03-21T11:42:07.810Z"
   },
   {
    "duration": 13,
    "start_time": "2023-03-21T11:42:07.820Z"
   },
   {
    "duration": 27,
    "start_time": "2023-03-21T11:42:07.835Z"
   },
   {
    "duration": 39338,
    "start_time": "2023-03-21T11:42:07.864Z"
   },
   {
    "duration": 3,
    "start_time": "2023-03-21T11:42:47.204Z"
   },
   {
    "duration": 1309126,
    "start_time": "2023-03-21T11:42:47.208Z"
   },
   {
    "duration": 4,
    "start_time": "2023-03-21T12:04:36.336Z"
   },
   {
    "duration": 1481783,
    "start_time": "2023-03-21T12:29:54.902Z"
   },
   {
    "duration": 4,
    "start_time": "2023-03-21T12:54:36.687Z"
   },
   {
    "duration": 18,
    "start_time": "2023-03-21T12:54:36.693Z"
   },
   {
    "duration": 3225,
    "start_time": "2023-03-21T12:54:36.713Z"
   },
   {
    "duration": 0,
    "start_time": "2023-03-21T12:54:40.017Z"
   },
   {
    "duration": 0,
    "start_time": "2023-03-21T12:54:40.018Z"
   },
   {
    "duration": 0,
    "start_time": "2023-03-21T12:54:40.020Z"
   },
   {
    "duration": 93,
    "start_time": "2023-03-21T12:58:24.447Z"
   },
   {
    "duration": 133,
    "start_time": "2023-03-21T13:02:09.614Z"
   },
   {
    "duration": 2216,
    "start_time": "2023-03-21T13:02:26.149Z"
   },
   {
    "duration": 2205,
    "start_time": "2023-03-21T13:03:02.587Z"
   },
   {
    "duration": 1522,
    "start_time": "2023-03-21T13:03:04.794Z"
   },
   {
    "duration": 142,
    "start_time": "2023-03-21T13:03:06.318Z"
   },
   {
    "duration": 8,
    "start_time": "2023-03-21T13:03:06.463Z"
   },
   {
    "duration": 14,
    "start_time": "2023-03-21T13:03:06.472Z"
   },
   {
    "duration": 14,
    "start_time": "2023-03-21T13:03:06.487Z"
   },
   {
    "duration": 15,
    "start_time": "2023-03-21T13:03:06.503Z"
   },
   {
    "duration": 77,
    "start_time": "2023-03-21T13:03:06.519Z"
   },
   {
    "duration": 7,
    "start_time": "2023-03-21T13:03:06.597Z"
   },
   {
    "duration": 17,
    "start_time": "2023-03-21T13:03:06.607Z"
   },
   {
    "duration": 9,
    "start_time": "2023-03-21T13:03:06.627Z"
   },
   {
    "duration": 32,
    "start_time": "2023-03-21T13:03:06.637Z"
   },
   {
    "duration": 11,
    "start_time": "2023-03-21T13:03:06.671Z"
   },
   {
    "duration": 16,
    "start_time": "2023-03-21T13:03:06.684Z"
   },
   {
    "duration": 66,
    "start_time": "2023-03-21T13:03:06.702Z"
   },
   {
    "duration": 6,
    "start_time": "2023-03-21T13:03:06.770Z"
   },
   {
    "duration": 7,
    "start_time": "2023-03-21T13:03:06.777Z"
   },
   {
    "duration": 6,
    "start_time": "2023-03-21T13:03:06.786Z"
   },
   {
    "duration": 10,
    "start_time": "2023-03-21T13:03:06.794Z"
   },
   {
    "duration": 14,
    "start_time": "2023-03-21T13:03:06.807Z"
   },
   {
    "duration": 11,
    "start_time": "2023-03-21T13:03:06.861Z"
   },
   {
    "duration": 14,
    "start_time": "2023-03-21T13:03:06.873Z"
   },
   {
    "duration": 30,
    "start_time": "2023-03-21T13:03:06.888Z"
   },
   {
    "duration": 45,
    "start_time": "2023-03-21T13:03:06.919Z"
   },
   {
    "duration": 4,
    "start_time": "2023-03-21T13:03:06.966Z"
   },
   {
    "duration": 10,
    "start_time": "2023-03-21T13:03:06.971Z"
   },
   {
    "duration": 10,
    "start_time": "2023-03-21T13:03:06.983Z"
   },
   {
    "duration": 16,
    "start_time": "2023-03-21T13:03:06.997Z"
   },
   {
    "duration": 16,
    "start_time": "2023-03-21T13:03:07.061Z"
   },
   {
    "duration": 8,
    "start_time": "2023-03-21T13:03:07.079Z"
   },
   {
    "duration": 19,
    "start_time": "2023-03-21T13:03:07.089Z"
   },
   {
    "duration": 7,
    "start_time": "2023-03-21T13:03:07.109Z"
   },
   {
    "duration": 7,
    "start_time": "2023-03-21T13:03:07.117Z"
   },
   {
    "duration": 41,
    "start_time": "2023-03-21T13:03:07.126Z"
   },
   {
    "duration": 6,
    "start_time": "2023-03-21T13:03:07.169Z"
   },
   {
    "duration": 12,
    "start_time": "2023-03-21T13:03:07.177Z"
   },
   {
    "duration": 26,
    "start_time": "2023-03-21T13:03:07.191Z"
   },
   {
    "duration": 4,
    "start_time": "2023-03-21T13:03:07.219Z"
   },
   {
    "duration": 6,
    "start_time": "2023-03-21T13:03:07.225Z"
   },
   {
    "duration": 30,
    "start_time": "2023-03-21T13:03:07.232Z"
   },
   {
    "duration": 4,
    "start_time": "2023-03-21T13:03:07.263Z"
   },
   {
    "duration": 5,
    "start_time": "2023-03-21T13:03:07.269Z"
   },
   {
    "duration": 12,
    "start_time": "2023-03-21T13:03:07.275Z"
   },
   {
    "duration": 28,
    "start_time": "2023-03-21T13:03:07.288Z"
   },
   {
    "duration": 45,
    "start_time": "2023-03-21T13:03:07.317Z"
   },
   {
    "duration": 11,
    "start_time": "2023-03-21T13:03:07.364Z"
   },
   {
    "duration": 16,
    "start_time": "2023-03-21T13:03:07.376Z"
   },
   {
    "duration": 4,
    "start_time": "2023-03-21T13:03:07.394Z"
   },
   {
    "duration": 357,
    "start_time": "2023-03-21T13:03:07.400Z"
   },
   {
    "duration": 8,
    "start_time": "2023-03-21T13:03:07.760Z"
   },
   {
    "duration": 64,
    "start_time": "2023-03-21T13:03:07.770Z"
   },
   {
    "duration": 41,
    "start_time": "2023-03-21T13:03:07.836Z"
   },
   {
    "duration": 3,
    "start_time": "2023-03-21T13:03:07.879Z"
   },
   {
    "duration": 1714,
    "start_time": "2023-03-21T13:03:07.884Z"
   },
   {
    "duration": 5,
    "start_time": "2023-03-21T13:03:09.600Z"
   },
   {
    "duration": 18,
    "start_time": "2023-03-21T13:03:09.607Z"
   },
   {
    "duration": 3,
    "start_time": "2023-03-21T13:03:09.627Z"
   },
   {
    "duration": 5,
    "start_time": "2023-03-21T13:03:09.663Z"
   },
   {
    "duration": 443,
    "start_time": "2023-03-21T13:03:09.670Z"
   },
   {
    "duration": 4,
    "start_time": "2023-03-21T13:03:10.115Z"
   },
   {
    "duration": 6,
    "start_time": "2023-03-21T13:03:10.121Z"
   },
   {
    "duration": 33,
    "start_time": "2023-03-21T13:03:10.129Z"
   },
   {
    "duration": 4,
    "start_time": "2023-03-21T13:03:10.164Z"
   },
   {
    "duration": 7,
    "start_time": "2023-03-21T13:03:10.170Z"
   },
   {
    "duration": 14,
    "start_time": "2023-03-21T13:03:10.179Z"
   },
   {
    "duration": 6,
    "start_time": "2023-03-21T13:03:10.195Z"
   },
   {
    "duration": 134,
    "start_time": "2023-03-21T13:03:10.203Z"
   },
   {
    "duration": 123,
    "start_time": "2023-03-21T13:03:10.340Z"
   },
   {
    "duration": 114,
    "start_time": "2023-03-21T13:03:10.465Z"
   },
   {
    "duration": 125,
    "start_time": "2023-03-21T13:03:10.581Z"
   },
   {
    "duration": 19,
    "start_time": "2023-03-21T13:03:10.709Z"
   },
   {
    "duration": 3,
    "start_time": "2023-03-21T13:03:10.730Z"
   },
   {
    "duration": 176,
    "start_time": "2023-03-21T13:03:10.735Z"
   },
   {
    "duration": 5,
    "start_time": "2023-03-21T13:03:10.912Z"
   },
   {
    "duration": 19,
    "start_time": "2023-03-21T13:03:10.919Z"
   },
   {
    "duration": 4,
    "start_time": "2023-03-21T13:03:10.941Z"
   },
   {
    "duration": 3,
    "start_time": "2023-03-21T13:03:10.963Z"
   },
   {
    "duration": 18,
    "start_time": "2023-03-21T13:03:10.968Z"
   },
   {
    "duration": 47,
    "start_time": "2023-03-21T13:03:10.987Z"
   },
   {
    "duration": 6,
    "start_time": "2023-03-21T13:03:11.036Z"
   },
   {
    "duration": 17,
    "start_time": "2023-03-21T13:03:11.045Z"
   },
   {
    "duration": 15,
    "start_time": "2023-03-21T13:03:11.068Z"
   },
   {
    "duration": 10,
    "start_time": "2023-03-21T13:03:11.085Z"
   },
   {
    "duration": 1474,
    "start_time": "2023-03-21T13:03:11.097Z"
   },
   {
    "duration": 1,
    "start_time": "2023-03-21T13:03:12.573Z"
   },
   {
    "duration": 0,
    "start_time": "2023-03-21T13:03:12.575Z"
   },
   {
    "duration": 0,
    "start_time": "2023-03-21T13:03:12.576Z"
   },
   {
    "duration": 0,
    "start_time": "2023-03-21T13:03:12.577Z"
   },
   {
    "duration": 0,
    "start_time": "2023-03-21T13:03:12.578Z"
   },
   {
    "duration": 0,
    "start_time": "2023-03-21T13:03:12.580Z"
   },
   {
    "duration": 0,
    "start_time": "2023-03-21T13:03:12.580Z"
   },
   {
    "duration": 0,
    "start_time": "2023-03-21T13:03:12.582Z"
   },
   {
    "duration": 0,
    "start_time": "2023-03-21T13:03:12.583Z"
   },
   {
    "duration": 10,
    "start_time": "2023-03-21T13:10:30.845Z"
   },
   {
    "duration": 11,
    "start_time": "2023-03-21T13:13:58.620Z"
   },
   {
    "duration": 10,
    "start_time": "2023-03-21T13:14:02.182Z"
   },
   {
    "duration": 1290,
    "start_time": "2023-03-21T13:14:48.666Z"
   },
   {
    "duration": 11,
    "start_time": "2023-03-21T13:15:03.709Z"
   },
   {
    "duration": 2235,
    "start_time": "2023-03-21T13:15:46.396Z"
   },
   {
    "duration": 10,
    "start_time": "2023-03-21T13:15:48.634Z"
   },
   {
    "duration": 150,
    "start_time": "2023-03-21T13:15:48.648Z"
   },
   {
    "duration": 5,
    "start_time": "2023-03-21T13:15:48.800Z"
   },
   {
    "duration": 26,
    "start_time": "2023-03-21T13:15:48.806Z"
   },
   {
    "duration": 14,
    "start_time": "2023-03-21T13:15:48.834Z"
   },
   {
    "duration": 22,
    "start_time": "2023-03-21T13:15:48.850Z"
   },
   {
    "duration": 39,
    "start_time": "2023-03-21T13:15:48.874Z"
   },
   {
    "duration": 9,
    "start_time": "2023-03-21T13:15:48.918Z"
   },
   {
    "duration": 50,
    "start_time": "2023-03-21T13:15:48.929Z"
   },
   {
    "duration": 10,
    "start_time": "2023-03-21T13:15:48.981Z"
   },
   {
    "duration": 13,
    "start_time": "2023-03-21T13:15:48.993Z"
   },
   {
    "duration": 13,
    "start_time": "2023-03-21T13:15:49.008Z"
   },
   {
    "duration": 43,
    "start_time": "2023-03-21T13:15:49.023Z"
   },
   {
    "duration": 40,
    "start_time": "2023-03-21T13:15:49.068Z"
   },
   {
    "duration": 9,
    "start_time": "2023-03-21T13:15:49.110Z"
   },
   {
    "duration": 44,
    "start_time": "2023-03-21T13:15:49.121Z"
   },
   {
    "duration": 8,
    "start_time": "2023-03-21T13:15:49.167Z"
   },
   {
    "duration": 6,
    "start_time": "2023-03-21T13:15:49.177Z"
   },
   {
    "duration": 13,
    "start_time": "2023-03-21T13:15:49.185Z"
   },
   {
    "duration": 66,
    "start_time": "2023-03-21T13:15:49.200Z"
   },
   {
    "duration": 17,
    "start_time": "2023-03-21T13:15:49.268Z"
   },
   {
    "duration": 77,
    "start_time": "2023-03-21T13:15:49.288Z"
   },
   {
    "duration": 8,
    "start_time": "2023-03-21T13:15:49.367Z"
   },
   {
    "duration": 8,
    "start_time": "2023-03-21T13:15:49.377Z"
   },
   {
    "duration": 88,
    "start_time": "2023-03-21T13:15:49.387Z"
   },
   {
    "duration": 12,
    "start_time": "2023-03-21T13:15:49.481Z"
   },
   {
    "duration": 18,
    "start_time": "2023-03-21T13:15:49.495Z"
   },
   {
    "duration": 51,
    "start_time": "2023-03-21T13:15:49.515Z"
   },
   {
    "duration": 8,
    "start_time": "2023-03-21T13:15:49.570Z"
   },
   {
    "duration": 9,
    "start_time": "2023-03-21T13:15:49.580Z"
   },
   {
    "duration": 17,
    "start_time": "2023-03-21T13:15:49.592Z"
   },
   {
    "duration": 24,
    "start_time": "2023-03-21T13:15:49.611Z"
   },
   {
    "duration": 32,
    "start_time": "2023-03-21T13:15:49.637Z"
   },
   {
    "duration": 7,
    "start_time": "2023-03-21T13:15:49.672Z"
   },
   {
    "duration": 7,
    "start_time": "2023-03-21T13:15:49.681Z"
   },
   {
    "duration": 20,
    "start_time": "2023-03-21T13:15:49.690Z"
   },
   {
    "duration": 49,
    "start_time": "2023-03-21T13:15:49.712Z"
   },
   {
    "duration": 5,
    "start_time": "2023-03-21T13:15:49.764Z"
   },
   {
    "duration": 30,
    "start_time": "2023-03-21T13:15:49.772Z"
   },
   {
    "duration": 9,
    "start_time": "2023-03-21T13:15:49.805Z"
   },
   {
    "duration": 13,
    "start_time": "2023-03-21T13:15:49.817Z"
   },
   {
    "duration": 17,
    "start_time": "2023-03-21T13:15:49.832Z"
   },
   {
    "duration": 33,
    "start_time": "2023-03-21T13:15:49.852Z"
   },
   {
    "duration": 20,
    "start_time": "2023-03-21T13:15:49.887Z"
   },
   {
    "duration": 14,
    "start_time": "2023-03-21T13:15:49.910Z"
   },
   {
    "duration": 39,
    "start_time": "2023-03-21T13:15:49.926Z"
   },
   {
    "duration": 7,
    "start_time": "2023-03-21T13:15:49.968Z"
   },
   {
    "duration": 403,
    "start_time": "2023-03-21T13:15:49.978Z"
   },
   {
    "duration": 10,
    "start_time": "2023-03-21T13:15:50.383Z"
   },
   {
    "duration": 230,
    "start_time": "2023-03-21T13:15:50.396Z"
   },
   {
    "duration": 39,
    "start_time": "2023-03-21T13:15:50.629Z"
   },
   {
    "duration": 4,
    "start_time": "2023-03-21T13:15:50.671Z"
   },
   {
    "duration": 1677,
    "start_time": "2023-03-21T13:15:50.677Z"
   },
   {
    "duration": 9,
    "start_time": "2023-03-21T13:15:52.356Z"
   },
   {
    "duration": 38,
    "start_time": "2023-03-21T13:15:52.368Z"
   },
   {
    "duration": 6,
    "start_time": "2023-03-21T13:15:52.408Z"
   },
   {
    "duration": 9,
    "start_time": "2023-03-21T13:15:52.416Z"
   },
   {
    "duration": 422,
    "start_time": "2023-03-21T13:15:52.427Z"
   },
   {
    "duration": 3,
    "start_time": "2023-03-21T13:15:52.862Z"
   },
   {
    "duration": 10,
    "start_time": "2023-03-21T13:15:52.867Z"
   },
   {
    "duration": 26,
    "start_time": "2023-03-21T13:15:52.879Z"
   },
   {
    "duration": 5,
    "start_time": "2023-03-21T13:15:52.907Z"
   },
   {
    "duration": 5,
    "start_time": "2023-03-21T13:15:52.914Z"
   },
   {
    "duration": 6,
    "start_time": "2023-03-21T13:15:52.921Z"
   },
   {
    "duration": 34,
    "start_time": "2023-03-21T13:15:52.930Z"
   },
   {
    "duration": 122,
    "start_time": "2023-03-21T13:15:52.966Z"
   },
   {
    "duration": 133,
    "start_time": "2023-03-21T13:15:53.090Z"
   },
   {
    "duration": 114,
    "start_time": "2023-03-21T13:15:53.227Z"
   },
   {
    "duration": 141,
    "start_time": "2023-03-21T13:15:53.343Z"
   },
   {
    "duration": 21,
    "start_time": "2023-03-21T13:15:53.486Z"
   },
   {
    "duration": 2,
    "start_time": "2023-03-21T13:15:53.510Z"
   },
   {
    "duration": 174,
    "start_time": "2023-03-21T13:15:53.514Z"
   },
   {
    "duration": 7,
    "start_time": "2023-03-21T13:15:53.689Z"
   },
   {
    "duration": 23,
    "start_time": "2023-03-21T13:15:53.698Z"
   },
   {
    "duration": 6,
    "start_time": "2023-03-21T13:15:53.723Z"
   },
   {
    "duration": 9,
    "start_time": "2023-03-21T13:15:53.731Z"
   },
   {
    "duration": 4,
    "start_time": "2023-03-21T13:15:53.742Z"
   },
   {
    "duration": 39,
    "start_time": "2023-03-21T13:15:53.762Z"
   },
   {
    "duration": 6,
    "start_time": "2023-03-21T13:15:53.803Z"
   },
   {
    "duration": 9,
    "start_time": "2023-03-21T13:15:53.817Z"
   },
   {
    "duration": 35,
    "start_time": "2023-03-21T13:15:53.828Z"
   },
   {
    "duration": 9,
    "start_time": "2023-03-21T13:15:53.865Z"
   },
   {
    "duration": 1324,
    "start_time": "2023-03-21T13:15:53.876Z"
   },
   {
    "duration": 40582,
    "start_time": "2023-03-21T13:15:55.202Z"
   },
   {
    "duration": 4,
    "start_time": "2023-03-21T13:16:35.786Z"
   },
   {
    "duration": 1398151,
    "start_time": "2023-03-21T13:16:35.792Z"
   },
   {
    "duration": 4,
    "start_time": "2023-03-21T13:39:53.945Z"
   },
   {
    "duration": 2751,
    "start_time": "2023-03-21T13:46:59.903Z"
   },
   {
    "duration": 1916,
    "start_time": "2023-03-21T13:47:02.657Z"
   },
   {
    "duration": 276,
    "start_time": "2023-03-21T13:47:04.575Z"
   },
   {
    "duration": 5,
    "start_time": "2023-03-21T13:47:04.854Z"
   },
   {
    "duration": 27,
    "start_time": "2023-03-21T13:47:04.861Z"
   },
   {
    "duration": 21,
    "start_time": "2023-03-21T13:47:04.891Z"
   },
   {
    "duration": 24,
    "start_time": "2023-03-21T13:47:04.916Z"
   },
   {
    "duration": 69,
    "start_time": "2023-03-21T13:47:04.962Z"
   },
   {
    "duration": 12,
    "start_time": "2023-03-21T13:47:05.033Z"
   },
   {
    "duration": 16,
    "start_time": "2023-03-21T13:47:05.062Z"
   },
   {
    "duration": 10,
    "start_time": "2023-03-21T13:47:05.080Z"
   },
   {
    "duration": 10,
    "start_time": "2023-03-21T13:47:05.092Z"
   },
   {
    "duration": 23,
    "start_time": "2023-03-21T13:47:05.104Z"
   },
   {
    "duration": 41,
    "start_time": "2023-03-21T13:47:05.132Z"
   },
   {
    "duration": 61,
    "start_time": "2023-03-21T13:47:05.174Z"
   },
   {
    "duration": 9,
    "start_time": "2023-03-21T13:47:05.237Z"
   },
   {
    "duration": 7,
    "start_time": "2023-03-21T13:47:05.248Z"
   },
   {
    "duration": 11,
    "start_time": "2023-03-21T13:47:05.257Z"
   },
   {
    "duration": 5,
    "start_time": "2023-03-21T13:47:05.273Z"
   },
   {
    "duration": 28,
    "start_time": "2023-03-21T13:47:05.283Z"
   },
   {
    "duration": 14,
    "start_time": "2023-03-21T13:47:05.314Z"
   },
   {
    "duration": 35,
    "start_time": "2023-03-21T13:47:05.331Z"
   },
   {
    "duration": 58,
    "start_time": "2023-03-21T13:47:05.369Z"
   },
   {
    "duration": 8,
    "start_time": "2023-03-21T13:47:05.429Z"
   },
   {
    "duration": 13,
    "start_time": "2023-03-21T13:47:05.439Z"
   },
   {
    "duration": 15,
    "start_time": "2023-03-21T13:47:05.454Z"
   },
   {
    "duration": 12,
    "start_time": "2023-03-21T13:47:05.471Z"
   },
   {
    "duration": 24,
    "start_time": "2023-03-21T13:47:05.492Z"
   },
   {
    "duration": 18,
    "start_time": "2023-03-21T13:47:05.519Z"
   },
   {
    "duration": 12,
    "start_time": "2023-03-21T13:47:05.570Z"
   },
   {
    "duration": 9,
    "start_time": "2023-03-21T13:47:05.584Z"
   },
   {
    "duration": 13,
    "start_time": "2023-03-21T13:47:05.596Z"
   },
   {
    "duration": 8,
    "start_time": "2023-03-21T13:47:05.611Z"
   },
   {
    "duration": 30,
    "start_time": "2023-03-21T13:47:05.626Z"
   },
   {
    "duration": 14,
    "start_time": "2023-03-21T13:47:05.658Z"
   },
   {
    "duration": 12,
    "start_time": "2023-03-21T13:47:05.674Z"
   },
   {
    "duration": 25,
    "start_time": "2023-03-21T13:47:05.688Z"
   },
   {
    "duration": 6,
    "start_time": "2023-03-21T13:47:05.715Z"
   },
   {
    "duration": 7,
    "start_time": "2023-03-21T13:47:05.723Z"
   },
   {
    "duration": 33,
    "start_time": "2023-03-21T13:47:05.731Z"
   },
   {
    "duration": 20,
    "start_time": "2023-03-21T13:47:05.766Z"
   },
   {
    "duration": 12,
    "start_time": "2023-03-21T13:47:05.787Z"
   },
   {
    "duration": 11,
    "start_time": "2023-03-21T13:47:05.801Z"
   },
   {
    "duration": 47,
    "start_time": "2023-03-21T13:47:05.814Z"
   },
   {
    "duration": 23,
    "start_time": "2023-03-21T13:47:05.864Z"
   },
   {
    "duration": 14,
    "start_time": "2023-03-21T13:47:05.889Z"
   },
   {
    "duration": 7,
    "start_time": "2023-03-21T13:47:05.905Z"
   },
   {
    "duration": 7,
    "start_time": "2023-03-21T13:47:05.915Z"
   },
   {
    "duration": 385,
    "start_time": "2023-03-21T13:47:05.924Z"
   },
   {
    "duration": 12,
    "start_time": "2023-03-21T13:47:06.310Z"
   },
   {
    "duration": 97,
    "start_time": "2023-03-21T13:47:06.324Z"
   },
   {
    "duration": 17,
    "start_time": "2023-03-21T13:47:06.427Z"
   },
   {
    "duration": 3,
    "start_time": "2023-03-21T13:47:06.447Z"
   },
   {
    "duration": 2113,
    "start_time": "2023-03-21T13:47:06.468Z"
   },
   {
    "duration": 8,
    "start_time": "2023-03-21T13:47:08.591Z"
   },
   {
    "duration": 32,
    "start_time": "2023-03-21T13:47:08.604Z"
   },
   {
    "duration": 6,
    "start_time": "2023-03-21T13:47:08.639Z"
   },
   {
    "duration": 12,
    "start_time": "2023-03-21T13:47:08.646Z"
   },
   {
    "duration": 569,
    "start_time": "2023-03-21T13:47:08.660Z"
   },
   {
    "duration": 4,
    "start_time": "2023-03-21T13:47:09.231Z"
   },
   {
    "duration": 27,
    "start_time": "2023-03-21T13:47:09.237Z"
   },
   {
    "duration": 16,
    "start_time": "2023-03-21T13:47:09.266Z"
   },
   {
    "duration": 7,
    "start_time": "2023-03-21T13:47:09.284Z"
   },
   {
    "duration": 8,
    "start_time": "2023-03-21T13:47:09.293Z"
   },
   {
    "duration": 48,
    "start_time": "2023-03-21T13:47:09.303Z"
   },
   {
    "duration": 5,
    "start_time": "2023-03-21T13:47:09.352Z"
   },
   {
    "duration": 185,
    "start_time": "2023-03-21T13:47:09.359Z"
   },
   {
    "duration": 140,
    "start_time": "2023-03-21T13:47:09.547Z"
   },
   {
    "duration": 147,
    "start_time": "2023-03-21T13:47:09.690Z"
   },
   {
    "duration": 133,
    "start_time": "2023-03-21T13:47:09.839Z"
   },
   {
    "duration": 37,
    "start_time": "2023-03-21T13:47:09.974Z"
   },
   {
    "duration": 2,
    "start_time": "2023-03-21T13:47:10.013Z"
   },
   {
    "duration": 181,
    "start_time": "2023-03-21T13:47:10.017Z"
   },
   {
    "duration": 6,
    "start_time": "2023-03-21T13:47:10.206Z"
   },
   {
    "duration": 8,
    "start_time": "2023-03-21T13:47:10.215Z"
   },
   {
    "duration": 9,
    "start_time": "2023-03-21T13:47:10.226Z"
   },
   {
    "duration": 25,
    "start_time": "2023-03-21T13:47:10.237Z"
   },
   {
    "duration": 12,
    "start_time": "2023-03-21T13:47:10.265Z"
   },
   {
    "duration": 65,
    "start_time": "2023-03-21T13:47:10.279Z"
   },
   {
    "duration": 16,
    "start_time": "2023-03-21T13:47:10.347Z"
   },
   {
    "duration": 4,
    "start_time": "2023-03-21T13:47:10.365Z"
   },
   {
    "duration": 19,
    "start_time": "2023-03-21T13:47:10.382Z"
   },
   {
    "duration": 13,
    "start_time": "2023-03-21T13:47:10.403Z"
   },
   {
    "duration": 117,
    "start_time": "2023-03-21T13:47:10.418Z"
   },
   {
    "duration": 0,
    "start_time": "2023-03-21T13:47:10.537Z"
   },
   {
    "duration": 0,
    "start_time": "2023-03-21T13:47:10.538Z"
   },
   {
    "duration": 0,
    "start_time": "2023-03-21T13:47:10.540Z"
   },
   {
    "duration": 0,
    "start_time": "2023-03-21T13:47:10.541Z"
   },
   {
    "duration": 0,
    "start_time": "2023-03-21T13:47:10.542Z"
   },
   {
    "duration": 0,
    "start_time": "2023-03-21T13:47:10.543Z"
   },
   {
    "duration": 0,
    "start_time": "2023-03-21T13:47:10.545Z"
   },
   {
    "duration": 0,
    "start_time": "2023-03-21T13:47:10.546Z"
   },
   {
    "duration": 0,
    "start_time": "2023-03-21T13:47:10.547Z"
   },
   {
    "duration": 0,
    "start_time": "2023-03-21T13:47:10.549Z"
   },
   {
    "duration": 0,
    "start_time": "2023-03-21T13:47:10.550Z"
   },
   {
    "duration": 0,
    "start_time": "2023-03-21T13:47:10.551Z"
   },
   {
    "duration": 1795,
    "start_time": "2023-03-21T13:49:45.930Z"
   },
   {
    "duration": 5740,
    "start_time": "2023-03-21T13:50:16.505Z"
   },
   {
    "duration": 177,
    "start_time": "2023-03-21T13:50:54.256Z"
   },
   {
    "duration": 111,
    "start_time": "2023-03-21T13:51:23.038Z"
   },
   {
    "duration": 1654,
    "start_time": "2023-03-21T13:51:33.732Z"
   },
   {
    "duration": 1406,
    "start_time": "2023-03-21T13:51:47.330Z"
   },
   {
    "duration": 4155,
    "start_time": "2023-03-21T13:53:15.949Z"
   },
   {
    "duration": 105936,
    "start_time": "2023-03-21T13:56:27.035Z"
   },
   {
    "duration": 2627,
    "start_time": "2023-03-21T14:00:29.090Z"
   },
   {
    "duration": 10,
    "start_time": "2023-03-21T14:00:31.721Z"
   },
   {
    "duration": 190,
    "start_time": "2023-03-21T14:00:31.732Z"
   },
   {
    "duration": 7,
    "start_time": "2023-03-21T14:00:31.924Z"
   },
   {
    "duration": 19,
    "start_time": "2023-03-21T14:00:31.935Z"
   },
   {
    "duration": 20,
    "start_time": "2023-03-21T14:00:31.957Z"
   },
   {
    "duration": 23,
    "start_time": "2023-03-21T14:00:31.985Z"
   },
   {
    "duration": 59,
    "start_time": "2023-03-21T14:00:32.010Z"
   },
   {
    "duration": 14,
    "start_time": "2023-03-21T14:00:32.077Z"
   },
   {
    "duration": 8,
    "start_time": "2023-03-21T14:00:32.095Z"
   },
   {
    "duration": 5,
    "start_time": "2023-03-21T14:00:32.105Z"
   },
   {
    "duration": 12,
    "start_time": "2023-03-21T14:00:32.112Z"
   },
   {
    "duration": 48,
    "start_time": "2023-03-21T14:00:32.127Z"
   },
   {
    "duration": 18,
    "start_time": "2023-03-21T14:00:32.187Z"
   },
   {
    "duration": 27,
    "start_time": "2023-03-21T14:00:32.208Z"
   },
   {
    "duration": 35,
    "start_time": "2023-03-21T14:00:32.237Z"
   },
   {
    "duration": 28,
    "start_time": "2023-03-21T14:00:32.277Z"
   },
   {
    "duration": 27,
    "start_time": "2023-03-21T14:00:32.308Z"
   },
   {
    "duration": 15,
    "start_time": "2023-03-21T14:00:32.337Z"
   },
   {
    "duration": 13,
    "start_time": "2023-03-21T14:00:32.354Z"
   },
   {
    "duration": 16,
    "start_time": "2023-03-21T14:00:32.369Z"
   },
   {
    "duration": 15,
    "start_time": "2023-03-21T14:00:32.386Z"
   },
   {
    "duration": 30,
    "start_time": "2023-03-21T14:00:32.403Z"
   },
   {
    "duration": 32,
    "start_time": "2023-03-21T14:00:32.435Z"
   },
   {
    "duration": 21,
    "start_time": "2023-03-21T14:00:32.468Z"
   },
   {
    "duration": 15,
    "start_time": "2023-03-21T14:00:32.492Z"
   },
   {
    "duration": 10,
    "start_time": "2023-03-21T14:00:32.509Z"
   },
   {
    "duration": 16,
    "start_time": "2023-03-21T14:00:32.521Z"
   },
   {
    "duration": 22,
    "start_time": "2023-03-21T14:00:32.565Z"
   },
   {
    "duration": 9,
    "start_time": "2023-03-21T14:00:32.588Z"
   },
   {
    "duration": 16,
    "start_time": "2023-03-21T14:00:32.602Z"
   },
   {
    "duration": 8,
    "start_time": "2023-03-21T14:00:32.621Z"
   },
   {
    "duration": 35,
    "start_time": "2023-03-21T14:00:32.631Z"
   },
   {
    "duration": 19,
    "start_time": "2023-03-21T14:00:32.668Z"
   },
   {
    "duration": 8,
    "start_time": "2023-03-21T14:00:32.690Z"
   },
   {
    "duration": 9,
    "start_time": "2023-03-21T14:00:32.700Z"
   },
   {
    "duration": 29,
    "start_time": "2023-03-21T14:00:32.711Z"
   },
   {
    "duration": 9,
    "start_time": "2023-03-21T14:00:32.764Z"
   },
   {
    "duration": 5,
    "start_time": "2023-03-21T14:00:32.776Z"
   },
   {
    "duration": 8,
    "start_time": "2023-03-21T14:00:32.784Z"
   },
   {
    "duration": 5,
    "start_time": "2023-03-21T14:00:32.801Z"
   },
   {
    "duration": 5,
    "start_time": "2023-03-21T14:00:32.808Z"
   },
   {
    "duration": 48,
    "start_time": "2023-03-21T14:00:32.815Z"
   },
   {
    "duration": 51,
    "start_time": "2023-03-21T14:00:32.865Z"
   },
   {
    "duration": 28,
    "start_time": "2023-03-21T14:00:32.919Z"
   },
   {
    "duration": 13,
    "start_time": "2023-03-21T14:00:32.966Z"
   },
   {
    "duration": 6,
    "start_time": "2023-03-21T14:00:32.984Z"
   },
   {
    "duration": 7,
    "start_time": "2023-03-21T14:00:32.992Z"
   },
   {
    "duration": 400,
    "start_time": "2023-03-21T14:00:33.001Z"
   },
   {
    "duration": 12,
    "start_time": "2023-03-21T14:00:33.403Z"
   },
   {
    "duration": 102,
    "start_time": "2023-03-21T14:00:33.417Z"
   },
   {
    "duration": 22,
    "start_time": "2023-03-21T14:00:33.521Z"
   },
   {
    "duration": 22,
    "start_time": "2023-03-21T14:00:33.546Z"
   },
   {
    "duration": 2104,
    "start_time": "2023-03-21T14:00:33.572Z"
   },
   {
    "duration": 7,
    "start_time": "2023-03-21T14:00:35.678Z"
   },
   {
    "duration": 25,
    "start_time": "2023-03-21T14:00:35.687Z"
   },
   {
    "duration": 20,
    "start_time": "2023-03-21T14:00:35.715Z"
   },
   {
    "duration": 14,
    "start_time": "2023-03-21T14:00:35.737Z"
   },
   {
    "duration": 525,
    "start_time": "2023-03-21T14:00:35.753Z"
   },
   {
    "duration": 7,
    "start_time": "2023-03-21T14:00:36.282Z"
   },
   {
    "duration": 10,
    "start_time": "2023-03-21T14:00:36.291Z"
   },
   {
    "duration": 19,
    "start_time": "2023-03-21T14:00:36.303Z"
   },
   {
    "duration": 5,
    "start_time": "2023-03-21T14:00:36.324Z"
   },
   {
    "duration": 32,
    "start_time": "2023-03-21T14:00:36.331Z"
   },
   {
    "duration": 6,
    "start_time": "2023-03-21T14:00:36.366Z"
   },
   {
    "duration": 11,
    "start_time": "2023-03-21T14:00:36.374Z"
   },
   {
    "duration": 148,
    "start_time": "2023-03-21T14:00:36.387Z"
   },
   {
    "duration": 143,
    "start_time": "2023-03-21T14:00:36.537Z"
   },
   {
    "duration": 120,
    "start_time": "2023-03-21T14:00:36.685Z"
   },
   {
    "duration": 125,
    "start_time": "2023-03-21T14:00:36.808Z"
   },
   {
    "duration": 55,
    "start_time": "2023-03-21T14:00:36.935Z"
   },
   {
    "duration": 4,
    "start_time": "2023-03-21T14:00:36.994Z"
   },
   {
    "duration": 148,
    "start_time": "2023-03-21T14:00:37.001Z"
   },
   {
    "duration": 22,
    "start_time": "2023-03-21T14:00:37.152Z"
   },
   {
    "duration": 13,
    "start_time": "2023-03-21T14:00:37.178Z"
   },
   {
    "duration": 3,
    "start_time": "2023-03-21T14:00:37.192Z"
   },
   {
    "duration": 11,
    "start_time": "2023-03-21T14:00:37.197Z"
   },
   {
    "duration": 26,
    "start_time": "2023-03-21T14:00:37.210Z"
   },
   {
    "duration": 54,
    "start_time": "2023-03-21T14:00:37.238Z"
   },
   {
    "duration": 8,
    "start_time": "2023-03-21T14:00:37.295Z"
   },
   {
    "duration": 13,
    "start_time": "2023-03-21T14:00:37.306Z"
   },
   {
    "duration": 42,
    "start_time": "2023-03-21T14:00:37.322Z"
   },
   {
    "duration": 5488,
    "start_time": "2023-03-21T14:00:37.380Z"
   },
   {
    "duration": 2505,
    "start_time": "2023-03-21T14:01:20.892Z"
   },
   {
    "duration": 1587,
    "start_time": "2023-03-21T14:01:23.399Z"
   },
   {
    "duration": 156,
    "start_time": "2023-03-21T14:01:24.990Z"
   },
   {
    "duration": 7,
    "start_time": "2023-03-21T14:01:25.148Z"
   },
   {
    "duration": 24,
    "start_time": "2023-03-21T14:01:25.157Z"
   },
   {
    "duration": 20,
    "start_time": "2023-03-21T14:01:25.184Z"
   },
   {
    "duration": 21,
    "start_time": "2023-03-21T14:01:25.206Z"
   },
   {
    "duration": 91,
    "start_time": "2023-03-21T14:01:25.229Z"
   },
   {
    "duration": 10,
    "start_time": "2023-03-21T14:01:25.322Z"
   },
   {
    "duration": 34,
    "start_time": "2023-03-21T14:01:25.335Z"
   },
   {
    "duration": 12,
    "start_time": "2023-03-21T14:01:25.371Z"
   },
   {
    "duration": 14,
    "start_time": "2023-03-21T14:01:25.386Z"
   },
   {
    "duration": 11,
    "start_time": "2023-03-21T14:01:25.402Z"
   },
   {
    "duration": 23,
    "start_time": "2023-03-21T14:01:25.416Z"
   },
   {
    "duration": 51,
    "start_time": "2023-03-21T14:01:25.441Z"
   },
   {
    "duration": 7,
    "start_time": "2023-03-21T14:01:25.494Z"
   },
   {
    "duration": 8,
    "start_time": "2023-03-21T14:01:25.503Z"
   },
   {
    "duration": 10,
    "start_time": "2023-03-21T14:01:25.515Z"
   },
   {
    "duration": 11,
    "start_time": "2023-03-21T14:01:25.565Z"
   },
   {
    "duration": 19,
    "start_time": "2023-03-21T14:01:25.578Z"
   },
   {
    "duration": 15,
    "start_time": "2023-03-21T14:01:25.599Z"
   },
   {
    "duration": 17,
    "start_time": "2023-03-21T14:01:25.616Z"
   },
   {
    "duration": 78,
    "start_time": "2023-03-21T14:01:25.636Z"
   },
   {
    "duration": 6,
    "start_time": "2023-03-21T14:01:25.716Z"
   },
   {
    "duration": 15,
    "start_time": "2023-03-21T14:01:25.724Z"
   },
   {
    "duration": 23,
    "start_time": "2023-03-21T14:01:25.741Z"
   },
   {
    "duration": 8,
    "start_time": "2023-03-21T14:01:25.766Z"
   },
   {
    "duration": 15,
    "start_time": "2023-03-21T14:01:25.781Z"
   },
   {
    "duration": 18,
    "start_time": "2023-03-21T14:01:25.798Z"
   },
   {
    "duration": 6,
    "start_time": "2023-03-21T14:01:25.818Z"
   },
   {
    "duration": 10,
    "start_time": "2023-03-21T14:01:25.864Z"
   },
   {
    "duration": 6,
    "start_time": "2023-03-21T14:01:25.877Z"
   },
   {
    "duration": 8,
    "start_time": "2023-03-21T14:01:25.887Z"
   },
   {
    "duration": 9,
    "start_time": "2023-03-21T14:01:25.897Z"
   },
   {
    "duration": 4,
    "start_time": "2023-03-21T14:01:25.908Z"
   },
   {
    "duration": 11,
    "start_time": "2023-03-21T14:01:25.914Z"
   },
   {
    "duration": 58,
    "start_time": "2023-03-21T14:01:25.927Z"
   },
   {
    "duration": 4,
    "start_time": "2023-03-21T14:01:25.988Z"
   },
   {
    "duration": 5,
    "start_time": "2023-03-21T14:01:25.994Z"
   },
   {
    "duration": 5,
    "start_time": "2023-03-21T14:01:26.001Z"
   },
   {
    "duration": 6,
    "start_time": "2023-03-21T14:01:26.008Z"
   },
   {
    "duration": 5,
    "start_time": "2023-03-21T14:01:26.016Z"
   },
   {
    "duration": 42,
    "start_time": "2023-03-21T14:01:26.023Z"
   },
   {
    "duration": 32,
    "start_time": "2023-03-21T14:01:26.067Z"
   },
   {
    "duration": 23,
    "start_time": "2023-03-21T14:01:26.101Z"
   },
   {
    "duration": 38,
    "start_time": "2023-03-21T14:01:26.126Z"
   },
   {
    "duration": 8,
    "start_time": "2023-03-21T14:01:26.168Z"
   },
   {
    "duration": 8,
    "start_time": "2023-03-21T14:01:26.181Z"
   },
   {
    "duration": 327,
    "start_time": "2023-03-21T14:01:26.191Z"
   },
   {
    "duration": 7,
    "start_time": "2023-03-21T14:01:26.520Z"
   },
   {
    "duration": 101,
    "start_time": "2023-03-21T14:01:26.529Z"
   },
   {
    "duration": 36,
    "start_time": "2023-03-21T14:01:26.632Z"
   },
   {
    "duration": 4,
    "start_time": "2023-03-21T14:01:26.669Z"
   },
   {
    "duration": 1770,
    "start_time": "2023-03-21T14:01:26.675Z"
   },
   {
    "duration": 18,
    "start_time": "2023-03-21T14:01:28.447Z"
   },
   {
    "duration": 26,
    "start_time": "2023-03-21T14:01:28.468Z"
   },
   {
    "duration": 7,
    "start_time": "2023-03-21T14:01:28.498Z"
   },
   {
    "duration": 6,
    "start_time": "2023-03-21T14:01:28.508Z"
   },
   {
    "duration": 539,
    "start_time": "2023-03-21T14:01:28.516Z"
   },
   {
    "duration": 13,
    "start_time": "2023-03-21T14:01:29.060Z"
   },
   {
    "duration": 54,
    "start_time": "2023-03-21T14:01:29.081Z"
   },
   {
    "duration": 58,
    "start_time": "2023-03-21T14:01:29.137Z"
   },
   {
    "duration": 31,
    "start_time": "2023-03-21T14:01:29.197Z"
   },
   {
    "duration": 8,
    "start_time": "2023-03-21T14:01:29.229Z"
   },
   {
    "duration": 10,
    "start_time": "2023-03-21T14:01:29.239Z"
   },
   {
    "duration": 23,
    "start_time": "2023-03-21T14:01:29.251Z"
   },
   {
    "duration": 116,
    "start_time": "2023-03-21T14:01:29.276Z"
   },
   {
    "duration": 131,
    "start_time": "2023-03-21T14:01:29.395Z"
   },
   {
    "duration": 144,
    "start_time": "2023-03-21T14:01:29.529Z"
   },
   {
    "duration": 137,
    "start_time": "2023-03-21T14:01:29.675Z"
   },
   {
    "duration": 28,
    "start_time": "2023-03-21T14:01:29.814Z"
   },
   {
    "duration": 17,
    "start_time": "2023-03-21T14:01:29.845Z"
   },
   {
    "duration": 240,
    "start_time": "2023-03-21T14:01:29.864Z"
   },
   {
    "duration": 8,
    "start_time": "2023-03-21T14:01:30.106Z"
   },
   {
    "duration": 16,
    "start_time": "2023-03-21T14:01:30.117Z"
   },
   {
    "duration": 50,
    "start_time": "2023-03-21T14:01:30.135Z"
   },
   {
    "duration": 23,
    "start_time": "2023-03-21T14:01:30.187Z"
   },
   {
    "duration": 34,
    "start_time": "2023-03-21T14:01:30.212Z"
   },
   {
    "duration": 108,
    "start_time": "2023-03-21T14:01:30.247Z"
   },
   {
    "duration": 36,
    "start_time": "2023-03-21T14:01:30.358Z"
   },
   {
    "duration": 25,
    "start_time": "2023-03-21T14:01:30.405Z"
   },
   {
    "duration": 49,
    "start_time": "2023-03-21T14:01:30.440Z"
   },
   {
    "duration": 5462,
    "start_time": "2023-03-21T14:01:30.493Z"
   },
   {
    "duration": 40156,
    "start_time": "2023-03-21T14:01:35.957Z"
   },
   {
    "duration": 4,
    "start_time": "2023-03-21T14:02:16.115Z"
   },
   {
    "duration": 1303851,
    "start_time": "2023-03-21T14:02:16.122Z"
   },
   {
    "duration": 4,
    "start_time": "2023-03-21T14:23:59.975Z"
   },
   {
    "duration": 1503120,
    "start_time": "2023-03-21T14:23:59.981Z"
   },
   {
    "duration": 3,
    "start_time": "2023-03-21T14:49:03.103Z"
   },
   {
    "duration": 36,
    "start_time": "2023-03-21T14:49:03.108Z"
   },
   {
    "duration": 212,
    "start_time": "2023-03-21T14:49:03.146Z"
   },
   {
    "duration": 0,
    "start_time": "2023-03-21T14:49:03.360Z"
   },
   {
    "duration": 0,
    "start_time": "2023-03-21T14:49:03.366Z"
   },
   {
    "duration": 109,
    "start_time": "2023-03-21T14:49:44.017Z"
   },
   {
    "duration": 94,
    "start_time": "2023-03-21T14:50:16.687Z"
   },
   {
    "duration": 11,
    "start_time": "2023-03-21T14:50:20.923Z"
   },
   {
    "duration": 103,
    "start_time": "2023-03-21T14:52:44.045Z"
   },
   {
    "duration": 111,
    "start_time": "2023-03-21T14:53:35.141Z"
   },
   {
    "duration": 95,
    "start_time": "2023-03-21T14:55:24.983Z"
   },
   {
    "duration": 84,
    "start_time": "2023-03-21T14:56:18.097Z"
   },
   {
    "duration": 10,
    "start_time": "2023-03-21T14:56:44.498Z"
   },
   {
    "duration": 12,
    "start_time": "2023-03-21T14:56:48.681Z"
   },
   {
    "duration": 11,
    "start_time": "2023-03-21T14:57:39.894Z"
   },
   {
    "duration": 13,
    "start_time": "2023-03-21T14:57:55.100Z"
   },
   {
    "duration": 3,
    "start_time": "2023-03-21T14:58:07.304Z"
   },
   {
    "duration": 131,
    "start_time": "2023-03-21T14:59:35.249Z"
   },
   {
    "duration": 5,
    "start_time": "2023-03-21T15:12:54.333Z"
   },
   {
    "duration": 11,
    "start_time": "2023-03-21T15:14:14.818Z"
   },
   {
    "duration": 12,
    "start_time": "2023-03-21T15:15:41.557Z"
   },
   {
    "duration": 11,
    "start_time": "2023-03-21T15:16:31.607Z"
   },
   {
    "duration": 91,
    "start_time": "2023-03-21T15:19:53.852Z"
   },
   {
    "duration": 86,
    "start_time": "2023-03-21T15:20:44.926Z"
   },
   {
    "duration": 98,
    "start_time": "2023-03-21T15:22:55.091Z"
   },
   {
    "duration": 89,
    "start_time": "2023-03-21T15:23:36.165Z"
   },
   {
    "duration": 105,
    "start_time": "2023-03-21T15:24:09.449Z"
   },
   {
    "duration": 100,
    "start_time": "2023-03-21T15:25:16.781Z"
   },
   {
    "duration": 88,
    "start_time": "2023-03-21T15:25:43.153Z"
   },
   {
    "duration": 110,
    "start_time": "2023-03-21T15:26:09.615Z"
   },
   {
    "duration": 91,
    "start_time": "2023-03-21T15:27:43.712Z"
   },
   {
    "duration": 91,
    "start_time": "2023-03-21T15:27:51.645Z"
   },
   {
    "duration": 95,
    "start_time": "2023-03-21T15:32:05.425Z"
   },
   {
    "duration": 104,
    "start_time": "2023-03-21T15:32:13.973Z"
   },
   {
    "duration": 13,
    "start_time": "2023-03-21T15:34:00.309Z"
   },
   {
    "duration": 99,
    "start_time": "2023-03-21T15:40:55.491Z"
   },
   {
    "duration": 101,
    "start_time": "2023-03-21T15:41:03.926Z"
   },
   {
    "duration": 20,
    "start_time": "2023-03-21T15:52:17.121Z"
   },
   {
    "duration": 7,
    "start_time": "2023-03-21T16:22:38.295Z"
   },
   {
    "duration": 12,
    "start_time": "2023-03-21T16:27:50.841Z"
   },
   {
    "duration": 23,
    "start_time": "2023-03-21T16:32:44.155Z"
   },
   {
    "duration": 16,
    "start_time": "2023-03-21T16:32:49.832Z"
   },
   {
    "duration": 106,
    "start_time": "2023-03-21T16:37:00.517Z"
   },
   {
    "duration": 110,
    "start_time": "2023-03-21T16:37:28.328Z"
   },
   {
    "duration": 104,
    "start_time": "2023-03-21T16:37:35.754Z"
   },
   {
    "duration": 104,
    "start_time": "2023-03-21T16:37:46.916Z"
   },
   {
    "duration": 112,
    "start_time": "2023-03-21T16:38:39.628Z"
   },
   {
    "duration": 12,
    "start_time": "2023-03-21T16:43:10.996Z"
   },
   {
    "duration": 36,
    "start_time": "2023-03-21T16:52:04.147Z"
   },
   {
    "duration": 11,
    "start_time": "2023-03-21T16:52:36.506Z"
   },
   {
    "duration": 13,
    "start_time": "2023-03-21T16:53:09.747Z"
   },
   {
    "duration": 11,
    "start_time": "2023-03-21T16:53:16.040Z"
   },
   {
    "duration": 3,
    "start_time": "2023-03-21T16:53:22.296Z"
   },
   {
    "duration": 13,
    "start_time": "2023-03-21T16:53:27.292Z"
   },
   {
    "duration": 13,
    "start_time": "2023-03-21T16:54:12.796Z"
   },
   {
    "duration": 12,
    "start_time": "2023-03-21T16:57:00.947Z"
   },
   {
    "duration": 11,
    "start_time": "2023-03-21T16:57:07.797Z"
   },
   {
    "duration": 49,
    "start_time": "2023-03-21T16:58:29.232Z"
   },
   {
    "duration": 15,
    "start_time": "2023-03-21T16:58:48.643Z"
   },
   {
    "duration": 6,
    "start_time": "2023-03-21T16:59:00.139Z"
   },
   {
    "duration": 20,
    "start_time": "2023-03-21T17:00:14.056Z"
   },
   {
    "duration": 24,
    "start_time": "2023-03-21T17:11:37.615Z"
   },
   {
    "duration": 17,
    "start_time": "2023-03-21T17:11:53.127Z"
   },
   {
    "duration": 16,
    "start_time": "2023-03-21T17:15:27.624Z"
   },
   {
    "duration": 24,
    "start_time": "2023-03-21T17:18:13.859Z"
   },
   {
    "duration": 6,
    "start_time": "2023-03-21T17:24:07.949Z"
   },
   {
    "duration": 14,
    "start_time": "2023-03-21T17:24:10.725Z"
   },
   {
    "duration": 13,
    "start_time": "2023-03-21T17:24:15.237Z"
   },
   {
    "duration": 13,
    "start_time": "2023-03-21T17:24:19.611Z"
   },
   {
    "duration": 13,
    "start_time": "2023-03-21T17:33:10.410Z"
   },
   {
    "duration": 29,
    "start_time": "2023-03-21T17:33:17.863Z"
   },
   {
    "duration": 15,
    "start_time": "2023-03-21T17:35:12.602Z"
   },
   {
    "duration": 16,
    "start_time": "2023-03-21T17:35:22.194Z"
   },
   {
    "duration": 16,
    "start_time": "2023-03-21T17:36:42.436Z"
   },
   {
    "duration": 15,
    "start_time": "2023-03-21T17:37:20.310Z"
   },
   {
    "duration": 14,
    "start_time": "2023-03-21T17:37:47.821Z"
   },
   {
    "duration": 17,
    "start_time": "2023-03-21T17:38:01.415Z"
   },
   {
    "duration": 25,
    "start_time": "2023-03-21T17:41:06.744Z"
   },
   {
    "duration": 15,
    "start_time": "2023-03-21T17:42:50.197Z"
   },
   {
    "duration": 159,
    "start_time": "2023-03-21T17:48:06.096Z"
   },
   {
    "duration": 12,
    "start_time": "2023-03-21T18:08:32.486Z"
   },
   {
    "duration": 3870,
    "start_time": "2023-03-21T18:09:33.617Z"
   },
   {
    "duration": 13,
    "start_time": "2023-03-21T18:14:19.157Z"
   },
   {
    "duration": 109,
    "start_time": "2023-03-21T18:16:46.357Z"
   },
   {
    "duration": 11,
    "start_time": "2023-03-21T18:17:37.158Z"
   },
   {
    "duration": 120,
    "start_time": "2023-03-21T18:17:52.731Z"
   },
   {
    "duration": 102,
    "start_time": "2023-03-21T18:21:20.585Z"
   },
   {
    "duration": 89,
    "start_time": "2023-03-21T18:24:37.598Z"
   },
   {
    "duration": 122,
    "start_time": "2023-03-21T18:24:53.998Z"
   },
   {
    "duration": 129,
    "start_time": "2023-03-21T18:25:03.080Z"
   },
   {
    "duration": 86,
    "start_time": "2023-03-21T18:26:23.585Z"
   },
   {
    "duration": 112,
    "start_time": "2023-03-21T18:27:52.133Z"
   },
   {
    "duration": 100,
    "start_time": "2023-03-21T18:28:34.993Z"
   },
   {
    "duration": 91,
    "start_time": "2023-03-21T18:30:02.696Z"
   },
   {
    "duration": 3716,
    "start_time": "2023-03-22T07:11:35.853Z"
   }
  ],
  "language_info": {
   "codemirror_mode": {
    "name": "ipython",
    "version": 3
   },
   "file_extension": ".py",
   "mimetype": "text/x-python",
   "name": "python",
   "nbconvert_exporter": "python",
   "pygments_lexer": "ipython3",
   "version": "3.7.7"
  },
  "notebookId": "688f255d-4ac1-4be3-87f3-c32b6fd61095",
  "notebookPath": "YANDEX/4.Проект Телеком.ipynb",
  "toc": {
   "base_numbering": 1,
   "nav_menu": {},
   "number_sections": true,
   "sideBar": true,
   "skip_h1_title": true,
   "title_cell": "Table of Contents",
   "title_sidebar": "Contents",
   "toc_cell": false,
   "toc_position": {},
   "toc_section_display": true,
   "toc_window_display": true
  }
 },
 "nbformat": 4,
 "nbformat_minor": 4
}
